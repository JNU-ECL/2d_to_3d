{
 "cells": [
  {
   "cell_type": "code",
   "execution_count": 1,
   "metadata": {},
   "outputs": [
    {
     "name": "stderr",
     "output_type": "stream",
     "text": [
      "/opt/conda/lib/python3.10/site-packages/tqdm/auto.py:22: TqdmWarning: IProgress not found. Please update jupyter and ipywidgets. See https://ipywidgets.readthedocs.io/en/stable/user_install.html\n",
      "  from .autonotebook import tqdm as notebook_tqdm\n"
     ]
    }
   ],
   "source": [
    "# Copyright (c) Facebook, Inc. and its affiliates. All Rights Reserved\n",
    "# -*- coding: utf-8 -*-\n",
    "\"\"\"\n",
    "Demo code\n",
    "\n",
    "@author: Denis Tome'\n",
    "\n",
    "\"\"\"\n",
    "from torch.utils.data import DataLoader\n",
    "import torch\n",
    "from torchvision import transforms\n",
    "from base import SetType\n",
    "import multiprocessing\n",
    "from mocap import Mocap\n",
    "from utils import config, ConsoleLogger\n",
    "from utils import evaluate, io\n",
    "from model import TempModel\n",
    "from model_xregopose import xR_egoposemodel\n",
    "from model_mo2cap2 import mo2cap_ours\n",
    "from tqdm import tqdm\n",
    "import os\n",
    "\n",
    "LOGGER = ConsoleLogger(\"Main\")\n",
    "use_cuda = torch.cuda.is_available()\n",
    "device = torch.device(\"cuda\" if use_cuda else \"cpu\")\n"
   ]
  },
  {
   "cell_type": "code",
   "execution_count": 2,
   "metadata": {},
   "outputs": [],
   "source": [
    "from torchvision.transforms.functional import to_pil_image\n",
    "import numpy as np\n",
    "import platform\n",
    "import matplotlib.pyplot as plt\n",
    "from utils import config\n",
    "import wandb\n",
    "split_token = '/' if 'Linux' in platform.platform() else '\\\\'"
   ]
  },
  {
   "cell_type": "code",
   "execution_count": 3,
   "metadata": {},
   "outputs": [],
   "source": [
    "\n",
    "def joint_3d_viewer(input_images, joints, labels, infos):\n",
    "\tcolors = plt.cm.jet(np.linspace(0, 1, 16))\n",
    "\ttemp_input_images = input_images.clone().detach().cpu()\n",
    "\ttemp_labels = labels.clone().detach().cpu() \n",
    "\ttemp_joints = joints.clone().detach().cpu() \n",
    "\tfig,ax = plt.subplots(len(labels),3,figsize=(10,70),subplot_kw={\"projection\":\"3d\"})\n",
    "\tfor i in range(len(labels)):\n",
    "\t\trows, cols, start, stop = ax[i][0].get_subplotspec().get_geometry()\n",
    "\t\tax[i][0].remove()\n",
    "\t\tax[i][0] = fig.add_subplot(rows,cols,start+1)\n",
    "\t\n",
    "\tfor i,(input_image, joint, label, info) in enumerate(zip(temp_input_images, temp_joints, temp_labels, infos)):\n",
    "\t\tinput_image=to_pil_image(input_image*.5+.5)\n",
    "\n",
    "\t\tfor j,(k,v) in enumerate(config.skel_16.items()):\n",
    "\t\t\tif v['parent']:\n",
    "\t\t\t\tp_idx = config.skel_16[v['parent']]['jid']\n",
    "\t\t\t\tidx = v['jid']\n",
    "\t\t\t\tpred_joint_line_x=[joint[idx,0],joint[p_idx,0]]\n",
    "\t\t\t\tpred_joint_line_y=[joint[idx,1],joint[p_idx,1]]\n",
    "\t\t\t\tpred_joint_line_z=[joint[idx,2],joint[p_idx,2]]\n",
    "\t\t\t\t# ax[i][1].plot(pred_joint_line_x, pred_joint_line_y, pred_joint_line_z,color=colors[j])\n",
    "\t\t\t\tax[i][1].plot(pred_joint_line_x, pred_joint_line_y, pred_joint_line_z,color='r')\n",
    "\t\t\t\tlabel_joint_line_x=[label[idx,0],label[p_idx,0]]\n",
    "\t\t\t\tlabel_joint_line_y=[label[idx,1],label[p_idx,1]]\n",
    "\t\t\t\tlabel_joint_line_z=[label[idx,2],label[p_idx,2]] \n",
    "\t\t\t\t# ax[i][2].plot(label_joint_line_x,label_joint_line_y, label_joint_line_z,color=colors[j])\n",
    "\t\t\t\tax[i][1].plot(label_joint_line_x,label_joint_line_y, label_joint_line_z,color='g')\n",
    "\t\t\n",
    "\t\tax[i][0].set_aspect('equal')\n",
    "\t\tax[i][1].set_aspect('equal')\n",
    "\t\tax[i][2].set_aspect('equal')\n",
    "\t\tax[i][1].view_init(-30,60,180)\n",
    "\t\tax[i][2].view_init(-30,60,180)\n",
    "\t\tax[i][1].set_xlabel('x')\n",
    "\t\tax[i][1].set_ylabel('y')\n",
    "\t\tax[i][1].set_zlabel('z')\n",
    "\t\tax[i][2].set_ylabel('y')\n",
    "\t\tax[i][2].set_xlabel('x')\n",
    "\t\tax[i][2].set_zlabel('z')\n",
    "\t\t\n",
    "\t\tax[i][0].imshow(input_image)\n",
    "\n",
    "\t\tax[i][0].set_title(info.split(split_token)[-1])\n",
    "\t\tax[i][1].set_title('pred_3d_joint')\n",
    "\t\tax[i][2].set_title('3d_joint_GT')\n",
    "\t# plt.show()\n",
    "\treturn fig\n",
    "\n",
    "\n",
    "def heatmap_viewer(input_images, heatmaps, labels, infos):\n",
    "\ttemp_input_images = input_images.clone().detach()\n",
    "\ttemp_heatmaps = heatmaps.clone().detach().cpu()\n",
    "\ttemp_labels = labels.clone().detach().cpu()\n",
    "\tfig, ax = plt.subplots(len(labels),3,figsize=(10,70))\n",
    "\n",
    "\tfor i,(input_image, heatmap, label, info) in enumerate(zip(temp_input_images, temp_heatmaps, temp_labels, infos)):\n",
    "\n",
    "\n",
    "\t\tinput_image = to_pil_image(input_image*.5+.5)\n",
    "\t\ttotal_heatmap = torch.zeros(heatmap.shape[1:])\n",
    "\t\tfor j in range(len(heatmap)):\n",
    "\t\t\ttotal_heatmap += heatmap[j,:,:]\n",
    "\n",
    "\t\ttotal_label = torch.zeros(heatmap.shape[1:])\n",
    "\t\tfor j in range(len(label)):\n",
    "\t\t\ttotal_label += label[j,:,:]\n",
    "\n",
    "\t\tax[i][0].set_title(info.split(split_token)[-1])\n",
    "\t\tax[i][0].imshow(input_image)\n",
    "\t\tax[i][1].set_title('pred_heatmap')\n",
    "\t\tax[i][1].imshow(total_heatmap)\n",
    "\t\tax[i][2].set_title('heatmap_GT')\n",
    "\t\tax[i][2].imshow(total_label)\n",
    "\n",
    "\t# plt.show()\n",
    "\n",
    "\treturn fig \n",
    "\n",
    "\n",
    "def silhouette_viewer(input_images, pred_silhouette, labels, infos):\n",
    "\ttemp_input_images = input_images.clone().detach()\n",
    "\ttemp_silhouette = pred_silhouette.clone().detach().cpu()\n",
    "\ttemp_labels = labels.clone().detach().cpu()\n",
    "\tfig, ax = plt.subplots(len(labels),3,figsize=(10,70))\n",
    "\n",
    "\tfor i,(input_image, silhouette, label, info) in enumerate(zip(temp_input_images, temp_silhouette, temp_labels, infos)):\n",
    "\t\tinput_image=to_pil_image(input_image*.5+.5)\n",
    "\t\tsilhouette = (silhouette>.5).float()\n",
    "\t\tsilhouette=to_pil_image(silhouette)\n",
    "\t\tlabel=to_pil_image(label)\n",
    "\t\tax[i][0].set_title(info.split(split_token)[-1])\n",
    "\t\tax[i][0].imshow(input_image )\n",
    "\t\tax[i][1].set_title('pred_silhouette')\n",
    "\t\tax[i][1].imshow(silhouette)\n",
    "\t\tax[i][2].set_title('silhouette_GT')\n",
    "\t\tax[i][2].imshow(label)\n",
    "\n",
    "\n",
    "\n",
    "\t# plt.show()\n",
    "\n",
    "\treturn fig \n",
    "\n",
    "def depth_viewer(input_images, features, labels, infos):\n",
    "\ttemp_input_images=input_images.clone().detach().cpu()\n",
    "\ttemp_features=features.clone().detach().cpu()\n",
    "\ttemp_labels=labels.clone().detach().cpu()\n",
    "\tfig,ax = plt.subplots(len(labels),3,figsize=(10, 70))\n",
    "\n",
    "\tfor i,(input_image, feature, label,info) in enumerate(zip(temp_input_images, temp_features, temp_labels,infos)):\n",
    "\n",
    "\t\tinput_image=to_pil_image(input_image*.5+.5)\n",
    "\t\tfeature=to_pil_image(feature)\n",
    "\t\tlabel=to_pil_image(label)\n",
    "\t\tax[i][0].set_title(info.split(split_token)[-1])\n",
    "\t\tax[i][0].imshow(input_image )\n",
    "\t\tax[i][1].set_title('pred_depthmap')\n",
    "\t\tax[i][1].imshow(feature)\n",
    "\t\tax[i][2].set_title('depth_GT')\n",
    "\t\tax[i][2].imshow(label)\n",
    "\n",
    "\n",
    "\t# plt.show()\n",
    "\n",
    "\treturn fig"
   ]
  },
  {
   "cell_type": "code",
   "execution_count": 4,
   "metadata": {},
   "outputs": [],
   "source": [
    "\n",
    "def main(model_path=None,output_path=None):\n",
    "\t\"\"\"Main\"\"\"\n",
    "\n",
    "\tLOGGER.info('Starting demo...')\n",
    "\twandb.init(project=\"2d to 3d\", entity=\"vhehduatks\")\n",
    "\t# ------------------- Data loader -------------------\n",
    "\n",
    "\n",
    "\t# let's load data from validation set as example\n",
    "\tdata = Mocap(\n",
    "\t\t'/dataset/data/Dataset/TestSet',\n",
    "\t\tSetType.VAL,\n",
    "\t\t)\n",
    "\tdata_loader = DataLoader(\n",
    "\t\tdata,\n",
    "\t\tbatch_size=16,\n",
    "\t\tnum_workers=(multiprocessing.cpu_count() // 3) * 2,\n",
    "\t\t# num_workers=0,\n",
    "\t\tshuffle=True)\n",
    "\n",
    "\t# ------------------- Evaluation -------------------\n",
    "\n",
    "\teval_body = evaluate.EvalBody()\n",
    "\teval_upper = evaluate.EvalUpperBody()\n",
    "\teval_lower = evaluate.EvalLowerBody()\n",
    "\n",
    "\t# ------------------- Read dataset frames -------------------\n",
    "\n",
    "\tmodel = TempModel(pretrained_path=model_path).to(device)\n",
    "\tmodel = torch.nn.DataParallel(model,device_ids=[0,1])\n",
    "\tmodel.eval()\n",
    "\n",
    "\tfor it, test_batch in enumerate(tqdm(data_loader)):\n",
    "\t\timage = test_batch['image'].cuda()\n",
    "\t\timage_zoom = test_batch['image_zoom'].cuda()\n",
    "\t\tp3d = test_batch['joints_3d_cam']\n",
    "\t\taction = test_batch['action']\n",
    "\n",
    "\t\tjoint_3d_labels = test_batch['joints_3d_cam'].to(device)\n",
    "\t\tinfos = test_batch['info']\n",
    "\t\theatmap_labels = test_batch['heatmap'].to(device)\n",
    "\t\tdepth_labels = test_batch['depth'].to(device)\n",
    "\t\tsilhouette_labels = test_batch['silhouette'].to(device)\n",
    "\n",
    "\t\tinputs = {\n",
    "\t\t\t'image':image,\n",
    "\t\t\t# 'image_zoom' : image_zoom,\n",
    "\t\t\t}\n",
    "\t\t# LOGGER.info('Iteration: {}'.format(it))\n",
    "\t\t# LOGGER.info('Images: {}'.format(img.shape))\n",
    "\t\t# LOGGER.info('p2ds: {}'.format(p2d.shape))\n",
    "\t\t# LOGGER.info('p3ds: {}'.format(p3d.shape))\n",
    "\t\t# LOGGER.info('Actions: {}'.format(action))\n",
    "\n",
    "\t\t# -----------------------------------------------------------\n",
    "\t\tpred_dict = model(inputs)\n",
    "\t\t# -----------------------------------------------------------\n",
    "\n",
    "\t\t# TODO: replace p3d_hat with model preditions\n",
    "\t\tp3d_hat = pred_dict['pred_pose']\n",
    "\n",
    "\t\t# Evaluate results using different evaluation metrices\n",
    "\t\ty_output = p3d_hat.data.cpu().numpy() * 1000\n",
    "\t\ty_target = p3d.data.cpu().numpy() * 1000\n",
    "\n",
    "\t\teval_body.eval(y_output, y_target, action)\n",
    "\t\teval_upper.eval(y_output, y_target, action)\n",
    "\t\teval_lower.eval(y_output, y_target, action)\n",
    "\t\tif (it+1)%200==0:\n",
    "\t\t\tprint({'FullBody': eval_body.get_results(),\n",
    "\t\t   'UpperBody': eval_upper.get_results(),\n",
    "\t\t   'LowerBody': eval_lower.get_results()})\n",
    "\t\t\t# break\n",
    "\n",
    "\t\t# TODO: remove break\n",
    "\t\tif (it + 1) % 200 == 0:\n",
    "\t\t\tfig_dict = {\n",
    "\t\t\t\t'depthmap_fig' : depth_viewer(inputs['image'],pred_dict['depthmap'],depth_labels,infos),\n",
    "\t\t\t\t'heatmap_fig' : heatmap_viewer(inputs['image'],pred_dict['heatmap'],heatmap_labels,infos),\n",
    "\t\t\t\t'joint_3d_fig' : joint_3d_viewer(inputs['image'],pred_dict['pred_pose'],joint_3d_labels,infos),\n",
    "\t\t\t\t'silhouette_fig' : silhouette_viewer(inputs['image'],pred_dict['silhouette'],silhouette_labels,infos),\n",
    "\t\t\t}\n",
    "\t\t\twandb.log({\n",
    "\t\t\t\t\"test/depthmap_fig\":[wandb.Image(fig_dict['depthmap_fig'])],\n",
    "\t\t\t\t\"test/heatmap_fig\":[wandb.Image(fig_dict['heatmap_fig'])],\n",
    "\t\t\t\t\"test/joint_3d_fig\":[wandb.Image(fig_dict['joint_3d_fig'])],\n",
    "\t\t\t\t\"test/silhouette_fig\":[wandb.Image(fig_dict['silhouette_fig'])],\n",
    "\t\t\t})\n",
    "\t\t\tfor key,val in fig_dict.items():\n",
    "\t\t\t\t\tplt.close(val)\n",
    "\t# ------------------- Save results -------------------\n",
    "\n",
    "\tLOGGER.info('Saving evaluation results...')\n",
    "\tres = {'FullBody': eval_body.get_results(),\n",
    "\t\t   'UpperBody': eval_upper.get_results(),\n",
    "\t\t   'LowerBody': eval_lower.get_results()}\n",
    "\n",
    "\tio.write_json(output_path, res)\n",
    "\n",
    "\tLOGGER.info('Done.')\n",
    "\twandb.finish()"
   ]
  },
  {
   "cell_type": "code",
   "execution_count": 5,
   "metadata": {},
   "outputs": [
    {
     "data": {
      "text/plain": [
       "['/workspace/2d_to_3d/apps/exp812/0.pth',\n",
       " '/workspace/2d_to_3d/apps/exp812/1.pth',\n",
       " '/workspace/2d_to_3d/apps/exp812/2.pth',\n",
       " '/workspace/2d_to_3d/apps/exp812/3.pth',\n",
       " '/workspace/2d_to_3d/apps/exp812/4.pth',\n",
       " '/workspace/2d_to_3d/apps/exp812/5.pth',\n",
       " '/workspace/2d_to_3d/apps/exp812/6.pth',\n",
       " '/workspace/2d_to_3d/apps/exp812/7.pth',\n",
       " '/workspace/2d_to_3d/apps/exp812/8.pth',\n",
       " '/workspace/2d_to_3d/apps/exp812/9.pth',\n",
       " '/workspace/2d_to_3d/apps/exp812/best.pth']"
      ]
     },
     "execution_count": 5,
     "metadata": {},
     "output_type": "execute_result"
    }
   ],
   "source": [
    "import glob\n",
    "path_ =sorted(glob.glob('/workspace/2d_to_3d/apps/exp812'+'/*'))\n",
    "path_"
   ]
  },
  {
   "cell_type": "code",
   "execution_count": 6,
   "metadata": {},
   "outputs": [
    {
     "ename": "RuntimeError",
     "evalue": "No active exception to reraise",
     "output_type": "error",
     "traceback": [
      "\u001b[0;31m---------------------------------------------------------------------------\u001b[0m",
      "\u001b[0;31mRuntimeError\u001b[0m                              Traceback (most recent call last)",
      "\u001b[1;32m/workspace/2d_to_3d/apps/eval_getfig.ipynb Cell 6\u001b[0m line \u001b[0;36m4\n\u001b[1;32m      <a href='vscode-notebook-cell://attached-container%2B7b22636f6e7461696e65724e616d65223a222f32645f746f5f3364222c2273657474696e6773223a7b22686f7374223a227373683a2f2f6c61625f776f726b73746174696f6e227d7d/workspace/2d_to_3d/apps/eval_getfig.ipynb#W5sdnNjb2RlLXJlbW90ZQ%3D%3D?line=1'>2</a>\u001b[0m gc\u001b[39m.\u001b[39mcollect()\n\u001b[1;32m      <a href='vscode-notebook-cell://attached-container%2B7b22636f6e7461696e65724e616d65223a222f32645f746f5f3364222c2273657474696e6773223a7b22686f7374223a227373683a2f2f6c61625f776f726b73746174696f6e227d7d/workspace/2d_to_3d/apps/eval_getfig.ipynb#W5sdnNjb2RlLXJlbW90ZQ%3D%3D?line=2'>3</a>\u001b[0m torch\u001b[39m.\u001b[39mcuda\u001b[39m.\u001b[39mempty_cache()\n\u001b[0;32m----> <a href='vscode-notebook-cell://attached-container%2B7b22636f6e7461696e65724e616d65223a222f32645f746f5f3364222c2273657474696e6773223a7b22686f7374223a227373683a2f2f6c61625f776f726b73746174696f6e227d7d/workspace/2d_to_3d/apps/eval_getfig.ipynb#W5sdnNjb2RlLXJlbW90ZQ%3D%3D?line=3'>4</a>\u001b[0m \u001b[39mraise\u001b[39;00m\n",
      "\u001b[0;31mRuntimeError\u001b[0m: No active exception to reraise"
     ]
    }
   ],
   "source": [
    "import gc\n",
    "gc.collect()\n",
    "torch.cuda.empty_cache()\n",
    "raise"
   ]
  },
  {
   "cell_type": "code",
   "execution_count": 7,
   "metadata": {},
   "outputs": [
    {
     "name": "stderr",
     "output_type": "stream",
     "text": [
      "\u001b[94m19:20:33 \u001b[92m[INFO]\u001b[94m Main\u001b[0m: Starting demo...\n",
      "Failed to detect the name of this notebook, you can set it manually with the WANDB_NOTEBOOK_NAME environment variable to enable code saving.\n",
      "\u001b[34m\u001b[1mwandb\u001b[0m: Currently logged in as: \u001b[33mvhehduatks\u001b[0m. Use \u001b[1m`wandb login --relogin`\u001b[0m to force relogin\n"
     ]
    },
    {
     "data": {
      "text/html": [
       "wandb version 0.15.10 is available!  To upgrade, please run:\n",
       " $ pip install wandb --upgrade"
      ],
      "text/plain": [
       "<IPython.core.display.HTML object>"
      ]
     },
     "metadata": {},
     "output_type": "display_data"
    },
    {
     "data": {
      "text/html": [
       "Tracking run with wandb version 0.14.0"
      ],
      "text/plain": [
       "<IPython.core.display.HTML object>"
      ]
     },
     "metadata": {},
     "output_type": "display_data"
    },
    {
     "data": {
      "text/html": [
       "Run data is saved locally in <code>/workspace/2d_to_3d/apps/wandb/run-20230913_192034-gnwj30hn</code>"
      ],
      "text/plain": [
       "<IPython.core.display.HTML object>"
      ]
     },
     "metadata": {},
     "output_type": "display_data"
    },
    {
     "data": {
      "text/html": [
       "Syncing run <strong><a href='https://wandb.ai/vhehduatks/2d%20to%203d/runs/gnwj30hn' target=\"_blank\">quiet-plant-443</a></strong> to <a href='https://wandb.ai/vhehduatks/2d%20to%203d' target=\"_blank\">Weights & Biases</a> (<a href='https://wandb.me/run' target=\"_blank\">docs</a>)<br/>"
      ],
      "text/plain": [
       "<IPython.core.display.HTML object>"
      ]
     },
     "metadata": {},
     "output_type": "display_data"
    },
    {
     "data": {
      "text/html": [
       " View project at <a href='https://wandb.ai/vhehduatks/2d%20to%203d' target=\"_blank\">https://wandb.ai/vhehduatks/2d%20to%203d</a>"
      ],
      "text/plain": [
       "<IPython.core.display.HTML object>"
      ]
     },
     "metadata": {},
     "output_type": "display_data"
    },
    {
     "data": {
      "text/html": [
       " View run at <a href='https://wandb.ai/vhehduatks/2d%20to%203d/runs/gnwj30hn' target=\"_blank\">https://wandb.ai/vhehduatks/2d%20to%203d/runs/gnwj30hn</a>"
      ],
      "text/plain": [
       "<IPython.core.display.HTML object>"
      ]
     },
     "metadata": {},
     "output_type": "display_data"
    },
    {
     "name": "stderr",
     "output_type": "stream",
     "text": [
      "  0%|          | 0/5352 [00:00<?, ?it/s]/opt/conda/lib/python3.10/site-packages/torchvision/transforms/transforms.py:329: UserWarning: Argument 'interpolation' of type int is deprecated since 0.13 and will be removed in 0.15. Please use InterpolationMode enum.\n",
      "  warnings.warn(\n",
      "/opt/conda/lib/python3.10/site-packages/torchvision/transforms/transforms.py:329: UserWarning: Argument 'interpolation' of type int is deprecated since 0.13 and will be removed in 0.15. Please use InterpolationMode enum.\n",
      "  warnings.warn(\n",
      "/opt/conda/lib/python3.10/site-packages/torchvision/transforms/transforms.py:329: UserWarning: Argument 'interpolation' of type int is deprecated since 0.13 and will be removed in 0.15. Please use InterpolationMode enum.\n",
      "  warnings.warn(\n",
      "/opt/conda/lib/python3.10/site-packages/torchvision/transforms/transforms.py:329: UserWarning: Argument 'interpolation' of type int is deprecated since 0.13 and will be removed in 0.15. Please use InterpolationMode enum.\n",
      "  warnings.warn(\n",
      "/opt/conda/lib/python3.10/site-packages/torchvision/transforms/transforms.py:329: UserWarning: Argument 'interpolation' of type int is deprecated since 0.13 and will be removed in 0.15. Please use InterpolationMode enum.\n",
      "  warnings.warn(\n",
      "/opt/conda/lib/python3.10/site-packages/torchvision/transforms/transforms.py:329: UserWarning: Argument 'interpolation' of type int is deprecated since 0.13 and will be removed in 0.15. Please use InterpolationMode enum.\n",
      "  warnings.warn(\n",
      "/opt/conda/lib/python3.10/site-packages/torchvision/transforms/transforms.py:329: UserWarning: Argument 'interpolation' of type int is deprecated since 0.13 and will be removed in 0.15. Please use InterpolationMode enum.\n",
      "  warnings.warn(\n",
      "/opt/conda/lib/python3.10/site-packages/torchvision/transforms/transforms.py:329: UserWarning: Argument 'interpolation' of type int is deprecated since 0.13 and will be removed in 0.15. Please use InterpolationMode enum.\n",
      "  warnings.warn(\n",
      "/opt/conda/lib/python3.10/site-packages/torchvision/transforms/transforms.py:329: UserWarning: Argument 'interpolation' of type int is deprecated since 0.13 and will be removed in 0.15. Please use InterpolationMode enum.\n",
      "  warnings.warn(\n",
      "/opt/conda/lib/python3.10/site-packages/torchvision/transforms/transforms.py:329: UserWarning: Argument 'interpolation' of type int is deprecated since 0.13 and will be removed in 0.15. Please use InterpolationMode enum.\n",
      "  warnings.warn(\n",
      "/opt/conda/lib/python3.10/site-packages/torchvision/transforms/transforms.py:329: UserWarning: Argument 'interpolation' of type int is deprecated since 0.13 and will be removed in 0.15. Please use InterpolationMode enum.\n",
      "  warnings.warn(\n",
      "/opt/conda/lib/python3.10/site-packages/torchvision/transforms/transforms.py:329: UserWarning: Argument 'interpolation' of type int is deprecated since 0.13 and will be removed in 0.15. Please use InterpolationMode enum.\n",
      "  warnings.warn(\n",
      "/opt/conda/lib/python3.10/site-packages/torchvision/transforms/transforms.py:329: UserWarning: Argument 'interpolation' of type int is deprecated since 0.13 and will be removed in 0.15. Please use InterpolationMode enum.\n",
      "  warnings.warn(\n",
      "/opt/conda/lib/python3.10/site-packages/torchvision/transforms/transforms.py:329: UserWarning: Argument 'interpolation' of type int is deprecated since 0.13 and will be removed in 0.15. Please use InterpolationMode enum.\n",
      "  warnings.warn(\n",
      "/opt/conda/lib/python3.10/site-packages/torchvision/transforms/transforms.py:329: UserWarning: Argument 'interpolation' of type int is deprecated since 0.13 and will be removed in 0.15. Please use InterpolationMode enum.\n",
      "  warnings.warn(\n",
      "/opt/conda/lib/python3.10/site-packages/torchvision/transforms/transforms.py:329: UserWarning: Argument 'interpolation' of type int is deprecated since 0.13 and will be removed in 0.15. Please use InterpolationMode enum.\n",
      "  warnings.warn(\n",
      "/opt/conda/lib/python3.10/site-packages/torchvision/transforms/transforms.py:329: UserWarning: Argument 'interpolation' of type int is deprecated since 0.13 and will be removed in 0.15. Please use InterpolationMode enum.\n",
      "  warnings.warn(\n",
      "/opt/conda/lib/python3.10/site-packages/torchvision/transforms/transforms.py:329: UserWarning: Argument 'interpolation' of type int is deprecated since 0.13 and will be removed in 0.15. Please use InterpolationMode enum.\n",
      "  warnings.warn(\n",
      "/opt/conda/lib/python3.10/site-packages/torchvision/transforms/transforms.py:329: UserWarning: Argument 'interpolation' of type int is deprecated since 0.13 and will be removed in 0.15. Please use InterpolationMode enum.\n",
      "  warnings.warn(\n",
      "/opt/conda/lib/python3.10/site-packages/torchvision/transforms/transforms.py:329: UserWarning: Argument 'interpolation' of type int is deprecated since 0.13 and will be removed in 0.15. Please use InterpolationMode enum.\n",
      "  warnings.warn(\n",
      "/opt/conda/lib/python3.10/site-packages/torchvision/transforms/transforms.py:329: UserWarning: Argument 'interpolation' of type int is deprecated since 0.13 and will be removed in 0.15. Please use InterpolationMode enum.\n",
      "  warnings.warn(\n",
      "/opt/conda/lib/python3.10/site-packages/torchvision/transforms/transforms.py:329: UserWarning: Argument 'interpolation' of type int is deprecated since 0.13 and will be removed in 0.15. Please use InterpolationMode enum.\n",
      "  warnings.warn(\n",
      "/opt/conda/lib/python3.10/site-packages/torchvision/transforms/transforms.py:329: UserWarning: Argument 'interpolation' of type int is deprecated since 0.13 and will be removed in 0.15. Please use InterpolationMode enum.\n",
      "  warnings.warn(\n",
      "/opt/conda/lib/python3.10/site-packages/torchvision/transforms/transforms.py:329: UserWarning: Argument 'interpolation' of type int is deprecated since 0.13 and will be removed in 0.15. Please use InterpolationMode enum.\n",
      "  warnings.warn(\n",
      "  4%|▎         | 199/5352 [00:36<11:02,  7.77it/s] "
     ]
    },
    {
     "name": "stdout",
     "output_type": "stream",
     "text": [
      "{'FullBody': {'All': 192.1387939453125, 'Gesticuling': 165.733642578125, 'UpperStretching': 188.49842834472656, 'Walking': 200.06932067871094, 'LowerStretching': 221.0058135986328, 'Patting': 151.9747314453125, 'Gaming': 181.72650146484375, 'Reacting': 151.1436309814453, 'Greeting': 151.54283142089844, 'Talking': 139.03758239746094}, 'UpperBody': {'All': 154.0709991455078, 'Gesticuling': 122.15435028076172, 'UpperStretching': 160.1638641357422, 'Walking': 153.22128295898438, 'LowerStretching': 148.3781280517578, 'Patting': 119.98731994628906, 'Gaming': 138.0489959716797, 'Reacting': 125.67019653320312, 'Greeting': 149.78067016601562, 'Talking': 141.25355529785156}, 'LowerBody': {'All': 230.2066192626953, 'Gesticuling': 209.31292724609375, 'UpperStretching': 216.83299255371094, 'Walking': 246.91732788085938, 'LowerStretching': 293.6335144042969, 'Patting': 183.96218872070312, 'Gaming': 225.40399169921875, 'Reacting': 176.61705017089844, 'Greeting': 153.30496215820312, 'Talking': 136.82162475585938}}\n"
     ]
    },
    {
     "name": "stderr",
     "output_type": "stream",
     "text": [
      "  7%|▋         | 399/5352 [01:17<10:50,  7.62it/s]  "
     ]
    },
    {
     "name": "stdout",
     "output_type": "stream",
     "text": [
      "{'FullBody': {'All': 190.83132934570312, 'Gesticuling': 161.33746337890625, 'UpperStretching': 187.183837890625, 'Walking': 200.40380859375, 'LowerStretching': 219.14730834960938, 'Patting': 153.5354461669922, 'Gaming': 183.60292053222656, 'Reacting': 149.975830078125, 'Greeting': 147.7158203125, 'Talking': 140.15628051757812}, 'UpperBody': {'All': 153.32516479492188, 'Gesticuling': 123.03562927246094, 'UpperStretching': 159.06005859375, 'Walking': 154.44984436035156, 'LowerStretching': 147.86129760742188, 'Patting': 125.6505355834961, 'Gaming': 139.22311401367188, 'Reacting': 124.3293228149414, 'Greeting': 147.40647888183594, 'Talking': 135.16383361816406}, 'LowerBody': {'All': 228.33753967285156, 'Gesticuling': 199.6392822265625, 'UpperStretching': 215.30758666992188, 'Walking': 246.35775756835938, 'LowerStretching': 290.4333190917969, 'Patting': 181.42031860351562, 'Gaming': 227.98269653320312, 'Reacting': 175.622314453125, 'Greeting': 148.02516174316406, 'Talking': 145.14874267578125}}\n"
     ]
    },
    {
     "name": "stderr",
     "output_type": "stream",
     "text": [
      " 11%|█         | 599/5352 [01:59<11:59,  6.61it/s]  "
     ]
    },
    {
     "name": "stdout",
     "output_type": "stream",
     "text": [
      "{'FullBody': {'All': 190.3433837890625, 'Gesticuling': 160.66311645507812, 'UpperStretching': 185.7346649169922, 'Walking': 200.25169372558594, 'LowerStretching': 220.75430297851562, 'Patting': 153.53538513183594, 'Gaming': 181.703857421875, 'Reacting': 151.3720245361328, 'Greeting': 145.12643432617188, 'Talking': 144.3946990966797}, 'UpperBody': {'All': 152.93475341796875, 'Gesticuling': 124.21461486816406, 'UpperStretching': 158.7169647216797, 'Walking': 153.7003936767578, 'LowerStretching': 148.12423706054688, 'Patting': 126.69844055175781, 'Gaming': 138.9160614013672, 'Reacting': 122.9144058227539, 'Greeting': 147.62677001953125, 'Talking': 136.28488159179688}, 'LowerBody': {'All': 227.7519989013672, 'Gesticuling': 197.11163330078125, 'UpperStretching': 212.7523956298828, 'Walking': 246.80300903320312, 'LowerStretching': 293.38433837890625, 'Patting': 180.37232971191406, 'Gaming': 224.49166870117188, 'Reacting': 179.82962036132812, 'Greeting': 142.6260986328125, 'Talking': 152.50448608398438}}\n"
     ]
    },
    {
     "name": "stderr",
     "output_type": "stream",
     "text": [
      " 14%|█▍        | 742/5352 [02:31<10:03,  7.64it/s]  "
     ]
    },
    {
     "name": "stderr",
     "output_type": "stream",
     "text": [
      " 14%|█▍        | 748/5352 [02:32<10:18,  7.44it/s]"
     ]
    }
   ],
   "source": [
    "for i,p in enumerate(path_):\n",
    "\t_path = f'/workspace/2d_to_3d/apps/eval/ours_depth_sil_fusion_2'\n",
    "\t_name = f'baseline812_{i}.json'\n",
    "\tif not os.path.exists(_path):\n",
    "\t\tos.makedirs(_path)\n",
    "\n",
    "\tmain(model_path=p,output_path=os.path.join(_path,_name))"
   ]
  }
 ],
 "metadata": {
  "kernelspec": {
   "display_name": "base",
   "language": "python",
   "name": "python3"
  },
  "language_info": {
   "codemirror_mode": {
    "name": "ipython",
    "version": 3
   },
   "file_extension": ".py",
   "mimetype": "text/x-python",
   "name": "python",
   "nbconvert_exporter": "python",
   "pygments_lexer": "ipython3",
   "version": "3.10.8"
  },
  "orig_nbformat": 4
 },
 "nbformat": 4,
 "nbformat_minor": 2
}
