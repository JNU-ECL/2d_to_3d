{
 "cells": [
  {
   "cell_type": "code",
   "execution_count": 1,
   "metadata": {},
   "outputs": [
    {
     "name": "stderr",
     "output_type": "stream",
     "text": [
      "/opt/conda/lib/python3.10/site-packages/tqdm/auto.py:22: TqdmWarning: IProgress not found. Please update jupyter and ipywidgets. See https://ipywidgets.readthedocs.io/en/stable/user_install.html\n",
      "  from .autonotebook import tqdm as notebook_tqdm\n"
     ]
    }
   ],
   "source": [
    "# Copyright (c) Facebook, Inc. and its affiliates. All Rights Reserved\n",
    "# -*- coding: utf-8 -*-\n",
    "\"\"\"\n",
    "Demo code\n",
    "\n",
    "@author: Denis Tome'\n",
    "\n",
    "\"\"\"\n",
    "from torch.utils.data import DataLoader\n",
    "import torch\n",
    "from torchvision import transforms\n",
    "from base import SetType\n",
    "import multiprocessing\n",
    "from mocap import Mocap\n",
    "from utils import config, ConsoleLogger\n",
    "from utils import evaluate, io\n",
    "from model import TempModel\n",
    "from model_xregopose import xR_egoposemodel\n",
    "from model_mo2cap2 import mo2cap_ours, mo2capmodel\n",
    "from tqdm import tqdm\n",
    "import os\n",
    "\n",
    "LOGGER = ConsoleLogger(\"Main\")\n",
    "use_cuda = torch.cuda.is_available()\n",
    "device = torch.device(\"cuda\" if use_cuda else \"cpu\")\n"
   ]
  },
  {
   "cell_type": "code",
   "execution_count": 2,
   "metadata": {},
   "outputs": [],
   "source": [
    "from torchvision.transforms.functional import to_pil_image\n",
    "import numpy as np\n",
    "import platform\n",
    "import matplotlib.pyplot as plt\n",
    "from utils import config\n",
    "import wandb\n",
    "split_token = '/' if 'Linux' in platform.platform() else '\\\\'"
   ]
  },
  {
   "cell_type": "code",
   "execution_count": 3,
   "metadata": {},
   "outputs": [],
   "source": [
    "\n",
    "def joint_3d_viewer(input_images, joints, labels, infos):\n",
    "\tcolors = plt.cm.jet(np.linspace(0, 1, 16))\n",
    "\ttemp_input_images = input_images.clone().detach().cpu()\n",
    "\ttemp_labels = labels.clone().detach().cpu() \n",
    "\ttemp_joints = joints.clone().detach().cpu() \n",
    "\tfig,ax = plt.subplots(len(labels),3,figsize=(10,70),subplot_kw={\"projection\":\"3d\"})\n",
    "\tfor i in range(len(labels)):\n",
    "\t\trows, cols, start, stop = ax[i][0].get_subplotspec().get_geometry()\n",
    "\t\tax[i][0].remove()\n",
    "\t\tax[i][0] = fig.add_subplot(rows,cols,start+1)\n",
    "\t\n",
    "\tfor i,(input_image, joint, label, info) in enumerate(zip(temp_input_images, temp_joints, temp_labels, infos)):\n",
    "\t\tinput_image=to_pil_image(input_image*.5+.5)\n",
    "\n",
    "\t\tfor j,(k,v) in enumerate(config.skel_16.items()):\n",
    "\t\t\tif v['parent']:\n",
    "\t\t\t\tp_idx = config.skel_16[v['parent']]['jid']\n",
    "\t\t\t\tidx = v['jid']\n",
    "\t\t\t\tpred_joint_line_x=[joint[idx,0],joint[p_idx,0]]\n",
    "\t\t\t\tpred_joint_line_y=[joint[idx,1],joint[p_idx,1]]\n",
    "\t\t\t\tpred_joint_line_z=[joint[idx,2],joint[p_idx,2]]\n",
    "\t\t\t\t# ax[i][1].plot(pred_joint_line_x, pred_joint_line_y, pred_joint_line_z,color=colors[j])\n",
    "\t\t\t\tax[i][1].plot(pred_joint_line_x, pred_joint_line_y, pred_joint_line_z,color='r')\n",
    "\t\t\t\tlabel_joint_line_x=[label[idx,0],label[p_idx,0]]\n",
    "\t\t\t\tlabel_joint_line_y=[label[idx,1],label[p_idx,1]]\n",
    "\t\t\t\tlabel_joint_line_z=[label[idx,2],label[p_idx,2]] \n",
    "\t\t\t\t# ax[i][2].plot(label_joint_line_x,label_joint_line_y, label_joint_line_z,color=colors[j])\n",
    "\t\t\t\tax[i][1].plot(label_joint_line_x,label_joint_line_y, label_joint_line_z,color='b')\n",
    "\t\t\n",
    "\t\tax[i][0].set_aspect('equal')\n",
    "\t\tax[i][1].set_aspect('equal')\n",
    "\t\tax[i][2].set_aspect('equal')\n",
    "\t\tax[i][1].view_init(-30,60,180)\n",
    "\t\tax[i][2].view_init(-30,60,180)\n",
    "\t\tax[i][1].set_xlabel('x')\n",
    "\t\tax[i][1].set_ylabel('y')\n",
    "\t\tax[i][1].set_zlabel('z')\n",
    "\t\tax[i][2].set_ylabel('y')\n",
    "\t\tax[i][2].set_xlabel('x')\n",
    "\t\tax[i][2].set_zlabel('z')\n",
    "\t\t\n",
    "\t\tax[i][0].imshow(input_image)\n",
    "\n",
    "\t\tax[i][0].set_title(info.split(split_token)[-1])\n",
    "\t\tax[i][1].set_title('pred_3d_joint')\n",
    "\t\tax[i][2].set_title('3d_joint_GT')\n",
    "\t# plt.show()\n",
    "\treturn fig\n",
    "\n",
    "\n",
    "def heatmap_viewer(input_images, heatmaps, labels, infos):\n",
    "\ttemp_input_images = input_images.clone().detach()\n",
    "\ttemp_heatmaps = heatmaps.clone().detach().cpu()\n",
    "\ttemp_labels = labels.clone().detach().cpu()\n",
    "\tfig, ax = plt.subplots(len(labels),3,figsize=(10,70))\n",
    "\n",
    "\tfor i,(input_image, heatmap, label, info) in enumerate(zip(temp_input_images, temp_heatmaps, temp_labels, infos)):\n",
    "\n",
    "\n",
    "\t\tinput_image = to_pil_image(input_image*.5+.5)\n",
    "\t\ttotal_heatmap = torch.zeros(heatmap.shape[1:])\n",
    "\t\tfor j in range(len(heatmap)):\n",
    "\t\t\ttotal_heatmap += heatmap[j,:,:]\n",
    "\n",
    "\t\ttotal_label = torch.zeros(heatmap.shape[1:])\n",
    "\t\tfor j in range(len(label)):\n",
    "\t\t\ttotal_label += label[j,:,:]\n",
    "\n",
    "\t\tax[i][0].set_title(info.split(split_token)[-1])\n",
    "\t\tax[i][0].imshow(input_image)\n",
    "\t\tax[i][1].set_title('pred_heatmap')\n",
    "\t\tax[i][1].imshow(total_heatmap)\n",
    "\t\tax[i][2].set_title('heatmap_GT')\n",
    "\t\tax[i][2].imshow(total_label)\n",
    "\n",
    "\t# plt.show()\n",
    "\n",
    "\treturn fig \n",
    "\n",
    "\n",
    "def silhouette_viewer(input_images, pred_silhouette, labels, infos):\n",
    "\ttemp_input_images = input_images.clone().detach()\n",
    "\ttemp_silhouette = pred_silhouette.clone().detach().cpu()\n",
    "\ttemp_labels = labels.clone().detach().cpu()\n",
    "\tfig, ax = plt.subplots(len(labels),3,figsize=(10,70))\n",
    "\n",
    "\tfor i,(input_image, silhouette, label, info) in enumerate(zip(temp_input_images, temp_silhouette, temp_labels, infos)):\n",
    "\t\tinput_image=to_pil_image(input_image*.5+.5)\n",
    "\t\tsilhouette = (silhouette>.5).float()\n",
    "\t\tsilhouette=to_pil_image(silhouette)\n",
    "\t\tlabel=to_pil_image(label)\n",
    "\t\tax[i][0].set_title(info.split(split_token)[-1])\n",
    "\t\tax[i][0].imshow(input_image )\n",
    "\t\tax[i][1].set_title('pred_silhouette')\n",
    "\t\tax[i][1].imshow(silhouette)\n",
    "\t\tax[i][2].set_title('silhouette_GT')\n",
    "\t\tax[i][2].imshow(label)\n",
    "\n",
    "\n",
    "\n",
    "\t# plt.show()\n",
    "\n",
    "\treturn fig \n",
    "\n",
    "def depth_viewer(input_images, features, labels, infos):\n",
    "\ttemp_input_images=input_images.clone().detach().cpu()\n",
    "\ttemp_features=features.clone().detach().cpu()\n",
    "\ttemp_labels=labels.clone().detach().cpu()\n",
    "\tfig,ax = plt.subplots(len(labels),3,figsize=(10, 70))\n",
    "\n",
    "\tfor i,(input_image, feature, label,info) in enumerate(zip(temp_input_images, temp_features, temp_labels,infos)):\n",
    "\n",
    "\t\tinput_image=to_pil_image(input_image*.5+.5)\n",
    "\t\tfeature=to_pil_image(feature)\n",
    "\t\tlabel=to_pil_image(label)\n",
    "\t\tax[i][0].set_title(info.split(split_token)[-1])\n",
    "\t\tax[i][0].imshow(input_image )\n",
    "\t\tax[i][1].set_title('pred_depthmap')\n",
    "\t\tax[i][1].imshow(feature)\n",
    "\t\tax[i][2].set_title('depth_GT')\n",
    "\t\tax[i][2].imshow(label)\n",
    "\n",
    "\n",
    "\t# plt.show()\n",
    "\n",
    "\treturn fig"
   ]
  },
  {
   "cell_type": "code",
   "execution_count": 4,
   "metadata": {},
   "outputs": [],
   "source": [
    "\n",
    "def main(model_path=None,output_path=None):\n",
    "\t\"\"\"Main\"\"\"\n",
    "\n",
    "\tLOGGER.info('Starting demo...')\n",
    "\twandb.init(project=\"2d to 3d\", entity=\"vhehduatks\")\n",
    "\t# ------------------- Data loader -------------------\n",
    "\n",
    "\n",
    "\t# let's load data from validation set as example\n",
    "\tdata = Mocap(\n",
    "\t\t'/dataset/data/Dataset/TestSet',\n",
    "\t\tSetType.VAL,\n",
    "\t\t)\n",
    "\tdata_loader = DataLoader(\n",
    "\t\tdata,\n",
    "\t\tbatch_size=16,\n",
    "\t\tnum_workers=(multiprocessing.cpu_count() // 3) * 2,\n",
    "\t\t# num_workers=0,\n",
    "\t\tshuffle=False)\n",
    "\n",
    "\t# ------------------- Evaluation -------------------\n",
    "\n",
    "\teval_body = evaluate.EvalBody()\n",
    "\teval_upper = evaluate.EvalUpperBody()\n",
    "\teval_lower = evaluate.EvalLowerBody()\n",
    "\n",
    "\t# ------------------- Read dataset frames -------------------\n",
    "\n",
    "\tmodel = TempModel(pretrained_path=model_path).to(device)\n",
    "\tmodel = torch.nn.DataParallel(model,device_ids=[0,1])\n",
    "\tmodel.eval()\n",
    "\n",
    "\tfor it, test_batch in enumerate(tqdm(data_loader)):\n",
    "\t\timage = test_batch['image'].cuda()\n",
    "\t\timage_zoom = test_batch['image_zoom'].cuda()\n",
    "\t\tp3d = test_batch['joints_3d_cam']\n",
    "\t\taction = test_batch['action']\n",
    "\n",
    "\t\tjoint_3d_labels = test_batch['joints_3d_cam'].to(device)\n",
    "\t\tinfos = test_batch['info']\n",
    "\t\theatmap_labels = test_batch['heatmap'].to(device)\n",
    "\t\tdepth_labels = test_batch['depth'].to(device)\n",
    "\t\tsilhouette_labels = test_batch['silhouette'].to(device)\n",
    "\n",
    "\t\tinputs = {\n",
    "\t\t\t'image':image,\n",
    "\t\t\t'image_zoom' : image_zoom,\n",
    "\t\t\t}\n",
    "\t\t# LOGGER.info('Iteration: {}'.format(it))\n",
    "\t\t# LOGGER.info('Images: {}'.format(img.shape))\n",
    "\t\t# LOGGER.info('p2ds: {}'.format(p2d.shape))\n",
    "\t\t# LOGGER.info('p3ds: {}'.format(p3d.shape))\n",
    "\t\t# LOGGER.info('Actions: {}'.format(action))\n",
    "\n",
    "\t\t# -----------------------------------------------------------\n",
    "\t\tpred_dict = model(inputs)\n",
    "\t\t# -----------------------------------------------------------\n",
    "\n",
    "\t\t# TODO: replace p3d_hat with model preditions\n",
    "\t\tp3d_hat = pred_dict['pred_pose']\n",
    "\n",
    "\t\t# Evaluate results using different evaluation metrices\n",
    "\t\ty_output = p3d_hat.data.cpu().numpy() * 1000\n",
    "\t\ty_target = p3d.data.cpu().numpy() * 1000\n",
    "\n",
    "\t\teval_body.eval(y_output, y_target, action)\n",
    "\t\teval_upper.eval(y_output, y_target, action)\n",
    "\t\teval_lower.eval(y_output, y_target, action)\n",
    "\t\tif (it+1)%200==0:\n",
    "\t\t\tprint({'FullBody': eval_body.get_results(),\n",
    "\t\t   'UpperBody': eval_upper.get_results(),\n",
    "\t\t   'LowerBody': eval_lower.get_results()})\n",
    "\t\t\t# break\n",
    "\n",
    "\t\t# TODO: remove break\n",
    "\t\tif (it + 1) % 200 == 0:\n",
    "\t\t\tfig_dict = {\n",
    "\t\t\t\t'depthmap_fig' : depth_viewer(inputs['image'],pred_dict['depthmap'],depth_labels,infos),\n",
    "\t\t\t\t'heatmap_fig' : heatmap_viewer(inputs['image'],pred_dict['heatmap'],heatmap_labels,infos),\n",
    "\t\t\t\t'joint_3d_fig' : joint_3d_viewer(inputs['image'],pred_dict['pred_pose'],joint_3d_labels,infos),\n",
    "\t\t\t\t'silhouette_fig' : silhouette_viewer(inputs['image'],pred_dict['silhouette'],silhouette_labels,infos),\n",
    "\t\t\t}\n",
    "\t\t\twandb.log({\n",
    "\t\t\t\t\"test/depthmap_fig\":[wandb.Image(fig_dict['depthmap_fig'])],\n",
    "\t\t\t\t\"test/heatmap_fig\":[wandb.Image(fig_dict['heatmap_fig'])],\n",
    "\t\t\t\t\"test/joint_3d_fig\":[wandb.Image(fig_dict['joint_3d_fig'])],\n",
    "\t\t\t\t\"test/silhouette_fig\":[wandb.Image(fig_dict['silhouette_fig'])],\n",
    "\t\t\t})\n",
    "\t\t\tfor key,val in fig_dict.items():\n",
    "\t\t\t\t\tplt.close(val)\n",
    "\t# ------------------- Save results -------------------\n",
    "\n",
    "\tLOGGER.info('Saving evaluation results...')\n",
    "\tres = {'FullBody': eval_body.get_results(),\n",
    "\t\t   'UpperBody': eval_upper.get_results(),\n",
    "\t\t   'LowerBody': eval_lower.get_results()}\n",
    "\n",
    "\tio.write_json(output_path, res)\n",
    "\n",
    "\tLOGGER.info('Done.')\n",
    "\twandb.finish()"
   ]
  },
  {
   "cell_type": "code",
   "execution_count": 5,
   "metadata": {},
   "outputs": [],
   "source": [
    "import glob\n",
    "# path_ =sorted(glob.glob('/workspace/2d_to_3d/apps/exp812'+'/*'))\n",
    "path_ = ['/workspace/2d_to_3d/apps/exp815/9.pth']"
   ]
  },
  {
   "cell_type": "code",
   "execution_count": 6,
   "metadata": {},
   "outputs": [
    {
     "ename": "RuntimeError",
     "evalue": "No active exception to reraise",
     "output_type": "error",
     "traceback": [
      "\u001b[0;31m---------------------------------------------------------------------------\u001b[0m",
      "\u001b[0;31mRuntimeError\u001b[0m                              Traceback (most recent call last)",
      "\u001b[1;32m/workspace/2d_to_3d/apps/eval_getfig.ipynb Cell 6\u001b[0m line \u001b[0;36m4\n\u001b[1;32m      <a href='vscode-notebook-cell://attached-container%2B7b22636f6e7461696e65724e616d65223a222f32645f746f5f3364222c2273657474696e6773223a7b22686f7374223a227373683a2f2f6c61625f776f726b73746174696f6e227d7d/workspace/2d_to_3d/apps/eval_getfig.ipynb#W5sdnNjb2RlLXJlbW90ZQ%3D%3D?line=1'>2</a>\u001b[0m gc\u001b[39m.\u001b[39mcollect()\n\u001b[1;32m      <a href='vscode-notebook-cell://attached-container%2B7b22636f6e7461696e65724e616d65223a222f32645f746f5f3364222c2273657474696e6773223a7b22686f7374223a227373683a2f2f6c61625f776f726b73746174696f6e227d7d/workspace/2d_to_3d/apps/eval_getfig.ipynb#W5sdnNjb2RlLXJlbW90ZQ%3D%3D?line=2'>3</a>\u001b[0m torch\u001b[39m.\u001b[39mcuda\u001b[39m.\u001b[39mempty_cache()\n\u001b[0;32m----> <a href='vscode-notebook-cell://attached-container%2B7b22636f6e7461696e65724e616d65223a222f32645f746f5f3364222c2273657474696e6773223a7b22686f7374223a227373683a2f2f6c61625f776f726b73746174696f6e227d7d/workspace/2d_to_3d/apps/eval_getfig.ipynb#W5sdnNjb2RlLXJlbW90ZQ%3D%3D?line=3'>4</a>\u001b[0m \u001b[39mraise\u001b[39;00m\n",
      "\u001b[0;31mRuntimeError\u001b[0m: No active exception to reraise"
     ]
    }
   ],
   "source": [
    "import gc\n",
    "gc.collect()\n",
    "torch.cuda.empty_cache()\n",
    "raise"
   ]
  },
  {
   "cell_type": "code",
   "execution_count": 7,
   "metadata": {},
   "outputs": [
    {
     "name": "stderr",
     "output_type": "stream",
     "text": [
      "\u001b[94m03:58:37 \u001b[92m[INFO]\u001b[94m Main\u001b[0m: Starting demo...\n",
      "Failed to detect the name of this notebook, you can set it manually with the WANDB_NOTEBOOK_NAME environment variable to enable code saving.\n",
      "\u001b[34m\u001b[1mwandb\u001b[0m: Currently logged in as: \u001b[33mvhehduatks\u001b[0m. Use \u001b[1m`wandb login --relogin`\u001b[0m to force relogin\n"
     ]
    },
    {
     "data": {
      "text/html": [
       "wandb version 0.15.10 is available!  To upgrade, please run:\n",
       " $ pip install wandb --upgrade"
      ],
      "text/plain": [
       "<IPython.core.display.HTML object>"
      ]
     },
     "metadata": {},
     "output_type": "display_data"
    },
    {
     "data": {
      "text/html": [
       "Tracking run with wandb version 0.14.0"
      ],
      "text/plain": [
       "<IPython.core.display.HTML object>"
      ]
     },
     "metadata": {},
     "output_type": "display_data"
    },
    {
     "data": {
      "text/html": [
       "Run data is saved locally in <code>/workspace/2d_to_3d/apps/wandb/run-20230920_035839-50i91kbn</code>"
      ],
      "text/plain": [
       "<IPython.core.display.HTML object>"
      ]
     },
     "metadata": {},
     "output_type": "display_data"
    },
    {
     "data": {
      "text/html": [
       "Syncing run <strong><a href='https://wandb.ai/vhehduatks/2d%20to%203d/runs/50i91kbn' target=\"_blank\">upbeat-frog-473</a></strong> to <a href='https://wandb.ai/vhehduatks/2d%20to%203d' target=\"_blank\">Weights & Biases</a> (<a href='https://wandb.me/run' target=\"_blank\">docs</a>)<br/>"
      ],
      "text/plain": [
       "<IPython.core.display.HTML object>"
      ]
     },
     "metadata": {},
     "output_type": "display_data"
    },
    {
     "data": {
      "text/html": [
       " View project at <a href='https://wandb.ai/vhehduatks/2d%20to%203d' target=\"_blank\">https://wandb.ai/vhehduatks/2d%20to%203d</a>"
      ],
      "text/plain": [
       "<IPython.core.display.HTML object>"
      ]
     },
     "metadata": {},
     "output_type": "display_data"
    },
    {
     "data": {
      "text/html": [
       " View run at <a href='https://wandb.ai/vhehduatks/2d%20to%203d/runs/50i91kbn' target=\"_blank\">https://wandb.ai/vhehduatks/2d%20to%203d/runs/50i91kbn</a>"
      ],
      "text/plain": [
       "<IPython.core.display.HTML object>"
      ]
     },
     "metadata": {},
     "output_type": "display_data"
    },
    {
     "name": "stderr",
     "output_type": "stream",
     "text": [
      "  0%|          | 0/5352 [00:00<?, ?it/s]/opt/conda/lib/python3.10/site-packages/torchvision/transforms/transforms.py:329: UserWarning: Argument 'interpolation' of type int is deprecated since 0.13 and will be removed in 0.15. Please use InterpolationMode enum.\n",
      "  warnings.warn(\n",
      "/opt/conda/lib/python3.10/site-packages/torchvision/transforms/transforms.py:329: UserWarning: Argument 'interpolation' of type int is deprecated since 0.13 and will be removed in 0.15. Please use InterpolationMode enum.\n",
      "  warnings.warn(\n",
      "/opt/conda/lib/python3.10/site-packages/torchvision/transforms/transforms.py:329: UserWarning: Argument 'interpolation' of type int is deprecated since 0.13 and will be removed in 0.15. Please use InterpolationMode enum.\n",
      "  warnings.warn(\n",
      "/opt/conda/lib/python3.10/site-packages/torchvision/transforms/transforms.py:329: UserWarning: Argument 'interpolation' of type int is deprecated since 0.13 and will be removed in 0.15. Please use InterpolationMode enum.\n",
      "  warnings.warn(\n",
      "/opt/conda/lib/python3.10/site-packages/torchvision/transforms/transforms.py:329: UserWarning: Argument 'interpolation' of type int is deprecated since 0.13 and will be removed in 0.15. Please use InterpolationMode enum.\n",
      "  warnings.warn(\n",
      "/opt/conda/lib/python3.10/site-packages/torchvision/transforms/transforms.py:329: UserWarning: Argument 'interpolation' of type int is deprecated since 0.13 and will be removed in 0.15. Please use InterpolationMode enum.\n",
      "  warnings.warn(\n",
      "/opt/conda/lib/python3.10/site-packages/torchvision/transforms/transforms.py:329: UserWarning: Argument 'interpolation' of type int is deprecated since 0.13 and will be removed in 0.15. Please use InterpolationMode enum.\n",
      "  warnings.warn(\n",
      "/opt/conda/lib/python3.10/site-packages/torchvision/transforms/transforms.py:329: UserWarning: Argument 'interpolation' of type int is deprecated since 0.13 and will be removed in 0.15. Please use InterpolationMode enum.\n",
      "  warnings.warn(\n",
      "/opt/conda/lib/python3.10/site-packages/torchvision/transforms/transforms.py:329: UserWarning: Argument 'interpolation' of type int is deprecated since 0.13 and will be removed in 0.15. Please use InterpolationMode enum.\n",
      "  warnings.warn(\n",
      "/opt/conda/lib/python3.10/site-packages/torchvision/transforms/transforms.py:329: UserWarning: Argument 'interpolation' of type int is deprecated since 0.13 and will be removed in 0.15. Please use InterpolationMode enum.\n",
      "  warnings.warn(\n",
      "/opt/conda/lib/python3.10/site-packages/torchvision/transforms/transforms.py:329: UserWarning: Argument 'interpolation' of type int is deprecated since 0.13 and will be removed in 0.15. Please use InterpolationMode enum.\n",
      "  warnings.warn(\n",
      "/opt/conda/lib/python3.10/site-packages/torchvision/transforms/transforms.py:329: UserWarning: Argument 'interpolation' of type int is deprecated since 0.13 and will be removed in 0.15. Please use InterpolationMode enum.\n",
      "  warnings.warn(\n",
      "/opt/conda/lib/python3.10/site-packages/torchvision/transforms/transforms.py:329: UserWarning: Argument 'interpolation' of type int is deprecated since 0.13 and will be removed in 0.15. Please use InterpolationMode enum.\n",
      "  warnings.warn(\n",
      "/opt/conda/lib/python3.10/site-packages/torchvision/transforms/transforms.py:329: UserWarning: Argument 'interpolation' of type int is deprecated since 0.13 and will be removed in 0.15. Please use InterpolationMode enum.\n",
      "  warnings.warn(\n",
      "/opt/conda/lib/python3.10/site-packages/torchvision/transforms/transforms.py:329: UserWarning: Argument 'interpolation' of type int is deprecated since 0.13 and will be removed in 0.15. Please use InterpolationMode enum.\n",
      "  warnings.warn(\n",
      "/opt/conda/lib/python3.10/site-packages/torchvision/transforms/transforms.py:329: UserWarning: Argument 'interpolation' of type int is deprecated since 0.13 and will be removed in 0.15. Please use InterpolationMode enum.\n",
      "  warnings.warn(\n",
      "/opt/conda/lib/python3.10/site-packages/torchvision/transforms/transforms.py:329: UserWarning: Argument 'interpolation' of type int is deprecated since 0.13 and will be removed in 0.15. Please use InterpolationMode enum.\n",
      "  warnings.warn(\n",
      "/opt/conda/lib/python3.10/site-packages/torchvision/transforms/transforms.py:329: UserWarning: Argument 'interpolation' of type int is deprecated since 0.13 and will be removed in 0.15. Please use InterpolationMode enum.\n",
      "  warnings.warn(\n",
      "/opt/conda/lib/python3.10/site-packages/torchvision/transforms/transforms.py:329: UserWarning: Argument 'interpolation' of type int is deprecated since 0.13 and will be removed in 0.15. Please use InterpolationMode enum.\n",
      "  warnings.warn(\n",
      "/opt/conda/lib/python3.10/site-packages/torchvision/transforms/transforms.py:329: UserWarning: Argument 'interpolation' of type int is deprecated since 0.13 and will be removed in 0.15. Please use InterpolationMode enum.\n",
      "  warnings.warn(\n",
      "/opt/conda/lib/python3.10/site-packages/torchvision/transforms/transforms.py:329: UserWarning: Argument 'interpolation' of type int is deprecated since 0.13 and will be removed in 0.15. Please use InterpolationMode enum.\n",
      "  warnings.warn(\n",
      "/opt/conda/lib/python3.10/site-packages/torchvision/transforms/transforms.py:329: UserWarning: Argument 'interpolation' of type int is deprecated since 0.13 and will be removed in 0.15. Please use InterpolationMode enum.\n",
      "  warnings.warn(\n",
      "/opt/conda/lib/python3.10/site-packages/torchvision/transforms/transforms.py:329: UserWarning: Argument 'interpolation' of type int is deprecated since 0.13 and will be removed in 0.15. Please use InterpolationMode enum.\n",
      "  warnings.warn(\n",
      "/opt/conda/lib/python3.10/site-packages/torchvision/transforms/transforms.py:329: UserWarning: Argument 'interpolation' of type int is deprecated since 0.13 and will be removed in 0.15. Please use InterpolationMode enum.\n",
      "  warnings.warn(\n",
      "  4%|▎         | 199/5352 [00:37<11:27,  7.50it/s] "
     ]
    },
    {
     "name": "stdout",
     "output_type": "stream",
     "text": [
      "{'FullBody': {'All': 66.60209655761719, 'Walking': 79.2122573852539, 'Patting': 121.14388275146484, 'UpperStretching': 63.47579574584961, 'LowerStretching': 64.51702117919922}, 'UpperBody': {'All': 56.68999481201172, 'Walking': 55.63530349731445, 'Patting': 78.01993560791016, 'UpperStretching': 58.63919448852539, 'LowerStretching': 41.09249496459961}, 'LowerBody': {'All': 76.51419830322266, 'Walking': 102.78922271728516, 'Patting': 164.267822265625, 'UpperStretching': 68.31239318847656, 'LowerStretching': 87.9415283203125}}\n"
     ]
    },
    {
     "name": "stderr",
     "output_type": "stream",
     "text": [
      "  7%|▋         | 399/5352 [01:19<11:41,  7.06it/s]  "
     ]
    },
    {
     "name": "stdout",
     "output_type": "stream",
     "text": [
      "{'FullBody': {'All': 65.88604736328125, 'Walking': 76.020751953125, 'Patting': 121.14388275146484, 'UpperStretching': 61.9903450012207, 'LowerStretching': 68.11283874511719}, 'UpperBody': {'All': 54.63478088378906, 'Walking': 52.030860900878906, 'Patting': 78.01993560791016, 'UpperStretching': 57.36933517456055, 'LowerStretching': 40.00556564331055}, 'LowerBody': {'All': 77.13732147216797, 'Walking': 100.01063537597656, 'Patting': 164.267822265625, 'UpperStretching': 66.61136627197266, 'LowerStretching': 96.22010803222656}}\n"
     ]
    },
    {
     "name": "stderr",
     "output_type": "stream",
     "text": [
      " 11%|█         | 599/5352 [02:02<10:45,  7.36it/s]  "
     ]
    },
    {
     "name": "stdout",
     "output_type": "stream",
     "text": [
      "{'FullBody': {'All': 65.2747573852539, 'Walking': 69.96053314208984, 'Patting': 121.14388275146484, 'UpperStretching': 61.59153366088867, 'LowerStretching': 68.96141052246094}, 'UpperBody': {'All': 52.19013214111328, 'Walking': 50.106605529785156, 'Patting': 78.01993560791016, 'UpperStretching': 55.61891555786133, 'LowerStretching': 40.9337043762207}, 'LowerBody': {'All': 78.359375, 'Walking': 89.814453125, 'Patting': 164.267822265625, 'UpperStretching': 67.56414794921875, 'LowerStretching': 96.9891128540039}}\n"
     ]
    },
    {
     "name": "stderr",
     "output_type": "stream",
     "text": [
      " 15%|█▍        | 799/5352 [02:44<10:23,  7.30it/s]  "
     ]
    },
    {
     "name": "stdout",
     "output_type": "stream",
     "text": [
      "{'FullBody': {'All': 65.60682678222656, 'Walking': 69.96053314208984, 'Patting': 121.14388275146484, 'UpperStretching': 63.366790771484375, 'LowerStretching': 68.3565673828125}, 'UpperBody': {'All': 52.56656265258789, 'Walking': 50.106605529785156, 'Patting': 78.01993560791016, 'UpperStretching': 55.155269622802734, 'LowerStretching': 40.98402404785156}, 'LowerBody': {'All': 78.64708709716797, 'Walking': 89.814453125, 'Patting': 164.267822265625, 'UpperStretching': 71.57832336425781, 'LowerStretching': 95.72911834716797}}\n"
     ]
    },
    {
     "name": "stderr",
     "output_type": "stream",
     "text": [
      " 19%|█▊        | 999/5352 [03:26<26:26,  2.74it/s]  "
     ]
    },
    {
     "name": "stdout",
     "output_type": "stream",
     "text": [
      "{'FullBody': {'All': 65.19461822509766, 'Walking': 68.93267059326172, 'Patting': 121.14388275146484, 'UpperStretching': 62.807682037353516, 'LowerStretching': 68.37734985351562}, 'UpperBody': {'All': 51.12500762939453, 'Walking': 47.053306579589844, 'Patting': 78.01993560791016, 'UpperStretching': 54.32322311401367, 'LowerStretching': 40.72035217285156}, 'LowerBody': {'All': 79.26422882080078, 'Walking': 90.81202697753906, 'Patting': 164.267822265625, 'UpperStretching': 71.2921371459961, 'LowerStretching': 96.03433990478516}}\n"
     ]
    },
    {
     "name": "stderr",
     "output_type": "stream",
     "text": [
      " 22%|██▏       | 1199/5352 [04:08<13:55,  4.97it/s]  "
     ]
    },
    {
     "name": "stdout",
     "output_type": "stream",
     "text": [
      "{'FullBody': {'All': 64.80734252929688, 'Walking': 69.65446472167969, 'Patting': 121.14388275146484, 'UpperStretching': 62.655765533447266, 'LowerStretching': 66.24322509765625}, 'UpperBody': {'All': 51.313777923583984, 'Walking': 48.4815673828125, 'Patting': 78.01993560791016, 'UpperStretching': 54.4015007019043, 'LowerStretching': 42.30768966674805}, 'LowerBody': {'All': 78.30091094970703, 'Walking': 90.82736206054688, 'Patting': 164.267822265625, 'UpperStretching': 70.9100341796875, 'LowerStretching': 90.17875671386719}}\n"
     ]
    },
    {
     "name": "stderr",
     "output_type": "stream",
     "text": [
      " 26%|██▌       | 1399/5352 [04:48<09:01,  7.30it/s]  "
     ]
    },
    {
     "name": "stdout",
     "output_type": "stream",
     "text": [
      "{'FullBody': {'All': 64.0191650390625, 'Walking': 69.11102294921875, 'Patting': 121.14388275146484, 'UpperStretching': 62.00580978393555, 'LowerStretching': 66.24386596679688}, 'UpperBody': {'All': 51.06592559814453, 'Walking': 48.15373611450195, 'Patting': 78.01993560791016, 'UpperStretching': 53.512535095214844, 'LowerStretching': 42.30851745605469}, 'LowerBody': {'All': 76.97240447998047, 'Walking': 90.06831359863281, 'Patting': 164.267822265625, 'UpperStretching': 70.49909210205078, 'LowerStretching': 90.1792221069336}}\n"
     ]
    },
    {
     "name": "stderr",
     "output_type": "stream",
     "text": [
      " 30%|██▉       | 1599/5352 [05:31<08:35,  7.28it/s]  "
     ]
    },
    {
     "name": "stdout",
     "output_type": "stream",
     "text": [
      "{'FullBody': {'All': 64.24072265625, 'Walking': 69.3663558959961, 'Patting': 121.14388275146484, 'UpperStretching': 62.17658615112305, 'LowerStretching': 66.14178466796875}, 'UpperBody': {'All': 50.79999923706055, 'Walking': 48.6574592590332, 'Patting': 78.01993560791016, 'UpperStretching': 52.99107360839844, 'LowerStretching': 43.783668518066406}, 'LowerBody': {'All': 77.68143463134766, 'Walking': 90.07525634765625, 'Patting': 164.267822265625, 'UpperStretching': 71.36210632324219, 'LowerStretching': 88.4999008178711}}\n"
     ]
    },
    {
     "name": "stderr",
     "output_type": "stream",
     "text": [
      " 34%|███▎      | 1799/5352 [06:12<08:10,  7.24it/s]  "
     ]
    },
    {
     "name": "stdout",
     "output_type": "stream",
     "text": [
      "{'FullBody': {'All': 66.72282409667969, 'Walking': 69.24340057373047, 'Patting': 121.14388275146484, 'UpperStretching': 65.02300262451172, 'LowerStretching': 69.2708969116211}, 'UpperBody': {'All': 51.76594543457031, 'Walking': 48.719703674316406, 'Patting': 78.01993560791016, 'UpperStretching': 53.802371978759766, 'LowerStretching': 46.24552536010742}, 'LowerBody': {'All': 81.67970275878906, 'Walking': 89.76709747314453, 'Patting': 164.267822265625, 'UpperStretching': 76.24363708496094, 'LowerStretching': 92.29625701904297}}\n"
     ]
    },
    {
     "name": "stderr",
     "output_type": "stream",
     "text": [
      " 37%|███▋      | 1999/5352 [06:54<07:45,  7.21it/s]  "
     ]
    },
    {
     "name": "stdout",
     "output_type": "stream",
     "text": [
      "{'FullBody': {'All': 67.05267333984375, 'Walking': 71.9234390258789, 'Patting': 67.3411865234375, 'UpperStretching': 66.22872924804688, 'LowerStretching': 69.28680419921875, 'Greeting': 54.76677703857422, 'Talking': 52.28142166137695, 'Gesticuling': 55.820655822753906, 'Reacting': 60.46930694580078}, 'UpperBody': {'All': 51.840187072753906, 'Walking': 50.465091705322266, 'Patting': 47.14292907714844, 'UpperStretching': 54.245933532714844, 'LowerStretching': 46.248531341552734, 'Greeting': 47.032501220703125, 'Talking': 45.35467529296875, 'Gesticuling': 44.87532043457031, 'Reacting': 54.49697494506836}, 'LowerBody': {'All': 82.2651596069336, 'Walking': 93.38178253173828, 'Patting': 87.53944396972656, 'UpperStretching': 78.21153259277344, 'LowerStretching': 92.32506561279297, 'Greeting': 62.50105667114258, 'Talking': 59.20816421508789, 'Gesticuling': 66.7659912109375, 'Reacting': 66.441650390625}}\n"
     ]
    },
    {
     "name": "stderr",
     "output_type": "stream",
     "text": [
      " 41%|████      | 2199/5352 [07:36<07:08,  7.35it/s]  "
     ]
    },
    {
     "name": "stdout",
     "output_type": "stream",
     "text": [
      "{'FullBody': {'All': 66.76069641113281, 'Walking': 71.80857849121094, 'Patting': 67.1890869140625, 'UpperStretching': 66.23454284667969, 'LowerStretching': 69.1032943725586, 'Greeting': 54.1436882019043, 'Talking': 55.021995544433594, 'Gesticuling': 57.139644622802734, 'Reacting': 64.55668640136719, 'Gaming': 68.05622863769531}, 'UpperBody': {'All': 51.99809646606445, 'Walking': 50.567630767822266, 'Patting': 48.752803802490234, 'UpperStretching': 54.27042770385742, 'LowerStretching': 46.14320755004883, 'Greeting': 46.550880432128906, 'Talking': 49.20856475830078, 'Gesticuling': 48.31319808959961, 'Reacting': 52.920631408691406, 'Gaming': 56.86420822143555}, 'LowerBody': {'All': 81.5232925415039, 'Walking': 93.0495376586914, 'Patting': 85.6253662109375, 'UpperStretching': 78.19866180419922, 'LowerStretching': 92.06339263916016, 'Greeting': 61.73649597167969, 'Talking': 60.83543014526367, 'Gesticuling': 65.96609497070312, 'Reacting': 76.19274139404297, 'Gaming': 79.24825286865234}}\n"
     ]
    },
    {
     "name": "stderr",
     "output_type": "stream",
     "text": [
      " 45%|████▍     | 2399/5352 [08:18<06:52,  7.17it/s]  "
     ]
    },
    {
     "name": "stdout",
     "output_type": "stream",
     "text": [
      "{'FullBody': {'All': 65.68689727783203, 'Walking': 71.80857849121094, 'Patting': 59.72509765625, 'UpperStretching': 66.21235656738281, 'LowerStretching': 69.1032943725586, 'Greeting': 51.89411163330078, 'Talking': 50.93404006958008, 'Gesticuling': 57.1574821472168, 'Reacting': 62.52989959716797, 'Gaming': 63.64552307128906}, 'UpperBody': {'All': 51.3379020690918, 'Walking': 50.567630767822266, 'Patting': 43.33796691894531, 'UpperStretching': 54.291099548339844, 'LowerStretching': 46.14320755004883, 'Greeting': 44.12013626098633, 'Talking': 46.20337677001953, 'Gesticuling': 47.92477035522461, 'Reacting': 51.2442512512207, 'Gaming': 51.02945327758789}, 'LowerBody': {'All': 80.03589630126953, 'Walking': 93.0495376586914, 'Patting': 76.11222076416016, 'UpperStretching': 78.13362121582031, 'LowerStretching': 92.06339263916016, 'Greeting': 59.668087005615234, 'Talking': 55.664703369140625, 'Gesticuling': 66.39017486572266, 'Reacting': 73.81554412841797, 'Gaming': 76.26158905029297}}\n"
     ]
    },
    {
     "name": "stderr",
     "output_type": "stream",
     "text": [
      " 49%|████▊     | 2599/5352 [09:00<06:20,  7.23it/s]  "
     ]
    },
    {
     "name": "stdout",
     "output_type": "stream",
     "text": [
      "{'FullBody': {'All': 64.89701080322266, 'Walking': 71.60001373291016, 'Patting': 59.74788284301758, 'UpperStretching': 65.0468521118164, 'LowerStretching': 68.8494873046875, 'Greeting': 51.98674774169922, 'Talking': 51.9632682800293, 'Gesticuling': 57.9948844909668, 'Reacting': 62.80057907104492, 'Gaming': 62.732757568359375}, 'UpperBody': {'All': 50.92069625854492, 'Walking': 50.566444396972656, 'Patting': 44.08531951904297, 'UpperStretching': 53.21348190307617, 'LowerStretching': 46.04132843017578, 'Greeting': 43.626583099365234, 'Talking': 46.70903778076172, 'Gesticuling': 49.33852767944336, 'Reacting': 52.49104690551758, 'Gaming': 50.158016204833984}, 'LowerBody': {'All': 78.87332916259766, 'Walking': 92.63357543945312, 'Patting': 75.41044616699219, 'UpperStretching': 76.8802261352539, 'LowerStretching': 91.65763092041016, 'Greeting': 60.346920013427734, 'Talking': 57.21750259399414, 'Gesticuling': 66.6512451171875, 'Reacting': 73.11009979248047, 'Gaming': 75.30750274658203}}\n"
     ]
    },
    {
     "name": "stderr",
     "output_type": "stream",
     "text": [
      " 52%|█████▏    | 2799/5352 [09:42<05:47,  7.34it/s]  "
     ]
    },
    {
     "name": "stdout",
     "output_type": "stream",
     "text": [
      "{'FullBody': {'All': 64.04443359375, 'Walking': 69.27838134765625, 'Patting': 59.74788284301758, 'UpperStretching': 64.4044189453125, 'LowerStretching': 65.96229553222656, 'Greeting': 51.98674774169922, 'Talking': 51.9632682800293, 'Gesticuling': 57.9948844909668, 'Reacting': 62.80057907104492, 'Gaming': 62.732757568359375}, 'UpperBody': {'All': 49.650428771972656, 'Walking': 48.15149688720703, 'Patting': 44.08531951904297, 'UpperStretching': 52.10099411010742, 'LowerStretching': 43.54711151123047, 'Greeting': 43.626583099365234, 'Talking': 46.70903778076172, 'Gesticuling': 49.33852767944336, 'Reacting': 52.49104690551758, 'Gaming': 50.158016204833984}, 'LowerBody': {'All': 78.43843841552734, 'Walking': 90.4052734375, 'Patting': 75.41044616699219, 'UpperStretching': 76.70785522460938, 'LowerStretching': 88.37747955322266, 'Greeting': 60.346920013427734, 'Talking': 57.21750259399414, 'Gesticuling': 66.6512451171875, 'Reacting': 73.11009979248047, 'Gaming': 75.30750274658203}}\n"
     ]
    },
    {
     "name": "stderr",
     "output_type": "stream",
     "text": [
      " 56%|█████▌    | 2999/5352 [10:24<05:27,  7.19it/s]  "
     ]
    },
    {
     "name": "stdout",
     "output_type": "stream",
     "text": [
      "{'FullBody': {'All': 63.61663055419922, 'Walking': 69.27838134765625, 'Patting': 59.74788284301758, 'UpperStretching': 63.600624084472656, 'LowerStretching': 65.82174682617188, 'Greeting': 51.98674774169922, 'Talking': 51.9632682800293, 'Gesticuling': 57.9948844909668, 'Reacting': 62.80057907104492, 'Gaming': 62.732757568359375}, 'UpperBody': {'All': 49.5136604309082, 'Walking': 48.15149688720703, 'Patting': 44.08531951904297, 'UpperStretching': 51.63907241821289, 'LowerStretching': 43.63023376464844, 'Greeting': 43.626583099365234, 'Talking': 46.70903778076172, 'Gesticuling': 49.33852767944336, 'Reacting': 52.49104690551758, 'Gaming': 50.158016204833984}, 'LowerBody': {'All': 77.7196044921875, 'Walking': 90.4052734375, 'Patting': 75.41044616699219, 'UpperStretching': 75.56216430664062, 'LowerStretching': 88.01325225830078, 'Greeting': 60.346920013427734, 'Talking': 57.21750259399414, 'Gesticuling': 66.6512451171875, 'Reacting': 73.11009979248047, 'Gaming': 75.30750274658203}}\n"
     ]
    },
    {
     "name": "stderr",
     "output_type": "stream",
     "text": [
      " 60%|█████▉    | 3199/5352 [11:04<04:56,  7.27it/s]  "
     ]
    },
    {
     "name": "stdout",
     "output_type": "stream",
     "text": [
      "{'FullBody': {'All': 62.94313430786133, 'Walking': 67.45408630371094, 'Patting': 59.74788284301758, 'UpperStretching': 63.02785873413086, 'LowerStretching': 64.14820098876953, 'Greeting': 51.98674774169922, 'Talking': 51.9632682800293, 'Gesticuling': 57.9948844909668, 'Reacting': 62.80057907104492, 'Gaming': 62.732757568359375}, 'UpperBody': {'All': 49.08431625366211, 'Walking': 46.8668098449707, 'Patting': 44.08531951904297, 'UpperStretching': 51.36085891723633, 'LowerStretching': 42.83535385131836, 'Greeting': 43.626583099365234, 'Talking': 46.70903778076172, 'Gesticuling': 49.33852767944336, 'Reacting': 52.49104690551758, 'Gaming': 50.158016204833984}, 'LowerBody': {'All': 76.80195617675781, 'Walking': 88.0413589477539, 'Patting': 75.41044616699219, 'UpperStretching': 74.6948471069336, 'LowerStretching': 85.4610595703125, 'Greeting': 60.346920013427734, 'Talking': 57.21750259399414, 'Gesticuling': 66.6512451171875, 'Reacting': 73.11009979248047, 'Gaming': 75.30750274658203}}\n"
     ]
    },
    {
     "name": "stderr",
     "output_type": "stream",
     "text": [
      " 64%|██████▎   | 3399/5352 [11:47<04:31,  7.18it/s]  "
     ]
    },
    {
     "name": "stdout",
     "output_type": "stream",
     "text": [
      "{'FullBody': {'All': 62.44074630737305, 'Walking': 65.82415008544922, 'Patting': 59.74788284301758, 'UpperStretching': 62.624671936035156, 'LowerStretching': 63.07534408569336, 'Greeting': 51.98674774169922, 'Talking': 51.9632682800293, 'Gesticuling': 57.9948844909668, 'Reacting': 62.80057907104492, 'Gaming': 62.732757568359375}, 'UpperBody': {'All': 48.434837341308594, 'Walking': 45.506309509277344, 'Patting': 44.08531951904297, 'UpperStretching': 50.815887451171875, 'LowerStretching': 42.09211730957031, 'Greeting': 43.626583099365234, 'Talking': 46.70903778076172, 'Gesticuling': 49.33852767944336, 'Reacting': 52.49104690551758, 'Gaming': 50.158016204833984}, 'LowerBody': {'All': 76.4466552734375, 'Walking': 86.1419906616211, 'Patting': 75.41044616699219, 'UpperStretching': 74.43345642089844, 'LowerStretching': 84.05857849121094, 'Greeting': 60.346920013427734, 'Talking': 57.21750259399414, 'Gesticuling': 66.6512451171875, 'Reacting': 73.11009979248047, 'Gaming': 75.30750274658203}}\n"
     ]
    },
    {
     "name": "stderr",
     "output_type": "stream",
     "text": [
      " 67%|██████▋   | 3599/5352 [12:30<04:02,  7.23it/s]  "
     ]
    },
    {
     "name": "stdout",
     "output_type": "stream",
     "text": [
      "{'FullBody': {'All': 64.52993774414062, 'Walking': 65.82415008544922, 'Patting': 59.74788284301758, 'UpperStretching': 66.25775909423828, 'LowerStretching': 63.081504821777344, 'Greeting': 51.98674774169922, 'Talking': 51.9632682800293, 'Gesticuling': 57.9948844909668, 'Reacting': 62.80057907104492, 'Gaming': 62.732757568359375}, 'UpperBody': {'All': 50.826560974121094, 'Walking': 45.506309509277344, 'Patting': 44.08531951904297, 'UpperStretching': 54.76512145996094, 'LowerStretching': 42.097023010253906, 'Greeting': 43.626583099365234, 'Talking': 46.70903778076172, 'Gesticuling': 49.33852767944336, 'Reacting': 52.49104690551758, 'Gaming': 50.158016204833984}, 'LowerBody': {'All': 78.23331451416016, 'Walking': 86.1419906616211, 'Patting': 75.41044616699219, 'UpperStretching': 77.75038146972656, 'LowerStretching': 84.06598663330078, 'Greeting': 60.346920013427734, 'Talking': 57.21750259399414, 'Gesticuling': 66.6512451171875, 'Reacting': 73.11009979248047, 'Gaming': 75.30750274658203}}\n"
     ]
    },
    {
     "name": "stderr",
     "output_type": "stream",
     "text": [
      " 71%|███████   | 3799/5352 [13:09<03:35,  7.20it/s]  "
     ]
    },
    {
     "name": "stdout",
     "output_type": "stream",
     "text": [
      "{'FullBody': {'All': 66.52198028564453, 'Walking': 68.08934020996094, 'Patting': 59.74788284301758, 'UpperStretching': 68.55718994140625, 'LowerStretching': 65.50276184082031, 'Greeting': 51.98674774169922, 'Talking': 51.9632682800293, 'Gesticuling': 57.9948844909668, 'Reacting': 62.80057907104492, 'Gaming': 62.732757568359375}, 'UpperBody': {'All': 52.389671325683594, 'Walking': 47.08882141113281, 'Patting': 44.08531951904297, 'UpperStretching': 57.076805114746094, 'LowerStretching': 43.166629791259766, 'Greeting': 43.626583099365234, 'Talking': 46.70903778076172, 'Gesticuling': 49.33852767944336, 'Reacting': 52.49104690551758, 'Gaming': 50.158016204833984}, 'LowerBody': {'All': 80.65428161621094, 'Walking': 89.08985137939453, 'Patting': 75.41044616699219, 'UpperStretching': 80.0375747680664, 'LowerStretching': 87.83890533447266, 'Greeting': 60.346920013427734, 'Talking': 57.21750259399414, 'Gesticuling': 66.6512451171875, 'Reacting': 73.11009979248047, 'Gaming': 75.30750274658203}}\n"
     ]
    },
    {
     "name": "stderr",
     "output_type": "stream",
     "text": [
      " 75%|███████▍  | 3999/5352 [13:53<03:10,  7.09it/s]  "
     ]
    },
    {
     "name": "stdout",
     "output_type": "stream",
     "text": [
      "{'FullBody': {'All': 68.15506744384766, 'Walking': 68.5268325805664, 'Patting': 59.74788284301758, 'UpperStretching': 70.64260864257812, 'LowerStretching': 67.49366760253906, 'Greeting': 51.98674774169922, 'Talking': 51.9632682800293, 'Gesticuling': 57.9948844909668, 'Reacting': 62.80057907104492, 'Gaming': 62.732757568359375}, 'UpperBody': {'All': 53.602508544921875, 'Walking': 47.17781066894531, 'Patting': 44.08531951904297, 'UpperStretching': 58.985984802246094, 'LowerStretching': 44.045284271240234, 'Greeting': 43.626583099365234, 'Talking': 46.70903778076172, 'Gesticuling': 49.33852767944336, 'Reacting': 52.49104690551758, 'Gaming': 50.158016204833984}, 'LowerBody': {'All': 82.7076416015625, 'Walking': 89.8758544921875, 'Patting': 75.41044616699219, 'UpperStretching': 82.29922485351562, 'LowerStretching': 90.94205474853516, 'Greeting': 60.346920013427734, 'Talking': 57.21750259399414, 'Gesticuling': 66.6512451171875, 'Reacting': 73.11009979248047, 'Gaming': 75.30750274658203}}\n"
     ]
    },
    {
     "name": "stderr",
     "output_type": "stream",
     "text": [
      " 78%|███████▊  | 4199/5352 [14:33<02:40,  7.20it/s]  "
     ]
    },
    {
     "name": "stdout",
     "output_type": "stream",
     "text": [
      "{'FullBody': {'All': 68.57508850097656, 'Walking': 69.9482421875, 'Patting': 59.74788284301758, 'UpperStretching': 70.91316986083984, 'LowerStretching': 67.49366760253906, 'Greeting': 51.98674774169922, 'Talking': 51.9632682800293, 'Gesticuling': 57.9948844909668, 'Reacting': 62.80057907104492, 'Gaming': 62.732757568359375}, 'UpperBody': {'All': 54.151123046875, 'Walking': 48.387718200683594, 'Patting': 44.08531951904297, 'UpperStretching': 59.357017517089844, 'LowerStretching': 44.045284271240234, 'Greeting': 43.626583099365234, 'Talking': 46.70903778076172, 'Gesticuling': 49.33852767944336, 'Reacting': 52.49104690551758, 'Gaming': 50.158016204833984}, 'LowerBody': {'All': 82.99906158447266, 'Walking': 91.5087661743164, 'Patting': 75.41044616699219, 'UpperStretching': 82.46932220458984, 'LowerStretching': 90.94205474853516, 'Greeting': 60.346920013427734, 'Talking': 57.21750259399414, 'Gesticuling': 66.6512451171875, 'Reacting': 73.11009979248047, 'Gaming': 75.30750274658203}}\n"
     ]
    },
    {
     "name": "stderr",
     "output_type": "stream",
     "text": [
      " 82%|████████▏ | 4399/5352 [15:17<02:09,  7.34it/s]  "
     ]
    },
    {
     "name": "stdout",
     "output_type": "stream",
     "text": [
      "{'FullBody': {'All': 68.18034362792969, 'Walking': 68.72626495361328, 'Patting': 68.1299819946289, 'UpperStretching': 70.5252685546875, 'LowerStretching': 66.30058288574219, 'Greeting': 51.98674774169922, 'Talking': 51.9632682800293, 'Gesticuling': 57.9948844909668, 'Reacting': 62.80057907104492, 'Gaming': 62.732757568359375}, 'UpperBody': {'All': 53.82657241821289, 'Walking': 47.80329895019531, 'Patting': 51.59934616088867, 'UpperStretching': 59.035301208496094, 'LowerStretching': 43.52490234375, 'Greeting': 43.626583099365234, 'Talking': 46.70903778076172, 'Gesticuling': 49.33852767944336, 'Reacting': 52.49104690551758, 'Gaming': 50.158016204833984}, 'LowerBody': {'All': 82.53411102294922, 'Walking': 89.64923858642578, 'Patting': 84.66061401367188, 'UpperStretching': 82.01522827148438, 'LowerStretching': 89.07625579833984, 'Greeting': 60.346920013427734, 'Talking': 57.21750259399414, 'Gesticuling': 66.6512451171875, 'Reacting': 73.11009979248047, 'Gaming': 75.30750274658203}}\n"
     ]
    },
    {
     "name": "stderr",
     "output_type": "stream",
     "text": [
      " 86%|████████▌ | 4599/5352 [15:56<01:43,  7.27it/s]"
     ]
    },
    {
     "name": "stdout",
     "output_type": "stream",
     "text": [
      "{'FullBody': {'All': 69.51496124267578, 'Walking': 68.72626495361328, 'Patting': 68.1299819946289, 'UpperStretching': 72.33561706542969, 'LowerStretching': 67.54872131347656, 'Greeting': 51.98674774169922, 'Talking': 51.9632682800293, 'Gesticuling': 57.9948844909668, 'Reacting': 62.80057907104492, 'Gaming': 62.732757568359375}, 'UpperBody': {'All': 54.67935562133789, 'Walking': 47.80329895019531, 'Patting': 51.59934616088867, 'UpperStretching': 60.21794891357422, 'LowerStretching': 44.12430191040039, 'Greeting': 43.626583099365234, 'Talking': 46.70903778076172, 'Gesticuling': 49.33852767944336, 'Reacting': 52.49104690551758, 'Gaming': 50.158016204833984}, 'LowerBody': {'All': 84.35057067871094, 'Walking': 89.64923858642578, 'Patting': 84.66061401367188, 'UpperStretching': 84.4532699584961, 'LowerStretching': 90.97315216064453, 'Greeting': 60.346920013427734, 'Talking': 57.21750259399414, 'Gesticuling': 66.6512451171875, 'Reacting': 73.11009979248047, 'Gaming': 75.30750274658203}}\n"
     ]
    },
    {
     "name": "stderr",
     "output_type": "stream",
     "text": [
      " 90%|████████▉ | 4799/5352 [16:40<01:15,  7.31it/s]  "
     ]
    },
    {
     "name": "stdout",
     "output_type": "stream",
     "text": [
      "{'FullBody': {'All': 70.53887176513672, 'Walking': 70.73399353027344, 'Patting': 68.1299819946289, 'UpperStretching': 73.54585266113281, 'LowerStretching': 67.60662841796875, 'Greeting': 51.98674774169922, 'Talking': 51.9632682800293, 'Gesticuling': 57.9948844909668, 'Reacting': 62.80057907104492, 'Gaming': 62.732757568359375}, 'UpperBody': {'All': 55.47260284423828, 'Walking': 48.80769729614258, 'Patting': 51.59934616088867, 'UpperStretching': 61.185176849365234, 'LowerStretching': 44.26226043701172, 'Greeting': 43.626583099365234, 'Talking': 46.70903778076172, 'Gesticuling': 49.33852767944336, 'Reacting': 52.49104690551758, 'Gaming': 50.158016204833984}, 'LowerBody': {'All': 85.60514831542969, 'Walking': 92.66029357910156, 'Patting': 84.66061401367188, 'UpperStretching': 85.90652465820312, 'LowerStretching': 90.95101165771484, 'Greeting': 60.346920013427734, 'Talking': 57.21750259399414, 'Gesticuling': 66.6512451171875, 'Reacting': 73.11009979248047, 'Gaming': 75.30750274658203}}\n"
     ]
    },
    {
     "name": "stderr",
     "output_type": "stream",
     "text": [
      " 93%|█████████▎| 4999/5352 [17:19<00:48,  7.28it/s]"
     ]
    },
    {
     "name": "stdout",
     "output_type": "stream",
     "text": [
      "{'FullBody': {'All': 70.88552856445312, 'Walking': 70.97859191894531, 'Patting': 68.1299819946289, 'UpperStretching': 73.85897064208984, 'LowerStretching': 68.234130859375, 'Greeting': 51.98674774169922, 'Talking': 51.9632682800293, 'Gesticuling': 57.9948844909668, 'Reacting': 62.80057907104492, 'Gaming': 62.732757568359375}, 'UpperBody': {'All': 55.3543701171875, 'Walking': 48.678226470947266, 'Patting': 51.59934616088867, 'UpperStretching': 61.1256103515625, 'LowerStretching': 44.34772872924805, 'Greeting': 43.626583099365234, 'Talking': 46.70903778076172, 'Gesticuling': 49.33852767944336, 'Reacting': 52.49104690551758, 'Gaming': 50.158016204833984}, 'LowerBody': {'All': 86.41667938232422, 'Walking': 93.2789535522461, 'Patting': 84.66061401367188, 'UpperStretching': 86.59233093261719, 'LowerStretching': 92.12052917480469, 'Greeting': 60.346920013427734, 'Talking': 57.21750259399414, 'Gesticuling': 66.6512451171875, 'Reacting': 73.11009979248047, 'Gaming': 75.30750274658203}}\n"
     ]
    },
    {
     "name": "stderr",
     "output_type": "stream",
     "text": [
      " 97%|█████████▋| 5199/5352 [18:04<00:21,  7.21it/s]"
     ]
    },
    {
     "name": "stdout",
     "output_type": "stream",
     "text": [
      "{'FullBody': {'All': 71.69815826416016, 'Walking': 70.97859191894531, 'Patting': 68.1299819946289, 'UpperStretching': 74.94248962402344, 'LowerStretching': 68.68151092529297, 'Greeting': 51.98674774169922, 'Talking': 51.9632682800293, 'Gesticuling': 57.9948844909668, 'Reacting': 62.80057907104492, 'Gaming': 62.732757568359375}, 'UpperBody': {'All': 56.36734390258789, 'Walking': 48.678226470947266, 'Patting': 51.59934616088867, 'UpperStretching': 62.49021911621094, 'LowerStretching': 44.68235397338867, 'Greeting': 43.626583099365234, 'Talking': 46.70903778076172, 'Gesticuling': 49.33852767944336, 'Reacting': 52.49104690551758, 'Gaming': 50.158016204833984}, 'LowerBody': {'All': 87.02896118164062, 'Walking': 93.2789535522461, 'Patting': 84.66061401367188, 'UpperStretching': 87.39476776123047, 'LowerStretching': 92.68067169189453, 'Greeting': 60.346920013427734, 'Talking': 57.21750259399414, 'Gesticuling': 66.6512451171875, 'Reacting': 73.11009979248047, 'Gaming': 75.30750274658203}}\n"
     ]
    },
    {
     "name": "stderr",
     "output_type": "stream",
     "text": [
      "100%|██████████| 5352/5352 [18:37<00:00,  4.79it/s]\n",
      "\u001b[94m04:17:23 \u001b[92m[INFO]\u001b[94m Main\u001b[0m: Saving evaluation results...\n",
      "\u001b[94m04:17:23 \u001b[92m[INFO]\u001b[94m Main\u001b[0m: Done.\n"
     ]
    },
    {
     "data": {
      "text/html": [
       "Waiting for W&B process to finish... <strong style=\"color:green\">(success).</strong>"
      ],
      "text/plain": [
       "<IPython.core.display.HTML object>"
      ]
     },
     "metadata": {},
     "output_type": "display_data"
    },
    {
     "data": {
      "text/html": [
       " View run <strong style=\"color:#cdcd00\">upbeat-frog-473</strong> at: <a href='https://wandb.ai/vhehduatks/2d%20to%203d/runs/50i91kbn' target=\"_blank\">https://wandb.ai/vhehduatks/2d%20to%203d/runs/50i91kbn</a><br/>Synced 6 W&B file(s), 104 media file(s), 0 artifact file(s) and 0 other file(s)"
      ],
      "text/plain": [
       "<IPython.core.display.HTML object>"
      ]
     },
     "metadata": {},
     "output_type": "display_data"
    },
    {
     "data": {
      "text/html": [
       "Find logs at: <code>./wandb/run-20230920_035839-50i91kbn/logs</code>"
      ],
      "text/plain": [
       "<IPython.core.display.HTML object>"
      ]
     },
     "metadata": {},
     "output_type": "display_data"
    }
   ],
   "source": [
    "for i,p in enumerate(path_):\n",
    "\t_path = f'/workspace/2d_to_3d/apps/eval/test/ours'\n",
    "\t_name = f'baseline815_{i}.json'\n",
    "\tif not os.path.exists(_path):\n",
    "\t\tos.makedirs(_path)\n",
    "\n",
    "\tmain(model_path=p,output_path=os.path.join(_path,_name))"
   ]
  }
 ],
 "metadata": {
  "kernelspec": {
   "display_name": "base",
   "language": "python",
   "name": "python3"
  },
  "language_info": {
   "codemirror_mode": {
    "name": "ipython",
    "version": 3
   },
   "file_extension": ".py",
   "mimetype": "text/x-python",
   "name": "python",
   "nbconvert_exporter": "python",
   "pygments_lexer": "ipython3",
   "version": "3.10.8"
  },
  "orig_nbformat": 4
 },
 "nbformat": 4,
 "nbformat_minor": 2
}
