{
 "cells": [
  {
   "cell_type": "code",
   "execution_count": 8,
   "metadata": {},
   "outputs": [],
   "source": [
    "# Copyright (c) Facebook, Inc. and its affiliates. All Rights Reserved\n",
    "# -*- coding: utf-8 -*-\n",
    "\"\"\"\n",
    "Demo code\n",
    "\n",
    "@author: Denis Tome'\n",
    "\n",
    "\"\"\"\n",
    "from torch.utils.data import DataLoader\n",
    "import torch\n",
    "from torchvision import transforms\n",
    "from base import SetType\n",
    "import multiprocessing\n",
    "from mocap import Mocap\n",
    "from utils import config, ConsoleLogger\n",
    "from utils import evaluate, io\n",
    "from model import TempModel\n",
    "from model_xregopose import xR_egoposemodel\n",
    "from model_mo2cap2 import mo2cap_ours, mo2capmodel\n",
    "from ours_model import Ours_model\n",
    "from tqdm import tqdm\n",
    "import os\n",
    "\n",
    "LOGGER = ConsoleLogger(\"Main\")\n",
    "use_cuda = torch.cuda.is_available()\n",
    "device = torch.device(\"cuda\" if use_cuda else \"cpu\")\n"
   ]
  },
  {
   "cell_type": "code",
   "execution_count": 9,
   "metadata": {},
   "outputs": [],
   "source": [
    "from torchvision.transforms.functional import to_pil_image\n",
    "import numpy as np\n",
    "import platform\n",
    "import matplotlib.pyplot as plt\n",
    "from utils import config\n",
    "import wandb\n",
    "split_token = '/' if 'Linux' in platform.platform() else '\\\\'"
   ]
  },
  {
   "cell_type": "code",
   "execution_count": 10,
   "metadata": {},
   "outputs": [],
   "source": [
    "\n",
    "def joint_3d_viewer(input_images, joints, labels, infos):\n",
    "\tcolors = plt.cm.jet(np.linspace(0, 1, 16))\n",
    "\ttemp_input_images = input_images.clone().detach().cpu()\n",
    "\ttemp_labels = labels.clone().detach().cpu() \n",
    "\ttemp_joints = joints.clone().detach().cpu() \n",
    "\tfig,ax = plt.subplots(len(labels),3,figsize=(10,70),subplot_kw={\"projection\":\"3d\"})\n",
    "\tfor i in range(len(labels)):\n",
    "\t\trows, cols, start, stop = ax[i][0].get_subplotspec().get_geometry()\n",
    "\t\tax[i][0].remove()\n",
    "\t\tax[i][0] = fig.add_subplot(rows,cols,start+1)\n",
    "\t\n",
    "\tfor i,(input_image, joint, label, info) in enumerate(zip(temp_input_images, temp_joints, temp_labels, infos)):\n",
    "\t\tinput_image=to_pil_image(input_image*.5+.5)\n",
    "\n",
    "\t\tfor j,(k,v) in enumerate(config.skel_16.items()):\n",
    "\t\t\tif v['parent']:\n",
    "\t\t\t\tp_idx = config.skel_16[v['parent']]['jid']\n",
    "\t\t\t\tidx = v['jid']\n",
    "\t\t\t\tpred_joint_line_x=[joint[idx,0],joint[p_idx,0]]\n",
    "\t\t\t\tpred_joint_line_y=[joint[idx,1],joint[p_idx,1]]\n",
    "\t\t\t\tpred_joint_line_z=[joint[idx,2],joint[p_idx,2]]\n",
    "\t\t\t\t# ax[i][1].plot(pred_joint_line_x, pred_joint_line_y, pred_joint_line_z,color=colors[j])\n",
    "\t\t\t\tax[i][1].plot(pred_joint_line_x, pred_joint_line_y, pred_joint_line_z,color='r')\n",
    "\t\t\t\tlabel_joint_line_x=[label[idx,0],label[p_idx,0]]\n",
    "\t\t\t\tlabel_joint_line_y=[label[idx,1],label[p_idx,1]]\n",
    "\t\t\t\tlabel_joint_line_z=[label[idx,2],label[p_idx,2]] \n",
    "\t\t\t\t# ax[i][2].plot(label_joint_line_x,label_joint_line_y, label_joint_line_z,color=colors[j])\n",
    "\t\t\t\tax[i][1].plot(label_joint_line_x,label_joint_line_y, label_joint_line_z,color='b')\n",
    "\t\t\n",
    "\t\tax[i][0].set_aspect('equal')\n",
    "\t\tax[i][1].set_aspect('equal')\n",
    "\t\tax[i][2].set_aspect('equal')\n",
    "\t\tax[i][1].view_init(-30,60,180)\n",
    "\t\tax[i][2].view_init(-30,60,180)\n",
    "\t\tax[i][1].set_xlabel('x')\n",
    "\t\tax[i][1].set_ylabel('y')\n",
    "\t\tax[i][1].set_zlabel('z')\n",
    "\t\tax[i][2].set_ylabel('y')\n",
    "\t\tax[i][2].set_xlabel('x')\n",
    "\t\tax[i][2].set_zlabel('z')\n",
    "\t\t\n",
    "\t\tax[i][0].imshow(input_image)\n",
    "\n",
    "\t\tax[i][0].set_title(info.split(split_token)[-1])\n",
    "\t\tax[i][1].set_title('pred_3d_joint')\n",
    "\t\tax[i][2].set_title('3d_joint_GT')\n",
    "\t# plt.show()\n",
    "\treturn fig\n",
    "\n",
    "\n",
    "def heatmap_viewer(input_images, heatmaps, labels, infos):\n",
    "\ttemp_input_images = input_images.clone().detach()\n",
    "\ttemp_heatmaps = heatmaps.clone().detach().cpu()\n",
    "\ttemp_labels = labels.clone().detach().cpu()\n",
    "\tfig, ax = plt.subplots(len(labels),3,figsize=(10,70))\n",
    "\n",
    "\tfor i,(input_image, heatmap, label, info) in enumerate(zip(temp_input_images, temp_heatmaps, temp_labels, infos)):\n",
    "\n",
    "\n",
    "\t\tinput_image = to_pil_image(input_image*.5+.5)\n",
    "\t\ttotal_heatmap = torch.zeros(heatmap.shape[1:])\n",
    "\t\tfor j in range(len(heatmap)):\n",
    "\t\t\ttotal_heatmap += heatmap[j,:,:]\n",
    "\n",
    "\t\ttotal_label = torch.zeros(heatmap.shape[1:])\n",
    "\t\tfor j in range(len(label)):\n",
    "\t\t\ttotal_label += label[j,:,:]\n",
    "\n",
    "\t\tax[i][0].set_title(info.split(split_token)[-1])\n",
    "\t\tax[i][0].imshow(input_image)\n",
    "\t\tax[i][1].set_title('pred_heatmap')\n",
    "\t\tax[i][1].imshow(total_heatmap)\n",
    "\t\tax[i][2].set_title('heatmap_GT')\n",
    "\t\tax[i][2].imshow(total_label)\n",
    "\n",
    "\t# plt.show()\n",
    "\n",
    "\treturn fig \n",
    "\n",
    "\n",
    "# def silhouette_viewer(input_images, pred_silhouette, labels, infos):\n",
    "# \ttemp_input_images = input_images.clone().detach()\n",
    "# \ttemp_silhouette = pred_silhouette.clone().detach().cpu()\n",
    "# \ttemp_labels = labels.clone().detach().cpu()\n",
    "# \tfig, ax = plt.subplots(len(labels),3,figsize=(10,70))\n",
    "\n",
    "# \tfor i,(input_image, silhouette, label, info) in enumerate(zip(temp_input_images, temp_silhouette, temp_labels, infos)):\n",
    "# \t\tinput_image=to_pil_image(input_image*.5+.5)\n",
    "# \t\tsilhouette = (silhouette>.5).float()\n",
    "# \t\tsilhouette=to_pil_image(silhouette)\n",
    "# \t\tlabel=to_pil_image(label)\n",
    "# \t\tax[i][0].set_title(info.split(split_token)[-1])\n",
    "# \t\tax[i][0].imshow(input_image )\n",
    "# \t\tax[i][1].set_title('pred_silhouette')\n",
    "# \t\tax[i][1].imshow(silhouette)\n",
    "# \t\tax[i][2].set_title('silhouette_GT')\n",
    "# \t\tax[i][2].imshow(label)\n",
    "\n",
    "\n",
    "\n",
    "# \t# plt.show()\n",
    "\n",
    "# \treturn fig \n",
    "\n",
    "def silhouette_viewer(input_images, pred_silhouette, labels, infos):\n",
    "\ttemp_input_images = input_images.clone().detach()\n",
    "\ttemp_silhouette = pred_silhouette.clone().detach().cpu()\n",
    "\ttemp_labels = labels.clone().detach().cpu()\n",
    "\tfig, ax = plt.subplots(len(labels),3,figsize=(10,70))\n",
    "\tcolor_map = {\n",
    "\t\t0: [33, 145, 140], # background\n",
    "\t\t1: [68, 1, 84], # cam_outside\n",
    "\t\t2: [253, 231, 36]  # silhouette\n",
    "\t}\n",
    "\n",
    "\tfor i,(input_image, silhouette, label, info) in enumerate(zip(temp_input_images, temp_silhouette, temp_labels, infos)):\n",
    "\t\tinput_image=to_pil_image(input_image*.5+.5)\n",
    "\t\t# Get the class index with the highest probability for each pixel\n",
    "\t\tsilhouette = torch.argmax(silhouette, dim=0)\n",
    "\t\tsilhouette_rgb = torch.zeros_like(temp_input_images[i])\n",
    "\t\tfor idx, color in color_map.items():\n",
    "\t\t\tfor c in range(3):  # for each channel\n",
    "\t\t\t\tsilhouette_rgb[c][silhouette == idx] = color[c] / 255.0\n",
    "\n",
    "\t\tsilhouette_rgb = to_pil_image(silhouette_rgb)\n",
    "\n",
    "\t\tlabel_rgb = torch.zeros_like(temp_input_images[i])\n",
    "\t\tfor idx, color in color_map.items():\n",
    "\t\t\tfor c in range(3):  # for each channel\n",
    "\t\t\t\tlabel_rgb[c][label == idx] = color[c] / 255.0\n",
    "\n",
    "\t\tlabel_rgb = to_pil_image(label_rgb)\n",
    "\n",
    "\t\tax[i][0].set_title(info.split(split_token)[-1])\n",
    "\t\tax[i][0].imshow(input_image)\n",
    "\t\tax[i][1].set_title('pred_silhouette')\n",
    "\t\tax[i][1].imshow(silhouette_rgb)\n",
    "\t\tax[i][2].set_title('silhouette_GT')\n",
    "\t\tax[i][2].imshow(label_rgb)\n",
    "\n",
    "\t# plt.show()\n",
    "\treturn fig\n",
    "\n",
    "\n",
    "\n",
    "def depth_viewer(input_images, features, labels, infos):\n",
    "\ttemp_input_images=input_images.clone().detach().cpu()\n",
    "\ttemp_features=features.clone().detach().cpu()\n",
    "\ttemp_labels=labels.clone().detach().cpu()\n",
    "\tfig,ax = plt.subplots(len(labels),3,figsize=(10, 70))\n",
    "\n",
    "\tfor i,(input_image, feature, label,info) in enumerate(zip(temp_input_images, temp_features, temp_labels,infos)):\n",
    "\n",
    "\t\tinput_image=to_pil_image(input_image*.5+.5)\n",
    "\t\tfeature=to_pil_image(feature)\n",
    "\t\tlabel=to_pil_image(label)\n",
    "\t\tax[i][0].set_title(info.split(split_token)[-1])\n",
    "\t\tax[i][0].imshow(input_image )\n",
    "\t\tax[i][1].set_title('pred_depthmap')\n",
    "\t\tax[i][1].imshow(feature)\n",
    "\t\tax[i][2].set_title('depth_GT')\n",
    "\t\tax[i][2].imshow(label)\n",
    "\n",
    "\n",
    "\t# plt.show()\n",
    "\n",
    "\treturn fig"
   ]
  },
  {
   "cell_type": "code",
   "execution_count": 11,
   "metadata": {},
   "outputs": [],
   "source": [
    "\n",
    "def main(model_path=None,output_path=None):\n",
    "\t\"\"\"Main\"\"\"\n",
    "\tlog_state = True\n",
    "\tLOGGER.info('Starting demo...')\n",
    "\tif log_state: wandb.init(project=\"2d to 3d\", entity=\"vhehduatks\")\n",
    "\t# ------------------- Data loader -------------------\n",
    "\n",
    "\n",
    "\t# let's load data from validation set as example\n",
    "\tdata = Mocap(\n",
    "\t\t'/dataset/data/Dataset/TestSet',\n",
    "\t\tSetType.VAL,\n",
    "\t\t)\n",
    "\tdata_loader = DataLoader(\n",
    "\t\tdata,\n",
    "\t\tbatch_size=16,\n",
    "\t\tnum_workers=(multiprocessing.cpu_count() // 3) * 2,\n",
    "\t\t# num_workers=0,\n",
    "\t\tshuffle=False)\n",
    "\n",
    "\t# ------------------- Evaluation -------------------\n",
    "\n",
    "\teval_body = evaluate.EvalBody()\n",
    "\teval_upper = evaluate.EvalUpperBody()\n",
    "\teval_lower = evaluate.EvalLowerBody()\n",
    "\n",
    "\t# ------------------- Read dataset frames -------------------\n",
    "\n",
    "\tmodel = Ours_model(pretrained_path=model_path).to(device)\n",
    "\tmodel = torch.nn.DataParallel(model,device_ids=[0,1])\n",
    "\tmodel.eval()\n",
    "\n",
    "\tfor it, test_batch in enumerate(tqdm(data_loader)):\n",
    "\t\timage = test_batch['image'].cuda()\n",
    "\t\timage_zoom = test_batch['image_zoom'].cuda()\n",
    "\t\tp3d = test_batch['joints_3d_cam']\n",
    "\t\taction = test_batch['action']\n",
    "\n",
    "\t\tjoint_3d_labels = test_batch['joints_3d_cam'].to(device)\n",
    "\t\tinfos = test_batch['info']\n",
    "\t\theatmap_labels = test_batch['heatmap'].to(device)\n",
    "\t\tdepth_labels = test_batch['depth'].to(device)\n",
    "\t\tsilhouette_labels = test_batch['silhouette'].to(device)\n",
    "\n",
    "\t\tinputs = {\n",
    "\t\t\t'image':image,\n",
    "\t\t\t'image_zoom' : image_zoom,\n",
    "\t\t\t}\n",
    "\t\t# LOGGER.info('Iteration: {}'.format(it))\n",
    "\t\t# LOGGER.info('Images: {}'.format(img.shape))\n",
    "\t\t# LOGGER.info('p2ds: {}'.format(p2d.shape))\n",
    "\t\t# LOGGER.info('p3ds: {}'.format(p3d.shape))\n",
    "\t\t# LOGGER.info('Actions: {}'.format(action))\n",
    "\n",
    "\t\t# -----------------------------------------------------------\n",
    "\t\tpred_dict = model(inputs)\n",
    "\t\t# -----------------------------------------------------------\n",
    "\n",
    "\t\t# TODO: replace p3d_hat with model preditions\n",
    "\t\tp3d_hat = pred_dict['pred_pose']\n",
    "\n",
    "\t\t# Evaluate results using different evaluation metrices\n",
    "\t\ty_output = p3d_hat.data.cpu().numpy() * 1000\n",
    "\t\ty_target = p3d.data.cpu().numpy() * 1000\n",
    "\n",
    "\t\teval_body.eval(y_output, y_target, action)\n",
    "\t\teval_upper.eval(y_output, y_target, action)\n",
    "\t\teval_lower.eval(y_output, y_target, action)\n",
    "\t\tif (it+1)%200==0:\n",
    "\t\t\tprint({'FullBody': eval_body.get_results(),\n",
    "\t\t   'UpperBody': eval_upper.get_results(),\n",
    "\t\t   'LowerBody': eval_lower.get_results()})\n",
    "\t\t\t# break\n",
    "\n",
    "\t\t# TODO: remove break\n",
    "\t\tif (it + 1) % 200 == 0:\n",
    "\t\t\tfig_dict = {\n",
    "\t\t\t\t'depthmap_fig' : depth_viewer(inputs['image'],pred_dict['depthmap'],depth_labels,infos),\n",
    "\t\t\t\t'heatmap_fig' : heatmap_viewer(inputs['image'],pred_dict['heatmap'],heatmap_labels,infos),\n",
    "\t\t\t\t'joint_3d_fig' : joint_3d_viewer(inputs['image'],pred_dict['pred_pose'],joint_3d_labels,infos),\n",
    "\t\t\t\t'silhouette_fig' : silhouette_viewer(inputs['image'],pred_dict['silhouette'],silhouette_labels,infos),\n",
    "\t\t\t}\n",
    "\t\t\tif log_state:\n",
    "\t\t\t\twandb.log({\n",
    "\t\t\t\t\t\"test/depthmap_fig\":[wandb.Image(fig_dict['depthmap_fig'])],\n",
    "\t\t\t\t\t\"test/heatmap_fig\":[wandb.Image(fig_dict['heatmap_fig'])],\n",
    "\t\t\t\t\t\"test/joint_3d_fig\":[wandb.Image(fig_dict['joint_3d_fig'])],\n",
    "\t\t\t\t\t\"test/silhouette_fig\":[wandb.Image(fig_dict['silhouette_fig'])],\n",
    "\t\t\t\t})\n",
    "\t\t\tfor key,val in fig_dict.items():\n",
    "\t\t\t\t\tplt.close(val)\n",
    "\t# ------------------- Save results -------------------\n",
    "\n",
    "\tLOGGER.info('Saving evaluation results...')\n",
    "\tres = {'FullBody': eval_body.get_results(),\n",
    "\t\t   'UpperBody': eval_upper.get_results(),\n",
    "\t\t   'LowerBody': eval_lower.get_results()}\n",
    "\n",
    "\tio.write_json(output_path, res)\n",
    "\n",
    "\tLOGGER.info('Done.')\n",
    "\tif log_state: wandb.finish()"
   ]
  },
  {
   "cell_type": "code",
   "execution_count": 12,
   "metadata": {},
   "outputs": [],
   "source": [
    "import glob\n",
    "# path_ =sorted(glob.glob('/workspace/2d_to_3d/apps/exp812'+'/*'))\n",
    "path_ = ['/workspace/2d_to_3d/apps/exp845/9.pth']"
   ]
  },
  {
   "cell_type": "code",
   "execution_count": null,
   "metadata": {},
   "outputs": [],
   "source": [
    "import gc\n",
    "gc.collect()\n",
    "torch.cuda.empty_cache()\n",
    "raise"
   ]
  },
  {
   "cell_type": "code",
   "execution_count": null,
   "metadata": {},
   "outputs": [
    {
     "name": "stderr",
     "output_type": "stream",
     "text": [
      "\u001b[94m13:09:24 \u001b[92m[INFO]\u001b[94m Main\u001b[0m: Starting demo...\n",
      "Failed to detect the name of this notebook, you can set it manually with the WANDB_NOTEBOOK_NAME environment variable to enable code saving.\n",
      "\u001b[34m\u001b[1mwandb\u001b[0m: Currently logged in as: \u001b[33mvhehduatks\u001b[0m. Use \u001b[1m`wandb login --relogin`\u001b[0m to force relogin\n"
     ]
    },
    {
     "data": {
      "text/html": [
       "wandb version 0.15.11 is available!  To upgrade, please run:\n",
       " $ pip install wandb --upgrade"
      ],
      "text/plain": [
       "<IPython.core.display.HTML object>"
      ]
     },
     "metadata": {},
     "output_type": "display_data"
    },
    {
     "data": {
      "text/html": [
       "Tracking run with wandb version 0.14.0"
      ],
      "text/plain": [
       "<IPython.core.display.HTML object>"
      ]
     },
     "metadata": {},
     "output_type": "display_data"
    },
    {
     "data": {
      "text/html": [
       "Run data is saved locally in <code>/workspace/2d_to_3d/apps/wandb/run-20230928_130926-o053tenb</code>"
      ],
      "text/plain": [
       "<IPython.core.display.HTML object>"
      ]
     },
     "metadata": {},
     "output_type": "display_data"
    },
    {
     "data": {
      "text/html": [
       "Syncing run <strong><a href='https://wandb.ai/vhehduatks/2d%20to%203d/runs/o053tenb' target=\"_blank\">resilient-bee-506</a></strong> to <a href='https://wandb.ai/vhehduatks/2d%20to%203d' target=\"_blank\">Weights & Biases</a> (<a href='https://wandb.me/run' target=\"_blank\">docs</a>)<br/>"
      ],
      "text/plain": [
       "<IPython.core.display.HTML object>"
      ]
     },
     "metadata": {},
     "output_type": "display_data"
    },
    {
     "data": {
      "text/html": [
       " View project at <a href='https://wandb.ai/vhehduatks/2d%20to%203d' target=\"_blank\">https://wandb.ai/vhehduatks/2d%20to%203d</a>"
      ],
      "text/plain": [
       "<IPython.core.display.HTML object>"
      ]
     },
     "metadata": {},
     "output_type": "display_data"
    },
    {
     "data": {
      "text/html": [
       " View run at <a href='https://wandb.ai/vhehduatks/2d%20to%203d/runs/o053tenb' target=\"_blank\">https://wandb.ai/vhehduatks/2d%20to%203d/runs/o053tenb</a>"
      ],
      "text/plain": [
       "<IPython.core.display.HTML object>"
      ]
     },
     "metadata": {},
     "output_type": "display_data"
    },
    {
     "name": "stderr",
     "output_type": "stream",
     "text": [
      "  0%|          | 0/5352 [00:00<?, ?it/s]/opt/conda/lib/python3.10/site-packages/torchvision/transforms/transforms.py:329: UserWarning: Argument 'interpolation' of type int is deprecated since 0.13 and will be removed in 0.15. Please use InterpolationMode enum.\n",
      "  warnings.warn(\n",
      "/opt/conda/lib/python3.10/site-packages/torchvision/transforms/transforms.py:329: UserWarning: Argument 'interpolation' of type int is deprecated since 0.13 and will be removed in 0.15. Please use InterpolationMode enum.\n",
      "  warnings.warn(\n",
      "/opt/conda/lib/python3.10/site-packages/torchvision/transforms/transforms.py:329: UserWarning: Argument 'interpolation' of type int is deprecated since 0.13 and will be removed in 0.15. Please use InterpolationMode enum.\n",
      "  warnings.warn(\n",
      "/opt/conda/lib/python3.10/site-packages/torchvision/transforms/transforms.py:329: UserWarning: Argument 'interpolation' of type int is deprecated since 0.13 and will be removed in 0.15. Please use InterpolationMode enum.\n",
      "  warnings.warn(\n",
      "/opt/conda/lib/python3.10/site-packages/torchvision/transforms/transforms.py:329: UserWarning: Argument 'interpolation' of type int is deprecated since 0.13 and will be removed in 0.15. Please use InterpolationMode enum.\n",
      "  warnings.warn(\n",
      "/opt/conda/lib/python3.10/site-packages/torchvision/transforms/transforms.py:329: UserWarning: Argument 'interpolation' of type int is deprecated since 0.13 and will be removed in 0.15. Please use InterpolationMode enum.\n",
      "  warnings.warn(\n",
      "/opt/conda/lib/python3.10/site-packages/torchvision/transforms/transforms.py:329: UserWarning: Argument 'interpolation' of type int is deprecated since 0.13 and will be removed in 0.15. Please use InterpolationMode enum.\n",
      "  warnings.warn(\n",
      "/opt/conda/lib/python3.10/site-packages/torchvision/transforms/transforms.py:329: UserWarning: Argument 'interpolation' of type int is deprecated since 0.13 and will be removed in 0.15. Please use InterpolationMode enum.\n",
      "  warnings.warn(\n",
      "/opt/conda/lib/python3.10/site-packages/torchvision/transforms/transforms.py:329: UserWarning: Argument 'interpolation' of type int is deprecated since 0.13 and will be removed in 0.15. Please use InterpolationMode enum.\n",
      "  warnings.warn(\n",
      "/opt/conda/lib/python3.10/site-packages/torchvision/transforms/transforms.py:329: UserWarning: Argument 'interpolation' of type int is deprecated since 0.13 and will be removed in 0.15. Please use InterpolationMode enum.\n",
      "  warnings.warn(\n",
      "/opt/conda/lib/python3.10/site-packages/torchvision/transforms/transforms.py:329: UserWarning: Argument 'interpolation' of type int is deprecated since 0.13 and will be removed in 0.15. Please use InterpolationMode enum.\n",
      "  warnings.warn(\n",
      "/opt/conda/lib/python3.10/site-packages/torchvision/transforms/transforms.py:329: UserWarning: Argument 'interpolation' of type int is deprecated since 0.13 and will be removed in 0.15. Please use InterpolationMode enum.\n",
      "  warnings.warn(\n",
      "/opt/conda/lib/python3.10/site-packages/torchvision/transforms/transforms.py:329: UserWarning: Argument 'interpolation' of type int is deprecated since 0.13 and will be removed in 0.15. Please use InterpolationMode enum.\n",
      "  warnings.warn(\n",
      "/opt/conda/lib/python3.10/site-packages/torchvision/transforms/transforms.py:329: UserWarning: Argument 'interpolation' of type int is deprecated since 0.13 and will be removed in 0.15. Please use InterpolationMode enum.\n",
      "  warnings.warn(\n",
      "/opt/conda/lib/python3.10/site-packages/torchvision/transforms/transforms.py:329: UserWarning: Argument 'interpolation' of type int is deprecated since 0.13 and will be removed in 0.15. Please use InterpolationMode enum.\n",
      "  warnings.warn(\n",
      "/opt/conda/lib/python3.10/site-packages/torchvision/transforms/transforms.py:329: UserWarning: Argument 'interpolation' of type int is deprecated since 0.13 and will be removed in 0.15. Please use InterpolationMode enum.\n",
      "  warnings.warn(\n",
      "/opt/conda/lib/python3.10/site-packages/torchvision/transforms/transforms.py:329: UserWarning: Argument 'interpolation' of type int is deprecated since 0.13 and will be removed in 0.15. Please use InterpolationMode enum.\n",
      "  warnings.warn(\n",
      "/opt/conda/lib/python3.10/site-packages/torchvision/transforms/transforms.py:329: UserWarning: Argument 'interpolation' of type int is deprecated since 0.13 and will be removed in 0.15. Please use InterpolationMode enum.\n",
      "  warnings.warn(\n",
      "/opt/conda/lib/python3.10/site-packages/torchvision/transforms/transforms.py:329: UserWarning: Argument 'interpolation' of type int is deprecated since 0.13 and will be removed in 0.15. Please use InterpolationMode enum.\n",
      "  warnings.warn(\n",
      "/opt/conda/lib/python3.10/site-packages/torchvision/transforms/transforms.py:329: UserWarning: Argument 'interpolation' of type int is deprecated since 0.13 and will be removed in 0.15. Please use InterpolationMode enum.\n",
      "  warnings.warn(\n",
      "/opt/conda/lib/python3.10/site-packages/torchvision/transforms/transforms.py:329: UserWarning: Argument 'interpolation' of type int is deprecated since 0.13 and will be removed in 0.15. Please use InterpolationMode enum.\n",
      "  warnings.warn(\n",
      "/opt/conda/lib/python3.10/site-packages/torchvision/transforms/transforms.py:329: UserWarning: Argument 'interpolation' of type int is deprecated since 0.13 and will be removed in 0.15. Please use InterpolationMode enum.\n",
      "  warnings.warn(\n",
      "/opt/conda/lib/python3.10/site-packages/torchvision/transforms/transforms.py:329: UserWarning: Argument 'interpolation' of type int is deprecated since 0.13 and will be removed in 0.15. Please use InterpolationMode enum.\n",
      "  warnings.warn(\n",
      "/opt/conda/lib/python3.10/site-packages/torchvision/transforms/transforms.py:329: UserWarning: Argument 'interpolation' of type int is deprecated since 0.13 and will be removed in 0.15. Please use InterpolationMode enum.\n",
      "  warnings.warn(\n",
      "  4%|▎         | 199/5352 [00:37<13:58,  6.15it/s] "
     ]
    },
    {
     "name": "stdout",
     "output_type": "stream",
     "text": [
      "{'FullBody': {'All': 105.41901397705078, 'Walking': 97.47624969482422, 'Patting': 125.90414428710938, 'UpperStretching': 103.22795867919922, 'LowerStretching': 109.45677947998047}, 'UpperBody': {'All': 78.521484375, 'Walking': 54.76763916015625, 'Patting': 83.95333099365234, 'UpperStretching': 82.24329376220703, 'LowerStretching': 59.61507797241211}, 'LowerBody': {'All': 132.31654357910156, 'Walking': 140.18484497070312, 'Patting': 167.85496520996094, 'UpperStretching': 124.21263885498047, 'LowerStretching': 159.29847717285156}}\n"
     ]
    },
    {
     "name": "stderr",
     "output_type": "stream",
     "text": [
      "  7%|▋         | 399/5352 [01:19<11:19,  7.29it/s]  "
     ]
    },
    {
     "name": "stdout",
     "output_type": "stream",
     "text": [
      "{'FullBody': {'All': 99.17972564697266, 'Walking': 105.766845703125, 'Patting': 125.90414428710938, 'UpperStretching': 96.28730010986328, 'LowerStretching': 103.77372741699219}, 'UpperBody': {'All': 75.72187805175781, 'Walking': 69.71822357177734, 'Patting': 83.95333099365234, 'UpperStretching': 80.9151611328125, 'LowerStretching': 54.520931243896484}, 'LowerBody': {'All': 122.63758850097656, 'Walking': 141.8154754638672, 'Patting': 167.85496520996094, 'UpperStretching': 111.659423828125, 'LowerStretching': 153.02650451660156}}\n"
     ]
    },
    {
     "name": "stderr",
     "output_type": "stream",
     "text": [
      " 11%|█         | 599/5352 [02:00<11:17,  7.02it/s]  "
     ]
    },
    {
     "name": "stdout",
     "output_type": "stream",
     "text": [
      "{'FullBody': {'All': 95.82930755615234, 'Walking': 93.71871948242188, 'Patting': 125.90414428710938, 'UpperStretching': 96.28087615966797, 'LowerStretching': 93.3697280883789}, 'UpperBody': {'All': 70.33352661132812, 'Walking': 60.91939163208008, 'Patting': 83.95333099365234, 'UpperStretching': 78.2953872680664, 'LowerStretching': 50.95147705078125}, 'LowerBody': {'All': 121.32508087158203, 'Walking': 126.51803588867188, 'Patting': 167.85496520996094, 'UpperStretching': 114.26636505126953, 'LowerStretching': 135.78797912597656}}\n"
     ]
    },
    {
     "name": "stderr",
     "output_type": "stream",
     "text": [
      " 15%|█▍        | 799/5352 [02:42<10:08,  7.48it/s]  "
     ]
    },
    {
     "name": "stdout",
     "output_type": "stream",
     "text": [
      "{'FullBody': {'All': 92.39350891113281, 'Walking': 93.71871948242188, 'Patting': 125.90414428710938, 'UpperStretching': 91.62120819091797, 'LowerStretching': 92.35316467285156}, 'UpperBody': {'All': 68.04428100585938, 'Walking': 60.91939163208008, 'Patting': 83.95333099365234, 'UpperStretching': 72.9009017944336, 'LowerStretching': 50.27366638183594}, 'LowerBody': {'All': 116.74271392822266, 'Walking': 126.51803588867188, 'Patting': 167.85496520996094, 'UpperStretching': 110.34150695800781, 'LowerStretching': 134.43267822265625}}\n"
     ]
    },
    {
     "name": "stderr",
     "output_type": "stream",
     "text": [
      " 19%|█▊        | 999/5352 [03:23<09:28,  7.65it/s]  "
     ]
    },
    {
     "name": "stdout",
     "output_type": "stream",
     "text": [
      "{'FullBody': {'All': 88.73570251464844, 'Walking': 89.73135375976562, 'Patting': 125.90414428710938, 'UpperStretching': 87.72439575195312, 'LowerStretching': 89.7356948852539}, 'UpperBody': {'All': 64.3163833618164, 'Walking': 55.968868255615234, 'Patting': 83.95333099365234, 'UpperStretching': 69.93815612792969, 'LowerStretching': 48.30231857299805}, 'LowerBody': {'All': 113.1550064086914, 'Walking': 123.49382019042969, 'Patting': 167.85496520996094, 'UpperStretching': 105.51063537597656, 'LowerStretching': 131.1690673828125}}\n"
     ]
    },
    {
     "name": "stderr",
     "output_type": "stream",
     "text": [
      " 22%|██▏       | 1199/5352 [04:04<09:35,  7.22it/s]  "
     ]
    },
    {
     "name": "stdout",
     "output_type": "stream",
     "text": [
      "{'FullBody': {'All': 89.87257385253906, 'Walking': 91.14324951171875, 'Patting': 125.90414428710938, 'UpperStretching': 88.44729614257812, 'LowerStretching': 92.0828628540039}, 'UpperBody': {'All': 63.785274505615234, 'Walking': 58.6613655090332, 'Patting': 83.95333099365234, 'UpperStretching': 68.55262756347656, 'LowerStretching': 51.205265045166016}, 'LowerBody': {'All': 115.95985412597656, 'Walking': 123.6251220703125, 'Patting': 167.85496520996094, 'UpperStretching': 108.34194946289062, 'LowerStretching': 132.96047973632812}}\n"
     ]
    },
    {
     "name": "stderr",
     "output_type": "stream",
     "text": [
      " 26%|██▌       | 1399/5352 [04:46<10:36,  6.21it/s]  "
     ]
    },
    {
     "name": "stdout",
     "output_type": "stream",
     "text": [
      "{'FullBody': {'All': 89.56216430664062, 'Walking': 90.98670959472656, 'Patting': 125.90414428710938, 'UpperStretching': 88.29869079589844, 'LowerStretching': 92.08963775634766}, 'UpperBody': {'All': 64.5854263305664, 'Walking': 59.06343078613281, 'Patting': 83.95333099365234, 'UpperStretching': 68.72758483886719, 'LowerStretching': 51.21318435668945}, 'LowerBody': {'All': 114.53889465332031, 'Walking': 122.90999603271484, 'Patting': 167.85496520996094, 'UpperStretching': 107.86979675292969, 'LowerStretching': 132.96609497070312}}\n"
     ]
    },
    {
     "name": "stderr",
     "output_type": "stream",
     "text": [
      " 30%|██▉       | 1599/5352 [05:27<08:29,  7.37it/s]  "
     ]
    },
    {
     "name": "stdout",
     "output_type": "stream",
     "text": [
      "{'FullBody': {'All': 90.855712890625, 'Walking': 94.12015533447266, 'Patting': 125.90414428710938, 'UpperStretching': 88.52667236328125, 'LowerStretching': 95.58805084228516}, 'UpperBody': {'All': 66.03140258789062, 'Walking': 65.08240509033203, 'Patting': 83.95333099365234, 'UpperStretching': 68.90130615234375, 'LowerStretching': 56.21144485473633}, 'LowerBody': {'All': 115.68000030517578, 'Walking': 123.15792083740234, 'Patting': 167.85496520996094, 'UpperStretching': 108.15202331542969, 'LowerStretching': 134.96466064453125}}\n"
     ]
    },
    {
     "name": "stderr",
     "output_type": "stream",
     "text": [
      " 34%|███▎      | 1799/5352 [06:08<08:03,  7.35it/s]  "
     ]
    },
    {
     "name": "stdout",
     "output_type": "stream",
     "text": [
      "{'FullBody': {'All': 92.55831909179688, 'Walking': 94.17255401611328, 'Patting': 125.90414428710938, 'UpperStretching': 89.92131042480469, 'LowerStretching': 99.1939926147461}, 'UpperBody': {'All': 66.3418960571289, 'Walking': 65.26957702636719, 'Patting': 83.95333099365234, 'UpperStretching': 68.72467803955078, 'LowerStretching': 58.831764221191406}, 'LowerBody': {'All': 118.77473449707031, 'Walking': 123.07552337646484, 'Patting': 167.85496520996094, 'UpperStretching': 111.117919921875, 'LowerStretching': 139.55624389648438}}\n"
     ]
    },
    {
     "name": "stderr",
     "output_type": "stream",
     "text": [
      " 37%|███▋      | 1999/5352 [06:49<07:28,  7.48it/s]  "
     ]
    },
    {
     "name": "stdout",
     "output_type": "stream",
     "text": [
      "{'FullBody': {'All': 93.47222137451172, 'Walking': 97.97184753417969, 'Patting': 98.39299774169922, 'UpperStretching': 91.07215881347656, 'LowerStretching': 99.2148208618164, 'Greeting': 81.36358642578125, 'Talking': 75.66239166259766, 'Gesticuling': 100.62921905517578, 'Reacting': 84.64899444580078}, 'UpperBody': {'All': 66.54546356201172, 'Walking': 68.23239135742188, 'Patting': 57.481082916259766, 'UpperStretching': 69.36443328857422, 'LowerStretching': 58.836936950683594, 'Greeting': 54.973514556884766, 'Talking': 46.270172119140625, 'Gesticuling': 63.07175064086914, 'Reacting': 63.433197021484375}, 'LowerBody': {'All': 120.39896392822266, 'Walking': 127.71131134033203, 'Patting': 139.30491638183594, 'UpperStretching': 112.77986145019531, 'LowerStretching': 139.59271240234375, 'Greeting': 107.75364685058594, 'Talking': 105.05461120605469, 'Gesticuling': 138.18667602539062, 'Reacting': 105.86478424072266}}\n"
     ]
    },
    {
     "name": "stderr",
     "output_type": "stream",
     "text": [
      " 41%|████      | 2199/5352 [07:31<06:55,  7.59it/s]  "
     ]
    },
    {
     "name": "stdout",
     "output_type": "stream",
     "text": [
      "{'FullBody': {'All': 94.26616668701172, 'Walking': 98.00910186767578, 'Patting': 100.2238540649414, 'UpperStretching': 91.06056213378906, 'LowerStretching': 99.7978286743164, 'Greeting': 79.51904296875, 'Talking': 81.4614486694336, 'Gesticuling': 92.326416015625, 'Reacting': 101.02040100097656, 'Gaming': 117.62629699707031}, 'UpperBody': {'All': 66.9057846069336, 'Walking': 68.36305236816406, 'Patting': 59.022056579589844, 'UpperStretching': 69.35011291503906, 'LowerStretching': 59.10047912597656, 'Greeting': 53.925201416015625, 'Talking': 59.280364990234375, 'Gesticuling': 65.43240356445312, 'Reacting': 73.64543151855469, 'Gaming': 66.3742904663086}, 'LowerBody': {'All': 121.62651824951172, 'Walking': 127.65513610839844, 'Patting': 141.42567443847656, 'UpperStretching': 112.77099609375, 'LowerStretching': 140.4951934814453, 'Greeting': 105.11288452148438, 'Talking': 103.64253234863281, 'Gesticuling': 119.22042083740234, 'Reacting': 128.39537048339844, 'Gaming': 168.8782958984375}}\n"
     ]
    },
    {
     "name": "stderr",
     "output_type": "stream",
     "text": [
      " 45%|████▍     | 2399/5352 [08:13<06:30,  7.56it/s]  "
     ]
    },
    {
     "name": "stdout",
     "output_type": "stream",
     "text": [
      "{'FullBody': {'All': 93.4858627319336, 'Walking': 98.00910186767578, 'Patting': 84.94830322265625, 'UpperStretching': 91.07839965820312, 'LowerStretching': 99.7978286743164, 'Greeting': 76.86754608154297, 'Talking': 74.34537506103516, 'Gesticuling': 90.01399230957031, 'Reacting': 96.403076171875, 'Gaming': 116.74545288085938}, 'UpperBody': {'All': 66.47897338867188, 'Walking': 68.36305236816406, 'Patting': 52.77729415893555, 'UpperStretching': 69.44892883300781, 'LowerStretching': 59.10047912597656, 'Greeting': 55.80203628540039, 'Talking': 59.06520080566406, 'Gesticuling': 63.38758087158203, 'Reacting': 71.66287231445312, 'Gaming': 68.50533294677734}, 'LowerBody': {'All': 120.49273681640625, 'Walking': 127.65513610839844, 'Patting': 117.11931610107422, 'UpperStretching': 112.7078628540039, 'LowerStretching': 140.4951934814453, 'Greeting': 97.93307495117188, 'Talking': 89.62555694580078, 'Gesticuling': 116.6404037475586, 'Reacting': 121.1432876586914, 'Gaming': 164.98558044433594}}\n"
     ]
    },
    {
     "name": "stderr",
     "output_type": "stream",
     "text": [
      " 49%|████▊     | 2599/5352 [08:52<06:41,  6.86it/s]  "
     ]
    },
    {
     "name": "stdout",
     "output_type": "stream",
     "text": [
      "{'FullBody': {'All': 92.38294219970703, 'Walking': 97.84171295166016, 'Patting': 85.95018768310547, 'UpperStretching': 89.10493469238281, 'LowerStretching': 100.2591781616211, 'Greeting': 74.68539428710938, 'Talking': 74.64309692382812, 'Gesticuling': 89.65349578857422, 'Reacting': 97.47737121582031, 'Gaming': 114.23345184326172}, 'UpperBody': {'All': 66.6533432006836, 'Walking': 68.49321746826172, 'Patting': 54.60940170288086, 'UpperStretching': 68.51740264892578, 'LowerStretching': 59.29266357421875, 'Greeting': 54.13959884643555, 'Talking': 59.570350646972656, 'Gesticuling': 65.89788818359375, 'Reacting': 76.85269165039062, 'Gaming': 68.44050598144531}, 'LowerBody': {'All': 118.11251068115234, 'Walking': 127.19021606445312, 'Patting': 117.29096984863281, 'UpperStretching': 109.69244384765625, 'LowerStretching': 141.22569274902344, 'Greeting': 95.23119354248047, 'Talking': 89.71585083007812, 'Gesticuling': 113.40910339355469, 'Reacting': 118.10205841064453, 'Gaming': 160.0264129638672}}\n"
     ]
    },
    {
     "name": "stderr",
     "output_type": "stream",
     "text": [
      " 52%|█████▏    | 2799/5352 [09:34<06:02,  7.03it/s]  "
     ]
    },
    {
     "name": "stdout",
     "output_type": "stream",
     "text": [
      "{'FullBody': {'All': 92.00048828125, 'Walking': 95.20771789550781, 'Patting': 85.95018768310547, 'UpperStretching': 89.27019500732422, 'LowerStretching': 98.1708755493164, 'Greeting': 74.68539428710938, 'Talking': 74.64309692382812, 'Gesticuling': 89.65349578857422, 'Reacting': 97.47737121582031, 'Gaming': 114.23345184326172}, 'UpperBody': {'All': 65.61542510986328, 'Walking': 64.80226135253906, 'Patting': 54.60940170288086, 'UpperStretching': 68.05598449707031, 'LowerStretching': 57.18584060668945, 'Greeting': 54.13959884643555, 'Talking': 59.570350646972656, 'Gesticuling': 65.89788818359375, 'Reacting': 76.85269165039062, 'Gaming': 68.44050598144531}, 'LowerBody': {'All': 118.3855209350586, 'Walking': 125.61316680908203, 'Patting': 117.29096984863281, 'UpperStretching': 110.4843978881836, 'LowerStretching': 139.15589904785156, 'Greeting': 95.23119354248047, 'Talking': 89.71585083007812, 'Gesticuling': 113.40910339355469, 'Reacting': 118.10205841064453, 'Gaming': 160.0264129638672}}\n"
     ]
    },
    {
     "name": "stderr",
     "output_type": "stream",
     "text": [
      " 56%|█████▌    | 2999/5352 [10:16<05:07,  7.64it/s]  "
     ]
    },
    {
     "name": "stdout",
     "output_type": "stream",
     "text": [
      "{'FullBody': {'All': 91.13928985595703, 'Walking': 95.20771789550781, 'Patting': 85.95018768310547, 'UpperStretching': 87.90867614746094, 'LowerStretching': 98.20020294189453, 'Greeting': 74.68539428710938, 'Talking': 74.64309692382812, 'Gesticuling': 89.65349578857422, 'Reacting': 97.47737121582031, 'Gaming': 114.23345184326172}, 'UpperBody': {'All': 64.9084701538086, 'Walking': 64.80226135253906, 'Patting': 54.60940170288086, 'UpperStretching': 66.701171875, 'LowerStretching': 56.86397933959961, 'Greeting': 54.13959884643555, 'Talking': 59.570350646972656, 'Gesticuling': 65.89788818359375, 'Reacting': 76.85269165039062, 'Gaming': 68.44050598144531}, 'LowerBody': {'All': 117.3700942993164, 'Walking': 125.61316680908203, 'Patting': 117.29096984863281, 'UpperStretching': 109.11614990234375, 'LowerStretching': 139.53640747070312, 'Greeting': 95.23119354248047, 'Talking': 89.71585083007812, 'Gesticuling': 113.40910339355469, 'Reacting': 118.10205841064453, 'Gaming': 160.0264129638672}}\n"
     ]
    },
    {
     "name": "stderr",
     "output_type": "stream",
     "text": [
      " 60%|█████▉    | 3199/5352 [10:56<04:40,  7.68it/s]  "
     ]
    },
    {
     "name": "stdout",
     "output_type": "stream",
     "text": [
      "{'FullBody': {'All': 90.01553344726562, 'Walking': 93.8705062866211, 'Patting': 85.95018768310547, 'UpperStretching': 86.34559631347656, 'LowerStretching': 97.27522277832031, 'Greeting': 74.68539428710938, 'Talking': 74.64309692382812, 'Gesticuling': 89.65349578857422, 'Reacting': 97.47737121582031, 'Gaming': 114.23345184326172}, 'UpperBody': {'All': 63.973793029785156, 'Walking': 62.169090270996094, 'Patting': 54.60940170288086, 'UpperStretching': 65.8838882446289, 'LowerStretching': 55.79248809814453, 'Greeting': 54.13959884643555, 'Talking': 59.570350646972656, 'Gesticuling': 65.89788818359375, 'Reacting': 76.85269165039062, 'Gaming': 68.44050598144531}, 'LowerBody': {'All': 116.05726623535156, 'Walking': 125.57191467285156, 'Patting': 117.29096984863281, 'UpperStretching': 106.80729675292969, 'LowerStretching': 138.75794982910156, 'Greeting': 95.23119354248047, 'Talking': 89.71585083007812, 'Gesticuling': 113.40910339355469, 'Reacting': 118.10205841064453, 'Gaming': 160.0264129638672}}\n"
     ]
    },
    {
     "name": "stderr",
     "output_type": "stream",
     "text": [
      " 64%|██████▎   | 3399/5352 [11:38<04:34,  7.12it/s]  "
     ]
    },
    {
     "name": "stdout",
     "output_type": "stream",
     "text": [
      "{'FullBody': {'All': 89.65560913085938, 'Walking': 91.55709075927734, 'Patting': 85.95018768310547, 'UpperStretching': 86.2226333618164, 'LowerStretching': 96.6004638671875, 'Greeting': 74.68539428710938, 'Talking': 74.64309692382812, 'Gesticuling': 89.65349578857422, 'Reacting': 97.47737121582031, 'Gaming': 114.23345184326172}, 'UpperBody': {'All': 63.219913482666016, 'Walking': 60.152610778808594, 'Patting': 54.60940170288086, 'UpperStretching': 65.43252563476562, 'LowerStretching': 54.797149658203125, 'Greeting': 54.13959884643555, 'Talking': 59.570350646972656, 'Gesticuling': 65.89788818359375, 'Reacting': 76.85269165039062, 'Gaming': 68.44050598144531}, 'LowerBody': {'All': 116.09127807617188, 'Walking': 122.9615707397461, 'Patting': 117.29096984863281, 'UpperStretching': 107.01273345947266, 'LowerStretching': 138.4037628173828, 'Greeting': 95.23119354248047, 'Talking': 89.71585083007812, 'Gesticuling': 113.40910339355469, 'Reacting': 118.10205841064453, 'Gaming': 160.0264129638672}}\n"
     ]
    },
    {
     "name": "stderr",
     "output_type": "stream",
     "text": [
      " 67%|██████▋   | 3599/5352 [12:18<04:06,  7.12it/s]  "
     ]
    },
    {
     "name": "stdout",
     "output_type": "stream",
     "text": [
      "{'FullBody': {'All': 91.07501983642578, 'Walking': 91.55709075927734, 'Patting': 85.95018768310547, 'UpperStretching': 89.03793334960938, 'LowerStretching': 96.59868621826172, 'Greeting': 74.68539428710938, 'Talking': 74.64309692382812, 'Gesticuling': 89.65349578857422, 'Reacting': 97.47737121582031, 'Gaming': 114.23345184326172}, 'UpperBody': {'All': 65.17584991455078, 'Walking': 60.152610778808594, 'Patting': 54.60940170288086, 'UpperStretching': 68.63777160644531, 'LowerStretching': 54.79661560058594, 'Greeting': 54.13959884643555, 'Talking': 59.570350646972656, 'Gesticuling': 65.89788818359375, 'Reacting': 76.85269165039062, 'Gaming': 68.44050598144531}, 'LowerBody': {'All': 116.97418212890625, 'Walking': 122.9615707397461, 'Patting': 117.29096984863281, 'UpperStretching': 109.43807220458984, 'LowerStretching': 138.40077209472656, 'Greeting': 95.23119354248047, 'Talking': 89.71585083007812, 'Gesticuling': 113.40910339355469, 'Reacting': 118.10205841064453, 'Gaming': 160.0264129638672}}\n"
     ]
    },
    {
     "name": "stderr",
     "output_type": "stream",
     "text": [
      " 71%|███████   | 3799/5352 [13:00<03:28,  7.44it/s]  "
     ]
    },
    {
     "name": "stdout",
     "output_type": "stream",
     "text": [
      "{'FullBody': {'All': 92.70153045654297, 'Walking': 93.09093475341797, 'Patting': 85.95018768310547, 'UpperStretching': 91.00753784179688, 'LowerStretching': 98.37130737304688, 'Greeting': 74.68539428710938, 'Talking': 74.64309692382812, 'Gesticuling': 89.65349578857422, 'Reacting': 97.47737121582031, 'Gaming': 114.23345184326172}, 'UpperBody': {'All': 66.43701934814453, 'Walking': 60.83275604248047, 'Patting': 54.60940170288086, 'UpperStretching': 70.6862564086914, 'LowerStretching': 55.756370544433594, 'Greeting': 54.13959884643555, 'Talking': 59.570350646972656, 'Gesticuling': 65.89788818359375, 'Reacting': 76.85269165039062, 'Gaming': 68.44050598144531}, 'LowerBody': {'All': 118.9660415649414, 'Walking': 125.34912109375, 'Patting': 117.29096984863281, 'UpperStretching': 111.32881164550781, 'LowerStretching': 140.9862518310547, 'Greeting': 95.23119354248047, 'Talking': 89.71585083007812, 'Gesticuling': 113.40910339355469, 'Reacting': 118.10205841064453, 'Gaming': 160.0264129638672}}\n"
     ]
    },
    {
     "name": "stderr",
     "output_type": "stream",
     "text": [
      " 75%|███████▍  | 3999/5352 [13:40<03:01,  7.45it/s]  "
     ]
    },
    {
     "name": "stdout",
     "output_type": "stream",
     "text": [
      "{'FullBody': {'All': 93.915771484375, 'Walking': 93.7044677734375, 'Patting': 85.95018768310547, 'UpperStretching': 92.50477600097656, 'LowerStretching': 99.82906341552734, 'Greeting': 74.68539428710938, 'Talking': 74.64309692382812, 'Gesticuling': 89.65349578857422, 'Reacting': 97.47737121582031, 'Gaming': 114.23345184326172}, 'UpperBody': {'All': 67.25772094726562, 'Walking': 61.047794342041016, 'Patting': 54.60940170288086, 'UpperStretching': 71.97442626953125, 'LowerStretching': 56.54442596435547, 'Greeting': 54.13959884643555, 'Talking': 59.570350646972656, 'Gesticuling': 65.89788818359375, 'Reacting': 76.85269165039062, 'Gaming': 68.44050598144531}, 'LowerBody': {'All': 120.5738296508789, 'Walking': 126.36112976074219, 'Patting': 117.29096984863281, 'UpperStretching': 113.03511810302734, 'LowerStretching': 143.11367797851562, 'Greeting': 95.23119354248047, 'Talking': 89.71585083007812, 'Gesticuling': 113.40910339355469, 'Reacting': 118.10205841064453, 'Gaming': 160.0264129638672}}\n"
     ]
    },
    {
     "name": "stderr",
     "output_type": "stream",
     "text": [
      " 78%|███████▊  | 4199/5352 [14:23<02:59,  6.42it/s]  "
     ]
    },
    {
     "name": "stdout",
     "output_type": "stream",
     "text": [
      "{'FullBody': {'All': 94.28502655029297, 'Walking': 94.34992218017578, 'Patting': 85.95018768310547, 'UpperStretching': 93.1232681274414, 'LowerStretching': 99.82906341552734, 'Greeting': 74.68539428710938, 'Talking': 74.64309692382812, 'Gesticuling': 89.65349578857422, 'Reacting': 97.47737121582031, 'Gaming': 114.23345184326172}, 'UpperBody': {'All': 67.89311218261719, 'Walking': 61.39104080200195, 'Patting': 54.60940170288086, 'UpperStretching': 72.70156860351562, 'LowerStretching': 56.54442596435547, 'Greeting': 54.13959884643555, 'Talking': 59.570350646972656, 'Gesticuling': 65.89788818359375, 'Reacting': 76.85269165039062, 'Gaming': 68.44050598144531}, 'LowerBody': {'All': 120.67693328857422, 'Walking': 127.3088150024414, 'Patting': 117.29096984863281, 'UpperStretching': 113.54496002197266, 'LowerStretching': 143.11367797851562, 'Greeting': 95.23119354248047, 'Talking': 89.71585083007812, 'Gesticuling': 113.40910339355469, 'Reacting': 118.10205841064453, 'Gaming': 160.0264129638672}}\n"
     ]
    },
    {
     "name": "stderr",
     "output_type": "stream",
     "text": [
      " 82%|████████▏ | 4399/5352 [15:02<02:05,  7.62it/s]  "
     ]
    },
    {
     "name": "stdout",
     "output_type": "stream",
     "text": [
      "{'FullBody': {'All': 94.04553985595703, 'Walking': 93.50892639160156, 'Patting': 94.74649810791016, 'UpperStretching': 92.7655029296875, 'LowerStretching': 99.05794525146484, 'Greeting': 74.68539428710938, 'Talking': 74.64309692382812, 'Gesticuling': 89.65349578857422, 'Reacting': 97.47737121582031, 'Gaming': 114.23345184326172}, 'UpperBody': {'All': 67.40056610107422, 'Walking': 60.60210418701172, 'Patting': 61.16640853881836, 'UpperStretching': 72.24481964111328, 'LowerStretching': 55.96581268310547, 'Greeting': 54.13959884643555, 'Talking': 59.570350646972656, 'Gesticuling': 65.89788818359375, 'Reacting': 76.85269165039062, 'Gaming': 68.44050598144531}, 'LowerBody': {'All': 120.69049835205078, 'Walking': 126.41574096679688, 'Patting': 128.3265838623047, 'UpperStretching': 113.28617858886719, 'LowerStretching': 142.1500701904297, 'Greeting': 95.23119354248047, 'Talking': 89.71585083007812, 'Gesticuling': 113.40910339355469, 'Reacting': 118.10205841064453, 'Gaming': 160.0264129638672}}\n"
     ]
    },
    {
     "name": "stderr",
     "output_type": "stream",
     "text": [
      " 86%|████████▌ | 4599/5352 [15:46<01:37,  7.74it/s]  "
     ]
    },
    {
     "name": "stdout",
     "output_type": "stream",
     "text": [
      "{'FullBody': {'All': 95.75730895996094, 'Walking': 93.50892639160156, 'Patting': 94.74649810791016, 'UpperStretching': 95.13372802734375, 'LowerStretching': 100.8289794921875, 'Greeting': 74.68539428710938, 'Talking': 74.64309692382812, 'Gesticuling': 89.65349578857422, 'Reacting': 97.47737121582031, 'Gaming': 114.23345184326172}, 'UpperBody': {'All': 67.91117858886719, 'Walking': 60.60210418701172, 'Patting': 61.16640853881836, 'UpperStretching': 73.1605453491211, 'LowerStretching': 55.652061462402344, 'Greeting': 54.13959884643555, 'Talking': 59.570350646972656, 'Gesticuling': 65.89788818359375, 'Reacting': 76.85269165039062, 'Gaming': 68.44050598144531}, 'LowerBody': {'All': 123.60342407226562, 'Walking': 126.41574096679688, 'Patting': 128.3265838623047, 'UpperStretching': 117.1069107055664, 'LowerStretching': 146.00588989257812, 'Greeting': 95.23119354248047, 'Talking': 89.71585083007812, 'Gesticuling': 113.40910339355469, 'Reacting': 118.10205841064453, 'Gaming': 160.0264129638672}}\n"
     ]
    },
    {
     "name": "stderr",
     "output_type": "stream",
     "text": [
      " 90%|████████▉ | 4799/5352 [16:25<01:14,  7.39it/s]"
     ]
    },
    {
     "name": "stdout",
     "output_type": "stream",
     "text": [
      "{'FullBody': {'All': 96.34843444824219, 'Walking': 95.03961944580078, 'Patting': 94.74649810791016, 'UpperStretching': 95.80452728271484, 'LowerStretching': 101.11906433105469, 'Greeting': 74.68539428710938, 'Talking': 74.64309692382812, 'Gesticuling': 89.65349578857422, 'Reacting': 97.47737121582031, 'Gaming': 114.23345184326172}, 'UpperBody': {'All': 68.10870361328125, 'Walking': 59.870521545410156, 'Patting': 61.16640853881836, 'UpperStretching': 73.50849914550781, 'LowerStretching': 55.67577362060547, 'Greeting': 54.13959884643555, 'Talking': 59.570350646972656, 'Gesticuling': 65.89788818359375, 'Reacting': 76.85269165039062, 'Gaming': 68.44050598144531}, 'LowerBody': {'All': 124.58815002441406, 'Walking': 130.2086944580078, 'Patting': 128.3265838623047, 'UpperStretching': 118.10052490234375, 'LowerStretching': 146.56236267089844, 'Greeting': 95.23119354248047, 'Talking': 89.71585083007812, 'Gesticuling': 113.40910339355469, 'Reacting': 118.10205841064453, 'Gaming': 160.0264129638672}}\n"
     ]
    },
    {
     "name": "stderr",
     "output_type": "stream",
     "text": [
      " 93%|█████████▎| 4999/5352 [17:10<00:48,  7.29it/s]"
     ]
    },
    {
     "name": "stdout",
     "output_type": "stream",
     "text": [
      "{'FullBody': {'All': 97.0091323852539, 'Walking': 95.44203186035156, 'Patting': 94.74649810791016, 'UpperStretching': 96.40343475341797, 'LowerStretching': 102.38154602050781, 'Greeting': 74.68539428710938, 'Talking': 74.64309692382812, 'Gesticuling': 89.65349578857422, 'Reacting': 97.47737121582031, 'Gaming': 114.23345184326172}, 'UpperBody': {'All': 67.61865997314453, 'Walking': 58.757720947265625, 'Patting': 61.16640853881836, 'UpperStretching': 73.27947998046875, 'LowerStretching': 55.05791091918945, 'Greeting': 54.13959884643555, 'Talking': 59.570350646972656, 'Gesticuling': 65.89788818359375, 'Reacting': 76.85269165039062, 'Gaming': 68.44050598144531}, 'LowerBody': {'All': 126.39959716796875, 'Walking': 132.12632751464844, 'Patting': 128.3265838623047, 'UpperStretching': 119.52738189697266, 'LowerStretching': 149.70516967773438, 'Greeting': 95.23119354248047, 'Talking': 89.71585083007812, 'Gesticuling': 113.40910339355469, 'Reacting': 118.10205841064453, 'Gaming': 160.0264129638672}}\n"
     ]
    },
    {
     "name": "stderr",
     "output_type": "stream",
     "text": [
      " 97%|█████████▋| 5199/5352 [17:49<00:19,  7.71it/s]"
     ]
    },
    {
     "name": "stdout",
     "output_type": "stream",
     "text": [
      "{'FullBody': {'All': 98.01262664794922, 'Walking': 95.44203186035156, 'Patting': 94.74649810791016, 'UpperStretching': 97.91901397705078, 'LowerStretching': 102.90145874023438, 'Greeting': 74.68539428710938, 'Talking': 74.64309692382812, 'Gesticuling': 89.65349578857422, 'Reacting': 97.47737121582031, 'Gaming': 114.23345184326172}, 'UpperBody': {'All': 68.13565826416016, 'Walking': 58.757720947265625, 'Patting': 61.16640853881836, 'UpperStretching': 73.95436096191406, 'LowerStretching': 54.98101806640625, 'Greeting': 54.13959884643555, 'Talking': 59.570350646972656, 'Gesticuling': 65.89788818359375, 'Reacting': 76.85269165039062, 'Gaming': 68.44050598144531}, 'LowerBody': {'All': 127.88959503173828, 'Walking': 132.12632751464844, 'Patting': 128.3265838623047, 'UpperStretching': 121.88365173339844, 'LowerStretching': 150.8218994140625, 'Greeting': 95.23119354248047, 'Talking': 89.71585083007812, 'Gesticuling': 113.40910339355469, 'Reacting': 118.10205841064453, 'Gaming': 160.0264129638672}}\n"
     ]
    },
    {
     "name": "stderr",
     "output_type": "stream",
     "text": [
      "100%|██████████| 5352/5352 [18:22<00:00,  4.85it/s]\n",
      "\u001b[94m13:27:55 \u001b[92m[INFO]\u001b[94m Main\u001b[0m: Saving evaluation results...\n",
      "\u001b[94m13:27:55 \u001b[92m[INFO]\u001b[94m Main\u001b[0m: Done.\n"
     ]
    },
    {
     "data": {
      "text/html": [
       "Waiting for W&B process to finish... <strong style=\"color:green\">(success).</strong>"
      ],
      "text/plain": [
       "<IPython.core.display.HTML object>"
      ]
     },
     "metadata": {},
     "output_type": "display_data"
    },
    {
     "data": {
      "text/html": [
       " View run <strong style=\"color:#cdcd00\">resilient-bee-506</strong> at: <a href='https://wandb.ai/vhehduatks/2d%20to%203d/runs/o053tenb' target=\"_blank\">https://wandb.ai/vhehduatks/2d%20to%203d/runs/o053tenb</a><br/>Synced 6 W&B file(s), 104 media file(s), 0 artifact file(s) and 0 other file(s)"
      ],
      "text/plain": [
       "<IPython.core.display.HTML object>"
      ]
     },
     "metadata": {},
     "output_type": "display_data"
    },
    {
     "data": {
      "text/html": [
       "Find logs at: <code>./wandb/run-20230928_130926-o053tenb/logs</code>"
      ],
      "text/plain": [
       "<IPython.core.display.HTML object>"
      ]
     },
     "metadata": {},
     "output_type": "display_data"
    }
   ],
   "source": [
    "for i,p in enumerate(path_):\n",
    "\t_path = f'/workspace/2d_to_3d/apps/eval/test/oursbest845'\n",
    "\t_name = f'baseline845_9_best_{i}.json'\n",
    "\tif not os.path.exists(_path):\n",
    "\t\tos.makedirs(_path)\n",
    "\n",
    "\tmain(model_path=p,output_path=os.path.join(_path,_name))"
   ]
  }
 ],
 "metadata": {
  "kernelspec": {
   "display_name": "base",
   "language": "python",
   "name": "python3"
  },
  "language_info": {
   "codemirror_mode": {
    "name": "ipython",
    "version": 3
   },
   "file_extension": ".py",
   "mimetype": "text/x-python",
   "name": "python",
   "nbconvert_exporter": "python",
   "pygments_lexer": "ipython3",
   "version": "3.10.8"
  },
  "orig_nbformat": 4
 },
 "nbformat": 4,
 "nbformat_minor": 2
}
