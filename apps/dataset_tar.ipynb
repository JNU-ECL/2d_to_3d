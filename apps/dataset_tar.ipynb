{
 "cells": [
  {
   "cell_type": "code",
   "execution_count": 2,
   "metadata": {},
   "outputs": [],
   "source": [
    "from pytorch3d.structures import Meshes\n",
    "from pytorch3d.renderer import (\n",
    "    look_at_view_transform,\n",
    "    OpenGLPerspectiveCameras, \n",
    "    PointLights, \n",
    "    DirectionalLights, \n",
    "    Materials, \n",
    "    RasterizationSettings, \n",
    "    MeshRenderer, \n",
    "    MeshRasterizer,  \n",
    "    SoftPhongShader,\n",
    "    TexturesVertex,\n",
    "\tSoftSilhouetteShader\n",
    ")"
   ]
  },
  {
   "cell_type": "code",
   "execution_count": 3,
   "metadata": {},
   "outputs": [],
   "source": [
    "source_path = '/media/hyeonghwan/새 볼륨1/dataset_zip'\n",
    "dst_path = '/media/hyeonghwan/새 볼륨1/egodataset'"
   ]
  },
  {
   "cell_type": "code",
   "execution_count": 5,
   "metadata": {},
   "outputs": [],
   "source": [
    "cameras = OpenGLPerspectiveCameras(device=cam_coord_vertices.device, R=R, T=T)\n",
    "\n",
    "raster_settings = RasterizationSettings(\n",
    "\timage_size=512, \n",
    "\tblur_radius=0.0, \n",
    "\tfaces_per_pixel=1, \n",
    ")\n",
    "# TODO vertices to cam coord\n",
    "# Create a silhouette shader\n",
    "shader = SoftSilhouetteShader()\n",
    "\n",
    "renderer = MeshRenderer(\n",
    "\trasterizer=MeshRasterizer(\n",
    "\t\tcameras=cameras, \n",
    "\t\traster_settings=raster_settings\n",
    "\t),\n",
    "\tshader=shader\n",
    ")\n",
    "faces = self.smpl_layer.th_faces\n",
    "faces = faces[None].expand(batch_size, -1, -1).to(cam_coord_vertices.device)\n",
    "meshes = Meshes(verts=cam_coord_vertices, faces=faces)\n",
    "silhouette = renderer(meshes)"
   ]
  }
 ],
 "metadata": {
  "kernelspec": {
   "display_name": "base",
   "language": "python",
   "name": "python3"
  },
  "language_info": {
   "codemirror_mode": {
    "name": "ipython",
    "version": 3
   },
   "file_extension": ".py",
   "mimetype": "text/x-python",
   "name": "python",
   "nbconvert_exporter": "python",
   "pygments_lexer": "ipython3",
   "version": "3.10.8"
  },
  "orig_nbformat": 4
 },
 "nbformat": 4,
 "nbformat_minor": 2
}
