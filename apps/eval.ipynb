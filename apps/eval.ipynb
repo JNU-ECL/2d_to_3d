{
 "cells": [
  {
   "cell_type": "code",
   "execution_count": 1,
   "metadata": {},
   "outputs": [
    {
     "name": "stderr",
     "output_type": "stream",
     "text": [
      "/opt/conda/lib/python3.10/site-packages/tqdm/auto.py:22: TqdmWarning: IProgress not found. Please update jupyter and ipywidgets. See https://ipywidgets.readthedocs.io/en/stable/user_install.html\n",
      "  from .autonotebook import tqdm as notebook_tqdm\n"
     ]
    }
   ],
   "source": [
    "# Copyright (c) Facebook, Inc. and its affiliates. All Rights Reserved\n",
    "# -*- coding: utf-8 -*-\n",
    "\"\"\"\n",
    "Demo code\n",
    "\n",
    "@author: Denis Tome'\n",
    "\n",
    "\"\"\"\n",
    "from torch.utils.data import DataLoader\n",
    "import torch\n",
    "from torchvision import transforms\n",
    "from base import SetType\n",
    "import multiprocessing\n",
    "from mocap import Mocap\n",
    "from utils import config, ConsoleLogger\n",
    "from utils import evaluate, io\n",
    "from model import TempModel\n",
    "from model_xregopose import xR_egoposemodel\n",
    "from model_mo2cap2 import mo2cap_ours\n",
    "from tqdm import tqdm\n",
    "import os\n",
    "\n",
    "LOGGER = ConsoleLogger(\"Main\")\n",
    "use_cuda = torch.cuda.is_available()\n",
    "device = torch.device(\"cuda\" if use_cuda else \"cpu\")\n"
   ]
  },
  {
   "cell_type": "code",
   "execution_count": 2,
   "metadata": {},
   "outputs": [],
   "source": [
    "\n",
    "def main(model_path=None,output_path=None):\n",
    "\t\"\"\"Main\"\"\"\n",
    "\n",
    "\tLOGGER.info('Starting demo...')\n",
    "\n",
    "\t# ------------------- Data loader -------------------\n",
    "\n",
    "\n",
    "\t# let's load data from validation set as example\n",
    "\tdata = Mocap(\n",
    "\t\t'/dataset/data/Dataset/TestSet',\n",
    "\t\tSetType.VAL,\n",
    "\t\t)\n",
    "\tdata_loader = DataLoader(\n",
    "\t\tdata,\n",
    "\t\tbatch_size=16,\n",
    "\t\tnum_workers=(multiprocessing.cpu_count() // 3) * 2,\n",
    "\t\tshuffle=True)\n",
    "\n",
    "\t# ------------------- Evaluation -------------------\n",
    "\n",
    "\teval_body = evaluate.EvalBody()\n",
    "\teval_upper = evaluate.EvalUpperBody()\n",
    "\teval_lower = evaluate.EvalLowerBody()\n",
    "\n",
    "\t# ------------------- Read dataset frames -------------------\n",
    "\n",
    "\tmodel = TempModel(pretrained_path=model_path).to(device)\n",
    "\tmodel = torch.nn.DataParallel(model,device_ids=[0,1])\n",
    "\tmodel.eval()\n",
    "\n",
    "\tfor it, test_batch in enumerate(tqdm(data_loader)):\n",
    "\t\timage = test_batch['image'].cuda()\n",
    "\t\timage_zoom = test_batch['image_zoom'].cuda()\n",
    "\t\tp3d = test_batch['joints_3d_cam']\n",
    "\t\taction = test_batch['action']\n",
    "\t\tinput_img = {\n",
    "\t\t\t'image':image,\n",
    "\t\t\t# 'image_zoom' : image_zoom,\n",
    "\t\t\t}\n",
    "\t\t# LOGGER.info('Iteration: {}'.format(it))\n",
    "\t\t# LOGGER.info('Images: {}'.format(img.shape))\n",
    "\t\t# LOGGER.info('p2ds: {}'.format(p2d.shape))\n",
    "\t\t# LOGGER.info('p3ds: {}'.format(p3d.shape))\n",
    "\t\t# LOGGER.info('Actions: {}'.format(action))\n",
    "\n",
    "\t\t# -----------------------------------------------------------\n",
    "\t\tpred_output = model(input_img)\n",
    "\t\t# -----------------------------------------------------------\n",
    "\n",
    "\t\t# TODO: replace p3d_hat with model preditions\n",
    "\t\tp3d_hat = pred_output['pred_pose']\n",
    "\n",
    "\t\t# Evaluate results using different evaluation metrices\n",
    "\t\ty_output = p3d_hat.data.cpu().numpy() * 1000\n",
    "\t\ty_target = p3d.data.cpu().numpy() * 1000\n",
    "\n",
    "\t\teval_body.eval(y_output, y_target, action)\n",
    "\t\teval_upper.eval(y_output, y_target, action)\n",
    "\t\teval_lower.eval(y_output, y_target, action)\n",
    "\t\tif (it+1)%200==0:\n",
    "\t\t\tprint({'FullBody': eval_body.get_results(),\n",
    "\t\t   'UpperBody': eval_upper.get_results(),\n",
    "\t\t   'LowerBody': eval_lower.get_results()})\n",
    "\t\t\t# break\n",
    "\t\t# TODO: remove break\n",
    "\t\t\n",
    "\n",
    "\t# ------------------- Save results -------------------\n",
    "\n",
    "\tLOGGER.info('Saving evaluation results...')\n",
    "\tres = {'FullBody': eval_body.get_results(),\n",
    "\t\t   'UpperBody': eval_upper.get_results(),\n",
    "\t\t   'LowerBody': eval_lower.get_results()}\n",
    "\n",
    "\tio.write_json(output_path, res)\n",
    "\n",
    "\tLOGGER.info('Done.')"
   ]
  },
  {
   "cell_type": "code",
   "execution_count": 3,
   "metadata": {},
   "outputs": [
    {
     "data": {
      "text/plain": [
       "['/workspace/2d_to_3d/apps/exp815/0.pth',\n",
       " '/workspace/2d_to_3d/apps/exp815/1.pth',\n",
       " '/workspace/2d_to_3d/apps/exp815/2.pth',\n",
       " '/workspace/2d_to_3d/apps/exp815/3.pth',\n",
       " '/workspace/2d_to_3d/apps/exp815/4.pth',\n",
       " '/workspace/2d_to_3d/apps/exp815/5.pth',\n",
       " '/workspace/2d_to_3d/apps/exp815/6.pth',\n",
       " '/workspace/2d_to_3d/apps/exp815/7.pth',\n",
       " '/workspace/2d_to_3d/apps/exp815/8.pth',\n",
       " '/workspace/2d_to_3d/apps/exp815/9.pth',\n",
       " '/workspace/2d_to_3d/apps/exp815/best.pth']"
      ]
     },
     "execution_count": 3,
     "metadata": {},
     "output_type": "execute_result"
    }
   ],
   "source": [
    "import glob\n",
    "path_ =sorted(glob.glob('/workspace/2d_to_3d/apps/exp815'+'/*'))\n",
    "path_"
   ]
  },
  {
   "cell_type": "code",
   "execution_count": 4,
   "metadata": {},
   "outputs": [
    {
     "ename": "RuntimeError",
     "evalue": "No active exception to reraise",
     "output_type": "error",
     "traceback": [
      "\u001b[0;31m---------------------------------------------------------------------------\u001b[0m",
      "\u001b[0;31mRuntimeError\u001b[0m                              Traceback (most recent call last)",
      "\u001b[1;32m/workspace/2d_to_3d/apps/eval.ipynb Cell 4\u001b[0m line \u001b[0;36m4\n\u001b[1;32m      <a href='vscode-notebook-cell://attached-container%2B7b22636f6e7461696e65724e616d65223a222f32645f746f5f3364222c2273657474696e6773223a7b22686f7374223a227373683a2f2f6c61625f776f726b73746174696f6e227d7d/workspace/2d_to_3d/apps/eval.ipynb#W3sdnNjb2RlLXJlbW90ZQ%3D%3D?line=1'>2</a>\u001b[0m gc\u001b[39m.\u001b[39mcollect()\n\u001b[1;32m      <a href='vscode-notebook-cell://attached-container%2B7b22636f6e7461696e65724e616d65223a222f32645f746f5f3364222c2273657474696e6773223a7b22686f7374223a227373683a2f2f6c61625f776f726b73746174696f6e227d7d/workspace/2d_to_3d/apps/eval.ipynb#W3sdnNjb2RlLXJlbW90ZQ%3D%3D?line=2'>3</a>\u001b[0m torch\u001b[39m.\u001b[39mcuda\u001b[39m.\u001b[39mempty_cache()\n\u001b[0;32m----> <a href='vscode-notebook-cell://attached-container%2B7b22636f6e7461696e65724e616d65223a222f32645f746f5f3364222c2273657474696e6773223a7b22686f7374223a227373683a2f2f6c61625f776f726b73746174696f6e227d7d/workspace/2d_to_3d/apps/eval.ipynb#W3sdnNjb2RlLXJlbW90ZQ%3D%3D?line=3'>4</a>\u001b[0m \u001b[39mraise\u001b[39;00m\n",
      "\u001b[0;31mRuntimeError\u001b[0m: No active exception to reraise"
     ]
    }
   ],
   "source": [
    "import gc\n",
    "gc.collect()\n",
    "torch.cuda.empty_cache()\n",
    "raise"
   ]
  },
  {
   "cell_type": "code",
   "execution_count": 5,
   "metadata": {},
   "outputs": [
    {
     "name": "stderr",
     "output_type": "stream",
     "text": [
      "\u001b[94m07:26:59 \u001b[92m[INFO]\u001b[94m Main\u001b[0m: Starting demo...\n"
     ]
    },
    {
     "name": "stderr",
     "output_type": "stream",
     "text": [
      "  0%|          | 0/5352 [00:00<?, ?it/s]/opt/conda/lib/python3.10/site-packages/torchvision/transforms/transforms.py:329: UserWarning: Argument 'interpolation' of type int is deprecated since 0.13 and will be removed in 0.15. Please use InterpolationMode enum.\n",
      "  warnings.warn(\n",
      "/opt/conda/lib/python3.10/site-packages/torchvision/transforms/transforms.py:329: UserWarning: Argument 'interpolation' of type int is deprecated since 0.13 and will be removed in 0.15. Please use InterpolationMode enum.\n",
      "  warnings.warn(\n",
      "/opt/conda/lib/python3.10/site-packages/torchvision/transforms/transforms.py:329: UserWarning: Argument 'interpolation' of type int is deprecated since 0.13 and will be removed in 0.15. Please use InterpolationMode enum.\n",
      "  warnings.warn(\n",
      "/opt/conda/lib/python3.10/site-packages/torchvision/transforms/transforms.py:329: UserWarning: Argument 'interpolation' of type int is deprecated since 0.13 and will be removed in 0.15. Please use InterpolationMode enum.\n",
      "  warnings.warn(\n",
      "/opt/conda/lib/python3.10/site-packages/torchvision/transforms/transforms.py:329: UserWarning: Argument 'interpolation' of type int is deprecated since 0.13 and will be removed in 0.15. Please use InterpolationMode enum.\n",
      "  warnings.warn(\n",
      "/opt/conda/lib/python3.10/site-packages/torchvision/transforms/transforms.py:329: UserWarning: Argument 'interpolation' of type int is deprecated since 0.13 and will be removed in 0.15. Please use InterpolationMode enum.\n",
      "  warnings.warn(\n",
      "/opt/conda/lib/python3.10/site-packages/torchvision/transforms/transforms.py:329: UserWarning: Argument 'interpolation' of type int is deprecated since 0.13 and will be removed in 0.15. Please use InterpolationMode enum.\n",
      "  warnings.warn(\n",
      "/opt/conda/lib/python3.10/site-packages/torchvision/transforms/transforms.py:329: UserWarning: Argument 'interpolation' of type int is deprecated since 0.13 and will be removed in 0.15. Please use InterpolationMode enum.\n",
      "  warnings.warn(\n",
      "/opt/conda/lib/python3.10/site-packages/torchvision/transforms/transforms.py:329: UserWarning: Argument 'interpolation' of type int is deprecated since 0.13 and will be removed in 0.15. Please use InterpolationMode enum.\n",
      "  warnings.warn(\n",
      "/opt/conda/lib/python3.10/site-packages/torchvision/transforms/transforms.py:329: UserWarning: Argument 'interpolation' of type int is deprecated since 0.13 and will be removed in 0.15. Please use InterpolationMode enum.\n",
      "  warnings.warn(\n",
      "/opt/conda/lib/python3.10/site-packages/torchvision/transforms/transforms.py:329: UserWarning: Argument 'interpolation' of type int is deprecated since 0.13 and will be removed in 0.15. Please use InterpolationMode enum.\n",
      "  warnings.warn(\n",
      "/opt/conda/lib/python3.10/site-packages/torchvision/transforms/transforms.py:329: UserWarning: Argument 'interpolation' of type int is deprecated since 0.13 and will be removed in 0.15. Please use InterpolationMode enum.\n",
      "  warnings.warn(\n",
      "/opt/conda/lib/python3.10/site-packages/torchvision/transforms/transforms.py:329: UserWarning: Argument 'interpolation' of type int is deprecated since 0.13 and will be removed in 0.15. Please use InterpolationMode enum.\n",
      "  warnings.warn(\n",
      "/opt/conda/lib/python3.10/site-packages/torchvision/transforms/transforms.py:329: UserWarning: Argument 'interpolation' of type int is deprecated since 0.13 and will be removed in 0.15. Please use InterpolationMode enum.\n",
      "  warnings.warn(\n",
      "/opt/conda/lib/python3.10/site-packages/torchvision/transforms/transforms.py:329: UserWarning: Argument 'interpolation' of type int is deprecated since 0.13 and will be removed in 0.15. Please use InterpolationMode enum.\n",
      "  warnings.warn(\n",
      "/opt/conda/lib/python3.10/site-packages/torchvision/transforms/transforms.py:329: UserWarning: Argument 'interpolation' of type int is deprecated since 0.13 and will be removed in 0.15. Please use InterpolationMode enum.\n",
      "  warnings.warn(\n",
      "/opt/conda/lib/python3.10/site-packages/torchvision/transforms/transforms.py:329: UserWarning: Argument 'interpolation' of type int is deprecated since 0.13 and will be removed in 0.15. Please use InterpolationMode enum.\n",
      "  warnings.warn(\n",
      "/opt/conda/lib/python3.10/site-packages/torchvision/transforms/transforms.py:329: UserWarning: Argument 'interpolation' of type int is deprecated since 0.13 and will be removed in 0.15. Please use InterpolationMode enum.\n",
      "  warnings.warn(\n",
      "/opt/conda/lib/python3.10/site-packages/torchvision/transforms/transforms.py:329: UserWarning: Argument 'interpolation' of type int is deprecated since 0.13 and will be removed in 0.15. Please use InterpolationMode enum.\n",
      "  warnings.warn(\n",
      "/opt/conda/lib/python3.10/site-packages/torchvision/transforms/transforms.py:329: UserWarning: Argument 'interpolation' of type int is deprecated since 0.13 and will be removed in 0.15. Please use InterpolationMode enum.\n",
      "  warnings.warn(\n",
      "/opt/conda/lib/python3.10/site-packages/torchvision/transforms/transforms.py:329: UserWarning: Argument 'interpolation' of type int is deprecated since 0.13 and will be removed in 0.15. Please use InterpolationMode enum.\n",
      "  warnings.warn(\n",
      "/opt/conda/lib/python3.10/site-packages/torchvision/transforms/transforms.py:329: UserWarning: Argument 'interpolation' of type int is deprecated since 0.13 and will be removed in 0.15. Please use InterpolationMode enum.\n",
      "  warnings.warn(\n",
      "/opt/conda/lib/python3.10/site-packages/torchvision/transforms/transforms.py:329: UserWarning: Argument 'interpolation' of type int is deprecated since 0.13 and will be removed in 0.15. Please use InterpolationMode enum.\n",
      "  warnings.warn(\n",
      "/opt/conda/lib/python3.10/site-packages/torchvision/transforms/transforms.py:329: UserWarning: Argument 'interpolation' of type int is deprecated since 0.13 and will be removed in 0.15. Please use InterpolationMode enum.\n",
      "  warnings.warn(\n",
      "  4%|▍         | 201/5352 [00:35<11:06,  7.73it/s] "
     ]
    },
    {
     "name": "stdout",
     "output_type": "stream",
     "text": [
      "{'FullBody': {'All': 156.1856689453125, 'UpperStretching': 162.35499572753906, 'LowerStretching': 156.10369873046875, 'Walking': 155.14199829101562, 'Patting': 145.05613708496094, 'Talking': 116.3424072265625, 'Gaming': 147.26654052734375, 'Reacting': 120.13792419433594, 'Gesticuling': 107.52223205566406, 'Greeting': 104.41271209716797}, 'UpperBody': {'All': 95.9258041381836, 'UpperStretching': 105.11554718017578, 'LowerStretching': 76.43011474609375, 'Walking': 89.29006958007812, 'Patting': 84.80149841308594, 'Talking': 86.93668365478516, 'Gaming': 95.88090515136719, 'Reacting': 85.75531768798828, 'Gesticuling': 76.2370834350586, 'Greeting': 71.77652740478516}, 'LowerBody': {'All': 216.4455108642578, 'UpperStretching': 219.59442138671875, 'LowerStretching': 235.7772674560547, 'Walking': 220.99392700195312, 'Patting': 205.31076049804688, 'Talking': 145.7481231689453, 'Gaming': 198.65220642089844, 'Reacting': 154.52053833007812, 'Gesticuling': 138.807373046875, 'Greeting': 137.0488739013672}}\n"
     ]
    },
    {
     "name": "stderr",
     "output_type": "stream",
     "text": [
      "  7%|▋         | 401/5352 [01:02<10:28,  7.88it/s]"
     ]
    },
    {
     "name": "stdout",
     "output_type": "stream",
     "text": [
      "{'FullBody': {'All': 154.4817657470703, 'UpperStretching': 160.00048828125, 'LowerStretching': 154.02035522460938, 'Walking': 153.32728576660156, 'Patting': 158.1243438720703, 'Talking': 112.94690704345703, 'Gaming': 146.4390411376953, 'Reacting': 120.592529296875, 'Gesticuling': 111.27742004394531, 'Greeting': 105.92991638183594}, 'UpperBody': {'All': 95.37232208251953, 'UpperStretching': 104.13041687011719, 'LowerStretching': 75.26216888427734, 'Walking': 89.0155258178711, 'Patting': 93.86146545410156, 'Talking': 85.83223724365234, 'Gaming': 97.22109985351562, 'Reacting': 85.86003112792969, 'Gesticuling': 77.72513580322266, 'Greeting': 75.49223327636719}, 'LowerBody': {'All': 213.59121704101562, 'UpperStretching': 215.8705596923828, 'LowerStretching': 232.77853393554688, 'Walking': 217.63902282714844, 'Patting': 222.38726806640625, 'Talking': 140.06155395507812, 'Gaming': 195.65701293945312, 'Reacting': 155.3250274658203, 'Gesticuling': 144.82969665527344, 'Greeting': 136.3675994873047}}\n"
     ]
    },
    {
     "name": "stderr",
     "output_type": "stream",
     "text": [
      " 11%|█         | 601/5352 [01:29<11:23,  6.95it/s]"
     ]
    },
    {
     "name": "stdout",
     "output_type": "stream",
     "text": [
      "{'FullBody': {'All': 154.12734985351562, 'UpperStretching': 159.3480987548828, 'LowerStretching': 153.34486389160156, 'Walking': 154.9217529296875, 'Patting': 158.91006469726562, 'Talking': 112.25701904296875, 'Gaming': 149.0657196044922, 'Reacting': 121.36382293701172, 'Gesticuling': 110.59915161132812, 'Greeting': 105.17291259765625}, 'UpperBody': {'All': 95.26116180419922, 'UpperStretching': 103.73140716552734, 'LowerStretching': 75.49201202392578, 'Walking': 90.61610412597656, 'Patting': 91.6244125366211, 'Talking': 86.20196533203125, 'Gaming': 96.06600952148438, 'Reacting': 86.33902740478516, 'Gesticuling': 78.06958770751953, 'Greeting': 73.35934448242188}, 'LowerBody': {'All': 212.99356079101562, 'UpperStretching': 214.96482849121094, 'LowerStretching': 231.19772338867188, 'Walking': 219.2274169921875, 'Patting': 226.19573974609375, 'Talking': 138.3120880126953, 'Gaming': 202.06541442871094, 'Reacting': 156.3885955810547, 'Gesticuling': 143.1287078857422, 'Greeting': 136.9864959716797}}\n"
     ]
    },
    {
     "name": "stderr",
     "output_type": "stream",
     "text": [
      " 15%|█▍        | 801/5352 [01:56<10:18,  7.35it/s]"
     ]
    },
    {
     "name": "stdout",
     "output_type": "stream",
     "text": [
      "{'FullBody': {'All': 154.00096130371094, 'UpperStretching': 159.7310791015625, 'LowerStretching': 152.27793884277344, 'Walking': 155.0200653076172, 'Patting': 156.188720703125, 'Talking': 111.41006469726562, 'Gaming': 145.55116271972656, 'Reacting': 122.48472595214844, 'Gesticuling': 110.36083221435547, 'Greeting': 105.16990661621094}, 'UpperBody': {'All': 95.1080093383789, 'UpperStretching': 103.85482788085938, 'LowerStretching': 74.86997985839844, 'Walking': 90.08369445800781, 'Patting': 92.71995544433594, 'Talking': 86.29216003417969, 'Gaming': 95.52300262451172, 'Reacting': 87.71148681640625, 'Gesticuling': 77.39328002929688, 'Greeting': 73.04891204833984}, 'LowerBody': {'All': 212.89395141601562, 'UpperStretching': 215.60733032226562, 'LowerStretching': 229.68588256835938, 'Walking': 219.95640563964844, 'Patting': 219.657470703125, 'Talking': 136.52798461914062, 'Gaming': 195.57933044433594, 'Reacting': 157.2579803466797, 'Gesticuling': 143.32838439941406, 'Greeting': 137.29090881347656}}\n"
     ]
    },
    {
     "name": "stderr",
     "output_type": "stream",
     "text": [
      " 19%|█▊        | 1001/5352 [02:23<09:18,  7.79it/s]"
     ]
    },
    {
     "name": "stdout",
     "output_type": "stream",
     "text": [
      "{'FullBody': {'All': 153.97003173828125, 'UpperStretching': 159.831787109375, 'LowerStretching': 152.473388671875, 'Walking': 154.10597229003906, 'Patting': 152.17535400390625, 'Talking': 113.24087524414062, 'Gaming': 145.84861755371094, 'Reacting': 121.54849243164062, 'Gesticuling': 110.7215805053711, 'Greeting': 107.5694351196289}, 'UpperBody': {'All': 95.03150177001953, 'UpperStretching': 103.8597183227539, 'LowerStretching': 74.73046112060547, 'Walking': 89.89085388183594, 'Patting': 90.41890716552734, 'Talking': 86.4537582397461, 'Gaming': 95.01197052001953, 'Reacting': 87.41185760498047, 'Gesticuling': 77.90750122070312, 'Greeting': 75.815185546875}, 'LowerBody': {'All': 212.90859985351562, 'UpperStretching': 215.80386352539062, 'LowerStretching': 230.21633911132812, 'Walking': 218.32110595703125, 'Patting': 213.9318084716797, 'Talking': 140.02801513671875, 'Gaming': 196.68524169921875, 'Reacting': 155.6851043701172, 'Gesticuling': 143.53565979003906, 'Greeting': 139.32371520996094}}\n"
     ]
    },
    {
     "name": "stderr",
     "output_type": "stream",
     "text": [
      " 22%|██▏       | 1201/5352 [02:50<10:29,  6.59it/s]"
     ]
    },
    {
     "name": "stdout",
     "output_type": "stream",
     "text": [
      "{'FullBody': {'All': 154.2490692138672, 'UpperStretching': 160.5865020751953, 'LowerStretching': 152.45269775390625, 'Walking': 152.78111267089844, 'Patting': 151.2077178955078, 'Talking': 111.7027587890625, 'Gaming': 147.03073120117188, 'Reacting': 122.74309539794922, 'Gesticuling': 110.26087951660156, 'Greeting': 108.56710815429688}, 'UpperBody': {'All': 95.08626556396484, 'UpperStretching': 104.08489227294922, 'LowerStretching': 74.91170501708984, 'Walking': 89.18506622314453, 'Patting': 89.10308074951172, 'Talking': 85.20830535888672, 'Gaming': 95.22718811035156, 'Reacting': 88.51776123046875, 'Gesticuling': 78.00534057617188, 'Greeting': 76.74675750732422}, 'LowerBody': {'All': 213.41183471679688, 'UpperStretching': 217.08811950683594, 'LowerStretching': 229.99371337890625, 'Walking': 216.3771514892578, 'Patting': 213.31234741210938, 'Talking': 138.19720458984375, 'Gaming': 198.8343048095703, 'Reacting': 156.9684600830078, 'Gesticuling': 142.51641845703125, 'Greeting': 140.387451171875}}\n"
     ]
    },
    {
     "name": "stderr",
     "output_type": "stream",
     "text": [
      " 26%|██▌       | 1401/5352 [03:16<08:50,  7.45it/s]"
     ]
    },
    {
     "name": "stdout",
     "output_type": "stream",
     "text": [
      "{'FullBody': {'All': 154.27243041992188, 'UpperStretching': 160.6283416748047, 'LowerStretching': 152.55453491210938, 'Walking': 152.3115234375, 'Patting': 150.94183349609375, 'Talking': 111.2413101196289, 'Gaming': 148.20358276367188, 'Reacting': 122.30430603027344, 'Gesticuling': 109.7282943725586, 'Greeting': 108.17216491699219}, 'UpperBody': {'All': 94.99784851074219, 'UpperStretching': 103.95435333251953, 'LowerStretching': 74.99723052978516, 'Walking': 89.01899719238281, 'Patting': 88.37550354003906, 'Talking': 85.24143981933594, 'Gaming': 94.39793395996094, 'Reacting': 89.29414367675781, 'Gesticuling': 78.12114715576172, 'Greeting': 76.63599395751953}, 'LowerBody': {'All': 213.54701232910156, 'UpperStretching': 217.30235290527344, 'LowerStretching': 230.11181640625, 'Walking': 215.6040496826172, 'Patting': 213.50819396972656, 'Talking': 137.2411651611328, 'Gaming': 202.0092315673828, 'Reacting': 155.31448364257812, 'Gesticuling': 141.33543395996094, 'Greeting': 139.70831298828125}}\n"
     ]
    },
    {
     "name": "stderr",
     "output_type": "stream",
     "text": [
      " 30%|██▉       | 1601/5352 [03:43<08:11,  7.63it/s]"
     ]
    },
    {
     "name": "stdout",
     "output_type": "stream",
     "text": [
      "{'FullBody': {'All': 154.4911346435547, 'UpperStretching': 160.84605407714844, 'LowerStretching': 152.69442749023438, 'Walking': 152.38560485839844, 'Patting': 152.867431640625, 'Talking': 110.84147644042969, 'Gaming': 149.19662475585938, 'Reacting': 122.60166931152344, 'Gesticuling': 109.57096862792969, 'Greeting': 108.11688995361328}, 'UpperBody': {'All': 95.13067626953125, 'UpperStretching': 104.11622619628906, 'LowerStretching': 74.86812591552734, 'Walking': 88.9445571899414, 'Patting': 89.74951934814453, 'Talking': 85.42369842529297, 'Gaming': 94.86145782470703, 'Reacting': 89.49227142333984, 'Gesticuling': 78.19224548339844, 'Greeting': 76.57124328613281}, 'LowerBody': {'All': 213.8515625, 'UpperStretching': 217.57589721679688, 'LowerStretching': 230.520751953125, 'Walking': 215.82666015625, 'Patting': 215.98533630371094, 'Talking': 136.25926208496094, 'Gaming': 203.5318145751953, 'Reacting': 155.71109008789062, 'Gesticuling': 140.94972229003906, 'Greeting': 139.6625213623047}}\n"
     ]
    },
    {
     "name": "stderr",
     "output_type": "stream",
     "text": [
      " 34%|███▎      | 1801/5352 [04:10<07:41,  7.69it/s]"
     ]
    },
    {
     "name": "stdout",
     "output_type": "stream",
     "text": [
      "{'FullBody': {'All': 154.60484313964844, 'UpperStretching': 161.0872039794922, 'LowerStretching': 152.74447631835938, 'Walking': 151.70907592773438, 'Patting': 154.53839111328125, 'Talking': 110.12997436523438, 'Gaming': 149.67367553710938, 'Reacting': 122.53788757324219, 'Gesticuling': 109.23651885986328, 'Greeting': 107.82645416259766}, 'UpperBody': {'All': 95.24226379394531, 'UpperStretching': 104.26115417480469, 'LowerStretching': 75.07421112060547, 'Walking': 88.56636810302734, 'Patting': 90.77920532226562, 'Talking': 84.78614044189453, 'Gaming': 94.03336334228516, 'Reacting': 89.73541259765625, 'Gesticuling': 78.3316650390625, 'Greeting': 76.7646255493164}, 'LowerBody': {'All': 213.96739196777344, 'UpperStretching': 217.9132537841797, 'LowerStretching': 230.41473388671875, 'Walking': 214.85177612304688, 'Patting': 218.29754638671875, 'Talking': 135.4738311767578, 'Gaming': 205.31396484375, 'Reacting': 155.34036254882812, 'Gesticuling': 140.14138793945312, 'Greeting': 138.88829040527344}}\n"
     ]
    },
    {
     "name": "stderr",
     "output_type": "stream",
     "text": [
      " 37%|███▋      | 2001/5352 [04:37<07:46,  7.18it/s]"
     ]
    },
    {
     "name": "stdout",
     "output_type": "stream",
     "text": [
      "{'FullBody': {'All': 154.90402221679688, 'UpperStretching': 161.5088348388672, 'LowerStretching': 152.85821533203125, 'Walking': 152.489501953125, 'Patting': 152.9384307861328, 'Talking': 109.06720733642578, 'Gaming': 149.445068359375, 'Reacting': 123.5449447631836, 'Gesticuling': 109.02827453613281, 'Greeting': 107.78826141357422}, 'UpperBody': {'All': 95.3382339477539, 'UpperStretching': 104.40784454345703, 'LowerStretching': 74.9734878540039, 'Walking': 88.98115539550781, 'Patting': 90.11621856689453, 'Talking': 84.07794189453125, 'Gaming': 93.8805160522461, 'Reacting': 90.35026550292969, 'Gesticuling': 78.1531753540039, 'Greeting': 77.1621322631836}, 'LowerBody': {'All': 214.46978759765625, 'UpperStretching': 218.6098175048828, 'LowerStretching': 230.7429656982422, 'Walking': 215.9978485107422, 'Patting': 215.76065063476562, 'Talking': 134.05648803710938, 'Gaming': 205.00962829589844, 'Reacting': 156.73960876464844, 'Gesticuling': 139.90338134765625, 'Greeting': 138.41439819335938}}\n"
     ]
    },
    {
     "name": "stderr",
     "output_type": "stream",
     "text": [
      " 41%|████      | 2201/5352 [05:04<06:55,  7.59it/s]"
     ]
    },
    {
     "name": "stdout",
     "output_type": "stream",
     "text": [
      "{'FullBody': {'All': 155.0128173828125, 'UpperStretching': 161.56163024902344, 'LowerStretching': 153.23435974121094, 'Walking': 152.75088500976562, 'Patting': 153.62783813476562, 'Talking': 108.62765502929688, 'Gaming': 148.94207763671875, 'Reacting': 123.61280059814453, 'Gesticuling': 108.81970977783203, 'Greeting': 107.5437240600586}, 'UpperBody': {'All': 95.3483657836914, 'UpperStretching': 104.31766510009766, 'LowerStretching': 75.06825256347656, 'Walking': 89.20115661621094, 'Patting': 90.73560333251953, 'Talking': 83.95075988769531, 'Gaming': 94.31934356689453, 'Reacting': 90.40633392333984, 'Gesticuling': 78.43553924560547, 'Greeting': 76.5478744506836}, 'LowerBody': {'All': 214.67723083496094, 'UpperStretching': 218.80557250976562, 'LowerStretching': 231.40045166015625, 'Walking': 216.30062866210938, 'Patting': 216.5200653076172, 'Talking': 133.3045654296875, 'Gaming': 203.56483459472656, 'Reacting': 156.81930541992188, 'Gesticuling': 139.20388793945312, 'Greeting': 138.53956604003906}}\n"
     ]
    },
    {
     "name": "stderr",
     "output_type": "stream",
     "text": [
      " 45%|████▍     | 2401/5352 [05:31<06:34,  7.49it/s]"
     ]
    },
    {
     "name": "stdout",
     "output_type": "stream",
     "text": [
      "{'FullBody': {'All': 155.08676147460938, 'UpperStretching': 161.6800537109375, 'LowerStretching': 153.44117736816406, 'Walking': 152.63595581054688, 'Patting': 153.05064392089844, 'Talking': 108.29786682128906, 'Gaming': 149.19097900390625, 'Reacting': 123.84835052490234, 'Gesticuling': 108.46336364746094, 'Greeting': 107.71005249023438}, 'UpperBody': {'All': 95.38748931884766, 'UpperStretching': 104.38135528564453, 'LowerStretching': 75.15813446044922, 'Walking': 89.16581726074219, 'Patting': 90.55465698242188, 'Talking': 83.70861053466797, 'Gaming': 93.92784881591797, 'Reacting': 90.49385833740234, 'Gesticuling': 78.03385925292969, 'Greeting': 76.66159057617188}, 'LowerBody': {'All': 214.78599548339844, 'UpperStretching': 218.978759765625, 'LowerStretching': 231.72421264648438, 'Walking': 216.10609436035156, 'Patting': 215.54664611816406, 'Talking': 132.88714599609375, 'Gaming': 204.45411682128906, 'Reacting': 157.20285034179688, 'Gesticuling': 138.89285278320312, 'Greeting': 138.75851440429688}}\n"
     ]
    },
    {
     "name": "stderr",
     "output_type": "stream",
     "text": [
      " 49%|████▊     | 2601/5352 [05:58<06:18,  7.27it/s]"
     ]
    },
    {
     "name": "stdout",
     "output_type": "stream",
     "text": [
      "{'FullBody': {'All': 155.18064880371094, 'UpperStretching': 161.95933532714844, 'LowerStretching': 153.4960174560547, 'Walking': 152.56784057617188, 'Patting': 151.54910278320312, 'Talking': 107.50712585449219, 'Gaming': 148.0781707763672, 'Reacting': 123.9138412475586, 'Gesticuling': 108.0462875366211, 'Greeting': 107.7795639038086}, 'UpperBody': {'All': 95.3908462524414, 'UpperStretching': 104.5215072631836, 'LowerStretching': 75.1630859375, 'Walking': 89.06565856933594, 'Patting': 89.33345031738281, 'Talking': 82.83445739746094, 'Gaming': 93.15975952148438, 'Reacting': 90.27908325195312, 'Gesticuling': 77.73987579345703, 'Greeting': 76.88919830322266}, 'LowerBody': {'All': 214.97042846679688, 'UpperStretching': 219.39715576171875, 'LowerStretching': 231.82894897460938, 'Walking': 216.0700225830078, 'Patting': 213.76473999023438, 'Talking': 132.1798095703125, 'Gaming': 202.99659729003906, 'Reacting': 157.54859924316406, 'Gesticuling': 138.3527069091797, 'Greeting': 138.66995239257812}}\n"
     ]
    },
    {
     "name": "stderr",
     "output_type": "stream",
     "text": [
      " 52%|█████▏    | 2801/5352 [06:25<05:52,  7.23it/s]"
     ]
    },
    {
     "name": "stdout",
     "output_type": "stream",
     "text": [
      "{'FullBody': {'All': 155.2451171875, 'UpperStretching': 162.1431884765625, 'LowerStretching': 153.2491912841797, 'Walking': 152.57211303710938, 'Patting': 151.697509765625, 'Talking': 107.77161407470703, 'Gaming': 148.75914001464844, 'Reacting': 123.69505310058594, 'Gesticuling': 107.97157287597656, 'Greeting': 107.15044403076172}, 'UpperBody': {'All': 95.43511199951172, 'UpperStretching': 104.65007781982422, 'LowerStretching': 75.0817642211914, 'Walking': 89.06272888183594, 'Patting': 89.25052642822266, 'Talking': 83.43455505371094, 'Gaming': 93.85203552246094, 'Reacting': 89.85907745361328, 'Gesticuling': 77.81696319580078, 'Greeting': 76.27435302734375}, 'LowerBody': {'All': 215.05511474609375, 'UpperStretching': 219.63629150390625, 'LowerStretching': 231.4166259765625, 'Walking': 216.0814971923828, 'Patting': 214.14451599121094, 'Talking': 132.1086883544922, 'Gaming': 203.66624450683594, 'Reacting': 157.53103637695312, 'Gesticuling': 138.12619018554688, 'Greeting': 138.02651977539062}}\n"
     ]
    },
    {
     "name": "stderr",
     "output_type": "stream",
     "text": [
      " 56%|█████▌    | 3001/5352 [06:52<05:20,  7.34it/s]"
     ]
    },
    {
     "name": "stdout",
     "output_type": "stream",
     "text": [
      "{'FullBody': {'All': 155.17222595214844, 'UpperStretching': 162.0197296142578, 'LowerStretching': 153.45065307617188, 'Walking': 152.31378173828125, 'Patting': 151.129150390625, 'Talking': 107.24349212646484, 'Gaming': 148.51295471191406, 'Reacting': 123.60906982421875, 'Gesticuling': 108.22189331054688, 'Greeting': 107.3701400756836}, 'UpperBody': {'All': 95.36258697509766, 'UpperStretching': 104.60631561279297, 'LowerStretching': 75.12334442138672, 'Walking': 88.78386688232422, 'Patting': 88.86983489990234, 'Talking': 83.01533508300781, 'Gaming': 93.92169952392578, 'Reacting': 89.66532897949219, 'Gesticuling': 77.97461700439453, 'Greeting': 76.2441177368164}, 'LowerBody': {'All': 214.98182678222656, 'UpperStretching': 219.43313598632812, 'LowerStretching': 231.77798461914062, 'Walking': 215.8436737060547, 'Patting': 213.38845825195312, 'Talking': 131.4716339111328, 'Gaming': 203.10423278808594, 'Reacting': 157.5528106689453, 'Gesticuling': 138.4691619873047, 'Greeting': 138.4961700439453}}\n"
     ]
    },
    {
     "name": "stderr",
     "output_type": "stream",
     "text": [
      " 60%|█████▉    | 3201/5352 [07:19<05:10,  6.93it/s]"
     ]
    },
    {
     "name": "stdout",
     "output_type": "stream",
     "text": [
      "{'FullBody': {'All': 155.10606384277344, 'UpperStretching': 162.00367736816406, 'LowerStretching': 153.2463836669922, 'Walking': 152.11195373535156, 'Patting': 151.66690063476562, 'Talking': 107.25646209716797, 'Gaming': 148.31336975097656, 'Reacting': 123.11646270751953, 'Gesticuling': 108.37616729736328, 'Greeting': 107.64656829833984}, 'UpperBody': {'All': 95.34051513671875, 'UpperStretching': 104.6091537475586, 'LowerStretching': 75.09769439697266, 'Walking': 88.59711456298828, 'Patting': 88.83638763427734, 'Talking': 83.01284790039062, 'Gaming': 93.59320831298828, 'Reacting': 89.44214630126953, 'Gesticuling': 78.05111694335938, 'Greeting': 76.58485412597656}, 'LowerBody': {'All': 214.87158203125, 'UpperStretching': 219.39820861816406, 'LowerStretching': 231.39508056640625, 'Walking': 215.6267852783203, 'Patting': 214.49742126464844, 'Talking': 131.50009155273438, 'Gaming': 203.03353881835938, 'Reacting': 156.79078674316406, 'Gesticuling': 138.70120239257812, 'Greeting': 138.70826721191406}}\n"
     ]
    },
    {
     "name": "stderr",
     "output_type": "stream",
     "text": [
      " 64%|██████▎   | 3401/5352 [07:46<04:25,  7.34it/s]"
     ]
    },
    {
     "name": "stdout",
     "output_type": "stream",
     "text": [
      "{'FullBody': {'All': 154.86288452148438, 'UpperStretching': 161.734375, 'LowerStretching': 153.23851013183594, 'Walking': 151.9651336669922, 'Patting': 150.5698699951172, 'Talking': 106.86068725585938, 'Gaming': 147.8535614013672, 'Reacting': 123.03925323486328, 'Gesticuling': 108.46273040771484, 'Greeting': 107.70650482177734}, 'UpperBody': {'All': 95.21043395996094, 'UpperStretching': 104.48804473876953, 'LowerStretching': 75.00459289550781, 'Walking': 88.65276336669922, 'Patting': 88.29051971435547, 'Talking': 82.71208190917969, 'Gaming': 92.9456787109375, 'Reacting': 89.3558349609375, 'Gesticuling': 78.04605865478516, 'Greeting': 76.64898681640625}, 'LowerBody': {'All': 214.5153350830078, 'UpperStretching': 218.980712890625, 'LowerStretching': 231.47242736816406, 'Walking': 215.27752685546875, 'Patting': 212.8492431640625, 'Talking': 131.00927734375, 'Gaming': 202.761474609375, 'Reacting': 156.72267150878906, 'Gesticuling': 138.87939453125, 'Greeting': 138.76402282714844}}\n"
     ]
    },
    {
     "name": "stderr",
     "output_type": "stream",
     "text": [
      " 67%|██████▋   | 3601/5352 [08:13<04:04,  7.17it/s]"
     ]
    },
    {
     "name": "stdout",
     "output_type": "stream",
     "text": [
      "{'FullBody': {'All': 154.78021240234375, 'UpperStretching': 161.65576171875, 'LowerStretching': 153.09715270996094, 'Walking': 151.89044189453125, 'Patting': 150.90428161621094, 'Talking': 106.95364379882812, 'Gaming': 147.91354370117188, 'Reacting': 122.97539520263672, 'Gesticuling': 108.66541290283203, 'Greeting': 107.7532958984375}, 'UpperBody': {'All': 95.18358612060547, 'UpperStretching': 104.45140075683594, 'LowerStretching': 74.99361419677734, 'Walking': 88.54894256591797, 'Patting': 88.54150390625, 'Talking': 82.66069793701172, 'Gaming': 93.25872039794922, 'Reacting': 89.3207015991211, 'Gesticuling': 77.91561889648438, 'Greeting': 76.75297546386719}, 'LowerBody': {'All': 214.37680053710938, 'UpperStretching': 218.86012268066406, 'LowerStretching': 231.20069885253906, 'Walking': 215.23193359375, 'Patting': 213.2670440673828, 'Talking': 131.24658203125, 'Gaming': 202.56837463378906, 'Reacting': 156.63006591796875, 'Gesticuling': 139.4152069091797, 'Greeting': 138.75363159179688}}\n"
     ]
    },
    {
     "name": "stderr",
     "output_type": "stream",
     "text": [
      " 71%|███████   | 3801/5352 [08:40<03:42,  6.97it/s]"
     ]
    },
    {
     "name": "stdout",
     "output_type": "stream",
     "text": [
      "{'FullBody': {'All': 154.7793426513672, 'UpperStretching': 161.66929626464844, 'LowerStretching': 153.12158203125, 'Walking': 151.65618896484375, 'Patting': 150.69566345214844, 'Talking': 107.1042251586914, 'Gaming': 147.36251831054688, 'Reacting': 122.99382781982422, 'Gesticuling': 108.62925720214844, 'Greeting': 107.98612213134766}, 'UpperBody': {'All': 95.16139221191406, 'UpperStretching': 104.43184661865234, 'LowerStretching': 74.9822998046875, 'Walking': 88.45880126953125, 'Patting': 88.47191619873047, 'Talking': 82.69599151611328, 'Gaming': 92.74971008300781, 'Reacting': 89.30805969238281, 'Gesticuling': 77.59951782226562, 'Greeting': 77.08064270019531}, 'LowerBody': {'All': 214.39724731445312, 'UpperStretching': 218.90676879882812, 'LowerStretching': 231.26089477539062, 'Walking': 214.85354614257812, 'Patting': 212.91943359375, 'Talking': 131.51246643066406, 'Gaming': 201.97532653808594, 'Reacting': 156.67959594726562, 'Gesticuling': 139.6590118408203, 'Greeting': 138.89163208007812}}\n"
     ]
    },
    {
     "name": "stderr",
     "output_type": "stream",
     "text": [
      " 75%|███████▍  | 4001/5352 [09:08<03:11,  7.06it/s]"
     ]
    },
    {
     "name": "stdout",
     "output_type": "stream",
     "text": [
      "{'FullBody': {'All': 154.7564697265625, 'UpperStretching': 161.52194213867188, 'LowerStretching': 153.38192749023438, 'Walking': 151.7744903564453, 'Patting': 150.10743713378906, 'Talking': 107.19580078125, 'Gaming': 147.2500762939453, 'Reacting': 123.4549789428711, 'Gesticuling': 108.81082153320312, 'Greeting': 107.61243438720703}, 'UpperBody': {'All': 95.14173126220703, 'UpperStretching': 104.33130645751953, 'LowerStretching': 75.03658294677734, 'Walking': 88.65677642822266, 'Patting': 88.22867584228516, 'Talking': 82.68453216552734, 'Gaming': 92.80902099609375, 'Reacting': 89.35376739501953, 'Gesticuling': 77.75537109375, 'Greeting': 76.90837860107422}, 'LowerBody': {'All': 214.3711700439453, 'UpperStretching': 218.7125701904297, 'LowerStretching': 231.72726440429688, 'Walking': 214.89222717285156, 'Patting': 211.98623657226562, 'Talking': 131.7070770263672, 'Gaming': 201.69113159179688, 'Reacting': 157.55621337890625, 'Gesticuling': 139.8662872314453, 'Greeting': 138.3164825439453}}\n"
     ]
    },
    {
     "name": "stderr",
     "output_type": "stream",
     "text": [
      " 78%|███████▊  | 4201/5352 [09:35<02:41,  7.14it/s]"
     ]
    },
    {
     "name": "stdout",
     "output_type": "stream",
     "text": [
      "{'FullBody': {'All': 154.74607849121094, 'UpperStretching': 161.5411376953125, 'LowerStretching': 153.4154815673828, 'Walking': 151.7324981689453, 'Patting': 149.56985473632812, 'Talking': 107.11908721923828, 'Gaming': 147.30880737304688, 'Reacting': 123.52322387695312, 'Gesticuling': 108.65513610839844, 'Greeting': 107.61541748046875}, 'UpperBody': {'All': 95.13958740234375, 'UpperStretching': 104.30724334716797, 'LowerStretching': 75.12176513671875, 'Walking': 88.70325469970703, 'Patting': 87.78689575195312, 'Talking': 82.53292083740234, 'Gaming': 92.68003845214844, 'Reacting': 89.52955627441406, 'Gesticuling': 77.68109130859375, 'Greeting': 76.92080688476562}, 'LowerBody': {'All': 214.3525390625, 'UpperStretching': 218.77500915527344, 'LowerStretching': 231.709228515625, 'Walking': 214.76174926757812, 'Patting': 211.35281372070312, 'Talking': 131.70526123046875, 'Gaming': 201.93760681152344, 'Reacting': 157.51690673828125, 'Gesticuling': 139.62916564941406, 'Greeting': 138.31004333496094}}\n"
     ]
    },
    {
     "name": "stderr",
     "output_type": "stream",
     "text": [
      " 82%|████████▏ | 4401/5352 [10:02<02:19,  6.82it/s]"
     ]
    },
    {
     "name": "stdout",
     "output_type": "stream",
     "text": [
      "{'FullBody': {'All': 154.6848602294922, 'UpperStretching': 161.48878479003906, 'LowerStretching': 153.13526916503906, 'Walking': 151.83140563964844, 'Patting': 149.54388427734375, 'Talking': 107.01114654541016, 'Gaming': 147.02122497558594, 'Reacting': 123.70045471191406, 'Gesticuling': 108.7961196899414, 'Greeting': 107.33797454833984}, 'UpperBody': {'All': 95.14424896240234, 'UpperStretching': 104.26779174804688, 'LowerStretching': 75.05842590332031, 'Walking': 88.85498809814453, 'Patting': 87.65938568115234, 'Talking': 82.51908874511719, 'Gaming': 92.5675277709961, 'Reacting': 89.62360382080078, 'Gesticuling': 77.74700164794922, 'Greeting': 76.95635223388672}, 'LowerBody': {'All': 214.22544860839844, 'UpperStretching': 218.7097930908203, 'LowerStretching': 231.21212768554688, 'Walking': 214.80784606933594, 'Patting': 211.42837524414062, 'Talking': 131.50318908691406, 'Gaming': 201.47491455078125, 'Reacting': 157.77731323242188, 'Gesticuling': 139.84524536132812, 'Greeting': 137.71958923339844}}\n"
     ]
    },
    {
     "name": "stderr",
     "output_type": "stream",
     "text": [
      " 86%|████████▌ | 4601/5352 [10:29<01:45,  7.11it/s]"
     ]
    },
    {
     "name": "stdout",
     "output_type": "stream",
     "text": [
      "{'FullBody': {'All': 154.7828826904297, 'UpperStretching': 161.59512329101562, 'LowerStretching': 153.33872985839844, 'Walking': 151.93101501464844, 'Patting': 149.31756591796875, 'Talking': 106.90221405029297, 'Gaming': 146.80226135253906, 'Reacting': 123.56538391113281, 'Gesticuling': 108.79238891601562, 'Greeting': 107.1650161743164}, 'UpperBody': {'All': 95.12760925292969, 'UpperStretching': 104.24893188476562, 'LowerStretching': 75.10479736328125, 'Walking': 88.83088684082031, 'Patting': 87.41075134277344, 'Talking': 82.280029296875, 'Gaming': 92.44963836669922, 'Reacting': 89.60489654541016, 'Gesticuling': 77.62046813964844, 'Greeting': 76.86738586425781}, 'LowerBody': {'All': 214.43812561035156, 'UpperStretching': 218.9413299560547, 'LowerStretching': 231.57266235351562, 'Walking': 215.0311279296875, 'Patting': 211.224365234375, 'Talking': 131.52439880371094, 'Gaming': 201.15487670898438, 'Reacting': 157.52589416503906, 'Gesticuling': 139.9643096923828, 'Greeting': 137.46263122558594}}\n"
     ]
    },
    {
     "name": "stderr",
     "output_type": "stream",
     "text": [
      " 90%|████████▉ | 4801/5352 [10:56<01:17,  7.15it/s]"
     ]
    },
    {
     "name": "stdout",
     "output_type": "stream",
     "text": [
      "{'FullBody': {'All': 154.6915283203125, 'UpperStretching': 161.48402404785156, 'LowerStretching': 153.3610382080078, 'Walking': 151.88845825195312, 'Patting': 148.92298889160156, 'Talking': 106.8395767211914, 'Gaming': 146.44912719726562, 'Reacting': 123.46694946289062, 'Gesticuling': 108.58992767333984, 'Greeting': 107.1613540649414}, 'UpperBody': {'All': 95.10673522949219, 'UpperStretching': 104.20210266113281, 'LowerStretching': 75.19923400878906, 'Walking': 88.85523223876953, 'Patting': 87.26891326904297, 'Talking': 82.19001007080078, 'Gaming': 92.25614929199219, 'Reacting': 89.62316131591797, 'Gesticuling': 77.51040649414062, 'Greeting': 76.85588836669922}, 'LowerBody': {'All': 214.2763214111328, 'UpperStretching': 218.76593017578125, 'LowerStretching': 231.5228729248047, 'Walking': 214.92169189453125, 'Patting': 210.57705688476562, 'Talking': 131.48915100097656, 'Gaming': 200.64212036132812, 'Reacting': 157.31076049804688, 'Gesticuling': 139.66944885253906, 'Greeting': 137.46682739257812}}\n"
     ]
    },
    {
     "name": "stderr",
     "output_type": "stream",
     "text": [
      " 93%|█████████▎| 5001/5352 [11:23<00:53,  6.53it/s]"
     ]
    },
    {
     "name": "stdout",
     "output_type": "stream",
     "text": [
      "{'FullBody': {'All': 154.72799682617188, 'UpperStretching': 161.5439910888672, 'LowerStretching': 153.46888732910156, 'Walking': 151.85752868652344, 'Patting': 149.0348358154297, 'Talking': 106.49858093261719, 'Gaming': 146.32797241210938, 'Reacting': 123.47956085205078, 'Gesticuling': 108.60856628417969, 'Greeting': 107.43495178222656}, 'UpperBody': {'All': 95.08905029296875, 'UpperStretching': 104.18827819824219, 'LowerStretching': 75.28855895996094, 'Walking': 88.85411834716797, 'Patting': 87.1816177368164, 'Talking': 82.0179214477539, 'Gaming': 92.16315460205078, 'Reacting': 89.36579132080078, 'Gesticuling': 77.49725341796875, 'Greeting': 76.99789428710938}, 'LowerBody': {'All': 214.366943359375, 'UpperStretching': 218.89971923828125, 'LowerStretching': 231.64923095703125, 'Walking': 214.86094665527344, 'Patting': 210.88803100585938, 'Talking': 130.97923278808594, 'Gaming': 200.49278259277344, 'Reacting': 157.5933380126953, 'Gesticuling': 139.71987915039062, 'Greeting': 137.8719940185547}}\n"
     ]
    },
    {
     "name": "stderr",
     "output_type": "stream",
     "text": [
      " 97%|█████████▋| 5201/5352 [11:50<00:21,  7.06it/s]"
     ]
    },
    {
     "name": "stdout",
     "output_type": "stream",
     "text": [
      "{'FullBody': {'All': 154.7509765625, 'UpperStretching': 161.5682373046875, 'LowerStretching': 153.44931030273438, 'Walking': 151.8963623046875, 'Patting': 148.79136657714844, 'Talking': 106.88666534423828, 'Gaming': 146.280517578125, 'Reacting': 123.68293762207031, 'Gesticuling': 108.60408782958984, 'Greeting': 107.36553955078125}, 'UpperBody': {'All': 95.08086395263672, 'UpperStretching': 104.17733001708984, 'LowerStretching': 75.28673553466797, 'Walking': 88.80695343017578, 'Patting': 86.93851470947266, 'Talking': 82.26107025146484, 'Gaming': 92.31876373291016, 'Reacting': 89.47151184082031, 'Gesticuling': 77.4190902709961, 'Greeting': 76.83405303955078}, 'LowerBody': {'All': 214.42108154296875, 'UpperStretching': 218.95912170410156, 'LowerStretching': 231.6118927001953, 'Walking': 214.98577880859375, 'Patting': 210.6442108154297, 'Talking': 131.5122528076172, 'Gaming': 200.2422637939453, 'Reacting': 157.8943634033203, 'Gesticuling': 139.78909301757812, 'Greeting': 137.8970184326172}}\n"
     ]
    },
    {
     "name": "stderr",
     "output_type": "stream",
     "text": [
      "100%|██████████| 5352/5352 [12:11<00:00,  7.32it/s]\n",
      "\u001b[94m07:39:13 \u001b[92m[INFO]\u001b[94m Main\u001b[0m: Saving evaluation results...\n",
      "\u001b[94m07:39:13 \u001b[92m[INFO]\u001b[94m Main\u001b[0m: Done.\n",
      "\u001b[94m07:39:13 \u001b[92m[INFO]\u001b[94m Main\u001b[0m: Starting demo...\n",
      "  0%|          | 0/5352 [00:00<?, ?it/s]/opt/conda/lib/python3.10/site-packages/torchvision/transforms/transforms.py:329: UserWarning: Argument 'interpolation' of type int is deprecated since 0.13 and will be removed in 0.15. Please use InterpolationMode enum.\n",
      "  warnings.warn(\n",
      "/opt/conda/lib/python3.10/site-packages/torchvision/transforms/transforms.py:329: UserWarning: Argument 'interpolation' of type int is deprecated since 0.13 and will be removed in 0.15. Please use InterpolationMode enum.\n",
      "  warnings.warn(\n",
      "/opt/conda/lib/python3.10/site-packages/torchvision/transforms/transforms.py:329: UserWarning: Argument 'interpolation' of type int is deprecated since 0.13 and will be removed in 0.15. Please use InterpolationMode enum.\n",
      "  warnings.warn(\n",
      "/opt/conda/lib/python3.10/site-packages/torchvision/transforms/transforms.py:329: UserWarning: Argument 'interpolation' of type int is deprecated since 0.13 and will be removed in 0.15. Please use InterpolationMode enum.\n",
      "  warnings.warn(\n",
      "/opt/conda/lib/python3.10/site-packages/torchvision/transforms/transforms.py:329: UserWarning: Argument 'interpolation' of type int is deprecated since 0.13 and will be removed in 0.15. Please use InterpolationMode enum.\n",
      "  warnings.warn(\n",
      "/opt/conda/lib/python3.10/site-packages/torchvision/transforms/transforms.py:329: UserWarning: Argument 'interpolation' of type int is deprecated since 0.13 and will be removed in 0.15. Please use InterpolationMode enum.\n",
      "  warnings.warn(\n",
      "/opt/conda/lib/python3.10/site-packages/torchvision/transforms/transforms.py:329: UserWarning: Argument 'interpolation' of type int is deprecated since 0.13 and will be removed in 0.15. Please use InterpolationMode enum.\n",
      "  warnings.warn(\n",
      "/opt/conda/lib/python3.10/site-packages/torchvision/transforms/transforms.py:329: UserWarning: Argument 'interpolation' of type int is deprecated since 0.13 and will be removed in 0.15. Please use InterpolationMode enum.\n",
      "  warnings.warn(\n",
      "/opt/conda/lib/python3.10/site-packages/torchvision/transforms/transforms.py:329: UserWarning: Argument 'interpolation' of type int is deprecated since 0.13 and will be removed in 0.15. Please use InterpolationMode enum.\n",
      "  warnings.warn(\n",
      "/opt/conda/lib/python3.10/site-packages/torchvision/transforms/transforms.py:329: UserWarning: Argument 'interpolation' of type int is deprecated since 0.13 and will be removed in 0.15. Please use InterpolationMode enum.\n",
      "  warnings.warn(\n",
      "/opt/conda/lib/python3.10/site-packages/torchvision/transforms/transforms.py:329: UserWarning: Argument 'interpolation' of type int is deprecated since 0.13 and will be removed in 0.15. Please use InterpolationMode enum.\n",
      "  warnings.warn(\n",
      "/opt/conda/lib/python3.10/site-packages/torchvision/transforms/transforms.py:329: UserWarning: Argument 'interpolation' of type int is deprecated since 0.13 and will be removed in 0.15. Please use InterpolationMode enum.\n",
      "  warnings.warn(\n",
      "/opt/conda/lib/python3.10/site-packages/torchvision/transforms/transforms.py:329: UserWarning: Argument 'interpolation' of type int is deprecated since 0.13 and will be removed in 0.15. Please use InterpolationMode enum.\n",
      "  warnings.warn(\n",
      "/opt/conda/lib/python3.10/site-packages/torchvision/transforms/transforms.py:329: UserWarning: Argument 'interpolation' of type int is deprecated since 0.13 and will be removed in 0.15. Please use InterpolationMode enum.\n",
      "  warnings.warn(\n",
      "/opt/conda/lib/python3.10/site-packages/torchvision/transforms/transforms.py:329: UserWarning: Argument 'interpolation' of type int is deprecated since 0.13 and will be removed in 0.15. Please use InterpolationMode enum.\n",
      "  warnings.warn(\n",
      "/opt/conda/lib/python3.10/site-packages/torchvision/transforms/transforms.py:329: UserWarning: Argument 'interpolation' of type int is deprecated since 0.13 and will be removed in 0.15. Please use InterpolationMode enum.\n",
      "  warnings.warn(\n",
      "/opt/conda/lib/python3.10/site-packages/torchvision/transforms/transforms.py:329: UserWarning: Argument 'interpolation' of type int is deprecated since 0.13 and will be removed in 0.15. Please use InterpolationMode enum.\n",
      "  warnings.warn(\n",
      "/opt/conda/lib/python3.10/site-packages/torchvision/transforms/transforms.py:329: UserWarning: Argument 'interpolation' of type int is deprecated since 0.13 and will be removed in 0.15. Please use InterpolationMode enum.\n",
      "  warnings.warn(\n",
      "/opt/conda/lib/python3.10/site-packages/torchvision/transforms/transforms.py:329: UserWarning: Argument 'interpolation' of type int is deprecated since 0.13 and will be removed in 0.15. Please use InterpolationMode enum.\n",
      "  warnings.warn(\n",
      "/opt/conda/lib/python3.10/site-packages/torchvision/transforms/transforms.py:329: UserWarning: Argument 'interpolation' of type int is deprecated since 0.13 and will be removed in 0.15. Please use InterpolationMode enum.\n",
      "  warnings.warn(\n",
      "/opt/conda/lib/python3.10/site-packages/torchvision/transforms/transforms.py:329: UserWarning: Argument 'interpolation' of type int is deprecated since 0.13 and will be removed in 0.15. Please use InterpolationMode enum.\n",
      "  warnings.warn(\n",
      "/opt/conda/lib/python3.10/site-packages/torchvision/transforms/transforms.py:329: UserWarning: Argument 'interpolation' of type int is deprecated since 0.13 and will be removed in 0.15. Please use InterpolationMode enum.\n",
      "  warnings.warn(\n",
      "/opt/conda/lib/python3.10/site-packages/torchvision/transforms/transforms.py:329: UserWarning: Argument 'interpolation' of type int is deprecated since 0.13 and will be removed in 0.15. Please use InterpolationMode enum.\n",
      "  warnings.warn(\n",
      "/opt/conda/lib/python3.10/site-packages/torchvision/transforms/transforms.py:329: UserWarning: Argument 'interpolation' of type int is deprecated since 0.13 and will be removed in 0.15. Please use InterpolationMode enum.\n",
      "  warnings.warn(\n",
      "  4%|▍         | 201/5352 [00:33<10:51,  7.91it/s]"
     ]
    },
    {
     "name": "stdout",
     "output_type": "stream",
     "text": [
      "{'FullBody': {'All': 100.02279663085938, 'LowerStretching': 97.85840606689453, 'UpperStretching': 100.39991760253906, 'Reacting': 104.51243591308594, 'Gesticuling': 94.94461059570312, 'Gaming': 119.34320068359375, 'Walking': 96.76244354248047, 'Patting': 117.34115600585938, 'Talking': 85.86970520019531, 'Greeting': 89.12998962402344}, 'UpperBody': {'All': 71.04625701904297, 'LowerStretching': 55.729583740234375, 'UpperStretching': 77.07270812988281, 'Reacting': 74.94347381591797, 'Gesticuling': 69.97403717041016, 'Gaming': 70.3172607421875, 'Walking': 60.2053337097168, 'Patting': 84.50946044921875, 'Talking': 63.23747634887695, 'Greeting': 59.910491943359375}, 'LowerBody': {'All': 128.9993133544922, 'LowerStretching': 139.9872283935547, 'UpperStretching': 123.72711944580078, 'Reacting': 134.08139038085938, 'Gesticuling': 119.9151840209961, 'Gaming': 168.36912536621094, 'Walking': 133.31954956054688, 'Patting': 150.17286682128906, 'Talking': 108.50192260742188, 'Greeting': 118.34947204589844}}\n"
     ]
    },
    {
     "name": "stderr",
     "output_type": "stream",
     "text": [
      "  7%|▋         | 401/5352 [00:59<10:29,  7.87it/s]"
     ]
    },
    {
     "name": "stdout",
     "output_type": "stream",
     "text": [
      "{'FullBody': {'All': 100.09785461425781, 'LowerStretching': 97.69221496582031, 'UpperStretching': 101.32263946533203, 'Reacting': 102.54505157470703, 'Gesticuling': 93.66834259033203, 'Gaming': 115.43334197998047, 'Walking': 96.62936401367188, 'Patting': 110.72828674316406, 'Talking': 86.54894256591797, 'Greeting': 85.20269012451172}, 'UpperBody': {'All': 71.0125732421875, 'LowerStretching': 54.70402526855469, 'UpperStretching': 77.49028778076172, 'Reacting': 75.02315521240234, 'Gesticuling': 68.30162048339844, 'Gaming': 68.53951263427734, 'Walking': 60.85000228881836, 'Patting': 78.11441040039062, 'Talking': 62.02386474609375, 'Greeting': 58.62879943847656}, 'LowerBody': {'All': 129.18312072753906, 'LowerStretching': 140.68040466308594, 'UpperStretching': 125.15499877929688, 'Reacting': 130.06695556640625, 'Gesticuling': 119.03507232666016, 'Gaming': 162.32717895507812, 'Walking': 132.40872192382812, 'Patting': 143.3421630859375, 'Talking': 111.07402801513672, 'Greeting': 111.77656555175781}}\n"
     ]
    },
    {
     "name": "stderr",
     "output_type": "stream",
     "text": [
      " 11%|█         | 601/5352 [01:26<12:02,  6.58it/s]"
     ]
    },
    {
     "name": "stdout",
     "output_type": "stream",
     "text": [
      "{'FullBody': {'All': 99.81013488769531, 'LowerStretching': 97.07778930664062, 'UpperStretching': 101.12559509277344, 'Reacting': 103.69424438476562, 'Gesticuling': 93.13967895507812, 'Gaming': 117.53618621826172, 'Walking': 95.97362518310547, 'Patting': 107.83419036865234, 'Talking': 86.33958435058594, 'Greeting': 84.29251861572266}, 'UpperBody': {'All': 71.03730773925781, 'LowerStretching': 55.1798210144043, 'UpperStretching': 77.6646728515625, 'Reacting': 74.50633239746094, 'Gesticuling': 66.79298400878906, 'Gaming': 70.79618072509766, 'Walking': 60.72935485839844, 'Patting': 74.08001708984375, 'Talking': 61.4207649230957, 'Greeting': 58.86246109008789}, 'LowerBody': {'All': 128.5829620361328, 'LowerStretching': 138.9757843017578, 'UpperStretching': 124.58650207519531, 'Reacting': 132.88217163085938, 'Gesticuling': 119.48637390136719, 'Gaming': 164.27618408203125, 'Walking': 131.21792602539062, 'Patting': 141.58834838867188, 'Talking': 111.25840759277344, 'Greeting': 109.72257995605469}}\n"
     ]
    },
    {
     "name": "stderr",
     "output_type": "stream",
     "text": [
      " 15%|█▍        | 801/5352 [01:53<09:56,  7.63it/s]"
     ]
    },
    {
     "name": "stdout",
     "output_type": "stream",
     "text": [
      "{'FullBody': {'All': 99.67676544189453, 'LowerStretching': 97.53620910644531, 'UpperStretching': 101.02325439453125, 'Reacting': 103.2652816772461, 'Gesticuling': 94.562255859375, 'Gaming': 115.76847076416016, 'Walking': 95.0380859375, 'Patting': 106.78133392333984, 'Talking': 88.24161529541016, 'Greeting': 83.21814727783203}, 'UpperBody': {'All': 70.8799819946289, 'LowerStretching': 55.5114631652832, 'UpperStretching': 77.59893035888672, 'Reacting': 74.2558364868164, 'Gesticuling': 67.52276611328125, 'Gaming': 70.36006927490234, 'Walking': 60.10591125488281, 'Patting': 72.20271301269531, 'Talking': 63.855430603027344, 'Greeting': 59.07882308959961}, 'LowerBody': {'All': 128.4735565185547, 'LowerStretching': 139.56097412109375, 'UpperStretching': 124.44756317138672, 'Reacting': 132.27471923828125, 'Gesticuling': 121.60175323486328, 'Gaming': 161.17689514160156, 'Walking': 129.97027587890625, 'Patting': 141.35995483398438, 'Talking': 112.62779235839844, 'Greeting': 107.35747528076172}}\n"
     ]
    },
    {
     "name": "stderr",
     "output_type": "stream",
     "text": [
      " 19%|█▊        | 1001/5352 [02:21<09:35,  7.55it/s]"
     ]
    },
    {
     "name": "stdout",
     "output_type": "stream",
     "text": [
      "{'FullBody': {'All': 99.5513916015625, 'LowerStretching': 97.54850006103516, 'UpperStretching': 101.0631332397461, 'Reacting': 102.07274627685547, 'Gesticuling': 94.68283081054688, 'Gaming': 113.59324645996094, 'Walking': 94.71044921875, 'Patting': 106.38642120361328, 'Talking': 86.65974426269531, 'Greeting': 82.02278137207031}, 'UpperBody': {'All': 70.79380798339844, 'LowerStretching': 55.42496871948242, 'UpperStretching': 77.67732238769531, 'Reacting': 74.00682067871094, 'Gesticuling': 67.45838928222656, 'Gaming': 69.52132415771484, 'Walking': 60.15310287475586, 'Patting': 71.52032470703125, 'Talking': 62.618499755859375, 'Greeting': 58.27813720703125}, 'LowerBody': {'All': 128.30897521972656, 'LowerStretching': 139.67205810546875, 'UpperStretching': 124.44893646240234, 'Reacting': 130.13865661621094, 'Gesticuling': 121.90726470947266, 'Gaming': 157.66517639160156, 'Walking': 129.26780700683594, 'Patting': 141.25250244140625, 'Talking': 110.70097351074219, 'Greeting': 105.7674331665039}}\n"
     ]
    },
    {
     "name": "stderr",
     "output_type": "stream",
     "text": [
      " 22%|██▏       | 1201/5352 [02:48<10:51,  6.37it/s]"
     ]
    },
    {
     "name": "stdout",
     "output_type": "stream",
     "text": [
      "{'FullBody': {'All': 99.62679290771484, 'LowerStretching': 97.75291442871094, 'UpperStretching': 101.20201873779297, 'Reacting': 102.63541412353516, 'Gesticuling': 95.3198013305664, 'Gaming': 111.58383178710938, 'Walking': 94.6116714477539, 'Patting': 106.02825164794922, 'Talking': 85.13575744628906, 'Greeting': 81.90904235839844}, 'UpperBody': {'All': 70.854736328125, 'LowerStretching': 55.43546676635742, 'UpperStretching': 77.866943359375, 'Reacting': 74.57266235351562, 'Gesticuling': 68.07378387451172, 'Gaming': 68.959716796875, 'Walking': 60.051944732666016, 'Patting': 70.81451416015625, 'Talking': 61.428009033203125, 'Greeting': 57.73463821411133}, 'LowerBody': {'All': 128.3988494873047, 'LowerStretching': 140.07037353515625, 'UpperStretching': 124.53710174560547, 'Reacting': 130.6981964111328, 'Gesticuling': 122.56582641601562, 'Gaming': 154.20794677734375, 'Walking': 129.17140197753906, 'Patting': 141.241943359375, 'Talking': 108.843505859375, 'Greeting': 106.08343505859375}}\n"
     ]
    },
    {
     "name": "stderr",
     "output_type": "stream",
     "text": [
      " 26%|██▌       | 1401/5352 [03:15<09:06,  7.23it/s]"
     ]
    },
    {
     "name": "stdout",
     "output_type": "stream",
     "text": [
      "{'FullBody': {'All': 99.70313262939453, 'LowerStretching': 98.23493194580078, 'UpperStretching': 101.1639633178711, 'Reacting': 103.25545501708984, 'Gesticuling': 95.20751190185547, 'Gaming': 111.04017639160156, 'Walking': 94.46768951416016, 'Patting': 106.95576477050781, 'Talking': 85.59696197509766, 'Greeting': 81.83805847167969}, 'UpperBody': {'All': 70.97058868408203, 'LowerStretching': 55.55931091308594, 'UpperStretching': 78.05046081542969, 'Reacting': 74.91761016845703, 'Gesticuling': 67.63836669921875, 'Gaming': 68.9481201171875, 'Walking': 59.8242301940918, 'Patting': 70.83796691894531, 'Talking': 61.8984489440918, 'Greeting': 58.07823944091797}, 'LowerBody': {'All': 128.43569946289062, 'LowerStretching': 140.91055297851562, 'UpperStretching': 124.27745819091797, 'Reacting': 131.5933074951172, 'Gesticuling': 122.77666473388672, 'Gaming': 153.13223266601562, 'Walking': 129.11114501953125, 'Patting': 143.07354736328125, 'Talking': 109.29548645019531, 'Greeting': 105.59786987304688}}\n"
     ]
    },
    {
     "name": "stderr",
     "output_type": "stream",
     "text": [
      " 30%|██▉       | 1601/5352 [03:42<08:24,  7.43it/s]"
     ]
    },
    {
     "name": "stdout",
     "output_type": "stream",
     "text": [
      "{'FullBody': {'All': 99.87619018554688, 'LowerStretching': 98.17994689941406, 'UpperStretching': 101.4306640625, 'Reacting': 103.47779846191406, 'Gesticuling': 95.23592376708984, 'Gaming': 111.12676239013672, 'Walking': 94.83456420898438, 'Patting': 106.38680267333984, 'Talking': 84.81283569335938, 'Greeting': 81.8651351928711}, 'UpperBody': {'All': 70.9734878540039, 'LowerStretching': 55.49028015136719, 'UpperStretching': 78.13743591308594, 'Reacting': 75.19989013671875, 'Gesticuling': 67.64064025878906, 'Gaming': 69.60057067871094, 'Walking': 60.02695846557617, 'Patting': 70.4713363647461, 'Talking': 61.19308090209961, 'Greeting': 58.117156982421875}, 'LowerBody': {'All': 128.77890014648438, 'LowerStretching': 140.86961364746094, 'UpperStretching': 124.72390747070312, 'Reacting': 131.75570678710938, 'Gesticuling': 122.83121490478516, 'Gaming': 152.6529541015625, 'Walking': 129.64215087890625, 'Patting': 142.30224609375, 'Talking': 108.43260192871094, 'Greeting': 105.61312103271484}}\n"
     ]
    },
    {
     "name": "stderr",
     "output_type": "stream",
     "text": [
      " 34%|███▎      | 1800/5352 [04:09<07:50,  7.55it/s]"
     ]
    },
    {
     "name": "stdout",
     "output_type": "stream",
     "text": [
      "{'FullBody': {'All': 99.8772201538086, 'LowerStretching': 98.21900177001953, 'UpperStretching': 101.33515167236328, 'Reacting': 103.27346801757812, 'Gesticuling': 95.6950912475586, 'Gaming': 111.58899688720703, 'Walking': 95.07389831542969, 'Patting': 107.39773559570312, 'Talking': 85.25120544433594, 'Greeting': 81.27314758300781}, 'UpperBody': {'All': 71.0499496459961, 'LowerStretching': 55.5167236328125, 'UpperStretching': 78.22823333740234, 'Reacting': 75.4017562866211, 'Gesticuling': 68.33517456054688, 'Gaming': 69.5396728515625, 'Walking': 59.99802780151367, 'Patting': 71.16915893554688, 'Talking': 61.76696014404297, 'Greeting': 57.63276672363281}, 'LowerBody': {'All': 128.70449829101562, 'LowerStretching': 140.92129516601562, 'UpperStretching': 124.44208526611328, 'Reacting': 131.14517211914062, 'Gesticuling': 123.0550308227539, 'Gaming': 153.63832092285156, 'Walking': 130.14976501464844, 'Patting': 143.62631225585938, 'Talking': 108.73543548583984, 'Greeting': 104.91352081298828}}\n"
     ]
    },
    {
     "name": "stderr",
     "output_type": "stream",
     "text": [
      " 37%|███▋      | 2001/5352 [04:36<07:28,  7.48it/s]"
     ]
    },
    {
     "name": "stdout",
     "output_type": "stream",
     "text": [
      "{'FullBody': {'All': 99.87687683105469, 'LowerStretching': 98.26187133789062, 'UpperStretching': 101.31201171875, 'Reacting': 104.32282257080078, 'Gesticuling': 95.75113677978516, 'Gaming': 111.87418365478516, 'Walking': 95.01290130615234, 'Patting': 106.06976318359375, 'Talking': 84.9531021118164, 'Greeting': 81.2123031616211}, 'UpperBody': {'All': 71.06696319580078, 'LowerStretching': 55.55589294433594, 'UpperStretching': 78.2227554321289, 'Reacting': 76.4517822265625, 'Gesticuling': 68.4893569946289, 'Gaming': 69.37310028076172, 'Walking': 59.90824508666992, 'Patting': 70.39810943603516, 'Talking': 61.50197982788086, 'Greeting': 57.554988861083984}, 'LowerBody': {'All': 128.6868133544922, 'LowerStretching': 140.9678497314453, 'UpperStretching': 124.40126037597656, 'Reacting': 132.19386291503906, 'Gesticuling': 123.01290130615234, 'Gaming': 154.375244140625, 'Walking': 130.1175537109375, 'Patting': 141.74142456054688, 'Talking': 108.40422058105469, 'Greeting': 104.86962127685547}}\n"
     ]
    },
    {
     "name": "stderr",
     "output_type": "stream",
     "text": [
      " 41%|████      | 2201/5352 [05:03<06:59,  7.50it/s]"
     ]
    },
    {
     "name": "stdout",
     "output_type": "stream",
     "text": [
      "{'FullBody': {'All': 99.96857452392578, 'LowerStretching': 98.41697692871094, 'UpperStretching': 101.36730194091797, 'Reacting': 104.80804443359375, 'Gesticuling': 96.037109375, 'Gaming': 112.01907348632812, 'Walking': 94.94532012939453, 'Patting': 106.16202545166016, 'Talking': 85.04449462890625, 'Greeting': 81.33709716796875}, 'UpperBody': {'All': 71.1374282836914, 'LowerStretching': 55.53876876831055, 'UpperStretching': 78.25959777832031, 'Reacting': 76.75102996826172, 'Gesticuling': 68.64930725097656, 'Gaming': 69.48753356933594, 'Walking': 59.90812683105469, 'Patting': 70.647216796875, 'Talking': 62.01083755493164, 'Greeting': 58.06492233276367}, 'LowerBody': {'All': 128.79974365234375, 'LowerStretching': 141.2952117919922, 'UpperStretching': 124.47499084472656, 'Reacting': 132.86505126953125, 'Gesticuling': 123.4249038696289, 'Gaming': 154.55064392089844, 'Walking': 129.9824981689453, 'Patting': 141.67684936523438, 'Talking': 108.07814025878906, 'Greeting': 104.6092758178711}}\n"
     ]
    },
    {
     "name": "stderr",
     "output_type": "stream",
     "text": [
      " 45%|████▍     | 2400/5352 [05:30<06:32,  7.52it/s]"
     ]
    },
    {
     "name": "stdout",
     "output_type": "stream",
     "text": [
      "{'FullBody': {'All': 99.96802520751953, 'LowerStretching': 98.56037902832031, 'UpperStretching': 101.34660339355469, 'Reacting': 104.66313934326172, 'Gesticuling': 96.39217376708984, 'Gaming': 112.03430938720703, 'Walking': 94.82097625732422, 'Patting': 105.80682373046875, 'Talking': 84.90687561035156, 'Greeting': 81.36013793945312}, 'UpperBody': {'All': 71.12503814697266, 'LowerStretching': 55.57255172729492, 'UpperStretching': 78.2104263305664, 'Reacting': 76.90518951416016, 'Gesticuling': 69.36327362060547, 'Gaming': 69.44770812988281, 'Walking': 59.8430061340332, 'Patting': 70.31808471679688, 'Talking': 61.71733474731445, 'Greeting': 57.87358474731445}, 'LowerBody': {'All': 128.81103515625, 'LowerStretching': 141.5482177734375, 'UpperStretching': 124.48277282714844, 'Reacting': 132.42108154296875, 'Gesticuling': 123.42106628417969, 'Gaming': 154.62091064453125, 'Walking': 129.7989501953125, 'Patting': 141.29554748535156, 'Talking': 108.09642028808594, 'Greeting': 104.84671020507812}}\n"
     ]
    },
    {
     "name": "stderr",
     "output_type": "stream",
     "text": [
      " 49%|████▊     | 2601/5352 [05:57<06:12,  7.39it/s]"
     ]
    },
    {
     "name": "stdout",
     "output_type": "stream",
     "text": [
      "{'FullBody': {'All': 99.95338439941406, 'LowerStretching': 98.55030059814453, 'UpperStretching': 101.32667541503906, 'Reacting': 104.44810485839844, 'Gesticuling': 96.81674194335938, 'Gaming': 111.75296020507812, 'Walking': 94.85360717773438, 'Patting': 105.44908905029297, 'Talking': 85.03446197509766, 'Greeting': 81.272705078125}, 'UpperBody': {'All': 71.13902282714844, 'LowerStretching': 55.59979248046875, 'UpperStretching': 78.20510864257812, 'Reacting': 76.73635864257812, 'Gesticuling': 69.81483459472656, 'Gaming': 69.33943176269531, 'Walking': 59.955291748046875, 'Patting': 70.1562728881836, 'Talking': 61.370174407958984, 'Greeting': 57.64218521118164}, 'LowerBody': {'All': 128.76776123046875, 'LowerStretching': 141.5008087158203, 'UpperStretching': 124.44824981689453, 'Reacting': 132.1598663330078, 'Gesticuling': 123.81866455078125, 'Gaming': 154.16648864746094, 'Walking': 129.75192260742188, 'Patting': 140.7418975830078, 'Talking': 108.69873809814453, 'Greeting': 104.90321350097656}}\n"
     ]
    },
    {
     "name": "stderr",
     "output_type": "stream",
     "text": [
      " 52%|█████▏    | 2801/5352 [06:24<05:39,  7.51it/s]"
     ]
    },
    {
     "name": "stdout",
     "output_type": "stream",
     "text": [
      "{'FullBody': {'All': 99.89300537109375, 'LowerStretching': 98.46089172363281, 'UpperStretching': 101.28290557861328, 'Reacting': 104.39894104003906, 'Gesticuling': 96.86011505126953, 'Gaming': 112.33814239501953, 'Walking': 94.67408752441406, 'Patting': 104.91763305664062, 'Talking': 84.88935852050781, 'Greeting': 81.5451431274414}, 'UpperBody': {'All': 71.1168212890625, 'LowerStretching': 55.546688079833984, 'UpperStretching': 78.19233703613281, 'Reacting': 76.68919372558594, 'Gesticuling': 69.8358383178711, 'Gaming': 69.66963958740234, 'Walking': 59.94416427612305, 'Patting': 69.76680755615234, 'Talking': 61.28831481933594, 'Greeting': 57.83023452758789}, 'LowerBody': {'All': 128.669189453125, 'LowerStretching': 141.37509155273438, 'UpperStretching': 124.37348937988281, 'Reacting': 132.10870361328125, 'Gesticuling': 123.88439178466797, 'Gaming': 155.0066375732422, 'Walking': 129.4040069580078, 'Patting': 140.06846618652344, 'Talking': 108.49041748046875, 'Greeting': 105.26004791259766}}\n"
     ]
    },
    {
     "name": "stderr",
     "output_type": "stream",
     "text": [
      " 56%|█████▌    | 3000/5352 [06:51<05:24,  7.24it/s]"
     ]
    },
    {
     "name": "stdout",
     "output_type": "stream",
     "text": [
      "{'FullBody': {'All': 99.77787780761719, 'LowerStretching': 98.34072875976562, 'UpperStretching': 101.12904357910156, 'Reacting': 104.44254302978516, 'Gesticuling': 96.96232604980469, 'Gaming': 112.22864532470703, 'Walking': 94.7701187133789, 'Patting': 104.27018737792969, 'Talking': 84.93865203857422, 'Greeting': 81.12570190429688}, 'UpperBody': {'All': 71.02643585205078, 'LowerStretching': 55.484474182128906, 'UpperStretching': 78.08895111083984, 'Reacting': 76.40776824951172, 'Gesticuling': 69.96441650390625, 'Gaming': 69.6250991821289, 'Walking': 59.91570281982422, 'Patting': 69.3508529663086, 'Talking': 61.02571487426758, 'Greeting': 57.567054748535156}, 'LowerBody': {'All': 128.52932739257812, 'LowerStretching': 141.19700622558594, 'UpperStretching': 124.16915130615234, 'Reacting': 132.47731018066406, 'Gesticuling': 123.96024322509766, 'Gaming': 154.8321990966797, 'Walking': 129.62454223632812, 'Patting': 139.18951416015625, 'Talking': 108.85160064697266, 'Greeting': 104.68433380126953}}\n"
     ]
    },
    {
     "name": "stderr",
     "output_type": "stream",
     "text": [
      " 60%|█████▉    | 3201/5352 [07:18<05:09,  6.96it/s]"
     ]
    },
    {
     "name": "stdout",
     "output_type": "stream",
     "text": [
      "{'FullBody': {'All': 99.76348876953125, 'LowerStretching': 98.3160400390625, 'UpperStretching': 101.15806579589844, 'Reacting': 104.26136779785156, 'Gesticuling': 96.77684020996094, 'Gaming': 112.12394714355469, 'Walking': 94.62200164794922, 'Patting': 104.32913970947266, 'Talking': 84.7615737915039, 'Greeting': 81.11834716796875}, 'UpperBody': {'All': 71.01397705078125, 'LowerStretching': 55.45803451538086, 'UpperStretching': 78.11791229248047, 'Reacting': 76.43565368652344, 'Gesticuling': 69.72457122802734, 'Gaming': 69.68849182128906, 'Walking': 59.76762390136719, 'Patting': 69.35798645019531, 'Talking': 60.966331481933594, 'Greeting': 57.52117919921875}, 'LowerBody': {'All': 128.5130157470703, 'LowerStretching': 141.17404174804688, 'UpperStretching': 124.19823455810547, 'Reacting': 132.0870819091797, 'Gesticuling': 123.82911682128906, 'Gaming': 154.55941772460938, 'Walking': 129.4763641357422, 'Patting': 139.30027770996094, 'Talking': 108.55681610107422, 'Greeting': 104.71553039550781}}\n"
     ]
    },
    {
     "name": "stderr",
     "output_type": "stream",
     "text": [
      " 64%|██████▎   | 3401/5352 [07:45<04:22,  7.44it/s]"
     ]
    },
    {
     "name": "stdout",
     "output_type": "stream",
     "text": [
      "{'FullBody': {'All': 99.78881072998047, 'LowerStretching': 98.2808609008789, 'UpperStretching': 101.223388671875, 'Reacting': 104.44921875, 'Gesticuling': 96.77233123779297, 'Gaming': 112.53076171875, 'Walking': 94.53482818603516, 'Patting': 104.25263977050781, 'Talking': 84.63495635986328, 'Greeting': 80.99626922607422}, 'UpperBody': {'All': 71.0096206665039, 'LowerStretching': 55.49098205566406, 'UpperStretching': 78.11323547363281, 'Reacting': 76.61967468261719, 'Gesticuling': 69.85845947265625, 'Gaming': 69.74390411376953, 'Walking': 59.695220947265625, 'Patting': 69.26850891113281, 'Talking': 60.88741683959961, 'Greeting': 57.493900299072266}, 'LowerBody': {'All': 128.56802368164062, 'LowerStretching': 141.0707550048828, 'UpperStretching': 124.33355712890625, 'Reacting': 132.27874755859375, 'Gesticuling': 123.68619537353516, 'Gaming': 155.317626953125, 'Walking': 129.37445068359375, 'Patting': 139.2367706298828, 'Talking': 108.38250732421875, 'Greeting': 104.4986343383789}}\n"
     ]
    },
    {
     "name": "stderr",
     "output_type": "stream",
     "text": [
      " 67%|██████▋   | 3601/5352 [08:12<04:04,  7.17it/s]"
     ]
    },
    {
     "name": "stdout",
     "output_type": "stream",
     "text": [
      "{'FullBody': {'All': 99.80122375488281, 'LowerStretching': 98.22563934326172, 'UpperStretching': 101.26654815673828, 'Reacting': 104.52865600585938, 'Gesticuling': 96.65306854248047, 'Gaming': 112.53064727783203, 'Walking': 94.53889465332031, 'Patting': 104.12129211425781, 'Talking': 84.74817657470703, 'Greeting': 81.01832580566406}, 'UpperBody': {'All': 71.01126098632812, 'LowerStretching': 55.503448486328125, 'UpperStretching': 78.13300323486328, 'Reacting': 76.52925109863281, 'Gesticuling': 69.61599731445312, 'Gaming': 69.99779510498047, 'Walking': 59.68391036987305, 'Patting': 69.19731903076172, 'Talking': 60.92490768432617, 'Greeting': 57.953956604003906}, 'LowerBody': {'All': 128.59120178222656, 'LowerStretching': 140.94784545898438, 'UpperStretching': 124.40007781982422, 'Reacting': 132.52806091308594, 'Gesticuling': 123.69013214111328, 'Gaming': 155.0635223388672, 'Walking': 129.39385986328125, 'Patting': 139.04525756835938, 'Talking': 108.57142639160156, 'Greeting': 104.08271026611328}}\n"
     ]
    },
    {
     "name": "stderr",
     "output_type": "stream",
     "text": [
      " 71%|███████   | 3801/5352 [08:40<03:39,  7.06it/s]"
     ]
    },
    {
     "name": "stdout",
     "output_type": "stream",
     "text": [
      "{'FullBody': {'All': 99.73429107666016, 'LowerStretching': 98.23682403564453, 'UpperStretching': 101.19000244140625, 'Reacting': 104.16357421875, 'Gesticuling': 96.78911590576172, 'Gaming': 111.89896392822266, 'Walking': 94.51466369628906, 'Patting': 104.25497436523438, 'Talking': 84.4704818725586, 'Greeting': 80.50621032714844}, 'UpperBody': {'All': 70.99750518798828, 'LowerStretching': 55.52431106567383, 'UpperStretching': 78.0954818725586, 'Reacting': 76.44346618652344, 'Gesticuling': 69.65812683105469, 'Gaming': 69.87844848632812, 'Walking': 59.72549057006836, 'Patting': 69.39366149902344, 'Talking': 60.57364273071289, 'Greeting': 57.46500015258789}, 'LowerBody': {'All': 128.47108459472656, 'LowerStretching': 140.94935607910156, 'UpperStretching': 124.28451538085938, 'Reacting': 131.88368225097656, 'Gesticuling': 123.92008972167969, 'Gaming': 153.91946411132812, 'Walking': 129.3038330078125, 'Patting': 139.11630249023438, 'Talking': 108.36731719970703, 'Greeting': 103.54741668701172}}\n"
     ]
    },
    {
     "name": "stderr",
     "output_type": "stream",
     "text": [
      " 75%|███████▍  | 4001/5352 [09:07<03:07,  7.20it/s]"
     ]
    },
    {
     "name": "stdout",
     "output_type": "stream",
     "text": [
      "{'FullBody': {'All': 99.72972106933594, 'LowerStretching': 98.19745635986328, 'UpperStretching': 101.22589874267578, 'Reacting': 103.9664306640625, 'Gesticuling': 96.55847930908203, 'Gaming': 111.78604888916016, 'Walking': 94.50611877441406, 'Patting': 104.65513610839844, 'Talking': 84.19239807128906, 'Greeting': 80.54147338867188}, 'UpperBody': {'All': 70.95552825927734, 'LowerStretching': 55.47595977783203, 'UpperStretching': 78.1004409790039, 'Reacting': 76.23655700683594, 'Gesticuling': 69.57176208496094, 'Gaming': 69.9679183959961, 'Walking': 59.6671257019043, 'Patting': 69.36493682861328, 'Talking': 60.31930923461914, 'Greeting': 57.689781188964844}, 'LowerBody': {'All': 128.50392150878906, 'LowerStretching': 140.91896057128906, 'UpperStretching': 124.35134887695312, 'Reacting': 131.69630432128906, 'Gesticuling': 123.54517364501953, 'Gaming': 153.6041717529297, 'Walking': 129.34512329101562, 'Patting': 139.94532775878906, 'Talking': 108.06548309326172, 'Greeting': 103.39315795898438}}\n"
     ]
    },
    {
     "name": "stderr",
     "output_type": "stream",
     "text": [
      " 78%|███████▊  | 4200/5352 [09:34<02:50,  6.78it/s]"
     ]
    },
    {
     "name": "stdout",
     "output_type": "stream",
     "text": [
      "{'FullBody': {'All': 99.67942810058594, 'LowerStretching': 98.0960693359375, 'UpperStretching': 101.20377349853516, 'Reacting': 104.19913482666016, 'Gesticuling': 96.73973083496094, 'Gaming': 111.59867095947266, 'Walking': 94.3805160522461, 'Patting': 104.17603302001953, 'Talking': 84.02330017089844, 'Greeting': 80.47439575195312}, 'UpperBody': {'All': 70.94647216796875, 'LowerStretching': 55.42552947998047, 'UpperStretching': 78.08122253417969, 'Reacting': 76.49803161621094, 'Gesticuling': 69.82315826416016, 'Gaming': 69.75980377197266, 'Walking': 59.70643615722656, 'Patting': 69.22117614746094, 'Talking': 60.250919342041016, 'Greeting': 57.75779342651367}, 'LowerBody': {'All': 128.4123992919922, 'LowerStretching': 140.76661682128906, 'UpperStretching': 124.3263168334961, 'Reacting': 131.9002227783203, 'Gesticuling': 123.65631103515625, 'Gaming': 153.43753051757812, 'Walking': 129.0546112060547, 'Patting': 139.13088989257812, 'Talking': 107.7956771850586, 'Greeting': 103.19099426269531}}\n"
     ]
    },
    {
     "name": "stderr",
     "output_type": "stream",
     "text": [
      " 82%|████████▏ | 4401/5352 [10:01<02:17,  6.90it/s]"
     ]
    },
    {
     "name": "stdout",
     "output_type": "stream",
     "text": [
      "{'FullBody': {'All': 99.63516998291016, 'LowerStretching': 98.17412567138672, 'UpperStretching': 101.1358642578125, 'Reacting': 104.41655731201172, 'Gesticuling': 96.7212142944336, 'Gaming': 111.3736572265625, 'Walking': 94.25941467285156, 'Patting': 103.95030975341797, 'Talking': 84.02702331542969, 'Greeting': 80.43510437011719}, 'UpperBody': {'All': 70.9145278930664, 'LowerStretching': 55.429325103759766, 'UpperStretching': 78.05323791503906, 'Reacting': 76.498291015625, 'Gesticuling': 69.7466049194336, 'Gaming': 69.55457305908203, 'Walking': 59.69173812866211, 'Patting': 68.97554779052734, 'Talking': 60.19573974609375, 'Greeting': 57.576499938964844}, 'LowerBody': {'All': 128.3558349609375, 'LowerStretching': 140.91893005371094, 'UpperStretching': 124.21849060058594, 'Reacting': 132.33482360839844, 'Gesticuling': 123.69580841064453, 'Gaming': 153.19273376464844, 'Walking': 128.8271026611328, 'Patting': 138.92507934570312, 'Talking': 107.85831451416016, 'Greeting': 103.293701171875}}\n"
     ]
    },
    {
     "name": "stderr",
     "output_type": "stream",
     "text": [
      " 86%|████████▌ | 4601/5352 [10:28<01:45,  7.12it/s]"
     ]
    },
    {
     "name": "stdout",
     "output_type": "stream",
     "text": [
      "{'FullBody': {'All': 99.63448333740234, 'LowerStretching': 98.11587524414062, 'UpperStretching': 101.0726547241211, 'Reacting': 104.58712005615234, 'Gesticuling': 96.80411529541016, 'Gaming': 111.6247329711914, 'Walking': 94.46640014648438, 'Patting': 104.3279037475586, 'Talking': 84.0300521850586, 'Greeting': 80.57212829589844}, 'UpperBody': {'All': 70.88749694824219, 'LowerStretching': 55.31937789916992, 'UpperStretching': 78.01412200927734, 'Reacting': 76.61798095703125, 'Gesticuling': 69.62762451171875, 'Gaming': 69.6119613647461, 'Walking': 59.746131896972656, 'Patting': 69.25841522216797, 'Talking': 60.10579299926758, 'Greeting': 57.57609176635742}, 'LowerBody': {'All': 128.3814697265625, 'LowerStretching': 140.91236877441406, 'UpperStretching': 124.1312026977539, 'Reacting': 132.55625915527344, 'Gesticuling': 123.98060607910156, 'Gaming': 153.63751220703125, 'Walking': 129.18666076660156, 'Patting': 139.39739990234375, 'Talking': 107.95429229736328, 'Greeting': 103.56817626953125}}\n"
     ]
    },
    {
     "name": "stderr",
     "output_type": "stream",
     "text": [
      " 90%|████████▉ | 4800/5352 [10:55<01:19,  6.91it/s]"
     ]
    },
    {
     "name": "stdout",
     "output_type": "stream",
     "text": [
      "{'FullBody': {'All': 99.67625427246094, 'LowerStretching': 98.05425262451172, 'UpperStretching': 101.15335845947266, 'Reacting': 104.74269104003906, 'Gesticuling': 96.64413452148438, 'Gaming': 111.96607971191406, 'Walking': 94.41880798339844, 'Patting': 104.4612808227539, 'Talking': 84.1211166381836, 'Greeting': 80.39966583251953}, 'UpperBody': {'All': 70.92544555664062, 'LowerStretching': 55.36233901977539, 'UpperStretching': 78.07479095458984, 'Reacting': 76.6709976196289, 'Gesticuling': 69.46398162841797, 'Gaming': 69.93846893310547, 'Walking': 59.736488342285156, 'Patting': 69.31920623779297, 'Talking': 60.11733627319336, 'Greeting': 57.288883209228516}, 'LowerBody': {'All': 128.4270782470703, 'LowerStretching': 140.7461700439453, 'UpperStretching': 124.23192596435547, 'Reacting': 132.81436157226562, 'Gesticuling': 123.82429504394531, 'Gaming': 153.9936981201172, 'Walking': 129.1011199951172, 'Patting': 139.60337829589844, 'Talking': 108.1249008178711, 'Greeting': 103.51042938232422}}\n"
     ]
    },
    {
     "name": "stderr",
     "output_type": "stream",
     "text": [
      " 93%|█████████▎| 5001/5352 [11:23<00:51,  6.78it/s]"
     ]
    },
    {
     "name": "stdout",
     "output_type": "stream",
     "text": [
      "{'FullBody': {'All': 99.65381622314453, 'LowerStretching': 97.99994659423828, 'UpperStretching': 101.13440704345703, 'Reacting': 104.8342514038086, 'Gesticuling': 96.8458251953125, 'Gaming': 111.85025787353516, 'Walking': 94.36906433105469, 'Patting': 104.5508041381836, 'Talking': 84.22428894042969, 'Greeting': 80.3211441040039}, 'UpperBody': {'All': 70.90302276611328, 'LowerStretching': 55.331809997558594, 'UpperStretching': 78.04937744140625, 'Reacting': 76.72698974609375, 'Gesticuling': 69.57174682617188, 'Gaming': 69.8060302734375, 'Walking': 59.76571273803711, 'Patting': 69.44786834716797, 'Talking': 60.295127868652344, 'Greeting': 57.20134353637695}, 'LowerBody': {'All': 128.40463256835938, 'LowerStretching': 140.6680908203125, 'UpperStretching': 124.21942901611328, 'Reacting': 132.94151306152344, 'Gesticuling': 124.1198959350586, 'Gaming': 153.89447021484375, 'Walking': 128.97239685058594, 'Patting': 139.6537322998047, 'Talking': 108.15345764160156, 'Greeting': 103.4409408569336}}\n"
     ]
    },
    {
     "name": "stderr",
     "output_type": "stream",
     "text": [
      " 97%|█████████▋| 5201/5352 [11:50<00:21,  7.13it/s]"
     ]
    },
    {
     "name": "stdout",
     "output_type": "stream",
     "text": [
      "{'FullBody': {'All': 99.64777374267578, 'LowerStretching': 97.85369873046875, 'UpperStretching': 101.17537689208984, 'Reacting': 104.68849182128906, 'Gesticuling': 96.79916381835938, 'Gaming': 111.6464614868164, 'Walking': 94.35505676269531, 'Patting': 104.6407699584961, 'Talking': 84.65106201171875, 'Greeting': 80.60952758789062}, 'UpperBody': {'All': 70.91878509521484, 'LowerStretching': 55.28188705444336, 'UpperStretching': 78.08668518066406, 'Reacting': 76.59078216552734, 'Gesticuling': 69.61071014404297, 'Gaming': 69.81702423095703, 'Walking': 59.76285171508789, 'Patting': 69.53556060791016, 'Talking': 60.60879898071289, 'Greeting': 57.525123596191406}, 'LowerBody': {'All': 128.37677001953125, 'LowerStretching': 140.42550659179688, 'UpperStretching': 124.26406860351562, 'Reacting': 132.7862091064453, 'Gesticuling': 123.98762512207031, 'Gaming': 153.4758758544922, 'Walking': 128.94725036621094, 'Patting': 139.7459716796875, 'Talking': 108.69332885742188, 'Greeting': 103.69393157958984}}\n"
     ]
    },
    {
     "name": "stderr",
     "output_type": "stream",
     "text": [
      "100%|██████████| 5352/5352 [12:10<00:00,  7.33it/s]\n",
      "\u001b[94m07:51:25 \u001b[92m[INFO]\u001b[94m Main\u001b[0m: Saving evaluation results...\n",
      "\u001b[94m07:51:25 \u001b[92m[INFO]\u001b[94m Main\u001b[0m: Done.\n",
      "\u001b[94m07:51:25 \u001b[92m[INFO]\u001b[94m Main\u001b[0m: Starting demo...\n",
      "  0%|          | 0/5352 [00:00<?, ?it/s]/opt/conda/lib/python3.10/site-packages/torchvision/transforms/transforms.py:329: UserWarning: Argument 'interpolation' of type int is deprecated since 0.13 and will be removed in 0.15. Please use InterpolationMode enum.\n",
      "  warnings.warn(\n",
      "/opt/conda/lib/python3.10/site-packages/torchvision/transforms/transforms.py:329: UserWarning: Argument 'interpolation' of type int is deprecated since 0.13 and will be removed in 0.15. Please use InterpolationMode enum.\n",
      "  warnings.warn(\n",
      "/opt/conda/lib/python3.10/site-packages/torchvision/transforms/transforms.py:329: UserWarning: Argument 'interpolation' of type int is deprecated since 0.13 and will be removed in 0.15. Please use InterpolationMode enum.\n",
      "  warnings.warn(\n",
      "/opt/conda/lib/python3.10/site-packages/torchvision/transforms/transforms.py:329: UserWarning: Argument 'interpolation' of type int is deprecated since 0.13 and will be removed in 0.15. Please use InterpolationMode enum.\n",
      "  warnings.warn(\n",
      "/opt/conda/lib/python3.10/site-packages/torchvision/transforms/transforms.py:329: UserWarning: Argument 'interpolation' of type int is deprecated since 0.13 and will be removed in 0.15. Please use InterpolationMode enum.\n",
      "  warnings.warn(\n",
      "/opt/conda/lib/python3.10/site-packages/torchvision/transforms/transforms.py:329: UserWarning: Argument 'interpolation' of type int is deprecated since 0.13 and will be removed in 0.15. Please use InterpolationMode enum.\n",
      "  warnings.warn(\n",
      "/opt/conda/lib/python3.10/site-packages/torchvision/transforms/transforms.py:329: UserWarning: Argument 'interpolation' of type int is deprecated since 0.13 and will be removed in 0.15. Please use InterpolationMode enum.\n",
      "  warnings.warn(\n",
      "/opt/conda/lib/python3.10/site-packages/torchvision/transforms/transforms.py:329: UserWarning: Argument 'interpolation' of type int is deprecated since 0.13 and will be removed in 0.15. Please use InterpolationMode enum.\n",
      "  warnings.warn(\n",
      "/opt/conda/lib/python3.10/site-packages/torchvision/transforms/transforms.py:329: UserWarning: Argument 'interpolation' of type int is deprecated since 0.13 and will be removed in 0.15. Please use InterpolationMode enum.\n",
      "  warnings.warn(\n",
      "/opt/conda/lib/python3.10/site-packages/torchvision/transforms/transforms.py:329: UserWarning: Argument 'interpolation' of type int is deprecated since 0.13 and will be removed in 0.15. Please use InterpolationMode enum.\n",
      "  warnings.warn(\n",
      "/opt/conda/lib/python3.10/site-packages/torchvision/transforms/transforms.py:329: UserWarning: Argument 'interpolation' of type int is deprecated since 0.13 and will be removed in 0.15. Please use InterpolationMode enum.\n",
      "  warnings.warn(\n",
      "/opt/conda/lib/python3.10/site-packages/torchvision/transforms/transforms.py:329: UserWarning: Argument 'interpolation' of type int is deprecated since 0.13 and will be removed in 0.15. Please use InterpolationMode enum.\n",
      "  warnings.warn(\n",
      "/opt/conda/lib/python3.10/site-packages/torchvision/transforms/transforms.py:329: UserWarning: Argument 'interpolation' of type int is deprecated since 0.13 and will be removed in 0.15. Please use InterpolationMode enum.\n",
      "  warnings.warn(\n",
      "/opt/conda/lib/python3.10/site-packages/torchvision/transforms/transforms.py:329: UserWarning: Argument 'interpolation' of type int is deprecated since 0.13 and will be removed in 0.15. Please use InterpolationMode enum.\n",
      "  warnings.warn(\n",
      "/opt/conda/lib/python3.10/site-packages/torchvision/transforms/transforms.py:329: UserWarning: Argument 'interpolation' of type int is deprecated since 0.13 and will be removed in 0.15. Please use InterpolationMode enum.\n",
      "  warnings.warn(\n",
      "/opt/conda/lib/python3.10/site-packages/torchvision/transforms/transforms.py:329: UserWarning: Argument 'interpolation' of type int is deprecated since 0.13 and will be removed in 0.15. Please use InterpolationMode enum.\n",
      "  warnings.warn(\n",
      "/opt/conda/lib/python3.10/site-packages/torchvision/transforms/transforms.py:329: UserWarning: Argument 'interpolation' of type int is deprecated since 0.13 and will be removed in 0.15. Please use InterpolationMode enum.\n",
      "  warnings.warn(\n",
      "/opt/conda/lib/python3.10/site-packages/torchvision/transforms/transforms.py:329: UserWarning: Argument 'interpolation' of type int is deprecated since 0.13 and will be removed in 0.15. Please use InterpolationMode enum.\n",
      "  warnings.warn(\n",
      "/opt/conda/lib/python3.10/site-packages/torchvision/transforms/transforms.py:329: UserWarning: Argument 'interpolation' of type int is deprecated since 0.13 and will be removed in 0.15. Please use InterpolationMode enum.\n",
      "  warnings.warn(\n",
      "/opt/conda/lib/python3.10/site-packages/torchvision/transforms/transforms.py:329: UserWarning: Argument 'interpolation' of type int is deprecated since 0.13 and will be removed in 0.15. Please use InterpolationMode enum.\n",
      "  warnings.warn(\n",
      "/opt/conda/lib/python3.10/site-packages/torchvision/transforms/transforms.py:329: UserWarning: Argument 'interpolation' of type int is deprecated since 0.13 and will be removed in 0.15. Please use InterpolationMode enum.\n",
      "  warnings.warn(\n",
      "/opt/conda/lib/python3.10/site-packages/torchvision/transforms/transforms.py:329: UserWarning: Argument 'interpolation' of type int is deprecated since 0.13 and will be removed in 0.15. Please use InterpolationMode enum.\n",
      "  warnings.warn(\n",
      "/opt/conda/lib/python3.10/site-packages/torchvision/transforms/transforms.py:329: UserWarning: Argument 'interpolation' of type int is deprecated since 0.13 and will be removed in 0.15. Please use InterpolationMode enum.\n",
      "  warnings.warn(\n",
      "/opt/conda/lib/python3.10/site-packages/torchvision/transforms/transforms.py:329: UserWarning: Argument 'interpolation' of type int is deprecated since 0.13 and will be removed in 0.15. Please use InterpolationMode enum.\n",
      "  warnings.warn(\n",
      "  4%|▍         | 201/5352 [00:33<11:41,  7.34it/s]"
     ]
    },
    {
     "name": "stdout",
     "output_type": "stream",
     "text": [
      "{'FullBody': {'All': 98.7913589477539, 'LowerStretching': 99.11318969726562, 'UpperStretching': 101.87003326416016, 'Walking': 94.6382827758789, 'Talking': 71.11688995361328, 'Reacting': 90.89933013916016, 'Patting': 85.31602478027344, 'Gaming': 108.44114685058594, 'Gesticuling': 85.91952514648438, 'Greeting': 74.2724838256836}, 'UpperBody': {'All': 71.95112609863281, 'LowerStretching': 59.193458557128906, 'UpperStretching': 79.81839752197266, 'Walking': 60.329124450683594, 'Talking': 57.34440231323242, 'Reacting': 73.56241607666016, 'Patting': 60.484066009521484, 'Gaming': 66.93916320800781, 'Gesticuling': 61.811336517333984, 'Greeting': 57.137115478515625}, 'LowerBody': {'All': 125.631591796875, 'LowerStretching': 139.03294372558594, 'UpperStretching': 123.92168426513672, 'Walking': 128.9474334716797, 'Talking': 84.88937377929688, 'Reacting': 108.23624420166016, 'Patting': 110.14797973632812, 'Gaming': 149.94309997558594, 'Gesticuling': 110.02771759033203, 'Greeting': 91.40784454345703}}\n"
     ]
    },
    {
     "name": "stderr",
     "output_type": "stream",
     "text": [
      "  7%|▋         | 401/5352 [01:00<10:43,  7.69it/s]"
     ]
    },
    {
     "name": "stdout",
     "output_type": "stream",
     "text": [
      "{'FullBody': {'All': 98.28096008300781, 'LowerStretching': 99.51724243164062, 'UpperStretching': 100.3599624633789, 'Walking': 95.76817321777344, 'Talking': 71.98658752441406, 'Reacting': 92.37017822265625, 'Patting': 91.58837890625, 'Gaming': 104.51070404052734, 'Gesticuling': 84.71459197998047, 'Greeting': 77.26586151123047}, 'UpperBody': {'All': 71.52947998046875, 'LowerStretching': 58.82160568237305, 'UpperStretching': 78.9011001586914, 'Walking': 60.976966857910156, 'Talking': 58.21868133544922, 'Reacting': 72.1186294555664, 'Patting': 63.2294921875, 'Gaming': 64.19672393798828, 'Gesticuling': 62.685569763183594, 'Greeting': 59.692466735839844}, 'LowerBody': {'All': 125.03242492675781, 'LowerStretching': 140.212890625, 'UpperStretching': 121.8188247680664, 'Walking': 130.55935668945312, 'Talking': 85.7544937133789, 'Reacting': 112.62171936035156, 'Patting': 119.94727325439453, 'Gaming': 144.8246612548828, 'Gesticuling': 106.74360656738281, 'Greeting': 94.83924865722656}}\n"
     ]
    },
    {
     "name": "stderr",
     "output_type": "stream",
     "text": [
      " 11%|█         | 601/5352 [01:27<10:04,  7.85it/s]"
     ]
    },
    {
     "name": "stdout",
     "output_type": "stream",
     "text": [
      "{'FullBody': {'All': 98.12237548828125, 'LowerStretching': 98.50130462646484, 'UpperStretching': 100.611083984375, 'Walking': 95.20075988769531, 'Talking': 73.016357421875, 'Reacting': 93.00347137451172, 'Patting': 90.85673522949219, 'Gaming': 100.82737731933594, 'Gesticuling': 83.1734390258789, 'Greeting': 76.59135437011719}, 'UpperBody': {'All': 71.36994934082031, 'LowerStretching': 58.49051284790039, 'UpperStretching': 78.80664825439453, 'Walking': 60.513729095458984, 'Talking': 57.223045349121094, 'Reacting': 72.3827896118164, 'Patting': 62.957210540771484, 'Gaming': 62.0723991394043, 'Gesticuling': 62.76718521118164, 'Greeting': 59.94415283203125}, 'LowerBody': {'All': 124.87481689453125, 'LowerStretching': 138.5120849609375, 'UpperStretching': 122.41552734375, 'Walking': 129.88780212402344, 'Talking': 88.80966186523438, 'Reacting': 113.6241455078125, 'Patting': 118.75627136230469, 'Gaming': 139.5823516845703, 'Gesticuling': 103.57969665527344, 'Greeting': 93.23856353759766}}\n"
     ]
    },
    {
     "name": "stderr",
     "output_type": "stream",
     "text": [
      " 15%|█▍        | 801/5352 [01:54<10:37,  7.14it/s]"
     ]
    },
    {
     "name": "stdout",
     "output_type": "stream",
     "text": [
      "{'FullBody': {'All': 98.31427001953125, 'LowerStretching': 98.72293090820312, 'UpperStretching': 100.7581558227539, 'Walking': 96.10791015625, 'Talking': 74.34147644042969, 'Reacting': 93.24637603759766, 'Patting': 91.69313049316406, 'Gaming': 96.76380157470703, 'Gesticuling': 81.66546630859375, 'Greeting': 76.53761291503906}, 'UpperBody': {'All': 71.41366577148438, 'LowerStretching': 58.41140365600586, 'UpperStretching': 78.7981185913086, 'Walking': 60.75312042236328, 'Talking': 58.465633392333984, 'Reacting': 73.69601440429688, 'Patting': 64.43196105957031, 'Gaming': 60.38821792602539, 'Gesticuling': 61.9199333190918, 'Greeting': 59.11314010620117}, 'LowerBody': {'All': 125.21488189697266, 'LowerStretching': 139.0344696044922, 'UpperStretching': 122.71820068359375, 'Walking': 131.46267700195312, 'Talking': 90.21732330322266, 'Reacting': 112.7967300415039, 'Patting': 118.95429992675781, 'Gaming': 133.1393585205078, 'Gesticuling': 101.41099548339844, 'Greeting': 93.96208190917969}}\n"
     ]
    },
    {
     "name": "stderr",
     "output_type": "stream",
     "text": [
      " 19%|█▊        | 1001/5352 [02:21<09:36,  7.55it/s]"
     ]
    },
    {
     "name": "stdout",
     "output_type": "stream",
     "text": [
      "{'FullBody': {'All': 98.44928741455078, 'LowerStretching': 99.40769958496094, 'UpperStretching': 100.721923828125, 'Walking': 95.96560668945312, 'Talking': 73.86123657226562, 'Reacting': 93.75492858886719, 'Patting': 92.36528778076172, 'Gaming': 96.48582458496094, 'Gesticuling': 81.81824493408203, 'Greeting': 76.52372741699219}, 'UpperBody': {'All': 71.15396881103516, 'LowerStretching': 58.56489944458008, 'UpperStretching': 78.35547637939453, 'Walking': 60.583187103271484, 'Talking': 57.68921661376953, 'Reacting': 74.26245880126953, 'Patting': 64.42353057861328, 'Gaming': 59.93393325805664, 'Gesticuling': 61.633399963378906, 'Greeting': 58.95482635498047}, 'LowerBody': {'All': 125.74461364746094, 'LowerStretching': 140.25048828125, 'UpperStretching': 123.08837127685547, 'Walking': 131.3480224609375, 'Talking': 90.03324890136719, 'Reacting': 113.24742889404297, 'Patting': 120.30706024169922, 'Gaming': 133.03770446777344, 'Gesticuling': 102.0030746459961, 'Greeting': 94.09263610839844}}\n"
     ]
    },
    {
     "name": "stderr",
     "output_type": "stream",
     "text": [
      " 22%|██▏       | 1201/5352 [02:48<08:58,  7.71it/s]"
     ]
    },
    {
     "name": "stdout",
     "output_type": "stream",
     "text": [
      "{'FullBody': {'All': 98.43347930908203, 'LowerStretching': 99.98281860351562, 'UpperStretching': 100.54947662353516, 'Walking': 95.83738708496094, 'Talking': 74.46636199951172, 'Reacting': 93.04891204833984, 'Patting': 92.62320709228516, 'Gaming': 97.04971313476562, 'Gesticuling': 82.00041961669922, 'Greeting': 76.54315948486328}, 'UpperBody': {'All': 70.99047088623047, 'LowerStretching': 58.81916427612305, 'UpperStretching': 78.06130981445312, 'Walking': 60.539608001708984, 'Talking': 57.981361389160156, 'Reacting': 73.63895416259766, 'Patting': 64.50895690917969, 'Gaming': 59.89873504638672, 'Gesticuling': 61.81184005737305, 'Greeting': 59.2657585144043}, 'LowerBody': {'All': 125.87651062011719, 'LowerStretching': 141.146484375, 'UpperStretching': 123.03765106201172, 'Walking': 131.13516235351562, 'Talking': 90.95136260986328, 'Reacting': 112.4588851928711, 'Patting': 120.73745727539062, 'Gaming': 134.20068359375, 'Gesticuling': 102.18899536132812, 'Greeting': 93.8205795288086}}\n"
     ]
    },
    {
     "name": "stderr",
     "output_type": "stream",
     "text": [
      " 26%|██▌       | 1401/5352 [03:15<09:06,  7.23it/s]"
     ]
    },
    {
     "name": "stdout",
     "output_type": "stream",
     "text": [
      "{'FullBody': {'All': 98.341552734375, 'LowerStretching': 100.01979064941406, 'UpperStretching': 100.37818908691406, 'Walking': 95.97158813476562, 'Talking': 72.89399719238281, 'Reacting': 93.65526580810547, 'Patting': 93.12067413330078, 'Gaming': 96.55072784423828, 'Gesticuling': 81.63212585449219, 'Greeting': 76.35038757324219}, 'UpperBody': {'All': 71.00601196289062, 'LowerStretching': 58.980220794677734, 'UpperStretching': 78.04385375976562, 'Walking': 60.69107437133789, 'Talking': 56.825408935546875, 'Reacting': 73.9149398803711, 'Patting': 64.75531005859375, 'Gaming': 60.2088623046875, 'Gesticuling': 61.455078125, 'Greeting': 59.02641296386719}, 'LowerBody': {'All': 125.6771011352539, 'LowerStretching': 141.05935668945312, 'UpperStretching': 122.7125244140625, 'Walking': 131.25210571289062, 'Talking': 88.96260070800781, 'Reacting': 113.39559936523438, 'Patting': 121.48601531982422, 'Gaming': 132.89259338378906, 'Gesticuling': 101.8091812133789, 'Greeting': 93.67436981201172}}\n"
     ]
    },
    {
     "name": "stderr",
     "output_type": "stream",
     "text": [
      " 30%|██▉       | 1601/5352 [03:42<08:18,  7.53it/s]"
     ]
    },
    {
     "name": "stdout",
     "output_type": "stream",
     "text": [
      "{'FullBody': {'All': 98.3989486694336, 'LowerStretching': 99.96847534179688, 'UpperStretching': 100.55261993408203, 'Walking': 95.894775390625, 'Talking': 73.47369384765625, 'Reacting': 92.65190887451172, 'Patting': 91.8105239868164, 'Gaming': 97.61026000976562, 'Gesticuling': 81.81382751464844, 'Greeting': 75.64988708496094}, 'UpperBody': {'All': 71.08287811279297, 'LowerStretching': 58.87887954711914, 'UpperStretching': 78.13728332519531, 'Walking': 60.847137451171875, 'Talking': 57.21525573730469, 'Reacting': 73.1786880493164, 'Patting': 64.1401596069336, 'Gaming': 61.183067321777344, 'Gesticuling': 61.87932205200195, 'Greeting': 58.408363342285156}, 'LowerBody': {'All': 125.71502685546875, 'LowerStretching': 141.05807495117188, 'UpperStretching': 122.96795654296875, 'Walking': 130.9424285888672, 'Talking': 89.73211669921875, 'Reacting': 112.12511444091797, 'Patting': 119.48088073730469, 'Gaming': 134.0374755859375, 'Gesticuling': 101.74833679199219, 'Greeting': 92.89141082763672}}\n"
     ]
    },
    {
     "name": "stderr",
     "output_type": "stream",
     "text": [
      " 34%|███▎      | 1801/5352 [04:09<07:49,  7.56it/s]"
     ]
    },
    {
     "name": "stdout",
     "output_type": "stream",
     "text": [
      "{'FullBody': {'All': 98.3677749633789, 'LowerStretching': 100.09713745117188, 'UpperStretching': 100.54743957519531, 'Walking': 95.76033020019531, 'Talking': 73.1043930053711, 'Reacting': 93.20674133300781, 'Patting': 90.82949829101562, 'Gaming': 96.78585815429688, 'Gesticuling': 81.3128662109375, 'Greeting': 75.34869384765625}, 'UpperBody': {'All': 71.07801055908203, 'LowerStretching': 58.828102111816406, 'UpperStretching': 78.207763671875, 'Walking': 60.770179748535156, 'Talking': 56.67366027832031, 'Reacting': 73.44295501708984, 'Patting': 63.25547790527344, 'Gaming': 60.769813537597656, 'Gesticuling': 61.65373229980469, 'Greeting': 58.452056884765625}, 'LowerBody': {'All': 125.65754699707031, 'LowerStretching': 141.36618041992188, 'UpperStretching': 122.88711547851562, 'Walking': 130.75048828125, 'Talking': 89.5351333618164, 'Reacting': 112.97052001953125, 'Patting': 118.40353393554688, 'Gaming': 132.80191040039062, 'Gesticuling': 100.97200775146484, 'Greeting': 92.24534606933594}}\n"
     ]
    },
    {
     "name": "stderr",
     "output_type": "stream",
     "text": [
      " 37%|███▋      | 2001/5352 [04:36<07:45,  7.20it/s]"
     ]
    },
    {
     "name": "stdout",
     "output_type": "stream",
     "text": [
      "{'FullBody': {'All': 98.32244110107422, 'LowerStretching': 100.08087921142578, 'UpperStretching': 100.41429901123047, 'Walking': 96.03443145751953, 'Talking': 73.04578399658203, 'Reacting': 92.97740173339844, 'Patting': 91.37934112548828, 'Gaming': 96.21855163574219, 'Gesticuling': 81.65111541748047, 'Greeting': 75.33392333984375}, 'UpperBody': {'All': 70.97731018066406, 'LowerStretching': 58.69306945800781, 'UpperStretching': 78.04307556152344, 'Walking': 60.883663177490234, 'Talking': 56.71359634399414, 'Reacting': 73.58058166503906, 'Patting': 63.63266372680664, 'Gaming': 60.560630798339844, 'Gesticuling': 61.4232063293457, 'Greeting': 58.26272964477539}, 'LowerBody': {'All': 125.66756439208984, 'LowerStretching': 141.46868896484375, 'UpperStretching': 122.7855224609375, 'Walking': 131.1851806640625, 'Talking': 89.37796783447266, 'Reacting': 112.37421417236328, 'Patting': 119.12602233886719, 'Gaming': 131.87648010253906, 'Gesticuling': 101.87902069091797, 'Greeting': 92.40511322021484}}\n"
     ]
    },
    {
     "name": "stderr",
     "output_type": "stream",
     "text": [
      " 41%|████      | 2201/5352 [05:03<07:07,  7.37it/s]"
     ]
    },
    {
     "name": "stdout",
     "output_type": "stream",
     "text": [
      "{'FullBody': {'All': 98.4601058959961, 'LowerStretching': 100.32147216796875, 'UpperStretching': 100.55516052246094, 'Walking': 96.04133605957031, 'Talking': 73.0518569946289, 'Reacting': 93.35698699951172, 'Patting': 91.58019256591797, 'Gaming': 96.4718246459961, 'Gesticuling': 82.01102447509766, 'Greeting': 75.07305145263672}, 'UpperBody': {'All': 71.0655517578125, 'LowerStretching': 58.79681396484375, 'UpperStretching': 78.1019287109375, 'Walking': 60.81552505493164, 'Talking': 57.2370491027832, 'Reacting': 74.20000457763672, 'Patting': 63.79146957397461, 'Gaming': 60.43547058105469, 'Gesticuling': 61.774166107177734, 'Greeting': 57.61941909790039}, 'LowerBody': {'All': 125.85467529296875, 'LowerStretching': 141.8461456298828, 'UpperStretching': 123.00839233398438, 'Walking': 131.26715087890625, 'Talking': 88.86668395996094, 'Reacting': 112.51396942138672, 'Patting': 119.36892700195312, 'Gaming': 132.50819396972656, 'Gesticuling': 102.24789428710938, 'Greeting': 92.52667236328125}}\n"
     ]
    },
    {
     "name": "stderr",
     "output_type": "stream",
     "text": [
      " 45%|████▍     | 2401/5352 [05:30<06:35,  7.45it/s]"
     ]
    },
    {
     "name": "stdout",
     "output_type": "stream",
     "text": [
      "{'FullBody': {'All': 98.48051452636719, 'LowerStretching': 100.43517303466797, 'UpperStretching': 100.56227111816406, 'Walking': 96.07211303710938, 'Talking': 72.96987915039062, 'Reacting': 93.26355743408203, 'Patting': 91.63568115234375, 'Gaming': 95.7038803100586, 'Gesticuling': 82.2362289428711, 'Greeting': 75.55838012695312}, 'UpperBody': {'All': 71.07019805908203, 'LowerStretching': 58.84823989868164, 'UpperStretching': 78.09284973144531, 'Walking': 60.79892349243164, 'Talking': 57.27028274536133, 'Reacting': 74.14492797851562, 'Patting': 64.08662414550781, 'Gaming': 60.36063003540039, 'Gesticuling': 61.76521682739258, 'Greeting': 57.88152313232422}, 'LowerBody': {'All': 125.89083099365234, 'LowerStretching': 142.02210998535156, 'UpperStretching': 123.03168487548828, 'Walking': 131.3452911376953, 'Talking': 88.66947937011719, 'Reacting': 112.38218688964844, 'Patting': 119.18474578857422, 'Gaming': 131.04713439941406, 'Gesticuling': 102.7072525024414, 'Greeting': 93.23523712158203}}\n"
     ]
    },
    {
     "name": "stderr",
     "output_type": "stream",
     "text": [
      " 49%|████▊     | 2601/5352 [05:58<06:38,  6.91it/s]"
     ]
    },
    {
     "name": "stdout",
     "output_type": "stream",
     "text": [
      "{'FullBody': {'All': 98.44403076171875, 'LowerStretching': 100.58472442626953, 'UpperStretching': 100.4654312133789, 'Walking': 95.98961639404297, 'Talking': 73.20700073242188, 'Reacting': 92.75318908691406, 'Patting': 91.75927734375, 'Gaming': 96.39906311035156, 'Gesticuling': 82.29705047607422, 'Greeting': 75.69024658203125}, 'UpperBody': {'All': 71.05619812011719, 'LowerStretching': 58.92518615722656, 'UpperStretching': 78.03455352783203, 'Walking': 60.85835266113281, 'Talking': 57.1890754699707, 'Reacting': 73.80704498291016, 'Patting': 64.22490692138672, 'Gaming': 60.761051177978516, 'Gesticuling': 61.671844482421875, 'Greeting': 58.012306213378906}, 'LowerBody': {'All': 125.83187866210938, 'LowerStretching': 142.24424743652344, 'UpperStretching': 122.89630126953125, 'Walking': 131.12088012695312, 'Talking': 89.22492980957031, 'Reacting': 111.6993408203125, 'Patting': 119.29364776611328, 'Gaming': 132.0370635986328, 'Gesticuling': 102.92225646972656, 'Greeting': 93.3681869506836}}\n"
     ]
    },
    {
     "name": "stderr",
     "output_type": "stream",
     "text": [
      " 52%|█████▏    | 2801/5352 [06:25<05:48,  7.32it/s]"
     ]
    },
    {
     "name": "stdout",
     "output_type": "stream",
     "text": [
      "{'FullBody': {'All': 98.35670471191406, 'LowerStretching': 100.71466064453125, 'UpperStretching': 100.31058502197266, 'Walking': 95.97391510009766, 'Talking': 73.39918518066406, 'Reacting': 92.59784698486328, 'Patting': 91.39507293701172, 'Gaming': 96.23560333251953, 'Gesticuling': 82.39571380615234, 'Greeting': 75.71729278564453}, 'UpperBody': {'All': 71.00175476074219, 'LowerStretching': 58.94426727294922, 'UpperStretching': 77.93404388427734, 'Walking': 60.84856414794922, 'Talking': 57.35116958618164, 'Reacting': 73.72208404541016, 'Patting': 63.95500183105469, 'Gaming': 60.91853713989258, 'Gesticuling': 61.87284851074219, 'Greeting': 58.1523551940918}, 'LowerBody': {'All': 125.71167755126953, 'LowerStretching': 142.4850616455078, 'UpperStretching': 122.68711853027344, 'Walking': 131.09925842285156, 'Talking': 89.44721984863281, 'Reacting': 111.47361755371094, 'Patting': 118.83516693115234, 'Gaming': 131.5526580810547, 'Gesticuling': 102.9185791015625, 'Greeting': 93.28223419189453}}\n"
     ]
    },
    {
     "name": "stderr",
     "output_type": "stream",
     "text": [
      " 56%|█████▌    | 3001/5352 [06:52<05:20,  7.33it/s]"
     ]
    },
    {
     "name": "stdout",
     "output_type": "stream",
     "text": [
      "{'FullBody': {'All': 98.3916015625, 'LowerStretching': 100.82125091552734, 'UpperStretching': 100.3828125, 'Walking': 95.69200897216797, 'Talking': 73.29853057861328, 'Reacting': 93.0422592163086, 'Patting': 90.83756256103516, 'Gaming': 96.32186889648438, 'Gesticuling': 82.3843994140625, 'Greeting': 75.96883392333984}, 'UpperBody': {'All': 71.04320526123047, 'LowerStretching': 58.983306884765625, 'UpperStretching': 78.0236587524414, 'Walking': 60.67742156982422, 'Talking': 57.49496841430664, 'Reacting': 73.90504455566406, 'Patting': 63.69517135620117, 'Gaming': 61.032501220703125, 'Gesticuling': 61.96731948852539, 'Greeting': 58.34672164916992}, 'LowerBody': {'All': 125.73999786376953, 'LowerStretching': 142.65919494628906, 'UpperStretching': 122.74195861816406, 'Walking': 130.70660400390625, 'Talking': 89.10209655761719, 'Reacting': 112.17947387695312, 'Patting': 117.97998046875, 'Gaming': 131.6112518310547, 'Gesticuling': 102.80146789550781, 'Greeting': 93.59095764160156}}\n"
     ]
    },
    {
     "name": "stderr",
     "output_type": "stream",
     "text": [
      " 60%|█████▉    | 3201/5352 [07:19<05:09,  6.95it/s]"
     ]
    },
    {
     "name": "stdout",
     "output_type": "stream",
     "text": [
      "{'FullBody': {'All': 98.4289779663086, 'LowerStretching': 100.91294860839844, 'UpperStretching': 100.44140625, 'Walking': 95.5713119506836, 'Talking': 74.24769592285156, 'Reacting': 92.71778869628906, 'Patting': 91.64871215820312, 'Gaming': 95.92352294921875, 'Gesticuling': 82.23094940185547, 'Greeting': 75.85747528076172}, 'UpperBody': {'All': 70.99756622314453, 'LowerStretching': 58.97581481933594, 'UpperStretching': 77.97337341308594, 'Walking': 60.63444519042969, 'Talking': 57.560462951660156, 'Reacting': 73.60529327392578, 'Patting': 64.32286834716797, 'Gaming': 61.09083938598633, 'Gesticuling': 61.74283981323242, 'Greeting': 58.33546829223633}, 'LowerBody': {'All': 125.86038970947266, 'LowerStretching': 142.85008239746094, 'UpperStretching': 122.90943145751953, 'Walking': 130.50819396972656, 'Talking': 90.9349365234375, 'Reacting': 111.83028411865234, 'Patting': 118.97455596923828, 'Gaming': 130.75619506835938, 'Gesticuling': 102.71903228759766, 'Greeting': 93.37947845458984}}\n"
     ]
    },
    {
     "name": "stderr",
     "output_type": "stream",
     "text": [
      " 64%|██████▎   | 3401/5352 [07:46<04:39,  6.97it/s]"
     ]
    },
    {
     "name": "stdout",
     "output_type": "stream",
     "text": [
      "{'FullBody': {'All': 98.37139129638672, 'LowerStretching': 100.80770111083984, 'UpperStretching': 100.37891387939453, 'Walking': 95.58839416503906, 'Talking': 74.10308074951172, 'Reacting': 92.70895385742188, 'Patting': 91.33338165283203, 'Gaming': 95.89866638183594, 'Gesticuling': 82.32452392578125, 'Greeting': 75.77731323242188}, 'UpperBody': {'All': 70.93537139892578, 'LowerStretching': 58.91593933105469, 'UpperStretching': 77.8886947631836, 'Walking': 60.610023498535156, 'Talking': 57.489036560058594, 'Reacting': 73.6815414428711, 'Patting': 63.94471740722656, 'Gaming': 61.276145935058594, 'Gesticuling': 61.93307113647461, 'Greeting': 58.197349548339844}, 'LowerBody': {'All': 125.80741119384766, 'LowerStretching': 142.699462890625, 'UpperStretching': 122.8691177368164, 'Walking': 130.56675720214844, 'Talking': 90.71711730957031, 'Reacting': 111.73636627197266, 'Patting': 118.7220458984375, 'Gaming': 130.5211944580078, 'Gesticuling': 102.71595764160156, 'Greeting': 93.3572769165039}}\n"
     ]
    },
    {
     "name": "stderr",
     "output_type": "stream",
     "text": [
      " 67%|██████▋   | 3601/5352 [08:13<04:02,  7.22it/s]"
     ]
    },
    {
     "name": "stdout",
     "output_type": "stream",
     "text": [
      "{'FullBody': {'All': 98.31813049316406, 'LowerStretching': 100.77918243408203, 'UpperStretching': 100.34590148925781, 'Walking': 95.59021759033203, 'Talking': 73.85480499267578, 'Reacting': 92.58368682861328, 'Patting': 91.28123474121094, 'Gaming': 95.81327056884766, 'Gesticuling': 82.20062255859375, 'Greeting': 75.32774353027344}, 'UpperBody': {'All': 70.932861328125, 'LowerStretching': 58.87848663330078, 'UpperStretching': 77.91305541992188, 'Walking': 60.623817443847656, 'Talking': 57.21381378173828, 'Reacting': 73.76591491699219, 'Patting': 63.86841583251953, 'Gaming': 61.152099609375, 'Gesticuling': 61.95066452026367, 'Greeting': 57.67995071411133}, 'LowerBody': {'All': 125.7033920288086, 'LowerStretching': 142.67987060546875, 'UpperStretching': 122.77873992919922, 'Walking': 130.55661010742188, 'Talking': 90.49580383300781, 'Reacting': 111.40145111083984, 'Patting': 118.69404602050781, 'Gaming': 130.4744415283203, 'Gesticuling': 102.45057678222656, 'Greeting': 92.97552490234375}}\n"
     ]
    },
    {
     "name": "stderr",
     "output_type": "stream",
     "text": [
      " 71%|███████   | 3801/5352 [08:41<03:46,  6.85it/s]"
     ]
    },
    {
     "name": "stdout",
     "output_type": "stream",
     "text": [
      "{'FullBody': {'All': 98.3900375366211, 'LowerStretching': 100.78116607666016, 'UpperStretching': 100.42437744140625, 'Walking': 95.63400268554688, 'Talking': 73.76470947265625, 'Reacting': 92.44308471679688, 'Patting': 92.31226348876953, 'Gaming': 96.08512115478516, 'Gesticuling': 82.17694854736328, 'Greeting': 75.44922637939453}, 'UpperBody': {'All': 70.99813842773438, 'LowerStretching': 58.89768600463867, 'UpperStretching': 77.96156311035156, 'Walking': 60.65181350708008, 'Talking': 57.16461944580078, 'Reacting': 73.60918426513672, 'Patting': 64.96080780029297, 'Gaming': 61.31498718261719, 'Gesticuling': 61.84710693359375, 'Greeting': 57.67374038696289}, 'LowerBody': {'All': 125.78192138671875, 'LowerStretching': 142.66465759277344, 'UpperStretching': 122.8871841430664, 'Walking': 130.61618041992188, 'Talking': 90.36479187011719, 'Reacting': 111.2770004272461, 'Patting': 119.66374206542969, 'Gaming': 130.85525512695312, 'Gesticuling': 102.50679016113281, 'Greeting': 93.22471618652344}}\n"
     ]
    },
    {
     "name": "stderr",
     "output_type": "stream",
     "text": [
      " 75%|███████▍  | 4001/5352 [09:08<03:10,  7.09it/s]"
     ]
    },
    {
     "name": "stdout",
     "output_type": "stream",
     "text": [
      "{'FullBody': {'All': 98.40261840820312, 'LowerStretching': 100.8062744140625, 'UpperStretching': 100.43065643310547, 'Walking': 95.56822967529297, 'Talking': 73.78244018554688, 'Reacting': 92.35199737548828, 'Patting': 92.95255279541016, 'Gaming': 96.02669525146484, 'Gesticuling': 82.1954116821289, 'Greeting': 75.42544555664062}, 'UpperBody': {'All': 70.99474334716797, 'LowerStretching': 58.879493713378906, 'UpperStretching': 77.94914245605469, 'Walking': 60.705020904541016, 'Talking': 57.12303924560547, 'Reacting': 73.62437438964844, 'Patting': 65.0261001586914, 'Gaming': 61.288028717041016, 'Gesticuling': 61.806434631347656, 'Greeting': 57.51918411254883}, 'LowerBody': {'All': 125.81048583984375, 'LowerStretching': 142.7330322265625, 'UpperStretching': 122.91217041015625, 'Walking': 130.4314422607422, 'Talking': 90.44184112548828, 'Reacting': 111.0796127319336, 'Patting': 120.87899017333984, 'Gaming': 130.76536560058594, 'Gesticuling': 102.58439636230469, 'Greeting': 93.33169555664062}}\n"
     ]
    },
    {
     "name": "stderr",
     "output_type": "stream",
     "text": [
      " 78%|███████▊  | 4201/5352 [09:35<02:38,  7.25it/s]"
     ]
    },
    {
     "name": "stdout",
     "output_type": "stream",
     "text": [
      "{'FullBody': {'All': 98.36673736572266, 'LowerStretching': 100.88097381591797, 'UpperStretching': 100.3860092163086, 'Walking': 95.37161254882812, 'Talking': 74.41926574707031, 'Reacting': 92.30607604980469, 'Patting': 92.56385040283203, 'Gaming': 95.87200164794922, 'Gesticuling': 82.2154769897461, 'Greeting': 75.54182434082031}, 'UpperBody': {'All': 70.97463989257812, 'LowerStretching': 58.94179153442383, 'UpperStretching': 77.91885375976562, 'Walking': 60.66508483886719, 'Talking': 57.40688705444336, 'Reacting': 73.52838134765625, 'Patting': 64.84844970703125, 'Gaming': 61.189056396484375, 'Gesticuling': 61.843441009521484, 'Greeting': 57.53559112548828}, 'LowerBody': {'All': 125.75882720947266, 'LowerStretching': 142.82017517089844, 'UpperStretching': 122.8531723022461, 'Walking': 130.078125, 'Talking': 91.43164825439453, 'Reacting': 111.08377075195312, 'Patting': 120.27925109863281, 'Gaming': 130.554931640625, 'Gesticuling': 102.5875015258789, 'Greeting': 93.54804229736328}}\n"
     ]
    },
    {
     "name": "stderr",
     "output_type": "stream",
     "text": [
      " 82%|████████▏ | 4401/5352 [10:02<02:25,  6.54it/s]"
     ]
    },
    {
     "name": "stdout",
     "output_type": "stream",
     "text": [
      "{'FullBody': {'All': 98.3897705078125, 'LowerStretching': 100.78788757324219, 'UpperStretching': 100.45563507080078, 'Walking': 95.27242279052734, 'Talking': 74.58444213867188, 'Reacting': 92.40336608886719, 'Patting': 92.65756225585938, 'Gaming': 95.76453399658203, 'Gesticuling': 82.16770935058594, 'Greeting': 75.63246154785156}, 'UpperBody': {'All': 70.98454284667969, 'LowerStretching': 58.96101379394531, 'UpperStretching': 77.93409729003906, 'Walking': 60.61912155151367, 'Talking': 57.44765090942383, 'Reacting': 73.42997741699219, 'Patting': 64.99169158935547, 'Gaming': 61.11318588256836, 'Gesticuling': 61.75191116333008, 'Greeting': 57.58169937133789}, 'LowerBody': {'All': 125.79499816894531, 'LowerStretching': 142.61477661132812, 'UpperStretching': 122.9771728515625, 'Walking': 129.92572021484375, 'Talking': 91.72122955322266, 'Reacting': 111.37677001953125, 'Patting': 120.32343292236328, 'Gaming': 130.41587829589844, 'Gesticuling': 102.58351135253906, 'Greeting': 93.68323516845703}}\n"
     ]
    },
    {
     "name": "stderr",
     "output_type": "stream",
     "text": [
      " 86%|████████▌ | 4601/5352 [10:30<01:44,  7.21it/s]"
     ]
    },
    {
     "name": "stdout",
     "output_type": "stream",
     "text": [
      "{'FullBody': {'All': 98.41266632080078, 'LowerStretching': 100.7535400390625, 'UpperStretching': 100.4996337890625, 'Walking': 95.21061706542969, 'Talking': 74.49410247802734, 'Reacting': 92.73796844482422, 'Patting': 92.65727233886719, 'Gaming': 95.77518463134766, 'Gesticuling': 82.28823852539062, 'Greeting': 75.6593017578125}, 'UpperBody': {'All': 70.97541809082031, 'LowerStretching': 58.937156677246094, 'UpperStretching': 77.93516540527344, 'Walking': 60.61357116699219, 'Talking': 57.464813232421875, 'Reacting': 73.44124603271484, 'Patting': 65.01738739013672, 'Gaming': 60.9921989440918, 'Gesticuling': 61.83918762207031, 'Greeting': 57.57350540161133}, 'LowerBody': {'All': 125.84990692138672, 'LowerStretching': 142.56993103027344, 'UpperStretching': 123.06410217285156, 'Walking': 129.8076629638672, 'Talking': 91.52339172363281, 'Reacting': 112.03468322753906, 'Patting': 120.29716491699219, 'Gaming': 130.55816650390625, 'Gesticuling': 102.73727416992188, 'Greeting': 93.74510192871094}}\n"
     ]
    },
    {
     "name": "stderr",
     "output_type": "stream",
     "text": [
      " 90%|████████▉ | 4801/5352 [10:57<01:19,  6.94it/s]"
     ]
    },
    {
     "name": "stdout",
     "output_type": "stream",
     "text": [
      "{'FullBody': {'All': 98.39183807373047, 'LowerStretching': 100.67888641357422, 'UpperStretching': 100.50006866455078, 'Walking': 95.19059753417969, 'Talking': 74.45758056640625, 'Reacting': 92.68183135986328, 'Patting': 92.13172149658203, 'Gaming': 95.98934173583984, 'Gesticuling': 82.29508972167969, 'Greeting': 75.54558563232422}, 'UpperBody': {'All': 70.97173309326172, 'LowerStretching': 58.906044006347656, 'UpperStretching': 77.93492889404297, 'Walking': 60.66378402709961, 'Talking': 57.42616271972656, 'Reacting': 73.38115692138672, 'Patting': 64.7710952758789, 'Gaming': 61.02326583862305, 'Gesticuling': 61.71098709106445, 'Greeting': 57.44232177734375}, 'LowerBody': {'All': 125.81194305419922, 'LowerStretching': 142.4517364501953, 'UpperStretching': 123.06521606445312, 'Walking': 129.71742248535156, 'Talking': 91.48899841308594, 'Reacting': 111.98249816894531, 'Patting': 119.49234771728516, 'Gaming': 130.95541381835938, 'Gesticuling': 102.87918853759766, 'Greeting': 93.64884948730469}}\n"
     ]
    },
    {
     "name": "stderr",
     "output_type": "stream",
     "text": [
      " 93%|█████████▎| 5001/5352 [11:24<00:53,  6.52it/s]"
     ]
    },
    {
     "name": "stdout",
     "output_type": "stream",
     "text": [
      "{'FullBody': {'All': 98.39240264892578, 'LowerStretching': 100.62454986572266, 'UpperStretching': 100.50663757324219, 'Walking': 95.1097183227539, 'Talking': 74.6236343383789, 'Reacting': 92.7338638305664, 'Patting': 92.4638671875, 'Gaming': 96.2044906616211, 'Gesticuling': 82.29998779296875, 'Greeting': 75.29207611083984}, 'UpperBody': {'All': 70.9887466430664, 'LowerStretching': 58.88532638549805, 'UpperStretching': 77.96759796142578, 'Walking': 60.57782745361328, 'Talking': 57.54139709472656, 'Reacting': 73.3371810913086, 'Patting': 65.09782409667969, 'Gaming': 61.2036247253418, 'Gesticuling': 61.819854736328125, 'Greeting': 57.188690185546875}, 'LowerBody': {'All': 125.79607391357422, 'LowerStretching': 142.36376953125, 'UpperStretching': 123.0456771850586, 'Walking': 129.6416015625, 'Talking': 91.70587158203125, 'Reacting': 112.13053131103516, 'Patting': 119.82991790771484, 'Gaming': 131.20535278320312, 'Gesticuling': 102.78012084960938, 'Greeting': 93.39546966552734}}\n"
     ]
    },
    {
     "name": "stderr",
     "output_type": "stream",
     "text": [
      " 97%|█████████▋| 5201/5352 [11:51<00:21,  7.03it/s]"
     ]
    },
    {
     "name": "stdout",
     "output_type": "stream",
     "text": [
      "{'FullBody': {'All': 98.39066314697266, 'LowerStretching': 100.62747192382812, 'UpperStretching': 100.48818969726562, 'Walking': 95.06739807128906, 'Talking': 74.83049011230469, 'Reacting': 93.0158462524414, 'Patting': 92.72527313232422, 'Gaming': 96.2812271118164, 'Gesticuling': 82.15355682373047, 'Greeting': 75.13093566894531}, 'UpperBody': {'All': 70.98924255371094, 'LowerStretching': 58.914398193359375, 'UpperStretching': 77.943603515625, 'Walking': 60.55126190185547, 'Talking': 57.613990783691406, 'Reacting': 73.44255065917969, 'Patting': 65.34740447998047, 'Gaming': 61.30183029174805, 'Gesticuling': 61.66714096069336, 'Greeting': 56.912078857421875}, 'LowerBody': {'All': 125.79206848144531, 'LowerStretching': 142.34054565429688, 'UpperStretching': 123.03276824951172, 'Walking': 129.5835418701172, 'Talking': 92.0469970703125, 'Reacting': 112.5891342163086, 'Patting': 120.10313415527344, 'Gaming': 131.2606201171875, 'Gesticuling': 102.63996124267578, 'Greeting': 93.34978485107422}}\n"
     ]
    },
    {
     "name": "stderr",
     "output_type": "stream",
     "text": [
      "100%|██████████| 5352/5352 [12:11<00:00,  7.31it/s]\n",
      "\u001b[94m08:03:39 \u001b[92m[INFO]\u001b[94m Main\u001b[0m: Saving evaluation results...\n",
      "\u001b[94m08:03:39 \u001b[92m[INFO]\u001b[94m Main\u001b[0m: Done.\n",
      "\u001b[94m08:03:39 \u001b[92m[INFO]\u001b[94m Main\u001b[0m: Starting demo...\n",
      "  0%|          | 0/5352 [00:00<?, ?it/s]/opt/conda/lib/python3.10/site-packages/torchvision/transforms/transforms.py:329: UserWarning: Argument 'interpolation' of type int is deprecated since 0.13 and will be removed in 0.15. Please use InterpolationMode enum.\n",
      "  warnings.warn(\n",
      "/opt/conda/lib/python3.10/site-packages/torchvision/transforms/transforms.py:329: UserWarning: Argument 'interpolation' of type int is deprecated since 0.13 and will be removed in 0.15. Please use InterpolationMode enum.\n",
      "  warnings.warn(\n",
      "/opt/conda/lib/python3.10/site-packages/torchvision/transforms/transforms.py:329: UserWarning: Argument 'interpolation' of type int is deprecated since 0.13 and will be removed in 0.15. Please use InterpolationMode enum.\n",
      "  warnings.warn(\n",
      "/opt/conda/lib/python3.10/site-packages/torchvision/transforms/transforms.py:329: UserWarning: Argument 'interpolation' of type int is deprecated since 0.13 and will be removed in 0.15. Please use InterpolationMode enum.\n",
      "  warnings.warn(\n",
      "/opt/conda/lib/python3.10/site-packages/torchvision/transforms/transforms.py:329: UserWarning: Argument 'interpolation' of type int is deprecated since 0.13 and will be removed in 0.15. Please use InterpolationMode enum.\n",
      "  warnings.warn(\n",
      "/opt/conda/lib/python3.10/site-packages/torchvision/transforms/transforms.py:329: UserWarning: Argument 'interpolation' of type int is deprecated since 0.13 and will be removed in 0.15. Please use InterpolationMode enum.\n",
      "  warnings.warn(\n",
      "/opt/conda/lib/python3.10/site-packages/torchvision/transforms/transforms.py:329: UserWarning: Argument 'interpolation' of type int is deprecated since 0.13 and will be removed in 0.15. Please use InterpolationMode enum.\n",
      "  warnings.warn(\n",
      "/opt/conda/lib/python3.10/site-packages/torchvision/transforms/transforms.py:329: UserWarning: Argument 'interpolation' of type int is deprecated since 0.13 and will be removed in 0.15. Please use InterpolationMode enum.\n",
      "  warnings.warn(\n",
      "/opt/conda/lib/python3.10/site-packages/torchvision/transforms/transforms.py:329: UserWarning: Argument 'interpolation' of type int is deprecated since 0.13 and will be removed in 0.15. Please use InterpolationMode enum.\n",
      "  warnings.warn(\n",
      "/opt/conda/lib/python3.10/site-packages/torchvision/transforms/transforms.py:329: UserWarning: Argument 'interpolation' of type int is deprecated since 0.13 and will be removed in 0.15. Please use InterpolationMode enum.\n",
      "  warnings.warn(\n",
      "/opt/conda/lib/python3.10/site-packages/torchvision/transforms/transforms.py:329: UserWarning: Argument 'interpolation' of type int is deprecated since 0.13 and will be removed in 0.15. Please use InterpolationMode enum.\n",
      "  warnings.warn(\n",
      "/opt/conda/lib/python3.10/site-packages/torchvision/transforms/transforms.py:329: UserWarning: Argument 'interpolation' of type int is deprecated since 0.13 and will be removed in 0.15. Please use InterpolationMode enum.\n",
      "  warnings.warn(\n",
      "/opt/conda/lib/python3.10/site-packages/torchvision/transforms/transforms.py:329: UserWarning: Argument 'interpolation' of type int is deprecated since 0.13 and will be removed in 0.15. Please use InterpolationMode enum.\n",
      "  warnings.warn(\n",
      "/opt/conda/lib/python3.10/site-packages/torchvision/transforms/transforms.py:329: UserWarning: Argument 'interpolation' of type int is deprecated since 0.13 and will be removed in 0.15. Please use InterpolationMode enum.\n",
      "  warnings.warn(\n",
      "/opt/conda/lib/python3.10/site-packages/torchvision/transforms/transforms.py:329: UserWarning: Argument 'interpolation' of type int is deprecated since 0.13 and will be removed in 0.15. Please use InterpolationMode enum.\n",
      "  warnings.warn(\n",
      "/opt/conda/lib/python3.10/site-packages/torchvision/transforms/transforms.py:329: UserWarning: Argument 'interpolation' of type int is deprecated since 0.13 and will be removed in 0.15. Please use InterpolationMode enum.\n",
      "  warnings.warn(\n",
      "/opt/conda/lib/python3.10/site-packages/torchvision/transforms/transforms.py:329: UserWarning: Argument 'interpolation' of type int is deprecated since 0.13 and will be removed in 0.15. Please use InterpolationMode enum.\n",
      "  warnings.warn(\n",
      "/opt/conda/lib/python3.10/site-packages/torchvision/transforms/transforms.py:329: UserWarning: Argument 'interpolation' of type int is deprecated since 0.13 and will be removed in 0.15. Please use InterpolationMode enum.\n",
      "  warnings.warn(\n",
      "/opt/conda/lib/python3.10/site-packages/torchvision/transforms/transforms.py:329: UserWarning: Argument 'interpolation' of type int is deprecated since 0.13 and will be removed in 0.15. Please use InterpolationMode enum.\n",
      "  warnings.warn(\n",
      "/opt/conda/lib/python3.10/site-packages/torchvision/transforms/transforms.py:329: UserWarning: Argument 'interpolation' of type int is deprecated since 0.13 and will be removed in 0.15. Please use InterpolationMode enum.\n",
      "  warnings.warn(\n",
      "/opt/conda/lib/python3.10/site-packages/torchvision/transforms/transforms.py:329: UserWarning: Argument 'interpolation' of type int is deprecated since 0.13 and will be removed in 0.15. Please use InterpolationMode enum.\n",
      "  warnings.warn(\n",
      "/opt/conda/lib/python3.10/site-packages/torchvision/transforms/transforms.py:329: UserWarning: Argument 'interpolation' of type int is deprecated since 0.13 and will be removed in 0.15. Please use InterpolationMode enum.\n",
      "  warnings.warn(\n",
      "/opt/conda/lib/python3.10/site-packages/torchvision/transforms/transforms.py:329: UserWarning: Argument 'interpolation' of type int is deprecated since 0.13 and will be removed in 0.15. Please use InterpolationMode enum.\n",
      "  warnings.warn(\n",
      "/opt/conda/lib/python3.10/site-packages/torchvision/transforms/transforms.py:329: UserWarning: Argument 'interpolation' of type int is deprecated since 0.13 and will be removed in 0.15. Please use InterpolationMode enum.\n",
      "  warnings.warn(\n",
      "  4%|▎         | 200/5352 [00:33<11:11,  7.67it/s]"
     ]
    },
    {
     "name": "stdout",
     "output_type": "stream",
     "text": [
      "{'FullBody': {'All': 133.97764587402344, 'Gesticuling': 117.31727600097656, 'Walking': 132.07752990722656, 'UpperStretching': 133.41741943359375, 'LowerStretching': 145.54136657714844, 'Greeting': 117.45501708984375, 'Talking': 103.89955139160156, 'Patting': 128.8673553466797, 'Reacting': 116.52459716796875, 'Gaming': 138.86683654785156}, 'UpperBody': {'All': 90.13790130615234, 'Gesticuling': 70.39425659179688, 'Walking': 80.27767944335938, 'UpperStretching': 97.54837799072266, 'LowerStretching': 77.96878814697266, 'Greeting': 72.15604400634766, 'Talking': 78.85102844238281, 'Patting': 97.05709075927734, 'Reacting': 79.96902465820312, 'Gaming': 76.70332336425781}, 'LowerBody': {'All': 177.8173828125, 'Gesticuling': 164.2402801513672, 'Walking': 183.87738037109375, 'UpperStretching': 169.28646850585938, 'LowerStretching': 213.11392211914062, 'Greeting': 162.7539825439453, 'Talking': 128.9480743408203, 'Patting': 160.6776123046875, 'Reacting': 153.08016967773438, 'Gaming': 201.0303955078125}}\n"
     ]
    },
    {
     "name": "stderr",
     "output_type": "stream",
     "text": [
      "  7%|▋         | 401/5352 [01:00<10:48,  7.63it/s]"
     ]
    },
    {
     "name": "stdout",
     "output_type": "stream",
     "text": [
      "{'FullBody': {'All': 133.769775390625, 'Gesticuling': 117.80426788330078, 'Walking': 132.19972229003906, 'UpperStretching': 133.40032958984375, 'LowerStretching': 145.4130096435547, 'Greeting': 120.02188110351562, 'Talking': 102.91426849365234, 'Patting': 112.0784683227539, 'Reacting': 117.78727722167969, 'Gaming': 141.04933166503906}, 'UpperBody': {'All': 90.13098907470703, 'Gesticuling': 72.97412109375, 'Walking': 81.0970230102539, 'UpperStretching': 97.7962646484375, 'LowerStretching': 77.8830337524414, 'Greeting': 77.73886108398438, 'Talking': 77.67445373535156, 'Patting': 84.56871032714844, 'Reacting': 78.32627868652344, 'Gaming': 83.57008361816406}, 'LowerBody': {'All': 177.40855407714844, 'Gesticuling': 162.63442993164062, 'Walking': 183.3024444580078, 'UpperStretching': 169.00436401367188, 'LowerStretching': 212.94300842285156, 'Greeting': 162.3048858642578, 'Talking': 128.15408325195312, 'Patting': 139.58824157714844, 'Reacting': 157.24827575683594, 'Gaming': 198.52853393554688}}\n"
     ]
    },
    {
     "name": "stderr",
     "output_type": "stream",
     "text": [
      " 11%|█         | 601/5352 [01:27<10:23,  7.63it/s]"
     ]
    },
    {
     "name": "stdout",
     "output_type": "stream",
     "text": [
      "{'FullBody': {'All': 133.44313049316406, 'Gesticuling': 118.47270965576172, 'Walking': 131.3990936279297, 'UpperStretching': 133.19371032714844, 'LowerStretching': 145.33840942382812, 'Greeting': 119.62060546875, 'Talking': 102.9109878540039, 'Patting': 110.36295318603516, 'Reacting': 114.79515838623047, 'Gaming': 139.21588134765625}, 'UpperBody': {'All': 89.46416473388672, 'Gesticuling': 73.0384521484375, 'Walking': 80.12932586669922, 'UpperStretching': 97.12197875976562, 'LowerStretching': 77.50543212890625, 'Greeting': 77.58416748046875, 'Talking': 78.26058959960938, 'Patting': 86.04549407958984, 'Reacting': 76.63689422607422, 'Gaming': 79.16712951660156}, 'LowerBody': {'All': 177.42210388183594, 'Gesticuling': 163.90695190429688, 'Walking': 182.66885375976562, 'UpperStretching': 169.2654266357422, 'LowerStretching': 213.17138671875, 'Greeting': 161.65704345703125, 'Talking': 127.56139373779297, 'Patting': 134.68043518066406, 'Reacting': 152.95339965820312, 'Gaming': 199.26467895507812}}\n"
     ]
    },
    {
     "name": "stderr",
     "output_type": "stream",
     "text": [
      " 15%|█▍        | 801/5352 [01:54<09:50,  7.71it/s]"
     ]
    },
    {
     "name": "stdout",
     "output_type": "stream",
     "text": [
      "{'FullBody': {'All': 133.9576416015625, 'Gesticuling': 120.85530853271484, 'Walking': 131.7125701904297, 'UpperStretching': 133.563232421875, 'LowerStretching': 145.9834747314453, 'Greeting': 118.70904541015625, 'Talking': 103.02838134765625, 'Patting': 112.0206298828125, 'Reacting': 116.13807678222656, 'Gaming': 141.79043579101562}, 'UpperBody': {'All': 89.591796875, 'Gesticuling': 74.53562927246094, 'Walking': 80.39510345458984, 'UpperStretching': 96.92669677734375, 'LowerStretching': 78.63204956054688, 'Greeting': 75.13944244384766, 'Talking': 77.54265594482422, 'Patting': 85.90930938720703, 'Reacting': 76.48046875, 'Gaming': 80.00540161132812}, 'LowerBody': {'All': 178.32347106933594, 'Gesticuling': 167.17498779296875, 'Walking': 183.03004455566406, 'UpperStretching': 170.1997833251953, 'LowerStretching': 213.33489990234375, 'Greeting': 162.2786865234375, 'Talking': 128.5140838623047, 'Patting': 138.1319580078125, 'Reacting': 155.7957000732422, 'Gaming': 203.57545471191406}}\n"
     ]
    },
    {
     "name": "stderr",
     "output_type": "stream",
     "text": [
      " 19%|█▊        | 1001/5352 [02:21<10:28,  6.92it/s]"
     ]
    },
    {
     "name": "stdout",
     "output_type": "stream",
     "text": [
      "{'FullBody': {'All': 133.9783477783203, 'Gesticuling': 119.889892578125, 'Walking': 132.34933471679688, 'UpperStretching': 133.67391967773438, 'LowerStretching': 145.87173461914062, 'Greeting': 117.70428466796875, 'Talking': 104.47509765625, 'Patting': 112.22041320800781, 'Reacting': 115.5549545288086, 'Gaming': 141.04087829589844}, 'UpperBody': {'All': 89.79673767089844, 'Gesticuling': 74.90158081054688, 'Walking': 80.45713806152344, 'UpperStretching': 97.1294174194336, 'LowerStretching': 78.52828979492188, 'Greeting': 75.92786407470703, 'Talking': 79.09989929199219, 'Patting': 86.26216888427734, 'Reacting': 75.77719116210938, 'Gaming': 79.71483612060547}, 'LowerBody': {'All': 178.15997314453125, 'Gesticuling': 164.87820434570312, 'Walking': 184.2415313720703, 'UpperStretching': 170.21841430664062, 'LowerStretching': 213.2151641845703, 'Greeting': 159.48072814941406, 'Talking': 129.8502960205078, 'Patting': 138.1786651611328, 'Reacting': 155.3327178955078, 'Gaming': 202.36692810058594}}\n"
     ]
    },
    {
     "name": "stderr",
     "output_type": "stream",
     "text": [
      " 22%|██▏       | 1201/5352 [02:48<09:02,  7.65it/s]"
     ]
    },
    {
     "name": "stdout",
     "output_type": "stream",
     "text": [
      "{'FullBody': {'All': 134.0475616455078, 'Gesticuling': 119.56614685058594, 'Walking': 132.5281982421875, 'UpperStretching': 133.89552307128906, 'LowerStretching': 145.42257690429688, 'Greeting': 120.4414291381836, 'Talking': 104.2028579711914, 'Patting': 110.14850616455078, 'Reacting': 115.351318359375, 'Gaming': 141.63905334472656}, 'UpperBody': {'All': 89.70314025878906, 'Gesticuling': 74.71107482910156, 'Walking': 80.45201873779297, 'UpperStretching': 97.20364379882812, 'LowerStretching': 78.39208221435547, 'Greeting': 78.1553726196289, 'Talking': 78.2805404663086, 'Patting': 84.32353210449219, 'Reacting': 74.69859313964844, 'Gaming': 80.38658905029297}, 'LowerBody': {'All': 178.39199829101562, 'Gesticuling': 164.4212188720703, 'Walking': 184.6043701171875, 'UpperStretching': 170.58740234375, 'LowerStretching': 212.4530792236328, 'Greeting': 162.7274932861328, 'Talking': 130.12518310546875, 'Patting': 135.9734649658203, 'Reacting': 156.0040283203125, 'Gaming': 202.8915252685547}}\n"
     ]
    },
    {
     "name": "stderr",
     "output_type": "stream",
     "text": [
      " 26%|██▌       | 1401/5352 [03:15<08:36,  7.65it/s]"
     ]
    },
    {
     "name": "stdout",
     "output_type": "stream",
     "text": [
      "{'FullBody': {'All': 133.9634246826172, 'Gesticuling': 120.42045593261719, 'Walking': 132.49095153808594, 'UpperStretching': 133.62123107910156, 'LowerStretching': 145.48411560058594, 'Greeting': 119.90235137939453, 'Talking': 103.36473083496094, 'Patting': 113.2350082397461, 'Reacting': 116.04784393310547, 'Gaming': 141.9183807373047}, 'UpperBody': {'All': 89.62608337402344, 'Gesticuling': 75.18998718261719, 'Walking': 80.16333770751953, 'UpperStretching': 96.97647094726562, 'LowerStretching': 78.4218521118164, 'Greeting': 77.30980682373047, 'Talking': 77.70970916748047, 'Patting': 86.36901092529297, 'Reacting': 75.00452423095703, 'Gaming': 82.24330139160156}, 'LowerBody': {'All': 178.30076599121094, 'Gesticuling': 165.6509246826172, 'Walking': 184.81857299804688, 'UpperStretching': 170.26600646972656, 'LowerStretching': 212.54640197753906, 'Greeting': 162.49490356445312, 'Talking': 129.01974487304688, 'Patting': 140.1009979248047, 'Reacting': 157.09115600585938, 'Gaming': 201.59349060058594}}\n"
     ]
    },
    {
     "name": "stderr",
     "output_type": "stream",
     "text": [
      " 30%|██▉       | 1601/5352 [03:42<08:58,  6.96it/s]"
     ]
    },
    {
     "name": "stdout",
     "output_type": "stream",
     "text": [
      "{'FullBody': {'All': 133.8375244140625, 'Gesticuling': 120.48372650146484, 'Walking': 132.458740234375, 'UpperStretching': 133.53004455566406, 'LowerStretching': 145.13824462890625, 'Greeting': 121.39598083496094, 'Talking': 103.80773162841797, 'Patting': 111.8903579711914, 'Reacting': 116.3982925415039, 'Gaming': 141.62742614746094}, 'UpperBody': {'All': 89.57638549804688, 'Gesticuling': 75.15562438964844, 'Walking': 80.14276123046875, 'UpperStretching': 96.99446868896484, 'LowerStretching': 78.21758270263672, 'Greeting': 79.22474670410156, 'Talking': 78.5265121459961, 'Patting': 85.4737319946289, 'Reacting': 75.00381469726562, 'Gaming': 81.38191986083984}, 'LowerBody': {'All': 178.0986785888672, 'Gesticuling': 165.8118438720703, 'Walking': 184.77468872070312, 'UpperStretching': 170.0656280517578, 'LowerStretching': 212.05892944335938, 'Greeting': 163.5672149658203, 'Talking': 129.08895874023438, 'Patting': 138.30699157714844, 'Reacting': 157.79278564453125, 'Gaming': 201.87295532226562}}\n"
     ]
    },
    {
     "name": "stderr",
     "output_type": "stream",
     "text": [
      " 34%|███▎      | 1801/5352 [04:09<07:57,  7.44it/s]"
     ]
    },
    {
     "name": "stdout",
     "output_type": "stream",
     "text": [
      "{'FullBody': {'All': 133.7795867919922, 'Gesticuling': 121.06658935546875, 'Walking': 132.52169799804688, 'UpperStretching': 133.41419982910156, 'LowerStretching': 145.17227172851562, 'Greeting': 119.54048156738281, 'Talking': 103.95088958740234, 'Patting': 110.30696105957031, 'Reacting': 116.65853118896484, 'Gaming': 141.97523498535156}, 'UpperBody': {'All': 89.44721221923828, 'Gesticuling': 75.0973129272461, 'Walking': 80.32428741455078, 'UpperStretching': 96.78783416748047, 'LowerStretching': 78.02184295654297, 'Greeting': 78.11568450927734, 'Talking': 79.28047943115234, 'Patting': 84.51811218261719, 'Reacting': 75.60459899902344, 'Gaming': 82.24684143066406}, 'LowerBody': {'All': 178.11196899414062, 'Gesticuling': 167.03587341308594, 'Walking': 184.71908569335938, 'UpperStretching': 170.04055786132812, 'LowerStretching': 212.3226776123047, 'Greeting': 160.96527099609375, 'Talking': 128.62130737304688, 'Patting': 136.09580993652344, 'Reacting': 157.7124786376953, 'Gaming': 201.70361328125}}\n"
     ]
    },
    {
     "name": "stderr",
     "output_type": "stream",
     "text": [
      " 37%|███▋      | 2001/5352 [04:36<07:21,  7.60it/s]"
     ]
    },
    {
     "name": "stdout",
     "output_type": "stream",
     "text": [
      "{'FullBody': {'All': 133.8247833251953, 'Gesticuling': 121.18959045410156, 'Walking': 132.4562530517578, 'UpperStretching': 133.55401611328125, 'LowerStretching': 144.9527130126953, 'Greeting': 119.81700897216797, 'Talking': 104.37218475341797, 'Patting': 109.2882308959961, 'Reacting': 116.42980194091797, 'Gaming': 142.977294921875}, 'UpperBody': {'All': 89.42740631103516, 'Gesticuling': 75.04659271240234, 'Walking': 80.05135345458984, 'UpperStretching': 96.8211441040039, 'LowerStretching': 77.86521911621094, 'Greeting': 78.47820281982422, 'Talking': 79.87456512451172, 'Patting': 83.4566650390625, 'Reacting': 75.75872039794922, 'Gaming': 82.84477996826172}, 'LowerBody': {'All': 178.22216796875, 'Gesticuling': 167.3325958251953, 'Walking': 184.86114501953125, 'UpperStretching': 170.28688049316406, 'LowerStretching': 212.04019165039062, 'Greeting': 161.15582275390625, 'Talking': 128.8697967529297, 'Patting': 135.11978149414062, 'Reacting': 157.1008758544922, 'Gaming': 203.1098175048828}}\n"
     ]
    },
    {
     "name": "stderr",
     "output_type": "stream",
     "text": [
      " 41%|████      | 2201/5352 [05:03<07:28,  7.02it/s]"
     ]
    },
    {
     "name": "stdout",
     "output_type": "stream",
     "text": [
      "{'FullBody': {'All': 133.84376525878906, 'Gesticuling': 121.20133209228516, 'Walking': 132.70156860351562, 'UpperStretching': 133.6347198486328, 'LowerStretching': 144.7648468017578, 'Greeting': 119.49486541748047, 'Talking': 104.72696685791016, 'Patting': 108.83818054199219, 'Reacting': 116.59828186035156, 'Gaming': 142.99310302734375}, 'UpperBody': {'All': 89.4301986694336, 'Gesticuling': 75.53755187988281, 'Walking': 80.15836334228516, 'UpperStretching': 96.84617614746094, 'LowerStretching': 77.72985076904297, 'Greeting': 78.38002014160156, 'Talking': 80.55476379394531, 'Patting': 82.95917510986328, 'Reacting': 75.64254760742188, 'Gaming': 82.92743682861328}, 'LowerBody': {'All': 178.25730895996094, 'Gesticuling': 166.8651123046875, 'Walking': 185.24478149414062, 'UpperStretching': 170.4232635498047, 'LowerStretching': 211.79986572265625, 'Greeting': 160.60971069335938, 'Talking': 128.89915466308594, 'Patting': 134.71719360351562, 'Reacting': 157.55401611328125, 'Gaming': 203.0587615966797}}\n"
     ]
    },
    {
     "name": "stderr",
     "output_type": "stream",
     "text": [
      " 45%|████▍     | 2401/5352 [05:30<06:36,  7.44it/s]"
     ]
    },
    {
     "name": "stdout",
     "output_type": "stream",
     "text": [
      "{'FullBody': {'All': 133.84323120117188, 'Gesticuling': 121.09207916259766, 'Walking': 132.65628051757812, 'UpperStretching': 133.56394958496094, 'LowerStretching': 145.01742553710938, 'Greeting': 119.96672821044922, 'Talking': 104.41787719726562, 'Patting': 108.95237731933594, 'Reacting': 116.70651245117188, 'Gaming': 143.182861328125}, 'UpperBody': {'All': 89.33647155761719, 'Gesticuling': 75.44209289550781, 'Walking': 80.12224578857422, 'UpperStretching': 96.7647933959961, 'LowerStretching': 77.748779296875, 'Greeting': 78.87822723388672, 'Talking': 80.29203796386719, 'Patting': 82.5837173461914, 'Reacting': 75.64067840576172, 'Gaming': 82.61756134033203}, 'LowerBody': {'All': 178.34999084472656, 'Gesticuling': 166.74203491210938, 'Walking': 185.1903533935547, 'UpperStretching': 170.3630828857422, 'LowerStretching': 212.28610229492188, 'Greeting': 161.05523681640625, 'Talking': 128.54373168945312, 'Patting': 135.32102966308594, 'Reacting': 157.77236938476562, 'Gaming': 203.7481689453125}}\n"
     ]
    },
    {
     "name": "stderr",
     "output_type": "stream",
     "text": [
      " 49%|████▊     | 2601/5352 [05:57<06:03,  7.58it/s]"
     ]
    },
    {
     "name": "stdout",
     "output_type": "stream",
     "text": [
      "{'FullBody': {'All': 133.9287872314453, 'Gesticuling': 121.0224838256836, 'Walking': 132.8698272705078, 'UpperStretching': 133.60092163085938, 'LowerStretching': 145.18251037597656, 'Greeting': 118.30744934082031, 'Talking': 104.48798370361328, 'Patting': 110.12987518310547, 'Reacting': 116.87303161621094, 'Gaming': 142.62911987304688}, 'UpperBody': {'All': 89.3891372680664, 'Gesticuling': 75.53193664550781, 'Walking': 80.18567657470703, 'UpperStretching': 96.81324768066406, 'LowerStretching': 77.77318572998047, 'Greeting': 77.90817260742188, 'Talking': 80.7459945678711, 'Patting': 83.1163330078125, 'Reacting': 75.87370300292969, 'Gaming': 82.18115997314453}, 'LowerBody': {'All': 178.46844482421875, 'Gesticuling': 166.51304626464844, 'Walking': 185.55397033691406, 'UpperStretching': 170.3885955810547, 'LowerStretching': 212.59185791015625, 'Greeting': 158.70672607421875, 'Talking': 128.22998046875, 'Patting': 137.14341735839844, 'Reacting': 157.87234497070312, 'Gaming': 203.0770721435547}}\n"
     ]
    },
    {
     "name": "stderr",
     "output_type": "stream",
     "text": [
      " 52%|█████▏    | 2801/5352 [06:24<06:27,  6.58it/s]"
     ]
    },
    {
     "name": "stdout",
     "output_type": "stream",
     "text": [
      "{'FullBody': {'All': 133.8829345703125, 'Gesticuling': 120.78206634521484, 'Walking': 132.7642364501953, 'UpperStretching': 133.52574157714844, 'LowerStretching': 145.38095092773438, 'Greeting': 118.85611724853516, 'Talking': 104.4754867553711, 'Patting': 109.49818420410156, 'Reacting': 116.94525909423828, 'Gaming': 142.06881713867188}, 'UpperBody': {'All': 89.35481262207031, 'Gesticuling': 75.42296600341797, 'Walking': 80.13001251220703, 'UpperStretching': 96.74536895751953, 'LowerStretching': 77.92207336425781, 'Greeting': 78.10911560058594, 'Talking': 80.67559814453125, 'Patting': 82.83091735839844, 'Reacting': 75.79751586914062, 'Gaming': 81.97797393798828}, 'LowerBody': {'All': 178.4110565185547, 'Gesticuling': 166.14117431640625, 'Walking': 185.3984832763672, 'UpperStretching': 170.3061065673828, 'LowerStretching': 212.83981323242188, 'Greeting': 159.60313415527344, 'Talking': 128.275390625, 'Patting': 136.1654510498047, 'Reacting': 158.09300231933594, 'Gaming': 202.15966796875}}\n"
     ]
    },
    {
     "name": "stderr",
     "output_type": "stream",
     "text": [
      " 56%|█████▌    | 3001/5352 [06:51<05:22,  7.30it/s]"
     ]
    },
    {
     "name": "stdout",
     "output_type": "stream",
     "text": [
      "{'FullBody': {'All': 133.84994506835938, 'Gesticuling': 120.73312377929688, 'Walking': 132.65875244140625, 'UpperStretching': 133.5798797607422, 'LowerStretching': 145.17861938476562, 'Greeting': 119.12366485595703, 'Talking': 104.3133316040039, 'Patting': 108.84911346435547, 'Reacting': 117.15733337402344, 'Gaming': 141.75355529785156}, 'UpperBody': {'All': 89.30280303955078, 'Gesticuling': 75.54798126220703, 'Walking': 80.11532592773438, 'UpperStretching': 96.72366333007812, 'LowerStretching': 77.75969696044922, 'Greeting': 78.33622741699219, 'Talking': 80.47100830078125, 'Patting': 82.34317016601562, 'Reacting': 75.79261016845703, 'Gaming': 81.54145812988281}, 'LowerBody': {'All': 178.39710998535156, 'Gesticuling': 165.9182891845703, 'Walking': 185.20216369628906, 'UpperStretching': 170.43609619140625, 'LowerStretching': 212.59756469726562, 'Greeting': 159.91110229492188, 'Talking': 128.15562438964844, 'Patting': 135.35504150390625, 'Reacting': 158.5220489501953, 'Gaming': 201.96563720703125}}\n"
     ]
    },
    {
     "name": "stderr",
     "output_type": "stream",
     "text": [
      " 60%|█████▉    | 3201/5352 [07:18<04:55,  7.28it/s]"
     ]
    },
    {
     "name": "stdout",
     "output_type": "stream",
     "text": [
      "{'FullBody': {'All': 133.8975067138672, 'Gesticuling': 120.89251708984375, 'Walking': 132.97378540039062, 'UpperStretching': 133.63491821289062, 'LowerStretching': 145.13197326660156, 'Greeting': 118.9908447265625, 'Talking': 104.38134765625, 'Patting': 108.65953826904297, 'Reacting': 117.09988403320312, 'Gaming': 141.19781494140625}, 'UpperBody': {'All': 89.33311462402344, 'Gesticuling': 75.30563354492188, 'Walking': 80.21324920654297, 'UpperStretching': 96.7490005493164, 'LowerStretching': 77.75918579101562, 'Greeting': 78.50399017333984, 'Talking': 80.42533111572266, 'Patting': 82.3246078491211, 'Reacting': 76.20516967773438, 'Gaming': 81.368896484375}, 'LowerBody': {'All': 178.4618682861328, 'Gesticuling': 166.47940063476562, 'Walking': 185.73431396484375, 'UpperStretching': 170.52084350585938, 'LowerStretching': 212.50477600097656, 'Greeting': 159.4777069091797, 'Talking': 128.33734130859375, 'Patting': 134.9944610595703, 'Reacting': 157.99459838867188, 'Gaming': 201.02676391601562}}\n"
     ]
    },
    {
     "name": "stderr",
     "output_type": "stream",
     "text": [
      " 64%|██████▎   | 3401/5352 [07:45<04:42,  6.90it/s]"
     ]
    },
    {
     "name": "stdout",
     "output_type": "stream",
     "text": [
      "{'FullBody': {'All': 133.9181365966797, 'Gesticuling': 121.27865600585938, 'Walking': 133.1842041015625, 'UpperStretching': 133.63699340820312, 'LowerStretching': 145.20632934570312, 'Greeting': 118.5107192993164, 'Talking': 104.29793548583984, 'Patting': 107.73008728027344, 'Reacting': 117.19467163085938, 'Gaming': 141.47264099121094}, 'UpperBody': {'All': 89.32915496826172, 'Gesticuling': 75.55207061767578, 'Walking': 80.27886199951172, 'UpperStretching': 96.77738952636719, 'LowerStretching': 77.74732971191406, 'Greeting': 77.93583679199219, 'Talking': 80.38402557373047, 'Patting': 81.70659637451172, 'Reacting': 76.14115905761719, 'Gaming': 81.15662384033203}, 'LowerBody': {'All': 178.50711059570312, 'Gesticuling': 167.00523376464844, 'Walking': 186.08956909179688, 'UpperStretching': 170.49658203125, 'LowerStretching': 212.66534423828125, 'Greeting': 159.08560180664062, 'Talking': 128.2118377685547, 'Patting': 133.75355529785156, 'Reacting': 158.2481689453125, 'Gaming': 201.78866577148438}}\n"
     ]
    },
    {
     "name": "stderr",
     "output_type": "stream",
     "text": [
      " 67%|██████▋   | 3601/5352 [08:12<03:57,  7.38it/s]"
     ]
    },
    {
     "name": "stdout",
     "output_type": "stream",
     "text": [
      "{'FullBody': {'All': 133.9077911376953, 'Gesticuling': 121.2844009399414, 'Walking': 133.2906951904297, 'UpperStretching': 133.59808349609375, 'LowerStretching': 145.14137268066406, 'Greeting': 119.0058822631836, 'Talking': 104.57200622558594, 'Patting': 107.5890884399414, 'Reacting': 117.452880859375, 'Gaming': 141.30801391601562}, 'UpperBody': {'All': 89.32599639892578, 'Gesticuling': 75.51310729980469, 'Walking': 80.30015563964844, 'UpperStretching': 96.77576446533203, 'LowerStretching': 77.67993927001953, 'Greeting': 78.49748992919922, 'Talking': 80.4903564453125, 'Patting': 81.65091705322266, 'Reacting': 76.40788269042969, 'Gaming': 80.94163513183594}, 'LowerBody': {'All': 178.48956298828125, 'Gesticuling': 167.05569458007812, 'Walking': 186.28121948242188, 'UpperStretching': 170.42037963867188, 'LowerStretching': 212.60279846191406, 'Greeting': 159.51425170898438, 'Talking': 128.65367126464844, 'Patting': 133.5272674560547, 'Reacting': 158.49789428710938, 'Gaming': 201.6743621826172}}\n"
     ]
    },
    {
     "name": "stderr",
     "output_type": "stream",
     "text": [
      " 71%|███████   | 3801/5352 [08:40<03:30,  7.35it/s]"
     ]
    },
    {
     "name": "stdout",
     "output_type": "stream",
     "text": [
      "{'FullBody': {'All': 133.8367919921875, 'Gesticuling': 121.35956573486328, 'Walking': 133.07220458984375, 'UpperStretching': 133.55296325683594, 'LowerStretching': 145.11825561523438, 'Greeting': 118.617919921875, 'Talking': 104.6142807006836, 'Patting': 107.39556884765625, 'Reacting': 117.13394165039062, 'Gaming': 141.3828125}, 'UpperBody': {'All': 89.29849243164062, 'Gesticuling': 75.52275085449219, 'Walking': 80.12931060791016, 'UpperStretching': 96.77853393554688, 'LowerStretching': 77.648193359375, 'Greeting': 78.4281005859375, 'Talking': 80.58576965332031, 'Patting': 81.58509826660156, 'Reacting': 76.22831726074219, 'Gaming': 80.92095947265625}, 'LowerBody': {'All': 178.37506103515625, 'Gesticuling': 167.19639587402344, 'Walking': 186.0150909423828, 'UpperStretching': 170.32737731933594, 'LowerStretching': 212.58831787109375, 'Greeting': 158.8077392578125, 'Talking': 128.6427764892578, 'Patting': 133.20603942871094, 'Reacting': 158.03956604003906, 'Gaming': 201.8446502685547}}\n"
     ]
    },
    {
     "name": "stderr",
     "output_type": "stream",
     "text": [
      " 75%|███████▍  | 4001/5352 [09:07<03:19,  6.78it/s]"
     ]
    },
    {
     "name": "stdout",
     "output_type": "stream",
     "text": [
      "{'FullBody': {'All': 133.85069274902344, 'Gesticuling': 121.50056457519531, 'Walking': 133.0384521484375, 'UpperStretching': 133.55812072753906, 'LowerStretching': 145.11204528808594, 'Greeting': 118.5116958618164, 'Talking': 104.5321044921875, 'Patting': 107.5651626586914, 'Reacting': 117.06068420410156, 'Gaming': 141.77407836914062}, 'UpperBody': {'All': 89.29435729980469, 'Gesticuling': 75.4356689453125, 'Walking': 80.09503936767578, 'UpperStretching': 96.7820816040039, 'LowerStretching': 77.64994049072266, 'Greeting': 78.4516830444336, 'Talking': 80.6277847290039, 'Patting': 81.66605377197266, 'Reacting': 76.3057632446289, 'Gaming': 80.57342529296875}, 'LowerBody': {'All': 178.4070281982422, 'Gesticuling': 167.5654754638672, 'Walking': 185.98190307617188, 'UpperStretching': 170.33413696289062, 'LowerStretching': 212.5741424560547, 'Greeting': 158.57174682617188, 'Talking': 128.43641662597656, 'Patting': 133.4642791748047, 'Reacting': 157.8155975341797, 'Gaming': 202.97474670410156}}\n"
     ]
    },
    {
     "name": "stderr",
     "output_type": "stream",
     "text": [
      " 78%|███████▊  | 4201/5352 [09:34<02:39,  7.22it/s]"
     ]
    },
    {
     "name": "stdout",
     "output_type": "stream",
     "text": [
      "{'FullBody': {'All': 133.90415954589844, 'Gesticuling': 121.69082641601562, 'Walking': 132.9482421875, 'UpperStretching': 133.6039581298828, 'LowerStretching': 145.29403686523438, 'Greeting': 117.99156188964844, 'Talking': 104.35498046875, 'Patting': 107.68660736083984, 'Reacting': 117.28700256347656, 'Gaming': 142.0668487548828}, 'UpperBody': {'All': 89.28495025634766, 'Gesticuling': 75.42578887939453, 'Walking': 80.03421020507812, 'UpperStretching': 96.77496337890625, 'LowerStretching': 77.69058990478516, 'Greeting': 77.99845886230469, 'Talking': 80.31877136230469, 'Patting': 81.74342346191406, 'Reacting': 76.4459228515625, 'Gaming': 80.52291870117188}, 'LowerBody': {'All': 178.52337646484375, 'Gesticuling': 167.9558868408203, 'Walking': 185.86228942871094, 'UpperStretching': 170.4329376220703, 'LowerStretching': 212.89749145507812, 'Greeting': 157.98464965820312, 'Talking': 128.39117431640625, 'Patting': 133.62979125976562, 'Reacting': 158.12806701660156, 'Gaming': 203.61077880859375}}\n"
     ]
    },
    {
     "name": "stderr",
     "output_type": "stream",
     "text": [
      " 82%|████████▏ | 4401/5352 [10:01<02:10,  7.27it/s]"
     ]
    },
    {
     "name": "stdout",
     "output_type": "stream",
     "text": [
      "{'FullBody': {'All': 133.93263244628906, 'Gesticuling': 121.90254974365234, 'Walking': 133.02297973632812, 'UpperStretching': 133.62635803222656, 'LowerStretching': 145.23899841308594, 'Greeting': 118.01548767089844, 'Talking': 104.33512878417969, 'Patting': 107.74762725830078, 'Reacting': 117.37712097167969, 'Gaming': 142.2043914794922}, 'UpperBody': {'All': 89.2971420288086, 'Gesticuling': 75.57291412353516, 'Walking': 80.04370880126953, 'UpperStretching': 96.8012924194336, 'LowerStretching': 77.6350326538086, 'Greeting': 78.1559066772461, 'Talking': 80.44686889648438, 'Patting': 81.63391876220703, 'Reacting': 76.48981475830078, 'Gaming': 80.49312591552734}, 'LowerBody': {'All': 178.56808471679688, 'Gesticuling': 168.23219299316406, 'Walking': 186.0022430419922, 'UpperStretching': 170.45143127441406, 'LowerStretching': 212.84295654296875, 'Greeting': 157.87509155273438, 'Talking': 128.22337341308594, 'Patting': 133.86131286621094, 'Reacting': 158.26443481445312, 'Gaming': 203.9156494140625}}\n"
     ]
    },
    {
     "name": "stderr",
     "output_type": "stream",
     "text": [
      " 86%|████████▌ | 4601/5352 [10:28<02:00,  6.25it/s]"
     ]
    },
    {
     "name": "stdout",
     "output_type": "stream",
     "text": [
      "{'FullBody': {'All': 133.96861267089844, 'Gesticuling': 121.97032928466797, 'Walking': 133.1913604736328, 'UpperStretching': 133.64990234375, 'LowerStretching': 145.2283172607422, 'Greeting': 118.18852233886719, 'Talking': 104.28500366210938, 'Patting': 107.57159423828125, 'Reacting': 117.30940246582031, 'Gaming': 142.18423461914062}, 'UpperBody': {'All': 89.32311248779297, 'Gesticuling': 75.49116516113281, 'Walking': 80.15803527832031, 'UpperStretching': 96.792236328125, 'LowerStretching': 77.66576385498047, 'Greeting': 78.2108383178711, 'Talking': 80.4411392211914, 'Patting': 81.93053436279297, 'Reacting': 76.47998046875, 'Gaming': 80.58907318115234}, 'LowerBody': {'All': 178.61410522460938, 'Gesticuling': 168.44949340820312, 'Walking': 186.22463989257812, 'UpperStretching': 170.50753784179688, 'LowerStretching': 212.79086303710938, 'Greeting': 158.16619873046875, 'Talking': 128.1288604736328, 'Patting': 133.2126922607422, 'Reacting': 158.13880920410156, 'Gaming': 203.77940368652344}}\n"
     ]
    },
    {
     "name": "stderr",
     "output_type": "stream",
     "text": [
      " 90%|████████▉ | 4801/5352 [10:55<01:18,  6.97it/s]"
     ]
    },
    {
     "name": "stdout",
     "output_type": "stream",
     "text": [
      "{'FullBody': {'All': 133.90975952148438, 'Gesticuling': 121.83463287353516, 'Walking': 133.15432739257812, 'UpperStretching': 133.59901428222656, 'LowerStretching': 145.0582733154297, 'Greeting': 118.96666717529297, 'Talking': 104.7455062866211, 'Patting': 107.18257904052734, 'Reacting': 117.30865478515625, 'Gaming': 142.1473846435547}, 'UpperBody': {'All': 89.281005859375, 'Gesticuling': 75.42940521240234, 'Walking': 80.21556854248047, 'UpperStretching': 96.70409393310547, 'LowerStretching': 77.6678237915039, 'Greeting': 78.73037719726562, 'Talking': 80.8731460571289, 'Patting': 81.54508209228516, 'Reacting': 76.2818832397461, 'Gaming': 80.60791015625}, 'LowerBody': {'All': 178.53848266601562, 'Gesticuling': 168.2398681640625, 'Walking': 186.0930633544922, 'UpperStretching': 170.49392700195312, 'LowerStretching': 212.44869995117188, 'Greeting': 159.2029571533203, 'Talking': 128.6178741455078, 'Patting': 132.82008361816406, 'Reacting': 158.33543395996094, 'Gaming': 203.6868438720703}}\n"
     ]
    },
    {
     "name": "stderr",
     "output_type": "stream",
     "text": [
      " 93%|█████████▎| 5001/5352 [11:23<00:49,  7.07it/s]"
     ]
    },
    {
     "name": "stdout",
     "output_type": "stream",
     "text": [
      "{'FullBody': {'All': 133.8609161376953, 'Gesticuling': 121.89979553222656, 'Walking': 133.08653259277344, 'UpperStretching': 133.53973388671875, 'LowerStretching': 145.02798461914062, 'Greeting': 118.52100372314453, 'Talking': 104.64137268066406, 'Patting': 107.74529266357422, 'Reacting': 117.1416015625, 'Gaming': 142.235595703125}, 'UpperBody': {'All': 89.27178955078125, 'Gesticuling': 75.44478607177734, 'Walking': 80.14998626708984, 'UpperStretching': 96.69908142089844, 'LowerStretching': 77.64662170410156, 'Greeting': 78.43497467041016, 'Talking': 80.7894287109375, 'Patting': 81.71571350097656, 'Reacting': 76.2652587890625, 'Gaming': 80.72611999511719}, 'LowerBody': {'All': 178.4500274658203, 'Gesticuling': 168.35479736328125, 'Walking': 186.02305603027344, 'UpperStretching': 170.38038635253906, 'LowerStretching': 212.4093780517578, 'Greeting': 158.60704040527344, 'Talking': 128.49331665039062, 'Patting': 133.7748565673828, 'Reacting': 158.01792907714844, 'Gaming': 203.74505615234375}}\n"
     ]
    },
    {
     "name": "stderr",
     "output_type": "stream",
     "text": [
      " 97%|█████████▋| 5201/5352 [11:50<00:23,  6.55it/s]"
     ]
    },
    {
     "name": "stdout",
     "output_type": "stream",
     "text": [
      "{'FullBody': {'All': 133.8426971435547, 'Gesticuling': 121.75236511230469, 'Walking': 133.19776916503906, 'UpperStretching': 133.53562927246094, 'LowerStretching': 144.92672729492188, 'Greeting': 118.57540893554688, 'Talking': 104.6357421875, 'Patting': 107.72735595703125, 'Reacting': 117.02091217041016, 'Gaming': 142.30380249023438}, 'UpperBody': {'All': 89.25198364257812, 'Gesticuling': 75.22621154785156, 'Walking': 80.17613983154297, 'UpperStretching': 96.65167999267578, 'LowerStretching': 77.66863250732422, 'Greeting': 78.5781021118164, 'Talking': 80.93309783935547, 'Patting': 81.73603820800781, 'Reacting': 76.17756652832031, 'Gaming': 80.72174072265625}, 'LowerBody': {'All': 178.4333953857422, 'Gesticuling': 168.27853393554688, 'Walking': 186.21937561035156, 'UpperStretching': 170.41957092285156, 'LowerStretching': 212.184814453125, 'Greeting': 158.57273864746094, 'Talking': 128.33840942382812, 'Patting': 133.71865844726562, 'Reacting': 157.86424255371094, 'Gaming': 203.88583374023438}}\n"
     ]
    },
    {
     "name": "stderr",
     "output_type": "stream",
     "text": [
      "100%|██████████| 5352/5352 [12:10<00:00,  7.32it/s]\n",
      "\u001b[94m08:15:51 \u001b[92m[INFO]\u001b[94m Main\u001b[0m: Saving evaluation results...\n",
      "\u001b[94m08:15:51 \u001b[92m[INFO]\u001b[94m Main\u001b[0m: Done.\n",
      "\u001b[94m08:15:51 \u001b[92m[INFO]\u001b[94m Main\u001b[0m: Starting demo...\n",
      "  0%|          | 0/5352 [00:00<?, ?it/s]/opt/conda/lib/python3.10/site-packages/torchvision/transforms/transforms.py:329: UserWarning: Argument 'interpolation' of type int is deprecated since 0.13 and will be removed in 0.15. Please use InterpolationMode enum.\n",
      "  warnings.warn(\n",
      "/opt/conda/lib/python3.10/site-packages/torchvision/transforms/transforms.py:329: UserWarning: Argument 'interpolation' of type int is deprecated since 0.13 and will be removed in 0.15. Please use InterpolationMode enum.\n",
      "  warnings.warn(\n",
      "/opt/conda/lib/python3.10/site-packages/torchvision/transforms/transforms.py:329: UserWarning: Argument 'interpolation' of type int is deprecated since 0.13 and will be removed in 0.15. Please use InterpolationMode enum.\n",
      "  warnings.warn(\n",
      "/opt/conda/lib/python3.10/site-packages/torchvision/transforms/transforms.py:329: UserWarning: Argument 'interpolation' of type int is deprecated since 0.13 and will be removed in 0.15. Please use InterpolationMode enum.\n",
      "  warnings.warn(\n",
      "/opt/conda/lib/python3.10/site-packages/torchvision/transforms/transforms.py:329: UserWarning: Argument 'interpolation' of type int is deprecated since 0.13 and will be removed in 0.15. Please use InterpolationMode enum.\n",
      "  warnings.warn(\n",
      "/opt/conda/lib/python3.10/site-packages/torchvision/transforms/transforms.py:329: UserWarning: Argument 'interpolation' of type int is deprecated since 0.13 and will be removed in 0.15. Please use InterpolationMode enum.\n",
      "  warnings.warn(\n",
      "/opt/conda/lib/python3.10/site-packages/torchvision/transforms/transforms.py:329: UserWarning: Argument 'interpolation' of type int is deprecated since 0.13 and will be removed in 0.15. Please use InterpolationMode enum.\n",
      "  warnings.warn(\n",
      "/opt/conda/lib/python3.10/site-packages/torchvision/transforms/transforms.py:329: UserWarning: Argument 'interpolation' of type int is deprecated since 0.13 and will be removed in 0.15. Please use InterpolationMode enum.\n",
      "  warnings.warn(\n",
      "/opt/conda/lib/python3.10/site-packages/torchvision/transforms/transforms.py:329: UserWarning: Argument 'interpolation' of type int is deprecated since 0.13 and will be removed in 0.15. Please use InterpolationMode enum.\n",
      "  warnings.warn(\n",
      "/opt/conda/lib/python3.10/site-packages/torchvision/transforms/transforms.py:329: UserWarning: Argument 'interpolation' of type int is deprecated since 0.13 and will be removed in 0.15. Please use InterpolationMode enum.\n",
      "  warnings.warn(\n",
      "/opt/conda/lib/python3.10/site-packages/torchvision/transforms/transforms.py:329: UserWarning: Argument 'interpolation' of type int is deprecated since 0.13 and will be removed in 0.15. Please use InterpolationMode enum.\n",
      "  warnings.warn(\n",
      "/opt/conda/lib/python3.10/site-packages/torchvision/transforms/transforms.py:329: UserWarning: Argument 'interpolation' of type int is deprecated since 0.13 and will be removed in 0.15. Please use InterpolationMode enum.\n",
      "  warnings.warn(\n",
      "/opt/conda/lib/python3.10/site-packages/torchvision/transforms/transforms.py:329: UserWarning: Argument 'interpolation' of type int is deprecated since 0.13 and will be removed in 0.15. Please use InterpolationMode enum.\n",
      "  warnings.warn(\n",
      "/opt/conda/lib/python3.10/site-packages/torchvision/transforms/transforms.py:329: UserWarning: Argument 'interpolation' of type int is deprecated since 0.13 and will be removed in 0.15. Please use InterpolationMode enum.\n",
      "  warnings.warn(\n",
      "/opt/conda/lib/python3.10/site-packages/torchvision/transforms/transforms.py:329: UserWarning: Argument 'interpolation' of type int is deprecated since 0.13 and will be removed in 0.15. Please use InterpolationMode enum.\n",
      "  warnings.warn(\n",
      "/opt/conda/lib/python3.10/site-packages/torchvision/transforms/transforms.py:329: UserWarning: Argument 'interpolation' of type int is deprecated since 0.13 and will be removed in 0.15. Please use InterpolationMode enum.\n",
      "  warnings.warn(\n",
      "/opt/conda/lib/python3.10/site-packages/torchvision/transforms/transforms.py:329: UserWarning: Argument 'interpolation' of type int is deprecated since 0.13 and will be removed in 0.15. Please use InterpolationMode enum.\n",
      "  warnings.warn(\n",
      "/opt/conda/lib/python3.10/site-packages/torchvision/transforms/transforms.py:329: UserWarning: Argument 'interpolation' of type int is deprecated since 0.13 and will be removed in 0.15. Please use InterpolationMode enum.\n",
      "  warnings.warn(\n",
      "/opt/conda/lib/python3.10/site-packages/torchvision/transforms/transforms.py:329: UserWarning: Argument 'interpolation' of type int is deprecated since 0.13 and will be removed in 0.15. Please use InterpolationMode enum.\n",
      "  warnings.warn(\n",
      "/opt/conda/lib/python3.10/site-packages/torchvision/transforms/transforms.py:329: UserWarning: Argument 'interpolation' of type int is deprecated since 0.13 and will be removed in 0.15. Please use InterpolationMode enum.\n",
      "  warnings.warn(\n",
      "/opt/conda/lib/python3.10/site-packages/torchvision/transforms/transforms.py:329: UserWarning: Argument 'interpolation' of type int is deprecated since 0.13 and will be removed in 0.15. Please use InterpolationMode enum.\n",
      "  warnings.warn(\n",
      "/opt/conda/lib/python3.10/site-packages/torchvision/transforms/transforms.py:329: UserWarning: Argument 'interpolation' of type int is deprecated since 0.13 and will be removed in 0.15. Please use InterpolationMode enum.\n",
      "  warnings.warn(\n",
      "/opt/conda/lib/python3.10/site-packages/torchvision/transforms/transforms.py:329: UserWarning: Argument 'interpolation' of type int is deprecated since 0.13 and will be removed in 0.15. Please use InterpolationMode enum.\n",
      "  warnings.warn(\n",
      "/opt/conda/lib/python3.10/site-packages/torchvision/transforms/transforms.py:329: UserWarning: Argument 'interpolation' of type int is deprecated since 0.13 and will be removed in 0.15. Please use InterpolationMode enum.\n",
      "  warnings.warn(\n",
      "  4%|▍         | 201/5352 [00:32<11:06,  7.73it/s]"
     ]
    },
    {
     "name": "stdout",
     "output_type": "stream",
     "text": [
      "{'FullBody': {'All': 168.1616668701172, 'UpperStretching': 169.48440551757812, 'LowerStretching': 167.43228149414062, 'Reacting': 148.38075256347656, 'Walking': 178.28245544433594, 'Gesticuling': 152.50650024414062, 'Gaming': 169.08741760253906, 'Greeting': 173.2311248779297, 'Talking': 145.7486572265625, 'Patting': 156.8407440185547}, 'UpperBody': {'All': 136.7007293701172, 'UpperStretching': 142.56736755371094, 'LowerStretching': 114.7615737915039, 'Reacting': 131.4385223388672, 'Walking': 142.0612335205078, 'Gesticuling': 124.71235656738281, 'Gaming': 139.3370361328125, 'Greeting': 174.40573120117188, 'Talking': 146.87078857421875, 'Patting': 149.80752563476562}, 'LowerBody': {'All': 199.62261962890625, 'UpperStretching': 196.4014434814453, 'LowerStretching': 220.1029815673828, 'Reacting': 165.32296752929688, 'Walking': 214.5037078857422, 'Gesticuling': 180.3006134033203, 'Gaming': 198.8377685546875, 'Greeting': 172.05650329589844, 'Talking': 144.6265106201172, 'Patting': 163.87393188476562}}\n"
     ]
    },
    {
     "name": "stderr",
     "output_type": "stream",
     "text": [
      "  7%|▋         | 401/5352 [00:59<10:39,  7.74it/s]"
     ]
    },
    {
     "name": "stdout",
     "output_type": "stream",
     "text": [
      "{'FullBody': {'All': 166.8085174560547, 'UpperStretching': 168.41566467285156, 'LowerStretching': 166.1492156982422, 'Reacting': 148.6842803955078, 'Walking': 175.2797393798828, 'Gesticuling': 150.2193603515625, 'Gaming': 168.88711547851562, 'Greeting': 170.67074584960938, 'Talking': 145.45480346679688, 'Patting': 143.39828491210938}, 'UpperBody': {'All': 135.8494110107422, 'UpperStretching': 141.91526794433594, 'LowerStretching': 113.05825805664062, 'Reacting': 132.42816162109375, 'Walking': 138.44570922851562, 'Gesticuling': 124.83318328857422, 'Gaming': 132.76686096191406, 'Greeting': 171.71331787109375, 'Talking': 143.34596252441406, 'Patting': 138.33177185058594}, 'LowerBody': {'All': 197.7676239013672, 'UpperStretching': 194.91607666015625, 'LowerStretching': 219.24017333984375, 'Reacting': 164.9403839111328, 'Walking': 212.11378479003906, 'Gesticuling': 175.6055450439453, 'Gaming': 205.00743103027344, 'Greeting': 169.628173828125, 'Talking': 147.56362915039062, 'Patting': 148.46478271484375}}\n"
     ]
    },
    {
     "name": "stderr",
     "output_type": "stream",
     "text": [
      " 11%|█         | 601/5352 [01:26<11:37,  6.82it/s]"
     ]
    },
    {
     "name": "stdout",
     "output_type": "stream",
     "text": [
      "{'FullBody': {'All': 167.2690887451172, 'UpperStretching': 168.25218200683594, 'LowerStretching': 167.49317932128906, 'Reacting': 149.3475799560547, 'Walking': 176.89608764648438, 'Gesticuling': 150.71945190429688, 'Gaming': 169.9981689453125, 'Greeting': 173.50875854492188, 'Talking': 143.30259704589844, 'Patting': 145.14007568359375}, 'UpperBody': {'All': 135.86624145507812, 'UpperStretching': 141.4595489501953, 'LowerStretching': 113.73810577392578, 'Reacting': 134.12747192382812, 'Walking': 138.9373779296875, 'Gesticuling': 127.40665435791016, 'Gaming': 134.1136932373047, 'Greeting': 173.73460388183594, 'Talking': 142.9536590576172, 'Patting': 140.0304412841797}, 'LowerBody': {'All': 198.6719207763672, 'UpperStretching': 195.04481506347656, 'LowerStretching': 221.24826049804688, 'Reacting': 164.5677032470703, 'Walking': 214.85484313964844, 'Gesticuling': 174.03225708007812, 'Gaming': 205.88262939453125, 'Greeting': 173.28294372558594, 'Talking': 143.65155029296875, 'Patting': 150.2497100830078}}\n"
     ]
    },
    {
     "name": "stderr",
     "output_type": "stream",
     "text": [
      " 15%|█▍        | 801/5352 [01:54<10:20,  7.33it/s]"
     ]
    },
    {
     "name": "stdout",
     "output_type": "stream",
     "text": [
      "{'FullBody': {'All': 167.19259643554688, 'UpperStretching': 168.3409881591797, 'LowerStretching': 167.51991271972656, 'Reacting': 147.36814880371094, 'Walking': 176.86181640625, 'Gesticuling': 151.23544311523438, 'Gaming': 169.50851440429688, 'Greeting': 172.71595764160156, 'Talking': 142.13079833984375, 'Patting': 141.6969451904297}, 'UpperBody': {'All': 135.3480224609375, 'UpperStretching': 141.12391662597656, 'LowerStretching': 113.43447875976562, 'Reacting': 130.484619140625, 'Walking': 138.61273193359375, 'Gesticuling': 127.69692993164062, 'Gaming': 133.91966247558594, 'Greeting': 171.87815856933594, 'Talking': 141.2747802734375, 'Patting': 137.3155517578125}, 'LowerBody': {'All': 199.03717041015625, 'UpperStretching': 195.55809020996094, 'LowerStretching': 221.60537719726562, 'Reacting': 164.25164794921875, 'Walking': 215.1109161376953, 'Gesticuling': 174.7739715576172, 'Gaming': 205.0973358154297, 'Greeting': 173.5537872314453, 'Talking': 142.98680114746094, 'Patting': 146.07835388183594}}\n"
     ]
    },
    {
     "name": "stderr",
     "output_type": "stream",
     "text": [
      " 19%|█▊        | 1001/5352 [02:21<09:27,  7.66it/s]"
     ]
    },
    {
     "name": "stdout",
     "output_type": "stream",
     "text": [
      "{'FullBody': {'All': 167.30886840820312, 'UpperStretching': 167.96780395507812, 'LowerStretching': 167.94326782226562, 'Reacting': 148.37281799316406, 'Walking': 177.73690795898438, 'Gesticuling': 152.31004333496094, 'Gaming': 169.42774963378906, 'Greeting': 174.99978637695312, 'Talking': 140.9325408935547, 'Patting': 146.72842407226562}, 'UpperBody': {'All': 135.46343994140625, 'UpperStretching': 140.7858123779297, 'LowerStretching': 113.832275390625, 'Reacting': 131.67189025878906, 'Walking': 138.8909912109375, 'Gesticuling': 130.55743408203125, 'Gaming': 133.8874969482422, 'Greeting': 175.25820922851562, 'Talking': 140.67138671875, 'Patting': 140.26718139648438}, 'LowerBody': {'All': 199.15431213378906, 'UpperStretching': 195.14979553222656, 'LowerStretching': 222.0542449951172, 'Reacting': 165.07376098632812, 'Walking': 216.58287048339844, 'Gesticuling': 174.0626220703125, 'Gaming': 204.9679718017578, 'Greeting': 174.74134826660156, 'Talking': 141.19369506835938, 'Patting': 153.18966674804688}}\n"
     ]
    },
    {
     "name": "stderr",
     "output_type": "stream",
     "text": [
      " 22%|██▏       | 1201/5352 [02:48<10:35,  6.54it/s]"
     ]
    },
    {
     "name": "stdout",
     "output_type": "stream",
     "text": [
      "{'FullBody': {'All': 167.53981018066406, 'UpperStretching': 168.1262664794922, 'LowerStretching': 167.7452392578125, 'Reacting': 149.09962463378906, 'Walking': 178.62969970703125, 'Gesticuling': 152.78570556640625, 'Gaming': 170.16790771484375, 'Greeting': 174.3179473876953, 'Talking': 142.60516357421875, 'Patting': 146.7601776123047}, 'UpperBody': {'All': 135.70437622070312, 'UpperStretching': 141.07125854492188, 'LowerStretching': 113.68943786621094, 'Reacting': 132.76644897460938, 'Walking': 139.4495849609375, 'Gesticuling': 131.34909057617188, 'Gaming': 134.54286193847656, 'Greeting': 173.79275512695312, 'Talking': 144.1908416748047, 'Patting': 140.072265625}, 'LowerBody': {'All': 199.37522888183594, 'UpperStretching': 195.18128967285156, 'LowerStretching': 221.80105590820312, 'Reacting': 165.43280029296875, 'Walking': 217.809814453125, 'Gesticuling': 174.22230529785156, 'Gaming': 205.79295349121094, 'Greeting': 174.8431396484375, 'Talking': 141.01953125, 'Patting': 153.44808959960938}}\n"
     ]
    },
    {
     "name": "stderr",
     "output_type": "stream",
     "text": [
      " 26%|██▌       | 1401/5352 [03:15<08:48,  7.48it/s]"
     ]
    },
    {
     "name": "stdout",
     "output_type": "stream",
     "text": [
      "{'FullBody': {'All': 167.508544921875, 'UpperStretching': 168.16323852539062, 'LowerStretching': 167.3096466064453, 'Reacting': 149.6654815673828, 'Walking': 178.63449096679688, 'Gesticuling': 152.11672973632812, 'Gaming': 171.9043731689453, 'Greeting': 175.54783630371094, 'Talking': 142.77032470703125, 'Patting': 145.39439392089844}, 'UpperBody': {'All': 135.72930908203125, 'UpperStretching': 140.96002197265625, 'LowerStretching': 113.82067108154297, 'Reacting': 132.65084838867188, 'Walking': 139.84768676757812, 'Gesticuling': 130.7982635498047, 'Gaming': 135.7566680908203, 'Greeting': 174.65867614746094, 'Talking': 144.7970733642578, 'Patting': 139.0313720703125}, 'LowerBody': {'All': 199.2877960205078, 'UpperStretching': 195.366455078125, 'LowerStretching': 220.79861450195312, 'Reacting': 166.6801300048828, 'Walking': 217.42127990722656, 'Gesticuling': 173.43521118164062, 'Gaming': 208.05206298828125, 'Greeting': 176.43702697753906, 'Talking': 140.7435760498047, 'Patting': 151.75743103027344}}\n"
     ]
    },
    {
     "name": "stderr",
     "output_type": "stream",
     "text": [
      " 30%|██▉       | 1601/5352 [03:42<08:07,  7.69it/s]"
     ]
    },
    {
     "name": "stdout",
     "output_type": "stream",
     "text": [
      "{'FullBody': {'All': 167.6077117919922, 'UpperStretching': 168.34414672851562, 'LowerStretching': 167.4635467529297, 'Reacting': 150.01333618164062, 'Walking': 178.5090789794922, 'Gesticuling': 152.11053466796875, 'Gaming': 170.28675842285156, 'Greeting': 175.8211669921875, 'Talking': 142.87474060058594, 'Patting': 143.51510620117188}, 'UpperBody': {'All': 135.7728271484375, 'UpperStretching': 141.20135498046875, 'LowerStretching': 113.79035186767578, 'Reacting': 132.66322326660156, 'Walking': 139.62315368652344, 'Gesticuling': 130.78182983398438, 'Gaming': 134.50257873535156, 'Greeting': 175.2299346923828, 'Talking': 145.34474182128906, 'Patting': 137.54763793945312}, 'LowerBody': {'All': 199.44259643554688, 'UpperStretching': 195.48692321777344, 'LowerStretching': 221.13674926757812, 'Reacting': 167.3634490966797, 'Walking': 217.39500427246094, 'Gesticuling': 173.4392547607422, 'Gaming': 206.07093811035156, 'Greeting': 176.4123992919922, 'Talking': 140.4047088623047, 'Patting': 149.48260498046875}}\n"
     ]
    },
    {
     "name": "stderr",
     "output_type": "stream",
     "text": [
      " 34%|███▎      | 1801/5352 [04:09<08:52,  6.67it/s]"
     ]
    },
    {
     "name": "stdout",
     "output_type": "stream",
     "text": [
      "{'FullBody': {'All': 167.5430450439453, 'UpperStretching': 168.0755157470703, 'LowerStretching': 167.8776397705078, 'Reacting': 150.60604858398438, 'Walking': 178.41720581054688, 'Gesticuling': 152.04322814941406, 'Gaming': 170.33518981933594, 'Greeting': 176.8417205810547, 'Talking': 142.4034423828125, 'Patting': 143.21987915039062}, 'UpperBody': {'All': 135.63296508789062, 'UpperStretching': 141.03382873535156, 'LowerStretching': 113.82467651367188, 'Reacting': 133.05126953125, 'Walking': 139.20498657226562, 'Gesticuling': 130.53138732910156, 'Gaming': 135.4442596435547, 'Greeting': 175.42356872558594, 'Talking': 144.3951873779297, 'Patting': 137.0760040283203}, 'LowerBody': {'All': 199.45309448242188, 'UpperStretching': 195.11721801757812, 'LowerStretching': 221.93063354492188, 'Reacting': 168.1608123779297, 'Walking': 217.62942504882812, 'Gesticuling': 173.55506896972656, 'Gaming': 205.22610473632812, 'Greeting': 178.2598419189453, 'Talking': 140.4116973876953, 'Patting': 149.36376953125}}\n"
     ]
    },
    {
     "name": "stderr",
     "output_type": "stream",
     "text": [
      " 37%|███▋      | 2001/5352 [04:36<07:28,  7.47it/s]"
     ]
    },
    {
     "name": "stdout",
     "output_type": "stream",
     "text": [
      "{'FullBody': {'All': 167.6240997314453, 'UpperStretching': 168.29763793945312, 'LowerStretching': 167.9630584716797, 'Reacting': 150.246337890625, 'Walking': 177.95233154296875, 'Gesticuling': 152.30593872070312, 'Gaming': 170.30734252929688, 'Greeting': 175.9608154296875, 'Talking': 143.44442749023438, 'Patting': 142.16067504882812}, 'UpperBody': {'All': 135.6636199951172, 'UpperStretching': 141.16685485839844, 'LowerStretching': 113.76034545898438, 'Reacting': 132.44992065429688, 'Walking': 138.98204040527344, 'Gesticuling': 130.32774353027344, 'Gaming': 136.0028533935547, 'Greeting': 174.4698486328125, 'Talking': 145.3095703125, 'Patting': 136.2886199951172}, 'LowerBody': {'All': 199.58456420898438, 'UpperStretching': 195.4284210205078, 'LowerStretching': 222.16580200195312, 'Reacting': 168.0427703857422, 'Walking': 216.92263793945312, 'Gesticuling': 174.28411865234375, 'Gaming': 204.61181640625, 'Greeting': 177.4517822265625, 'Talking': 141.57931518554688, 'Patting': 148.03273010253906}}\n"
     ]
    },
    {
     "name": "stderr",
     "output_type": "stream",
     "text": [
      " 41%|████      | 2201/5352 [05:03<06:59,  7.51it/s]"
     ]
    },
    {
     "name": "stdout",
     "output_type": "stream",
     "text": [
      "{'FullBody': {'All': 167.78634643554688, 'UpperStretching': 168.47549438476562, 'LowerStretching': 167.97476196289062, 'Reacting': 150.01724243164062, 'Walking': 178.31321716308594, 'Gesticuling': 152.99966430664062, 'Gaming': 169.80694580078125, 'Greeting': 176.4453887939453, 'Talking': 143.08714294433594, 'Patting': 142.67645263671875}, 'UpperBody': {'All': 135.76490783691406, 'UpperStretching': 141.25376892089844, 'LowerStretching': 113.7477035522461, 'Reacting': 131.969482421875, 'Walking': 139.25167846679688, 'Gesticuling': 131.008056640625, 'Gaming': 135.9401092529297, 'Greeting': 175.46946716308594, 'Talking': 145.57940673828125, 'Patting': 136.47178649902344}, 'LowerBody': {'All': 199.80780029296875, 'UpperStretching': 195.6972198486328, 'LowerStretching': 222.20184326171875, 'Reacting': 168.06500244140625, 'Walking': 217.374755859375, 'Gesticuling': 174.99122619628906, 'Gaming': 203.67381286621094, 'Greeting': 177.4213104248047, 'Talking': 140.5948486328125, 'Patting': 148.88111877441406}}\n"
     ]
    },
    {
     "name": "stderr",
     "output_type": "stream",
     "text": [
      " 45%|████▍     | 2401/5352 [05:30<07:12,  6.83it/s]"
     ]
    },
    {
     "name": "stdout",
     "output_type": "stream",
     "text": [
      "{'FullBody': {'All': 167.83551025390625, 'UpperStretching': 168.51133728027344, 'LowerStretching': 167.947021484375, 'Reacting': 149.8541259765625, 'Walking': 178.5190887451172, 'Gesticuling': 152.50181579589844, 'Gaming': 169.61767578125, 'Greeting': 176.28517150878906, 'Talking': 143.60279846191406, 'Patting': 143.19720458984375}, 'UpperBody': {'All': 135.74462890625, 'UpperStretching': 141.19642639160156, 'LowerStretching': 113.81788635253906, 'Reacting': 131.055419921875, 'Walking': 139.48020935058594, 'Gesticuling': 130.45872497558594, 'Gaming': 135.66775512695312, 'Greeting': 175.644287109375, 'Talking': 145.44386291503906, 'Patting': 136.50730895996094}, 'LowerBody': {'All': 199.92636108398438, 'UpperStretching': 195.82626342773438, 'LowerStretching': 222.07615661621094, 'Reacting': 168.65283203125, 'Walking': 217.55795288085938, 'Gesticuling': 174.54490661621094, 'Gaming': 203.5675811767578, 'Greeting': 176.92605590820312, 'Talking': 141.76170349121094, 'Patting': 149.8871307373047}}\n"
     ]
    },
    {
     "name": "stderr",
     "output_type": "stream",
     "text": [
      " 49%|████▊     | 2601/5352 [05:57<06:21,  7.21it/s]"
     ]
    },
    {
     "name": "stdout",
     "output_type": "stream",
     "text": [
      "{'FullBody': {'All': 167.76498413085938, 'UpperStretching': 168.39016723632812, 'LowerStretching': 167.9119110107422, 'Reacting': 149.72108459472656, 'Walking': 178.6027069091797, 'Gesticuling': 152.097412109375, 'Gaming': 170.1776885986328, 'Greeting': 176.12741088867188, 'Talking': 143.3204803466797, 'Patting': 144.01817321777344}, 'UpperBody': {'All': 135.63963317871094, 'UpperStretching': 141.13723754882812, 'LowerStretching': 113.857666015625, 'Reacting': 130.6923828125, 'Walking': 139.34877014160156, 'Gesticuling': 129.80728149414062, 'Gaming': 135.25985717773438, 'Greeting': 175.48187255859375, 'Talking': 144.83680725097656, 'Patting': 136.33395385742188}, 'LowerBody': {'All': 199.89031982421875, 'UpperStretching': 195.64309692382812, 'LowerStretching': 221.96617126464844, 'Reacting': 168.74978637695312, 'Walking': 217.85665893554688, 'Gesticuling': 174.38755798339844, 'Gaming': 205.0955352783203, 'Greeting': 176.77294921875, 'Talking': 141.80416870117188, 'Patting': 151.70240783691406}}\n"
     ]
    },
    {
     "name": "stderr",
     "output_type": "stream",
     "text": [
      " 52%|█████▏    | 2801/5352 [06:24<05:56,  7.16it/s]"
     ]
    },
    {
     "name": "stdout",
     "output_type": "stream",
     "text": [
      "{'FullBody': {'All': 167.8312225341797, 'UpperStretching': 168.47833251953125, 'LowerStretching': 167.8773956298828, 'Reacting': 149.5791473388672, 'Walking': 178.77593994140625, 'Gesticuling': 152.2869415283203, 'Gaming': 170.66156005859375, 'Greeting': 175.66940307617188, 'Talking': 143.41171264648438, 'Patting': 143.083984375}, 'UpperBody': {'All': 135.73348999023438, 'UpperStretching': 141.28334045410156, 'LowerStretching': 113.72616577148438, 'Reacting': 130.6799774169922, 'Walking': 139.3908233642578, 'Gesticuling': 129.93569946289062, 'Gaming': 136.0301971435547, 'Greeting': 174.9946746826172, 'Talking': 145.1019287109375, 'Patting': 135.8598175048828}, 'LowerBody': {'All': 199.928955078125, 'UpperStretching': 195.67335510253906, 'LowerStretching': 222.0286407470703, 'Reacting': 168.4783172607422, 'Walking': 218.16107177734375, 'Gesticuling': 174.63821411132812, 'Gaming': 205.2929229736328, 'Greeting': 176.34413146972656, 'Talking': 141.7215118408203, 'Patting': 150.3081512451172}}\n"
     ]
    },
    {
     "name": "stderr",
     "output_type": "stream",
     "text": [
      " 56%|█████▌    | 3001/5352 [06:51<06:13,  6.30it/s]"
     ]
    },
    {
     "name": "stdout",
     "output_type": "stream",
     "text": [
      "{'FullBody': {'All': 167.84425354003906, 'UpperStretching': 168.5723419189453, 'LowerStretching': 167.95037841796875, 'Reacting': 149.77207946777344, 'Walking': 178.32977294921875, 'Gesticuling': 151.82127380371094, 'Gaming': 170.54591369628906, 'Greeting': 175.53614807128906, 'Talking': 143.3475799560547, 'Patting': 142.86953735351562}, 'UpperBody': {'All': 135.6714324951172, 'UpperStretching': 141.2622833251953, 'LowerStretching': 113.60352325439453, 'Reacting': 131.11585998535156, 'Walking': 139.09254455566406, 'Gesticuling': 129.48614501953125, 'Gaming': 135.97669982910156, 'Greeting': 174.7852020263672, 'Talking': 145.290771484375, 'Patting': 135.4667205810547}, 'LowerBody': {'All': 200.01708984375, 'UpperStretching': 195.8823699951172, 'LowerStretching': 222.29722595214844, 'Reacting': 168.4282989501953, 'Walking': 217.56700134277344, 'Gesticuling': 174.15638732910156, 'Gaming': 205.1151123046875, 'Greeting': 176.28712463378906, 'Talking': 141.40438842773438, 'Patting': 150.27235412597656}}\n"
     ]
    },
    {
     "name": "stderr",
     "output_type": "stream",
     "text": [
      " 60%|█████▉    | 3201/5352 [07:18<04:57,  7.23it/s]"
     ]
    },
    {
     "name": "stdout",
     "output_type": "stream",
     "text": [
      "{'FullBody': {'All': 167.82870483398438, 'UpperStretching': 168.48471069335938, 'LowerStretching': 167.9115753173828, 'Reacting': 149.57553100585938, 'Walking': 178.54742431640625, 'Gesticuling': 151.9062042236328, 'Gaming': 171.91920471191406, 'Greeting': 175.47642517089844, 'Talking': 143.44284057617188, 'Patting': 142.60353088378906}, 'UpperBody': {'All': 135.6532745361328, 'UpperStretching': 141.15585327148438, 'LowerStretching': 113.72438049316406, 'Reacting': 131.24960327148438, 'Walking': 139.12481689453125, 'Gesticuling': 129.52061462402344, 'Gaming': 136.90904235839844, 'Greeting': 174.2558135986328, 'Talking': 145.36143493652344, 'Patting': 135.27757263183594}, 'LowerBody': {'All': 200.00413513183594, 'UpperStretching': 195.81356811523438, 'LowerStretching': 222.09877014160156, 'Reacting': 167.90145874023438, 'Walking': 217.97000122070312, 'Gesticuling': 174.29177856445312, 'Gaming': 206.92935180664062, 'Greeting': 176.6970672607422, 'Talking': 141.5242462158203, 'Patting': 149.9294891357422}}\n"
     ]
    },
    {
     "name": "stderr",
     "output_type": "stream",
     "text": [
      " 64%|██████▎   | 3401/5352 [07:46<04:34,  7.12it/s]"
     ]
    },
    {
     "name": "stdout",
     "output_type": "stream",
     "text": [
      "{'FullBody': {'All': 167.83999633789062, 'UpperStretching': 168.54586791992188, 'LowerStretching': 167.83558654785156, 'Reacting': 150.25001525878906, 'Walking': 178.3891143798828, 'Gesticuling': 152.14248657226562, 'Gaming': 171.722412109375, 'Greeting': 175.64315795898438, 'Talking': 143.3224334716797, 'Patting': 141.93849182128906}, 'UpperBody': {'All': 135.704345703125, 'UpperStretching': 141.26416015625, 'LowerStretching': 113.69841003417969, 'Reacting': 131.73663330078125, 'Walking': 138.98727416992188, 'Gesticuling': 129.70407104492188, 'Gaming': 136.9119873046875, 'Greeting': 174.22804260253906, 'Talking': 145.2416229248047, 'Patting': 134.87826538085938}, 'LowerBody': {'All': 199.97564697265625, 'UpperStretching': 195.8275604248047, 'LowerStretching': 221.9727783203125, 'Reacting': 168.7633819580078, 'Walking': 217.79095458984375, 'Gesticuling': 174.5808868408203, 'Gaming': 206.53282165527344, 'Greeting': 177.0582733154297, 'Talking': 141.4032440185547, 'Patting': 148.99871826171875}}\n"
     ]
    },
    {
     "name": "stderr",
     "output_type": "stream",
     "text": [
      " 67%|██████▋   | 3601/5352 [08:13<04:23,  6.64it/s]"
     ]
    },
    {
     "name": "stdout",
     "output_type": "stream",
     "text": [
      "{'FullBody': {'All': 167.92984008789062, 'UpperStretching': 168.7093048095703, 'LowerStretching': 167.89845275878906, 'Reacting': 150.0169677734375, 'Walking': 178.02120971679688, 'Gesticuling': 152.2303466796875, 'Gaming': 171.72671508789062, 'Greeting': 176.19126892089844, 'Talking': 143.29391479492188, 'Patting': 142.65560913085938}, 'UpperBody': {'All': 135.73423767089844, 'UpperStretching': 141.31398010253906, 'LowerStretching': 113.74964141845703, 'Reacting': 131.62452697753906, 'Walking': 138.7958526611328, 'Gesticuling': 129.77352905273438, 'Gaming': 137.53025817871094, 'Greeting': 174.5304412841797, 'Talking': 145.00486755371094, 'Patting': 135.2568359375}, 'LowerBody': {'All': 200.1254119873047, 'UpperStretching': 196.1046142578125, 'LowerStretching': 222.0472412109375, 'Reacting': 168.4093780517578, 'Walking': 217.2466278076172, 'Gesticuling': 174.68716430664062, 'Gaming': 205.92318725585938, 'Greeting': 177.85208129882812, 'Talking': 141.5829620361328, 'Patting': 150.05435180664062}}\n"
     ]
    },
    {
     "name": "stderr",
     "output_type": "stream",
     "text": [
      " 71%|███████   | 3801/5352 [08:40<03:36,  7.15it/s]"
     ]
    },
    {
     "name": "stdout",
     "output_type": "stream",
     "text": [
      "{'FullBody': {'All': 167.97547912597656, 'UpperStretching': 168.80978393554688, 'LowerStretching': 167.96356201171875, 'Reacting': 149.63511657714844, 'Walking': 177.71224975585938, 'Gesticuling': 152.64450073242188, 'Gaming': 171.32473754882812, 'Greeting': 176.11256408691406, 'Talking': 143.63340759277344, 'Patting': 143.39112854003906}, 'UpperBody': {'All': 135.76666259765625, 'UpperStretching': 141.38829040527344, 'LowerStretching': 113.87788391113281, 'Reacting': 131.3308563232422, 'Walking': 138.54835510253906, 'Gesticuling': 130.52691650390625, 'Gaming': 137.27713012695312, 'Greeting': 174.52320861816406, 'Talking': 145.41357421875, 'Patting': 135.376220703125}, 'LowerBody': {'All': 200.18426513671875, 'UpperStretching': 196.2312774658203, 'LowerStretching': 222.0492401123047, 'Reacting': 167.9393768310547, 'Walking': 216.8761444091797, 'Gesticuling': 174.7620849609375, 'Gaming': 205.37234497070312, 'Greeting': 177.70188903808594, 'Talking': 141.8532257080078, 'Patting': 151.40602111816406}}\n"
     ]
    },
    {
     "name": "stderr",
     "output_type": "stream",
     "text": [
      " 75%|███████▍  | 4001/5352 [09:07<03:11,  7.05it/s]"
     ]
    },
    {
     "name": "stdout",
     "output_type": "stream",
     "text": [
      "{'FullBody': {'All': 168.0012969970703, 'UpperStretching': 168.8050994873047, 'LowerStretching': 168.18040466308594, 'Reacting': 149.5539093017578, 'Walking': 177.6479949951172, 'Gesticuling': 152.62188720703125, 'Gaming': 171.39529418945312, 'Greeting': 176.32229614257812, 'Talking': 143.7163543701172, 'Patting': 143.35354614257812}, 'UpperBody': {'All': 135.77816772460938, 'UpperStretching': 141.4109344482422, 'LowerStretching': 113.87598419189453, 'Reacting': 131.32333374023438, 'Walking': 138.5826873779297, 'Gesticuling': 130.2940216064453, 'Gaming': 136.92245483398438, 'Greeting': 174.50733947753906, 'Talking': 145.4060516357422, 'Patting': 135.31390380859375}, 'LowerBody': {'All': 200.2244110107422, 'UpperStretching': 196.19924926757812, 'LowerStretching': 222.4848175048828, 'Reacting': 167.7844696044922, 'Walking': 216.7133026123047, 'Gesticuling': 174.9497528076172, 'Gaming': 205.86817932128906, 'Greeting': 178.13723754882812, 'Talking': 142.0266571044922, 'Patting': 151.3931884765625}}\n"
     ]
    },
    {
     "name": "stderr",
     "output_type": "stream",
     "text": [
      " 78%|███████▊  | 4201/5352 [09:34<02:57,  6.49it/s]"
     ]
    },
    {
     "name": "stdout",
     "output_type": "stream",
     "text": [
      "{'FullBody': {'All': 167.99436950683594, 'UpperStretching': 168.8243865966797, 'LowerStretching': 167.949951171875, 'Reacting': 149.9891815185547, 'Walking': 177.613525390625, 'Gesticuling': 152.79310607910156, 'Gaming': 171.46755981445312, 'Greeting': 176.31996154785156, 'Talking': 143.67214965820312, 'Patting': 143.9879608154297}, 'UpperBody': {'All': 135.80859375, 'UpperStretching': 141.4540557861328, 'LowerStretching': 113.79193115234375, 'Reacting': 131.54693603515625, 'Walking': 138.67901611328125, 'Gesticuling': 130.3998260498047, 'Gaming': 137.06979370117188, 'Greeting': 174.70697021484375, 'Talking': 145.413818359375, 'Patting': 135.8082275390625}, 'LowerBody': {'All': 200.1800994873047, 'UpperStretching': 196.19471740722656, 'LowerStretching': 222.1079559326172, 'Reacting': 168.4314422607422, 'Walking': 216.5480194091797, 'Gesticuling': 175.18637084960938, 'Gaming': 205.8653106689453, 'Greeting': 177.9329833984375, 'Talking': 141.93048095703125, 'Patting': 152.16769409179688}}\n"
     ]
    },
    {
     "name": "stderr",
     "output_type": "stream",
     "text": [
      " 82%|████████▏ | 4401/5352 [10:01<02:14,  7.05it/s]"
     ]
    },
    {
     "name": "stdout",
     "output_type": "stream",
     "text": [
      "{'FullBody': {'All': 168.0399169921875, 'UpperStretching': 168.911376953125, 'LowerStretching': 168.00527954101562, 'Reacting': 150.25274658203125, 'Walking': 177.73435974121094, 'Gesticuling': 152.54420471191406, 'Gaming': 171.24801635742188, 'Greeting': 176.0028839111328, 'Talking': 143.29649353027344, 'Patting': 143.05752563476562}, 'UpperBody': {'All': 135.77854919433594, 'UpperStretching': 141.4566192626953, 'LowerStretching': 113.82023620605469, 'Reacting': 131.51571655273438, 'Walking': 138.6622314453125, 'Gesticuling': 130.2953643798828, 'Gaming': 136.7607421875, 'Greeting': 174.4556884765625, 'Talking': 145.13682556152344, 'Patting': 135.09762573242188}, 'LowerBody': {'All': 200.30125427246094, 'UpperStretching': 196.36611938476562, 'LowerStretching': 222.19029235839844, 'Reacting': 168.98976135253906, 'Walking': 216.80650329589844, 'Gesticuling': 174.79307556152344, 'Gaming': 205.7353057861328, 'Greeting': 177.55007934570312, 'Talking': 141.4561767578125, 'Patting': 151.01742553710938}}\n"
     ]
    },
    {
     "name": "stderr",
     "output_type": "stream",
     "text": [
      " 86%|████████▌ | 4601/5352 [10:28<01:44,  7.22it/s]"
     ]
    },
    {
     "name": "stdout",
     "output_type": "stream",
     "text": [
      "{'FullBody': {'All': 168.0758056640625, 'UpperStretching': 168.92344665527344, 'LowerStretching': 168.20851135253906, 'Reacting': 149.94361877441406, 'Walking': 177.92262268066406, 'Gesticuling': 152.51002502441406, 'Gaming': 170.96420288085938, 'Greeting': 176.355712890625, 'Talking': 143.43687438964844, 'Patting': 142.36834716796875}, 'UpperBody': {'All': 135.82211303710938, 'UpperStretching': 141.46002197265625, 'LowerStretching': 113.93862915039062, 'Reacting': 131.20394897460938, 'Walking': 138.92312622070312, 'Gesticuling': 130.47021484375, 'Gaming': 136.63800048828125, 'Greeting': 174.54005432128906, 'Talking': 145.4241943359375, 'Patting': 134.72911071777344}, 'LowerBody': {'All': 200.32945251464844, 'UpperStretching': 196.38687133789062, 'LowerStretching': 222.47837829589844, 'Reacting': 168.6833038330078, 'Walking': 216.92210388183594, 'Gesticuling': 174.54981994628906, 'Gaming': 205.29042053222656, 'Greeting': 178.17138671875, 'Talking': 141.44955444335938, 'Patting': 150.00758361816406}}\n"
     ]
    },
    {
     "name": "stderr",
     "output_type": "stream",
     "text": [
      " 90%|████████▉ | 4801/5352 [10:56<01:33,  5.89it/s]"
     ]
    },
    {
     "name": "stdout",
     "output_type": "stream",
     "text": [
      "{'FullBody': {'All': 168.13333129882812, 'UpperStretching': 168.95896911621094, 'LowerStretching': 168.3274688720703, 'Reacting': 149.8504638671875, 'Walking': 177.99636840820312, 'Gesticuling': 152.55747985839844, 'Gaming': 170.99130249023438, 'Greeting': 176.62448120117188, 'Talking': 143.52310180664062, 'Patting': 142.47991943359375}, 'UpperBody': {'All': 135.8655548095703, 'UpperStretching': 141.48062133789062, 'LowerStretching': 114.03370666503906, 'Reacting': 130.87246704101562, 'Walking': 138.94857788085938, 'Gesticuling': 130.92576599121094, 'Gaming': 137.06004333496094, 'Greeting': 174.94642639160156, 'Talking': 145.4881591796875, 'Patting': 134.72857666015625}, 'LowerBody': {'All': 200.40106201171875, 'UpperStretching': 196.43731689453125, 'LowerStretching': 222.62123107910156, 'Reacting': 168.8284454345703, 'Walking': 217.04417419433594, 'Gesticuling': 174.18919372558594, 'Gaming': 204.9225311279297, 'Greeting': 178.30250549316406, 'Talking': 141.55807495117188, 'Patting': 150.23126220703125}}\n"
     ]
    },
    {
     "name": "stderr",
     "output_type": "stream",
     "text": [
      " 93%|█████████▎| 5001/5352 [11:23<00:50,  6.92it/s]"
     ]
    },
    {
     "name": "stdout",
     "output_type": "stream",
     "text": [
      "{'FullBody': {'All': 168.0991668701172, 'UpperStretching': 168.93357849121094, 'LowerStretching': 168.30885314941406, 'Reacting': 149.78575134277344, 'Walking': 177.93031311035156, 'Gesticuling': 152.3192596435547, 'Gaming': 170.7843475341797, 'Greeting': 176.5308837890625, 'Talking': 143.6129913330078, 'Patting': 142.67124938964844}, 'UpperBody': {'All': 135.8437957763672, 'UpperStretching': 141.4811248779297, 'LowerStretching': 114.0457992553711, 'Reacting': 130.61572265625, 'Walking': 138.927978515625, 'Gesticuling': 130.53749084472656, 'Gaming': 136.9158935546875, 'Greeting': 174.7288360595703, 'Talking': 145.51736450195312, 'Patting': 135.230224609375}, 'LowerBody': {'All': 200.35447692871094, 'UpperStretching': 196.38601684570312, 'LowerStretching': 222.57188415527344, 'Reacting': 168.95579528808594, 'Walking': 216.93263244628906, 'Gesticuling': 174.1010284423828, 'Gaming': 204.65281677246094, 'Greeting': 178.33294677734375, 'Talking': 141.7086181640625, 'Patting': 150.1122589111328}}\n"
     ]
    },
    {
     "name": "stderr",
     "output_type": "stream",
     "text": [
      " 97%|█████████▋| 5201/5352 [11:50<00:21,  7.03it/s]"
     ]
    },
    {
     "name": "stdout",
     "output_type": "stream",
     "text": [
      "{'FullBody': {'All': 168.14346313476562, 'UpperStretching': 169.01971435546875, 'LowerStretching': 168.2701873779297, 'Reacting': 149.82545471191406, 'Walking': 177.98635864257812, 'Gesticuling': 152.35499572753906, 'Gaming': 170.86354064941406, 'Greeting': 176.25054931640625, 'Talking': 143.62460327148438, 'Patting': 142.21279907226562}, 'UpperBody': {'All': 135.88626098632812, 'UpperStretching': 141.57476806640625, 'LowerStretching': 114.06852722167969, 'Reacting': 130.5898895263672, 'Walking': 138.93190002441406, 'Gesticuling': 130.64129638671875, 'Gaming': 137.01773071289062, 'Greeting': 174.17730712890625, 'Talking': 145.35060119628906, 'Patting': 134.83677673339844}, 'LowerBody': {'All': 200.40060424804688, 'UpperStretching': 196.46466064453125, 'LowerStretching': 222.4718475341797, 'Reacting': 169.06101989746094, 'Walking': 217.0408172607422, 'Gesticuling': 174.0686798095703, 'Gaming': 204.70932006835938, 'Greeting': 178.3237762451172, 'Talking': 141.8986053466797, 'Patting': 149.58880615234375}}\n"
     ]
    },
    {
     "name": "stderr",
     "output_type": "stream",
     "text": [
      "100%|██████████| 5352/5352 [12:10<00:00,  7.32it/s]\n",
      "\u001b[94m08:28:04 \u001b[92m[INFO]\u001b[94m Main\u001b[0m: Saving evaluation results...\n",
      "\u001b[94m08:28:04 \u001b[92m[INFO]\u001b[94m Main\u001b[0m: Done.\n",
      "\u001b[94m08:28:04 \u001b[92m[INFO]\u001b[94m Main\u001b[0m: Starting demo...\n",
      "  0%|          | 0/5352 [00:00<?, ?it/s]/opt/conda/lib/python3.10/site-packages/torchvision/transforms/transforms.py:329: UserWarning: Argument 'interpolation' of type int is deprecated since 0.13 and will be removed in 0.15. Please use InterpolationMode enum.\n",
      "  warnings.warn(\n",
      "/opt/conda/lib/python3.10/site-packages/torchvision/transforms/transforms.py:329: UserWarning: Argument 'interpolation' of type int is deprecated since 0.13 and will be removed in 0.15. Please use InterpolationMode enum.\n",
      "  warnings.warn(\n",
      "/opt/conda/lib/python3.10/site-packages/torchvision/transforms/transforms.py:329: UserWarning: Argument 'interpolation' of type int is deprecated since 0.13 and will be removed in 0.15. Please use InterpolationMode enum.\n",
      "  warnings.warn(\n",
      "/opt/conda/lib/python3.10/site-packages/torchvision/transforms/transforms.py:329: UserWarning: Argument 'interpolation' of type int is deprecated since 0.13 and will be removed in 0.15. Please use InterpolationMode enum.\n",
      "  warnings.warn(\n",
      "/opt/conda/lib/python3.10/site-packages/torchvision/transforms/transforms.py:329: UserWarning: Argument 'interpolation' of type int is deprecated since 0.13 and will be removed in 0.15. Please use InterpolationMode enum.\n",
      "  warnings.warn(\n",
      "/opt/conda/lib/python3.10/site-packages/torchvision/transforms/transforms.py:329: UserWarning: Argument 'interpolation' of type int is deprecated since 0.13 and will be removed in 0.15. Please use InterpolationMode enum.\n",
      "  warnings.warn(\n",
      "/opt/conda/lib/python3.10/site-packages/torchvision/transforms/transforms.py:329: UserWarning: Argument 'interpolation' of type int is deprecated since 0.13 and will be removed in 0.15. Please use InterpolationMode enum.\n",
      "  warnings.warn(\n",
      "/opt/conda/lib/python3.10/site-packages/torchvision/transforms/transforms.py:329: UserWarning: Argument 'interpolation' of type int is deprecated since 0.13 and will be removed in 0.15. Please use InterpolationMode enum.\n",
      "  warnings.warn(\n",
      "/opt/conda/lib/python3.10/site-packages/torchvision/transforms/transforms.py:329: UserWarning: Argument 'interpolation' of type int is deprecated since 0.13 and will be removed in 0.15. Please use InterpolationMode enum.\n",
      "  warnings.warn(\n",
      "/opt/conda/lib/python3.10/site-packages/torchvision/transforms/transforms.py:329: UserWarning: Argument 'interpolation' of type int is deprecated since 0.13 and will be removed in 0.15. Please use InterpolationMode enum.\n",
      "  warnings.warn(\n",
      "/opt/conda/lib/python3.10/site-packages/torchvision/transforms/transforms.py:329: UserWarning: Argument 'interpolation' of type int is deprecated since 0.13 and will be removed in 0.15. Please use InterpolationMode enum.\n",
      "  warnings.warn(\n",
      "/opt/conda/lib/python3.10/site-packages/torchvision/transforms/transforms.py:329: UserWarning: Argument 'interpolation' of type int is deprecated since 0.13 and will be removed in 0.15. Please use InterpolationMode enum.\n",
      "  warnings.warn(\n",
      "/opt/conda/lib/python3.10/site-packages/torchvision/transforms/transforms.py:329: UserWarning: Argument 'interpolation' of type int is deprecated since 0.13 and will be removed in 0.15. Please use InterpolationMode enum.\n",
      "  warnings.warn(\n",
      "/opt/conda/lib/python3.10/site-packages/torchvision/transforms/transforms.py:329: UserWarning: Argument 'interpolation' of type int is deprecated since 0.13 and will be removed in 0.15. Please use InterpolationMode enum.\n",
      "  warnings.warn(\n",
      "/opt/conda/lib/python3.10/site-packages/torchvision/transforms/transforms.py:329: UserWarning: Argument 'interpolation' of type int is deprecated since 0.13 and will be removed in 0.15. Please use InterpolationMode enum.\n",
      "  warnings.warn(\n",
      "/opt/conda/lib/python3.10/site-packages/torchvision/transforms/transforms.py:329: UserWarning: Argument 'interpolation' of type int is deprecated since 0.13 and will be removed in 0.15. Please use InterpolationMode enum.\n",
      "  warnings.warn(\n",
      "/opt/conda/lib/python3.10/site-packages/torchvision/transforms/transforms.py:329: UserWarning: Argument 'interpolation' of type int is deprecated since 0.13 and will be removed in 0.15. Please use InterpolationMode enum.\n",
      "  warnings.warn(\n",
      "/opt/conda/lib/python3.10/site-packages/torchvision/transforms/transforms.py:329: UserWarning: Argument 'interpolation' of type int is deprecated since 0.13 and will be removed in 0.15. Please use InterpolationMode enum.\n",
      "  warnings.warn(\n",
      "/opt/conda/lib/python3.10/site-packages/torchvision/transforms/transforms.py:329: UserWarning: Argument 'interpolation' of type int is deprecated since 0.13 and will be removed in 0.15. Please use InterpolationMode enum.\n",
      "  warnings.warn(\n",
      "/opt/conda/lib/python3.10/site-packages/torchvision/transforms/transforms.py:329: UserWarning: Argument 'interpolation' of type int is deprecated since 0.13 and will be removed in 0.15. Please use InterpolationMode enum.\n",
      "  warnings.warn(\n",
      "/opt/conda/lib/python3.10/site-packages/torchvision/transforms/transforms.py:329: UserWarning: Argument 'interpolation' of type int is deprecated since 0.13 and will be removed in 0.15. Please use InterpolationMode enum.\n",
      "  warnings.warn(\n",
      "/opt/conda/lib/python3.10/site-packages/torchvision/transforms/transforms.py:329: UserWarning: Argument 'interpolation' of type int is deprecated since 0.13 and will be removed in 0.15. Please use InterpolationMode enum.\n",
      "  warnings.warn(\n",
      "/opt/conda/lib/python3.10/site-packages/torchvision/transforms/transforms.py:329: UserWarning: Argument 'interpolation' of type int is deprecated since 0.13 and will be removed in 0.15. Please use InterpolationMode enum.\n",
      "  warnings.warn(\n",
      "/opt/conda/lib/python3.10/site-packages/torchvision/transforms/transforms.py:329: UserWarning: Argument 'interpolation' of type int is deprecated since 0.13 and will be removed in 0.15. Please use InterpolationMode enum.\n",
      "  warnings.warn(\n",
      "  4%|▍         | 201/5352 [00:33<11:54,  7.21it/s]"
     ]
    },
    {
     "name": "stdout",
     "output_type": "stream",
     "text": [
      "{'FullBody': {'All': 78.01640319824219, 'LowerStretching': 78.97775268554688, 'UpperStretching': 80.62105560302734, 'Greeting': 57.8876838684082, 'Reacting': 69.20720672607422, 'Patting': 75.12045288085938, 'Walking': 75.30526733398438, 'Gaming': 74.11612701416016, 'Talking': 56.56394577026367, 'Gesticuling': 61.67399597167969}, 'UpperBody': {'All': 60.2790641784668, 'LowerStretching': 51.526798248291016, 'UpperStretching': 65.32131958007812, 'Greeting': 51.2270622253418, 'Reacting': 59.1890754699707, 'Patting': 55.07893371582031, 'Walking': 53.24013900756836, 'Gaming': 57.90359115600586, 'Talking': 46.2631950378418, 'Gesticuling': 52.295570373535156}, 'LowerBody': {'All': 95.75373840332031, 'LowerStretching': 106.4287109375, 'UpperStretching': 95.92078399658203, 'Greeting': 64.54828643798828, 'Reacting': 79.225341796875, 'Patting': 95.1619644165039, 'Walking': 97.37039184570312, 'Gaming': 90.32866668701172, 'Talking': 66.86470794677734, 'Gesticuling': 71.0523910522461}}\n"
     ]
    },
    {
     "name": "stderr",
     "output_type": "stream",
     "text": [
      "  7%|▋         | 401/5352 [00:59<10:52,  7.59it/s]"
     ]
    },
    {
     "name": "stdout",
     "output_type": "stream",
     "text": [
      "{'FullBody': {'All': 77.79735565185547, 'LowerStretching': 78.17683410644531, 'UpperStretching': 80.4438247680664, 'Greeting': 57.903072357177734, 'Reacting': 69.65992736816406, 'Patting': 79.58594512939453, 'Walking': 74.391357421875, 'Gaming': 70.38699340820312, 'Talking': 57.55938720703125, 'Gesticuling': 60.571250915527344}, 'UpperBody': {'All': 60.269134521484375, 'LowerStretching': 50.981021881103516, 'UpperStretching': 65.62470245361328, 'Greeting': 51.31875991821289, 'Reacting': 58.71438980102539, 'Patting': 56.364192962646484, 'Walking': 52.60830307006836, 'Gaming': 54.67970657348633, 'Talking': 47.41033172607422, 'Gesticuling': 51.747013092041016}, 'LowerBody': {'All': 95.32556915283203, 'LowerStretching': 105.37264251708984, 'UpperStretching': 95.26296997070312, 'Greeting': 64.48738098144531, 'Reacting': 80.60545349121094, 'Patting': 102.80770111083984, 'Walking': 96.1744155883789, 'Gaming': 86.09428405761719, 'Talking': 67.70844268798828, 'Gesticuling': 69.39549255371094}}\n"
     ]
    },
    {
     "name": "stderr",
     "output_type": "stream",
     "text": [
      " 11%|█         | 601/5352 [01:27<10:18,  7.68it/s]"
     ]
    },
    {
     "name": "stdout",
     "output_type": "stream",
     "text": [
      "{'FullBody': {'All': 77.58267974853516, 'LowerStretching': 77.40262603759766, 'UpperStretching': 80.18599700927734, 'Greeting': 58.695838928222656, 'Reacting': 70.74335479736328, 'Patting': 79.10243225097656, 'Walking': 75.00918579101562, 'Gaming': 69.9465560913086, 'Talking': 57.585853576660156, 'Gesticuling': 60.45009231567383}, 'UpperBody': {'All': 60.121192932128906, 'LowerStretching': 50.5193977355957, 'UpperStretching': 65.49921417236328, 'Greeting': 52.619781494140625, 'Reacting': 58.612693786621094, 'Patting': 55.917110443115234, 'Walking': 53.113895416259766, 'Gaming': 55.428409576416016, 'Talking': 47.976810455322266, 'Gesticuling': 51.18458938598633}, 'LowerBody': {'All': 95.0441665649414, 'LowerStretching': 104.28587341308594, 'UpperStretching': 94.8727798461914, 'Greeting': 64.77189636230469, 'Reacting': 82.87401580810547, 'Patting': 102.28776550292969, 'Walking': 96.90447998046875, 'Gaming': 84.4646987915039, 'Talking': 67.19489288330078, 'Gesticuling': 69.7155990600586}}\n"
     ]
    },
    {
     "name": "stderr",
     "output_type": "stream",
     "text": [
      " 15%|█▍        | 801/5352 [01:54<10:54,  6.95it/s]"
     ]
    },
    {
     "name": "stdout",
     "output_type": "stream",
     "text": [
      "{'FullBody': {'All': 77.5978775024414, 'LowerStretching': 77.09827423095703, 'UpperStretching': 80.27806091308594, 'Greeting': 57.9761848449707, 'Reacting': 71.16271209716797, 'Patting': 80.73258209228516, 'Walking': 74.75628662109375, 'Gaming': 68.7395248413086, 'Talking': 57.41547393798828, 'Gesticuling': 61.41948699951172}, 'UpperBody': {'All': 60.070457458496094, 'LowerStretching': 50.296363830566406, 'UpperStretching': 65.5081558227539, 'Greeting': 51.842201232910156, 'Reacting': 58.258453369140625, 'Patting': 57.034812927246094, 'Walking': 53.08163833618164, 'Gaming': 54.78945541381836, 'Talking': 46.72096252441406, 'Gesticuling': 52.60525894165039}, 'LowerBody': {'All': 95.12528991699219, 'LowerStretching': 103.90019989013672, 'UpperStretching': 95.04796600341797, 'Greeting': 64.11016845703125, 'Reacting': 84.06697845458984, 'Patting': 104.43033599853516, 'Walking': 96.43093872070312, 'Gaming': 82.6895980834961, 'Talking': 68.10999298095703, 'Gesticuling': 70.23370361328125}}\n"
     ]
    },
    {
     "name": "stderr",
     "output_type": "stream",
     "text": [
      " 19%|█▊        | 1001/5352 [02:21<09:36,  7.55it/s]"
     ]
    },
    {
     "name": "stdout",
     "output_type": "stream",
     "text": [
      "{'FullBody': {'All': 77.35033416748047, 'LowerStretching': 76.76532745361328, 'UpperStretching': 79.96106719970703, 'Greeting': 58.3317985534668, 'Reacting': 71.05364227294922, 'Patting': 80.43008422851562, 'Walking': 74.58013916015625, 'Gaming': 69.2041015625, 'Talking': 56.53955078125, 'Gesticuling': 63.04436492919922}, 'UpperBody': {'All': 59.88794708251953, 'LowerStretching': 50.173912048339844, 'UpperStretching': 65.23119354248047, 'Greeting': 51.74208450317383, 'Reacting': 58.133304595947266, 'Patting': 56.54811096191406, 'Walking': 52.81375503540039, 'Gaming': 55.81447219848633, 'Talking': 46.18928909301758, 'Gesticuling': 54.05388641357422}, 'LowerBody': {'All': 94.8127212524414, 'LowerStretching': 103.35673522949219, 'UpperStretching': 94.69093322753906, 'Greeting': 64.92152404785156, 'Reacting': 83.9739761352539, 'Patting': 104.31204986572266, 'Walking': 96.34651947021484, 'Gaming': 82.59373474121094, 'Talking': 66.88981628417969, 'Gesticuling': 72.03485107421875}}\n"
     ]
    },
    {
     "name": "stderr",
     "output_type": "stream",
     "text": [
      " 22%|██▏       | 1201/5352 [02:48<09:01,  7.67it/s]"
     ]
    },
    {
     "name": "stdout",
     "output_type": "stream",
     "text": [
      "{'FullBody': {'All': 77.16482543945312, 'LowerStretching': 77.34003448486328, 'UpperStretching': 79.60659790039062, 'Greeting': 57.764305114746094, 'Reacting': 70.93257141113281, 'Patting': 78.97474670410156, 'Walking': 74.18167877197266, 'Gaming': 69.56265258789062, 'Talking': 56.63626480102539, 'Gesticuling': 62.997127532958984}, 'UpperBody': {'All': 59.84403610229492, 'LowerStretching': 50.482051849365234, 'UpperStretching': 65.0967025756836, 'Greeting': 51.3113899230957, 'Reacting': 58.813785552978516, 'Patting': 55.20235824584961, 'Walking': 52.60459518432617, 'Gaming': 56.2797966003418, 'Talking': 46.040748596191406, 'Gesticuling': 54.21116638183594}, 'LowerBody': {'All': 94.48562622070312, 'LowerStretching': 104.19803619384766, 'UpperStretching': 94.11647033691406, 'Greeting': 64.21721649169922, 'Reacting': 83.05134582519531, 'Patting': 102.74713897705078, 'Walking': 95.75875091552734, 'Gaming': 82.84550476074219, 'Talking': 67.2317886352539, 'Gesticuling': 71.78307342529297}}\n"
     ]
    },
    {
     "name": "stderr",
     "output_type": "stream",
     "text": [
      " 26%|██▌       | 1401/5352 [03:15<09:39,  6.82it/s]"
     ]
    },
    {
     "name": "stdout",
     "output_type": "stream",
     "text": [
      "{'FullBody': {'All': 77.20958709716797, 'LowerStretching': 77.30294036865234, 'UpperStretching': 79.67089080810547, 'Greeting': 57.364166259765625, 'Reacting': 70.96148681640625, 'Patting': 78.48066711425781, 'Walking': 74.31109619140625, 'Gaming': 69.7466812133789, 'Talking': 56.466285705566406, 'Gesticuling': 62.558021545410156}, 'UpperBody': {'All': 59.875816345214844, 'LowerStretching': 50.45304489135742, 'UpperStretching': 65.17657470703125, 'Greeting': 50.86092758178711, 'Reacting': 58.592166900634766, 'Patting': 54.858001708984375, 'Walking': 52.67531967163086, 'Gaming': 56.12571716308594, 'Talking': 46.21627426147461, 'Gesticuling': 53.90146255493164}, 'LowerBody': {'All': 94.54337310791016, 'LowerStretching': 104.15281677246094, 'UpperStretching': 94.16519165039062, 'Greeting': 63.86740493774414, 'Reacting': 83.33080291748047, 'Patting': 102.10334014892578, 'Walking': 95.9468765258789, 'Gaming': 83.3676528930664, 'Talking': 66.71629333496094, 'Gesticuling': 71.21458435058594}}\n"
     ]
    },
    {
     "name": "stderr",
     "output_type": "stream",
     "text": [
      " 30%|██▉       | 1601/5352 [03:42<08:12,  7.62it/s]"
     ]
    },
    {
     "name": "stdout",
     "output_type": "stream",
     "text": [
      "{'FullBody': {'All': 77.21844482421875, 'LowerStretching': 77.24212646484375, 'UpperStretching': 79.72760009765625, 'Greeting': 57.29916000366211, 'Reacting': 70.30989837646484, 'Patting': 79.49098205566406, 'Walking': 74.17095184326172, 'Gaming': 69.50501251220703, 'Talking': 56.553409576416016, 'Gesticuling': 62.21892547607422}, 'UpperBody': {'All': 59.86296844482422, 'LowerStretching': 50.40410614013672, 'UpperStretching': 65.15545654296875, 'Greeting': 50.6861686706543, 'Reacting': 58.1357536315918, 'Patting': 55.49326705932617, 'Walking': 52.61003875732422, 'Gaming': 56.10053253173828, 'Talking': 46.5198974609375, 'Gesticuling': 53.515296936035156}, 'LowerBody': {'All': 94.57391357421875, 'LowerStretching': 104.08015441894531, 'UpperStretching': 94.29973602294922, 'Greeting': 63.91215515136719, 'Reacting': 82.48403930664062, 'Patting': 103.48869323730469, 'Walking': 95.73185729980469, 'Gaming': 82.90949249267578, 'Talking': 66.58692169189453, 'Gesticuling': 70.92255401611328}}\n"
     ]
    },
    {
     "name": "stderr",
     "output_type": "stream",
     "text": [
      " 34%|███▎      | 1801/5352 [04:09<07:44,  7.65it/s]"
     ]
    },
    {
     "name": "stdout",
     "output_type": "stream",
     "text": [
      "{'FullBody': {'All': 77.15493774414062, 'LowerStretching': 77.12765502929688, 'UpperStretching': 79.62570190429688, 'Greeting': 57.34493637084961, 'Reacting': 70.68403625488281, 'Patting': 79.55619049072266, 'Walking': 74.13914489746094, 'Gaming': 69.2408676147461, 'Talking': 56.07487487792969, 'Gesticuling': 62.345497131347656}, 'UpperBody': {'All': 59.829673767089844, 'LowerStretching': 50.357566833496094, 'UpperStretching': 65.1058120727539, 'Greeting': 50.641902923583984, 'Reacting': 58.43076705932617, 'Patting': 55.33586120605469, 'Walking': 52.55360412597656, 'Gaming': 55.83915328979492, 'Talking': 45.96494674682617, 'Gesticuling': 53.588897705078125}, 'LowerBody': {'All': 94.48019409179688, 'LowerStretching': 103.89774322509766, 'UpperStretching': 94.14557647705078, 'Greeting': 64.04795837402344, 'Reacting': 82.93730163574219, 'Patting': 103.77651977539062, 'Walking': 95.72468566894531, 'Gaming': 82.64257049560547, 'Talking': 66.1847915649414, 'Gesticuling': 71.10209655761719}}\n"
     ]
    },
    {
     "name": "stderr",
     "output_type": "stream",
     "text": [
      " 37%|███▋      | 2001/5352 [04:36<07:59,  6.99it/s]"
     ]
    },
    {
     "name": "stdout",
     "output_type": "stream",
     "text": [
      "{'FullBody': {'All': 77.0564193725586, 'LowerStretching': 77.09903717041016, 'UpperStretching': 79.45171356201172, 'Greeting': 56.7571907043457, 'Reacting': 70.4856948852539, 'Patting': 79.23257446289062, 'Walking': 74.3565673828125, 'Gaming': 69.10862731933594, 'Talking': 55.75523376464844, 'Gesticuling': 62.57025146484375}, 'UpperBody': {'All': 59.74067306518555, 'LowerStretching': 50.34397506713867, 'UpperStretching': 64.9498519897461, 'Greeting': 49.976627349853516, 'Reacting': 58.12042999267578, 'Patting': 55.416221618652344, 'Walking': 52.695491790771484, 'Gaming': 56.29886245727539, 'Talking': 45.906105041503906, 'Gesticuling': 53.52361297607422}, 'LowerBody': {'All': 94.3721694946289, 'LowerStretching': 103.8541030883789, 'UpperStretching': 93.95355987548828, 'Greeting': 63.537750244140625, 'Reacting': 82.85096740722656, 'Patting': 103.04891967773438, 'Walking': 96.01764678955078, 'Gaming': 81.91838836669922, 'Talking': 65.60436248779297, 'Gesticuling': 71.61688995361328}}\n"
     ]
    },
    {
     "name": "stderr",
     "output_type": "stream",
     "text": [
      " 41%|████      | 2201/5352 [05:03<06:58,  7.52it/s]"
     ]
    },
    {
     "name": "stdout",
     "output_type": "stream",
     "text": [
      "{'FullBody': {'All': 76.96072387695312, 'LowerStretching': 77.16727447509766, 'UpperStretching': 79.29450988769531, 'Greeting': 56.69218444824219, 'Reacting': 70.05189514160156, 'Patting': 80.03521728515625, 'Walking': 74.25447845458984, 'Gaming': 68.98103332519531, 'Talking': 56.04509735107422, 'Gesticuling': 62.47578811645508}, 'UpperBody': {'All': 59.593570709228516, 'LowerStretching': 50.29784393310547, 'UpperStretching': 64.74866485595703, 'Greeting': 49.984458923339844, 'Reacting': 57.99209976196289, 'Patting': 55.677616119384766, 'Walking': 52.575931549072266, 'Gaming': 55.750919342041016, 'Talking': 46.20163345336914, 'Gesticuling': 53.61092758178711}, 'LowerBody': {'All': 94.32787322998047, 'LowerStretching': 104.03669738769531, 'UpperStretching': 93.84034729003906, 'Greeting': 63.39992141723633, 'Reacting': 82.11168670654297, 'Patting': 104.39281463623047, 'Walking': 95.93303680419922, 'Gaming': 82.21114349365234, 'Talking': 65.88856506347656, 'Gesticuling': 71.34064483642578}}\n"
     ]
    },
    {
     "name": "stderr",
     "output_type": "stream",
     "text": [
      " 45%|████▍     | 2401/5352 [05:30<06:31,  7.54it/s]"
     ]
    },
    {
     "name": "stdout",
     "output_type": "stream",
     "text": [
      "{'FullBody': {'All': 76.83677673339844, 'LowerStretching': 77.13296508789062, 'UpperStretching': 79.16048431396484, 'Greeting': 56.351715087890625, 'Reacting': 70.2066879272461, 'Patting': 79.87700653076172, 'Walking': 74.12638854980469, 'Gaming': 68.87665557861328, 'Talking': 56.15897750854492, 'Gesticuling': 62.158145904541016}, 'UpperBody': {'All': 59.50879669189453, 'LowerStretching': 50.27780532836914, 'UpperStretching': 64.62151336669922, 'Greeting': 49.62566375732422, 'Reacting': 58.047611236572266, 'Patting': 55.49655532836914, 'Walking': 52.56568908691406, 'Gaming': 55.91116714477539, 'Talking': 46.44929885864258, 'Gesticuling': 53.38218688964844}, 'LowerBody': {'All': 94.16476440429688, 'LowerStretching': 103.98812866210938, 'UpperStretching': 93.69943237304688, 'Greeting': 63.0777702331543, 'Reacting': 82.36577606201172, 'Patting': 104.25745391845703, 'Walking': 95.68709564208984, 'Gaming': 81.84215545654297, 'Talking': 65.86865997314453, 'Gesticuling': 70.93409729003906}}\n"
     ]
    },
    {
     "name": "stderr",
     "output_type": "stream",
     "text": [
      " 49%|████▊     | 2601/5352 [05:57<06:22,  7.19it/s]"
     ]
    },
    {
     "name": "stdout",
     "output_type": "stream",
     "text": [
      "{'FullBody': {'All': 76.78731536865234, 'LowerStretching': 77.06655883789062, 'UpperStretching': 79.09423065185547, 'Greeting': 56.12952423095703, 'Reacting': 70.22286987304688, 'Patting': 79.82404327392578, 'Walking': 74.13607025146484, 'Gaming': 69.0514144897461, 'Talking': 56.132530212402344, 'Gesticuling': 62.39737319946289}, 'UpperBody': {'All': 59.451358795166016, 'LowerStretching': 50.1917610168457, 'UpperStretching': 64.56559753417969, 'Greeting': 49.24934768676758, 'Reacting': 58.073997497558594, 'Patting': 55.450565338134766, 'Walking': 52.47294616699219, 'Gaming': 55.8832893371582, 'Talking': 46.629459381103516, 'Gesticuling': 53.638858795166016}, 'LowerBody': {'All': 94.12327575683594, 'LowerStretching': 103.94135284423828, 'UpperStretching': 93.62284088134766, 'Greeting': 63.00969314575195, 'Reacting': 82.37174987792969, 'Patting': 104.19752502441406, 'Walking': 95.79918670654297, 'Gaming': 82.21954345703125, 'Talking': 65.63560485839844, 'Gesticuling': 71.1558837890625}}\n"
     ]
    },
    {
     "name": "stderr",
     "output_type": "stream",
     "text": [
      " 52%|█████▏    | 2801/5352 [06:24<05:52,  7.24it/s]"
     ]
    },
    {
     "name": "stdout",
     "output_type": "stream",
     "text": [
      "{'FullBody': {'All': 76.75688934326172, 'LowerStretching': 76.99263763427734, 'UpperStretching': 79.04859924316406, 'Greeting': 56.04923629760742, 'Reacting': 69.94208526611328, 'Patting': 80.33970642089844, 'Walking': 74.29721069335938, 'Gaming': 69.04405212402344, 'Talking': 56.552757263183594, 'Gesticuling': 62.22500991821289}, 'UpperBody': {'All': 59.39899444580078, 'LowerStretching': 50.16925048828125, 'UpperStretching': 64.50390625, 'Greeting': 49.22431564331055, 'Reacting': 57.72692108154297, 'Patting': 55.91029357910156, 'Walking': 52.57252883911133, 'Gaming': 56.0205192565918, 'Talking': 46.71558380126953, 'Gesticuling': 53.45783615112305}, 'LowerBody': {'All': 94.11478424072266, 'LowerStretching': 103.81600952148438, 'UpperStretching': 93.59329223632812, 'Greeting': 62.87416458129883, 'Reacting': 82.1572494506836, 'Patting': 104.76912689208984, 'Walking': 96.02188873291016, 'Gaming': 82.06758117675781, 'Talking': 66.38992309570312, 'Gesticuling': 70.9921875}}\n"
     ]
    },
    {
     "name": "stderr",
     "output_type": "stream",
     "text": [
      " 56%|█████▌    | 3001/5352 [06:51<05:18,  7.39it/s]"
     ]
    },
    {
     "name": "stdout",
     "output_type": "stream",
     "text": [
      "{'FullBody': {'All': 76.81554412841797, 'LowerStretching': 76.98426818847656, 'UpperStretching': 79.07169342041016, 'Greeting': 56.447235107421875, 'Reacting': 69.90123748779297, 'Patting': 81.14102935791016, 'Walking': 74.54427337646484, 'Gaming': 69.05198669433594, 'Talking': 56.55588150024414, 'Gesticuling': 62.19456100463867}, 'UpperBody': {'All': 59.436988830566406, 'LowerStretching': 50.13735580444336, 'UpperStretching': 64.53020477294922, 'Greeting': 49.63003158569336, 'Reacting': 57.564048767089844, 'Patting': 56.53323745727539, 'Walking': 52.78402328491211, 'Gaming': 56.00935363769531, 'Talking': 46.63563919067383, 'Gesticuling': 53.326324462890625}, 'LowerBody': {'All': 94.19410705566406, 'LowerStretching': 103.83118438720703, 'UpperStretching': 93.61317443847656, 'Greeting': 63.26444625854492, 'Reacting': 82.23841857910156, 'Patting': 105.74881744384766, 'Walking': 96.30451202392578, 'Gaming': 82.09461212158203, 'Talking': 66.47612762451172, 'Gesticuling': 71.06279754638672}}\n"
     ]
    },
    {
     "name": "stderr",
     "output_type": "stream",
     "text": [
      " 60%|█████▉    | 3201/5352 [07:18<05:27,  6.56it/s]"
     ]
    },
    {
     "name": "stdout",
     "output_type": "stream",
     "text": [
      "{'FullBody': {'All': 76.7770767211914, 'LowerStretching': 76.94304656982422, 'UpperStretching': 79.05342102050781, 'Greeting': 56.157615661621094, 'Reacting': 70.14066314697266, 'Patting': 81.05709075927734, 'Walking': 74.46031188964844, 'Gaming': 68.81989288330078, 'Talking': 56.694732666015625, 'Gesticuling': 62.07722091674805}, 'UpperBody': {'All': 59.451778411865234, 'LowerStretching': 50.13718032836914, 'UpperStretching': 64.5503158569336, 'Greeting': 49.465850830078125, 'Reacting': 57.87037658691406, 'Patting': 56.43246841430664, 'Walking': 52.81431579589844, 'Gaming': 55.542991638183594, 'Talking': 46.8148078918457, 'Gesticuling': 53.30876159667969}, 'LowerBody': {'All': 94.10238647460938, 'LowerStretching': 103.7489013671875, 'UpperStretching': 93.55651092529297, 'Greeting': 62.84937286376953, 'Reacting': 82.41095733642578, 'Patting': 105.68170928955078, 'Walking': 96.1063003540039, 'Gaming': 82.0968017578125, 'Talking': 66.57466125488281, 'Gesticuling': 70.84568786621094}}\n"
     ]
    },
    {
     "name": "stderr",
     "output_type": "stream",
     "text": [
      " 64%|██████▎   | 3401/5352 [07:46<04:33,  7.13it/s]"
     ]
    },
    {
     "name": "stdout",
     "output_type": "stream",
     "text": [
      "{'FullBody': {'All': 76.79678344726562, 'LowerStretching': 77.07906341552734, 'UpperStretching': 79.06478118896484, 'Greeting': 56.136878967285156, 'Reacting': 69.94400787353516, 'Patting': 81.47941589355469, 'Walking': 74.37490844726562, 'Gaming': 68.5602035522461, 'Talking': 56.65196228027344, 'Gesticuling': 62.04339599609375}, 'UpperBody': {'All': 59.452415466308594, 'LowerStretching': 50.17092514038086, 'UpperStretching': 64.54464721679688, 'Greeting': 49.42692565917969, 'Reacting': 57.854610443115234, 'Patting': 56.871280670166016, 'Walking': 52.77153778076172, 'Gaming': 55.316036224365234, 'Talking': 46.85548400878906, 'Gesticuling': 53.25307083129883}, 'LowerBody': {'All': 94.1411361694336, 'LowerStretching': 103.98719787597656, 'UpperStretching': 93.58490753173828, 'Greeting': 62.846839904785156, 'Reacting': 82.03340911865234, 'Patting': 106.08753204345703, 'Walking': 95.978271484375, 'Gaming': 81.80438232421875, 'Talking': 66.44844055175781, 'Gesticuling': 70.83372497558594}}\n"
     ]
    },
    {
     "name": "stderr",
     "output_type": "stream",
     "text": [
      " 67%|██████▋   | 3601/5352 [08:13<03:58,  7.34it/s]"
     ]
    },
    {
     "name": "stdout",
     "output_type": "stream",
     "text": [
      "{'FullBody': {'All': 76.78425598144531, 'LowerStretching': 77.11527252197266, 'UpperStretching': 79.01404571533203, 'Greeting': 55.917545318603516, 'Reacting': 69.76494598388672, 'Patting': 81.88780975341797, 'Walking': 74.520263671875, 'Gaming': 68.41765594482422, 'Talking': 56.785343170166016, 'Gesticuling': 61.90082931518555}, 'UpperBody': {'All': 59.4423828125, 'LowerStretching': 50.19364547729492, 'UpperStretching': 64.5194320678711, 'Greeting': 49.13806915283203, 'Reacting': 57.762088775634766, 'Patting': 57.26337432861328, 'Walking': 52.85393142700195, 'Gaming': 55.012386322021484, 'Talking': 46.947059631347656, 'Gesticuling': 53.09539794921875}, 'LowerBody': {'All': 94.12611389160156, 'LowerStretching': 104.03689575195312, 'UpperStretching': 93.50865936279297, 'Greeting': 62.697021484375, 'Reacting': 81.76779174804688, 'Patting': 106.51223754882812, 'Walking': 96.18659973144531, 'Gaming': 81.82293701171875, 'Talking': 66.62362670898438, 'Gesticuling': 70.70626068115234}}\n"
     ]
    },
    {
     "name": "stderr",
     "output_type": "stream",
     "text": [
      " 71%|███████   | 3801/5352 [08:40<03:49,  6.77it/s]"
     ]
    },
    {
     "name": "stdout",
     "output_type": "stream",
     "text": [
      "{'FullBody': {'All': 76.80177307128906, 'LowerStretching': 77.14820861816406, 'UpperStretching': 79.02477264404297, 'Greeting': 56.22580337524414, 'Reacting': 69.54129791259766, 'Patting': 81.73516845703125, 'Walking': 74.6124496459961, 'Gaming': 68.5911865234375, 'Talking': 56.918697357177734, 'Gesticuling': 61.862239837646484}, 'UpperBody': {'All': 59.45340347290039, 'LowerStretching': 50.18497848510742, 'UpperStretching': 64.55473327636719, 'Greeting': 49.42398452758789, 'Reacting': 57.46480178833008, 'Patting': 57.112545013427734, 'Walking': 52.877410888671875, 'Gaming': 54.97550582885742, 'Talking': 46.95618438720703, 'Gesticuling': 53.07965087890625}, 'LowerBody': {'All': 94.15013885498047, 'LowerStretching': 104.1114501953125, 'UpperStretching': 93.49481201171875, 'Greeting': 63.02761459350586, 'Reacting': 81.61778259277344, 'Patting': 106.35778045654297, 'Walking': 96.34748840332031, 'Gaming': 82.20686340332031, 'Talking': 66.88121032714844, 'Gesticuling': 70.64482116699219}}\n"
     ]
    },
    {
     "name": "stderr",
     "output_type": "stream",
     "text": [
      " 75%|███████▍  | 4001/5352 [09:07<03:09,  7.13it/s]"
     ]
    },
    {
     "name": "stdout",
     "output_type": "stream",
     "text": [
      "{'FullBody': {'All': 76.81255340576172, 'LowerStretching': 77.16787719726562, 'UpperStretching': 79.03276824951172, 'Greeting': 56.18380355834961, 'Reacting': 69.36713409423828, 'Patting': 81.99897003173828, 'Walking': 74.6343002319336, 'Gaming': 68.50762176513672, 'Talking': 56.85993576049805, 'Gesticuling': 62.08564376831055}, 'UpperBody': {'All': 59.503292083740234, 'LowerStretching': 50.19243621826172, 'UpperStretching': 64.62037658691406, 'Greeting': 49.44921875, 'Reacting': 57.33687210083008, 'Patting': 57.56919479370117, 'Walking': 52.86963653564453, 'Gaming': 54.87643814086914, 'Talking': 46.894073486328125, 'Gesticuling': 53.374691009521484}, 'LowerBody': {'All': 94.1218032836914, 'LowerStretching': 104.1433334350586, 'UpperStretching': 93.44515228271484, 'Greeting': 62.91840744018555, 'Reacting': 81.39741516113281, 'Patting': 106.42874145507812, 'Walking': 96.39896392822266, 'Gaming': 82.13880157470703, 'Talking': 66.82579803466797, 'Gesticuling': 70.79659271240234}}\n"
     ]
    },
    {
     "name": "stderr",
     "output_type": "stream",
     "text": [
      " 78%|███████▊  | 4201/5352 [09:34<02:39,  7.19it/s]"
     ]
    },
    {
     "name": "stdout",
     "output_type": "stream",
     "text": [
      "{'FullBody': {'All': 76.73031616210938, 'LowerStretching': 77.10244750976562, 'UpperStretching': 78.9244155883789, 'Greeting': 56.07724380493164, 'Reacting': 69.34065246582031, 'Patting': 81.78532409667969, 'Walking': 74.6572494506836, 'Gaming': 68.31585693359375, 'Talking': 56.8045539855957, 'Gesticuling': 62.16413879394531}, 'UpperBody': {'All': 59.41388702392578, 'LowerStretching': 50.16108703613281, 'UpperStretching': 64.4984359741211, 'Greeting': 49.27711868286133, 'Reacting': 57.23992919921875, 'Patting': 57.48008728027344, 'Walking': 52.913330078125, 'Gaming': 54.62982940673828, 'Talking': 46.807342529296875, 'Gesticuling': 53.45543670654297}, 'LowerBody': {'All': 94.04674530029297, 'LowerStretching': 104.0438003540039, 'UpperStretching': 93.35037231445312, 'Greeting': 62.87737274169922, 'Reacting': 81.44136810302734, 'Patting': 106.09056854248047, 'Walking': 96.40116119384766, 'Gaming': 82.00189208984375, 'Talking': 66.8017578125, 'Gesticuling': 70.87284088134766}}\n"
     ]
    },
    {
     "name": "stderr",
     "output_type": "stream",
     "text": [
      " 82%|████████▏ | 4401/5352 [10:01<02:27,  6.43it/s]"
     ]
    },
    {
     "name": "stdout",
     "output_type": "stream",
     "text": [
      "{'FullBody': {'All': 76.7403564453125, 'LowerStretching': 77.10440063476562, 'UpperStretching': 78.93450164794922, 'Greeting': 56.02091979980469, 'Reacting': 69.34774017333984, 'Patting': 81.77774810791016, 'Walking': 74.72885131835938, 'Gaming': 68.1552505493164, 'Talking': 56.87917709350586, 'Gesticuling': 62.002445220947266}, 'UpperBody': {'All': 59.41789627075195, 'LowerStretching': 50.200077056884766, 'UpperStretching': 64.48806762695312, 'Greeting': 49.2498893737793, 'Reacting': 57.346683502197266, 'Patting': 57.40541458129883, 'Walking': 52.982627868652344, 'Gaming': 54.387290954589844, 'Talking': 46.83646774291992, 'Gesticuling': 53.34608459472656}, 'LowerBody': {'All': 94.06281280517578, 'LowerStretching': 104.00872802734375, 'UpperStretching': 93.38092803955078, 'Greeting': 62.791954040527344, 'Reacting': 81.3487777709961, 'Patting': 106.15007781982422, 'Walking': 96.47509002685547, 'Gaming': 81.92320251464844, 'Talking': 66.92188262939453, 'Gesticuling': 70.65879821777344}}\n"
     ]
    },
    {
     "name": "stderr",
     "output_type": "stream",
     "text": [
      " 86%|████████▌ | 4601/5352 [10:28<01:48,  6.95it/s]"
     ]
    },
    {
     "name": "stdout",
     "output_type": "stream",
     "text": [
      "{'FullBody': {'All': 76.76940155029297, 'LowerStretching': 77.1330795288086, 'UpperStretching': 78.94698333740234, 'Greeting': 56.088287353515625, 'Reacting': 69.36685180664062, 'Patting': 82.01021575927734, 'Walking': 74.7413330078125, 'Gaming': 68.25176239013672, 'Talking': 56.92845916748047, 'Gesticuling': 62.091224670410156}, 'UpperBody': {'All': 59.44103240966797, 'LowerStretching': 50.2297477722168, 'UpperStretching': 64.49223327636719, 'Greeting': 49.1943359375, 'Reacting': 57.296634674072266, 'Patting': 57.64439392089844, 'Walking': 53.02460861206055, 'Gaming': 54.518001556396484, 'Talking': 46.81681442260742, 'Gesticuling': 53.503746032714844}, 'LowerBody': {'All': 94.09776306152344, 'LowerStretching': 104.03641510009766, 'UpperStretching': 93.40172576904297, 'Greeting': 62.982242584228516, 'Reacting': 81.43707275390625, 'Patting': 106.37604522705078, 'Walking': 96.45805358886719, 'Gaming': 81.98551940917969, 'Talking': 67.04010009765625, 'Gesticuling': 70.6786880493164}}\n"
     ]
    },
    {
     "name": "stderr",
     "output_type": "stream",
     "text": [
      " 90%|████████▉ | 4801/5352 [10:56<01:17,  7.09it/s]"
     ]
    },
    {
     "name": "stdout",
     "output_type": "stream",
     "text": [
      "{'FullBody': {'All': 76.7402114868164, 'LowerStretching': 77.08475494384766, 'UpperStretching': 78.89649963378906, 'Greeting': 56.10342025756836, 'Reacting': 69.56828308105469, 'Patting': 81.56683349609375, 'Walking': 74.80257415771484, 'Gaming': 68.36344909667969, 'Talking': 56.90463638305664, 'Gesticuling': 62.098873138427734}, 'UpperBody': {'All': 59.42197799682617, 'LowerStretching': 50.22901153564453, 'UpperStretching': 64.45866394042969, 'Greeting': 49.27204895019531, 'Reacting': 57.4138069152832, 'Patting': 57.35001754760742, 'Walking': 53.060508728027344, 'Gaming': 54.5863037109375, 'Talking': 46.79279708862305, 'Gesticuling': 53.502471923828125}, 'LowerBody': {'All': 94.05844116210938, 'LowerStretching': 103.94049072265625, 'UpperStretching': 93.3343276977539, 'Greeting': 62.93479537963867, 'Reacting': 81.72276306152344, 'Patting': 105.78364562988281, 'Walking': 96.5446548461914, 'Gaming': 82.1406021118164, 'Talking': 67.0164794921875, 'Gesticuling': 70.69527435302734}}\n"
     ]
    },
    {
     "name": "stderr",
     "output_type": "stream",
     "text": [
      " 93%|█████████▎| 5000/5352 [11:23<00:51,  6.88it/s]"
     ]
    },
    {
     "name": "stdout",
     "output_type": "stream",
     "text": [
      "{'FullBody': {'All': 76.75071716308594, 'LowerStretching': 77.09374237060547, 'UpperStretching': 78.92542266845703, 'Greeting': 56.298255920410156, 'Reacting': 69.54694366455078, 'Patting': 81.39452362060547, 'Walking': 74.73158264160156, 'Gaming': 68.37718963623047, 'Talking': 56.8910026550293, 'Gesticuling': 62.19625473022461}, 'UpperBody': {'All': 59.439998626708984, 'LowerStretching': 50.24156188964844, 'UpperStretching': 64.48966979980469, 'Greeting': 49.43009948730469, 'Reacting': 57.39347457885742, 'Patting': 57.24758529663086, 'Walking': 53.0207405090332, 'Gaming': 54.60651397705078, 'Talking': 46.791893005371094, 'Gesticuling': 53.588443756103516}, 'LowerBody': {'All': 94.0614242553711, 'LowerStretching': 103.94591522216797, 'UpperStretching': 93.36117553710938, 'Greeting': 63.166412353515625, 'Reacting': 81.70042419433594, 'Patting': 105.54145050048828, 'Walking': 96.44243621826172, 'Gaming': 82.14786529541016, 'Talking': 66.99012756347656, 'Gesticuling': 70.80406188964844}}\n"
     ]
    },
    {
     "name": "stderr",
     "output_type": "stream",
     "text": [
      " 97%|█████████▋| 5201/5352 [11:50<00:21,  7.08it/s]"
     ]
    },
    {
     "name": "stdout",
     "output_type": "stream",
     "text": [
      "{'FullBody': {'All': 76.73600006103516, 'LowerStretching': 77.08084869384766, 'UpperStretching': 78.92781066894531, 'Greeting': 56.25994873046875, 'Reacting': 69.51773834228516, 'Patting': 81.2666244506836, 'Walking': 74.68968200683594, 'Gaming': 68.30242156982422, 'Talking': 56.84638977050781, 'Gesticuling': 62.13520812988281}, 'UpperBody': {'All': 59.41865921020508, 'LowerStretching': 50.22029113769531, 'UpperStretching': 64.47465515136719, 'Greeting': 49.37297439575195, 'Reacting': 57.47853469848633, 'Patting': 57.22838592529297, 'Walking': 52.97147750854492, 'Gaming': 54.47246170043945, 'Talking': 46.74457931518555, 'Gesticuling': 53.51545333862305}, 'LowerBody': {'All': 94.05335235595703, 'LowerStretching': 103.94141387939453, 'UpperStretching': 93.38095092773438, 'Greeting': 63.14692687988281, 'Reacting': 81.55694580078125, 'Patting': 105.30486297607422, 'Walking': 96.40789794921875, 'Gaming': 82.13237762451172, 'Talking': 66.94819641113281, 'Gesticuling': 70.75496673583984}}\n"
     ]
    },
    {
     "name": "stderr",
     "output_type": "stream",
     "text": [
      "100%|██████████| 5352/5352 [12:10<00:00,  7.32it/s]\n",
      "\u001b[94m08:40:17 \u001b[92m[INFO]\u001b[94m Main\u001b[0m: Saving evaluation results...\n",
      "\u001b[94m08:40:17 \u001b[92m[INFO]\u001b[94m Main\u001b[0m: Done.\n",
      "\u001b[94m08:40:17 \u001b[92m[INFO]\u001b[94m Main\u001b[0m: Starting demo...\n",
      "  0%|          | 0/5352 [00:00<?, ?it/s]/opt/conda/lib/python3.10/site-packages/torchvision/transforms/transforms.py:329: UserWarning: Argument 'interpolation' of type int is deprecated since 0.13 and will be removed in 0.15. Please use InterpolationMode enum.\n",
      "  warnings.warn(\n",
      "/opt/conda/lib/python3.10/site-packages/torchvision/transforms/transforms.py:329: UserWarning: Argument 'interpolation' of type int is deprecated since 0.13 and will be removed in 0.15. Please use InterpolationMode enum.\n",
      "  warnings.warn(\n",
      "/opt/conda/lib/python3.10/site-packages/torchvision/transforms/transforms.py:329: UserWarning: Argument 'interpolation' of type int is deprecated since 0.13 and will be removed in 0.15. Please use InterpolationMode enum.\n",
      "  warnings.warn(\n",
      "/opt/conda/lib/python3.10/site-packages/torchvision/transforms/transforms.py:329: UserWarning: Argument 'interpolation' of type int is deprecated since 0.13 and will be removed in 0.15. Please use InterpolationMode enum.\n",
      "  warnings.warn(\n",
      "/opt/conda/lib/python3.10/site-packages/torchvision/transforms/transforms.py:329: UserWarning: Argument 'interpolation' of type int is deprecated since 0.13 and will be removed in 0.15. Please use InterpolationMode enum.\n",
      "  warnings.warn(\n",
      "/opt/conda/lib/python3.10/site-packages/torchvision/transforms/transforms.py:329: UserWarning: Argument 'interpolation' of type int is deprecated since 0.13 and will be removed in 0.15. Please use InterpolationMode enum.\n",
      "  warnings.warn(\n",
      "/opt/conda/lib/python3.10/site-packages/torchvision/transforms/transforms.py:329: UserWarning: Argument 'interpolation' of type int is deprecated since 0.13 and will be removed in 0.15. Please use InterpolationMode enum.\n",
      "  warnings.warn(\n",
      "/opt/conda/lib/python3.10/site-packages/torchvision/transforms/transforms.py:329: UserWarning: Argument 'interpolation' of type int is deprecated since 0.13 and will be removed in 0.15. Please use InterpolationMode enum.\n",
      "  warnings.warn(\n",
      "/opt/conda/lib/python3.10/site-packages/torchvision/transforms/transforms.py:329: UserWarning: Argument 'interpolation' of type int is deprecated since 0.13 and will be removed in 0.15. Please use InterpolationMode enum.\n",
      "  warnings.warn(\n",
      "/opt/conda/lib/python3.10/site-packages/torchvision/transforms/transforms.py:329: UserWarning: Argument 'interpolation' of type int is deprecated since 0.13 and will be removed in 0.15. Please use InterpolationMode enum.\n",
      "  warnings.warn(\n",
      "/opt/conda/lib/python3.10/site-packages/torchvision/transforms/transforms.py:329: UserWarning: Argument 'interpolation' of type int is deprecated since 0.13 and will be removed in 0.15. Please use InterpolationMode enum.\n",
      "  warnings.warn(\n",
      "/opt/conda/lib/python3.10/site-packages/torchvision/transforms/transforms.py:329: UserWarning: Argument 'interpolation' of type int is deprecated since 0.13 and will be removed in 0.15. Please use InterpolationMode enum.\n",
      "  warnings.warn(\n",
      "/opt/conda/lib/python3.10/site-packages/torchvision/transforms/transforms.py:329: UserWarning: Argument 'interpolation' of type int is deprecated since 0.13 and will be removed in 0.15. Please use InterpolationMode enum.\n",
      "  warnings.warn(\n",
      "/opt/conda/lib/python3.10/site-packages/torchvision/transforms/transforms.py:329: UserWarning: Argument 'interpolation' of type int is deprecated since 0.13 and will be removed in 0.15. Please use InterpolationMode enum.\n",
      "  warnings.warn(\n",
      "/opt/conda/lib/python3.10/site-packages/torchvision/transforms/transforms.py:329: UserWarning: Argument 'interpolation' of type int is deprecated since 0.13 and will be removed in 0.15. Please use InterpolationMode enum.\n",
      "  warnings.warn(\n",
      "/opt/conda/lib/python3.10/site-packages/torchvision/transforms/transforms.py:329: UserWarning: Argument 'interpolation' of type int is deprecated since 0.13 and will be removed in 0.15. Please use InterpolationMode enum.\n",
      "  warnings.warn(\n",
      "/opt/conda/lib/python3.10/site-packages/torchvision/transforms/transforms.py:329: UserWarning: Argument 'interpolation' of type int is deprecated since 0.13 and will be removed in 0.15. Please use InterpolationMode enum.\n",
      "  warnings.warn(\n",
      "/opt/conda/lib/python3.10/site-packages/torchvision/transforms/transforms.py:329: UserWarning: Argument 'interpolation' of type int is deprecated since 0.13 and will be removed in 0.15. Please use InterpolationMode enum.\n",
      "  warnings.warn(\n",
      "/opt/conda/lib/python3.10/site-packages/torchvision/transforms/transforms.py:329: UserWarning: Argument 'interpolation' of type int is deprecated since 0.13 and will be removed in 0.15. Please use InterpolationMode enum.\n",
      "  warnings.warn(\n",
      "/opt/conda/lib/python3.10/site-packages/torchvision/transforms/transforms.py:329: UserWarning: Argument 'interpolation' of type int is deprecated since 0.13 and will be removed in 0.15. Please use InterpolationMode enum.\n",
      "  warnings.warn(\n",
      "/opt/conda/lib/python3.10/site-packages/torchvision/transforms/transforms.py:329: UserWarning: Argument 'interpolation' of type int is deprecated since 0.13 and will be removed in 0.15. Please use InterpolationMode enum.\n",
      "  warnings.warn(\n",
      "/opt/conda/lib/python3.10/site-packages/torchvision/transforms/transforms.py:329: UserWarning: Argument 'interpolation' of type int is deprecated since 0.13 and will be removed in 0.15. Please use InterpolationMode enum.\n",
      "  warnings.warn(\n",
      "/opt/conda/lib/python3.10/site-packages/torchvision/transforms/transforms.py:329: UserWarning: Argument 'interpolation' of type int is deprecated since 0.13 and will be removed in 0.15. Please use InterpolationMode enum.\n",
      "  warnings.warn(\n",
      "/opt/conda/lib/python3.10/site-packages/torchvision/transforms/transforms.py:329: UserWarning: Argument 'interpolation' of type int is deprecated since 0.13 and will be removed in 0.15. Please use InterpolationMode enum.\n",
      "  warnings.warn(\n",
      "  4%|▎         | 200/5352 [00:32<10:41,  8.03it/s]"
     ]
    },
    {
     "name": "stdout",
     "output_type": "stream",
     "text": [
      "{'FullBody': {'All': 91.77716064453125, 'Gaming': 62.1965446472168, 'LowerStretching': 99.67463684082031, 'Walking': 90.07168579101562, 'UpperStretching': 94.22733306884766, 'Reacting': 71.2601547241211, 'Gesticuling': 59.351253509521484, 'Talking': 57.27677917480469, 'Patting': 107.4831314086914, 'Greeting': 55.755252838134766}, 'UpperBody': {'All': 70.4183349609375, 'Gaming': 50.60104751586914, 'LowerStretching': 61.06063461303711, 'Walking': 62.266212463378906, 'UpperStretching': 77.007568359375, 'Reacting': 57.23674392700195, 'Gesticuling': 54.284423828125, 'Talking': 53.14847183227539, 'Patting': 81.78732299804688, 'Greeting': 53.19453811645508}, 'LowerBody': {'All': 113.13597869873047, 'Gaming': 73.79205322265625, 'LowerStretching': 138.2886505126953, 'Walking': 117.87716674804688, 'UpperStretching': 111.44709777832031, 'Reacting': 85.28356170654297, 'Gesticuling': 64.41808319091797, 'Talking': 61.40507507324219, 'Patting': 133.178955078125, 'Greeting': 58.31598663330078}}\n"
     ]
    },
    {
     "name": "stderr",
     "output_type": "stream",
     "text": [
      "  7%|▋         | 401/5352 [01:00<11:17,  7.30it/s]"
     ]
    },
    {
     "name": "stdout",
     "output_type": "stream",
     "text": [
      "{'FullBody': {'All': 90.8989028930664, 'Gaming': 64.94530487060547, 'LowerStretching': 97.61965942382812, 'Walking': 87.49981689453125, 'UpperStretching': 93.88457489013672, 'Reacting': 71.4295883178711, 'Gesticuling': 57.78752136230469, 'Talking': 55.940067291259766, 'Patting': 106.24787902832031, 'Greeting': 55.40528869628906}, 'UpperBody': {'All': 69.6900863647461, 'Gaming': 53.33707046508789, 'LowerStretching': 59.606266021728516, 'Walking': 60.461708068847656, 'UpperStretching': 76.67525482177734, 'Reacting': 57.68232727050781, 'Gesticuling': 52.07681655883789, 'Talking': 52.096744537353516, 'Patting': 82.8929443359375, 'Greeting': 52.94889450073242}, 'LowerBody': {'All': 112.10771179199219, 'Gaming': 76.55355072021484, 'LowerStretching': 135.633056640625, 'Walking': 114.53791809082031, 'UpperStretching': 111.09388732910156, 'Reacting': 85.1768569946289, 'Gesticuling': 63.49821853637695, 'Talking': 59.78339385986328, 'Patting': 129.6028289794922, 'Greeting': 57.861698150634766}}\n"
     ]
    },
    {
     "name": "stderr",
     "output_type": "stream",
     "text": [
      " 11%|█         | 601/5352 [01:26<10:13,  7.75it/s]"
     ]
    },
    {
     "name": "stdout",
     "output_type": "stream",
     "text": [
      "{'FullBody': {'All': 90.58293914794922, 'Gaming': 65.77193450927734, 'LowerStretching': 96.58550262451172, 'Walking': 87.67607116699219, 'UpperStretching': 93.72146606445312, 'Reacting': 71.68656921386719, 'Gesticuling': 58.01389694213867, 'Talking': 56.91063690185547, 'Patting': 98.71599578857422, 'Greeting': 54.92396545410156}, 'UpperBody': {'All': 69.3927993774414, 'Gaming': 53.69007873535156, 'LowerStretching': 59.141788482666016, 'Walking': 60.91749572753906, 'UpperStretching': 76.35691833496094, 'Reacting': 58.309329986572266, 'Gesticuling': 52.54133987426758, 'Talking': 52.93706130981445, 'Patting': 78.14656829833984, 'Greeting': 52.2958984375}, 'LowerBody': {'All': 111.7730712890625, 'Gaming': 77.85379028320312, 'LowerStretching': 134.02920532226562, 'Walking': 114.43463897705078, 'UpperStretching': 111.08600616455078, 'Reacting': 85.06380462646484, 'Gesticuling': 63.486454010009766, 'Talking': 60.88423156738281, 'Patting': 119.28543853759766, 'Greeting': 57.55205154418945}}\n"
     ]
    },
    {
     "name": "stderr",
     "output_type": "stream",
     "text": [
      " 15%|█▍        | 801/5352 [01:53<09:56,  7.62it/s]"
     ]
    },
    {
     "name": "stdout",
     "output_type": "stream",
     "text": [
      "{'FullBody': {'All': 90.10240173339844, 'Gaming': 66.17137908935547, 'LowerStretching': 95.86343383789062, 'Walking': 87.2048568725586, 'UpperStretching': 93.29729461669922, 'Reacting': 72.27693176269531, 'Gesticuling': 58.38300704956055, 'Talking': 56.96621322631836, 'Patting': 93.8801040649414, 'Greeting': 55.344993591308594}, 'UpperBody': {'All': 68.9233627319336, 'Gaming': 53.826026916503906, 'LowerStretching': 58.57139205932617, 'Walking': 61.303863525390625, 'UpperStretching': 75.82149505615234, 'Reacting': 57.5625, 'Gesticuling': 53.1905632019043, 'Talking': 52.61037826538086, 'Patting': 75.0438232421875, 'Greeting': 52.785179138183594}, 'LowerBody': {'All': 111.28144836425781, 'Gaming': 78.5167236328125, 'LowerStretching': 133.15548706054688, 'Walking': 113.1058578491211, 'UpperStretching': 110.7730941772461, 'Reacting': 86.9913558959961, 'Gesticuling': 63.5754508972168, 'Talking': 61.32204818725586, 'Patting': 112.71637725830078, 'Greeting': 57.90481185913086}}\n"
     ]
    },
    {
     "name": "stderr",
     "output_type": "stream",
     "text": [
      " 19%|█▊        | 1001/5352 [02:21<09:57,  7.28it/s]"
     ]
    },
    {
     "name": "stdout",
     "output_type": "stream",
     "text": [
      "{'FullBody': {'All': 90.04776763916016, 'Gaming': 65.26829528808594, 'LowerStretching': 96.04591369628906, 'Walking': 87.00093841552734, 'UpperStretching': 93.35647583007812, 'Reacting': 72.83746337890625, 'Gesticuling': 58.25017166137695, 'Talking': 57.00906753540039, 'Patting': 90.68407440185547, 'Greeting': 55.314697265625}, 'UpperBody': {'All': 68.85916137695312, 'Gaming': 53.099544525146484, 'LowerStretching': 58.599849700927734, 'Walking': 61.28760528564453, 'UpperStretching': 75.79780578613281, 'Reacting': 58.22268295288086, 'Gesticuling': 52.992130279541016, 'Talking': 52.28764724731445, 'Patting': 72.55184173583984, 'Greeting': 52.760009765625}, 'LowerBody': {'All': 111.23637390136719, 'Gaming': 77.43704223632812, 'LowerStretching': 133.49197387695312, 'Walking': 112.71427917480469, 'UpperStretching': 110.91513061523438, 'Reacting': 87.45223999023438, 'Gesticuling': 63.508209228515625, 'Talking': 61.73049545288086, 'Patting': 108.8163070678711, 'Greeting': 57.869384765625}}\n"
     ]
    },
    {
     "name": "stderr",
     "output_type": "stream",
     "text": [
      " 22%|██▏       | 1201/5352 [02:48<08:59,  7.70it/s]"
     ]
    },
    {
     "name": "stdout",
     "output_type": "stream",
     "text": [
      "{'FullBody': {'All': 89.99673461914062, 'Gaming': 66.12849426269531, 'LowerStretching': 96.07498168945312, 'Walking': 86.94207763671875, 'UpperStretching': 93.17536926269531, 'Reacting': 72.64569091796875, 'Gesticuling': 58.38880920410156, 'Talking': 58.84897232055664, 'Patting': 90.38078308105469, 'Greeting': 54.9940299987793}, 'UpperBody': {'All': 68.97503662109375, 'Gaming': 53.157447814941406, 'LowerStretching': 58.867034912109375, 'Walking': 61.38796615600586, 'UpperStretching': 75.78997039794922, 'Reacting': 58.49307632446289, 'Gesticuling': 53.13384246826172, 'Talking': 53.30296325683594, 'Patting': 71.78126525878906, 'Greeting': 52.209510803222656}, 'LowerBody': {'All': 111.01842498779297, 'Gaming': 79.09954071044922, 'LowerStretching': 133.28294372558594, 'Walking': 112.49617767333984, 'UpperStretching': 110.560791015625, 'Reacting': 86.79830169677734, 'Gesticuling': 63.643775939941406, 'Talking': 64.39498901367188, 'Patting': 108.98029327392578, 'Greeting': 57.77854919433594}}\n"
     ]
    },
    {
     "name": "stderr",
     "output_type": "stream",
     "text": [
      " 26%|██▌       | 1400/5352 [03:14<08:41,  7.57it/s]"
     ]
    },
    {
     "name": "stdout",
     "output_type": "stream",
     "text": [
      "{'FullBody': {'All': 90.12155151367188, 'Gaming': 65.82666778564453, 'LowerStretching': 96.28028869628906, 'Walking': 87.29906463623047, 'UpperStretching': 93.26445770263672, 'Reacting': 72.53465270996094, 'Gesticuling': 58.483360290527344, 'Talking': 58.70841979980469, 'Patting': 88.65702819824219, 'Greeting': 55.16075897216797}, 'UpperBody': {'All': 69.05187225341797, 'Gaming': 52.79777908325195, 'LowerStretching': 59.03480911254883, 'Walking': 61.354007720947266, 'UpperStretching': 75.8661880493164, 'Reacting': 58.65605926513672, 'Gesticuling': 53.06925582885742, 'Talking': 53.59469223022461, 'Patting': 70.46602630615234, 'Greeting': 52.203372955322266}, 'LowerBody': {'All': 111.19123077392578, 'Gaming': 78.85556030273438, 'LowerStretching': 133.5257568359375, 'Walking': 113.2441177368164, 'UpperStretching': 110.6627426147461, 'Reacting': 86.41323852539062, 'Gesticuling': 63.897464752197266, 'Talking': 63.82215118408203, 'Patting': 106.8480453491211, 'Greeting': 58.11814880371094}}\n"
     ]
    },
    {
     "name": "stderr",
     "output_type": "stream",
     "text": [
      " 30%|██▉       | 1601/5352 [03:42<08:37,  7.24it/s]"
     ]
    },
    {
     "name": "stdout",
     "output_type": "stream",
     "text": [
      "{'FullBody': {'All': 90.13351440429688, 'Gaming': 65.71892547607422, 'LowerStretching': 96.2802505493164, 'Walking': 87.19464874267578, 'UpperStretching': 93.38399505615234, 'Reacting': 72.30449676513672, 'Gesticuling': 58.53783416748047, 'Talking': 58.62236022949219, 'Patting': 86.79312896728516, 'Greeting': 54.815128326416016}, 'UpperBody': {'All': 69.04742431640625, 'Gaming': 52.641719818115234, 'LowerStretching': 58.9377555847168, 'Walking': 61.32683181762695, 'UpperStretching': 75.94195556640625, 'Reacting': 58.492454528808594, 'Gesticuling': 53.209781646728516, 'Talking': 53.525726318359375, 'Patting': 69.31782531738281, 'Greeting': 51.67560958862305}, 'LowerBody': {'All': 111.21961212158203, 'Gaming': 78.79612731933594, 'LowerStretching': 133.6227569580078, 'Walking': 113.06244659423828, 'UpperStretching': 110.8260498046875, 'Reacting': 86.11653900146484, 'Gesticuling': 63.86589050292969, 'Talking': 63.7189826965332, 'Patting': 104.2684326171875, 'Greeting': 57.954647064208984}}\n"
     ]
    },
    {
     "name": "stderr",
     "output_type": "stream",
     "text": [
      " 34%|███▎      | 1801/5352 [04:09<07:48,  7.59it/s]"
     ]
    },
    {
     "name": "stdout",
     "output_type": "stream",
     "text": [
      "{'FullBody': {'All': 90.0352783203125, 'Gaming': 65.78880310058594, 'LowerStretching': 96.26409149169922, 'Walking': 86.98302459716797, 'UpperStretching': 93.2794189453125, 'Reacting': 72.16049194335938, 'Gesticuling': 58.16636657714844, 'Talking': 58.415504455566406, 'Patting': 85.10276794433594, 'Greeting': 55.50233459472656}, 'UpperBody': {'All': 68.93475341796875, 'Gaming': 52.61503601074219, 'LowerStretching': 58.894676208496094, 'Walking': 61.14909744262695, 'UpperStretching': 75.859130859375, 'Reacting': 58.378623962402344, 'Gesticuling': 53.03184127807617, 'Talking': 53.51929473876953, 'Patting': 67.61836242675781, 'Greeting': 52.162227630615234}, 'LowerBody': {'All': 111.13579559326172, 'Gaming': 78.96255493164062, 'LowerStretching': 133.6334991455078, 'Walking': 112.81694793701172, 'UpperStretching': 110.69969940185547, 'Reacting': 85.94236755371094, 'Gesticuling': 63.30089569091797, 'Talking': 63.311710357666016, 'Patting': 102.58720397949219, 'Greeting': 58.842437744140625}}\n"
     ]
    },
    {
     "name": "stderr",
     "output_type": "stream",
     "text": [
      " 37%|███▋      | 2000/5352 [04:36<07:40,  7.28it/s]"
     ]
    },
    {
     "name": "stdout",
     "output_type": "stream",
     "text": [
      "{'FullBody': {'All': 90.04316711425781, 'Gaming': 65.89405059814453, 'LowerStretching': 95.87137603759766, 'Walking': 87.08258056640625, 'UpperStretching': 93.32945251464844, 'Reacting': 72.13935852050781, 'Gesticuling': 58.208099365234375, 'Talking': 58.42560958862305, 'Patting': 86.59819793701172, 'Greeting': 55.4132080078125}, 'UpperBody': {'All': 68.9845962524414, 'Gaming': 52.53385925292969, 'LowerStretching': 58.68989944458008, 'Walking': 61.19731140136719, 'UpperStretching': 75.96149444580078, 'Reacting': 58.424495697021484, 'Gesticuling': 52.96689987182617, 'Talking': 53.56050491333008, 'Patting': 69.06778717041016, 'Greeting': 52.0200080871582}, 'LowerBody': {'All': 111.10173797607422, 'Gaming': 79.25424194335938, 'LowerStretching': 133.05282592773438, 'Walking': 112.96784973144531, 'UpperStretching': 110.69740295410156, 'Reacting': 85.8542251586914, 'Gesticuling': 63.449302673339844, 'Talking': 63.29071044921875, 'Patting': 104.12860107421875, 'Greeting': 58.80640411376953}}\n"
     ]
    },
    {
     "name": "stderr",
     "output_type": "stream",
     "text": [
      " 41%|████      | 2201/5352 [05:03<07:19,  7.18it/s]"
     ]
    },
    {
     "name": "stdout",
     "output_type": "stream",
     "text": [
      "{'FullBody': {'All': 90.09426879882812, 'Gaming': 66.32411193847656, 'LowerStretching': 95.66673278808594, 'Walking': 86.9543685913086, 'UpperStretching': 93.49795532226562, 'Reacting': 71.8646469116211, 'Gesticuling': 58.008567810058594, 'Talking': 58.21531677246094, 'Patting': 86.63727569580078, 'Greeting': 55.50863265991211}, 'UpperBody': {'All': 68.97393798828125, 'Gaming': 52.58185958862305, 'LowerStretching': 58.604705810546875, 'Walking': 61.07495880126953, 'UpperStretching': 76.01817321777344, 'Reacting': 58.24056625366211, 'Gesticuling': 52.70540237426758, 'Talking': 53.50906753540039, 'Patting': 68.96967315673828, 'Greeting': 52.0566291809082}, 'LowerBody': {'All': 111.21459197998047, 'Gaming': 80.06636047363281, 'LowerStretching': 132.728759765625, 'Walking': 112.83379364013672, 'UpperStretching': 110.97772979736328, 'Reacting': 85.48871612548828, 'Gesticuling': 63.31173324584961, 'Talking': 62.92155838012695, 'Patting': 104.30488586425781, 'Greeting': 58.96065139770508}}\n"
     ]
    },
    {
     "name": "stderr",
     "output_type": "stream",
     "text": [
      " 45%|████▍     | 2401/5352 [05:30<06:34,  7.49it/s]"
     ]
    },
    {
     "name": "stdout",
     "output_type": "stream",
     "text": [
      "{'FullBody': {'All': 90.02388763427734, 'Gaming': 65.87120819091797, 'LowerStretching': 95.88908386230469, 'Walking': 87.12718200683594, 'UpperStretching': 93.3109359741211, 'Reacting': 71.66619873046875, 'Gesticuling': 58.26631164550781, 'Talking': 57.817359924316406, 'Patting': 86.7748794555664, 'Greeting': 55.370216369628906}, 'UpperBody': {'All': 68.89240264892578, 'Gaming': 52.18494415283203, 'LowerStretching': 58.62969207763672, 'Walking': 61.04064178466797, 'UpperStretching': 75.918212890625, 'Reacting': 58.15608215332031, 'Gesticuling': 52.929534912109375, 'Talking': 53.067752838134766, 'Patting': 68.99446105957031, 'Greeting': 51.91959762573242}, 'LowerBody': {'All': 111.15536499023438, 'Gaming': 79.5574722290039, 'LowerStretching': 133.14849853515625, 'Walking': 113.2137222290039, 'UpperStretching': 110.70366668701172, 'Reacting': 85.17632293701172, 'Gesticuling': 63.603084564208984, 'Talking': 62.56696701049805, 'Patting': 104.55530548095703, 'Greeting': 58.82081985473633}}\n"
     ]
    },
    {
     "name": "stderr",
     "output_type": "stream",
     "text": [
      " 49%|████▊     | 2601/5352 [05:57<06:07,  7.49it/s]"
     ]
    },
    {
     "name": "stdout",
     "output_type": "stream",
     "text": [
      "{'FullBody': {'All': 90.08956146240234, 'Gaming': 65.69705963134766, 'LowerStretching': 95.87029266357422, 'Walking': 86.95668029785156, 'UpperStretching': 93.445068359375, 'Reacting': 71.91912078857422, 'Gesticuling': 58.40008544921875, 'Talking': 58.423179626464844, 'Patting': 86.55461120605469, 'Greeting': 55.54046630859375}, 'UpperBody': {'All': 68.95254516601562, 'Gaming': 51.93706130981445, 'LowerStretching': 58.6539192199707, 'Walking': 60.87641143798828, 'UpperStretching': 76.02678680419922, 'Reacting': 58.43697738647461, 'Gesticuling': 53.17093276977539, 'Talking': 53.1328239440918, 'Patting': 68.9666976928711, 'Greeting': 52.08470916748047}, 'LowerBody': {'All': 111.2265853881836, 'Gaming': 79.4570541381836, 'LowerStretching': 133.086669921875, 'Walking': 113.03695678710938, 'UpperStretching': 110.86333465576172, 'Reacting': 85.4012451171875, 'Gesticuling': 63.62922668457031, 'Talking': 63.71354293823242, 'Patting': 104.14253997802734, 'Greeting': 58.99622344970703}}\n"
     ]
    },
    {
     "name": "stderr",
     "output_type": "stream",
     "text": [
      " 52%|█████▏    | 2801/5352 [06:24<05:44,  7.41it/s]"
     ]
    },
    {
     "name": "stdout",
     "output_type": "stream",
     "text": [
      "{'FullBody': {'All': 90.05640411376953, 'Gaming': 66.16455841064453, 'LowerStretching': 95.89149475097656, 'Walking': 86.99993133544922, 'UpperStretching': 93.36192321777344, 'Reacting': 72.07666015625, 'Gesticuling': 58.42801284790039, 'Talking': 58.32503890991211, 'Patting': 86.12760162353516, 'Greeting': 55.36495590209961}, 'UpperBody': {'All': 68.8327865600586, 'Gaming': 52.1891975402832, 'LowerStretching': 58.565982818603516, 'Walking': 60.87574005126953, 'UpperStretching': 75.86845397949219, 'Reacting': 58.491085052490234, 'Gesticuling': 53.20936965942383, 'Talking': 53.092899322509766, 'Patting': 68.48452758789062, 'Greeting': 51.92035675048828}, 'LowerBody': {'All': 111.28004455566406, 'Gaming': 80.1399154663086, 'LowerStretching': 133.2169952392578, 'Walking': 113.1241226196289, 'UpperStretching': 110.85540008544922, 'Reacting': 85.66224670410156, 'Gesticuling': 63.64665222167969, 'Talking': 63.55718994140625, 'Patting': 103.77069091796875, 'Greeting': 58.8095588684082}}\n"
     ]
    },
    {
     "name": "stderr",
     "output_type": "stream",
     "text": [
      " 56%|█████▌    | 3001/5352 [06:51<05:16,  7.44it/s]"
     ]
    },
    {
     "name": "stdout",
     "output_type": "stream",
     "text": [
      "{'FullBody': {'All': 90.00220489501953, 'Gaming': 66.08307647705078, 'LowerStretching': 95.84660339355469, 'Walking': 86.96573638916016, 'UpperStretching': 93.3147964477539, 'Reacting': 71.81735229492188, 'Gesticuling': 58.51910400390625, 'Talking': 58.04856491088867, 'Patting': 85.76934051513672, 'Greeting': 55.2814826965332}, 'UpperBody': {'All': 68.81256866455078, 'Gaming': 52.16367721557617, 'LowerStretching': 58.529808044433594, 'Walking': 60.83154296875, 'UpperStretching': 75.89897918701172, 'Reacting': 58.29437255859375, 'Gesticuling': 53.30955505371094, 'Talking': 52.88676834106445, 'Patting': 68.01689147949219, 'Greeting': 51.734134674072266}, 'LowerBody': {'All': 111.19185638427734, 'Gaming': 80.00247192382812, 'LowerStretching': 133.1634063720703, 'Walking': 113.09993743896484, 'UpperStretching': 110.73060607910156, 'Reacting': 85.34032440185547, 'Gesticuling': 63.72865295410156, 'Talking': 63.21036148071289, 'Patting': 103.52178192138672, 'Greeting': 58.82884216308594}}\n"
     ]
    },
    {
     "name": "stderr",
     "output_type": "stream",
     "text": [
      " 60%|█████▉    | 3200/5352 [07:18<05:04,  7.06it/s]"
     ]
    },
    {
     "name": "stdout",
     "output_type": "stream",
     "text": [
      "{'FullBody': {'All': 90.02747344970703, 'Gaming': 66.36054992675781, 'LowerStretching': 95.9899673461914, 'Walking': 86.98794555664062, 'UpperStretching': 93.29940032958984, 'Reacting': 71.83910369873047, 'Gesticuling': 58.483436584472656, 'Talking': 58.11696243286133, 'Patting': 85.53128051757812, 'Greeting': 55.49060821533203}, 'UpperBody': {'All': 68.86515045166016, 'Gaming': 52.25309371948242, 'LowerStretching': 58.59056091308594, 'Walking': 60.882572174072266, 'UpperStretching': 75.9438247680664, 'Reacting': 58.32438659667969, 'Gesticuling': 53.29078674316406, 'Talking': 52.82676315307617, 'Patting': 67.85409545898438, 'Greeting': 51.838172912597656}, 'LowerBody': {'All': 111.18978881835938, 'Gaming': 80.468017578125, 'LowerStretching': 133.38937377929688, 'Walking': 113.09332275390625, 'UpperStretching': 110.65496826171875, 'Reacting': 85.35382843017578, 'Gesticuling': 63.676090240478516, 'Talking': 63.40716552734375, 'Patting': 103.20848846435547, 'Greeting': 59.14303970336914}}\n"
     ]
    },
    {
     "name": "stderr",
     "output_type": "stream",
     "text": [
      " 64%|██████▎   | 3401/5352 [07:45<04:48,  6.75it/s]"
     ]
    },
    {
     "name": "stdout",
     "output_type": "stream",
     "text": [
      "{'FullBody': {'All': 90.14230346679688, 'Gaming': 66.53990173339844, 'LowerStretching': 95.98358917236328, 'Walking': 87.23262023925781, 'UpperStretching': 93.45391082763672, 'Reacting': 71.72251892089844, 'Gesticuling': 58.42680358886719, 'Talking': 58.07038116455078, 'Patting': 85.2044448852539, 'Greeting': 55.680484771728516}, 'UpperBody': {'All': 68.91168212890625, 'Gaming': 52.29222869873047, 'LowerStretching': 58.55702209472656, 'Walking': 60.98651123046875, 'UpperStretching': 76.01094055175781, 'Reacting': 58.31154251098633, 'Gesticuling': 53.26898956298828, 'Talking': 52.869651794433594, 'Patting': 67.73358154296875, 'Greeting': 51.999298095703125}, 'LowerBody': {'All': 111.3729248046875, 'Gaming': 80.78758239746094, 'LowerStretching': 133.41015625, 'Walking': 113.47875213623047, 'UpperStretching': 110.89688110351562, 'Reacting': 85.13349914550781, 'Gesticuling': 63.58462142944336, 'Talking': 63.271114349365234, 'Patting': 102.6753158569336, 'Greeting': 59.361671447753906}}\n"
     ]
    },
    {
     "name": "stderr",
     "output_type": "stream",
     "text": [
      " 67%|██████▋   | 3601/5352 [08:13<03:57,  7.38it/s]"
     ]
    },
    {
     "name": "stdout",
     "output_type": "stream",
     "text": [
      "{'FullBody': {'All': 90.1815414428711, 'Gaming': 66.69743347167969, 'LowerStretching': 96.12610626220703, 'Walking': 87.29601287841797, 'UpperStretching': 93.4444808959961, 'Reacting': 71.63485717773438, 'Gesticuling': 58.45317077636719, 'Talking': 58.22087860107422, 'Patting': 85.129150390625, 'Greeting': 55.82038879394531}, 'UpperBody': {'All': 68.95580291748047, 'Gaming': 52.247650146484375, 'LowerStretching': 58.592018127441406, 'Walking': 60.945404052734375, 'UpperStretching': 76.06092071533203, 'Reacting': 58.248958587646484, 'Gesticuling': 53.3629264831543, 'Talking': 53.05082321166992, 'Patting': 67.85025024414062, 'Greeting': 52.01948928833008}, 'LowerBody': {'All': 111.40727233886719, 'Gaming': 81.14720916748047, 'LowerStretching': 133.6602020263672, 'Walking': 113.6466064453125, 'UpperStretching': 110.8280258178711, 'Reacting': 85.02075958251953, 'Gesticuling': 63.54340744018555, 'Talking': 63.390933990478516, 'Patting': 102.4080581665039, 'Greeting': 59.62129211425781}}\n"
     ]
    },
    {
     "name": "stderr",
     "output_type": "stream",
     "text": [
      " 71%|███████   | 3800/5352 [08:40<03:40,  7.05it/s]"
     ]
    },
    {
     "name": "stdout",
     "output_type": "stream",
     "text": [
      "{'FullBody': {'All': 90.30282592773438, 'Gaming': 66.73379516601562, 'LowerStretching': 96.25892639160156, 'Walking': 87.44168853759766, 'UpperStretching': 93.55885314941406, 'Reacting': 71.64933013916016, 'Gesticuling': 58.43476104736328, 'Talking': 58.21116256713867, 'Patting': 85.31510925292969, 'Greeting': 55.8402214050293}, 'UpperBody': {'All': 69.03107452392578, 'Gaming': 52.416622161865234, 'LowerStretching': 58.56825637817383, 'Walking': 61.01655960083008, 'UpperStretching': 76.17054748535156, 'Reacting': 58.23744583129883, 'Gesticuling': 53.32527542114258, 'Talking': 53.18910598754883, 'Patting': 67.69821166992188, 'Greeting': 52.02638626098633}, 'LowerBody': {'All': 111.5745620727539, 'Gaming': 81.05097198486328, 'LowerStretching': 133.94960021972656, 'Walking': 113.86681365966797, 'UpperStretching': 110.94715881347656, 'Reacting': 85.06120300292969, 'Gesticuling': 63.544254302978516, 'Talking': 63.23322296142578, 'Patting': 102.93199920654297, 'Greeting': 59.654052734375}}\n"
     ]
    },
    {
     "name": "stderr",
     "output_type": "stream",
     "text": [
      " 75%|███████▍  | 4001/5352 [09:07<03:21,  6.72it/s]"
     ]
    },
    {
     "name": "stdout",
     "output_type": "stream",
     "text": [
      "{'FullBody': {'All': 90.330078125, 'Gaming': 66.62169647216797, 'LowerStretching': 96.17467498779297, 'Walking': 87.56640625, 'UpperStretching': 93.60430145263672, 'Reacting': 71.70629119873047, 'Gesticuling': 58.51144790649414, 'Talking': 58.04227066040039, 'Patting': 85.0770263671875, 'Greeting': 55.67407989501953}, 'UpperBody': {'All': 69.05683898925781, 'Gaming': 52.333106994628906, 'LowerStretching': 58.53042984008789, 'Walking': 61.12507629394531, 'UpperStretching': 76.2310562133789, 'Reacting': 58.32426834106445, 'Gesticuling': 53.28934097290039, 'Talking': 53.1373405456543, 'Patting': 67.31144714355469, 'Greeting': 51.82179641723633}, 'LowerBody': {'All': 111.60330200195312, 'Gaming': 80.91028594970703, 'LowerStretching': 133.81893920898438, 'Walking': 114.00773620605469, 'UpperStretching': 110.9775390625, 'Reacting': 85.08831024169922, 'Gesticuling': 63.73354721069336, 'Talking': 62.947208404541016, 'Patting': 102.84260559082031, 'Greeting': 59.52635955810547}}\n"
     ]
    },
    {
     "name": "stderr",
     "output_type": "stream",
     "text": [
      " 78%|███████▊  | 4201/5352 [09:34<02:43,  7.05it/s]"
     ]
    },
    {
     "name": "stdout",
     "output_type": "stream",
     "text": [
      "{'FullBody': {'All': 90.38971710205078, 'Gaming': 66.68013000488281, 'LowerStretching': 96.34510040283203, 'Walking': 87.51773071289062, 'UpperStretching': 93.63997650146484, 'Reacting': 71.72996520996094, 'Gesticuling': 58.486846923828125, 'Talking': 57.97431564331055, 'Patting': 85.36194610595703, 'Greeting': 55.97624588012695}, 'UpperBody': {'All': 69.11583709716797, 'Gaming': 52.4452018737793, 'LowerStretching': 58.667633056640625, 'Walking': 61.1212272644043, 'UpperStretching': 76.26911926269531, 'Reacting': 58.29756164550781, 'Gesticuling': 53.129425048828125, 'Talking': 53.3112907409668, 'Patting': 67.5059585571289, 'Greeting': 51.957767486572266}, 'LowerBody': {'All': 111.6635971069336, 'Gaming': 80.91505432128906, 'LowerStretching': 134.02259826660156, 'Walking': 113.91424560546875, 'UpperStretching': 111.01083374023438, 'Reacting': 85.16238403320312, 'Gesticuling': 63.84426498413086, 'Talking': 62.637332916259766, 'Patting': 103.21793365478516, 'Greeting': 59.994728088378906}}\n"
     ]
    },
    {
     "name": "stderr",
     "output_type": "stream",
     "text": [
      " 82%|████████▏ | 4401/5352 [10:01<02:12,  7.17it/s]"
     ]
    },
    {
     "name": "stdout",
     "output_type": "stream",
     "text": [
      "{'FullBody': {'All': 90.4092025756836, 'Gaming': 66.80084228515625, 'LowerStretching': 96.31660461425781, 'Walking': 87.43994140625, 'UpperStretching': 93.69520568847656, 'Reacting': 71.7287368774414, 'Gesticuling': 58.468788146972656, 'Talking': 58.02814483642578, 'Patting': 85.16986083984375, 'Greeting': 55.91019058227539}, 'UpperBody': {'All': 69.12937927246094, 'Gaming': 52.5668830871582, 'LowerStretching': 58.643795013427734, 'Walking': 61.09077453613281, 'UpperStretching': 76.28282928466797, 'Reacting': 58.40040588378906, 'Gesticuling': 53.203792572021484, 'Talking': 53.481441497802734, 'Patting': 67.36250305175781, 'Greeting': 51.965087890625}, 'LowerBody': {'All': 111.68902587890625, 'Gaming': 81.03482055664062, 'LowerStretching': 133.9894256591797, 'Walking': 113.78910827636719, 'UpperStretching': 111.10755920410156, 'Reacting': 85.05706024169922, 'Gesticuling': 63.733768463134766, 'Talking': 62.57484436035156, 'Patting': 102.97720336914062, 'Greeting': 59.855281829833984}}\n"
     ]
    },
    {
     "name": "stderr",
     "output_type": "stream",
     "text": [
      " 86%|████████▌ | 4601/5352 [10:28<01:50,  6.81it/s]"
     ]
    },
    {
     "name": "stdout",
     "output_type": "stream",
     "text": [
      "{'FullBody': {'All': 90.37075805664062, 'Gaming': 66.88565063476562, 'LowerStretching': 96.27059936523438, 'Walking': 87.54554748535156, 'UpperStretching': 93.63784790039062, 'Reacting': 71.59867858886719, 'Gesticuling': 58.68058395385742, 'Talking': 57.98093032836914, 'Patting': 84.86280822753906, 'Greeting': 55.91011047363281}, 'UpperBody': {'All': 69.10137939453125, 'Gaming': 52.58965301513672, 'LowerStretching': 58.68427658081055, 'Walking': 61.13490676879883, 'UpperStretching': 76.2278060913086, 'Reacting': 58.29274368286133, 'Gesticuling': 53.35398483276367, 'Talking': 53.5044059753418, 'Patting': 67.06295776367188, 'Greeting': 51.826637268066406}, 'LowerBody': {'All': 111.64013671875, 'Gaming': 81.18165588378906, 'LowerStretching': 133.85693359375, 'Walking': 113.95616912841797, 'UpperStretching': 111.04788208007812, 'Reacting': 84.90461730957031, 'Gesticuling': 64.0071792602539, 'Talking': 62.45746612548828, 'Patting': 102.66265869140625, 'Greeting': 59.99360275268555}}\n"
     ]
    },
    {
     "name": "stderr",
     "output_type": "stream",
     "text": [
      " 90%|████████▉ | 4801/5352 [10:56<01:18,  7.06it/s]"
     ]
    },
    {
     "name": "stdout",
     "output_type": "stream",
     "text": [
      "{'FullBody': {'All': 90.36505889892578, 'Gaming': 66.7735824584961, 'LowerStretching': 96.31903839111328, 'Walking': 87.62342834472656, 'UpperStretching': 93.61628723144531, 'Reacting': 71.55887603759766, 'Gesticuling': 58.83760452270508, 'Talking': 57.88249969482422, 'Patting': 84.7769546508789, 'Greeting': 56.17988967895508}, 'UpperBody': {'All': 69.10359191894531, 'Gaming': 52.53591537475586, 'LowerStretching': 58.70485305786133, 'Walking': 61.14124298095703, 'UpperStretching': 76.23555755615234, 'Reacting': 58.21486282348633, 'Gesticuling': 53.52652359008789, 'Talking': 53.45613098144531, 'Patting': 66.9466323852539, 'Greeting': 52.01832580566406}, 'LowerBody': {'All': 111.62651062011719, 'Gaming': 81.01124572753906, 'LowerStretching': 133.9332275390625, 'Walking': 114.10559844970703, 'UpperStretching': 110.99702453613281, 'Reacting': 84.90289306640625, 'Gesticuling': 64.148681640625, 'Talking': 62.30887222290039, 'Patting': 102.6072769165039, 'Greeting': 60.34145736694336}}\n"
     ]
    },
    {
     "name": "stderr",
     "output_type": "stream",
     "text": [
      " 93%|█████████▎| 5001/5352 [11:23<00:48,  7.23it/s]"
     ]
    },
    {
     "name": "stdout",
     "output_type": "stream",
     "text": [
      "{'FullBody': {'All': 90.40338897705078, 'Gaming': 66.66790008544922, 'LowerStretching': 96.38976287841797, 'Walking': 87.54682922363281, 'UpperStretching': 93.6524429321289, 'Reacting': 71.52812194824219, 'Gesticuling': 58.91884994506836, 'Talking': 57.844818115234375, 'Patting': 85.5241470336914, 'Greeting': 56.331504821777344}, 'UpperBody': {'All': 69.13016510009766, 'Gaming': 52.435672760009766, 'LowerStretching': 58.732295989990234, 'Walking': 61.12495422363281, 'UpperStretching': 76.25559997558594, 'Reacting': 58.29609680175781, 'Gesticuling': 53.601348876953125, 'Talking': 53.509639739990234, 'Patting': 67.35467529296875, 'Greeting': 52.02182388305664}, 'LowerBody': {'All': 111.67659759521484, 'Gaming': 80.90013885498047, 'LowerStretching': 134.0472412109375, 'Walking': 113.96869659423828, 'UpperStretching': 111.04928588867188, 'Reacting': 84.76016235351562, 'Gesticuling': 64.23635864257812, 'Talking': 62.18000411987305, 'Patting': 103.6936264038086, 'Greeting': 60.64118194580078}}\n"
     ]
    },
    {
     "name": "stderr",
     "output_type": "stream",
     "text": [
      " 97%|█████████▋| 5201/5352 [11:50<00:22,  6.57it/s]"
     ]
    },
    {
     "name": "stdout",
     "output_type": "stream",
     "text": [
      "{'FullBody': {'All': 90.39894104003906, 'Gaming': 66.6281967163086, 'LowerStretching': 96.36215209960938, 'Walking': 87.4378433227539, 'UpperStretching': 93.67567443847656, 'Reacting': 71.81342315673828, 'Gesticuling': 58.790611267089844, 'Talking': 57.89082336425781, 'Patting': 85.37059020996094, 'Greeting': 56.25225830078125}, 'UpperBody': {'All': 69.12328338623047, 'Gaming': 52.432857513427734, 'LowerStretching': 58.720149993896484, 'Walking': 61.0584602355957, 'UpperStretching': 76.2464828491211, 'Reacting': 58.53835678100586, 'Gesticuling': 53.52814865112305, 'Talking': 53.60499954223633, 'Patting': 67.30229187011719, 'Greeting': 51.943565368652344}, 'LowerBody': {'All': 111.67459106445312, 'Gaming': 80.82352447509766, 'LowerStretching': 134.00416564941406, 'Walking': 113.81721496582031, 'UpperStretching': 111.10485076904297, 'Reacting': 85.08849334716797, 'Gesticuling': 64.05307006835938, 'Talking': 62.17662811279297, 'Patting': 103.43889617919922, 'Greeting': 60.560943603515625}}\n"
     ]
    },
    {
     "name": "stderr",
     "output_type": "stream",
     "text": [
      "100%|██████████| 5352/5352 [12:10<00:00,  7.32it/s]\n",
      "\u001b[94m08:52:29 \u001b[92m[INFO]\u001b[94m Main\u001b[0m: Saving evaluation results...\n",
      "\u001b[94m08:52:29 \u001b[92m[INFO]\u001b[94m Main\u001b[0m: Done.\n",
      "\u001b[94m08:52:29 \u001b[92m[INFO]\u001b[94m Main\u001b[0m: Starting demo...\n",
      "  0%|          | 0/5352 [00:00<?, ?it/s]/opt/conda/lib/python3.10/site-packages/torchvision/transforms/transforms.py:329: UserWarning: Argument 'interpolation' of type int is deprecated since 0.13 and will be removed in 0.15. Please use InterpolationMode enum.\n",
      "  warnings.warn(\n",
      "/opt/conda/lib/python3.10/site-packages/torchvision/transforms/transforms.py:329: UserWarning: Argument 'interpolation' of type int is deprecated since 0.13 and will be removed in 0.15. Please use InterpolationMode enum.\n",
      "  warnings.warn(\n",
      "/opt/conda/lib/python3.10/site-packages/torchvision/transforms/transforms.py:329: UserWarning: Argument 'interpolation' of type int is deprecated since 0.13 and will be removed in 0.15. Please use InterpolationMode enum.\n",
      "  warnings.warn(\n",
      "/opt/conda/lib/python3.10/site-packages/torchvision/transforms/transforms.py:329: UserWarning: Argument 'interpolation' of type int is deprecated since 0.13 and will be removed in 0.15. Please use InterpolationMode enum.\n",
      "  warnings.warn(\n",
      "/opt/conda/lib/python3.10/site-packages/torchvision/transforms/transforms.py:329: UserWarning: Argument 'interpolation' of type int is deprecated since 0.13 and will be removed in 0.15. Please use InterpolationMode enum.\n",
      "  warnings.warn(\n",
      "/opt/conda/lib/python3.10/site-packages/torchvision/transforms/transforms.py:329: UserWarning: Argument 'interpolation' of type int is deprecated since 0.13 and will be removed in 0.15. Please use InterpolationMode enum.\n",
      "  warnings.warn(\n",
      "/opt/conda/lib/python3.10/site-packages/torchvision/transforms/transforms.py:329: UserWarning: Argument 'interpolation' of type int is deprecated since 0.13 and will be removed in 0.15. Please use InterpolationMode enum.\n",
      "  warnings.warn(\n",
      "/opt/conda/lib/python3.10/site-packages/torchvision/transforms/transforms.py:329: UserWarning: Argument 'interpolation' of type int is deprecated since 0.13 and will be removed in 0.15. Please use InterpolationMode enum.\n",
      "  warnings.warn(\n",
      "/opt/conda/lib/python3.10/site-packages/torchvision/transforms/transforms.py:329: UserWarning: Argument 'interpolation' of type int is deprecated since 0.13 and will be removed in 0.15. Please use InterpolationMode enum.\n",
      "  warnings.warn(\n",
      "/opt/conda/lib/python3.10/site-packages/torchvision/transforms/transforms.py:329: UserWarning: Argument 'interpolation' of type int is deprecated since 0.13 and will be removed in 0.15. Please use InterpolationMode enum.\n",
      "  warnings.warn(\n",
      "/opt/conda/lib/python3.10/site-packages/torchvision/transforms/transforms.py:329: UserWarning: Argument 'interpolation' of type int is deprecated since 0.13 and will be removed in 0.15. Please use InterpolationMode enum.\n",
      "  warnings.warn(\n",
      "/opt/conda/lib/python3.10/site-packages/torchvision/transforms/transforms.py:329: UserWarning: Argument 'interpolation' of type int is deprecated since 0.13 and will be removed in 0.15. Please use InterpolationMode enum.\n",
      "  warnings.warn(\n",
      "/opt/conda/lib/python3.10/site-packages/torchvision/transforms/transforms.py:329: UserWarning: Argument 'interpolation' of type int is deprecated since 0.13 and will be removed in 0.15. Please use InterpolationMode enum.\n",
      "  warnings.warn(\n",
      "/opt/conda/lib/python3.10/site-packages/torchvision/transforms/transforms.py:329: UserWarning: Argument 'interpolation' of type int is deprecated since 0.13 and will be removed in 0.15. Please use InterpolationMode enum.\n",
      "  warnings.warn(\n",
      "/opt/conda/lib/python3.10/site-packages/torchvision/transforms/transforms.py:329: UserWarning: Argument 'interpolation' of type int is deprecated since 0.13 and will be removed in 0.15. Please use InterpolationMode enum.\n",
      "  warnings.warn(\n",
      "/opt/conda/lib/python3.10/site-packages/torchvision/transforms/transforms.py:329: UserWarning: Argument 'interpolation' of type int is deprecated since 0.13 and will be removed in 0.15. Please use InterpolationMode enum.\n",
      "  warnings.warn(\n",
      "/opt/conda/lib/python3.10/site-packages/torchvision/transforms/transforms.py:329: UserWarning: Argument 'interpolation' of type int is deprecated since 0.13 and will be removed in 0.15. Please use InterpolationMode enum.\n",
      "  warnings.warn(\n",
      "/opt/conda/lib/python3.10/site-packages/torchvision/transforms/transforms.py:329: UserWarning: Argument 'interpolation' of type int is deprecated since 0.13 and will be removed in 0.15. Please use InterpolationMode enum.\n",
      "  warnings.warn(\n",
      "/opt/conda/lib/python3.10/site-packages/torchvision/transforms/transforms.py:329: UserWarning: Argument 'interpolation' of type int is deprecated since 0.13 and will be removed in 0.15. Please use InterpolationMode enum.\n",
      "  warnings.warn(\n",
      "/opt/conda/lib/python3.10/site-packages/torchvision/transforms/transforms.py:329: UserWarning: Argument 'interpolation' of type int is deprecated since 0.13 and will be removed in 0.15. Please use InterpolationMode enum.\n",
      "  warnings.warn(\n",
      "/opt/conda/lib/python3.10/site-packages/torchvision/transforms/transforms.py:329: UserWarning: Argument 'interpolation' of type int is deprecated since 0.13 and will be removed in 0.15. Please use InterpolationMode enum.\n",
      "  warnings.warn(\n",
      "/opt/conda/lib/python3.10/site-packages/torchvision/transforms/transforms.py:329: UserWarning: Argument 'interpolation' of type int is deprecated since 0.13 and will be removed in 0.15. Please use InterpolationMode enum.\n",
      "  warnings.warn(\n",
      "/opt/conda/lib/python3.10/site-packages/torchvision/transforms/transforms.py:329: UserWarning: Argument 'interpolation' of type int is deprecated since 0.13 and will be removed in 0.15. Please use InterpolationMode enum.\n",
      "  warnings.warn(\n",
      "/opt/conda/lib/python3.10/site-packages/torchvision/transforms/transforms.py:329: UserWarning: Argument 'interpolation' of type int is deprecated since 0.13 and will be removed in 0.15. Please use InterpolationMode enum.\n",
      "  warnings.warn(\n",
      "  4%|▍         | 201/5352 [00:33<10:47,  7.95it/s]"
     ]
    },
    {
     "name": "stdout",
     "output_type": "stream",
     "text": [
      "{'FullBody': {'All': 72.9759750366211, 'UpperStretching': 76.55033111572266, 'Walking': 70.6271743774414, 'Patting': 71.11434936523438, 'LowerStretching': 70.87501525878906, 'Gesticuling': 57.048316955566406, 'Talking': 50.207218170166016, 'Greeting': 50.66774368286133, 'Gaming': 62.62356948852539, 'Reacting': 67.82827758789062}, 'UpperBody': {'All': 55.460391998291016, 'UpperStretching': 62.5365104675293, 'Walking': 48.214447021484375, 'Patting': 49.11448669433594, 'LowerStretching': 42.93306350708008, 'Gesticuling': 46.41331100463867, 'Talking': 45.59821701049805, 'Greeting': 42.71104431152344, 'Gaming': 50.58615493774414, 'Reacting': 55.33803176879883}, 'LowerBody': {'All': 90.49156188964844, 'UpperStretching': 90.56414794921875, 'Walking': 93.03990173339844, 'Patting': 93.11420440673828, 'LowerStretching': 98.81696319580078, 'Gesticuling': 67.68331146240234, 'Talking': 54.81621551513672, 'Greeting': 58.62444305419922, 'Gaming': 74.66097259521484, 'Reacting': 80.31851959228516}}\n"
     ]
    },
    {
     "name": "stderr",
     "output_type": "stream",
     "text": [
      "  7%|▋         | 401/5352 [01:00<11:10,  7.39it/s]"
     ]
    },
    {
     "name": "stdout",
     "output_type": "stream",
     "text": [
      "{'FullBody': {'All': 73.05513763427734, 'UpperStretching': 75.98816680908203, 'Walking': 72.8450927734375, 'Patting': 72.07549285888672, 'LowerStretching': 70.52608489990234, 'Gesticuling': 57.212440490722656, 'Talking': 52.63886260986328, 'Greeting': 50.891727447509766, 'Gaming': 62.5482063293457, 'Reacting': 67.47154235839844}, 'UpperBody': {'All': 55.640357971191406, 'UpperStretching': 61.862144470214844, 'Walking': 49.756465911865234, 'Patting': 51.201114654541016, 'LowerStretching': 42.760623931884766, 'Gesticuling': 46.66215515136719, 'Talking': 47.995887756347656, 'Greeting': 43.936866760253906, 'Gaming': 51.1679573059082, 'Reacting': 55.94588851928711}, 'LowerBody': {'All': 90.46992492675781, 'UpperStretching': 90.11417388916016, 'Walking': 95.9337158203125, 'Patting': 92.94985961914062, 'LowerStretching': 98.29154205322266, 'Gesticuling': 67.76272583007812, 'Talking': 57.28182601928711, 'Greeting': 57.846580505371094, 'Gaming': 73.92845153808594, 'Reacting': 78.99720001220703}}\n"
     ]
    },
    {
     "name": "stderr",
     "output_type": "stream",
     "text": [
      " 11%|█         | 601/5352 [01:27<10:12,  7.75it/s]"
     ]
    },
    {
     "name": "stdout",
     "output_type": "stream",
     "text": [
      "{'FullBody': {'All': 73.16493225097656, 'UpperStretching': 75.95714569091797, 'Walking': 72.89167785644531, 'Patting': 75.73951721191406, 'LowerStretching': 70.60437774658203, 'Gesticuling': 58.1181526184082, 'Talking': 53.66915512084961, 'Greeting': 51.283897399902344, 'Gaming': 63.57059097290039, 'Reacting': 67.94013214111328}, 'UpperBody': {'All': 55.516685485839844, 'UpperStretching': 61.429073333740234, 'Walking': 49.93098449707031, 'Patting': 52.773780822753906, 'LowerStretching': 43.111083984375, 'Gesticuling': 47.101253509521484, 'Talking': 47.363826751708984, 'Greeting': 45.30131149291992, 'Gaming': 51.83475875854492, 'Reacting': 56.0010871887207}, 'LowerBody': {'All': 90.81318664550781, 'UpperStretching': 90.48521423339844, 'Walking': 95.85238647460938, 'Patting': 98.70526885986328, 'LowerStretching': 98.0976791381836, 'Gesticuling': 69.13505554199219, 'Talking': 59.97447967529297, 'Greeting': 57.2664794921875, 'Gaming': 75.3064193725586, 'Reacting': 79.87916564941406}}\n"
     ]
    },
    {
     "name": "stderr",
     "output_type": "stream",
     "text": [
      " 15%|█▍        | 801/5352 [01:54<09:42,  7.81it/s]"
     ]
    },
    {
     "name": "stdout",
     "output_type": "stream",
     "text": [
      "{'FullBody': {'All': 73.4218978881836, 'UpperStretching': 76.13288879394531, 'Walking': 73.47308349609375, 'Patting': 79.44697570800781, 'LowerStretching': 70.60588073730469, 'Gesticuling': 58.862674713134766, 'Talking': 53.62664794921875, 'Greeting': 50.479713439941406, 'Gaming': 63.45753860473633, 'Reacting': 68.12885284423828}, 'UpperBody': {'All': 55.670440673828125, 'UpperStretching': 61.47067642211914, 'Walking': 50.272342681884766, 'Patting': 55.19532012939453, 'LowerStretching': 43.1805305480957, 'Gesticuling': 47.62641525268555, 'Talking': 47.84061050415039, 'Greeting': 44.174678802490234, 'Gaming': 52.203521728515625, 'Reacting': 56.017173767089844}, 'LowerBody': {'All': 91.1733627319336, 'UpperStretching': 90.79510498046875, 'Walking': 96.67382049560547, 'Patting': 103.6986083984375, 'LowerStretching': 98.0312271118164, 'Gesticuling': 70.09893035888672, 'Talking': 59.412689208984375, 'Greeting': 56.78473663330078, 'Gaming': 74.7115478515625, 'Reacting': 80.24053955078125}}\n"
     ]
    },
    {
     "name": "stderr",
     "output_type": "stream",
     "text": [
      " 19%|█▊        | 1001/5352 [02:21<09:53,  7.33it/s]"
     ]
    },
    {
     "name": "stdout",
     "output_type": "stream",
     "text": [
      "{'FullBody': {'All': 73.16641235351562, 'UpperStretching': 75.73843383789062, 'Walking': 73.25143432617188, 'Patting': 82.6509017944336, 'LowerStretching': 70.5533676147461, 'Gesticuling': 58.233707427978516, 'Talking': 52.920433044433594, 'Greeting': 50.918331146240234, 'Gaming': 63.81842041015625, 'Reacting': 67.24298095703125}, 'UpperBody': {'All': 55.49411392211914, 'UpperStretching': 61.091983795166016, 'Walking': 49.8983154296875, 'Patting': 58.32028579711914, 'LowerStretching': 43.31875228881836, 'Gesticuling': 47.2888069152832, 'Talking': 47.108062744140625, 'Greeting': 44.67989730834961, 'Gaming': 52.2390251159668, 'Reacting': 55.88789749145508}, 'LowerBody': {'All': 90.8387222290039, 'UpperStretching': 90.38487243652344, 'Walking': 96.60455322265625, 'Patting': 106.98151397705078, 'LowerStretching': 97.78797912597656, 'Gesticuling': 69.1786117553711, 'Talking': 58.73279571533203, 'Greeting': 57.156761169433594, 'Gaming': 75.3978042602539, 'Reacting': 78.59806060791016}}\n"
     ]
    },
    {
     "name": "stderr",
     "output_type": "stream",
     "text": [
      " 22%|██▏       | 1201/5352 [02:48<09:07,  7.58it/s]"
     ]
    },
    {
     "name": "stdout",
     "output_type": "stream",
     "text": [
      "{'FullBody': {'All': 72.94114685058594, 'UpperStretching': 75.48564910888672, 'Walking': 73.14297485351562, 'Patting': 82.83405303955078, 'LowerStretching': 70.38821411132812, 'Gesticuling': 57.91550827026367, 'Talking': 52.497867584228516, 'Greeting': 50.689292907714844, 'Gaming': 64.44928741455078, 'Reacting': 66.88735961914062}, 'UpperBody': {'All': 55.322452545166016, 'UpperStretching': 60.88016891479492, 'Walking': 49.871212005615234, 'Patting': 57.90331268310547, 'LowerStretching': 43.15513229370117, 'Gesticuling': 47.10972213745117, 'Talking': 46.63405990600586, 'Greeting': 44.201168060302734, 'Gaming': 53.32899856567383, 'Reacting': 55.24527359008789}, 'LowerBody': {'All': 90.55984497070312, 'UpperStretching': 90.09111785888672, 'Walking': 96.41473388671875, 'Patting': 107.76477813720703, 'LowerStretching': 97.62130737304688, 'Gesticuling': 68.72128295898438, 'Talking': 58.36167526245117, 'Greeting': 57.17742156982422, 'Gaming': 75.56957244873047, 'Reacting': 78.5294418334961}}\n"
     ]
    },
    {
     "name": "stderr",
     "output_type": "stream",
     "text": [
      " 26%|██▌       | 1400/5352 [03:15<08:43,  7.55it/s]"
     ]
    },
    {
     "name": "stdout",
     "output_type": "stream",
     "text": [
      "{'FullBody': {'All': 73.03036499023438, 'UpperStretching': 75.60920715332031, 'Walking': 72.88751983642578, 'Patting': 82.78974914550781, 'LowerStretching': 70.6032943725586, 'Gesticuling': 57.7281379699707, 'Talking': 52.6750373840332, 'Greeting': 49.8273811340332, 'Gaming': 63.646583557128906, 'Reacting': 67.5219497680664}, 'UpperBody': {'All': 55.38414764404297, 'UpperStretching': 60.95847702026367, 'Walking': 49.7346076965332, 'Patting': 58.78403091430664, 'LowerStretching': 43.24527359008789, 'Gesticuling': 47.144222259521484, 'Talking': 46.867515563964844, 'Greeting': 43.166015625, 'Gaming': 52.847679138183594, 'Reacting': 55.45615768432617}, 'LowerBody': {'All': 90.67658996582031, 'UpperStretching': 90.25992584228516, 'Walking': 96.0404281616211, 'Patting': 106.79547119140625, 'LowerStretching': 97.9613037109375, 'Gesticuling': 68.31204986572266, 'Talking': 58.48256301879883, 'Greeting': 56.488746643066406, 'Gaming': 74.44548034667969, 'Reacting': 79.5877456665039}}\n"
     ]
    },
    {
     "name": "stderr",
     "output_type": "stream",
     "text": [
      " 30%|██▉       | 1601/5352 [03:42<08:43,  7.17it/s]"
     ]
    },
    {
     "name": "stdout",
     "output_type": "stream",
     "text": [
      "{'FullBody': {'All': 72.92485046386719, 'UpperStretching': 75.59029388427734, 'Walking': 72.87345123291016, 'Patting': 82.31906127929688, 'LowerStretching': 70.3733901977539, 'Gesticuling': 57.929176330566406, 'Talking': 52.35273742675781, 'Greeting': 49.887855529785156, 'Gaming': 63.01762390136719, 'Reacting': 66.8952865600586}, 'UpperBody': {'All': 55.28324890136719, 'UpperStretching': 60.92185974121094, 'Walking': 49.68759536743164, 'Patting': 58.589996337890625, 'LowerStretching': 43.048824310302734, 'Gesticuling': 47.411624908447266, 'Talking': 46.45199966430664, 'Greeting': 43.3442268371582, 'Gaming': 52.18326950073242, 'Reacting': 54.76715087890625}, 'LowerBody': {'All': 90.56647491455078, 'UpperStretching': 90.25872039794922, 'Walking': 96.05931091308594, 'Patting': 106.04812622070312, 'LowerStretching': 97.69795227050781, 'Gesticuling': 68.44672393798828, 'Talking': 58.25346374511719, 'Greeting': 56.43148422241211, 'Gaming': 73.85198211669922, 'Reacting': 79.02342224121094}}\n"
     ]
    },
    {
     "name": "stderr",
     "output_type": "stream",
     "text": [
      " 34%|███▎      | 1801/5352 [04:09<07:55,  7.47it/s]"
     ]
    },
    {
     "name": "stdout",
     "output_type": "stream",
     "text": [
      "{'FullBody': {'All': 72.87056732177734, 'UpperStretching': 75.52838897705078, 'Walking': 72.8519287109375, 'Patting': 81.6705551147461, 'LowerStretching': 70.40007781982422, 'Gesticuling': 58.048519134521484, 'Talking': 52.84929656982422, 'Greeting': 49.931976318359375, 'Gaming': 62.989593505859375, 'Reacting': 66.18059539794922}, 'UpperBody': {'All': 55.24460220336914, 'UpperStretching': 60.89757537841797, 'Walking': 49.66489791870117, 'Patting': 57.82988739013672, 'LowerStretching': 43.039451599121094, 'Gesticuling': 47.487083435058594, 'Talking': 46.73461151123047, 'Greeting': 43.50613784790039, 'Gaming': 52.04644775390625, 'Reacting': 54.235355377197266}, 'LowerBody': {'All': 90.49652862548828, 'UpperStretching': 90.15921020507812, 'Walking': 96.03895568847656, 'Patting': 105.51122283935547, 'LowerStretching': 97.76070404052734, 'Gesticuling': 68.60994720458984, 'Talking': 58.96397018432617, 'Greeting': 56.357818603515625, 'Gaming': 73.93273162841797, 'Reacting': 78.12583923339844}}\n"
     ]
    },
    {
     "name": "stderr",
     "output_type": "stream",
     "text": [
      " 37%|███▋      | 2001/5352 [04:36<07:30,  7.44it/s]"
     ]
    },
    {
     "name": "stdout",
     "output_type": "stream",
     "text": [
      "{'FullBody': {'All': 72.8850326538086, 'UpperStretching': 75.4921875, 'Walking': 72.787109375, 'Patting': 82.0236587524414, 'LowerStretching': 70.45514678955078, 'Gesticuling': 58.1523551940918, 'Talking': 53.0818977355957, 'Greeting': 49.85340118408203, 'Gaming': 62.88262939453125, 'Reacting': 66.28929138183594}, 'UpperBody': {'All': 55.24750518798828, 'UpperStretching': 60.85069274902344, 'Walking': 49.55027389526367, 'Patting': 57.67741394042969, 'LowerStretching': 43.18942642211914, 'Gesticuling': 47.36759567260742, 'Talking': 46.94558334350586, 'Greeting': 43.29616928100586, 'Gaming': 51.86711502075195, 'Reacting': 54.395572662353516}, 'LowerBody': {'All': 90.5225601196289, 'UpperStretching': 90.13368225097656, 'Walking': 96.02394104003906, 'Patting': 106.3698959350586, 'LowerStretching': 97.72086334228516, 'Gesticuling': 68.93710327148438, 'Talking': 59.21821594238281, 'Greeting': 56.4106330871582, 'Gaming': 73.89813232421875, 'Reacting': 78.1830062866211}}\n"
     ]
    },
    {
     "name": "stderr",
     "output_type": "stream",
     "text": [
      " 41%|████      | 2201/5352 [05:03<07:37,  6.89it/s]"
     ]
    },
    {
     "name": "stdout",
     "output_type": "stream",
     "text": [
      "{'FullBody': {'All': 72.84722137451172, 'UpperStretching': 75.424072265625, 'Walking': 72.74092864990234, 'Patting': 81.18037414550781, 'LowerStretching': 70.55553436279297, 'Gesticuling': 58.36101531982422, 'Talking': 52.707923889160156, 'Greeting': 50.10786819458008, 'Gaming': 63.36356735229492, 'Reacting': 66.24971008300781}, 'UpperBody': {'All': 55.18419647216797, 'UpperStretching': 60.778629302978516, 'Walking': 49.49959945678711, 'Patting': 56.88328170776367, 'LowerStretching': 43.22031021118164, 'Gesticuling': 47.61482238769531, 'Talking': 46.3828125, 'Greeting': 43.57979202270508, 'Gaming': 51.778953552246094, 'Reacting': 54.30489730834961}, 'LowerBody': {'All': 90.51025390625, 'UpperStretching': 90.06951904296875, 'Walking': 95.98225402832031, 'Patting': 105.47746276855469, 'LowerStretching': 97.8907470703125, 'Gesticuling': 69.1072006225586, 'Talking': 59.03303527832031, 'Greeting': 56.63594436645508, 'Gaming': 74.94818115234375, 'Reacting': 78.19451141357422}}\n"
     ]
    },
    {
     "name": "stderr",
     "output_type": "stream",
     "text": [
      " 45%|████▍     | 2401/5352 [05:31<06:44,  7.29it/s]"
     ]
    },
    {
     "name": "stdout",
     "output_type": "stream",
     "text": [
      "{'FullBody': {'All': 72.87767028808594, 'UpperStretching': 75.5127182006836, 'Walking': 72.5439224243164, 'Patting': 80.25848388671875, 'LowerStretching': 70.60765075683594, 'Gesticuling': 58.35865020751953, 'Talking': 52.291290283203125, 'Greeting': 49.818565368652344, 'Gaming': 63.6058464050293, 'Reacting': 66.35435485839844}, 'UpperBody': {'All': 55.23942184448242, 'UpperStretching': 60.90000915527344, 'Walking': 49.415130615234375, 'Patting': 56.204952239990234, 'LowerStretching': 43.27849578857422, 'Gesticuling': 47.55299377441406, 'Talking': 45.8262939453125, 'Greeting': 43.30876541137695, 'Gaming': 51.510986328125, 'Reacting': 54.440040588378906}, 'LowerBody': {'All': 90.51592254638672, 'UpperStretching': 90.12541961669922, 'Walking': 95.67271423339844, 'Patting': 104.31201934814453, 'LowerStretching': 97.93680572509766, 'Gesticuling': 69.164306640625, 'Talking': 58.756282806396484, 'Greeting': 56.32836151123047, 'Gaming': 75.7007064819336, 'Reacting': 78.26866912841797}}\n"
     ]
    },
    {
     "name": "stderr",
     "output_type": "stream",
     "text": [
      " 49%|████▊     | 2601/5352 [05:58<06:10,  7.43it/s]"
     ]
    },
    {
     "name": "stdout",
     "output_type": "stream",
     "text": [
      "{'FullBody': {'All': 72.91886138916016, 'UpperStretching': 75.60372924804688, 'Walking': 72.37056732177734, 'Patting': 80.40499114990234, 'LowerStretching': 70.57757568359375, 'Gesticuling': 58.226470947265625, 'Talking': 52.090179443359375, 'Greeting': 49.853084564208984, 'Gaming': 63.59150314331055, 'Reacting': 66.7493667602539}, 'UpperBody': {'All': 55.26737976074219, 'UpperStretching': 60.95066833496094, 'Walking': 49.288631439208984, 'Patting': 56.218116760253906, 'LowerStretching': 43.29023742675781, 'Gesticuling': 47.50873947143555, 'Talking': 45.66731262207031, 'Greeting': 43.504356384277344, 'Gaming': 51.58962631225586, 'Reacting': 54.606536865234375}, 'LowerBody': {'All': 90.57035064697266, 'UpperStretching': 90.25678253173828, 'Walking': 95.4524917602539, 'Patting': 104.59185028076172, 'LowerStretching': 97.86492156982422, 'Gesticuling': 68.94419860839844, 'Talking': 58.51304244995117, 'Greeting': 56.20181655883789, 'Gaming': 75.59337615966797, 'Reacting': 78.89218139648438}}\n"
     ]
    },
    {
     "name": "stderr",
     "output_type": "stream",
     "text": [
      " 52%|█████▏    | 2801/5352 [06:25<06:11,  6.86it/s]"
     ]
    },
    {
     "name": "stdout",
     "output_type": "stream",
     "text": [
      "{'FullBody': {'All': 72.93663024902344, 'UpperStretching': 75.57556915283203, 'Walking': 72.61283111572266, 'Patting': 81.1024398803711, 'LowerStretching': 70.49232482910156, 'Gesticuling': 58.43787384033203, 'Talking': 52.10601806640625, 'Greeting': 49.760276794433594, 'Gaming': 63.64190673828125, 'Reacting': 66.61592864990234}, 'UpperBody': {'All': 55.31926345825195, 'UpperStretching': 60.980628967285156, 'Walking': 49.50586700439453, 'Patting': 56.56414794921875, 'LowerStretching': 43.28271484375, 'Gesticuling': 47.7199592590332, 'Talking': 45.65806198120117, 'Greeting': 43.33743667602539, 'Gaming': 51.5361213684082, 'Reacting': 54.28962326049805}, 'LowerBody': {'All': 90.55400848388672, 'UpperStretching': 90.17051696777344, 'Walking': 95.71980285644531, 'Patting': 105.64073181152344, 'LowerStretching': 97.70191955566406, 'Gesticuling': 69.1557846069336, 'Talking': 58.55397033691406, 'Greeting': 56.18312072753906, 'Gaming': 75.74768829345703, 'Reacting': 78.9422378540039}}\n"
     ]
    },
    {
     "name": "stderr",
     "output_type": "stream",
     "text": [
      " 56%|█████▌    | 3001/5352 [06:52<05:19,  7.36it/s]"
     ]
    },
    {
     "name": "stdout",
     "output_type": "stream",
     "text": [
      "{'FullBody': {'All': 72.98092651367188, 'UpperStretching': 75.68948364257812, 'Walking': 72.4004898071289, 'Patting': 81.5849838256836, 'LowerStretching': 70.42034149169922, 'Gesticuling': 58.37990951538086, 'Talking': 52.54022216796875, 'Greeting': 49.73169708251953, 'Gaming': 63.50880813598633, 'Reacting': 66.4342041015625}, 'UpperBody': {'All': 55.35999298095703, 'UpperStretching': 61.05108642578125, 'Walking': 49.39733123779297, 'Patting': 57.02525329589844, 'LowerStretching': 43.26448059082031, 'Gesticuling': 47.728450775146484, 'Talking': 45.89670181274414, 'Greeting': 43.331451416015625, 'Gaming': 51.39065933227539, 'Reacting': 54.166465759277344}, 'LowerBody': {'All': 90.60185241699219, 'UpperStretching': 90.32786560058594, 'Walking': 95.40363311767578, 'Patting': 106.14471435546875, 'LowerStretching': 97.57620239257812, 'Gesticuling': 69.03136444091797, 'Talking': 59.183746337890625, 'Greeting': 56.1319465637207, 'Gaming': 75.62694549560547, 'Reacting': 78.70193481445312}}\n"
     ]
    },
    {
     "name": "stderr",
     "output_type": "stream",
     "text": [
      " 60%|█████▉    | 3201/5352 [07:19<04:47,  7.48it/s]"
     ]
    },
    {
     "name": "stdout",
     "output_type": "stream",
     "text": [
      "{'FullBody': {'All': 73.00923156738281, 'UpperStretching': 75.73458862304688, 'Walking': 72.36548614501953, 'Patting': 81.36882781982422, 'LowerStretching': 70.45701599121094, 'Gesticuling': 58.21629333496094, 'Talking': 52.76651382446289, 'Greeting': 49.74393081665039, 'Gaming': 63.38764953613281, 'Reacting': 66.49766540527344}, 'UpperBody': {'All': 55.35654830932617, 'UpperStretching': 61.036773681640625, 'Walking': 49.36709213256836, 'Patting': 56.78343963623047, 'LowerStretching': 43.28805160522461, 'Gesticuling': 47.603912353515625, 'Talking': 46.03459930419922, 'Greeting': 43.38587951660156, 'Gaming': 51.487274169921875, 'Reacting': 54.18413543701172}, 'LowerBody': {'All': 90.66191101074219, 'UpperStretching': 90.43240356445312, 'Walking': 95.3638687133789, 'Patting': 105.95420837402344, 'LowerStretching': 97.62598419189453, 'Gesticuling': 68.82867431640625, 'Talking': 59.4984245300293, 'Greeting': 56.10198211669922, 'Gaming': 75.28802490234375, 'Reacting': 78.81120300292969}}\n"
     ]
    },
    {
     "name": "stderr",
     "output_type": "stream",
     "text": [
      " 64%|██████▎   | 3401/5352 [07:46<04:52,  6.68it/s]"
     ]
    },
    {
     "name": "stdout",
     "output_type": "stream",
     "text": [
      "{'FullBody': {'All': 73.09172821044922, 'UpperStretching': 75.8166732788086, 'Walking': 72.50792694091797, 'Patting': 80.84194946289062, 'LowerStretching': 70.59949493408203, 'Gesticuling': 58.26842498779297, 'Talking': 52.733829498291016, 'Greeting': 49.62708282470703, 'Gaming': 63.2042350769043, 'Reacting': 66.39775085449219}, 'UpperBody': {'All': 55.39257049560547, 'UpperStretching': 61.07052993774414, 'Walking': 49.45750045776367, 'Patting': 56.29113006591797, 'LowerStretching': 43.33985137939453, 'Gesticuling': 47.7231330871582, 'Talking': 46.04804611206055, 'Greeting': 43.18656921386719, 'Gaming': 51.23863220214844, 'Reacting': 54.10197830200195}, 'LowerBody': {'All': 90.79088592529297, 'UpperStretching': 90.56282043457031, 'Walking': 95.5583724975586, 'Patting': 105.39277648925781, 'LowerStretching': 97.85913848876953, 'Gesticuling': 68.81371307373047, 'Talking': 59.41960906982422, 'Greeting': 56.067596435546875, 'Gaming': 75.16983032226562, 'Reacting': 78.69351959228516}}\n"
     ]
    },
    {
     "name": "stderr",
     "output_type": "stream",
     "text": [
      " 67%|██████▋   | 3601/5352 [08:13<04:06,  7.10it/s]"
     ]
    },
    {
     "name": "stdout",
     "output_type": "stream",
     "text": [
      "{'FullBody': {'All': 73.07188415527344, 'UpperStretching': 75.77145385742188, 'Walking': 72.56172943115234, 'Patting': 80.53742218017578, 'LowerStretching': 70.6535873413086, 'Gesticuling': 58.28545379638672, 'Talking': 52.51263427734375, 'Greeting': 49.44679260253906, 'Gaming': 63.267330169677734, 'Reacting': 66.54148864746094}, 'UpperBody': {'All': 55.38532257080078, 'UpperStretching': 61.06587219238281, 'Walking': 49.50080490112305, 'Patting': 55.90467071533203, 'LowerStretching': 43.347869873046875, 'Gesticuling': 47.80283737182617, 'Talking': 45.864418029785156, 'Greeting': 42.93825149536133, 'Gaming': 51.07481002807617, 'Reacting': 54.28644943237305}, 'LowerBody': {'All': 90.75845336914062, 'UpperStretching': 90.47702026367188, 'Walking': 95.62265014648438, 'Patting': 105.17017364501953, 'LowerStretching': 97.95931243896484, 'Gesticuling': 68.76806640625, 'Talking': 59.160850524902344, 'Greeting': 55.95534133911133, 'Gaming': 75.4598617553711, 'Reacting': 78.79652404785156}}\n"
     ]
    },
    {
     "name": "stderr",
     "output_type": "stream",
     "text": [
      " 71%|███████   | 3801/5352 [08:41<03:34,  7.24it/s]"
     ]
    },
    {
     "name": "stdout",
     "output_type": "stream",
     "text": [
      "{'FullBody': {'All': 73.03685760498047, 'UpperStretching': 75.7972640991211, 'Walking': 72.34564971923828, 'Patting': 80.39016723632812, 'LowerStretching': 70.58004760742188, 'Gesticuling': 58.24491882324219, 'Talking': 52.24329376220703, 'Greeting': 49.51656723022461, 'Gaming': 63.363346099853516, 'Reacting': 66.4871597290039}, 'UpperBody': {'All': 55.35121536254883, 'UpperStretching': 61.08192443847656, 'Walking': 49.33934020996094, 'Patting': 55.85105895996094, 'LowerStretching': 43.31716537475586, 'Gesticuling': 47.643680572509766, 'Talking': 45.55590057373047, 'Greeting': 42.8609619140625, 'Gaming': 51.01456069946289, 'Reacting': 54.254417419433594}, 'LowerBody': {'All': 90.72250366210938, 'UpperStretching': 90.51261138916016, 'Walking': 95.3519515991211, 'Patting': 104.92928314208984, 'LowerStretching': 97.84293365478516, 'Gesticuling': 68.84615325927734, 'Talking': 58.93067932128906, 'Greeting': 56.17216491699219, 'Gaming': 75.71212005615234, 'Reacting': 78.71988677978516}}\n"
     ]
    },
    {
     "name": "stderr",
     "output_type": "stream",
     "text": [
      " 75%|███████▍  | 4001/5352 [09:08<03:29,  6.46it/s]"
     ]
    },
    {
     "name": "stdout",
     "output_type": "stream",
     "text": [
      "{'FullBody': {'All': 73.01254272460938, 'UpperStretching': 75.75502014160156, 'Walking': 72.35356903076172, 'Patting': 79.79505157470703, 'LowerStretching': 70.60726165771484, 'Gesticuling': 58.326019287109375, 'Talking': 52.135799407958984, 'Greeting': 49.40949249267578, 'Gaming': 63.444183349609375, 'Reacting': 66.63011169433594}, 'UpperBody': {'All': 55.35708236694336, 'UpperStretching': 61.098289489746094, 'Walking': 49.29230880737305, 'Patting': 55.360111236572266, 'LowerStretching': 43.35920715332031, 'Gesticuling': 47.69523620605469, 'Talking': 45.381717681884766, 'Greeting': 42.727569580078125, 'Gaming': 50.940006256103516, 'Reacting': 54.522220611572266}, 'LowerBody': {'All': 90.66800689697266, 'UpperStretching': 90.4117431640625, 'Walking': 95.41484832763672, 'Patting': 104.22998809814453, 'LowerStretching': 97.85533142089844, 'Gesticuling': 68.95679473876953, 'Talking': 58.8898811340332, 'Greeting': 56.09141540527344, 'Gaming': 75.94835662841797, 'Reacting': 78.73799896240234}}\n"
     ]
    },
    {
     "name": "stderr",
     "output_type": "stream",
     "text": [
      " 78%|███████▊  | 4201/5352 [09:35<02:46,  6.90it/s]"
     ]
    },
    {
     "name": "stdout",
     "output_type": "stream",
     "text": [
      "{'FullBody': {'All': 73.03187561035156, 'UpperStretching': 75.75279998779297, 'Walking': 72.48038482666016, 'Patting': 80.38714599609375, 'LowerStretching': 70.56664276123047, 'Gesticuling': 58.39827346801758, 'Talking': 52.13322448730469, 'Greeting': 49.24224853515625, 'Gaming': 63.4140510559082, 'Reacting': 66.76519012451172}, 'UpperBody': {'All': 55.364986419677734, 'UpperStretching': 61.088165283203125, 'Walking': 49.342308044433594, 'Patting': 56.10426712036133, 'LowerStretching': 43.30634689331055, 'Gesticuling': 47.78510665893555, 'Talking': 45.34843826293945, 'Greeting': 42.490806579589844, 'Gaming': 51.08091735839844, 'Reacting': 54.724342346191406}, 'LowerBody': {'All': 90.69876861572266, 'UpperStretching': 90.41743469238281, 'Walking': 95.61845397949219, 'Patting': 104.67001342773438, 'LowerStretching': 97.82693481445312, 'Gesticuling': 69.01144409179688, 'Talking': 58.917999267578125, 'Greeting': 55.993682861328125, 'Gaming': 75.74718475341797, 'Reacting': 78.8060302734375}}\n"
     ]
    },
    {
     "name": "stderr",
     "output_type": "stream",
     "text": [
      " 82%|████████▏ | 4401/5352 [10:02<02:16,  6.96it/s]"
     ]
    },
    {
     "name": "stdout",
     "output_type": "stream",
     "text": [
      "{'FullBody': {'All': 73.06295013427734, 'UpperStretching': 75.78289031982422, 'Walking': 72.5623550415039, 'Patting': 80.2387466430664, 'LowerStretching': 70.66503143310547, 'Gesticuling': 58.340362548828125, 'Talking': 52.26389694213867, 'Greeting': 49.08100891113281, 'Gaming': 63.30260467529297, 'Reacting': 66.71625518798828}, 'UpperBody': {'All': 55.363582611083984, 'UpperStretching': 61.07758331298828, 'Walking': 49.42119598388672, 'Patting': 55.97010803222656, 'LowerStretching': 43.32561492919922, 'Gesticuling': 47.74112319946289, 'Talking': 45.370338439941406, 'Greeting': 42.251956939697266, 'Gaming': 51.10240936279297, 'Reacting': 54.67278289794922}, 'LowerBody': {'All': 90.76232147216797, 'UpperStretching': 90.48819732666016, 'Walking': 95.70350646972656, 'Patting': 104.50737762451172, 'LowerStretching': 98.00444793701172, 'Gesticuling': 68.93960571289062, 'Talking': 59.15745544433594, 'Greeting': 55.91004943847656, 'Gaming': 75.50279998779297, 'Reacting': 78.75971984863281}}\n"
     ]
    },
    {
     "name": "stderr",
     "output_type": "stream",
     "text": [
      " 86%|████████▌ | 4601/5352 [10:29<01:51,  6.71it/s]"
     ]
    },
    {
     "name": "stdout",
     "output_type": "stream",
     "text": [
      "{'FullBody': {'All': 73.06536865234375, 'UpperStretching': 75.80729675292969, 'Walking': 72.44828033447266, 'Patting': 80.20612335205078, 'LowerStretching': 70.69865417480469, 'Gesticuling': 58.18762969970703, 'Talking': 52.189353942871094, 'Greeting': 49.01476287841797, 'Gaming': 63.24125671386719, 'Reacting': 66.6575927734375}, 'UpperBody': {'All': 55.3931999206543, 'UpperStretching': 61.127506256103516, 'Walking': 49.37134552001953, 'Patting': 56.23707580566406, 'LowerStretching': 43.364959716796875, 'Gesticuling': 47.64931106567383, 'Talking': 45.32377624511719, 'Greeting': 42.147212982177734, 'Gaming': 51.066925048828125, 'Reacting': 54.62274932861328}, 'LowerBody': {'All': 90.737548828125, 'UpperStretching': 90.48707580566406, 'Walking': 95.52519989013672, 'Patting': 104.17516326904297, 'LowerStretching': 98.0323486328125, 'Gesticuling': 68.72594451904297, 'Talking': 59.05491638183594, 'Greeting': 55.88230514526367, 'Gaming': 75.41559600830078, 'Reacting': 78.69243621826172}}\n"
     ]
    },
    {
     "name": "stderr",
     "output_type": "stream",
     "text": [
      " 90%|████████▉ | 4801/5352 [10:56<01:20,  6.87it/s]"
     ]
    },
    {
     "name": "stdout",
     "output_type": "stream",
     "text": [
      "{'FullBody': {'All': 73.08927154541016, 'UpperStretching': 75.82843017578125, 'Walking': 72.48661041259766, 'Patting': 79.49562072753906, 'LowerStretching': 70.75164031982422, 'Gesticuling': 58.35382080078125, 'Talking': 52.21110153198242, 'Greeting': 49.125736236572266, 'Gaming': 63.256710052490234, 'Reacting': 66.6401596069336}, 'UpperBody': {'All': 55.408592224121094, 'UpperStretching': 61.12117004394531, 'Walking': 49.3822135925293, 'Patting': 55.762107849121094, 'LowerStretching': 43.36762619018555, 'Gesticuling': 47.9371337890625, 'Talking': 45.41754150390625, 'Greeting': 42.26717758178711, 'Gaming': 51.215904235839844, 'Reacting': 54.66355895996094}, 'LowerBody': {'All': 90.76995086669922, 'UpperStretching': 90.53568267822266, 'Walking': 95.59098815917969, 'Patting': 103.22913360595703, 'LowerStretching': 98.1356430053711, 'Gesticuling': 68.7705078125, 'Talking': 59.00466537475586, 'Greeting': 55.984291076660156, 'Gaming': 75.2975082397461, 'Reacting': 78.61676025390625}}\n"
     ]
    },
    {
     "name": "stderr",
     "output_type": "stream",
     "text": [
      " 93%|█████████▎| 5001/5352 [11:24<00:50,  6.97it/s]"
     ]
    },
    {
     "name": "stdout",
     "output_type": "stream",
     "text": [
      "{'FullBody': {'All': 73.11229705810547, 'UpperStretching': 75.80841827392578, 'Walking': 72.65632629394531, 'Patting': 79.45983123779297, 'LowerStretching': 70.78569030761719, 'Gesticuling': 58.5809211730957, 'Talking': 52.24934768676758, 'Greeting': 49.05876541137695, 'Gaming': 63.39885330200195, 'Reacting': 66.6868667602539}, 'UpperBody': {'All': 55.41807556152344, 'UpperStretching': 61.1002311706543, 'Walking': 49.49729537963867, 'Patting': 55.60554885864258, 'LowerStretching': 43.382896423339844, 'Gesticuling': 48.08572769165039, 'Talking': 45.52371597290039, 'Greeting': 42.195438385009766, 'Gaming': 51.41517639160156, 'Reacting': 54.83719253540039}, 'LowerBody': {'All': 90.80651092529297, 'UpperStretching': 90.51661682128906, 'Walking': 95.81533813476562, 'Patting': 103.31410217285156, 'LowerStretching': 98.18848419189453, 'Gesticuling': 69.07611846923828, 'Talking': 58.974979400634766, 'Greeting': 55.922096252441406, 'Gaming': 75.38251495361328, 'Reacting': 78.53652954101562}}\n"
     ]
    },
    {
     "name": "stderr",
     "output_type": "stream",
     "text": [
      " 97%|█████████▋| 5201/5352 [11:51<00:23,  6.31it/s]"
     ]
    },
    {
     "name": "stdout",
     "output_type": "stream",
     "text": [
      "{'FullBody': {'All': 73.1474609375, 'UpperStretching': 75.8502426147461, 'Walking': 72.7497329711914, 'Patting': 79.53366088867188, 'LowerStretching': 70.77693939208984, 'Gesticuling': 58.54536437988281, 'Talking': 52.35165786743164, 'Greeting': 49.183067321777344, 'Gaming': 63.27851104736328, 'Reacting': 66.74471282958984}, 'UpperBody': {'All': 55.46080017089844, 'UpperStretching': 61.162322998046875, 'Walking': 49.55516052246094, 'Patting': 55.657108306884766, 'LowerStretching': 43.341163635253906, 'Gesticuling': 48.03434371948242, 'Talking': 45.64494323730469, 'Greeting': 42.245262145996094, 'Gaming': 51.32905960083008, 'Reacting': 54.90910339355469}, 'LowerBody': {'All': 90.83413696289062, 'UpperStretching': 90.53816223144531, 'Walking': 95.94430541992188, 'Patting': 103.41021728515625, 'LowerStretching': 98.21271514892578, 'Gesticuling': 69.05638885498047, 'Talking': 59.058372497558594, 'Greeting': 56.120872497558594, 'Gaming': 75.22796630859375, 'Reacting': 78.580322265625}}\n"
     ]
    },
    {
     "name": "stderr",
     "output_type": "stream",
     "text": [
      "100%|██████████| 5352/5352 [12:11<00:00,  7.31it/s]\n",
      "\u001b[94m09:04:43 \u001b[92m[INFO]\u001b[94m Main\u001b[0m: Saving evaluation results...\n",
      "\u001b[94m09:04:43 \u001b[92m[INFO]\u001b[94m Main\u001b[0m: Done.\n",
      "\u001b[94m09:04:43 \u001b[92m[INFO]\u001b[94m Main\u001b[0m: Starting demo...\n",
      "  0%|          | 0/5352 [00:00<?, ?it/s]/opt/conda/lib/python3.10/site-packages/torchvision/transforms/transforms.py:329: UserWarning: Argument 'interpolation' of type int is deprecated since 0.13 and will be removed in 0.15. Please use InterpolationMode enum.\n",
      "  warnings.warn(\n",
      "/opt/conda/lib/python3.10/site-packages/torchvision/transforms/transforms.py:329: UserWarning: Argument 'interpolation' of type int is deprecated since 0.13 and will be removed in 0.15. Please use InterpolationMode enum.\n",
      "  warnings.warn(\n",
      "/opt/conda/lib/python3.10/site-packages/torchvision/transforms/transforms.py:329: UserWarning: Argument 'interpolation' of type int is deprecated since 0.13 and will be removed in 0.15. Please use InterpolationMode enum.\n",
      "  warnings.warn(\n",
      "/opt/conda/lib/python3.10/site-packages/torchvision/transforms/transforms.py:329: UserWarning: Argument 'interpolation' of type int is deprecated since 0.13 and will be removed in 0.15. Please use InterpolationMode enum.\n",
      "  warnings.warn(\n",
      "/opt/conda/lib/python3.10/site-packages/torchvision/transforms/transforms.py:329: UserWarning: Argument 'interpolation' of type int is deprecated since 0.13 and will be removed in 0.15. Please use InterpolationMode enum.\n",
      "  warnings.warn(\n",
      "/opt/conda/lib/python3.10/site-packages/torchvision/transforms/transforms.py:329: UserWarning: Argument 'interpolation' of type int is deprecated since 0.13 and will be removed in 0.15. Please use InterpolationMode enum.\n",
      "  warnings.warn(\n",
      "/opt/conda/lib/python3.10/site-packages/torchvision/transforms/transforms.py:329: UserWarning: Argument 'interpolation' of type int is deprecated since 0.13 and will be removed in 0.15. Please use InterpolationMode enum.\n",
      "  warnings.warn(\n",
      "/opt/conda/lib/python3.10/site-packages/torchvision/transforms/transforms.py:329: UserWarning: Argument 'interpolation' of type int is deprecated since 0.13 and will be removed in 0.15. Please use InterpolationMode enum.\n",
      "  warnings.warn(\n",
      "/opt/conda/lib/python3.10/site-packages/torchvision/transforms/transforms.py:329: UserWarning: Argument 'interpolation' of type int is deprecated since 0.13 and will be removed in 0.15. Please use InterpolationMode enum.\n",
      "  warnings.warn(\n",
      "/opt/conda/lib/python3.10/site-packages/torchvision/transforms/transforms.py:329: UserWarning: Argument 'interpolation' of type int is deprecated since 0.13 and will be removed in 0.15. Please use InterpolationMode enum.\n",
      "  warnings.warn(\n",
      "/opt/conda/lib/python3.10/site-packages/torchvision/transforms/transforms.py:329: UserWarning: Argument 'interpolation' of type int is deprecated since 0.13 and will be removed in 0.15. Please use InterpolationMode enum.\n",
      "  warnings.warn(\n",
      "/opt/conda/lib/python3.10/site-packages/torchvision/transforms/transforms.py:329: UserWarning: Argument 'interpolation' of type int is deprecated since 0.13 and will be removed in 0.15. Please use InterpolationMode enum.\n",
      "  warnings.warn(\n",
      "/opt/conda/lib/python3.10/site-packages/torchvision/transforms/transforms.py:329: UserWarning: Argument 'interpolation' of type int is deprecated since 0.13 and will be removed in 0.15. Please use InterpolationMode enum.\n",
      "  warnings.warn(\n",
      "/opt/conda/lib/python3.10/site-packages/torchvision/transforms/transforms.py:329: UserWarning: Argument 'interpolation' of type int is deprecated since 0.13 and will be removed in 0.15. Please use InterpolationMode enum.\n",
      "  warnings.warn(\n",
      "/opt/conda/lib/python3.10/site-packages/torchvision/transforms/transforms.py:329: UserWarning: Argument 'interpolation' of type int is deprecated since 0.13 and will be removed in 0.15. Please use InterpolationMode enum.\n",
      "  warnings.warn(\n",
      "/opt/conda/lib/python3.10/site-packages/torchvision/transforms/transforms.py:329: UserWarning: Argument 'interpolation' of type int is deprecated since 0.13 and will be removed in 0.15. Please use InterpolationMode enum.\n",
      "  warnings.warn(\n",
      "/opt/conda/lib/python3.10/site-packages/torchvision/transforms/transforms.py:329: UserWarning: Argument 'interpolation' of type int is deprecated since 0.13 and will be removed in 0.15. Please use InterpolationMode enum.\n",
      "  warnings.warn(\n",
      "/opt/conda/lib/python3.10/site-packages/torchvision/transforms/transforms.py:329: UserWarning: Argument 'interpolation' of type int is deprecated since 0.13 and will be removed in 0.15. Please use InterpolationMode enum.\n",
      "  warnings.warn(\n",
      "/opt/conda/lib/python3.10/site-packages/torchvision/transforms/transforms.py:329: UserWarning: Argument 'interpolation' of type int is deprecated since 0.13 and will be removed in 0.15. Please use InterpolationMode enum.\n",
      "  warnings.warn(\n",
      "/opt/conda/lib/python3.10/site-packages/torchvision/transforms/transforms.py:329: UserWarning: Argument 'interpolation' of type int is deprecated since 0.13 and will be removed in 0.15. Please use InterpolationMode enum.\n",
      "  warnings.warn(\n",
      "/opt/conda/lib/python3.10/site-packages/torchvision/transforms/transforms.py:329: UserWarning: Argument 'interpolation' of type int is deprecated since 0.13 and will be removed in 0.15. Please use InterpolationMode enum.\n",
      "  warnings.warn(\n",
      "/opt/conda/lib/python3.10/site-packages/torchvision/transforms/transforms.py:329: UserWarning: Argument 'interpolation' of type int is deprecated since 0.13 and will be removed in 0.15. Please use InterpolationMode enum.\n",
      "  warnings.warn(\n",
      "/opt/conda/lib/python3.10/site-packages/torchvision/transforms/transforms.py:329: UserWarning: Argument 'interpolation' of type int is deprecated since 0.13 and will be removed in 0.15. Please use InterpolationMode enum.\n",
      "  warnings.warn(\n",
      "/opt/conda/lib/python3.10/site-packages/torchvision/transforms/transforms.py:329: UserWarning: Argument 'interpolation' of type int is deprecated since 0.13 and will be removed in 0.15. Please use InterpolationMode enum.\n",
      "  warnings.warn(\n",
      "  4%|▍         | 201/5352 [00:33<11:03,  7.76it/s]"
     ]
    },
    {
     "name": "stdout",
     "output_type": "stream",
     "text": [
      "{'FullBody': {'All': 92.19866943359375, 'UpperStretching': 96.47042846679688, 'Walking': 85.97589874267578, 'Talking': 73.61775207519531, 'LowerStretching': 90.3915786743164, 'Gesticuling': 76.00762176513672, 'Gaming': 81.06689453125, 'Reacting': 78.11952209472656, 'Patting': 95.97872161865234, 'Greeting': 68.66487121582031}, 'UpperBody': {'All': 76.96699523925781, 'UpperStretching': 85.91304779052734, 'Walking': 65.05461883544922, 'Talking': 67.75320434570312, 'LowerStretching': 62.828826904296875, 'Gesticuling': 64.54009246826172, 'Gaming': 62.3741569519043, 'Reacting': 64.90375518798828, 'Patting': 68.83081817626953, 'Greeting': 63.24217224121094}, 'LowerBody': {'All': 107.43035125732422, 'UpperStretching': 107.02778625488281, 'Walking': 106.8971939086914, 'Talking': 79.48229217529297, 'LowerStretching': 117.95431518554688, 'Gesticuling': 87.47514343261719, 'Gaming': 99.7596435546875, 'Reacting': 91.33529663085938, 'Patting': 123.12664794921875, 'Greeting': 74.08757019042969}}\n"
     ]
    },
    {
     "name": "stderr",
     "output_type": "stream",
     "text": [
      "  7%|▋         | 401/5352 [01:00<11:23,  7.24it/s]"
     ]
    },
    {
     "name": "stdout",
     "output_type": "stream",
     "text": [
      "{'FullBody': {'All': 91.18002319335938, 'UpperStretching': 95.38008117675781, 'Walking': 86.29611206054688, 'Talking': 71.41150665283203, 'LowerStretching': 89.12113952636719, 'Gesticuling': 73.67098999023438, 'Gaming': 78.30590057373047, 'Reacting': 79.19926452636719, 'Patting': 95.17789459228516, 'Greeting': 69.14739990234375}, 'UpperBody': {'All': 76.28759002685547, 'UpperStretching': 84.74411010742188, 'Walking': 65.63996887207031, 'Talking': 65.76079559326172, 'LowerStretching': 63.02586364746094, 'Gesticuling': 64.78912353515625, 'Gaming': 61.26449966430664, 'Reacting': 66.12255096435547, 'Patting': 68.06987762451172, 'Greeting': 63.505584716796875}, 'LowerBody': {'All': 106.07244110107422, 'UpperStretching': 106.01603698730469, 'Walking': 106.9522476196289, 'Talking': 77.06221771240234, 'LowerStretching': 115.2164077758789, 'Gesticuling': 82.55287170410156, 'Gaming': 95.34729766845703, 'Reacting': 92.27596282958984, 'Patting': 122.28590393066406, 'Greeting': 74.78921508789062}}\n"
     ]
    },
    {
     "name": "stderr",
     "output_type": "stream",
     "text": [
      " 11%|█         | 601/5352 [01:27<10:11,  7.77it/s]"
     ]
    },
    {
     "name": "stdout",
     "output_type": "stream",
     "text": [
      "{'FullBody': {'All': 91.10517883300781, 'UpperStretching': 95.03360748291016, 'Walking': 86.71637725830078, 'Talking': 71.42637634277344, 'LowerStretching': 89.22659301757812, 'Gesticuling': 74.4861068725586, 'Gaming': 78.68840026855469, 'Reacting': 79.12018585205078, 'Patting': 95.39743041992188, 'Greeting': 68.92256927490234}, 'UpperBody': {'All': 76.34980010986328, 'UpperStretching': 84.70352172851562, 'Walking': 65.89049530029297, 'Talking': 66.0599594116211, 'LowerStretching': 62.71534729003906, 'Gesticuling': 65.97525024414062, 'Gaming': 62.177818298339844, 'Reacting': 66.71561431884766, 'Patting': 68.5214614868164, 'Greeting': 63.08903884887695}, 'LowerBody': {'All': 105.86054992675781, 'UpperStretching': 105.36366271972656, 'Walking': 107.54225158691406, 'Talking': 76.79279327392578, 'LowerStretching': 115.73780822753906, 'Gesticuling': 82.99695587158203, 'Gaming': 95.19898223876953, 'Reacting': 91.5247573852539, 'Patting': 122.27340698242188, 'Greeting': 74.75609588623047}}\n"
     ]
    },
    {
     "name": "stderr",
     "output_type": "stream",
     "text": [
      " 15%|█▍        | 801/5352 [01:54<09:43,  7.80it/s]"
     ]
    },
    {
     "name": "stdout",
     "output_type": "stream",
     "text": [
      "{'FullBody': {'All': 91.0339584350586, 'UpperStretching': 94.85592651367188, 'Walking': 86.60655212402344, 'Talking': 73.21327209472656, 'LowerStretching': 89.20295715332031, 'Gesticuling': 74.678955078125, 'Gaming': 78.79279327392578, 'Reacting': 78.59617614746094, 'Patting': 94.661376953125, 'Greeting': 68.94325256347656}, 'UpperBody': {'All': 76.297119140625, 'UpperStretching': 84.510498046875, 'Walking': 65.88478088378906, 'Talking': 68.15132904052734, 'LowerStretching': 62.82585144042969, 'Gesticuling': 66.67465209960938, 'Gaming': 62.51290512084961, 'Reacting': 66.50151062011719, 'Patting': 67.41858673095703, 'Greeting': 63.18868637084961}, 'LowerBody': {'All': 105.77079010009766, 'UpperStretching': 105.20137023925781, 'Walking': 107.32832336425781, 'Talking': 78.27521514892578, 'LowerStretching': 115.5800552368164, 'Gesticuling': 82.68327331542969, 'Gaming': 95.07268524169922, 'Reacting': 90.69084167480469, 'Patting': 121.90418243408203, 'Greeting': 74.69779968261719}}\n"
     ]
    },
    {
     "name": "stderr",
     "output_type": "stream",
     "text": [
      " 19%|█▊        | 1001/5352 [02:21<09:55,  7.31it/s]"
     ]
    },
    {
     "name": "stdout",
     "output_type": "stream",
     "text": [
      "{'FullBody': {'All': 91.1125259399414, 'UpperStretching': 95.0052490234375, 'Walking': 86.43740844726562, 'Talking': 72.91946411132812, 'LowerStretching': 89.05597686767578, 'Gesticuling': 74.74967193603516, 'Gaming': 78.99030303955078, 'Reacting': 78.85857391357422, 'Patting': 96.501708984375, 'Greeting': 70.30677032470703}, 'UpperBody': {'All': 76.47370147705078, 'UpperStretching': 84.7816162109375, 'Walking': 65.9947280883789, 'Talking': 68.7212905883789, 'LowerStretching': 62.68959045410156, 'Gesticuling': 66.3901596069336, 'Gaming': 61.471004486083984, 'Reacting': 66.84537506103516, 'Patting': 69.6848373413086, 'Greeting': 64.75642395019531}, 'LowerBody': {'All': 105.7513427734375, 'UpperStretching': 105.2288589477539, 'Walking': 106.88008880615234, 'Talking': 77.11766052246094, 'LowerStretching': 115.42237091064453, 'Gesticuling': 83.10919189453125, 'Gaming': 96.50960540771484, 'Reacting': 90.87177276611328, 'Patting': 123.31857299804688, 'Greeting': 75.85712432861328}}\n"
     ]
    },
    {
     "name": "stderr",
     "output_type": "stream",
     "text": [
      " 22%|██▏       | 1201/5352 [02:48<08:55,  7.74it/s]"
     ]
    },
    {
     "name": "stdout",
     "output_type": "stream",
     "text": [
      "{'FullBody': {'All': 91.18974304199219, 'UpperStretching': 95.04595184326172, 'Walking': 86.26759338378906, 'Talking': 73.3765869140625, 'LowerStretching': 89.49156188964844, 'Gesticuling': 74.74099731445312, 'Gaming': 79.31407928466797, 'Reacting': 79.0190200805664, 'Patting': 95.24850463867188, 'Greeting': 69.91702270507812}, 'UpperBody': {'All': 76.61145782470703, 'UpperStretching': 84.97157287597656, 'Walking': 65.76093292236328, 'Talking': 69.1356430053711, 'LowerStretching': 62.86280059814453, 'Gesticuling': 67.03688049316406, 'Gaming': 61.51310729980469, 'Reacting': 66.81243133544922, 'Patting': 68.39862060546875, 'Greeting': 65.41388702392578}, 'LowerBody': {'All': 105.76802062988281, 'UpperStretching': 105.12033081054688, 'Walking': 106.77426147460938, 'Talking': 77.61752319335938, 'LowerStretching': 116.1203384399414, 'Gesticuling': 82.44512939453125, 'Gaming': 97.11504364013672, 'Reacting': 91.22560119628906, 'Patting': 122.09839630126953, 'Greeting': 74.4201431274414}}\n"
     ]
    },
    {
     "name": "stderr",
     "output_type": "stream",
     "text": [
      " 26%|██▌       | 1401/5352 [03:15<08:36,  7.65it/s]"
     ]
    },
    {
     "name": "stdout",
     "output_type": "stream",
     "text": [
      "{'FullBody': {'All': 91.17501068115234, 'UpperStretching': 94.92925262451172, 'Walking': 86.2191390991211, 'Talking': 73.27606964111328, 'LowerStretching': 89.54218292236328, 'Gesticuling': 74.60745239257812, 'Gaming': 79.58643341064453, 'Reacting': 78.68722534179688, 'Patting': 96.91349029541016, 'Greeting': 69.79981994628906}, 'UpperBody': {'All': 76.58755493164062, 'UpperStretching': 84.83414459228516, 'Walking': 65.85173034667969, 'Talking': 68.8111572265625, 'LowerStretching': 62.8255500793457, 'Gesticuling': 67.25253295898438, 'Gaming': 60.94011688232422, 'Reacting': 66.66314697265625, 'Patting': 69.3818130493164, 'Greeting': 65.39144134521484}, 'LowerBody': {'All': 105.76246643066406, 'UpperStretching': 105.02436065673828, 'Walking': 106.5865478515625, 'Talking': 77.74098205566406, 'LowerStretching': 116.25882720947266, 'Gesticuling': 81.96237182617188, 'Gaming': 98.23274993896484, 'Reacting': 90.71131134033203, 'Patting': 124.44515991210938, 'Greeting': 74.20819091796875}}\n"
     ]
    },
    {
     "name": "stderr",
     "output_type": "stream",
     "text": [
      " 30%|██▉       | 1601/5352 [03:42<08:58,  6.97it/s]"
     ]
    },
    {
     "name": "stdout",
     "output_type": "stream",
     "text": [
      "{'FullBody': {'All': 91.18876647949219, 'UpperStretching': 94.8886489868164, 'Walking': 86.32294464111328, 'Talking': 72.77153778076172, 'LowerStretching': 89.84561920166016, 'Gesticuling': 74.1022720336914, 'Gaming': 79.73626708984375, 'Reacting': 78.48521423339844, 'Patting': 98.2996826171875, 'Greeting': 69.90736389160156}, 'UpperBody': {'All': 76.60115051269531, 'UpperStretching': 84.84928131103516, 'Walking': 65.8926010131836, 'Talking': 68.38725280761719, 'LowerStretching': 63.144229888916016, 'Gesticuling': 66.37548828125, 'Gaming': 60.9957389831543, 'Reacting': 66.33308410644531, 'Patting': 70.65460205078125, 'Greeting': 65.46075439453125}, 'LowerBody': {'All': 105.77637481689453, 'UpperStretching': 104.92802429199219, 'Walking': 106.7532730102539, 'Talking': 77.15582275390625, 'LowerStretching': 116.54701232910156, 'Gesticuling': 81.82905578613281, 'Gaming': 98.47679138183594, 'Reacting': 90.63734436035156, 'Patting': 125.94476318359375, 'Greeting': 74.35397338867188}}\n"
     ]
    },
    {
     "name": "stderr",
     "output_type": "stream",
     "text": [
      " 34%|███▎      | 1801/5352 [04:09<07:57,  7.43it/s]"
     ]
    },
    {
     "name": "stdout",
     "output_type": "stream",
     "text": [
      "{'FullBody': {'All': 91.034912109375, 'UpperStretching': 94.76217651367188, 'Walking': 86.3468017578125, 'Talking': 72.27106475830078, 'LowerStretching': 89.62753295898438, 'Gesticuling': 74.04498291015625, 'Gaming': 79.91133880615234, 'Reacting': 78.279296875, 'Patting': 97.48875427246094, 'Greeting': 69.74019622802734}, 'UpperBody': {'All': 76.47005462646484, 'UpperStretching': 84.73782348632812, 'Walking': 65.994384765625, 'Talking': 67.91604614257812, 'LowerStretching': 63.01096725463867, 'Gesticuling': 66.37535095214844, 'Gaming': 60.630767822265625, 'Reacting': 66.10047912597656, 'Patting': 69.7740478515625, 'Greeting': 65.74384307861328}, 'LowerBody': {'All': 105.59978485107422, 'UpperStretching': 104.7865219116211, 'Walking': 106.69921875, 'Talking': 76.62608337402344, 'LowerStretching': 116.24410247802734, 'Gesticuling': 81.71461486816406, 'Gaming': 99.19192504882812, 'Reacting': 90.45811462402344, 'Patting': 125.20345306396484, 'Greeting': 73.73654174804688}}\n"
     ]
    },
    {
     "name": "stderr",
     "output_type": "stream",
     "text": [
      " 37%|███▋      | 2001/5352 [04:36<07:18,  7.65it/s]"
     ]
    },
    {
     "name": "stdout",
     "output_type": "stream",
     "text": [
      "{'FullBody': {'All': 90.95829010009766, 'UpperStretching': 94.59219360351562, 'Walking': 86.64068603515625, 'Talking': 72.06414794921875, 'LowerStretching': 89.58594512939453, 'Gesticuling': 73.88505554199219, 'Gaming': 79.46913146972656, 'Reacting': 78.44447326660156, 'Patting': 97.27040100097656, 'Greeting': 69.16060638427734}, 'UpperBody': {'All': 76.41190338134766, 'UpperStretching': 84.61211395263672, 'Walking': 66.09392547607422, 'Talking': 67.71720886230469, 'LowerStretching': 63.02162170410156, 'Gesticuling': 66.17595672607422, 'Gaming': 60.5312385559082, 'Reacting': 66.44827270507812, 'Patting': 69.11058044433594, 'Greeting': 64.95722198486328}, 'LowerBody': {'All': 105.50466918945312, 'UpperStretching': 104.57228088378906, 'Walking': 107.18744659423828, 'Talking': 76.41109466552734, 'LowerStretching': 116.1502685546875, 'Gesticuling': 81.59415435791016, 'Gaming': 98.40702819824219, 'Reacting': 90.440673828125, 'Patting': 125.43022155761719, 'Greeting': 73.36400604248047}}\n"
     ]
    },
    {
     "name": "stderr",
     "output_type": "stream",
     "text": [
      " 41%|████      | 2201/5352 [05:03<07:16,  7.22it/s]"
     ]
    },
    {
     "name": "stdout",
     "output_type": "stream",
     "text": [
      "{'FullBody': {'All': 90.98723602294922, 'UpperStretching': 94.58748626708984, 'Walking': 86.71730041503906, 'Talking': 72.01325988769531, 'LowerStretching': 89.65914154052734, 'Gesticuling': 74.18328857421875, 'Gaming': 79.66314697265625, 'Reacting': 78.3951187133789, 'Patting': 97.22147369384766, 'Greeting': 69.24308013916016}, 'UpperBody': {'All': 76.44659423828125, 'UpperStretching': 84.685546875, 'Walking': 66.1921157836914, 'Talking': 67.71160888671875, 'LowerStretching': 62.9296875, 'Gesticuling': 66.51774597167969, 'Gaming': 60.61248016357422, 'Reacting': 66.50917053222656, 'Patting': 68.28157043457031, 'Greeting': 65.33982849121094}, 'LowerBody': {'All': 105.52788543701172, 'UpperStretching': 104.48943328857422, 'Walking': 107.24247741699219, 'Talking': 76.31491088867188, 'LowerStretching': 116.38859558105469, 'Gesticuling': 81.84883117675781, 'Gaming': 98.71381378173828, 'Reacting': 90.28105926513672, 'Patting': 126.161376953125, 'Greeting': 73.14631652832031}}\n"
     ]
    },
    {
     "name": "stderr",
     "output_type": "stream",
     "text": [
      " 45%|████▍     | 2401/5352 [05:30<06:34,  7.47it/s]"
     ]
    },
    {
     "name": "stdout",
     "output_type": "stream",
     "text": [
      "{'FullBody': {'All': 90.98230743408203, 'UpperStretching': 94.58908081054688, 'Walking': 86.68103790283203, 'Talking': 72.00886535644531, 'LowerStretching': 89.4710464477539, 'Gesticuling': 74.1378402709961, 'Gaming': 79.62052917480469, 'Reacting': 78.38899230957031, 'Patting': 97.9623031616211, 'Greeting': 69.27215576171875}, 'UpperBody': {'All': 76.52771759033203, 'UpperStretching': 84.75524139404297, 'Walking': 66.11649322509766, 'Talking': 67.98942565917969, 'LowerStretching': 62.91896438598633, 'Gesticuling': 66.54561614990234, 'Gaming': 60.61249923706055, 'Reacting': 66.76419067382812, 'Patting': 69.07913208007812, 'Greeting': 65.14012145996094}, 'LowerBody': {'All': 105.43689727783203, 'UpperStretching': 104.42292785644531, 'Walking': 107.2455825805664, 'Talking': 76.02828979492188, 'LowerStretching': 116.02313232421875, 'Gesticuling': 81.73006439208984, 'Gaming': 98.62855529785156, 'Reacting': 90.0137939453125, 'Patting': 126.845458984375, 'Greeting': 73.40419006347656}}\n"
     ]
    },
    {
     "name": "stderr",
     "output_type": "stream",
     "text": [
      " 49%|████▊     | 2601/5352 [05:57<06:12,  7.39it/s]"
     ]
    },
    {
     "name": "stdout",
     "output_type": "stream",
     "text": [
      "{'FullBody': {'All': 90.93048095703125, 'UpperStretching': 94.5313491821289, 'Walking': 86.68683624267578, 'Talking': 72.04591369628906, 'LowerStretching': 89.469970703125, 'Gesticuling': 74.1951675415039, 'Gaming': 79.22674560546875, 'Reacting': 78.04248046875, 'Patting': 97.90636444091797, 'Greeting': 69.06002807617188}, 'UpperBody': {'All': 76.46234130859375, 'UpperStretching': 84.68035888671875, 'Walking': 66.12583923339844, 'Talking': 68.26056671142578, 'LowerStretching': 62.895259857177734, 'Gesticuling': 66.43785858154297, 'Gaming': 60.492469787597656, 'Reacting': 66.51782989501953, 'Patting': 69.32475280761719, 'Greeting': 64.85502624511719}, 'LowerBody': {'All': 105.39862823486328, 'UpperStretching': 104.3823471069336, 'Walking': 107.24783325195312, 'Talking': 75.83126831054688, 'LowerStretching': 116.04469299316406, 'Gesticuling': 81.95246887207031, 'Gaming': 97.96102142333984, 'Reacting': 89.56713104248047, 'Patting': 126.48797607421875, 'Greeting': 73.26502990722656}}\n"
     ]
    },
    {
     "name": "stderr",
     "output_type": "stream",
     "text": [
      " 52%|█████▏    | 2801/5352 [06:24<06:03,  7.01it/s]"
     ]
    },
    {
     "name": "stdout",
     "output_type": "stream",
     "text": [
      "{'FullBody': {'All': 90.89186096191406, 'UpperStretching': 94.50659942626953, 'Walking': 86.56656646728516, 'Talking': 72.17436981201172, 'LowerStretching': 89.3791275024414, 'Gesticuling': 74.29631042480469, 'Gaming': 79.16921997070312, 'Reacting': 78.04502868652344, 'Patting': 98.00785064697266, 'Greeting': 69.14201354980469}, 'UpperBody': {'All': 76.43115997314453, 'UpperStretching': 84.6179428100586, 'Walking': 66.11690521240234, 'Talking': 68.5684585571289, 'LowerStretching': 62.80751037597656, 'Gesticuling': 66.46157836914062, 'Gaming': 60.823448181152344, 'Reacting': 66.74813842773438, 'Patting': 69.34456634521484, 'Greeting': 64.99205017089844}, 'LowerBody': {'All': 105.35256958007812, 'UpperStretching': 104.39527893066406, 'Walking': 107.01622009277344, 'Talking': 75.7802963256836, 'LowerStretching': 115.95073699951172, 'Gesticuling': 82.13102722167969, 'Gaming': 97.51500701904297, 'Reacting': 89.3419189453125, 'Patting': 126.67113494873047, 'Greeting': 73.29197692871094}}\n"
     ]
    },
    {
     "name": "stderr",
     "output_type": "stream",
     "text": [
      " 56%|█████▌    | 3001/5352 [06:51<05:21,  7.32it/s]"
     ]
    },
    {
     "name": "stdout",
     "output_type": "stream",
     "text": [
      "{'FullBody': {'All': 90.92487335205078, 'UpperStretching': 94.52054595947266, 'Walking': 86.6206283569336, 'Talking': 72.08656311035156, 'LowerStretching': 89.47142791748047, 'Gesticuling': 74.20397186279297, 'Gaming': 78.9262924194336, 'Reacting': 78.2242431640625, 'Patting': 97.79308319091797, 'Greeting': 68.96529388427734}, 'UpperBody': {'All': 76.40745544433594, 'UpperStretching': 84.60208129882812, 'Walking': 66.12496948242188, 'Talking': 68.24148559570312, 'LowerStretching': 62.76725769042969, 'Gesticuling': 66.36355590820312, 'Gaming': 60.6879768371582, 'Reacting': 66.9113540649414, 'Patting': 69.07303619384766, 'Greeting': 64.78300476074219}, 'LowerBody': {'All': 105.4422836303711, 'UpperStretching': 104.43902587890625, 'Walking': 107.11629486083984, 'Talking': 75.931640625, 'LowerStretching': 116.17560577392578, 'Gesticuling': 82.04440307617188, 'Gaming': 97.16461181640625, 'Reacting': 89.53714752197266, 'Patting': 126.51313781738281, 'Greeting': 73.1475830078125}}\n"
     ]
    },
    {
     "name": "stderr",
     "output_type": "stream",
     "text": [
      " 60%|█████▉    | 3201/5352 [07:18<04:52,  7.36it/s]"
     ]
    },
    {
     "name": "stdout",
     "output_type": "stream",
     "text": [
      "{'FullBody': {'All': 90.92790985107422, 'UpperStretching': 94.51211547851562, 'Walking': 86.59081268310547, 'Talking': 72.26624298095703, 'LowerStretching': 89.44937133789062, 'Gesticuling': 74.3053207397461, 'Gaming': 79.056640625, 'Reacting': 78.38481140136719, 'Patting': 98.29576110839844, 'Greeting': 68.86843872070312}, 'UpperBody': {'All': 76.43128967285156, 'UpperStretching': 84.59849548339844, 'Walking': 66.15941619873047, 'Talking': 68.47927856445312, 'LowerStretching': 62.68731689453125, 'Gesticuling': 66.48491668701172, 'Gaming': 61.085426330566406, 'Reacting': 67.40196990966797, 'Patting': 69.59175109863281, 'Greeting': 64.6566162109375}, 'LowerBody': {'All': 105.4245376586914, 'UpperStretching': 104.42572784423828, 'Walking': 107.02220916748047, 'Talking': 76.05320739746094, 'LowerStretching': 116.2114486694336, 'Gesticuling': 82.125732421875, 'Gaming': 97.02784729003906, 'Reacting': 89.3676528930664, 'Patting': 126.99977111816406, 'Greeting': 73.08025360107422}}\n"
     ]
    },
    {
     "name": "stderr",
     "output_type": "stream",
     "text": [
      " 64%|██████▎   | 3401/5352 [07:45<04:44,  6.87it/s]"
     ]
    },
    {
     "name": "stdout",
     "output_type": "stream",
     "text": [
      "{'FullBody': {'All': 90.90629577636719, 'UpperStretching': 94.4757080078125, 'Walking': 86.57422637939453, 'Talking': 72.1539306640625, 'LowerStretching': 89.55596923828125, 'Gesticuling': 74.0276870727539, 'Gaming': 78.9650650024414, 'Reacting': 78.30616760253906, 'Patting': 98.14576721191406, 'Greeting': 68.83755493164062}, 'UpperBody': {'All': 76.41810607910156, 'UpperStretching': 84.58052825927734, 'Walking': 66.13079833984375, 'Talking': 68.54364776611328, 'LowerStretching': 62.7342414855957, 'Gesticuling': 66.36055755615234, 'Gaming': 60.96782684326172, 'Reacting': 67.28091430664062, 'Patting': 69.37358093261719, 'Greeting': 64.5582046508789}, 'LowerBody': {'All': 105.39447784423828, 'UpperStretching': 104.37088775634766, 'Walking': 107.0176773071289, 'Talking': 75.76420593261719, 'LowerStretching': 116.37770080566406, 'Gesticuling': 81.69480895996094, 'Gaming': 96.96231079101562, 'Reacting': 89.33141326904297, 'Patting': 126.91795349121094, 'Greeting': 73.11689758300781}}\n"
     ]
    },
    {
     "name": "stderr",
     "output_type": "stream",
     "text": [
      " 67%|██████▋   | 3601/5352 [08:12<04:03,  7.19it/s]"
     ]
    },
    {
     "name": "stdout",
     "output_type": "stream",
     "text": [
      "{'FullBody': {'All': 90.92597198486328, 'UpperStretching': 94.49339294433594, 'Walking': 86.65474700927734, 'Talking': 72.00729370117188, 'LowerStretching': 89.60447692871094, 'Gesticuling': 74.07221984863281, 'Gaming': 78.99099731445312, 'Reacting': 78.37720489501953, 'Patting': 97.84768676757812, 'Greeting': 69.20789337158203}, 'UpperBody': {'All': 76.43988037109375, 'UpperStretching': 84.61679077148438, 'Walking': 66.19136047363281, 'Talking': 68.33755493164062, 'LowerStretching': 62.78083419799805, 'Gesticuling': 66.43595123291016, 'Gaming': 60.818359375, 'Reacting': 67.39852142333984, 'Patting': 69.09261322021484, 'Greeting': 64.9479751586914}, 'LowerBody': {'All': 105.41206359863281, 'UpperStretching': 104.3699951171875, 'Walking': 107.11813354492188, 'Talking': 75.67704010009766, 'LowerStretching': 116.42813110351562, 'Gesticuling': 81.70849609375, 'Gaming': 97.16364288330078, 'Reacting': 89.35589599609375, 'Patting': 126.60275268554688, 'Greeting': 73.46780395507812}}\n"
     ]
    },
    {
     "name": "stderr",
     "output_type": "stream",
     "text": [
      " 71%|███████   | 3801/5352 [08:40<03:34,  7.23it/s]"
     ]
    },
    {
     "name": "stdout",
     "output_type": "stream",
     "text": [
      "{'FullBody': {'All': 90.9698715209961, 'UpperStretching': 94.549560546875, 'Walking': 86.6585464477539, 'Talking': 72.0269546508789, 'LowerStretching': 89.59134674072266, 'Gesticuling': 74.21214294433594, 'Gaming': 78.79447174072266, 'Reacting': 78.34738159179688, 'Patting': 98.3301010131836, 'Greeting': 69.451904296875}, 'UpperBody': {'All': 76.47346496582031, 'UpperStretching': 84.6732177734375, 'Walking': 66.17682647705078, 'Talking': 68.49980163574219, 'LowerStretching': 62.72525405883789, 'Gesticuling': 66.7303466796875, 'Gaming': 60.656890869140625, 'Reacting': 67.31818389892578, 'Patting': 69.1619873046875, 'Greeting': 65.16946411132812}, 'LowerBody': {'All': 105.46627807617188, 'UpperStretching': 104.42591094970703, 'Walking': 107.14027404785156, 'Talking': 75.55411529541016, 'LowerStretching': 116.45744323730469, 'Gesticuling': 81.6939468383789, 'Gaming': 96.93206024169922, 'Reacting': 89.37657165527344, 'Patting': 127.49820709228516, 'Greeting': 73.73433685302734}}\n"
     ]
    },
    {
     "name": "stderr",
     "output_type": "stream",
     "text": [
      " 75%|███████▍  | 4001/5352 [09:07<03:17,  6.86it/s]"
     ]
    },
    {
     "name": "stdout",
     "output_type": "stream",
     "text": [
      "{'FullBody': {'All': 90.99188995361328, 'UpperStretching': 94.56428527832031, 'Walking': 86.51217651367188, 'Talking': 72.05874633789062, 'LowerStretching': 89.59033966064453, 'Gesticuling': 74.23358917236328, 'Gaming': 78.78428649902344, 'Reacting': 78.77470397949219, 'Patting': 99.19621276855469, 'Greeting': 69.54198455810547}, 'UpperBody': {'All': 76.52090454101562, 'UpperStretching': 84.71038055419922, 'Walking': 66.04978942871094, 'Talking': 68.57356262207031, 'LowerStretching': 62.76769256591797, 'Gesticuling': 66.73755645751953, 'Gaming': 60.78773498535156, 'Reacting': 67.62208557128906, 'Patting': 69.82122802734375, 'Greeting': 65.43804168701172}, 'LowerBody': {'All': 105.46287536621094, 'UpperStretching': 104.41819763183594, 'Walking': 106.97456359863281, 'Talking': 75.54393768310547, 'LowerStretching': 116.41299438476562, 'Gesticuling': 81.72962188720703, 'Gaming': 96.78081512451172, 'Reacting': 89.92730712890625, 'Patting': 128.57119750976562, 'Greeting': 73.64592742919922}}\n"
     ]
    },
    {
     "name": "stderr",
     "output_type": "stream",
     "text": [
      " 78%|███████▊  | 4201/5352 [09:34<02:43,  7.04it/s]"
     ]
    },
    {
     "name": "stdout",
     "output_type": "stream",
     "text": [
      "{'FullBody': {'All': 91.01454162597656, 'UpperStretching': 94.52471923828125, 'Walking': 86.58696746826172, 'Talking': 72.11531066894531, 'LowerStretching': 89.6817855834961, 'Gesticuling': 74.21460723876953, 'Gaming': 78.65553283691406, 'Reacting': 78.92240905761719, 'Patting': 99.58924102783203, 'Greeting': 69.74475860595703}, 'UpperBody': {'All': 76.57462310791016, 'UpperStretching': 84.69239807128906, 'Walking': 66.18807220458984, 'Talking': 68.66913604736328, 'LowerStretching': 62.816226959228516, 'Gesticuling': 66.69828033447266, 'Gaming': 60.7966194152832, 'Reacting': 67.73967742919922, 'Patting': 70.14739990234375, 'Greeting': 65.63639831542969}, 'LowerBody': {'All': 105.45445251464844, 'UpperStretching': 104.3570556640625, 'Walking': 106.98584747314453, 'Talking': 75.56148529052734, 'LowerStretching': 116.54734802246094, 'Gesticuling': 81.73092651367188, 'Gaming': 96.51445770263672, 'Reacting': 90.10514831542969, 'Patting': 129.0310821533203, 'Greeting': 73.8531265258789}}\n"
     ]
    },
    {
     "name": "stderr",
     "output_type": "stream",
     "text": [
      " 82%|████████▏ | 4401/5352 [10:01<02:15,  7.03it/s]"
     ]
    },
    {
     "name": "stdout",
     "output_type": "stream",
     "text": [
      "{'FullBody': {'All': 91.01072692871094, 'UpperStretching': 94.53250122070312, 'Walking': 86.70793914794922, 'Talking': 72.14755249023438, 'LowerStretching': 89.65208435058594, 'Gesticuling': 74.11467742919922, 'Gaming': 78.49625396728516, 'Reacting': 78.88206481933594, 'Patting': 99.20790100097656, 'Greeting': 69.4784927368164}, 'UpperBody': {'All': 76.5838623046875, 'UpperStretching': 84.74398040771484, 'Walking': 66.27603149414062, 'Talking': 68.74243927001953, 'LowerStretching': 62.76342010498047, 'Gesticuling': 66.60095977783203, 'Gaming': 60.73278045654297, 'Reacting': 67.6952133178711, 'Patting': 69.78851318359375, 'Greeting': 65.3143081665039}, 'LowerBody': {'All': 105.43758392333984, 'UpperStretching': 104.32101440429688, 'Walking': 107.13985443115234, 'Talking': 75.55267333984375, 'LowerStretching': 116.54075622558594, 'Gesticuling': 81.62840270996094, 'Gaming': 96.25971984863281, 'Reacting': 90.06890869140625, 'Patting': 128.6272735595703, 'Greeting': 73.6426773071289}}\n"
     ]
    },
    {
     "name": "stderr",
     "output_type": "stream",
     "text": [
      " 86%|████████▌ | 4601/5352 [10:28<01:53,  6.65it/s]"
     ]
    },
    {
     "name": "stdout",
     "output_type": "stream",
     "text": [
      "{'FullBody': {'All': 90.9864501953125, 'UpperStretching': 94.48101806640625, 'Walking': 86.6203384399414, 'Talking': 72.11052703857422, 'LowerStretching': 89.68978118896484, 'Gesticuling': 74.1375961303711, 'Gaming': 78.53681182861328, 'Reacting': 78.8963623046875, 'Patting': 99.25106048583984, 'Greeting': 69.18692016601562}, 'UpperBody': {'All': 76.58497619628906, 'UpperStretching': 84.71792602539062, 'Walking': 66.25738525390625, 'Talking': 68.7012939453125, 'LowerStretching': 62.82958221435547, 'Gesticuling': 66.54790496826172, 'Gaming': 60.92124557495117, 'Reacting': 67.67134857177734, 'Patting': 69.69755554199219, 'Greeting': 64.95497131347656}, 'LowerBody': {'All': 105.38793182373047, 'UpperStretching': 104.24412536621094, 'Walking': 106.9832763671875, 'Talking': 75.51976013183594, 'LowerStretching': 116.54999542236328, 'Gesticuling': 81.72727966308594, 'Gaming': 96.15238189697266, 'Reacting': 90.12136840820312, 'Patting': 128.8045654296875, 'Greeting': 73.41886901855469}}\n"
     ]
    },
    {
     "name": "stderr",
     "output_type": "stream",
     "text": [
      " 90%|████████▉ | 4801/5352 [10:55<01:17,  7.07it/s]"
     ]
    },
    {
     "name": "stdout",
     "output_type": "stream",
     "text": [
      "{'FullBody': {'All': 91.00224304199219, 'UpperStretching': 94.49720764160156, 'Walking': 86.72840118408203, 'Talking': 72.08626556396484, 'LowerStretching': 89.74461364746094, 'Gesticuling': 73.90241241455078, 'Gaming': 78.47236633300781, 'Reacting': 78.91454315185547, 'Patting': 98.83475494384766, 'Greeting': 69.1177978515625}, 'UpperBody': {'All': 76.58269500732422, 'UpperStretching': 84.71176147460938, 'Walking': 66.33924865722656, 'Talking': 68.76425170898438, 'LowerStretching': 62.813724517822266, 'Gesticuling': 66.38626098632812, 'Gaming': 61.06416702270508, 'Reacting': 67.7708740234375, 'Patting': 69.43941497802734, 'Greeting': 64.843017578125}, 'LowerBody': {'All': 105.42179870605469, 'UpperStretching': 104.28266906738281, 'Walking': 107.1175308227539, 'Talking': 75.40826416015625, 'LowerStretching': 116.67550659179688, 'Gesticuling': 81.41857147216797, 'Gaming': 95.88056945800781, 'Reacting': 90.05819702148438, 'Patting': 128.2301025390625, 'Greeting': 73.39258575439453}}\n"
     ]
    },
    {
     "name": "stderr",
     "output_type": "stream",
     "text": [
      " 93%|█████████▎| 5001/5352 [11:22<00:49,  7.11it/s]"
     ]
    },
    {
     "name": "stdout",
     "output_type": "stream",
     "text": [
      "{'FullBody': {'All': 91.03412628173828, 'UpperStretching': 94.51292419433594, 'Walking': 86.81044006347656, 'Talking': 72.0343017578125, 'LowerStretching': 89.80653381347656, 'Gesticuling': 73.97942352294922, 'Gaming': 78.5479507446289, 'Reacting': 78.91677856445312, 'Patting': 98.93280029296875, 'Greeting': 69.08824157714844}, 'UpperBody': {'All': 76.62238311767578, 'UpperStretching': 84.731201171875, 'Walking': 66.43897247314453, 'Talking': 68.740478515625, 'LowerStretching': 62.90345001220703, 'Gesticuling': 66.37391662597656, 'Gaming': 61.1817741394043, 'Reacting': 67.76386260986328, 'Patting': 69.64586639404297, 'Greeting': 64.80992889404297}, 'LowerBody': {'All': 105.44586181640625, 'UpperStretching': 104.2946548461914, 'Walking': 107.181884765625, 'Talking': 75.328125, 'LowerStretching': 116.70964050292969, 'Gesticuling': 81.5849380493164, 'Gaming': 95.91412353515625, 'Reacting': 90.06969451904297, 'Patting': 128.2197265625, 'Greeting': 73.36656188964844}}\n"
     ]
    },
    {
     "name": "stderr",
     "output_type": "stream",
     "text": [
      " 97%|█████████▋| 5201/5352 [11:50<00:23,  6.37it/s]"
     ]
    },
    {
     "name": "stdout",
     "output_type": "stream",
     "text": [
      "{'FullBody': {'All': 91.00469970703125, 'UpperStretching': 94.47211456298828, 'Walking': 86.79227447509766, 'Talking': 71.99394989013672, 'LowerStretching': 89.73654174804688, 'Gesticuling': 74.02816009521484, 'Gaming': 78.49041748046875, 'Reacting': 79.1840591430664, 'Patting': 98.73050689697266, 'Greeting': 69.42383575439453}, 'UpperBody': {'All': 76.63792419433594, 'UpperStretching': 84.73204040527344, 'Walking': 66.45484161376953, 'Talking': 68.72038269042969, 'LowerStretching': 62.85511779785156, 'Gesticuling': 66.48470306396484, 'Gaming': 61.210514068603516, 'Reacting': 67.87652587890625, 'Patting': 69.65426635742188, 'Greeting': 65.28887939453125}, 'LowerBody': {'All': 105.37146759033203, 'UpperStretching': 104.21220397949219, 'Walking': 107.12970733642578, 'Talking': 75.26750946044922, 'LowerStretching': 116.61798095703125, 'Gesticuling': 81.57161712646484, 'Gaming': 95.77032470703125, 'Reacting': 90.49159240722656, 'Patting': 127.8067626953125, 'Greeting': 73.55878448486328}}\n"
     ]
    },
    {
     "name": "stderr",
     "output_type": "stream",
     "text": [
      "100%|██████████| 5352/5352 [12:10<00:00,  7.33it/s]\n",
      "\u001b[94m09:16:55 \u001b[92m[INFO]\u001b[94m Main\u001b[0m: Saving evaluation results...\n",
      "\u001b[94m09:16:55 \u001b[92m[INFO]\u001b[94m Main\u001b[0m: Done.\n",
      "\u001b[94m09:16:55 \u001b[92m[INFO]\u001b[94m Main\u001b[0m: Starting demo...\n",
      "  0%|          | 0/5352 [00:00<?, ?it/s]/opt/conda/lib/python3.10/site-packages/torchvision/transforms/transforms.py:329: UserWarning: Argument 'interpolation' of type int is deprecated since 0.13 and will be removed in 0.15. Please use InterpolationMode enum.\n",
      "  warnings.warn(\n",
      "/opt/conda/lib/python3.10/site-packages/torchvision/transforms/transforms.py:329: UserWarning: Argument 'interpolation' of type int is deprecated since 0.13 and will be removed in 0.15. Please use InterpolationMode enum.\n",
      "  warnings.warn(\n",
      "/opt/conda/lib/python3.10/site-packages/torchvision/transforms/transforms.py:329: UserWarning: Argument 'interpolation' of type int is deprecated since 0.13 and will be removed in 0.15. Please use InterpolationMode enum.\n",
      "  warnings.warn(\n",
      "/opt/conda/lib/python3.10/site-packages/torchvision/transforms/transforms.py:329: UserWarning: Argument 'interpolation' of type int is deprecated since 0.13 and will be removed in 0.15. Please use InterpolationMode enum.\n",
      "  warnings.warn(\n",
      "/opt/conda/lib/python3.10/site-packages/torchvision/transforms/transforms.py:329: UserWarning: Argument 'interpolation' of type int is deprecated since 0.13 and will be removed in 0.15. Please use InterpolationMode enum.\n",
      "  warnings.warn(\n",
      "/opt/conda/lib/python3.10/site-packages/torchvision/transforms/transforms.py:329: UserWarning: Argument 'interpolation' of type int is deprecated since 0.13 and will be removed in 0.15. Please use InterpolationMode enum.\n",
      "  warnings.warn(\n",
      "/opt/conda/lib/python3.10/site-packages/torchvision/transforms/transforms.py:329: UserWarning: Argument 'interpolation' of type int is deprecated since 0.13 and will be removed in 0.15. Please use InterpolationMode enum.\n",
      "  warnings.warn(\n",
      "/opt/conda/lib/python3.10/site-packages/torchvision/transforms/transforms.py:329: UserWarning: Argument 'interpolation' of type int is deprecated since 0.13 and will be removed in 0.15. Please use InterpolationMode enum.\n",
      "  warnings.warn(\n",
      "/opt/conda/lib/python3.10/site-packages/torchvision/transforms/transforms.py:329: UserWarning: Argument 'interpolation' of type int is deprecated since 0.13 and will be removed in 0.15. Please use InterpolationMode enum.\n",
      "  warnings.warn(\n",
      "/opt/conda/lib/python3.10/site-packages/torchvision/transforms/transforms.py:329: UserWarning: Argument 'interpolation' of type int is deprecated since 0.13 and will be removed in 0.15. Please use InterpolationMode enum.\n",
      "  warnings.warn(\n",
      "/opt/conda/lib/python3.10/site-packages/torchvision/transforms/transforms.py:329: UserWarning: Argument 'interpolation' of type int is deprecated since 0.13 and will be removed in 0.15. Please use InterpolationMode enum.\n",
      "  warnings.warn(\n",
      "/opt/conda/lib/python3.10/site-packages/torchvision/transforms/transforms.py:329: UserWarning: Argument 'interpolation' of type int is deprecated since 0.13 and will be removed in 0.15. Please use InterpolationMode enum.\n",
      "  warnings.warn(\n",
      "/opt/conda/lib/python3.10/site-packages/torchvision/transforms/transforms.py:329: UserWarning: Argument 'interpolation' of type int is deprecated since 0.13 and will be removed in 0.15. Please use InterpolationMode enum.\n",
      "  warnings.warn(\n",
      "/opt/conda/lib/python3.10/site-packages/torchvision/transforms/transforms.py:329: UserWarning: Argument 'interpolation' of type int is deprecated since 0.13 and will be removed in 0.15. Please use InterpolationMode enum.\n",
      "  warnings.warn(\n",
      "/opt/conda/lib/python3.10/site-packages/torchvision/transforms/transforms.py:329: UserWarning: Argument 'interpolation' of type int is deprecated since 0.13 and will be removed in 0.15. Please use InterpolationMode enum.\n",
      "  warnings.warn(\n",
      "/opt/conda/lib/python3.10/site-packages/torchvision/transforms/transforms.py:329: UserWarning: Argument 'interpolation' of type int is deprecated since 0.13 and will be removed in 0.15. Please use InterpolationMode enum.\n",
      "  warnings.warn(\n",
      "/opt/conda/lib/python3.10/site-packages/torchvision/transforms/transforms.py:329: UserWarning: Argument 'interpolation' of type int is deprecated since 0.13 and will be removed in 0.15. Please use InterpolationMode enum.\n",
      "  warnings.warn(\n",
      "/opt/conda/lib/python3.10/site-packages/torchvision/transforms/transforms.py:329: UserWarning: Argument 'interpolation' of type int is deprecated since 0.13 and will be removed in 0.15. Please use InterpolationMode enum.\n",
      "  warnings.warn(\n",
      "/opt/conda/lib/python3.10/site-packages/torchvision/transforms/transforms.py:329: UserWarning: Argument 'interpolation' of type int is deprecated since 0.13 and will be removed in 0.15. Please use InterpolationMode enum.\n",
      "  warnings.warn(\n",
      "/opt/conda/lib/python3.10/site-packages/torchvision/transforms/transforms.py:329: UserWarning: Argument 'interpolation' of type int is deprecated since 0.13 and will be removed in 0.15. Please use InterpolationMode enum.\n",
      "  warnings.warn(\n",
      "/opt/conda/lib/python3.10/site-packages/torchvision/transforms/transforms.py:329: UserWarning: Argument 'interpolation' of type int is deprecated since 0.13 and will be removed in 0.15. Please use InterpolationMode enum.\n",
      "  warnings.warn(\n",
      "/opt/conda/lib/python3.10/site-packages/torchvision/transforms/transforms.py:329: UserWarning: Argument 'interpolation' of type int is deprecated since 0.13 and will be removed in 0.15. Please use InterpolationMode enum.\n",
      "  warnings.warn(\n",
      "/opt/conda/lib/python3.10/site-packages/torchvision/transforms/transforms.py:329: UserWarning: Argument 'interpolation' of type int is deprecated since 0.13 and will be removed in 0.15. Please use InterpolationMode enum.\n",
      "  warnings.warn(\n",
      "/opt/conda/lib/python3.10/site-packages/torchvision/transforms/transforms.py:329: UserWarning: Argument 'interpolation' of type int is deprecated since 0.13 and will be removed in 0.15. Please use InterpolationMode enum.\n",
      "  warnings.warn(\n",
      "  4%|▍         | 201/5352 [00:33<10:54,  7.87it/s]"
     ]
    },
    {
     "name": "stdout",
     "output_type": "stream",
     "text": [
      "{'FullBody': {'All': 71.97338104248047, 'UpperStretching': 75.15301513671875, 'Walking': 71.15760803222656, 'LowerStretching': 69.20962524414062, 'Patting': 75.12883758544922, 'Reacting': 58.66156005859375, 'Gesticuling': 60.214290618896484, 'Greeting': 49.02011489868164, 'Gaming': 64.29166412353516, 'Talking': 50.55246353149414}, 'UpperBody': {'All': 56.769920349121094, 'UpperStretching': 62.992252349853516, 'Walking': 49.245235443115234, 'LowerStretching': 45.266746520996094, 'Patting': 53.919803619384766, 'Reacting': 48.09600830078125, 'Gesticuling': 51.73103332519531, 'Greeting': 42.093074798583984, 'Gaming': 50.21846008300781, 'Talking': 49.01412582397461}, 'LowerBody': {'All': 87.17682647705078, 'UpperStretching': 87.31378173828125, 'Walking': 93.06997680664062, 'LowerStretching': 93.15250396728516, 'Patting': 96.3378677368164, 'Reacting': 69.22708892822266, 'Gesticuling': 68.69754791259766, 'Greeting': 55.94715881347656, 'Gaming': 78.3648681640625, 'Talking': 52.090797424316406}}\n"
     ]
    },
    {
     "name": "stderr",
     "output_type": "stream",
     "text": [
      "  7%|▋         | 401/5352 [01:00<11:24,  7.24it/s]"
     ]
    },
    {
     "name": "stdout",
     "output_type": "stream",
     "text": [
      "{'FullBody': {'All': 71.67337799072266, 'UpperStretching': 74.59101104736328, 'Walking': 71.36481475830078, 'LowerStretching': 69.00421905517578, 'Patting': 75.56438446044922, 'Reacting': 60.84111404418945, 'Gesticuling': 58.14453125, 'Greeting': 53.03365707397461, 'Gaming': 63.34977340698242, 'Talking': 50.43779373168945}, 'UpperBody': {'All': 56.447059631347656, 'UpperStretching': 62.472023010253906, 'Walking': 49.34551239013672, 'LowerStretching': 45.08027648925781, 'Patting': 54.32172775268555, 'Reacting': 50.509315490722656, 'Gesticuling': 50.73039627075195, 'Greeting': 46.051021575927734, 'Gaming': 49.67153549194336, 'Talking': 46.299930572509766}, 'LowerBody': {'All': 86.89968872070312, 'UpperStretching': 86.7099838256836, 'Walking': 93.38411712646484, 'LowerStretching': 92.92815399169922, 'Patting': 96.80706787109375, 'Reacting': 71.17291259765625, 'Gesticuling': 65.55867767333984, 'Greeting': 60.01628494262695, 'Gaming': 77.02800750732422, 'Talking': 54.575653076171875}}\n"
     ]
    },
    {
     "name": "stderr",
     "output_type": "stream",
     "text": [
      " 11%|█         | 601/5352 [01:26<10:26,  7.59it/s]"
     ]
    },
    {
     "name": "stdout",
     "output_type": "stream",
     "text": [
      "{'FullBody': {'All': 71.56011962890625, 'UpperStretching': 74.30501556396484, 'Walking': 71.06692504882812, 'LowerStretching': 69.54519653320312, 'Patting': 74.48957824707031, 'Reacting': 61.627296447753906, 'Gesticuling': 58.5924186706543, 'Greeting': 53.1601676940918, 'Gaming': 62.529048919677734, 'Talking': 52.37307357788086}, 'UpperBody': {'All': 56.24824142456055, 'UpperStretching': 62.19385528564453, 'Walking': 49.134037017822266, 'LowerStretching': 45.30897521972656, 'Patting': 53.7365608215332, 'Reacting': 50.46051025390625, 'Gesticuling': 51.02657699584961, 'Greeting': 45.79612350463867, 'Gaming': 49.51365661621094, 'Talking': 47.109867095947266}, 'LowerBody': {'All': 86.87197875976562, 'UpperStretching': 86.41616821289062, 'Walking': 92.99981689453125, 'LowerStretching': 93.78141784667969, 'Patting': 95.24259185791016, 'Reacting': 72.79407501220703, 'Gesticuling': 66.15825653076172, 'Greeting': 60.52421951293945, 'Gaming': 75.54443359375, 'Talking': 57.63628005981445}}\n"
     ]
    },
    {
     "name": "stderr",
     "output_type": "stream",
     "text": [
      " 15%|█▍        | 801/5352 [01:53<09:48,  7.73it/s]"
     ]
    },
    {
     "name": "stdout",
     "output_type": "stream",
     "text": [
      "{'FullBody': {'All': 71.69204711914062, 'UpperStretching': 74.53775024414062, 'Walking': 71.1739273071289, 'LowerStretching': 69.33389282226562, 'Patting': 74.90769958496094, 'Reacting': 62.2720832824707, 'Gesticuling': 58.356407165527344, 'Greeting': 52.5554084777832, 'Gaming': 62.82600784301758, 'Talking': 52.27869415283203}, 'UpperBody': {'All': 56.1990966796875, 'UpperStretching': 62.27238464355469, 'Walking': 48.94871139526367, 'LowerStretching': 45.32105255126953, 'Patting': 53.339942932128906, 'Reacting': 50.77734375, 'Gesticuling': 50.51930618286133, 'Greeting': 45.04084777832031, 'Gaming': 49.131778717041016, 'Talking': 46.7118034362793}, 'LowerBody': {'All': 87.18498229980469, 'UpperStretching': 86.80310821533203, 'Walking': 93.39916229248047, 'LowerStretching': 93.34674835205078, 'Patting': 96.47545623779297, 'Reacting': 73.7668228149414, 'Gesticuling': 66.19349670410156, 'Greeting': 60.069969177246094, 'Gaming': 76.5202407836914, 'Talking': 57.8455924987793}}\n"
     ]
    },
    {
     "name": "stderr",
     "output_type": "stream",
     "text": [
      " 19%|█▊        | 1001/5352 [02:21<10:10,  7.13it/s]"
     ]
    },
    {
     "name": "stdout",
     "output_type": "stream",
     "text": [
      "{'FullBody': {'All': 71.69546508789062, 'UpperStretching': 74.56233978271484, 'Walking': 71.44621276855469, 'LowerStretching': 69.09225463867188, 'Patting': 72.96014404296875, 'Reacting': 62.37910079956055, 'Gesticuling': 58.7674560546875, 'Greeting': 52.30837631225586, 'Gaming': 62.82640838623047, 'Talking': 53.08415222167969}, 'UpperBody': {'All': 56.237056732177734, 'UpperStretching': 62.28104019165039, 'Walking': 49.30028533935547, 'LowerStretching': 45.03887176513672, 'Patting': 52.2452278137207, 'Reacting': 51.05677032470703, 'Gesticuling': 50.32028579711914, 'Greeting': 44.63615798950195, 'Gaming': 49.69112777709961, 'Talking': 47.440834045410156}, 'LowerBody': {'All': 87.15387725830078, 'UpperStretching': 86.84364318847656, 'Walking': 93.59213256835938, 'LowerStretching': 93.14564514160156, 'Patting': 93.67506408691406, 'Reacting': 73.7014389038086, 'Gesticuling': 67.2146224975586, 'Greeting': 59.9806022644043, 'Gaming': 75.96167755126953, 'Talking': 58.72747039794922}}\n"
     ]
    },
    {
     "name": "stderr",
     "output_type": "stream",
     "text": [
      " 22%|██▏       | 1201/5352 [02:48<08:54,  7.76it/s]"
     ]
    },
    {
     "name": "stdout",
     "output_type": "stream",
     "text": [
      "{'FullBody': {'All': 71.86380767822266, 'UpperStretching': 74.83809661865234, 'Walking': 71.403564453125, 'LowerStretching': 69.27420806884766, 'Patting': 72.48456573486328, 'Reacting': 62.682167053222656, 'Gesticuling': 58.39669418334961, 'Greeting': 51.90118408203125, 'Gaming': 62.70829772949219, 'Talking': 52.879112243652344}, 'UpperBody': {'All': 56.29555892944336, 'UpperStretching': 62.44274139404297, 'Walking': 49.198360443115234, 'LowerStretching': 45.04143142700195, 'Patting': 51.453731536865234, 'Reacting': 51.51804733276367, 'Gesticuling': 49.95014190673828, 'Greeting': 44.16867446899414, 'Gaming': 49.385623931884766, 'Talking': 47.031639099121094}, 'LowerBody': {'All': 87.43204498291016, 'UpperStretching': 87.23345184326172, 'Walking': 93.6087646484375, 'LowerStretching': 93.50699615478516, 'Patting': 93.51541137695312, 'Reacting': 73.8462905883789, 'Gesticuling': 66.8432388305664, 'Greeting': 59.633689880371094, 'Gaming': 76.03097534179688, 'Talking': 58.726585388183594}}\n"
     ]
    },
    {
     "name": "stderr",
     "output_type": "stream",
     "text": [
      " 26%|██▌       | 1401/5352 [03:14<08:30,  7.75it/s]"
     ]
    },
    {
     "name": "stdout",
     "output_type": "stream",
     "text": [
      "{'FullBody': {'All': 71.86505889892578, 'UpperStretching': 74.71688842773438, 'Walking': 71.63468933105469, 'LowerStretching': 69.41462707519531, 'Patting': 73.01092529296875, 'Reacting': 62.941898345947266, 'Gesticuling': 58.347782135009766, 'Greeting': 51.957603454589844, 'Gaming': 62.60658645629883, 'Talking': 52.5938606262207}, 'UpperBody': {'All': 56.30392837524414, 'UpperStretching': 62.366329193115234, 'Walking': 49.38667297363281, 'LowerStretching': 45.095211029052734, 'Patting': 52.23306655883789, 'Reacting': 51.575927734375, 'Gesticuling': 49.61896896362305, 'Greeting': 43.512550354003906, 'Gaming': 49.90740203857422, 'Talking': 46.969581604003906}, 'LowerBody': {'All': 87.42618560791016, 'UpperStretching': 87.06745910644531, 'Walking': 93.88270568847656, 'LowerStretching': 93.73406219482422, 'Patting': 93.78877258300781, 'Reacting': 74.307861328125, 'Gesticuling': 67.07659912109375, 'Greeting': 60.40265655517578, 'Gaming': 75.30577087402344, 'Talking': 58.21814727783203}}\n"
     ]
    },
    {
     "name": "stderr",
     "output_type": "stream",
     "text": [
      " 30%|██▉       | 1601/5352 [03:42<08:53,  7.03it/s]"
     ]
    },
    {
     "name": "stdout",
     "output_type": "stream",
     "text": [
      "{'FullBody': {'All': 71.9261245727539, 'UpperStretching': 74.85363006591797, 'Walking': 71.60785675048828, 'LowerStretching': 69.2582778930664, 'Patting': 73.97362518310547, 'Reacting': 62.492820739746094, 'Gesticuling': 58.802555084228516, 'Greeting': 51.87614440917969, 'Gaming': 62.43487548828125, 'Talking': 52.76301956176758}, 'UpperBody': {'All': 56.3056755065918, 'UpperStretching': 62.39614486694336, 'Walking': 49.24283218383789, 'LowerStretching': 44.9540901184082, 'Patting': 53.23643493652344, 'Reacting': 51.31114959716797, 'Gesticuling': 50.408905029296875, 'Greeting': 43.25758743286133, 'Gaming': 49.79801559448242, 'Talking': 47.05725860595703}, 'LowerBody': {'All': 87.54656219482422, 'UpperStretching': 87.31111907958984, 'Walking': 93.97288513183594, 'LowerStretching': 93.56246185302734, 'Patting': 94.7108154296875, 'Reacting': 73.67447662353516, 'Gesticuling': 67.19620513916016, 'Greeting': 60.49469757080078, 'Gaming': 75.07173919677734, 'Talking': 58.468788146972656}}\n"
     ]
    },
    {
     "name": "stderr",
     "output_type": "stream",
     "text": [
      " 34%|███▎      | 1801/5352 [04:09<07:48,  7.59it/s]"
     ]
    },
    {
     "name": "stdout",
     "output_type": "stream",
     "text": [
      "{'FullBody': {'All': 72.04364776611328, 'UpperStretching': 74.9773941040039, 'Walking': 71.79862976074219, 'LowerStretching': 69.24201202392578, 'Patting': 75.68626403808594, 'Reacting': 62.631141662597656, 'Gesticuling': 58.659339904785156, 'Greeting': 51.54822540283203, 'Gaming': 62.45756530761719, 'Talking': 52.40873718261719}, 'UpperBody': {'All': 56.40632629394531, 'UpperStretching': 62.48519515991211, 'Walking': 49.41684341430664, 'LowerStretching': 45.00986862182617, 'Patting': 54.62427520751953, 'Reacting': 51.22407531738281, 'Gesticuling': 50.14927673339844, 'Greeting': 43.083824157714844, 'Gaming': 49.8613395690918, 'Talking': 46.90964126586914}, 'LowerBody': {'All': 87.68096160888672, 'UpperStretching': 87.4696044921875, 'Walking': 94.180419921875, 'LowerStretching': 93.47415924072266, 'Patting': 96.74827575683594, 'Reacting': 74.0382080078125, 'Gesticuling': 67.16939544677734, 'Greeting': 60.01262664794922, 'Gaming': 75.05378723144531, 'Talking': 57.9078369140625}}\n"
     ]
    },
    {
     "name": "stderr",
     "output_type": "stream",
     "text": [
      " 37%|███▋      | 2001/5352 [04:36<07:26,  7.51it/s]"
     ]
    },
    {
     "name": "stdout",
     "output_type": "stream",
     "text": [
      "{'FullBody': {'All': 72.08006286621094, 'UpperStretching': 74.9112777709961, 'Walking': 72.12029266357422, 'LowerStretching': 69.29460144042969, 'Patting': 76.30191802978516, 'Reacting': 62.391902923583984, 'Gesticuling': 58.87314987182617, 'Greeting': 51.496971130371094, 'Gaming': 62.60783386230469, 'Talking': 52.46147918701172}, 'UpperBody': {'All': 56.46543884277344, 'UpperStretching': 62.4407844543457, 'Walking': 49.614532470703125, 'LowerStretching': 45.13928985595703, 'Patting': 55.22918701171875, 'Reacting': 51.082862854003906, 'Gesticuling': 50.26263427734375, 'Greeting': 43.065940856933594, 'Gaming': 50.29032897949219, 'Talking': 46.86658477783203}, 'LowerBody': {'All': 87.69467163085938, 'UpperStretching': 87.38179016113281, 'Walking': 94.62606048583984, 'LowerStretching': 93.4499282836914, 'Patting': 97.3746566772461, 'Reacting': 73.70093536376953, 'Gesticuling': 67.4836654663086, 'Greeting': 59.928001403808594, 'Gaming': 74.92533874511719, 'Talking': 58.05636978149414}}\n"
     ]
    },
    {
     "name": "stderr",
     "output_type": "stream",
     "text": [
      " 41%|████      | 2201/5352 [05:03<07:13,  7.26it/s]"
     ]
    },
    {
     "name": "stdout",
     "output_type": "stream",
     "text": [
      "{'FullBody': {'All': 72.05325317382812, 'UpperStretching': 74.88732147216797, 'Walking': 72.1117172241211, 'LowerStretching': 69.23025512695312, 'Patting': 76.39420318603516, 'Reacting': 62.219303131103516, 'Gesticuling': 58.87081527709961, 'Greeting': 51.56336975097656, 'Gaming': 62.64900207519531, 'Talking': 52.416194915771484}, 'UpperBody': {'All': 56.459693908691406, 'UpperStretching': 62.41708755493164, 'Walking': 49.64243698120117, 'LowerStretching': 45.14422607421875, 'Patting': 55.0986442565918, 'Reacting': 51.11241149902344, 'Gesticuling': 50.263912200927734, 'Greeting': 43.14345169067383, 'Gaming': 50.34846496582031, 'Talking': 46.72195053100586}, 'LowerBody': {'All': 87.64681243896484, 'UpperStretching': 87.3575668334961, 'Walking': 94.58101654052734, 'LowerStretching': 93.31629180908203, 'Patting': 97.68975067138672, 'Reacting': 73.32617950439453, 'Gesticuling': 67.47772216796875, 'Greeting': 59.9832878112793, 'Gaming': 74.94953918457031, 'Talking': 58.110435485839844}}\n"
     ]
    },
    {
     "name": "stderr",
     "output_type": "stream",
     "text": [
      " 45%|████▍     | 2401/5352 [05:30<06:32,  7.52it/s]"
     ]
    },
    {
     "name": "stdout",
     "output_type": "stream",
     "text": [
      "{'FullBody': {'All': 72.11044311523438, 'UpperStretching': 74.99138641357422, 'Walking': 72.23855590820312, 'LowerStretching': 69.19190979003906, 'Patting': 75.83596801757812, 'Reacting': 62.02815246582031, 'Gesticuling': 58.84269332885742, 'Greeting': 51.645164489746094, 'Gaming': 63.00028610229492, 'Talking': 52.30575942993164}, 'UpperBody': {'All': 56.53132629394531, 'UpperStretching': 62.5063591003418, 'Walking': 49.70761489868164, 'LowerStretching': 45.13225555419922, 'Patting': 54.760276794433594, 'Reacting': 51.157535552978516, 'Gesticuling': 50.26955032348633, 'Greeting': 43.10401153564453, 'Gaming': 50.614784240722656, 'Talking': 46.788002014160156}, 'LowerBody': {'All': 87.68956756591797, 'UpperStretching': 87.47642517089844, 'Walking': 94.76949310302734, 'LowerStretching': 93.25157165527344, 'Patting': 96.91167449951172, 'Reacting': 72.89875793457031, 'Gesticuling': 67.41583251953125, 'Greeting': 60.18633270263672, 'Gaming': 75.38579559326172, 'Talking': 57.823516845703125}}\n"
     ]
    },
    {
     "name": "stderr",
     "output_type": "stream",
     "text": [
      " 49%|████▊     | 2601/5352 [05:57<06:11,  7.41it/s]"
     ]
    },
    {
     "name": "stdout",
     "output_type": "stream",
     "text": [
      "{'FullBody': {'All': 72.08086395263672, 'UpperStretching': 74.99557495117188, 'Walking': 72.14920806884766, 'LowerStretching': 69.13133239746094, 'Patting': 75.84810638427734, 'Reacting': 61.99257278442383, 'Gesticuling': 58.72816467285156, 'Greeting': 51.39311218261719, 'Gaming': 62.783695220947266, 'Talking': 52.41910171508789}, 'UpperBody': {'All': 56.58401870727539, 'UpperStretching': 62.58980941772461, 'Walking': 49.603843688964844, 'LowerStretching': 45.15606689453125, 'Patting': 55.21086883544922, 'Reacting': 51.272979736328125, 'Gesticuling': 50.11316680908203, 'Greeting': 42.931549072265625, 'Gaming': 50.569664001464844, 'Talking': 47.13680648803711}, 'LowerBody': {'All': 87.57770538330078, 'UpperStretching': 87.40133666992188, 'Walking': 94.694580078125, 'LowerStretching': 93.10660552978516, 'Patting': 96.48534393310547, 'Reacting': 72.712158203125, 'Gesticuling': 67.34315490722656, 'Greeting': 59.85468292236328, 'Gaming': 74.99773406982422, 'Talking': 57.70139694213867}}\n"
     ]
    },
    {
     "name": "stderr",
     "output_type": "stream",
     "text": [
      " 52%|█████▏    | 2801/5352 [06:24<06:11,  6.87it/s]"
     ]
    },
    {
     "name": "stdout",
     "output_type": "stream",
     "text": [
      "{'FullBody': {'All': 72.09906768798828, 'UpperStretching': 75.01991271972656, 'Walking': 72.3080062866211, 'LowerStretching': 69.02371978759766, 'Patting': 76.29548645019531, 'Reacting': 62.232139587402344, 'Gesticuling': 58.781982421875, 'Greeting': 51.32558059692383, 'Gaming': 62.77195739746094, 'Talking': 52.357120513916016}, 'UpperBody': {'All': 56.62525177001953, 'UpperStretching': 62.673797607421875, 'Walking': 49.73573303222656, 'LowerStretching': 45.098567962646484, 'Patting': 55.39247512817383, 'Reacting': 51.45587921142578, 'Gesticuling': 50.242088317871094, 'Greeting': 42.88235092163086, 'Gaming': 50.44198989868164, 'Talking': 47.01124572753906}, 'LowerBody': {'All': 87.5728759765625, 'UpperStretching': 87.36602783203125, 'Walking': 94.88028717041016, 'LowerStretching': 92.94886779785156, 'Patting': 97.198486328125, 'Reacting': 73.0083999633789, 'Gesticuling': 67.32188415527344, 'Greeting': 59.768802642822266, 'Gaming': 75.10193634033203, 'Talking': 57.7029914855957}}\n"
     ]
    },
    {
     "name": "stderr",
     "output_type": "stream",
     "text": [
      " 56%|█████▌    | 3001/5352 [06:51<05:20,  7.34it/s]"
     ]
    },
    {
     "name": "stdout",
     "output_type": "stream",
     "text": [
      "{'FullBody': {'All': 72.1369857788086, 'UpperStretching': 75.11223602294922, 'Walking': 72.23841094970703, 'LowerStretching': 68.97232055664062, 'Patting': 76.34608459472656, 'Reacting': 62.21674346923828, 'Gesticuling': 58.60498809814453, 'Greeting': 51.330772399902344, 'Gaming': 62.75258255004883, 'Talking': 52.5152587890625}, 'UpperBody': {'All': 56.61664581298828, 'UpperStretching': 62.697021484375, 'Walking': 49.658504486083984, 'LowerStretching': 45.07032775878906, 'Patting': 55.16202163696289, 'Reacting': 51.39484786987305, 'Gesticuling': 49.8921012878418, 'Greeting': 42.92045211791992, 'Gaming': 50.37681579589844, 'Talking': 47.31916809082031}, 'LowerBody': {'All': 87.65733337402344, 'UpperStretching': 87.52745819091797, 'Walking': 94.81831359863281, 'LowerStretching': 92.87432098388672, 'Patting': 97.53014373779297, 'Reacting': 73.03864288330078, 'Gesticuling': 67.31788635253906, 'Greeting': 59.74109649658203, 'Gaming': 75.12834930419922, 'Talking': 57.71135330200195}}\n"
     ]
    },
    {
     "name": "stderr",
     "output_type": "stream",
     "text": [
      " 60%|█████▉    | 3201/5352 [07:18<04:50,  7.41it/s]"
     ]
    },
    {
     "name": "stdout",
     "output_type": "stream",
     "text": [
      "{'FullBody': {'All': 72.13333129882812, 'UpperStretching': 75.11886596679688, 'Walking': 72.12442779541016, 'LowerStretching': 69.00233459472656, 'Patting': 76.93429565429688, 'Reacting': 62.30477523803711, 'Gesticuling': 58.37775802612305, 'Greeting': 51.712894439697266, 'Gaming': 62.83592987060547, 'Talking': 52.1681022644043}, 'UpperBody': {'All': 56.57331085205078, 'UpperStretching': 62.670501708984375, 'Walking': 49.54113006591797, 'LowerStretching': 45.105804443359375, 'Patting': 55.298927307128906, 'Reacting': 51.4549446105957, 'Gesticuling': 49.65814208984375, 'Greeting': 43.25121307373047, 'Gaming': 50.257144927978516, 'Talking': 46.96957015991211}, 'LowerBody': {'All': 87.6933364868164, 'UpperStretching': 87.56724548339844, 'Walking': 94.70772552490234, 'LowerStretching': 92.89887237548828, 'Patting': 98.56967163085938, 'Reacting': 73.15460205078125, 'Gesticuling': 67.09737396240234, 'Greeting': 60.17457580566406, 'Gaming': 75.41471862792969, 'Talking': 57.36662673950195}}\n"
     ]
    },
    {
     "name": "stderr",
     "output_type": "stream",
     "text": [
      " 64%|██████▎   | 3401/5352 [07:46<04:52,  6.67it/s]"
     ]
    },
    {
     "name": "stdout",
     "output_type": "stream",
     "text": [
      "{'FullBody': {'All': 72.1566162109375, 'UpperStretching': 75.12698364257812, 'Walking': 72.09873962402344, 'LowerStretching': 69.08442687988281, 'Patting': 77.6122055053711, 'Reacting': 62.34511184692383, 'Gesticuling': 58.26451873779297, 'Greeting': 51.750038146972656, 'Gaming': 62.681175231933594, 'Talking': 51.99620819091797}, 'UpperBody': {'All': 56.5861701965332, 'UpperStretching': 62.65599060058594, 'Walking': 49.58271026611328, 'LowerStretching': 45.131038665771484, 'Patting': 55.64034652709961, 'Reacting': 51.51480484008789, 'Gesticuling': 49.6429557800293, 'Greeting': 43.26866149902344, 'Gaming': 50.149566650390625, 'Talking': 46.83662414550781}, 'LowerBody': {'All': 87.72705841064453, 'UpperStretching': 87.59797668457031, 'Walking': 94.61476135253906, 'LowerStretching': 93.03780364990234, 'Patting': 99.58406066894531, 'Reacting': 73.17542266845703, 'Gesticuling': 66.88607788085938, 'Greeting': 60.23141860961914, 'Gaming': 75.21277618408203, 'Talking': 57.15580749511719}}\n"
     ]
    },
    {
     "name": "stderr",
     "output_type": "stream",
     "text": [
      " 67%|██████▋   | 3601/5352 [08:13<03:59,  7.30it/s]"
     ]
    },
    {
     "name": "stdout",
     "output_type": "stream",
     "text": [
      "{'FullBody': {'All': 72.15935516357422, 'UpperStretching': 75.12676239013672, 'Walking': 72.10853576660156, 'LowerStretching': 69.0681381225586, 'Patting': 77.4631576538086, 'Reacting': 62.36585998535156, 'Gesticuling': 58.064422607421875, 'Greeting': 52.07354736328125, 'Gaming': 62.68927001953125, 'Talking': 52.01268768310547}, 'UpperBody': {'All': 56.577266693115234, 'UpperStretching': 62.63085174560547, 'Walking': 49.58363723754883, 'LowerStretching': 45.123313903808594, 'Patting': 55.55488204956055, 'Reacting': 51.6971549987793, 'Gesticuling': 49.40229034423828, 'Greeting': 43.562618255615234, 'Gaming': 50.17084503173828, 'Talking': 46.76375961303711}, 'LowerBody': {'All': 87.74143981933594, 'UpperStretching': 87.62268829345703, 'Walking': 94.63343811035156, 'LowerStretching': 93.01295471191406, 'Patting': 99.37142944335938, 'Reacting': 73.0345687866211, 'Gesticuling': 66.72655487060547, 'Greeting': 60.5844841003418, 'Gaming': 75.20770263671875, 'Talking': 57.26162338256836}}\n"
     ]
    },
    {
     "name": "stderr",
     "output_type": "stream",
     "text": [
      " 71%|███████   | 3801/5352 [08:40<03:29,  7.39it/s]"
     ]
    },
    {
     "name": "stdout",
     "output_type": "stream",
     "text": [
      "{'FullBody': {'All': 72.1320571899414, 'UpperStretching': 75.09077453613281, 'Walking': 72.16632080078125, 'LowerStretching': 69.01910400390625, 'Patting': 76.7509994506836, 'Reacting': 62.40073776245117, 'Gesticuling': 58.157779693603516, 'Greeting': 52.0936164855957, 'Gaming': 62.568336486816406, 'Talking': 51.984474182128906}, 'UpperBody': {'All': 56.56237030029297, 'UpperStretching': 62.602882385253906, 'Walking': 49.61696243286133, 'LowerStretching': 45.10926055908203, 'Patting': 54.959651947021484, 'Reacting': 51.7880973815918, 'Gesticuling': 49.5137825012207, 'Greeting': 43.52259063720703, 'Gaming': 50.124267578125, 'Talking': 46.814205169677734}, 'LowerBody': {'All': 87.70175170898438, 'UpperStretching': 87.57866668701172, 'Walking': 94.71568298339844, 'LowerStretching': 92.92894744873047, 'Patting': 98.5423355102539, 'Reacting': 73.01338195800781, 'Gesticuling': 66.8017807006836, 'Greeting': 60.66464614868164, 'Gaming': 75.01239776611328, 'Talking': 57.15474319458008}}\n"
     ]
    },
    {
     "name": "stderr",
     "output_type": "stream",
     "text": [
      " 75%|███████▍  | 4001/5352 [09:07<03:14,  6.94it/s]"
     ]
    },
    {
     "name": "stdout",
     "output_type": "stream",
     "text": [
      "{'FullBody': {'All': 72.16124725341797, 'UpperStretching': 75.1330337524414, 'Walking': 72.10042572021484, 'LowerStretching': 69.06703186035156, 'Patting': 76.60867309570312, 'Reacting': 62.638240814208984, 'Gesticuling': 58.07796859741211, 'Greeting': 52.07140350341797, 'Gaming': 62.56276321411133, 'Talking': 52.04345703125}, 'UpperBody': {'All': 56.64048767089844, 'UpperStretching': 62.72520065307617, 'Walking': 49.55961227416992, 'LowerStretching': 45.13359451293945, 'Patting': 55.05009460449219, 'Reacting': 52.01827621459961, 'Gesticuling': 49.43020248413086, 'Greeting': 43.591800689697266, 'Gaming': 50.07211685180664, 'Talking': 46.88899230957031}, 'LowerBody': {'All': 87.68201446533203, 'UpperStretching': 87.5408706665039, 'Walking': 94.6412353515625, 'LowerStretching': 93.00045776367188, 'Patting': 98.1672592163086, 'Reacting': 73.2582015991211, 'Gesticuling': 66.72572326660156, 'Greeting': 60.551002502441406, 'Gaming': 75.05340576171875, 'Talking': 57.19792175292969}}\n"
     ]
    },
    {
     "name": "stderr",
     "output_type": "stream",
     "text": [
      " 78%|███████▊  | 4201/5352 [09:34<02:42,  7.10it/s]"
     ]
    },
    {
     "name": "stdout",
     "output_type": "stream",
     "text": [
      "{'FullBody': {'All': 72.19456481933594, 'UpperStretching': 75.13591766357422, 'Walking': 72.26390838623047, 'LowerStretching': 69.05726623535156, 'Patting': 77.1667709350586, 'Reacting': 62.72206115722656, 'Gesticuling': 58.042991638183594, 'Greeting': 51.90855026245117, 'Gaming': 62.802589416503906, 'Talking': 52.22208023071289}, 'UpperBody': {'All': 56.65126037597656, 'UpperStretching': 62.69451904296875, 'Walking': 49.63383102416992, 'LowerStretching': 45.121578216552734, 'Patting': 55.31943130493164, 'Reacting': 52.25693893432617, 'Gesticuling': 49.36103820800781, 'Greeting': 43.48163986206055, 'Gaming': 50.38631820678711, 'Talking': 46.894527435302734}, 'LowerBody': {'All': 87.73785400390625, 'UpperStretching': 87.57731628417969, 'Walking': 94.89398193359375, 'LowerStretching': 92.99295806884766, 'Patting': 99.01410675048828, 'Reacting': 73.18716430664062, 'Gesticuling': 66.7249526977539, 'Greeting': 60.33546447753906, 'Gaming': 75.21886444091797, 'Talking': 57.54962921142578}}\n"
     ]
    },
    {
     "name": "stderr",
     "output_type": "stream",
     "text": [
      " 82%|████████▏ | 4401/5352 [10:01<02:11,  7.25it/s]"
     ]
    },
    {
     "name": "stdout",
     "output_type": "stream",
     "text": [
      "{'FullBody': {'All': 72.16117095947266, 'UpperStretching': 75.11241149902344, 'Walking': 72.20246887207031, 'LowerStretching': 69.0423812866211, 'Patting': 77.16595458984375, 'Reacting': 62.68873596191406, 'Gesticuling': 57.96525955200195, 'Greeting': 51.932640075683594, 'Gaming': 62.77945327758789, 'Talking': 52.18525695800781}, 'UpperBody': {'All': 56.6247444152832, 'UpperStretching': 62.661407470703125, 'Walking': 49.61124801635742, 'LowerStretching': 45.10947799682617, 'Patting': 55.359107971191406, 'Reacting': 52.40901565551758, 'Gesticuling': 49.270301818847656, 'Greeting': 43.52850341796875, 'Gaming': 50.2199592590332, 'Talking': 46.760074615478516}, 'LowerBody': {'All': 87.6976089477539, 'UpperStretching': 87.56341552734375, 'Walking': 94.79369354248047, 'LowerStretching': 92.97527313232422, 'Patting': 98.9728012084961, 'Reacting': 72.96846008300781, 'Gesticuling': 66.66021728515625, 'Greeting': 60.3367805480957, 'Gaming': 75.33894348144531, 'Talking': 57.61043930053711}}\n"
     ]
    },
    {
     "name": "stderr",
     "output_type": "stream",
     "text": [
      " 86%|████████▌ | 4601/5352 [10:28<01:52,  6.67it/s]"
     ]
    },
    {
     "name": "stdout",
     "output_type": "stream",
     "text": [
      "{'FullBody': {'All': 72.16434478759766, 'UpperStretching': 75.13092041015625, 'Walking': 72.0891342163086, 'LowerStretching': 69.01419830322266, 'Patting': 77.21861267089844, 'Reacting': 62.728267669677734, 'Gesticuling': 58.03095626831055, 'Greeting': 51.99415969848633, 'Gaming': 62.859649658203125, 'Talking': 52.274044036865234}, 'UpperBody': {'All': 56.64738464355469, 'UpperStretching': 62.70496368408203, 'Walking': 49.56901550292969, 'LowerStretching': 45.0841178894043, 'Patting': 55.572296142578125, 'Reacting': 52.418975830078125, 'Gesticuling': 49.29791259765625, 'Greeting': 43.541114807128906, 'Gaming': 50.293949127197266, 'Talking': 46.815887451171875}, 'LowerBody': {'All': 87.6812973022461, 'UpperStretching': 87.55687713623047, 'Walking': 94.60926055908203, 'LowerStretching': 92.94428253173828, 'Patting': 98.86492156982422, 'Reacting': 73.03755187988281, 'Gesticuling': 66.76399993896484, 'Greeting': 60.44719696044922, 'Gaming': 75.42534637451172, 'Talking': 57.73219680786133}}\n"
     ]
    },
    {
     "name": "stderr",
     "output_type": "stream",
     "text": [
      " 90%|████████▉ | 4801/5352 [10:56<01:17,  7.07it/s]"
     ]
    },
    {
     "name": "stdout",
     "output_type": "stream",
     "text": [
      "{'FullBody': {'All': 72.15808868408203, 'UpperStretching': 75.11698150634766, 'Walking': 72.07562255859375, 'LowerStretching': 69.06007385253906, 'Patting': 77.07740020751953, 'Reacting': 62.651405334472656, 'Gesticuling': 58.04313278198242, 'Greeting': 51.950340270996094, 'Gaming': 62.81908416748047, 'Talking': 52.32590866088867}, 'UpperBody': {'All': 56.63551330566406, 'UpperStretching': 62.66791915893555, 'Walking': 49.56502914428711, 'LowerStretching': 45.13520431518555, 'Patting': 55.65778350830078, 'Reacting': 52.39852523803711, 'Gesticuling': 49.346187591552734, 'Greeting': 43.55735778808594, 'Gaming': 50.30397415161133, 'Talking': 46.835289001464844}, 'LowerBody': {'All': 87.68067169189453, 'UpperStretching': 87.56604766845703, 'Walking': 94.58622741699219, 'LowerStretching': 92.98493194580078, 'Patting': 98.49701690673828, 'Reacting': 72.90428924560547, 'Gesticuling': 66.7400894165039, 'Greeting': 60.34332275390625, 'Gaming': 75.33419036865234, 'Talking': 57.8165283203125}}\n"
     ]
    },
    {
     "name": "stderr",
     "output_type": "stream",
     "text": [
      " 93%|█████████▎| 5001/5352 [11:23<00:50,  7.01it/s]"
     ]
    },
    {
     "name": "stdout",
     "output_type": "stream",
     "text": [
      "{'FullBody': {'All': 72.19577026367188, 'UpperStretching': 75.16234588623047, 'Walking': 72.07301330566406, 'LowerStretching': 69.05257415771484, 'Patting': 77.83477020263672, 'Reacting': 62.698143005371094, 'Gesticuling': 58.13215637207031, 'Greeting': 51.86705780029297, 'Gaming': 62.8061408996582, 'Talking': 52.181392669677734}, 'UpperBody': {'All': 56.65679931640625, 'UpperStretching': 62.67832565307617, 'Walking': 49.60615539550781, 'LowerStretching': 45.133174896240234, 'Patting': 56.276031494140625, 'Reacting': 52.43869400024414, 'Gesticuling': 49.468177795410156, 'Greeting': 43.42874526977539, 'Gaming': 50.32405471801758, 'Talking': 46.78218078613281}, 'LowerBody': {'All': 87.7347412109375, 'UpperStretching': 87.64636993408203, 'Walking': 94.53987121582031, 'LowerStretching': 92.97198486328125, 'Patting': 99.39350891113281, 'Reacting': 72.95760345458984, 'Gesticuling': 66.79613494873047, 'Greeting': 60.30537796020508, 'Gaming': 75.28822326660156, 'Talking': 57.58060073852539}}\n"
     ]
    },
    {
     "name": "stderr",
     "output_type": "stream",
     "text": [
      " 97%|█████████▋| 5201/5352 [11:50<00:24,  6.26it/s]"
     ]
    },
    {
     "name": "stdout",
     "output_type": "stream",
     "text": [
      "{'FullBody': {'All': 72.18541717529297, 'UpperStretching': 75.12641906738281, 'Walking': 72.089111328125, 'LowerStretching': 69.083740234375, 'Patting': 77.65616607666016, 'Reacting': 62.8486213684082, 'Gesticuling': 58.09320831298828, 'Greeting': 51.96034240722656, 'Gaming': 62.78850555419922, 'Talking': 52.093177795410156}, 'UpperBody': {'All': 56.65119171142578, 'UpperStretching': 62.64014434814453, 'Walking': 49.68262481689453, 'LowerStretching': 45.163108825683594, 'Patting': 56.209693908691406, 'Reacting': 52.58084487915039, 'Gesticuling': 49.46978759765625, 'Greeting': 43.522125244140625, 'Gaming': 50.30362319946289, 'Talking': 46.77712631225586}, 'LowerBody': {'All': 87.71965789794922, 'UpperStretching': 87.61270141601562, 'Walking': 94.49559783935547, 'LowerStretching': 93.00437927246094, 'Patting': 99.1026382446289, 'Reacting': 73.11640167236328, 'Gesticuling': 66.71662902832031, 'Greeting': 60.398563385009766, 'Gaming': 75.27338409423828, 'Talking': 57.40922927856445}}\n"
     ]
    },
    {
     "name": "stderr",
     "output_type": "stream",
     "text": [
      "100%|██████████| 5352/5352 [12:10<00:00,  7.32it/s]\n",
      "\u001b[94m09:29:07 \u001b[92m[INFO]\u001b[94m Main\u001b[0m: Saving evaluation results...\n",
      "\u001b[94m09:29:07 \u001b[92m[INFO]\u001b[94m Main\u001b[0m: Done.\n",
      "\u001b[94m09:29:07 \u001b[92m[INFO]\u001b[94m Main\u001b[0m: Starting demo...\n",
      "  0%|          | 0/5352 [00:00<?, ?it/s]/opt/conda/lib/python3.10/site-packages/torchvision/transforms/transforms.py:329: UserWarning: Argument 'interpolation' of type int is deprecated since 0.13 and will be removed in 0.15. Please use InterpolationMode enum.\n",
      "  warnings.warn(\n",
      "/opt/conda/lib/python3.10/site-packages/torchvision/transforms/transforms.py:329: UserWarning: Argument 'interpolation' of type int is deprecated since 0.13 and will be removed in 0.15. Please use InterpolationMode enum.\n",
      "  warnings.warn(\n",
      "/opt/conda/lib/python3.10/site-packages/torchvision/transforms/transforms.py:329: UserWarning: Argument 'interpolation' of type int is deprecated since 0.13 and will be removed in 0.15. Please use InterpolationMode enum.\n",
      "  warnings.warn(\n",
      "/opt/conda/lib/python3.10/site-packages/torchvision/transforms/transforms.py:329: UserWarning: Argument 'interpolation' of type int is deprecated since 0.13 and will be removed in 0.15. Please use InterpolationMode enum.\n",
      "  warnings.warn(\n",
      "/opt/conda/lib/python3.10/site-packages/torchvision/transforms/transforms.py:329: UserWarning: Argument 'interpolation' of type int is deprecated since 0.13 and will be removed in 0.15. Please use InterpolationMode enum.\n",
      "  warnings.warn(\n",
      "/opt/conda/lib/python3.10/site-packages/torchvision/transforms/transforms.py:329: UserWarning: Argument 'interpolation' of type int is deprecated since 0.13 and will be removed in 0.15. Please use InterpolationMode enum.\n",
      "  warnings.warn(\n",
      "/opt/conda/lib/python3.10/site-packages/torchvision/transforms/transforms.py:329: UserWarning: Argument 'interpolation' of type int is deprecated since 0.13 and will be removed in 0.15. Please use InterpolationMode enum.\n",
      "  warnings.warn(\n",
      "/opt/conda/lib/python3.10/site-packages/torchvision/transforms/transforms.py:329: UserWarning: Argument 'interpolation' of type int is deprecated since 0.13 and will be removed in 0.15. Please use InterpolationMode enum.\n",
      "  warnings.warn(\n",
      "/opt/conda/lib/python3.10/site-packages/torchvision/transforms/transforms.py:329: UserWarning: Argument 'interpolation' of type int is deprecated since 0.13 and will be removed in 0.15. Please use InterpolationMode enum.\n",
      "  warnings.warn(\n",
      "/opt/conda/lib/python3.10/site-packages/torchvision/transforms/transforms.py:329: UserWarning: Argument 'interpolation' of type int is deprecated since 0.13 and will be removed in 0.15. Please use InterpolationMode enum.\n",
      "  warnings.warn(\n",
      "/opt/conda/lib/python3.10/site-packages/torchvision/transforms/transforms.py:329: UserWarning: Argument 'interpolation' of type int is deprecated since 0.13 and will be removed in 0.15. Please use InterpolationMode enum.\n",
      "  warnings.warn(\n",
      "/opt/conda/lib/python3.10/site-packages/torchvision/transforms/transforms.py:329: UserWarning: Argument 'interpolation' of type int is deprecated since 0.13 and will be removed in 0.15. Please use InterpolationMode enum.\n",
      "  warnings.warn(\n",
      "/opt/conda/lib/python3.10/site-packages/torchvision/transforms/transforms.py:329: UserWarning: Argument 'interpolation' of type int is deprecated since 0.13 and will be removed in 0.15. Please use InterpolationMode enum.\n",
      "  warnings.warn(\n",
      "/opt/conda/lib/python3.10/site-packages/torchvision/transforms/transforms.py:329: UserWarning: Argument 'interpolation' of type int is deprecated since 0.13 and will be removed in 0.15. Please use InterpolationMode enum.\n",
      "  warnings.warn(\n",
      "/opt/conda/lib/python3.10/site-packages/torchvision/transforms/transforms.py:329: UserWarning: Argument 'interpolation' of type int is deprecated since 0.13 and will be removed in 0.15. Please use InterpolationMode enum.\n",
      "  warnings.warn(\n",
      "/opt/conda/lib/python3.10/site-packages/torchvision/transforms/transforms.py:329: UserWarning: Argument 'interpolation' of type int is deprecated since 0.13 and will be removed in 0.15. Please use InterpolationMode enum.\n",
      "  warnings.warn(\n",
      "/opt/conda/lib/python3.10/site-packages/torchvision/transforms/transforms.py:329: UserWarning: Argument 'interpolation' of type int is deprecated since 0.13 and will be removed in 0.15. Please use InterpolationMode enum.\n",
      "  warnings.warn(\n",
      "/opt/conda/lib/python3.10/site-packages/torchvision/transforms/transforms.py:329: UserWarning: Argument 'interpolation' of type int is deprecated since 0.13 and will be removed in 0.15. Please use InterpolationMode enum.\n",
      "  warnings.warn(\n",
      "/opt/conda/lib/python3.10/site-packages/torchvision/transforms/transforms.py:329: UserWarning: Argument 'interpolation' of type int is deprecated since 0.13 and will be removed in 0.15. Please use InterpolationMode enum.\n",
      "  warnings.warn(\n",
      "/opt/conda/lib/python3.10/site-packages/torchvision/transforms/transforms.py:329: UserWarning: Argument 'interpolation' of type int is deprecated since 0.13 and will be removed in 0.15. Please use InterpolationMode enum.\n",
      "  warnings.warn(\n",
      "/opt/conda/lib/python3.10/site-packages/torchvision/transforms/transforms.py:329: UserWarning: Argument 'interpolation' of type int is deprecated since 0.13 and will be removed in 0.15. Please use InterpolationMode enum.\n",
      "  warnings.warn(\n",
      "/opt/conda/lib/python3.10/site-packages/torchvision/transforms/transforms.py:329: UserWarning: Argument 'interpolation' of type int is deprecated since 0.13 and will be removed in 0.15. Please use InterpolationMode enum.\n",
      "  warnings.warn(\n",
      "/opt/conda/lib/python3.10/site-packages/torchvision/transforms/transforms.py:329: UserWarning: Argument 'interpolation' of type int is deprecated since 0.13 and will be removed in 0.15. Please use InterpolationMode enum.\n",
      "  warnings.warn(\n",
      "/opt/conda/lib/python3.10/site-packages/torchvision/transforms/transforms.py:329: UserWarning: Argument 'interpolation' of type int is deprecated since 0.13 and will be removed in 0.15. Please use InterpolationMode enum.\n",
      "  warnings.warn(\n",
      "  4%|▍         | 201/5352 [00:33<11:23,  7.53it/s]"
     ]
    },
    {
     "name": "stdout",
     "output_type": "stream",
     "text": [
      "{'FullBody': {'All': 73.89701080322266, 'UpperStretching': 77.26067352294922, 'Gaming': 61.74586486816406, 'Walking': 72.65796661376953, 'LowerStretching': 69.8176040649414, 'Patting': 85.19368743896484, 'Reacting': 71.28804016113281, 'Talking': 46.19219970703125, 'Gesticuling': 53.32966232299805, 'Greeting': 51.92487335205078}, 'UpperBody': {'All': 55.54323196411133, 'UpperStretching': 62.05705261230469, 'Gaming': 52.13203048706055, 'Walking': 49.08653259277344, 'LowerStretching': 42.579627990722656, 'Patting': 57.515960693359375, 'Reacting': 57.43060302734375, 'Talking': 38.38908004760742, 'Gesticuling': 40.990943908691406, 'Greeting': 43.76171875}, 'LowerBody': {'All': 92.25080108642578, 'UpperStretching': 92.46429443359375, 'Gaming': 71.35969543457031, 'Walking': 96.22942352294922, 'LowerStretching': 97.05557250976562, 'Patting': 112.87140655517578, 'Reacting': 85.14550018310547, 'Talking': 53.99530792236328, 'Gesticuling': 65.66838073730469, 'Greeting': 60.08803939819336}}\n"
     ]
    },
    {
     "name": "stderr",
     "output_type": "stream",
     "text": [
      "  7%|▋         | 401/5352 [01:00<10:31,  7.84it/s]"
     ]
    },
    {
     "name": "stdout",
     "output_type": "stream",
     "text": [
      "{'FullBody': {'All': 73.3869400024414, 'UpperStretching': 76.28532409667969, 'Gaming': 62.74435806274414, 'Walking': 73.1622314453125, 'LowerStretching': 69.85054779052734, 'Patting': 84.5389175415039, 'Reacting': 67.86544799804688, 'Talking': 53.728599548339844, 'Gesticuling': 55.90712356567383, 'Greeting': 49.48141098022461}, 'UpperBody': {'All': 55.31257247924805, 'UpperStretching': 61.19173049926758, 'Gaming': 52.33457946777344, 'Walking': 50.29595947265625, 'LowerStretching': 42.615264892578125, 'Patting': 59.697837829589844, 'Reacting': 54.732940673828125, 'Talking': 44.88344955444336, 'Gesticuling': 44.779258728027344, 'Greeting': 42.00455093383789}, 'LowerBody': {'All': 91.46131134033203, 'UpperStretching': 91.37892150878906, 'Gaming': 73.15412902832031, 'Walking': 96.02850341796875, 'LowerStretching': 97.08583068847656, 'Patting': 109.37999725341797, 'Reacting': 80.99794006347656, 'Talking': 62.573734283447266, 'Gesticuling': 67.03498077392578, 'Greeting': 56.958274841308594}}\n"
     ]
    },
    {
     "name": "stderr",
     "output_type": "stream",
     "text": [
      " 11%|█         | 601/5352 [01:27<11:33,  6.85it/s]"
     ]
    },
    {
     "name": "stdout",
     "output_type": "stream",
     "text": [
      "{'FullBody': {'All': 73.44422149658203, 'UpperStretching': 76.2596664428711, 'Gaming': 62.40336227416992, 'Walking': 72.91191101074219, 'LowerStretching': 69.83792114257812, 'Patting': 84.60525512695312, 'Reacting': 68.27191162109375, 'Talking': 53.326019287109375, 'Gesticuling': 57.95252227783203, 'Greeting': 48.58417892456055}, 'UpperBody': {'All': 55.656105041503906, 'UpperStretching': 61.47089767456055, 'Gaming': 51.573936462402344, 'Walking': 50.12596130371094, 'LowerStretching': 42.64719009399414, 'Patting': 58.816932678222656, 'Reacting': 55.98783874511719, 'Talking': 45.393218994140625, 'Gesticuling': 46.67795944213867, 'Greeting': 41.23387145996094}, 'LowerBody': {'All': 91.23234558105469, 'UpperStretching': 91.04843139648438, 'Gaming': 73.23278045654297, 'Walking': 95.69786834716797, 'LowerStretching': 97.02865600585938, 'Patting': 110.3935775756836, 'Reacting': 80.55596923828125, 'Talking': 61.258827209472656, 'Gesticuling': 69.22708129882812, 'Greeting': 55.93449020385742}}\n"
     ]
    },
    {
     "name": "stderr",
     "output_type": "stream",
     "text": [
      " 15%|█▍        | 801/5352 [01:54<10:13,  7.42it/s]"
     ]
    },
    {
     "name": "stdout",
     "output_type": "stream",
     "text": [
      "{'FullBody': {'All': 73.47004699707031, 'UpperStretching': 76.2899169921875, 'Gaming': 61.469818115234375, 'Walking': 72.85801696777344, 'LowerStretching': 70.08414459228516, 'Patting': 81.5409164428711, 'Reacting': 69.14513397216797, 'Talking': 54.13923645019531, 'Gesticuling': 58.13755416870117, 'Greeting': 47.743690490722656}, 'UpperBody': {'All': 55.60576248168945, 'UpperStretching': 61.30816650390625, 'Gaming': 51.01569366455078, 'Walking': 49.87314224243164, 'LowerStretching': 42.95755386352539, 'Patting': 56.59556579589844, 'Reacting': 56.96377182006836, 'Talking': 46.39910125732422, 'Gesticuling': 46.79733657836914, 'Greeting': 41.02504348754883}, 'LowerBody': {'All': 91.33434295654297, 'UpperStretching': 91.27165222167969, 'Gaming': 71.92394256591797, 'Walking': 95.84288787841797, 'LowerStretching': 97.21073913574219, 'Patting': 106.48625946044922, 'Reacting': 81.32649993896484, 'Talking': 61.879364013671875, 'Gesticuling': 69.47776794433594, 'Greeting': 54.46233367919922}}\n"
     ]
    },
    {
     "name": "stderr",
     "output_type": "stream",
     "text": [
      " 19%|█▊        | 1001/5352 [02:21<09:22,  7.74it/s]"
     ]
    },
    {
     "name": "stdout",
     "output_type": "stream",
     "text": [
      "{'FullBody': {'All': 73.24846649169922, 'UpperStretching': 76.06604766845703, 'Gaming': 61.25739288330078, 'Walking': 72.23030853271484, 'LowerStretching': 70.43428039550781, 'Patting': 80.89570617675781, 'Reacting': 69.95763397216797, 'Talking': 53.90522003173828, 'Gesticuling': 57.17633819580078, 'Greeting': 47.35082244873047}, 'UpperBody': {'All': 55.51398849487305, 'UpperStretching': 61.347694396972656, 'Gaming': 50.41577911376953, 'Walking': 49.13457489013672, 'LowerStretching': 43.06924057006836, 'Patting': 56.60825729370117, 'Reacting': 57.32140350341797, 'Talking': 46.45948791503906, 'Gesticuling': 45.887229919433594, 'Greeting': 41.05876922607422}, 'LowerBody': {'All': 90.98294067382812, 'UpperStretching': 90.78440856933594, 'Gaming': 72.09901428222656, 'Walking': 95.32603454589844, 'LowerStretching': 97.79932403564453, 'Patting': 105.18315124511719, 'Reacting': 82.59386444091797, 'Talking': 61.3509407043457, 'Gesticuling': 68.46544647216797, 'Greeting': 53.642879486083984}}\n"
     ]
    },
    {
     "name": "stderr",
     "output_type": "stream",
     "text": [
      " 22%|██▏       | 1201/5352 [02:48<10:41,  6.48it/s]"
     ]
    },
    {
     "name": "stdout",
     "output_type": "stream",
     "text": [
      "{'FullBody': {'All': 73.1889419555664, 'UpperStretching': 75.99124145507812, 'Gaming': 61.110469818115234, 'Walking': 72.36588287353516, 'LowerStretching': 70.51130676269531, 'Patting': 79.78724670410156, 'Reacting': 69.38939666748047, 'Talking': 53.5565299987793, 'Gesticuling': 57.2728157043457, 'Greeting': 48.197975158691406}, 'UpperBody': {'All': 55.531105041503906, 'UpperStretching': 61.307044982910156, 'Gaming': 50.49089431762695, 'Walking': 49.30097198486328, 'LowerStretching': 43.166439056396484, 'Patting': 56.227230072021484, 'Reacting': 56.82078552246094, 'Talking': 46.49680709838867, 'Gesticuling': 45.90117645263672, 'Greeting': 42.0334587097168}, 'LowerBody': {'All': 90.8467788696289, 'UpperStretching': 90.67543029785156, 'Gaming': 71.73004913330078, 'Walking': 95.4308090209961, 'LowerStretching': 97.85617065429688, 'Patting': 103.3472671508789, 'Reacting': 81.9580078125, 'Talking': 60.61624526977539, 'Gesticuling': 68.64444732666016, 'Greeting': 54.36248779296875}}\n"
     ]
    },
    {
     "name": "stderr",
     "output_type": "stream",
     "text": [
      " 26%|██▌       | 1401/5352 [03:15<08:45,  7.51it/s]"
     ]
    },
    {
     "name": "stdout",
     "output_type": "stream",
     "text": [
      "{'FullBody': {'All': 73.14767456054688, 'UpperStretching': 75.94276428222656, 'Gaming': 61.21461868286133, 'Walking': 72.63641357421875, 'LowerStretching': 70.42292785644531, 'Patting': 78.49322509765625, 'Reacting': 69.36468505859375, 'Talking': 53.123931884765625, 'Gesticuling': 57.828575134277344, 'Greeting': 48.306640625}, 'UpperBody': {'All': 55.44913101196289, 'UpperStretching': 61.198387145996094, 'Gaming': 49.82450485229492, 'Walking': 49.45936584472656, 'LowerStretching': 43.05209732055664, 'Patting': 55.49512481689453, 'Reacting': 57.0395393371582, 'Talking': 46.124122619628906, 'Gesticuling': 46.81525802612305, 'Greeting': 42.11265563964844}, 'LowerBody': {'All': 90.84622192382812, 'UpperStretching': 90.68714904785156, 'Gaming': 72.60472869873047, 'Walking': 95.81346893310547, 'LowerStretching': 97.79376220703125, 'Patting': 101.49131774902344, 'Reacting': 81.68983459472656, 'Talking': 60.123741149902344, 'Gesticuling': 68.8418960571289, 'Greeting': 54.50062942504883}}\n"
     ]
    },
    {
     "name": "stderr",
     "output_type": "stream",
     "text": [
      " 30%|██▉       | 1601/5352 [03:42<08:20,  7.49it/s]"
     ]
    },
    {
     "name": "stdout",
     "output_type": "stream",
     "text": [
      "{'FullBody': {'All': 73.1725082397461, 'UpperStretching': 75.84677124023438, 'Gaming': 61.56692886352539, 'Walking': 72.88011169433594, 'LowerStretching': 70.73715209960938, 'Patting': 77.65541076660156, 'Reacting': 69.11993408203125, 'Talking': 53.07844543457031, 'Gesticuling': 57.92683792114258, 'Greeting': 48.28006362915039}, 'UpperBody': {'All': 55.49620056152344, 'UpperStretching': 61.1728401184082, 'Gaming': 49.919700622558594, 'Walking': 49.6708984375, 'LowerStretching': 43.272071838378906, 'Patting': 54.43586730957031, 'Reacting': 57.00454330444336, 'Talking': 45.951927185058594, 'Gesticuling': 46.98709487915039, 'Greeting': 41.90219497680664}, 'LowerBody': {'All': 90.84880828857422, 'UpperStretching': 90.52069854736328, 'Gaming': 73.21415710449219, 'Walking': 96.08934783935547, 'LowerStretching': 98.20223236083984, 'Patting': 100.87494659423828, 'Reacting': 81.23531341552734, 'Talking': 60.20496368408203, 'Gesticuling': 68.8665771484375, 'Greeting': 54.657928466796875}}\n"
     ]
    },
    {
     "name": "stderr",
     "output_type": "stream",
     "text": [
      " 34%|███▎      | 1801/5352 [04:09<08:49,  6.71it/s]"
     ]
    },
    {
     "name": "stdout",
     "output_type": "stream",
     "text": [
      "{'FullBody': {'All': 73.08442687988281, 'UpperStretching': 75.81853485107422, 'Gaming': 61.75807571411133, 'Walking': 72.55467987060547, 'LowerStretching': 70.7981948852539, 'Patting': 77.14353942871094, 'Reacting': 68.28112030029297, 'Talking': 53.18006134033203, 'Gesticuling': 57.61187744140625, 'Greeting': 48.42512130737305}, 'UpperBody': {'All': 55.41305923461914, 'UpperStretching': 61.12739181518555, 'Gaming': 50.24751281738281, 'Walking': 49.48752212524414, 'LowerStretching': 43.195804595947266, 'Patting': 54.152469635009766, 'Reacting': 56.484588623046875, 'Talking': 45.822227478027344, 'Gesticuling': 47.013492584228516, 'Greeting': 41.923980712890625}, 'LowerBody': {'All': 90.75579833984375, 'UpperStretching': 90.50968170166016, 'Gaming': 73.26864624023438, 'Walking': 95.62184143066406, 'LowerStretching': 98.40059661865234, 'Patting': 100.13459777832031, 'Reacting': 80.07765197753906, 'Talking': 60.537879943847656, 'Gesticuling': 68.21025848388672, 'Greeting': 54.92626190185547}}\n"
     ]
    },
    {
     "name": "stderr",
     "output_type": "stream",
     "text": [
      " 37%|███▋      | 2001/5352 [04:36<07:35,  7.36it/s]"
     ]
    },
    {
     "name": "stdout",
     "output_type": "stream",
     "text": [
      "{'FullBody': {'All': 73.28903198242188, 'UpperStretching': 76.0745849609375, 'Gaming': 62.283660888671875, 'Walking': 72.93519592285156, 'LowerStretching': 70.79750061035156, 'Patting': 77.46783447265625, 'Reacting': 67.78424072265625, 'Talking': 53.042545318603516, 'Gesticuling': 57.83406066894531, 'Greeting': 48.41948699951172}, 'UpperBody': {'All': 55.53384780883789, 'UpperStretching': 61.25297164916992, 'Gaming': 50.726016998291016, 'Walking': 49.735111236572266, 'LowerStretching': 43.23044967651367, 'Patting': 54.803932189941406, 'Reacting': 55.862178802490234, 'Talking': 45.82371139526367, 'Gesticuling': 47.327552795410156, 'Greeting': 41.79494857788086}, 'LowerBody': {'All': 91.04421997070312, 'UpperStretching': 90.89619445800781, 'Gaming': 73.84129333496094, 'Walking': 96.13529205322266, 'LowerStretching': 98.36454772949219, 'Patting': 100.13172149658203, 'Reacting': 79.70629119873047, 'Talking': 60.261375427246094, 'Gesticuling': 68.34056854248047, 'Greeting': 55.044029235839844}}\n"
     ]
    },
    {
     "name": "stderr",
     "output_type": "stream",
     "text": [
      " 41%|████      | 2201/5352 [05:03<07:05,  7.41it/s]"
     ]
    },
    {
     "name": "stdout",
     "output_type": "stream",
     "text": [
      "{'FullBody': {'All': 73.28240966796875, 'UpperStretching': 76.0937271118164, 'Gaming': 62.63364028930664, 'Walking': 72.87000274658203, 'LowerStretching': 70.76573944091797, 'Patting': 77.56673431396484, 'Reacting': 67.74068450927734, 'Talking': 53.3057861328125, 'Gesticuling': 57.802799224853516, 'Greeting': 48.77985763549805}, 'UpperBody': {'All': 55.59613800048828, 'UpperStretching': 61.353206634521484, 'Gaming': 50.8567008972168, 'Walking': 49.74118423461914, 'LowerStretching': 43.25979995727539, 'Patting': 54.637351989746094, 'Reacting': 55.83757400512695, 'Talking': 46.186279296875, 'Gesticuling': 47.3905143737793, 'Greeting': 42.054752349853516}, 'LowerBody': {'All': 90.96868896484375, 'UpperStretching': 90.8342514038086, 'Gaming': 74.41057586669922, 'Walking': 95.99882507324219, 'LowerStretching': 98.27168273925781, 'Patting': 100.49610900878906, 'Reacting': 79.6437759399414, 'Talking': 60.425296783447266, 'Gesticuling': 68.21507263183594, 'Greeting': 55.504966735839844}}\n"
     ]
    },
    {
     "name": "stderr",
     "output_type": "stream",
     "text": [
      " 45%|████▍     | 2401/5352 [05:30<07:24,  6.64it/s]"
     ]
    },
    {
     "name": "stdout",
     "output_type": "stream",
     "text": [
      "{'FullBody': {'All': 73.29121398925781, 'UpperStretching': 76.11888122558594, 'Gaming': 62.7562370300293, 'Walking': 72.94697570800781, 'LowerStretching': 70.6956787109375, 'Patting': 77.18169403076172, 'Reacting': 67.5478515625, 'Talking': 53.14222717285156, 'Gesticuling': 58.32054138183594, 'Greeting': 49.0155143737793}, 'UpperBody': {'All': 55.570274353027344, 'UpperStretching': 61.324440002441406, 'Gaming': 50.948917388916016, 'Walking': 49.74789810180664, 'LowerStretching': 43.25226593017578, 'Patting': 54.445350646972656, 'Reacting': 55.83437728881836, 'Talking': 45.9968147277832, 'Gesticuling': 47.79754638671875, 'Greeting': 42.25458526611328}, 'LowerBody': {'All': 91.01216125488281, 'UpperStretching': 90.91331481933594, 'Gaming': 74.56355285644531, 'Walking': 96.14604949951172, 'LowerStretching': 98.13909912109375, 'Patting': 99.91804504394531, 'Reacting': 79.2613296508789, 'Talking': 60.28763961791992, 'Gesticuling': 68.84353637695312, 'Greeting': 55.77643966674805}}\n"
     ]
    },
    {
     "name": "stderr",
     "output_type": "stream",
     "text": [
      " 49%|████▊     | 2601/5352 [05:57<06:14,  7.35it/s]"
     ]
    },
    {
     "name": "stdout",
     "output_type": "stream",
     "text": [
      "{'FullBody': {'All': 73.26900482177734, 'UpperStretching': 76.09629821777344, 'Gaming': 63.134395599365234, 'Walking': 72.84696960449219, 'LowerStretching': 70.72506713867188, 'Patting': 76.84169006347656, 'Reacting': 67.30789947509766, 'Talking': 53.13456726074219, 'Gesticuling': 58.298587799072266, 'Greeting': 49.28986740112305}, 'UpperBody': {'All': 55.57426834106445, 'UpperStretching': 61.32343673706055, 'Gaming': 51.22578811645508, 'Walking': 49.675533294677734, 'LowerStretching': 43.27458953857422, 'Patting': 54.04188537597656, 'Reacting': 55.75541305541992, 'Talking': 46.14451217651367, 'Gesticuling': 47.73318862915039, 'Greeting': 42.49283981323242}, 'LowerBody': {'All': 90.96373748779297, 'UpperStretching': 90.86915588378906, 'Gaming': 75.04299926757812, 'Walking': 96.01839447021484, 'LowerStretching': 98.17555236816406, 'Patting': 99.64149475097656, 'Reacting': 78.86038970947266, 'Talking': 60.12461853027344, 'Gesticuling': 68.86399841308594, 'Greeting': 56.08690643310547}}\n"
     ]
    },
    {
     "name": "stderr",
     "output_type": "stream",
     "text": [
      " 52%|█████▏    | 2801/5352 [06:24<05:47,  7.33it/s]"
     ]
    },
    {
     "name": "stdout",
     "output_type": "stream",
     "text": [
      "{'FullBody': {'All': 73.20982360839844, 'UpperStretching': 76.03031158447266, 'Gaming': 62.908260345458984, 'Walking': 72.60173034667969, 'LowerStretching': 70.67969512939453, 'Patting': 78.16661834716797, 'Reacting': 67.4527816772461, 'Talking': 52.956787109375, 'Gesticuling': 58.571502685546875, 'Greeting': 49.03993606567383}, 'UpperBody': {'All': 55.553768157958984, 'UpperStretching': 61.29610824584961, 'Gaming': 50.99453353881836, 'Walking': 49.567283630371094, 'LowerStretching': 43.22943878173828, 'Patting': 55.396812438964844, 'Reacting': 55.63905715942383, 'Talking': 46.02597427368164, 'Gesticuling': 47.962284088134766, 'Greeting': 42.29130935668945}, 'LowerBody': {'All': 90.86589050292969, 'UpperStretching': 90.76451873779297, 'Gaming': 74.82199096679688, 'Walking': 95.63618469238281, 'LowerStretching': 98.12996673583984, 'Patting': 100.9364242553711, 'Reacting': 79.2665023803711, 'Talking': 59.88759231567383, 'Gesticuling': 69.18071746826172, 'Greeting': 55.78856658935547}}\n"
     ]
    },
    {
     "name": "stderr",
     "output_type": "stream",
     "text": [
      " 56%|█████▌    | 3000/5352 [06:51<05:22,  7.30it/s]"
     ]
    },
    {
     "name": "stdout",
     "output_type": "stream",
     "text": [
      "{'FullBody': {'All': 73.27046203613281, 'UpperStretching': 76.08566284179688, 'Gaming': 63.027984619140625, 'Walking': 72.791015625, 'LowerStretching': 70.67841339111328, 'Patting': 78.26825714111328, 'Reacting': 67.42124938964844, 'Talking': 52.8997802734375, 'Gesticuling': 58.61698532104492, 'Greeting': 49.27774429321289}, 'UpperBody': {'All': 55.59251022338867, 'UpperStretching': 61.302146911621094, 'Gaming': 51.42781066894531, 'Walking': 49.66517639160156, 'LowerStretching': 43.28212356567383, 'Patting': 55.42216491699219, 'Reacting': 55.54682159423828, 'Talking': 46.146392822265625, 'Gesticuling': 48.06751251220703, 'Greeting': 42.50653839111328}, 'LowerBody': {'All': 90.94841766357422, 'UpperStretching': 90.86919403076172, 'Gaming': 74.62815856933594, 'Walking': 95.9168472290039, 'LowerStretching': 98.07471466064453, 'Patting': 101.1143569946289, 'Reacting': 79.29566955566406, 'Talking': 59.653167724609375, 'Gesticuling': 69.16645812988281, 'Greeting': 56.04895782470703}}\n"
     ]
    },
    {
     "name": "stderr",
     "output_type": "stream",
     "text": [
      " 60%|█████▉    | 3201/5352 [07:18<05:01,  7.13it/s]"
     ]
    },
    {
     "name": "stdout",
     "output_type": "stream",
     "text": [
      "{'FullBody': {'All': 73.27615356445312, 'UpperStretching': 76.06820678710938, 'Gaming': 62.92814636230469, 'Walking': 72.82659912109375, 'LowerStretching': 70.71524047851562, 'Patting': 78.35227966308594, 'Reacting': 67.43838500976562, 'Talking': 52.74494171142578, 'Gesticuling': 58.62400436401367, 'Greeting': 49.22505187988281}, 'UpperBody': {'All': 55.570037841796875, 'UpperStretching': 61.247459411621094, 'Gaming': 51.26480484008789, 'Walking': 49.66832733154297, 'LowerStretching': 43.301021575927734, 'Patting': 55.45802307128906, 'Reacting': 55.5271110534668, 'Talking': 46.114139556884766, 'Gesticuling': 47.99182891845703, 'Greeting': 42.56033706665039}, 'LowerBody': {'All': 90.98226928710938, 'UpperStretching': 90.8889389038086, 'Gaming': 74.59149169921875, 'Walking': 95.98487854003906, 'LowerStretching': 98.12947082519531, 'Patting': 101.24654388427734, 'Reacting': 79.34965515136719, 'Talking': 59.37574005126953, 'Gesticuling': 69.25616455078125, 'Greeting': 55.889774322509766}}\n"
     ]
    },
    {
     "name": "stderr",
     "output_type": "stream",
     "text": [
      " 64%|██████▎   | 3401/5352 [07:45<04:25,  7.36it/s]"
     ]
    },
    {
     "name": "stdout",
     "output_type": "stream",
     "text": [
      "{'FullBody': {'All': 73.24458312988281, 'UpperStretching': 75.99636840820312, 'Gaming': 62.94595718383789, 'Walking': 72.91700744628906, 'LowerStretching': 70.79488372802734, 'Patting': 78.3453369140625, 'Reacting': 67.42110443115234, 'Talking': 52.718631744384766, 'Gesticuling': 58.543617248535156, 'Greeting': 49.2068977355957}, 'UpperBody': {'All': 55.53849792480469, 'UpperStretching': 61.19866180419922, 'Gaming': 51.14589309692383, 'Walking': 49.67750930786133, 'LowerStretching': 43.37813186645508, 'Patting': 55.29811477661133, 'Reacting': 55.414390563964844, 'Talking': 45.93475341796875, 'Gesticuling': 47.912349700927734, 'Greeting': 42.50700759887695}, 'LowerBody': {'All': 90.95068359375, 'UpperStretching': 90.7940673828125, 'Gaming': 74.74601745605469, 'Walking': 96.15650177001953, 'LowerStretching': 98.21163940429688, 'Patting': 101.39254760742188, 'Reacting': 79.42781829833984, 'Talking': 59.50251388549805, 'Gesticuling': 69.17488098144531, 'Greeting': 55.90678787231445}}\n"
     ]
    },
    {
     "name": "stderr",
     "output_type": "stream",
     "text": [
      " 67%|██████▋   | 3601/5352 [08:12<04:42,  6.21it/s]"
     ]
    },
    {
     "name": "stdout",
     "output_type": "stream",
     "text": [
      "{'FullBody': {'All': 73.26407623291016, 'UpperStretching': 75.98997497558594, 'Gaming': 63.09897994995117, 'Walking': 72.96460723876953, 'LowerStretching': 70.82331085205078, 'Patting': 78.14371490478516, 'Reacting': 67.78382110595703, 'Talking': 52.41655349731445, 'Gesticuling': 58.62423324584961, 'Greeting': 49.303958892822266}, 'UpperBody': {'All': 55.56255340576172, 'UpperStretching': 61.21247863769531, 'Gaming': 51.15379333496094, 'Walking': 49.67186737060547, 'LowerStretching': 43.39930725097656, 'Patting': 55.336429595947266, 'Reacting': 55.69968032836914, 'Talking': 45.67061996459961, 'Gesticuling': 48.06800842285156, 'Greeting': 42.47661209106445}, 'LowerBody': {'All': 90.96562194824219, 'UpperStretching': 90.7674789428711, 'Gaming': 75.04415130615234, 'Walking': 96.25733947753906, 'LowerStretching': 98.24732208251953, 'Patting': 100.95100402832031, 'Reacting': 79.86795806884766, 'Talking': 59.16249465942383, 'Gesticuling': 69.18045806884766, 'Greeting': 56.131309509277344}}\n"
     ]
    },
    {
     "name": "stderr",
     "output_type": "stream",
     "text": [
      " 71%|███████   | 3801/5352 [08:40<03:42,  6.96it/s]"
     ]
    },
    {
     "name": "stdout",
     "output_type": "stream",
     "text": [
      "{'FullBody': {'All': 73.26404571533203, 'UpperStretching': 75.99576568603516, 'Gaming': 63.26338577270508, 'Walking': 72.86761474609375, 'LowerStretching': 70.8897933959961, 'Patting': 78.00985717773438, 'Reacting': 67.7529296875, 'Talking': 52.2391357421875, 'Gesticuling': 58.53147506713867, 'Greeting': 49.37578582763672}, 'UpperBody': {'All': 55.57136535644531, 'UpperStretching': 61.22499465942383, 'Gaming': 51.41864013671875, 'Walking': 49.65909194946289, 'LowerStretching': 43.41351318359375, 'Patting': 55.35703659057617, 'Reacting': 55.738853454589844, 'Talking': 45.503719329833984, 'Gesticuling': 48.02678298950195, 'Greeting': 42.571598052978516}, 'LowerBody': {'All': 90.95674133300781, 'UpperStretching': 90.76654052734375, 'Gaming': 75.10814666748047, 'Walking': 96.07612609863281, 'LowerStretching': 98.36608123779297, 'Patting': 100.66267395019531, 'Reacting': 79.76701354980469, 'Talking': 58.97455596923828, 'Gesticuling': 69.03617095947266, 'Greeting': 56.17996597290039}}\n"
     ]
    },
    {
     "name": "stderr",
     "output_type": "stream",
     "text": [
      " 75%|███████▍  | 4001/5352 [09:07<03:12,  7.03it/s]"
     ]
    },
    {
     "name": "stdout",
     "output_type": "stream",
     "text": [
      "{'FullBody': {'All': 73.22296905517578, 'UpperStretching': 75.88108825683594, 'Gaming': 63.24954605102539, 'Walking': 72.8785171508789, 'LowerStretching': 71.0105209350586, 'Patting': 78.50784301757812, 'Reacting': 67.49372863769531, 'Talking': 52.16456985473633, 'Gesticuling': 58.69108963012695, 'Greeting': 49.405616760253906}, 'UpperBody': {'All': 55.52058029174805, 'UpperStretching': 61.13792037963867, 'Gaming': 51.3513069152832, 'Walking': 49.694400787353516, 'LowerStretching': 43.43925094604492, 'Patting': 55.8262939453125, 'Reacting': 55.503570556640625, 'Talking': 45.48777389526367, 'Gesticuling': 48.27290344238281, 'Greeting': 42.49705123901367}, 'LowerBody': {'All': 90.92536163330078, 'UpperStretching': 90.624267578125, 'Gaming': 75.14778137207031, 'Walking': 96.0626449584961, 'LowerStretching': 98.58179473876953, 'Patting': 101.18939971923828, 'Reacting': 79.48388671875, 'Talking': 58.84136962890625, 'Gesticuling': 69.10926818847656, 'Greeting': 56.314186096191406}}\n"
     ]
    },
    {
     "name": "stderr",
     "output_type": "stream",
     "text": [
      " 78%|███████▊  | 4201/5352 [09:34<03:08,  6.12it/s]"
     ]
    },
    {
     "name": "stdout",
     "output_type": "stream",
     "text": [
      "{'FullBody': {'All': 73.20492553710938, 'UpperStretching': 75.86613464355469, 'Gaming': 63.402259826660156, 'Walking': 72.84150695800781, 'LowerStretching': 71.0286636352539, 'Patting': 78.36209106445312, 'Reacting': 67.34756469726562, 'Talking': 52.16252136230469, 'Gesticuling': 58.69654846191406, 'Greeting': 49.49452590942383}, 'UpperBody': {'All': 55.49443817138672, 'UpperStretching': 61.11691665649414, 'Gaming': 51.35334014892578, 'Walking': 49.66128158569336, 'LowerStretching': 43.42382049560547, 'Patting': 55.58692932128906, 'Reacting': 55.38687515258789, 'Talking': 45.43338394165039, 'Gesticuling': 48.309261322021484, 'Greeting': 42.541847229003906}, 'LowerBody': {'All': 90.91542053222656, 'UpperStretching': 90.6153564453125, 'Gaming': 75.45118713378906, 'Walking': 96.021728515625, 'LowerStretching': 98.63351440429688, 'Patting': 101.13724517822266, 'Reacting': 79.30825805664062, 'Talking': 58.89166259765625, 'Gesticuling': 69.08383178710938, 'Greeting': 56.447200775146484}}\n"
     ]
    },
    {
     "name": "stderr",
     "output_type": "stream",
     "text": [
      " 82%|████████▏ | 4401/5352 [10:01<02:21,  6.70it/s]"
     ]
    },
    {
     "name": "stdout",
     "output_type": "stream",
     "text": [
      "{'FullBody': {'All': 73.23155975341797, 'UpperStretching': 75.90463256835938, 'Gaming': 63.42792892456055, 'Walking': 72.78897094726562, 'LowerStretching': 70.98585510253906, 'Patting': 78.66000366210938, 'Reacting': 67.44035339355469, 'Talking': 52.281028747558594, 'Gesticuling': 58.675148010253906, 'Greeting': 49.48612976074219}, 'UpperBody': {'All': 55.52043533325195, 'UpperStretching': 61.14189147949219, 'Gaming': 51.4106559753418, 'Walking': 49.632537841796875, 'LowerStretching': 43.42039489746094, 'Patting': 55.6577033996582, 'Reacting': 55.40653610229492, 'Talking': 45.59523010253906, 'Gesticuling': 48.2983512878418, 'Greeting': 42.520835876464844}, 'LowerBody': {'All': 90.94269561767578, 'UpperStretching': 90.6673583984375, 'Gaming': 75.44520568847656, 'Walking': 95.94540405273438, 'LowerStretching': 98.55133056640625, 'Patting': 101.66228485107422, 'Reacting': 79.47416687011719, 'Talking': 58.966827392578125, 'Gesticuling': 69.05194091796875, 'Greeting': 56.451419830322266}}\n"
     ]
    },
    {
     "name": "stderr",
     "output_type": "stream",
     "text": [
      " 86%|████████▌ | 4601/5352 [10:28<01:46,  7.06it/s]"
     ]
    },
    {
     "name": "stdout",
     "output_type": "stream",
     "text": [
      "{'FullBody': {'All': 73.18302154541016, 'UpperStretching': 75.83837890625, 'Gaming': 63.4361572265625, 'Walking': 72.72662353515625, 'LowerStretching': 70.97350311279297, 'Patting': 79.12503051757812, 'Reacting': 67.12866973876953, 'Talking': 52.331356048583984, 'Gesticuling': 58.54933547973633, 'Greeting': 49.495479583740234}, 'UpperBody': {'All': 55.49769592285156, 'UpperStretching': 61.1170539855957, 'Gaming': 51.41618728637695, 'Walking': 49.60163497924805, 'LowerStretching': 43.400630950927734, 'Patting': 55.94145965576172, 'Reacting': 55.26420974731445, 'Talking': 45.590843200683594, 'Gesticuling': 48.14588928222656, 'Greeting': 42.580902099609375}, 'LowerBody': {'All': 90.86835479736328, 'UpperStretching': 90.55970001220703, 'Gaming': 75.45612335205078, 'Walking': 95.85160827636719, 'LowerStretching': 98.54638671875, 'Patting': 102.30859375, 'Reacting': 78.99314880371094, 'Talking': 59.07186508178711, 'Gesticuling': 68.95277404785156, 'Greeting': 56.41005325317383}}\n"
     ]
    },
    {
     "name": "stderr",
     "output_type": "stream",
     "text": [
      " 90%|████████▉ | 4801/5352 [10:55<01:18,  7.00it/s]"
     ]
    },
    {
     "name": "stdout",
     "output_type": "stream",
     "text": [
      "{'FullBody': {'All': 73.17340850830078, 'UpperStretching': 75.80118560791016, 'Gaming': 63.39634704589844, 'Walking': 72.80010223388672, 'LowerStretching': 71.01710510253906, 'Patting': 79.05441284179688, 'Reacting': 67.06898498535156, 'Talking': 52.174320220947266, 'Gesticuling': 58.7385139465332, 'Greeting': 49.453887939453125}, 'UpperBody': {'All': 55.4490966796875, 'UpperStretching': 61.060279846191406, 'Gaming': 51.388057708740234, 'Walking': 49.62067413330078, 'LowerStretching': 43.43506622314453, 'Patting': 55.70421600341797, 'Reacting': 55.14765548706055, 'Talking': 45.47930145263672, 'Gesticuling': 48.21364974975586, 'Greeting': 42.57272720336914}, 'LowerBody': {'All': 90.89772033691406, 'UpperStretching': 90.54209899902344, 'Gaming': 75.40463256835938, 'Walking': 95.97952270507812, 'LowerStretching': 98.59915161132812, 'Patting': 102.40460968017578, 'Reacting': 78.99032592773438, 'Talking': 58.86933898925781, 'Gesticuling': 69.26336669921875, 'Greeting': 56.33504867553711}}\n"
     ]
    },
    {
     "name": "stderr",
     "output_type": "stream",
     "text": [
      " 93%|█████████▎| 5001/5352 [11:22<00:51,  6.83it/s]"
     ]
    },
    {
     "name": "stdout",
     "output_type": "stream",
     "text": [
      "{'FullBody': {'All': 73.14616394042969, 'UpperStretching': 75.78439331054688, 'Gaming': 63.41817855834961, 'Walking': 72.76182556152344, 'LowerStretching': 70.96996307373047, 'Patting': 79.3404769897461, 'Reacting': 66.81663513183594, 'Talking': 52.251136779785156, 'Gesticuling': 58.71678924560547, 'Greeting': 49.33177185058594}, 'UpperBody': {'All': 55.443092346191406, 'UpperStretching': 61.080711364746094, 'Gaming': 51.42235565185547, 'Walking': 49.60410690307617, 'LowerStretching': 43.40289306640625, 'Patting': 55.799198150634766, 'Reacting': 54.940303802490234, 'Talking': 45.492820739746094, 'Gesticuling': 48.19867706298828, 'Greeting': 42.34133529663086}, 'LowerBody': {'All': 90.8492431640625, 'UpperStretching': 90.48807525634766, 'Gaming': 75.41400146484375, 'Walking': 95.9195327758789, 'LowerStretching': 98.53704071044922, 'Patting': 102.88175201416016, 'Reacting': 78.69296264648438, 'Talking': 59.00944900512695, 'Gesticuling': 69.23490142822266, 'Greeting': 56.32220458984375}}\n"
     ]
    },
    {
     "name": "stderr",
     "output_type": "stream",
     "text": [
      " 97%|█████████▋| 5201/5352 [11:50<00:21,  7.00it/s]"
     ]
    },
    {
     "name": "stdout",
     "output_type": "stream",
     "text": [
      "{'FullBody': {'All': 73.15263366699219, 'UpperStretching': 75.82125091552734, 'Gaming': 63.41297912597656, 'Walking': 72.7975082397461, 'LowerStretching': 70.88463592529297, 'Patting': 79.34151458740234, 'Reacting': 66.8078384399414, 'Talking': 52.25999450683594, 'Gesticuling': 58.613094329833984, 'Greeting': 49.26126480102539}, 'UpperBody': {'All': 55.457489013671875, 'UpperStretching': 61.12333679199219, 'Gaming': 51.42076873779297, 'Walking': 49.6028938293457, 'LowerStretching': 43.38581466674805, 'Patting': 55.80607223510742, 'Reacting': 54.88375473022461, 'Talking': 45.44548797607422, 'Gesticuling': 48.150970458984375, 'Greeting': 42.29200744628906}, 'LowerBody': {'All': 90.84778594970703, 'UpperStretching': 90.51915740966797, 'Gaming': 75.40518951416016, 'Walking': 95.99211883544922, 'LowerStretching': 98.38346862792969, 'Patting': 102.876953125, 'Reacting': 78.73192596435547, 'Talking': 59.074501037597656, 'Gesticuling': 69.07521057128906, 'Greeting': 56.23052215576172}}\n"
     ]
    },
    {
     "name": "stderr",
     "output_type": "stream",
     "text": [
      "100%|██████████| 5352/5352 [12:10<00:00,  7.33it/s]\n",
      "\u001b[94m09:41:19 \u001b[92m[INFO]\u001b[94m Main\u001b[0m: Saving evaluation results...\n",
      "\u001b[94m09:41:19 \u001b[92m[INFO]\u001b[94m Main\u001b[0m: Done.\n"
     ]
    }
   ],
   "source": [
    "for i,p in enumerate(path_):\n",
    "\t_path = f'/workspace/2d_to_3d/apps/eval/Ours_sil_dep_fusion(loss fix)815'\n",
    "\t_name = f'baseline815_{i}.json'\n",
    "\tif not os.path.exists(_path):\n",
    "\t\tos.makedirs(_path)\n",
    "\n",
    "\tmain(model_path=p,output_path=os.path.join(_path,_name))"
   ]
  }
 ],
 "metadata": {
  "kernelspec": {
   "display_name": "base",
   "language": "python",
   "name": "python3"
  },
  "language_info": {
   "codemirror_mode": {
    "name": "ipython",
    "version": 3
   },
   "file_extension": ".py",
   "mimetype": "text/x-python",
   "name": "python",
   "nbconvert_exporter": "python",
   "pygments_lexer": "ipython3",
   "version": "3.10.8"
  },
  "orig_nbformat": 4
 },
 "nbformat": 4,
 "nbformat_minor": 2
}
