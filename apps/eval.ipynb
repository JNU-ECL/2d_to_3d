{
 "cells": [
  {
   "cell_type": "code",
   "execution_count": 1,
   "metadata": {},
   "outputs": [
    {
     "name": "stderr",
     "output_type": "stream",
     "text": [
      "/opt/conda/lib/python3.10/site-packages/tqdm/auto.py:22: TqdmWarning: IProgress not found. Please update jupyter and ipywidgets. See https://ipywidgets.readthedocs.io/en/stable/user_install.html\n",
      "  from .autonotebook import tqdm as notebook_tqdm\n"
     ]
    }
   ],
   "source": [
    "# Copyright (c) Facebook, Inc. and its affiliates. All Rights Reserved\n",
    "# -*- coding: utf-8 -*-\n",
    "\"\"\"\n",
    "Demo code\n",
    "\n",
    "@author: Denis Tome'\n",
    "\n",
    "\"\"\"\n",
    "from torch.utils.data import DataLoader\n",
    "import torch\n",
    "from torchvision import transforms\n",
    "from base import SetType\n",
    "import multiprocessing\n",
    "from mocap import Mocap\n",
    "from utils import config, ConsoleLogger\n",
    "from utils import evaluate, io\n",
    "from model import TempModel\n",
    "from tqdm import tqdm\n",
    "\n",
    "LOGGER = ConsoleLogger(\"Main\")\n",
    "use_cuda = torch.cuda.is_available()\n",
    "device = torch.device(\"cuda\" if use_cuda else \"cpu\")\n"
   ]
  },
  {
   "cell_type": "code",
   "execution_count": 2,
   "metadata": {},
   "outputs": [],
   "source": [
    "\n",
    "def main(model_path=None,output_path=None):\n",
    "\t\"\"\"Main\"\"\"\n",
    "\n",
    "\tLOGGER.info('Starting demo...')\n",
    "\n",
    "\t# ------------------- Data loader -------------------\n",
    "\n",
    "\n",
    "\t# let's load data from validation set as example\n",
    "\tdata = Mocap(\n",
    "\t\t'/dataset/data/Dataset/TestSet',\n",
    "\t\tSetType.VAL,\n",
    "\t\t)\n",
    "\tdata_loader = DataLoader(\n",
    "\t\tdata,\n",
    "\t\tbatch_size=32,\n",
    "\t\tnum_workers=(multiprocessing.cpu_count() // 3) * 2,\n",
    "\t\tshuffle=True)\n",
    "\n",
    "\t# ------------------- Evaluation -------------------\n",
    "\n",
    "\teval_body = evaluate.EvalBody()\n",
    "\teval_upper = evaluate.EvalUpperBody()\n",
    "\teval_lower = evaluate.EvalLowerBody()\n",
    "\n",
    "\t# ------------------- Read dataset frames -------------------\n",
    "\n",
    "\tmodel = TempModel(pretrained_path=model_path).to(device)\n",
    "\tmodel = torch.nn.DataParallel(model,device_ids=[0,1])\n",
    "\tmodel.eval()\n",
    "\n",
    "\tfor it, test_batch in enumerate(tqdm(data_loader)):\n",
    "\t\timg = test_batch['image']\n",
    "\t\tp2d = test_batch['fisheye_joints_2d']\n",
    "\t\tp3d = test_batch['joints_3d_cam']\n",
    "\t\taction = test_batch['action']\n",
    "\t\tinput_img = {'image':img}\n",
    "\t\t# LOGGER.info('Iteration: {}'.format(it))\n",
    "\t\t# LOGGER.info('Images: {}'.format(img.shape))\n",
    "\t\t# LOGGER.info('p2ds: {}'.format(p2d.shape))\n",
    "\t\t# LOGGER.info('p3ds: {}'.format(p3d.shape))\n",
    "\t\t# LOGGER.info('Actions: {}'.format(action))\n",
    "\n",
    "\t\t# -----------------------------------------------------------\n",
    "\t\tpred_output = model(input_img,0,False)\n",
    "\t\t# -----------------------------------------------------------\n",
    "\n",
    "\t\t# TODO: replace p3d_hat with model preditions\n",
    "\t\tp3d_hat = pred_output['regressor_dict']['pred_joint']\n",
    "\n",
    "\t\t# Evaluate results using different evaluation metrices\n",
    "\t\ty_output = p3d_hat.data.cpu().numpy() * 1000\n",
    "\t\ty_target = p3d.data.cpu().numpy() * 1000\n",
    "\n",
    "\t\teval_body.eval(y_output, y_target, action)\n",
    "\t\teval_upper.eval(y_output, y_target, action)\n",
    "\t\teval_lower.eval(y_output, y_target, action)\n",
    "\t\tif (it+1)%200==0:\n",
    "\t\t\tprint({'FullBody': eval_body.get_results(),\n",
    "\t\t   'UpperBody': eval_upper.get_results(),\n",
    "\t\t   'LowerBody': eval_lower.get_results()})\n",
    "\t\t# TODO: remove break\n",
    "\t\t\n",
    "\n",
    "\t# ------------------- Save results -------------------\n",
    "\n",
    "\tLOGGER.info('Saving evaluation results...')\n",
    "\tres = {'FullBody': eval_body.get_results(),\n",
    "\t\t   'UpperBody': eval_upper.get_results(),\n",
    "\t\t   'LowerBody': eval_lower.get_results()}\n",
    "\n",
    "\tio.write_json(output_path, res)\n",
    "\n",
    "\tLOGGER.info('Done.')"
   ]
  },
  {
   "cell_type": "code",
   "execution_count": 3,
   "metadata": {},
   "outputs": [
    {
     "data": {
      "text/plain": [
       "['/workspace/2d_to_3d/apps/exp616/0.pth',\n",
       " '/workspace/2d_to_3d/apps/exp616/1.pth',\n",
       " '/workspace/2d_to_3d/apps/exp616/2.pth',\n",
       " '/workspace/2d_to_3d/apps/exp616/3.pth',\n",
       " '/workspace/2d_to_3d/apps/exp616/4.pth',\n",
       " '/workspace/2d_to_3d/apps/exp616/5.pth',\n",
       " '/workspace/2d_to_3d/apps/exp616/6.pth',\n",
       " '/workspace/2d_to_3d/apps/exp616/7.pth',\n",
       " '/workspace/2d_to_3d/apps/exp616/8.pth',\n",
       " '/workspace/2d_to_3d/apps/exp616/9.pth',\n",
       " '/workspace/2d_to_3d/apps/exp616/best.pth']"
      ]
     },
     "execution_count": 3,
     "metadata": {},
     "output_type": "execute_result"
    }
   ],
   "source": [
    "import glob\n",
    "path_ =sorted(glob.glob('/workspace/2d_to_3d/apps/exp616'+'/*'))\n",
    "path_"
   ]
  },
  {
   "cell_type": "code",
   "execution_count": 4,
   "metadata": {},
   "outputs": [
    {
     "name": "stderr",
     "output_type": "stream",
     "text": [
      "\u001b[94m01:58:54 \u001b[92m[INFO]\u001b[94m Main\u001b[0m: Starting demo...\n",
      "  0%|          | 0/2676 [00:00<?, ?it/s]/opt/conda/lib/python3.10/site-packages/torchvision/transforms/transforms.py:329: UserWarning: Argument 'interpolation' of type int is deprecated since 0.13 and will be removed in 0.15. Please use InterpolationMode enum.\n",
      "  warnings.warn(\n",
      "/opt/conda/lib/python3.10/site-packages/torchvision/transforms/transforms.py:329: UserWarning: Argument 'interpolation' of type int is deprecated since 0.13 and will be removed in 0.15. Please use InterpolationMode enum.\n",
      "  warnings.warn(\n",
      "/opt/conda/lib/python3.10/site-packages/torchvision/transforms/transforms.py:329: UserWarning: Argument 'interpolation' of type int is deprecated since 0.13 and will be removed in 0.15. Please use InterpolationMode enum.\n",
      "  warnings.warn(\n",
      "/opt/conda/lib/python3.10/site-packages/torchvision/transforms/transforms.py:329: UserWarning: Argument 'interpolation' of type int is deprecated since 0.13 and will be removed in 0.15. Please use InterpolationMode enum.\n",
      "  warnings.warn(\n",
      "/opt/conda/lib/python3.10/site-packages/torchvision/transforms/transforms.py:329: UserWarning: Argument 'interpolation' of type int is deprecated since 0.13 and will be removed in 0.15. Please use InterpolationMode enum.\n",
      "  warnings.warn(\n",
      "/opt/conda/lib/python3.10/site-packages/torchvision/transforms/transforms.py:329: UserWarning: Argument 'interpolation' of type int is deprecated since 0.13 and will be removed in 0.15. Please use InterpolationMode enum.\n",
      "  warnings.warn(\n",
      "/opt/conda/lib/python3.10/site-packages/torchvision/transforms/transforms.py:329: UserWarning: Argument 'interpolation' of type int is deprecated since 0.13 and will be removed in 0.15. Please use InterpolationMode enum.\n",
      "  warnings.warn(\n",
      "/opt/conda/lib/python3.10/site-packages/torchvision/transforms/transforms.py:329: UserWarning: Argument 'interpolation' of type int is deprecated since 0.13 and will be removed in 0.15. Please use InterpolationMode enum.\n",
      "  warnings.warn(\n",
      "/opt/conda/lib/python3.10/site-packages/torchvision/transforms/transforms.py:329: UserWarning: Argument 'interpolation' of type int is deprecated since 0.13 and will be removed in 0.15. Please use InterpolationMode enum.\n",
      "  warnings.warn(\n",
      "/opt/conda/lib/python3.10/site-packages/torchvision/transforms/transforms.py:329: UserWarning: Argument 'interpolation' of type int is deprecated since 0.13 and will be removed in 0.15. Please use InterpolationMode enum.\n",
      "  warnings.warn(\n",
      "/opt/conda/lib/python3.10/site-packages/torchvision/transforms/transforms.py:329: UserWarning: Argument 'interpolation' of type int is deprecated since 0.13 and will be removed in 0.15. Please use InterpolationMode enum.\n",
      "  warnings.warn(\n",
      "/opt/conda/lib/python3.10/site-packages/torchvision/transforms/transforms.py:329: UserWarning: Argument 'interpolation' of type int is deprecated since 0.13 and will be removed in 0.15. Please use InterpolationMode enum.\n",
      "  warnings.warn(\n",
      "/opt/conda/lib/python3.10/site-packages/torchvision/transforms/transforms.py:329: UserWarning: Argument 'interpolation' of type int is deprecated since 0.13 and will be removed in 0.15. Please use InterpolationMode enum.\n",
      "  warnings.warn(\n",
      "/opt/conda/lib/python3.10/site-packages/torchvision/transforms/transforms.py:329: UserWarning: Argument 'interpolation' of type int is deprecated since 0.13 and will be removed in 0.15. Please use InterpolationMode enum.\n",
      "  warnings.warn(\n",
      "/opt/conda/lib/python3.10/site-packages/torchvision/transforms/transforms.py:329: UserWarning: Argument 'interpolation' of type int is deprecated since 0.13 and will be removed in 0.15. Please use InterpolationMode enum.\n",
      "  warnings.warn(\n",
      "/opt/conda/lib/python3.10/site-packages/torchvision/transforms/transforms.py:329: UserWarning: Argument 'interpolation' of type int is deprecated since 0.13 and will be removed in 0.15. Please use InterpolationMode enum.\n",
      "  warnings.warn(\n",
      "/opt/conda/lib/python3.10/site-packages/torchvision/transforms/transforms.py:329: UserWarning: Argument 'interpolation' of type int is deprecated since 0.13 and will be removed in 0.15. Please use InterpolationMode enum.\n",
      "  warnings.warn(\n",
      "/opt/conda/lib/python3.10/site-packages/torchvision/transforms/transforms.py:329: UserWarning: Argument 'interpolation' of type int is deprecated since 0.13 and will be removed in 0.15. Please use InterpolationMode enum.\n",
      "  warnings.warn(\n",
      "/opt/conda/lib/python3.10/site-packages/torchvision/transforms/transforms.py:329: UserWarning: Argument 'interpolation' of type int is deprecated since 0.13 and will be removed in 0.15. Please use InterpolationMode enum.\n",
      "  warnings.warn(\n",
      "/opt/conda/lib/python3.10/site-packages/torchvision/transforms/transforms.py:329: UserWarning: Argument 'interpolation' of type int is deprecated since 0.13 and will be removed in 0.15. Please use InterpolationMode enum.\n",
      "  warnings.warn(\n",
      "/opt/conda/lib/python3.10/site-packages/torchvision/transforms/transforms.py:329: UserWarning: Argument 'interpolation' of type int is deprecated since 0.13 and will be removed in 0.15. Please use InterpolationMode enum.\n",
      "  warnings.warn(\n",
      "/opt/conda/lib/python3.10/site-packages/torchvision/transforms/transforms.py:329: UserWarning: Argument 'interpolation' of type int is deprecated since 0.13 and will be removed in 0.15. Please use InterpolationMode enum.\n",
      "  warnings.warn(\n",
      "/opt/conda/lib/python3.10/site-packages/torchvision/transforms/transforms.py:329: UserWarning: Argument 'interpolation' of type int is deprecated since 0.13 and will be removed in 0.15. Please use InterpolationMode enum.\n",
      "  warnings.warn(\n",
      "/opt/conda/lib/python3.10/site-packages/torchvision/transforms/transforms.py:329: UserWarning: Argument 'interpolation' of type int is deprecated since 0.13 and will be removed in 0.15. Please use InterpolationMode enum.\n",
      "  warnings.warn(\n",
      "  8%|▊         | 201/2676 [00:43<06:47,  6.08it/s]"
     ]
    },
    {
     "name": "stdout",
     "output_type": "stream",
     "text": [
      "{'FullBody': {'All': 149.34170532226562, 'UpperStretching': 152.1468505859375, 'Talking': 114.59046936035156, 'Reacting': 125.60941314697266, 'Patting': 132.6208953857422, 'Walking': 143.79925537109375, 'LowerStretching': 158.7571563720703, 'Gesticuling': 122.4810791015625, 'Greeting': 98.0261459350586, 'Gaming': 146.30210876464844}, 'UpperBody': {'All': 110.11471557617188, 'UpperStretching': 118.5779800415039, 'Talking': 103.43595123291016, 'Reacting': 90.92233276367188, 'Patting': 100.10587310791016, 'Walking': 101.97915649414062, 'LowerStretching': 97.70677185058594, 'Gesticuling': 93.81127166748047, 'Greeting': 86.31694793701172, 'Gaming': 96.30802154541016}, 'LowerBody': {'All': 188.56869506835938, 'UpperStretching': 185.71568298339844, 'Talking': 125.74500274658203, 'Reacting': 160.2965087890625, 'Patting': 165.13589477539062, 'Walking': 185.61935424804688, 'LowerStretching': 219.8075408935547, 'Gesticuling': 151.15087890625, 'Greeting': 109.73534393310547, 'Gaming': 196.2962188720703}}\n"
     ]
    },
    {
     "name": "stderr",
     "output_type": "stream",
     "text": [
      " 15%|█▍        | 401/2676 [01:17<06:12,  6.11it/s]"
     ]
    },
    {
     "name": "stdout",
     "output_type": "stream",
     "text": [
      "{'FullBody': {'All': 149.8065185546875, 'UpperStretching': 152.75775146484375, 'Talking': 110.6195068359375, 'Reacting': 131.8581085205078, 'Patting': 128.95639038085938, 'Walking': 143.7160186767578, 'LowerStretching': 159.56214904785156, 'Gesticuling': 118.8616943359375, 'Greeting': 100.63401794433594, 'Gaming': 145.08013916015625}, 'UpperBody': {'All': 110.22057342529297, 'UpperStretching': 118.68317413330078, 'Talking': 98.89466094970703, 'Reacting': 92.8178482055664, 'Patting': 97.73950958251953, 'Walking': 102.20856475830078, 'LowerStretching': 98.09280395507812, 'Gesticuling': 90.90836334228516, 'Greeting': 87.9468002319336, 'Gaming': 96.47061920166016}, 'LowerBody': {'All': 189.3924560546875, 'UpperStretching': 186.83233642578125, 'Talking': 122.34434509277344, 'Reacting': 170.8983612060547, 'Patting': 160.1732635498047, 'Walking': 185.22348022460938, 'LowerStretching': 221.03150939941406, 'Gesticuling': 146.8150177001953, 'Greeting': 113.32122039794922, 'Gaming': 193.68966674804688}}\n"
     ]
    },
    {
     "name": "stderr",
     "output_type": "stream",
     "text": [
      " 22%|██▏       | 601/2676 [01:51<05:47,  5.97it/s]"
     ]
    },
    {
     "name": "stdout",
     "output_type": "stream",
     "text": [
      "{'FullBody': {'All': 150.05062866210938, 'UpperStretching': 152.9945068359375, 'Talking': 111.0918960571289, 'Reacting': 132.15782165527344, 'Patting': 128.5260772705078, 'Walking': 143.76522827148438, 'LowerStretching': 160.08486938476562, 'Gesticuling': 117.7989273071289, 'Greeting': 100.34781646728516, 'Gaming': 146.3156280517578}, 'UpperBody': {'All': 110.01873779296875, 'UpperStretching': 118.53484344482422, 'Talking': 98.1274642944336, 'Reacting': 93.34689331054688, 'Patting': 96.25161743164062, 'Walking': 101.71194458007812, 'LowerStretching': 98.01859283447266, 'Gesticuling': 89.1669692993164, 'Greeting': 86.29750061035156, 'Gaming': 96.90663146972656}, 'LowerBody': {'All': 190.08251953125, 'UpperStretching': 187.4541778564453, 'Talking': 124.05633544921875, 'Reacting': 170.96873474121094, 'Patting': 160.800537109375, 'Walking': 185.8185577392578, 'LowerStretching': 222.151123046875, 'Gesticuling': 146.43089294433594, 'Greeting': 114.39812469482422, 'Gaming': 195.72462463378906}}\n"
     ]
    },
    {
     "name": "stderr",
     "output_type": "stream",
     "text": [
      " 30%|██▉       | 801/2676 [02:26<05:22,  5.82it/s]"
     ]
    },
    {
     "name": "stdout",
     "output_type": "stream",
     "text": [
      "{'FullBody': {'All': 150.0902099609375, 'UpperStretching': 153.01255798339844, 'Talking': 111.00333404541016, 'Reacting': 130.41920471191406, 'Patting': 129.82733154296875, 'Walking': 143.19866943359375, 'LowerStretching': 160.53187561035156, 'Gesticuling': 119.36555480957031, 'Greeting': 101.7213363647461, 'Gaming': 147.116943359375}, 'UpperBody': {'All': 110.0782699584961, 'UpperStretching': 118.52699279785156, 'Talking': 97.26262664794922, 'Reacting': 93.1812973022461, 'Patting': 98.28785705566406, 'Walking': 101.23347473144531, 'LowerStretching': 98.35140991210938, 'Gesticuling': 89.53054809570312, 'Greeting': 86.23736572265625, 'Gaming': 97.77973175048828}, 'LowerBody': {'All': 190.10214233398438, 'UpperStretching': 187.49815368652344, 'Talking': 124.7440414428711, 'Reacting': 167.65713500976562, 'Patting': 161.36680603027344, 'Walking': 185.16387939453125, 'LowerStretching': 222.7123565673828, 'Gesticuling': 149.20057678222656, 'Greeting': 117.20530700683594, 'Gaming': 196.45416259765625}}\n"
     ]
    },
    {
     "name": "stderr",
     "output_type": "stream",
     "text": [
      " 37%|███▋      | 1001/2676 [03:01<05:07,  5.44it/s]"
     ]
    },
    {
     "name": "stdout",
     "output_type": "stream",
     "text": [
      "{'FullBody': {'All': 150.05921936035156, 'UpperStretching': 152.85659790039062, 'Talking': 111.13810729980469, 'Reacting': 131.10018920898438, 'Patting': 130.74989318847656, 'Walking': 142.9500732421875, 'LowerStretching': 161.0990753173828, 'Gesticuling': 119.36510467529297, 'Greeting': 101.61323547363281, 'Gaming': 146.40052795410156}, 'UpperBody': {'All': 110.11327362060547, 'UpperStretching': 118.60980224609375, 'Talking': 96.83556365966797, 'Reacting': 93.33027648925781, 'Patting': 97.8257827758789, 'Walking': 101.00393676757812, 'LowerStretching': 98.49479675292969, 'Gesticuling': 89.45101165771484, 'Greeting': 86.98676300048828, 'Gaming': 97.75494384765625}, 'LowerBody': {'All': 190.00515747070312, 'UpperStretching': 187.10340881347656, 'Talking': 125.4406509399414, 'Reacting': 168.8701171875, 'Patting': 163.67401123046875, 'Walking': 184.89614868164062, 'LowerStretching': 223.70333862304688, 'Gesticuling': 149.27920532226562, 'Greeting': 116.23971557617188, 'Gaming': 195.04612731933594}}\n"
     ]
    },
    {
     "name": "stderr",
     "output_type": "stream",
     "text": [
      " 45%|████▍     | 1201/2676 [03:36<04:09,  5.92it/s]"
     ]
    },
    {
     "name": "stdout",
     "output_type": "stream",
     "text": [
      "{'FullBody': {'All': 150.30845642089844, 'UpperStretching': 153.27755737304688, 'Talking': 111.19585418701172, 'Reacting': 131.16180419921875, 'Patting': 130.9983367919922, 'Walking': 143.43882751464844, 'LowerStretching': 160.60350036621094, 'Gesticuling': 119.29293060302734, 'Greeting': 101.81304931640625, 'Gaming': 146.03541564941406}, 'UpperBody': {'All': 110.27010345458984, 'UpperStretching': 118.7669677734375, 'Talking': 96.89747619628906, 'Reacting': 93.8963851928711, 'Patting': 97.70684814453125, 'Walking': 101.47898864746094, 'LowerStretching': 98.35079193115234, 'Gesticuling': 89.34862518310547, 'Greeting': 86.9651107788086, 'Gaming': 97.79600524902344}, 'LowerBody': {'All': 190.34681701660156, 'UpperStretching': 187.7881317138672, 'Talking': 125.49425506591797, 'Reacting': 168.42721557617188, 'Patting': 164.28982543945312, 'Walking': 185.39865112304688, 'LowerStretching': 222.85617065429688, 'Gesticuling': 149.23721313476562, 'Greeting': 116.66098022460938, 'Gaming': 194.2748260498047}}\n"
     ]
    },
    {
     "name": "stderr",
     "output_type": "stream",
     "text": [
      " 52%|█████▏    | 1401/2676 [04:11<03:51,  5.52it/s]"
     ]
    },
    {
     "name": "stdout",
     "output_type": "stream",
     "text": [
      "{'FullBody': {'All': 150.072509765625, 'UpperStretching': 153.06797790527344, 'Talking': 110.67489624023438, 'Reacting': 130.2908172607422, 'Patting': 130.3112030029297, 'Walking': 143.41140747070312, 'LowerStretching': 160.33013916015625, 'Gesticuling': 119.0300521850586, 'Greeting': 101.58158874511719, 'Gaming': 145.81924438476562}, 'UpperBody': {'All': 110.12207794189453, 'UpperStretching': 118.5665054321289, 'Talking': 96.7874984741211, 'Reacting': 93.532470703125, 'Patting': 97.87531280517578, 'Walking': 101.5855941772461, 'LowerStretching': 98.1878662109375, 'Gesticuling': 89.60799407958984, 'Greeting': 86.58885192871094, 'Gaming': 97.5590591430664}, 'LowerBody': {'All': 190.02294921875, 'UpperStretching': 187.56944274902344, 'Talking': 124.56228637695312, 'Reacting': 167.04916381835938, 'Patting': 162.7470703125, 'Walking': 185.23719787597656, 'LowerStretching': 222.47239685058594, 'Gesticuling': 148.45211791992188, 'Greeting': 116.57430267333984, 'Gaming': 194.07945251464844}}\n"
     ]
    },
    {
     "name": "stderr",
     "output_type": "stream",
     "text": [
      " 60%|█████▉    | 1601/2676 [04:46<03:14,  5.53it/s]"
     ]
    },
    {
     "name": "stdout",
     "output_type": "stream",
     "text": [
      "{'FullBody': {'All': 150.12506103515625, 'UpperStretching': 153.24810791015625, 'Talking': 109.91974639892578, 'Reacting': 130.50579833984375, 'Patting': 131.07334899902344, 'Walking': 143.23399353027344, 'LowerStretching': 159.95883178710938, 'Gesticuling': 119.02649688720703, 'Greeting': 101.68588256835938, 'Gaming': 145.82872009277344}, 'UpperBody': {'All': 110.12716674804688, 'UpperStretching': 118.66846466064453, 'Talking': 96.20934295654297, 'Reacting': 93.7192153930664, 'Patting': 98.08169555664062, 'Walking': 101.41200256347656, 'LowerStretching': 97.8980941772461, 'Gesticuling': 89.82228088378906, 'Greeting': 86.49320220947266, 'Gaming': 97.7796859741211}, 'LowerBody': {'All': 190.1229705810547, 'UpperStretching': 187.82777404785156, 'Talking': 123.63015747070312, 'Reacting': 167.2924041748047, 'Patting': 164.0650177001953, 'Walking': 185.0559844970703, 'LowerStretching': 222.01956176757812, 'Gesticuling': 148.230712890625, 'Greeting': 116.8785629272461, 'Gaming': 193.87774658203125}}\n"
     ]
    },
    {
     "name": "stderr",
     "output_type": "stream",
     "text": [
      " 67%|██████▋   | 1801/2676 [05:21<02:35,  5.63it/s]"
     ]
    },
    {
     "name": "stdout",
     "output_type": "stream",
     "text": [
      "{'FullBody': {'All': 150.04351806640625, 'UpperStretching': 153.11875915527344, 'Talking': 109.74990844726562, 'Reacting': 130.66748046875, 'Patting': 130.89723205566406, 'Walking': 143.3727264404297, 'LowerStretching': 159.8268280029297, 'Gesticuling': 118.50902557373047, 'Greeting': 101.88738250732422, 'Gaming': 145.62841796875}, 'UpperBody': {'All': 110.08180236816406, 'UpperStretching': 118.6015625, 'Talking': 95.9795913696289, 'Reacting': 93.66975402832031, 'Patting': 98.01097869873047, 'Walking': 101.48545837402344, 'LowerStretching': 97.84902954101562, 'Gesticuling': 89.48722839355469, 'Greeting': 86.62506866455078, 'Gaming': 97.58739471435547}, 'LowerBody': {'All': 190.0052490234375, 'UpperStretching': 187.635986328125, 'Talking': 123.52023315429688, 'Reacting': 167.6652069091797, 'Patting': 163.7834930419922, 'Walking': 185.260009765625, 'LowerStretching': 221.8046112060547, 'Gesticuling': 147.53082275390625, 'Greeting': 117.14968872070312, 'Gaming': 193.66941833496094}}\n"
     ]
    },
    {
     "name": "stderr",
     "output_type": "stream",
     "text": [
      " 75%|███████▍  | 2000/2676 [05:56<02:03,  5.46it/s]"
     ]
    },
    {
     "name": "stdout",
     "output_type": "stream",
     "text": [
      "{'FullBody': {'All': 150.23184204101562, 'UpperStretching': 153.4302978515625, 'Talking': 109.33775329589844, 'Reacting': 129.93736267089844, 'Patting': 130.40176391601562, 'Walking': 143.51699829101562, 'LowerStretching': 159.87985229492188, 'Gesticuling': 119.00472259521484, 'Greeting': 101.8554458618164, 'Gaming': 146.0286865234375}, 'UpperBody': {'All': 110.16314697265625, 'UpperStretching': 118.76065063476562, 'Talking': 95.61920166015625, 'Reacting': 93.21735382080078, 'Patting': 97.65248107910156, 'Walking': 101.60179901123047, 'LowerStretching': 97.75829315185547, 'Gesticuling': 89.40226745605469, 'Greeting': 86.66889953613281, 'Gaming': 98.17579650878906}, 'LowerBody': {'All': 190.30050659179688, 'UpperStretching': 188.0999755859375, 'Talking': 123.05631256103516, 'Reacting': 166.65736389160156, 'Patting': 163.1510467529297, 'Walking': 185.4321746826172, 'LowerStretching': 222.00140380859375, 'Gesticuling': 148.607177734375, 'Greeting': 117.04199981689453, 'Gaming': 193.88157653808594}}\n"
     ]
    },
    {
     "name": "stderr",
     "output_type": "stream",
     "text": [
      " 82%|████████▏ | 2201/2676 [06:31<01:24,  5.63it/s]"
     ]
    },
    {
     "name": "stdout",
     "output_type": "stream",
     "text": [
      "{'FullBody': {'All': 150.27783203125, 'UpperStretching': 153.54139709472656, 'Talking': 109.88020324707031, 'Reacting': 130.00245666503906, 'Patting': 130.57611083984375, 'Walking': 143.6578369140625, 'LowerStretching': 159.89222717285156, 'Gesticuling': 118.69747161865234, 'Greeting': 101.84159088134766, 'Gaming': 146.0443115234375}, 'UpperBody': {'All': 110.1651382446289, 'UpperStretching': 118.79106903076172, 'Talking': 95.84638214111328, 'Reacting': 93.26382446289062, 'Patting': 97.58084106445312, 'Walking': 101.74925994873047, 'LowerStretching': 97.75541687011719, 'Gesticuling': 89.0896224975586, 'Greeting': 86.77528381347656, 'Gaming': 98.29490661621094}, 'LowerBody': {'All': 190.3905029296875, 'UpperStretching': 188.29173278808594, 'Talking': 123.9140396118164, 'Reacting': 166.7410888671875, 'Patting': 163.57138061523438, 'Walking': 185.56637573242188, 'LowerStretching': 222.029052734375, 'Gesticuling': 148.3052978515625, 'Greeting': 116.90789031982422, 'Gaming': 193.79371643066406}}\n"
     ]
    },
    {
     "name": "stderr",
     "output_type": "stream",
     "text": [
      " 90%|████████▉ | 2401/2676 [07:06<00:50,  5.48it/s]"
     ]
    },
    {
     "name": "stdout",
     "output_type": "stream",
     "text": [
      "{'FullBody': {'All': 150.33750915527344, 'UpperStretching': 153.60250854492188, 'Talking': 109.70616149902344, 'Reacting': 130.26255798339844, 'Patting': 130.64688110351562, 'Walking': 143.66795349121094, 'LowerStretching': 159.92572021484375, 'Gesticuling': 118.40693664550781, 'Greeting': 101.83299255371094, 'Gaming': 146.4494171142578}, 'UpperBody': {'All': 110.14656066894531, 'UpperStretching': 118.76072692871094, 'Talking': 95.89131164550781, 'Reacting': 93.25381469726562, 'Patting': 97.45082092285156, 'Walking': 101.77609252929688, 'LowerStretching': 97.74302673339844, 'Gesticuling': 88.84211730957031, 'Greeting': 86.82853698730469, 'Gaming': 98.13926696777344}, 'LowerBody': {'All': 190.52845764160156, 'UpperStretching': 188.44430541992188, 'Talking': 123.5210189819336, 'Reacting': 167.2712860107422, 'Patting': 163.84292602539062, 'Walking': 185.55982971191406, 'LowerStretching': 222.10841369628906, 'Gesticuling': 147.9717559814453, 'Greeting': 116.83747100830078, 'Gaming': 194.7595672607422}}\n"
     ]
    },
    {
     "name": "stderr",
     "output_type": "stream",
     "text": [
      " 97%|█████████▋| 2601/2676 [07:41<00:15,  4.86it/s]"
     ]
    },
    {
     "name": "stdout",
     "output_type": "stream",
     "text": [
      "{'FullBody': {'All': 150.48402404785156, 'UpperStretching': 153.8112030029297, 'Talking': 110.13109588623047, 'Reacting': 130.56834411621094, 'Patting': 130.7261962890625, 'Walking': 143.6910858154297, 'LowerStretching': 159.88999938964844, 'Gesticuling': 118.40757751464844, 'Greeting': 101.24372863769531, 'Gaming': 147.25677490234375}, 'UpperBody': {'All': 110.19854736328125, 'UpperStretching': 118.80841827392578, 'Talking': 95.90345764160156, 'Reacting': 93.27912902832031, 'Patting': 97.72408294677734, 'Walking': 101.81482696533203, 'LowerStretching': 97.73442077636719, 'Gesticuling': 88.87084197998047, 'Greeting': 86.46430969238281, 'Gaming': 99.00410461425781}, 'LowerBody': {'All': 190.7694854736328, 'UpperStretching': 188.81402587890625, 'Talking': 124.35875701904297, 'Reacting': 167.85755920410156, 'Patting': 163.7283172607422, 'Walking': 185.5673828125, 'LowerStretching': 222.0456085205078, 'Gesticuling': 147.94430541992188, 'Greeting': 116.02313232421875, 'Gaming': 195.5094451904297}}\n"
     ]
    },
    {
     "name": "stderr",
     "output_type": "stream",
     "text": [
      "100%|██████████| 2676/2676 [07:54<00:00,  5.65it/s]\n",
      "\u001b[94m02:06:51 \u001b[92m[INFO]\u001b[94m Main\u001b[0m: Saving evaluation results...\n",
      "\u001b[94m02:06:51 \u001b[92m[INFO]\u001b[94m Main\u001b[0m: Done.\n",
      "\u001b[94m02:06:51 \u001b[92m[INFO]\u001b[94m Main\u001b[0m: Starting demo...\n",
      "  0%|          | 0/2676 [00:00<?, ?it/s]/opt/conda/lib/python3.10/site-packages/torchvision/transforms/transforms.py:329: UserWarning: Argument 'interpolation' of type int is deprecated since 0.13 and will be removed in 0.15. Please use InterpolationMode enum.\n",
      "  warnings.warn(\n",
      "/opt/conda/lib/python3.10/site-packages/torchvision/transforms/transforms.py:329: UserWarning: Argument 'interpolation' of type int is deprecated since 0.13 and will be removed in 0.15. Please use InterpolationMode enum.\n",
      "  warnings.warn(\n",
      "/opt/conda/lib/python3.10/site-packages/torchvision/transforms/transforms.py:329: UserWarning: Argument 'interpolation' of type int is deprecated since 0.13 and will be removed in 0.15. Please use InterpolationMode enum.\n",
      "  warnings.warn(\n",
      "/opt/conda/lib/python3.10/site-packages/torchvision/transforms/transforms.py:329: UserWarning: Argument 'interpolation' of type int is deprecated since 0.13 and will be removed in 0.15. Please use InterpolationMode enum.\n",
      "  warnings.warn(\n",
      "/opt/conda/lib/python3.10/site-packages/torchvision/transforms/transforms.py:329: UserWarning: Argument 'interpolation' of type int is deprecated since 0.13 and will be removed in 0.15. Please use InterpolationMode enum.\n",
      "  warnings.warn(\n",
      "/opt/conda/lib/python3.10/site-packages/torchvision/transforms/transforms.py:329: UserWarning: Argument 'interpolation' of type int is deprecated since 0.13 and will be removed in 0.15. Please use InterpolationMode enum.\n",
      "  warnings.warn(\n",
      "/opt/conda/lib/python3.10/site-packages/torchvision/transforms/transforms.py:329: UserWarning: Argument 'interpolation' of type int is deprecated since 0.13 and will be removed in 0.15. Please use InterpolationMode enum.\n",
      "  warnings.warn(\n",
      "/opt/conda/lib/python3.10/site-packages/torchvision/transforms/transforms.py:329: UserWarning: Argument 'interpolation' of type int is deprecated since 0.13 and will be removed in 0.15. Please use InterpolationMode enum.\n",
      "  warnings.warn(\n",
      "/opt/conda/lib/python3.10/site-packages/torchvision/transforms/transforms.py:329: UserWarning: Argument 'interpolation' of type int is deprecated since 0.13 and will be removed in 0.15. Please use InterpolationMode enum.\n",
      "  warnings.warn(\n",
      "/opt/conda/lib/python3.10/site-packages/torchvision/transforms/transforms.py:329: UserWarning: Argument 'interpolation' of type int is deprecated since 0.13 and will be removed in 0.15. Please use InterpolationMode enum.\n",
      "  warnings.warn(\n",
      "/opt/conda/lib/python3.10/site-packages/torchvision/transforms/transforms.py:329: UserWarning: Argument 'interpolation' of type int is deprecated since 0.13 and will be removed in 0.15. Please use InterpolationMode enum.\n",
      "  warnings.warn(\n",
      "/opt/conda/lib/python3.10/site-packages/torchvision/transforms/transforms.py:329: UserWarning: Argument 'interpolation' of type int is deprecated since 0.13 and will be removed in 0.15. Please use InterpolationMode enum.\n",
      "  warnings.warn(\n",
      "/opt/conda/lib/python3.10/site-packages/torchvision/transforms/transforms.py:329: UserWarning: Argument 'interpolation' of type int is deprecated since 0.13 and will be removed in 0.15. Please use InterpolationMode enum.\n",
      "  warnings.warn(\n",
      "/opt/conda/lib/python3.10/site-packages/torchvision/transforms/transforms.py:329: UserWarning: Argument 'interpolation' of type int is deprecated since 0.13 and will be removed in 0.15. Please use InterpolationMode enum.\n",
      "  warnings.warn(\n",
      "/opt/conda/lib/python3.10/site-packages/torchvision/transforms/transforms.py:329: UserWarning: Argument 'interpolation' of type int is deprecated since 0.13 and will be removed in 0.15. Please use InterpolationMode enum.\n",
      "  warnings.warn(\n",
      "/opt/conda/lib/python3.10/site-packages/torchvision/transforms/transforms.py:329: UserWarning: Argument 'interpolation' of type int is deprecated since 0.13 and will be removed in 0.15. Please use InterpolationMode enum.\n",
      "  warnings.warn(\n",
      "/opt/conda/lib/python3.10/site-packages/torchvision/transforms/transforms.py:329: UserWarning: Argument 'interpolation' of type int is deprecated since 0.13 and will be removed in 0.15. Please use InterpolationMode enum.\n",
      "  warnings.warn(\n",
      "/opt/conda/lib/python3.10/site-packages/torchvision/transforms/transforms.py:329: UserWarning: Argument 'interpolation' of type int is deprecated since 0.13 and will be removed in 0.15. Please use InterpolationMode enum.\n",
      "  warnings.warn(\n",
      "/opt/conda/lib/python3.10/site-packages/torchvision/transforms/transforms.py:329: UserWarning: Argument 'interpolation' of type int is deprecated since 0.13 and will be removed in 0.15. Please use InterpolationMode enum.\n",
      "  warnings.warn(\n",
      "/opt/conda/lib/python3.10/site-packages/torchvision/transforms/transforms.py:329: UserWarning: Argument 'interpolation' of type int is deprecated since 0.13 and will be removed in 0.15. Please use InterpolationMode enum.\n",
      "  warnings.warn(\n",
      "/opt/conda/lib/python3.10/site-packages/torchvision/transforms/transforms.py:329: UserWarning: Argument 'interpolation' of type int is deprecated since 0.13 and will be removed in 0.15. Please use InterpolationMode enum.\n",
      "  warnings.warn(\n",
      "/opt/conda/lib/python3.10/site-packages/torchvision/transforms/transforms.py:329: UserWarning: Argument 'interpolation' of type int is deprecated since 0.13 and will be removed in 0.15. Please use InterpolationMode enum.\n",
      "  warnings.warn(\n",
      "/opt/conda/lib/python3.10/site-packages/torchvision/transforms/transforms.py:329: UserWarning: Argument 'interpolation' of type int is deprecated since 0.13 and will be removed in 0.15. Please use InterpolationMode enum.\n",
      "  warnings.warn(\n",
      "/opt/conda/lib/python3.10/site-packages/torchvision/transforms/transforms.py:329: UserWarning: Argument 'interpolation' of type int is deprecated since 0.13 and will be removed in 0.15. Please use InterpolationMode enum.\n",
      "  warnings.warn(\n",
      "  8%|▊         | 201/2676 [00:40<06:56,  5.95it/s]"
     ]
    },
    {
     "name": "stdout",
     "output_type": "stream",
     "text": [
      "{'FullBody': {'All': 112.99885559082031, 'Reacting': 107.88247680664062, 'LowerStretching': 114.59559631347656, 'Greeting': 72.36909484863281, 'Walking': 113.97317504882812, 'UpperStretching': 115.1629638671875, 'Gesticuling': 89.07105255126953, 'Gaming': 117.31439208984375, 'Talking': 78.6483383178711, 'Patting': 107.54850006103516}, 'UpperBody': {'All': 78.78766632080078, 'Reacting': 85.29460144042969, 'LowerStretching': 63.73137664794922, 'Greeting': 58.66552734375, 'Walking': 72.29000854492188, 'UpperStretching': 85.48770904541016, 'Gesticuling': 67.67289733886719, 'Gaming': 73.80838775634766, 'Talking': 67.25100708007812, 'Patting': 77.48859405517578}, 'LowerBody': {'All': 147.21005249023438, 'Reacting': 130.4703826904297, 'LowerStretching': 165.4597930908203, 'Greeting': 86.07267761230469, 'Walking': 155.65631103515625, 'UpperStretching': 144.83822631835938, 'Gesticuling': 110.46922302246094, 'Gaming': 160.82040405273438, 'Talking': 90.0456771850586, 'Patting': 137.60841369628906}}\n"
     ]
    },
    {
     "name": "stderr",
     "output_type": "stream",
     "text": [
      " 15%|█▍        | 401/2676 [01:15<06:19,  6.00it/s]"
     ]
    },
    {
     "name": "stdout",
     "output_type": "stream",
     "text": [
      "{'FullBody': {'All': 112.70697021484375, 'Reacting': 104.7329330444336, 'LowerStretching': 114.326171875, 'Greeting': 72.27526092529297, 'Walking': 112.3431167602539, 'UpperStretching': 115.40380096435547, 'Gesticuling': 87.82710266113281, 'Gaming': 115.01179504394531, 'Talking': 80.46286010742188, 'Patting': 102.32683563232422}, 'UpperBody': {'All': 78.67798614501953, 'Reacting': 81.548095703125, 'LowerStretching': 64.11508178710938, 'Greeting': 57.395572662353516, 'Walking': 72.34881591796875, 'UpperStretching': 85.50204467773438, 'Gesticuling': 66.79759979248047, 'Gaming': 72.44914245605469, 'Talking': 67.52820587158203, 'Patting': 73.52056884765625}, 'LowerBody': {'All': 146.73594665527344, 'Reacting': 127.91777038574219, 'LowerStretching': 164.53726196289062, 'Greeting': 87.15496063232422, 'Walking': 152.33740234375, 'UpperStretching': 145.3055419921875, 'Gesticuling': 108.85660552978516, 'Gaming': 157.57444763183594, 'Talking': 93.39750671386719, 'Patting': 131.13311767578125}}\n"
     ]
    },
    {
     "name": "stderr",
     "output_type": "stream",
     "text": [
      " 22%|██▏       | 601/2676 [01:49<05:52,  5.89it/s]"
     ]
    },
    {
     "name": "stdout",
     "output_type": "stream",
     "text": [
      "{'FullBody': {'All': 113.06730651855469, 'Reacting': 103.92584228515625, 'LowerStretching': 113.69854736328125, 'Greeting': 71.94206237792969, 'Walking': 113.45064544677734, 'UpperStretching': 115.87886810302734, 'Gesticuling': 87.69322967529297, 'Gaming': 114.51911926269531, 'Talking': 81.9804916381836, 'Patting': 105.46312713623047}, 'UpperBody': {'All': 78.76404571533203, 'Reacting': 80.81678009033203, 'LowerStretching': 63.706295013427734, 'Greeting': 57.024051666259766, 'Walking': 73.39518737792969, 'UpperStretching': 85.58998107910156, 'Gesticuling': 66.9625244140625, 'Gaming': 72.03170776367188, 'Talking': 68.60665130615234, 'Patting': 74.2629623413086}, 'LowerBody': {'All': 147.3705596923828, 'Reacting': 127.034912109375, 'LowerStretching': 163.69081115722656, 'Greeting': 86.86009216308594, 'Walking': 153.506103515625, 'UpperStretching': 146.16773986816406, 'Gesticuling': 108.42391204833984, 'Gaming': 157.0065460205078, 'Talking': 95.35432434082031, 'Patting': 136.6632843017578}}\n"
     ]
    },
    {
     "name": "stderr",
     "output_type": "stream",
     "text": [
      " 30%|██▉       | 801/2676 [02:25<05:29,  5.69it/s]"
     ]
    },
    {
     "name": "stdout",
     "output_type": "stream",
     "text": [
      "{'FullBody': {'All': 113.03229522705078, 'Reacting': 103.2724380493164, 'LowerStretching': 113.79036712646484, 'Greeting': 72.6221923828125, 'Walking': 114.17102813720703, 'UpperStretching': 115.86529541015625, 'Gesticuling': 88.39923858642578, 'Gaming': 112.07402038574219, 'Talking': 81.07548522949219, 'Patting': 101.7635269165039}, 'UpperBody': {'All': 78.78186798095703, 'Reacting': 80.38563537597656, 'LowerStretching': 63.827980041503906, 'Greeting': 56.84281539916992, 'Walking': 73.17056274414062, 'UpperStretching': 85.78697967529297, 'Gesticuling': 67.64491271972656, 'Gaming': 71.00569152832031, 'Talking': 67.97774505615234, 'Patting': 71.81232452392578}, 'LowerBody': {'All': 147.28269958496094, 'Reacting': 126.15922546386719, 'LowerStretching': 163.75277709960938, 'Greeting': 88.40157318115234, 'Walking': 155.17149353027344, 'UpperStretching': 145.94358825683594, 'Gesticuling': 109.15357208251953, 'Gaming': 153.14234924316406, 'Talking': 94.1732177734375, 'Patting': 131.71473693847656}}\n"
     ]
    },
    {
     "name": "stderr",
     "output_type": "stream",
     "text": [
      " 37%|███▋      | 1001/2676 [03:00<04:36,  6.05it/s]"
     ]
    },
    {
     "name": "stdout",
     "output_type": "stream",
     "text": [
      "{'FullBody': {'All': 112.97167205810547, 'Reacting': 103.75017547607422, 'LowerStretching': 113.8284912109375, 'Greeting': 72.64112854003906, 'Walking': 114.0815658569336, 'UpperStretching': 115.65494537353516, 'Gesticuling': 88.4200668334961, 'Gaming': 112.6025619506836, 'Talking': 80.70120239257812, 'Patting': 103.14976501464844}, 'UpperBody': {'All': 78.71713256835938, 'Reacting': 80.92068481445312, 'LowerStretching': 63.70638656616211, 'Greeting': 57.422149658203125, 'Walking': 73.01728057861328, 'UpperStretching': 85.73086547851562, 'Gesticuling': 67.30828094482422, 'Gaming': 70.72682189941406, 'Talking': 68.02472686767578, 'Patting': 72.2977294921875}, 'LowerBody': {'All': 147.2261962890625, 'Reacting': 126.57968139648438, 'LowerStretching': 163.9506072998047, 'Greeting': 87.86009216308594, 'Walking': 155.1458282470703, 'UpperStretching': 145.5790252685547, 'Gesticuling': 109.53185272216797, 'Gaming': 154.47828674316406, 'Talking': 93.37767791748047, 'Patting': 134.00181579589844}}\n"
     ]
    },
    {
     "name": "stderr",
     "output_type": "stream",
     "text": [
      " 45%|████▍     | 1201/2676 [03:34<04:17,  5.72it/s]"
     ]
    },
    {
     "name": "stdout",
     "output_type": "stream",
     "text": [
      "{'FullBody': {'All': 112.91069030761719, 'Reacting': 102.88579559326172, 'LowerStretching': 113.80941009521484, 'Greeting': 72.93073272705078, 'Walking': 114.3095474243164, 'UpperStretching': 115.60295104980469, 'Gesticuling': 87.73330688476562, 'Gaming': 113.74983215332031, 'Talking': 80.9930419921875, 'Patting': 101.91387939453125}, 'UpperBody': {'All': 78.6281509399414, 'Reacting': 80.04527282714844, 'LowerStretching': 63.611907958984375, 'Greeting': 57.251434326171875, 'Walking': 73.29352569580078, 'UpperStretching': 85.67523956298828, 'Gesticuling': 67.17960357666016, 'Gaming': 71.09380340576172, 'Talking': 68.04358673095703, 'Patting': 72.0083999633789}, 'LowerBody': {'All': 147.19322204589844, 'Reacting': 125.726318359375, 'LowerStretching': 164.0069122314453, 'Greeting': 88.61004638671875, 'Walking': 155.3255615234375, 'UpperStretching': 145.53067016601562, 'Gesticuling': 108.2870101928711, 'Gaming': 156.40586853027344, 'Talking': 93.94248962402344, 'Patting': 131.8193359375}}\n"
     ]
    },
    {
     "name": "stderr",
     "output_type": "stream",
     "text": [
      " 52%|█████▏    | 1401/2676 [04:10<03:39,  5.81it/s]"
     ]
    },
    {
     "name": "stdout",
     "output_type": "stream",
     "text": [
      "{'FullBody': {'All': 112.75381469726562, 'Reacting': 102.62157440185547, 'LowerStretching': 113.93244934082031, 'Greeting': 71.88896942138672, 'Walking': 113.98199462890625, 'UpperStretching': 115.42504119873047, 'Gesticuling': 88.45077514648438, 'Gaming': 112.4781723022461, 'Talking': 80.37073516845703, 'Patting': 101.9815444946289}, 'UpperBody': {'All': 78.60655212402344, 'Reacting': 79.9748306274414, 'LowerStretching': 63.76277542114258, 'Greeting': 56.58139419555664, 'Walking': 73.16244506835938, 'UpperStretching': 85.64492797851562, 'Gesticuling': 67.0045394897461, 'Gaming': 70.29431915283203, 'Talking': 67.79369354248047, 'Patting': 72.49073791503906}, 'LowerBody': {'All': 146.9010772705078, 'Reacting': 125.26832580566406, 'LowerStretching': 164.1021270751953, 'Greeting': 87.1965560913086, 'Walking': 154.8015594482422, 'UpperStretching': 145.2051544189453, 'Gesticuling': 109.89701843261719, 'Gaming': 154.6620330810547, 'Talking': 92.94776916503906, 'Patting': 131.47235107421875}}\n"
     ]
    },
    {
     "name": "stderr",
     "output_type": "stream",
     "text": [
      " 60%|█████▉    | 1601/2676 [04:45<03:03,  5.84it/s]"
     ]
    },
    {
     "name": "stdout",
     "output_type": "stream",
     "text": [
      "{'FullBody': {'All': 112.70611572265625, 'Reacting': 102.41065216064453, 'LowerStretching': 113.7735595703125, 'Greeting': 72.21931457519531, 'Walking': 114.32781219482422, 'UpperStretching': 115.35755157470703, 'Gesticuling': 88.27869415283203, 'Gaming': 112.94622039794922, 'Talking': 80.48970031738281, 'Patting': 100.4943618774414}, 'UpperBody': {'All': 78.62339782714844, 'Reacting': 79.65324401855469, 'LowerStretching': 63.76847839355469, 'Greeting': 57.043121337890625, 'Walking': 73.31524658203125, 'UpperStretching': 85.6731948852539, 'Gesticuling': 66.6474838256836, 'Gaming': 70.58618927001953, 'Talking': 67.90816497802734, 'Patting': 71.79977416992188}, 'LowerBody': {'All': 146.788818359375, 'Reacting': 125.16805267333984, 'LowerStretching': 163.77862548828125, 'Greeting': 87.39551544189453, 'Walking': 155.34036254882812, 'UpperStretching': 145.04193115234375, 'Gesticuling': 109.90990447998047, 'Gaming': 155.30624389648438, 'Talking': 93.07123565673828, 'Patting': 129.18893432617188}}\n"
     ]
    },
    {
     "name": "stderr",
     "output_type": "stream",
     "text": [
      " 67%|██████▋   | 1801/2676 [05:20<02:38,  5.53it/s]"
     ]
    },
    {
     "name": "stdout",
     "output_type": "stream",
     "text": [
      "{'FullBody': {'All': 112.59862518310547, 'Reacting': 102.136962890625, 'LowerStretching': 113.97563171386719, 'Greeting': 72.58805847167969, 'Walking': 114.04910278320312, 'UpperStretching': 115.177490234375, 'Gesticuling': 88.30877685546875, 'Gaming': 113.7336196899414, 'Talking': 80.83782958984375, 'Patting': 99.88478088378906}, 'UpperBody': {'All': 78.58108520507812, 'Reacting': 79.34809112548828, 'LowerStretching': 63.959835052490234, 'Greeting': 57.098960876464844, 'Walking': 73.118896484375, 'UpperStretching': 85.58007049560547, 'Gesticuling': 66.70399475097656, 'Gaming': 71.23966979980469, 'Talking': 68.16775512695312, 'Patting': 70.99461364746094}, 'LowerBody': {'All': 146.61614990234375, 'Reacting': 124.92581939697266, 'LowerStretching': 163.9914093017578, 'Greeting': 88.0771484375, 'Walking': 154.97930908203125, 'UpperStretching': 144.77491760253906, 'Gesticuling': 109.91355895996094, 'Gaming': 156.22756958007812, 'Talking': 93.50790405273438, 'Patting': 128.7749481201172}}\n"
     ]
    },
    {
     "name": "stderr",
     "output_type": "stream",
     "text": [
      " 75%|███████▍  | 2000/2676 [05:55<02:02,  5.50it/s]"
     ]
    },
    {
     "name": "stdout",
     "output_type": "stream",
     "text": [
      "{'FullBody': {'All': 112.45148468017578, 'Reacting': 102.08002471923828, 'LowerStretching': 113.79974365234375, 'Greeting': 72.55577087402344, 'Walking': 113.61144256591797, 'UpperStretching': 115.15276336669922, 'Gesticuling': 88.34942626953125, 'Gaming': 113.48737335205078, 'Talking': 79.98814392089844, 'Patting': 99.23843383789062}, 'UpperBody': {'All': 78.50325012207031, 'Reacting': 79.27198791503906, 'LowerStretching': 63.90638732910156, 'Greeting': 57.175506591796875, 'Walking': 72.86610412597656, 'UpperStretching': 85.56535339355469, 'Gesticuling': 66.65472412109375, 'Gaming': 71.28519439697266, 'Talking': 67.57617950439453, 'Patting': 70.91194915771484}, 'LowerBody': {'All': 146.3997039794922, 'Reacting': 124.8880615234375, 'LowerStretching': 163.69309997558594, 'Greeting': 87.93601989746094, 'Walking': 154.35678100585938, 'UpperStretching': 144.7401885986328, 'Gesticuling': 110.04413604736328, 'Gaming': 155.68954467773438, 'Talking': 92.40009307861328, 'Patting': 127.56491088867188}}\n"
     ]
    },
    {
     "name": "stderr",
     "output_type": "stream",
     "text": [
      " 82%|████████▏ | 2201/2676 [06:30<01:23,  5.66it/s]"
     ]
    },
    {
     "name": "stdout",
     "output_type": "stream",
     "text": [
      "{'FullBody': {'All': 112.46925354003906, 'Reacting': 102.0200424194336, 'LowerStretching': 113.63502502441406, 'Greeting': 72.36311340332031, 'Walking': 113.8691177368164, 'UpperStretching': 115.16145324707031, 'Gesticuling': 88.00926208496094, 'Gaming': 113.84659576416016, 'Talking': 79.96253967285156, 'Patting': 99.82234954833984}, 'UpperBody': {'All': 78.5166015625, 'Reacting': 79.15447235107422, 'LowerStretching': 63.89164352416992, 'Greeting': 56.87841033935547, 'Walking': 73.05239868164062, 'UpperStretching': 85.50960540771484, 'Gesticuling': 66.56440734863281, 'Gaming': 71.50286102294922, 'Talking': 67.71360778808594, 'Patting': 71.4155502319336}, 'LowerBody': {'All': 146.42189025878906, 'Reacting': 124.88562774658203, 'LowerStretching': 163.37838745117188, 'Greeting': 87.84782409667969, 'Walking': 154.6858367919922, 'UpperStretching': 144.81329345703125, 'Gesticuling': 109.45410919189453, 'Gaming': 156.19032287597656, 'Talking': 92.21148681640625, 'Patting': 128.2291717529297}}\n"
     ]
    },
    {
     "name": "stderr",
     "output_type": "stream",
     "text": [
      " 90%|████████▉ | 2401/2676 [07:05<00:49,  5.55it/s]"
     ]
    },
    {
     "name": "stdout",
     "output_type": "stream",
     "text": [
      "{'FullBody': {'All': 112.49156188964844, 'Reacting': 102.41336059570312, 'LowerStretching': 113.44047546386719, 'Greeting': 72.2455062866211, 'Walking': 113.98033905029297, 'UpperStretching': 115.2217788696289, 'Gesticuling': 88.01759338378906, 'Gaming': 114.02799224853516, 'Talking': 79.60420989990234, 'Patting': 99.5273208618164}, 'UpperBody': {'All': 78.49864959716797, 'Reacting': 79.40668487548828, 'LowerStretching': 63.82227325439453, 'Greeting': 56.72404479980469, 'Walking': 73.10582733154297, 'UpperStretching': 85.46631622314453, 'Gesticuling': 66.5716552734375, 'Gaming': 71.63506317138672, 'Talking': 67.43892669677734, 'Patting': 70.62631225585938}, 'LowerBody': {'All': 146.48443603515625, 'Reacting': 125.4200210571289, 'LowerStretching': 163.0586700439453, 'Greeting': 87.7669677734375, 'Walking': 154.85482788085938, 'UpperStretching': 144.97726440429688, 'Gesticuling': 109.46353912353516, 'Gaming': 156.42092895507812, 'Talking': 91.76951599121094, 'Patting': 128.42832946777344}}\n"
     ]
    },
    {
     "name": "stderr",
     "output_type": "stream",
     "text": [
      " 97%|█████████▋| 2601/2676 [07:40<00:13,  5.58it/s]"
     ]
    },
    {
     "name": "stdout",
     "output_type": "stream",
     "text": [
      "{'FullBody': {'All': 112.56189727783203, 'Reacting': 102.28898620605469, 'LowerStretching': 113.42437744140625, 'Greeting': 72.3031005859375, 'Walking': 113.92337036132812, 'UpperStretching': 115.34661865234375, 'Gesticuling': 87.66026306152344, 'Gaming': 114.45478057861328, 'Talking': 79.72933197021484, 'Patting': 99.96273040771484}, 'UpperBody': {'All': 78.51687622070312, 'Reacting': 79.37157440185547, 'LowerStretching': 63.782562255859375, 'Greeting': 56.97536087036133, 'Walking': 72.95748138427734, 'UpperStretching': 85.53520202636719, 'Gesticuling': 66.50175476074219, 'Gaming': 71.90746307373047, 'Talking': 67.6026611328125, 'Patting': 70.67449951171875}, 'LowerBody': {'All': 146.60691833496094, 'Reacting': 125.2063980102539, 'LowerStretching': 163.06619262695312, 'Greeting': 87.63084411621094, 'Walking': 154.88926696777344, 'UpperStretching': 145.15805053710938, 'Gesticuling': 108.81878662109375, 'Gaming': 157.00210571289062, 'Talking': 91.85599517822266, 'Patting': 129.25094604492188}}\n"
     ]
    },
    {
     "name": "stderr",
     "output_type": "stream",
     "text": [
      "100%|██████████| 2676/2676 [07:52<00:00,  5.66it/s]\n",
      "\u001b[94m02:14:45 \u001b[92m[INFO]\u001b[94m Main\u001b[0m: Saving evaluation results...\n",
      "\u001b[94m02:14:45 \u001b[92m[INFO]\u001b[94m Main\u001b[0m: Done.\n",
      "\u001b[94m02:14:45 \u001b[92m[INFO]\u001b[94m Main\u001b[0m: Starting demo...\n",
      "  0%|          | 0/2676 [00:00<?, ?it/s]/opt/conda/lib/python3.10/site-packages/torchvision/transforms/transforms.py:329: UserWarning: Argument 'interpolation' of type int is deprecated since 0.13 and will be removed in 0.15. Please use InterpolationMode enum.\n",
      "  warnings.warn(\n",
      "/opt/conda/lib/python3.10/site-packages/torchvision/transforms/transforms.py:329: UserWarning: Argument 'interpolation' of type int is deprecated since 0.13 and will be removed in 0.15. Please use InterpolationMode enum.\n",
      "  warnings.warn(\n",
      "/opt/conda/lib/python3.10/site-packages/torchvision/transforms/transforms.py:329: UserWarning: Argument 'interpolation' of type int is deprecated since 0.13 and will be removed in 0.15. Please use InterpolationMode enum.\n",
      "  warnings.warn(\n",
      "/opt/conda/lib/python3.10/site-packages/torchvision/transforms/transforms.py:329: UserWarning: Argument 'interpolation' of type int is deprecated since 0.13 and will be removed in 0.15. Please use InterpolationMode enum.\n",
      "  warnings.warn(\n",
      "/opt/conda/lib/python3.10/site-packages/torchvision/transforms/transforms.py:329: UserWarning: Argument 'interpolation' of type int is deprecated since 0.13 and will be removed in 0.15. Please use InterpolationMode enum.\n",
      "  warnings.warn(\n",
      "/opt/conda/lib/python3.10/site-packages/torchvision/transforms/transforms.py:329: UserWarning: Argument 'interpolation' of type int is deprecated since 0.13 and will be removed in 0.15. Please use InterpolationMode enum.\n",
      "  warnings.warn(\n",
      "/opt/conda/lib/python3.10/site-packages/torchvision/transforms/transforms.py:329: UserWarning: Argument 'interpolation' of type int is deprecated since 0.13 and will be removed in 0.15. Please use InterpolationMode enum.\n",
      "  warnings.warn(\n",
      "/opt/conda/lib/python3.10/site-packages/torchvision/transforms/transforms.py:329: UserWarning: Argument 'interpolation' of type int is deprecated since 0.13 and will be removed in 0.15. Please use InterpolationMode enum.\n",
      "  warnings.warn(\n",
      "/opt/conda/lib/python3.10/site-packages/torchvision/transforms/transforms.py:329: UserWarning: Argument 'interpolation' of type int is deprecated since 0.13 and will be removed in 0.15. Please use InterpolationMode enum.\n",
      "  warnings.warn(\n",
      "/opt/conda/lib/python3.10/site-packages/torchvision/transforms/transforms.py:329: UserWarning: Argument 'interpolation' of type int is deprecated since 0.13 and will be removed in 0.15. Please use InterpolationMode enum.\n",
      "  warnings.warn(\n",
      "/opt/conda/lib/python3.10/site-packages/torchvision/transforms/transforms.py:329: UserWarning: Argument 'interpolation' of type int is deprecated since 0.13 and will be removed in 0.15. Please use InterpolationMode enum.\n",
      "  warnings.warn(\n",
      "/opt/conda/lib/python3.10/site-packages/torchvision/transforms/transforms.py:329: UserWarning: Argument 'interpolation' of type int is deprecated since 0.13 and will be removed in 0.15. Please use InterpolationMode enum.\n",
      "  warnings.warn(\n",
      "/opt/conda/lib/python3.10/site-packages/torchvision/transforms/transforms.py:329: UserWarning: Argument 'interpolation' of type int is deprecated since 0.13 and will be removed in 0.15. Please use InterpolationMode enum.\n",
      "  warnings.warn(\n",
      "/opt/conda/lib/python3.10/site-packages/torchvision/transforms/transforms.py:329: UserWarning: Argument 'interpolation' of type int is deprecated since 0.13 and will be removed in 0.15. Please use InterpolationMode enum.\n",
      "  warnings.warn(\n",
      "/opt/conda/lib/python3.10/site-packages/torchvision/transforms/transforms.py:329: UserWarning: Argument 'interpolation' of type int is deprecated since 0.13 and will be removed in 0.15. Please use InterpolationMode enum.\n",
      "  warnings.warn(\n",
      "/opt/conda/lib/python3.10/site-packages/torchvision/transforms/transforms.py:329: UserWarning: Argument 'interpolation' of type int is deprecated since 0.13 and will be removed in 0.15. Please use InterpolationMode enum.\n",
      "  warnings.warn(\n",
      "/opt/conda/lib/python3.10/site-packages/torchvision/transforms/transforms.py:329: UserWarning: Argument 'interpolation' of type int is deprecated since 0.13 and will be removed in 0.15. Please use InterpolationMode enum.\n",
      "  warnings.warn(\n",
      "/opt/conda/lib/python3.10/site-packages/torchvision/transforms/transforms.py:329: UserWarning: Argument 'interpolation' of type int is deprecated since 0.13 and will be removed in 0.15. Please use InterpolationMode enum.\n",
      "  warnings.warn(\n",
      "/opt/conda/lib/python3.10/site-packages/torchvision/transforms/transforms.py:329: UserWarning: Argument 'interpolation' of type int is deprecated since 0.13 and will be removed in 0.15. Please use InterpolationMode enum.\n",
      "  warnings.warn(\n",
      "/opt/conda/lib/python3.10/site-packages/torchvision/transforms/transforms.py:329: UserWarning: Argument 'interpolation' of type int is deprecated since 0.13 and will be removed in 0.15. Please use InterpolationMode enum.\n",
      "  warnings.warn(\n",
      "/opt/conda/lib/python3.10/site-packages/torchvision/transforms/transforms.py:329: UserWarning: Argument 'interpolation' of type int is deprecated since 0.13 and will be removed in 0.15. Please use InterpolationMode enum.\n",
      "  warnings.warn(\n",
      "/opt/conda/lib/python3.10/site-packages/torchvision/transforms/transforms.py:329: UserWarning: Argument 'interpolation' of type int is deprecated since 0.13 and will be removed in 0.15. Please use InterpolationMode enum.\n",
      "  warnings.warn(\n",
      "/opt/conda/lib/python3.10/site-packages/torchvision/transforms/transforms.py:329: UserWarning: Argument 'interpolation' of type int is deprecated since 0.13 and will be removed in 0.15. Please use InterpolationMode enum.\n",
      "  warnings.warn(\n",
      "/opt/conda/lib/python3.10/site-packages/torchvision/transforms/transforms.py:329: UserWarning: Argument 'interpolation' of type int is deprecated since 0.13 and will be removed in 0.15. Please use InterpolationMode enum.\n",
      "  warnings.warn(\n",
      "  8%|▊         | 201/2676 [00:40<06:47,  6.08it/s]"
     ]
    },
    {
     "name": "stdout",
     "output_type": "stream",
     "text": [
      "{'FullBody': {'All': 108.78488159179688, 'UpperStretching': 110.79498291015625, 'Talking': 88.2117919921875, 'LowerStretching': 110.3675765991211, 'Greeting': 87.9301986694336, 'Gesticuling': 85.76206970214844, 'Gaming': 115.34949493408203, 'Walking': 107.74846649169922, 'Reacting': 93.58421325683594, 'Patting': 109.28062438964844}, 'UpperBody': {'All': 85.88812255859375, 'UpperStretching': 92.17533874511719, 'Talking': 66.48309326171875, 'LowerStretching': 74.4653549194336, 'Greeting': 76.34464263916016, 'Gesticuling': 79.50062561035156, 'Gaming': 83.56075286865234, 'Walking': 78.02031707763672, 'Reacting': 81.68719482421875, 'Patting': 84.33173370361328}, 'LowerBody': {'All': 131.681640625, 'UpperStretching': 129.4146270751953, 'Talking': 109.94048309326172, 'LowerStretching': 146.269775390625, 'Greeting': 99.5157470703125, 'Gesticuling': 92.02352142333984, 'Gaming': 147.13824462890625, 'Walking': 137.4766082763672, 'Reacting': 105.48121643066406, 'Patting': 134.22952270507812}}\n"
     ]
    },
    {
     "name": "stderr",
     "output_type": "stream",
     "text": [
      " 15%|█▍        | 401/2676 [01:15<06:10,  6.14it/s]"
     ]
    },
    {
     "name": "stdout",
     "output_type": "stream",
     "text": [
      "{'FullBody': {'All': 108.95654296875, 'UpperStretching': 111.67660522460938, 'Talking': 85.89756774902344, 'LowerStretching': 109.6058349609375, 'Greeting': 87.62325286865234, 'Gesticuling': 82.3938217163086, 'Gaming': 113.00906372070312, 'Walking': 106.36952209472656, 'Reacting': 96.65113067626953, 'Patting': 107.46238708496094}, 'UpperBody': {'All': 86.221923828125, 'UpperStretching': 92.96253204345703, 'Talking': 65.86117553710938, 'LowerStretching': 74.30256652832031, 'Greeting': 78.33318328857422, 'Gesticuling': 76.52403259277344, 'Gaming': 82.9903335571289, 'Walking': 76.68738555908203, 'Reacting': 82.5777816772461, 'Patting': 81.79163360595703}, 'LowerBody': {'All': 131.69117736816406, 'UpperStretching': 130.3907012939453, 'Talking': 105.93395233154297, 'LowerStretching': 144.9091033935547, 'Greeting': 96.91331481933594, 'Gesticuling': 88.26362609863281, 'Gaming': 143.02780151367188, 'Walking': 136.05165100097656, 'Reacting': 110.7244873046875, 'Patting': 133.13314819335938}}\n"
     ]
    },
    {
     "name": "stderr",
     "output_type": "stream",
     "text": [
      " 22%|██▏       | 600/2676 [01:49<05:47,  5.98it/s]"
     ]
    },
    {
     "name": "stdout",
     "output_type": "stream",
     "text": [
      "{'FullBody': {'All': 108.71543884277344, 'UpperStretching': 111.16141510009766, 'Talking': 84.69788360595703, 'LowerStretching': 109.54376220703125, 'Greeting': 86.97588348388672, 'Gesticuling': 83.19373321533203, 'Gaming': 113.4364013671875, 'Walking': 106.85932922363281, 'Reacting': 97.91590118408203, 'Patting': 108.37248229980469}, 'UpperBody': {'All': 86.0569839477539, 'UpperStretching': 92.52503967285156, 'Talking': 65.79471588134766, 'LowerStretching': 74.29827117919922, 'Greeting': 76.35757446289062, 'Gesticuling': 77.60999298095703, 'Gaming': 83.43016052246094, 'Walking': 77.46659088134766, 'Reacting': 83.24156951904297, 'Patting': 83.51598358154297}, 'LowerBody': {'All': 131.37388610839844, 'UpperStretching': 129.79779052734375, 'Talking': 103.6010513305664, 'LowerStretching': 144.7892608642578, 'Greeting': 97.59419250488281, 'Gesticuling': 88.7774658203125, 'Gaming': 143.44264221191406, 'Walking': 136.2520751953125, 'Reacting': 112.59022521972656, 'Patting': 133.22897338867188}}\n"
     ]
    },
    {
     "name": "stderr",
     "output_type": "stream",
     "text": [
      " 30%|██▉       | 801/2676 [02:24<05:35,  5.60it/s]"
     ]
    },
    {
     "name": "stdout",
     "output_type": "stream",
     "text": [
      "{'FullBody': {'All': 109.15222930908203, 'UpperStretching': 111.58401489257812, 'Talking': 86.69706726074219, 'LowerStretching': 110.33072662353516, 'Greeting': 87.44435119628906, 'Gesticuling': 83.07853698730469, 'Gaming': 116.24285125732422, 'Walking': 106.63990783691406, 'Reacting': 99.1008071899414, 'Patting': 107.40235137939453}, 'UpperBody': {'All': 86.40545654296875, 'UpperStretching': 92.96426391601562, 'Talking': 67.27025604248047, 'LowerStretching': 74.58409118652344, 'Greeting': 77.45893096923828, 'Gesticuling': 77.68577575683594, 'Gaming': 84.44171905517578, 'Walking': 77.29710388183594, 'Reacting': 83.96427154541016, 'Patting': 82.9024429321289}, 'LowerBody': {'All': 131.8990020751953, 'UpperStretching': 130.20375061035156, 'Talking': 106.1238784790039, 'LowerStretching': 146.0773468017578, 'Greeting': 97.42977142333984, 'Gesticuling': 88.47128295898438, 'Gaming': 148.0439910888672, 'Walking': 135.9827117919922, 'Reacting': 114.23733520507812, 'Patting': 131.90228271484375}}\n"
     ]
    },
    {
     "name": "stderr",
     "output_type": "stream",
     "text": [
      " 37%|███▋      | 1001/2676 [02:59<04:42,  5.93it/s]"
     ]
    },
    {
     "name": "stdout",
     "output_type": "stream",
     "text": [
      "{'FullBody': {'All': 108.9527816772461, 'UpperStretching': 111.4055404663086, 'Talking': 86.30780029296875, 'LowerStretching': 110.08025360107422, 'Greeting': 86.59538269042969, 'Gesticuling': 83.36165618896484, 'Gaming': 116.81429290771484, 'Walking': 106.56425476074219, 'Reacting': 98.71515655517578, 'Patting': 105.64493560791016}, 'UpperBody': {'All': 86.27433013916016, 'UpperStretching': 92.81076049804688, 'Talking': 66.61123657226562, 'LowerStretching': 74.59658813476562, 'Greeting': 76.4769287109375, 'Gesticuling': 77.92550659179688, 'Gaming': 84.40269470214844, 'Walking': 77.17676544189453, 'Reacting': 83.97007751464844, 'Patting': 80.70366668701172}, 'LowerBody': {'All': 131.63124084472656, 'UpperStretching': 130.00033569335938, 'Talking': 106.00436401367188, 'LowerStretching': 145.56390380859375, 'Greeting': 96.71382904052734, 'Gesticuling': 88.79779815673828, 'Gaming': 149.22589111328125, 'Walking': 135.95176696777344, 'Reacting': 113.46024322509766, 'Patting': 130.58621215820312}}\n"
     ]
    },
    {
     "name": "stderr",
     "output_type": "stream",
     "text": [
      " 45%|████▍     | 1200/2676 [03:34<04:11,  5.86it/s]"
     ]
    },
    {
     "name": "stdout",
     "output_type": "stream",
     "text": [
      "{'FullBody': {'All': 109.07597351074219, 'UpperStretching': 111.55300903320312, 'Talking': 86.0513916015625, 'LowerStretching': 110.10757446289062, 'Greeting': 86.19487762451172, 'Gesticuling': 83.66810607910156, 'Gaming': 115.4472427368164, 'Walking': 107.01689910888672, 'Reacting': 97.87384033203125, 'Patting': 107.78590393066406}, 'UpperBody': {'All': 86.30963134765625, 'UpperStretching': 92.8385238647461, 'Talking': 66.50225067138672, 'LowerStretching': 74.60761260986328, 'Greeting': 75.88554382324219, 'Gesticuling': 78.72490692138672, 'Gaming': 83.48173522949219, 'Walking': 77.48414611816406, 'Reacting': 83.31524658203125, 'Patting': 81.76045989990234}, 'LowerBody': {'All': 131.8423309326172, 'UpperStretching': 130.2675018310547, 'Talking': 105.60054016113281, 'LowerStretching': 145.6075439453125, 'Greeting': 96.50421142578125, 'Gesticuling': 88.61132049560547, 'Gaming': 147.4127655029297, 'Walking': 136.54965209960938, 'Reacting': 112.43242645263672, 'Patting': 133.81137084960938}}\n"
     ]
    },
    {
     "name": "stderr",
     "output_type": "stream",
     "text": [
      " 52%|█████▏    | 1401/2676 [04:09<04:19,  4.92it/s]"
     ]
    },
    {
     "name": "stdout",
     "output_type": "stream",
     "text": [
      "{'FullBody': {'All': 109.12273406982422, 'UpperStretching': 111.4635238647461, 'Talking': 85.61393737792969, 'LowerStretching': 110.21978759765625, 'Greeting': 87.18382263183594, 'Gesticuling': 84.2961196899414, 'Gaming': 115.36697387695312, 'Walking': 107.21609497070312, 'Reacting': 97.86441040039062, 'Patting': 109.8306884765625}, 'UpperBody': {'All': 86.29630279541016, 'UpperStretching': 92.65211486816406, 'Talking': 65.91275024414062, 'LowerStretching': 74.65786743164062, 'Greeting': 76.61018371582031, 'Gesticuling': 78.87832641601562, 'Gaming': 83.09871673583984, 'Walking': 77.98806762695312, 'Reacting': 83.49834442138672, 'Patting': 82.35047149658203}, 'LowerBody': {'All': 131.94915771484375, 'UpperStretching': 130.27491760253906, 'Talking': 105.31511688232422, 'LowerStretching': 145.78170776367188, 'Greeting': 97.75746154785156, 'Gesticuling': 89.71391296386719, 'Gaming': 147.63523864746094, 'Walking': 136.4441375732422, 'Reacting': 112.2304916381836, 'Patting': 137.3109130859375}}\n"
     ]
    },
    {
     "name": "stderr",
     "output_type": "stream",
     "text": [
      " 60%|█████▉    | 1601/2676 [04:44<03:04,  5.83it/s]"
     ]
    },
    {
     "name": "stdout",
     "output_type": "stream",
     "text": [
      "{'FullBody': {'All': 109.1268539428711, 'UpperStretching': 111.44376373291016, 'Talking': 85.44791412353516, 'LowerStretching': 110.57794952392578, 'Greeting': 87.27197265625, 'Gesticuling': 84.5032730102539, 'Gaming': 115.67951202392578, 'Walking': 106.73603820800781, 'Reacting': 98.05130767822266, 'Patting': 109.90971374511719}, 'UpperBody': {'All': 86.28641510009766, 'UpperStretching': 92.64324188232422, 'Talking': 66.45344543457031, 'LowerStretching': 74.73314666748047, 'Greeting': 76.77283477783203, 'Gesticuling': 78.85430908203125, 'Gaming': 83.56986236572266, 'Walking': 77.67996215820312, 'Reacting': 84.10777282714844, 'Patting': 82.3731460571289}, 'LowerBody': {'All': 131.96730041503906, 'UpperStretching': 130.24429321289062, 'Talking': 104.44237518310547, 'LowerStretching': 146.42276000976562, 'Greeting': 97.7710952758789, 'Gesticuling': 90.1522445678711, 'Gaming': 147.7891387939453, 'Walking': 135.7921142578125, 'Reacting': 111.99485778808594, 'Patting': 137.44627380371094}}\n"
     ]
    },
    {
     "name": "stderr",
     "output_type": "stream",
     "text": [
      " 67%|██████▋   | 1801/2676 [05:19<02:42,  5.38it/s]"
     ]
    },
    {
     "name": "stdout",
     "output_type": "stream",
     "text": [
      "{'FullBody': {'All': 109.07848358154297, 'UpperStretching': 111.36942291259766, 'Talking': 85.54241943359375, 'LowerStretching': 110.47308349609375, 'Greeting': 87.80303192138672, 'Gesticuling': 85.00646209716797, 'Gaming': 115.43656158447266, 'Walking': 106.71724700927734, 'Reacting': 97.53099060058594, 'Patting': 111.00633239746094}, 'UpperBody': {'All': 86.28840637207031, 'UpperStretching': 92.65713500976562, 'Talking': 66.45181274414062, 'LowerStretching': 74.69110107421875, 'Greeting': 76.88150024414062, 'Gesticuling': 79.07418823242188, 'Gaming': 83.25020599365234, 'Walking': 77.78267669677734, 'Reacting': 84.0889663696289, 'Patting': 82.7698745727539}, 'LowerBody': {'All': 131.86856079101562, 'UpperStretching': 130.08172607421875, 'Talking': 104.63301849365234, 'LowerStretching': 146.25506591796875, 'Greeting': 98.72457885742188, 'Gesticuling': 90.93873596191406, 'Gaming': 147.6229248046875, 'Walking': 135.65184020996094, 'Reacting': 110.97300720214844, 'Patting': 139.24281311035156}}\n"
     ]
    },
    {
     "name": "stderr",
     "output_type": "stream",
     "text": [
      " 75%|███████▍  | 2000/2676 [05:54<02:10,  5.18it/s]"
     ]
    },
    {
     "name": "stdout",
     "output_type": "stream",
     "text": [
      "{'FullBody': {'All': 109.13737487792969, 'UpperStretching': 111.43800354003906, 'Talking': 86.61285400390625, 'LowerStretching': 110.37156677246094, 'Greeting': 87.59397888183594, 'Gesticuling': 85.021484375, 'Gaming': 114.91755676269531, 'Walking': 107.09027862548828, 'Reacting': 97.66587829589844, 'Patting': 110.10415649414062}, 'UpperBody': {'All': 86.28871154785156, 'UpperStretching': 92.6268539428711, 'Talking': 67.054443359375, 'LowerStretching': 74.59097290039062, 'Greeting': 76.58055877685547, 'Gesticuling': 79.55563354492188, 'Gaming': 82.78279876708984, 'Walking': 78.1287841796875, 'Reacting': 84.42765808105469, 'Patting': 81.81519317626953}, 'LowerBody': {'All': 131.98605346679688, 'UpperStretching': 130.24917602539062, 'Talking': 106.1712646484375, 'LowerStretching': 146.15216064453125, 'Greeting': 98.60739135742188, 'Gesticuling': 90.48734283447266, 'Gaming': 147.05230712890625, 'Walking': 136.0517578125, 'Reacting': 110.9040756225586, 'Patting': 138.39312744140625}}\n"
     ]
    },
    {
     "name": "stderr",
     "output_type": "stream",
     "text": [
      " 82%|████████▏ | 2201/2676 [06:29<01:22,  5.74it/s]"
     ]
    },
    {
     "name": "stdout",
     "output_type": "stream",
     "text": [
      "{'FullBody': {'All': 109.12321472167969, 'UpperStretching': 111.4756088256836, 'Talking': 86.24440002441406, 'LowerStretching': 110.27095794677734, 'Greeting': 87.62689208984375, 'Gesticuling': 84.75675201416016, 'Gaming': 115.48151397705078, 'Walking': 106.8768539428711, 'Reacting': 97.7879867553711, 'Patting': 109.94464874267578}, 'UpperBody': {'All': 86.27449798583984, 'UpperStretching': 92.63965606689453, 'Talking': 66.82959747314453, 'LowerStretching': 74.56898498535156, 'Greeting': 76.63198852539062, 'Gesticuling': 79.3197250366211, 'Gaming': 83.2204360961914, 'Walking': 78.052490234375, 'Reacting': 84.60301208496094, 'Patting': 81.81409454345703}, 'LowerBody': {'All': 131.97193908691406, 'UpperStretching': 130.3115692138672, 'Talking': 105.6592025756836, 'LowerStretching': 145.97293090820312, 'Greeting': 98.62179565429688, 'Gesticuling': 90.19377899169922, 'Gaming': 147.7426300048828, 'Walking': 135.70118713378906, 'Reacting': 110.97296142578125, 'Patting': 138.07521057128906}}\n"
     ]
    },
    {
     "name": "stderr",
     "output_type": "stream",
     "text": [
      " 90%|████████▉ | 2401/2676 [07:04<00:54,  5.07it/s]"
     ]
    },
    {
     "name": "stdout",
     "output_type": "stream",
     "text": [
      "{'FullBody': {'All': 109.06777954101562, 'UpperStretching': 111.4557876586914, 'Talking': 85.95618438720703, 'LowerStretching': 110.08642578125, 'Greeting': 87.87670135498047, 'Gesticuling': 84.53956604003906, 'Gaming': 115.29473876953125, 'Walking': 106.87408447265625, 'Reacting': 97.6878433227539, 'Patting': 109.9466552734375}, 'UpperBody': {'All': 86.23436737060547, 'UpperStretching': 92.61420440673828, 'Talking': 66.35377502441406, 'LowerStretching': 74.47039794921875, 'Greeting': 77.0221176147461, 'Gesticuling': 79.22010040283203, 'Gaming': 83.06430053710938, 'Walking': 78.0917739868164, 'Reacting': 84.56036376953125, 'Patting': 81.49475860595703}, 'LowerBody': {'All': 131.9011993408203, 'UpperStretching': 130.29737854003906, 'Talking': 105.55859375, 'LowerStretching': 145.70245361328125, 'Greeting': 98.73129272460938, 'Gesticuling': 89.85902404785156, 'Gaming': 147.52517700195312, 'Walking': 135.65640258789062, 'Reacting': 110.81533813476562, 'Patting': 138.39854431152344}}\n"
     ]
    },
    {
     "name": "stderr",
     "output_type": "stream",
     "text": [
      " 97%|█████████▋| 2601/2676 [07:39<00:15,  4.82it/s]"
     ]
    },
    {
     "name": "stdout",
     "output_type": "stream",
     "text": [
      "{'FullBody': {'All': 109.02725982666016, 'UpperStretching': 111.38604736328125, 'Talking': 85.91693115234375, 'LowerStretching': 110.15672302246094, 'Greeting': 87.80831909179688, 'Gesticuling': 84.61693572998047, 'Gaming': 114.95531463623047, 'Walking': 106.87275695800781, 'Reacting': 97.69969940185547, 'Patting': 109.71407318115234}, 'UpperBody': {'All': 86.17677307128906, 'UpperStretching': 92.52281188964844, 'Talking': 66.2898941040039, 'LowerStretching': 74.47674560546875, 'Greeting': 76.94178771972656, 'Gesticuling': 79.29497528076172, 'Gaming': 83.02255249023438, 'Walking': 78.12384796142578, 'Reacting': 84.44865417480469, 'Patting': 81.4649658203125}, 'LowerBody': {'All': 131.87774658203125, 'UpperStretching': 130.24928283691406, 'Talking': 105.54396057128906, 'LowerStretching': 145.83670043945312, 'Greeting': 98.67485809326172, 'Gesticuling': 89.93890380859375, 'Gaming': 146.88807678222656, 'Walking': 135.62168884277344, 'Reacting': 110.95075225830078, 'Patting': 137.96319580078125}}\n"
     ]
    },
    {
     "name": "stderr",
     "output_type": "stream",
     "text": [
      "100%|██████████| 2676/2676 [07:52<00:00,  5.67it/s]\n",
      "\u001b[94m02:22:39 \u001b[92m[INFO]\u001b[94m Main\u001b[0m: Saving evaluation results...\n",
      "\u001b[94m02:22:39 \u001b[92m[INFO]\u001b[94m Main\u001b[0m: Done.\n",
      "\u001b[94m02:22:39 \u001b[92m[INFO]\u001b[94m Main\u001b[0m: Starting demo...\n",
      "  0%|          | 0/2676 [00:00<?, ?it/s]/opt/conda/lib/python3.10/site-packages/torchvision/transforms/transforms.py:329: UserWarning: Argument 'interpolation' of type int is deprecated since 0.13 and will be removed in 0.15. Please use InterpolationMode enum.\n",
      "  warnings.warn(\n",
      "/opt/conda/lib/python3.10/site-packages/torchvision/transforms/transforms.py:329: UserWarning: Argument 'interpolation' of type int is deprecated since 0.13 and will be removed in 0.15. Please use InterpolationMode enum.\n",
      "  warnings.warn(\n",
      "/opt/conda/lib/python3.10/site-packages/torchvision/transforms/transforms.py:329: UserWarning: Argument 'interpolation' of type int is deprecated since 0.13 and will be removed in 0.15. Please use InterpolationMode enum.\n",
      "  warnings.warn(\n",
      "/opt/conda/lib/python3.10/site-packages/torchvision/transforms/transforms.py:329: UserWarning: Argument 'interpolation' of type int is deprecated since 0.13 and will be removed in 0.15. Please use InterpolationMode enum.\n",
      "  warnings.warn(\n",
      "/opt/conda/lib/python3.10/site-packages/torchvision/transforms/transforms.py:329: UserWarning: Argument 'interpolation' of type int is deprecated since 0.13 and will be removed in 0.15. Please use InterpolationMode enum.\n",
      "  warnings.warn(\n",
      "/opt/conda/lib/python3.10/site-packages/torchvision/transforms/transforms.py:329: UserWarning: Argument 'interpolation' of type int is deprecated since 0.13 and will be removed in 0.15. Please use InterpolationMode enum.\n",
      "  warnings.warn(\n",
      "/opt/conda/lib/python3.10/site-packages/torchvision/transforms/transforms.py:329: UserWarning: Argument 'interpolation' of type int is deprecated since 0.13 and will be removed in 0.15. Please use InterpolationMode enum.\n",
      "  warnings.warn(\n",
      "/opt/conda/lib/python3.10/site-packages/torchvision/transforms/transforms.py:329: UserWarning: Argument 'interpolation' of type int is deprecated since 0.13 and will be removed in 0.15. Please use InterpolationMode enum.\n",
      "  warnings.warn(\n",
      "/opt/conda/lib/python3.10/site-packages/torchvision/transforms/transforms.py:329: UserWarning: Argument 'interpolation' of type int is deprecated since 0.13 and will be removed in 0.15. Please use InterpolationMode enum.\n",
      "  warnings.warn(\n",
      "/opt/conda/lib/python3.10/site-packages/torchvision/transforms/transforms.py:329: UserWarning: Argument 'interpolation' of type int is deprecated since 0.13 and will be removed in 0.15. Please use InterpolationMode enum.\n",
      "  warnings.warn(\n",
      "/opt/conda/lib/python3.10/site-packages/torchvision/transforms/transforms.py:329: UserWarning: Argument 'interpolation' of type int is deprecated since 0.13 and will be removed in 0.15. Please use InterpolationMode enum.\n",
      "  warnings.warn(\n",
      "/opt/conda/lib/python3.10/site-packages/torchvision/transforms/transforms.py:329: UserWarning: Argument 'interpolation' of type int is deprecated since 0.13 and will be removed in 0.15. Please use InterpolationMode enum.\n",
      "  warnings.warn(\n",
      "/opt/conda/lib/python3.10/site-packages/torchvision/transforms/transforms.py:329: UserWarning: Argument 'interpolation' of type int is deprecated since 0.13 and will be removed in 0.15. Please use InterpolationMode enum.\n",
      "  warnings.warn(\n",
      "/opt/conda/lib/python3.10/site-packages/torchvision/transforms/transforms.py:329: UserWarning: Argument 'interpolation' of type int is deprecated since 0.13 and will be removed in 0.15. Please use InterpolationMode enum.\n",
      "  warnings.warn(\n",
      "/opt/conda/lib/python3.10/site-packages/torchvision/transforms/transforms.py:329: UserWarning: Argument 'interpolation' of type int is deprecated since 0.13 and will be removed in 0.15. Please use InterpolationMode enum.\n",
      "  warnings.warn(\n",
      "/opt/conda/lib/python3.10/site-packages/torchvision/transforms/transforms.py:329: UserWarning: Argument 'interpolation' of type int is deprecated since 0.13 and will be removed in 0.15. Please use InterpolationMode enum.\n",
      "  warnings.warn(\n",
      "/opt/conda/lib/python3.10/site-packages/torchvision/transforms/transforms.py:329: UserWarning: Argument 'interpolation' of type int is deprecated since 0.13 and will be removed in 0.15. Please use InterpolationMode enum.\n",
      "  warnings.warn(\n",
      "/opt/conda/lib/python3.10/site-packages/torchvision/transforms/transforms.py:329: UserWarning: Argument 'interpolation' of type int is deprecated since 0.13 and will be removed in 0.15. Please use InterpolationMode enum.\n",
      "  warnings.warn(\n",
      "/opt/conda/lib/python3.10/site-packages/torchvision/transforms/transforms.py:329: UserWarning: Argument 'interpolation' of type int is deprecated since 0.13 and will be removed in 0.15. Please use InterpolationMode enum.\n",
      "  warnings.warn(\n",
      "/opt/conda/lib/python3.10/site-packages/torchvision/transforms/transforms.py:329: UserWarning: Argument 'interpolation' of type int is deprecated since 0.13 and will be removed in 0.15. Please use InterpolationMode enum.\n",
      "  warnings.warn(\n",
      "/opt/conda/lib/python3.10/site-packages/torchvision/transforms/transforms.py:329: UserWarning: Argument 'interpolation' of type int is deprecated since 0.13 and will be removed in 0.15. Please use InterpolationMode enum.\n",
      "  warnings.warn(\n",
      "/opt/conda/lib/python3.10/site-packages/torchvision/transforms/transforms.py:329: UserWarning: Argument 'interpolation' of type int is deprecated since 0.13 and will be removed in 0.15. Please use InterpolationMode enum.\n",
      "  warnings.warn(\n",
      "/opt/conda/lib/python3.10/site-packages/torchvision/transforms/transforms.py:329: UserWarning: Argument 'interpolation' of type int is deprecated since 0.13 and will be removed in 0.15. Please use InterpolationMode enum.\n",
      "  warnings.warn(\n",
      "/opt/conda/lib/python3.10/site-packages/torchvision/transforms/transforms.py:329: UserWarning: Argument 'interpolation' of type int is deprecated since 0.13 and will be removed in 0.15. Please use InterpolationMode enum.\n",
      "  warnings.warn(\n",
      "  8%|▊         | 201/2676 [00:40<07:10,  5.75it/s]"
     ]
    },
    {
     "name": "stdout",
     "output_type": "stream",
     "text": [
      "{'FullBody': {'All': 84.91165161132812, 'UpperStretching': 86.05721282958984, 'Walking': 85.35845947265625, 'Greeting': 66.37906646728516, 'LowerStretching': 88.49933624267578, 'Gaming': 73.10205841064453, 'Gesticuling': 67.93693542480469, 'Talking': 67.48312377929688, 'Patting': 80.4981460571289, 'Reacting': 80.06196594238281}, 'UpperBody': {'All': 62.42531204223633, 'UpperStretching': 67.21464538574219, 'Walking': 56.8681640625, 'Greeting': 55.980682373046875, 'LowerStretching': 53.20328140258789, 'Gaming': 51.668487548828125, 'Gesticuling': 54.24246597290039, 'Talking': 56.781761169433594, 'Patting': 60.42299270629883, 'Reacting': 66.40318298339844}, 'LowerBody': {'All': 107.39798736572266, 'UpperStretching': 104.89979553222656, 'Walking': 113.8487548828125, 'Greeting': 76.77745056152344, 'LowerStretching': 123.79537963867188, 'Gaming': 94.53565216064453, 'Gesticuling': 81.63139343261719, 'Talking': 78.18449401855469, 'Patting': 100.57329559326172, 'Reacting': 93.72075653076172}}\n"
     ]
    },
    {
     "name": "stderr",
     "output_type": "stream",
     "text": [
      " 15%|█▍        | 401/2676 [01:15<06:15,  6.06it/s]"
     ]
    },
    {
     "name": "stdout",
     "output_type": "stream",
     "text": [
      "{'FullBody': {'All': 85.14575958251953, 'UpperStretching': 86.04423522949219, 'Walking': 85.40714263916016, 'Greeting': 68.75302124023438, 'LowerStretching': 88.7445068359375, 'Gaming': 73.27900695800781, 'Gesticuling': 68.84502410888672, 'Talking': 68.78844451904297, 'Patting': 79.60791778564453, 'Reacting': 82.9901123046875}, 'UpperBody': {'All': 62.684532165527344, 'UpperStretching': 67.3901596069336, 'Walking': 56.33726119995117, 'Greeting': 57.30341339111328, 'LowerStretching': 53.343841552734375, 'Gaming': 52.113006591796875, 'Gesticuling': 55.64958190917969, 'Talking': 57.70474624633789, 'Patting': 58.59579849243164, 'Reacting': 68.73081970214844}, 'LowerBody': {'All': 107.60700988769531, 'UpperStretching': 104.69830322265625, 'Walking': 114.4770278930664, 'Greeting': 80.20263671875, 'LowerStretching': 124.1451644897461, 'Gaming': 94.44500732421875, 'Gesticuling': 82.04045867919922, 'Talking': 79.87216186523438, 'Patting': 100.62002563476562, 'Reacting': 97.24939727783203}}\n"
     ]
    },
    {
     "name": "stderr",
     "output_type": "stream",
     "text": [
      " 22%|██▏       | 600/2676 [01:50<05:37,  6.15it/s]"
     ]
    },
    {
     "name": "stdout",
     "output_type": "stream",
     "text": [
      "{'FullBody': {'All': 85.0070571899414, 'UpperStretching': 85.70343017578125, 'Walking': 85.97301483154297, 'Greeting': 67.65054321289062, 'LowerStretching': 88.17039489746094, 'Gaming': 74.8109130859375, 'Gesticuling': 68.97686004638672, 'Talking': 67.9863052368164, 'Patting': 83.72608947753906, 'Reacting': 83.19722747802734}, 'UpperBody': {'All': 62.880977630615234, 'UpperStretching': 67.46238708496094, 'Walking': 56.99150085449219, 'Greeting': 56.738136291503906, 'LowerStretching': 53.2327766418457, 'Gaming': 53.741943359375, 'Gesticuling': 55.64481735229492, 'Talking': 57.11300277709961, 'Patting': 61.58442687988281, 'Reacting': 69.04492950439453}, 'LowerBody': {'All': 107.13314056396484, 'UpperStretching': 103.94449615478516, 'Walking': 114.95452880859375, 'Greeting': 78.56295013427734, 'LowerStretching': 123.10802459716797, 'Gaming': 95.8798828125, 'Gesticuling': 82.30889892578125, 'Talking': 78.85961151123047, 'Patting': 105.86775207519531, 'Reacting': 97.34951782226562}}\n"
     ]
    },
    {
     "name": "stderr",
     "output_type": "stream",
     "text": [
      " 30%|██▉       | 801/2676 [02:25<05:19,  5.87it/s]"
     ]
    },
    {
     "name": "stdout",
     "output_type": "stream",
     "text": [
      "{'FullBody': {'All': 85.27496337890625, 'UpperStretching': 85.9257583618164, 'Walking': 86.9054183959961, 'Greeting': 67.4713134765625, 'LowerStretching': 88.32969665527344, 'Gaming': 75.98992919921875, 'Gesticuling': 68.87564086914062, 'Talking': 66.5296859741211, 'Patting': 82.40898895263672, 'Reacting': 82.72026824951172}, 'UpperBody': {'All': 62.95267105102539, 'UpperStretching': 67.4916763305664, 'Walking': 57.52264404296875, 'Greeting': 56.20425796508789, 'LowerStretching': 53.30729293823242, 'Gaming': 54.29075241088867, 'Gesticuling': 55.53543472290039, 'Talking': 55.79339599609375, 'Patting': 61.68790054321289, 'Reacting': 68.8355941772461}, 'LowerBody': {'All': 107.59725952148438, 'UpperStretching': 104.35985565185547, 'Walking': 116.2881851196289, 'Greeting': 78.73837280273438, 'LowerStretching': 123.35208892822266, 'Gaming': 97.68912506103516, 'Gesticuling': 82.21585083007812, 'Talking': 77.2659912109375, 'Patting': 103.13008880615234, 'Reacting': 96.60494232177734}}\n"
     ]
    },
    {
     "name": "stderr",
     "output_type": "stream",
     "text": [
      " 37%|███▋      | 1001/2676 [03:00<05:02,  5.54it/s]"
     ]
    },
    {
     "name": "stdout",
     "output_type": "stream",
     "text": [
      "{'FullBody': {'All': 85.3056869506836, 'UpperStretching': 85.98585510253906, 'Walking': 86.93417358398438, 'Greeting': 66.8614730834961, 'LowerStretching': 88.34940338134766, 'Gaming': 77.29801177978516, 'Gesticuling': 68.889892578125, 'Talking': 66.60128784179688, 'Patting': 81.0323715209961, 'Reacting': 83.09053039550781}, 'UpperBody': {'All': 62.98340606689453, 'UpperStretching': 67.55469512939453, 'Walking': 57.657310485839844, 'Greeting': 56.02260971069336, 'LowerStretching': 53.325923919677734, 'Gaming': 55.18229675292969, 'Gesticuling': 55.45790481567383, 'Talking': 56.04356384277344, 'Patting': 60.78402328491211, 'Reacting': 68.87665557861328}, 'LowerBody': {'All': 107.62796783447266, 'UpperStretching': 104.41702270507812, 'Walking': 116.21102905273438, 'Greeting': 77.70032501220703, 'LowerStretching': 123.37289428710938, 'Gaming': 99.41373443603516, 'Gesticuling': 82.32188415527344, 'Talking': 77.15901947021484, 'Patting': 101.28072357177734, 'Reacting': 97.30441284179688}}\n"
     ]
    },
    {
     "name": "stderr",
     "output_type": "stream",
     "text": [
      " 45%|████▍     | 1200/2676 [03:34<04:49,  5.09it/s]"
     ]
    },
    {
     "name": "stdout",
     "output_type": "stream",
     "text": [
      "{'FullBody': {'All': 85.20350646972656, 'UpperStretching': 85.84636688232422, 'Walking': 87.2998046875, 'Greeting': 67.50148010253906, 'LowerStretching': 87.91504669189453, 'Gaming': 77.86349487304688, 'Gesticuling': 69.59689331054688, 'Talking': 66.17131805419922, 'Patting': 81.82179260253906, 'Reacting': 82.5975341796875}, 'UpperBody': {'All': 63.00434875488281, 'UpperStretching': 67.58148956298828, 'Walking': 57.7884521484375, 'Greeting': 57.31491470336914, 'LowerStretching': 53.104522705078125, 'Gaming': 55.19525909423828, 'Gesticuling': 56.280059814453125, 'Talking': 55.60131072998047, 'Patting': 61.45486831665039, 'Reacting': 68.78952026367188}, 'LowerBody': {'All': 107.40267181396484, 'UpperStretching': 104.11125183105469, 'Walking': 116.81116485595703, 'Greeting': 77.68804931640625, 'LowerStretching': 122.7255630493164, 'Gaming': 100.53173065185547, 'Gesticuling': 82.91372680664062, 'Talking': 76.7413330078125, 'Patting': 102.188720703125, 'Reacting': 96.40554809570312}}\n"
     ]
    },
    {
     "name": "stderr",
     "output_type": "stream",
     "text": [
      " 52%|█████▏    | 1401/2676 [04:10<03:42,  5.73it/s]"
     ]
    },
    {
     "name": "stdout",
     "output_type": "stream",
     "text": [
      "{'FullBody': {'All': 85.19378662109375, 'UpperStretching': 85.83613586425781, 'Walking': 87.29883575439453, 'Greeting': 68.05879211425781, 'LowerStretching': 87.76499938964844, 'Gaming': 77.4878921508789, 'Gesticuling': 69.27975463867188, 'Talking': 66.25362396240234, 'Patting': 82.82981872558594, 'Reacting': 82.9790267944336}, 'UpperBody': {'All': 63.051734924316406, 'UpperStretching': 67.56520080566406, 'Walking': 57.860965728759766, 'Greeting': 58.27777099609375, 'LowerStretching': 53.120174407958984, 'Gaming': 54.93258285522461, 'Gesticuling': 55.796974182128906, 'Talking': 55.789276123046875, 'Patting': 62.1044921875, 'Reacting': 69.16888427734375}, 'LowerBody': {'All': 107.3358383178711, 'UpperStretching': 104.10706329345703, 'Walking': 116.7367172241211, 'Greeting': 77.83980560302734, 'LowerStretching': 122.40984344482422, 'Gaming': 100.04319763183594, 'Gesticuling': 82.76254272460938, 'Talking': 76.71797943115234, 'Patting': 103.55514526367188, 'Reacting': 96.78915405273438}}\n"
     ]
    },
    {
     "name": "stderr",
     "output_type": "stream",
     "text": [
      " 60%|█████▉    | 1601/2676 [04:45<03:20,  5.36it/s]"
     ]
    },
    {
     "name": "stdout",
     "output_type": "stream",
     "text": [
      "{'FullBody': {'All': 85.17274475097656, 'UpperStretching': 85.84989929199219, 'Walking': 87.33068084716797, 'Greeting': 68.27122497558594, 'LowerStretching': 87.60530853271484, 'Gaming': 77.2939682006836, 'Gesticuling': 69.10073852539062, 'Talking': 66.98739624023438, 'Patting': 82.39163970947266, 'Reacting': 82.8144760131836}, 'UpperBody': {'All': 62.96757888793945, 'UpperStretching': 67.50802612304688, 'Walking': 57.902950286865234, 'Greeting': 58.73637008666992, 'LowerStretching': 53.01012420654297, 'Gaming': 54.79600143432617, 'Gesticuling': 55.337886810302734, 'Talking': 56.304141998291016, 'Patting': 61.66566467285156, 'Reacting': 68.89435577392578}, 'LowerBody': {'All': 107.37792205810547, 'UpperStretching': 104.1917724609375, 'Walking': 116.75840759277344, 'Greeting': 77.80607604980469, 'LowerStretching': 122.20050048828125, 'Gaming': 99.79192352294922, 'Gesticuling': 82.86357879638672, 'Talking': 77.67063903808594, 'Patting': 103.11762237548828, 'Reacting': 96.73458862304688}}\n"
     ]
    },
    {
     "name": "stderr",
     "output_type": "stream",
     "text": [
      " 67%|██████▋   | 1800/2676 [05:19<02:57,  4.93it/s]"
     ]
    },
    {
     "name": "stdout",
     "output_type": "stream",
     "text": [
      "{'FullBody': {'All': 85.09098052978516, 'UpperStretching': 85.78495788574219, 'Walking': 87.37318420410156, 'Greeting': 68.06695556640625, 'LowerStretching': 87.46944427490234, 'Gaming': 77.21066284179688, 'Gesticuling': 69.19786834716797, 'Talking': 66.80908203125, 'Patting': 82.06770324707031, 'Reacting': 82.61421203613281}, 'UpperBody': {'All': 62.89913558959961, 'UpperStretching': 67.4162826538086, 'Walking': 57.88115310668945, 'Greeting': 58.62156677246094, 'LowerStretching': 52.974857330322266, 'Gaming': 54.97977066040039, 'Gesticuling': 55.327571868896484, 'Talking': 56.02835464477539, 'Patting': 61.44536209106445, 'Reacting': 68.82190704345703}, 'LowerBody': {'All': 107.28282928466797, 'UpperStretching': 104.15364837646484, 'Walking': 116.86521911621094, 'Greeting': 77.51234436035156, 'LowerStretching': 121.96403503417969, 'Gaming': 99.4415512084961, 'Gesticuling': 83.06815338134766, 'Talking': 77.58982849121094, 'Patting': 102.69005584716797, 'Reacting': 96.4065170288086}}\n"
     ]
    },
    {
     "name": "stderr",
     "output_type": "stream",
     "text": [
      " 75%|███████▍  | 2001/2676 [05:55<02:02,  5.51it/s]"
     ]
    },
    {
     "name": "stdout",
     "output_type": "stream",
     "text": [
      "{'FullBody': {'All': 85.10651397705078, 'UpperStretching': 85.81562042236328, 'Walking': 87.43998718261719, 'Greeting': 67.98505401611328, 'LowerStretching': 87.38774108886719, 'Gaming': 77.33502960205078, 'Gesticuling': 69.31026458740234, 'Talking': 66.76229858398438, 'Patting': 81.84213256835938, 'Reacting': 82.77770233154297}, 'UpperBody': {'All': 62.95713424682617, 'UpperStretching': 67.49249267578125, 'Walking': 57.9362907409668, 'Greeting': 58.64467239379883, 'LowerStretching': 52.95415496826172, 'Gaming': 55.1517219543457, 'Gesticuling': 55.35702896118164, 'Talking': 56.08442306518555, 'Patting': 61.02166748046875, 'Reacting': 68.97821807861328}, 'LowerBody': {'All': 107.25588989257812, 'UpperStretching': 104.13874816894531, 'Walking': 116.94367218017578, 'Greeting': 77.32542419433594, 'LowerStretching': 121.82132720947266, 'Gaming': 99.51834869384766, 'Gesticuling': 83.26351165771484, 'Talking': 77.44017791748047, 'Patting': 102.66260528564453, 'Reacting': 96.57720184326172}}\n"
     ]
    },
    {
     "name": "stderr",
     "output_type": "stream",
     "text": [
      " 82%|████████▏ | 2201/2676 [06:30<01:22,  5.75it/s]"
     ]
    },
    {
     "name": "stdout",
     "output_type": "stream",
     "text": [
      "{'FullBody': {'All': 85.13790130615234, 'UpperStretching': 85.7960433959961, 'Walking': 87.60499572753906, 'Greeting': 67.88501739501953, 'LowerStretching': 87.48117065429688, 'Gaming': 77.4107666015625, 'Gesticuling': 69.29645538330078, 'Talking': 66.91228485107422, 'Patting': 82.62248992919922, 'Reacting': 82.31439208984375}, 'UpperBody': {'All': 62.991947174072266, 'UpperStretching': 67.54926300048828, 'Walking': 58.06282424926758, 'Greeting': 58.42035675048828, 'LowerStretching': 52.95111083984375, 'Gaming': 55.06045150756836, 'Gesticuling': 55.29885482788086, 'Talking': 56.08424758911133, 'Patting': 60.930877685546875, 'Reacting': 68.61617279052734}, 'LowerBody': {'All': 107.28385162353516, 'UpperStretching': 104.04283905029297, 'Walking': 117.14716339111328, 'Greeting': 77.34967041015625, 'LowerStretching': 122.01123809814453, 'Gaming': 99.76109313964844, 'Gesticuling': 83.29407501220703, 'Talking': 77.74031829833984, 'Patting': 104.3141098022461, 'Reacting': 96.01260375976562}}\n"
     ]
    },
    {
     "name": "stderr",
     "output_type": "stream",
     "text": [
      " 90%|████████▉ | 2400/2676 [07:05<00:52,  5.30it/s]"
     ]
    },
    {
     "name": "stdout",
     "output_type": "stream",
     "text": [
      "{'FullBody': {'All': 85.12560272216797, 'UpperStretching': 85.76720428466797, 'Walking': 87.5286636352539, 'Greeting': 67.83442687988281, 'LowerStretching': 87.44143676757812, 'Gaming': 77.64837646484375, 'Gesticuling': 69.35164642333984, 'Talking': 66.72428131103516, 'Patting': 82.87879180908203, 'Reacting': 82.50135040283203}, 'UpperBody': {'All': 62.97614669799805, 'UpperStretching': 67.51881408691406, 'Walking': 57.98503112792969, 'Greeting': 58.67677688598633, 'LowerStretching': 52.88010025024414, 'Gaming': 55.087520599365234, 'Gesticuling': 55.35593795776367, 'Talking': 55.974708557128906, 'Patting': 61.163658142089844, 'Reacting': 68.87835693359375}, 'LowerBody': {'All': 107.27505493164062, 'UpperStretching': 104.01559448242188, 'Walking': 117.0722885131836, 'Greeting': 76.99208068847656, 'LowerStretching': 122.00277709960938, 'Gaming': 100.20923614501953, 'Gesticuling': 83.34735870361328, 'Talking': 77.47386169433594, 'Patting': 104.59392547607422, 'Reacting': 96.12434387207031}}\n"
     ]
    },
    {
     "name": "stderr",
     "output_type": "stream",
     "text": [
      " 97%|█████████▋| 2601/2676 [07:40<00:13,  5.55it/s]"
     ]
    },
    {
     "name": "stdout",
     "output_type": "stream",
     "text": [
      "{'FullBody': {'All': 85.10137176513672, 'UpperStretching': 85.74409484863281, 'Walking': 87.47322082519531, 'Greeting': 67.56367492675781, 'LowerStretching': 87.42347717285156, 'Gaming': 77.7515640258789, 'Gesticuling': 69.28862762451172, 'Talking': 66.43181610107422, 'Patting': 83.1490478515625, 'Reacting': 82.5172348022461}, 'UpperBody': {'All': 62.95792007446289, 'UpperStretching': 67.52310180664062, 'Walking': 57.920467376708984, 'Greeting': 58.25676345825195, 'LowerStretching': 52.85956954956055, 'Gaming': 55.08718490600586, 'Gesticuling': 55.24592208862305, 'Talking': 55.61308670043945, 'Patting': 61.28011703491211, 'Reacting': 68.95172119140625}, 'LowerBody': {'All': 107.24481964111328, 'UpperStretching': 103.965087890625, 'Walking': 117.0259780883789, 'Greeting': 76.8705825805664, 'LowerStretching': 121.98737335205078, 'Gaming': 100.41593933105469, 'Gesticuling': 83.33134460449219, 'Talking': 77.25054168701172, 'Patting': 105.01798248291016, 'Reacting': 96.0827407836914}}\n"
     ]
    },
    {
     "name": "stderr",
     "output_type": "stream",
     "text": [
      "100%|██████████| 2676/2676 [07:52<00:00,  5.66it/s]\n",
      "\u001b[94m02:30:34 \u001b[92m[INFO]\u001b[94m Main\u001b[0m: Saving evaluation results...\n",
      "\u001b[94m02:30:34 \u001b[92m[INFO]\u001b[94m Main\u001b[0m: Done.\n",
      "\u001b[94m02:30:34 \u001b[92m[INFO]\u001b[94m Main\u001b[0m: Starting demo...\n",
      "  0%|          | 0/2676 [00:00<?, ?it/s]/opt/conda/lib/python3.10/site-packages/torchvision/transforms/transforms.py:329: UserWarning: Argument 'interpolation' of type int is deprecated since 0.13 and will be removed in 0.15. Please use InterpolationMode enum.\n",
      "  warnings.warn(\n",
      "/opt/conda/lib/python3.10/site-packages/torchvision/transforms/transforms.py:329: UserWarning: Argument 'interpolation' of type int is deprecated since 0.13 and will be removed in 0.15. Please use InterpolationMode enum.\n",
      "  warnings.warn(\n",
      "/opt/conda/lib/python3.10/site-packages/torchvision/transforms/transforms.py:329: UserWarning: Argument 'interpolation' of type int is deprecated since 0.13 and will be removed in 0.15. Please use InterpolationMode enum.\n",
      "  warnings.warn(\n",
      "/opt/conda/lib/python3.10/site-packages/torchvision/transforms/transforms.py:329: UserWarning: Argument 'interpolation' of type int is deprecated since 0.13 and will be removed in 0.15. Please use InterpolationMode enum.\n",
      "  warnings.warn(\n",
      "/opt/conda/lib/python3.10/site-packages/torchvision/transforms/transforms.py:329: UserWarning: Argument 'interpolation' of type int is deprecated since 0.13 and will be removed in 0.15. Please use InterpolationMode enum.\n",
      "  warnings.warn(\n",
      "/opt/conda/lib/python3.10/site-packages/torchvision/transforms/transforms.py:329: UserWarning: Argument 'interpolation' of type int is deprecated since 0.13 and will be removed in 0.15. Please use InterpolationMode enum.\n",
      "  warnings.warn(\n",
      "/opt/conda/lib/python3.10/site-packages/torchvision/transforms/transforms.py:329: UserWarning: Argument 'interpolation' of type int is deprecated since 0.13 and will be removed in 0.15. Please use InterpolationMode enum.\n",
      "  warnings.warn(\n",
      "/opt/conda/lib/python3.10/site-packages/torchvision/transforms/transforms.py:329: UserWarning: Argument 'interpolation' of type int is deprecated since 0.13 and will be removed in 0.15. Please use InterpolationMode enum.\n",
      "  warnings.warn(\n",
      "/opt/conda/lib/python3.10/site-packages/torchvision/transforms/transforms.py:329: UserWarning: Argument 'interpolation' of type int is deprecated since 0.13 and will be removed in 0.15. Please use InterpolationMode enum.\n",
      "  warnings.warn(\n",
      "/opt/conda/lib/python3.10/site-packages/torchvision/transforms/transforms.py:329: UserWarning: Argument 'interpolation' of type int is deprecated since 0.13 and will be removed in 0.15. Please use InterpolationMode enum.\n",
      "  warnings.warn(\n",
      "/opt/conda/lib/python3.10/site-packages/torchvision/transforms/transforms.py:329: UserWarning: Argument 'interpolation' of type int is deprecated since 0.13 and will be removed in 0.15. Please use InterpolationMode enum.\n",
      "  warnings.warn(\n",
      "/opt/conda/lib/python3.10/site-packages/torchvision/transforms/transforms.py:329: UserWarning: Argument 'interpolation' of type int is deprecated since 0.13 and will be removed in 0.15. Please use InterpolationMode enum.\n",
      "  warnings.warn(\n",
      "/opt/conda/lib/python3.10/site-packages/torchvision/transforms/transforms.py:329: UserWarning: Argument 'interpolation' of type int is deprecated since 0.13 and will be removed in 0.15. Please use InterpolationMode enum.\n",
      "  warnings.warn(\n",
      "/opt/conda/lib/python3.10/site-packages/torchvision/transforms/transforms.py:329: UserWarning: Argument 'interpolation' of type int is deprecated since 0.13 and will be removed in 0.15. Please use InterpolationMode enum.\n",
      "  warnings.warn(\n",
      "/opt/conda/lib/python3.10/site-packages/torchvision/transforms/transforms.py:329: UserWarning: Argument 'interpolation' of type int is deprecated since 0.13 and will be removed in 0.15. Please use InterpolationMode enum.\n",
      "  warnings.warn(\n",
      "/opt/conda/lib/python3.10/site-packages/torchvision/transforms/transforms.py:329: UserWarning: Argument 'interpolation' of type int is deprecated since 0.13 and will be removed in 0.15. Please use InterpolationMode enum.\n",
      "  warnings.warn(\n",
      "/opt/conda/lib/python3.10/site-packages/torchvision/transforms/transforms.py:329: UserWarning: Argument 'interpolation' of type int is deprecated since 0.13 and will be removed in 0.15. Please use InterpolationMode enum.\n",
      "  warnings.warn(\n",
      "/opt/conda/lib/python3.10/site-packages/torchvision/transforms/transforms.py:329: UserWarning: Argument 'interpolation' of type int is deprecated since 0.13 and will be removed in 0.15. Please use InterpolationMode enum.\n",
      "  warnings.warn(\n",
      "/opt/conda/lib/python3.10/site-packages/torchvision/transforms/transforms.py:329: UserWarning: Argument 'interpolation' of type int is deprecated since 0.13 and will be removed in 0.15. Please use InterpolationMode enum.\n",
      "  warnings.warn(\n",
      "/opt/conda/lib/python3.10/site-packages/torchvision/transforms/transforms.py:329: UserWarning: Argument 'interpolation' of type int is deprecated since 0.13 and will be removed in 0.15. Please use InterpolationMode enum.\n",
      "  warnings.warn(\n",
      "/opt/conda/lib/python3.10/site-packages/torchvision/transforms/transforms.py:329: UserWarning: Argument 'interpolation' of type int is deprecated since 0.13 and will be removed in 0.15. Please use InterpolationMode enum.\n",
      "  warnings.warn(\n",
      "/opt/conda/lib/python3.10/site-packages/torchvision/transforms/transforms.py:329: UserWarning: Argument 'interpolation' of type int is deprecated since 0.13 and will be removed in 0.15. Please use InterpolationMode enum.\n",
      "  warnings.warn(\n",
      "/opt/conda/lib/python3.10/site-packages/torchvision/transforms/transforms.py:329: UserWarning: Argument 'interpolation' of type int is deprecated since 0.13 and will be removed in 0.15. Please use InterpolationMode enum.\n",
      "  warnings.warn(\n",
      "/opt/conda/lib/python3.10/site-packages/torchvision/transforms/transforms.py:329: UserWarning: Argument 'interpolation' of type int is deprecated since 0.13 and will be removed in 0.15. Please use InterpolationMode enum.\n",
      "  warnings.warn(\n",
      "  8%|▊         | 201/2676 [00:40<06:54,  5.98it/s]"
     ]
    },
    {
     "name": "stdout",
     "output_type": "stream",
     "text": [
      "{'FullBody': {'All': 104.78072357177734, 'UpperStretching': 105.89801025390625, 'LowerStretching': 109.60801696777344, 'Walking': 108.54977416992188, 'Greeting': 82.10765838623047, 'Gaming': 96.4292221069336, 'Patting': 102.71156311035156, 'Gesticuling': 84.5190200805664, 'Reacting': 86.92156219482422, 'Talking': 72.8281478881836}, 'UpperBody': {'All': 92.43804931640625, 'UpperStretching': 100.57561492919922, 'LowerStretching': 80.05496978759766, 'Walking': 85.68975830078125, 'Greeting': 84.83940124511719, 'Gaming': 80.18970489501953, 'Patting': 76.21188354492188, 'Gesticuling': 78.68822479248047, 'Reacting': 77.67404174804688, 'Talking': 72.71307373046875}, 'LowerBody': {'All': 117.12339782714844, 'UpperStretching': 111.22039794921875, 'LowerStretching': 139.1610565185547, 'Walking': 131.4097900390625, 'Greeting': 79.37591552734375, 'Gaming': 112.668701171875, 'Patting': 129.2112274169922, 'Gesticuling': 90.34981536865234, 'Reacting': 96.1690673828125, 'Talking': 72.9432373046875}}\n"
     ]
    },
    {
     "name": "stderr",
     "output_type": "stream",
     "text": [
      " 15%|█▍        | 401/2676 [01:15<06:35,  5.76it/s]"
     ]
    },
    {
     "name": "stdout",
     "output_type": "stream",
     "text": [
      "{'FullBody': {'All': 104.7153091430664, 'UpperStretching': 106.15864562988281, 'LowerStretching': 108.29863739013672, 'Walking': 108.78713989257812, 'Greeting': 82.34912109375, 'Gaming': 94.74383544921875, 'Patting': 101.66094207763672, 'Gesticuling': 82.86092376708984, 'Reacting': 88.50245666503906, 'Talking': 74.7177963256836}, 'UpperBody': {'All': 92.40241241455078, 'UpperStretching': 100.47950744628906, 'LowerStretching': 79.84093475341797, 'Walking': 85.90191650390625, 'Greeting': 84.10230255126953, 'Gaming': 79.5947036743164, 'Patting': 77.13826751708984, 'Gesticuling': 76.13249969482422, 'Reacting': 79.01657104492188, 'Talking': 74.92379760742188}, 'LowerBody': {'All': 117.02820587158203, 'UpperStretching': 111.8377914428711, 'LowerStretching': 136.75634765625, 'Walking': 131.67237854003906, 'Greeting': 80.59593200683594, 'Gaming': 109.89295959472656, 'Patting': 126.18360900878906, 'Gesticuling': 89.58934783935547, 'Reacting': 97.98833465576172, 'Talking': 74.51180267333984}}\n"
     ]
    },
    {
     "name": "stderr",
     "output_type": "stream",
     "text": [
      " 22%|██▏       | 600/2676 [01:49<06:50,  5.05it/s]"
     ]
    },
    {
     "name": "stdout",
     "output_type": "stream",
     "text": [
      "{'FullBody': {'All': 104.49281311035156, 'UpperStretching': 105.83158111572266, 'LowerStretching': 107.79251861572266, 'Walking': 109.4473876953125, 'Greeting': 81.16276550292969, 'Gaming': 95.36768341064453, 'Patting': 98.64778137207031, 'Gesticuling': 83.86418914794922, 'Reacting': 87.88827514648438, 'Talking': 74.33552551269531}, 'UpperBody': {'All': 92.22676086425781, 'UpperStretching': 100.02692413330078, 'LowerStretching': 79.57418060302734, 'Walking': 86.22496032714844, 'Greeting': 83.1885986328125, 'Gaming': 80.05715942382812, 'Patting': 75.92745971679688, 'Gesticuling': 77.8486328125, 'Reacting': 78.34168243408203, 'Talking': 74.19743347167969}, 'LowerBody': {'All': 116.75888061523438, 'UpperStretching': 111.63623046875, 'LowerStretching': 136.0108642578125, 'Walking': 132.66983032226562, 'Greeting': 79.13693237304688, 'Gaming': 110.67820739746094, 'Patting': 121.36810302734375, 'Gesticuling': 89.87974548339844, 'Reacting': 97.43486022949219, 'Talking': 74.47361755371094}}\n"
     ]
    },
    {
     "name": "stderr",
     "output_type": "stream",
     "text": [
      " 30%|██▉       | 801/2676 [02:24<05:20,  5.86it/s]"
     ]
    },
    {
     "name": "stdout",
     "output_type": "stream",
     "text": [
      "{'FullBody': {'All': 104.49618530273438, 'UpperStretching': 105.86257934570312, 'LowerStretching': 107.34613037109375, 'Walking': 109.51044464111328, 'Greeting': 81.56871795654297, 'Gaming': 97.17633056640625, 'Patting': 99.52034759521484, 'Gesticuling': 84.84639739990234, 'Reacting': 87.97639465332031, 'Talking': 73.32099914550781}, 'UpperBody': {'All': 92.17302703857422, 'UpperStretching': 99.93968200683594, 'LowerStretching': 79.29888916015625, 'Walking': 86.13703918457031, 'Greeting': 82.98714447021484, 'Gaming': 81.34766387939453, 'Patting': 76.39653778076172, 'Gesticuling': 79.3817138671875, 'Reacting': 78.54705810546875, 'Talking': 73.5898208618164}, 'LowerBody': {'All': 116.81934356689453, 'UpperStretching': 111.78546142578125, 'LowerStretching': 135.39337158203125, 'Walking': 132.8838653564453, 'Greeting': 80.1502914428711, 'Gaming': 113.00499725341797, 'Patting': 122.6441650390625, 'Gesticuling': 90.31106567382812, 'Reacting': 97.4057388305664, 'Talking': 73.05217742919922}}\n"
     ]
    },
    {
     "name": "stderr",
     "output_type": "stream",
     "text": [
      " 37%|███▋      | 1001/2676 [02:59<05:00,  5.58it/s]"
     ]
    },
    {
     "name": "stdout",
     "output_type": "stream",
     "text": [
      "{'FullBody': {'All': 104.48777770996094, 'UpperStretching': 105.94971466064453, 'LowerStretching': 107.16504669189453, 'Walking': 109.19364929199219, 'Greeting': 80.46442413330078, 'Gaming': 97.81719207763672, 'Patting': 99.91149139404297, 'Gesticuling': 85.18213653564453, 'Reacting': 87.9208984375, 'Talking': 73.96163177490234}, 'UpperBody': {'All': 92.08259582519531, 'UpperStretching': 99.91742706298828, 'LowerStretching': 78.97429656982422, 'Walking': 85.91072082519531, 'Greeting': 82.4451675415039, 'Gaming': 81.59951782226562, 'Patting': 77.23077392578125, 'Gesticuling': 79.64028930664062, 'Reacting': 78.37828063964844, 'Talking': 74.03844451904297}, 'LowerBody': {'All': 116.89298248291016, 'UpperStretching': 111.98200988769531, 'LowerStretching': 135.35577392578125, 'Walking': 132.47657775878906, 'Greeting': 78.48367309570312, 'Gaming': 114.03486633300781, 'Patting': 122.59220886230469, 'Gesticuling': 90.7239990234375, 'Reacting': 97.46350860595703, 'Talking': 73.88481903076172}}\n"
     ]
    },
    {
     "name": "stderr",
     "output_type": "stream",
     "text": [
      " 45%|████▍     | 1200/2676 [03:34<04:58,  4.94it/s]"
     ]
    },
    {
     "name": "stdout",
     "output_type": "stream",
     "text": [
      "{'FullBody': {'All': 104.51350402832031, 'UpperStretching': 105.92335510253906, 'LowerStretching': 107.29763793945312, 'Walking': 109.35265350341797, 'Greeting': 79.6855697631836, 'Gaming': 98.03028869628906, 'Patting': 99.8743896484375, 'Gesticuling': 85.13311004638672, 'Reacting': 88.38359069824219, 'Talking': 73.37946319580078}, 'UpperBody': {'All': 92.02154541015625, 'UpperStretching': 99.7096176147461, 'LowerStretching': 79.19903564453125, 'Walking': 85.96868133544922, 'Greeting': 81.49278259277344, 'Gaming': 82.03594970703125, 'Patting': 77.86937713623047, 'Gesticuling': 79.77133178710938, 'Reacting': 78.69500732421875, 'Talking': 73.62069702148438}, 'LowerBody': {'All': 117.0054702758789, 'UpperStretching': 112.1370849609375, 'LowerStretching': 135.39625549316406, 'Walking': 132.73663330078125, 'Greeting': 77.87835693359375, 'Gaming': 114.0246353149414, 'Patting': 121.87938690185547, 'Gesticuling': 90.4948959350586, 'Reacting': 98.0721664428711, 'Talking': 73.13822174072266}}\n"
     ]
    },
    {
     "name": "stderr",
     "output_type": "stream",
     "text": [
      " 52%|█████▏    | 1401/2676 [04:09<03:43,  5.70it/s]"
     ]
    },
    {
     "name": "stdout",
     "output_type": "stream",
     "text": [
      "{'FullBody': {'All': 104.50761413574219, 'UpperStretching': 105.91081237792969, 'LowerStretching': 107.22310638427734, 'Walking': 109.44682312011719, 'Greeting': 79.36136627197266, 'Gaming': 97.83340454101562, 'Patting': 100.516845703125, 'Gesticuling': 84.89751434326172, 'Reacting': 88.23247528076172, 'Talking': 72.94104766845703}, 'UpperBody': {'All': 91.92776489257812, 'UpperStretching': 99.6191177368164, 'LowerStretching': 78.89807891845703, 'Walking': 86.03438568115234, 'Greeting': 81.1318588256836, 'Gaming': 81.77848052978516, 'Patting': 78.64154052734375, 'Gesticuling': 79.79947662353516, 'Reacting': 79.01094818115234, 'Talking': 73.08528900146484}, 'LowerBody': {'All': 117.08744049072266, 'UpperStretching': 112.20252227783203, 'LowerStretching': 135.5481414794922, 'Walking': 132.8592529296875, 'Greeting': 77.59085845947266, 'Gaming': 113.88834381103516, 'Patting': 122.39215850830078, 'Gesticuling': 89.99555969238281, 'Reacting': 97.45401763916016, 'Talking': 72.79681396484375}}\n"
     ]
    },
    {
     "name": "stderr",
     "output_type": "stream",
     "text": [
      " 60%|█████▉    | 1601/2676 [04:44<03:17,  5.44it/s]"
     ]
    },
    {
     "name": "stdout",
     "output_type": "stream",
     "text": [
      "{'FullBody': {'All': 104.55929565429688, 'UpperStretching': 105.9406509399414, 'LowerStretching': 107.1703109741211, 'Walking': 109.76800537109375, 'Greeting': 79.47883605957031, 'Gaming': 98.0266342163086, 'Patting': 99.54926300048828, 'Gesticuling': 84.94602966308594, 'Reacting': 88.32102966308594, 'Talking': 72.96440887451172}, 'UpperBody': {'All': 91.95152282714844, 'UpperStretching': 99.6301040649414, 'LowerStretching': 78.85907745361328, 'Walking': 86.19149017333984, 'Greeting': 81.258544921875, 'Gaming': 81.9721908569336, 'Patting': 78.13277435302734, 'Gesticuling': 79.47325897216797, 'Reacting': 79.31082153320312, 'Talking': 72.98943328857422}, 'LowerBody': {'All': 117.16706848144531, 'UpperStretching': 112.25119018554688, 'LowerStretching': 135.48155212402344, 'Walking': 133.3445281982422, 'Greeting': 77.69913482666016, 'Gaming': 114.08109283447266, 'Patting': 120.96575927734375, 'Gesticuling': 90.4188003540039, 'Reacting': 97.33126068115234, 'Talking': 72.93939208984375}}\n"
     ]
    },
    {
     "name": "stderr",
     "output_type": "stream",
     "text": [
      " 67%|██████▋   | 1800/2676 [05:19<02:37,  5.56it/s]"
     ]
    },
    {
     "name": "stdout",
     "output_type": "stream",
     "text": [
      "{'FullBody': {'All': 104.59782409667969, 'UpperStretching': 106.03675079345703, 'LowerStretching': 106.97078704833984, 'Walking': 109.87303161621094, 'Greeting': 79.36508178710938, 'Gaming': 98.56621551513672, 'Patting': 99.02168273925781, 'Gesticuling': 85.18759155273438, 'Reacting': 88.49874877929688, 'Talking': 72.83200073242188}, 'UpperBody': {'All': 92.01448059082031, 'UpperStretching': 99.70004272460938, 'LowerStretching': 78.82054138183594, 'Walking': 86.16392517089844, 'Greeting': 81.2037582397461, 'Gaming': 82.31535339355469, 'Patting': 78.17185974121094, 'Gesticuling': 79.58165740966797, 'Reacting': 79.58082580566406, 'Talking': 72.90169525146484}, 'LowerBody': {'All': 117.1811752319336, 'UpperStretching': 112.37346649169922, 'LowerStretching': 135.1210174560547, 'Walking': 133.58212280273438, 'Greeting': 77.52642059326172, 'Gaming': 114.81707000732422, 'Patting': 119.87149810791016, 'Gesticuling': 90.79352569580078, 'Reacting': 97.4166488647461, 'Talking': 72.76229858398438}}\n"
     ]
    },
    {
     "name": "stderr",
     "output_type": "stream",
     "text": [
      " 75%|███████▍  | 2001/2676 [05:55<02:09,  5.21it/s]"
     ]
    },
    {
     "name": "stdout",
     "output_type": "stream",
     "text": [
      "{'FullBody': {'All': 104.58958435058594, 'UpperStretching': 106.02806091308594, 'LowerStretching': 106.90032196044922, 'Walking': 110.00083923339844, 'Greeting': 79.12186431884766, 'Gaming': 98.447265625, 'Patting': 98.66815185546875, 'Gesticuling': 84.90177154541016, 'Reacting': 88.79141998291016, 'Talking': 72.71161651611328}, 'UpperBody': {'All': 91.96244049072266, 'UpperStretching': 99.66549682617188, 'LowerStretching': 78.73619842529297, 'Walking': 86.19242095947266, 'Greeting': 81.0006103515625, 'Gaming': 82.32196807861328, 'Patting': 77.58958435058594, 'Gesticuling': 79.15084838867188, 'Reacting': 79.63700103759766, 'Talking': 72.8216323852539}, 'LowerBody': {'All': 117.21673583984375, 'UpperStretching': 112.39061737060547, 'LowerStretching': 135.06442260742188, 'Walking': 133.8092498779297, 'Greeting': 77.24311065673828, 'Gaming': 114.57256317138672, 'Patting': 119.7467269897461, 'Gesticuling': 90.65270233154297, 'Reacting': 97.94585418701172, 'Talking': 72.60160827636719}}\n"
     ]
    },
    {
     "name": "stderr",
     "output_type": "stream",
     "text": [
      " 82%|████████▏ | 2201/2676 [06:30<01:23,  5.69it/s]"
     ]
    },
    {
     "name": "stdout",
     "output_type": "stream",
     "text": [
      "{'FullBody': {'All': 104.54281616210938, 'UpperStretching': 106.00765228271484, 'LowerStretching': 106.82600402832031, 'Walking': 109.8211898803711, 'Greeting': 79.23194122314453, 'Gaming': 98.16129302978516, 'Patting': 98.8486557006836, 'Gesticuling': 84.62460327148438, 'Reacting': 89.05010223388672, 'Talking': 72.76448059082031}, 'UpperBody': {'All': 91.9161148071289, 'UpperStretching': 99.62711334228516, 'LowerStretching': 78.64661407470703, 'Walking': 86.15802764892578, 'Greeting': 81.08441162109375, 'Gaming': 81.6634292602539, 'Patting': 77.88005828857422, 'Gesticuling': 78.84868621826172, 'Reacting': 79.57714080810547, 'Talking': 73.10221862792969}, 'LowerBody': {'All': 117.16951751708984, 'UpperStretching': 112.38818359375, 'LowerStretching': 135.00538635253906, 'Walking': 133.4843292236328, 'Greeting': 77.37948608398438, 'Gaming': 114.65914916992188, 'Patting': 119.8172607421875, 'Gesticuling': 90.40049743652344, 'Reacting': 98.5230484008789, 'Talking': 72.42674255371094}}\n"
     ]
    },
    {
     "name": "stderr",
     "output_type": "stream",
     "text": [
      " 90%|████████▉ | 2400/2676 [07:05<00:51,  5.32it/s]"
     ]
    },
    {
     "name": "stdout",
     "output_type": "stream",
     "text": [
      "{'FullBody': {'All': 104.69194030761719, 'UpperStretching': 106.18807983398438, 'LowerStretching': 106.78861236572266, 'Walking': 110.05219268798828, 'Greeting': 79.11698913574219, 'Gaming': 98.58717346191406, 'Patting': 98.6038589477539, 'Gesticuling': 84.70649719238281, 'Reacting': 89.3281021118164, 'Talking': 73.54869079589844}, 'UpperBody': {'All': 91.98519897460938, 'UpperStretching': 99.69891357421875, 'LowerStretching': 78.59906768798828, 'Walking': 86.33070373535156, 'Greeting': 80.91575622558594, 'Gaming': 81.99791717529297, 'Patting': 77.76704406738281, 'Gesticuling': 78.92645263671875, 'Reacting': 79.68809509277344, 'Talking': 73.57988739013672}, 'LowerBody': {'All': 117.398681640625, 'UpperStretching': 112.67724609375, 'LowerStretching': 134.9781494140625, 'Walking': 133.773681640625, 'Greeting': 77.31822967529297, 'Gaming': 115.17642974853516, 'Patting': 119.44068908691406, 'Gesticuling': 90.48654174804688, 'Reacting': 98.9681167602539, 'Talking': 73.51750946044922}}\n"
     ]
    },
    {
     "name": "stderr",
     "output_type": "stream",
     "text": [
      " 97%|█████████▋| 2601/2676 [07:40<00:13,  5.53it/s]"
     ]
    },
    {
     "name": "stdout",
     "output_type": "stream",
     "text": [
      "{'FullBody': {'All': 104.70152282714844, 'UpperStretching': 106.24909210205078, 'LowerStretching': 106.8083267211914, 'Walking': 109.83628845214844, 'Greeting': 78.67225646972656, 'Gaming': 98.32929992675781, 'Patting': 98.55950164794922, 'Gesticuling': 84.90734100341797, 'Reacting': 89.28778076171875, 'Talking': 73.39404296875}, 'UpperBody': {'All': 91.95457458496094, 'UpperStretching': 99.67337799072266, 'LowerStretching': 78.65880584716797, 'Walking': 86.28569793701172, 'Greeting': 80.27361297607422, 'Gaming': 81.98314666748047, 'Patting': 77.56616973876953, 'Gesticuling': 78.9332275390625, 'Reacting': 79.31013488769531, 'Talking': 73.51573944091797}, 'LowerBody': {'All': 117.44847106933594, 'UpperStretching': 112.82479858398438, 'LowerStretching': 134.9578399658203, 'Walking': 133.38690185546875, 'Greeting': 77.07090759277344, 'Gaming': 114.67543029785156, 'Patting': 119.55282592773438, 'Gesticuling': 90.88145446777344, 'Reacting': 99.26542663574219, 'Talking': 73.2723388671875}}\n"
     ]
    },
    {
     "name": "stderr",
     "output_type": "stream",
     "text": [
      "100%|██████████| 2676/2676 [07:52<00:00,  5.66it/s]\n",
      "\u001b[94m02:38:28 \u001b[92m[INFO]\u001b[94m Main\u001b[0m: Saving evaluation results...\n",
      "\u001b[94m02:38:28 \u001b[92m[INFO]\u001b[94m Main\u001b[0m: Done.\n",
      "\u001b[94m02:38:28 \u001b[92m[INFO]\u001b[94m Main\u001b[0m: Starting demo...\n",
      "  0%|          | 0/2676 [00:00<?, ?it/s]/opt/conda/lib/python3.10/site-packages/torchvision/transforms/transforms.py:329: UserWarning: Argument 'interpolation' of type int is deprecated since 0.13 and will be removed in 0.15. Please use InterpolationMode enum.\n",
      "  warnings.warn(\n",
      "/opt/conda/lib/python3.10/site-packages/torchvision/transforms/transforms.py:329: UserWarning: Argument 'interpolation' of type int is deprecated since 0.13 and will be removed in 0.15. Please use InterpolationMode enum.\n",
      "  warnings.warn(\n",
      "/opt/conda/lib/python3.10/site-packages/torchvision/transforms/transforms.py:329: UserWarning: Argument 'interpolation' of type int is deprecated since 0.13 and will be removed in 0.15. Please use InterpolationMode enum.\n",
      "  warnings.warn(\n",
      "/opt/conda/lib/python3.10/site-packages/torchvision/transforms/transforms.py:329: UserWarning: Argument 'interpolation' of type int is deprecated since 0.13 and will be removed in 0.15. Please use InterpolationMode enum.\n",
      "  warnings.warn(\n",
      "/opt/conda/lib/python3.10/site-packages/torchvision/transforms/transforms.py:329: UserWarning: Argument 'interpolation' of type int is deprecated since 0.13 and will be removed in 0.15. Please use InterpolationMode enum.\n",
      "  warnings.warn(\n",
      "/opt/conda/lib/python3.10/site-packages/torchvision/transforms/transforms.py:329: UserWarning: Argument 'interpolation' of type int is deprecated since 0.13 and will be removed in 0.15. Please use InterpolationMode enum.\n",
      "  warnings.warn(\n",
      "/opt/conda/lib/python3.10/site-packages/torchvision/transforms/transforms.py:329: UserWarning: Argument 'interpolation' of type int is deprecated since 0.13 and will be removed in 0.15. Please use InterpolationMode enum.\n",
      "  warnings.warn(\n",
      "/opt/conda/lib/python3.10/site-packages/torchvision/transforms/transforms.py:329: UserWarning: Argument 'interpolation' of type int is deprecated since 0.13 and will be removed in 0.15. Please use InterpolationMode enum.\n",
      "  warnings.warn(\n",
      "/opt/conda/lib/python3.10/site-packages/torchvision/transforms/transforms.py:329: UserWarning: Argument 'interpolation' of type int is deprecated since 0.13 and will be removed in 0.15. Please use InterpolationMode enum.\n",
      "  warnings.warn(\n",
      "/opt/conda/lib/python3.10/site-packages/torchvision/transforms/transforms.py:329: UserWarning: Argument 'interpolation' of type int is deprecated since 0.13 and will be removed in 0.15. Please use InterpolationMode enum.\n",
      "  warnings.warn(\n",
      "/opt/conda/lib/python3.10/site-packages/torchvision/transforms/transforms.py:329: UserWarning: Argument 'interpolation' of type int is deprecated since 0.13 and will be removed in 0.15. Please use InterpolationMode enum.\n",
      "  warnings.warn(\n",
      "/opt/conda/lib/python3.10/site-packages/torchvision/transforms/transforms.py:329: UserWarning: Argument 'interpolation' of type int is deprecated since 0.13 and will be removed in 0.15. Please use InterpolationMode enum.\n",
      "  warnings.warn(\n",
      "/opt/conda/lib/python3.10/site-packages/torchvision/transforms/transforms.py:329: UserWarning: Argument 'interpolation' of type int is deprecated since 0.13 and will be removed in 0.15. Please use InterpolationMode enum.\n",
      "  warnings.warn(\n",
      "/opt/conda/lib/python3.10/site-packages/torchvision/transforms/transforms.py:329: UserWarning: Argument 'interpolation' of type int is deprecated since 0.13 and will be removed in 0.15. Please use InterpolationMode enum.\n",
      "  warnings.warn(\n",
      "/opt/conda/lib/python3.10/site-packages/torchvision/transforms/transforms.py:329: UserWarning: Argument 'interpolation' of type int is deprecated since 0.13 and will be removed in 0.15. Please use InterpolationMode enum.\n",
      "  warnings.warn(\n",
      "/opt/conda/lib/python3.10/site-packages/torchvision/transforms/transforms.py:329: UserWarning: Argument 'interpolation' of type int is deprecated since 0.13 and will be removed in 0.15. Please use InterpolationMode enum.\n",
      "  warnings.warn(\n",
      "/opt/conda/lib/python3.10/site-packages/torchvision/transforms/transforms.py:329: UserWarning: Argument 'interpolation' of type int is deprecated since 0.13 and will be removed in 0.15. Please use InterpolationMode enum.\n",
      "  warnings.warn(\n",
      "/opt/conda/lib/python3.10/site-packages/torchvision/transforms/transforms.py:329: UserWarning: Argument 'interpolation' of type int is deprecated since 0.13 and will be removed in 0.15. Please use InterpolationMode enum.\n",
      "  warnings.warn(\n",
      "/opt/conda/lib/python3.10/site-packages/torchvision/transforms/transforms.py:329: UserWarning: Argument 'interpolation' of type int is deprecated since 0.13 and will be removed in 0.15. Please use InterpolationMode enum.\n",
      "  warnings.warn(\n",
      "/opt/conda/lib/python3.10/site-packages/torchvision/transforms/transforms.py:329: UserWarning: Argument 'interpolation' of type int is deprecated since 0.13 and will be removed in 0.15. Please use InterpolationMode enum.\n",
      "  warnings.warn(\n",
      "/opt/conda/lib/python3.10/site-packages/torchvision/transforms/transforms.py:329: UserWarning: Argument 'interpolation' of type int is deprecated since 0.13 and will be removed in 0.15. Please use InterpolationMode enum.\n",
      "  warnings.warn(\n",
      "/opt/conda/lib/python3.10/site-packages/torchvision/transforms/transforms.py:329: UserWarning: Argument 'interpolation' of type int is deprecated since 0.13 and will be removed in 0.15. Please use InterpolationMode enum.\n",
      "  warnings.warn(\n",
      "/opt/conda/lib/python3.10/site-packages/torchvision/transforms/transforms.py:329: UserWarning: Argument 'interpolation' of type int is deprecated since 0.13 and will be removed in 0.15. Please use InterpolationMode enum.\n",
      "  warnings.warn(\n",
      "/opt/conda/lib/python3.10/site-packages/torchvision/transforms/transforms.py:329: UserWarning: Argument 'interpolation' of type int is deprecated since 0.13 and will be removed in 0.15. Please use InterpolationMode enum.\n",
      "  warnings.warn(\n",
      "  8%|▊         | 201/2676 [00:40<07:00,  5.88it/s]"
     ]
    },
    {
     "name": "stdout",
     "output_type": "stream",
     "text": [
      "{'FullBody': {'All': 69.93885803222656, 'UpperStretching': 70.77257537841797, 'LowerStretching': 70.36036682128906, 'Gaming': 68.69363403320312, 'Walking': 70.78711700439453, 'Reacting': 68.04509735107422, 'Patting': 72.170654296875, 'Talking': 62.414710998535156, 'Greeting': 53.05388259887695, 'Gesticuling': 57.996360778808594}, 'UpperBody': {'All': 55.39720153808594, 'UpperStretching': 59.175514221191406, 'LowerStretching': 46.510929107666016, 'Gaming': 56.64008712768555, 'Walking': 50.679931640625, 'Reacting': 58.659584045410156, 'Patting': 53.464237213134766, 'Talking': 53.14585876464844, 'Greeting': 50.62691879272461, 'Gesticuling': 53.94230270385742}, 'LowerBody': {'All': 84.48050689697266, 'UpperStretching': 82.36963653564453, 'LowerStretching': 94.20980072021484, 'Gaming': 80.74717712402344, 'Walking': 90.89431762695312, 'Reacting': 77.43061065673828, 'Patting': 90.87706756591797, 'Talking': 71.68356323242188, 'Greeting': 55.480838775634766, 'Gesticuling': 62.0504150390625}}\n"
     ]
    },
    {
     "name": "stderr",
     "output_type": "stream",
     "text": [
      " 15%|█▍        | 401/2676 [01:15<06:36,  5.74it/s]"
     ]
    },
    {
     "name": "stdout",
     "output_type": "stream",
     "text": [
      "{'FullBody': {'All': 69.98961639404297, 'UpperStretching': 70.58060455322266, 'LowerStretching': 70.24859619140625, 'Gaming': 67.81778717041016, 'Walking': 72.0594253540039, 'Reacting': 67.75704956054688, 'Patting': 78.77616882324219, 'Talking': 56.923736572265625, 'Greeting': 52.89237594604492, 'Gesticuling': 57.5007438659668}, 'UpperBody': {'All': 55.25299835205078, 'UpperStretching': 58.74720764160156, 'LowerStretching': 46.527587890625, 'Gaming': 55.93586349487305, 'Walking': 51.40812301635742, 'Reacting': 59.32670211791992, 'Patting': 58.47362518310547, 'Talking': 50.58658981323242, 'Greeting': 49.572975158691406, 'Gesticuling': 53.87113571166992}, 'LowerBody': {'All': 84.72622680664062, 'UpperStretching': 82.41400146484375, 'LowerStretching': 93.96959686279297, 'Gaming': 79.69969177246094, 'Walking': 92.71073150634766, 'Reacting': 76.18739318847656, 'Patting': 99.07868957519531, 'Talking': 63.2608757019043, 'Greeting': 56.21177673339844, 'Gesticuling': 61.1303596496582}}\n"
     ]
    },
    {
     "name": "stderr",
     "output_type": "stream",
     "text": [
      " 22%|██▏       | 600/2676 [01:49<05:41,  6.08it/s]"
     ]
    },
    {
     "name": "stdout",
     "output_type": "stream",
     "text": [
      "{'FullBody': {'All': 70.05526733398438, 'UpperStretching': 70.5960693359375, 'LowerStretching': 70.49046325683594, 'Gaming': 67.90940856933594, 'Walking': 72.16207885742188, 'Reacting': 67.79159545898438, 'Patting': 78.65682983398438, 'Talking': 55.69327926635742, 'Greeting': 52.36810302734375, 'Gesticuling': 57.7465934753418}, 'UpperBody': {'All': 55.29835891723633, 'UpperStretching': 58.60360336303711, 'LowerStretching': 46.71119689941406, 'Gaming': 56.22523498535156, 'Walking': 51.413978576660156, 'Reacting': 59.12682342529297, 'Patting': 59.54404830932617, 'Talking': 49.761070251464844, 'Greeting': 49.171268463134766, 'Gesticuling': 54.23190689086914}, 'LowerBody': {'All': 84.81217956542969, 'UpperStretching': 82.5885238647461, 'LowerStretching': 94.26972198486328, 'Gaming': 79.59357452392578, 'Walking': 92.9101791381836, 'Reacting': 76.45638275146484, 'Patting': 97.76961517333984, 'Talking': 61.625492095947266, 'Greeting': 55.56494903564453, 'Gesticuling': 61.26127624511719}}\n"
     ]
    },
    {
     "name": "stderr",
     "output_type": "stream",
     "text": [
      " 30%|██▉       | 801/2676 [02:24<05:13,  5.97it/s]"
     ]
    },
    {
     "name": "stdout",
     "output_type": "stream",
     "text": [
      "{'FullBody': {'All': 70.02519226074219, 'UpperStretching': 70.6566162109375, 'LowerStretching': 70.31613159179688, 'Gaming': 68.63536834716797, 'Walking': 71.91969299316406, 'Reacting': 68.05442810058594, 'Patting': 76.9026107788086, 'Talking': 55.79256820678711, 'Greeting': 51.87059783935547, 'Gesticuling': 57.87852096557617}, 'UpperBody': {'All': 55.380401611328125, 'UpperStretching': 58.763450622558594, 'LowerStretching': 46.516357421875, 'Gaming': 56.26609420776367, 'Walking': 51.213775634765625, 'Reacting': 59.65465545654297, 'Patting': 58.76789474487305, 'Talking': 50.43581771850586, 'Greeting': 48.40021514892578, 'Gesticuling': 54.86320877075195}, 'LowerBody': {'All': 84.66999053955078, 'UpperStretching': 82.5497817993164, 'LowerStretching': 94.11589050292969, 'Gaming': 81.00465393066406, 'Walking': 92.6256103515625, 'Reacting': 76.4542007446289, 'Patting': 95.03731536865234, 'Talking': 61.149314880371094, 'Greeting': 55.34098434448242, 'Gesticuling': 60.893829345703125}}\n"
     ]
    },
    {
     "name": "stderr",
     "output_type": "stream",
     "text": [
      " 37%|███▋      | 1001/2676 [02:59<04:48,  5.81it/s]"
     ]
    },
    {
     "name": "stdout",
     "output_type": "stream",
     "text": [
      "{'FullBody': {'All': 70.0185775756836, 'UpperStretching': 70.64952850341797, 'LowerStretching': 70.39903259277344, 'Gaming': 68.94462585449219, 'Walking': 72.0114517211914, 'Reacting': 67.74417877197266, 'Patting': 76.18861389160156, 'Talking': 55.02269744873047, 'Greeting': 51.63412857055664, 'Gesticuling': 57.67451477050781}, 'UpperBody': {'All': 55.30244445800781, 'UpperStretching': 58.68459701538086, 'LowerStretching': 46.47894287109375, 'Gaming': 56.453399658203125, 'Walking': 51.2629280090332, 'Reacting': 59.418304443359375, 'Patting': 58.539268493652344, 'Talking': 49.8377685546875, 'Greeting': 48.3429069519043, 'Gesticuling': 54.707149505615234}, 'LowerBody': {'All': 84.7347183227539, 'UpperStretching': 82.61445617675781, 'LowerStretching': 94.3191146850586, 'Gaming': 81.43585205078125, 'Walking': 92.75997161865234, 'Reacting': 76.0700454711914, 'Patting': 93.83795166015625, 'Talking': 60.20763397216797, 'Greeting': 54.925350189208984, 'Gesticuling': 60.64189147949219}}\n"
     ]
    },
    {
     "name": "stderr",
     "output_type": "stream",
     "text": [
      " 45%|████▍     | 1201/2676 [03:34<04:11,  5.86it/s]"
     ]
    },
    {
     "name": "stdout",
     "output_type": "stream",
     "text": [
      "{'FullBody': {'All': 70.04943084716797, 'UpperStretching': 70.6026840209961, 'LowerStretching': 70.57438659667969, 'Gaming': 68.69180297851562, 'Walking': 72.11685180664062, 'Reacting': 68.15161895751953, 'Patting': 76.48442077636719, 'Talking': 54.95180892944336, 'Greeting': 51.38246536254883, 'Gesticuling': 57.659568786621094}, 'UpperBody': {'All': 55.28255844116211, 'UpperStretching': 58.62192916870117, 'LowerStretching': 46.463470458984375, 'Gaming': 56.21596145629883, 'Walking': 51.509273529052734, 'Reacting': 59.95696258544922, 'Patting': 58.21711730957031, 'Talking': 49.7244987487793, 'Greeting': 48.15156936645508, 'Gesticuling': 54.473026275634766}, 'LowerBody': {'All': 84.81632232666016, 'UpperStretching': 82.58343505859375, 'LowerStretching': 94.685302734375, 'Gaming': 81.16764831542969, 'Walking': 92.72443389892578, 'Reacting': 76.34628295898438, 'Patting': 94.7517318725586, 'Talking': 60.179134368896484, 'Greeting': 54.61335754394531, 'Gesticuling': 60.84611511230469}}\n"
     ]
    },
    {
     "name": "stderr",
     "output_type": "stream",
     "text": [
      " 52%|█████▏    | 1401/2676 [04:09<03:36,  5.89it/s]"
     ]
    },
    {
     "name": "stdout",
     "output_type": "stream",
     "text": [
      "{'FullBody': {'All': 70.09941101074219, 'UpperStretching': 70.67134857177734, 'LowerStretching': 70.58219909667969, 'Gaming': 68.95269012451172, 'Walking': 72.17996215820312, 'Reacting': 67.97667694091797, 'Patting': 76.74903869628906, 'Talking': 54.68491744995117, 'Greeting': 51.07000732421875, 'Gesticuling': 57.569923400878906}, 'UpperBody': {'All': 55.35657501220703, 'UpperStretching': 58.75052261352539, 'LowerStretching': 46.47565841674805, 'Gaming': 56.488800048828125, 'Walking': 51.47399139404297, 'Reacting': 59.66029739379883, 'Patting': 58.556365966796875, 'Talking': 49.57627487182617, 'Greeting': 47.8025016784668, 'Gesticuling': 54.23451614379883}, 'LowerBody': {'All': 84.84227752685547, 'UpperStretching': 82.59217834472656, 'LowerStretching': 94.6887435913086, 'Gaming': 81.41657257080078, 'Walking': 92.88594055175781, 'Reacting': 76.29305267333984, 'Patting': 94.94171142578125, 'Talking': 59.79356002807617, 'Greeting': 54.3375129699707, 'Gesticuling': 60.905330657958984}}\n"
     ]
    },
    {
     "name": "stderr",
     "output_type": "stream",
     "text": [
      " 60%|█████▉    | 1601/2676 [04:44<03:03,  5.85it/s]"
     ]
    },
    {
     "name": "stdout",
     "output_type": "stream",
     "text": [
      "{'FullBody': {'All': 70.12863159179688, 'UpperStretching': 70.67027282714844, 'LowerStretching': 70.45515441894531, 'Gaming': 69.5538330078125, 'Walking': 72.32719421386719, 'Reacting': 68.18123626708984, 'Patting': 77.56607818603516, 'Talking': 54.21311569213867, 'Greeting': 51.01676940917969, 'Gesticuling': 57.630001068115234}, 'UpperBody': {'All': 55.402313232421875, 'UpperStretching': 58.7824592590332, 'LowerStretching': 46.48476791381836, 'Gaming': 56.661521911621094, 'Walking': 51.54481506347656, 'Reacting': 59.6348876953125, 'Patting': 58.99626541137695, 'Talking': 49.1679801940918, 'Greeting': 47.632789611816406, 'Gesticuling': 54.03311538696289}, 'LowerBody': {'All': 84.85497283935547, 'UpperStretching': 82.5580825805664, 'LowerStretching': 94.425537109375, 'Gaming': 82.4461441040039, 'Walking': 93.10958862304688, 'Reacting': 76.7275619506836, 'Patting': 96.13587951660156, 'Talking': 59.25825119018555, 'Greeting': 54.400753021240234, 'Gesticuling': 61.22688674926758}}\n"
     ]
    },
    {
     "name": "stderr",
     "output_type": "stream",
     "text": [
      " 67%|██████▋   | 1801/2676 [05:19<02:59,  4.88it/s]"
     ]
    },
    {
     "name": "stdout",
     "output_type": "stream",
     "text": [
      "{'FullBody': {'All': 70.05989074707031, 'UpperStretching': 70.578125, 'LowerStretching': 70.40440368652344, 'Gaming': 69.85482025146484, 'Walking': 72.39891815185547, 'Reacting': 67.95542907714844, 'Patting': 77.1123275756836, 'Talking': 53.945884704589844, 'Greeting': 50.79732894897461, 'Gesticuling': 57.838584899902344}, 'UpperBody': {'All': 55.3323974609375, 'UpperStretching': 58.65997314453125, 'LowerStretching': 46.463035583496094, 'Gaming': 56.91881561279297, 'Walking': 51.55673599243164, 'Reacting': 59.526729583740234, 'Patting': 58.75783920288086, 'Talking': 49.15580749511719, 'Greeting': 47.47046661376953, 'Gesticuling': 54.32036209106445}, 'LowerBody': {'All': 84.78740692138672, 'UpperStretching': 82.49626922607422, 'LowerStretching': 94.34577178955078, 'Gaming': 82.79082489013672, 'Walking': 93.24109649658203, 'Reacting': 76.38412475585938, 'Patting': 95.46681213378906, 'Talking': 58.73596954345703, 'Greeting': 54.12419128417969, 'Gesticuling': 61.3568115234375}}\n"
     ]
    },
    {
     "name": "stderr",
     "output_type": "stream",
     "text": [
      " 75%|███████▍  | 2001/2676 [05:54<01:56,  5.77it/s]"
     ]
    },
    {
     "name": "stdout",
     "output_type": "stream",
     "text": [
      "{'FullBody': {'All': 70.11856079101562, 'UpperStretching': 70.67787170410156, 'LowerStretching': 70.29190063476562, 'Gaming': 70.26222229003906, 'Walking': 72.32591247558594, 'Reacting': 68.21918487548828, 'Patting': 77.742431640625, 'Talking': 53.95719909667969, 'Greeting': 50.80092239379883, 'Gesticuling': 57.78922653198242}, 'UpperBody': {'All': 55.327003479003906, 'UpperStretching': 58.666900634765625, 'LowerStretching': 46.3855094909668, 'Gaming': 56.98832321166992, 'Walking': 51.501399993896484, 'Reacting': 59.72371292114258, 'Patting': 59.0115852355957, 'Talking': 49.11125564575195, 'Greeting': 47.658233642578125, 'Gesticuling': 54.22602081298828}, 'LowerBody': {'All': 84.9101333618164, 'UpperStretching': 82.68882751464844, 'LowerStretching': 94.19828796386719, 'Gaming': 83.53611755371094, 'Walking': 93.15043640136719, 'Reacting': 76.71465301513672, 'Patting': 96.4732894897461, 'Talking': 58.803138732910156, 'Greeting': 53.943607330322266, 'Gesticuling': 61.35243606567383}}\n"
     ]
    },
    {
     "name": "stderr",
     "output_type": "stream",
     "text": [
      " 82%|████████▏ | 2201/2676 [06:29<01:24,  5.63it/s]"
     ]
    },
    {
     "name": "stdout",
     "output_type": "stream",
     "text": [
      "{'FullBody': {'All': 70.14653778076172, 'UpperStretching': 70.68069458007812, 'LowerStretching': 70.35472869873047, 'Gaming': 70.14222717285156, 'Walking': 72.2942123413086, 'Reacting': 68.50843048095703, 'Patting': 78.4927749633789, 'Talking': 54.043399810791016, 'Greeting': 50.70586013793945, 'Gesticuling': 57.7523307800293}, 'UpperBody': {'All': 55.36039733886719, 'UpperStretching': 58.68684768676758, 'LowerStretching': 46.401798248291016, 'Gaming': 57.052467346191406, 'Walking': 51.48429870605469, 'Reacting': 60.146690368652344, 'Patting': 59.172119140625, 'Talking': 49.31151580810547, 'Greeting': 47.633323669433594, 'Gesticuling': 54.18635940551758}, 'LowerBody': {'All': 84.93267822265625, 'UpperStretching': 82.6745376586914, 'LowerStretching': 94.30766296386719, 'Gaming': 83.23197174072266, 'Walking': 93.10413360595703, 'Reacting': 76.87017822265625, 'Patting': 97.81343078613281, 'Talking': 58.775291442871094, 'Greeting': 53.77839660644531, 'Gesticuling': 61.318302154541016}}\n"
     ]
    },
    {
     "name": "stderr",
     "output_type": "stream",
     "text": [
      " 90%|████████▉ | 2400/2676 [07:04<00:50,  5.51it/s]"
     ]
    },
    {
     "name": "stdout",
     "output_type": "stream",
     "text": [
      "{'FullBody': {'All': 70.10913848876953, 'UpperStretching': 70.64977264404297, 'LowerStretching': 70.31510162353516, 'Gaming': 70.0918960571289, 'Walking': 72.12757873535156, 'Reacting': 68.33198547363281, 'Patting': 78.68014526367188, 'Talking': 54.64494705200195, 'Greeting': 50.80317306518555, 'Gesticuling': 57.76118469238281}, 'UpperBody': {'All': 55.37437438964844, 'UpperStretching': 58.72146987915039, 'LowerStretching': 46.395381927490234, 'Gaming': 57.168338775634766, 'Walking': 51.41545486450195, 'Reacting': 60.017494201660156, 'Patting': 59.36505889892578, 'Talking': 49.74433898925781, 'Greeting': 47.821598052978516, 'Gesticuling': 54.15840530395508}, 'LowerBody': {'All': 84.84391021728516, 'UpperStretching': 82.57807159423828, 'LowerStretching': 94.23481750488281, 'Gaming': 83.01544189453125, 'Walking': 92.83969116210938, 'Reacting': 76.646484375, 'Patting': 97.9952621459961, 'Talking': 59.545555114746094, 'Greeting': 53.78474426269531, 'Gesticuling': 61.36396408081055}}\n"
     ]
    },
    {
     "name": "stderr",
     "output_type": "stream",
     "text": [
      " 97%|█████████▋| 2601/2676 [07:39<00:13,  5.42it/s]"
     ]
    },
    {
     "name": "stdout",
     "output_type": "stream",
     "text": [
      "{'FullBody': {'All': 70.0792465209961, 'UpperStretching': 70.60955810546875, 'LowerStretching': 70.36090850830078, 'Gaming': 70.07920837402344, 'Walking': 72.06908416748047, 'Reacting': 68.25267791748047, 'Patting': 78.29003143310547, 'Talking': 54.509857177734375, 'Greeting': 50.92690658569336, 'Gesticuling': 57.79312515258789}, 'UpperBody': {'All': 55.356483459472656, 'UpperStretching': 58.713417053222656, 'LowerStretching': 46.40778732299805, 'Gaming': 57.08708572387695, 'Walking': 51.3636474609375, 'Reacting': 59.950016021728516, 'Patting': 58.97272872924805, 'Talking': 49.57301712036133, 'Greeting': 47.98863983154297, 'Gesticuling': 54.172115325927734}, 'LowerBody': {'All': 84.8020248413086, 'UpperStretching': 82.50569915771484, 'LowerStretching': 94.31402587890625, 'Gaming': 83.07133483886719, 'Walking': 92.77452087402344, 'Reacting': 76.55533599853516, 'Patting': 97.60733795166016, 'Talking': 59.446693420410156, 'Greeting': 53.86518096923828, 'Gesticuling': 61.41413497924805}}\n"
     ]
    },
    {
     "name": "stderr",
     "output_type": "stream",
     "text": [
      "100%|██████████| 2676/2676 [07:52<00:00,  5.67it/s]\n",
      "\u001b[94m02:46:22 \u001b[92m[INFO]\u001b[94m Main\u001b[0m: Saving evaluation results...\n",
      "\u001b[94m02:46:22 \u001b[92m[INFO]\u001b[94m Main\u001b[0m: Done.\n",
      "\u001b[94m02:46:22 \u001b[92m[INFO]\u001b[94m Main\u001b[0m: Starting demo...\n",
      "  0%|          | 0/2676 [00:00<?, ?it/s]/opt/conda/lib/python3.10/site-packages/torchvision/transforms/transforms.py:329: UserWarning: Argument 'interpolation' of type int is deprecated since 0.13 and will be removed in 0.15. Please use InterpolationMode enum.\n",
      "  warnings.warn(\n",
      "/opt/conda/lib/python3.10/site-packages/torchvision/transforms/transforms.py:329: UserWarning: Argument 'interpolation' of type int is deprecated since 0.13 and will be removed in 0.15. Please use InterpolationMode enum.\n",
      "  warnings.warn(\n",
      "/opt/conda/lib/python3.10/site-packages/torchvision/transforms/transforms.py:329: UserWarning: Argument 'interpolation' of type int is deprecated since 0.13 and will be removed in 0.15. Please use InterpolationMode enum.\n",
      "  warnings.warn(\n",
      "/opt/conda/lib/python3.10/site-packages/torchvision/transforms/transforms.py:329: UserWarning: Argument 'interpolation' of type int is deprecated since 0.13 and will be removed in 0.15. Please use InterpolationMode enum.\n",
      "  warnings.warn(\n",
      "/opt/conda/lib/python3.10/site-packages/torchvision/transforms/transforms.py:329: UserWarning: Argument 'interpolation' of type int is deprecated since 0.13 and will be removed in 0.15. Please use InterpolationMode enum.\n",
      "  warnings.warn(\n",
      "/opt/conda/lib/python3.10/site-packages/torchvision/transforms/transforms.py:329: UserWarning: Argument 'interpolation' of type int is deprecated since 0.13 and will be removed in 0.15. Please use InterpolationMode enum.\n",
      "  warnings.warn(\n",
      "/opt/conda/lib/python3.10/site-packages/torchvision/transforms/transforms.py:329: UserWarning: Argument 'interpolation' of type int is deprecated since 0.13 and will be removed in 0.15. Please use InterpolationMode enum.\n",
      "  warnings.warn(\n",
      "/opt/conda/lib/python3.10/site-packages/torchvision/transforms/transforms.py:329: UserWarning: Argument 'interpolation' of type int is deprecated since 0.13 and will be removed in 0.15. Please use InterpolationMode enum.\n",
      "  warnings.warn(\n",
      "/opt/conda/lib/python3.10/site-packages/torchvision/transforms/transforms.py:329: UserWarning: Argument 'interpolation' of type int is deprecated since 0.13 and will be removed in 0.15. Please use InterpolationMode enum.\n",
      "  warnings.warn(\n",
      "/opt/conda/lib/python3.10/site-packages/torchvision/transforms/transforms.py:329: UserWarning: Argument 'interpolation' of type int is deprecated since 0.13 and will be removed in 0.15. Please use InterpolationMode enum.\n",
      "  warnings.warn(\n",
      "/opt/conda/lib/python3.10/site-packages/torchvision/transforms/transforms.py:329: UserWarning: Argument 'interpolation' of type int is deprecated since 0.13 and will be removed in 0.15. Please use InterpolationMode enum.\n",
      "  warnings.warn(\n",
      "/opt/conda/lib/python3.10/site-packages/torchvision/transforms/transforms.py:329: UserWarning: Argument 'interpolation' of type int is deprecated since 0.13 and will be removed in 0.15. Please use InterpolationMode enum.\n",
      "  warnings.warn(\n",
      "/opt/conda/lib/python3.10/site-packages/torchvision/transforms/transforms.py:329: UserWarning: Argument 'interpolation' of type int is deprecated since 0.13 and will be removed in 0.15. Please use InterpolationMode enum.\n",
      "  warnings.warn(\n",
      "/opt/conda/lib/python3.10/site-packages/torchvision/transforms/transforms.py:329: UserWarning: Argument 'interpolation' of type int is deprecated since 0.13 and will be removed in 0.15. Please use InterpolationMode enum.\n",
      "  warnings.warn(\n",
      "/opt/conda/lib/python3.10/site-packages/torchvision/transforms/transforms.py:329: UserWarning: Argument 'interpolation' of type int is deprecated since 0.13 and will be removed in 0.15. Please use InterpolationMode enum.\n",
      "  warnings.warn(\n",
      "/opt/conda/lib/python3.10/site-packages/torchvision/transforms/transforms.py:329: UserWarning: Argument 'interpolation' of type int is deprecated since 0.13 and will be removed in 0.15. Please use InterpolationMode enum.\n",
      "  warnings.warn(\n",
      "/opt/conda/lib/python3.10/site-packages/torchvision/transforms/transforms.py:329: UserWarning: Argument 'interpolation' of type int is deprecated since 0.13 and will be removed in 0.15. Please use InterpolationMode enum.\n",
      "  warnings.warn(\n",
      "/opt/conda/lib/python3.10/site-packages/torchvision/transforms/transforms.py:329: UserWarning: Argument 'interpolation' of type int is deprecated since 0.13 and will be removed in 0.15. Please use InterpolationMode enum.\n",
      "  warnings.warn(\n",
      "/opt/conda/lib/python3.10/site-packages/torchvision/transforms/transforms.py:329: UserWarning: Argument 'interpolation' of type int is deprecated since 0.13 and will be removed in 0.15. Please use InterpolationMode enum.\n",
      "  warnings.warn(\n",
      "/opt/conda/lib/python3.10/site-packages/torchvision/transforms/transforms.py:329: UserWarning: Argument 'interpolation' of type int is deprecated since 0.13 and will be removed in 0.15. Please use InterpolationMode enum.\n",
      "  warnings.warn(\n",
      "/opt/conda/lib/python3.10/site-packages/torchvision/transforms/transforms.py:329: UserWarning: Argument 'interpolation' of type int is deprecated since 0.13 and will be removed in 0.15. Please use InterpolationMode enum.\n",
      "  warnings.warn(\n",
      "/opt/conda/lib/python3.10/site-packages/torchvision/transforms/transforms.py:329: UserWarning: Argument 'interpolation' of type int is deprecated since 0.13 and will be removed in 0.15. Please use InterpolationMode enum.\n",
      "  warnings.warn(\n",
      "/opt/conda/lib/python3.10/site-packages/torchvision/transforms/transforms.py:329: UserWarning: Argument 'interpolation' of type int is deprecated since 0.13 and will be removed in 0.15. Please use InterpolationMode enum.\n",
      "  warnings.warn(\n",
      "/opt/conda/lib/python3.10/site-packages/torchvision/transforms/transforms.py:329: UserWarning: Argument 'interpolation' of type int is deprecated since 0.13 and will be removed in 0.15. Please use InterpolationMode enum.\n",
      "  warnings.warn(\n",
      "  8%|▊         | 201/2676 [00:40<06:52,  5.99it/s]"
     ]
    },
    {
     "name": "stdout",
     "output_type": "stream",
     "text": [
      "{'FullBody': {'All': 75.20352935791016, 'UpperStretching': 76.63275909423828, 'LowerStretching': 75.46994018554688, 'Walking': 76.4727554321289, 'Reacting': 70.5328140258789, 'Patting': 72.92443084716797, 'Gaming': 76.11723327636719, 'Talking': 59.46892166137695, 'Gesticuling': 58.403255462646484, 'Greeting': 54.30760192871094}, 'UpperBody': {'All': 56.817840576171875, 'UpperStretching': 60.67306137084961, 'LowerStretching': 47.790321350097656, 'Walking': 52.09214401245117, 'Reacting': 60.50493240356445, 'Patting': 56.25403594970703, 'Gaming': 54.8602294921875, 'Talking': 51.22859191894531, 'Gesticuling': 52.99162292480469, 'Greeting': 49.69484329223633}, 'LowerBody': {'All': 93.58921813964844, 'UpperStretching': 92.59245300292969, 'LowerStretching': 103.14955139160156, 'Walking': 100.8533706665039, 'Reacting': 80.5606918334961, 'Patting': 89.59483337402344, 'Gaming': 97.37422180175781, 'Talking': 67.70925903320312, 'Gesticuling': 63.81488037109375, 'Greeting': 58.920352935791016}}\n"
     ]
    },
    {
     "name": "stderr",
     "output_type": "stream",
     "text": [
      " 15%|█▍        | 401/2676 [01:15<06:35,  5.76it/s]"
     ]
    },
    {
     "name": "stdout",
     "output_type": "stream",
     "text": [
      "{'FullBody': {'All': 75.38711547851562, 'UpperStretching': 76.71141815185547, 'LowerStretching': 75.479248046875, 'Walking': 76.53473663330078, 'Reacting': 71.53084564208984, 'Patting': 75.816162109375, 'Gaming': 75.49713134765625, 'Talking': 58.12775802612305, 'Gesticuling': 58.99360275268555, 'Greeting': 55.58013916015625}, 'UpperBody': {'All': 56.615989685058594, 'UpperStretching': 60.505104064941406, 'LowerStretching': 47.45662307739258, 'Walking': 51.802513122558594, 'Reacting': 60.17763900756836, 'Patting': 57.004150390625, 'Gaming': 55.306968688964844, 'Talking': 49.8759651184082, 'Gesticuling': 53.10634994506836, 'Greeting': 49.78232955932617}, 'LowerBody': {'All': 94.15824127197266, 'UpperStretching': 92.91773223876953, 'LowerStretching': 103.50186920166016, 'Walking': 101.2669677734375, 'Reacting': 82.88404846191406, 'Patting': 94.628173828125, 'Gaming': 95.68730163574219, 'Talking': 66.3795394897461, 'Gesticuling': 64.88084411621094, 'Greeting': 61.37793731689453}}\n"
     ]
    },
    {
     "name": "stderr",
     "output_type": "stream",
     "text": [
      " 22%|██▏       | 601/2676 [01:49<06:14,  5.55it/s]"
     ]
    },
    {
     "name": "stdout",
     "output_type": "stream",
     "text": [
      "{'FullBody': {'All': 75.30786895751953, 'UpperStretching': 76.48533630371094, 'LowerStretching': 75.39728546142578, 'Walking': 76.78400421142578, 'Reacting': 72.3220443725586, 'Patting': 75.84701538085938, 'Gaming': 74.52132415771484, 'Talking': 58.0908317565918, 'Gesticuling': 59.49160385131836, 'Greeting': 55.71917724609375}, 'UpperBody': {'All': 56.59452438354492, 'UpperStretching': 60.40116500854492, 'LowerStretching': 47.32453536987305, 'Walking': 51.91670227050781, 'Reacting': 60.897972106933594, 'Patting': 57.94189453125, 'Gaming': 54.74969482421875, 'Talking': 50.218414306640625, 'Gesticuling': 53.0922737121582, 'Greeting': 49.694602966308594}, 'LowerBody': {'All': 94.0212173461914, 'UpperStretching': 92.56948852539062, 'LowerStretching': 103.47003936767578, 'Walking': 101.65130615234375, 'Reacting': 83.7461166381836, 'Patting': 93.75213623046875, 'Gaming': 94.2929458618164, 'Talking': 65.96324920654297, 'Gesticuling': 65.89094543457031, 'Greeting': 61.74374771118164}}\n"
     ]
    },
    {
     "name": "stderr",
     "output_type": "stream",
     "text": [
      " 30%|██▉       | 801/2676 [02:24<05:19,  5.88it/s]"
     ]
    },
    {
     "name": "stdout",
     "output_type": "stream",
     "text": [
      "{'FullBody': {'All': 75.23906707763672, 'UpperStretching': 76.23812866210938, 'LowerStretching': 75.37504577636719, 'Walking': 76.86920928955078, 'Reacting': 73.07679748535156, 'Patting': 76.54924011230469, 'Gaming': 75.50202941894531, 'Talking': 59.437442779541016, 'Gesticuling': 59.35826873779297, 'Greeting': 56.01127624511719}, 'UpperBody': {'All': 56.478023529052734, 'UpperStretching': 60.21593475341797, 'LowerStretching': 47.3079833984375, 'Walking': 51.75260543823242, 'Reacting': 61.656646728515625, 'Patting': 58.11372375488281, 'Gaming': 54.64307403564453, 'Talking': 50.60549545288086, 'Gesticuling': 52.59377670288086, 'Greeting': 50.45008087158203}, 'LowerBody': {'All': 94.00010681152344, 'UpperStretching': 92.26030731201172, 'LowerStretching': 103.44208526611328, 'Walking': 101.98583221435547, 'Reacting': 84.49694061279297, 'Patting': 94.9847412109375, 'Gaming': 96.36097717285156, 'Talking': 68.2693862915039, 'Gesticuling': 66.12275695800781, 'Greeting': 61.57246780395508}}\n"
     ]
    },
    {
     "name": "stderr",
     "output_type": "stream",
     "text": [
      " 37%|███▋      | 1001/2676 [02:59<04:44,  5.89it/s]"
     ]
    },
    {
     "name": "stdout",
     "output_type": "stream",
     "text": [
      "{'FullBody': {'All': 75.45829010009766, 'UpperStretching': 76.51377868652344, 'LowerStretching': 75.56368255615234, 'Walking': 77.13033294677734, 'Reacting': 72.61157989501953, 'Patting': 76.28907775878906, 'Gaming': 75.36647033691406, 'Talking': 59.636592864990234, 'Gesticuling': 59.37004852294922, 'Greeting': 56.48527908325195}, 'UpperBody': {'All': 56.55937576293945, 'UpperStretching': 60.40493392944336, 'LowerStretching': 47.30501937866211, 'Walking': 51.886138916015625, 'Reacting': 60.984989166259766, 'Patting': 57.77069091796875, 'Gaming': 54.639495849609375, 'Talking': 51.30344009399414, 'Gesticuling': 52.633365631103516, 'Greeting': 50.517940521240234}, 'LowerBody': {'All': 94.3572006225586, 'UpperStretching': 92.62261962890625, 'LowerStretching': 103.82234191894531, 'Walking': 102.3745346069336, 'Reacting': 84.2381591796875, 'Patting': 94.80745697021484, 'Gaming': 96.09346008300781, 'Talking': 67.9697494506836, 'Gesticuling': 66.10672760009766, 'Greeting': 62.452613830566406}}\n"
     ]
    },
    {
     "name": "stderr",
     "output_type": "stream",
     "text": [
      " 45%|████▍     | 1200/2676 [03:34<05:01,  4.90it/s]"
     ]
    },
    {
     "name": "stdout",
     "output_type": "stream",
     "text": [
      "{'FullBody': {'All': 75.3643569946289, 'UpperStretching': 76.3615951538086, 'LowerStretching': 75.486083984375, 'Walking': 76.98097229003906, 'Reacting': 73.08342742919922, 'Patting': 77.03836822509766, 'Gaming': 75.4408187866211, 'Talking': 59.1323356628418, 'Gesticuling': 59.82537078857422, 'Greeting': 56.421749114990234}, 'UpperBody': {'All': 56.54837417602539, 'UpperStretching': 60.38130187988281, 'LowerStretching': 47.30077362060547, 'Walking': 51.76128005981445, 'Reacting': 61.40924835205078, 'Patting': 58.004608154296875, 'Gaming': 54.22548294067383, 'Talking': 51.115928649902344, 'Gesticuling': 53.02068328857422, 'Greeting': 50.27765655517578}, 'LowerBody': {'All': 94.18032836914062, 'UpperStretching': 92.34191131591797, 'LowerStretching': 103.67138671875, 'Walking': 102.20066833496094, 'Reacting': 84.75760650634766, 'Patting': 96.07211303710938, 'Gaming': 96.65615844726562, 'Talking': 67.14872741699219, 'Gesticuling': 66.63005065917969, 'Greeting': 62.565853118896484}}\n"
     ]
    },
    {
     "name": "stderr",
     "output_type": "stream",
     "text": [
      " 52%|█████▏    | 1401/2676 [04:09<03:38,  5.82it/s]"
     ]
    },
    {
     "name": "stdout",
     "output_type": "stream",
     "text": [
      "{'FullBody': {'All': 75.28296661376953, 'UpperStretching': 76.38639831542969, 'LowerStretching': 75.30107879638672, 'Walking': 76.76766967773438, 'Reacting': 72.65187072753906, 'Patting': 76.93949890136719, 'Gaming': 74.53740692138672, 'Talking': 58.96982955932617, 'Gesticuling': 59.79752731323242, 'Greeting': 56.81610870361328}, 'UpperBody': {'All': 56.560176849365234, 'UpperStretching': 60.49359893798828, 'LowerStretching': 47.159454345703125, 'Walking': 51.74867248535156, 'Reacting': 60.80762481689453, 'Patting': 57.894813537597656, 'Gaming': 54.012184143066406, 'Talking': 51.212528228759766, 'Gesticuling': 52.7947883605957, 'Greeting': 50.71387481689453}, 'LowerBody': {'All': 94.0057601928711, 'UpperStretching': 92.27920532226562, 'LowerStretching': 103.44270324707031, 'Walking': 101.78666687011719, 'Reacting': 84.4961166381836, 'Patting': 95.98418426513672, 'Gaming': 95.06262969970703, 'Talking': 66.72713470458984, 'Gesticuling': 66.8002700805664, 'Greeting': 62.91832733154297}}\n"
     ]
    },
    {
     "name": "stderr",
     "output_type": "stream",
     "text": [
      " 60%|█████▉    | 1601/2676 [04:44<03:09,  5.67it/s]"
     ]
    },
    {
     "name": "stdout",
     "output_type": "stream",
     "text": [
      "{'FullBody': {'All': 75.2855453491211, 'UpperStretching': 76.34088897705078, 'LowerStretching': 75.31041717529297, 'Walking': 77.01472473144531, 'Reacting': 72.99063873291016, 'Patting': 76.6748275756836, 'Gaming': 74.78421783447266, 'Talking': 58.96918869018555, 'Gesticuling': 59.584598541259766, 'Greeting': 56.61309051513672}, 'UpperBody': {'All': 56.57769012451172, 'UpperStretching': 60.491146087646484, 'LowerStretching': 47.17988967895508, 'Walking': 51.862037658691406, 'Reacting': 61.21693801879883, 'Patting': 57.41780090332031, 'Gaming': 54.03146743774414, 'Talking': 51.22360610961914, 'Gesticuling': 52.68465805053711, 'Greeting': 50.8697395324707}, 'LowerBody': {'All': 93.99340057373047, 'UpperStretching': 92.19063568115234, 'LowerStretching': 103.44093322753906, 'Walking': 102.16741943359375, 'Reacting': 84.76433563232422, 'Patting': 95.93184661865234, 'Gaming': 95.5369644165039, 'Talking': 66.71475982666016, 'Gesticuling': 66.48453521728516, 'Greeting': 62.35643768310547}}\n"
     ]
    },
    {
     "name": "stderr",
     "output_type": "stream",
     "text": [
      " 67%|██████▋   | 1800/2676 [05:19<02:50,  5.14it/s]"
     ]
    },
    {
     "name": "stdout",
     "output_type": "stream",
     "text": [
      "{'FullBody': {'All': 75.26217651367188, 'UpperStretching': 76.3609619140625, 'LowerStretching': 75.25818634033203, 'Walking': 76.89299774169922, 'Reacting': 73.00979614257812, 'Patting': 76.16780853271484, 'Gaming': 74.99944305419922, 'Talking': 59.172142028808594, 'Gesticuling': 59.5917854309082, 'Greeting': 56.19854736328125}, 'UpperBody': {'All': 56.563316345214844, 'UpperStretching': 60.50225830078125, 'LowerStretching': 47.167022705078125, 'Walking': 51.81095886230469, 'Reacting': 61.36809158325195, 'Patting': 57.052207946777344, 'Gaming': 54.07890701293945, 'Talking': 51.43164825439453, 'Gesticuling': 52.77827453613281, 'Greeting': 50.59008026123047}, 'LowerBody': {'All': 93.9610595703125, 'UpperStretching': 92.21968078613281, 'LowerStretching': 103.34934997558594, 'Walking': 101.97502899169922, 'Reacting': 84.65150451660156, 'Patting': 95.28339385986328, 'Gaming': 95.91996765136719, 'Talking': 66.91263580322266, 'Gesticuling': 66.40530395507812, 'Greeting': 61.8070182800293}}\n"
     ]
    },
    {
     "name": "stderr",
     "output_type": "stream",
     "text": [
      " 75%|███████▍  | 2001/2676 [05:54<01:58,  5.71it/s]"
     ]
    },
    {
     "name": "stdout",
     "output_type": "stream",
     "text": [
      "{'FullBody': {'All': 75.28936004638672, 'UpperStretching': 76.40674591064453, 'LowerStretching': 75.12738800048828, 'Walking': 76.98394775390625, 'Reacting': 72.92192840576172, 'Patting': 77.05065155029297, 'Gaming': 75.19711303710938, 'Talking': 59.110321044921875, 'Gesticuling': 59.5234375, 'Greeting': 56.569068908691406}, 'UpperBody': {'All': 56.58173370361328, 'UpperStretching': 60.52412414550781, 'LowerStretching': 47.092323303222656, 'Walking': 51.90473556518555, 'Reacting': 61.165897369384766, 'Patting': 57.56059265136719, 'Gaming': 54.25600814819336, 'Talking': 51.38877868652344, 'Gesticuling': 52.74668884277344, 'Greeting': 51.052085876464844}, 'LowerBody': {'All': 93.99698638916016, 'UpperStretching': 92.28936767578125, 'LowerStretching': 103.1624526977539, 'Walking': 102.06315612792969, 'Reacting': 84.67794799804688, 'Patting': 96.54070281982422, 'Gaming': 96.13821411132812, 'Talking': 66.83186340332031, 'Gesticuling': 66.30017852783203, 'Greeting': 62.08605194091797}}\n"
     ]
    },
    {
     "name": "stderr",
     "output_type": "stream",
     "text": [
      " 82%|████████▏ | 2201/2676 [06:30<01:25,  5.57it/s]"
     ]
    },
    {
     "name": "stdout",
     "output_type": "stream",
     "text": [
      "{'FullBody': {'All': 75.27206420898438, 'UpperStretching': 76.30506134033203, 'LowerStretching': 75.22574615478516, 'Walking': 77.07157135009766, 'Reacting': 73.01612091064453, 'Patting': 77.31462097167969, 'Gaming': 75.189453125, 'Talking': 59.71170425415039, 'Gesticuling': 59.46869659423828, 'Greeting': 56.79072570800781}, 'UpperBody': {'All': 56.55198287963867, 'UpperStretching': 60.44365310668945, 'LowerStretching': 47.12616729736328, 'Walking': 51.96186447143555, 'Reacting': 61.325401306152344, 'Patting': 57.25749588012695, 'Gaming': 54.33250045776367, 'Talking': 51.91545867919922, 'Gesticuling': 52.78646469116211, 'Greeting': 51.21897506713867}, 'LowerBody': {'All': 93.99215698242188, 'UpperStretching': 92.1664810180664, 'LowerStretching': 103.3253173828125, 'Walking': 102.18126678466797, 'Reacting': 84.70684051513672, 'Patting': 97.37174987792969, 'Gaming': 96.04639434814453, 'Talking': 67.50794982910156, 'Gesticuling': 66.15092468261719, 'Greeting': 62.36247634887695}}\n"
     ]
    },
    {
     "name": "stderr",
     "output_type": "stream",
     "text": [
      " 90%|████████▉ | 2400/2676 [07:04<00:50,  5.49it/s]"
     ]
    },
    {
     "name": "stdout",
     "output_type": "stream",
     "text": [
      "{'FullBody': {'All': 75.27287292480469, 'UpperStretching': 76.31175994873047, 'LowerStretching': 75.15719604492188, 'Walking': 77.14482879638672, 'Reacting': 72.96607208251953, 'Patting': 77.69657897949219, 'Gaming': 75.1476058959961, 'Talking': 59.7318229675293, 'Gesticuling': 59.36866760253906, 'Greeting': 56.72620391845703}, 'UpperBody': {'All': 56.58161544799805, 'UpperStretching': 60.47219467163086, 'LowerStretching': 47.12924575805664, 'Walking': 51.92649459838867, 'Reacting': 61.3250732421875, 'Patting': 57.55851745605469, 'Gaming': 54.372562408447266, 'Talking': 51.90827560424805, 'Gesticuling': 52.7244758605957, 'Greeting': 51.293758392333984}, 'LowerBody': {'All': 93.96414184570312, 'UpperStretching': 92.1513442993164, 'LowerStretching': 103.18514251708984, 'Walking': 102.36315155029297, 'Reacting': 84.6070785522461, 'Patting': 97.83464050292969, 'Gaming': 95.92265319824219, 'Talking': 67.55536651611328, 'Gesticuling': 66.01286315917969, 'Greeting': 62.15866470336914}}\n"
     ]
    },
    {
     "name": "stderr",
     "output_type": "stream",
     "text": [
      " 97%|█████████▋| 2601/2676 [07:40<00:14,  5.13it/s]"
     ]
    },
    {
     "name": "stdout",
     "output_type": "stream",
     "text": [
      "{'FullBody': {'All': 75.26911926269531, 'UpperStretching': 76.34017181396484, 'LowerStretching': 75.02796173095703, 'Walking': 77.08155059814453, 'Reacting': 72.91203308105469, 'Patting': 77.5444107055664, 'Gaming': 75.35457611083984, 'Talking': 59.6963996887207, 'Gesticuling': 59.427703857421875, 'Greeting': 56.87104034423828}, 'UpperBody': {'All': 56.574554443359375, 'UpperStretching': 60.49871826171875, 'LowerStretching': 47.060333251953125, 'Walking': 51.880130767822266, 'Reacting': 61.23436737060547, 'Patting': 57.48672866821289, 'Gaming': 54.320003509521484, 'Talking': 51.93197250366211, 'Gesticuling': 52.774906158447266, 'Greeting': 51.1944465637207}, 'LowerBody': {'All': 93.96369934082031, 'UpperStretching': 92.18163299560547, 'LowerStretching': 102.99559020996094, 'Walking': 102.28295135498047, 'Reacting': 84.58971405029297, 'Patting': 97.60210418701172, 'Gaming': 96.38914489746094, 'Talking': 67.46082305908203, 'Gesticuling': 66.08049774169922, 'Greeting': 62.54762649536133}}\n"
     ]
    },
    {
     "name": "stderr",
     "output_type": "stream",
     "text": [
      "100%|██████████| 2676/2676 [07:52<00:00,  5.66it/s]\n",
      "\u001b[94m02:54:16 \u001b[92m[INFO]\u001b[94m Main\u001b[0m: Saving evaluation results...\n",
      "\u001b[94m02:54:16 \u001b[92m[INFO]\u001b[94m Main\u001b[0m: Done.\n",
      "\u001b[94m02:54:16 \u001b[92m[INFO]\u001b[94m Main\u001b[0m: Starting demo...\n",
      "  0%|          | 0/2676 [00:00<?, ?it/s]/opt/conda/lib/python3.10/site-packages/torchvision/transforms/transforms.py:329: UserWarning: Argument 'interpolation' of type int is deprecated since 0.13 and will be removed in 0.15. Please use InterpolationMode enum.\n",
      "  warnings.warn(\n",
      "/opt/conda/lib/python3.10/site-packages/torchvision/transforms/transforms.py:329: UserWarning: Argument 'interpolation' of type int is deprecated since 0.13 and will be removed in 0.15. Please use InterpolationMode enum.\n",
      "  warnings.warn(\n",
      "/opt/conda/lib/python3.10/site-packages/torchvision/transforms/transforms.py:329: UserWarning: Argument 'interpolation' of type int is deprecated since 0.13 and will be removed in 0.15. Please use InterpolationMode enum.\n",
      "  warnings.warn(\n",
      "/opt/conda/lib/python3.10/site-packages/torchvision/transforms/transforms.py:329: UserWarning: Argument 'interpolation' of type int is deprecated since 0.13 and will be removed in 0.15. Please use InterpolationMode enum.\n",
      "  warnings.warn(\n",
      "/opt/conda/lib/python3.10/site-packages/torchvision/transforms/transforms.py:329: UserWarning: Argument 'interpolation' of type int is deprecated since 0.13 and will be removed in 0.15. Please use InterpolationMode enum.\n",
      "  warnings.warn(\n",
      "/opt/conda/lib/python3.10/site-packages/torchvision/transforms/transforms.py:329: UserWarning: Argument 'interpolation' of type int is deprecated since 0.13 and will be removed in 0.15. Please use InterpolationMode enum.\n",
      "  warnings.warn(\n",
      "/opt/conda/lib/python3.10/site-packages/torchvision/transforms/transforms.py:329: UserWarning: Argument 'interpolation' of type int is deprecated since 0.13 and will be removed in 0.15. Please use InterpolationMode enum.\n",
      "  warnings.warn(\n",
      "/opt/conda/lib/python3.10/site-packages/torchvision/transforms/transforms.py:329: UserWarning: Argument 'interpolation' of type int is deprecated since 0.13 and will be removed in 0.15. Please use InterpolationMode enum.\n",
      "  warnings.warn(\n",
      "/opt/conda/lib/python3.10/site-packages/torchvision/transforms/transforms.py:329: UserWarning: Argument 'interpolation' of type int is deprecated since 0.13 and will be removed in 0.15. Please use InterpolationMode enum.\n",
      "  warnings.warn(\n",
      "/opt/conda/lib/python3.10/site-packages/torchvision/transforms/transforms.py:329: UserWarning: Argument 'interpolation' of type int is deprecated since 0.13 and will be removed in 0.15. Please use InterpolationMode enum.\n",
      "  warnings.warn(\n",
      "/opt/conda/lib/python3.10/site-packages/torchvision/transforms/transforms.py:329: UserWarning: Argument 'interpolation' of type int is deprecated since 0.13 and will be removed in 0.15. Please use InterpolationMode enum.\n",
      "  warnings.warn(\n",
      "/opt/conda/lib/python3.10/site-packages/torchvision/transforms/transforms.py:329: UserWarning: Argument 'interpolation' of type int is deprecated since 0.13 and will be removed in 0.15. Please use InterpolationMode enum.\n",
      "  warnings.warn(\n",
      "/opt/conda/lib/python3.10/site-packages/torchvision/transforms/transforms.py:329: UserWarning: Argument 'interpolation' of type int is deprecated since 0.13 and will be removed in 0.15. Please use InterpolationMode enum.\n",
      "  warnings.warn(\n",
      "/opt/conda/lib/python3.10/site-packages/torchvision/transforms/transforms.py:329: UserWarning: Argument 'interpolation' of type int is deprecated since 0.13 and will be removed in 0.15. Please use InterpolationMode enum.\n",
      "  warnings.warn(\n",
      "/opt/conda/lib/python3.10/site-packages/torchvision/transforms/transforms.py:329: UserWarning: Argument 'interpolation' of type int is deprecated since 0.13 and will be removed in 0.15. Please use InterpolationMode enum.\n",
      "  warnings.warn(\n",
      "/opt/conda/lib/python3.10/site-packages/torchvision/transforms/transforms.py:329: UserWarning: Argument 'interpolation' of type int is deprecated since 0.13 and will be removed in 0.15. Please use InterpolationMode enum.\n",
      "  warnings.warn(\n",
      "/opt/conda/lib/python3.10/site-packages/torchvision/transforms/transforms.py:329: UserWarning: Argument 'interpolation' of type int is deprecated since 0.13 and will be removed in 0.15. Please use InterpolationMode enum.\n",
      "  warnings.warn(\n",
      "/opt/conda/lib/python3.10/site-packages/torchvision/transforms/transforms.py:329: UserWarning: Argument 'interpolation' of type int is deprecated since 0.13 and will be removed in 0.15. Please use InterpolationMode enum.\n",
      "  warnings.warn(\n",
      "/opt/conda/lib/python3.10/site-packages/torchvision/transforms/transforms.py:329: UserWarning: Argument 'interpolation' of type int is deprecated since 0.13 and will be removed in 0.15. Please use InterpolationMode enum.\n",
      "  warnings.warn(\n",
      "/opt/conda/lib/python3.10/site-packages/torchvision/transforms/transforms.py:329: UserWarning: Argument 'interpolation' of type int is deprecated since 0.13 and will be removed in 0.15. Please use InterpolationMode enum.\n",
      "  warnings.warn(\n",
      "/opt/conda/lib/python3.10/site-packages/torchvision/transforms/transforms.py:329: UserWarning: Argument 'interpolation' of type int is deprecated since 0.13 and will be removed in 0.15. Please use InterpolationMode enum.\n",
      "  warnings.warn(\n",
      "/opt/conda/lib/python3.10/site-packages/torchvision/transforms/transforms.py:329: UserWarning: Argument 'interpolation' of type int is deprecated since 0.13 and will be removed in 0.15. Please use InterpolationMode enum.\n",
      "  warnings.warn(\n",
      "/opt/conda/lib/python3.10/site-packages/torchvision/transforms/transforms.py:329: UserWarning: Argument 'interpolation' of type int is deprecated since 0.13 and will be removed in 0.15. Please use InterpolationMode enum.\n",
      "  warnings.warn(\n",
      "/opt/conda/lib/python3.10/site-packages/torchvision/transforms/transforms.py:329: UserWarning: Argument 'interpolation' of type int is deprecated since 0.13 and will be removed in 0.15. Please use InterpolationMode enum.\n",
      "  warnings.warn(\n",
      "  8%|▊         | 201/2676 [00:40<06:43,  6.13it/s]"
     ]
    },
    {
     "name": "stdout",
     "output_type": "stream",
     "text": [
      "{'FullBody': {'All': 72.5678939819336, 'LowerStretching': 72.36737823486328, 'UpperStretching': 74.25962829589844, 'Walking': 73.15800476074219, 'Greeting': 53.61518859863281, 'Gesticuling': 54.86765670776367, 'Reacting': 67.2381362915039, 'Gaming': 68.4662094116211, 'Patting': 75.28909301757812, 'Talking': 55.0377197265625}, 'UpperBody': {'All': 54.68088912963867, 'LowerStretching': 45.88860321044922, 'UpperStretching': 59.11077880859375, 'Walking': 49.38948440551758, 'Greeting': 46.832313537597656, 'Gesticuling': 49.51933670043945, 'Reacting': 55.6083984375, 'Gaming': 52.319419860839844, 'Patting': 51.69717025756836, 'Talking': 48.21554183959961}, 'LowerBody': {'All': 90.45491027832031, 'LowerStretching': 98.84616088867188, 'UpperStretching': 89.40848541259766, 'Walking': 96.92652893066406, 'Greeting': 60.398067474365234, 'Gesticuling': 60.21597671508789, 'Reacting': 78.86788177490234, 'Gaming': 84.61300659179688, 'Patting': 98.88099670410156, 'Talking': 61.85990905761719}}\n"
     ]
    },
    {
     "name": "stderr",
     "output_type": "stream",
     "text": [
      " 15%|█▍        | 401/2676 [01:15<06:49,  5.56it/s]"
     ]
    },
    {
     "name": "stdout",
     "output_type": "stream",
     "text": [
      "{'FullBody': {'All': 72.42222595214844, 'LowerStretching': 72.59272766113281, 'UpperStretching': 73.90929412841797, 'Walking': 73.67218780517578, 'Greeting': 51.111454010009766, 'Gesticuling': 55.23786544799805, 'Reacting': 65.70768737792969, 'Gaming': 69.879150390625, 'Patting': 71.41708374023438, 'Talking': 56.54814529418945}, 'UpperBody': {'All': 54.538978576660156, 'LowerStretching': 46.093170166015625, 'UpperStretching': 58.750526428222656, 'Walking': 49.55792236328125, 'Greeting': 44.53507614135742, 'Gesticuling': 49.504356384277344, 'Reacting': 55.011165618896484, 'Gaming': 51.39641571044922, 'Patting': 49.53975296020508, 'Talking': 49.54115676879883}, 'LowerBody': {'All': 90.30548095703125, 'LowerStretching': 99.09227752685547, 'UpperStretching': 89.06807708740234, 'Walking': 97.78646087646484, 'Greeting': 57.68782424926758, 'Gesticuling': 60.971370697021484, 'Reacting': 76.40420532226562, 'Gaming': 88.36188507080078, 'Patting': 93.29442596435547, 'Talking': 63.55513381958008}}\n"
     ]
    },
    {
     "name": "stderr",
     "output_type": "stream",
     "text": [
      " 22%|██▏       | 601/2676 [01:50<06:14,  5.54it/s]"
     ]
    },
    {
     "name": "stdout",
     "output_type": "stream",
     "text": [
      "{'FullBody': {'All': 72.75055694580078, 'LowerStretching': 73.24361419677734, 'UpperStretching': 74.0530776977539, 'Walking': 73.67644500732422, 'Greeting': 51.4477653503418, 'Gesticuling': 55.84124755859375, 'Reacting': 66.76466369628906, 'Gaming': 70.86014556884766, 'Patting': 75.60169219970703, 'Talking': 56.28112030029297}, 'UpperBody': {'All': 54.69348907470703, 'LowerStretching': 46.37165451049805, 'UpperStretching': 58.792381286621094, 'Walking': 49.5279426574707, 'Greeting': 44.104618072509766, 'Gesticuling': 49.82574462890625, 'Reacting': 56.1091423034668, 'Gaming': 52.07042694091797, 'Patting': 51.51204299926758, 'Talking': 49.801673889160156}, 'LowerBody': {'All': 90.80763244628906, 'LowerStretching': 100.1155776977539, 'UpperStretching': 89.31376647949219, 'Walking': 97.82495880126953, 'Greeting': 58.79092025756836, 'Gesticuling': 61.85674285888672, 'Reacting': 77.42017364501953, 'Gaming': 89.64987182617188, 'Patting': 99.69132995605469, 'Talking': 62.760581970214844}}\n"
     ]
    },
    {
     "name": "stderr",
     "output_type": "stream",
     "text": [
      " 30%|██▉       | 801/2676 [02:24<05:28,  5.72it/s]"
     ]
    },
    {
     "name": "stdout",
     "output_type": "stream",
     "text": [
      "{'FullBody': {'All': 72.8141098022461, 'LowerStretching': 73.2643814086914, 'UpperStretching': 74.21430969238281, 'Walking': 73.49117279052734, 'Greeting': 50.8858528137207, 'Gesticuling': 55.34025955200195, 'Reacting': 66.90321350097656, 'Gaming': 70.91865539550781, 'Patting': 75.97057342529297, 'Talking': 56.53047561645508}, 'UpperBody': {'All': 54.815303802490234, 'LowerStretching': 46.37151336669922, 'UpperStretching': 59.03759765625, 'Walking': 49.30634307861328, 'Greeting': 44.105751037597656, 'Gesticuling': 49.494590759277344, 'Reacting': 56.90592956542969, 'Gaming': 51.746734619140625, 'Patting': 51.8941650390625, 'Talking': 49.400875091552734}, 'LowerBody': {'All': 90.81291961669922, 'LowerStretching': 100.15725708007812, 'UpperStretching': 89.3910140991211, 'Walking': 97.67599487304688, 'Greeting': 57.66593933105469, 'Gesticuling': 61.1859245300293, 'Reacting': 76.90049743652344, 'Gaming': 90.09058380126953, 'Patting': 100.04698944091797, 'Talking': 63.66006851196289}}\n"
     ]
    },
    {
     "name": "stderr",
     "output_type": "stream",
     "text": [
      " 37%|███▋      | 1001/2676 [02:59<04:38,  6.01it/s]"
     ]
    },
    {
     "name": "stdout",
     "output_type": "stream",
     "text": [
      "{'FullBody': {'All': 72.825439453125, 'LowerStretching': 73.17877197265625, 'UpperStretching': 74.23116302490234, 'Walking': 73.39815521240234, 'Greeting': 50.736305236816406, 'Gesticuling': 55.79484176635742, 'Reacting': 67.08332824707031, 'Gaming': 70.3804931640625, 'Patting': 77.52274322509766, 'Talking': 56.02629089355469}, 'UpperBody': {'All': 54.8593864440918, 'LowerStretching': 46.324771881103516, 'UpperStretching': 59.0693473815918, 'Walking': 49.386451721191406, 'Greeting': 44.492244720458984, 'Gesticuling': 49.778141021728516, 'Reacting': 56.75704574584961, 'Gaming': 51.83342742919922, 'Patting': 52.51527786254883, 'Talking': 48.7551155090332}, 'LowerBody': {'All': 90.79149627685547, 'LowerStretching': 100.03276062011719, 'UpperStretching': 89.39297485351562, 'Walking': 97.40986633300781, 'Greeting': 56.980369567871094, 'Gesticuling': 61.81154251098633, 'Reacting': 77.40962219238281, 'Gaming': 88.92755126953125, 'Patting': 102.53018951416016, 'Talking': 63.29746627807617}}\n"
     ]
    },
    {
     "name": "stderr",
     "output_type": "stream",
     "text": [
      " 45%|████▍     | 1200/2676 [03:34<04:09,  5.92it/s]"
     ]
    },
    {
     "name": "stdout",
     "output_type": "stream",
     "text": [
      "{'FullBody': {'All': 72.77336883544922, 'LowerStretching': 73.0733871459961, 'UpperStretching': 74.15482330322266, 'Walking': 73.38933563232422, 'Greeting': 50.9923095703125, 'Gesticuling': 56.16841506958008, 'Reacting': 66.8339614868164, 'Gaming': 70.89997100830078, 'Patting': 76.94290924072266, 'Talking': 57.083251953125}, 'UpperBody': {'All': 54.850852966308594, 'LowerStretching': 46.279052734375, 'UpperStretching': 59.0081787109375, 'Walking': 49.40457534790039, 'Greeting': 44.325584411621094, 'Gesticuling': 50.241249084472656, 'Reacting': 56.58473205566406, 'Gaming': 51.847354888916016, 'Patting': 52.86338806152344, 'Talking': 49.352352142333984}, 'LowerBody': {'All': 90.6958999633789, 'LowerStretching': 99.86772918701172, 'UpperStretching': 89.30147552490234, 'Walking': 97.37409973144531, 'Greeting': 57.65904235839844, 'Gesticuling': 62.095584869384766, 'Reacting': 77.08318328857422, 'Gaming': 89.95258331298828, 'Patting': 101.0224380493164, 'Talking': 64.81415557861328}}\n"
     ]
    },
    {
     "name": "stderr",
     "output_type": "stream",
     "text": [
      " 52%|█████▏    | 1401/2676 [04:09<03:44,  5.69it/s]"
     ]
    },
    {
     "name": "stdout",
     "output_type": "stream",
     "text": [
      "{'FullBody': {'All': 72.71985626220703, 'LowerStretching': 72.78585815429688, 'UpperStretching': 74.13374328613281, 'Walking': 73.25043487548828, 'Greeting': 51.166629791259766, 'Gesticuling': 56.546199798583984, 'Reacting': 67.04991912841797, 'Gaming': 71.18374633789062, 'Patting': 77.08876037597656, 'Talking': 57.08134078979492}, 'UpperBody': {'All': 54.88387680053711, 'LowerStretching': 46.10821533203125, 'UpperStretching': 59.034454345703125, 'Walking': 49.42231750488281, 'Greeting': 44.75748825073242, 'Gesticuling': 50.72334671020508, 'Reacting': 56.90470886230469, 'Gaming': 52.008880615234375, 'Patting': 53.3316535949707, 'Talking': 49.55605697631836}, 'LowerBody': {'All': 90.55584716796875, 'LowerStretching': 99.46349334716797, 'UpperStretching': 89.23303985595703, 'Walking': 97.07854461669922, 'Greeting': 57.57577896118164, 'Gesticuling': 62.369056701660156, 'Reacting': 77.19513702392578, 'Gaming': 90.35860443115234, 'Patting': 100.84586334228516, 'Talking': 64.60662841796875}}\n"
     ]
    },
    {
     "name": "stderr",
     "output_type": "stream",
     "text": [
      " 60%|█████▉    | 1601/2676 [04:44<03:12,  5.58it/s]"
     ]
    },
    {
     "name": "stdout",
     "output_type": "stream",
     "text": [
      "{'FullBody': {'All': 72.6829605102539, 'LowerStretching': 72.74777221679688, 'UpperStretching': 74.05492401123047, 'Walking': 73.39901733398438, 'Greeting': 51.10984420776367, 'Gesticuling': 56.29165267944336, 'Reacting': 67.1844711303711, 'Gaming': 70.96156311035156, 'Patting': 77.65137481689453, 'Talking': 57.27703857421875}, 'UpperBody': {'All': 54.84115219116211, 'LowerStretching': 46.07655715942383, 'UpperStretching': 58.966758728027344, 'Walking': 49.53812026977539, 'Greeting': 44.563743591308594, 'Gesticuling': 50.390926361083984, 'Reacting': 57.04111862182617, 'Gaming': 52.017311096191406, 'Patting': 54.14261245727539, 'Talking': 49.69759750366211}, 'LowerBody': {'All': 90.52478790283203, 'LowerStretching': 99.41898345947266, 'UpperStretching': 89.1430892944336, 'Walking': 97.25992584228516, 'Greeting': 57.65594482421875, 'Gesticuling': 62.19237518310547, 'Reacting': 77.32781219482422, 'Gaming': 89.90581512451172, 'Patting': 101.1601333618164, 'Talking': 64.85648345947266}}\n"
     ]
    },
    {
     "name": "stderr",
     "output_type": "stream",
     "text": [
      " 67%|██████▋   | 1800/2676 [05:19<02:35,  5.63it/s]"
     ]
    },
    {
     "name": "stdout",
     "output_type": "stream",
     "text": [
      "{'FullBody': {'All': 72.69422912597656, 'LowerStretching': 72.83643341064453, 'UpperStretching': 74.0495834350586, 'Walking': 73.40507507324219, 'Greeting': 51.26753234863281, 'Gesticuling': 56.09787368774414, 'Reacting': 67.331787109375, 'Gaming': 71.03768920898438, 'Patting': 76.55484008789062, 'Talking': 58.166893005371094}, 'UpperBody': {'All': 54.850433349609375, 'LowerStretching': 46.061920166015625, 'UpperStretching': 59.00328826904297, 'Walking': 49.500064849853516, 'Greeting': 44.836856842041016, 'Gesticuling': 50.183589935302734, 'Reacting': 57.17076110839844, 'Gaming': 52.03989028930664, 'Patting': 53.20743942260742, 'Talking': 50.191402435302734}, 'LowerBody': {'All': 90.53804016113281, 'LowerStretching': 99.61095428466797, 'UpperStretching': 89.09587097167969, 'Walking': 97.3100814819336, 'Greeting': 57.698211669921875, 'Gesticuling': 62.01216125488281, 'Reacting': 77.49281311035156, 'Gaming': 90.03548431396484, 'Patting': 99.90222930908203, 'Talking': 66.14237976074219}}\n"
     ]
    },
    {
     "name": "stderr",
     "output_type": "stream",
     "text": [
      " 75%|███████▍  | 2001/2676 [05:54<02:03,  5.48it/s]"
     ]
    },
    {
     "name": "stdout",
     "output_type": "stream",
     "text": [
      "{'FullBody': {'All': 72.64690399169922, 'LowerStretching': 72.78644561767578, 'UpperStretching': 74.00267791748047, 'Walking': 73.42378997802734, 'Greeting': 51.27902603149414, 'Gesticuling': 56.0770263671875, 'Reacting': 67.08552551269531, 'Gaming': 71.08024597167969, 'Patting': 76.45113372802734, 'Talking': 58.259063720703125}, 'UpperBody': {'All': 54.85382843017578, 'LowerStretching': 46.10542678833008, 'UpperStretching': 59.000091552734375, 'Walking': 49.54303741455078, 'Greeting': 44.80978775024414, 'Gesticuling': 50.17951202392578, 'Reacting': 56.95149230957031, 'Gaming': 52.170047760009766, 'Patting': 53.00410079956055, 'Talking': 50.24102020263672}, 'LowerBody': {'All': 90.44000244140625, 'LowerStretching': 99.46746063232422, 'UpperStretching': 89.0052490234375, 'Walking': 97.30452728271484, 'Greeting': 57.748268127441406, 'Gesticuling': 61.97453308105469, 'Reacting': 77.21955108642578, 'Gaming': 89.9904556274414, 'Patting': 99.89815521240234, 'Talking': 66.27711486816406}}\n"
     ]
    },
    {
     "name": "stderr",
     "output_type": "stream",
     "text": [
      " 82%|████████▏ | 2201/2676 [06:29<01:24,  5.64it/s]"
     ]
    },
    {
     "name": "stdout",
     "output_type": "stream",
     "text": [
      "{'FullBody': {'All': 72.70008850097656, 'LowerStretching': 72.8349609375, 'UpperStretching': 74.0244369506836, 'Walking': 73.58377838134766, 'Greeting': 51.429649353027344, 'Gesticuling': 55.90022277832031, 'Reacting': 67.15018463134766, 'Gaming': 71.24259948730469, 'Patting': 77.52870178222656, 'Talking': 58.09001159667969}, 'UpperBody': {'All': 54.866363525390625, 'LowerStretching': 46.1644287109375, 'UpperStretching': 58.97792434692383, 'Walking': 49.599266052246094, 'Greeting': 44.99539566040039, 'Gesticuling': 49.9715690612793, 'Reacting': 57.04907989501953, 'Gaming': 52.347530364990234, 'Patting': 53.45380401611328, 'Talking': 50.01706314086914}, 'LowerBody': {'All': 90.53380584716797, 'LowerStretching': 99.5054931640625, 'UpperStretching': 89.07095336914062, 'Walking': 97.56829071044922, 'Greeting': 57.8639030456543, 'Gesticuling': 61.82887268066406, 'Reacting': 77.25129699707031, 'Gaming': 90.13765716552734, 'Patting': 101.60358428955078, 'Talking': 66.16297149658203}}\n"
     ]
    },
    {
     "name": "stderr",
     "output_type": "stream",
     "text": [
      " 90%|████████▉ | 2400/2676 [07:04<00:50,  5.42it/s]"
     ]
    },
    {
     "name": "stdout",
     "output_type": "stream",
     "text": [
      "{'FullBody': {'All': 72.71804809570312, 'LowerStretching': 72.92857360839844, 'UpperStretching': 74.03479766845703, 'Walking': 73.66553497314453, 'Greeting': 51.35096740722656, 'Gesticuling': 55.8919563293457, 'Reacting': 67.10183715820312, 'Gaming': 71.26445770263672, 'Patting': 77.36249542236328, 'Talking': 57.78837966918945}, 'UpperBody': {'All': 54.87926483154297, 'LowerStretching': 46.24721145629883, 'UpperStretching': 58.98457717895508, 'Walking': 49.6380615234375, 'Greeting': 44.80709457397461, 'Gesticuling': 49.91363525390625, 'Reacting': 57.06843185424805, 'Gaming': 52.261192321777344, 'Patting': 53.14751434326172, 'Talking': 49.917152404785156}, 'LowerBody': {'All': 90.55683898925781, 'LowerStretching': 99.60994720458984, 'UpperStretching': 89.08500671386719, 'Walking': 97.69300842285156, 'Greeting': 57.894840240478516, 'Gesticuling': 61.87028503417969, 'Reacting': 77.13523864746094, 'Gaming': 90.26773071289062, 'Patting': 101.57746124267578, 'Talking': 65.65960693359375}}\n"
     ]
    },
    {
     "name": "stderr",
     "output_type": "stream",
     "text": [
      " 97%|█████████▋| 2601/2676 [07:39<00:14,  5.01it/s]"
     ]
    },
    {
     "name": "stdout",
     "output_type": "stream",
     "text": [
      "{'FullBody': {'All': 72.76058197021484, 'LowerStretching': 72.89481353759766, 'UpperStretching': 74.13505554199219, 'Walking': 73.66179656982422, 'Greeting': 51.49825668334961, 'Gesticuling': 55.807579040527344, 'Reacting': 67.16230773925781, 'Gaming': 70.94279479980469, 'Patting': 77.4041976928711, 'Talking': 57.76416015625}, 'UpperBody': {'All': 54.93259048461914, 'LowerStretching': 46.20832824707031, 'UpperStretching': 59.076961517333984, 'Walking': 49.71352767944336, 'Greeting': 44.8233528137207, 'Gesticuling': 49.7963752746582, 'Reacting': 57.197540283203125, 'Gaming': 52.10663604736328, 'Patting': 53.17645263671875, 'Talking': 49.96025848388672}, 'LowerBody': {'All': 90.58858489990234, 'LowerStretching': 99.58126831054688, 'UpperStretching': 89.19315338134766, 'Walking': 97.61006927490234, 'Greeting': 58.17314910888672, 'Gesticuling': 61.81877899169922, 'Reacting': 77.12709045410156, 'Gaming': 89.77896118164062, 'Patting': 101.6319351196289, 'Talking': 65.56805419921875}}\n"
     ]
    },
    {
     "name": "stderr",
     "output_type": "stream",
     "text": [
      "100%|██████████| 2676/2676 [07:52<00:00,  5.67it/s]\n",
      "\u001b[94m03:02:10 \u001b[92m[INFO]\u001b[94m Main\u001b[0m: Saving evaluation results...\n",
      "\u001b[94m03:02:10 \u001b[92m[INFO]\u001b[94m Main\u001b[0m: Done.\n",
      "\u001b[94m03:02:10 \u001b[92m[INFO]\u001b[94m Main\u001b[0m: Starting demo...\n",
      "  0%|          | 0/2676 [00:00<?, ?it/s]/opt/conda/lib/python3.10/site-packages/torchvision/transforms/transforms.py:329: UserWarning: Argument 'interpolation' of type int is deprecated since 0.13 and will be removed in 0.15. Please use InterpolationMode enum.\n",
      "  warnings.warn(\n",
      "/opt/conda/lib/python3.10/site-packages/torchvision/transforms/transforms.py:329: UserWarning: Argument 'interpolation' of type int is deprecated since 0.13 and will be removed in 0.15. Please use InterpolationMode enum.\n",
      "  warnings.warn(\n",
      "/opt/conda/lib/python3.10/site-packages/torchvision/transforms/transforms.py:329: UserWarning: Argument 'interpolation' of type int is deprecated since 0.13 and will be removed in 0.15. Please use InterpolationMode enum.\n",
      "  warnings.warn(\n",
      "/opt/conda/lib/python3.10/site-packages/torchvision/transforms/transforms.py:329: UserWarning: Argument 'interpolation' of type int is deprecated since 0.13 and will be removed in 0.15. Please use InterpolationMode enum.\n",
      "  warnings.warn(\n",
      "/opt/conda/lib/python3.10/site-packages/torchvision/transforms/transforms.py:329: UserWarning: Argument 'interpolation' of type int is deprecated since 0.13 and will be removed in 0.15. Please use InterpolationMode enum.\n",
      "  warnings.warn(\n",
      "/opt/conda/lib/python3.10/site-packages/torchvision/transforms/transforms.py:329: UserWarning: Argument 'interpolation' of type int is deprecated since 0.13 and will be removed in 0.15. Please use InterpolationMode enum.\n",
      "  warnings.warn(\n",
      "/opt/conda/lib/python3.10/site-packages/torchvision/transforms/transforms.py:329: UserWarning: Argument 'interpolation' of type int is deprecated since 0.13 and will be removed in 0.15. Please use InterpolationMode enum.\n",
      "  warnings.warn(\n",
      "/opt/conda/lib/python3.10/site-packages/torchvision/transforms/transforms.py:329: UserWarning: Argument 'interpolation' of type int is deprecated since 0.13 and will be removed in 0.15. Please use InterpolationMode enum.\n",
      "  warnings.warn(\n",
      "/opt/conda/lib/python3.10/site-packages/torchvision/transforms/transforms.py:329: UserWarning: Argument 'interpolation' of type int is deprecated since 0.13 and will be removed in 0.15. Please use InterpolationMode enum.\n",
      "  warnings.warn(\n",
      "/opt/conda/lib/python3.10/site-packages/torchvision/transforms/transforms.py:329: UserWarning: Argument 'interpolation' of type int is deprecated since 0.13 and will be removed in 0.15. Please use InterpolationMode enum.\n",
      "  warnings.warn(\n",
      "/opt/conda/lib/python3.10/site-packages/torchvision/transforms/transforms.py:329: UserWarning: Argument 'interpolation' of type int is deprecated since 0.13 and will be removed in 0.15. Please use InterpolationMode enum.\n",
      "  warnings.warn(\n",
      "/opt/conda/lib/python3.10/site-packages/torchvision/transforms/transforms.py:329: UserWarning: Argument 'interpolation' of type int is deprecated since 0.13 and will be removed in 0.15. Please use InterpolationMode enum.\n",
      "  warnings.warn(\n",
      "/opt/conda/lib/python3.10/site-packages/torchvision/transforms/transforms.py:329: UserWarning: Argument 'interpolation' of type int is deprecated since 0.13 and will be removed in 0.15. Please use InterpolationMode enum.\n",
      "  warnings.warn(\n",
      "/opt/conda/lib/python3.10/site-packages/torchvision/transforms/transforms.py:329: UserWarning: Argument 'interpolation' of type int is deprecated since 0.13 and will be removed in 0.15. Please use InterpolationMode enum.\n",
      "  warnings.warn(\n",
      "/opt/conda/lib/python3.10/site-packages/torchvision/transforms/transforms.py:329: UserWarning: Argument 'interpolation' of type int is deprecated since 0.13 and will be removed in 0.15. Please use InterpolationMode enum.\n",
      "  warnings.warn(\n",
      "/opt/conda/lib/python3.10/site-packages/torchvision/transforms/transforms.py:329: UserWarning: Argument 'interpolation' of type int is deprecated since 0.13 and will be removed in 0.15. Please use InterpolationMode enum.\n",
      "  warnings.warn(\n",
      "/opt/conda/lib/python3.10/site-packages/torchvision/transforms/transforms.py:329: UserWarning: Argument 'interpolation' of type int is deprecated since 0.13 and will be removed in 0.15. Please use InterpolationMode enum.\n",
      "  warnings.warn(\n",
      "/opt/conda/lib/python3.10/site-packages/torchvision/transforms/transforms.py:329: UserWarning: Argument 'interpolation' of type int is deprecated since 0.13 and will be removed in 0.15. Please use InterpolationMode enum.\n",
      "  warnings.warn(\n",
      "/opt/conda/lib/python3.10/site-packages/torchvision/transforms/transforms.py:329: UserWarning: Argument 'interpolation' of type int is deprecated since 0.13 and will be removed in 0.15. Please use InterpolationMode enum.\n",
      "  warnings.warn(\n",
      "/opt/conda/lib/python3.10/site-packages/torchvision/transforms/transforms.py:329: UserWarning: Argument 'interpolation' of type int is deprecated since 0.13 and will be removed in 0.15. Please use InterpolationMode enum.\n",
      "  warnings.warn(\n",
      "/opt/conda/lib/python3.10/site-packages/torchvision/transforms/transforms.py:329: UserWarning: Argument 'interpolation' of type int is deprecated since 0.13 and will be removed in 0.15. Please use InterpolationMode enum.\n",
      "  warnings.warn(\n",
      "/opt/conda/lib/python3.10/site-packages/torchvision/transforms/transforms.py:329: UserWarning: Argument 'interpolation' of type int is deprecated since 0.13 and will be removed in 0.15. Please use InterpolationMode enum.\n",
      "  warnings.warn(\n",
      "/opt/conda/lib/python3.10/site-packages/torchvision/transforms/transforms.py:329: UserWarning: Argument 'interpolation' of type int is deprecated since 0.13 and will be removed in 0.15. Please use InterpolationMode enum.\n",
      "  warnings.warn(\n",
      "/opt/conda/lib/python3.10/site-packages/torchvision/transforms/transforms.py:329: UserWarning: Argument 'interpolation' of type int is deprecated since 0.13 and will be removed in 0.15. Please use InterpolationMode enum.\n",
      "  warnings.warn(\n",
      "  8%|▊         | 201/2676 [00:40<07:24,  5.57it/s]"
     ]
    },
    {
     "name": "stdout",
     "output_type": "stream",
     "text": [
      "{'FullBody': {'All': 86.27070617675781, 'UpperStretching': 88.30122375488281, 'LowerStretching': 88.99601745605469, 'Gesticuling': 66.069091796875, 'Patting': 76.69709014892578, 'Reacting': 71.19976043701172, 'Gaming': 79.98273468017578, 'Walking': 85.89031219482422, 'Greeting': 78.06819915771484, 'Talking': 68.19593811035156}, 'UpperBody': {'All': 75.13446044921875, 'UpperStretching': 80.11126708984375, 'LowerStretching': 67.3896713256836, 'Gesticuling': 64.23045349121094, 'Patting': 65.91026306152344, 'Reacting': 65.15648651123047, 'Gaming': 72.25040435791016, 'Walking': 68.08523559570312, 'Greeting': 79.53506469726562, 'Talking': 70.24720001220703}, 'LowerBody': {'All': 97.40695190429688, 'UpperStretching': 96.49119567871094, 'LowerStretching': 110.60236358642578, 'Gesticuling': 67.90773010253906, 'Patting': 87.48390197753906, 'Reacting': 77.2430419921875, 'Gaming': 87.71505737304688, 'Walking': 103.69539642333984, 'Greeting': 76.60133361816406, 'Talking': 66.14468383789062}}\n"
     ]
    },
    {
     "name": "stderr",
     "output_type": "stream",
     "text": [
      " 15%|█▍        | 401/2676 [01:15<06:24,  5.92it/s]"
     ]
    },
    {
     "name": "stdout",
     "output_type": "stream",
     "text": [
      "{'FullBody': {'All': 86.44678497314453, 'UpperStretching': 88.29423522949219, 'LowerStretching': 89.61238098144531, 'Gesticuling': 67.67198181152344, 'Patting': 78.17407989501953, 'Reacting': 72.1014633178711, 'Gaming': 79.38349151611328, 'Walking': 85.9893569946289, 'Greeting': 73.75479888916016, 'Talking': 68.06595611572266}, 'UpperBody': {'All': 75.13220977783203, 'UpperStretching': 80.07989501953125, 'LowerStretching': 67.77315521240234, 'Gesticuling': 66.36502838134766, 'Patting': 67.63204956054688, 'Reacting': 65.97144317626953, 'Gaming': 71.10914611816406, 'Walking': 68.09758758544922, 'Greeting': 75.86286926269531, 'Talking': 70.32251739501953}, 'LowerBody': {'All': 97.76136779785156, 'UpperStretching': 96.50858306884766, 'LowerStretching': 111.45160675048828, 'Gesticuling': 68.97892761230469, 'Patting': 88.71611022949219, 'Reacting': 78.23149871826172, 'Gaming': 87.6578140258789, 'Walking': 103.88111877441406, 'Greeting': 71.6467514038086, 'Talking': 65.80937957763672}}\n"
     ]
    },
    {
     "name": "stderr",
     "output_type": "stream",
     "text": [
      " 22%|██▏       | 600/2676 [01:49<05:45,  6.01it/s]"
     ]
    },
    {
     "name": "stdout",
     "output_type": "stream",
     "text": [
      "{'FullBody': {'All': 86.64265441894531, 'UpperStretching': 88.24223327636719, 'LowerStretching': 90.18793487548828, 'Gesticuling': 67.38875579833984, 'Patting': 78.25321197509766, 'Reacting': 71.27843475341797, 'Gaming': 79.48450469970703, 'Walking': 86.89328002929688, 'Greeting': 73.1395492553711, 'Talking': 70.02815246582031}, 'UpperBody': {'All': 75.234130859375, 'UpperStretching': 80.08795928955078, 'LowerStretching': 67.9673080444336, 'Gesticuling': 66.01102447509766, 'Patting': 66.59010314941406, 'Reacting': 65.32581329345703, 'Gaming': 71.3425064086914, 'Walking': 68.98859405517578, 'Greeting': 74.72908782958984, 'Talking': 70.55242919921875}, 'LowerBody': {'All': 98.05117797851562, 'UpperStretching': 96.39651489257812, 'LowerStretching': 112.40857696533203, 'Gesticuling': 68.7664794921875, 'Patting': 89.91633605957031, 'Reacting': 77.23106384277344, 'Gaming': 87.62650299072266, 'Walking': 104.7979736328125, 'Greeting': 71.55001831054688, 'Talking': 69.50386047363281}}\n"
     ]
    },
    {
     "name": "stderr",
     "output_type": "stream",
     "text": [
      " 30%|██▉       | 801/2676 [02:25<05:33,  5.62it/s]"
     ]
    },
    {
     "name": "stdout",
     "output_type": "stream",
     "text": [
      "{'FullBody': {'All': 86.53267669677734, 'UpperStretching': 88.01513671875, 'LowerStretching': 90.15769958496094, 'Gesticuling': 68.10444641113281, 'Patting': 77.49606323242188, 'Reacting': 71.4182357788086, 'Gaming': 79.57991027832031, 'Walking': 87.20352935791016, 'Greeting': 71.3070297241211, 'Talking': 69.54765319824219}, 'UpperBody': {'All': 75.25741577148438, 'UpperStretching': 80.06857299804688, 'LowerStretching': 67.98136901855469, 'Gesticuling': 66.38851928710938, 'Patting': 66.21968078613281, 'Reacting': 65.32367706298828, 'Gaming': 71.55382537841797, 'Walking': 69.18929290771484, 'Greeting': 73.09503936767578, 'Talking': 70.56607818603516}, 'LowerBody': {'All': 97.80793762207031, 'UpperStretching': 95.96172332763672, 'LowerStretching': 112.33403015136719, 'Gesticuling': 69.82037353515625, 'Patting': 88.77244567871094, 'Reacting': 77.51278686523438, 'Gaming': 87.6059799194336, 'Walking': 105.21776580810547, 'Greeting': 69.5190200805664, 'Talking': 68.52922821044922}}\n"
     ]
    },
    {
     "name": "stderr",
     "output_type": "stream",
     "text": [
      " 37%|███▋      | 1001/2676 [02:59<04:36,  6.07it/s]"
     ]
    },
    {
     "name": "stdout",
     "output_type": "stream",
     "text": [
      "{'FullBody': {'All': 86.60564422607422, 'UpperStretching': 88.21502685546875, 'LowerStretching': 89.97077178955078, 'Gesticuling': 68.114013671875, 'Patting': 78.28238677978516, 'Reacting': 71.21183013916016, 'Gaming': 79.89017486572266, 'Walking': 86.93944549560547, 'Greeting': 71.15786743164062, 'Talking': 68.75001525878906}, 'UpperBody': {'All': 75.2776870727539, 'UpperStretching': 80.17127990722656, 'LowerStretching': 67.91566467285156, 'Gesticuling': 65.96090698242188, 'Patting': 66.66382598876953, 'Reacting': 65.14263916015625, 'Gaming': 71.31776428222656, 'Walking': 68.92108154296875, 'Greeting': 73.23843383789062, 'Talking': 70.0179443359375}, 'LowerBody': {'All': 97.93359375, 'UpperStretching': 96.25878143310547, 'LowerStretching': 112.02587127685547, 'Gesticuling': 70.2671127319336, 'Patting': 89.90096282958984, 'Reacting': 77.281005859375, 'Gaming': 88.46257781982422, 'Walking': 104.95780181884766, 'Greeting': 69.0772933959961, 'Talking': 67.48209381103516}}\n"
     ]
    },
    {
     "name": "stderr",
     "output_type": "stream",
     "text": [
      " 45%|████▍     | 1200/2676 [03:34<04:19,  5.70it/s]"
     ]
    },
    {
     "name": "stdout",
     "output_type": "stream",
     "text": [
      "{'FullBody': {'All': 86.54471588134766, 'UpperStretching': 88.0737075805664, 'LowerStretching': 90.0320053100586, 'Gesticuling': 67.90050506591797, 'Patting': 79.03702545166016, 'Reacting': 71.24491882324219, 'Gaming': 80.60474395751953, 'Walking': 87.1672134399414, 'Greeting': 70.67745971679688, 'Talking': 67.92340087890625}, 'UpperBody': {'All': 75.25401306152344, 'UpperStretching': 80.13465881347656, 'LowerStretching': 67.87865447998047, 'Gesticuling': 65.95061492919922, 'Patting': 67.24850463867188, 'Reacting': 65.1317367553711, 'Gaming': 71.76074981689453, 'Walking': 69.0411376953125, 'Greeting': 72.93468475341797, 'Talking': 69.21961975097656}, 'LowerBody': {'All': 97.83541870117188, 'UpperStretching': 96.01276397705078, 'LowerStretching': 112.18535614013672, 'Gesticuling': 69.85038757324219, 'Patting': 90.82554626464844, 'Reacting': 77.35809326171875, 'Gaming': 89.44872283935547, 'Walking': 105.29327392578125, 'Greeting': 68.42022705078125, 'Talking': 66.62718200683594}}\n"
     ]
    },
    {
     "name": "stderr",
     "output_type": "stream",
     "text": [
      " 52%|█████▏    | 1401/2676 [04:10<03:49,  5.55it/s]"
     ]
    },
    {
     "name": "stdout",
     "output_type": "stream",
     "text": [
      "{'FullBody': {'All': 86.49041748046875, 'UpperStretching': 88.10523223876953, 'LowerStretching': 89.86514282226562, 'Gesticuling': 67.83959197998047, 'Patting': 79.23545837402344, 'Reacting': 71.73731231689453, 'Gaming': 80.23030853271484, 'Walking': 86.8514175415039, 'Greeting': 70.66535949707031, 'Talking': 67.49119567871094}, 'UpperBody': {'All': 75.19939422607422, 'UpperStretching': 80.1374740600586, 'LowerStretching': 67.72888946533203, 'Gesticuling': 65.97265625, 'Patting': 67.0880126953125, 'Reacting': 65.53046417236328, 'Gaming': 71.1432113647461, 'Walking': 68.86609649658203, 'Greeting': 72.94419860839844, 'Talking': 68.66107177734375}, 'LowerBody': {'All': 97.78146362304688, 'UpperStretching': 96.07298278808594, 'LowerStretching': 112.00140380859375, 'Gesticuling': 69.7065200805664, 'Patting': 91.38291931152344, 'Reacting': 77.94416046142578, 'Gaming': 89.31739807128906, 'Walking': 104.83673858642578, 'Greeting': 68.38651275634766, 'Talking': 66.32130432128906}}\n"
     ]
    },
    {
     "name": "stderr",
     "output_type": "stream",
     "text": [
      " 60%|█████▉    | 1601/2676 [04:45<03:17,  5.46it/s]"
     ]
    },
    {
     "name": "stdout",
     "output_type": "stream",
     "text": [
      "{'FullBody': {'All': 86.39320373535156, 'UpperStretching': 88.05622100830078, 'LowerStretching': 89.6686019897461, 'Gesticuling': 67.85602569580078, 'Patting': 80.01049041748047, 'Reacting': 71.79383087158203, 'Gaming': 80.69464874267578, 'Walking': 86.48552703857422, 'Greeting': 69.96051788330078, 'Talking': 67.34964752197266}, 'UpperBody': {'All': 75.12255859375, 'UpperStretching': 80.08226776123047, 'LowerStretching': 67.59806060791016, 'Gesticuling': 65.76715850830078, 'Patting': 67.69099426269531, 'Reacting': 65.67019653320312, 'Gaming': 71.23466491699219, 'Walking': 68.61547088623047, 'Greeting': 71.96517944335938, 'Talking': 68.6605224609375}, 'LowerBody': {'All': 97.66385650634766, 'UpperStretching': 96.03016662597656, 'LowerStretching': 111.7391586303711, 'Gesticuling': 69.94490051269531, 'Patting': 92.32999420166016, 'Reacting': 77.91746520996094, 'Gaming': 90.15461730957031, 'Walking': 104.3555908203125, 'Greeting': 67.95584869384766, 'Talking': 66.03878021240234}}\n"
     ]
    },
    {
     "name": "stderr",
     "output_type": "stream",
     "text": [
      " 67%|██████▋   | 1800/2676 [05:20<03:01,  4.83it/s]"
     ]
    },
    {
     "name": "stdout",
     "output_type": "stream",
     "text": [
      "{'FullBody': {'All': 86.3800277709961, 'UpperStretching': 88.05672454833984, 'LowerStretching': 89.64448547363281, 'Gesticuling': 68.00982666015625, 'Patting': 79.72612762451172, 'Reacting': 71.5338363647461, 'Gaming': 80.51683044433594, 'Walking': 86.4218978881836, 'Greeting': 70.596923828125, 'Talking': 67.8625259399414}, 'UpperBody': {'All': 75.09032440185547, 'UpperStretching': 80.0779037475586, 'LowerStretching': 67.56504821777344, 'Gesticuling': 65.96144104003906, 'Patting': 67.29206085205078, 'Reacting': 65.46084594726562, 'Gaming': 71.05281066894531, 'Walking': 68.51913452148438, 'Greeting': 72.9971694946289, 'Talking': 68.84197235107422}, 'LowerBody': {'All': 97.66974639892578, 'UpperStretching': 96.03553771972656, 'LowerStretching': 111.72392272949219, 'Gesticuling': 70.05821228027344, 'Patting': 92.16020202636719, 'Reacting': 77.6068344116211, 'Gaming': 89.98085021972656, 'Walking': 104.3246841430664, 'Greeting': 68.19668579101562, 'Talking': 66.8830795288086}}\n"
     ]
    },
    {
     "name": "stderr",
     "output_type": "stream",
     "text": [
      " 75%|███████▍  | 2001/2676 [05:55<02:00,  5.61it/s]"
     ]
    },
    {
     "name": "stdout",
     "output_type": "stream",
     "text": [
      "{'FullBody': {'All': 86.3853759765625, 'UpperStretching': 88.01280975341797, 'LowerStretching': 89.72676086425781, 'Gesticuling': 67.81201171875, 'Patting': 79.24651336669922, 'Reacting': 71.57878112792969, 'Gaming': 81.14581298828125, 'Walking': 86.4356460571289, 'Greeting': 70.71693420410156, 'Talking': 67.74725341796875}, 'UpperBody': {'All': 75.07330322265625, 'UpperStretching': 80.03263854980469, 'LowerStretching': 67.56063079833984, 'Gesticuling': 65.71988677978516, 'Patting': 67.24385070800781, 'Reacting': 65.63278198242188, 'Gaming': 71.48699951171875, 'Walking': 68.48424530029297, 'Greeting': 73.05170440673828, 'Talking': 68.85982513427734}, 'LowerBody': {'All': 97.69744873046875, 'UpperStretching': 95.99296569824219, 'LowerStretching': 111.89289093017578, 'Gesticuling': 69.90413665771484, 'Patting': 91.24918365478516, 'Reacting': 77.5248031616211, 'Gaming': 90.80462646484375, 'Walking': 104.38705444335938, 'Greeting': 68.38216400146484, 'Talking': 66.63468933105469}}\n"
     ]
    },
    {
     "name": "stderr",
     "output_type": "stream",
     "text": [
      " 82%|████████▏ | 2201/2676 [06:30<01:33,  5.08it/s]"
     ]
    },
    {
     "name": "stdout",
     "output_type": "stream",
     "text": [
      "{'FullBody': {'All': 86.38121032714844, 'UpperStretching': 88.0417251586914, 'LowerStretching': 89.61842346191406, 'Gesticuling': 68.00431060791016, 'Patting': 79.02642822265625, 'Reacting': 71.79979705810547, 'Gaming': 81.32453155517578, 'Walking': 86.34101867675781, 'Greeting': 70.84965515136719, 'Talking': 67.52061462402344}, 'UpperBody': {'All': 75.13095092773438, 'UpperStretching': 80.10031127929688, 'LowerStretching': 67.5675277709961, 'Gesticuling': 65.74027252197266, 'Patting': 66.95552825927734, 'Reacting': 65.95986938476562, 'Gaming': 71.80814361572266, 'Walking': 68.52608489990234, 'Greeting': 73.45321655273438, 'Talking': 68.76251983642578}, 'LowerBody': {'All': 97.6314697265625, 'UpperStretching': 95.98313903808594, 'LowerStretching': 111.6693344116211, 'Gesticuling': 70.26834869384766, 'Patting': 91.09732818603516, 'Reacting': 77.63971710205078, 'Gaming': 90.84091186523438, 'Walking': 104.15596771240234, 'Greeting': 68.24610137939453, 'Talking': 66.27870178222656}}\n"
     ]
    },
    {
     "name": "stderr",
     "output_type": "stream",
     "text": [
      " 90%|████████▉ | 2400/2676 [07:05<00:51,  5.40it/s]"
     ]
    },
    {
     "name": "stdout",
     "output_type": "stream",
     "text": [
      "{'FullBody': {'All': 86.37317657470703, 'UpperStretching': 88.04175567626953, 'LowerStretching': 89.61231994628906, 'Gesticuling': 68.05241394042969, 'Patting': 78.90300750732422, 'Reacting': 71.89290618896484, 'Gaming': 81.43109130859375, 'Walking': 86.25228118896484, 'Greeting': 70.9345703125, 'Talking': 67.70525360107422}, 'UpperBody': {'All': 75.11383056640625, 'UpperStretching': 80.08927917480469, 'LowerStretching': 67.54936218261719, 'Gesticuling': 65.82782745361328, 'Patting': 66.75599670410156, 'Reacting': 66.06707000732422, 'Gaming': 71.81897735595703, 'Walking': 68.4436264038086, 'Greeting': 73.83614349365234, 'Talking': 69.10248565673828}, 'LowerBody': {'All': 97.63251495361328, 'UpperStretching': 95.99422454833984, 'LowerStretching': 111.67529296875, 'Gesticuling': 70.2770004272461, 'Patting': 91.05001831054688, 'Reacting': 77.71875, 'Gaming': 91.04320526123047, 'Walking': 104.0609359741211, 'Greeting': 68.03298950195312, 'Talking': 66.3080062866211}}\n"
     ]
    },
    {
     "name": "stderr",
     "output_type": "stream",
     "text": [
      " 97%|█████████▋| 2601/2676 [07:40<00:13,  5.49it/s]"
     ]
    },
    {
     "name": "stdout",
     "output_type": "stream",
     "text": [
      "{'FullBody': {'All': 86.38856506347656, 'UpperStretching': 88.06581115722656, 'LowerStretching': 89.63433837890625, 'Gesticuling': 68.10564422607422, 'Patting': 79.02393341064453, 'Reacting': 71.9911880493164, 'Gaming': 81.36595916748047, 'Walking': 86.21861267089844, 'Greeting': 70.43494415283203, 'Talking': 67.3505630493164}, 'UpperBody': {'All': 75.13874053955078, 'UpperStretching': 80.12901306152344, 'LowerStretching': 67.59217071533203, 'Gesticuling': 65.92493438720703, 'Patting': 66.976806640625, 'Reacting': 66.20366668701172, 'Gaming': 71.79136657714844, 'Walking': 68.36910247802734, 'Greeting': 73.4283218383789, 'Talking': 68.84849548339844}, 'LowerBody': {'All': 97.63838958740234, 'UpperStretching': 96.00259399414062, 'LowerStretching': 111.676513671875, 'Gesticuling': 70.2863540649414, 'Patting': 91.07106018066406, 'Reacting': 77.7787094116211, 'Gaming': 90.9405517578125, 'Walking': 104.06812286376953, 'Greeting': 67.44156646728516, 'Talking': 65.8526382446289}}\n"
     ]
    },
    {
     "name": "stderr",
     "output_type": "stream",
     "text": [
      "100%|██████████| 2676/2676 [07:52<00:00,  5.66it/s]\n",
      "\u001b[94m03:10:05 \u001b[92m[INFO]\u001b[94m Main\u001b[0m: Saving evaluation results...\n",
      "\u001b[94m03:10:05 \u001b[92m[INFO]\u001b[94m Main\u001b[0m: Done.\n",
      "\u001b[94m03:10:05 \u001b[92m[INFO]\u001b[94m Main\u001b[0m: Starting demo...\n",
      "  0%|          | 0/2676 [00:00<?, ?it/s]/opt/conda/lib/python3.10/site-packages/torchvision/transforms/transforms.py:329: UserWarning: Argument 'interpolation' of type int is deprecated since 0.13 and will be removed in 0.15. Please use InterpolationMode enum.\n",
      "  warnings.warn(\n",
      "/opt/conda/lib/python3.10/site-packages/torchvision/transforms/transforms.py:329: UserWarning: Argument 'interpolation' of type int is deprecated since 0.13 and will be removed in 0.15. Please use InterpolationMode enum.\n",
      "  warnings.warn(\n",
      "/opt/conda/lib/python3.10/site-packages/torchvision/transforms/transforms.py:329: UserWarning: Argument 'interpolation' of type int is deprecated since 0.13 and will be removed in 0.15. Please use InterpolationMode enum.\n",
      "  warnings.warn(\n",
      "/opt/conda/lib/python3.10/site-packages/torchvision/transforms/transforms.py:329: UserWarning: Argument 'interpolation' of type int is deprecated since 0.13 and will be removed in 0.15. Please use InterpolationMode enum.\n",
      "  warnings.warn(\n",
      "/opt/conda/lib/python3.10/site-packages/torchvision/transforms/transforms.py:329: UserWarning: Argument 'interpolation' of type int is deprecated since 0.13 and will be removed in 0.15. Please use InterpolationMode enum.\n",
      "  warnings.warn(\n",
      "/opt/conda/lib/python3.10/site-packages/torchvision/transforms/transforms.py:329: UserWarning: Argument 'interpolation' of type int is deprecated since 0.13 and will be removed in 0.15. Please use InterpolationMode enum.\n",
      "  warnings.warn(\n",
      "/opt/conda/lib/python3.10/site-packages/torchvision/transforms/transforms.py:329: UserWarning: Argument 'interpolation' of type int is deprecated since 0.13 and will be removed in 0.15. Please use InterpolationMode enum.\n",
      "  warnings.warn(\n",
      "/opt/conda/lib/python3.10/site-packages/torchvision/transforms/transforms.py:329: UserWarning: Argument 'interpolation' of type int is deprecated since 0.13 and will be removed in 0.15. Please use InterpolationMode enum.\n",
      "  warnings.warn(\n",
      "/opt/conda/lib/python3.10/site-packages/torchvision/transforms/transforms.py:329: UserWarning: Argument 'interpolation' of type int is deprecated since 0.13 and will be removed in 0.15. Please use InterpolationMode enum.\n",
      "  warnings.warn(\n",
      "/opt/conda/lib/python3.10/site-packages/torchvision/transforms/transforms.py:329: UserWarning: Argument 'interpolation' of type int is deprecated since 0.13 and will be removed in 0.15. Please use InterpolationMode enum.\n",
      "  warnings.warn(\n",
      "/opt/conda/lib/python3.10/site-packages/torchvision/transforms/transforms.py:329: UserWarning: Argument 'interpolation' of type int is deprecated since 0.13 and will be removed in 0.15. Please use InterpolationMode enum.\n",
      "  warnings.warn(\n",
      "/opt/conda/lib/python3.10/site-packages/torchvision/transforms/transforms.py:329: UserWarning: Argument 'interpolation' of type int is deprecated since 0.13 and will be removed in 0.15. Please use InterpolationMode enum.\n",
      "  warnings.warn(\n",
      "/opt/conda/lib/python3.10/site-packages/torchvision/transforms/transforms.py:329: UserWarning: Argument 'interpolation' of type int is deprecated since 0.13 and will be removed in 0.15. Please use InterpolationMode enum.\n",
      "  warnings.warn(\n",
      "/opt/conda/lib/python3.10/site-packages/torchvision/transforms/transforms.py:329: UserWarning: Argument 'interpolation' of type int is deprecated since 0.13 and will be removed in 0.15. Please use InterpolationMode enum.\n",
      "  warnings.warn(\n",
      "/opt/conda/lib/python3.10/site-packages/torchvision/transforms/transforms.py:329: UserWarning: Argument 'interpolation' of type int is deprecated since 0.13 and will be removed in 0.15. Please use InterpolationMode enum.\n",
      "  warnings.warn(\n",
      "/opt/conda/lib/python3.10/site-packages/torchvision/transforms/transforms.py:329: UserWarning: Argument 'interpolation' of type int is deprecated since 0.13 and will be removed in 0.15. Please use InterpolationMode enum.\n",
      "  warnings.warn(\n",
      "/opt/conda/lib/python3.10/site-packages/torchvision/transforms/transforms.py:329: UserWarning: Argument 'interpolation' of type int is deprecated since 0.13 and will be removed in 0.15. Please use InterpolationMode enum.\n",
      "  warnings.warn(\n",
      "/opt/conda/lib/python3.10/site-packages/torchvision/transforms/transforms.py:329: UserWarning: Argument 'interpolation' of type int is deprecated since 0.13 and will be removed in 0.15. Please use InterpolationMode enum.\n",
      "  warnings.warn(\n",
      "/opt/conda/lib/python3.10/site-packages/torchvision/transforms/transforms.py:329: UserWarning: Argument 'interpolation' of type int is deprecated since 0.13 and will be removed in 0.15. Please use InterpolationMode enum.\n",
      "  warnings.warn(\n",
      "/opt/conda/lib/python3.10/site-packages/torchvision/transforms/transforms.py:329: UserWarning: Argument 'interpolation' of type int is deprecated since 0.13 and will be removed in 0.15. Please use InterpolationMode enum.\n",
      "  warnings.warn(\n",
      "/opt/conda/lib/python3.10/site-packages/torchvision/transforms/transforms.py:329: UserWarning: Argument 'interpolation' of type int is deprecated since 0.13 and will be removed in 0.15. Please use InterpolationMode enum.\n",
      "  warnings.warn(\n",
      "/opt/conda/lib/python3.10/site-packages/torchvision/transforms/transforms.py:329: UserWarning: Argument 'interpolation' of type int is deprecated since 0.13 and will be removed in 0.15. Please use InterpolationMode enum.\n",
      "  warnings.warn(\n",
      "/opt/conda/lib/python3.10/site-packages/torchvision/transforms/transforms.py:329: UserWarning: Argument 'interpolation' of type int is deprecated since 0.13 and will be removed in 0.15. Please use InterpolationMode enum.\n",
      "  warnings.warn(\n",
      "/opt/conda/lib/python3.10/site-packages/torchvision/transforms/transforms.py:329: UserWarning: Argument 'interpolation' of type int is deprecated since 0.13 and will be removed in 0.15. Please use InterpolationMode enum.\n",
      "  warnings.warn(\n",
      "  8%|▊         | 201/2676 [00:40<07:00,  5.89it/s]"
     ]
    },
    {
     "name": "stdout",
     "output_type": "stream",
     "text": [
      "{'FullBody': {'All': 70.19426727294922, 'LowerStretching': 70.1738510131836, 'UpperStretching': 70.59963989257812, 'Walking': 75.5588607788086, 'Gaming': 69.42713928222656, 'Patting': 70.42867279052734, 'Gesticuling': 58.480045318603516, 'Reacting': 68.01398468017578, 'Greeting': 50.77238082885742, 'Talking': 49.40058898925781}, 'UpperBody': {'All': 53.421287536621094, 'LowerStretching': 44.45649719238281, 'UpperStretching': 56.97317886352539, 'Walking': 50.93294906616211, 'Gaming': 53.583717346191406, 'Patting': 50.571685791015625, 'Gesticuling': 49.61472702026367, 'Reacting': 58.513431549072266, 'Greeting': 44.39609146118164, 'Talking': 43.38523483276367}, 'LowerBody': {'All': 86.96724700927734, 'LowerStretching': 95.8912124633789, 'UpperStretching': 84.22611236572266, 'Walking': 100.18476867675781, 'Gaming': 85.27056121826172, 'Patting': 90.28567504882812, 'Gesticuling': 67.34536743164062, 'Reacting': 77.51453399658203, 'Greeting': 57.148658752441406, 'Talking': 55.415931701660156}}\n"
     ]
    },
    {
     "name": "stderr",
     "output_type": "stream",
     "text": [
      " 15%|█▍        | 401/2676 [01:15<06:08,  6.17it/s]"
     ]
    },
    {
     "name": "stdout",
     "output_type": "stream",
     "text": [
      "{'FullBody': {'All': 70.27114868164062, 'LowerStretching': 69.98298645019531, 'UpperStretching': 70.7350845336914, 'Walking': 74.56130981445312, 'Gaming': 68.99839782714844, 'Patting': 73.04692077636719, 'Gesticuling': 58.798465728759766, 'Reacting': 67.36888122558594, 'Greeting': 51.531158447265625, 'Talking': 52.49482345581055}, 'UpperBody': {'All': 53.395896911621094, 'LowerStretching': 44.105472564697266, 'UpperStretching': 57.00522994995117, 'Walking': 49.70254135131836, 'Gaming': 52.23317337036133, 'Patting': 54.00532150268555, 'Gesticuling': 50.586917877197266, 'Reacting': 58.980289459228516, 'Greeting': 44.537803649902344, 'Talking': 45.249366760253906}, 'LowerBody': {'All': 87.14639282226562, 'LowerStretching': 95.8604965209961, 'UpperStretching': 84.4649429321289, 'Walking': 99.42007446289062, 'Gaming': 85.76361846923828, 'Patting': 92.08851623535156, 'Gesticuling': 67.010009765625, 'Reacting': 75.75747680664062, 'Greeting': 58.52451705932617, 'Talking': 59.74026870727539}}\n"
     ]
    },
    {
     "name": "stderr",
     "output_type": "stream",
     "text": [
      " 22%|██▏       | 600/2676 [01:50<05:57,  5.80it/s]"
     ]
    },
    {
     "name": "stdout",
     "output_type": "stream",
     "text": [
      "{'FullBody': {'All': 70.429443359375, 'LowerStretching': 70.4112777709961, 'UpperStretching': 71.02577209472656, 'Walking': 74.00587463378906, 'Gaming': 68.37765502929688, 'Patting': 71.97158813476562, 'Gesticuling': 59.23828887939453, 'Reacting': 67.4075927734375, 'Greeting': 52.9998893737793, 'Talking': 51.328189849853516}, 'UpperBody': {'All': 53.58846664428711, 'LowerStretching': 44.62012481689453, 'UpperStretching': 57.36593246459961, 'Walking': 49.55865478515625, 'Gaming': 52.1347770690918, 'Patting': 52.66149139404297, 'Gesticuling': 50.33915710449219, 'Reacting': 58.24629211425781, 'Greeting': 46.47508239746094, 'Talking': 44.25032424926758}, 'LowerBody': {'All': 87.27043151855469, 'LowerStretching': 96.20243072509766, 'UpperStretching': 84.68561553955078, 'Walking': 98.4531021118164, 'Gaming': 84.62052917480469, 'Patting': 91.28168487548828, 'Gesticuling': 68.13741302490234, 'Reacting': 76.56889343261719, 'Greeting': 59.52470016479492, 'Talking': 58.40605926513672}}\n"
     ]
    },
    {
     "name": "stderr",
     "output_type": "stream",
     "text": [
      " 30%|██▉       | 801/2676 [02:25<05:13,  5.98it/s]"
     ]
    },
    {
     "name": "stdout",
     "output_type": "stream",
     "text": [
      "{'FullBody': {'All': 70.48138427734375, 'LowerStretching': 70.47504425048828, 'UpperStretching': 71.03824615478516, 'Walking': 74.1021957397461, 'Gaming': 68.21754455566406, 'Patting': 72.06124877929688, 'Gesticuling': 59.64213562011719, 'Reacting': 67.3349380493164, 'Greeting': 53.008827209472656, 'Talking': 52.56538772583008}, 'UpperBody': {'All': 53.573482513427734, 'LowerStretching': 44.56238555908203, 'UpperStretching': 57.376197814941406, 'Walking': 49.5572624206543, 'Gaming': 51.564720153808594, 'Patting': 52.42338180541992, 'Gesticuling': 50.94369888305664, 'Reacting': 57.81062316894531, 'Greeting': 46.23833465576172, 'Talking': 45.113792419433594}, 'LowerBody': {'All': 87.38929748535156, 'LowerStretching': 96.38770294189453, 'UpperStretching': 84.70030212402344, 'Walking': 98.64713287353516, 'Gaming': 84.87036895751953, 'Patting': 91.69911193847656, 'Gesticuling': 68.34056854248047, 'Reacting': 76.8592529296875, 'Greeting': 59.779327392578125, 'Talking': 60.01698303222656}}\n"
     ]
    },
    {
     "name": "stderr",
     "output_type": "stream",
     "text": [
      " 37%|███▋      | 1001/2676 [03:00<04:45,  5.86it/s]"
     ]
    },
    {
     "name": "stdout",
     "output_type": "stream",
     "text": [
      "{'FullBody': {'All': 70.33833312988281, 'LowerStretching': 70.42593383789062, 'UpperStretching': 70.90393829345703, 'Walking': 73.76295471191406, 'Gaming': 69.09416961669922, 'Patting': 72.2799301147461, 'Gesticuling': 59.39402389526367, 'Reacting': 67.01885986328125, 'Greeting': 53.105369567871094, 'Talking': 52.0579833984375}, 'UpperBody': {'All': 53.580657958984375, 'LowerStretching': 44.56007766723633, 'UpperStretching': 57.403831481933594, 'Walking': 49.41567611694336, 'Gaming': 52.26158142089844, 'Patting': 52.67399215698242, 'Gesticuling': 50.943363189697266, 'Reacting': 57.23674392700195, 'Greeting': 46.3972053527832, 'Talking': 44.438201904296875}, 'LowerBody': {'All': 87.09603118896484, 'LowerStretching': 96.29177856445312, 'UpperStretching': 84.40404510498047, 'Walking': 98.11024475097656, 'Gaming': 85.92676544189453, 'Patting': 91.88587951660156, 'Gesticuling': 67.84468841552734, 'Reacting': 76.80098724365234, 'Greeting': 59.813533782958984, 'Talking': 59.67776107788086}}\n"
     ]
    },
    {
     "name": "stderr",
     "output_type": "stream",
     "text": [
      " 45%|████▍     | 1200/2676 [03:35<04:58,  4.95it/s]"
     ]
    },
    {
     "name": "stdout",
     "output_type": "stream",
     "text": [
      "{'FullBody': {'All': 70.36174774169922, 'LowerStretching': 70.56212615966797, 'UpperStretching': 71.00642395019531, 'Walking': 73.56172180175781, 'Gaming': 68.72457122802734, 'Patting': 72.278564453125, 'Gesticuling': 59.11893844604492, 'Reacting': 66.55069732666016, 'Greeting': 53.03324508666992, 'Talking': 52.06985092163086}, 'UpperBody': {'All': 53.60999298095703, 'LowerStretching': 44.65727615356445, 'UpperStretching': 57.48759078979492, 'Walking': 49.45103454589844, 'Gaming': 51.96262741088867, 'Patting': 52.50957489013672, 'Gesticuling': 50.49009323120117, 'Reacting': 56.89683532714844, 'Greeting': 46.45751953125, 'Talking': 44.741519927978516}, 'LowerBody': {'All': 87.1135025024414, 'LowerStretching': 96.46697998046875, 'UpperStretching': 84.5252685546875, 'Walking': 97.67240905761719, 'Gaming': 85.48651123046875, 'Patting': 92.04754638671875, 'Gesticuling': 67.74778747558594, 'Reacting': 76.20455932617188, 'Greeting': 59.60897445678711, 'Talking': 59.39818572998047}}\n"
     ]
    },
    {
     "name": "stderr",
     "output_type": "stream",
     "text": [
      " 52%|█████▏    | 1401/2676 [04:10<03:39,  5.80it/s]"
     ]
    },
    {
     "name": "stdout",
     "output_type": "stream",
     "text": [
      "{'FullBody': {'All': 70.32179260253906, 'LowerStretching': 70.66552734375, 'UpperStretching': 71.00730895996094, 'Walking': 73.64716339111328, 'Gaming': 68.4779281616211, 'Patting': 71.09896087646484, 'Gesticuling': 58.819129943847656, 'Reacting': 65.97899627685547, 'Greeting': 52.76081466674805, 'Talking': 52.0246467590332}, 'UpperBody': {'All': 53.584415435791016, 'LowerStretching': 44.64815902709961, 'UpperStretching': 57.459476470947266, 'Walking': 49.52360534667969, 'Gaming': 51.592430114746094, 'Patting': 51.71582794189453, 'Gesticuling': 50.166725158691406, 'Reacting': 56.773685455322266, 'Greeting': 46.101680755615234, 'Talking': 44.891902923583984}, 'LowerBody': {'All': 87.0591812133789, 'LowerStretching': 96.68289947509766, 'UpperStretching': 84.55513000488281, 'Walking': 97.7707290649414, 'Gaming': 85.36341857910156, 'Patting': 90.48210144042969, 'Gesticuling': 67.47154235839844, 'Reacting': 75.18431091308594, 'Greeting': 59.419944763183594, 'Talking': 59.15739059448242}}\n"
     ]
    },
    {
     "name": "stderr",
     "output_type": "stream",
     "text": [
      " 60%|█████▉    | 1601/2676 [04:45<03:09,  5.66it/s]"
     ]
    },
    {
     "name": "stdout",
     "output_type": "stream",
     "text": [
      "{'FullBody': {'All': 70.34185791015625, 'LowerStretching': 70.70317077636719, 'UpperStretching': 71.04652404785156, 'Walking': 73.61680603027344, 'Gaming': 68.1423568725586, 'Patting': 71.29764556884766, 'Gesticuling': 58.649261474609375, 'Reacting': 66.10065460205078, 'Greeting': 53.142738342285156, 'Talking': 51.653499603271484}, 'UpperBody': {'All': 53.64455032348633, 'LowerStretching': 44.649169921875, 'UpperStretching': 57.570133209228516, 'Walking': 49.53282928466797, 'Gaming': 51.2036018371582, 'Patting': 51.96965026855469, 'Gesticuling': 50.06427764892578, 'Reacting': 56.769256591796875, 'Greeting': 46.454105377197266, 'Talking': 44.80644226074219}, 'LowerBody': {'All': 87.03916931152344, 'LowerStretching': 96.7571792602539, 'UpperStretching': 84.52290344238281, 'Walking': 97.70076751708984, 'Gaming': 85.08112335205078, 'Patting': 90.62564086914062, 'Gesticuling': 67.2342529296875, 'Reacting': 75.43206024169922, 'Greeting': 59.83137512207031, 'Talking': 58.50054931640625}}\n"
     ]
    },
    {
     "name": "stderr",
     "output_type": "stream",
     "text": [
      " 67%|██████▋   | 1800/2676 [05:20<03:02,  4.80it/s]"
     ]
    },
    {
     "name": "stdout",
     "output_type": "stream",
     "text": [
      "{'FullBody': {'All': 70.37725830078125, 'LowerStretching': 70.60899353027344, 'UpperStretching': 71.12358856201172, 'Walking': 73.55281066894531, 'Gaming': 67.86821746826172, 'Patting': 72.7667007446289, 'Gesticuling': 58.5969352722168, 'Reacting': 66.0527114868164, 'Greeting': 52.76030731201172, 'Talking': 51.296024322509766}, 'UpperBody': {'All': 53.633506774902344, 'LowerStretching': 44.59834671020508, 'UpperStretching': 57.601417541503906, 'Walking': 49.53584671020508, 'Gaming': 51.187015533447266, 'Patting': 52.65936279296875, 'Gesticuling': 49.98015213012695, 'Reacting': 56.634456634521484, 'Greeting': 46.25884246826172, 'Talking': 44.24717712402344}, 'LowerBody': {'All': 87.12103271484375, 'LowerStretching': 96.61965942382812, 'UpperStretching': 84.64575958251953, 'Walking': 97.56977081298828, 'Gaming': 84.5494155883789, 'Patting': 92.87403106689453, 'Gesticuling': 67.21372985839844, 'Reacting': 75.4709701538086, 'Greeting': 59.26177215576172, 'Talking': 58.344871520996094}}\n"
     ]
    },
    {
     "name": "stderr",
     "output_type": "stream",
     "text": [
      " 75%|███████▍  | 2001/2676 [05:55<01:55,  5.84it/s]"
     ]
    },
    {
     "name": "stdout",
     "output_type": "stream",
     "text": [
      "{'FullBody': {'All': 70.3271713256836, 'LowerStretching': 70.65792083740234, 'UpperStretching': 71.03308868408203, 'Walking': 73.6541976928711, 'Gaming': 67.54492950439453, 'Patting': 72.5776596069336, 'Gesticuling': 58.50055694580078, 'Reacting': 65.8379135131836, 'Greeting': 52.74665451049805, 'Talking': 51.02897644042969}, 'UpperBody': {'All': 53.6237907409668, 'LowerStretching': 44.62282943725586, 'UpperStretching': 57.606597900390625, 'Walking': 49.57300567626953, 'Gaming': 50.92507553100586, 'Patting': 52.37323760986328, 'Gesticuling': 49.76755905151367, 'Reacting': 56.38077926635742, 'Greeting': 46.24626922607422, 'Talking': 44.09575271606445}, 'LowerBody': {'All': 87.03055572509766, 'LowerStretching': 96.69303131103516, 'UpperStretching': 84.45956420898438, 'Walking': 97.7353744506836, 'Gaming': 84.16478729248047, 'Patting': 92.78208923339844, 'Gesticuling': 67.23355865478516, 'Reacting': 75.2950439453125, 'Greeting': 59.247032165527344, 'Talking': 57.96219253540039}}\n"
     ]
    },
    {
     "name": "stderr",
     "output_type": "stream",
     "text": [
      " 82%|████████▏ | 2201/2676 [06:30<01:25,  5.57it/s]"
     ]
    },
    {
     "name": "stdout",
     "output_type": "stream",
     "text": [
      "{'FullBody': {'All': 70.33184814453125, 'LowerStretching': 70.69168090820312, 'UpperStretching': 71.03520965576172, 'Walking': 73.7745361328125, 'Gaming': 67.50377655029297, 'Patting': 72.64396667480469, 'Gesticuling': 58.3051872253418, 'Reacting': 65.69144439697266, 'Greeting': 52.90785217285156, 'Talking': 51.018253326416016}, 'UpperBody': {'All': 53.619842529296875, 'LowerStretching': 44.643516540527344, 'UpperStretching': 57.58250045776367, 'Walking': 49.63966751098633, 'Gaming': 50.986446380615234, 'Patting': 52.336917877197266, 'Gesticuling': 49.64738082885742, 'Reacting': 56.23590087890625, 'Greeting': 46.43885040283203, 'Talking': 44.17596435546875}, 'LowerBody': {'All': 87.04386138916016, 'LowerStretching': 96.7398452758789, 'UpperStretching': 84.48790740966797, 'Walking': 97.90941619873047, 'Gaming': 84.02110290527344, 'Patting': 92.95100402832031, 'Gesticuling': 66.96299743652344, 'Reacting': 75.14700317382812, 'Greeting': 59.376853942871094, 'Talking': 57.86054992675781}}\n"
     ]
    },
    {
     "name": "stderr",
     "output_type": "stream",
     "text": [
      " 90%|████████▉ | 2400/2676 [07:05<00:49,  5.52it/s]"
     ]
    },
    {
     "name": "stdout",
     "output_type": "stream",
     "text": [
      "{'FullBody': {'All': 70.31147003173828, 'LowerStretching': 70.63997650146484, 'UpperStretching': 71.02375793457031, 'Walking': 73.65900421142578, 'Gaming': 67.37239837646484, 'Patting': 73.26366424560547, 'Gesticuling': 58.2682991027832, 'Reacting': 65.70463562011719, 'Greeting': 53.00883865356445, 'Talking': 50.880001068115234}, 'UpperBody': {'All': 53.6126708984375, 'LowerStretching': 44.617347717285156, 'UpperStretching': 57.5723991394043, 'Walking': 49.566890716552734, 'Gaming': 50.90019989013672, 'Patting': 52.99338912963867, 'Gesticuling': 49.70348358154297, 'Reacting': 56.27840805053711, 'Greeting': 46.50267791748047, 'Talking': 44.06655502319336}, 'LowerBody': {'All': 87.01028442382812, 'LowerStretching': 96.66261291503906, 'UpperStretching': 84.47509765625, 'Walking': 97.75111389160156, 'Gaming': 83.84459686279297, 'Patting': 93.533935546875, 'Gesticuling': 66.8331069946289, 'Reacting': 75.1308822631836, 'Greeting': 59.51499938964844, 'Talking': 57.69344711303711}}\n"
     ]
    },
    {
     "name": "stderr",
     "output_type": "stream",
     "text": [
      " 97%|█████████▋| 2601/2676 [07:40<00:14,  5.16it/s]"
     ]
    },
    {
     "name": "stdout",
     "output_type": "stream",
     "text": [
      "{'FullBody': {'All': 70.30305480957031, 'LowerStretching': 70.64496612548828, 'UpperStretching': 71.04939270019531, 'Walking': 73.6048583984375, 'Gaming': 67.42478942871094, 'Patting': 72.65220642089844, 'Gesticuling': 58.33723831176758, 'Reacting': 65.5771484375, 'Greeting': 52.950286865234375, 'Talking': 50.66291427612305}, 'UpperBody': {'All': 53.6375617980957, 'LowerStretching': 44.64054489135742, 'UpperStretching': 57.6202392578125, 'Walking': 49.56781005859375, 'Gaming': 50.89878463745117, 'Patting': 52.73054885864258, 'Gesticuling': 49.955989837646484, 'Reacting': 56.18727493286133, 'Greeting': 46.49006652832031, 'Talking': 43.84489059448242}, 'LowerBody': {'All': 86.96855163574219, 'LowerStretching': 96.6493911743164, 'UpperStretching': 84.47853088378906, 'Walking': 97.64191436767578, 'Gaming': 83.9508056640625, 'Patting': 92.57386016845703, 'Gesticuling': 66.71847534179688, 'Reacting': 74.9670181274414, 'Greeting': 59.4105110168457, 'Talking': 57.48094177246094}}\n"
     ]
    },
    {
     "name": "stderr",
     "output_type": "stream",
     "text": [
      "100%|██████████| 2676/2676 [07:53<00:00,  5.66it/s]\n",
      "\u001b[94m03:18:00 \u001b[92m[INFO]\u001b[94m Main\u001b[0m: Saving evaluation results...\n",
      "\u001b[94m03:18:00 \u001b[92m[INFO]\u001b[94m Main\u001b[0m: Done.\n",
      "\u001b[94m03:18:00 \u001b[92m[INFO]\u001b[94m Main\u001b[0m: Starting demo...\n",
      "  0%|          | 0/2676 [00:00<?, ?it/s]/opt/conda/lib/python3.10/site-packages/torchvision/transforms/transforms.py:329: UserWarning: Argument 'interpolation' of type int is deprecated since 0.13 and will be removed in 0.15. Please use InterpolationMode enum.\n",
      "  warnings.warn(\n",
      "/opt/conda/lib/python3.10/site-packages/torchvision/transforms/transforms.py:329: UserWarning: Argument 'interpolation' of type int is deprecated since 0.13 and will be removed in 0.15. Please use InterpolationMode enum.\n",
      "  warnings.warn(\n",
      "/opt/conda/lib/python3.10/site-packages/torchvision/transforms/transforms.py:329: UserWarning: Argument 'interpolation' of type int is deprecated since 0.13 and will be removed in 0.15. Please use InterpolationMode enum.\n",
      "  warnings.warn(\n",
      "/opt/conda/lib/python3.10/site-packages/torchvision/transforms/transforms.py:329: UserWarning: Argument 'interpolation' of type int is deprecated since 0.13 and will be removed in 0.15. Please use InterpolationMode enum.\n",
      "  warnings.warn(\n",
      "/opt/conda/lib/python3.10/site-packages/torchvision/transforms/transforms.py:329: UserWarning: Argument 'interpolation' of type int is deprecated since 0.13 and will be removed in 0.15. Please use InterpolationMode enum.\n",
      "  warnings.warn(\n",
      "/opt/conda/lib/python3.10/site-packages/torchvision/transforms/transforms.py:329: UserWarning: Argument 'interpolation' of type int is deprecated since 0.13 and will be removed in 0.15. Please use InterpolationMode enum.\n",
      "  warnings.warn(\n",
      "/opt/conda/lib/python3.10/site-packages/torchvision/transforms/transforms.py:329: UserWarning: Argument 'interpolation' of type int is deprecated since 0.13 and will be removed in 0.15. Please use InterpolationMode enum.\n",
      "  warnings.warn(\n",
      "/opt/conda/lib/python3.10/site-packages/torchvision/transforms/transforms.py:329: UserWarning: Argument 'interpolation' of type int is deprecated since 0.13 and will be removed in 0.15. Please use InterpolationMode enum.\n",
      "  warnings.warn(\n",
      "/opt/conda/lib/python3.10/site-packages/torchvision/transforms/transforms.py:329: UserWarning: Argument 'interpolation' of type int is deprecated since 0.13 and will be removed in 0.15. Please use InterpolationMode enum.\n",
      "  warnings.warn(\n",
      "/opt/conda/lib/python3.10/site-packages/torchvision/transforms/transforms.py:329: UserWarning: Argument 'interpolation' of type int is deprecated since 0.13 and will be removed in 0.15. Please use InterpolationMode enum.\n",
      "  warnings.warn(\n",
      "/opt/conda/lib/python3.10/site-packages/torchvision/transforms/transforms.py:329: UserWarning: Argument 'interpolation' of type int is deprecated since 0.13 and will be removed in 0.15. Please use InterpolationMode enum.\n",
      "  warnings.warn(\n",
      "/opt/conda/lib/python3.10/site-packages/torchvision/transforms/transforms.py:329: UserWarning: Argument 'interpolation' of type int is deprecated since 0.13 and will be removed in 0.15. Please use InterpolationMode enum.\n",
      "  warnings.warn(\n",
      "/opt/conda/lib/python3.10/site-packages/torchvision/transforms/transforms.py:329: UserWarning: Argument 'interpolation' of type int is deprecated since 0.13 and will be removed in 0.15. Please use InterpolationMode enum.\n",
      "  warnings.warn(\n",
      "/opt/conda/lib/python3.10/site-packages/torchvision/transforms/transforms.py:329: UserWarning: Argument 'interpolation' of type int is deprecated since 0.13 and will be removed in 0.15. Please use InterpolationMode enum.\n",
      "  warnings.warn(\n",
      "/opt/conda/lib/python3.10/site-packages/torchvision/transforms/transforms.py:329: UserWarning: Argument 'interpolation' of type int is deprecated since 0.13 and will be removed in 0.15. Please use InterpolationMode enum.\n",
      "  warnings.warn(\n",
      "/opt/conda/lib/python3.10/site-packages/torchvision/transforms/transforms.py:329: UserWarning: Argument 'interpolation' of type int is deprecated since 0.13 and will be removed in 0.15. Please use InterpolationMode enum.\n",
      "  warnings.warn(\n",
      "/opt/conda/lib/python3.10/site-packages/torchvision/transforms/transforms.py:329: UserWarning: Argument 'interpolation' of type int is deprecated since 0.13 and will be removed in 0.15. Please use InterpolationMode enum.\n",
      "  warnings.warn(\n",
      "/opt/conda/lib/python3.10/site-packages/torchvision/transforms/transforms.py:329: UserWarning: Argument 'interpolation' of type int is deprecated since 0.13 and will be removed in 0.15. Please use InterpolationMode enum.\n",
      "  warnings.warn(\n",
      "/opt/conda/lib/python3.10/site-packages/torchvision/transforms/transforms.py:329: UserWarning: Argument 'interpolation' of type int is deprecated since 0.13 and will be removed in 0.15. Please use InterpolationMode enum.\n",
      "  warnings.warn(\n",
      "/opt/conda/lib/python3.10/site-packages/torchvision/transforms/transforms.py:329: UserWarning: Argument 'interpolation' of type int is deprecated since 0.13 and will be removed in 0.15. Please use InterpolationMode enum.\n",
      "  warnings.warn(\n",
      "/opt/conda/lib/python3.10/site-packages/torchvision/transforms/transforms.py:329: UserWarning: Argument 'interpolation' of type int is deprecated since 0.13 and will be removed in 0.15. Please use InterpolationMode enum.\n",
      "  warnings.warn(\n",
      "/opt/conda/lib/python3.10/site-packages/torchvision/transforms/transforms.py:329: UserWarning: Argument 'interpolation' of type int is deprecated since 0.13 and will be removed in 0.15. Please use InterpolationMode enum.\n",
      "  warnings.warn(\n",
      "/opt/conda/lib/python3.10/site-packages/torchvision/transforms/transforms.py:329: UserWarning: Argument 'interpolation' of type int is deprecated since 0.13 and will be removed in 0.15. Please use InterpolationMode enum.\n",
      "  warnings.warn(\n",
      "/opt/conda/lib/python3.10/site-packages/torchvision/transforms/transforms.py:329: UserWarning: Argument 'interpolation' of type int is deprecated since 0.13 and will be removed in 0.15. Please use InterpolationMode enum.\n",
      "  warnings.warn(\n",
      "  8%|▊         | 201/2676 [00:40<06:43,  6.13it/s]"
     ]
    },
    {
     "name": "stdout",
     "output_type": "stream",
     "text": [
      "{'FullBody': {'All': 70.04391479492188, 'UpperStretching': 70.8624038696289, 'Gesticuling': 58.99116134643555, 'Reacting': 64.28273010253906, 'Walking': 71.12472534179688, 'Gaming': 70.75679779052734, 'LowerStretching': 70.63143157958984, 'Talking': 55.18305587768555, 'Patting': 77.49881744384766, 'Greeting': 47.18925476074219}, 'UpperBody': {'All': 55.07777404785156, 'UpperStretching': 58.448455810546875, 'Gesticuling': 55.256683349609375, 'Reacting': 55.6678352355957, 'Walking': 51.2093505859375, 'Gaming': 59.241451263427734, 'LowerStretching': 46.21141052246094, 'Talking': 49.549686431884766, 'Patting': 56.59836959838867, 'Greeting': 44.018898010253906}, 'LowerBody': {'All': 85.01005554199219, 'UpperStretching': 83.27635955810547, 'Gesticuling': 62.725643157958984, 'Reacting': 72.89762878417969, 'Walking': 91.04010009765625, 'Gaming': 82.27212524414062, 'LowerStretching': 95.05145263671875, 'Talking': 60.816444396972656, 'Patting': 98.3992691040039, 'Greeting': 50.3596076965332}}\n"
     ]
    },
    {
     "name": "stderr",
     "output_type": "stream",
     "text": [
      " 15%|█▍        | 401/2676 [01:15<07:04,  5.36it/s]"
     ]
    },
    {
     "name": "stdout",
     "output_type": "stream",
     "text": [
      "{'FullBody': {'All': 70.16517639160156, 'UpperStretching': 70.94566345214844, 'Gesticuling': 58.65164566040039, 'Reacting': 65.40192413330078, 'Walking': 72.11306762695312, 'Gaming': 69.86088562011719, 'LowerStretching': 70.62769317626953, 'Talking': 52.28421401977539, 'Patting': 75.54176330566406, 'Greeting': 49.414344787597656}, 'UpperBody': {'All': 55.312744140625, 'UpperStretching': 58.780921936035156, 'Gesticuling': 54.95231628417969, 'Reacting': 57.87876892089844, 'Walking': 51.485496520996094, 'Gaming': 58.22616958618164, 'LowerStretching': 46.44280242919922, 'Talking': 47.063724517822266, 'Patting': 55.10477828979492, 'Greeting': 46.80451965332031}, 'LowerBody': {'All': 85.01760864257812, 'UpperStretching': 83.11040496826172, 'Gesticuling': 62.35097885131836, 'Reacting': 72.92508697509766, 'Walking': 92.74065399169922, 'Gaming': 81.49562072753906, 'LowerStretching': 94.81258392333984, 'Talking': 57.50469970703125, 'Patting': 95.97874450683594, 'Greeting': 52.02417755126953}}\n"
     ]
    },
    {
     "name": "stderr",
     "output_type": "stream",
     "text": [
      " 22%|██▏       | 600/2676 [01:49<05:43,  6.04it/s]"
     ]
    },
    {
     "name": "stdout",
     "output_type": "stream",
     "text": [
      "{'FullBody': {'All': 69.98490905761719, 'UpperStretching': 70.85067749023438, 'Gesticuling': 58.07849884033203, 'Reacting': 66.79206085205078, 'Walking': 71.25531768798828, 'Gaming': 70.1887435913086, 'LowerStretching': 70.45140075683594, 'Talking': 52.18366622924805, 'Patting': 74.19144439697266, 'Greeting': 50.173519134521484}, 'UpperBody': {'All': 55.260475158691406, 'UpperStretching': 58.93815612792969, 'Gesticuling': 54.587669372558594, 'Reacting': 59.1671142578125, 'Walking': 50.77481460571289, 'Gaming': 57.01262283325195, 'LowerStretching': 46.251373291015625, 'Talking': 46.55129623413086, 'Patting': 54.63642501831055, 'Greeting': 47.584495544433594}, 'LowerBody': {'All': 84.70934295654297, 'UpperStretching': 82.7632064819336, 'Gesticuling': 61.56932830810547, 'Reacting': 74.41702270507812, 'Walking': 91.73583221435547, 'Gaming': 83.3648681640625, 'LowerStretching': 94.65142822265625, 'Talking': 57.816036224365234, 'Patting': 93.74647521972656, 'Greeting': 52.76253890991211}}\n"
     ]
    },
    {
     "name": "stderr",
     "output_type": "stream",
     "text": [
      " 30%|██▉       | 801/2676 [02:25<05:38,  5.54it/s]"
     ]
    },
    {
     "name": "stdout",
     "output_type": "stream",
     "text": [
      "{'FullBody': {'All': 70.07483673095703, 'UpperStretching': 70.9551010131836, 'Gesticuling': 57.789737701416016, 'Reacting': 67.20338439941406, 'Walking': 71.38477325439453, 'Gaming': 69.79133605957031, 'LowerStretching': 70.15170288085938, 'Talking': 52.239654541015625, 'Patting': 77.8909912109375, 'Greeting': 50.47938919067383}, 'UpperBody': {'All': 55.319862365722656, 'UpperStretching': 58.94462966918945, 'Gesticuling': 54.37470626831055, 'Reacting': 59.581172943115234, 'Walking': 50.99568176269531, 'Gaming': 56.457427978515625, 'LowerStretching': 46.19967269897461, 'Talking': 47.064369201660156, 'Patting': 58.244468688964844, 'Greeting': 47.136661529541016}, 'LowerBody': {'All': 84.82980346679688, 'UpperStretching': 82.96558380126953, 'Gesticuling': 61.20476150512695, 'Reacting': 74.82559967041016, 'Walking': 91.77385711669922, 'Gaming': 83.125244140625, 'LowerStretching': 94.10372924804688, 'Talking': 57.414939880371094, 'Patting': 97.53752899169922, 'Greeting': 53.82211685180664}}\n"
     ]
    },
    {
     "name": "stderr",
     "output_type": "stream",
     "text": [
      " 37%|███▋      | 1001/2676 [03:00<04:37,  6.05it/s]"
     ]
    },
    {
     "name": "stdout",
     "output_type": "stream",
     "text": [
      "{'FullBody': {'All': 70.12959289550781, 'UpperStretching': 70.79047393798828, 'Gesticuling': 57.85255432128906, 'Reacting': 67.23226928710938, 'Walking': 71.67892456054688, 'Gaming': 70.49665832519531, 'LowerStretching': 70.46859741210938, 'Talking': 52.86423873901367, 'Patting': 79.46697235107422, 'Greeting': 50.56226348876953}, 'UpperBody': {'All': 55.28413391113281, 'UpperStretching': 58.75613021850586, 'Gesticuling': 54.39493179321289, 'Reacting': 59.35946273803711, 'Walking': 51.13726806640625, 'Gaming': 56.99177551269531, 'LowerStretching': 46.272308349609375, 'Talking': 47.96830749511719, 'Patting': 58.91475296020508, 'Greeting': 47.148193359375}, 'LowerBody': {'All': 84.97505950927734, 'UpperStretching': 82.82481384277344, 'Gesticuling': 61.31016159057617, 'Reacting': 75.1050796508789, 'Walking': 92.2205810546875, 'Gaming': 84.00154113769531, 'LowerStretching': 94.66487884521484, 'Talking': 57.76015853881836, 'Patting': 100.01919555664062, 'Greeting': 53.976341247558594}}\n"
     ]
    },
    {
     "name": "stderr",
     "output_type": "stream",
     "text": [
      " 45%|████▍     | 1200/2676 [03:34<04:09,  5.91it/s]"
     ]
    },
    {
     "name": "stdout",
     "output_type": "stream",
     "text": [
      "{'FullBody': {'All': 70.01634216308594, 'UpperStretching': 70.71157836914062, 'Gesticuling': 57.815818786621094, 'Reacting': 67.20905303955078, 'Walking': 71.49899291992188, 'Gaming': 70.39739227294922, 'LowerStretching': 70.10087585449219, 'Talking': 55.43951416015625, 'Patting': 78.3996810913086, 'Greeting': 51.29483413696289}, 'UpperBody': {'All': 55.177825927734375, 'UpperStretching': 58.65400695800781, 'Gesticuling': 54.426395416259766, 'Reacting': 59.41044616699219, 'Walking': 50.93643569946289, 'Gaming': 57.068538665771484, 'LowerStretching': 46.13511657714844, 'Talking': 49.44985580444336, 'Patting': 58.34550094604492, 'Greeting': 47.88142395019531}, 'LowerBody': {'All': 84.8548583984375, 'UpperStretching': 82.76914978027344, 'Gesticuling': 61.205238342285156, 'Reacting': 75.00765991210938, 'Walking': 92.06156158447266, 'Gaming': 83.72624969482422, 'LowerStretching': 94.0666275024414, 'Talking': 61.42917251586914, 'Patting': 98.45386505126953, 'Greeting': 54.70824432373047}}\n"
     ]
    },
    {
     "name": "stderr",
     "output_type": "stream",
     "text": [
      " 52%|█████▏    | 1401/2676 [04:10<03:50,  5.53it/s]"
     ]
    },
    {
     "name": "stdout",
     "output_type": "stream",
     "text": [
      "{'FullBody': {'All': 70.0545654296875, 'UpperStretching': 70.69474792480469, 'Gesticuling': 57.851112365722656, 'Reacting': 67.91664123535156, 'Walking': 71.63853454589844, 'Gaming': 70.23123931884766, 'LowerStretching': 70.20668029785156, 'Talking': 55.323246002197266, 'Patting': 77.81034851074219, 'Greeting': 51.431983947753906}, 'UpperBody': {'All': 55.24973678588867, 'UpperStretching': 58.666481018066406, 'Gesticuling': 54.55251693725586, 'Reacting': 59.620845794677734, 'Walking': 51.17802429199219, 'Gaming': 57.0224723815918, 'LowerStretching': 46.198246002197266, 'Talking': 49.7265510559082, 'Patting': 58.29751968383789, 'Greeting': 48.288818359375}, 'LowerBody': {'All': 84.85939025878906, 'UpperStretching': 82.7230224609375, 'Gesticuling': 61.149715423583984, 'Reacting': 76.21243286132812, 'Walking': 92.09903717041016, 'Gaming': 83.44000244140625, 'LowerStretching': 94.21509552001953, 'Talking': 60.919944763183594, 'Patting': 97.32318115234375, 'Greeting': 54.57514953613281}}\n"
     ]
    },
    {
     "name": "stderr",
     "output_type": "stream",
     "text": [
      " 60%|█████▉    | 1601/2676 [04:44<03:02,  5.89it/s]"
     ]
    },
    {
     "name": "stdout",
     "output_type": "stream",
     "text": [
      "{'FullBody': {'All': 70.01310729980469, 'UpperStretching': 70.63802337646484, 'Gesticuling': 57.84246063232422, 'Reacting': 67.92324829101562, 'Walking': 71.58341979980469, 'Gaming': 69.86927032470703, 'LowerStretching': 70.31880187988281, 'Talking': 54.98916244506836, 'Patting': 77.51600646972656, 'Greeting': 51.14594268798828}, 'UpperBody': {'All': 55.2357063293457, 'UpperStretching': 58.68537139892578, 'Gesticuling': 54.39312744140625, 'Reacting': 59.44204330444336, 'Walking': 50.98934555053711, 'Gaming': 57.21613693237305, 'LowerStretching': 46.254634857177734, 'Talking': 49.65837860107422, 'Patting': 57.854827880859375, 'Greeting': 47.89822769165039}, 'LowerBody': {'All': 84.79049682617188, 'UpperStretching': 82.59068298339844, 'Gesticuling': 61.29179763793945, 'Reacting': 76.40445709228516, 'Walking': 92.17748260498047, 'Gaming': 82.52240753173828, 'LowerStretching': 94.38296508789062, 'Talking': 60.3199462890625, 'Patting': 97.17720031738281, 'Greeting': 54.39366912841797}}\n"
     ]
    },
    {
     "name": "stderr",
     "output_type": "stream",
     "text": [
      " 67%|██████▋   | 1800/2676 [05:19<02:40,  5.45it/s]"
     ]
    },
    {
     "name": "stdout",
     "output_type": "stream",
     "text": [
      "{'FullBody': {'All': 70.04912567138672, 'UpperStretching': 70.62895202636719, 'Gesticuling': 57.78036880493164, 'Reacting': 68.1334457397461, 'Walking': 71.63456726074219, 'Gaming': 70.02755737304688, 'LowerStretching': 70.30379486083984, 'Talking': 55.08628463745117, 'Patting': 78.78824615478516, 'Greeting': 51.083229064941406}, 'UpperBody': {'All': 55.28275680541992, 'UpperStretching': 58.697235107421875, 'Gesticuling': 54.34422302246094, 'Reacting': 59.59523010253906, 'Walking': 51.039276123046875, 'Gaming': 57.08320617675781, 'LowerStretching': 46.32223129272461, 'Talking': 49.84251403808594, 'Patting': 59.10868835449219, 'Greeting': 48.11532211303711}, 'LowerBody': {'All': 84.81551361083984, 'UpperStretching': 82.5606689453125, 'Gesticuling': 61.216514587402344, 'Reacting': 76.67166900634766, 'Walking': 92.2298583984375, 'Gaming': 82.97190856933594, 'LowerStretching': 94.28534698486328, 'Talking': 60.330055236816406, 'Patting': 98.46780395507812, 'Greeting': 54.05113983154297}}\n"
     ]
    },
    {
     "name": "stderr",
     "output_type": "stream",
     "text": [
      " 75%|███████▍  | 2000/2676 [05:55<02:24,  4.66it/s]"
     ]
    },
    {
     "name": "stdout",
     "output_type": "stream",
     "text": [
      "{'FullBody': {'All': 70.00251770019531, 'UpperStretching': 70.55827331542969, 'Gesticuling': 57.72605895996094, 'Reacting': 67.91492462158203, 'Walking': 71.79165649414062, 'Gaming': 70.00173950195312, 'LowerStretching': 70.30121612548828, 'Talking': 54.93720245361328, 'Patting': 78.58818817138672, 'Greeting': 50.7821159362793}, 'UpperBody': {'All': 55.251983642578125, 'UpperStretching': 58.66349411010742, 'Gesticuling': 54.10352325439453, 'Reacting': 59.494319915771484, 'Walking': 51.13946533203125, 'Gaming': 56.941654205322266, 'LowerStretching': 46.283050537109375, 'Talking': 49.897857666015625, 'Patting': 58.97108840942383, 'Greeting': 47.7663688659668}, 'LowerBody': {'All': 84.75305938720703, 'UpperStretching': 82.45305633544922, 'Gesticuling': 61.34858703613281, 'Reacting': 76.33551788330078, 'Walking': 92.44384765625, 'Gaming': 83.06182861328125, 'LowerStretching': 94.31937408447266, 'Talking': 59.97654724121094, 'Patting': 98.20528411865234, 'Greeting': 53.79786682128906}}\n"
     ]
    },
    {
     "name": "stderr",
     "output_type": "stream",
     "text": [
      " 82%|████████▏ | 2201/2676 [06:30<01:23,  5.66it/s]"
     ]
    },
    {
     "name": "stdout",
     "output_type": "stream",
     "text": [
      "{'FullBody': {'All': 69.99018859863281, 'UpperStretching': 70.526123046875, 'Gesticuling': 57.79956817626953, 'Reacting': 67.89986419677734, 'Walking': 71.88159942626953, 'Gaming': 70.1738510131836, 'LowerStretching': 70.2790298461914, 'Talking': 54.52767562866211, 'Patting': 78.95556640625, 'Greeting': 50.49646759033203}, 'UpperBody': {'All': 55.26933288574219, 'UpperStretching': 58.63808059692383, 'Gesticuling': 54.224456787109375, 'Reacting': 59.54286193847656, 'Walking': 51.23497772216797, 'Gaming': 57.349063873291016, 'LowerStretching': 46.29561996459961, 'Talking': 49.6640625, 'Patting': 59.303653717041016, 'Greeting': 47.602561950683594}, 'LowerBody': {'All': 84.7110595703125, 'UpperStretching': 82.4141616821289, 'Gesticuling': 61.37467956542969, 'Reacting': 76.25686645507812, 'Walking': 92.52824401855469, 'Gaming': 82.99864959716797, 'LowerStretching': 94.26244354248047, 'Talking': 59.39128875732422, 'Patting': 98.60747528076172, 'Greeting': 53.39037322998047}}\n"
     ]
    },
    {
     "name": "stderr",
     "output_type": "stream",
     "text": [
      " 90%|████████▉ | 2400/2676 [07:05<00:52,  5.26it/s]"
     ]
    },
    {
     "name": "stdout",
     "output_type": "stream",
     "text": [
      "{'FullBody': {'All': 70.0366439819336, 'UpperStretching': 70.5716552734375, 'Gesticuling': 57.865089416503906, 'Reacting': 67.92342376708984, 'Walking': 71.9870376586914, 'Gaming': 70.00064086914062, 'LowerStretching': 70.33089447021484, 'Talking': 54.454620361328125, 'Patting': 78.7353744506836, 'Greeting': 50.84220504760742}, 'UpperBody': {'All': 55.31852340698242, 'UpperStretching': 58.66706085205078, 'Gesticuling': 54.17010498046875, 'Reacting': 59.78323745727539, 'Walking': 51.38443374633789, 'Gaming': 57.24716567993164, 'LowerStretching': 46.34035873413086, 'Talking': 49.58776092529297, 'Patting': 59.15888977050781, 'Greeting': 47.96840286254883}, 'LowerBody': {'All': 84.7547836303711, 'UpperStretching': 82.47624206542969, 'Gesticuling': 61.56007385253906, 'Reacting': 76.06360626220703, 'Walking': 92.58964538574219, 'Gaming': 82.7541275024414, 'LowerStretching': 94.3214340209961, 'Talking': 59.32148361206055, 'Patting': 98.3118667602539, 'Greeting': 53.716007232666016}}\n"
     ]
    },
    {
     "name": "stderr",
     "output_type": "stream",
     "text": [
      " 97%|█████████▋| 2601/2676 [07:40<00:13,  5.49it/s]"
     ]
    },
    {
     "name": "stdout",
     "output_type": "stream",
     "text": [
      "{'FullBody': {'All': 70.05772399902344, 'UpperStretching': 70.59783935546875, 'Gesticuling': 57.79145431518555, 'Reacting': 68.1555404663086, 'Walking': 72.0707015991211, 'Gaming': 70.04094696044922, 'LowerStretching': 70.33099365234375, 'Talking': 54.31608963012695, 'Patting': 78.25060272216797, 'Greeting': 50.93762969970703}, 'UpperBody': {'All': 55.324607849121094, 'UpperStretching': 58.68122863769531, 'Gesticuling': 54.04286193847656, 'Reacting': 59.814552307128906, 'Walking': 51.40294647216797, 'Gaming': 57.164573669433594, 'LowerStretching': 46.37785339355469, 'Talking': 49.54610824584961, 'Patting': 58.845314025878906, 'Greeting': 48.03411102294922}, 'LowerBody': {'All': 84.79086303710938, 'UpperStretching': 82.51445007324219, 'Gesticuling': 61.54004669189453, 'Reacting': 76.49653625488281, 'Walking': 92.73844909667969, 'Gaming': 82.91732025146484, 'LowerStretching': 94.28413391113281, 'Talking': 59.086082458496094, 'Patting': 97.6558837890625, 'Greeting': 53.841148376464844}}\n"
     ]
    },
    {
     "name": "stderr",
     "output_type": "stream",
     "text": [
      "100%|██████████| 2676/2676 [07:52<00:00,  5.66it/s]\n",
      "\u001b[94m03:25:54 \u001b[92m[INFO]\u001b[94m Main\u001b[0m: Saving evaluation results...\n",
      "\u001b[94m03:25:54 \u001b[92m[INFO]\u001b[94m Main\u001b[0m: Done.\n"
     ]
    }
   ],
   "source": [
    "for i,p in enumerate(path_):\n",
    "\toutput_path = f'/dataset/data/ours3/baseline616_{i}(heatmapWASP_depthmapWASP_silhouetteWASP_depthmapconv_silconv).json'\n",
    "\tmain(model_path=p,output_path=output_path)"
   ]
  }
 ],
 "metadata": {
  "kernelspec": {
   "display_name": "base",
   "language": "python",
   "name": "python3"
  },
  "language_info": {
   "codemirror_mode": {
    "name": "ipython",
    "version": 3
   },
   "file_extension": ".py",
   "mimetype": "text/x-python",
   "name": "python",
   "nbconvert_exporter": "python",
   "pygments_lexer": "ipython3",
   "version": "3.10.8"
  },
  "orig_nbformat": 4
 },
 "nbformat": 4,
 "nbformat_minor": 2
}
