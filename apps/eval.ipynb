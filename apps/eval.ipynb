{
 "cells": [
  {
   "cell_type": "code",
   "execution_count": 1,
   "metadata": {},
   "outputs": [
    {
     "name": "stderr",
     "output_type": "stream",
     "text": [
      "/opt/conda/lib/python3.10/site-packages/tqdm/auto.py:22: TqdmWarning: IProgress not found. Please update jupyter and ipywidgets. See https://ipywidgets.readthedocs.io/en/stable/user_install.html\n",
      "  from .autonotebook import tqdm as notebook_tqdm\n"
     ]
    }
   ],
   "source": [
    "# Copyright (c) Facebook, Inc. and its affiliates. All Rights Reserved\n",
    "# -*- coding: utf-8 -*-\n",
    "\"\"\"\n",
    "Demo code\n",
    "\n",
    "@author: Denis Tome'\n",
    "\n",
    "\"\"\"\n",
    "from torch.utils.data import DataLoader\n",
    "import torch\n",
    "from torchvision import transforms\n",
    "from base import SetType\n",
    "\n",
    "from mocap import Mocap\n",
    "from utils import config, ConsoleLogger\n",
    "from utils import evaluate, io\n",
    "from model import TempModel\n",
    "from tqdm import tqdm\n",
    "\n",
    "LOGGER = ConsoleLogger(\"Main\")\n",
    "use_cuda = torch.cuda.is_available()\n",
    "device = torch.device(\"cuda\" if use_cuda else \"cpu\")\n"
   ]
  },
  {
   "cell_type": "code",
   "execution_count": 2,
   "metadata": {},
   "outputs": [],
   "source": [
    "\n",
    "def main():\n",
    "\t\"\"\"Main\"\"\"\n",
    "\n",
    "\tLOGGER.info('Starting demo...')\n",
    "\n",
    "\t# ------------------- Data loader -------------------\n",
    "\n",
    "\n",
    "\t# let's load data from validation set as example\n",
    "\tdata = Mocap(\n",
    "\t\tconfig.dataset.test,\n",
    "\t\tSetType.VAL,\n",
    "\t\t)\n",
    "\tdata_loader = DataLoader(\n",
    "\t\tdata,\n",
    "\t\tbatch_size=config.data_loader.batch_size,\n",
    "\t\tshuffle=config.data_loader.shuffle)\n",
    "\n",
    "\t# ------------------- Evaluation -------------------\n",
    "\n",
    "\teval_body = evaluate.EvalBody()\n",
    "\teval_upper = evaluate.EvalUpperBody()\n",
    "\teval_lower = evaluate.EvalLowerBody()\n",
    "\n",
    "\t# ------------------- Read dataset frames -------------------\n",
    "\n",
    "\tmodel = TempModel().to(device)\n",
    "\tmodel = torch.nn.DataParallel(model,device_ids=[0,1])\n",
    "\tmodel.eval()\n",
    "\n",
    "\tfor it, test_batch in enumerate(tqdm(data_loader)):\n",
    "\t\timg = test_batch['image']\n",
    "\t\tp2d = test_batch['fisheye_joints_2d']\n",
    "\t\tp3d = test_batch['joints_3d_cam']\n",
    "\t\taction = test_batch['action']\n",
    "\t\tinput_img = {'image':img}\n",
    "\t\t# LOGGER.info('Iteration: {}'.format(it))\n",
    "\t\t# LOGGER.info('Images: {}'.format(img.shape))\n",
    "\t\t# LOGGER.info('p2ds: {}'.format(p2d.shape))\n",
    "\t\t# LOGGER.info('p3ds: {}'.format(p3d.shape))\n",
    "\t\t# LOGGER.info('Actions: {}'.format(action))\n",
    "\n",
    "\t\t# -----------------------------------------------------------\n",
    "\t\tpred_output = model(input_img,0,False)\n",
    "\t\t# -----------------------------------------------------------\n",
    "\n",
    "\t\t# TODO: replace p3d_hat with model preditions\n",
    "\t\tp3d_hat = pred_output['regressor_dict']['pred_joint']\n",
    "\n",
    "\t\t# Evaluate results using different evaluation metrices\n",
    "\t\ty_output = p3d_hat.data.cpu().numpy() * 1000\n",
    "\t\ty_target = p3d.data.cpu().numpy() * 1000\n",
    "\n",
    "\t\teval_body.eval(y_output, y_target, action)\n",
    "\t\teval_upper.eval(y_output, y_target, action)\n",
    "\t\teval_lower.eval(y_output, y_target, action)\n",
    "\t\tif (it+1)%200==0:\n",
    "\t\t\tprint({'FullBody': eval_body.get_results(),\n",
    "\t\t   'UpperBody': eval_upper.get_results(),\n",
    "\t\t   'LowerBody': eval_lower.get_results()})\n",
    "\t\t# TODO: remove break\n",
    "\t\t\n",
    "\n",
    "\t# ------------------- Save results -------------------\n",
    "\n",
    "\tLOGGER.info('Saving evaluation results...')\n",
    "\tres = {'FullBody': eval_body.get_results(),\n",
    "\t\t   'UpperBody': eval_upper.get_results(),\n",
    "\t\t   'LowerBody': eval_lower.get_results()}\n",
    "\n",
    "\tio.write_json(config.eval.output_file, res)\n",
    "\n",
    "\tLOGGER.info('Done.')"
   ]
  },
  {
   "cell_type": "code",
   "execution_count": 3,
   "metadata": {},
   "outputs": [
    {
     "name": "stderr",
     "output_type": "stream",
     "text": [
      "\u001b[94m00:57:14 \u001b[92m[INFO]\u001b[94m Main\u001b[0m: Starting demo...\n",
      "  0%|          | 0/2676 [00:00<?, ?it/s]/opt/conda/lib/python3.10/site-packages/torchvision/transforms/transforms.py:329: UserWarning: Argument 'interpolation' of type int is deprecated since 0.13 and will be removed in 0.15. Please use InterpolationMode enum.\n",
      "  warnings.warn(\n",
      "  7%|▋         | 200/2676 [08:03<1:38:20,  2.38s/it]"
     ]
    },
    {
     "name": "stdout",
     "output_type": "stream",
     "text": [
      "{'FullBody': {'All': 69.7095718383789, 'Reacting': 61.00023651123047, 'UpperStretching': 70.50285339355469, 'Patting': 73.89226531982422, 'LowerStretching': 70.43629455566406, 'Walking': 72.92426300048828, 'Gaming': 64.06900787353516, 'Talking': 57.718685150146484, 'Gesticuling': 55.73611831665039, 'Greeting': 51.20087814331055}, 'UpperBody': {'All': 52.0637092590332, 'Reacting': 50.35930633544922, 'UpperStretching': 55.83163070678711, 'Patting': 55.94221496582031, 'LowerStretching': 43.67075729370117, 'Walking': 48.327945709228516, 'Gaming': 47.4422607421875, 'Talking': 47.18718719482422, 'Gesticuling': 48.24349594116211, 'Greeting': 43.30038833618164}, 'LowerBody': {'All': 87.35543060302734, 'Reacting': 71.64116668701172, 'UpperStretching': 85.1740951538086, 'Patting': 91.84231567382812, 'LowerStretching': 97.20182800292969, 'Walking': 97.52059173583984, 'Gaming': 80.69574737548828, 'Talking': 68.25018310546875, 'Gesticuling': 63.22872543334961, 'Greeting': 59.10136795043945}}\n"
     ]
    },
    {
     "name": "stderr",
     "output_type": "stream",
     "text": [
      " 15%|█▍        | 400/2676 [16:03<1:34:59,  2.50s/it]"
     ]
    },
    {
     "name": "stdout",
     "output_type": "stream",
     "text": [
      "{'FullBody': {'All': 69.51402282714844, 'Reacting': 60.90645217895508, 'UpperStretching': 70.01951599121094, 'Patting': 74.01456451416016, 'LowerStretching': 71.09854888916016, 'Walking': 72.78242492675781, 'Gaming': 66.48550415039062, 'Talking': 56.254676818847656, 'Gesticuling': 55.243011474609375, 'Greeting': 50.073429107666016}, 'UpperBody': {'All': 51.906097412109375, 'Reacting': 49.84092712402344, 'UpperStretching': 55.615787506103516, 'Patting': 56.62301254272461, 'LowerStretching': 43.89051055908203, 'Walking': 48.30354309082031, 'Gaming': 49.08641815185547, 'Talking': 46.34292221069336, 'Gesticuling': 46.47189712524414, 'Greeting': 41.255210876464844}, 'LowerBody': {'All': 87.12194061279297, 'Reacting': 71.97199249267578, 'UpperStretching': 84.42322540283203, 'Patting': 91.40609741210938, 'LowerStretching': 98.30657958984375, 'Walking': 97.26131439208984, 'Gaming': 83.88458251953125, 'Talking': 66.16642761230469, 'Gesticuling': 64.01412963867188, 'Greeting': 58.891639709472656}}\n"
     ]
    },
    {
     "name": "stderr",
     "output_type": "stream",
     "text": [
      " 22%|██▏       | 600/2676 [24:02<1:23:31,  2.41s/it]"
     ]
    },
    {
     "name": "stdout",
     "output_type": "stream",
     "text": [
      "{'FullBody': {'All': 69.59381103515625, 'Reacting': 61.78046798706055, 'UpperStretching': 70.26470184326172, 'Patting': 71.1298599243164, 'LowerStretching': 71.2412338256836, 'Walking': 72.41621398925781, 'Gaming': 65.958740234375, 'Talking': 55.67258834838867, 'Gesticuling': 55.34618377685547, 'Greeting': 48.88917922973633}, 'UpperBody': {'All': 51.93626403808594, 'Reacting': 50.71247482299805, 'UpperStretching': 55.688838958740234, 'Patting': 55.91926956176758, 'LowerStretching': 43.95132064819336, 'Walking': 48.04582214355469, 'Gaming': 48.80738830566406, 'Talking': 46.00218200683594, 'Gesticuling': 47.011627197265625, 'Greeting': 40.40185546875}, 'LowerBody': {'All': 87.25135040283203, 'Reacting': 72.84847259521484, 'UpperStretching': 84.8405532836914, 'Patting': 86.34043884277344, 'LowerStretching': 98.5311508178711, 'Walking': 96.78659057617188, 'Gaming': 83.11009979248047, 'Talking': 65.34300231933594, 'Gesticuling': 63.68074035644531, 'Greeting': 57.376502990722656}}\n"
     ]
    },
    {
     "name": "stderr",
     "output_type": "stream",
     "text": [
      " 30%|██▉       | 800/2676 [31:58<1:15:45,  2.42s/it]"
     ]
    },
    {
     "name": "stdout",
     "output_type": "stream",
     "text": [
      "{'FullBody': {'All': 69.70838928222656, 'Reacting': 62.83479690551758, 'UpperStretching': 70.30449676513672, 'Patting': 71.21527862548828, 'LowerStretching': 71.56214904785156, 'Walking': 72.31494903564453, 'Gaming': 66.52130889892578, 'Talking': 55.87855529785156, 'Gesticuling': 55.12777328491211, 'Greeting': 48.167335510253906}, 'UpperBody': {'All': 51.99455261230469, 'Reacting': 51.566261291503906, 'UpperStretching': 55.657100677490234, 'Patting': 55.68098831176758, 'LowerStretching': 44.20292282104492, 'Walking': 48.06601333618164, 'Gaming': 48.59566116333008, 'Talking': 46.757102966308594, 'Gesticuling': 46.84392166137695, 'Greeting': 39.206947326660156}, 'LowerBody': {'All': 87.42222595214844, 'Reacting': 74.10333251953125, 'UpperStretching': 84.9518814086914, 'Patting': 86.74956512451172, 'LowerStretching': 98.92137145996094, 'Walking': 96.56390380859375, 'Gaming': 84.44696807861328, 'Talking': 65.0, 'Gesticuling': 63.4116096496582, 'Greeting': 57.12770462036133}}\n"
     ]
    },
    {
     "name": "stderr",
     "output_type": "stream",
     "text": [
      " 37%|███▋      | 1000/2676 [40:00<1:07:04,  2.40s/it]"
     ]
    },
    {
     "name": "stdout",
     "output_type": "stream",
     "text": [
      "{'FullBody': {'All': 69.618896484375, 'Reacting': 63.00728988647461, 'UpperStretching': 70.2257080078125, 'Patting': 69.51126098632812, 'LowerStretching': 71.54618835449219, 'Walking': 72.26258850097656, 'Gaming': 66.42030334472656, 'Talking': 55.438636779785156, 'Gesticuling': 55.026973724365234, 'Greeting': 48.277774810791016}, 'UpperBody': {'All': 51.948326110839844, 'Reacting': 51.82859802246094, 'UpperStretching': 55.61634063720703, 'Patting': 54.77014923095703, 'LowerStretching': 44.133785247802734, 'Walking': 48.02552032470703, 'Gaming': 48.47914505004883, 'Talking': 46.24363708496094, 'Gesticuling': 46.767459869384766, 'Greeting': 39.332496643066406}, 'LowerBody': {'All': 87.28946685791016, 'Reacting': 74.18597412109375, 'UpperStretching': 84.83506774902344, 'Patting': 84.25237274169922, 'LowerStretching': 98.95858764648438, 'Walking': 96.4996566772461, 'Gaming': 84.36146545410156, 'Talking': 64.63362884521484, 'Gesticuling': 63.2864875793457, 'Greeting': 57.223052978515625}}\n"
     ]
    },
    {
     "name": "stderr",
     "output_type": "stream",
     "text": [
      " 45%|████▍     | 1200/2676 [47:59<59:49,  2.43s/it]  "
     ]
    },
    {
     "name": "stdout",
     "output_type": "stream",
     "text": [
      "{'FullBody': {'All': 69.57280731201172, 'Reacting': 63.382408142089844, 'UpperStretching': 70.0995101928711, 'Patting': 70.1181411743164, 'LowerStretching': 71.66574096679688, 'Walking': 72.16630554199219, 'Gaming': 66.77918243408203, 'Talking': 55.57168197631836, 'Gesticuling': 55.08349609375, 'Greeting': 47.78309631347656}, 'UpperBody': {'All': 51.912227630615234, 'Reacting': 52.24497985839844, 'UpperStretching': 55.553863525390625, 'Patting': 55.19197082519531, 'LowerStretching': 44.16521072387695, 'Walking': 47.86862564086914, 'Gaming': 49.18994140625, 'Talking': 45.948280334472656, 'Gesticuling': 46.60176467895508, 'Greeting': 38.62921905517578}, 'LowerBody': {'All': 87.23339080810547, 'Reacting': 74.51983642578125, 'UpperStretching': 84.64515686035156, 'Patting': 85.04430389404297, 'LowerStretching': 99.16627502441406, 'Walking': 96.46398162841797, 'Gaming': 84.36842346191406, 'Talking': 65.1950912475586, 'Gesticuling': 63.56522750854492, 'Greeting': 56.93696594238281}}\n"
     ]
    },
    {
     "name": "stderr",
     "output_type": "stream",
     "text": [
      " 52%|█████▏    | 1400/2676 [55:55<50:24,  2.37s/it]  "
     ]
    },
    {
     "name": "stdout",
     "output_type": "stream",
     "text": [
      "{'FullBody': {'All': 69.66768646240234, 'Reacting': 63.334171295166016, 'UpperStretching': 70.18277740478516, 'Patting': 70.40528869628906, 'LowerStretching': 71.75446319580078, 'Walking': 72.36125183105469, 'Gaming': 66.63239288330078, 'Talking': 55.4632568359375, 'Gesticuling': 55.311378479003906, 'Greeting': 47.55682373046875}, 'UpperBody': {'All': 51.96757888793945, 'Reacting': 52.09311294555664, 'UpperStretching': 55.65093231201172, 'Patting': 55.408599853515625, 'LowerStretching': 44.18881607055664, 'Walking': 47.947784423828125, 'Gaming': 49.09223175048828, 'Talking': 45.87873458862305, 'Gesticuling': 46.8421745300293, 'Greeting': 38.46670913696289}, 'LowerBody': {'All': 87.3677978515625, 'Reacting': 74.57522583007812, 'UpperStretching': 84.7146224975586, 'Patting': 85.40199279785156, 'LowerStretching': 99.32010650634766, 'Walking': 96.77471923828125, 'Gaming': 84.17255401611328, 'Talking': 65.04777526855469, 'Gesticuling': 63.78057861328125, 'Greeting': 56.646942138671875}}\n"
     ]
    },
    {
     "name": "stderr",
     "output_type": "stream",
     "text": [
      " 60%|█████▉    | 1600/2676 [1:03:56<42:29,  2.37s/it]"
     ]
    },
    {
     "name": "stdout",
     "output_type": "stream",
     "text": [
      "{'FullBody': {'All': 69.73379516601562, 'Reacting': 63.13099670410156, 'UpperStretching': 70.28691864013672, 'Patting': 70.90526580810547, 'LowerStretching': 71.78782653808594, 'Walking': 72.36058044433594, 'Gaming': 66.3564224243164, 'Talking': 55.26029968261719, 'Gesticuling': 55.49021530151367, 'Greeting': 47.682701110839844}, 'UpperBody': {'All': 52.050540924072266, 'Reacting': 51.826438903808594, 'UpperStretching': 55.75094223022461, 'Patting': 55.782352447509766, 'LowerStretching': 44.25728225708008, 'Walking': 47.998172760009766, 'Gaming': 48.980316162109375, 'Talking': 46.03856658935547, 'Gesticuling': 47.035003662109375, 'Greeting': 38.66340255737305}, 'LowerBody': {'All': 87.41703796386719, 'Reacting': 74.435546875, 'UpperStretching': 84.82289123535156, 'Patting': 86.02818298339844, 'LowerStretching': 99.31836700439453, 'Walking': 96.72299194335938, 'Gaming': 83.73252868652344, 'Talking': 64.4820327758789, 'Gesticuling': 63.945430755615234, 'Greeting': 56.70201110839844}}\n"
     ]
    },
    {
     "name": "stderr",
     "output_type": "stream",
     "text": [
      " 67%|██████▋   | 1800/2676 [1:11:55<34:48,  2.38s/it]"
     ]
    },
    {
     "name": "stdout",
     "output_type": "stream",
     "text": [
      "{'FullBody': {'All': 69.82465362548828, 'Reacting': 63.30604553222656, 'UpperStretching': 70.44749450683594, 'Patting': 70.38152313232422, 'LowerStretching': 71.88674926757812, 'Walking': 72.14262390136719, 'Gaming': 66.41004180908203, 'Talking': 55.134403228759766, 'Gesticuling': 55.289390563964844, 'Greeting': 47.826290130615234}, 'UpperBody': {'All': 52.13470458984375, 'Reacting': 52.04590606689453, 'UpperStretching': 55.87148666381836, 'Patting': 55.243019104003906, 'LowerStretching': 44.37392044067383, 'Walking': 47.853084564208984, 'Gaming': 49.21237564086914, 'Talking': 45.9937629699707, 'Gesticuling': 47.004669189453125, 'Greeting': 38.728919982910156}, 'LowerBody': {'All': 87.51461029052734, 'Reacting': 74.5661849975586, 'UpperStretching': 85.02350616455078, 'Patting': 85.52003479003906, 'LowerStretching': 99.39957427978516, 'Walking': 96.43217468261719, 'Gaming': 83.60770416259766, 'Talking': 64.27503967285156, 'Gesticuling': 63.5741081237793, 'Greeting': 56.92366027832031}}\n"
     ]
    },
    {
     "name": "stderr",
     "output_type": "stream",
     "text": [
      " 75%|███████▍  | 2000/2676 [1:19:54<28:08,  2.50s/it]"
     ]
    },
    {
     "name": "stdout",
     "output_type": "stream",
     "text": [
      "{'FullBody': {'All': 69.85841369628906, 'Reacting': 63.47115707397461, 'UpperStretching': 70.49037170410156, 'Patting': 70.42330932617188, 'LowerStretching': 71.8637466430664, 'Walking': 72.18930053710938, 'Gaming': 66.6139144897461, 'Talking': 54.80682373046875, 'Gesticuling': 55.31157302856445, 'Greeting': 47.88972091674805}, 'UpperBody': {'All': 52.13991928100586, 'Reacting': 52.192543029785156, 'UpperStretching': 55.87712097167969, 'Patting': 55.12421417236328, 'LowerStretching': 44.384300231933594, 'Walking': 47.85386276245117, 'Gaming': 49.28464889526367, 'Talking': 45.74512481689453, 'Gesticuling': 47.07536315917969, 'Greeting': 38.871307373046875}, 'LowerBody': {'All': 87.576904296875, 'Reacting': 74.74976348876953, 'UpperStretching': 85.10362243652344, 'Patting': 85.72239685058594, 'LowerStretching': 99.34317779541016, 'Walking': 96.52471923828125, 'Gaming': 83.94317626953125, 'Talking': 63.8685188293457, 'Gesticuling': 63.547786712646484, 'Greeting': 56.90812683105469}}\n"
     ]
    },
    {
     "name": "stderr",
     "output_type": "stream",
     "text": [
      " 82%|████████▏ | 2200/2676 [1:27:52<18:45,  2.36s/it]"
     ]
    },
    {
     "name": "stdout",
     "output_type": "stream",
     "text": [
      "{'FullBody': {'All': 69.84242248535156, 'Reacting': 63.80998992919922, 'UpperStretching': 70.42058563232422, 'Patting': 70.3029556274414, 'LowerStretching': 71.904296875, 'Walking': 72.25920867919922, 'Gaming': 66.740234375, 'Talking': 54.668880462646484, 'Gesticuling': 55.34097671508789, 'Greeting': 47.967872619628906}, 'UpperBody': {'All': 52.11756896972656, 'Reacting': 52.498470306396484, 'UpperStretching': 55.805179595947266, 'Patting': 54.88127136230469, 'LowerStretching': 44.42546844482422, 'Walking': 47.87498474121094, 'Gaming': 49.22307586669922, 'Talking': 45.65439224243164, 'Gesticuling': 47.00983810424805, 'Greeting': 38.87678146362305}, 'LowerBody': {'All': 87.56726837158203, 'Reacting': 75.12150573730469, 'UpperStretching': 85.03597259521484, 'Patting': 85.72464752197266, 'LowerStretching': 99.38312530517578, 'Walking': 96.64342498779297, 'Gaming': 84.25738525390625, 'Talking': 63.683372497558594, 'Gesticuling': 63.672115325927734, 'Greeting': 57.058963775634766}}\n"
     ]
    },
    {
     "name": "stderr",
     "output_type": "stream",
     "text": [
      " 90%|████████▉ | 2400/2676 [1:36:03<11:21,  2.47s/it]"
     ]
    },
    {
     "name": "stdout",
     "output_type": "stream",
     "text": [
      "{'FullBody': {'All': 69.84127807617188, 'Reacting': 63.707035064697266, 'UpperStretching': 70.40111541748047, 'Patting': 70.31423950195312, 'LowerStretching': 71.89822387695312, 'Walking': 72.37203216552734, 'Gaming': 66.91883087158203, 'Talking': 54.670467376708984, 'Gesticuling': 55.594390869140625, 'Greeting': 47.9151611328125}, 'UpperBody': {'All': 52.126556396484375, 'Reacting': 52.27705383300781, 'UpperStretching': 55.808807373046875, 'Patting': 54.96131896972656, 'LowerStretching': 44.454654693603516, 'Walking': 47.92267990112305, 'Gaming': 49.208351135253906, 'Talking': 45.584774017333984, 'Gesticuling': 47.181365966796875, 'Greeting': 38.8099250793457}, 'LowerBody': {'All': 87.55599975585938, 'Reacting': 75.13701629638672, 'UpperStretching': 84.99341583251953, 'Patting': 85.66716003417969, 'LowerStretching': 99.341796875, 'Walking': 96.82140350341797, 'Gaming': 84.62931060791016, 'Talking': 63.756160736083984, 'Gesticuling': 64.00740814208984, 'Greeting': 57.0203971862793}}\n"
     ]
    },
    {
     "name": "stderr",
     "output_type": "stream",
     "text": [
      " 97%|█████████▋| 2600/2676 [1:44:04<03:08,  2.48s/it]"
     ]
    },
    {
     "name": "stdout",
     "output_type": "stream",
     "text": [
      "{'FullBody': {'All': 69.82882690429688, 'Reacting': 63.63347244262695, 'UpperStretching': 70.4097671508789, 'Patting': 70.33460235595703, 'LowerStretching': 71.87504577636719, 'Walking': 72.32540130615234, 'Gaming': 67.05892944335938, 'Talking': 54.62150573730469, 'Gesticuling': 55.49241638183594, 'Greeting': 47.91645812988281}, 'UpperBody': {'All': 52.13002395629883, 'Reacting': 52.19387435913086, 'UpperStretching': 55.82720947265625, 'Patting': 55.1173095703125, 'LowerStretching': 44.42859649658203, 'Walking': 47.885990142822266, 'Gaming': 49.257080078125, 'Talking': 45.587955474853516, 'Gesticuling': 47.190608978271484, 'Greeting': 38.88750076293945}, 'LowerBody': {'All': 87.52762603759766, 'Reacting': 75.07307434082031, 'UpperStretching': 84.99232482910156, 'Patting': 85.5519027709961, 'LowerStretching': 99.32149505615234, 'Walking': 96.76483154296875, 'Gaming': 84.86077117919922, 'Talking': 63.65505599975586, 'Gesticuling': 63.79421615600586, 'Greeting': 56.945411682128906}}\n"
     ]
    },
    {
     "name": "stderr",
     "output_type": "stream",
     "text": [
      "100%|██████████| 2676/2676 [1:47:06<00:00,  2.40s/it]\n",
      "\u001b[94m02:44:23 \u001b[92m[INFO]\u001b[94m Main\u001b[0m: Saving evaluation results...\n",
      "\u001b[94m02:44:23 \u001b[92m[INFO]\u001b[94m Main\u001b[0m: Done.\n"
     ]
    }
   ],
   "source": [
    "main()"
   ]
  }
 ],
 "metadata": {
  "kernelspec": {
   "display_name": "base",
   "language": "python",
   "name": "python3"
  },
  "language_info": {
   "codemirror_mode": {
    "name": "ipython",
    "version": 3
   },
   "file_extension": ".py",
   "mimetype": "text/x-python",
   "name": "python",
   "nbconvert_exporter": "python",
   "pygments_lexer": "ipython3",
   "version": "3.10.8"
  },
  "orig_nbformat": 4
 },
 "nbformat": 4,
 "nbformat_minor": 2
}
