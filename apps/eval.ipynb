{
 "cells": [
  {
   "cell_type": "code",
   "execution_count": 1,
   "metadata": {},
   "outputs": [
    {
     "name": "stderr",
     "output_type": "stream",
     "text": [
      "/opt/conda/lib/python3.10/site-packages/tqdm/auto.py:22: TqdmWarning: IProgress not found. Please update jupyter and ipywidgets. See https://ipywidgets.readthedocs.io/en/stable/user_install.html\n",
      "  from .autonotebook import tqdm as notebook_tqdm\n"
     ]
    }
   ],
   "source": [
    "# Copyright (c) Facebook, Inc. and its affiliates. All Rights Reserved\n",
    "# -*- coding: utf-8 -*-\n",
    "\"\"\"\n",
    "Demo code\n",
    "\n",
    "@author: Denis Tome'\n",
    "\n",
    "\"\"\"\n",
    "from torch.utils.data import DataLoader\n",
    "import torch\n",
    "from torchvision import transforms\n",
    "from base import SetType\n",
    "import multiprocessing\n",
    "from mocap import Mocap\n",
    "from utils import config, ConsoleLogger\n",
    "from utils import evaluate, io\n",
    "from model import TempModel\n",
    "from model_xregopose import xR_egoposemodel\n",
    "from model_mo2cap2 import mo2cap_ours\n",
    "from ours_model import Ours_model\n",
    "from tqdm import tqdm\n",
    "import os\n",
    "\n",
    "LOGGER = ConsoleLogger(\"Main\")\n",
    "use_cuda = torch.cuda.is_available()\n",
    "device = torch.device(\"cuda\" if use_cuda else \"cpu\")\n"
   ]
  },
  {
   "cell_type": "code",
   "execution_count": 2,
   "metadata": {},
   "outputs": [],
   "source": [
    "\n",
    "def main(model_path=None,output_path=None):\n",
    "\t\"\"\"Main\"\"\"\n",
    "\n",
    "\tLOGGER.info('Starting demo...')\n",
    "\n",
    "\t# ------------------- Data loader -------------------\n",
    "\n",
    "\n",
    "\t# let's load data from validation set as example\n",
    "\tdata = Mocap(\n",
    "\t\t'/dataset/data/Dataset/TestSet',\n",
    "\t\tSetType.VAL,\n",
    "\t\t)\n",
    "\tdata_loader = DataLoader(\n",
    "\t\tdata,\n",
    "\t\tbatch_size=16,\n",
    "\t\tnum_workers=(multiprocessing.cpu_count() // 3) * 2,\n",
    "\t\tshuffle=True)\n",
    "\n",
    "\t# ------------------- Evaluation -------------------\n",
    "\n",
    "\teval_body = evaluate.EvalBody()\n",
    "\teval_upper = evaluate.EvalUpperBody()\n",
    "\teval_lower = evaluate.EvalLowerBody()\n",
    "\n",
    "\t# ------------------- Read dataset frames -------------------\n",
    "\n",
    "\tmodel = Ours_model(pretrained_path=model_path).to(device)\n",
    "\tmodel = torch.nn.DataParallel(model,device_ids=[0,1])\n",
    "\tmodel.eval()\n",
    "\n",
    "\tfor it, test_batch in enumerate(tqdm(data_loader)):\n",
    "\t\timage = test_batch['image'].cuda()\n",
    "\t\timage_zoom = test_batch['image_zoom'].cuda()\n",
    "\t\tp3d = test_batch['joints_3d_cam']\n",
    "\t\taction = test_batch['action']\n",
    "\t\tinput_img = {\n",
    "\t\t\t'image':image,\n",
    "\t\t\t# 'image_zoom' : image_zoom,\n",
    "\t\t\t}\n",
    "\t\t# LOGGER.info('Iteration: {}'.format(it))\n",
    "\t\t# LOGGER.info('Images: {}'.format(img.shape))\n",
    "\t\t# LOGGER.info('p2ds: {}'.format(p2d.shape))\n",
    "\t\t# LOGGER.info('p3ds: {}'.format(p3d.shape))\n",
    "\t\t# LOGGER.info('Actions: {}'.format(action))\n",
    "\n",
    "\t\t# -----------------------------------------------------------\n",
    "\t\tpred_output = model(input_img)\n",
    "\t\t# -----------------------------------------------------------\n",
    "\n",
    "\t\t# TODO: replace p3d_hat with model preditions\n",
    "\t\tp3d_hat = pred_output['pred_pose']\n",
    "\n",
    "\t\t# Evaluate results using different evaluation metrices\n",
    "\t\ty_output = p3d_hat.data.cpu().numpy() * 1000\n",
    "\t\ty_target = p3d.data.cpu().numpy() * 1000\n",
    "\n",
    "\t\teval_body.eval(y_output, y_target, action)\n",
    "\t\teval_upper.eval(y_output, y_target, action)\n",
    "\t\teval_lower.eval(y_output, y_target, action)\n",
    "\t\tif (it+1)%200==0:\n",
    "\t\t\tprint({'FullBody': eval_body.get_results(),\n",
    "\t\t   'UpperBody': eval_upper.get_results(),\n",
    "\t\t   'LowerBody': eval_lower.get_results()})\n",
    "\t\t\t# break\n",
    "\t\t# TODO: remove break\n",
    "\t\t\n",
    "\n",
    "\t# ------------------- Save results -------------------\n",
    "\n",
    "\tLOGGER.info('Saving evaluation results...')\n",
    "\tres = {'FullBody': eval_body.get_results(),\n",
    "\t\t   'UpperBody': eval_upper.get_results(),\n",
    "\t\t   'LowerBody': eval_lower.get_results()}\n",
    "\n",
    "\tio.write_json(output_path, res)\n",
    "\n",
    "\tLOGGER.info('Done.')"
   ]
  },
  {
   "cell_type": "code",
   "execution_count": 3,
   "metadata": {},
   "outputs": [
    {
     "data": {
      "text/plain": [
       "['/workspace/2d_to_3d/apps/exp845/0.pth',\n",
       " '/workspace/2d_to_3d/apps/exp845/1.pth',\n",
       " '/workspace/2d_to_3d/apps/exp845/2.pth',\n",
       " '/workspace/2d_to_3d/apps/exp845/3.pth',\n",
       " '/workspace/2d_to_3d/apps/exp845/4.pth',\n",
       " '/workspace/2d_to_3d/apps/exp845/5.pth',\n",
       " '/workspace/2d_to_3d/apps/exp845/6.pth',\n",
       " '/workspace/2d_to_3d/apps/exp845/7.pth',\n",
       " '/workspace/2d_to_3d/apps/exp845/8.pth',\n",
       " '/workspace/2d_to_3d/apps/exp845/9.pth',\n",
       " '/workspace/2d_to_3d/apps/exp845/best.pth']"
      ]
     },
     "execution_count": 3,
     "metadata": {},
     "output_type": "execute_result"
    }
   ],
   "source": [
    "import glob\n",
    "path_ =sorted(glob.glob('/workspace/2d_to_3d/apps/exp845'+'/*'))\n",
    "path_"
   ]
  },
  {
   "cell_type": "code",
   "execution_count": 4,
   "metadata": {},
   "outputs": [
    {
     "ename": "RuntimeError",
     "evalue": "No active exception to reraise",
     "output_type": "error",
     "traceback": [
      "\u001b[0;31m---------------------------------------------------------------------------\u001b[0m",
      "\u001b[0;31mRuntimeError\u001b[0m                              Traceback (most recent call last)",
      "\u001b[1;32m/workspace/2d_to_3d/apps/eval.ipynb Cell 4\u001b[0m line \u001b[0;36m4\n\u001b[1;32m      <a href='vscode-notebook-cell://attached-container%2B7b22636f6e7461696e65724e616d65223a222f32645f746f5f3364222c2273657474696e6773223a7b22686f7374223a227373683a2f2f6c61625f776f726b73746174696f6e227d7d/workspace/2d_to_3d/apps/eval.ipynb#W3sdnNjb2RlLXJlbW90ZQ%3D%3D?line=1'>2</a>\u001b[0m gc\u001b[39m.\u001b[39mcollect()\n\u001b[1;32m      <a href='vscode-notebook-cell://attached-container%2B7b22636f6e7461696e65724e616d65223a222f32645f746f5f3364222c2273657474696e6773223a7b22686f7374223a227373683a2f2f6c61625f776f726b73746174696f6e227d7d/workspace/2d_to_3d/apps/eval.ipynb#W3sdnNjb2RlLXJlbW90ZQ%3D%3D?line=2'>3</a>\u001b[0m torch\u001b[39m.\u001b[39mcuda\u001b[39m.\u001b[39mempty_cache()\n\u001b[0;32m----> <a href='vscode-notebook-cell://attached-container%2B7b22636f6e7461696e65724e616d65223a222f32645f746f5f3364222c2273657474696e6773223a7b22686f7374223a227373683a2f2f6c61625f776f726b73746174696f6e227d7d/workspace/2d_to_3d/apps/eval.ipynb#W3sdnNjb2RlLXJlbW90ZQ%3D%3D?line=3'>4</a>\u001b[0m \u001b[39mraise\u001b[39;00m\n",
      "\u001b[0;31mRuntimeError\u001b[0m: No active exception to reraise"
     ]
    }
   ],
   "source": [
    "import gc\n",
    "gc.collect()\n",
    "torch.cuda.empty_cache()\n",
    "raise"
   ]
  },
  {
   "cell_type": "code",
   "execution_count": 5,
   "metadata": {},
   "outputs": [
    {
     "name": "stderr",
     "output_type": "stream",
     "text": [
      "\u001b[94m16:46:32 \u001b[92m[INFO]\u001b[94m Main\u001b[0m: Starting demo...\n",
      "  0%|          | 0/5352 [00:00<?, ?it/s]/opt/conda/lib/python3.10/site-packages/torchvision/transforms/transforms.py:329: UserWarning: Argument 'interpolation' of type int is deprecated since 0.13 and will be removed in 0.15. Please use InterpolationMode enum.\n",
      "  warnings.warn(\n",
      "/opt/conda/lib/python3.10/site-packages/torchvision/transforms/transforms.py:329: UserWarning: Argument 'interpolation' of type int is deprecated since 0.13 and will be removed in 0.15. Please use InterpolationMode enum.\n",
      "  warnings.warn(\n",
      "/opt/conda/lib/python3.10/site-packages/torchvision/transforms/transforms.py:329: UserWarning: Argument 'interpolation' of type int is deprecated since 0.13 and will be removed in 0.15. Please use InterpolationMode enum.\n",
      "  warnings.warn(\n",
      "/opt/conda/lib/python3.10/site-packages/torchvision/transforms/transforms.py:329: UserWarning: Argument 'interpolation' of type int is deprecated since 0.13 and will be removed in 0.15. Please use InterpolationMode enum.\n",
      "  warnings.warn(\n",
      "/opt/conda/lib/python3.10/site-packages/torchvision/transforms/transforms.py:329: UserWarning: Argument 'interpolation' of type int is deprecated since 0.13 and will be removed in 0.15. Please use InterpolationMode enum.\n",
      "  warnings.warn(\n",
      "/opt/conda/lib/python3.10/site-packages/torchvision/transforms/transforms.py:329: UserWarning: Argument 'interpolation' of type int is deprecated since 0.13 and will be removed in 0.15. Please use InterpolationMode enum.\n",
      "  warnings.warn(\n",
      "/opt/conda/lib/python3.10/site-packages/torchvision/transforms/transforms.py:329: UserWarning: Argument 'interpolation' of type int is deprecated since 0.13 and will be removed in 0.15. Please use InterpolationMode enum.\n",
      "  warnings.warn(\n",
      "/opt/conda/lib/python3.10/site-packages/torchvision/transforms/transforms.py:329: UserWarning: Argument 'interpolation' of type int is deprecated since 0.13 and will be removed in 0.15. Please use InterpolationMode enum.\n",
      "  warnings.warn(\n",
      "/opt/conda/lib/python3.10/site-packages/torchvision/transforms/transforms.py:329: UserWarning: Argument 'interpolation' of type int is deprecated since 0.13 and will be removed in 0.15. Please use InterpolationMode enum.\n",
      "  warnings.warn(\n",
      "/opt/conda/lib/python3.10/site-packages/torchvision/transforms/transforms.py:329: UserWarning: Argument 'interpolation' of type int is deprecated since 0.13 and will be removed in 0.15. Please use InterpolationMode enum.\n",
      "  warnings.warn(\n",
      "/opt/conda/lib/python3.10/site-packages/torchvision/transforms/transforms.py:329: UserWarning: Argument 'interpolation' of type int is deprecated since 0.13 and will be removed in 0.15. Please use InterpolationMode enum.\n",
      "  warnings.warn(\n",
      "/opt/conda/lib/python3.10/site-packages/torchvision/transforms/transforms.py:329: UserWarning: Argument 'interpolation' of type int is deprecated since 0.13 and will be removed in 0.15. Please use InterpolationMode enum.\n",
      "  warnings.warn(\n",
      "/opt/conda/lib/python3.10/site-packages/torchvision/transforms/transforms.py:329: UserWarning: Argument 'interpolation' of type int is deprecated since 0.13 and will be removed in 0.15. Please use InterpolationMode enum.\n",
      "  warnings.warn(\n",
      "/opt/conda/lib/python3.10/site-packages/torchvision/transforms/transforms.py:329: UserWarning: Argument 'interpolation' of type int is deprecated since 0.13 and will be removed in 0.15. Please use InterpolationMode enum.\n",
      "  warnings.warn(\n",
      "/opt/conda/lib/python3.10/site-packages/torchvision/transforms/transforms.py:329: UserWarning: Argument 'interpolation' of type int is deprecated since 0.13 and will be removed in 0.15. Please use InterpolationMode enum.\n",
      "  warnings.warn(\n",
      "/opt/conda/lib/python3.10/site-packages/torchvision/transforms/transforms.py:329: UserWarning: Argument 'interpolation' of type int is deprecated since 0.13 and will be removed in 0.15. Please use InterpolationMode enum.\n",
      "  warnings.warn(\n",
      "/opt/conda/lib/python3.10/site-packages/torchvision/transforms/transforms.py:329: UserWarning: Argument 'interpolation' of type int is deprecated since 0.13 and will be removed in 0.15. Please use InterpolationMode enum.\n",
      "  warnings.warn(\n",
      "/opt/conda/lib/python3.10/site-packages/torchvision/transforms/transforms.py:329: UserWarning: Argument 'interpolation' of type int is deprecated since 0.13 and will be removed in 0.15. Please use InterpolationMode enum.\n",
      "  warnings.warn(\n",
      "/opt/conda/lib/python3.10/site-packages/torchvision/transforms/transforms.py:329: UserWarning: Argument 'interpolation' of type int is deprecated since 0.13 and will be removed in 0.15. Please use InterpolationMode enum.\n",
      "  warnings.warn(\n",
      "/opt/conda/lib/python3.10/site-packages/torchvision/transforms/transforms.py:329: UserWarning: Argument 'interpolation' of type int is deprecated since 0.13 and will be removed in 0.15. Please use InterpolationMode enum.\n",
      "  warnings.warn(\n",
      "/opt/conda/lib/python3.10/site-packages/torchvision/transforms/transforms.py:329: UserWarning: Argument 'interpolation' of type int is deprecated since 0.13 and will be removed in 0.15. Please use InterpolationMode enum.\n",
      "  warnings.warn(\n",
      "/opt/conda/lib/python3.10/site-packages/torchvision/transforms/transforms.py:329: UserWarning: Argument 'interpolation' of type int is deprecated since 0.13 and will be removed in 0.15. Please use InterpolationMode enum.\n",
      "  warnings.warn(\n",
      "/opt/conda/lib/python3.10/site-packages/torchvision/transforms/transforms.py:329: UserWarning: Argument 'interpolation' of type int is deprecated since 0.13 and will be removed in 0.15. Please use InterpolationMode enum.\n",
      "  warnings.warn(\n",
      "/opt/conda/lib/python3.10/site-packages/torchvision/transforms/transforms.py:329: UserWarning: Argument 'interpolation' of type int is deprecated since 0.13 and will be removed in 0.15. Please use InterpolationMode enum.\n",
      "  warnings.warn(\n",
      "  4%|▍         | 201/5352 [00:35<11:19,  7.58it/s] "
     ]
    },
    {
     "name": "stdout",
     "output_type": "stream",
     "text": [
      "{'FullBody': {'All': 71.64915466308594, 'Reacting': 72.27447509765625, 'UpperStretching': 73.57062530517578, 'Gesticuling': 53.55022048950195, 'Walking': 74.62921905517578, 'LowerStretching': 68.96863555908203, 'Talking': 51.1196174621582, 'Patting': 64.11270141601562, 'Gaming': 69.2081527709961, 'Greeting': 54.4398193359375}, 'UpperBody': {'All': 55.070213317871094, 'Reacting': 57.71372985839844, 'UpperStretching': 60.095462799072266, 'Gesticuling': 47.57497024536133, 'Walking': 51.27952194213867, 'LowerStretching': 43.886959075927734, 'Talking': 44.93595504760742, 'Patting': 46.64582443237305, 'Gaming': 48.288818359375, 'Greeting': 46.47333908081055}, 'LowerBody': {'All': 88.22809600830078, 'Reacting': 86.8352279663086, 'UpperStretching': 87.04579162597656, 'Gesticuling': 59.52546310424805, 'Walking': 97.97891998291016, 'LowerStretching': 94.05030822753906, 'Talking': 57.30326461791992, 'Patting': 81.57957458496094, 'Gaming': 90.12748718261719, 'Greeting': 62.40629196166992}}\n"
     ]
    },
    {
     "name": "stderr",
     "output_type": "stream",
     "text": [
      "  7%|▋         | 401/5352 [01:02<11:16,  7.32it/s]"
     ]
    },
    {
     "name": "stdout",
     "output_type": "stream",
     "text": [
      "{'FullBody': {'All': 71.80200958251953, 'Reacting': 70.35198211669922, 'UpperStretching': 74.08992767333984, 'Gesticuling': 54.290096282958984, 'Walking': 74.54145812988281, 'LowerStretching': 68.20133972167969, 'Talking': 49.749759674072266, 'Patting': 73.34783935546875, 'Gaming': 67.0553970336914, 'Greeting': 55.4265022277832}, 'UpperBody': {'All': 55.21864318847656, 'Reacting': 56.43246078491211, 'UpperStretching': 60.47470474243164, 'Gesticuling': 47.757293701171875, 'Walking': 51.43403244018555, 'LowerStretching': 44.14405822753906, 'Talking': 44.228275299072266, 'Patting': 51.33330535888672, 'Gaming': 46.82472229003906, 'Greeting': 45.01872634887695}, 'LowerBody': {'All': 88.38536834716797, 'Reacting': 84.27149963378906, 'UpperStretching': 87.70516967773438, 'Gesticuling': 60.822906494140625, 'Walking': 97.64888000488281, 'LowerStretching': 92.25862121582031, 'Talking': 55.2712516784668, 'Patting': 95.36237335205078, 'Gaming': 87.28607940673828, 'Greeting': 65.83429718017578}}\n"
     ]
    },
    {
     "name": "stderr",
     "output_type": "stream",
     "text": [
      " 11%|█         | 601/5352 [01:28<10:01,  7.90it/s]"
     ]
    },
    {
     "name": "stdout",
     "output_type": "stream",
     "text": [
      "{'FullBody': {'All': 71.7861557006836, 'Reacting': 68.9027328491211, 'UpperStretching': 74.08505249023438, 'Gesticuling': 55.90340805053711, 'Walking': 74.29991149902344, 'LowerStretching': 68.1459732055664, 'Talking': 49.241302490234375, 'Patting': 73.95569610595703, 'Gaming': 66.7330322265625, 'Greeting': 54.00718307495117}, 'UpperBody': {'All': 55.26845169067383, 'Reacting': 55.83422088623047, 'UpperStretching': 60.49951171875, 'Gesticuling': 49.92503356933594, 'Walking': 51.643287658691406, 'LowerStretching': 43.988990783691406, 'Talking': 43.009883880615234, 'Patting': 50.72739791870117, 'Gaming': 46.92115783691406, 'Greeting': 43.06938552856445}, 'LowerBody': {'All': 88.30387878417969, 'Reacting': 81.97122955322266, 'UpperStretching': 87.67060089111328, 'Gesticuling': 61.88177490234375, 'Walking': 96.95654296875, 'LowerStretching': 92.30294799804688, 'Talking': 55.472721099853516, 'Patting': 97.18399047851562, 'Gaming': 86.54491424560547, 'Greeting': 64.9449691772461}}\n"
     ]
    },
    {
     "name": "stderr",
     "output_type": "stream",
     "text": [
      " 15%|█▍        | 801/5352 [01:55<11:40,  6.50it/s]"
     ]
    },
    {
     "name": "stdout",
     "output_type": "stream",
     "text": [
      "{'FullBody': {'All': 71.6283950805664, 'Reacting': 68.75658416748047, 'UpperStretching': 73.9545669555664, 'Gesticuling': 56.54600143432617, 'Walking': 74.13961791992188, 'LowerStretching': 67.90839385986328, 'Talking': 49.124088287353516, 'Patting': 73.7882080078125, 'Gaming': 65.69539642333984, 'Greeting': 53.55091857910156}, 'UpperBody': {'All': 55.30339050292969, 'Reacting': 55.742610931396484, 'UpperStretching': 60.60363006591797, 'Gesticuling': 50.14598083496094, 'Walking': 51.354278564453125, 'LowerStretching': 44.163604736328125, 'Talking': 43.111717224121094, 'Patting': 50.60308074951172, 'Gaming': 46.36039352416992, 'Greeting': 42.013248443603516}, 'LowerBody': {'All': 87.95339965820312, 'Reacting': 81.77056884765625, 'UpperStretching': 87.3055191040039, 'Gesticuling': 62.94602966308594, 'Walking': 96.92497253417969, 'LowerStretching': 91.65319061279297, 'Talking': 55.13645553588867, 'Patting': 96.97335052490234, 'Gaming': 85.0303955078125, 'Greeting': 65.08859252929688}}\n"
     ]
    },
    {
     "name": "stderr",
     "output_type": "stream",
     "text": [
      " 19%|█▊        | 1001/5352 [02:21<09:20,  7.77it/s]"
     ]
    },
    {
     "name": "stdout",
     "output_type": "stream",
     "text": [
      "{'FullBody': {'All': 71.73065185546875, 'Reacting': 68.92143249511719, 'UpperStretching': 74.13349914550781, 'Gesticuling': 56.20265197753906, 'Walking': 74.06226348876953, 'LowerStretching': 67.7850112915039, 'Talking': 49.991092681884766, 'Patting': 72.3481216430664, 'Gaming': 66.9033203125, 'Greeting': 54.48738098144531}, 'UpperBody': {'All': 55.454959869384766, 'Reacting': 55.58246612548828, 'UpperStretching': 60.861595153808594, 'Gesticuling': 49.66444778442383, 'Walking': 51.2648811340332, 'LowerStretching': 44.12725830078125, 'Talking': 43.23070526123047, 'Patting': 50.21940231323242, 'Gaming': 47.0055046081543, 'Greeting': 41.375282287597656}, 'LowerBody': {'All': 88.00633239746094, 'Reacting': 82.2603988647461, 'UpperStretching': 87.40538024902344, 'Gesticuling': 62.740848541259766, 'Walking': 96.85965728759766, 'LowerStretching': 91.44277954101562, 'Talking': 56.75148010253906, 'Patting': 94.47684478759766, 'Gaming': 86.80113983154297, 'Greeting': 67.59947967529297}}\n"
     ]
    },
    {
     "name": "stderr",
     "output_type": "stream",
     "text": [
      " 22%|██▏       | 1201/5352 [02:48<10:25,  6.63it/s]"
     ]
    },
    {
     "name": "stdout",
     "output_type": "stream",
     "text": [
      "{'FullBody': {'All': 71.78136444091797, 'Reacting': 68.96126556396484, 'UpperStretching': 74.10728454589844, 'Gesticuling': 55.552852630615234, 'Walking': 74.23602294921875, 'LowerStretching': 68.0638427734375, 'Talking': 50.49442672729492, 'Patting': 72.83293914794922, 'Gaming': 66.36177062988281, 'Greeting': 53.8748893737793}, 'UpperBody': {'All': 55.576847076416016, 'Reacting': 55.64607238769531, 'UpperStretching': 60.95021057128906, 'Gesticuling': 49.06435775756836, 'Walking': 51.33399200439453, 'LowerStretching': 44.327457427978516, 'Talking': 43.33655548095703, 'Patting': 50.85798645019531, 'Gaming': 46.91658401489258, 'Greeting': 40.84682083129883}, 'LowerBody': {'All': 87.9858627319336, 'Reacting': 82.27645874023438, 'UpperStretching': 87.26435852050781, 'Gesticuling': 62.04134750366211, 'Walking': 97.13805389404297, 'LowerStretching': 91.80023193359375, 'Talking': 57.65229415893555, 'Patting': 94.80789947509766, 'Gaming': 85.80696105957031, 'Greeting': 66.9029541015625}}\n"
     ]
    },
    {
     "name": "stderr",
     "output_type": "stream",
     "text": [
      " 26%|██▌       | 1401/5352 [03:14<08:33,  7.70it/s]"
     ]
    },
    {
     "name": "stdout",
     "output_type": "stream",
     "text": [
      "{'FullBody': {'All': 71.79619598388672, 'Reacting': 69.95856475830078, 'UpperStretching': 73.86111450195312, 'Gesticuling': 55.55796813964844, 'Walking': 74.51039123535156, 'LowerStretching': 68.38351440429688, 'Talking': 50.334571838378906, 'Patting': 73.7508316040039, 'Gaming': 66.85746002197266, 'Greeting': 53.94292068481445}, 'UpperBody': {'All': 55.518157958984375, 'Reacting': 56.52732849121094, 'UpperStretching': 60.67584228515625, 'Gesticuling': 49.02324295043945, 'Walking': 51.5037727355957, 'LowerStretching': 44.42576599121094, 'Talking': 43.179664611816406, 'Patting': 52.62091064453125, 'Gaming': 46.99142074584961, 'Greeting': 40.74167251586914}, 'LowerBody': {'All': 88.07423400878906, 'Reacting': 83.3897933959961, 'UpperStretching': 87.04639434814453, 'Gesticuling': 62.09269714355469, 'Walking': 97.51701354980469, 'LowerStretching': 92.34125518798828, 'Talking': 57.48948669433594, 'Patting': 94.88075256347656, 'Gaming': 86.72350311279297, 'Greeting': 67.14417266845703}}\n"
     ]
    },
    {
     "name": "stderr",
     "output_type": "stream",
     "text": [
      " 30%|██▉       | 1601/5352 [03:41<08:16,  7.55it/s]"
     ]
    },
    {
     "name": "stdout",
     "output_type": "stream",
     "text": [
      "{'FullBody': {'All': 71.8111343383789, 'Reacting': 69.8371810913086, 'UpperStretching': 73.93404388427734, 'Gesticuling': 55.280120849609375, 'Walking': 74.4609375, 'LowerStretching': 68.17752075195312, 'Talking': 50.12189865112305, 'Patting': 75.35031127929688, 'Gaming': 66.97909545898438, 'Greeting': 54.26305389404297}, 'UpperBody': {'All': 55.56183624267578, 'Reacting': 56.02790832519531, 'UpperStretching': 60.75156021118164, 'Gesticuling': 48.75897979736328, 'Walking': 51.55888748168945, 'LowerStretching': 44.42066192626953, 'Talking': 42.8455810546875, 'Patting': 53.72779083251953, 'Gaming': 47.28833770751953, 'Greeting': 41.078487396240234}, 'LowerBody': {'All': 88.06041717529297, 'Reacting': 83.64645385742188, 'UpperStretching': 87.11652374267578, 'Gesticuling': 61.80125045776367, 'Walking': 97.36299133300781, 'LowerStretching': 91.93437194824219, 'Talking': 57.39821243286133, 'Patting': 96.97282409667969, 'Gaming': 86.66984558105469, 'Greeting': 67.4476089477539}}\n"
     ]
    },
    {
     "name": "stderr",
     "output_type": "stream",
     "text": [
      " 34%|███▎      | 1801/5352 [04:07<07:39,  7.72it/s]"
     ]
    },
    {
     "name": "stdout",
     "output_type": "stream",
     "text": [
      "{'FullBody': {'All': 71.77652740478516, 'Reacting': 69.77584838867188, 'UpperStretching': 73.98462677001953, 'Gesticuling': 55.188507080078125, 'Walking': 74.45035552978516, 'LowerStretching': 68.08077239990234, 'Talking': 49.79057693481445, 'Patting': 73.60454559326172, 'Gaming': 66.81857299804688, 'Greeting': 55.08260726928711}, 'UpperBody': {'All': 55.61185836791992, 'Reacting': 56.001163482666016, 'UpperStretching': 60.868316650390625, 'Gesticuling': 48.79819107055664, 'Walking': 51.617130279541016, 'LowerStretching': 44.42362594604492, 'Talking': 42.46852111816406, 'Patting': 52.40867233276367, 'Gaming': 47.29743194580078, 'Greeting': 41.67815399169922}, 'LowerBody': {'All': 87.94119262695312, 'Reacting': 83.550537109375, 'UpperStretching': 87.1009292602539, 'Gesticuling': 61.57880401611328, 'Walking': 97.2835693359375, 'LowerStretching': 91.73792266845703, 'Talking': 57.11262893676758, 'Patting': 94.80042266845703, 'Gaming': 86.3396987915039, 'Greeting': 68.487060546875}}\n"
     ]
    },
    {
     "name": "stderr",
     "output_type": "stream",
     "text": [
      " 37%|███▋      | 2001/5352 [04:34<07:55,  7.05it/s]"
     ]
    },
    {
     "name": "stdout",
     "output_type": "stream",
     "text": [
      "{'FullBody': {'All': 71.81849670410156, 'Reacting': 69.75675964355469, 'UpperStretching': 74.0616683959961, 'Gesticuling': 55.16036605834961, 'Walking': 74.36979675292969, 'LowerStretching': 68.19463348388672, 'Talking': 49.92893600463867, 'Patting': 73.63835144042969, 'Gaming': 66.35441589355469, 'Greeting': 54.59016036987305}, 'UpperBody': {'All': 55.68486404418945, 'Reacting': 55.97005844116211, 'UpperStretching': 60.989288330078125, 'Gesticuling': 48.65869903564453, 'Walking': 51.5577278137207, 'LowerStretching': 44.53231430053711, 'Talking': 42.68553161621094, 'Patting': 52.42160415649414, 'Gaming': 47.260223388671875, 'Greeting': 41.73978805541992}, 'LowerBody': {'All': 87.95213317871094, 'Reacting': 83.54346466064453, 'UpperStretching': 87.13404846191406, 'Gesticuling': 61.662025451660156, 'Walking': 97.18186950683594, 'LowerStretching': 91.85694122314453, 'Talking': 57.172332763671875, 'Patting': 94.85509490966797, 'Gaming': 85.44860076904297, 'Greeting': 67.4405288696289}}\n"
     ]
    },
    {
     "name": "stderr",
     "output_type": "stream",
     "text": [
      " 41%|████      | 2201/5352 [05:01<06:54,  7.60it/s]"
     ]
    },
    {
     "name": "stdout",
     "output_type": "stream",
     "text": [
      "{'FullBody': {'All': 71.81768798828125, 'Reacting': 69.64446258544922, 'UpperStretching': 74.05844116210938, 'Gesticuling': 54.86906814575195, 'Walking': 74.26250457763672, 'LowerStretching': 68.3578872680664, 'Talking': 49.85799789428711, 'Patting': 73.49097442626953, 'Gaming': 66.62322235107422, 'Greeting': 54.780399322509766}, 'UpperBody': {'All': 55.69158935546875, 'Reacting': 55.97371292114258, 'UpperStretching': 61.042274475097656, 'Gesticuling': 48.201969146728516, 'Walking': 51.551239013671875, 'LowerStretching': 44.54796600341797, 'Talking': 42.53313446044922, 'Patting': 51.918766021728516, 'Gaming': 47.20893096923828, 'Greeting': 41.82639694213867}, 'LowerBody': {'All': 87.94378662109375, 'Reacting': 83.31520080566406, 'UpperStretching': 87.0746078491211, 'Gesticuling': 61.53617477416992, 'Walking': 96.9737777709961, 'LowerStretching': 92.16780853271484, 'Talking': 57.18285369873047, 'Patting': 95.06316375732422, 'Gaming': 86.03751373291016, 'Greeting': 67.7343978881836}}\n"
     ]
    },
    {
     "name": "stderr",
     "output_type": "stream",
     "text": [
      " 45%|████▍     | 2401/5352 [05:27<07:05,  6.94it/s]"
     ]
    },
    {
     "name": "stdout",
     "output_type": "stream",
     "text": [
      "{'FullBody': {'All': 71.89884948730469, 'Reacting': 69.33285522460938, 'UpperStretching': 74.05476379394531, 'Gesticuling': 55.15657043457031, 'Walking': 74.57925415039062, 'LowerStretching': 68.60511016845703, 'Talking': 49.94739532470703, 'Patting': 73.3988037109375, 'Gaming': 66.7296371459961, 'Greeting': 54.770660400390625}, 'UpperBody': {'All': 55.7049560546875, 'Reacting': 55.68019485473633, 'UpperStretching': 61.01866149902344, 'Gesticuling': 48.25043487548828, 'Walking': 51.68378829956055, 'LowerStretching': 44.66345977783203, 'Talking': 42.73564910888672, 'Patting': 51.45722961425781, 'Gaming': 47.18927764892578, 'Greeting': 41.80583953857422}, 'LowerBody': {'All': 88.09273529052734, 'Reacting': 82.98552703857422, 'UpperStretching': 87.09087371826172, 'Gesticuling': 62.06270217895508, 'Walking': 97.47473907470703, 'LowerStretching': 92.54676818847656, 'Talking': 57.15914535522461, 'Patting': 95.34037017822266, 'Gaming': 86.2699966430664, 'Greeting': 67.73548126220703}}\n"
     ]
    },
    {
     "name": "stderr",
     "output_type": "stream",
     "text": [
      " 49%|████▊     | 2601/5352 [05:54<06:03,  7.57it/s]"
     ]
    },
    {
     "name": "stdout",
     "output_type": "stream",
     "text": [
      "{'FullBody': {'All': 71.8912582397461, 'Reacting': 69.21122741699219, 'UpperStretching': 73.99153900146484, 'Gesticuling': 55.22848129272461, 'Walking': 74.67146301269531, 'LowerStretching': 68.76596069335938, 'Talking': 50.0513801574707, 'Patting': 73.54600524902344, 'Gaming': 66.42284393310547, 'Greeting': 54.79921340942383}, 'UpperBody': {'All': 55.682830810546875, 'Reacting': 55.4311637878418, 'UpperStretching': 60.97296905517578, 'Gesticuling': 48.36988830566406, 'Walking': 51.69403076171875, 'LowerStretching': 44.722801208496094, 'Talking': 42.878326416015625, 'Patting': 51.69058609008789, 'Gaming': 47.11681365966797, 'Greeting': 41.73280715942383}, 'LowerBody': {'All': 88.09969329833984, 'Reacting': 82.99130249023438, 'UpperStretching': 87.0101089477539, 'Gesticuling': 62.08707046508789, 'Walking': 97.6489028930664, 'LowerStretching': 92.80911254882812, 'Talking': 57.22443389892578, 'Patting': 95.40142822265625, 'Gaming': 85.7288589477539, 'Greeting': 67.8656234741211}}\n"
     ]
    },
    {
     "name": "stderr",
     "output_type": "stream",
     "text": [
      " 52%|█████▏    | 2801/5352 [06:20<05:49,  7.30it/s]"
     ]
    },
    {
     "name": "stdout",
     "output_type": "stream",
     "text": [
      "{'FullBody': {'All': 71.869873046875, 'Reacting': 69.4076919555664, 'UpperStretching': 73.88846588134766, 'Gesticuling': 55.13718795776367, 'Walking': 74.77486419677734, 'LowerStretching': 68.78526306152344, 'Talking': 50.56865310668945, 'Patting': 75.0038833618164, 'Gaming': 66.16336059570312, 'Greeting': 54.679874420166016}, 'UpperBody': {'All': 55.65797424316406, 'Reacting': 55.680999755859375, 'UpperStretching': 60.906471252441406, 'Gesticuling': 48.20817565917969, 'Walking': 51.73341369628906, 'LowerStretching': 44.68586730957031, 'Talking': 43.30785369873047, 'Patting': 52.52698516845703, 'Gaming': 46.881996154785156, 'Greeting': 41.52541732788086}, 'LowerBody': {'All': 88.08177185058594, 'Reacting': 83.1343994140625, 'UpperStretching': 86.8704605102539, 'Gesticuling': 62.06619644165039, 'Walking': 97.81632232666016, 'LowerStretching': 92.88465881347656, 'Talking': 57.8294563293457, 'Patting': 97.48078918457031, 'Gaming': 85.44474792480469, 'Greeting': 67.83433532714844}}\n"
     ]
    },
    {
     "name": "stderr",
     "output_type": "stream",
     "text": [
      " 56%|█████▌    | 3001/5352 [06:47<05:20,  7.33it/s]"
     ]
    },
    {
     "name": "stdout",
     "output_type": "stream",
     "text": [
      "{'FullBody': {'All': 71.88270568847656, 'Reacting': 69.4913101196289, 'UpperStretching': 73.83965301513672, 'Gesticuling': 55.27885818481445, 'Walking': 74.76958465576172, 'LowerStretching': 68.8150405883789, 'Talking': 51.02753448486328, 'Patting': 76.40406036376953, 'Gaming': 66.14714813232422, 'Greeting': 54.61419677734375}, 'UpperBody': {'All': 55.66258239746094, 'Reacting': 55.56687927246094, 'UpperStretching': 60.87929153442383, 'Gesticuling': 48.325950622558594, 'Walking': 51.767330169677734, 'LowerStretching': 44.68367385864258, 'Talking': 43.65923309326172, 'Patting': 53.32810592651367, 'Gaming': 46.83620834350586, 'Greeting': 41.294307708740234}, 'LowerBody': {'All': 88.10284423828125, 'Reacting': 83.41573333740234, 'UpperStretching': 86.80001831054688, 'Gesticuling': 62.23176956176758, 'Walking': 97.7718505859375, 'LowerStretching': 92.94641876220703, 'Talking': 58.39583206176758, 'Patting': 99.4800033569336, 'Gaming': 85.45808410644531, 'Greeting': 67.93408203125}}\n"
     ]
    },
    {
     "name": "stderr",
     "output_type": "stream",
     "text": [
      " 60%|█████▉    | 3201/5352 [07:14<04:55,  7.28it/s]"
     ]
    },
    {
     "name": "stdout",
     "output_type": "stream",
     "text": [
      "{'FullBody': {'All': 71.85940551757812, 'Reacting': 69.42871856689453, 'UpperStretching': 73.83224487304688, 'Gesticuling': 55.19603729248047, 'Walking': 74.67888641357422, 'LowerStretching': 68.86157989501953, 'Talking': 51.210872650146484, 'Patting': 75.81281280517578, 'Gaming': 66.2451400756836, 'Greeting': 54.57634353637695}, 'UpperBody': {'All': 55.65590286254883, 'Reacting': 55.56117630004883, 'UpperStretching': 60.874359130859375, 'Gesticuling': 48.30028533935547, 'Walking': 51.70186996459961, 'LowerStretching': 44.695228576660156, 'Talking': 43.738319396972656, 'Patting': 53.0763053894043, 'Gaming': 46.972023010253906, 'Greeting': 41.140281677246094}, 'LowerBody': {'All': 88.06289672851562, 'Reacting': 83.29624938964844, 'UpperStretching': 86.7901382446289, 'Gesticuling': 62.091793060302734, 'Walking': 97.6559066772461, 'LowerStretching': 93.0279312133789, 'Talking': 58.68342971801758, 'Patting': 98.54933166503906, 'Gaming': 85.51824951171875, 'Greeting': 68.01239776611328}}\n"
     ]
    },
    {
     "name": "stderr",
     "output_type": "stream",
     "text": [
      " 64%|██████▎   | 3401/5352 [07:40<04:37,  7.04it/s]"
     ]
    },
    {
     "name": "stdout",
     "output_type": "stream",
     "text": [
      "{'FullBody': {'All': 71.90392303466797, 'Reacting': 69.20862579345703, 'UpperStretching': 73.87109375, 'Gesticuling': 55.180206298828125, 'Walking': 74.78919982910156, 'LowerStretching': 68.81415557861328, 'Talking': 51.39223098754883, 'Patting': 77.18656158447266, 'Gaming': 66.25403594970703, 'Greeting': 54.53096389770508}, 'UpperBody': {'All': 55.653404235839844, 'Reacting': 55.39373016357422, 'UpperStretching': 60.85276412963867, 'Gesticuling': 48.22190856933594, 'Walking': 51.76740264892578, 'LowerStretching': 44.71821594238281, 'Talking': 43.97603225708008, 'Patting': 53.628501892089844, 'Gaming': 46.96775817871094, 'Greeting': 41.14256286621094}, 'LowerBody': {'All': 88.1544418334961, 'Reacting': 83.02352905273438, 'UpperStretching': 86.88943481445312, 'Gesticuling': 62.13850402832031, 'Walking': 97.81099700927734, 'LowerStretching': 92.91009521484375, 'Talking': 58.80842208862305, 'Patting': 100.74462890625, 'Gaming': 85.5403060913086, 'Greeting': 67.91936492919922}}\n"
     ]
    },
    {
     "name": "stderr",
     "output_type": "stream",
     "text": [
      " 67%|██████▋   | 3601/5352 [08:07<04:05,  7.12it/s]"
     ]
    },
    {
     "name": "stdout",
     "output_type": "stream",
     "text": [
      "{'FullBody': {'All': 71.94271850585938, 'Reacting': 69.18746185302734, 'UpperStretching': 73.92227172851562, 'Gesticuling': 55.13911056518555, 'Walking': 74.73179626464844, 'LowerStretching': 68.90538024902344, 'Talking': 51.34973907470703, 'Patting': 76.95169830322266, 'Gaming': 66.37027740478516, 'Greeting': 54.649078369140625}, 'UpperBody': {'All': 55.68817138671875, 'Reacting': 55.39767837524414, 'UpperStretching': 60.889671325683594, 'Gesticuling': 48.18014907836914, 'Walking': 51.78013229370117, 'LowerStretching': 44.75023651123047, 'Talking': 43.91647720336914, 'Patting': 53.428253173828125, 'Gaming': 47.08592987060547, 'Greeting': 41.01164627075195}, 'LowerBody': {'All': 88.19725799560547, 'Reacting': 82.97724151611328, 'UpperStretching': 86.95487976074219, 'Gesticuling': 62.098060607910156, 'Walking': 97.6834487915039, 'LowerStretching': 93.06053161621094, 'Talking': 58.78300476074219, 'Patting': 100.47514343261719, 'Gaming': 85.65461730957031, 'Greeting': 68.28651428222656}}\n"
     ]
    },
    {
     "name": "stderr",
     "output_type": "stream",
     "text": [
      " 71%|███████   | 3801/5352 [08:34<04:16,  6.05it/s]"
     ]
    },
    {
     "name": "stdout",
     "output_type": "stream",
     "text": [
      "{'FullBody': {'All': 71.94949340820312, 'Reacting': 69.26891326904297, 'UpperStretching': 73.92534637451172, 'Gesticuling': 55.17809295654297, 'Walking': 74.78865051269531, 'LowerStretching': 68.85762023925781, 'Talking': 51.088226318359375, 'Patting': 77.0289077758789, 'Gaming': 66.42134857177734, 'Greeting': 54.85523986816406}, 'UpperBody': {'All': 55.68755340576172, 'Reacting': 55.40060806274414, 'UpperStretching': 60.88433074951172, 'Gesticuling': 48.241214752197266, 'Walking': 51.801185607910156, 'LowerStretching': 44.682762145996094, 'Talking': 43.80017852783203, 'Patting': 53.43286895751953, 'Gaming': 47.1017951965332, 'Greeting': 41.06833267211914}, 'LowerBody': {'All': 88.21141815185547, 'Reacting': 83.13721466064453, 'UpperStretching': 86.96636199951172, 'Gesticuling': 62.1149787902832, 'Walking': 97.776123046875, 'LowerStretching': 93.03247833251953, 'Talking': 58.37627029418945, 'Patting': 100.62495422363281, 'Gaming': 85.74090576171875, 'Greeting': 68.64214324951172}}\n"
     ]
    },
    {
     "name": "stderr",
     "output_type": "stream",
     "text": [
      " 75%|███████▍  | 4001/5352 [09:00<03:11,  7.06it/s]"
     ]
    },
    {
     "name": "stdout",
     "output_type": "stream",
     "text": [
      "{'FullBody': {'All': 71.94725036621094, 'Reacting': 69.39261627197266, 'UpperStretching': 73.92030334472656, 'Gesticuling': 55.27644729614258, 'Walking': 74.81525421142578, 'LowerStretching': 68.81832885742188, 'Talking': 51.08327102661133, 'Patting': 77.24260711669922, 'Gaming': 66.2564926147461, 'Greeting': 55.007598876953125}, 'UpperBody': {'All': 55.6912956237793, 'Reacting': 55.40866470336914, 'UpperStretching': 60.89968490600586, 'Gesticuling': 48.41379165649414, 'Walking': 51.85924530029297, 'LowerStretching': 44.617210388183594, 'Talking': 43.82054138183594, 'Patting': 53.54355239868164, 'Gaming': 47.0224494934082, 'Greeting': 41.180809020996094}, 'LowerBody': {'All': 88.20320129394531, 'Reacting': 83.3765640258789, 'UpperStretching': 86.94091796875, 'Gesticuling': 62.13911056518555, 'Walking': 97.77125549316406, 'LowerStretching': 93.01944732666016, 'Talking': 58.34600067138672, 'Patting': 100.94165802001953, 'Gaming': 85.49053955078125, 'Greeting': 68.83438110351562}}\n"
     ]
    },
    {
     "name": "stderr",
     "output_type": "stream",
     "text": [
      " 78%|███████▊  | 4201/5352 [09:27<02:44,  6.99it/s]"
     ]
    },
    {
     "name": "stdout",
     "output_type": "stream",
     "text": [
      "{'FullBody': {'All': 71.93397521972656, 'Reacting': 69.52933502197266, 'UpperStretching': 73.92192077636719, 'Gesticuling': 55.343814849853516, 'Walking': 74.70426177978516, 'LowerStretching': 68.83975219726562, 'Talking': 51.03096008300781, 'Patting': 77.14057159423828, 'Gaming': 66.13143157958984, 'Greeting': 54.989349365234375}, 'UpperBody': {'All': 55.68915939331055, 'Reacting': 55.526607513427734, 'UpperStretching': 60.923912048339844, 'Gesticuling': 48.438472747802734, 'Walking': 51.79860305786133, 'LowerStretching': 44.610145568847656, 'Talking': 43.6938362121582, 'Patting': 53.3271484375, 'Gaming': 46.96149444580078, 'Greeting': 41.21686935424805}, 'LowerBody': {'All': 88.17878723144531, 'Reacting': 83.53206634521484, 'UpperStretching': 86.919921875, 'Gesticuling': 62.2491569519043, 'Walking': 97.60990905761719, 'LowerStretching': 93.06935119628906, 'Talking': 58.368072509765625, 'Patting': 100.9539794921875, 'Gaming': 85.30135345458984, 'Greeting': 68.76182556152344}}\n"
     ]
    },
    {
     "name": "stderr",
     "output_type": "stream",
     "text": [
      " 82%|████████▏ | 4401/5352 [09:53<02:16,  6.98it/s]"
     ]
    },
    {
     "name": "stdout",
     "output_type": "stream",
     "text": [
      "{'FullBody': {'All': 71.95394134521484, 'Reacting': 69.50984954833984, 'UpperStretching': 73.96427154541016, 'Gesticuling': 55.33625411987305, 'Walking': 74.75261688232422, 'LowerStretching': 68.81061553955078, 'Talking': 51.31523513793945, 'Patting': 77.08712768554688, 'Gaming': 66.02488708496094, 'Greeting': 54.89738845825195}, 'UpperBody': {'All': 55.667625427246094, 'Reacting': 55.530948638916016, 'UpperStretching': 60.90578842163086, 'Gesticuling': 48.43919372558594, 'Walking': 51.851234436035156, 'LowerStretching': 44.5992546081543, 'Talking': 43.78380584716797, 'Patting': 53.257381439208984, 'Gaming': 46.916343688964844, 'Greeting': 41.24789810180664}, 'LowerBody': {'All': 88.24026489257812, 'Reacting': 83.48875427246094, 'UpperStretching': 87.02275085449219, 'Gesticuling': 62.23331069946289, 'Walking': 97.65399932861328, 'LowerStretching': 93.02198028564453, 'Talking': 58.84666442871094, 'Patting': 100.91687774658203, 'Gaming': 85.1334457397461, 'Greeting': 68.54688262939453}}\n"
     ]
    },
    {
     "name": "stderr",
     "output_type": "stream",
     "text": [
      " 86%|████████▌ | 4601/5352 [10:20<02:05,  5.98it/s]"
     ]
    },
    {
     "name": "stdout",
     "output_type": "stream",
     "text": [
      "{'FullBody': {'All': 71.99369049072266, 'Reacting': 69.45873260498047, 'UpperStretching': 73.9951400756836, 'Gesticuling': 55.26741409301758, 'Walking': 74.83055877685547, 'LowerStretching': 68.88416290283203, 'Talking': 51.27151107788086, 'Patting': 77.08885192871094, 'Gaming': 66.00074768066406, 'Greeting': 54.8492431640625}, 'UpperBody': {'All': 55.70032501220703, 'Reacting': 55.47997283935547, 'UpperStretching': 60.94430923461914, 'Gesticuling': 48.44826126098633, 'Walking': 51.88388442993164, 'LowerStretching': 44.63224792480469, 'Talking': 43.664039611816406, 'Patting': 53.21026611328125, 'Gaming': 46.930030822753906, 'Greeting': 41.1814079284668}, 'LowerBody': {'All': 88.28705596923828, 'Reacting': 83.43748474121094, 'UpperStretching': 87.04596710205078, 'Gesticuling': 62.08656311035156, 'Walking': 97.7772216796875, 'LowerStretching': 93.13607788085938, 'Talking': 58.87898254394531, 'Patting': 100.96744537353516, 'Gaming': 85.07145690917969, 'Greeting': 68.51708984375}}\n"
     ]
    },
    {
     "name": "stderr",
     "output_type": "stream",
     "text": [
      " 90%|████████▉ | 4801/5352 [10:47<01:17,  7.08it/s]"
     ]
    },
    {
     "name": "stdout",
     "output_type": "stream",
     "text": [
      "{'FullBody': {'All': 72.0258560180664, 'Reacting': 69.39588165283203, 'UpperStretching': 73.98723602294922, 'Gesticuling': 55.33048629760742, 'Walking': 74.87430572509766, 'LowerStretching': 68.95100402832031, 'Talking': 51.3420295715332, 'Patting': 77.92825317382812, 'Gaming': 65.98056030273438, 'Greeting': 54.87642288208008}, 'UpperBody': {'All': 55.703887939453125, 'Reacting': 55.4997444152832, 'UpperStretching': 60.91720199584961, 'Gesticuling': 48.55012512207031, 'Walking': 51.92659378051758, 'LowerStretching': 44.64044189453125, 'Talking': 43.695404052734375, 'Patting': 53.7014274597168, 'Gaming': 46.9285774230957, 'Greeting': 41.19474411010742}, 'LowerBody': {'All': 88.34782409667969, 'Reacting': 83.29200744628906, 'UpperStretching': 87.05725860595703, 'Gesticuling': 62.11083984375, 'Walking': 97.822021484375, 'LowerStretching': 93.26158142089844, 'Talking': 58.98865509033203, 'Patting': 102.15506744384766, 'Gaming': 85.03254699707031, 'Greeting': 68.55809783935547}}\n"
     ]
    },
    {
     "name": "stderr",
     "output_type": "stream",
     "text": [
      " 93%|█████████▎| 5001/5352 [11:13<00:59,  5.95it/s]"
     ]
    },
    {
     "name": "stdout",
     "output_type": "stream",
     "text": [
      "{'FullBody': {'All': 71.98311614990234, 'Reacting': 69.53018188476562, 'UpperStretching': 73.92607879638672, 'Gesticuling': 55.31825637817383, 'Walking': 74.88853454589844, 'LowerStretching': 68.91131591796875, 'Talking': 51.378700256347656, 'Patting': 77.66815185546875, 'Gaming': 66.11429595947266, 'Greeting': 54.904727935791016}, 'UpperBody': {'All': 55.65708923339844, 'Reacting': 55.66381072998047, 'UpperStretching': 60.83070373535156, 'Gesticuling': 48.559688568115234, 'Walking': 51.932247161865234, 'LowerStretching': 44.63508987426758, 'Talking': 43.73979568481445, 'Patting': 53.549495697021484, 'Gaming': 47.006839752197266, 'Greeting': 41.215641021728516}, 'LowerBody': {'All': 88.30914306640625, 'Reacting': 83.39655303955078, 'UpperStretching': 87.02145385742188, 'Gesticuling': 62.07681655883789, 'Walking': 97.84481811523438, 'LowerStretching': 93.18754577636719, 'Talking': 59.017601013183594, 'Patting': 101.78680419921875, 'Gaming': 85.22176361083984, 'Greeting': 68.59380340576172}}\n"
     ]
    },
    {
     "name": "stderr",
     "output_type": "stream",
     "text": [
      " 97%|█████████▋| 5201/5352 [11:40<00:21,  6.93it/s]"
     ]
    },
    {
     "name": "stdout",
     "output_type": "stream",
     "text": [
      "{'FullBody': {'All': 71.9843521118164, 'Reacting': 69.43778228759766, 'UpperStretching': 73.9281234741211, 'Gesticuling': 55.33671951293945, 'Walking': 74.88783264160156, 'LowerStretching': 68.92029571533203, 'Talking': 51.27936553955078, 'Patting': 77.76521301269531, 'Gaming': 65.98592376708984, 'Greeting': 54.84206771850586}, 'UpperBody': {'All': 55.64912796020508, 'Reacting': 55.66890335083008, 'UpperStretching': 60.81787872314453, 'Gesticuling': 48.5490837097168, 'Walking': 51.943302154541016, 'LowerStretching': 44.61377716064453, 'Talking': 43.683448791503906, 'Patting': 53.65040588378906, 'Gaming': 47.00929641723633, 'Greeting': 41.18448257446289}, 'LowerBody': {'All': 88.31958770751953, 'Reacting': 83.2066650390625, 'UpperStretching': 87.03837585449219, 'Gesticuling': 62.12436294555664, 'Walking': 97.83236694335938, 'LowerStretching': 93.226806640625, 'Talking': 58.875274658203125, 'Patting': 101.88002014160156, 'Gaming': 84.96255493164062, 'Greeting': 68.49966430664062}}\n"
     ]
    },
    {
     "name": "stderr",
     "output_type": "stream",
     "text": [
      "100%|██████████| 5352/5352 [12:00<00:00,  7.43it/s]\n",
      "\u001b[94m16:58:35 \u001b[92m[INFO]\u001b[94m Main\u001b[0m: Saving evaluation results...\n",
      "\u001b[94m16:58:35 \u001b[92m[INFO]\u001b[94m Main\u001b[0m: Done.\n",
      "\u001b[94m16:58:35 \u001b[92m[INFO]\u001b[94m Main\u001b[0m: Starting demo...\n",
      "  0%|          | 0/5352 [00:00<?, ?it/s]/opt/conda/lib/python3.10/site-packages/torchvision/transforms/transforms.py:329: UserWarning: Argument 'interpolation' of type int is deprecated since 0.13 and will be removed in 0.15. Please use InterpolationMode enum.\n",
      "  warnings.warn(\n",
      "/opt/conda/lib/python3.10/site-packages/torchvision/transforms/transforms.py:329: UserWarning: Argument 'interpolation' of type int is deprecated since 0.13 and will be removed in 0.15. Please use InterpolationMode enum.\n",
      "  warnings.warn(\n",
      "/opt/conda/lib/python3.10/site-packages/torchvision/transforms/transforms.py:329: UserWarning: Argument 'interpolation' of type int is deprecated since 0.13 and will be removed in 0.15. Please use InterpolationMode enum.\n",
      "  warnings.warn(\n",
      "/opt/conda/lib/python3.10/site-packages/torchvision/transforms/transforms.py:329: UserWarning: Argument 'interpolation' of type int is deprecated since 0.13 and will be removed in 0.15. Please use InterpolationMode enum.\n",
      "  warnings.warn(\n",
      "/opt/conda/lib/python3.10/site-packages/torchvision/transforms/transforms.py:329: UserWarning: Argument 'interpolation' of type int is deprecated since 0.13 and will be removed in 0.15. Please use InterpolationMode enum.\n",
      "  warnings.warn(\n",
      "/opt/conda/lib/python3.10/site-packages/torchvision/transforms/transforms.py:329: UserWarning: Argument 'interpolation' of type int is deprecated since 0.13 and will be removed in 0.15. Please use InterpolationMode enum.\n",
      "  warnings.warn(\n",
      "/opt/conda/lib/python3.10/site-packages/torchvision/transforms/transforms.py:329: UserWarning: Argument 'interpolation' of type int is deprecated since 0.13 and will be removed in 0.15. Please use InterpolationMode enum.\n",
      "  warnings.warn(\n",
      "/opt/conda/lib/python3.10/site-packages/torchvision/transforms/transforms.py:329: UserWarning: Argument 'interpolation' of type int is deprecated since 0.13 and will be removed in 0.15. Please use InterpolationMode enum.\n",
      "  warnings.warn(\n",
      "/opt/conda/lib/python3.10/site-packages/torchvision/transforms/transforms.py:329: UserWarning: Argument 'interpolation' of type int is deprecated since 0.13 and will be removed in 0.15. Please use InterpolationMode enum.\n",
      "  warnings.warn(\n",
      "/opt/conda/lib/python3.10/site-packages/torchvision/transforms/transforms.py:329: UserWarning: Argument 'interpolation' of type int is deprecated since 0.13 and will be removed in 0.15. Please use InterpolationMode enum.\n",
      "  warnings.warn(\n",
      "/opt/conda/lib/python3.10/site-packages/torchvision/transforms/transforms.py:329: UserWarning: Argument 'interpolation' of type int is deprecated since 0.13 and will be removed in 0.15. Please use InterpolationMode enum.\n",
      "  warnings.warn(\n",
      "/opt/conda/lib/python3.10/site-packages/torchvision/transforms/transforms.py:329: UserWarning: Argument 'interpolation' of type int is deprecated since 0.13 and will be removed in 0.15. Please use InterpolationMode enum.\n",
      "  warnings.warn(\n",
      "/opt/conda/lib/python3.10/site-packages/torchvision/transforms/transforms.py:329: UserWarning: Argument 'interpolation' of type int is deprecated since 0.13 and will be removed in 0.15. Please use InterpolationMode enum.\n",
      "  warnings.warn(\n",
      "/opt/conda/lib/python3.10/site-packages/torchvision/transforms/transforms.py:329: UserWarning: Argument 'interpolation' of type int is deprecated since 0.13 and will be removed in 0.15. Please use InterpolationMode enum.\n",
      "  warnings.warn(\n",
      "/opt/conda/lib/python3.10/site-packages/torchvision/transforms/transforms.py:329: UserWarning: Argument 'interpolation' of type int is deprecated since 0.13 and will be removed in 0.15. Please use InterpolationMode enum.\n",
      "  warnings.warn(\n",
      "/opt/conda/lib/python3.10/site-packages/torchvision/transforms/transforms.py:329: UserWarning: Argument 'interpolation' of type int is deprecated since 0.13 and will be removed in 0.15. Please use InterpolationMode enum.\n",
      "  warnings.warn(\n",
      "/opt/conda/lib/python3.10/site-packages/torchvision/transforms/transforms.py:329: UserWarning: Argument 'interpolation' of type int is deprecated since 0.13 and will be removed in 0.15. Please use InterpolationMode enum.\n",
      "  warnings.warn(\n",
      "/opt/conda/lib/python3.10/site-packages/torchvision/transforms/transforms.py:329: UserWarning: Argument 'interpolation' of type int is deprecated since 0.13 and will be removed in 0.15. Please use InterpolationMode enum.\n",
      "  warnings.warn(\n",
      "/opt/conda/lib/python3.10/site-packages/torchvision/transforms/transforms.py:329: UserWarning: Argument 'interpolation' of type int is deprecated since 0.13 and will be removed in 0.15. Please use InterpolationMode enum.\n",
      "  warnings.warn(\n",
      "/opt/conda/lib/python3.10/site-packages/torchvision/transforms/transforms.py:329: UserWarning: Argument 'interpolation' of type int is deprecated since 0.13 and will be removed in 0.15. Please use InterpolationMode enum.\n",
      "  warnings.warn(\n",
      "/opt/conda/lib/python3.10/site-packages/torchvision/transforms/transforms.py:329: UserWarning: Argument 'interpolation' of type int is deprecated since 0.13 and will be removed in 0.15. Please use InterpolationMode enum.\n",
      "  warnings.warn(\n",
      "/opt/conda/lib/python3.10/site-packages/torchvision/transforms/transforms.py:329: UserWarning: Argument 'interpolation' of type int is deprecated since 0.13 and will be removed in 0.15. Please use InterpolationMode enum.\n",
      "  warnings.warn(\n",
      "/opt/conda/lib/python3.10/site-packages/torchvision/transforms/transforms.py:329: UserWarning: Argument 'interpolation' of type int is deprecated since 0.13 and will be removed in 0.15. Please use InterpolationMode enum.\n",
      "  warnings.warn(\n",
      "/opt/conda/lib/python3.10/site-packages/torchvision/transforms/transforms.py:329: UserWarning: Argument 'interpolation' of type int is deprecated since 0.13 and will be removed in 0.15. Please use InterpolationMode enum.\n",
      "  warnings.warn(\n",
      "  4%|▍         | 201/5352 [00:33<11:51,  7.24it/s]"
     ]
    },
    {
     "name": "stdout",
     "output_type": "stream",
     "text": [
      "{'FullBody': {'All': 69.88754272460938, 'UpperStretching': 72.36358642578125, 'LowerStretching': 66.53144836425781, 'Gaming': 70.09152221679688, 'Reacting': 68.8882827758789, 'Gesticuling': 57.448524475097656, 'Walking': 68.14292907714844, 'Patting': 74.16814422607422, 'Talking': 53.47611999511719, 'Greeting': 59.246482849121094}, 'UpperBody': {'All': 53.717071533203125, 'UpperStretching': 58.87117004394531, 'LowerStretching': 42.331459045410156, 'Gaming': 51.12992858886719, 'Reacting': 57.362796783447266, 'Gesticuling': 50.741458892822266, 'Walking': 46.21556091308594, 'Patting': 51.49070358276367, 'Talking': 46.21139144897461, 'Greeting': 49.18903350830078}, 'LowerBody': {'All': 86.05802917480469, 'UpperStretching': 85.85601043701172, 'LowerStretching': 90.73143768310547, 'Gaming': 89.05310821533203, 'Reacting': 80.41378784179688, 'Gesticuling': 64.15559387207031, 'Walking': 90.07029724121094, 'Patting': 96.84559631347656, 'Talking': 60.740848541259766, 'Greeting': 69.3039321899414}}\n"
     ]
    },
    {
     "name": "stderr",
     "output_type": "stream",
     "text": [
      "  7%|▋         | 401/5352 [00:59<10:17,  8.01it/s]"
     ]
    },
    {
     "name": "stdout",
     "output_type": "stream",
     "text": [
      "{'FullBody': {'All': 69.72412872314453, 'UpperStretching': 72.12770080566406, 'LowerStretching': 65.92076873779297, 'Gaming': 68.71314239501953, 'Reacting': 68.8340835571289, 'Gesticuling': 58.39735794067383, 'Walking': 67.67871856689453, 'Patting': 82.07625579833984, 'Talking': 52.56160354614258, 'Greeting': 58.42491912841797}, 'UpperBody': {'All': 53.593421936035156, 'UpperStretching': 58.67980194091797, 'LowerStretching': 41.80543899536133, 'Gaming': 51.25175094604492, 'Reacting': 58.649261474609375, 'Gesticuling': 51.65294647216797, 'Walking': 46.57619857788086, 'Patting': 56.405250549316406, 'Talking': 44.2269172668457, 'Greeting': 48.52753448486328}, 'LowerBody': {'All': 85.85484313964844, 'UpperStretching': 85.57559204101562, 'LowerStretching': 90.03609466552734, 'Gaming': 86.17453002929688, 'Reacting': 79.01890563964844, 'Gesticuling': 65.14175415039062, 'Walking': 88.78124237060547, 'Patting': 107.74727630615234, 'Talking': 60.89628601074219, 'Greeting': 68.32230377197266}}\n"
     ]
    },
    {
     "name": "stderr",
     "output_type": "stream",
     "text": [
      " 11%|█         | 601/5352 [01:25<10:12,  7.76it/s]"
     ]
    },
    {
     "name": "stdout",
     "output_type": "stream",
     "text": [
      "{'FullBody': {'All': 69.83807373046875, 'UpperStretching': 72.01903533935547, 'LowerStretching': 65.84440612792969, 'Gaming': 69.47186279296875, 'Reacting': 68.85868835449219, 'Gesticuling': 57.7028694152832, 'Walking': 68.01133728027344, 'Patting': 90.4548568725586, 'Talking': 53.827510833740234, 'Greeting': 55.58121109008789}, 'UpperBody': {'All': 53.4728889465332, 'UpperStretching': 58.44764709472656, 'LowerStretching': 41.45216369628906, 'Gaming': 51.12748718261719, 'Reacting': 59.713539123535156, 'Gesticuling': 51.700897216796875, 'Walking': 46.703651428222656, 'Patting': 61.5570182800293, 'Talking': 44.29325866699219, 'Greeting': 46.49345779418945}, 'LowerBody': {'All': 86.20323944091797, 'UpperStretching': 85.59041595458984, 'LowerStretching': 90.23664855957031, 'Gaming': 87.81624603271484, 'Reacting': 78.00382232666016, 'Gesticuling': 63.7048454284668, 'Walking': 89.31901550292969, 'Patting': 119.35267639160156, 'Talking': 63.361759185791016, 'Greeting': 64.66895294189453}}\n"
     ]
    },
    {
     "name": "stderr",
     "output_type": "stream",
     "text": [
      " 15%|█▍        | 801/5352 [01:52<09:48,  7.74it/s]"
     ]
    },
    {
     "name": "stdout",
     "output_type": "stream",
     "text": [
      "{'FullBody': {'All': 69.68196105957031, 'UpperStretching': 71.74407196044922, 'LowerStretching': 66.25801849365234, 'Gaming': 66.82208251953125, 'Reacting': 68.83659362792969, 'Gesticuling': 57.51030731201172, 'Walking': 67.99771881103516, 'Patting': 87.11892700195312, 'Talking': 53.189849853515625, 'Greeting': 56.97699737548828}, 'UpperBody': {'All': 53.26386260986328, 'UpperStretching': 58.234615325927734, 'LowerStretching': 41.585479736328125, 'Gaming': 49.902042388916016, 'Reacting': 59.87904357910156, 'Gesticuling': 51.37034606933594, 'Walking': 46.408241271972656, 'Patting': 59.32571029663086, 'Talking': 43.75542068481445, 'Greeting': 47.01057815551758}, 'LowerBody': {'All': 86.10005187988281, 'UpperStretching': 85.25352478027344, 'LowerStretching': 90.93055725097656, 'Gaming': 83.74211883544922, 'Reacting': 77.79413604736328, 'Gesticuling': 63.650264739990234, 'Walking': 89.58718872070312, 'Patting': 114.9121322631836, 'Talking': 62.62428283691406, 'Greeting': 66.94342041015625}}\n"
     ]
    },
    {
     "name": "stderr",
     "output_type": "stream",
     "text": [
      " 19%|█▊        | 1001/5352 [02:19<09:42,  7.47it/s]"
     ]
    },
    {
     "name": "stdout",
     "output_type": "stream",
     "text": [
      "{'FullBody': {'All': 69.45977783203125, 'UpperStretching': 71.42976379394531, 'LowerStretching': 66.47058868408203, 'Gaming': 66.98111724853516, 'Reacting': 69.17398071289062, 'Gesticuling': 57.96007537841797, 'Walking': 67.6884765625, 'Patting': 84.33131408691406, 'Talking': 52.6059684753418, 'Greeting': 57.19764709472656}, 'UpperBody': {'All': 53.19937515258789, 'UpperStretching': 58.07478713989258, 'LowerStretching': 41.696754455566406, 'Gaming': 50.52236557006836, 'Reacting': 60.317386627197266, 'Gesticuling': 51.71297073364258, 'Walking': 46.1156120300293, 'Patting': 57.54192352294922, 'Talking': 43.64676284790039, 'Greeting': 46.80438232421875}, 'LowerBody': {'All': 85.7201919555664, 'UpperStretching': 84.78472900390625, 'LowerStretching': 91.24442291259766, 'Gaming': 83.43987274169922, 'Reacting': 78.03057861328125, 'Gesticuling': 64.20719146728516, 'Walking': 89.26134490966797, 'Patting': 111.12071228027344, 'Talking': 61.56517028808594, 'Greeting': 67.5909194946289}}\n"
     ]
    },
    {
     "name": "stderr",
     "output_type": "stream",
     "text": [
      " 22%|██▏       | 1201/5352 [02:45<09:01,  7.66it/s]"
     ]
    },
    {
     "name": "stdout",
     "output_type": "stream",
     "text": [
      "{'FullBody': {'All': 69.39566802978516, 'UpperStretching': 71.28189086914062, 'LowerStretching': 66.83336639404297, 'Gaming': 68.0634536743164, 'Reacting': 67.94564056396484, 'Gesticuling': 58.21388244628906, 'Walking': 67.50834655761719, 'Patting': 82.95429229736328, 'Talking': 52.572784423828125, 'Greeting': 56.1399040222168}, 'UpperBody': {'All': 53.09156036376953, 'UpperStretching': 57.91022872924805, 'LowerStretching': 41.89490509033203, 'Gaming': 50.63742446899414, 'Reacting': 58.711456298828125, 'Gesticuling': 51.744964599609375, 'Walking': 46.18531036376953, 'Patting': 56.49495315551758, 'Talking': 43.97351837158203, 'Greeting': 45.68310546875}, 'LowerBody': {'All': 85.69976806640625, 'UpperStretching': 84.6535415649414, 'LowerStretching': 91.77183532714844, 'Gaming': 85.48947143554688, 'Reacting': 77.17982482910156, 'Gesticuling': 64.68280792236328, 'Walking': 88.83138275146484, 'Patting': 109.41362762451172, 'Talking': 61.17204284667969, 'Greeting': 66.5967025756836}}\n"
     ]
    },
    {
     "name": "stderr",
     "output_type": "stream",
     "text": [
      " 26%|██▌       | 1401/5352 [03:12<08:49,  7.46it/s]"
     ]
    },
    {
     "name": "stdout",
     "output_type": "stream",
     "text": [
      "{'FullBody': {'All': 69.3764877319336, 'UpperStretching': 71.22046661376953, 'LowerStretching': 67.01911163330078, 'Gaming': 68.28355407714844, 'Reacting': 67.91065979003906, 'Gesticuling': 58.13644027709961, 'Walking': 67.51447296142578, 'Patting': 82.37520599365234, 'Talking': 52.38766098022461, 'Greeting': 55.30034255981445}, 'UpperBody': {'All': 53.20415115356445, 'UpperStretching': 58.07875442504883, 'LowerStretching': 41.94235610961914, 'Gaming': 50.58839797973633, 'Reacting': 59.22633361816406, 'Gesticuling': 51.51880645751953, 'Walking': 46.15286636352539, 'Patting': 56.256797790527344, 'Talking': 43.87093734741211, 'Greeting': 44.9324951171875}, 'LowerBody': {'All': 85.54881286621094, 'UpperStretching': 84.36217498779297, 'LowerStretching': 92.09586334228516, 'Gaming': 85.97871398925781, 'Reacting': 76.59497833251953, 'Gesticuling': 64.75407409667969, 'Walking': 88.87608337402344, 'Patting': 108.49361419677734, 'Talking': 60.90439224243164, 'Greeting': 65.66820526123047}}\n"
     ]
    },
    {
     "name": "stderr",
     "output_type": "stream",
     "text": [
      " 30%|██▉       | 1601/5352 [03:39<09:41,  6.45it/s]"
     ]
    },
    {
     "name": "stdout",
     "output_type": "stream",
     "text": [
      "{'FullBody': {'All': 69.37439727783203, 'UpperStretching': 71.23576354980469, 'LowerStretching': 66.99371337890625, 'Gaming': 67.87725830078125, 'Reacting': 68.01041412353516, 'Gesticuling': 57.895477294921875, 'Walking': 67.50926971435547, 'Patting': 82.50394439697266, 'Talking': 52.386783599853516, 'Greeting': 54.91075897216797}, 'UpperBody': {'All': 53.272159576416016, 'UpperStretching': 58.17388916015625, 'LowerStretching': 41.94441604614258, 'Gaming': 50.40606689453125, 'Reacting': 59.014671325683594, 'Gesticuling': 51.20193862915039, 'Walking': 46.20393371582031, 'Patting': 56.70852279663086, 'Talking': 44.043983459472656, 'Greeting': 44.77482604980469}, 'LowerBody': {'All': 85.47662353515625, 'UpperStretching': 84.29762268066406, 'LowerStretching': 92.04301452636719, 'Gaming': 85.34844970703125, 'Reacting': 77.00614929199219, 'Gesticuling': 64.58900451660156, 'Walking': 88.81461334228516, 'Patting': 108.29938507080078, 'Talking': 60.729583740234375, 'Greeting': 65.04669189453125}}\n"
     ]
    },
    {
     "name": "stderr",
     "output_type": "stream",
     "text": [
      " 34%|███▎      | 1801/5352 [04:05<07:47,  7.60it/s]"
     ]
    },
    {
     "name": "stdout",
     "output_type": "stream",
     "text": [
      "{'FullBody': {'All': 69.33504486083984, 'UpperStretching': 71.17395782470703, 'LowerStretching': 67.03983306884766, 'Gaming': 67.783203125, 'Reacting': 68.16353607177734, 'Gesticuling': 57.793792724609375, 'Walking': 67.448974609375, 'Patting': 82.08541870117188, 'Talking': 52.47083282470703, 'Greeting': 55.519107818603516}, 'UpperBody': {'All': 53.26844787597656, 'UpperStretching': 58.210994720458984, 'LowerStretching': 41.92724609375, 'Gaming': 50.33345413208008, 'Reacting': 58.87336349487305, 'Gesticuling': 51.40904998779297, 'Walking': 46.093711853027344, 'Patting': 56.537776947021484, 'Talking': 43.86651611328125, 'Greeting': 45.203460693359375}, 'LowerBody': {'All': 85.40162658691406, 'UpperStretching': 84.13690948486328, 'LowerStretching': 92.15241241455078, 'Gaming': 85.23294067382812, 'Reacting': 77.4537124633789, 'Gesticuling': 64.17855072021484, 'Walking': 88.80422973632812, 'Patting': 107.633056640625, 'Talking': 61.07514953613281, 'Greeting': 65.83474731445312}}\n"
     ]
    },
    {
     "name": "stderr",
     "output_type": "stream",
     "text": [
      " 37%|███▋      | 2001/5352 [04:32<07:15,  7.70it/s]"
     ]
    },
    {
     "name": "stdout",
     "output_type": "stream",
     "text": [
      "{'FullBody': {'All': 69.2686538696289, 'UpperStretching': 71.0358657836914, 'LowerStretching': 67.05531311035156, 'Gaming': 67.84747314453125, 'Reacting': 67.93498229980469, 'Gesticuling': 57.90391540527344, 'Walking': 67.57042694091797, 'Patting': 81.9469223022461, 'Talking': 52.353004455566406, 'Greeting': 55.844993591308594}, 'UpperBody': {'All': 53.198116302490234, 'UpperStretching': 58.07210159301758, 'LowerStretching': 41.89460754394531, 'Gaming': 50.291595458984375, 'Reacting': 58.403160095214844, 'Gesticuling': 51.507354736328125, 'Walking': 46.23048782348633, 'Patting': 56.6158561706543, 'Talking': 43.81039047241211, 'Greeting': 45.34725570678711}, 'LowerBody': {'All': 85.33917999267578, 'UpperStretching': 83.9996337890625, 'LowerStretching': 92.21601104736328, 'Gaming': 85.40335845947266, 'Reacting': 77.466796875, 'Gesticuling': 64.30047607421875, 'Walking': 88.9103775024414, 'Patting': 107.27799224853516, 'Talking': 60.89561462402344, 'Greeting': 66.34272766113281}}\n"
     ]
    },
    {
     "name": "stderr",
     "output_type": "stream",
     "text": [
      " 41%|████      | 2201/5352 [04:59<06:58,  7.54it/s]"
     ]
    },
    {
     "name": "stdout",
     "output_type": "stream",
     "text": [
      "{'FullBody': {'All': 69.2171401977539, 'UpperStretching': 71.07015228271484, 'LowerStretching': 66.87533569335938, 'Gaming': 67.80442810058594, 'Reacting': 67.75753021240234, 'Gesticuling': 57.741092681884766, 'Walking': 67.52267456054688, 'Patting': 81.1516342163086, 'Talking': 52.115535736083984, 'Greeting': 55.65199661254883}, 'UpperBody': {'All': 53.149375915527344, 'UpperStretching': 58.06005096435547, 'LowerStretching': 41.840919494628906, 'Gaming': 50.622222900390625, 'Reacting': 58.247169494628906, 'Gesticuling': 51.33967590332031, 'Walking': 46.169986724853516, 'Patting': 56.27553939819336, 'Talking': 43.523780822753906, 'Greeting': 45.231468200683594}, 'LowerBody': {'All': 85.28488159179688, 'UpperStretching': 84.08024597167969, 'LowerStretching': 91.90975952148438, 'Gaming': 84.98663330078125, 'Reacting': 77.26789855957031, 'Gesticuling': 64.14251708984375, 'Walking': 88.87535095214844, 'Patting': 106.02771759033203, 'Talking': 60.70729064941406, 'Greeting': 66.07252502441406}}\n"
     ]
    },
    {
     "name": "stderr",
     "output_type": "stream",
     "text": [
      " 45%|████▍     | 2401/5352 [05:25<06:34,  7.48it/s]"
     ]
    },
    {
     "name": "stdout",
     "output_type": "stream",
     "text": [
      "{'FullBody': {'All': 69.18073272705078, 'UpperStretching': 71.06303405761719, 'LowerStretching': 66.83576202392578, 'Gaming': 67.84773254394531, 'Reacting': 67.64408874511719, 'Gesticuling': 57.6047248840332, 'Walking': 67.53360748291016, 'Patting': 80.27156066894531, 'Talking': 52.16020965576172, 'Greeting': 56.01136779785156}, 'UpperBody': {'All': 53.09513854980469, 'UpperStretching': 58.012603759765625, 'LowerStretching': 41.8468132019043, 'Gaming': 50.51272201538086, 'Reacting': 58.13233184814453, 'Gesticuling': 51.30459976196289, 'Walking': 46.18561935424805, 'Patting': 55.85161590576172, 'Talking': 43.664405822753906, 'Greeting': 45.65167999267578}, 'LowerBody': {'All': 85.26631164550781, 'UpperStretching': 84.11347198486328, 'LowerStretching': 91.82471466064453, 'Gaming': 85.18274688720703, 'Reacting': 77.15583801269531, 'Gesticuling': 63.90485763549805, 'Walking': 88.881591796875, 'Patting': 104.6915054321289, 'Talking': 60.65601348876953, 'Greeting': 66.37106323242188}}\n"
     ]
    },
    {
     "name": "stderr",
     "output_type": "stream",
     "text": [
      " 49%|████▊     | 2601/5352 [05:52<06:05,  7.52it/s]"
     ]
    },
    {
     "name": "stdout",
     "output_type": "stream",
     "text": [
      "{'FullBody': {'All': 69.18144989013672, 'UpperStretching': 71.08016967773438, 'LowerStretching': 66.78813934326172, 'Gaming': 67.84979248046875, 'Reacting': 67.83143615722656, 'Gesticuling': 57.41289520263672, 'Walking': 67.61228942871094, 'Patting': 80.25271606445312, 'Talking': 51.829681396484375, 'Greeting': 55.722801208496094}, 'UpperBody': {'All': 53.10198211669922, 'UpperStretching': 58.03995132446289, 'LowerStretching': 41.799861907958984, 'Gaming': 50.535831451416016, 'Reacting': 58.087486267089844, 'Gesticuling': 51.13412094116211, 'Walking': 46.2618293762207, 'Patting': 55.52911376953125, 'Talking': 43.47517776489258, 'Greeting': 45.43229675292969}, 'LowerBody': {'All': 85.26090240478516, 'UpperStretching': 84.12039184570312, 'LowerStretching': 91.77642822265625, 'Gaming': 85.16376495361328, 'Reacting': 77.57537841796875, 'Gesticuling': 63.691673278808594, 'Walking': 88.96276092529297, 'Patting': 104.976318359375, 'Talking': 60.18418884277344, 'Greeting': 66.01329803466797}}\n"
     ]
    },
    {
     "name": "stderr",
     "output_type": "stream",
     "text": [
      " 52%|█████▏    | 2801/5352 [06:18<05:56,  7.15it/s]"
     ]
    },
    {
     "name": "stdout",
     "output_type": "stream",
     "text": [
      "{'FullBody': {'All': 69.18866729736328, 'UpperStretching': 71.06794738769531, 'LowerStretching': 66.75245666503906, 'Gaming': 67.6012191772461, 'Reacting': 67.73091125488281, 'Gesticuling': 57.60289764404297, 'Walking': 67.73098754882812, 'Patting': 80.79077911376953, 'Talking': 51.7572021484375, 'Greeting': 56.27478790283203}, 'UpperBody': {'All': 53.11655807495117, 'UpperStretching': 58.0664176940918, 'LowerStretching': 41.70029067993164, 'Gaming': 50.393455505371094, 'Reacting': 57.95089340209961, 'Gesticuling': 51.58156204223633, 'Walking': 46.31255340576172, 'Patting': 55.90769958496094, 'Talking': 43.49140548706055, 'Greeting': 45.85595703125}, 'LowerBody': {'All': 85.26077270507812, 'UpperStretching': 84.06946563720703, 'LowerStretching': 91.80462646484375, 'Gaming': 84.80899047851562, 'Reacting': 77.51092529296875, 'Gesticuling': 63.624237060546875, 'Walking': 89.1494140625, 'Patting': 105.67387390136719, 'Talking': 60.022987365722656, 'Greeting': 66.69361877441406}}\n"
     ]
    },
    {
     "name": "stderr",
     "output_type": "stream",
     "text": [
      " 56%|█████▌    | 3001/5352 [06:45<05:56,  6.60it/s]"
     ]
    },
    {
     "name": "stdout",
     "output_type": "stream",
     "text": [
      "{'FullBody': {'All': 69.15634155273438, 'UpperStretching': 70.95263671875, 'LowerStretching': 66.87158966064453, 'Gaming': 67.51129913330078, 'Reacting': 67.72114562988281, 'Gesticuling': 57.569602966308594, 'Walking': 67.82247161865234, 'Patting': 80.6928482055664, 'Talking': 51.849952697753906, 'Greeting': 55.9238166809082}, 'UpperBody': {'All': 53.09975051879883, 'UpperStretching': 57.99636459350586, 'LowerStretching': 41.74144744873047, 'Gaming': 50.373050689697266, 'Reacting': 57.94944763183594, 'Gesticuling': 51.539302825927734, 'Walking': 46.340904235839844, 'Patting': 55.92823028564453, 'Talking': 43.796512603759766, 'Greeting': 45.57674026489258}, 'LowerBody': {'All': 85.21292877197266, 'UpperStretching': 83.90889739990234, 'LowerStretching': 92.00175476074219, 'Gaming': 84.64955139160156, 'Reacting': 77.49285125732422, 'Gesticuling': 63.59990692138672, 'Walking': 89.30403137207031, 'Patting': 105.45746612548828, 'Talking': 59.903385162353516, 'Greeting': 66.27088928222656}}\n"
     ]
    },
    {
     "name": "stderr",
     "output_type": "stream",
     "text": [
      " 60%|█████▉    | 3201/5352 [07:12<05:31,  6.49it/s]"
     ]
    },
    {
     "name": "stdout",
     "output_type": "stream",
     "text": [
      "{'FullBody': {'All': 69.2197265625, 'UpperStretching': 70.99430847167969, 'LowerStretching': 66.88202667236328, 'Gaming': 67.33159637451172, 'Reacting': 67.65515899658203, 'Gesticuling': 57.62822341918945, 'Walking': 67.90999603271484, 'Patting': 81.85672760009766, 'Talking': 52.378238677978516, 'Greeting': 55.928897857666016}, 'UpperBody': {'All': 53.12028503417969, 'UpperStretching': 57.9997673034668, 'LowerStretching': 41.71792221069336, 'Gaming': 50.22351837158203, 'Reacting': 57.903255462646484, 'Gesticuling': 51.58846664428711, 'Walking': 46.38355255126953, 'Patting': 56.546382904052734, 'Talking': 44.50215530395508, 'Greeting': 45.66337203979492}, 'LowerBody': {'All': 85.31915283203125, 'UpperStretching': 83.98884582519531, 'LowerStretching': 92.04615783691406, 'Gaming': 84.4396743774414, 'Reacting': 77.40705871582031, 'Gesticuling': 63.6679801940918, 'Walking': 89.43643188476562, 'Patting': 107.16707611083984, 'Talking': 60.25431823730469, 'Greeting': 66.19441986083984}}\n"
     ]
    },
    {
     "name": "stderr",
     "output_type": "stream",
     "text": [
      " 64%|██████▎   | 3401/5352 [07:39<04:26,  7.33it/s]"
     ]
    },
    {
     "name": "stdout",
     "output_type": "stream",
     "text": [
      "{'FullBody': {'All': 69.15510559082031, 'UpperStretching': 70.89539337158203, 'LowerStretching': 66.83457946777344, 'Gaming': 67.22952270507812, 'Reacting': 67.70970916748047, 'Gesticuling': 57.67850112915039, 'Walking': 67.91199493408203, 'Patting': 81.98018646240234, 'Talking': 52.31237030029297, 'Greeting': 55.80965042114258}, 'UpperBody': {'All': 53.026363372802734, 'UpperStretching': 57.85227966308594, 'LowerStretching': 41.66523742675781, 'Gaming': 50.16591262817383, 'Reacting': 58.003841400146484, 'Gesticuling': 51.516658782958984, 'Walking': 46.38067626953125, 'Patting': 56.57070541381836, 'Talking': 44.49454116821289, 'Greeting': 45.50411605834961}, 'LowerBody': {'All': 85.2838363647461, 'UpperStretching': 83.93848419189453, 'LowerStretching': 92.00395202636719, 'Gaming': 84.2931137084961, 'Reacting': 77.41556549072266, 'Gesticuling': 63.8403434753418, 'Walking': 89.44329833984375, 'Patting': 107.3896713256836, 'Talking': 60.13018798828125, 'Greeting': 66.11518859863281}}\n"
     ]
    },
    {
     "name": "stderr",
     "output_type": "stream",
     "text": [
      " 67%|██████▋   | 3601/5352 [08:05<04:26,  6.57it/s]"
     ]
    },
    {
     "name": "stdout",
     "output_type": "stream",
     "text": [
      "{'FullBody': {'All': 69.12213897705078, 'UpperStretching': 70.8383560180664, 'LowerStretching': 66.80887603759766, 'Gaming': 67.09212493896484, 'Reacting': 67.95162963867188, 'Gesticuling': 57.66758346557617, 'Walking': 67.90502166748047, 'Patting': 82.16756439208984, 'Talking': 52.24221420288086, 'Greeting': 55.93214416503906}, 'UpperBody': {'All': 53.01738739013672, 'UpperStretching': 57.81660461425781, 'LowerStretching': 41.6730842590332, 'Gaming': 50.02989959716797, 'Reacting': 58.14043045043945, 'Gesticuling': 51.577552795410156, 'Walking': 46.407005310058594, 'Patting': 56.47932434082031, 'Talking': 44.54926681518555, 'Greeting': 45.54932403564453}, 'LowerBody': {'All': 85.22687530517578, 'UpperStretching': 83.86009979248047, 'LowerStretching': 91.94467163085938, 'Gaming': 84.15434265136719, 'Reacting': 77.76283264160156, 'Gesticuling': 63.75761413574219, 'Walking': 89.40303802490234, 'Patting': 107.85580444335938, 'Talking': 59.93516540527344, 'Greeting': 66.31495666503906}}\n"
     ]
    },
    {
     "name": "stderr",
     "output_type": "stream",
     "text": [
      " 71%|███████   | 3801/5352 [08:32<03:32,  7.29it/s]"
     ]
    },
    {
     "name": "stdout",
     "output_type": "stream",
     "text": [
      "{'FullBody': {'All': 69.14861297607422, 'UpperStretching': 70.84727478027344, 'LowerStretching': 66.90348052978516, 'Gaming': 67.12049865722656, 'Reacting': 67.96593475341797, 'Gesticuling': 57.443260192871094, 'Walking': 67.89945220947266, 'Patting': 82.25960540771484, 'Talking': 52.531131744384766, 'Greeting': 55.967464447021484}, 'UpperBody': {'All': 53.054561614990234, 'UpperStretching': 57.850807189941406, 'LowerStretching': 41.733089447021484, 'Gaming': 50.14405059814453, 'Reacting': 58.14280319213867, 'Gesticuling': 51.30571746826172, 'Walking': 46.3890266418457, 'Patting': 56.566802978515625, 'Talking': 44.779998779296875, 'Greeting': 45.59070587158203}, 'LowerBody': {'All': 85.24264526367188, 'UpperStretching': 83.84375762939453, 'LowerStretching': 92.07388305664062, 'Gaming': 84.09696197509766, 'Reacting': 77.78907012939453, 'Gesticuling': 63.58081817626953, 'Walking': 89.40988159179688, 'Patting': 107.95240783691406, 'Talking': 60.28227233886719, 'Greeting': 66.34423065185547}}\n"
     ]
    },
    {
     "name": "stderr",
     "output_type": "stream",
     "text": [
      " 75%|███████▍  | 4001/5352 [08:59<03:13,  6.98it/s]"
     ]
    },
    {
     "name": "stdout",
     "output_type": "stream",
     "text": [
      "{'FullBody': {'All': 69.15642547607422, 'UpperStretching': 70.86426544189453, 'LowerStretching': 66.86631774902344, 'Gaming': 67.09017181396484, 'Reacting': 68.02383422851562, 'Gesticuling': 57.53101348876953, 'Walking': 67.90276336669922, 'Patting': 82.14533233642578, 'Talking': 52.636749267578125, 'Greeting': 56.01774215698242}, 'UpperBody': {'All': 53.047489166259766, 'UpperStretching': 57.87300491333008, 'LowerStretching': 41.7288818359375, 'Gaming': 50.04600143432617, 'Reacting': 57.93864059448242, 'Gesticuling': 51.318031311035156, 'Walking': 46.32882308959961, 'Patting': 56.43995666503906, 'Talking': 44.9636116027832, 'Greeting': 45.71928405761719}, 'LowerBody': {'All': 85.26534271240234, 'UpperStretching': 83.85553741455078, 'LowerStretching': 92.00376892089844, 'Gaming': 84.13433837890625, 'Reacting': 78.10902404785156, 'Gesticuling': 63.74400329589844, 'Walking': 89.47669982910156, 'Patting': 107.85070037841797, 'Talking': 60.30988311767578, 'Greeting': 66.31620025634766}}\n"
     ]
    },
    {
     "name": "stderr",
     "output_type": "stream",
     "text": [
      " 78%|███████▊  | 4201/5352 [09:25<02:38,  7.26it/s]"
     ]
    },
    {
     "name": "stdout",
     "output_type": "stream",
     "text": [
      "{'FullBody': {'All': 69.18286895751953, 'UpperStretching': 70.91323852539062, 'LowerStretching': 66.86727905273438, 'Gaming': 67.20030975341797, 'Reacting': 67.91370391845703, 'Gesticuling': 57.57651901245117, 'Walking': 67.85275268554688, 'Patting': 82.29667663574219, 'Talking': 52.66025161743164, 'Greeting': 56.28984069824219}, 'UpperBody': {'All': 53.074886322021484, 'UpperStretching': 57.9091796875, 'LowerStretching': 41.70996856689453, 'Gaming': 50.16496276855469, 'Reacting': 57.88313674926758, 'Gesticuling': 51.22972106933594, 'Walking': 46.374053955078125, 'Patting': 56.40483093261719, 'Talking': 45.016822814941406, 'Greeting': 45.864280700683594}, 'LowerBody': {'All': 85.29086303710938, 'UpperStretching': 83.91729736328125, 'LowerStretching': 92.02459716796875, 'Gaming': 84.23566436767578, 'Reacting': 77.94425964355469, 'Gesticuling': 63.92331314086914, 'Walking': 89.33145141601562, 'Patting': 108.18852233886719, 'Talking': 60.30368423461914, 'Greeting': 66.71541595458984}}\n"
     ]
    },
    {
     "name": "stderr",
     "output_type": "stream",
     "text": [
      " 82%|████████▏ | 4401/5352 [09:52<02:18,  6.89it/s]"
     ]
    },
    {
     "name": "stdout",
     "output_type": "stream",
     "text": [
      "{'FullBody': {'All': 69.18476867675781, 'UpperStretching': 70.92617797851562, 'LowerStretching': 66.86979675292969, 'Gaming': 67.28300476074219, 'Reacting': 67.88336181640625, 'Gesticuling': 57.71946716308594, 'Walking': 67.78744506835938, 'Patting': 82.06658172607422, 'Talking': 52.77389144897461, 'Greeting': 56.401432037353516}, 'UpperBody': {'All': 53.09385681152344, 'UpperStretching': 57.92832946777344, 'LowerStretching': 41.728111267089844, 'Gaming': 50.15778732299805, 'Reacting': 57.82453155517578, 'Gesticuling': 51.412593841552734, 'Walking': 46.3231086730957, 'Patting': 56.6016731262207, 'Talking': 45.12873840332031, 'Greeting': 45.92756652832031}, 'LowerBody': {'All': 85.27568054199219, 'UpperStretching': 83.92401885986328, 'LowerStretching': 92.01151275634766, 'Gaming': 84.40821075439453, 'Reacting': 77.94219970703125, 'Gesticuling': 64.02635192871094, 'Walking': 89.25179290771484, 'Patting': 107.5314712524414, 'Talking': 60.419036865234375, 'Greeting': 66.87528991699219}}\n"
     ]
    },
    {
     "name": "stderr",
     "output_type": "stream",
     "text": [
      " 86%|████████▌ | 4601/5352 [10:19<01:47,  6.96it/s]"
     ]
    },
    {
     "name": "stdout",
     "output_type": "stream",
     "text": [
      "{'FullBody': {'All': 69.20803833007812, 'UpperStretching': 70.96116638183594, 'LowerStretching': 66.87997436523438, 'Gaming': 67.18730163574219, 'Reacting': 67.86975860595703, 'Gesticuling': 57.73685836791992, 'Walking': 67.81240844726562, 'Patting': 82.11249542236328, 'Talking': 52.776912689208984, 'Greeting': 56.22372055053711}, 'UpperBody': {'All': 53.10334777832031, 'UpperStretching': 57.953125, 'LowerStretching': 41.737606048583984, 'Gaming': 50.049232482910156, 'Reacting': 57.78062438964844, 'Gesticuling': 51.407989501953125, 'Walking': 46.35910415649414, 'Patting': 56.428009033203125, 'Talking': 45.02568817138672, 'Greeting': 45.78193283081055}, 'LowerBody': {'All': 85.3127212524414, 'UpperStretching': 83.96920013427734, 'LowerStretching': 92.0223617553711, 'Gaming': 84.32537078857422, 'Reacting': 77.9588851928711, 'Gesticuling': 64.06572723388672, 'Walking': 89.26571655273438, 'Patting': 107.79698944091797, 'Talking': 60.52812957763672, 'Greeting': 66.66551208496094}}\n"
     ]
    },
    {
     "name": "stderr",
     "output_type": "stream",
     "text": [
      " 90%|████████▉ | 4801/5352 [10:46<01:22,  6.67it/s]"
     ]
    },
    {
     "name": "stdout",
     "output_type": "stream",
     "text": [
      "{'FullBody': {'All': 69.2142562866211, 'UpperStretching': 70.9528579711914, 'LowerStretching': 66.94844055175781, 'Gaming': 67.14928436279297, 'Reacting': 67.89277648925781, 'Gesticuling': 57.837738037109375, 'Walking': 67.81889343261719, 'Patting': 82.09130096435547, 'Talking': 52.83573913574219, 'Greeting': 56.4018440246582}, 'UpperBody': {'All': 53.06988525390625, 'UpperStretching': 57.89906692504883, 'LowerStretching': 41.750892639160156, 'Gaming': 50.061119079589844, 'Reacting': 57.81650161743164, 'Gesticuling': 51.423484802246094, 'Walking': 46.320350646972656, 'Patting': 56.37406921386719, 'Talking': 45.189483642578125, 'Greeting': 45.90430450439453}, 'LowerBody': {'All': 85.35863494873047, 'UpperStretching': 84.00663757324219, 'LowerStretching': 92.14599609375, 'Gaming': 84.23744201660156, 'Reacting': 77.96906280517578, 'Gesticuling': 64.25199127197266, 'Walking': 89.31743621826172, 'Patting': 107.80853271484375, 'Talking': 60.48199462890625, 'Greeting': 66.89937591552734}}\n"
     ]
    },
    {
     "name": "stderr",
     "output_type": "stream",
     "text": [
      " 93%|█████████▎| 5001/5352 [11:12<00:50,  6.93it/s]"
     ]
    },
    {
     "name": "stdout",
     "output_type": "stream",
     "text": [
      "{'FullBody': {'All': 69.21048736572266, 'UpperStretching': 70.96300506591797, 'LowerStretching': 66.92584991455078, 'Gaming': 67.04696655273438, 'Reacting': 67.80769348144531, 'Gesticuling': 57.99427032470703, 'Walking': 67.8094253540039, 'Patting': 81.84993743896484, 'Talking': 52.802181243896484, 'Greeting': 56.59419250488281}, 'UpperBody': {'All': 53.059349060058594, 'UpperStretching': 57.89122772216797, 'LowerStretching': 41.73870086669922, 'Gaming': 50.02175521850586, 'Reacting': 57.75105667114258, 'Gesticuling': 51.520751953125, 'Walking': 46.29401397705078, 'Patting': 56.188106536865234, 'Talking': 45.271636962890625, 'Greeting': 45.945316314697266}, 'LowerBody': {'All': 85.36162567138672, 'UpperStretching': 84.03477478027344, 'LowerStretching': 92.11300659179688, 'Gaming': 84.07218933105469, 'Reacting': 77.86432647705078, 'Gesticuling': 64.4677963256836, 'Walking': 89.32481384277344, 'Patting': 107.51176452636719, 'Talking': 60.332733154296875, 'Greeting': 67.24307250976562}}\n"
     ]
    },
    {
     "name": "stderr",
     "output_type": "stream",
     "text": [
      " 97%|█████████▋| 5201/5352 [11:39<00:21,  7.08it/s]"
     ]
    },
    {
     "name": "stdout",
     "output_type": "stream",
     "text": [
      "{'FullBody': {'All': 69.2336196899414, 'UpperStretching': 70.98966979980469, 'LowerStretching': 66.95146179199219, 'Gaming': 67.02653503417969, 'Reacting': 67.82508850097656, 'Gesticuling': 58.00689697265625, 'Walking': 67.79703521728516, 'Patting': 81.87863159179688, 'Talking': 52.96791458129883, 'Greeting': 56.7811279296875}, 'UpperBody': {'All': 53.05721664428711, 'UpperStretching': 57.88839340209961, 'LowerStretching': 41.72969055175781, 'Gaming': 50.104698181152344, 'Reacting': 57.85647964477539, 'Gesticuling': 51.493587493896484, 'Walking': 46.237876892089844, 'Patting': 56.36933517456055, 'Talking': 45.407257080078125, 'Greeting': 45.95864486694336}, 'LowerBody': {'All': 85.41001892089844, 'UpperStretching': 84.09095001220703, 'LowerStretching': 92.1732406616211, 'Gaming': 83.94837188720703, 'Reacting': 77.79371643066406, 'Gesticuling': 64.52020263671875, 'Walking': 89.35618591308594, 'Patting': 107.38792419433594, 'Talking': 60.52857971191406, 'Greeting': 67.6036148071289}}\n"
     ]
    },
    {
     "name": "stderr",
     "output_type": "stream",
     "text": [
      "100%|██████████| 5352/5352 [11:59<00:00,  7.44it/s]\n",
      "\u001b[94m17:10:36 \u001b[92m[INFO]\u001b[94m Main\u001b[0m: Saving evaluation results...\n",
      "\u001b[94m17:10:36 \u001b[92m[INFO]\u001b[94m Main\u001b[0m: Done.\n",
      "\u001b[94m17:10:36 \u001b[92m[INFO]\u001b[94m Main\u001b[0m: Starting demo...\n",
      "  0%|          | 0/5352 [00:00<?, ?it/s]/opt/conda/lib/python3.10/site-packages/torchvision/transforms/transforms.py:329: UserWarning: Argument 'interpolation' of type int is deprecated since 0.13 and will be removed in 0.15. Please use InterpolationMode enum.\n",
      "  warnings.warn(\n",
      "/opt/conda/lib/python3.10/site-packages/torchvision/transforms/transforms.py:329: UserWarning: Argument 'interpolation' of type int is deprecated since 0.13 and will be removed in 0.15. Please use InterpolationMode enum.\n",
      "  warnings.warn(\n",
      "/opt/conda/lib/python3.10/site-packages/torchvision/transforms/transforms.py:329: UserWarning: Argument 'interpolation' of type int is deprecated since 0.13 and will be removed in 0.15. Please use InterpolationMode enum.\n",
      "  warnings.warn(\n",
      "/opt/conda/lib/python3.10/site-packages/torchvision/transforms/transforms.py:329: UserWarning: Argument 'interpolation' of type int is deprecated since 0.13 and will be removed in 0.15. Please use InterpolationMode enum.\n",
      "  warnings.warn(\n",
      "/opt/conda/lib/python3.10/site-packages/torchvision/transforms/transforms.py:329: UserWarning: Argument 'interpolation' of type int is deprecated since 0.13 and will be removed in 0.15. Please use InterpolationMode enum.\n",
      "  warnings.warn(\n",
      "/opt/conda/lib/python3.10/site-packages/torchvision/transforms/transforms.py:329: UserWarning: Argument 'interpolation' of type int is deprecated since 0.13 and will be removed in 0.15. Please use InterpolationMode enum.\n",
      "  warnings.warn(\n",
      "/opt/conda/lib/python3.10/site-packages/torchvision/transforms/transforms.py:329: UserWarning: Argument 'interpolation' of type int is deprecated since 0.13 and will be removed in 0.15. Please use InterpolationMode enum.\n",
      "  warnings.warn(\n",
      "/opt/conda/lib/python3.10/site-packages/torchvision/transforms/transforms.py:329: UserWarning: Argument 'interpolation' of type int is deprecated since 0.13 and will be removed in 0.15. Please use InterpolationMode enum.\n",
      "  warnings.warn(\n",
      "/opt/conda/lib/python3.10/site-packages/torchvision/transforms/transforms.py:329: UserWarning: Argument 'interpolation' of type int is deprecated since 0.13 and will be removed in 0.15. Please use InterpolationMode enum.\n",
      "  warnings.warn(\n",
      "/opt/conda/lib/python3.10/site-packages/torchvision/transforms/transforms.py:329: UserWarning: Argument 'interpolation' of type int is deprecated since 0.13 and will be removed in 0.15. Please use InterpolationMode enum.\n",
      "  warnings.warn(\n",
      "/opt/conda/lib/python3.10/site-packages/torchvision/transforms/transforms.py:329: UserWarning: Argument 'interpolation' of type int is deprecated since 0.13 and will be removed in 0.15. Please use InterpolationMode enum.\n",
      "  warnings.warn(\n",
      "/opt/conda/lib/python3.10/site-packages/torchvision/transforms/transforms.py:329: UserWarning: Argument 'interpolation' of type int is deprecated since 0.13 and will be removed in 0.15. Please use InterpolationMode enum.\n",
      "  warnings.warn(\n",
      "/opt/conda/lib/python3.10/site-packages/torchvision/transforms/transforms.py:329: UserWarning: Argument 'interpolation' of type int is deprecated since 0.13 and will be removed in 0.15. Please use InterpolationMode enum.\n",
      "  warnings.warn(\n",
      "/opt/conda/lib/python3.10/site-packages/torchvision/transforms/transforms.py:329: UserWarning: Argument 'interpolation' of type int is deprecated since 0.13 and will be removed in 0.15. Please use InterpolationMode enum.\n",
      "  warnings.warn(\n",
      "/opt/conda/lib/python3.10/site-packages/torchvision/transforms/transforms.py:329: UserWarning: Argument 'interpolation' of type int is deprecated since 0.13 and will be removed in 0.15. Please use InterpolationMode enum.\n",
      "  warnings.warn(\n",
      "/opt/conda/lib/python3.10/site-packages/torchvision/transforms/transforms.py:329: UserWarning: Argument 'interpolation' of type int is deprecated since 0.13 and will be removed in 0.15. Please use InterpolationMode enum.\n",
      "  warnings.warn(\n",
      "/opt/conda/lib/python3.10/site-packages/torchvision/transforms/transforms.py:329: UserWarning: Argument 'interpolation' of type int is deprecated since 0.13 and will be removed in 0.15. Please use InterpolationMode enum.\n",
      "  warnings.warn(\n",
      "/opt/conda/lib/python3.10/site-packages/torchvision/transforms/transforms.py:329: UserWarning: Argument 'interpolation' of type int is deprecated since 0.13 and will be removed in 0.15. Please use InterpolationMode enum.\n",
      "  warnings.warn(\n",
      "/opt/conda/lib/python3.10/site-packages/torchvision/transforms/transforms.py:329: UserWarning: Argument 'interpolation' of type int is deprecated since 0.13 and will be removed in 0.15. Please use InterpolationMode enum.\n",
      "  warnings.warn(\n",
      "/opt/conda/lib/python3.10/site-packages/torchvision/transforms/transforms.py:329: UserWarning: Argument 'interpolation' of type int is deprecated since 0.13 and will be removed in 0.15. Please use InterpolationMode enum.\n",
      "  warnings.warn(\n",
      "/opt/conda/lib/python3.10/site-packages/torchvision/transforms/transforms.py:329: UserWarning: Argument 'interpolation' of type int is deprecated since 0.13 and will be removed in 0.15. Please use InterpolationMode enum.\n",
      "  warnings.warn(\n",
      "/opt/conda/lib/python3.10/site-packages/torchvision/transforms/transforms.py:329: UserWarning: Argument 'interpolation' of type int is deprecated since 0.13 and will be removed in 0.15. Please use InterpolationMode enum.\n",
      "  warnings.warn(\n",
      "/opt/conda/lib/python3.10/site-packages/torchvision/transforms/transforms.py:329: UserWarning: Argument 'interpolation' of type int is deprecated since 0.13 and will be removed in 0.15. Please use InterpolationMode enum.\n",
      "  warnings.warn(\n",
      "/opt/conda/lib/python3.10/site-packages/torchvision/transforms/transforms.py:329: UserWarning: Argument 'interpolation' of type int is deprecated since 0.13 and will be removed in 0.15. Please use InterpolationMode enum.\n",
      "  warnings.warn(\n",
      "  4%|▍         | 201/5352 [00:33<11:06,  7.72it/s]"
     ]
    },
    {
     "name": "stdout",
     "output_type": "stream",
     "text": [
      "{'FullBody': {'All': 67.33629608154297, 'UpperStretching': 70.34477996826172, 'Walking': 65.8809814453125, 'Reacting': 64.90388488769531, 'LowerStretching': 63.222877502441406, 'Patting': 71.61640167236328, 'Gesticuling': 52.810874938964844, 'Gaming': 63.68928527832031, 'Talking': 47.70860290527344, 'Greeting': 50.65525436401367}, 'UpperBody': {'All': 49.6600227355957, 'UpperStretching': 54.82578659057617, 'Walking': 42.35390090942383, 'Reacting': 52.58525085449219, 'LowerStretching': 38.525428771972656, 'Patting': 48.15085220336914, 'Gesticuling': 48.30012893676758, 'Gaming': 45.03965377807617, 'Talking': 37.24276351928711, 'Greeting': 39.95741271972656}, 'LowerBody': {'All': 85.01255798339844, 'UpperStretching': 85.86376953125, 'Walking': 89.4080581665039, 'Reacting': 77.22252655029297, 'LowerStretching': 87.9203109741211, 'Patting': 95.08195495605469, 'Gesticuling': 57.32160568237305, 'Gaming': 82.33891296386719, 'Talking': 58.174434661865234, 'Greeting': 61.353084564208984}}\n"
     ]
    },
    {
     "name": "stderr",
     "output_type": "stream",
     "text": [
      "  7%|▋         | 401/5352 [00:59<12:38,  6.53it/s]"
     ]
    },
    {
     "name": "stdout",
     "output_type": "stream",
     "text": [
      "{'FullBody': {'All': 67.435791015625, 'UpperStretching': 70.16307830810547, 'Walking': 66.09532165527344, 'Reacting': 64.26119232177734, 'LowerStretching': 63.97569274902344, 'Patting': 70.32864379882812, 'Gesticuling': 54.03050231933594, 'Gaming': 63.1761474609375, 'Talking': 49.335731506347656, 'Greeting': 50.9737434387207}, 'UpperBody': {'All': 49.7293815612793, 'UpperStretching': 54.821800231933594, 'Walking': 42.547950744628906, 'Reacting': 51.3999137878418, 'LowerStretching': 39.137123107910156, 'Patting': 45.636898040771484, 'Gesticuling': 49.24628829956055, 'Gaming': 45.47974395751953, 'Talking': 39.50132751464844, 'Greeting': 40.32990264892578}, 'LowerBody': {'All': 85.14220428466797, 'UpperStretching': 85.50434875488281, 'Walking': 89.64269256591797, 'Reacting': 77.12248229980469, 'LowerStretching': 88.81426239013672, 'Patting': 95.02039337158203, 'Gesticuling': 58.814720153808594, 'Gaming': 80.87256622314453, 'Talking': 59.170143127441406, 'Greeting': 61.61758041381836}}\n"
     ]
    },
    {
     "name": "stderr",
     "output_type": "stream",
     "text": [
      " 11%|█         | 601/5352 [01:26<10:07,  7.82it/s]"
     ]
    },
    {
     "name": "stdout",
     "output_type": "stream",
     "text": [
      "{'FullBody': {'All': 67.67981719970703, 'UpperStretching': 69.96736907958984, 'Walking': 67.32112884521484, 'Reacting': 64.13895416259766, 'LowerStretching': 64.0684814453125, 'Patting': 78.32284545898438, 'Gesticuling': 54.046146392822266, 'Gaming': 63.938289642333984, 'Talking': 51.026432037353516, 'Greeting': 52.58966827392578}, 'UpperBody': {'All': 49.64716339111328, 'UpperStretching': 54.3506965637207, 'Walking': 43.39690017700195, 'Reacting': 51.058040618896484, 'LowerStretching': 39.251861572265625, 'Patting': 48.97568130493164, 'Gesticuling': 48.732852935791016, 'Gaming': 45.96950912475586, 'Talking': 40.78329086303711, 'Greeting': 41.5576057434082}, 'LowerBody': {'All': 85.71246337890625, 'UpperStretching': 85.58403015136719, 'Walking': 91.24535369873047, 'Reacting': 77.21986389160156, 'LowerStretching': 88.88508605957031, 'Patting': 107.67002868652344, 'Gesticuling': 59.35943603515625, 'Gaming': 81.90706634521484, 'Talking': 61.26957321166992, 'Greeting': 63.62171936035156}}\n"
     ]
    },
    {
     "name": "stderr",
     "output_type": "stream",
     "text": [
      " 15%|█▍        | 801/5352 [01:52<11:28,  6.61it/s]"
     ]
    },
    {
     "name": "stdout",
     "output_type": "stream",
     "text": [
      "{'FullBody': {'All': 67.91038513183594, 'UpperStretching': 70.28148651123047, 'Walking': 67.64527130126953, 'Reacting': 64.48968505859375, 'LowerStretching': 64.2094955444336, 'Patting': 77.76295471191406, 'Gesticuling': 54.37659454345703, 'Gaming': 62.393211364746094, 'Talking': 50.657474517822266, 'Greeting': 55.15126419067383}, 'UpperBody': {'All': 49.83708572387695, 'UpperStretching': 54.6470832824707, 'Walking': 43.49501419067383, 'Reacting': 51.0572509765625, 'LowerStretching': 39.30512619018555, 'Patting': 47.974647521972656, 'Gesticuling': 49.10955810546875, 'Gaming': 45.119667053222656, 'Talking': 40.31425857543945, 'Greeting': 42.280914306640625}, 'LowerBody': {'All': 85.98368072509766, 'UpperStretching': 85.9158935546875, 'Walking': 91.7955322265625, 'Reacting': 77.922119140625, 'LowerStretching': 89.11386108398438, 'Patting': 107.55125427246094, 'Gesticuling': 59.643638610839844, 'Gaming': 79.666748046875, 'Talking': 61.00069046020508, 'Greeting': 68.02161407470703}}\n"
     ]
    },
    {
     "name": "stderr",
     "output_type": "stream",
     "text": [
      " 19%|█▊        | 1001/5352 [02:19<09:33,  7.59it/s]"
     ]
    },
    {
     "name": "stdout",
     "output_type": "stream",
     "text": [
      "{'FullBody': {'All': 67.79210662841797, 'UpperStretching': 70.06851959228516, 'Walking': 67.3295669555664, 'Reacting': 64.58348846435547, 'LowerStretching': 64.21003723144531, 'Patting': 80.12676239013672, 'Gesticuling': 54.45425796508789, 'Gaming': 62.49085235595703, 'Talking': 51.11148452758789, 'Greeting': 54.60457229614258}, 'UpperBody': {'All': 49.86865234375, 'UpperStretching': 54.63764572143555, 'Walking': 43.456031799316406, 'Reacting': 51.6100959777832, 'LowerStretching': 39.268123626708984, 'Patting': 50.845584869384766, 'Gesticuling': 49.39957809448242, 'Gaming': 45.2501220703125, 'Talking': 40.59984588623047, 'Greeting': 41.40414810180664}, 'LowerBody': {'All': 85.7155532836914, 'UpperStretching': 85.4993896484375, 'Walking': 91.20311737060547, 'Reacting': 77.556884765625, 'LowerStretching': 89.15194702148438, 'Patting': 109.40794372558594, 'Gesticuling': 59.508934020996094, 'Gaming': 79.73157501220703, 'Talking': 61.62312698364258, 'Greeting': 67.80498504638672}}\n"
     ]
    },
    {
     "name": "stderr",
     "output_type": "stream",
     "text": [
      " 22%|██▏       | 1201/5352 [02:45<09:11,  7.53it/s]"
     ]
    },
    {
     "name": "stdout",
     "output_type": "stream",
     "text": [
      "{'FullBody': {'All': 67.8004150390625, 'UpperStretching': 70.22150421142578, 'Walking': 67.13746643066406, 'Reacting': 64.31920623779297, 'LowerStretching': 64.0530014038086, 'Patting': 78.28289031982422, 'Gesticuling': 54.4200325012207, 'Gaming': 62.589412689208984, 'Talking': 50.86824417114258, 'Greeting': 56.37714767456055}, 'UpperBody': {'All': 49.9547119140625, 'UpperStretching': 54.85191345214844, 'Walking': 43.287471771240234, 'Reacting': 51.49238586425781, 'LowerStretching': 39.16423034667969, 'Patting': 50.084190368652344, 'Gesticuling': 49.021697998046875, 'Gaming': 45.20138931274414, 'Talking': 40.50762939453125, 'Greeting': 42.52674865722656}, 'LowerBody': {'All': 85.6461181640625, 'UpperStretching': 85.5910873413086, 'Walking': 90.98747253417969, 'Reacting': 77.14602661132812, 'LowerStretching': 88.94178009033203, 'Patting': 106.4815902709961, 'Gesticuling': 59.81836700439453, 'Gaming': 79.9774398803711, 'Talking': 61.22886276245117, 'Greeting': 70.22753143310547}}\n"
     ]
    },
    {
     "name": "stderr",
     "output_type": "stream",
     "text": [
      " 26%|██▌       | 1401/5352 [03:12<08:34,  7.68it/s]"
     ]
    },
    {
     "name": "stdout",
     "output_type": "stream",
     "text": [
      "{'FullBody': {'All': 67.7501220703125, 'UpperStretching': 70.15453338623047, 'Walking': 66.79562377929688, 'Reacting': 63.92253875732422, 'LowerStretching': 64.32954406738281, 'Patting': 77.44696044921875, 'Gesticuling': 54.546756744384766, 'Gaming': 61.980445861816406, 'Talking': 51.201416015625, 'Greeting': 56.701812744140625}, 'UpperBody': {'All': 49.89446258544922, 'UpperStretching': 54.73760986328125, 'Walking': 43.09902572631836, 'Reacting': 51.34638977050781, 'LowerStretching': 39.34286117553711, 'Patting': 49.47938919067383, 'Gesticuling': 49.13671875, 'Gaming': 45.227840423583984, 'Talking': 40.819583892822266, 'Greeting': 42.64652633666992}, 'LowerBody': {'All': 85.60578155517578, 'UpperStretching': 85.57145690917969, 'Walking': 90.49221801757812, 'Reacting': 76.4986801147461, 'LowerStretching': 89.31622314453125, 'Patting': 105.41453552246094, 'Gesticuling': 59.9567985534668, 'Gaming': 78.7330551147461, 'Talking': 61.583248138427734, 'Greeting': 70.75709533691406}}\n"
     ]
    },
    {
     "name": "stderr",
     "output_type": "stream",
     "text": [
      " 30%|██▉       | 1601/5352 [03:39<08:48,  7.10it/s]"
     ]
    },
    {
     "name": "stdout",
     "output_type": "stream",
     "text": [
      "{'FullBody': {'All': 67.68384552001953, 'UpperStretching': 70.1899185180664, 'Walking': 66.89312744140625, 'Reacting': 64.11512756347656, 'LowerStretching': 63.88386917114258, 'Patting': 77.53250885009766, 'Gesticuling': 54.39031982421875, 'Gaming': 61.60530471801758, 'Talking': 51.113624572753906, 'Greeting': 56.89126205444336}, 'UpperBody': {'All': 49.847530364990234, 'UpperStretching': 54.694583892822266, 'Walking': 43.342464447021484, 'Reacting': 51.75327682495117, 'LowerStretching': 39.22785949707031, 'Patting': 49.3132438659668, 'Gesticuling': 48.900936126708984, 'Gaming': 45.272605895996094, 'Talking': 40.61933135986328, 'Greeting': 42.77524948120117}, 'LowerBody': {'All': 85.52015686035156, 'UpperStretching': 85.68523406982422, 'Walking': 90.44379425048828, 'Reacting': 76.47698974609375, 'LowerStretching': 88.53986358642578, 'Patting': 105.75177001953125, 'Gesticuling': 59.87971115112305, 'Gaming': 77.93801879882812, 'Talking': 61.6079216003418, 'Greeting': 71.00727081298828}}\n"
     ]
    },
    {
     "name": "stderr",
     "output_type": "stream",
     "text": [
      " 34%|███▎      | 1801/5352 [04:05<07:33,  7.82it/s]"
     ]
    },
    {
     "name": "stdout",
     "output_type": "stream",
     "text": [
      "{'FullBody': {'All': 67.64827728271484, 'UpperStretching': 70.05421447753906, 'Walking': 67.059814453125, 'Reacting': 63.905460357666016, 'LowerStretching': 64.11671447753906, 'Patting': 77.09932708740234, 'Gesticuling': 54.18232727050781, 'Gaming': 61.559749603271484, 'Talking': 51.63230514526367, 'Greeting': 56.402793884277344}, 'UpperBody': {'All': 49.811973571777344, 'UpperStretching': 54.6179313659668, 'Walking': 43.38456726074219, 'Reacting': 51.873653411865234, 'LowerStretching': 39.29267120361328, 'Patting': 49.38344192504883, 'Gesticuling': 48.619529724121094, 'Gaming': 45.28338623046875, 'Talking': 41.47980880737305, 'Greeting': 42.37115478515625}, 'LowerBody': {'All': 85.48458099365234, 'UpperStretching': 85.4905014038086, 'Walking': 90.73506164550781, 'Reacting': 75.93727111816406, 'LowerStretching': 88.94075775146484, 'Patting': 104.8152084350586, 'Gesticuling': 59.74513626098633, 'Gaming': 77.83612060546875, 'Talking': 61.784793853759766, 'Greeting': 70.43443298339844}}\n"
     ]
    },
    {
     "name": "stderr",
     "output_type": "stream",
     "text": [
      " 37%|███▋      | 2001/5352 [04:32<07:48,  7.15it/s]"
     ]
    },
    {
     "name": "stdout",
     "output_type": "stream",
     "text": [
      "{'FullBody': {'All': 67.69811248779297, 'UpperStretching': 70.00856018066406, 'Walking': 66.89531707763672, 'Reacting': 63.939605712890625, 'LowerStretching': 64.44979095458984, 'Patting': 78.37582397460938, 'Gesticuling': 54.17792510986328, 'Gaming': 61.720848083496094, 'Talking': 51.77821731567383, 'Greeting': 57.06850051879883}, 'UpperBody': {'All': 49.784305572509766, 'UpperStretching': 54.56278991699219, 'Walking': 43.287540435791016, 'Reacting': 51.821563720703125, 'LowerStretching': 39.38047790527344, 'Patting': 50.250572204589844, 'Gesticuling': 48.70277404785156, 'Gaming': 45.41101837158203, 'Talking': 41.61705780029297, 'Greeting': 42.82871627807617}, 'LowerBody': {'All': 85.6119155883789, 'UpperStretching': 85.45433044433594, 'Walking': 90.50310516357422, 'Reacting': 76.05765533447266, 'LowerStretching': 89.51910400390625, 'Patting': 106.50106048583984, 'Gesticuling': 59.65308380126953, 'Gaming': 78.03067016601562, 'Talking': 61.93938446044922, 'Greeting': 71.30828094482422}}\n"
     ]
    },
    {
     "name": "stderr",
     "output_type": "stream",
     "text": [
      " 41%|████      | 2201/5352 [04:58<06:58,  7.53it/s]"
     ]
    },
    {
     "name": "stdout",
     "output_type": "stream",
     "text": [
      "{'FullBody': {'All': 67.79129028320312, 'UpperStretching': 70.10404968261719, 'Walking': 66.9207534790039, 'Reacting': 63.95188903808594, 'LowerStretching': 64.4540786743164, 'Patting': 79.52119445800781, 'Gesticuling': 54.264854431152344, 'Gaming': 61.7841911315918, 'Talking': 51.795894622802734, 'Greeting': 57.72951126098633}, 'UpperBody': {'All': 49.78048324584961, 'UpperStretching': 54.552024841308594, 'Walking': 43.226409912109375, 'Reacting': 51.89398193359375, 'LowerStretching': 39.356239318847656, 'Patting': 50.58427810668945, 'Gesticuling': 48.91176223754883, 'Gaming': 45.41435623168945, 'Talking': 41.76825714111328, 'Greeting': 43.08108901977539}, 'LowerBody': {'All': 85.80208587646484, 'UpperStretching': 85.65608215332031, 'Walking': 90.61509704589844, 'Reacting': 76.00981140136719, 'LowerStretching': 89.55191802978516, 'Patting': 108.45809936523438, 'Gesticuling': 59.61793899536133, 'Gaming': 78.15402221679688, 'Talking': 61.82352828979492, 'Greeting': 72.37793731689453}}\n"
     ]
    },
    {
     "name": "stderr",
     "output_type": "stream",
     "text": [
      " 45%|████▍     | 2401/5352 [05:25<06:35,  7.47it/s]"
     ]
    },
    {
     "name": "stdout",
     "output_type": "stream",
     "text": [
      "{'FullBody': {'All': 67.74560546875, 'UpperStretching': 70.01541900634766, 'Walking': 66.85034942626953, 'Reacting': 63.99411392211914, 'LowerStretching': 64.46441650390625, 'Patting': 80.12081909179688, 'Gesticuling': 54.41791534423828, 'Gaming': 62.123958587646484, 'Talking': 51.77389144897461, 'Greeting': 57.49014663696289}, 'UpperBody': {'All': 49.755516052246094, 'UpperStretching': 54.50942611694336, 'Walking': 43.093013763427734, 'Reacting': 52.06980514526367, 'LowerStretching': 39.3334846496582, 'Patting': 50.7877197265625, 'Gesticuling': 49.15275192260742, 'Gaming': 45.61420822143555, 'Talking': 41.69413375854492, 'Greeting': 42.855308532714844}, 'LowerBody': {'All': 85.73568725585938, 'UpperStretching': 85.52140045166016, 'Walking': 90.60769653320312, 'Reacting': 75.9184341430664, 'LowerStretching': 89.59535217285156, 'Patting': 109.45391845703125, 'Gesticuling': 59.683082580566406, 'Gaming': 78.63371276855469, 'Talking': 61.85365676879883, 'Greeting': 72.12498474121094}}\n"
     ]
    },
    {
     "name": "stderr",
     "output_type": "stream",
     "text": [
      " 49%|████▊     | 2601/5352 [05:52<06:10,  7.42it/s]"
     ]
    },
    {
     "name": "stdout",
     "output_type": "stream",
     "text": [
      "{'FullBody': {'All': 67.7994384765625, 'UpperStretching': 70.0621566772461, 'Walking': 66.86837005615234, 'Reacting': 63.813968658447266, 'LowerStretching': 64.54576873779297, 'Patting': 80.76984405517578, 'Gesticuling': 54.25713348388672, 'Gaming': 62.1999626159668, 'Talking': 51.80804443359375, 'Greeting': 57.256526947021484}, 'UpperBody': {'All': 49.77894973754883, 'UpperStretching': 54.54966354370117, 'Walking': 43.152706146240234, 'Reacting': 52.005882263183594, 'LowerStretching': 39.35050964355469, 'Patting': 50.75261306762695, 'Gesticuling': 49.0456657409668, 'Gaming': 45.48017883300781, 'Talking': 41.730281829833984, 'Greeting': 42.68254089355469}, 'LowerBody': {'All': 85.8199234008789, 'UpperStretching': 85.57464599609375, 'Walking': 90.58402252197266, 'Reacting': 75.62203979492188, 'LowerStretching': 89.74102783203125, 'Patting': 110.78706359863281, 'Gesticuling': 59.46861267089844, 'Gaming': 78.91974639892578, 'Talking': 61.885807037353516, 'Greeting': 71.83050537109375}}\n"
     ]
    },
    {
     "name": "stderr",
     "output_type": "stream",
     "text": [
      " 52%|█████▏    | 2801/5352 [06:18<05:42,  7.45it/s]"
     ]
    },
    {
     "name": "stdout",
     "output_type": "stream",
     "text": [
      "{'FullBody': {'All': 67.79713439941406, 'UpperStretching': 70.07183837890625, 'Walking': 66.84651947021484, 'Reacting': 63.93416213989258, 'LowerStretching': 64.41209411621094, 'Patting': 81.48577880859375, 'Gesticuling': 54.294681549072266, 'Gaming': 61.84973907470703, 'Talking': 51.80698013305664, 'Greeting': 57.63920974731445}, 'UpperBody': {'All': 49.77858352661133, 'UpperStretching': 54.52593994140625, 'Walking': 43.22323989868164, 'Reacting': 52.39337921142578, 'LowerStretching': 39.275943756103516, 'Patting': 51.35799789428711, 'Gesticuling': 49.123924255371094, 'Gaming': 45.374114990234375, 'Talking': 41.68107604980469, 'Greeting': 42.74625778198242}, 'LowerBody': {'All': 85.81568908691406, 'UpperStretching': 85.61772918701172, 'Walking': 90.46980285644531, 'Reacting': 75.47494506835938, 'LowerStretching': 89.54824829101562, 'Patting': 111.61356353759766, 'Gesticuling': 59.4654426574707, 'Gaming': 78.32536315917969, 'Talking': 61.93288803100586, 'Greeting': 72.53215789794922}}\n"
     ]
    },
    {
     "name": "stderr",
     "output_type": "stream",
     "text": [
      " 56%|█████▌    | 3001/5352 [06:45<05:14,  7.48it/s]"
     ]
    },
    {
     "name": "stdout",
     "output_type": "stream",
     "text": [
      "{'FullBody': {'All': 67.80355834960938, 'UpperStretching': 70.07872009277344, 'Walking': 66.88684844970703, 'Reacting': 63.694496154785156, 'LowerStretching': 64.3923568725586, 'Patting': 81.74236297607422, 'Gesticuling': 54.651756286621094, 'Gaming': 61.85553741455078, 'Talking': 51.88113021850586, 'Greeting': 57.47794723510742}, 'UpperBody': {'All': 49.795223236083984, 'UpperStretching': 54.557640075683594, 'Walking': 43.196048736572266, 'Reacting': 52.12926483154297, 'LowerStretching': 39.24422836303711, 'Patting': 51.366939544677734, 'Gesticuling': 49.63050842285156, 'Gaming': 45.35493469238281, 'Talking': 41.64900588989258, 'Greeting': 42.703590393066406}, 'LowerBody': {'All': 85.8118896484375, 'UpperStretching': 85.59978485107422, 'Walking': 90.57763671875, 'Reacting': 75.25971984863281, 'LowerStretching': 89.54048156738281, 'Patting': 112.1177749633789, 'Gesticuling': 59.67300796508789, 'Gaming': 78.35613250732422, 'Talking': 62.11325454711914, 'Greeting': 72.25230407714844}}\n"
     ]
    },
    {
     "name": "stderr",
     "output_type": "stream",
     "text": [
      " 60%|█████▉    | 3201/5352 [07:12<05:04,  7.05it/s]"
     ]
    },
    {
     "name": "stdout",
     "output_type": "stream",
     "text": [
      "{'FullBody': {'All': 67.7640609741211, 'UpperStretching': 70.04695129394531, 'Walking': 66.8361587524414, 'Reacting': 63.824031829833984, 'LowerStretching': 64.26668548583984, 'Patting': 81.8527603149414, 'Gesticuling': 54.55748748779297, 'Gaming': 62.09148406982422, 'Talking': 51.81504440307617, 'Greeting': 57.41838455200195}, 'UpperBody': {'All': 49.795021057128906, 'UpperStretching': 54.568939208984375, 'Walking': 43.21635437011719, 'Reacting': 52.11452865600586, 'LowerStretching': 39.19329071044922, 'Patting': 51.8541145324707, 'Gesticuling': 49.5136833190918, 'Gaming': 45.50956726074219, 'Talking': 41.43043518066406, 'Greeting': 42.668479919433594}, 'LowerBody': {'All': 85.73310852050781, 'UpperStretching': 85.52496337890625, 'Walking': 90.45597076416016, 'Reacting': 75.53353881835938, 'LowerStretching': 89.34008026123047, 'Patting': 111.8514175415039, 'Gesticuling': 59.60130310058594, 'Gaming': 78.67340850830078, 'Talking': 62.19966506958008, 'Greeting': 72.16829681396484}}\n"
     ]
    },
    {
     "name": "stderr",
     "output_type": "stream",
     "text": [
      " 64%|██████▎   | 3401/5352 [07:38<05:08,  6.32it/s]"
     ]
    },
    {
     "name": "stdout",
     "output_type": "stream",
     "text": [
      "{'FullBody': {'All': 67.75792694091797, 'UpperStretching': 70.03284454345703, 'Walking': 66.80435943603516, 'Reacting': 63.7391242980957, 'LowerStretching': 64.29329681396484, 'Patting': 81.7408447265625, 'Gesticuling': 54.45888137817383, 'Gaming': 62.247520446777344, 'Talking': 51.8651237487793, 'Greeting': 57.0059814453125}, 'UpperBody': {'All': 49.82624435424805, 'UpperStretching': 54.58278274536133, 'Walking': 43.302677154541016, 'Reacting': 52.04014205932617, 'LowerStretching': 39.219322204589844, 'Patting': 51.845436096191406, 'Gesticuling': 49.41350555419922, 'Gaming': 45.56630325317383, 'Talking': 41.58613204956055, 'Greeting': 42.43983840942383}, 'LowerBody': {'All': 85.68961334228516, 'UpperStretching': 85.48289489746094, 'Walking': 90.30603790283203, 'Reacting': 75.4381103515625, 'LowerStretching': 89.36726379394531, 'Patting': 111.63626098632812, 'Gesticuling': 59.50425338745117, 'Gaming': 78.92874145507812, 'Talking': 62.14412307739258, 'Greeting': 71.5721206665039}}\n"
     ]
    },
    {
     "name": "stderr",
     "output_type": "stream",
     "text": [
      " 67%|██████▋   | 3601/5352 [08:05<04:02,  7.22it/s]"
     ]
    },
    {
     "name": "stdout",
     "output_type": "stream",
     "text": [
      "{'FullBody': {'All': 67.72599029541016, 'UpperStretching': 69.9315185546875, 'Walking': 66.88529968261719, 'Reacting': 63.7617073059082, 'LowerStretching': 64.349853515625, 'Patting': 81.80836486816406, 'Gesticuling': 54.47784423828125, 'Gaming': 62.37274169921875, 'Talking': 51.788211822509766, 'Greeting': 57.13972473144531}, 'UpperBody': {'All': 49.76111602783203, 'UpperStretching': 54.4653205871582, 'Walking': 43.28734588623047, 'Reacting': 52.10572814941406, 'LowerStretching': 39.24371337890625, 'Patting': 51.793540954589844, 'Gesticuling': 49.44868087768555, 'Gaming': 45.555580139160156, 'Talking': 41.592796325683594, 'Greeting': 42.597896575927734}, 'LowerBody': {'All': 85.69085693359375, 'UpperStretching': 85.39772033691406, 'Walking': 90.4832534790039, 'Reacting': 75.41768646240234, 'LowerStretching': 89.45599365234375, 'Patting': 111.82320404052734, 'Gesticuling': 59.50700378417969, 'Gaming': 79.18990325927734, 'Talking': 61.9836311340332, 'Greeting': 71.68154907226562}}\n"
     ]
    },
    {
     "name": "stderr",
     "output_type": "stream",
     "text": [
      " 71%|███████   | 3801/5352 [08:32<03:35,  7.19it/s]"
     ]
    },
    {
     "name": "stdout",
     "output_type": "stream",
     "text": [
      "{'FullBody': {'All': 67.71907043457031, 'UpperStretching': 69.92608642578125, 'Walking': 66.8628158569336, 'Reacting': 63.51115798950195, 'LowerStretching': 64.41743469238281, 'Patting': 81.43793487548828, 'Gesticuling': 54.57681655883789, 'Gaming': 62.51704025268555, 'Talking': 51.72322463989258, 'Greeting': 57.24388885498047}, 'UpperBody': {'All': 49.76641845703125, 'UpperStretching': 54.497108459472656, 'Walking': 43.25895690917969, 'Reacting': 51.84480285644531, 'LowerStretching': 39.28508377075195, 'Patting': 51.63149642944336, 'Gesticuling': 49.53271484375, 'Gaming': 45.639060974121094, 'Talking': 41.419734954833984, 'Greeting': 42.68663787841797}, 'LowerBody': {'All': 85.67172241210938, 'UpperStretching': 85.35507202148438, 'Walking': 90.4666748046875, 'Reacting': 75.17752075195312, 'LowerStretching': 89.54978942871094, 'Patting': 111.24437713623047, 'Gesticuling': 59.62091827392578, 'Gaming': 79.39502716064453, 'Talking': 62.0267219543457, 'Greeting': 71.80113220214844}}\n"
     ]
    },
    {
     "name": "stderr",
     "output_type": "stream",
     "text": [
      " 75%|███████▍  | 4001/5352 [08:58<03:11,  7.05it/s]"
     ]
    },
    {
     "name": "stdout",
     "output_type": "stream",
     "text": [
      "{'FullBody': {'All': 67.72083282470703, 'UpperStretching': 69.9272232055664, 'Walking': 66.87800598144531, 'Reacting': 63.581661224365234, 'LowerStretching': 64.36922454833984, 'Patting': 81.39520263671875, 'Gesticuling': 54.9154052734375, 'Gaming': 62.81073760986328, 'Talking': 51.83678436279297, 'Greeting': 57.18516159057617}, 'UpperBody': {'All': 49.76837921142578, 'UpperStretching': 54.49142837524414, 'Walking': 43.23678207397461, 'Reacting': 51.9074592590332, 'LowerStretching': 39.272464752197266, 'Patting': 51.66884994506836, 'Gesticuling': 49.90390396118164, 'Gaming': 45.792625427246094, 'Talking': 41.47472381591797, 'Greeting': 42.62033462524414}, 'LowerBody': {'All': 85.67329406738281, 'UpperStretching': 85.36302947998047, 'Walking': 90.51922607421875, 'Reacting': 75.255859375, 'LowerStretching': 89.46598052978516, 'Patting': 111.12154388427734, 'Gesticuling': 59.92690658569336, 'Gaming': 79.828857421875, 'Talking': 62.198856353759766, 'Greeting': 71.7499771118164}}\n"
     ]
    },
    {
     "name": "stderr",
     "output_type": "stream",
     "text": [
      " 78%|███████▊  | 4201/5352 [09:25<02:43,  7.02it/s]"
     ]
    },
    {
     "name": "stdout",
     "output_type": "stream",
     "text": [
      "{'FullBody': {'All': 67.68895721435547, 'UpperStretching': 69.86620330810547, 'Walking': 66.8777847290039, 'Reacting': 63.44089889526367, 'LowerStretching': 64.40872192382812, 'Patting': 80.99854278564453, 'Gesticuling': 54.93265914916992, 'Gaming': 62.69743728637695, 'Talking': 52.383995056152344, 'Greeting': 57.365623474121094}, 'UpperBody': {'All': 49.736228942871094, 'UpperStretching': 54.42253112792969, 'Walking': 43.23023986816406, 'Reacting': 51.7590217590332, 'LowerStretching': 39.31268310546875, 'Patting': 51.460968017578125, 'Gesticuling': 49.95351028442383, 'Gaming': 45.6986198425293, 'Talking': 41.88827896118164, 'Greeting': 42.72157287597656}, 'LowerBody': {'All': 85.64168548583984, 'UpperStretching': 85.30986785888672, 'Walking': 90.52533721923828, 'Reacting': 75.12275695800781, 'LowerStretching': 89.50475311279297, 'Patting': 110.5361328125, 'Gesticuling': 59.91181182861328, 'Gaming': 79.69625854492188, 'Talking': 62.87971878051758, 'Greeting': 72.00967407226562}}\n"
     ]
    },
    {
     "name": "stderr",
     "output_type": "stream",
     "text": [
      " 82%|████████▏ | 4401/5352 [09:52<02:15,  7.02it/s]"
     ]
    },
    {
     "name": "stdout",
     "output_type": "stream",
     "text": [
      "{'FullBody': {'All': 67.65351867675781, 'UpperStretching': 69.8140869140625, 'Walking': 66.87567138671875, 'Reacting': 63.50211715698242, 'LowerStretching': 64.38467407226562, 'Patting': 80.63665008544922, 'Gesticuling': 55.04364013671875, 'Gaming': 62.671180725097656, 'Talking': 52.37955093383789, 'Greeting': 57.40094757080078}, 'UpperBody': {'All': 49.70998764038086, 'UpperStretching': 54.375179290771484, 'Walking': 43.28187561035156, 'Reacting': 51.879302978515625, 'LowerStretching': 39.270111083984375, 'Patting': 51.26594161987305, 'Gesticuling': 50.041290283203125, 'Gaming': 45.72163772583008, 'Talking': 41.810367584228516, 'Greeting': 42.84693908691406}, 'LowerBody': {'All': 85.5970458984375, 'UpperStretching': 85.25299072265625, 'Walking': 90.46947479248047, 'Reacting': 75.12494659423828, 'LowerStretching': 89.4992446899414, 'Patting': 110.00736236572266, 'Gesticuling': 60.045989990234375, 'Gaming': 79.62071228027344, 'Talking': 62.94873809814453, 'Greeting': 71.9549560546875}}\n"
     ]
    },
    {
     "name": "stderr",
     "output_type": "stream",
     "text": [
      " 86%|████████▌ | 4601/5352 [10:18<01:53,  6.59it/s]"
     ]
    },
    {
     "name": "stdout",
     "output_type": "stream",
     "text": [
      "{'FullBody': {'All': 67.61005401611328, 'UpperStretching': 69.76652526855469, 'Walking': 66.88455963134766, 'Reacting': 63.43877410888672, 'LowerStretching': 64.30335235595703, 'Patting': 80.30781555175781, 'Gesticuling': 55.06639862060547, 'Gaming': 62.77995300292969, 'Talking': 52.456851959228516, 'Greeting': 57.46638107299805}, 'UpperBody': {'All': 49.664588928222656, 'UpperStretching': 54.31086730957031, 'Walking': 43.27223205566406, 'Reacting': 51.75739669799805, 'LowerStretching': 39.23452377319336, 'Patting': 50.96055603027344, 'Gesticuling': 50.048500061035156, 'Gaming': 45.87970733642578, 'Talking': 41.90476608276367, 'Greeting': 42.83676528930664}, 'LowerBody': {'All': 85.55552673339844, 'UpperStretching': 85.22218322753906, 'Walking': 90.49689483642578, 'Reacting': 75.12015533447266, 'LowerStretching': 89.37218475341797, 'Patting': 109.65505981445312, 'Gesticuling': 60.084293365478516, 'Gaming': 79.68018341064453, 'Talking': 63.008934020996094, 'Greeting': 72.09600067138672}}\n"
     ]
    },
    {
     "name": "stderr",
     "output_type": "stream",
     "text": [
      " 90%|████████▉ | 4801/5352 [10:45<01:17,  7.07it/s]"
     ]
    },
    {
     "name": "stdout",
     "output_type": "stream",
     "text": [
      "{'FullBody': {'All': 67.61791229248047, 'UpperStretching': 69.76183319091797, 'Walking': 66.95487213134766, 'Reacting': 63.51625442504883, 'LowerStretching': 64.30740356445312, 'Patting': 79.8492431640625, 'Gesticuling': 55.115726470947266, 'Gaming': 62.83671569824219, 'Talking': 52.49174499511719, 'Greeting': 57.795021057128906}, 'UpperBody': {'All': 49.65802764892578, 'UpperStretching': 54.299713134765625, 'Walking': 43.293434143066406, 'Reacting': 51.815250396728516, 'LowerStretching': 39.20466232299805, 'Patting': 50.58942413330078, 'Gesticuling': 50.086517333984375, 'Gaming': 45.95558166503906, 'Talking': 41.88318634033203, 'Greeting': 43.06888198852539}, 'LowerBody': {'All': 85.57778930664062, 'UpperStretching': 85.22395324707031, 'Walking': 90.61630249023438, 'Reacting': 75.21723937988281, 'LowerStretching': 89.4101333618164, 'Patting': 109.10908508300781, 'Gesticuling': 60.144927978515625, 'Gaming': 79.71784210205078, 'Talking': 63.100311279296875, 'Greeting': 72.52116394042969}}\n"
     ]
    },
    {
     "name": "stderr",
     "output_type": "stream",
     "text": [
      " 93%|█████████▎| 5001/5352 [11:12<00:57,  6.13it/s]"
     ]
    },
    {
     "name": "stdout",
     "output_type": "stream",
     "text": [
      "{'FullBody': {'All': 67.63504791259766, 'UpperStretching': 69.7804946899414, 'Walking': 66.97795104980469, 'Reacting': 63.47169494628906, 'LowerStretching': 64.30848693847656, 'Patting': 79.95645141601562, 'Gesticuling': 55.22085189819336, 'Gaming': 62.8740234375, 'Talking': 52.46809387207031, 'Greeting': 57.62277603149414}, 'UpperBody': {'All': 49.6632194519043, 'UpperStretching': 54.30328369140625, 'Walking': 43.31647872924805, 'Reacting': 51.75914764404297, 'LowerStretching': 39.17940139770508, 'Patting': 50.93269729614258, 'Gesticuling': 50.17879104614258, 'Gaming': 46.01644515991211, 'Talking': 41.87771224975586, 'Greeting': 42.97307205200195}, 'LowerBody': {'All': 85.60687255859375, 'UpperStretching': 85.25770568847656, 'Walking': 90.63941192626953, 'Reacting': 75.18423461914062, 'LowerStretching': 89.43756866455078, 'Patting': 108.98021697998047, 'Gesticuling': 60.26291275024414, 'Gaming': 79.73159790039062, 'Talking': 63.058475494384766, 'Greeting': 72.27247619628906}}\n"
     ]
    },
    {
     "name": "stderr",
     "output_type": "stream",
     "text": [
      " 97%|█████████▋| 5201/5352 [11:38<00:22,  6.74it/s]"
     ]
    },
    {
     "name": "stdout",
     "output_type": "stream",
     "text": [
      "{'FullBody': {'All': 67.61761474609375, 'UpperStretching': 69.7605209350586, 'Walking': 66.88108825683594, 'Reacting': 63.439239501953125, 'LowerStretching': 64.36788177490234, 'Patting': 79.79129028320312, 'Gesticuling': 55.25520324707031, 'Gaming': 62.89622116088867, 'Talking': 52.45561218261719, 'Greeting': 57.55271911621094}, 'UpperBody': {'All': 49.648990631103516, 'UpperStretching': 54.27174377441406, 'Walking': 43.282745361328125, 'Reacting': 51.730567932128906, 'LowerStretching': 39.21724319458008, 'Patting': 50.73847961425781, 'Gesticuling': 50.297054290771484, 'Gaming': 46.038536071777344, 'Talking': 41.873497009277344, 'Greeting': 43.0091667175293}, 'LowerBody': {'All': 85.58623504638672, 'UpperStretching': 85.24930572509766, 'Walking': 90.47943878173828, 'Reacting': 75.14791870117188, 'LowerStretching': 89.51851654052734, 'Patting': 108.8441162109375, 'Gesticuling': 60.21335220336914, 'Gaming': 79.75390625, 'Talking': 63.037723541259766, 'Greeting': 72.09626770019531}}\n"
     ]
    },
    {
     "name": "stderr",
     "output_type": "stream",
     "text": [
      "100%|██████████| 5352/5352 [11:58<00:00,  7.45it/s]\n",
      "\u001b[94m17:22:37 \u001b[92m[INFO]\u001b[94m Main\u001b[0m: Saving evaluation results...\n",
      "\u001b[94m17:22:37 \u001b[92m[INFO]\u001b[94m Main\u001b[0m: Done.\n",
      "\u001b[94m17:22:37 \u001b[92m[INFO]\u001b[94m Main\u001b[0m: Starting demo...\n",
      "  0%|          | 0/5352 [00:00<?, ?it/s]/opt/conda/lib/python3.10/site-packages/torchvision/transforms/transforms.py:329: UserWarning: Argument 'interpolation' of type int is deprecated since 0.13 and will be removed in 0.15. Please use InterpolationMode enum.\n",
      "  warnings.warn(\n",
      "/opt/conda/lib/python3.10/site-packages/torchvision/transforms/transforms.py:329: UserWarning: Argument 'interpolation' of type int is deprecated since 0.13 and will be removed in 0.15. Please use InterpolationMode enum.\n",
      "  warnings.warn(\n",
      "/opt/conda/lib/python3.10/site-packages/torchvision/transforms/transforms.py:329: UserWarning: Argument 'interpolation' of type int is deprecated since 0.13 and will be removed in 0.15. Please use InterpolationMode enum.\n",
      "  warnings.warn(\n",
      "/opt/conda/lib/python3.10/site-packages/torchvision/transforms/transforms.py:329: UserWarning: Argument 'interpolation' of type int is deprecated since 0.13 and will be removed in 0.15. Please use InterpolationMode enum.\n",
      "  warnings.warn(\n",
      "/opt/conda/lib/python3.10/site-packages/torchvision/transforms/transforms.py:329: UserWarning: Argument 'interpolation' of type int is deprecated since 0.13 and will be removed in 0.15. Please use InterpolationMode enum.\n",
      "  warnings.warn(\n",
      "/opt/conda/lib/python3.10/site-packages/torchvision/transforms/transforms.py:329: UserWarning: Argument 'interpolation' of type int is deprecated since 0.13 and will be removed in 0.15. Please use InterpolationMode enum.\n",
      "  warnings.warn(\n",
      "/opt/conda/lib/python3.10/site-packages/torchvision/transforms/transforms.py:329: UserWarning: Argument 'interpolation' of type int is deprecated since 0.13 and will be removed in 0.15. Please use InterpolationMode enum.\n",
      "  warnings.warn(\n",
      "/opt/conda/lib/python3.10/site-packages/torchvision/transforms/transforms.py:329: UserWarning: Argument 'interpolation' of type int is deprecated since 0.13 and will be removed in 0.15. Please use InterpolationMode enum.\n",
      "  warnings.warn(\n",
      "/opt/conda/lib/python3.10/site-packages/torchvision/transforms/transforms.py:329: UserWarning: Argument 'interpolation' of type int is deprecated since 0.13 and will be removed in 0.15. Please use InterpolationMode enum.\n",
      "  warnings.warn(\n",
      "/opt/conda/lib/python3.10/site-packages/torchvision/transforms/transforms.py:329: UserWarning: Argument 'interpolation' of type int is deprecated since 0.13 and will be removed in 0.15. Please use InterpolationMode enum.\n",
      "  warnings.warn(\n",
      "/opt/conda/lib/python3.10/site-packages/torchvision/transforms/transforms.py:329: UserWarning: Argument 'interpolation' of type int is deprecated since 0.13 and will be removed in 0.15. Please use InterpolationMode enum.\n",
      "  warnings.warn(\n",
      "/opt/conda/lib/python3.10/site-packages/torchvision/transforms/transforms.py:329: UserWarning: Argument 'interpolation' of type int is deprecated since 0.13 and will be removed in 0.15. Please use InterpolationMode enum.\n",
      "  warnings.warn(\n",
      "/opt/conda/lib/python3.10/site-packages/torchvision/transforms/transforms.py:329: UserWarning: Argument 'interpolation' of type int is deprecated since 0.13 and will be removed in 0.15. Please use InterpolationMode enum.\n",
      "  warnings.warn(\n",
      "/opt/conda/lib/python3.10/site-packages/torchvision/transforms/transforms.py:329: UserWarning: Argument 'interpolation' of type int is deprecated since 0.13 and will be removed in 0.15. Please use InterpolationMode enum.\n",
      "  warnings.warn(\n",
      "/opt/conda/lib/python3.10/site-packages/torchvision/transforms/transforms.py:329: UserWarning: Argument 'interpolation' of type int is deprecated since 0.13 and will be removed in 0.15. Please use InterpolationMode enum.\n",
      "  warnings.warn(\n",
      "/opt/conda/lib/python3.10/site-packages/torchvision/transforms/transforms.py:329: UserWarning: Argument 'interpolation' of type int is deprecated since 0.13 and will be removed in 0.15. Please use InterpolationMode enum.\n",
      "  warnings.warn(\n",
      "/opt/conda/lib/python3.10/site-packages/torchvision/transforms/transforms.py:329: UserWarning: Argument 'interpolation' of type int is deprecated since 0.13 and will be removed in 0.15. Please use InterpolationMode enum.\n",
      "  warnings.warn(\n",
      "/opt/conda/lib/python3.10/site-packages/torchvision/transforms/transforms.py:329: UserWarning: Argument 'interpolation' of type int is deprecated since 0.13 and will be removed in 0.15. Please use InterpolationMode enum.\n",
      "  warnings.warn(\n",
      "/opt/conda/lib/python3.10/site-packages/torchvision/transforms/transforms.py:329: UserWarning: Argument 'interpolation' of type int is deprecated since 0.13 and will be removed in 0.15. Please use InterpolationMode enum.\n",
      "  warnings.warn(\n",
      "/opt/conda/lib/python3.10/site-packages/torchvision/transforms/transforms.py:329: UserWarning: Argument 'interpolation' of type int is deprecated since 0.13 and will be removed in 0.15. Please use InterpolationMode enum.\n",
      "  warnings.warn(\n",
      "/opt/conda/lib/python3.10/site-packages/torchvision/transforms/transforms.py:329: UserWarning: Argument 'interpolation' of type int is deprecated since 0.13 and will be removed in 0.15. Please use InterpolationMode enum.\n",
      "  warnings.warn(\n",
      "/opt/conda/lib/python3.10/site-packages/torchvision/transforms/transforms.py:329: UserWarning: Argument 'interpolation' of type int is deprecated since 0.13 and will be removed in 0.15. Please use InterpolationMode enum.\n",
      "  warnings.warn(\n",
      "/opt/conda/lib/python3.10/site-packages/torchvision/transforms/transforms.py:329: UserWarning: Argument 'interpolation' of type int is deprecated since 0.13 and will be removed in 0.15. Please use InterpolationMode enum.\n",
      "  warnings.warn(\n",
      "/opt/conda/lib/python3.10/site-packages/torchvision/transforms/transforms.py:329: UserWarning: Argument 'interpolation' of type int is deprecated since 0.13 and will be removed in 0.15. Please use InterpolationMode enum.\n",
      "  warnings.warn(\n",
      "  4%|▍         | 201/5352 [00:33<10:53,  7.88it/s]"
     ]
    },
    {
     "name": "stdout",
     "output_type": "stream",
     "text": [
      "{'FullBody': {'All': 64.24775695800781, 'UpperStretching': 64.89539337158203, 'LowerStretching': 61.95866775512695, 'Patting': 89.1189956665039, 'Walking': 64.49508666992188, 'Reacting': 63.78235626220703, 'Greeting': 50.89076614379883, 'Gesticuling': 55.3510856628418, 'Gaming': 65.1342544555664, 'Talking': 55.06624984741211}, 'UpperBody': {'All': 48.363346099853516, 'UpperStretching': 52.472442626953125, 'LowerStretching': 38.04964828491211, 'Patting': 64.44879150390625, 'Walking': 42.1314582824707, 'Reacting': 49.52323913574219, 'Greeting': 38.366600036621094, 'Gesticuling': 46.20285415649414, 'Gaming': 46.72638702392578, 'Talking': 43.081321716308594}, 'LowerBody': {'All': 80.13215637207031, 'UpperStretching': 77.3183364868164, 'LowerStretching': 85.8676986694336, 'Patting': 113.78921508789062, 'Walking': 86.85872650146484, 'Reacting': 78.04147338867188, 'Greeting': 63.41492462158203, 'Gesticuling': 64.49929809570312, 'Gaming': 83.5421371459961, 'Talking': 67.05118560791016}}\n"
     ]
    },
    {
     "name": "stderr",
     "output_type": "stream",
     "text": [
      "  7%|▋         | 401/5352 [00:59<10:52,  7.59it/s]"
     ]
    },
    {
     "name": "stdout",
     "output_type": "stream",
     "text": [
      "{'FullBody': {'All': 65.45433807373047, 'UpperStretching': 65.71248626708984, 'LowerStretching': 62.90121841430664, 'Patting': 94.8209228515625, 'Walking': 65.93317413330078, 'Reacting': 67.26851654052734, 'Greeting': 50.272979736328125, 'Gesticuling': 57.28452682495117, 'Gaming': 67.24800872802734, 'Talking': 55.655826568603516}, 'UpperBody': {'All': 49.359474182128906, 'UpperStretching': 53.2591438293457, 'LowerStretching': 38.716712951660156, 'Patting': 63.90060806274414, 'Walking': 43.152252197265625, 'Reacting': 53.781700134277344, 'Greeting': 37.69178009033203, 'Gesticuling': 49.400943756103516, 'Gaming': 47.20319747924805, 'Talking': 42.134185791015625}, 'LowerBody': {'All': 81.5491943359375, 'UpperStretching': 78.16581726074219, 'LowerStretching': 87.08572387695312, 'Patting': 125.74124145507812, 'Walking': 88.71410369873047, 'Reacting': 80.75534057617188, 'Greeting': 62.85417938232422, 'Gesticuling': 65.16810607910156, 'Gaming': 87.2928237915039, 'Talking': 69.17748260498047}}\n"
     ]
    },
    {
     "name": "stderr",
     "output_type": "stream",
     "text": [
      " 11%|█         | 601/5352 [01:26<10:09,  7.80it/s]"
     ]
    },
    {
     "name": "stdout",
     "output_type": "stream",
     "text": [
      "{'FullBody': {'All': 65.62230682373047, 'UpperStretching': 66.14563751220703, 'LowerStretching': 62.68328857421875, 'Patting': 89.37043762207031, 'Walking': 66.64974975585938, 'Reacting': 66.17198944091797, 'Greeting': 53.31223678588867, 'Gesticuling': 58.17796325683594, 'Gaming': 67.7874755859375, 'Talking': 54.34945297241211}, 'UpperBody': {'All': 49.513126373291016, 'UpperStretching': 53.44716262817383, 'LowerStretching': 38.656803131103516, 'Patting': 61.71433639526367, 'Walking': 44.13724136352539, 'Reacting': 53.64249038696289, 'Greeting': 40.33427047729492, 'Gesticuling': 50.382781982421875, 'Gaming': 47.796875, 'Talking': 41.13890838623047}, 'LowerBody': {'All': 81.73148345947266, 'UpperStretching': 78.8441162109375, 'LowerStretching': 86.70977020263672, 'Patting': 117.02651977539062, 'Walking': 89.16226196289062, 'Reacting': 78.70149230957031, 'Greeting': 66.29022216796875, 'Gesticuling': 65.97313690185547, 'Gaming': 87.77806091308594, 'Talking': 67.55999755859375}}\n"
     ]
    },
    {
     "name": "stderr",
     "output_type": "stream",
     "text": [
      " 15%|█▍        | 801/5352 [01:53<10:50,  7.00it/s]"
     ]
    },
    {
     "name": "stdout",
     "output_type": "stream",
     "text": [
      "{'FullBody': {'All': 65.34221649169922, 'UpperStretching': 65.87240600585938, 'LowerStretching': 62.852603912353516, 'Patting': 85.36975860595703, 'Walking': 66.55673217773438, 'Reacting': 65.30179595947266, 'Greeting': 54.309207916259766, 'Gesticuling': 57.793922424316406, 'Gaming': 67.11714172363281, 'Talking': 53.8941535949707}, 'UpperBody': {'All': 49.304439544677734, 'UpperStretching': 53.20585632324219, 'LowerStretching': 38.82132339477539, 'Patting': 59.508644104003906, 'Walking': 44.107627868652344, 'Reacting': 52.60447692871094, 'Greeting': 40.80389404296875, 'Gesticuling': 49.844871520996094, 'Gaming': 47.09403610229492, 'Talking': 40.98243713378906}, 'LowerBody': {'All': 81.37999725341797, 'UpperStretching': 78.53895568847656, 'LowerStretching': 86.8838882446289, 'Patting': 111.23086547851562, 'Walking': 89.00584411621094, 'Reacting': 77.99911499023438, 'Greeting': 67.81452178955078, 'Gesticuling': 65.74298095703125, 'Gaming': 87.1402587890625, 'Talking': 66.80586242675781}}\n"
     ]
    },
    {
     "name": "stderr",
     "output_type": "stream",
     "text": [
      " 19%|█▊        | 1001/5352 [02:19<09:28,  7.65it/s]"
     ]
    },
    {
     "name": "stdout",
     "output_type": "stream",
     "text": [
      "{'FullBody': {'All': 65.46215057373047, 'UpperStretching': 66.06712341308594, 'LowerStretching': 62.94054412841797, 'Patting': 84.73202514648438, 'Walking': 66.89632415771484, 'Reacting': 64.96868896484375, 'Greeting': 53.84926223754883, 'Gesticuling': 57.313907623291016, 'Gaming': 66.7685775756836, 'Talking': 53.29563903808594}, 'UpperBody': {'All': 49.359413146972656, 'UpperStretching': 53.39800262451172, 'LowerStretching': 38.970943450927734, 'Patting': 59.09164810180664, 'Walking': 44.112037658691406, 'Reacting': 52.18159866333008, 'Greeting': 40.423980712890625, 'Gesticuling': 49.578704833984375, 'Gaming': 46.980430603027344, 'Talking': 40.54700469970703}, 'LowerBody': {'All': 81.56488800048828, 'UpperStretching': 78.73624420166016, 'LowerStretching': 86.91015625, 'Patting': 110.37240600585938, 'Walking': 89.68060302734375, 'Reacting': 77.75577545166016, 'Greeting': 67.27454376220703, 'Gesticuling': 65.04912567138672, 'Gaming': 86.55672454833984, 'Talking': 66.04428100585938}}\n"
     ]
    },
    {
     "name": "stderr",
     "output_type": "stream",
     "text": [
      " 22%|██▏       | 1201/5352 [02:46<09:49,  7.04it/s]"
     ]
    },
    {
     "name": "stdout",
     "output_type": "stream",
     "text": [
      "{'FullBody': {'All': 65.41293334960938, 'UpperStretching': 66.12622833251953, 'LowerStretching': 62.729881286621094, 'Patting': 82.68099212646484, 'Walking': 66.94053649902344, 'Reacting': 64.73011779785156, 'Greeting': 53.69344711303711, 'Gesticuling': 57.566925048828125, 'Gaming': 66.33889770507812, 'Talking': 53.38611602783203}, 'UpperBody': {'All': 49.270809173583984, 'UpperStretching': 53.30730056762695, 'LowerStretching': 38.96272659301758, 'Patting': 57.82080078125, 'Walking': 44.251502990722656, 'Reacting': 51.3728141784668, 'Greeting': 40.45362854003906, 'Gesticuling': 50.02980422973633, 'Gaming': 46.67830276489258, 'Talking': 40.89121627807617}, 'LowerBody': {'All': 81.55506134033203, 'UpperStretching': 78.9451675415039, 'LowerStretching': 86.4970474243164, 'Patting': 107.54117584228516, 'Walking': 89.62956237792969, 'Reacting': 78.0874252319336, 'Greeting': 66.93325805664062, 'Gesticuling': 65.10404968261719, 'Gaming': 85.99949645996094, 'Talking': 65.88101959228516}}\n"
     ]
    },
    {
     "name": "stderr",
     "output_type": "stream",
     "text": [
      " 26%|██▌       | 1401/5352 [03:12<08:30,  7.74it/s]"
     ]
    },
    {
     "name": "stdout",
     "output_type": "stream",
     "text": [
      "{'FullBody': {'All': 65.44467163085938, 'UpperStretching': 66.19976806640625, 'LowerStretching': 62.75392532348633, 'Patting': 81.15312194824219, 'Walking': 67.205322265625, 'Reacting': 64.78693389892578, 'Greeting': 54.025970458984375, 'Gesticuling': 57.14649200439453, 'Gaming': 66.4967041015625, 'Talking': 53.71111297607422}, 'UpperBody': {'All': 49.20054626464844, 'UpperStretching': 53.218482971191406, 'LowerStretching': 38.95948791503906, 'Patting': 57.110660552978516, 'Walking': 44.41736602783203, 'Reacting': 51.421443939208984, 'Greeting': 40.55342102050781, 'Gesticuling': 49.512901306152344, 'Gaming': 46.61058807373047, 'Talking': 41.2664909362793}, 'LowerBody': {'All': 81.68880462646484, 'UpperStretching': 79.18106079101562, 'LowerStretching': 86.54837036132812, 'Patting': 105.19560241699219, 'Walking': 89.99329376220703, 'Reacting': 78.15241241455078, 'Greeting': 67.49851989746094, 'Gesticuling': 64.78007507324219, 'Gaming': 86.38282775878906, 'Talking': 66.15573120117188}}\n"
     ]
    },
    {
     "name": "stderr",
     "output_type": "stream",
     "text": [
      " 30%|██▉       | 1601/5352 [03:39<08:10,  7.64it/s]"
     ]
    },
    {
     "name": "stdout",
     "output_type": "stream",
     "text": [
      "{'FullBody': {'All': 65.51335906982422, 'UpperStretching': 66.3145523071289, 'LowerStretching': 62.6335563659668, 'Patting': 81.1868896484375, 'Walking': 67.15010070800781, 'Reacting': 65.19915008544922, 'Greeting': 53.96888732910156, 'Gesticuling': 57.19697570800781, 'Gaming': 66.88786315917969, 'Talking': 53.9293212890625}, 'UpperBody': {'All': 49.2474250793457, 'UpperStretching': 53.28428649902344, 'LowerStretching': 38.89693832397461, 'Patting': 57.02203369140625, 'Walking': 44.41928482055664, 'Reacting': 51.7639274597168, 'Greeting': 40.508113861083984, 'Gesticuling': 49.56599426269531, 'Gaming': 46.61955642700195, 'Talking': 41.619178771972656}, 'LowerBody': {'All': 81.77931213378906, 'UpperStretching': 79.34481811523438, 'LowerStretching': 86.37015533447266, 'Patting': 105.35176086425781, 'Walking': 89.88092041015625, 'Reacting': 78.6343765258789, 'Greeting': 67.42965698242188, 'Gesticuling': 64.82796478271484, 'Gaming': 87.15617370605469, 'Talking': 66.23946380615234}}\n"
     ]
    },
    {
     "name": "stderr",
     "output_type": "stream",
     "text": [
      " 34%|███▎      | 1801/5352 [04:06<07:43,  7.66it/s]"
     ]
    },
    {
     "name": "stdout",
     "output_type": "stream",
     "text": [
      "{'FullBody': {'All': 65.55101013183594, 'UpperStretching': 66.38755798339844, 'LowerStretching': 62.726829528808594, 'Patting': 80.4317398071289, 'Walking': 66.91423034667969, 'Reacting': 65.24298095703125, 'Greeting': 55.3043327331543, 'Gesticuling': 57.88328170776367, 'Gaming': 67.12337493896484, 'Talking': 54.11015319824219}, 'UpperBody': {'All': 49.27735137939453, 'UpperStretching': 53.3200798034668, 'LowerStretching': 38.948394775390625, 'Patting': 56.36576843261719, 'Walking': 44.365413665771484, 'Reacting': 51.845855712890625, 'Greeting': 41.19132995605469, 'Gesticuling': 50.469444274902344, 'Gaming': 46.85530471801758, 'Talking': 41.560821533203125}, 'LowerBody': {'All': 81.82467651367188, 'UpperStretching': 79.45503997802734, 'LowerStretching': 86.50525665283203, 'Patting': 104.49771118164062, 'Walking': 89.46304321289062, 'Reacting': 78.64010620117188, 'Greeting': 69.41732788085938, 'Gesticuling': 65.297119140625, 'Gaming': 87.39144897460938, 'Talking': 66.65947723388672}}\n"
     ]
    },
    {
     "name": "stderr",
     "output_type": "stream",
     "text": [
      " 37%|███▋      | 2001/5352 [04:32<07:43,  7.24it/s]"
     ]
    },
    {
     "name": "stdout",
     "output_type": "stream",
     "text": [
      "{'FullBody': {'All': 65.55713653564453, 'UpperStretching': 66.39009094238281, 'LowerStretching': 62.72880172729492, 'Patting': 80.86791229248047, 'Walking': 67.04171752929688, 'Reacting': 65.08362579345703, 'Greeting': 54.9196662902832, 'Gesticuling': 57.863555908203125, 'Gaming': 67.01424407958984, 'Talking': 54.06436538696289}, 'UpperBody': {'All': 49.28418731689453, 'UpperStretching': 53.329017639160156, 'LowerStretching': 38.89495086669922, 'Patting': 56.66834259033203, 'Walking': 44.53464126586914, 'Reacting': 51.748050689697266, 'Greeting': 40.87664794921875, 'Gesticuling': 50.455421447753906, 'Gaming': 47.05368423461914, 'Talking': 41.935325622558594}, 'LowerBody': {'All': 81.830078125, 'UpperStretching': 79.45116424560547, 'LowerStretching': 86.5626449584961, 'Patting': 105.06748962402344, 'Walking': 89.54878997802734, 'Reacting': 78.41919708251953, 'Greeting': 68.96269226074219, 'Gesticuling': 65.27169036865234, 'Gaming': 86.97480010986328, 'Talking': 66.19341278076172}}\n"
     ]
    },
    {
     "name": "stderr",
     "output_type": "stream",
     "text": [
      " 41%|████      | 2201/5352 [04:59<07:00,  7.49it/s]"
     ]
    },
    {
     "name": "stdout",
     "output_type": "stream",
     "text": [
      "{'FullBody': {'All': 65.607421875, 'UpperStretching': 66.44013977050781, 'LowerStretching': 62.84110641479492, 'Patting': 80.19818878173828, 'Walking': 67.00041198730469, 'Reacting': 65.19541931152344, 'Greeting': 55.107810974121094, 'Gesticuling': 57.88239288330078, 'Gaming': 67.13788604736328, 'Talking': 54.18180847167969}, 'UpperBody': {'All': 49.30276107788086, 'UpperStretching': 53.36231994628906, 'LowerStretching': 38.887962341308594, 'Patting': 56.23350143432617, 'Walking': 44.560028076171875, 'Reacting': 51.4915771484375, 'Greeting': 40.86115646362305, 'Gesticuling': 50.41058349609375, 'Gaming': 47.202796936035156, 'Talking': 42.1757698059082}, 'LowerBody': {'All': 81.91207885742188, 'UpperStretching': 79.51795196533203, 'LowerStretching': 86.79425048828125, 'Patting': 104.16288757324219, 'Walking': 89.44080352783203, 'Reacting': 78.89925384521484, 'Greeting': 69.3544692993164, 'Gesticuling': 65.35420989990234, 'Gaming': 87.07296752929688, 'Talking': 66.18785095214844}}\n"
     ]
    },
    {
     "name": "stderr",
     "output_type": "stream",
     "text": [
      " 45%|████▍     | 2401/5352 [05:26<06:39,  7.39it/s]"
     ]
    },
    {
     "name": "stdout",
     "output_type": "stream",
     "text": [
      "{'FullBody': {'All': 65.70933532714844, 'UpperStretching': 66.57154083251953, 'LowerStretching': 63.010955810546875, 'Patting': 80.720703125, 'Walking': 66.84819030761719, 'Reacting': 65.23681640625, 'Greeting': 55.02948760986328, 'Gesticuling': 57.685733795166016, 'Gaming': 67.16541290283203, 'Talking': 54.19292068481445}, 'UpperBody': {'All': 49.39756393432617, 'UpperStretching': 53.52946090698242, 'LowerStretching': 38.905113220214844, 'Patting': 56.52821350097656, 'Walking': 44.4141731262207, 'Reacting': 51.52873992919922, 'Greeting': 40.98853302001953, 'Gesticuling': 50.05902099609375, 'Gaming': 47.33749771118164, 'Talking': 42.390254974365234}, 'LowerBody': {'All': 82.02111053466797, 'UpperStretching': 79.6136245727539, 'LowerStretching': 87.11679077148438, 'Patting': 104.91320037841797, 'Walking': 89.28219604492188, 'Reacting': 78.94489288330078, 'Greeting': 69.07044982910156, 'Gesticuling': 65.31244659423828, 'Gaming': 86.99331665039062, 'Talking': 65.99559783935547}}\n"
     ]
    },
    {
     "name": "stderr",
     "output_type": "stream",
     "text": [
      " 49%|████▊     | 2600/5352 [05:52<06:07,  7.50it/s]"
     ]
    },
    {
     "name": "stdout",
     "output_type": "stream",
     "text": [
      "{'FullBody': {'All': 65.72347259521484, 'UpperStretching': 66.62908935546875, 'LowerStretching': 62.899051666259766, 'Patting': 80.57662200927734, 'Walking': 66.94183349609375, 'Reacting': 65.16854858398438, 'Greeting': 55.2639274597168, 'Gesticuling': 57.85359191894531, 'Gaming': 66.94068145751953, 'Talking': 53.94245529174805}, 'UpperBody': {'All': 49.42607498168945, 'UpperStretching': 53.5887565612793, 'LowerStretching': 38.81640625, 'Patting': 56.670875549316406, 'Walking': 44.441978454589844, 'Reacting': 51.48674392700195, 'Greeting': 41.219783782958984, 'Gesticuling': 50.25535202026367, 'Gaming': 47.10006332397461, 'Talking': 42.26524353027344}, 'LowerBody': {'All': 82.02085876464844, 'UpperStretching': 79.66941833496094, 'LowerStretching': 86.981689453125, 'Patting': 104.48237609863281, 'Walking': 89.44168853759766, 'Reacting': 78.85035705566406, 'Greeting': 69.3080825805664, 'Gesticuling': 65.45183563232422, 'Gaming': 86.78131103515625, 'Talking': 65.61966705322266}}\n"
     ]
    },
    {
     "name": "stderr",
     "output_type": "stream",
     "text": [
      " 52%|█████▏    | 2801/5352 [06:19<05:35,  7.59it/s]"
     ]
    },
    {
     "name": "stdout",
     "output_type": "stream",
     "text": [
      "{'FullBody': {'All': 65.76806640625, 'UpperStretching': 66.70841979980469, 'LowerStretching': 62.886497497558594, 'Patting': 80.94234466552734, 'Walking': 66.89128875732422, 'Reacting': 65.35929870605469, 'Greeting': 55.05099105834961, 'Gesticuling': 57.77181625366211, 'Gaming': 67.00806427001953, 'Talking': 53.75178909301758}, 'UpperBody': {'All': 49.44425964355469, 'UpperStretching': 53.63230895996094, 'LowerStretching': 38.85301208496094, 'Patting': 56.62353515625, 'Walking': 44.39289855957031, 'Reacting': 51.74331283569336, 'Greeting': 40.92986297607422, 'Gesticuling': 50.108489990234375, 'Gaming': 47.16264343261719, 'Talking': 42.12821578979492}, 'LowerBody': {'All': 82.09186553955078, 'UpperStretching': 79.78453826904297, 'LowerStretching': 86.91999053955078, 'Patting': 105.26114654541016, 'Walking': 89.38968658447266, 'Reacting': 78.97527313232422, 'Greeting': 69.17211151123047, 'Gesticuling': 65.43515014648438, 'Gaming': 86.85348510742188, 'Talking': 65.3753662109375}}\n"
     ]
    },
    {
     "name": "stderr",
     "output_type": "stream",
     "text": [
      " 56%|█████▌    | 3001/5352 [06:46<05:18,  7.37it/s]"
     ]
    },
    {
     "name": "stdout",
     "output_type": "stream",
     "text": [
      "{'FullBody': {'All': 65.78419494628906, 'UpperStretching': 66.73188781738281, 'LowerStretching': 62.853336334228516, 'Patting': 80.66429138183594, 'Walking': 67.01322174072266, 'Reacting': 65.19941711425781, 'Greeting': 55.16028594970703, 'Gesticuling': 57.73661804199219, 'Gaming': 67.04515838623047, 'Talking': 53.72030258178711}, 'UpperBody': {'All': 49.42757797241211, 'UpperStretching': 53.61410140991211, 'LowerStretching': 38.829750061035156, 'Patting': 56.521888732910156, 'Walking': 44.406436920166016, 'Reacting': 51.73693084716797, 'Greeting': 41.11762237548828, 'Gesticuling': 50.11784362792969, 'Gaming': 47.15681457519531, 'Talking': 42.12425231933594}, 'LowerBody': {'All': 82.14081573486328, 'UpperStretching': 79.84967803955078, 'LowerStretching': 86.87692260742188, 'Patting': 104.80667114257812, 'Walking': 89.6200180053711, 'Reacting': 78.66190338134766, 'Greeting': 69.20294952392578, 'Gesticuling': 65.35540008544922, 'Gaming': 86.93350219726562, 'Talking': 65.31636047363281}}\n"
     ]
    },
    {
     "name": "stderr",
     "output_type": "stream",
     "text": [
      " 60%|█████▉    | 3201/5352 [07:12<04:53,  7.32it/s]"
     ]
    },
    {
     "name": "stdout",
     "output_type": "stream",
     "text": [
      "{'FullBody': {'All': 65.74724578857422, 'UpperStretching': 66.73039245605469, 'LowerStretching': 62.84461212158203, 'Patting': 80.06581115722656, 'Walking': 66.84634399414062, 'Reacting': 65.01305389404297, 'Greeting': 55.081844329833984, 'Gesticuling': 57.75611877441406, 'Gaming': 66.85881042480469, 'Talking': 53.64999771118164}, 'UpperBody': {'All': 49.394996643066406, 'UpperStretching': 53.59799575805664, 'LowerStretching': 38.802921295166016, 'Patting': 56.07038497924805, 'Walking': 44.35021209716797, 'Reacting': 51.53418731689453, 'Greeting': 41.084964752197266, 'Gesticuling': 50.12965393066406, 'Gaming': 47.0756721496582, 'Talking': 42.01838684082031}, 'LowerBody': {'All': 82.09949493408203, 'UpperStretching': 79.86280059814453, 'LowerStretching': 86.88629913330078, 'Patting': 104.06123352050781, 'Walking': 89.34246826171875, 'Reacting': 78.49192810058594, 'Greeting': 69.07872772216797, 'Gesticuling': 65.382568359375, 'Gaming': 86.64193725585938, 'Talking': 65.2816162109375}}\n"
     ]
    },
    {
     "name": "stderr",
     "output_type": "stream",
     "text": [
      " 64%|██████▎   | 3401/5352 [07:39<04:26,  7.32it/s]"
     ]
    },
    {
     "name": "stdout",
     "output_type": "stream",
     "text": [
      "{'FullBody': {'All': 65.70963287353516, 'UpperStretching': 66.68323516845703, 'LowerStretching': 62.88132858276367, 'Patting': 79.82722473144531, 'Walking': 66.8118896484375, 'Reacting': 64.94859313964844, 'Greeting': 55.13881301879883, 'Gesticuling': 57.62416076660156, 'Gaming': 66.81411743164062, 'Talking': 53.666404724121094}, 'UpperBody': {'All': 49.37384033203125, 'UpperStretching': 53.55088424682617, 'LowerStretching': 38.87080764770508, 'Patting': 55.97050094604492, 'Walking': 44.336368560791016, 'Reacting': 51.33418273925781, 'Greeting': 41.15958786010742, 'Gesticuling': 50.03767013549805, 'Gaming': 47.02474594116211, 'Talking': 42.10092544555664}, 'LowerBody': {'All': 82.04541015625, 'UpperStretching': 79.81561279296875, 'LowerStretching': 86.891845703125, 'Patting': 103.68396759033203, 'Walking': 89.28742218017578, 'Reacting': 78.5630111694336, 'Greeting': 69.1180419921875, 'Gesticuling': 65.21064758300781, 'Gaming': 86.60350036621094, 'Talking': 65.23188781738281}}\n"
     ]
    },
    {
     "name": "stderr",
     "output_type": "stream",
     "text": [
      " 67%|██████▋   | 3601/5352 [08:06<04:06,  7.10it/s]"
     ]
    },
    {
     "name": "stdout",
     "output_type": "stream",
     "text": [
      "{'FullBody': {'All': 65.73416137695312, 'UpperStretching': 66.67757415771484, 'LowerStretching': 62.89274597167969, 'Patting': 79.66056060791016, 'Walking': 67.02250671386719, 'Reacting': 64.93464660644531, 'Greeting': 55.230674743652344, 'Gesticuling': 57.626827239990234, 'Gaming': 66.84207916259766, 'Talking': 53.617774963378906}, 'UpperBody': {'All': 49.3615608215332, 'UpperStretching': 53.52091979980469, 'LowerStretching': 38.81932830810547, 'Patting': 55.6082878112793, 'Walking': 44.481258392333984, 'Reacting': 51.342308044433594, 'Greeting': 41.243980407714844, 'Gesticuling': 50.149261474609375, 'Gaming': 47.04476547241211, 'Talking': 42.06543731689453}, 'LowerBody': {'All': 82.10675048828125, 'UpperStretching': 79.8342514038086, 'LowerStretching': 86.96615600585938, 'Patting': 103.71284484863281, 'Walking': 89.56375122070312, 'Reacting': 78.52698516845703, 'Greeting': 69.21737670898438, 'Gesticuling': 65.1043930053711, 'Gaming': 86.63941192626953, 'Talking': 65.17012023925781}}\n"
     ]
    },
    {
     "name": "stderr",
     "output_type": "stream",
     "text": [
      " 71%|███████   | 3801/5352 [08:32<03:55,  6.58it/s]"
     ]
    },
    {
     "name": "stdout",
     "output_type": "stream",
     "text": [
      "{'FullBody': {'All': 65.71497344970703, 'UpperStretching': 66.67595672607422, 'LowerStretching': 62.79886245727539, 'Patting': 79.46674346923828, 'Walking': 67.03962707519531, 'Reacting': 64.77436828613281, 'Greeting': 55.29594039916992, 'Gesticuling': 57.73027038574219, 'Gaming': 66.98414611816406, 'Talking': 53.534385681152344}, 'UpperBody': {'All': 49.3372802734375, 'UpperStretching': 53.49169921875, 'LowerStretching': 38.786476135253906, 'Patting': 55.32304763793945, 'Walking': 44.50236511230469, 'Reacting': 51.13677978515625, 'Greeting': 41.28913879394531, 'Gesticuling': 50.19319152832031, 'Gaming': 47.17071533203125, 'Talking': 42.08060073852539}, 'LowerBody': {'All': 82.09266662597656, 'UpperStretching': 79.8602294921875, 'LowerStretching': 86.81124114990234, 'Patting': 103.61043548583984, 'Walking': 89.57689666748047, 'Reacting': 78.41195678710938, 'Greeting': 69.30274963378906, 'Gesticuling': 65.26736450195312, 'Gaming': 86.7975845336914, 'Talking': 64.98817443847656}}\n"
     ]
    },
    {
     "name": "stderr",
     "output_type": "stream",
     "text": [
      " 75%|███████▍  | 4001/5352 [08:59<03:07,  7.20it/s]"
     ]
    },
    {
     "name": "stdout",
     "output_type": "stream",
     "text": [
      "{'FullBody': {'All': 65.73799896240234, 'UpperStretching': 66.71526336669922, 'LowerStretching': 62.81109619140625, 'Patting': 79.48808288574219, 'Walking': 67.02351379394531, 'Reacting': 64.8542251586914, 'Greeting': 55.489173889160156, 'Gesticuling': 57.53282165527344, 'Gaming': 67.04267120361328, 'Talking': 53.445613861083984}, 'UpperBody': {'All': 49.36313247680664, 'UpperStretching': 53.53048324584961, 'LowerStretching': 38.81970977783203, 'Patting': 55.436134338378906, 'Walking': 44.48066711425781, 'Reacting': 51.223533630371094, 'Greeting': 41.42655563354492, 'Gesticuling': 49.8912353515625, 'Gaming': 47.093780517578125, 'Talking': 42.04121398925781}, 'LowerBody': {'All': 82.11286926269531, 'UpperStretching': 79.9000473022461, 'LowerStretching': 86.802490234375, 'Patting': 103.5400390625, 'Walking': 89.56636047363281, 'Reacting': 78.48491668701172, 'Greeting': 69.55179595947266, 'Gesticuling': 65.1744155883789, 'Gaming': 86.99156951904297, 'Talking': 64.85001373291016}}\n"
     ]
    },
    {
     "name": "stderr",
     "output_type": "stream",
     "text": [
      " 78%|███████▊  | 4201/5352 [09:26<03:06,  6.17it/s]"
     ]
    },
    {
     "name": "stdout",
     "output_type": "stream",
     "text": [
      "{'FullBody': {'All': 65.74472045898438, 'UpperStretching': 66.74047088623047, 'LowerStretching': 62.767822265625, 'Patting': 79.27153778076172, 'Walking': 67.06690216064453, 'Reacting': 64.78662109375, 'Greeting': 55.76271057128906, 'Gesticuling': 57.51167678833008, 'Gaming': 66.9789810180664, 'Talking': 53.40775680541992}, 'UpperBody': {'All': 49.38241958618164, 'UpperStretching': 53.561622619628906, 'LowerStretching': 38.819976806640625, 'Patting': 55.300514221191406, 'Walking': 44.514305114746094, 'Reacting': 51.179378509521484, 'Greeting': 41.60693359375, 'Gesticuling': 49.880279541015625, 'Gaming': 47.0665283203125, 'Talking': 42.06245803833008}, 'LowerBody': {'All': 82.10701751708984, 'UpperStretching': 79.9193344116211, 'LowerStretching': 86.7156753540039, 'Patting': 103.2425537109375, 'Walking': 89.61949920654297, 'Reacting': 78.39385223388672, 'Greeting': 69.91849517822266, 'Gesticuling': 65.14307403564453, 'Gaming': 86.89142608642578, 'Talking': 64.75306701660156}}\n"
     ]
    },
    {
     "name": "stderr",
     "output_type": "stream",
     "text": [
      " 82%|████████▏ | 4401/5352 [09:53<02:11,  7.25it/s]"
     ]
    },
    {
     "name": "stdout",
     "output_type": "stream",
     "text": [
      "{'FullBody': {'All': 65.71873474121094, 'UpperStretching': 66.6855697631836, 'LowerStretching': 62.864261627197266, 'Patting': 78.95258331298828, 'Walking': 67.10891723632812, 'Reacting': 64.779052734375, 'Greeting': 55.75142288208008, 'Gesticuling': 57.37651824951172, 'Gaming': 66.80349731445312, 'Talking': 53.353721618652344}, 'UpperBody': {'All': 49.360172271728516, 'UpperStretching': 53.51477813720703, 'LowerStretching': 38.88838195800781, 'Patting': 55.07502746582031, 'Walking': 44.52141571044922, 'Reacting': 51.23862075805664, 'Greeting': 41.54621505737305, 'Gesticuling': 49.760581970214844, 'Gaming': 46.99269485473633, 'Talking': 42.007564544677734}, 'LowerBody': {'All': 82.0772933959961, 'UpperStretching': 79.85636901855469, 'LowerStretching': 86.84014892578125, 'Patting': 102.83013916015625, 'Walking': 89.69640350341797, 'Reacting': 78.31946563720703, 'Greeting': 69.95662689208984, 'Gesticuling': 64.99246215820312, 'Gaming': 86.61429595947266, 'Talking': 64.69987487792969}}\n"
     ]
    },
    {
     "name": "stderr",
     "output_type": "stream",
     "text": [
      " 86%|████████▌ | 4601/5352 [10:19<02:06,  5.95it/s]"
     ]
    },
    {
     "name": "stdout",
     "output_type": "stream",
     "text": [
      "{'FullBody': {'All': 65.71598052978516, 'UpperStretching': 66.68689727783203, 'LowerStretching': 62.867576599121094, 'Patting': 78.43058776855469, 'Walking': 67.17899322509766, 'Reacting': 64.80728149414062, 'Greeting': 55.93403625488281, 'Gesticuling': 57.25370407104492, 'Gaming': 66.71929931640625, 'Talking': 53.407798767089844}, 'UpperBody': {'All': 49.3181266784668, 'UpperStretching': 53.47185516357422, 'LowerStretching': 38.865177154541016, 'Patting': 54.76143264770508, 'Walking': 44.56401443481445, 'Reacting': 51.16205596923828, 'Greeting': 41.65146255493164, 'Gesticuling': 49.55691909790039, 'Gaming': 46.87935256958008, 'Talking': 42.07267761230469}, 'LowerBody': {'All': 82.11382293701172, 'UpperStretching': 79.90194702148438, 'LowerStretching': 86.86996459960938, 'Patting': 102.0997314453125, 'Walking': 89.7939682006836, 'Reacting': 78.45249938964844, 'Greeting': 70.21659851074219, 'Gesticuling': 64.95049285888672, 'Gaming': 86.55925750732422, 'Talking': 64.742919921875}}\n"
     ]
    },
    {
     "name": "stderr",
     "output_type": "stream",
     "text": [
      " 90%|████████▉ | 4801/5352 [10:46<01:18,  6.99it/s]"
     ]
    },
    {
     "name": "stdout",
     "output_type": "stream",
     "text": [
      "{'FullBody': {'All': 65.72323608398438, 'UpperStretching': 66.6774673461914, 'LowerStretching': 62.86774444580078, 'Patting': 78.62297821044922, 'Walking': 67.27887725830078, 'Reacting': 64.85446166992188, 'Greeting': 55.885009765625, 'Gesticuling': 57.20612335205078, 'Gaming': 66.72718811035156, 'Talking': 53.4229850769043}, 'UpperBody': {'All': 49.316951751708984, 'UpperStretching': 53.460086822509766, 'LowerStretching': 38.867286682128906, 'Patting': 54.728111267089844, 'Walking': 44.597862243652344, 'Reacting': 51.19318771362305, 'Greeting': 41.65675354003906, 'Gesticuling': 49.48429489135742, 'Gaming': 46.94716262817383, 'Talking': 42.11896514892578}, 'LowerBody': {'All': 82.12950897216797, 'UpperStretching': 79.89485168457031, 'LowerStretching': 86.86820220947266, 'Patting': 102.51785278320312, 'Walking': 89.95989227294922, 'Reacting': 78.51573181152344, 'Greeting': 70.11326599121094, 'Gesticuling': 64.92794799804688, 'Gaming': 86.50721740722656, 'Talking': 64.72700500488281}}\n"
     ]
    },
    {
     "name": "stderr",
     "output_type": "stream",
     "text": [
      " 93%|█████████▎| 5001/5352 [11:13<00:51,  6.84it/s]"
     ]
    },
    {
     "name": "stdout",
     "output_type": "stream",
     "text": [
      "{'FullBody': {'All': 65.73235321044922, 'UpperStretching': 66.68902587890625, 'LowerStretching': 62.926597595214844, 'Patting': 78.5618896484375, 'Walking': 67.22781372070312, 'Reacting': 64.84210205078125, 'Greeting': 55.800315856933594, 'Gesticuling': 57.182674407958984, 'Gaming': 66.81775665283203, 'Talking': 53.33151626586914}, 'UpperBody': {'All': 49.32706069946289, 'UpperStretching': 53.47657012939453, 'LowerStretching': 38.89992141723633, 'Patting': 54.68471908569336, 'Walking': 44.55485916137695, 'Reacting': 51.21092224121094, 'Greeting': 41.706298828125, 'Gesticuling': 49.35182571411133, 'Gaming': 46.987037658691406, 'Talking': 42.03688430786133}, 'LowerBody': {'All': 82.13763427734375, 'UpperStretching': 79.90148162841797, 'LowerStretching': 86.95326232910156, 'Patting': 102.43904876708984, 'Walking': 89.90076446533203, 'Reacting': 78.47327423095703, 'Greeting': 69.89433288574219, 'Gesticuling': 65.01351928710938, 'Gaming': 86.64846801757812, 'Talking': 64.62615203857422}}\n"
     ]
    },
    {
     "name": "stderr",
     "output_type": "stream",
     "text": [
      " 97%|█████████▋| 5201/5352 [11:40<00:21,  7.12it/s]"
     ]
    },
    {
     "name": "stdout",
     "output_type": "stream",
     "text": [
      "{'FullBody': {'All': 65.74073028564453, 'UpperStretching': 66.7055892944336, 'LowerStretching': 62.94212341308594, 'Patting': 78.31501770019531, 'Walking': 67.15512084960938, 'Reacting': 65.03109741210938, 'Greeting': 55.93102264404297, 'Gesticuling': 57.270721435546875, 'Gaming': 66.85020446777344, 'Talking': 53.34783172607422}, 'UpperBody': {'All': 49.3158073425293, 'UpperStretching': 53.475337982177734, 'LowerStretching': 38.904048919677734, 'Patting': 54.58491897583008, 'Walking': 44.455318450927734, 'Reacting': 51.279754638671875, 'Greeting': 41.78384780883789, 'Gesticuling': 49.481685638427734, 'Gaming': 46.98976135253906, 'Talking': 42.04970932006836}, 'LowerBody': {'All': 82.16564178466797, 'UpperStretching': 79.93583679199219, 'LowerStretching': 86.9802017211914, 'Patting': 102.04512023925781, 'Walking': 89.85491943359375, 'Reacting': 78.78244018554688, 'Greeting': 70.07819366455078, 'Gesticuling': 65.05976104736328, 'Gaming': 86.71064758300781, 'Talking': 64.64595031738281}}\n"
     ]
    },
    {
     "name": "stderr",
     "output_type": "stream",
     "text": [
      "100%|██████████| 5352/5352 [12:00<00:00,  7.43it/s]\n",
      "\u001b[94m17:34:38 \u001b[92m[INFO]\u001b[94m Main\u001b[0m: Saving evaluation results...\n",
      "\u001b[94m17:34:39 \u001b[92m[INFO]\u001b[94m Main\u001b[0m: Done.\n",
      "\u001b[94m17:34:39 \u001b[92m[INFO]\u001b[94m Main\u001b[0m: Starting demo...\n",
      "  0%|          | 0/5352 [00:00<?, ?it/s]/opt/conda/lib/python3.10/site-packages/torchvision/transforms/transforms.py:329: UserWarning: Argument 'interpolation' of type int is deprecated since 0.13 and will be removed in 0.15. Please use InterpolationMode enum.\n",
      "  warnings.warn(\n",
      "/opt/conda/lib/python3.10/site-packages/torchvision/transforms/transforms.py:329: UserWarning: Argument 'interpolation' of type int is deprecated since 0.13 and will be removed in 0.15. Please use InterpolationMode enum.\n",
      "  warnings.warn(\n",
      "/opt/conda/lib/python3.10/site-packages/torchvision/transforms/transforms.py:329: UserWarning: Argument 'interpolation' of type int is deprecated since 0.13 and will be removed in 0.15. Please use InterpolationMode enum.\n",
      "  warnings.warn(\n",
      "/opt/conda/lib/python3.10/site-packages/torchvision/transforms/transforms.py:329: UserWarning: Argument 'interpolation' of type int is deprecated since 0.13 and will be removed in 0.15. Please use InterpolationMode enum.\n",
      "  warnings.warn(\n",
      "/opt/conda/lib/python3.10/site-packages/torchvision/transforms/transforms.py:329: UserWarning: Argument 'interpolation' of type int is deprecated since 0.13 and will be removed in 0.15. Please use InterpolationMode enum.\n",
      "  warnings.warn(\n",
      "/opt/conda/lib/python3.10/site-packages/torchvision/transforms/transforms.py:329: UserWarning: Argument 'interpolation' of type int is deprecated since 0.13 and will be removed in 0.15. Please use InterpolationMode enum.\n",
      "  warnings.warn(\n",
      "/opt/conda/lib/python3.10/site-packages/torchvision/transforms/transforms.py:329: UserWarning: Argument 'interpolation' of type int is deprecated since 0.13 and will be removed in 0.15. Please use InterpolationMode enum.\n",
      "  warnings.warn(\n",
      "/opt/conda/lib/python3.10/site-packages/torchvision/transforms/transforms.py:329: UserWarning: Argument 'interpolation' of type int is deprecated since 0.13 and will be removed in 0.15. Please use InterpolationMode enum.\n",
      "  warnings.warn(\n",
      "/opt/conda/lib/python3.10/site-packages/torchvision/transforms/transforms.py:329: UserWarning: Argument 'interpolation' of type int is deprecated since 0.13 and will be removed in 0.15. Please use InterpolationMode enum.\n",
      "  warnings.warn(\n",
      "/opt/conda/lib/python3.10/site-packages/torchvision/transforms/transforms.py:329: UserWarning: Argument 'interpolation' of type int is deprecated since 0.13 and will be removed in 0.15. Please use InterpolationMode enum.\n",
      "  warnings.warn(\n",
      "/opt/conda/lib/python3.10/site-packages/torchvision/transforms/transforms.py:329: UserWarning: Argument 'interpolation' of type int is deprecated since 0.13 and will be removed in 0.15. Please use InterpolationMode enum.\n",
      "  warnings.warn(\n",
      "/opt/conda/lib/python3.10/site-packages/torchvision/transforms/transforms.py:329: UserWarning: Argument 'interpolation' of type int is deprecated since 0.13 and will be removed in 0.15. Please use InterpolationMode enum.\n",
      "  warnings.warn(\n",
      "/opt/conda/lib/python3.10/site-packages/torchvision/transforms/transforms.py:329: UserWarning: Argument 'interpolation' of type int is deprecated since 0.13 and will be removed in 0.15. Please use InterpolationMode enum.\n",
      "  warnings.warn(\n",
      "/opt/conda/lib/python3.10/site-packages/torchvision/transforms/transforms.py:329: UserWarning: Argument 'interpolation' of type int is deprecated since 0.13 and will be removed in 0.15. Please use InterpolationMode enum.\n",
      "  warnings.warn(\n",
      "/opt/conda/lib/python3.10/site-packages/torchvision/transforms/transforms.py:329: UserWarning: Argument 'interpolation' of type int is deprecated since 0.13 and will be removed in 0.15. Please use InterpolationMode enum.\n",
      "  warnings.warn(\n",
      "/opt/conda/lib/python3.10/site-packages/torchvision/transforms/transforms.py:329: UserWarning: Argument 'interpolation' of type int is deprecated since 0.13 and will be removed in 0.15. Please use InterpolationMode enum.\n",
      "  warnings.warn(\n",
      "/opt/conda/lib/python3.10/site-packages/torchvision/transforms/transforms.py:329: UserWarning: Argument 'interpolation' of type int is deprecated since 0.13 and will be removed in 0.15. Please use InterpolationMode enum.\n",
      "  warnings.warn(\n",
      "/opt/conda/lib/python3.10/site-packages/torchvision/transforms/transforms.py:329: UserWarning: Argument 'interpolation' of type int is deprecated since 0.13 and will be removed in 0.15. Please use InterpolationMode enum.\n",
      "  warnings.warn(\n",
      "/opt/conda/lib/python3.10/site-packages/torchvision/transforms/transforms.py:329: UserWarning: Argument 'interpolation' of type int is deprecated since 0.13 and will be removed in 0.15. Please use InterpolationMode enum.\n",
      "  warnings.warn(\n",
      "/opt/conda/lib/python3.10/site-packages/torchvision/transforms/transforms.py:329: UserWarning: Argument 'interpolation' of type int is deprecated since 0.13 and will be removed in 0.15. Please use InterpolationMode enum.\n",
      "  warnings.warn(\n",
      "/opt/conda/lib/python3.10/site-packages/torchvision/transforms/transforms.py:329: UserWarning: Argument 'interpolation' of type int is deprecated since 0.13 and will be removed in 0.15. Please use InterpolationMode enum.\n",
      "  warnings.warn(\n",
      "/opt/conda/lib/python3.10/site-packages/torchvision/transforms/transforms.py:329: UserWarning: Argument 'interpolation' of type int is deprecated since 0.13 and will be removed in 0.15. Please use InterpolationMode enum.\n",
      "  warnings.warn(\n",
      "/opt/conda/lib/python3.10/site-packages/torchvision/transforms/transforms.py:329: UserWarning: Argument 'interpolation' of type int is deprecated since 0.13 and will be removed in 0.15. Please use InterpolationMode enum.\n",
      "  warnings.warn(\n",
      "/opt/conda/lib/python3.10/site-packages/torchvision/transforms/transforms.py:329: UserWarning: Argument 'interpolation' of type int is deprecated since 0.13 and will be removed in 0.15. Please use InterpolationMode enum.\n",
      "  warnings.warn(\n",
      "  4%|▍         | 201/5352 [00:33<11:02,  7.78it/s]"
     ]
    },
    {
     "name": "stdout",
     "output_type": "stream",
     "text": [
      "{'FullBody': {'All': 67.53363037109375, 'LowerStretching': 63.617610931396484, 'Walking': 65.37687683105469, 'UpperStretching': 70.2258529663086, 'Patting': 82.14820098876953, 'Reacting': 61.34198760986328, 'Gaming': 62.385929107666016, 'Talking': 52.53342056274414, 'Greeting': 55.59417724609375, 'Gesticuling': 52.49909210205078}, 'UpperBody': {'All': 50.041385650634766, 'LowerStretching': 38.48949432373047, 'Walking': 42.966773986816406, 'UpperStretching': 55.017051696777344, 'Patting': 54.47625732421875, 'Reacting': 51.858768463134766, 'Gaming': 46.99422073364258, 'Talking': 42.47831726074219, 'Greeting': 39.627681732177734, 'Gesticuling': 46.12917709350586}, 'LowerBody': {'All': 85.02587127685547, 'LowerStretching': 88.74574279785156, 'Walking': 87.78697967529297, 'UpperStretching': 85.43463897705078, 'Patting': 109.82012939453125, 'Reacting': 70.82521057128906, 'Gaming': 77.77764129638672, 'Talking': 62.588531494140625, 'Greeting': 71.56067657470703, 'Gesticuling': 58.86901092529297}}\n"
     ]
    },
    {
     "name": "stderr",
     "output_type": "stream",
     "text": [
      "  7%|▋         | 401/5352 [00:59<10:49,  7.63it/s]"
     ]
    },
    {
     "name": "stdout",
     "output_type": "stream",
     "text": [
      "{'FullBody': {'All': 67.49705505371094, 'LowerStretching': 64.238037109375, 'Walking': 66.11503601074219, 'UpperStretching': 69.63477325439453, 'Patting': 83.95079803466797, 'Reacting': 64.47020721435547, 'Gaming': 61.11936569213867, 'Talking': 52.059165954589844, 'Greeting': 60.911258697509766, 'Gesticuling': 53.802085876464844}, 'UpperBody': {'All': 49.8327751159668, 'LowerStretching': 39.1245002746582, 'Walking': 42.56290054321289, 'UpperStretching': 54.52898406982422, 'Patting': 54.72500228881836, 'Reacting': 53.11745834350586, 'Gaming': 45.006473541259766, 'Talking': 42.63425827026367, 'Greeting': 44.55793762207031, 'Gesticuling': 48.16942596435547}, 'LowerBody': {'All': 85.16133117675781, 'LowerStretching': 89.35155487060547, 'Walking': 89.66716766357422, 'UpperStretching': 84.74054718017578, 'Patting': 113.17658233642578, 'Reacting': 75.82294464111328, 'Gaming': 77.23225402832031, 'Talking': 61.48409652709961, 'Greeting': 77.26458740234375, 'Gesticuling': 59.43474578857422}}\n"
     ]
    },
    {
     "name": "stderr",
     "output_type": "stream",
     "text": [
      " 11%|█         | 601/5352 [01:26<10:08,  7.80it/s]"
     ]
    },
    {
     "name": "stdout",
     "output_type": "stream",
     "text": [
      "{'FullBody': {'All': 67.42886352539062, 'LowerStretching': 64.09854125976562, 'Walking': 66.65785217285156, 'UpperStretching': 69.5777587890625, 'Patting': 83.23949432373047, 'Reacting': 64.27726745605469, 'Gaming': 62.110870361328125, 'Talking': 51.929325103759766, 'Greeting': 58.97917938232422, 'Gesticuling': 53.051368713378906}, 'UpperBody': {'All': 49.510963439941406, 'LowerStretching': 39.221649169921875, 'Walking': 42.90843200683594, 'UpperStretching': 54.05702209472656, 'Patting': 54.49082946777344, 'Reacting': 51.61809158325195, 'Gaming': 45.03558349609375, 'Talking': 42.057586669921875, 'Greeting': 43.716888427734375, 'Gesticuling': 47.21458053588867}, 'LowerBody': {'All': 85.34677124023438, 'LowerStretching': 88.97544860839844, 'Walking': 90.40727996826172, 'UpperStretching': 85.0984878540039, 'Patting': 111.9881591796875, 'Reacting': 76.93644714355469, 'Gaming': 79.1861572265625, 'Talking': 61.801063537597656, 'Greeting': 74.24148559570312, 'Gesticuling': 58.88814926147461}}\n"
     ]
    },
    {
     "name": "stderr",
     "output_type": "stream",
     "text": [
      " 15%|█▍        | 801/5352 [01:53<10:05,  7.52it/s]"
     ]
    },
    {
     "name": "stdout",
     "output_type": "stream",
     "text": [
      "{'FullBody': {'All': 67.6917953491211, 'LowerStretching': 64.71991729736328, 'Walking': 66.60578918457031, 'UpperStretching': 69.80364990234375, 'Patting': 83.51431274414062, 'Reacting': 64.4882583618164, 'Gaming': 62.19401168823242, 'Talking': 52.18083572387695, 'Greeting': 57.646583557128906, 'Gesticuling': 53.553306579589844}, 'UpperBody': {'All': 49.726871490478516, 'LowerStretching': 39.626792907714844, 'Walking': 42.89846420288086, 'UpperStretching': 54.29267883300781, 'Patting': 53.32196807861328, 'Reacting': 52.13369369506836, 'Gaming': 45.4655876159668, 'Talking': 42.358985900878906, 'Greeting': 42.29558181762695, 'Gesticuling': 47.97521209716797}, 'LowerBody': {'All': 85.6567153930664, 'LowerStretching': 89.81304168701172, 'Walking': 90.31311798095703, 'UpperStretching': 85.31461334228516, 'Patting': 113.70667266845703, 'Reacting': 76.84281158447266, 'Gaming': 78.92243194580078, 'Talking': 62.002685546875, 'Greeting': 72.9975814819336, 'Gesticuling': 59.13139724731445}}\n"
     ]
    },
    {
     "name": "stderr",
     "output_type": "stream",
     "text": [
      " 19%|█▊        | 1001/5352 [02:19<10:30,  6.91it/s]"
     ]
    },
    {
     "name": "stdout",
     "output_type": "stream",
     "text": [
      "{'FullBody': {'All': 67.53375244140625, 'LowerStretching': 64.15693664550781, 'Walking': 66.63842010498047, 'UpperStretching': 69.73711395263672, 'Patting': 81.71772766113281, 'Reacting': 64.18968963623047, 'Gaming': 62.01924514770508, 'Talking': 52.17319107055664, 'Greeting': 57.494319915771484, 'Gesticuling': 54.18573760986328}, 'UpperBody': {'All': 49.584381103515625, 'LowerStretching': 39.3453369140625, 'Walking': 42.83845138549805, 'UpperStretching': 54.23175811767578, 'Patting': 51.627017974853516, 'Reacting': 51.61144256591797, 'Gaming': 45.342708587646484, 'Talking': 42.10920333862305, 'Greeting': 42.1639404296875, 'Gesticuling': 48.54470443725586}, 'LowerBody': {'All': 85.48310852050781, 'LowerStretching': 88.96853637695312, 'Walking': 90.43839263916016, 'UpperStretching': 85.24246215820312, 'Patting': 111.80842590332031, 'Reacting': 76.76793670654297, 'Gaming': 78.69578552246094, 'Talking': 62.237186431884766, 'Greeting': 72.82470703125, 'Gesticuling': 59.8267707824707}}\n"
     ]
    },
    {
     "name": "stderr",
     "output_type": "stream",
     "text": [
      " 22%|██▏       | 1201/5352 [02:46<08:57,  7.73it/s]"
     ]
    },
    {
     "name": "stdout",
     "output_type": "stream",
     "text": [
      "{'FullBody': {'All': 67.42610168457031, 'LowerStretching': 64.18175506591797, 'Walking': 66.47369384765625, 'UpperStretching': 69.5990219116211, 'Patting': 81.26708221435547, 'Reacting': 63.8073616027832, 'Gaming': 61.35026550292969, 'Talking': 52.37471389770508, 'Greeting': 57.73594665527344, 'Gesticuling': 54.45783615112305}, 'UpperBody': {'All': 49.500736236572266, 'LowerStretching': 39.36546325683594, 'Walking': 42.81684112548828, 'UpperStretching': 54.10120391845703, 'Patting': 51.212886810302734, 'Reacting': 51.72345733642578, 'Gaming': 45.01827621459961, 'Talking': 42.05473327636719, 'Greeting': 42.67572021484375, 'Gesticuling': 48.98185348510742}, 'LowerBody': {'All': 85.35147857666016, 'LowerStretching': 88.99803161621094, 'Walking': 90.13055419921875, 'UpperStretching': 85.09683227539062, 'Patting': 111.3212661743164, 'Reacting': 75.89126586914062, 'Gaming': 77.68225860595703, 'Talking': 62.69469451904297, 'Greeting': 72.7961654663086, 'Gesticuling': 59.933807373046875}}\n"
     ]
    },
    {
     "name": "stderr",
     "output_type": "stream",
     "text": [
      " 26%|██▌       | 1400/5352 [03:12<08:45,  7.52it/s]"
     ]
    },
    {
     "name": "stdout",
     "output_type": "stream",
     "text": [
      "{'FullBody': {'All': 67.37461853027344, 'LowerStretching': 64.43732452392578, 'Walking': 66.3709945678711, 'UpperStretching': 69.50435638427734, 'Patting': 79.86022186279297, 'Reacting': 63.90992736816406, 'Gaming': 61.41339874267578, 'Talking': 52.13005447387695, 'Greeting': 56.75444793701172, 'Gesticuling': 54.73366165161133}, 'UpperBody': {'All': 49.407283782958984, 'LowerStretching': 39.39311218261719, 'Walking': 42.854957580566406, 'UpperStretching': 53.97279357910156, 'Patting': 50.82174301147461, 'Reacting': 51.598175048828125, 'Gaming': 44.88693618774414, 'Talking': 41.672916412353516, 'Greeting': 42.326324462890625, 'Gesticuling': 49.384639739990234}, 'LowerBody': {'All': 85.34196472167969, 'LowerStretching': 89.4815444946289, 'Walking': 89.88703155517578, 'UpperStretching': 85.03590393066406, 'Patting': 108.89868927001953, 'Reacting': 76.22168731689453, 'Gaming': 77.93985748291016, 'Talking': 62.587188720703125, 'Greeting': 71.18257904052734, 'Gesticuling': 60.08268737792969}}\n"
     ]
    },
    {
     "name": "stderr",
     "output_type": "stream",
     "text": [
      " 30%|██▉       | 1601/5352 [03:39<08:07,  7.69it/s]"
     ]
    },
    {
     "name": "stdout",
     "output_type": "stream",
     "text": [
      "{'FullBody': {'All': 67.43404388427734, 'LowerStretching': 64.5417709350586, 'Walking': 66.53939056396484, 'UpperStretching': 69.5626449584961, 'Patting': 79.61865234375, 'Reacting': 63.67790222167969, 'Gaming': 61.712181091308594, 'Talking': 52.08613204956055, 'Greeting': 56.240474700927734, 'Gesticuling': 54.89088821411133}, 'UpperBody': {'All': 49.44837951660156, 'LowerStretching': 39.38351821899414, 'Walking': 43.04194259643555, 'UpperStretching': 53.989925384521484, 'Patting': 50.862701416015625, 'Reacting': 51.95266342163086, 'Gaming': 45.21173858642578, 'Talking': 41.87582015991211, 'Greeting': 41.978912353515625, 'Gesticuling': 49.46211242675781}, 'LowerBody': {'All': 85.41970825195312, 'LowerStretching': 89.70003509521484, 'Walking': 90.03684997558594, 'UpperStretching': 85.1353530883789, 'Patting': 108.3746109008789, 'Reacting': 75.40314483642578, 'Gaming': 78.21261596679688, 'Talking': 62.296443939208984, 'Greeting': 70.50203704833984, 'Gesticuling': 60.319664001464844}}\n"
     ]
    },
    {
     "name": "stderr",
     "output_type": "stream",
     "text": [
      " 34%|███▎      | 1800/5352 [04:05<07:50,  7.55it/s]"
     ]
    },
    {
     "name": "stdout",
     "output_type": "stream",
     "text": [
      "{'FullBody': {'All': 67.52046203613281, 'LowerStretching': 64.39742279052734, 'Walking': 66.70246124267578, 'UpperStretching': 69.64032745361328, 'Patting': 79.64707946777344, 'Reacting': 64.09806823730469, 'Gaming': 62.13961410522461, 'Talking': 52.263301849365234, 'Greeting': 56.54982376098633, 'Gesticuling': 54.84528350830078}, 'UpperBody': {'All': 49.544620513916016, 'LowerStretching': 39.24458694458008, 'Walking': 43.13079071044922, 'UpperStretching': 54.09811782836914, 'Patting': 50.905479431152344, 'Reacting': 52.36785888671875, 'Gaming': 45.51647186279297, 'Talking': 41.87565612792969, 'Greeting': 42.39008712768555, 'Gesticuling': 49.49949264526367}, 'LowerBody': {'All': 85.49629974365234, 'LowerStretching': 89.55024719238281, 'Walking': 90.27413940429688, 'UpperStretching': 85.18253326416016, 'Patting': 108.38867950439453, 'Reacting': 75.82827758789062, 'Gaming': 78.76275634765625, 'Talking': 62.65095138549805, 'Greeting': 70.70956420898438, 'Gesticuling': 60.19107437133789}}\n"
     ]
    },
    {
     "name": "stderr",
     "output_type": "stream",
     "text": [
      " 37%|███▋      | 2001/5352 [04:32<07:23,  7.56it/s]"
     ]
    },
    {
     "name": "stdout",
     "output_type": "stream",
     "text": [
      "{'FullBody': {'All': 67.39813232421875, 'LowerStretching': 64.28990173339844, 'Walking': 66.65315246582031, 'UpperStretching': 69.55679321289062, 'Patting': 78.45758056640625, 'Reacting': 63.456809997558594, 'Gaming': 62.066131591796875, 'Talking': 52.122623443603516, 'Greeting': 56.597415924072266, 'Gesticuling': 55.10335159301758}, 'UpperBody': {'All': 49.4879150390625, 'LowerStretching': 39.13881301879883, 'Walking': 43.061439514160156, 'UpperStretching': 54.1002311706543, 'Patting': 49.97138595581055, 'Reacting': 51.94379806518555, 'Gaming': 45.58300018310547, 'Talking': 41.7884407043457, 'Greeting': 42.407474517822266, 'Gesticuling': 49.89430236816406}, 'LowerBody': {'All': 85.30834197998047, 'LowerStretching': 89.44099426269531, 'Walking': 90.24488067626953, 'UpperStretching': 85.01335144042969, 'Patting': 106.94377136230469, 'Reacting': 74.9698257446289, 'Gaming': 78.54927062988281, 'Talking': 62.45680618286133, 'Greeting': 70.78736114501953, 'Gesticuling': 60.312408447265625}}\n"
     ]
    },
    {
     "name": "stderr",
     "output_type": "stream",
     "text": [
      " 41%|████      | 2201/5352 [04:59<07:23,  7.11it/s]"
     ]
    },
    {
     "name": "stdout",
     "output_type": "stream",
     "text": [
      "{'FullBody': {'All': 67.4379653930664, 'LowerStretching': 64.24604034423828, 'Walking': 66.5925064086914, 'UpperStretching': 69.640380859375, 'Patting': 78.47196960449219, 'Reacting': 63.393409729003906, 'Gaming': 62.30438995361328, 'Talking': 52.636573791503906, 'Greeting': 56.481414794921875, 'Gesticuling': 55.21367645263672}, 'UpperBody': {'All': 49.51215744018555, 'LowerStretching': 39.17100143432617, 'Walking': 42.97266387939453, 'UpperStretching': 54.16263961791992, 'Patting': 49.442710876464844, 'Reacting': 51.98188400268555, 'Gaming': 45.65302276611328, 'Talking': 42.006011962890625, 'Greeting': 42.43586349487305, 'Gesticuling': 49.993900299072266}, 'LowerBody': {'All': 85.3637466430664, 'LowerStretching': 89.32107543945312, 'Walking': 90.21234893798828, 'UpperStretching': 85.11811065673828, 'Patting': 107.50120544433594, 'Reacting': 74.80494689941406, 'Gaming': 78.95574951171875, 'Talking': 63.26713562011719, 'Greeting': 70.5269775390625, 'Gesticuling': 60.4334602355957}}\n"
     ]
    },
    {
     "name": "stderr",
     "output_type": "stream",
     "text": [
      " 45%|████▍     | 2401/5352 [05:25<06:26,  7.63it/s]"
     ]
    },
    {
     "name": "stdout",
     "output_type": "stream",
     "text": [
      "{'FullBody': {'All': 67.39002990722656, 'LowerStretching': 64.32022094726562, 'Walking': 66.63093566894531, 'UpperStretching': 69.55175018310547, 'Patting': 78.35396575927734, 'Reacting': 63.56719970703125, 'Gaming': 62.03075408935547, 'Talking': 52.47609329223633, 'Greeting': 56.23325729370117, 'Gesticuling': 54.9734992980957}, 'UpperBody': {'All': 49.45922088623047, 'LowerStretching': 39.19148635864258, 'Walking': 43.056861877441406, 'UpperStretching': 54.05644226074219, 'Patting': 49.7806396484375, 'Reacting': 52.12763214111328, 'Gaming': 45.37264633178711, 'Talking': 41.827571868896484, 'Greeting': 42.26019287109375, 'Gesticuling': 49.81861114501953}, 'LowerBody': {'All': 85.32083129882812, 'LowerStretching': 89.4489517211914, 'Walking': 90.20500183105469, 'UpperStretching': 85.04705047607422, 'Patting': 106.92728424072266, 'Reacting': 75.00676727294922, 'Gaming': 78.68887329101562, 'Talking': 63.12461853027344, 'Greeting': 70.2063217163086, 'Gesticuling': 60.12838363647461}}\n"
     ]
    },
    {
     "name": "stderr",
     "output_type": "stream",
     "text": [
      " 49%|████▊     | 2601/5352 [05:52<06:56,  6.61it/s]"
     ]
    },
    {
     "name": "stdout",
     "output_type": "stream",
     "text": [
      "{'FullBody': {'All': 67.42410278320312, 'LowerStretching': 64.40885925292969, 'Walking': 66.68193817138672, 'UpperStretching': 69.55158233642578, 'Patting': 78.44141387939453, 'Reacting': 63.54914855957031, 'Gaming': 61.99846649169922, 'Talking': 52.891807556152344, 'Greeting': 56.52678680419922, 'Gesticuling': 55.01308822631836}, 'UpperBody': {'All': 49.43092727661133, 'LowerStretching': 39.176029205322266, 'Walking': 43.08522415161133, 'UpperStretching': 53.99927520751953, 'Patting': 49.59614562988281, 'Reacting': 52.0765266418457, 'Gaming': 45.3649787902832, 'Talking': 42.20977020263672, 'Greeting': 42.41504669189453, 'Gesticuling': 49.94538116455078}, 'LowerBody': {'All': 85.41727447509766, 'LowerStretching': 89.64167785644531, 'Walking': 90.27864837646484, 'UpperStretching': 85.10388946533203, 'Patting': 107.28668212890625, 'Reacting': 75.02176666259766, 'Gaming': 78.6319580078125, 'Talking': 63.5738410949707, 'Greeting': 70.63853454589844, 'Gesticuling': 60.0807991027832}}\n"
     ]
    },
    {
     "name": "stderr",
     "output_type": "stream",
     "text": [
      " 52%|█████▏    | 2801/5352 [06:19<05:41,  7.46it/s]"
     ]
    },
    {
     "name": "stdout",
     "output_type": "stream",
     "text": [
      "{'FullBody': {'All': 67.39117431640625, 'LowerStretching': 64.35894775390625, 'Walking': 66.87224578857422, 'UpperStretching': 69.46837615966797, 'Patting': 78.20182800292969, 'Reacting': 63.47590637207031, 'Gaming': 62.18744659423828, 'Talking': 52.78181076049805, 'Greeting': 56.44776916503906, 'Gesticuling': 55.00227737426758}, 'UpperBody': {'All': 49.42387390136719, 'LowerStretching': 39.109092712402344, 'Walking': 43.150299072265625, 'UpperStretching': 53.987709045410156, 'Patting': 49.5203971862793, 'Reacting': 51.967838287353516, 'Gaming': 45.603477478027344, 'Talking': 42.07872772216797, 'Greeting': 42.41764831542969, 'Gesticuling': 50.030548095703125}, 'LowerBody': {'All': 85.35847473144531, 'LowerStretching': 89.60880279541016, 'Walking': 90.59418487548828, 'UpperStretching': 84.94903564453125, 'Patting': 106.88326263427734, 'Reacting': 74.98397064208984, 'Gaming': 78.77143096923828, 'Talking': 63.48489761352539, 'Greeting': 70.47789764404297, 'Gesticuling': 59.974002838134766}}\n"
     ]
    },
    {
     "name": "stderr",
     "output_type": "stream",
     "text": [
      " 56%|█████▌    | 3001/5352 [06:45<05:38,  6.94it/s]"
     ]
    },
    {
     "name": "stdout",
     "output_type": "stream",
     "text": [
      "{'FullBody': {'All': 67.36502838134766, 'LowerStretching': 64.2318344116211, 'Walking': 66.9334716796875, 'UpperStretching': 69.45475006103516, 'Patting': 78.60606384277344, 'Reacting': 63.1897087097168, 'Gaming': 62.256778717041016, 'Talking': 52.62482452392578, 'Greeting': 56.370033264160156, 'Gesticuling': 55.074832916259766}, 'UpperBody': {'All': 49.40763473510742, 'LowerStretching': 39.08460998535156, 'Walking': 43.19791793823242, 'UpperStretching': 53.96033477783203, 'Patting': 49.757652282714844, 'Reacting': 51.66879653930664, 'Gaming': 45.63169860839844, 'Talking': 41.97380065917969, 'Greeting': 42.39596939086914, 'Gesticuling': 50.173397064208984}, 'LowerBody': {'All': 85.32240295410156, 'LowerStretching': 89.37905883789062, 'Walking': 90.66902923583984, 'UpperStretching': 84.94916534423828, 'Patting': 107.4544906616211, 'Reacting': 74.71063232421875, 'Gaming': 78.88184356689453, 'Talking': 63.27585220336914, 'Greeting': 70.34408569335938, 'Gesticuling': 59.97626876831055}}\n"
     ]
    },
    {
     "name": "stderr",
     "output_type": "stream",
     "text": [
      " 60%|█████▉    | 3201/5352 [07:12<04:58,  7.20it/s]"
     ]
    },
    {
     "name": "stdout",
     "output_type": "stream",
     "text": [
      "{'FullBody': {'All': 67.38742065429688, 'LowerStretching': 64.20259094238281, 'Walking': 66.90567779541016, 'UpperStretching': 69.5113296508789, 'Patting': 78.09712219238281, 'Reacting': 63.31295394897461, 'Gaming': 62.365692138671875, 'Talking': 52.559444427490234, 'Greeting': 56.72743225097656, 'Gesticuling': 55.180946350097656}, 'UpperBody': {'All': 49.43647766113281, 'LowerStretching': 39.13185501098633, 'Walking': 43.22087097167969, 'UpperStretching': 53.998924255371094, 'Patting': 49.32345199584961, 'Reacting': 51.75994110107422, 'Gaming': 45.73634719848633, 'Talking': 41.83172607421875, 'Greeting': 42.600242614746094, 'Gesticuling': 50.25348663330078}, 'LowerBody': {'All': 85.33834838867188, 'LowerStretching': 89.27334594726562, 'Walking': 90.59049224853516, 'UpperStretching': 85.02371978759766, 'Patting': 106.87078857421875, 'Reacting': 74.865966796875, 'Gaming': 78.99503326416016, 'Talking': 63.28717041015625, 'Greeting': 70.85462951660156, 'Gesticuling': 60.10840606689453}}\n"
     ]
    },
    {
     "name": "stderr",
     "output_type": "stream",
     "text": [
      " 64%|██████▎   | 3401/5352 [07:39<04:36,  7.06it/s]"
     ]
    },
    {
     "name": "stdout",
     "output_type": "stream",
     "text": [
      "{'FullBody': {'All': 67.40420532226562, 'LowerStretching': 64.1300048828125, 'Walking': 66.90213012695312, 'UpperStretching': 69.53983306884766, 'Patting': 77.94364929199219, 'Reacting': 63.2271728515625, 'Gaming': 62.49706268310547, 'Talking': 52.515541076660156, 'Greeting': 56.860450744628906, 'Gesticuling': 55.16419982910156}, 'UpperBody': {'All': 49.425540924072266, 'LowerStretching': 39.09021759033203, 'Walking': 43.22118377685547, 'UpperStretching': 53.985618591308594, 'Patting': 49.29897689819336, 'Reacting': 51.628334045410156, 'Gaming': 45.81675338745117, 'Talking': 41.67326354980469, 'Greeting': 42.6983528137207, 'Gesticuling': 50.26441955566406}, 'LowerBody': {'All': 85.38285827636719, 'LowerStretching': 89.1697998046875, 'Walking': 90.58307647705078, 'UpperStretching': 85.09403991699219, 'Patting': 106.58831787109375, 'Reacting': 74.82601928710938, 'Gaming': 79.1773681640625, 'Talking': 63.357826232910156, 'Greeting': 71.0225601196289, 'Gesticuling': 60.06398391723633}}\n"
     ]
    },
    {
     "name": "stderr",
     "output_type": "stream",
     "text": [
      " 67%|██████▋   | 3601/5352 [08:05<04:03,  7.19it/s]"
     ]
    },
    {
     "name": "stdout",
     "output_type": "stream",
     "text": [
      "{'FullBody': {'All': 67.4789047241211, 'LowerStretching': 64.26280975341797, 'Walking': 66.98282623291016, 'UpperStretching': 69.58006286621094, 'Patting': 78.39453125, 'Reacting': 63.38208770751953, 'Gaming': 62.70062255859375, 'Talking': 52.40108871459961, 'Greeting': 57.52165222167969, 'Gesticuling': 55.06142807006836}, 'UpperBody': {'All': 49.452308654785156, 'LowerStretching': 39.13904571533203, 'Walking': 43.23635482788086, 'UpperStretching': 53.99221420288086, 'Patting': 49.759029388427734, 'Reacting': 51.652225494384766, 'Gaming': 45.80264663696289, 'Talking': 41.591854095458984, 'Greeting': 43.12773132324219, 'Gesticuling': 50.162269592285156}, 'LowerBody': {'All': 85.50548553466797, 'LowerStretching': 89.38658142089844, 'Walking': 90.72930908203125, 'UpperStretching': 85.16790771484375, 'Patting': 107.03004455566406, 'Reacting': 75.11194610595703, 'Gaming': 79.59860229492188, 'Talking': 63.2103271484375, 'Greeting': 71.91556549072266, 'Gesticuling': 59.960594177246094}}\n"
     ]
    },
    {
     "name": "stderr",
     "output_type": "stream",
     "text": [
      " 71%|███████   | 3801/5352 [08:32<03:45,  6.88it/s]"
     ]
    },
    {
     "name": "stdout",
     "output_type": "stream",
     "text": [
      "{'FullBody': {'All': 67.49617767333984, 'LowerStretching': 64.28843688964844, 'Walking': 67.01068115234375, 'UpperStretching': 69.5912094116211, 'Patting': 78.59953308105469, 'Reacting': 63.36869430541992, 'Gaming': 62.6376953125, 'Talking': 52.46470642089844, 'Greeting': 57.81393814086914, 'Gesticuling': 55.20448684692383}, 'UpperBody': {'All': 49.484066009521484, 'LowerStretching': 39.13616180419922, 'Walking': 43.23193359375, 'UpperStretching': 54.04700469970703, 'Patting': 49.86280059814453, 'Reacting': 51.64307403564453, 'Gaming': 45.79794692993164, 'Talking': 41.727054595947266, 'Greeting': 43.231201171875, 'Gesticuling': 50.187164306640625}, 'LowerBody': {'All': 85.50827026367188, 'LowerStretching': 89.44071960449219, 'Walking': 90.7894287109375, 'UpperStretching': 85.13540649414062, 'Patting': 107.33626556396484, 'Reacting': 75.09430694580078, 'Gaming': 79.47745513916016, 'Talking': 63.20236587524414, 'Greeting': 72.39666748046875, 'Gesticuling': 60.22182083129883}}\n"
     ]
    },
    {
     "name": "stderr",
     "output_type": "stream",
     "text": [
      " 75%|███████▍  | 4001/5352 [08:59<03:08,  7.17it/s]"
     ]
    },
    {
     "name": "stdout",
     "output_type": "stream",
     "text": [
      "{'FullBody': {'All': 67.48892211914062, 'LowerStretching': 64.27500915527344, 'Walking': 66.99585723876953, 'UpperStretching': 69.60005950927734, 'Patting': 78.69181060791016, 'Reacting': 63.192386627197266, 'Gaming': 62.623802185058594, 'Talking': 52.37667465209961, 'Greeting': 57.71310806274414, 'Gesticuling': 55.00299072265625}, 'UpperBody': {'All': 49.45064926147461, 'LowerStretching': 39.14149856567383, 'Walking': 43.18590545654297, 'UpperStretching': 54.02357864379883, 'Patting': 49.847206115722656, 'Reacting': 51.51524353027344, 'Gaming': 45.78898239135742, 'Talking': 41.65428924560547, 'Greeting': 43.13357162475586, 'Gesticuling': 50.02641677856445}, 'LowerBody': {'All': 85.52719116210938, 'LowerStretching': 89.40853118896484, 'Walking': 90.8058090209961, 'UpperStretching': 85.17652893066406, 'Patting': 107.53641510009766, 'Reacting': 74.86953735351562, 'Gaming': 79.45862579345703, 'Talking': 63.09905242919922, 'Greeting': 72.29264068603516, 'Gesticuling': 59.97957229614258}}\n"
     ]
    },
    {
     "name": "stderr",
     "output_type": "stream",
     "text": [
      " 78%|███████▊  | 4201/5352 [09:26<02:47,  6.88it/s]"
     ]
    },
    {
     "name": "stdout",
     "output_type": "stream",
     "text": [
      "{'FullBody': {'All': 67.50650024414062, 'LowerStretching': 64.31795501708984, 'Walking': 66.95059967041016, 'UpperStretching': 69.63863372802734, 'Patting': 78.63689422607422, 'Reacting': 63.20561981201172, 'Gaming': 62.533973693847656, 'Talking': 52.34286880493164, 'Greeting': 57.65209197998047, 'Gesticuling': 55.01293182373047}, 'UpperBody': {'All': 49.45318603515625, 'LowerStretching': 39.13895034790039, 'Walking': 43.14783477783203, 'UpperStretching': 54.04585266113281, 'Patting': 49.808963775634766, 'Reacting': 51.55586624145508, 'Gaming': 45.66767883300781, 'Talking': 41.70440673828125, 'Greeting': 43.0859375, 'Gesticuling': 50.104705810546875}, 'LowerBody': {'All': 85.559814453125, 'LowerStretching': 89.4969711303711, 'Walking': 90.75337219238281, 'UpperStretching': 85.23141479492188, 'Patting': 107.46481323242188, 'Reacting': 74.85537719726562, 'Gaming': 79.4002685546875, 'Talking': 62.98133087158203, 'Greeting': 72.21824645996094, 'Gesticuling': 59.92115020751953}}\n"
     ]
    },
    {
     "name": "stderr",
     "output_type": "stream",
     "text": [
      " 82%|████████▏ | 4400/5352 [09:52<02:19,  6.83it/s]"
     ]
    },
    {
     "name": "stdout",
     "output_type": "stream",
     "text": [
      "{'FullBody': {'All': 67.48821258544922, 'LowerStretching': 64.30804443359375, 'Walking': 66.88108825683594, 'UpperStretching': 69.60832214355469, 'Patting': 78.92167663574219, 'Reacting': 63.29484558105469, 'Gaming': 62.56279373168945, 'Talking': 52.36887741088867, 'Greeting': 57.80833435058594, 'Gesticuling': 54.934566497802734}, 'UpperBody': {'All': 49.481483459472656, 'LowerStretching': 39.162662506103516, 'Walking': 43.091552734375, 'UpperStretching': 54.08647537231445, 'Patting': 49.979618072509766, 'Reacting': 51.679168701171875, 'Gaming': 45.66796112060547, 'Talking': 41.74824142456055, 'Greeting': 43.22159957885742, 'Gesticuling': 49.998321533203125}, 'LowerBody': {'All': 85.49492645263672, 'LowerStretching': 89.45344543457031, 'Walking': 90.6706314086914, 'UpperStretching': 85.13015747070312, 'Patting': 107.86372375488281, 'Reacting': 74.91053771972656, 'Gaming': 79.4576187133789, 'Talking': 62.98952102661133, 'Greeting': 72.39507293701172, 'Gesticuling': 59.870819091796875}}\n"
     ]
    },
    {
     "name": "stderr",
     "output_type": "stream",
     "text": [
      " 86%|████████▌ | 4601/5352 [10:19<01:49,  6.85it/s]"
     ]
    },
    {
     "name": "stdout",
     "output_type": "stream",
     "text": [
      "{'FullBody': {'All': 67.53742218017578, 'LowerStretching': 64.34820556640625, 'Walking': 66.7681884765625, 'UpperStretching': 69.69375610351562, 'Patting': 79.25534057617188, 'Reacting': 63.22050857543945, 'Gaming': 62.61494064331055, 'Talking': 52.39229202270508, 'Greeting': 57.777503967285156, 'Gesticuling': 54.93744659423828}, 'UpperBody': {'All': 49.554115295410156, 'LowerStretching': 39.20649337768555, 'Walking': 43.03603744506836, 'UpperStretching': 54.20423126220703, 'Patting': 50.330989837646484, 'Reacting': 51.546302795410156, 'Gaming': 45.74445343017578, 'Talking': 41.75795364379883, 'Greeting': 43.20798873901367, 'Gesticuling': 49.98386001586914}, 'LowerBody': {'All': 85.5207290649414, 'LowerStretching': 89.48990631103516, 'Walking': 90.5003433227539, 'UpperStretching': 85.18327331542969, 'Patting': 108.17969512939453, 'Reacting': 74.89471435546875, 'Gaming': 79.48541259765625, 'Talking': 63.026641845703125, 'Greeting': 72.3470230102539, 'Gesticuling': 59.89104080200195}}\n"
     ]
    },
    {
     "name": "stderr",
     "output_type": "stream",
     "text": [
      " 90%|████████▉ | 4801/5352 [10:46<01:20,  6.81it/s]"
     ]
    },
    {
     "name": "stdout",
     "output_type": "stream",
     "text": [
      "{'FullBody': {'All': 67.59915924072266, 'LowerStretching': 64.43594360351562, 'Walking': 66.73773956298828, 'UpperStretching': 69.74944305419922, 'Patting': 79.93133544921875, 'Reacting': 63.25872039794922, 'Gaming': 62.85277557373047, 'Talking': 52.301692962646484, 'Greeting': 57.936424255371094, 'Gesticuling': 54.99147033691406}, 'UpperBody': {'All': 49.62221145629883, 'LowerStretching': 39.23886489868164, 'Walking': 43.08358383178711, 'UpperStretching': 54.26838302612305, 'Patting': 50.8594970703125, 'Reacting': 51.620994567871094, 'Gaming': 45.94486618041992, 'Talking': 41.71894454956055, 'Greeting': 43.27731704711914, 'Gesticuling': 50.01454162597656}, 'LowerBody': {'All': 85.57611083984375, 'LowerStretching': 89.6330337524414, 'Walking': 90.39190673828125, 'UpperStretching': 85.2304916381836, 'Patting': 109.00318145751953, 'Reacting': 74.89645385742188, 'Gaming': 79.76068115234375, 'Talking': 62.884456634521484, 'Greeting': 72.59555053710938, 'Gesticuling': 59.9683952331543}}\n"
     ]
    },
    {
     "name": "stderr",
     "output_type": "stream",
     "text": [
      " 93%|█████████▎| 5001/5352 [11:12<00:50,  7.00it/s]"
     ]
    },
    {
     "name": "stdout",
     "output_type": "stream",
     "text": [
      "{'FullBody': {'All': 67.55704498291016, 'LowerStretching': 64.39391326904297, 'Walking': 66.8009262084961, 'UpperStretching': 69.6868896484375, 'Patting': 79.79156494140625, 'Reacting': 63.214298248291016, 'Gaming': 62.89156723022461, 'Talking': 52.3921012878418, 'Greeting': 57.783164978027344, 'Gesticuling': 55.04612731933594}, 'UpperBody': {'All': 49.59365463256836, 'LowerStretching': 39.228851318359375, 'Walking': 43.1087646484375, 'UpperStretching': 54.21860885620117, 'Patting': 50.80552673339844, 'Reacting': 51.536598205566406, 'Gaming': 45.98296356201172, 'Talking': 41.81958770751953, 'Greeting': 43.16799545288086, 'Gesticuling': 50.16281509399414}, 'LowerBody': {'All': 85.52042388916016, 'LowerStretching': 89.5589828491211, 'Walking': 90.49310302734375, 'UpperStretching': 85.15515899658203, 'Patting': 108.77761840820312, 'Reacting': 74.89200592041016, 'Gaming': 79.80016326904297, 'Talking': 62.96461868286133, 'Greeting': 72.39833068847656, 'Gesticuling': 59.92943572998047}}\n"
     ]
    },
    {
     "name": "stderr",
     "output_type": "stream",
     "text": [
      " 97%|█████████▋| 5201/5352 [11:39<00:21,  6.91it/s]"
     ]
    },
    {
     "name": "stdout",
     "output_type": "stream",
     "text": [
      "{'FullBody': {'All': 67.58399963378906, 'LowerStretching': 64.40831756591797, 'Walking': 66.8259506225586, 'UpperStretching': 69.72362518310547, 'Patting': 79.49126434326172, 'Reacting': 63.28596496582031, 'Gaming': 62.938053131103516, 'Talking': 52.377811431884766, 'Greeting': 57.62351608276367, 'Gesticuling': 55.1271858215332}, 'UpperBody': {'All': 49.613040924072266, 'LowerStretching': 39.24311065673828, 'Walking': 43.18696975708008, 'UpperStretching': 54.23309326171875, 'Patting': 50.57011413574219, 'Reacting': 51.57201385498047, 'Gaming': 46.013431549072266, 'Talking': 41.797122955322266, 'Greeting': 43.11880874633789, 'Gesticuling': 50.161739349365234}, 'LowerBody': {'All': 85.55494689941406, 'LowerStretching': 89.57352447509766, 'Walking': 90.46493530273438, 'UpperStretching': 85.21415710449219, 'Patting': 108.41241455078125, 'Reacting': 74.99993133544922, 'Gaming': 79.8626708984375, 'Talking': 62.958492279052734, 'Greeting': 72.12822723388672, 'Gesticuling': 60.092628479003906}}\n"
     ]
    },
    {
     "name": "stderr",
     "output_type": "stream",
     "text": [
      "100%|██████████| 5352/5352 [11:59<00:00,  7.44it/s]\n",
      "\u001b[94m17:46:40 \u001b[92m[INFO]\u001b[94m Main\u001b[0m: Saving evaluation results...\n",
      "\u001b[94m17:46:40 \u001b[92m[INFO]\u001b[94m Main\u001b[0m: Done.\n"
     ]
    }
   ],
   "source": [
    "for i,p in enumerate(path_):\n",
    "\tif i<6:continue\n",
    "\t_path = f'/workspace/2d_to_3d/apps/eval/Ours_new_model845'\n",
    "\t_name = f'baseline845_{i}.json'\n",
    "\tif not os.path.exists(_path):\n",
    "\t\tos.makedirs(_path)\n",
    "\n",
    "\tmain(model_path=p,output_path=os.path.join(_path,_name))"
   ]
  }
 ],
 "metadata": {
  "kernelspec": {
   "display_name": "base",
   "language": "python",
   "name": "python3"
  },
  "language_info": {
   "codemirror_mode": {
    "name": "ipython",
    "version": 3
   },
   "file_extension": ".py",
   "mimetype": "text/x-python",
   "name": "python",
   "nbconvert_exporter": "python",
   "pygments_lexer": "ipython3",
   "version": "3.10.8"
  },
  "orig_nbformat": 4
 },
 "nbformat": 4,
 "nbformat_minor": 2
}
