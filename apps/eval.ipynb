{
 "cells": [
  {
   "cell_type": "code",
   "execution_count": 1,
   "metadata": {},
   "outputs": [
    {
     "name": "stderr",
     "output_type": "stream",
     "text": [
      "/opt/conda/lib/python3.10/site-packages/tqdm/auto.py:22: TqdmWarning: IProgress not found. Please update jupyter and ipywidgets. See https://ipywidgets.readthedocs.io/en/stable/user_install.html\n",
      "  from .autonotebook import tqdm as notebook_tqdm\n"
     ]
    }
   ],
   "source": [
    "# Copyright (c) Facebook, Inc. and its affiliates. All Rights Reserved\n",
    "# -*- coding: utf-8 -*-\n",
    "\"\"\"\n",
    "Demo code\n",
    "\n",
    "@author: Denis Tome'\n",
    "\n",
    "\"\"\"\n",
    "from torch.utils.data import DataLoader\n",
    "import torch\n",
    "from torchvision import transforms\n",
    "from base import SetType\n",
    "import multiprocessing\n",
    "from mocap import Mocap\n",
    "from utils import config, ConsoleLogger\n",
    "from utils import evaluate, io\n",
    "from model import TempModel\n",
    "from model_xregopose import xR_egoposemodel\n",
    "from model_mo2cap2 import mo2cap_ours\n",
    "from ours_model import Ours_model\n",
    "from tqdm import tqdm\n",
    "import os\n",
    "\n",
    "LOGGER = ConsoleLogger(\"Main\")\n",
    "use_cuda = torch.cuda.is_available()\n",
    "device = torch.device(\"cuda\" if use_cuda else \"cpu\")\n"
   ]
  },
  {
   "cell_type": "code",
   "execution_count": 2,
   "metadata": {},
   "outputs": [],
   "source": [
    "\n",
    "def main(model_path=None,output_path=None):\n",
    "\t\"\"\"Main\"\"\"\n",
    "\n",
    "\tLOGGER.info('Starting demo...')\n",
    "\n",
    "\t# ------------------- Data loader -------------------\n",
    "\n",
    "\n",
    "\t# let's load data from validation set as example\n",
    "\tdata = Mocap(\n",
    "\t\t'/dataset/data/Dataset/TestSet',\n",
    "\t\tSetType.VAL,\n",
    "\t\t)\n",
    "\tdata_loader = DataLoader(\n",
    "\t\tdata,\n",
    "\t\tbatch_size=16,\n",
    "\t\tnum_workers=(multiprocessing.cpu_count() // 3) * 2,\n",
    "\t\tshuffle=True)\n",
    "\n",
    "\t# ------------------- Evaluation -------------------\n",
    "\n",
    "\teval_body = evaluate.EvalBody()\n",
    "\teval_upper = evaluate.EvalUpperBody()\n",
    "\teval_lower = evaluate.EvalLowerBody()\n",
    "\n",
    "\t# ------------------- Read dataset frames -------------------\n",
    "\n",
    "\tmodel = Ours_model(pretrained_path=model_path).to(device)\n",
    "\tmodel = torch.nn.DataParallel(model,device_ids=[0,1])\n",
    "\tmodel.eval()\n",
    "\n",
    "\tfor it, test_batch in enumerate(tqdm(data_loader)):\n",
    "\t\timage = test_batch['image'].cuda()\n",
    "\t\timage_zoom = test_batch['image_zoom'].cuda()\n",
    "\t\tp3d = test_batch['joints_3d_cam']\n",
    "\t\taction = test_batch['action']\n",
    "\t\tinput_img = {\n",
    "\t\t\t'image':image,\n",
    "\t\t\t# 'image_zoom' : image_zoom,\n",
    "\t\t\t}\n",
    "\t\t# LOGGER.info('Iteration: {}'.format(it))\n",
    "\t\t# LOGGER.info('Images: {}'.format(img.shape))\n",
    "\t\t# LOGGER.info('p2ds: {}'.format(p2d.shape))\n",
    "\t\t# LOGGER.info('p3ds: {}'.format(p3d.shape))\n",
    "\t\t# LOGGER.info('Actions: {}'.format(action))\n",
    "\n",
    "\t\t# -----------------------------------------------------------\n",
    "\t\tpred_output = model(input_img)\n",
    "\t\t# -----------------------------------------------------------\n",
    "\n",
    "\t\t# TODO: replace p3d_hat with model preditions\n",
    "\t\tp3d_hat = pred_output['pred_pose']\n",
    "\n",
    "\t\t# Evaluate results using different evaluation metrices\n",
    "\t\ty_output = p3d_hat.data.cpu().numpy() * 1000\n",
    "\t\ty_target = p3d.data.cpu().numpy() * 1000\n",
    "\n",
    "\t\teval_body.eval(y_output, y_target, action)\n",
    "\t\teval_upper.eval(y_output, y_target, action)\n",
    "\t\teval_lower.eval(y_output, y_target, action)\n",
    "\t\tif (it+1)%200==0:\n",
    "\t\t\tprint({'FullBody': eval_body.get_results(),\n",
    "\t\t   'UpperBody': eval_upper.get_results(),\n",
    "\t\t   'LowerBody': eval_lower.get_results()})\n",
    "\t\t\t# break\n",
    "\t\t# TODO: remove break\n",
    "\t\t\n",
    "\n",
    "\t# ------------------- Save results -------------------\n",
    "\n",
    "\tLOGGER.info('Saving evaluation results...')\n",
    "\tres = {'FullBody': eval_body.get_results(),\n",
    "\t\t   'UpperBody': eval_upper.get_results(),\n",
    "\t\t   'LowerBody': eval_lower.get_results()}\n",
    "\n",
    "\tio.write_json(output_path, res)\n",
    "\n",
    "\tLOGGER.info('Done.')"
   ]
  },
  {
   "cell_type": "code",
   "execution_count": 3,
   "metadata": {},
   "outputs": [
    {
     "data": {
      "text/plain": [
       "['/workspace/2d_to_3d/apps/exp818/0.pth',\n",
       " '/workspace/2d_to_3d/apps/exp818/1.pth',\n",
       " '/workspace/2d_to_3d/apps/exp818/2.pth',\n",
       " '/workspace/2d_to_3d/apps/exp818/3.pth',\n",
       " '/workspace/2d_to_3d/apps/exp818/4.pth',\n",
       " '/workspace/2d_to_3d/apps/exp818/5.pth',\n",
       " '/workspace/2d_to_3d/apps/exp818/6.pth',\n",
       " '/workspace/2d_to_3d/apps/exp818/7.pth',\n",
       " '/workspace/2d_to_3d/apps/exp818/8.pth',\n",
       " '/workspace/2d_to_3d/apps/exp818/9.pth',\n",
       " '/workspace/2d_to_3d/apps/exp818/best.pth']"
      ]
     },
     "execution_count": 3,
     "metadata": {},
     "output_type": "execute_result"
    }
   ],
   "source": [
    "import glob\n",
    "path_ =sorted(glob.glob('/workspace/2d_to_3d/apps/exp818'+'/*'))\n",
    "path_"
   ]
  },
  {
   "cell_type": "code",
   "execution_count": 4,
   "metadata": {},
   "outputs": [
    {
     "ename": "RuntimeError",
     "evalue": "No active exception to reraise",
     "output_type": "error",
     "traceback": [
      "\u001b[0;31m---------------------------------------------------------------------------\u001b[0m",
      "\u001b[0;31mRuntimeError\u001b[0m                              Traceback (most recent call last)",
      "\u001b[1;32m/workspace/2d_to_3d/apps/eval.ipynb Cell 4\u001b[0m line \u001b[0;36m4\n\u001b[1;32m      <a href='vscode-notebook-cell://attached-container%2B7b22636f6e7461696e65724e616d65223a222f32645f746f5f3364222c2273657474696e6773223a7b22686f7374223a227373683a2f2f6c61625f776f726b73746174696f6e227d7d/workspace/2d_to_3d/apps/eval.ipynb#W3sdnNjb2RlLXJlbW90ZQ%3D%3D?line=1'>2</a>\u001b[0m gc\u001b[39m.\u001b[39mcollect()\n\u001b[1;32m      <a href='vscode-notebook-cell://attached-container%2B7b22636f6e7461696e65724e616d65223a222f32645f746f5f3364222c2273657474696e6773223a7b22686f7374223a227373683a2f2f6c61625f776f726b73746174696f6e227d7d/workspace/2d_to_3d/apps/eval.ipynb#W3sdnNjb2RlLXJlbW90ZQ%3D%3D?line=2'>3</a>\u001b[0m torch\u001b[39m.\u001b[39mcuda\u001b[39m.\u001b[39mempty_cache()\n\u001b[0;32m----> <a href='vscode-notebook-cell://attached-container%2B7b22636f6e7461696e65724e616d65223a222f32645f746f5f3364222c2273657474696e6773223a7b22686f7374223a227373683a2f2f6c61625f776f726b73746174696f6e227d7d/workspace/2d_to_3d/apps/eval.ipynb#W3sdnNjb2RlLXJlbW90ZQ%3D%3D?line=3'>4</a>\u001b[0m \u001b[39mraise\u001b[39;00m\n",
      "\u001b[0;31mRuntimeError\u001b[0m: No active exception to reraise"
     ]
    }
   ],
   "source": [
    "import gc\n",
    "gc.collect()\n",
    "torch.cuda.empty_cache()\n",
    "raise"
   ]
  },
  {
   "cell_type": "code",
   "execution_count": 5,
   "metadata": {},
   "outputs": [
    {
     "name": "stderr",
     "output_type": "stream",
     "text": [
      "\u001b[94m17:52:48 \u001b[92m[INFO]\u001b[94m Main\u001b[0m: Starting demo...\n",
      "  0%|          | 0/5352 [00:00<?, ?it/s]/opt/conda/lib/python3.10/site-packages/torchvision/transforms/transforms.py:329: UserWarning: Argument 'interpolation' of type int is deprecated since 0.13 and will be removed in 0.15. Please use InterpolationMode enum.\n",
      "  warnings.warn(\n",
      "/opt/conda/lib/python3.10/site-packages/torchvision/transforms/transforms.py:329: UserWarning: Argument 'interpolation' of type int is deprecated since 0.13 and will be removed in 0.15. Please use InterpolationMode enum.\n",
      "  warnings.warn(\n",
      "/opt/conda/lib/python3.10/site-packages/torchvision/transforms/transforms.py:329: UserWarning: Argument 'interpolation' of type int is deprecated since 0.13 and will be removed in 0.15. Please use InterpolationMode enum.\n",
      "  warnings.warn(\n",
      "/opt/conda/lib/python3.10/site-packages/torchvision/transforms/transforms.py:329: UserWarning: Argument 'interpolation' of type int is deprecated since 0.13 and will be removed in 0.15. Please use InterpolationMode enum.\n",
      "  warnings.warn(\n",
      "/opt/conda/lib/python3.10/site-packages/torchvision/transforms/transforms.py:329: UserWarning: Argument 'interpolation' of type int is deprecated since 0.13 and will be removed in 0.15. Please use InterpolationMode enum.\n",
      "  warnings.warn(\n",
      "/opt/conda/lib/python3.10/site-packages/torchvision/transforms/transforms.py:329: UserWarning: Argument 'interpolation' of type int is deprecated since 0.13 and will be removed in 0.15. Please use InterpolationMode enum.\n",
      "  warnings.warn(\n",
      "/opt/conda/lib/python3.10/site-packages/torchvision/transforms/transforms.py:329: UserWarning: Argument 'interpolation' of type int is deprecated since 0.13 and will be removed in 0.15. Please use InterpolationMode enum.\n",
      "  warnings.warn(\n",
      "/opt/conda/lib/python3.10/site-packages/torchvision/transforms/transforms.py:329: UserWarning: Argument 'interpolation' of type int is deprecated since 0.13 and will be removed in 0.15. Please use InterpolationMode enum.\n",
      "  warnings.warn(\n",
      "/opt/conda/lib/python3.10/site-packages/torchvision/transforms/transforms.py:329: UserWarning: Argument 'interpolation' of type int is deprecated since 0.13 and will be removed in 0.15. Please use InterpolationMode enum.\n",
      "  warnings.warn(\n",
      "/opt/conda/lib/python3.10/site-packages/torchvision/transforms/transforms.py:329: UserWarning: Argument 'interpolation' of type int is deprecated since 0.13 and will be removed in 0.15. Please use InterpolationMode enum.\n",
      "  warnings.warn(\n",
      "/opt/conda/lib/python3.10/site-packages/torchvision/transforms/transforms.py:329: UserWarning: Argument 'interpolation' of type int is deprecated since 0.13 and will be removed in 0.15. Please use InterpolationMode enum.\n",
      "  warnings.warn(\n",
      "/opt/conda/lib/python3.10/site-packages/torchvision/transforms/transforms.py:329: UserWarning: Argument 'interpolation' of type int is deprecated since 0.13 and will be removed in 0.15. Please use InterpolationMode enum.\n",
      "  warnings.warn(\n",
      "/opt/conda/lib/python3.10/site-packages/torchvision/transforms/transforms.py:329: UserWarning: Argument 'interpolation' of type int is deprecated since 0.13 and will be removed in 0.15. Please use InterpolationMode enum.\n",
      "  warnings.warn(\n",
      "/opt/conda/lib/python3.10/site-packages/torchvision/transforms/transforms.py:329: UserWarning: Argument 'interpolation' of type int is deprecated since 0.13 and will be removed in 0.15. Please use InterpolationMode enum.\n",
      "  warnings.warn(\n",
      "/opt/conda/lib/python3.10/site-packages/torchvision/transforms/transforms.py:329: UserWarning: Argument 'interpolation' of type int is deprecated since 0.13 and will be removed in 0.15. Please use InterpolationMode enum.\n",
      "  warnings.warn(\n",
      "/opt/conda/lib/python3.10/site-packages/torchvision/transforms/transforms.py:329: UserWarning: Argument 'interpolation' of type int is deprecated since 0.13 and will be removed in 0.15. Please use InterpolationMode enum.\n",
      "  warnings.warn(\n",
      "/opt/conda/lib/python3.10/site-packages/torchvision/transforms/transforms.py:329: UserWarning: Argument 'interpolation' of type int is deprecated since 0.13 and will be removed in 0.15. Please use InterpolationMode enum.\n",
      "  warnings.warn(\n",
      "/opt/conda/lib/python3.10/site-packages/torchvision/transforms/transforms.py:329: UserWarning: Argument 'interpolation' of type int is deprecated since 0.13 and will be removed in 0.15. Please use InterpolationMode enum.\n",
      "  warnings.warn(\n",
      "/opt/conda/lib/python3.10/site-packages/torchvision/transforms/transforms.py:329: UserWarning: Argument 'interpolation' of type int is deprecated since 0.13 and will be removed in 0.15. Please use InterpolationMode enum.\n",
      "  warnings.warn(\n",
      "/opt/conda/lib/python3.10/site-packages/torchvision/transforms/transforms.py:329: UserWarning: Argument 'interpolation' of type int is deprecated since 0.13 and will be removed in 0.15. Please use InterpolationMode enum.\n",
      "  warnings.warn(\n",
      "/opt/conda/lib/python3.10/site-packages/torchvision/transforms/transforms.py:329: UserWarning: Argument 'interpolation' of type int is deprecated since 0.13 and will be removed in 0.15. Please use InterpolationMode enum.\n",
      "  warnings.warn(\n",
      "/opt/conda/lib/python3.10/site-packages/torchvision/transforms/transforms.py:329: UserWarning: Argument 'interpolation' of type int is deprecated since 0.13 and will be removed in 0.15. Please use InterpolationMode enum.\n",
      "  warnings.warn(\n",
      "/opt/conda/lib/python3.10/site-packages/torchvision/transforms/transforms.py:329: UserWarning: Argument 'interpolation' of type int is deprecated since 0.13 and will be removed in 0.15. Please use InterpolationMode enum.\n",
      "  warnings.warn(\n",
      "/opt/conda/lib/python3.10/site-packages/torchvision/transforms/transforms.py:329: UserWarning: Argument 'interpolation' of type int is deprecated since 0.13 and will be removed in 0.15. Please use InterpolationMode enum.\n",
      "  warnings.warn(\n",
      "  4%|▍         | 201/5352 [00:39<12:42,  6.75it/s] "
     ]
    },
    {
     "name": "stdout",
     "output_type": "stream",
     "text": [
      "{'FullBody': {'All': 184.16763305664062, 'LowerStretching': 168.65956115722656, 'UpperStretching': 194.3202362060547, 'Talking': 146.71676635742188, 'Walking': 190.3146514892578, 'Gaming': 149.99346923828125, 'Gesticuling': 129.7270050048828, 'Reacting': 155.89378356933594, 'Patting': 155.2561798095703, 'Greeting': 139.6853790283203}, 'UpperBody': {'All': 120.37799072265625, 'LowerStretching': 100.22762298583984, 'UpperStretching': 128.1470184326172, 'Talking': 99.10234832763672, 'Walking': 124.26162719726562, 'Gaming': 100.4915542602539, 'Gesticuling': 94.87371826171875, 'Reacting': 117.59468841552734, 'Patting': 108.76888275146484, 'Greeting': 97.33226776123047}, 'LowerBody': {'All': 247.95726013183594, 'LowerStretching': 237.09152221679688, 'UpperStretching': 260.4934387207031, 'Talking': 194.33116149902344, 'Walking': 256.36767578125, 'Gaming': 199.49537658691406, 'Gesticuling': 164.58026123046875, 'Reacting': 194.19288635253906, 'Patting': 201.7435302734375, 'Greeting': 182.03846740722656}}\n"
     ]
    },
    {
     "name": "stderr",
     "output_type": "stream",
     "text": [
      "  7%|▋         | 401/5352 [01:09<12:07,  6.80it/s]"
     ]
    },
    {
     "name": "stdout",
     "output_type": "stream",
     "text": [
      "{'FullBody': {'All': 184.43504333496094, 'LowerStretching': 168.68724060058594, 'UpperStretching': 195.3533935546875, 'Talking': 146.37294006347656, 'Walking': 190.2654571533203, 'Gaming': 148.88685607910156, 'Gesticuling': 134.11819458007812, 'Reacting': 153.7349090576172, 'Patting': 153.8046112060547, 'Greeting': 144.4341583251953}, 'UpperBody': {'All': 120.16796112060547, 'LowerStretching': 100.43462371826172, 'UpperStretching': 127.89774322509766, 'Talking': 98.6031265258789, 'Walking': 126.58515167236328, 'Gaming': 96.45831298828125, 'Gesticuling': 99.43941497802734, 'Reacting': 112.78589630126953, 'Patting': 107.4834976196289, 'Greeting': 98.79149627685547}, 'LowerBody': {'All': 248.7021026611328, 'LowerStretching': 236.93983459472656, 'UpperStretching': 262.80902099609375, 'Talking': 194.1427459716797, 'Walking': 253.94573974609375, 'Gaming': 201.3153839111328, 'Gesticuling': 168.7969207763672, 'Reacting': 194.68389892578125, 'Patting': 200.12571716308594, 'Greeting': 190.07679748535156}}\n"
     ]
    },
    {
     "name": "stderr",
     "output_type": "stream",
     "text": [
      " 11%|█         | 601/5352 [01:38<12:35,  6.29it/s]"
     ]
    },
    {
     "name": "stdout",
     "output_type": "stream",
     "text": [
      "{'FullBody': {'All': 184.69061279296875, 'LowerStretching': 169.53921508789062, 'UpperStretching': 196.11740112304688, 'Talking': 145.68496704101562, 'Walking': 188.26885986328125, 'Gaming': 147.6521453857422, 'Gesticuling': 132.77957153320312, 'Reacting': 154.62574768066406, 'Patting': 154.8098602294922, 'Greeting': 143.35630798339844}, 'UpperBody': {'All': 119.95048522949219, 'LowerStretching': 101.12711334228516, 'UpperStretching': 127.72969818115234, 'Talking': 99.29105377197266, 'Walking': 125.46292877197266, 'Gaming': 96.67500305175781, 'Gesticuling': 99.03968811035156, 'Reacting': 113.05164337158203, 'Patting': 106.55351257324219, 'Greeting': 98.23980712890625}, 'LowerBody': {'All': 249.43072509765625, 'LowerStretching': 237.95132446289062, 'UpperStretching': 264.5051574707031, 'Talking': 192.0789031982422, 'Walking': 251.07479858398438, 'Gaming': 198.62928771972656, 'Gesticuling': 166.5194549560547, 'Reacting': 196.19984436035156, 'Patting': 203.06617736816406, 'Greeting': 188.47279357910156}}\n"
     ]
    },
    {
     "name": "stderr",
     "output_type": "stream",
     "text": [
      " 15%|█▍        | 801/5352 [02:08<10:58,  6.91it/s]"
     ]
    },
    {
     "name": "stdout",
     "output_type": "stream",
     "text": [
      "{'FullBody': {'All': 184.77572631835938, 'LowerStretching': 170.2787322998047, 'UpperStretching': 196.1565399169922, 'Talking': 143.75770568847656, 'Walking': 187.76828002929688, 'Gaming': 146.357177734375, 'Gesticuling': 132.9567108154297, 'Reacting': 153.9271240234375, 'Patting': 156.69198608398438, 'Greeting': 142.92935180664062}, 'UpperBody': {'All': 119.78317260742188, 'LowerStretching': 101.48909759521484, 'UpperStretching': 127.30452728271484, 'Talking': 96.96632385253906, 'Walking': 125.43046569824219, 'Gaming': 95.97889709472656, 'Gesticuling': 99.70054626464844, 'Reacting': 112.57716369628906, 'Patting': 108.9068374633789, 'Greeting': 98.6533432006836}, 'LowerBody': {'All': 249.76828002929688, 'LowerStretching': 239.06834411621094, 'UpperStretching': 265.008544921875, 'Talking': 190.54908752441406, 'Walking': 250.10614013671875, 'Gaming': 196.73548889160156, 'Gesticuling': 166.212890625, 'Reacting': 195.277099609375, 'Patting': 204.4771270751953, 'Greeting': 187.20538330078125}}\n"
     ]
    },
    {
     "name": "stderr",
     "output_type": "stream",
     "text": [
      " 19%|█▊        | 1001/5352 [02:37<10:29,  6.92it/s]"
     ]
    },
    {
     "name": "stdout",
     "output_type": "stream",
     "text": [
      "{'FullBody': {'All': 185.19082641601562, 'LowerStretching': 171.75494384765625, 'UpperStretching': 196.4279327392578, 'Talking': 143.08999633789062, 'Walking': 187.9422607421875, 'Gaming': 144.33184814453125, 'Gesticuling': 132.3618927001953, 'Reacting': 154.89674377441406, 'Patting': 157.2110595703125, 'Greeting': 142.92929077148438}, 'UpperBody': {'All': 120.04008483886719, 'LowerStretching': 102.23029327392578, 'UpperStretching': 127.54060363769531, 'Talking': 97.02281188964844, 'Walking': 125.80068969726562, 'Gaming': 94.99483489990234, 'Gesticuling': 99.1600570678711, 'Reacting': 112.99279022216797, 'Patting': 106.89419555664062, 'Greeting': 99.39790344238281}, 'LowerBody': {'All': 250.34156799316406, 'LowerStretching': 241.27960205078125, 'UpperStretching': 265.3152770996094, 'Talking': 189.15721130371094, 'Walking': 250.08389282226562, 'Gaming': 193.66885375976562, 'Gesticuling': 165.56375122070312, 'Reacting': 196.80067443847656, 'Patting': 207.52792358398438, 'Greeting': 186.46067810058594}}\n"
     ]
    },
    {
     "name": "stderr",
     "output_type": "stream",
     "text": [
      " 22%|██▏       | 1201/5352 [03:07<10:34,  6.54it/s]"
     ]
    },
    {
     "name": "stdout",
     "output_type": "stream",
     "text": [
      "{'FullBody': {'All': 184.89938354492188, 'LowerStretching': 171.0689697265625, 'UpperStretching': 196.06910705566406, 'Talking': 144.39334106445312, 'Walking': 187.26710510253906, 'Gaming': 145.21311950683594, 'Gesticuling': 133.75779724121094, 'Reacting': 154.37847900390625, 'Patting': 156.7495574951172, 'Greeting': 144.66390991210938}, 'UpperBody': {'All': 119.83831024169922, 'LowerStretching': 101.44197845458984, 'UpperStretching': 127.42691802978516, 'Talking': 97.57926940917969, 'Walking': 125.55433654785156, 'Gaming': 95.16635131835938, 'Gesticuling': 100.25735473632812, 'Reacting': 112.37440490722656, 'Patting': 106.39533233642578, 'Greeting': 100.83767700195312}, 'LowerBody': {'All': 249.96044921875, 'LowerStretching': 240.69595336914062, 'UpperStretching': 264.7113037109375, 'Talking': 191.2073974609375, 'Walking': 248.97984313964844, 'Gaming': 195.25987243652344, 'Gesticuling': 167.2582550048828, 'Reacting': 196.3825225830078, 'Patting': 207.10377502441406, 'Greeting': 188.49012756347656}}\n"
     ]
    },
    {
     "name": "stderr",
     "output_type": "stream",
     "text": [
      " 26%|██▌       | 1401/5352 [03:36<09:42,  6.78it/s]"
     ]
    },
    {
     "name": "stdout",
     "output_type": "stream",
     "text": [
      "{'FullBody': {'All': 184.7605743408203, 'LowerStretching': 170.97238159179688, 'UpperStretching': 196.02664184570312, 'Talking': 144.48764038085938, 'Walking': 186.5536346435547, 'Gaming': 145.70692443847656, 'Gesticuling': 132.07852172851562, 'Reacting': 154.2991180419922, 'Patting': 156.81668090820312, 'Greeting': 144.2159881591797}, 'UpperBody': {'All': 119.81177520751953, 'LowerStretching': 101.29918670654297, 'UpperStretching': 127.45729064941406, 'Talking': 98.12370300292969, 'Walking': 125.24417114257812, 'Gaming': 96.1724853515625, 'Gesticuling': 99.10148620605469, 'Reacting': 112.10191345214844, 'Patting': 106.9096908569336, 'Greeting': 100.4068374633789}, 'LowerBody': {'All': 249.70938110351562, 'LowerStretching': 240.64556884765625, 'UpperStretching': 264.5959777832031, 'Talking': 190.85159301757812, 'Walking': 247.8630828857422, 'Gaming': 195.2413787841797, 'Gesticuling': 165.05557250976562, 'Reacting': 196.49632263183594, 'Patting': 206.72369384765625, 'Greeting': 188.02513122558594}}\n"
     ]
    },
    {
     "name": "stderr",
     "output_type": "stream",
     "text": [
      " 30%|██▉       | 1601/5352 [04:06<08:58,  6.97it/s]"
     ]
    },
    {
     "name": "stdout",
     "output_type": "stream",
     "text": [
      "{'FullBody': {'All': 184.7198028564453, 'LowerStretching': 170.72714233398438, 'UpperStretching': 196.04051208496094, 'Talking': 144.0084228515625, 'Walking': 187.1392822265625, 'Gaming': 145.84423828125, 'Gesticuling': 130.90948486328125, 'Reacting': 154.0965576171875, 'Patting': 155.377685546875, 'Greeting': 144.20571899414062}, 'UpperBody': {'All': 119.7806625366211, 'LowerStretching': 101.27961730957031, 'UpperStretching': 127.415283203125, 'Talking': 97.76771545410156, 'Walking': 125.77645111083984, 'Gaming': 96.40023803710938, 'Gesticuling': 97.9250259399414, 'Reacting': 111.94125366210938, 'Patting': 105.23303985595703, 'Greeting': 100.78449249267578}, 'LowerBody': {'All': 249.65895080566406, 'LowerStretching': 240.1746368408203, 'UpperStretching': 264.665771484375, 'Talking': 190.2491455078125, 'Walking': 248.5021209716797, 'Gaming': 195.28826904296875, 'Gesticuling': 163.89393615722656, 'Reacting': 196.25184631347656, 'Patting': 205.5222930908203, 'Greeting': 187.62692260742188}}\n"
     ]
    },
    {
     "name": "stderr",
     "output_type": "stream",
     "text": [
      " 34%|███▎      | 1801/5352 [04:35<09:44,  6.07it/s]"
     ]
    },
    {
     "name": "stdout",
     "output_type": "stream",
     "text": [
      "{'FullBody': {'All': 184.7502899169922, 'LowerStretching': 170.5292205810547, 'UpperStretching': 196.13160705566406, 'Talking': 145.02963256835938, 'Walking': 187.0005645751953, 'Gaming': 146.52584838867188, 'Gesticuling': 130.59706115722656, 'Reacting': 153.86209106445312, 'Patting': 154.46510314941406, 'Greeting': 143.4042205810547}, 'UpperBody': {'All': 119.80634307861328, 'LowerStretching': 101.04146575927734, 'UpperStretching': 127.4903335571289, 'Talking': 98.3477554321289, 'Walking': 125.75155639648438, 'Gaming': 96.85021209716797, 'Gesticuling': 97.49606323242188, 'Reacting': 111.83255767822266, 'Patting': 105.46150207519531, 'Greeting': 100.19047546386719}, 'LowerBody': {'All': 249.69422912597656, 'LowerStretching': 240.0169677734375, 'UpperStretching': 264.77288818359375, 'Talking': 191.7115020751953, 'Walking': 248.24952697753906, 'Gaming': 196.2014617919922, 'Gesticuling': 163.6980743408203, 'Reacting': 195.89163208007812, 'Patting': 203.4686737060547, 'Greeting': 186.617919921875}}\n"
     ]
    },
    {
     "name": "stderr",
     "output_type": "stream",
     "text": [
      " 37%|███▋      | 2001/5352 [05:05<08:08,  6.86it/s]"
     ]
    },
    {
     "name": "stdout",
     "output_type": "stream",
     "text": [
      "{'FullBody': {'All': 184.95941162109375, 'LowerStretching': 170.7441864013672, 'UpperStretching': 196.4160919189453, 'Talking': 144.30255126953125, 'Walking': 187.380126953125, 'Gaming': 145.86976623535156, 'Gesticuling': 130.53443908691406, 'Reacting': 152.7581329345703, 'Patting': 155.53817749023438, 'Greeting': 142.8992156982422}, 'UpperBody': {'All': 119.99440002441406, 'LowerStretching': 101.37342834472656, 'UpperStretching': 127.68991088867188, 'Talking': 98.38480377197266, 'Walking': 126.01512908935547, 'Gaming': 96.44686126708984, 'Gesticuling': 97.841796875, 'Reacting': 111.08496856689453, 'Patting': 105.96160125732422, 'Greeting': 99.74992370605469}, 'LowerBody': {'All': 249.92442321777344, 'LowerStretching': 240.1149139404297, 'UpperStretching': 265.142333984375, 'Talking': 190.22030639648438, 'Walking': 248.7451171875, 'Gaming': 195.29269409179688, 'Gesticuling': 163.22708129882812, 'Reacting': 194.43130493164062, 'Patting': 205.11474609375, 'Greeting': 186.04852294921875}}\n"
     ]
    },
    {
     "name": "stderr",
     "output_type": "stream",
     "text": [
      " 41%|████      | 2201/5352 [05:34<07:34,  6.93it/s]"
     ]
    },
    {
     "name": "stdout",
     "output_type": "stream",
     "text": [
      "{'FullBody': {'All': 184.94638061523438, 'LowerStretching': 170.51083374023438, 'UpperStretching': 196.42005920410156, 'Talking': 145.41355895996094, 'Walking': 187.51007080078125, 'Gaming': 145.918701171875, 'Gesticuling': 130.07179260253906, 'Reacting': 153.34976196289062, 'Patting': 156.89036560058594, 'Greeting': 143.61370849609375}, 'UpperBody': {'All': 119.99596405029297, 'LowerStretching': 101.2557601928711, 'UpperStretching': 127.80377960205078, 'Talking': 99.09381103515625, 'Walking': 125.75446319580078, 'Gaming': 96.42185974121094, 'Gesticuling': 97.39115142822266, 'Reacting': 111.61675262451172, 'Patting': 106.06082916259766, 'Greeting': 100.20697021484375}, 'LowerBody': {'All': 249.89678955078125, 'LowerStretching': 239.7659149169922, 'UpperStretching': 265.036376953125, 'Talking': 191.73329162597656, 'Walking': 249.2656707763672, 'Gaming': 195.41555786132812, 'Gesticuling': 162.75244140625, 'Reacting': 195.08274841308594, 'Patting': 207.71990966796875, 'Greeting': 187.02044677734375}}\n"
     ]
    },
    {
     "name": "stderr",
     "output_type": "stream",
     "text": [
      " 45%|████▍     | 2401/5352 [06:04<08:01,  6.13it/s]"
     ]
    },
    {
     "name": "stdout",
     "output_type": "stream",
     "text": [
      "{'FullBody': {'All': 184.87393188476562, 'LowerStretching': 170.75657653808594, 'UpperStretching': 196.33975219726562, 'Talking': 145.21841430664062, 'Walking': 187.28797912597656, 'Gaming': 145.93771362304688, 'Gesticuling': 129.5513153076172, 'Reacting': 153.43582153320312, 'Patting': 156.69638061523438, 'Greeting': 143.38385009765625}, 'UpperBody': {'All': 119.92764282226562, 'LowerStretching': 101.32353210449219, 'UpperStretching': 127.7464828491211, 'Talking': 98.97066497802734, 'Walking': 125.61456298828125, 'Gaming': 97.17717742919922, 'Gesticuling': 96.99451446533203, 'Reacting': 111.42123413085938, 'Patting': 106.0781478881836, 'Greeting': 100.27156066894531}, 'LowerBody': {'All': 249.82020568847656, 'LowerStretching': 240.18963623046875, 'UpperStretching': 264.93304443359375, 'Talking': 191.46617126464844, 'Walking': 248.9613800048828, 'Gaming': 194.69822692871094, 'Gesticuling': 162.1081085205078, 'Reacting': 195.45042419433594, 'Patting': 207.31463623046875, 'Greeting': 186.49615478515625}}\n"
     ]
    },
    {
     "name": "stderr",
     "output_type": "stream",
     "text": [
      " 49%|████▊     | 2601/5352 [06:34<07:01,  6.53it/s]"
     ]
    },
    {
     "name": "stdout",
     "output_type": "stream",
     "text": [
      "{'FullBody': {'All': 184.8271484375, 'LowerStretching': 171.06948852539062, 'UpperStretching': 196.11219787597656, 'Talking': 146.7884979248047, 'Walking': 187.08938598632812, 'Gaming': 145.8817901611328, 'Gesticuling': 130.60508728027344, 'Reacting': 153.53614807128906, 'Patting': 155.5936737060547, 'Greeting': 143.9989776611328}, 'UpperBody': {'All': 119.88905334472656, 'LowerStretching': 101.44242095947266, 'UpperStretching': 127.63468170166016, 'Talking': 99.69210815429688, 'Walking': 125.34410095214844, 'Gaming': 97.35528564453125, 'Gesticuling': 97.83692169189453, 'Reacting': 111.44168853759766, 'Patting': 105.72600555419922, 'Greeting': 100.65945434570312}, 'LowerBody': {'All': 249.7652130126953, 'LowerStretching': 240.696533203125, 'UpperStretching': 264.5897216796875, 'Talking': 193.8848876953125, 'Walking': 248.8346710205078, 'Gaming': 194.40829467773438, 'Gesticuling': 163.37327575683594, 'Reacting': 195.63059997558594, 'Patting': 205.46131896972656, 'Greeting': 187.3385009765625}}\n"
     ]
    },
    {
     "name": "stderr",
     "output_type": "stream",
     "text": [
      " 52%|█████▏    | 2801/5352 [07:04<06:26,  6.61it/s]"
     ]
    },
    {
     "name": "stdout",
     "output_type": "stream",
     "text": [
      "{'FullBody': {'All': 184.54296875, 'LowerStretching': 170.891845703125, 'UpperStretching': 195.91038513183594, 'Talking': 146.27635192871094, 'Walking': 186.73097229003906, 'Gaming': 145.90496826171875, 'Gesticuling': 129.7261962890625, 'Reacting': 152.87838745117188, 'Patting': 155.4713592529297, 'Greeting': 144.35845947265625}, 'UpperBody': {'All': 119.77965545654297, 'LowerStretching': 101.458984375, 'UpperStretching': 127.57247161865234, 'Talking': 99.44820404052734, 'Walking': 125.23797607421875, 'Gaming': 97.66004180908203, 'Gesticuling': 97.38350677490234, 'Reacting': 110.92936706542969, 'Patting': 105.54159545898438, 'Greeting': 101.01522827148438}, 'LowerBody': {'All': 249.3062744140625, 'LowerStretching': 240.32470703125, 'UpperStretching': 264.24835205078125, 'Talking': 193.10452270507812, 'Walking': 248.22396850585938, 'Gaming': 194.14993286132812, 'Gesticuling': 162.0688934326172, 'Reacting': 194.827392578125, 'Patting': 205.401123046875, 'Greeting': 187.70169067382812}}\n"
     ]
    },
    {
     "name": "stderr",
     "output_type": "stream",
     "text": [
      " 56%|█████▌    | 3000/5352 [07:33<05:55,  6.62it/s]"
     ]
    },
    {
     "name": "stdout",
     "output_type": "stream",
     "text": [
      "{'FullBody': {'All': 184.38607788085938, 'LowerStretching': 170.69515991210938, 'UpperStretching': 195.70704650878906, 'Talking': 146.66091918945312, 'Walking': 186.8892822265625, 'Gaming': 145.9114227294922, 'Gesticuling': 129.11468505859375, 'Reacting': 152.80487060546875, 'Patting': 155.70179748535156, 'Greeting': 144.22824096679688}, 'UpperBody': {'All': 119.73368835449219, 'LowerStretching': 101.35991668701172, 'UpperStretching': 127.50128936767578, 'Talking': 99.63392639160156, 'Walking': 125.32806396484375, 'Gaming': 97.8042984008789, 'Gesticuling': 97.07969665527344, 'Reacting': 111.14791107177734, 'Patting': 106.13304901123047, 'Greeting': 100.75536346435547}, 'LowerBody': {'All': 249.03843688964844, 'LowerStretching': 240.03038024902344, 'UpperStretching': 263.9128112792969, 'Talking': 193.6879119873047, 'Walking': 248.4505157470703, 'Gaming': 194.0186004638672, 'Gesticuling': 161.14964294433594, 'Reacting': 194.4618377685547, 'Patting': 205.2705535888672, 'Greeting': 187.70111083984375}}\n"
     ]
    },
    {
     "name": "stderr",
     "output_type": "stream",
     "text": [
      " 60%|█████▉    | 3201/5352 [08:04<05:31,  6.49it/s]"
     ]
    },
    {
     "name": "stdout",
     "output_type": "stream",
     "text": [
      "{'FullBody': {'All': 184.43093872070312, 'LowerStretching': 170.72080993652344, 'UpperStretching': 195.7462921142578, 'Talking': 147.53469848632812, 'Walking': 187.01902770996094, 'Gaming': 145.9158172607422, 'Gesticuling': 128.9239501953125, 'Reacting': 152.13137817382812, 'Patting': 155.530029296875, 'Greeting': 144.36141967773438}, 'UpperBody': {'All': 119.7313003540039, 'LowerStretching': 101.43354034423828, 'UpperStretching': 127.54328918457031, 'Talking': 100.28629302978516, 'Walking': 125.08566284179688, 'Gaming': 97.5692367553711, 'Gesticuling': 96.88458251953125, 'Reacting': 110.71019744873047, 'Patting': 105.79061889648438, 'Greeting': 100.48060607910156}, 'LowerBody': {'All': 249.13052368164062, 'LowerStretching': 240.008056640625, 'UpperStretching': 263.9493103027344, 'Talking': 194.7831268310547, 'Walking': 248.952392578125, 'Gaming': 194.2624053955078, 'Gesticuling': 160.9633026123047, 'Reacting': 193.55252075195312, 'Patting': 205.26943969726562, 'Greeting': 188.2422332763672}}\n"
     ]
    },
    {
     "name": "stderr",
     "output_type": "stream",
     "text": [
      " 64%|██████▎   | 3401/5352 [08:33<04:58,  6.53it/s]"
     ]
    },
    {
     "name": "stdout",
     "output_type": "stream",
     "text": [
      "{'FullBody': {'All': 184.38031005859375, 'LowerStretching': 170.64520263671875, 'UpperStretching': 195.6917724609375, 'Talking': 146.94129943847656, 'Walking': 187.50831604003906, 'Gaming': 145.49560546875, 'Gesticuling': 128.8102264404297, 'Reacting': 151.98512268066406, 'Patting': 155.33740234375, 'Greeting': 144.3828887939453}, 'UpperBody': {'All': 119.7447738647461, 'LowerStretching': 101.41764831542969, 'UpperStretching': 127.56883239746094, 'Talking': 100.17144012451172, 'Walking': 125.43785095214844, 'Gaming': 97.33076477050781, 'Gesticuling': 96.61558532714844, 'Reacting': 110.87169647216797, 'Patting': 105.40083312988281, 'Greeting': 100.33007049560547}, 'LowerBody': {'All': 249.0158233642578, 'LowerStretching': 239.8727569580078, 'UpperStretching': 263.8147277832031, 'Talking': 193.71115112304688, 'Walking': 249.5787811279297, 'Gaming': 193.6604461669922, 'Gesticuling': 161.0048828125, 'Reacting': 193.09854125976562, 'Patting': 205.27398681640625, 'Greeting': 188.43568420410156}}\n"
     ]
    },
    {
     "name": "stderr",
     "output_type": "stream",
     "text": [
      " 67%|██████▋   | 3601/5352 [09:03<04:16,  6.83it/s]"
     ]
    },
    {
     "name": "stdout",
     "output_type": "stream",
     "text": [
      "{'FullBody': {'All': 184.24525451660156, 'LowerStretching': 170.44656372070312, 'UpperStretching': 195.5034637451172, 'Talking': 146.7047576904297, 'Walking': 187.6828155517578, 'Gaming': 145.6429443359375, 'Gesticuling': 128.26539611816406, 'Reacting': 151.86190795898438, 'Patting': 155.51255798339844, 'Greeting': 144.45416259765625}, 'UpperBody': {'All': 119.70931243896484, 'LowerStretching': 101.26016235351562, 'UpperStretching': 127.5396499633789, 'Talking': 100.05713653564453, 'Walking': 125.61216735839844, 'Gaming': 97.5201416015625, 'Gesticuling': 96.28807830810547, 'Reacting': 110.68749237060547, 'Patting': 105.53271484375, 'Greeting': 100.29177856445312}, 'LowerBody': {'All': 248.7812042236328, 'LowerStretching': 239.63294982910156, 'UpperStretching': 263.4672546386719, 'Talking': 193.35238647460938, 'Walking': 249.7534942626953, 'Gaming': 193.76576232910156, 'Gesticuling': 160.2427215576172, 'Reacting': 193.03631591796875, 'Patting': 205.492431640625, 'Greeting': 188.61651611328125}}\n"
     ]
    },
    {
     "name": "stderr",
     "output_type": "stream",
     "text": [
      " 71%|███████   | 3801/5352 [09:33<04:04,  6.34it/s]"
     ]
    },
    {
     "name": "stdout",
     "output_type": "stream",
     "text": [
      "{'FullBody': {'All': 184.248779296875, 'LowerStretching': 170.42794799804688, 'UpperStretching': 195.4939422607422, 'Talking': 146.56919860839844, 'Walking': 188.02023315429688, 'Gaming': 144.9899139404297, 'Gesticuling': 128.1542205810547, 'Reacting': 151.888916015625, 'Patting': 155.4285888671875, 'Greeting': 144.51651000976562}, 'UpperBody': {'All': 119.6939468383789, 'LowerStretching': 101.28974151611328, 'UpperStretching': 127.4933090209961, 'Talking': 100.10261535644531, 'Walking': 125.63858795166016, 'Gaming': 97.4832534790039, 'Gesticuling': 96.17864990234375, 'Reacting': 110.88140869140625, 'Patting': 105.82038116455078, 'Greeting': 100.41010284423828}, 'LowerBody': {'All': 248.80360412597656, 'LowerStretching': 239.56614685058594, 'UpperStretching': 263.49456787109375, 'Talking': 193.03575134277344, 'Walking': 250.40185546875, 'Gaming': 192.49658203125, 'Gesticuling': 160.12979125976562, 'Reacting': 192.8964385986328, 'Patting': 205.03675842285156, 'Greeting': 188.62290954589844}}\n"
     ]
    },
    {
     "name": "stderr",
     "output_type": "stream",
     "text": [
      " 75%|███████▍  | 4001/5352 [10:02<03:24,  6.59it/s]"
     ]
    },
    {
     "name": "stdout",
     "output_type": "stream",
     "text": [
      "{'FullBody': {'All': 184.3695068359375, 'LowerStretching': 170.52188110351562, 'UpperStretching': 195.5817108154297, 'Talking': 146.32766723632812, 'Walking': 188.142822265625, 'Gaming': 144.93804931640625, 'Gesticuling': 128.44430541992188, 'Reacting': 151.6302032470703, 'Patting': 156.64466857910156, 'Greeting': 144.33840942382812}, 'UpperBody': {'All': 119.76798248291016, 'LowerStretching': 101.33036041259766, 'UpperStretching': 127.59384155273438, 'Talking': 99.87156677246094, 'Walking': 125.5545425415039, 'Gaming': 97.30070495605469, 'Gesticuling': 96.5255126953125, 'Reacting': 110.55921936035156, 'Patting': 106.60185241699219, 'Greeting': 100.32647705078125}, 'LowerBody': {'All': 248.9709930419922, 'LowerStretching': 239.71340942382812, 'UpperStretching': 263.569580078125, 'Talking': 192.7837677001953, 'Walking': 250.7311248779297, 'Gaming': 192.5753936767578, 'Gesticuling': 160.3631134033203, 'Reacting': 192.70118713378906, 'Patting': 206.6875, 'Greeting': 188.350341796875}}\n"
     ]
    },
    {
     "name": "stderr",
     "output_type": "stream",
     "text": [
      " 78%|███████▊  | 4200/5352 [10:32<02:56,  6.53it/s]"
     ]
    },
    {
     "name": "stdout",
     "output_type": "stream",
     "text": [
      "{'FullBody': {'All': 184.28904724121094, 'LowerStretching': 170.60231018066406, 'UpperStretching': 195.49070739746094, 'Talking': 146.0362548828125, 'Walking': 187.9101104736328, 'Gaming': 144.49276733398438, 'Gesticuling': 128.32131958007812, 'Reacting': 151.44363403320312, 'Patting': 156.43988037109375, 'Greeting': 144.14993286132812}, 'UpperBody': {'All': 119.70736694335938, 'LowerStretching': 101.38253021240234, 'UpperStretching': 127.52320861816406, 'Talking': 99.72962951660156, 'Walking': 125.4085693359375, 'Gaming': 97.17829132080078, 'Gesticuling': 96.50293731689453, 'Reacting': 110.39564514160156, 'Patting': 106.42513275146484, 'Greeting': 100.09790802001953}, 'LowerBody': {'All': 248.87071228027344, 'LowerStretching': 239.8220977783203, 'UpperStretching': 263.45819091796875, 'Talking': 192.34291076660156, 'Walking': 250.4116668701172, 'Gaming': 191.8072509765625, 'Gesticuling': 160.1396942138672, 'Reacting': 192.4916229248047, 'Patting': 206.45458984375, 'Greeting': 188.20193481445312}}\n"
     ]
    },
    {
     "name": "stderr",
     "output_type": "stream",
     "text": [
      " 82%|████████▏ | 4401/5352 [11:02<02:28,  6.40it/s]"
     ]
    },
    {
     "name": "stdout",
     "output_type": "stream",
     "text": [
      "{'FullBody': {'All': 184.36431884765625, 'LowerStretching': 170.37767028808594, 'UpperStretching': 195.58700561523438, 'Talking': 146.12469482421875, 'Walking': 188.03712463378906, 'Gaming': 144.53494262695312, 'Gesticuling': 128.7805938720703, 'Reacting': 151.4395294189453, 'Patting': 157.4820098876953, 'Greeting': 143.92466735839844}, 'UpperBody': {'All': 119.79507446289062, 'LowerStretching': 101.23015594482422, 'UpperStretching': 127.63247680664062, 'Talking': 99.73563385009766, 'Walking': 125.60763549804688, 'Gaming': 97.20101165771484, 'Gesticuling': 96.82611083984375, 'Reacting': 110.39639282226562, 'Patting': 107.0718002319336, 'Greeting': 100.0193862915039}, 'LowerBody': {'All': 248.9335479736328, 'LowerStretching': 239.52517700195312, 'UpperStretching': 263.5415344238281, 'Talking': 192.51373291015625, 'Walking': 250.4665985107422, 'Gaming': 191.868896484375, 'Gesticuling': 160.73507690429688, 'Reacting': 192.482666015625, 'Patting': 207.89219665527344, 'Greeting': 187.8299560546875}}\n"
     ]
    },
    {
     "name": "stderr",
     "output_type": "stream",
     "text": [
      " 86%|████████▌ | 4601/5352 [11:32<01:59,  6.27it/s]"
     ]
    },
    {
     "name": "stdout",
     "output_type": "stream",
     "text": [
      "{'FullBody': {'All': 184.31529235839844, 'LowerStretching': 170.4066619873047, 'UpperStretching': 195.45904541015625, 'Talking': 146.92117309570312, 'Walking': 188.08526611328125, 'Gaming': 144.58863830566406, 'Gesticuling': 128.7637481689453, 'Reacting': 151.32862854003906, 'Patting': 157.13853454589844, 'Greeting': 144.0577850341797}, 'UpperBody': {'All': 119.77241516113281, 'LowerStretching': 101.21852111816406, 'UpperStretching': 127.59941101074219, 'Talking': 100.22797393798828, 'Walking': 125.5054702758789, 'Gaming': 97.38381958007812, 'Gesticuling': 96.95420837402344, 'Reacting': 110.30335998535156, 'Patting': 106.67204284667969, 'Greeting': 100.09840393066406}, 'LowerBody': {'All': 248.85812377929688, 'LowerStretching': 239.59478759765625, 'UpperStretching': 263.3186950683594, 'Talking': 193.61436462402344, 'Walking': 250.6650390625, 'Gaming': 191.79344177246094, 'Gesticuling': 160.57330322265625, 'Reacting': 192.3538818359375, 'Patting': 207.6050567626953, 'Greeting': 188.01715087890625}}\n"
     ]
    },
    {
     "name": "stderr",
     "output_type": "stream",
     "text": [
      " 90%|████████▉ | 4800/5352 [12:01<01:26,  6.36it/s]"
     ]
    },
    {
     "name": "stdout",
     "output_type": "stream",
     "text": [
      "{'FullBody': {'All': 184.34930419921875, 'LowerStretching': 170.37005615234375, 'UpperStretching': 195.4627685546875, 'Talking': 147.31533813476562, 'Walking': 188.3580780029297, 'Gaming': 144.73500061035156, 'Gesticuling': 128.9287872314453, 'Reacting': 151.28407287597656, 'Patting': 157.22378540039062, 'Greeting': 144.13824462890625}, 'UpperBody': {'All': 119.87413024902344, 'LowerStretching': 101.28585052490234, 'UpperStretching': 127.66255187988281, 'Talking': 100.44596862792969, 'Walking': 125.80439758300781, 'Gaming': 97.7697982788086, 'Gesticuling': 97.10520935058594, 'Reacting': 110.55272674560547, 'Patting': 106.5621109008789, 'Greeting': 100.26558685302734}, 'LowerBody': {'All': 248.82444763183594, 'LowerStretching': 239.4542236328125, 'UpperStretching': 263.26300048828125, 'Talking': 194.18472290039062, 'Walking': 250.91172790527344, 'Gaming': 191.70021057128906, 'Gesticuling': 160.75238037109375, 'Reacting': 192.0154266357422, 'Patting': 207.88546752929688, 'Greeting': 188.01092529296875}}\n"
     ]
    },
    {
     "name": "stderr",
     "output_type": "stream",
     "text": [
      " 93%|█████████▎| 5001/5352 [12:31<00:55,  6.34it/s]"
     ]
    },
    {
     "name": "stdout",
     "output_type": "stream",
     "text": [
      "{'FullBody': {'All': 184.39183044433594, 'LowerStretching': 170.4551239013672, 'UpperStretching': 195.47357177734375, 'Talking': 147.5677947998047, 'Walking': 188.33323669433594, 'Gaming': 144.63134765625, 'Gesticuling': 128.9346160888672, 'Reacting': 151.6158905029297, 'Patting': 157.4581298828125, 'Greeting': 144.17079162597656}, 'UpperBody': {'All': 119.87337493896484, 'LowerStretching': 101.30947875976562, 'UpperStretching': 127.62202453613281, 'Talking': 100.68525695800781, 'Walking': 125.80912780761719, 'Gaming': 97.75785827636719, 'Gesticuling': 96.95166778564453, 'Reacting': 110.8021011352539, 'Patting': 106.71076965332031, 'Greeting': 100.36517333984375}, 'LowerBody': {'All': 248.91024780273438, 'LowerStretching': 239.60079956054688, 'UpperStretching': 263.32513427734375, 'Talking': 194.45030212402344, 'Walking': 250.85733032226562, 'Gaming': 191.50486755371094, 'Gesticuling': 160.9175567626953, 'Reacting': 192.4296875, 'Patting': 208.20547485351562, 'Greeting': 187.97640991210938}}\n"
     ]
    },
    {
     "name": "stderr",
     "output_type": "stream",
     "text": [
      " 97%|█████████▋| 5201/5352 [13:01<00:23,  6.44it/s]"
     ]
    },
    {
     "name": "stdout",
     "output_type": "stream",
     "text": [
      "{'FullBody': {'All': 184.3869171142578, 'LowerStretching': 170.45176696777344, 'UpperStretching': 195.5288543701172, 'Talking': 147.2292022705078, 'Walking': 188.1569061279297, 'Gaming': 144.58355712890625, 'Gesticuling': 128.90830993652344, 'Reacting': 151.4011993408203, 'Patting': 156.9619598388672, 'Greeting': 144.24374389648438}, 'UpperBody': {'All': 119.86474609375, 'LowerStretching': 101.39248657226562, 'UpperStretching': 127.61852264404297, 'Talking': 100.4488754272461, 'Walking': 125.75391387939453, 'Gaming': 97.67443084716797, 'Gesticuling': 96.79244232177734, 'Reacting': 110.5599136352539, 'Patting': 106.41766357421875, 'Greeting': 100.3083267211914}, 'LowerBody': {'All': 248.90904235839844, 'LowerStretching': 239.5110321044922, 'UpperStretching': 263.4391784667969, 'Talking': 194.00953674316406, 'Walking': 250.55990600585938, 'Gaming': 191.4927215576172, 'Gesticuling': 161.024169921875, 'Reacting': 192.24249267578125, 'Patting': 207.50624084472656, 'Greeting': 188.1791534423828}}\n"
     ]
    },
    {
     "name": "stderr",
     "output_type": "stream",
     "text": [
      "100%|██████████| 5352/5352 [13:23<00:00,  6.66it/s]\n",
      "\u001b[94m18:06:15 \u001b[92m[INFO]\u001b[94m Main\u001b[0m: Saving evaluation results...\n",
      "\u001b[94m18:06:15 \u001b[92m[INFO]\u001b[94m Main\u001b[0m: Done.\n",
      "\u001b[94m18:06:15 \u001b[92m[INFO]\u001b[94m Main\u001b[0m: Starting demo...\n",
      "  0%|          | 0/5352 [00:00<?, ?it/s]/opt/conda/lib/python3.10/site-packages/torchvision/transforms/transforms.py:329: UserWarning: Argument 'interpolation' of type int is deprecated since 0.13 and will be removed in 0.15. Please use InterpolationMode enum.\n",
      "  warnings.warn(\n",
      "/opt/conda/lib/python3.10/site-packages/torchvision/transforms/transforms.py:329: UserWarning: Argument 'interpolation' of type int is deprecated since 0.13 and will be removed in 0.15. Please use InterpolationMode enum.\n",
      "  warnings.warn(\n",
      "/opt/conda/lib/python3.10/site-packages/torchvision/transforms/transforms.py:329: UserWarning: Argument 'interpolation' of type int is deprecated since 0.13 and will be removed in 0.15. Please use InterpolationMode enum.\n",
      "  warnings.warn(\n",
      "/opt/conda/lib/python3.10/site-packages/torchvision/transforms/transforms.py:329: UserWarning: Argument 'interpolation' of type int is deprecated since 0.13 and will be removed in 0.15. Please use InterpolationMode enum.\n",
      "  warnings.warn(\n",
      "/opt/conda/lib/python3.10/site-packages/torchvision/transforms/transforms.py:329: UserWarning: Argument 'interpolation' of type int is deprecated since 0.13 and will be removed in 0.15. Please use InterpolationMode enum.\n",
      "  warnings.warn(\n",
      "/opt/conda/lib/python3.10/site-packages/torchvision/transforms/transforms.py:329: UserWarning: Argument 'interpolation' of type int is deprecated since 0.13 and will be removed in 0.15. Please use InterpolationMode enum.\n",
      "  warnings.warn(\n",
      "/opt/conda/lib/python3.10/site-packages/torchvision/transforms/transforms.py:329: UserWarning: Argument 'interpolation' of type int is deprecated since 0.13 and will be removed in 0.15. Please use InterpolationMode enum.\n",
      "  warnings.warn(\n",
      "/opt/conda/lib/python3.10/site-packages/torchvision/transforms/transforms.py:329: UserWarning: Argument 'interpolation' of type int is deprecated since 0.13 and will be removed in 0.15. Please use InterpolationMode enum.\n",
      "  warnings.warn(\n",
      "/opt/conda/lib/python3.10/site-packages/torchvision/transforms/transforms.py:329: UserWarning: Argument 'interpolation' of type int is deprecated since 0.13 and will be removed in 0.15. Please use InterpolationMode enum.\n",
      "  warnings.warn(\n",
      "/opt/conda/lib/python3.10/site-packages/torchvision/transforms/transforms.py:329: UserWarning: Argument 'interpolation' of type int is deprecated since 0.13 and will be removed in 0.15. Please use InterpolationMode enum.\n",
      "  warnings.warn(\n",
      "/opt/conda/lib/python3.10/site-packages/torchvision/transforms/transforms.py:329: UserWarning: Argument 'interpolation' of type int is deprecated since 0.13 and will be removed in 0.15. Please use InterpolationMode enum.\n",
      "  warnings.warn(\n",
      "/opt/conda/lib/python3.10/site-packages/torchvision/transforms/transforms.py:329: UserWarning: Argument 'interpolation' of type int is deprecated since 0.13 and will be removed in 0.15. Please use InterpolationMode enum.\n",
      "  warnings.warn(\n",
      "/opt/conda/lib/python3.10/site-packages/torchvision/transforms/transforms.py:329: UserWarning: Argument 'interpolation' of type int is deprecated since 0.13 and will be removed in 0.15. Please use InterpolationMode enum.\n",
      "  warnings.warn(\n",
      "/opt/conda/lib/python3.10/site-packages/torchvision/transforms/transforms.py:329: UserWarning: Argument 'interpolation' of type int is deprecated since 0.13 and will be removed in 0.15. Please use InterpolationMode enum.\n",
      "  warnings.warn(\n",
      "/opt/conda/lib/python3.10/site-packages/torchvision/transforms/transforms.py:329: UserWarning: Argument 'interpolation' of type int is deprecated since 0.13 and will be removed in 0.15. Please use InterpolationMode enum.\n",
      "  warnings.warn(\n",
      "/opt/conda/lib/python3.10/site-packages/torchvision/transforms/transforms.py:329: UserWarning: Argument 'interpolation' of type int is deprecated since 0.13 and will be removed in 0.15. Please use InterpolationMode enum.\n",
      "  warnings.warn(\n",
      "/opt/conda/lib/python3.10/site-packages/torchvision/transforms/transforms.py:329: UserWarning: Argument 'interpolation' of type int is deprecated since 0.13 and will be removed in 0.15. Please use InterpolationMode enum.\n",
      "  warnings.warn(\n",
      "/opt/conda/lib/python3.10/site-packages/torchvision/transforms/transforms.py:329: UserWarning: Argument 'interpolation' of type int is deprecated since 0.13 and will be removed in 0.15. Please use InterpolationMode enum.\n",
      "  warnings.warn(\n",
      "/opt/conda/lib/python3.10/site-packages/torchvision/transforms/transforms.py:329: UserWarning: Argument 'interpolation' of type int is deprecated since 0.13 and will be removed in 0.15. Please use InterpolationMode enum.\n",
      "  warnings.warn(\n",
      "/opt/conda/lib/python3.10/site-packages/torchvision/transforms/transforms.py:329: UserWarning: Argument 'interpolation' of type int is deprecated since 0.13 and will be removed in 0.15. Please use InterpolationMode enum.\n",
      "  warnings.warn(\n",
      "/opt/conda/lib/python3.10/site-packages/torchvision/transforms/transforms.py:329: UserWarning: Argument 'interpolation' of type int is deprecated since 0.13 and will be removed in 0.15. Please use InterpolationMode enum.\n",
      "  warnings.warn(\n",
      "/opt/conda/lib/python3.10/site-packages/torchvision/transforms/transforms.py:329: UserWarning: Argument 'interpolation' of type int is deprecated since 0.13 and will be removed in 0.15. Please use InterpolationMode enum.\n",
      "  warnings.warn(\n",
      "/opt/conda/lib/python3.10/site-packages/torchvision/transforms/transforms.py:329: UserWarning: Argument 'interpolation' of type int is deprecated since 0.13 and will be removed in 0.15. Please use InterpolationMode enum.\n",
      "  warnings.warn(\n",
      "/opt/conda/lib/python3.10/site-packages/torchvision/transforms/transforms.py:329: UserWarning: Argument 'interpolation' of type int is deprecated since 0.13 and will be removed in 0.15. Please use InterpolationMode enum.\n",
      "  warnings.warn(\n",
      "  4%|▍         | 201/5352 [00:36<12:32,  6.84it/s]"
     ]
    },
    {
     "name": "stdout",
     "output_type": "stream",
     "text": [
      "{'FullBody': {'All': 140.95352172851562, 'Walking': 147.41360473632812, 'UpperStretching': 143.6755828857422, 'Patting': 123.5429458618164, 'Gesticuling': 101.67417907714844, 'LowerStretching': 146.76637268066406, 'Reacting': 110.86113739013672, 'Talking': 102.17257690429688, 'Greeting': 107.33731842041016, 'Gaming': 130.08056640625}, 'UpperBody': {'All': 92.7793960571289, 'Walking': 92.2992172241211, 'UpperStretching': 100.78559875488281, 'Patting': 84.96954345703125, 'Gesticuling': 67.18737030029297, 'LowerStretching': 77.84092712402344, 'Reacting': 76.65536499023438, 'Talking': 77.09370422363281, 'Greeting': 74.66374206542969, 'Gaming': 78.15380096435547}, 'LowerBody': {'All': 189.1276397705078, 'Walking': 202.52801513671875, 'UpperStretching': 186.56558227539062, 'Patting': 162.11634826660156, 'Gesticuling': 136.16094970703125, 'LowerStretching': 215.6918487548828, 'Reacting': 145.06692504882812, 'Talking': 127.2514419555664, 'Greeting': 140.01089477539062, 'Gaming': 182.00730895996094}}\n"
     ]
    },
    {
     "name": "stderr",
     "output_type": "stream",
     "text": [
      "  7%|▋         | 401/5352 [01:05<11:46,  7.01it/s]"
     ]
    },
    {
     "name": "stdout",
     "output_type": "stream",
     "text": [
      "{'FullBody': {'All': 141.20248413085938, 'Walking': 144.88995361328125, 'UpperStretching': 144.55015563964844, 'Patting': 132.76548767089844, 'Gesticuling': 106.40923309326172, 'LowerStretching': 144.22265625, 'Reacting': 112.4462890625, 'Talking': 104.00450897216797, 'Greeting': 108.1760482788086, 'Gaming': 127.47554779052734}, 'UpperBody': {'All': 93.27888488769531, 'Walking': 92.1932373046875, 'UpperStretching': 101.10023498535156, 'Patting': 88.04115295410156, 'Gesticuling': 72.64269256591797, 'LowerStretching': 77.2941665649414, 'Reacting': 78.06329345703125, 'Talking': 78.57669830322266, 'Greeting': 76.18616485595703, 'Gaming': 76.99594116210938}, 'LowerBody': {'All': 189.1260528564453, 'Walking': 197.58668518066406, 'UpperStretching': 188.00009155273438, 'Patting': 177.48983764648438, 'Gesticuling': 140.17575073242188, 'LowerStretching': 211.1511688232422, 'Reacting': 146.8292694091797, 'Talking': 129.43231201171875, 'Greeting': 140.16592407226562, 'Gaming': 177.95518493652344}}\n"
     ]
    },
    {
     "name": "stderr",
     "output_type": "stream",
     "text": [
      " 11%|█         | 600/5352 [01:35<11:40,  6.78it/s]"
     ]
    },
    {
     "name": "stdout",
     "output_type": "stream",
     "text": [
      "{'FullBody': {'All': 140.26243591308594, 'Walking': 143.19970703125, 'UpperStretching': 143.50582885742188, 'Patting': 131.90151977539062, 'Gesticuling': 108.3427734375, 'LowerStretching': 143.3048095703125, 'Reacting': 115.6719970703125, 'Talking': 107.70865631103516, 'Greeting': 108.50186920166016, 'Gaming': 125.44651794433594}, 'UpperBody': {'All': 92.61551666259766, 'Walking': 91.0551986694336, 'UpperStretching': 100.47789764404297, 'Patting': 87.87480163574219, 'Gesticuling': 73.97782897949219, 'LowerStretching': 76.57088470458984, 'Reacting': 80.26809692382812, 'Talking': 80.37820434570312, 'Greeting': 75.65277099609375, 'Gaming': 75.8748550415039}, 'LowerBody': {'All': 187.90936279296875, 'Walking': 195.34423828125, 'UpperStretching': 186.5337677001953, 'Patting': 175.9282684326172, 'Gesticuling': 142.70773315429688, 'LowerStretching': 210.03872680664062, 'Reacting': 151.075927734375, 'Talking': 135.03909301757812, 'Greeting': 141.35096740722656, 'Gaming': 175.01817321777344}}\n"
     ]
    },
    {
     "name": "stderr",
     "output_type": "stream",
     "text": [
      " 15%|█▍        | 801/5352 [02:04<11:27,  6.62it/s]"
     ]
    },
    {
     "name": "stdout",
     "output_type": "stream",
     "text": [
      "{'FullBody': {'All': 140.3507080078125, 'Walking': 142.69801330566406, 'UpperStretching': 143.5336151123047, 'Patting': 135.02395629882812, 'Gesticuling': 108.02012634277344, 'LowerStretching': 143.22215270996094, 'Reacting': 116.39851379394531, 'Talking': 107.29435729980469, 'Greeting': 107.63135528564453, 'Gaming': 124.98467254638672}, 'UpperBody': {'All': 92.62040710449219, 'Walking': 91.28871154785156, 'UpperStretching': 100.32975006103516, 'Patting': 87.86258697509766, 'Gesticuling': 72.95299530029297, 'LowerStretching': 76.75797271728516, 'Reacting': 80.41010284423828, 'Talking': 80.35274505615234, 'Greeting': 75.17329406738281, 'Gaming': 75.76294708251953}, 'LowerBody': {'All': 188.0810089111328, 'Walking': 194.1072998046875, 'UpperStretching': 186.73748779296875, 'Patting': 182.18536376953125, 'Gesticuling': 143.08724975585938, 'LowerStretching': 209.68634033203125, 'Reacting': 152.38693237304688, 'Talking': 134.23594665527344, 'Greeting': 140.08941650390625, 'Gaming': 174.20639038085938}}\n"
     ]
    },
    {
     "name": "stderr",
     "output_type": "stream",
     "text": [
      " 19%|█▊        | 1001/5352 [02:34<10:22,  6.99it/s]"
     ]
    },
    {
     "name": "stdout",
     "output_type": "stream",
     "text": [
      "{'FullBody': {'All': 140.73178100585938, 'Walking': 143.88612365722656, 'UpperStretching': 143.65078735351562, 'Patting': 132.527587890625, 'Gesticuling': 107.38070678710938, 'LowerStretching': 144.70401000976562, 'Reacting': 117.97222137451172, 'Talking': 106.19661712646484, 'Greeting': 106.39550018310547, 'Gaming': 124.09146881103516}, 'UpperBody': {'All': 92.61640930175781, 'Walking': 91.87266540527344, 'UpperStretching': 100.12776184082031, 'Patting': 86.57925415039062, 'Gesticuling': 72.71321868896484, 'LowerStretching': 77.3408432006836, 'Reacting': 81.27192687988281, 'Talking': 78.81145477294922, 'Greeting': 74.34898376464844, 'Gaming': 74.4013442993164}, 'LowerBody': {'All': 188.84715270996094, 'Walking': 195.89956665039062, 'UpperStretching': 187.17379760742188, 'Patting': 178.47592163085938, 'Gesticuling': 142.0481719970703, 'LowerStretching': 212.067138671875, 'Reacting': 154.67250061035156, 'Talking': 133.58177185058594, 'Greeting': 138.4420166015625, 'Gaming': 173.7816162109375}}\n"
     ]
    },
    {
     "name": "stderr",
     "output_type": "stream",
     "text": [
      " 22%|██▏       | 1201/5352 [03:03<09:52,  7.01it/s]"
     ]
    },
    {
     "name": "stdout",
     "output_type": "stream",
     "text": [
      "{'FullBody': {'All': 140.66688537597656, 'Walking': 143.30572509765625, 'UpperStretching': 143.62742614746094, 'Patting': 131.3715362548828, 'Gesticuling': 107.39314270019531, 'LowerStretching': 144.55816650390625, 'Reacting': 117.15625, 'Talking': 104.87704467773438, 'Greeting': 106.6319580078125, 'Gaming': 126.19597625732422}, 'UpperBody': {'All': 92.50863647460938, 'Walking': 91.2821273803711, 'UpperStretching': 100.03607940673828, 'Patting': 86.13359832763672, 'Gesticuling': 72.2424545288086, 'LowerStretching': 77.3216552734375, 'Reacting': 80.74461364746094, 'Talking': 77.8228988647461, 'Greeting': 74.21481323242188, 'Gaming': 74.78861999511719}, 'LowerBody': {'All': 188.8251495361328, 'Walking': 195.32931518554688, 'UpperStretching': 187.21875, 'Patting': 176.60946655273438, 'Gesticuling': 142.54383850097656, 'LowerStretching': 211.79466247558594, 'Reacting': 153.5679168701172, 'Talking': 131.9311981201172, 'Greeting': 139.04908752441406, 'Gaming': 177.6033477783203}}\n"
     ]
    },
    {
     "name": "stderr",
     "output_type": "stream",
     "text": [
      " 26%|██▌       | 1401/5352 [03:33<09:44,  6.76it/s]"
     ]
    },
    {
     "name": "stdout",
     "output_type": "stream",
     "text": [
      "{'FullBody': {'All': 140.8493194580078, 'Walking': 144.66949462890625, 'UpperStretching': 143.58709716796875, 'Patting': 132.7068634033203, 'Gesticuling': 106.74369812011719, 'LowerStretching': 144.72865295410156, 'Reacting': 116.16594696044922, 'Talking': 104.36009979248047, 'Greeting': 107.06795501708984, 'Gaming': 128.26173400878906}, 'UpperBody': {'All': 92.59893035888672, 'Walking': 92.13124084472656, 'UpperStretching': 100.02483367919922, 'Patting': 86.54424285888672, 'Gesticuling': 71.71753692626953, 'LowerStretching': 77.48859405517578, 'Reacting': 79.93769073486328, 'Talking': 76.69438934326172, 'Greeting': 74.31999969482422, 'Gaming': 75.60142517089844}, 'LowerBody': {'All': 189.0997314453125, 'Walking': 197.20777893066406, 'UpperStretching': 187.1493377685547, 'Patting': 178.8695068359375, 'Gesticuling': 141.7698516845703, 'LowerStretching': 211.9687042236328, 'Reacting': 152.39419555664062, 'Talking': 132.0258026123047, 'Greeting': 139.81591796875, 'Gaming': 180.9220428466797}}\n"
     ]
    },
    {
     "name": "stderr",
     "output_type": "stream",
     "text": [
      " 30%|██▉       | 1601/5352 [04:03<09:01,  6.93it/s]"
     ]
    },
    {
     "name": "stdout",
     "output_type": "stream",
     "text": [
      "{'FullBody': {'All': 140.89395141601562, 'Walking': 144.53195190429688, 'UpperStretching': 143.63629150390625, 'Patting': 133.71180725097656, 'Gesticuling': 107.38066101074219, 'LowerStretching': 144.7295379638672, 'Reacting': 116.05037689208984, 'Talking': 103.34968566894531, 'Greeting': 107.12351989746094, 'Gaming': 128.9839630126953}, 'UpperBody': {'All': 92.64984130859375, 'Walking': 92.36918640136719, 'UpperStretching': 100.03955078125, 'Patting': 86.7118148803711, 'Gesticuling': 72.01168823242188, 'LowerStretching': 77.28730773925781, 'Reacting': 80.1141128540039, 'Talking': 75.49766540527344, 'Greeting': 74.60387420654297, 'Gaming': 75.60811614990234}, 'LowerBody': {'All': 189.13804626464844, 'Walking': 196.69471740722656, 'UpperStretching': 187.2330322265625, 'Patting': 180.71182250976562, 'Gesticuling': 142.74964904785156, 'LowerStretching': 212.1717987060547, 'Reacting': 151.98663330078125, 'Talking': 131.2017059326172, 'Greeting': 139.64317321777344, 'Gaming': 182.3598175048828}}\n"
     ]
    },
    {
     "name": "stderr",
     "output_type": "stream",
     "text": [
      " 34%|███▎      | 1800/5352 [04:32<08:41,  6.82it/s]"
     ]
    },
    {
     "name": "stdout",
     "output_type": "stream",
     "text": [
      "{'FullBody': {'All': 140.8281707763672, 'Walking': 144.8223876953125, 'UpperStretching': 143.5324249267578, 'Patting': 133.28875732421875, 'Gesticuling': 107.37979125976562, 'LowerStretching': 144.59872436523438, 'Reacting': 116.35794067382812, 'Talking': 103.10215759277344, 'Greeting': 107.26858520507812, 'Gaming': 128.30426025390625}, 'UpperBody': {'All': 92.61653137207031, 'Walking': 92.44497680664062, 'UpperStretching': 100.07196807861328, 'Patting': 86.3211669921875, 'Gesticuling': 71.44630432128906, 'LowerStretching': 77.17039489746094, 'Reacting': 80.29658508300781, 'Talking': 75.09013366699219, 'Greeting': 74.60884094238281, 'Gaming': 75.25745391845703}, 'LowerBody': {'All': 189.03982543945312, 'Walking': 197.19979858398438, 'UpperStretching': 186.99285888671875, 'Patting': 180.25633239746094, 'Gesticuling': 143.31326293945312, 'LowerStretching': 212.02706909179688, 'Reacting': 152.41929626464844, 'Talking': 131.11419677734375, 'Greeting': 139.92831420898438, 'Gaming': 181.35105895996094}}\n"
     ]
    },
    {
     "name": "stderr",
     "output_type": "stream",
     "text": [
      " 37%|███▋      | 2001/5352 [05:02<08:17,  6.73it/s]"
     ]
    },
    {
     "name": "stdout",
     "output_type": "stream",
     "text": [
      "{'FullBody': {'All': 140.79092407226562, 'Walking': 144.94241333007812, 'UpperStretching': 143.55892944335938, 'Patting': 134.81790161132812, 'Gesticuling': 107.65690612792969, 'LowerStretching': 144.12567138671875, 'Reacting': 116.0520248413086, 'Talking': 103.72391510009766, 'Greeting': 106.84274291992188, 'Gaming': 128.71417236328125}, 'UpperBody': {'All': 92.62628936767578, 'Walking': 92.35920715332031, 'UpperStretching': 100.2015151977539, 'Patting': 87.2509536743164, 'Gesticuling': 71.8492202758789, 'LowerStretching': 76.93156433105469, 'Reacting': 79.71278381347656, 'Talking': 74.95116424560547, 'Greeting': 74.52179718017578, 'Gaming': 75.19140625}, 'LowerBody': {'All': 188.95556640625, 'Walking': 197.52560424804688, 'UpperStretching': 186.9163360595703, 'Patting': 182.38485717773438, 'Gesticuling': 143.46458435058594, 'LowerStretching': 211.31976318359375, 'Reacting': 152.39126586914062, 'Talking': 132.4966583251953, 'Greeting': 139.16368103027344, 'Gaming': 182.23690795898438}}\n"
     ]
    },
    {
     "name": "stderr",
     "output_type": "stream",
     "text": [
      " 41%|████      | 2201/5352 [05:32<07:47,  6.75it/s]"
     ]
    },
    {
     "name": "stdout",
     "output_type": "stream",
     "text": [
      "{'FullBody': {'All': 140.66754150390625, 'Walking': 144.6894989013672, 'UpperStretching': 143.47073364257812, 'Patting': 133.7267608642578, 'Gesticuling': 108.2025375366211, 'LowerStretching': 143.92054748535156, 'Reacting': 117.23886108398438, 'Talking': 104.01204681396484, 'Greeting': 106.26194763183594, 'Gaming': 127.7010726928711}, 'UpperBody': {'All': 92.5609130859375, 'Walking': 92.06454467773438, 'UpperStretching': 100.20155334472656, 'Patting': 86.1949462890625, 'Gesticuling': 72.1797866821289, 'LowerStretching': 76.78813934326172, 'Reacting': 80.44834899902344, 'Talking': 75.45576477050781, 'Greeting': 74.05525970458984, 'Gaming': 74.78348541259766}, 'LowerBody': {'All': 188.774169921875, 'Walking': 197.31446838378906, 'UpperStretching': 186.73988342285156, 'Patting': 181.25857543945312, 'Gesticuling': 144.2252655029297, 'LowerStretching': 211.05294799804688, 'Reacting': 154.0293426513672, 'Talking': 132.56832885742188, 'Greeting': 138.4686279296875, 'Gaming': 180.61863708496094}}\n"
     ]
    },
    {
     "name": "stderr",
     "output_type": "stream",
     "text": [
      " 45%|████▍     | 2400/5352 [06:01<07:16,  6.77it/s]"
     ]
    },
    {
     "name": "stdout",
     "output_type": "stream",
     "text": [
      "{'FullBody': {'All': 140.57167053222656, 'Walking': 144.24346923828125, 'UpperStretching': 143.43222045898438, 'Patting': 133.31495666503906, 'Gesticuling': 107.9139175415039, 'LowerStretching': 144.0218963623047, 'Reacting': 117.1524658203125, 'Talking': 103.60393524169922, 'Greeting': 106.54602813720703, 'Gaming': 127.82958984375}, 'UpperBody': {'All': 92.45220184326172, 'Walking': 92.04407501220703, 'UpperStretching': 100.0622787475586, 'Patting': 86.1363754272461, 'Gesticuling': 72.1865463256836, 'LowerStretching': 76.89461517333984, 'Reacting': 80.38701629638672, 'Talking': 75.153564453125, 'Greeting': 74.3229751586914, 'Gaming': 74.88856506347656}, 'LowerBody': {'All': 188.69113159179688, 'Walking': 196.44285583496094, 'UpperStretching': 186.80215454101562, 'Patting': 180.49354553222656, 'Gesticuling': 143.6412811279297, 'LowerStretching': 211.14920043945312, 'Reacting': 153.9179229736328, 'Talking': 132.0543212890625, 'Greeting': 138.7690887451172, 'Gaming': 180.7706298828125}}\n"
     ]
    },
    {
     "name": "stderr",
     "output_type": "stream",
     "text": [
      " 49%|████▊     | 2601/5352 [06:31<06:57,  6.59it/s]"
     ]
    },
    {
     "name": "stdout",
     "output_type": "stream",
     "text": [
      "{'FullBody': {'All': 140.62257385253906, 'Walking': 144.19468688964844, 'UpperStretching': 143.56204223632812, 'Patting': 133.40313720703125, 'Gesticuling': 108.1197738647461, 'LowerStretching': 143.8097381591797, 'Reacting': 117.23963928222656, 'Talking': 103.853271484375, 'Greeting': 106.82305908203125, 'Gaming': 127.58049774169922}, 'UpperBody': {'All': 92.4690933227539, 'Walking': 91.81380462646484, 'UpperStretching': 100.15632629394531, 'Patting': 86.12603759765625, 'Gesticuling': 72.27362060546875, 'LowerStretching': 76.63687896728516, 'Reacting': 80.8921890258789, 'Talking': 75.60808563232422, 'Greeting': 74.50332641601562, 'Gaming': 75.03495788574219}, 'LowerBody': {'All': 188.7760467529297, 'Walking': 196.57557678222656, 'UpperStretching': 186.96774291992188, 'Patting': 180.68023681640625, 'Gesticuling': 143.96591186523438, 'LowerStretching': 210.9826202392578, 'Reacting': 153.58709716796875, 'Talking': 132.09844970703125, 'Greeting': 139.14280700683594, 'Gaming': 180.12603759765625}}\n"
     ]
    },
    {
     "name": "stderr",
     "output_type": "stream",
     "text": [
      " 52%|█████▏    | 2801/5352 [07:01<06:19,  6.72it/s]"
     ]
    },
    {
     "name": "stdout",
     "output_type": "stream",
     "text": [
      "{'FullBody': {'All': 140.6924285888672, 'Walking': 144.3128204345703, 'UpperStretching': 143.7043914794922, 'Patting': 132.68905639648438, 'Gesticuling': 107.9832763671875, 'LowerStretching': 143.79100036621094, 'Reacting': 117.24809265136719, 'Talking': 103.6915283203125, 'Greeting': 107.01278686523438, 'Gaming': 127.16532897949219}, 'UpperBody': {'All': 92.45680236816406, 'Walking': 91.94083404541016, 'UpperStretching': 100.14026641845703, 'Patting': 85.67345428466797, 'Gesticuling': 72.10578155517578, 'LowerStretching': 76.64392852783203, 'Reacting': 80.7886734008789, 'Talking': 75.37294006347656, 'Greeting': 74.43000793457031, 'Gaming': 74.9858169555664}, 'LowerBody': {'All': 188.92803955078125, 'Walking': 196.684814453125, 'UpperStretching': 187.2685089111328, 'Patting': 179.70468139648438, 'Gesticuling': 143.8607635498047, 'LowerStretching': 210.93807983398438, 'Reacting': 153.70751953125, 'Talking': 132.01014709472656, 'Greeting': 139.5955352783203, 'Gaming': 179.34483337402344}}\n"
     ]
    },
    {
     "name": "stderr",
     "output_type": "stream",
     "text": [
      " 56%|█████▌    | 3001/5352 [07:31<05:48,  6.74it/s]"
     ]
    },
    {
     "name": "stdout",
     "output_type": "stream",
     "text": [
      "{'FullBody': {'All': 140.72650146484375, 'Walking': 144.36399841308594, 'UpperStretching': 143.76763916015625, 'Patting': 131.50601196289062, 'Gesticuling': 108.27375793457031, 'LowerStretching': 143.82644653320312, 'Reacting': 117.08935546875, 'Talking': 103.63017272949219, 'Greeting': 107.63174438476562, 'Gaming': 127.22168731689453}, 'UpperBody': {'All': 92.5107421875, 'Walking': 91.99166107177734, 'UpperStretching': 100.23104858398438, 'Patting': 85.06753540039062, 'Gesticuling': 72.24666595458984, 'LowerStretching': 76.63472747802734, 'Reacting': 80.82057189941406, 'Talking': 74.97261810302734, 'Greeting': 75.05162811279297, 'Gaming': 75.09309387207031}, 'LowerBody': {'All': 188.94224548339844, 'Walking': 196.736328125, 'UpperStretching': 187.3042449951172, 'Patting': 177.94448852539062, 'Gesticuling': 144.3008575439453, 'LowerStretching': 211.01817321777344, 'Reacting': 153.35813903808594, 'Talking': 132.2877197265625, 'Greeting': 140.21185302734375, 'Gaming': 179.3502655029297}}\n"
     ]
    },
    {
     "name": "stderr",
     "output_type": "stream",
     "text": [
      " 60%|█████▉    | 3201/5352 [08:01<05:26,  6.58it/s]"
     ]
    },
    {
     "name": "stdout",
     "output_type": "stream",
     "text": [
      "{'FullBody': {'All': 140.5891876220703, 'Walking': 144.29025268554688, 'UpperStretching': 143.5546417236328, 'Patting': 130.6939239501953, 'Gesticuling': 107.99817657470703, 'LowerStretching': 143.90516662597656, 'Reacting': 116.76166534423828, 'Talking': 103.62020111083984, 'Greeting': 107.78624725341797, 'Gaming': 127.16387176513672}, 'UpperBody': {'All': 92.42828369140625, 'Walking': 91.84127807617188, 'UpperStretching': 100.12728118896484, 'Patting': 84.4765853881836, 'Gesticuling': 72.14460754394531, 'LowerStretching': 76.63691711425781, 'Reacting': 80.65766906738281, 'Talking': 75.1024169921875, 'Greeting': 75.15812683105469, 'Gaming': 75.01326751708984}, 'LowerBody': {'All': 188.7500762939453, 'Walking': 196.7392120361328, 'UpperStretching': 186.98199462890625, 'Patting': 176.91127014160156, 'Gesticuling': 143.85174560546875, 'LowerStretching': 211.17343139648438, 'Reacting': 152.86563110351562, 'Talking': 132.1379852294922, 'Greeting': 140.41436767578125, 'Gaming': 179.31448364257812}}\n"
     ]
    },
    {
     "name": "stderr",
     "output_type": "stream",
     "text": [
      " 64%|██████▎   | 3401/5352 [08:31<04:52,  6.67it/s]"
     ]
    },
    {
     "name": "stdout",
     "output_type": "stream",
     "text": [
      "{'FullBody': {'All': 140.48663330078125, 'Walking': 143.9451446533203, 'UpperStretching': 143.4307403564453, 'Patting': 130.93905639648438, 'Gesticuling': 107.9744873046875, 'LowerStretching': 143.9046173095703, 'Reacting': 116.67805480957031, 'Talking': 104.13965606689453, 'Greeting': 108.02242279052734, 'Gaming': 127.28620910644531}, 'UpperBody': {'All': 92.37529754638672, 'Walking': 91.60565185546875, 'UpperStretching': 100.03963470458984, 'Patting': 84.79586029052734, 'Gesticuling': 72.39366149902344, 'LowerStretching': 76.64338684082031, 'Reacting': 80.82112884521484, 'Talking': 75.7121810913086, 'Greeting': 75.15194702148438, 'Gaming': 74.9408950805664}, 'LowerBody': {'All': 188.5979461669922, 'Walking': 196.2846221923828, 'UpperStretching': 186.82183837890625, 'Patting': 177.08224487304688, 'Gesticuling': 143.5552978515625, 'LowerStretching': 211.16586303710938, 'Reacting': 152.5349884033203, 'Talking': 132.567138671875, 'Greeting': 140.8928985595703, 'Gaming': 179.6315155029297}}\n"
     ]
    },
    {
     "name": "stderr",
     "output_type": "stream",
     "text": [
      " 67%|██████▋   | 3600/5352 [09:00<04:27,  6.56it/s]"
     ]
    },
    {
     "name": "stdout",
     "output_type": "stream",
     "text": [
      "{'FullBody': {'All': 140.4739532470703, 'Walking': 143.6886444091797, 'UpperStretching': 143.45860290527344, 'Patting': 130.71009826660156, 'Gesticuling': 108.0544204711914, 'LowerStretching': 143.99041748046875, 'Reacting': 116.39808654785156, 'Talking': 104.11976623535156, 'Greeting': 107.76962280273438, 'Gaming': 127.55638885498047}, 'UpperBody': {'All': 92.31016540527344, 'Walking': 91.4741439819336, 'UpperStretching': 100.01933288574219, 'Patting': 84.89875030517578, 'Gesticuling': 72.40526580810547, 'LowerStretching': 76.65023040771484, 'Reacting': 80.5307388305664, 'Talking': 75.60472869873047, 'Greeting': 75.22662353515625, 'Gaming': 74.87157440185547}, 'LowerBody': {'All': 188.6377410888672, 'Walking': 195.9031524658203, 'UpperStretching': 186.89788818359375, 'Patting': 176.52142333984375, 'Gesticuling': 143.7035675048828, 'LowerStretching': 211.33062744140625, 'Reacting': 152.2654266357422, 'Talking': 132.6348114013672, 'Greeting': 140.31259155273438, 'Gaming': 180.24119567871094}}\n"
     ]
    },
    {
     "name": "stderr",
     "output_type": "stream",
     "text": [
      " 71%|███████   | 3801/5352 [09:30<03:58,  6.51it/s]"
     ]
    },
    {
     "name": "stdout",
     "output_type": "stream",
     "text": [
      "{'FullBody': {'All': 140.4702606201172, 'Walking': 143.41966247558594, 'UpperStretching': 143.50637817382812, 'Patting': 130.86390686035156, 'Gesticuling': 107.80410766601562, 'LowerStretching': 143.9170684814453, 'Reacting': 116.71244049072266, 'Talking': 104.58024597167969, 'Greeting': 107.32150268554688, 'Gaming': 127.74896240234375}, 'UpperBody': {'All': 92.29022979736328, 'Walking': 91.32978820800781, 'UpperStretching': 100.00218200683594, 'Patting': 85.36042022705078, 'Gesticuling': 72.26101684570312, 'LowerStretching': 76.61167907714844, 'Reacting': 80.74958038330078, 'Talking': 75.8730239868164, 'Greeting': 74.91596984863281, 'Gaming': 75.04855346679688}, 'LowerBody': {'All': 188.6502685546875, 'Walking': 195.50955200195312, 'UpperStretching': 187.01060485839844, 'Patting': 176.3673858642578, 'Gesticuling': 143.34718322753906, 'LowerStretching': 211.2224578857422, 'Reacting': 152.67529296875, 'Talking': 133.28746032714844, 'Greeting': 139.72702026367188, 'Gaming': 180.44937133789062}}\n"
     ]
    },
    {
     "name": "stderr",
     "output_type": "stream",
     "text": [
      " 75%|███████▍  | 4001/5352 [10:00<03:22,  6.67it/s]"
     ]
    },
    {
     "name": "stdout",
     "output_type": "stream",
     "text": [
      "{'FullBody': {'All': 140.4218292236328, 'Walking': 143.38084411621094, 'UpperStretching': 143.44302368164062, 'Patting': 131.08848571777344, 'Gesticuling': 107.97516632080078, 'LowerStretching': 143.86083984375, 'Reacting': 116.73971557617188, 'Talking': 104.57157135009766, 'Greeting': 107.0933609008789, 'Gaming': 127.43744659423828}, 'UpperBody': {'All': 92.28485870361328, 'Walking': 91.22785186767578, 'UpperStretching': 100.03328704833984, 'Patting': 85.48922729492188, 'Gesticuling': 72.4413833618164, 'LowerStretching': 76.57060241699219, 'Reacting': 80.84872436523438, 'Talking': 76.08016204833984, 'Greeting': 74.62832641601562, 'Gaming': 74.96748352050781}, 'LowerBody': {'All': 188.5587615966797, 'Walking': 195.53382873535156, 'UpperStretching': 186.85275268554688, 'Patting': 176.68772888183594, 'Gesticuling': 143.5089569091797, 'LowerStretching': 211.1510772705078, 'Reacting': 152.63070678710938, 'Talking': 133.06297302246094, 'Greeting': 139.5583953857422, 'Gaming': 179.90744018554688}}\n"
     ]
    },
    {
     "name": "stderr",
     "output_type": "stream",
     "text": [
      " 78%|███████▊  | 4200/5352 [10:30<03:03,  6.27it/s]"
     ]
    },
    {
     "name": "stdout",
     "output_type": "stream",
     "text": [
      "{'FullBody': {'All': 140.4103240966797, 'Walking': 143.33921813964844, 'UpperStretching': 143.49269104003906, 'Patting': 130.7657928466797, 'Gesticuling': 107.68214416503906, 'LowerStretching': 143.82730102539062, 'Reacting': 116.56389617919922, 'Talking': 104.529052734375, 'Greeting': 106.65132141113281, 'Gaming': 127.6172103881836}, 'UpperBody': {'All': 92.26737976074219, 'Walking': 91.1370849609375, 'UpperStretching': 100.04782104492188, 'Patting': 85.44181823730469, 'Gesticuling': 72.14691925048828, 'LowerStretching': 76.51026153564453, 'Reacting': 80.9638671875, 'Talking': 76.06410217285156, 'Greeting': 74.3814697265625, 'Gaming': 74.94834899902344}, 'LowerBody': {'All': 188.55325317382812, 'Walking': 195.54135131835938, 'UpperStretching': 186.93756103515625, 'Patting': 176.0897674560547, 'Gesticuling': 143.21737670898438, 'LowerStretching': 211.14431762695312, 'Reacting': 152.1639404296875, 'Talking': 132.99398803710938, 'Greeting': 138.92115783691406, 'Gaming': 180.2860565185547}}\n"
     ]
    },
    {
     "name": "stderr",
     "output_type": "stream",
     "text": [
      " 82%|████████▏ | 4401/5352 [11:00<02:34,  6.16it/s]"
     ]
    },
    {
     "name": "stdout",
     "output_type": "stream",
     "text": [
      "{'FullBody': {'All': 140.4090118408203, 'Walking': 143.19366455078125, 'UpperStretching': 143.5556640625, 'Patting': 130.25454711914062, 'Gesticuling': 107.79725646972656, 'LowerStretching': 143.8196563720703, 'Reacting': 116.62252807617188, 'Talking': 104.79454040527344, 'Greeting': 106.47825622558594, 'Gaming': 127.39514923095703}, 'UpperBody': {'All': 92.2708511352539, 'Walking': 91.01361846923828, 'UpperStretching': 100.09088134765625, 'Patting': 85.1475601196289, 'Gesticuling': 72.34562683105469, 'LowerStretching': 76.53012084960938, 'Reacting': 80.98526000976562, 'Talking': 75.94181823730469, 'Greeting': 74.21380615234375, 'Gaming': 74.7377700805664}, 'LowerBody': {'All': 188.54718017578125, 'Walking': 195.3737335205078, 'UpperStretching': 187.02044677734375, 'Patting': 175.36154174804688, 'Gesticuling': 143.24888610839844, 'LowerStretching': 211.1092071533203, 'Reacting': 152.259765625, 'Talking': 133.6472625732422, 'Greeting': 138.74273681640625, 'Gaming': 180.0525360107422}}\n"
     ]
    },
    {
     "name": "stderr",
     "output_type": "stream",
     "text": [
      " 86%|████████▌ | 4601/5352 [11:30<01:54,  6.57it/s]"
     ]
    },
    {
     "name": "stdout",
     "output_type": "stream",
     "text": [
      "{'FullBody': {'All': 140.49452209472656, 'Walking': 143.3092803955078, 'UpperStretching': 143.6559295654297, 'Patting': 130.27529907226562, 'Gesticuling': 107.71875762939453, 'LowerStretching': 143.94456481933594, 'Reacting': 116.66940307617188, 'Talking': 104.6516342163086, 'Greeting': 106.27349853515625, 'Gaming': 127.41948699951172}, 'UpperBody': {'All': 92.29330444335938, 'Walking': 91.05117797851562, 'UpperStretching': 100.08734130859375, 'Patting': 85.22972869873047, 'Gesticuling': 72.352783203125, 'LowerStretching': 76.56175231933594, 'Reacting': 80.90499877929688, 'Talking': 75.9858627319336, 'Greeting': 74.3204345703125, 'Gaming': 74.79695129394531}, 'LowerBody': {'All': 188.69573974609375, 'Walking': 195.5673370361328, 'UpperStretching': 187.22451782226562, 'Patting': 175.32086181640625, 'Gesticuling': 143.08473205566406, 'LowerStretching': 211.32740783691406, 'Reacting': 152.4337921142578, 'Talking': 133.31739807128906, 'Greeting': 138.22657775878906, 'Gaming': 180.04202270507812}}\n"
     ]
    },
    {
     "name": "stderr",
     "output_type": "stream",
     "text": [
      " 90%|████████▉ | 4801/5352 [12:00<01:26,  6.34it/s]"
     ]
    },
    {
     "name": "stdout",
     "output_type": "stream",
     "text": [
      "{'FullBody': {'All': 140.53952026367188, 'Walking': 143.5104522705078, 'UpperStretching': 143.67311096191406, 'Patting': 130.5419464111328, 'Gesticuling': 107.77195739746094, 'LowerStretching': 143.9471893310547, 'Reacting': 116.88192749023438, 'Talking': 104.7174301147461, 'Greeting': 106.56151580810547, 'Gaming': 127.4286880493164}, 'UpperBody': {'All': 92.3182373046875, 'Walking': 91.21424102783203, 'UpperStretching': 100.10059356689453, 'Patting': 85.49040985107422, 'Gesticuling': 72.45177459716797, 'LowerStretching': 76.51144409179688, 'Reacting': 80.93998718261719, 'Talking': 76.18746185302734, 'Greeting': 74.45447540283203, 'Gaming': 74.94632720947266}, 'LowerBody': {'All': 188.76080322265625, 'Walking': 195.80667114257812, 'UpperStretching': 187.24562072753906, 'Patting': 175.59349060058594, 'Gesticuling': 143.09214782714844, 'LowerStretching': 211.38291931152344, 'Reacting': 152.82386779785156, 'Talking': 133.2473907470703, 'Greeting': 138.66856384277344, 'Gaming': 179.91104125976562}}\n"
     ]
    },
    {
     "name": "stderr",
     "output_type": "stream",
     "text": [
      " 93%|█████████▎| 5001/5352 [12:30<00:55,  6.31it/s]"
     ]
    },
    {
     "name": "stdout",
     "output_type": "stream",
     "text": [
      "{'FullBody': {'All': 140.56265258789062, 'Walking': 143.5992889404297, 'UpperStretching': 143.69122314453125, 'Patting': 130.5579071044922, 'Gesticuling': 107.81720733642578, 'LowerStretching': 143.92564392089844, 'Reacting': 116.7701187133789, 'Talking': 104.75140380859375, 'Greeting': 106.51080322265625, 'Gaming': 127.35353088378906}, 'UpperBody': {'All': 92.3147201538086, 'Walking': 91.22008514404297, 'UpperStretching': 100.08441925048828, 'Patting': 85.35824584960938, 'Gesticuling': 72.56958770751953, 'LowerStretching': 76.57246398925781, 'Reacting': 80.88004302978516, 'Talking': 76.13207244873047, 'Greeting': 74.40521240234375, 'Gaming': 74.88485717773438}, 'LowerBody': {'All': 188.8105926513672, 'Walking': 195.97848510742188, 'UpperStretching': 187.29803466796875, 'Patting': 175.75758361816406, 'Gesticuling': 143.0648193359375, 'LowerStretching': 211.27882385253906, 'Reacting': 152.66021728515625, 'Talking': 133.37074279785156, 'Greeting': 138.61639404296875, 'Gaming': 179.8222198486328}}\n"
     ]
    },
    {
     "name": "stderr",
     "output_type": "stream",
     "text": [
      " 97%|█████████▋| 5201/5352 [13:00<00:23,  6.48it/s]"
     ]
    },
    {
     "name": "stdout",
     "output_type": "stream",
     "text": [
      "{'FullBody': {'All': 140.6058807373047, 'Walking': 143.78472900390625, 'UpperStretching': 143.67042541503906, 'Patting': 130.7593231201172, 'Gesticuling': 107.7795181274414, 'LowerStretching': 144.03140258789062, 'Reacting': 117.0633316040039, 'Talking': 104.90006256103516, 'Greeting': 106.65958404541016, 'Gaming': 127.24610900878906}, 'UpperBody': {'All': 92.32207489013672, 'Walking': 91.30071258544922, 'UpperStretching': 100.08029174804688, 'Patting': 85.6357421875, 'Gesticuling': 72.49797058105469, 'LowerStretching': 76.6349868774414, 'Reacting': 81.00518798828125, 'Talking': 76.15301513671875, 'Greeting': 74.39424133300781, 'Gaming': 74.77118682861328}, 'LowerBody': {'All': 188.88967895507812, 'Walking': 196.26873779296875, 'UpperStretching': 187.2605438232422, 'Patting': 175.8829345703125, 'Gesticuling': 143.06105041503906, 'LowerStretching': 211.42779541015625, 'Reacting': 153.12149047851562, 'Talking': 133.64710998535156, 'Greeting': 138.92494201660156, 'Gaming': 179.72103881835938}}\n"
     ]
    },
    {
     "name": "stderr",
     "output_type": "stream",
     "text": [
      "100%|██████████| 5352/5352 [13:22<00:00,  6.67it/s]\n",
      "\u001b[94m18:19:40 \u001b[92m[INFO]\u001b[94m Main\u001b[0m: Saving evaluation results...\n",
      "\u001b[94m18:19:40 \u001b[92m[INFO]\u001b[94m Main\u001b[0m: Done.\n",
      "\u001b[94m18:19:40 \u001b[92m[INFO]\u001b[94m Main\u001b[0m: Starting demo...\n",
      "  0%|          | 0/5352 [00:00<?, ?it/s]/opt/conda/lib/python3.10/site-packages/torchvision/transforms/transforms.py:329: UserWarning: Argument 'interpolation' of type int is deprecated since 0.13 and will be removed in 0.15. Please use InterpolationMode enum.\n",
      "  warnings.warn(\n",
      "/opt/conda/lib/python3.10/site-packages/torchvision/transforms/transforms.py:329: UserWarning: Argument 'interpolation' of type int is deprecated since 0.13 and will be removed in 0.15. Please use InterpolationMode enum.\n",
      "  warnings.warn(\n",
      "/opt/conda/lib/python3.10/site-packages/torchvision/transforms/transforms.py:329: UserWarning: Argument 'interpolation' of type int is deprecated since 0.13 and will be removed in 0.15. Please use InterpolationMode enum.\n",
      "  warnings.warn(\n",
      "/opt/conda/lib/python3.10/site-packages/torchvision/transforms/transforms.py:329: UserWarning: Argument 'interpolation' of type int is deprecated since 0.13 and will be removed in 0.15. Please use InterpolationMode enum.\n",
      "  warnings.warn(\n",
      "/opt/conda/lib/python3.10/site-packages/torchvision/transforms/transforms.py:329: UserWarning: Argument 'interpolation' of type int is deprecated since 0.13 and will be removed in 0.15. Please use InterpolationMode enum.\n",
      "  warnings.warn(\n",
      "/opt/conda/lib/python3.10/site-packages/torchvision/transforms/transforms.py:329: UserWarning: Argument 'interpolation' of type int is deprecated since 0.13 and will be removed in 0.15. Please use InterpolationMode enum.\n",
      "  warnings.warn(\n",
      "/opt/conda/lib/python3.10/site-packages/torchvision/transforms/transforms.py:329: UserWarning: Argument 'interpolation' of type int is deprecated since 0.13 and will be removed in 0.15. Please use InterpolationMode enum.\n",
      "  warnings.warn(\n",
      "/opt/conda/lib/python3.10/site-packages/torchvision/transforms/transforms.py:329: UserWarning: Argument 'interpolation' of type int is deprecated since 0.13 and will be removed in 0.15. Please use InterpolationMode enum.\n",
      "  warnings.warn(\n",
      "/opt/conda/lib/python3.10/site-packages/torchvision/transforms/transforms.py:329: UserWarning: Argument 'interpolation' of type int is deprecated since 0.13 and will be removed in 0.15. Please use InterpolationMode enum.\n",
      "  warnings.warn(\n",
      "/opt/conda/lib/python3.10/site-packages/torchvision/transforms/transforms.py:329: UserWarning: Argument 'interpolation' of type int is deprecated since 0.13 and will be removed in 0.15. Please use InterpolationMode enum.\n",
      "  warnings.warn(\n",
      "/opt/conda/lib/python3.10/site-packages/torchvision/transforms/transforms.py:329: UserWarning: Argument 'interpolation' of type int is deprecated since 0.13 and will be removed in 0.15. Please use InterpolationMode enum.\n",
      "  warnings.warn(\n",
      "/opt/conda/lib/python3.10/site-packages/torchvision/transforms/transforms.py:329: UserWarning: Argument 'interpolation' of type int is deprecated since 0.13 and will be removed in 0.15. Please use InterpolationMode enum.\n",
      "  warnings.warn(\n",
      "/opt/conda/lib/python3.10/site-packages/torchvision/transforms/transforms.py:329: UserWarning: Argument 'interpolation' of type int is deprecated since 0.13 and will be removed in 0.15. Please use InterpolationMode enum.\n",
      "  warnings.warn(\n",
      "/opt/conda/lib/python3.10/site-packages/torchvision/transforms/transforms.py:329: UserWarning: Argument 'interpolation' of type int is deprecated since 0.13 and will be removed in 0.15. Please use InterpolationMode enum.\n",
      "  warnings.warn(\n",
      "/opt/conda/lib/python3.10/site-packages/torchvision/transforms/transforms.py:329: UserWarning: Argument 'interpolation' of type int is deprecated since 0.13 and will be removed in 0.15. Please use InterpolationMode enum.\n",
      "  warnings.warn(\n",
      "/opt/conda/lib/python3.10/site-packages/torchvision/transforms/transforms.py:329: UserWarning: Argument 'interpolation' of type int is deprecated since 0.13 and will be removed in 0.15. Please use InterpolationMode enum.\n",
      "  warnings.warn(\n",
      "/opt/conda/lib/python3.10/site-packages/torchvision/transforms/transforms.py:329: UserWarning: Argument 'interpolation' of type int is deprecated since 0.13 and will be removed in 0.15. Please use InterpolationMode enum.\n",
      "  warnings.warn(\n",
      "/opt/conda/lib/python3.10/site-packages/torchvision/transforms/transforms.py:329: UserWarning: Argument 'interpolation' of type int is deprecated since 0.13 and will be removed in 0.15. Please use InterpolationMode enum.\n",
      "  warnings.warn(\n",
      "/opt/conda/lib/python3.10/site-packages/torchvision/transforms/transforms.py:329: UserWarning: Argument 'interpolation' of type int is deprecated since 0.13 and will be removed in 0.15. Please use InterpolationMode enum.\n",
      "  warnings.warn(\n",
      "/opt/conda/lib/python3.10/site-packages/torchvision/transforms/transforms.py:329: UserWarning: Argument 'interpolation' of type int is deprecated since 0.13 and will be removed in 0.15. Please use InterpolationMode enum.\n",
      "  warnings.warn(\n",
      "/opt/conda/lib/python3.10/site-packages/torchvision/transforms/transforms.py:329: UserWarning: Argument 'interpolation' of type int is deprecated since 0.13 and will be removed in 0.15. Please use InterpolationMode enum.\n",
      "  warnings.warn(\n",
      "/opt/conda/lib/python3.10/site-packages/torchvision/transforms/transforms.py:329: UserWarning: Argument 'interpolation' of type int is deprecated since 0.13 and will be removed in 0.15. Please use InterpolationMode enum.\n",
      "  warnings.warn(\n",
      "/opt/conda/lib/python3.10/site-packages/torchvision/transforms/transforms.py:329: UserWarning: Argument 'interpolation' of type int is deprecated since 0.13 and will be removed in 0.15. Please use InterpolationMode enum.\n",
      "  warnings.warn(\n",
      "/opt/conda/lib/python3.10/site-packages/torchvision/transforms/transforms.py:329: UserWarning: Argument 'interpolation' of type int is deprecated since 0.13 and will be removed in 0.15. Please use InterpolationMode enum.\n",
      "  warnings.warn(\n",
      "  4%|▍         | 201/5352 [00:36<13:28,  6.37it/s]"
     ]
    },
    {
     "name": "stdout",
     "output_type": "stream",
     "text": [
      "{'FullBody': {'All': 161.9300994873047, 'LowerStretching': 170.50047302246094, 'UpperStretching': 161.7949981689453, 'Walking': 176.8221893310547, 'Reacting': 142.62069702148438, 'Gesticuling': 120.85552215576172, 'Patting': 135.11326599121094, 'Greeting': 118.40524291992188, 'Talking': 119.6586685180664, 'Gaming': 146.2086944580078}, 'UpperBody': {'All': 95.78814697265625, 'LowerStretching': 88.85484313964844, 'UpperStretching': 100.69804382324219, 'Walking': 97.23333740234375, 'Reacting': 85.63898468017578, 'Gesticuling': 80.2146987915039, 'Patting': 69.34050750732422, 'Greeting': 77.05280303955078, 'Talking': 73.47570037841797, 'Gaming': 87.0562515258789}, 'LowerBody': {'All': 228.07205200195312, 'LowerStretching': 252.14614868164062, 'UpperStretching': 222.8919677734375, 'Walking': 256.4110412597656, 'Reacting': 199.60243225097656, 'Gesticuling': 161.496337890625, 'Patting': 200.88600158691406, 'Greeting': 159.7576904296875, 'Talking': 165.8416748046875, 'Gaming': 205.3611297607422}}\n"
     ]
    },
    {
     "name": "stderr",
     "output_type": "stream",
     "text": [
      "  7%|▋         | 401/5352 [01:05<12:12,  6.76it/s]"
     ]
    },
    {
     "name": "stdout",
     "output_type": "stream",
     "text": [
      "{'FullBody': {'All': 161.22044372558594, 'LowerStretching': 169.7163543701172, 'UpperStretching': 160.5577392578125, 'Walking': 177.19068908691406, 'Reacting': 139.90988159179688, 'Gesticuling': 123.84105682373047, 'Patting': 140.7635498046875, 'Greeting': 124.49832153320312, 'Talking': 119.01422119140625, 'Gaming': 148.8651123046875}, 'UpperBody': {'All': 95.51629638671875, 'LowerStretching': 88.26802825927734, 'UpperStretching': 100.54883575439453, 'Walking': 96.18158721923828, 'Reacting': 84.10045623779297, 'Gesticuling': 80.8770751953125, 'Patting': 73.77621459960938, 'Greeting': 79.45783233642578, 'Talking': 72.62334442138672, 'Gaming': 87.4499282836914}, 'LowerBody': {'All': 226.92459106445312, 'LowerStretching': 251.16470336914062, 'UpperStretching': 220.5666046142578, 'Walking': 258.1997985839844, 'Reacting': 195.71934509277344, 'Gesticuling': 166.8050079345703, 'Patting': 207.75088500976562, 'Greeting': 169.53878784179688, 'Talking': 165.40509033203125, 'Gaming': 210.2803497314453}}\n"
     ]
    },
    {
     "name": "stderr",
     "output_type": "stream",
     "text": [
      " 11%|█         | 601/5352 [01:35<11:11,  7.08it/s]"
     ]
    },
    {
     "name": "stdout",
     "output_type": "stream",
     "text": [
      "{'FullBody': {'All': 160.91436767578125, 'LowerStretching': 169.14393615722656, 'UpperStretching': 159.92462158203125, 'Walking': 178.6686553955078, 'Reacting': 141.1313018798828, 'Gesticuling': 122.4908447265625, 'Patting': 139.54727172851562, 'Greeting': 131.02883911132812, 'Talking': 118.91613006591797, 'Gaming': 149.58456420898438}, 'UpperBody': {'All': 95.57743072509766, 'LowerStretching': 88.36392974853516, 'UpperStretching': 100.61415100097656, 'Walking': 96.19678497314453, 'Reacting': 85.20359802246094, 'Gesticuling': 78.98038482666016, 'Patting': 73.58699798583984, 'Greeting': 81.98585510253906, 'Talking': 71.93655395507812, 'Gaming': 87.59232330322266}, 'LowerBody': {'All': 226.2512969970703, 'LowerStretching': 249.92393493652344, 'UpperStretching': 219.23512268066406, 'Walking': 261.1405334472656, 'Reacting': 197.05902099609375, 'Gesticuling': 166.00128173828125, 'Patting': 205.50755310058594, 'Greeting': 180.07180786132812, 'Talking': 165.8957061767578, 'Gaming': 211.5768280029297}}\n"
     ]
    },
    {
     "name": "stderr",
     "output_type": "stream",
     "text": [
      " 15%|█▍        | 801/5352 [02:05<12:26,  6.10it/s]"
     ]
    },
    {
     "name": "stdout",
     "output_type": "stream",
     "text": [
      "{'FullBody': {'All': 161.07818603515625, 'LowerStretching': 168.66622924804688, 'UpperStretching': 160.3899688720703, 'Walking': 178.29539489746094, 'Reacting': 142.88023376464844, 'Gesticuling': 122.52218627929688, 'Patting': 142.41160583496094, 'Greeting': 126.6723403930664, 'Talking': 119.59494018554688, 'Gaming': 149.34939575195312}, 'UpperBody': {'All': 95.7163314819336, 'LowerStretching': 88.21234893798828, 'UpperStretching': 100.66199493408203, 'Walking': 96.72234344482422, 'Reacting': 86.0003662109375, 'Gesticuling': 78.33721923828125, 'Patting': 77.51815032958984, 'Greeting': 80.31995391845703, 'Talking': 72.34468078613281, 'Gaming': 86.99872589111328}, 'LowerBody': {'All': 226.44003295898438, 'LowerStretching': 249.12008666992188, 'UpperStretching': 220.11793518066406, 'Walking': 259.8684997558594, 'Reacting': 199.7601318359375, 'Gesticuling': 166.70713806152344, 'Patting': 207.30506896972656, 'Greeting': 173.02467346191406, 'Talking': 166.8451690673828, 'Gaming': 211.70005798339844}}\n"
     ]
    },
    {
     "name": "stderr",
     "output_type": "stream",
     "text": [
      " 19%|█▊        | 1001/5352 [02:34<10:48,  6.71it/s]"
     ]
    },
    {
     "name": "stdout",
     "output_type": "stream",
     "text": [
      "{'FullBody': {'All': 160.9019317626953, 'LowerStretching': 169.08538818359375, 'UpperStretching': 160.15403747558594, 'Walking': 177.54879760742188, 'Reacting': 142.7996826171875, 'Gesticuling': 122.09769439697266, 'Patting': 143.0587615966797, 'Greeting': 125.12014770507812, 'Talking': 118.69929504394531, 'Gaming': 150.4498748779297}, 'UpperBody': {'All': 95.75970458984375, 'LowerStretching': 88.46226501464844, 'UpperStretching': 100.68988037109375, 'Walking': 96.399169921875, 'Reacting': 85.82437133789062, 'Gesticuling': 77.84260559082031, 'Patting': 79.90961456298828, 'Greeting': 79.88619232177734, 'Talking': 71.75724792480469, 'Gaming': 87.66654968261719}, 'LowerBody': {'All': 226.04417419433594, 'LowerStretching': 249.7085418701172, 'UpperStretching': 219.61817932128906, 'Walking': 258.69842529296875, 'Reacting': 199.77500915527344, 'Gesticuling': 166.352783203125, 'Patting': 206.20790100097656, 'Greeting': 170.3540802001953, 'Talking': 165.641357421875, 'Gaming': 213.2332305908203}}\n"
     ]
    },
    {
     "name": "stderr",
     "output_type": "stream",
     "text": [
      " 22%|██▏       | 1201/5352 [03:03<09:52,  7.01it/s]"
     ]
    },
    {
     "name": "stdout",
     "output_type": "stream",
     "text": [
      "{'FullBody': {'All': 161.29867553710938, 'LowerStretching': 168.74668884277344, 'UpperStretching': 160.98008728027344, 'Walking': 177.3294677734375, 'Reacting': 143.74644470214844, 'Gesticuling': 121.80856323242188, 'Patting': 142.92271423339844, 'Greeting': 127.31906127929688, 'Talking': 118.22709655761719, 'Gaming': 150.99844360351562}, 'UpperBody': {'All': 95.93412017822266, 'LowerStretching': 88.36357116699219, 'UpperStretching': 101.06431579589844, 'Walking': 96.31822204589844, 'Reacting': 85.63282012939453, 'Gesticuling': 76.75861358642578, 'Patting': 80.18034362792969, 'Greeting': 80.60743713378906, 'Talking': 71.16487884521484, 'Gaming': 87.8928451538086}, 'LowerBody': {'All': 226.6632080078125, 'LowerStretching': 249.12979125976562, 'UpperStretching': 220.89585876464844, 'Walking': 258.3407287597656, 'Reacting': 201.86007690429688, 'Gesticuling': 166.85850524902344, 'Patting': 205.66510009765625, 'Greeting': 174.03067016601562, 'Talking': 165.28929138183594, 'Gaming': 214.10403442382812}}\n"
     ]
    },
    {
     "name": "stderr",
     "output_type": "stream",
     "text": [
      " 26%|██▌       | 1400/5352 [03:33<09:25,  6.98it/s]"
     ]
    },
    {
     "name": "stdout",
     "output_type": "stream",
     "text": [
      "{'FullBody': {'All': 161.00804138183594, 'LowerStretching': 168.453125, 'UpperStretching': 160.71836853027344, 'Walking': 176.49887084960938, 'Reacting': 143.59494018554688, 'Gesticuling': 122.64247131347656, 'Patting': 143.84901428222656, 'Greeting': 127.4804916381836, 'Talking': 119.25862884521484, 'Gaming': 150.34197998046875}, 'UpperBody': {'All': 95.71549224853516, 'LowerStretching': 88.02174377441406, 'UpperStretching': 100.8534927368164, 'Walking': 95.73870849609375, 'Reacting': 85.72695922851562, 'Gesticuling': 77.13934326171875, 'Patting': 80.69525909423828, 'Greeting': 80.9690170288086, 'Talking': 71.95941925048828, 'Gaming': 87.93021392822266}, 'LowerBody': {'All': 226.3005828857422, 'LowerStretching': 248.88449096679688, 'UpperStretching': 220.58326721191406, 'Walking': 257.2590637207031, 'Reacting': 201.4629364013672, 'Gesticuling': 168.14559936523438, 'Patting': 207.00274658203125, 'Greeting': 173.99195861816406, 'Talking': 166.557861328125, 'Gaming': 212.7537841796875}}\n"
     ]
    },
    {
     "name": "stderr",
     "output_type": "stream",
     "text": [
      " 30%|██▉       | 1601/5352 [04:03<09:14,  6.77it/s]"
     ]
    },
    {
     "name": "stdout",
     "output_type": "stream",
     "text": [
      "{'FullBody': {'All': 161.0856475830078, 'LowerStretching': 168.06777954101562, 'UpperStretching': 161.01797485351562, 'Walking': 176.43142700195312, 'Reacting': 143.49301147460938, 'Gesticuling': 123.175537109375, 'Patting': 143.36070251464844, 'Greeting': 127.10900115966797, 'Talking': 118.63703155517578, 'Gaming': 150.1579132080078}, 'UpperBody': {'All': 95.80057525634766, 'LowerStretching': 87.80887603759766, 'UpperStretching': 101.06690979003906, 'Walking': 95.8753890991211, 'Reacting': 85.64405059814453, 'Gesticuling': 77.52590942382812, 'Patting': 80.3246078491211, 'Greeting': 80.99982452392578, 'Talking': 71.60389709472656, 'Gaming': 87.8778305053711}, 'LowerBody': {'All': 226.3707275390625, 'LowerStretching': 248.32667541503906, 'UpperStretching': 220.9690399169922, 'Walking': 256.98748779296875, 'Reacting': 201.3419647216797, 'Gesticuling': 168.82513427734375, 'Patting': 206.39682006835938, 'Greeting': 173.2181854248047, 'Talking': 165.67015075683594, 'Gaming': 212.43800354003906}}\n"
     ]
    },
    {
     "name": "stderr",
     "output_type": "stream",
     "text": [
      " 34%|███▎      | 1801/5352 [04:32<08:38,  6.85it/s]"
     ]
    },
    {
     "name": "stdout",
     "output_type": "stream",
     "text": [
      "{'FullBody': {'All': 160.94996643066406, 'LowerStretching': 167.6292266845703, 'UpperStretching': 160.9871368408203, 'Walking': 175.96371459960938, 'Reacting': 143.95147705078125, 'Gesticuling': 123.167724609375, 'Patting': 142.91744995117188, 'Greeting': 125.83061218261719, 'Talking': 118.85966491699219, 'Gaming': 151.15968322753906}, 'UpperBody': {'All': 95.72675323486328, 'LowerStretching': 87.49288940429688, 'UpperStretching': 101.03126525878906, 'Walking': 95.7661361694336, 'Reacting': 85.95954132080078, 'Gesticuling': 77.92232513427734, 'Patting': 80.51768493652344, 'Greeting': 80.47200012207031, 'Talking': 71.96998596191406, 'Gaming': 88.27616882324219}, 'LowerBody': {'All': 226.17315673828125, 'LowerStretching': 247.7655792236328, 'UpperStretching': 220.94297790527344, 'Walking': 256.16131591796875, 'Reacting': 201.9434051513672, 'Gesticuling': 168.41314697265625, 'Patting': 205.3171844482422, 'Greeting': 171.18923950195312, 'Talking': 165.7493438720703, 'Gaming': 214.04318237304688}}\n"
     ]
    },
    {
     "name": "stderr",
     "output_type": "stream",
     "text": [
      " 37%|███▋      | 2001/5352 [05:02<09:19,  5.99it/s]"
     ]
    },
    {
     "name": "stdout",
     "output_type": "stream",
     "text": [
      "{'FullBody': {'All': 161.15457153320312, 'LowerStretching': 167.5167999267578, 'UpperStretching': 161.27206420898438, 'Walking': 176.4141387939453, 'Reacting': 143.40835571289062, 'Gesticuling': 123.36602783203125, 'Patting': 143.198974609375, 'Greeting': 125.90636444091797, 'Talking': 119.4180679321289, 'Gaming': 151.03024291992188}, 'UpperBody': {'All': 95.78315734863281, 'LowerStretching': 87.45399475097656, 'UpperStretching': 101.12430572509766, 'Walking': 96.02375793457031, 'Reacting': 85.38263702392578, 'Gesticuling': 77.61720275878906, 'Patting': 80.6937255859375, 'Greeting': 80.29502868652344, 'Talking': 71.9382095336914, 'Gaming': 88.30142974853516}, 'LowerBody': {'All': 226.5260009765625, 'LowerStretching': 247.5796356201172, 'UpperStretching': 221.41976928710938, 'Walking': 256.8045349121094, 'Reacting': 201.43405151367188, 'Gesticuling': 169.1148681640625, 'Patting': 205.70423889160156, 'Greeting': 171.51768493652344, 'Talking': 166.89793395996094, 'Gaming': 213.7590789794922}}\n"
     ]
    },
    {
     "name": "stderr",
     "output_type": "stream",
     "text": [
      " 41%|████      | 2201/5352 [05:32<07:42,  6.82it/s]"
     ]
    },
    {
     "name": "stdout",
     "output_type": "stream",
     "text": [
      "{'FullBody': {'All': 161.20635986328125, 'LowerStretching': 167.41456604003906, 'UpperStretching': 161.41050720214844, 'Walking': 176.32394409179688, 'Reacting': 143.0128173828125, 'Gesticuling': 123.36359405517578, 'Patting': 142.4156036376953, 'Greeting': 124.8995590209961, 'Talking': 118.83865356445312, 'Gaming': 151.60012817382812}, 'UpperBody': {'All': 95.88137817382812, 'LowerStretching': 87.3643569946289, 'UpperStretching': 101.27275085449219, 'Walking': 96.07376861572266, 'Reacting': 85.44847869873047, 'Gesticuling': 77.61002349853516, 'Patting': 80.5531234741211, 'Greeting': 79.56462860107422, 'Talking': 71.74649810791016, 'Gaming': 88.57908630371094}, 'LowerBody': {'All': 226.53131103515625, 'LowerStretching': 247.4647216796875, 'UpperStretching': 221.5482177734375, 'Walking': 256.5740966796875, 'Reacting': 200.5771942138672, 'Gesticuling': 169.11715698242188, 'Patting': 204.278076171875, 'Greeting': 170.23448181152344, 'Talking': 165.93081665039062, 'Gaming': 214.6211395263672}}\n"
     ]
    },
    {
     "name": "stderr",
     "output_type": "stream",
     "text": [
      " 45%|████▍     | 2401/5352 [06:02<07:12,  6.82it/s]"
     ]
    },
    {
     "name": "stdout",
     "output_type": "stream",
     "text": [
      "{'FullBody': {'All': 161.2822723388672, 'LowerStretching': 167.4720916748047, 'UpperStretching': 161.43997192382812, 'Walking': 176.59393310546875, 'Reacting': 142.88482666015625, 'Gesticuling': 123.11045837402344, 'Patting': 142.63763427734375, 'Greeting': 124.58832550048828, 'Talking': 118.86370849609375, 'Gaming': 152.01409912109375}, 'UpperBody': {'All': 95.95423889160156, 'LowerStretching': 87.4159927368164, 'UpperStretching': 101.32943725585938, 'Walking': 96.0455322265625, 'Reacting': 85.40868377685547, 'Gesticuling': 77.58467102050781, 'Patting': 81.15888977050781, 'Greeting': 79.53131866455078, 'Talking': 72.002197265625, 'Gaming': 88.90340423583984}, 'LowerBody': {'All': 226.61029052734375, 'LowerStretching': 247.5281982421875, 'UpperStretching': 221.55047607421875, 'Walking': 257.1423034667969, 'Reacting': 200.36099243164062, 'Gesticuling': 168.63626098632812, 'Patting': 204.11636352539062, 'Greeting': 169.6453399658203, 'Talking': 165.7252197265625, 'Gaming': 215.12478637695312}}\n"
     ]
    },
    {
     "name": "stderr",
     "output_type": "stream",
     "text": [
      " 49%|████▊     | 2601/5352 [06:31<07:31,  6.09it/s]"
     ]
    },
    {
     "name": "stdout",
     "output_type": "stream",
     "text": [
      "{'FullBody': {'All': 161.28103637695312, 'LowerStretching': 167.5503692626953, 'UpperStretching': 161.34597778320312, 'Walking': 176.5629425048828, 'Reacting': 143.31997680664062, 'Gesticuling': 123.08159637451172, 'Patting': 143.45968627929688, 'Greeting': 124.04219818115234, 'Talking': 118.4716796875, 'Gaming': 152.25442504882812}, 'UpperBody': {'All': 96.02217864990234, 'LowerStretching': 87.55265808105469, 'UpperStretching': 101.31988525390625, 'Walking': 96.17164611816406, 'Reacting': 85.44258880615234, 'Gesticuling': 77.61958312988281, 'Patting': 82.43077087402344, 'Greeting': 79.22705841064453, 'Talking': 72.02643585205078, 'Gaming': 88.94759368896484}, 'LowerBody': {'All': 226.53985595703125, 'LowerStretching': 247.54808044433594, 'UpperStretching': 221.37205505371094, 'Walking': 256.9542541503906, 'Reacting': 201.19737243652344, 'Gesticuling': 168.54364013671875, 'Patting': 204.4885711669922, 'Greeting': 168.8573455810547, 'Talking': 164.91693115234375, 'Gaming': 215.56129455566406}}\n"
     ]
    },
    {
     "name": "stderr",
     "output_type": "stream",
     "text": [
      " 52%|█████▏    | 2801/5352 [07:01<06:23,  6.66it/s]"
     ]
    },
    {
     "name": "stdout",
     "output_type": "stream",
     "text": [
      "{'FullBody': {'All': 161.286376953125, 'LowerStretching': 167.4920196533203, 'UpperStretching': 161.34788513183594, 'Walking': 176.53518676757812, 'Reacting': 143.36778259277344, 'Gesticuling': 123.10591888427734, 'Patting': 143.14512634277344, 'Greeting': 123.9766845703125, 'Talking': 118.56317901611328, 'Gaming': 152.39627075195312}, 'UpperBody': {'All': 96.04325866699219, 'LowerStretching': 87.5866928100586, 'UpperStretching': 101.30990600585938, 'Walking': 96.16568756103516, 'Reacting': 85.53514862060547, 'Gesticuling': 77.45005798339844, 'Patting': 82.3812255859375, 'Greeting': 79.20655059814453, 'Talking': 72.2639389038086, 'Gaming': 89.03971862792969}, 'LowerBody': {'All': 226.52951049804688, 'LowerStretching': 247.39736938476562, 'UpperStretching': 221.38584899902344, 'Walking': 256.9046936035156, 'Reacting': 201.20042419433594, 'Gesticuling': 168.7617645263672, 'Patting': 203.90902709960938, 'Greeting': 168.746826171875, 'Talking': 164.8624267578125, 'Gaming': 215.7528076171875}}\n"
     ]
    },
    {
     "name": "stderr",
     "output_type": "stream",
     "text": [
      " 56%|█████▌    | 3001/5352 [07:31<05:44,  6.82it/s]"
     ]
    },
    {
     "name": "stdout",
     "output_type": "stream",
     "text": [
      "{'FullBody': {'All': 161.3395233154297, 'LowerStretching': 167.4365997314453, 'UpperStretching': 161.4585723876953, 'Walking': 176.36026000976562, 'Reacting': 143.34249877929688, 'Gesticuling': 122.95811462402344, 'Patting': 143.28221130371094, 'Greeting': 123.84032440185547, 'Talking': 118.66334533691406, 'Gaming': 152.0759735107422}, 'UpperBody': {'All': 96.01274108886719, 'LowerStretching': 87.55449676513672, 'UpperStretching': 101.2829360961914, 'Walking': 96.06453704833984, 'Reacting': 85.64117431640625, 'Gesticuling': 77.31581115722656, 'Patting': 82.40083312988281, 'Greeting': 79.00639343261719, 'Talking': 72.33551788330078, 'Gaming': 88.96809387207031}, 'LowerBody': {'All': 226.66629028320312, 'LowerStretching': 247.3187255859375, 'UpperStretching': 221.63418579101562, 'Walking': 256.6559753417969, 'Reacting': 201.0438232421875, 'Gesticuling': 168.6004180908203, 'Patting': 204.16358947753906, 'Greeting': 168.6742401123047, 'Talking': 164.9911651611328, 'Gaming': 215.18385314941406}}\n"
     ]
    },
    {
     "name": "stderr",
     "output_type": "stream",
     "text": [
      " 60%|█████▉    | 3200/5352 [08:01<05:26,  6.58it/s]"
     ]
    },
    {
     "name": "stdout",
     "output_type": "stream",
     "text": [
      "{'FullBody': {'All': 161.2749481201172, 'LowerStretching': 167.55828857421875, 'UpperStretching': 161.40045166015625, 'Walking': 176.01283264160156, 'Reacting': 143.66346740722656, 'Gesticuling': 122.91656494140625, 'Patting': 144.0817413330078, 'Greeting': 124.04240417480469, 'Talking': 118.26750183105469, 'Gaming': 151.51133728027344}, 'UpperBody': {'All': 96.000732421875, 'LowerStretching': 87.64960479736328, 'UpperStretching': 101.25650787353516, 'Walking': 95.98917388916016, 'Reacting': 85.77056121826172, 'Gesticuling': 77.15425872802734, 'Patting': 82.31730651855469, 'Greeting': 79.1607666015625, 'Talking': 72.07024383544922, 'Gaming': 88.95671844482422}, 'LowerBody': {'All': 226.54916381835938, 'LowerStretching': 247.46697998046875, 'UpperStretching': 221.5443572998047, 'Walking': 256.0364990234375, 'Reacting': 201.5563507080078, 'Gesticuling': 168.67886352539062, 'Patting': 205.84619140625, 'Greeting': 168.9240264892578, 'Talking': 164.46475219726562, 'Gaming': 214.06594848632812}}\n"
     ]
    },
    {
     "name": "stderr",
     "output_type": "stream",
     "text": [
      " 64%|██████▎   | 3401/5352 [08:31<04:56,  6.57it/s]"
     ]
    },
    {
     "name": "stdout",
     "output_type": "stream",
     "text": [
      "{'FullBody': {'All': 161.22506713867188, 'LowerStretching': 167.5604248046875, 'UpperStretching': 161.38885498046875, 'Walking': 175.8132781982422, 'Reacting': 143.49476623535156, 'Gesticuling': 122.79192352294922, 'Patting': 143.66575622558594, 'Greeting': 123.16056823730469, 'Talking': 118.12275695800781, 'Gaming': 151.67422485351562}, 'UpperBody': {'All': 95.98616027832031, 'LowerStretching': 87.6749267578125, 'UpperStretching': 101.26759338378906, 'Walking': 95.89196014404297, 'Reacting': 85.76693725585938, 'Gesticuling': 77.14520263671875, 'Patting': 82.13605499267578, 'Greeting': 78.73250579833984, 'Talking': 71.98918914794922, 'Gaming': 89.1001205444336}, 'LowerBody': {'All': 226.46400451660156, 'LowerStretching': 247.4459228515625, 'UpperStretching': 221.51010131835938, 'Walking': 255.73458862304688, 'Reacting': 201.22264099121094, 'Gesticuling': 168.43861389160156, 'Patting': 205.19544982910156, 'Greeting': 167.58865356445312, 'Talking': 164.25631713867188, 'Gaming': 214.2483367919922}}\n"
     ]
    },
    {
     "name": "stderr",
     "output_type": "stream",
     "text": [
      " 67%|██████▋   | 3601/5352 [09:01<04:24,  6.62it/s]"
     ]
    },
    {
     "name": "stdout",
     "output_type": "stream",
     "text": [
      "{'FullBody': {'All': 161.15191650390625, 'LowerStretching': 167.58197021484375, 'UpperStretching': 161.33367919921875, 'Walking': 175.7401885986328, 'Reacting': 143.5223388671875, 'Gesticuling': 122.63248443603516, 'Patting': 143.4274444580078, 'Greeting': 122.84063720703125, 'Talking': 118.08499908447266, 'Gaming': 151.3224334716797}, 'UpperBody': {'All': 95.90545654296875, 'LowerStretching': 87.69410705566406, 'UpperStretching': 101.15351104736328, 'Walking': 95.89318084716797, 'Reacting': 85.77083587646484, 'Gesticuling': 76.98599243164062, 'Patting': 82.12804412841797, 'Greeting': 78.68363189697266, 'Talking': 71.82872009277344, 'Gaming': 89.03101348876953}, 'LowerBody': {'All': 226.3983612060547, 'LowerStretching': 247.4698486328125, 'UpperStretching': 221.51385498046875, 'Walking': 255.5872039794922, 'Reacting': 201.2738494873047, 'Gesticuling': 168.2789764404297, 'Patting': 204.72686767578125, 'Greeting': 166.99765014648438, 'Talking': 164.34127807617188, 'Gaming': 213.61387634277344}}\n"
     ]
    },
    {
     "name": "stderr",
     "output_type": "stream",
     "text": [
      " 71%|███████   | 3801/5352 [09:31<04:23,  5.88it/s]"
     ]
    },
    {
     "name": "stdout",
     "output_type": "stream",
     "text": [
      "{'FullBody': {'All': 161.25303649902344, 'LowerStretching': 167.61341857910156, 'UpperStretching': 161.4913330078125, 'Walking': 175.67991638183594, 'Reacting': 143.51864624023438, 'Gesticuling': 122.73438262939453, 'Patting': 143.73277282714844, 'Greeting': 122.9844970703125, 'Talking': 118.26881408691406, 'Gaming': 151.20616149902344}, 'UpperBody': {'All': 95.9698486328125, 'LowerStretching': 87.63130950927734, 'UpperStretching': 101.21935272216797, 'Walking': 95.97962188720703, 'Reacting': 85.8572769165039, 'Gesticuling': 77.20174407958984, 'Patting': 82.58194732666016, 'Greeting': 78.9092025756836, 'Talking': 72.0235366821289, 'Gaming': 89.13835906982422}, 'LowerBody': {'All': 226.53623962402344, 'LowerStretching': 247.59552001953125, 'UpperStretching': 221.76329040527344, 'Walking': 255.38021850585938, 'Reacting': 201.1800079345703, 'Gesticuling': 168.26702880859375, 'Patting': 204.88363647460938, 'Greeting': 167.0597686767578, 'Talking': 164.5141143798828, 'Gaming': 213.2739715576172}}\n"
     ]
    },
    {
     "name": "stderr",
     "output_type": "stream",
     "text": [
      " 75%|███████▍  | 4001/5352 [10:01<03:25,  6.59it/s]"
     ]
    },
    {
     "name": "stdout",
     "output_type": "stream",
     "text": [
      "{'FullBody': {'All': 161.24559020996094, 'LowerStretching': 167.6253662109375, 'UpperStretching': 161.50289916992188, 'Walking': 175.64833068847656, 'Reacting': 143.45982360839844, 'Gesticuling': 122.73388671875, 'Patting': 143.98077392578125, 'Greeting': 122.66931915283203, 'Talking': 118.14047241210938, 'Gaming': 151.51829528808594}, 'UpperBody': {'All': 95.98307800292969, 'LowerStretching': 87.61354064941406, 'UpperStretching': 101.25816345214844, 'Walking': 95.97250366210938, 'Reacting': 85.91531372070312, 'Gesticuling': 77.15548706054688, 'Patting': 82.94132995605469, 'Greeting': 78.91029357910156, 'Talking': 72.03666687011719, 'Gaming': 89.2163314819336}, 'LowerBody': {'All': 226.50811767578125, 'LowerStretching': 247.63722229003906, 'UpperStretching': 221.74761962890625, 'Walking': 255.32412719726562, 'Reacting': 201.0043487548828, 'Gesticuling': 168.3123016357422, 'Patting': 205.0202178955078, 'Greeting': 166.42835998535156, 'Talking': 164.24427795410156, 'Gaming': 213.8202667236328}}\n"
     ]
    },
    {
     "name": "stderr",
     "output_type": "stream",
     "text": [
      " 78%|███████▊  | 4201/5352 [10:30<02:57,  6.47it/s]"
     ]
    },
    {
     "name": "stdout",
     "output_type": "stream",
     "text": [
      "{'FullBody': {'All': 161.29098510742188, 'LowerStretching': 167.72305297851562, 'UpperStretching': 161.51174926757812, 'Walking': 175.64431762695312, 'Reacting': 143.51007080078125, 'Gesticuling': 122.83782958984375, 'Patting': 145.14962768554688, 'Greeting': 122.31446075439453, 'Talking': 118.4494857788086, 'Gaming': 151.4743194580078}, 'UpperBody': {'All': 96.01426696777344, 'LowerStretching': 87.65675354003906, 'UpperStretching': 101.26793670654297, 'Walking': 96.01752471923828, 'Reacting': 85.94375610351562, 'Gesticuling': 77.232421875, 'Patting': 83.50416564941406, 'Greeting': 78.81683349609375, 'Talking': 72.38673400878906, 'Gaming': 89.33539581298828}, 'LowerBody': {'All': 226.5676727294922, 'LowerStretching': 247.78936767578125, 'UpperStretching': 221.75555419921875, 'Walking': 255.2711181640625, 'Reacting': 201.07638549804688, 'Gesticuling': 168.4432373046875, 'Patting': 206.79510498046875, 'Greeting': 165.81207275390625, 'Talking': 164.51223754882812, 'Gaming': 213.61328125}}\n"
     ]
    },
    {
     "name": "stderr",
     "output_type": "stream",
     "text": [
      " 82%|████████▏ | 4401/5352 [11:00<02:42,  5.84it/s]"
     ]
    },
    {
     "name": "stdout",
     "output_type": "stream",
     "text": [
      "{'FullBody': {'All': 161.23568725585938, 'LowerStretching': 167.67453002929688, 'UpperStretching': 161.4395294189453, 'Walking': 175.6959686279297, 'Reacting': 143.83241271972656, 'Gesticuling': 122.82416534423828, 'Patting': 145.30520629882812, 'Greeting': 121.78346252441406, 'Talking': 118.31483459472656, 'Gaming': 151.45484924316406}, 'UpperBody': {'All': 95.9939193725586, 'LowerStretching': 87.67030334472656, 'UpperStretching': 101.2235107421875, 'Walking': 96.01655578613281, 'Reacting': 86.1018295288086, 'Gesticuling': 77.32363891601562, 'Patting': 83.59413146972656, 'Greeting': 78.6731948852539, 'Talking': 72.35958862304688, 'Gaming': 89.40056610107422}, 'LowerBody': {'All': 226.47744750976562, 'LowerStretching': 247.6787567138672, 'UpperStretching': 221.65550231933594, 'Walking': 255.37538146972656, 'Reacting': 201.56298828125, 'Gesticuling': 168.32469177246094, 'Patting': 207.01626586914062, 'Greeting': 164.8937530517578, 'Talking': 164.27011108398438, 'Gaming': 213.5091094970703}}\n"
     ]
    },
    {
     "name": "stderr",
     "output_type": "stream",
     "text": [
      " 86%|████████▌ | 4601/5352 [11:30<01:57,  6.40it/s]"
     ]
    },
    {
     "name": "stdout",
     "output_type": "stream",
     "text": [
      "{'FullBody': {'All': 161.27247619628906, 'LowerStretching': 167.69076538085938, 'UpperStretching': 161.42947387695312, 'Walking': 175.89564514160156, 'Reacting': 143.73924255371094, 'Gesticuling': 122.80138397216797, 'Patting': 145.38665771484375, 'Greeting': 121.50978088378906, 'Talking': 118.19713592529297, 'Gaming': 151.7870635986328}, 'UpperBody': {'All': 96.0287094116211, 'LowerStretching': 87.71598052978516, 'UpperStretching': 101.23748016357422, 'Walking': 96.1138687133789, 'Reacting': 86.0296401977539, 'Gesticuling': 77.38101196289062, 'Patting': 83.5772476196289, 'Greeting': 78.59786224365234, 'Talking': 72.3592758178711, 'Gaming': 89.64863586425781}, 'LowerBody': {'All': 226.5162353515625, 'LowerStretching': 247.66554260253906, 'UpperStretching': 221.6214141845703, 'Walking': 255.67742919921875, 'Reacting': 201.44882202148438, 'Gesticuling': 168.22177124023438, 'Patting': 207.196044921875, 'Greeting': 164.4217071533203, 'Talking': 164.0349884033203, 'Gaming': 213.92550659179688}}\n"
     ]
    },
    {
     "name": "stderr",
     "output_type": "stream",
     "text": [
      " 90%|████████▉ | 4801/5352 [12:00<01:24,  6.50it/s]"
     ]
    },
    {
     "name": "stdout",
     "output_type": "stream",
     "text": [
      "{'FullBody': {'All': 161.2938232421875, 'LowerStretching': 167.61074829101562, 'UpperStretching': 161.53555297851562, 'Walking': 175.85488891601562, 'Reacting': 143.4573516845703, 'Gesticuling': 122.69212341308594, 'Patting': 145.28663635253906, 'Greeting': 121.52544403076172, 'Talking': 117.9210205078125, 'Gaming': 151.89256286621094}, 'UpperBody': {'All': 96.01716613769531, 'LowerStretching': 87.6723861694336, 'UpperStretching': 101.26225280761719, 'Walking': 96.11573791503906, 'Reacting': 85.71625518798828, 'Gesticuling': 77.28226470947266, 'Patting': 83.84437561035156, 'Greeting': 78.53482818603516, 'Talking': 72.11219024658203, 'Gaming': 89.59416198730469}, 'LowerBody': {'All': 226.57049560546875, 'LowerStretching': 247.54913330078125, 'UpperStretching': 221.808837890625, 'Walking': 255.59405517578125, 'Reacting': 201.19847106933594, 'Gesticuling': 168.10198974609375, 'Patting': 206.72889709472656, 'Greeting': 164.51605224609375, 'Talking': 163.72987365722656, 'Gaming': 214.19093322753906}}\n"
     ]
    },
    {
     "name": "stderr",
     "output_type": "stream",
     "text": [
      " 93%|█████████▎| 5000/5352 [12:30<00:55,  6.35it/s]"
     ]
    },
    {
     "name": "stdout",
     "output_type": "stream",
     "text": [
      "{'FullBody': {'All': 161.2743682861328, 'LowerStretching': 167.45635986328125, 'UpperStretching': 161.5851593017578, 'Walking': 175.74952697753906, 'Reacting': 143.3084716796875, 'Gesticuling': 122.65838623046875, 'Patting': 144.8231201171875, 'Greeting': 121.34939575195312, 'Talking': 117.93450927734375, 'Gaming': 151.87803649902344}, 'UpperBody': {'All': 96.0147933959961, 'LowerStretching': 87.5827865600586, 'UpperStretching': 101.30213928222656, 'Walking': 96.1205062866211, 'Reacting': 85.63714599609375, 'Gesticuling': 77.32498168945312, 'Patting': 83.49095916748047, 'Greeting': 78.41625213623047, 'Talking': 72.0330810546875, 'Gaming': 89.61538696289062}, 'LowerBody': {'All': 226.53392028808594, 'LowerStretching': 247.32992553710938, 'UpperStretching': 221.86814880371094, 'Walking': 255.37855529785156, 'Reacting': 200.97979736328125, 'Gesticuling': 167.99180603027344, 'Patting': 206.1552734375, 'Greeting': 164.2825469970703, 'Talking': 163.83592224121094, 'Gaming': 214.14071655273438}}\n"
     ]
    },
    {
     "name": "stderr",
     "output_type": "stream",
     "text": [
      " 97%|█████████▋| 5201/5352 [13:00<00:23,  6.38it/s]"
     ]
    },
    {
     "name": "stdout",
     "output_type": "stream",
     "text": [
      "{'FullBody': {'All': 161.2471466064453, 'LowerStretching': 167.47706604003906, 'UpperStretching': 161.50445556640625, 'Walking': 175.81951904296875, 'Reacting': 143.37924194335938, 'Gesticuling': 122.70973205566406, 'Patting': 145.2589874267578, 'Greeting': 121.67266845703125, 'Talking': 118.1444091796875, 'Gaming': 151.75494384765625}, 'UpperBody': {'All': 96.02181243896484, 'LowerStretching': 87.63404846191406, 'UpperStretching': 101.26873016357422, 'Walking': 96.20336151123047, 'Reacting': 85.68829345703125, 'Gesticuling': 77.23292541503906, 'Patting': 83.67858123779297, 'Greeting': 78.46882629394531, 'Talking': 72.22422790527344, 'Gaming': 89.59953308105469}, 'LowerBody': {'All': 226.47247314453125, 'LowerStretching': 247.32008361816406, 'UpperStretching': 221.74014282226562, 'Walking': 255.43568420410156, 'Reacting': 201.07015991210938, 'Gesticuling': 168.18653869628906, 'Patting': 206.83937072753906, 'Greeting': 164.8765106201172, 'Talking': 164.06459045410156, 'Gaming': 213.91038513183594}}\n"
     ]
    },
    {
     "name": "stderr",
     "output_type": "stream",
     "text": [
      "100%|██████████| 5352/5352 [13:23<00:00,  6.66it/s]\n",
      "\u001b[94m18:33:05 \u001b[92m[INFO]\u001b[94m Main\u001b[0m: Saving evaluation results...\n",
      "\u001b[94m18:33:05 \u001b[92m[INFO]\u001b[94m Main\u001b[0m: Done.\n",
      "\u001b[94m18:33:05 \u001b[92m[INFO]\u001b[94m Main\u001b[0m: Starting demo...\n",
      "  0%|          | 0/5352 [00:00<?, ?it/s]/opt/conda/lib/python3.10/site-packages/torchvision/transforms/transforms.py:329: UserWarning: Argument 'interpolation' of type int is deprecated since 0.13 and will be removed in 0.15. Please use InterpolationMode enum.\n",
      "  warnings.warn(\n",
      "/opt/conda/lib/python3.10/site-packages/torchvision/transforms/transforms.py:329: UserWarning: Argument 'interpolation' of type int is deprecated since 0.13 and will be removed in 0.15. Please use InterpolationMode enum.\n",
      "  warnings.warn(\n",
      "/opt/conda/lib/python3.10/site-packages/torchvision/transforms/transforms.py:329: UserWarning: Argument 'interpolation' of type int is deprecated since 0.13 and will be removed in 0.15. Please use InterpolationMode enum.\n",
      "  warnings.warn(\n",
      "/opt/conda/lib/python3.10/site-packages/torchvision/transforms/transforms.py:329: UserWarning: Argument 'interpolation' of type int is deprecated since 0.13 and will be removed in 0.15. Please use InterpolationMode enum.\n",
      "  warnings.warn(\n",
      "/opt/conda/lib/python3.10/site-packages/torchvision/transforms/transforms.py:329: UserWarning: Argument 'interpolation' of type int is deprecated since 0.13 and will be removed in 0.15. Please use InterpolationMode enum.\n",
      "  warnings.warn(\n",
      "/opt/conda/lib/python3.10/site-packages/torchvision/transforms/transforms.py:329: UserWarning: Argument 'interpolation' of type int is deprecated since 0.13 and will be removed in 0.15. Please use InterpolationMode enum.\n",
      "  warnings.warn(\n",
      "/opt/conda/lib/python3.10/site-packages/torchvision/transforms/transforms.py:329: UserWarning: Argument 'interpolation' of type int is deprecated since 0.13 and will be removed in 0.15. Please use InterpolationMode enum.\n",
      "  warnings.warn(\n",
      "/opt/conda/lib/python3.10/site-packages/torchvision/transforms/transforms.py:329: UserWarning: Argument 'interpolation' of type int is deprecated since 0.13 and will be removed in 0.15. Please use InterpolationMode enum.\n",
      "  warnings.warn(\n",
      "/opt/conda/lib/python3.10/site-packages/torchvision/transforms/transforms.py:329: UserWarning: Argument 'interpolation' of type int is deprecated since 0.13 and will be removed in 0.15. Please use InterpolationMode enum.\n",
      "  warnings.warn(\n",
      "/opt/conda/lib/python3.10/site-packages/torchvision/transforms/transforms.py:329: UserWarning: Argument 'interpolation' of type int is deprecated since 0.13 and will be removed in 0.15. Please use InterpolationMode enum.\n",
      "  warnings.warn(\n",
      "/opt/conda/lib/python3.10/site-packages/torchvision/transforms/transforms.py:329: UserWarning: Argument 'interpolation' of type int is deprecated since 0.13 and will be removed in 0.15. Please use InterpolationMode enum.\n",
      "  warnings.warn(\n",
      "/opt/conda/lib/python3.10/site-packages/torchvision/transforms/transforms.py:329: UserWarning: Argument 'interpolation' of type int is deprecated since 0.13 and will be removed in 0.15. Please use InterpolationMode enum.\n",
      "  warnings.warn(\n",
      "/opt/conda/lib/python3.10/site-packages/torchvision/transforms/transforms.py:329: UserWarning: Argument 'interpolation' of type int is deprecated since 0.13 and will be removed in 0.15. Please use InterpolationMode enum.\n",
      "  warnings.warn(\n",
      "/opt/conda/lib/python3.10/site-packages/torchvision/transforms/transforms.py:329: UserWarning: Argument 'interpolation' of type int is deprecated since 0.13 and will be removed in 0.15. Please use InterpolationMode enum.\n",
      "  warnings.warn(\n",
      "/opt/conda/lib/python3.10/site-packages/torchvision/transforms/transforms.py:329: UserWarning: Argument 'interpolation' of type int is deprecated since 0.13 and will be removed in 0.15. Please use InterpolationMode enum.\n",
      "  warnings.warn(\n",
      "/opt/conda/lib/python3.10/site-packages/torchvision/transforms/transforms.py:329: UserWarning: Argument 'interpolation' of type int is deprecated since 0.13 and will be removed in 0.15. Please use InterpolationMode enum.\n",
      "  warnings.warn(\n",
      "/opt/conda/lib/python3.10/site-packages/torchvision/transforms/transforms.py:329: UserWarning: Argument 'interpolation' of type int is deprecated since 0.13 and will be removed in 0.15. Please use InterpolationMode enum.\n",
      "  warnings.warn(\n",
      "/opt/conda/lib/python3.10/site-packages/torchvision/transforms/transforms.py:329: UserWarning: Argument 'interpolation' of type int is deprecated since 0.13 and will be removed in 0.15. Please use InterpolationMode enum.\n",
      "  warnings.warn(\n",
      "/opt/conda/lib/python3.10/site-packages/torchvision/transforms/transforms.py:329: UserWarning: Argument 'interpolation' of type int is deprecated since 0.13 and will be removed in 0.15. Please use InterpolationMode enum.\n",
      "  warnings.warn(\n",
      "/opt/conda/lib/python3.10/site-packages/torchvision/transforms/transforms.py:329: UserWarning: Argument 'interpolation' of type int is deprecated since 0.13 and will be removed in 0.15. Please use InterpolationMode enum.\n",
      "  warnings.warn(\n",
      "/opt/conda/lib/python3.10/site-packages/torchvision/transforms/transforms.py:329: UserWarning: Argument 'interpolation' of type int is deprecated since 0.13 and will be removed in 0.15. Please use InterpolationMode enum.\n",
      "  warnings.warn(\n",
      "/opt/conda/lib/python3.10/site-packages/torchvision/transforms/transforms.py:329: UserWarning: Argument 'interpolation' of type int is deprecated since 0.13 and will be removed in 0.15. Please use InterpolationMode enum.\n",
      "  warnings.warn(\n",
      "/opt/conda/lib/python3.10/site-packages/torchvision/transforms/transforms.py:329: UserWarning: Argument 'interpolation' of type int is deprecated since 0.13 and will be removed in 0.15. Please use InterpolationMode enum.\n",
      "  warnings.warn(\n",
      "/opt/conda/lib/python3.10/site-packages/torchvision/transforms/transforms.py:329: UserWarning: Argument 'interpolation' of type int is deprecated since 0.13 and will be removed in 0.15. Please use InterpolationMode enum.\n",
      "  warnings.warn(\n",
      "  4%|▎         | 200/5352 [00:36<12:38,  6.79it/s]"
     ]
    },
    {
     "name": "stdout",
     "output_type": "stream",
     "text": [
      "{'FullBody': {'All': 172.5407257080078, 'Reacting': 101.36759948730469, 'UpperStretching': 175.7167510986328, 'LowerStretching': 200.0768280029297, 'Walking': 192.6306610107422, 'Greeting': 86.36799621582031, 'Patting': 120.75243377685547, 'Gaming': 99.58102416992188, 'Gesticuling': 85.12919616699219, 'Talking': 84.84098815917969}, 'UpperBody': {'All': 93.23064422607422, 'Reacting': 67.41229248046875, 'UpperStretching': 102.37139892578125, 'LowerStretching': 82.02071380615234, 'Walking': 94.04273223876953, 'Greeting': 60.0198860168457, 'Patting': 79.35199737548828, 'Gaming': 61.37918472290039, 'Gesticuling': 59.16915512084961, 'Talking': 51.784690856933594}, 'LowerBody': {'All': 251.85081481933594, 'Reacting': 135.32289123535156, 'UpperStretching': 249.06210327148438, 'LowerStretching': 318.1329040527344, 'Walking': 291.2185363769531, 'Greeting': 112.71611022949219, 'Patting': 162.15286254882812, 'Gaming': 137.7828826904297, 'Gesticuling': 111.08924102783203, 'Talking': 117.89730072021484}}\n"
     ]
    },
    {
     "name": "stderr",
     "output_type": "stream",
     "text": [
      "  7%|▋         | 401/5352 [01:05<12:21,  6.68it/s]"
     ]
    },
    {
     "name": "stdout",
     "output_type": "stream",
     "text": [
      "{'FullBody': {'All': 173.98316955566406, 'Reacting': 100.38837432861328, 'UpperStretching': 177.83999633789062, 'LowerStretching': 200.09486389160156, 'Walking': 194.44851684570312, 'Greeting': 82.87379455566406, 'Patting': 117.03823852539062, 'Gaming': 100.83758544921875, 'Gesticuling': 84.45193481445312, 'Talking': 85.18848419189453}, 'UpperBody': {'All': 93.56707763671875, 'Reacting': 66.09596252441406, 'UpperStretching': 102.66400909423828, 'LowerStretching': 82.43770599365234, 'Walking': 95.29717254638672, 'Greeting': 60.197975158691406, 'Patting': 74.84403991699219, 'Gaming': 61.7772331237793, 'Gesticuling': 59.219078063964844, 'Talking': 53.26243591308594}, 'LowerBody': {'All': 254.39926147460938, 'Reacting': 134.68077087402344, 'UpperStretching': 253.0159454345703, 'LowerStretching': 317.7519836425781, 'Walking': 293.5998840332031, 'Greeting': 105.54961395263672, 'Patting': 159.23245239257812, 'Gaming': 139.8979034423828, 'Gesticuling': 109.68476104736328, 'Talking': 117.114501953125}}\n"
     ]
    },
    {
     "name": "stderr",
     "output_type": "stream",
     "text": [
      " 11%|█         | 601/5352 [01:35<11:21,  6.97it/s]"
     ]
    },
    {
     "name": "stdout",
     "output_type": "stream",
     "text": [
      "{'FullBody': {'All': 175.07177734375, 'Reacting': 100.87540435791016, 'UpperStretching': 177.764892578125, 'LowerStretching': 202.72142028808594, 'Walking': 195.4967041015625, 'Greeting': 85.88104248046875, 'Patting': 120.54611206054688, 'Gaming': 106.60433959960938, 'Gesticuling': 84.01564025878906, 'Talking': 85.87037658691406}, 'UpperBody': {'All': 94.08145904541016, 'Reacting': 67.8298110961914, 'UpperStretching': 102.85689544677734, 'LowerStretching': 83.0906753540039, 'Walking': 95.99163055419922, 'Greeting': 60.35368728637695, 'Patting': 75.1865463256836, 'Gaming': 62.8369255065918, 'Gesticuling': 59.37731170654297, 'Talking': 55.07178497314453}, 'LowerBody': {'All': 256.0621032714844, 'Reacting': 133.92098999023438, 'UpperStretching': 252.6728973388672, 'LowerStretching': 322.3521728515625, 'Walking': 295.00177001953125, 'Greeting': 111.40838623046875, 'Patting': 165.90570068359375, 'Gaming': 150.37176513671875, 'Gesticuling': 108.6539535522461, 'Talking': 116.66898345947266}}\n"
     ]
    },
    {
     "name": "stderr",
     "output_type": "stream",
     "text": [
      " 15%|█▍        | 801/5352 [02:05<10:47,  7.03it/s]"
     ]
    },
    {
     "name": "stdout",
     "output_type": "stream",
     "text": [
      "{'FullBody': {'All': 175.74539184570312, 'Reacting': 100.75154113769531, 'UpperStretching': 178.5032958984375, 'LowerStretching': 203.6718292236328, 'Walking': 196.2875518798828, 'Greeting': 85.81342315673828, 'Patting': 119.7448501586914, 'Gaming': 107.80778503417969, 'Gesticuling': 84.4971694946289, 'Talking': 85.91453552246094}, 'UpperBody': {'All': 93.7552719116211, 'Reacting': 66.305908203125, 'UpperStretching': 102.42739868164062, 'LowerStretching': 83.16060638427734, 'Walking': 95.87831115722656, 'Greeting': 60.54425811767578, 'Patting': 74.36868286132812, 'Gaming': 62.69658660888672, 'Gesticuling': 59.88081359863281, 'Talking': 55.973026275634766}, 'LowerBody': {'All': 257.73553466796875, 'Reacting': 135.19715881347656, 'UpperStretching': 254.57919311523438, 'LowerStretching': 324.18304443359375, 'Walking': 296.6968078613281, 'Greeting': 111.08259582519531, 'Patting': 165.12103271484375, 'Gaming': 152.91897583007812, 'Gesticuling': 109.113525390625, 'Talking': 115.85602569580078}}\n"
     ]
    },
    {
     "name": "stderr",
     "output_type": "stream",
     "text": [
      " 19%|█▊        | 1001/5352 [02:34<10:43,  6.76it/s]"
     ]
    },
    {
     "name": "stdout",
     "output_type": "stream",
     "text": [
      "{'FullBody': {'All': 176.19468688964844, 'Reacting': 102.75274658203125, 'UpperStretching': 178.9634552001953, 'LowerStretching': 203.83717346191406, 'Walking': 195.8999481201172, 'Greeting': 85.99569702148438, 'Patting': 121.28636932373047, 'Gaming': 107.02659606933594, 'Gesticuling': 84.72701263427734, 'Talking': 85.7453842163086}, 'UpperBody': {'All': 93.98945617675781, 'Reacting': 67.6017837524414, 'UpperStretching': 102.60298919677734, 'LowerStretching': 83.08720397949219, 'Walking': 96.4940414428711, 'Greeting': 60.0803108215332, 'Patting': 75.93016052246094, 'Gaming': 62.40605926513672, 'Gesticuling': 59.76515579223633, 'Talking': 56.01359939575195}, 'LowerBody': {'All': 258.3999328613281, 'Reacting': 137.9036865234375, 'UpperStretching': 255.32391357421875, 'LowerStretching': 324.587158203125, 'Walking': 295.30584716796875, 'Greeting': 111.91109466552734, 'Patting': 166.642578125, 'Gaming': 151.64715576171875, 'Gesticuling': 109.68887329101562, 'Talking': 115.47718048095703}}\n"
     ]
    },
    {
     "name": "stderr",
     "output_type": "stream",
     "text": [
      " 22%|██▏       | 1201/5352 [03:04<10:02,  6.89it/s]"
     ]
    },
    {
     "name": "stdout",
     "output_type": "stream",
     "text": [
      "{'FullBody': {'All': 176.2085418701172, 'Reacting': 102.48201751708984, 'UpperStretching': 179.17767333984375, 'LowerStretching': 203.2480926513672, 'Walking': 195.6145782470703, 'Greeting': 87.8506088256836, 'Patting': 119.06584167480469, 'Gaming': 107.39359283447266, 'Gesticuling': 85.73113250732422, 'Talking': 85.1694564819336}, 'UpperBody': {'All': 94.06067657470703, 'Reacting': 67.95777893066406, 'UpperStretching': 102.50362396240234, 'LowerStretching': 83.29420471191406, 'Walking': 96.56156158447266, 'Greeting': 61.48478698730469, 'Patting': 74.0309829711914, 'Gaming': 62.75729751586914, 'Gesticuling': 60.993839263916016, 'Talking': 55.94722366333008}, 'LowerBody': {'All': 258.3564453125, 'Reacting': 137.00624084472656, 'UpperStretching': 255.8517303466797, 'LowerStretching': 323.2019958496094, 'Walking': 294.6676025390625, 'Greeting': 114.2164306640625, 'Patting': 164.1007080078125, 'Gaming': 152.02987670898438, 'Gesticuling': 110.46842193603516, 'Talking': 114.3917007446289}}\n"
     ]
    },
    {
     "name": "stderr",
     "output_type": "stream",
     "text": [
      " 26%|██▌       | 1401/5352 [03:33<09:31,  6.91it/s]"
     ]
    },
    {
     "name": "stdout",
     "output_type": "stream",
     "text": [
      "{'FullBody': {'All': 176.3260040283203, 'Reacting': 101.85799407958984, 'UpperStretching': 179.66156005859375, 'LowerStretching': 202.38499450683594, 'Walking': 195.35264587402344, 'Greeting': 86.91345977783203, 'Patting': 117.03045654296875, 'Gaming': 107.99422454833984, 'Gesticuling': 85.34770202636719, 'Talking': 85.717041015625}, 'UpperBody': {'All': 94.11407470703125, 'Reacting': 67.77642822265625, 'UpperStretching': 102.56710815429688, 'LowerStretching': 83.125, 'Walking': 96.96195983886719, 'Greeting': 60.41888427734375, 'Patting': 73.43667602539062, 'Gaming': 62.958290100097656, 'Gesticuling': 61.00028991699219, 'Talking': 56.377349853515625}, 'LowerBody': {'All': 258.5379333496094, 'Reacting': 135.9395294189453, 'UpperStretching': 256.7560119628906, 'LowerStretching': 321.6449890136719, 'Walking': 293.7433166503906, 'Greeting': 113.40804290771484, 'Patting': 160.6242218017578, 'Gaming': 153.03016662597656, 'Gesticuling': 109.69511413574219, 'Talking': 115.0567398071289}}\n"
     ]
    },
    {
     "name": "stderr",
     "output_type": "stream",
     "text": [
      " 30%|██▉       | 1601/5352 [04:03<09:13,  6.78it/s]"
     ]
    },
    {
     "name": "stdout",
     "output_type": "stream",
     "text": [
      "{'FullBody': {'All': 176.43026733398438, 'Reacting': 102.70488739013672, 'UpperStretching': 179.7804718017578, 'LowerStretching': 203.26939392089844, 'Walking': 195.44287109375, 'Greeting': 85.97520446777344, 'Patting': 117.87237548828125, 'Gaming': 107.32525634765625, 'Gesticuling': 85.56294250488281, 'Talking': 85.20855712890625}, 'UpperBody': {'All': 94.06734466552734, 'Reacting': 67.4645004272461, 'UpperStretching': 102.49195098876953, 'LowerStretching': 83.39630126953125, 'Walking': 97.00970458984375, 'Greeting': 59.730037689208984, 'Patting': 73.03440856933594, 'Gaming': 62.89921569824219, 'Gesticuling': 61.055049896240234, 'Talking': 56.08020782470703}, 'LowerBody': {'All': 258.7932434082031, 'Reacting': 137.9452667236328, 'UpperStretching': 257.0689697265625, 'LowerStretching': 323.1424865722656, 'Walking': 293.87603759765625, 'Greeting': 112.22037506103516, 'Patting': 162.71034240722656, 'Gaming': 151.75132751464844, 'Gesticuling': 110.07080078125, 'Talking': 114.3369140625}}\n"
     ]
    },
    {
     "name": "stderr",
     "output_type": "stream",
     "text": [
      " 34%|███▎      | 1801/5352 [04:32<08:38,  6.85it/s]"
     ]
    },
    {
     "name": "stdout",
     "output_type": "stream",
     "text": [
      "{'FullBody': {'All': 176.48614501953125, 'Reacting': 104.3115463256836, 'UpperStretching': 179.6343231201172, 'LowerStretching': 203.4888916015625, 'Walking': 195.63438415527344, 'Greeting': 85.76717376708984, 'Patting': 118.25495910644531, 'Gaming': 108.14856719970703, 'Gesticuling': 85.69661712646484, 'Talking': 86.34809112548828}, 'UpperBody': {'All': 94.0510482788086, 'Reacting': 68.01976776123047, 'UpperStretching': 102.38227844238281, 'LowerStretching': 83.46733856201172, 'Walking': 97.00313568115234, 'Greeting': 59.417518615722656, 'Patting': 73.39332580566406, 'Gaming': 62.813533782958984, 'Gesticuling': 61.316043853759766, 'Talking': 57.012123107910156}, 'LowerBody': {'All': 258.9212951660156, 'Reacting': 140.60333251953125, 'UpperStretching': 256.8863220214844, 'LowerStretching': 323.51043701171875, 'Walking': 294.2656555175781, 'Greeting': 112.11682891845703, 'Patting': 163.11660766601562, 'Gaming': 153.48358154296875, 'Gesticuling': 110.07718658447266, 'Talking': 115.68404388427734}}\n"
     ]
    },
    {
     "name": "stderr",
     "output_type": "stream",
     "text": [
      " 37%|███▋      | 2001/5352 [05:02<08:07,  6.87it/s]"
     ]
    },
    {
     "name": "stdout",
     "output_type": "stream",
     "text": [
      "{'FullBody': {'All': 176.3928680419922, 'Reacting': 104.16493225097656, 'UpperStretching': 179.65231323242188, 'LowerStretching': 203.90469360351562, 'Walking': 194.28123474121094, 'Greeting': 86.62550354003906, 'Patting': 118.85948181152344, 'Gaming': 107.23171997070312, 'Gesticuling': 85.83161163330078, 'Talking': 86.30848693847656}, 'UpperBody': {'All': 93.92801666259766, 'Reacting': 67.46218872070312, 'UpperStretching': 102.3353042602539, 'LowerStretching': 83.38123321533203, 'Walking': 96.46024322509766, 'Greeting': 60.33600997924805, 'Patting': 74.31338500976562, 'Gaming': 62.92332077026367, 'Gesticuling': 61.507965087890625, 'Talking': 57.022212982177734}, 'LowerBody': {'All': 258.8577880859375, 'Reacting': 140.86767578125, 'UpperStretching': 256.96929931640625, 'LowerStretching': 324.4281311035156, 'Walking': 292.10223388671875, 'Greeting': 112.91497802734375, 'Patting': 163.4055633544922, 'Gaming': 151.5401153564453, 'Gesticuling': 110.1552734375, 'Talking': 115.59475708007812}}\n"
     ]
    },
    {
     "name": "stderr",
     "output_type": "stream",
     "text": [
      " 41%|████      | 2201/5352 [05:32<08:08,  6.45it/s]"
     ]
    },
    {
     "name": "stdout",
     "output_type": "stream",
     "text": [
      "{'FullBody': {'All': 175.97122192382812, 'Reacting': 103.7524185180664, 'UpperStretching': 179.3965606689453, 'LowerStretching': 202.8773651123047, 'Walking': 193.9431610107422, 'Greeting': 86.72134399414062, 'Patting': 119.06212615966797, 'Gaming': 107.25352478027344, 'Gesticuling': 85.45198822021484, 'Talking': 86.24807739257812}, 'UpperBody': {'All': 93.79090118408203, 'Reacting': 67.45425415039062, 'UpperStretching': 102.2123031616211, 'LowerStretching': 83.11626434326172, 'Walking': 96.55291748046875, 'Greeting': 60.51776123046875, 'Patting': 74.3245620727539, 'Gaming': 62.63266372680664, 'Gesticuling': 60.85647964477539, 'Talking': 57.4556999206543}, 'LowerBody': {'All': 258.15155029296875, 'Reacting': 140.05059814453125, 'UpperStretching': 256.580810546875, 'LowerStretching': 322.6384582519531, 'Walking': 291.3334045410156, 'Greeting': 112.92491912841797, 'Patting': 163.7996826171875, 'Gaming': 151.87440490722656, 'Gesticuling': 110.04752349853516, 'Talking': 115.04045867919922}}\n"
     ]
    },
    {
     "name": "stderr",
     "output_type": "stream",
     "text": [
      " 45%|████▍     | 2401/5352 [06:02<07:15,  6.78it/s]"
     ]
    },
    {
     "name": "stdout",
     "output_type": "stream",
     "text": [
      "{'FullBody': {'All': 175.96389770507812, 'Reacting': 103.91497802734375, 'UpperStretching': 179.4835205078125, 'LowerStretching': 202.50457763671875, 'Walking': 193.68983459472656, 'Greeting': 86.4081039428711, 'Patting': 120.7675552368164, 'Gaming': 107.60554504394531, 'Gesticuling': 85.5628890991211, 'Talking': 85.61802673339844}, 'UpperBody': {'All': 93.82654571533203, 'Reacting': 67.62248992919922, 'UpperStretching': 102.30830383300781, 'LowerStretching': 83.04737854003906, 'Walking': 96.29094696044922, 'Greeting': 60.00550842285156, 'Patting': 75.46311950683594, 'Gaming': 62.535797119140625, 'Gesticuling': 60.990806579589844, 'Talking': 57.128868103027344}, 'LowerBody': {'All': 258.10125732421875, 'Reacting': 140.20745849609375, 'UpperStretching': 256.6587219238281, 'LowerStretching': 321.9617919921875, 'Walking': 291.0887451171875, 'Greeting': 112.8106918334961, 'Patting': 166.07199096679688, 'Gaming': 152.67529296875, 'Gesticuling': 110.13494873046875, 'Talking': 114.10719299316406}}\n"
     ]
    },
    {
     "name": "stderr",
     "output_type": "stream",
     "text": [
      " 49%|████▊     | 2601/5352 [06:31<06:36,  6.93it/s]"
     ]
    },
    {
     "name": "stdout",
     "output_type": "stream",
     "text": [
      "{'FullBody': {'All': 175.95713806152344, 'Reacting': 104.11802673339844, 'UpperStretching': 179.76510620117188, 'LowerStretching': 201.9925537109375, 'Walking': 193.4351348876953, 'Greeting': 86.25244903564453, 'Patting': 121.6632308959961, 'Gaming': 107.11286163330078, 'Gesticuling': 85.72093200683594, 'Talking': 85.34822845458984}, 'UpperBody': {'All': 93.83881378173828, 'Reacting': 67.68684387207031, 'UpperStretching': 102.4593505859375, 'LowerStretching': 82.88489532470703, 'Walking': 96.06885528564453, 'Greeting': 59.862972259521484, 'Patting': 75.82450866699219, 'Gaming': 62.2646369934082, 'Gesticuling': 60.981727600097656, 'Talking': 56.7473258972168}, 'LowerBody': {'All': 258.0754699707031, 'Reacting': 140.54920959472656, 'UpperStretching': 257.07086181640625, 'LowerStretching': 321.1001892089844, 'Walking': 290.8014221191406, 'Greeting': 112.64195251464844, 'Patting': 167.50192260742188, 'Gaming': 151.9611053466797, 'Gesticuling': 110.46012878417969, 'Talking': 113.9491195678711}}\n"
     ]
    },
    {
     "name": "stderr",
     "output_type": "stream",
     "text": [
      " 52%|█████▏    | 2801/5352 [07:01<06:48,  6.25it/s]"
     ]
    },
    {
     "name": "stdout",
     "output_type": "stream",
     "text": [
      "{'FullBody': {'All': 176.0373992919922, 'Reacting': 104.6163330078125, 'UpperStretching': 179.87554931640625, 'LowerStretching': 202.3640899658203, 'Walking': 192.88088989257812, 'Greeting': 86.18502807617188, 'Patting': 120.79460144042969, 'Gaming': 106.40861511230469, 'Gesticuling': 86.00572204589844, 'Talking': 85.49037170410156}, 'UpperBody': {'All': 93.88676452636719, 'Reacting': 68.01529693603516, 'UpperStretching': 102.50081634521484, 'LowerStretching': 83.08708190917969, 'Walking': 95.79764556884766, 'Greeting': 59.576934814453125, 'Patting': 75.38629913330078, 'Gaming': 61.97412109375, 'Gesticuling': 61.140541076660156, 'Talking': 56.9406623840332}, 'LowerBody': {'All': 258.18804931640625, 'Reacting': 141.2173614501953, 'UpperStretching': 257.2502746582031, 'LowerStretching': 321.6410827636719, 'Walking': 289.964111328125, 'Greeting': 112.7931137084961, 'Patting': 166.20289611816406, 'Gaming': 150.8430938720703, 'Gesticuling': 110.87089538574219, 'Talking': 114.04008483886719}}\n"
     ]
    },
    {
     "name": "stderr",
     "output_type": "stream",
     "text": [
      " 56%|█████▌    | 3001/5352 [07:31<05:48,  6.74it/s]"
     ]
    },
    {
     "name": "stdout",
     "output_type": "stream",
     "text": [
      "{'FullBody': {'All': 175.91378784179688, 'Reacting': 104.2430419921875, 'UpperStretching': 179.80087280273438, 'LowerStretching': 202.17503356933594, 'Walking': 192.9872283935547, 'Greeting': 86.26222229003906, 'Patting': 119.97703552246094, 'Gaming': 106.50177764892578, 'Gesticuling': 86.31858825683594, 'Talking': 85.52587127685547}, 'UpperBody': {'All': 93.78949737548828, 'Reacting': 67.68982696533203, 'UpperStretching': 102.421142578125, 'LowerStretching': 82.93108367919922, 'Walking': 95.94019317626953, 'Greeting': 59.44781494140625, 'Patting': 74.4576187133789, 'Gaming': 62.09658432006836, 'Gesticuling': 61.33599090576172, 'Talking': 56.958648681640625}, 'LowerBody': {'All': 258.0381164550781, 'Reacting': 140.79624938964844, 'UpperStretching': 257.18060302734375, 'LowerStretching': 321.41900634765625, 'Walking': 290.0342712402344, 'Greeting': 113.07662200927734, 'Patting': 165.49644470214844, 'Gaming': 150.90695190429688, 'Gesticuling': 111.30120086669922, 'Talking': 114.09310913085938}}\n"
     ]
    },
    {
     "name": "stderr",
     "output_type": "stream",
     "text": [
      " 60%|█████▉    | 3201/5352 [08:01<05:20,  6.71it/s]"
     ]
    },
    {
     "name": "stdout",
     "output_type": "stream",
     "text": [
      "{'FullBody': {'All': 175.88560485839844, 'Reacting': 104.34298706054688, 'UpperStretching': 179.87808227539062, 'LowerStretching': 201.73597717285156, 'Walking': 193.3932647705078, 'Greeting': 85.66007995605469, 'Patting': 119.5165023803711, 'Gaming': 106.72842407226562, 'Gesticuling': 86.33858489990234, 'Talking': 85.38742065429688}, 'UpperBody': {'All': 93.76854705810547, 'Reacting': 67.71390533447266, 'UpperStretching': 102.4925765991211, 'LowerStretching': 82.72098541259766, 'Walking': 95.893798828125, 'Greeting': 59.12221145629883, 'Patting': 74.10681915283203, 'Gaming': 62.14842224121094, 'Gesticuling': 61.34550857543945, 'Talking': 57.02595520019531}, 'LowerBody': {'All': 258.0026550292969, 'Reacting': 140.97207641601562, 'UpperStretching': 257.2635498046875, 'LowerStretching': 320.7509460449219, 'Walking': 290.8927307128906, 'Greeting': 112.19793701171875, 'Patting': 164.9261932373047, 'Gaming': 151.3084259033203, 'Gesticuling': 111.33165740966797, 'Talking': 113.74889373779297}}\n"
     ]
    },
    {
     "name": "stderr",
     "output_type": "stream",
     "text": [
      " 64%|██████▎   | 3401/5352 [08:31<05:11,  6.26it/s]"
     ]
    },
    {
     "name": "stdout",
     "output_type": "stream",
     "text": [
      "{'FullBody': {'All': 175.9346466064453, 'Reacting': 104.11627960205078, 'UpperStretching': 179.66709899902344, 'LowerStretching': 202.24037170410156, 'Walking': 193.70962524414062, 'Greeting': 86.10041046142578, 'Patting': 119.5107650756836, 'Gaming': 106.6463851928711, 'Gesticuling': 86.17987823486328, 'Talking': 85.79959869384766}, 'UpperBody': {'All': 93.82807922363281, 'Reacting': 67.64932250976562, 'UpperStretching': 102.49186706542969, 'LowerStretching': 82.82218170166016, 'Walking': 96.06758880615234, 'Greeting': 59.28682327270508, 'Patting': 74.44163513183594, 'Gaming': 62.20144271850586, 'Gesticuling': 61.25491714477539, 'Talking': 57.20011901855469}, 'LowerBody': {'All': 258.0412292480469, 'Reacting': 140.58323669433594, 'UpperStretching': 256.8423156738281, 'LowerStretching': 321.6585388183594, 'Walking': 291.3516540527344, 'Greeting': 112.91399383544922, 'Patting': 164.5799102783203, 'Gaming': 151.09133911132812, 'Gesticuling': 111.10484313964844, 'Talking': 114.39908599853516}}\n"
     ]
    },
    {
     "name": "stderr",
     "output_type": "stream",
     "text": [
      " 67%|██████▋   | 3601/5352 [09:01<04:20,  6.73it/s]"
     ]
    },
    {
     "name": "stdout",
     "output_type": "stream",
     "text": [
      "{'FullBody': {'All': 175.80880737304688, 'Reacting': 104.01969146728516, 'UpperStretching': 179.51454162597656, 'LowerStretching': 202.40428161621094, 'Walking': 193.22702026367188, 'Greeting': 86.21077728271484, 'Patting': 119.38907623291016, 'Gaming': 106.40242767333984, 'Gesticuling': 86.30471801757812, 'Talking': 85.90763854980469}, 'UpperBody': {'All': 93.74662017822266, 'Reacting': 67.66796112060547, 'UpperStretching': 102.37681579589844, 'LowerStretching': 82.78516387939453, 'Walking': 96.06623077392578, 'Greeting': 59.38457107543945, 'Patting': 74.29889678955078, 'Gaming': 62.10803985595703, 'Gesticuling': 61.40584182739258, 'Talking': 57.170982360839844}, 'LowerBody': {'All': 257.8709716796875, 'Reacting': 140.37139892578125, 'UpperStretching': 256.65228271484375, 'LowerStretching': 322.02337646484375, 'Walking': 290.3878173828125, 'Greeting': 113.03697967529297, 'Patting': 164.479248046875, 'Gaming': 150.69680786132812, 'Gesticuling': 111.20359802246094, 'Talking': 114.644287109375}}\n"
     ]
    },
    {
     "name": "stderr",
     "output_type": "stream",
     "text": [
      " 71%|███████   | 3801/5352 [09:31<03:54,  6.60it/s]"
     ]
    },
    {
     "name": "stdout",
     "output_type": "stream",
     "text": [
      "{'FullBody': {'All': 175.80250549316406, 'Reacting': 104.02063751220703, 'UpperStretching': 179.4590301513672, 'LowerStretching': 202.49319458007812, 'Walking': 193.21168518066406, 'Greeting': 86.27373504638672, 'Patting': 120.12197875976562, 'Gaming': 106.18014526367188, 'Gesticuling': 86.28202819824219, 'Talking': 86.0185546875}, 'UpperBody': {'All': 93.69911193847656, 'Reacting': 67.72727966308594, 'UpperStretching': 102.26929473876953, 'LowerStretching': 82.76531982421875, 'Walking': 96.20171356201172, 'Greeting': 59.436973571777344, 'Patting': 74.98118591308594, 'Gaming': 62.042259216308594, 'Gesticuling': 61.38161849975586, 'Talking': 57.18907928466797}, 'LowerBody': {'All': 257.9058837890625, 'Reacting': 140.31398010253906, 'UpperStretching': 256.6487731933594, 'LowerStretching': 322.2210693359375, 'Walking': 290.2216796875, 'Greeting': 113.11050415039062, 'Patting': 165.2627716064453, 'Gaming': 150.31802368164062, 'Gesticuling': 111.18243408203125, 'Talking': 114.84803771972656}}\n"
     ]
    },
    {
     "name": "stderr",
     "output_type": "stream",
     "text": [
      " 75%|███████▍  | 4001/5352 [10:01<03:38,  6.17it/s]"
     ]
    },
    {
     "name": "stdout",
     "output_type": "stream",
     "text": [
      "{'FullBody': {'All': 175.8217315673828, 'Reacting': 103.99542236328125, 'UpperStretching': 179.48292541503906, 'LowerStretching': 202.43692016601562, 'Walking': 193.10646057128906, 'Greeting': 86.58965301513672, 'Patting': 119.86585998535156, 'Gaming': 106.78824615478516, 'Gesticuling': 86.18900299072266, 'Talking': 86.1466064453125}, 'UpperBody': {'All': 93.76078796386719, 'Reacting': 67.8938980102539, 'UpperStretching': 102.31314086914062, 'LowerStretching': 82.79508972167969, 'Walking': 96.27434539794922, 'Greeting': 59.67414855957031, 'Patting': 74.76122283935547, 'Gaming': 62.01118087768555, 'Gesticuling': 61.4741325378418, 'Talking': 57.29574203491211}, 'LowerBody': {'All': 257.8826599121094, 'Reacting': 140.09695434570312, 'UpperStretching': 256.6527404785156, 'LowerStretching': 322.0787353515625, 'Walking': 289.9385986328125, 'Greeting': 113.50515747070312, 'Patting': 164.97048950195312, 'Gaming': 151.5653076171875, 'Gesticuling': 110.90388488769531, 'Talking': 114.99747467041016}}\n"
     ]
    },
    {
     "name": "stderr",
     "output_type": "stream",
     "text": [
      " 78%|███████▊  | 4201/5352 [10:31<03:01,  6.34it/s]"
     ]
    },
    {
     "name": "stdout",
     "output_type": "stream",
     "text": [
      "{'FullBody': {'All': 175.8421173095703, 'Reacting': 103.94156646728516, 'UpperStretching': 179.59262084960938, 'LowerStretching': 202.31613159179688, 'Walking': 193.10247802734375, 'Greeting': 86.56551361083984, 'Patting': 119.53266143798828, 'Gaming': 106.74740600585938, 'Gesticuling': 86.14768981933594, 'Talking': 85.85448455810547}, 'UpperBody': {'All': 93.76747131347656, 'Reacting': 67.96355438232422, 'UpperStretching': 102.34896087646484, 'LowerStretching': 82.74117279052734, 'Walking': 96.32271575927734, 'Greeting': 59.63722229003906, 'Patting': 74.47879028320312, 'Gaming': 62.0467643737793, 'Gesticuling': 61.467384338378906, 'Talking': 57.1501350402832}, 'LowerBody': {'All': 257.9167175292969, 'Reacting': 139.91958618164062, 'UpperStretching': 256.8363037109375, 'LowerStretching': 321.8910827636719, 'Walking': 289.8822326660156, 'Greeting': 113.4937973022461, 'Patting': 164.58653259277344, 'Gaming': 151.44805908203125, 'Gesticuling': 110.82799530029297, 'Talking': 114.55884552001953}}\n"
     ]
    },
    {
     "name": "stderr",
     "output_type": "stream",
     "text": [
      " 82%|████████▏ | 4401/5352 [11:00<02:24,  6.60it/s]"
     ]
    },
    {
     "name": "stdout",
     "output_type": "stream",
     "text": [
      "{'FullBody': {'All': 175.79348754882812, 'Reacting': 104.01731872558594, 'UpperStretching': 179.54769897460938, 'LowerStretching': 202.2705841064453, 'Walking': 192.99203491210938, 'Greeting': 86.4347152709961, 'Patting': 119.27941131591797, 'Gaming': 106.74734497070312, 'Gesticuling': 86.42344665527344, 'Talking': 85.65097045898438}, 'UpperBody': {'All': 93.7247085571289, 'Reacting': 67.8390121459961, 'UpperStretching': 102.31429290771484, 'LowerStretching': 82.70219421386719, 'Walking': 96.19033813476562, 'Greeting': 59.591796875, 'Patting': 73.97766876220703, 'Gaming': 62.09382247924805, 'Gesticuling': 61.80615234375, 'Talking': 57.13618087768555}, 'LowerBody': {'All': 257.86224365234375, 'Reacting': 140.19564819335938, 'UpperStretching': 256.7811279296875, 'LowerStretching': 321.8389892578125, 'Walking': 289.7937316894531, 'Greeting': 113.2776107788086, 'Patting': 164.5811309814453, 'Gaming': 151.40087890625, 'Gesticuling': 111.04073333740234, 'Talking': 114.165771484375}}\n"
     ]
    },
    {
     "name": "stderr",
     "output_type": "stream",
     "text": [
      " 86%|████████▌ | 4601/5352 [11:30<02:05,  6.01it/s]"
     ]
    },
    {
     "name": "stdout",
     "output_type": "stream",
     "text": [
      "{'FullBody': {'All': 175.86769104003906, 'Reacting': 103.85128021240234, 'UpperStretching': 179.59530639648438, 'LowerStretching': 202.28262329101562, 'Walking': 193.43727111816406, 'Greeting': 86.31676483154297, 'Patting': 119.04469299316406, 'Gaming': 106.78050231933594, 'Gesticuling': 86.27482604980469, 'Talking': 85.73113250732422}, 'UpperBody': {'All': 93.72843933105469, 'Reacting': 67.56348419189453, 'UpperStretching': 102.3228759765625, 'LowerStretching': 82.73310089111328, 'Walking': 96.27173614501953, 'Greeting': 59.50635528564453, 'Patting': 73.98448944091797, 'Gaming': 62.08063507080078, 'Gesticuling': 61.65874481201172, 'Talking': 57.33329772949219}, 'LowerBody': {'All': 258.0069274902344, 'Reacting': 140.13905334472656, 'UpperStretching': 256.86773681640625, 'LowerStretching': 321.8321533203125, 'Walking': 290.6028137207031, 'Greeting': 113.1271743774414, 'Patting': 164.10491943359375, 'Gaming': 151.48036193847656, 'Gesticuling': 110.89092254638672, 'Talking': 114.12897491455078}}\n"
     ]
    },
    {
     "name": "stderr",
     "output_type": "stream",
     "text": [
      " 90%|████████▉ | 4801/5352 [12:01<01:27,  6.30it/s]"
     ]
    },
    {
     "name": "stdout",
     "output_type": "stream",
     "text": [
      "{'FullBody': {'All': 175.88414001464844, 'Reacting': 103.9029541015625, 'UpperStretching': 179.63209533691406, 'LowerStretching': 202.02426147460938, 'Walking': 193.42083740234375, 'Greeting': 86.38561248779297, 'Patting': 119.41413116455078, 'Gaming': 107.13803100585938, 'Gesticuling': 86.35406494140625, 'Talking': 85.5030288696289}, 'UpperBody': {'All': 93.72286987304688, 'Reacting': 67.6734848022461, 'UpperStretching': 102.33294677734375, 'LowerStretching': 82.68180084228516, 'Walking': 96.16081237792969, 'Greeting': 59.42913055419922, 'Patting': 74.48580169677734, 'Gaming': 62.03556442260742, 'Gesticuling': 61.72798538208008, 'Talking': 57.27925109863281}, 'LowerBody': {'All': 258.0453796386719, 'Reacting': 140.13243103027344, 'UpperStretching': 256.9312438964844, 'LowerStretching': 321.36669921875, 'Walking': 290.6808776855469, 'Greeting': 113.34209442138672, 'Patting': 164.34246826171875, 'Gaming': 152.24049377441406, 'Gesticuling': 110.98014068603516, 'Talking': 113.72681427001953}}\n"
     ]
    },
    {
     "name": "stderr",
     "output_type": "stream",
     "text": [
      " 93%|█████████▎| 5001/5352 [12:31<00:53,  6.51it/s]"
     ]
    },
    {
     "name": "stdout",
     "output_type": "stream",
     "text": [
      "{'FullBody': {'All': 175.86024475097656, 'Reacting': 103.67774200439453, 'UpperStretching': 179.5715789794922, 'LowerStretching': 201.8325958251953, 'Walking': 193.8588409423828, 'Greeting': 86.37815856933594, 'Patting': 119.0226821899414, 'Gaming': 107.1409912109375, 'Gesticuling': 86.37164306640625, 'Talking': 85.72962951660156}, 'UpperBody': {'All': 93.68114471435547, 'Reacting': 67.45836639404297, 'UpperStretching': 102.2317886352539, 'LowerStretching': 82.64362335205078, 'Walking': 96.2924575805664, 'Greeting': 59.47021484375, 'Patting': 74.31175994873047, 'Gaming': 62.084625244140625, 'Gesticuling': 61.679264068603516, 'Talking': 57.490501403808594}, 'LowerBody': {'All': 258.0393371582031, 'Reacting': 139.89710998535156, 'UpperStretching': 256.9113464355469, 'LowerStretching': 321.0215759277344, 'Walking': 291.42523193359375, 'Greeting': 113.28609466552734, 'Patting': 163.7335968017578, 'Gaming': 152.19737243652344, 'Gesticuling': 111.06402587890625, 'Talking': 113.96876525878906}}\n"
     ]
    },
    {
     "name": "stderr",
     "output_type": "stream",
     "text": [
      " 97%|█████████▋| 5201/5352 [13:01<00:24,  6.22it/s]"
     ]
    },
    {
     "name": "stdout",
     "output_type": "stream",
     "text": [
      "{'FullBody': {'All': 175.9014892578125, 'Reacting': 103.6841049194336, 'UpperStretching': 179.68955993652344, 'LowerStretching': 201.53868103027344, 'Walking': 194.01539611816406, 'Greeting': 86.23369598388672, 'Patting': 117.85652160644531, 'Gaming': 107.07010650634766, 'Gesticuling': 86.50138854980469, 'Talking': 85.65316772460938}, 'UpperBody': {'All': 93.7239761352539, 'Reacting': 67.40839385986328, 'UpperStretching': 102.30887603759766, 'LowerStretching': 82.62606811523438, 'Walking': 96.2782974243164, 'Greeting': 59.37930679321289, 'Patting': 73.7620849609375, 'Gaming': 62.07801818847656, 'Gesticuling': 61.744197845458984, 'Talking': 57.40798568725586}, 'LowerBody': {'All': 258.0789794921875, 'Reacting': 139.95980834960938, 'UpperStretching': 257.07025146484375, 'LowerStretching': 320.4512939453125, 'Walking': 291.75250244140625, 'Greeting': 113.08809661865234, 'Patting': 161.9509735107422, 'Gaming': 152.06219482421875, 'Gesticuling': 111.2585678100586, 'Talking': 113.8983383178711}}\n"
     ]
    },
    {
     "name": "stderr",
     "output_type": "stream",
     "text": [
      "100%|██████████| 5352/5352 [13:23<00:00,  6.66it/s]\n",
      "\u001b[94m18:46:31 \u001b[92m[INFO]\u001b[94m Main\u001b[0m: Saving evaluation results...\n",
      "\u001b[94m18:46:31 \u001b[92m[INFO]\u001b[94m Main\u001b[0m: Done.\n",
      "\u001b[94m18:46:31 \u001b[92m[INFO]\u001b[94m Main\u001b[0m: Starting demo...\n",
      "  0%|          | 0/5352 [00:00<?, ?it/s]/opt/conda/lib/python3.10/site-packages/torchvision/transforms/transforms.py:329: UserWarning: Argument 'interpolation' of type int is deprecated since 0.13 and will be removed in 0.15. Please use InterpolationMode enum.\n",
      "  warnings.warn(\n",
      "/opt/conda/lib/python3.10/site-packages/torchvision/transforms/transforms.py:329: UserWarning: Argument 'interpolation' of type int is deprecated since 0.13 and will be removed in 0.15. Please use InterpolationMode enum.\n",
      "  warnings.warn(\n",
      "/opt/conda/lib/python3.10/site-packages/torchvision/transforms/transforms.py:329: UserWarning: Argument 'interpolation' of type int is deprecated since 0.13 and will be removed in 0.15. Please use InterpolationMode enum.\n",
      "  warnings.warn(\n",
      "/opt/conda/lib/python3.10/site-packages/torchvision/transforms/transforms.py:329: UserWarning: Argument 'interpolation' of type int is deprecated since 0.13 and will be removed in 0.15. Please use InterpolationMode enum.\n",
      "  warnings.warn(\n",
      "/opt/conda/lib/python3.10/site-packages/torchvision/transforms/transforms.py:329: UserWarning: Argument 'interpolation' of type int is deprecated since 0.13 and will be removed in 0.15. Please use InterpolationMode enum.\n",
      "  warnings.warn(\n",
      "/opt/conda/lib/python3.10/site-packages/torchvision/transforms/transforms.py:329: UserWarning: Argument 'interpolation' of type int is deprecated since 0.13 and will be removed in 0.15. Please use InterpolationMode enum.\n",
      "  warnings.warn(\n",
      "/opt/conda/lib/python3.10/site-packages/torchvision/transforms/transforms.py:329: UserWarning: Argument 'interpolation' of type int is deprecated since 0.13 and will be removed in 0.15. Please use InterpolationMode enum.\n",
      "  warnings.warn(\n",
      "/opt/conda/lib/python3.10/site-packages/torchvision/transforms/transforms.py:329: UserWarning: Argument 'interpolation' of type int is deprecated since 0.13 and will be removed in 0.15. Please use InterpolationMode enum.\n",
      "  warnings.warn(\n",
      "/opt/conda/lib/python3.10/site-packages/torchvision/transforms/transforms.py:329: UserWarning: Argument 'interpolation' of type int is deprecated since 0.13 and will be removed in 0.15. Please use InterpolationMode enum.\n",
      "  warnings.warn(\n",
      "/opt/conda/lib/python3.10/site-packages/torchvision/transforms/transforms.py:329: UserWarning: Argument 'interpolation' of type int is deprecated since 0.13 and will be removed in 0.15. Please use InterpolationMode enum.\n",
      "  warnings.warn(\n",
      "/opt/conda/lib/python3.10/site-packages/torchvision/transforms/transforms.py:329: UserWarning: Argument 'interpolation' of type int is deprecated since 0.13 and will be removed in 0.15. Please use InterpolationMode enum.\n",
      "  warnings.warn(\n",
      "/opt/conda/lib/python3.10/site-packages/torchvision/transforms/transforms.py:329: UserWarning: Argument 'interpolation' of type int is deprecated since 0.13 and will be removed in 0.15. Please use InterpolationMode enum.\n",
      "  warnings.warn(\n",
      "/opt/conda/lib/python3.10/site-packages/torchvision/transforms/transforms.py:329: UserWarning: Argument 'interpolation' of type int is deprecated since 0.13 and will be removed in 0.15. Please use InterpolationMode enum.\n",
      "  warnings.warn(\n",
      "/opt/conda/lib/python3.10/site-packages/torchvision/transforms/transforms.py:329: UserWarning: Argument 'interpolation' of type int is deprecated since 0.13 and will be removed in 0.15. Please use InterpolationMode enum.\n",
      "  warnings.warn(\n",
      "/opt/conda/lib/python3.10/site-packages/torchvision/transforms/transforms.py:329: UserWarning: Argument 'interpolation' of type int is deprecated since 0.13 and will be removed in 0.15. Please use InterpolationMode enum.\n",
      "  warnings.warn(\n",
      "/opt/conda/lib/python3.10/site-packages/torchvision/transforms/transforms.py:329: UserWarning: Argument 'interpolation' of type int is deprecated since 0.13 and will be removed in 0.15. Please use InterpolationMode enum.\n",
      "  warnings.warn(\n",
      "/opt/conda/lib/python3.10/site-packages/torchvision/transforms/transforms.py:329: UserWarning: Argument 'interpolation' of type int is deprecated since 0.13 and will be removed in 0.15. Please use InterpolationMode enum.\n",
      "  warnings.warn(\n",
      "/opt/conda/lib/python3.10/site-packages/torchvision/transforms/transforms.py:329: UserWarning: Argument 'interpolation' of type int is deprecated since 0.13 and will be removed in 0.15. Please use InterpolationMode enum.\n",
      "  warnings.warn(\n",
      "/opt/conda/lib/python3.10/site-packages/torchvision/transforms/transforms.py:329: UserWarning: Argument 'interpolation' of type int is deprecated since 0.13 and will be removed in 0.15. Please use InterpolationMode enum.\n",
      "  warnings.warn(\n",
      "/opt/conda/lib/python3.10/site-packages/torchvision/transforms/transforms.py:329: UserWarning: Argument 'interpolation' of type int is deprecated since 0.13 and will be removed in 0.15. Please use InterpolationMode enum.\n",
      "  warnings.warn(\n",
      "/opt/conda/lib/python3.10/site-packages/torchvision/transforms/transforms.py:329: UserWarning: Argument 'interpolation' of type int is deprecated since 0.13 and will be removed in 0.15. Please use InterpolationMode enum.\n",
      "  warnings.warn(\n",
      "/opt/conda/lib/python3.10/site-packages/torchvision/transforms/transforms.py:329: UserWarning: Argument 'interpolation' of type int is deprecated since 0.13 and will be removed in 0.15. Please use InterpolationMode enum.\n",
      "  warnings.warn(\n",
      "/opt/conda/lib/python3.10/site-packages/torchvision/transforms/transforms.py:329: UserWarning: Argument 'interpolation' of type int is deprecated since 0.13 and will be removed in 0.15. Please use InterpolationMode enum.\n",
      "  warnings.warn(\n",
      "/opt/conda/lib/python3.10/site-packages/torchvision/transforms/transforms.py:329: UserWarning: Argument 'interpolation' of type int is deprecated since 0.13 and will be removed in 0.15. Please use InterpolationMode enum.\n",
      "  warnings.warn(\n",
      "  4%|▍         | 201/5352 [00:36<12:23,  6.93it/s]"
     ]
    },
    {
     "name": "stdout",
     "output_type": "stream",
     "text": [
      "{'FullBody': {'All': 103.10165405273438, 'UpperStretching': 107.36939239501953, 'Reacting': 81.15534210205078, 'LowerStretching': 103.26044464111328, 'Patting': 90.76434326171875, 'Gesticuling': 62.7588005065918, 'Walking': 109.91021728515625, 'Gaming': 67.28474426269531, 'Talking': 60.77194595336914, 'Greeting': 57.15708541870117}, 'UpperBody': {'All': 76.96891784667969, 'UpperStretching': 82.09878540039062, 'Reacting': 78.70582580566406, 'LowerStretching': 65.6412353515625, 'Patting': 78.69328308105469, 'Gesticuling': 61.468196868896484, 'Walking': 76.88949584960938, 'Gaming': 58.04399490356445, 'Talking': 55.7230339050293, 'Greeting': 52.394004821777344}, 'LowerBody': {'All': 129.23439025878906, 'UpperStretching': 132.63999938964844, 'Reacting': 83.60486602783203, 'LowerStretching': 140.87966918945312, 'Patting': 102.8354263305664, 'Gesticuling': 64.0494384765625, 'Walking': 142.93092346191406, 'Gaming': 76.52549743652344, 'Talking': 65.82086181640625, 'Greeting': 61.9201545715332}}\n"
     ]
    },
    {
     "name": "stderr",
     "output_type": "stream",
     "text": [
      "  7%|▋         | 401/5352 [01:05<12:35,  6.55it/s]"
     ]
    },
    {
     "name": "stdout",
     "output_type": "stream",
     "text": [
      "{'FullBody': {'All': 102.3031234741211, 'UpperStretching': 107.15559387207031, 'Reacting': 83.00394439697266, 'LowerStretching': 99.38333129882812, 'Patting': 97.92595672607422, 'Gesticuling': 63.79893112182617, 'Walking': 108.59341430664062, 'Gaming': 66.82975006103516, 'Talking': 64.5902328491211, 'Greeting': 57.69618225097656}, 'UpperBody': {'All': 76.49752807617188, 'UpperStretching': 81.9093246459961, 'Reacting': 76.70381927490234, 'LowerStretching': 64.71951293945312, 'Patting': 77.81938934326172, 'Gesticuling': 61.65434646606445, 'Walking': 75.74552154541016, 'Gaming': 56.95259094238281, 'Talking': 57.99142074584961, 'Greeting': 51.515174865722656}, 'LowerBody': {'All': 128.1087188720703, 'UpperStretching': 132.40184020996094, 'Reacting': 89.30406188964844, 'LowerStretching': 134.04714965820312, 'Patting': 118.03250122070312, 'Gesticuling': 65.94351196289062, 'Walking': 141.44129943847656, 'Gaming': 76.7069091796875, 'Talking': 71.18903350830078, 'Greeting': 63.877193450927734}}\n"
     ]
    },
    {
     "name": "stderr",
     "output_type": "stream",
     "text": [
      " 11%|█         | 601/5352 [01:35<11:41,  6.77it/s]"
     ]
    },
    {
     "name": "stdout",
     "output_type": "stream",
     "text": [
      "{'FullBody': {'All': 103.19511413574219, 'UpperStretching': 108.89524841308594, 'Reacting': 81.95928192138672, 'LowerStretching': 99.00786590576172, 'Patting': 92.41751861572266, 'Gesticuling': 63.845794677734375, 'Walking': 108.63053131103516, 'Gaming': 69.28986358642578, 'Talking': 64.6066665649414, 'Greeting': 58.00468063354492}, 'UpperBody': {'All': 76.51130676269531, 'UpperStretching': 82.50457000732422, 'Reacting': 75.54334259033203, 'LowerStretching': 63.655330657958984, 'Patting': 74.7109603881836, 'Gesticuling': 62.11601638793945, 'Walking': 75.03469848632812, 'Gaming': 58.960113525390625, 'Talking': 58.62111282348633, 'Greeting': 53.220279693603516}, 'LowerBody': {'All': 129.87892150878906, 'UpperStretching': 135.28591918945312, 'Reacting': 88.37521362304688, 'LowerStretching': 134.3603973388672, 'Patting': 110.12409973144531, 'Gesticuling': 65.5755615234375, 'Walking': 142.2263641357422, 'Gaming': 79.61959838867188, 'Talking': 70.59223937988281, 'Greeting': 62.78908920288086}}\n"
     ]
    },
    {
     "name": "stderr",
     "output_type": "stream",
     "text": [
      " 15%|█▍        | 801/5352 [02:04<10:58,  6.91it/s]"
     ]
    },
    {
     "name": "stdout",
     "output_type": "stream",
     "text": [
      "{'FullBody': {'All': 102.68276977539062, 'UpperStretching': 108.43773651123047, 'Reacting': 82.35441589355469, 'LowerStretching': 98.08243560791016, 'Patting': 89.21150207519531, 'Gesticuling': 63.45409393310547, 'Walking': 109.07030487060547, 'Gaming': 69.01510620117188, 'Talking': 63.85768508911133, 'Greeting': 57.99758529663086}, 'UpperBody': {'All': 76.32034301757812, 'UpperStretching': 82.43769836425781, 'Reacting': 75.2979965209961, 'LowerStretching': 63.57219696044922, 'Patting': 71.86561584472656, 'Gesticuling': 61.28033447265625, 'Walking': 75.21281433105469, 'Gaming': 58.73501205444336, 'Talking': 57.57178497314453, 'Greeting': 54.13312911987305}, 'LowerBody': {'All': 129.04519653320312, 'UpperStretching': 134.43777465820312, 'Reacting': 89.41082763671875, 'LowerStretching': 132.59268188476562, 'Patting': 106.55740356445312, 'Gesticuling': 65.62784576416016, 'Walking': 142.92776489257812, 'Gaming': 79.29520416259766, 'Talking': 70.14359283447266, 'Greeting': 61.862030029296875}}\n"
     ]
    },
    {
     "name": "stderr",
     "output_type": "stream",
     "text": [
      " 19%|█▊        | 1001/5352 [02:34<10:45,  6.74it/s]"
     ]
    },
    {
     "name": "stdout",
     "output_type": "stream",
     "text": [
      "{'FullBody': {'All': 103.04115295410156, 'UpperStretching': 108.71174621582031, 'Reacting': 82.8967514038086, 'LowerStretching': 98.6779556274414, 'Patting': 91.08647918701172, 'Gesticuling': 63.295082092285156, 'Walking': 109.62763977050781, 'Gaming': 70.28350830078125, 'Talking': 63.44648361206055, 'Greeting': 58.40790557861328}, 'UpperBody': {'All': 76.55986022949219, 'UpperStretching': 82.72480010986328, 'Reacting': 75.92973327636719, 'LowerStretching': 63.5460319519043, 'Patting': 72.80917358398438, 'Gesticuling': 61.25556564331055, 'Walking': 75.38034057617188, 'Gaming': 59.91911315917969, 'Talking': 57.892555236816406, 'Greeting': 54.66398239135742}, 'LowerBody': {'All': 129.5224609375, 'UpperStretching': 134.6986846923828, 'Reacting': 89.86376190185547, 'LowerStretching': 133.8098907470703, 'Patting': 109.3637924194336, 'Gesticuling': 65.33460235595703, 'Walking': 143.87493896484375, 'Gaming': 80.64789581298828, 'Talking': 69.00040435791016, 'Greeting': 62.15182876586914}}\n"
     ]
    },
    {
     "name": "stderr",
     "output_type": "stream",
     "text": [
      " 22%|██▏       | 1201/5352 [03:04<10:00,  6.91it/s]"
     ]
    },
    {
     "name": "stdout",
     "output_type": "stream",
     "text": [
      "{'FullBody': {'All': 103.24296569824219, 'UpperStretching': 108.9438705444336, 'Reacting': 82.8530044555664, 'LowerStretching': 99.04891967773438, 'Patting': 92.6977310180664, 'Gesticuling': 63.77579879760742, 'Walking': 109.54634094238281, 'Gaming': 70.68119812011719, 'Talking': 63.76921463012695, 'Greeting': 58.19244384765625}, 'UpperBody': {'All': 76.5446548461914, 'UpperStretching': 82.6212158203125, 'Reacting': 75.97695922851562, 'LowerStretching': 63.75991439819336, 'Patting': 73.06458282470703, 'Gesticuling': 61.80303192138672, 'Walking': 75.58393859863281, 'Gaming': 59.95991516113281, 'Talking': 58.468788146972656, 'Greeting': 54.33432388305664}, 'LowerBody': {'All': 129.94129943847656, 'UpperStretching': 135.26654052734375, 'Reacting': 89.72904968261719, 'LowerStretching': 134.33792114257812, 'Patting': 112.33086395263672, 'Gesticuling': 65.74855041503906, 'Walking': 143.50872802734375, 'Gaming': 81.40248107910156, 'Talking': 69.06964111328125, 'Greeting': 62.05058670043945}}\n"
     ]
    },
    {
     "name": "stderr",
     "output_type": "stream",
     "text": [
      " 26%|██▌       | 1401/5352 [03:33<09:35,  6.86it/s]"
     ]
    },
    {
     "name": "stdout",
     "output_type": "stream",
     "text": [
      "{'FullBody': {'All': 102.9742660522461, 'UpperStretching': 108.73595428466797, 'Reacting': 81.3931884765625, 'LowerStretching': 99.47113800048828, 'Patting': 91.28917694091797, 'Gesticuling': 63.81858444213867, 'Walking': 107.94993591308594, 'Gaming': 70.53669738769531, 'Talking': 64.37333679199219, 'Greeting': 58.33155059814453}, 'UpperBody': {'All': 76.35425567626953, 'UpperStretching': 82.45970153808594, 'Reacting': 74.50457000732422, 'LowerStretching': 63.844661712646484, 'Patting': 72.14671325683594, 'Gesticuling': 61.97819137573242, 'Walking': 74.7979965209961, 'Gaming': 59.50128936767578, 'Talking': 58.886375427246094, 'Greeting': 54.52272415161133}, 'LowerBody': {'All': 129.5942840576172, 'UpperStretching': 135.01220703125, 'Reacting': 88.28179931640625, 'LowerStretching': 135.0976104736328, 'Patting': 110.43163299560547, 'Gesticuling': 65.65898132324219, 'Walking': 141.1018829345703, 'Gaming': 81.57209014892578, 'Talking': 69.86030578613281, 'Greeting': 62.14037322998047}}\n"
     ]
    },
    {
     "name": "stderr",
     "output_type": "stream",
     "text": [
      " 30%|██▉       | 1601/5352 [04:03<09:35,  6.52it/s]"
     ]
    },
    {
     "name": "stdout",
     "output_type": "stream",
     "text": [
      "{'FullBody': {'All': 103.08540344238281, 'UpperStretching': 108.78945922851562, 'Reacting': 81.17070770263672, 'LowerStretching': 99.41736602783203, 'Patting': 90.11892700195312, 'Gesticuling': 63.93834686279297, 'Walking': 108.73294830322266, 'Gaming': 70.83533477783203, 'Talking': 64.19633483886719, 'Greeting': 58.13679504394531}, 'UpperBody': {'All': 76.5335922241211, 'UpperStretching': 82.65220642089844, 'Reacting': 74.3179931640625, 'LowerStretching': 63.880096435546875, 'Patting': 71.85459899902344, 'Gesticuling': 61.81277084350586, 'Walking': 75.215087890625, 'Gaming': 59.75266647338867, 'Talking': 58.441593170166016, 'Greeting': 54.44378662109375}, 'LowerBody': {'All': 129.63722229003906, 'UpperStretching': 134.9267120361328, 'Reacting': 88.02342987060547, 'LowerStretching': 134.9546356201172, 'Patting': 108.38325500488281, 'Gesticuling': 66.06391143798828, 'Walking': 142.25079345703125, 'Gaming': 81.91800689697266, 'Talking': 69.9510726928711, 'Greeting': 61.829795837402344}}\n"
     ]
    },
    {
     "name": "stderr",
     "output_type": "stream",
     "text": [
      " 34%|███▎      | 1801/5352 [04:32<08:45,  6.76it/s]"
     ]
    },
    {
     "name": "stdout",
     "output_type": "stream",
     "text": [
      "{'FullBody': {'All': 103.12982940673828, 'UpperStretching': 108.86431121826172, 'Reacting': 81.87528991699219, 'LowerStretching': 99.49146270751953, 'Patting': 88.81319427490234, 'Gesticuling': 63.5447998046875, 'Walking': 108.78285217285156, 'Gaming': 70.92227172851562, 'Talking': 64.05162048339844, 'Greeting': 58.359161376953125}, 'UpperBody': {'All': 76.5068588256836, 'UpperStretching': 82.61408233642578, 'Reacting': 75.44585418701172, 'LowerStretching': 63.819610595703125, 'Patting': 70.49449157714844, 'Gesticuling': 61.30702209472656, 'Walking': 75.27261352539062, 'Gaming': 59.42574691772461, 'Talking': 58.351234436035156, 'Greeting': 54.62740707397461}, 'LowerBody': {'All': 129.7528076171875, 'UpperStretching': 135.11451721191406, 'Reacting': 88.30474090576172, 'LowerStretching': 135.16331481933594, 'Patting': 107.13190460205078, 'Gesticuling': 65.7825698852539, 'Walking': 142.2930908203125, 'Gaming': 82.4188003540039, 'Talking': 69.75200653076172, 'Greeting': 62.09091567993164}}\n"
     ]
    },
    {
     "name": "stderr",
     "output_type": "stream",
     "text": [
      " 37%|███▋      | 2001/5352 [05:02<08:05,  6.90it/s]"
     ]
    },
    {
     "name": "stdout",
     "output_type": "stream",
     "text": [
      "{'FullBody': {'All': 102.97399139404297, 'UpperStretching': 108.70764923095703, 'Reacting': 81.4755859375, 'LowerStretching': 99.32215881347656, 'Patting': 88.86181640625, 'Gesticuling': 63.38466262817383, 'Walking': 108.89662170410156, 'Gaming': 71.02776336669922, 'Talking': 63.533451080322266, 'Greeting': 58.69402313232422}, 'UpperBody': {'All': 76.41340637207031, 'UpperStretching': 82.54428100585938, 'Reacting': 75.24114227294922, 'LowerStretching': 63.73183822631836, 'Patting': 70.26326751708984, 'Gesticuling': 60.90355682373047, 'Walking': 75.29052734375, 'Gaming': 59.60834503173828, 'Talking': 57.95134353637695, 'Greeting': 54.49260711669922}, 'LowerBody': {'All': 129.53460693359375, 'UpperStretching': 134.87100219726562, 'Reacting': 87.71002197265625, 'LowerStretching': 134.9124755859375, 'Patting': 107.46037292480469, 'Gesticuling': 65.86576080322266, 'Walking': 142.50271606445312, 'Gaming': 82.44718933105469, 'Talking': 69.11555480957031, 'Greeting': 62.89543914794922}}\n"
     ]
    },
    {
     "name": "stderr",
     "output_type": "stream",
     "text": [
      " 41%|████      | 2201/5352 [05:32<07:50,  6.70it/s]"
     ]
    },
    {
     "name": "stdout",
     "output_type": "stream",
     "text": [
      "{'FullBody': {'All': 102.97966003417969, 'UpperStretching': 108.85430145263672, 'Reacting': 81.08113861083984, 'LowerStretching': 99.38188171386719, 'Patting': 88.5082778930664, 'Gesticuling': 63.639617919921875, 'Walking': 108.18386840820312, 'Gaming': 71.15716552734375, 'Talking': 63.599002838134766, 'Greeting': 58.58451461791992}, 'UpperBody': {'All': 76.40095520019531, 'UpperStretching': 82.62299346923828, 'Reacting': 75.07137298583984, 'LowerStretching': 63.68741989135742, 'Patting': 70.45173645019531, 'Gesticuling': 61.01527786254883, 'Walking': 74.82950592041016, 'Gaming': 59.44676208496094, 'Talking': 58.049678802490234, 'Greeting': 54.534454345703125}, 'LowerBody': {'All': 129.55838012695312, 'UpperStretching': 135.08560180664062, 'Reacting': 87.09091186523438, 'LowerStretching': 135.07632446289062, 'Patting': 106.5648193359375, 'Gesticuling': 66.26394653320312, 'Walking': 141.53822326660156, 'Gaming': 82.86756896972656, 'Talking': 69.14833068847656, 'Greeting': 62.63457489013672}}\n"
     ]
    },
    {
     "name": "stderr",
     "output_type": "stream",
     "text": [
      " 45%|████▍     | 2401/5352 [06:01<07:11,  6.83it/s]"
     ]
    },
    {
     "name": "stdout",
     "output_type": "stream",
     "text": [
      "{'FullBody': {'All': 103.00849151611328, 'UpperStretching': 108.98949432373047, 'Reacting': 80.81366729736328, 'LowerStretching': 99.46812438964844, 'Patting': 87.9238052368164, 'Gesticuling': 63.99663543701172, 'Walking': 107.69747161865234, 'Gaming': 71.38009643554688, 'Talking': 63.212669372558594, 'Greeting': 58.75347900390625}, 'UpperBody': {'All': 76.33942413330078, 'UpperStretching': 82.6172866821289, 'Reacting': 74.90007019042969, 'LowerStretching': 63.75099182128906, 'Patting': 69.79644012451172, 'Gesticuling': 61.493812561035156, 'Walking': 74.48517608642578, 'Gaming': 59.3079833984375, 'Talking': 57.778053283691406, 'Greeting': 54.52117919921875}, 'LowerBody': {'All': 129.67758178710938, 'UpperStretching': 135.36167907714844, 'Reacting': 86.7272720336914, 'LowerStretching': 135.1852569580078, 'Patting': 106.0511474609375, 'Gesticuling': 66.49945831298828, 'Walking': 140.90977478027344, 'Gaming': 83.45220947265625, 'Talking': 68.64728546142578, 'Greeting': 62.985774993896484}}\n"
     ]
    },
    {
     "name": "stderr",
     "output_type": "stream",
     "text": [
      " 49%|████▊     | 2601/5352 [06:31<06:41,  6.86it/s]"
     ]
    },
    {
     "name": "stdout",
     "output_type": "stream",
     "text": [
      "{'FullBody': {'All': 102.99884796142578, 'UpperStretching': 108.96033477783203, 'Reacting': 80.44725799560547, 'LowerStretching': 99.48755645751953, 'Patting': 87.94274139404297, 'Gesticuling': 64.0738525390625, 'Walking': 107.85513305664062, 'Gaming': 71.57364654541016, 'Talking': 63.22187042236328, 'Greeting': 58.60842514038086}, 'UpperBody': {'All': 76.35848236083984, 'UpperStretching': 82.63172912597656, 'Reacting': 74.78227996826172, 'LowerStretching': 63.83107376098633, 'Patting': 69.75687408447266, 'Gesticuling': 61.48187255859375, 'Walking': 74.51956939697266, 'Gaming': 59.46116256713867, 'Talking': 57.741310119628906, 'Greeting': 54.553070068359375}, 'LowerBody': {'All': 129.6392364501953, 'UpperStretching': 135.28890991210938, 'Reacting': 86.11222839355469, 'LowerStretching': 135.14405822753906, 'Patting': 106.12861633300781, 'Gesticuling': 66.66583251953125, 'Walking': 141.19068908691406, 'Gaming': 83.68612670898438, 'Talking': 68.70243072509766, 'Greeting': 62.66378402709961}}\n"
     ]
    },
    {
     "name": "stderr",
     "output_type": "stream",
     "text": [
      " 52%|█████▏    | 2801/5352 [07:01<06:37,  6.42it/s]"
     ]
    },
    {
     "name": "stdout",
     "output_type": "stream",
     "text": [
      "{'FullBody': {'All': 102.90599060058594, 'UpperStretching': 108.8557357788086, 'Reacting': 80.54497528076172, 'LowerStretching': 99.4319839477539, 'Patting': 87.50064849853516, 'Gesticuling': 63.89476776123047, 'Walking': 107.90384674072266, 'Gaming': 71.50369262695312, 'Talking': 63.201969146728516, 'Greeting': 58.5740852355957}, 'UpperBody': {'All': 76.29395294189453, 'UpperStretching': 82.5518798828125, 'Reacting': 75.20249938964844, 'LowerStretching': 63.79258346557617, 'Patting': 69.28548431396484, 'Gesticuling': 61.29806137084961, 'Walking': 74.61724853515625, 'Gaming': 59.20878982543945, 'Talking': 57.667781829833984, 'Greeting': 54.300682067871094}, 'LowerBody': {'All': 129.51805114746094, 'UpperStretching': 135.15957641601562, 'Reacting': 85.887451171875, 'LowerStretching': 135.07139587402344, 'Patting': 105.71582794189453, 'Gesticuling': 66.49146270751953, 'Walking': 141.19044494628906, 'Gaming': 83.7986068725586, 'Talking': 68.73616027832031, 'Greeting': 62.84748458862305}}\n"
     ]
    },
    {
     "name": "stderr",
     "output_type": "stream",
     "text": [
      " 56%|█████▌    | 3001/5352 [07:30<06:01,  6.51it/s]"
     ]
    },
    {
     "name": "stdout",
     "output_type": "stream",
     "text": [
      "{'FullBody': {'All': 102.74940490722656, 'UpperStretching': 108.74254608154297, 'Reacting': 80.29462432861328, 'LowerStretching': 99.21172332763672, 'Patting': 87.34468841552734, 'Gesticuling': 63.852115631103516, 'Walking': 107.8781509399414, 'Gaming': 71.33174896240234, 'Talking': 63.03943634033203, 'Greeting': 58.58564376831055}, 'UpperBody': {'All': 76.21743774414062, 'UpperStretching': 82.49986267089844, 'Reacting': 75.06832885742188, 'LowerStretching': 63.677242279052734, 'Patting': 68.88749694824219, 'Gesticuling': 61.234588623046875, 'Walking': 74.68301391601562, 'Gaming': 59.08217239379883, 'Talking': 57.5772819519043, 'Greeting': 54.36996078491211}, 'LowerBody': {'All': 129.28140258789062, 'UpperStretching': 134.98519897460938, 'Reacting': 85.52093505859375, 'LowerStretching': 134.74620056152344, 'Patting': 105.80187225341797, 'Gesticuling': 66.46964263916016, 'Walking': 141.07330322265625, 'Gaming': 83.58132934570312, 'Talking': 68.5015869140625, 'Greeting': 62.80131530761719}}\n"
     ]
    },
    {
     "name": "stderr",
     "output_type": "stream",
     "text": [
      " 60%|█████▉    | 3201/5352 [08:00<05:20,  6.70it/s]"
     ]
    },
    {
     "name": "stdout",
     "output_type": "stream",
     "text": [
      "{'FullBody': {'All': 102.84264373779297, 'UpperStretching': 108.95823669433594, 'Reacting': 80.69776916503906, 'LowerStretching': 99.19374084472656, 'Patting': 86.73675537109375, 'Gesticuling': 63.79638671875, 'Walking': 107.60468292236328, 'Gaming': 71.13347625732422, 'Talking': 63.21037292480469, 'Greeting': 58.625160217285156}, 'UpperBody': {'All': 76.30380249023438, 'UpperStretching': 82.6592025756836, 'Reacting': 75.55260467529297, 'LowerStretching': 63.72640609741211, 'Patting': 68.6136474609375, 'Gesticuling': 61.12248992919922, 'Walking': 74.50080108642578, 'Gaming': 59.040157318115234, 'Talking': 57.568077087402344, 'Greeting': 54.44154357910156}, 'LowerBody': {'All': 129.38153076171875, 'UpperStretching': 135.2572479248047, 'Reacting': 85.84294128417969, 'LowerStretching': 134.66107177734375, 'Patting': 104.85985565185547, 'Gesticuling': 66.47029113769531, 'Walking': 140.70855712890625, 'Gaming': 83.22679901123047, 'Talking': 68.8526611328125, 'Greeting': 62.80876541137695}}\n"
     ]
    },
    {
     "name": "stderr",
     "output_type": "stream",
     "text": [
      " 64%|██████▎   | 3401/5352 [08:30<05:09,  6.30it/s]"
     ]
    },
    {
     "name": "stdout",
     "output_type": "stream",
     "text": [
      "{'FullBody': {'All': 102.72766876220703, 'UpperStretching': 108.86942291259766, 'Reacting': 80.65467071533203, 'LowerStretching': 98.91625213623047, 'Patting': 86.39749908447266, 'Gesticuling': 63.783016204833984, 'Walking': 107.59595489501953, 'Gaming': 71.01103210449219, 'Talking': 62.988346099853516, 'Greeting': 58.94816207885742}, 'UpperBody': {'All': 76.19904327392578, 'UpperStretching': 82.55252838134766, 'Reacting': 75.42543029785156, 'LowerStretching': 63.55946731567383, 'Patting': 68.31135559082031, 'Gesticuling': 61.06705856323242, 'Walking': 74.52033996582031, 'Gaming': 58.9536247253418, 'Talking': 57.39147186279297, 'Greeting': 54.66164779663086}, 'LowerBody': {'All': 129.25631713867188, 'UpperStretching': 135.18629455566406, 'Reacting': 85.88391876220703, 'LowerStretching': 134.27304077148438, 'Patting': 104.48365020751953, 'Gesticuling': 66.49897766113281, 'Walking': 140.67156982421875, 'Gaming': 83.0684585571289, 'Talking': 68.5852279663086, 'Greeting': 63.234683990478516}}\n"
     ]
    },
    {
     "name": "stderr",
     "output_type": "stream",
     "text": [
      " 67%|██████▋   | 3601/5352 [09:00<04:24,  6.63it/s]"
     ]
    },
    {
     "name": "stdout",
     "output_type": "stream",
     "text": [
      "{'FullBody': {'All': 102.757568359375, 'UpperStretching': 108.95638275146484, 'Reacting': 80.1299057006836, 'LowerStretching': 99.08257293701172, 'Patting': 86.83496856689453, 'Gesticuling': 63.668174743652344, 'Walking': 107.23674774169922, 'Gaming': 71.18389892578125, 'Talking': 63.01076126098633, 'Greeting': 58.82978057861328}, 'UpperBody': {'All': 76.26985168457031, 'UpperStretching': 82.67364501953125, 'Reacting': 75.02032470703125, 'LowerStretching': 63.7467041015625, 'Patting': 68.43575286865234, 'Gesticuling': 61.09973907470703, 'Walking': 74.34661102294922, 'Gaming': 58.9102668762207, 'Talking': 57.305137634277344, 'Greeting': 54.74421691894531}, 'LowerBody': {'All': 129.2453155517578, 'UpperStretching': 135.23910522460938, 'Reacting': 85.2394790649414, 'LowerStretching': 134.41844177246094, 'Patting': 105.23418426513672, 'Gesticuling': 66.23662567138672, 'Walking': 140.12689208984375, 'Gaming': 83.45751953125, 'Talking': 68.71638488769531, 'Greeting': 62.91533279418945}}\n"
     ]
    },
    {
     "name": "stderr",
     "output_type": "stream",
     "text": [
      " 71%|███████   | 3801/5352 [09:30<03:54,  6.61it/s]"
     ]
    },
    {
     "name": "stdout",
     "output_type": "stream",
     "text": [
      "{'FullBody': {'All': 102.70006561279297, 'UpperStretching': 108.957763671875, 'Reacting': 79.99662017822266, 'LowerStretching': 98.97920989990234, 'Patting': 86.18012237548828, 'Gesticuling': 63.870357513427734, 'Walking': 106.98314666748047, 'Gaming': 71.21672821044922, 'Talking': 62.91802978515625, 'Greeting': 58.87205505371094}, 'UpperBody': {'All': 76.24130249023438, 'UpperStretching': 82.68236541748047, 'Reacting': 74.89241790771484, 'LowerStretching': 63.67393493652344, 'Patting': 68.17825317382812, 'Gesticuling': 61.273380279541016, 'Walking': 74.22610473632812, 'Gaming': 58.987022399902344, 'Talking': 57.14934158325195, 'Greeting': 54.901641845703125}, 'LowerBody': {'All': 129.15884399414062, 'UpperStretching': 135.23312377929688, 'Reacting': 85.10081481933594, 'LowerStretching': 134.2844696044922, 'Patting': 104.18199920654297, 'Gesticuling': 66.46733856201172, 'Walking': 139.74020385742188, 'Gaming': 83.44644165039062, 'Talking': 68.68671417236328, 'Greeting': 62.842472076416016}}\n"
     ]
    },
    {
     "name": "stderr",
     "output_type": "stream",
     "text": [
      " 75%|███████▍  | 4001/5352 [10:00<03:39,  6.16it/s]"
     ]
    },
    {
     "name": "stdout",
     "output_type": "stream",
     "text": [
      "{'FullBody': {'All': 102.8686294555664, 'UpperStretching': 109.0208969116211, 'Reacting': 79.96166229248047, 'LowerStretching': 99.2610092163086, 'Patting': 87.1336898803711, 'Gesticuling': 64.01860046386719, 'Walking': 107.4323959350586, 'Gaming': 71.10713195800781, 'Talking': 63.12751007080078, 'Greeting': 58.80485153198242}, 'UpperBody': {'All': 76.30216979980469, 'UpperStretching': 82.69192504882812, 'Reacting': 74.75338745117188, 'LowerStretching': 63.7974967956543, 'Patting': 68.7804183959961, 'Gesticuling': 61.46235275268555, 'Walking': 74.43737030029297, 'Gaming': 58.88248062133789, 'Talking': 57.318538665771484, 'Greeting': 54.95021057128906}, 'LowerBody': {'All': 129.43511962890625, 'UpperStretching': 135.349853515625, 'Reacting': 85.16992950439453, 'LowerStretching': 134.72451782226562, 'Patting': 105.48698425292969, 'Gesticuling': 66.57483673095703, 'Walking': 140.4274139404297, 'Gaming': 83.331787109375, 'Talking': 68.93649291992188, 'Greeting': 62.65949630737305}}\n"
     ]
    },
    {
     "name": "stderr",
     "output_type": "stream",
     "text": [
      " 78%|███████▊  | 4201/5352 [10:30<02:56,  6.52it/s]"
     ]
    },
    {
     "name": "stdout",
     "output_type": "stream",
     "text": [
      "{'FullBody': {'All': 102.93142700195312, 'UpperStretching': 109.04582214355469, 'Reacting': 80.26304626464844, 'LowerStretching': 99.33231353759766, 'Patting': 87.49385070800781, 'Gesticuling': 63.996063232421875, 'Walking': 107.59467315673828, 'Gaming': 71.06665802001953, 'Talking': 62.90446853637695, 'Greeting': 58.88608169555664}, 'UpperBody': {'All': 76.30518341064453, 'UpperStretching': 82.68766784667969, 'Reacting': 74.90152740478516, 'LowerStretching': 63.751888275146484, 'Patting': 69.1457290649414, 'Gesticuling': 61.39987564086914, 'Walking': 74.52420043945312, 'Gaming': 58.80589294433594, 'Talking': 57.0699348449707, 'Greeting': 55.09627914428711}, 'LowerBody': {'All': 129.55767822265625, 'UpperStretching': 135.40396118164062, 'Reacting': 85.62455749511719, 'LowerStretching': 134.9127197265625, 'Patting': 105.84197998046875, 'Gesticuling': 66.59225463867188, 'Walking': 140.66514587402344, 'Gaming': 83.32742309570312, 'Talking': 68.73899841308594, 'Greeting': 62.67588424682617}}\n"
     ]
    },
    {
     "name": "stderr",
     "output_type": "stream",
     "text": [
      " 82%|████████▏ | 4401/5352 [11:00<02:26,  6.47it/s]"
     ]
    },
    {
     "name": "stdout",
     "output_type": "stream",
     "text": [
      "{'FullBody': {'All': 102.95783233642578, 'UpperStretching': 109.06352996826172, 'Reacting': 80.22223663330078, 'LowerStretching': 99.4283676147461, 'Patting': 87.51126861572266, 'Gesticuling': 63.91389083862305, 'Walking': 107.4894790649414, 'Gaming': 71.18280792236328, 'Talking': 62.92403030395508, 'Greeting': 59.00276565551758}, 'UpperBody': {'All': 76.30206298828125, 'UpperStretching': 82.68831634521484, 'Reacting': 74.82057189941406, 'LowerStretching': 63.75565719604492, 'Patting': 68.99141693115234, 'Gesticuling': 61.2056884765625, 'Walking': 74.47504425048828, 'Gaming': 58.892276763916016, 'Talking': 56.94480895996094, 'Greeting': 55.14821243286133}, 'LowerBody': {'All': 129.6136016845703, 'UpperStretching': 135.438720703125, 'Reacting': 85.62391662597656, 'LowerStretching': 135.10107421875, 'Patting': 106.0311050415039, 'Gesticuling': 66.62208557128906, 'Walking': 140.50390625, 'Gaming': 83.47334289550781, 'Talking': 68.90325164794922, 'Greeting': 62.857330322265625}}\n"
     ]
    },
    {
     "name": "stderr",
     "output_type": "stream",
     "text": [
      " 86%|████████▌ | 4601/5352 [11:30<01:58,  6.32it/s]"
     ]
    },
    {
     "name": "stdout",
     "output_type": "stream",
     "text": [
      "{'FullBody': {'All': 102.94803619384766, 'UpperStretching': 109.021728515625, 'Reacting': 80.279052734375, 'LowerStretching': 99.40455627441406, 'Patting': 87.87698364257812, 'Gesticuling': 64.14804077148438, 'Walking': 107.54473114013672, 'Gaming': 71.0926284790039, 'Talking': 63.391048431396484, 'Greeting': 59.202659606933594}, 'UpperBody': {'All': 76.30794525146484, 'UpperStretching': 82.67757415771484, 'Reacting': 74.80631256103516, 'LowerStretching': 63.741851806640625, 'Patting': 69.2140121459961, 'Gesticuling': 61.3848876953125, 'Walking': 74.57672882080078, 'Gaming': 58.74396514892578, 'Talking': 57.20735549926758, 'Greeting': 55.31093215942383}, 'LowerBody': {'All': 129.588134765625, 'UpperStretching': 135.36585998535156, 'Reacting': 85.75180053710938, 'LowerStretching': 135.0672607421875, 'Patting': 106.53995513916016, 'Gesticuling': 66.91119384765625, 'Walking': 140.5127410888672, 'Gaming': 83.44129180908203, 'Talking': 69.57473754882812, 'Greeting': 63.09437561035156}}\n"
     ]
    },
    {
     "name": "stderr",
     "output_type": "stream",
     "text": [
      " 90%|████████▉ | 4801/5352 [12:00<01:27,  6.33it/s]"
     ]
    },
    {
     "name": "stdout",
     "output_type": "stream",
     "text": [
      "{'FullBody': {'All': 102.91470336914062, 'UpperStretching': 108.94960021972656, 'Reacting': 80.39141082763672, 'LowerStretching': 99.3423843383789, 'Patting': 87.95604705810547, 'Gesticuling': 64.15074157714844, 'Walking': 107.5773696899414, 'Gaming': 71.06336975097656, 'Talking': 63.35279083251953, 'Greeting': 59.184242248535156}, 'UpperBody': {'All': 76.26368713378906, 'UpperStretching': 82.61585235595703, 'Reacting': 74.9524154663086, 'LowerStretching': 63.699222564697266, 'Patting': 69.3172378540039, 'Gesticuling': 61.38540267944336, 'Walking': 74.49105834960938, 'Gaming': 58.765647888183594, 'Talking': 57.132991790771484, 'Greeting': 55.259422302246094}, 'LowerBody': {'All': 129.56573486328125, 'UpperStretching': 135.28330993652344, 'Reacting': 85.83040618896484, 'LowerStretching': 134.9855499267578, 'Patting': 106.59485626220703, 'Gesticuling': 66.91608428955078, 'Walking': 140.66368103027344, 'Gaming': 83.3611068725586, 'Talking': 69.57259368896484, 'Greeting': 63.10906982421875}}\n"
     ]
    },
    {
     "name": "stderr",
     "output_type": "stream",
     "text": [
      " 93%|█████████▎| 5001/5352 [12:30<00:53,  6.55it/s]"
     ]
    },
    {
     "name": "stdout",
     "output_type": "stream",
     "text": [
      "{'FullBody': {'All': 102.9264907836914, 'UpperStretching': 108.92438507080078, 'Reacting': 80.4723129272461, 'LowerStretching': 99.34276580810547, 'Patting': 88.43148040771484, 'Gesticuling': 64.11133575439453, 'Walking': 107.69480895996094, 'Gaming': 71.2397232055664, 'Talking': 63.22117233276367, 'Greeting': 59.216793060302734}, 'UpperBody': {'All': 76.24227142333984, 'UpperStretching': 82.57457733154297, 'Reacting': 74.90040588378906, 'LowerStretching': 63.68640899658203, 'Patting': 69.25240325927734, 'Gesticuling': 61.26536178588867, 'Walking': 74.49337768554688, 'Gaming': 59.023223876953125, 'Talking': 57.019405364990234, 'Greeting': 55.176876068115234}, 'LowerBody': {'All': 129.61070251464844, 'UpperStretching': 135.27415466308594, 'Reacting': 86.04422760009766, 'LowerStretching': 134.99911499023438, 'Patting': 107.61055755615234, 'Gesticuling': 66.95730590820312, 'Walking': 140.896240234375, 'Gaming': 83.45623016357422, 'Talking': 69.42293548583984, 'Greeting': 63.25669860839844}}\n"
     ]
    },
    {
     "name": "stderr",
     "output_type": "stream",
     "text": [
      " 97%|█████████▋| 5201/5352 [13:00<00:24,  6.25it/s]"
     ]
    },
    {
     "name": "stdout",
     "output_type": "stream",
     "text": [
      "{'FullBody': {'All': 102.93389129638672, 'UpperStretching': 108.97639465332031, 'Reacting': 80.30669403076172, 'LowerStretching': 99.37010192871094, 'Patting': 88.76277160644531, 'Gesticuling': 64.02171325683594, 'Walking': 107.56270599365234, 'Gaming': 71.12446594238281, 'Talking': 63.05156707763672, 'Greeting': 59.04840087890625}, 'UpperBody': {'All': 76.22994232177734, 'UpperStretching': 82.6088638305664, 'Reacting': 74.75446319580078, 'LowerStretching': 63.682159423828125, 'Patting': 69.45567321777344, 'Gesticuling': 61.16241455078125, 'Walking': 74.3825454711914, 'Gaming': 58.92816162109375, 'Talking': 56.89115905761719, 'Greeting': 55.109764099121094}, 'LowerBody': {'All': 129.63784790039062, 'UpperStretching': 135.34390258789062, 'Reacting': 85.85891723632812, 'LowerStretching': 135.0580291748047, 'Patting': 108.06988525390625, 'Gesticuling': 66.88101196289062, 'Walking': 140.74285888671875, 'Gaming': 83.32076263427734, 'Talking': 69.21198272705078, 'Greeting': 62.98702621459961}}\n"
     ]
    },
    {
     "name": "stderr",
     "output_type": "stream",
     "text": [
      "100%|██████████| 5352/5352 [13:23<00:00,  6.66it/s]\n",
      "\u001b[94m18:59:56 \u001b[92m[INFO]\u001b[94m Main\u001b[0m: Saving evaluation results...\n",
      "\u001b[94m18:59:56 \u001b[92m[INFO]\u001b[94m Main\u001b[0m: Done.\n",
      "\u001b[94m18:59:56 \u001b[92m[INFO]\u001b[94m Main\u001b[0m: Starting demo...\n",
      "  0%|          | 0/5352 [00:00<?, ?it/s]/opt/conda/lib/python3.10/site-packages/torchvision/transforms/transforms.py:329: UserWarning: Argument 'interpolation' of type int is deprecated since 0.13 and will be removed in 0.15. Please use InterpolationMode enum.\n",
      "  warnings.warn(\n",
      "/opt/conda/lib/python3.10/site-packages/torchvision/transforms/transforms.py:329: UserWarning: Argument 'interpolation' of type int is deprecated since 0.13 and will be removed in 0.15. Please use InterpolationMode enum.\n",
      "  warnings.warn(\n",
      "/opt/conda/lib/python3.10/site-packages/torchvision/transforms/transforms.py:329: UserWarning: Argument 'interpolation' of type int is deprecated since 0.13 and will be removed in 0.15. Please use InterpolationMode enum.\n",
      "  warnings.warn(\n",
      "/opt/conda/lib/python3.10/site-packages/torchvision/transforms/transforms.py:329: UserWarning: Argument 'interpolation' of type int is deprecated since 0.13 and will be removed in 0.15. Please use InterpolationMode enum.\n",
      "  warnings.warn(\n",
      "/opt/conda/lib/python3.10/site-packages/torchvision/transforms/transforms.py:329: UserWarning: Argument 'interpolation' of type int is deprecated since 0.13 and will be removed in 0.15. Please use InterpolationMode enum.\n",
      "  warnings.warn(\n",
      "/opt/conda/lib/python3.10/site-packages/torchvision/transforms/transforms.py:329: UserWarning: Argument 'interpolation' of type int is deprecated since 0.13 and will be removed in 0.15. Please use InterpolationMode enum.\n",
      "  warnings.warn(\n",
      "/opt/conda/lib/python3.10/site-packages/torchvision/transforms/transforms.py:329: UserWarning: Argument 'interpolation' of type int is deprecated since 0.13 and will be removed in 0.15. Please use InterpolationMode enum.\n",
      "  warnings.warn(\n",
      "/opt/conda/lib/python3.10/site-packages/torchvision/transforms/transforms.py:329: UserWarning: Argument 'interpolation' of type int is deprecated since 0.13 and will be removed in 0.15. Please use InterpolationMode enum.\n",
      "  warnings.warn(\n",
      "/opt/conda/lib/python3.10/site-packages/torchvision/transforms/transforms.py:329: UserWarning: Argument 'interpolation' of type int is deprecated since 0.13 and will be removed in 0.15. Please use InterpolationMode enum.\n",
      "  warnings.warn(\n",
      "/opt/conda/lib/python3.10/site-packages/torchvision/transforms/transforms.py:329: UserWarning: Argument 'interpolation' of type int is deprecated since 0.13 and will be removed in 0.15. Please use InterpolationMode enum.\n",
      "  warnings.warn(\n",
      "/opt/conda/lib/python3.10/site-packages/torchvision/transforms/transforms.py:329: UserWarning: Argument 'interpolation' of type int is deprecated since 0.13 and will be removed in 0.15. Please use InterpolationMode enum.\n",
      "  warnings.warn(\n",
      "/opt/conda/lib/python3.10/site-packages/torchvision/transforms/transforms.py:329: UserWarning: Argument 'interpolation' of type int is deprecated since 0.13 and will be removed in 0.15. Please use InterpolationMode enum.\n",
      "  warnings.warn(\n",
      "/opt/conda/lib/python3.10/site-packages/torchvision/transforms/transforms.py:329: UserWarning: Argument 'interpolation' of type int is deprecated since 0.13 and will be removed in 0.15. Please use InterpolationMode enum.\n",
      "  warnings.warn(\n",
      "/opt/conda/lib/python3.10/site-packages/torchvision/transforms/transforms.py:329: UserWarning: Argument 'interpolation' of type int is deprecated since 0.13 and will be removed in 0.15. Please use InterpolationMode enum.\n",
      "  warnings.warn(\n",
      "/opt/conda/lib/python3.10/site-packages/torchvision/transforms/transforms.py:329: UserWarning: Argument 'interpolation' of type int is deprecated since 0.13 and will be removed in 0.15. Please use InterpolationMode enum.\n",
      "  warnings.warn(\n",
      "/opt/conda/lib/python3.10/site-packages/torchvision/transforms/transforms.py:329: UserWarning: Argument 'interpolation' of type int is deprecated since 0.13 and will be removed in 0.15. Please use InterpolationMode enum.\n",
      "  warnings.warn(\n",
      "/opt/conda/lib/python3.10/site-packages/torchvision/transforms/transforms.py:329: UserWarning: Argument 'interpolation' of type int is deprecated since 0.13 and will be removed in 0.15. Please use InterpolationMode enum.\n",
      "  warnings.warn(\n",
      "/opt/conda/lib/python3.10/site-packages/torchvision/transforms/transforms.py:329: UserWarning: Argument 'interpolation' of type int is deprecated since 0.13 and will be removed in 0.15. Please use InterpolationMode enum.\n",
      "  warnings.warn(\n",
      "/opt/conda/lib/python3.10/site-packages/torchvision/transforms/transforms.py:329: UserWarning: Argument 'interpolation' of type int is deprecated since 0.13 and will be removed in 0.15. Please use InterpolationMode enum.\n",
      "  warnings.warn(\n",
      "/opt/conda/lib/python3.10/site-packages/torchvision/transforms/transforms.py:329: UserWarning: Argument 'interpolation' of type int is deprecated since 0.13 and will be removed in 0.15. Please use InterpolationMode enum.\n",
      "  warnings.warn(\n",
      "/opt/conda/lib/python3.10/site-packages/torchvision/transforms/transforms.py:329: UserWarning: Argument 'interpolation' of type int is deprecated since 0.13 and will be removed in 0.15. Please use InterpolationMode enum.\n",
      "  warnings.warn(\n",
      "/opt/conda/lib/python3.10/site-packages/torchvision/transforms/transforms.py:329: UserWarning: Argument 'interpolation' of type int is deprecated since 0.13 and will be removed in 0.15. Please use InterpolationMode enum.\n",
      "  warnings.warn(\n",
      "/opt/conda/lib/python3.10/site-packages/torchvision/transforms/transforms.py:329: UserWarning: Argument 'interpolation' of type int is deprecated since 0.13 and will be removed in 0.15. Please use InterpolationMode enum.\n",
      "  warnings.warn(\n",
      "/opt/conda/lib/python3.10/site-packages/torchvision/transforms/transforms.py:329: UserWarning: Argument 'interpolation' of type int is deprecated since 0.13 and will be removed in 0.15. Please use InterpolationMode enum.\n",
      "  warnings.warn(\n",
      "  4%|▍         | 201/5352 [00:36<12:43,  6.75it/s]"
     ]
    },
    {
     "name": "stdout",
     "output_type": "stream",
     "text": [
      "{'FullBody': {'All': 89.83101654052734, 'UpperStretching': 93.60431671142578, 'LowerStretching': 90.52168273925781, 'Walking': 87.30697631835938, 'Reacting': 71.49976348876953, 'Gesticuling': 71.69735717773438, 'Patting': 86.22813415527344, 'Gaming': 68.78375244140625, 'Greeting': 60.60549545288086, 'Talking': 60.651023864746094}, 'UpperBody': {'All': 63.977725982666016, 'UpperStretching': 69.52192687988281, 'LowerStretching': 54.404964447021484, 'Walking': 60.070552825927734, 'Reacting': 52.46586227416992, 'Gesticuling': 58.604923248291016, 'Patting': 60.975521087646484, 'Gaming': 55.785091400146484, 'Greeting': 46.991573333740234, 'Talking': 45.256141662597656}, 'LowerBody': {'All': 115.68431854248047, 'UpperStretching': 117.68671417236328, 'LowerStretching': 126.63838958740234, 'Walking': 114.54339599609375, 'Reacting': 90.5336685180664, 'Gesticuling': 84.78978729248047, 'Patting': 111.48075103759766, 'Gaming': 81.78241729736328, 'Greeting': 74.21941375732422, 'Talking': 76.04589080810547}}\n"
     ]
    },
    {
     "name": "stderr",
     "output_type": "stream",
     "text": [
      "  7%|▋         | 401/5352 [01:05<13:08,  6.28it/s]"
     ]
    },
    {
     "name": "stdout",
     "output_type": "stream",
     "text": [
      "{'FullBody': {'All': 89.00353240966797, 'UpperStretching': 93.33927917480469, 'LowerStretching': 88.20945739746094, 'Walking': 85.0851058959961, 'Reacting': 72.9302978515625, 'Gesticuling': 69.2331314086914, 'Patting': 85.731689453125, 'Gaming': 70.82831573486328, 'Greeting': 67.29480743408203, 'Talking': 59.16293716430664}, 'UpperBody': {'All': 64.09355163574219, 'UpperStretching': 70.30998229980469, 'LowerStretching': 52.85295486450195, 'Walking': 58.10444641113281, 'Reacting': 56.37858963012695, 'Gesticuling': 56.874759674072266, 'Patting': 60.537349700927734, 'Gaming': 57.1197624206543, 'Greeting': 52.93362045288086, 'Talking': 46.270751953125}, 'LowerBody': {'All': 113.91351318359375, 'UpperStretching': 116.36857604980469, 'LowerStretching': 123.56593322753906, 'Walking': 112.06578063964844, 'Reacting': 89.48200988769531, 'Gesticuling': 81.59150695800781, 'Patting': 110.92603302001953, 'Gaming': 84.5368881225586, 'Greeting': 81.65599822998047, 'Talking': 72.05512237548828}}\n"
     ]
    },
    {
     "name": "stderr",
     "output_type": "stream",
     "text": [
      " 11%|█         | 601/5352 [01:35<11:21,  6.97it/s]"
     ]
    },
    {
     "name": "stdout",
     "output_type": "stream",
     "text": [
      "{'FullBody': {'All': 89.62389373779297, 'UpperStretching': 94.18431854248047, 'LowerStretching': 88.10263061523438, 'Walking': 85.7751235961914, 'Reacting': 72.61779022216797, 'Gesticuling': 69.57028198242188, 'Patting': 85.39823150634766, 'Gaming': 71.27830505371094, 'Greeting': 65.8653564453125, 'Talking': 59.486995697021484}, 'UpperBody': {'All': 64.2972183227539, 'UpperStretching': 70.57854461669922, 'LowerStretching': 52.80942916870117, 'Walking': 58.074462890625, 'Reacting': 56.79987716674805, 'Gesticuling': 57.71968078613281, 'Patting': 59.07691192626953, 'Gaming': 57.3814697265625, 'Greeting': 51.45093536376953, 'Talking': 45.494754791259766}, 'LowerBody': {'All': 114.9505615234375, 'UpperStretching': 117.79006958007812, 'LowerStretching': 123.3958511352539, 'Walking': 113.47579193115234, 'Reacting': 88.43570709228516, 'Gesticuling': 81.4208755493164, 'Patting': 111.71956634521484, 'Gaming': 85.1751480102539, 'Greeting': 80.27976989746094, 'Talking': 73.47924041748047}}\n"
     ]
    },
    {
     "name": "stderr",
     "output_type": "stream",
     "text": [
      " 15%|█▍        | 801/5352 [02:04<10:43,  7.08it/s]"
     ]
    },
    {
     "name": "stdout",
     "output_type": "stream",
     "text": [
      "{'FullBody': {'All': 90.12281036376953, 'UpperStretching': 94.99737548828125, 'LowerStretching': 88.18408203125, 'Walking': 86.1708984375, 'Reacting': 73.45913696289062, 'Gesticuling': 68.57815551757812, 'Patting': 81.2698745727539, 'Gaming': 71.96359252929688, 'Greeting': 68.02699279785156, 'Talking': 59.7409782409668}, 'UpperBody': {'All': 64.608642578125, 'UpperStretching': 71.00205993652344, 'LowerStretching': 52.860877990722656, 'Walking': 58.34858322143555, 'Reacting': 57.67070770263672, 'Gesticuling': 57.411949157714844, 'Patting': 56.715850830078125, 'Gaming': 57.31868362426758, 'Greeting': 52.95758819580078, 'Talking': 45.452701568603516}, 'LowerBody': {'All': 115.63697052001953, 'UpperStretching': 118.99267578125, 'LowerStretching': 123.5073013305664, 'Walking': 113.99320983886719, 'Reacting': 89.24757385253906, 'Gesticuling': 79.7443618774414, 'Patting': 105.82389831542969, 'Gaming': 86.60850524902344, 'Greeting': 83.09639739990234, 'Talking': 74.02926635742188}}\n"
     ]
    },
    {
     "name": "stderr",
     "output_type": "stream",
     "text": [
      " 19%|█▊        | 1001/5352 [02:34<11:40,  6.21it/s]"
     ]
    },
    {
     "name": "stdout",
     "output_type": "stream",
     "text": [
      "{'FullBody': {'All': 89.6664810180664, 'UpperStretching': 94.40760040283203, 'LowerStretching': 87.86832427978516, 'Walking': 85.4835433959961, 'Reacting': 73.47521209716797, 'Gesticuling': 67.87370300292969, 'Patting': 84.07149505615234, 'Gaming': 72.76597595214844, 'Greeting': 68.43302154541016, 'Talking': 59.987091064453125}, 'UpperBody': {'All': 64.32915496826172, 'UpperStretching': 70.67605590820312, 'LowerStretching': 52.48731231689453, 'Walking': 57.93207931518555, 'Reacting': 57.821617126464844, 'Gesticuling': 56.77860641479492, 'Patting': 59.386314392089844, 'Gaming': 56.55928039550781, 'Greeting': 53.45664978027344, 'Talking': 46.72783660888672}, 'LowerBody': {'All': 115.00381469726562, 'UpperStretching': 118.1391372680664, 'LowerStretching': 123.24933624267578, 'Walking': 113.0350112915039, 'Reacting': 89.12881469726562, 'Gesticuling': 78.96880340576172, 'Patting': 108.7566909790039, 'Gaming': 88.97267150878906, 'Greeting': 83.4094009399414, 'Talking': 73.246337890625}}\n"
     ]
    },
    {
     "name": "stderr",
     "output_type": "stream",
     "text": [
      " 22%|██▏       | 1201/5352 [03:03<10:05,  6.85it/s]"
     ]
    },
    {
     "name": "stdout",
     "output_type": "stream",
     "text": [
      "{'FullBody': {'All': 89.59950256347656, 'UpperStretching': 94.28975677490234, 'LowerStretching': 87.90290069580078, 'Walking': 85.40255737304688, 'Reacting': 73.2712173461914, 'Gesticuling': 66.83767700195312, 'Patting': 86.03822326660156, 'Gaming': 72.46526336669922, 'Greeting': 70.70892333984375, 'Talking': 60.090675354003906}, 'UpperBody': {'All': 64.34329223632812, 'UpperStretching': 70.71485137939453, 'LowerStretching': 52.49458312988281, 'Walking': 57.87306594848633, 'Reacting': 57.768150329589844, 'Gesticuling': 55.93524932861328, 'Patting': 59.982322692871094, 'Gaming': 56.24694061279297, 'Greeting': 54.67142105102539, 'Talking': 46.68933868408203}, 'LowerBody': {'All': 114.85570526123047, 'UpperStretching': 117.86466979980469, 'LowerStretching': 123.31123352050781, 'Walking': 112.93203735351562, 'Reacting': 88.77428436279297, 'Gesticuling': 77.7401123046875, 'Patting': 112.0941162109375, 'Gaming': 88.68358612060547, 'Greeting': 86.7464370727539, 'Talking': 73.49201965332031}}\n"
     ]
    },
    {
     "name": "stderr",
     "output_type": "stream",
     "text": [
      " 26%|██▌       | 1401/5352 [03:33<09:35,  6.87it/s]"
     ]
    },
    {
     "name": "stdout",
     "output_type": "stream",
     "text": [
      "{'FullBody': {'All': 89.64303588867188, 'UpperStretching': 94.34683990478516, 'LowerStretching': 88.30900573730469, 'Walking': 85.0464859008789, 'Reacting': 73.11109924316406, 'Gesticuling': 66.91465759277344, 'Patting': 87.17595672607422, 'Gaming': 71.93991088867188, 'Greeting': 68.29981231689453, 'Talking': 60.214900970458984}, 'UpperBody': {'All': 64.38053894042969, 'UpperStretching': 70.7929916381836, 'LowerStretching': 52.59074783325195, 'Walking': 57.5250129699707, 'Reacting': 57.79241943359375, 'Gesticuling': 56.195804595947266, 'Patting': 61.109188079833984, 'Gaming': 56.369354248046875, 'Greeting': 53.324684143066406, 'Talking': 47.139556884765625}, 'LowerBody': {'All': 114.90552520751953, 'UpperStretching': 117.90067291259766, 'LowerStretching': 124.02727508544922, 'Walking': 112.56796264648438, 'Reacting': 88.4297866821289, 'Gesticuling': 77.63352966308594, 'Patting': 113.24272918701172, 'Gaming': 87.51045989990234, 'Greeting': 83.27495574951172, 'Talking': 73.29025268554688}}\n"
     ]
    },
    {
     "name": "stderr",
     "output_type": "stream",
     "text": [
      " 30%|██▉       | 1601/5352 [04:03<09:49,  6.36it/s]"
     ]
    },
    {
     "name": "stdout",
     "output_type": "stream",
     "text": [
      "{'FullBody': {'All': 89.58858489990234, 'UpperStretching': 94.29788208007812, 'LowerStretching': 88.29960632324219, 'Walking': 84.890380859375, 'Reacting': 73.06792449951172, 'Gesticuling': 66.52584075927734, 'Patting': 87.90764617919922, 'Gaming': 72.2071762084961, 'Greeting': 68.15475463867188, 'Talking': 60.91209411621094}, 'UpperBody': {'All': 64.29915618896484, 'UpperStretching': 70.7710952758789, 'LowerStretching': 52.46720886230469, 'Walking': 57.429996490478516, 'Reacting': 57.87828063964844, 'Gesticuling': 55.94933319091797, 'Patting': 60.87171936035156, 'Gaming': 55.951663970947266, 'Greeting': 52.78929901123047, 'Talking': 47.93495178222656}, 'LowerBody': {'All': 114.87800598144531, 'UpperStretching': 117.82466125488281, 'LowerStretching': 124.13200378417969, 'Walking': 112.35076904296875, 'Reacting': 88.257568359375, 'Gesticuling': 77.10235595703125, 'Patting': 114.9435806274414, 'Gaming': 88.46268463134766, 'Greeting': 83.52021789550781, 'Talking': 73.88924407958984}}\n"
     ]
    },
    {
     "name": "stderr",
     "output_type": "stream",
     "text": [
      " 34%|███▎      | 1801/5352 [04:32<08:53,  6.65it/s]"
     ]
    },
    {
     "name": "stdout",
     "output_type": "stream",
     "text": [
      "{'FullBody': {'All': 89.54264831542969, 'UpperStretching': 94.2383804321289, 'LowerStretching': 88.09761047363281, 'Walking': 84.77714538574219, 'Reacting': 73.45886993408203, 'Gesticuling': 66.16527557373047, 'Patting': 88.67098999023438, 'Gaming': 72.30440521240234, 'Greeting': 68.25653839111328, 'Talking': 61.28514099121094}, 'UpperBody': {'All': 64.31231689453125, 'UpperStretching': 70.75138092041016, 'LowerStretching': 52.46440887451172, 'Walking': 57.47400665283203, 'Reacting': 58.35506820678711, 'Gesticuling': 55.59629821777344, 'Patting': 61.068992614746094, 'Gaming': 55.69985580444336, 'Greeting': 52.87706756591797, 'Talking': 48.00391387939453}, 'LowerBody': {'All': 114.77295684814453, 'UpperStretching': 117.72537231445312, 'LowerStretching': 123.73081970214844, 'Walking': 112.0802993774414, 'Reacting': 88.56267547607422, 'Gesticuling': 76.73426055908203, 'Patting': 116.27298736572266, 'Gaming': 88.90895080566406, 'Greeting': 83.63601684570312, 'Talking': 74.56637573242188}}\n"
     ]
    },
    {
     "name": "stderr",
     "output_type": "stream",
     "text": [
      " 37%|███▋      | 2001/5352 [05:02<08:20,  6.70it/s]"
     ]
    },
    {
     "name": "stdout",
     "output_type": "stream",
     "text": [
      "{'FullBody': {'All': 89.66804504394531, 'UpperStretching': 94.36784362792969, 'LowerStretching': 88.22695922851562, 'Walking': 85.09814453125, 'Reacting': 73.89749145507812, 'Gesticuling': 65.93268585205078, 'Patting': 87.74920654296875, 'Gaming': 72.31316375732422, 'Greeting': 68.3510513305664, 'Talking': 62.282264709472656}, 'UpperBody': {'All': 64.34557342529297, 'UpperStretching': 70.76207733154297, 'LowerStretching': 52.583335876464844, 'Walking': 57.57906723022461, 'Reacting': 58.48961639404297, 'Gesticuling': 55.4367790222168, 'Patting': 60.39314270019531, 'Gaming': 56.259098052978516, 'Greeting': 52.85669708251953, 'Talking': 48.98014831542969}, 'LowerBody': {'All': 114.99051666259766, 'UpperStretching': 117.97359466552734, 'LowerStretching': 123.87057495117188, 'Walking': 112.61722564697266, 'Reacting': 89.30535125732422, 'Gesticuling': 76.42860412597656, 'Patting': 115.10527801513672, 'Gaming': 88.36721801757812, 'Greeting': 83.84540557861328, 'Talking': 75.58438110351562}}\n"
     ]
    },
    {
     "name": "stderr",
     "output_type": "stream",
     "text": [
      " 41%|████      | 2201/5352 [05:31<08:24,  6.24it/s]"
     ]
    },
    {
     "name": "stdout",
     "output_type": "stream",
     "text": [
      "{'FullBody': {'All': 89.67994689941406, 'UpperStretching': 94.45489501953125, 'LowerStretching': 88.14044952392578, 'Walking': 85.05636596679688, 'Reacting': 74.03423309326172, 'Gesticuling': 66.08980560302734, 'Patting': 86.91690826416016, 'Gaming': 72.27637481689453, 'Greeting': 68.16712188720703, 'Talking': 63.11884689331055}, 'UpperBody': {'All': 64.32879638671875, 'UpperStretching': 70.8248062133789, 'LowerStretching': 52.49140167236328, 'Walking': 57.4709358215332, 'Reacting': 58.44581985473633, 'Gesticuling': 55.639522552490234, 'Patting': 59.90888595581055, 'Gaming': 55.809024810791016, 'Greeting': 52.959434509277344, 'Talking': 49.99221420288086}, 'LowerBody': {'All': 115.03108215332031, 'UpperStretching': 118.08497619628906, 'LowerStretching': 123.78952026367188, 'Walking': 112.64180755615234, 'Reacting': 89.62263488769531, 'Gesticuling': 76.54010009765625, 'Patting': 113.92491912841797, 'Gaming': 88.74371337890625, 'Greeting': 83.37480163574219, 'Talking': 76.24547576904297}}\n"
     ]
    },
    {
     "name": "stderr",
     "output_type": "stream",
     "text": [
      " 45%|████▍     | 2401/5352 [06:01<07:15,  6.78it/s]"
     ]
    },
    {
     "name": "stdout",
     "output_type": "stream",
     "text": [
      "{'FullBody': {'All': 89.66429138183594, 'UpperStretching': 94.49543762207031, 'LowerStretching': 88.21560668945312, 'Walking': 84.93887329101562, 'Reacting': 74.20635986328125, 'Gesticuling': 65.76524353027344, 'Patting': 86.44810485839844, 'Gaming': 72.29963684082031, 'Greeting': 67.30183410644531, 'Talking': 62.585044860839844}, 'UpperBody': {'All': 64.3420181274414, 'UpperStretching': 70.9029769897461, 'LowerStretching': 52.46319580078125, 'Walking': 57.453819274902344, 'Reacting': 58.63795852661133, 'Gesticuling': 55.5053825378418, 'Patting': 59.666099548339844, 'Gaming': 55.701847076416016, 'Greeting': 52.45147705078125, 'Talking': 49.550628662109375}, 'LowerBody': {'All': 114.98656463623047, 'UpperStretching': 118.087890625, 'LowerStretching': 123.96802520751953, 'Walking': 112.42391967773438, 'Reacting': 89.77476501464844, 'Gesticuling': 76.02510070800781, 'Patting': 113.2301025390625, 'Gaming': 88.89742279052734, 'Greeting': 82.15219116210938, 'Talking': 75.61946868896484}}\n"
     ]
    },
    {
     "name": "stderr",
     "output_type": "stream",
     "text": [
      " 49%|████▊     | 2601/5352 [06:31<06:43,  6.82it/s]"
     ]
    },
    {
     "name": "stdout",
     "output_type": "stream",
     "text": [
      "{'FullBody': {'All': 89.63268280029297, 'UpperStretching': 94.49333190917969, 'LowerStretching': 88.01901245117188, 'Walking': 84.97621154785156, 'Reacting': 73.96407318115234, 'Gesticuling': 65.62217712402344, 'Patting': 86.45550537109375, 'Gaming': 72.25029754638672, 'Greeting': 67.27923583984375, 'Talking': 62.54661560058594}, 'UpperBody': {'All': 64.34313201904297, 'UpperStretching': 70.94186401367188, 'LowerStretching': 52.415775299072266, 'Walking': 57.40926742553711, 'Reacting': 58.568790435791016, 'Gesticuling': 55.41276168823242, 'Patting': 59.35704040527344, 'Gaming': 55.85248565673828, 'Greeting': 52.40957260131836, 'Talking': 49.48935317993164}, 'LowerBody': {'All': 114.92223358154297, 'UpperStretching': 118.04479217529297, 'LowerStretching': 123.62225341796875, 'Walking': 112.54315185546875, 'Reacting': 89.35935974121094, 'Gesticuling': 75.83158111572266, 'Patting': 113.55398559570312, 'Gaming': 88.64810180664062, 'Greeting': 82.14889526367188, 'Talking': 75.6038818359375}}\n"
     ]
    },
    {
     "name": "stderr",
     "output_type": "stream",
     "text": [
      " 52%|█████▏    | 2801/5352 [07:01<07:11,  5.92it/s]"
     ]
    },
    {
     "name": "stdout",
     "output_type": "stream",
     "text": [
      "{'FullBody': {'All': 89.5427474975586, 'UpperStretching': 94.4119644165039, 'LowerStretching': 87.85245513916016, 'Walking': 84.85198974609375, 'Reacting': 74.36661529541016, 'Gesticuling': 65.67559051513672, 'Patting': 85.980224609375, 'Gaming': 72.02676391601562, 'Greeting': 67.06535339355469, 'Talking': 62.5604248046875}, 'UpperBody': {'All': 64.3268051147461, 'UpperStretching': 70.9367446899414, 'LowerStretching': 52.369285583496094, 'Walking': 57.28044891357422, 'Reacting': 58.986122131347656, 'Gesticuling': 55.32562255859375, 'Patting': 59.39279556274414, 'Gaming': 55.88306427001953, 'Greeting': 52.2733154296875, 'Talking': 49.65186309814453}, 'LowerBody': {'All': 114.75869750976562, 'UpperStretching': 117.8871841430664, 'LowerStretching': 123.33563232421875, 'Walking': 112.42353057861328, 'Reacting': 89.74710845947266, 'Gesticuling': 76.02555084228516, 'Patting': 112.56767272949219, 'Gaming': 88.17046356201172, 'Greeting': 81.85738372802734, 'Talking': 75.468994140625}}\n"
     ]
    },
    {
     "name": "stderr",
     "output_type": "stream",
     "text": [
      " 56%|█████▌    | 3001/5352 [07:30<05:54,  6.64it/s]"
     ]
    },
    {
     "name": "stdout",
     "output_type": "stream",
     "text": [
      "{'FullBody': {'All': 89.44220733642578, 'UpperStretching': 94.43698120117188, 'LowerStretching': 87.40459442138672, 'Walking': 84.6590347290039, 'Reacting': 74.25202178955078, 'Gesticuling': 65.66410827636719, 'Patting': 86.02635192871094, 'Gaming': 71.67084503173828, 'Greeting': 67.42744445800781, 'Talking': 62.2592658996582}, 'UpperBody': {'All': 64.29991912841797, 'UpperStretching': 70.99195098876953, 'LowerStretching': 52.13951110839844, 'Walking': 57.11824417114258, 'Reacting': 58.9561767578125, 'Gesticuling': 55.453125, 'Patting': 59.603816986083984, 'Gaming': 55.75056076049805, 'Greeting': 52.552677154541016, 'Talking': 49.28260803222656}, 'LowerBody': {'All': 114.58448791503906, 'UpperStretching': 117.88201141357422, 'LowerStretching': 122.66967010498047, 'Walking': 112.1998291015625, 'Reacting': 89.54785919189453, 'Gesticuling': 75.8750991821289, 'Patting': 112.44888305664062, 'Gaming': 87.59113311767578, 'Greeting': 82.30221557617188, 'Talking': 75.23590850830078}}\n"
     ]
    },
    {
     "name": "stderr",
     "output_type": "stream",
     "text": [
      " 60%|█████▉    | 3201/5352 [08:00<05:19,  6.73it/s]"
     ]
    },
    {
     "name": "stdout",
     "output_type": "stream",
     "text": [
      "{'FullBody': {'All': 89.41565704345703, 'UpperStretching': 94.37691497802734, 'LowerStretching': 87.51498413085938, 'Walking': 84.74188995361328, 'Reacting': 74.1230239868164, 'Gesticuling': 65.53126525878906, 'Patting': 85.32010650634766, 'Gaming': 71.73788452148438, 'Greeting': 67.4595718383789, 'Talking': 62.05068588256836}, 'UpperBody': {'All': 64.2524642944336, 'UpperStretching': 70.93997955322266, 'LowerStretching': 52.16466522216797, 'Walking': 57.150386810302734, 'Reacting': 58.705020904541016, 'Gesticuling': 55.40692138671875, 'Patting': 59.29265594482422, 'Gaming': 55.81352615356445, 'Greeting': 52.5491943359375, 'Talking': 49.095314025878906}, 'LowerBody': {'All': 114.57886505126953, 'UpperStretching': 117.81385803222656, 'LowerStretching': 122.86529541015625, 'Walking': 112.3333969116211, 'Reacting': 89.54103088378906, 'Gesticuling': 75.65560150146484, 'Patting': 111.34757232666016, 'Gaming': 87.66224670410156, 'Greeting': 82.36995697021484, 'Talking': 75.00605010986328}}\n"
     ]
    },
    {
     "name": "stderr",
     "output_type": "stream",
     "text": [
      " 64%|██████▎   | 3401/5352 [08:30<05:23,  6.03it/s]"
     ]
    },
    {
     "name": "stdout",
     "output_type": "stream",
     "text": [
      "{'FullBody': {'All': 89.38427734375, 'UpperStretching': 94.3910140991211, 'LowerStretching': 87.30728912353516, 'Walking': 84.6480712890625, 'Reacting': 74.24256134033203, 'Gesticuling': 65.68032836914062, 'Patting': 85.5746078491211, 'Gaming': 72.06153869628906, 'Greeting': 67.56770324707031, 'Talking': 62.15888977050781}, 'UpperBody': {'All': 64.2422103881836, 'UpperStretching': 70.96046447753906, 'LowerStretching': 52.08488082885742, 'Walking': 57.042503356933594, 'Reacting': 58.72098922729492, 'Gesticuling': 55.54485321044922, 'Patting': 59.341365814208984, 'Gaming': 55.93360137939453, 'Greeting': 52.69832229614258, 'Talking': 49.04180145263672}, 'LowerBody': {'All': 114.52635955810547, 'UpperStretching': 117.82156372070312, 'LowerStretching': 122.52970123291016, 'Walking': 112.25366973876953, 'Reacting': 89.76412963867188, 'Gesticuling': 75.81578826904297, 'Patting': 111.80782318115234, 'Gaming': 88.18948364257812, 'Greeting': 82.43708801269531, 'Talking': 75.27597045898438}}\n"
     ]
    },
    {
     "name": "stderr",
     "output_type": "stream",
     "text": [
      " 67%|██████▋   | 3601/5352 [09:00<04:35,  6.36it/s]"
     ]
    },
    {
     "name": "stdout",
     "output_type": "stream",
     "text": [
      "{'FullBody': {'All': 89.44497680664062, 'UpperStretching': 94.47642517089844, 'LowerStretching': 87.29634857177734, 'Walking': 84.78962707519531, 'Reacting': 74.23141479492188, 'Gesticuling': 65.7462387084961, 'Patting': 85.40599060058594, 'Gaming': 71.95835876464844, 'Greeting': 67.5311508178711, 'Talking': 62.14693832397461}, 'UpperBody': {'All': 64.28087615966797, 'UpperStretching': 71.00263977050781, 'LowerStretching': 52.1173095703125, 'Walking': 57.079498291015625, 'Reacting': 58.81793975830078, 'Gesticuling': 55.648738861083984, 'Patting': 59.24646759033203, 'Gaming': 55.93112564086914, 'Greeting': 52.56080627441406, 'Talking': 49.18959426879883}, 'LowerBody': {'All': 114.60908508300781, 'UpperStretching': 117.95021057128906, 'LowerStretching': 122.47537231445312, 'Walking': 112.49974822998047, 'Reacting': 89.64491271972656, 'Gesticuling': 75.8437271118164, 'Patting': 111.56552124023438, 'Gaming': 87.98558807373047, 'Greeting': 82.5014877319336, 'Talking': 75.10427856445312}}\n"
     ]
    },
    {
     "name": "stderr",
     "output_type": "stream",
     "text": [
      " 71%|███████   | 3801/5352 [09:30<03:54,  6.61it/s]"
     ]
    },
    {
     "name": "stdout",
     "output_type": "stream",
     "text": [
      "{'FullBody': {'All': 89.48323822021484, 'UpperStretching': 94.56876373291016, 'LowerStretching': 87.12590026855469, 'Walking': 84.7740249633789, 'Reacting': 74.11170196533203, 'Gesticuling': 65.71598815917969, 'Patting': 85.83319854736328, 'Gaming': 71.99021911621094, 'Greeting': 67.8255386352539, 'Talking': 62.113037109375}, 'UpperBody': {'All': 64.3136978149414, 'UpperStretching': 71.07061767578125, 'LowerStretching': 52.028533935546875, 'Walking': 57.0658073425293, 'Reacting': 58.63042449951172, 'Gesticuling': 55.5528678894043, 'Patting': 59.35642623901367, 'Gaming': 55.966773986816406, 'Greeting': 52.786373138427734, 'Talking': 49.155418395996094}, 'LowerBody': {'All': 114.65279388427734, 'UpperStretching': 118.06690216064453, 'LowerStretching': 122.2232437133789, 'Walking': 112.48224639892578, 'Reacting': 89.59297180175781, 'Gesticuling': 75.87911224365234, 'Patting': 112.3099594116211, 'Gaming': 88.01365661621094, 'Greeting': 82.86470031738281, 'Talking': 75.0706558227539}}\n"
     ]
    },
    {
     "name": "stderr",
     "output_type": "stream",
     "text": [
      " 75%|███████▍  | 4001/5352 [10:00<03:45,  6.00it/s]"
     ]
    },
    {
     "name": "stdout",
     "output_type": "stream",
     "text": [
      "{'FullBody': {'All': 89.51365661621094, 'UpperStretching': 94.66327667236328, 'LowerStretching': 87.10016632080078, 'Walking': 84.76828002929688, 'Reacting': 73.91365814208984, 'Gesticuling': 65.54000854492188, 'Patting': 85.78089904785156, 'Gaming': 71.86902618408203, 'Greeting': 67.83198547363281, 'Talking': 62.08159255981445}, 'UpperBody': {'All': 64.34102630615234, 'UpperStretching': 71.16570281982422, 'LowerStretching': 51.98866271972656, 'Walking': 57.01051330566406, 'Reacting': 58.574668884277344, 'Gesticuling': 55.302696228027344, 'Patting': 59.411102294921875, 'Gaming': 55.899261474609375, 'Greeting': 52.91354751586914, 'Talking': 49.06085205078125}, 'LowerBody': {'All': 114.6863021850586, 'UpperStretching': 118.16085052490234, 'LowerStretching': 122.21166229248047, 'Walking': 112.52605438232422, 'Reacting': 89.25263977050781, 'Gesticuling': 75.7773208618164, 'Patting': 112.15071105957031, 'Gaming': 87.83879089355469, 'Greeting': 82.75042724609375, 'Talking': 75.10233306884766}}\n"
     ]
    },
    {
     "name": "stderr",
     "output_type": "stream",
     "text": [
      " 78%|███████▊  | 4201/5352 [10:30<02:59,  6.42it/s]"
     ]
    },
    {
     "name": "stdout",
     "output_type": "stream",
     "text": [
      "{'FullBody': {'All': 89.55982971191406, 'UpperStretching': 94.68803405761719, 'LowerStretching': 87.26721954345703, 'Walking': 84.79279327392578, 'Reacting': 74.0046157836914, 'Gesticuling': 65.59339904785156, 'Patting': 85.28365325927734, 'Gaming': 71.99756622314453, 'Greeting': 67.70677185058594, 'Talking': 62.13467788696289}, 'UpperBody': {'All': 64.3941650390625, 'UpperStretching': 71.19669342041016, 'LowerStretching': 52.129940032958984, 'Walking': 57.04693603515625, 'Reacting': 58.69669723510742, 'Gesticuling': 55.30964660644531, 'Patting': 59.225013732910156, 'Gaming': 55.86391830444336, 'Greeting': 52.8739013671875, 'Talking': 49.04976272583008}, 'LowerBody': {'All': 114.7254867553711, 'UpperStretching': 118.17937469482422, 'LowerStretching': 122.40447998046875, 'Walking': 112.53864288330078, 'Reacting': 89.31253051757812, 'Gesticuling': 75.87716674804688, 'Patting': 111.34229278564453, 'Gaming': 88.13121795654297, 'Greeting': 82.53963470458984, 'Talking': 75.2195816040039}}\n"
     ]
    },
    {
     "name": "stderr",
     "output_type": "stream",
     "text": [
      " 82%|████████▏ | 4401/5352 [11:00<02:25,  6.54it/s]"
     ]
    },
    {
     "name": "stdout",
     "output_type": "stream",
     "text": [
      "{'FullBody': {'All': 89.51554870605469, 'UpperStretching': 94.62850952148438, 'LowerStretching': 87.20807647705078, 'Walking': 84.71582794189453, 'Reacting': 73.89490509033203, 'Gesticuling': 65.49238586425781, 'Patting': 85.17431640625, 'Gaming': 72.2052230834961, 'Greeting': 67.9004898071289, 'Talking': 62.47955322265625}, 'UpperBody': {'All': 64.38786315917969, 'UpperStretching': 71.18854522705078, 'LowerStretching': 52.1259880065918, 'Walking': 56.9781494140625, 'Reacting': 58.65019989013672, 'Gesticuling': 55.12349319458008, 'Patting': 59.17512130737305, 'Gaming': 55.893104553222656, 'Greeting': 52.99275207519531, 'Talking': 49.3565673828125}, 'LowerBody': {'All': 114.64323425292969, 'UpperStretching': 118.06848907470703, 'LowerStretching': 122.29016876220703, 'Walking': 112.45349884033203, 'Reacting': 89.13961791992188, 'Gesticuling': 75.86128234863281, 'Patting': 111.17351531982422, 'Gaming': 88.51734161376953, 'Greeting': 82.80823516845703, 'Talking': 75.60254669189453}}\n"
     ]
    },
    {
     "name": "stderr",
     "output_type": "stream",
     "text": [
      " 86%|████████▌ | 4601/5352 [11:30<02:15,  5.53it/s]"
     ]
    },
    {
     "name": "stdout",
     "output_type": "stream",
     "text": [
      "{'FullBody': {'All': 89.50082397460938, 'UpperStretching': 94.58235931396484, 'LowerStretching': 87.25044250488281, 'Walking': 84.80265045166016, 'Reacting': 73.87759399414062, 'Gesticuling': 65.6819076538086, 'Patting': 84.76043701171875, 'Gaming': 72.19522857666016, 'Greeting': 67.71817016601562, 'Talking': 62.314022064208984}, 'UpperBody': {'All': 64.3727035522461, 'UpperStretching': 71.16191101074219, 'LowerStretching': 52.12636947631836, 'Walking': 57.010154724121094, 'Reacting': 58.604515075683594, 'Gesticuling': 55.303592681884766, 'Patting': 58.89371109008789, 'Gaming': 55.863609313964844, 'Greeting': 52.94587326049805, 'Talking': 49.227359771728516}, 'LowerBody': {'All': 114.62893676757812, 'UpperStretching': 118.00282287597656, 'LowerStretching': 122.37450408935547, 'Walking': 112.59514617919922, 'Reacting': 89.15068817138672, 'Gesticuling': 76.06022644042969, 'Patting': 110.62716674804688, 'Gaming': 88.52684783935547, 'Greeting': 82.49047088623047, 'Talking': 75.40068054199219}}\n"
     ]
    },
    {
     "name": "stderr",
     "output_type": "stream",
     "text": [
      " 90%|████████▉ | 4801/5352 [12:00<01:26,  6.35it/s]"
     ]
    },
    {
     "name": "stdout",
     "output_type": "stream",
     "text": [
      "{'FullBody': {'All': 89.43624877929688, 'UpperStretching': 94.4724349975586, 'LowerStretching': 87.24579620361328, 'Walking': 84.87386322021484, 'Reacting': 73.74420928955078, 'Gesticuling': 65.88860321044922, 'Patting': 84.67527770996094, 'Gaming': 72.18218994140625, 'Greeting': 67.60548400878906, 'Talking': 62.28769302368164}, 'UpperBody': {'All': 64.32288360595703, 'UpperStretching': 71.0869140625, 'LowerStretching': 52.11117172241211, 'Walking': 57.038455963134766, 'Reacting': 58.4804573059082, 'Gesticuling': 55.56878662109375, 'Patting': 58.69988250732422, 'Gaming': 55.90180969238281, 'Greeting': 52.746734619140625, 'Talking': 49.19469451904297}, 'LowerBody': {'All': 114.54960632324219, 'UpperStretching': 117.85796356201172, 'LowerStretching': 122.38043212890625, 'Walking': 112.70925903320312, 'Reacting': 89.00796508789062, 'Gesticuling': 76.20841979980469, 'Patting': 110.6506576538086, 'Gaming': 88.46257781982422, 'Greeting': 82.46424102783203, 'Talking': 75.38069915771484}}\n"
     ]
    },
    {
     "name": "stderr",
     "output_type": "stream",
     "text": [
      " 93%|█████████▎| 5001/5352 [12:30<00:54,  6.43it/s]"
     ]
    },
    {
     "name": "stdout",
     "output_type": "stream",
     "text": [
      "{'FullBody': {'All': 89.46658325195312, 'UpperStretching': 94.53376770019531, 'LowerStretching': 87.16838836669922, 'Walking': 84.77839660644531, 'Reacting': 73.65599060058594, 'Gesticuling': 66.02865600585938, 'Patting': 85.09419250488281, 'Gaming': 72.01104736328125, 'Greeting': 67.69659423828125, 'Talking': 62.3945198059082}, 'UpperBody': {'All': 64.35389709472656, 'UpperStretching': 71.13248443603516, 'LowerStretching': 52.08913803100586, 'Walking': 56.97431182861328, 'Reacting': 58.48625564575195, 'Gesticuling': 55.57191467285156, 'Patting': 58.80194854736328, 'Gaming': 55.768367767333984, 'Greeting': 52.78322219848633, 'Talking': 49.24074935913086}, 'LowerBody': {'All': 114.5792465209961, 'UpperStretching': 117.93505096435547, 'LowerStretching': 122.24763488769531, 'Walking': 112.58247375488281, 'Reacting': 88.82573699951172, 'Gesticuling': 76.48538208007812, 'Patting': 111.38642883300781, 'Gaming': 88.25371551513672, 'Greeting': 82.6099624633789, 'Talking': 75.54829406738281}}\n"
     ]
    },
    {
     "name": "stderr",
     "output_type": "stream",
     "text": [
      " 97%|█████████▋| 5201/5352 [13:00<00:27,  5.45it/s]"
     ]
    },
    {
     "name": "stdout",
     "output_type": "stream",
     "text": [
      "{'FullBody': {'All': 89.45357513427734, 'UpperStretching': 94.5216064453125, 'LowerStretching': 87.25494384765625, 'Walking': 84.77531433105469, 'Reacting': 73.66693115234375, 'Gesticuling': 66.07303619384766, 'Patting': 84.71227264404297, 'Gaming': 72.04972076416016, 'Greeting': 67.4433364868164, 'Talking': 62.34891128540039}, 'UpperBody': {'All': 64.34138488769531, 'UpperStretching': 71.12923431396484, 'LowerStretching': 52.13709259033203, 'Walking': 56.965091705322266, 'Reacting': 58.508949279785156, 'Gesticuling': 55.5899772644043, 'Patting': 58.493927001953125, 'Gaming': 55.76611328125, 'Greeting': 52.64459228515625, 'Talking': 49.18473815917969}, 'LowerBody': {'All': 114.56574249267578, 'UpperStretching': 117.91398620605469, 'LowerStretching': 122.37279510498047, 'Walking': 112.58554077148438, 'Reacting': 88.82490539550781, 'Gesticuling': 76.55609130859375, 'Patting': 110.93061065673828, 'Gaming': 88.33334350585938, 'Greeting': 82.24209594726562, 'Talking': 75.5130844116211}}\n"
     ]
    },
    {
     "name": "stderr",
     "output_type": "stream",
     "text": [
      "100%|██████████| 5352/5352 [13:23<00:00,  6.66it/s]\n",
      "\u001b[94m19:13:21 \u001b[92m[INFO]\u001b[94m Main\u001b[0m: Saving evaluation results...\n",
      "\u001b[94m19:13:21 \u001b[92m[INFO]\u001b[94m Main\u001b[0m: Done.\n",
      "\u001b[94m19:13:21 \u001b[92m[INFO]\u001b[94m Main\u001b[0m: Starting demo...\n",
      "  0%|          | 0/5352 [00:00<?, ?it/s]/opt/conda/lib/python3.10/site-packages/torchvision/transforms/transforms.py:329: UserWarning: Argument 'interpolation' of type int is deprecated since 0.13 and will be removed in 0.15. Please use InterpolationMode enum.\n",
      "  warnings.warn(\n",
      "/opt/conda/lib/python3.10/site-packages/torchvision/transforms/transforms.py:329: UserWarning: Argument 'interpolation' of type int is deprecated since 0.13 and will be removed in 0.15. Please use InterpolationMode enum.\n",
      "  warnings.warn(\n",
      "/opt/conda/lib/python3.10/site-packages/torchvision/transforms/transforms.py:329: UserWarning: Argument 'interpolation' of type int is deprecated since 0.13 and will be removed in 0.15. Please use InterpolationMode enum.\n",
      "  warnings.warn(\n",
      "/opt/conda/lib/python3.10/site-packages/torchvision/transforms/transforms.py:329: UserWarning: Argument 'interpolation' of type int is deprecated since 0.13 and will be removed in 0.15. Please use InterpolationMode enum.\n",
      "  warnings.warn(\n",
      "/opt/conda/lib/python3.10/site-packages/torchvision/transforms/transforms.py:329: UserWarning: Argument 'interpolation' of type int is deprecated since 0.13 and will be removed in 0.15. Please use InterpolationMode enum.\n",
      "  warnings.warn(\n",
      "/opt/conda/lib/python3.10/site-packages/torchvision/transforms/transforms.py:329: UserWarning: Argument 'interpolation' of type int is deprecated since 0.13 and will be removed in 0.15. Please use InterpolationMode enum.\n",
      "  warnings.warn(\n",
      "/opt/conda/lib/python3.10/site-packages/torchvision/transforms/transforms.py:329: UserWarning: Argument 'interpolation' of type int is deprecated since 0.13 and will be removed in 0.15. Please use InterpolationMode enum.\n",
      "  warnings.warn(\n",
      "/opt/conda/lib/python3.10/site-packages/torchvision/transforms/transforms.py:329: UserWarning: Argument 'interpolation' of type int is deprecated since 0.13 and will be removed in 0.15. Please use InterpolationMode enum.\n",
      "  warnings.warn(\n",
      "/opt/conda/lib/python3.10/site-packages/torchvision/transforms/transforms.py:329: UserWarning: Argument 'interpolation' of type int is deprecated since 0.13 and will be removed in 0.15. Please use InterpolationMode enum.\n",
      "  warnings.warn(\n",
      "/opt/conda/lib/python3.10/site-packages/torchvision/transforms/transforms.py:329: UserWarning: Argument 'interpolation' of type int is deprecated since 0.13 and will be removed in 0.15. Please use InterpolationMode enum.\n",
      "  warnings.warn(\n",
      "/opt/conda/lib/python3.10/site-packages/torchvision/transforms/transforms.py:329: UserWarning: Argument 'interpolation' of type int is deprecated since 0.13 and will be removed in 0.15. Please use InterpolationMode enum.\n",
      "  warnings.warn(\n",
      "/opt/conda/lib/python3.10/site-packages/torchvision/transforms/transforms.py:329: UserWarning: Argument 'interpolation' of type int is deprecated since 0.13 and will be removed in 0.15. Please use InterpolationMode enum.\n",
      "  warnings.warn(\n",
      "/opt/conda/lib/python3.10/site-packages/torchvision/transforms/transforms.py:329: UserWarning: Argument 'interpolation' of type int is deprecated since 0.13 and will be removed in 0.15. Please use InterpolationMode enum.\n",
      "  warnings.warn(\n",
      "/opt/conda/lib/python3.10/site-packages/torchvision/transforms/transforms.py:329: UserWarning: Argument 'interpolation' of type int is deprecated since 0.13 and will be removed in 0.15. Please use InterpolationMode enum.\n",
      "  warnings.warn(\n",
      "/opt/conda/lib/python3.10/site-packages/torchvision/transforms/transforms.py:329: UserWarning: Argument 'interpolation' of type int is deprecated since 0.13 and will be removed in 0.15. Please use InterpolationMode enum.\n",
      "  warnings.warn(\n",
      "/opt/conda/lib/python3.10/site-packages/torchvision/transforms/transforms.py:329: UserWarning: Argument 'interpolation' of type int is deprecated since 0.13 and will be removed in 0.15. Please use InterpolationMode enum.\n",
      "  warnings.warn(\n",
      "/opt/conda/lib/python3.10/site-packages/torchvision/transforms/transforms.py:329: UserWarning: Argument 'interpolation' of type int is deprecated since 0.13 and will be removed in 0.15. Please use InterpolationMode enum.\n",
      "  warnings.warn(\n",
      "/opt/conda/lib/python3.10/site-packages/torchvision/transforms/transforms.py:329: UserWarning: Argument 'interpolation' of type int is deprecated since 0.13 and will be removed in 0.15. Please use InterpolationMode enum.\n",
      "  warnings.warn(\n",
      "/opt/conda/lib/python3.10/site-packages/torchvision/transforms/transforms.py:329: UserWarning: Argument 'interpolation' of type int is deprecated since 0.13 and will be removed in 0.15. Please use InterpolationMode enum.\n",
      "  warnings.warn(\n",
      "/opt/conda/lib/python3.10/site-packages/torchvision/transforms/transforms.py:329: UserWarning: Argument 'interpolation' of type int is deprecated since 0.13 and will be removed in 0.15. Please use InterpolationMode enum.\n",
      "  warnings.warn(\n",
      "/opt/conda/lib/python3.10/site-packages/torchvision/transforms/transforms.py:329: UserWarning: Argument 'interpolation' of type int is deprecated since 0.13 and will be removed in 0.15. Please use InterpolationMode enum.\n",
      "  warnings.warn(\n",
      "/opt/conda/lib/python3.10/site-packages/torchvision/transforms/transforms.py:329: UserWarning: Argument 'interpolation' of type int is deprecated since 0.13 and will be removed in 0.15. Please use InterpolationMode enum.\n",
      "  warnings.warn(\n",
      "/opt/conda/lib/python3.10/site-packages/torchvision/transforms/transforms.py:329: UserWarning: Argument 'interpolation' of type int is deprecated since 0.13 and will be removed in 0.15. Please use InterpolationMode enum.\n",
      "  warnings.warn(\n",
      "/opt/conda/lib/python3.10/site-packages/torchvision/transforms/transforms.py:329: UserWarning: Argument 'interpolation' of type int is deprecated since 0.13 and will be removed in 0.15. Please use InterpolationMode enum.\n",
      "  warnings.warn(\n",
      "  4%|▍         | 201/5352 [00:35<12:45,  6.73it/s]"
     ]
    },
    {
     "name": "stdout",
     "output_type": "stream",
     "text": [
      "{'FullBody': {'All': 80.82062530517578, 'LowerStretching': 75.17195129394531, 'UpperStretching': 86.06640625, 'Walking': 80.97401428222656, 'Reacting': 63.130455017089844, 'Gesticuling': 56.52229690551758, 'Patting': 79.13530731201172, 'Gaming': 66.89926147460938, 'Talking': 51.231998443603516, 'Greeting': 50.533973693847656}, 'UpperBody': {'All': 59.7517204284668, 'LowerStretching': 46.79871368408203, 'UpperStretching': 66.5156478881836, 'Walking': 55.19618225097656, 'Reacting': 54.530208587646484, 'Gesticuling': 45.974464416503906, 'Patting': 54.55170440673828, 'Gaming': 55.538360595703125, 'Talking': 40.1520881652832, 'Greeting': 41.30899429321289}, 'LowerBody': {'All': 101.88951873779297, 'LowerStretching': 103.5451889038086, 'UpperStretching': 105.6171646118164, 'Walking': 106.75186157226562, 'Reacting': 71.730712890625, 'Gesticuling': 67.07015991210938, 'Patting': 103.71891021728516, 'Gaming': 78.26016235351562, 'Talking': 62.311885833740234, 'Greeting': 59.75895309448242}}\n"
     ]
    },
    {
     "name": "stderr",
     "output_type": "stream",
     "text": [
      "  7%|▋         | 401/5352 [01:05<11:46,  7.01it/s]"
     ]
    },
    {
     "name": "stdout",
     "output_type": "stream",
     "text": [
      "{'FullBody': {'All': 80.6324691772461, 'LowerStretching': 76.62345886230469, 'UpperStretching': 85.4926986694336, 'Walking': 81.06304931640625, 'Reacting': 64.63353729248047, 'Gesticuling': 55.98982620239258, 'Patting': 75.52659606933594, 'Gaming': 64.40023040771484, 'Talking': 52.370845794677734, 'Greeting': 48.22787094116211}, 'UpperBody': {'All': 59.74013137817383, 'LowerStretching': 48.173091888427734, 'UpperStretching': 65.96552276611328, 'Walking': 55.847312927246094, 'Reacting': 58.131778717041016, 'Gesticuling': 46.39800262451172, 'Patting': 51.57170867919922, 'Gaming': 51.16075897216797, 'Talking': 40.507320404052734, 'Greeting': 37.164756774902344}, 'LowerBody': {'All': 101.5248031616211, 'LowerStretching': 105.07382202148438, 'UpperStretching': 105.0198974609375, 'Walking': 106.27877807617188, 'Reacting': 71.13529205322266, 'Gesticuling': 65.5816421508789, 'Patting': 99.48145294189453, 'Gaming': 77.63970184326172, 'Talking': 64.234375, 'Greeting': 59.29099655151367}}\n"
     ]
    },
    {
     "name": "stderr",
     "output_type": "stream",
     "text": [
      " 11%|█         | 601/5352 [01:35<11:14,  7.04it/s]"
     ]
    },
    {
     "name": "stdout",
     "output_type": "stream",
     "text": [
      "{'FullBody': {'All': 80.81779479980469, 'LowerStretching': 75.35970306396484, 'UpperStretching': 86.07662963867188, 'Walking': 80.57278442382812, 'Reacting': 64.7869873046875, 'Gesticuling': 55.45466995239258, 'Patting': 79.63988494873047, 'Gaming': 65.02281188964844, 'Talking': 52.0311164855957, 'Greeting': 49.61920928955078}, 'UpperBody': {'All': 59.55524826049805, 'LowerStretching': 47.35975646972656, 'UpperStretching': 65.95650482177734, 'Walking': 55.158164978027344, 'Reacting': 58.095306396484375, 'Gesticuling': 45.878604888916016, 'Patting': 51.83969497680664, 'Gaming': 52.82822036743164, 'Talking': 40.46442794799805, 'Greeting': 38.90924072265625}, 'LowerBody': {'All': 102.0803451538086, 'LowerStretching': 103.35965728759766, 'UpperStretching': 106.1967544555664, 'Walking': 105.98739624023438, 'Reacting': 71.47866821289062, 'Gesticuling': 65.0307388305664, 'Patting': 107.44007873535156, 'Gaming': 77.21739959716797, 'Talking': 63.597801208496094, 'Greeting': 60.32918167114258}}\n"
     ]
    },
    {
     "name": "stderr",
     "output_type": "stream",
     "text": [
      " 15%|█▍        | 801/5352 [02:04<11:09,  6.80it/s]"
     ]
    },
    {
     "name": "stdout",
     "output_type": "stream",
     "text": [
      "{'FullBody': {'All': 80.79698181152344, 'LowerStretching': 75.86737060546875, 'UpperStretching': 85.8318862915039, 'Walking': 80.30220031738281, 'Reacting': 64.65515899658203, 'Gesticuling': 55.52989196777344, 'Patting': 82.00418090820312, 'Gaming': 65.23933410644531, 'Talking': 52.2748908996582, 'Greeting': 48.18251037597656}, 'UpperBody': {'All': 59.4741325378418, 'LowerStretching': 47.60426330566406, 'UpperStretching': 65.63818359375, 'Walking': 55.247047424316406, 'Reacting': 57.757869720458984, 'Gesticuling': 45.800376892089844, 'Patting': 54.66564178466797, 'Gaming': 53.30423355102539, 'Talking': 40.77326202392578, 'Greeting': 37.231754302978516}, 'LowerBody': {'All': 102.11984252929688, 'LowerStretching': 104.1304702758789, 'UpperStretching': 106.02559661865234, 'Walking': 105.35736083984375, 'Reacting': 71.55245208740234, 'Gesticuling': 65.2593994140625, 'Patting': 109.34271240234375, 'Gaming': 77.1744384765625, 'Talking': 63.776519775390625, 'Greeting': 59.133262634277344}}\n"
     ]
    },
    {
     "name": "stderr",
     "output_type": "stream",
     "text": [
      " 19%|█▊        | 1001/5352 [02:34<10:24,  6.97it/s]"
     ]
    },
    {
     "name": "stdout",
     "output_type": "stream",
     "text": [
      "{'FullBody': {'All': 80.78724670410156, 'LowerStretching': 76.0902099609375, 'UpperStretching': 85.6875228881836, 'Walking': 80.28604888916016, 'Reacting': 64.53988647460938, 'Gesticuling': 55.77857971191406, 'Patting': 82.75460052490234, 'Gaming': 65.25616455078125, 'Talking': 52.13115310668945, 'Greeting': 47.68003463745117}, 'UpperBody': {'All': 59.33202362060547, 'LowerStretching': 47.628299713134766, 'UpperStretching': 65.42241668701172, 'Walking': 54.9150390625, 'Reacting': 57.514564514160156, 'Gesticuling': 46.099544525146484, 'Patting': 55.301204681396484, 'Gaming': 52.72658157348633, 'Talking': 40.76833724975586, 'Greeting': 36.853729248046875}, 'LowerBody': {'All': 102.24247741699219, 'LowerStretching': 104.55213165283203, 'UpperStretching': 105.95262908935547, 'Walking': 105.65706634521484, 'Reacting': 71.56521606445312, 'Gesticuling': 65.4576187133789, 'Patting': 110.2080078125, 'Gaming': 77.78572845458984, 'Talking': 63.49397277832031, 'Greeting': 58.50634765625}}\n"
     ]
    },
    {
     "name": "stderr",
     "output_type": "stream",
     "text": [
      " 22%|██▏       | 1201/5352 [03:03<09:56,  6.96it/s]"
     ]
    },
    {
     "name": "stdout",
     "output_type": "stream",
     "text": [
      "{'FullBody': {'All': 80.69369506835938, 'LowerStretching': 76.30331420898438, 'UpperStretching': 85.60033416748047, 'Walking': 79.9322509765625, 'Reacting': 63.966758728027344, 'Gesticuling': 55.476722717285156, 'Patting': 84.05486297607422, 'Gaming': 65.3265609741211, 'Talking': 53.12370681762695, 'Greeting': 47.456024169921875}, 'UpperBody': {'All': 59.23515701293945, 'LowerStretching': 47.57742691040039, 'UpperStretching': 65.34391021728516, 'Walking': 54.62968444824219, 'Reacting': 57.094364166259766, 'Gesticuling': 46.01682662963867, 'Patting': 56.877647399902344, 'Gaming': 52.59185791015625, 'Talking': 41.34260559082031, 'Greeting': 36.639801025390625}, 'LowerBody': {'All': 102.1522445678711, 'LowerStretching': 105.02920532226562, 'UpperStretching': 105.85675048828125, 'Walking': 105.23481750488281, 'Reacting': 70.83914947509766, 'Gesticuling': 64.9366226196289, 'Patting': 111.23207092285156, 'Gaming': 78.061279296875, 'Talking': 64.9048080444336, 'Greeting': 58.272247314453125}}\n"
     ]
    },
    {
     "name": "stderr",
     "output_type": "stream",
     "text": [
      " 26%|██▌       | 1401/5352 [03:33<09:45,  6.74it/s]"
     ]
    },
    {
     "name": "stdout",
     "output_type": "stream",
     "text": [
      "{'FullBody': {'All': 80.7266845703125, 'LowerStretching': 76.2642822265625, 'UpperStretching': 85.5660400390625, 'Walking': 80.14132690429688, 'Reacting': 64.04464721679688, 'Gesticuling': 55.77056884765625, 'Patting': 84.3154296875, 'Gaming': 65.70207977294922, 'Talking': 52.421043395996094, 'Greeting': 47.61393356323242}, 'UpperBody': {'All': 59.181373596191406, 'LowerStretching': 47.55213928222656, 'UpperStretching': 65.23452758789062, 'Walking': 54.512962341308594, 'Reacting': 57.32706069946289, 'Gesticuling': 46.28982925415039, 'Patting': 56.87678909301758, 'Gaming': 52.826698303222656, 'Talking': 40.92969512939453, 'Greeting': 36.94398880004883}, 'LowerBody': {'All': 102.2719955444336, 'LowerStretching': 104.97642517089844, 'UpperStretching': 105.8975601196289, 'Walking': 105.76969146728516, 'Reacting': 70.7622299194336, 'Gesticuling': 65.25131225585938, 'Patting': 111.75405883789062, 'Gaming': 78.57746887207031, 'Talking': 63.912384033203125, 'Greeting': 58.283870697021484}}\n"
     ]
    },
    {
     "name": "stderr",
     "output_type": "stream",
     "text": [
      " 30%|██▉       | 1601/5352 [04:03<09:01,  6.93it/s]"
     ]
    },
    {
     "name": "stdout",
     "output_type": "stream",
     "text": [
      "{'FullBody': {'All': 80.65015411376953, 'LowerStretching': 76.17486572265625, 'UpperStretching': 85.5332260131836, 'Walking': 80.18961334228516, 'Reacting': 64.66458892822266, 'Gesticuling': 55.5753173828125, 'Patting': 82.57987976074219, 'Gaming': 64.9367446899414, 'Talking': 52.272804260253906, 'Greeting': 47.27277374267578}, 'UpperBody': {'All': 59.08525466918945, 'LowerStretching': 47.50593185424805, 'UpperStretching': 65.12605285644531, 'Walking': 54.5273551940918, 'Reacting': 57.9819221496582, 'Gesticuling': 46.1846923828125, 'Patting': 55.29094696044922, 'Gaming': 52.64408874511719, 'Talking': 40.7508659362793, 'Greeting': 36.870357513427734}, 'LowerBody': {'All': 102.21504974365234, 'LowerStretching': 104.84380340576172, 'UpperStretching': 105.94041442871094, 'Walking': 105.85185241699219, 'Reacting': 71.34725189208984, 'Gesticuling': 64.96593475341797, 'Patting': 109.86882781982422, 'Gaming': 77.22940063476562, 'Talking': 63.79474639892578, 'Greeting': 57.67518615722656}}\n"
     ]
    },
    {
     "name": "stderr",
     "output_type": "stream",
     "text": [
      " 34%|███▎      | 1800/5352 [04:32<08:37,  6.86it/s]"
     ]
    },
    {
     "name": "stdout",
     "output_type": "stream",
     "text": [
      "{'FullBody': {'All': 80.7230224609375, 'LowerStretching': 76.29261016845703, 'UpperStretching': 85.61866760253906, 'Walking': 80.31063842773438, 'Reacting': 64.31962585449219, 'Gesticuling': 55.37765121459961, 'Patting': 82.60576629638672, 'Gaming': 65.23900604248047, 'Talking': 52.22111511230469, 'Greeting': 47.406097412109375}, 'UpperBody': {'All': 59.056251525878906, 'LowerStretching': 47.5175666809082, 'UpperStretching': 65.0787124633789, 'Walking': 54.668033599853516, 'Reacting': 57.29480743408203, 'Gesticuling': 45.93086624145508, 'Patting': 55.20261001586914, 'Gaming': 52.9569091796875, 'Talking': 40.84844970703125, 'Greeting': 37.125526428222656}, 'LowerBody': {'All': 102.3897933959961, 'LowerStretching': 105.0676498413086, 'UpperStretching': 106.15861511230469, 'Walking': 105.95326232910156, 'Reacting': 71.34444427490234, 'Gesticuling': 64.82443237304688, 'Patting': 110.00891876220703, 'Gaming': 77.5210952758789, 'Talking': 63.59378433227539, 'Greeting': 57.686668395996094}}\n"
     ]
    },
    {
     "name": "stderr",
     "output_type": "stream",
     "text": [
      " 37%|███▋      | 2001/5352 [05:02<08:39,  6.45it/s]"
     ]
    },
    {
     "name": "stdout",
     "output_type": "stream",
     "text": [
      "{'FullBody': {'All': 80.74632263183594, 'LowerStretching': 76.31123352050781, 'UpperStretching': 85.66012573242188, 'Walking': 80.42695617675781, 'Reacting': 64.08016967773438, 'Gesticuling': 55.198402404785156, 'Patting': 81.94700622558594, 'Gaming': 65.16899108886719, 'Talking': 52.06328582763672, 'Greeting': 47.15367126464844}, 'UpperBody': {'All': 59.07720184326172, 'LowerStretching': 47.443233489990234, 'UpperStretching': 65.17152404785156, 'Walking': 54.68327713012695, 'Reacting': 56.973201751708984, 'Gesticuling': 45.59987258911133, 'Patting': 54.497371673583984, 'Gaming': 53.36882019042969, 'Talking': 40.86140441894531, 'Greeting': 36.99065399169922}, 'LowerBody': {'All': 102.41545104980469, 'LowerStretching': 105.17924499511719, 'UpperStretching': 106.14871978759766, 'Walking': 106.17061614990234, 'Reacting': 71.1871337890625, 'Gesticuling': 64.79692840576172, 'Patting': 109.39665222167969, 'Gaming': 76.96916961669922, 'Talking': 63.265159606933594, 'Greeting': 57.31669235229492}}\n"
     ]
    },
    {
     "name": "stderr",
     "output_type": "stream",
     "text": [
      " 41%|████      | 2201/5352 [05:31<07:45,  6.77it/s]"
     ]
    },
    {
     "name": "stdout",
     "output_type": "stream",
     "text": [
      "{'FullBody': {'All': 80.71427917480469, 'LowerStretching': 76.37167358398438, 'UpperStretching': 85.5465087890625, 'Walking': 80.72063446044922, 'Reacting': 64.22469329833984, 'Gesticuling': 55.27004623413086, 'Patting': 80.86982727050781, 'Gaming': 65.15670776367188, 'Talking': 51.94268035888672, 'Greeting': 47.49077224731445}, 'UpperBody': {'All': 59.09010696411133, 'LowerStretching': 47.4756965637207, 'UpperStretching': 65.17069244384766, 'Walking': 54.80937194824219, 'Reacting': 56.83659744262695, 'Gesticuling': 45.6396484375, 'Patting': 53.90571594238281, 'Gaming': 53.55516052246094, 'Talking': 40.8249397277832, 'Greeting': 37.28201675415039}, 'LowerBody': {'All': 102.3384780883789, 'LowerStretching': 105.26764678955078, 'UpperStretching': 105.92232513427734, 'Walking': 106.63190460205078, 'Reacting': 71.61278533935547, 'Gesticuling': 64.90044403076172, 'Patting': 107.83395385742188, 'Gaming': 76.75824737548828, 'Talking': 63.0604248046875, 'Greeting': 57.699527740478516}}\n"
     ]
    },
    {
     "name": "stderr",
     "output_type": "stream",
     "text": [
      " 45%|████▍     | 2401/5352 [06:01<07:23,  6.65it/s]"
     ]
    },
    {
     "name": "stdout",
     "output_type": "stream",
     "text": [
      "{'FullBody': {'All': 80.74730682373047, 'LowerStretching': 76.43628692626953, 'UpperStretching': 85.56910705566406, 'Walking': 80.81466674804688, 'Reacting': 63.980003356933594, 'Gesticuling': 55.58930969238281, 'Patting': 80.11919403076172, 'Gaming': 65.331298828125, 'Talking': 51.86073684692383, 'Greeting': 47.32869338989258}, 'UpperBody': {'All': 59.10860824584961, 'LowerStretching': 47.602840423583984, 'UpperStretching': 65.13397979736328, 'Walking': 54.95127868652344, 'Reacting': 56.379302978515625, 'Gesticuling': 45.8642463684082, 'Patting': 53.41681671142578, 'Gaming': 53.86748123168945, 'Talking': 40.71493148803711, 'Greeting': 37.10505676269531}, 'LowerBody': {'All': 102.38601684570312, 'LowerStretching': 105.26973724365234, 'UpperStretching': 106.0042495727539, 'Walking': 106.67805480957031, 'Reacting': 71.58070373535156, 'Gesticuling': 65.31437683105469, 'Patting': 106.82157135009766, 'Gaming': 76.79512023925781, 'Talking': 63.00654602050781, 'Greeting': 57.552337646484375}}\n"
     ]
    },
    {
     "name": "stderr",
     "output_type": "stream",
     "text": [
      " 49%|████▊     | 2601/5352 [06:31<06:57,  6.59it/s]"
     ]
    },
    {
     "name": "stdout",
     "output_type": "stream",
     "text": [
      "{'FullBody': {'All': 80.74942016601562, 'LowerStretching': 76.4813232421875, 'UpperStretching': 85.58860778808594, 'Walking': 80.64042663574219, 'Reacting': 64.26850128173828, 'Gesticuling': 55.69729232788086, 'Patting': 80.05282592773438, 'Gaming': 65.29945373535156, 'Talking': 51.82927703857422, 'Greeting': 47.41144943237305}, 'UpperBody': {'All': 59.06452560424805, 'LowerStretching': 47.70047378540039, 'UpperStretching': 65.07268524169922, 'Walking': 54.74654769897461, 'Reacting': 56.66667556762695, 'Gesticuling': 45.85283279418945, 'Patting': 53.47403335571289, 'Gaming': 54.09061813354492, 'Talking': 40.7077751159668, 'Greeting': 37.094573974609375}, 'LowerBody': {'All': 102.434326171875, 'LowerStretching': 105.26219940185547, 'UpperStretching': 106.10454559326172, 'Walking': 106.53430938720703, 'Reacting': 71.87033081054688, 'Gesticuling': 65.54175567626953, 'Patting': 106.6316146850586, 'Gaming': 76.50830078125, 'Talking': 62.950767517089844, 'Greeting': 57.72831726074219}}\n"
     ]
    },
    {
     "name": "stderr",
     "output_type": "stream",
     "text": [
      " 52%|█████▏    | 2801/5352 [07:01<06:20,  6.71it/s]"
     ]
    },
    {
     "name": "stdout",
     "output_type": "stream",
     "text": [
      "{'FullBody': {'All': 80.8618392944336, 'LowerStretching': 76.72440338134766, 'UpperStretching': 85.70940399169922, 'Walking': 80.73577880859375, 'Reacting': 64.27545928955078, 'Gesticuling': 55.37326431274414, 'Patting': 79.76924133300781, 'Gaming': 65.31454467773438, 'Talking': 51.74155807495117, 'Greeting': 47.408721923828125}, 'UpperBody': {'All': 59.115333557128906, 'LowerStretching': 47.90415573120117, 'UpperStretching': 65.11102294921875, 'Walking': 54.758689880371094, 'Reacting': 56.66350555419922, 'Gesticuling': 45.59367752075195, 'Patting': 53.28916931152344, 'Gaming': 54.2104377746582, 'Talking': 40.641292572021484, 'Greeting': 37.26511764526367}, 'LowerBody': {'All': 102.60836791992188, 'LowerStretching': 105.54463958740234, 'UpperStretching': 106.30778503417969, 'Walking': 106.7128677368164, 'Reacting': 71.88740539550781, 'Gesticuling': 65.15284729003906, 'Patting': 106.24931335449219, 'Gaming': 76.41864013671875, 'Talking': 62.841827392578125, 'Greeting': 57.55232620239258}}\n"
     ]
    },
    {
     "name": "stderr",
     "output_type": "stream",
     "text": [
      " 56%|█████▌    | 3001/5352 [07:30<05:45,  6.81it/s]"
     ]
    },
    {
     "name": "stdout",
     "output_type": "stream",
     "text": [
      "{'FullBody': {'All': 80.88670349121094, 'LowerStretching': 76.94680786132812, 'UpperStretching': 85.6727066040039, 'Walking': 80.78534698486328, 'Reacting': 64.65345001220703, 'Gesticuling': 55.43114471435547, 'Patting': 79.57905578613281, 'Gaming': 65.46076202392578, 'Talking': 51.6532096862793, 'Greeting': 47.33487319946289}, 'UpperBody': {'All': 59.18301010131836, 'LowerStretching': 47.95925521850586, 'UpperStretching': 65.19343566894531, 'Walking': 54.81260681152344, 'Reacting': 56.981571197509766, 'Gesticuling': 45.77067947387695, 'Patting': 52.759979248046875, 'Gaming': 54.383052825927734, 'Talking': 40.631309509277344, 'Greeting': 37.18138885498047}, 'LowerBody': {'All': 102.59041595458984, 'LowerStretching': 105.93436431884766, 'UpperStretching': 106.15196990966797, 'Walking': 106.7580795288086, 'Reacting': 72.32532501220703, 'Gesticuling': 65.09160614013672, 'Patting': 106.39812469482422, 'Gaming': 76.53845977783203, 'Talking': 62.67512130737305, 'Greeting': 57.48835754394531}}\n"
     ]
    },
    {
     "name": "stderr",
     "output_type": "stream",
     "text": [
      " 60%|█████▉    | 3201/5352 [08:00<05:36,  6.39it/s]"
     ]
    },
    {
     "name": "stdout",
     "output_type": "stream",
     "text": [
      "{'FullBody': {'All': 80.86322021484375, 'LowerStretching': 77.03221893310547, 'UpperStretching': 85.59156036376953, 'Walking': 80.80581665039062, 'Reacting': 64.65373992919922, 'Gesticuling': 55.69668197631836, 'Patting': 79.59903717041016, 'Gaming': 65.79782104492188, 'Talking': 51.65760803222656, 'Greeting': 47.231929779052734}, 'UpperBody': {'All': 59.191627502441406, 'LowerStretching': 47.97332763671875, 'UpperStretching': 65.13688659667969, 'Walking': 54.86667251586914, 'Reacting': 57.05937957763672, 'Gesticuling': 46.13417434692383, 'Patting': 53.574615478515625, 'Gaming': 54.835105895996094, 'Talking': 40.56330490112305, 'Greeting': 36.97601318359375}, 'LowerBody': {'All': 102.53482055664062, 'LowerStretching': 106.09111785888672, 'UpperStretching': 106.0462417602539, 'Walking': 106.74496459960938, 'Reacting': 72.24809265136719, 'Gesticuling': 65.25918579101562, 'Patting': 105.62345886230469, 'Gaming': 76.76052856445312, 'Talking': 62.75191879272461, 'Greeting': 57.48784637451172}}\n"
     ]
    },
    {
     "name": "stderr",
     "output_type": "stream",
     "text": [
      " 64%|██████▎   | 3401/5352 [08:30<04:53,  6.65it/s]"
     ]
    },
    {
     "name": "stdout",
     "output_type": "stream",
     "text": [
      "{'FullBody': {'All': 80.916259765625, 'LowerStretching': 77.05144500732422, 'UpperStretching': 85.65491485595703, 'Walking': 80.92427825927734, 'Reacting': 64.53067016601562, 'Gesticuling': 55.70423889160156, 'Patting': 79.84504699707031, 'Gaming': 65.9385986328125, 'Talking': 51.923301696777344, 'Greeting': 47.10630798339844}, 'UpperBody': {'All': 59.216148376464844, 'LowerStretching': 48.0186882019043, 'UpperStretching': 65.14234161376953, 'Walking': 54.93743896484375, 'Reacting': 56.8591423034668, 'Gesticuling': 46.25836181640625, 'Patting': 54.013790130615234, 'Gaming': 54.572166442871094, 'Talking': 40.79837417602539, 'Greeting': 36.872066497802734}, 'LowerBody': {'All': 102.61637878417969, 'LowerStretching': 106.08419799804688, 'UpperStretching': 106.1675033569336, 'Walking': 106.91110229492188, 'Reacting': 72.20219421386719, 'Gesticuling': 65.15010833740234, 'Patting': 105.6762924194336, 'Gaming': 77.30501556396484, 'Talking': 63.0482292175293, 'Greeting': 57.340553283691406}}\n"
     ]
    },
    {
     "name": "stderr",
     "output_type": "stream",
     "text": [
      " 67%|██████▋   | 3601/5352 [09:00<04:26,  6.58it/s]"
     ]
    },
    {
     "name": "stdout",
     "output_type": "stream",
     "text": [
      "{'FullBody': {'All': 80.97134399414062, 'LowerStretching': 77.11727905273438, 'UpperStretching': 85.75440979003906, 'Walking': 80.90515899658203, 'Reacting': 64.57146453857422, 'Gesticuling': 55.64351272583008, 'Patting': 79.62027740478516, 'Gaming': 66.08858489990234, 'Talking': 52.088775634765625, 'Greeting': 46.891944885253906}, 'UpperBody': {'All': 59.26862335205078, 'LowerStretching': 48.01766586303711, 'UpperStretching': 65.24839782714844, 'Walking': 54.93363571166992, 'Reacting': 56.957115173339844, 'Gesticuling': 46.21990966796875, 'Patting': 54.0500602722168, 'Gaming': 54.36289978027344, 'Talking': 40.74516296386719, 'Greeting': 36.66352081298828}, 'LowerBody': {'All': 102.674072265625, 'LowerStretching': 106.21688842773438, 'UpperStretching': 106.26042175292969, 'Walking': 106.87666320800781, 'Reacting': 72.1858139038086, 'Gesticuling': 65.06710815429688, 'Patting': 105.19047546386719, 'Gaming': 77.81427001953125, 'Talking': 63.43238067626953, 'Greeting': 57.12036895751953}}\n"
     ]
    },
    {
     "name": "stderr",
     "output_type": "stream",
     "text": [
      " 71%|███████   | 3801/5352 [09:30<04:06,  6.29it/s]"
     ]
    },
    {
     "name": "stdout",
     "output_type": "stream",
     "text": [
      "{'FullBody': {'All': 80.97881317138672, 'LowerStretching': 77.04804992675781, 'UpperStretching': 85.75276947021484, 'Walking': 80.98697662353516, 'Reacting': 64.42695617675781, 'Gesticuling': 55.503971099853516, 'Patting': 80.01275634765625, 'Gaming': 66.14039611816406, 'Talking': 52.18943786621094, 'Greeting': 46.81645584106445}, 'UpperBody': {'All': 59.30066680908203, 'LowerStretching': 47.98257064819336, 'UpperStretching': 65.28760528564453, 'Walking': 54.9980354309082, 'Reacting': 56.79512023925781, 'Gesticuling': 46.10344696044922, 'Patting': 54.391109466552734, 'Gaming': 54.526451110839844, 'Talking': 40.80619430541992, 'Greeting': 36.595951080322266}, 'LowerBody': {'All': 102.65697479248047, 'LowerStretching': 106.11354064941406, 'UpperStretching': 106.21793365478516, 'Walking': 106.97592163085938, 'Reacting': 72.05879211425781, 'Gesticuling': 64.90449523925781, 'Patting': 105.6343994140625, 'Gaming': 77.75433349609375, 'Talking': 63.57268524169922, 'Greeting': 57.036956787109375}}\n"
     ]
    },
    {
     "name": "stderr",
     "output_type": "stream",
     "text": [
      " 75%|███████▍  | 4001/5352 [10:00<03:24,  6.62it/s]"
     ]
    },
    {
     "name": "stdout",
     "output_type": "stream",
     "text": [
      "{'FullBody': {'All': 80.98587036132812, 'LowerStretching': 76.99871063232422, 'UpperStretching': 85.76936340332031, 'Walking': 81.12469482421875, 'Reacting': 64.32072448730469, 'Gesticuling': 55.46942138671875, 'Patting': 79.63983154296875, 'Gaming': 66.13338470458984, 'Talking': 52.132598876953125, 'Greeting': 47.014404296875}, 'UpperBody': {'All': 59.30299377441406, 'LowerStretching': 47.90986251831055, 'UpperStretching': 65.29352569580078, 'Walking': 55.18772888183594, 'Reacting': 56.59456253051758, 'Gesticuling': 46.09592056274414, 'Patting': 54.080177307128906, 'Gaming': 54.52800750732422, 'Talking': 40.789649963378906, 'Greeting': 36.677146911621094}, 'LowerBody': {'All': 102.66874694824219, 'LowerStretching': 106.08756256103516, 'UpperStretching': 106.24520111083984, 'Walking': 107.0616683959961, 'Reacting': 72.04688262939453, 'Gesticuling': 64.84292602539062, 'Patting': 105.19947052001953, 'Gaming': 77.73876953125, 'Talking': 63.47554016113281, 'Greeting': 57.351661682128906}}\n"
     ]
    },
    {
     "name": "stderr",
     "output_type": "stream",
     "text": [
      " 78%|███████▊  | 4201/5352 [10:30<02:56,  6.52it/s]"
     ]
    },
    {
     "name": "stdout",
     "output_type": "stream",
     "text": [
      "{'FullBody': {'All': 80.96269989013672, 'LowerStretching': 77.00425720214844, 'UpperStretching': 85.76936340332031, 'Walking': 81.09190368652344, 'Reacting': 64.07198333740234, 'Gesticuling': 55.564205169677734, 'Patting': 79.77185821533203, 'Gaming': 66.20782470703125, 'Talking': 52.02897262573242, 'Greeting': 46.95082473754883}, 'UpperBody': {'All': 59.305145263671875, 'LowerStretching': 47.887874603271484, 'UpperStretching': 65.34078216552734, 'Walking': 55.150535583496094, 'Reacting': 56.36955642700195, 'Gesticuling': 46.09019470214844, 'Patting': 54.097530364990234, 'Gaming': 54.6786003112793, 'Talking': 40.75875473022461, 'Greeting': 36.53269577026367}, 'LowerBody': {'All': 102.62026977539062, 'LowerStretching': 106.1206283569336, 'UpperStretching': 106.19794464111328, 'Walking': 107.03327178955078, 'Reacting': 71.77439880371094, 'Gesticuling': 65.0382080078125, 'Patting': 105.4461898803711, 'Gaming': 77.73705291748047, 'Talking': 63.299190521240234, 'Greeting': 57.36894989013672}}\n"
     ]
    },
    {
     "name": "stderr",
     "output_type": "stream",
     "text": [
      " 82%|████████▏ | 4401/5352 [11:00<02:40,  5.93it/s]"
     ]
    },
    {
     "name": "stdout",
     "output_type": "stream",
     "text": [
      "{'FullBody': {'All': 80.9782485961914, 'LowerStretching': 77.08621978759766, 'UpperStretching': 85.76396179199219, 'Walking': 81.20391845703125, 'Reacting': 64.03095245361328, 'Gesticuling': 55.368507385253906, 'Patting': 79.43606567382812, 'Gaming': 66.10460662841797, 'Talking': 51.832820892333984, 'Greeting': 46.902626037597656}, 'UpperBody': {'All': 59.30332946777344, 'LowerStretching': 47.924930572509766, 'UpperStretching': 65.325927734375, 'Walking': 55.210819244384766, 'Reacting': 56.41250991821289, 'Gesticuling': 45.893009185791016, 'Patting': 53.882259368896484, 'Gaming': 54.614662170410156, 'Talking': 40.57262420654297, 'Greeting': 36.44633102416992}, 'LowerBody': {'All': 102.65316772460938, 'LowerStretching': 106.24750518798828, 'UpperStretching': 106.20201110839844, 'Walking': 107.19702911376953, 'Reacting': 71.64938354492188, 'Gesticuling': 64.84400939941406, 'Patting': 104.98988342285156, 'Gaming': 77.59453582763672, 'Talking': 63.09300994873047, 'Greeting': 57.35892105102539}}\n"
     ]
    },
    {
     "name": "stderr",
     "output_type": "stream",
     "text": [
      " 86%|████████▌ | 4601/5352 [11:30<01:55,  6.50it/s]"
     ]
    },
    {
     "name": "stdout",
     "output_type": "stream",
     "text": [
      "{'FullBody': {'All': 81.02278137207031, 'LowerStretching': 77.20284271240234, 'UpperStretching': 85.77747344970703, 'Walking': 81.22700500488281, 'Reacting': 64.15037536621094, 'Gesticuling': 55.52956008911133, 'Patting': 79.58399200439453, 'Gaming': 66.08855438232422, 'Talking': 51.76104736328125, 'Greeting': 46.90798568725586}, 'UpperBody': {'All': 59.32575988769531, 'LowerStretching': 47.9472541809082, 'UpperStretching': 65.33716583251953, 'Walking': 55.24504852294922, 'Reacting': 56.43408203125, 'Gesticuling': 46.030242919921875, 'Patting': 53.7558479309082, 'Gaming': 54.67626190185547, 'Talking': 40.45713424682617, 'Greeting': 36.526737213134766}, 'LowerBody': {'All': 102.71979522705078, 'LowerStretching': 106.45842742919922, 'UpperStretching': 106.21778106689453, 'Walking': 107.20897674560547, 'Reacting': 71.86666107177734, 'Gesticuling': 65.02887725830078, 'Patting': 105.41213989257812, 'Gaming': 77.50084686279297, 'Talking': 63.0649528503418, 'Greeting': 57.28923034667969}}\n"
     ]
    },
    {
     "name": "stderr",
     "output_type": "stream",
     "text": [
      " 90%|████████▉ | 4801/5352 [12:00<01:25,  6.47it/s]"
     ]
    },
    {
     "name": "stdout",
     "output_type": "stream",
     "text": [
      "{'FullBody': {'All': 81.04899597167969, 'LowerStretching': 77.22962188720703, 'UpperStretching': 85.82769775390625, 'Walking': 81.2876205444336, 'Reacting': 64.10050964355469, 'Gesticuling': 55.510276794433594, 'Patting': 79.60646057128906, 'Gaming': 66.00699615478516, 'Talking': 51.647857666015625, 'Greeting': 47.014320373535156}, 'UpperBody': {'All': 59.32894515991211, 'LowerStretching': 47.98772430419922, 'UpperStretching': 65.33271026611328, 'Walking': 55.3206787109375, 'Reacting': 56.380855560302734, 'Gesticuling': 46.14213562011719, 'Patting': 53.83899688720703, 'Gaming': 54.404659271240234, 'Talking': 40.25469207763672, 'Greeting': 36.61197280883789}, 'LowerBody': {'All': 102.7690658569336, 'LowerStretching': 106.47151947021484, 'UpperStretching': 106.32268524169922, 'Walking': 107.25456237792969, 'Reacting': 71.8201675415039, 'Gesticuling': 64.87841033935547, 'Patting': 105.37393188476562, 'Gaming': 77.60932922363281, 'Talking': 63.04103088378906, 'Greeting': 57.41667175292969}}\n"
     ]
    },
    {
     "name": "stderr",
     "output_type": "stream",
     "text": [
      " 93%|█████████▎| 5001/5352 [12:30<00:56,  6.22it/s]"
     ]
    },
    {
     "name": "stdout",
     "output_type": "stream",
     "text": [
      "{'FullBody': {'All': 80.9969253540039, 'LowerStretching': 77.11431884765625, 'UpperStretching': 85.80911254882812, 'Walking': 81.18840789794922, 'Reacting': 63.96434020996094, 'Gesticuling': 55.64237594604492, 'Patting': 79.76773071289062, 'Gaming': 65.84201049804688, 'Talking': 51.673187255859375, 'Greeting': 47.087520599365234}, 'UpperBody': {'All': 59.294185638427734, 'LowerStretching': 47.87728500366211, 'UpperStretching': 65.34324645996094, 'Walking': 55.18510055541992, 'Reacting': 56.23331069946289, 'Gesticuling': 46.31010055541992, 'Patting': 54.0231819152832, 'Gaming': 54.23116683959961, 'Talking': 40.3301887512207, 'Greeting': 36.66922378540039}, 'LowerBody': {'All': 102.69967651367188, 'LowerStretching': 106.35136413574219, 'UpperStretching': 106.27497863769531, 'Walking': 107.19172668457031, 'Reacting': 71.69538116455078, 'Gesticuling': 64.97464752197266, 'Patting': 105.51227569580078, 'Gaming': 77.45283508300781, 'Talking': 63.01618194580078, 'Greeting': 57.50580978393555}}\n"
     ]
    },
    {
     "name": "stderr",
     "output_type": "stream",
     "text": [
      " 97%|█████████▋| 5201/5352 [13:00<00:24,  6.27it/s]"
     ]
    },
    {
     "name": "stdout",
     "output_type": "stream",
     "text": [
      "{'FullBody': {'All': 81.02562713623047, 'LowerStretching': 77.0622329711914, 'UpperStretching': 85.8414306640625, 'Walking': 81.25347137451172, 'Reacting': 64.10953521728516, 'Gesticuling': 55.568763732910156, 'Patting': 80.31326293945312, 'Gaming': 65.84137725830078, 'Talking': 51.65351104736328, 'Greeting': 46.992942810058594}, 'UpperBody': {'All': 59.30915832519531, 'LowerStretching': 47.85825729370117, 'UpperStretching': 65.36035919189453, 'Walking': 55.2387809753418, 'Reacting': 56.42512512207031, 'Gesticuling': 46.20695877075195, 'Patting': 54.30814743041992, 'Gaming': 54.16453170776367, 'Talking': 40.36204147338867, 'Greeting': 36.64221954345703}, 'LowerBody': {'All': 102.7420883178711, 'LowerStretching': 106.26619720458984, 'UpperStretching': 106.32250213623047, 'Walking': 107.26818084716797, 'Reacting': 71.79393005371094, 'Gesticuling': 64.93057250976562, 'Patting': 106.31837463378906, 'Gaming': 77.51823425292969, 'Talking': 62.94499206542969, 'Greeting': 57.343666076660156}}\n"
     ]
    },
    {
     "name": "stderr",
     "output_type": "stream",
     "text": [
      "100%|██████████| 5352/5352 [13:23<00:00,  6.66it/s]\n",
      "\u001b[94m19:26:46 \u001b[92m[INFO]\u001b[94m Main\u001b[0m: Saving evaluation results...\n",
      "\u001b[94m19:26:46 \u001b[92m[INFO]\u001b[94m Main\u001b[0m: Done.\n",
      "\u001b[94m19:26:46 \u001b[92m[INFO]\u001b[94m Main\u001b[0m: Starting demo...\n",
      "  0%|          | 0/5352 [00:00<?, ?it/s]/opt/conda/lib/python3.10/site-packages/torchvision/transforms/transforms.py:329: UserWarning: Argument 'interpolation' of type int is deprecated since 0.13 and will be removed in 0.15. Please use InterpolationMode enum.\n",
      "  warnings.warn(\n",
      "/opt/conda/lib/python3.10/site-packages/torchvision/transforms/transforms.py:329: UserWarning: Argument 'interpolation' of type int is deprecated since 0.13 and will be removed in 0.15. Please use InterpolationMode enum.\n",
      "  warnings.warn(\n",
      "/opt/conda/lib/python3.10/site-packages/torchvision/transforms/transforms.py:329: UserWarning: Argument 'interpolation' of type int is deprecated since 0.13 and will be removed in 0.15. Please use InterpolationMode enum.\n",
      "  warnings.warn(\n",
      "/opt/conda/lib/python3.10/site-packages/torchvision/transforms/transforms.py:329: UserWarning: Argument 'interpolation' of type int is deprecated since 0.13 and will be removed in 0.15. Please use InterpolationMode enum.\n",
      "  warnings.warn(\n",
      "/opt/conda/lib/python3.10/site-packages/torchvision/transforms/transforms.py:329: UserWarning: Argument 'interpolation' of type int is deprecated since 0.13 and will be removed in 0.15. Please use InterpolationMode enum.\n",
      "  warnings.warn(\n",
      "/opt/conda/lib/python3.10/site-packages/torchvision/transforms/transforms.py:329: UserWarning: Argument 'interpolation' of type int is deprecated since 0.13 and will be removed in 0.15. Please use InterpolationMode enum.\n",
      "  warnings.warn(\n",
      "/opt/conda/lib/python3.10/site-packages/torchvision/transforms/transforms.py:329: UserWarning: Argument 'interpolation' of type int is deprecated since 0.13 and will be removed in 0.15. Please use InterpolationMode enum.\n",
      "  warnings.warn(\n",
      "/opt/conda/lib/python3.10/site-packages/torchvision/transforms/transforms.py:329: UserWarning: Argument 'interpolation' of type int is deprecated since 0.13 and will be removed in 0.15. Please use InterpolationMode enum.\n",
      "  warnings.warn(\n",
      "/opt/conda/lib/python3.10/site-packages/torchvision/transforms/transforms.py:329: UserWarning: Argument 'interpolation' of type int is deprecated since 0.13 and will be removed in 0.15. Please use InterpolationMode enum.\n",
      "  warnings.warn(\n",
      "/opt/conda/lib/python3.10/site-packages/torchvision/transforms/transforms.py:329: UserWarning: Argument 'interpolation' of type int is deprecated since 0.13 and will be removed in 0.15. Please use InterpolationMode enum.\n",
      "  warnings.warn(\n",
      "/opt/conda/lib/python3.10/site-packages/torchvision/transforms/transforms.py:329: UserWarning: Argument 'interpolation' of type int is deprecated since 0.13 and will be removed in 0.15. Please use InterpolationMode enum.\n",
      "  warnings.warn(\n",
      "/opt/conda/lib/python3.10/site-packages/torchvision/transforms/transforms.py:329: UserWarning: Argument 'interpolation' of type int is deprecated since 0.13 and will be removed in 0.15. Please use InterpolationMode enum.\n",
      "  warnings.warn(\n",
      "/opt/conda/lib/python3.10/site-packages/torchvision/transforms/transforms.py:329: UserWarning: Argument 'interpolation' of type int is deprecated since 0.13 and will be removed in 0.15. Please use InterpolationMode enum.\n",
      "  warnings.warn(\n",
      "/opt/conda/lib/python3.10/site-packages/torchvision/transforms/transforms.py:329: UserWarning: Argument 'interpolation' of type int is deprecated since 0.13 and will be removed in 0.15. Please use InterpolationMode enum.\n",
      "  warnings.warn(\n",
      "/opt/conda/lib/python3.10/site-packages/torchvision/transforms/transforms.py:329: UserWarning: Argument 'interpolation' of type int is deprecated since 0.13 and will be removed in 0.15. Please use InterpolationMode enum.\n",
      "  warnings.warn(\n",
      "/opt/conda/lib/python3.10/site-packages/torchvision/transforms/transforms.py:329: UserWarning: Argument 'interpolation' of type int is deprecated since 0.13 and will be removed in 0.15. Please use InterpolationMode enum.\n",
      "  warnings.warn(\n",
      "/opt/conda/lib/python3.10/site-packages/torchvision/transforms/transforms.py:329: UserWarning: Argument 'interpolation' of type int is deprecated since 0.13 and will be removed in 0.15. Please use InterpolationMode enum.\n",
      "  warnings.warn(\n",
      "/opt/conda/lib/python3.10/site-packages/torchvision/transforms/transforms.py:329: UserWarning: Argument 'interpolation' of type int is deprecated since 0.13 and will be removed in 0.15. Please use InterpolationMode enum.\n",
      "  warnings.warn(\n",
      "/opt/conda/lib/python3.10/site-packages/torchvision/transforms/transforms.py:329: UserWarning: Argument 'interpolation' of type int is deprecated since 0.13 and will be removed in 0.15. Please use InterpolationMode enum.\n",
      "  warnings.warn(\n",
      "/opt/conda/lib/python3.10/site-packages/torchvision/transforms/transforms.py:329: UserWarning: Argument 'interpolation' of type int is deprecated since 0.13 and will be removed in 0.15. Please use InterpolationMode enum.\n",
      "  warnings.warn(\n",
      "/opt/conda/lib/python3.10/site-packages/torchvision/transforms/transforms.py:329: UserWarning: Argument 'interpolation' of type int is deprecated since 0.13 and will be removed in 0.15. Please use InterpolationMode enum.\n",
      "  warnings.warn(\n",
      "/opt/conda/lib/python3.10/site-packages/torchvision/transforms/transforms.py:329: UserWarning: Argument 'interpolation' of type int is deprecated since 0.13 and will be removed in 0.15. Please use InterpolationMode enum.\n",
      "  warnings.warn(\n",
      "/opt/conda/lib/python3.10/site-packages/torchvision/transforms/transforms.py:329: UserWarning: Argument 'interpolation' of type int is deprecated since 0.13 and will be removed in 0.15. Please use InterpolationMode enum.\n",
      "  warnings.warn(\n",
      "/opt/conda/lib/python3.10/site-packages/torchvision/transforms/transforms.py:329: UserWarning: Argument 'interpolation' of type int is deprecated since 0.13 and will be removed in 0.15. Please use InterpolationMode enum.\n",
      "  warnings.warn(\n",
      "  4%|▍         | 201/5352 [00:35<13:17,  6.46it/s]"
     ]
    },
    {
     "name": "stdout",
     "output_type": "stream",
     "text": [
      "{'FullBody': {'All': 78.12610626220703, 'Talking': 55.4803466796875, 'UpperStretching': 82.94081115722656, 'Walking': 78.26826477050781, 'LowerStretching': 74.0314712524414, 'Gesticuling': 54.81523132324219, 'Greeting': 48.758296966552734, 'Reacting': 59.80933380126953, 'Patting': 66.38269805908203, 'Gaming': 63.15241241455078}, 'UpperBody': {'All': 57.50007629394531, 'Talking': 42.32484436035156, 'UpperStretching': 64.47503662109375, 'Walking': 51.34992980957031, 'LowerStretching': 45.717254638671875, 'Gesticuling': 44.89393615722656, 'Greeting': 36.94667053222656, 'Reacting': 49.556861877441406, 'Patting': 49.05760955810547, 'Gaming': 45.277687072753906}, 'LowerBody': {'All': 98.75212860107422, 'Talking': 68.63584899902344, 'UpperStretching': 101.4065933227539, 'Walking': 105.18660736083984, 'LowerStretching': 102.3456802368164, 'Gesticuling': 64.73651123046875, 'Greeting': 60.56993103027344, 'Reacting': 70.06181335449219, 'Patting': 83.707763671875, 'Gaming': 81.02714538574219}}\n"
     ]
    },
    {
     "name": "stderr",
     "output_type": "stream",
     "text": [
      "  7%|▋         | 401/5352 [01:05<11:44,  7.02it/s]"
     ]
    },
    {
     "name": "stdout",
     "output_type": "stream",
     "text": [
      "{'FullBody': {'All': 77.76051330566406, 'Talking': 53.1767463684082, 'UpperStretching': 82.32962799072266, 'Walking': 77.96289825439453, 'LowerStretching': 75.10091400146484, 'Gesticuling': 55.491477966308594, 'Greeting': 48.447208404541016, 'Reacting': 59.580284118652344, 'Patting': 66.65562438964844, 'Gaming': 62.419559478759766}, 'UpperBody': {'All': 57.02945327758789, 'Talking': 41.17448425292969, 'UpperStretching': 63.8720703125, 'Walking': 51.37163543701172, 'LowerStretching': 46.0576057434082, 'Gesticuling': 45.05673599243164, 'Greeting': 36.197200775146484, 'Reacting': 48.920753479003906, 'Patting': 48.617156982421875, 'Gaming': 44.915706634521484}, 'LowerBody': {'All': 98.49158477783203, 'Talking': 65.17900085449219, 'UpperStretching': 100.78717803955078, 'Walking': 104.55415344238281, 'LowerStretching': 104.14421844482422, 'Gesticuling': 65.92622375488281, 'Greeting': 60.69721984863281, 'Reacting': 70.23982238769531, 'Patting': 84.69406127929688, 'Gaming': 79.92341613769531}}\n"
     ]
    },
    {
     "name": "stderr",
     "output_type": "stream",
     "text": [
      " 11%|█         | 601/5352 [01:34<11:17,  7.02it/s]"
     ]
    },
    {
     "name": "stdout",
     "output_type": "stream",
     "text": [
      "{'FullBody': {'All': 78.20490264892578, 'Talking': 52.25840377807617, 'UpperStretching': 82.68547058105469, 'Walking': 78.42562866210938, 'LowerStretching': 75.67967224121094, 'Gesticuling': 55.1560173034668, 'Greeting': 49.780670166015625, 'Reacting': 60.450809478759766, 'Patting': 67.75912475585938, 'Gaming': 62.716312408447266}, 'UpperBody': {'All': 57.453826904296875, 'Talking': 40.549171447753906, 'UpperStretching': 64.24009704589844, 'Walking': 51.472415924072266, 'LowerStretching': 46.3191032409668, 'Gesticuling': 45.281639099121094, 'Greeting': 37.2939453125, 'Reacting': 50.465087890625, 'Patting': 48.2068977355957, 'Gaming': 44.00960922241211}, 'LowerBody': {'All': 98.95596313476562, 'Talking': 63.967628479003906, 'UpperStretching': 101.13084411621094, 'Walking': 105.37885284423828, 'LowerStretching': 105.04024505615234, 'Gesticuling': 65.0303955078125, 'Greeting': 62.267398834228516, 'Reacting': 70.43653869628906, 'Patting': 87.31134033203125, 'Gaming': 81.42300415039062}}\n"
     ]
    },
    {
     "name": "stderr",
     "output_type": "stream",
     "text": [
      " 15%|█▍        | 801/5352 [02:04<12:39,  5.99it/s]"
     ]
    },
    {
     "name": "stdout",
     "output_type": "stream",
     "text": [
      "{'FullBody': {'All': 78.18671417236328, 'Talking': 51.1766357421875, 'UpperStretching': 82.67073059082031, 'Walking': 78.16539764404297, 'LowerStretching': 75.59312438964844, 'Gesticuling': 55.16701126098633, 'Greeting': 50.23931884765625, 'Reacting': 61.337310791015625, 'Patting': 66.3294906616211, 'Gaming': 63.45782470703125}, 'UpperBody': {'All': 57.65028381347656, 'Talking': 40.19746017456055, 'UpperStretching': 64.4100341796875, 'Walking': 51.301849365234375, 'LowerStretching': 46.471805572509766, 'Gesticuling': 45.40304183959961, 'Greeting': 37.38570785522461, 'Reacting': 52.104427337646484, 'Patting': 47.557987213134766, 'Gaming': 45.0920295715332}, 'LowerBody': {'All': 98.7231216430664, 'Talking': 62.155818939208984, 'UpperStretching': 100.93142700195312, 'Walking': 105.0289306640625, 'LowerStretching': 104.71444702148438, 'Gesticuling': 64.93098449707031, 'Greeting': 63.09292984008789, 'Reacting': 70.57019805908203, 'Patting': 85.10100555419922, 'Gaming': 81.8236083984375}}\n"
     ]
    },
    {
     "name": "stderr",
     "output_type": "stream",
     "text": [
      " 19%|█▊        | 1001/5352 [02:34<10:47,  6.71it/s]"
     ]
    },
    {
     "name": "stdout",
     "output_type": "stream",
     "text": [
      "{'FullBody': {'All': 78.30833435058594, 'Talking': 50.57158279418945, 'UpperStretching': 82.8099136352539, 'Walking': 78.72705078125, 'LowerStretching': 75.17874145507812, 'Gesticuling': 55.96660614013672, 'Greeting': 50.620635986328125, 'Reacting': 62.48341369628906, 'Patting': 67.26028442382812, 'Gaming': 63.533790588378906}, 'UpperBody': {'All': 57.84049987792969, 'Talking': 40.06330490112305, 'UpperStretching': 64.51168060302734, 'Walking': 51.89298629760742, 'LowerStretching': 46.32029342651367, 'Gesticuling': 45.98411560058594, 'Greeting': 37.860595703125, 'Reacting': 53.61222457885742, 'Patting': 48.585693359375, 'Gaming': 45.44533920288086}, 'LowerBody': {'All': 98.77615356445312, 'Talking': 61.07984924316406, 'UpperStretching': 101.10813903808594, 'Walking': 105.56111145019531, 'LowerStretching': 104.03717803955078, 'Gesticuling': 65.9490966796875, 'Greeting': 63.380680084228516, 'Reacting': 71.3545913696289, 'Patting': 85.93487548828125, 'Gaming': 81.62223815917969}}\n"
     ]
    },
    {
     "name": "stderr",
     "output_type": "stream",
     "text": [
      " 22%|██▏       | 1201/5352 [03:03<09:51,  7.02it/s]"
     ]
    },
    {
     "name": "stdout",
     "output_type": "stream",
     "text": [
      "{'FullBody': {'All': 78.347900390625, 'Talking': 50.472530364990234, 'UpperStretching': 82.73704528808594, 'Walking': 79.114013671875, 'LowerStretching': 75.27687072753906, 'Gesticuling': 55.98793029785156, 'Greeting': 50.699851989746094, 'Reacting': 62.47959899902344, 'Patting': 68.87495422363281, 'Gaming': 63.60409927368164}, 'UpperBody': {'All': 57.81596374511719, 'Talking': 40.518157958984375, 'UpperStretching': 64.3515396118164, 'Walking': 52.12801742553711, 'LowerStretching': 46.34374237060547, 'Gesticuling': 45.90102005004883, 'Greeting': 38.28031539916992, 'Reacting': 54.21601867675781, 'Patting': 49.38331985473633, 'Gaming': 45.52429962158203}, 'LowerBody': {'All': 98.87982940673828, 'Talking': 60.42690658569336, 'UpperStretching': 101.12255096435547, 'Walking': 106.10000610351562, 'LowerStretching': 104.20999145507812, 'Gesticuling': 66.07483673095703, 'Greeting': 63.119384765625, 'Reacting': 70.74317932128906, 'Patting': 88.36658477783203, 'Gaming': 81.68389129638672}}\n"
     ]
    },
    {
     "name": "stderr",
     "output_type": "stream",
     "text": [
      " 26%|██▌       | 1401/5352 [03:33<10:33,  6.24it/s]"
     ]
    },
    {
     "name": "stdout",
     "output_type": "stream",
     "text": [
      "{'FullBody': {'All': 78.31231689453125, 'Talking': 50.4637451171875, 'UpperStretching': 82.69239807128906, 'Walking': 78.76725006103516, 'LowerStretching': 75.58317565917969, 'Gesticuling': 55.5267333984375, 'Greeting': 50.659080505371094, 'Reacting': 61.92176818847656, 'Patting': 69.3393325805664, 'Gaming': 63.089542388916016}, 'UpperBody': {'All': 57.70083236694336, 'Talking': 40.36505126953125, 'UpperStretching': 64.25041198730469, 'Walking': 51.5932731628418, 'LowerStretching': 46.581058502197266, 'Gesticuling': 45.61109924316406, 'Greeting': 38.032283782958984, 'Reacting': 53.78493881225586, 'Patting': 50.153114318847656, 'Gaming': 45.404258728027344}, 'LowerBody': {'All': 98.92379760742188, 'Talking': 60.562442779541016, 'UpperStretching': 101.1343994140625, 'Walking': 105.94122314453125, 'LowerStretching': 104.58528900146484, 'Gesticuling': 65.44236755371094, 'Greeting': 63.28588104248047, 'Reacting': 70.05860137939453, 'Patting': 88.52555084228516, 'Gaming': 80.77482604980469}}\n"
     ]
    },
    {
     "name": "stderr",
     "output_type": "stream",
     "text": [
      " 30%|██▉       | 1601/5352 [04:02<09:06,  6.86it/s]"
     ]
    },
    {
     "name": "stdout",
     "output_type": "stream",
     "text": [
      "{'FullBody': {'All': 78.3712387084961, 'Talking': 50.41413497924805, 'UpperStretching': 82.64727020263672, 'Walking': 79.00682830810547, 'LowerStretching': 75.72991180419922, 'Gesticuling': 55.53990936279297, 'Greeting': 50.71824645996094, 'Reacting': 62.773834228515625, 'Patting': 70.30183410644531, 'Gaming': 62.636295318603516}, 'UpperBody': {'All': 57.72923278808594, 'Talking': 40.13847351074219, 'UpperStretching': 64.22169494628906, 'Walking': 51.52900695800781, 'LowerStretching': 46.68841552734375, 'Gesticuling': 45.70720291137695, 'Greeting': 38.20109176635742, 'Reacting': 54.90815353393555, 'Patting': 50.2565803527832, 'Gaming': 45.14002227783203}, 'LowerBody': {'All': 99.01322174072266, 'Talking': 60.68980026245117, 'UpperStretching': 101.07283782958984, 'Walking': 106.48464965820312, 'LowerStretching': 104.7713851928711, 'Gesticuling': 65.37260437011719, 'Greeting': 63.23540115356445, 'Reacting': 70.63951873779297, 'Patting': 90.34709930419922, 'Gaming': 80.13256072998047}}\n"
     ]
    },
    {
     "name": "stderr",
     "output_type": "stream",
     "text": [
      " 34%|███▎      | 1801/5352 [04:32<08:22,  7.07it/s]"
     ]
    },
    {
     "name": "stdout",
     "output_type": "stream",
     "text": [
      "{'FullBody': {'All': 78.40443420410156, 'Talking': 50.32822036743164, 'UpperStretching': 82.65914154052734, 'Walking': 78.90135955810547, 'LowerStretching': 75.80961608886719, 'Gesticuling': 55.51963424682617, 'Greeting': 51.04281234741211, 'Reacting': 62.31174850463867, 'Patting': 71.99447631835938, 'Gaming': 62.76426696777344}, 'UpperBody': {'All': 57.688663482666016, 'Talking': 40.061004638671875, 'UpperStretching': 64.17414093017578, 'Walking': 51.29642105102539, 'LowerStretching': 46.71189498901367, 'Gesticuling': 45.75698471069336, 'Greeting': 38.718994140625, 'Reacting': 54.20401382446289, 'Patting': 51.67459487915039, 'Gaming': 45.689430236816406}, 'LowerBody': {'All': 99.12019348144531, 'Talking': 60.59543991088867, 'UpperStretching': 101.14415740966797, 'Walking': 106.50628662109375, 'LowerStretching': 104.90733337402344, 'Gesticuling': 65.28227996826172, 'Greeting': 63.36662292480469, 'Reacting': 70.41949462890625, 'Patting': 92.31436920166016, 'Gaming': 79.83909606933594}}\n"
     ]
    },
    {
     "name": "stderr",
     "output_type": "stream",
     "text": [
      " 37%|███▋      | 2001/5352 [05:02<09:08,  6.11it/s]"
     ]
    },
    {
     "name": "stdout",
     "output_type": "stream",
     "text": [
      "{'FullBody': {'All': 78.37737274169922, 'Talking': 50.42079544067383, 'UpperStretching': 82.63545227050781, 'Walking': 78.66996765136719, 'LowerStretching': 75.77896881103516, 'Gesticuling': 55.48240280151367, 'Greeting': 50.918006896972656, 'Reacting': 62.066070556640625, 'Patting': 72.84312438964844, 'Gaming': 62.76820373535156}, 'UpperBody': {'All': 57.66679763793945, 'Talking': 40.14551544189453, 'UpperStretching': 64.17272186279297, 'Walking': 51.183406829833984, 'LowerStretching': 46.60866928100586, 'Gesticuling': 45.69698715209961, 'Greeting': 38.6550178527832, 'Reacting': 54.10363006591797, 'Patting': 51.906776428222656, 'Gaming': 45.744049072265625}, 'LowerBody': {'All': 99.08794403076172, 'Talking': 60.696067810058594, 'UpperStretching': 101.09818267822266, 'Walking': 106.1565170288086, 'LowerStretching': 104.94926452636719, 'Gesticuling': 65.267822265625, 'Greeting': 63.180999755859375, 'Reacting': 70.02851867675781, 'Patting': 93.77947998046875, 'Gaming': 79.7923583984375}}\n"
     ]
    },
    {
     "name": "stderr",
     "output_type": "stream",
     "text": [
      " 41%|████      | 2201/5352 [05:31<07:46,  6.75it/s]"
     ]
    },
    {
     "name": "stdout",
     "output_type": "stream",
     "text": [
      "{'FullBody': {'All': 78.40630340576172, 'Talking': 50.34079360961914, 'UpperStretching': 82.6374282836914, 'Walking': 78.86729431152344, 'LowerStretching': 75.79769897460938, 'Gesticuling': 55.67373275756836, 'Greeting': 51.41901779174805, 'Reacting': 62.0480842590332, 'Patting': 73.58206176757812, 'Gaming': 62.42731475830078}, 'UpperBody': {'All': 57.626312255859375, 'Talking': 40.092220306396484, 'UpperStretching': 64.10655212402344, 'Walking': 51.20002746582031, 'LowerStretching': 46.59228515625, 'Gesticuling': 45.88691711425781, 'Greeting': 39.198001861572266, 'Reacting': 54.1627197265625, 'Patting': 52.40116882324219, 'Gaming': 45.598907470703125}, 'LowerBody': {'All': 99.186279296875, 'Talking': 60.58936309814453, 'UpperStretching': 101.16828918457031, 'Walking': 106.53456115722656, 'LowerStretching': 105.00312042236328, 'Gesticuling': 65.4605484008789, 'Greeting': 63.6400260925293, 'Reacting': 69.9334487915039, 'Patting': 94.76294708251953, 'Gaming': 79.2557144165039}}\n"
     ]
    },
    {
     "name": "stderr",
     "output_type": "stream",
     "text": [
      " 45%|████▍     | 2401/5352 [06:01<07:19,  6.71it/s]"
     ]
    },
    {
     "name": "stdout",
     "output_type": "stream",
     "text": [
      "{'FullBody': {'All': 78.39546203613281, 'Talking': 50.662635803222656, 'UpperStretching': 82.53300476074219, 'Walking': 78.74209594726562, 'LowerStretching': 75.96798706054688, 'Gesticuling': 56.00707244873047, 'Greeting': 51.40715789794922, 'Reacting': 62.005123138427734, 'Patting': 73.8245620727539, 'Gaming': 62.8278923034668}, 'UpperBody': {'All': 57.63118362426758, 'Talking': 40.32927703857422, 'UpperStretching': 64.06685638427734, 'Walking': 51.07819366455078, 'LowerStretching': 46.70563888549805, 'Gesticuling': 46.32828140258789, 'Greeting': 39.1711311340332, 'Reacting': 54.093116760253906, 'Patting': 52.610328674316406, 'Gaming': 45.73446273803711}, 'LowerBody': {'All': 99.15973663330078, 'Talking': 60.996002197265625, 'UpperStretching': 100.99915313720703, 'Walking': 106.40599822998047, 'LowerStretching': 105.23033142089844, 'Gesticuling': 65.68586730957031, 'Greeting': 63.6431770324707, 'Reacting': 69.91712188720703, 'Patting': 95.03880310058594, 'Gaming': 79.92131805419922}}\n"
     ]
    },
    {
     "name": "stderr",
     "output_type": "stream",
     "text": [
      " 49%|████▊     | 2601/5352 [06:31<07:47,  5.88it/s]"
     ]
    },
    {
     "name": "stdout",
     "output_type": "stream",
     "text": [
      "{'FullBody': {'All': 78.42330169677734, 'Talking': 50.53117370605469, 'UpperStretching': 82.6406021118164, 'Walking': 78.7684326171875, 'LowerStretching': 75.8176498413086, 'Gesticuling': 56.042259216308594, 'Greeting': 51.3433952331543, 'Reacting': 61.881195068359375, 'Patting': 73.97526550292969, 'Gaming': 62.9024772644043}, 'UpperBody': {'All': 57.6739501953125, 'Talking': 40.1306037902832, 'UpperStretching': 64.15093231201172, 'Walking': 51.17524719238281, 'LowerStretching': 46.62638473510742, 'Gesticuling': 46.46798324584961, 'Greeting': 39.09680938720703, 'Reacting': 53.91521072387695, 'Patting': 52.85494613647461, 'Gaming': 45.842506408691406}, 'LowerBody': {'All': 99.17265319824219, 'Talking': 60.931732177734375, 'UpperStretching': 101.1302719116211, 'Walking': 106.36161041259766, 'LowerStretching': 105.00890350341797, 'Gesticuling': 65.61653137207031, 'Greeting': 63.58997344970703, 'Reacting': 69.84718322753906, 'Patting': 95.09557342529297, 'Gaming': 79.96244812011719}}\n"
     ]
    },
    {
     "name": "stderr",
     "output_type": "stream",
     "text": [
      " 52%|█████▏    | 2801/5352 [07:00<06:30,  6.53it/s]"
     ]
    },
    {
     "name": "stdout",
     "output_type": "stream",
     "text": [
      "{'FullBody': {'All': 78.35660552978516, 'Talking': 50.574668884277344, 'UpperStretching': 82.60234832763672, 'Walking': 78.65109252929688, 'LowerStretching': 75.68035888671875, 'Gesticuling': 55.8615608215332, 'Greeting': 50.988975524902344, 'Reacting': 62.02042007446289, 'Patting': 74.14015197753906, 'Gaming': 62.801815032958984}, 'UpperBody': {'All': 57.62971496582031, 'Talking': 40.186973571777344, 'UpperStretching': 64.11327362060547, 'Walking': 51.1313591003418, 'LowerStretching': 46.54512023925781, 'Gesticuling': 46.32384490966797, 'Greeting': 38.88203048706055, 'Reacting': 54.12660598754883, 'Patting': 52.976776123046875, 'Gaming': 45.934730529785156}, 'LowerBody': {'All': 99.08349609375, 'Talking': 60.962371826171875, 'UpperStretching': 101.0914077758789, 'Walking': 106.17082214355469, 'LowerStretching': 104.81559753417969, 'Gesticuling': 65.39926147460938, 'Greeting': 63.09591293334961, 'Reacting': 69.91422271728516, 'Patting': 95.30352020263672, 'Gaming': 79.66889190673828}}\n"
     ]
    },
    {
     "name": "stderr",
     "output_type": "stream",
     "text": [
      " 56%|█████▌    | 3001/5352 [07:30<05:46,  6.79it/s]"
     ]
    },
    {
     "name": "stdout",
     "output_type": "stream",
     "text": [
      "{'FullBody': {'All': 78.3609619140625, 'Talking': 50.392669677734375, 'UpperStretching': 82.64850616455078, 'Walking': 78.47981262207031, 'LowerStretching': 75.66574096679688, 'Gesticuling': 55.88566589355469, 'Greeting': 51.1280632019043, 'Reacting': 62.07668685913086, 'Patting': 74.10261535644531, 'Gaming': 62.79409408569336}, 'UpperBody': {'All': 57.651214599609375, 'Talking': 39.990753173828125, 'UpperStretching': 64.18780517578125, 'Walking': 51.038726806640625, 'LowerStretching': 46.54100036621094, 'Gesticuling': 46.21113586425781, 'Greeting': 39.06498336791992, 'Reacting': 54.19929122924805, 'Patting': 52.89825439453125, 'Gaming': 45.8310546875}, 'LowerBody': {'All': 99.07068634033203, 'Talking': 60.79457473754883, 'UpperStretching': 101.10918426513672, 'Walking': 105.92089080810547, 'LowerStretching': 104.79047393798828, 'Gesticuling': 65.56019592285156, 'Greeting': 63.19113540649414, 'Reacting': 69.95408630371094, 'Patting': 95.3069839477539, 'Gaming': 79.75712585449219}}\n"
     ]
    },
    {
     "name": "stderr",
     "output_type": "stream",
     "text": [
      " 60%|█████▉    | 3201/5352 [08:00<06:02,  5.94it/s]"
     ]
    },
    {
     "name": "stdout",
     "output_type": "stream",
     "text": [
      "{'FullBody': {'All': 78.38259887695312, 'Talking': 50.3442268371582, 'UpperStretching': 82.62488555908203, 'Walking': 78.69219207763672, 'LowerStretching': 75.6211166381836, 'Gesticuling': 56.03516387939453, 'Greeting': 51.25337219238281, 'Reacting': 61.96371841430664, 'Patting': 74.68001556396484, 'Gaming': 63.06774139404297}, 'UpperBody': {'All': 57.677791595458984, 'Talking': 39.896358489990234, 'UpperStretching': 64.18992614746094, 'Walking': 51.274784088134766, 'LowerStretching': 46.50160217285156, 'Gesticuling': 46.3878173828125, 'Greeting': 39.09765625, 'Reacting': 53.94913864135742, 'Patting': 53.12712478637695, 'Gaming': 45.69196701049805}, 'LowerBody': {'All': 99.08740234375, 'Talking': 60.79209899902344, 'UpperStretching': 101.0598373413086, 'Walking': 106.10961151123047, 'LowerStretching': 104.74063110351562, 'Gesticuling': 65.68251037597656, 'Greeting': 63.409080505371094, 'Reacting': 69.97830200195312, 'Patting': 96.2329330444336, 'Gaming': 80.44351196289062}}\n"
     ]
    },
    {
     "name": "stderr",
     "output_type": "stream",
     "text": [
      " 64%|██████▎   | 3401/5352 [08:30<04:56,  6.58it/s]"
     ]
    },
    {
     "name": "stdout",
     "output_type": "stream",
     "text": [
      "{'FullBody': {'All': 78.36735534667969, 'Talking': 50.294288635253906, 'UpperStretching': 82.6204833984375, 'Walking': 78.689208984375, 'LowerStretching': 75.5757827758789, 'Gesticuling': 56.11379623413086, 'Greeting': 51.272666931152344, 'Reacting': 61.91351318359375, 'Patting': 74.84771728515625, 'Gaming': 62.92428970336914}, 'UpperBody': {'All': 57.664146423339844, 'Talking': 39.77546691894531, 'UpperStretching': 64.18251037597656, 'Walking': 51.302398681640625, 'LowerStretching': 46.470027923583984, 'Gesticuling': 46.381839752197266, 'Greeting': 39.12178039550781, 'Reacting': 53.859500885009766, 'Patting': 53.442649841308594, 'Gaming': 45.63717269897461}, 'LowerBody': {'All': 99.07054138183594, 'Talking': 60.81309509277344, 'UpperStretching': 101.05842590332031, 'Walking': 106.0760269165039, 'LowerStretching': 104.68154907226562, 'Gesticuling': 65.84575653076172, 'Greeting': 63.423561096191406, 'Reacting': 69.96752166748047, 'Patting': 96.25277709960938, 'Gaming': 80.2114028930664}}\n"
     ]
    },
    {
     "name": "stderr",
     "output_type": "stream",
     "text": [
      " 67%|██████▋   | 3601/5352 [09:00<04:25,  6.60it/s]"
     ]
    },
    {
     "name": "stdout",
     "output_type": "stream",
     "text": [
      "{'FullBody': {'All': 78.43123626708984, 'Talking': 50.27019500732422, 'UpperStretching': 82.68919372558594, 'Walking': 78.70752716064453, 'LowerStretching': 75.67676544189453, 'Gesticuling': 56.133602142333984, 'Greeting': 51.58109664916992, 'Reacting': 62.0533447265625, 'Patting': 74.85100555419922, 'Gaming': 62.746463775634766}, 'UpperBody': {'All': 57.69895935058594, 'Talking': 39.938232421875, 'UpperStretching': 64.22219848632812, 'Walking': 51.32892608642578, 'LowerStretching': 46.538246154785156, 'Gesticuling': 46.4431037902832, 'Greeting': 39.350650787353516, 'Reacting': 53.879981994628906, 'Patting': 53.469200134277344, 'Gaming': 45.57435989379883}, 'LowerBody': {'All': 99.16349792480469, 'Talking': 60.6021614074707, 'UpperStretching': 101.15618133544922, 'Walking': 106.08612823486328, 'LowerStretching': 104.81529235839844, 'Gesticuling': 65.8240966796875, 'Greeting': 63.81155014038086, 'Reacting': 70.2267074584961, 'Patting': 96.2328109741211, 'Gaming': 79.9185791015625}}\n"
     ]
    },
    {
     "name": "stderr",
     "output_type": "stream",
     "text": [
      " 71%|███████   | 3801/5352 [09:30<04:16,  6.04it/s]"
     ]
    },
    {
     "name": "stdout",
     "output_type": "stream",
     "text": [
      "{'FullBody': {'All': 78.45565032958984, 'Talking': 50.25301742553711, 'UpperStretching': 82.70618438720703, 'Walking': 78.65782928466797, 'LowerStretching': 75.72450256347656, 'Gesticuling': 56.35857009887695, 'Greeting': 51.45480728149414, 'Reacting': 62.195491790771484, 'Patting': 74.97721099853516, 'Gaming': 62.68914031982422}, 'UpperBody': {'All': 57.736045837402344, 'Talking': 39.886783599853516, 'UpperStretching': 64.25484466552734, 'Walking': 51.25871658325195, 'LowerStretching': 46.592350006103516, 'Gesticuling': 46.715763092041016, 'Greeting': 39.172325134277344, 'Reacting': 53.843238830566406, 'Patting': 53.83858871459961, 'Gaming': 45.522274017333984}, 'LowerBody': {'All': 99.17524719238281, 'Talking': 60.6192512512207, 'UpperStretching': 101.15751647949219, 'Walking': 106.05696105957031, 'LowerStretching': 104.85664367675781, 'Gesticuling': 66.00138854980469, 'Greeting': 63.73728942871094, 'Reacting': 70.54774475097656, 'Patting': 96.11583709716797, 'Gaming': 79.85599517822266}}\n"
     ]
    },
    {
     "name": "stderr",
     "output_type": "stream",
     "text": [
      " 75%|███████▍  | 4001/5352 [10:00<03:29,  6.46it/s]"
     ]
    },
    {
     "name": "stdout",
     "output_type": "stream",
     "text": [
      "{'FullBody': {'All': 78.51590728759766, 'Talking': 50.33797073364258, 'UpperStretching': 82.80884552001953, 'Walking': 78.67425537109375, 'LowerStretching': 75.78206634521484, 'Gesticuling': 56.343589782714844, 'Greeting': 51.41680145263672, 'Reacting': 62.01089859008789, 'Patting': 74.98716735839844, 'Gaming': 62.594573974609375}, 'UpperBody': {'All': 57.778072357177734, 'Talking': 40.020965576171875, 'UpperStretching': 64.3177261352539, 'Walking': 51.258323669433594, 'LowerStretching': 46.63523483276367, 'Gesticuling': 46.66065979003906, 'Greeting': 39.18389892578125, 'Reacting': 53.725833892822266, 'Patting': 53.98379135131836, 'Gaming': 45.51272964477539}, 'LowerBody': {'All': 99.25372314453125, 'Talking': 60.65496826171875, 'UpperStretching': 101.29996490478516, 'Walking': 106.0901870727539, 'LowerStretching': 104.92890167236328, 'Gesticuling': 66.02651977539062, 'Greeting': 63.64970397949219, 'Reacting': 70.29596710205078, 'Patting': 95.99055480957031, 'Gaming': 79.67640686035156}}\n"
     ]
    },
    {
     "name": "stderr",
     "output_type": "stream",
     "text": [
      " 78%|███████▊  | 4201/5352 [10:30<02:55,  6.57it/s]"
     ]
    },
    {
     "name": "stdout",
     "output_type": "stream",
     "text": [
      "{'FullBody': {'All': 78.52717590332031, 'Talking': 50.33613204956055, 'UpperStretching': 82.79590606689453, 'Walking': 78.5811538696289, 'LowerStretching': 75.94569396972656, 'Gesticuling': 56.3675537109375, 'Greeting': 51.58364486694336, 'Reacting': 61.86062240600586, 'Patting': 76.11044311523438, 'Gaming': 62.45750427246094}, 'UpperBody': {'All': 57.7861213684082, 'Talking': 40.0765495300293, 'UpperStretching': 64.32955169677734, 'Walking': 51.178462982177734, 'LowerStretching': 46.71699523925781, 'Gesticuling': 46.68834686279297, 'Greeting': 39.31270980834961, 'Reacting': 53.47586441040039, 'Patting': 54.78572082519531, 'Gaming': 45.452056884765625}, 'LowerBody': {'All': 99.26821899414062, 'Talking': 60.5957145690918, 'UpperStretching': 101.26226043701172, 'Walking': 105.98385620117188, 'LowerStretching': 105.17439270019531, 'Gesticuling': 66.0467529296875, 'Greeting': 63.854583740234375, 'Reacting': 70.24537658691406, 'Patting': 97.4351806640625, 'Gaming': 79.46293640136719}}\n"
     ]
    },
    {
     "name": "stderr",
     "output_type": "stream",
     "text": [
      " 82%|████████▏ | 4401/5352 [11:00<02:42,  5.85it/s]"
     ]
    },
    {
     "name": "stdout",
     "output_type": "stream",
     "text": [
      "{'FullBody': {'All': 78.56368255615234, 'Talking': 50.22829055786133, 'UpperStretching': 82.87151336669922, 'Walking': 78.48660278320312, 'LowerStretching': 75.88299560546875, 'Gesticuling': 56.31464385986328, 'Greeting': 51.55652618408203, 'Reacting': 62.03782272338867, 'Patting': 76.50205993652344, 'Gaming': 62.54512405395508}, 'UpperBody': {'All': 57.807064056396484, 'Talking': 39.97758865356445, 'UpperStretching': 64.37598419189453, 'Walking': 51.09397506713867, 'LowerStretching': 46.695396423339844, 'Gesticuling': 46.67427062988281, 'Greeting': 39.30577850341797, 'Reacting': 53.50890350341797, 'Patting': 55.046142578125, 'Gaming': 45.38826370239258}, 'LowerBody': {'All': 99.3202896118164, 'Talking': 60.4789924621582, 'UpperStretching': 101.3670425415039, 'Walking': 105.87922668457031, 'LowerStretching': 105.07060241699219, 'Gesticuling': 65.95500946044922, 'Greeting': 63.80727005004883, 'Reacting': 70.56674194335938, 'Patting': 97.95796966552734, 'Gaming': 79.70198822021484}}\n"
     ]
    },
    {
     "name": "stderr",
     "output_type": "stream",
     "text": [
      " 86%|████████▌ | 4601/5352 [11:30<01:57,  6.41it/s]"
     ]
    },
    {
     "name": "stdout",
     "output_type": "stream",
     "text": [
      "{'FullBody': {'All': 78.52552795410156, 'Talking': 50.25979995727539, 'UpperStretching': 82.80453491210938, 'Walking': 78.55618286132812, 'LowerStretching': 75.86894226074219, 'Gesticuling': 56.30237579345703, 'Greeting': 51.70415115356445, 'Reacting': 61.84120559692383, 'Patting': 76.47760772705078, 'Gaming': 62.66914749145508}, 'UpperBody': {'All': 57.76605224609375, 'Talking': 39.97101974487305, 'UpperStretching': 64.31591796875, 'Walking': 51.12306213378906, 'LowerStretching': 46.668365478515625, 'Gesticuling': 46.64250946044922, 'Greeting': 39.4293212890625, 'Reacting': 53.329471588134766, 'Patting': 54.927860260009766, 'Gaming': 45.54255676269531}, 'LowerBody': {'All': 99.28500366210938, 'Talking': 60.548583984375, 'UpperStretching': 101.29315185546875, 'Walking': 105.98930358886719, 'LowerStretching': 105.06951904296875, 'Gesticuling': 65.96223449707031, 'Greeting': 63.978981018066406, 'Reacting': 70.35294342041016, 'Patting': 98.02735900878906, 'Gaming': 79.79574584960938}}\n"
     ]
    },
    {
     "name": "stderr",
     "output_type": "stream",
     "text": [
      " 90%|████████▉ | 4801/5352 [12:00<01:27,  6.32it/s]"
     ]
    },
    {
     "name": "stdout",
     "output_type": "stream",
     "text": [
      "{'FullBody': {'All': 78.4915771484375, 'Talking': 50.33563995361328, 'UpperStretching': 82.8054428100586, 'Walking': 78.4668960571289, 'LowerStretching': 75.76400756835938, 'Gesticuling': 56.21149826049805, 'Greeting': 51.70513916015625, 'Reacting': 61.78297805786133, 'Patting': 76.23242950439453, 'Gaming': 62.59418869018555}, 'UpperBody': {'All': 57.76780700683594, 'Talking': 40.14472579956055, 'UpperStretching': 64.32744598388672, 'Walking': 51.06545639038086, 'LowerStretching': 46.62737274169922, 'Gesticuling': 46.57330322265625, 'Greeting': 39.43521499633789, 'Reacting': 53.37291717529297, 'Patting': 54.93193054199219, 'Gaming': 45.51089859008789}, 'LowerBody': {'All': 99.21534729003906, 'Talking': 60.52655792236328, 'UpperStretching': 101.28345489501953, 'Walking': 105.86833190917969, 'LowerStretching': 104.90064239501953, 'Gesticuling': 65.84969329833984, 'Greeting': 63.975059509277344, 'Reacting': 70.19303894042969, 'Patting': 97.53292846679688, 'Gaming': 79.6774673461914}}\n"
     ]
    },
    {
     "name": "stderr",
     "output_type": "stream",
     "text": [
      " 93%|█████████▎| 5001/5352 [12:30<01:03,  5.49it/s]"
     ]
    },
    {
     "name": "stdout",
     "output_type": "stream",
     "text": [
      "{'FullBody': {'All': 78.47724914550781, 'Talking': 50.60896682739258, 'UpperStretching': 82.81099700927734, 'Walking': 78.39653778076172, 'LowerStretching': 75.71720123291016, 'Gesticuling': 56.216339111328125, 'Greeting': 51.82151412963867, 'Reacting': 61.67622375488281, 'Patting': 76.41690063476562, 'Gaming': 62.41258239746094}, 'UpperBody': {'All': 57.77153778076172, 'Talking': 40.33823013305664, 'UpperStretching': 64.3504638671875, 'Walking': 51.00297164916992, 'LowerStretching': 46.62782669067383, 'Gesticuling': 46.67832565307617, 'Greeting': 39.569026947021484, 'Reacting': 53.28360366821289, 'Patting': 54.87577438354492, 'Gaming': 45.450870513916016}, 'LowerBody': {'All': 99.18295288085938, 'Talking': 60.879695892333984, 'UpperStretching': 101.27153778076172, 'Walking': 105.79010772705078, 'LowerStretching': 104.80655670166016, 'Gesticuling': 65.75435638427734, 'Greeting': 64.07402038574219, 'Reacting': 70.06884765625, 'Patting': 97.9580307006836, 'Gaming': 79.37428283691406}}\n"
     ]
    },
    {
     "name": "stderr",
     "output_type": "stream",
     "text": [
      " 97%|█████████▋| 5201/5352 [13:00<00:24,  6.19it/s]"
     ]
    },
    {
     "name": "stdout",
     "output_type": "stream",
     "text": [
      "{'FullBody': {'All': 78.4993667602539, 'Talking': 50.59916305541992, 'UpperStretching': 82.83270263671875, 'Walking': 78.41805267333984, 'LowerStretching': 75.6993637084961, 'Gesticuling': 56.17859649658203, 'Greeting': 51.88465881347656, 'Reacting': 61.64540100097656, 'Patting': 76.34806060791016, 'Gaming': 62.441219329833984}, 'UpperBody': {'All': 57.80031204223633, 'Talking': 40.264259338378906, 'UpperStretching': 64.37020111083984, 'Walking': 51.042240142822266, 'LowerStretching': 46.61354064941406, 'Gesticuling': 46.64200210571289, 'Greeting': 39.58290100097656, 'Reacting': 53.41008377075195, 'Patting': 54.925048828125, 'Gaming': 45.44209671020508}, 'LowerBody': {'All': 99.19843292236328, 'Talking': 60.9340705871582, 'UpperStretching': 101.29521942138672, 'Walking': 105.79386901855469, 'LowerStretching': 104.78518676757812, 'Gesticuling': 65.71519470214844, 'Greeting': 64.18641662597656, 'Reacting': 69.88072967529297, 'Patting': 97.77107238769531, 'Gaming': 79.44034576416016}}\n"
     ]
    },
    {
     "name": "stderr",
     "output_type": "stream",
     "text": [
      "100%|██████████| 5352/5352 [13:22<00:00,  6.67it/s]\n",
      "\u001b[94m19:40:11 \u001b[92m[INFO]\u001b[94m Main\u001b[0m: Saving evaluation results...\n",
      "\u001b[94m19:40:11 \u001b[92m[INFO]\u001b[94m Main\u001b[0m: Done.\n",
      "\u001b[94m19:40:11 \u001b[92m[INFO]\u001b[94m Main\u001b[0m: Starting demo...\n",
      "  0%|          | 0/5352 [00:00<?, ?it/s]/opt/conda/lib/python3.10/site-packages/torchvision/transforms/transforms.py:329: UserWarning: Argument 'interpolation' of type int is deprecated since 0.13 and will be removed in 0.15. Please use InterpolationMode enum.\n",
      "  warnings.warn(\n",
      "/opt/conda/lib/python3.10/site-packages/torchvision/transforms/transforms.py:329: UserWarning: Argument 'interpolation' of type int is deprecated since 0.13 and will be removed in 0.15. Please use InterpolationMode enum.\n",
      "  warnings.warn(\n",
      "/opt/conda/lib/python3.10/site-packages/torchvision/transforms/transforms.py:329: UserWarning: Argument 'interpolation' of type int is deprecated since 0.13 and will be removed in 0.15. Please use InterpolationMode enum.\n",
      "  warnings.warn(\n",
      "/opt/conda/lib/python3.10/site-packages/torchvision/transforms/transforms.py:329: UserWarning: Argument 'interpolation' of type int is deprecated since 0.13 and will be removed in 0.15. Please use InterpolationMode enum.\n",
      "  warnings.warn(\n",
      "/opt/conda/lib/python3.10/site-packages/torchvision/transforms/transforms.py:329: UserWarning: Argument 'interpolation' of type int is deprecated since 0.13 and will be removed in 0.15. Please use InterpolationMode enum.\n",
      "  warnings.warn(\n",
      "/opt/conda/lib/python3.10/site-packages/torchvision/transforms/transforms.py:329: UserWarning: Argument 'interpolation' of type int is deprecated since 0.13 and will be removed in 0.15. Please use InterpolationMode enum.\n",
      "  warnings.warn(\n",
      "/opt/conda/lib/python3.10/site-packages/torchvision/transforms/transforms.py:329: UserWarning: Argument 'interpolation' of type int is deprecated since 0.13 and will be removed in 0.15. Please use InterpolationMode enum.\n",
      "  warnings.warn(\n",
      "/opt/conda/lib/python3.10/site-packages/torchvision/transforms/transforms.py:329: UserWarning: Argument 'interpolation' of type int is deprecated since 0.13 and will be removed in 0.15. Please use InterpolationMode enum.\n",
      "  warnings.warn(\n",
      "/opt/conda/lib/python3.10/site-packages/torchvision/transforms/transforms.py:329: UserWarning: Argument 'interpolation' of type int is deprecated since 0.13 and will be removed in 0.15. Please use InterpolationMode enum.\n",
      "  warnings.warn(\n",
      "/opt/conda/lib/python3.10/site-packages/torchvision/transforms/transforms.py:329: UserWarning: Argument 'interpolation' of type int is deprecated since 0.13 and will be removed in 0.15. Please use InterpolationMode enum.\n",
      "  warnings.warn(\n",
      "/opt/conda/lib/python3.10/site-packages/torchvision/transforms/transforms.py:329: UserWarning: Argument 'interpolation' of type int is deprecated since 0.13 and will be removed in 0.15. Please use InterpolationMode enum.\n",
      "  warnings.warn(\n",
      "/opt/conda/lib/python3.10/site-packages/torchvision/transforms/transforms.py:329: UserWarning: Argument 'interpolation' of type int is deprecated since 0.13 and will be removed in 0.15. Please use InterpolationMode enum.\n",
      "  warnings.warn(\n",
      "/opt/conda/lib/python3.10/site-packages/torchvision/transforms/transforms.py:329: UserWarning: Argument 'interpolation' of type int is deprecated since 0.13 and will be removed in 0.15. Please use InterpolationMode enum.\n",
      "  warnings.warn(\n",
      "/opt/conda/lib/python3.10/site-packages/torchvision/transforms/transforms.py:329: UserWarning: Argument 'interpolation' of type int is deprecated since 0.13 and will be removed in 0.15. Please use InterpolationMode enum.\n",
      "  warnings.warn(\n",
      "/opt/conda/lib/python3.10/site-packages/torchvision/transforms/transforms.py:329: UserWarning: Argument 'interpolation' of type int is deprecated since 0.13 and will be removed in 0.15. Please use InterpolationMode enum.\n",
      "  warnings.warn(\n",
      "/opt/conda/lib/python3.10/site-packages/torchvision/transforms/transforms.py:329: UserWarning: Argument 'interpolation' of type int is deprecated since 0.13 and will be removed in 0.15. Please use InterpolationMode enum.\n",
      "  warnings.warn(\n",
      "/opt/conda/lib/python3.10/site-packages/torchvision/transforms/transforms.py:329: UserWarning: Argument 'interpolation' of type int is deprecated since 0.13 and will be removed in 0.15. Please use InterpolationMode enum.\n",
      "  warnings.warn(\n",
      "/opt/conda/lib/python3.10/site-packages/torchvision/transforms/transforms.py:329: UserWarning: Argument 'interpolation' of type int is deprecated since 0.13 and will be removed in 0.15. Please use InterpolationMode enum.\n",
      "  warnings.warn(\n",
      "/opt/conda/lib/python3.10/site-packages/torchvision/transforms/transforms.py:329: UserWarning: Argument 'interpolation' of type int is deprecated since 0.13 and will be removed in 0.15. Please use InterpolationMode enum.\n",
      "  warnings.warn(\n",
      "/opt/conda/lib/python3.10/site-packages/torchvision/transforms/transforms.py:329: UserWarning: Argument 'interpolation' of type int is deprecated since 0.13 and will be removed in 0.15. Please use InterpolationMode enum.\n",
      "  warnings.warn(\n",
      "/opt/conda/lib/python3.10/site-packages/torchvision/transforms/transforms.py:329: UserWarning: Argument 'interpolation' of type int is deprecated since 0.13 and will be removed in 0.15. Please use InterpolationMode enum.\n",
      "  warnings.warn(\n",
      "/opt/conda/lib/python3.10/site-packages/torchvision/transforms/transforms.py:329: UserWarning: Argument 'interpolation' of type int is deprecated since 0.13 and will be removed in 0.15. Please use InterpolationMode enum.\n",
      "  warnings.warn(\n",
      "/opt/conda/lib/python3.10/site-packages/torchvision/transforms/transforms.py:329: UserWarning: Argument 'interpolation' of type int is deprecated since 0.13 and will be removed in 0.15. Please use InterpolationMode enum.\n",
      "  warnings.warn(\n",
      "/opt/conda/lib/python3.10/site-packages/torchvision/transforms/transforms.py:329: UserWarning: Argument 'interpolation' of type int is deprecated since 0.13 and will be removed in 0.15. Please use InterpolationMode enum.\n",
      "  warnings.warn(\n",
      "  4%|▍         | 201/5352 [00:35<13:22,  6.42it/s]"
     ]
    },
    {
     "name": "stdout",
     "output_type": "stream",
     "text": [
      "{'FullBody': {'All': 71.13876342773438, 'LowerStretching': 64.9798583984375, 'UpperStretching': 75.4061279296875, 'Walking': 70.86885070800781, 'Gesticuling': 58.28611755371094, 'Patting': 72.93680572509766, 'Greeting': 55.96599578857422, 'Talking': 47.60315704345703, 'Gaming': 62.69139862060547, 'Reacting': 53.69842529296875}, 'UpperBody': {'All': 50.94480514526367, 'LowerStretching': 40.27264404296875, 'UpperStretching': 56.20632553100586, 'Walking': 45.19517135620117, 'Gesticuling': 51.4117317199707, 'Patting': 48.31847381591797, 'Greeting': 45.11787033081055, 'Talking': 40.0914306640625, 'Gaming': 44.63885498046875, 'Reacting': 48.2271728515625}, 'LowerBody': {'All': 91.33271789550781, 'LowerStretching': 89.68706512451172, 'UpperStretching': 94.60592651367188, 'Walking': 96.54253387451172, 'Gesticuling': 65.16050720214844, 'Patting': 97.55516052246094, 'Greeting': 66.8141098022461, 'Talking': 55.11488723754883, 'Gaming': 80.74394226074219, 'Reacting': 59.1696891784668}}\n"
     ]
    },
    {
     "name": "stderr",
     "output_type": "stream",
     "text": [
      "  7%|▋         | 401/5352 [01:05<12:11,  6.77it/s]"
     ]
    },
    {
     "name": "stdout",
     "output_type": "stream",
     "text": [
      "{'FullBody': {'All': 71.70532989501953, 'LowerStretching': 65.93538665771484, 'UpperStretching': 75.8734130859375, 'Walking': 72.3191909790039, 'Gesticuling': 56.97481155395508, 'Patting': 70.17860412597656, 'Greeting': 52.47785186767578, 'Talking': 47.64836502075195, 'Gaming': 61.23800277709961, 'Reacting': 57.09197998046875}, 'UpperBody': {'All': 51.739200592041016, 'LowerStretching': 41.01227951049805, 'UpperStretching': 57.04619598388672, 'Walking': 46.392311096191406, 'Gesticuling': 49.77000427246094, 'Patting': 48.335472106933594, 'Greeting': 42.799354553222656, 'Talking': 39.04508972167969, 'Gaming': 44.279388427734375, 'Reacting': 50.36829376220703}, 'LowerBody': {'All': 91.67145538330078, 'LowerStretching': 90.85848236083984, 'UpperStretching': 94.70062255859375, 'Walking': 98.24605560302734, 'Gesticuling': 64.17961120605469, 'Patting': 92.02173614501953, 'Greeting': 62.15635299682617, 'Talking': 56.25164794921875, 'Gaming': 78.19661712646484, 'Reacting': 63.815670013427734}}\n"
     ]
    },
    {
     "name": "stderr",
     "output_type": "stream",
     "text": [
      " 11%|█         | 601/5352 [01:35<11:25,  6.93it/s]"
     ]
    },
    {
     "name": "stdout",
     "output_type": "stream",
     "text": [
      "{'FullBody': {'All': 71.84297180175781, 'LowerStretching': 67.22026062011719, 'UpperStretching': 75.71546173095703, 'Walking': 72.41956329345703, 'Gesticuling': 54.5884895324707, 'Patting': 70.68792724609375, 'Greeting': 54.40165328979492, 'Talking': 47.80074691772461, 'Gaming': 59.9406623840332, 'Reacting': 57.268741607666016}, 'UpperBody': {'All': 51.83256149291992, 'LowerStretching': 41.475547790527344, 'UpperStretching': 56.88880920410156, 'Walking': 46.7310676574707, 'Gesticuling': 47.87213134765625, 'Patting': 49.55044937133789, 'Greeting': 44.28821563720703, 'Talking': 39.47652053833008, 'Gaming': 44.75282669067383, 'Reacting': 50.25083541870117}, 'LowerBody': {'All': 91.8533706665039, 'LowerStretching': 92.96495819091797, 'UpperStretching': 94.54209899902344, 'Walking': 98.1080551147461, 'Gesticuling': 61.30483627319336, 'Patting': 91.82540130615234, 'Greeting': 64.51509094238281, 'Talking': 56.12496566772461, 'Gaming': 75.12850189208984, 'Reacting': 64.28665924072266}}\n"
     ]
    },
    {
     "name": "stderr",
     "output_type": "stream",
     "text": [
      " 15%|█▍        | 801/5352 [02:04<11:58,  6.33it/s]"
     ]
    },
    {
     "name": "stdout",
     "output_type": "stream",
     "text": [
      "{'FullBody': {'All': 71.70503234863281, 'LowerStretching': 66.8264389038086, 'UpperStretching': 75.7740249633789, 'Walking': 72.13848876953125, 'Gesticuling': 54.71174240112305, 'Patting': 69.64566802978516, 'Greeting': 52.612525939941406, 'Talking': 48.445133209228516, 'Gaming': 59.454219818115234, 'Reacting': 57.03158950805664}, 'UpperBody': {'All': 51.84479522705078, 'LowerStretching': 41.26466369628906, 'UpperStretching': 57.08021926879883, 'Walking': 46.48540115356445, 'Gesticuling': 47.81100082397461, 'Patting': 49.85725784301758, 'Greeting': 42.92686462402344, 'Talking': 39.554405212402344, 'Gaming': 44.93169021606445, 'Reacting': 49.116065979003906}, 'LowerBody': {'All': 91.56527709960938, 'LowerStretching': 92.38819885253906, 'UpperStretching': 94.46783447265625, 'Walking': 97.79157257080078, 'Gesticuling': 61.612491607666016, 'Patting': 89.43407440185547, 'Greeting': 62.29819107055664, 'Talking': 57.335845947265625, 'Gaming': 73.97675323486328, 'Reacting': 64.94711303710938}}\n"
     ]
    },
    {
     "name": "stderr",
     "output_type": "stream",
     "text": [
      " 19%|█▊        | 1001/5352 [02:34<10:23,  6.98it/s]"
     ]
    },
    {
     "name": "stdout",
     "output_type": "stream",
     "text": [
      "{'FullBody': {'All': 71.39917755126953, 'LowerStretching': 66.54428100585938, 'UpperStretching': 75.40757751464844, 'Walking': 71.9930419921875, 'Gesticuling': 54.44968032836914, 'Patting': 70.22393798828125, 'Greeting': 52.67451095581055, 'Talking': 48.44684982299805, 'Gaming': 59.52761459350586, 'Reacting': 57.90736389160156}, 'UpperBody': {'All': 51.70259094238281, 'LowerStretching': 41.16819381713867, 'UpperStretching': 56.971092224121094, 'Walking': 46.25526428222656, 'Gesticuling': 47.90208435058594, 'Patting': 50.21485137939453, 'Greeting': 43.067630767822266, 'Talking': 39.10061264038086, 'Gaming': 44.749916076660156, 'Reacting': 49.828372955322266}, 'LowerBody': {'All': 91.09576416015625, 'LowerStretching': 91.92037963867188, 'UpperStretching': 93.84407043457031, 'Walking': 97.73082733154297, 'Gesticuling': 60.997283935546875, 'Patting': 90.2330322265625, 'Greeting': 62.28139114379883, 'Talking': 57.7930793762207, 'Gaming': 74.30531311035156, 'Reacting': 65.98635864257812}}\n"
     ]
    },
    {
     "name": "stderr",
     "output_type": "stream",
     "text": [
      " 22%|██▏       | 1201/5352 [03:04<09:57,  6.94it/s]"
     ]
    },
    {
     "name": "stdout",
     "output_type": "stream",
     "text": [
      "{'FullBody': {'All': 71.36875915527344, 'LowerStretching': 66.61759185791016, 'UpperStretching': 75.35752868652344, 'Walking': 71.79463958740234, 'Gesticuling': 53.888580322265625, 'Patting': 71.87957000732422, 'Greeting': 52.281585693359375, 'Talking': 47.709197998046875, 'Gaming': 59.1391487121582, 'Reacting': 58.24995803833008}, 'UpperBody': {'All': 51.7596435546875, 'LowerStretching': 41.21329879760742, 'UpperStretching': 57.03374481201172, 'Walking': 46.18574142456055, 'Gesticuling': 47.266357421875, 'Patting': 51.31768798828125, 'Greeting': 42.67129135131836, 'Talking': 38.56132888793945, 'Gaming': 44.37710952758789, 'Reacting': 50.06258773803711}, 'LowerBody': {'All': 90.97786712646484, 'LowerStretching': 92.02188110351562, 'UpperStretching': 93.68132019042969, 'Walking': 97.40351867675781, 'Gesticuling': 60.51080322265625, 'Patting': 92.44145202636719, 'Greeting': 61.89188766479492, 'Talking': 56.8570671081543, 'Gaming': 73.90119171142578, 'Reacting': 66.43732452392578}}\n"
     ]
    },
    {
     "name": "stderr",
     "output_type": "stream",
     "text": [
      " 26%|██▌       | 1401/5352 [03:33<10:37,  6.20it/s]"
     ]
    },
    {
     "name": "stdout",
     "output_type": "stream",
     "text": [
      "{'FullBody': {'All': 71.358154296875, 'LowerStretching': 66.67341613769531, 'UpperStretching': 75.23346710205078, 'Walking': 71.93888854980469, 'Gesticuling': 53.460140228271484, 'Patting': 73.84021759033203, 'Greeting': 52.71142578125, 'Talking': 48.23353576660156, 'Gaming': 59.47641372680664, 'Reacting': 58.336063385009766}, 'UpperBody': {'All': 51.81401824951172, 'LowerStretching': 41.10107421875, 'UpperStretching': 57.10797119140625, 'Walking': 46.33452606201172, 'Gesticuling': 46.575016021728516, 'Patting': 52.47587585449219, 'Greeting': 43.130897521972656, 'Talking': 38.98848342895508, 'Gaming': 44.82731628417969, 'Reacting': 50.1854133605957}, 'LowerBody': {'All': 90.90228271484375, 'LowerStretching': 92.24575805664062, 'UpperStretching': 93.35896301269531, 'Walking': 97.54324340820312, 'Gesticuling': 60.34526443481445, 'Patting': 95.20455932617188, 'Greeting': 62.29196548461914, 'Talking': 57.47858428955078, 'Gaming': 74.12550354003906, 'Reacting': 66.4867172241211}}\n"
     ]
    },
    {
     "name": "stderr",
     "output_type": "stream",
     "text": [
      " 30%|██▉       | 1601/5352 [04:03<09:09,  6.83it/s]"
     ]
    },
    {
     "name": "stdout",
     "output_type": "stream",
     "text": [
      "{'FullBody': {'All': 71.38786315917969, 'LowerStretching': 66.8006362915039, 'UpperStretching': 75.1846923828125, 'Walking': 71.92725372314453, 'Gesticuling': 53.227149963378906, 'Patting': 75.58207702636719, 'Greeting': 53.07114028930664, 'Talking': 47.957244873046875, 'Gaming': 59.56745529174805, 'Reacting': 58.397464752197266}, 'UpperBody': {'All': 51.865413665771484, 'LowerStretching': 41.10021209716797, 'UpperStretching': 57.14689254760742, 'Walking': 46.38157272338867, 'Gesticuling': 46.14488220214844, 'Patting': 52.42760467529297, 'Greeting': 43.49666976928711, 'Talking': 38.93226623535156, 'Gaming': 44.93136215209961, 'Reacting': 50.36551284790039}, 'LowerBody': {'All': 90.9103012084961, 'LowerStretching': 92.50106811523438, 'UpperStretching': 93.22250366210938, 'Walking': 97.47293090820312, 'Gesticuling': 60.30941390991211, 'Patting': 98.73655700683594, 'Greeting': 62.645606994628906, 'Talking': 56.98222351074219, 'Gaming': 74.20355224609375, 'Reacting': 66.42940521240234}}\n"
     ]
    },
    {
     "name": "stderr",
     "output_type": "stream",
     "text": [
      " 34%|███▎      | 1801/5352 [04:32<08:48,  6.72it/s]"
     ]
    },
    {
     "name": "stdout",
     "output_type": "stream",
     "text": [
      "{'FullBody': {'All': 71.4560317993164, 'LowerStretching': 67.05264282226562, 'UpperStretching': 75.17647552490234, 'Walking': 71.83936309814453, 'Gesticuling': 53.470115661621094, 'Patting': 76.38739013671875, 'Greeting': 52.672183990478516, 'Talking': 48.46432113647461, 'Gaming': 60.17402648925781, 'Reacting': 58.446537017822266}, 'UpperBody': {'All': 51.90348815917969, 'LowerStretching': 41.170955657958984, 'UpperStretching': 57.15168380737305, 'Walking': 46.35315704345703, 'Gesticuling': 46.422874450683594, 'Patting': 53.0024299621582, 'Greeting': 43.10838317871094, 'Talking': 39.225440979003906, 'Gaming': 44.98887634277344, 'Reacting': 50.4884033203125}, 'LowerBody': {'All': 91.00857543945312, 'LowerStretching': 92.93434143066406, 'UpperStretching': 93.20127868652344, 'Walking': 97.32556915283203, 'Gesticuling': 60.51736068725586, 'Patting': 99.77236938476562, 'Greeting': 62.23597717285156, 'Talking': 57.70320129394531, 'Gaming': 75.35918426513672, 'Reacting': 66.40467071533203}}\n"
     ]
    },
    {
     "name": "stderr",
     "output_type": "stream",
     "text": [
      " 37%|███▋      | 2001/5352 [05:02<08:53,  6.28it/s]"
     ]
    },
    {
     "name": "stdout",
     "output_type": "stream",
     "text": [
      "{'FullBody': {'All': 71.49059295654297, 'LowerStretching': 67.18714141845703, 'UpperStretching': 75.19303131103516, 'Walking': 71.87420654296875, 'Gesticuling': 53.040714263916016, 'Patting': 76.04199981689453, 'Greeting': 52.79929733276367, 'Talking': 48.13608169555664, 'Gaming': 60.50659942626953, 'Reacting': 58.56340026855469}, 'UpperBody': {'All': 51.93796920776367, 'LowerStretching': 41.23827362060547, 'UpperStretching': 57.096309661865234, 'Walking': 46.59190368652344, 'Gesticuling': 46.141780853271484, 'Patting': 52.969451904296875, 'Greeting': 43.197078704833984, 'Talking': 39.14162826538086, 'Gaming': 45.095375061035156, 'Reacting': 50.85493850708008}, 'LowerBody': {'All': 91.04322052001953, 'LowerStretching': 93.13600158691406, 'UpperStretching': 93.28975677490234, 'Walking': 97.156494140625, 'Gesticuling': 59.939640045166016, 'Patting': 99.11453247070312, 'Greeting': 62.401512145996094, 'Talking': 57.130531311035156, 'Gaming': 75.91781616210938, 'Reacting': 66.27186584472656}}\n"
     ]
    },
    {
     "name": "stderr",
     "output_type": "stream",
     "text": [
      " 41%|████      | 2201/5352 [05:31<07:37,  6.89it/s]"
     ]
    },
    {
     "name": "stdout",
     "output_type": "stream",
     "text": [
      "{'FullBody': {'All': 71.57977294921875, 'LowerStretching': 67.19784545898438, 'UpperStretching': 75.39700317382812, 'Walking': 71.72049713134766, 'Gesticuling': 53.00801467895508, 'Patting': 75.4658203125, 'Greeting': 52.60870361328125, 'Talking': 48.115394592285156, 'Gaming': 60.424720764160156, 'Reacting': 58.798133850097656}, 'UpperBody': {'All': 51.9653205871582, 'LowerStretching': 41.309608459472656, 'UpperStretching': 57.18532180786133, 'Walking': 46.53675079345703, 'Gesticuling': 45.958003997802734, 'Patting': 52.57832717895508, 'Greeting': 42.956634521484375, 'Talking': 39.305240631103516, 'Gaming': 44.96289825439453, 'Reacting': 50.800716400146484}, 'LowerBody': {'All': 91.1942367553711, 'LowerStretching': 93.08609771728516, 'UpperStretching': 93.60868072509766, 'Walking': 96.90423583984375, 'Gesticuling': 60.058021545410156, 'Patting': 98.35330963134766, 'Greeting': 62.26076889038086, 'Talking': 56.92554473876953, 'Gaming': 75.88655090332031, 'Reacting': 66.79556274414062}}\n"
     ]
    },
    {
     "name": "stderr",
     "output_type": "stream",
     "text": [
      " 45%|████▍     | 2401/5352 [06:01<07:22,  6.67it/s]"
     ]
    },
    {
     "name": "stdout",
     "output_type": "stream",
     "text": [
      "{'FullBody': {'All': 71.70011901855469, 'LowerStretching': 67.1771011352539, 'UpperStretching': 75.5052719116211, 'Walking': 72.00703430175781, 'Gesticuling': 53.183738708496094, 'Patting': 76.31487274169922, 'Greeting': 52.75982666015625, 'Talking': 47.961421966552734, 'Gaming': 60.37883758544922, 'Reacting': 59.21908950805664}, 'UpperBody': {'All': 52.01758575439453, 'LowerStretching': 41.288169860839844, 'UpperStretching': 57.24217987060547, 'Walking': 46.682518005371094, 'Gesticuling': 46.045894622802734, 'Patting': 53.17811965942383, 'Greeting': 43.23031997680664, 'Talking': 39.07099914550781, 'Gaming': 44.9456672668457, 'Reacting': 51.031558990478516}, 'LowerBody': {'All': 91.38264465332031, 'LowerStretching': 93.06602478027344, 'UpperStretching': 93.76835632324219, 'Walking': 97.33153533935547, 'Gesticuling': 60.32157516479492, 'Patting': 99.45164489746094, 'Greeting': 62.289337158203125, 'Talking': 56.85184097290039, 'Gaming': 75.81201171875, 'Reacting': 67.40662384033203}}\n"
     ]
    },
    {
     "name": "stderr",
     "output_type": "stream",
     "text": [
      " 49%|████▊     | 2601/5352 [06:31<07:44,  5.92it/s]"
     ]
    },
    {
     "name": "stdout",
     "output_type": "stream",
     "text": [
      "{'FullBody': {'All': 71.67137145996094, 'LowerStretching': 67.20879364013672, 'UpperStretching': 75.45808410644531, 'Walking': 71.89578247070312, 'Gesticuling': 53.17320251464844, 'Patting': 75.9378662109375, 'Greeting': 52.45118713378906, 'Talking': 48.09480667114258, 'Gaming': 60.184627532958984, 'Reacting': 59.50674819946289}, 'UpperBody': {'All': 51.99806594848633, 'LowerStretching': 41.338478088378906, 'UpperStretching': 57.19851303100586, 'Walking': 46.592369079589844, 'Gesticuling': 46.153324127197266, 'Patting': 53.02596664428711, 'Greeting': 43.051578521728516, 'Talking': 39.27072525024414, 'Gaming': 44.824073791503906, 'Reacting': 51.239097595214844}, 'LowerBody': {'All': 91.34468078613281, 'LowerStretching': 93.07911682128906, 'UpperStretching': 93.71765899658203, 'Walking': 97.19918823242188, 'Gesticuling': 60.193077087402344, 'Patting': 98.8497543334961, 'Greeting': 61.850799560546875, 'Talking': 56.91889190673828, 'Gaming': 75.54517364501953, 'Reacting': 67.7743911743164}}\n"
     ]
    },
    {
     "name": "stderr",
     "output_type": "stream",
     "text": [
      " 52%|█████▏    | 2801/5352 [07:01<06:19,  6.71it/s]"
     ]
    },
    {
     "name": "stdout",
     "output_type": "stream",
     "text": [
      "{'FullBody': {'All': 71.59639739990234, 'LowerStretching': 67.20135498046875, 'UpperStretching': 75.38386535644531, 'Walking': 71.7585678100586, 'Gesticuling': 53.05665588378906, 'Patting': 75.76404571533203, 'Greeting': 52.563961029052734, 'Talking': 47.851715087890625, 'Gaming': 60.36604309082031, 'Reacting': 59.61164474487305}, 'UpperBody': {'All': 51.94474411010742, 'LowerStretching': 41.33327102661133, 'UpperStretching': 57.146881103515625, 'Walking': 46.51020812988281, 'Gesticuling': 46.0231819152832, 'Patting': 53.052955627441406, 'Greeting': 43.16643524169922, 'Talking': 39.02664566040039, 'Gaming': 44.854061126708984, 'Reacting': 51.11444854736328}, 'LowerBody': {'All': 91.24805450439453, 'LowerStretching': 93.0694351196289, 'UpperStretching': 93.62085723876953, 'Walking': 97.00691986083984, 'Gesticuling': 60.090126037597656, 'Patting': 98.47512817382812, 'Greeting': 61.96148681640625, 'Talking': 56.676788330078125, 'Gaming': 75.87802124023438, 'Reacting': 68.10884857177734}}\n"
     ]
    },
    {
     "name": "stderr",
     "output_type": "stream",
     "text": [
      " 56%|█████▌    | 3001/5352 [07:30<05:43,  6.84it/s]"
     ]
    },
    {
     "name": "stdout",
     "output_type": "stream",
     "text": [
      "{'FullBody': {'All': 71.55477905273438, 'LowerStretching': 67.15185546875, 'UpperStretching': 75.4264144897461, 'Walking': 71.53470611572266, 'Gesticuling': 52.82974624633789, 'Patting': 74.76385498046875, 'Greeting': 52.7961540222168, 'Talking': 47.681678771972656, 'Gaming': 60.458621978759766, 'Reacting': 59.51800537109375}, 'UpperBody': {'All': 51.90433883666992, 'LowerStretching': 41.27397537231445, 'UpperStretching': 57.15955352783203, 'Walking': 46.3361701965332, 'Gesticuling': 45.78190231323242, 'Patting': 52.58374786376953, 'Greeting': 43.44154739379883, 'Talking': 38.806068420410156, 'Gaming': 44.8568115234375, 'Reacting': 51.120887756347656}, 'LowerBody': {'All': 91.20523071289062, 'LowerStretching': 93.02975463867188, 'UpperStretching': 93.69326782226562, 'Walking': 96.73323822021484, 'Gesticuling': 59.877586364746094, 'Patting': 96.9439697265625, 'Greeting': 62.15076446533203, 'Talking': 56.55729293823242, 'Gaming': 76.06044006347656, 'Reacting': 67.91510772705078}}\n"
     ]
    },
    {
     "name": "stderr",
     "output_type": "stream",
     "text": [
      " 60%|█████▉    | 3201/5352 [08:00<05:53,  6.08it/s]"
     ]
    },
    {
     "name": "stdout",
     "output_type": "stream",
     "text": [
      "{'FullBody': {'All': 71.63186645507812, 'LowerStretching': 67.32292938232422, 'UpperStretching': 75.46774291992188, 'Walking': 71.68475341796875, 'Gesticuling': 52.900386810302734, 'Patting': 74.2728042602539, 'Greeting': 52.56429672241211, 'Talking': 47.77235794067383, 'Gaming': 60.50928497314453, 'Reacting': 59.80734634399414}, 'UpperBody': {'All': 51.95547866821289, 'LowerStretching': 41.29344940185547, 'UpperStretching': 57.20806121826172, 'Walking': 46.359619140625, 'Gesticuling': 45.802032470703125, 'Patting': 52.26952362060547, 'Greeting': 43.26176071166992, 'Talking': 39.07516098022461, 'Gaming': 44.89533615112305, 'Reacting': 51.602935791015625}, 'LowerBody': {'All': 91.30825805664062, 'LowerStretching': 93.35242462158203, 'UpperStretching': 93.72743225097656, 'Walking': 97.00987243652344, 'Gesticuling': 59.99873733520508, 'Patting': 96.2761001586914, 'Greeting': 61.866844177246094, 'Talking': 56.46955108642578, 'Gaming': 76.12323760986328, 'Reacting': 68.01175689697266}}\n"
     ]
    },
    {
     "name": "stderr",
     "output_type": "stream",
     "text": [
      " 64%|██████▎   | 3401/5352 [08:30<04:55,  6.61it/s]"
     ]
    },
    {
     "name": "stdout",
     "output_type": "stream",
     "text": [
      "{'FullBody': {'All': 71.6776351928711, 'LowerStretching': 67.1817398071289, 'UpperStretching': 75.58843231201172, 'Walking': 71.61982727050781, 'Gesticuling': 52.9243278503418, 'Patting': 74.11137390136719, 'Greeting': 52.70486068725586, 'Talking': 47.76417541503906, 'Gaming': 60.402626037597656, 'Reacting': 59.63747787475586}, 'UpperBody': {'All': 51.99291229248047, 'LowerStretching': 41.24356460571289, 'UpperStretching': 57.2844352722168, 'Walking': 46.342350006103516, 'Gesticuling': 45.826271057128906, 'Patting': 51.96965789794922, 'Greeting': 43.38138198852539, 'Talking': 39.111549377441406, 'Gaming': 44.801918029785156, 'Reacting': 51.35342025756836}, 'LowerBody': {'All': 91.36236572265625, 'LowerStretching': 93.11991882324219, 'UpperStretching': 93.8924331665039, 'Walking': 96.89730834960938, 'Gesticuling': 60.02238082885742, 'Patting': 96.25308227539062, 'Greeting': 62.02833557128906, 'Talking': 56.416805267333984, 'Gaming': 76.00333404541016, 'Reacting': 67.9215316772461}}\n"
     ]
    },
    {
     "name": "stderr",
     "output_type": "stream",
     "text": [
      " 67%|██████▋   | 3601/5352 [09:00<04:20,  6.73it/s]"
     ]
    },
    {
     "name": "stdout",
     "output_type": "stream",
     "text": [
      "{'FullBody': {'All': 71.67914581298828, 'LowerStretching': 67.16352844238281, 'UpperStretching': 75.5910415649414, 'Walking': 71.572265625, 'Gesticuling': 52.94425582885742, 'Patting': 74.26347351074219, 'Greeting': 52.63474655151367, 'Talking': 47.64537048339844, 'Gaming': 60.3974609375, 'Reacting': 59.69906234741211}, 'UpperBody': {'All': 52.00542449951172, 'LowerStretching': 41.22481918334961, 'UpperStretching': 57.30747604370117, 'Walking': 46.33774185180664, 'Gesticuling': 45.748329162597656, 'Patting': 52.05257034301758, 'Greeting': 43.356178283691406, 'Talking': 39.01477813720703, 'Gaming': 44.827239990234375, 'Reacting': 51.34657287597656}, 'LowerBody': {'All': 91.35286712646484, 'LowerStretching': 93.10225677490234, 'UpperStretching': 93.8746109008789, 'Walking': 96.80679321289062, 'Gesticuling': 60.14019775390625, 'Patting': 96.4743881225586, 'Greeting': 61.91331100463867, 'Talking': 56.275962829589844, 'Gaming': 75.96768188476562, 'Reacting': 68.05155181884766}}\n"
     ]
    },
    {
     "name": "stderr",
     "output_type": "stream",
     "text": [
      " 71%|███████   | 3801/5352 [09:30<04:12,  6.14it/s]"
     ]
    },
    {
     "name": "stdout",
     "output_type": "stream",
     "text": [
      "{'FullBody': {'All': 71.68772888183594, 'LowerStretching': 67.16365814208984, 'UpperStretching': 75.60503387451172, 'Walking': 71.66142272949219, 'Gesticuling': 52.872005462646484, 'Patting': 73.82819366455078, 'Greeting': 52.627845764160156, 'Talking': 47.652339935302734, 'Gaming': 60.48809051513672, 'Reacting': 59.73216247558594}, 'UpperBody': {'All': 51.99333190917969, 'LowerStretching': 41.210479736328125, 'UpperStretching': 57.29731750488281, 'Walking': 46.37790298461914, 'Gesticuling': 45.760982513427734, 'Patting': 51.71364212036133, 'Greeting': 43.25161361694336, 'Talking': 38.90518569946289, 'Gaming': 44.859493255615234, 'Reacting': 51.398223876953125}, 'LowerBody': {'All': 91.38211822509766, 'LowerStretching': 93.11685943603516, 'UpperStretching': 93.91275787353516, 'Walking': 96.94493103027344, 'Gesticuling': 59.983028411865234, 'Patting': 95.94274139404297, 'Greeting': 62.00407409667969, 'Talking': 56.39949417114258, 'Gaming': 76.11670684814453, 'Reacting': 68.06610107421875}}\n"
     ]
    },
    {
     "name": "stderr",
     "output_type": "stream",
     "text": [
      " 75%|███████▍  | 4001/5352 [10:00<03:25,  6.58it/s]"
     ]
    },
    {
     "name": "stdout",
     "output_type": "stream",
     "text": [
      "{'FullBody': {'All': 71.66973114013672, 'LowerStretching': 67.18285369873047, 'UpperStretching': 75.59720611572266, 'Walking': 71.50825500488281, 'Gesticuling': 52.8458251953125, 'Patting': 73.8382797241211, 'Greeting': 52.51114273071289, 'Talking': 47.57556915283203, 'Gaming': 60.55507278442383, 'Reacting': 59.75791549682617}, 'UpperBody': {'All': 51.98423767089844, 'LowerStretching': 41.24733352661133, 'UpperStretching': 57.2904052734375, 'Walking': 46.30307388305664, 'Gesticuling': 45.65114974975586, 'Patting': 51.78764724731445, 'Greeting': 43.134849548339844, 'Talking': 38.842254638671875, 'Gaming': 44.80813980102539, 'Reacting': 51.31141662597656}, 'LowerBody': {'All': 91.35521697998047, 'LowerStretching': 93.11837768554688, 'UpperStretching': 93.90401458740234, 'Walking': 96.71343231201172, 'Gesticuling': 60.04050064086914, 'Patting': 95.88892364501953, 'Greeting': 61.887428283691406, 'Talking': 56.30889129638672, 'Gaming': 76.302001953125, 'Reacting': 68.20442199707031}}\n"
     ]
    },
    {
     "name": "stderr",
     "output_type": "stream",
     "text": [
      " 78%|███████▊  | 4201/5352 [10:30<03:02,  6.31it/s]"
     ]
    },
    {
     "name": "stdout",
     "output_type": "stream",
     "text": [
      "{'FullBody': {'All': 71.6357192993164, 'LowerStretching': 67.15152740478516, 'UpperStretching': 75.5557861328125, 'Walking': 71.49958038330078, 'Gesticuling': 52.785831451416016, 'Patting': 74.24205017089844, 'Greeting': 52.241111755371094, 'Talking': 47.532676696777344, 'Gaming': 60.342891693115234, 'Reacting': 59.675296783447266}, 'UpperBody': {'All': 51.982200622558594, 'LowerStretching': 41.23687744140625, 'UpperStretching': 57.286285400390625, 'Walking': 46.3373908996582, 'Gesticuling': 45.571678161621094, 'Patting': 52.109867095947266, 'Greeting': 42.9343376159668, 'Talking': 38.842952728271484, 'Gaming': 44.636898040771484, 'Reacting': 51.157623291015625}, 'LowerBody': {'All': 91.28922271728516, 'LowerStretching': 93.06617736816406, 'UpperStretching': 93.82528686523438, 'Walking': 96.66175842285156, 'Gesticuling': 59.99998092651367, 'Patting': 96.37423706054688, 'Greeting': 61.54788589477539, 'Talking': 56.2224006652832, 'Gaming': 76.04888916015625, 'Reacting': 68.19297790527344}}\n"
     ]
    },
    {
     "name": "stderr",
     "output_type": "stream",
     "text": [
      " 82%|████████▏ | 4401/5352 [11:00<02:43,  5.81it/s]"
     ]
    },
    {
     "name": "stdout",
     "output_type": "stream",
     "text": [
      "{'FullBody': {'All': 71.59575653076172, 'LowerStretching': 67.12191009521484, 'UpperStretching': 75.4784927368164, 'Walking': 71.45332336425781, 'Gesticuling': 52.94951248168945, 'Patting': 74.88397979736328, 'Greeting': 52.32686233520508, 'Talking': 47.61485290527344, 'Gaming': 60.438392639160156, 'Reacting': 59.732582092285156}, 'UpperBody': {'All': 51.963191986083984, 'LowerStretching': 41.24695587158203, 'UpperStretching': 57.240478515625, 'Walking': 46.31401443481445, 'Gesticuling': 45.6894645690918, 'Patting': 52.69065856933594, 'Greeting': 43.05908966064453, 'Talking': 38.8631477355957, 'Gaming': 44.68480682373047, 'Reacting': 51.294010162353516}, 'LowerBody': {'All': 91.22830200195312, 'LowerStretching': 92.99687194824219, 'UpperStretching': 93.71652221679688, 'Walking': 96.59264373779297, 'Gesticuling': 60.20956802368164, 'Patting': 97.07730102539062, 'Greeting': 61.59463119506836, 'Talking': 56.36655807495117, 'Gaming': 76.19197082519531, 'Reacting': 68.17115783691406}}\n"
     ]
    },
    {
     "name": "stderr",
     "output_type": "stream",
     "text": [
      " 86%|████████▌ | 4601/5352 [11:30<01:59,  6.27it/s]"
     ]
    },
    {
     "name": "stdout",
     "output_type": "stream",
     "text": [
      "{'FullBody': {'All': 71.56028747558594, 'LowerStretching': 67.07034301757812, 'UpperStretching': 75.46715545654297, 'Walking': 71.34774017333984, 'Gesticuling': 53.170387268066406, 'Patting': 74.6155014038086, 'Greeting': 52.39051055908203, 'Talking': 47.49335479736328, 'Gaming': 60.584373474121094, 'Reacting': 59.54068374633789}, 'UpperBody': {'All': 51.944114685058594, 'LowerStretching': 41.22754669189453, 'UpperStretching': 57.23618698120117, 'Walking': 46.284629821777344, 'Gesticuling': 45.87378692626953, 'Patting': 52.48293685913086, 'Greeting': 43.12539291381836, 'Talking': 38.801021575927734, 'Gaming': 44.710506439208984, 'Reacting': 51.03006362915039}, 'LowerBody': {'All': 91.17643737792969, 'LowerStretching': 92.91314697265625, 'UpperStretching': 93.6981430053711, 'Walking': 96.4108657836914, 'Gesticuling': 60.46698760986328, 'Patting': 96.7480697631836, 'Greeting': 61.65563201904297, 'Talking': 56.185691833496094, 'Gaming': 76.45823669433594, 'Reacting': 68.05130004882812}}\n"
     ]
    },
    {
     "name": "stderr",
     "output_type": "stream",
     "text": [
      " 90%|████████▉ | 4801/5352 [12:00<01:26,  6.40it/s]"
     ]
    },
    {
     "name": "stdout",
     "output_type": "stream",
     "text": [
      "{'FullBody': {'All': 71.52823638916016, 'LowerStretching': 67.05582427978516, 'UpperStretching': 75.42172241210938, 'Walking': 71.3176040649414, 'Gesticuling': 53.348262786865234, 'Patting': 74.48933410644531, 'Greeting': 52.41510772705078, 'Talking': 47.559425354003906, 'Gaming': 60.674434661865234, 'Reacting': 59.45711135864258}, 'UpperBody': {'All': 51.92245864868164, 'LowerStretching': 41.22515869140625, 'UpperStretching': 57.205326080322266, 'Walking': 46.242271423339844, 'Gesticuling': 46.019386291503906, 'Patting': 52.5162353515625, 'Greeting': 43.0456657409668, 'Talking': 38.90483093261719, 'Gaming': 44.72898864746094, 'Reacting': 51.045936584472656}, 'LowerBody': {'All': 91.13400268554688, 'LowerStretching': 92.8864974975586, 'UpperStretching': 93.63813018798828, 'Walking': 96.39293670654297, 'Gesticuling': 60.6771354675293, 'Patting': 96.46243286132812, 'Greeting': 61.784549713134766, 'Talking': 56.214027404785156, 'Gaming': 76.6198959350586, 'Reacting': 67.8682861328125}}\n"
     ]
    },
    {
     "name": "stderr",
     "output_type": "stream",
     "text": [
      " 93%|█████████▎| 5001/5352 [12:30<01:00,  5.83it/s]"
     ]
    },
    {
     "name": "stdout",
     "output_type": "stream",
     "text": [
      "{'FullBody': {'All': 71.51042938232422, 'LowerStretching': 67.07420349121094, 'UpperStretching': 75.39807891845703, 'Walking': 71.22779846191406, 'Gesticuling': 53.27717208862305, 'Patting': 74.50350189208984, 'Greeting': 52.43886184692383, 'Talking': 47.46612548828125, 'Gaming': 60.732093811035156, 'Reacting': 59.53791427612305}, 'UpperBody': {'All': 51.9193229675293, 'LowerStretching': 41.23040008544922, 'UpperStretching': 57.20561599731445, 'Walking': 46.177154541015625, 'Gesticuling': 45.91547775268555, 'Patting': 52.567047119140625, 'Greeting': 43.12051773071289, 'Talking': 38.823184967041016, 'Gaming': 44.78518295288086, 'Reacting': 50.997310638427734}, 'LowerBody': {'All': 91.1015396118164, 'LowerStretching': 92.91801452636719, 'UpperStretching': 93.5905532836914, 'Walking': 96.2784423828125, 'Gesticuling': 60.63887023925781, 'Patting': 96.43994140625, 'Greeting': 61.75720977783203, 'Talking': 56.10906219482422, 'Gaming': 76.67900848388672, 'Reacting': 68.07852172851562}}\n"
     ]
    },
    {
     "name": "stderr",
     "output_type": "stream",
     "text": [
      " 97%|█████████▋| 5201/5352 [13:00<00:23,  6.38it/s]"
     ]
    },
    {
     "name": "stdout",
     "output_type": "stream",
     "text": [
      "{'FullBody': {'All': 71.5057601928711, 'LowerStretching': 66.95623016357422, 'UpperStretching': 75.42852020263672, 'Walking': 71.3073501586914, 'Gesticuling': 53.406227111816406, 'Patting': 74.18437194824219, 'Greeting': 52.44965744018555, 'Talking': 47.4070930480957, 'Gaming': 60.717586517333984, 'Reacting': 59.53739547729492}, 'UpperBody': {'All': 51.91444778442383, 'LowerStretching': 41.20085144042969, 'UpperStretching': 57.20296096801758, 'Walking': 46.23828887939453, 'Gesticuling': 46.028072357177734, 'Patting': 52.33781433105469, 'Greeting': 43.18681716918945, 'Talking': 38.75167465209961, 'Gaming': 44.82624053955078, 'Reacting': 51.02485656738281}, 'LowerBody': {'All': 91.09705352783203, 'LowerStretching': 92.71162414550781, 'UpperStretching': 93.65409088134766, 'Walking': 96.37641906738281, 'Gesticuling': 60.78437805175781, 'Patting': 96.03092956542969, 'Greeting': 61.71249771118164, 'Talking': 56.06252670288086, 'Gaming': 76.60894012451172, 'Reacting': 68.0499267578125}}\n"
     ]
    },
    {
     "name": "stderr",
     "output_type": "stream",
     "text": [
      "100%|██████████| 5352/5352 [13:23<00:00,  6.66it/s]\n",
      "\u001b[94m19:53:36 \u001b[92m[INFO]\u001b[94m Main\u001b[0m: Saving evaluation results...\n",
      "\u001b[94m19:53:36 \u001b[92m[INFO]\u001b[94m Main\u001b[0m: Done.\n",
      "\u001b[94m19:53:36 \u001b[92m[INFO]\u001b[94m Main\u001b[0m: Starting demo...\n",
      "  0%|          | 0/5352 [00:00<?, ?it/s]/opt/conda/lib/python3.10/site-packages/torchvision/transforms/transforms.py:329: UserWarning: Argument 'interpolation' of type int is deprecated since 0.13 and will be removed in 0.15. Please use InterpolationMode enum.\n",
      "  warnings.warn(\n",
      "/opt/conda/lib/python3.10/site-packages/torchvision/transforms/transforms.py:329: UserWarning: Argument 'interpolation' of type int is deprecated since 0.13 and will be removed in 0.15. Please use InterpolationMode enum.\n",
      "  warnings.warn(\n",
      "/opt/conda/lib/python3.10/site-packages/torchvision/transforms/transforms.py:329: UserWarning: Argument 'interpolation' of type int is deprecated since 0.13 and will be removed in 0.15. Please use InterpolationMode enum.\n",
      "  warnings.warn(\n",
      "/opt/conda/lib/python3.10/site-packages/torchvision/transforms/transforms.py:329: UserWarning: Argument 'interpolation' of type int is deprecated since 0.13 and will be removed in 0.15. Please use InterpolationMode enum.\n",
      "  warnings.warn(\n",
      "/opt/conda/lib/python3.10/site-packages/torchvision/transforms/transforms.py:329: UserWarning: Argument 'interpolation' of type int is deprecated since 0.13 and will be removed in 0.15. Please use InterpolationMode enum.\n",
      "  warnings.warn(\n",
      "/opt/conda/lib/python3.10/site-packages/torchvision/transforms/transforms.py:329: UserWarning: Argument 'interpolation' of type int is deprecated since 0.13 and will be removed in 0.15. Please use InterpolationMode enum.\n",
      "  warnings.warn(\n",
      "/opt/conda/lib/python3.10/site-packages/torchvision/transforms/transforms.py:329: UserWarning: Argument 'interpolation' of type int is deprecated since 0.13 and will be removed in 0.15. Please use InterpolationMode enum.\n",
      "  warnings.warn(\n",
      "/opt/conda/lib/python3.10/site-packages/torchvision/transforms/transforms.py:329: UserWarning: Argument 'interpolation' of type int is deprecated since 0.13 and will be removed in 0.15. Please use InterpolationMode enum.\n",
      "  warnings.warn(\n",
      "/opt/conda/lib/python3.10/site-packages/torchvision/transforms/transforms.py:329: UserWarning: Argument 'interpolation' of type int is deprecated since 0.13 and will be removed in 0.15. Please use InterpolationMode enum.\n",
      "  warnings.warn(\n",
      "/opt/conda/lib/python3.10/site-packages/torchvision/transforms/transforms.py:329: UserWarning: Argument 'interpolation' of type int is deprecated since 0.13 and will be removed in 0.15. Please use InterpolationMode enum.\n",
      "  warnings.warn(\n",
      "/opt/conda/lib/python3.10/site-packages/torchvision/transforms/transforms.py:329: UserWarning: Argument 'interpolation' of type int is deprecated since 0.13 and will be removed in 0.15. Please use InterpolationMode enum.\n",
      "  warnings.warn(\n",
      "/opt/conda/lib/python3.10/site-packages/torchvision/transforms/transforms.py:329: UserWarning: Argument 'interpolation' of type int is deprecated since 0.13 and will be removed in 0.15. Please use InterpolationMode enum.\n",
      "  warnings.warn(\n",
      "/opt/conda/lib/python3.10/site-packages/torchvision/transforms/transforms.py:329: UserWarning: Argument 'interpolation' of type int is deprecated since 0.13 and will be removed in 0.15. Please use InterpolationMode enum.\n",
      "  warnings.warn(\n",
      "/opt/conda/lib/python3.10/site-packages/torchvision/transforms/transforms.py:329: UserWarning: Argument 'interpolation' of type int is deprecated since 0.13 and will be removed in 0.15. Please use InterpolationMode enum.\n",
      "  warnings.warn(\n",
      "/opt/conda/lib/python3.10/site-packages/torchvision/transforms/transforms.py:329: UserWarning: Argument 'interpolation' of type int is deprecated since 0.13 and will be removed in 0.15. Please use InterpolationMode enum.\n",
      "  warnings.warn(\n",
      "/opt/conda/lib/python3.10/site-packages/torchvision/transforms/transforms.py:329: UserWarning: Argument 'interpolation' of type int is deprecated since 0.13 and will be removed in 0.15. Please use InterpolationMode enum.\n",
      "  warnings.warn(\n",
      "/opt/conda/lib/python3.10/site-packages/torchvision/transforms/transforms.py:329: UserWarning: Argument 'interpolation' of type int is deprecated since 0.13 and will be removed in 0.15. Please use InterpolationMode enum.\n",
      "  warnings.warn(\n",
      "/opt/conda/lib/python3.10/site-packages/torchvision/transforms/transforms.py:329: UserWarning: Argument 'interpolation' of type int is deprecated since 0.13 and will be removed in 0.15. Please use InterpolationMode enum.\n",
      "  warnings.warn(\n",
      "/opt/conda/lib/python3.10/site-packages/torchvision/transforms/transforms.py:329: UserWarning: Argument 'interpolation' of type int is deprecated since 0.13 and will be removed in 0.15. Please use InterpolationMode enum.\n",
      "  warnings.warn(\n",
      "/opt/conda/lib/python3.10/site-packages/torchvision/transforms/transforms.py:329: UserWarning: Argument 'interpolation' of type int is deprecated since 0.13 and will be removed in 0.15. Please use InterpolationMode enum.\n",
      "  warnings.warn(\n",
      "/opt/conda/lib/python3.10/site-packages/torchvision/transforms/transforms.py:329: UserWarning: Argument 'interpolation' of type int is deprecated since 0.13 and will be removed in 0.15. Please use InterpolationMode enum.\n",
      "  warnings.warn(\n",
      "/opt/conda/lib/python3.10/site-packages/torchvision/transforms/transforms.py:329: UserWarning: Argument 'interpolation' of type int is deprecated since 0.13 and will be removed in 0.15. Please use InterpolationMode enum.\n",
      "  warnings.warn(\n",
      "/opt/conda/lib/python3.10/site-packages/torchvision/transforms/transforms.py:329: UserWarning: Argument 'interpolation' of type int is deprecated since 0.13 and will be removed in 0.15. Please use InterpolationMode enum.\n",
      "  warnings.warn(\n",
      "/opt/conda/lib/python3.10/site-packages/torchvision/transforms/transforms.py:329: UserWarning: Argument 'interpolation' of type int is deprecated since 0.13 and will be removed in 0.15. Please use InterpolationMode enum.\n",
      "  warnings.warn(\n",
      "  4%|▎         | 200/5352 [00:35<12:13,  7.03it/s]"
     ]
    },
    {
     "name": "stdout",
     "output_type": "stream",
     "text": [
      "{'FullBody': {'All': 77.08326721191406, 'UpperStretching': 81.47455596923828, 'LowerStretching': 72.50433349609375, 'Walking': 78.14881896972656, 'Gesticuling': 59.02595138549805, 'Reacting': 61.68821334838867, 'Patting': 76.77822875976562, 'Gaming': 64.3878402709961, 'Greeting': 54.367408752441406, 'Talking': 49.75286865234375}, 'UpperBody': {'All': 55.159324645996094, 'UpperStretching': 61.664398193359375, 'LowerStretching': 44.18813705444336, 'Walking': 48.95695114135742, 'Gesticuling': 46.193565368652344, 'Reacting': 48.68337631225586, 'Patting': 52.749324798583984, 'Gaming': 43.516727447509766, 'Greeting': 41.80843734741211, 'Talking': 39.23326873779297}, 'LowerBody': {'All': 99.00720977783203, 'UpperStretching': 101.28472137451172, 'LowerStretching': 100.82051086425781, 'Walking': 107.34069061279297, 'Gesticuling': 71.85834503173828, 'Reacting': 74.69303131103516, 'Patting': 100.80712127685547, 'Gaming': 85.25894927978516, 'Greeting': 66.92638397216797, 'Talking': 60.27245330810547}}\n"
     ]
    },
    {
     "name": "stderr",
     "output_type": "stream",
     "text": [
      "  7%|▋         | 401/5352 [01:05<11:59,  6.89it/s]"
     ]
    },
    {
     "name": "stdout",
     "output_type": "stream",
     "text": [
      "{'FullBody': {'All': 76.65552520751953, 'UpperStretching': 80.61881256103516, 'LowerStretching': 72.44523620605469, 'Walking': 77.4186019897461, 'Gesticuling': 60.421024322509766, 'Reacting': 61.869876861572266, 'Patting': 76.4862289428711, 'Gaming': 66.06169128417969, 'Greeting': 55.06075668334961, 'Talking': 50.78992462158203}, 'UpperBody': {'All': 54.917930603027344, 'UpperStretching': 60.88582992553711, 'LowerStretching': 44.5395622253418, 'Walking': 48.9233283996582, 'Gesticuling': 48.03858184814453, 'Reacting': 48.29603576660156, 'Patting': 52.741065979003906, 'Gaming': 44.853179931640625, 'Greeting': 41.573604583740234, 'Talking': 39.43608474731445}, 'LowerBody': {'All': 98.39312744140625, 'UpperStretching': 100.35179138183594, 'LowerStretching': 100.35090637207031, 'Walking': 105.91384887695312, 'Gesticuling': 72.803466796875, 'Reacting': 75.44371795654297, 'Patting': 100.23139190673828, 'Gaming': 87.27020263671875, 'Greeting': 68.54789733886719, 'Talking': 62.14377212524414}}\n"
     ]
    },
    {
     "name": "stderr",
     "output_type": "stream",
     "text": [
      " 11%|█         | 601/5352 [01:35<11:29,  6.89it/s]"
     ]
    },
    {
     "name": "stdout",
     "output_type": "stream",
     "text": [
      "{'FullBody': {'All': 76.59194946289062, 'UpperStretching': 81.00126647949219, 'LowerStretching': 71.8756103515625, 'Walking': 76.00003814697266, 'Gesticuling': 60.04018020629883, 'Reacting': 62.44158172607422, 'Patting': 74.99984741210938, 'Gaming': 66.09551239013672, 'Greeting': 54.37162399291992, 'Talking': 51.86269760131836}, 'UpperBody': {'All': 54.977630615234375, 'UpperStretching': 60.96720886230469, 'LowerStretching': 44.2384033203125, 'Walking': 48.940513610839844, 'Gesticuling': 47.171573638916016, 'Reacting': 49.417850494384766, 'Patting': 53.777679443359375, 'Gaming': 44.916500091552734, 'Greeting': 40.82211685180664, 'Talking': 40.8814697265625}, 'LowerBody': {'All': 98.20626068115234, 'UpperStretching': 101.03533172607422, 'LowerStretching': 99.51282501220703, 'Walking': 103.0595474243164, 'Gesticuling': 72.90878295898438, 'Reacting': 75.46532440185547, 'Patting': 96.22201538085938, 'Gaming': 87.2745132446289, 'Greeting': 67.92113494873047, 'Talking': 62.84392547607422}}\n"
     ]
    },
    {
     "name": "stderr",
     "output_type": "stream",
     "text": [
      " 15%|█▍        | 801/5352 [02:04<12:22,  6.13it/s]"
     ]
    },
    {
     "name": "stdout",
     "output_type": "stream",
     "text": [
      "{'FullBody': {'All': 76.60992431640625, 'UpperStretching': 80.63412475585938, 'LowerStretching': 72.5905532836914, 'Walking': 76.34310913085938, 'Gesticuling': 59.68667984008789, 'Reacting': 62.69394302368164, 'Patting': 73.51880645751953, 'Gaming': 65.90471649169922, 'Greeting': 54.931434631347656, 'Talking': 52.615501403808594}, 'UpperBody': {'All': 54.890384674072266, 'UpperStretching': 60.5982666015625, 'LowerStretching': 44.689361572265625, 'Walking': 49.02861404418945, 'Gesticuling': 46.94989776611328, 'Reacting': 49.290523529052734, 'Patting': 52.24723434448242, 'Gaming': 45.4532470703125, 'Greeting': 41.29702377319336, 'Talking': 41.63833999633789}, 'LowerBody': {'All': 98.32947540283203, 'UpperStretching': 100.66998291015625, 'LowerStretching': 100.49175262451172, 'Walking': 103.65760040283203, 'Gesticuling': 72.42344665527344, 'Reacting': 76.09735107421875, 'Patting': 94.79036712646484, 'Gaming': 86.3561782836914, 'Greeting': 68.56584167480469, 'Talking': 63.59265899658203}}\n"
     ]
    },
    {
     "name": "stderr",
     "output_type": "stream",
     "text": [
      " 19%|█▊        | 1001/5352 [02:34<10:50,  6.69it/s]"
     ]
    },
    {
     "name": "stdout",
     "output_type": "stream",
     "text": [
      "{'FullBody': {'All': 76.69158935546875, 'UpperStretching': 80.71595764160156, 'LowerStretching': 72.33109283447266, 'Walking': 76.89427947998047, 'Gesticuling': 59.62450408935547, 'Reacting': 63.492008209228516, 'Patting': 73.07763671875, 'Gaming': 66.34538269042969, 'Greeting': 54.959537506103516, 'Talking': 53.22063446044922}, 'UpperBody': {'All': 54.8792724609375, 'UpperStretching': 60.56285095214844, 'LowerStretching': 44.52016067504883, 'Walking': 49.233978271484375, 'Gesticuling': 46.999942779541016, 'Reacting': 49.67937088012695, 'Patting': 52.47370529174805, 'Gaming': 45.744102478027344, 'Greeting': 41.50070571899414, 'Talking': 42.113765716552734}, 'LowerBody': {'All': 98.50390625, 'UpperStretching': 100.86907196044922, 'LowerStretching': 100.14202880859375, 'Walking': 104.55458068847656, 'Gesticuling': 72.24906158447266, 'Reacting': 77.30464172363281, 'Patting': 93.68157958984375, 'Gaming': 86.94664764404297, 'Greeting': 68.41837310791016, 'Talking': 64.3274917602539}}\n"
     ]
    },
    {
     "name": "stderr",
     "output_type": "stream",
     "text": [
      " 22%|██▏       | 1201/5352 [03:04<09:49,  7.05it/s]"
     ]
    },
    {
     "name": "stdout",
     "output_type": "stream",
     "text": [
      "{'FullBody': {'All': 76.70794677734375, 'UpperStretching': 80.6540756225586, 'LowerStretching': 72.60832977294922, 'Walking': 76.84699249267578, 'Gesticuling': 60.276451110839844, 'Reacting': 64.09719848632812, 'Patting': 72.32596588134766, 'Gaming': 66.1996841430664, 'Greeting': 55.41812515258789, 'Talking': 53.11846160888672}, 'UpperBody': {'All': 54.91584777832031, 'UpperStretching': 60.544315338134766, 'LowerStretching': 44.68817138671875, 'Walking': 49.231143951416016, 'Gesticuling': 47.56095504760742, 'Reacting': 50.28605651855469, 'Patting': 51.946231842041016, 'Gaming': 45.99884796142578, 'Greeting': 41.54574966430664, 'Talking': 41.7689094543457}, 'LowerBody': {'All': 98.50006866455078, 'UpperStretching': 100.76383972167969, 'LowerStretching': 100.52848815917969, 'Walking': 104.46285247802734, 'Gesticuling': 72.99195098876953, 'Reacting': 77.90835571289062, 'Patting': 92.7056884765625, 'Gaming': 86.4005126953125, 'Greeting': 69.29049682617188, 'Talking': 64.46800994873047}}\n"
     ]
    },
    {
     "name": "stderr",
     "output_type": "stream",
     "text": [
      " 26%|██▌       | 1400/5352 [03:33<09:33,  6.89it/s]"
     ]
    },
    {
     "name": "stdout",
     "output_type": "stream",
     "text": [
      "{'FullBody': {'All': 76.65911102294922, 'UpperStretching': 80.63009643554688, 'LowerStretching': 72.61738586425781, 'Walking': 76.3749771118164, 'Gesticuling': 60.513492584228516, 'Reacting': 64.34864044189453, 'Patting': 71.17155456542969, 'Gaming': 65.99288177490234, 'Greeting': 54.37457275390625, 'Talking': 52.994354248046875}, 'UpperBody': {'All': 54.909629821777344, 'UpperStretching': 60.53526306152344, 'LowerStretching': 44.78571701049805, 'Walking': 49.018524169921875, 'Gesticuling': 47.58124542236328, 'Reacting': 50.733219146728516, 'Patting': 50.75027847290039, 'Gaming': 45.97111892700195, 'Greeting': 40.73634719848633, 'Talking': 41.63163757324219}, 'LowerBody': {'All': 98.40860748291016, 'UpperStretching': 100.72492218017578, 'LowerStretching': 100.44905090332031, 'Walking': 103.73143005371094, 'Gesticuling': 73.44572448730469, 'Reacting': 77.96406555175781, 'Patting': 91.59282684326172, 'Gaming': 86.01463317871094, 'Greeting': 68.0127944946289, 'Talking': 64.35707092285156}}\n"
     ]
    },
    {
     "name": "stderr",
     "output_type": "stream",
     "text": [
      " 30%|██▉       | 1601/5352 [04:03<09:16,  6.74it/s]"
     ]
    },
    {
     "name": "stdout",
     "output_type": "stream",
     "text": [
      "{'FullBody': {'All': 76.55802154541016, 'UpperStretching': 80.4079818725586, 'LowerStretching': 72.62844848632812, 'Walking': 76.64421844482422, 'Gesticuling': 60.93136978149414, 'Reacting': 64.21855163574219, 'Patting': 71.36656188964844, 'Gaming': 65.703857421875, 'Greeting': 55.266780853271484, 'Talking': 52.62492752075195}, 'UpperBody': {'All': 54.79243469238281, 'UpperStretching': 60.412410736083984, 'LowerStretching': 44.64747619628906, 'Walking': 49.02975082397461, 'Gesticuling': 48.09421157836914, 'Reacting': 50.679893493652344, 'Patting': 50.59587860107422, 'Gaming': 45.8502197265625, 'Greeting': 41.4084587097168, 'Talking': 41.67504119873047}, 'LowerBody': {'All': 98.32360076904297, 'UpperStretching': 100.40354919433594, 'LowerStretching': 100.60940551757812, 'Walking': 104.2586898803711, 'Gesticuling': 73.76851654052734, 'Reacting': 77.75720977783203, 'Patting': 92.13725280761719, 'Gaming': 85.5574951171875, 'Greeting': 69.1250991821289, 'Talking': 63.574806213378906}}\n"
     ]
    },
    {
     "name": "stderr",
     "output_type": "stream",
     "text": [
      " 34%|███▎      | 1801/5352 [04:32<08:23,  7.05it/s]"
     ]
    },
    {
     "name": "stdout",
     "output_type": "stream",
     "text": [
      "{'FullBody': {'All': 76.48448181152344, 'UpperStretching': 80.2665023803711, 'LowerStretching': 72.57405853271484, 'Walking': 76.7486572265625, 'Gesticuling': 61.02327346801758, 'Reacting': 64.38555145263672, 'Patting': 70.68183898925781, 'Gaming': 65.17674255371094, 'Greeting': 56.55043411254883, 'Talking': 52.549217224121094}, 'UpperBody': {'All': 54.76725387573242, 'UpperStretching': 60.37517166137695, 'LowerStretching': 44.53596496582031, 'Walking': 49.013973236083984, 'Gesticuling': 48.056007385253906, 'Reacting': 50.948734283447266, 'Patting': 50.4327392578125, 'Gaming': 45.6591796875, 'Greeting': 42.297386169433594, 'Talking': 41.689579010009766}, 'LowerBody': {'All': 98.20169830322266, 'UpperStretching': 100.15782928466797, 'LowerStretching': 100.61215209960938, 'Walking': 104.48333740234375, 'Gesticuling': 73.99053955078125, 'Reacting': 77.8223648071289, 'Patting': 90.9309310913086, 'Gaming': 84.6943130493164, 'Greeting': 70.80347442626953, 'Talking': 63.40885543823242}}\n"
     ]
    },
    {
     "name": "stderr",
     "output_type": "stream",
     "text": [
      " 37%|███▋      | 2000/5352 [05:02<08:02,  6.95it/s]"
     ]
    },
    {
     "name": "stdout",
     "output_type": "stream",
     "text": [
      "{'FullBody': {'All': 76.40830993652344, 'UpperStretching': 80.1792984008789, 'LowerStretching': 72.54352569580078, 'Walking': 76.48760986328125, 'Gesticuling': 60.98956298828125, 'Reacting': 64.1885757446289, 'Patting': 71.76748657226562, 'Gaming': 65.28956604003906, 'Greeting': 56.4920539855957, 'Talking': 52.18809509277344}, 'UpperBody': {'All': 54.68575668334961, 'UpperStretching': 60.278961181640625, 'LowerStretching': 44.52460479736328, 'Walking': 48.82138442993164, 'Gesticuling': 47.860809326171875, 'Reacting': 50.714942932128906, 'Patting': 51.15798568725586, 'Gaming': 45.66443634033203, 'Greeting': 42.455482482910156, 'Talking': 41.47598648071289}, 'LowerBody': {'All': 98.13087463378906, 'UpperStretching': 100.07964324951172, 'LowerStretching': 100.56244659423828, 'Walking': 104.15382385253906, 'Gesticuling': 74.11832427978516, 'Reacting': 77.6622085571289, 'Patting': 92.37699127197266, 'Gaming': 84.91471099853516, 'Greeting': 70.52862548828125, 'Talking': 62.90019607543945}}\n"
     ]
    },
    {
     "name": "stderr",
     "output_type": "stream",
     "text": [
      " 41%|████      | 2201/5352 [05:32<07:49,  6.71it/s]"
     ]
    },
    {
     "name": "stdout",
     "output_type": "stream",
     "text": [
      "{'FullBody': {'All': 76.50778198242188, 'UpperStretching': 80.33194732666016, 'LowerStretching': 72.41845703125, 'Walking': 76.70121002197266, 'Gesticuling': 61.0157585144043, 'Reacting': 64.38201904296875, 'Patting': 70.8115234375, 'Gaming': 65.35478973388672, 'Greeting': 56.143333435058594, 'Talking': 52.65800094604492}, 'UpperBody': {'All': 54.72206497192383, 'UpperStretching': 60.307762145996094, 'LowerStretching': 44.458248138427734, 'Walking': 48.90359878540039, 'Gesticuling': 47.95799255371094, 'Reacting': 51.20950698852539, 'Patting': 50.45344543457031, 'Gaming': 45.70272445678711, 'Greeting': 42.05433654785156, 'Talking': 41.72969055175781}, 'LowerBody': {'All': 98.29349517822266, 'UpperStretching': 100.35614776611328, 'LowerStretching': 100.378662109375, 'Walking': 104.49882507324219, 'Gesticuling': 74.07352447509766, 'Reacting': 77.55452728271484, 'Patting': 91.16960144042969, 'Gaming': 85.00685119628906, 'Greeting': 70.23234558105469, 'Talking': 63.5863151550293}}\n"
     ]
    },
    {
     "name": "stderr",
     "output_type": "stream",
     "text": [
      " 45%|████▍     | 2401/5352 [06:01<07:13,  6.81it/s]"
     ]
    },
    {
     "name": "stdout",
     "output_type": "stream",
     "text": [
      "{'FullBody': {'All': 76.45439147949219, 'UpperStretching': 80.26805114746094, 'LowerStretching': 72.48090362548828, 'Walking': 76.64583587646484, 'Gesticuling': 60.763099670410156, 'Reacting': 64.54510498046875, 'Patting': 71.35335540771484, 'Gaming': 65.18780517578125, 'Greeting': 56.06828308105469, 'Talking': 52.29584503173828}, 'UpperBody': {'All': 54.671627044677734, 'UpperStretching': 60.277793884277344, 'LowerStretching': 44.41670227050781, 'Walking': 48.84347915649414, 'Gesticuling': 47.573204040527344, 'Reacting': 51.47434616088867, 'Patting': 50.63481521606445, 'Gaming': 45.562103271484375, 'Greeting': 41.862709045410156, 'Talking': 41.53374099731445}, 'LowerBody': {'All': 98.2371597290039, 'UpperStretching': 100.25831604003906, 'LowerStretching': 100.54512023925781, 'Walking': 104.44818878173828, 'Gesticuling': 73.9530029296875, 'Reacting': 77.61585998535156, 'Patting': 92.0718994140625, 'Gaming': 84.8134994506836, 'Greeting': 70.27386474609375, 'Talking': 63.057945251464844}}\n"
     ]
    },
    {
     "name": "stderr",
     "output_type": "stream",
     "text": [
      " 49%|████▊     | 2601/5352 [06:31<07:36,  6.02it/s]"
     ]
    },
    {
     "name": "stdout",
     "output_type": "stream",
     "text": [
      "{'FullBody': {'All': 76.46157836914062, 'UpperStretching': 80.297607421875, 'LowerStretching': 72.52875518798828, 'Walking': 76.54290771484375, 'Gesticuling': 60.78060531616211, 'Reacting': 64.34870910644531, 'Patting': 71.612548828125, 'Gaming': 65.30180358886719, 'Greeting': 55.902523040771484, 'Talking': 52.82078552246094}, 'UpperBody': {'All': 54.668331146240234, 'UpperStretching': 60.2786865234375, 'LowerStretching': 44.486732482910156, 'Walking': 48.76334762573242, 'Gesticuling': 47.565948486328125, 'Reacting': 51.251953125, 'Patting': 50.86531448364258, 'Gaming': 45.65625, 'Greeting': 41.85335922241211, 'Talking': 41.983795166015625}, 'LowerBody': {'All': 98.25482940673828, 'UpperStretching': 100.3165283203125, 'LowerStretching': 100.57078552246094, 'Walking': 104.32247924804688, 'Gesticuling': 73.9952621459961, 'Reacting': 77.4454574584961, 'Patting': 92.35977935791016, 'Gaming': 84.94735717773438, 'Greeting': 69.9516830444336, 'Talking': 63.65778350830078}}\n"
     ]
    },
    {
     "name": "stderr",
     "output_type": "stream",
     "text": [
      " 52%|█████▏    | 2801/5352 [07:01<06:29,  6.55it/s]"
     ]
    },
    {
     "name": "stdout",
     "output_type": "stream",
     "text": [
      "{'FullBody': {'All': 76.3861312866211, 'UpperStretching': 80.1859359741211, 'LowerStretching': 72.44458770751953, 'Walking': 76.59384155273438, 'Gesticuling': 60.80446243286133, 'Reacting': 64.23268127441406, 'Patting': 72.14854431152344, 'Gaming': 65.09332275390625, 'Greeting': 55.927799224853516, 'Talking': 52.751949310302734}, 'UpperBody': {'All': 54.597381591796875, 'UpperStretching': 60.18368148803711, 'LowerStretching': 44.42766571044922, 'Walking': 48.716827392578125, 'Gesticuling': 47.72237777709961, 'Reacting': 50.97621154785156, 'Patting': 51.104061126708984, 'Gaming': 45.494693756103516, 'Greeting': 41.74947738647461, 'Talking': 41.9536247253418}, 'LowerBody': {'All': 98.17488098144531, 'UpperStretching': 100.18817901611328, 'LowerStretching': 100.46150970458984, 'Walking': 104.4708480834961, 'Gesticuling': 73.88653564453125, 'Reacting': 77.4891357421875, 'Patting': 93.19302368164062, 'Gaming': 84.69194793701172, 'Greeting': 70.10611724853516, 'Talking': 63.55027770996094}}\n"
     ]
    },
    {
     "name": "stderr",
     "output_type": "stream",
     "text": [
      " 56%|█████▌    | 3001/5352 [07:31<05:50,  6.71it/s]"
     ]
    },
    {
     "name": "stdout",
     "output_type": "stream",
     "text": [
      "{'FullBody': {'All': 76.37053680419922, 'UpperStretching': 80.15251922607422, 'LowerStretching': 72.36051940917969, 'Walking': 76.63081359863281, 'Gesticuling': 60.984989166259766, 'Reacting': 64.13009643554688, 'Patting': 72.29811096191406, 'Gaming': 65.26349639892578, 'Greeting': 55.90964889526367, 'Talking': 52.7656364440918}, 'UpperBody': {'All': 54.59424591064453, 'UpperStretching': 60.14502716064453, 'LowerStretching': 44.399375915527344, 'Walking': 48.720733642578125, 'Gesticuling': 47.80129623413086, 'Reacting': 51.12178421020508, 'Patting': 51.17490005493164, 'Gaming': 45.53794479370117, 'Greeting': 41.73381042480469, 'Talking': 42.04279327392578}, 'LowerBody': {'All': 98.14682006835938, 'UpperStretching': 100.1600112915039, 'LowerStretching': 100.32166290283203, 'Walking': 104.54090118408203, 'Gesticuling': 74.16868591308594, 'Reacting': 77.13841247558594, 'Patting': 93.42131042480469, 'Gaming': 84.98904418945312, 'Greeting': 70.08547973632812, 'Talking': 63.48847579956055}}\n"
     ]
    },
    {
     "name": "stderr",
     "output_type": "stream",
     "text": [
      " 60%|█████▉    | 3200/5352 [08:00<05:25,  6.60it/s]"
     ]
    },
    {
     "name": "stdout",
     "output_type": "stream",
     "text": [
      "{'FullBody': {'All': 76.34119415283203, 'UpperStretching': 80.13894653320312, 'LowerStretching': 72.25701904296875, 'Walking': 76.73188018798828, 'Gesticuling': 60.97683334350586, 'Reacting': 63.77886199951172, 'Patting': 72.5273666381836, 'Gaming': 65.33073425292969, 'Greeting': 55.886295318603516, 'Talking': 52.702327728271484}, 'UpperBody': {'All': 54.557029724121094, 'UpperStretching': 60.101749420166016, 'LowerStretching': 44.36549377441406, 'Walking': 48.805633544921875, 'Gesticuling': 47.86582946777344, 'Reacting': 50.83127212524414, 'Patting': 51.48204803466797, 'Gaming': 45.638084411621094, 'Greeting': 41.67899703979492, 'Talking': 42.11186218261719}, 'LowerBody': {'All': 98.1253433227539, 'UpperStretching': 100.1761474609375, 'LowerStretching': 100.14854431152344, 'Walking': 104.65812683105469, 'Gesticuling': 74.08784484863281, 'Reacting': 76.72644805908203, 'Patting': 93.57267761230469, 'Gaming': 85.02339172363281, 'Greeting': 70.09359741210938, 'Talking': 63.292808532714844}}\n"
     ]
    },
    {
     "name": "stderr",
     "output_type": "stream",
     "text": [
      " 64%|██████▎   | 3401/5352 [08:30<04:54,  6.63it/s]"
     ]
    },
    {
     "name": "stdout",
     "output_type": "stream",
     "text": [
      "{'FullBody': {'All': 76.28193664550781, 'UpperStretching': 80.10661315917969, 'LowerStretching': 72.1074447631836, 'Walking': 76.5700912475586, 'Gesticuling': 60.86119842529297, 'Reacting': 63.96848678588867, 'Patting': 72.7951889038086, 'Gaming': 65.39164733886719, 'Greeting': 55.698368072509766, 'Talking': 52.70830154418945}, 'UpperBody': {'All': 54.52241134643555, 'UpperStretching': 60.06003952026367, 'LowerStretching': 44.29762268066406, 'Walking': 48.738037109375, 'Gesticuling': 47.69072723388672, 'Reacting': 50.96978759765625, 'Patting': 51.82620620727539, 'Gaming': 45.62974166870117, 'Greeting': 41.46388244628906, 'Talking': 42.12186050415039}, 'LowerBody': {'All': 98.04144287109375, 'UpperStretching': 100.15319061279297, 'LowerStretching': 99.91727447509766, 'Walking': 104.40216064453125, 'Gesticuling': 74.03166961669922, 'Reacting': 76.96719360351562, 'Patting': 93.76417541503906, 'Gaming': 85.15353393554688, 'Greeting': 69.93285369873047, 'Talking': 63.294742584228516}}\n"
     ]
    },
    {
     "name": "stderr",
     "output_type": "stream",
     "text": [
      " 67%|██████▋   | 3601/5352 [09:00<04:23,  6.64it/s]"
     ]
    },
    {
     "name": "stdout",
     "output_type": "stream",
     "text": [
      "{'FullBody': {'All': 76.20508575439453, 'UpperStretching': 79.92125701904297, 'LowerStretching': 72.16700744628906, 'Walking': 76.60433959960938, 'Gesticuling': 60.942134857177734, 'Reacting': 63.97799301147461, 'Patting': 73.26013946533203, 'Gaming': 65.40885162353516, 'Greeting': 55.7385368347168, 'Talking': 52.600650787353516}, 'UpperBody': {'All': 54.47229766845703, 'UpperStretching': 59.93920135498047, 'LowerStretching': 44.357704162597656, 'Walking': 48.74256134033203, 'Gesticuling': 47.769771575927734, 'Reacting': 50.89791488647461, 'Patting': 52.15145492553711, 'Gaming': 45.60649871826172, 'Greeting': 41.536502838134766, 'Talking': 41.9700927734375}, 'LowerBody': {'All': 97.93788146972656, 'UpperStretching': 99.9033203125, 'LowerStretching': 99.97630310058594, 'Walking': 104.46613311767578, 'Gesticuling': 74.11448669433594, 'Reacting': 77.05807495117188, 'Patting': 94.36883544921875, 'Gaming': 85.21119689941406, 'Greeting': 69.94056701660156, 'Talking': 63.231201171875}}\n"
     ]
    },
    {
     "name": "stderr",
     "output_type": "stream",
     "text": [
      " 71%|███████   | 3800/5352 [09:30<04:01,  6.43it/s]"
     ]
    },
    {
     "name": "stdout",
     "output_type": "stream",
     "text": [
      "{'FullBody': {'All': 76.26251983642578, 'UpperStretching': 79.97355651855469, 'LowerStretching': 72.22965240478516, 'Walking': 76.66498565673828, 'Gesticuling': 61.02869415283203, 'Reacting': 64.20834350585938, 'Patting': 73.23616027832031, 'Gaming': 65.56849670410156, 'Greeting': 55.61825942993164, 'Talking': 52.48276138305664}, 'UpperBody': {'All': 54.510032653808594, 'UpperStretching': 59.967769622802734, 'LowerStretching': 44.36946105957031, 'Walking': 48.79684066772461, 'Gesticuling': 47.81488800048828, 'Reacting': 51.269081115722656, 'Patting': 52.20052719116211, 'Gaming': 45.68394088745117, 'Greeting': 41.38330841064453, 'Talking': 41.90296936035156}, 'LowerBody': {'All': 98.01499938964844, 'UpperStretching': 99.97935485839844, 'LowerStretching': 100.08985137939453, 'Walking': 104.53312683105469, 'Gesticuling': 74.24250030517578, 'Reacting': 77.14759063720703, 'Patting': 94.27178955078125, 'Gaming': 85.45306396484375, 'Greeting': 69.85321044921875, 'Talking': 63.06255340576172}}\n"
     ]
    },
    {
     "name": "stderr",
     "output_type": "stream",
     "text": [
      " 75%|███████▍  | 4001/5352 [10:00<03:31,  6.39it/s]"
     ]
    },
    {
     "name": "stdout",
     "output_type": "stream",
     "text": [
      "{'FullBody': {'All': 76.33301544189453, 'UpperStretching': 80.02600860595703, 'LowerStretching': 72.2834701538086, 'Walking': 76.87638854980469, 'Gesticuling': 61.117008209228516, 'Reacting': 64.06660461425781, 'Patting': 73.34410858154297, 'Gaming': 65.6138687133789, 'Greeting': 55.757354736328125, 'Talking': 52.47367858886719}, 'UpperBody': {'All': 54.57497787475586, 'UpperStretching': 60.05495834350586, 'LowerStretching': 44.41230392456055, 'Walking': 48.90174865722656, 'Gesticuling': 47.791770935058594, 'Reacting': 51.115718841552734, 'Patting': 52.140464782714844, 'Gaming': 45.64971923828125, 'Greeting': 41.52894592285156, 'Talking': 41.87065124511719}, 'LowerBody': {'All': 98.09104919433594, 'UpperStretching': 99.99706268310547, 'LowerStretching': 100.15464782714844, 'Walking': 104.85102844238281, 'Gesticuling': 74.44224548339844, 'Reacting': 77.01748657226562, 'Patting': 94.54773712158203, 'Gaming': 85.57801818847656, 'Greeting': 69.98576354980469, 'Talking': 63.07670593261719}}\n"
     ]
    },
    {
     "name": "stderr",
     "output_type": "stream",
     "text": [
      " 78%|███████▊  | 4201/5352 [10:30<02:55,  6.58it/s]"
     ]
    },
    {
     "name": "stdout",
     "output_type": "stream",
     "text": [
      "{'FullBody': {'All': 76.36277770996094, 'UpperStretching': 80.07775115966797, 'LowerStretching': 72.2745590209961, 'Walking': 76.83443450927734, 'Gesticuling': 61.27065658569336, 'Reacting': 64.12447357177734, 'Patting': 73.7338638305664, 'Gaming': 65.53821563720703, 'Greeting': 55.7088508605957, 'Talking': 52.43080520629883}, 'UpperBody': {'All': 54.58893585205078, 'UpperStretching': 60.095054626464844, 'LowerStretching': 44.354766845703125, 'Walking': 48.901161193847656, 'Gesticuling': 47.80952453613281, 'Reacting': 51.36284255981445, 'Patting': 52.48590087890625, 'Gaming': 45.66416549682617, 'Greeting': 41.481266021728516, 'Talking': 41.71829605102539}, 'LowerBody': {'All': 98.13661193847656, 'UpperStretching': 100.06045532226562, 'LowerStretching': 100.19435119628906, 'Walking': 104.76770782470703, 'Gesticuling': 74.73178100585938, 'Reacting': 76.88610076904297, 'Patting': 94.9818115234375, 'Gaming': 85.41226959228516, 'Greeting': 69.93643188476562, 'Talking': 63.14331817626953}}\n"
     ]
    },
    {
     "name": "stderr",
     "output_type": "stream",
     "text": [
      " 82%|████████▏ | 4401/5352 [11:00<02:46,  5.71it/s]"
     ]
    },
    {
     "name": "stdout",
     "output_type": "stream",
     "text": [
      "{'FullBody': {'All': 76.4098129272461, 'UpperStretching': 80.16800689697266, 'LowerStretching': 72.23633575439453, 'Walking': 76.83521270751953, 'Gesticuling': 61.495941162109375, 'Reacting': 64.44233703613281, 'Patting': 73.255126953125, 'Gaming': 65.48770904541016, 'Greeting': 55.446502685546875, 'Talking': 52.391841888427734}, 'UpperBody': {'All': 54.63663101196289, 'UpperStretching': 60.17228698730469, 'LowerStretching': 44.35274887084961, 'Walking': 48.910865783691406, 'Gesticuling': 47.91205978393555, 'Reacting': 51.61335372924805, 'Patting': 52.17921447753906, 'Gaming': 45.56450653076172, 'Greeting': 41.269222259521484, 'Talking': 41.64924240112305}, 'LowerBody': {'All': 98.18299865722656, 'UpperStretching': 100.16373443603516, 'LowerStretching': 100.11991882324219, 'Walking': 104.75956726074219, 'Gesticuling': 75.07982635498047, 'Reacting': 77.27133178710938, 'Patting': 94.33104705810547, 'Gaming': 85.41089630126953, 'Greeting': 69.623779296875, 'Talking': 63.134437561035156}}\n"
     ]
    },
    {
     "name": "stderr",
     "output_type": "stream",
     "text": [
      " 86%|████████▌ | 4601/5352 [11:31<02:00,  6.25it/s]"
     ]
    },
    {
     "name": "stdout",
     "output_type": "stream",
     "text": [
      "{'FullBody': {'All': 76.45310974121094, 'UpperStretching': 80.24858093261719, 'LowerStretching': 72.26931762695312, 'Walking': 76.84169006347656, 'Gesticuling': 61.49225616455078, 'Reacting': 64.54239654541016, 'Patting': 72.77972412109375, 'Gaming': 65.53394317626953, 'Greeting': 55.219635009765625, 'Talking': 52.43150329589844}, 'UpperBody': {'All': 54.67460632324219, 'UpperStretching': 60.232200622558594, 'LowerStretching': 44.389339447021484, 'Walking': 48.898460388183594, 'Gesticuling': 47.955726623535156, 'Reacting': 51.6920280456543, 'Patting': 51.89595413208008, 'Gaming': 45.602752685546875, 'Greeting': 41.08766174316406, 'Talking': 41.723812103271484}, 'LowerBody': {'All': 98.23161315917969, 'UpperStretching': 100.26496887207031, 'LowerStretching': 100.14929962158203, 'Walking': 104.784912109375, 'Gesticuling': 75.02877807617188, 'Reacting': 77.39276885986328, 'Patting': 93.66349792480469, 'Gaming': 85.46513366699219, 'Greeting': 69.35160064697266, 'Talking': 63.13919448852539}}\n"
     ]
    },
    {
     "name": "stderr",
     "output_type": "stream",
     "text": [
      " 90%|████████▉ | 4801/5352 [12:00<01:24,  6.53it/s]"
     ]
    },
    {
     "name": "stdout",
     "output_type": "stream",
     "text": [
      "{'FullBody': {'All': 76.48827362060547, 'UpperStretching': 80.28955078125, 'LowerStretching': 72.36671447753906, 'Walking': 76.83036041259766, 'Gesticuling': 61.48516082763672, 'Reacting': 64.3358383178711, 'Patting': 73.0803451538086, 'Gaming': 65.4784164428711, 'Greeting': 55.0778923034668, 'Talking': 52.18853759765625}, 'UpperBody': {'All': 54.688594818115234, 'UpperStretching': 60.23943328857422, 'LowerStretching': 44.457645416259766, 'Walking': 48.906558990478516, 'Gesticuling': 47.919189453125, 'Reacting': 51.49104690551758, 'Patting': 52.0359001159668, 'Gaming': 45.61667251586914, 'Greeting': 41.00263595581055, 'Talking': 41.528770446777344}, 'LowerBody': {'All': 98.28794860839844, 'UpperStretching': 100.33965301513672, 'LowerStretching': 100.2757797241211, 'Walking': 104.75415802001953, 'Gesticuling': 75.05113983154297, 'Reacting': 77.18063354492188, 'Patting': 94.1247787475586, 'Gaming': 85.34016418457031, 'Greeting': 69.15313720703125, 'Talking': 62.848304748535156}}\n"
     ]
    },
    {
     "name": "stderr",
     "output_type": "stream",
     "text": [
      " 93%|█████████▎| 5000/5352 [12:30<00:57,  6.12it/s]"
     ]
    },
    {
     "name": "stdout",
     "output_type": "stream",
     "text": [
      "{'FullBody': {'All': 76.47349548339844, 'UpperStretching': 80.27471160888672, 'LowerStretching': 72.34587097167969, 'Walking': 76.83428192138672, 'Gesticuling': 61.47157287597656, 'Reacting': 64.41590881347656, 'Patting': 72.89826965332031, 'Gaming': 65.4152603149414, 'Greeting': 54.984336853027344, 'Talking': 52.19725036621094}, 'UpperBody': {'All': 54.66375732421875, 'UpperStretching': 60.20151138305664, 'LowerStretching': 44.441864013671875, 'Walking': 48.9212760925293, 'Gesticuling': 47.88933181762695, 'Reacting': 51.501068115234375, 'Patting': 51.95893096923828, 'Gaming': 45.78034210205078, 'Greeting': 40.90480041503906, 'Talking': 41.57667541503906}, 'LowerBody': {'All': 98.28323364257812, 'UpperStretching': 100.34791564941406, 'LowerStretching': 100.2498779296875, 'Walking': 104.74726867675781, 'Gesticuling': 75.0538330078125, 'Reacting': 77.33074188232422, 'Patting': 93.83760833740234, 'Gaming': 85.05017852783203, 'Greeting': 69.0638656616211, 'Talking': 62.81783676147461}}\n"
     ]
    },
    {
     "name": "stderr",
     "output_type": "stream",
     "text": [
      " 97%|█████████▋| 5201/5352 [13:00<00:24,  6.24it/s]"
     ]
    },
    {
     "name": "stdout",
     "output_type": "stream",
     "text": [
      "{'FullBody': {'All': 76.44926452636719, 'UpperStretching': 80.2391586303711, 'LowerStretching': 72.28072357177734, 'Walking': 76.90935516357422, 'Gesticuling': 61.582916259765625, 'Reacting': 64.4703598022461, 'Patting': 72.71646881103516, 'Gaming': 65.53141021728516, 'Greeting': 54.983802795410156, 'Talking': 52.270263671875}, 'UpperBody': {'All': 54.65897750854492, 'UpperStretching': 60.19269561767578, 'LowerStretching': 44.41891098022461, 'Walking': 48.91856002807617, 'Gesticuling': 47.97260665893555, 'Reacting': 51.56211471557617, 'Patting': 51.96102523803711, 'Gaming': 45.77075958251953, 'Greeting': 40.88896942138672, 'Talking': 41.68556594848633}, 'LowerBody': {'All': 98.23954010009766, 'UpperStretching': 100.2856216430664, 'LowerStretching': 100.14251708984375, 'Walking': 104.900146484375, 'Gesticuling': 75.19322967529297, 'Reacting': 77.37860107421875, 'Patting': 93.47190856933594, 'Gaming': 85.29206848144531, 'Greeting': 69.0786361694336, 'Talking': 62.8549690246582}}\n"
     ]
    },
    {
     "name": "stderr",
     "output_type": "stream",
     "text": [
      "100%|██████████| 5352/5352 [13:23<00:00,  6.66it/s]\n",
      "\u001b[94m20:07:01 \u001b[92m[INFO]\u001b[94m Main\u001b[0m: Saving evaluation results...\n",
      "\u001b[94m20:07:01 \u001b[92m[INFO]\u001b[94m Main\u001b[0m: Done.\n",
      "\u001b[94m20:07:01 \u001b[92m[INFO]\u001b[94m Main\u001b[0m: Starting demo...\n",
      "  0%|          | 0/5352 [00:00<?, ?it/s]/opt/conda/lib/python3.10/site-packages/torchvision/transforms/transforms.py:329: UserWarning: Argument 'interpolation' of type int is deprecated since 0.13 and will be removed in 0.15. Please use InterpolationMode enum.\n",
      "  warnings.warn(\n",
      "/opt/conda/lib/python3.10/site-packages/torchvision/transforms/transforms.py:329: UserWarning: Argument 'interpolation' of type int is deprecated since 0.13 and will be removed in 0.15. Please use InterpolationMode enum.\n",
      "  warnings.warn(\n",
      "/opt/conda/lib/python3.10/site-packages/torchvision/transforms/transforms.py:329: UserWarning: Argument 'interpolation' of type int is deprecated since 0.13 and will be removed in 0.15. Please use InterpolationMode enum.\n",
      "  warnings.warn(\n",
      "/opt/conda/lib/python3.10/site-packages/torchvision/transforms/transforms.py:329: UserWarning: Argument 'interpolation' of type int is deprecated since 0.13 and will be removed in 0.15. Please use InterpolationMode enum.\n",
      "  warnings.warn(\n",
      "/opt/conda/lib/python3.10/site-packages/torchvision/transforms/transforms.py:329: UserWarning: Argument 'interpolation' of type int is deprecated since 0.13 and will be removed in 0.15. Please use InterpolationMode enum.\n",
      "  warnings.warn(\n",
      "/opt/conda/lib/python3.10/site-packages/torchvision/transforms/transforms.py:329: UserWarning: Argument 'interpolation' of type int is deprecated since 0.13 and will be removed in 0.15. Please use InterpolationMode enum.\n",
      "  warnings.warn(\n",
      "/opt/conda/lib/python3.10/site-packages/torchvision/transforms/transforms.py:329: UserWarning: Argument 'interpolation' of type int is deprecated since 0.13 and will be removed in 0.15. Please use InterpolationMode enum.\n",
      "  warnings.warn(\n",
      "/opt/conda/lib/python3.10/site-packages/torchvision/transforms/transforms.py:329: UserWarning: Argument 'interpolation' of type int is deprecated since 0.13 and will be removed in 0.15. Please use InterpolationMode enum.\n",
      "  warnings.warn(\n",
      "/opt/conda/lib/python3.10/site-packages/torchvision/transforms/transforms.py:329: UserWarning: Argument 'interpolation' of type int is deprecated since 0.13 and will be removed in 0.15. Please use InterpolationMode enum.\n",
      "  warnings.warn(\n",
      "/opt/conda/lib/python3.10/site-packages/torchvision/transforms/transforms.py:329: UserWarning: Argument 'interpolation' of type int is deprecated since 0.13 and will be removed in 0.15. Please use InterpolationMode enum.\n",
      "  warnings.warn(\n",
      "/opt/conda/lib/python3.10/site-packages/torchvision/transforms/transforms.py:329: UserWarning: Argument 'interpolation' of type int is deprecated since 0.13 and will be removed in 0.15. Please use InterpolationMode enum.\n",
      "  warnings.warn(\n",
      "/opt/conda/lib/python3.10/site-packages/torchvision/transforms/transforms.py:329: UserWarning: Argument 'interpolation' of type int is deprecated since 0.13 and will be removed in 0.15. Please use InterpolationMode enum.\n",
      "  warnings.warn(\n",
      "/opt/conda/lib/python3.10/site-packages/torchvision/transforms/transforms.py:329: UserWarning: Argument 'interpolation' of type int is deprecated since 0.13 and will be removed in 0.15. Please use InterpolationMode enum.\n",
      "  warnings.warn(\n",
      "/opt/conda/lib/python3.10/site-packages/torchvision/transforms/transforms.py:329: UserWarning: Argument 'interpolation' of type int is deprecated since 0.13 and will be removed in 0.15. Please use InterpolationMode enum.\n",
      "  warnings.warn(\n",
      "/opt/conda/lib/python3.10/site-packages/torchvision/transforms/transforms.py:329: UserWarning: Argument 'interpolation' of type int is deprecated since 0.13 and will be removed in 0.15. Please use InterpolationMode enum.\n",
      "  warnings.warn(\n",
      "/opt/conda/lib/python3.10/site-packages/torchvision/transforms/transforms.py:329: UserWarning: Argument 'interpolation' of type int is deprecated since 0.13 and will be removed in 0.15. Please use InterpolationMode enum.\n",
      "  warnings.warn(\n",
      "/opt/conda/lib/python3.10/site-packages/torchvision/transforms/transforms.py:329: UserWarning: Argument 'interpolation' of type int is deprecated since 0.13 and will be removed in 0.15. Please use InterpolationMode enum.\n",
      "  warnings.warn(\n",
      "/opt/conda/lib/python3.10/site-packages/torchvision/transforms/transforms.py:329: UserWarning: Argument 'interpolation' of type int is deprecated since 0.13 and will be removed in 0.15. Please use InterpolationMode enum.\n",
      "  warnings.warn(\n",
      "/opt/conda/lib/python3.10/site-packages/torchvision/transforms/transforms.py:329: UserWarning: Argument 'interpolation' of type int is deprecated since 0.13 and will be removed in 0.15. Please use InterpolationMode enum.\n",
      "  warnings.warn(\n",
      "/opt/conda/lib/python3.10/site-packages/torchvision/transforms/transforms.py:329: UserWarning: Argument 'interpolation' of type int is deprecated since 0.13 and will be removed in 0.15. Please use InterpolationMode enum.\n",
      "  warnings.warn(\n",
      "/opt/conda/lib/python3.10/site-packages/torchvision/transforms/transforms.py:329: UserWarning: Argument 'interpolation' of type int is deprecated since 0.13 and will be removed in 0.15. Please use InterpolationMode enum.\n",
      "  warnings.warn(\n",
      "/opt/conda/lib/python3.10/site-packages/torchvision/transforms/transforms.py:329: UserWarning: Argument 'interpolation' of type int is deprecated since 0.13 and will be removed in 0.15. Please use InterpolationMode enum.\n",
      "  warnings.warn(\n",
      "/opt/conda/lib/python3.10/site-packages/torchvision/transforms/transforms.py:329: UserWarning: Argument 'interpolation' of type int is deprecated since 0.13 and will be removed in 0.15. Please use InterpolationMode enum.\n",
      "  warnings.warn(\n",
      "/opt/conda/lib/python3.10/site-packages/torchvision/transforms/transforms.py:329: UserWarning: Argument 'interpolation' of type int is deprecated since 0.13 and will be removed in 0.15. Please use InterpolationMode enum.\n",
      "  warnings.warn(\n",
      "  4%|▍         | 201/5352 [00:35<12:17,  6.98it/s]"
     ]
    },
    {
     "name": "stdout",
     "output_type": "stream",
     "text": [
      "{'FullBody': {'All': 81.53897094726562, 'Greeting': 51.04808044433594, 'Reacting': 60.40703582763672, 'LowerStretching': 73.67472076416016, 'Walking': 81.30753326416016, 'UpperStretching': 87.63885498046875, 'Patting': 79.7906723022461, 'Talking': 53.5870475769043, 'Gesticuling': 55.82305908203125, 'Gaming': 61.82091522216797}, 'UpperBody': {'All': 59.52814483642578, 'Greeting': 40.668766021728516, 'Reacting': 54.123748779296875, 'LowerStretching': 45.88673400878906, 'Walking': 55.52317428588867, 'UpperStretching': 65.8733901977539, 'Patting': 60.12352752685547, 'Talking': 43.99027633666992, 'Gesticuling': 47.1947135925293, 'Gaming': 50.26042175292969}, 'LowerBody': {'All': 103.54979705810547, 'Greeting': 61.427398681640625, 'Reacting': 66.6903076171875, 'LowerStretching': 101.46270751953125, 'Walking': 107.09188079833984, 'UpperStretching': 109.4043197631836, 'Patting': 99.45781707763672, 'Talking': 63.18381881713867, 'Gesticuling': 64.45140838623047, 'Gaming': 73.38140869140625}}\n"
     ]
    },
    {
     "name": "stderr",
     "output_type": "stream",
     "text": [
      "  7%|▋         | 401/5352 [01:05<12:40,  6.51it/s]"
     ]
    },
    {
     "name": "stdout",
     "output_type": "stream",
     "text": [
      "{'FullBody': {'All': 80.66616821289062, 'Greeting': 50.6597900390625, 'Reacting': 62.7025146484375, 'LowerStretching': 74.91256713867188, 'Walking': 80.79850769042969, 'UpperStretching': 85.90982818603516, 'Patting': 81.32324981689453, 'Talking': 52.069618225097656, 'Gesticuling': 55.00357437133789, 'Gaming': 64.65210723876953}, 'UpperBody': {'All': 58.97968673706055, 'Greeting': 40.356502532958984, 'Reacting': 54.455142974853516, 'LowerStretching': 46.8471565246582, 'Walking': 54.57379913330078, 'UpperStretching': 65.06182098388672, 'Patting': 60.478824615478516, 'Talking': 40.892356872558594, 'Gesticuling': 46.4927864074707, 'Gaming': 54.07373046875}, 'LowerBody': {'All': 102.3526382446289, 'Greeting': 60.96307373046875, 'Reacting': 70.94989013671875, 'LowerStretching': 102.97796630859375, 'Walking': 107.02320861816406, 'UpperStretching': 106.7578353881836, 'Patting': 102.16767883300781, 'Talking': 63.24687957763672, 'Gesticuling': 63.51435470581055, 'Gaming': 75.23046875}}\n"
     ]
    },
    {
     "name": "stderr",
     "output_type": "stream",
     "text": [
      " 11%|█         | 601/5352 [01:35<11:26,  6.92it/s]"
     ]
    },
    {
     "name": "stdout",
     "output_type": "stream",
     "text": [
      "{'FullBody': {'All': 80.65032196044922, 'Greeting': 49.0618782043457, 'Reacting': 61.89320373535156, 'LowerStretching': 76.29253387451172, 'Walking': 80.32997131347656, 'UpperStretching': 85.60651397705078, 'Patting': 82.25157928466797, 'Talking': 53.121673583984375, 'Gesticuling': 57.17957305908203, 'Gaming': 63.355445861816406}, 'UpperBody': {'All': 58.98727035522461, 'Greeting': 38.690093994140625, 'Reacting': 53.885990142822266, 'LowerStretching': 47.295833587646484, 'Walking': 53.931922912597656, 'UpperStretching': 65.14431762695312, 'Patting': 58.87990951538086, 'Talking': 41.86055374145508, 'Gesticuling': 49.24343490600586, 'Gaming': 51.91630935668945}, 'LowerBody': {'All': 102.31336975097656, 'Greeting': 59.43364334106445, 'Reacting': 69.9004135131836, 'LowerStretching': 105.28924560546875, 'Walking': 106.72801971435547, 'UpperStretching': 106.06871032714844, 'Patting': 105.62324523925781, 'Talking': 64.38279724121094, 'Gesticuling': 65.11571502685547, 'Gaming': 74.7945785522461}}\n"
     ]
    },
    {
     "name": "stderr",
     "output_type": "stream",
     "text": [
      " 15%|█▍        | 801/5352 [02:04<11:01,  6.88it/s]"
     ]
    },
    {
     "name": "stdout",
     "output_type": "stream",
     "text": [
      "{'FullBody': {'All': 80.85537719726562, 'Greeting': 49.02357864379883, 'Reacting': 62.5621223449707, 'LowerStretching': 76.22312927246094, 'Walking': 80.73181915283203, 'UpperStretching': 85.68553161621094, 'Patting': 84.57669067382812, 'Talking': 54.398773193359375, 'Gesticuling': 57.633583068847656, 'Gaming': 65.49520111083984}, 'UpperBody': {'All': 59.22764587402344, 'Greeting': 38.50148010253906, 'Reacting': 54.625125885009766, 'LowerStretching': 47.49353790283203, 'Walking': 54.16828918457031, 'UpperStretching': 65.33484649658203, 'Patting': 58.906558990478516, 'Talking': 42.48086929321289, 'Gesticuling': 49.068546295166016, 'Gaming': 53.0464973449707}, 'LowerBody': {'All': 102.48310852050781, 'Greeting': 59.54568099975586, 'Reacting': 70.4991226196289, 'LowerStretching': 104.95272827148438, 'Walking': 107.29536437988281, 'UpperStretching': 106.03622436523438, 'Patting': 110.24681091308594, 'Talking': 66.31669616699219, 'Gesticuling': 66.1986312866211, 'Gaming': 77.94390106201172}}\n"
     ]
    },
    {
     "name": "stderr",
     "output_type": "stream",
     "text": [
      " 19%|█▊        | 1001/5352 [02:34<11:17,  6.42it/s]"
     ]
    },
    {
     "name": "stdout",
     "output_type": "stream",
     "text": [
      "{'FullBody': {'All': 80.91856384277344, 'Greeting': 48.617488861083984, 'Reacting': 64.22025299072266, 'LowerStretching': 76.70692443847656, 'Walking': 80.66580200195312, 'UpperStretching': 85.58928680419922, 'Patting': 84.27242279052734, 'Talking': 54.093448638916016, 'Gesticuling': 57.15015411376953, 'Gaming': 65.02889251708984}, 'UpperBody': {'All': 59.37928771972656, 'Greeting': 38.396175384521484, 'Reacting': 56.29218292236328, 'LowerStretching': 47.78895568847656, 'Walking': 54.54230880737305, 'UpperStretching': 65.35150146484375, 'Patting': 58.958866119384766, 'Talking': 42.24738311767578, 'Gesticuling': 48.389122009277344, 'Gaming': 52.453956604003906}, 'LowerBody': {'All': 102.45780944824219, 'Greeting': 58.83879470825195, 'Reacting': 72.1483383178711, 'LowerStretching': 105.6249008178711, 'Walking': 106.7892837524414, 'UpperStretching': 105.82705688476562, 'Patting': 109.58599090576172, 'Talking': 65.93951416015625, 'Gesticuling': 65.91118621826172, 'Gaming': 77.60382843017578}}\n"
     ]
    },
    {
     "name": "stderr",
     "output_type": "stream",
     "text": [
      " 22%|██▏       | 1201/5352 [03:03<10:05,  6.85it/s]"
     ]
    },
    {
     "name": "stdout",
     "output_type": "stream",
     "text": [
      "{'FullBody': {'All': 81.06341552734375, 'Greeting': 48.806217193603516, 'Reacting': 64.7625732421875, 'LowerStretching': 76.59432220458984, 'Walking': 81.1679458618164, 'UpperStretching': 85.77068328857422, 'Patting': 83.42135620117188, 'Talking': 54.867225646972656, 'Gesticuling': 56.325965881347656, 'Gaming': 65.34371948242188}, 'UpperBody': {'All': 59.405643463134766, 'Greeting': 38.56732177734375, 'Reacting': 56.72908020019531, 'LowerStretching': 47.7446403503418, 'Walking': 54.971195220947266, 'UpperStretching': 65.34669494628906, 'Patting': 57.311397552490234, 'Talking': 43.360595703125, 'Gesticuling': 47.30876922607422, 'Gaming': 53.37367630004883}, 'LowerBody': {'All': 102.72119140625, 'Greeting': 59.045108795166016, 'Reacting': 72.79606628417969, 'LowerStretching': 105.4439926147461, 'Walking': 107.36470794677734, 'UpperStretching': 106.19467163085938, 'Patting': 109.53131103515625, 'Talking': 66.37384796142578, 'Gesticuling': 65.3431625366211, 'Gaming': 77.31375885009766}}\n"
     ]
    },
    {
     "name": "stderr",
     "output_type": "stream",
     "text": [
      " 26%|██▌       | 1401/5352 [03:33<09:26,  6.98it/s]"
     ]
    },
    {
     "name": "stdout",
     "output_type": "stream",
     "text": [
      "{'FullBody': {'All': 80.99406433105469, 'Greeting': 48.62184524536133, 'Reacting': 64.65786743164062, 'LowerStretching': 76.61858367919922, 'Walking': 81.13371276855469, 'UpperStretching': 85.6766357421875, 'Patting': 82.44525146484375, 'Talking': 54.667457580566406, 'Gesticuling': 56.31248474121094, 'Gaming': 65.74227142333984}, 'UpperBody': {'All': 59.3653678894043, 'Greeting': 38.27604293823242, 'Reacting': 56.84444808959961, 'LowerStretching': 47.678218841552734, 'Walking': 55.10157775878906, 'UpperStretching': 65.26522827148438, 'Patting': 56.415618896484375, 'Talking': 42.87998580932617, 'Gesticuling': 47.019630432128906, 'Gaming': 54.40945053100586}, 'LowerBody': {'All': 102.62276458740234, 'Greeting': 58.967647552490234, 'Reacting': 72.4712905883789, 'LowerStretching': 105.55895233154297, 'Walking': 107.16585540771484, 'UpperStretching': 106.0880355834961, 'Patting': 108.47486877441406, 'Talking': 66.45494079589844, 'Gesticuling': 65.60533142089844, 'Gaming': 77.07508850097656}}\n"
     ]
    },
    {
     "name": "stderr",
     "output_type": "stream",
     "text": [
      " 30%|██▉       | 1601/5352 [04:03<09:17,  6.73it/s]"
     ]
    },
    {
     "name": "stdout",
     "output_type": "stream",
     "text": [
      "{'FullBody': {'All': 81.13361358642578, 'Greeting': 48.676761627197266, 'Reacting': 64.68122100830078, 'LowerStretching': 76.97769165039062, 'Walking': 81.37519836425781, 'UpperStretching': 85.8517074584961, 'Patting': 80.74336242675781, 'Talking': 54.3062744140625, 'Gesticuling': 55.95759582519531, 'Gaming': 65.49219512939453}, 'UpperBody': {'All': 59.42475891113281, 'Greeting': 38.545162200927734, 'Reacting': 57.0143928527832, 'LowerStretching': 47.74029541015625, 'Walking': 55.15005111694336, 'UpperStretching': 65.44462585449219, 'Patting': 55.16015625, 'Talking': 42.61427688598633, 'Gesticuling': 46.590877532958984, 'Gaming': 54.375553131103516}, 'LowerBody': {'All': 102.84246063232422, 'Greeting': 58.80835723876953, 'Reacting': 72.3480453491211, 'LowerStretching': 106.215087890625, 'Walking': 107.60032653808594, 'UpperStretching': 106.25879669189453, 'Patting': 106.32656860351562, 'Talking': 65.99828338623047, 'Gesticuling': 65.32431030273438, 'Gaming': 76.60884094238281}}\n"
     ]
    },
    {
     "name": "stderr",
     "output_type": "stream",
     "text": [
      " 34%|███▎      | 1801/5352 [04:32<08:29,  6.97it/s]"
     ]
    },
    {
     "name": "stdout",
     "output_type": "stream",
     "text": [
      "{'FullBody': {'All': 81.22300720214844, 'Greeting': 48.91824722290039, 'Reacting': 64.5242919921875, 'LowerStretching': 77.25648498535156, 'Walking': 81.30125427246094, 'UpperStretching': 85.95387268066406, 'Patting': 81.89739227294922, 'Talking': 53.77355194091797, 'Gesticuling': 55.80321502685547, 'Gaming': 65.4631576538086}, 'UpperBody': {'All': 59.512481689453125, 'Greeting': 38.73213577270508, 'Reacting': 57.12039566040039, 'LowerStretching': 47.820247650146484, 'Walking': 55.14234924316406, 'UpperStretching': 65.58798217773438, 'Patting': 55.849281311035156, 'Talking': 42.11506652832031, 'Gesticuling': 46.4026985168457, 'Gaming': 54.279457092285156}, 'LowerBody': {'All': 102.93352508544922, 'Greeting': 59.10435104370117, 'Reacting': 71.92818450927734, 'LowerStretching': 106.69271087646484, 'Walking': 107.46014404296875, 'UpperStretching': 106.31975555419922, 'Patting': 107.94549560546875, 'Talking': 65.43204498291016, 'Gesticuling': 65.2037353515625, 'Gaming': 76.64685821533203}}\n"
     ]
    },
    {
     "name": "stderr",
     "output_type": "stream",
     "text": [
      " 37%|███▋      | 2001/5352 [05:01<08:14,  6.78it/s]"
     ]
    },
    {
     "name": "stdout",
     "output_type": "stream",
     "text": [
      "{'FullBody': {'All': 81.27257537841797, 'Greeting': 48.775352478027344, 'Reacting': 64.46905517578125, 'LowerStretching': 77.5433578491211, 'Walking': 81.36038970947266, 'UpperStretching': 85.92464447021484, 'Patting': 82.26329040527344, 'Talking': 53.23432159423828, 'Gesticuling': 55.965179443359375, 'Gaming': 66.01033020019531}, 'UpperBody': {'All': 59.50274658203125, 'Greeting': 38.4272346496582, 'Reacting': 56.774513244628906, 'LowerStretching': 47.97483444213867, 'Walking': 55.25595474243164, 'UpperStretching': 65.52566528320312, 'Patting': 55.8155517578125, 'Talking': 41.763328552246094, 'Gesticuling': 46.624752044677734, 'Gaming': 54.78619384765625}, 'LowerBody': {'All': 103.04240417480469, 'Greeting': 59.123477935791016, 'Reacting': 72.16360473632812, 'LowerStretching': 107.11186981201172, 'Walking': 107.4648208618164, 'UpperStretching': 106.32359313964844, 'Patting': 108.71102905273438, 'Talking': 64.70531463623047, 'Gesticuling': 65.30561065673828, 'Gaming': 77.23445129394531}}\n"
     ]
    },
    {
     "name": "stderr",
     "output_type": "stream",
     "text": [
      " 41%|████      | 2201/5352 [05:31<08:13,  6.38it/s]"
     ]
    },
    {
     "name": "stdout",
     "output_type": "stream",
     "text": [
      "{'FullBody': {'All': 81.24034118652344, 'Greeting': 48.68788146972656, 'Reacting': 64.27912902832031, 'LowerStretching': 77.44971466064453, 'Walking': 81.20417022705078, 'UpperStretching': 85.90819549560547, 'Patting': 81.30028533935547, 'Talking': 53.09305191040039, 'Gesticuling': 55.8270263671875, 'Gaming': 66.29132080078125}, 'UpperBody': {'All': 59.488094329833984, 'Greeting': 38.360382080078125, 'Reacting': 56.408111572265625, 'LowerStretching': 47.97309875488281, 'Walking': 55.07487487792969, 'UpperStretching': 65.52742767333984, 'Patting': 55.25989532470703, 'Talking': 41.925506591796875, 'Gesticuling': 46.51467514038086, 'Gaming': 54.90205383300781}, 'LowerBody': {'All': 102.99258422851562, 'Greeting': 59.01538848876953, 'Reacting': 72.15013122558594, 'LowerStretching': 106.92631530761719, 'Walking': 107.3334732055664, 'UpperStretching': 106.28894805908203, 'Patting': 107.3406753540039, 'Talking': 64.2605972290039, 'Gesticuling': 65.13937377929688, 'Gaming': 77.68059539794922}}\n"
     ]
    },
    {
     "name": "stderr",
     "output_type": "stream",
     "text": [
      " 45%|████▍     | 2401/5352 [06:01<07:12,  6.82it/s]"
     ]
    },
    {
     "name": "stdout",
     "output_type": "stream",
     "text": [
      "{'FullBody': {'All': 81.2015380859375, 'Greeting': 48.193077087402344, 'Reacting': 64.15478515625, 'LowerStretching': 77.42826843261719, 'Walking': 81.50342559814453, 'UpperStretching': 85.86302185058594, 'Patting': 81.26676177978516, 'Talking': 53.023040771484375, 'Gesticuling': 55.4905891418457, 'Gaming': 66.05895233154297}, 'UpperBody': {'All': 59.50114440917969, 'Greeting': 37.74696350097656, 'Reacting': 56.359317779541016, 'LowerStretching': 48.0746955871582, 'Walking': 55.29551315307617, 'UpperStretching': 65.52128601074219, 'Patting': 55.20197296142578, 'Talking': 42.07725143432617, 'Gesticuling': 46.269039154052734, 'Gaming': 54.75371170043945}, 'LowerBody': {'All': 102.90193176269531, 'Greeting': 58.639190673828125, 'Reacting': 71.95026397705078, 'LowerStretching': 106.78184509277344, 'Walking': 107.71134185791016, 'UpperStretching': 106.20475006103516, 'Patting': 107.33155059814453, 'Talking': 63.96883010864258, 'Gesticuling': 64.71214294433594, 'Gaming': 77.36419677734375}}\n"
     ]
    },
    {
     "name": "stderr",
     "output_type": "stream",
     "text": [
      " 49%|████▊     | 2601/5352 [06:30<06:41,  6.85it/s]"
     ]
    },
    {
     "name": "stdout",
     "output_type": "stream",
     "text": [
      "{'FullBody': {'All': 81.11518859863281, 'Greeting': 48.31521224975586, 'Reacting': 63.90959548950195, 'LowerStretching': 77.244873046875, 'Walking': 81.26553344726562, 'UpperStretching': 85.83415985107422, 'Patting': 80.79875946044922, 'Talking': 52.91637420654297, 'Gesticuling': 55.619384765625, 'Gaming': 66.21308135986328}, 'UpperBody': {'All': 59.456539154052734, 'Greeting': 37.864566802978516, 'Reacting': 56.19706726074219, 'LowerStretching': 47.99029541015625, 'Walking': 55.21272277832031, 'UpperStretching': 65.52429962158203, 'Patting': 54.60929489135742, 'Talking': 41.8580436706543, 'Gesticuling': 46.24533462524414, 'Gaming': 54.64947509765625}, 'LowerBody': {'All': 102.77384948730469, 'Greeting': 58.76586151123047, 'Reacting': 71.62213134765625, 'LowerStretching': 106.49945068359375, 'Walking': 107.31834411621094, 'UpperStretching': 106.14403533935547, 'Patting': 106.98822021484375, 'Talking': 63.974708557128906, 'Gesticuling': 64.9934310913086, 'Gaming': 77.77668762207031}}\n"
     ]
    },
    {
     "name": "stderr",
     "output_type": "stream",
     "text": [
      " 52%|█████▏    | 2801/5352 [07:00<06:36,  6.44it/s]"
     ]
    },
    {
     "name": "stdout",
     "output_type": "stream",
     "text": [
      "{'FullBody': {'All': 81.11094665527344, 'Greeting': 47.85757064819336, 'Reacting': 64.25358581542969, 'LowerStretching': 77.3081283569336, 'Walking': 81.12715911865234, 'UpperStretching': 85.82551574707031, 'Patting': 80.51761627197266, 'Talking': 52.86506271362305, 'Gesticuling': 55.49615478515625, 'Gaming': 66.25997924804688}, 'UpperBody': {'All': 59.461116790771484, 'Greeting': 37.430908203125, 'Reacting': 56.64712142944336, 'LowerStretching': 48.046539306640625, 'Walking': 55.21139907836914, 'UpperStretching': 65.50352478027344, 'Patting': 54.16651153564453, 'Talking': 41.64053726196289, 'Gesticuling': 46.1442985534668, 'Gaming': 54.53464126586914}, 'LowerBody': {'All': 102.76077270507812, 'Greeting': 58.28423309326172, 'Reacting': 71.86005401611328, 'LowerStretching': 106.56970977783203, 'Walking': 107.04290771484375, 'UpperStretching': 106.14750671386719, 'Patting': 106.86871337890625, 'Talking': 64.08958435058594, 'Gesticuling': 64.84801483154297, 'Gaming': 77.98531341552734}}\n"
     ]
    },
    {
     "name": "stderr",
     "output_type": "stream",
     "text": [
      " 56%|█████▌    | 3001/5352 [07:30<05:52,  6.68it/s]"
     ]
    },
    {
     "name": "stdout",
     "output_type": "stream",
     "text": [
      "{'FullBody': {'All': 81.0622329711914, 'Greeting': 48.01789855957031, 'Reacting': 64.2355728149414, 'LowerStretching': 77.41675567626953, 'Walking': 81.19575500488281, 'UpperStretching': 85.71080017089844, 'Patting': 80.46813201904297, 'Talking': 52.940765380859375, 'Gesticuling': 55.4520378112793, 'Gaming': 66.04645538330078}, 'UpperBody': {'All': 59.43379211425781, 'Greeting': 37.43894958496094, 'Reacting': 56.540470123291016, 'LowerStretching': 48.07272720336914, 'Walking': 55.190711975097656, 'UpperStretching': 65.48322296142578, 'Patting': 53.94283676147461, 'Talking': 41.63378143310547, 'Gesticuling': 46.08842086791992, 'Gaming': 54.100067138671875}, 'LowerBody': {'All': 102.690673828125, 'Greeting': 58.59684753417969, 'Reacting': 71.93067169189453, 'LowerStretching': 106.76079559326172, 'Walking': 107.2007827758789, 'UpperStretching': 105.9383773803711, 'Patting': 106.99342346191406, 'Talking': 64.24773406982422, 'Gesticuling': 64.8156509399414, 'Gaming': 77.99284362792969}}\n"
     ]
    },
    {
     "name": "stderr",
     "output_type": "stream",
     "text": [
      " 60%|█████▉    | 3201/5352 [07:59<05:15,  6.83it/s]"
     ]
    },
    {
     "name": "stdout",
     "output_type": "stream",
     "text": [
      "{'FullBody': {'All': 81.04743957519531, 'Greeting': 47.93425369262695, 'Reacting': 64.1723403930664, 'LowerStretching': 77.45220947265625, 'Walking': 81.2564468383789, 'UpperStretching': 85.71142578125, 'Patting': 79.98168182373047, 'Talking': 52.647377014160156, 'Gesticuling': 55.3709602355957, 'Gaming': 66.17259216308594}, 'UpperBody': {'All': 59.366905212402344, 'Greeting': 37.415679931640625, 'Reacting': 56.536556243896484, 'LowerStretching': 48.08019256591797, 'Walking': 55.16547393798828, 'UpperStretching': 65.38488006591797, 'Patting': 53.80006790161133, 'Talking': 41.3254280090332, 'Gesticuling': 46.043128967285156, 'Gaming': 54.39600372314453}, 'LowerBody': {'All': 102.72798156738281, 'Greeting': 58.45283508300781, 'Reacting': 71.80812072753906, 'LowerStretching': 106.8242416381836, 'Walking': 107.347412109375, 'UpperStretching': 106.0379867553711, 'Patting': 106.16329956054688, 'Talking': 63.969337463378906, 'Gesticuling': 64.69880676269531, 'Gaming': 77.94918823242188}}\n"
     ]
    },
    {
     "name": "stderr",
     "output_type": "stream",
     "text": [
      " 64%|██████▎   | 3401/5352 [08:29<05:09,  6.30it/s]"
     ]
    },
    {
     "name": "stdout",
     "output_type": "stream",
     "text": [
      "{'FullBody': {'All': 81.1207275390625, 'Greeting': 47.94831848144531, 'Reacting': 64.34139251708984, 'LowerStretching': 77.50638580322266, 'Walking': 81.28197479248047, 'UpperStretching': 85.75379943847656, 'Patting': 80.9951400756836, 'Talking': 52.582252502441406, 'Gesticuling': 55.426937103271484, 'Gaming': 66.59593200683594}, 'UpperBody': {'All': 59.40392303466797, 'Greeting': 37.502838134765625, 'Reacting': 56.67001724243164, 'LowerStretching': 48.13863754272461, 'Walking': 55.207462310791016, 'UpperStretching': 65.3572006225586, 'Patting': 54.59425354003906, 'Talking': 41.15691375732422, 'Gesticuling': 46.02041244506836, 'Gaming': 54.90250778198242}, 'LowerBody': {'All': 102.8375244140625, 'Greeting': 58.393798828125, 'Reacting': 72.01276397705078, 'LowerStretching': 106.87413787841797, 'Walking': 107.35648345947266, 'UpperStretching': 106.15038299560547, 'Patting': 107.3960189819336, 'Talking': 64.0075912475586, 'Gesticuling': 64.8334732055664, 'Gaming': 78.28936004638672}}\n"
     ]
    },
    {
     "name": "stderr",
     "output_type": "stream",
     "text": [
      " 67%|██████▋   | 3601/5352 [08:59<04:19,  6.74it/s]"
     ]
    },
    {
     "name": "stdout",
     "output_type": "stream",
     "text": [
      "{'FullBody': {'All': 81.10641479492188, 'Greeting': 47.83537673950195, 'Reacting': 64.4592056274414, 'LowerStretching': 77.4738540649414, 'Walking': 81.36827850341797, 'UpperStretching': 85.76769256591797, 'Patting': 80.75068664550781, 'Talking': 52.422542572021484, 'Gesticuling': 55.35666275024414, 'Gaming': 66.43506622314453}, 'UpperBody': {'All': 59.39571762084961, 'Greeting': 37.297401428222656, 'Reacting': 56.87862014770508, 'LowerStretching': 48.12227249145508, 'Walking': 55.32738494873047, 'UpperStretching': 65.35383605957031, 'Patting': 54.527137756347656, 'Talking': 41.01240921020508, 'Gesticuling': 46.033687591552734, 'Gaming': 54.804962158203125}, 'LowerBody': {'All': 102.8171157836914, 'Greeting': 58.37335968017578, 'Reacting': 72.03977966308594, 'LowerStretching': 106.825439453125, 'Walking': 107.4091567993164, 'UpperStretching': 106.18155670166016, 'Patting': 106.97423553466797, 'Talking': 63.832672119140625, 'Gesticuling': 64.67963409423828, 'Gaming': 78.06517791748047}}\n"
     ]
    },
    {
     "name": "stderr",
     "output_type": "stream",
     "text": [
      " 71%|███████   | 3801/5352 [09:29<03:57,  6.54it/s]"
     ]
    },
    {
     "name": "stdout",
     "output_type": "stream",
     "text": [
      "{'FullBody': {'All': 81.0842056274414, 'Greeting': 47.83616256713867, 'Reacting': 64.51864624023438, 'LowerStretching': 77.3519058227539, 'Walking': 81.34024810791016, 'UpperStretching': 85.77460479736328, 'Patting': 80.70816802978516, 'Talking': 52.25077438354492, 'Gesticuling': 55.319278717041016, 'Gaming': 66.45158386230469}, 'UpperBody': {'All': 59.390052795410156, 'Greeting': 37.181884765625, 'Reacting': 56.91346740722656, 'LowerStretching': 48.0008659362793, 'Walking': 55.264015197753906, 'UpperStretching': 65.38591766357422, 'Patting': 54.7115478515625, 'Talking': 40.89969253540039, 'Gesticuling': 46.013702392578125, 'Gaming': 54.939796447753906}, 'LowerBody': {'All': 102.77835845947266, 'Greeting': 58.49044418334961, 'Reacting': 72.12382507324219, 'LowerStretching': 106.70294189453125, 'Walking': 107.41649627685547, 'UpperStretching': 106.16329956054688, 'Patting': 106.70480346679688, 'Talking': 63.60186004638672, 'Gesticuling': 64.6248550415039, 'Gaming': 77.96337127685547}}\n"
     ]
    },
    {
     "name": "stderr",
     "output_type": "stream",
     "text": [
      " 75%|███████▍  | 4001/5352 [09:59<03:34,  6.29it/s]"
     ]
    },
    {
     "name": "stdout",
     "output_type": "stream",
     "text": [
      "{'FullBody': {'All': 81.05447387695312, 'Greeting': 47.52134323120117, 'Reacting': 64.35212707519531, 'LowerStretching': 77.29327392578125, 'Walking': 81.33341217041016, 'UpperStretching': 85.76407623291016, 'Patting': 80.48796081542969, 'Talking': 52.040950775146484, 'Gesticuling': 55.40730667114258, 'Gaming': 66.28614807128906}, 'UpperBody': {'All': 59.373138427734375, 'Greeting': 36.96397399902344, 'Reacting': 56.73784255981445, 'LowerStretching': 47.95106887817383, 'Walking': 55.29740524291992, 'UpperStretching': 65.38330841064453, 'Patting': 54.50463104248047, 'Talking': 40.621578216552734, 'Gesticuling': 46.03725814819336, 'Gaming': 54.796363830566406}, 'LowerBody': {'All': 102.7358169555664, 'Greeting': 58.07870864868164, 'Reacting': 71.9664077758789, 'LowerStretching': 106.6354751586914, 'Walking': 107.36942291259766, 'UpperStretching': 106.14483642578125, 'Patting': 106.4712905883789, 'Talking': 63.460323333740234, 'Gesticuling': 64.77735900878906, 'Gaming': 77.77591705322266}}\n"
     ]
    },
    {
     "name": "stderr",
     "output_type": "stream",
     "text": [
      " 78%|███████▊  | 4201/5352 [10:29<02:57,  6.47it/s]"
     ]
    },
    {
     "name": "stdout",
     "output_type": "stream",
     "text": [
      "{'FullBody': {'All': 81.03443145751953, 'Greeting': 47.41802978515625, 'Reacting': 64.33609008789062, 'LowerStretching': 77.2998046875, 'Walking': 81.30741119384766, 'UpperStretching': 85.73487854003906, 'Patting': 80.54679870605469, 'Talking': 52.00648498535156, 'Gesticuling': 55.58518600463867, 'Gaming': 66.12163543701172}, 'UpperBody': {'All': 59.354942321777344, 'Greeting': 36.911376953125, 'Reacting': 56.6962776184082, 'LowerStretching': 47.9457893371582, 'Walking': 55.297420501708984, 'UpperStretching': 65.36011505126953, 'Patting': 54.508174896240234, 'Talking': 40.590423583984375, 'Gesticuling': 46.165321350097656, 'Gaming': 54.58995056152344}, 'LowerBody': {'All': 102.71393585205078, 'Greeting': 57.9246826171875, 'Reacting': 71.97589874267578, 'LowerStretching': 106.65382385253906, 'Walking': 107.31739807128906, 'UpperStretching': 106.10964965820312, 'Patting': 106.58541870117188, 'Talking': 63.42254638671875, 'Gesticuling': 65.00505065917969, 'Gaming': 77.65330505371094}}\n"
     ]
    },
    {
     "name": "stderr",
     "output_type": "stream",
     "text": [
      " 82%|████████▏ | 4401/5352 [10:59<02:26,  6.50it/s]"
     ]
    },
    {
     "name": "stdout",
     "output_type": "stream",
     "text": [
      "{'FullBody': {'All': 81.05475616455078, 'Greeting': 47.3045654296875, 'Reacting': 64.55670166015625, 'LowerStretching': 77.32166290283203, 'Walking': 81.30855560302734, 'UpperStretching': 85.73181915283203, 'Patting': 81.34571075439453, 'Talking': 52.021976470947266, 'Gesticuling': 55.59214782714844, 'Gaming': 65.90299987792969}, 'UpperBody': {'All': 59.38304138183594, 'Greeting': 36.82227325439453, 'Reacting': 56.848785400390625, 'LowerStretching': 47.995643615722656, 'Walking': 55.3232421875, 'UpperStretching': 65.36102294921875, 'Patting': 55.16759490966797, 'Talking': 40.64377975463867, 'Gesticuling': 46.17801284790039, 'Gaming': 54.445926666259766}, 'LowerBody': {'All': 102.72647857666016, 'Greeting': 57.7868537902832, 'Reacting': 72.26460266113281, 'LowerStretching': 106.64769744873047, 'Walking': 107.29386901855469, 'UpperStretching': 106.10261535644531, 'Patting': 107.5238265991211, 'Talking': 63.400169372558594, 'Gesticuling': 65.00628662109375, 'Gaming': 77.36006927490234}}\n"
     ]
    },
    {
     "name": "stderr",
     "output_type": "stream",
     "text": [
      " 86%|████████▌ | 4601/5352 [11:29<02:07,  5.89it/s]"
     ]
    },
    {
     "name": "stdout",
     "output_type": "stream",
     "text": [
      "{'FullBody': {'All': 80.9979476928711, 'Greeting': 47.258544921875, 'Reacting': 64.40583038330078, 'LowerStretching': 77.2068099975586, 'Walking': 81.23355865478516, 'UpperStretching': 85.72029113769531, 'Patting': 81.1236801147461, 'Talking': 52.00748825073242, 'Gesticuling': 55.458866119384766, 'Gaming': 65.77396392822266}, 'UpperBody': {'All': 59.33176040649414, 'Greeting': 36.82487106323242, 'Reacting': 56.64674377441406, 'LowerStretching': 47.952545166015625, 'Walking': 55.31342697143555, 'UpperStretching': 65.32423400878906, 'Patting': 55.06972122192383, 'Talking': 40.60824203491211, 'Gesticuling': 45.99006271362305, 'Gaming': 54.27165222167969}, 'LowerBody': {'All': 102.66414642333984, 'Greeting': 57.69221878051758, 'Reacting': 72.1649169921875, 'LowerStretching': 106.46107482910156, 'Walking': 107.15370178222656, 'UpperStretching': 106.1163558959961, 'Patting': 107.1776351928711, 'Talking': 63.40672302246094, 'Gesticuling': 64.92766571044922, 'Gaming': 77.27627563476562}}\n"
     ]
    },
    {
     "name": "stderr",
     "output_type": "stream",
     "text": [
      " 90%|████████▉ | 4801/5352 [11:59<01:27,  6.31it/s]"
     ]
    },
    {
     "name": "stdout",
     "output_type": "stream",
     "text": [
      "{'FullBody': {'All': 81.0234603881836, 'Greeting': 47.126243591308594, 'Reacting': 64.21955871582031, 'LowerStretching': 77.23042297363281, 'Walking': 81.31310272216797, 'UpperStretching': 85.75447845458984, 'Patting': 81.06488037109375, 'Talking': 51.74673843383789, 'Gesticuling': 55.52042007446289, 'Gaming': 65.74195861816406}, 'UpperBody': {'All': 59.33674621582031, 'Greeting': 36.6977424621582, 'Reacting': 56.440757751464844, 'LowerStretching': 47.94766616821289, 'Walking': 55.3256721496582, 'UpperStretching': 65.33663940429688, 'Patting': 55.05359649658203, 'Talking': 40.38107681274414, 'Gesticuling': 46.069480895996094, 'Gaming': 54.31284713745117}, 'LowerBody': {'All': 102.71019744873047, 'Greeting': 57.554744720458984, 'Reacting': 71.99835205078125, 'LowerStretching': 106.51317596435547, 'Walking': 107.30054473876953, 'UpperStretching': 106.17230224609375, 'Patting': 107.07617950439453, 'Talking': 63.11239242553711, 'Gesticuling': 64.97135925292969, 'Gaming': 77.17106628417969}}\n"
     ]
    },
    {
     "name": "stderr",
     "output_type": "stream",
     "text": [
      " 93%|█████████▎| 5001/5352 [12:29<00:55,  6.37it/s]"
     ]
    },
    {
     "name": "stdout",
     "output_type": "stream",
     "text": [
      "{'FullBody': {'All': 81.03843688964844, 'Greeting': 47.04254150390625, 'Reacting': 64.12323760986328, 'LowerStretching': 77.17101287841797, 'Walking': 81.34384155273438, 'UpperStretching': 85.80071258544922, 'Patting': 80.79283142089844, 'Talking': 51.6414909362793, 'Gesticuling': 55.71262741088867, 'Gaming': 65.745849609375}, 'UpperBody': {'All': 59.3296012878418, 'Greeting': 36.64509582519531, 'Reacting': 56.25522994995117, 'LowerStretching': 47.92436599731445, 'Walking': 55.316932678222656, 'UpperStretching': 65.35411071777344, 'Patting': 54.649478912353516, 'Talking': 40.271568298339844, 'Gesticuling': 46.34600067138672, 'Gaming': 54.25580978393555}, 'LowerBody': {'All': 102.74727630615234, 'Greeting': 57.43998718261719, 'Reacting': 71.99124908447266, 'LowerStretching': 106.41767120361328, 'Walking': 107.37075805664062, 'UpperStretching': 106.247314453125, 'Patting': 106.93619537353516, 'Talking': 63.01141357421875, 'Gesticuling': 65.07925415039062, 'Gaming': 77.23590850830078}}\n"
     ]
    },
    {
     "name": "stderr",
     "output_type": "stream",
     "text": [
      " 97%|█████████▋| 5201/5352 [12:59<00:24,  6.18it/s]"
     ]
    },
    {
     "name": "stdout",
     "output_type": "stream",
     "text": [
      "{'FullBody': {'All': 81.02518463134766, 'Greeting': 47.006404876708984, 'Reacting': 64.20122528076172, 'LowerStretching': 77.08159637451172, 'Walking': 81.32328796386719, 'UpperStretching': 85.80549621582031, 'Patting': 80.75770568847656, 'Talking': 51.68637466430664, 'Gesticuling': 55.60093688964844, 'Gaming': 65.72148895263672}, 'UpperBody': {'All': 59.33051681518555, 'Greeting': 36.64870071411133, 'Reacting': 56.376399993896484, 'LowerStretching': 47.867088317871094, 'Walking': 55.27642822265625, 'UpperStretching': 65.373046875, 'Patting': 54.682708740234375, 'Talking': 40.341888427734375, 'Gesticuling': 46.24913024902344, 'Gaming': 54.12533187866211}, 'LowerBody': {'All': 102.7198715209961, 'Greeting': 57.36410903930664, 'Reacting': 72.02605438232422, 'LowerStretching': 106.29611206054688, 'Walking': 107.37015533447266, 'UpperStretching': 106.23793029785156, 'Patting': 106.83271026611328, 'Talking': 63.03086471557617, 'Gesticuling': 64.95274353027344, 'Gaming': 77.31765747070312}}\n"
     ]
    },
    {
     "name": "stderr",
     "output_type": "stream",
     "text": [
      "100%|██████████| 5352/5352 [13:22<00:00,  6.67it/s]\n",
      "\u001b[94m20:20:26 \u001b[92m[INFO]\u001b[94m Main\u001b[0m: Saving evaluation results...\n",
      "\u001b[94m20:20:26 \u001b[92m[INFO]\u001b[94m Main\u001b[0m: Done.\n"
     ]
    }
   ],
   "source": [
    "for i,p in enumerate(path_):\n",
    "\tif i<6:continue\n",
    "\t_path = f'/workspace/2d_to_3d/apps/eval/Ours_sil_dep_fusion_depthWASP818'\n",
    "\t_name = f'baseline818_{i}.json'\n",
    "\tif not os.path.exists(_path):\n",
    "\t\tos.makedirs(_path)\n",
    "\n",
    "\tmain(model_path=p,output_path=os.path.join(_path,_name))"
   ]
  }
 ],
 "metadata": {
  "kernelspec": {
   "display_name": "base",
   "language": "python",
   "name": "python3"
  },
  "language_info": {
   "codemirror_mode": {
    "name": "ipython",
    "version": 3
   },
   "file_extension": ".py",
   "mimetype": "text/x-python",
   "name": "python",
   "nbconvert_exporter": "python",
   "pygments_lexer": "ipython3",
   "version": "3.10.8"
  },
  "orig_nbformat": 4
 },
 "nbformat": 4,
 "nbformat_minor": 2
}
