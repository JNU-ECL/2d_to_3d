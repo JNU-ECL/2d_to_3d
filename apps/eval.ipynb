{
 "cells": [
  {
   "cell_type": "code",
   "execution_count": 1,
   "metadata": {},
   "outputs": [
    {
     "name": "stderr",
     "output_type": "stream",
     "text": [
      "/opt/conda/lib/python3.10/site-packages/tqdm/auto.py:22: TqdmWarning: IProgress not found. Please update jupyter and ipywidgets. See https://ipywidgets.readthedocs.io/en/stable/user_install.html\n",
      "  from .autonotebook import tqdm as notebook_tqdm\n"
     ]
    }
   ],
   "source": [
    "# Copyright (c) Facebook, Inc. and its affiliates. All Rights Reserved\n",
    "# -*- coding: utf-8 -*-\n",
    "\"\"\"\n",
    "Demo code\n",
    "\n",
    "@author: Denis Tome'\n",
    "\n",
    "\"\"\"\n",
    "from torch.utils.data import DataLoader\n",
    "import torch\n",
    "from torchvision import transforms\n",
    "from base import SetType\n",
    "\n",
    "from mocap import Mocap\n",
    "from utils import config, ConsoleLogger\n",
    "from utils import evaluate, io\n",
    "from model import TempModel\n",
    "from tqdm import tqdm\n",
    "\n",
    "LOGGER = ConsoleLogger(\"Main\")\n",
    "use_cuda = torch.cuda.is_available()\n",
    "device = torch.device(\"cuda\" if use_cuda else \"cpu\")\n"
   ]
  },
  {
   "cell_type": "code",
   "execution_count": 2,
   "metadata": {},
   "outputs": [],
   "source": [
    "\n",
    "def main():\n",
    "\t\"\"\"Main\"\"\"\n",
    "\n",
    "\tLOGGER.info('Starting demo...')\n",
    "\n",
    "\t# ------------------- Data loader -------------------\n",
    "\n",
    "\n",
    "\t# let's load data from validation set as example\n",
    "\tdata = Mocap(\n",
    "\t\tconfig.dataset.test,\n",
    "\t\tSetType.VAL,\n",
    "\t\t)\n",
    "\tdata_loader = DataLoader(\n",
    "\t\tdata,\n",
    "\t\tbatch_size=config.data_loader.batch_size,\n",
    "\t\tshuffle=config.data_loader.shuffle)\n",
    "\n",
    "\t# ------------------- Evaluation -------------------\n",
    "\n",
    "\teval_body = evaluate.EvalBody()\n",
    "\teval_upper = evaluate.EvalUpperBody()\n",
    "\teval_lower = evaluate.EvalLowerBody()\n",
    "\n",
    "\t# ------------------- Read dataset frames -------------------\n",
    "\n",
    "\tmodel = TempModel().to(device)\n",
    "\tmodel = torch.nn.DataParallel(model,device_ids=[0,1])\n",
    "\tmodel.eval()\n",
    "\n",
    "\tfor it, test_batch in enumerate(tqdm(data_loader)):\n",
    "\t\timg = test_batch['image']\n",
    "\t\tp2d = test_batch['fisheye_joints_2d']\n",
    "\t\tp3d = test_batch['joints_3d_cam']\n",
    "\t\taction = test_batch['action']\n",
    "\t\tinput_img = {'image':img}\n",
    "\t\t# LOGGER.info('Iteration: {}'.format(it))\n",
    "\t\t# LOGGER.info('Images: {}'.format(img.shape))\n",
    "\t\t# LOGGER.info('p2ds: {}'.format(p2d.shape))\n",
    "\t\t# LOGGER.info('p3ds: {}'.format(p3d.shape))\n",
    "\t\t# LOGGER.info('Actions: {}'.format(action))\n",
    "\n",
    "\t\t# -----------------------------------------------------------\n",
    "\t\tpred_output = model(input_img)\n",
    "\t\t# -----------------------------------------------------------\n",
    "\n",
    "\t\t# TODO: replace p3d_hat with model preditions\n",
    "\t\tp3d_hat = pred_output['regressor_dict']['pred_joint']\n",
    "\n",
    "\t\t# Evaluate results using different evaluation metrices\n",
    "\t\ty_output = p3d_hat.data.cpu().numpy() * 1000\n",
    "\t\ty_target = p3d.data.cpu().numpy() * 1000\n",
    "\n",
    "\t\teval_body.eval(y_output, y_target, action)\n",
    "\t\teval_upper.eval(y_output, y_target, action)\n",
    "\t\teval_lower.eval(y_output, y_target, action)\n",
    "\t\tif (it+1)%300:\n",
    "\t\t\tprint({'FullBody': eval_body.get_results(),\n",
    "\t\t   'UpperBody': eval_upper.get_results(),\n",
    "\t\t   'LowerBody': eval_lower.get_results()})\n",
    "\t\t# TODO: remove break\n",
    "\t\t\n",
    "\n",
    "\t# ------------------- Save results -------------------\n",
    "\n",
    "\tLOGGER.info('Saving evaluation results...')\n",
    "\tres = {'FullBody': eval_body.get_results(),\n",
    "\t\t   'UpperBody': eval_upper.get_results(),\n",
    "\t\t   'LowerBody': eval_lower.get_results()}\n",
    "\n",
    "\tio.write_json(config.eval.output_file, res)\n",
    "\n",
    "\tLOGGER.info('Done.')"
   ]
  },
  {
   "cell_type": "code",
   "execution_count": 3,
   "metadata": {},
   "outputs": [
    {
     "name": "stderr",
     "output_type": "stream",
     "text": [
      "\u001b[94m09:36:39 \u001b[92m[INFO]\u001b[94m Main\u001b[0m: Starting demo...\n",
      "  0%|          | 0/5782 [00:00<?, ?it/s]/opt/conda/lib/python3.10/site-packages/torchvision/transforms/transforms.py:329: UserWarning: Argument 'interpolation' of type int is deprecated since 0.13 and will be removed in 0.15. Please use InterpolationMode enum.\n",
      "  warnings.warn(\n",
      "100%|██████████| 5782/5782 [2:24:47<00:00,  1.50s/it]  \n",
      "\u001b[94m12:01:28 \u001b[92m[INFO]\u001b[94m Main\u001b[0m: Saving evaluation results...\n",
      "\u001b[94m12:01:28 \u001b[92m[INFO]\u001b[94m Main\u001b[0m: Done.\n"
     ]
    }
   ],
   "source": [
    "main()"
   ]
  }
 ],
 "metadata": {
  "kernelspec": {
   "display_name": "base",
   "language": "python",
   "name": "python3"
  },
  "language_info": {
   "codemirror_mode": {
    "name": "ipython",
    "version": 3
   },
   "file_extension": ".py",
   "mimetype": "text/x-python",
   "name": "python",
   "nbconvert_exporter": "python",
   "pygments_lexer": "ipython3",
   "version": "3.10.8"
  },
  "orig_nbformat": 4
 },
 "nbformat": 4,
 "nbformat_minor": 2
}
