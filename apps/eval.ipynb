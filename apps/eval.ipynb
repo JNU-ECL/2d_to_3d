{
 "cells": [
  {
   "cell_type": "code",
   "execution_count": 1,
   "metadata": {},
   "outputs": [
    {
     "name": "stderr",
     "output_type": "stream",
     "text": [
      "/opt/conda/lib/python3.10/site-packages/tqdm/auto.py:22: TqdmWarning: IProgress not found. Please update jupyter and ipywidgets. See https://ipywidgets.readthedocs.io/en/stable/user_install.html\n",
      "  from .autonotebook import tqdm as notebook_tqdm\n"
     ]
    }
   ],
   "source": [
    "# Copyright (c) Facebook, Inc. and its affiliates. All Rights Reserved\n",
    "# -*- coding: utf-8 -*-\n",
    "\"\"\"\n",
    "Demo code\n",
    "\n",
    "@author: Denis Tome'\n",
    "\n",
    "\"\"\"\n",
    "from torch.utils.data import DataLoader\n",
    "import torch\n",
    "from torchvision import transforms\n",
    "from base import SetType\n",
    "import multiprocessing\n",
    "from mocap import Mocap\n",
    "from utils import config, ConsoleLogger\n",
    "from utils import evaluate, io\n",
    "from model import TempModel\n",
    "from model_xregopose import xR_egoposemodel\n",
    "from tqdm import tqdm\n",
    "\n",
    "LOGGER = ConsoleLogger(\"Main\")\n",
    "use_cuda = torch.cuda.is_available()\n",
    "device = torch.device(\"cuda\" if use_cuda else \"cpu\")\n"
   ]
  },
  {
   "cell_type": "code",
   "execution_count": 2,
   "metadata": {},
   "outputs": [],
   "source": [
    "\n",
    "def main(model_path=None,output_path=None):\n",
    "\t\"\"\"Main\"\"\"\n",
    "\n",
    "\tLOGGER.info('Starting demo...')\n",
    "\n",
    "\t# ------------------- Data loader -------------------\n",
    "\n",
    "\n",
    "\t# let's load data from validation set as example\n",
    "\tdata = Mocap(\n",
    "\t\t'/dataset/data/Dataset/TestSet',\n",
    "\t\tSetType.VAL,\n",
    "\t\t)\n",
    "\tdata_loader = DataLoader(\n",
    "\t\tdata,\n",
    "\t\tbatch_size=16,\n",
    "\t\tnum_workers=(multiprocessing.cpu_count() // 3) * 2,\n",
    "\t\tshuffle=True)\n",
    "\n",
    "\t# ------------------- Evaluation -------------------\n",
    "\n",
    "\teval_body = evaluate.EvalBody()\n",
    "\teval_upper = evaluate.EvalUpperBody()\n",
    "\teval_lower = evaluate.EvalLowerBody()\n",
    "\n",
    "\t# ------------------- Read dataset frames -------------------\n",
    "\n",
    "\tmodel = xR_egoposemodel(pretrained_path=model_path).to(device)\n",
    "\tmodel = torch.nn.DataParallel(model,device_ids=[0,1])\n",
    "\tmodel.eval()\n",
    "\n",
    "\tfor it, test_batch in enumerate(tqdm(data_loader)):\n",
    "\t\timg = test_batch['image']\n",
    "\t\tp3d = test_batch['joints_3d_cam']\n",
    "\t\taction = test_batch['action']\n",
    "\t\tinput_img = {'image':img}\n",
    "\t\t# LOGGER.info('Iteration: {}'.format(it))\n",
    "\t\t# LOGGER.info('Images: {}'.format(img.shape))\n",
    "\t\t# LOGGER.info('p2ds: {}'.format(p2d.shape))\n",
    "\t\t# LOGGER.info('p3ds: {}'.format(p3d.shape))\n",
    "\t\t# LOGGER.info('Actions: {}'.format(action))\n",
    "\n",
    "\t\t# -----------------------------------------------------------\n",
    "\t\tpred_output = model(input_img)\n",
    "\t\t# -----------------------------------------------------------\n",
    "\n",
    "\t\t# TODO: replace p3d_hat with model preditions\n",
    "\t\tp3d_hat = pred_output['pred_pose']\n",
    "\n",
    "\t\t# Evaluate results using different evaluation metrices\n",
    "\t\ty_output = p3d_hat.data.cpu().numpy() * 1000\n",
    "\t\ty_target = p3d.data.cpu().numpy() * 1000\n",
    "\n",
    "\t\teval_body.eval(y_output, y_target, action)\n",
    "\t\teval_upper.eval(y_output, y_target, action)\n",
    "\t\teval_lower.eval(y_output, y_target, action)\n",
    "\t\tif (it+1)%200==0:\n",
    "\t\t\tprint({'FullBody': eval_body.get_results(),\n",
    "\t\t   'UpperBody': eval_upper.get_results(),\n",
    "\t\t   'LowerBody': eval_lower.get_results()})\n",
    "\t\t\t# break\n",
    "\t\t# TODO: remove break\n",
    "\t\t\n",
    "\n",
    "\t# ------------------- Save results -------------------\n",
    "\n",
    "\tLOGGER.info('Saving evaluation results...')\n",
    "\tres = {'FullBody': eval_body.get_results(),\n",
    "\t\t   'UpperBody': eval_upper.get_results(),\n",
    "\t\t   'LowerBody': eval_lower.get_results()}\n",
    "\n",
    "\tio.write_json(output_path, res)\n",
    "\n",
    "\tLOGGER.info('Done.')"
   ]
  },
  {
   "cell_type": "code",
   "execution_count": 3,
   "metadata": {},
   "outputs": [
    {
     "data": {
      "text/plain": [
       "['/workspace/2d_to_3d/apps/exp703/0.pth',\n",
       " '/workspace/2d_to_3d/apps/exp703/1.pth',\n",
       " '/workspace/2d_to_3d/apps/exp703/2.pth',\n",
       " '/workspace/2d_to_3d/apps/exp703/3.pth',\n",
       " '/workspace/2d_to_3d/apps/exp703/4.pth',\n",
       " '/workspace/2d_to_3d/apps/exp703/5.pth',\n",
       " '/workspace/2d_to_3d/apps/exp703/6.pth',\n",
       " '/workspace/2d_to_3d/apps/exp703/7.pth',\n",
       " '/workspace/2d_to_3d/apps/exp703/8.pth',\n",
       " '/workspace/2d_to_3d/apps/exp703/9.pth',\n",
       " '/workspace/2d_to_3d/apps/exp703/best.pth']"
      ]
     },
     "execution_count": 3,
     "metadata": {},
     "output_type": "execute_result"
    }
   ],
   "source": [
    "import glob\n",
    "path_ =sorted(glob.glob('/workspace/2d_to_3d/apps/exp703'+'/*'))\n",
    "path_"
   ]
  },
  {
   "cell_type": "code",
   "execution_count": 4,
   "metadata": {},
   "outputs": [
    {
     "ename": "RuntimeError",
     "evalue": "No active exception to reraise",
     "output_type": "error",
     "traceback": [
      "\u001b[0;31m---------------------------------------------------------------------------\u001b[0m",
      "\u001b[0;31mRuntimeError\u001b[0m                              Traceback (most recent call last)",
      "Cell \u001b[0;32mIn[4], line 4\u001b[0m\n\u001b[1;32m      2\u001b[0m gc\u001b[39m.\u001b[39mcollect()\n\u001b[1;32m      3\u001b[0m torch\u001b[39m.\u001b[39mcuda\u001b[39m.\u001b[39mempty_cache()\n\u001b[0;32m----> 4\u001b[0m \u001b[39mraise\u001b[39;00m\n",
      "\u001b[0;31mRuntimeError\u001b[0m: No active exception to reraise"
     ]
    }
   ],
   "source": [
    "import gc\n",
    "gc.collect()\n",
    "torch.cuda.empty_cache()\n",
    "raise"
   ]
  },
  {
   "cell_type": "code",
   "execution_count": 5,
   "metadata": {},
   "outputs": [
    {
     "name": "stderr",
     "output_type": "stream",
     "text": [
      "\u001b[94m05:20:00 \u001b[92m[INFO]\u001b[94m Main\u001b[0m: Starting demo...\n",
      "  0%|          | 0/5352 [00:00<?, ?it/s]/opt/conda/lib/python3.10/site-packages/torchvision/transforms/transforms.py:329: UserWarning: Argument 'interpolation' of type int is deprecated since 0.13 and will be removed in 0.15. Please use InterpolationMode enum.\n",
      "  warnings.warn(\n",
      "/opt/conda/lib/python3.10/site-packages/torchvision/transforms/transforms.py:329: UserWarning: Argument 'interpolation' of type int is deprecated since 0.13 and will be removed in 0.15. Please use InterpolationMode enum.\n",
      "  warnings.warn(\n",
      "/opt/conda/lib/python3.10/site-packages/torchvision/transforms/transforms.py:329: UserWarning: Argument 'interpolation' of type int is deprecated since 0.13 and will be removed in 0.15. Please use InterpolationMode enum.\n",
      "  warnings.warn(\n",
      "/opt/conda/lib/python3.10/site-packages/torchvision/transforms/transforms.py:329: UserWarning: Argument 'interpolation' of type int is deprecated since 0.13 and will be removed in 0.15. Please use InterpolationMode enum.\n",
      "  warnings.warn(\n",
      "/opt/conda/lib/python3.10/site-packages/torchvision/transforms/transforms.py:329: UserWarning: Argument 'interpolation' of type int is deprecated since 0.13 and will be removed in 0.15. Please use InterpolationMode enum.\n",
      "  warnings.warn(\n",
      "/opt/conda/lib/python3.10/site-packages/torchvision/transforms/transforms.py:329: UserWarning: Argument 'interpolation' of type int is deprecated since 0.13 and will be removed in 0.15. Please use InterpolationMode enum.\n",
      "  warnings.warn(\n",
      "/opt/conda/lib/python3.10/site-packages/torchvision/transforms/transforms.py:329: UserWarning: Argument 'interpolation' of type int is deprecated since 0.13 and will be removed in 0.15. Please use InterpolationMode enum.\n",
      "  warnings.warn(\n",
      "/opt/conda/lib/python3.10/site-packages/torchvision/transforms/transforms.py:329: UserWarning: Argument 'interpolation' of type int is deprecated since 0.13 and will be removed in 0.15. Please use InterpolationMode enum.\n",
      "  warnings.warn(\n",
      "/opt/conda/lib/python3.10/site-packages/torchvision/transforms/transforms.py:329: UserWarning: Argument 'interpolation' of type int is deprecated since 0.13 and will be removed in 0.15. Please use InterpolationMode enum.\n",
      "  warnings.warn(\n",
      "/opt/conda/lib/python3.10/site-packages/torchvision/transforms/transforms.py:329: UserWarning: Argument 'interpolation' of type int is deprecated since 0.13 and will be removed in 0.15. Please use InterpolationMode enum.\n",
      "  warnings.warn(\n",
      "/opt/conda/lib/python3.10/site-packages/torchvision/transforms/transforms.py:329: UserWarning: Argument 'interpolation' of type int is deprecated since 0.13 and will be removed in 0.15. Please use InterpolationMode enum.\n",
      "  warnings.warn(\n",
      "/opt/conda/lib/python3.10/site-packages/torchvision/transforms/transforms.py:329: UserWarning: Argument 'interpolation' of type int is deprecated since 0.13 and will be removed in 0.15. Please use InterpolationMode enum.\n",
      "  warnings.warn(\n",
      "/opt/conda/lib/python3.10/site-packages/torchvision/transforms/transforms.py:329: UserWarning: Argument 'interpolation' of type int is deprecated since 0.13 and will be removed in 0.15. Please use InterpolationMode enum.\n",
      "  warnings.warn(\n",
      "/opt/conda/lib/python3.10/site-packages/torchvision/transforms/transforms.py:329: UserWarning: Argument 'interpolation' of type int is deprecated since 0.13 and will be removed in 0.15. Please use InterpolationMode enum.\n",
      "  warnings.warn(\n",
      "/opt/conda/lib/python3.10/site-packages/torchvision/transforms/transforms.py:329: UserWarning: Argument 'interpolation' of type int is deprecated since 0.13 and will be removed in 0.15. Please use InterpolationMode enum.\n",
      "  warnings.warn(\n",
      "/opt/conda/lib/python3.10/site-packages/torchvision/transforms/transforms.py:329: UserWarning: Argument 'interpolation' of type int is deprecated since 0.13 and will be removed in 0.15. Please use InterpolationMode enum.\n",
      "  warnings.warn(\n",
      "/opt/conda/lib/python3.10/site-packages/torchvision/transforms/transforms.py:329: UserWarning: Argument 'interpolation' of type int is deprecated since 0.13 and will be removed in 0.15. Please use InterpolationMode enum.\n",
      "  warnings.warn(\n",
      "/opt/conda/lib/python3.10/site-packages/torchvision/transforms/transforms.py:329: UserWarning: Argument 'interpolation' of type int is deprecated since 0.13 and will be removed in 0.15. Please use InterpolationMode enum.\n",
      "  warnings.warn(\n",
      "/opt/conda/lib/python3.10/site-packages/torchvision/transforms/transforms.py:329: UserWarning: Argument 'interpolation' of type int is deprecated since 0.13 and will be removed in 0.15. Please use InterpolationMode enum.\n",
      "  warnings.warn(\n",
      "/opt/conda/lib/python3.10/site-packages/torchvision/transforms/transforms.py:329: UserWarning: Argument 'interpolation' of type int is deprecated since 0.13 and will be removed in 0.15. Please use InterpolationMode enum.\n",
      "  warnings.warn(\n",
      "/opt/conda/lib/python3.10/site-packages/torchvision/transforms/transforms.py:329: UserWarning: Argument 'interpolation' of type int is deprecated since 0.13 and will be removed in 0.15. Please use InterpolationMode enum.\n",
      "  warnings.warn(\n",
      "/opt/conda/lib/python3.10/site-packages/torchvision/transforms/transforms.py:329: UserWarning: Argument 'interpolation' of type int is deprecated since 0.13 and will be removed in 0.15. Please use InterpolationMode enum.\n",
      "  warnings.warn(\n",
      "/opt/conda/lib/python3.10/site-packages/torchvision/transforms/transforms.py:329: UserWarning: Argument 'interpolation' of type int is deprecated since 0.13 and will be removed in 0.15. Please use InterpolationMode enum.\n",
      "  warnings.warn(\n",
      "/opt/conda/lib/python3.10/site-packages/torchvision/transforms/transforms.py:329: UserWarning: Argument 'interpolation' of type int is deprecated since 0.13 and will be removed in 0.15. Please use InterpolationMode enum.\n",
      "  warnings.warn(\n",
      "  4%|▎         | 200/5352 [01:16<29:29,  2.91it/s] "
     ]
    },
    {
     "name": "stdout",
     "output_type": "stream",
     "text": [
      "{'FullBody': {'All': 225.26840209960938, 'UpperStretching': 219.24481201171875, 'Walking': 237.12586975097656, 'Reacting': 227.7544403076172, 'LowerStretching': 242.7022247314453, 'Talking': 182.42916870117188, 'Patting': 267.2939453125, 'Gesticuling': 183.41539001464844, 'Gaming': 225.20668029785156, 'Greeting': 195.8561553955078}, 'UpperBody': {'All': 206.4003448486328, 'UpperStretching': 209.54306030273438, 'Walking': 227.46682739257812, 'Reacting': 195.15643310546875, 'LowerStretching': 189.5369110107422, 'Talking': 202.94647216796875, 'Patting': 195.0943145751953, 'Gesticuling': 185.93777465820312, 'Gaming': 190.57247924804688, 'Greeting': 222.23094177246094}, 'LowerBody': {'All': 244.13644409179688, 'UpperStretching': 228.94654846191406, 'Walking': 246.78492736816406, 'Reacting': 260.3524169921875, 'LowerStretching': 295.8675231933594, 'Talking': 161.911865234375, 'Patting': 339.4935607910156, 'Gesticuling': 180.8930206298828, 'Gaming': 259.8408508300781, 'Greeting': 169.48133850097656}}\n"
     ]
    },
    {
     "name": "stderr",
     "output_type": "stream",
     "text": [
      "  7%|▋         | 400/5352 [02:26<28:32,  2.89it/s]"
     ]
    },
    {
     "name": "stdout",
     "output_type": "stream",
     "text": [
      "{'FullBody': {'All': 224.69683837890625, 'UpperStretching': 218.35301208496094, 'Walking': 234.25782775878906, 'Reacting': 222.69729614257812, 'LowerStretching': 246.18301391601562, 'Talking': 186.40296936035156, 'Patting': 258.7860107421875, 'Gesticuling': 185.0850830078125, 'Gaming': 228.2462615966797, 'Greeting': 198.01031494140625}, 'UpperBody': {'All': 205.7212371826172, 'UpperStretching': 208.8577880859375, 'Walking': 225.86947631835938, 'Reacting': 196.4066619873047, 'LowerStretching': 189.08578491210938, 'Talking': 201.39874267578125, 'Patting': 194.54202270507812, 'Gesticuling': 182.3189239501953, 'Gaming': 191.3578338623047, 'Greeting': 222.93405151367188}, 'LowerBody': {'All': 243.6724395751953, 'UpperStretching': 227.84820556640625, 'Walking': 242.6461639404297, 'Reacting': 248.9879150390625, 'LowerStretching': 303.2801818847656, 'Talking': 171.4071807861328, 'Patting': 323.0299377441406, 'Gesticuling': 187.85122680664062, 'Gaming': 265.1346130371094, 'Greeting': 173.0865478515625}}\n"
     ]
    },
    {
     "name": "stderr",
     "output_type": "stream",
     "text": [
      " 11%|█         | 600/5352 [03:35<27:29,  2.88it/s]"
     ]
    },
    {
     "name": "stdout",
     "output_type": "stream",
     "text": [
      "{'FullBody': {'All': 224.31202697753906, 'UpperStretching': 218.21897888183594, 'Walking': 233.5593719482422, 'Reacting': 218.9559783935547, 'LowerStretching': 244.76190185546875, 'Talking': 187.66697692871094, 'Patting': 258.0119934082031, 'Gesticuling': 183.78738403320312, 'Gaming': 227.64181518554688, 'Greeting': 202.1220245361328}, 'UpperBody': {'All': 205.6807098388672, 'UpperStretching': 208.98736572265625, 'Walking': 225.6507568359375, 'Reacting': 199.24693298339844, 'LowerStretching': 189.08824157714844, 'Talking': 199.07089233398438, 'Patting': 198.20091247558594, 'Gesticuling': 177.65467834472656, 'Gaming': 189.51947021484375, 'Greeting': 219.59091186523438}, 'LowerBody': {'All': 242.943359375, 'UpperStretching': 227.45059204101562, 'Walking': 241.46795654296875, 'Reacting': 238.6649932861328, 'LowerStretching': 300.435546875, 'Talking': 176.26303100585938, 'Patting': 317.8230285644531, 'Gesticuling': 189.92010498046875, 'Gaming': 265.7642517089844, 'Greeting': 184.6531524658203}}\n"
     ]
    },
    {
     "name": "stderr",
     "output_type": "stream",
     "text": [
      " 15%|█▍        | 800/5352 [04:44<26:21,  2.88it/s]"
     ]
    },
    {
     "name": "stdout",
     "output_type": "stream",
     "text": [
      "{'FullBody': {'All': 224.02796936035156, 'UpperStretching': 217.7021026611328, 'Walking': 233.61550903320312, 'Reacting': 219.77793884277344, 'LowerStretching': 244.5689239501953, 'Talking': 188.68576049804688, 'Patting': 256.65203857421875, 'Gesticuling': 185.27452087402344, 'Gaming': 226.8008270263672, 'Greeting': 201.1641845703125}, 'UpperBody': {'All': 205.33847045898438, 'UpperStretching': 208.50218200683594, 'Walking': 225.5489044189453, 'Reacting': 199.9422149658203, 'LowerStretching': 188.9667205810547, 'Talking': 198.74937438964844, 'Patting': 199.63656616210938, 'Gesticuling': 178.42689514160156, 'Gaming': 188.9947967529297, 'Greeting': 220.90098571777344}, 'LowerBody': {'All': 242.71746826171875, 'UpperStretching': 226.90199279785156, 'Walking': 241.68218994140625, 'Reacting': 239.61367797851562, 'LowerStretching': 300.1711730957031, 'Talking': 178.6221466064453, 'Patting': 313.66748046875, 'Gesticuling': 192.12213134765625, 'Gaming': 264.60687255859375, 'Greeting': 181.42738342285156}}\n"
     ]
    },
    {
     "name": "stderr",
     "output_type": "stream",
     "text": [
      " 19%|█▊        | 1000/5352 [05:53<25:19,  2.86it/s]"
     ]
    },
    {
     "name": "stdout",
     "output_type": "stream",
     "text": [
      "{'FullBody': {'All': 223.8562774658203, 'UpperStretching': 217.34800720214844, 'Walking': 233.56521606445312, 'Reacting': 220.5874481201172, 'LowerStretching': 244.21978759765625, 'Talking': 188.8746795654297, 'Patting': 257.1797790527344, 'Gesticuling': 186.26841735839844, 'Gaming': 228.3081512451172, 'Greeting': 197.7969512939453}, 'UpperBody': {'All': 205.77166748046875, 'UpperStretching': 208.64642333984375, 'Walking': 226.58811950683594, 'Reacting': 201.59188842773438, 'LowerStretching': 188.9528045654297, 'Talking': 201.2554168701172, 'Patting': 200.4503936767578, 'Gesticuling': 180.73782348632812, 'Gaming': 188.3344268798828, 'Greeting': 222.33480834960938}, 'LowerBody': {'All': 241.9408721923828, 'UpperStretching': 226.0496063232422, 'Walking': 240.54232788085938, 'Reacting': 239.5830078125, 'LowerStretching': 299.48675537109375, 'Talking': 176.4939422607422, 'Patting': 313.9092102050781, 'Gesticuling': 191.79904174804688, 'Gaming': 268.2818298339844, 'Greeting': 173.2590789794922}}\n"
     ]
    },
    {
     "name": "stderr",
     "output_type": "stream",
     "text": [
      " 22%|██▏       | 1200/5352 [07:02<24:06,  2.87it/s]"
     ]
    },
    {
     "name": "stdout",
     "output_type": "stream",
     "text": [
      "{'FullBody': {'All': 223.86306762695312, 'UpperStretching': 217.39212036132812, 'Walking': 233.29522705078125, 'Reacting': 221.64686584472656, 'LowerStretching': 244.17803955078125, 'Talking': 188.09451293945312, 'Patting': 258.8486328125, 'Gesticuling': 184.82070922851562, 'Gaming': 228.3409881591797, 'Greeting': 197.8851776123047}, 'UpperBody': {'All': 205.79920959472656, 'UpperStretching': 208.70376586914062, 'Walking': 226.58340454101562, 'Reacting': 202.6934356689453, 'LowerStretching': 188.80125427246094, 'Talking': 202.27122497558594, 'Patting': 201.72564697265625, 'Gesticuling': 179.58338928222656, 'Gaming': 188.8425750732422, 'Greeting': 223.25228881835938}, 'LowerBody': {'All': 241.9269561767578, 'UpperStretching': 226.08053588867188, 'Walking': 240.00704956054688, 'Reacting': 240.60035705566406, 'LowerStretching': 299.5548095703125, 'Talking': 173.91781616210938, 'Patting': 315.9715881347656, 'Gesticuling': 190.05804443359375, 'Gaming': 267.8394470214844, 'Greeting': 172.5181121826172}}\n"
     ]
    },
    {
     "name": "stderr",
     "output_type": "stream",
     "text": [
      " 26%|██▌       | 1400/5352 [08:12<22:56,  2.87it/s]"
     ]
    },
    {
     "name": "stdout",
     "output_type": "stream",
     "text": [
      "{'FullBody': {'All': 223.99545288085938, 'UpperStretching': 217.6990509033203, 'Walking': 232.84078979492188, 'Reacting': 221.9872283935547, 'LowerStretching': 243.88223266601562, 'Talking': 188.87142944335938, 'Patting': 261.9012756347656, 'Gesticuling': 184.1770782470703, 'Gaming': 227.8010711669922, 'Greeting': 198.08375549316406}, 'UpperBody': {'All': 205.94561767578125, 'UpperStretching': 208.93820190429688, 'Walking': 226.82952880859375, 'Reacting': 203.6051483154297, 'LowerStretching': 188.388427734375, 'Talking': 202.3082275390625, 'Patting': 204.503173828125, 'Gesticuling': 179.17628479003906, 'Gaming': 188.43252563476562, 'Greeting': 221.1881103515625}, 'LowerBody': {'All': 242.04527282714844, 'UpperStretching': 226.4598846435547, 'Walking': 238.8520965576172, 'Reacting': 240.36935424804688, 'LowerStretching': 299.3760681152344, 'Talking': 175.4346466064453, 'Patting': 319.2994079589844, 'Gesticuling': 189.17788696289062, 'Gaming': 267.1695861816406, 'Greeting': 174.97940063476562}}\n"
     ]
    },
    {
     "name": "stderr",
     "output_type": "stream",
     "text": [
      " 30%|██▉       | 1600/5352 [09:21<21:46,  2.87it/s]"
     ]
    },
    {
     "name": "stdout",
     "output_type": "stream",
     "text": [
      "{'FullBody': {'All': 224.08642578125, 'UpperStretching': 217.9522247314453, 'Walking': 233.01031494140625, 'Reacting': 221.96820068359375, 'LowerStretching': 244.02220153808594, 'Talking': 188.80511474609375, 'Patting': 260.77276611328125, 'Gesticuling': 183.82737731933594, 'Gaming': 226.8568115234375, 'Greeting': 198.67835998535156}, 'UpperBody': {'All': 205.98101806640625, 'UpperStretching': 208.94175720214844, 'Walking': 227.15171813964844, 'Reacting': 203.8750457763672, 'LowerStretching': 188.32846069335938, 'Talking': 201.5038604736328, 'Patting': 205.5652313232422, 'Gesticuling': 179.04554748535156, 'Gaming': 189.2734375, 'Greeting': 220.2319793701172}, 'LowerBody': {'All': 242.1918487548828, 'UpperStretching': 226.96267700195312, 'Walking': 238.86888122558594, 'Reacting': 240.06137084960938, 'LowerStretching': 299.7159423828125, 'Talking': 176.1063690185547, 'Patting': 315.9803466796875, 'Gesticuling': 188.6091766357422, 'Gaming': 264.440185546875, 'Greeting': 177.12478637695312}}\n"
     ]
    },
    {
     "name": "stderr",
     "output_type": "stream",
     "text": [
      " 34%|███▎      | 1800/5352 [10:30<20:42,  2.86it/s]"
     ]
    },
    {
     "name": "stdout",
     "output_type": "stream",
     "text": [
      "{'FullBody': {'All': 224.01953125, 'UpperStretching': 217.69552612304688, 'Walking': 233.31228637695312, 'Reacting': 221.3248748779297, 'LowerStretching': 244.36752319335938, 'Talking': 189.17428588867188, 'Patting': 260.1371765136719, 'Gesticuling': 183.5334014892578, 'Gaming': 226.3520965576172, 'Greeting': 198.21954345703125}, 'UpperBody': {'All': 205.94337463378906, 'UpperStretching': 208.79779052734375, 'Walking': 227.58876037597656, 'Reacting': 202.93844604492188, 'LowerStretching': 188.46243286132812, 'Talking': 201.5985107421875, 'Patting': 206.1982421875, 'Gesticuling': 178.94921875, 'Gaming': 189.9668426513672, 'Greeting': 219.733154296875}, 'LowerBody': {'All': 242.09567260742188, 'UpperStretching': 226.59327697753906, 'Walking': 239.03579711914062, 'Reacting': 239.7113037109375, 'LowerStretching': 300.27264404296875, 'Talking': 176.75003051757812, 'Patting': 314.07611083984375, 'Gesticuling': 188.1175994873047, 'Gaming': 262.73736572265625, 'Greeting': 176.70596313476562}}\n"
     ]
    },
    {
     "name": "stderr",
     "output_type": "stream",
     "text": [
      " 37%|███▋      | 2000/5352 [11:39<19:29,  2.87it/s]"
     ]
    },
    {
     "name": "stdout",
     "output_type": "stream",
     "text": [
      "{'FullBody': {'All': 223.97084045410156, 'UpperStretching': 217.7726287841797, 'Walking': 232.8474578857422, 'Reacting': 221.48428344726562, 'LowerStretching': 244.0196990966797, 'Talking': 189.7628173828125, 'Patting': 260.9132385253906, 'Gesticuling': 183.17282104492188, 'Gaming': 226.80844116210938, 'Greeting': 198.20909118652344}, 'UpperBody': {'All': 206.02105712890625, 'UpperStretching': 208.93443298339844, 'Walking': 227.1782989501953, 'Reacting': 202.71226501464844, 'LowerStretching': 188.51528930664062, 'Talking': 201.74888610839844, 'Patting': 207.24180603027344, 'Gesticuling': 179.2732696533203, 'Gaming': 190.34701538085938, 'Greeting': 218.9943084716797}, 'LowerBody': {'All': 241.92059326171875, 'UpperStretching': 226.61083984375, 'Walking': 238.5166473388672, 'Reacting': 240.2562713623047, 'LowerStretching': 299.5241394042969, 'Talking': 177.77676391601562, 'Patting': 314.5846862792969, 'Gesticuling': 187.0723876953125, 'Gaming': 263.2698669433594, 'Greeting': 177.42388916015625}}\n"
     ]
    },
    {
     "name": "stderr",
     "output_type": "stream",
     "text": [
      " 41%|████      | 2200/5352 [12:48<18:20,  2.86it/s]"
     ]
    },
    {
     "name": "stdout",
     "output_type": "stream",
     "text": [
      "{'FullBody': {'All': 224.17543029785156, 'UpperStretching': 218.0989990234375, 'Walking': 232.92221069335938, 'Reacting': 221.50872802734375, 'LowerStretching': 244.12655639648438, 'Talking': 189.80104064941406, 'Patting': 260.1518249511719, 'Gesticuling': 182.98365783691406, 'Gaming': 227.56541442871094, 'Greeting': 198.36151123046875}, 'UpperBody': {'All': 206.2332305908203, 'UpperStretching': 209.2268524169922, 'Walking': 227.39154052734375, 'Reacting': 203.04470825195312, 'LowerStretching': 188.57781982421875, 'Talking': 201.446533203125, 'Patting': 206.83230590820312, 'Gesticuling': 179.2899169921875, 'Gaming': 190.72402954101562, 'Greeting': 219.03187561035156}, 'LowerBody': {'All': 242.11764526367188, 'UpperStretching': 226.97116088867188, 'Walking': 238.45286560058594, 'Reacting': 239.97274780273438, 'LowerStretching': 299.6753234863281, 'Talking': 178.15554809570312, 'Patting': 313.4712829589844, 'Gesticuling': 186.67738342285156, 'Gaming': 264.4067687988281, 'Greeting': 177.69113159179688}}\n"
     ]
    },
    {
     "name": "stderr",
     "output_type": "stream",
     "text": [
      " 45%|████▍     | 2400/5352 [13:58<17:11,  2.86it/s]"
     ]
    },
    {
     "name": "stdout",
     "output_type": "stream",
     "text": [
      "{'FullBody': {'All': 224.19155883789062, 'UpperStretching': 218.1321563720703, 'Walking': 232.7158660888672, 'Reacting': 221.2830047607422, 'LowerStretching': 244.260986328125, 'Talking': 188.92529296875, 'Patting': 260.9281311035156, 'Gesticuling': 182.85186767578125, 'Gaming': 227.992431640625, 'Greeting': 198.95370483398438}, 'UpperBody': {'All': 206.24794006347656, 'UpperStretching': 209.17254638671875, 'Walking': 227.63772583007812, 'Reacting': 202.66465759277344, 'LowerStretching': 188.77125549316406, 'Talking': 201.16200256347656, 'Patting': 207.29879760742188, 'Gesticuling': 179.5113525390625, 'Gaming': 190.56402587890625, 'Greeting': 219.02415466308594}, 'LowerBody': {'All': 242.1352081298828, 'UpperStretching': 227.09176635742188, 'Walking': 237.79397583007812, 'Reacting': 239.90133666992188, 'LowerStretching': 299.750732421875, 'Talking': 176.68858337402344, 'Patting': 314.5574035644531, 'Gesticuling': 186.19235229492188, 'Gaming': 265.4208679199219, 'Greeting': 178.88327026367188}}\n"
     ]
    },
    {
     "name": "stderr",
     "output_type": "stream",
     "text": [
      " 49%|████▊     | 2600/5352 [15:07<16:02,  2.86it/s]"
     ]
    },
    {
     "name": "stdout",
     "output_type": "stream",
     "text": [
      "{'FullBody': {'All': 224.22906494140625, 'UpperStretching': 218.13961791992188, 'Walking': 232.55276489257812, 'Reacting': 221.36508178710938, 'LowerStretching': 244.42286682128906, 'Talking': 190.71231079101562, 'Patting': 260.58831787109375, 'Gesticuling': 183.6250457763672, 'Gaming': 228.70838928222656, 'Greeting': 198.45811462402344}, 'UpperBody': {'All': 206.2996368408203, 'UpperStretching': 209.26734924316406, 'Walking': 227.44680786132812, 'Reacting': 203.01129150390625, 'LowerStretching': 188.75723266601562, 'Talking': 201.58294677734375, 'Patting': 206.55154418945312, 'Gesticuling': 179.5744171142578, 'Gaming': 191.0008087158203, 'Greeting': 219.16680908203125}, 'LowerBody': {'All': 242.15850830078125, 'UpperStretching': 227.01190185546875, 'Walking': 237.65866088867188, 'Reacting': 239.7188720703125, 'LowerStretching': 300.0885314941406, 'Talking': 179.8416748046875, 'Patting': 314.6250915527344, 'Gesticuling': 187.67568969726562, 'Gaming': 266.41595458984375, 'Greeting': 177.74940490722656}}\n"
     ]
    },
    {
     "name": "stderr",
     "output_type": "stream",
     "text": [
      " 52%|█████▏    | 2800/5352 [16:16<14:52,  2.86it/s]"
     ]
    },
    {
     "name": "stdout",
     "output_type": "stream",
     "text": [
      "{'FullBody': {'All': 224.32151794433594, 'UpperStretching': 218.33030700683594, 'Walking': 232.73036193847656, 'Reacting': 221.6595916748047, 'LowerStretching': 244.23226928710938, 'Talking': 190.4363250732422, 'Patting': 260.3391418457031, 'Gesticuling': 184.43826293945312, 'Gaming': 228.3512725830078, 'Greeting': 197.60305786132812}, 'UpperBody': {'All': 206.36294555664062, 'UpperStretching': 209.31201171875, 'Walking': 227.53817749023438, 'Reacting': 202.59317016601562, 'LowerStretching': 188.75640869140625, 'Talking': 201.141845703125, 'Patting': 206.7119903564453, 'Gesticuling': 180.02076721191406, 'Gaming': 190.8776397705078, 'Greeting': 219.41436767578125}, 'LowerBody': {'All': 242.2801513671875, 'UpperStretching': 227.3486328125, 'Walking': 237.92257690429688, 'Reacting': 240.7259979248047, 'LowerStretching': 299.7081298828125, 'Talking': 179.7308349609375, 'Patting': 313.9662780761719, 'Gesticuling': 188.85574340820312, 'Gaming': 265.82489013671875, 'Greeting': 175.79173278808594}}\n"
     ]
    },
    {
     "name": "stderr",
     "output_type": "stream",
     "text": [
      " 56%|█████▌    | 3000/5352 [17:25<13:44,  2.85it/s]"
     ]
    },
    {
     "name": "stdout",
     "output_type": "stream",
     "text": [
      "{'FullBody': {'All': 224.26402282714844, 'UpperStretching': 218.2560272216797, 'Walking': 232.84231567382812, 'Reacting': 221.7284698486328, 'LowerStretching': 244.286865234375, 'Talking': 190.530029296875, 'Patting': 259.76776123046875, 'Gesticuling': 184.44955444335938, 'Gaming': 228.353271484375, 'Greeting': 198.12010192871094}, 'UpperBody': {'All': 206.3842315673828, 'UpperStretching': 209.31265258789062, 'Walking': 227.5417022705078, 'Reacting': 202.6168670654297, 'LowerStretching': 188.77944946289062, 'Talking': 201.56985473632812, 'Patting': 207.4573974609375, 'Gesticuling': 180.0331573486328, 'Gaming': 190.8230743408203, 'Greeting': 219.46104431152344}, 'LowerBody': {'All': 242.14385986328125, 'UpperStretching': 227.19944763183594, 'Walking': 238.14291381835938, 'Reacting': 240.84007263183594, 'LowerStretching': 299.79425048828125, 'Talking': 179.49020385742188, 'Patting': 312.0781555175781, 'Gesticuling': 188.86595153808594, 'Gaming': 265.8834533691406, 'Greeting': 176.77915954589844}}\n"
     ]
    },
    {
     "name": "stderr",
     "output_type": "stream",
     "text": [
      " 60%|█████▉    | 3200/5352 [18:35<12:35,  2.85it/s]"
     ]
    },
    {
     "name": "stdout",
     "output_type": "stream",
     "text": [
      "{'FullBody': {'All': 224.20330810546875, 'UpperStretching': 218.2181854248047, 'Walking': 232.8994140625, 'Reacting': 221.02333068847656, 'LowerStretching': 244.32994079589844, 'Talking': 190.7882537841797, 'Patting': 259.8110046386719, 'Gesticuling': 184.31640625, 'Gaming': 228.57357788085938, 'Greeting': 197.64036560058594}, 'UpperBody': {'All': 206.29266357421875, 'UpperStretching': 209.1920928955078, 'Walking': 227.63096618652344, 'Reacting': 202.41258239746094, 'LowerStretching': 188.68804931640625, 'Talking': 201.6712188720703, 'Patting': 207.1181182861328, 'Gesticuling': 180.01101684570312, 'Gaming': 190.79393005371094, 'Greeting': 219.12953186035156}, 'LowerBody': {'All': 242.1139678955078, 'UpperStretching': 227.24432373046875, 'Walking': 238.16786193847656, 'Reacting': 239.6340789794922, 'LowerStretching': 299.9718017578125, 'Talking': 179.90536499023438, 'Patting': 312.5038757324219, 'Gesticuling': 188.6217803955078, 'Gaming': 266.35321044921875, 'Greeting': 176.1512451171875}}\n"
     ]
    },
    {
     "name": "stderr",
     "output_type": "stream",
     "text": [
      " 64%|██████▎   | 3400/5352 [19:44<11:26,  2.84it/s]"
     ]
    },
    {
     "name": "stdout",
     "output_type": "stream",
     "text": [
      "{'FullBody': {'All': 224.23985290527344, 'UpperStretching': 218.3451385498047, 'Walking': 232.5674591064453, 'Reacting': 221.04396057128906, 'LowerStretching': 244.45985412597656, 'Talking': 190.1448974609375, 'Patting': 259.12548828125, 'Gesticuling': 184.25125122070312, 'Gaming': 228.40237426757812, 'Greeting': 197.22418212890625}, 'UpperBody': {'All': 206.34117126464844, 'UpperStretching': 209.30567932128906, 'Walking': 227.26828002929688, 'Reacting': 202.5934600830078, 'LowerStretching': 188.60813903808594, 'Talking': 201.54632568359375, 'Patting': 207.39199829101562, 'Gesticuling': 180.1412353515625, 'Gaming': 191.2829132080078, 'Greeting': 219.5966033935547}, 'LowerBody': {'All': 242.1385498046875, 'UpperStretching': 227.3846435546875, 'Walking': 237.86663818359375, 'Reacting': 239.4944610595703, 'LowerStretching': 300.31158447265625, 'Talking': 178.74346923828125, 'Patting': 310.8590087890625, 'Gesticuling': 188.3612823486328, 'Gaming': 265.5218200683594, 'Greeting': 174.8517608642578}}\n"
     ]
    },
    {
     "name": "stderr",
     "output_type": "stream",
     "text": [
      " 67%|██████▋   | 3600/5352 [20:53<10:18,  2.83it/s]"
     ]
    },
    {
     "name": "stdout",
     "output_type": "stream",
     "text": [
      "{'FullBody': {'All': 224.1287078857422, 'UpperStretching': 218.28451538085938, 'Walking': 232.3529510498047, 'Reacting': 221.2107696533203, 'LowerStretching': 244.26878356933594, 'Talking': 190.0718231201172, 'Patting': 259.7617492675781, 'Gesticuling': 183.9581298828125, 'Gaming': 227.552734375, 'Greeting': 196.87548828125}, 'UpperBody': {'All': 206.30067443847656, 'UpperStretching': 209.25482177734375, 'Walking': 227.11773681640625, 'Reacting': 202.77256774902344, 'LowerStretching': 188.69496154785156, 'Talking': 201.52296447753906, 'Patting': 207.92706298828125, 'Gesticuling': 179.7296905517578, 'Gaming': 191.4403076171875, 'Greeting': 219.78807067871094}, 'LowerBody': {'All': 241.956787109375, 'UpperStretching': 227.3142547607422, 'Walking': 237.58819580078125, 'Reacting': 239.6490020751953, 'LowerStretching': 299.8426208496094, 'Talking': 178.6206512451172, 'Patting': 311.5964660644531, 'Gesticuling': 188.1865692138672, 'Gaming': 263.6651611328125, 'Greeting': 173.96290588378906}}\n"
     ]
    },
    {
     "name": "stderr",
     "output_type": "stream",
     "text": [
      " 71%|███████   | 3800/5352 [22:02<09:05,  2.84it/s]"
     ]
    },
    {
     "name": "stdout",
     "output_type": "stream",
     "text": [
      "{'FullBody': {'All': 224.0819549560547, 'UpperStretching': 218.1156768798828, 'Walking': 232.27886962890625, 'Reacting': 221.42755126953125, 'LowerStretching': 244.56796264648438, 'Talking': 189.86537170410156, 'Patting': 260.23193359375, 'Gesticuling': 183.93202209472656, 'Gaming': 227.43919372558594, 'Greeting': 197.01885986328125}, 'UpperBody': {'All': 206.2913360595703, 'UpperStretching': 209.19737243652344, 'Walking': 226.92449951171875, 'Reacting': 203.02777099609375, 'LowerStretching': 188.88186645507812, 'Talking': 201.9125213623047, 'Patting': 208.035888671875, 'Gesticuling': 179.7095489501953, 'Gaming': 191.42678833007812, 'Greeting': 219.4470977783203}, 'LowerBody': {'All': 241.8726043701172, 'UpperStretching': 227.0340118408203, 'Walking': 237.63327026367188, 'Reacting': 239.8273468017578, 'LowerStretching': 300.2540588378906, 'Talking': 177.81822204589844, 'Patting': 312.4280090332031, 'Gesticuling': 188.15451049804688, 'Gaming': 263.45159912109375, 'Greeting': 174.59063720703125}}\n"
     ]
    },
    {
     "name": "stderr",
     "output_type": "stream",
     "text": [
      " 75%|███████▍  | 4000/5352 [23:12<07:55,  2.84it/s]"
     ]
    },
    {
     "name": "stdout",
     "output_type": "stream",
     "text": [
      "{'FullBody': {'All': 224.10446166992188, 'UpperStretching': 218.07313537597656, 'Walking': 232.3070526123047, 'Reacting': 221.94696044921875, 'LowerStretching': 244.64913940429688, 'Talking': 189.7830810546875, 'Patting': 261.0197448730469, 'Gesticuling': 183.73204040527344, 'Gaming': 227.9008331298828, 'Greeting': 196.7034454345703}, 'UpperBody': {'All': 206.30824279785156, 'UpperStretching': 209.15982055664062, 'Walking': 227.02713012695312, 'Reacting': 203.05938720703125, 'LowerStretching': 188.84555053710938, 'Talking': 201.7423553466797, 'Patting': 208.76870727539062, 'Gesticuling': 179.80130004882812, 'Gaming': 191.38800048828125, 'Greeting': 219.39720153808594}, 'LowerBody': {'All': 241.90069580078125, 'UpperStretching': 226.98651123046875, 'Walking': 237.5869598388672, 'Reacting': 240.83453369140625, 'LowerStretching': 300.4526672363281, 'Talking': 177.8238067626953, 'Patting': 313.2707214355469, 'Gesticuling': 187.66278076171875, 'Gaming': 264.4136962890625, 'Greeting': 174.00970458984375}}\n"
     ]
    },
    {
     "name": "stderr",
     "output_type": "stream",
     "text": [
      " 78%|███████▊  | 4200/5352 [24:21<06:46,  2.83it/s]"
     ]
    },
    {
     "name": "stdout",
     "output_type": "stream",
     "text": [
      "{'FullBody': {'All': 224.1165771484375, 'UpperStretching': 218.1121063232422, 'Walking': 232.30213928222656, 'Reacting': 221.73126220703125, 'LowerStretching': 244.5539093017578, 'Talking': 189.8841094970703, 'Patting': 261.2375183105469, 'Gesticuling': 183.8317108154297, 'Gaming': 227.55267333984375, 'Greeting': 196.85902404785156}, 'UpperBody': {'All': 206.33401489257812, 'UpperStretching': 209.19810485839844, 'Walking': 227.06385803222656, 'Reacting': 202.9215087890625, 'LowerStretching': 188.83734130859375, 'Talking': 201.77020263671875, 'Patting': 208.94876098632812, 'Gesticuling': 179.54989624023438, 'Gaming': 191.22767639160156, 'Greeting': 219.81407165527344}, 'LowerBody': {'All': 241.89913940429688, 'UpperStretching': 227.02613830566406, 'Walking': 237.54043579101562, 'Reacting': 240.54104614257812, 'LowerStretching': 300.27044677734375, 'Talking': 177.99798583984375, 'Patting': 313.5262451171875, 'Gesticuling': 188.11351013183594, 'Gaming': 263.877685546875, 'Greeting': 173.90399169921875}}\n"
     ]
    },
    {
     "name": "stderr",
     "output_type": "stream",
     "text": [
      " 82%|████████▏ | 4400/5352 [25:30<05:35,  2.84it/s]"
     ]
    },
    {
     "name": "stdout",
     "output_type": "stream",
     "text": [
      "{'FullBody': {'All': 224.17250061035156, 'UpperStretching': 218.22296142578125, 'Walking': 232.37696838378906, 'Reacting': 221.5342559814453, 'LowerStretching': 244.470947265625, 'Talking': 189.4785919189453, 'Patting': 260.8633728027344, 'Gesticuling': 184.3071746826172, 'Gaming': 227.8274688720703, 'Greeting': 196.86001586914062}, 'UpperBody': {'All': 206.39068603515625, 'UpperStretching': 209.24436950683594, 'Walking': 227.2162322998047, 'Reacting': 203.09228515625, 'LowerStretching': 188.790283203125, 'Talking': 201.8212890625, 'Patting': 208.7235107421875, 'Gesticuling': 179.82327270507812, 'Gaming': 190.99790954589844, 'Greeting': 220.43695068359375}, 'LowerBody': {'All': 241.954345703125, 'UpperStretching': 227.2016143798828, 'Walking': 237.5377197265625, 'Reacting': 239.9762420654297, 'LowerStretching': 300.151611328125, 'Talking': 177.13587951660156, 'Patting': 313.00323486328125, 'Gesticuling': 188.79107666015625, 'Gaming': 264.6570129394531, 'Greeting': 173.28306579589844}}\n"
     ]
    },
    {
     "name": "stderr",
     "output_type": "stream",
     "text": [
      " 86%|████████▌ | 4600/5352 [26:39<04:25,  2.83it/s]"
     ]
    },
    {
     "name": "stdout",
     "output_type": "stream",
     "text": [
      "{'FullBody': {'All': 224.25949096679688, 'UpperStretching': 218.2789306640625, 'Walking': 232.52696228027344, 'Reacting': 222.14645385742188, 'LowerStretching': 244.61338806152344, 'Talking': 189.64840698242188, 'Patting': 260.9747009277344, 'Gesticuling': 184.08059692382812, 'Gaming': 227.8815155029297, 'Greeting': 196.0978240966797}, 'UpperBody': {'All': 206.42567443847656, 'UpperStretching': 209.26243591308594, 'Walking': 227.27383422851562, 'Reacting': 202.84506225585938, 'LowerStretching': 188.79161071777344, 'Talking': 201.98167419433594, 'Patting': 208.4300994873047, 'Gesticuling': 180.01148986816406, 'Gaming': 191.27423095703125, 'Greeting': 220.36610412597656}, 'LowerBody': {'All': 242.09329223632812, 'UpperStretching': 227.2954864501953, 'Walking': 237.78012084960938, 'Reacting': 241.4477996826172, 'LowerStretching': 300.4351501464844, 'Talking': 177.31515502929688, 'Patting': 313.5192565917969, 'Gesticuling': 188.14971923828125, 'Gaming': 264.48883056640625, 'Greeting': 171.82955932617188}}\n"
     ]
    },
    {
     "name": "stderr",
     "output_type": "stream",
     "text": [
      " 90%|████████▉ | 4800/5352 [27:48<03:15,  2.83it/s]"
     ]
    },
    {
     "name": "stdout",
     "output_type": "stream",
     "text": [
      "{'FullBody': {'All': 224.34068298339844, 'UpperStretching': 218.45693969726562, 'Walking': 232.47975158691406, 'Reacting': 222.2281951904297, 'LowerStretching': 244.5593719482422, 'Talking': 189.4160614013672, 'Patting': 260.8231201171875, 'Gesticuling': 183.70469665527344, 'Gaming': 228.2301788330078, 'Greeting': 196.02850341796875}, 'UpperBody': {'All': 206.43736267089844, 'UpperStretching': 209.32640075683594, 'Walking': 227.14662170410156, 'Reacting': 202.89596557617188, 'LowerStretching': 188.7648162841797, 'Talking': 201.7430877685547, 'Patting': 208.59512329101562, 'Gesticuling': 180.0579376220703, 'Gaming': 191.0096435546875, 'Greeting': 220.8542022705078}, 'LowerBody': {'All': 242.24395751953125, 'UpperStretching': 227.58750915527344, 'Walking': 237.8129119873047, 'Reacting': 241.56044006347656, 'LowerStretching': 300.35394287109375, 'Talking': 177.0890350341797, 'Patting': 313.0511169433594, 'Gesticuling': 187.35147094726562, 'Gaming': 265.4507141113281, 'Greeting': 171.20278930664062}}\n"
     ]
    },
    {
     "name": "stderr",
     "output_type": "stream",
     "text": [
      " 93%|█████████▎| 5000/5352 [28:58<02:04,  2.83it/s]"
     ]
    },
    {
     "name": "stdout",
     "output_type": "stream",
     "text": [
      "{'FullBody': {'All': 224.34182739257812, 'UpperStretching': 218.4053192138672, 'Walking': 232.49610900878906, 'Reacting': 222.29673767089844, 'LowerStretching': 244.70394897460938, 'Talking': 188.98880004882812, 'Patting': 261.2140197753906, 'Gesticuling': 183.89810180664062, 'Gaming': 227.7755584716797, 'Greeting': 195.91163635253906}, 'UpperBody': {'All': 206.42564392089844, 'UpperStretching': 209.3159942626953, 'Walking': 227.0411376953125, 'Reacting': 202.9920654296875, 'LowerStretching': 188.8255615234375, 'Talking': 201.3687286376953, 'Patting': 208.69691467285156, 'Gesticuling': 180.47950744628906, 'Gaming': 190.77243041992188, 'Greeting': 220.4893341064453}, 'LowerBody': {'All': 242.25799560546875, 'UpperStretching': 227.49465942382812, 'Walking': 237.9511260986328, 'Reacting': 241.60137939453125, 'LowerStretching': 300.5823669433594, 'Talking': 176.60885620117188, 'Patting': 313.73114013671875, 'Gesticuling': 187.31666564941406, 'Gaming': 264.7787170410156, 'Greeting': 171.33392333984375}}\n"
     ]
    },
    {
     "name": "stderr",
     "output_type": "stream",
     "text": [
      " 97%|█████████▋| 5200/5352 [30:07<00:54,  2.81it/s]"
     ]
    },
    {
     "name": "stdout",
     "output_type": "stream",
     "text": [
      "{'FullBody': {'All': 224.3533477783203, 'UpperStretching': 218.36448669433594, 'Walking': 232.4351043701172, 'Reacting': 222.45399475097656, 'LowerStretching': 244.8822021484375, 'Talking': 189.1840362548828, 'Patting': 261.328125, 'Gesticuling': 183.96029663085938, 'Gaming': 227.8370361328125, 'Greeting': 196.08987426757812}, 'UpperBody': {'All': 206.43515014648438, 'UpperStretching': 209.30703735351562, 'Walking': 227.03530883789062, 'Reacting': 203.08106994628906, 'LowerStretching': 188.8483123779297, 'Talking': 201.2688751220703, 'Patting': 208.77413940429688, 'Gesticuling': 180.46072387695312, 'Gaming': 190.8597412109375, 'Greeting': 220.89706420898438}, 'LowerBody': {'All': 242.27154541015625, 'UpperStretching': 227.4219512939453, 'Walking': 237.8349151611328, 'Reacting': 241.82693481445312, 'LowerStretching': 300.9161071777344, 'Talking': 177.09921264648438, 'Patting': 313.8821105957031, 'Gesticuling': 187.45986938476562, 'Gaming': 264.8143310546875, 'Greeting': 171.28273010253906}}\n"
     ]
    },
    {
     "name": "stderr",
     "output_type": "stream",
     "text": [
      "100%|██████████| 5352/5352 [31:00<00:00,  2.88it/s]\n",
      "\u001b[94m05:51:04 \u001b[92m[INFO]\u001b[94m Main\u001b[0m: Saving evaluation results...\n",
      "\u001b[94m05:51:04 \u001b[92m[INFO]\u001b[94m Main\u001b[0m: Done.\n",
      "\u001b[94m05:51:04 \u001b[92m[INFO]\u001b[94m Main\u001b[0m: Starting demo...\n",
      "  0%|          | 0/5352 [00:00<?, ?it/s]/opt/conda/lib/python3.10/site-packages/torchvision/transforms/transforms.py:329: UserWarning: Argument 'interpolation' of type int is deprecated since 0.13 and will be removed in 0.15. Please use InterpolationMode enum.\n",
      "  warnings.warn(\n",
      "/opt/conda/lib/python3.10/site-packages/torchvision/transforms/transforms.py:329: UserWarning: Argument 'interpolation' of type int is deprecated since 0.13 and will be removed in 0.15. Please use InterpolationMode enum.\n",
      "  warnings.warn(\n",
      "/opt/conda/lib/python3.10/site-packages/torchvision/transforms/transforms.py:329: UserWarning: Argument 'interpolation' of type int is deprecated since 0.13 and will be removed in 0.15. Please use InterpolationMode enum.\n",
      "  warnings.warn(\n",
      "/opt/conda/lib/python3.10/site-packages/torchvision/transforms/transforms.py:329: UserWarning: Argument 'interpolation' of type int is deprecated since 0.13 and will be removed in 0.15. Please use InterpolationMode enum.\n",
      "  warnings.warn(\n",
      "/opt/conda/lib/python3.10/site-packages/torchvision/transforms/transforms.py:329: UserWarning: Argument 'interpolation' of type int is deprecated since 0.13 and will be removed in 0.15. Please use InterpolationMode enum.\n",
      "  warnings.warn(\n",
      "/opt/conda/lib/python3.10/site-packages/torchvision/transforms/transforms.py:329: UserWarning: Argument 'interpolation' of type int is deprecated since 0.13 and will be removed in 0.15. Please use InterpolationMode enum.\n",
      "  warnings.warn(\n",
      "/opt/conda/lib/python3.10/site-packages/torchvision/transforms/transforms.py:329: UserWarning: Argument 'interpolation' of type int is deprecated since 0.13 and will be removed in 0.15. Please use InterpolationMode enum.\n",
      "  warnings.warn(\n",
      "/opt/conda/lib/python3.10/site-packages/torchvision/transforms/transforms.py:329: UserWarning: Argument 'interpolation' of type int is deprecated since 0.13 and will be removed in 0.15. Please use InterpolationMode enum.\n",
      "  warnings.warn(\n",
      "/opt/conda/lib/python3.10/site-packages/torchvision/transforms/transforms.py:329: UserWarning: Argument 'interpolation' of type int is deprecated since 0.13 and will be removed in 0.15. Please use InterpolationMode enum.\n",
      "  warnings.warn(\n",
      "/opt/conda/lib/python3.10/site-packages/torchvision/transforms/transforms.py:329: UserWarning: Argument 'interpolation' of type int is deprecated since 0.13 and will be removed in 0.15. Please use InterpolationMode enum.\n",
      "  warnings.warn(\n",
      "/opt/conda/lib/python3.10/site-packages/torchvision/transforms/transforms.py:329: UserWarning: Argument 'interpolation' of type int is deprecated since 0.13 and will be removed in 0.15. Please use InterpolationMode enum.\n",
      "  warnings.warn(\n",
      "/opt/conda/lib/python3.10/site-packages/torchvision/transforms/transforms.py:329: UserWarning: Argument 'interpolation' of type int is deprecated since 0.13 and will be removed in 0.15. Please use InterpolationMode enum.\n",
      "  warnings.warn(\n",
      "/opt/conda/lib/python3.10/site-packages/torchvision/transforms/transforms.py:329: UserWarning: Argument 'interpolation' of type int is deprecated since 0.13 and will be removed in 0.15. Please use InterpolationMode enum.\n",
      "  warnings.warn(\n",
      "/opt/conda/lib/python3.10/site-packages/torchvision/transforms/transforms.py:329: UserWarning: Argument 'interpolation' of type int is deprecated since 0.13 and will be removed in 0.15. Please use InterpolationMode enum.\n",
      "  warnings.warn(\n",
      "/opt/conda/lib/python3.10/site-packages/torchvision/transforms/transforms.py:329: UserWarning: Argument 'interpolation' of type int is deprecated since 0.13 and will be removed in 0.15. Please use InterpolationMode enum.\n",
      "  warnings.warn(\n",
      "/opt/conda/lib/python3.10/site-packages/torchvision/transforms/transforms.py:329: UserWarning: Argument 'interpolation' of type int is deprecated since 0.13 and will be removed in 0.15. Please use InterpolationMode enum.\n",
      "  warnings.warn(\n",
      "/opt/conda/lib/python3.10/site-packages/torchvision/transforms/transforms.py:329: UserWarning: Argument 'interpolation' of type int is deprecated since 0.13 and will be removed in 0.15. Please use InterpolationMode enum.\n",
      "  warnings.warn(\n",
      "/opt/conda/lib/python3.10/site-packages/torchvision/transforms/transforms.py:329: UserWarning: Argument 'interpolation' of type int is deprecated since 0.13 and will be removed in 0.15. Please use InterpolationMode enum.\n",
      "  warnings.warn(\n",
      "/opt/conda/lib/python3.10/site-packages/torchvision/transforms/transforms.py:329: UserWarning: Argument 'interpolation' of type int is deprecated since 0.13 and will be removed in 0.15. Please use InterpolationMode enum.\n",
      "  warnings.warn(\n",
      "/opt/conda/lib/python3.10/site-packages/torchvision/transforms/transforms.py:329: UserWarning: Argument 'interpolation' of type int is deprecated since 0.13 and will be removed in 0.15. Please use InterpolationMode enum.\n",
      "  warnings.warn(\n",
      "/opt/conda/lib/python3.10/site-packages/torchvision/transforms/transforms.py:329: UserWarning: Argument 'interpolation' of type int is deprecated since 0.13 and will be removed in 0.15. Please use InterpolationMode enum.\n",
      "  warnings.warn(\n",
      "/opt/conda/lib/python3.10/site-packages/torchvision/transforms/transforms.py:329: UserWarning: Argument 'interpolation' of type int is deprecated since 0.13 and will be removed in 0.15. Please use InterpolationMode enum.\n",
      "  warnings.warn(\n",
      "/opt/conda/lib/python3.10/site-packages/torchvision/transforms/transforms.py:329: UserWarning: Argument 'interpolation' of type int is deprecated since 0.13 and will be removed in 0.15. Please use InterpolationMode enum.\n",
      "  warnings.warn(\n",
      "/opt/conda/lib/python3.10/site-packages/torchvision/transforms/transforms.py:329: UserWarning: Argument 'interpolation' of type int is deprecated since 0.13 and will be removed in 0.15. Please use InterpolationMode enum.\n",
      "  warnings.warn(\n",
      "  4%|▎         | 200/5352 [01:13<29:39,  2.90it/s]"
     ]
    },
    {
     "name": "stdout",
     "output_type": "stream",
     "text": [
      "{'FullBody': {'All': 223.61465454101562, 'UpperStretching': 225.50489807128906, 'Walking': 231.72267150878906, 'Talking': 203.47531127929688, 'Patting': 218.19497680664062, 'LowerStretching': 227.1558837890625, 'Greeting': 214.00413513183594, 'Gesticuling': 180.10418701171875, 'Gaming': 202.2456817626953, 'Reacting': 194.31130981445312}, 'UpperBody': {'All': 229.60223388671875, 'UpperStretching': 240.5214385986328, 'Walking': 236.11753845214844, 'Talking': 197.00836181640625, 'Patting': 193.99481201171875, 'LowerStretching': 213.42236328125, 'Greeting': 232.16970825195312, 'Gesticuling': 184.40399169921875, 'Gaming': 184.1961212158203, 'Reacting': 180.6603546142578}, 'LowerBody': {'All': 217.6270751953125, 'UpperStretching': 210.48834228515625, 'Walking': 227.3278045654297, 'Talking': 209.94227600097656, 'Patting': 242.39517211914062, 'LowerStretching': 240.8894500732422, 'Greeting': 195.83856201171875, 'Gesticuling': 175.8043975830078, 'Gaming': 220.29531860351562, 'Reacting': 207.9622344970703}}\n"
     ]
    },
    {
     "name": "stderr",
     "output_type": "stream",
     "text": [
      "  7%|▋         | 400/5352 [02:22<28:39,  2.88it/s]"
     ]
    },
    {
     "name": "stdout",
     "output_type": "stream",
     "text": [
      "{'FullBody': {'All': 224.7537841796875, 'UpperStretching': 226.53684997558594, 'Walking': 232.9085235595703, 'Talking': 202.10784912109375, 'Patting': 220.751953125, 'LowerStretching': 228.2765350341797, 'Greeting': 214.4104461669922, 'Gesticuling': 181.1514129638672, 'Gaming': 207.69964599609375, 'Reacting': 196.7731170654297}, 'UpperBody': {'All': 229.64395141601562, 'UpperStretching': 240.1382293701172, 'Walking': 236.08816528320312, 'Talking': 201.09242248535156, 'Patting': 194.7538299560547, 'LowerStretching': 214.7173309326172, 'Greeting': 236.53631591796875, 'Gesticuling': 180.1359100341797, 'Gaming': 191.28802490234375, 'Reacting': 181.995849609375}, 'LowerBody': {'All': 219.86363220214844, 'UpperStretching': 212.9354705810547, 'Walking': 229.72891235351562, 'Talking': 203.12326049804688, 'Patting': 246.75010681152344, 'LowerStretching': 241.8358154296875, 'Greeting': 192.28456115722656, 'Gesticuling': 182.16688537597656, 'Gaming': 224.11126708984375, 'Reacting': 211.5503387451172}}\n"
     ]
    },
    {
     "name": "stderr",
     "output_type": "stream",
     "text": [
      " 11%|█         | 600/5352 [03:31<27:32,  2.88it/s]"
     ]
    },
    {
     "name": "stdout",
     "output_type": "stream",
     "text": [
      "{'FullBody': {'All': 224.69302368164062, 'UpperStretching': 226.18154907226562, 'Walking': 232.7071533203125, 'Talking': 204.51683044433594, 'Patting': 220.53594970703125, 'LowerStretching': 229.1824493408203, 'Greeting': 214.3776397705078, 'Gesticuling': 179.87306213378906, 'Gaming': 208.77252197265625, 'Reacting': 196.5631561279297}, 'UpperBody': {'All': 229.8136749267578, 'UpperStretching': 240.04705810546875, 'Walking': 236.3358612060547, 'Talking': 203.1381378173828, 'Patting': 191.2548065185547, 'LowerStretching': 215.80413818359375, 'Greeting': 235.5452880859375, 'Gesticuling': 180.35983276367188, 'Gaming': 193.00396728515625, 'Reacting': 182.0156707763672}, 'LowerBody': {'All': 219.5723419189453, 'UpperStretching': 212.31607055664062, 'Walking': 229.07843017578125, 'Talking': 205.8955078125, 'Patting': 249.81710815429688, 'LowerStretching': 242.56077575683594, 'Greeting': 193.21002197265625, 'Gesticuling': 179.38629150390625, 'Gaming': 224.54110717773438, 'Reacting': 211.11062622070312}}\n"
     ]
    },
    {
     "name": "stderr",
     "output_type": "stream",
     "text": [
      " 15%|█▍        | 800/5352 [04:41<26:23,  2.87it/s]"
     ]
    },
    {
     "name": "stdout",
     "output_type": "stream",
     "text": [
      "{'FullBody': {'All': 224.88247680664062, 'UpperStretching': 226.1254119873047, 'Walking': 234.0941925048828, 'Talking': 204.32167053222656, 'Patting': 220.4617919921875, 'LowerStretching': 229.18771362304688, 'Greeting': 216.73423767089844, 'Gesticuling': 178.99546813964844, 'Gaming': 209.4971466064453, 'Reacting': 197.36520385742188}, 'UpperBody': {'All': 230.12074279785156, 'UpperStretching': 240.1023406982422, 'Walking': 237.58116149902344, 'Talking': 204.26947021484375, 'Patting': 191.1989288330078, 'LowerStretching': 215.9057159423828, 'Greeting': 232.06724548339844, 'Gesticuling': 180.5802764892578, 'Gaming': 196.2472381591797, 'Reacting': 183.20236206054688}, 'LowerBody': {'All': 219.64419555664062, 'UpperStretching': 212.14846801757812, 'Walking': 230.6072235107422, 'Talking': 204.37387084960938, 'Patting': 249.7246856689453, 'LowerStretching': 242.46971130371094, 'Greeting': 201.4012451171875, 'Gesticuling': 177.41067504882812, 'Gaming': 222.74703979492188, 'Reacting': 211.52801513671875}}\n"
     ]
    },
    {
     "name": "stderr",
     "output_type": "stream",
     "text": [
      " 19%|█▊        | 1000/5352 [05:50<25:14,  2.87it/s]"
     ]
    },
    {
     "name": "stdout",
     "output_type": "stream",
     "text": [
      "{'FullBody': {'All': 224.85162353515625, 'UpperStretching': 226.06227111816406, 'Walking': 234.0529327392578, 'Talking': 203.55178833007812, 'Patting': 222.13253784179688, 'LowerStretching': 229.52928161621094, 'Greeting': 217.0795135498047, 'Gesticuling': 179.4980010986328, 'Gaming': 207.74081420898438, 'Reacting': 196.12405395507812}, 'UpperBody': {'All': 230.12295532226562, 'UpperStretching': 239.9699249267578, 'Walking': 237.24703979492188, 'Talking': 203.23890686035156, 'Patting': 194.66368103027344, 'LowerStretching': 216.24957275390625, 'Greeting': 232.3617401123047, 'Gesticuling': 182.20497131347656, 'Gaming': 197.01881408691406, 'Reacting': 182.2860565185547}, 'LowerBody': {'All': 219.5802764892578, 'UpperStretching': 212.1546173095703, 'Walking': 230.85882568359375, 'Talking': 203.86471557617188, 'Patting': 249.6013946533203, 'LowerStretching': 242.8090057373047, 'Greeting': 201.79727172851562, 'Gesticuling': 176.79104614257812, 'Gaming': 218.46278381347656, 'Reacting': 209.96205139160156}}\n"
     ]
    },
    {
     "name": "stderr",
     "output_type": "stream",
     "text": [
      " 22%|██▏       | 1200/5352 [06:59<24:04,  2.87it/s]"
     ]
    },
    {
     "name": "stdout",
     "output_type": "stream",
     "text": [
      "{'FullBody': {'All': 224.485107421875, 'UpperStretching': 225.8195037841797, 'Walking': 234.0892333984375, 'Talking': 203.94203186035156, 'Patting': 222.08567810058594, 'LowerStretching': 228.98809814453125, 'Greeting': 215.5920867919922, 'Gesticuling': 179.16429138183594, 'Gaming': 207.7138671875, 'Reacting': 193.84814453125}, 'UpperBody': {'All': 230.08091735839844, 'UpperStretching': 240.02639770507812, 'Walking': 236.94271850585938, 'Talking': 203.2159423828125, 'Patting': 198.5601043701172, 'LowerStretching': 216.121826171875, 'Greeting': 232.17991638183594, 'Gesticuling': 181.52012634277344, 'Gaming': 196.10475158691406, 'Reacting': 181.5045623779297}, 'LowerBody': {'All': 218.88926696777344, 'UpperStretching': 211.61260986328125, 'Walking': 231.23570251464844, 'Talking': 204.66812133789062, 'Patting': 245.61126708984375, 'LowerStretching': 241.85433959960938, 'Greeting': 199.0042724609375, 'Gesticuling': 176.8084716796875, 'Gaming': 219.32298278808594, 'Reacting': 206.19175720214844}}\n"
     ]
    },
    {
     "name": "stderr",
     "output_type": "stream",
     "text": [
      " 26%|██▌       | 1400/5352 [08:09<23:00,  2.86it/s]"
     ]
    },
    {
     "name": "stdout",
     "output_type": "stream",
     "text": [
      "{'FullBody': {'All': 224.46035766601562, 'UpperStretching': 225.91358947753906, 'Walking': 233.77005004882812, 'Talking': 203.9532012939453, 'Patting': 220.44139099121094, 'LowerStretching': 229.05894470214844, 'Greeting': 215.56358337402344, 'Gesticuling': 179.70603942871094, 'Gaming': 207.3732147216797, 'Reacting': 193.43472290039062}, 'UpperBody': {'All': 230.21075439453125, 'UpperStretching': 240.1825408935547, 'Walking': 236.22103881835938, 'Talking': 202.6112823486328, 'Patting': 197.9425811767578, 'LowerStretching': 216.5019989013672, 'Greeting': 233.06570434570312, 'Gesticuling': 183.164794921875, 'Gaming': 196.98167419433594, 'Reacting': 181.04417419433594}, 'LowerBody': {'All': 218.7099609375, 'UpperStretching': 211.64462280273438, 'Walking': 231.31906127929688, 'Talking': 205.29510498046875, 'Patting': 242.94020080566406, 'LowerStretching': 241.6159210205078, 'Greeting': 198.06146240234375, 'Gesticuling': 176.24729919433594, 'Gaming': 217.7647705078125, 'Reacting': 205.82530212402344}}\n"
     ]
    },
    {
     "name": "stderr",
     "output_type": "stream",
     "text": [
      " 30%|██▉       | 1600/5352 [09:18<21:48,  2.87it/s]"
     ]
    },
    {
     "name": "stdout",
     "output_type": "stream",
     "text": [
      "{'FullBody': {'All': 224.5493927001953, 'UpperStretching': 226.12843322753906, 'Walking': 233.880615234375, 'Talking': 203.50900268554688, 'Patting': 218.71456909179688, 'LowerStretching': 228.91859436035156, 'Greeting': 215.39210510253906, 'Gesticuling': 180.43519592285156, 'Gaming': 207.47549438476562, 'Reacting': 193.16285705566406}, 'UpperBody': {'All': 230.15455627441406, 'UpperStretching': 240.08184814453125, 'Walking': 235.78736877441406, 'Talking': 202.27622985839844, 'Patting': 196.78419494628906, 'LowerStretching': 216.7054901123047, 'Greeting': 234.98916625976562, 'Gesticuling': 184.31124877929688, 'Gaming': 196.85809326171875, 'Reacting': 181.142333984375}, 'LowerBody': {'All': 218.94424438476562, 'UpperStretching': 212.1750030517578, 'Walking': 231.97384643554688, 'Talking': 204.74176025390625, 'Patting': 240.6449432373047, 'LowerStretching': 241.1317138671875, 'Greeting': 195.7950439453125, 'Gesticuling': 176.55914306640625, 'Gaming': 218.0928955078125, 'Reacting': 205.18338012695312}}\n"
     ]
    },
    {
     "name": "stderr",
     "output_type": "stream",
     "text": [
      " 34%|███▎      | 1800/5352 [10:27<20:39,  2.87it/s]"
     ]
    },
    {
     "name": "stdout",
     "output_type": "stream",
     "text": [
      "{'FullBody': {'All': 224.6300811767578, 'UpperStretching': 226.23228454589844, 'Walking': 233.72308349609375, 'Talking': 203.5678253173828, 'Patting': 219.22264099121094, 'LowerStretching': 229.04757690429688, 'Greeting': 215.70907592773438, 'Gesticuling': 180.03294372558594, 'Gaming': 208.23106384277344, 'Reacting': 193.13475036621094}, 'UpperBody': {'All': 230.0831756591797, 'UpperStretching': 240.0169677734375, 'Walking': 235.55953979492188, 'Talking': 201.8694610595703, 'Patting': 197.33412170410156, 'LowerStretching': 216.81417846679688, 'Greeting': 233.9927978515625, 'Gesticuling': 184.15420532226562, 'Gaming': 197.1400146484375, 'Reacting': 180.96055603027344}, 'LowerBody': {'All': 219.17701721191406, 'UpperStretching': 212.4476318359375, 'Walking': 231.8866424560547, 'Talking': 205.2661590576172, 'Patting': 241.11117553710938, 'LowerStretching': 241.2809600830078, 'Greeting': 197.42535400390625, 'Gesticuling': 175.91168212890625, 'Gaming': 219.3220977783203, 'Reacting': 205.30892944335938}}\n"
     ]
    },
    {
     "name": "stderr",
     "output_type": "stream",
     "text": [
      " 37%|███▋      | 2000/5352 [11:37<19:35,  2.85it/s]"
     ]
    },
    {
     "name": "stdout",
     "output_type": "stream",
     "text": [
      "{'FullBody': {'All': 224.672119140625, 'UpperStretching': 226.29290771484375, 'Walking': 234.3510284423828, 'Talking': 204.2755584716797, 'Patting': 217.46920776367188, 'LowerStretching': 228.99215698242188, 'Greeting': 214.1923370361328, 'Gesticuling': 180.111083984375, 'Gaming': 208.47669982910156, 'Reacting': 192.65902709960938}, 'UpperBody': {'All': 230.0763397216797, 'UpperStretching': 239.94032287597656, 'Walking': 235.9977569580078, 'Talking': 203.81419372558594, 'Patting': 195.76800537109375, 'LowerStretching': 216.90235900878906, 'Greeting': 233.25039672851562, 'Gesticuling': 184.59396362304688, 'Gaming': 196.68992614746094, 'Reacting': 181.21151733398438}, 'LowerBody': {'All': 219.2679443359375, 'UpperStretching': 212.64547729492188, 'Walking': 232.70433044433594, 'Talking': 204.7368927001953, 'Patting': 239.17041015625, 'LowerStretching': 241.08197021484375, 'Greeting': 195.13424682617188, 'Gesticuling': 175.62818908691406, 'Gaming': 220.26345825195312, 'Reacting': 204.1065216064453}}\n"
     ]
    },
    {
     "name": "stderr",
     "output_type": "stream",
     "text": [
      " 41%|████      | 2200/5352 [12:46<18:20,  2.86it/s]"
     ]
    },
    {
     "name": "stdout",
     "output_type": "stream",
     "text": [
      "{'FullBody': {'All': 224.58348083496094, 'UpperStretching': 226.3296356201172, 'Walking': 234.08128356933594, 'Talking': 204.76268005371094, 'Patting': 216.43865966796875, 'LowerStretching': 228.96267700195312, 'Greeting': 214.06784057617188, 'Gesticuling': 179.81202697753906, 'Gaming': 208.09022521972656, 'Reacting': 192.43589782714844}, 'UpperBody': {'All': 230.0318145751953, 'UpperStretching': 240.02297973632812, 'Walking': 235.63067626953125, 'Talking': 203.92617797851562, 'Patting': 195.7407989501953, 'LowerStretching': 217.02980041503906, 'Greeting': 233.28465270996094, 'Gesticuling': 184.10702514648438, 'Gaming': 196.6519012451172, 'Reacting': 180.7961883544922}, 'LowerBody': {'All': 219.13514709472656, 'UpperStretching': 212.63633728027344, 'Walking': 232.53187561035156, 'Talking': 205.59915161132812, 'Patting': 237.1365509033203, 'LowerStretching': 240.8955841064453, 'Greeting': 194.85101318359375, 'Gesticuling': 175.5170135498047, 'Gaming': 219.52854919433594, 'Reacting': 204.07559204101562}}\n"
     ]
    },
    {
     "name": "stderr",
     "output_type": "stream",
     "text": [
      " 45%|████▍     | 2400/5352 [13:55<17:12,  2.86it/s]"
     ]
    },
    {
     "name": "stdout",
     "output_type": "stream",
     "text": [
      "{'FullBody': {'All': 224.59991455078125, 'UpperStretching': 226.3725128173828, 'Walking': 234.34877014160156, 'Talking': 205.13809204101562, 'Patting': 215.54736328125, 'LowerStretching': 228.9239044189453, 'Greeting': 214.48770141601562, 'Gesticuling': 180.25282287597656, 'Gaming': 207.9654083251953, 'Reacting': 192.592529296875}, 'UpperBody': {'All': 230.0644989013672, 'UpperStretching': 240.08750915527344, 'Walking': 235.75376892089844, 'Talking': 204.39231872558594, 'Patting': 196.9724884033203, 'LowerStretching': 217.0674591064453, 'Greeting': 231.78662109375, 'Gesticuling': 185.12680053710938, 'Gaming': 196.20252990722656, 'Reacting': 180.87078857421875}, 'LowerBody': {'All': 219.13531494140625, 'UpperStretching': 212.6575469970703, 'Walking': 232.94378662109375, 'Talking': 205.88388061523438, 'Patting': 234.1222686767578, 'LowerStretching': 240.7803497314453, 'Greeting': 197.1887664794922, 'Gesticuling': 175.3788604736328, 'Gaming': 219.728271484375, 'Reacting': 204.3142852783203}}\n"
     ]
    },
    {
     "name": "stderr",
     "output_type": "stream",
     "text": [
      " 49%|████▊     | 2600/5352 [15:04<16:02,  2.86it/s]"
     ]
    },
    {
     "name": "stdout",
     "output_type": "stream",
     "text": [
      "{'FullBody': {'All': 224.76463317871094, 'UpperStretching': 226.6195068359375, 'Walking': 234.39356994628906, 'Talking': 205.35777282714844, 'Patting': 215.93658447265625, 'LowerStretching': 229.03164672851562, 'Greeting': 214.1720733642578, 'Gesticuling': 179.70172119140625, 'Gaming': 208.3507080078125, 'Reacting': 192.38623046875}, 'UpperBody': {'All': 230.02557373046875, 'UpperStretching': 240.04322814941406, 'Walking': 235.56585693359375, 'Talking': 204.03611755371094, 'Patting': 197.48004150390625, 'LowerStretching': 216.99777221679688, 'Greeting': 232.22683715820312, 'Gesticuling': 184.70263671875, 'Gaming': 196.47216796875, 'Reacting': 180.89964294433594}, 'LowerBody': {'All': 219.50367736816406, 'UpperStretching': 213.19580078125, 'Walking': 233.22129821777344, 'Talking': 206.67942810058594, 'Patting': 234.39309692382812, 'LowerStretching': 241.06556701660156, 'Greeting': 196.11727905273438, 'Gesticuling': 174.7008056640625, 'Gaming': 220.2292022705078, 'Reacting': 203.87283325195312}}\n"
     ]
    },
    {
     "name": "stderr",
     "output_type": "stream",
     "text": [
      " 52%|█████▏    | 2800/5352 [16:14<14:58,  2.84it/s]"
     ]
    },
    {
     "name": "stdout",
     "output_type": "stream",
     "text": [
      "{'FullBody': {'All': 224.6559600830078, 'UpperStretching': 226.52699279785156, 'Walking': 234.06919860839844, 'Talking': 205.1637420654297, 'Patting': 215.86473083496094, 'LowerStretching': 228.89476013183594, 'Greeting': 214.26878356933594, 'Gesticuling': 179.78419494628906, 'Gaming': 208.13914489746094, 'Reacting': 192.2505340576172}, 'UpperBody': {'All': 229.9164276123047, 'UpperStretching': 239.86997985839844, 'Walking': 235.40029907226562, 'Talking': 203.346435546875, 'Patting': 198.20286560058594, 'LowerStretching': 216.88914489746094, 'Greeting': 231.70094299316406, 'Gesticuling': 185.22097778320312, 'Gaming': 196.57327270507812, 'Reacting': 180.81532287597656}, 'LowerBody': {'All': 219.3954620361328, 'UpperStretching': 213.18399047851562, 'Walking': 232.7380828857422, 'Talking': 206.98106384277344, 'Patting': 233.52664184570312, 'LowerStretching': 240.90042114257812, 'Greeting': 196.83663940429688, 'Gesticuling': 174.34744262695312, 'Gaming': 219.7050323486328, 'Reacting': 203.68572998046875}}\n"
     ]
    },
    {
     "name": "stderr",
     "output_type": "stream",
     "text": [
      " 56%|█████▌    | 3000/5352 [17:23<13:44,  2.85it/s]"
     ]
    },
    {
     "name": "stdout",
     "output_type": "stream",
     "text": [
      "{'FullBody': {'All': 224.62060546875, 'UpperStretching': 226.46559143066406, 'Walking': 234.05438232421875, 'Talking': 205.303466796875, 'Patting': 215.60162353515625, 'LowerStretching': 229.0034942626953, 'Greeting': 214.53567504882812, 'Gesticuling': 179.55511474609375, 'Gaming': 207.69671630859375, 'Reacting': 192.24105834960938}, 'UpperBody': {'All': 229.85012817382812, 'UpperStretching': 239.74583435058594, 'Walking': 235.46644592285156, 'Talking': 203.92001342773438, 'Patting': 198.43093872070312, 'LowerStretching': 216.97366333007812, 'Greeting': 232.1729278564453, 'Gesticuling': 184.57577514648438, 'Gaming': 196.00413513183594, 'Reacting': 180.75022888183594}, 'LowerBody': {'All': 219.3910369873047, 'UpperStretching': 213.1853790283203, 'Walking': 232.6422576904297, 'Talking': 206.6869354248047, 'Patting': 232.77230834960938, 'LowerStretching': 241.0333251953125, 'Greeting': 196.89842224121094, 'Gesticuling': 174.53443908691406, 'Gaming': 219.38925170898438, 'Reacting': 203.73190307617188}}\n"
     ]
    },
    {
     "name": "stderr",
     "output_type": "stream",
     "text": [
      " 60%|█████▉    | 3200/5352 [18:32<12:36,  2.85it/s]"
     ]
    },
    {
     "name": "stdout",
     "output_type": "stream",
     "text": [
      "{'FullBody': {'All': 224.6936492919922, 'UpperStretching': 226.61041259765625, 'Walking': 233.88063049316406, 'Talking': 205.2889862060547, 'Patting': 215.77764892578125, 'LowerStretching': 228.95399475097656, 'Greeting': 214.9773406982422, 'Gesticuling': 179.1922607421875, 'Gaming': 207.4670867919922, 'Reacting': 192.56983947753906}, 'UpperBody': {'All': 229.9525146484375, 'UpperStretching': 239.89346313476562, 'Walking': 235.60635375976562, 'Talking': 204.3143310546875, 'Patting': 198.82522583007812, 'LowerStretching': 216.98756408691406, 'Greeting': 232.16873168945312, 'Gesticuling': 184.1156768798828, 'Gaming': 196.34197998046875, 'Reacting': 180.458251953125}, 'LowerBody': {'All': 219.4347686767578, 'UpperStretching': 213.3273468017578, 'Walking': 232.15492248535156, 'Talking': 206.26364135742188, 'Patting': 232.73008728027344, 'LowerStretching': 240.92042541503906, 'Greeting': 197.78598022460938, 'Gesticuling': 174.2688446044922, 'Gaming': 218.59217834472656, 'Reacting': 204.6814422607422}}\n"
     ]
    },
    {
     "name": "stderr",
     "output_type": "stream",
     "text": [
      " 64%|██████▎   | 3400/5352 [19:42<11:24,  2.85it/s]"
     ]
    },
    {
     "name": "stdout",
     "output_type": "stream",
     "text": [
      "{'FullBody': {'All': 224.65513610839844, 'UpperStretching': 226.5767059326172, 'Walking': 233.9713592529297, 'Talking': 205.3538055419922, 'Patting': 215.62782287597656, 'LowerStretching': 228.8632049560547, 'Greeting': 215.0657501220703, 'Gesticuling': 179.22329711914062, 'Gaming': 207.19114685058594, 'Reacting': 192.3193817138672}, 'UpperBody': {'All': 229.906005859375, 'UpperStretching': 239.88555908203125, 'Walking': 235.5012664794922, 'Talking': 204.74700927734375, 'Patting': 198.77093505859375, 'LowerStretching': 216.9355010986328, 'Greeting': 231.8113555908203, 'Gesticuling': 184.01885986328125, 'Gaming': 195.88751220703125, 'Reacting': 180.22450256347656}, 'LowerBody': {'All': 219.4042205810547, 'UpperStretching': 213.2678680419922, 'Walking': 232.4414520263672, 'Talking': 205.96060180664062, 'Patting': 232.48472595214844, 'LowerStretching': 240.79092407226562, 'Greeting': 198.3201446533203, 'Gesticuling': 174.42774963378906, 'Gaming': 218.49478149414062, 'Reacting': 204.4142303466797}}\n"
     ]
    },
    {
     "name": "stderr",
     "output_type": "stream",
     "text": [
      " 67%|██████▋   | 3600/5352 [20:51<10:14,  2.85it/s]"
     ]
    },
    {
     "name": "stdout",
     "output_type": "stream",
     "text": [
      "{'FullBody': {'All': 224.5965576171875, 'UpperStretching': 226.5298614501953, 'Walking': 233.8738555908203, 'Talking': 205.38775634765625, 'Patting': 215.3698272705078, 'LowerStretching': 228.80372619628906, 'Greeting': 215.28433227539062, 'Gesticuling': 179.3326416015625, 'Gaming': 207.09661865234375, 'Reacting': 192.27207946777344}, 'UpperBody': {'All': 229.90850830078125, 'UpperStretching': 239.9173583984375, 'Walking': 235.48971557617188, 'Talking': 205.25433349609375, 'Patting': 198.72821044921875, 'LowerStretching': 216.8230743408203, 'Greeting': 231.6543731689453, 'Gesticuling': 183.83114624023438, 'Gaming': 196.1532745361328, 'Reacting': 180.13442993164062}, 'LowerBody': {'All': 219.28460693359375, 'UpperStretching': 213.1423797607422, 'Walking': 232.25799560546875, 'Talking': 205.52117919921875, 'Patting': 232.0114288330078, 'LowerStretching': 240.78440856933594, 'Greeting': 198.91432189941406, 'Gesticuling': 174.83413696289062, 'Gaming': 218.03997802734375, 'Reacting': 204.40969848632812}}\n"
     ]
    },
    {
     "name": "stderr",
     "output_type": "stream",
     "text": [
      " 71%|███████   | 3800/5352 [22:00<09:05,  2.84it/s]"
     ]
    },
    {
     "name": "stdout",
     "output_type": "stream",
     "text": [
      "{'FullBody': {'All': 224.5249786376953, 'UpperStretching': 226.4318389892578, 'Walking': 233.92726135253906, 'Talking': 205.39952087402344, 'Patting': 215.39210510253906, 'LowerStretching': 228.82290649414062, 'Greeting': 215.22531127929688, 'Gesticuling': 179.04116821289062, 'Gaming': 207.26370239257812, 'Reacting': 192.10189819335938}, 'UpperBody': {'All': 229.86375427246094, 'UpperStretching': 239.84730529785156, 'Walking': 235.78707885742188, 'Talking': 205.3973846435547, 'Patting': 198.71165466308594, 'LowerStretching': 216.79266357421875, 'Greeting': 232.1748809814453, 'Gesticuling': 183.39622497558594, 'Gaming': 196.439697265625, 'Reacting': 179.9324188232422}, 'LowerBody': {'All': 219.1862030029297, 'UpperStretching': 213.016357421875, 'Walking': 232.0674285888672, 'Talking': 205.4016571044922, 'Patting': 232.0725555419922, 'LowerStretching': 240.85316467285156, 'Greeting': 198.27577209472656, 'Gesticuling': 174.6861114501953, 'Gaming': 218.08770751953125, 'Reacting': 204.27137756347656}}\n"
     ]
    },
    {
     "name": "stderr",
     "output_type": "stream",
     "text": [
      " 75%|███████▍  | 4000/5352 [23:09<07:56,  2.84it/s]"
     ]
    },
    {
     "name": "stdout",
     "output_type": "stream",
     "text": [
      "{'FullBody': {'All': 224.5425262451172, 'UpperStretching': 226.49851989746094, 'Walking': 233.81314086914062, 'Talking': 205.38523864746094, 'Patting': 215.3028106689453, 'LowerStretching': 228.91769409179688, 'Greeting': 215.09754943847656, 'Gesticuling': 179.09527587890625, 'Gaming': 207.03414916992188, 'Reacting': 191.9983367919922}, 'UpperBody': {'All': 229.9109649658203, 'UpperStretching': 239.9268035888672, 'Walking': 235.88238525390625, 'Talking': 205.47662353515625, 'Patting': 198.4380340576172, 'LowerStretching': 216.89114379882812, 'Greeting': 231.83192443847656, 'Gesticuling': 183.499755859375, 'Gaming': 196.1737823486328, 'Reacting': 179.7265167236328}, 'LowerBody': {'All': 219.174072265625, 'UpperStretching': 213.0702362060547, 'Walking': 231.74386596679688, 'Talking': 205.29388427734375, 'Patting': 232.16757202148438, 'LowerStretching': 240.9442138671875, 'Greeting': 198.36318969726562, 'Gesticuling': 174.69078063964844, 'Gaming': 217.89450073242188, 'Reacting': 204.27020263671875}}\n"
     ]
    },
    {
     "name": "stderr",
     "output_type": "stream",
     "text": [
      " 78%|███████▊  | 4200/5352 [24:19<06:47,  2.82it/s]"
     ]
    },
    {
     "name": "stdout",
     "output_type": "stream",
     "text": [
      "{'FullBody': {'All': 224.57188415527344, 'UpperStretching': 226.55714416503906, 'Walking': 233.84048461914062, 'Talking': 205.30914306640625, 'Patting': 215.2691192626953, 'LowerStretching': 228.88050842285156, 'Greeting': 215.16375732421875, 'Gesticuling': 179.09642028808594, 'Gaming': 206.8927001953125, 'Reacting': 192.0341033935547}, 'UpperBody': {'All': 229.90725708007812, 'UpperStretching': 239.87059020996094, 'Walking': 235.89645385742188, 'Talking': 205.20419311523438, 'Patting': 198.2137908935547, 'LowerStretching': 216.95809936523438, 'Greeting': 231.79454040527344, 'Gesticuling': 183.46669006347656, 'Gaming': 196.26673889160156, 'Reacting': 180.1303253173828}, 'LowerBody': {'All': 219.23648071289062, 'UpperStretching': 213.2436981201172, 'Walking': 231.78451538085938, 'Talking': 205.4141082763672, 'Patting': 232.32443237304688, 'LowerStretching': 240.80291748046875, 'Greeting': 198.53298950195312, 'Gesticuling': 174.7261505126953, 'Gaming': 217.51866149902344, 'Reacting': 203.93788146972656}}\n"
     ]
    },
    {
     "name": "stderr",
     "output_type": "stream",
     "text": [
      " 82%|████████▏ | 4400/5352 [25:28<05:36,  2.83it/s]"
     ]
    },
    {
     "name": "stdout",
     "output_type": "stream",
     "text": [
      "{'FullBody': {'All': 224.5901336669922, 'UpperStretching': 226.6237030029297, 'Walking': 233.77297973632812, 'Talking': 205.43943786621094, 'Patting': 214.88668823242188, 'LowerStretching': 228.86767578125, 'Greeting': 215.24562072753906, 'Gesticuling': 179.04783630371094, 'Gaming': 206.9003448486328, 'Reacting': 192.0770263671875}, 'UpperBody': {'All': 229.90110778808594, 'UpperStretching': 239.89015197753906, 'Walking': 235.8882293701172, 'Talking': 205.1756591796875, 'Patting': 198.09249877929688, 'LowerStretching': 216.93186950683594, 'Greeting': 231.58779907226562, 'Gesticuling': 183.46205139160156, 'Gaming': 196.24029541015625, 'Reacting': 180.4900665283203}, 'LowerBody': {'All': 219.27911376953125, 'UpperStretching': 213.35726928710938, 'Walking': 231.65774536132812, 'Talking': 205.70321655273438, 'Patting': 231.68092346191406, 'LowerStretching': 240.80345153808594, 'Greeting': 198.90342712402344, 'Gesticuling': 174.63357543945312, 'Gaming': 217.56036376953125, 'Reacting': 203.6639862060547}}\n"
     ]
    },
    {
     "name": "stderr",
     "output_type": "stream",
     "text": [
      " 86%|████████▌ | 4600/5352 [26:37<04:26,  2.82it/s]"
     ]
    },
    {
     "name": "stdout",
     "output_type": "stream",
     "text": [
      "{'FullBody': {'All': 224.599365234375, 'UpperStretching': 226.68284606933594, 'Walking': 233.77052307128906, 'Talking': 205.1634063720703, 'Patting': 215.0761260986328, 'LowerStretching': 228.79513549804688, 'Greeting': 215.08563232421875, 'Gesticuling': 178.8407745361328, 'Gaming': 206.62161254882812, 'Reacting': 192.1876678466797}, 'UpperBody': {'All': 229.80453491210938, 'UpperStretching': 239.76171875, 'Walking': 235.9618682861328, 'Talking': 204.91110229492188, 'Patting': 198.3699951171875, 'LowerStretching': 216.74606323242188, 'Greeting': 231.99851989746094, 'Gesticuling': 183.30563354492188, 'Gaming': 196.38511657714844, 'Reacting': 180.56105041503906}, 'LowerBody': {'All': 219.3941650390625, 'UpperStretching': 213.6039581298828, 'Walking': 231.5791778564453, 'Talking': 205.41571044921875, 'Patting': 231.7822723388672, 'LowerStretching': 240.8441925048828, 'Greeting': 198.17274475097656, 'Gesticuling': 174.3759307861328, 'Gaming': 216.858154296875, 'Reacting': 203.8142852783203}}\n"
     ]
    },
    {
     "name": "stderr",
     "output_type": "stream",
     "text": [
      " 90%|████████▉ | 4800/5352 [27:47<03:15,  2.82it/s]"
     ]
    },
    {
     "name": "stdout",
     "output_type": "stream",
     "text": [
      "{'FullBody': {'All': 224.55377197265625, 'UpperStretching': 226.63534545898438, 'Walking': 233.550048828125, 'Talking': 205.34194946289062, 'Patting': 215.2034149169922, 'LowerStretching': 228.79261779785156, 'Greeting': 215.38526916503906, 'Gesticuling': 178.7626190185547, 'Gaming': 206.7091064453125, 'Reacting': 191.99229431152344}, 'UpperBody': {'All': 229.76805114746094, 'UpperStretching': 239.77218627929688, 'Walking': 235.7314910888672, 'Talking': 205.04151916503906, 'Patting': 198.24349975585938, 'LowerStretching': 216.76634216308594, 'Greeting': 231.59954833984375, 'Gesticuling': 182.917236328125, 'Gaming': 196.3223876953125, 'Reacting': 180.56887817382812}, 'LowerBody': {'All': 219.33950805664062, 'UpperStretching': 213.4984893798828, 'Walking': 231.3686065673828, 'Talking': 205.64236450195312, 'Patting': 232.16334533691406, 'LowerStretching': 240.8188934326172, 'Greeting': 199.17100524902344, 'Gesticuling': 174.6080322265625, 'Gaming': 217.0957794189453, 'Reacting': 203.4156951904297}}\n"
     ]
    },
    {
     "name": "stderr",
     "output_type": "stream",
     "text": [
      " 93%|█████████▎| 5000/5352 [28:56<02:04,  2.82it/s]"
     ]
    },
    {
     "name": "stdout",
     "output_type": "stream",
     "text": [
      "{'FullBody': {'All': 224.51116943359375, 'UpperStretching': 226.62977600097656, 'Walking': 233.39100646972656, 'Talking': 205.2577362060547, 'Patting': 215.06158447265625, 'LowerStretching': 228.7686309814453, 'Greeting': 215.10153198242188, 'Gesticuling': 178.76043701171875, 'Gaming': 206.79238891601562, 'Reacting': 191.64224243164062}, 'UpperBody': {'All': 229.7572479248047, 'UpperStretching': 239.80606079101562, 'Walking': 235.749267578125, 'Talking': 204.82101440429688, 'Patting': 198.146240234375, 'LowerStretching': 216.67587280273438, 'Greeting': 231.93446350097656, 'Gesticuling': 182.74099731445312, 'Gaming': 196.13072204589844, 'Reacting': 180.1976318359375}, 'LowerBody': {'All': 219.26510620117188, 'UpperStretching': 213.4534912109375, 'Walking': 231.0327606201172, 'Talking': 205.69444274902344, 'Patting': 231.97689819335938, 'LowerStretching': 240.86135864257812, 'Greeting': 198.26861572265625, 'Gesticuling': 174.77984619140625, 'Gaming': 217.45407104492188, 'Reacting': 203.0868377685547}}\n"
     ]
    },
    {
     "name": "stderr",
     "output_type": "stream",
     "text": [
      " 97%|█████████▋| 5200/5352 [30:05<00:53,  2.82it/s]"
     ]
    },
    {
     "name": "stdout",
     "output_type": "stream",
     "text": [
      "{'FullBody': {'All': 224.48843383789062, 'UpperStretching': 226.6615447998047, 'Walking': 233.12342834472656, 'Talking': 205.12600708007812, 'Patting': 214.98948669433594, 'LowerStretching': 228.67007446289062, 'Greeting': 215.17413330078125, 'Gesticuling': 178.85382080078125, 'Gaming': 206.95506286621094, 'Reacting': 191.65428161621094}, 'UpperBody': {'All': 229.759765625, 'UpperStretching': 239.85426330566406, 'Walking': 235.4752197265625, 'Talking': 204.3072509765625, 'Patting': 198.206787109375, 'LowerStretching': 216.6089324951172, 'Greeting': 231.6587677001953, 'Gesticuling': 182.95106506347656, 'Gaming': 196.15866088867188, 'Reacting': 180.2419891357422}, 'LowerBody': {'All': 219.2171630859375, 'UpperStretching': 213.46881103515625, 'Walking': 230.77163696289062, 'Talking': 205.94476318359375, 'Patting': 231.772216796875, 'LowerStretching': 240.73121643066406, 'Greeting': 198.6894989013672, 'Gesticuling': 174.75656127929688, 'Gaming': 217.75144958496094, 'Reacting': 203.06655883789062}}\n"
     ]
    },
    {
     "name": "stderr",
     "output_type": "stream",
     "text": [
      "100%|██████████| 5352/5352 [30:58<00:00,  2.88it/s]\n",
      "\u001b[94m06:22:07 \u001b[92m[INFO]\u001b[94m Main\u001b[0m: Saving evaluation results...\n",
      "\u001b[94m06:22:07 \u001b[92m[INFO]\u001b[94m Main\u001b[0m: Done.\n",
      "\u001b[94m06:22:07 \u001b[92m[INFO]\u001b[94m Main\u001b[0m: Starting demo...\n",
      "  0%|          | 0/5352 [00:00<?, ?it/s]/opt/conda/lib/python3.10/site-packages/torchvision/transforms/transforms.py:329: UserWarning: Argument 'interpolation' of type int is deprecated since 0.13 and will be removed in 0.15. Please use InterpolationMode enum.\n",
      "  warnings.warn(\n",
      "/opt/conda/lib/python3.10/site-packages/torchvision/transforms/transforms.py:329: UserWarning: Argument 'interpolation' of type int is deprecated since 0.13 and will be removed in 0.15. Please use InterpolationMode enum.\n",
      "  warnings.warn(\n",
      "/opt/conda/lib/python3.10/site-packages/torchvision/transforms/transforms.py:329: UserWarning: Argument 'interpolation' of type int is deprecated since 0.13 and will be removed in 0.15. Please use InterpolationMode enum.\n",
      "  warnings.warn(\n",
      "/opt/conda/lib/python3.10/site-packages/torchvision/transforms/transforms.py:329: UserWarning: Argument 'interpolation' of type int is deprecated since 0.13 and will be removed in 0.15. Please use InterpolationMode enum.\n",
      "  warnings.warn(\n",
      "/opt/conda/lib/python3.10/site-packages/torchvision/transforms/transforms.py:329: UserWarning: Argument 'interpolation' of type int is deprecated since 0.13 and will be removed in 0.15. Please use InterpolationMode enum.\n",
      "  warnings.warn(\n",
      "/opt/conda/lib/python3.10/site-packages/torchvision/transforms/transforms.py:329: UserWarning: Argument 'interpolation' of type int is deprecated since 0.13 and will be removed in 0.15. Please use InterpolationMode enum.\n",
      "  warnings.warn(\n",
      "/opt/conda/lib/python3.10/site-packages/torchvision/transforms/transforms.py:329: UserWarning: Argument 'interpolation' of type int is deprecated since 0.13 and will be removed in 0.15. Please use InterpolationMode enum.\n",
      "  warnings.warn(\n",
      "/opt/conda/lib/python3.10/site-packages/torchvision/transforms/transforms.py:329: UserWarning: Argument 'interpolation' of type int is deprecated since 0.13 and will be removed in 0.15. Please use InterpolationMode enum.\n",
      "  warnings.warn(\n",
      "/opt/conda/lib/python3.10/site-packages/torchvision/transforms/transforms.py:329: UserWarning: Argument 'interpolation' of type int is deprecated since 0.13 and will be removed in 0.15. Please use InterpolationMode enum.\n",
      "  warnings.warn(\n",
      "/opt/conda/lib/python3.10/site-packages/torchvision/transforms/transforms.py:329: UserWarning: Argument 'interpolation' of type int is deprecated since 0.13 and will be removed in 0.15. Please use InterpolationMode enum.\n",
      "  warnings.warn(\n",
      "/opt/conda/lib/python3.10/site-packages/torchvision/transforms/transforms.py:329: UserWarning: Argument 'interpolation' of type int is deprecated since 0.13 and will be removed in 0.15. Please use InterpolationMode enum.\n",
      "  warnings.warn(\n",
      "/opt/conda/lib/python3.10/site-packages/torchvision/transforms/transforms.py:329: UserWarning: Argument 'interpolation' of type int is deprecated since 0.13 and will be removed in 0.15. Please use InterpolationMode enum.\n",
      "  warnings.warn(\n",
      "/opt/conda/lib/python3.10/site-packages/torchvision/transforms/transforms.py:329: UserWarning: Argument 'interpolation' of type int is deprecated since 0.13 and will be removed in 0.15. Please use InterpolationMode enum.\n",
      "  warnings.warn(\n",
      "/opt/conda/lib/python3.10/site-packages/torchvision/transforms/transforms.py:329: UserWarning: Argument 'interpolation' of type int is deprecated since 0.13 and will be removed in 0.15. Please use InterpolationMode enum.\n",
      "  warnings.warn(\n",
      "/opt/conda/lib/python3.10/site-packages/torchvision/transforms/transforms.py:329: UserWarning: Argument 'interpolation' of type int is deprecated since 0.13 and will be removed in 0.15. Please use InterpolationMode enum.\n",
      "  warnings.warn(\n",
      "/opt/conda/lib/python3.10/site-packages/torchvision/transforms/transforms.py:329: UserWarning: Argument 'interpolation' of type int is deprecated since 0.13 and will be removed in 0.15. Please use InterpolationMode enum.\n",
      "  warnings.warn(\n",
      "/opt/conda/lib/python3.10/site-packages/torchvision/transforms/transforms.py:329: UserWarning: Argument 'interpolation' of type int is deprecated since 0.13 and will be removed in 0.15. Please use InterpolationMode enum.\n",
      "  warnings.warn(\n",
      "/opt/conda/lib/python3.10/site-packages/torchvision/transforms/transforms.py:329: UserWarning: Argument 'interpolation' of type int is deprecated since 0.13 and will be removed in 0.15. Please use InterpolationMode enum.\n",
      "  warnings.warn(\n",
      "/opt/conda/lib/python3.10/site-packages/torchvision/transforms/transforms.py:329: UserWarning: Argument 'interpolation' of type int is deprecated since 0.13 and will be removed in 0.15. Please use InterpolationMode enum.\n",
      "  warnings.warn(\n",
      "/opt/conda/lib/python3.10/site-packages/torchvision/transforms/transforms.py:329: UserWarning: Argument 'interpolation' of type int is deprecated since 0.13 and will be removed in 0.15. Please use InterpolationMode enum.\n",
      "  warnings.warn(\n",
      "/opt/conda/lib/python3.10/site-packages/torchvision/transforms/transforms.py:329: UserWarning: Argument 'interpolation' of type int is deprecated since 0.13 and will be removed in 0.15. Please use InterpolationMode enum.\n",
      "  warnings.warn(\n",
      "/opt/conda/lib/python3.10/site-packages/torchvision/transforms/transforms.py:329: UserWarning: Argument 'interpolation' of type int is deprecated since 0.13 and will be removed in 0.15. Please use InterpolationMode enum.\n",
      "  warnings.warn(\n",
      "/opt/conda/lib/python3.10/site-packages/torchvision/transforms/transforms.py:329: UserWarning: Argument 'interpolation' of type int is deprecated since 0.13 and will be removed in 0.15. Please use InterpolationMode enum.\n",
      "  warnings.warn(\n",
      "/opt/conda/lib/python3.10/site-packages/torchvision/transforms/transforms.py:329: UserWarning: Argument 'interpolation' of type int is deprecated since 0.13 and will be removed in 0.15. Please use InterpolationMode enum.\n",
      "  warnings.warn(\n",
      "  4%|▎         | 200/5352 [01:13<29:39,  2.89it/s]"
     ]
    },
    {
     "name": "stdout",
     "output_type": "stream",
     "text": [
      "{'FullBody': {'All': 201.02337646484375, 'Reacting': 164.63160705566406, 'UpperStretching': 203.12643432617188, 'Talking': 164.58740234375, 'LowerStretching': 214.63340759277344, 'Walking': 205.85958862304688, 'Gaming': 186.58447265625, 'Gesticuling': 137.42787170410156, 'Greeting': 168.8748016357422, 'Patting': 175.32861328125}, 'UpperBody': {'All': 204.8716278076172, 'Reacting': 164.44393920898438, 'UpperStretching': 212.42544555664062, 'Talking': 186.44622802734375, 'LowerStretching': 199.2661895751953, 'Walking': 203.9091033935547, 'Gaming': 190.80751037597656, 'Gesticuling': 167.4707489013672, 'Greeting': 193.59725952148438, 'Patting': 182.14500427246094}, 'LowerBody': {'All': 197.17514038085938, 'Reacting': 164.81932067871094, 'UpperStretching': 193.82742309570312, 'Talking': 142.7285614013672, 'LowerStretching': 230.00062561035156, 'Walking': 207.81004333496094, 'Gaming': 182.36143493652344, 'Gesticuling': 107.385009765625, 'Greeting': 144.15232849121094, 'Patting': 168.51222229003906}}\n"
     ]
    },
    {
     "name": "stderr",
     "output_type": "stream",
     "text": [
      "  7%|▋         | 400/5352 [02:22<28:42,  2.88it/s]"
     ]
    },
    {
     "name": "stdout",
     "output_type": "stream",
     "text": [
      "{'FullBody': {'All': 200.58676147460938, 'Reacting': 166.11915588378906, 'UpperStretching': 201.58053588867188, 'Talking': 161.24012756347656, 'LowerStretching': 216.82699584960938, 'Walking': 205.93446350097656, 'Gaming': 188.50270080566406, 'Gesticuling': 137.78543090820312, 'Greeting': 168.99302673339844, 'Patting': 178.46014404296875}, 'UpperBody': {'All': 204.9171142578125, 'Reacting': 165.26121520996094, 'UpperStretching': 211.90670776367188, 'Talking': 186.08523559570312, 'LowerStretching': 199.5038299560547, 'Walking': 205.97293090820312, 'Gaming': 191.25738525390625, 'Gesticuling': 165.3007049560547, 'Greeting': 195.13438415527344, 'Patting': 184.40740966796875}, 'LowerBody': {'All': 196.25643920898438, 'Reacting': 166.97708129882812, 'UpperStretching': 191.25437927246094, 'Talking': 136.39505004882812, 'LowerStretching': 234.15016174316406, 'Walking': 205.89598083496094, 'Gaming': 185.7479705810547, 'Gesticuling': 110.27013397216797, 'Greeting': 142.85165405273438, 'Patting': 172.51295471191406}}\n"
     ]
    },
    {
     "name": "stderr",
     "output_type": "stream",
     "text": [
      " 11%|█         | 600/5352 [03:31<27:32,  2.88it/s]"
     ]
    },
    {
     "name": "stdout",
     "output_type": "stream",
     "text": [
      "{'FullBody': {'All': 200.80853271484375, 'Reacting': 170.15464782714844, 'UpperStretching': 201.76634216308594, 'Talking': 161.10128784179688, 'LowerStretching': 216.77635192871094, 'Walking': 207.2553253173828, 'Gaming': 184.94415283203125, 'Gesticuling': 138.8557586669922, 'Greeting': 165.9354705810547, 'Patting': 175.1409454345703}, 'UpperBody': {'All': 204.89291381835938, 'Reacting': 165.23574829101562, 'UpperStretching': 211.86183166503906, 'Talking': 182.8601837158203, 'LowerStretching': 199.11741638183594, 'Walking': 206.4377899169922, 'Gaming': 188.36727905273438, 'Gesticuling': 167.52301025390625, 'Greeting': 192.5727081298828, 'Patting': 185.5740203857422}, 'LowerBody': {'All': 196.72412109375, 'Reacting': 175.0735321044922, 'UpperStretching': 191.67079162597656, 'Talking': 139.3424072265625, 'LowerStretching': 234.435302734375, 'Walking': 208.07284545898438, 'Gaming': 181.52101135253906, 'Gesticuling': 110.18851470947266, 'Greeting': 139.29820251464844, 'Patting': 164.70787048339844}}\n"
     ]
    },
    {
     "name": "stderr",
     "output_type": "stream",
     "text": [
      " 15%|█▍        | 800/5352 [04:41<26:26,  2.87it/s]"
     ]
    },
    {
     "name": "stdout",
     "output_type": "stream",
     "text": [
      "{'FullBody': {'All': 200.68630981445312, 'Reacting': 168.0774383544922, 'UpperStretching': 201.7939453125, 'Talking': 160.4062957763672, 'LowerStretching': 216.59588623046875, 'Walking': 206.7493133544922, 'Gaming': 183.40321350097656, 'Gesticuling': 139.0653839111328, 'Greeting': 167.02035522460938, 'Patting': 178.34080505371094}, 'UpperBody': {'All': 204.65399169921875, 'Reacting': 165.4059295654297, 'UpperStretching': 211.63668823242188, 'Talking': 180.4147491455078, 'LowerStretching': 199.21780395507812, 'Walking': 205.8170928955078, 'Gaming': 186.65191650390625, 'Gesticuling': 166.9756317138672, 'Greeting': 193.81692504882812, 'Patting': 187.2508544921875}, 'LowerBody': {'All': 196.7186279296875, 'Reacting': 170.7489013671875, 'UpperStretching': 191.95120239257812, 'Talking': 140.3978271484375, 'LowerStretching': 233.97393798828125, 'Walking': 207.68153381347656, 'Gaming': 180.1544952392578, 'Gesticuling': 111.1551284790039, 'Greeting': 140.22378540039062, 'Patting': 169.4307861328125}}\n"
     ]
    },
    {
     "name": "stderr",
     "output_type": "stream",
     "text": [
      " 19%|█▊        | 1000/5352 [05:50<25:12,  2.88it/s]"
     ]
    },
    {
     "name": "stdout",
     "output_type": "stream",
     "text": [
      "{'FullBody': {'All': 200.505615234375, 'Reacting': 166.92889404296875, 'UpperStretching': 201.72239685058594, 'Talking': 161.45059204101562, 'LowerStretching': 216.52134704589844, 'Walking': 205.57754516601562, 'Gaming': 183.0711212158203, 'Gesticuling': 139.652099609375, 'Greeting': 167.5685272216797, 'Patting': 178.3675994873047}, 'UpperBody': {'All': 204.4345245361328, 'Reacting': 164.83802795410156, 'UpperStretching': 211.5839080810547, 'Talking': 182.30490112304688, 'LowerStretching': 198.95533752441406, 'Walking': 204.7384796142578, 'Gaming': 184.0712890625, 'Gesticuling': 167.84451293945312, 'Greeting': 194.02322387695312, 'Patting': 187.0204315185547}, 'LowerBody': {'All': 196.57672119140625, 'Reacting': 169.01980590820312, 'UpperStretching': 191.86080932617188, 'Talking': 140.59628295898438, 'LowerStretching': 234.0873565673828, 'Walking': 206.41661071777344, 'Gaming': 182.07098388671875, 'Gesticuling': 111.45970153808594, 'Greeting': 141.1138153076172, 'Patting': 169.7147674560547}}\n"
     ]
    },
    {
     "name": "stderr",
     "output_type": "stream",
     "text": [
      " 22%|██▏       | 1200/5352 [06:59<24:08,  2.87it/s]"
     ]
    },
    {
     "name": "stdout",
     "output_type": "stream",
     "text": [
      "{'FullBody': {'All': 200.27027893066406, 'Reacting': 165.94290161132812, 'UpperStretching': 201.59954833984375, 'Talking': 161.58782958984375, 'LowerStretching': 215.76071166992188, 'Walking': 205.82542419433594, 'Gaming': 180.69070434570312, 'Gesticuling': 139.6580810546875, 'Greeting': 167.15904235839844, 'Patting': 176.3272247314453}, 'UpperBody': {'All': 204.31982421875, 'Reacting': 163.08721923828125, 'UpperStretching': 211.50875854492188, 'Talking': 182.48526000976562, 'LowerStretching': 198.87139892578125, 'Walking': 205.16754150390625, 'Gaming': 182.97157287597656, 'Gesticuling': 167.9658203125, 'Greeting': 193.97483825683594, 'Patting': 185.13714599609375}, 'LowerBody': {'All': 196.2207489013672, 'Reacting': 168.79859924316406, 'UpperStretching': 191.69033813476562, 'Talking': 140.6904296875, 'LowerStretching': 232.6500244140625, 'Walking': 206.48330688476562, 'Gaming': 178.40985107421875, 'Gesticuling': 111.35037231445312, 'Greeting': 140.34323120117188, 'Patting': 167.51731872558594}}\n"
     ]
    },
    {
     "name": "stderr",
     "output_type": "stream",
     "text": [
      " 26%|██▌       | 1400/5352 [08:09<22:56,  2.87it/s]"
     ]
    },
    {
     "name": "stdout",
     "output_type": "stream",
     "text": [
      "{'FullBody': {'All': 200.59234619140625, 'Reacting': 168.15206909179688, 'UpperStretching': 201.68954467773438, 'Talking': 162.38523864746094, 'LowerStretching': 216.10653686523438, 'Walking': 206.3016357421875, 'Gaming': 181.4451141357422, 'Gesticuling': 140.3770751953125, 'Greeting': 166.49154663085938, 'Patting': 178.62200927734375}, 'UpperBody': {'All': 204.4614715576172, 'Reacting': 163.59141540527344, 'UpperStretching': 211.67010498046875, 'Talking': 182.41624450683594, 'LowerStretching': 198.71311950683594, 'Walking': 205.10122680664062, 'Gaming': 182.11944580078125, 'Gesticuling': 168.83819580078125, 'Greeting': 193.91856384277344, 'Patting': 186.68313598632812}, 'LowerBody': {'All': 196.7232208251953, 'Reacting': 172.71270751953125, 'UpperStretching': 191.708984375, 'Talking': 142.35421752929688, 'LowerStretching': 233.49998474121094, 'Walking': 207.50205993652344, 'Gaming': 180.77078247070312, 'Gesticuling': 111.91596221923828, 'Greeting': 139.0645294189453, 'Patting': 170.56088256835938}}\n"
     ]
    },
    {
     "name": "stderr",
     "output_type": "stream",
     "text": [
      " 30%|██▉       | 1600/5352 [09:18<21:49,  2.87it/s]"
     ]
    },
    {
     "name": "stdout",
     "output_type": "stream",
     "text": [
      "{'FullBody': {'All': 200.3515625, 'Reacting': 168.1333465576172, 'UpperStretching': 201.4701690673828, 'Talking': 162.4765167236328, 'LowerStretching': 215.2539825439453, 'Walking': 206.68588256835938, 'Gaming': 181.7774200439453, 'Gesticuling': 141.0104217529297, 'Greeting': 165.28945922851562, 'Patting': 177.9624481201172}, 'UpperBody': {'All': 204.56849670410156, 'Reacting': 163.18826293945312, 'UpperStretching': 211.86167907714844, 'Talking': 182.89041137695312, 'LowerStretching': 198.57298278808594, 'Walking': 205.23452758789062, 'Gaming': 182.85218811035156, 'Gesticuling': 169.07656860351562, 'Greeting': 192.8137969970703, 'Patting': 185.6696319580078}, 'LowerBody': {'All': 196.13461303710938, 'Reacting': 173.07843017578125, 'UpperStretching': 191.0786590576172, 'Talking': 142.06256103515625, 'LowerStretching': 231.9349822998047, 'Walking': 208.13722229003906, 'Gaming': 180.70263671875, 'Gesticuling': 112.9442367553711, 'Greeting': 137.76515197753906, 'Patting': 170.2552947998047}}\n"
     ]
    },
    {
     "name": "stderr",
     "output_type": "stream",
     "text": [
      " 34%|███▎      | 1800/5352 [10:27<20:39,  2.87it/s]"
     ]
    },
    {
     "name": "stdout",
     "output_type": "stream",
     "text": [
      "{'FullBody': {'All': 200.40953063964844, 'Reacting': 167.71517944335938, 'UpperStretching': 201.71778869628906, 'Talking': 161.4838104248047, 'LowerStretching': 215.2506866455078, 'Walking': 206.31076049804688, 'Gaming': 183.7392120361328, 'Gesticuling': 141.97369384765625, 'Greeting': 164.4280548095703, 'Patting': 177.89627075195312}, 'UpperBody': {'All': 204.5635223388672, 'Reacting': 162.98382568359375, 'UpperStretching': 211.84967041015625, 'Talking': 182.52020263671875, 'LowerStretching': 198.5845489501953, 'Walking': 205.14639282226562, 'Gaming': 184.57266235351562, 'Gesticuling': 170.1715087890625, 'Greeting': 191.9830322265625, 'Patting': 186.36061096191406}, 'LowerBody': {'All': 196.2555389404297, 'Reacting': 172.446533203125, 'UpperStretching': 191.5858917236328, 'Talking': 140.44744873046875, 'LowerStretching': 231.91677856445312, 'Walking': 207.47512817382812, 'Gaming': 182.90579223632812, 'Gesticuling': 113.77589416503906, 'Greeting': 136.87303161621094, 'Patting': 169.4319305419922}}\n"
     ]
    },
    {
     "name": "stderr",
     "output_type": "stream",
     "text": [
      " 37%|███▋      | 2000/5352 [11:37<19:31,  2.86it/s]"
     ]
    },
    {
     "name": "stdout",
     "output_type": "stream",
     "text": [
      "{'FullBody': {'All': 200.57032775878906, 'Reacting': 168.4254913330078, 'UpperStretching': 201.91973876953125, 'Talking': 161.5309295654297, 'LowerStretching': 215.54058837890625, 'Walking': 205.7853546142578, 'Gaming': 184.31903076171875, 'Gesticuling': 142.39602661132812, 'Greeting': 164.94137573242188, 'Patting': 177.08387756347656}, 'UpperBody': {'All': 204.55931091308594, 'Reacting': 163.3972625732422, 'UpperStretching': 211.7971954345703, 'Talking': 183.16357421875, 'LowerStretching': 198.61376953125, 'Walking': 204.7972869873047, 'Gaming': 185.0986328125, 'Gesticuling': 170.45346069335938, 'Greeting': 193.16461181640625, 'Patting': 186.5044403076172}, 'LowerBody': {'All': 196.5813446044922, 'Reacting': 173.45375061035156, 'UpperStretching': 192.04225158691406, 'Talking': 139.89830017089844, 'LowerStretching': 232.4674072265625, 'Walking': 206.77340698242188, 'Gaming': 183.5394287109375, 'Gesticuling': 114.33858489990234, 'Greeting': 136.71812438964844, 'Patting': 167.663330078125}}\n"
     ]
    },
    {
     "name": "stderr",
     "output_type": "stream",
     "text": [
      " 41%|████      | 2200/5352 [12:46<18:21,  2.86it/s]"
     ]
    },
    {
     "name": "stdout",
     "output_type": "stream",
     "text": [
      "{'FullBody': {'All': 200.72291564941406, 'Reacting': 168.1020050048828, 'UpperStretching': 202.02874755859375, 'Talking': 161.04710388183594, 'LowerStretching': 215.81192016601562, 'Walking': 205.97694396972656, 'Gaming': 184.20606994628906, 'Gesticuling': 142.5435333251953, 'Greeting': 166.09278869628906, 'Patting': 175.9522247314453}, 'UpperBody': {'All': 204.56163024902344, 'Reacting': 163.30172729492188, 'UpperStretching': 211.7594451904297, 'Talking': 182.9130859375, 'LowerStretching': 198.75076293945312, 'Walking': 204.67247009277344, 'Gaming': 184.70721435546875, 'Gesticuling': 170.55416870117188, 'Greeting': 193.35848999023438, 'Patting': 186.97451782226562}, 'LowerBody': {'All': 196.88418579101562, 'Reacting': 172.90231323242188, 'UpperStretching': 192.2980194091797, 'Talking': 139.18109130859375, 'LowerStretching': 232.87306213378906, 'Walking': 207.28140258789062, 'Gaming': 183.70494079589844, 'Gesticuling': 114.53292846679688, 'Greeting': 138.8270721435547, 'Patting': 164.929931640625}}\n"
     ]
    },
    {
     "name": "stderr",
     "output_type": "stream",
     "text": [
      " 45%|████▍     | 2400/5352 [13:55<17:10,  2.86it/s]"
     ]
    },
    {
     "name": "stdout",
     "output_type": "stream",
     "text": [
      "{'FullBody': {'All': 200.77464294433594, 'Reacting': 168.37770080566406, 'UpperStretching': 202.14114379882812, 'Talking': 161.20042419433594, 'LowerStretching': 215.63368225097656, 'Walking': 205.95375061035156, 'Gaming': 184.31756591796875, 'Gesticuling': 142.0785675048828, 'Greeting': 165.73434448242188, 'Patting': 176.75314331054688}, 'UpperBody': {'All': 204.58966064453125, 'Reacting': 163.20706176757812, 'UpperStretching': 211.89012145996094, 'Talking': 183.7372283935547, 'LowerStretching': 198.67660522460938, 'Walking': 204.67282104492188, 'Gaming': 184.431396484375, 'Gesticuling': 169.64894104003906, 'Greeting': 192.64337158203125, 'Patting': 186.94232177734375}, 'LowerBody': {'All': 196.9596405029297, 'Reacting': 173.54833984375, 'UpperStretching': 192.3921661376953, 'Talking': 138.66360473632812, 'LowerStretching': 232.5907440185547, 'Walking': 207.23471069335938, 'Gaming': 184.2037353515625, 'Gesticuling': 114.50821685791016, 'Greeting': 138.82528686523438, 'Patting': 166.56398010253906}}\n"
     ]
    },
    {
     "name": "stderr",
     "output_type": "stream",
     "text": [
      " 49%|████▊     | 2600/5352 [15:05<16:03,  2.86it/s]"
     ]
    },
    {
     "name": "stdout",
     "output_type": "stream",
     "text": [
      "{'FullBody': {'All': 200.86093139648438, 'Reacting': 168.12722778320312, 'UpperStretching': 202.29013061523438, 'Talking': 161.1190643310547, 'LowerStretching': 215.53912353515625, 'Walking': 206.24234008789062, 'Gaming': 184.57363891601562, 'Gesticuling': 142.1087646484375, 'Greeting': 165.97158813476562, 'Patting': 175.96534729003906}, 'UpperBody': {'All': 204.68019104003906, 'Reacting': 163.3612518310547, 'UpperStretching': 211.94363403320312, 'Talking': 184.2775421142578, 'LowerStretching': 198.66868591308594, 'Walking': 204.98190307617188, 'Gaming': 184.2048797607422, 'Gesticuling': 169.5411376953125, 'Greeting': 192.5597381591797, 'Patting': 187.3177947998047}, 'LowerBody': {'All': 197.0416717529297, 'Reacting': 172.89320373535156, 'UpperStretching': 192.63656616210938, 'Talking': 137.9605712890625, 'LowerStretching': 232.4095916748047, 'Walking': 207.50277709960938, 'Gaming': 184.9424285888672, 'Gesticuling': 114.67642211914062, 'Greeting': 139.3834228515625, 'Patting': 164.6129150390625}}\n"
     ]
    },
    {
     "name": "stderr",
     "output_type": "stream",
     "text": [
      " 52%|█████▏    | 2800/5352 [16:14<14:56,  2.85it/s]"
     ]
    },
    {
     "name": "stdout",
     "output_type": "stream",
     "text": [
      "{'FullBody': {'All': 200.80323791503906, 'Reacting': 168.56600952148438, 'UpperStretching': 202.31796264648438, 'Talking': 161.14651489257812, 'LowerStretching': 215.259521484375, 'Walking': 206.1289825439453, 'Gaming': 184.6866912841797, 'Gesticuling': 142.69329833984375, 'Greeting': 165.53524780273438, 'Patting': 175.77821350097656}, 'UpperBody': {'All': 204.67611694335938, 'Reacting': 163.07080078125, 'UpperStretching': 212.0357666015625, 'Talking': 184.1986541748047, 'LowerStretching': 198.58880615234375, 'Walking': 204.8085174560547, 'Gaming': 184.0996856689453, 'Gesticuling': 170.1495361328125, 'Greeting': 192.49490356445312, 'Patting': 187.58216857910156}, 'LowerBody': {'All': 196.93035888671875, 'Reacting': 174.06121826171875, 'UpperStretching': 192.60012817382812, 'Talking': 138.09437561035156, 'LowerStretching': 231.93023681640625, 'Walking': 207.4495086669922, 'Gaming': 185.27369689941406, 'Gesticuling': 115.23707580566406, 'Greeting': 138.5756072998047, 'Patting': 163.97422790527344}}\n"
     ]
    },
    {
     "name": "stderr",
     "output_type": "stream",
     "text": [
      " 56%|█████▌    | 3000/5352 [17:23<13:45,  2.85it/s]"
     ]
    },
    {
     "name": "stdout",
     "output_type": "stream",
     "text": [
      "{'FullBody': {'All': 200.83766174316406, 'Reacting': 168.70089721679688, 'UpperStretching': 202.4150390625, 'Talking': 161.3767852783203, 'LowerStretching': 215.39743041992188, 'Walking': 205.61819458007812, 'Gaming': 184.8487091064453, 'Gesticuling': 142.5545654296875, 'Greeting': 165.4038543701172, 'Patting': 175.39569091796875}, 'UpperBody': {'All': 204.61451721191406, 'Reacting': 162.92413330078125, 'UpperStretching': 212.00714111328125, 'Talking': 184.60250854492188, 'LowerStretching': 198.58253479003906, 'Walking': 204.54348754882812, 'Gaming': 183.2406463623047, 'Gesticuling': 170.2175750732422, 'Greeting': 192.3750457763672, 'Patting': 186.78488159179688}, 'LowerBody': {'All': 197.0608367919922, 'Reacting': 174.47764587402344, 'UpperStretching': 192.82290649414062, 'Talking': 138.15106201171875, 'LowerStretching': 232.2123260498047, 'Walking': 206.6929168701172, 'Gaming': 186.456787109375, 'Gesticuling': 114.89154815673828, 'Greeting': 138.43264770507812, 'Patting': 164.0064697265625}}\n"
     ]
    },
    {
     "name": "stderr",
     "output_type": "stream",
     "text": [
      " 60%|█████▉    | 3200/5352 [18:33<12:35,  2.85it/s]"
     ]
    },
    {
     "name": "stdout",
     "output_type": "stream",
     "text": [
      "{'FullBody': {'All': 200.8520050048828, 'Reacting': 168.4005584716797, 'UpperStretching': 202.4057159423828, 'Talking': 160.9761199951172, 'LowerStretching': 215.54774475097656, 'Walking': 205.4108123779297, 'Gaming': 184.5453643798828, 'Gesticuling': 142.7961883544922, 'Greeting': 165.35971069335938, 'Patting': 175.07614135742188}, 'UpperBody': {'All': 204.59080505371094, 'Reacting': 162.79409790039062, 'UpperStretching': 211.94900512695312, 'Talking': 184.62477111816406, 'LowerStretching': 198.55902099609375, 'Walking': 204.46726989746094, 'Gaming': 183.70111083984375, 'Gesticuling': 170.31134033203125, 'Greeting': 192.21234130859375, 'Patting': 186.52427673339844}, 'LowerBody': {'All': 197.1132049560547, 'Reacting': 174.00701904296875, 'UpperStretching': 192.86241149902344, 'Talking': 137.3274688720703, 'LowerStretching': 232.53646850585938, 'Walking': 206.35435485839844, 'Gaming': 185.38958740234375, 'Gesticuling': 115.28105163574219, 'Greeting': 138.507080078125, 'Patting': 163.6280517578125}}\n"
     ]
    },
    {
     "name": "stderr",
     "output_type": "stream",
     "text": [
      " 64%|██████▎   | 3400/5352 [19:42<11:26,  2.84it/s]"
     ]
    },
    {
     "name": "stdout",
     "output_type": "stream",
     "text": [
      "{'FullBody': {'All': 200.9695281982422, 'Reacting': 168.4622039794922, 'UpperStretching': 202.42190551757812, 'Talking': 160.97442626953125, 'LowerStretching': 215.92733764648438, 'Walking': 205.60311889648438, 'Gaming': 184.5594482421875, 'Gesticuling': 142.83273315429688, 'Greeting': 165.3682098388672, 'Patting': 175.73422241210938}, 'UpperBody': {'All': 204.68641662597656, 'Reacting': 162.5928497314453, 'UpperStretching': 211.98233032226562, 'Talking': 184.9228057861328, 'LowerStretching': 198.8048095703125, 'Walking': 204.631103515625, 'Gaming': 183.92535400390625, 'Gesticuling': 170.39617919921875, 'Greeting': 192.15359497070312, 'Patting': 187.28741455078125}, 'LowerBody': {'All': 197.2526397705078, 'Reacting': 174.3315887451172, 'UpperStretching': 192.8614501953125, 'Talking': 137.02606201171875, 'LowerStretching': 233.0498809814453, 'Walking': 206.5751190185547, 'Gaming': 185.1935577392578, 'Gesticuling': 115.26927947998047, 'Greeting': 138.5828094482422, 'Patting': 164.18104553222656}}\n"
     ]
    },
    {
     "name": "stderr",
     "output_type": "stream",
     "text": [
      " 67%|██████▋   | 3600/5352 [20:51<10:16,  2.84it/s]"
     ]
    },
    {
     "name": "stdout",
     "output_type": "stream",
     "text": [
      "{'FullBody': {'All': 200.95269775390625, 'Reacting': 168.56346130371094, 'UpperStretching': 202.46238708496094, 'Talking': 160.70054626464844, 'LowerStretching': 215.8935089111328, 'Walking': 205.65896606445312, 'Gaming': 184.14952087402344, 'Gesticuling': 143.04698181152344, 'Greeting': 165.41455078125, 'Patting': 175.6002960205078}, 'UpperBody': {'All': 204.67828369140625, 'Reacting': 162.66880798339844, 'UpperStretching': 211.96859741210938, 'Talking': 184.79254150390625, 'LowerStretching': 198.72145080566406, 'Walking': 204.84080505371094, 'Gaming': 183.8538818359375, 'Gesticuling': 170.76043701171875, 'Greeting': 192.18716430664062, 'Patting': 187.1437225341797}, 'LowerBody': {'All': 197.2270965576172, 'Reacting': 174.45816040039062, 'UpperStretching': 192.95616149902344, 'Talking': 136.6085662841797, 'LowerStretching': 233.0655975341797, 'Walking': 206.4770965576172, 'Gaming': 184.4451446533203, 'Gesticuling': 115.3335189819336, 'Greeting': 138.64193725585938, 'Patting': 164.05686950683594}}\n"
     ]
    },
    {
     "name": "stderr",
     "output_type": "stream",
     "text": [
      " 71%|███████   | 3800/5352 [22:01<09:07,  2.84it/s]"
     ]
    },
    {
     "name": "stdout",
     "output_type": "stream",
     "text": [
      "{'FullBody': {'All': 201.00929260253906, 'Reacting': 168.44198608398438, 'UpperStretching': 202.52685546875, 'Talking': 160.4952392578125, 'LowerStretching': 215.98114013671875, 'Walking': 205.7170867919922, 'Gaming': 183.81854248046875, 'Gesticuling': 143.32476806640625, 'Greeting': 165.3094482421875, 'Patting': 175.52105712890625}, 'UpperBody': {'All': 204.65017700195312, 'Reacting': 162.42860412597656, 'UpperStretching': 211.9132537841797, 'Talking': 184.75970458984375, 'LowerStretching': 198.88067626953125, 'Walking': 204.7352752685547, 'Gaming': 183.6466522216797, 'Gesticuling': 170.98526000976562, 'Greeting': 192.04061889648438, 'Patting': 187.30397033691406}, 'LowerBody': {'All': 197.36842346191406, 'Reacting': 174.45538330078125, 'UpperStretching': 193.14041137695312, 'Talking': 136.23072814941406, 'LowerStretching': 233.0816192626953, 'Walking': 206.69891357421875, 'Gaming': 183.99041748046875, 'Gesticuling': 115.66427612304688, 'Greeting': 138.57827758789062, 'Patting': 163.73814392089844}}\n"
     ]
    },
    {
     "name": "stderr",
     "output_type": "stream",
     "text": [
      " 75%|███████▍  | 4000/5352 [23:10<07:56,  2.84it/s]"
     ]
    },
    {
     "name": "stdout",
     "output_type": "stream",
     "text": [
      "{'FullBody': {'All': 201.03497314453125, 'Reacting': 168.10447692871094, 'UpperStretching': 202.56996154785156, 'Talking': 160.53736877441406, 'LowerStretching': 215.93490600585938, 'Walking': 205.65493774414062, 'Gaming': 183.89659118652344, 'Gesticuling': 143.4730987548828, 'Greeting': 165.31591796875, 'Patting': 176.27972412109375}, 'UpperBody': {'All': 204.6753387451172, 'Reacting': 162.29275512695312, 'UpperStretching': 211.87347412109375, 'Talking': 184.6632537841797, 'LowerStretching': 198.92910766601562, 'Walking': 204.79127502441406, 'Gaming': 183.9591827392578, 'Gesticuling': 171.11907958984375, 'Greeting': 191.909423828125, 'Patting': 188.20021057128906}, 'LowerBody': {'All': 197.3946075439453, 'Reacting': 173.9162139892578, 'UpperStretching': 193.2664031982422, 'Talking': 136.41148376464844, 'LowerStretching': 232.9407501220703, 'Walking': 206.51861572265625, 'Gaming': 183.833984375, 'Gesticuling': 115.82711029052734, 'Greeting': 138.72244262695312, 'Patting': 164.3592529296875}}\n"
     ]
    },
    {
     "name": "stderr",
     "output_type": "stream",
     "text": [
      " 78%|███████▊  | 4200/5352 [24:19<06:45,  2.84it/s]"
     ]
    },
    {
     "name": "stdout",
     "output_type": "stream",
     "text": [
      "{'FullBody': {'All': 200.99513244628906, 'Reacting': 167.99620056152344, 'UpperStretching': 202.52561950683594, 'Talking': 160.43174743652344, 'LowerStretching': 215.97750854492188, 'Walking': 205.6333770751953, 'Gaming': 183.73098754882812, 'Gesticuling': 143.29037475585938, 'Greeting': 165.08729553222656, 'Patting': 176.56869506835938}, 'UpperBody': {'All': 204.64761352539062, 'Reacting': 162.47903442382812, 'UpperStretching': 211.85015869140625, 'Talking': 184.18711853027344, 'LowerStretching': 198.98826599121094, 'Walking': 204.63499450683594, 'Gaming': 184.08045959472656, 'Gesticuling': 170.9165496826172, 'Greeting': 191.53741455078125, 'Patting': 188.13243103027344}, 'LowerBody': {'All': 197.34263610839844, 'Reacting': 173.51336669921875, 'UpperStretching': 193.20103454589844, 'Talking': 136.67636108398438, 'LowerStretching': 232.9667510986328, 'Walking': 206.63174438476562, 'Gaming': 183.38150024414062, 'Gesticuling': 115.66419982910156, 'Greeting': 138.63717651367188, 'Patting': 165.00494384765625}}\n"
     ]
    },
    {
     "name": "stderr",
     "output_type": "stream",
     "text": [
      " 82%|████████▏ | 4400/5352 [25:28<05:35,  2.84it/s]"
     ]
    },
    {
     "name": "stdout",
     "output_type": "stream",
     "text": [
      "{'FullBody': {'All': 201.01625061035156, 'Reacting': 168.34799194335938, 'UpperStretching': 202.43539428710938, 'Talking': 160.60916137695312, 'LowerStretching': 216.28842163085938, 'Walking': 205.74365234375, 'Gaming': 183.96824645996094, 'Gesticuling': 143.02713012695312, 'Greeting': 165.60775756835938, 'Patting': 176.3114013671875}, 'UpperBody': {'All': 204.66769409179688, 'Reacting': 162.69808959960938, 'UpperStretching': 211.81640625, 'Talking': 184.4976043701172, 'LowerStretching': 199.14405822753906, 'Walking': 204.7300262451172, 'Gaming': 184.03860473632812, 'Gesticuling': 170.79147338867188, 'Greeting': 191.51535034179688, 'Patting': 187.86605834960938}, 'LowerBody': {'All': 197.36477661132812, 'Reacting': 173.99789428710938, 'UpperStretching': 193.05433654785156, 'Talking': 136.7207489013672, 'LowerStretching': 233.43280029296875, 'Walking': 206.7572784423828, 'Gaming': 183.8978729248047, 'Gesticuling': 115.26280975341797, 'Greeting': 139.70018005371094, 'Patting': 164.7567138671875}}\n"
     ]
    },
    {
     "name": "stderr",
     "output_type": "stream",
     "text": [
      " 86%|████████▌ | 4600/5352 [26:38<04:26,  2.82it/s]"
     ]
    },
    {
     "name": "stdout",
     "output_type": "stream",
     "text": [
      "{'FullBody': {'All': 200.96157836914062, 'Reacting': 168.3478240966797, 'UpperStretching': 202.36761474609375, 'Talking': 160.52420043945312, 'LowerStretching': 216.27999877929688, 'Walking': 205.49427795410156, 'Gaming': 184.47073364257812, 'Gesticuling': 143.28359985351562, 'Greeting': 166.0852508544922, 'Patting': 176.94821166992188}, 'UpperBody': {'All': 204.66400146484375, 'Reacting': 162.80465698242188, 'UpperStretching': 211.83323669433594, 'Talking': 184.43148803710938, 'LowerStretching': 199.06961059570312, 'Walking': 204.6201629638672, 'Gaming': 184.3255615234375, 'Gesticuling': 171.0391387939453, 'Greeting': 192.02037048339844, 'Patting': 188.07342529296875}, 'LowerBody': {'All': 197.25912475585938, 'Reacting': 173.8909912109375, 'UpperStretching': 192.9019775390625, 'Talking': 136.616943359375, 'LowerStretching': 233.4904022216797, 'Walking': 206.36837768554688, 'Gaming': 184.6159210205078, 'Gesticuling': 115.52803802490234, 'Greeting': 140.15016174316406, 'Patting': 165.822998046875}}\n"
     ]
    },
    {
     "name": "stderr",
     "output_type": "stream",
     "text": [
      " 90%|████████▉ | 4800/5352 [27:47<03:16,  2.81it/s]"
     ]
    },
    {
     "name": "stdout",
     "output_type": "stream",
     "text": [
      "{'FullBody': {'All': 200.9523468017578, 'Reacting': 168.2330322265625, 'UpperStretching': 202.34353637695312, 'Talking': 160.53770446777344, 'LowerStretching': 216.31576538085938, 'Walking': 205.51210021972656, 'Gaming': 184.6053466796875, 'Gesticuling': 143.3582000732422, 'Greeting': 166.05039978027344, 'Patting': 176.65293884277344}, 'UpperBody': {'All': 204.67384338378906, 'Reacting': 162.88021850585938, 'UpperStretching': 211.82177734375, 'Talking': 184.35968017578125, 'LowerStretching': 199.05157470703125, 'Walking': 204.58468627929688, 'Gaming': 184.66302490234375, 'Gesticuling': 171.15701293945312, 'Greeting': 192.1382293701172, 'Patting': 188.25552368164062}, 'LowerBody': {'All': 197.2308349609375, 'Reacting': 173.58583068847656, 'UpperStretching': 192.8652801513672, 'Talking': 136.71571350097656, 'LowerStretching': 233.5799560546875, 'Walking': 206.43948364257812, 'Gaming': 184.5476531982422, 'Gesticuling': 115.55935668945312, 'Greeting': 139.96258544921875, 'Patting': 165.05038452148438}}\n"
     ]
    },
    {
     "name": "stderr",
     "output_type": "stream",
     "text": [
      " 93%|█████████▎| 5000/5352 [28:57<02:04,  2.83it/s]"
     ]
    },
    {
     "name": "stdout",
     "output_type": "stream",
     "text": [
      "{'FullBody': {'All': 200.94236755371094, 'Reacting': 168.24456787109375, 'UpperStretching': 202.3331756591797, 'Talking': 160.4207763671875, 'LowerStretching': 216.27227783203125, 'Walking': 205.3852081298828, 'Gaming': 184.78822326660156, 'Gesticuling': 143.4292449951172, 'Greeting': 166.43399047851562, 'Patting': 176.70901489257812}, 'UpperBody': {'All': 204.6845245361328, 'Reacting': 162.84803771972656, 'UpperStretching': 211.81979370117188, 'Talking': 184.26065063476562, 'LowerStretching': 199.05787658691406, 'Walking': 204.57275390625, 'Gaming': 184.920166015625, 'Gesticuling': 171.3155517578125, 'Greeting': 192.60186767578125, 'Patting': 188.34986877441406}, 'LowerBody': {'All': 197.20018005371094, 'Reacting': 173.64111328125, 'UpperStretching': 192.8465118408203, 'Talking': 136.58091735839844, 'LowerStretching': 233.4866485595703, 'Walking': 206.19766235351562, 'Gaming': 184.65626525878906, 'Gesticuling': 115.5429458618164, 'Greeting': 140.26612854003906, 'Patting': 165.06817626953125}}\n"
     ]
    },
    {
     "name": "stderr",
     "output_type": "stream",
     "text": [
      " 97%|█████████▋| 5200/5352 [30:06<00:53,  2.82it/s]"
     ]
    },
    {
     "name": "stdout",
     "output_type": "stream",
     "text": [
      "{'FullBody': {'All': 200.98849487304688, 'Reacting': 168.66909790039062, 'UpperStretching': 202.3737335205078, 'Talking': 160.588134765625, 'LowerStretching': 216.4278106689453, 'Walking': 205.28628540039062, 'Gaming': 184.4318389892578, 'Gesticuling': 143.19625854492188, 'Greeting': 166.31434631347656, 'Patting': 176.9538116455078}, 'UpperBody': {'All': 204.7260284423828, 'Reacting': 163.0590057373047, 'UpperStretching': 211.86447143554688, 'Talking': 184.3634033203125, 'LowerStretching': 199.121826171875, 'Walking': 204.52951049804688, 'Gaming': 184.73789978027344, 'Gesticuling': 171.18106079101562, 'Greeting': 192.46287536621094, 'Patting': 188.6940155029297}, 'LowerBody': {'All': 197.25094604492188, 'Reacting': 174.27920532226562, 'UpperStretching': 192.88296508789062, 'Talking': 136.81283569335938, 'LowerStretching': 233.73379516601562, 'Walking': 206.04306030273438, 'Gaming': 184.125732421875, 'Gesticuling': 115.21144104003906, 'Greeting': 140.16583251953125, 'Patting': 165.21360778808594}}\n"
     ]
    },
    {
     "name": "stderr",
     "output_type": "stream",
     "text": [
      "100%|██████████| 5352/5352 [30:59<00:00,  2.88it/s]\n",
      "\u001b[94m06:53:10 \u001b[92m[INFO]\u001b[94m Main\u001b[0m: Saving evaluation results...\n",
      "\u001b[94m06:53:10 \u001b[92m[INFO]\u001b[94m Main\u001b[0m: Done.\n",
      "\u001b[94m06:53:10 \u001b[92m[INFO]\u001b[94m Main\u001b[0m: Starting demo...\n",
      "  0%|          | 0/5352 [00:00<?, ?it/s]/opt/conda/lib/python3.10/site-packages/torchvision/transforms/transforms.py:329: UserWarning: Argument 'interpolation' of type int is deprecated since 0.13 and will be removed in 0.15. Please use InterpolationMode enum.\n",
      "  warnings.warn(\n",
      "/opt/conda/lib/python3.10/site-packages/torchvision/transforms/transforms.py:329: UserWarning: Argument 'interpolation' of type int is deprecated since 0.13 and will be removed in 0.15. Please use InterpolationMode enum.\n",
      "  warnings.warn(\n",
      "/opt/conda/lib/python3.10/site-packages/torchvision/transforms/transforms.py:329: UserWarning: Argument 'interpolation' of type int is deprecated since 0.13 and will be removed in 0.15. Please use InterpolationMode enum.\n",
      "  warnings.warn(\n",
      "/opt/conda/lib/python3.10/site-packages/torchvision/transforms/transforms.py:329: UserWarning: Argument 'interpolation' of type int is deprecated since 0.13 and will be removed in 0.15. Please use InterpolationMode enum.\n",
      "  warnings.warn(\n",
      "/opt/conda/lib/python3.10/site-packages/torchvision/transforms/transforms.py:329: UserWarning: Argument 'interpolation' of type int is deprecated since 0.13 and will be removed in 0.15. Please use InterpolationMode enum.\n",
      "  warnings.warn(\n",
      "/opt/conda/lib/python3.10/site-packages/torchvision/transforms/transforms.py:329: UserWarning: Argument 'interpolation' of type int is deprecated since 0.13 and will be removed in 0.15. Please use InterpolationMode enum.\n",
      "  warnings.warn(\n",
      "/opt/conda/lib/python3.10/site-packages/torchvision/transforms/transforms.py:329: UserWarning: Argument 'interpolation' of type int is deprecated since 0.13 and will be removed in 0.15. Please use InterpolationMode enum.\n",
      "  warnings.warn(\n",
      "/opt/conda/lib/python3.10/site-packages/torchvision/transforms/transforms.py:329: UserWarning: Argument 'interpolation' of type int is deprecated since 0.13 and will be removed in 0.15. Please use InterpolationMode enum.\n",
      "  warnings.warn(\n",
      "/opt/conda/lib/python3.10/site-packages/torchvision/transforms/transforms.py:329: UserWarning: Argument 'interpolation' of type int is deprecated since 0.13 and will be removed in 0.15. Please use InterpolationMode enum.\n",
      "  warnings.warn(\n",
      "/opt/conda/lib/python3.10/site-packages/torchvision/transforms/transforms.py:329: UserWarning: Argument 'interpolation' of type int is deprecated since 0.13 and will be removed in 0.15. Please use InterpolationMode enum.\n",
      "  warnings.warn(\n",
      "/opt/conda/lib/python3.10/site-packages/torchvision/transforms/transforms.py:329: UserWarning: Argument 'interpolation' of type int is deprecated since 0.13 and will be removed in 0.15. Please use InterpolationMode enum.\n",
      "  warnings.warn(\n",
      "/opt/conda/lib/python3.10/site-packages/torchvision/transforms/transforms.py:329: UserWarning: Argument 'interpolation' of type int is deprecated since 0.13 and will be removed in 0.15. Please use InterpolationMode enum.\n",
      "  warnings.warn(\n",
      "/opt/conda/lib/python3.10/site-packages/torchvision/transforms/transforms.py:329: UserWarning: Argument 'interpolation' of type int is deprecated since 0.13 and will be removed in 0.15. Please use InterpolationMode enum.\n",
      "  warnings.warn(\n",
      "/opt/conda/lib/python3.10/site-packages/torchvision/transforms/transforms.py:329: UserWarning: Argument 'interpolation' of type int is deprecated since 0.13 and will be removed in 0.15. Please use InterpolationMode enum.\n",
      "  warnings.warn(\n",
      "/opt/conda/lib/python3.10/site-packages/torchvision/transforms/transforms.py:329: UserWarning: Argument 'interpolation' of type int is deprecated since 0.13 and will be removed in 0.15. Please use InterpolationMode enum.\n",
      "  warnings.warn(\n",
      "/opt/conda/lib/python3.10/site-packages/torchvision/transforms/transforms.py:329: UserWarning: Argument 'interpolation' of type int is deprecated since 0.13 and will be removed in 0.15. Please use InterpolationMode enum.\n",
      "  warnings.warn(\n",
      "/opt/conda/lib/python3.10/site-packages/torchvision/transforms/transforms.py:329: UserWarning: Argument 'interpolation' of type int is deprecated since 0.13 and will be removed in 0.15. Please use InterpolationMode enum.\n",
      "  warnings.warn(\n",
      "/opt/conda/lib/python3.10/site-packages/torchvision/transforms/transforms.py:329: UserWarning: Argument 'interpolation' of type int is deprecated since 0.13 and will be removed in 0.15. Please use InterpolationMode enum.\n",
      "  warnings.warn(\n",
      "/opt/conda/lib/python3.10/site-packages/torchvision/transforms/transforms.py:329: UserWarning: Argument 'interpolation' of type int is deprecated since 0.13 and will be removed in 0.15. Please use InterpolationMode enum.\n",
      "  warnings.warn(\n",
      "/opt/conda/lib/python3.10/site-packages/torchvision/transforms/transforms.py:329: UserWarning: Argument 'interpolation' of type int is deprecated since 0.13 and will be removed in 0.15. Please use InterpolationMode enum.\n",
      "  warnings.warn(\n",
      "/opt/conda/lib/python3.10/site-packages/torchvision/transforms/transforms.py:329: UserWarning: Argument 'interpolation' of type int is deprecated since 0.13 and will be removed in 0.15. Please use InterpolationMode enum.\n",
      "  warnings.warn(\n",
      "/opt/conda/lib/python3.10/site-packages/torchvision/transforms/transforms.py:329: UserWarning: Argument 'interpolation' of type int is deprecated since 0.13 and will be removed in 0.15. Please use InterpolationMode enum.\n",
      "  warnings.warn(\n",
      "/opt/conda/lib/python3.10/site-packages/torchvision/transforms/transforms.py:329: UserWarning: Argument 'interpolation' of type int is deprecated since 0.13 and will be removed in 0.15. Please use InterpolationMode enum.\n",
      "  warnings.warn(\n",
      "/opt/conda/lib/python3.10/site-packages/torchvision/transforms/transforms.py:329: UserWarning: Argument 'interpolation' of type int is deprecated since 0.13 and will be removed in 0.15. Please use InterpolationMode enum.\n",
      "  warnings.warn(\n",
      "  4%|▎         | 200/5352 [01:13<29:42,  2.89it/s]"
     ]
    },
    {
     "name": "stdout",
     "output_type": "stream",
     "text": [
      "{'FullBody': {'All': 144.9147491455078, 'UpperStretching': 145.90756225585938, 'Walking': 143.96875, 'LowerStretching': 151.31260681152344, 'Gaming': 145.07235717773438, 'Talking': 115.84680938720703, 'Gesticuling': 118.12884521484375, 'Greeting': 114.0725326538086, 'Reacting': 145.49769592285156, 'Patting': 134.45034790039062}, 'UpperBody': {'All': 127.33305358886719, 'UpperStretching': 138.43556213378906, 'Walking': 112.7004165649414, 'LowerStretching': 105.98270416259766, 'Gaming': 121.31278991699219, 'Talking': 107.49018096923828, 'Gesticuling': 119.37924194335938, 'Greeting': 98.66634368896484, 'Reacting': 130.55352783203125, 'Patting': 116.11308288574219}, 'LowerBody': {'All': 162.49644470214844, 'UpperStretching': 153.3795623779297, 'Walking': 175.23707580566406, 'LowerStretching': 196.6425018310547, 'Gaming': 168.83192443847656, 'Talking': 124.20343780517578, 'Gesticuling': 116.87841033935547, 'Greeting': 129.47874450683594, 'Reacting': 160.4418182373047, 'Patting': 152.78759765625}}\n"
     ]
    },
    {
     "name": "stderr",
     "output_type": "stream",
     "text": [
      "  7%|▋         | 400/5352 [02:22<28:32,  2.89it/s]"
     ]
    },
    {
     "name": "stdout",
     "output_type": "stream",
     "text": [
      "{'FullBody': {'All': 144.0894317626953, 'UpperStretching': 143.94894409179688, 'Walking': 145.60458374023438, 'LowerStretching': 151.1707763671875, 'Gaming': 144.01390075683594, 'Talking': 113.26475524902344, 'Gesticuling': 116.83540344238281, 'Greeting': 120.05435180664062, 'Reacting': 143.9949951171875, 'Patting': 143.6528778076172}, 'UpperBody': {'All': 126.47222900390625, 'UpperStretching': 136.5587921142578, 'Walking': 112.9964599609375, 'LowerStretching': 106.14664459228516, 'Gaming': 122.22952270507812, 'Talking': 105.3506088256836, 'Gesticuling': 117.48657989501953, 'Greeting': 99.1893081665039, 'Reacting': 125.8359375, 'Patting': 125.93926239013672}, 'LowerBody': {'All': 161.70663452148438, 'UpperStretching': 151.33908081054688, 'Walking': 178.21270751953125, 'LowerStretching': 196.19493103027344, 'Gaming': 165.7982940673828, 'Talking': 121.17888641357422, 'Gesticuling': 116.1842041015625, 'Greeting': 140.9193878173828, 'Reacting': 162.15403747558594, 'Patting': 161.3665313720703}}\n"
     ]
    },
    {
     "name": "stderr",
     "output_type": "stream",
     "text": [
      " 11%|█         | 600/5352 [03:31<27:30,  2.88it/s]"
     ]
    },
    {
     "name": "stdout",
     "output_type": "stream",
     "text": [
      "{'FullBody': {'All': 143.65513610839844, 'UpperStretching': 143.53746032714844, 'Walking': 145.2931671142578, 'LowerStretching': 151.51077270507812, 'Gaming': 140.29843139648438, 'Talking': 113.39309692382812, 'Gesticuling': 115.2766342163086, 'Greeting': 118.95284271240234, 'Reacting': 144.00387573242188, 'Patting': 138.43679809570312}, 'UpperBody': {'All': 126.15436553955078, 'UpperStretching': 135.9017791748047, 'Walking': 113.92012023925781, 'LowerStretching': 106.13056945800781, 'Gaming': 120.69618225097656, 'Talking': 104.6300277709961, 'Gesticuling': 115.03739929199219, 'Greeting': 98.4797592163086, 'Reacting': 125.95844268798828, 'Patting': 123.78543090820312}, 'LowerBody': {'All': 161.15591430664062, 'UpperStretching': 151.17312622070312, 'Walking': 176.6662139892578, 'LowerStretching': 196.89097595214844, 'Gaming': 159.90065002441406, 'Talking': 122.15616607666016, 'Gesticuling': 115.515869140625, 'Greeting': 139.42591857910156, 'Reacting': 162.04930114746094, 'Patting': 153.0881805419922}}\n"
     ]
    },
    {
     "name": "stderr",
     "output_type": "stream",
     "text": [
      " 15%|█▍        | 800/5352 [04:41<26:26,  2.87it/s]"
     ]
    },
    {
     "name": "stdout",
     "output_type": "stream",
     "text": [
      "{'FullBody': {'All': 143.5389404296875, 'UpperStretching': 143.5626983642578, 'Walking': 145.64907836914062, 'LowerStretching': 150.73431396484375, 'Gaming': 141.50967407226562, 'Talking': 113.85516357421875, 'Gesticuling': 114.75265502929688, 'Greeting': 119.03390502929688, 'Reacting': 142.8527374267578, 'Patting': 137.40426635742188}, 'UpperBody': {'All': 126.30390930175781, 'UpperStretching': 136.0769805908203, 'Walking': 114.72486877441406, 'LowerStretching': 106.2092514038086, 'Gaming': 122.44331359863281, 'Talking': 104.6171875, 'Gesticuling': 113.96166229248047, 'Greeting': 99.21510314941406, 'Reacting': 124.78985595703125, 'Patting': 123.86486053466797}, 'LowerBody': {'All': 160.77398681640625, 'UpperStretching': 151.04844665527344, 'Walking': 176.57330322265625, 'LowerStretching': 195.2593994140625, 'Gaming': 160.57606506347656, 'Talking': 123.09313201904297, 'Gesticuling': 115.54365539550781, 'Greeting': 138.85269165039062, 'Reacting': 160.9156036376953, 'Patting': 150.94369506835938}}\n"
     ]
    },
    {
     "name": "stderr",
     "output_type": "stream",
     "text": [
      " 19%|█▊        | 1000/5352 [05:50<25:14,  2.87it/s]"
     ]
    },
    {
     "name": "stdout",
     "output_type": "stream",
     "text": [
      "{'FullBody': {'All': 143.1674346923828, 'UpperStretching': 143.33062744140625, 'Walking': 144.71206665039062, 'LowerStretching': 150.53627014160156, 'Gaming': 139.7920379638672, 'Talking': 113.85794830322266, 'Gesticuling': 113.41905975341797, 'Greeting': 120.63796997070312, 'Reacting': 141.46546936035156, 'Patting': 135.5341796875}, 'UpperBody': {'All': 125.77237701416016, 'UpperStretching': 135.61090087890625, 'Walking': 114.39885711669922, 'LowerStretching': 106.25446319580078, 'Gaming': 121.22785949707031, 'Talking': 104.95204162597656, 'Gesticuling': 111.72279357910156, 'Greeting': 100.28530883789062, 'Reacting': 123.39582824707031, 'Patting': 122.3539047241211}, 'LowerBody': {'All': 160.56251525878906, 'UpperStretching': 151.05035400390625, 'Walking': 175.0252227783203, 'LowerStretching': 194.8180694580078, 'Gaming': 158.356201171875, 'Talking': 122.76384735107422, 'Gesticuling': 115.11530303955078, 'Greeting': 140.99061584472656, 'Reacting': 159.53509521484375, 'Patting': 148.7144775390625}}\n"
     ]
    },
    {
     "name": "stderr",
     "output_type": "stream",
     "text": [
      " 22%|██▏       | 1200/5352 [06:59<24:02,  2.88it/s]"
     ]
    },
    {
     "name": "stdout",
     "output_type": "stream",
     "text": [
      "{'FullBody': {'All': 142.65415954589844, 'UpperStretching': 143.10791015625, 'Walking': 144.03981018066406, 'LowerStretching': 149.4580535888672, 'Gaming': 139.12892150878906, 'Talking': 115.26927947998047, 'Gesticuling': 113.13253021240234, 'Greeting': 117.38481140136719, 'Reacting': 140.16273498535156, 'Patting': 132.77392578125}, 'UpperBody': {'All': 125.33425903320312, 'UpperStretching': 135.26205444335938, 'Walking': 114.1241226196289, 'LowerStretching': 105.78112030029297, 'Gaming': 119.30545806884766, 'Talking': 106.09723663330078, 'Gesticuling': 111.63436126708984, 'Greeting': 97.86898803710938, 'Reacting': 122.43319702148438, 'Patting': 121.03248596191406}, 'LowerBody': {'All': 159.97406005859375, 'UpperStretching': 150.95379638671875, 'Walking': 173.95547485351562, 'LowerStretching': 193.13497924804688, 'Gaming': 158.95237731933594, 'Talking': 124.4413070678711, 'Gesticuling': 114.63068389892578, 'Greeting': 136.90061950683594, 'Reacting': 157.8922576904297, 'Patting': 144.51535034179688}}\n"
     ]
    },
    {
     "name": "stderr",
     "output_type": "stream",
     "text": [
      " 26%|██▌       | 1400/5352 [08:09<22:57,  2.87it/s]"
     ]
    },
    {
     "name": "stdout",
     "output_type": "stream",
     "text": [
      "{'FullBody': {'All': 142.5452880859375, 'UpperStretching': 143.06236267089844, 'Walking': 143.70465087890625, 'LowerStretching': 149.3477783203125, 'Gaming': 139.3883819580078, 'Talking': 114.80095672607422, 'Gesticuling': 112.96609497070312, 'Greeting': 118.6733627319336, 'Reacting': 139.71685791015625, 'Patting': 133.0859375}, 'UpperBody': {'All': 125.14263153076172, 'UpperStretching': 135.05523681640625, 'Walking': 114.03563690185547, 'LowerStretching': 105.72150421142578, 'Gaming': 119.35321044921875, 'Talking': 106.0184097290039, 'Gesticuling': 111.30337524414062, 'Greeting': 99.0582046508789, 'Reacting': 121.63185119628906, 'Patting': 121.22901153564453}, 'LowerBody': {'All': 159.9479522705078, 'UpperStretching': 151.0695037841797, 'Walking': 173.3736572265625, 'LowerStretching': 192.9740447998047, 'Gaming': 159.4235382080078, 'Talking': 123.58349609375, 'Gesticuling': 114.6288070678711, 'Greeting': 138.2885284423828, 'Reacting': 157.80186462402344, 'Patting': 144.94287109375}}\n"
     ]
    },
    {
     "name": "stderr",
     "output_type": "stream",
     "text": [
      " 30%|██▉       | 1600/5352 [09:18<21:50,  2.86it/s]"
     ]
    },
    {
     "name": "stdout",
     "output_type": "stream",
     "text": [
      "{'FullBody': {'All': 142.64999389648438, 'UpperStretching': 143.12974548339844, 'Walking': 143.85060119628906, 'LowerStretching': 149.3346710205078, 'Gaming': 139.66900634765625, 'Talking': 115.5205307006836, 'Gesticuling': 112.40961456298828, 'Greeting': 118.47562408447266, 'Reacting': 139.69598388671875, 'Patting': 134.050537109375}, 'UpperBody': {'All': 125.02120208740234, 'UpperStretching': 134.94215393066406, 'Walking': 114.044921875, 'LowerStretching': 105.65119934082031, 'Gaming': 119.1125259399414, 'Talking': 106.64252471923828, 'Gesticuling': 110.57989501953125, 'Greeting': 99.08504486083984, 'Reacting': 121.92668914794922, 'Patting': 121.43914794921875}, 'LowerBody': {'All': 160.27879333496094, 'UpperStretching': 151.31736755371094, 'Walking': 173.6562957763672, 'LowerStretching': 193.01817321777344, 'Gaming': 160.22547912597656, 'Talking': 124.39852905273438, 'Gesticuling': 114.23933410644531, 'Greeting': 137.86622619628906, 'Reacting': 157.46527099609375, 'Patting': 146.6619110107422}}\n"
     ]
    },
    {
     "name": "stderr",
     "output_type": "stream",
     "text": [
      " 34%|███▎      | 1800/5352 [10:27<20:38,  2.87it/s]"
     ]
    },
    {
     "name": "stdout",
     "output_type": "stream",
     "text": [
      "{'FullBody': {'All': 142.72093200683594, 'UpperStretching': 143.21487426757812, 'Walking': 143.95172119140625, 'LowerStretching': 149.53282165527344, 'Gaming': 139.9227294921875, 'Talking': 114.66019439697266, 'Gesticuling': 111.7206802368164, 'Greeting': 119.08495330810547, 'Reacting': 139.71673583984375, 'Patting': 133.86790466308594}, 'UpperBody': {'All': 124.9178695678711, 'UpperStretching': 134.83689880371094, 'Walking': 113.99058532714844, 'LowerStretching': 105.53645324707031, 'Gaming': 118.96261596679688, 'Talking': 105.73416900634766, 'Gesticuling': 109.57550811767578, 'Greeting': 100.052978515625, 'Reacting': 122.05931091308594, 'Patting': 121.6768569946289}, 'LowerBody': {'All': 160.52401733398438, 'UpperStretching': 151.59283447265625, 'Walking': 173.912841796875, 'LowerStretching': 193.52919006347656, 'Gaming': 160.8828582763672, 'Talking': 123.5862045288086, 'Gesticuling': 113.86587524414062, 'Greeting': 138.116943359375, 'Reacting': 157.37416076660156, 'Patting': 146.05894470214844}}\n"
     ]
    },
    {
     "name": "stderr",
     "output_type": "stream",
     "text": [
      " 37%|███▋      | 2000/5352 [11:37<19:30,  2.86it/s]"
     ]
    },
    {
     "name": "stdout",
     "output_type": "stream",
     "text": [
      "{'FullBody': {'All': 142.88343811035156, 'UpperStretching': 143.32778930664062, 'Walking': 143.9650421142578, 'LowerStretching': 149.90216064453125, 'Gaming': 140.02890014648438, 'Talking': 114.49861145019531, 'Gesticuling': 111.57061004638672, 'Greeting': 119.3947982788086, 'Reacting': 140.44601440429688, 'Patting': 135.78575134277344}, 'UpperBody': {'All': 124.97848510742188, 'UpperStretching': 134.8499755859375, 'Walking': 113.85474395751953, 'LowerStretching': 105.76597595214844, 'Gaming': 119.3965072631836, 'Talking': 105.64183807373047, 'Gesticuling': 109.25582885742188, 'Greeting': 100.20330810546875, 'Reacting': 122.66876983642578, 'Patting': 122.44597625732422}, 'LowerBody': {'All': 160.7883758544922, 'UpperStretching': 151.80560302734375, 'Walking': 174.0753631591797, 'LowerStretching': 194.03834533691406, 'Gaming': 160.66127014160156, 'Talking': 123.35540008544922, 'Gesticuling': 113.88540649414062, 'Greeting': 138.58631896972656, 'Reacting': 158.22320556640625, 'Patting': 149.12554931640625}}\n"
     ]
    },
    {
     "name": "stderr",
     "output_type": "stream",
     "text": [
      " 41%|████      | 2200/5352 [12:46<18:23,  2.86it/s]"
     ]
    },
    {
     "name": "stdout",
     "output_type": "stream",
     "text": [
      "{'FullBody': {'All': 142.98529052734375, 'UpperStretching': 143.45672607421875, 'Walking': 144.05531311035156, 'LowerStretching': 150.02658081054688, 'Gaming': 139.68658447265625, 'Talking': 114.21663665771484, 'Gesticuling': 112.02297973632812, 'Greeting': 119.19474792480469, 'Reacting': 140.05198669433594, 'Patting': 135.49029541015625}, 'UpperBody': {'All': 125.01133728027344, 'UpperStretching': 134.85414123535156, 'Walking': 113.95557403564453, 'LowerStretching': 105.76339721679688, 'Gaming': 119.29081726074219, 'Talking': 105.66825866699219, 'Gesticuling': 109.7513656616211, 'Greeting': 100.3520278930664, 'Reacting': 122.64765167236328, 'Patting': 122.38838195800781}, 'LowerBody': {'All': 160.95919799804688, 'UpperStretching': 152.0592803955078, 'Walking': 174.15509033203125, 'LowerStretching': 194.2897491455078, 'Gaming': 160.0823516845703, 'Talking': 122.76502990722656, 'Gesticuling': 114.29460144042969, 'Greeting': 138.0374755859375, 'Reacting': 157.4563446044922, 'Patting': 148.59219360351562}}\n"
     ]
    },
    {
     "name": "stderr",
     "output_type": "stream",
     "text": [
      " 45%|████▍     | 2400/5352 [13:55<17:10,  2.86it/s]"
     ]
    },
    {
     "name": "stdout",
     "output_type": "stream",
     "text": [
      "{'FullBody': {'All': 142.9117431640625, 'UpperStretching': 143.49815368652344, 'Walking': 143.9612579345703, 'LowerStretching': 149.7179412841797, 'Gaming': 139.26055908203125, 'Talking': 114.44493103027344, 'Gesticuling': 112.63227081298828, 'Greeting': 118.46609497070312, 'Reacting': 139.834716796875, 'Patting': 134.442626953125}, 'UpperBody': {'All': 124.9363784790039, 'UpperStretching': 134.8111114501953, 'Walking': 113.87236022949219, 'LowerStretching': 105.54634857177734, 'Gaming': 119.09939575195312, 'Talking': 105.80049133300781, 'Gesticuling': 110.66605377197266, 'Greeting': 99.70884704589844, 'Reacting': 122.8272476196289, 'Patting': 121.32524871826172}, 'LowerBody': {'All': 160.88711547851562, 'UpperStretching': 152.18519592285156, 'Walking': 174.0501708984375, 'LowerStretching': 193.88951110839844, 'Gaming': 159.4217071533203, 'Talking': 123.0893783569336, 'Gesticuling': 114.59848022460938, 'Greeting': 137.2233428955078, 'Reacting': 156.84217834472656, 'Patting': 147.5600128173828}}\n"
     ]
    },
    {
     "name": "stderr",
     "output_type": "stream",
     "text": [
      " 49%|████▊     | 2600/5352 [15:05<16:09,  2.84it/s]"
     ]
    },
    {
     "name": "stdout",
     "output_type": "stream",
     "text": [
      "{'FullBody': {'All': 142.99691772460938, 'UpperStretching': 143.70306396484375, 'Walking': 143.64959716796875, 'LowerStretching': 149.6882781982422, 'Gaming': 139.5033416748047, 'Talking': 114.37923431396484, 'Gesticuling': 112.19779205322266, 'Greeting': 117.72884368896484, 'Reacting': 140.38894653320312, 'Patting': 134.6664581298828}, 'UpperBody': {'All': 124.98308563232422, 'UpperStretching': 134.92544555664062, 'Walking': 113.69998931884766, 'LowerStretching': 105.58296966552734, 'Gaming': 118.93949127197266, 'Talking': 105.6183853149414, 'Gesticuling': 110.04093933105469, 'Greeting': 99.38765716552734, 'Reacting': 123.0036849975586, 'Patting': 121.49636840820312}, 'LowerBody': {'All': 161.01072692871094, 'UpperStretching': 152.48068237304688, 'Walking': 173.59921264648438, 'LowerStretching': 193.79354858398438, 'Gaming': 160.06715393066406, 'Talking': 123.14006805419922, 'Gesticuling': 114.35462951660156, 'Greeting': 136.0700225830078, 'Reacting': 157.77418518066406, 'Patting': 147.83653259277344}}\n"
     ]
    },
    {
     "name": "stderr",
     "output_type": "stream",
     "text": [
      " 52%|█████▏    | 2800/5352 [16:14<14:53,  2.86it/s]"
     ]
    },
    {
     "name": "stdout",
     "output_type": "stream",
     "text": [
      "{'FullBody': {'All': 142.98202514648438, 'UpperStretching': 143.7111053466797, 'Walking': 143.7613067626953, 'LowerStretching': 149.46986389160156, 'Gaming': 140.0333251953125, 'Talking': 114.76000213623047, 'Gesticuling': 112.43744659423828, 'Greeting': 117.94470977783203, 'Reacting': 140.62281799316406, 'Patting': 133.5851287841797}, 'UpperBody': {'All': 125.06488037109375, 'UpperStretching': 135.0069580078125, 'Walking': 113.79376983642578, 'LowerStretching': 105.53255462646484, 'Gaming': 119.5381088256836, 'Talking': 105.95111083984375, 'Gesticuling': 110.40774536132812, 'Greeting': 99.1517333984375, 'Reacting': 123.22166442871094, 'Patting': 120.99851989746094}, 'LowerBody': {'All': 160.89920043945312, 'UpperStretching': 152.4152374267578, 'Walking': 173.72882080078125, 'LowerStretching': 193.4071807861328, 'Gaming': 160.528564453125, 'Talking': 123.56887817382812, 'Gesticuling': 114.46714782714844, 'Greeting': 136.73768615722656, 'Reacting': 158.02395629882812, 'Patting': 146.17172241210938}}\n"
     ]
    },
    {
     "name": "stderr",
     "output_type": "stream",
     "text": [
      " 56%|█████▌    | 3000/5352 [17:23<13:46,  2.84it/s]"
     ]
    },
    {
     "name": "stdout",
     "output_type": "stream",
     "text": [
      "{'FullBody': {'All': 142.96463012695312, 'UpperStretching': 143.65863037109375, 'Walking': 144.1526641845703, 'LowerStretching': 149.44671630859375, 'Gaming': 139.38092041015625, 'Talking': 114.5832290649414, 'Gesticuling': 112.26647186279297, 'Greeting': 118.45818328857422, 'Reacting': 140.6470947265625, 'Patting': 132.94859313964844}, 'UpperBody': {'All': 125.08734130859375, 'UpperStretching': 135.01988220214844, 'Walking': 114.02910614013672, 'LowerStretching': 105.6276626586914, 'Gaming': 119.11643981933594, 'Talking': 105.76919555664062, 'Gesticuling': 110.12299346923828, 'Greeting': 99.55645751953125, 'Reacting': 123.4558334350586, 'Patting': 120.64493560791016}, 'LowerBody': {'All': 160.8419189453125, 'UpperStretching': 152.29736328125, 'Walking': 174.27621459960938, 'LowerStretching': 193.26577758789062, 'Gaming': 159.64541625976562, 'Talking': 123.39727783203125, 'Gesticuling': 114.40994262695312, 'Greeting': 137.3599090576172, 'Reacting': 157.8383331298828, 'Patting': 145.25228881835938}}\n"
     ]
    },
    {
     "name": "stderr",
     "output_type": "stream",
     "text": [
      " 60%|█████▉    | 3200/5352 [18:33<12:36,  2.84it/s]"
     ]
    },
    {
     "name": "stdout",
     "output_type": "stream",
     "text": [
      "{'FullBody': {'All': 143.06390380859375, 'UpperStretching': 143.70306396484375, 'Walking': 144.5083465576172, 'LowerStretching': 149.5153350830078, 'Gaming': 140.1370849609375, 'Talking': 115.1839370727539, 'Gesticuling': 112.54412841796875, 'Greeting': 118.24561309814453, 'Reacting': 140.23521423339844, 'Patting': 132.9132537841797}, 'UpperBody': {'All': 125.2129898071289, 'UpperStretching': 135.11996459960938, 'Walking': 114.14004516601562, 'LowerStretching': 105.69893646240234, 'Gaming': 119.28760528564453, 'Talking': 106.25236511230469, 'Gesticuling': 110.28328704833984, 'Greeting': 99.32880401611328, 'Reacting': 123.2245101928711, 'Patting': 120.87220001220703}, 'LowerBody': {'All': 160.91482543945312, 'UpperStretching': 152.2861328125, 'Walking': 174.8766632080078, 'LowerStretching': 193.3317108154297, 'Gaming': 160.98658752441406, 'Talking': 124.115478515625, 'Gesticuling': 114.80498504638672, 'Greeting': 137.16244506835938, 'Reacting': 157.2459259033203, 'Patting': 144.95433044433594}}\n"
     ]
    },
    {
     "name": "stderr",
     "output_type": "stream",
     "text": [
      " 64%|██████▎   | 3400/5352 [19:42<11:25,  2.85it/s]"
     ]
    },
    {
     "name": "stdout",
     "output_type": "stream",
     "text": [
      "{'FullBody': {'All': 143.0062255859375, 'UpperStretching': 143.64427185058594, 'Walking': 144.57928466796875, 'LowerStretching': 149.3705596923828, 'Gaming': 140.36875915527344, 'Talking': 115.20369720458984, 'Gesticuling': 112.60279846191406, 'Greeting': 118.17349243164062, 'Reacting': 140.182861328125, 'Patting': 132.67344665527344}, 'UpperBody': {'All': 125.18779754638672, 'UpperStretching': 135.09567260742188, 'Walking': 114.20917510986328, 'LowerStretching': 105.64884948730469, 'Gaming': 119.83629608154297, 'Talking': 106.20477294921875, 'Gesticuling': 110.32940673828125, 'Greeting': 99.048095703125, 'Reacting': 123.02217864990234, 'Patting': 120.52975463867188}, 'LowerBody': {'All': 160.82467651367188, 'UpperStretching': 152.19287109375, 'Walking': 174.9493865966797, 'LowerStretching': 193.09225463867188, 'Gaming': 160.90122985839844, 'Talking': 124.2026138305664, 'Gesticuling': 114.87619018554688, 'Greeting': 137.29888916015625, 'Reacting': 157.34353637695312, 'Patting': 144.81710815429688}}\n"
     ]
    },
    {
     "name": "stderr",
     "output_type": "stream",
     "text": [
      " 67%|██████▋   | 3600/5352 [20:51<10:17,  2.84it/s]"
     ]
    },
    {
     "name": "stdout",
     "output_type": "stream",
     "text": [
      "{'FullBody': {'All': 143.0030059814453, 'UpperStretching': 143.6221466064453, 'Walking': 144.56448364257812, 'LowerStretching': 149.322021484375, 'Gaming': 140.58267211914062, 'Talking': 115.46465301513672, 'Gesticuling': 112.60527801513672, 'Greeting': 118.02409362792969, 'Reacting': 139.9052734375, 'Patting': 133.21304321289062}, 'UpperBody': {'All': 125.1595458984375, 'UpperStretching': 135.0421142578125, 'Walking': 114.19132232666016, 'LowerStretching': 105.6941146850586, 'Gaming': 119.71652221679688, 'Talking': 106.30140686035156, 'Gesticuling': 110.4256820678711, 'Greeting': 98.98702239990234, 'Reacting': 122.72389221191406, 'Patting': 120.804931640625}, 'LowerBody': {'All': 160.84645080566406, 'UpperStretching': 152.20216369628906, 'Walking': 174.93760681152344, 'LowerStretching': 192.94992065429688, 'Gaming': 161.44883728027344, 'Talking': 124.62788391113281, 'Gesticuling': 114.78486633300781, 'Greeting': 137.0611572265625, 'Reacting': 157.086669921875, 'Patting': 145.62115478515625}}\n"
     ]
    },
    {
     "name": "stderr",
     "output_type": "stream",
     "text": [
      " 71%|███████   | 3800/5352 [22:01<09:06,  2.84it/s]"
     ]
    },
    {
     "name": "stdout",
     "output_type": "stream",
     "text": [
      "{'FullBody': {'All': 142.982421875, 'UpperStretching': 143.63894653320312, 'Walking': 144.19984436035156, 'LowerStretching': 149.3621826171875, 'Gaming': 140.87124633789062, 'Talking': 115.43759155273438, 'Gesticuling': 112.57103729248047, 'Greeting': 117.47771453857422, 'Reacting': 140.31642150878906, 'Patting': 133.26089477539062}, 'UpperBody': {'All': 125.16450500488281, 'UpperStretching': 135.0331268310547, 'Walking': 114.093017578125, 'LowerStretching': 105.77874755859375, 'Gaming': 119.56305694580078, 'Talking': 106.26870727539062, 'Gesticuling': 110.5253677368164, 'Greeting': 98.42544555664062, 'Reacting': 122.93876647949219, 'Patting': 120.83029174804688}, 'LowerBody': {'All': 160.80032348632812, 'UpperStretching': 152.24476623535156, 'Walking': 174.30667114257812, 'LowerStretching': 192.9456024169922, 'Gaming': 162.179443359375, 'Talking': 124.60645294189453, 'Gesticuling': 114.61671447753906, 'Greeting': 136.5299835205078, 'Reacting': 157.694091796875, 'Patting': 145.69151306152344}}\n"
     ]
    },
    {
     "name": "stderr",
     "output_type": "stream",
     "text": [
      " 75%|███████▍  | 4000/5352 [23:10<07:57,  2.83it/s]"
     ]
    },
    {
     "name": "stdout",
     "output_type": "stream",
     "text": [
      "{'FullBody': {'All': 143.07321166992188, 'UpperStretching': 143.73487854003906, 'Walking': 144.35951232910156, 'LowerStretching': 149.406982421875, 'Gaming': 140.835693359375, 'Talking': 115.5962905883789, 'Gesticuling': 112.58995819091797, 'Greeting': 117.01671600341797, 'Reacting': 140.27403259277344, 'Patting': 133.41885375976562}, 'UpperBody': {'All': 125.17185974121094, 'UpperStretching': 135.08502197265625, 'Walking': 113.99505615234375, 'LowerStretching': 105.74618530273438, 'Gaming': 119.48236846923828, 'Talking': 106.51802825927734, 'Gesticuling': 110.4957504272461, 'Greeting': 98.07471466064453, 'Reacting': 122.84298706054688, 'Patting': 121.2268295288086}, 'LowerBody': {'All': 160.97459411621094, 'UpperStretching': 152.38473510742188, 'Walking': 174.7239532470703, 'LowerStretching': 193.06777954101562, 'Gaming': 162.18905639648438, 'Talking': 124.67455291748047, 'Gesticuling': 114.68418884277344, 'Greeting': 135.95870971679688, 'Reacting': 157.70506286621094, 'Patting': 145.6108856201172}}\n"
     ]
    },
    {
     "name": "stderr",
     "output_type": "stream",
     "text": [
      " 78%|███████▊  | 4200/5352 [24:19<06:46,  2.83it/s]"
     ]
    },
    {
     "name": "stdout",
     "output_type": "stream",
     "text": [
      "{'FullBody': {'All': 143.08645629882812, 'UpperStretching': 143.8065643310547, 'Walking': 144.2185516357422, 'LowerStretching': 149.3779754638672, 'Gaming': 140.5870361328125, 'Talking': 115.5481185913086, 'Gesticuling': 112.84020233154297, 'Greeting': 116.88506317138672, 'Reacting': 140.094970703125, 'Patting': 133.40907287597656}, 'UpperBody': {'All': 125.19007110595703, 'UpperStretching': 135.1646270751953, 'Walking': 114.03433990478516, 'LowerStretching': 105.61016082763672, 'Gaming': 119.6454086303711, 'Talking': 106.3641357421875, 'Gesticuling': 110.82188415527344, 'Greeting': 97.97692108154297, 'Reacting': 122.58968353271484, 'Patting': 121.48674011230469}, 'LowerBody': {'All': 160.98284912109375, 'UpperStretching': 152.44847106933594, 'Walking': 174.4027557373047, 'LowerStretching': 193.14578247070312, 'Gaming': 161.52862548828125, 'Talking': 124.73210906982422, 'Gesticuling': 114.8585433959961, 'Greeting': 135.79318237304688, 'Reacting': 157.60023498535156, 'Patting': 145.33139038085938}}\n"
     ]
    },
    {
     "name": "stderr",
     "output_type": "stream",
     "text": [
      " 82%|████████▏ | 4400/5352 [25:29<05:36,  2.83it/s]"
     ]
    },
    {
     "name": "stdout",
     "output_type": "stream",
     "text": [
      "{'FullBody': {'All': 143.0288848876953, 'UpperStretching': 143.72134399414062, 'Walking': 144.22808837890625, 'LowerStretching': 149.37083435058594, 'Gaming': 140.6027069091797, 'Talking': 115.3973388671875, 'Gesticuling': 112.92154693603516, 'Greeting': 117.15694427490234, 'Reacting': 140.02679443359375, 'Patting': 132.87733459472656}, 'UpperBody': {'All': 125.14917755126953, 'UpperStretching': 135.04901123046875, 'Walking': 114.11005401611328, 'LowerStretching': 105.64739227294922, 'Gaming': 119.46773529052734, 'Talking': 106.24153900146484, 'Gesticuling': 111.01390838623047, 'Greeting': 98.11825561523438, 'Reacting': 122.6953125, 'Patting': 121.26280212402344}, 'LowerBody': {'All': 160.9086151123047, 'UpperStretching': 152.39366149902344, 'Walking': 174.34613037109375, 'LowerStretching': 193.0942840576172, 'Gaming': 161.73770141601562, 'Talking': 124.55314636230469, 'Gesticuling': 114.82917785644531, 'Greeting': 136.19561767578125, 'Reacting': 157.35829162597656, 'Patting': 144.4918670654297}}\n"
     ]
    },
    {
     "name": "stderr",
     "output_type": "stream",
     "text": [
      " 86%|████████▌ | 4600/5352 [26:38<04:25,  2.83it/s]"
     ]
    },
    {
     "name": "stdout",
     "output_type": "stream",
     "text": [
      "{'FullBody': {'All': 143.04344177246094, 'UpperStretching': 143.69223022460938, 'Walking': 144.27879333496094, 'LowerStretching': 149.47586059570312, 'Gaming': 140.63983154296875, 'Talking': 115.7026596069336, 'Gesticuling': 112.95417022705078, 'Greeting': 116.80693817138672, 'Reacting': 140.35902404785156, 'Patting': 132.72232055664062}, 'UpperBody': {'All': 125.1589126586914, 'UpperStretching': 135.0298614501953, 'Walking': 114.17119598388672, 'LowerStretching': 105.75411987304688, 'Gaming': 119.3945083618164, 'Talking': 106.3161392211914, 'Gesticuling': 111.09475708007812, 'Greeting': 97.79495239257812, 'Reacting': 122.70045471191406, 'Patting': 121.1727294921875}, 'LowerBody': {'All': 160.92794799804688, 'UpperStretching': 152.35458374023438, 'Walking': 174.38636779785156, 'LowerStretching': 193.19760131835938, 'Gaming': 161.88514709472656, 'Talking': 125.08917999267578, 'Gesticuling': 114.81359100341797, 'Greeting': 135.81893920898438, 'Reacting': 158.01759338378906, 'Patting': 144.2718963623047}}\n"
     ]
    },
    {
     "name": "stderr",
     "output_type": "stream",
     "text": [
      " 90%|████████▉ | 4800/5352 [27:48<03:15,  2.83it/s]"
     ]
    },
    {
     "name": "stdout",
     "output_type": "stream",
     "text": [
      "{'FullBody': {'All': 143.0822296142578, 'UpperStretching': 143.73731994628906, 'Walking': 144.52578735351562, 'LowerStretching': 149.37916564941406, 'Gaming': 140.6478729248047, 'Talking': 115.71771240234375, 'Gesticuling': 113.28248596191406, 'Greeting': 116.89720916748047, 'Reacting': 140.48507690429688, 'Patting': 132.0414276123047}, 'UpperBody': {'All': 125.2070541381836, 'UpperStretching': 135.07449340820312, 'Walking': 114.27680969238281, 'LowerStretching': 105.73392486572266, 'Gaming': 119.30210876464844, 'Talking': 106.38153076171875, 'Gesticuling': 111.4780044555664, 'Greeting': 97.67500305175781, 'Reacting': 122.87689971923828, 'Patting': 120.63318634033203}, 'LowerBody': {'All': 160.95738220214844, 'UpperStretching': 152.40011596679688, 'Walking': 174.77474975585938, 'LowerStretching': 193.02439880371094, 'Gaming': 161.99366760253906, 'Talking': 125.05390167236328, 'Gesticuling': 115.08695983886719, 'Greeting': 136.11940002441406, 'Reacting': 158.09323120117188, 'Patting': 143.4496612548828}}\n"
     ]
    },
    {
     "name": "stderr",
     "output_type": "stream",
     "text": [
      " 93%|█████████▎| 5000/5352 [28:57<02:04,  2.82it/s]"
     ]
    },
    {
     "name": "stdout",
     "output_type": "stream",
     "text": [
      "{'FullBody': {'All': 143.17019653320312, 'UpperStretching': 143.8112335205078, 'Walking': 144.59352111816406, 'LowerStretching': 149.5373077392578, 'Gaming': 140.48162841796875, 'Talking': 115.94497680664062, 'Gesticuling': 113.27764892578125, 'Greeting': 117.18777465820312, 'Reacting': 140.6385955810547, 'Patting': 132.2081756591797}, 'UpperBody': {'All': 125.22335052490234, 'UpperStretching': 135.11302185058594, 'Walking': 114.2625503540039, 'LowerStretching': 105.67861938476562, 'Gaming': 119.18086242675781, 'Talking': 106.6220932006836, 'Gesticuling': 111.4844970703125, 'Greeting': 97.99320220947266, 'Reacting': 123.11686706542969, 'Patting': 120.6822738647461}, 'LowerBody': {'All': 161.11705017089844, 'UpperStretching': 152.50941467285156, 'Walking': 174.92446899414062, 'LowerStretching': 193.39602661132812, 'Gaming': 161.78240966796875, 'Talking': 125.26789855957031, 'Gesticuling': 115.07080078125, 'Greeting': 136.38233947753906, 'Reacting': 158.16033935546875, 'Patting': 143.7340850830078}}\n"
     ]
    },
    {
     "name": "stderr",
     "output_type": "stream",
     "text": [
      " 97%|█████████▋| 5200/5352 [30:06<00:54,  2.81it/s]"
     ]
    },
    {
     "name": "stdout",
     "output_type": "stream",
     "text": [
      "{'FullBody': {'All': 143.21034240722656, 'UpperStretching': 143.8951873779297, 'Walking': 144.6313018798828, 'LowerStretching': 149.49244689941406, 'Gaming': 140.83261108398438, 'Talking': 115.701904296875, 'Gesticuling': 113.2815170288086, 'Greeting': 117.36085510253906, 'Reacting': 140.3815155029297, 'Patting': 132.19256591796875}, 'UpperBody': {'All': 125.21778869628906, 'UpperStretching': 135.15586853027344, 'Walking': 114.24480438232422, 'LowerStretching': 105.5902099609375, 'Gaming': 119.05313873291016, 'Talking': 106.29904174804688, 'Gesticuling': 111.48543548583984, 'Greeting': 98.12210083007812, 'Reacting': 123.01242065429688, 'Patting': 120.7213134765625}, 'LowerBody': {'All': 161.2029266357422, 'UpperStretching': 152.63450622558594, 'Walking': 175.0177764892578, 'LowerStretching': 193.3946533203125, 'Gaming': 162.61207580566406, 'Talking': 125.10475158691406, 'Gesticuling': 115.07759857177734, 'Greeting': 136.599609375, 'Reacting': 157.7506103515625, 'Patting': 143.66380310058594}}\n"
     ]
    },
    {
     "name": "stderr",
     "output_type": "stream",
     "text": [
      "100%|██████████| 5352/5352 [30:59<00:00,  2.88it/s]\n",
      "\u001b[94m07:24:13 \u001b[92m[INFO]\u001b[94m Main\u001b[0m: Saving evaluation results...\n",
      "\u001b[94m07:24:13 \u001b[92m[INFO]\u001b[94m Main\u001b[0m: Done.\n",
      "\u001b[94m07:24:13 \u001b[92m[INFO]\u001b[94m Main\u001b[0m: Starting demo...\n",
      "  0%|          | 0/5352 [00:00<?, ?it/s]/opt/conda/lib/python3.10/site-packages/torchvision/transforms/transforms.py:329: UserWarning: Argument 'interpolation' of type int is deprecated since 0.13 and will be removed in 0.15. Please use InterpolationMode enum.\n",
      "  warnings.warn(\n",
      "/opt/conda/lib/python3.10/site-packages/torchvision/transforms/transforms.py:329: UserWarning: Argument 'interpolation' of type int is deprecated since 0.13 and will be removed in 0.15. Please use InterpolationMode enum.\n",
      "  warnings.warn(\n",
      "/opt/conda/lib/python3.10/site-packages/torchvision/transforms/transforms.py:329: UserWarning: Argument 'interpolation' of type int is deprecated since 0.13 and will be removed in 0.15. Please use InterpolationMode enum.\n",
      "  warnings.warn(\n",
      "/opt/conda/lib/python3.10/site-packages/torchvision/transforms/transforms.py:329: UserWarning: Argument 'interpolation' of type int is deprecated since 0.13 and will be removed in 0.15. Please use InterpolationMode enum.\n",
      "  warnings.warn(\n",
      "/opt/conda/lib/python3.10/site-packages/torchvision/transforms/transforms.py:329: UserWarning: Argument 'interpolation' of type int is deprecated since 0.13 and will be removed in 0.15. Please use InterpolationMode enum.\n",
      "  warnings.warn(\n",
      "/opt/conda/lib/python3.10/site-packages/torchvision/transforms/transforms.py:329: UserWarning: Argument 'interpolation' of type int is deprecated since 0.13 and will be removed in 0.15. Please use InterpolationMode enum.\n",
      "  warnings.warn(\n",
      "/opt/conda/lib/python3.10/site-packages/torchvision/transforms/transforms.py:329: UserWarning: Argument 'interpolation' of type int is deprecated since 0.13 and will be removed in 0.15. Please use InterpolationMode enum.\n",
      "  warnings.warn(\n",
      "/opt/conda/lib/python3.10/site-packages/torchvision/transforms/transforms.py:329: UserWarning: Argument 'interpolation' of type int is deprecated since 0.13 and will be removed in 0.15. Please use InterpolationMode enum.\n",
      "  warnings.warn(\n",
      "/opt/conda/lib/python3.10/site-packages/torchvision/transforms/transforms.py:329: UserWarning: Argument 'interpolation' of type int is deprecated since 0.13 and will be removed in 0.15. Please use InterpolationMode enum.\n",
      "  warnings.warn(\n",
      "/opt/conda/lib/python3.10/site-packages/torchvision/transforms/transforms.py:329: UserWarning: Argument 'interpolation' of type int is deprecated since 0.13 and will be removed in 0.15. Please use InterpolationMode enum.\n",
      "  warnings.warn(\n",
      "/opt/conda/lib/python3.10/site-packages/torchvision/transforms/transforms.py:329: UserWarning: Argument 'interpolation' of type int is deprecated since 0.13 and will be removed in 0.15. Please use InterpolationMode enum.\n",
      "  warnings.warn(\n",
      "/opt/conda/lib/python3.10/site-packages/torchvision/transforms/transforms.py:329: UserWarning: Argument 'interpolation' of type int is deprecated since 0.13 and will be removed in 0.15. Please use InterpolationMode enum.\n",
      "  warnings.warn(\n",
      "/opt/conda/lib/python3.10/site-packages/torchvision/transforms/transforms.py:329: UserWarning: Argument 'interpolation' of type int is deprecated since 0.13 and will be removed in 0.15. Please use InterpolationMode enum.\n",
      "  warnings.warn(\n",
      "/opt/conda/lib/python3.10/site-packages/torchvision/transforms/transforms.py:329: UserWarning: Argument 'interpolation' of type int is deprecated since 0.13 and will be removed in 0.15. Please use InterpolationMode enum.\n",
      "  warnings.warn(\n",
      "/opt/conda/lib/python3.10/site-packages/torchvision/transforms/transforms.py:329: UserWarning: Argument 'interpolation' of type int is deprecated since 0.13 and will be removed in 0.15. Please use InterpolationMode enum.\n",
      "  warnings.warn(\n",
      "/opt/conda/lib/python3.10/site-packages/torchvision/transforms/transforms.py:329: UserWarning: Argument 'interpolation' of type int is deprecated since 0.13 and will be removed in 0.15. Please use InterpolationMode enum.\n",
      "  warnings.warn(\n",
      "/opt/conda/lib/python3.10/site-packages/torchvision/transforms/transforms.py:329: UserWarning: Argument 'interpolation' of type int is deprecated since 0.13 and will be removed in 0.15. Please use InterpolationMode enum.\n",
      "  warnings.warn(\n",
      "/opt/conda/lib/python3.10/site-packages/torchvision/transforms/transforms.py:329: UserWarning: Argument 'interpolation' of type int is deprecated since 0.13 and will be removed in 0.15. Please use InterpolationMode enum.\n",
      "  warnings.warn(\n",
      "/opt/conda/lib/python3.10/site-packages/torchvision/transforms/transforms.py:329: UserWarning: Argument 'interpolation' of type int is deprecated since 0.13 and will be removed in 0.15. Please use InterpolationMode enum.\n",
      "  warnings.warn(\n",
      "/opt/conda/lib/python3.10/site-packages/torchvision/transforms/transforms.py:329: UserWarning: Argument 'interpolation' of type int is deprecated since 0.13 and will be removed in 0.15. Please use InterpolationMode enum.\n",
      "  warnings.warn(\n",
      "/opt/conda/lib/python3.10/site-packages/torchvision/transforms/transforms.py:329: UserWarning: Argument 'interpolation' of type int is deprecated since 0.13 and will be removed in 0.15. Please use InterpolationMode enum.\n",
      "  warnings.warn(\n",
      "/opt/conda/lib/python3.10/site-packages/torchvision/transforms/transforms.py:329: UserWarning: Argument 'interpolation' of type int is deprecated since 0.13 and will be removed in 0.15. Please use InterpolationMode enum.\n",
      "  warnings.warn(\n",
      "/opt/conda/lib/python3.10/site-packages/torchvision/transforms/transforms.py:329: UserWarning: Argument 'interpolation' of type int is deprecated since 0.13 and will be removed in 0.15. Please use InterpolationMode enum.\n",
      "  warnings.warn(\n",
      "/opt/conda/lib/python3.10/site-packages/torchvision/transforms/transforms.py:329: UserWarning: Argument 'interpolation' of type int is deprecated since 0.13 and will be removed in 0.15. Please use InterpolationMode enum.\n",
      "  warnings.warn(\n",
      "  4%|▎         | 200/5352 [01:13<29:45,  2.89it/s]"
     ]
    },
    {
     "name": "stdout",
     "output_type": "stream",
     "text": [
      "{'FullBody': {'All': 169.4691619873047, 'LowerStretching': 164.0868682861328, 'Reacting': 154.15762329101562, 'UpperStretching': 175.8062744140625, 'Walking': 162.29713439941406, 'Gesticuling': 145.22039794921875, 'Talking': 144.0608673095703, 'Gaming': 153.6742706298828, 'Patting': 163.12646484375, 'Greeting': 138.15542602539062}, 'UpperBody': {'All': 145.48983764648438, 'LowerStretching': 122.17060852050781, 'Reacting': 135.04322814941406, 'UpperStretching': 157.37533569335938, 'Walking': 131.62628173828125, 'Gesticuling': 135.63157653808594, 'Talking': 135.9546356201172, 'Gaming': 128.76483154296875, 'Patting': 140.82516479492188, 'Greeting': 121.612548828125}, 'LowerBody': {'All': 193.44847106933594, 'LowerStretching': 206.00315856933594, 'Reacting': 173.2720184326172, 'UpperStretching': 194.2372589111328, 'Walking': 192.96800231933594, 'Gesticuling': 154.8092041015625, 'Talking': 152.16714477539062, 'Gaming': 178.58370971679688, 'Patting': 185.42774963378906, 'Greeting': 154.69830322265625}}\n"
     ]
    },
    {
     "name": "stderr",
     "output_type": "stream",
     "text": [
      "  7%|▋         | 400/5352 [02:22<28:43,  2.87it/s]"
     ]
    },
    {
     "name": "stdout",
     "output_type": "stream",
     "text": [
      "{'FullBody': {'All': 169.41107177734375, 'LowerStretching': 164.4199676513672, 'Reacting': 157.05613708496094, 'UpperStretching': 175.55931091308594, 'Walking': 161.4142303466797, 'Gesticuling': 140.7318878173828, 'Talking': 144.8948516845703, 'Gaming': 154.34910583496094, 'Patting': 164.7274627685547, 'Greeting': 146.1312255859375}, 'UpperBody': {'All': 145.08184814453125, 'LowerStretching': 121.63941192626953, 'Reacting': 137.36570739746094, 'UpperStretching': 156.8345184326172, 'Walking': 130.4208526611328, 'Gesticuling': 132.12521362304688, 'Talking': 132.2364959716797, 'Gaming': 129.13385009765625, 'Patting': 138.45826721191406, 'Greeting': 133.09786987304688}, 'LowerBody': {'All': 193.7403106689453, 'LowerStretching': 207.20053100585938, 'Reacting': 176.74658203125, 'UpperStretching': 194.28414916992188, 'Walking': 192.40757751464844, 'Gesticuling': 149.3385467529297, 'Talking': 157.55322265625, 'Gaming': 179.5643310546875, 'Patting': 190.99664306640625, 'Greeting': 159.16458129882812}}\n"
     ]
    },
    {
     "name": "stderr",
     "output_type": "stream",
     "text": [
      " 11%|█         | 600/5352 [03:31<27:31,  2.88it/s]"
     ]
    },
    {
     "name": "stdout",
     "output_type": "stream",
     "text": [
      "{'FullBody': {'All': 168.5924530029297, 'LowerStretching': 164.8789825439453, 'Reacting': 157.312744140625, 'UpperStretching': 174.9506378173828, 'Walking': 159.4890594482422, 'Gesticuling': 138.19908142089844, 'Talking': 144.02630615234375, 'Gaming': 154.87759399414062, 'Patting': 159.06813049316406, 'Greeting': 140.80955505371094}, 'UpperBody': {'All': 144.48912048339844, 'LowerStretching': 121.29779815673828, 'Reacting': 137.67591857910156, 'UpperStretching': 156.46559143066406, 'Walking': 130.0743865966797, 'Gesticuling': 129.32814025878906, 'Talking': 130.6710205078125, 'Gaming': 127.46761322021484, 'Patting': 136.3758087158203, 'Greeting': 131.7490997314453}, 'LowerBody': {'All': 192.6957244873047, 'LowerStretching': 208.4601593017578, 'Reacting': 176.94960021972656, 'UpperStretching': 193.43568420410156, 'Walking': 188.90374755859375, 'Gesticuling': 147.0700225830078, 'Talking': 157.38162231445312, 'Gaming': 182.28758239746094, 'Patting': 181.76043701171875, 'Greeting': 149.87002563476562}}\n"
     ]
    },
    {
     "name": "stderr",
     "output_type": "stream",
     "text": [
      " 15%|█▍        | 800/5352 [04:41<26:23,  2.87it/s]"
     ]
    },
    {
     "name": "stdout",
     "output_type": "stream",
     "text": [
      "{'FullBody': {'All': 168.59117126464844, 'LowerStretching': 164.6660919189453, 'Reacting': 156.87478637695312, 'UpperStretching': 175.28189086914062, 'Walking': 159.16595458984375, 'Gesticuling': 137.04417419433594, 'Talking': 144.20433044433594, 'Gaming': 154.11599731445312, 'Patting': 157.5247802734375, 'Greeting': 140.67811584472656}, 'UpperBody': {'All': 144.2387237548828, 'LowerStretching': 121.01249694824219, 'Reacting': 137.67153930664062, 'UpperStretching': 156.4772491455078, 'Walking': 129.3985137939453, 'Gesticuling': 128.82167053222656, 'Talking': 131.19435119628906, 'Gaming': 126.91197204589844, 'Patting': 136.03321838378906, 'Greeting': 132.16830444335938}, 'LowerBody': {'All': 192.94358825683594, 'LowerStretching': 208.3196563720703, 'Reacting': 176.07801818847656, 'UpperStretching': 194.08653259277344, 'Walking': 188.93338012695312, 'Gesticuling': 145.2666778564453, 'Talking': 157.21432495117188, 'Gaming': 181.32000732421875, 'Patting': 179.01637268066406, 'Greeting': 149.1879119873047}}\n"
     ]
    },
    {
     "name": "stderr",
     "output_type": "stream",
     "text": [
      " 19%|█▊        | 1000/5352 [05:50<25:15,  2.87it/s]"
     ]
    },
    {
     "name": "stdout",
     "output_type": "stream",
     "text": [
      "{'FullBody': {'All': 168.56732177734375, 'LowerStretching': 164.82122802734375, 'Reacting': 155.9159698486328, 'UpperStretching': 175.21726989746094, 'Walking': 159.63572692871094, 'Gesticuling': 135.78065490722656, 'Talking': 145.3582763671875, 'Gaming': 154.9223175048828, 'Patting': 155.1375274658203, 'Greeting': 141.76107788085938}, 'UpperBody': {'All': 144.2889404296875, 'LowerStretching': 121.21076202392578, 'Reacting': 137.2500457763672, 'UpperStretching': 156.48541259765625, 'Walking': 129.85482788085938, 'Gesticuling': 128.5498809814453, 'Talking': 131.2283477783203, 'Gaming': 127.54806518554688, 'Patting': 133.9982147216797, 'Greeting': 131.57762145996094}, 'LowerBody': {'All': 192.84568786621094, 'LowerStretching': 208.43170166015625, 'Reacting': 174.58189392089844, 'UpperStretching': 193.9491424560547, 'Walking': 189.4166259765625, 'Gesticuling': 143.0114288330078, 'Talking': 159.4882049560547, 'Gaming': 182.29661560058594, 'Patting': 176.27684020996094, 'Greeting': 151.9445037841797}}\n"
     ]
    },
    {
     "name": "stderr",
     "output_type": "stream",
     "text": [
      " 22%|██▏       | 1200/5352 [06:59<24:07,  2.87it/s]"
     ]
    },
    {
     "name": "stdout",
     "output_type": "stream",
     "text": [
      "{'FullBody': {'All': 168.30238342285156, 'LowerStretching': 164.45315551757812, 'Reacting': 154.5968017578125, 'UpperStretching': 174.98191833496094, 'Walking': 159.6174774169922, 'Gesticuling': 135.94692993164062, 'Talking': 145.1961669921875, 'Gaming': 154.5428009033203, 'Patting': 154.5919952392578, 'Greeting': 142.66200256347656}, 'UpperBody': {'All': 144.1554718017578, 'LowerStretching': 120.72928619384766, 'Reacting': 136.07090759277344, 'UpperStretching': 156.41700744628906, 'Walking': 129.66806030273438, 'Gesticuling': 128.64637756347656, 'Talking': 131.03614807128906, 'Gaming': 128.89906311035156, 'Patting': 133.0872802734375, 'Greeting': 131.76214599609375}, 'LowerBody': {'All': 192.4492950439453, 'LowerStretching': 208.1770477294922, 'Reacting': 173.12269592285156, 'UpperStretching': 193.5468292236328, 'Walking': 189.56690979003906, 'Gesticuling': 143.24746704101562, 'Talking': 159.35621643066406, 'Gaming': 180.18653869628906, 'Patting': 176.09671020507812, 'Greeting': 153.56187438964844}}\n"
     ]
    },
    {
     "name": "stderr",
     "output_type": "stream",
     "text": [
      " 26%|██▌       | 1400/5352 [08:09<22:56,  2.87it/s]"
     ]
    },
    {
     "name": "stdout",
     "output_type": "stream",
     "text": [
      "{'FullBody': {'All': 168.52011108398438, 'LowerStretching': 164.31668090820312, 'Reacting': 155.35963439941406, 'UpperStretching': 175.30906677246094, 'Walking': 159.68003845214844, 'Gesticuling': 136.26803588867188, 'Talking': 144.715576171875, 'Gaming': 155.0766143798828, 'Patting': 156.04286193847656, 'Greeting': 144.0084991455078}, 'UpperBody': {'All': 144.3062744140625, 'LowerStretching': 120.70620727539062, 'Reacting': 136.77027893066406, 'UpperStretching': 156.61180114746094, 'Walking': 129.6893768310547, 'Gesticuling': 129.20620727539062, 'Talking': 130.57687377929688, 'Gaming': 130.1642608642578, 'Patting': 134.57948303222656, 'Greeting': 132.54434204101562}, 'LowerBody': {'All': 192.73394775390625, 'LowerStretching': 207.9272003173828, 'Reacting': 173.948974609375, 'UpperStretching': 194.00634765625, 'Walking': 189.67068481445312, 'Gesticuling': 143.32989501953125, 'Talking': 158.85426330566406, 'Gaming': 179.98898315429688, 'Patting': 177.50621032714844, 'Greeting': 155.47267150878906}}\n"
     ]
    },
    {
     "name": "stderr",
     "output_type": "stream",
     "text": [
      " 30%|██▉       | 1600/5352 [09:18<21:51,  2.86it/s]"
     ]
    },
    {
     "name": "stdout",
     "output_type": "stream",
     "text": [
      "{'FullBody': {'All': 168.52081298828125, 'LowerStretching': 164.2422332763672, 'Reacting': 155.66477966308594, 'UpperStretching': 175.23306274414062, 'Walking': 159.8531494140625, 'Gesticuling': 135.66941833496094, 'Talking': 144.81129455566406, 'Gaming': 155.3762664794922, 'Patting': 157.08908081054688, 'Greeting': 145.3522491455078}, 'UpperBody': {'All': 144.42910766601562, 'LowerStretching': 120.62833404541016, 'Reacting': 137.29893493652344, 'UpperStretching': 156.71229553222656, 'Walking': 129.97438049316406, 'Gesticuling': 128.06930541992188, 'Talking': 130.58071899414062, 'Gaming': 129.59735107421875, 'Patting': 135.01365661621094, 'Greeting': 133.7500457763672}, 'LowerBody': {'All': 192.6125030517578, 'LowerStretching': 207.85610961914062, 'Reacting': 174.0306396484375, 'UpperStretching': 193.75381469726562, 'Walking': 189.73191833496094, 'Gesticuling': 143.26954650878906, 'Talking': 159.0418701171875, 'Gaming': 181.15513610839844, 'Patting': 179.16448974609375, 'Greeting': 156.95443725585938}}\n"
     ]
    },
    {
     "name": "stderr",
     "output_type": "stream",
     "text": [
      " 34%|███▎      | 1800/5352 [10:27<20:40,  2.86it/s]"
     ]
    },
    {
     "name": "stdout",
     "output_type": "stream",
     "text": [
      "{'FullBody': {'All': 168.6781463623047, 'LowerStretching': 164.69558715820312, 'Reacting': 155.09852600097656, 'UpperStretching': 175.41549682617188, 'Walking': 160.06092834472656, 'Gesticuling': 135.84991455078125, 'Talking': 144.542236328125, 'Gaming': 154.76136779785156, 'Patting': 156.23468017578125, 'Greeting': 144.89459228515625}, 'UpperBody': {'All': 144.58238220214844, 'LowerStretching': 120.78650665283203, 'Reacting': 136.90599060058594, 'UpperStretching': 156.9981231689453, 'Walking': 130.07553100585938, 'Gesticuling': 128.04579162597656, 'Talking': 130.43385314941406, 'Gaming': 128.93768310546875, 'Patting': 134.92005920410156, 'Greeting': 133.29798889160156}, 'LowerBody': {'All': 192.77391052246094, 'LowerStretching': 208.60464477539062, 'Reacting': 173.2910614013672, 'UpperStretching': 193.83287048339844, 'Walking': 190.0463104248047, 'Gesticuling': 143.654052734375, 'Talking': 158.65060424804688, 'Gaming': 180.5850372314453, 'Patting': 177.54930114746094, 'Greeting': 156.4911651611328}}\n"
     ]
    },
    {
     "name": "stderr",
     "output_type": "stream",
     "text": [
      " 37%|███▋      | 2000/5352 [11:37<19:30,  2.86it/s]"
     ]
    },
    {
     "name": "stdout",
     "output_type": "stream",
     "text": [
      "{'FullBody': {'All': 168.58583068847656, 'LowerStretching': 164.59027099609375, 'Reacting': 156.35513305664062, 'UpperStretching': 175.25582885742188, 'Walking': 159.70660400390625, 'Gesticuling': 136.19125366210938, 'Talking': 145.01084899902344, 'Gaming': 155.0987548828125, 'Patting': 155.9874267578125, 'Greeting': 145.1129608154297}, 'UpperBody': {'All': 144.50714111328125, 'LowerStretching': 120.77740478515625, 'Reacting': 138.13047790527344, 'UpperStretching': 156.76181030273438, 'Walking': 129.76438903808594, 'Gesticuling': 128.1002960205078, 'Talking': 131.22506713867188, 'Gaming': 128.46823120117188, 'Patting': 135.54937744140625, 'Greeting': 133.93649291992188}, 'LowerBody': {'All': 192.6645050048828, 'LowerStretching': 208.40310668945312, 'Reacting': 174.57980346679688, 'UpperStretching': 193.74984741210938, 'Walking': 189.64881896972656, 'Gesticuling': 144.28221130371094, 'Talking': 158.79660034179688, 'Gaming': 181.7292938232422, 'Patting': 176.4254913330078, 'Greeting': 156.28944396972656}}\n"
     ]
    },
    {
     "name": "stderr",
     "output_type": "stream",
     "text": [
      " 41%|████      | 2200/5352 [12:46<18:21,  2.86it/s]"
     ]
    },
    {
     "name": "stdout",
     "output_type": "stream",
     "text": [
      "{'FullBody': {'All': 168.68861389160156, 'LowerStretching': 164.97605895996094, 'Reacting': 155.97926330566406, 'UpperStretching': 175.3092498779297, 'Walking': 159.96145629882812, 'Gesticuling': 136.72914123535156, 'Talking': 145.02427673339844, 'Gaming': 154.82861328125, 'Patting': 155.45594787597656, 'Greeting': 145.4395294189453}, 'UpperBody': {'All': 144.55767822265625, 'LowerStretching': 120.98355102539062, 'Reacting': 137.83154296875, 'UpperStretching': 156.83154296875, 'Walking': 129.78164672851562, 'Gesticuling': 128.6009063720703, 'Talking': 131.0181884765625, 'Gaming': 127.94107055664062, 'Patting': 135.29092407226562, 'Greeting': 134.25013732910156}, 'LowerBody': {'All': 192.81951904296875, 'LowerStretching': 208.9685516357422, 'Reacting': 174.126953125, 'UpperStretching': 193.78695678710938, 'Walking': 190.14126586914062, 'Gesticuling': 144.85740661621094, 'Talking': 159.0303497314453, 'Gaming': 181.71612548828125, 'Patting': 175.62095642089844, 'Greeting': 156.62893676757812}}\n"
     ]
    },
    {
     "name": "stderr",
     "output_type": "stream",
     "text": [
      " 45%|████▍     | 2400/5352 [13:55<17:11,  2.86it/s]"
     ]
    },
    {
     "name": "stdout",
     "output_type": "stream",
     "text": [
      "{'FullBody': {'All': 168.5649871826172, 'LowerStretching': 164.5613555908203, 'Reacting': 155.37379455566406, 'UpperStretching': 175.33018493652344, 'Walking': 159.7416229248047, 'Gesticuling': 136.52828979492188, 'Talking': 144.87298583984375, 'Gaming': 155.29164123535156, 'Patting': 154.59580993652344, 'Greeting': 145.5740509033203}, 'UpperBody': {'All': 144.5692901611328, 'LowerStretching': 120.73567962646484, 'Reacting': 137.3385467529297, 'UpperStretching': 156.9663543701172, 'Walking': 129.8658905029297, 'Gesticuling': 128.59141540527344, 'Talking': 131.0029754638672, 'Gaming': 127.7329330444336, 'Patting': 135.22097778320312, 'Greeting': 134.17886352539062}, 'LowerBody': {'All': 192.56065368652344, 'LowerStretching': 208.38706970214844, 'Reacting': 173.4090118408203, 'UpperStretching': 193.69400024414062, 'Walking': 189.6173553466797, 'Gesticuling': 144.4651641845703, 'Talking': 158.74298095703125, 'Gaming': 182.85032653808594, 'Patting': 173.97064208984375, 'Greeting': 156.96925354003906}}\n"
     ]
    },
    {
     "name": "stderr",
     "output_type": "stream",
     "text": [
      " 49%|████▊     | 2600/5352 [15:05<16:03,  2.86it/s]"
     ]
    },
    {
     "name": "stdout",
     "output_type": "stream",
     "text": [
      "{'FullBody': {'All': 168.52908325195312, 'LowerStretching': 164.61126708984375, 'Reacting': 155.01593017578125, 'UpperStretching': 175.22021484375, 'Walking': 159.8312530517578, 'Gesticuling': 136.710205078125, 'Talking': 144.6356658935547, 'Gaming': 155.86196899414062, 'Patting': 154.5264434814453, 'Greeting': 145.2683868408203}, 'UpperBody': {'All': 144.54249572753906, 'LowerStretching': 120.67662048339844, 'Reacting': 137.44261169433594, 'UpperStretching': 156.9184112548828, 'Walking': 129.82339477539062, 'Gesticuling': 128.66969299316406, 'Talking': 130.68460083007812, 'Gaming': 128.15748596191406, 'Patting': 134.94554138183594, 'Greeting': 134.24716186523438}, 'LowerBody': {'All': 192.5156707763672, 'LowerStretching': 208.54591369628906, 'Reacting': 172.5892791748047, 'UpperStretching': 193.5220184326172, 'Walking': 189.83912658691406, 'Gesticuling': 144.75070190429688, 'Talking': 158.58673095703125, 'Gaming': 183.56642150878906, 'Patting': 174.1073455810547, 'Greeting': 156.2895965576172}}\n"
     ]
    },
    {
     "name": "stderr",
     "output_type": "stream",
     "text": [
      " 52%|█████▏    | 2800/5352 [16:14<14:55,  2.85it/s]"
     ]
    },
    {
     "name": "stdout",
     "output_type": "stream",
     "text": [
      "{'FullBody': {'All': 168.57980346679688, 'LowerStretching': 164.59133911132812, 'Reacting': 154.56790161132812, 'UpperStretching': 175.32949829101562, 'Walking': 159.69544982910156, 'Gesticuling': 136.5370635986328, 'Talking': 144.9110565185547, 'Gaming': 155.87611389160156, 'Patting': 154.7589111328125, 'Greeting': 144.87185668945312}, 'UpperBody': {'All': 144.6239776611328, 'LowerStretching': 120.67511749267578, 'Reacting': 137.32546997070312, 'UpperStretching': 156.9991912841797, 'Walking': 129.8008270263672, 'Gesticuling': 128.9488525390625, 'Talking': 131.00741577148438, 'Gaming': 128.0430145263672, 'Patting': 135.1747589111328, 'Greeting': 133.65895080566406}, 'LowerBody': {'All': 192.53564453125, 'LowerStretching': 208.50755310058594, 'Reacting': 171.8103485107422, 'UpperStretching': 193.6597900390625, 'Walking': 189.590087890625, 'Gesticuling': 144.1252899169922, 'Talking': 158.81471252441406, 'Gaming': 183.7091827392578, 'Patting': 174.3430633544922, 'Greeting': 156.08477783203125}}\n"
     ]
    },
    {
     "name": "stderr",
     "output_type": "stream",
     "text": [
      " 56%|█████▌    | 3000/5352 [17:23<13:45,  2.85it/s]"
     ]
    },
    {
     "name": "stdout",
     "output_type": "stream",
     "text": [
      "{'FullBody': {'All': 168.5749053955078, 'LowerStretching': 164.48509216308594, 'Reacting': 154.97645568847656, 'UpperStretching': 175.30540466308594, 'Walking': 159.7879180908203, 'Gesticuling': 136.6643524169922, 'Talking': 144.5191650390625, 'Gaming': 156.22642517089844, 'Patting': 154.82742309570312, 'Greeting': 144.42453002929688}, 'UpperBody': {'All': 144.60833740234375, 'LowerStretching': 120.59893035888672, 'Reacting': 137.84457397460938, 'UpperStretching': 156.97103881835938, 'Walking': 129.82012939453125, 'Gesticuling': 129.19735717773438, 'Talking': 131.0877685546875, 'Gaming': 128.39373779296875, 'Patting': 135.11764526367188, 'Greeting': 133.6180419921875}, 'LowerBody': {'All': 192.5414581298828, 'LowerStretching': 208.37123107910156, 'Reacting': 172.1083526611328, 'UpperStretching': 193.63978576660156, 'Walking': 189.75570678710938, 'Gesticuling': 144.13136291503906, 'Talking': 157.9505615234375, 'Gaming': 184.05911254882812, 'Patting': 174.53720092773438, 'Greeting': 155.2310333251953}}\n"
     ]
    },
    {
     "name": "stderr",
     "output_type": "stream",
     "text": [
      " 60%|█████▉    | 3200/5352 [18:33<12:36,  2.85it/s]"
     ]
    },
    {
     "name": "stdout",
     "output_type": "stream",
     "text": [
      "{'FullBody': {'All': 168.55601501464844, 'LowerStretching': 164.31765747070312, 'Reacting': 154.4164276123047, 'UpperStretching': 175.29928588867188, 'Walking': 159.89642333984375, 'Gesticuling': 136.73214721679688, 'Talking': 144.45082092285156, 'Gaming': 156.4689483642578, 'Patting': 154.7594757080078, 'Greeting': 144.855224609375}, 'UpperBody': {'All': 144.60330200195312, 'LowerStretching': 120.56060028076172, 'Reacting': 137.5403594970703, 'UpperStretching': 156.97406005859375, 'Walking': 129.76739501953125, 'Gesticuling': 129.54212951660156, 'Talking': 131.177490234375, 'Gaming': 128.61773681640625, 'Patting': 134.748291015625, 'Greeting': 133.73568725585938}, 'LowerBody': {'All': 192.50872802734375, 'LowerStretching': 208.07473754882812, 'Reacting': 171.29249572753906, 'UpperStretching': 193.62451171875, 'Walking': 190.02548217773438, 'Gesticuling': 143.92218017578125, 'Talking': 157.72413635253906, 'Gaming': 184.3201141357422, 'Patting': 174.77064514160156, 'Greeting': 155.97474670410156}}\n"
     ]
    },
    {
     "name": "stderr",
     "output_type": "stream",
     "text": [
      " 64%|██████▎   | 3400/5352 [19:42<11:25,  2.85it/s]"
     ]
    },
    {
     "name": "stdout",
     "output_type": "stream",
     "text": [
      "{'FullBody': {'All': 168.5853271484375, 'LowerStretching': 164.18301391601562, 'Reacting': 154.2190399169922, 'UpperStretching': 175.4442138671875, 'Walking': 159.88485717773438, 'Gesticuling': 136.3177490234375, 'Talking': 144.4666290283203, 'Gaming': 156.59083557128906, 'Patting': 154.80299377441406, 'Greeting': 145.7495880126953}, 'UpperBody': {'All': 144.6072235107422, 'LowerStretching': 120.61116790771484, 'Reacting': 137.4932861328125, 'UpperStretching': 157.04794311523438, 'Walking': 129.7456817626953, 'Gesticuling': 129.08111572265625, 'Talking': 131.14064025878906, 'Gaming': 128.62579345703125, 'Patting': 134.66998291015625, 'Greeting': 134.01910400390625}, 'LowerBody': {'All': 192.5634307861328, 'LowerStretching': 207.75486755371094, 'Reacting': 170.9447784423828, 'UpperStretching': 193.8404998779297, 'Walking': 190.02401733398438, 'Gesticuling': 143.55438232421875, 'Talking': 157.7926025390625, 'Gaming': 184.55589294433594, 'Patting': 174.93601989746094, 'Greeting': 157.4800567626953}}\n"
     ]
    },
    {
     "name": "stderr",
     "output_type": "stream",
     "text": [
      " 67%|██████▋   | 3600/5352 [20:52<10:16,  2.84it/s]"
     ]
    },
    {
     "name": "stdout",
     "output_type": "stream",
     "text": [
      "{'FullBody': {'All': 168.61102294921875, 'LowerStretching': 164.16896057128906, 'Reacting': 154.31607055664062, 'UpperStretching': 175.52195739746094, 'Walking': 159.81558227539062, 'Gesticuling': 136.4148712158203, 'Talking': 144.3834686279297, 'Gaming': 156.4221954345703, 'Patting': 154.3234100341797, 'Greeting': 145.25628662109375}, 'UpperBody': {'All': 144.5398406982422, 'LowerStretching': 120.53180694580078, 'Reacting': 137.3739471435547, 'UpperStretching': 156.97377014160156, 'Walking': 129.71627807617188, 'Gesticuling': 129.26519775390625, 'Talking': 131.0977783203125, 'Gaming': 128.5907440185547, 'Patting': 134.20582580566406, 'Greeting': 133.85035705566406}, 'LowerBody': {'All': 192.68218994140625, 'LowerStretching': 207.80612182617188, 'Reacting': 171.2581787109375, 'UpperStretching': 194.0701141357422, 'Walking': 189.91490173339844, 'Gesticuling': 143.5645294189453, 'Talking': 157.66915893554688, 'Gaming': 184.253662109375, 'Patting': 174.44097900390625, 'Greeting': 156.66220092773438}}\n"
     ]
    },
    {
     "name": "stderr",
     "output_type": "stream",
     "text": [
      " 71%|███████   | 3800/5352 [22:01<09:06,  2.84it/s]"
     ]
    },
    {
     "name": "stdout",
     "output_type": "stream",
     "text": [
      "{'FullBody': {'All': 168.68124389648438, 'LowerStretching': 164.2823486328125, 'Reacting': 153.99380493164062, 'UpperStretching': 175.6256103515625, 'Walking': 159.73155212402344, 'Gesticuling': 136.32791137695312, 'Talking': 144.53065490722656, 'Gaming': 156.6659393310547, 'Patting': 154.2689971923828, 'Greeting': 145.25576782226562}, 'UpperBody': {'All': 144.52870178222656, 'LowerStretching': 120.51914978027344, 'Reacting': 137.0679473876953, 'UpperStretching': 156.9765167236328, 'Walking': 129.6421661376953, 'Gesticuling': 129.20289611816406, 'Talking': 131.2281036376953, 'Gaming': 128.89385986328125, 'Patting': 134.15020751953125, 'Greeting': 133.66392517089844}, 'LowerBody': {'All': 192.8337860107422, 'LowerStretching': 208.0455780029297, 'Reacting': 170.91966247558594, 'UpperStretching': 194.27471923828125, 'Walking': 189.8209228515625, 'Gesticuling': 143.45294189453125, 'Talking': 157.83322143554688, 'Gaming': 184.43801879882812, 'Patting': 174.38778686523438, 'Greeting': 156.84756469726562}}\n"
     ]
    },
    {
     "name": "stderr",
     "output_type": "stream",
     "text": [
      " 75%|███████▍  | 4000/5352 [23:10<07:57,  2.83it/s]"
     ]
    },
    {
     "name": "stdout",
     "output_type": "stream",
     "text": [
      "{'FullBody': {'All': 168.59275817871094, 'LowerStretching': 164.3145751953125, 'Reacting': 153.86717224121094, 'UpperStretching': 175.487060546875, 'Walking': 159.7748260498047, 'Gesticuling': 136.61880493164062, 'Talking': 144.217041015625, 'Gaming': 156.615234375, 'Patting': 154.0320587158203, 'Greeting': 145.13706970214844}, 'UpperBody': {'All': 144.494140625, 'LowerStretching': 120.63593292236328, 'Reacting': 136.9385986328125, 'UpperStretching': 156.92080688476562, 'Walking': 129.6979522705078, 'Gesticuling': 129.2978973388672, 'Talking': 130.97434997558594, 'Gaming': 129.15928649902344, 'Patting': 134.13294982910156, 'Greeting': 133.43905639648438}, 'LowerBody': {'All': 192.69139099121094, 'LowerStretching': 207.99322509765625, 'Reacting': 170.79576110839844, 'UpperStretching': 194.05332946777344, 'Walking': 189.85171508789062, 'Gesticuling': 143.93971252441406, 'Talking': 157.4597625732422, 'Gaming': 184.07118225097656, 'Patting': 173.93118286132812, 'Greeting': 156.83505249023438}}\n"
     ]
    },
    {
     "name": "stderr",
     "output_type": "stream",
     "text": [
      " 78%|███████▊  | 4200/5352 [24:20<06:47,  2.83it/s]"
     ]
    },
    {
     "name": "stdout",
     "output_type": "stream",
     "text": [
      "{'FullBody': {'All': 168.62411499023438, 'LowerStretching': 164.29159545898438, 'Reacting': 154.2856903076172, 'UpperStretching': 175.5144805908203, 'Walking': 159.903564453125, 'Gesticuling': 136.4036407470703, 'Talking': 143.95822143554688, 'Gaming': 156.48927307128906, 'Patting': 154.2801055908203, 'Greeting': 145.091552734375}, 'UpperBody': {'All': 144.5526123046875, 'LowerStretching': 120.6323471069336, 'Reacting': 137.22755432128906, 'UpperStretching': 156.9838104248047, 'Walking': 129.69979858398438, 'Gesticuling': 129.24136352539062, 'Talking': 130.85549926757812, 'Gaming': 129.44381713867188, 'Patting': 134.22325134277344, 'Greeting': 133.50506591796875}, 'LowerBody': {'All': 192.69561767578125, 'LowerStretching': 207.9508819580078, 'Reacting': 171.3438262939453, 'UpperStretching': 194.04515075683594, 'Walking': 190.10733032226562, 'Gesticuling': 143.56593322753906, 'Talking': 157.06094360351562, 'Gaming': 183.53475952148438, 'Patting': 174.3369903564453, 'Greeting': 156.67800903320312}}\n"
     ]
    },
    {
     "name": "stderr",
     "output_type": "stream",
     "text": [
      " 82%|████████▏ | 4400/5352 [25:29<05:35,  2.84it/s]"
     ]
    },
    {
     "name": "stdout",
     "output_type": "stream",
     "text": [
      "{'FullBody': {'All': 168.6167449951172, 'LowerStretching': 164.2976531982422, 'Reacting': 154.04074096679688, 'UpperStretching': 175.52040100097656, 'Walking': 159.91500854492188, 'Gesticuling': 136.38404846191406, 'Talking': 143.6717529296875, 'Gaming': 156.6863555908203, 'Patting': 154.0791473388672, 'Greeting': 145.1986541748047}, 'UpperBody': {'All': 144.52769470214844, 'LowerStretching': 120.6403579711914, 'Reacting': 136.90536499023438, 'UpperStretching': 156.95794677734375, 'Walking': 129.6986083984375, 'Gesticuling': 129.17437744140625, 'Talking': 130.62811279296875, 'Gaming': 129.66477966308594, 'Patting': 134.1449737548828, 'Greeting': 133.60208129882812}, 'LowerBody': {'All': 192.70578002929688, 'LowerStretching': 207.95492553710938, 'Reacting': 171.1761016845703, 'UpperStretching': 194.08282470703125, 'Walking': 190.13143920898438, 'Gesticuling': 143.59371948242188, 'Talking': 156.71539306640625, 'Gaming': 183.70790100097656, 'Patting': 174.01332092285156, 'Greeting': 156.79527282714844}}\n"
     ]
    },
    {
     "name": "stderr",
     "output_type": "stream",
     "text": [
      " 86%|████████▌ | 4600/5352 [26:38<04:25,  2.83it/s]"
     ]
    },
    {
     "name": "stdout",
     "output_type": "stream",
     "text": [
      "{'FullBody': {'All': 168.5818328857422, 'LowerStretching': 164.2646484375, 'Reacting': 154.46473693847656, 'UpperStretching': 175.47726440429688, 'Walking': 159.9232635498047, 'Gesticuling': 135.98716735839844, 'Talking': 143.7303924560547, 'Gaming': 156.21148681640625, 'Patting': 154.0318603515625, 'Greeting': 146.03689575195312}, 'UpperBody': {'All': 144.5169219970703, 'LowerStretching': 120.7164535522461, 'Reacting': 137.19102478027344, 'UpperStretching': 156.9484405517578, 'Walking': 129.53712463378906, 'Gesticuling': 128.71974182128906, 'Talking': 130.75619506835938, 'Gaming': 129.48300170898438, 'Patting': 134.23529052734375, 'Greeting': 133.905029296875}, 'LowerBody': {'All': 192.64674377441406, 'LowerStretching': 207.81285095214844, 'Reacting': 171.7384490966797, 'UpperStretching': 194.00607299804688, 'Walking': 190.3094024658203, 'Gesticuling': 143.2545623779297, 'Talking': 156.70462036132812, 'Gaming': 182.9399871826172, 'Patting': 173.82843017578125, 'Greeting': 158.16879272460938}}\n"
     ]
    },
    {
     "name": "stderr",
     "output_type": "stream",
     "text": [
      " 90%|████████▉ | 4800/5352 [27:48<03:15,  2.83it/s]"
     ]
    },
    {
     "name": "stdout",
     "output_type": "stream",
     "text": [
      "{'FullBody': {'All': 168.52505493164062, 'LowerStretching': 164.2442169189453, 'Reacting': 154.1626434326172, 'UpperStretching': 175.4582977294922, 'Walking': 159.83851623535156, 'Gesticuling': 135.8404083251953, 'Talking': 143.3955535888672, 'Gaming': 155.84580993652344, 'Patting': 154.0055389404297, 'Greeting': 145.87132263183594}, 'UpperBody': {'All': 144.4721221923828, 'LowerStretching': 120.69564819335938, 'Reacting': 136.84957885742188, 'UpperStretching': 156.95474243164062, 'Walking': 129.43655395507812, 'Gesticuling': 128.54959106445312, 'Talking': 130.80300903320312, 'Gaming': 129.1837921142578, 'Patting': 134.0340576171875, 'Greeting': 133.70106506347656}, 'LowerBody': {'All': 192.57797241210938, 'LowerStretching': 207.7928009033203, 'Reacting': 171.47569274902344, 'UpperStretching': 193.9618377685547, 'Walking': 190.24046325683594, 'Gesticuling': 143.1312255859375, 'Talking': 155.9880828857422, 'Gaming': 182.50779724121094, 'Patting': 173.97703552246094, 'Greeting': 158.0415802001953}}\n"
     ]
    },
    {
     "name": "stderr",
     "output_type": "stream",
     "text": [
      " 93%|█████████▎| 5000/5352 [28:57<02:04,  2.82it/s]"
     ]
    },
    {
     "name": "stdout",
     "output_type": "stream",
     "text": [
      "{'FullBody': {'All': 168.5831298828125, 'LowerStretching': 164.37155151367188, 'Reacting': 154.1593780517578, 'UpperStretching': 175.48265075683594, 'Walking': 159.79736328125, 'Gesticuling': 136.2062530517578, 'Talking': 143.76824951171875, 'Gaming': 155.8678741455078, 'Patting': 154.06671142578125, 'Greeting': 146.3304443359375}, 'UpperBody': {'All': 144.52755737304688, 'LowerStretching': 120.76042175292969, 'Reacting': 136.84848022460938, 'UpperStretching': 156.98687744140625, 'Walking': 129.43222045898438, 'Gesticuling': 128.8172607421875, 'Talking': 130.84368896484375, 'Gaming': 129.36241149902344, 'Patting': 134.1693115234375, 'Greeting': 133.9862823486328}, 'LowerBody': {'All': 192.638671875, 'LowerStretching': 207.98269653320312, 'Reacting': 171.4702911376953, 'UpperStretching': 193.97842407226562, 'Walking': 190.1624755859375, 'Gesticuling': 143.59523010253906, 'Talking': 156.6927947998047, 'Gaming': 182.37335205078125, 'Patting': 173.96408081054688, 'Greeting': 158.67459106445312}}\n"
     ]
    },
    {
     "name": "stderr",
     "output_type": "stream",
     "text": [
      " 97%|█████████▋| 5200/5352 [30:07<00:53,  2.82it/s]"
     ]
    },
    {
     "name": "stdout",
     "output_type": "stream",
     "text": [
      "{'FullBody': {'All': 168.5863800048828, 'LowerStretching': 164.56451416015625, 'Reacting': 154.16925048828125, 'UpperStretching': 175.436279296875, 'Walking': 159.78369140625, 'Gesticuling': 136.19866943359375, 'Talking': 143.56556701660156, 'Gaming': 155.89366149902344, 'Patting': 153.90255737304688, 'Greeting': 145.86309814453125}, 'UpperBody': {'All': 144.52410888671875, 'LowerStretching': 120.84706115722656, 'Reacting': 136.7088165283203, 'UpperStretching': 156.96478271484375, 'Walking': 129.4983367919922, 'Gesticuling': 128.70407104492188, 'Talking': 130.81849670410156, 'Gaming': 129.40560913085938, 'Patting': 134.20370483398438, 'Greeting': 133.7318115234375}, 'LowerBody': {'All': 192.6486358642578, 'LowerStretching': 208.28196716308594, 'Reacting': 171.62966918945312, 'UpperStretching': 193.9077606201172, 'Walking': 190.0690460205078, 'Gesticuling': 143.69325256347656, 'Talking': 156.31263732910156, 'Gaming': 182.38172912597656, 'Patting': 173.6013946533203, 'Greeting': 157.994384765625}}\n"
     ]
    },
    {
     "name": "stderr",
     "output_type": "stream",
     "text": [
      "100%|██████████| 5352/5352 [30:59<00:00,  2.88it/s]\n",
      "\u001b[94m07:55:17 \u001b[92m[INFO]\u001b[94m Main\u001b[0m: Saving evaluation results...\n",
      "\u001b[94m07:55:17 \u001b[92m[INFO]\u001b[94m Main\u001b[0m: Done.\n",
      "\u001b[94m07:55:17 \u001b[92m[INFO]\u001b[94m Main\u001b[0m: Starting demo...\n",
      "  0%|          | 0/5352 [00:00<?, ?it/s]/opt/conda/lib/python3.10/site-packages/torchvision/transforms/transforms.py:329: UserWarning: Argument 'interpolation' of type int is deprecated since 0.13 and will be removed in 0.15. Please use InterpolationMode enum.\n",
      "  warnings.warn(\n",
      "/opt/conda/lib/python3.10/site-packages/torchvision/transforms/transforms.py:329: UserWarning: Argument 'interpolation' of type int is deprecated since 0.13 and will be removed in 0.15. Please use InterpolationMode enum.\n",
      "  warnings.warn(\n",
      "/opt/conda/lib/python3.10/site-packages/torchvision/transforms/transforms.py:329: UserWarning: Argument 'interpolation' of type int is deprecated since 0.13 and will be removed in 0.15. Please use InterpolationMode enum.\n",
      "  warnings.warn(\n",
      "/opt/conda/lib/python3.10/site-packages/torchvision/transforms/transforms.py:329: UserWarning: Argument 'interpolation' of type int is deprecated since 0.13 and will be removed in 0.15. Please use InterpolationMode enum.\n",
      "  warnings.warn(\n",
      "/opt/conda/lib/python3.10/site-packages/torchvision/transforms/transforms.py:329: UserWarning: Argument 'interpolation' of type int is deprecated since 0.13 and will be removed in 0.15. Please use InterpolationMode enum.\n",
      "  warnings.warn(\n",
      "/opt/conda/lib/python3.10/site-packages/torchvision/transforms/transforms.py:329: UserWarning: Argument 'interpolation' of type int is deprecated since 0.13 and will be removed in 0.15. Please use InterpolationMode enum.\n",
      "  warnings.warn(\n",
      "/opt/conda/lib/python3.10/site-packages/torchvision/transforms/transforms.py:329: UserWarning: Argument 'interpolation' of type int is deprecated since 0.13 and will be removed in 0.15. Please use InterpolationMode enum.\n",
      "  warnings.warn(\n",
      "/opt/conda/lib/python3.10/site-packages/torchvision/transforms/transforms.py:329: UserWarning: Argument 'interpolation' of type int is deprecated since 0.13 and will be removed in 0.15. Please use InterpolationMode enum.\n",
      "  warnings.warn(\n",
      "/opt/conda/lib/python3.10/site-packages/torchvision/transforms/transforms.py:329: UserWarning: Argument 'interpolation' of type int is deprecated since 0.13 and will be removed in 0.15. Please use InterpolationMode enum.\n",
      "  warnings.warn(\n",
      "/opt/conda/lib/python3.10/site-packages/torchvision/transforms/transforms.py:329: UserWarning: Argument 'interpolation' of type int is deprecated since 0.13 and will be removed in 0.15. Please use InterpolationMode enum.\n",
      "  warnings.warn(\n",
      "/opt/conda/lib/python3.10/site-packages/torchvision/transforms/transforms.py:329: UserWarning: Argument 'interpolation' of type int is deprecated since 0.13 and will be removed in 0.15. Please use InterpolationMode enum.\n",
      "  warnings.warn(\n",
      "/opt/conda/lib/python3.10/site-packages/torchvision/transforms/transforms.py:329: UserWarning: Argument 'interpolation' of type int is deprecated since 0.13 and will be removed in 0.15. Please use InterpolationMode enum.\n",
      "  warnings.warn(\n",
      "/opt/conda/lib/python3.10/site-packages/torchvision/transforms/transforms.py:329: UserWarning: Argument 'interpolation' of type int is deprecated since 0.13 and will be removed in 0.15. Please use InterpolationMode enum.\n",
      "  warnings.warn(\n",
      "/opt/conda/lib/python3.10/site-packages/torchvision/transforms/transforms.py:329: UserWarning: Argument 'interpolation' of type int is deprecated since 0.13 and will be removed in 0.15. Please use InterpolationMode enum.\n",
      "  warnings.warn(\n",
      "/opt/conda/lib/python3.10/site-packages/torchvision/transforms/transforms.py:329: UserWarning: Argument 'interpolation' of type int is deprecated since 0.13 and will be removed in 0.15. Please use InterpolationMode enum.\n",
      "  warnings.warn(\n",
      "/opt/conda/lib/python3.10/site-packages/torchvision/transforms/transforms.py:329: UserWarning: Argument 'interpolation' of type int is deprecated since 0.13 and will be removed in 0.15. Please use InterpolationMode enum.\n",
      "  warnings.warn(\n",
      "/opt/conda/lib/python3.10/site-packages/torchvision/transforms/transforms.py:329: UserWarning: Argument 'interpolation' of type int is deprecated since 0.13 and will be removed in 0.15. Please use InterpolationMode enum.\n",
      "  warnings.warn(\n",
      "/opt/conda/lib/python3.10/site-packages/torchvision/transforms/transforms.py:329: UserWarning: Argument 'interpolation' of type int is deprecated since 0.13 and will be removed in 0.15. Please use InterpolationMode enum.\n",
      "  warnings.warn(\n",
      "/opt/conda/lib/python3.10/site-packages/torchvision/transforms/transforms.py:329: UserWarning: Argument 'interpolation' of type int is deprecated since 0.13 and will be removed in 0.15. Please use InterpolationMode enum.\n",
      "  warnings.warn(\n",
      "/opt/conda/lib/python3.10/site-packages/torchvision/transforms/transforms.py:329: UserWarning: Argument 'interpolation' of type int is deprecated since 0.13 and will be removed in 0.15. Please use InterpolationMode enum.\n",
      "  warnings.warn(\n",
      "/opt/conda/lib/python3.10/site-packages/torchvision/transforms/transforms.py:329: UserWarning: Argument 'interpolation' of type int is deprecated since 0.13 and will be removed in 0.15. Please use InterpolationMode enum.\n",
      "  warnings.warn(\n",
      "/opt/conda/lib/python3.10/site-packages/torchvision/transforms/transforms.py:329: UserWarning: Argument 'interpolation' of type int is deprecated since 0.13 and will be removed in 0.15. Please use InterpolationMode enum.\n",
      "  warnings.warn(\n",
      "/opt/conda/lib/python3.10/site-packages/torchvision/transforms/transforms.py:329: UserWarning: Argument 'interpolation' of type int is deprecated since 0.13 and will be removed in 0.15. Please use InterpolationMode enum.\n",
      "  warnings.warn(\n",
      "/opt/conda/lib/python3.10/site-packages/torchvision/transforms/transforms.py:329: UserWarning: Argument 'interpolation' of type int is deprecated since 0.13 and will be removed in 0.15. Please use InterpolationMode enum.\n",
      "  warnings.warn(\n",
      "  4%|▎         | 200/5352 [01:13<29:36,  2.90it/s]"
     ]
    },
    {
     "name": "stdout",
     "output_type": "stream",
     "text": [
      "{'FullBody': {'All': 150.90863037109375, 'Walking': 151.24539184570312, 'UpperStretching': 150.7099609375, 'LowerStretching': 163.13807678222656, 'Talking': 119.264404296875, 'Gaming': 136.15208435058594, 'Patting': 157.4051055908203, 'Greeting': 119.46524047851562, 'Gesticuling': 120.93168640136719, 'Reacting': 139.8242950439453}, 'UpperBody': {'All': 127.1562271118164, 'Walking': 120.90658569335938, 'UpperStretching': 135.85256958007812, 'LowerStretching': 108.5911636352539, 'Talking': 105.09677124023438, 'Gaming': 114.21102142333984, 'Patting': 129.51356506347656, 'Greeting': 100.5430908203125, 'Gesticuling': 109.05201721191406, 'Reacting': 119.91802215576172}, 'LowerBody': {'All': 174.6610565185547, 'Walking': 181.58419799804688, 'UpperStretching': 165.56739807128906, 'LowerStretching': 217.68499755859375, 'Talking': 133.43202209472656, 'Gaming': 158.09312438964844, 'Patting': 185.2966766357422, 'Greeting': 138.38739013671875, 'Gesticuling': 132.8113555908203, 'Reacting': 159.7305908203125}}\n"
     ]
    },
    {
     "name": "stderr",
     "output_type": "stream",
     "text": [
      "  7%|▋         | 400/5352 [02:22<28:27,  2.90it/s]"
     ]
    },
    {
     "name": "stdout",
     "output_type": "stream",
     "text": [
      "{'FullBody': {'All': 151.78555297851562, 'Walking': 153.26141357421875, 'UpperStretching': 151.89356994628906, 'LowerStretching': 162.59515380859375, 'Talking': 122.1693115234375, 'Gaming': 137.27630615234375, 'Patting': 154.33982849121094, 'Greeting': 128.20350646972656, 'Gesticuling': 120.74568939208984, 'Reacting': 137.94485473632812}, 'UpperBody': {'All': 127.06378936767578, 'Walking': 120.18218994140625, 'UpperStretching': 136.1943359375, 'LowerStretching': 108.93429565429688, 'Talking': 109.47808837890625, 'Gaming': 112.22463989257812, 'Patting': 122.68843078613281, 'Greeting': 105.59688568115234, 'Gesticuling': 110.17837524414062, 'Reacting': 118.24872589111328}, 'LowerBody': {'All': 176.50730895996094, 'Walking': 186.3406524658203, 'UpperStretching': 167.59278869628906, 'LowerStretching': 216.25599670410156, 'Talking': 134.8605499267578, 'Gaming': 162.32797241210938, 'Patting': 185.9912567138672, 'Greeting': 150.8101348876953, 'Gesticuling': 131.31300354003906, 'Reacting': 157.6409912109375}}\n"
     ]
    },
    {
     "name": "stderr",
     "output_type": "stream",
     "text": [
      " 11%|█         | 600/5352 [03:31<27:28,  2.88it/s]"
     ]
    },
    {
     "name": "stdout",
     "output_type": "stream",
     "text": [
      "{'FullBody': {'All': 151.1142120361328, 'Walking': 153.96719360351562, 'UpperStretching': 152.03892517089844, 'LowerStretching': 158.48623657226562, 'Talking': 119.57032012939453, 'Gaming': 135.70220947265625, 'Patting': 154.11004638671875, 'Greeting': 123.68241882324219, 'Gesticuling': 119.23845672607422, 'Reacting': 136.2167510986328}, 'UpperBody': {'All': 126.72122192382812, 'Walking': 120.54916381835938, 'UpperStretching': 136.43307495117188, 'LowerStretching': 107.62300109863281, 'Talking': 107.68112182617188, 'Gaming': 108.85468292236328, 'Patting': 123.94586944580078, 'Greeting': 102.67709350585938, 'Gesticuling': 106.9142074584961, 'Reacting': 116.54067993164062}, 'LowerBody': {'All': 175.50718688964844, 'Walking': 187.38523864746094, 'UpperStretching': 167.64476013183594, 'LowerStretching': 209.34947204589844, 'Talking': 131.45950317382812, 'Gaming': 162.54974365234375, 'Patting': 184.2742156982422, 'Greeting': 144.68772888183594, 'Gesticuling': 131.56271362304688, 'Reacting': 155.89285278320312}}\n"
     ]
    },
    {
     "name": "stderr",
     "output_type": "stream",
     "text": [
      " 15%|█▍        | 800/5352 [04:41<26:22,  2.88it/s]"
     ]
    },
    {
     "name": "stdout",
     "output_type": "stream",
     "text": [
      "{'FullBody': {'All': 151.04835510253906, 'Walking': 152.9306640625, 'UpperStretching': 152.09454345703125, 'LowerStretching': 158.4938507080078, 'Talking': 120.0067138671875, 'Gaming': 136.10293579101562, 'Patting': 151.1649627685547, 'Greeting': 124.89450073242188, 'Gesticuling': 118.86511993408203, 'Reacting': 137.52288818359375}, 'UpperBody': {'All': 126.69837951660156, 'Walking': 120.44363403320312, 'UpperStretching': 136.51791381835938, 'LowerStretching': 107.37480926513672, 'Talking': 107.36389923095703, 'Gaming': 108.4379653930664, 'Patting': 120.93854522705078, 'Greeting': 103.7976303100586, 'Gesticuling': 105.69866943359375, 'Reacting': 118.74736022949219}, 'LowerBody': {'All': 175.3983612060547, 'Walking': 185.4176788330078, 'UpperStretching': 167.6711883544922, 'LowerStretching': 209.61289978027344, 'Talking': 132.64955139160156, 'Gaming': 163.76788330078125, 'Patting': 181.39141845703125, 'Greeting': 145.99136352539062, 'Gesticuling': 132.03155517578125, 'Reacting': 156.29840087890625}}\n"
     ]
    },
    {
     "name": "stderr",
     "output_type": "stream",
     "text": [
      " 19%|█▊        | 1000/5352 [05:50<25:14,  2.87it/s]"
     ]
    },
    {
     "name": "stdout",
     "output_type": "stream",
     "text": [
      "{'FullBody': {'All': 150.84336853027344, 'Walking': 152.23912048339844, 'UpperStretching': 152.191650390625, 'LowerStretching': 157.62216186523438, 'Talking': 119.08656311035156, 'Gaming': 135.6072235107422, 'Patting': 151.2969512939453, 'Greeting': 122.17505645751953, 'Gesticuling': 119.31411743164062, 'Reacting': 138.56277465820312}, 'UpperBody': {'All': 126.73895263671875, 'Walking': 120.52770233154297, 'UpperStretching': 136.47702026367188, 'LowerStretching': 107.44760131835938, 'Talking': 106.0545883178711, 'Gaming': 108.35989379882812, 'Patting': 122.03568267822266, 'Greeting': 101.68695831298828, 'Gesticuling': 105.7955551147461, 'Reacting': 120.39299774169922}, 'LowerBody': {'All': 174.94778442382812, 'Walking': 183.95053100585938, 'UpperStretching': 167.90625, 'LowerStretching': 207.7967071533203, 'Talking': 132.11851501464844, 'Gaming': 162.8545379638672, 'Patting': 180.55824279785156, 'Greeting': 142.66314697265625, 'Gesticuling': 132.8326873779297, 'Reacting': 156.73252868652344}}\n"
     ]
    },
    {
     "name": "stderr",
     "output_type": "stream",
     "text": [
      " 22%|██▏       | 1200/5352 [06:59<24:05,  2.87it/s]"
     ]
    },
    {
     "name": "stdout",
     "output_type": "stream",
     "text": [
      "{'FullBody': {'All': 150.7501220703125, 'Walking': 151.9274444580078, 'UpperStretching': 152.21412658691406, 'LowerStretching': 157.3921661376953, 'Talking': 117.93619537353516, 'Gaming': 135.98287963867188, 'Patting': 151.45672607421875, 'Greeting': 119.968017578125, 'Gesticuling': 119.77020263671875, 'Reacting': 138.18807983398438}, 'UpperBody': {'All': 126.81327056884766, 'Walking': 120.5764389038086, 'UpperStretching': 136.7176971435547, 'LowerStretching': 107.15656280517578, 'Talking': 105.71688842773438, 'Gaming': 108.87366485595703, 'Patting': 121.10114288330078, 'Greeting': 100.28648376464844, 'Gesticuling': 106.3283920288086, 'Reacting': 120.16175079345703}, 'LowerBody': {'All': 174.68698120117188, 'Walking': 183.27845764160156, 'UpperStretching': 167.71054077148438, 'LowerStretching': 207.62777709960938, 'Talking': 130.155517578125, 'Gaming': 163.09210205078125, 'Patting': 181.81228637695312, 'Greeting': 139.6495361328125, 'Gesticuling': 133.21202087402344, 'Reacting': 156.21438598632812}}\n"
     ]
    },
    {
     "name": "stderr",
     "output_type": "stream",
     "text": [
      " 26%|██▌       | 1400/5352 [08:09<22:56,  2.87it/s]"
     ]
    },
    {
     "name": "stdout",
     "output_type": "stream",
     "text": [
      "{'FullBody': {'All': 150.8874053955078, 'Walking': 152.63381958007812, 'UpperStretching': 152.24508666992188, 'LowerStretching': 157.88206481933594, 'Talking': 117.53700256347656, 'Gaming': 136.76022338867188, 'Patting': 151.17759704589844, 'Greeting': 119.60136413574219, 'Gesticuling': 119.04671478271484, 'Reacting': 137.78016662597656}, 'UpperBody': {'All': 126.85942077636719, 'Walking': 120.39659118652344, 'UpperStretching': 136.82342529296875, 'LowerStretching': 107.23931884765625, 'Talking': 105.42747497558594, 'Gaming': 108.93989562988281, 'Patting': 120.9892349243164, 'Greeting': 99.01582336425781, 'Gesticuling': 105.93761444091797, 'Reacting': 119.78062438964844}, 'LowerBody': {'All': 174.91542053222656, 'Walking': 184.87106323242188, 'UpperStretching': 167.666748046875, 'LowerStretching': 208.52479553222656, 'Talking': 129.64654541015625, 'Gaming': 164.58055114746094, 'Patting': 181.365966796875, 'Greeting': 140.18690490722656, 'Gesticuling': 132.15579223632812, 'Reacting': 155.77972412109375}}\n"
     ]
    },
    {
     "name": "stderr",
     "output_type": "stream",
     "text": [
      " 30%|██▉       | 1600/5352 [09:18<21:49,  2.87it/s]"
     ]
    },
    {
     "name": "stdout",
     "output_type": "stream",
     "text": [
      "{'FullBody': {'All': 150.9647216796875, 'Walking': 152.47869873046875, 'UpperStretching': 152.56539916992188, 'LowerStretching': 157.43405151367188, 'Talking': 117.31298065185547, 'Gaming': 136.66751098632812, 'Patting': 150.62794494628906, 'Greeting': 120.02294921875, 'Gesticuling': 118.889892578125, 'Reacting': 137.47589111328125}, 'UpperBody': {'All': 126.89844512939453, 'Walking': 120.33267974853516, 'UpperStretching': 137.09671020507812, 'LowerStretching': 107.00220489501953, 'Talking': 105.2514877319336, 'Gaming': 108.4271011352539, 'Patting': 120.35460662841797, 'Greeting': 99.68867492675781, 'Gesticuling': 105.65912628173828, 'Reacting': 119.30156707763672}, 'LowerBody': {'All': 175.03099060058594, 'Walking': 184.62472534179688, 'UpperStretching': 168.0340576171875, 'LowerStretching': 207.8658905029297, 'Talking': 129.3744659423828, 'Gaming': 164.9079132080078, 'Patting': 180.9013214111328, 'Greeting': 140.3572235107422, 'Gesticuling': 132.12066650390625, 'Reacting': 155.65020751953125}}\n"
     ]
    },
    {
     "name": "stderr",
     "output_type": "stream",
     "text": [
      " 34%|███▎      | 1800/5352 [10:27<20:40,  2.86it/s]"
     ]
    },
    {
     "name": "stdout",
     "output_type": "stream",
     "text": [
      "{'FullBody': {'All': 151.02978515625, 'Walking': 152.72720336914062, 'UpperStretching': 152.61317443847656, 'LowerStretching': 157.54745483398438, 'Talking': 117.49755859375, 'Gaming': 135.71763610839844, 'Patting': 150.14097595214844, 'Greeting': 120.67835235595703, 'Gesticuling': 118.814208984375, 'Reacting': 138.08535766601562}, 'UpperBody': {'All': 126.89559173583984, 'Walking': 120.32748413085938, 'UpperStretching': 137.12623596191406, 'LowerStretching': 107.11901092529297, 'Talking': 105.70227813720703, 'Gaming': 107.71096801757812, 'Patting': 119.75637817382812, 'Greeting': 100.04833984375, 'Gesticuling': 105.2042236328125, 'Reacting': 119.76909637451172}, 'LowerBody': {'All': 175.1639862060547, 'Walking': 185.12692260742188, 'UpperStretching': 168.10009765625, 'LowerStretching': 207.97586059570312, 'Talking': 129.29283142089844, 'Gaming': 163.72427368164062, 'Patting': 180.52557373046875, 'Greeting': 141.308349609375, 'Gesticuling': 132.4241943359375, 'Reacting': 156.40162658691406}}\n"
     ]
    },
    {
     "name": "stderr",
     "output_type": "stream",
     "text": [
      " 37%|███▋      | 2000/5352 [11:37<19:31,  2.86it/s]"
     ]
    },
    {
     "name": "stdout",
     "output_type": "stream",
     "text": [
      "{'FullBody': {'All': 150.8708953857422, 'Walking': 152.4517822265625, 'UpperStretching': 152.3563690185547, 'LowerStretching': 157.4785919189453, 'Talking': 118.39424133300781, 'Gaming': 135.4235076904297, 'Patting': 150.8827667236328, 'Greeting': 121.15381622314453, 'Gesticuling': 118.91781616210938, 'Reacting': 138.0142364501953}, 'UpperBody': {'All': 126.83842468261719, 'Walking': 120.12200164794922, 'UpperStretching': 137.08058166503906, 'LowerStretching': 106.9377670288086, 'Talking': 106.4281005859375, 'Gaming': 107.77989959716797, 'Patting': 119.82444763183594, 'Greeting': 100.24795532226562, 'Gesticuling': 105.38756561279297, 'Reacting': 119.70773315429688}, 'LowerBody': {'All': 174.9033660888672, 'Walking': 184.78155517578125, 'UpperStretching': 167.6321563720703, 'LowerStretching': 208.01943969726562, 'Talking': 130.36038208007812, 'Gaming': 163.067138671875, 'Patting': 181.94113159179688, 'Greeting': 142.05967712402344, 'Gesticuling': 132.4480743408203, 'Reacting': 156.3207550048828}}\n"
     ]
    },
    {
     "name": "stderr",
     "output_type": "stream",
     "text": [
      " 41%|████      | 2200/5352 [12:46<18:20,  2.86it/s]"
     ]
    },
    {
     "name": "stdout",
     "output_type": "stream",
     "text": [
      "{'FullBody': {'All': 151.01437377929688, 'Walking': 152.94281005859375, 'UpperStretching': 152.46766662597656, 'LowerStretching': 157.59149169921875, 'Talking': 117.8924560546875, 'Gaming': 135.02110290527344, 'Patting': 150.311279296875, 'Greeting': 120.84508514404297, 'Gesticuling': 119.15311431884766, 'Reacting': 138.23745727539062}, 'UpperBody': {'All': 126.82955932617188, 'Walking': 120.18304443359375, 'UpperStretching': 137.1191864013672, 'LowerStretching': 106.87763977050781, 'Talking': 105.76373291015625, 'Gaming': 107.5364761352539, 'Patting': 119.73263549804688, 'Greeting': 99.84546661376953, 'Gesticuling': 105.4981918334961, 'Reacting': 119.56925201416016}, 'LowerBody': {'All': 175.1991729736328, 'Walking': 185.7025604248047, 'UpperStretching': 167.81614685058594, 'LowerStretching': 208.3053436279297, 'Talking': 130.02117919921875, 'Gaming': 162.50575256347656, 'Patting': 180.88992309570312, 'Greeting': 141.84469604492188, 'Gesticuling': 132.80804443359375, 'Reacting': 156.9056396484375}}\n"
     ]
    },
    {
     "name": "stderr",
     "output_type": "stream",
     "text": [
      " 45%|████▍     | 2400/5352 [13:55<17:14,  2.85it/s]"
     ]
    },
    {
     "name": "stdout",
     "output_type": "stream",
     "text": [
      "{'FullBody': {'All': 150.81201171875, 'Walking': 152.9063720703125, 'UpperStretching': 152.17355346679688, 'LowerStretching': 157.51324462890625, 'Talking': 118.32105255126953, 'Gaming': 134.3507537841797, 'Patting': 150.61851501464844, 'Greeting': 120.566650390625, 'Gesticuling': 119.06251525878906, 'Reacting': 137.86227416992188}, 'UpperBody': {'All': 126.70355224609375, 'Walking': 120.25419616699219, 'UpperStretching': 137.02806091308594, 'LowerStretching': 106.7619400024414, 'Talking': 105.81298828125, 'Gaming': 106.78755950927734, 'Patting': 119.92807006835938, 'Greeting': 99.70011901855469, 'Gesticuling': 105.4053726196289, 'Reacting': 119.31067657470703}, 'LowerBody': {'All': 174.9204864501953, 'Walking': 185.5585174560547, 'UpperStretching': 167.3190460205078, 'LowerStretching': 208.26455688476562, 'Talking': 130.82911682128906, 'Gaming': 161.91397094726562, 'Patting': 181.30894470214844, 'Greeting': 141.43319702148438, 'Gesticuling': 132.71966552734375, 'Reacting': 156.41384887695312}}\n"
     ]
    },
    {
     "name": "stderr",
     "output_type": "stream",
     "text": [
      " 49%|████▊     | 2600/5352 [15:05<16:01,  2.86it/s]"
     ]
    },
    {
     "name": "stdout",
     "output_type": "stream",
     "text": [
      "{'FullBody': {'All': 150.84231567382812, 'Walking': 153.4229736328125, 'UpperStretching': 152.08973693847656, 'LowerStretching': 157.55084228515625, 'Talking': 117.84187316894531, 'Gaming': 135.2806854248047, 'Patting': 150.66360473632812, 'Greeting': 121.64738464355469, 'Gesticuling': 119.03154754638672, 'Reacting': 137.767822265625}, 'UpperBody': {'All': 126.7210922241211, 'Walking': 120.36784362792969, 'UpperStretching': 137.05657958984375, 'LowerStretching': 106.66405487060547, 'Talking': 105.42762756347656, 'Gaming': 107.41462707519531, 'Patting': 120.080322265625, 'Greeting': 100.7565689086914, 'Gesticuling': 105.2566146850586, 'Reacting': 119.3907699584961}, 'LowerBody': {'All': 174.96353149414062, 'Walking': 186.4780731201172, 'UpperStretching': 167.12289428710938, 'LowerStretching': 208.4376220703125, 'Talking': 130.256103515625, 'Gaming': 163.14675903320312, 'Patting': 181.2468719482422, 'Greeting': 142.53819274902344, 'Gesticuling': 132.8064727783203, 'Reacting': 156.1448974609375}}\n"
     ]
    },
    {
     "name": "stderr",
     "output_type": "stream",
     "text": [
      " 52%|█████▏    | 2800/5352 [16:14<14:57,  2.84it/s]"
     ]
    },
    {
     "name": "stdout",
     "output_type": "stream",
     "text": [
      "{'FullBody': {'All': 150.84896850585938, 'Walking': 153.20281982421875, 'UpperStretching': 152.23892211914062, 'LowerStretching': 157.45420837402344, 'Talking': 117.61299896240234, 'Gaming': 134.2206268310547, 'Patting': 149.72415161132812, 'Greeting': 121.2395248413086, 'Gesticuling': 119.24156188964844, 'Reacting': 137.84494018554688}, 'UpperBody': {'All': 126.78619384765625, 'Walking': 120.05564880371094, 'UpperStretching': 137.2044677734375, 'LowerStretching': 106.83016967773438, 'Talking': 105.26304626464844, 'Gaming': 106.91725158691406, 'Patting': 119.82351684570312, 'Greeting': 100.4653091430664, 'Gesticuling': 105.20146942138672, 'Reacting': 119.56852722167969}, 'LowerBody': {'All': 174.91172790527344, 'Walking': 186.3499755859375, 'UpperStretching': 167.27337646484375, 'LowerStretching': 208.07823181152344, 'Talking': 129.96295166015625, 'Gaming': 161.52398681640625, 'Patting': 179.62477111816406, 'Greeting': 142.0137481689453, 'Gesticuling': 133.28164672851562, 'Reacting': 156.1213836669922}}\n"
     ]
    },
    {
     "name": "stderr",
     "output_type": "stream",
     "text": [
      " 56%|█████▌    | 3000/5352 [17:23<13:44,  2.85it/s]"
     ]
    },
    {
     "name": "stdout",
     "output_type": "stream",
     "text": [
      "{'FullBody': {'All': 150.7987518310547, 'Walking': 153.04248046875, 'UpperStretching': 152.2206268310547, 'LowerStretching': 157.28062438964844, 'Talking': 118.1465835571289, 'Gaming': 134.87474060058594, 'Patting': 149.5612335205078, 'Greeting': 120.67628479003906, 'Gesticuling': 119.3532485961914, 'Reacting': 137.6224365234375}, 'UpperBody': {'All': 126.74980163574219, 'Walking': 119.86157989501953, 'UpperStretching': 137.20196533203125, 'LowerStretching': 106.5908432006836, 'Talking': 105.77213287353516, 'Gaming': 107.39151763916016, 'Patting': 119.65470123291016, 'Greeting': 100.07292175292969, 'Gesticuling': 105.42417907714844, 'Reacting': 119.55821228027344}, 'LowerBody': {'All': 174.84768676757812, 'Walking': 186.22337341308594, 'UpperStretching': 167.2393035888672, 'LowerStretching': 207.97039794921875, 'Talking': 130.52102661132812, 'Gaming': 162.3579559326172, 'Patting': 179.46778869628906, 'Greeting': 141.2796630859375, 'Gesticuling': 133.28231811523438, 'Reacting': 155.68666076660156}}\n"
     ]
    },
    {
     "name": "stderr",
     "output_type": "stream",
     "text": [
      " 60%|█████▉    | 3200/5352 [18:33<12:33,  2.86it/s]"
     ]
    },
    {
     "name": "stdout",
     "output_type": "stream",
     "text": [
      "{'FullBody': {'All': 150.88616943359375, 'Walking': 153.26498413085938, 'UpperStretching': 152.23529052734375, 'LowerStretching': 157.62188720703125, 'Talking': 118.42112731933594, 'Gaming': 134.41653442382812, 'Patting': 149.17823791503906, 'Greeting': 120.75908660888672, 'Gesticuling': 119.13043212890625, 'Reacting': 137.77821350097656}, 'UpperBody': {'All': 126.79222869873047, 'Walking': 119.79899597167969, 'UpperStretching': 137.24046325683594, 'LowerStretching': 106.737548828125, 'Talking': 106.18738555908203, 'Gaming': 107.20874786376953, 'Patting': 119.71011352539062, 'Greeting': 100.04230499267578, 'Gesticuling': 105.33141326904297, 'Reacting': 119.74638366699219}, 'LowerBody': {'All': 174.9801025390625, 'Walking': 186.7310028076172, 'UpperStretching': 167.23011779785156, 'LowerStretching': 208.5061798095703, 'Talking': 130.65487670898438, 'Gaming': 161.62432861328125, 'Patting': 178.64637756347656, 'Greeting': 141.4758758544922, 'Gesticuling': 132.929443359375, 'Reacting': 155.81004333496094}}\n"
     ]
    },
    {
     "name": "stderr",
     "output_type": "stream",
     "text": [
      " 64%|██████▎   | 3400/5352 [19:42<11:24,  2.85it/s]"
     ]
    },
    {
     "name": "stdout",
     "output_type": "stream",
     "text": [
      "{'FullBody': {'All': 151.04354858398438, 'Walking': 153.25912475585938, 'UpperStretching': 152.40628051757812, 'LowerStretching': 157.99826049804688, 'Talking': 118.94586944580078, 'Gaming': 134.3071746826172, 'Patting': 148.73031616210938, 'Greeting': 120.60958099365234, 'Gesticuling': 119.62509155273438, 'Reacting': 137.52574157714844}, 'UpperBody': {'All': 126.89089965820312, 'Walking': 119.8916015625, 'UpperStretching': 137.3526611328125, 'LowerStretching': 106.89582061767578, 'Talking': 106.34113311767578, 'Gaming': 107.00128936767578, 'Patting': 119.40155029296875, 'Greeting': 99.86627960205078, 'Gesticuling': 105.88389587402344, 'Reacting': 119.80371856689453}, 'LowerBody': {'All': 175.19619750976562, 'Walking': 186.6266632080078, 'UpperStretching': 167.45989990234375, 'LowerStretching': 209.10067749023438, 'Talking': 131.5506134033203, 'Gaming': 161.613037109375, 'Patting': 178.05908203125, 'Greeting': 141.3529052734375, 'Gesticuling': 133.3662872314453, 'Reacting': 155.24774169921875}}\n"
     ]
    },
    {
     "name": "stderr",
     "output_type": "stream",
     "text": [
      " 67%|██████▋   | 3600/5352 [20:51<10:16,  2.84it/s]"
     ]
    },
    {
     "name": "stdout",
     "output_type": "stream",
     "text": [
      "{'FullBody': {'All': 150.99053955078125, 'Walking': 153.20599365234375, 'UpperStretching': 152.2685546875, 'LowerStretching': 158.03369140625, 'Talking': 118.62531280517578, 'Gaming': 134.59130859375, 'Patting': 149.07899475097656, 'Greeting': 121.37519836425781, 'Gesticuling': 119.74138641357422, 'Reacting': 137.65562438964844}, 'UpperBody': {'All': 126.89458465576172, 'Walking': 119.89138793945312, 'UpperStretching': 137.30104064941406, 'LowerStretching': 107.01891326904297, 'Talking': 106.25104522705078, 'Gaming': 107.26307678222656, 'Patting': 119.54813385009766, 'Greeting': 100.4182357788086, 'Gesticuling': 105.89763641357422, 'Reacting': 119.78838348388672}, 'LowerBody': {'All': 175.08648681640625, 'Walking': 186.52059936523438, 'UpperStretching': 167.236083984375, 'LowerStretching': 209.04847717285156, 'Talking': 130.99957275390625, 'Gaming': 161.91952514648438, 'Patting': 178.60987854003906, 'Greeting': 142.3321533203125, 'Gesticuling': 133.5851287841797, 'Reacting': 155.5228729248047}}\n"
     ]
    },
    {
     "name": "stderr",
     "output_type": "stream",
     "text": [
      " 71%|███████   | 3800/5352 [22:01<09:09,  2.83it/s]"
     ]
    },
    {
     "name": "stdout",
     "output_type": "stream",
     "text": [
      "{'FullBody': {'All': 150.93885803222656, 'Walking': 152.99029541015625, 'UpperStretching': 152.3387451171875, 'LowerStretching': 157.9470977783203, 'Talking': 118.38389587402344, 'Gaming': 134.44688415527344, 'Patting': 148.46499633789062, 'Greeting': 120.69070434570312, 'Gesticuling': 119.61446380615234, 'Reacting': 136.99436950683594}, 'UpperBody': {'All': 126.88673400878906, 'Walking': 119.96746826171875, 'UpperStretching': 137.33926391601562, 'LowerStretching': 107.01209259033203, 'Talking': 106.07421112060547, 'Gaming': 106.8614730834961, 'Patting': 119.13513946533203, 'Greeting': 99.94625091552734, 'Gesticuling': 105.8831787109375, 'Reacting': 119.12165832519531}, 'LowerBody': {'All': 174.990966796875, 'Walking': 186.01312255859375, 'UpperStretching': 167.33822631835938, 'LowerStretching': 208.882080078125, 'Talking': 130.69357299804688, 'Gaming': 162.0322723388672, 'Patting': 177.79486083984375, 'Greeting': 141.43516540527344, 'Gesticuling': 133.3457489013672, 'Reacting': 154.8671112060547}}\n"
     ]
    },
    {
     "name": "stderr",
     "output_type": "stream",
     "text": [
      " 75%|███████▍  | 4000/5352 [23:10<07:58,  2.82it/s]"
     ]
    },
    {
     "name": "stdout",
     "output_type": "stream",
     "text": [
      "{'FullBody': {'All': 150.882568359375, 'Walking': 152.99478149414062, 'UpperStretching': 152.25274658203125, 'LowerStretching': 157.8946533203125, 'Talking': 118.4195785522461, 'Gaming': 134.2755889892578, 'Patting': 148.56240844726562, 'Greeting': 120.15691375732422, 'Gesticuling': 119.56057739257812, 'Reacting': 137.1453094482422}, 'UpperBody': {'All': 126.85623931884766, 'Walking': 119.95823669433594, 'UpperStretching': 137.2997283935547, 'LowerStretching': 106.9990005493164, 'Talking': 106.05107116699219, 'Gaming': 106.92083740234375, 'Patting': 119.36529541015625, 'Greeting': 99.56688690185547, 'Gesticuling': 105.97959899902344, 'Reacting': 119.17876434326172}, 'LowerBody': {'All': 174.90887451171875, 'Walking': 186.03135681152344, 'UpperStretching': 167.20574951171875, 'LowerStretching': 208.790283203125, 'Talking': 130.78807067871094, 'Gaming': 161.6303253173828, 'Patting': 177.75949096679688, 'Greeting': 140.7469482421875, 'Gesticuling': 133.1415557861328, 'Reacting': 155.11183166503906}}\n"
     ]
    },
    {
     "name": "stderr",
     "output_type": "stream",
     "text": [
      " 78%|███████▊  | 4200/5352 [24:19<06:48,  2.82it/s]"
     ]
    },
    {
     "name": "stdout",
     "output_type": "stream",
     "text": [
      "{'FullBody': {'All': 150.8509063720703, 'Walking': 152.83279418945312, 'UpperStretching': 152.26327514648438, 'LowerStretching': 157.93020629882812, 'Talking': 118.36747741699219, 'Gaming': 134.08364868164062, 'Patting': 148.43572998046875, 'Greeting': 120.26493835449219, 'Gesticuling': 119.3818130493164, 'Reacting': 136.77633666992188}, 'UpperBody': {'All': 126.87930297851562, 'Walking': 119.90582275390625, 'UpperStretching': 137.39096069335938, 'LowerStretching': 106.95352172851562, 'Talking': 106.16082000732422, 'Gaming': 106.91669464111328, 'Patting': 119.11702728271484, 'Greeting': 99.53099822998047, 'Gesticuling': 105.79769134521484, 'Reacting': 119.00591278076172}, 'LowerBody': {'All': 174.82249450683594, 'Walking': 185.75975036621094, 'UpperStretching': 167.1355743408203, 'LowerStretching': 208.90689086914062, 'Talking': 130.5741424560547, 'Gaming': 161.25059509277344, 'Patting': 177.75445556640625, 'Greeting': 140.9989013671875, 'Gesticuling': 132.96595764160156, 'Reacting': 154.54673767089844}}\n"
     ]
    },
    {
     "name": "stderr",
     "output_type": "stream",
     "text": [
      " 82%|████████▏ | 4400/5352 [25:29<05:36,  2.83it/s]"
     ]
    },
    {
     "name": "stdout",
     "output_type": "stream",
     "text": [
      "{'FullBody': {'All': 150.90219116210938, 'Walking': 152.65695190429688, 'UpperStretching': 152.33154296875, 'LowerStretching': 158.03195190429688, 'Talking': 118.11279296875, 'Gaming': 134.02220153808594, 'Patting': 148.7825164794922, 'Greeting': 120.48311614990234, 'Gesticuling': 119.47093200683594, 'Reacting': 136.98587036132812}, 'UpperBody': {'All': 126.93385314941406, 'Walking': 119.89128875732422, 'UpperStretching': 137.45248413085938, 'LowerStretching': 106.95381927490234, 'Talking': 105.71080017089844, 'Gaming': 106.85375213623047, 'Patting': 119.22640228271484, 'Greeting': 99.39985656738281, 'Gesticuling': 105.73983764648438, 'Reacting': 119.1427001953125}, 'LowerBody': {'All': 174.87054443359375, 'Walking': 185.422607421875, 'UpperStretching': 167.21060180664062, 'LowerStretching': 209.11009216308594, 'Talking': 130.51478576660156, 'Gaming': 161.190673828125, 'Patting': 178.33863830566406, 'Greeting': 141.56639099121094, 'Gesticuling': 133.2020263671875, 'Reacting': 154.8290557861328}}\n"
     ]
    },
    {
     "name": "stderr",
     "output_type": "stream",
     "text": [
      " 86%|████████▌ | 4600/5352 [26:38<04:26,  2.82it/s]"
     ]
    },
    {
     "name": "stdout",
     "output_type": "stream",
     "text": [
      "{'FullBody': {'All': 150.88494873046875, 'Walking': 152.65135192871094, 'UpperStretching': 152.2828826904297, 'LowerStretching': 158.07081604003906, 'Talking': 118.26828002929688, 'Gaming': 133.89161682128906, 'Patting': 149.072021484375, 'Greeting': 120.68695068359375, 'Gesticuling': 119.59765625, 'Reacting': 136.90782165527344}, 'UpperBody': {'All': 126.95667266845703, 'Walking': 119.79983520507812, 'UpperStretching': 137.48770141601562, 'LowerStretching': 106.98845672607422, 'Talking': 105.82067108154297, 'Gaming': 106.5292739868164, 'Patting': 119.26810455322266, 'Greeting': 99.46354675292969, 'Gesticuling': 105.80614471435547, 'Reacting': 119.2231216430664}, 'LowerBody': {'All': 174.81321716308594, 'Walking': 185.50286865234375, 'UpperStretching': 167.0780487060547, 'LowerStretching': 209.1531524658203, 'Talking': 130.7158966064453, 'Gaming': 161.2539825439453, 'Patting': 178.8759307861328, 'Greeting': 141.9103546142578, 'Gesticuling': 133.38916015625, 'Reacting': 154.592529296875}}\n"
     ]
    },
    {
     "name": "stderr",
     "output_type": "stream",
     "text": [
      " 90%|████████▉ | 4800/5352 [27:48<03:15,  2.83it/s]"
     ]
    },
    {
     "name": "stdout",
     "output_type": "stream",
     "text": [
      "{'FullBody': {'All': 150.88133239746094, 'Walking': 152.51309204101562, 'UpperStretching': 152.2727813720703, 'LowerStretching': 158.00152587890625, 'Talking': 118.38032531738281, 'Gaming': 133.83413696289062, 'Patting': 149.42478942871094, 'Greeting': 121.12191009521484, 'Gesticuling': 119.6819076538086, 'Reacting': 137.10897827148438}, 'UpperBody': {'All': 126.96967315673828, 'Walking': 119.76303100585938, 'UpperStretching': 137.49183654785156, 'LowerStretching': 106.89071655273438, 'Talking': 105.84330749511719, 'Gaming': 106.61754608154297, 'Patting': 119.69889831542969, 'Greeting': 99.87950897216797, 'Gesticuling': 105.97941589355469, 'Reacting': 119.4350357055664}, 'LowerBody': {'All': 174.79295349121094, 'Walking': 185.2631378173828, 'UpperStretching': 167.05372619628906, 'LowerStretching': 209.11231994628906, 'Talking': 130.91737365722656, 'Gaming': 161.05072021484375, 'Patting': 179.1506805419922, 'Greeting': 142.3643035888672, 'Gesticuling': 133.3843994140625, 'Reacting': 154.78289794921875}}\n"
     ]
    },
    {
     "name": "stderr",
     "output_type": "stream",
     "text": [
      " 93%|█████████▎| 5000/5352 [28:57<02:04,  2.82it/s]"
     ]
    },
    {
     "name": "stdout",
     "output_type": "stream",
     "text": [
      "{'FullBody': {'All': 150.938720703125, 'Walking': 152.7926483154297, 'UpperStretching': 152.32492065429688, 'LowerStretching': 157.89114379882812, 'Talking': 118.22947692871094, 'Gaming': 134.19354248046875, 'Patting': 149.38404846191406, 'Greeting': 121.58121490478516, 'Gesticuling': 119.6048583984375, 'Reacting': 137.21102905273438}, 'UpperBody': {'All': 126.98832702636719, 'Walking': 119.84960174560547, 'UpperStretching': 137.49119567871094, 'LowerStretching': 106.89867401123047, 'Talking': 105.8298568725586, 'Gaming': 106.873779296875, 'Patting': 119.8449478149414, 'Greeting': 100.08757019042969, 'Gesticuling': 105.92969512939453, 'Reacting': 119.40459442138672}, 'LowerBody': {'All': 174.88909912109375, 'Walking': 185.73568725585938, 'UpperStretching': 167.15863037109375, 'LowerStretching': 208.8836212158203, 'Talking': 130.62911987304688, 'Gaming': 161.5133056640625, 'Patting': 178.9231414794922, 'Greeting': 143.07485961914062, 'Gesticuling': 133.280029296875, 'Reacting': 155.01744079589844}}\n"
     ]
    },
    {
     "name": "stderr",
     "output_type": "stream",
     "text": [
      " 97%|█████████▋| 5200/5352 [30:06<00:53,  2.83it/s]"
     ]
    },
    {
     "name": "stdout",
     "output_type": "stream",
     "text": [
      "{'FullBody': {'All': 150.9282989501953, 'Walking': 152.71058654785156, 'UpperStretching': 152.3104248046875, 'LowerStretching': 157.95590209960938, 'Talking': 118.35467529296875, 'Gaming': 134.1043243408203, 'Patting': 149.13192749023438, 'Greeting': 121.62911224365234, 'Gesticuling': 119.55467987060547, 'Reacting': 137.2327880859375}, 'UpperBody': {'All': 127.01819610595703, 'Walking': 119.79144287109375, 'UpperStretching': 137.5001983642578, 'LowerStretching': 106.97576141357422, 'Talking': 105.94425201416016, 'Gaming': 107.03461456298828, 'Patting': 119.78473663330078, 'Greeting': 100.09928131103516, 'Gesticuling': 105.93695068359375, 'Reacting': 119.84831237792969}, 'LowerBody': {'All': 174.83839416503906, 'Walking': 185.6297149658203, 'UpperStretching': 167.1206512451172, 'LowerStretching': 208.93605041503906, 'Talking': 130.76507568359375, 'Gaming': 161.17401123046875, 'Patting': 178.47909545898438, 'Greeting': 143.15895080566406, 'Gesticuling': 133.17242431640625, 'Reacting': 154.61729431152344}}\n"
     ]
    },
    {
     "name": "stderr",
     "output_type": "stream",
     "text": [
      "100%|██████████| 5352/5352 [30:59<00:00,  2.88it/s]\n",
      "\u001b[94m08:26:20 \u001b[92m[INFO]\u001b[94m Main\u001b[0m: Saving evaluation results...\n",
      "\u001b[94m08:26:20 \u001b[92m[INFO]\u001b[94m Main\u001b[0m: Done.\n",
      "\u001b[94m08:26:20 \u001b[92m[INFO]\u001b[94m Main\u001b[0m: Starting demo...\n",
      "  0%|          | 0/5352 [00:00<?, ?it/s]/opt/conda/lib/python3.10/site-packages/torchvision/transforms/transforms.py:329: UserWarning: Argument 'interpolation' of type int is deprecated since 0.13 and will be removed in 0.15. Please use InterpolationMode enum.\n",
      "  warnings.warn(\n",
      "/opt/conda/lib/python3.10/site-packages/torchvision/transforms/transforms.py:329: UserWarning: Argument 'interpolation' of type int is deprecated since 0.13 and will be removed in 0.15. Please use InterpolationMode enum.\n",
      "  warnings.warn(\n",
      "/opt/conda/lib/python3.10/site-packages/torchvision/transforms/transforms.py:329: UserWarning: Argument 'interpolation' of type int is deprecated since 0.13 and will be removed in 0.15. Please use InterpolationMode enum.\n",
      "  warnings.warn(\n",
      "/opt/conda/lib/python3.10/site-packages/torchvision/transforms/transforms.py:329: UserWarning: Argument 'interpolation' of type int is deprecated since 0.13 and will be removed in 0.15. Please use InterpolationMode enum.\n",
      "  warnings.warn(\n",
      "/opt/conda/lib/python3.10/site-packages/torchvision/transforms/transforms.py:329: UserWarning: Argument 'interpolation' of type int is deprecated since 0.13 and will be removed in 0.15. Please use InterpolationMode enum.\n",
      "  warnings.warn(\n",
      "/opt/conda/lib/python3.10/site-packages/torchvision/transforms/transforms.py:329: UserWarning: Argument 'interpolation' of type int is deprecated since 0.13 and will be removed in 0.15. Please use InterpolationMode enum.\n",
      "  warnings.warn(\n",
      "/opt/conda/lib/python3.10/site-packages/torchvision/transforms/transforms.py:329: UserWarning: Argument 'interpolation' of type int is deprecated since 0.13 and will be removed in 0.15. Please use InterpolationMode enum.\n",
      "  warnings.warn(\n",
      "/opt/conda/lib/python3.10/site-packages/torchvision/transforms/transforms.py:329: UserWarning: Argument 'interpolation' of type int is deprecated since 0.13 and will be removed in 0.15. Please use InterpolationMode enum.\n",
      "  warnings.warn(\n",
      "/opt/conda/lib/python3.10/site-packages/torchvision/transforms/transforms.py:329: UserWarning: Argument 'interpolation' of type int is deprecated since 0.13 and will be removed in 0.15. Please use InterpolationMode enum.\n",
      "  warnings.warn(\n",
      "/opt/conda/lib/python3.10/site-packages/torchvision/transforms/transforms.py:329: UserWarning: Argument 'interpolation' of type int is deprecated since 0.13 and will be removed in 0.15. Please use InterpolationMode enum.\n",
      "  warnings.warn(\n",
      "/opt/conda/lib/python3.10/site-packages/torchvision/transforms/transforms.py:329: UserWarning: Argument 'interpolation' of type int is deprecated since 0.13 and will be removed in 0.15. Please use InterpolationMode enum.\n",
      "  warnings.warn(\n",
      "/opt/conda/lib/python3.10/site-packages/torchvision/transforms/transforms.py:329: UserWarning: Argument 'interpolation' of type int is deprecated since 0.13 and will be removed in 0.15. Please use InterpolationMode enum.\n",
      "  warnings.warn(\n",
      "/opt/conda/lib/python3.10/site-packages/torchvision/transforms/transforms.py:329: UserWarning: Argument 'interpolation' of type int is deprecated since 0.13 and will be removed in 0.15. Please use InterpolationMode enum.\n",
      "  warnings.warn(\n",
      "/opt/conda/lib/python3.10/site-packages/torchvision/transforms/transforms.py:329: UserWarning: Argument 'interpolation' of type int is deprecated since 0.13 and will be removed in 0.15. Please use InterpolationMode enum.\n",
      "  warnings.warn(\n",
      "/opt/conda/lib/python3.10/site-packages/torchvision/transforms/transforms.py:329: UserWarning: Argument 'interpolation' of type int is deprecated since 0.13 and will be removed in 0.15. Please use InterpolationMode enum.\n",
      "  warnings.warn(\n",
      "/opt/conda/lib/python3.10/site-packages/torchvision/transforms/transforms.py:329: UserWarning: Argument 'interpolation' of type int is deprecated since 0.13 and will be removed in 0.15. Please use InterpolationMode enum.\n",
      "  warnings.warn(\n",
      "/opt/conda/lib/python3.10/site-packages/torchvision/transforms/transforms.py:329: UserWarning: Argument 'interpolation' of type int is deprecated since 0.13 and will be removed in 0.15. Please use InterpolationMode enum.\n",
      "  warnings.warn(\n",
      "/opt/conda/lib/python3.10/site-packages/torchvision/transforms/transforms.py:329: UserWarning: Argument 'interpolation' of type int is deprecated since 0.13 and will be removed in 0.15. Please use InterpolationMode enum.\n",
      "  warnings.warn(\n",
      "/opt/conda/lib/python3.10/site-packages/torchvision/transforms/transforms.py:329: UserWarning: Argument 'interpolation' of type int is deprecated since 0.13 and will be removed in 0.15. Please use InterpolationMode enum.\n",
      "  warnings.warn(\n",
      "/opt/conda/lib/python3.10/site-packages/torchvision/transforms/transforms.py:329: UserWarning: Argument 'interpolation' of type int is deprecated since 0.13 and will be removed in 0.15. Please use InterpolationMode enum.\n",
      "  warnings.warn(\n",
      "/opt/conda/lib/python3.10/site-packages/torchvision/transforms/transforms.py:329: UserWarning: Argument 'interpolation' of type int is deprecated since 0.13 and will be removed in 0.15. Please use InterpolationMode enum.\n",
      "  warnings.warn(\n",
      "/opt/conda/lib/python3.10/site-packages/torchvision/transforms/transforms.py:329: UserWarning: Argument 'interpolation' of type int is deprecated since 0.13 and will be removed in 0.15. Please use InterpolationMode enum.\n",
      "  warnings.warn(\n",
      "/opt/conda/lib/python3.10/site-packages/torchvision/transforms/transforms.py:329: UserWarning: Argument 'interpolation' of type int is deprecated since 0.13 and will be removed in 0.15. Please use InterpolationMode enum.\n",
      "  warnings.warn(\n",
      "/opt/conda/lib/python3.10/site-packages/torchvision/transforms/transforms.py:329: UserWarning: Argument 'interpolation' of type int is deprecated since 0.13 and will be removed in 0.15. Please use InterpolationMode enum.\n",
      "  warnings.warn(\n",
      "  4%|▎         | 200/5352 [01:13<29:37,  2.90it/s]"
     ]
    },
    {
     "name": "stdout",
     "output_type": "stream",
     "text": [
      "{'FullBody': {'All': 262.1051025390625, 'UpperStretching': 268.4015808105469, 'Gaming': 256.48529052734375, 'LowerStretching': 245.51065063476562, 'Walking': 264.693115234375, 'Patting': 263.0129699707031, 'Talking': 239.707275390625, 'Greeting': 266.3992919921875, 'Reacting': 248.77435302734375, 'Gesticuling': 244.46568298339844}, 'UpperBody': {'All': 205.05694580078125, 'UpperStretching': 213.6800079345703, 'Gaming': 211.18899536132812, 'LowerStretching': 183.4533233642578, 'Walking': 199.6555633544922, 'Patting': 190.944091796875, 'Talking': 207.08531188964844, 'Greeting': 213.2105712890625, 'Reacting': 196.2784423828125, 'Gesticuling': 179.38473510742188}, 'LowerBody': {'All': 319.1532897949219, 'UpperStretching': 323.12310791015625, 'Gaming': 301.78155517578125, 'LowerStretching': 307.5679931640625, 'Walking': 329.73065185546875, 'Patting': 335.08184814453125, 'Talking': 272.3291320800781, 'Greeting': 319.58795166015625, 'Reacting': 301.270263671875, 'Gesticuling': 309.54669189453125}}\n"
     ]
    },
    {
     "name": "stderr",
     "output_type": "stream",
     "text": [
      "  7%|▋         | 400/5352 [02:22<28:28,  2.90it/s]"
     ]
    },
    {
     "name": "stdout",
     "output_type": "stream",
     "text": [
      "{'FullBody': {'All': 263.8848876953125, 'UpperStretching': 268.5527648925781, 'Gaming': 258.2983093261719, 'LowerStretching': 250.09918212890625, 'Walking': 270.0700378417969, 'Patting': 273.1227111816406, 'Talking': 232.37254333496094, 'Greeting': 264.5016174316406, 'Reacting': 254.34716796875, 'Gesticuling': 243.5576934814453}, 'UpperBody': {'All': 205.63809204101562, 'UpperStretching': 213.52635192871094, 'Gaming': 201.5280303955078, 'LowerStretching': 184.81045532226562, 'Walking': 202.41595458984375, 'Patting': 196.3917236328125, 'Talking': 203.9849090576172, 'Greeting': 216.6978302001953, 'Reacting': 201.5025634765625, 'Gesticuling': 181.6292724609375}, 'LowerBody': {'All': 322.1316833496094, 'UpperStretching': 323.5792236328125, 'Gaming': 315.0685729980469, 'LowerStretching': 315.387939453125, 'Walking': 337.72412109375, 'Patting': 349.8537902832031, 'Talking': 260.7602233886719, 'Greeting': 312.30548095703125, 'Reacting': 307.1917724609375, 'Gesticuling': 305.486083984375}}\n"
     ]
    },
    {
     "name": "stderr",
     "output_type": "stream",
     "text": [
      " 11%|█         | 600/5352 [03:31<27:31,  2.88it/s]"
     ]
    },
    {
     "name": "stdout",
     "output_type": "stream",
     "text": [
      "{'FullBody': {'All': 263.3296813964844, 'UpperStretching': 267.82611083984375, 'Gaming': 258.00640869140625, 'LowerStretching': 250.54379272460938, 'Walking': 269.0824890136719, 'Patting': 276.744384765625, 'Talking': 229.9598388671875, 'Greeting': 264.5514831542969, 'Reacting': 254.66876220703125, 'Gesticuling': 239.3464813232422}, 'UpperBody': {'All': 205.79293823242188, 'UpperStretching': 213.8208770751953, 'Gaming': 198.21212768554688, 'LowerStretching': 185.35853576660156, 'Walking': 201.98828125, 'Patting': 199.3822479248047, 'Talking': 200.39068603515625, 'Greeting': 216.6107635498047, 'Reacting': 200.3585968017578, 'Gesticuling': 185.21246337890625}, 'LowerBody': {'All': 320.8664245605469, 'UpperStretching': 321.8313293457031, 'Gaming': 317.8006896972656, 'LowerStretching': 315.72906494140625, 'Walking': 336.17669677734375, 'Patting': 354.1064453125, 'Talking': 259.52899169921875, 'Greeting': 312.49224853515625, 'Reacting': 308.9789123535156, 'Gesticuling': 293.4804992675781}}\n"
     ]
    },
    {
     "name": "stderr",
     "output_type": "stream",
     "text": [
      " 15%|█▍        | 800/5352 [04:41<26:21,  2.88it/s]"
     ]
    },
    {
     "name": "stdout",
     "output_type": "stream",
     "text": [
      "{'FullBody': {'All': 263.5206298828125, 'UpperStretching': 268.045654296875, 'Gaming': 261.7702331542969, 'LowerStretching': 251.24098205566406, 'Walking': 268.390869140625, 'Patting': 276.3197326660156, 'Talking': 230.95794677734375, 'Greeting': 268.1741943359375, 'Reacting': 252.1752471923828, 'Gesticuling': 238.92845153808594}, 'UpperBody': {'All': 205.96058654785156, 'UpperStretching': 213.97064208984375, 'Gaming': 200.37828063964844, 'LowerStretching': 185.85923767089844, 'Walking': 200.93235778808594, 'Patting': 197.83836364746094, 'Talking': 201.62322998046875, 'Greeting': 218.52459716796875, 'Reacting': 200.1583709716797, 'Gesticuling': 188.54884338378906}, 'LowerBody': {'All': 321.0806579589844, 'UpperStretching': 322.12066650390625, 'Gaming': 323.16217041015625, 'LowerStretching': 316.6227722167969, 'Walking': 335.8493957519531, 'Patting': 354.80108642578125, 'Talking': 260.2926940917969, 'Greeting': 317.8238220214844, 'Reacting': 304.1921691894531, 'Gesticuling': 289.3080139160156}}\n"
     ]
    },
    {
     "name": "stderr",
     "output_type": "stream",
     "text": [
      " 19%|█▊        | 1000/5352 [05:50<25:14,  2.87it/s]"
     ]
    },
    {
     "name": "stdout",
     "output_type": "stream",
     "text": [
      "{'FullBody': {'All': 263.36492919921875, 'UpperStretching': 267.9740295410156, 'Gaming': 262.7280578613281, 'LowerStretching': 250.69212341308594, 'Walking': 267.5318603515625, 'Patting': 277.98974609375, 'Talking': 233.4492645263672, 'Greeting': 264.8544616699219, 'Reacting': 252.30638122558594, 'Gesticuling': 240.99990844726562}, 'UpperBody': {'All': 205.7591552734375, 'UpperStretching': 213.74598693847656, 'Gaming': 200.50704956054688, 'LowerStretching': 185.48606872558594, 'Walking': 200.82284545898438, 'Patting': 198.1564483642578, 'Talking': 202.56707763671875, 'Greeting': 219.2120361328125, 'Reacting': 200.261962890625, 'Gesticuling': 189.36680603027344}, 'LowerBody': {'All': 320.9707336425781, 'UpperStretching': 322.2020568847656, 'Gaming': 324.94903564453125, 'LowerStretching': 315.8981628417969, 'Walking': 334.24090576171875, 'Patting': 357.8230285644531, 'Talking': 264.33148193359375, 'Greeting': 310.496826171875, 'Reacting': 304.3507995605469, 'Gesticuling': 292.63299560546875}}\n"
     ]
    },
    {
     "name": "stderr",
     "output_type": "stream",
     "text": [
      " 22%|██▏       | 1200/5352 [06:59<24:07,  2.87it/s]"
     ]
    },
    {
     "name": "stdout",
     "output_type": "stream",
     "text": [
      "{'FullBody': {'All': 263.0546569824219, 'UpperStretching': 267.8432312011719, 'Gaming': 263.4032287597656, 'LowerStretching': 250.06809997558594, 'Walking': 267.1222839355469, 'Patting': 277.9742736816406, 'Talking': 234.17698669433594, 'Greeting': 263.5268859863281, 'Reacting': 250.80848693847656, 'Gesticuling': 240.43930053710938}, 'UpperBody': {'All': 205.66738891601562, 'UpperStretching': 213.6942901611328, 'Gaming': 201.49560546875, 'LowerStretching': 185.5836181640625, 'Walking': 200.87054443359375, 'Patting': 197.0796356201172, 'Talking': 202.21791076660156, 'Greeting': 218.864013671875, 'Reacting': 200.0033721923828, 'Gesticuling': 189.06886291503906}, 'LowerBody': {'All': 320.4419250488281, 'UpperStretching': 321.9921569824219, 'Gaming': 325.3108825683594, 'LowerStretching': 314.5525817871094, 'Walking': 333.3740234375, 'Patting': 358.868896484375, 'Talking': 266.13604736328125, 'Greeting': 308.1897888183594, 'Reacting': 301.6136169433594, 'Gesticuling': 291.80975341796875}}\n"
     ]
    },
    {
     "name": "stderr",
     "output_type": "stream",
     "text": [
      " 26%|██▌       | 1400/5352 [08:09<23:00,  2.86it/s]"
     ]
    },
    {
     "name": "stdout",
     "output_type": "stream",
     "text": [
      "{'FullBody': {'All': 262.84686279296875, 'UpperStretching': 267.2522888183594, 'Gaming': 262.276611328125, 'LowerStretching': 250.85440063476562, 'Walking': 267.1997375488281, 'Patting': 277.6634216308594, 'Talking': 235.18991088867188, 'Greeting': 264.2099914550781, 'Reacting': 250.88571166992188, 'Gesticuling': 240.0726318359375}, 'UpperBody': {'All': 205.57736206054688, 'UpperStretching': 213.4141082763672, 'Gaming': 201.02989196777344, 'LowerStretching': 185.84002685546875, 'Walking': 201.15234375, 'Patting': 196.92967224121094, 'Talking': 200.7841033935547, 'Greeting': 218.31173706054688, 'Reacting': 199.64466857910156, 'Gesticuling': 190.77752685546875}, 'LowerBody': {'All': 320.1163635253906, 'UpperStretching': 321.0904541015625, 'Gaming': 323.5233154296875, 'LowerStretching': 315.8687744140625, 'Walking': 333.2471618652344, 'Patting': 358.3971862792969, 'Talking': 269.595703125, 'Greeting': 310.1083068847656, 'Reacting': 302.12677001953125, 'Gesticuling': 289.3677062988281}}\n"
     ]
    },
    {
     "name": "stderr",
     "output_type": "stream",
     "text": [
      " 30%|██▉       | 1600/5352 [09:18<21:49,  2.86it/s]"
     ]
    },
    {
     "name": "stdout",
     "output_type": "stream",
     "text": [
      "{'FullBody': {'All': 263.1293029785156, 'UpperStretching': 267.90716552734375, 'Gaming': 262.02386474609375, 'LowerStretching': 250.54856872558594, 'Walking': 267.3445129394531, 'Patting': 276.31024169921875, 'Talking': 234.14395141601562, 'Greeting': 262.7266845703125, 'Reacting': 250.1824188232422, 'Gesticuling': 240.78976440429688}, 'UpperBody': {'All': 205.6791229248047, 'UpperStretching': 213.7612762451172, 'Gaming': 201.3837890625, 'LowerStretching': 185.8305206298828, 'Walking': 201.07315063476562, 'Patting': 196.81143188476562, 'Talking': 200.1692352294922, 'Greeting': 217.95889282226562, 'Reacting': 199.38497924804688, 'Gesticuling': 189.00091552734375}, 'LowerBody': {'All': 320.5794982910156, 'UpperStretching': 322.052978515625, 'Gaming': 322.6639709472656, 'LowerStretching': 315.2666320800781, 'Walking': 333.61590576171875, 'Patting': 355.80908203125, 'Talking': 268.11865234375, 'Greeting': 307.49444580078125, 'Reacting': 300.9798583984375, 'Gesticuling': 292.57861328125}}\n"
     ]
    },
    {
     "name": "stderr",
     "output_type": "stream",
     "text": [
      " 34%|███▎      | 1800/5352 [10:28<20:41,  2.86it/s]"
     ]
    },
    {
     "name": "stdout",
     "output_type": "stream",
     "text": [
      "{'FullBody': {'All': 263.1965026855469, 'UpperStretching': 268.2662658691406, 'Gaming': 261.6867980957031, 'LowerStretching': 250.03265380859375, 'Walking': 266.7902526855469, 'Patting': 276.1884765625, 'Talking': 234.20518493652344, 'Greeting': 261.7730712890625, 'Reacting': 250.6709747314453, 'Gesticuling': 241.05792236328125}, 'UpperBody': {'All': 205.60304260253906, 'UpperStretching': 213.84567260742188, 'Gaming': 200.8896942138672, 'LowerStretching': 185.2100067138672, 'Walking': 201.00845336914062, 'Patting': 196.54034423828125, 'Talking': 200.47874450683594, 'Greeting': 218.3719940185547, 'Reacting': 200.022705078125, 'Gesticuling': 188.97537231445312}, 'LowerBody': {'All': 320.78997802734375, 'UpperStretching': 322.6867980957031, 'Gaming': 322.4839172363281, 'LowerStretching': 314.8553161621094, 'Walking': 332.5720520019531, 'Patting': 355.8365783691406, 'Talking': 267.931640625, 'Greeting': 305.1741638183594, 'Reacting': 301.3192443847656, 'Gesticuling': 293.14044189453125}}\n"
     ]
    },
    {
     "name": "stderr",
     "output_type": "stream",
     "text": [
      " 37%|███▋      | 2000/5352 [11:37<19:32,  2.86it/s]"
     ]
    },
    {
     "name": "stdout",
     "output_type": "stream",
     "text": [
      "{'FullBody': {'All': 263.0758056640625, 'UpperStretching': 268.03955078125, 'Gaming': 261.23004150390625, 'LowerStretching': 249.98936462402344, 'Walking': 267.1977233886719, 'Patting': 277.4891052246094, 'Talking': 233.60784912109375, 'Greeting': 261.60736083984375, 'Reacting': 250.7265625, 'Gesticuling': 241.5108184814453}, 'UpperBody': {'All': 205.4364776611328, 'UpperStretching': 213.72555541992188, 'Gaming': 200.87982177734375, 'LowerStretching': 185.0426025390625, 'Walking': 200.97006225585938, 'Patting': 196.7710723876953, 'Talking': 200.3270721435547, 'Greeting': 219.01406860351562, 'Reacting': 199.67819213867188, 'Gesticuling': 188.98959350585938}, 'LowerBody': {'All': 320.71514892578125, 'UpperStretching': 322.35357666015625, 'Gaming': 321.5802307128906, 'LowerStretching': 314.9361572265625, 'Walking': 333.4253845214844, 'Patting': 358.2071228027344, 'Talking': 266.8886413574219, 'Greeting': 304.2006530761719, 'Reacting': 301.77490234375, 'Gesticuling': 294.0321044921875}}\n"
     ]
    },
    {
     "name": "stderr",
     "output_type": "stream",
     "text": [
      " 41%|████      | 2200/5352 [12:46<18:21,  2.86it/s]"
     ]
    },
    {
     "name": "stdout",
     "output_type": "stream",
     "text": [
      "{'FullBody': {'All': 263.1668701171875, 'UpperStretching': 268.1846923828125, 'Gaming': 260.60113525390625, 'LowerStretching': 250.0826416015625, 'Walking': 267.3752746582031, 'Patting': 276.73419189453125, 'Talking': 233.04428100585938, 'Greeting': 261.08282470703125, 'Reacting': 250.1751708984375, 'Gesticuling': 241.47291564941406}, 'UpperBody': {'All': 205.4349365234375, 'UpperStretching': 213.65245056152344, 'Gaming': 201.31170654296875, 'LowerStretching': 185.07383728027344, 'Walking': 200.8965606689453, 'Patting': 196.58197021484375, 'Talking': 200.7726287841797, 'Greeting': 218.04307556152344, 'Reacting': 199.87911987304688, 'Gesticuling': 189.35870361328125}, 'LowerBody': {'All': 320.8987731933594, 'UpperStretching': 322.7169189453125, 'Gaming': 319.8905334472656, 'LowerStretching': 315.09149169921875, 'Walking': 333.85400390625, 'Patting': 356.8863830566406, 'Talking': 265.3159484863281, 'Greeting': 304.12261962890625, 'Reacting': 300.47119140625, 'Gesticuling': 293.5871276855469}}\n"
     ]
    },
    {
     "name": "stderr",
     "output_type": "stream",
     "text": [
      " 45%|████▍     | 2400/5352 [13:55<17:17,  2.85it/s]"
     ]
    },
    {
     "name": "stdout",
     "output_type": "stream",
     "text": [
      "{'FullBody': {'All': 263.006103515625, 'UpperStretching': 268.0921936035156, 'Gaming': 259.84954833984375, 'LowerStretching': 249.7588653564453, 'Walking': 267.1248779296875, 'Patting': 277.00909423828125, 'Talking': 232.87550354003906, 'Greeting': 262.5847473144531, 'Reacting': 250.02166748046875, 'Gesticuling': 241.20050048828125}, 'UpperBody': {'All': 205.44703674316406, 'UpperStretching': 213.6189727783203, 'Gaming': 202.04066467285156, 'LowerStretching': 184.9741668701172, 'Walking': 201.05523681640625, 'Patting': 196.891845703125, 'Talking': 200.6797637939453, 'Greeting': 218.04046630859375, 'Reacting': 199.90016174316406, 'Gesticuling': 189.41285705566406}, 'LowerBody': {'All': 320.5651550292969, 'UpperStretching': 322.5653991699219, 'Gaming': 317.6584167480469, 'LowerStretching': 314.5435485839844, 'Walking': 333.19451904296875, 'Patting': 357.1263122558594, 'Talking': 265.07122802734375, 'Greeting': 307.1290283203125, 'Reacting': 300.1431579589844, 'Gesticuling': 292.98809814453125}}\n"
     ]
    },
    {
     "name": "stderr",
     "output_type": "stream",
     "text": [
      " 49%|████▊     | 2600/5352 [15:05<15:58,  2.87it/s]"
     ]
    },
    {
     "name": "stdout",
     "output_type": "stream",
     "text": [
      "{'FullBody': {'All': 262.93682861328125, 'UpperStretching': 268.0015869140625, 'Gaming': 259.4989318847656, 'LowerStretching': 249.6107940673828, 'Walking': 267.13958740234375, 'Patting': 276.4422607421875, 'Talking': 232.4867401123047, 'Greeting': 262.86614990234375, 'Reacting': 250.52182006835938, 'Gesticuling': 241.23854064941406}, 'UpperBody': {'All': 205.54612731933594, 'UpperStretching': 213.78045654296875, 'Gaming': 201.64076232910156, 'LowerStretching': 184.8777313232422, 'Walking': 200.89112854003906, 'Patting': 196.9090118408203, 'Talking': 200.91676330566406, 'Greeting': 218.2438201904297, 'Reacting': 200.32733154296875, 'Gesticuling': 189.3411865234375}, 'LowerBody': {'All': 320.3274841308594, 'UpperStretching': 322.2226867675781, 'Gaming': 317.35711669921875, 'LowerStretching': 314.3438720703125, 'Walking': 333.3880310058594, 'Patting': 355.9754638671875, 'Talking': 264.0567321777344, 'Greeting': 307.488525390625, 'Reacting': 300.7163391113281, 'Gesticuling': 293.1358947753906}}\n"
     ]
    },
    {
     "name": "stderr",
     "output_type": "stream",
     "text": [
      " 52%|█████▏    | 2800/5352 [16:14<14:55,  2.85it/s]"
     ]
    },
    {
     "name": "stdout",
     "output_type": "stream",
     "text": [
      "{'FullBody': {'All': 262.9178466796875, 'UpperStretching': 267.978271484375, 'Gaming': 258.4325256347656, 'LowerStretching': 249.80587768554688, 'Walking': 267.09375, 'Patting': 275.7716064453125, 'Talking': 232.45193481445312, 'Greeting': 262.8946838378906, 'Reacting': 250.74111938476562, 'Gesticuling': 241.15170288085938}, 'UpperBody': {'All': 205.6139678955078, 'UpperStretching': 213.91012573242188, 'Gaming': 201.2792510986328, 'LowerStretching': 184.83380126953125, 'Walking': 200.86126708984375, 'Patting': 197.15921020507812, 'Talking': 201.88677978515625, 'Greeting': 217.66258239746094, 'Reacting': 200.59817504882812, 'Gesticuling': 188.71629333496094}, 'LowerBody': {'All': 320.2217102050781, 'UpperStretching': 322.0463562011719, 'Gaming': 315.58575439453125, 'LowerStretching': 314.7779846191406, 'Walking': 333.3262023925781, 'Patting': 354.384033203125, 'Talking': 263.01715087890625, 'Greeting': 308.126708984375, 'Reacting': 300.8840637207031, 'Gesticuling': 293.5871276855469}}\n"
     ]
    },
    {
     "name": "stderr",
     "output_type": "stream",
     "text": [
      " 56%|█████▌    | 3000/5352 [17:23<13:47,  2.84it/s]"
     ]
    },
    {
     "name": "stdout",
     "output_type": "stream",
     "text": [
      "{'FullBody': {'All': 262.8818054199219, 'UpperStretching': 267.80670166015625, 'Gaming': 259.1893615722656, 'LowerStretching': 250.29808044433594, 'Walking': 266.94244384765625, 'Patting': 276.4282531738281, 'Talking': 231.94281005859375, 'Greeting': 262.71368408203125, 'Reacting': 250.8553924560547, 'Gesticuling': 240.64553833007812}, 'UpperBody': {'All': 205.51231384277344, 'UpperStretching': 213.79412841796875, 'Gaming': 200.36851501464844, 'LowerStretching': 184.98216247558594, 'Walking': 200.67141723632812, 'Patting': 197.38848876953125, 'Talking': 201.3330841064453, 'Greeting': 217.64068603515625, 'Reacting': 200.64488220214844, 'Gesticuling': 189.0828399658203}, 'LowerBody': {'All': 320.25128173828125, 'UpperStretching': 321.8192138671875, 'Gaming': 318.01019287109375, 'LowerStretching': 315.614013671875, 'Walking': 333.2135314941406, 'Patting': 355.468017578125, 'Talking': 262.5525817871094, 'Greeting': 307.7866516113281, 'Reacting': 301.06585693359375, 'Gesticuling': 292.20819091796875}}\n"
     ]
    },
    {
     "name": "stderr",
     "output_type": "stream",
     "text": [
      " 60%|█████▉    | 3200/5352 [18:33<12:39,  2.83it/s]"
     ]
    },
    {
     "name": "stdout",
     "output_type": "stream",
     "text": [
      "{'FullBody': {'All': 262.9912109375, 'UpperStretching': 268.0057373046875, 'Gaming': 258.86029052734375, 'LowerStretching': 250.6359100341797, 'Walking': 266.6522521972656, 'Patting': 276.4086608886719, 'Talking': 231.15908813476562, 'Greeting': 262.7669372558594, 'Reacting': 250.9564971923828, 'Gesticuling': 240.22271728515625}, 'UpperBody': {'All': 205.50701904296875, 'UpperStretching': 213.7670135498047, 'Gaming': 201.00694274902344, 'LowerStretching': 185.02427673339844, 'Walking': 200.7096710205078, 'Patting': 196.96798706054688, 'Talking': 201.51058959960938, 'Greeting': 217.55810546875, 'Reacting': 200.8743438720703, 'Gesticuling': 189.46746826171875}, 'LowerBody': {'All': 320.4754333496094, 'UpperStretching': 322.2444152832031, 'Gaming': 316.713623046875, 'LowerStretching': 316.2475280761719, 'Walking': 332.5948181152344, 'Patting': 355.84930419921875, 'Talking': 260.80755615234375, 'Greeting': 307.9757995605469, 'Reacting': 301.0386962890625, 'Gesticuling': 290.97796630859375}}\n"
     ]
    },
    {
     "name": "stderr",
     "output_type": "stream",
     "text": [
      " 64%|██████▎   | 3400/5352 [19:42<11:25,  2.85it/s]"
     ]
    },
    {
     "name": "stdout",
     "output_type": "stream",
     "text": [
      "{'FullBody': {'All': 262.9187927246094, 'UpperStretching': 267.9128112792969, 'Gaming': 258.3639221191406, 'LowerStretching': 250.6936492919922, 'Walking': 266.7496337890625, 'Patting': 276.2987060546875, 'Talking': 231.25494384765625, 'Greeting': 262.4918518066406, 'Reacting': 251.08326721191406, 'Gesticuling': 240.04409790039062}, 'UpperBody': {'All': 205.45779418945312, 'UpperStretching': 213.73992919921875, 'Gaming': 201.23300170898438, 'LowerStretching': 185.04310607910156, 'Walking': 200.62754821777344, 'Patting': 196.7872314453125, 'Talking': 201.41957092285156, 'Greeting': 217.38023376464844, 'Reacting': 200.77459716796875, 'Gesticuling': 189.42169189453125}, 'LowerBody': {'All': 320.37982177734375, 'UpperStretching': 322.0857238769531, 'Gaming': 315.494873046875, 'LowerStretching': 316.3441467285156, 'Walking': 332.8717041015625, 'Patting': 355.81011962890625, 'Talking': 261.09033203125, 'Greeting': 307.6034851074219, 'Reacting': 301.3919372558594, 'Gesticuling': 290.66650390625}}\n"
     ]
    },
    {
     "name": "stderr",
     "output_type": "stream",
     "text": [
      " 67%|██████▋   | 3600/5352 [20:52<10:18,  2.83it/s]"
     ]
    },
    {
     "name": "stdout",
     "output_type": "stream",
     "text": [
      "{'FullBody': {'All': 263.13818359375, 'UpperStretching': 268.1402587890625, 'Gaming': 258.3731689453125, 'LowerStretching': 250.77821350097656, 'Walking': 267.1646728515625, 'Patting': 277.6236877441406, 'Talking': 231.3129425048828, 'Greeting': 262.1665344238281, 'Reacting': 250.9942626953125, 'Gesticuling': 240.13900756835938}, 'UpperBody': {'All': 205.45411682128906, 'UpperStretching': 213.76829528808594, 'Gaming': 200.93455505371094, 'LowerStretching': 185.0084686279297, 'Walking': 200.65628051757812, 'Patting': 196.25515747070312, 'Talking': 201.0800323486328, 'Greeting': 217.6656036376953, 'Reacting': 200.63340759277344, 'Gesticuling': 189.42559814453125}, 'LowerBody': {'All': 320.8222351074219, 'UpperStretching': 322.5121765136719, 'Gaming': 315.8118591308594, 'LowerStretching': 316.5479431152344, 'Walking': 333.6730041503906, 'Patting': 358.99224853515625, 'Talking': 261.5458679199219, 'Greeting': 306.66748046875, 'Reacting': 301.3551025390625, 'Gesticuling': 290.85235595703125}}\n"
     ]
    },
    {
     "name": "stderr",
     "output_type": "stream",
     "text": [
      " 71%|███████   | 3800/5352 [22:01<09:06,  2.84it/s]"
     ]
    },
    {
     "name": "stdout",
     "output_type": "stream",
     "text": [
      "{'FullBody': {'All': 263.142822265625, 'UpperStretching': 268.09130859375, 'Gaming': 258.8504333496094, 'LowerStretching': 250.8292236328125, 'Walking': 267.1849365234375, 'Patting': 278.1551208496094, 'Talking': 231.23870849609375, 'Greeting': 262.3761901855469, 'Reacting': 251.15989685058594, 'Gesticuling': 240.10292053222656}, 'UpperBody': {'All': 205.49285888671875, 'UpperStretching': 213.774658203125, 'Gaming': 201.76429748535156, 'LowerStretching': 185.03062438964844, 'Walking': 200.64898681640625, 'Patting': 196.28135681152344, 'Talking': 201.350830078125, 'Greeting': 217.569580078125, 'Reacting': 200.71487426757812, 'Gesticuling': 189.49447631835938}, 'LowerBody': {'All': 320.7926940917969, 'UpperStretching': 322.40789794921875, 'Gaming': 315.93658447265625, 'LowerStretching': 316.6277770996094, 'Walking': 333.7208557128906, 'Patting': 360.0288391113281, 'Talking': 261.1265869140625, 'Greeting': 307.182861328125, 'Reacting': 301.6048889160156, 'Gesticuling': 290.7113952636719}}\n"
     ]
    },
    {
     "name": "stderr",
     "output_type": "stream",
     "text": [
      " 75%|███████▍  | 4000/5352 [23:10<07:56,  2.84it/s]"
     ]
    },
    {
     "name": "stdout",
     "output_type": "stream",
     "text": [
      "{'FullBody': {'All': 263.1371765136719, 'UpperStretching': 268.1553955078125, 'Gaming': 259.05908203125, 'LowerStretching': 250.63763427734375, 'Walking': 266.9272766113281, 'Patting': 278.68365478515625, 'Talking': 231.75933837890625, 'Greeting': 261.93609619140625, 'Reacting': 251.2239227294922, 'Gesticuling': 240.08375549316406}, 'UpperBody': {'All': 205.47869873046875, 'UpperStretching': 213.76254272460938, 'Gaming': 201.5281982421875, 'LowerStretching': 185.0360107421875, 'Walking': 200.46823120117188, 'Patting': 196.69406127929688, 'Talking': 201.6631622314453, 'Greeting': 217.815185546875, 'Reacting': 200.96607971191406, 'Gesticuling': 189.46034240722656}, 'LowerBody': {'All': 320.7956848144531, 'UpperStretching': 322.54815673828125, 'Gaming': 316.59002685546875, 'LowerStretching': 316.2392578125, 'Walking': 333.3863525390625, 'Patting': 360.6732482910156, 'Talking': 261.8554992675781, 'Greeting': 306.0570068359375, 'Reacting': 301.48175048828125, 'Gesticuling': 290.7071533203125}}\n"
     ]
    },
    {
     "name": "stderr",
     "output_type": "stream",
     "text": [
      " 78%|███████▊  | 4200/5352 [24:20<06:46,  2.84it/s]"
     ]
    },
    {
     "name": "stdout",
     "output_type": "stream",
     "text": [
      "{'FullBody': {'All': 263.1100769042969, 'UpperStretching': 268.15594482421875, 'Gaming': 259.10595703125, 'LowerStretching': 250.55160522460938, 'Walking': 266.8804931640625, 'Patting': 278.2831115722656, 'Talking': 232.2103729248047, 'Greeting': 261.81524658203125, 'Reacting': 251.0231170654297, 'Gesticuling': 240.28189086914062}, 'UpperBody': {'All': 205.48606872558594, 'UpperStretching': 213.7677764892578, 'Gaming': 201.56936645507812, 'LowerStretching': 185.0314483642578, 'Walking': 200.58261108398438, 'Patting': 196.31703186035156, 'Talking': 201.8543701171875, 'Greeting': 217.5770263671875, 'Reacting': 200.93601989746094, 'Gesticuling': 189.77487182617188}, 'LowerBody': {'All': 320.73406982421875, 'UpperStretching': 322.5440979003906, 'Gaming': 316.64251708984375, 'LowerStretching': 316.07177734375, 'Walking': 333.1783752441406, 'Patting': 360.2491455078125, 'Talking': 262.5663757324219, 'Greeting': 306.053466796875, 'Reacting': 301.11016845703125, 'Gesticuling': 290.7889099121094}}\n"
     ]
    },
    {
     "name": "stderr",
     "output_type": "stream",
     "text": [
      " 82%|████████▏ | 4400/5352 [25:29<05:36,  2.83it/s]"
     ]
    },
    {
     "name": "stdout",
     "output_type": "stream",
     "text": [
      "{'FullBody': {'All': 263.0458984375, 'UpperStretching': 268.09820556640625, 'Gaming': 259.053466796875, 'LowerStretching': 250.54920959472656, 'Walking': 266.7255554199219, 'Patting': 278.03411865234375, 'Talking': 232.5869598388672, 'Greeting': 260.920654296875, 'Reacting': 251.2011260986328, 'Gesticuling': 240.1481475830078}, 'UpperBody': {'All': 205.43899536132812, 'UpperStretching': 213.7205810546875, 'Gaming': 201.88833618164062, 'LowerStretching': 184.92385864257812, 'Walking': 200.51622009277344, 'Patting': 196.84584045410156, 'Talking': 201.87771606445312, 'Greeting': 217.89598083496094, 'Reacting': 201.04063415527344, 'Gesticuling': 189.69700622558594}, 'LowerBody': {'All': 320.65283203125, 'UpperStretching': 322.4757385253906, 'Gaming': 316.21856689453125, 'LowerStretching': 316.174560546875, 'Walking': 332.9348449707031, 'Patting': 359.222412109375, 'Talking': 263.2962341308594, 'Greeting': 303.9453125, 'Reacting': 301.361572265625, 'Gesticuling': 290.59930419921875}}\n"
     ]
    },
    {
     "name": "stderr",
     "output_type": "stream",
     "text": [
      " 86%|████████▌ | 4600/5352 [26:38<04:26,  2.82it/s]"
     ]
    },
    {
     "name": "stdout",
     "output_type": "stream",
     "text": [
      "{'FullBody': {'All': 263.0196533203125, 'UpperStretching': 268.0350036621094, 'Gaming': 259.0760192871094, 'LowerStretching': 250.6412353515625, 'Walking': 266.74798583984375, 'Patting': 278.35888671875, 'Talking': 232.28952026367188, 'Greeting': 261.96142578125, 'Reacting': 250.81394958496094, 'Gesticuling': 240.091064453125}, 'UpperBody': {'All': 205.3977508544922, 'UpperStretching': 213.66168212890625, 'Gaming': 201.9683837890625, 'LowerStretching': 184.93267822265625, 'Walking': 200.4886474609375, 'Patting': 196.7830810546875, 'Talking': 201.7157745361328, 'Greeting': 218.3295135498047, 'Reacting': 200.941650390625, 'Gesticuling': 189.5620880126953}, 'LowerBody': {'All': 320.6415100097656, 'UpperStretching': 322.40826416015625, 'Gaming': 316.1837158203125, 'LowerStretching': 316.34979248046875, 'Walking': 333.00732421875, 'Patting': 359.9346923828125, 'Talking': 262.8632507324219, 'Greeting': 305.5932922363281, 'Reacting': 300.686279296875, 'Gesticuling': 290.6200256347656}}\n"
     ]
    },
    {
     "name": "stderr",
     "output_type": "stream",
     "text": [
      " 90%|████████▉ | 4800/5352 [27:48<03:15,  2.82it/s]"
     ]
    },
    {
     "name": "stdout",
     "output_type": "stream",
     "text": [
      "{'FullBody': {'All': 263.09228515625, 'UpperStretching': 268.1814270019531, 'Gaming': 258.8742370605469, 'LowerStretching': 250.52627563476562, 'Walking': 266.8637390136719, 'Patting': 277.92510986328125, 'Talking': 232.0333251953125, 'Greeting': 261.8653564453125, 'Reacting': 251.12840270996094, 'Gesticuling': 240.0956573486328}, 'UpperBody': {'All': 205.3907012939453, 'UpperStretching': 213.67950439453125, 'Gaming': 202.21238708496094, 'LowerStretching': 184.83018493652344, 'Walking': 200.56329345703125, 'Patting': 196.79884338378906, 'Talking': 201.604736328125, 'Greeting': 217.96511840820312, 'Reacting': 201.23007202148438, 'Gesticuling': 189.57640075683594}, 'LowerBody': {'All': 320.7938232421875, 'UpperStretching': 322.6832580566406, 'Gaming': 315.5361633300781, 'LowerStretching': 316.2223205566406, 'Walking': 333.1641845703125, 'Patting': 359.05133056640625, 'Talking': 262.4619445800781, 'Greeting': 305.76556396484375, 'Reacting': 301.0267333984375, 'Gesticuling': 290.61492919921875}}\n"
     ]
    },
    {
     "name": "stderr",
     "output_type": "stream",
     "text": [
      " 93%|█████████▎| 5000/5352 [28:57<02:05,  2.82it/s]"
     ]
    },
    {
     "name": "stdout",
     "output_type": "stream",
     "text": [
      "{'FullBody': {'All': 263.094970703125, 'UpperStretching': 268.18792724609375, 'Gaming': 258.91131591796875, 'LowerStretching': 250.46263122558594, 'Walking': 266.97369384765625, 'Patting': 278.07171630859375, 'Talking': 232.12216186523438, 'Greeting': 261.83184814453125, 'Reacting': 251.22299194335938, 'Gesticuling': 239.8455047607422}, 'UpperBody': {'All': 205.44093322753906, 'UpperStretching': 213.73497009277344, 'Gaming': 202.37571716308594, 'LowerStretching': 184.87628173828125, 'Walking': 200.57650756835938, 'Patting': 196.7753448486328, 'Talking': 201.58828735351562, 'Greeting': 218.2809295654297, 'Reacting': 201.61264038085938, 'Gesticuling': 189.62225341796875}, 'LowerBody': {'All': 320.74896240234375, 'UpperStretching': 322.64080810546875, 'Gaming': 315.4468994140625, 'LowerStretching': 316.0489501953125, 'Walking': 333.370849609375, 'Patting': 359.3680725097656, 'Talking': 262.65606689453125, 'Greeting': 305.38275146484375, 'Reacting': 300.8333740234375, 'Gesticuling': 290.0687561035156}}\n"
     ]
    },
    {
     "name": "stderr",
     "output_type": "stream",
     "text": [
      " 97%|█████████▋| 5200/5352 [30:07<00:53,  2.82it/s]"
     ]
    },
    {
     "name": "stdout",
     "output_type": "stream",
     "text": [
      "{'FullBody': {'All': 263.1081848144531, 'UpperStretching': 268.1471862792969, 'Gaming': 258.80511474609375, 'LowerStretching': 250.5699920654297, 'Walking': 267.1608581542969, 'Patting': 277.75341796875, 'Talking': 232.23170471191406, 'Greeting': 262.05914306640625, 'Reacting': 251.22555541992188, 'Gesticuling': 239.83714294433594}, 'UpperBody': {'All': 205.42572021484375, 'UpperStretching': 213.6778106689453, 'Gaming': 202.02894592285156, 'LowerStretching': 184.91769409179688, 'Walking': 200.6355438232422, 'Patting': 197.00169372558594, 'Talking': 201.6253662109375, 'Greeting': 218.30296325683594, 'Reacting': 201.7427215576172, 'Gesticuling': 189.64215087890625}, 'LowerBody': {'All': 320.79058837890625, 'UpperStretching': 322.61651611328125, 'Gaming': 315.581298828125, 'LowerStretching': 316.2222900390625, 'Walking': 333.6861267089844, 'Patting': 358.5051574707031, 'Talking': 262.8380126953125, 'Greeting': 305.8153076171875, 'Reacting': 300.70843505859375, 'Gesticuling': 290.0321350097656}}\n"
     ]
    },
    {
     "name": "stderr",
     "output_type": "stream",
     "text": [
      "100%|██████████| 5352/5352 [30:59<00:00,  2.88it/s]\n",
      "\u001b[94m08:57:23 \u001b[92m[INFO]\u001b[94m Main\u001b[0m: Saving evaluation results...\n",
      "\u001b[94m08:57:23 \u001b[92m[INFO]\u001b[94m Main\u001b[0m: Done.\n",
      "\u001b[94m08:57:23 \u001b[92m[INFO]\u001b[94m Main\u001b[0m: Starting demo...\n",
      "  0%|          | 0/5352 [00:00<?, ?it/s]/opt/conda/lib/python3.10/site-packages/torchvision/transforms/transforms.py:329: UserWarning: Argument 'interpolation' of type int is deprecated since 0.13 and will be removed in 0.15. Please use InterpolationMode enum.\n",
      "  warnings.warn(\n",
      "/opt/conda/lib/python3.10/site-packages/torchvision/transforms/transforms.py:329: UserWarning: Argument 'interpolation' of type int is deprecated since 0.13 and will be removed in 0.15. Please use InterpolationMode enum.\n",
      "  warnings.warn(\n",
      "/opt/conda/lib/python3.10/site-packages/torchvision/transforms/transforms.py:329: UserWarning: Argument 'interpolation' of type int is deprecated since 0.13 and will be removed in 0.15. Please use InterpolationMode enum.\n",
      "  warnings.warn(\n",
      "/opt/conda/lib/python3.10/site-packages/torchvision/transforms/transforms.py:329: UserWarning: Argument 'interpolation' of type int is deprecated since 0.13 and will be removed in 0.15. Please use InterpolationMode enum.\n",
      "  warnings.warn(\n",
      "/opt/conda/lib/python3.10/site-packages/torchvision/transforms/transforms.py:329: UserWarning: Argument 'interpolation' of type int is deprecated since 0.13 and will be removed in 0.15. Please use InterpolationMode enum.\n",
      "  warnings.warn(\n",
      "/opt/conda/lib/python3.10/site-packages/torchvision/transforms/transforms.py:329: UserWarning: Argument 'interpolation' of type int is deprecated since 0.13 and will be removed in 0.15. Please use InterpolationMode enum.\n",
      "  warnings.warn(\n",
      "/opt/conda/lib/python3.10/site-packages/torchvision/transforms/transforms.py:329: UserWarning: Argument 'interpolation' of type int is deprecated since 0.13 and will be removed in 0.15. Please use InterpolationMode enum.\n",
      "  warnings.warn(\n",
      "/opt/conda/lib/python3.10/site-packages/torchvision/transforms/transforms.py:329: UserWarning: Argument 'interpolation' of type int is deprecated since 0.13 and will be removed in 0.15. Please use InterpolationMode enum.\n",
      "  warnings.warn(\n",
      "/opt/conda/lib/python3.10/site-packages/torchvision/transforms/transforms.py:329: UserWarning: Argument 'interpolation' of type int is deprecated since 0.13 and will be removed in 0.15. Please use InterpolationMode enum.\n",
      "  warnings.warn(\n",
      "/opt/conda/lib/python3.10/site-packages/torchvision/transforms/transforms.py:329: UserWarning: Argument 'interpolation' of type int is deprecated since 0.13 and will be removed in 0.15. Please use InterpolationMode enum.\n",
      "  warnings.warn(\n",
      "/opt/conda/lib/python3.10/site-packages/torchvision/transforms/transforms.py:329: UserWarning: Argument 'interpolation' of type int is deprecated since 0.13 and will be removed in 0.15. Please use InterpolationMode enum.\n",
      "  warnings.warn(\n",
      "/opt/conda/lib/python3.10/site-packages/torchvision/transforms/transforms.py:329: UserWarning: Argument 'interpolation' of type int is deprecated since 0.13 and will be removed in 0.15. Please use InterpolationMode enum.\n",
      "  warnings.warn(\n",
      "/opt/conda/lib/python3.10/site-packages/torchvision/transforms/transforms.py:329: UserWarning: Argument 'interpolation' of type int is deprecated since 0.13 and will be removed in 0.15. Please use InterpolationMode enum.\n",
      "  warnings.warn(\n",
      "/opt/conda/lib/python3.10/site-packages/torchvision/transforms/transforms.py:329: UserWarning: Argument 'interpolation' of type int is deprecated since 0.13 and will be removed in 0.15. Please use InterpolationMode enum.\n",
      "  warnings.warn(\n",
      "/opt/conda/lib/python3.10/site-packages/torchvision/transforms/transforms.py:329: UserWarning: Argument 'interpolation' of type int is deprecated since 0.13 and will be removed in 0.15. Please use InterpolationMode enum.\n",
      "  warnings.warn(\n",
      "/opt/conda/lib/python3.10/site-packages/torchvision/transforms/transforms.py:329: UserWarning: Argument 'interpolation' of type int is deprecated since 0.13 and will be removed in 0.15. Please use InterpolationMode enum.\n",
      "  warnings.warn(\n",
      "/opt/conda/lib/python3.10/site-packages/torchvision/transforms/transforms.py:329: UserWarning: Argument 'interpolation' of type int is deprecated since 0.13 and will be removed in 0.15. Please use InterpolationMode enum.\n",
      "  warnings.warn(\n",
      "/opt/conda/lib/python3.10/site-packages/torchvision/transforms/transforms.py:329: UserWarning: Argument 'interpolation' of type int is deprecated since 0.13 and will be removed in 0.15. Please use InterpolationMode enum.\n",
      "  warnings.warn(\n",
      "/opt/conda/lib/python3.10/site-packages/torchvision/transforms/transforms.py:329: UserWarning: Argument 'interpolation' of type int is deprecated since 0.13 and will be removed in 0.15. Please use InterpolationMode enum.\n",
      "  warnings.warn(\n",
      "/opt/conda/lib/python3.10/site-packages/torchvision/transforms/transforms.py:329: UserWarning: Argument 'interpolation' of type int is deprecated since 0.13 and will be removed in 0.15. Please use InterpolationMode enum.\n",
      "  warnings.warn(\n",
      "/opt/conda/lib/python3.10/site-packages/torchvision/transforms/transforms.py:329: UserWarning: Argument 'interpolation' of type int is deprecated since 0.13 and will be removed in 0.15. Please use InterpolationMode enum.\n",
      "  warnings.warn(\n",
      "/opt/conda/lib/python3.10/site-packages/torchvision/transforms/transforms.py:329: UserWarning: Argument 'interpolation' of type int is deprecated since 0.13 and will be removed in 0.15. Please use InterpolationMode enum.\n",
      "  warnings.warn(\n",
      "/opt/conda/lib/python3.10/site-packages/torchvision/transforms/transforms.py:329: UserWarning: Argument 'interpolation' of type int is deprecated since 0.13 and will be removed in 0.15. Please use InterpolationMode enum.\n",
      "  warnings.warn(\n",
      "/opt/conda/lib/python3.10/site-packages/torchvision/transforms/transforms.py:329: UserWarning: Argument 'interpolation' of type int is deprecated since 0.13 and will be removed in 0.15. Please use InterpolationMode enum.\n",
      "  warnings.warn(\n",
      "  4%|▎         | 200/5352 [01:13<29:33,  2.90it/s]"
     ]
    },
    {
     "name": "stdout",
     "output_type": "stream",
     "text": [
      "{'FullBody': {'All': 140.2655487060547, 'UpperStretching': 142.48245239257812, 'LowerStretching': 142.2253875732422, 'Walking': 141.57647705078125, 'Talking': 112.41790771484375, 'Greeting': 110.78411865234375, 'Gaming': 135.7307586669922, 'Patting': 142.31300354003906, 'Reacting': 129.54258728027344, 'Gesticuling': 106.46207427978516}, 'UpperBody': {'All': 120.85136413574219, 'UpperStretching': 129.88877868652344, 'LowerStretching': 104.66778564453125, 'Walking': 111.72461700439453, 'Talking': 101.45032501220703, 'Greeting': 95.2928695678711, 'Gaming': 114.8800048828125, 'Patting': 116.05805206298828, 'Reacting': 118.19784545898438, 'Gesticuling': 105.13709259033203}, 'LowerBody': {'All': 159.6797332763672, 'UpperStretching': 155.07608032226562, 'LowerStretching': 179.78302001953125, 'Walking': 171.42832946777344, 'Talking': 123.38549041748047, 'Greeting': 126.2753677368164, 'Gaming': 156.58151245117188, 'Patting': 168.5679473876953, 'Reacting': 140.88734436035156, 'Gesticuling': 107.78706359863281}}\n"
     ]
    },
    {
     "name": "stderr",
     "output_type": "stream",
     "text": [
      "  7%|▋         | 400/5352 [02:22<28:29,  2.90it/s]"
     ]
    },
    {
     "name": "stdout",
     "output_type": "stream",
     "text": [
      "{'FullBody': {'All': 141.47174072265625, 'UpperStretching': 144.5068817138672, 'LowerStretching': 144.59231567382812, 'Walking': 140.7229461669922, 'Talking': 112.61115264892578, 'Greeting': 107.28408813476562, 'Gaming': 129.85980224609375, 'Patting': 143.21778869628906, 'Reacting': 130.23313903808594, 'Gesticuling': 104.80802154541016}, 'UpperBody': {'All': 121.77863311767578, 'UpperStretching': 131.50482177734375, 'LowerStretching': 105.76734924316406, 'Walking': 111.42485809326172, 'Talking': 98.36859893798828, 'Greeting': 93.90762329101562, 'Gaming': 108.40380859375, 'Patting': 117.0948257446289, 'Reacting': 118.1120834350586, 'Gesticuling': 104.43267059326172}, 'LowerBody': {'All': 161.16485595703125, 'UpperStretching': 157.50894165039062, 'LowerStretching': 183.41729736328125, 'Walking': 170.02102661132812, 'Talking': 126.85370635986328, 'Greeting': 120.6605453491211, 'Gaming': 151.31578063964844, 'Patting': 169.34078979492188, 'Reacting': 142.3542022705078, 'Gesticuling': 105.18335723876953}}\n"
     ]
    },
    {
     "name": "stderr",
     "output_type": "stream",
     "text": [
      " 11%|█         | 600/5352 [03:31<27:38,  2.87it/s]"
     ]
    },
    {
     "name": "stdout",
     "output_type": "stream",
     "text": [
      "{'FullBody': {'All': 141.84539794921875, 'UpperStretching': 145.00376892089844, 'LowerStretching': 145.1650390625, 'Walking': 141.5860137939453, 'Talking': 113.13243865966797, 'Greeting': 104.33850860595703, 'Gaming': 127.11554718017578, 'Patting': 140.2424774169922, 'Reacting': 130.78118896484375, 'Gesticuling': 104.86128234863281}, 'UpperBody': {'All': 121.56717681884766, 'UpperStretching': 131.3375701904297, 'LowerStretching': 106.22785949707031, 'Walking': 111.52464294433594, 'Talking': 98.90734100341797, 'Greeting': 92.23580932617188, 'Gaming': 105.82457733154297, 'Patting': 113.72887420654297, 'Reacting': 117.27210998535156, 'Gesticuling': 104.99236297607422}, 'LowerBody': {'All': 162.12362670898438, 'UpperStretching': 158.6699676513672, 'LowerStretching': 184.1022186279297, 'Walking': 171.64736938476562, 'Talking': 127.35755920410156, 'Greeting': 116.44122314453125, 'Gaming': 148.40652465820312, 'Patting': 166.75604248046875, 'Reacting': 144.29026794433594, 'Gesticuling': 104.73019409179688}}\n"
     ]
    },
    {
     "name": "stderr",
     "output_type": "stream",
     "text": [
      " 15%|█▍        | 800/5352 [04:40<26:25,  2.87it/s]"
     ]
    },
    {
     "name": "stdout",
     "output_type": "stream",
     "text": [
      "{'FullBody': {'All': 142.299072265625, 'UpperStretching': 145.4927215576172, 'LowerStretching': 144.96084594726562, 'Walking': 142.64508056640625, 'Talking': 113.78358459472656, 'Greeting': 105.31021118164062, 'Gaming': 127.53422546386719, 'Patting': 138.76614379882812, 'Reacting': 131.24119567871094, 'Gesticuling': 103.28809356689453}, 'UpperBody': {'All': 121.92739868164062, 'UpperStretching': 131.63182067871094, 'LowerStretching': 106.01983642578125, 'Walking': 112.44010925292969, 'Talking': 99.23385620117188, 'Greeting': 92.51346588134766, 'Gaming': 105.49298858642578, 'Patting': 113.02791595458984, 'Reacting': 117.40679168701172, 'Gesticuling': 102.70733642578125}, 'LowerBody': {'All': 162.67074584960938, 'UpperStretching': 159.3536376953125, 'LowerStretching': 183.90187072753906, 'Walking': 172.8500213623047, 'Talking': 128.3332977294922, 'Greeting': 118.10697174072266, 'Gaming': 149.57546997070312, 'Patting': 164.50436401367188, 'Reacting': 145.07559204101562, 'Gesticuling': 103.86885070800781}}\n"
     ]
    },
    {
     "name": "stderr",
     "output_type": "stream",
     "text": [
      " 19%|█▊        | 1000/5352 [05:50<25:14,  2.87it/s]"
     ]
    },
    {
     "name": "stdout",
     "output_type": "stream",
     "text": [
      "{'FullBody': {'All': 142.3638458251953, 'UpperStretching': 145.44129943847656, 'LowerStretching': 144.78652954101562, 'Walking': 143.45814514160156, 'Talking': 114.30440521240234, 'Greeting': 104.65290832519531, 'Gaming': 127.13196563720703, 'Patting': 139.13455200195312, 'Reacting': 129.7431640625, 'Gesticuling': 103.89546203613281}, 'UpperBody': {'All': 122.11734008789062, 'UpperStretching': 131.6730499267578, 'LowerStretching': 105.75035095214844, 'Walking': 113.22708892822266, 'Talking': 100.06735229492188, 'Greeting': 92.31489562988281, 'Gaming': 105.72798919677734, 'Patting': 112.85881805419922, 'Reacting': 116.45455932617188, 'Gesticuling': 103.59805297851562}, 'LowerBody': {'All': 162.61032104492188, 'UpperStretching': 159.20953369140625, 'LowerStretching': 183.8227081298828, 'Walking': 173.68919372558594, 'Talking': 128.5414581298828, 'Greeting': 116.99091339111328, 'Gaming': 148.53590393066406, 'Patting': 165.41030883789062, 'Reacting': 143.03173828125, 'Gesticuling': 104.19286346435547}}\n"
     ]
    },
    {
     "name": "stderr",
     "output_type": "stream",
     "text": [
      " 22%|██▏       | 1200/5352 [06:59<24:03,  2.88it/s]"
     ]
    },
    {
     "name": "stdout",
     "output_type": "stream",
     "text": [
      "{'FullBody': {'All': 142.16107177734375, 'UpperStretching': 145.17431640625, 'LowerStretching': 144.50086975097656, 'Walking': 143.32420349121094, 'Talking': 115.02363586425781, 'Greeting': 105.39818572998047, 'Gaming': 127.24514770507812, 'Patting': 136.93077087402344, 'Reacting': 130.9406280517578, 'Gesticuling': 103.68718719482422}, 'UpperBody': {'All': 122.13955688476562, 'UpperStretching': 131.72628784179688, 'LowerStretching': 105.39421081542969, 'Walking': 113.5568618774414, 'Talking': 100.30302429199219, 'Greeting': 92.8055419921875, 'Gaming': 106.22225189208984, 'Patting': 111.42586517333984, 'Reacting': 117.30513763427734, 'Gesticuling': 103.52018737792969}, 'LowerBody': {'All': 162.18260192871094, 'UpperStretching': 158.62232971191406, 'LowerStretching': 183.60752868652344, 'Walking': 173.0915069580078, 'Talking': 129.74427795410156, 'Greeting': 117.99083709716797, 'Gaming': 148.26803588867188, 'Patting': 162.43565368652344, 'Reacting': 144.5761260986328, 'Gesticuling': 103.85417175292969}}\n"
     ]
    },
    {
     "name": "stderr",
     "output_type": "stream",
     "text": [
      " 26%|██▌       | 1400/5352 [08:08<22:55,  2.87it/s]"
     ]
    },
    {
     "name": "stdout",
     "output_type": "stream",
     "text": [
      "{'FullBody': {'All': 142.19993591308594, 'UpperStretching': 145.22860717773438, 'LowerStretching': 144.88299560546875, 'Walking': 142.94241333007812, 'Talking': 113.50140380859375, 'Greeting': 106.3892593383789, 'Gaming': 126.67472076416016, 'Patting': 136.72776794433594, 'Reacting': 131.630859375, 'Gesticuling': 103.67664337158203}, 'UpperBody': {'All': 122.20350646972656, 'UpperStretching': 131.8870086669922, 'LowerStretching': 105.43183135986328, 'Walking': 113.35768127441406, 'Talking': 100.0538558959961, 'Greeting': 94.3062744140625, 'Gaming': 106.54659271240234, 'Patting': 111.18557739257812, 'Reacting': 117.2021484375, 'Gesticuling': 104.00848388671875}, 'LowerBody': {'All': 162.19638061523438, 'UpperStretching': 158.5702362060547, 'LowerStretching': 184.33413696289062, 'Walking': 172.52713012695312, 'Talking': 126.94895935058594, 'Greeting': 118.47225189208984, 'Gaming': 146.80287170410156, 'Patting': 162.2699432373047, 'Reacting': 146.05955505371094, 'Gesticuling': 103.34480285644531}}\n"
     ]
    },
    {
     "name": "stderr",
     "output_type": "stream",
     "text": [
      " 30%|██▉       | 1600/5352 [09:18<21:52,  2.86it/s]"
     ]
    },
    {
     "name": "stdout",
     "output_type": "stream",
     "text": [
      "{'FullBody': {'All': 142.12319946289062, 'UpperStretching': 145.08489990234375, 'LowerStretching': 144.70101928710938, 'Walking': 143.3088836669922, 'Talking': 113.85681915283203, 'Greeting': 107.71007537841797, 'Gaming': 127.36405944824219, 'Patting': 135.4231414794922, 'Reacting': 131.49322509765625, 'Gesticuling': 103.75066375732422}, 'UpperBody': {'All': 122.10375213623047, 'UpperStretching': 131.69618225097656, 'LowerStretching': 105.31078338623047, 'Walking': 113.46771240234375, 'Talking': 100.38825225830078, 'Greeting': 94.85399627685547, 'Gaming': 106.74981689453125, 'Patting': 110.81053161621094, 'Reacting': 116.92423248291016, 'Gesticuling': 104.09221649169922}, 'LowerBody': {'All': 162.14266967773438, 'UpperStretching': 158.47360229492188, 'LowerStretching': 184.09124755859375, 'Walking': 173.1500701904297, 'Talking': 127.32540893554688, 'Greeting': 120.56611633300781, 'Gaming': 147.978271484375, 'Patting': 160.03575134277344, 'Reacting': 146.0622100830078, 'Gesticuling': 103.40911865234375}}\n"
     ]
    },
    {
     "name": "stderr",
     "output_type": "stream",
     "text": [
      " 34%|███▎      | 1800/5352 [10:27<20:44,  2.85it/s]"
     ]
    },
    {
     "name": "stdout",
     "output_type": "stream",
     "text": [
      "{'FullBody': {'All': 142.1355438232422, 'UpperStretching': 145.28611755371094, 'LowerStretching': 144.61431884765625, 'Walking': 142.7492218017578, 'Talking': 113.11758422851562, 'Greeting': 107.62596130371094, 'Gaming': 126.73748779296875, 'Patting': 135.73095703125, 'Reacting': 131.7264404296875, 'Gesticuling': 103.83387756347656}, 'UpperBody': {'All': 122.1303482055664, 'UpperStretching': 131.8201446533203, 'LowerStretching': 105.29463958740234, 'Walking': 113.20206451416016, 'Talking': 100.2175064086914, 'Greeting': 94.68079376220703, 'Gaming': 106.3133773803711, 'Patting': 111.19625091552734, 'Reacting': 117.19840240478516, 'Gesticuling': 104.1292953491211}, 'LowerBody': {'All': 162.14073181152344, 'UpperStretching': 158.75204467773438, 'LowerStretching': 183.93399047851562, 'Walking': 172.29632568359375, 'Talking': 126.0176773071289, 'Greeting': 120.57112884521484, 'Gaming': 147.16162109375, 'Patting': 160.26568603515625, 'Reacting': 146.25445556640625, 'Gesticuling': 103.53846740722656}}\n"
     ]
    },
    {
     "name": "stderr",
     "output_type": "stream",
     "text": [
      " 37%|███▋      | 2000/5352 [11:36<19:33,  2.86it/s]"
     ]
    },
    {
     "name": "stdout",
     "output_type": "stream",
     "text": [
      "{'FullBody': {'All': 142.11888122558594, 'UpperStretching': 145.29197692871094, 'LowerStretching': 144.58099365234375, 'Walking': 142.64459228515625, 'Talking': 112.36872863769531, 'Greeting': 108.31627655029297, 'Gaming': 126.48736572265625, 'Patting': 136.67237854003906, 'Reacting': 131.42221069335938, 'Gesticuling': 104.70974731445312}, 'UpperBody': {'All': 122.20315551757812, 'UpperStretching': 131.8951416015625, 'LowerStretching': 105.42212677001953, 'Walking': 113.1019515991211, 'Talking': 99.88481903076172, 'Greeting': 95.0821762084961, 'Gaming': 106.42301940917969, 'Patting': 112.29232025146484, 'Reacting': 116.66431427001953, 'Gesticuling': 105.08704376220703}, 'LowerBody': {'All': 162.0346221923828, 'UpperStretching': 158.6887969970703, 'LowerStretching': 183.73989868164062, 'Walking': 172.18724060058594, 'Talking': 124.85263061523438, 'Greeting': 121.55036926269531, 'Gaming': 146.55172729492188, 'Patting': 161.0524444580078, 'Reacting': 146.18008422851562, 'Gesticuling': 104.33247375488281}}\n"
     ]
    },
    {
     "name": "stderr",
     "output_type": "stream",
     "text": [
      " 41%|████      | 2200/5352 [12:46<18:23,  2.86it/s]"
     ]
    },
    {
     "name": "stdout",
     "output_type": "stream",
     "text": [
      "{'FullBody': {'All': 142.0304718017578, 'UpperStretching': 145.1963653564453, 'LowerStretching': 144.6807861328125, 'Walking': 142.30543518066406, 'Talking': 112.77355194091797, 'Greeting': 107.82947540283203, 'Gaming': 125.45354461669922, 'Patting': 135.84283447265625, 'Reacting': 131.52711486816406, 'Gesticuling': 104.44094848632812}, 'UpperBody': {'All': 122.19669342041016, 'UpperStretching': 131.97682189941406, 'LowerStretching': 105.48175811767578, 'Walking': 113.12518310546875, 'Talking': 99.98675537109375, 'Greeting': 94.3237075805664, 'Gaming': 105.28766632080078, 'Patting': 111.49252319335938, 'Reacting': 116.31315612792969, 'Gesticuling': 104.85749816894531}, 'LowerBody': {'All': 161.86427307128906, 'UpperStretching': 158.4158935546875, 'LowerStretching': 183.8798065185547, 'Walking': 171.48568725585938, 'Talking': 125.56034851074219, 'Greeting': 121.33523559570312, 'Gaming': 145.61944580078125, 'Patting': 160.1931610107422, 'Reacting': 146.74107360839844, 'Gesticuling': 104.02439880371094}}\n"
     ]
    },
    {
     "name": "stderr",
     "output_type": "stream",
     "text": [
      " 45%|████▍     | 2400/5352 [13:55<17:11,  2.86it/s]"
     ]
    },
    {
     "name": "stdout",
     "output_type": "stream",
     "text": [
      "{'FullBody': {'All': 142.01353454589844, 'UpperStretching': 145.0999755859375, 'LowerStretching': 144.74072265625, 'Walking': 142.45193481445312, 'Talking': 112.49345397949219, 'Greeting': 107.29865264892578, 'Gaming': 124.50315856933594, 'Patting': 136.36154174804688, 'Reacting': 131.60887145996094, 'Gesticuling': 104.99186706542969}, 'UpperBody': {'All': 122.2461166381836, 'UpperStretching': 131.96620178222656, 'LowerStretching': 105.46533203125, 'Walking': 113.26705932617188, 'Talking': 99.52948760986328, 'Greeting': 94.11157989501953, 'Gaming': 104.7558822631836, 'Patting': 111.67705535888672, 'Reacting': 116.54519653320312, 'Gesticuling': 105.25577545166016}, 'LowerBody': {'All': 161.78097534179688, 'UpperStretching': 158.23370361328125, 'LowerStretching': 184.01609802246094, 'Walking': 171.63681030273438, 'Talking': 125.45742797851562, 'Greeting': 120.48573303222656, 'Gaming': 144.2504425048828, 'Patting': 161.04603576660156, 'Reacting': 146.6725616455078, 'Gesticuling': 104.72795867919922}}\n"
     ]
    },
    {
     "name": "stderr",
     "output_type": "stream",
     "text": [
      " 49%|████▊     | 2600/5352 [15:04<16:01,  2.86it/s]"
     ]
    },
    {
     "name": "stdout",
     "output_type": "stream",
     "text": [
      "{'FullBody': {'All': 141.94351196289062, 'UpperStretching': 145.00186157226562, 'LowerStretching': 144.8673553466797, 'Walking': 142.0089874267578, 'Talking': 112.83464050292969, 'Greeting': 106.51871490478516, 'Gaming': 124.8886947631836, 'Patting': 136.5682830810547, 'Reacting': 132.0269775390625, 'Gesticuling': 104.64239501953125}, 'UpperBody': {'All': 122.24444580078125, 'UpperStretching': 132.01939392089844, 'LowerStretching': 105.44595336914062, 'Walking': 112.9805679321289, 'Talking': 100.02398681640625, 'Greeting': 93.54340362548828, 'Gaming': 105.08214569091797, 'Patting': 111.77088165283203, 'Reacting': 116.8057632446289, 'Gesticuling': 104.81710052490234}, 'LowerBody': {'All': 161.64260864257812, 'UpperStretching': 157.98428344726562, 'LowerStretching': 184.2887420654297, 'Walking': 171.0373992919922, 'Talking': 125.64527893066406, 'Greeting': 119.4940185546875, 'Gaming': 144.6952362060547, 'Patting': 161.36566162109375, 'Reacting': 147.24818420410156, 'Gesticuling': 104.46768188476562}}\n"
     ]
    },
    {
     "name": "stderr",
     "output_type": "stream",
     "text": [
      " 52%|█████▏    | 2800/5352 [16:14<14:54,  2.85it/s]"
     ]
    },
    {
     "name": "stdout",
     "output_type": "stream",
     "text": [
      "{'FullBody': {'All': 141.9573211669922, 'UpperStretching': 145.00924682617188, 'LowerStretching': 144.80137634277344, 'Walking': 142.02084350585938, 'Talking': 112.97479248046875, 'Greeting': 106.72509765625, 'Gaming': 125.30711364746094, 'Patting': 136.6983642578125, 'Reacting': 132.37838745117188, 'Gesticuling': 104.7066421508789}, 'UpperBody': {'All': 122.29815673828125, 'UpperStretching': 132.0276336669922, 'LowerStretching': 105.50203704833984, 'Walking': 113.08676147460938, 'Talking': 100.2910385131836, 'Greeting': 93.71678924560547, 'Gaming': 105.19816589355469, 'Patting': 111.8072509765625, 'Reacting': 117.47004699707031, 'Gesticuling': 104.78141021728516}, 'LowerBody': {'All': 161.6165008544922, 'UpperStretching': 157.9908447265625, 'LowerStretching': 184.10073852539062, 'Walking': 170.95494079589844, 'Talking': 125.65853118896484, 'Greeting': 119.7334213256836, 'Gaming': 145.41607666015625, 'Patting': 161.58946228027344, 'Reacting': 147.28672790527344, 'Gesticuling': 104.63188934326172}}\n"
     ]
    },
    {
     "name": "stderr",
     "output_type": "stream",
     "text": [
      " 56%|█████▌    | 3000/5352 [17:23<13:45,  2.85it/s]"
     ]
    },
    {
     "name": "stdout",
     "output_type": "stream",
     "text": [
      "{'FullBody': {'All': 141.96124267578125, 'UpperStretching': 144.98936462402344, 'LowerStretching': 144.85716247558594, 'Walking': 142.2781219482422, 'Talking': 112.7636489868164, 'Greeting': 106.98550415039062, 'Gaming': 124.92891693115234, 'Patting': 136.9909210205078, 'Reacting': 131.97152709960938, 'Gesticuling': 104.54338073730469}, 'UpperBody': {'All': 122.27922058105469, 'UpperStretching': 131.95359802246094, 'LowerStretching': 105.48721313476562, 'Walking': 113.1117935180664, 'Talking': 100.09696197509766, 'Greeting': 93.73209381103516, 'Gaming': 104.94352722167969, 'Patting': 112.0457992553711, 'Reacting': 117.16063690185547, 'Gesticuling': 104.67318725585938}, 'LowerBody': {'All': 161.64329528808594, 'UpperStretching': 158.025146484375, 'LowerStretching': 184.22711181640625, 'Walking': 171.4444580078125, 'Talking': 125.4303207397461, 'Greeting': 120.23892211914062, 'Gaming': 144.914306640625, 'Patting': 161.93605041503906, 'Reacting': 146.78240966796875, 'Gesticuling': 104.4135971069336}}\n"
     ]
    },
    {
     "name": "stderr",
     "output_type": "stream",
     "text": [
      " 60%|█████▉    | 3200/5352 [18:32<12:34,  2.85it/s]"
     ]
    },
    {
     "name": "stdout",
     "output_type": "stream",
     "text": [
      "{'FullBody': {'All': 142.01263427734375, 'UpperStretching': 145.0333709716797, 'LowerStretching': 144.8128204345703, 'Walking': 142.40342712402344, 'Talking': 113.15420532226562, 'Greeting': 107.40164947509766, 'Gaming': 125.15918731689453, 'Patting': 137.71005249023438, 'Reacting': 131.7519073486328, 'Gesticuling': 104.71971893310547}, 'UpperBody': {'All': 122.34454345703125, 'UpperStretching': 132.0231475830078, 'LowerStretching': 105.43112182617188, 'Walking': 113.19496154785156, 'Talking': 100.4037094116211, 'Greeting': 94.00170135498047, 'Gaming': 105.0101547241211, 'Patting': 112.72555541992188, 'Reacting': 117.3116455078125, 'Gesticuling': 104.86923217773438}, 'LowerBody': {'All': 161.6807403564453, 'UpperStretching': 158.04360961914062, 'LowerStretching': 184.19451904296875, 'Walking': 171.6118927001953, 'Talking': 125.90470123291016, 'Greeting': 120.8016128540039, 'Gaming': 145.3082275390625, 'Patting': 162.69454956054688, 'Reacting': 146.19216918945312, 'Gesticuling': 104.5702133178711}}\n"
     ]
    },
    {
     "name": "stderr",
     "output_type": "stream",
     "text": [
      " 64%|██████▎   | 3400/5352 [19:42<11:26,  2.85it/s]"
     ]
    },
    {
     "name": "stdout",
     "output_type": "stream",
     "text": [
      "{'FullBody': {'All': 142.0578155517578, 'UpperStretching': 145.08755493164062, 'LowerStretching': 144.87815856933594, 'Walking': 142.18247985839844, 'Talking': 113.16619873046875, 'Greeting': 107.13986206054688, 'Gaming': 125.47989654541016, 'Patting': 138.41001892089844, 'Reacting': 131.94911193847656, 'Gesticuling': 105.07829284667969}, 'UpperBody': {'All': 122.40638732910156, 'UpperStretching': 132.08514404296875, 'LowerStretching': 105.39436340332031, 'Walking': 113.13550567626953, 'Talking': 100.49584197998047, 'Greeting': 93.80819702148438, 'Gaming': 105.16083526611328, 'Patting': 113.04203796386719, 'Reacting': 117.66690063476562, 'Gesticuling': 105.22126770019531}, 'LowerBody': {'All': 161.70924377441406, 'UpperStretching': 158.08995056152344, 'LowerStretching': 184.36192321777344, 'Walking': 171.22943115234375, 'Talking': 125.83655548095703, 'Greeting': 120.47152709960938, 'Gaming': 145.79898071289062, 'Patting': 163.7779998779297, 'Reacting': 146.23130798339844, 'Gesticuling': 104.93531036376953}}\n"
     ]
    },
    {
     "name": "stderr",
     "output_type": "stream",
     "text": [
      " 67%|██████▋   | 3600/5352 [20:51<10:17,  2.84it/s]"
     ]
    },
    {
     "name": "stdout",
     "output_type": "stream",
     "text": [
      "{'FullBody': {'All': 142.0703582763672, 'UpperStretching': 145.04843139648438, 'LowerStretching': 144.9795379638672, 'Walking': 142.45550537109375, 'Talking': 112.9188003540039, 'Greeting': 107.18473815917969, 'Gaming': 125.65689849853516, 'Patting': 138.09042358398438, 'Reacting': 131.68511962890625, 'Gesticuling': 104.97482299804688}, 'UpperBody': {'All': 122.40331268310547, 'UpperStretching': 132.0840301513672, 'LowerStretching': 105.39808654785156, 'Walking': 113.24378967285156, 'Talking': 100.04705047607422, 'Greeting': 93.66935729980469, 'Gaming': 105.03397369384766, 'Patting': 112.71165466308594, 'Reacting': 117.5516128540039, 'Gesticuling': 105.1845703125}, 'LowerBody': {'All': 161.7374267578125, 'UpperStretching': 158.01280212402344, 'LowerStretching': 184.5609588623047, 'Walking': 171.667236328125, 'Talking': 125.7905502319336, 'Greeting': 120.70012664794922, 'Gaming': 146.2798614501953, 'Patting': 163.46922302246094, 'Reacting': 145.81863403320312, 'Gesticuling': 104.76509094238281}}\n"
     ]
    },
    {
     "name": "stderr",
     "output_type": "stream",
     "text": [
      " 71%|███████   | 3800/5352 [22:00<09:07,  2.84it/s]"
     ]
    },
    {
     "name": "stdout",
     "output_type": "stream",
     "text": [
      "{'FullBody': {'All': 142.03549194335938, 'UpperStretching': 145.0302276611328, 'LowerStretching': 144.96096801757812, 'Walking': 142.17494201660156, 'Talking': 112.74198913574219, 'Greeting': 108.41449737548828, 'Gaming': 125.60651397705078, 'Patting': 137.58212280273438, 'Reacting': 131.80747985839844, 'Gesticuling': 105.2021484375}, 'UpperBody': {'All': 122.3887939453125, 'UpperStretching': 132.05111694335938, 'LowerStretching': 105.42964172363281, 'Walking': 113.06553649902344, 'Talking': 99.86723327636719, 'Greeting': 94.49739837646484, 'Gaming': 104.83822631835938, 'Patting': 112.68213653564453, 'Reacting': 117.53736114501953, 'Gesticuling': 105.37446594238281}, 'LowerBody': {'All': 161.68222045898438, 'UpperStretching': 158.00933837890625, 'LowerStretching': 184.49229431152344, 'Walking': 171.2843475341797, 'Talking': 125.61676025390625, 'Greeting': 122.33158874511719, 'Gaming': 146.3748321533203, 'Patting': 162.48211669921875, 'Reacting': 146.0775909423828, 'Gesticuling': 105.02981567382812}}\n"
     ]
    },
    {
     "name": "stderr",
     "output_type": "stream",
     "text": [
      " 75%|███████▍  | 4000/5352 [23:10<07:56,  2.84it/s]"
     ]
    },
    {
     "name": "stdout",
     "output_type": "stream",
     "text": [
      "{'FullBody': {'All': 142.01670837402344, 'UpperStretching': 145.00465393066406, 'LowerStretching': 144.85662841796875, 'Walking': 142.39222717285156, 'Talking': 112.624267578125, 'Greeting': 108.43619537353516, 'Gaming': 125.61833953857422, 'Patting': 137.0741424560547, 'Reacting': 132.1313018798828, 'Gesticuling': 105.06871032714844}, 'UpperBody': {'All': 122.37174224853516, 'UpperStretching': 132.02133178710938, 'LowerStretching': 105.38148498535156, 'Walking': 113.18122863769531, 'Talking': 99.70581817626953, 'Greeting': 94.567138671875, 'Gaming': 104.83732604980469, 'Patting': 112.43712615966797, 'Reacting': 117.84867858886719, 'Gesticuling': 105.21235656738281}, 'LowerBody': {'All': 161.66168212890625, 'UpperStretching': 157.9879608154297, 'LowerStretching': 184.33175659179688, 'Walking': 171.6032257080078, 'Talking': 125.542724609375, 'Greeting': 122.30523681640625, 'Gaming': 146.39935302734375, 'Patting': 161.7111358642578, 'Reacting': 146.41387939453125, 'Gesticuling': 104.92507934570312}}\n"
     ]
    },
    {
     "name": "stderr",
     "output_type": "stream",
     "text": [
      " 78%|███████▊  | 4200/5352 [24:19<06:47,  2.83it/s]"
     ]
    },
    {
     "name": "stdout",
     "output_type": "stream",
     "text": [
      "{'FullBody': {'All': 141.9994659423828, 'UpperStretching': 144.97813415527344, 'LowerStretching': 144.91036987304688, 'Walking': 142.41404724121094, 'Talking': 112.51383209228516, 'Greeting': 108.41092681884766, 'Gaming': 125.21052551269531, 'Patting': 137.2949676513672, 'Reacting': 131.85337829589844, 'Gesticuling': 104.94844055175781}, 'UpperBody': {'All': 122.29798126220703, 'UpperStretching': 131.90199279785156, 'LowerStretching': 105.45067596435547, 'Walking': 113.12503814697266, 'Talking': 99.63687896728516, 'Greeting': 94.52595520019531, 'Gaming': 104.7087631225586, 'Patting': 112.46177673339844, 'Reacting': 117.85772705078125, 'Gesticuling': 105.01170349121094}, 'LowerBody': {'All': 161.7009735107422, 'UpperStretching': 158.0542449951172, 'LowerStretching': 184.3700408935547, 'Walking': 171.7030487060547, 'Talking': 125.39079284667969, 'Greeting': 122.29590606689453, 'Gaming': 145.71229553222656, 'Patting': 162.12815856933594, 'Reacting': 145.84901428222656, 'Gesticuling': 104.88518524169922}}\n"
     ]
    },
    {
     "name": "stderr",
     "output_type": "stream",
     "text": [
      " 82%|████████▏ | 4400/5352 [25:28<05:34,  2.84it/s]"
     ]
    },
    {
     "name": "stdout",
     "output_type": "stream",
     "text": [
      "{'FullBody': {'All': 141.97865295410156, 'UpperStretching': 144.96214294433594, 'LowerStretching': 144.93814086914062, 'Walking': 142.3564910888672, 'Talking': 112.31967163085938, 'Greeting': 108.23265075683594, 'Gaming': 125.09878540039062, 'Patting': 137.17869567871094, 'Reacting': 131.8685760498047, 'Gesticuling': 104.94036865234375}, 'UpperBody': {'All': 122.25984191894531, 'UpperStretching': 131.82672119140625, 'LowerStretching': 105.45879364013672, 'Walking': 113.20446014404297, 'Talking': 99.64158630371094, 'Greeting': 94.52696990966797, 'Gaming': 104.6304931640625, 'Patting': 112.50741577148438, 'Reacting': 118.00531768798828, 'Gesticuling': 105.00203704833984}, 'LowerBody': {'All': 161.6974639892578, 'UpperStretching': 158.09751892089844, 'LowerStretching': 184.41748046875, 'Walking': 171.50856018066406, 'Talking': 124.99774169921875, 'Greeting': 121.93834686279297, 'Gaming': 145.56707763671875, 'Patting': 161.84994506835938, 'Reacting': 145.7318115234375, 'Gesticuling': 104.8786849975586}}\n"
     ]
    },
    {
     "name": "stderr",
     "output_type": "stream",
     "text": [
      " 86%|████████▌ | 4600/5352 [26:38<04:25,  2.83it/s]"
     ]
    },
    {
     "name": "stdout",
     "output_type": "stream",
     "text": [
      "{'FullBody': {'All': 142.02085876464844, 'UpperStretching': 145.0658416748047, 'LowerStretching': 144.82315063476562, 'Walking': 142.44094848632812, 'Talking': 112.25665283203125, 'Greeting': 108.46686553955078, 'Gaming': 125.28150177001953, 'Patting': 137.0273895263672, 'Reacting': 131.56671142578125, 'Gesticuling': 105.08466339111328}, 'UpperBody': {'All': 122.257080078125, 'UpperStretching': 131.86312866210938, 'LowerStretching': 105.36910247802734, 'Walking': 113.2846450805664, 'Talking': 99.57182312011719, 'Greeting': 94.65135192871094, 'Gaming': 104.47756958007812, 'Patting': 112.41866302490234, 'Reacting': 117.8176498413086, 'Gesticuling': 105.21637725830078}, 'LowerBody': {'All': 161.78465270996094, 'UpperStretching': 158.2685546875, 'LowerStretching': 184.27720642089844, 'Walking': 171.59722900390625, 'Talking': 124.94149017333984, 'Greeting': 122.28236389160156, 'Gaming': 146.08543395996094, 'Patting': 161.63612365722656, 'Reacting': 145.31576538085938, 'Gesticuling': 104.95294952392578}}\n"
     ]
    },
    {
     "name": "stderr",
     "output_type": "stream",
     "text": [
      " 90%|████████▉ | 4800/5352 [27:47<03:15,  2.83it/s]"
     ]
    },
    {
     "name": "stdout",
     "output_type": "stream",
     "text": [
      "{'FullBody': {'All': 142.10372924804688, 'UpperStretching': 145.14402770996094, 'LowerStretching': 145.05043029785156, 'Walking': 142.45166015625, 'Talking': 111.99938201904297, 'Greeting': 108.46272277832031, 'Gaming': 125.24388885498047, 'Patting': 136.78855895996094, 'Reacting': 131.5479278564453, 'Gesticuling': 105.107177734375}, 'UpperBody': {'All': 122.30369567871094, 'UpperStretching': 131.93051147460938, 'LowerStretching': 105.43184661865234, 'Walking': 113.32977294921875, 'Talking': 99.4003677368164, 'Greeting': 94.76549530029297, 'Gaming': 104.11787414550781, 'Patting': 112.45712280273438, 'Reacting': 117.62934112548828, 'Gesticuling': 105.35871887207031}, 'LowerBody': {'All': 161.90377807617188, 'UpperStretching': 158.35752868652344, 'LowerStretching': 184.6690216064453, 'Walking': 171.5735626220703, 'Talking': 124.5984115600586, 'Greeting': 122.15994262695312, 'Gaming': 146.3699188232422, 'Patting': 161.1199951171875, 'Reacting': 145.46652221679688, 'Gesticuling': 104.85563659667969}}\n"
     ]
    },
    {
     "name": "stderr",
     "output_type": "stream",
     "text": [
      " 93%|█████████▎| 5000/5352 [28:56<02:04,  2.82it/s]"
     ]
    },
    {
     "name": "stdout",
     "output_type": "stream",
     "text": [
      "{'FullBody': {'All': 142.14614868164062, 'UpperStretching': 145.2210235595703, 'LowerStretching': 145.0254669189453, 'Walking': 142.54437255859375, 'Talking': 111.87387084960938, 'Greeting': 108.35120391845703, 'Gaming': 125.12847137451172, 'Patting': 136.82781982421875, 'Reacting': 131.5076446533203, 'Gesticuling': 105.1314926147461}, 'UpperBody': {'All': 122.306640625, 'UpperStretching': 131.95301818847656, 'LowerStretching': 105.3966064453125, 'Walking': 113.40108489990234, 'Talking': 99.36724090576172, 'Greeting': 94.7326431274414, 'Gaming': 104.0679931640625, 'Patting': 112.48884582519531, 'Reacting': 117.45610809326172, 'Gesticuling': 105.33439636230469}, 'LowerBody': {'All': 161.9856719970703, 'UpperStretching': 158.48899841308594, 'LowerStretching': 184.654296875, 'Walking': 171.6876678466797, 'Talking': 124.38050842285156, 'Greeting': 121.96978759765625, 'Gaming': 146.18898010253906, 'Patting': 161.16680908203125, 'Reacting': 145.55918884277344, 'Gesticuling': 104.9285888671875}}\n"
     ]
    },
    {
     "name": "stderr",
     "output_type": "stream",
     "text": [
      " 97%|█████████▋| 5200/5352 [30:06<00:53,  2.82it/s]"
     ]
    },
    {
     "name": "stdout",
     "output_type": "stream",
     "text": [
      "{'FullBody': {'All': 142.08114624023438, 'UpperStretching': 145.10549926757812, 'LowerStretching': 145.09329223632812, 'Walking': 142.3316650390625, 'Talking': 111.93378448486328, 'Greeting': 108.862548828125, 'Gaming': 125.28973388671875, 'Patting': 137.06459045410156, 'Reacting': 131.49697875976562, 'Gesticuling': 105.13103485107422}, 'UpperBody': {'All': 122.2852783203125, 'UpperStretching': 131.88877868652344, 'LowerStretching': 105.44554901123047, 'Walking': 113.2956771850586, 'Talking': 99.44044494628906, 'Greeting': 94.94647216796875, 'Gaming': 104.3203353881836, 'Patting': 112.6612777709961, 'Reacting': 117.37311553955078, 'Gesticuling': 105.3077621459961}, 'LowerBody': {'All': 161.87704467773438, 'UpperStretching': 158.3222198486328, 'LowerStretching': 184.7410430908203, 'Walking': 171.36764526367188, 'Talking': 124.4271240234375, 'Greeting': 122.77861785888672, 'Gaming': 146.25912475585938, 'Patting': 161.46791076660156, 'Reacting': 145.620849609375, 'Gesticuling': 104.95429992675781}}\n"
     ]
    },
    {
     "name": "stderr",
     "output_type": "stream",
     "text": [
      "100%|██████████| 5352/5352 [30:59<00:00,  2.88it/s]\n",
      "\u001b[94m09:28:26 \u001b[92m[INFO]\u001b[94m Main\u001b[0m: Saving evaluation results...\n",
      "\u001b[94m09:28:26 \u001b[92m[INFO]\u001b[94m Main\u001b[0m: Done.\n",
      "\u001b[94m09:28:26 \u001b[92m[INFO]\u001b[94m Main\u001b[0m: Starting demo...\n",
      "  0%|          | 0/5352 [00:00<?, ?it/s]/opt/conda/lib/python3.10/site-packages/torchvision/transforms/transforms.py:329: UserWarning: Argument 'interpolation' of type int is deprecated since 0.13 and will be removed in 0.15. Please use InterpolationMode enum.\n",
      "  warnings.warn(\n",
      "/opt/conda/lib/python3.10/site-packages/torchvision/transforms/transforms.py:329: UserWarning: Argument 'interpolation' of type int is deprecated since 0.13 and will be removed in 0.15. Please use InterpolationMode enum.\n",
      "  warnings.warn(\n",
      "/opt/conda/lib/python3.10/site-packages/torchvision/transforms/transforms.py:329: UserWarning: Argument 'interpolation' of type int is deprecated since 0.13 and will be removed in 0.15. Please use InterpolationMode enum.\n",
      "  warnings.warn(\n",
      "/opt/conda/lib/python3.10/site-packages/torchvision/transforms/transforms.py:329: UserWarning: Argument 'interpolation' of type int is deprecated since 0.13 and will be removed in 0.15. Please use InterpolationMode enum.\n",
      "  warnings.warn(\n",
      "/opt/conda/lib/python3.10/site-packages/torchvision/transforms/transforms.py:329: UserWarning: Argument 'interpolation' of type int is deprecated since 0.13 and will be removed in 0.15. Please use InterpolationMode enum.\n",
      "  warnings.warn(\n",
      "/opt/conda/lib/python3.10/site-packages/torchvision/transforms/transforms.py:329: UserWarning: Argument 'interpolation' of type int is deprecated since 0.13 and will be removed in 0.15. Please use InterpolationMode enum.\n",
      "  warnings.warn(\n",
      "/opt/conda/lib/python3.10/site-packages/torchvision/transforms/transforms.py:329: UserWarning: Argument 'interpolation' of type int is deprecated since 0.13 and will be removed in 0.15. Please use InterpolationMode enum.\n",
      "  warnings.warn(\n",
      "/opt/conda/lib/python3.10/site-packages/torchvision/transforms/transforms.py:329: UserWarning: Argument 'interpolation' of type int is deprecated since 0.13 and will be removed in 0.15. Please use InterpolationMode enum.\n",
      "  warnings.warn(\n",
      "/opt/conda/lib/python3.10/site-packages/torchvision/transforms/transforms.py:329: UserWarning: Argument 'interpolation' of type int is deprecated since 0.13 and will be removed in 0.15. Please use InterpolationMode enum.\n",
      "  warnings.warn(\n",
      "/opt/conda/lib/python3.10/site-packages/torchvision/transforms/transforms.py:329: UserWarning: Argument 'interpolation' of type int is deprecated since 0.13 and will be removed in 0.15. Please use InterpolationMode enum.\n",
      "  warnings.warn(\n",
      "/opt/conda/lib/python3.10/site-packages/torchvision/transforms/transforms.py:329: UserWarning: Argument 'interpolation' of type int is deprecated since 0.13 and will be removed in 0.15. Please use InterpolationMode enum.\n",
      "  warnings.warn(\n",
      "/opt/conda/lib/python3.10/site-packages/torchvision/transforms/transforms.py:329: UserWarning: Argument 'interpolation' of type int is deprecated since 0.13 and will be removed in 0.15. Please use InterpolationMode enum.\n",
      "  warnings.warn(\n",
      "/opt/conda/lib/python3.10/site-packages/torchvision/transforms/transforms.py:329: UserWarning: Argument 'interpolation' of type int is deprecated since 0.13 and will be removed in 0.15. Please use InterpolationMode enum.\n",
      "  warnings.warn(\n",
      "/opt/conda/lib/python3.10/site-packages/torchvision/transforms/transforms.py:329: UserWarning: Argument 'interpolation' of type int is deprecated since 0.13 and will be removed in 0.15. Please use InterpolationMode enum.\n",
      "  warnings.warn(\n",
      "/opt/conda/lib/python3.10/site-packages/torchvision/transforms/transforms.py:329: UserWarning: Argument 'interpolation' of type int is deprecated since 0.13 and will be removed in 0.15. Please use InterpolationMode enum.\n",
      "  warnings.warn(\n",
      "/opt/conda/lib/python3.10/site-packages/torchvision/transforms/transforms.py:329: UserWarning: Argument 'interpolation' of type int is deprecated since 0.13 and will be removed in 0.15. Please use InterpolationMode enum.\n",
      "  warnings.warn(\n",
      "/opt/conda/lib/python3.10/site-packages/torchvision/transforms/transforms.py:329: UserWarning: Argument 'interpolation' of type int is deprecated since 0.13 and will be removed in 0.15. Please use InterpolationMode enum.\n",
      "  warnings.warn(\n",
      "/opt/conda/lib/python3.10/site-packages/torchvision/transforms/transforms.py:329: UserWarning: Argument 'interpolation' of type int is deprecated since 0.13 and will be removed in 0.15. Please use InterpolationMode enum.\n",
      "  warnings.warn(\n",
      "/opt/conda/lib/python3.10/site-packages/torchvision/transforms/transforms.py:329: UserWarning: Argument 'interpolation' of type int is deprecated since 0.13 and will be removed in 0.15. Please use InterpolationMode enum.\n",
      "  warnings.warn(\n",
      "/opt/conda/lib/python3.10/site-packages/torchvision/transforms/transforms.py:329: UserWarning: Argument 'interpolation' of type int is deprecated since 0.13 and will be removed in 0.15. Please use InterpolationMode enum.\n",
      "  warnings.warn(\n",
      "/opt/conda/lib/python3.10/site-packages/torchvision/transforms/transforms.py:329: UserWarning: Argument 'interpolation' of type int is deprecated since 0.13 and will be removed in 0.15. Please use InterpolationMode enum.\n",
      "  warnings.warn(\n",
      "/opt/conda/lib/python3.10/site-packages/torchvision/transforms/transforms.py:329: UserWarning: Argument 'interpolation' of type int is deprecated since 0.13 and will be removed in 0.15. Please use InterpolationMode enum.\n",
      "  warnings.warn(\n",
      "/opt/conda/lib/python3.10/site-packages/torchvision/transforms/transforms.py:329: UserWarning: Argument 'interpolation' of type int is deprecated since 0.13 and will be removed in 0.15. Please use InterpolationMode enum.\n",
      "  warnings.warn(\n",
      "/opt/conda/lib/python3.10/site-packages/torchvision/transforms/transforms.py:329: UserWarning: Argument 'interpolation' of type int is deprecated since 0.13 and will be removed in 0.15. Please use InterpolationMode enum.\n",
      "  warnings.warn(\n",
      "  4%|▎         | 200/5352 [01:13<29:38,  2.90it/s]"
     ]
    },
    {
     "name": "stdout",
     "output_type": "stream",
     "text": [
      "{'FullBody': {'All': 130.07623291015625, 'UpperStretching': 131.07713317871094, 'Gaming': 132.25694274902344, 'LowerStretching': 129.32205200195312, 'Walking': 134.4095458984375, 'Reacting': 133.82162475585938, 'Patting': 144.7461700439453, 'Gesticuling': 103.29244232177734, 'Talking': 97.11412048339844, 'Greeting': 117.818603515625}, 'UpperBody': {'All': 115.12603759765625, 'UpperStretching': 123.52042388916016, 'Gaming': 109.61791229248047, 'LowerStretching': 93.0177230834961, 'Walking': 108.85105895996094, 'Reacting': 119.94949340820312, 'Patting': 120.73745727539062, 'Gesticuling': 106.35407257080078, 'Talking': 101.55657958984375, 'Greeting': 109.92675018310547}, 'LowerBody': {'All': 145.02642822265625, 'UpperStretching': 138.63385009765625, 'Gaming': 154.89596557617188, 'LowerStretching': 165.62635803222656, 'Walking': 159.96803283691406, 'Reacting': 147.69375610351562, 'Patting': 168.7548828125, 'Gesticuling': 100.2308120727539, 'Talking': 92.67166900634766, 'Greeting': 125.71045684814453}}\n"
     ]
    },
    {
     "name": "stderr",
     "output_type": "stream",
     "text": [
      "  7%|▋         | 400/5352 [02:22<28:39,  2.88it/s]"
     ]
    },
    {
     "name": "stdout",
     "output_type": "stream",
     "text": [
      "{'FullBody': {'All': 129.83203125, 'UpperStretching': 130.70993041992188, 'Gaming': 129.88650512695312, 'LowerStretching': 129.50741577148438, 'Walking': 133.885986328125, 'Reacting': 133.8432159423828, 'Patting': 138.46902465820312, 'Gesticuling': 107.10505676269531, 'Talking': 103.14776611328125, 'Greeting': 116.71308135986328}, 'UpperBody': {'All': 114.35064697265625, 'UpperStretching': 122.34107971191406, 'Gaming': 106.93351745605469, 'LowerStretching': 93.34957885742188, 'Walking': 108.69872283935547, 'Reacting': 118.94741821289062, 'Patting': 114.57987976074219, 'Gesticuling': 109.14781951904297, 'Talking': 104.23904418945312, 'Greeting': 112.20442962646484}, 'LowerBody': {'All': 145.31341552734375, 'UpperStretching': 139.0787811279297, 'Gaming': 152.83949279785156, 'LowerStretching': 165.6652374267578, 'Walking': 159.07321166992188, 'Reacting': 148.73898315429688, 'Patting': 162.35813903808594, 'Gesticuling': 105.06227111816406, 'Talking': 102.05648040771484, 'Greeting': 121.22174835205078}}\n"
     ]
    },
    {
     "name": "stderr",
     "output_type": "stream",
     "text": [
      " 11%|█         | 600/5352 [03:31<27:30,  2.88it/s]"
     ]
    },
    {
     "name": "stdout",
     "output_type": "stream",
     "text": [
      "{'FullBody': {'All': 130.0758056640625, 'UpperStretching': 131.165771484375, 'Gaming': 131.06105041503906, 'LowerStretching': 128.74266052246094, 'Walking': 133.32762145996094, 'Reacting': 135.1663055419922, 'Patting': 142.79086303710938, 'Gesticuling': 105.53807830810547, 'Talking': 104.08587646484375, 'Greeting': 114.88668060302734}, 'UpperBody': {'All': 114.44147491455078, 'UpperStretching': 122.52996063232422, 'Gaming': 107.90918731689453, 'LowerStretching': 93.26692199707031, 'Walking': 108.34521484375, 'Reacting': 120.7116928100586, 'Patting': 116.48907470703125, 'Gesticuling': 107.20182037353516, 'Talking': 104.55670166015625, 'Greeting': 110.256103515625}, 'LowerBody': {'All': 145.7101287841797, 'UpperStretching': 139.8015899658203, 'Gaming': 154.21290588378906, 'LowerStretching': 164.2183837890625, 'Walking': 158.31002807617188, 'Reacting': 149.62088012695312, 'Patting': 169.09263610839844, 'Gesticuling': 103.87434387207031, 'Talking': 103.61502838134766, 'Greeting': 119.51725006103516}}\n"
     ]
    },
    {
     "name": "stderr",
     "output_type": "stream",
     "text": [
      " 15%|█▍        | 800/5352 [04:41<26:22,  2.88it/s]"
     ]
    },
    {
     "name": "stdout",
     "output_type": "stream",
     "text": [
      "{'FullBody': {'All': 130.03675842285156, 'UpperStretching': 131.203369140625, 'Gaming': 132.86631774902344, 'LowerStretching': 128.39234924316406, 'Walking': 133.36402893066406, 'Reacting': 136.12203979492188, 'Patting': 140.28199768066406, 'Gesticuling': 105.76647186279297, 'Talking': 103.35179901123047, 'Greeting': 111.4032211303711}, 'UpperBody': {'All': 114.42739868164062, 'UpperStretching': 122.39421081542969, 'Gaming': 109.6964340209961, 'LowerStretching': 92.94310760498047, 'Walking': 108.81348419189453, 'Reacting': 122.90510559082031, 'Patting': 116.33091735839844, 'Gesticuling': 106.93108367919922, 'Talking': 103.68126678466797, 'Greeting': 107.42630767822266}, 'LowerBody': {'All': 145.6461181640625, 'UpperStretching': 140.01254272460938, 'Gaming': 156.03622436523438, 'LowerStretching': 163.8415985107422, 'Walking': 157.91456604003906, 'Reacting': 149.33895874023438, 'Patting': 164.23306274414062, 'Gesticuling': 104.60185241699219, 'Talking': 103.02233123779297, 'Greeting': 115.38017272949219}}\n"
     ]
    },
    {
     "name": "stderr",
     "output_type": "stream",
     "text": [
      " 19%|█▊        | 1000/5352 [05:50<25:13,  2.88it/s]"
     ]
    },
    {
     "name": "stdout",
     "output_type": "stream",
     "text": [
      "{'FullBody': {'All': 130.6142120361328, 'UpperStretching': 131.89886474609375, 'Gaming': 132.68214416503906, 'LowerStretching': 129.65396118164062, 'Walking': 132.70579528808594, 'Reacting': 135.01402282714844, 'Patting': 139.740234375, 'Gesticuling': 106.14936828613281, 'Talking': 103.81591796875, 'Greeting': 111.99974060058594}, 'UpperBody': {'All': 114.7173080444336, 'UpperStretching': 122.76366424560547, 'Gaming': 110.35855102539062, 'LowerStretching': 93.58088684082031, 'Walking': 108.24601745605469, 'Reacting': 122.74845886230469, 'Patting': 116.07341766357422, 'Gesticuling': 107.748291015625, 'Talking': 104.06058502197266, 'Greeting': 107.40792846679688}, 'LowerBody': {'All': 146.51112365722656, 'UpperStretching': 141.03404235839844, 'Gaming': 155.00570678710938, 'LowerStretching': 165.72702026367188, 'Walking': 157.16554260253906, 'Reacting': 147.27960205078125, 'Patting': 163.4070587158203, 'Gesticuling': 104.55044555664062, 'Talking': 103.57125854492188, 'Greeting': 116.59154510498047}}\n"
     ]
    },
    {
     "name": "stderr",
     "output_type": "stream",
     "text": [
      " 22%|██▏       | 1200/5352 [06:59<24:06,  2.87it/s]"
     ]
    },
    {
     "name": "stdout",
     "output_type": "stream",
     "text": [
      "{'FullBody': {'All': 130.3756561279297, 'UpperStretching': 131.60780334472656, 'Gaming': 132.9031524658203, 'LowerStretching': 129.63124084472656, 'Walking': 132.42298889160156, 'Reacting': 134.3583526611328, 'Patting': 138.79837036132812, 'Gesticuling': 105.70489501953125, 'Talking': 103.62881469726562, 'Greeting': 111.88078308105469}, 'UpperBody': {'All': 114.62643432617188, 'UpperStretching': 122.79178619384766, 'Gaming': 111.04035186767578, 'LowerStretching': 93.35871124267578, 'Walking': 108.02918243408203, 'Reacting': 121.73162078857422, 'Patting': 115.4107666015625, 'Gesticuling': 107.27473449707031, 'Talking': 103.74954986572266, 'Greeting': 107.36619567871094}, 'LowerBody': {'All': 146.12489318847656, 'UpperStretching': 140.4237823486328, 'Gaming': 154.7659149169922, 'LowerStretching': 165.9037628173828, 'Walking': 156.81678771972656, 'Reacting': 146.98507690429688, 'Patting': 162.18600463867188, 'Gesticuling': 104.13506317138672, 'Talking': 103.5080795288086, 'Greeting': 116.3953857421875}}\n"
     ]
    },
    {
     "name": "stderr",
     "output_type": "stream",
     "text": [
      " 26%|██▌       | 1400/5352 [08:09<22:53,  2.88it/s]"
     ]
    },
    {
     "name": "stdout",
     "output_type": "stream",
     "text": [
      "{'FullBody': {'All': 130.23406982421875, 'UpperStretching': 131.5091552734375, 'Gaming': 133.37802124023438, 'LowerStretching': 129.80050659179688, 'Walking': 131.82354736328125, 'Reacting': 133.79627990722656, 'Patting': 137.66529846191406, 'Gesticuling': 105.29080200195312, 'Talking': 102.3419418334961, 'Greeting': 114.87401580810547}, 'UpperBody': {'All': 114.60265350341797, 'UpperStretching': 122.85092163085938, 'Gaming': 111.3769760131836, 'LowerStretching': 93.4126968383789, 'Walking': 107.56156921386719, 'Reacting': 121.20731353759766, 'Patting': 115.31533813476562, 'Gesticuling': 106.34678649902344, 'Talking': 102.71306610107422, 'Greeting': 109.50951385498047}, 'LowerBody': {'All': 145.86549377441406, 'UpperStretching': 140.16737365722656, 'Gaming': 155.37905883789062, 'LowerStretching': 166.18829345703125, 'Walking': 156.08551025390625, 'Reacting': 146.38525390625, 'Patting': 160.01522827148438, 'Gesticuling': 104.23481750488281, 'Talking': 101.97080993652344, 'Greeting': 120.2385482788086}}\n"
     ]
    },
    {
     "name": "stderr",
     "output_type": "stream",
     "text": [
      " 30%|██▉       | 1600/5352 [09:18<21:49,  2.87it/s]"
     ]
    },
    {
     "name": "stdout",
     "output_type": "stream",
     "text": [
      "{'FullBody': {'All': 130.30490112304688, 'UpperStretching': 131.4637451171875, 'Gaming': 133.9300994873047, 'LowerStretching': 130.14761352539062, 'Walking': 131.84707641601562, 'Reacting': 134.40969848632812, 'Patting': 137.50588989257812, 'Gesticuling': 105.12277221679688, 'Talking': 101.86260986328125, 'Greeting': 117.55248260498047}, 'UpperBody': {'All': 114.62600708007812, 'UpperStretching': 122.8033218383789, 'Gaming': 111.69808197021484, 'LowerStretching': 93.63118743896484, 'Walking': 107.89530944824219, 'Reacting': 121.57221221923828, 'Patting': 115.13558959960938, 'Gesticuling': 106.25889587402344, 'Talking': 102.38380432128906, 'Greeting': 111.043212890625}, 'LowerBody': {'All': 145.98382568359375, 'UpperStretching': 140.12416076660156, 'Gaming': 156.16217041015625, 'LowerStretching': 166.66403198242188, 'Walking': 155.79884338378906, 'Reacting': 147.24717712402344, 'Patting': 159.87619018554688, 'Gesticuling': 103.98664855957031, 'Talking': 101.34141540527344, 'Greeting': 124.061767578125}}\n"
     ]
    },
    {
     "name": "stderr",
     "output_type": "stream",
     "text": [
      " 34%|███▎      | 1800/5352 [10:27<20:37,  2.87it/s]"
     ]
    },
    {
     "name": "stdout",
     "output_type": "stream",
     "text": [
      "{'FullBody': {'All': 130.4049835205078, 'UpperStretching': 131.5980987548828, 'Gaming': 134.0286407470703, 'LowerStretching': 130.20631408691406, 'Walking': 131.48341369628906, 'Reacting': 134.59613037109375, 'Patting': 139.71499633789062, 'Gesticuling': 105.29188537597656, 'Talking': 101.8998031616211, 'Greeting': 117.79825592041016}, 'UpperBody': {'All': 114.80975341796875, 'UpperStretching': 123.0254898071289, 'Gaming': 111.79239654541016, 'LowerStretching': 93.77017211914062, 'Walking': 107.67214965820312, 'Reacting': 121.68123626708984, 'Patting': 115.67964935302734, 'Gesticuling': 106.306640625, 'Talking': 102.45624542236328, 'Greeting': 111.02664947509766}, 'LowerBody': {'All': 146.00022888183594, 'UpperStretching': 140.17071533203125, 'Gaming': 156.264892578125, 'LowerStretching': 166.64247131347656, 'Walking': 155.294677734375, 'Reacting': 147.5110321044922, 'Patting': 163.75033569335938, 'Gesticuling': 104.27715301513672, 'Talking': 101.3433609008789, 'Greeting': 124.56986999511719}}\n"
     ]
    },
    {
     "name": "stderr",
     "output_type": "stream",
     "text": [
      " 37%|███▋      | 2000/5352 [11:37<19:34,  2.86it/s]"
     ]
    },
    {
     "name": "stdout",
     "output_type": "stream",
     "text": [
      "{'FullBody': {'All': 130.38626098632812, 'UpperStretching': 131.67568969726562, 'Gaming': 133.51046752929688, 'LowerStretching': 130.11386108398438, 'Walking': 131.44493103027344, 'Reacting': 133.96066284179688, 'Patting': 140.02706909179688, 'Gesticuling': 105.4898681640625, 'Talking': 101.13789367675781, 'Greeting': 118.20803833007812}, 'UpperBody': {'All': 114.860107421875, 'UpperStretching': 123.13973999023438, 'Gaming': 111.61479187011719, 'LowerStretching': 93.71571350097656, 'Walking': 107.7530288696289, 'Reacting': 120.91058349609375, 'Patting': 115.87104797363281, 'Gesticuling': 106.63939666748047, 'Talking': 102.04109191894531, 'Greeting': 111.20006561279297}, 'LowerBody': {'All': 145.91241455078125, 'UpperStretching': 140.21165466308594, 'Gaming': 155.4061279296875, 'LowerStretching': 166.5120086669922, 'Walking': 155.13682556152344, 'Reacting': 147.0107421875, 'Patting': 164.1831512451172, 'Gesticuling': 104.34033203125, 'Talking': 100.23468780517578, 'Greeting': 125.21601867675781}}\n"
     ]
    },
    {
     "name": "stderr",
     "output_type": "stream",
     "text": [
      " 41%|████      | 2200/5352 [12:46<18:22,  2.86it/s]"
     ]
    },
    {
     "name": "stdout",
     "output_type": "stream",
     "text": [
      "{'FullBody': {'All': 130.37826538085938, 'UpperStretching': 131.80886840820312, 'Gaming': 133.22967529296875, 'LowerStretching': 129.86761474609375, 'Walking': 131.20077514648438, 'Reacting': 133.8080596923828, 'Patting': 139.18377685546875, 'Gesticuling': 105.29549407958984, 'Talking': 101.73394012451172, 'Greeting': 118.09444427490234}, 'UpperBody': {'All': 114.90853118896484, 'UpperStretching': 123.26695251464844, 'Gaming': 111.44424438476562, 'LowerStretching': 93.68099212646484, 'Walking': 107.68666076660156, 'Reacting': 121.28102111816406, 'Patting': 115.33895111083984, 'Gesticuling': 106.39750671386719, 'Talking': 102.3426742553711, 'Greeting': 111.40765380859375}, 'LowerBody': {'All': 145.8480224609375, 'UpperStretching': 140.3507843017578, 'Gaming': 155.0150909423828, 'LowerStretching': 166.05421447753906, 'Walking': 154.71490478515625, 'Reacting': 146.33506774902344, 'Patting': 163.02859497070312, 'Gesticuling': 104.19346618652344, 'Talking': 101.12520599365234, 'Greeting': 124.78125}}\n"
     ]
    },
    {
     "name": "stderr",
     "output_type": "stream",
     "text": [
      " 45%|████▍     | 2400/5352 [13:55<17:14,  2.85it/s]"
     ]
    },
    {
     "name": "stdout",
     "output_type": "stream",
     "text": [
      "{'FullBody': {'All': 130.39332580566406, 'UpperStretching': 131.8516845703125, 'Gaming': 133.1846466064453, 'LowerStretching': 129.86660766601562, 'Walking': 131.12046813964844, 'Reacting': 133.29443359375, 'Patting': 139.612060546875, 'Gesticuling': 105.40528869628906, 'Talking': 102.15328979492188, 'Greeting': 118.20257568359375}, 'UpperBody': {'All': 114.94779968261719, 'UpperStretching': 123.24876403808594, 'Gaming': 111.20234680175781, 'LowerStretching': 93.85664367675781, 'Walking': 107.61691284179688, 'Reacting': 121.30345153808594, 'Patting': 115.44677734375, 'Gesticuling': 106.52313995361328, 'Talking': 102.44835662841797, 'Greeting': 111.58902740478516}, 'LowerBody': {'All': 145.83885192871094, 'UpperStretching': 140.45457458496094, 'Gaming': 155.1669158935547, 'LowerStretching': 165.87657165527344, 'Walking': 154.62400817871094, 'Reacting': 145.285400390625, 'Patting': 163.77737426757812, 'Gesticuling': 104.28741455078125, 'Talking': 101.85821533203125, 'Greeting': 124.81612396240234}}\n"
     ]
    },
    {
     "name": "stderr",
     "output_type": "stream",
     "text": [
      " 49%|████▊     | 2600/5352 [15:05<16:07,  2.84it/s]"
     ]
    },
    {
     "name": "stdout",
     "output_type": "stream",
     "text": [
      "{'FullBody': {'All': 130.44500732421875, 'UpperStretching': 131.93458557128906, 'Gaming': 133.30035400390625, 'LowerStretching': 129.8280792236328, 'Walking': 130.9240264892578, 'Reacting': 133.40240478515625, 'Patting': 140.7723846435547, 'Gesticuling': 105.13532257080078, 'Talking': 102.6268539428711, 'Greeting': 117.99331665039062}, 'UpperBody': {'All': 114.95051574707031, 'UpperStretching': 123.22722625732422, 'Gaming': 111.29332733154297, 'LowerStretching': 93.83940887451172, 'Walking': 107.54341888427734, 'Reacting': 121.71406555175781, 'Patting': 116.06144714355469, 'Gesticuling': 106.05567169189453, 'Talking': 102.65888977050781, 'Greeting': 111.38497924804688}, 'LowerBody': {'All': 145.9394989013672, 'UpperStretching': 140.64193725585938, 'Gaming': 155.30738830566406, 'LowerStretching': 165.81675720214844, 'Walking': 154.3046112060547, 'Reacting': 145.09072875976562, 'Patting': 165.4833221435547, 'Gesticuling': 104.21497344970703, 'Talking': 102.59481048583984, 'Greeting': 124.6016845703125}}\n"
     ]
    },
    {
     "name": "stderr",
     "output_type": "stream",
     "text": [
      " 52%|█████▏    | 2800/5352 [16:14<14:53,  2.86it/s]"
     ]
    },
    {
     "name": "stdout",
     "output_type": "stream",
     "text": [
      "{'FullBody': {'All': 130.5065460205078, 'UpperStretching': 131.98709106445312, 'Gaming': 133.20001220703125, 'LowerStretching': 129.73361206054688, 'Walking': 131.1190185546875, 'Reacting': 133.58509826660156, 'Patting': 140.80796813964844, 'Gesticuling': 104.93383026123047, 'Talking': 103.10846710205078, 'Greeting': 118.20266723632812}, 'UpperBody': {'All': 115.0142822265625, 'UpperStretching': 123.27220916748047, 'Gaming': 111.17887115478516, 'LowerStretching': 93.89523315429688, 'Walking': 107.53096771240234, 'Reacting': 121.83849334716797, 'Patting': 116.28367614746094, 'Gesticuling': 105.74598693847656, 'Talking': 103.20750427246094, 'Greeting': 111.69927215576172}, 'LowerBody': {'All': 145.99880981445312, 'UpperStretching': 140.7019805908203, 'Gaming': 155.22116088867188, 'LowerStretching': 165.57199096679688, 'Walking': 154.70706176757812, 'Reacting': 145.3317108154297, 'Patting': 165.33224487304688, 'Gesticuling': 104.12167358398438, 'Talking': 103.00944519042969, 'Greeting': 124.7060546875}}\n"
     ]
    },
    {
     "name": "stderr",
     "output_type": "stream",
     "text": [
      " 56%|█████▌    | 3000/5352 [17:24<13:48,  2.84it/s]"
     ]
    },
    {
     "name": "stdout",
     "output_type": "stream",
     "text": [
      "{'FullBody': {'All': 130.43409729003906, 'UpperStretching': 131.94509887695312, 'Gaming': 133.21652221679688, 'LowerStretching': 129.6675567626953, 'Walking': 130.91873168945312, 'Reacting': 133.04966735839844, 'Patting': 140.9591827392578, 'Gesticuling': 104.96282958984375, 'Talking': 103.00393676757812, 'Greeting': 118.29451751708984}, 'UpperBody': {'All': 115.01420593261719, 'UpperStretching': 123.29102325439453, 'Gaming': 111.07645416259766, 'LowerStretching': 93.84107208251953, 'Walking': 107.48184204101562, 'Reacting': 121.35042572021484, 'Patting': 116.7184066772461, 'Gesticuling': 105.77088165283203, 'Talking': 103.2393798828125, 'Greeting': 111.86991119384766}, 'LowerBody': {'All': 145.85398864746094, 'UpperStretching': 140.5991973876953, 'Gaming': 155.35658264160156, 'LowerStretching': 165.4940185546875, 'Walking': 154.35562133789062, 'Reacting': 144.7489013671875, 'Patting': 165.199951171875, 'Gesticuling': 104.15476989746094, 'Talking': 102.76849365234375, 'Greeting': 124.7191390991211}}\n"
     ]
    },
    {
     "name": "stderr",
     "output_type": "stream",
     "text": [
      " 60%|█████▉    | 3200/5352 [18:33<12:33,  2.86it/s]"
     ]
    },
    {
     "name": "stdout",
     "output_type": "stream",
     "text": [
      "{'FullBody': {'All': 130.39297485351562, 'UpperStretching': 131.94129943847656, 'Gaming': 133.00192260742188, 'LowerStretching': 129.5974884033203, 'Walking': 130.86270141601562, 'Reacting': 132.71360778808594, 'Patting': 140.70335388183594, 'Gesticuling': 105.0156478881836, 'Talking': 102.72372436523438, 'Greeting': 117.84310913085938}, 'UpperBody': {'All': 115.01997375488281, 'UpperStretching': 123.3056640625, 'Gaming': 110.80770111083984, 'LowerStretching': 93.89894104003906, 'Walking': 107.3765640258789, 'Reacting': 121.19860076904297, 'Patting': 116.78370666503906, 'Gesticuling': 105.6517105102539, 'Talking': 102.94561767578125, 'Greeting': 111.61073303222656}, 'LowerBody': {'All': 145.7659912109375, 'UpperStretching': 140.57693481445312, 'Gaming': 155.19615173339844, 'LowerStretching': 165.2960205078125, 'Walking': 154.34884643554688, 'Reacting': 144.22860717773438, 'Patting': 164.62298583984375, 'Gesticuling': 104.37957763671875, 'Talking': 102.50182342529297, 'Greeting': 124.07550048828125}}\n"
     ]
    },
    {
     "name": "stderr",
     "output_type": "stream",
     "text": [
      " 64%|██████▎   | 3400/5352 [19:42<11:27,  2.84it/s]"
     ]
    },
    {
     "name": "stdout",
     "output_type": "stream",
     "text": [
      "{'FullBody': {'All': 130.3935546875, 'UpperStretching': 131.9193878173828, 'Gaming': 133.1780548095703, 'LowerStretching': 129.61903381347656, 'Walking': 130.83810424804688, 'Reacting': 132.66168212890625, 'Patting': 141.23890686035156, 'Gesticuling': 105.06903076171875, 'Talking': 103.11741638183594, 'Greeting': 117.10794067382812}, 'UpperBody': {'All': 114.99830627441406, 'UpperStretching': 123.340576171875, 'Gaming': 110.75080108642578, 'LowerStretching': 93.79530334472656, 'Walking': 107.2833480834961, 'Reacting': 121.1139907836914, 'Patting': 116.89527893066406, 'Gesticuling': 105.54097747802734, 'Talking': 103.25907897949219, 'Greeting': 111.20073699951172}, 'LowerBody': {'All': 145.78880310058594, 'UpperStretching': 140.4982147216797, 'Gaming': 155.6053009033203, 'LowerStretching': 165.4427490234375, 'Walking': 154.39283752441406, 'Reacting': 144.20938110351562, 'Patting': 165.58253479003906, 'Gesticuling': 104.59708404541016, 'Talking': 102.97574615478516, 'Greeting': 123.01514434814453}}\n"
     ]
    },
    {
     "name": "stderr",
     "output_type": "stream",
     "text": [
      " 67%|██████▋   | 3600/5352 [20:51<10:15,  2.85it/s]"
     ]
    },
    {
     "name": "stdout",
     "output_type": "stream",
     "text": [
      "{'FullBody': {'All': 130.3964080810547, 'UpperStretching': 131.89988708496094, 'Gaming': 132.9720001220703, 'LowerStretching': 129.6784210205078, 'Walking': 131.0767822265625, 'Reacting': 132.54591369628906, 'Patting': 140.81480407714844, 'Gesticuling': 104.84605407714844, 'Talking': 103.02471160888672, 'Greeting': 116.48863983154297}, 'UpperBody': {'All': 114.95179748535156, 'UpperStretching': 123.29846954345703, 'Gaming': 110.42764282226562, 'LowerStretching': 93.86446380615234, 'Walking': 107.31241607666016, 'Reacting': 120.9485092163086, 'Patting': 116.83500671386719, 'Gesticuling': 105.14751434326172, 'Talking': 103.26481628417969, 'Greeting': 110.79395294189453}, 'LowerBody': {'All': 145.84104919433594, 'UpperStretching': 140.50131225585938, 'Gaming': 155.51637268066406, 'LowerStretching': 165.4923553466797, 'Walking': 154.84115600585938, 'Reacting': 144.14332580566406, 'Patting': 164.79461669921875, 'Gesticuling': 104.54459381103516, 'Talking': 102.78459930419922, 'Greeting': 122.1833267211914}}\n"
     ]
    },
    {
     "name": "stderr",
     "output_type": "stream",
     "text": [
      " 71%|███████   | 3800/5352 [22:01<09:06,  2.84it/s]"
     ]
    },
    {
     "name": "stdout",
     "output_type": "stream",
     "text": [
      "{'FullBody': {'All': 130.31260681152344, 'UpperStretching': 131.87088012695312, 'Gaming': 132.89279174804688, 'LowerStretching': 129.3942413330078, 'Walking': 130.96546936035156, 'Reacting': 132.47499084472656, 'Patting': 140.74537658691406, 'Gesticuling': 104.8653564453125, 'Talking': 102.87089538574219, 'Greeting': 116.56488800048828}, 'UpperBody': {'All': 114.93024444580078, 'UpperStretching': 123.30650329589844, 'Gaming': 110.66338348388672, 'LowerStretching': 93.69699096679688, 'Walking': 107.28813934326172, 'Reacting': 120.79620361328125, 'Patting': 116.76991271972656, 'Gesticuling': 105.05938720703125, 'Talking': 103.13410186767578, 'Greeting': 111.07711029052734}, 'LowerBody': {'All': 145.69500732421875, 'UpperStretching': 140.43527221679688, 'Gaming': 155.1221923828125, 'LowerStretching': 165.09149169921875, 'Walking': 154.64280700683594, 'Reacting': 144.1537628173828, 'Patting': 164.72084045410156, 'Gesticuling': 104.67133331298828, 'Talking': 102.6076889038086, 'Greeting': 122.05266571044922}}\n"
     ]
    },
    {
     "name": "stderr",
     "output_type": "stream",
     "text": [
      " 75%|███████▍  | 4000/5352 [23:10<07:56,  2.83it/s]"
     ]
    },
    {
     "name": "stdout",
     "output_type": "stream",
     "text": [
      "{'FullBody': {'All': 130.35885620117188, 'UpperStretching': 131.890380859375, 'Gaming': 132.85980224609375, 'LowerStretching': 129.5841827392578, 'Walking': 130.9174041748047, 'Reacting': 132.68479919433594, 'Patting': 140.72833251953125, 'Gesticuling': 104.85708618164062, 'Talking': 102.72301483154297, 'Greeting': 116.53665161132812}, 'UpperBody': {'All': 114.92767333984375, 'UpperStretching': 123.26649475097656, 'Gaming': 110.76129913330078, 'LowerStretching': 93.82916259765625, 'Walking': 107.24188995361328, 'Reacting': 121.00274658203125, 'Patting': 116.64179992675781, 'Gesticuling': 105.07703399658203, 'Talking': 102.9442138671875, 'Greeting': 111.31442260742188}, 'LowerBody': {'All': 145.79006958007812, 'UpperStretching': 140.5142822265625, 'Gaming': 154.95831298828125, 'LowerStretching': 165.3391876220703, 'Walking': 154.59292602539062, 'Reacting': 144.36688232421875, 'Patting': 164.81488037109375, 'Gesticuling': 104.63715362548828, 'Talking': 102.50183868408203, 'Greeting': 121.7588882446289}}\n"
     ]
    },
    {
     "name": "stderr",
     "output_type": "stream",
     "text": [
      " 78%|███████▊  | 4200/5352 [24:20<06:46,  2.83it/s]"
     ]
    },
    {
     "name": "stdout",
     "output_type": "stream",
     "text": [
      "{'FullBody': {'All': 130.33502197265625, 'UpperStretching': 131.82241821289062, 'Gaming': 133.3806610107422, 'LowerStretching': 129.5817108154297, 'Walking': 130.81324768066406, 'Reacting': 132.7727508544922, 'Patting': 140.9755859375, 'Gesticuling': 104.99479675292969, 'Talking': 102.7027587890625, 'Greeting': 116.94200897216797}, 'UpperBody': {'All': 114.87995147705078, 'UpperStretching': 123.21812438964844, 'Gaming': 110.54396057128906, 'LowerStretching': 93.82164764404297, 'Walking': 107.14012145996094, 'Reacting': 120.82614135742188, 'Patting': 116.86814880371094, 'Gesticuling': 105.21382141113281, 'Talking': 102.78399658203125, 'Greeting': 111.56612396240234}, 'LowerBody': {'All': 145.7900848388672, 'UpperStretching': 140.4267578125, 'Gaming': 156.2173614501953, 'LowerStretching': 165.34173583984375, 'Walking': 154.48638916015625, 'Reacting': 144.71934509277344, 'Patting': 165.08302307128906, 'Gesticuling': 104.7757568359375, 'Talking': 102.62152862548828, 'Greeting': 122.3178939819336}}\n"
     ]
    },
    {
     "name": "stderr",
     "output_type": "stream",
     "text": [
      " 82%|████████▏ | 4400/5352 [25:29<05:36,  2.83it/s]"
     ]
    },
    {
     "name": "stdout",
     "output_type": "stream",
     "text": [
      "{'FullBody': {'All': 130.3218536376953, 'UpperStretching': 131.793212890625, 'Gaming': 133.4520263671875, 'LowerStretching': 129.6488494873047, 'Walking': 130.69703674316406, 'Reacting': 132.75222778320312, 'Patting': 140.97592163085938, 'Gesticuling': 105.0437240600586, 'Talking': 102.9226303100586, 'Greeting': 116.94108581542969}, 'UpperBody': {'All': 114.83876037597656, 'UpperStretching': 123.17573547363281, 'Gaming': 110.76199340820312, 'LowerStretching': 93.79996490478516, 'Walking': 107.0450668334961, 'Reacting': 120.80654907226562, 'Patting': 116.77189636230469, 'Gesticuling': 105.36233520507812, 'Talking': 102.76727294921875, 'Greeting': 111.50630187988281}, 'LowerBody': {'All': 145.80496215820312, 'UpperStretching': 140.4106903076172, 'Gaming': 156.14205932617188, 'LowerStretching': 165.49769592285156, 'Walking': 154.3490447998047, 'Reacting': 144.6979217529297, 'Patting': 165.1799774169922, 'Gesticuling': 104.72510528564453, 'Talking': 103.0779800415039, 'Greeting': 122.3758773803711}}\n"
     ]
    },
    {
     "name": "stderr",
     "output_type": "stream",
     "text": [
      " 86%|████████▌ | 4600/5352 [26:38<04:25,  2.83it/s]"
     ]
    },
    {
     "name": "stdout",
     "output_type": "stream",
     "text": [
      "{'FullBody': {'All': 130.23989868164062, 'UpperStretching': 131.73095703125, 'Gaming': 133.63668823242188, 'LowerStretching': 129.50430297851562, 'Walking': 130.4962158203125, 'Reacting': 132.78514099121094, 'Patting': 141.14410400390625, 'Gesticuling': 104.9459228515625, 'Talking': 102.81771087646484, 'Greeting': 116.51765441894531}, 'UpperBody': {'All': 114.83805847167969, 'UpperStretching': 123.17430877685547, 'Gaming': 110.66064453125, 'LowerStretching': 93.76204681396484, 'Walking': 106.98628997802734, 'Reacting': 120.93648529052734, 'Patting': 116.83551025390625, 'Gesticuling': 105.19694519042969, 'Talking': 102.75466918945312, 'Greeting': 111.1798095703125}, 'LowerBody': {'All': 145.64175415039062, 'UpperStretching': 140.28761291503906, 'Gaming': 156.61270141601562, 'LowerStretching': 165.24656677246094, 'Walking': 154.0061492919922, 'Reacting': 144.63381958007812, 'Patting': 165.4527130126953, 'Gesticuling': 104.69487762451172, 'Talking': 102.88074493408203, 'Greeting': 121.85550689697266}}\n"
     ]
    },
    {
     "name": "stderr",
     "output_type": "stream",
     "text": [
      " 90%|████████▉ | 4800/5352 [27:48<03:15,  2.82it/s]"
     ]
    },
    {
     "name": "stdout",
     "output_type": "stream",
     "text": [
      "{'FullBody': {'All': 130.22821044921875, 'UpperStretching': 131.7411651611328, 'Gaming': 133.21812438964844, 'LowerStretching': 129.4663848876953, 'Walking': 130.44598388671875, 'Reacting': 132.7257537841797, 'Patting': 141.0999755859375, 'Gesticuling': 104.87338256835938, 'Talking': 103.08346557617188, 'Greeting': 116.60867309570312}, 'UpperBody': {'All': 114.86691284179688, 'UpperStretching': 123.21968078613281, 'Gaming': 110.20361328125, 'LowerStretching': 93.81097412109375, 'Walking': 106.99059295654297, 'Reacting': 121.03922271728516, 'Patting': 116.82736206054688, 'Gesticuling': 105.13780212402344, 'Talking': 102.84272766113281, 'Greeting': 111.35454559326172}, 'LowerBody': {'All': 145.5895233154297, 'UpperStretching': 140.2626495361328, 'Gaming': 156.23263549804688, 'LowerStretching': 165.12179565429688, 'Walking': 153.9013671875, 'Reacting': 144.41224670410156, 'Patting': 165.3726043701172, 'Gesticuling': 104.60896301269531, 'Talking': 103.3241958618164, 'Greeting': 121.86279296875}}\n"
     ]
    },
    {
     "name": "stderr",
     "output_type": "stream",
     "text": [
      " 93%|█████████▎| 5000/5352 [28:57<02:05,  2.81it/s]"
     ]
    },
    {
     "name": "stdout",
     "output_type": "stream",
     "text": [
      "{'FullBody': {'All': 130.19674682617188, 'UpperStretching': 131.6746063232422, 'Gaming': 133.10629272460938, 'LowerStretching': 129.5236358642578, 'Walking': 130.38894653320312, 'Reacting': 133.0789031982422, 'Patting': 141.0067596435547, 'Gesticuling': 104.7474136352539, 'Talking': 102.97451782226562, 'Greeting': 116.7274398803711}, 'UpperBody': {'All': 114.82353973388672, 'UpperStretching': 123.16404724121094, 'Gaming': 110.00726318359375, 'LowerStretching': 93.86201477050781, 'Walking': 106.87201690673828, 'Reacting': 121.33649444580078, 'Patting': 116.8305435180664, 'Gesticuling': 104.97972869873047, 'Talking': 102.63299560546875, 'Greeting': 111.38130187988281}, 'LowerBody': {'All': 145.56997680664062, 'UpperStretching': 140.18515014648438, 'Gaming': 156.20530700683594, 'LowerStretching': 165.18524169921875, 'Walking': 153.90586853027344, 'Reacting': 144.8212890625, 'Patting': 165.18295288085938, 'Gesticuling': 104.51509094238281, 'Talking': 103.3160400390625, 'Greeting': 122.07357788085938}}\n"
     ]
    },
    {
     "name": "stderr",
     "output_type": "stream",
     "text": [
      " 97%|█████████▋| 5200/5352 [30:07<00:54,  2.81it/s]"
     ]
    },
    {
     "name": "stdout",
     "output_type": "stream",
     "text": [
      "{'FullBody': {'All': 130.18954467773438, 'UpperStretching': 131.67698669433594, 'Gaming': 133.10667419433594, 'LowerStretching': 129.57972717285156, 'Walking': 130.18161010742188, 'Reacting': 133.1173858642578, 'Patting': 141.02220153808594, 'Gesticuling': 104.76944732666016, 'Talking': 103.48029327392578, 'Greeting': 116.94666290283203}, 'UpperBody': {'All': 114.78978729248047, 'UpperStretching': 123.14129638671875, 'Gaming': 109.81343841552734, 'LowerStretching': 93.90013122558594, 'Walking': 106.72164916992188, 'Reacting': 121.52806091308594, 'Patting': 116.69970703125, 'Gesticuling': 104.94361877441406, 'Talking': 103.04170227050781, 'Greeting': 111.49588012695312}, 'LowerBody': {'All': 145.5893096923828, 'UpperStretching': 140.21267700195312, 'Gaming': 156.39993286132812, 'LowerStretching': 165.25930786132812, 'Walking': 153.6415557861328, 'Reacting': 144.70669555664062, 'Patting': 165.34469604492188, 'Gesticuling': 104.59526824951172, 'Talking': 103.91889190673828, 'Greeting': 122.39744567871094}}\n"
     ]
    },
    {
     "name": "stderr",
     "output_type": "stream",
     "text": [
      "100%|██████████| 5352/5352 [30:59<00:00,  2.88it/s]\n",
      "\u001b[94m09:59:30 \u001b[92m[INFO]\u001b[94m Main\u001b[0m: Saving evaluation results...\n",
      "\u001b[94m09:59:30 \u001b[92m[INFO]\u001b[94m Main\u001b[0m: Done.\n",
      "\u001b[94m09:59:30 \u001b[92m[INFO]\u001b[94m Main\u001b[0m: Starting demo...\n",
      "  0%|          | 0/5352 [00:00<?, ?it/s]/opt/conda/lib/python3.10/site-packages/torchvision/transforms/transforms.py:329: UserWarning: Argument 'interpolation' of type int is deprecated since 0.13 and will be removed in 0.15. Please use InterpolationMode enum.\n",
      "  warnings.warn(\n",
      "/opt/conda/lib/python3.10/site-packages/torchvision/transforms/transforms.py:329: UserWarning: Argument 'interpolation' of type int is deprecated since 0.13 and will be removed in 0.15. Please use InterpolationMode enum.\n",
      "  warnings.warn(\n",
      "/opt/conda/lib/python3.10/site-packages/torchvision/transforms/transforms.py:329: UserWarning: Argument 'interpolation' of type int is deprecated since 0.13 and will be removed in 0.15. Please use InterpolationMode enum.\n",
      "  warnings.warn(\n",
      "/opt/conda/lib/python3.10/site-packages/torchvision/transforms/transforms.py:329: UserWarning: Argument 'interpolation' of type int is deprecated since 0.13 and will be removed in 0.15. Please use InterpolationMode enum.\n",
      "  warnings.warn(\n",
      "/opt/conda/lib/python3.10/site-packages/torchvision/transforms/transforms.py:329: UserWarning: Argument 'interpolation' of type int is deprecated since 0.13 and will be removed in 0.15. Please use InterpolationMode enum.\n",
      "  warnings.warn(\n",
      "/opt/conda/lib/python3.10/site-packages/torchvision/transforms/transforms.py:329: UserWarning: Argument 'interpolation' of type int is deprecated since 0.13 and will be removed in 0.15. Please use InterpolationMode enum.\n",
      "  warnings.warn(\n",
      "/opt/conda/lib/python3.10/site-packages/torchvision/transforms/transforms.py:329: UserWarning: Argument 'interpolation' of type int is deprecated since 0.13 and will be removed in 0.15. Please use InterpolationMode enum.\n",
      "  warnings.warn(\n",
      "/opt/conda/lib/python3.10/site-packages/torchvision/transforms/transforms.py:329: UserWarning: Argument 'interpolation' of type int is deprecated since 0.13 and will be removed in 0.15. Please use InterpolationMode enum.\n",
      "  warnings.warn(\n",
      "/opt/conda/lib/python3.10/site-packages/torchvision/transforms/transforms.py:329: UserWarning: Argument 'interpolation' of type int is deprecated since 0.13 and will be removed in 0.15. Please use InterpolationMode enum.\n",
      "  warnings.warn(\n",
      "/opt/conda/lib/python3.10/site-packages/torchvision/transforms/transforms.py:329: UserWarning: Argument 'interpolation' of type int is deprecated since 0.13 and will be removed in 0.15. Please use InterpolationMode enum.\n",
      "  warnings.warn(\n",
      "/opt/conda/lib/python3.10/site-packages/torchvision/transforms/transforms.py:329: UserWarning: Argument 'interpolation' of type int is deprecated since 0.13 and will be removed in 0.15. Please use InterpolationMode enum.\n",
      "  warnings.warn(\n",
      "/opt/conda/lib/python3.10/site-packages/torchvision/transforms/transforms.py:329: UserWarning: Argument 'interpolation' of type int is deprecated since 0.13 and will be removed in 0.15. Please use InterpolationMode enum.\n",
      "  warnings.warn(\n",
      "/opt/conda/lib/python3.10/site-packages/torchvision/transforms/transforms.py:329: UserWarning: Argument 'interpolation' of type int is deprecated since 0.13 and will be removed in 0.15. Please use InterpolationMode enum.\n",
      "  warnings.warn(\n",
      "/opt/conda/lib/python3.10/site-packages/torchvision/transforms/transforms.py:329: UserWarning: Argument 'interpolation' of type int is deprecated since 0.13 and will be removed in 0.15. Please use InterpolationMode enum.\n",
      "  warnings.warn(\n",
      "/opt/conda/lib/python3.10/site-packages/torchvision/transforms/transforms.py:329: UserWarning: Argument 'interpolation' of type int is deprecated since 0.13 and will be removed in 0.15. Please use InterpolationMode enum.\n",
      "  warnings.warn(\n",
      "/opt/conda/lib/python3.10/site-packages/torchvision/transforms/transforms.py:329: UserWarning: Argument 'interpolation' of type int is deprecated since 0.13 and will be removed in 0.15. Please use InterpolationMode enum.\n",
      "  warnings.warn(\n",
      "/opt/conda/lib/python3.10/site-packages/torchvision/transforms/transforms.py:329: UserWarning: Argument 'interpolation' of type int is deprecated since 0.13 and will be removed in 0.15. Please use InterpolationMode enum.\n",
      "  warnings.warn(\n",
      "/opt/conda/lib/python3.10/site-packages/torchvision/transforms/transforms.py:329: UserWarning: Argument 'interpolation' of type int is deprecated since 0.13 and will be removed in 0.15. Please use InterpolationMode enum.\n",
      "  warnings.warn(\n",
      "/opt/conda/lib/python3.10/site-packages/torchvision/transforms/transforms.py:329: UserWarning: Argument 'interpolation' of type int is deprecated since 0.13 and will be removed in 0.15. Please use InterpolationMode enum.\n",
      "  warnings.warn(\n",
      "/opt/conda/lib/python3.10/site-packages/torchvision/transforms/transforms.py:329: UserWarning: Argument 'interpolation' of type int is deprecated since 0.13 and will be removed in 0.15. Please use InterpolationMode enum.\n",
      "  warnings.warn(\n",
      "/opt/conda/lib/python3.10/site-packages/torchvision/transforms/transforms.py:329: UserWarning: Argument 'interpolation' of type int is deprecated since 0.13 and will be removed in 0.15. Please use InterpolationMode enum.\n",
      "  warnings.warn(\n",
      "/opt/conda/lib/python3.10/site-packages/torchvision/transforms/transforms.py:329: UserWarning: Argument 'interpolation' of type int is deprecated since 0.13 and will be removed in 0.15. Please use InterpolationMode enum.\n",
      "  warnings.warn(\n",
      "/opt/conda/lib/python3.10/site-packages/torchvision/transforms/transforms.py:329: UserWarning: Argument 'interpolation' of type int is deprecated since 0.13 and will be removed in 0.15. Please use InterpolationMode enum.\n",
      "  warnings.warn(\n",
      "/opt/conda/lib/python3.10/site-packages/torchvision/transforms/transforms.py:329: UserWarning: Argument 'interpolation' of type int is deprecated since 0.13 and will be removed in 0.15. Please use InterpolationMode enum.\n",
      "  warnings.warn(\n",
      "  4%|▎         | 200/5352 [01:13<29:50,  2.88it/s]"
     ]
    },
    {
     "name": "stdout",
     "output_type": "stream",
     "text": [
      "{'FullBody': {'All': 210.3780517578125, 'UpperStretching': 207.6994171142578, 'LowerStretching': 250.26112365722656, 'Walking': 225.89927673339844, 'Talking': 125.34114074707031, 'Gesticuling': 113.2503433227539, 'Greeting': 118.09263610839844, 'Patting': 155.00062561035156, 'Reacting': 162.81982421875, 'Gaming': 138.4700927734375}, 'UpperBody': {'All': 171.80845642089844, 'UpperStretching': 183.34432983398438, 'LowerStretching': 161.33274841308594, 'Walking': 166.824462890625, 'Talking': 133.76536560058594, 'Gesticuling': 112.51712036132812, 'Greeting': 127.83634185791016, 'Patting': 155.6468048095703, 'Reacting': 140.53907775878906, 'Gaming': 124.20329284667969}, 'LowerBody': {'All': 248.94761657714844, 'UpperStretching': 232.0544891357422, 'LowerStretching': 339.1894836425781, 'Walking': 284.9740905761719, 'Talking': 116.91693115234375, 'Gesticuling': 113.98355102539062, 'Greeting': 108.34893798828125, 'Patting': 154.35443115234375, 'Reacting': 185.10057067871094, 'Gaming': 152.73692321777344}}\n"
     ]
    },
    {
     "name": "stderr",
     "output_type": "stream",
     "text": [
      "  7%|▋         | 400/5352 [02:22<28:45,  2.87it/s]"
     ]
    },
    {
     "name": "stdout",
     "output_type": "stream",
     "text": [
      "{'FullBody': {'All': 211.46343994140625, 'UpperStretching': 209.5198974609375, 'LowerStretching': 250.5535125732422, 'Walking': 227.09310913085938, 'Talking': 121.74394226074219, 'Gesticuling': 114.12782287597656, 'Greeting': 123.41080474853516, 'Patting': 154.44680786132812, 'Reacting': 170.92420959472656, 'Gaming': 148.47805786132812}, 'UpperBody': {'All': 171.68443298339844, 'UpperStretching': 183.6361083984375, 'LowerStretching': 159.93614196777344, 'Walking': 167.26304626464844, 'Talking': 131.16073608398438, 'Gesticuling': 114.02245330810547, 'Greeting': 132.61355590820312, 'Patting': 150.2493133544922, 'Reacting': 141.61322021484375, 'Gaming': 130.6691436767578}, 'LowerBody': {'All': 251.24246215820312, 'UpperStretching': 235.40370178222656, 'LowerStretching': 341.17083740234375, 'Walking': 286.92315673828125, 'Talking': 112.3271713256836, 'Gesticuling': 114.23316192626953, 'Greeting': 114.20802307128906, 'Patting': 158.644287109375, 'Reacting': 200.23519897460938, 'Gaming': 166.28697204589844}}\n"
     ]
    },
    {
     "name": "stderr",
     "output_type": "stream",
     "text": [
      " 11%|█         | 600/5352 [03:31<27:31,  2.88it/s]"
     ]
    },
    {
     "name": "stdout",
     "output_type": "stream",
     "text": [
      "{'FullBody': {'All': 211.33056640625, 'UpperStretching': 209.71792602539062, 'LowerStretching': 250.07447814941406, 'Walking': 225.9846649169922, 'Talking': 122.06957244873047, 'Gesticuling': 116.2481460571289, 'Greeting': 123.61084747314453, 'Patting': 151.8048553466797, 'Reacting': 172.93984985351562, 'Gaming': 149.30946350097656}, 'UpperBody': {'All': 171.686279296875, 'UpperStretching': 183.8331756591797, 'LowerStretching': 159.9073486328125, 'Walking': 165.92959594726562, 'Talking': 131.75521850585938, 'Gesticuling': 115.94037628173828, 'Greeting': 130.4548797607422, 'Patting': 146.1564483642578, 'Reacting': 142.04107666015625, 'Gaming': 132.21621704101562}, 'LowerBody': {'All': 250.97483825683594, 'UpperStretching': 235.60267639160156, 'LowerStretching': 340.2415771484375, 'Walking': 286.03973388671875, 'Talking': 112.38395690917969, 'Gesticuling': 116.55591583251953, 'Greeting': 116.76681518554688, 'Patting': 157.4532470703125, 'Reacting': 203.83863830566406, 'Gaming': 166.4027099609375}}\n"
     ]
    },
    {
     "name": "stderr",
     "output_type": "stream",
     "text": [
      " 15%|█▍        | 800/5352 [04:41<26:22,  2.88it/s]"
     ]
    },
    {
     "name": "stdout",
     "output_type": "stream",
     "text": [
      "{'FullBody': {'All': 210.50042724609375, 'UpperStretching': 208.97549438476562, 'LowerStretching': 246.59140014648438, 'Walking': 226.00335693359375, 'Talking': 122.12366485595703, 'Gesticuling': 115.46583557128906, 'Greeting': 123.10455322265625, 'Patting': 156.9506072998047, 'Reacting': 173.68496704101562, 'Gaming': 150.8558807373047}, 'UpperBody': {'All': 171.4240264892578, 'UpperStretching': 183.65150451660156, 'LowerStretching': 159.1192169189453, 'Walking': 165.22561645507812, 'Talking': 130.2745819091797, 'Gesticuling': 115.52314758300781, 'Greeting': 129.96258544921875, 'Patting': 148.10430908203125, 'Reacting': 142.69207763671875, 'Gaming': 134.18592834472656}, 'LowerBody': {'All': 249.57684326171875, 'UpperStretching': 234.29946899414062, 'LowerStretching': 334.06353759765625, 'Walking': 286.7810974121094, 'Talking': 113.9727554321289, 'Gesticuling': 115.40853118896484, 'Greeting': 116.24653625488281, 'Patting': 165.79690551757812, 'Reacting': 204.67784118652344, 'Gaming': 167.52584838867188}}\n"
     ]
    },
    {
     "name": "stderr",
     "output_type": "stream",
     "text": [
      " 19%|█▊        | 1000/5352 [05:50<25:15,  2.87it/s]"
     ]
    },
    {
     "name": "stdout",
     "output_type": "stream",
     "text": [
      "{'FullBody': {'All': 210.8446807861328, 'UpperStretching': 209.48660278320312, 'LowerStretching': 246.8565673828125, 'Walking': 225.28887939453125, 'Talking': 124.01091003417969, 'Gesticuling': 116.47433471679688, 'Greeting': 124.65933990478516, 'Patting': 154.87393188476562, 'Reacting': 174.44631958007812, 'Gaming': 152.84605407714844}, 'UpperBody': {'All': 171.52537536621094, 'UpperStretching': 183.57418823242188, 'LowerStretching': 160.00172424316406, 'Walking': 165.1182098388672, 'Talking': 130.2737579345703, 'Gesticuling': 117.3064956665039, 'Greeting': 130.78125, 'Patting': 147.0950164794922, 'Reacting': 143.02427673339844, 'Gaming': 133.65625}, 'LowerBody': {'All': 250.16397094726562, 'UpperStretching': 235.3990020751953, 'LowerStretching': 333.71142578125, 'Walking': 285.4595642089844, 'Talking': 117.74805450439453, 'Gesticuling': 115.6421890258789, 'Greeting': 118.53743743896484, 'Patting': 162.65283203125, 'Reacting': 205.86837768554688, 'Gaming': 172.0358428955078}}\n"
     ]
    },
    {
     "name": "stderr",
     "output_type": "stream",
     "text": [
      " 22%|██▏       | 1200/5352 [07:00<24:08,  2.87it/s]"
     ]
    },
    {
     "name": "stdout",
     "output_type": "stream",
     "text": [
      "{'FullBody': {'All': 210.21978759765625, 'UpperStretching': 208.9851531982422, 'LowerStretching': 245.82179260253906, 'Walking': 225.58419799804688, 'Talking': 124.3761215209961, 'Gesticuling': 116.36497497558594, 'Greeting': 124.47868347167969, 'Patting': 153.19432067871094, 'Reacting': 171.73382568359375, 'Gaming': 153.36595153808594}, 'UpperBody': {'All': 171.42510986328125, 'UpperStretching': 183.529052734375, 'LowerStretching': 159.8380126953125, 'Walking': 164.9873504638672, 'Talking': 131.52230834960938, 'Gesticuling': 116.05132293701172, 'Greeting': 130.6873321533203, 'Patting': 146.5659942626953, 'Reacting': 142.20433044433594, 'Gaming': 134.0728302001953}, 'LowerBody': {'All': 249.0144500732422, 'UpperStretching': 234.44126892089844, 'LowerStretching': 331.8056335449219, 'Walking': 286.1809997558594, 'Talking': 117.2299575805664, 'Gesticuling': 116.67864227294922, 'Greeting': 118.27001953125, 'Patting': 159.82266235351562, 'Reacting': 201.26332092285156, 'Gaming': 172.65907287597656}}\n"
     ]
    },
    {
     "name": "stderr",
     "output_type": "stream",
     "text": [
      " 26%|██▌       | 1400/5352 [08:09<22:55,  2.87it/s]"
     ]
    },
    {
     "name": "stdout",
     "output_type": "stream",
     "text": [
      "{'FullBody': {'All': 209.75230407714844, 'UpperStretching': 208.4846649169922, 'LowerStretching': 245.4363555908203, 'Walking': 225.69017028808594, 'Talking': 123.91966247558594, 'Gesticuling': 116.71571350097656, 'Greeting': 124.63992309570312, 'Patting': 151.55677795410156, 'Reacting': 170.23428344726562, 'Gaming': 153.43824768066406}, 'UpperBody': {'All': 171.122314453125, 'UpperStretching': 183.2237091064453, 'LowerStretching': 159.44174194335938, 'Walking': 164.64849853515625, 'Talking': 131.50613403320312, 'Gesticuling': 116.25029754638672, 'Greeting': 130.90997314453125, 'Patting': 146.49317932128906, 'Reacting': 142.6747283935547, 'Gaming': 133.85475158691406}, 'LowerBody': {'All': 248.3822479248047, 'UpperStretching': 233.74557495117188, 'LowerStretching': 331.4309997558594, 'Walking': 286.7318420410156, 'Talking': 116.33318328857422, 'Gesticuling': 117.18112182617188, 'Greeting': 118.369873046875, 'Patting': 156.62037658691406, 'Reacting': 197.79385375976562, 'Gaming': 173.0217742919922}}\n"
     ]
    },
    {
     "name": "stderr",
     "output_type": "stream",
     "text": [
      " 30%|██▉       | 1600/5352 [09:18<21:49,  2.87it/s]"
     ]
    },
    {
     "name": "stdout",
     "output_type": "stream",
     "text": [
      "{'FullBody': {'All': 210.09500122070312, 'UpperStretching': 208.80487060546875, 'LowerStretching': 246.1496124267578, 'Walking': 226.28382873535156, 'Talking': 124.20028686523438, 'Gesticuling': 116.42410278320312, 'Greeting': 124.7635269165039, 'Patting': 152.15457153320312, 'Reacting': 170.22987365722656, 'Gaming': 154.66102600097656}, 'UpperBody': {'All': 171.3160400390625, 'UpperStretching': 183.5620574951172, 'LowerStretching': 159.37339782714844, 'Walking': 164.4698486328125, 'Talking': 131.23248291015625, 'Gesticuling': 115.71223449707031, 'Greeting': 130.36009216308594, 'Patting': 146.91082763671875, 'Reacting': 142.68408203125, 'Gaming': 134.80319213867188}, 'LowerBody': {'All': 248.87393188476562, 'UpperStretching': 234.04771423339844, 'LowerStretching': 332.9258117675781, 'Walking': 288.0977783203125, 'Talking': 117.16808319091797, 'Gesticuling': 117.13595581054688, 'Greeting': 119.16696166992188, 'Patting': 157.3983154296875, 'Reacting': 197.775634765625, 'Gaming': 174.51885986328125}}\n"
     ]
    },
    {
     "name": "stderr",
     "output_type": "stream",
     "text": [
      " 34%|███▎      | 1800/5352 [10:28<20:40,  2.86it/s]"
     ]
    },
    {
     "name": "stdout",
     "output_type": "stream",
     "text": [
      "{'FullBody': {'All': 210.26168823242188, 'UpperStretching': 208.98941040039062, 'LowerStretching': 246.1333465576172, 'Walking': 226.6882781982422, 'Talking': 125.98958587646484, 'Gesticuling': 116.34223937988281, 'Greeting': 124.49015808105469, 'Patting': 153.108642578125, 'Reacting': 169.8140411376953, 'Gaming': 155.39434814453125}, 'UpperBody': {'All': 171.36378479003906, 'UpperStretching': 183.5376739501953, 'LowerStretching': 158.91502380371094, 'Walking': 165.2245635986328, 'Talking': 132.3424530029297, 'Gesticuling': 115.71851348876953, 'Greeting': 130.10971069335938, 'Patting': 147.27426147460938, 'Reacting': 143.04754638671875, 'Gaming': 135.5751495361328}, 'LowerBody': {'All': 249.1595458984375, 'UpperStretching': 234.4410858154297, 'LowerStretching': 333.35162353515625, 'Walking': 288.1520080566406, 'Talking': 119.63671875, 'Gesticuling': 116.9659423828125, 'Greeting': 118.87059020996094, 'Patting': 158.94300842285156, 'Reacting': 196.58055114746094, 'Gaming': 175.21351623535156}}\n"
     ]
    },
    {
     "name": "stderr",
     "output_type": "stream",
     "text": [
      " 37%|███▋      | 2000/5352 [11:37<19:28,  2.87it/s]"
     ]
    },
    {
     "name": "stdout",
     "output_type": "stream",
     "text": [
      "{'FullBody': {'All': 210.20388793945312, 'UpperStretching': 208.7040557861328, 'LowerStretching': 246.61204528808594, 'Walking': 226.4819793701172, 'Talking': 125.94419860839844, 'Gesticuling': 116.74176788330078, 'Greeting': 124.67070770263672, 'Patting': 151.95840454101562, 'Reacting': 169.98233032226562, 'Gaming': 155.8650360107422}, 'UpperBody': {'All': 171.3405303955078, 'UpperStretching': 183.38235473632812, 'LowerStretching': 159.05902099609375, 'Walking': 165.3041534423828, 'Talking': 132.1912841796875, 'Gesticuling': 116.21807098388672, 'Greeting': 130.54701232910156, 'Patting': 146.67379760742188, 'Reacting': 143.56350708007812, 'Gaming': 135.5694122314453}, 'LowerBody': {'All': 249.06719970703125, 'UpperStretching': 234.0257110595703, 'LowerStretching': 334.16510009765625, 'Walking': 287.6598205566406, 'Talking': 119.69711303710938, 'Gesticuling': 117.26545715332031, 'Greeting': 118.79442596435547, 'Patting': 157.24301147460938, 'Reacting': 196.40115356445312, 'Gaming': 176.16061401367188}}\n"
     ]
    },
    {
     "name": "stderr",
     "output_type": "stream",
     "text": [
      " 41%|████      | 2200/5352 [12:46<18:22,  2.86it/s]"
     ]
    },
    {
     "name": "stdout",
     "output_type": "stream",
     "text": [
      "{'FullBody': {'All': 210.07443237304688, 'UpperStretching': 208.53741455078125, 'LowerStretching': 246.76727294921875, 'Walking': 226.56558227539062, 'Talking': 125.83639526367188, 'Gesticuling': 117.10637664794922, 'Greeting': 124.74244689941406, 'Patting': 149.9775848388672, 'Reacting': 170.19049072265625, 'Gaming': 156.16368103027344}, 'UpperBody': {'All': 171.38589477539062, 'UpperStretching': 183.49740600585938, 'LowerStretching': 158.90245056152344, 'Walking': 165.21090698242188, 'Talking': 132.12261962890625, 'Gesticuling': 116.58663940429688, 'Greeting': 131.1753387451172, 'Patting': 145.80853271484375, 'Reacting': 144.14834594726562, 'Gaming': 136.07861328125}, 'LowerBody': {'All': 248.76292419433594, 'UpperStretching': 233.57740783691406, 'LowerStretching': 334.632080078125, 'Walking': 287.9202575683594, 'Talking': 119.55016326904297, 'Gesticuling': 117.6260986328125, 'Greeting': 118.30958557128906, 'Patting': 154.1466522216797, 'Reacting': 196.2326202392578, 'Gaming': 176.24874877929688}}\n"
     ]
    },
    {
     "name": "stderr",
     "output_type": "stream",
     "text": [
      " 45%|████▍     | 2400/5352 [13:55<17:12,  2.86it/s]"
     ]
    },
    {
     "name": "stdout",
     "output_type": "stream",
     "text": [
      "{'FullBody': {'All': 210.09617614746094, 'UpperStretching': 208.7807159423828, 'LowerStretching': 246.41152954101562, 'Walking': 226.30201721191406, 'Talking': 126.71892547607422, 'Gesticuling': 117.15740966796875, 'Greeting': 125.34923553466797, 'Patting': 149.37132263183594, 'Reacting': 169.30810546875, 'Gaming': 156.2084197998047}, 'UpperBody': {'All': 171.46951293945312, 'UpperStretching': 183.7127685546875, 'LowerStretching': 158.7063446044922, 'Walking': 165.08895874023438, 'Talking': 132.58238220214844, 'Gesticuling': 116.71478271484375, 'Greeting': 131.35414123535156, 'Patting': 145.6715545654297, 'Reacting': 143.8446502685547, 'Gaming': 136.0047149658203}, 'LowerBody': {'All': 248.72280883789062, 'UpperStretching': 233.84861755371094, 'LowerStretching': 334.1167297363281, 'Walking': 287.51507568359375, 'Talking': 120.85545349121094, 'Gesticuling': 117.60005950927734, 'Greeting': 119.34435272216797, 'Patting': 153.07107543945312, 'Reacting': 194.7715606689453, 'Gaming': 176.41207885742188}}\n"
     ]
    },
    {
     "name": "stderr",
     "output_type": "stream",
     "text": [
      " 49%|████▊     | 2600/5352 [15:05<16:07,  2.84it/s]"
     ]
    },
    {
     "name": "stdout",
     "output_type": "stream",
     "text": [
      "{'FullBody': {'All': 209.88047790527344, 'UpperStretching': 208.69606018066406, 'LowerStretching': 245.84703063964844, 'Walking': 225.95108032226562, 'Talking': 126.20368957519531, 'Gesticuling': 117.31688690185547, 'Greeting': 125.08860778808594, 'Patting': 149.58016967773438, 'Reacting': 169.08544921875, 'Gaming': 156.17098999023438}, 'UpperBody': {'All': 171.42156982421875, 'UpperStretching': 183.71017456054688, 'LowerStretching': 158.4508514404297, 'Walking': 164.87319946289062, 'Talking': 132.77093505859375, 'Gesticuling': 116.80309295654297, 'Greeting': 131.04977416992188, 'Patting': 145.65670776367188, 'Reacting': 143.8078155517578, 'Gaming': 136.2272186279297}, 'LowerBody': {'All': 248.33935546875, 'UpperStretching': 233.68194580078125, 'LowerStretching': 333.2431640625, 'Walking': 287.0289306640625, 'Talking': 119.63645935058594, 'Gesticuling': 117.8306655883789, 'Greeting': 119.12743377685547, 'Patting': 153.50363159179688, 'Reacting': 194.36309814453125, 'Gaming': 176.11477661132812}}\n"
     ]
    },
    {
     "name": "stderr",
     "output_type": "stream",
     "text": [
      " 52%|█████▏    | 2800/5352 [16:14<14:54,  2.85it/s]"
     ]
    },
    {
     "name": "stdout",
     "output_type": "stream",
     "text": [
      "{'FullBody': {'All': 210.1240234375, 'UpperStretching': 208.9027099609375, 'LowerStretching': 245.83204650878906, 'Walking': 226.6996307373047, 'Talking': 126.41915130615234, 'Gesticuling': 117.38304138183594, 'Greeting': 125.49337768554688, 'Patting': 149.3628387451172, 'Reacting': 169.69259643554688, 'Gaming': 155.6781463623047}, 'UpperBody': {'All': 171.47885131835938, 'UpperStretching': 183.71255493164062, 'LowerStretching': 158.2636260986328, 'Walking': 165.10067749023438, 'Talking': 133.06857299804688, 'Gesticuling': 116.98700714111328, 'Greeting': 131.2595672607422, 'Patting': 145.9822540283203, 'Reacting': 144.1386260986328, 'Gaming': 135.6809844970703}, 'LowerBody': {'All': 248.76913452148438, 'UpperStretching': 234.09288024902344, 'LowerStretching': 333.40045166015625, 'Walking': 288.298583984375, 'Talking': 119.76973724365234, 'Gesticuling': 117.77909088134766, 'Greeting': 119.72716522216797, 'Patting': 152.74342346191406, 'Reacting': 195.24659729003906, 'Gaming': 175.67532348632812}}\n"
     ]
    },
    {
     "name": "stderr",
     "output_type": "stream",
     "text": [
      " 56%|█████▌    | 3000/5352 [17:24<13:46,  2.85it/s]"
     ]
    },
    {
     "name": "stdout",
     "output_type": "stream",
     "text": [
      "{'FullBody': {'All': 210.12564086914062, 'UpperStretching': 208.92771911621094, 'LowerStretching': 245.67974853515625, 'Walking': 226.42575073242188, 'Talking': 126.35034942626953, 'Gesticuling': 117.65145874023438, 'Greeting': 125.45320129394531, 'Patting': 149.54315185546875, 'Reacting': 170.3754425048828, 'Gaming': 155.3257293701172}, 'UpperBody': {'All': 171.44659423828125, 'UpperStretching': 183.75282287597656, 'LowerStretching': 158.230224609375, 'Walking': 164.99566650390625, 'Talking': 133.2960205078125, 'Gesticuling': 117.23263549804688, 'Greeting': 130.9001007080078, 'Patting': 145.83055114746094, 'Reacting': 143.94276428222656, 'Gaming': 135.4223175048828}, 'LowerBody': {'All': 248.80467224121094, 'UpperStretching': 234.1026153564453, 'LowerStretching': 333.1293029785156, 'Walking': 287.8558349609375, 'Talking': 119.40467071533203, 'Gesticuling': 118.07027435302734, 'Greeting': 120.00627899169922, 'Patting': 153.25579833984375, 'Reacting': 196.80810546875, 'Gaming': 175.22914123535156}}\n"
     ]
    },
    {
     "name": "stderr",
     "output_type": "stream",
     "text": [
      " 60%|█████▉    | 3200/5352 [18:33<12:36,  2.84it/s]"
     ]
    },
    {
     "name": "stdout",
     "output_type": "stream",
     "text": [
      "{'FullBody': {'All': 210.18084716796875, 'UpperStretching': 208.93734741210938, 'LowerStretching': 246.24855041503906, 'Walking': 225.97743225097656, 'Talking': 125.95797729492188, 'Gesticuling': 117.52922821044922, 'Greeting': 124.86153411865234, 'Patting': 149.8901824951172, 'Reacting': 170.03854370117188, 'Gaming': 155.32960510253906}, 'UpperBody': {'All': 171.4473419189453, 'UpperStretching': 183.73684692382812, 'LowerStretching': 158.3853759765625, 'Walking': 164.86802673339844, 'Talking': 133.2366485595703, 'Gesticuling': 117.2137451171875, 'Greeting': 130.42088317871094, 'Patting': 145.69302368164062, 'Reacting': 144.00289916992188, 'Gaming': 135.63633728027344}, 'LowerBody': {'All': 248.91427612304688, 'UpperStretching': 234.13784790039062, 'LowerStretching': 334.11175537109375, 'Walking': 287.08685302734375, 'Talking': 118.67932891845703, 'Gesticuling': 117.84468078613281, 'Greeting': 119.30218505859375, 'Patting': 154.0873565673828, 'Reacting': 196.07421875, 'Gaming': 175.02288818359375}}\n"
     ]
    },
    {
     "name": "stderr",
     "output_type": "stream",
     "text": [
      " 64%|██████▎   | 3400/5352 [19:42<11:27,  2.84it/s]"
     ]
    },
    {
     "name": "stdout",
     "output_type": "stream",
     "text": [
      "{'FullBody': {'All': 210.31396484375, 'UpperStretching': 209.04983520507812, 'LowerStretching': 246.22891235351562, 'Walking': 226.0187225341797, 'Talking': 125.67203521728516, 'Gesticuling': 117.43037414550781, 'Greeting': 125.1351547241211, 'Patting': 149.9619903564453, 'Reacting': 170.19020080566406, 'Gaming': 154.614013671875}, 'UpperBody': {'All': 171.5015869140625, 'UpperStretching': 183.79226684570312, 'LowerStretching': 158.4970703125, 'Walking': 164.96234130859375, 'Talking': 132.9741668701172, 'Gesticuling': 117.1562728881836, 'Greeting': 130.7366943359375, 'Patting': 145.03598022460938, 'Reacting': 144.2464599609375, 'Gaming': 135.30079650878906}, 'LowerBody': {'All': 249.12628173828125, 'UpperStretching': 234.30740356445312, 'LowerStretching': 333.9607849121094, 'Walking': 287.07513427734375, 'Talking': 118.3698959350586, 'Gesticuling': 117.70448303222656, 'Greeting': 119.53363037109375, 'Patting': 154.8880157470703, 'Reacting': 196.1339569091797, 'Gaming': 173.92721557617188}}\n"
     ]
    },
    {
     "name": "stderr",
     "output_type": "stream",
     "text": [
      " 67%|██████▋   | 3600/5352 [20:52<10:16,  2.84it/s]"
     ]
    },
    {
     "name": "stdout",
     "output_type": "stream",
     "text": [
      "{'FullBody': {'All': 210.2830352783203, 'UpperStretching': 209.1779022216797, 'LowerStretching': 245.924072265625, 'Walking': 226.0796661376953, 'Talking': 125.01467895507812, 'Gesticuling': 117.41779327392578, 'Greeting': 125.34689331054688, 'Patting': 149.2554931640625, 'Reacting': 170.25228881835938, 'Gaming': 155.12033081054688}, 'UpperBody': {'All': 171.48062133789062, 'UpperStretching': 183.8506622314453, 'LowerStretching': 158.38735961914062, 'Walking': 164.88096618652344, 'Talking': 132.34605407714844, 'Gesticuling': 117.12358093261719, 'Greeting': 131.0450439453125, 'Patting': 145.00152587890625, 'Reacting': 144.15737915039062, 'Gaming': 135.4140167236328}, 'LowerBody': {'All': 249.0854034423828, 'UpperStretching': 234.50514221191406, 'LowerStretching': 333.4608154296875, 'Walking': 287.2784118652344, 'Talking': 117.68331909179688, 'Gesticuling': 117.71202850341797, 'Greeting': 119.64874267578125, 'Patting': 153.50946044921875, 'Reacting': 196.34718322753906, 'Gaming': 174.82666015625}}\n"
     ]
    },
    {
     "name": "stderr",
     "output_type": "stream",
     "text": [
      " 71%|███████   | 3800/5352 [22:01<09:06,  2.84it/s]"
     ]
    },
    {
     "name": "stdout",
     "output_type": "stream",
     "text": [
      "{'FullBody': {'All': 210.4282684326172, 'UpperStretching': 209.3572235107422, 'LowerStretching': 245.89151000976562, 'Walking': 226.49440002441406, 'Talking': 124.87562561035156, 'Gesticuling': 117.38935089111328, 'Greeting': 125.27423095703125, 'Patting': 149.0311737060547, 'Reacting': 170.3787841796875, 'Gaming': 155.5063018798828}, 'UpperBody': {'All': 171.48809814453125, 'UpperStretching': 183.8324432373047, 'LowerStretching': 158.34083557128906, 'Walking': 164.9054718017578, 'Talking': 132.0596466064453, 'Gesticuling': 117.06199645996094, 'Greeting': 130.98463439941406, 'Patting': 144.9853057861328, 'Reacting': 144.4560089111328, 'Gaming': 135.41180419921875}, 'LowerBody': {'All': 249.36839294433594, 'UpperStretching': 234.8820037841797, 'LowerStretching': 333.44219970703125, 'Walking': 288.0833740234375, 'Talking': 117.69158172607422, 'Gesticuling': 117.71670532226562, 'Greeting': 119.56380462646484, 'Patting': 153.0770263671875, 'Reacting': 196.3015594482422, 'Gaming': 175.6007843017578}}\n"
     ]
    },
    {
     "name": "stderr",
     "output_type": "stream",
     "text": [
      " 75%|███████▍  | 4000/5352 [23:10<07:54,  2.85it/s]"
     ]
    },
    {
     "name": "stdout",
     "output_type": "stream",
     "text": [
      "{'FullBody': {'All': 210.5293731689453, 'UpperStretching': 209.57638549804688, 'LowerStretching': 246.08848571777344, 'Walking': 226.28945922851562, 'Talking': 125.01820373535156, 'Gesticuling': 117.66072082519531, 'Greeting': 125.51614379882812, 'Patting': 149.44541931152344, 'Reacting': 171.50582885742188, 'Gaming': 155.55715942382812}, 'UpperBody': {'All': 171.50880432128906, 'UpperStretching': 183.8939666748047, 'LowerStretching': 158.31842041015625, 'Walking': 164.856689453125, 'Talking': 132.1691436767578, 'Gesticuling': 117.38316345214844, 'Greeting': 131.33499145507812, 'Patting': 144.88430786132812, 'Reacting': 144.68643188476562, 'Gaming': 135.54803466796875}, 'LowerBody': {'All': 249.54991149902344, 'UpperStretching': 235.25880432128906, 'LowerStretching': 333.8585205078125, 'Walking': 287.72222900390625, 'Talking': 117.8672866821289, 'Gesticuling': 117.93827819824219, 'Greeting': 119.69731903076172, 'Patting': 154.00653076171875, 'Reacting': 198.32521057128906, 'Gaming': 175.56626892089844}}\n"
     ]
    },
    {
     "name": "stderr",
     "output_type": "stream",
     "text": [
      " 78%|███████▊  | 4200/5352 [24:20<06:46,  2.84it/s]"
     ]
    },
    {
     "name": "stdout",
     "output_type": "stream",
     "text": [
      "{'FullBody': {'All': 210.45957946777344, 'UpperStretching': 209.60067749023438, 'LowerStretching': 245.57005310058594, 'Walking': 226.1802215576172, 'Talking': 125.15431213378906, 'Gesticuling': 117.63256072998047, 'Greeting': 125.55072021484375, 'Patting': 149.7425994873047, 'Reacting': 171.87673950195312, 'Gaming': 155.5644073486328}, 'UpperBody': {'All': 171.4752197265625, 'UpperStretching': 183.8843994140625, 'LowerStretching': 158.23989868164062, 'Walking': 164.83154296875, 'Talking': 132.05543518066406, 'Gesticuling': 117.121826171875, 'Greeting': 131.32398986816406, 'Patting': 144.83526611328125, 'Reacting': 144.91973876953125, 'Gaming': 135.55638122558594}, 'LowerBody': {'All': 249.44390869140625, 'UpperStretching': 235.31695556640625, 'LowerStretching': 332.90020751953125, 'Walking': 287.5289001464844, 'Talking': 118.253173828125, 'Gesticuling': 118.14330291748047, 'Greeting': 119.77748107910156, 'Patting': 154.64990234375, 'Reacting': 198.83375549316406, 'Gaming': 175.5724334716797}}\n"
     ]
    },
    {
     "name": "stderr",
     "output_type": "stream",
     "text": [
      " 82%|████████▏ | 4400/5352 [25:29<05:36,  2.83it/s]"
     ]
    },
    {
     "name": "stdout",
     "output_type": "stream",
     "text": [
      "{'FullBody': {'All': 210.48233032226562, 'UpperStretching': 209.7387237548828, 'LowerStretching': 245.46852111816406, 'Walking': 226.03414916992188, 'Talking': 125.29039764404297, 'Gesticuling': 117.74491882324219, 'Greeting': 125.90383911132812, 'Patting': 149.82740783691406, 'Reacting': 171.77491760253906, 'Gaming': 155.54344177246094}, 'UpperBody': {'All': 171.46485900878906, 'UpperStretching': 183.89418029785156, 'LowerStretching': 158.17984008789062, 'Walking': 164.85910034179688, 'Talking': 132.20376586914062, 'Gesticuling': 117.06299591064453, 'Greeting': 131.8630828857422, 'Patting': 144.9905548095703, 'Reacting': 144.85789489746094, 'Gaming': 135.53997802734375}, 'LowerBody': {'All': 249.49974060058594, 'UpperStretching': 235.583251953125, 'LowerStretching': 332.7571716308594, 'Walking': 287.209228515625, 'Talking': 118.37701416015625, 'Gesticuling': 118.42682647705078, 'Greeting': 119.94462585449219, 'Patting': 154.66424560546875, 'Reacting': 198.69192504882812, 'Gaming': 175.54690551757812}}\n"
     ]
    },
    {
     "name": "stderr",
     "output_type": "stream",
     "text": [
      " 86%|████████▌ | 4600/5352 [26:38<04:26,  2.82it/s]"
     ]
    },
    {
     "name": "stdout",
     "output_type": "stream",
     "text": [
      "{'FullBody': {'All': 210.62835693359375, 'UpperStretching': 209.87380981445312, 'LowerStretching': 245.67413330078125, 'Walking': 226.00050354003906, 'Talking': 125.5622329711914, 'Gesticuling': 117.76974487304688, 'Greeting': 126.06813049316406, 'Patting': 150.36085510253906, 'Reacting': 171.55001831054688, 'Gaming': 155.6526336669922}, 'UpperBody': {'All': 171.46522521972656, 'UpperStretching': 183.87033081054688, 'LowerStretching': 158.21446228027344, 'Walking': 164.87384033203125, 'Talking': 132.302734375, 'Gesticuling': 117.25182342529297, 'Greeting': 131.8949432373047, 'Patting': 145.368408203125, 'Reacting': 144.7715301513672, 'Gaming': 135.43150329589844}, 'LowerBody': {'All': 249.79144287109375, 'UpperStretching': 235.87730407714844, 'LowerStretching': 333.1337585449219, 'Walking': 287.1271667480469, 'Talking': 118.8217544555664, 'Gesticuling': 118.28767395019531, 'Greeting': 120.2413101196289, 'Patting': 155.35328674316406, 'Reacting': 198.3285369873047, 'Gaming': 175.87376403808594}}\n"
     ]
    },
    {
     "name": "stderr",
     "output_type": "stream",
     "text": [
      " 90%|████████▉ | 4800/5352 [27:48<03:15,  2.82it/s]"
     ]
    },
    {
     "name": "stdout",
     "output_type": "stream",
     "text": [
      "{'FullBody': {'All': 210.64263916015625, 'UpperStretching': 209.9126434326172, 'LowerStretching': 245.5846405029297, 'Walking': 226.15151977539062, 'Talking': 125.29719543457031, 'Gesticuling': 117.88288879394531, 'Greeting': 126.13042449951172, 'Patting': 150.7537078857422, 'Reacting': 171.34793090820312, 'Gaming': 155.1585693359375}, 'UpperBody': {'All': 171.44618225097656, 'UpperStretching': 183.84500122070312, 'LowerStretching': 158.14955139160156, 'Walking': 165.06956481933594, 'Talking': 132.1873016357422, 'Gesticuling': 117.43228149414062, 'Greeting': 131.81275939941406, 'Patting': 145.44232177734375, 'Reacting': 144.4370574951172, 'Gaming': 135.09703063964844}, 'LowerBody': {'All': 249.8390350341797, 'UpperStretching': 235.98028564453125, 'LowerStretching': 333.019775390625, 'Walking': 287.2335205078125, 'Talking': 118.40709686279297, 'Gesticuling': 118.33348083496094, 'Greeting': 120.44810485839844, 'Patting': 156.06507873535156, 'Reacting': 198.2588348388672, 'Gaming': 175.22010803222656}}\n"
     ]
    },
    {
     "name": "stderr",
     "output_type": "stream",
     "text": [
      " 93%|█████████▎| 5000/5352 [28:57<02:04,  2.82it/s]"
     ]
    },
    {
     "name": "stdout",
     "output_type": "stream",
     "text": [
      "{'FullBody': {'All': 210.57757568359375, 'UpperStretching': 209.7963104248047, 'LowerStretching': 245.84033203125, 'Walking': 225.77883911132812, 'Talking': 125.25785064697266, 'Gesticuling': 118.03656768798828, 'Greeting': 126.09844207763672, 'Patting': 150.4658203125, 'Reacting': 171.2911834716797, 'Gaming': 155.30447387695312}, 'UpperBody': {'All': 171.41867065429688, 'UpperStretching': 183.7968292236328, 'LowerStretching': 158.25819396972656, 'Walking': 164.9556884765625, 'Talking': 132.1134490966797, 'Gesticuling': 117.59507751464844, 'Greeting': 131.70303344726562, 'Patting': 145.12535095214844, 'Reacting': 144.45388793945312, 'Gaming': 135.31834411621094}, 'LowerBody': {'All': 249.73641967773438, 'UpperStretching': 235.79583740234375, 'LowerStretching': 333.4224853515625, 'Walking': 286.6020202636719, 'Talking': 118.40226745605469, 'Gesticuling': 118.47806549072266, 'Greeting': 120.49384307861328, 'Patting': 155.8062744140625, 'Reacting': 198.12852478027344, 'Gaming': 175.2906036376953}}\n"
     ]
    },
    {
     "name": "stderr",
     "output_type": "stream",
     "text": [
      " 97%|█████████▋| 5200/5352 [30:07<00:54,  2.79it/s]"
     ]
    },
    {
     "name": "stdout",
     "output_type": "stream",
     "text": [
      "{'FullBody': {'All': 210.41522216796875, 'UpperStretching': 209.68743896484375, 'LowerStretching': 245.71206665039062, 'Walking': 225.27853393554688, 'Talking': 124.9915771484375, 'Gesticuling': 118.2122802734375, 'Greeting': 126.31076049804688, 'Patting': 150.1036834716797, 'Reacting': 171.15513610839844, 'Gaming': 155.23406982421875}, 'UpperBody': {'All': 171.39976501464844, 'UpperStretching': 183.78781127929688, 'LowerStretching': 158.20306396484375, 'Walking': 164.878173828125, 'Talking': 132.01480102539062, 'Gesticuling': 117.81071472167969, 'Greeting': 131.84927368164062, 'Patting': 145.24766540527344, 'Reacting': 144.61329650878906, 'Gaming': 135.47764587402344}, 'LowerBody': {'All': 249.43064880371094, 'UpperStretching': 235.58705139160156, 'LowerStretching': 333.2210693359375, 'Walking': 285.6789245605469, 'Talking': 117.96836853027344, 'Gesticuling': 118.61384582519531, 'Greeting': 120.772216796875, 'Patting': 154.95968627929688, 'Reacting': 197.6969757080078, 'Gaming': 174.99050903320312}}\n"
     ]
    },
    {
     "name": "stderr",
     "output_type": "stream",
     "text": [
      "100%|██████████| 5352/5352 [30:59<00:00,  2.88it/s]\n",
      "\u001b[94m10:30:33 \u001b[92m[INFO]\u001b[94m Main\u001b[0m: Saving evaluation results...\n",
      "\u001b[94m10:30:34 \u001b[92m[INFO]\u001b[94m Main\u001b[0m: Done.\n",
      "\u001b[94m10:30:34 \u001b[92m[INFO]\u001b[94m Main\u001b[0m: Starting demo...\n",
      "  0%|          | 0/5352 [00:00<?, ?it/s]/opt/conda/lib/python3.10/site-packages/torchvision/transforms/transforms.py:329: UserWarning: Argument 'interpolation' of type int is deprecated since 0.13 and will be removed in 0.15. Please use InterpolationMode enum.\n",
      "  warnings.warn(\n",
      "/opt/conda/lib/python3.10/site-packages/torchvision/transforms/transforms.py:329: UserWarning: Argument 'interpolation' of type int is deprecated since 0.13 and will be removed in 0.15. Please use InterpolationMode enum.\n",
      "  warnings.warn(\n",
      "/opt/conda/lib/python3.10/site-packages/torchvision/transforms/transforms.py:329: UserWarning: Argument 'interpolation' of type int is deprecated since 0.13 and will be removed in 0.15. Please use InterpolationMode enum.\n",
      "  warnings.warn(\n",
      "/opt/conda/lib/python3.10/site-packages/torchvision/transforms/transforms.py:329: UserWarning: Argument 'interpolation' of type int is deprecated since 0.13 and will be removed in 0.15. Please use InterpolationMode enum.\n",
      "  warnings.warn(\n",
      "/opt/conda/lib/python3.10/site-packages/torchvision/transforms/transforms.py:329: UserWarning: Argument 'interpolation' of type int is deprecated since 0.13 and will be removed in 0.15. Please use InterpolationMode enum.\n",
      "  warnings.warn(\n",
      "/opt/conda/lib/python3.10/site-packages/torchvision/transforms/transforms.py:329: UserWarning: Argument 'interpolation' of type int is deprecated since 0.13 and will be removed in 0.15. Please use InterpolationMode enum.\n",
      "  warnings.warn(\n",
      "/opt/conda/lib/python3.10/site-packages/torchvision/transforms/transforms.py:329: UserWarning: Argument 'interpolation' of type int is deprecated since 0.13 and will be removed in 0.15. Please use InterpolationMode enum.\n",
      "  warnings.warn(\n",
      "/opt/conda/lib/python3.10/site-packages/torchvision/transforms/transforms.py:329: UserWarning: Argument 'interpolation' of type int is deprecated since 0.13 and will be removed in 0.15. Please use InterpolationMode enum.\n",
      "  warnings.warn(\n",
      "/opt/conda/lib/python3.10/site-packages/torchvision/transforms/transforms.py:329: UserWarning: Argument 'interpolation' of type int is deprecated since 0.13 and will be removed in 0.15. Please use InterpolationMode enum.\n",
      "  warnings.warn(\n",
      "/opt/conda/lib/python3.10/site-packages/torchvision/transforms/transforms.py:329: UserWarning: Argument 'interpolation' of type int is deprecated since 0.13 and will be removed in 0.15. Please use InterpolationMode enum.\n",
      "  warnings.warn(\n",
      "/opt/conda/lib/python3.10/site-packages/torchvision/transforms/transforms.py:329: UserWarning: Argument 'interpolation' of type int is deprecated since 0.13 and will be removed in 0.15. Please use InterpolationMode enum.\n",
      "  warnings.warn(\n",
      "/opt/conda/lib/python3.10/site-packages/torchvision/transforms/transforms.py:329: UserWarning: Argument 'interpolation' of type int is deprecated since 0.13 and will be removed in 0.15. Please use InterpolationMode enum.\n",
      "  warnings.warn(\n",
      "/opt/conda/lib/python3.10/site-packages/torchvision/transforms/transforms.py:329: UserWarning: Argument 'interpolation' of type int is deprecated since 0.13 and will be removed in 0.15. Please use InterpolationMode enum.\n",
      "  warnings.warn(\n",
      "/opt/conda/lib/python3.10/site-packages/torchvision/transforms/transforms.py:329: UserWarning: Argument 'interpolation' of type int is deprecated since 0.13 and will be removed in 0.15. Please use InterpolationMode enum.\n",
      "  warnings.warn(\n",
      "/opt/conda/lib/python3.10/site-packages/torchvision/transforms/transforms.py:329: UserWarning: Argument 'interpolation' of type int is deprecated since 0.13 and will be removed in 0.15. Please use InterpolationMode enum.\n",
      "  warnings.warn(\n",
      "/opt/conda/lib/python3.10/site-packages/torchvision/transforms/transforms.py:329: UserWarning: Argument 'interpolation' of type int is deprecated since 0.13 and will be removed in 0.15. Please use InterpolationMode enum.\n",
      "  warnings.warn(\n",
      "/opt/conda/lib/python3.10/site-packages/torchvision/transforms/transforms.py:329: UserWarning: Argument 'interpolation' of type int is deprecated since 0.13 and will be removed in 0.15. Please use InterpolationMode enum.\n",
      "  warnings.warn(\n",
      "/opt/conda/lib/python3.10/site-packages/torchvision/transforms/transforms.py:329: UserWarning: Argument 'interpolation' of type int is deprecated since 0.13 and will be removed in 0.15. Please use InterpolationMode enum.\n",
      "  warnings.warn(\n",
      "/opt/conda/lib/python3.10/site-packages/torchvision/transforms/transforms.py:329: UserWarning: Argument 'interpolation' of type int is deprecated since 0.13 and will be removed in 0.15. Please use InterpolationMode enum.\n",
      "  warnings.warn(\n",
      "/opt/conda/lib/python3.10/site-packages/torchvision/transforms/transforms.py:329: UserWarning: Argument 'interpolation' of type int is deprecated since 0.13 and will be removed in 0.15. Please use InterpolationMode enum.\n",
      "  warnings.warn(\n",
      "/opt/conda/lib/python3.10/site-packages/torchvision/transforms/transforms.py:329: UserWarning: Argument 'interpolation' of type int is deprecated since 0.13 and will be removed in 0.15. Please use InterpolationMode enum.\n",
      "  warnings.warn(\n",
      "/opt/conda/lib/python3.10/site-packages/torchvision/transforms/transforms.py:329: UserWarning: Argument 'interpolation' of type int is deprecated since 0.13 and will be removed in 0.15. Please use InterpolationMode enum.\n",
      "  warnings.warn(\n",
      "/opt/conda/lib/python3.10/site-packages/torchvision/transforms/transforms.py:329: UserWarning: Argument 'interpolation' of type int is deprecated since 0.13 and will be removed in 0.15. Please use InterpolationMode enum.\n",
      "  warnings.warn(\n",
      "/opt/conda/lib/python3.10/site-packages/torchvision/transforms/transforms.py:329: UserWarning: Argument 'interpolation' of type int is deprecated since 0.13 and will be removed in 0.15. Please use InterpolationMode enum.\n",
      "  warnings.warn(\n",
      "  4%|▎         | 200/5352 [01:13<29:42,  2.89it/s]"
     ]
    },
    {
     "name": "stdout",
     "output_type": "stream",
     "text": [
      "{'FullBody': {'All': 142.63323974609375, 'LowerStretching': 148.2503204345703, 'UpperStretching': 143.29283142089844, 'Gesticuling': 108.65397644042969, 'Walking': 143.2952880859375, 'Gaming': 139.18521118164062, 'Patting': 145.022216796875, 'Talking': 107.8260269165039, 'Reacting': 141.7344207763672, 'Greeting': 122.63494110107422}, 'UpperBody': {'All': 125.30729675292969, 'LowerStretching': 104.59255981445312, 'UpperStretching': 136.12879943847656, 'Gesticuling': 107.65851593017578, 'Walking': 112.40017700195312, 'Gaming': 116.10375213623047, 'Patting': 125.4050521850586, 'Talking': 98.15403747558594, 'Reacting': 123.73663330078125, 'Greeting': 100.45590209960938}, 'LowerBody': {'All': 159.95916748046875, 'LowerStretching': 191.90806579589844, 'UpperStretching': 150.4568328857422, 'Gesticuling': 109.64942932128906, 'Walking': 174.19039916992188, 'Gaming': 162.2666778564453, 'Patting': 164.639404296875, 'Talking': 117.49800872802734, 'Reacting': 159.73219299316406, 'Greeting': 144.81394958496094}}\n"
     ]
    },
    {
     "name": "stderr",
     "output_type": "stream",
     "text": [
      "  7%|▋         | 400/5352 [02:22<28:37,  2.88it/s]"
     ]
    },
    {
     "name": "stdout",
     "output_type": "stream",
     "text": [
      "{'FullBody': {'All': 143.69357299804688, 'LowerStretching': 147.30728149414062, 'UpperStretching': 144.83828735351562, 'Gesticuling': 109.5609359741211, 'Walking': 143.67605590820312, 'Gaming': 143.9009552001953, 'Patting': 140.30299377441406, 'Talking': 113.28898620605469, 'Reacting': 148.60523986816406, 'Greeting': 121.25636291503906}, 'UpperBody': {'All': 125.66632843017578, 'LowerStretching': 104.46376037597656, 'UpperStretching': 135.9552459716797, 'Gesticuling': 107.00486755371094, 'Walking': 113.92012023925781, 'Gaming': 119.2120590209961, 'Patting': 126.36148834228516, 'Talking': 102.48966217041016, 'Reacting': 132.2324981689453, 'Greeting': 99.64311981201172}, 'LowerBody': {'All': 161.7208251953125, 'LowerStretching': 190.15081787109375, 'UpperStretching': 153.72132873535156, 'Gesticuling': 112.11700439453125, 'Walking': 173.43199157714844, 'Gaming': 168.58984375, 'Patting': 154.2445068359375, 'Talking': 124.08829498291016, 'Reacting': 164.97796630859375, 'Greeting': 142.86961364746094}}\n"
     ]
    },
    {
     "name": "stderr",
     "output_type": "stream",
     "text": [
      " 11%|█         | 600/5352 [03:31<27:33,  2.87it/s]"
     ]
    },
    {
     "name": "stdout",
     "output_type": "stream",
     "text": [
      "{'FullBody': {'All': 143.61851501464844, 'LowerStretching': 147.9883575439453, 'UpperStretching': 144.8438262939453, 'Gesticuling': 110.80484771728516, 'Walking': 144.75015258789062, 'Gaming': 140.74899291992188, 'Patting': 136.0435333251953, 'Talking': 111.454833984375, 'Reacting': 144.1437530517578, 'Greeting': 118.9205093383789}, 'UpperBody': {'All': 125.11354064941406, 'LowerStretching': 104.71977233886719, 'UpperStretching': 135.43600463867188, 'Gesticuling': 108.07198333740234, 'Walking': 113.73733520507812, 'Gaming': 117.94927978515625, 'Patting': 123.18062591552734, 'Talking': 100.59419250488281, 'Reacting': 128.17054748535156, 'Greeting': 99.3829345703125}, 'LowerBody': {'All': 162.12350463867188, 'LowerStretching': 191.25694274902344, 'UpperStretching': 154.2516632080078, 'Gesticuling': 113.5377197265625, 'Walking': 175.76296997070312, 'Gaming': 163.54869079589844, 'Patting': 148.90643310546875, 'Talking': 122.31548309326172, 'Reacting': 160.11697387695312, 'Greeting': 138.45811462402344}}\n"
     ]
    },
    {
     "name": "stderr",
     "output_type": "stream",
     "text": [
      " 15%|█▍        | 800/5352 [04:41<26:22,  2.88it/s]"
     ]
    },
    {
     "name": "stdout",
     "output_type": "stream",
     "text": [
      "{'FullBody': {'All': 143.0050506591797, 'LowerStretching': 147.48773193359375, 'UpperStretching': 144.06130981445312, 'Gesticuling': 111.56523895263672, 'Walking': 144.30857849121094, 'Gaming': 139.88348388671875, 'Patting': 134.26626586914062, 'Talking': 112.76961517333984, 'Reacting': 144.51564025878906, 'Greeting': 118.1067886352539}, 'UpperBody': {'All': 125.07376861572266, 'LowerStretching': 104.55756378173828, 'UpperStretching': 135.169677734375, 'Gesticuling': 109.98638153076172, 'Walking': 114.00582122802734, 'Gaming': 120.3979263305664, 'Patting': 120.85997009277344, 'Talking': 102.77416229248047, 'Reacting': 127.9893798828125, 'Greeting': 98.69463348388672}, 'LowerBody': {'All': 160.9363250732422, 'LowerStretching': 190.41787719726562, 'UpperStretching': 152.95294189453125, 'Gesticuling': 113.14409637451172, 'Walking': 174.611328125, 'Gaming': 159.36903381347656, 'Patting': 147.6725616455078, 'Talking': 122.76505279541016, 'Reacting': 161.04190063476562, 'Greeting': 137.51895141601562}}\n"
     ]
    },
    {
     "name": "stderr",
     "output_type": "stream",
     "text": [
      " 19%|█▊        | 1000/5352 [05:50<25:18,  2.87it/s]"
     ]
    },
    {
     "name": "stdout",
     "output_type": "stream",
     "text": [
      "{'FullBody': {'All': 143.00503540039062, 'LowerStretching': 147.9634246826172, 'UpperStretching': 143.72535705566406, 'Gesticuling': 112.25482177734375, 'Walking': 145.13558959960938, 'Gaming': 140.92221069335938, 'Patting': 133.38192749023438, 'Talking': 113.96192932128906, 'Reacting': 143.98985290527344, 'Greeting': 120.13679504394531}, 'UpperBody': {'All': 125.0802001953125, 'LowerStretching': 104.72636413574219, 'UpperStretching': 135.01161193847656, 'Gesticuling': 111.18448638916016, 'Walking': 114.32325744628906, 'Gaming': 121.21727752685547, 'Patting': 120.67948150634766, 'Talking': 104.64129638671875, 'Reacting': 127.67129516601562, 'Greeting': 100.08941650390625}, 'LowerBody': {'All': 160.92987060546875, 'LowerStretching': 191.2004852294922, 'UpperStretching': 152.43907165527344, 'Gesticuling': 113.32516479492188, 'Walking': 175.94790649414062, 'Gaming': 160.6271514892578, 'Patting': 146.08436584472656, 'Talking': 123.2825927734375, 'Reacting': 160.3084259033203, 'Greeting': 140.18417358398438}}\n"
     ]
    },
    {
     "name": "stderr",
     "output_type": "stream",
     "text": [
      " 22%|██▏       | 1200/5352 [07:00<24:06,  2.87it/s]"
     ]
    },
    {
     "name": "stdout",
     "output_type": "stream",
     "text": [
      "{'FullBody': {'All': 143.0305938720703, 'LowerStretching': 148.30259704589844, 'UpperStretching': 143.6985321044922, 'Gesticuling': 111.54619598388672, 'Walking': 145.620849609375, 'Gaming': 140.0338592529297, 'Patting': 131.9060821533203, 'Talking': 114.06105041503906, 'Reacting': 143.8179473876953, 'Greeting': 119.49455261230469}, 'UpperBody': {'All': 124.96355438232422, 'LowerStretching': 104.84980010986328, 'UpperStretching': 134.94073486328125, 'Gesticuling': 110.39147186279297, 'Walking': 114.56816864013672, 'Gaming': 120.27011108398438, 'Patting': 120.10624694824219, 'Talking': 103.45724487304688, 'Reacting': 126.90442657470703, 'Greeting': 99.13616180419922}, 'LowerBody': {'All': 161.09762573242188, 'LowerStretching': 191.75540161132812, 'UpperStretching': 152.45631408691406, 'Gesticuling': 112.70092010498047, 'Walking': 176.6735382080078, 'Gaming': 159.797607421875, 'Patting': 143.70591735839844, 'Talking': 124.66485595703125, 'Reacting': 160.73147583007812, 'Greeting': 139.85292053222656}}\n"
     ]
    },
    {
     "name": "stderr",
     "output_type": "stream",
     "text": [
      " 26%|██▌       | 1400/5352 [08:09<22:57,  2.87it/s]"
     ]
    },
    {
     "name": "stdout",
     "output_type": "stream",
     "text": [
      "{'FullBody': {'All': 143.00379943847656, 'LowerStretching': 148.45587158203125, 'UpperStretching': 143.68380737304688, 'Gesticuling': 112.02509307861328, 'Walking': 144.93655395507812, 'Gaming': 139.1039276123047, 'Patting': 134.34352111816406, 'Talking': 114.54884338378906, 'Reacting': 143.2249755859375, 'Greeting': 118.0877685546875}, 'UpperBody': {'All': 124.96768951416016, 'LowerStretching': 105.05125427246094, 'UpperStretching': 135.01773071289062, 'Gesticuling': 111.14867401123047, 'Walking': 114.17021179199219, 'Gaming': 119.68635559082031, 'Patting': 121.09811401367188, 'Talking': 104.10509490966797, 'Reacting': 126.04052734375, 'Greeting': 98.27828979492188}, 'LowerBody': {'All': 161.0399169921875, 'LowerStretching': 191.86048889160156, 'UpperStretching': 152.349853515625, 'Gesticuling': 112.90152740478516, 'Walking': 175.70289611816406, 'Gaming': 158.52149963378906, 'Patting': 147.5889129638672, 'Talking': 124.9925765991211, 'Reacting': 160.40939331054688, 'Greeting': 137.8972625732422}}\n"
     ]
    },
    {
     "name": "stderr",
     "output_type": "stream",
     "text": [
      " 30%|██▉       | 1600/5352 [09:18<21:47,  2.87it/s]"
     ]
    },
    {
     "name": "stdout",
     "output_type": "stream",
     "text": [
      "{'FullBody': {'All': 142.99949645996094, 'LowerStretching': 148.4873504638672, 'UpperStretching': 143.7796630859375, 'Gesticuling': 112.43203735351562, 'Walking': 144.51864624023438, 'Gaming': 140.09759521484375, 'Patting': 133.828125, 'Talking': 115.00873565673828, 'Reacting': 142.5282745361328, 'Greeting': 117.97588348388672}, 'UpperBody': {'All': 124.91835021972656, 'LowerStretching': 104.99378967285156, 'UpperStretching': 134.96719360351562, 'Gesticuling': 111.15646362304688, 'Walking': 114.40979766845703, 'Gaming': 119.71082305908203, 'Patting': 120.4334945678711, 'Talking': 104.75064086914062, 'Reacting': 125.08983612060547, 'Greeting': 98.83702087402344}, 'LowerBody': {'All': 161.08065795898438, 'LowerStretching': 191.9809112548828, 'UpperStretching': 152.59213256835938, 'Gesticuling': 113.70758056640625, 'Walking': 174.6274871826172, 'Gaming': 160.484375, 'Patting': 147.2227783203125, 'Talking': 125.26683807373047, 'Reacting': 159.96670532226562, 'Greeting': 137.11476135253906}}\n"
     ]
    },
    {
     "name": "stderr",
     "output_type": "stream",
     "text": [
      " 34%|███▎      | 1800/5352 [10:28<20:38,  2.87it/s]"
     ]
    },
    {
     "name": "stdout",
     "output_type": "stream",
     "text": [
      "{'FullBody': {'All': 142.981201171875, 'LowerStretching': 149.0345458984375, 'UpperStretching': 143.69285583496094, 'Gesticuling': 112.1006851196289, 'Walking': 144.60360717773438, 'Gaming': 140.5652313232422, 'Patting': 132.98960876464844, 'Talking': 114.89557647705078, 'Reacting': 141.41586303710938, 'Greeting': 117.14519500732422}, 'UpperBody': {'All': 124.92526245117188, 'LowerStretching': 105.26768493652344, 'UpperStretching': 134.97024536132812, 'Gesticuling': 110.50203704833984, 'Walking': 114.2778091430664, 'Gaming': 119.42760467529297, 'Patting': 120.71736145019531, 'Talking': 104.32162475585938, 'Reacting': 123.80561065673828, 'Greeting': 98.5202407836914}, 'LowerBody': {'All': 161.0371551513672, 'LowerStretching': 192.8014373779297, 'UpperStretching': 152.41542053222656, 'Gesticuling': 113.69933319091797, 'Walking': 174.9293975830078, 'Gaming': 161.7028350830078, 'Patting': 145.2618408203125, 'Talking': 125.46952819824219, 'Reacting': 159.02609252929688, 'Greeting': 135.77017211914062}}\n"
     ]
    },
    {
     "name": "stderr",
     "output_type": "stream",
     "text": [
      " 37%|███▋      | 2000/5352 [11:37<19:31,  2.86it/s]"
     ]
    },
    {
     "name": "stdout",
     "output_type": "stream",
     "text": [
      "{'FullBody': {'All': 143.013916015625, 'LowerStretching': 149.33482360839844, 'UpperStretching': 143.67359924316406, 'Gesticuling': 112.37377166748047, 'Walking': 144.64785766601562, 'Gaming': 140.97946166992188, 'Patting': 131.59295654296875, 'Talking': 114.35762023925781, 'Reacting': 141.7685546875, 'Greeting': 118.33120727539062}, 'UpperBody': {'All': 124.97460174560547, 'LowerStretching': 105.48330688476562, 'UpperStretching': 134.87684631347656, 'Gesticuling': 111.0255126953125, 'Walking': 114.3262939453125, 'Gaming': 119.58899688720703, 'Patting': 120.00538635253906, 'Talking': 103.62860107421875, 'Reacting': 123.86424255371094, 'Greeting': 99.44608306884766}, 'LowerBody': {'All': 161.05325317382812, 'LowerStretching': 193.1863555908203, 'UpperStretching': 152.4703369140625, 'Gesticuling': 113.7220230102539, 'Walking': 174.96942138671875, 'Gaming': 162.36993408203125, 'Patting': 143.18052673339844, 'Talking': 125.08661651611328, 'Reacting': 159.67283630371094, 'Greeting': 137.21632385253906}}\n"
     ]
    },
    {
     "name": "stderr",
     "output_type": "stream",
     "text": [
      " 41%|████      | 2200/5352 [12:46<18:23,  2.86it/s]"
     ]
    },
    {
     "name": "stdout",
     "output_type": "stream",
     "text": [
      "{'FullBody': {'All': 142.95071411132812, 'LowerStretching': 149.32435607910156, 'UpperStretching': 143.62130737304688, 'Gesticuling': 112.48857879638672, 'Walking': 144.4398193359375, 'Gaming': 140.6945037841797, 'Patting': 131.47027587890625, 'Talking': 115.04398345947266, 'Reacting': 141.51170349121094, 'Greeting': 117.44158172607422}, 'UpperBody': {'All': 125.0025863647461, 'LowerStretching': 105.57217407226562, 'UpperStretching': 134.82730102539062, 'Gesticuling': 111.33570098876953, 'Walking': 114.31324768066406, 'Gaming': 119.58372497558594, 'Patting': 119.88269805908203, 'Talking': 104.76361846923828, 'Reacting': 123.793212890625, 'Greeting': 98.96588134765625}, 'LowerBody': {'All': 160.89881896972656, 'LowerStretching': 193.0765380859375, 'UpperStretching': 152.41526794433594, 'Gesticuling': 113.64144897460938, 'Walking': 174.56640625, 'Gaming': 161.80528259277344, 'Patting': 143.057861328125, 'Talking': 125.3243408203125, 'Reacting': 159.23019409179688, 'Greeting': 135.91729736328125}}\n"
     ]
    },
    {
     "name": "stderr",
     "output_type": "stream",
     "text": [
      " 45%|████▍     | 2400/5352 [13:56<17:13,  2.86it/s]"
     ]
    },
    {
     "name": "stdout",
     "output_type": "stream",
     "text": [
      "{'FullBody': {'All': 142.97756958007812, 'LowerStretching': 149.36160278320312, 'UpperStretching': 143.62716674804688, 'Gesticuling': 112.58058166503906, 'Walking': 144.50543212890625, 'Gaming': 141.1857452392578, 'Patting': 131.3822784423828, 'Talking': 114.93744659423828, 'Reacting': 141.16949462890625, 'Greeting': 117.88353729248047}, 'UpperBody': {'All': 125.1064224243164, 'LowerStretching': 105.57444763183594, 'UpperStretching': 134.9668426513672, 'Gesticuling': 111.46651458740234, 'Walking': 114.4122543334961, 'Gaming': 119.7450180053711, 'Patting': 119.94989013671875, 'Talking': 104.78700256347656, 'Reacting': 123.3633804321289, 'Greeting': 98.94334411621094}, 'LowerBody': {'All': 160.84872436523438, 'LowerStretching': 193.1487579345703, 'UpperStretching': 152.2874755859375, 'Gesticuling': 113.69464111328125, 'Walking': 174.59861755371094, 'Gaming': 162.62646484375, 'Patting': 142.8146514892578, 'Talking': 125.087890625, 'Reacting': 158.9756317138672, 'Greeting': 136.82373046875}}\n"
     ]
    },
    {
     "name": "stderr",
     "output_type": "stream",
     "text": [
      " 49%|████▊     | 2600/5352 [15:05<16:05,  2.85it/s]"
     ]
    },
    {
     "name": "stdout",
     "output_type": "stream",
     "text": [
      "{'FullBody': {'All': 142.89646911621094, 'LowerStretching': 149.2093048095703, 'UpperStretching': 143.52415466308594, 'Gesticuling': 112.85680389404297, 'Walking': 144.60487365722656, 'Gaming': 141.52345275878906, 'Patting': 130.1361541748047, 'Talking': 115.28849029541016, 'Reacting': 141.4403076171875, 'Greeting': 116.66726684570312}, 'UpperBody': {'All': 125.05136108398438, 'LowerStretching': 105.43046569824219, 'UpperStretching': 134.8749237060547, 'Gesticuling': 111.91606903076172, 'Walking': 114.50372314453125, 'Gaming': 119.87026977539062, 'Patting': 119.44002532958984, 'Talking': 105.3084945678711, 'Reacting': 123.41570281982422, 'Greeting': 98.44451141357422}, 'LowerBody': {'All': 160.74159240722656, 'LowerStretching': 192.98812866210938, 'UpperStretching': 152.17337036132812, 'Gesticuling': 113.79753875732422, 'Walking': 174.7060089111328, 'Gaming': 163.17665100097656, 'Patting': 140.83226013183594, 'Talking': 125.26849365234375, 'Reacting': 159.4649200439453, 'Greeting': 134.88999938964844}}\n"
     ]
    },
    {
     "name": "stderr",
     "output_type": "stream",
     "text": [
      " 52%|█████▏    | 2800/5352 [16:14<14:59,  2.84it/s]"
     ]
    },
    {
     "name": "stdout",
     "output_type": "stream",
     "text": [
      "{'FullBody': {'All': 142.90037536621094, 'LowerStretching': 149.04751586914062, 'UpperStretching': 143.6126251220703, 'Gesticuling': 113.0484390258789, 'Walking': 144.51885986328125, 'Gaming': 141.258544921875, 'Patting': 129.35308837890625, 'Talking': 114.9173583984375, 'Reacting': 141.36000061035156, 'Greeting': 117.05384826660156}, 'UpperBody': {'All': 125.04193878173828, 'LowerStretching': 105.41830444335938, 'UpperStretching': 134.8793487548828, 'Gesticuling': 112.0044174194336, 'Walking': 114.47074890136719, 'Gaming': 119.66455841064453, 'Patting': 119.14838409423828, 'Talking': 105.01947021484375, 'Reacting': 123.57202911376953, 'Greeting': 98.62095642089844}, 'LowerBody': {'All': 160.75881958007812, 'LowerStretching': 192.67674255371094, 'UpperStretching': 152.34588623046875, 'Gesticuling': 114.09246826171875, 'Walking': 174.56700134277344, 'Gaming': 162.85250854492188, 'Patting': 139.5577850341797, 'Talking': 124.81525421142578, 'Reacting': 159.14794921875, 'Greeting': 135.4867401123047}}\n"
     ]
    },
    {
     "name": "stderr",
     "output_type": "stream",
     "text": [
      " 56%|█████▌    | 3000/5352 [17:24<13:45,  2.85it/s]"
     ]
    },
    {
     "name": "stdout",
     "output_type": "stream",
     "text": [
      "{'FullBody': {'All': 142.95840454101562, 'LowerStretching': 149.1300048828125, 'UpperStretching': 143.61473083496094, 'Gesticuling': 113.14827728271484, 'Walking': 144.7991943359375, 'Gaming': 141.3426971435547, 'Patting': 129.1415557861328, 'Talking': 115.53142547607422, 'Reacting': 141.12596130371094, 'Greeting': 117.63282775878906}, 'UpperBody': {'All': 125.06315612792969, 'LowerStretching': 105.43514251708984, 'UpperStretching': 134.88536071777344, 'Gesticuling': 112.0710220336914, 'Walking': 114.48328399658203, 'Gaming': 119.6636962890625, 'Patting': 119.16185760498047, 'Talking': 105.87584686279297, 'Reacting': 123.50398254394531, 'Greeting': 99.0201644897461}, 'LowerBody': {'All': 160.85366821289062, 'LowerStretching': 192.8248748779297, 'UpperStretching': 152.3440704345703, 'Gesticuling': 114.22555541992188, 'Walking': 175.11508178710938, 'Gaming': 163.02169799804688, 'Patting': 139.12123107910156, 'Talking': 125.18701171875, 'Reacting': 158.74794006347656, 'Greeting': 136.2454833984375}}\n"
     ]
    },
    {
     "name": "stderr",
     "output_type": "stream",
     "text": [
      " 60%|█████▉    | 3200/5352 [18:33<12:36,  2.84it/s]"
     ]
    },
    {
     "name": "stdout",
     "output_type": "stream",
     "text": [
      "{'FullBody': {'All': 142.9989013671875, 'LowerStretching': 149.25758361816406, 'UpperStretching': 143.61474609375, 'Gesticuling': 113.27078247070312, 'Walking': 144.77182006835938, 'Gaming': 140.49700927734375, 'Patting': 130.77122497558594, 'Talking': 116.25711822509766, 'Reacting': 140.89254760742188, 'Greeting': 117.68609619140625}, 'UpperBody': {'All': 125.1685562133789, 'LowerStretching': 105.60920715332031, 'UpperStretching': 135.00845336914062, 'Gesticuling': 112.2952880859375, 'Walking': 114.39827728271484, 'Gaming': 119.24256134033203, 'Patting': 120.25174713134766, 'Talking': 106.35297393798828, 'Reacting': 123.12184143066406, 'Greeting': 99.0008316040039}, 'LowerBody': {'All': 160.82928466796875, 'LowerStretching': 192.9059600830078, 'UpperStretching': 152.22100830078125, 'Gesticuling': 114.24626922607422, 'Walking': 175.1453399658203, 'Gaming': 161.75148010253906, 'Patting': 141.29071044921875, 'Talking': 126.16124725341797, 'Reacting': 158.66326904296875, 'Greeting': 136.3713836669922}}\n"
     ]
    },
    {
     "name": "stderr",
     "output_type": "stream",
     "text": [
      " 64%|██████▎   | 3400/5352 [19:42<11:27,  2.84it/s]"
     ]
    },
    {
     "name": "stdout",
     "output_type": "stream",
     "text": [
      "{'FullBody': {'All': 143.08277893066406, 'LowerStretching': 149.31259155273438, 'UpperStretching': 143.75738525390625, 'Gesticuling': 113.20166015625, 'Walking': 144.69760131835938, 'Gaming': 140.7052459716797, 'Patting': 130.6871795654297, 'Talking': 115.727783203125, 'Reacting': 140.99935913085938, 'Greeting': 117.81258392333984}, 'UpperBody': {'All': 125.16889953613281, 'LowerStretching': 105.55757141113281, 'UpperStretching': 135.0574951171875, 'Gesticuling': 112.11167907714844, 'Walking': 114.28738403320312, 'Gaming': 119.17578887939453, 'Patting': 120.29570007324219, 'Talking': 106.041748046875, 'Reacting': 123.13213348388672, 'Greeting': 99.06775665283203}, 'LowerBody': {'All': 160.99667358398438, 'LowerStretching': 193.067626953125, 'UpperStretching': 152.45729064941406, 'Gesticuling': 114.29163360595703, 'Walking': 175.10784912109375, 'Gaming': 162.23471069335938, 'Patting': 141.07867431640625, 'Talking': 125.4137954711914, 'Reacting': 158.8665771484375, 'Greeting': 136.55740356445312}}\n"
     ]
    },
    {
     "name": "stderr",
     "output_type": "stream",
     "text": [
      " 67%|██████▋   | 3600/5352 [20:52<10:16,  2.84it/s]"
     ]
    },
    {
     "name": "stdout",
     "output_type": "stream",
     "text": [
      "{'FullBody': {'All': 143.04733276367188, 'LowerStretching': 149.106689453125, 'UpperStretching': 143.771484375, 'Gesticuling': 113.07302856445312, 'Walking': 144.90802001953125, 'Gaming': 140.7125244140625, 'Patting': 130.3904266357422, 'Talking': 115.69430541992188, 'Reacting': 140.79367065429688, 'Greeting': 117.71269226074219}, 'UpperBody': {'All': 125.07463836669922, 'LowerStretching': 105.40396118164062, 'UpperStretching': 135.01902770996094, 'Gesticuling': 111.86277770996094, 'Walking': 114.25170135498047, 'Gaming': 119.00146484375, 'Patting': 120.21332550048828, 'Talking': 106.01998901367188, 'Reacting': 123.05900573730469, 'Greeting': 98.81282043457031}, 'LowerBody': {'All': 161.02003479003906, 'LowerStretching': 192.80943298339844, 'UpperStretching': 152.52394104003906, 'Gesticuling': 114.28326416015625, 'Walking': 175.5643310546875, 'Gaming': 162.42361450195312, 'Patting': 140.5675048828125, 'Talking': 125.36864471435547, 'Reacting': 158.5283203125, 'Greeting': 136.61256408691406}}\n"
     ]
    },
    {
     "name": "stderr",
     "output_type": "stream",
     "text": [
      " 71%|███████   | 3800/5352 [22:01<09:05,  2.84it/s]"
     ]
    },
    {
     "name": "stdout",
     "output_type": "stream",
     "text": [
      "{'FullBody': {'All': 143.06884765625, 'LowerStretching': 149.2447052001953, 'UpperStretching': 143.78463745117188, 'Gesticuling': 112.98526000976562, 'Walking': 144.78729248046875, 'Gaming': 140.8822021484375, 'Patting': 129.8850860595703, 'Talking': 115.71966552734375, 'Reacting': 141.01731872558594, 'Greeting': 117.46548461914062}, 'UpperBody': {'All': 125.11522674560547, 'LowerStretching': 105.51770782470703, 'UpperStretching': 135.06576538085938, 'Gesticuling': 111.60100555419922, 'Walking': 114.24136352539062, 'Gaming': 118.98667907714844, 'Patting': 119.98814392089844, 'Talking': 105.9579086303711, 'Reacting': 123.1889419555664, 'Greeting': 98.4510269165039}, 'LowerBody': {'All': 161.0224609375, 'LowerStretching': 192.9717254638672, 'UpperStretching': 152.5034942626953, 'Gesticuling': 114.36951446533203, 'Walking': 175.3331756591797, 'Gaming': 162.77774047851562, 'Patting': 139.7820281982422, 'Talking': 125.48141479492188, 'Reacting': 158.84568786621094, 'Greeting': 136.47994995117188}}\n"
     ]
    },
    {
     "name": "stderr",
     "output_type": "stream",
     "text": [
      " 75%|███████▍  | 4000/5352 [23:10<07:57,  2.83it/s]"
     ]
    },
    {
     "name": "stdout",
     "output_type": "stream",
     "text": [
      "{'FullBody': {'All': 143.00146484375, 'LowerStretching': 149.19644165039062, 'UpperStretching': 143.71701049804688, 'Gesticuling': 112.90410614013672, 'Walking': 144.72230529785156, 'Gaming': 140.54171752929688, 'Patting': 129.65048217773438, 'Talking': 115.84525299072266, 'Reacting': 140.75634765625, 'Greeting': 117.98225402832031}, 'UpperBody': {'All': 125.11058807373047, 'LowerStretching': 105.51441955566406, 'UpperStretching': 135.06463623046875, 'Gesticuling': 111.29783630371094, 'Walking': 114.26834106445312, 'Gaming': 118.97384643554688, 'Patting': 119.8212661743164, 'Talking': 106.27435302734375, 'Reacting': 122.92801666259766, 'Greeting': 98.77198028564453}, 'LowerBody': {'All': 160.8923797607422, 'LowerStretching': 192.87847900390625, 'UpperStretching': 152.36935424804688, 'Gesticuling': 114.5103530883789, 'Walking': 175.17625427246094, 'Gaming': 162.10955810546875, 'Patting': 139.4796905517578, 'Talking': 125.41615295410156, 'Reacting': 158.58470153808594, 'Greeting': 137.19253540039062}}\n"
     ]
    },
    {
     "name": "stderr",
     "output_type": "stream",
     "text": [
      " 78%|███████▊  | 4200/5352 [24:20<06:46,  2.83it/s]"
     ]
    },
    {
     "name": "stdout",
     "output_type": "stream",
     "text": [
      "{'FullBody': {'All': 143.05201721191406, 'LowerStretching': 149.35507202148438, 'UpperStretching': 143.72982788085938, 'Gesticuling': 113.00316619873047, 'Walking': 144.87274169921875, 'Gaming': 140.43553161621094, 'Patting': 129.6891326904297, 'Talking': 115.54300689697266, 'Reacting': 140.6484832763672, 'Greeting': 117.63017272949219}, 'UpperBody': {'All': 125.16700744628906, 'LowerStretching': 105.57891082763672, 'UpperStretching': 135.0950469970703, 'Gesticuling': 111.4044189453125, 'Walking': 114.46586608886719, 'Gaming': 118.95297241210938, 'Patting': 119.77266693115234, 'Talking': 106.18508911132812, 'Reacting': 122.98138427734375, 'Greeting': 98.5481948852539}, 'LowerBody': {'All': 160.9370574951172, 'LowerStretching': 193.13124084472656, 'UpperStretching': 152.36460876464844, 'Gesticuling': 114.6019058227539, 'Walking': 175.2796173095703, 'Gaming': 161.91807556152344, 'Patting': 139.6055908203125, 'Talking': 124.9009017944336, 'Reacting': 158.3155975341797, 'Greeting': 136.71217346191406}}\n"
     ]
    },
    {
     "name": "stderr",
     "output_type": "stream",
     "text": [
      " 82%|████████▏ | 4400/5352 [25:29<05:36,  2.83it/s]"
     ]
    },
    {
     "name": "stdout",
     "output_type": "stream",
     "text": [
      "{'FullBody': {'All': 143.1056671142578, 'LowerStretching': 149.4986572265625, 'UpperStretching': 143.75558471679688, 'Gesticuling': 113.13850402832031, 'Walking': 144.86260986328125, 'Gaming': 140.67843627929688, 'Patting': 130.63938903808594, 'Talking': 115.73397827148438, 'Reacting': 140.2407989501953, 'Greeting': 117.3543930053711}, 'UpperBody': {'All': 125.23319244384766, 'LowerStretching': 105.53178405761719, 'UpperStretching': 135.2470245361328, 'Gesticuling': 111.40849304199219, 'Walking': 114.3951416015625, 'Gaming': 119.0346450805664, 'Patting': 120.14033508300781, 'Talking': 106.18936920166016, 'Reacting': 122.66405487060547, 'Greeting': 98.4530258178711}, 'LowerBody': {'All': 160.9781494140625, 'LowerStretching': 193.46554565429688, 'UpperStretching': 152.26414489746094, 'Gesticuling': 114.8685073852539, 'Walking': 175.33006286621094, 'Gaming': 162.32220458984375, 'Patting': 141.138427734375, 'Talking': 125.278564453125, 'Reacting': 157.8175811767578, 'Greeting': 136.25576782226562}}\n"
     ]
    },
    {
     "name": "stderr",
     "output_type": "stream",
     "text": [
      " 86%|████████▌ | 4600/5352 [26:38<04:26,  2.82it/s]"
     ]
    },
    {
     "name": "stdout",
     "output_type": "stream",
     "text": [
      "{'FullBody': {'All': 143.09481811523438, 'LowerStretching': 149.5906219482422, 'UpperStretching': 143.70388793945312, 'Gesticuling': 113.08199310302734, 'Walking': 144.87954711914062, 'Gaming': 140.35400390625, 'Patting': 130.94261169433594, 'Talking': 115.90426635742188, 'Reacting': 140.3250732421875, 'Greeting': 117.49364471435547}, 'UpperBody': {'All': 125.22097778320312, 'LowerStretching': 105.59254455566406, 'UpperStretching': 135.16783142089844, 'Gesticuling': 111.37479400634766, 'Walking': 114.44120025634766, 'Gaming': 118.91034698486328, 'Patting': 120.44480895996094, 'Talking': 106.28595733642578, 'Reacting': 122.93185424804688, 'Greeting': 98.40646362304688}, 'LowerBody': {'All': 160.9686737060547, 'LowerStretching': 193.58868408203125, 'UpperStretching': 152.2399444580078, 'Gesticuling': 114.78919219970703, 'Walking': 175.31790161132812, 'Gaming': 161.79766845703125, 'Patting': 141.4403839111328, 'Talking': 125.5225830078125, 'Reacting': 157.71829223632812, 'Greeting': 136.5808563232422}}\n"
     ]
    },
    {
     "name": "stderr",
     "output_type": "stream",
     "text": [
      " 90%|████████▉ | 4800/5352 [27:48<03:15,  2.82it/s]"
     ]
    },
    {
     "name": "stdout",
     "output_type": "stream",
     "text": [
      "{'FullBody': {'All': 143.1061248779297, 'LowerStretching': 149.47743225097656, 'UpperStretching': 143.78579711914062, 'Gesticuling': 113.0376205444336, 'Walking': 144.67723083496094, 'Gaming': 140.43472290039062, 'Patting': 130.84133911132812, 'Talking': 115.94853210449219, 'Reacting': 140.37255859375, 'Greeting': 117.31466674804688}, 'UpperBody': {'All': 125.2531509399414, 'LowerStretching': 105.59265899658203, 'UpperStretching': 135.22650146484375, 'Gesticuling': 111.43111419677734, 'Walking': 114.42201232910156, 'Gaming': 118.78611755371094, 'Patting': 120.19536590576172, 'Talking': 106.51947784423828, 'Reacting': 122.9223861694336, 'Greeting': 98.21417999267578}, 'LowerBody': {'All': 160.95909118652344, 'LowerStretching': 193.36221313476562, 'UpperStretching': 152.3450927734375, 'Gesticuling': 114.64412689208984, 'Walking': 174.9324493408203, 'Gaming': 162.08331298828125, 'Patting': 141.48733520507812, 'Talking': 125.37757873535156, 'Reacting': 157.82273864746094, 'Greeting': 136.41517639160156}}\n"
     ]
    },
    {
     "name": "stderr",
     "output_type": "stream",
     "text": [
      " 93%|█████████▎| 5000/5352 [28:57<02:04,  2.82it/s]"
     ]
    },
    {
     "name": "stdout",
     "output_type": "stream",
     "text": [
      "{'FullBody': {'All': 143.1293182373047, 'LowerStretching': 149.3936767578125, 'UpperStretching': 143.8896942138672, 'Gesticuling': 112.95475006103516, 'Walking': 144.52407836914062, 'Gaming': 140.26193237304688, 'Patting': 131.04104614257812, 'Talking': 115.83073425292969, 'Reacting': 140.4859161376953, 'Greeting': 117.13658905029297}, 'UpperBody': {'All': 125.23086547851562, 'LowerStretching': 105.53562927246094, 'UpperStretching': 135.23655700683594, 'Gesticuling': 111.25331115722656, 'Walking': 114.32815551757812, 'Gaming': 118.7651138305664, 'Patting': 120.33170318603516, 'Talking': 106.59028625488281, 'Reacting': 123.09405517578125, 'Greeting': 98.03893280029297}, 'LowerBody': {'All': 161.0277862548828, 'LowerStretching': 193.25173950195312, 'UpperStretching': 152.54281616210938, 'Gesticuling': 114.65618896484375, 'Walking': 174.72000122070312, 'Gaming': 161.7587432861328, 'Patting': 141.75038146972656, 'Talking': 125.07119750976562, 'Reacting': 157.8777618408203, 'Greeting': 136.23423767089844}}\n"
     ]
    },
    {
     "name": "stderr",
     "output_type": "stream",
     "text": [
      " 97%|█████████▋| 5200/5352 [30:06<00:53,  2.83it/s]"
     ]
    },
    {
     "name": "stdout",
     "output_type": "stream",
     "text": [
      "{'FullBody': {'All': 143.1889190673828, 'LowerStretching': 149.47280883789062, 'UpperStretching': 143.90501403808594, 'Gesticuling': 113.07650756835938, 'Walking': 144.65835571289062, 'Gaming': 140.74229431152344, 'Patting': 131.3862762451172, 'Talking': 115.89862823486328, 'Reacting': 140.26272583007812, 'Greeting': 117.08692932128906}, 'UpperBody': {'All': 125.26911163330078, 'LowerStretching': 105.60948181152344, 'UpperStretching': 135.25367736816406, 'Gesticuling': 111.32677459716797, 'Walking': 114.2937240600586, 'Gaming': 118.90000915527344, 'Patting': 120.3704605102539, 'Talking': 106.65328979492188, 'Reacting': 122.76409912109375, 'Greeting': 97.98788452148438}, 'LowerBody': {'All': 161.1087188720703, 'LowerStretching': 193.33612060546875, 'UpperStretching': 152.5563507080078, 'Gesticuling': 114.82624053955078, 'Walking': 175.02296447753906, 'Gaming': 162.58456420898438, 'Patting': 142.40208435058594, 'Talking': 125.14395141601562, 'Reacting': 157.76136779785156, 'Greeting': 136.18597412109375}}\n"
     ]
    },
    {
     "name": "stderr",
     "output_type": "stream",
     "text": [
      "100%|██████████| 5352/5352 [30:59<00:00,  2.88it/s]\n",
      "\u001b[94m11:01:37 \u001b[92m[INFO]\u001b[94m Main\u001b[0m: Saving evaluation results...\n",
      "\u001b[94m11:01:37 \u001b[92m[INFO]\u001b[94m Main\u001b[0m: Done.\n"
     ]
    }
   ],
   "source": [
    "for i,p in enumerate(path_):\n",
    "\toutput_path = f'/dataset/data/xr_egopose_depth_sil_2/baseline703_{i}.json'\n",
    "\tmain(model_path=p,output_path=output_path)"
   ]
  }
 ],
 "metadata": {
  "kernelspec": {
   "display_name": "base",
   "language": "python",
   "name": "python3"
  },
  "language_info": {
   "codemirror_mode": {
    "name": "ipython",
    "version": 3
   },
   "file_extension": ".py",
   "mimetype": "text/x-python",
   "name": "python",
   "nbconvert_exporter": "python",
   "pygments_lexer": "ipython3",
   "version": "3.10.8"
  },
  "orig_nbformat": 4
 },
 "nbformat": 4,
 "nbformat_minor": 2
}
