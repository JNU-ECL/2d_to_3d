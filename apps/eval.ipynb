{
 "cells": [
  {
   "cell_type": "code",
   "execution_count": 1,
   "metadata": {},
   "outputs": [
    {
     "name": "stderr",
     "output_type": "stream",
     "text": [
      "/opt/conda/lib/python3.10/site-packages/tqdm/auto.py:22: TqdmWarning: IProgress not found. Please update jupyter and ipywidgets. See https://ipywidgets.readthedocs.io/en/stable/user_install.html\n",
      "  from .autonotebook import tqdm as notebook_tqdm\n"
     ]
    }
   ],
   "source": [
    "# Copyright (c) Facebook, Inc. and its affiliates. All Rights Reserved\n",
    "# -*- coding: utf-8 -*-\n",
    "\"\"\"\n",
    "Demo code\n",
    "\n",
    "@author: Denis Tome'\n",
    "\n",
    "\"\"\"\n",
    "from torch.utils.data import DataLoader\n",
    "import torch\n",
    "from torchvision import transforms\n",
    "from base import SetType\n",
    "import multiprocessing\n",
    "from mocap import Mocap\n",
    "from utils import config, ConsoleLogger\n",
    "from utils import evaluate, io\n",
    "from model import TempModel\n",
    "from model_xregopose import xR_egoposemodel\n",
    "from model_mo2cap2 import mo2cap_ours\n",
    "from tqdm import tqdm\n",
    "import os\n",
    "\n",
    "LOGGER = ConsoleLogger(\"Main\")\n",
    "use_cuda = torch.cuda.is_available()\n",
    "device = torch.device(\"cuda\" if use_cuda else \"cpu\")\n"
   ]
  },
  {
   "cell_type": "code",
   "execution_count": 2,
   "metadata": {},
   "outputs": [],
   "source": [
    "\n",
    "def main(model_path=None,output_path=None):\n",
    "\t\"\"\"Main\"\"\"\n",
    "\n",
    "\tLOGGER.info('Starting demo...')\n",
    "\n",
    "\t# ------------------- Data loader -------------------\n",
    "\n",
    "\n",
    "\t# let's load data from validation set as example\n",
    "\tdata = Mocap(\n",
    "\t\t'/dataset/data/Dataset/TestSet',\n",
    "\t\tSetType.VAL,\n",
    "\t\t)\n",
    "\tdata_loader = DataLoader(\n",
    "\t\tdata,\n",
    "\t\tbatch_size=16,\n",
    "\t\tnum_workers=(multiprocessing.cpu_count() // 3) * 2,\n",
    "\t\tshuffle=True)\n",
    "\n",
    "\t# ------------------- Evaluation -------------------\n",
    "\n",
    "\teval_body = evaluate.EvalBody()\n",
    "\teval_upper = evaluate.EvalUpperBody()\n",
    "\teval_lower = evaluate.EvalLowerBody()\n",
    "\n",
    "\t# ------------------- Read dataset frames -------------------\n",
    "\n",
    "\tmodel = TempModel(pretrained_path=model_path).to(device)\n",
    "\tmodel = torch.nn.DataParallel(model,device_ids=[0,1])\n",
    "\tmodel.eval()\n",
    "\n",
    "\tfor it, test_batch in enumerate(tqdm(data_loader)):\n",
    "\t\timage = test_batch['image'].cuda()\n",
    "\t\timage_zoom = test_batch['image_zoom'].cuda()\n",
    "\t\tp3d = test_batch['joints_3d_cam']\n",
    "\t\taction = test_batch['action']\n",
    "\t\tinput_img = {\n",
    "\t\t\t'image':image,\n",
    "\t\t\t# 'image_zoom' : image_zoom,\n",
    "\t\t\t}\n",
    "\t\t# LOGGER.info('Iteration: {}'.format(it))\n",
    "\t\t# LOGGER.info('Images: {}'.format(img.shape))\n",
    "\t\t# LOGGER.info('p2ds: {}'.format(p2d.shape))\n",
    "\t\t# LOGGER.info('p3ds: {}'.format(p3d.shape))\n",
    "\t\t# LOGGER.info('Actions: {}'.format(action))\n",
    "\n",
    "\t\t# -----------------------------------------------------------\n",
    "\t\tpred_output = model(input_img)\n",
    "\t\t# -----------------------------------------------------------\n",
    "\n",
    "\t\t# TODO: replace p3d_hat with model preditions\n",
    "\t\tp3d_hat = pred_output['pred_pose']\n",
    "\n",
    "\t\t# Evaluate results using different evaluation metrices\n",
    "\t\ty_output = p3d_hat.data.cpu().numpy() * 1000\n",
    "\t\ty_target = p3d.data.cpu().numpy() * 1000\n",
    "\n",
    "\t\teval_body.eval(y_output, y_target, action)\n",
    "\t\teval_upper.eval(y_output, y_target, action)\n",
    "\t\teval_lower.eval(y_output, y_target, action)\n",
    "\t\tif (it+1)%200==0:\n",
    "\t\t\tprint({'FullBody': eval_body.get_results(),\n",
    "\t\t   'UpperBody': eval_upper.get_results(),\n",
    "\t\t   'LowerBody': eval_lower.get_results()})\n",
    "\t\t\t# break\n",
    "\t\t# TODO: remove break\n",
    "\t\t\n",
    "\n",
    "\t# ------------------- Save results -------------------\n",
    "\n",
    "\tLOGGER.info('Saving evaluation results...')\n",
    "\tres = {'FullBody': eval_body.get_results(),\n",
    "\t\t   'UpperBody': eval_upper.get_results(),\n",
    "\t\t   'LowerBody': eval_lower.get_results()}\n",
    "\n",
    "\tio.write_json(output_path, res)\n",
    "\n",
    "\tLOGGER.info('Done.')"
   ]
  },
  {
   "cell_type": "code",
   "execution_count": 3,
   "metadata": {},
   "outputs": [
    {
     "data": {
      "text/plain": [
       "['/workspace/2d_to_3d/apps/exp808/0.pth',\n",
       " '/workspace/2d_to_3d/apps/exp808/1.pth',\n",
       " '/workspace/2d_to_3d/apps/exp808/2.pth',\n",
       " '/workspace/2d_to_3d/apps/exp808/3.pth',\n",
       " '/workspace/2d_to_3d/apps/exp808/4.pth',\n",
       " '/workspace/2d_to_3d/apps/exp808/5.pth',\n",
       " '/workspace/2d_to_3d/apps/exp808/6.pth',\n",
       " '/workspace/2d_to_3d/apps/exp808/7.pth',\n",
       " '/workspace/2d_to_3d/apps/exp808/8.pth',\n",
       " '/workspace/2d_to_3d/apps/exp808/9.pth',\n",
       " '/workspace/2d_to_3d/apps/exp808/best.pth']"
      ]
     },
     "execution_count": 3,
     "metadata": {},
     "output_type": "execute_result"
    }
   ],
   "source": [
    "import glob\n",
    "path_ =sorted(glob.glob('/workspace/2d_to_3d/apps/exp808'+'/*'))\n",
    "path_"
   ]
  },
  {
   "cell_type": "code",
   "execution_count": 4,
   "metadata": {},
   "outputs": [
    {
     "ename": "RuntimeError",
     "evalue": "No active exception to reraise",
     "output_type": "error",
     "traceback": [
      "\u001b[0;31m---------------------------------------------------------------------------\u001b[0m",
      "\u001b[0;31mRuntimeError\u001b[0m                              Traceback (most recent call last)",
      "Cell \u001b[0;32mIn[4], line 4\u001b[0m\n\u001b[1;32m      2\u001b[0m gc\u001b[39m.\u001b[39mcollect()\n\u001b[1;32m      3\u001b[0m torch\u001b[39m.\u001b[39mcuda\u001b[39m.\u001b[39mempty_cache()\n\u001b[0;32m----> 4\u001b[0m \u001b[39mraise\u001b[39;00m\n",
      "\u001b[0;31mRuntimeError\u001b[0m: No active exception to reraise"
     ]
    }
   ],
   "source": [
    "import gc\n",
    "gc.collect()\n",
    "torch.cuda.empty_cache()\n",
    "raise"
   ]
  },
  {
   "cell_type": "code",
   "execution_count": 5,
   "metadata": {},
   "outputs": [
    {
     "name": "stderr",
     "output_type": "stream",
     "text": [
      "\u001b[94m07:55:49 \u001b[92m[INFO]\u001b[94m Main\u001b[0m: Starting demo...\n",
      "  0%|          | 0/5352 [00:00<?, ?it/s]/opt/conda/lib/python3.10/site-packages/torchvision/transforms/transforms.py:329: UserWarning: Argument 'interpolation' of type int is deprecated since 0.13 and will be removed in 0.15. Please use InterpolationMode enum.\n",
      "  warnings.warn(\n",
      "/opt/conda/lib/python3.10/site-packages/torchvision/transforms/transforms.py:329: UserWarning: Argument 'interpolation' of type int is deprecated since 0.13 and will be removed in 0.15. Please use InterpolationMode enum.\n",
      "  warnings.warn(\n",
      "/opt/conda/lib/python3.10/site-packages/torchvision/transforms/transforms.py:329: UserWarning: Argument 'interpolation' of type int is deprecated since 0.13 and will be removed in 0.15. Please use InterpolationMode enum.\n",
      "  warnings.warn(\n",
      "/opt/conda/lib/python3.10/site-packages/torchvision/transforms/transforms.py:329: UserWarning: Argument 'interpolation' of type int is deprecated since 0.13 and will be removed in 0.15. Please use InterpolationMode enum.\n",
      "  warnings.warn(\n",
      "/opt/conda/lib/python3.10/site-packages/torchvision/transforms/transforms.py:329: UserWarning: Argument 'interpolation' of type int is deprecated since 0.13 and will be removed in 0.15. Please use InterpolationMode enum.\n",
      "  warnings.warn(\n",
      "/opt/conda/lib/python3.10/site-packages/torchvision/transforms/transforms.py:329: UserWarning: Argument 'interpolation' of type int is deprecated since 0.13 and will be removed in 0.15. Please use InterpolationMode enum.\n",
      "  warnings.warn(\n",
      "/opt/conda/lib/python3.10/site-packages/torchvision/transforms/transforms.py:329: UserWarning: Argument 'interpolation' of type int is deprecated since 0.13 and will be removed in 0.15. Please use InterpolationMode enum.\n",
      "  warnings.warn(\n",
      "/opt/conda/lib/python3.10/site-packages/torchvision/transforms/transforms.py:329: UserWarning: Argument 'interpolation' of type int is deprecated since 0.13 and will be removed in 0.15. Please use InterpolationMode enum.\n",
      "  warnings.warn(\n",
      "/opt/conda/lib/python3.10/site-packages/torchvision/transforms/transforms.py:329: UserWarning: Argument 'interpolation' of type int is deprecated since 0.13 and will be removed in 0.15. Please use InterpolationMode enum.\n",
      "  warnings.warn(\n",
      "/opt/conda/lib/python3.10/site-packages/torchvision/transforms/transforms.py:329: UserWarning: Argument 'interpolation' of type int is deprecated since 0.13 and will be removed in 0.15. Please use InterpolationMode enum.\n",
      "  warnings.warn(\n",
      "/opt/conda/lib/python3.10/site-packages/torchvision/transforms/transforms.py:329: UserWarning: Argument 'interpolation' of type int is deprecated since 0.13 and will be removed in 0.15. Please use InterpolationMode enum.\n",
      "  warnings.warn(\n",
      "/opt/conda/lib/python3.10/site-packages/torchvision/transforms/transforms.py:329: UserWarning: Argument 'interpolation' of type int is deprecated since 0.13 and will be removed in 0.15. Please use InterpolationMode enum.\n",
      "  warnings.warn(\n",
      "/opt/conda/lib/python3.10/site-packages/torchvision/transforms/transforms.py:329: UserWarning: Argument 'interpolation' of type int is deprecated since 0.13 and will be removed in 0.15. Please use InterpolationMode enum.\n",
      "  warnings.warn(\n",
      "/opt/conda/lib/python3.10/site-packages/torchvision/transforms/transforms.py:329: UserWarning: Argument 'interpolation' of type int is deprecated since 0.13 and will be removed in 0.15. Please use InterpolationMode enum.\n",
      "  warnings.warn(\n",
      "/opt/conda/lib/python3.10/site-packages/torchvision/transforms/transforms.py:329: UserWarning: Argument 'interpolation' of type int is deprecated since 0.13 and will be removed in 0.15. Please use InterpolationMode enum.\n",
      "  warnings.warn(\n",
      "/opt/conda/lib/python3.10/site-packages/torchvision/transforms/transforms.py:329: UserWarning: Argument 'interpolation' of type int is deprecated since 0.13 and will be removed in 0.15. Please use InterpolationMode enum.\n",
      "  warnings.warn(\n",
      "/opt/conda/lib/python3.10/site-packages/torchvision/transforms/transforms.py:329: UserWarning: Argument 'interpolation' of type int is deprecated since 0.13 and will be removed in 0.15. Please use InterpolationMode enum.\n",
      "  warnings.warn(\n",
      "/opt/conda/lib/python3.10/site-packages/torchvision/transforms/transforms.py:329: UserWarning: Argument 'interpolation' of type int is deprecated since 0.13 and will be removed in 0.15. Please use InterpolationMode enum.\n",
      "  warnings.warn(\n",
      "/opt/conda/lib/python3.10/site-packages/torchvision/transforms/transforms.py:329: UserWarning: Argument 'interpolation' of type int is deprecated since 0.13 and will be removed in 0.15. Please use InterpolationMode enum.\n",
      "  warnings.warn(\n",
      "/opt/conda/lib/python3.10/site-packages/torchvision/transforms/transforms.py:329: UserWarning: Argument 'interpolation' of type int is deprecated since 0.13 and will be removed in 0.15. Please use InterpolationMode enum.\n",
      "  warnings.warn(\n",
      "/opt/conda/lib/python3.10/site-packages/torchvision/transforms/transforms.py:329: UserWarning: Argument 'interpolation' of type int is deprecated since 0.13 and will be removed in 0.15. Please use InterpolationMode enum.\n",
      "  warnings.warn(\n",
      "/opt/conda/lib/python3.10/site-packages/torchvision/transforms/transforms.py:329: UserWarning: Argument 'interpolation' of type int is deprecated since 0.13 and will be removed in 0.15. Please use InterpolationMode enum.\n",
      "  warnings.warn(\n",
      "/opt/conda/lib/python3.10/site-packages/torchvision/transforms/transforms.py:329: UserWarning: Argument 'interpolation' of type int is deprecated since 0.13 and will be removed in 0.15. Please use InterpolationMode enum.\n",
      "  warnings.warn(\n",
      "/opt/conda/lib/python3.10/site-packages/torchvision/transforms/transforms.py:329: UserWarning: Argument 'interpolation' of type int is deprecated since 0.13 and will be removed in 0.15. Please use InterpolationMode enum.\n",
      "  warnings.warn(\n",
      "  4%|▍         | 201/5352 [00:37<11:34,  7.42it/s] "
     ]
    },
    {
     "name": "stdout",
     "output_type": "stream",
     "text": [
      "{'FullBody': {'All': 153.8112335205078, 'LowerStretching': 162.11814880371094, 'Gaming': 156.08302307128906, 'UpperStretching': 155.8325958251953, 'Gesticuling': 127.20086669921875, 'Talking': 121.30593872070312, 'Reacting': 123.92985534667969, 'Walking': 154.49005126953125, 'Greeting': 103.63054656982422, 'Patting': 137.07467651367188}, 'UpperBody': {'All': 123.27918243408203, 'LowerStretching': 101.4001693725586, 'Gaming': 109.60456848144531, 'UpperStretching': 133.88357543945312, 'Gesticuling': 97.03599548339844, 'Talking': 115.64032745361328, 'Reacting': 115.31871032714844, 'Walking': 117.22120666503906, 'Greeting': 92.07872009277344, 'Patting': 111.30687713623047}, 'LowerBody': {'All': 184.34327697753906, 'LowerStretching': 222.83612060546875, 'Gaming': 202.56149291992188, 'UpperStretching': 177.78160095214844, 'Gesticuling': 157.36572265625, 'Talking': 126.9715347290039, 'Reacting': 132.54100036621094, 'Walking': 191.75888061523438, 'Greeting': 115.18238830566406, 'Patting': 162.8424530029297}}\n"
     ]
    },
    {
     "name": "stderr",
     "output_type": "stream",
     "text": [
      "  7%|▋         | 401/5352 [01:04<10:46,  7.65it/s]"
     ]
    },
    {
     "name": "stdout",
     "output_type": "stream",
     "text": [
      "{'FullBody': {'All': 153.4425506591797, 'LowerStretching': 163.1786346435547, 'Gaming': 149.3035430908203, 'UpperStretching': 154.971923828125, 'Gesticuling': 124.08272552490234, 'Talking': 119.62943267822266, 'Reacting': 124.24382019042969, 'Walking': 154.2637176513672, 'Greeting': 107.25211334228516, 'Patting': 146.88523864746094}, 'UpperBody': {'All': 123.47708129882812, 'LowerStretching': 101.5694351196289, 'Gaming': 114.25054931640625, 'UpperStretching': 134.20791625976562, 'Gesticuling': 96.6701889038086, 'Talking': 116.86051940917969, 'Reacting': 112.48426055908203, 'Walking': 116.03961944580078, 'Greeting': 99.15692138671875, 'Patting': 122.14008331298828}, 'LowerBody': {'All': 183.4080047607422, 'LowerStretching': 224.78785705566406, 'Gaming': 184.35650634765625, 'UpperStretching': 175.73593139648438, 'Gesticuling': 151.49526977539062, 'Talking': 122.39836120605469, 'Reacting': 136.0033416748047, 'Walking': 192.48780822753906, 'Greeting': 115.3473129272461, 'Patting': 171.63038635253906}}\n"
     ]
    },
    {
     "name": "stderr",
     "output_type": "stream",
     "text": [
      " 11%|█         | 601/5352 [01:32<11:17,  7.01it/s]"
     ]
    },
    {
     "name": "stdout",
     "output_type": "stream",
     "text": [
      "{'FullBody': {'All': 153.4709014892578, 'LowerStretching': 163.8976593017578, 'Gaming': 148.3470916748047, 'UpperStretching': 154.45046997070312, 'Gesticuling': 122.58815002441406, 'Talking': 117.79409790039062, 'Reacting': 124.61638641357422, 'Walking': 155.81390380859375, 'Greeting': 108.20901489257812, 'Patting': 147.7193603515625}, 'UpperBody': {'All': 123.21561431884766, 'LowerStretching': 101.9388427734375, 'Gaming': 112.8799057006836, 'UpperStretching': 133.66331481933594, 'Gesticuling': 95.41826629638672, 'Talking': 114.60505676269531, 'Reacting': 111.89313507080078, 'Walking': 116.36580657958984, 'Greeting': 100.41474151611328, 'Patting': 121.85514068603516}, 'LowerBody': {'All': 183.72616577148438, 'LowerStretching': 225.85646057128906, 'Gaming': 183.81427001953125, 'UpperStretching': 175.2376708984375, 'Gesticuling': 149.75802612304688, 'Talking': 120.98313903808594, 'Reacting': 137.3396453857422, 'Walking': 195.26197814941406, 'Greeting': 116.00326538085938, 'Patting': 173.5835723876953}}\n"
     ]
    },
    {
     "name": "stderr",
     "output_type": "stream",
     "text": [
      " 15%|█▍        | 801/5352 [02:00<10:17,  7.37it/s]"
     ]
    },
    {
     "name": "stdout",
     "output_type": "stream",
     "text": [
      "{'FullBody': {'All': 153.19749450683594, 'LowerStretching': 163.90403747558594, 'Gaming': 148.41615295410156, 'UpperStretching': 154.21096801757812, 'Gesticuling': 121.65335083007812, 'Talking': 119.75752258300781, 'Reacting': 123.55938720703125, 'Walking': 155.7210693359375, 'Greeting': 107.53215789794922, 'Patting': 145.5929718017578}, 'UpperBody': {'All': 123.12837982177734, 'LowerStretching': 102.03302764892578, 'Gaming': 111.66156005859375, 'UpperStretching': 133.5403289794922, 'Gesticuling': 95.71109008789062, 'Talking': 115.5631103515625, 'Reacting': 110.56514739990234, 'Walking': 116.70405578613281, 'Greeting': 100.85224914550781, 'Patting': 120.94938659667969}, 'LowerBody': {'All': 183.26661682128906, 'LowerStretching': 225.77503967285156, 'Gaming': 185.17071533203125, 'UpperStretching': 174.88162231445312, 'Gesticuling': 147.5956268310547, 'Talking': 123.95198059082031, 'Reacting': 136.55361938476562, 'Walking': 194.73805236816406, 'Greeting': 114.21206665039062, 'Patting': 170.23655700683594}}\n"
     ]
    },
    {
     "name": "stderr",
     "output_type": "stream",
     "text": [
      " 19%|█▊        | 1001/5352 [02:27<09:28,  7.65it/s]"
     ]
    },
    {
     "name": "stdout",
     "output_type": "stream",
     "text": [
      "{'FullBody': {'All': 153.19805908203125, 'LowerStretching': 164.32032775878906, 'Gaming': 148.821044921875, 'UpperStretching': 154.05413818359375, 'Gesticuling': 123.78541564941406, 'Talking': 119.34056091308594, 'Reacting': 122.92351531982422, 'Walking': 156.348876953125, 'Greeting': 107.78083801269531, 'Patting': 146.3469696044922}, 'UpperBody': {'All': 123.06473541259766, 'LowerStretching': 102.250732421875, 'Gaming': 110.5875015258789, 'UpperStretching': 133.4881134033203, 'Gesticuling': 94.3490219116211, 'Talking': 115.77760314941406, 'Reacting': 109.43444061279297, 'Walking': 117.50298309326172, 'Greeting': 101.64190673828125, 'Patting': 119.28335571289062}, 'LowerBody': {'All': 183.33140563964844, 'LowerStretching': 226.38992309570312, 'Gaming': 187.0545654296875, 'UpperStretching': 174.62014770507812, 'Gesticuling': 153.22181701660156, 'Talking': 122.90351867675781, 'Reacting': 136.41258239746094, 'Walking': 195.19479370117188, 'Greeting': 113.9197769165039, 'Patting': 173.41061401367188}}\n"
     ]
    },
    {
     "name": "stderr",
     "output_type": "stream",
     "text": [
      " 22%|██▏       | 1201/5352 [02:55<10:18,  6.71it/s]"
     ]
    },
    {
     "name": "stdout",
     "output_type": "stream",
     "text": [
      "{'FullBody': {'All': 153.6307830810547, 'LowerStretching': 164.70362854003906, 'Gaming': 149.32278442382812, 'UpperStretching': 154.59226989746094, 'Gesticuling': 123.37911224365234, 'Talking': 118.8347396850586, 'Reacting': 122.89649963378906, 'Walking': 156.64100646972656, 'Greeting': 108.81341552734375, 'Patting': 146.30335998535156}, 'UpperBody': {'All': 123.33374786376953, 'LowerStretching': 102.6633529663086, 'Gaming': 112.64697265625, 'UpperStretching': 133.69863891601562, 'Gesticuling': 94.59899139404297, 'Talking': 115.68605041503906, 'Reacting': 109.35000610351562, 'Walking': 117.6623306274414, 'Greeting': 102.4491958618164, 'Patting': 119.12638092041016}, 'LowerBody': {'All': 183.9278106689453, 'LowerStretching': 226.74391174316406, 'Gaming': 185.99859619140625, 'UpperStretching': 175.4858856201172, 'Gesticuling': 152.1592254638672, 'Talking': 121.98343658447266, 'Reacting': 136.4429931640625, 'Walking': 195.61968994140625, 'Greeting': 115.17761993408203, 'Patting': 173.4803009033203}}\n"
     ]
    },
    {
     "name": "stderr",
     "output_type": "stream",
     "text": [
      " 26%|██▌       | 1401/5352 [03:23<09:00,  7.31it/s]"
     ]
    },
    {
     "name": "stdout",
     "output_type": "stream",
     "text": [
      "{'FullBody': {'All': 153.54104614257812, 'LowerStretching': 164.4567413330078, 'Gaming': 150.0438232421875, 'UpperStretching': 154.45741271972656, 'Gesticuling': 123.15034484863281, 'Talking': 118.79974365234375, 'Reacting': 123.41278076171875, 'Walking': 156.724853515625, 'Greeting': 108.85282897949219, 'Patting': 144.79840087890625}, 'UpperBody': {'All': 123.30160522460938, 'LowerStretching': 102.29719543457031, 'Gaming': 113.3079833984375, 'UpperStretching': 133.63092041015625, 'Gesticuling': 94.32788848876953, 'Talking': 115.92774963378906, 'Reacting': 110.61380767822266, 'Walking': 117.77043151855469, 'Greeting': 102.2958755493164, 'Patting': 118.8415298461914}, 'LowerBody': {'All': 183.78048706054688, 'LowerStretching': 226.61630249023438, 'Gaming': 186.77967834472656, 'UpperStretching': 175.28387451171875, 'Gesticuling': 151.97279357910156, 'Talking': 121.67173767089844, 'Reacting': 136.21177673339844, 'Walking': 195.67926025390625, 'Greeting': 115.40978240966797, 'Patting': 170.75527954101562}}\n"
     ]
    },
    {
     "name": "stderr",
     "output_type": "stream",
     "text": [
      " 30%|██▉       | 1601/5352 [03:51<08:38,  7.23it/s]"
     ]
    },
    {
     "name": "stdout",
     "output_type": "stream",
     "text": [
      "{'FullBody': {'All': 153.57583618164062, 'LowerStretching': 164.35684204101562, 'Gaming': 149.62698364257812, 'UpperStretching': 154.6881103515625, 'Gesticuling': 123.19573974609375, 'Talking': 118.5851821899414, 'Reacting': 122.36995697021484, 'Walking': 156.72911071777344, 'Greeting': 109.16886901855469, 'Patting': 143.5816650390625}, 'UpperBody': {'All': 123.23701477050781, 'LowerStretching': 102.16376495361328, 'Gaming': 112.88124084472656, 'UpperStretching': 133.6874542236328, 'Gesticuling': 94.21637725830078, 'Talking': 116.1697006225586, 'Reacting': 109.77142333984375, 'Walking': 117.9215316772461, 'Greeting': 102.35420227050781, 'Patting': 117.63042449951172}, 'LowerBody': {'All': 183.9146728515625, 'LowerStretching': 226.54994201660156, 'Gaming': 186.37271118164062, 'UpperStretching': 175.68873596191406, 'Gesticuling': 152.1750946044922, 'Talking': 121.00066375732422, 'Reacting': 134.96849060058594, 'Walking': 195.5366973876953, 'Greeting': 115.98355102539062, 'Patting': 169.5329132080078}}\n"
     ]
    },
    {
     "name": "stderr",
     "output_type": "stream",
     "text": [
      " 34%|███▎      | 1801/5352 [04:19<08:53,  6.66it/s]"
     ]
    },
    {
     "name": "stdout",
     "output_type": "stream",
     "text": [
      "{'FullBody': {'All': 153.60968017578125, 'LowerStretching': 163.85205078125, 'Gaming': 150.0298309326172, 'UpperStretching': 154.64776611328125, 'Gesticuling': 123.90617370605469, 'Talking': 120.28398132324219, 'Reacting': 122.78819274902344, 'Walking': 157.12490844726562, 'Greeting': 109.14381408691406, 'Patting': 144.62088012695312}, 'UpperBody': {'All': 123.33967590332031, 'LowerStretching': 101.99618530273438, 'Gaming': 113.6827621459961, 'UpperStretching': 133.73641967773438, 'Gesticuling': 94.02894592285156, 'Talking': 117.06712341308594, 'Reacting': 110.22731018066406, 'Walking': 118.08154296875, 'Greeting': 102.1610336303711, 'Patting': 118.39772033691406}, 'LowerBody': {'All': 183.8797149658203, 'LowerStretching': 225.7078857421875, 'Gaming': 186.3769073486328, 'UpperStretching': 175.55911254882812, 'Gesticuling': 153.7833709716797, 'Talking': 123.5008316040039, 'Reacting': 135.34909057617188, 'Walking': 196.16827392578125, 'Greeting': 116.12657928466797, 'Patting': 170.8440399169922}}\n"
     ]
    },
    {
     "name": "stderr",
     "output_type": "stream",
     "text": [
      " 37%|███▋      | 2001/5352 [04:47<07:46,  7.18it/s]"
     ]
    },
    {
     "name": "stdout",
     "output_type": "stream",
     "text": [
      "{'FullBody': {'All': 153.6705322265625, 'LowerStretching': 163.8417510986328, 'Gaming': 149.33566284179688, 'UpperStretching': 154.7416229248047, 'Gesticuling': 124.42224884033203, 'Talking': 120.08171844482422, 'Reacting': 122.4260482788086, 'Walking': 157.09739685058594, 'Greeting': 109.65882873535156, 'Patting': 144.33584594726562}, 'UpperBody': {'All': 123.42801666259766, 'LowerStretching': 101.9140853881836, 'Gaming': 113.68717956542969, 'UpperStretching': 133.87384033203125, 'Gesticuling': 94.29231262207031, 'Talking': 116.77711486816406, 'Reacting': 109.48481750488281, 'Walking': 118.1087875366211, 'Greeting': 102.75833129882812, 'Patting': 119.31507110595703}, 'LowerBody': {'All': 183.91302490234375, 'LowerStretching': 225.76939392089844, 'Gaming': 184.984130859375, 'UpperStretching': 175.60940551757812, 'Gesticuling': 154.55218505859375, 'Talking': 123.38632202148438, 'Reacting': 135.36727905273438, 'Walking': 196.0859832763672, 'Greeting': 116.559326171875, 'Patting': 169.35662841796875}}\n"
     ]
    },
    {
     "name": "stderr",
     "output_type": "stream",
     "text": [
      " 41%|████      | 2201/5352 [05:15<07:15,  7.24it/s]"
     ]
    },
    {
     "name": "stdout",
     "output_type": "stream",
     "text": [
      "{'FullBody': {'All': 153.66871643066406, 'LowerStretching': 164.169921875, 'Gaming': 149.1599578857422, 'UpperStretching': 154.65948486328125, 'Gesticuling': 124.4962158203125, 'Talking': 120.08960723876953, 'Reacting': 122.18231964111328, 'Walking': 157.06130981445312, 'Greeting': 109.5418472290039, 'Patting': 144.00294494628906}, 'UpperBody': {'All': 123.48282623291016, 'LowerStretching': 102.20028686523438, 'Gaming': 113.65755462646484, 'UpperStretching': 133.80555725097656, 'Gesticuling': 94.3982162475586, 'Talking': 117.0810546875, 'Reacting': 108.84502410888672, 'Walking': 118.28001403808594, 'Greeting': 102.63709259033203, 'Patting': 119.64159393310547}, 'LowerBody': {'All': 183.8546142578125, 'LowerStretching': 226.13955688476562, 'Gaming': 184.66236877441406, 'UpperStretching': 175.513427734375, 'Gesticuling': 154.5941925048828, 'Talking': 123.09815979003906, 'Reacting': 135.51962280273438, 'Walking': 195.84259033203125, 'Greeting': 116.44660949707031, 'Patting': 168.36427307128906}}\n"
     ]
    },
    {
     "name": "stderr",
     "output_type": "stream",
     "text": [
      " 45%|████▍     | 2401/5352 [05:43<07:34,  6.49it/s]"
     ]
    },
    {
     "name": "stdout",
     "output_type": "stream",
     "text": [
      "{'FullBody': {'All': 153.6988067626953, 'LowerStretching': 163.95399475097656, 'Gaming': 148.85546875, 'UpperStretching': 154.76170349121094, 'Gesticuling': 124.99462890625, 'Talking': 119.9317398071289, 'Reacting': 122.80423736572266, 'Walking': 157.1286163330078, 'Greeting': 109.3664321899414, 'Patting': 143.18408203125}, 'UpperBody': {'All': 123.52404022216797, 'LowerStretching': 102.309814453125, 'Gaming': 113.51691436767578, 'UpperStretching': 133.87391662597656, 'Gesticuling': 94.58027648925781, 'Talking': 116.79090118408203, 'Reacting': 109.66378021240234, 'Walking': 118.08610534667969, 'Greeting': 102.65370178222656, 'Patting': 119.41437530517578}, 'LowerBody': {'All': 183.87353515625, 'LowerStretching': 225.59811401367188, 'Gaming': 184.1940155029297, 'UpperStretching': 175.64952087402344, 'Gesticuling': 155.40899658203125, 'Talking': 123.07256317138672, 'Reacting': 135.9447021484375, 'Walking': 196.17112731933594, 'Greeting': 116.07917022705078, 'Patting': 166.95379638671875}}\n"
     ]
    },
    {
     "name": "stderr",
     "output_type": "stream",
     "text": [
      " 49%|████▊     | 2601/5352 [06:11<06:23,  7.17it/s]"
     ]
    },
    {
     "name": "stdout",
     "output_type": "stream",
     "text": [
      "{'FullBody': {'All': 153.84521484375, 'LowerStretching': 164.1368408203125, 'Gaming': 149.27145385742188, 'UpperStretching': 154.8555145263672, 'Gesticuling': 125.6966552734375, 'Talking': 119.75169372558594, 'Reacting': 122.3818588256836, 'Walking': 157.48643493652344, 'Greeting': 108.9140396118164, 'Patting': 144.19091796875}, 'UpperBody': {'All': 123.73055267333984, 'LowerStretching': 102.4954605102539, 'Gaming': 113.95590209960938, 'UpperStretching': 134.08956909179688, 'Gesticuling': 94.9083480834961, 'Talking': 116.76656341552734, 'Reacting': 109.14796447753906, 'Walking': 118.5079574584961, 'Greeting': 102.14974975585938, 'Patting': 119.88571166992188}, 'LowerBody': {'All': 183.9598846435547, 'LowerStretching': 225.77822875976562, 'Gaming': 184.5869903564453, 'UpperStretching': 175.6214599609375, 'Gesticuling': 156.48497009277344, 'Talking': 122.73683166503906, 'Reacting': 135.61575317382812, 'Walking': 196.46493530273438, 'Greeting': 115.67832946777344, 'Patting': 168.49612426757812}}\n"
     ]
    },
    {
     "name": "stderr",
     "output_type": "stream",
     "text": [
      " 52%|█████▏    | 2801/5352 [06:39<05:59,  7.09it/s]"
     ]
    },
    {
     "name": "stdout",
     "output_type": "stream",
     "text": [
      "{'FullBody': {'All': 153.79861450195312, 'LowerStretching': 164.1990203857422, 'Gaming': 148.7535400390625, 'UpperStretching': 154.80445861816406, 'Gesticuling': 125.6310806274414, 'Talking': 119.57592010498047, 'Reacting': 122.16023254394531, 'Walking': 157.1190185546875, 'Greeting': 108.94232940673828, 'Patting': 145.78701782226562}, 'UpperBody': {'All': 123.77571105957031, 'LowerStretching': 102.6629409790039, 'Gaming': 113.71025085449219, 'UpperStretching': 134.16305541992188, 'Gesticuling': 94.89651489257812, 'Talking': 116.42938232421875, 'Reacting': 108.84457397460938, 'Walking': 118.25354766845703, 'Greeting': 102.27597045898438, 'Patting': 120.1770248413086}, 'LowerBody': {'All': 183.82150268554688, 'LowerStretching': 225.73513793945312, 'Gaming': 183.79684448242188, 'UpperStretching': 175.4458465576172, 'Gesticuling': 156.3656463623047, 'Talking': 122.72246551513672, 'Reacting': 135.47589111328125, 'Walking': 195.98448181152344, 'Greeting': 115.60867309570312, 'Patting': 171.39700317382812}}\n"
     ]
    },
    {
     "name": "stderr",
     "output_type": "stream",
     "text": [
      " 56%|█████▌    | 3001/5352 [07:07<05:56,  6.60it/s]"
     ]
    },
    {
     "name": "stdout",
     "output_type": "stream",
     "text": [
      "{'FullBody': {'All': 153.77967834472656, 'LowerStretching': 163.9542694091797, 'Gaming': 148.45703125, 'UpperStretching': 154.8910675048828, 'Gesticuling': 126.0977783203125, 'Talking': 119.32534790039062, 'Reacting': 121.92394256591797, 'Walking': 157.0791473388672, 'Greeting': 108.55860900878906, 'Patting': 145.59249877929688}, 'UpperBody': {'All': 123.7519302368164, 'LowerStretching': 102.65679168701172, 'Gaming': 114.00420379638672, 'UpperStretching': 134.1751251220703, 'Gesticuling': 95.04964447021484, 'Talking': 116.3456039428711, 'Reacting': 108.58457946777344, 'Walking': 118.07486724853516, 'Greeting': 102.15672302246094, 'Patting': 119.96534729003906}, 'LowerBody': {'All': 183.8074188232422, 'LowerStretching': 225.2517547607422, 'Gaming': 182.9098663330078, 'UpperStretching': 175.6070098876953, 'Gesticuling': 157.14593505859375, 'Talking': 122.30509185791016, 'Reacting': 135.26329040527344, 'Walking': 196.08343505859375, 'Greeting': 114.96051025390625, 'Patting': 171.2196502685547}}\n"
     ]
    },
    {
     "name": "stderr",
     "output_type": "stream",
     "text": [
      " 60%|█████▉    | 3201/5352 [07:35<05:09,  6.96it/s]"
     ]
    },
    {
     "name": "stdout",
     "output_type": "stream",
     "text": [
      "{'FullBody': {'All': 153.8841552734375, 'LowerStretching': 163.91552734375, 'Gaming': 148.30076599121094, 'UpperStretching': 155.10401916503906, 'Gesticuling': 126.18033599853516, 'Talking': 119.23552703857422, 'Reacting': 121.94182586669922, 'Walking': 157.12271118164062, 'Greeting': 108.77012634277344, 'Patting': 145.06680297851562}, 'UpperBody': {'All': 123.7874526977539, 'LowerStretching': 102.60908508300781, 'Gaming': 114.0022964477539, 'UpperStretching': 134.23680114746094, 'Gesticuling': 95.06237030029297, 'Talking': 116.5074462890625, 'Reacting': 108.64339447021484, 'Walking': 118.24092864990234, 'Greeting': 102.18971252441406, 'Patting': 119.39445495605469}, 'LowerBody': {'All': 183.98081970214844, 'LowerStretching': 225.22195434570312, 'Gaming': 182.5992431640625, 'UpperStretching': 175.9712371826172, 'Gesticuling': 157.2982940673828, 'Talking': 121.96359252929688, 'Reacting': 135.24026489257812, 'Walking': 196.00450134277344, 'Greeting': 115.35054016113281, 'Patting': 170.73915100097656}}\n"
     ]
    },
    {
     "name": "stderr",
     "output_type": "stream",
     "text": [
      " 64%|██████▎   | 3401/5352 [08:03<04:37,  7.04it/s]"
     ]
    },
    {
     "name": "stdout",
     "output_type": "stream",
     "text": [
      "{'FullBody': {'All': 154.0345001220703, 'LowerStretching': 164.07049560546875, 'Gaming': 148.6702423095703, 'UpperStretching': 155.24227905273438, 'Gesticuling': 126.48670196533203, 'Talking': 119.3381118774414, 'Reacting': 121.97076416015625, 'Walking': 157.28369140625, 'Greeting': 108.54859924316406, 'Patting': 144.67784118652344}, 'UpperBody': {'All': 123.82234191894531, 'LowerStretching': 102.650146484375, 'Gaming': 113.51163482666016, 'UpperStretching': 134.28109741210938, 'Gesticuling': 95.19732666015625, 'Talking': 116.23490905761719, 'Reacting': 108.44959259033203, 'Walking': 118.2785873413086, 'Greeting': 102.35965728759766, 'Patting': 119.63014221191406}, 'LowerBody': {'All': 184.24664306640625, 'LowerStretching': 225.49082946777344, 'Gaming': 183.82882690429688, 'UpperStretching': 176.2034454345703, 'Gesticuling': 157.77609252929688, 'Talking': 122.44131469726562, 'Reacting': 135.49192810058594, 'Walking': 196.2887725830078, 'Greeting': 114.73755645751953, 'Patting': 169.7255401611328}}\n"
     ]
    },
    {
     "name": "stderr",
     "output_type": "stream",
     "text": [
      " 67%|██████▋   | 3601/5352 [08:31<04:32,  6.42it/s]"
     ]
    },
    {
     "name": "stdout",
     "output_type": "stream",
     "text": [
      "{'FullBody': {'All': 153.9357452392578, 'LowerStretching': 163.95401000976562, 'Gaming': 148.84718322753906, 'UpperStretching': 155.15321350097656, 'Gesticuling': 126.45655059814453, 'Talking': 119.37743377685547, 'Reacting': 121.85897064208984, 'Walking': 157.10556030273438, 'Greeting': 108.67475891113281, 'Patting': 144.6625213623047}, 'UpperBody': {'All': 123.75483703613281, 'LowerStretching': 102.59471893310547, 'Gaming': 113.3537826538086, 'UpperStretching': 134.21578979492188, 'Gesticuling': 94.90042877197266, 'Talking': 116.13246154785156, 'Reacting': 108.64185333251953, 'Walking': 118.16297149658203, 'Greeting': 102.53923034667969, 'Patting': 119.73593139648438}, 'LowerBody': {'All': 184.11660766601562, 'LowerStretching': 225.31329345703125, 'Gaming': 184.340576171875, 'UpperStretching': 176.0906524658203, 'Gesticuling': 158.01268005371094, 'Talking': 122.6224136352539, 'Reacting': 135.0760955810547, 'Walking': 196.0481414794922, 'Greeting': 114.8102798461914, 'Patting': 169.58912658691406}}\n"
     ]
    },
    {
     "name": "stderr",
     "output_type": "stream",
     "text": [
      " 71%|███████   | 3801/5352 [08:59<03:42,  6.97it/s]"
     ]
    },
    {
     "name": "stdout",
     "output_type": "stream",
     "text": [
      "{'FullBody': {'All': 153.85662841796875, 'LowerStretching': 163.8373260498047, 'Gaming': 148.6825408935547, 'UpperStretching': 155.09011840820312, 'Gesticuling': 126.54913330078125, 'Talking': 119.0963134765625, 'Reacting': 121.7147216796875, 'Walking': 156.8804168701172, 'Greeting': 109.12520599365234, 'Patting': 144.9335174560547}, 'UpperBody': {'All': 123.66863250732422, 'LowerStretching': 102.50430297851562, 'Gaming': 113.15827178955078, 'UpperStretching': 134.14112854003906, 'Gesticuling': 94.58307647705078, 'Talking': 116.18035888671875, 'Reacting': 108.7140884399414, 'Walking': 118.02812194824219, 'Greeting': 102.88436126708984, 'Patting': 119.5190658569336}, 'LowerBody': {'All': 184.0446014404297, 'LowerStretching': 225.17034912109375, 'Gaming': 184.20677185058594, 'UpperStretching': 176.0391082763672, 'Gesticuling': 158.5151824951172, 'Talking': 122.01226043701172, 'Reacting': 134.71534729003906, 'Walking': 195.7327117919922, 'Greeting': 115.36605834960938, 'Patting': 170.34796142578125}}\n"
     ]
    },
    {
     "name": "stderr",
     "output_type": "stream",
     "text": [
      " 75%|███████▍  | 4001/5352 [09:27<03:11,  7.05it/s]"
     ]
    },
    {
     "name": "stdout",
     "output_type": "stream",
     "text": [
      "{'FullBody': {'All': 153.94114685058594, 'LowerStretching': 163.91127014160156, 'Gaming': 148.34292602539062, 'UpperStretching': 155.1815948486328, 'Gesticuling': 126.70831298828125, 'Talking': 118.96070861816406, 'Reacting': 121.51502990722656, 'Walking': 156.9394073486328, 'Greeting': 109.09041595458984, 'Patting': 145.51077270507812}, 'UpperBody': {'All': 123.70388793945312, 'LowerStretching': 102.58568572998047, 'Gaming': 112.71524047851562, 'UpperStretching': 134.1650390625, 'Gesticuling': 94.47634887695312, 'Talking': 116.21363067626953, 'Reacting': 108.45618438720703, 'Walking': 118.11707305908203, 'Greeting': 102.99504852294922, 'Patting': 119.7293701171875}, 'LowerBody': {'All': 184.17837524414062, 'LowerStretching': 225.23684692382812, 'Gaming': 183.97061157226562, 'UpperStretching': 176.19813537597656, 'Gesticuling': 158.9403076171875, 'Talking': 121.70779418945312, 'Reacting': 134.57388305664062, 'Walking': 195.76173400878906, 'Greeting': 115.185791015625, 'Patting': 171.2921905517578}}\n"
     ]
    },
    {
     "name": "stderr",
     "output_type": "stream",
     "text": [
      " 78%|███████▊  | 4201/5352 [09:55<02:58,  6.43it/s]"
     ]
    },
    {
     "name": "stdout",
     "output_type": "stream",
     "text": [
      "{'FullBody': {'All': 153.90164184570312, 'LowerStretching': 164.02870178222656, 'Gaming': 148.4514617919922, 'UpperStretching': 155.09539794921875, 'Gesticuling': 126.4638671875, 'Talking': 119.11132049560547, 'Reacting': 121.5723876953125, 'Walking': 156.9175567626953, 'Greeting': 109.17236328125, 'Patting': 144.98867797851562}, 'UpperBody': {'All': 123.68529510498047, 'LowerStretching': 102.60881042480469, 'Gaming': 112.69942474365234, 'UpperStretching': 134.1180877685547, 'Gesticuling': 94.19593048095703, 'Talking': 116.10587310791016, 'Reacting': 108.56031036376953, 'Walking': 118.15179443359375, 'Greeting': 103.122802734375, 'Patting': 119.52690124511719}, 'LowerBody': {'All': 184.11798095703125, 'LowerStretching': 225.44859313964844, 'Gaming': 184.20350646972656, 'UpperStretching': 176.0727081298828, 'Gesticuling': 158.7317657470703, 'Talking': 122.11676025390625, 'Reacting': 134.58448791503906, 'Walking': 195.68331909179688, 'Greeting': 115.221923828125, 'Patting': 170.45045471191406}}\n"
     ]
    },
    {
     "name": "stderr",
     "output_type": "stream",
     "text": [
      " 82%|████████▏ | 4401/5352 [10:24<02:17,  6.92it/s]"
     ]
    },
    {
     "name": "stdout",
     "output_type": "stream",
     "text": [
      "{'FullBody': {'All': 153.86895751953125, 'LowerStretching': 163.95164489746094, 'Gaming': 148.7296142578125, 'UpperStretching': 155.08261108398438, 'Gesticuling': 126.3583755493164, 'Talking': 119.10819244384766, 'Reacting': 121.77220916748047, 'Walking': 156.93109130859375, 'Greeting': 109.09837341308594, 'Patting': 144.77903747558594}, 'UpperBody': {'All': 123.69684600830078, 'LowerStretching': 102.54141235351562, 'Gaming': 112.88916015625, 'UpperStretching': 134.16212463378906, 'Gesticuling': 93.99073028564453, 'Talking': 116.08102416992188, 'Reacting': 108.7369613647461, 'Walking': 118.13645935058594, 'Greeting': 103.1434555053711, 'Patting': 119.55110931396484}, 'LowerBody': {'All': 184.04107666015625, 'LowerStretching': 225.36187744140625, 'Gaming': 184.570068359375, 'UpperStretching': 176.0030975341797, 'Gesticuling': 158.7260284423828, 'Talking': 122.13536834716797, 'Reacting': 134.8074493408203, 'Walking': 195.72572326660156, 'Greeting': 115.05330657958984, 'Patting': 170.00697326660156}}\n"
     ]
    },
    {
     "name": "stderr",
     "output_type": "stream",
     "text": [
      " 86%|████████▌ | 4601/5352 [10:52<01:47,  6.95it/s]"
     ]
    },
    {
     "name": "stdout",
     "output_type": "stream",
     "text": [
      "{'FullBody': {'All': 153.88111877441406, 'LowerStretching': 163.982666015625, 'Gaming': 148.83184814453125, 'UpperStretching': 155.05804443359375, 'Gesticuling': 126.51427459716797, 'Talking': 119.64091491699219, 'Reacting': 121.55725860595703, 'Walking': 156.96897888183594, 'Greeting': 108.82584381103516, 'Patting': 144.73846435546875}, 'UpperBody': {'All': 123.6724624633789, 'LowerStretching': 102.56718444824219, 'Gaming': 112.91112518310547, 'UpperStretching': 134.11134338378906, 'Gesticuling': 94.0718765258789, 'Talking': 116.34761810302734, 'Reacting': 108.46025085449219, 'Walking': 118.18216705322266, 'Greeting': 102.96361541748047, 'Patting': 119.79051208496094}, 'LowerBody': {'All': 184.0897674560547, 'LowerStretching': 225.398193359375, 'Gaming': 184.75257873535156, 'UpperStretching': 176.00473022460938, 'Gesticuling': 158.95668029785156, 'Talking': 122.93421173095703, 'Reacting': 134.6542510986328, 'Walking': 195.7558135986328, 'Greeting': 114.6880874633789, 'Patting': 169.68643188476562}}\n"
     ]
    },
    {
     "name": "stderr",
     "output_type": "stream",
     "text": [
      " 90%|████████▉ | 4801/5352 [11:20<01:28,  6.19it/s]"
     ]
    },
    {
     "name": "stdout",
     "output_type": "stream",
     "text": [
      "{'FullBody': {'All': 153.90528869628906, 'LowerStretching': 164.01910400390625, 'Gaming': 148.7156524658203, 'UpperStretching': 155.09457397460938, 'Gesticuling': 126.58348083496094, 'Talking': 119.57108306884766, 'Reacting': 121.44348907470703, 'Walking': 157.0285186767578, 'Greeting': 108.71028137207031, 'Patting': 144.56455993652344}, 'UpperBody': {'All': 123.67453002929688, 'LowerStretching': 102.49552154541016, 'Gaming': 112.88607788085938, 'UpperStretching': 134.11595153808594, 'Gesticuling': 94.20591735839844, 'Talking': 116.36092376708984, 'Reacting': 108.3334732055664, 'Walking': 118.24185943603516, 'Greeting': 102.85032653808594, 'Patting': 119.88945007324219}, 'LowerBody': {'All': 184.13604736328125, 'LowerStretching': 225.54266357421875, 'Gaming': 184.5452423095703, 'UpperStretching': 176.07318115234375, 'Gesticuling': 158.96102905273438, 'Talking': 122.78125, 'Reacting': 134.5535125732422, 'Walking': 195.815185546875, 'Greeting': 114.57022857666016, 'Patting': 169.2396697998047}}\n"
     ]
    },
    {
     "name": "stderr",
     "output_type": "stream",
     "text": [
      " 93%|█████████▎| 5001/5352 [11:48<00:52,  6.74it/s]"
     ]
    },
    {
     "name": "stdout",
     "output_type": "stream",
     "text": [
      "{'FullBody': {'All': 153.91600036621094, 'LowerStretching': 164.12924194335938, 'Gaming': 148.32679748535156, 'UpperStretching': 155.1151580810547, 'Gesticuling': 126.44759368896484, 'Talking': 119.3636474609375, 'Reacting': 121.38165283203125, 'Walking': 156.9001922607422, 'Greeting': 108.61547088623047, 'Patting': 144.58615112304688}, 'UpperBody': {'All': 123.68219757080078, 'LowerStretching': 102.51504516601562, 'Gaming': 112.7109603881836, 'UpperStretching': 134.13145446777344, 'Gesticuling': 94.18085479736328, 'Talking': 116.24138641357422, 'Reacting': 108.34398651123047, 'Walking': 118.21785736083984, 'Greeting': 102.72952270507812, 'Patting': 119.80398559570312}, 'LowerBody': {'All': 184.1497802734375, 'LowerStretching': 225.74343872070312, 'Gaming': 183.942626953125, 'UpperStretching': 176.09884643554688, 'Gesticuling': 158.71432495117188, 'Talking': 122.48590087890625, 'Reacting': 134.4193115234375, 'Walking': 195.58253479003906, 'Greeting': 114.50141906738281, 'Patting': 169.36830139160156}}\n"
     ]
    },
    {
     "name": "stderr",
     "output_type": "stream",
     "text": [
      " 97%|█████████▋| 5201/5352 [12:16<00:21,  6.87it/s]"
     ]
    },
    {
     "name": "stdout",
     "output_type": "stream",
     "text": [
      "{'FullBody': {'All': 153.9642333984375, 'LowerStretching': 164.3041229248047, 'Gaming': 148.07785034179688, 'UpperStretching': 155.10379028320312, 'Gesticuling': 126.56205749511719, 'Talking': 119.38056182861328, 'Reacting': 121.53347778320312, 'Walking': 157.06459045410156, 'Greeting': 108.51229858398438, 'Patting': 144.76405334472656}, 'UpperBody': {'All': 123.7138442993164, 'LowerStretching': 102.5953598022461, 'Gaming': 112.74055480957031, 'UpperStretching': 134.1164093017578, 'Gesticuling': 94.18655395507812, 'Talking': 116.13260650634766, 'Reacting': 108.49803924560547, 'Walking': 118.37494659423828, 'Greeting': 102.64200592041016, 'Patting': 119.91967010498047}, 'LowerBody': {'All': 184.21461486816406, 'LowerStretching': 226.01284790039062, 'Gaming': 183.41514587402344, 'UpperStretching': 176.0911407470703, 'Gesticuling': 158.93756103515625, 'Talking': 122.62850189208984, 'Reacting': 134.56893920898438, 'Walking': 195.75425720214844, 'Greeting': 114.38259887695312, 'Patting': 169.6084442138672}}\n"
     ]
    },
    {
     "name": "stderr",
     "output_type": "stream",
     "text": [
      "100%|██████████| 5352/5352 [12:37<00:00,  7.07it/s]\n",
      "\u001b[94m08:08:29 \u001b[92m[INFO]\u001b[94m Main\u001b[0m: Saving evaluation results...\n",
      "\u001b[94m08:08:29 \u001b[92m[INFO]\u001b[94m Main\u001b[0m: Done.\n",
      "\u001b[94m08:08:29 \u001b[92m[INFO]\u001b[94m Main\u001b[0m: Starting demo...\n",
      "  0%|          | 0/5352 [00:00<?, ?it/s]/opt/conda/lib/python3.10/site-packages/torchvision/transforms/transforms.py:329: UserWarning: Argument 'interpolation' of type int is deprecated since 0.13 and will be removed in 0.15. Please use InterpolationMode enum.\n",
      "  warnings.warn(\n",
      "/opt/conda/lib/python3.10/site-packages/torchvision/transforms/transforms.py:329: UserWarning: Argument 'interpolation' of type int is deprecated since 0.13 and will be removed in 0.15. Please use InterpolationMode enum.\n",
      "  warnings.warn(\n",
      "/opt/conda/lib/python3.10/site-packages/torchvision/transforms/transforms.py:329: UserWarning: Argument 'interpolation' of type int is deprecated since 0.13 and will be removed in 0.15. Please use InterpolationMode enum.\n",
      "  warnings.warn(\n",
      "/opt/conda/lib/python3.10/site-packages/torchvision/transforms/transforms.py:329: UserWarning: Argument 'interpolation' of type int is deprecated since 0.13 and will be removed in 0.15. Please use InterpolationMode enum.\n",
      "  warnings.warn(\n",
      "/opt/conda/lib/python3.10/site-packages/torchvision/transforms/transforms.py:329: UserWarning: Argument 'interpolation' of type int is deprecated since 0.13 and will be removed in 0.15. Please use InterpolationMode enum.\n",
      "  warnings.warn(\n",
      "/opt/conda/lib/python3.10/site-packages/torchvision/transforms/transforms.py:329: UserWarning: Argument 'interpolation' of type int is deprecated since 0.13 and will be removed in 0.15. Please use InterpolationMode enum.\n",
      "  warnings.warn(\n",
      "/opt/conda/lib/python3.10/site-packages/torchvision/transforms/transforms.py:329: UserWarning: Argument 'interpolation' of type int is deprecated since 0.13 and will be removed in 0.15. Please use InterpolationMode enum.\n",
      "  warnings.warn(\n",
      "/opt/conda/lib/python3.10/site-packages/torchvision/transforms/transforms.py:329: UserWarning: Argument 'interpolation' of type int is deprecated since 0.13 and will be removed in 0.15. Please use InterpolationMode enum.\n",
      "  warnings.warn(\n",
      "/opt/conda/lib/python3.10/site-packages/torchvision/transforms/transforms.py:329: UserWarning: Argument 'interpolation' of type int is deprecated since 0.13 and will be removed in 0.15. Please use InterpolationMode enum.\n",
      "  warnings.warn(\n",
      "/opt/conda/lib/python3.10/site-packages/torchvision/transforms/transforms.py:329: UserWarning: Argument 'interpolation' of type int is deprecated since 0.13 and will be removed in 0.15. Please use InterpolationMode enum.\n",
      "  warnings.warn(\n",
      "/opt/conda/lib/python3.10/site-packages/torchvision/transforms/transforms.py:329: UserWarning: Argument 'interpolation' of type int is deprecated since 0.13 and will be removed in 0.15. Please use InterpolationMode enum.\n",
      "  warnings.warn(\n",
      "/opt/conda/lib/python3.10/site-packages/torchvision/transforms/transforms.py:329: UserWarning: Argument 'interpolation' of type int is deprecated since 0.13 and will be removed in 0.15. Please use InterpolationMode enum.\n",
      "  warnings.warn(\n",
      "/opt/conda/lib/python3.10/site-packages/torchvision/transforms/transforms.py:329: UserWarning: Argument 'interpolation' of type int is deprecated since 0.13 and will be removed in 0.15. Please use InterpolationMode enum.\n",
      "  warnings.warn(\n",
      "/opt/conda/lib/python3.10/site-packages/torchvision/transforms/transforms.py:329: UserWarning: Argument 'interpolation' of type int is deprecated since 0.13 and will be removed in 0.15. Please use InterpolationMode enum.\n",
      "  warnings.warn(\n",
      "/opt/conda/lib/python3.10/site-packages/torchvision/transforms/transforms.py:329: UserWarning: Argument 'interpolation' of type int is deprecated since 0.13 and will be removed in 0.15. Please use InterpolationMode enum.\n",
      "  warnings.warn(\n",
      "/opt/conda/lib/python3.10/site-packages/torchvision/transforms/transforms.py:329: UserWarning: Argument 'interpolation' of type int is deprecated since 0.13 and will be removed in 0.15. Please use InterpolationMode enum.\n",
      "  warnings.warn(\n",
      "/opt/conda/lib/python3.10/site-packages/torchvision/transforms/transforms.py:329: UserWarning: Argument 'interpolation' of type int is deprecated since 0.13 and will be removed in 0.15. Please use InterpolationMode enum.\n",
      "  warnings.warn(\n",
      "/opt/conda/lib/python3.10/site-packages/torchvision/transforms/transforms.py:329: UserWarning: Argument 'interpolation' of type int is deprecated since 0.13 and will be removed in 0.15. Please use InterpolationMode enum.\n",
      "  warnings.warn(\n",
      "/opt/conda/lib/python3.10/site-packages/torchvision/transforms/transforms.py:329: UserWarning: Argument 'interpolation' of type int is deprecated since 0.13 and will be removed in 0.15. Please use InterpolationMode enum.\n",
      "  warnings.warn(\n",
      "/opt/conda/lib/python3.10/site-packages/torchvision/transforms/transforms.py:329: UserWarning: Argument 'interpolation' of type int is deprecated since 0.13 and will be removed in 0.15. Please use InterpolationMode enum.\n",
      "  warnings.warn(\n",
      "/opt/conda/lib/python3.10/site-packages/torchvision/transforms/transforms.py:329: UserWarning: Argument 'interpolation' of type int is deprecated since 0.13 and will be removed in 0.15. Please use InterpolationMode enum.\n",
      "  warnings.warn(\n",
      "/opt/conda/lib/python3.10/site-packages/torchvision/transforms/transforms.py:329: UserWarning: Argument 'interpolation' of type int is deprecated since 0.13 and will be removed in 0.15. Please use InterpolationMode enum.\n",
      "  warnings.warn(\n",
      "/opt/conda/lib/python3.10/site-packages/torchvision/transforms/transforms.py:329: UserWarning: Argument 'interpolation' of type int is deprecated since 0.13 and will be removed in 0.15. Please use InterpolationMode enum.\n",
      "  warnings.warn(\n",
      "/opt/conda/lib/python3.10/site-packages/torchvision/transforms/transforms.py:329: UserWarning: Argument 'interpolation' of type int is deprecated since 0.13 and will be removed in 0.15. Please use InterpolationMode enum.\n",
      "  warnings.warn(\n",
      "  4%|▍         | 201/5352 [00:34<12:16,  7.00it/s]"
     ]
    },
    {
     "name": "stdout",
     "output_type": "stream",
     "text": [
      "{'FullBody': {'All': 130.40621948242188, 'UpperStretching': 130.32569885253906, 'Walking': 128.01393127441406, 'LowerStretching': 138.9912109375, 'Patting': 140.56167602539062, 'Gesticuling': 112.26451110839844, 'Reacting': 112.0514907836914, 'Talking': 116.41522216796875, 'Gaming': 121.51630401611328, 'Greeting': 128.4131317138672}, 'UpperBody': {'All': 120.60385131835938, 'UpperStretching': 126.99263000488281, 'Walking': 109.84244537353516, 'LowerStretching': 108.75675964355469, 'Patting': 111.71115112304688, 'Gesticuling': 117.19709014892578, 'Reacting': 102.32154846191406, 'Talking': 136.4548797607422, 'Gaming': 117.6864013671875, 'Greeting': 130.71131896972656}, 'LowerBody': {'All': 140.20858764648438, 'UpperStretching': 133.6587677001953, 'Walking': 146.18539428710938, 'LowerStretching': 169.22569274902344, 'Patting': 169.41221618652344, 'Gesticuling': 107.33191680908203, 'Reacting': 121.78140258789062, 'Talking': 96.37557220458984, 'Gaming': 125.34619140625, 'Greeting': 126.11490631103516}}\n"
     ]
    },
    {
     "name": "stderr",
     "output_type": "stream",
     "text": [
      "  7%|▋         | 401/5352 [01:02<11:02,  7.47it/s]"
     ]
    },
    {
     "name": "stdout",
     "output_type": "stream",
     "text": [
      "{'FullBody': {'All': 129.4051513671875, 'UpperStretching': 129.53404235839844, 'Walking': 126.94978332519531, 'LowerStretching': 137.18907165527344, 'Patting': 138.29190063476562, 'Gesticuling': 111.60478973388672, 'Reacting': 111.4239501953125, 'Talking': 114.02257537841797, 'Gaming': 121.84945678710938, 'Greeting': 123.53760528564453}, 'UpperBody': {'All': 120.28797149658203, 'UpperStretching': 126.35206604003906, 'Walking': 110.44358825683594, 'LowerStretching': 107.90705871582031, 'Patting': 122.4394302368164, 'Gesticuling': 118.83031463623047, 'Reacting': 103.34085845947266, 'Talking': 131.35023498535156, 'Gaming': 119.38702392578125, 'Greeting': 131.8666229248047}, 'LowerBody': {'All': 138.52232360839844, 'UpperStretching': 132.71600341796875, 'Walking': 143.4559783935547, 'LowerStretching': 166.47108459472656, 'Patting': 154.14437866210938, 'Gesticuling': 104.3792724609375, 'Reacting': 119.50702667236328, 'Talking': 96.69490814208984, 'Gaming': 124.31188201904297, 'Greeting': 115.20858764648438}}\n"
     ]
    },
    {
     "name": "stderr",
     "output_type": "stream",
     "text": [
      " 11%|█         | 601/5352 [01:30<10:42,  7.40it/s]"
     ]
    },
    {
     "name": "stdout",
     "output_type": "stream",
     "text": [
      "{'FullBody': {'All': 129.36473083496094, 'UpperStretching': 129.58071899414062, 'Walking': 125.85934448242188, 'LowerStretching': 137.98948669433594, 'Patting': 134.35311889648438, 'Gesticuling': 111.86811065673828, 'Reacting': 111.94109344482422, 'Talking': 113.03628540039062, 'Gaming': 122.67610168457031, 'Greeting': 125.90975952148438}, 'UpperBody': {'All': 120.41627502441406, 'UpperStretching': 126.65692138671875, 'Walking': 110.19479370117188, 'LowerStretching': 108.17054748535156, 'Patting': 119.83552551269531, 'Gesticuling': 118.42989349365234, 'Reacting': 103.64852142333984, 'Talking': 129.69757080078125, 'Gaming': 120.3887939453125, 'Greeting': 132.76492309570312}, 'LowerBody': {'All': 138.31321716308594, 'UpperStretching': 132.5045166015625, 'Walking': 141.52391052246094, 'LowerStretching': 167.80844116210938, 'Patting': 148.87071228027344, 'Gesticuling': 105.30635070800781, 'Reacting': 120.23367309570312, 'Talking': 96.37503051757812, 'Gaming': 124.96341705322266, 'Greeting': 119.05459594726562}}\n"
     ]
    },
    {
     "name": "stderr",
     "output_type": "stream",
     "text": [
      " 15%|█▍        | 801/5352 [01:58<10:38,  7.13it/s]"
     ]
    },
    {
     "name": "stdout",
     "output_type": "stream",
     "text": [
      "{'FullBody': {'All': 129.4853057861328, 'UpperStretching': 129.46844482421875, 'Walking': 126.56050109863281, 'LowerStretching': 138.83921813964844, 'Patting': 133.08021545410156, 'Gesticuling': 110.3001708984375, 'Reacting': 111.99237060546875, 'Talking': 113.45532989501953, 'Gaming': 122.53316497802734, 'Greeting': 126.08853912353516}, 'UpperBody': {'All': 120.45243835449219, 'UpperStretching': 126.86951446533203, 'Walking': 109.38445281982422, 'LowerStretching': 108.55253601074219, 'Patting': 118.47332763671875, 'Gesticuling': 117.17375183105469, 'Reacting': 103.10134887695312, 'Talking': 128.21238708496094, 'Gaming': 120.9442138671875, 'Greeting': 133.6774444580078}, 'LowerBody': {'All': 138.51821899414062, 'UpperStretching': 132.06736755371094, 'Walking': 143.73655700683594, 'LowerStretching': 169.1259307861328, 'Patting': 147.6870880126953, 'Gesticuling': 103.42658996582031, 'Reacting': 120.88337707519531, 'Talking': 98.69823455810547, 'Gaming': 124.12212371826172, 'Greeting': 118.4996566772461}}\n"
     ]
    },
    {
     "name": "stderr",
     "output_type": "stream",
     "text": [
      " 19%|█▊        | 1001/5352 [02:25<09:49,  7.38it/s]"
     ]
    },
    {
     "name": "stdout",
     "output_type": "stream",
     "text": [
      "{'FullBody': {'All': 129.26422119140625, 'UpperStretching': 129.23658752441406, 'Walking': 126.89375305175781, 'LowerStretching': 138.36387634277344, 'Patting': 130.34658813476562, 'Gesticuling': 110.31845092773438, 'Reacting': 111.00501251220703, 'Talking': 114.65158081054688, 'Gaming': 122.35205078125, 'Greeting': 125.80775451660156}, 'UpperBody': {'All': 120.16313934326172, 'UpperStretching': 126.7475814819336, 'Walking': 109.41190338134766, 'LowerStretching': 107.71885681152344, 'Patting': 116.2811050415039, 'Gesticuling': 116.99053955078125, 'Reacting': 101.02719116210938, 'Talking': 129.790283203125, 'Gaming': 120.49968719482422, 'Greeting': 132.5796356201172}, 'LowerBody': {'All': 138.3653106689453, 'UpperStretching': 131.7255859375, 'Walking': 144.37562561035156, 'LowerStretching': 169.00889587402344, 'Patting': 144.41207885742188, 'Gesticuling': 103.64637756347656, 'Reacting': 120.98283386230469, 'Talking': 99.51287841796875, 'Gaming': 124.20441436767578, 'Greeting': 119.035888671875}}\n"
     ]
    },
    {
     "name": "stderr",
     "output_type": "stream",
     "text": [
      " 22%|██▏       | 1200/5352 [02:53<09:22,  7.38it/s]"
     ]
    },
    {
     "name": "stdout",
     "output_type": "stream",
     "text": [
      "{'FullBody': {'All': 128.9640655517578, 'UpperStretching': 129.11215209960938, 'Walking': 126.80542755126953, 'LowerStretching': 137.3900604248047, 'Patting': 129.53390502929688, 'Gesticuling': 110.26886749267578, 'Reacting': 110.91316223144531, 'Talking': 113.64009094238281, 'Gaming': 123.4754409790039, 'Greeting': 125.64393615722656}, 'UpperBody': {'All': 120.03837585449219, 'UpperStretching': 126.7062759399414, 'Walking': 109.12727355957031, 'LowerStretching': 107.45396423339844, 'Patting': 116.35913848876953, 'Gesticuling': 115.84461212158203, 'Reacting': 100.83763122558594, 'Talking': 128.48635864257812, 'Gaming': 121.82710266113281, 'Greeting': 132.6490936279297}, 'LowerBody': {'All': 137.8897705078125, 'UpperStretching': 131.51805114746094, 'Walking': 144.48358154296875, 'LowerStretching': 167.3261260986328, 'Patting': 142.70867919921875, 'Gesticuling': 104.69313049316406, 'Reacting': 120.98868560791016, 'Talking': 98.79383087158203, 'Gaming': 125.1237564086914, 'Greeting': 118.6387939453125}}\n"
     ]
    },
    {
     "name": "stderr",
     "output_type": "stream",
     "text": [
      " 26%|██▌       | 1401/5352 [03:21<09:08,  7.20it/s]"
     ]
    },
    {
     "name": "stdout",
     "output_type": "stream",
     "text": [
      "{'FullBody': {'All': 128.8192596435547, 'UpperStretching': 129.0251007080078, 'Walking': 126.70196533203125, 'LowerStretching': 137.29429626464844, 'Patting': 128.4715118408203, 'Gesticuling': 109.40009307861328, 'Reacting': 111.83857727050781, 'Talking': 112.88922119140625, 'Gaming': 123.17317199707031, 'Greeting': 125.16998291015625}, 'UpperBody': {'All': 120.0214614868164, 'UpperStretching': 126.5755615234375, 'Walking': 109.92475891113281, 'LowerStretching': 107.4818344116211, 'Patting': 115.9837875366211, 'Gesticuling': 114.59393310546875, 'Reacting': 101.89180755615234, 'Talking': 128.4962615966797, 'Gaming': 120.84733581542969, 'Greeting': 133.16778564453125}, 'LowerBody': {'All': 137.61708068847656, 'UpperStretching': 131.47463989257812, 'Walking': 143.47915649414062, 'LowerStretching': 167.10675048828125, 'Patting': 140.959228515625, 'Gesticuling': 104.20628356933594, 'Reacting': 121.78534698486328, 'Talking': 97.28219604492188, 'Gaming': 125.49903106689453, 'Greeting': 117.17219543457031}}\n"
     ]
    },
    {
     "name": "stderr",
     "output_type": "stream",
     "text": [
      " 30%|██▉       | 1601/5352 [03:49<08:38,  7.23it/s]"
     ]
    },
    {
     "name": "stdout",
     "output_type": "stream",
     "text": [
      "{'FullBody': {'All': 128.6962432861328, 'UpperStretching': 128.99368286132812, 'Walking': 126.91719055175781, 'LowerStretching': 136.6680450439453, 'Patting': 129.61041259765625, 'Gesticuling': 108.98091888427734, 'Reacting': 111.80891418457031, 'Talking': 113.13322448730469, 'Gaming': 122.63986206054688, 'Greeting': 124.42414855957031}, 'UpperBody': {'All': 119.93173217773438, 'UpperStretching': 126.45494842529297, 'Walking': 110.07113647460938, 'LowerStretching': 107.39546203613281, 'Patting': 116.5618896484375, 'Gesticuling': 114.24897766113281, 'Reacting': 101.45943450927734, 'Talking': 128.21946716308594, 'Gaming': 121.30476379394531, 'Greeting': 133.2939453125}, 'LowerBody': {'All': 137.46078491210938, 'UpperStretching': 131.5324249267578, 'Walking': 143.76324462890625, 'LowerStretching': 165.94064331054688, 'Patting': 142.65895080566406, 'Gesticuling': 103.71286010742188, 'Reacting': 122.15837860107422, 'Talking': 98.0469741821289, 'Gaming': 123.9749755859375, 'Greeting': 115.55435943603516}}\n"
     ]
    },
    {
     "name": "stderr",
     "output_type": "stream",
     "text": [
      " 34%|███▎      | 1800/5352 [04:17<08:06,  7.31it/s]"
     ]
    },
    {
     "name": "stdout",
     "output_type": "stream",
     "text": [
      "{'FullBody': {'All': 128.8398895263672, 'UpperStretching': 129.2451934814453, 'Walking': 126.91857147216797, 'LowerStretching': 136.57916259765625, 'Patting': 130.93902587890625, 'Gesticuling': 109.10057067871094, 'Reacting': 111.6949234008789, 'Talking': 112.84922790527344, 'Gaming': 122.0607681274414, 'Greeting': 124.1578369140625}, 'UpperBody': {'All': 119.99183654785156, 'UpperStretching': 126.58924102783203, 'Walking': 110.04991149902344, 'LowerStretching': 107.13435363769531, 'Patting': 117.42240905761719, 'Gesticuling': 114.44184875488281, 'Reacting': 101.57691192626953, 'Talking': 127.55358123779297, 'Gaming': 121.19166564941406, 'Greeting': 133.7509765625}, 'LowerBody': {'All': 137.68795776367188, 'UpperStretching': 131.90115356445312, 'Walking': 143.7872314453125, 'LowerStretching': 166.02398681640625, 'Patting': 144.45565795898438, 'Gesticuling': 103.75928497314453, 'Reacting': 121.81295013427734, 'Talking': 98.14488220214844, 'Gaming': 122.92988586425781, 'Greeting': 114.5647201538086}}\n"
     ]
    },
    {
     "name": "stderr",
     "output_type": "stream",
     "text": [
      " 37%|███▋      | 2001/5352 [04:45<07:59,  6.99it/s]"
     ]
    },
    {
     "name": "stdout",
     "output_type": "stream",
     "text": [
      "{'FullBody': {'All': 128.86593627929688, 'UpperStretching': 129.23336791992188, 'Walking': 126.94351196289062, 'LowerStretching': 136.64541625976562, 'Patting': 131.0205841064453, 'Gesticuling': 109.31161499023438, 'Reacting': 111.82356262207031, 'Talking': 112.4090347290039, 'Gaming': 122.397705078125, 'Greeting': 124.42121124267578}, 'UpperBody': {'All': 120.00534057617188, 'UpperStretching': 126.55682373046875, 'Walking': 110.2000732421875, 'LowerStretching': 107.11209106445312, 'Patting': 117.50232696533203, 'Gesticuling': 114.5691909790039, 'Reacting': 102.30331420898438, 'Talking': 127.13434600830078, 'Gaming': 121.54093170166016, 'Greeting': 133.90435791015625}, 'LowerBody': {'All': 137.7265625, 'UpperStretching': 131.90994262695312, 'Walking': 143.6869659423828, 'LowerStretching': 166.1787567138672, 'Patting': 144.53884887695312, 'Gesticuling': 104.05404663085938, 'Reacting': 121.34381866455078, 'Talking': 97.68370819091797, 'Gaming': 123.2544937133789, 'Greeting': 114.93804931640625}}\n"
     ]
    },
    {
     "name": "stderr",
     "output_type": "stream",
     "text": [
      " 41%|████      | 2201/5352 [05:13<07:16,  7.22it/s]"
     ]
    },
    {
     "name": "stdout",
     "output_type": "stream",
     "text": [
      "{'FullBody': {'All': 129.02491760253906, 'UpperStretching': 129.37945556640625, 'Walking': 127.08110809326172, 'LowerStretching': 136.5981903076172, 'Patting': 132.35147094726562, 'Gesticuling': 109.69153594970703, 'Reacting': 112.33750915527344, 'Talking': 113.35223388671875, 'Gaming': 122.9140853881836, 'Greeting': 123.96381378173828}, 'UpperBody': {'All': 120.15282440185547, 'UpperStretching': 126.71012878417969, 'Walking': 110.47132873535156, 'LowerStretching': 107.04561614990234, 'Patting': 117.9749984741211, 'Gesticuling': 114.5306167602539, 'Reacting': 102.90242004394531, 'Talking': 127.60071563720703, 'Gaming': 122.1130599975586, 'Greeting': 133.0104522705078}, 'LowerBody': {'All': 137.8970489501953, 'UpperStretching': 132.0487823486328, 'Walking': 143.6908721923828, 'LowerStretching': 166.15078735351562, 'Patting': 146.7279815673828, 'Gesticuling': 104.85245513916016, 'Reacting': 121.77262115478516, 'Talking': 99.103759765625, 'Gaming': 123.71512603759766, 'Greeting': 114.91718292236328}}\n"
     ]
    },
    {
     "name": "stderr",
     "output_type": "stream",
     "text": [
      " 45%|████▍     | 2401/5352 [05:41<06:51,  7.16it/s]"
     ]
    },
    {
     "name": "stdout",
     "output_type": "stream",
     "text": [
      "{'FullBody': {'All': 129.09814453125, 'UpperStretching': 129.4895477294922, 'Walking': 127.07984161376953, 'LowerStretching': 136.595703125, 'Patting': 131.92953491210938, 'Gesticuling': 109.90523529052734, 'Reacting': 112.81867218017578, 'Talking': 113.6197509765625, 'Gaming': 122.88846588134766, 'Greeting': 123.53816986083984}, 'UpperBody': {'All': 120.2931137084961, 'UpperStretching': 126.903076171875, 'Walking': 110.55146026611328, 'LowerStretching': 107.11248016357422, 'Patting': 117.21392059326172, 'Gesticuling': 114.64210510253906, 'Reacting': 103.20884704589844, 'Talking': 127.69796752929688, 'Gaming': 121.93192291259766, 'Greeting': 132.49403381347656}, 'LowerBody': {'All': 137.90318298339844, 'UpperStretching': 132.07603454589844, 'Walking': 143.60821533203125, 'LowerStretching': 166.0789337158203, 'Patting': 146.64515686035156, 'Gesticuling': 105.1683578491211, 'Reacting': 122.42849731445312, 'Talking': 99.54153442382812, 'Gaming': 123.84500885009766, 'Greeting': 114.58231353759766}}\n"
     ]
    },
    {
     "name": "stderr",
     "output_type": "stream",
     "text": [
      " 49%|████▊     | 2601/5352 [06:09<06:39,  6.89it/s]"
     ]
    },
    {
     "name": "stdout",
     "output_type": "stream",
     "text": [
      "{'FullBody': {'All': 129.0308074951172, 'UpperStretching': 129.41033935546875, 'Walking': 126.96075439453125, 'LowerStretching': 136.56536865234375, 'Patting': 132.07522583007812, 'Gesticuling': 109.80804443359375, 'Reacting': 112.71651458740234, 'Talking': 113.35718536376953, 'Gaming': 122.84764862060547, 'Greeting': 124.04097747802734}, 'UpperBody': {'All': 120.27335357666016, 'UpperStretching': 126.91222381591797, 'Walking': 110.36397552490234, 'LowerStretching': 107.15432739257812, 'Patting': 117.01956176757812, 'Gesticuling': 114.67082977294922, 'Reacting': 103.50296783447266, 'Talking': 127.3204574584961, 'Gaming': 121.56082153320312, 'Greeting': 132.76438903808594}, 'LowerBody': {'All': 137.7882843017578, 'UpperStretching': 131.90846252441406, 'Walking': 143.55752563476562, 'LowerStretching': 165.9763946533203, 'Patting': 147.13088989257812, 'Gesticuling': 104.94525146484375, 'Reacting': 121.93006134033203, 'Talking': 99.39392852783203, 'Gaming': 124.13448333740234, 'Greeting': 115.31756591796875}}\n"
     ]
    },
    {
     "name": "stderr",
     "output_type": "stream",
     "text": [
      " 52%|█████▏    | 2801/5352 [06:37<05:55,  7.18it/s]"
     ]
    },
    {
     "name": "stdout",
     "output_type": "stream",
     "text": [
      "{'FullBody': {'All': 129.10386657714844, 'UpperStretching': 129.41065979003906, 'Walking': 127.12388610839844, 'LowerStretching': 136.79518127441406, 'Patting': 131.90042114257812, 'Gesticuling': 110.06829071044922, 'Reacting': 113.0125732421875, 'Talking': 113.419921875, 'Gaming': 122.77249908447266, 'Greeting': 124.02057647705078}, 'UpperBody': {'All': 120.28211212158203, 'UpperStretching': 126.94440460205078, 'Walking': 110.5318374633789, 'LowerStretching': 107.11630249023438, 'Patting': 116.65182495117188, 'Gesticuling': 115.01181030273438, 'Reacting': 103.62574768066406, 'Talking': 127.40399169921875, 'Gaming': 121.61126708984375, 'Greeting': 132.9113311767578}, 'LowerBody': {'All': 137.9256591796875, 'UpperStretching': 131.87692260742188, 'Walking': 143.71591186523438, 'LowerStretching': 166.4740447998047, 'Patting': 147.14903259277344, 'Gesticuling': 105.124755859375, 'Reacting': 122.3994140625, 'Talking': 99.43584442138672, 'Gaming': 123.93375396728516, 'Greeting': 115.12982940673828}}\n"
     ]
    },
    {
     "name": "stderr",
     "output_type": "stream",
     "text": [
      " 56%|█████▌    | 3000/5352 [07:05<05:30,  7.12it/s]"
     ]
    },
    {
     "name": "stdout",
     "output_type": "stream",
     "text": [
      "{'FullBody': {'All': 129.1166229248047, 'UpperStretching': 129.40147399902344, 'Walking': 127.20667266845703, 'LowerStretching': 136.76663208007812, 'Patting': 133.22933959960938, 'Gesticuling': 109.6969223022461, 'Reacting': 112.89688873291016, 'Talking': 113.47842407226562, 'Gaming': 122.7877426147461, 'Greeting': 124.17877197265625}, 'UpperBody': {'All': 120.33084106445312, 'UpperStretching': 126.95629119873047, 'Walking': 110.64700317382812, 'LowerStretching': 107.23767852783203, 'Patting': 117.21250915527344, 'Gesticuling': 114.57887268066406, 'Reacting': 103.61802673339844, 'Talking': 127.52648162841797, 'Gaming': 121.36576843261719, 'Greeting': 133.06268310546875}, 'LowerBody': {'All': 137.9024200439453, 'UpperStretching': 131.8466796875, 'Walking': 143.76632690429688, 'LowerStretching': 166.29556274414062, 'Patting': 149.24618530273438, 'Gesticuling': 104.81495666503906, 'Reacting': 122.17574310302734, 'Talking': 99.43037414550781, 'Gaming': 124.20970916748047, 'Greeting': 115.29486083984375}}\n"
     ]
    },
    {
     "name": "stderr",
     "output_type": "stream",
     "text": [
      " 60%|█████▉    | 3201/5352 [07:33<05:07,  7.00it/s]"
     ]
    },
    {
     "name": "stdout",
     "output_type": "stream",
     "text": [
      "{'FullBody': {'All': 129.12554931640625, 'UpperStretching': 129.34622192382812, 'Walking': 127.30791473388672, 'LowerStretching': 136.89280700683594, 'Patting': 132.93614196777344, 'Gesticuling': 109.8322525024414, 'Reacting': 112.88450622558594, 'Talking': 113.53238677978516, 'Gaming': 122.91069030761719, 'Greeting': 124.76822662353516}, 'UpperBody': {'All': 120.30674743652344, 'UpperStretching': 126.92357635498047, 'Walking': 110.66065979003906, 'LowerStretching': 107.33789825439453, 'Patting': 116.95012664794922, 'Gesticuling': 114.50996398925781, 'Reacting': 103.2864990234375, 'Talking': 127.2258071899414, 'Gaming': 121.5066909790039, 'Greeting': 133.3450164794922}, 'LowerBody': {'All': 137.94436645507812, 'UpperStretching': 131.7688751220703, 'Walking': 143.9551544189453, 'LowerStretching': 166.44773864746094, 'Patting': 148.92213439941406, 'Gesticuling': 105.15453338623047, 'Reacting': 122.48250579833984, 'Talking': 99.83895874023438, 'Gaming': 124.31470489501953, 'Greeting': 116.1914291381836}}\n"
     ]
    },
    {
     "name": "stderr",
     "output_type": "stream",
     "text": [
      " 64%|██████▎   | 3401/5352 [08:01<04:30,  7.20it/s]"
     ]
    },
    {
     "name": "stdout",
     "output_type": "stream",
     "text": [
      "{'FullBody': {'All': 129.13417053222656, 'UpperStretching': 129.35223388671875, 'Walking': 127.2875747680664, 'LowerStretching': 137.02284240722656, 'Patting': 132.30287170410156, 'Gesticuling': 109.64925384521484, 'Reacting': 112.87538146972656, 'Talking': 113.31388854980469, 'Gaming': 122.95629119873047, 'Greeting': 124.75563049316406}, 'UpperBody': {'All': 120.3078842163086, 'UpperStretching': 126.93804168701172, 'Walking': 110.67192840576172, 'LowerStretching': 107.32132720947266, 'Patting': 116.72637939453125, 'Gesticuling': 114.46416473388672, 'Reacting': 103.35070037841797, 'Talking': 127.13221740722656, 'Gaming': 121.91671752929688, 'Greeting': 134.01646423339844}, 'LowerBody': {'All': 137.96044921875, 'UpperStretching': 131.7664337158203, 'Walking': 143.9032440185547, 'LowerStretching': 166.72434997558594, 'Patting': 147.8793487548828, 'Gesticuling': 104.83433532714844, 'Reacting': 122.40006256103516, 'Talking': 99.49555969238281, 'Gaming': 123.99585723876953, 'Greeting': 115.49478912353516}}\n"
     ]
    },
    {
     "name": "stderr",
     "output_type": "stream",
     "text": [
      " 67%|██████▋   | 3600/5352 [08:29<04:18,  6.77it/s]"
     ]
    },
    {
     "name": "stdout",
     "output_type": "stream",
     "text": [
      "{'FullBody': {'All': 129.1785430908203, 'UpperStretching': 129.429931640625, 'Walking': 127.44654846191406, 'LowerStretching': 136.90530395507812, 'Patting': 132.5020294189453, 'Gesticuling': 109.67245483398438, 'Reacting': 112.69121551513672, 'Talking': 113.95240020751953, 'Gaming': 122.78825378417969, 'Greeting': 124.45394134521484}, 'UpperBody': {'All': 120.34088897705078, 'UpperStretching': 126.94857025146484, 'Walking': 110.78108978271484, 'LowerStretching': 107.3060531616211, 'Patting': 116.82426452636719, 'Gesticuling': 114.45489501953125, 'Reacting': 103.36531829833984, 'Talking': 127.69615173339844, 'Gaming': 122.09834289550781, 'Greeting': 134.20263671875}, 'LowerBody': {'All': 138.0162353515625, 'UpperStretching': 131.9113006591797, 'Walking': 144.11203002929688, 'LowerStretching': 166.50457763671875, 'Patting': 148.17979431152344, 'Gesticuling': 104.89002990722656, 'Reacting': 122.01710510253906, 'Talking': 100.20863342285156, 'Gaming': 123.47816467285156, 'Greeting': 114.70526885986328}}\n"
     ]
    },
    {
     "name": "stderr",
     "output_type": "stream",
     "text": [
      " 71%|███████   | 3801/5352 [08:57<03:46,  6.85it/s]"
     ]
    },
    {
     "name": "stdout",
     "output_type": "stream",
     "text": [
      "{'FullBody': {'All': 129.14857482910156, 'UpperStretching': 129.40829467773438, 'Walking': 127.50239562988281, 'LowerStretching': 136.80941772460938, 'Patting': 132.00047302246094, 'Gesticuling': 109.784912109375, 'Reacting': 112.61073303222656, 'Talking': 113.83087921142578, 'Gaming': 122.70092010498047, 'Greeting': 124.12202453613281}, 'UpperBody': {'All': 120.31307220458984, 'UpperStretching': 126.90078735351562, 'Walking': 110.8437271118164, 'LowerStretching': 107.29853820800781, 'Patting': 116.30174255371094, 'Gesticuling': 114.7881088256836, 'Reacting': 103.23233032226562, 'Talking': 127.43759155273438, 'Gaming': 122.0350112915039, 'Greeting': 134.2703857421875}, 'LowerBody': {'All': 137.98410034179688, 'UpperStretching': 131.91583251953125, 'Walking': 144.16107177734375, 'LowerStretching': 166.32029724121094, 'Patting': 147.69921875, 'Gesticuling': 104.7817153930664, 'Reacting': 121.9891357421875, 'Talking': 100.22415924072266, 'Gaming': 123.36683654785156, 'Greeting': 113.97368621826172}}\n"
     ]
    },
    {
     "name": "stderr",
     "output_type": "stream",
     "text": [
      " 75%|███████▍  | 4001/5352 [09:26<03:13,  6.97it/s]"
     ]
    },
    {
     "name": "stdout",
     "output_type": "stream",
     "text": [
      "{'FullBody': {'All': 129.22882080078125, 'UpperStretching': 129.45372009277344, 'Walking': 127.56187438964844, 'LowerStretching': 136.92079162597656, 'Patting': 132.85980224609375, 'Gesticuling': 109.64286041259766, 'Reacting': 112.74241638183594, 'Talking': 114.07452392578125, 'Gaming': 122.82526397705078, 'Greeting': 124.1168212890625}, 'UpperBody': {'All': 120.34241485595703, 'UpperStretching': 126.91204833984375, 'Walking': 110.81843566894531, 'LowerStretching': 107.40818786621094, 'Patting': 117.01181030273438, 'Gesticuling': 114.53823852539062, 'Reacting': 103.25904846191406, 'Talking': 127.53813171386719, 'Gaming': 122.09397888183594, 'Greeting': 134.0064239501953}, 'LowerBody': {'All': 138.11524963378906, 'UpperStretching': 131.9954071044922, 'Walking': 144.30531311035156, 'LowerStretching': 166.43341064453125, 'Patting': 148.70774841308594, 'Gesticuling': 104.74748992919922, 'Reacting': 122.22578430175781, 'Talking': 100.61090087890625, 'Gaming': 123.5565414428711, 'Greeting': 114.22721862792969}}\n"
     ]
    },
    {
     "name": "stderr",
     "output_type": "stream",
     "text": [
      " 78%|███████▊  | 4201/5352 [09:54<02:45,  6.97it/s]"
     ]
    },
    {
     "name": "stdout",
     "output_type": "stream",
     "text": [
      "{'FullBody': {'All': 129.17752075195312, 'UpperStretching': 129.45355224609375, 'Walking': 127.44730377197266, 'LowerStretching': 136.80215454101562, 'Patting': 132.9164581298828, 'Gesticuling': 109.59449005126953, 'Reacting': 112.63238525390625, 'Talking': 113.87823486328125, 'Gaming': 122.77010345458984, 'Greeting': 124.0565185546875}, 'UpperBody': {'All': 120.33840942382812, 'UpperStretching': 126.95552062988281, 'Walking': 110.80780029296875, 'LowerStretching': 107.32119750976562, 'Patting': 117.13275909423828, 'Gesticuling': 114.36479187011719, 'Reacting': 103.17113494873047, 'Talking': 126.98016357421875, 'Gaming': 121.98802947998047, 'Greeting': 133.82772827148438}, 'LowerBody': {'All': 138.0166473388672, 'UpperStretching': 131.95159912109375, 'Walking': 144.08682250976562, 'LowerStretching': 166.28314208984375, 'Patting': 148.70013427734375, 'Gesticuling': 104.82417297363281, 'Reacting': 122.0936279296875, 'Talking': 100.77629089355469, 'Gaming': 123.55216979980469, 'Greeting': 114.28531646728516}}\n"
     ]
    },
    {
     "name": "stderr",
     "output_type": "stream",
     "text": [
      " 82%|████████▏ | 4401/5352 [10:22<02:21,  6.73it/s]"
     ]
    },
    {
     "name": "stdout",
     "output_type": "stream",
     "text": [
      "{'FullBody': {'All': 129.18052673339844, 'UpperStretching': 129.46676635742188, 'Walking': 127.58332061767578, 'LowerStretching': 136.75619506835938, 'Patting': 132.49771118164062, 'Gesticuling': 109.65804290771484, 'Reacting': 112.57740783691406, 'Talking': 113.80998229980469, 'Gaming': 122.70674133300781, 'Greeting': 123.75450897216797}, 'UpperBody': {'All': 120.3431396484375, 'UpperStretching': 126.96424865722656, 'Walking': 110.9273910522461, 'LowerStretching': 107.26276397705078, 'Patting': 117.07141876220703, 'Gesticuling': 114.42671966552734, 'Reacting': 103.28913879394531, 'Talking': 126.8146743774414, 'Gaming': 122.00836181640625, 'Greeting': 133.60874938964844}, 'LowerBody': {'All': 138.0179443359375, 'UpperStretching': 131.96929931640625, 'Walking': 144.2392578125, 'LowerStretching': 166.2496337890625, 'Patting': 147.9239959716797, 'Gesticuling': 104.88935089111328, 'Reacting': 121.86566925048828, 'Talking': 100.80529022216797, 'Gaming': 123.40509033203125, 'Greeting': 113.90026092529297}}\n"
     ]
    },
    {
     "name": "stderr",
     "output_type": "stream",
     "text": [
      " 86%|████████▌ | 4601/5352 [10:50<01:49,  6.85it/s]"
     ]
    },
    {
     "name": "stdout",
     "output_type": "stream",
     "text": [
      "{'FullBody': {'All': 129.15504455566406, 'UpperStretching': 129.4491424560547, 'Walking': 127.7283935546875, 'LowerStretching': 136.6498565673828, 'Patting': 132.42576599121094, 'Gesticuling': 109.71926879882812, 'Reacting': 112.48939514160156, 'Talking': 113.76356506347656, 'Gaming': 122.77870178222656, 'Greeting': 123.57966613769531}, 'UpperBody': {'All': 120.31185150146484, 'UpperStretching': 126.9186782836914, 'Walking': 111.00749969482422, 'LowerStretching': 107.20055389404297, 'Patting': 116.88733673095703, 'Gesticuling': 114.42909240722656, 'Reacting': 103.2297134399414, 'Talking': 126.84113311767578, 'Gaming': 122.11739349365234, 'Greeting': 133.59034729003906}, 'LowerBody': {'All': 137.99827575683594, 'UpperStretching': 131.97959899902344, 'Walking': 144.44927978515625, 'LowerStretching': 166.09915161132812, 'Patting': 147.96420288085938, 'Gesticuling': 105.00945281982422, 'Reacting': 121.74909210205078, 'Talking': 100.6860122680664, 'Gaming': 123.43997955322266, 'Greeting': 113.56898498535156}}\n"
     ]
    },
    {
     "name": "stderr",
     "output_type": "stream",
     "text": [
      " 90%|████████▉ | 4800/5352 [11:18<01:23,  6.61it/s]"
     ]
    },
    {
     "name": "stdout",
     "output_type": "stream",
     "text": [
      "{'FullBody': {'All': 129.1556396484375, 'UpperStretching': 129.3905792236328, 'Walking': 127.7699966430664, 'LowerStretching': 136.75503540039062, 'Patting': 132.67562866210938, 'Gesticuling': 109.65392303466797, 'Reacting': 112.5126953125, 'Talking': 113.75074768066406, 'Gaming': 122.88411712646484, 'Greeting': 123.62016296386719}, 'UpperBody': {'All': 120.32575225830078, 'UpperStretching': 126.9255142211914, 'Walking': 111.02023315429688, 'LowerStretching': 107.24368286132812, 'Patting': 117.11322021484375, 'Gesticuling': 114.38105773925781, 'Reacting': 103.35820770263672, 'Talking': 126.8177719116211, 'Gaming': 122.05729675292969, 'Greeting': 133.5989990234375}, 'LowerBody': {'All': 137.9855499267578, 'UpperStretching': 131.85565185546875, 'Walking': 144.51976013183594, 'LowerStretching': 166.26638793945312, 'Patting': 148.23800659179688, 'Gesticuling': 104.92678833007812, 'Reacting': 121.66718292236328, 'Talking': 100.68372344970703, 'Gaming': 123.71092987060547, 'Greeting': 113.64129638671875}}\n"
     ]
    },
    {
     "name": "stderr",
     "output_type": "stream",
     "text": [
      " 93%|█████████▎| 5001/5352 [11:46<00:52,  6.69it/s]"
     ]
    },
    {
     "name": "stdout",
     "output_type": "stream",
     "text": [
      "{'FullBody': {'All': 129.11668395996094, 'UpperStretching': 129.35133361816406, 'Walking': 127.69548034667969, 'LowerStretching': 136.7001495361328, 'Patting': 132.48609924316406, 'Gesticuling': 109.7736587524414, 'Reacting': 112.44180297851562, 'Talking': 113.75688171386719, 'Gaming': 122.90415954589844, 'Greeting': 123.8598403930664}, 'UpperBody': {'All': 120.2706527709961, 'UpperStretching': 126.90624237060547, 'Walking': 110.9286117553711, 'LowerStretching': 107.22136688232422, 'Patting': 116.81570434570312, 'Gesticuling': 114.30239868164062, 'Reacting': 103.13311767578125, 'Talking': 126.55885314941406, 'Gaming': 121.88167572021484, 'Greeting': 133.2763214111328}, 'LowerBody': {'All': 137.96275329589844, 'UpperStretching': 131.79644775390625, 'Walking': 144.46237182617188, 'LowerStretching': 166.17893981933594, 'Patting': 148.15650939941406, 'Gesticuling': 105.24491882324219, 'Reacting': 121.75050354003906, 'Talking': 100.95491790771484, 'Gaming': 123.92662811279297, 'Greeting': 114.4433364868164}}\n"
     ]
    },
    {
     "name": "stderr",
     "output_type": "stream",
     "text": [
      " 97%|█████████▋| 5201/5352 [12:15<00:22,  6.80it/s]"
     ]
    },
    {
     "name": "stdout",
     "output_type": "stream",
     "text": [
      "{'FullBody': {'All': 129.16896057128906, 'UpperStretching': 129.38563537597656, 'Walking': 127.81993103027344, 'LowerStretching': 136.7917022705078, 'Patting': 132.13766479492188, 'Gesticuling': 109.81688690185547, 'Reacting': 112.74978637695312, 'Talking': 113.48526000976562, 'Gaming': 122.84210968017578, 'Greeting': 123.93921661376953}, 'UpperBody': {'All': 120.32002258300781, 'UpperStretching': 126.93064880371094, 'Walking': 111.0128402709961, 'LowerStretching': 107.33112335205078, 'Patting': 116.63908386230469, 'Gesticuling': 114.43669891357422, 'Reacting': 103.37244415283203, 'Talking': 126.24314880371094, 'Gaming': 121.79779815673828, 'Greeting': 133.26089477539062}, 'LowerBody': {'All': 138.01792907714844, 'UpperStretching': 131.84060668945312, 'Walking': 144.62704467773438, 'LowerStretching': 166.2523193359375, 'Patting': 147.63624572753906, 'Gesticuling': 105.19707489013672, 'Reacting': 122.12710571289062, 'Talking': 100.72738647460938, 'Gaming': 123.88643646240234, 'Greeting': 114.61753845214844}}\n"
     ]
    },
    {
     "name": "stderr",
     "output_type": "stream",
     "text": [
      "100%|██████████| 5352/5352 [12:36<00:00,  7.08it/s]\n",
      "\u001b[94m08:21:07 \u001b[92m[INFO]\u001b[94m Main\u001b[0m: Saving evaluation results...\n",
      "\u001b[94m08:21:07 \u001b[92m[INFO]\u001b[94m Main\u001b[0m: Done.\n",
      "\u001b[94m08:21:08 \u001b[92m[INFO]\u001b[94m Main\u001b[0m: Starting demo...\n",
      "  0%|          | 0/5352 [00:00<?, ?it/s]/opt/conda/lib/python3.10/site-packages/torchvision/transforms/transforms.py:329: UserWarning: Argument 'interpolation' of type int is deprecated since 0.13 and will be removed in 0.15. Please use InterpolationMode enum.\n",
      "  warnings.warn(\n",
      "/opt/conda/lib/python3.10/site-packages/torchvision/transforms/transforms.py:329: UserWarning: Argument 'interpolation' of type int is deprecated since 0.13 and will be removed in 0.15. Please use InterpolationMode enum.\n",
      "  warnings.warn(\n",
      "/opt/conda/lib/python3.10/site-packages/torchvision/transforms/transforms.py:329: UserWarning: Argument 'interpolation' of type int is deprecated since 0.13 and will be removed in 0.15. Please use InterpolationMode enum.\n",
      "  warnings.warn(\n",
      "/opt/conda/lib/python3.10/site-packages/torchvision/transforms/transforms.py:329: UserWarning: Argument 'interpolation' of type int is deprecated since 0.13 and will be removed in 0.15. Please use InterpolationMode enum.\n",
      "  warnings.warn(\n",
      "/opt/conda/lib/python3.10/site-packages/torchvision/transforms/transforms.py:329: UserWarning: Argument 'interpolation' of type int is deprecated since 0.13 and will be removed in 0.15. Please use InterpolationMode enum.\n",
      "  warnings.warn(\n",
      "/opt/conda/lib/python3.10/site-packages/torchvision/transforms/transforms.py:329: UserWarning: Argument 'interpolation' of type int is deprecated since 0.13 and will be removed in 0.15. Please use InterpolationMode enum.\n",
      "  warnings.warn(\n",
      "/opt/conda/lib/python3.10/site-packages/torchvision/transforms/transforms.py:329: UserWarning: Argument 'interpolation' of type int is deprecated since 0.13 and will be removed in 0.15. Please use InterpolationMode enum.\n",
      "  warnings.warn(\n",
      "/opt/conda/lib/python3.10/site-packages/torchvision/transforms/transforms.py:329: UserWarning: Argument 'interpolation' of type int is deprecated since 0.13 and will be removed in 0.15. Please use InterpolationMode enum.\n",
      "  warnings.warn(\n",
      "/opt/conda/lib/python3.10/site-packages/torchvision/transforms/transforms.py:329: UserWarning: Argument 'interpolation' of type int is deprecated since 0.13 and will be removed in 0.15. Please use InterpolationMode enum.\n",
      "  warnings.warn(\n",
      "/opt/conda/lib/python3.10/site-packages/torchvision/transforms/transforms.py:329: UserWarning: Argument 'interpolation' of type int is deprecated since 0.13 and will be removed in 0.15. Please use InterpolationMode enum.\n",
      "  warnings.warn(\n",
      "/opt/conda/lib/python3.10/site-packages/torchvision/transforms/transforms.py:329: UserWarning: Argument 'interpolation' of type int is deprecated since 0.13 and will be removed in 0.15. Please use InterpolationMode enum.\n",
      "  warnings.warn(\n",
      "/opt/conda/lib/python3.10/site-packages/torchvision/transforms/transforms.py:329: UserWarning: Argument 'interpolation' of type int is deprecated since 0.13 and will be removed in 0.15. Please use InterpolationMode enum.\n",
      "  warnings.warn(\n",
      "/opt/conda/lib/python3.10/site-packages/torchvision/transforms/transforms.py:329: UserWarning: Argument 'interpolation' of type int is deprecated since 0.13 and will be removed in 0.15. Please use InterpolationMode enum.\n",
      "  warnings.warn(\n",
      "/opt/conda/lib/python3.10/site-packages/torchvision/transforms/transforms.py:329: UserWarning: Argument 'interpolation' of type int is deprecated since 0.13 and will be removed in 0.15. Please use InterpolationMode enum.\n",
      "  warnings.warn(\n",
      "/opt/conda/lib/python3.10/site-packages/torchvision/transforms/transforms.py:329: UserWarning: Argument 'interpolation' of type int is deprecated since 0.13 and will be removed in 0.15. Please use InterpolationMode enum.\n",
      "  warnings.warn(\n",
      "/opt/conda/lib/python3.10/site-packages/torchvision/transforms/transforms.py:329: UserWarning: Argument 'interpolation' of type int is deprecated since 0.13 and will be removed in 0.15. Please use InterpolationMode enum.\n",
      "  warnings.warn(\n",
      "/opt/conda/lib/python3.10/site-packages/torchvision/transforms/transforms.py:329: UserWarning: Argument 'interpolation' of type int is deprecated since 0.13 and will be removed in 0.15. Please use InterpolationMode enum.\n",
      "  warnings.warn(\n",
      "/opt/conda/lib/python3.10/site-packages/torchvision/transforms/transforms.py:329: UserWarning: Argument 'interpolation' of type int is deprecated since 0.13 and will be removed in 0.15. Please use InterpolationMode enum.\n",
      "  warnings.warn(\n",
      "/opt/conda/lib/python3.10/site-packages/torchvision/transforms/transforms.py:329: UserWarning: Argument 'interpolation' of type int is deprecated since 0.13 and will be removed in 0.15. Please use InterpolationMode enum.\n",
      "  warnings.warn(\n",
      "/opt/conda/lib/python3.10/site-packages/torchvision/transforms/transforms.py:329: UserWarning: Argument 'interpolation' of type int is deprecated since 0.13 and will be removed in 0.15. Please use InterpolationMode enum.\n",
      "  warnings.warn(\n",
      "/opt/conda/lib/python3.10/site-packages/torchvision/transforms/transforms.py:329: UserWarning: Argument 'interpolation' of type int is deprecated since 0.13 and will be removed in 0.15. Please use InterpolationMode enum.\n",
      "  warnings.warn(\n",
      "/opt/conda/lib/python3.10/site-packages/torchvision/transforms/transforms.py:329: UserWarning: Argument 'interpolation' of type int is deprecated since 0.13 and will be removed in 0.15. Please use InterpolationMode enum.\n",
      "  warnings.warn(\n",
      "/opt/conda/lib/python3.10/site-packages/torchvision/transforms/transforms.py:329: UserWarning: Argument 'interpolation' of type int is deprecated since 0.13 and will be removed in 0.15. Please use InterpolationMode enum.\n",
      "  warnings.warn(\n",
      "/opt/conda/lib/python3.10/site-packages/torchvision/transforms/transforms.py:329: UserWarning: Argument 'interpolation' of type int is deprecated since 0.13 and will be removed in 0.15. Please use InterpolationMode enum.\n",
      "  warnings.warn(\n",
      "  4%|▍         | 201/5352 [00:34<11:34,  7.42it/s]"
     ]
    },
    {
     "name": "stdout",
     "output_type": "stream",
     "text": [
      "{'FullBody': {'All': 114.82777404785156, 'UpperStretching': 117.70391845703125, 'Walking': 114.81204223632812, 'Gesticuling': 83.02256774902344, 'LowerStretching': 119.36361694335938, 'Reacting': 91.0653076171875, 'Patting': 119.55535125732422, 'Talking': 80.3609848022461, 'Gaming': 104.62894439697266, 'Greeting': 93.85295104980469}, 'UpperBody': {'All': 92.18637084960938, 'UpperStretching': 101.42359924316406, 'Walking': 84.84715270996094, 'Gesticuling': 74.04084777832031, 'LowerStretching': 77.489501953125, 'Reacting': 73.58360290527344, 'Patting': 87.47010040283203, 'Talking': 69.51179504394531, 'Gaming': 75.88862609863281, 'Greeting': 77.5727767944336}, 'LowerBody': {'All': 137.46917724609375, 'UpperStretching': 133.98423767089844, 'Walking': 144.7769012451172, 'Gesticuling': 92.0042953491211, 'LowerStretching': 161.23776245117188, 'Reacting': 108.54704284667969, 'Patting': 151.64060974121094, 'Talking': 91.21019744873047, 'Gaming': 133.3692626953125, 'Greeting': 110.13312530517578}}\n"
     ]
    },
    {
     "name": "stderr",
     "output_type": "stream",
     "text": [
      "  7%|▋         | 401/5352 [01:02<11:04,  7.45it/s]"
     ]
    },
    {
     "name": "stdout",
     "output_type": "stream",
     "text": [
      "{'FullBody': {'All': 115.73434448242188, 'UpperStretching': 118.3197021484375, 'Walking': 116.29267883300781, 'Gesticuling': 83.87435150146484, 'LowerStretching': 120.92024230957031, 'Reacting': 91.25398254394531, 'Patting': 119.15645599365234, 'Talking': 82.53438568115234, 'Gaming': 107.61456298828125, 'Greeting': 89.99712371826172}, 'UpperBody': {'All': 92.43852233886719, 'UpperStretching': 101.85765075683594, 'Walking': 85.97090911865234, 'Gesticuling': 72.9517822265625, 'LowerStretching': 77.46873474121094, 'Reacting': 73.18831634521484, 'Patting': 90.56903076171875, 'Talking': 71.7264175415039, 'Gaming': 78.93014526367188, 'Greeting': 73.6574935913086}, 'LowerBody': {'All': 139.03016662597656, 'UpperStretching': 134.78176879882812, 'Walking': 146.6144561767578, 'Gesticuling': 94.79692077636719, 'LowerStretching': 164.37176513671875, 'Reacting': 109.31967163085938, 'Patting': 147.74388122558594, 'Talking': 93.34232330322266, 'Gaming': 136.2990264892578, 'Greeting': 106.33676147460938}}\n"
     ]
    },
    {
     "name": "stderr",
     "output_type": "stream",
     "text": [
      " 11%|█         | 601/5352 [01:30<12:32,  6.31it/s]"
     ]
    },
    {
     "name": "stdout",
     "output_type": "stream",
     "text": [
      "{'FullBody': {'All': 115.97299194335938, 'UpperStretching': 118.38763427734375, 'Walking': 116.77718353271484, 'Gesticuling': 84.48970031738281, 'LowerStretching': 121.02787017822266, 'Reacting': 91.36571502685547, 'Patting': 120.26713562011719, 'Talking': 82.24481201171875, 'Gaming': 105.50667572021484, 'Greeting': 89.52942657470703}, 'UpperBody': {'All': 92.63432312011719, 'UpperStretching': 101.90879821777344, 'Walking': 86.47467803955078, 'Gesticuling': 73.3684310913086, 'LowerStretching': 77.30296325683594, 'Reacting': 73.29015350341797, 'Patting': 91.74359893798828, 'Talking': 72.24702453613281, 'Gaming': 77.18306732177734, 'Greeting': 72.64486694335938}, 'LowerBody': {'All': 139.3116912841797, 'UpperStretching': 134.866455078125, 'Walking': 147.07969665527344, 'Gesticuling': 95.61094665527344, 'LowerStretching': 164.7528076171875, 'Reacting': 109.4412841796875, 'Patting': 148.79067993164062, 'Talking': 92.24260711669922, 'Gaming': 133.83026123046875, 'Greeting': 106.41399383544922}}\n"
     ]
    },
    {
     "name": "stderr",
     "output_type": "stream",
     "text": [
      " 15%|█▍        | 801/5352 [01:58<10:47,  7.03it/s]"
     ]
    },
    {
     "name": "stdout",
     "output_type": "stream",
     "text": [
      "{'FullBody': {'All': 116.0610122680664, 'UpperStretching': 118.46282958984375, 'Walking': 116.49421691894531, 'Gesticuling': 84.56425476074219, 'LowerStretching': 120.94896697998047, 'Reacting': 91.89471435546875, 'Patting': 121.64727783203125, 'Talking': 83.17633819580078, 'Gaming': 104.38127899169922, 'Greeting': 91.0661392211914}, 'UpperBody': {'All': 92.72422790527344, 'UpperStretching': 101.90142822265625, 'Walking': 86.65255737304688, 'Gesticuling': 74.6120834350586, 'LowerStretching': 76.99512481689453, 'Reacting': 74.06194305419922, 'Patting': 90.31685638427734, 'Talking': 72.68508911132812, 'Gaming': 76.71280670166016, 'Greeting': 74.4816665649414}, 'LowerBody': {'All': 139.3978271484375, 'UpperStretching': 135.0242156982422, 'Walking': 146.33587646484375, 'Gesticuling': 94.51640319824219, 'LowerStretching': 164.90280151367188, 'Reacting': 109.72749328613281, 'Patting': 152.9777069091797, 'Talking': 93.6676025390625, 'Gaming': 132.0497283935547, 'Greeting': 107.65059661865234}}\n"
     ]
    },
    {
     "name": "stderr",
     "output_type": "stream",
     "text": [
      " 19%|█▊        | 1001/5352 [02:26<09:40,  7.50it/s]"
     ]
    },
    {
     "name": "stdout",
     "output_type": "stream",
     "text": [
      "{'FullBody': {'All': 116.1235122680664, 'UpperStretching': 118.40164947509766, 'Walking': 116.2882080078125, 'Gesticuling': 83.83402252197266, 'LowerStretching': 121.5947494506836, 'Reacting': 92.4039077758789, 'Patting': 121.1009292602539, 'Talking': 83.12080383300781, 'Gaming': 103.3765640258789, 'Greeting': 91.24607849121094}, 'UpperBody': {'All': 92.72110748291016, 'UpperStretching': 101.67095184326172, 'Walking': 86.74507141113281, 'Gesticuling': 74.34495544433594, 'LowerStretching': 77.34663391113281, 'Reacting': 74.67945861816406, 'Patting': 90.25017547607422, 'Talking': 72.60254669189453, 'Gaming': 75.49375915527344, 'Greeting': 73.50882720947266}, 'LowerBody': {'All': 139.52590942382812, 'UpperStretching': 135.13233947753906, 'Walking': 145.83132934570312, 'Gesticuling': 93.3230972290039, 'LowerStretching': 165.84286499023438, 'Reacting': 110.12837219238281, 'Patting': 151.95166015625, 'Talking': 93.63906860351562, 'Gaming': 131.25936889648438, 'Greeting': 108.98331451416016}}\n"
     ]
    },
    {
     "name": "stderr",
     "output_type": "stream",
     "text": [
      " 22%|██▏       | 1200/5352 [02:54<09:41,  7.14it/s]"
     ]
    },
    {
     "name": "stdout",
     "output_type": "stream",
     "text": [
      "{'FullBody': {'All': 116.10530090332031, 'UpperStretching': 118.33973693847656, 'Walking': 116.40131378173828, 'Gesticuling': 84.19319915771484, 'LowerStretching': 121.66478729248047, 'Reacting': 93.06006622314453, 'Patting': 118.95381164550781, 'Talking': 83.07183837890625, 'Gaming': 102.5078125, 'Greeting': 91.91831970214844}, 'UpperBody': {'All': 92.56793975830078, 'UpperStretching': 101.3607177734375, 'Walking': 86.65312957763672, 'Gesticuling': 75.49880981445312, 'LowerStretching': 77.34398651123047, 'Reacting': 75.19947814941406, 'Patting': 88.60982513427734, 'Talking': 73.10981750488281, 'Gaming': 75.58417510986328, 'Greeting': 73.84563446044922}, 'LowerBody': {'All': 139.6426544189453, 'UpperStretching': 135.3187713623047, 'Walking': 146.1494598388672, 'Gesticuling': 92.88758850097656, 'LowerStretching': 165.98558044433594, 'Reacting': 110.920654296875, 'Patting': 149.2978057861328, 'Talking': 93.03386688232422, 'Gaming': 129.4314422607422, 'Greeting': 109.9909896850586}}\n"
     ]
    },
    {
     "name": "stderr",
     "output_type": "stream",
     "text": [
      " 26%|██▌       | 1401/5352 [03:23<09:10,  7.18it/s]"
     ]
    },
    {
     "name": "stdout",
     "output_type": "stream",
     "text": [
      "{'FullBody': {'All': 116.15515899658203, 'UpperStretching': 118.34199523925781, 'Walking': 116.48711395263672, 'Gesticuling': 84.10432434082031, 'LowerStretching': 121.57353210449219, 'Reacting': 94.62663269042969, 'Patting': 121.64714813232422, 'Talking': 83.0909194946289, 'Gaming': 102.2671890258789, 'Greeting': 90.93488311767578}, 'UpperBody': {'All': 92.52915954589844, 'UpperStretching': 101.22769927978516, 'Walking': 86.83926391601562, 'Gesticuling': 75.21471405029297, 'LowerStretching': 77.26699829101562, 'Reacting': 76.14451599121094, 'Patting': 88.85099792480469, 'Talking': 73.55628967285156, 'Gaming': 74.68891906738281, 'Greeting': 73.31314086914062}, 'LowerBody': {'All': 139.78114318847656, 'UpperStretching': 135.45631408691406, 'Walking': 146.13494873046875, 'Gesticuling': 92.9939193725586, 'LowerStretching': 165.8800811767578, 'Reacting': 113.10874938964844, 'Patting': 154.44329833984375, 'Talking': 92.62554931640625, 'Gaming': 129.845458984375, 'Greeting': 108.5566177368164}}\n"
     ]
    },
    {
     "name": "stderr",
     "output_type": "stream",
     "text": [
      " 30%|██▉       | 1601/5352 [03:51<08:36,  7.27it/s]"
     ]
    },
    {
     "name": "stdout",
     "output_type": "stream",
     "text": [
      "{'FullBody': {'All': 116.23628997802734, 'UpperStretching': 118.35779571533203, 'Walking': 116.65866088867188, 'Gesticuling': 84.32784271240234, 'LowerStretching': 121.78289031982422, 'Reacting': 95.07759857177734, 'Patting': 120.34561157226562, 'Talking': 82.95560455322266, 'Gaming': 102.1164779663086, 'Greeting': 90.45360565185547}, 'UpperBody': {'All': 92.61422729492188, 'UpperStretching': 101.26958465576172, 'Walking': 86.92901611328125, 'Gesticuling': 75.86376190185547, 'LowerStretching': 77.30738067626953, 'Reacting': 76.70263671875, 'Patting': 88.22334289550781, 'Talking': 73.99324798583984, 'Gaming': 74.81474304199219, 'Greeting': 73.03533172607422}, 'LowerBody': {'All': 139.85836791992188, 'UpperStretching': 135.44601440429688, 'Walking': 146.38829040527344, 'Gesticuling': 92.79192352294922, 'LowerStretching': 166.25839233398438, 'Reacting': 113.45258331298828, 'Patting': 152.4678955078125, 'Talking': 91.91796875, 'Gaming': 129.418212890625, 'Greeting': 107.87187194824219}}\n"
     ]
    },
    {
     "name": "stderr",
     "output_type": "stream",
     "text": [
      " 34%|███▎      | 1800/5352 [04:18<08:06,  7.30it/s]"
     ]
    },
    {
     "name": "stdout",
     "output_type": "stream",
     "text": [
      "{'FullBody': {'All': 116.19334411621094, 'UpperStretching': 118.4763412475586, 'Walking': 116.6364974975586, 'Gesticuling': 84.28868103027344, 'LowerStretching': 121.39373016357422, 'Reacting': 95.2185287475586, 'Patting': 118.41600036621094, 'Talking': 82.66861724853516, 'Gaming': 102.32337188720703, 'Greeting': 90.44581604003906}, 'UpperBody': {'All': 92.62904357910156, 'UpperStretching': 101.3016357421875, 'Walking': 86.95188903808594, 'Gesticuling': 76.11241149902344, 'LowerStretching': 77.30622863769531, 'Reacting': 76.45492553710938, 'Patting': 86.66732025146484, 'Talking': 73.48075103759766, 'Gaming': 75.67489624023438, 'Greeting': 72.90532684326172}, 'LowerBody': {'All': 139.75765991210938, 'UpperStretching': 135.65106201171875, 'Walking': 146.3210906982422, 'Gesticuling': 92.4649658203125, 'LowerStretching': 165.4812469482422, 'Reacting': 113.98213195800781, 'Patting': 150.16470336914062, 'Talking': 91.85647583007812, 'Gaming': 128.97186279296875, 'Greeting': 107.98631286621094}}\n"
     ]
    },
    {
     "name": "stderr",
     "output_type": "stream",
     "text": [
      " 37%|███▋      | 2001/5352 [04:47<07:47,  7.16it/s]"
     ]
    },
    {
     "name": "stdout",
     "output_type": "stream",
     "text": [
      "{'FullBody': {'All': 116.14461517333984, 'UpperStretching': 118.5228271484375, 'Walking': 116.42617797851562, 'Gesticuling': 84.18590545654297, 'LowerStretching': 121.1740493774414, 'Reacting': 95.22323608398438, 'Patting': 118.29668426513672, 'Talking': 82.48321533203125, 'Gaming': 102.93251037597656, 'Greeting': 90.57035064697266}, 'UpperBody': {'All': 92.54923248291016, 'UpperStretching': 101.2770767211914, 'Walking': 86.79525756835938, 'Gesticuling': 76.16281127929688, 'LowerStretching': 77.21363830566406, 'Reacting': 76.42289733886719, 'Patting': 86.23418426513672, 'Talking': 72.94788360595703, 'Gaming': 76.00574493408203, 'Greeting': 72.75288391113281}, 'LowerBody': {'All': 139.74002075195312, 'UpperStretching': 135.7686004638672, 'Walking': 146.05709838867188, 'Gesticuling': 92.2090072631836, 'LowerStretching': 165.1344757080078, 'Reacting': 114.0235595703125, 'Patting': 150.3591766357422, 'Talking': 92.01853942871094, 'Gaming': 129.85928344726562, 'Greeting': 108.38780975341797}}\n"
     ]
    },
    {
     "name": "stderr",
     "output_type": "stream",
     "text": [
      " 41%|████      | 2201/5352 [05:15<07:18,  7.18it/s]"
     ]
    },
    {
     "name": "stdout",
     "output_type": "stream",
     "text": [
      "{'FullBody': {'All': 116.12700653076172, 'UpperStretching': 118.55194854736328, 'Walking': 116.4219741821289, 'Gesticuling': 83.90226745605469, 'LowerStretching': 121.14859008789062, 'Reacting': 94.94806671142578, 'Patting': 117.75630187988281, 'Talking': 82.54615783691406, 'Gaming': 102.84005737304688, 'Greeting': 90.06036376953125}, 'UpperBody': {'All': 92.46937561035156, 'UpperStretching': 101.23060607910156, 'Walking': 86.81568908691406, 'Gesticuling': 75.66340637207031, 'LowerStretching': 77.20372009277344, 'Reacting': 76.09123992919922, 'Patting': 85.76103210449219, 'Talking': 72.91983795166016, 'Gaming': 75.63471984863281, 'Greeting': 72.26335144042969}, 'LowerBody': {'All': 139.78463745117188, 'UpperStretching': 135.87332153320312, 'Walking': 146.0282745361328, 'Gesticuling': 92.14112091064453, 'LowerStretching': 165.09344482421875, 'Reacting': 113.80490112304688, 'Patting': 149.75160217285156, 'Talking': 92.17247009277344, 'Gaming': 130.04539489746094, 'Greeting': 107.85736083984375}}\n"
     ]
    },
    {
     "name": "stderr",
     "output_type": "stream",
     "text": [
      " 45%|████▍     | 2401/5352 [05:43<08:03,  6.11it/s]"
     ]
    },
    {
     "name": "stdout",
     "output_type": "stream",
     "text": [
      "{'FullBody': {'All': 116.06986999511719, 'UpperStretching': 118.4400405883789, 'Walking': 116.68231201171875, 'Gesticuling': 83.57404327392578, 'LowerStretching': 121.1953353881836, 'Reacting': 95.43745422363281, 'Patting': 116.87358093261719, 'Talking': 82.78407287597656, 'Gaming': 102.16896057128906, 'Greeting': 90.54639434814453}, 'UpperBody': {'All': 92.4164810180664, 'UpperStretching': 101.07774353027344, 'Walking': 86.98530578613281, 'Gesticuling': 75.26597595214844, 'LowerStretching': 77.3668441772461, 'Reacting': 76.03102111816406, 'Patting': 85.16438293457031, 'Talking': 73.22579956054688, 'Gaming': 75.32707977294922, 'Greeting': 72.7372055053711}, 'LowerBody': {'All': 139.72325134277344, 'UpperStretching': 135.80233764648438, 'Walking': 146.3793182373047, 'Gesticuling': 91.88212585449219, 'LowerStretching': 165.02383422851562, 'Reacting': 114.84387969970703, 'Patting': 148.582763671875, 'Talking': 92.34233093261719, 'Gaming': 129.0108642578125, 'Greeting': 108.35557556152344}}\n"
     ]
    },
    {
     "name": "stderr",
     "output_type": "stream",
     "text": [
      " 49%|████▊     | 2601/5352 [06:11<06:28,  7.09it/s]"
     ]
    },
    {
     "name": "stdout",
     "output_type": "stream",
     "text": [
      "{'FullBody': {'All': 116.16584014892578, 'UpperStretching': 118.52799987792969, 'Walking': 116.58915710449219, 'Gesticuling': 83.81837463378906, 'LowerStretching': 121.58623504638672, 'Reacting': 95.45987701416016, 'Patting': 116.60214233398438, 'Talking': 82.56437683105469, 'Gaming': 101.9195327758789, 'Greeting': 90.57524871826172}, 'UpperBody': {'All': 92.4349136352539, 'UpperStretching': 101.17292022705078, 'Walking': 86.94373321533203, 'Gesticuling': 75.27873992919922, 'LowerStretching': 77.48314666748047, 'Reacting': 76.04955291748047, 'Patting': 84.9384994506836, 'Talking': 72.89513397216797, 'Gaming': 74.86425018310547, 'Greeting': 72.8977279663086}, 'LowerBody': {'All': 139.8967742919922, 'UpperStretching': 135.88307189941406, 'Walking': 146.23458862304688, 'Gesticuling': 92.35799407958984, 'LowerStretching': 165.68931579589844, 'Reacting': 114.87020874023438, 'Patting': 148.26577758789062, 'Talking': 92.23363494873047, 'Gaming': 128.97482299804688, 'Greeting': 108.25276947021484}}\n"
     ]
    },
    {
     "name": "stderr",
     "output_type": "stream",
     "text": [
      " 52%|█████▏    | 2801/5352 [06:39<05:50,  7.29it/s]"
     ]
    },
    {
     "name": "stdout",
     "output_type": "stream",
     "text": [
      "{'FullBody': {'All': 116.14392852783203, 'UpperStretching': 118.60568237304688, 'Walking': 116.48445892333984, 'Gesticuling': 83.87055206298828, 'LowerStretching': 121.32583618164062, 'Reacting': 95.62730407714844, 'Patting': 116.30607604980469, 'Talking': 82.68879699707031, 'Gaming': 101.68490600585938, 'Greeting': 90.8670654296875}, 'UpperBody': {'All': 92.50882720947266, 'UpperStretching': 101.2664794921875, 'Walking': 86.91649627685547, 'Gesticuling': 75.34674835205078, 'LowerStretching': 77.55490112304688, 'Reacting': 76.11107635498047, 'Patting': 85.16704559326172, 'Talking': 72.88909149169922, 'Gaming': 74.8233871459961, 'Greeting': 73.19649505615234}, 'LowerBody': {'All': 139.77902221679688, 'UpperStretching': 135.94488525390625, 'Walking': 146.05242919921875, 'Gesticuling': 92.39435577392578, 'LowerStretching': 165.09678649902344, 'Reacting': 115.14353942871094, 'Patting': 147.44512939453125, 'Talking': 92.48849487304688, 'Gaming': 128.5464324951172, 'Greeting': 108.53764343261719}}\n"
     ]
    },
    {
     "name": "stderr",
     "output_type": "stream",
     "text": [
      " 56%|█████▌    | 3000/5352 [07:07<05:33,  7.06it/s]"
     ]
    },
    {
     "name": "stdout",
     "output_type": "stream",
     "text": [
      "{'FullBody': {'All': 116.08277893066406, 'UpperStretching': 118.46186065673828, 'Walking': 116.31671142578125, 'Gesticuling': 83.81159210205078, 'LowerStretching': 121.61776733398438, 'Reacting': 95.52593231201172, 'Patting': 115.63595581054688, 'Talking': 82.59105682373047, 'Gaming': 101.66594696044922, 'Greeting': 91.00181579589844}, 'UpperBody': {'All': 92.48323822021484, 'UpperStretching': 101.26004028320312, 'Walking': 86.72801208496094, 'Gesticuling': 75.28086853027344, 'LowerStretching': 77.66312408447266, 'Reacting': 76.24579620361328, 'Patting': 84.69975280761719, 'Talking': 72.58158874511719, 'Gaming': 74.7522201538086, 'Greeting': 73.01447296142578}, 'LowerBody': {'All': 139.68231201171875, 'UpperStretching': 135.6636962890625, 'Walking': 145.90541076660156, 'Gesticuling': 92.34231567382812, 'LowerStretching': 165.57240295410156, 'Reacting': 114.80606842041016, 'Patting': 146.57215881347656, 'Talking': 92.60052490234375, 'Gaming': 128.5796661376953, 'Greeting': 108.98915100097656}}\n"
     ]
    },
    {
     "name": "stderr",
     "output_type": "stream",
     "text": [
      " 60%|█████▉    | 3201/5352 [07:35<05:06,  7.02it/s]"
     ]
    },
    {
     "name": "stdout",
     "output_type": "stream",
     "text": [
      "{'FullBody': {'All': 116.0509262084961, 'UpperStretching': 118.38338470458984, 'Walking': 116.19114685058594, 'Gesticuling': 83.96630096435547, 'LowerStretching': 121.7079849243164, 'Reacting': 95.49446105957031, 'Patting': 116.12383270263672, 'Talking': 82.89910888671875, 'Gaming': 101.45817565917969, 'Greeting': 91.19322967529297}, 'UpperBody': {'All': 92.49420166015625, 'UpperStretching': 101.2025146484375, 'Walking': 86.6067123413086, 'Gesticuling': 75.34095764160156, 'LowerStretching': 77.78356170654297, 'Reacting': 76.41477966308594, 'Patting': 85.43585968017578, 'Talking': 72.77531433105469, 'Gaming': 74.65161895751953, 'Greeting': 73.0614242553711}, 'LowerBody': {'All': 139.60765075683594, 'UpperStretching': 135.5642852783203, 'Walking': 145.7755889892578, 'Gesticuling': 92.59163665771484, 'LowerStretching': 165.6324005126953, 'Reacting': 114.57415008544922, 'Patting': 146.8118133544922, 'Talking': 93.02291107177734, 'Gaming': 128.2647247314453, 'Greeting': 109.32501983642578}}\n"
     ]
    },
    {
     "name": "stderr",
     "output_type": "stream",
     "text": [
      " 64%|██████▎   | 3401/5352 [08:03<04:46,  6.82it/s]"
     ]
    },
    {
     "name": "stdout",
     "output_type": "stream",
     "text": [
      "{'FullBody': {'All': 116.00533294677734, 'UpperStretching': 118.2855224609375, 'Walking': 116.42757415771484, 'Gesticuling': 83.94954681396484, 'LowerStretching': 121.62019348144531, 'Reacting': 95.28826141357422, 'Patting': 115.84172821044922, 'Talking': 82.8174819946289, 'Gaming': 101.65821075439453, 'Greeting': 90.99356842041016}, 'UpperBody': {'All': 92.47071838378906, 'UpperStretching': 101.15444946289062, 'Walking': 86.83283233642578, 'Gesticuling': 75.42809295654297, 'LowerStretching': 77.73602294921875, 'Reacting': 76.28010559082031, 'Patting': 85.48226165771484, 'Talking': 72.86714172363281, 'Gaming': 74.60172271728516, 'Greeting': 72.94783020019531}, 'LowerBody': {'All': 139.53993225097656, 'UpperStretching': 135.41659545898438, 'Walking': 146.02232360839844, 'Gesticuling': 92.47100830078125, 'LowerStretching': 165.5043487548828, 'Reacting': 114.2964096069336, 'Patting': 146.20120239257812, 'Talking': 92.76781463623047, 'Gaming': 128.71470642089844, 'Greeting': 109.03931427001953}}\n"
     ]
    },
    {
     "name": "stderr",
     "output_type": "stream",
     "text": [
      " 67%|██████▋   | 3600/5352 [08:31<04:15,  6.87it/s]"
     ]
    },
    {
     "name": "stdout",
     "output_type": "stream",
     "text": [
      "{'FullBody': {'All': 116.04115295410156, 'UpperStretching': 118.35722351074219, 'Walking': 116.28697204589844, 'Gesticuling': 84.11270904541016, 'LowerStretching': 121.72077178955078, 'Reacting': 95.19548797607422, 'Patting': 115.64122772216797, 'Talking': 82.83110809326172, 'Gaming': 101.73907470703125, 'Greeting': 90.99160766601562}, 'UpperBody': {'All': 92.48291015625, 'UpperStretching': 101.18831634521484, 'Walking': 86.75623321533203, 'Gesticuling': 75.44387817382812, 'LowerStretching': 77.71778106689453, 'Reacting': 76.48505401611328, 'Patting': 85.06787109375, 'Talking': 72.76078033447266, 'Gaming': 74.75882720947266, 'Greeting': 72.77664184570312}, 'LowerBody': {'All': 139.59939575195312, 'UpperStretching': 135.52613830566406, 'Walking': 145.81771850585938, 'Gesticuling': 92.78153991699219, 'LowerStretching': 165.72377014160156, 'Reacting': 113.90592193603516, 'Patting': 146.21458435058594, 'Talking': 92.90144348144531, 'Gaming': 128.71932983398438, 'Greeting': 109.20658111572266}}\n"
     ]
    },
    {
     "name": "stderr",
     "output_type": "stream",
     "text": [
      " 71%|███████   | 3801/5352 [09:00<03:39,  7.06it/s]"
     ]
    },
    {
     "name": "stdout",
     "output_type": "stream",
     "text": [
      "{'FullBody': {'All': 116.00281524658203, 'UpperStretching': 118.32456970214844, 'Walking': 116.1666488647461, 'Gesticuling': 84.23894500732422, 'LowerStretching': 121.63639068603516, 'Reacting': 95.44021606445312, 'Patting': 115.77703857421875, 'Talking': 82.95989227294922, 'Gaming': 101.96158599853516, 'Greeting': 91.00242614746094}, 'UpperBody': {'All': 92.52348327636719, 'UpperStretching': 101.20271301269531, 'Walking': 86.73062133789062, 'Gesticuling': 75.67899322509766, 'LowerStretching': 77.76497650146484, 'Reacting': 76.66172790527344, 'Patting': 85.2121353149414, 'Talking': 72.85372924804688, 'Gaming': 74.82476806640625, 'Greeting': 72.86798858642578}, 'LowerBody': {'All': 139.4821319580078, 'UpperStretching': 135.44644165039062, 'Walking': 145.60267639160156, 'Gesticuling': 92.79889678955078, 'LowerStretching': 165.50779724121094, 'Reacting': 114.21870422363281, 'Patting': 146.34193420410156, 'Talking': 93.0660400390625, 'Gaming': 129.09840393066406, 'Greeting': 109.1368637084961}}\n"
     ]
    },
    {
     "name": "stderr",
     "output_type": "stream",
     "text": [
      " 75%|███████▍  | 4001/5352 [09:28<03:14,  6.96it/s]"
     ]
    },
    {
     "name": "stdout",
     "output_type": "stream",
     "text": [
      "{'FullBody': {'All': 116.0526351928711, 'UpperStretching': 118.38568878173828, 'Walking': 116.1073989868164, 'Gesticuling': 84.16587829589844, 'LowerStretching': 121.63522338867188, 'Reacting': 95.68711853027344, 'Patting': 116.69076538085938, 'Talking': 82.82413482666016, 'Gaming': 101.89649963378906, 'Greeting': 90.88204193115234}, 'UpperBody': {'All': 92.5716552734375, 'UpperStretching': 101.28514862060547, 'Walking': 86.74555206298828, 'Gesticuling': 75.72358703613281, 'LowerStretching': 77.70327758789062, 'Reacting': 76.81010437011719, 'Patting': 85.81041717529297, 'Talking': 72.8287582397461, 'Gaming': 74.84794616699219, 'Greeting': 72.63894653320312}, 'LowerBody': {'All': 139.5336151123047, 'UpperStretching': 135.48623657226562, 'Walking': 145.46923828125, 'Gesticuling': 92.60818481445312, 'LowerStretching': 165.56716918945312, 'Reacting': 114.56412506103516, 'Patting': 147.5711212158203, 'Talking': 92.81951141357422, 'Gaming': 128.945068359375, 'Greeting': 109.12515258789062}}\n"
     ]
    },
    {
     "name": "stderr",
     "output_type": "stream",
     "text": [
      " 78%|███████▊  | 4201/5352 [09:56<03:14,  5.91it/s]"
     ]
    },
    {
     "name": "stdout",
     "output_type": "stream",
     "text": [
      "{'FullBody': {'All': 116.1383285522461, 'UpperStretching': 118.48472595214844, 'Walking': 116.18863677978516, 'Gesticuling': 84.30960845947266, 'LowerStretching': 121.7552261352539, 'Reacting': 95.81575012207031, 'Patting': 115.80445098876953, 'Talking': 83.05854034423828, 'Gaming': 101.60848999023438, 'Greeting': 91.01058959960938}, 'UpperBody': {'All': 92.6401596069336, 'UpperStretching': 101.39688110351562, 'Walking': 86.76416015625, 'Gesticuling': 75.87443542480469, 'LowerStretching': 77.64778900146484, 'Reacting': 77.14993286132812, 'Patting': 85.11341094970703, 'Talking': 73.0791015625, 'Gaming': 74.57340240478516, 'Greeting': 72.62844848632812}, 'LowerBody': {'All': 139.63648986816406, 'UpperStretching': 135.57257080078125, 'Walking': 145.61309814453125, 'Gesticuling': 92.7447738647461, 'LowerStretching': 165.86265563964844, 'Reacting': 114.4815673828125, 'Patting': 146.49549865722656, 'Talking': 93.0379867553711, 'Gaming': 128.64356994628906, 'Greeting': 109.39271545410156}}\n"
     ]
    },
    {
     "name": "stderr",
     "output_type": "stream",
     "text": [
      " 82%|████████▏ | 4401/5352 [10:24<02:20,  6.77it/s]"
     ]
    },
    {
     "name": "stdout",
     "output_type": "stream",
     "text": [
      "{'FullBody': {'All': 116.19217681884766, 'UpperStretching': 118.48039245605469, 'Walking': 116.33750915527344, 'Gesticuling': 84.219970703125, 'LowerStretching': 121.89241790771484, 'Reacting': 95.74234771728516, 'Patting': 116.226318359375, 'Talking': 83.74618530273438, 'Gaming': 101.5156478881836, 'Greeting': 90.96588897705078}, 'UpperBody': {'All': 92.6631088256836, 'UpperStretching': 101.3870849609375, 'Walking': 86.86113739013672, 'Gesticuling': 75.860595703125, 'LowerStretching': 77.72994232177734, 'Reacting': 77.05973052978516, 'Patting': 85.12891387939453, 'Talking': 73.59514617919922, 'Gaming': 74.364501953125, 'Greeting': 72.74620056152344}, 'LowerBody': {'All': 139.72122192382812, 'UpperStretching': 135.57371520996094, 'Walking': 145.8138885498047, 'Gesticuling': 92.579345703125, 'LowerStretching': 166.05490112304688, 'Reacting': 114.42496490478516, 'Patting': 147.32371520996094, 'Talking': 93.89723205566406, 'Gaming': 128.6667938232422, 'Greeting': 109.1855697631836}}\n"
     ]
    },
    {
     "name": "stderr",
     "output_type": "stream",
     "text": [
      " 86%|████████▌ | 4601/5352 [10:52<01:51,  6.75it/s]"
     ]
    },
    {
     "name": "stdout",
     "output_type": "stream",
     "text": [
      "{'FullBody': {'All': 116.24800109863281, 'UpperStretching': 118.56259155273438, 'Walking': 116.36296081542969, 'Gesticuling': 84.15213775634766, 'LowerStretching': 121.77993774414062, 'Reacting': 95.8732681274414, 'Patting': 116.77606201171875, 'Talking': 84.32803344726562, 'Gaming': 101.46875, 'Greeting': 90.93061828613281}, 'UpperBody': {'All': 92.7117919921875, 'UpperStretching': 101.45645141601562, 'Walking': 86.89173889160156, 'Gesticuling': 75.80374145507812, 'LowerStretching': 77.67790985107422, 'Reacting': 77.23373413085938, 'Patting': 85.51099395751953, 'Talking': 73.81713104248047, 'Gaming': 74.17316436767578, 'Greeting': 72.76460266113281}, 'LowerBody': {'All': 139.78419494628906, 'UpperStretching': 135.6687469482422, 'Walking': 145.8341827392578, 'Gesticuling': 92.50052642822266, 'LowerStretching': 165.8819580078125, 'Reacting': 114.51280212402344, 'Patting': 148.0411376953125, 'Talking': 94.83895111083984, 'Gaming': 128.7643280029297, 'Greeting': 109.09661865234375}}\n"
     ]
    },
    {
     "name": "stderr",
     "output_type": "stream",
     "text": [
      " 90%|████████▉ | 4800/5352 [11:20<01:24,  6.54it/s]"
     ]
    },
    {
     "name": "stdout",
     "output_type": "stream",
     "text": [
      "{'FullBody': {'All': 116.19979095458984, 'UpperStretching': 118.53496551513672, 'Walking': 116.31167602539062, 'Gesticuling': 84.0323486328125, 'LowerStretching': 121.70994567871094, 'Reacting': 95.7127914428711, 'Patting': 116.85758972167969, 'Talking': 84.07967376708984, 'Gaming': 101.40243530273438, 'Greeting': 90.68154907226562}, 'UpperBody': {'All': 92.69544219970703, 'UpperStretching': 101.46829986572266, 'Walking': 86.90809631347656, 'Gesticuling': 75.5790023803711, 'LowerStretching': 77.67383575439453, 'Reacting': 77.18289184570312, 'Patting': 85.42219543457031, 'Talking': 73.56375122070312, 'Gaming': 74.1831283569336, 'Greeting': 72.70030212402344}, 'LowerBody': {'All': 139.70413208007812, 'UpperStretching': 135.6016387939453, 'Walking': 145.7152557373047, 'Gesticuling': 92.48570251464844, 'LowerStretching': 165.74603271484375, 'Reacting': 114.24268341064453, 'Patting': 148.29298400878906, 'Talking': 94.5956039428711, 'Gaming': 128.6217498779297, 'Greeting': 108.66278839111328}}\n"
     ]
    },
    {
     "name": "stderr",
     "output_type": "stream",
     "text": [
      " 93%|█████████▎| 5001/5352 [11:49<00:54,  6.47it/s]"
     ]
    },
    {
     "name": "stdout",
     "output_type": "stream",
     "text": [
      "{'FullBody': {'All': 116.18196105957031, 'UpperStretching': 118.4854736328125, 'Walking': 116.46501922607422, 'Gesticuling': 84.10804748535156, 'LowerStretching': 121.67437744140625, 'Reacting': 95.76139831542969, 'Patting': 117.01412200927734, 'Talking': 83.91120910644531, 'Gaming': 101.33403778076172, 'Greeting': 90.71426391601562}, 'UpperBody': {'All': 92.6694107055664, 'UpperStretching': 101.40599060058594, 'Walking': 86.9892578125, 'Gesticuling': 75.57718658447266, 'LowerStretching': 77.68816375732422, 'Reacting': 77.32198333740234, 'Patting': 85.70271301269531, 'Talking': 73.38948822021484, 'Gaming': 74.21540069580078, 'Greeting': 72.65011596679688}, 'LowerBody': {'All': 139.6945037841797, 'UpperStretching': 135.5649871826172, 'Walking': 145.9407958984375, 'Gesticuling': 92.6388931274414, 'LowerStretching': 165.6605987548828, 'Reacting': 114.20083618164062, 'Patting': 148.3255157470703, 'Talking': 94.43292999267578, 'Gaming': 128.4526824951172, 'Greeting': 108.7784194946289}}\n"
     ]
    },
    {
     "name": "stderr",
     "output_type": "stream",
     "text": [
      " 97%|█████████▋| 5201/5352 [12:17<00:21,  6.89it/s]"
     ]
    },
    {
     "name": "stdout",
     "output_type": "stream",
     "text": [
      "{'FullBody': {'All': 116.13880920410156, 'UpperStretching': 118.42218017578125, 'Walking': 116.44353485107422, 'Gesticuling': 84.1777572631836, 'LowerStretching': 121.66643524169922, 'Reacting': 95.70665740966797, 'Patting': 116.63917541503906, 'Talking': 83.84146881103516, 'Gaming': 101.44176483154297, 'Greeting': 91.367919921875}, 'UpperBody': {'All': 92.65875244140625, 'UpperStretching': 101.36356353759766, 'Walking': 86.99198913574219, 'Gesticuling': 75.59603118896484, 'LowerStretching': 77.7149658203125, 'Reacting': 77.40008544921875, 'Patting': 85.44788360595703, 'Talking': 73.36698913574219, 'Gaming': 74.24983978271484, 'Greeting': 73.30748748779297}, 'LowerBody': {'All': 139.61886596679688, 'UpperStretching': 135.48080444335938, 'Walking': 145.8950958251953, 'Gesticuling': 92.75946044921875, 'LowerStretching': 165.61790466308594, 'Reacting': 114.01322937011719, 'Patting': 147.83047485351562, 'Talking': 94.31594848632812, 'Gaming': 128.63369750976562, 'Greeting': 109.4283447265625}}\n"
     ]
    },
    {
     "name": "stderr",
     "output_type": "stream",
     "text": [
      "100%|██████████| 5352/5352 [12:38<00:00,  7.05it/s]\n",
      "\u001b[94m08:33:48 \u001b[92m[INFO]\u001b[94m Main\u001b[0m: Saving evaluation results...\n",
      "\u001b[94m08:33:48 \u001b[92m[INFO]\u001b[94m Main\u001b[0m: Done.\n",
      "\u001b[94m08:33:48 \u001b[92m[INFO]\u001b[94m Main\u001b[0m: Starting demo...\n",
      "  0%|          | 0/5352 [00:00<?, ?it/s]/opt/conda/lib/python3.10/site-packages/torchvision/transforms/transforms.py:329: UserWarning: Argument 'interpolation' of type int is deprecated since 0.13 and will be removed in 0.15. Please use InterpolationMode enum.\n",
      "  warnings.warn(\n",
      "/opt/conda/lib/python3.10/site-packages/torchvision/transforms/transforms.py:329: UserWarning: Argument 'interpolation' of type int is deprecated since 0.13 and will be removed in 0.15. Please use InterpolationMode enum.\n",
      "  warnings.warn(\n",
      "/opt/conda/lib/python3.10/site-packages/torchvision/transforms/transforms.py:329: UserWarning: Argument 'interpolation' of type int is deprecated since 0.13 and will be removed in 0.15. Please use InterpolationMode enum.\n",
      "  warnings.warn(\n",
      "/opt/conda/lib/python3.10/site-packages/torchvision/transforms/transforms.py:329: UserWarning: Argument 'interpolation' of type int is deprecated since 0.13 and will be removed in 0.15. Please use InterpolationMode enum.\n",
      "  warnings.warn(\n",
      "/opt/conda/lib/python3.10/site-packages/torchvision/transforms/transforms.py:329: UserWarning: Argument 'interpolation' of type int is deprecated since 0.13 and will be removed in 0.15. Please use InterpolationMode enum.\n",
      "  warnings.warn(\n",
      "/opt/conda/lib/python3.10/site-packages/torchvision/transforms/transforms.py:329: UserWarning: Argument 'interpolation' of type int is deprecated since 0.13 and will be removed in 0.15. Please use InterpolationMode enum.\n",
      "  warnings.warn(\n",
      "/opt/conda/lib/python3.10/site-packages/torchvision/transforms/transforms.py:329: UserWarning: Argument 'interpolation' of type int is deprecated since 0.13 and will be removed in 0.15. Please use InterpolationMode enum.\n",
      "  warnings.warn(\n",
      "/opt/conda/lib/python3.10/site-packages/torchvision/transforms/transforms.py:329: UserWarning: Argument 'interpolation' of type int is deprecated since 0.13 and will be removed in 0.15. Please use InterpolationMode enum.\n",
      "  warnings.warn(\n",
      "/opt/conda/lib/python3.10/site-packages/torchvision/transforms/transforms.py:329: UserWarning: Argument 'interpolation' of type int is deprecated since 0.13 and will be removed in 0.15. Please use InterpolationMode enum.\n",
      "  warnings.warn(\n",
      "/opt/conda/lib/python3.10/site-packages/torchvision/transforms/transforms.py:329: UserWarning: Argument 'interpolation' of type int is deprecated since 0.13 and will be removed in 0.15. Please use InterpolationMode enum.\n",
      "  warnings.warn(\n",
      "/opt/conda/lib/python3.10/site-packages/torchvision/transforms/transforms.py:329: UserWarning: Argument 'interpolation' of type int is deprecated since 0.13 and will be removed in 0.15. Please use InterpolationMode enum.\n",
      "  warnings.warn(\n",
      "/opt/conda/lib/python3.10/site-packages/torchvision/transforms/transforms.py:329: UserWarning: Argument 'interpolation' of type int is deprecated since 0.13 and will be removed in 0.15. Please use InterpolationMode enum.\n",
      "  warnings.warn(\n",
      "/opt/conda/lib/python3.10/site-packages/torchvision/transforms/transforms.py:329: UserWarning: Argument 'interpolation' of type int is deprecated since 0.13 and will be removed in 0.15. Please use InterpolationMode enum.\n",
      "  warnings.warn(\n",
      "/opt/conda/lib/python3.10/site-packages/torchvision/transforms/transforms.py:329: UserWarning: Argument 'interpolation' of type int is deprecated since 0.13 and will be removed in 0.15. Please use InterpolationMode enum.\n",
      "  warnings.warn(\n",
      "/opt/conda/lib/python3.10/site-packages/torchvision/transforms/transforms.py:329: UserWarning: Argument 'interpolation' of type int is deprecated since 0.13 and will be removed in 0.15. Please use InterpolationMode enum.\n",
      "  warnings.warn(\n",
      "/opt/conda/lib/python3.10/site-packages/torchvision/transforms/transforms.py:329: UserWarning: Argument 'interpolation' of type int is deprecated since 0.13 and will be removed in 0.15. Please use InterpolationMode enum.\n",
      "  warnings.warn(\n",
      "/opt/conda/lib/python3.10/site-packages/torchvision/transforms/transforms.py:329: UserWarning: Argument 'interpolation' of type int is deprecated since 0.13 and will be removed in 0.15. Please use InterpolationMode enum.\n",
      "  warnings.warn(\n",
      "/opt/conda/lib/python3.10/site-packages/torchvision/transforms/transforms.py:329: UserWarning: Argument 'interpolation' of type int is deprecated since 0.13 and will be removed in 0.15. Please use InterpolationMode enum.\n",
      "  warnings.warn(\n",
      "/opt/conda/lib/python3.10/site-packages/torchvision/transforms/transforms.py:329: UserWarning: Argument 'interpolation' of type int is deprecated since 0.13 and will be removed in 0.15. Please use InterpolationMode enum.\n",
      "  warnings.warn(\n",
      "/opt/conda/lib/python3.10/site-packages/torchvision/transforms/transforms.py:329: UserWarning: Argument 'interpolation' of type int is deprecated since 0.13 and will be removed in 0.15. Please use InterpolationMode enum.\n",
      "  warnings.warn(\n",
      "/opt/conda/lib/python3.10/site-packages/torchvision/transforms/transforms.py:329: UserWarning: Argument 'interpolation' of type int is deprecated since 0.13 and will be removed in 0.15. Please use InterpolationMode enum.\n",
      "  warnings.warn(\n",
      "/opt/conda/lib/python3.10/site-packages/torchvision/transforms/transforms.py:329: UserWarning: Argument 'interpolation' of type int is deprecated since 0.13 and will be removed in 0.15. Please use InterpolationMode enum.\n",
      "  warnings.warn(\n",
      "/opt/conda/lib/python3.10/site-packages/torchvision/transforms/transforms.py:329: UserWarning: Argument 'interpolation' of type int is deprecated since 0.13 and will be removed in 0.15. Please use InterpolationMode enum.\n",
      "  warnings.warn(\n",
      "/opt/conda/lib/python3.10/site-packages/torchvision/transforms/transforms.py:329: UserWarning: Argument 'interpolation' of type int is deprecated since 0.13 and will be removed in 0.15. Please use InterpolationMode enum.\n",
      "  warnings.warn(\n",
      "  4%|▍         | 201/5352 [00:34<11:59,  7.16it/s]"
     ]
    },
    {
     "name": "stdout",
     "output_type": "stream",
     "text": [
      "{'FullBody': {'All': 174.71844482421875, 'UpperStretching': 178.0121307373047, 'Reacting': 134.99839782714844, 'Walking': 174.31625366210938, 'LowerStretching': 180.2090301513672, 'Gaming': 164.51771545410156, 'Talking': 148.9623565673828, 'Gesticuling': 155.65855407714844, 'Greeting': 176.68223571777344, 'Patting': 142.5364990234375}, 'UpperBody': {'All': 172.09609985351562, 'UpperStretching': 177.5303955078125, 'Reacting': 143.41494750976562, 'Walking': 168.25030517578125, 'LowerStretching': 158.16624450683594, 'Gaming': 175.42698669433594, 'Talking': 181.16632080078125, 'Gesticuling': 174.4366455078125, 'Greeting': 232.10372924804688, 'Patting': 146.23638916015625}, 'LowerBody': {'All': 177.3407745361328, 'UpperStretching': 178.4938507080078, 'Reacting': 126.58181762695312, 'Walking': 180.38223266601562, 'LowerStretching': 202.25181579589844, 'Gaming': 153.6084442138672, 'Talking': 116.75840759277344, 'Gesticuling': 136.88047790527344, 'Greeting': 121.26071166992188, 'Patting': 138.83660888671875}}\n"
     ]
    },
    {
     "name": "stderr",
     "output_type": "stream",
     "text": [
      "  7%|▋         | 401/5352 [01:02<11:12,  7.36it/s]"
     ]
    },
    {
     "name": "stdout",
     "output_type": "stream",
     "text": [
      "{'FullBody': {'All': 174.90826416015625, 'UpperStretching': 178.55459594726562, 'Reacting': 132.05953979492188, 'Walking': 172.54624938964844, 'LowerStretching': 180.1129913330078, 'Gaming': 170.39315795898438, 'Talking': 149.94517517089844, 'Gesticuling': 156.8065185546875, 'Greeting': 175.73968505859375, 'Patting': 142.1352996826172}, 'UpperBody': {'All': 171.85589599609375, 'UpperStretching': 177.82147216796875, 'Reacting': 141.3034210205078, 'Walking': 167.90257263183594, 'LowerStretching': 156.86923217773438, 'Gaming': 179.78250122070312, 'Talking': 184.43408203125, 'Gesticuling': 174.17637634277344, 'Greeting': 231.04542541503906, 'Patting': 152.6764373779297}, 'LowerBody': {'All': 177.96063232421875, 'UpperStretching': 179.28773498535156, 'Reacting': 122.81565856933594, 'Walking': 177.18994140625, 'LowerStretching': 203.35675048828125, 'Gaming': 161.00379943847656, 'Talking': 115.45626831054688, 'Gesticuling': 139.43666076660156, 'Greeting': 120.4339599609375, 'Patting': 131.59417724609375}}\n"
     ]
    },
    {
     "name": "stderr",
     "output_type": "stream",
     "text": [
      " 11%|█         | 601/5352 [01:30<10:35,  7.47it/s]"
     ]
    },
    {
     "name": "stdout",
     "output_type": "stream",
     "text": [
      "{'FullBody': {'All': 175.0278778076172, 'UpperStretching': 178.42263793945312, 'Reacting': 132.72146606445312, 'Walking': 171.6526336669922, 'LowerStretching': 180.90406799316406, 'Gaming': 167.65647888183594, 'Talking': 151.1552734375, 'Gesticuling': 157.19960021972656, 'Greeting': 175.41970825195312, 'Patting': 147.74412536621094}, 'UpperBody': {'All': 171.6101837158203, 'UpperStretching': 177.37420654296875, 'Reacting': 143.22869873046875, 'Walking': 166.7478485107422, 'LowerStretching': 157.5373992919922, 'Gaming': 174.91159057617188, 'Talking': 185.97174072265625, 'Gesticuling': 172.4713897705078, 'Greeting': 228.765625, 'Patting': 154.42593383789062}, 'LowerBody': {'All': 178.44558715820312, 'UpperStretching': 179.47105407714844, 'Reacting': 122.21427154541016, 'Walking': 176.5574188232422, 'LowerStretching': 204.27072143554688, 'Gaming': 160.40133666992188, 'Talking': 116.33882141113281, 'Gesticuling': 141.9278106689453, 'Greeting': 122.07379150390625, 'Patting': 141.06231689453125}}\n"
     ]
    },
    {
     "name": "stderr",
     "output_type": "stream",
     "text": [
      " 15%|█▍        | 801/5352 [01:58<10:53,  6.96it/s]"
     ]
    },
    {
     "name": "stdout",
     "output_type": "stream",
     "text": [
      "{'FullBody': {'All': 175.2333526611328, 'UpperStretching': 178.7420654296875, 'Reacting': 132.1116943359375, 'Walking': 172.69752502441406, 'LowerStretching': 180.37672424316406, 'Gaming': 168.8248748779297, 'Talking': 154.04541015625, 'Gesticuling': 156.68667602539062, 'Greeting': 174.48049926757812, 'Patting': 145.94549560546875}, 'UpperBody': {'All': 171.6104736328125, 'UpperStretching': 177.7232208251953, 'Reacting': 141.03216552734375, 'Walking': 167.39312744140625, 'LowerStretching': 156.85877990722656, 'Gaming': 177.61915588378906, 'Talking': 184.5309600830078, 'Gesticuling': 171.21835327148438, 'Greeting': 224.83363342285156, 'Patting': 153.7783966064453}, 'LowerBody': {'All': 178.8562469482422, 'UpperStretching': 179.76092529296875, 'Reacting': 123.19120788574219, 'Walking': 178.0019073486328, 'LowerStretching': 203.8946533203125, 'Gaming': 160.03057861328125, 'Talking': 123.55986022949219, 'Gesticuling': 142.15499877929688, 'Greeting': 124.12738800048828, 'Patting': 138.11260986328125}}\n"
     ]
    },
    {
     "name": "stderr",
     "output_type": "stream",
     "text": [
      " 19%|█▊        | 1001/5352 [02:26<09:44,  7.44it/s]"
     ]
    },
    {
     "name": "stdout",
     "output_type": "stream",
     "text": [
      "{'FullBody': {'All': 175.1659698486328, 'UpperStretching': 178.6311798095703, 'Reacting': 130.20330810546875, 'Walking': 173.10574340820312, 'LowerStretching': 180.486572265625, 'Gaming': 168.99429321289062, 'Talking': 153.42184448242188, 'Gesticuling': 156.79103088378906, 'Greeting': 174.31568908691406, 'Patting': 144.4140625}, 'UpperBody': {'All': 171.49952697753906, 'UpperStretching': 177.77525329589844, 'Reacting': 136.33602905273438, 'Walking': 167.98110961914062, 'LowerStretching': 156.42247009277344, 'Gaming': 179.14817810058594, 'Talking': 184.1234130859375, 'Gesticuling': 171.60934448242188, 'Greeting': 225.04684448242188, 'Patting': 151.90875244140625}, 'LowerBody': {'All': 178.83242797851562, 'UpperStretching': 179.4871368408203, 'Reacting': 124.07060241699219, 'Walking': 178.2303924560547, 'LowerStretching': 204.55064392089844, 'Gaming': 158.8404083251953, 'Talking': 122.72028350830078, 'Gesticuling': 141.97271728515625, 'Greeting': 123.58451080322266, 'Patting': 136.9193572998047}}\n"
     ]
    },
    {
     "name": "stderr",
     "output_type": "stream",
     "text": [
      " 22%|██▏       | 1201/5352 [02:54<09:30,  7.27it/s]"
     ]
    },
    {
     "name": "stdout",
     "output_type": "stream",
     "text": [
      "{'FullBody': {'All': 175.16392517089844, 'UpperStretching': 178.74453735351562, 'Reacting': 131.22581481933594, 'Walking': 173.11790466308594, 'LowerStretching': 180.40992736816406, 'Gaming': 169.20375061035156, 'Talking': 152.0709991455078, 'Gesticuling': 156.28219604492188, 'Greeting': 174.3348388671875, 'Patting': 145.08056640625}, 'UpperBody': {'All': 171.44900512695312, 'UpperStretching': 178.0095672607422, 'Reacting': 137.349609375, 'Walking': 167.76119995117188, 'LowerStretching': 156.13404846191406, 'Gaming': 179.1375732421875, 'Talking': 182.03060913085938, 'Gesticuling': 170.51246643066406, 'Greeting': 223.3523712158203, 'Patting': 150.6263885498047}, 'LowerBody': {'All': 178.8788604736328, 'UpperStretching': 179.4795379638672, 'Reacting': 125.10200500488281, 'Walking': 178.47457885742188, 'LowerStretching': 204.68576049804688, 'Gaming': 159.2699432373047, 'Talking': 122.11141204833984, 'Gesticuling': 142.0519256591797, 'Greeting': 125.31732940673828, 'Patting': 139.5347442626953}}\n"
     ]
    },
    {
     "name": "stderr",
     "output_type": "stream",
     "text": [
      " 26%|██▌       | 1401/5352 [03:22<09:41,  6.80it/s]"
     ]
    },
    {
     "name": "stdout",
     "output_type": "stream",
     "text": [
      "{'FullBody': {'All': 175.05014038085938, 'UpperStretching': 178.7321014404297, 'Reacting': 131.8075408935547, 'Walking': 172.7838592529297, 'LowerStretching': 180.13893127441406, 'Gaming': 167.4122772216797, 'Talking': 153.91879272460938, 'Gesticuling': 155.95945739746094, 'Greeting': 173.39309692382812, 'Patting': 144.9334716796875}, 'UpperBody': {'All': 171.4904327392578, 'UpperStretching': 178.2356414794922, 'Reacting': 138.571044921875, 'Walking': 167.10470581054688, 'LowerStretching': 156.0677490234375, 'Gaming': 177.1898956298828, 'Talking': 183.27786254882812, 'Gesticuling': 169.6219024658203, 'Greeting': 221.13121032714844, 'Patting': 149.67066955566406}, 'LowerBody': {'All': 178.6098175048828, 'UpperStretching': 179.2285919189453, 'Reacting': 125.04402923583984, 'Walking': 178.46299743652344, 'LowerStretching': 204.2101593017578, 'Gaming': 157.6346893310547, 'Talking': 124.55973052978516, 'Gesticuling': 142.2969970703125, 'Greeting': 125.65498352050781, 'Patting': 140.19627380371094}}\n"
     ]
    },
    {
     "name": "stderr",
     "output_type": "stream",
     "text": [
      " 30%|██▉       | 1601/5352 [03:50<08:24,  7.43it/s]"
     ]
    },
    {
     "name": "stdout",
     "output_type": "stream",
     "text": [
      "{'FullBody': {'All': 175.23257446289062, 'UpperStretching': 178.95095825195312, 'Reacting': 131.51470947265625, 'Walking': 173.00437927246094, 'LowerStretching': 180.10597229003906, 'Gaming': 166.9205322265625, 'Talking': 153.52149963378906, 'Gesticuling': 156.26141357421875, 'Greeting': 174.38511657714844, 'Patting': 145.06658935546875}, 'UpperBody': {'All': 171.72662353515625, 'UpperStretching': 178.39263916015625, 'Reacting': 138.0653076171875, 'Walking': 166.95352172851562, 'LowerStretching': 156.64320373535156, 'Gaming': 176.75396728515625, 'Talking': 183.5086212158203, 'Gesticuling': 170.68795776367188, 'Greeting': 223.9373321533203, 'Patting': 150.71401977539062}, 'LowerBody': {'All': 178.73851013183594, 'UpperStretching': 179.50929260253906, 'Reacting': 124.96409606933594, 'Walking': 179.05523681640625, 'LowerStretching': 203.56875610351562, 'Gaming': 157.08709716796875, 'Talking': 123.53437805175781, 'Gesticuling': 141.8348388671875, 'Greeting': 124.83290100097656, 'Patting': 139.4191436767578}}\n"
     ]
    },
    {
     "name": "stderr",
     "output_type": "stream",
     "text": [
      " 34%|███▎      | 1801/5352 [04:18<08:01,  7.38it/s]"
     ]
    },
    {
     "name": "stdout",
     "output_type": "stream",
     "text": [
      "{'FullBody': {'All': 175.09742736816406, 'UpperStretching': 178.7057647705078, 'Reacting': 131.2880096435547, 'Walking': 173.17425537109375, 'LowerStretching': 179.77833557128906, 'Gaming': 167.89364624023438, 'Talking': 153.08628845214844, 'Gesticuling': 156.67025756835938, 'Greeting': 174.0917205810547, 'Patting': 145.98995971679688}, 'UpperBody': {'All': 171.6186981201172, 'UpperStretching': 178.2389678955078, 'Reacting': 137.63552856445312, 'Walking': 166.87811279296875, 'LowerStretching': 156.39700317382812, 'Gaming': 177.96273803710938, 'Talking': 184.0264892578125, 'Gesticuling': 171.7415008544922, 'Greeting': 224.11021423339844, 'Patting': 150.9037322998047}, 'LowerBody': {'All': 178.57615661621094, 'UpperStretching': 179.1725616455078, 'Reacting': 124.94049072265625, 'Walking': 179.47035217285156, 'LowerStretching': 203.15969848632812, 'Gaming': 157.8245391845703, 'Talking': 122.1461181640625, 'Gesticuling': 141.5990447998047, 'Greeting': 124.07321166992188, 'Patting': 141.07620239257812}}\n"
     ]
    },
    {
     "name": "stderr",
     "output_type": "stream",
     "text": [
      " 37%|███▋      | 2001/5352 [04:46<08:06,  6.89it/s]"
     ]
    },
    {
     "name": "stdout",
     "output_type": "stream",
     "text": [
      "{'FullBody': {'All': 175.09312438964844, 'UpperStretching': 178.65573120117188, 'Reacting': 131.471435546875, 'Walking': 173.01190185546875, 'LowerStretching': 180.02923583984375, 'Gaming': 168.15638732910156, 'Talking': 153.36488342285156, 'Gesticuling': 156.59837341308594, 'Greeting': 174.42051696777344, 'Patting': 145.4979705810547}, 'UpperBody': {'All': 171.59432983398438, 'UpperStretching': 178.1220703125, 'Reacting': 137.98550415039062, 'Walking': 166.74542236328125, 'LowerStretching': 156.5866241455078, 'Gaming': 177.76072692871094, 'Talking': 186.2476043701172, 'Gesticuling': 171.63165283203125, 'Greeting': 224.7837677001953, 'Patting': 150.4433135986328}, 'LowerBody': {'All': 178.59190368652344, 'UpperStretching': 179.18939208984375, 'Reacting': 124.95735931396484, 'Walking': 179.27838134765625, 'LowerStretching': 203.4718475341797, 'Gaming': 158.5520477294922, 'Talking': 120.48216247558594, 'Gesticuling': 141.56507873535156, 'Greeting': 124.05726623535156, 'Patting': 140.5526123046875}}\n"
     ]
    },
    {
     "name": "stderr",
     "output_type": "stream",
     "text": [
      " 41%|████      | 2201/5352 [05:15<07:22,  7.12it/s]"
     ]
    },
    {
     "name": "stdout",
     "output_type": "stream",
     "text": [
      "{'FullBody': {'All': 175.03636169433594, 'UpperStretching': 178.5782470703125, 'Reacting': 131.12210083007812, 'Walking': 173.2427978515625, 'LowerStretching': 180.04635620117188, 'Gaming': 167.13507080078125, 'Talking': 153.17572021484375, 'Gesticuling': 155.94776916503906, 'Greeting': 175.10519409179688, 'Patting': 145.5952911376953}, 'UpperBody': {'All': 171.5890655517578, 'UpperStretching': 178.11505126953125, 'Reacting': 138.0191192626953, 'Walking': 166.91073608398438, 'LowerStretching': 156.64187622070312, 'Gaming': 176.1416778564453, 'Talking': 186.05003356933594, 'Gesticuling': 170.77561950683594, 'Greeting': 226.09991455078125, 'Patting': 151.60939025878906}, 'LowerBody': {'All': 178.4836883544922, 'UpperStretching': 179.04144287109375, 'Reacting': 124.22508239746094, 'Walking': 179.5748748779297, 'LowerStretching': 203.45079040527344, 'Gaming': 158.1284637451172, 'Talking': 120.3014144897461, 'Gesticuling': 141.11993408203125, 'Greeting': 124.11046600341797, 'Patting': 139.5811767578125}}\n"
     ]
    },
    {
     "name": "stderr",
     "output_type": "stream",
     "text": [
      " 45%|████▍     | 2400/5352 [05:43<06:55,  7.11it/s]"
     ]
    },
    {
     "name": "stdout",
     "output_type": "stream",
     "text": [
      "{'FullBody': {'All': 175.10311889648438, 'UpperStretching': 178.73370361328125, 'Reacting': 130.8000946044922, 'Walking': 173.51519775390625, 'LowerStretching': 179.68063354492188, 'Gaming': 166.4922637939453, 'Talking': 153.10263061523438, 'Gesticuling': 155.83628845214844, 'Greeting': 175.3376007080078, 'Patting': 147.79551696777344}, 'UpperBody': {'All': 171.55030822753906, 'UpperStretching': 178.20164489746094, 'Reacting': 137.84506225585938, 'Walking': 166.93809509277344, 'LowerStretching': 156.1816864013672, 'Gaming': 175.50892639160156, 'Talking': 186.5844268798828, 'Gesticuling': 171.18251037597656, 'Greeting': 226.4347686767578, 'Patting': 152.14764404296875}, 'LowerBody': {'All': 178.65597534179688, 'UpperStretching': 179.26573181152344, 'Reacting': 123.75514221191406, 'Walking': 180.09228515625, 'LowerStretching': 203.17962646484375, 'Gaming': 157.47560119628906, 'Talking': 119.62083435058594, 'Gesticuling': 140.4900665283203, 'Greeting': 124.24047088623047, 'Patting': 143.44338989257812}}\n"
     ]
    },
    {
     "name": "stderr",
     "output_type": "stream",
     "text": [
      " 49%|████▊     | 2601/5352 [06:11<06:38,  6.90it/s]"
     ]
    },
    {
     "name": "stdout",
     "output_type": "stream",
     "text": [
      "{'FullBody': {'All': 175.15017700195312, 'UpperStretching': 178.6908721923828, 'Reacting': 131.20819091796875, 'Walking': 174.02735900878906, 'LowerStretching': 179.68614196777344, 'Gaming': 166.87506103515625, 'Talking': 153.01283264160156, 'Gesticuling': 156.0924530029297, 'Greeting': 174.79159545898438, 'Patting': 148.13462829589844}, 'UpperBody': {'All': 171.6046142578125, 'UpperStretching': 178.1522674560547, 'Reacting': 138.10745239257812, 'Walking': 167.18556213378906, 'LowerStretching': 156.30001831054688, 'Gaming': 175.83285522460938, 'Talking': 186.29708862304688, 'Gesticuling': 171.81924438476562, 'Greeting': 225.64599609375, 'Patting': 152.8970489501953}, 'LowerBody': {'All': 178.69577026367188, 'UpperStretching': 179.2294464111328, 'Reacting': 124.30892944335938, 'Walking': 180.86917114257812, 'LowerStretching': 203.07225036621094, 'Gaming': 157.91725158691406, 'Talking': 119.72856140136719, 'Gesticuling': 140.36566162109375, 'Greeting': 123.93718719482422, 'Patting': 143.3721923828125}}\n"
     ]
    },
    {
     "name": "stderr",
     "output_type": "stream",
     "text": [
      " 52%|█████▏    | 2801/5352 [06:39<06:00,  7.08it/s]"
     ]
    },
    {
     "name": "stdout",
     "output_type": "stream",
     "text": [
      "{'FullBody': {'All': 175.07455444335938, 'UpperStretching': 178.59288024902344, 'Reacting': 131.44122314453125, 'Walking': 174.17422485351562, 'LowerStretching': 179.65994262695312, 'Gaming': 166.1163787841797, 'Talking': 152.94223022460938, 'Gesticuling': 156.22024536132812, 'Greeting': 174.5775909423828, 'Patting': 148.25653076171875}, 'UpperBody': {'All': 171.54159545898438, 'UpperStretching': 178.04356384277344, 'Reacting': 138.21507263183594, 'Walking': 167.3170623779297, 'LowerStretching': 156.40733337402344, 'Gaming': 175.4977569580078, 'Talking': 186.90614318847656, 'Gesticuling': 171.7729034423828, 'Greeting': 225.14195251464844, 'Patting': 152.71340942382812}, 'LowerBody': {'All': 178.60752868652344, 'UpperStretching': 179.14218139648438, 'Reacting': 124.6673355102539, 'Walking': 181.0313720703125, 'LowerStretching': 202.91253662109375, 'Gaming': 156.73501586914062, 'Talking': 118.97828674316406, 'Gesticuling': 140.66758728027344, 'Greeting': 124.01324462890625, 'Patting': 143.79965209960938}}\n"
     ]
    },
    {
     "name": "stderr",
     "output_type": "stream",
     "text": [
      " 56%|█████▌    | 3001/5352 [07:07<05:24,  7.25it/s]"
     ]
    },
    {
     "name": "stdout",
     "output_type": "stream",
     "text": [
      "{'FullBody': {'All': 175.02584838867188, 'UpperStretching': 178.58079528808594, 'Reacting': 131.56141662597656, 'Walking': 174.149169921875, 'LowerStretching': 179.5449676513672, 'Gaming': 165.78211975097656, 'Talking': 152.8166046142578, 'Gesticuling': 155.88626098632812, 'Greeting': 174.64443969726562, 'Patting': 148.3447723388672}, 'UpperBody': {'All': 171.4468231201172, 'UpperStretching': 178.00550842285156, 'Reacting': 138.7649383544922, 'Walking': 167.21591186523438, 'LowerStretching': 156.0933380126953, 'Gaming': 174.92189025878906, 'Talking': 186.40061950683594, 'Gesticuling': 170.97750854492188, 'Greeting': 225.46585083007812, 'Patting': 152.5550994873047}, 'LowerBody': {'All': 178.60491943359375, 'UpperStretching': 179.1560821533203, 'Reacting': 124.35791015625, 'Walking': 181.08241271972656, 'LowerStretching': 202.99659729003906, 'Gaming': 156.642333984375, 'Talking': 119.23257446289062, 'Gesticuling': 140.79502868652344, 'Greeting': 123.82307434082031, 'Patting': 144.13441467285156}}\n"
     ]
    },
    {
     "name": "stderr",
     "output_type": "stream",
     "text": [
      " 60%|█████▉    | 3201/5352 [07:36<05:16,  6.80it/s]"
     ]
    },
    {
     "name": "stdout",
     "output_type": "stream",
     "text": [
      "{'FullBody': {'All': 175.025390625, 'UpperStretching': 178.58035278320312, 'Reacting': 131.71961975097656, 'Walking': 174.2600555419922, 'LowerStretching': 179.6260223388672, 'Gaming': 165.67884826660156, 'Talking': 152.4598388671875, 'Gesticuling': 155.70748901367188, 'Greeting': 174.07574462890625, 'Patting': 148.61581420898438}, 'UpperBody': {'All': 171.40113830566406, 'UpperStretching': 177.89553833007812, 'Reacting': 138.67544555664062, 'Walking': 167.36146545410156, 'LowerStretching': 156.195556640625, 'Gaming': 174.73626708984375, 'Talking': 186.1336212158203, 'Gesticuling': 170.885009765625, 'Greeting': 224.86196899414062, 'Patting': 153.466064453125}, 'LowerBody': {'All': 178.64967346191406, 'UpperStretching': 179.26519775390625, 'Reacting': 124.76380157470703, 'Walking': 181.15863037109375, 'LowerStretching': 203.05650329589844, 'Gaming': 156.6214141845703, 'Talking': 118.78604125976562, 'Gesticuling': 140.5299530029297, 'Greeting': 123.2895278930664, 'Patting': 143.76560974121094}}\n"
     ]
    },
    {
     "name": "stderr",
     "output_type": "stream",
     "text": [
      " 64%|██████▎   | 3401/5352 [08:04<04:30,  7.23it/s]"
     ]
    },
    {
     "name": "stdout",
     "output_type": "stream",
     "text": [
      "{'FullBody': {'All': 174.94927978515625, 'UpperStretching': 178.5170135498047, 'Reacting': 131.53060913085938, 'Walking': 174.10121154785156, 'LowerStretching': 179.65956115722656, 'Gaming': 165.68907165527344, 'Talking': 152.223876953125, 'Gesticuling': 155.68043518066406, 'Greeting': 173.96820068359375, 'Patting': 148.249267578125}, 'UpperBody': {'All': 171.32569885253906, 'UpperStretching': 177.7806854248047, 'Reacting': 138.3165740966797, 'Walking': 167.26022338867188, 'LowerStretching': 156.47750854492188, 'Gaming': 174.54153442382812, 'Talking': 185.55667114257812, 'Gesticuling': 170.7179718017578, 'Greeting': 224.70608520507812, 'Patting': 153.3511199951172}, 'LowerBody': {'All': 178.57286071777344, 'UpperStretching': 179.2533416748047, 'Reacting': 124.74464416503906, 'Walking': 180.94224548339844, 'LowerStretching': 202.8416290283203, 'Gaming': 156.83657836914062, 'Talking': 118.89110565185547, 'Gesticuling': 140.64291381835938, 'Greeting': 123.23030090332031, 'Patting': 143.1474151611328}}\n"
     ]
    },
    {
     "name": "stderr",
     "output_type": "stream",
     "text": [
      " 67%|██████▋   | 3601/5352 [08:32<04:05,  7.14it/s]"
     ]
    },
    {
     "name": "stdout",
     "output_type": "stream",
     "text": [
      "{'FullBody': {'All': 174.95169067382812, 'UpperStretching': 178.5420379638672, 'Reacting': 131.4356231689453, 'Walking': 174.14979553222656, 'LowerStretching': 179.56614685058594, 'Gaming': 165.68051147460938, 'Talking': 152.31478881835938, 'Gesticuling': 155.8698272705078, 'Greeting': 173.9780731201172, 'Patting': 148.62548828125}, 'UpperBody': {'All': 171.33792114257812, 'UpperStretching': 177.75462341308594, 'Reacting': 138.22659301757812, 'Walking': 167.2921600341797, 'LowerStretching': 156.4317626953125, 'Gaming': 175.01617431640625, 'Talking': 186.0216064453125, 'Gesticuling': 171.05349731445312, 'Greeting': 224.9391632080078, 'Patting': 153.59996032714844}, 'LowerBody': {'All': 178.5654754638672, 'UpperStretching': 179.32943725585938, 'Reacting': 124.6446533203125, 'Walking': 181.00741577148438, 'LowerStretching': 202.70053100585938, 'Gaming': 156.34481811523438, 'Talking': 118.6080093383789, 'Gesticuling': 140.6861572265625, 'Greeting': 123.01702117919922, 'Patting': 143.65106201171875}}\n"
     ]
    },
    {
     "name": "stderr",
     "output_type": "stream",
     "text": [
      " 71%|███████   | 3801/5352 [09:00<03:48,  6.80it/s]"
     ]
    },
    {
     "name": "stdout",
     "output_type": "stream",
     "text": [
      "{'FullBody': {'All': 174.89048767089844, 'UpperStretching': 178.4681396484375, 'Reacting': 130.99351501464844, 'Walking': 173.9017791748047, 'LowerStretching': 179.7147979736328, 'Gaming': 165.69862365722656, 'Talking': 152.2733917236328, 'Gesticuling': 155.7544708251953, 'Greeting': 174.05809020996094, 'Patting': 148.184814453125}, 'UpperBody': {'All': 171.31289672851562, 'UpperStretching': 177.75204467773438, 'Reacting': 137.7763671875, 'Walking': 167.1799774169922, 'LowerStretching': 156.5797882080078, 'Gaming': 174.57879638671875, 'Talking': 186.15635681152344, 'Gesticuling': 170.4810028076172, 'Greeting': 225.2946014404297, 'Patting': 153.06942749023438}, 'LowerBody': {'All': 178.4680938720703, 'UpperStretching': 179.1842498779297, 'Reacting': 124.21063995361328, 'Walking': 180.62359619140625, 'LowerStretching': 202.84982299804688, 'Gaming': 156.8184356689453, 'Talking': 118.39042663574219, 'Gesticuling': 141.02793884277344, 'Greeting': 122.82161712646484, 'Patting': 143.30020141601562}}\n"
     ]
    },
    {
     "name": "stderr",
     "output_type": "stream",
     "text": [
      " 75%|███████▍  | 4001/5352 [09:28<03:15,  6.91it/s]"
     ]
    },
    {
     "name": "stdout",
     "output_type": "stream",
     "text": [
      "{'FullBody': {'All': 174.81475830078125, 'UpperStretching': 178.3903350830078, 'Reacting': 131.14459228515625, 'Walking': 173.74819946289062, 'LowerStretching': 179.7238311767578, 'Gaming': 165.87086486816406, 'Talking': 152.3035430908203, 'Gesticuling': 155.683349609375, 'Greeting': 174.17276000976562, 'Patting': 147.8953094482422}, 'UpperBody': {'All': 171.26412963867188, 'UpperStretching': 177.67230224609375, 'Reacting': 137.91232299804688, 'Walking': 167.02760314941406, 'LowerStretching': 156.5576629638672, 'Gaming': 175.032470703125, 'Talking': 186.48306274414062, 'Gesticuling': 170.289794921875, 'Greeting': 224.89393615722656, 'Patting': 152.95034790039062}, 'LowerBody': {'All': 178.36541748046875, 'UpperStretching': 179.10836791992188, 'Reacting': 124.37686157226562, 'Walking': 180.4687957763672, 'LowerStretching': 202.88998413085938, 'Gaming': 156.70925903320312, 'Talking': 118.12406158447266, 'Gesticuling': 141.07691955566406, 'Greeting': 123.45156860351562, 'Patting': 142.84027099609375}}\n"
     ]
    },
    {
     "name": "stderr",
     "output_type": "stream",
     "text": [
      " 78%|███████▊  | 4201/5352 [09:56<02:43,  7.05it/s]"
     ]
    },
    {
     "name": "stdout",
     "output_type": "stream",
     "text": [
      "{'FullBody': {'All': 174.80007934570312, 'UpperStretching': 178.30418395996094, 'Reacting': 131.2947998046875, 'Walking': 173.68431091308594, 'LowerStretching': 179.9154815673828, 'Gaming': 166.1842803955078, 'Talking': 152.0039520263672, 'Gesticuling': 155.76539611816406, 'Greeting': 173.8250274658203, 'Patting': 147.9528045654297}, 'UpperBody': {'All': 171.30226135253906, 'UpperStretching': 177.69456481933594, 'Reacting': 138.16078186035156, 'Walking': 166.98744201660156, 'LowerStretching': 156.63465881347656, 'Gaming': 175.52243041992188, 'Talking': 185.77183532714844, 'Gesticuling': 170.23681640625, 'Greeting': 224.11390686035156, 'Patting': 153.25387573242188}, 'LowerBody': {'All': 178.2978973388672, 'UpperStretching': 178.91380310058594, 'Reacting': 124.42884063720703, 'Walking': 180.38116455078125, 'LowerStretching': 203.19630432128906, 'Gaming': 156.84613037109375, 'Talking': 118.23603057861328, 'Gesticuling': 141.2939910888672, 'Greeting': 123.53616333007812, 'Patting': 142.65174865722656}}\n"
     ]
    },
    {
     "name": "stderr",
     "output_type": "stream",
     "text": [
      " 82%|████████▏ | 4401/5352 [10:25<02:26,  6.47it/s]"
     ]
    },
    {
     "name": "stdout",
     "output_type": "stream",
     "text": [
      "{'FullBody': {'All': 174.74612426757812, 'UpperStretching': 178.220458984375, 'Reacting': 131.1481170654297, 'Walking': 173.57601928710938, 'LowerStretching': 179.98260498046875, 'Gaming': 166.4390106201172, 'Talking': 151.90435791015625, 'Gesticuling': 155.65016174316406, 'Greeting': 173.62362670898438, 'Patting': 147.94436645507812}, 'UpperBody': {'All': 171.28309631347656, 'UpperStretching': 177.66880798339844, 'Reacting': 137.8928680419922, 'Walking': 166.85618591308594, 'LowerStretching': 156.845947265625, 'Gaming': 175.58819580078125, 'Talking': 185.71246337890625, 'Gesticuling': 169.77182006835938, 'Greeting': 223.56980895996094, 'Patting': 153.03355407714844}, 'LowerBody': {'All': 178.2091827392578, 'UpperStretching': 178.7720947265625, 'Reacting': 124.40337371826172, 'Walking': 180.2958526611328, 'LowerStretching': 203.11924743652344, 'Gaming': 157.28981018066406, 'Talking': 118.09625244140625, 'Gesticuling': 141.5284881591797, 'Greeting': 123.67748260498047, 'Patting': 142.85516357421875}}\n"
     ]
    },
    {
     "name": "stderr",
     "output_type": "stream",
     "text": [
      " 86%|████████▌ | 4601/5352 [10:53<01:48,  6.92it/s]"
     ]
    },
    {
     "name": "stdout",
     "output_type": "stream",
     "text": [
      "{'FullBody': {'All': 174.71136474609375, 'UpperStretching': 178.15719604492188, 'Reacting': 131.2024383544922, 'Walking': 173.5656280517578, 'LowerStretching': 179.9271240234375, 'Gaming': 166.3512420654297, 'Talking': 151.9813995361328, 'Gesticuling': 155.55186462402344, 'Greeting': 173.57501220703125, 'Patting': 148.47850036621094}, 'UpperBody': {'All': 171.30191040039062, 'UpperStretching': 177.70181274414062, 'Reacting': 137.93783569335938, 'Walking': 166.85662841796875, 'LowerStretching': 156.75257873535156, 'Gaming': 175.6352081298828, 'Talking': 185.45230102539062, 'Gesticuling': 169.59481811523438, 'Greeting': 223.4041290283203, 'Patting': 153.4184112548828}, 'LowerBody': {'All': 178.12081909179688, 'UpperStretching': 178.61257934570312, 'Reacting': 124.46705627441406, 'Walking': 180.27462768554688, 'LowerStretching': 203.10166931152344, 'Gaming': 157.0672607421875, 'Talking': 118.510498046875, 'Gesticuling': 141.50889587402344, 'Greeting': 123.74592590332031, 'Patting': 143.53857421875}}\n"
     ]
    },
    {
     "name": "stderr",
     "output_type": "stream",
     "text": [
      " 90%|████████▉ | 4801/5352 [11:21<01:19,  6.92it/s]"
     ]
    },
    {
     "name": "stdout",
     "output_type": "stream",
     "text": [
      "{'FullBody': {'All': 174.6937255859375, 'UpperStretching': 178.1448211669922, 'Reacting': 131.1667022705078, 'Walking': 173.5596923828125, 'LowerStretching': 179.94789123535156, 'Gaming': 166.19776916503906, 'Talking': 151.8187713623047, 'Gesticuling': 155.60240173339844, 'Greeting': 173.9063720703125, 'Patting': 148.05079650878906}, 'UpperBody': {'All': 171.31866455078125, 'UpperStretching': 177.72100830078125, 'Reacting': 137.97256469726562, 'Walking': 166.8921356201172, 'LowerStretching': 156.86122131347656, 'Gaming': 175.25843811035156, 'Talking': 185.16256713867188, 'Gesticuling': 169.49395751953125, 'Greeting': 224.19488525390625, 'Patting': 152.8623504638672}, 'LowerBody': {'All': 178.06878662109375, 'UpperStretching': 178.56861877441406, 'Reacting': 124.36083984375, 'Walking': 180.22726440429688, 'LowerStretching': 203.03457641601562, 'Gaming': 157.1370849609375, 'Talking': 118.4749984741211, 'Gesticuling': 141.71083068847656, 'Greeting': 123.61784362792969, 'Patting': 143.2392578125}}\n"
     ]
    },
    {
     "name": "stderr",
     "output_type": "stream",
     "text": [
      " 93%|█████████▎| 5001/5352 [11:49<00:57,  6.07it/s]"
     ]
    },
    {
     "name": "stdout",
     "output_type": "stream",
     "text": [
      "{'FullBody': {'All': 174.6358184814453, 'UpperStretching': 178.1108856201172, 'Reacting': 131.24977111816406, 'Walking': 173.42608642578125, 'LowerStretching': 179.85557556152344, 'Gaming': 166.1020965576172, 'Talking': 151.9092559814453, 'Gesticuling': 155.4510498046875, 'Greeting': 173.68276977539062, 'Patting': 147.76922607421875}, 'UpperBody': {'All': 171.21649169921875, 'UpperStretching': 177.6604461669922, 'Reacting': 137.68406677246094, 'Walking': 166.79205322265625, 'LowerStretching': 156.74746704101562, 'Gaming': 175.0589599609375, 'Talking': 185.6603240966797, 'Gesticuling': 169.18292236328125, 'Greeting': 223.69882202148438, 'Patting': 152.6138458251953}, 'LowerBody': {'All': 178.05519104003906, 'UpperStretching': 178.56130981445312, 'Reacting': 124.81549072265625, 'Walking': 180.0601348876953, 'LowerStretching': 202.96365356445312, 'Gaming': 157.1452178955078, 'Talking': 118.158203125, 'Gesticuling': 141.7191619873047, 'Greeting': 123.66671752929688, 'Patting': 142.92459106445312}}\n"
     ]
    },
    {
     "name": "stderr",
     "output_type": "stream",
     "text": [
      " 97%|█████████▋| 5201/5352 [12:17<00:22,  6.61it/s]"
     ]
    },
    {
     "name": "stdout",
     "output_type": "stream",
     "text": [
      "{'FullBody': {'All': 174.61395263671875, 'UpperStretching': 178.06089782714844, 'Reacting': 131.50546264648438, 'Walking': 173.3258819580078, 'LowerStretching': 179.8966522216797, 'Gaming': 166.1089324951172, 'Talking': 151.66893005371094, 'Gesticuling': 155.3604278564453, 'Greeting': 173.4904022216797, 'Patting': 148.0113983154297}, 'UpperBody': {'All': 171.25686645507812, 'UpperStretching': 177.6791534423828, 'Reacting': 138.02210998535156, 'Walking': 166.70700073242188, 'LowerStretching': 156.91275024414062, 'Gaming': 174.8474578857422, 'Talking': 185.08169555664062, 'Gesticuling': 169.0301055908203, 'Greeting': 223.326416015625, 'Patting': 153.3640899658203}, 'LowerBody': {'All': 177.97108459472656, 'UpperStretching': 178.44259643554688, 'Reacting': 124.98880767822266, 'Walking': 179.94476318359375, 'LowerStretching': 202.88055419921875, 'Gaming': 157.3704071044922, 'Talking': 118.25614929199219, 'Gesticuling': 141.69073486328125, 'Greeting': 123.65436553955078, 'Patting': 142.65872192382812}}\n"
     ]
    },
    {
     "name": "stderr",
     "output_type": "stream",
     "text": [
      "100%|██████████| 5352/5352 [12:39<00:00,  7.05it/s]\n",
      "\u001b[94m08:46:29 \u001b[92m[INFO]\u001b[94m Main\u001b[0m: Saving evaluation results...\n",
      "\u001b[94m08:46:29 \u001b[92m[INFO]\u001b[94m Main\u001b[0m: Done.\n",
      "\u001b[94m08:46:29 \u001b[92m[INFO]\u001b[94m Main\u001b[0m: Starting demo...\n",
      "  0%|          | 0/5352 [00:00<?, ?it/s]/opt/conda/lib/python3.10/site-packages/torchvision/transforms/transforms.py:329: UserWarning: Argument 'interpolation' of type int is deprecated since 0.13 and will be removed in 0.15. Please use InterpolationMode enum.\n",
      "  warnings.warn(\n",
      "/opt/conda/lib/python3.10/site-packages/torchvision/transforms/transforms.py:329: UserWarning: Argument 'interpolation' of type int is deprecated since 0.13 and will be removed in 0.15. Please use InterpolationMode enum.\n",
      "  warnings.warn(\n",
      "/opt/conda/lib/python3.10/site-packages/torchvision/transforms/transforms.py:329: UserWarning: Argument 'interpolation' of type int is deprecated since 0.13 and will be removed in 0.15. Please use InterpolationMode enum.\n",
      "  warnings.warn(\n",
      "/opt/conda/lib/python3.10/site-packages/torchvision/transforms/transforms.py:329: UserWarning: Argument 'interpolation' of type int is deprecated since 0.13 and will be removed in 0.15. Please use InterpolationMode enum.\n",
      "  warnings.warn(\n",
      "/opt/conda/lib/python3.10/site-packages/torchvision/transforms/transforms.py:329: UserWarning: Argument 'interpolation' of type int is deprecated since 0.13 and will be removed in 0.15. Please use InterpolationMode enum.\n",
      "  warnings.warn(\n",
      "/opt/conda/lib/python3.10/site-packages/torchvision/transforms/transforms.py:329: UserWarning: Argument 'interpolation' of type int is deprecated since 0.13 and will be removed in 0.15. Please use InterpolationMode enum.\n",
      "  warnings.warn(\n",
      "/opt/conda/lib/python3.10/site-packages/torchvision/transforms/transforms.py:329: UserWarning: Argument 'interpolation' of type int is deprecated since 0.13 and will be removed in 0.15. Please use InterpolationMode enum.\n",
      "  warnings.warn(\n",
      "/opt/conda/lib/python3.10/site-packages/torchvision/transforms/transforms.py:329: UserWarning: Argument 'interpolation' of type int is deprecated since 0.13 and will be removed in 0.15. Please use InterpolationMode enum.\n",
      "  warnings.warn(\n",
      "/opt/conda/lib/python3.10/site-packages/torchvision/transforms/transforms.py:329: UserWarning: Argument 'interpolation' of type int is deprecated since 0.13 and will be removed in 0.15. Please use InterpolationMode enum.\n",
      "  warnings.warn(\n",
      "/opt/conda/lib/python3.10/site-packages/torchvision/transforms/transforms.py:329: UserWarning: Argument 'interpolation' of type int is deprecated since 0.13 and will be removed in 0.15. Please use InterpolationMode enum.\n",
      "  warnings.warn(\n",
      "/opt/conda/lib/python3.10/site-packages/torchvision/transforms/transforms.py:329: UserWarning: Argument 'interpolation' of type int is deprecated since 0.13 and will be removed in 0.15. Please use InterpolationMode enum.\n",
      "  warnings.warn(\n",
      "/opt/conda/lib/python3.10/site-packages/torchvision/transforms/transforms.py:329: UserWarning: Argument 'interpolation' of type int is deprecated since 0.13 and will be removed in 0.15. Please use InterpolationMode enum.\n",
      "  warnings.warn(\n",
      "/opt/conda/lib/python3.10/site-packages/torchvision/transforms/transforms.py:329: UserWarning: Argument 'interpolation' of type int is deprecated since 0.13 and will be removed in 0.15. Please use InterpolationMode enum.\n",
      "  warnings.warn(\n",
      "/opt/conda/lib/python3.10/site-packages/torchvision/transforms/transforms.py:329: UserWarning: Argument 'interpolation' of type int is deprecated since 0.13 and will be removed in 0.15. Please use InterpolationMode enum.\n",
      "  warnings.warn(\n",
      "/opt/conda/lib/python3.10/site-packages/torchvision/transforms/transforms.py:329: UserWarning: Argument 'interpolation' of type int is deprecated since 0.13 and will be removed in 0.15. Please use InterpolationMode enum.\n",
      "  warnings.warn(\n",
      "/opt/conda/lib/python3.10/site-packages/torchvision/transforms/transforms.py:329: UserWarning: Argument 'interpolation' of type int is deprecated since 0.13 and will be removed in 0.15. Please use InterpolationMode enum.\n",
      "  warnings.warn(\n",
      "/opt/conda/lib/python3.10/site-packages/torchvision/transforms/transforms.py:329: UserWarning: Argument 'interpolation' of type int is deprecated since 0.13 and will be removed in 0.15. Please use InterpolationMode enum.\n",
      "  warnings.warn(\n",
      "/opt/conda/lib/python3.10/site-packages/torchvision/transforms/transforms.py:329: UserWarning: Argument 'interpolation' of type int is deprecated since 0.13 and will be removed in 0.15. Please use InterpolationMode enum.\n",
      "  warnings.warn(\n",
      "/opt/conda/lib/python3.10/site-packages/torchvision/transforms/transforms.py:329: UserWarning: Argument 'interpolation' of type int is deprecated since 0.13 and will be removed in 0.15. Please use InterpolationMode enum.\n",
      "  warnings.warn(\n",
      "/opt/conda/lib/python3.10/site-packages/torchvision/transforms/transforms.py:329: UserWarning: Argument 'interpolation' of type int is deprecated since 0.13 and will be removed in 0.15. Please use InterpolationMode enum.\n",
      "  warnings.warn(\n",
      "/opt/conda/lib/python3.10/site-packages/torchvision/transforms/transforms.py:329: UserWarning: Argument 'interpolation' of type int is deprecated since 0.13 and will be removed in 0.15. Please use InterpolationMode enum.\n",
      "  warnings.warn(\n",
      "/opt/conda/lib/python3.10/site-packages/torchvision/transforms/transforms.py:329: UserWarning: Argument 'interpolation' of type int is deprecated since 0.13 and will be removed in 0.15. Please use InterpolationMode enum.\n",
      "  warnings.warn(\n",
      "/opt/conda/lib/python3.10/site-packages/torchvision/transforms/transforms.py:329: UserWarning: Argument 'interpolation' of type int is deprecated since 0.13 and will be removed in 0.15. Please use InterpolationMode enum.\n",
      "  warnings.warn(\n",
      "/opt/conda/lib/python3.10/site-packages/torchvision/transforms/transforms.py:329: UserWarning: Argument 'interpolation' of type int is deprecated since 0.13 and will be removed in 0.15. Please use InterpolationMode enum.\n",
      "  warnings.warn(\n",
      "  4%|▎         | 200/5352 [00:33<11:34,  7.42it/s]"
     ]
    },
    {
     "name": "stdout",
     "output_type": "stream",
     "text": [
      "{'FullBody': {'All': 127.21965026855469, 'UpperStretching': 129.59788513183594, 'Talking': 101.88346099853516, 'LowerStretching': 134.43174743652344, 'Walking': 128.2621307373047, 'Reacting': 98.366943359375, 'Gaming': 111.37987518310547, 'Gesticuling': 102.20549011230469, 'Patting': 115.69599151611328, 'Greeting': 104.99552917480469}, 'UpperBody': {'All': 124.92071533203125, 'UpperStretching': 131.01182556152344, 'Talking': 116.3075942993164, 'LowerStretching': 118.9378433227539, 'Walking': 125.12010192871094, 'Reacting': 96.0960464477539, 'Gaming': 114.8912124633789, 'Gesticuling': 96.6891098022461, 'Patting': 108.39318084716797, 'Greeting': 118.38467407226562}, 'LowerBody': {'All': 129.5186004638672, 'UpperStretching': 128.18394470214844, 'Talking': 87.45931243896484, 'LowerStretching': 149.92567443847656, 'Walking': 131.4041748046875, 'Reacting': 100.63783264160156, 'Gaming': 107.86854553222656, 'Gesticuling': 107.72184753417969, 'Patting': 122.99879455566406, 'Greeting': 91.60636138916016}}\n"
     ]
    },
    {
     "name": "stderr",
     "output_type": "stream",
     "text": [
      "  7%|▋         | 401/5352 [01:02<11:17,  7.31it/s]"
     ]
    },
    {
     "name": "stdout",
     "output_type": "stream",
     "text": [
      "{'FullBody': {'All': 127.7307357788086, 'UpperStretching': 129.15541076660156, 'Talking': 103.69446563720703, 'LowerStretching': 134.9448699951172, 'Walking': 130.94900512695312, 'Reacting': 99.2933120727539, 'Gaming': 113.34558868408203, 'Gesticuling': 101.98172760009766, 'Patting': 118.52542877197266, 'Greeting': 104.44236755371094}, 'UpperBody': {'All': 124.65453338623047, 'UpperStretching': 130.56906127929688, 'Talking': 114.04208374023438, 'LowerStretching': 118.32687377929688, 'Walking': 124.31932830810547, 'Reacting': 95.3724365234375, 'Gaming': 114.08335876464844, 'Gesticuling': 99.2300033569336, 'Patting': 107.83802795410156, 'Greeting': 114.53067016601562}, 'LowerBody': {'All': 130.80694580078125, 'UpperStretching': 127.74177551269531, 'Talking': 93.34685516357422, 'LowerStretching': 151.56285095214844, 'Walking': 137.57867431640625, 'Reacting': 103.21417999267578, 'Gaming': 112.60780334472656, 'Gesticuling': 104.73342895507812, 'Patting': 129.21282958984375, 'Greeting': 94.35407257080078}}\n"
     ]
    },
    {
     "name": "stderr",
     "output_type": "stream",
     "text": [
      " 11%|█         | 601/5352 [01:29<10:47,  7.34it/s]"
     ]
    },
    {
     "name": "stdout",
     "output_type": "stream",
     "text": [
      "{'FullBody': {'All': 127.8835678100586, 'UpperStretching': 129.5310821533203, 'Talking': 103.75347137451172, 'LowerStretching': 134.62867736816406, 'Walking': 130.44674682617188, 'Reacting': 99.34355926513672, 'Gaming': 113.9052963256836, 'Gesticuling': 100.0474853515625, 'Patting': 119.17745208740234, 'Greeting': 102.95892333984375}, 'UpperBody': {'All': 124.75786590576172, 'UpperStretching': 131.08209228515625, 'Talking': 113.01243591308594, 'LowerStretching': 117.86880493164062, 'Walking': 123.97596740722656, 'Reacting': 93.55319213867188, 'Gaming': 112.15751647949219, 'Gesticuling': 98.42239379882812, 'Patting': 106.06631469726562, 'Greeting': 115.88971710205078}, 'LowerBody': {'All': 131.00927734375, 'UpperStretching': 127.98011779785156, 'Talking': 94.49451446533203, 'LowerStretching': 151.38856506347656, 'Walking': 136.91751098632812, 'Reacting': 105.1339111328125, 'Gaming': 115.65309143066406, 'Gesticuling': 101.67256164550781, 'Patting': 132.28858947753906, 'Greeting': 90.02814483642578}}\n"
     ]
    },
    {
     "name": "stderr",
     "output_type": "stream",
     "text": [
      " 15%|█▍        | 801/5352 [01:57<11:55,  6.36it/s]"
     ]
    },
    {
     "name": "stdout",
     "output_type": "stream",
     "text": [
      "{'FullBody': {'All': 127.7637710571289, 'UpperStretching': 129.2778778076172, 'Talking': 103.60749053955078, 'LowerStretching': 134.91964721679688, 'Walking': 129.96681213378906, 'Reacting': 101.11601257324219, 'Gaming': 113.16653442382812, 'Gesticuling': 99.97003936767578, 'Patting': 121.44583892822266, 'Greeting': 102.33319854736328}, 'UpperBody': {'All': 124.71701049804688, 'UpperStretching': 131.02685546875, 'Talking': 113.47966003417969, 'LowerStretching': 117.70001983642578, 'Walking': 123.56816864013672, 'Reacting': 94.21713256835938, 'Gaming': 111.85073852539062, 'Gesticuling': 98.28468322753906, 'Patting': 108.52067565917969, 'Greeting': 114.04330444335938}, 'LowerBody': {'All': 130.81053161621094, 'UpperStretching': 127.52890014648438, 'Talking': 93.73531341552734, 'LowerStretching': 152.13931274414062, 'Walking': 136.365478515625, 'Reacting': 108.01490783691406, 'Gaming': 114.48231506347656, 'Gesticuling': 101.65538024902344, 'Patting': 134.37098693847656, 'Greeting': 90.62307739257812}}\n"
     ]
    },
    {
     "name": "stderr",
     "output_type": "stream",
     "text": [
      " 19%|█▊        | 1001/5352 [02:25<10:05,  7.18it/s]"
     ]
    },
    {
     "name": "stdout",
     "output_type": "stream",
     "text": [
      "{'FullBody': {'All': 127.67764282226562, 'UpperStretching': 129.13327026367188, 'Talking': 103.42375946044922, 'LowerStretching': 134.89183044433594, 'Walking': 129.72242736816406, 'Reacting': 101.6734619140625, 'Gaming': 113.27638244628906, 'Gesticuling': 100.33647918701172, 'Patting': 120.67750549316406, 'Greeting': 101.73331451416016}, 'UpperBody': {'All': 124.45919036865234, 'UpperStretching': 130.70068359375, 'Talking': 114.1661148071289, 'LowerStretching': 117.62734985351562, 'Walking': 123.43660736083984, 'Reacting': 94.29267883300781, 'Gaming': 111.63255310058594, 'Gesticuling': 98.76593780517578, 'Patting': 105.57301330566406, 'Greeting': 113.63959503173828}, 'LowerBody': {'All': 130.89608764648438, 'UpperStretching': 127.56585693359375, 'Talking': 92.681396484375, 'LowerStretching': 152.15634155273438, 'Walking': 136.00823974609375, 'Reacting': 109.05426025390625, 'Gaming': 114.92021179199219, 'Gesticuling': 101.90702819824219, 'Patting': 135.781982421875, 'Greeting': 89.82704162597656}}\n"
     ]
    },
    {
     "name": "stderr",
     "output_type": "stream",
     "text": [
      " 22%|██▏       | 1201/5352 [02:53<09:19,  7.42it/s]"
     ]
    },
    {
     "name": "stdout",
     "output_type": "stream",
     "text": [
      "{'FullBody': {'All': 127.76911163330078, 'UpperStretching': 129.16371154785156, 'Talking': 103.82476806640625, 'LowerStretching': 134.9652862548828, 'Walking': 129.92108154296875, 'Reacting': 101.5535659790039, 'Gaming': 113.78053283691406, 'Gesticuling': 100.54679107666016, 'Patting': 120.47862243652344, 'Greeting': 101.50841522216797}, 'UpperBody': {'All': 124.39790344238281, 'UpperStretching': 130.59751892089844, 'Talking': 114.16063690185547, 'LowerStretching': 117.90930938720703, 'Walking': 123.3475570678711, 'Reacting': 94.02072143554688, 'Gaming': 111.59138488769531, 'Gesticuling': 98.05992889404297, 'Patting': 104.5028305053711, 'Greeting': 113.31500244140625}, 'LowerBody': {'All': 131.1403045654297, 'UpperStretching': 127.72988891601562, 'Talking': 93.48890686035156, 'LowerStretching': 152.021240234375, 'Walking': 136.49459838867188, 'Reacting': 109.08641052246094, 'Gaming': 115.96966552734375, 'Gesticuling': 103.03365325927734, 'Patting': 136.45443725585938, 'Greeting': 89.70182037353516}}\n"
     ]
    },
    {
     "name": "stderr",
     "output_type": "stream",
     "text": [
      " 26%|██▌       | 1401/5352 [03:21<10:22,  6.34it/s]"
     ]
    },
    {
     "name": "stdout",
     "output_type": "stream",
     "text": [
      "{'FullBody': {'All': 127.883056640625, 'UpperStretching': 129.3347625732422, 'Talking': 104.04219055175781, 'LowerStretching': 134.9266815185547, 'Walking': 129.8903045654297, 'Reacting': 101.90145111083984, 'Gaming': 112.93621063232422, 'Gesticuling': 100.43850708007812, 'Patting': 121.88176727294922, 'Greeting': 101.73059844970703}, 'UpperBody': {'All': 124.49838256835938, 'UpperStretching': 130.70364379882812, 'Talking': 114.6848373413086, 'LowerStretching': 118.15258026123047, 'Walking': 123.2418441772461, 'Reacting': 93.88501739501953, 'Gaming': 111.35594940185547, 'Gesticuling': 98.2046890258789, 'Patting': 105.78933715820312, 'Greeting': 114.0397720336914}, 'LowerBody': {'All': 131.26773071289062, 'UpperStretching': 127.96588134765625, 'Talking': 93.3995361328125, 'LowerStretching': 151.70079040527344, 'Walking': 136.5387725830078, 'Reacting': 109.91788482666016, 'Gaming': 114.51646423339844, 'Gesticuling': 102.67231750488281, 'Patting': 137.97418212890625, 'Greeting': 89.42144775390625}}\n"
     ]
    },
    {
     "name": "stderr",
     "output_type": "stream",
     "text": [
      " 30%|██▉       | 1601/5352 [03:49<08:38,  7.23it/s]"
     ]
    },
    {
     "name": "stdout",
     "output_type": "stream",
     "text": [
      "{'FullBody': {'All': 128.02789306640625, 'UpperStretching': 129.46888732910156, 'Talking': 104.06874084472656, 'LowerStretching': 135.2164306640625, 'Walking': 129.93499755859375, 'Reacting': 101.79666900634766, 'Gaming': 113.46417999267578, 'Gesticuling': 100.37019348144531, 'Patting': 122.08876037597656, 'Greeting': 102.16067504882812}, 'UpperBody': {'All': 124.71536254882812, 'UpperStretching': 130.83358764648438, 'Talking': 115.24173736572266, 'LowerStretching': 118.55245208740234, 'Walking': 123.44343566894531, 'Reacting': 94.19914245605469, 'Gaming': 111.44074249267578, 'Gesticuling': 98.2580337524414, 'Patting': 106.33009338378906, 'Greeting': 114.87705993652344}, 'LowerBody': {'All': 131.34039306640625, 'UpperStretching': 128.1042022705078, 'Talking': 92.89574432373047, 'LowerStretching': 151.8804473876953, 'Walking': 136.42660522460938, 'Reacting': 109.39419555664062, 'Gaming': 115.48760223388672, 'Gesticuling': 102.48234558105469, 'Patting': 137.847412109375, 'Greeting': 89.44430541992188}}\n"
     ]
    },
    {
     "name": "stderr",
     "output_type": "stream",
     "text": [
      " 34%|███▎      | 1801/5352 [04:17<08:12,  7.21it/s]"
     ]
    },
    {
     "name": "stdout",
     "output_type": "stream",
     "text": [
      "{'FullBody': {'All': 128.03440856933594, 'UpperStretching': 129.42825317382812, 'Talking': 103.66816711425781, 'LowerStretching': 135.1698760986328, 'Walking': 130.0045166015625, 'Reacting': 101.9601058959961, 'Gaming': 113.79717254638672, 'Gesticuling': 100.88662719726562, 'Patting': 124.0894775390625, 'Greeting': 102.33318328857422}, 'UpperBody': {'All': 124.69397735595703, 'UpperStretching': 130.77987670898438, 'Talking': 114.90943145751953, 'LowerStretching': 118.62653350830078, 'Walking': 123.18645477294922, 'Reacting': 93.98824310302734, 'Gaming': 111.41116333007812, 'Gesticuling': 98.79328918457031, 'Patting': 107.2787857055664, 'Greeting': 115.6063232421875}, 'LowerBody': {'All': 131.3748321533203, 'UpperStretching': 128.0765838623047, 'Talking': 92.42689514160156, 'LowerStretching': 151.7132110595703, 'Walking': 136.8225555419922, 'Reacting': 109.9319839477539, 'Gaming': 116.18316650390625, 'Gesticuling': 102.97996520996094, 'Patting': 140.900146484375, 'Greeting': 89.06002807617188}}\n"
     ]
    },
    {
     "name": "stderr",
     "output_type": "stream",
     "text": [
      " 37%|███▋      | 2001/5352 [04:45<07:40,  7.28it/s]"
     ]
    },
    {
     "name": "stdout",
     "output_type": "stream",
     "text": [
      "{'FullBody': {'All': 127.98451232910156, 'UpperStretching': 129.43093872070312, 'Talking': 103.46572875976562, 'LowerStretching': 134.91770935058594, 'Walking': 129.73843383789062, 'Reacting': 102.16346740722656, 'Gaming': 114.20975494384766, 'Gesticuling': 101.0391616821289, 'Patting': 124.14160919189453, 'Greeting': 102.94488525390625}, 'UpperBody': {'All': 124.6662826538086, 'UpperStretching': 130.80706787109375, 'Talking': 114.82428741455078, 'LowerStretching': 118.60388946533203, 'Walking': 122.87785339355469, 'Reacting': 93.81220245361328, 'Gaming': 111.74297332763672, 'Gesticuling': 98.93927764892578, 'Patting': 107.00392150878906, 'Greeting': 115.55582427978516}, 'LowerBody': {'All': 131.30271911621094, 'UpperStretching': 128.05477905273438, 'Talking': 92.107177734375, 'LowerStretching': 151.23153686523438, 'Walking': 136.59898376464844, 'Reacting': 110.51473236083984, 'Gaming': 116.67652893066406, 'Gesticuling': 103.13904571533203, 'Patting': 141.279296875, 'Greeting': 90.3339614868164}}\n"
     ]
    },
    {
     "name": "stderr",
     "output_type": "stream",
     "text": [
      " 41%|████      | 2201/5352 [05:13<07:22,  7.12it/s]"
     ]
    },
    {
     "name": "stdout",
     "output_type": "stream",
     "text": [
      "{'FullBody': {'All': 127.8876724243164, 'UpperStretching': 129.359619140625, 'Talking': 103.24446105957031, 'LowerStretching': 134.81344604492188, 'Walking': 129.79039001464844, 'Reacting': 102.09040832519531, 'Gaming': 113.70096588134766, 'Gesticuling': 101.14359283447266, 'Patting': 122.96537780761719, 'Greeting': 103.09369659423828}, 'UpperBody': {'All': 124.59085083007812, 'UpperStretching': 130.77825927734375, 'Talking': 114.71800994873047, 'LowerStretching': 118.57624816894531, 'Walking': 122.91514587402344, 'Reacting': 93.8336181640625, 'Gaming': 111.46298217773438, 'Gesticuling': 98.80360412597656, 'Patting': 105.85787200927734, 'Greeting': 115.36336517333984}, 'LowerBody': {'All': 131.1844940185547, 'UpperStretching': 127.94095611572266, 'Talking': 91.77091979980469, 'LowerStretching': 151.0506134033203, 'Walking': 136.66563415527344, 'Reacting': 110.3471908569336, 'Gaming': 115.93894958496094, 'Gesticuling': 103.48359680175781, 'Patting': 140.0728759765625, 'Greeting': 90.82405090332031}}\n"
     ]
    },
    {
     "name": "stderr",
     "output_type": "stream",
     "text": [
      " 45%|████▍     | 2401/5352 [05:41<06:43,  7.31it/s]"
     ]
    },
    {
     "name": "stdout",
     "output_type": "stream",
     "text": [
      "{'FullBody': {'All': 127.91682434082031, 'UpperStretching': 129.45053100585938, 'Talking': 103.1668930053711, 'LowerStretching': 134.84341430664062, 'Walking': 129.85105895996094, 'Reacting': 102.52979278564453, 'Gaming': 113.8371810913086, 'Gesticuling': 101.0108871459961, 'Patting': 122.57185363769531, 'Greeting': 102.49830627441406}, 'UpperBody': {'All': 124.6359634399414, 'UpperStretching': 130.8937530517578, 'Talking': 114.92742156982422, 'LowerStretching': 118.78314208984375, 'Walking': 122.77489471435547, 'Reacting': 93.88912200927734, 'Gaming': 111.23219299316406, 'Gesticuling': 98.6366958618164, 'Patting': 105.51380157470703, 'Greeting': 114.88631439208984}, 'LowerBody': {'All': 131.1976776123047, 'UpperStretching': 128.00732421875, 'Talking': 91.40637969970703, 'LowerStretching': 150.9036865234375, 'Walking': 136.92724609375, 'Reacting': 111.17046356201172, 'Gaming': 116.44216918945312, 'Gesticuling': 103.38508605957031, 'Patting': 139.6299285888672, 'Greeting': 90.11029052734375}}\n"
     ]
    },
    {
     "name": "stderr",
     "output_type": "stream",
     "text": [
      " 49%|████▊     | 2600/5352 [06:09<06:26,  7.12it/s]"
     ]
    },
    {
     "name": "stdout",
     "output_type": "stream",
     "text": [
      "{'FullBody': {'All': 127.91548919677734, 'UpperStretching': 129.475341796875, 'Talking': 103.63951873779297, 'LowerStretching': 134.78173828125, 'Walking': 129.7237548828125, 'Reacting': 102.5680160522461, 'Gaming': 114.14641571044922, 'Gesticuling': 101.04096984863281, 'Patting': 122.08765411376953, 'Greeting': 102.9122314453125}, 'UpperBody': {'All': 124.65409851074219, 'UpperStretching': 130.9134979248047, 'Talking': 115.16777801513672, 'LowerStretching': 118.78414154052734, 'Walking': 122.72872924804688, 'Reacting': 94.09748077392578, 'Gaming': 111.05448150634766, 'Gesticuling': 98.61614227294922, 'Patting': 105.2335205078125, 'Greeting': 115.23320007324219}, 'LowerBody': {'All': 131.1768798828125, 'UpperStretching': 128.03717041015625, 'Talking': 92.11125183105469, 'LowerStretching': 150.77932739257812, 'Walking': 136.7187957763672, 'Reacting': 111.0385513305664, 'Gaming': 117.23834228515625, 'Gesticuling': 103.46578979492188, 'Patting': 138.9418182373047, 'Greeting': 90.59126281738281}}\n"
     ]
    },
    {
     "name": "stderr",
     "output_type": "stream",
     "text": [
      " 52%|█████▏    | 2801/5352 [06:38<05:57,  7.14it/s]"
     ]
    },
    {
     "name": "stdout",
     "output_type": "stream",
     "text": [
      "{'FullBody': {'All': 127.90851593017578, 'UpperStretching': 129.48745727539062, 'Talking': 103.38526916503906, 'LowerStretching': 134.68548583984375, 'Walking': 129.74913024902344, 'Reacting': 102.64486694335938, 'Gaming': 114.51017761230469, 'Gesticuling': 100.86917877197266, 'Patting': 121.6689453125, 'Greeting': 102.90573120117188}, 'UpperBody': {'All': 124.67597961425781, 'UpperStretching': 130.9344482421875, 'Talking': 114.96074676513672, 'LowerStretching': 118.70923614501953, 'Walking': 122.84526062011719, 'Reacting': 94.47136688232422, 'Gaming': 111.19738006591797, 'Gesticuling': 98.66583251953125, 'Patting': 104.89012908935547, 'Greeting': 115.28573608398438}, 'LowerBody': {'All': 131.14105224609375, 'UpperStretching': 128.0404510498047, 'Talking': 91.8097915649414, 'LowerStretching': 150.66175842285156, 'Walking': 136.6530303955078, 'Reacting': 110.8183822631836, 'Gaming': 117.8229751586914, 'Gesticuling': 103.07251739501953, 'Patting': 138.44775390625, 'Greeting': 90.52572631835938}}\n"
     ]
    },
    {
     "name": "stderr",
     "output_type": "stream",
     "text": [
      " 56%|█████▌    | 3001/5352 [07:05<05:40,  6.91it/s]"
     ]
    },
    {
     "name": "stdout",
     "output_type": "stream",
     "text": [
      "{'FullBody': {'All': 127.87989807128906, 'UpperStretching': 129.53533935546875, 'Talking': 103.32771301269531, 'LowerStretching': 134.65914916992188, 'Walking': 129.6982879638672, 'Reacting': 102.56016540527344, 'Gaming': 114.17601013183594, 'Gesticuling': 100.78704833984375, 'Patting': 121.30429077148438, 'Greeting': 102.68037414550781}, 'UpperBody': {'All': 124.67789459228516, 'UpperStretching': 131.0063018798828, 'Talking': 114.62506866455078, 'LowerStretching': 118.70501708984375, 'Walking': 122.6917495727539, 'Reacting': 94.65184783935547, 'Gaming': 110.9949722290039, 'Gesticuling': 98.81512451171875, 'Patting': 104.9677505493164, 'Greeting': 115.18500518798828}, 'LowerBody': {'All': 131.08189392089844, 'UpperStretching': 128.0643768310547, 'Talking': 92.03036499023438, 'LowerStretching': 150.61328125, 'Walking': 136.70481872558594, 'Reacting': 110.4684829711914, 'Gaming': 117.35704040527344, 'Gesticuling': 102.75896453857422, 'Patting': 137.64085388183594, 'Greeting': 90.17574310302734}}\n"
     ]
    },
    {
     "name": "stderr",
     "output_type": "stream",
     "text": [
      " 60%|█████▉    | 3200/5352 [07:34<05:10,  6.94it/s]"
     ]
    },
    {
     "name": "stdout",
     "output_type": "stream",
     "text": [
      "{'FullBody': {'All': 127.83336639404297, 'UpperStretching': 129.47329711914062, 'Talking': 103.383056640625, 'LowerStretching': 134.6193084716797, 'Walking': 129.58326721191406, 'Reacting': 102.83492279052734, 'Gaming': 113.96119689941406, 'Gesticuling': 100.88365173339844, 'Patting': 121.48114013671875, 'Greeting': 102.78787231445312}, 'UpperBody': {'All': 124.6687240600586, 'UpperStretching': 130.97203063964844, 'Talking': 114.72701263427734, 'LowerStretching': 118.70833587646484, 'Walking': 122.58763122558594, 'Reacting': 94.79373931884766, 'Gaming': 111.255126953125, 'Gesticuling': 98.73529815673828, 'Patting': 104.99034118652344, 'Greeting': 115.50682067871094}, 'LowerBody': {'All': 130.9980010986328, 'UpperStretching': 127.97451782226562, 'Talking': 92.03910827636719, 'LowerStretching': 150.5302734375, 'Walking': 136.57888793945312, 'Reacting': 110.87611389160156, 'Gaming': 116.66726684570312, 'Gesticuling': 103.03199768066406, 'Patting': 137.971923828125, 'Greeting': 90.06893157958984}}\n"
     ]
    },
    {
     "name": "stderr",
     "output_type": "stream",
     "text": [
      " 64%|██████▎   | 3401/5352 [08:02<04:50,  6.72it/s]"
     ]
    },
    {
     "name": "stdout",
     "output_type": "stream",
     "text": [
      "{'FullBody': {'All': 127.83733367919922, 'UpperStretching': 129.5213165283203, 'Talking': 104.09996795654297, 'LowerStretching': 134.56143188476562, 'Walking': 129.4977264404297, 'Reacting': 102.71985626220703, 'Gaming': 113.70021057128906, 'Gesticuling': 100.7893295288086, 'Patting': 121.20342254638672, 'Greeting': 103.10546112060547}, 'UpperBody': {'All': 124.65386199951172, 'UpperStretching': 131.02294921875, 'Talking': 114.95848846435547, 'LowerStretching': 118.6942367553711, 'Walking': 122.3533935546875, 'Reacting': 94.74200439453125, 'Gaming': 111.41661834716797, 'Gesticuling': 98.62427520751953, 'Patting': 104.62557983398438, 'Greeting': 116.16512298583984}, 'LowerBody': {'All': 131.0207977294922, 'UpperStretching': 128.01968383789062, 'Talking': 93.2414321899414, 'LowerStretching': 150.42861938476562, 'Walking': 136.64202880859375, 'Reacting': 110.69770050048828, 'Gaming': 115.98381042480469, 'Gesticuling': 102.95439147949219, 'Patting': 137.78126525878906, 'Greeting': 90.0457992553711}}\n"
     ]
    },
    {
     "name": "stderr",
     "output_type": "stream",
     "text": [
      " 67%|██████▋   | 3601/5352 [08:30<04:12,  6.94it/s]"
     ]
    },
    {
     "name": "stdout",
     "output_type": "stream",
     "text": [
      "{'FullBody': {'All': 127.85723114013672, 'UpperStretching': 129.5609893798828, 'Talking': 104.1342544555664, 'LowerStretching': 134.57521057128906, 'Walking': 129.479736328125, 'Reacting': 102.47868347167969, 'Gaming': 113.588623046875, 'Gesticuling': 100.9733657836914, 'Patting': 121.54474639892578, 'Greeting': 102.59584045410156}, 'UpperBody': {'All': 124.65673065185547, 'UpperStretching': 131.01702880859375, 'Talking': 114.90044403076172, 'LowerStretching': 118.7610855102539, 'Walking': 122.37936401367188, 'Reacting': 94.39977264404297, 'Gaming': 111.21681213378906, 'Gesticuling': 98.7535629272461, 'Patting': 104.91751098632812, 'Greeting': 115.63577270507812}, 'LowerBody': {'All': 131.05772399902344, 'UpperStretching': 128.10494995117188, 'Talking': 93.36808013916016, 'LowerStretching': 150.38934326171875, 'Walking': 136.58010864257812, 'Reacting': 110.55760192871094, 'Gaming': 115.96041870117188, 'Gesticuling': 103.19318389892578, 'Patting': 138.17196655273438, 'Greeting': 89.555908203125}}\n"
     ]
    },
    {
     "name": "stderr",
     "output_type": "stream",
     "text": [
      " 71%|███████   | 3801/5352 [08:58<03:50,  6.74it/s]"
     ]
    },
    {
     "name": "stdout",
     "output_type": "stream",
     "text": [
      "{'FullBody': {'All': 127.88158416748047, 'UpperStretching': 129.60687255859375, 'Talking': 104.14655303955078, 'LowerStretching': 134.67227172851562, 'Walking': 129.4370574951172, 'Reacting': 102.6537857055664, 'Gaming': 113.71723175048828, 'Gesticuling': 100.88253784179688, 'Patting': 121.00523376464844, 'Greeting': 102.60955810546875}, 'UpperBody': {'All': 124.64414978027344, 'UpperStretching': 130.9871826171875, 'Talking': 114.82872009277344, 'LowerStretching': 118.8330307006836, 'Walking': 122.3819808959961, 'Reacting': 94.29938507080078, 'Gaming': 111.60997009277344, 'Gesticuling': 98.52901458740234, 'Patting': 104.73523712158203, 'Greeting': 115.61502838134766}, 'LowerBody': {'All': 131.11900329589844, 'UpperStretching': 128.22653198242188, 'Talking': 93.4643783569336, 'LowerStretching': 150.51150512695312, 'Walking': 136.49215698242188, 'Reacting': 111.00820922851562, 'Gaming': 115.82447052001953, 'Gesticuling': 103.2360610961914, 'Patting': 137.2752227783203, 'Greeting': 89.60409545898438}}\n"
     ]
    },
    {
     "name": "stderr",
     "output_type": "stream",
     "text": [
      " 75%|███████▍  | 4001/5352 [09:26<03:20,  6.73it/s]"
     ]
    },
    {
     "name": "stdout",
     "output_type": "stream",
     "text": [
      "{'FullBody': {'All': 127.92140197753906, 'UpperStretching': 129.60800170898438, 'Talking': 104.98545837402344, 'LowerStretching': 134.73922729492188, 'Walking': 129.46388244628906, 'Reacting': 102.41123962402344, 'Gaming': 113.8211441040039, 'Gesticuling': 100.90296936035156, 'Patting': 121.86880493164062, 'Greeting': 102.83821868896484}, 'UpperBody': {'All': 124.68611907958984, 'UpperStretching': 130.9901885986328, 'Talking': 114.98914337158203, 'LowerStretching': 118.89835357666016, 'Walking': 122.53092956542969, 'Reacting': 94.14299774169922, 'Gaming': 111.89508819580078, 'Gesticuling': 98.5687484741211, 'Patting': 105.20738983154297, 'Greeting': 115.55928039550781}, 'LowerBody': {'All': 131.15667724609375, 'UpperStretching': 128.22581481933594, 'Talking': 94.9817886352539, 'LowerStretching': 150.58009338378906, 'Walking': 136.3968505859375, 'Reacting': 110.67947387695312, 'Gaming': 115.7472152709961, 'Gesticuling': 103.23719024658203, 'Patting': 138.5301971435547, 'Greeting': 90.11715698242188}}\n"
     ]
    },
    {
     "name": "stderr",
     "output_type": "stream",
     "text": [
      " 78%|███████▊  | 4201/5352 [09:54<02:44,  7.02it/s]"
     ]
    },
    {
     "name": "stdout",
     "output_type": "stream",
     "text": [
      "{'FullBody': {'All': 127.93258666992188, 'UpperStretching': 129.65570068359375, 'Talking': 104.95989227294922, 'LowerStretching': 134.79623413085938, 'Walking': 129.3784942626953, 'Reacting': 102.44361877441406, 'Gaming': 113.65737915039062, 'Gesticuling': 100.86933898925781, 'Patting': 121.48429870605469, 'Greeting': 103.01111602783203}, 'UpperBody': {'All': 124.65597534179688, 'UpperStretching': 130.98223876953125, 'Talking': 115.09034729003906, 'LowerStretching': 118.89592742919922, 'Walking': 122.4481201171875, 'Reacting': 94.22621154785156, 'Gaming': 111.99256896972656, 'Gesticuling': 98.38880920410156, 'Patting': 104.89389038085938, 'Greeting': 115.61156463623047}, 'LowerBody': {'All': 131.20921325683594, 'UpperStretching': 128.32916259765625, 'Talking': 94.82942962646484, 'LowerStretching': 150.696533203125, 'Walking': 136.30885314941406, 'Reacting': 110.66104125976562, 'Gaming': 115.3221664428711, 'Gesticuling': 103.34986877441406, 'Patting': 138.07470703125, 'Greeting': 90.41068267822266}}\n"
     ]
    },
    {
     "name": "stderr",
     "output_type": "stream",
     "text": [
      " 82%|████████▏ | 4400/5352 [10:22<02:17,  6.92it/s]"
     ]
    },
    {
     "name": "stdout",
     "output_type": "stream",
     "text": [
      "{'FullBody': {'All': 127.94620513916016, 'UpperStretching': 129.72264099121094, 'Talking': 104.87342071533203, 'LowerStretching': 134.64144897460938, 'Walking': 129.31396484375, 'Reacting': 102.49879455566406, 'Gaming': 113.85884857177734, 'Gesticuling': 100.85040283203125, 'Patting': 121.60604095458984, 'Greeting': 102.90850067138672}, 'UpperBody': {'All': 124.68501281738281, 'UpperStretching': 131.02818298339844, 'Talking': 115.04399108886719, 'LowerStretching': 118.77244567871094, 'Walking': 122.43479919433594, 'Reacting': 94.44188690185547, 'Gaming': 111.93272399902344, 'Gesticuling': 98.49011993408203, 'Patting': 105.07718658447266, 'Greeting': 115.57832336425781}, 'LowerBody': {'All': 131.2073974609375, 'UpperStretching': 128.41709899902344, 'Talking': 94.7028579711914, 'LowerStretching': 150.51043701171875, 'Walking': 136.193115234375, 'Reacting': 110.55570220947266, 'Gaming': 115.78497314453125, 'Gesticuling': 103.21067810058594, 'Patting': 138.13487243652344, 'Greeting': 90.2386703491211}}\n"
     ]
    },
    {
     "name": "stderr",
     "output_type": "stream",
     "text": [
      " 86%|████████▌ | 4601/5352 [10:50<01:53,  6.60it/s]"
     ]
    },
    {
     "name": "stdout",
     "output_type": "stream",
     "text": [
      "{'FullBody': {'All': 127.952880859375, 'UpperStretching': 129.72454833984375, 'Talking': 104.75224304199219, 'LowerStretching': 134.662841796875, 'Walking': 129.302001953125, 'Reacting': 102.60177612304688, 'Gaming': 113.92764282226562, 'Gesticuling': 100.88314819335938, 'Patting': 121.66632843017578, 'Greeting': 102.9560317993164}, 'UpperBody': {'All': 124.69217681884766, 'UpperStretching': 131.00950622558594, 'Talking': 114.92979431152344, 'LowerStretching': 118.81354522705078, 'Walking': 122.50067138671875, 'Reacting': 94.50382995605469, 'Gaming': 111.8856430053711, 'Gesticuling': 98.5545883178711, 'Patting': 105.14301300048828, 'Greeting': 115.7629623413086}, 'LowerBody': {'All': 131.21359252929688, 'UpperStretching': 128.43960571289062, 'Talking': 94.57469940185547, 'LowerStretching': 150.51214599609375, 'Walking': 136.10336303710938, 'Reacting': 110.69972229003906, 'Gaming': 115.96965026855469, 'Gesticuling': 103.21170806884766, 'Patting': 138.1896514892578, 'Greeting': 90.14913940429688}}\n"
     ]
    },
    {
     "name": "stderr",
     "output_type": "stream",
     "text": [
      " 90%|████████▉ | 4801/5352 [11:18<01:20,  6.83it/s]"
     ]
    },
    {
     "name": "stdout",
     "output_type": "stream",
     "text": [
      "{'FullBody': {'All': 127.95826721191406, 'UpperStretching': 129.7061767578125, 'Talking': 104.56377410888672, 'LowerStretching': 134.75318908691406, 'Walking': 129.31515502929688, 'Reacting': 102.65756225585938, 'Gaming': 113.9412612915039, 'Gesticuling': 100.88142395019531, 'Patting': 121.80423736572266, 'Greeting': 103.20919799804688}, 'UpperBody': {'All': 124.68219757080078, 'UpperStretching': 130.97593688964844, 'Talking': 114.68961334228516, 'LowerStretching': 118.8353042602539, 'Walking': 122.55366516113281, 'Reacting': 94.41999053955078, 'Gaming': 111.93513488769531, 'Gesticuling': 98.46807098388672, 'Patting': 105.30660247802734, 'Greeting': 115.68167114257812}, 'LowerBody': {'All': 131.23434448242188, 'UpperStretching': 128.43643188476562, 'Talking': 94.43795013427734, 'LowerStretching': 150.6710662841797, 'Walking': 136.07666015625, 'Reacting': 110.89513397216797, 'Gaming': 115.94737243652344, 'Gesticuling': 103.2947769165039, 'Patting': 138.30189514160156, 'Greeting': 90.73672485351562}}\n"
     ]
    },
    {
     "name": "stderr",
     "output_type": "stream",
     "text": [
      " 93%|█████████▎| 5000/5352 [11:46<00:56,  6.24it/s]"
     ]
    },
    {
     "name": "stdout",
     "output_type": "stream",
     "text": [
      "{'FullBody': {'All': 127.9569091796875, 'UpperStretching': 129.66197204589844, 'Talking': 104.53421783447266, 'LowerStretching': 134.89981079101562, 'Walking': 129.29928588867188, 'Reacting': 102.55828094482422, 'Gaming': 113.98867797851562, 'Gesticuling': 100.9861831665039, 'Patting': 121.61415100097656, 'Greeting': 103.27750396728516}, 'UpperBody': {'All': 124.68726348876953, 'UpperStretching': 130.92762756347656, 'Talking': 114.77085876464844, 'LowerStretching': 118.97325897216797, 'Walking': 122.48912811279297, 'Reacting': 94.43614959716797, 'Gaming': 111.85286712646484, 'Gesticuling': 98.72565460205078, 'Patting': 105.19087982177734, 'Greeting': 115.80635833740234}, 'LowerBody': {'All': 131.22657775878906, 'UpperStretching': 128.3963165283203, 'Talking': 94.2975845336914, 'LowerStretching': 150.8263702392578, 'Walking': 136.10946655273438, 'Reacting': 110.680419921875, 'Gaming': 116.12449645996094, 'Gesticuling': 103.2467041015625, 'Patting': 138.0374298095703, 'Greeting': 90.7486572265625}}\n"
     ]
    },
    {
     "name": "stderr",
     "output_type": "stream",
     "text": [
      " 97%|█████████▋| 5201/5352 [12:15<00:23,  6.47it/s]"
     ]
    },
    {
     "name": "stdout",
     "output_type": "stream",
     "text": [
      "{'FullBody': {'All': 127.9101791381836, 'UpperStretching': 129.63360595703125, 'Talking': 104.52220153808594, 'LowerStretching': 134.8128204345703, 'Walking': 129.27667236328125, 'Reacting': 102.47574615478516, 'Gaming': 113.92219543457031, 'Gesticuling': 100.97013854980469, 'Patting': 121.16304016113281, 'Greeting': 103.5813980102539}, 'UpperBody': {'All': 124.6375503540039, 'UpperStretching': 130.8840789794922, 'Talking': 114.82284545898438, 'LowerStretching': 118.88310241699219, 'Walking': 122.50303649902344, 'Reacting': 94.53854370117188, 'Gaming': 111.91629028320312, 'Gesticuling': 98.55164337158203, 'Patting': 104.67362976074219, 'Greeting': 115.82695007324219}, 'LowerBody': {'All': 131.18283081054688, 'UpperStretching': 128.38311767578125, 'Talking': 94.2215576171875, 'LowerStretching': 150.74252319335938, 'Walking': 136.05029296875, 'Reacting': 110.4129409790039, 'Gaming': 115.9281005859375, 'Gesticuling': 103.38861846923828, 'Patting': 137.65245056152344, 'Greeting': 91.33583068847656}}\n"
     ]
    },
    {
     "name": "stderr",
     "output_type": "stream",
     "text": [
      "100%|██████████| 5352/5352 [12:36<00:00,  7.08it/s]\n",
      "\u001b[94m08:59:07 \u001b[92m[INFO]\u001b[94m Main\u001b[0m: Saving evaluation results...\n",
      "\u001b[94m08:59:07 \u001b[92m[INFO]\u001b[94m Main\u001b[0m: Done.\n",
      "\u001b[94m08:59:07 \u001b[92m[INFO]\u001b[94m Main\u001b[0m: Starting demo...\n",
      "  0%|          | 0/5352 [00:00<?, ?it/s]/opt/conda/lib/python3.10/site-packages/torchvision/transforms/transforms.py:329: UserWarning: Argument 'interpolation' of type int is deprecated since 0.13 and will be removed in 0.15. Please use InterpolationMode enum.\n",
      "  warnings.warn(\n",
      "/opt/conda/lib/python3.10/site-packages/torchvision/transforms/transforms.py:329: UserWarning: Argument 'interpolation' of type int is deprecated since 0.13 and will be removed in 0.15. Please use InterpolationMode enum.\n",
      "  warnings.warn(\n",
      "/opt/conda/lib/python3.10/site-packages/torchvision/transforms/transforms.py:329: UserWarning: Argument 'interpolation' of type int is deprecated since 0.13 and will be removed in 0.15. Please use InterpolationMode enum.\n",
      "  warnings.warn(\n",
      "/opt/conda/lib/python3.10/site-packages/torchvision/transforms/transforms.py:329: UserWarning: Argument 'interpolation' of type int is deprecated since 0.13 and will be removed in 0.15. Please use InterpolationMode enum.\n",
      "  warnings.warn(\n",
      "/opt/conda/lib/python3.10/site-packages/torchvision/transforms/transforms.py:329: UserWarning: Argument 'interpolation' of type int is deprecated since 0.13 and will be removed in 0.15. Please use InterpolationMode enum.\n",
      "  warnings.warn(\n",
      "/opt/conda/lib/python3.10/site-packages/torchvision/transforms/transforms.py:329: UserWarning: Argument 'interpolation' of type int is deprecated since 0.13 and will be removed in 0.15. Please use InterpolationMode enum.\n",
      "  warnings.warn(\n",
      "/opt/conda/lib/python3.10/site-packages/torchvision/transforms/transforms.py:329: UserWarning: Argument 'interpolation' of type int is deprecated since 0.13 and will be removed in 0.15. Please use InterpolationMode enum.\n",
      "  warnings.warn(\n",
      "/opt/conda/lib/python3.10/site-packages/torchvision/transforms/transforms.py:329: UserWarning: Argument 'interpolation' of type int is deprecated since 0.13 and will be removed in 0.15. Please use InterpolationMode enum.\n",
      "  warnings.warn(\n",
      "/opt/conda/lib/python3.10/site-packages/torchvision/transforms/transforms.py:329: UserWarning: Argument 'interpolation' of type int is deprecated since 0.13 and will be removed in 0.15. Please use InterpolationMode enum.\n",
      "  warnings.warn(\n",
      "/opt/conda/lib/python3.10/site-packages/torchvision/transforms/transforms.py:329: UserWarning: Argument 'interpolation' of type int is deprecated since 0.13 and will be removed in 0.15. Please use InterpolationMode enum.\n",
      "  warnings.warn(\n",
      "/opt/conda/lib/python3.10/site-packages/torchvision/transforms/transforms.py:329: UserWarning: Argument 'interpolation' of type int is deprecated since 0.13 and will be removed in 0.15. Please use InterpolationMode enum.\n",
      "  warnings.warn(\n",
      "/opt/conda/lib/python3.10/site-packages/torchvision/transforms/transforms.py:329: UserWarning: Argument 'interpolation' of type int is deprecated since 0.13 and will be removed in 0.15. Please use InterpolationMode enum.\n",
      "  warnings.warn(\n",
      "/opt/conda/lib/python3.10/site-packages/torchvision/transforms/transforms.py:329: UserWarning: Argument 'interpolation' of type int is deprecated since 0.13 and will be removed in 0.15. Please use InterpolationMode enum.\n",
      "  warnings.warn(\n",
      "/opt/conda/lib/python3.10/site-packages/torchvision/transforms/transforms.py:329: UserWarning: Argument 'interpolation' of type int is deprecated since 0.13 and will be removed in 0.15. Please use InterpolationMode enum.\n",
      "  warnings.warn(\n",
      "/opt/conda/lib/python3.10/site-packages/torchvision/transforms/transforms.py:329: UserWarning: Argument 'interpolation' of type int is deprecated since 0.13 and will be removed in 0.15. Please use InterpolationMode enum.\n",
      "  warnings.warn(\n",
      "/opt/conda/lib/python3.10/site-packages/torchvision/transforms/transforms.py:329: UserWarning: Argument 'interpolation' of type int is deprecated since 0.13 and will be removed in 0.15. Please use InterpolationMode enum.\n",
      "  warnings.warn(\n",
      "/opt/conda/lib/python3.10/site-packages/torchvision/transforms/transforms.py:329: UserWarning: Argument 'interpolation' of type int is deprecated since 0.13 and will be removed in 0.15. Please use InterpolationMode enum.\n",
      "  warnings.warn(\n",
      "/opt/conda/lib/python3.10/site-packages/torchvision/transforms/transforms.py:329: UserWarning: Argument 'interpolation' of type int is deprecated since 0.13 and will be removed in 0.15. Please use InterpolationMode enum.\n",
      "  warnings.warn(\n",
      "/opt/conda/lib/python3.10/site-packages/torchvision/transforms/transforms.py:329: UserWarning: Argument 'interpolation' of type int is deprecated since 0.13 and will be removed in 0.15. Please use InterpolationMode enum.\n",
      "  warnings.warn(\n",
      "/opt/conda/lib/python3.10/site-packages/torchvision/transforms/transforms.py:329: UserWarning: Argument 'interpolation' of type int is deprecated since 0.13 and will be removed in 0.15. Please use InterpolationMode enum.\n",
      "  warnings.warn(\n",
      "/opt/conda/lib/python3.10/site-packages/torchvision/transforms/transforms.py:329: UserWarning: Argument 'interpolation' of type int is deprecated since 0.13 and will be removed in 0.15. Please use InterpolationMode enum.\n",
      "  warnings.warn(\n",
      "/opt/conda/lib/python3.10/site-packages/torchvision/transforms/transforms.py:329: UserWarning: Argument 'interpolation' of type int is deprecated since 0.13 and will be removed in 0.15. Please use InterpolationMode enum.\n",
      "  warnings.warn(\n",
      "/opt/conda/lib/python3.10/site-packages/torchvision/transforms/transforms.py:329: UserWarning: Argument 'interpolation' of type int is deprecated since 0.13 and will be removed in 0.15. Please use InterpolationMode enum.\n",
      "  warnings.warn(\n",
      "/opt/conda/lib/python3.10/site-packages/torchvision/transforms/transforms.py:329: UserWarning: Argument 'interpolation' of type int is deprecated since 0.13 and will be removed in 0.15. Please use InterpolationMode enum.\n",
      "  warnings.warn(\n",
      "  4%|▍         | 201/5352 [00:33<11:20,  7.57it/s]"
     ]
    },
    {
     "name": "stdout",
     "output_type": "stream",
     "text": [
      "{'FullBody': {'All': 76.9847412109375, 'Talking': 55.761104583740234, 'Walking': 75.05313110351562, 'Gaming': 74.3463134765625, 'UpperStretching': 79.0271224975586, 'Gesticuling': 62.185970306396484, 'Patting': 79.09667205810547, 'LowerStretching': 76.74751281738281, 'Greeting': 55.82632827758789, 'Reacting': 75.72480773925781}, 'UpperBody': {'All': 56.4490966796875, 'Talking': 45.936641693115234, 'Walking': 48.94031524658203, 'Gaming': 54.179443359375, 'UpperStretching': 60.88241958618164, 'Gesticuling': 55.9210090637207, 'Patting': 53.83287048339844, 'LowerStretching': 48.210933685302734, 'Greeting': 42.665889739990234, 'Reacting': 59.81363296508789}, 'LowerBody': {'All': 97.52039337158203, 'Talking': 65.5855712890625, 'Walking': 101.16594696044922, 'Gaming': 94.51317596435547, 'UpperStretching': 97.17184448242188, 'Gesticuling': 68.450927734375, 'Patting': 104.3604507446289, 'LowerStretching': 105.28408813476562, 'Greeting': 68.98677062988281, 'Reacting': 91.63597869873047}}\n"
     ]
    },
    {
     "name": "stderr",
     "output_type": "stream",
     "text": [
      "  7%|▋         | 401/5352 [01:01<12:29,  6.61it/s]"
     ]
    },
    {
     "name": "stdout",
     "output_type": "stream",
     "text": [
      "{'FullBody': {'All': 77.84780883789062, 'Talking': 56.85527038574219, 'Walking': 77.09989166259766, 'Gaming': 75.00896453857422, 'UpperStretching': 79.84719848632812, 'Gesticuling': 63.421592712402344, 'Patting': 82.69112396240234, 'LowerStretching': 76.74276733398438, 'Greeting': 62.639408111572266, 'Reacting': 74.32367706298828}, 'UpperBody': {'All': 57.04792785644531, 'Talking': 47.150917053222656, 'Walking': 50.451961517333984, 'Gaming': 54.57566452026367, 'UpperStretching': 61.259883880615234, 'Gesticuling': 56.07679748535156, 'Patting': 56.28239059448242, 'LowerStretching': 48.05977249145508, 'Greeting': 49.670989990234375, 'Reacting': 60.94830322265625}, 'LowerBody': {'All': 98.647705078125, 'Talking': 66.55961608886719, 'Walking': 103.74781799316406, 'Gaming': 95.44226837158203, 'UpperStretching': 98.43451690673828, 'Gesticuling': 70.76641082763672, 'Patting': 109.099853515625, 'LowerStretching': 105.42576599121094, 'Greeting': 75.60784912109375, 'Reacting': 87.69904327392578}}\n"
     ]
    },
    {
     "name": "stderr",
     "output_type": "stream",
     "text": [
      " 11%|█         | 601/5352 [01:29<10:41,  7.41it/s]"
     ]
    },
    {
     "name": "stdout",
     "output_type": "stream",
     "text": [
      "{'FullBody': {'All': 77.61653137207031, 'Talking': 57.96959686279297, 'Walking': 77.13021087646484, 'Gaming': 72.97208404541016, 'UpperStretching': 79.7633285522461, 'Gesticuling': 62.985260009765625, 'Patting': 79.65179443359375, 'LowerStretching': 76.36553192138672, 'Greeting': 63.31619644165039, 'Reacting': 73.01365661621094}, 'UpperBody': {'All': 57.23583221435547, 'Talking': 48.73440933227539, 'Walking': 50.56452941894531, 'Gaming': 54.380287170410156, 'UpperStretching': 61.58035659790039, 'Gesticuling': 55.511775970458984, 'Patting': 56.5058708190918, 'LowerStretching': 48.13727569580078, 'Greeting': 50.9267578125, 'Reacting': 59.83339309692383}, 'LowerBody': {'All': 97.99722290039062, 'Talking': 67.20478057861328, 'Walking': 103.6958999633789, 'Gaming': 91.56388092041016, 'UpperStretching': 97.94630432128906, 'Gesticuling': 70.45875549316406, 'Patting': 102.79771423339844, 'LowerStretching': 104.59378814697266, 'Greeting': 75.70563507080078, 'Reacting': 86.19391632080078}}\n"
     ]
    },
    {
     "name": "stderr",
     "output_type": "stream",
     "text": [
      " 15%|█▍        | 801/5352 [01:57<10:17,  7.37it/s]"
     ]
    },
    {
     "name": "stdout",
     "output_type": "stream",
     "text": [
      "{'FullBody': {'All': 77.82230377197266, 'Talking': 60.827003479003906, 'Walking': 77.02790069580078, 'Gaming': 73.85187530517578, 'UpperStretching': 80.07671356201172, 'Gesticuling': 62.36863327026367, 'Patting': 74.72482299804688, 'LowerStretching': 76.56988525390625, 'Greeting': 62.500213623046875, 'Reacting': 72.87274169921875}, 'UpperBody': {'All': 57.12613296508789, 'Talking': 50.21113967895508, 'Walking': 50.4872932434082, 'Gaming': 55.40091323852539, 'UpperStretching': 61.5828742980957, 'Gesticuling': 54.7900390625, 'Patting': 53.375152587890625, 'LowerStretching': 47.9499397277832, 'Greeting': 50.176273345947266, 'Reacting': 59.41889572143555}, 'LowerBody': {'All': 98.51846313476562, 'Talking': 71.44287109375, 'Walking': 103.5685043334961, 'Gaming': 92.3028335571289, 'UpperStretching': 98.57054901123047, 'Gesticuling': 69.94721221923828, 'Patting': 96.0744857788086, 'LowerStretching': 105.18982696533203, 'Greeting': 74.82415771484375, 'Reacting': 86.32659149169922}}\n"
     ]
    },
    {
     "name": "stderr",
     "output_type": "stream",
     "text": [
      " 19%|█▊        | 1001/5352 [02:25<10:49,  6.70it/s]"
     ]
    },
    {
     "name": "stdout",
     "output_type": "stream",
     "text": [
      "{'FullBody': {'All': 77.7223129272461, 'Talking': 60.54108428955078, 'Walking': 77.2833480834961, 'Gaming': 74.557373046875, 'UpperStretching': 79.93146514892578, 'Gesticuling': 62.470237731933594, 'Patting': 74.01155853271484, 'LowerStretching': 76.49835205078125, 'Greeting': 61.594886779785156, 'Reacting': 72.89794158935547}, 'UpperBody': {'All': 57.06428909301758, 'Talking': 49.90809631347656, 'Walking': 50.88573455810547, 'Gaming': 55.578739166259766, 'UpperStretching': 61.409175872802734, 'Gesticuling': 54.86408233642578, 'Patting': 53.287906646728516, 'LowerStretching': 48.037872314453125, 'Greeting': 49.4237174987793, 'Reacting': 59.6247444152832}, 'LowerBody': {'All': 98.38032531738281, 'Talking': 71.174072265625, 'Walking': 103.68095397949219, 'Gaming': 93.53600311279297, 'UpperStretching': 98.45374298095703, 'Gesticuling': 70.0763931274414, 'Patting': 94.7352066040039, 'LowerStretching': 104.95883178710938, 'Greeting': 73.76604461669922, 'Reacting': 86.17112731933594}}\n"
     ]
    },
    {
     "name": "stderr",
     "output_type": "stream",
     "text": [
      " 22%|██▏       | 1201/5352 [02:53<09:20,  7.40it/s]"
     ]
    },
    {
     "name": "stdout",
     "output_type": "stream",
     "text": [
      "{'FullBody': {'All': 77.69156646728516, 'Talking': 60.260318756103516, 'Walking': 77.11650085449219, 'Gaming': 74.88894653320312, 'UpperStretching': 79.8950424194336, 'Gesticuling': 62.82455825805664, 'Patting': 74.61540222167969, 'LowerStretching': 76.40198516845703, 'Greeting': 61.70488739013672, 'Reacting': 72.83104705810547}, 'UpperBody': {'All': 57.09015655517578, 'Talking': 49.73745346069336, 'Walking': 50.79296875, 'Gaming': 56.12903594970703, 'UpperStretching': 61.422935485839844, 'Gesticuling': 55.224212646484375, 'Patting': 54.48886489868164, 'LowerStretching': 47.81632995605469, 'Greeting': 49.79468536376953, 'Reacting': 59.73562240600586}, 'LowerBody': {'All': 98.29298400878906, 'Talking': 70.78317260742188, 'Walking': 103.44002532958984, 'Gaming': 93.64887237548828, 'UpperStretching': 98.36714172363281, 'Gesticuling': 70.4249038696289, 'Patting': 94.74195098876953, 'LowerStretching': 104.98763275146484, 'Greeting': 73.61507415771484, 'Reacting': 85.92647552490234}}\n"
     ]
    },
    {
     "name": "stderr",
     "output_type": "stream",
     "text": [
      " 26%|██▌       | 1401/5352 [03:21<08:58,  7.34it/s]"
     ]
    },
    {
     "name": "stdout",
     "output_type": "stream",
     "text": [
      "{'FullBody': {'All': 77.71102905273438, 'Talking': 60.40317916870117, 'Walking': 77.27593231201172, 'Gaming': 74.17288970947266, 'UpperStretching': 79.76050567626953, 'Gesticuling': 63.49504470825195, 'Patting': 74.72535705566406, 'LowerStretching': 76.70816802978516, 'Greeting': 62.209861755371094, 'Reacting': 72.64653015136719}, 'UpperBody': {'All': 57.159603118896484, 'Talking': 50.061553955078125, 'Walking': 50.72761917114258, 'Gaming': 55.61326217651367, 'UpperStretching': 61.449188232421875, 'Gesticuling': 56.02808380126953, 'Patting': 54.763587951660156, 'LowerStretching': 48.038063049316406, 'Greeting': 49.99567794799805, 'Reacting': 59.23457717895508}, 'LowerBody': {'All': 98.26244354248047, 'Talking': 70.74479675292969, 'Walking': 103.8242416381836, 'Gaming': 92.73251342773438, 'UpperStretching': 98.07183074951172, 'Gesticuling': 70.96200561523438, 'Patting': 94.68712615966797, 'LowerStretching': 105.37828063964844, 'Greeting': 74.42404174804688, 'Reacting': 86.05847930908203}}\n"
     ]
    },
    {
     "name": "stderr",
     "output_type": "stream",
     "text": [
      " 30%|██▉       | 1601/5352 [03:49<09:26,  6.63it/s]"
     ]
    },
    {
     "name": "stdout",
     "output_type": "stream",
     "text": [
      "{'FullBody': {'All': 77.6507339477539, 'Talking': 60.439273834228516, 'Walking': 77.30792999267578, 'Gaming': 74.40602111816406, 'UpperStretching': 79.72232818603516, 'Gesticuling': 63.59492492675781, 'Patting': 72.95889282226562, 'LowerStretching': 76.6159439086914, 'Greeting': 62.52497863769531, 'Reacting': 72.58578491210938}, 'UpperBody': {'All': 57.078792572021484, 'Talking': 50.006710052490234, 'Walking': 50.840736389160156, 'Gaming': 55.72312927246094, 'UpperStretching': 61.338165283203125, 'Gesticuling': 56.176151275634766, 'Patting': 53.48520278930664, 'LowerStretching': 47.965152740478516, 'Greeting': 50.41739273071289, 'Reacting': 58.97476577758789}, 'LowerBody': {'All': 98.22266387939453, 'Talking': 70.87183380126953, 'Walking': 103.77511596679688, 'Gaming': 93.08891296386719, 'UpperStretching': 98.10648345947266, 'Gesticuling': 71.0136947631836, 'Patting': 92.43258666992188, 'LowerStretching': 105.26673889160156, 'Greeting': 74.63256072998047, 'Reacting': 86.19679260253906}}\n"
     ]
    },
    {
     "name": "stderr",
     "output_type": "stream",
     "text": [
      " 34%|███▎      | 1801/5352 [04:17<08:23,  7.05it/s]"
     ]
    },
    {
     "name": "stdout",
     "output_type": "stream",
     "text": [
      "{'FullBody': {'All': 77.59192657470703, 'Talking': 60.998538970947266, 'Walking': 77.17085266113281, 'Gaming': 73.87174987792969, 'UpperStretching': 79.65270233154297, 'Gesticuling': 63.40976333618164, 'Patting': 72.76343536376953, 'LowerStretching': 76.69267272949219, 'Greeting': 62.26815414428711, 'Reacting': 72.92947387695312}, 'UpperBody': {'All': 57.037811279296875, 'Talking': 50.008384704589844, 'Walking': 50.91032028198242, 'Gaming': 55.503543853759766, 'UpperStretching': 61.27059555053711, 'Gesticuling': 56.15666198730469, 'Patting': 53.51233673095703, 'LowerStretching': 47.99293518066406, 'Greeting': 50.128849029541016, 'Reacting': 59.43360137939453}, 'LowerBody': {'All': 98.14603424072266, 'Talking': 71.98869323730469, 'Walking': 103.4313735961914, 'Gaming': 92.23997497558594, 'UpperStretching': 98.03479766845703, 'Gesticuling': 70.66287231445312, 'Patting': 92.01454162597656, 'LowerStretching': 105.39240264892578, 'Greeting': 74.40745544433594, 'Reacting': 86.42533111572266}}\n"
     ]
    },
    {
     "name": "stderr",
     "output_type": "stream",
     "text": [
      " 37%|███▋      | 2001/5352 [04:45<07:41,  7.25it/s]"
     ]
    },
    {
     "name": "stdout",
     "output_type": "stream",
     "text": [
      "{'FullBody': {'All': 77.54104614257812, 'Talking': 60.84854507446289, 'Walking': 76.96538543701172, 'Gaming': 74.1338119506836, 'UpperStretching': 79.65718841552734, 'Gesticuling': 63.18212890625, 'Patting': 72.81473541259766, 'LowerStretching': 76.58960723876953, 'Greeting': 62.668487548828125, 'Reacting': 72.62339782714844}, 'UpperBody': {'All': 56.99115753173828, 'Talking': 50.1401481628418, 'Walking': 50.885032653808594, 'Gaming': 55.66456985473633, 'UpperStretching': 61.200775146484375, 'Gesticuling': 56.017391204833984, 'Patting': 53.51249694824219, 'LowerStretching': 48.03406524658203, 'Greeting': 50.643455505371094, 'Reacting': 58.997379302978516}, 'LowerBody': {'All': 98.09092712402344, 'Talking': 71.55695343017578, 'Walking': 103.04573822021484, 'Gaming': 92.6030502319336, 'UpperStretching': 98.11359405517578, 'Gesticuling': 70.34686279296875, 'Patting': 92.11697387695312, 'LowerStretching': 105.14514923095703, 'Greeting': 74.69351196289062, 'Reacting': 86.24942016601562}}\n"
     ]
    },
    {
     "name": "stderr",
     "output_type": "stream",
     "text": [
      " 41%|████      | 2201/5352 [05:13<08:14,  6.37it/s]"
     ]
    },
    {
     "name": "stdout",
     "output_type": "stream",
     "text": [
      "{'FullBody': {'All': 77.57125091552734, 'Talking': 60.69068908691406, 'Walking': 77.02133178710938, 'Gaming': 73.86346435546875, 'UpperStretching': 79.71536254882812, 'Gesticuling': 63.037113189697266, 'Patting': 73.27378845214844, 'LowerStretching': 76.59127044677734, 'Greeting': 62.34702682495117, 'Reacting': 72.55992889404297}, 'UpperBody': {'All': 57.03352737426758, 'Talking': 50.15277862548828, 'Walking': 50.86609649658203, 'Gaming': 55.768096923828125, 'UpperStretching': 61.27175521850586, 'Gesticuling': 55.815399169921875, 'Patting': 54.05186080932617, 'LowerStretching': 47.988555908203125, 'Greeting': 50.46641159057617, 'Reacting': 58.952693939208984}, 'LowerBody': {'All': 98.10895538330078, 'Talking': 71.22859954833984, 'Walking': 103.17655944824219, 'Gaming': 91.95882415771484, 'UpperStretching': 98.15896606445312, 'Gesticuling': 70.25882720947266, 'Patting': 92.49571228027344, 'LowerStretching': 105.19398498535156, 'Greeting': 74.22763061523438, 'Reacting': 86.16718292236328}}\n"
     ]
    },
    {
     "name": "stderr",
     "output_type": "stream",
     "text": [
      " 45%|████▍     | 2401/5352 [05:41<07:11,  6.85it/s]"
     ]
    },
    {
     "name": "stdout",
     "output_type": "stream",
     "text": [
      "{'FullBody': {'All': 77.5386962890625, 'Talking': 60.5908203125, 'Walking': 76.91082763671875, 'Gaming': 73.94805145263672, 'UpperStretching': 79.73200225830078, 'Gesticuling': 63.24137496948242, 'Patting': 72.77096557617188, 'LowerStretching': 76.5560302734375, 'Greeting': 62.37690734863281, 'Reacting': 72.43248748779297}, 'UpperBody': {'All': 57.00357437133789, 'Talking': 50.19330978393555, 'Walking': 50.795711517333984, 'Gaming': 55.68400573730469, 'UpperStretching': 61.274635314941406, 'Gesticuling': 56.049949645996094, 'Patting': 53.4301643371582, 'LowerStretching': 47.96086120605469, 'Greeting': 50.24175262451172, 'Reacting': 58.7301025390625}, 'LowerBody': {'All': 98.07379913330078, 'Talking': 70.98833465576172, 'Walking': 103.02594757080078, 'Gaming': 92.21210479736328, 'UpperStretching': 98.18936157226562, 'Gesticuling': 70.43280792236328, 'Patting': 92.11177062988281, 'LowerStretching': 105.15119934082031, 'Greeting': 74.5120620727539, 'Reacting': 86.1348648071289}}\n"
     ]
    },
    {
     "name": "stderr",
     "output_type": "stream",
     "text": [
      " 49%|████▊     | 2601/5352 [06:10<06:32,  7.00it/s]"
     ]
    },
    {
     "name": "stdout",
     "output_type": "stream",
     "text": [
      "{'FullBody': {'All': 77.52448272705078, 'Talking': 60.32902526855469, 'Walking': 76.76233673095703, 'Gaming': 74.28337860107422, 'UpperStretching': 79.73290252685547, 'Gesticuling': 63.21196746826172, 'Patting': 72.64661407470703, 'LowerStretching': 76.54163360595703, 'Greeting': 62.53607177734375, 'Reacting': 72.67901611328125}, 'UpperBody': {'All': 56.98133850097656, 'Talking': 50.03418731689453, 'Walking': 50.70801544189453, 'Gaming': 56.02953338623047, 'UpperStretching': 61.28648376464844, 'Gesticuling': 56.04667282104492, 'Patting': 53.22394943237305, 'LowerStretching': 47.92224884033203, 'Greeting': 50.53704071044922, 'Reacting': 58.94124221801758}, 'LowerBody': {'All': 98.06761932373047, 'Talking': 70.62386322021484, 'Walking': 102.81666564941406, 'Gaming': 92.53723907470703, 'UpperStretching': 98.17931365966797, 'Gesticuling': 70.37725830078125, 'Patting': 92.06928253173828, 'LowerStretching': 105.1610107421875, 'Greeting': 74.53509521484375, 'Reacting': 86.41679382324219}}\n"
     ]
    },
    {
     "name": "stderr",
     "output_type": "stream",
     "text": [
      " 52%|█████▏    | 2801/5352 [06:38<06:38,  6.41it/s]"
     ]
    },
    {
     "name": "stdout",
     "output_type": "stream",
     "text": [
      "{'FullBody': {'All': 77.5470199584961, 'Talking': 60.4787483215332, 'Walking': 76.89350128173828, 'Gaming': 74.34963989257812, 'UpperStretching': 79.72850036621094, 'Gesticuling': 63.13680648803711, 'Patting': 72.7507553100586, 'LowerStretching': 76.55519104003906, 'Greeting': 62.79228591918945, 'Reacting': 72.4696044921875}, 'UpperBody': {'All': 56.99000930786133, 'Talking': 50.396202087402344, 'Walking': 50.64121627807617, 'Gaming': 56.16557312011719, 'UpperStretching': 61.28607940673828, 'Gesticuling': 56.006736755371094, 'Patting': 53.32231521606445, 'LowerStretching': 47.95803451538086, 'Greeting': 50.71564483642578, 'Reacting': 58.8480110168457}, 'LowerBody': {'All': 98.10401916503906, 'Talking': 70.561279296875, 'Walking': 103.14579010009766, 'Gaming': 92.53370666503906, 'UpperStretching': 98.17092895507812, 'Gesticuling': 70.26687622070312, 'Patting': 92.17920684814453, 'LowerStretching': 105.1523666381836, 'Greeting': 74.86892700195312, 'Reacting': 86.09119415283203}}\n"
     ]
    },
    {
     "name": "stderr",
     "output_type": "stream",
     "text": [
      " 56%|█████▌    | 3001/5352 [07:06<05:35,  7.01it/s]"
     ]
    },
    {
     "name": "stdout",
     "output_type": "stream",
     "text": [
      "{'FullBody': {'All': 77.51789093017578, 'Talking': 60.64678955078125, 'Walking': 76.99376678466797, 'Gaming': 74.15958404541016, 'UpperStretching': 79.65251922607422, 'Gesticuling': 63.259090423583984, 'Patting': 72.63690948486328, 'LowerStretching': 76.61219787597656, 'Greeting': 62.84798812866211, 'Reacting': 72.22203826904297}, 'UpperBody': {'All': 56.9845085144043, 'Talking': 50.75291442871094, 'Walking': 50.69108963012695, 'Gaming': 56.08158874511719, 'UpperStretching': 61.27040481567383, 'Gesticuling': 56.15922927856445, 'Patting': 53.41563415527344, 'LowerStretching': 47.950992584228516, 'Greeting': 50.734397888183594, 'Reacting': 58.627838134765625}, 'LowerBody': {'All': 98.05126190185547, 'Talking': 70.54065704345703, 'Walking': 103.29644775390625, 'Gaming': 92.23758697509766, 'UpperStretching': 98.03466033935547, 'Gesticuling': 70.35894775390625, 'Patting': 91.85819244384766, 'LowerStretching': 105.27342224121094, 'Greeting': 74.96158599853516, 'Reacting': 85.81622314453125}}\n"
     ]
    },
    {
     "name": "stderr",
     "output_type": "stream",
     "text": [
      " 60%|█████▉    | 3201/5352 [07:34<04:58,  7.20it/s]"
     ]
    },
    {
     "name": "stdout",
     "output_type": "stream",
     "text": [
      "{'FullBody': {'All': 77.4853744506836, 'Talking': 60.463260650634766, 'Walking': 76.89044189453125, 'Gaming': 74.11888122558594, 'UpperStretching': 79.61463928222656, 'Gesticuling': 63.09276580810547, 'Patting': 72.78047180175781, 'LowerStretching': 76.63481903076172, 'Greeting': 62.870880126953125, 'Reacting': 72.12469482421875}, 'UpperBody': {'All': 56.97952651977539, 'Talking': 50.47590255737305, 'Walking': 50.646095275878906, 'Gaming': 55.955894470214844, 'UpperStretching': 61.262184143066406, 'Gesticuling': 56.079673767089844, 'Patting': 53.71582794189453, 'LowerStretching': 47.96514892578125, 'Greeting': 50.74674606323242, 'Reacting': 58.596229553222656}, 'LowerBody': {'All': 97.9912109375, 'Talking': 70.45061492919922, 'Walking': 103.13479614257812, 'Gaming': 92.28184509277344, 'UpperStretching': 97.96710968017578, 'Gesticuling': 70.1058578491211, 'Patting': 91.8451156616211, 'LowerStretching': 105.30451202392578, 'Greeting': 74.99500274658203, 'Reacting': 85.65316772460938}}\n"
     ]
    },
    {
     "name": "stderr",
     "output_type": "stream",
     "text": [
      " 64%|██████▎   | 3401/5352 [08:02<05:01,  6.47it/s]"
     ]
    },
    {
     "name": "stdout",
     "output_type": "stream",
     "text": [
      "{'FullBody': {'All': 77.4872817993164, 'Talking': 60.294029235839844, 'Walking': 76.80265808105469, 'Gaming': 74.31985473632812, 'UpperStretching': 79.62952423095703, 'Gesticuling': 62.99143600463867, 'Patting': 73.13088989257812, 'LowerStretching': 76.64995574951172, 'Greeting': 62.65037155151367, 'Reacting': 72.0693130493164}, 'UpperBody': {'All': 56.960693359375, 'Talking': 50.345706939697266, 'Walking': 50.5726203918457, 'Gaming': 56.16896438598633, 'UpperStretching': 61.23996353149414, 'Gesticuling': 56.05815887451172, 'Patting': 53.75247573852539, 'LowerStretching': 47.98945999145508, 'Greeting': 50.45630645751953, 'Reacting': 58.64455795288086}, 'LowerBody': {'All': 98.01386260986328, 'Talking': 70.24235534667969, 'Walking': 103.0326919555664, 'Gaming': 92.47074890136719, 'UpperStretching': 98.01908874511719, 'Gesticuling': 69.92472076416016, 'Patting': 92.5093002319336, 'LowerStretching': 105.3104476928711, 'Greeting': 74.84444427490234, 'Reacting': 85.49406433105469}}\n"
     ]
    },
    {
     "name": "stderr",
     "output_type": "stream",
     "text": [
      " 67%|██████▋   | 3601/5352 [08:30<04:17,  6.81it/s]"
     ]
    },
    {
     "name": "stdout",
     "output_type": "stream",
     "text": [
      "{'FullBody': {'All': 77.50669860839844, 'Talking': 60.261226654052734, 'Walking': 76.91508483886719, 'Gaming': 74.1153793334961, 'UpperStretching': 79.62123107910156, 'Gesticuling': 62.99020767211914, 'Patting': 73.58558654785156, 'LowerStretching': 76.67276763916016, 'Greeting': 62.81884002685547, 'Reacting': 72.15992736816406}, 'UpperBody': {'All': 56.94053649902344, 'Talking': 50.21385955810547, 'Walking': 50.58428955078125, 'Gaming': 56.0323600769043, 'UpperStretching': 61.2076301574707, 'Gesticuling': 55.96888732910156, 'Patting': 54.02330780029297, 'LowerStretching': 47.96336364746094, 'Greeting': 50.7126579284668, 'Reacting': 58.55580139160156}, 'LowerBody': {'All': 98.0728530883789, 'Talking': 70.30858612060547, 'Walking': 103.24588012695312, 'Gaming': 92.19839477539062, 'UpperStretching': 98.03483581542969, 'Gesticuling': 70.01151275634766, 'Patting': 93.1478500366211, 'LowerStretching': 105.38217163085938, 'Greeting': 74.92501831054688, 'Reacting': 85.7640609741211}}\n"
     ]
    },
    {
     "name": "stderr",
     "output_type": "stream",
     "text": [
      " 71%|███████   | 3801/5352 [08:58<03:37,  7.12it/s]"
     ]
    },
    {
     "name": "stdout",
     "output_type": "stream",
     "text": [
      "{'FullBody': {'All': 77.48455810546875, 'Talking': 60.226470947265625, 'Walking': 76.90480041503906, 'Gaming': 74.26951599121094, 'UpperStretching': 79.5503921508789, 'Gesticuling': 63.15578842163086, 'Patting': 73.29756927490234, 'LowerStretching': 76.78102111816406, 'Greeting': 62.97217559814453, 'Reacting': 72.23670196533203}, 'UpperBody': {'All': 56.93687438964844, 'Talking': 50.1367301940918, 'Walking': 50.50823211669922, 'Gaming': 56.160499572753906, 'UpperStretching': 61.1955680847168, 'Gesticuling': 56.03163528442383, 'Patting': 54.09006118774414, 'LowerStretching': 48.00564956665039, 'Greeting': 50.879093170166016, 'Reacting': 58.51609420776367}, 'LowerBody': {'All': 98.0322265625, 'Talking': 70.31620788574219, 'Walking': 103.30138397216797, 'Gaming': 92.37852478027344, 'UpperStretching': 97.90522766113281, 'Gesticuling': 70.27994537353516, 'Patting': 92.50505828857422, 'LowerStretching': 105.55638885498047, 'Greeting': 75.06525421142578, 'Reacting': 85.95732116699219}}\n"
     ]
    },
    {
     "name": "stderr",
     "output_type": "stream",
     "text": [
      " 75%|███████▍  | 4001/5352 [09:26<03:45,  5.99it/s]"
     ]
    },
    {
     "name": "stdout",
     "output_type": "stream",
     "text": [
      "{'FullBody': {'All': 77.45433044433594, 'Talking': 60.223514556884766, 'Walking': 76.90110778808594, 'Gaming': 74.22909545898438, 'UpperStretching': 79.52799224853516, 'Gesticuling': 63.00032424926758, 'Patting': 72.77511596679688, 'LowerStretching': 76.75414276123047, 'Greeting': 62.98714828491211, 'Reacting': 72.15652465820312}, 'UpperBody': {'All': 56.9344482421875, 'Talking': 50.0628776550293, 'Walking': 50.49969482421875, 'Gaming': 56.1185417175293, 'UpperStretching': 61.19175338745117, 'Gesticuling': 55.85032272338867, 'Patting': 53.787452697753906, 'LowerStretching': 48.0245361328125, 'Greeting': 50.90504455566406, 'Reacting': 58.615718841552734}, 'LowerBody': {'All': 97.97419738769531, 'Talking': 70.38414764404297, 'Walking': 103.30250549316406, 'Gaming': 92.33966064453125, 'UpperStretching': 97.86424255371094, 'Gesticuling': 70.15032958984375, 'Patting': 91.7627944946289, 'LowerStretching': 105.48374938964844, 'Greeting': 75.06925201416016, 'Reacting': 85.69733428955078}}\n"
     ]
    },
    {
     "name": "stderr",
     "output_type": "stream",
     "text": [
      " 78%|███████▊  | 4201/5352 [09:54<02:45,  6.95it/s]"
     ]
    },
    {
     "name": "stdout",
     "output_type": "stream",
     "text": [
      "{'FullBody': {'All': 77.50756072998047, 'Talking': 60.193817138671875, 'Walking': 76.93526458740234, 'Gaming': 74.35066223144531, 'UpperStretching': 79.61851501464844, 'Gesticuling': 63.053836822509766, 'Patting': 72.88552856445312, 'LowerStretching': 76.73025512695312, 'Greeting': 63.06079864501953, 'Reacting': 72.03648376464844}, 'UpperBody': {'All': 56.951786041259766, 'Talking': 50.16245651245117, 'Walking': 50.497188568115234, 'Gaming': 56.101287841796875, 'UpperStretching': 61.21975326538086, 'Gesticuling': 55.85654067993164, 'Patting': 54.06046676635742, 'LowerStretching': 48.02177429199219, 'Greeting': 50.93220901489258, 'Reacting': 58.434688568115234}, 'LowerBody': {'All': 98.06331634521484, 'Talking': 70.22516632080078, 'Walking': 103.37333679199219, 'Gaming': 92.60003662109375, 'UpperStretching': 98.01728057861328, 'Gesticuling': 70.25113677978516, 'Patting': 91.7105941772461, 'LowerStretching': 105.43873596191406, 'Greeting': 75.18939208984375, 'Reacting': 85.63829040527344}}\n"
     ]
    },
    {
     "name": "stderr",
     "output_type": "stream",
     "text": [
      " 82%|████████▏ | 4401/5352 [10:22<02:20,  6.76it/s]"
     ]
    },
    {
     "name": "stdout",
     "output_type": "stream",
     "text": [
      "{'FullBody': {'All': 77.51654052734375, 'Talking': 59.86650848388672, 'Walking': 76.87651062011719, 'Gaming': 74.3353500366211, 'UpperStretching': 79.62406921386719, 'Gesticuling': 63.20261764526367, 'Patting': 73.03865814208984, 'LowerStretching': 76.75450134277344, 'Greeting': 62.9908561706543, 'Reacting': 72.20010375976562}, 'UpperBody': {'All': 56.92782974243164, 'Talking': 49.89051055908203, 'Walking': 50.45980453491211, 'Gaming': 56.0311279296875, 'UpperStretching': 61.18991470336914, 'Gesticuling': 55.829044342041016, 'Patting': 54.30483627319336, 'LowerStretching': 48.012855529785156, 'Greeting': 50.84151840209961, 'Reacting': 58.586456298828125}, 'LowerBody': {'All': 98.10523986816406, 'Talking': 69.84249877929688, 'Walking': 103.29322052001953, 'Gaming': 92.63957214355469, 'UpperStretching': 98.05824279785156, 'Gesticuling': 70.57620239257812, 'Patting': 91.77247619628906, 'LowerStretching': 105.49615478515625, 'Greeting': 75.14018249511719, 'Reacting': 85.81373596191406}}\n"
     ]
    },
    {
     "name": "stderr",
     "output_type": "stream",
     "text": [
      " 86%|████████▌ | 4601/5352 [10:51<02:09,  5.81it/s]"
     ]
    },
    {
     "name": "stdout",
     "output_type": "stream",
     "text": [
      "{'FullBody': {'All': 77.54871368408203, 'Talking': 59.95625686645508, 'Walking': 76.86061096191406, 'Gaming': 74.28585052490234, 'UpperStretching': 79.66798400878906, 'Gesticuling': 63.31624984741211, 'Patting': 73.546630859375, 'LowerStretching': 76.73756408691406, 'Greeting': 63.20124053955078, 'Reacting': 72.25344848632812}, 'UpperBody': {'All': 56.95387268066406, 'Talking': 50.00931930541992, 'Walking': 50.478233337402344, 'Gaming': 55.88602066040039, 'UpperStretching': 61.23367691040039, 'Gesticuling': 55.88145065307617, 'Patting': 54.655921936035156, 'LowerStretching': 48.00530242919922, 'Greeting': 51.04004669189453, 'Reacting': 58.58039093017578}, 'LowerBody': {'All': 98.14354705810547, 'Talking': 69.90320587158203, 'Walking': 103.24299621582031, 'Gaming': 92.6856689453125, 'UpperStretching': 98.102294921875, 'Gesticuling': 70.75105285644531, 'Patting': 92.43733978271484, 'LowerStretching': 105.46983337402344, 'Greeting': 75.36241912841797, 'Reacting': 85.92650604248047}}\n"
     ]
    },
    {
     "name": "stderr",
     "output_type": "stream",
     "text": [
      " 90%|████████▉ | 4801/5352 [11:19<01:22,  6.71it/s]"
     ]
    },
    {
     "name": "stdout",
     "output_type": "stream",
     "text": [
      "{'FullBody': {'All': 77.5592041015625, 'Talking': 59.881378173828125, 'Walking': 76.82521057128906, 'Gaming': 74.35082244873047, 'UpperStretching': 79.70238494873047, 'Gesticuling': 63.219913482666016, 'Patting': 73.57461547851562, 'LowerStretching': 76.7030258178711, 'Greeting': 63.19651412963867, 'Reacting': 72.21498107910156}, 'UpperBody': {'All': 56.951595306396484, 'Talking': 49.87493133544922, 'Walking': 50.46908187866211, 'Gaming': 55.88263702392578, 'UpperStretching': 61.234375, 'Gesticuling': 55.787960052490234, 'Patting': 54.597782135009766, 'LowerStretching': 48.010799407958984, 'Greeting': 51.12529373168945, 'Reacting': 58.5355110168457}, 'LowerBody': {'All': 98.16680145263672, 'Talking': 69.88780975341797, 'Walking': 103.18134307861328, 'Gaming': 92.81902313232422, 'UpperStretching': 98.17039489746094, 'Gesticuling': 70.65187072753906, 'Patting': 92.55146026611328, 'LowerStretching': 105.39525604248047, 'Greeting': 75.26773071289062, 'Reacting': 85.89443969726562}}\n"
     ]
    },
    {
     "name": "stderr",
     "output_type": "stream",
     "text": [
      " 93%|█████████▎| 5001/5352 [11:47<00:52,  6.70it/s]"
     ]
    },
    {
     "name": "stdout",
     "output_type": "stream",
     "text": [
      "{'FullBody': {'All': 77.56969451904297, 'Talking': 59.847843170166016, 'Walking': 76.7806625366211, 'Gaming': 74.4647445678711, 'UpperStretching': 79.73584747314453, 'Gesticuling': 63.04835891723633, 'Patting': 73.59619903564453, 'LowerStretching': 76.72588348388672, 'Greeting': 63.120906829833984, 'Reacting': 72.17620849609375}, 'UpperBody': {'All': 56.964561462402344, 'Talking': 49.927188873291016, 'Walking': 50.457435607910156, 'Gaming': 55.898380279541016, 'UpperStretching': 61.280479431152344, 'Gesticuling': 55.6065559387207, 'Patting': 54.54645538330078, 'LowerStretching': 47.99871826171875, 'Greeting': 51.05712890625, 'Reacting': 58.4791145324707}, 'LowerBody': {'All': 98.17481231689453, 'Talking': 69.76850128173828, 'Walking': 103.1038818359375, 'Gaming': 93.0311050415039, 'UpperStretching': 98.19122314453125, 'Gesticuling': 70.49015045166016, 'Patting': 92.64594268798828, 'LowerStretching': 105.45306396484375, 'Greeting': 75.18468475341797, 'Reacting': 85.87330627441406}}\n"
     ]
    },
    {
     "name": "stderr",
     "output_type": "stream",
     "text": [
      " 97%|█████████▋| 5201/5352 [12:15<00:21,  6.96it/s]"
     ]
    },
    {
     "name": "stdout",
     "output_type": "stream",
     "text": [
      "{'FullBody': {'All': 77.56227111816406, 'Talking': 59.863853454589844, 'Walking': 76.75141143798828, 'Gaming': 74.52989196777344, 'UpperStretching': 79.69337463378906, 'Gesticuling': 63.056495666503906, 'Patting': 73.78789520263672, 'LowerStretching': 76.7925033569336, 'Greeting': 62.971527099609375, 'Reacting': 72.27793884277344}, 'UpperBody': {'All': 56.966064453125, 'Talking': 49.966007232666016, 'Walking': 50.467350006103516, 'Gaming': 55.96060562133789, 'UpperStretching': 61.25926971435547, 'Gesticuling': 55.657840728759766, 'Patting': 54.7305908203125, 'LowerStretching': 48.01536178588867, 'Greeting': 50.90232849121094, 'Reacting': 58.62331771850586}, 'LowerBody': {'All': 98.15846252441406, 'Talking': 69.7616958618164, 'Walking': 103.03546905517578, 'Gaming': 93.09918975830078, 'UpperStretching': 98.12748718261719, 'Gesticuling': 70.45514678955078, 'Patting': 92.84518432617188, 'LowerStretching': 105.56964874267578, 'Greeting': 75.04072570800781, 'Reacting': 85.93255615234375}}\n"
     ]
    },
    {
     "name": "stderr",
     "output_type": "stream",
     "text": [
      "100%|██████████| 5352/5352 [12:36<00:00,  7.08it/s]\n",
      "\u001b[94m09:11:45 \u001b[92m[INFO]\u001b[94m Main\u001b[0m: Saving evaluation results...\n",
      "\u001b[94m09:11:45 \u001b[92m[INFO]\u001b[94m Main\u001b[0m: Done.\n",
      "\u001b[94m09:11:45 \u001b[92m[INFO]\u001b[94m Main\u001b[0m: Starting demo...\n",
      "  0%|          | 0/5352 [00:00<?, ?it/s]/opt/conda/lib/python3.10/site-packages/torchvision/transforms/transforms.py:329: UserWarning: Argument 'interpolation' of type int is deprecated since 0.13 and will be removed in 0.15. Please use InterpolationMode enum.\n",
      "  warnings.warn(\n",
      "/opt/conda/lib/python3.10/site-packages/torchvision/transforms/transforms.py:329: UserWarning: Argument 'interpolation' of type int is deprecated since 0.13 and will be removed in 0.15. Please use InterpolationMode enum.\n",
      "  warnings.warn(\n",
      "/opt/conda/lib/python3.10/site-packages/torchvision/transforms/transforms.py:329: UserWarning: Argument 'interpolation' of type int is deprecated since 0.13 and will be removed in 0.15. Please use InterpolationMode enum.\n",
      "  warnings.warn(\n",
      "/opt/conda/lib/python3.10/site-packages/torchvision/transforms/transforms.py:329: UserWarning: Argument 'interpolation' of type int is deprecated since 0.13 and will be removed in 0.15. Please use InterpolationMode enum.\n",
      "  warnings.warn(\n",
      "/opt/conda/lib/python3.10/site-packages/torchvision/transforms/transforms.py:329: UserWarning: Argument 'interpolation' of type int is deprecated since 0.13 and will be removed in 0.15. Please use InterpolationMode enum.\n",
      "  warnings.warn(\n",
      "/opt/conda/lib/python3.10/site-packages/torchvision/transforms/transforms.py:329: UserWarning: Argument 'interpolation' of type int is deprecated since 0.13 and will be removed in 0.15. Please use InterpolationMode enum.\n",
      "  warnings.warn(\n",
      "/opt/conda/lib/python3.10/site-packages/torchvision/transforms/transforms.py:329: UserWarning: Argument 'interpolation' of type int is deprecated since 0.13 and will be removed in 0.15. Please use InterpolationMode enum.\n",
      "  warnings.warn(\n",
      "/opt/conda/lib/python3.10/site-packages/torchvision/transforms/transforms.py:329: UserWarning: Argument 'interpolation' of type int is deprecated since 0.13 and will be removed in 0.15. Please use InterpolationMode enum.\n",
      "  warnings.warn(\n",
      "/opt/conda/lib/python3.10/site-packages/torchvision/transforms/transforms.py:329: UserWarning: Argument 'interpolation' of type int is deprecated since 0.13 and will be removed in 0.15. Please use InterpolationMode enum.\n",
      "  warnings.warn(\n",
      "/opt/conda/lib/python3.10/site-packages/torchvision/transforms/transforms.py:329: UserWarning: Argument 'interpolation' of type int is deprecated since 0.13 and will be removed in 0.15. Please use InterpolationMode enum.\n",
      "  warnings.warn(\n",
      "/opt/conda/lib/python3.10/site-packages/torchvision/transforms/transforms.py:329: UserWarning: Argument 'interpolation' of type int is deprecated since 0.13 and will be removed in 0.15. Please use InterpolationMode enum.\n",
      "  warnings.warn(\n",
      "/opt/conda/lib/python3.10/site-packages/torchvision/transforms/transforms.py:329: UserWarning: Argument 'interpolation' of type int is deprecated since 0.13 and will be removed in 0.15. Please use InterpolationMode enum.\n",
      "  warnings.warn(\n",
      "/opt/conda/lib/python3.10/site-packages/torchvision/transforms/transforms.py:329: UserWarning: Argument 'interpolation' of type int is deprecated since 0.13 and will be removed in 0.15. Please use InterpolationMode enum.\n",
      "  warnings.warn(\n",
      "/opt/conda/lib/python3.10/site-packages/torchvision/transforms/transforms.py:329: UserWarning: Argument 'interpolation' of type int is deprecated since 0.13 and will be removed in 0.15. Please use InterpolationMode enum.\n",
      "  warnings.warn(\n",
      "/opt/conda/lib/python3.10/site-packages/torchvision/transforms/transforms.py:329: UserWarning: Argument 'interpolation' of type int is deprecated since 0.13 and will be removed in 0.15. Please use InterpolationMode enum.\n",
      "  warnings.warn(\n",
      "/opt/conda/lib/python3.10/site-packages/torchvision/transforms/transforms.py:329: UserWarning: Argument 'interpolation' of type int is deprecated since 0.13 and will be removed in 0.15. Please use InterpolationMode enum.\n",
      "  warnings.warn(\n",
      "/opt/conda/lib/python3.10/site-packages/torchvision/transforms/transforms.py:329: UserWarning: Argument 'interpolation' of type int is deprecated since 0.13 and will be removed in 0.15. Please use InterpolationMode enum.\n",
      "  warnings.warn(\n",
      "/opt/conda/lib/python3.10/site-packages/torchvision/transforms/transforms.py:329: UserWarning: Argument 'interpolation' of type int is deprecated since 0.13 and will be removed in 0.15. Please use InterpolationMode enum.\n",
      "  warnings.warn(\n",
      "/opt/conda/lib/python3.10/site-packages/torchvision/transforms/transforms.py:329: UserWarning: Argument 'interpolation' of type int is deprecated since 0.13 and will be removed in 0.15. Please use InterpolationMode enum.\n",
      "  warnings.warn(\n",
      "/opt/conda/lib/python3.10/site-packages/torchvision/transforms/transforms.py:329: UserWarning: Argument 'interpolation' of type int is deprecated since 0.13 and will be removed in 0.15. Please use InterpolationMode enum.\n",
      "  warnings.warn(\n",
      "/opt/conda/lib/python3.10/site-packages/torchvision/transforms/transforms.py:329: UserWarning: Argument 'interpolation' of type int is deprecated since 0.13 and will be removed in 0.15. Please use InterpolationMode enum.\n",
      "  warnings.warn(\n",
      "/opt/conda/lib/python3.10/site-packages/torchvision/transforms/transforms.py:329: UserWarning: Argument 'interpolation' of type int is deprecated since 0.13 and will be removed in 0.15. Please use InterpolationMode enum.\n",
      "  warnings.warn(\n",
      "/opt/conda/lib/python3.10/site-packages/torchvision/transforms/transforms.py:329: UserWarning: Argument 'interpolation' of type int is deprecated since 0.13 and will be removed in 0.15. Please use InterpolationMode enum.\n",
      "  warnings.warn(\n",
      "/opt/conda/lib/python3.10/site-packages/torchvision/transforms/transforms.py:329: UserWarning: Argument 'interpolation' of type int is deprecated since 0.13 and will be removed in 0.15. Please use InterpolationMode enum.\n",
      "  warnings.warn(\n",
      "  4%|▍         | 201/5352 [00:34<11:38,  7.37it/s]"
     ]
    },
    {
     "name": "stdout",
     "output_type": "stream",
     "text": [
      "{'FullBody': {'All': 105.00672912597656, 'UpperStretching': 106.31128692626953, 'LowerStretching': 119.8812026977539, 'Talking': 70.86100769042969, 'Walking': 101.80204010009766, 'Patting': 76.64339447021484, 'Gesticuling': 81.21503448486328, 'Greeting': 72.80570983886719, 'Reacting': 83.50846862792969, 'Gaming': 84.28736114501953}, 'UpperBody': {'All': 85.29484558105469, 'UpperStretching': 92.22918701171875, 'LowerStretching': 81.46147155761719, 'Talking': 59.13051986694336, 'Walking': 77.79723358154297, 'Patting': 63.80427551269531, 'Gesticuling': 68.94303894042969, 'Greeting': 59.606544494628906, 'Reacting': 66.73101043701172, 'Gaming': 60.846256256103516}, 'LowerBody': {'All': 124.71859741210938, 'UpperStretching': 120.39339447021484, 'LowerStretching': 158.3009490966797, 'Talking': 82.59149169921875, 'Walking': 125.80684661865234, 'Patting': 89.4825210571289, 'Gesticuling': 93.487060546875, 'Greeting': 86.00485229492188, 'Reacting': 100.2859115600586, 'Gaming': 107.72846984863281}}\n"
     ]
    },
    {
     "name": "stderr",
     "output_type": "stream",
     "text": [
      "  7%|▋         | 401/5352 [01:01<10:48,  7.63it/s]"
     ]
    },
    {
     "name": "stdout",
     "output_type": "stream",
     "text": [
      "{'FullBody': {'All': 105.25566101074219, 'UpperStretching': 106.40865325927734, 'LowerStretching': 118.99654388427734, 'Talking': 71.80728912353516, 'Walking': 102.40350341796875, 'Patting': 76.04991912841797, 'Gesticuling': 80.2781982421875, 'Greeting': 74.52389526367188, 'Reacting': 85.0444564819336, 'Gaming': 84.20848846435547}, 'UpperBody': {'All': 85.37469482421875, 'UpperStretching': 92.24852752685547, 'LowerStretching': 81.00785827636719, 'Talking': 60.11065673828125, 'Walking': 78.34190368652344, 'Patting': 64.36454010009766, 'Gesticuling': 66.34223175048828, 'Greeting': 62.31424331665039, 'Reacting': 65.60070037841797, 'Gaming': 60.778663635253906}, 'LowerBody': {'All': 125.13661193847656, 'UpperStretching': 120.56879425048828, 'LowerStretching': 156.98526000976562, 'Talking': 83.50391387939453, 'Walking': 126.46511840820312, 'Patting': 87.7353286743164, 'Gesticuling': 94.21415710449219, 'Greeting': 86.7335205078125, 'Reacting': 104.48823547363281, 'Gaming': 107.63829040527344}}\n"
     ]
    },
    {
     "name": "stderr",
     "output_type": "stream",
     "text": [
      " 11%|█         | 601/5352 [01:29<11:30,  6.88it/s]"
     ]
    },
    {
     "name": "stdout",
     "output_type": "stream",
     "text": [
      "{'FullBody': {'All': 104.95166778564453, 'UpperStretching': 105.76380157470703, 'LowerStretching': 119.52928161621094, 'Talking': 72.34504699707031, 'Walking': 102.52439880371094, 'Patting': 82.08946228027344, 'Gesticuling': 78.65797424316406, 'Greeting': 76.897216796875, 'Reacting': 86.26179504394531, 'Gaming': 84.9156265258789}, 'UpperBody': {'All': 85.32076263427734, 'UpperStretching': 91.93407440185547, 'LowerStretching': 81.27152252197266, 'Talking': 60.40325927734375, 'Walking': 78.52449798583984, 'Patting': 70.54641723632812, 'Gesticuling': 64.85578918457031, 'Greeting': 62.135684967041016, 'Reacting': 66.61454010009766, 'Gaming': 62.08695602416992}, 'LowerBody': {'All': 124.58256530761719, 'UpperStretching': 119.59355163574219, 'LowerStretching': 157.7870330810547, 'Talking': 84.28683471679688, 'Walking': 126.52428436279297, 'Patting': 93.63250732421875, 'Gesticuling': 92.46017456054688, 'Greeting': 91.65876007080078, 'Reacting': 105.90906524658203, 'Gaming': 107.74427032470703}}\n"
     ]
    },
    {
     "name": "stderr",
     "output_type": "stream",
     "text": [
      " 15%|█▍        | 801/5352 [01:57<10:17,  7.37it/s]"
     ]
    },
    {
     "name": "stdout",
     "output_type": "stream",
     "text": [
      "{'FullBody': {'All': 105.02599334716797, 'UpperStretching': 105.94618225097656, 'LowerStretching': 119.31331634521484, 'Talking': 72.41852569580078, 'Walking': 102.96073913574219, 'Patting': 82.7580795288086, 'Gesticuling': 79.34860229492188, 'Greeting': 76.13162994384766, 'Reacting': 86.37650299072266, 'Gaming': 86.17032623291016}, 'UpperBody': {'All': 85.52310180664062, 'UpperStretching': 92.25843811035156, 'LowerStretching': 81.46600341796875, 'Talking': 60.53281784057617, 'Walking': 78.45614624023438, 'Patting': 69.91311645507812, 'Gesticuling': 65.54000854492188, 'Greeting': 61.75254821777344, 'Reacting': 66.0943603515625, 'Gaming': 63.064266204833984}, 'LowerBody': {'All': 124.52887725830078, 'UpperStretching': 119.63391876220703, 'LowerStretching': 157.16062927246094, 'Talking': 84.30423736572266, 'Walking': 127.46532440185547, 'Patting': 95.60303497314453, 'Gesticuling': 93.1572036743164, 'Greeting': 90.5107192993164, 'Reacting': 106.65864562988281, 'Gaming': 109.27637481689453}}\n"
     ]
    },
    {
     "name": "stderr",
     "output_type": "stream",
     "text": [
      " 19%|█▊        | 1001/5352 [02:25<09:41,  7.48it/s]"
     ]
    },
    {
     "name": "stdout",
     "output_type": "stream",
     "text": [
      "{'FullBody': {'All': 105.01287841796875, 'UpperStretching': 105.91353607177734, 'LowerStretching': 119.2085952758789, 'Talking': 72.25630187988281, 'Walking': 103.09609985351562, 'Patting': 81.34994506835938, 'Gesticuling': 79.60770416259766, 'Greeting': 75.3515396118164, 'Reacting': 85.95160675048828, 'Gaming': 86.34781646728516}, 'UpperBody': {'All': 85.53050994873047, 'UpperStretching': 92.36876678466797, 'LowerStretching': 81.16557312011719, 'Talking': 60.72517395019531, 'Walking': 78.6829833984375, 'Patting': 68.28150177001953, 'Gesticuling': 65.63143157958984, 'Greeting': 60.71882247924805, 'Reacting': 66.11123657226562, 'Gaming': 63.139583587646484}, 'LowerBody': {'All': 124.49523162841797, 'UpperStretching': 119.45832061767578, 'LowerStretching': 157.25161743164062, 'Talking': 83.78744506835938, 'Walking': 127.50922393798828, 'Patting': 94.41837310791016, 'Gesticuling': 93.58397674560547, 'Greeting': 89.9842529296875, 'Reacting': 105.79196166992188, 'Gaming': 109.55604553222656}}\n"
     ]
    },
    {
     "name": "stderr",
     "output_type": "stream",
     "text": [
      " 22%|██▏       | 1201/5352 [02:53<10:27,  6.62it/s]"
     ]
    },
    {
     "name": "stdout",
     "output_type": "stream",
     "text": [
      "{'FullBody': {'All': 104.79239654541016, 'UpperStretching': 105.64244079589844, 'LowerStretching': 119.05525970458984, 'Talking': 72.04399108886719, 'Walking': 102.64458465576172, 'Patting': 81.15068054199219, 'Gesticuling': 79.91343688964844, 'Greeting': 74.49380493164062, 'Reacting': 85.35225677490234, 'Gaming': 86.21776580810547}, 'UpperBody': {'All': 85.38238525390625, 'UpperStretching': 92.20052337646484, 'LowerStretching': 81.06281280517578, 'Talking': 60.732112884521484, 'Walking': 78.35318756103516, 'Patting': 68.85264587402344, 'Gesticuling': 65.36612701416016, 'Greeting': 60.360877990722656, 'Reacting': 65.49547576904297, 'Gaming': 63.652587890625}, 'LowerBody': {'All': 124.20242309570312, 'UpperStretching': 119.08436584472656, 'LowerStretching': 157.04769897460938, 'Talking': 83.35588836669922, 'Walking': 126.93596649169922, 'Patting': 93.4487075805664, 'Gesticuling': 94.46073150634766, 'Greeting': 88.62673950195312, 'Reacting': 105.20904541015625, 'Gaming': 108.78295135498047}}\n"
     ]
    },
    {
     "name": "stderr",
     "output_type": "stream",
     "text": [
      " 26%|██▌       | 1401/5352 [03:21<09:11,  7.17it/s]"
     ]
    },
    {
     "name": "stdout",
     "output_type": "stream",
     "text": [
      "{'FullBody': {'All': 104.76049041748047, 'UpperStretching': 105.58293151855469, 'LowerStretching': 118.57134246826172, 'Talking': 72.00919342041016, 'Walking': 102.57779693603516, 'Patting': 80.86201477050781, 'Gesticuling': 80.24028015136719, 'Greeting': 74.61280822753906, 'Reacting': 86.23614501953125, 'Gaming': 87.17183685302734}, 'UpperBody': {'All': 85.35785675048828, 'UpperStretching': 92.1597671508789, 'LowerStretching': 80.69481658935547, 'Talking': 61.07777404785156, 'Walking': 78.4970474243164, 'Patting': 69.06056213378906, 'Gesticuling': 65.53174591064453, 'Greeting': 60.680519104003906, 'Reacting': 66.17533874511719, 'Gaming': 64.3137435913086}, 'LowerBody': {'All': 124.16313934326172, 'UpperStretching': 119.00611114501953, 'LowerStretching': 156.44784545898438, 'Talking': 82.94062042236328, 'Walking': 126.65853118896484, 'Patting': 92.6634750366211, 'Gesticuling': 94.94881439208984, 'Greeting': 88.54509735107422, 'Reacting': 106.29694366455078, 'Gaming': 110.02994537353516}}\n"
     ]
    },
    {
     "name": "stderr",
     "output_type": "stream",
     "text": [
      " 30%|██▉       | 1601/5352 [03:49<08:30,  7.35it/s]"
     ]
    },
    {
     "name": "stdout",
     "output_type": "stream",
     "text": [
      "{'FullBody': {'All': 104.75648498535156, 'UpperStretching': 105.56544494628906, 'LowerStretching': 118.69471740722656, 'Talking': 72.35431671142578, 'Walking': 102.59918975830078, 'Patting': 81.64382934570312, 'Gesticuling': 79.68550109863281, 'Greeting': 74.6435775756836, 'Reacting': 85.70631408691406, 'Gaming': 87.34264373779297}, 'UpperBody': {'All': 85.22886657714844, 'UpperStretching': 91.98719787597656, 'LowerStretching': 80.76459503173828, 'Talking': 61.19077682495117, 'Walking': 78.43191528320312, 'Patting': 68.99894714355469, 'Gesticuling': 65.20915985107422, 'Greeting': 60.967952728271484, 'Reacting': 65.69818878173828, 'Gaming': 64.03758239746094}, 'LowerBody': {'All': 124.28413391113281, 'UpperStretching': 119.14369201660156, 'LowerStretching': 156.6248321533203, 'Talking': 83.51786804199219, 'Walking': 126.76644897460938, 'Patting': 94.2886962890625, 'Gesticuling': 94.16183471679688, 'Greeting': 88.31919860839844, 'Reacting': 105.71443939208984, 'Gaming': 110.64769744873047}}\n"
     ]
    },
    {
     "name": "stderr",
     "output_type": "stream",
     "text": [
      " 34%|███▎      | 1801/5352 [04:17<08:44,  6.77it/s]"
     ]
    },
    {
     "name": "stdout",
     "output_type": "stream",
     "text": [
      "{'FullBody': {'All': 104.7982406616211, 'UpperStretching': 105.6197280883789, 'LowerStretching': 118.60377502441406, 'Talking': 73.16385650634766, 'Walking': 102.51679992675781, 'Patting': 82.5162124633789, 'Gesticuling': 79.74633026123047, 'Greeting': 74.76875305175781, 'Reacting': 85.85700988769531, 'Gaming': 87.91316986083984}, 'UpperBody': {'All': 85.23420715332031, 'UpperStretching': 91.96234893798828, 'LowerStretching': 80.7077407836914, 'Talking': 61.62099075317383, 'Walking': 78.27438354492188, 'Patting': 69.4402847290039, 'Gesticuling': 65.4270248413086, 'Greeting': 61.05069351196289, 'Reacting': 65.65913391113281, 'Gaming': 64.46746063232422}, 'LowerBody': {'All': 124.36227416992188, 'UpperStretching': 119.27710723876953, 'LowerStretching': 156.4998321533203, 'Talking': 84.70672607421875, 'Walking': 126.75920104980469, 'Patting': 95.59212493896484, 'Gesticuling': 94.06562805175781, 'Greeting': 88.48682403564453, 'Reacting': 106.05487823486328, 'Gaming': 111.35887145996094}}\n"
     ]
    },
    {
     "name": "stderr",
     "output_type": "stream",
     "text": [
      " 37%|███▋      | 2001/5352 [04:45<07:46,  7.18it/s]"
     ]
    },
    {
     "name": "stdout",
     "output_type": "stream",
     "text": [
      "{'FullBody': {'All': 104.73582458496094, 'UpperStretching': 105.48516845703125, 'LowerStretching': 118.41041564941406, 'Talking': 73.52635192871094, 'Walking': 102.71371459960938, 'Patting': 82.77041625976562, 'Gesticuling': 79.90316009521484, 'Greeting': 74.7413101196289, 'Reacting': 85.9607162475586, 'Gaming': 87.85440826416016}, 'UpperBody': {'All': 85.18704223632812, 'UpperStretching': 91.84886932373047, 'LowerStretching': 80.67900085449219, 'Talking': 61.98118209838867, 'Walking': 78.24845123291016, 'Patting': 69.79899597167969, 'Gesticuling': 65.34312438964844, 'Greeting': 60.93072509765625, 'Reacting': 65.68436431884766, 'Gaming': 64.15462493896484}, 'LowerBody': {'All': 124.28463745117188, 'UpperStretching': 119.12145233154297, 'LowerStretching': 156.141845703125, 'Talking': 85.07152557373047, 'Walking': 127.17900085449219, 'Patting': 95.74185180664062, 'Gesticuling': 94.46321105957031, 'Greeting': 88.55189514160156, 'Reacting': 106.23707580566406, 'Gaming': 111.55419158935547}}\n"
     ]
    },
    {
     "name": "stderr",
     "output_type": "stream",
     "text": [
      " 41%|████      | 2201/5352 [05:13<07:09,  7.34it/s]"
     ]
    },
    {
     "name": "stdout",
     "output_type": "stream",
     "text": [
      "{'FullBody': {'All': 104.82096099853516, 'UpperStretching': 105.55864715576172, 'LowerStretching': 118.58540344238281, 'Talking': 73.3670654296875, 'Walking': 102.78569793701172, 'Patting': 83.674560546875, 'Gesticuling': 79.38740539550781, 'Greeting': 74.54591369628906, 'Reacting': 86.21890258789062, 'Gaming': 87.14275360107422}, 'UpperBody': {'All': 85.27264404296875, 'UpperStretching': 91.9123306274414, 'LowerStretching': 80.84406280517578, 'Talking': 61.83118438720703, 'Walking': 78.28451538085938, 'Patting': 70.70616912841797, 'Gesticuling': 64.9373779296875, 'Greeting': 60.792110443115234, 'Reacting': 65.7208251953125, 'Gaming': 63.9069709777832}, 'LowerBody': {'All': 124.36929321289062, 'UpperStretching': 119.2049560546875, 'LowerStretching': 156.3267364501953, 'Talking': 84.9029541015625, 'Walking': 127.2868881225586, 'Patting': 96.6429443359375, 'Gesticuling': 93.83744049072266, 'Greeting': 88.29971313476562, 'Reacting': 106.71698760986328, 'Gaming': 110.3785400390625}}\n"
     ]
    },
    {
     "name": "stderr",
     "output_type": "stream",
     "text": [
      " 45%|████▍     | 2401/5352 [05:41<07:19,  6.71it/s]"
     ]
    },
    {
     "name": "stdout",
     "output_type": "stream",
     "text": [
      "{'FullBody': {'All': 104.82471466064453, 'UpperStretching': 105.55366516113281, 'LowerStretching': 118.75284576416016, 'Talking': 73.35965728759766, 'Walking': 102.8594741821289, 'Patting': 83.39826965332031, 'Gesticuling': 78.89380645751953, 'Greeting': 74.347412109375, 'Reacting': 86.08206176757812, 'Gaming': 87.16742706298828}, 'UpperBody': {'All': 85.28137969970703, 'UpperStretching': 91.94895935058594, 'LowerStretching': 80.97266387939453, 'Talking': 62.05061721801758, 'Walking': 78.28288269042969, 'Patting': 70.2406234741211, 'Gesticuling': 64.58751678466797, 'Greeting': 60.373477935791016, 'Reacting': 65.53334045410156, 'Gaming': 63.73201370239258}, 'LowerBody': {'All': 124.36805725097656, 'UpperStretching': 119.15835571289062, 'LowerStretching': 156.53305053710938, 'Talking': 84.66869354248047, 'Walking': 127.43607330322266, 'Patting': 96.5559310913086, 'Gesticuling': 93.20008087158203, 'Greeting': 88.32135009765625, 'Reacting': 106.63079833984375, 'Gaming': 110.60283660888672}}\n"
     ]
    },
    {
     "name": "stderr",
     "output_type": "stream",
     "text": [
      " 49%|████▊     | 2601/5352 [06:10<06:35,  6.96it/s]"
     ]
    },
    {
     "name": "stdout",
     "output_type": "stream",
     "text": [
      "{'FullBody': {'All': 104.8166732788086, 'UpperStretching': 105.55528259277344, 'LowerStretching': 118.65911865234375, 'Talking': 73.55891418457031, 'Walking': 102.88580322265625, 'Patting': 83.57923126220703, 'Gesticuling': 79.33031463623047, 'Greeting': 74.47735595703125, 'Reacting': 86.2623519897461, 'Gaming': 86.839599609375}, 'UpperBody': {'All': 85.3217544555664, 'UpperStretching': 91.93514251708984, 'LowerStretching': 80.98934936523438, 'Talking': 62.19135284423828, 'Walking': 78.22610473632812, 'Patting': 70.5967788696289, 'Gesticuling': 65.07321166992188, 'Greeting': 60.49409103393555, 'Reacting': 65.75291442871094, 'Gaming': 63.82291030883789}, 'LowerBody': {'All': 124.31160736083984, 'UpperStretching': 119.17543029785156, 'LowerStretching': 156.32887268066406, 'Talking': 84.92647552490234, 'Walking': 127.54549407958984, 'Patting': 96.56167602539062, 'Gesticuling': 93.5874252319336, 'Greeting': 88.46062469482422, 'Reacting': 106.77179718017578, 'Gaming': 109.85629272460938}}\n"
     ]
    },
    {
     "name": "stderr",
     "output_type": "stream",
     "text": [
      " 52%|█████▏    | 2801/5352 [06:37<05:50,  7.27it/s]"
     ]
    },
    {
     "name": "stdout",
     "output_type": "stream",
     "text": [
      "{'FullBody': {'All': 104.70259094238281, 'UpperStretching': 105.47925567626953, 'LowerStretching': 118.49656677246094, 'Talking': 73.33297729492188, 'Walking': 102.67511749267578, 'Patting': 83.50067138671875, 'Gesticuling': 79.53014373779297, 'Greeting': 74.30978393554688, 'Reacting': 86.12474060058594, 'Gaming': 86.92987060546875}, 'UpperBody': {'All': 85.29859161376953, 'UpperStretching': 91.97396850585938, 'LowerStretching': 80.90106964111328, 'Talking': 62.01848602294922, 'Walking': 78.01386260986328, 'Patting': 70.54711151123047, 'Gesticuling': 65.52059173583984, 'Greeting': 60.623111724853516, 'Reacting': 65.52798461914062, 'Gaming': 64.03662109375}, 'LowerBody': {'All': 124.10660552978516, 'UpperStretching': 118.98455047607422, 'LowerStretching': 156.09205627441406, 'Talking': 84.64747619628906, 'Walking': 127.33634948730469, 'Patting': 96.45423126220703, 'Gesticuling': 93.53970336914062, 'Greeting': 87.99645233154297, 'Reacting': 106.72148895263672, 'Gaming': 109.8231201171875}}\n"
     ]
    },
    {
     "name": "stderr",
     "output_type": "stream",
     "text": [
      " 56%|█████▌    | 3001/5352 [07:06<06:06,  6.42it/s]"
     ]
    },
    {
     "name": "stdout",
     "output_type": "stream",
     "text": [
      "{'FullBody': {'All': 104.61775207519531, 'UpperStretching': 105.44081115722656, 'LowerStretching': 118.44216918945312, 'Talking': 73.38236236572266, 'Walking': 102.4975814819336, 'Patting': 82.71087646484375, 'Gesticuling': 79.47241973876953, 'Greeting': 74.41773223876953, 'Reacting': 85.91486358642578, 'Gaming': 87.03179168701172}, 'UpperBody': {'All': 85.24772644042969, 'UpperStretching': 91.97386169433594, 'LowerStretching': 80.88232421875, 'Talking': 62.26390075683594, 'Walking': 77.89258575439453, 'Patting': 69.85969543457031, 'Gesticuling': 65.41958618164062, 'Greeting': 60.58827209472656, 'Reacting': 65.29688262939453, 'Gaming': 63.906341552734375}, 'LowerBody': {'All': 123.98779296875, 'UpperStretching': 118.90776824951172, 'LowerStretching': 156.00201416015625, 'Talking': 84.50083923339844, 'Walking': 127.10259246826172, 'Patting': 95.56204986572266, 'Gesticuling': 93.5252685546875, 'Greeting': 88.24718475341797, 'Reacting': 106.53282928466797, 'Gaming': 110.15724182128906}}\n"
     ]
    },
    {
     "name": "stderr",
     "output_type": "stream",
     "text": [
      " 60%|█████▉    | 3201/5352 [07:34<05:00,  7.16it/s]"
     ]
    },
    {
     "name": "stdout",
     "output_type": "stream",
     "text": [
      "{'FullBody': {'All': 104.62271118164062, 'UpperStretching': 105.43641662597656, 'LowerStretching': 118.39095306396484, 'Talking': 73.28575897216797, 'Walking': 102.48737335205078, 'Patting': 84.17301177978516, 'Gesticuling': 79.447509765625, 'Greeting': 73.76107788085938, 'Reacting': 85.64595031738281, 'Gaming': 86.7518310546875}, 'UpperBody': {'All': 85.2370834350586, 'UpperStretching': 91.98239135742188, 'LowerStretching': 80.82005310058594, 'Talking': 62.20168685913086, 'Walking': 77.85836791992188, 'Patting': 70.37814331054688, 'Gesticuling': 65.38623809814453, 'Greeting': 60.05870056152344, 'Reacting': 65.20185089111328, 'Gaming': 63.835697174072266}, 'LowerBody': {'All': 124.00836944580078, 'UpperStretching': 118.89044189453125, 'LowerStretching': 155.96185302734375, 'Talking': 84.3698501586914, 'Walking': 127.11637878417969, 'Patting': 97.9678726196289, 'Gesticuling': 93.50877380371094, 'Greeting': 87.46346282958984, 'Reacting': 106.09004211425781, 'Gaming': 109.66793823242188}}\n"
     ]
    },
    {
     "name": "stderr",
     "output_type": "stream",
     "text": [
      " 64%|██████▎   | 3401/5352 [08:02<04:42,  6.91it/s]"
     ]
    },
    {
     "name": "stdout",
     "output_type": "stream",
     "text": [
      "{'FullBody': {'All': 104.6634521484375, 'UpperStretching': 105.41325378417969, 'LowerStretching': 118.50801086425781, 'Talking': 74.03921508789062, 'Walking': 102.47438049316406, 'Patting': 85.11285400390625, 'Gesticuling': 79.48106384277344, 'Greeting': 73.39039611816406, 'Reacting': 85.71340942382812, 'Gaming': 86.89512634277344}, 'UpperBody': {'All': 85.22904968261719, 'UpperStretching': 91.92076873779297, 'LowerStretching': 80.89231872558594, 'Talking': 62.715354919433594, 'Walking': 77.90230560302734, 'Patting': 71.24393463134766, 'Gesticuling': 65.42542266845703, 'Greeting': 59.7285041809082, 'Reacting': 65.04039001464844, 'Gaming': 63.65300369262695}, 'LowerBody': {'All': 124.0978775024414, 'UpperStretching': 118.90573120117188, 'LowerStretching': 156.12371826171875, 'Talking': 85.36307525634766, 'Walking': 127.04647064208984, 'Patting': 98.98177337646484, 'Gesticuling': 93.53671264648438, 'Greeting': 87.05229949951172, 'Reacting': 106.38642883300781, 'Gaming': 110.13724517822266}}\n"
     ]
    },
    {
     "name": "stderr",
     "output_type": "stream",
     "text": [
      " 67%|██████▋   | 3601/5352 [08:30<04:28,  6.52it/s]"
     ]
    },
    {
     "name": "stdout",
     "output_type": "stream",
     "text": [
      "{'FullBody': {'All': 104.66398620605469, 'UpperStretching': 105.40709686279297, 'LowerStretching': 118.55481719970703, 'Talking': 74.13613891601562, 'Walking': 102.48452758789062, 'Patting': 84.95942687988281, 'Gesticuling': 79.27983093261719, 'Greeting': 73.31704711914062, 'Reacting': 85.57579040527344, 'Gaming': 86.66411590576172}, 'UpperBody': {'All': 85.23489379882812, 'UpperStretching': 91.93138122558594, 'LowerStretching': 80.93062591552734, 'Talking': 62.7827033996582, 'Walking': 77.86014556884766, 'Patting': 71.09199523925781, 'Gesticuling': 65.26441192626953, 'Greeting': 59.76625442504883, 'Reacting': 64.9474868774414, 'Gaming': 63.55668258666992}, 'LowerBody': {'All': 124.09310150146484, 'UpperStretching': 118.88282775878906, 'LowerStretching': 156.1790008544922, 'Talking': 85.48956298828125, 'Walking': 127.10888671875, 'Patting': 98.82685852050781, 'Gesticuling': 93.29525756835938, 'Greeting': 86.86784362792969, 'Reacting': 106.2041015625, 'Gaming': 109.77153778076172}}\n"
     ]
    },
    {
     "name": "stderr",
     "output_type": "stream",
     "text": [
      " 71%|███████   | 3801/5352 [08:58<03:43,  6.93it/s]"
     ]
    },
    {
     "name": "stdout",
     "output_type": "stream",
     "text": [
      "{'FullBody': {'All': 104.6475601196289, 'UpperStretching': 105.3639907836914, 'LowerStretching': 118.62255859375, 'Talking': 74.0344009399414, 'Walking': 102.50032043457031, 'Patting': 84.66207122802734, 'Gesticuling': 79.44911193847656, 'Greeting': 73.47795867919922, 'Reacting': 85.45105743408203, 'Gaming': 87.02717590332031}, 'UpperBody': {'All': 85.22786712646484, 'UpperStretching': 91.90876770019531, 'LowerStretching': 80.89691925048828, 'Talking': 62.701419830322266, 'Walking': 77.9160385131836, 'Patting': 71.0336685180664, 'Gesticuling': 65.52748107910156, 'Greeting': 60.143619537353516, 'Reacting': 65.01446533203125, 'Gaming': 63.60285568237305}, 'LowerBody': {'All': 124.0672607421875, 'UpperStretching': 118.81922912597656, 'LowerStretching': 156.34820556640625, 'Talking': 85.36739349365234, 'Walking': 127.08460998535156, 'Patting': 98.29045867919922, 'Gesticuling': 93.37074279785156, 'Greeting': 86.81229400634766, 'Reacting': 105.88764953613281, 'Gaming': 110.45148468017578}}\n"
     ]
    },
    {
     "name": "stderr",
     "output_type": "stream",
     "text": [
      " 75%|███████▍  | 4001/5352 [09:26<03:12,  7.00it/s]"
     ]
    },
    {
     "name": "stdout",
     "output_type": "stream",
     "text": [
      "{'FullBody': {'All': 104.65631866455078, 'UpperStretching': 105.36506652832031, 'LowerStretching': 118.64897918701172, 'Talking': 73.939208984375, 'Walking': 102.5928726196289, 'Patting': 84.06166076660156, 'Gesticuling': 79.4636459350586, 'Greeting': 73.47101593017578, 'Reacting': 85.47315979003906, 'Gaming': 87.08695983886719}, 'UpperBody': {'All': 85.24065399169922, 'UpperStretching': 91.9295425415039, 'LowerStretching': 80.88681030273438, 'Talking': 62.765384674072266, 'Walking': 78.04055786132812, 'Patting': 70.46248626708984, 'Gesticuling': 65.62303161621094, 'Greeting': 60.36025619506836, 'Reacting': 65.06609344482422, 'Gaming': 63.598392486572266}, 'LowerBody': {'All': 124.07200622558594, 'UpperStretching': 118.80059814453125, 'LowerStretching': 156.41116333007812, 'Talking': 85.11305236816406, 'Walking': 127.14519500732422, 'Patting': 97.66082763671875, 'Gesticuling': 93.30426788330078, 'Greeting': 86.58177947998047, 'Reacting': 105.8802261352539, 'Gaming': 110.57554626464844}}\n"
     ]
    },
    {
     "name": "stderr",
     "output_type": "stream",
     "text": [
      " 78%|███████▊  | 4201/5352 [09:54<02:59,  6.40it/s]"
     ]
    },
    {
     "name": "stdout",
     "output_type": "stream",
     "text": [
      "{'FullBody': {'All': 104.65107727050781, 'UpperStretching': 105.33098602294922, 'LowerStretching': 118.65815734863281, 'Talking': 73.99938201904297, 'Walking': 102.63201141357422, 'Patting': 84.16991424560547, 'Gesticuling': 79.30186462402344, 'Greeting': 73.37943267822266, 'Reacting': 85.44695281982422, 'Gaming': 87.30586242675781}, 'UpperBody': {'All': 85.2290267944336, 'UpperStretching': 91.89498138427734, 'LowerStretching': 80.8843994140625, 'Talking': 62.91168975830078, 'Walking': 78.13489532470703, 'Patting': 70.43350982666016, 'Gesticuling': 65.42678833007812, 'Greeting': 60.36155700683594, 'Reacting': 65.02230834960938, 'Gaming': 63.611473083496094}, 'LowerBody': {'All': 124.07315063476562, 'UpperStretching': 118.76701354980469, 'LowerStretching': 156.4319305419922, 'Talking': 85.08707427978516, 'Walking': 127.12911224365234, 'Patting': 97.90631103515625, 'Gesticuling': 93.17694854736328, 'Greeting': 86.39729309082031, 'Reacting': 105.87159729003906, 'Gaming': 111.00025177001953}}\n"
     ]
    },
    {
     "name": "stderr",
     "output_type": "stream",
     "text": [
      " 82%|████████▏ | 4401/5352 [10:22<02:19,  6.83it/s]"
     ]
    },
    {
     "name": "stdout",
     "output_type": "stream",
     "text": [
      "{'FullBody': {'All': 104.6275405883789, 'UpperStretching': 105.29216003417969, 'LowerStretching': 118.7838134765625, 'Talking': 74.43537902832031, 'Walking': 102.6567611694336, 'Patting': 83.68022918701172, 'Gesticuling': 79.08179473876953, 'Greeting': 73.5924301147461, 'Reacting': 85.3289566040039, 'Gaming': 87.34357452392578}, 'UpperBody': {'All': 85.20680236816406, 'UpperStretching': 91.8844223022461, 'LowerStretching': 80.8838119506836, 'Talking': 63.06959915161133, 'Walking': 78.17005920410156, 'Patting': 70.06975555419922, 'Gesticuling': 65.14571380615234, 'Greeting': 60.435638427734375, 'Reacting': 64.8624496459961, 'Gaming': 63.5574836730957}, 'LowerBody': {'All': 124.04829406738281, 'UpperStretching': 118.69990539550781, 'LowerStretching': 156.683837890625, 'Talking': 85.80115509033203, 'Walking': 127.1434555053711, 'Patting': 97.29068756103516, 'Gesticuling': 93.01787567138672, 'Greeting': 86.74922943115234, 'Reacting': 105.79546356201172, 'Gaming': 111.12967681884766}}\n"
     ]
    },
    {
     "name": "stderr",
     "output_type": "stream",
     "text": [
      " 86%|████████▌ | 4601/5352 [10:50<01:48,  6.93it/s]"
     ]
    },
    {
     "name": "stdout",
     "output_type": "stream",
     "text": [
      "{'FullBody': {'All': 104.61556243896484, 'UpperStretching': 105.29132843017578, 'LowerStretching': 118.69677734375, 'Talking': 74.39604949951172, 'Walking': 102.58291625976562, 'Patting': 83.55095672607422, 'Gesticuling': 79.16922760009766, 'Greeting': 73.70812225341797, 'Reacting': 85.42606353759766, 'Gaming': 87.18547821044922}, 'UpperBody': {'All': 85.18717193603516, 'UpperStretching': 91.88690948486328, 'LowerStretching': 80.840576171875, 'Talking': 63.02408981323242, 'Walking': 78.07704162597656, 'Patting': 69.93260192871094, 'Gesticuling': 65.1523208618164, 'Greeting': 60.42842483520508, 'Reacting': 64.77183532714844, 'Gaming': 63.6339111328125}, 'LowerBody': {'All': 124.0439682006836, 'UpperStretching': 118.69576263427734, 'LowerStretching': 156.552978515625, 'Talking': 85.76800537109375, 'Walking': 127.08880615234375, 'Patting': 97.16929626464844, 'Gesticuling': 93.1861343383789, 'Greeting': 86.98783111572266, 'Reacting': 106.08029174804688, 'Gaming': 110.7370376586914}}\n"
     ]
    },
    {
     "name": "stderr",
     "output_type": "stream",
     "text": [
      " 90%|████████▉ | 4801/5352 [11:19<01:26,  6.37it/s]"
     ]
    },
    {
     "name": "stdout",
     "output_type": "stream",
     "text": [
      "{'FullBody': {'All': 104.63278198242188, 'UpperStretching': 105.29920959472656, 'LowerStretching': 118.6728286743164, 'Talking': 74.31087493896484, 'Walking': 102.59587860107422, 'Patting': 83.57554626464844, 'Gesticuling': 79.18804931640625, 'Greeting': 73.63102722167969, 'Reacting': 85.50924682617188, 'Gaming': 87.2484130859375}, 'UpperBody': {'All': 85.17855834960938, 'UpperStretching': 91.85442352294922, 'LowerStretching': 80.82489776611328, 'Talking': 62.97800064086914, 'Walking': 78.11898040771484, 'Patting': 69.88545227050781, 'Gesticuling': 65.17052459716797, 'Greeting': 60.403419494628906, 'Reacting': 64.84260559082031, 'Gaming': 63.66828155517578}, 'LowerBody': {'All': 124.08700561523438, 'UpperStretching': 118.7440185546875, 'LowerStretching': 156.52076721191406, 'Talking': 85.64373016357422, 'Walking': 127.07278442382812, 'Patting': 97.26563262939453, 'Gesticuling': 93.20556640625, 'Greeting': 86.858642578125, 'Reacting': 106.17588806152344, 'Gaming': 110.82852935791016}}\n"
     ]
    },
    {
     "name": "stderr",
     "output_type": "stream",
     "text": [
      " 93%|█████████▎| 5001/5352 [11:47<00:51,  6.83it/s]"
     ]
    },
    {
     "name": "stdout",
     "output_type": "stream",
     "text": [
      "{'FullBody': {'All': 104.62711334228516, 'UpperStretching': 105.2895736694336, 'LowerStretching': 118.67506408691406, 'Talking': 74.39554595947266, 'Walking': 102.66410064697266, 'Patting': 83.46772003173828, 'Gesticuling': 79.15306854248047, 'Greeting': 73.18153381347656, 'Reacting': 85.40255737304688, 'Gaming': 87.19086456298828}, 'UpperBody': {'All': 85.16666412353516, 'UpperStretching': 91.83893585205078, 'LowerStretching': 80.81119537353516, 'Talking': 63.079322814941406, 'Walking': 78.18924713134766, 'Patting': 69.84601593017578, 'Gesticuling': 65.15128326416016, 'Greeting': 59.87104797363281, 'Reacting': 64.8135986328125, 'Gaming': 63.6369743347168}, 'LowerBody': {'All': 124.08756256103516, 'UpperStretching': 118.74022674560547, 'LowerStretching': 156.5389404296875, 'Talking': 85.71177673339844, 'Walking': 127.13896942138672, 'Patting': 97.08942413330078, 'Gesticuling': 93.15486907958984, 'Greeting': 86.49201965332031, 'Reacting': 105.99153137207031, 'Gaming': 110.74473571777344}}\n"
     ]
    },
    {
     "name": "stderr",
     "output_type": "stream",
     "text": [
      " 97%|█████████▋| 5201/5352 [12:15<00:22,  6.85it/s]"
     ]
    },
    {
     "name": "stdout",
     "output_type": "stream",
     "text": [
      "{'FullBody': {'All': 104.64329528808594, 'UpperStretching': 105.29629516601562, 'LowerStretching': 118.63911437988281, 'Talking': 74.27977752685547, 'Walking': 102.66584777832031, 'Patting': 83.64842224121094, 'Gesticuling': 79.19554138183594, 'Greeting': 72.8336410522461, 'Reacting': 85.63646697998047, 'Gaming': 87.3336181640625}, 'UpperBody': {'All': 85.1719741821289, 'UpperStretching': 91.82492065429688, 'LowerStretching': 80.82601165771484, 'Talking': 62.9329833984375, 'Walking': 78.22087860107422, 'Patting': 69.87002563476562, 'Gesticuling': 65.05281066894531, 'Greeting': 59.71478271484375, 'Reacting': 65.10979461669922, 'Gaming': 63.695220947265625}, 'LowerBody': {'All': 124.1146011352539, 'UpperStretching': 118.76768493652344, 'LowerStretching': 156.45223999023438, 'Talking': 85.62657928466797, 'Walking': 127.11083984375, 'Patting': 97.42681884765625, 'Gesticuling': 93.33827209472656, 'Greeting': 85.9525146484375, 'Reacting': 106.16311645507812, 'Gaming': 110.97201538085938}}\n"
     ]
    },
    {
     "name": "stderr",
     "output_type": "stream",
     "text": [
      "100%|██████████| 5352/5352 [12:36<00:00,  7.08it/s]\n",
      "\u001b[94m09:24:23 \u001b[92m[INFO]\u001b[94m Main\u001b[0m: Saving evaluation results...\n",
      "\u001b[94m09:24:23 \u001b[92m[INFO]\u001b[94m Main\u001b[0m: Done.\n",
      "\u001b[94m09:24:23 \u001b[92m[INFO]\u001b[94m Main\u001b[0m: Starting demo...\n",
      "  0%|          | 0/5352 [00:00<?, ?it/s]/opt/conda/lib/python3.10/site-packages/torchvision/transforms/transforms.py:329: UserWarning: Argument 'interpolation' of type int is deprecated since 0.13 and will be removed in 0.15. Please use InterpolationMode enum.\n",
      "  warnings.warn(\n",
      "/opt/conda/lib/python3.10/site-packages/torchvision/transforms/transforms.py:329: UserWarning: Argument 'interpolation' of type int is deprecated since 0.13 and will be removed in 0.15. Please use InterpolationMode enum.\n",
      "  warnings.warn(\n",
      "/opt/conda/lib/python3.10/site-packages/torchvision/transforms/transforms.py:329: UserWarning: Argument 'interpolation' of type int is deprecated since 0.13 and will be removed in 0.15. Please use InterpolationMode enum.\n",
      "  warnings.warn(\n",
      "/opt/conda/lib/python3.10/site-packages/torchvision/transforms/transforms.py:329: UserWarning: Argument 'interpolation' of type int is deprecated since 0.13 and will be removed in 0.15. Please use InterpolationMode enum.\n",
      "  warnings.warn(\n",
      "/opt/conda/lib/python3.10/site-packages/torchvision/transforms/transforms.py:329: UserWarning: Argument 'interpolation' of type int is deprecated since 0.13 and will be removed in 0.15. Please use InterpolationMode enum.\n",
      "  warnings.warn(\n",
      "/opt/conda/lib/python3.10/site-packages/torchvision/transforms/transforms.py:329: UserWarning: Argument 'interpolation' of type int is deprecated since 0.13 and will be removed in 0.15. Please use InterpolationMode enum.\n",
      "  warnings.warn(\n",
      "/opt/conda/lib/python3.10/site-packages/torchvision/transforms/transforms.py:329: UserWarning: Argument 'interpolation' of type int is deprecated since 0.13 and will be removed in 0.15. Please use InterpolationMode enum.\n",
      "  warnings.warn(\n",
      "/opt/conda/lib/python3.10/site-packages/torchvision/transforms/transforms.py:329: UserWarning: Argument 'interpolation' of type int is deprecated since 0.13 and will be removed in 0.15. Please use InterpolationMode enum.\n",
      "  warnings.warn(\n",
      "/opt/conda/lib/python3.10/site-packages/torchvision/transforms/transforms.py:329: UserWarning: Argument 'interpolation' of type int is deprecated since 0.13 and will be removed in 0.15. Please use InterpolationMode enum.\n",
      "  warnings.warn(\n",
      "/opt/conda/lib/python3.10/site-packages/torchvision/transforms/transforms.py:329: UserWarning: Argument 'interpolation' of type int is deprecated since 0.13 and will be removed in 0.15. Please use InterpolationMode enum.\n",
      "  warnings.warn(\n",
      "/opt/conda/lib/python3.10/site-packages/torchvision/transforms/transforms.py:329: UserWarning: Argument 'interpolation' of type int is deprecated since 0.13 and will be removed in 0.15. Please use InterpolationMode enum.\n",
      "  warnings.warn(\n",
      "/opt/conda/lib/python3.10/site-packages/torchvision/transforms/transforms.py:329: UserWarning: Argument 'interpolation' of type int is deprecated since 0.13 and will be removed in 0.15. Please use InterpolationMode enum.\n",
      "  warnings.warn(\n",
      "/opt/conda/lib/python3.10/site-packages/torchvision/transforms/transforms.py:329: UserWarning: Argument 'interpolation' of type int is deprecated since 0.13 and will be removed in 0.15. Please use InterpolationMode enum.\n",
      "  warnings.warn(\n",
      "/opt/conda/lib/python3.10/site-packages/torchvision/transforms/transforms.py:329: UserWarning: Argument 'interpolation' of type int is deprecated since 0.13 and will be removed in 0.15. Please use InterpolationMode enum.\n",
      "  warnings.warn(\n",
      "/opt/conda/lib/python3.10/site-packages/torchvision/transforms/transforms.py:329: UserWarning: Argument 'interpolation' of type int is deprecated since 0.13 and will be removed in 0.15. Please use InterpolationMode enum.\n",
      "  warnings.warn(\n",
      "/opt/conda/lib/python3.10/site-packages/torchvision/transforms/transforms.py:329: UserWarning: Argument 'interpolation' of type int is deprecated since 0.13 and will be removed in 0.15. Please use InterpolationMode enum.\n",
      "  warnings.warn(\n",
      "/opt/conda/lib/python3.10/site-packages/torchvision/transforms/transforms.py:329: UserWarning: Argument 'interpolation' of type int is deprecated since 0.13 and will be removed in 0.15. Please use InterpolationMode enum.\n",
      "  warnings.warn(\n",
      "/opt/conda/lib/python3.10/site-packages/torchvision/transforms/transforms.py:329: UserWarning: Argument 'interpolation' of type int is deprecated since 0.13 and will be removed in 0.15. Please use InterpolationMode enum.\n",
      "  warnings.warn(\n",
      "/opt/conda/lib/python3.10/site-packages/torchvision/transforms/transforms.py:329: UserWarning: Argument 'interpolation' of type int is deprecated since 0.13 and will be removed in 0.15. Please use InterpolationMode enum.\n",
      "  warnings.warn(\n",
      "/opt/conda/lib/python3.10/site-packages/torchvision/transforms/transforms.py:329: UserWarning: Argument 'interpolation' of type int is deprecated since 0.13 and will be removed in 0.15. Please use InterpolationMode enum.\n",
      "  warnings.warn(\n",
      "/opt/conda/lib/python3.10/site-packages/torchvision/transforms/transforms.py:329: UserWarning: Argument 'interpolation' of type int is deprecated since 0.13 and will be removed in 0.15. Please use InterpolationMode enum.\n",
      "  warnings.warn(\n",
      "/opt/conda/lib/python3.10/site-packages/torchvision/transforms/transforms.py:329: UserWarning: Argument 'interpolation' of type int is deprecated since 0.13 and will be removed in 0.15. Please use InterpolationMode enum.\n",
      "  warnings.warn(\n",
      "/opt/conda/lib/python3.10/site-packages/torchvision/transforms/transforms.py:329: UserWarning: Argument 'interpolation' of type int is deprecated since 0.13 and will be removed in 0.15. Please use InterpolationMode enum.\n",
      "  warnings.warn(\n",
      "/opt/conda/lib/python3.10/site-packages/torchvision/transforms/transforms.py:329: UserWarning: Argument 'interpolation' of type int is deprecated since 0.13 and will be removed in 0.15. Please use InterpolationMode enum.\n",
      "  warnings.warn(\n",
      "  4%|▍         | 201/5352 [00:34<12:27,  6.89it/s]"
     ]
    },
    {
     "name": "stdout",
     "output_type": "stream",
     "text": [
      "{'FullBody': {'All': 86.25761413574219, 'UpperStretching': 88.37569427490234, 'Walking': 88.0077896118164, 'LowerStretching': 86.97856903076172, 'Gaming': 80.48741912841797, 'Patting': 81.8259506225586, 'Reacting': 73.92626190185547, 'Gesticuling': 60.535953521728516, 'Greeting': 69.4833755493164, 'Talking': 67.32328796386719}, 'UpperBody': {'All': 76.83059692382812, 'UpperStretching': 82.54533386230469, 'Walking': 74.46540832519531, 'LowerStretching': 66.21160888671875, 'Gaming': 68.83877563476562, 'Patting': 67.54317474365234, 'Reacting': 68.71790313720703, 'Gesticuling': 60.755062103271484, 'Greeting': 81.042724609375, 'Talking': 71.42825317382812}, 'LowerBody': {'All': 95.68464660644531, 'UpperStretching': 94.20606231689453, 'Walking': 101.55016326904297, 'LowerStretching': 107.74553680419922, 'Gaming': 92.1360855102539, 'Patting': 96.10871124267578, 'Reacting': 79.1346206665039, 'Gesticuling': 60.31682586669922, 'Greeting': 57.92403030395508, 'Talking': 63.218345642089844}}\n"
     ]
    },
    {
     "name": "stderr",
     "output_type": "stream",
     "text": [
      "  7%|▋         | 401/5352 [01:01<11:03,  7.46it/s]"
     ]
    },
    {
     "name": "stdout",
     "output_type": "stream",
     "text": [
      "{'FullBody': {'All': 86.08258056640625, 'UpperStretching': 88.3381576538086, 'Walking': 87.73102569580078, 'LowerStretching': 86.39286804199219, 'Gaming': 78.45621490478516, 'Patting': 86.21662139892578, 'Reacting': 71.88448333740234, 'Gesticuling': 61.30954360961914, 'Greeting': 67.33808135986328, 'Talking': 65.1472396850586}, 'UpperBody': {'All': 76.94950103759766, 'UpperStretching': 82.68856811523438, 'Walking': 73.52288055419922, 'LowerStretching': 65.96309661865234, 'Gaming': 67.26533508300781, 'Patting': 74.4107437133789, 'Reacting': 66.42064666748047, 'Gesticuling': 61.428504943847656, 'Greeting': 74.46405792236328, 'Talking': 68.03765869140625}, 'LowerBody': {'All': 95.21566772460938, 'UpperStretching': 93.98774719238281, 'Walking': 101.93917083740234, 'LowerStretching': 106.82262420654297, 'Gaming': 89.6471176147461, 'Patting': 98.02249908447266, 'Reacting': 77.34832763671875, 'Gesticuling': 61.19057846069336, 'Greeting': 60.21210479736328, 'Talking': 62.2568244934082}}\n"
     ]
    },
    {
     "name": "stderr",
     "output_type": "stream",
     "text": [
      " 11%|█         | 601/5352 [01:29<10:43,  7.38it/s]"
     ]
    },
    {
     "name": "stdout",
     "output_type": "stream",
     "text": [
      "{'FullBody': {'All': 85.88475036621094, 'UpperStretching': 88.36978149414062, 'Walking': 87.58633422851562, 'LowerStretching': 86.22832489013672, 'Gaming': 76.79391479492188, 'Patting': 84.39148712158203, 'Reacting': 71.62023162841797, 'Gesticuling': 60.8610725402832, 'Greeting': 66.77528381347656, 'Talking': 65.45155334472656}, 'UpperBody': {'All': 76.70582580566406, 'UpperStretching': 82.71887969970703, 'Walking': 73.55340576171875, 'LowerStretching': 65.83695220947266, 'Gaming': 65.81292724609375, 'Patting': 70.08259582519531, 'Reacting': 65.10787963867188, 'Gesticuling': 60.7962646484375, 'Greeting': 74.46307373046875, 'Talking': 68.308349609375}, 'LowerBody': {'All': 95.06367492675781, 'UpperStretching': 94.02069091796875, 'Walking': 101.61927032470703, 'LowerStretching': 106.61968994140625, 'Gaming': 87.77490234375, 'Patting': 98.70039367675781, 'Reacting': 78.13257598876953, 'Gesticuling': 60.9258918762207, 'Greeting': 59.087486267089844, 'Talking': 62.594757080078125}}\n"
     ]
    },
    {
     "name": "stderr",
     "output_type": "stream",
     "text": [
      " 15%|█▍        | 801/5352 [01:57<10:59,  6.90it/s]"
     ]
    },
    {
     "name": "stdout",
     "output_type": "stream",
     "text": [
      "{'FullBody': {'All': 85.87267303466797, 'UpperStretching': 88.2787857055664, 'Walking': 88.22456359863281, 'LowerStretching': 85.9713363647461, 'Gaming': 76.55548095703125, 'Patting': 83.27117156982422, 'Reacting': 72.43438720703125, 'Gesticuling': 61.12238693237305, 'Greeting': 66.64018249511719, 'Talking': 65.6673812866211}, 'UpperBody': {'All': 76.69469451904297, 'UpperStretching': 82.56563568115234, 'Walking': 73.93281555175781, 'LowerStretching': 65.8368148803711, 'Gaming': 66.02171325683594, 'Patting': 68.9314956665039, 'Reacting': 66.01417541503906, 'Gesticuling': 61.06449890136719, 'Greeting': 73.09439849853516, 'Talking': 70.23644256591797}, 'LowerBody': {'All': 95.05066680908203, 'UpperStretching': 93.99193572998047, 'Walking': 102.51631164550781, 'LowerStretching': 106.1058578491211, 'Gaming': 87.08924865722656, 'Patting': 97.61084747314453, 'Reacting': 78.85460662841797, 'Gesticuling': 61.18028259277344, 'Greeting': 60.18596649169922, 'Talking': 61.09830856323242}}\n"
     ]
    },
    {
     "name": "stderr",
     "output_type": "stream",
     "text": [
      " 19%|█▊        | 1001/5352 [02:25<10:02,  7.22it/s]"
     ]
    },
    {
     "name": "stdout",
     "output_type": "stream",
     "text": [
      "{'FullBody': {'All': 85.83120727539062, 'UpperStretching': 88.2795181274414, 'Walking': 87.77533721923828, 'LowerStretching': 86.03752899169922, 'Gaming': 76.43315124511719, 'Patting': 82.3481674194336, 'Reacting': 72.07185363769531, 'Gesticuling': 61.105106353759766, 'Greeting': 66.70503997802734, 'Talking': 65.55772399902344}, 'UpperBody': {'All': 76.68624877929688, 'UpperStretching': 82.60293579101562, 'Walking': 73.73735809326172, 'LowerStretching': 65.79149627685547, 'Gaming': 65.78823852539062, 'Patting': 67.59551239013672, 'Reacting': 66.1130142211914, 'Gesticuling': 60.80426025390625, 'Greeting': 72.97240447998047, 'Talking': 70.61920166015625}, 'LowerBody': {'All': 94.9761734008789, 'UpperStretching': 93.95610046386719, 'Walking': 101.81333923339844, 'LowerStretching': 106.28355407714844, 'Gaming': 87.07806396484375, 'Patting': 97.10081481933594, 'Reacting': 78.03068542480469, 'Gesticuling': 61.40595626831055, 'Greeting': 60.43769073486328, 'Talking': 60.49625015258789}}\n"
     ]
    },
    {
     "name": "stderr",
     "output_type": "stream",
     "text": [
      " 22%|██▏       | 1201/5352 [02:53<09:44,  7.11it/s]"
     ]
    },
    {
     "name": "stdout",
     "output_type": "stream",
     "text": [
      "{'FullBody': {'All': 85.73230743408203, 'UpperStretching': 88.22622680664062, 'Walking': 87.8030014038086, 'LowerStretching': 85.9686279296875, 'Gaming': 75.37693786621094, 'Patting': 80.98588562011719, 'Reacting': 72.48149871826172, 'Gesticuling': 60.466331481933594, 'Greeting': 67.30020904541016, 'Talking': 65.98741149902344}, 'UpperBody': {'All': 76.59235382080078, 'UpperStretching': 82.57653045654297, 'Walking': 73.68759155273438, 'LowerStretching': 65.69316101074219, 'Gaming': 64.6058120727539, 'Patting': 66.32450866699219, 'Reacting': 66.27037811279297, 'Gesticuling': 60.49036407470703, 'Greeting': 73.1221923828125, 'Talking': 70.3695068359375}, 'LowerBody': {'All': 94.87224578857422, 'UpperStretching': 93.87593841552734, 'Walking': 101.91839599609375, 'LowerStretching': 106.24410247802734, 'Gaming': 86.14805603027344, 'Patting': 95.64727020263672, 'Reacting': 78.69261169433594, 'Gesticuling': 60.44229507446289, 'Greeting': 61.47822189331055, 'Talking': 61.60532760620117}}\n"
     ]
    },
    {
     "name": "stderr",
     "output_type": "stream",
     "text": [
      " 26%|██▌       | 1401/5352 [03:21<10:14,  6.43it/s]"
     ]
    },
    {
     "name": "stdout",
     "output_type": "stream",
     "text": [
      "{'FullBody': {'All': 85.58902740478516, 'UpperStretching': 88.10089874267578, 'Walking': 87.5162353515625, 'LowerStretching': 85.70777130126953, 'Gaming': 75.16202545166016, 'Patting': 82.0838851928711, 'Reacting': 72.12386322021484, 'Gesticuling': 60.905513763427734, 'Greeting': 67.06021881103516, 'Talking': 65.87451934814453}, 'UpperBody': {'All': 76.4563980102539, 'UpperStretching': 82.46456146240234, 'Walking': 73.69146728515625, 'LowerStretching': 65.42051696777344, 'Gaming': 63.98631286621094, 'Patting': 67.80970764160156, 'Reacting': 65.87567138671875, 'Gesticuling': 60.93239974975586, 'Greeting': 72.70552062988281, 'Talking': 70.41502380371094}, 'LowerBody': {'All': 94.72164916992188, 'UpperStretching': 93.73724365234375, 'Walking': 101.34100341796875, 'LowerStretching': 105.99504852294922, 'Gaming': 86.3377456665039, 'Patting': 96.35806274414062, 'Reacting': 78.3720474243164, 'Gesticuling': 60.878623962402344, 'Greeting': 61.414920806884766, 'Talking': 61.33401107788086}}\n"
     ]
    },
    {
     "name": "stderr",
     "output_type": "stream",
     "text": [
      " 30%|██▉       | 1601/5352 [03:49<08:42,  7.17it/s]"
     ]
    },
    {
     "name": "stdout",
     "output_type": "stream",
     "text": [
      "{'FullBody': {'All': 85.52493286132812, 'UpperStretching': 88.14212036132812, 'Walking': 87.05445098876953, 'LowerStretching': 85.71614837646484, 'Gaming': 75.37763214111328, 'Patting': 80.51498413085938, 'Reacting': 71.65367889404297, 'Gesticuling': 61.17204666137695, 'Greeting': 66.779296875, 'Talking': 66.0489273071289}, 'UpperBody': {'All': 76.4637680053711, 'UpperStretching': 82.55033111572266, 'Walking': 73.40383911132812, 'LowerStretching': 65.53219604492188, 'Gaming': 64.56295776367188, 'Patting': 66.8803482055664, 'Reacting': 65.42748260498047, 'Gesticuling': 60.97737121582031, 'Greeting': 72.44705200195312, 'Talking': 70.36512756347656}, 'LowerBody': {'All': 94.58607482910156, 'UpperStretching': 93.7339096069336, 'Walking': 100.70506286621094, 'LowerStretching': 105.90010833740234, 'Gaming': 86.19232177734375, 'Patting': 94.14961242675781, 'Reacting': 77.8798828125, 'Gesticuling': 61.366729736328125, 'Greeting': 61.111534118652344, 'Talking': 61.732723236083984}}\n"
     ]
    },
    {
     "name": "stderr",
     "output_type": "stream",
     "text": [
      " 34%|███▎      | 1801/5352 [04:17<07:53,  7.51it/s]"
     ]
    },
    {
     "name": "stdout",
     "output_type": "stream",
     "text": [
      "{'FullBody': {'All': 85.4656982421875, 'UpperStretching': 88.11520385742188, 'Walking': 86.89170837402344, 'LowerStretching': 85.62349700927734, 'Gaming': 75.82060241699219, 'Patting': 79.96432495117188, 'Reacting': 71.67955780029297, 'Gesticuling': 60.7656135559082, 'Greeting': 66.59748077392578, 'Talking': 65.97309875488281}, 'UpperBody': {'All': 76.46664428710938, 'UpperStretching': 82.52503204345703, 'Walking': 73.40872192382812, 'LowerStretching': 65.6495361328125, 'Gaming': 64.61119079589844, 'Patting': 66.49073028564453, 'Reacting': 65.64009094238281, 'Gesticuling': 60.571861267089844, 'Greeting': 73.01860046386719, 'Talking': 70.11434936523438}, 'LowerBody': {'All': 94.46473693847656, 'UpperStretching': 93.70537567138672, 'Walking': 100.37468719482422, 'LowerStretching': 105.59745025634766, 'Gaming': 87.0300064086914, 'Patting': 93.43791961669922, 'Reacting': 77.71902465820312, 'Gesticuling': 60.959381103515625, 'Greeting': 60.17634963989258, 'Talking': 61.83184814453125}}\n"
     ]
    },
    {
     "name": "stderr",
     "output_type": "stream",
     "text": [
      " 37%|███▋      | 2001/5352 [04:45<08:20,  6.70it/s]"
     ]
    },
    {
     "name": "stdout",
     "output_type": "stream",
     "text": [
      "{'FullBody': {'All': 85.45368194580078, 'UpperStretching': 88.11099243164062, 'Walking': 87.06571197509766, 'LowerStretching': 85.51165771484375, 'Gaming': 75.67198944091797, 'Patting': 80.64671325683594, 'Reacting': 71.6271743774414, 'Gesticuling': 60.7163200378418, 'Greeting': 66.42769622802734, 'Talking': 66.30229187011719}, 'UpperBody': {'All': 76.48577880859375, 'UpperStretching': 82.59081268310547, 'Walking': 73.5855484008789, 'LowerStretching': 65.48783874511719, 'Gaming': 65.33924865722656, 'Patting': 66.9236068725586, 'Reacting': 65.4373779296875, 'Gesticuling': 60.491241455078125, 'Greeting': 73.09337615966797, 'Talking': 70.34001922607422}, 'LowerBody': {'All': 94.42156219482422, 'UpperStretching': 93.63116455078125, 'Walking': 100.5458755493164, 'LowerStretching': 105.53549194335938, 'Gaming': 86.00472259521484, 'Patting': 94.36983489990234, 'Reacting': 77.81697845458984, 'Gesticuling': 60.941402435302734, 'Greeting': 59.76201248168945, 'Talking': 62.26457214355469}}\n"
     ]
    },
    {
     "name": "stderr",
     "output_type": "stream",
     "text": [
      " 41%|████      | 2201/5352 [05:13<07:17,  7.20it/s]"
     ]
    },
    {
     "name": "stdout",
     "output_type": "stream",
     "text": [
      "{'FullBody': {'All': 85.44493865966797, 'UpperStretching': 88.1224136352539, 'Walking': 86.96997833251953, 'LowerStretching': 85.49876403808594, 'Gaming': 75.69660186767578, 'Patting': 80.808349609375, 'Reacting': 71.82026672363281, 'Gesticuling': 60.83043670654297, 'Greeting': 66.36033630371094, 'Talking': 66.34127044677734}, 'UpperBody': {'All': 76.4735336303711, 'UpperStretching': 82.59297943115234, 'Walking': 73.5151596069336, 'LowerStretching': 65.39118957519531, 'Gaming': 65.56777954101562, 'Patting': 67.20478057861328, 'Reacting': 65.6457748413086, 'Gesticuling': 60.57915496826172, 'Greeting': 72.92160034179688, 'Talking': 70.64324188232422}, 'LowerBody': {'All': 94.41632843017578, 'UpperStretching': 93.65182495117188, 'Walking': 100.4248046875, 'LowerStretching': 105.60635375976562, 'Gaming': 85.8254165649414, 'Patting': 94.41192626953125, 'Reacting': 77.9947509765625, 'Gesticuling': 61.081722259521484, 'Greeting': 59.799072265625, 'Talking': 62.039302825927734}}\n"
     ]
    },
    {
     "name": "stderr",
     "output_type": "stream",
     "text": [
      " 45%|████▍     | 2401/5352 [05:42<06:49,  7.20it/s]"
     ]
    },
    {
     "name": "stdout",
     "output_type": "stream",
     "text": [
      "{'FullBody': {'All': 85.37903594970703, 'UpperStretching': 88.0805435180664, 'Walking': 86.78997039794922, 'LowerStretching': 85.40022277832031, 'Gaming': 75.63955688476562, 'Patting': 82.18991088867188, 'Reacting': 71.1969223022461, 'Gesticuling': 60.97138977050781, 'Greeting': 66.1193618774414, 'Talking': 66.47052764892578}, 'UpperBody': {'All': 76.36640930175781, 'UpperStretching': 82.50792694091797, 'Walking': 73.29678344726562, 'LowerStretching': 65.20304107666016, 'Gaming': 65.68106842041016, 'Patting': 68.24942779541016, 'Reacting': 65.27068328857422, 'Gesticuling': 60.39520263671875, 'Greeting': 72.5658187866211, 'Talking': 70.79534912109375}, 'LowerBody': {'All': 94.39165496826172, 'UpperStretching': 93.65316009521484, 'Walking': 100.28315734863281, 'LowerStretching': 105.597412109375, 'Gaming': 85.59803009033203, 'Patting': 96.1303939819336, 'Reacting': 77.12315368652344, 'Gesticuling': 61.54757308959961, 'Greeting': 59.67290496826172, 'Talking': 62.14570617675781}}\n"
     ]
    },
    {
     "name": "stderr",
     "output_type": "stream",
     "text": [
      " 49%|████▊     | 2601/5352 [06:10<07:02,  6.51it/s]"
     ]
    },
    {
     "name": "stdout",
     "output_type": "stream",
     "text": [
      "{'FullBody': {'All': 85.37580108642578, 'UpperStretching': 88.0472183227539, 'Walking': 86.90861511230469, 'LowerStretching': 85.43241882324219, 'Gaming': 75.64510345458984, 'Patting': 81.14240264892578, 'Reacting': 71.39389038085938, 'Gesticuling': 60.8969841003418, 'Greeting': 65.98705291748047, 'Talking': 66.66614532470703}, 'UpperBody': {'All': 76.34689331054688, 'UpperStretching': 82.46172332763672, 'Walking': 73.39508056640625, 'LowerStretching': 65.22407531738281, 'Gaming': 65.55976867675781, 'Patting': 67.39684295654297, 'Reacting': 65.2808609008789, 'Gesticuling': 60.32354736328125, 'Greeting': 72.41213989257812, 'Talking': 71.26740264892578}, 'LowerBody': {'All': 94.4046859741211, 'UpperStretching': 93.63272094726562, 'Walking': 100.42216491699219, 'LowerStretching': 105.64077758789062, 'Gaming': 85.73043060302734, 'Patting': 94.88796997070312, 'Reacting': 77.50691986083984, 'Gesticuling': 61.47042465209961, 'Greeting': 59.561954498291016, 'Talking': 62.06489181518555}}\n"
     ]
    },
    {
     "name": "stderr",
     "output_type": "stream",
     "text": [
      " 52%|█████▏    | 2801/5352 [06:38<06:02,  7.04it/s]"
     ]
    },
    {
     "name": "stdout",
     "output_type": "stream",
     "text": [
      "{'FullBody': {'All': 85.42823791503906, 'UpperStretching': 88.13379669189453, 'Walking': 86.86138916015625, 'LowerStretching': 85.49069213867188, 'Gaming': 75.5837173461914, 'Patting': 80.30388641357422, 'Reacting': 71.48824310302734, 'Gesticuling': 60.94770050048828, 'Greeting': 65.99845123291016, 'Talking': 66.68000030517578}, 'UpperBody': {'All': 76.42733001708984, 'UpperStretching': 82.51971435546875, 'Walking': 73.4060287475586, 'LowerStretching': 65.31454467773438, 'Gaming': 65.7935562133789, 'Patting': 66.8106460571289, 'Reacting': 65.45283508300781, 'Gesticuling': 60.487728118896484, 'Greeting': 72.58822631835938, 'Talking': 71.2977523803711}, 'LowerBody': {'All': 94.42913055419922, 'UpperStretching': 93.74787139892578, 'Walking': 100.3167495727539, 'LowerStretching': 105.66683959960938, 'Gaming': 85.37389373779297, 'Patting': 93.79713439941406, 'Reacting': 77.52364349365234, 'Gesticuling': 61.40766143798828, 'Greeting': 59.40867233276367, 'Talking': 62.06223678588867}}\n"
     ]
    },
    {
     "name": "stderr",
     "output_type": "stream",
     "text": [
      " 56%|█████▌    | 3001/5352 [07:06<05:27,  7.18it/s]"
     ]
    },
    {
     "name": "stdout",
     "output_type": "stream",
     "text": [
      "{'FullBody': {'All': 85.40765380859375, 'UpperStretching': 88.07354736328125, 'Walking': 86.73869323730469, 'LowerStretching': 85.58549499511719, 'Gaming': 75.78335571289062, 'Patting': 80.31056213378906, 'Reacting': 71.5624008178711, 'Gesticuling': 61.00407791137695, 'Greeting': 66.02327728271484, 'Talking': 66.9384765625}, 'UpperBody': {'All': 76.41363525390625, 'UpperStretching': 82.48389434814453, 'Walking': 73.24370574951172, 'LowerStretching': 65.42288208007812, 'Gaming': 65.9171371459961, 'Patting': 66.88116455078125, 'Reacting': 65.4341049194336, 'Gesticuling': 60.499202728271484, 'Greeting': 72.66946411132812, 'Talking': 71.21065521240234}, 'LowerBody': {'All': 94.40164947509766, 'UpperStretching': 93.66319274902344, 'Walking': 100.23368072509766, 'LowerStretching': 105.74810028076172, 'Gaming': 85.64958190917969, 'Patting': 93.73997497558594, 'Reacting': 77.69068908691406, 'Gesticuling': 61.508968353271484, 'Greeting': 59.377079010009766, 'Talking': 62.66629409790039}}\n"
     ]
    },
    {
     "name": "stderr",
     "output_type": "stream",
     "text": [
      " 60%|█████▉    | 3201/5352 [07:34<05:59,  5.98it/s]"
     ]
    },
    {
     "name": "stdout",
     "output_type": "stream",
     "text": [
      "{'FullBody': {'All': 85.46916198730469, 'UpperStretching': 88.10774230957031, 'Walking': 86.84288787841797, 'LowerStretching': 85.633544921875, 'Gaming': 75.99571228027344, 'Patting': 80.1150131225586, 'Reacting': 71.66229248046875, 'Gesticuling': 61.015296936035156, 'Greeting': 66.13204956054688, 'Talking': 67.17147827148438}, 'UpperBody': {'All': 76.48794555664062, 'UpperStretching': 82.5185775756836, 'Walking': 73.34231567382812, 'LowerStretching': 65.46394348144531, 'Gaming': 66.05938720703125, 'Patting': 66.88050079345703, 'Reacting': 65.6481704711914, 'Gesticuling': 60.53902053833008, 'Greeting': 72.80391693115234, 'Talking': 71.34330749511719}, 'LowerBody': {'All': 94.45034790039062, 'UpperStretching': 93.6968994140625, 'Walking': 100.34346008300781, 'LowerStretching': 105.80313873291016, 'Gaming': 85.9320297241211, 'Patting': 93.34951782226562, 'Reacting': 77.67642211914062, 'Gesticuling': 61.491573333740234, 'Greeting': 59.460174560546875, 'Talking': 62.99964904785156}}\n"
     ]
    },
    {
     "name": "stderr",
     "output_type": "stream",
     "text": [
      " 64%|██████▎   | 3401/5352 [08:02<04:37,  7.02it/s]"
     ]
    },
    {
     "name": "stdout",
     "output_type": "stream",
     "text": [
      "{'FullBody': {'All': 85.4420394897461, 'UpperStretching': 88.09905242919922, 'Walking': 86.8049545288086, 'LowerStretching': 85.56585693359375, 'Gaming': 76.03500366210938, 'Patting': 80.11087036132812, 'Reacting': 71.60357666015625, 'Gesticuling': 61.159156799316406, 'Greeting': 66.01570892333984, 'Talking': 67.02057647705078}, 'UpperBody': {'All': 76.49073028564453, 'UpperStretching': 82.51994323730469, 'Walking': 73.37782287597656, 'LowerStretching': 65.46749114990234, 'Gaming': 66.0491943359375, 'Patting': 66.71879577636719, 'Reacting': 65.79763793945312, 'Gesticuling': 60.68892288208008, 'Greeting': 72.81300354003906, 'Talking': 71.41644287109375}, 'LowerBody': {'All': 94.3933334350586, 'UpperStretching': 93.67816925048828, 'Walking': 100.23209381103516, 'LowerStretching': 105.66421508789062, 'Gaming': 86.02082061767578, 'Patting': 93.50294494628906, 'Reacting': 77.40950775146484, 'Gesticuling': 61.62938690185547, 'Greeting': 59.218406677246094, 'Talking': 62.62471008300781}}\n"
     ]
    },
    {
     "name": "stderr",
     "output_type": "stream",
     "text": [
      " 67%|██████▋   | 3601/5352 [08:30<04:09,  7.02it/s]"
     ]
    },
    {
     "name": "stdout",
     "output_type": "stream",
     "text": [
      "{'FullBody': {'All': 85.42584991455078, 'UpperStretching': 88.08840942382812, 'Walking': 86.70581817626953, 'LowerStretching': 85.5535888671875, 'Gaming': 76.0768814086914, 'Patting': 80.28465270996094, 'Reacting': 71.37753295898438, 'Gesticuling': 61.282955169677734, 'Greeting': 65.96493530273438, 'Talking': 66.95632934570312}, 'UpperBody': {'All': 76.44075012207031, 'UpperStretching': 82.48213195800781, 'Walking': 73.28009033203125, 'LowerStretching': 65.40242767333984, 'Gaming': 65.80854797363281, 'Patting': 66.87629699707031, 'Reacting': 65.669677734375, 'Gesticuling': 60.81798553466797, 'Greeting': 72.77877807617188, 'Talking': 71.40580749511719}, 'LowerBody': {'All': 94.41095733642578, 'UpperStretching': 93.69467163085938, 'Walking': 100.13156127929688, 'LowerStretching': 105.70474243164062, 'Gaming': 86.34522247314453, 'Patting': 93.6930160522461, 'Reacting': 77.08538818359375, 'Gesticuling': 61.74791717529297, 'Greeting': 59.151100158691406, 'Talking': 62.506858825683594}}\n"
     ]
    },
    {
     "name": "stderr",
     "output_type": "stream",
     "text": [
      " 71%|███████   | 3801/5352 [08:58<03:58,  6.49it/s]"
     ]
    },
    {
     "name": "stdout",
     "output_type": "stream",
     "text": [
      "{'FullBody': {'All': 85.40615844726562, 'UpperStretching': 88.07283782958984, 'Walking': 86.7615737915039, 'LowerStretching': 85.52043151855469, 'Gaming': 76.20271301269531, 'Patting': 79.85063934326172, 'Reacting': 71.23906707763672, 'Gesticuling': 61.23626708984375, 'Greeting': 66.36239624023438, 'Talking': 67.1355209350586}, 'UpperBody': {'All': 76.4290542602539, 'UpperStretching': 82.43878173828125, 'Walking': 73.37797546386719, 'LowerStretching': 65.41983032226562, 'Gaming': 65.9132080078125, 'Patting': 66.5698013305664, 'Reacting': 65.50235748291016, 'Gesticuling': 60.763973236083984, 'Greeting': 73.48666381835938, 'Talking': 71.64900970458984}, 'LowerBody': {'All': 94.38325500488281, 'UpperStretching': 93.70687103271484, 'Walking': 100.14515686035156, 'LowerStretching': 105.62103271484375, 'Gaming': 86.49221801757812, 'Patting': 93.13148498535156, 'Reacting': 76.97578430175781, 'Gesticuling': 61.70856475830078, 'Greeting': 59.238128662109375, 'Talking': 62.622039794921875}}\n"
     ]
    },
    {
     "name": "stderr",
     "output_type": "stream",
     "text": [
      " 75%|███████▍  | 4001/5352 [09:26<03:14,  6.93it/s]"
     ]
    },
    {
     "name": "stdout",
     "output_type": "stream",
     "text": [
      "{'FullBody': {'All': 85.39424896240234, 'UpperStretching': 88.0536880493164, 'Walking': 86.6662826538086, 'LowerStretching': 85.53534698486328, 'Gaming': 76.42823791503906, 'Patting': 79.30140686035156, 'Reacting': 71.40966033935547, 'Gesticuling': 61.24617385864258, 'Greeting': 66.42720794677734, 'Talking': 67.25845336914062}, 'UpperBody': {'All': 76.4407958984375, 'UpperStretching': 82.43367004394531, 'Walking': 73.31917572021484, 'LowerStretching': 65.4565658569336, 'Gaming': 65.99417877197266, 'Patting': 66.05524444580078, 'Reacting': 65.71492004394531, 'Gesticuling': 60.74741744995117, 'Greeting': 73.53370666503906, 'Talking': 71.76034545898438}, 'LowerBody': {'All': 94.34768676757812, 'UpperStretching': 93.6737060546875, 'Walking': 100.01337432861328, 'LowerStretching': 105.61412048339844, 'Gaming': 86.86228942871094, 'Patting': 92.54756927490234, 'Reacting': 77.10440063476562, 'Gesticuling': 61.74492645263672, 'Greeting': 59.320709228515625, 'Talking': 62.756561279296875}}\n"
     ]
    },
    {
     "name": "stderr",
     "output_type": "stream",
     "text": [
      " 78%|███████▊  | 4201/5352 [09:54<02:48,  6.85it/s]"
     ]
    },
    {
     "name": "stdout",
     "output_type": "stream",
     "text": [
      "{'FullBody': {'All': 85.4278335571289, 'UpperStretching': 88.10165405273438, 'Walking': 86.71244049072266, 'LowerStretching': 85.46290588378906, 'Gaming': 76.30859375, 'Patting': 79.63927459716797, 'Reacting': 71.49564361572266, 'Gesticuling': 61.2231559753418, 'Greeting': 66.58518981933594, 'Talking': 67.403076171875}, 'UpperBody': {'All': 76.49158477783203, 'UpperStretching': 82.46849060058594, 'Walking': 73.35279083251953, 'LowerStretching': 65.40388488769531, 'Gaming': 65.9522705078125, 'Patting': 66.44634246826172, 'Reacting': 65.86963653564453, 'Gesticuling': 60.772056579589844, 'Greeting': 73.67744445800781, 'Talking': 72.11133575439453}, 'LowerBody': {'All': 94.36407470703125, 'UpperStretching': 93.73478698730469, 'Walking': 100.07208251953125, 'LowerStretching': 105.52193450927734, 'Gaming': 86.66492462158203, 'Patting': 92.83221435546875, 'Reacting': 77.12165069580078, 'Gesticuling': 61.67424774169922, 'Greeting': 59.492919921875, 'Talking': 62.69480895996094}}\n"
     ]
    },
    {
     "name": "stderr",
     "output_type": "stream",
     "text": [
      " 82%|████████▏ | 4401/5352 [10:22<02:35,  6.12it/s]"
     ]
    },
    {
     "name": "stdout",
     "output_type": "stream",
     "text": [
      "{'FullBody': {'All': 85.38481903076172, 'UpperStretching': 88.0267562866211, 'Walking': 86.81615447998047, 'LowerStretching': 85.43909454345703, 'Gaming': 76.27344512939453, 'Patting': 79.5753173828125, 'Reacting': 71.44709777832031, 'Gesticuling': 61.17572784423828, 'Greeting': 66.81427764892578, 'Talking': 67.2350845336914}, 'UpperBody': {'All': 76.44580078125, 'UpperStretching': 82.41804504394531, 'Walking': 73.41744232177734, 'LowerStretching': 65.31982421875, 'Gaming': 65.90818786621094, 'Patting': 66.55623626708984, 'Reacting': 65.8138427734375, 'Gesticuling': 60.799652099609375, 'Greeting': 73.93799591064453, 'Talking': 71.90074920654297}, 'LowerBody': {'All': 94.32383728027344, 'UpperStretching': 93.63544464111328, 'Walking': 100.2148666381836, 'LowerStretching': 105.55836486816406, 'Gaming': 86.63870239257812, 'Patting': 92.59439086914062, 'Reacting': 77.08033752441406, 'Gesticuling': 61.55181121826172, 'Greeting': 59.6905632019043, 'Talking': 62.56943130493164}}\n"
     ]
    },
    {
     "name": "stderr",
     "output_type": "stream",
     "text": [
      " 86%|████████▌ | 4601/5352 [10:50<01:51,  6.75it/s]"
     ]
    },
    {
     "name": "stdout",
     "output_type": "stream",
     "text": [
      "{'FullBody': {'All': 85.39398956298828, 'UpperStretching': 88.05799865722656, 'Walking': 86.8009262084961, 'LowerStretching': 85.40314483642578, 'Gaming': 76.2730484008789, 'Patting': 79.40021514892578, 'Reacting': 71.56060028076172, 'Gesticuling': 61.151432037353516, 'Greeting': 66.8104248046875, 'Talking': 67.12606048583984}, 'UpperBody': {'All': 76.48944854736328, 'UpperStretching': 82.47795104980469, 'Walking': 73.44184112548828, 'LowerStretching': 65.3275375366211, 'Gaming': 65.87361907958984, 'Patting': 66.55006408691406, 'Reacting': 65.77438354492188, 'Gesticuling': 60.819129943847656, 'Greeting': 73.9755859375, 'Talking': 71.78517150878906}, 'LowerBody': {'All': 94.29851531982422, 'UpperStretching': 93.63803100585938, 'Walking': 100.15999603271484, 'LowerStretching': 105.4787368774414, 'Gaming': 86.6724853515625, 'Patting': 92.25037384033203, 'Reacting': 77.34681701660156, 'Gesticuling': 61.483734130859375, 'Greeting': 59.6452522277832, 'Talking': 62.466957092285156}}\n"
     ]
    },
    {
     "name": "stderr",
     "output_type": "stream",
     "text": [
      " 90%|████████▉ | 4801/5352 [11:18<01:19,  6.91it/s]"
     ]
    },
    {
     "name": "stdout",
     "output_type": "stream",
     "text": [
      "{'FullBody': {'All': 85.35236358642578, 'UpperStretching': 87.97412872314453, 'Walking': 86.75577545166016, 'LowerStretching': 85.42290496826172, 'Gaming': 76.50332641601562, 'Patting': 79.57586669921875, 'Reacting': 71.5676498413086, 'Gesticuling': 61.171653747558594, 'Greeting': 66.71459197998047, 'Talking': 66.98052978515625}, 'UpperBody': {'All': 76.46007537841797, 'UpperStretching': 82.4121322631836, 'Walking': 73.44438171386719, 'LowerStretching': 65.33819580078125, 'Gaming': 65.81012725830078, 'Patting': 66.72685241699219, 'Reacting': 65.73314666748047, 'Gesticuling': 60.841651916503906, 'Greeting': 73.85273742675781, 'Talking': 71.6421127319336}, 'LowerBody': {'All': 94.2446517944336, 'UpperStretching': 93.53610229492188, 'Walking': 100.06715393066406, 'LowerStretching': 105.50759887695312, 'Gaming': 87.19652557373047, 'Patting': 92.42486572265625, 'Reacting': 77.40215301513672, 'Gesticuling': 61.50165557861328, 'Greeting': 59.576454162597656, 'Talking': 62.31895446777344}}\n"
     ]
    },
    {
     "name": "stderr",
     "output_type": "stream",
     "text": [
      " 93%|█████████▎| 5000/5352 [11:46<00:53,  6.62it/s]"
     ]
    },
    {
     "name": "stdout",
     "output_type": "stream",
     "text": [
      "{'FullBody': {'All': 85.361328125, 'UpperStretching': 87.9900894165039, 'Walking': 86.78446197509766, 'LowerStretching': 85.37471771240234, 'Gaming': 76.44129180908203, 'Patting': 80.27163696289062, 'Reacting': 71.40747833251953, 'Gesticuling': 61.09147644042969, 'Greeting': 66.84705352783203, 'Talking': 66.8636703491211}, 'UpperBody': {'All': 76.4864730834961, 'UpperStretching': 82.4308090209961, 'Walking': 73.47835540771484, 'LowerStretching': 65.36469268798828, 'Gaming': 65.71367645263672, 'Patting': 67.37960815429688, 'Reacting': 65.70430755615234, 'Gesticuling': 60.79393005371094, 'Greeting': 73.84703826904297, 'Talking': 71.59381103515625}, 'LowerBody': {'All': 94.23616027832031, 'UpperStretching': 93.54935455322266, 'Walking': 100.090576171875, 'LowerStretching': 105.38472747802734, 'Gaming': 87.16890716552734, 'Patting': 93.16366577148438, 'Reacting': 77.11064147949219, 'Gesticuling': 61.38903045654297, 'Greeting': 59.847076416015625, 'Talking': 62.13352966308594}}\n"
     ]
    },
    {
     "name": "stderr",
     "output_type": "stream",
     "text": [
      " 97%|█████████▋| 5201/5352 [12:15<00:22,  6.61it/s]"
     ]
    },
    {
     "name": "stdout",
     "output_type": "stream",
     "text": [
      "{'FullBody': {'All': 85.30985260009766, 'UpperStretching': 87.9583511352539, 'Walking': 86.65811157226562, 'LowerStretching': 85.28785705566406, 'Gaming': 76.29368591308594, 'Patting': 80.37704467773438, 'Reacting': 71.36526489257812, 'Gesticuling': 61.27630615234375, 'Greeting': 66.94034576416016, 'Talking': 66.81968688964844}, 'UpperBody': {'All': 76.44335174560547, 'UpperStretching': 82.40380096435547, 'Walking': 73.3587875366211, 'LowerStretching': 65.30083465576172, 'Gaming': 65.63262176513672, 'Patting': 67.43344116210938, 'Reacting': 65.59870910644531, 'Gesticuling': 61.066890716552734, 'Greeting': 73.78582000732422, 'Talking': 71.54926300048828}, 'LowerBody': {'All': 94.17636108398438, 'UpperStretching': 93.51289367675781, 'Walking': 99.95742797851562, 'LowerStretching': 105.27488708496094, 'Gaming': 86.95475006103516, 'Patting': 93.3206558227539, 'Reacting': 77.1318359375, 'Gesticuling': 61.485721588134766, 'Greeting': 60.094879150390625, 'Talking': 62.090110778808594}}\n"
     ]
    },
    {
     "name": "stderr",
     "output_type": "stream",
     "text": [
      "100%|██████████| 5352/5352 [12:36<00:00,  7.08it/s]\n",
      "\u001b[94m09:37:01 \u001b[92m[INFO]\u001b[94m Main\u001b[0m: Saving evaluation results...\n",
      "\u001b[94m09:37:01 \u001b[92m[INFO]\u001b[94m Main\u001b[0m: Done.\n",
      "\u001b[94m09:37:01 \u001b[92m[INFO]\u001b[94m Main\u001b[0m: Starting demo...\n",
      "  0%|          | 0/5352 [00:00<?, ?it/s]/opt/conda/lib/python3.10/site-packages/torchvision/transforms/transforms.py:329: UserWarning: Argument 'interpolation' of type int is deprecated since 0.13 and will be removed in 0.15. Please use InterpolationMode enum.\n",
      "  warnings.warn(\n",
      "/opt/conda/lib/python3.10/site-packages/torchvision/transforms/transforms.py:329: UserWarning: Argument 'interpolation' of type int is deprecated since 0.13 and will be removed in 0.15. Please use InterpolationMode enum.\n",
      "  warnings.warn(\n",
      "/opt/conda/lib/python3.10/site-packages/torchvision/transforms/transforms.py:329: UserWarning: Argument 'interpolation' of type int is deprecated since 0.13 and will be removed in 0.15. Please use InterpolationMode enum.\n",
      "  warnings.warn(\n",
      "/opt/conda/lib/python3.10/site-packages/torchvision/transforms/transforms.py:329: UserWarning: Argument 'interpolation' of type int is deprecated since 0.13 and will be removed in 0.15. Please use InterpolationMode enum.\n",
      "  warnings.warn(\n",
      "/opt/conda/lib/python3.10/site-packages/torchvision/transforms/transforms.py:329: UserWarning: Argument 'interpolation' of type int is deprecated since 0.13 and will be removed in 0.15. Please use InterpolationMode enum.\n",
      "  warnings.warn(\n",
      "/opt/conda/lib/python3.10/site-packages/torchvision/transforms/transforms.py:329: UserWarning: Argument 'interpolation' of type int is deprecated since 0.13 and will be removed in 0.15. Please use InterpolationMode enum.\n",
      "  warnings.warn(\n",
      "/opt/conda/lib/python3.10/site-packages/torchvision/transforms/transforms.py:329: UserWarning: Argument 'interpolation' of type int is deprecated since 0.13 and will be removed in 0.15. Please use InterpolationMode enum.\n",
      "  warnings.warn(\n",
      "/opt/conda/lib/python3.10/site-packages/torchvision/transforms/transforms.py:329: UserWarning: Argument 'interpolation' of type int is deprecated since 0.13 and will be removed in 0.15. Please use InterpolationMode enum.\n",
      "  warnings.warn(\n",
      "/opt/conda/lib/python3.10/site-packages/torchvision/transforms/transforms.py:329: UserWarning: Argument 'interpolation' of type int is deprecated since 0.13 and will be removed in 0.15. Please use InterpolationMode enum.\n",
      "  warnings.warn(\n",
      "/opt/conda/lib/python3.10/site-packages/torchvision/transforms/transforms.py:329: UserWarning: Argument 'interpolation' of type int is deprecated since 0.13 and will be removed in 0.15. Please use InterpolationMode enum.\n",
      "  warnings.warn(\n",
      "/opt/conda/lib/python3.10/site-packages/torchvision/transforms/transforms.py:329: UserWarning: Argument 'interpolation' of type int is deprecated since 0.13 and will be removed in 0.15. Please use InterpolationMode enum.\n",
      "  warnings.warn(\n",
      "/opt/conda/lib/python3.10/site-packages/torchvision/transforms/transforms.py:329: UserWarning: Argument 'interpolation' of type int is deprecated since 0.13 and will be removed in 0.15. Please use InterpolationMode enum.\n",
      "  warnings.warn(\n",
      "/opt/conda/lib/python3.10/site-packages/torchvision/transforms/transforms.py:329: UserWarning: Argument 'interpolation' of type int is deprecated since 0.13 and will be removed in 0.15. Please use InterpolationMode enum.\n",
      "  warnings.warn(\n",
      "/opt/conda/lib/python3.10/site-packages/torchvision/transforms/transforms.py:329: UserWarning: Argument 'interpolation' of type int is deprecated since 0.13 and will be removed in 0.15. Please use InterpolationMode enum.\n",
      "  warnings.warn(\n",
      "/opt/conda/lib/python3.10/site-packages/torchvision/transforms/transforms.py:329: UserWarning: Argument 'interpolation' of type int is deprecated since 0.13 and will be removed in 0.15. Please use InterpolationMode enum.\n",
      "  warnings.warn(\n",
      "/opt/conda/lib/python3.10/site-packages/torchvision/transforms/transforms.py:329: UserWarning: Argument 'interpolation' of type int is deprecated since 0.13 and will be removed in 0.15. Please use InterpolationMode enum.\n",
      "  warnings.warn(\n",
      "/opt/conda/lib/python3.10/site-packages/torchvision/transforms/transforms.py:329: UserWarning: Argument 'interpolation' of type int is deprecated since 0.13 and will be removed in 0.15. Please use InterpolationMode enum.\n",
      "  warnings.warn(\n",
      "/opt/conda/lib/python3.10/site-packages/torchvision/transforms/transforms.py:329: UserWarning: Argument 'interpolation' of type int is deprecated since 0.13 and will be removed in 0.15. Please use InterpolationMode enum.\n",
      "  warnings.warn(\n",
      "/opt/conda/lib/python3.10/site-packages/torchvision/transforms/transforms.py:329: UserWarning: Argument 'interpolation' of type int is deprecated since 0.13 and will be removed in 0.15. Please use InterpolationMode enum.\n",
      "  warnings.warn(\n",
      "/opt/conda/lib/python3.10/site-packages/torchvision/transforms/transforms.py:329: UserWarning: Argument 'interpolation' of type int is deprecated since 0.13 and will be removed in 0.15. Please use InterpolationMode enum.\n",
      "  warnings.warn(\n",
      "/opt/conda/lib/python3.10/site-packages/torchvision/transforms/transforms.py:329: UserWarning: Argument 'interpolation' of type int is deprecated since 0.13 and will be removed in 0.15. Please use InterpolationMode enum.\n",
      "  warnings.warn(\n",
      "/opt/conda/lib/python3.10/site-packages/torchvision/transforms/transforms.py:329: UserWarning: Argument 'interpolation' of type int is deprecated since 0.13 and will be removed in 0.15. Please use InterpolationMode enum.\n",
      "  warnings.warn(\n",
      "/opt/conda/lib/python3.10/site-packages/torchvision/transforms/transforms.py:329: UserWarning: Argument 'interpolation' of type int is deprecated since 0.13 and will be removed in 0.15. Please use InterpolationMode enum.\n",
      "  warnings.warn(\n",
      "/opt/conda/lib/python3.10/site-packages/torchvision/transforms/transforms.py:329: UserWarning: Argument 'interpolation' of type int is deprecated since 0.13 and will be removed in 0.15. Please use InterpolationMode enum.\n",
      "  warnings.warn(\n",
      "  4%|▍         | 201/5352 [00:33<13:25,  6.40it/s]"
     ]
    },
    {
     "name": "stdout",
     "output_type": "stream",
     "text": [
      "{'FullBody': {'All': 71.35188293457031, 'Patting': 63.10953903198242, 'UpperStretching': 73.5946044921875, 'LowerStretching': 70.32382202148438, 'Talking': 51.94154357910156, 'Walking': 73.60574340820312, 'Reacting': 64.2296371459961, 'Greeting': 53.970237731933594, 'Gaming': 59.542179107666016, 'Gesticuling': 53.61272430419922}, 'UpperBody': {'All': 54.821441650390625, 'Patting': 52.772727966308594, 'UpperStretching': 59.53852462768555, 'LowerStretching': 45.81462478637695, 'Talking': 46.310523986816406, 'Walking': 49.30632019042969, 'Reacting': 55.07828140258789, 'Greeting': 46.575199127197266, 'Gaming': 45.44185256958008, 'Gesticuling': 48.99605178833008}, 'LowerBody': {'All': 87.88231658935547, 'Patting': 73.44636535644531, 'UpperStretching': 87.65070343017578, 'LowerStretching': 94.83302307128906, 'Talking': 57.57255172729492, 'Walking': 97.9051742553711, 'Reacting': 73.3810043334961, 'Greeting': 61.36528015136719, 'Gaming': 73.64250183105469, 'Gesticuling': 58.22939682006836}}\n"
     ]
    },
    {
     "name": "stderr",
     "output_type": "stream",
     "text": [
      "  7%|▋         | 401/5352 [01:02<11:35,  7.12it/s]"
     ]
    },
    {
     "name": "stdout",
     "output_type": "stream",
     "text": [
      "{'FullBody': {'All': 70.7867660522461, 'Patting': 65.92044067382812, 'UpperStretching': 72.7705307006836, 'LowerStretching': 70.00751495361328, 'Talking': 51.419769287109375, 'Walking': 72.92005920410156, 'Reacting': 62.44657897949219, 'Greeting': 55.88094711303711, 'Gaming': 62.195621490478516, 'Gesticuling': 53.421207427978516}, 'UpperBody': {'All': 54.04647445678711, 'Patting': 53.45585632324219, 'UpperStretching': 58.49848175048828, 'LowerStretching': 45.22815704345703, 'Talking': 44.43669509887695, 'Walking': 49.07014846801758, 'Reacting': 55.08201217651367, 'Greeting': 46.376251220703125, 'Gaming': 45.38456344604492, 'Gesticuling': 48.10208511352539}, 'LowerBody': {'All': 87.52706909179688, 'Patting': 78.38504028320312, 'UpperStretching': 87.0425796508789, 'LowerStretching': 94.78688049316406, 'Talking': 58.402854919433594, 'Walking': 96.76996612548828, 'Reacting': 69.8111572265625, 'Greeting': 65.3856430053711, 'Gaming': 79.00666809082031, 'Gesticuling': 58.740333557128906}}\n"
     ]
    },
    {
     "name": "stderr",
     "output_type": "stream",
     "text": [
      " 11%|█         | 601/5352 [01:30<10:29,  7.55it/s]"
     ]
    },
    {
     "name": "stdout",
     "output_type": "stream",
     "text": [
      "{'FullBody': {'All': 70.69161224365234, 'Patting': 66.86119842529297, 'UpperStretching': 72.65831756591797, 'LowerStretching': 69.65817260742188, 'Talking': 51.23733139038086, 'Walking': 73.05435180664062, 'Reacting': 61.87736511230469, 'Greeting': 55.44466018676758, 'Gaming': 63.18571090698242, 'Gesticuling': 53.295127868652344}, 'UpperBody': {'All': 54.0495719909668, 'Patting': 53.013980865478516, 'UpperStretching': 58.49368667602539, 'LowerStretching': 45.06284713745117, 'Talking': 44.64845275878906, 'Walking': 48.84432601928711, 'Reacting': 53.98945236206055, 'Greeting': 46.19396209716797, 'Gaming': 46.296451568603516, 'Gesticuling': 48.30777359008789}, 'LowerBody': {'All': 87.33365631103516, 'Patting': 80.70842742919922, 'UpperStretching': 86.82295227050781, 'LowerStretching': 94.25350189208984, 'Talking': 57.82621383666992, 'Walking': 97.2643814086914, 'Reacting': 69.76527404785156, 'Greeting': 64.69535827636719, 'Gaming': 80.07498168945312, 'Gesticuling': 58.2824821472168}}\n"
     ]
    },
    {
     "name": "stderr",
     "output_type": "stream",
     "text": [
      " 15%|█▍        | 800/5352 [01:57<10:16,  7.39it/s]"
     ]
    },
    {
     "name": "stdout",
     "output_type": "stream",
     "text": [
      "{'FullBody': {'All': 70.62625122070312, 'Patting': 65.9776611328125, 'UpperStretching': 72.87255859375, 'LowerStretching': 69.42679595947266, 'Talking': 51.14311599731445, 'Walking': 72.3434829711914, 'Reacting': 61.84186935424805, 'Greeting': 54.818260192871094, 'Gaming': 63.27678298950195, 'Gesticuling': 52.92042922973633}, 'UpperBody': {'All': 54.00257873535156, 'Patting': 52.668025970458984, 'UpperStretching': 58.76469421386719, 'LowerStretching': 44.718109130859375, 'Talking': 44.34660720825195, 'Walking': 48.33976745605469, 'Reacting': 53.589439392089844, 'Greeting': 46.58131790161133, 'Gaming': 46.64631271362305, 'Gesticuling': 47.366737365722656}, 'LowerBody': {'All': 87.24992370605469, 'Patting': 79.28730773925781, 'UpperStretching': 86.98043060302734, 'LowerStretching': 94.13549041748047, 'Talking': 57.93962097167969, 'Walking': 96.34720611572266, 'Reacting': 70.09429931640625, 'Greeting': 63.055213928222656, 'Gaming': 79.90724182128906, 'Gesticuling': 58.47412109375}}\n"
     ]
    },
    {
     "name": "stderr",
     "output_type": "stream",
     "text": [
      " 19%|█▊        | 1001/5352 [02:26<10:04,  7.20it/s]"
     ]
    },
    {
     "name": "stdout",
     "output_type": "stream",
     "text": [
      "{'FullBody': {'All': 70.56163787841797, 'Patting': 65.47620391845703, 'UpperStretching': 72.82058715820312, 'LowerStretching': 69.2806396484375, 'Talking': 51.1026496887207, 'Walking': 72.46057891845703, 'Reacting': 62.50305938720703, 'Greeting': 54.66086959838867, 'Gaming': 63.935367584228516, 'Gesticuling': 52.356536865234375}, 'UpperBody': {'All': 53.96725845336914, 'Patting': 52.88251876831055, 'UpperStretching': 58.695980072021484, 'LowerStretching': 44.54582214355469, 'Talking': 44.21833419799805, 'Walking': 48.34851837158203, 'Reacting': 54.31059646606445, 'Greeting': 47.24363708496094, 'Gaming': 46.99513626098633, 'Gesticuling': 46.571319580078125}, 'LowerBody': {'All': 87.15601348876953, 'Patting': 78.06990051269531, 'UpperStretching': 86.94520568847656, 'LowerStretching': 94.01545715332031, 'Talking': 57.98695373535156, 'Walking': 96.57264709472656, 'Reacting': 70.69551849365234, 'Greeting': 62.07810592651367, 'Gaming': 80.87560272216797, 'Gesticuling': 58.14173889160156}}\n"
     ]
    },
    {
     "name": "stderr",
     "output_type": "stream",
     "text": [
      " 22%|██▏       | 1201/5352 [02:54<09:14,  7.48it/s]"
     ]
    },
    {
     "name": "stdout",
     "output_type": "stream",
     "text": [
      "{'FullBody': {'All': 70.6299057006836, 'Patting': 65.49685668945312, 'UpperStretching': 72.95052337646484, 'LowerStretching': 69.48042297363281, 'Talking': 51.17641830444336, 'Walking': 72.306884765625, 'Reacting': 62.678871154785156, 'Greeting': 53.98599624633789, 'Gaming': 63.79135513305664, 'Gesticuling': 52.16250228881836}, 'UpperBody': {'All': 54.020809173583984, 'Patting': 52.605594635009766, 'UpperStretching': 58.73579025268555, 'LowerStretching': 44.70781326293945, 'Talking': 44.44931411743164, 'Walking': 48.36464309692383, 'Reacting': 54.235740661621094, 'Greeting': 46.29652404785156, 'Gaming': 47.09788513183594, 'Gesticuling': 46.35981750488281}, 'LowerBody': {'All': 87.23900604248047, 'Patting': 78.38810729980469, 'UpperStretching': 87.16526794433594, 'LowerStretching': 94.25302124023438, 'Talking': 57.903526306152344, 'Walking': 96.24910736083984, 'Reacting': 71.12200927734375, 'Greeting': 61.675472259521484, 'Gaming': 80.48482513427734, 'Gesticuling': 57.96517562866211}}\n"
     ]
    },
    {
     "name": "stderr",
     "output_type": "stream",
     "text": [
      " 26%|██▌       | 1401/5352 [03:22<10:22,  6.34it/s]"
     ]
    },
    {
     "name": "stdout",
     "output_type": "stream",
     "text": [
      "{'FullBody': {'All': 70.58659362792969, 'Patting': 66.40436553955078, 'UpperStretching': 72.91154479980469, 'LowerStretching': 69.38417053222656, 'Talking': 51.10123825073242, 'Walking': 71.93790435791016, 'Reacting': 63.26069259643555, 'Greeting': 54.13774490356445, 'Gaming': 64.15692901611328, 'Gesticuling': 52.07414245605469}, 'UpperBody': {'All': 53.911338806152344, 'Patting': 52.84821319580078, 'UpperStretching': 58.64006423950195, 'LowerStretching': 44.606624603271484, 'Talking': 44.30116653442383, 'Walking': 48.07808303833008, 'Reacting': 54.7525520324707, 'Greeting': 46.16431427001953, 'Gaming': 47.1843376159668, 'Gesticuling': 46.31640625}, 'LowerBody': {'All': 87.26184844970703, 'Patting': 79.96051025390625, 'UpperStretching': 87.18303680419922, 'LowerStretching': 94.1617202758789, 'Talking': 57.901309967041016, 'Walking': 95.79771423339844, 'Reacting': 71.76883697509766, 'Greeting': 62.111175537109375, 'Gaming': 81.1295166015625, 'Gesticuling': 57.831878662109375}}\n"
     ]
    },
    {
     "name": "stderr",
     "output_type": "stream",
     "text": [
      " 30%|██▉       | 1601/5352 [03:50<08:31,  7.34it/s]"
     ]
    },
    {
     "name": "stdout",
     "output_type": "stream",
     "text": [
      "{'FullBody': {'All': 70.64164733886719, 'Patting': 66.6745834350586, 'UpperStretching': 72.95795440673828, 'LowerStretching': 69.42428588867188, 'Talking': 51.07472610473633, 'Walking': 72.03973388671875, 'Reacting': 63.35017395019531, 'Greeting': 53.91126251220703, 'Gaming': 63.947723388671875, 'Gesticuling': 52.48165512084961}, 'UpperBody': {'All': 53.97352600097656, 'Patting': 53.196571350097656, 'UpperStretching': 58.68165588378906, 'LowerStretching': 44.681663513183594, 'Talking': 44.18511962890625, 'Walking': 48.230712890625, 'Reacting': 54.91607666015625, 'Greeting': 45.923912048339844, 'Gaming': 47.051265716552734, 'Gesticuling': 46.757591247558594}, 'LowerBody': {'All': 87.30978393554688, 'Patting': 80.15260314941406, 'UpperStretching': 87.23426055908203, 'LowerStretching': 94.16690063476562, 'Talking': 57.96433639526367, 'Walking': 95.84876251220703, 'Reacting': 71.78427124023438, 'Greeting': 61.89860534667969, 'Gaming': 80.84419250488281, 'Gesticuling': 58.205718994140625}}\n"
     ]
    },
    {
     "name": "stderr",
     "output_type": "stream",
     "text": [
      " 34%|███▎      | 1801/5352 [04:18<08:17,  7.14it/s]"
     ]
    },
    {
     "name": "stdout",
     "output_type": "stream",
     "text": [
      "{'FullBody': {'All': 70.68988037109375, 'Patting': 67.56639099121094, 'UpperStretching': 72.94966888427734, 'LowerStretching': 69.40128326416016, 'Talking': 51.018829345703125, 'Walking': 72.29479217529297, 'Reacting': 63.394439697265625, 'Greeting': 54.06938552856445, 'Gaming': 64.02091217041016, 'Gesticuling': 52.41282653808594}, 'UpperBody': {'All': 53.971702575683594, 'Patting': 53.57393264770508, 'UpperStretching': 58.61790084838867, 'LowerStretching': 44.6595344543457, 'Talking': 44.159141540527344, 'Walking': 48.35250473022461, 'Reacting': 55.01230239868164, 'Greeting': 45.995548248291016, 'Gaming': 47.301353454589844, 'Gesticuling': 46.734718322753906}, 'LowerBody': {'All': 87.40807342529297, 'Patting': 81.5588607788086, 'UpperStretching': 87.28142547607422, 'LowerStretching': 94.1430435180664, 'Talking': 57.878509521484375, 'Walking': 96.23707580566406, 'Reacting': 71.77657318115234, 'Greeting': 62.14321517944336, 'Gaming': 80.740478515625, 'Gesticuling': 58.09093475341797}}\n"
     ]
    },
    {
     "name": "stderr",
     "output_type": "stream",
     "text": [
      " 37%|███▋      | 2001/5352 [04:46<08:56,  6.25it/s]"
     ]
    },
    {
     "name": "stdout",
     "output_type": "stream",
     "text": [
      "{'FullBody': {'All': 70.63565826416016, 'Patting': 68.44335174560547, 'UpperStretching': 72.84809875488281, 'LowerStretching': 69.49520111083984, 'Talking': 51.599266052246094, 'Walking': 72.18437957763672, 'Reacting': 63.039764404296875, 'Greeting': 53.806549072265625, 'Gaming': 64.1943359375, 'Gesticuling': 52.49143600463867}, 'UpperBody': {'All': 53.88807678222656, 'Patting': 53.969852447509766, 'UpperStretching': 58.506839752197266, 'LowerStretching': 44.78680419921875, 'Talking': 44.236209869384766, 'Walking': 48.292354583740234, 'Reacting': 54.591060638427734, 'Greeting': 45.489627838134766, 'Gaming': 47.29936981201172, 'Gesticuling': 46.79469680786133}, 'LowerBody': {'All': 87.38324737548828, 'Patting': 82.91685485839844, 'UpperStretching': 87.1893539428711, 'LowerStretching': 94.20359802246094, 'Talking': 58.96232223510742, 'Walking': 96.076416015625, 'Reacting': 71.48847198486328, 'Greeting': 62.123470306396484, 'Gaming': 81.08929443359375, 'Gesticuling': 58.188167572021484}}\n"
     ]
    },
    {
     "name": "stderr",
     "output_type": "stream",
     "text": [
      " 41%|████      | 2201/5352 [05:14<07:20,  7.16it/s]"
     ]
    },
    {
     "name": "stdout",
     "output_type": "stream",
     "text": [
      "{'FullBody': {'All': 70.6098861694336, 'Patting': 69.50979614257812, 'UpperStretching': 72.76405334472656, 'LowerStretching': 69.57292938232422, 'Talking': 51.37395095825195, 'Walking': 72.0354995727539, 'Reacting': 63.08446502685547, 'Greeting': 53.55171203613281, 'Gaming': 64.25165557861328, 'Gesticuling': 52.47129821777344}, 'UpperBody': {'All': 53.84893035888672, 'Patting': 55.00065231323242, 'UpperStretching': 58.462745666503906, 'LowerStretching': 44.75600814819336, 'Talking': 44.1132698059082, 'Walking': 48.12874984741211, 'Reacting': 54.5931510925293, 'Greeting': 45.24598693847656, 'Gaming': 47.384925842285156, 'Gesticuling': 46.84929656982422}, 'LowerBody': {'All': 87.370849609375, 'Patting': 84.01892852783203, 'UpperStretching': 87.06535339355469, 'LowerStretching': 94.38986206054688, 'Talking': 58.63462448120117, 'Walking': 95.9422378540039, 'Reacting': 71.57577514648438, 'Greeting': 61.85744094848633, 'Gaming': 81.11837005615234, 'Gesticuling': 58.093299865722656}}\n"
     ]
    },
    {
     "name": "stderr",
     "output_type": "stream",
     "text": [
      " 45%|████▍     | 2401/5352 [05:42<06:44,  7.29it/s]"
     ]
    },
    {
     "name": "stdout",
     "output_type": "stream",
     "text": [
      "{'FullBody': {'All': 70.6279067993164, 'Patting': 69.06098937988281, 'UpperStretching': 72.85492706298828, 'LowerStretching': 69.45797729492188, 'Talking': 51.24807357788086, 'Walking': 71.97115325927734, 'Reacting': 63.128089904785156, 'Greeting': 53.7117805480957, 'Gaming': 64.07335662841797, 'Gesticuling': 52.59101486206055}, 'UpperBody': {'All': 53.89320755004883, 'Patting': 54.496829986572266, 'UpperStretching': 58.570579528808594, 'LowerStretching': 44.70243453979492, 'Talking': 44.159271240234375, 'Walking': 48.1297607421875, 'Reacting': 54.595947265625, 'Greeting': 45.45985794067383, 'Gaming': 47.10982894897461, 'Gesticuling': 47.04305648803711}, 'LowerBody': {'All': 87.36260223388672, 'Patting': 83.62515258789062, 'UpperStretching': 87.13926696777344, 'LowerStretching': 94.21354675292969, 'Talking': 58.336875915527344, 'Walking': 95.81253814697266, 'Reacting': 71.66023254394531, 'Greeting': 61.963706970214844, 'Gaming': 81.03688049316406, 'Gesticuling': 58.138973236083984}}\n"
     ]
    },
    {
     "name": "stderr",
     "output_type": "stream",
     "text": [
      " 49%|████▊     | 2600/5352 [06:10<06:35,  6.96it/s]"
     ]
    },
    {
     "name": "stdout",
     "output_type": "stream",
     "text": [
      "{'FullBody': {'All': 70.60990905761719, 'Patting': 68.77999114990234, 'UpperStretching': 72.86463165283203, 'LowerStretching': 69.46424102783203, 'Talking': 51.385616302490234, 'Walking': 71.78451538085938, 'Reacting': 63.049774169921875, 'Greeting': 54.02834701538086, 'Gaming': 63.7809944152832, 'Gesticuling': 52.73879623413086}, 'UpperBody': {'All': 53.88080978393555, 'Patting': 54.42763900756836, 'UpperStretching': 58.55909729003906, 'LowerStretching': 44.74279022216797, 'Talking': 44.386714935302734, 'Walking': 48.035728454589844, 'Reacting': 54.51607894897461, 'Greeting': 45.54891586303711, 'Gaming': 47.04133987426758, 'Gesticuling': 47.15046310424805}, 'LowerBody': {'All': 87.3390121459961, 'Patting': 83.13233184814453, 'UpperStretching': 87.17017364501953, 'LowerStretching': 94.1856918334961, 'Talking': 58.38451385498047, 'Walking': 95.53329467773438, 'Reacting': 71.58346557617188, 'Greeting': 62.507781982421875, 'Gaming': 80.52064514160156, 'Gesticuling': 58.32713317871094}}\n"
     ]
    },
    {
     "name": "stderr",
     "output_type": "stream",
     "text": [
      " 52%|█████▏    | 2801/5352 [06:38<05:57,  7.13it/s]"
     ]
    },
    {
     "name": "stdout",
     "output_type": "stream",
     "text": [
      "{'FullBody': {'All': 70.69622039794922, 'Patting': 69.88390350341797, 'UpperStretching': 72.91959381103516, 'LowerStretching': 69.66524505615234, 'Talking': 51.33650588989258, 'Walking': 71.76128387451172, 'Reacting': 63.10246658325195, 'Greeting': 53.820980072021484, 'Gaming': 63.85203552246094, 'Gesticuling': 52.62511444091797}, 'UpperBody': {'All': 53.9742317199707, 'Patting': 55.294944763183594, 'UpperStretching': 58.67464828491211, 'LowerStretching': 44.794891357421875, 'Talking': 44.37361526489258, 'Walking': 48.05854034423828, 'Reacting': 54.59017562866211, 'Greeting': 45.33639144897461, 'Gaming': 47.0257682800293, 'Gesticuling': 47.007171630859375}, 'LowerBody': {'All': 87.41822052001953, 'Patting': 84.47286224365234, 'UpperStretching': 87.16453552246094, 'LowerStretching': 94.53559875488281, 'Talking': 58.29938888549805, 'Walking': 95.46402740478516, 'Reacting': 71.6147689819336, 'Greeting': 62.30556869506836, 'Gaming': 80.67830657958984, 'Gesticuling': 58.24305725097656}}\n"
     ]
    },
    {
     "name": "stderr",
     "output_type": "stream",
     "text": [
      " 56%|█████▌    | 3001/5352 [07:06<05:33,  7.04it/s]"
     ]
    },
    {
     "name": "stdout",
     "output_type": "stream",
     "text": [
      "{'FullBody': {'All': 70.74224090576172, 'Patting': 69.70025634765625, 'UpperStretching': 72.98416900634766, 'LowerStretching': 69.58462524414062, 'Talking': 51.34390640258789, 'Walking': 71.92327117919922, 'Reacting': 63.220420837402344, 'Greeting': 53.7067756652832, 'Gaming': 63.894901275634766, 'Gesticuling': 52.55067825317383}, 'UpperBody': {'All': 53.98550033569336, 'Patting': 55.16437911987305, 'UpperStretching': 58.69634246826172, 'LowerStretching': 44.79738998413086, 'Talking': 44.5688362121582, 'Walking': 48.156490325927734, 'Reacting': 54.452354431152344, 'Greeting': 45.29258346557617, 'Gaming': 47.01799011230469, 'Gesticuling': 46.89921569824219}, 'LowerBody': {'All': 87.49899291992188, 'Patting': 84.23612976074219, 'UpperStretching': 87.27198791503906, 'LowerStretching': 94.37185668945312, 'Talking': 58.11897277832031, 'Walking': 95.69004821777344, 'Reacting': 71.98849487304688, 'Greeting': 62.12095642089844, 'Gaming': 80.77182006835938, 'Gesticuling': 58.2021369934082}}\n"
     ]
    },
    {
     "name": "stderr",
     "output_type": "stream",
     "text": [
      " 60%|█████▉    | 3201/5352 [07:34<05:53,  6.09it/s]"
     ]
    },
    {
     "name": "stdout",
     "output_type": "stream",
     "text": [
      "{'FullBody': {'All': 70.7459487915039, 'Patting': 69.19535827636719, 'UpperStretching': 72.95488739013672, 'LowerStretching': 69.6678237915039, 'Talking': 51.23820877075195, 'Walking': 72.01012420654297, 'Reacting': 63.4012565612793, 'Greeting': 53.49948501586914, 'Gaming': 63.93440246582031, 'Gesticuling': 52.76210021972656}, 'UpperBody': {'All': 53.98006820678711, 'Patting': 54.653106689453125, 'UpperStretching': 58.68930435180664, 'LowerStretching': 44.823097229003906, 'Talking': 44.38871765136719, 'Walking': 48.16999053955078, 'Reacting': 54.79279327392578, 'Greeting': 45.134246826171875, 'Gaming': 47.01875305175781, 'Gesticuling': 47.02682113647461}, 'LowerBody': {'All': 87.51183319091797, 'Patting': 83.73762512207031, 'UpperStretching': 87.220458984375, 'LowerStretching': 94.51254272460938, 'Talking': 58.08770751953125, 'Walking': 95.85025787353516, 'Reacting': 72.00971221923828, 'Greeting': 61.8647346496582, 'Gaming': 80.85005187988281, 'Gesticuling': 58.49738693237305}}\n"
     ]
    },
    {
     "name": "stderr",
     "output_type": "stream",
     "text": [
      " 64%|██████▎   | 3401/5352 [08:02<04:37,  7.03it/s]"
     ]
    },
    {
     "name": "stdout",
     "output_type": "stream",
     "text": [
      "{'FullBody': {'All': 70.78827667236328, 'Patting': 69.17303466796875, 'UpperStretching': 73.02220916748047, 'LowerStretching': 69.67241668701172, 'Talking': 51.310482025146484, 'Walking': 72.07450103759766, 'Reacting': 63.282081604003906, 'Greeting': 53.51197814941406, 'Gaming': 63.760406494140625, 'Gesticuling': 52.86966323852539}, 'UpperBody': {'All': 54.006404876708984, 'Patting': 54.75563430786133, 'UpperStretching': 58.715553283691406, 'LowerStretching': 44.80870056152344, 'Talking': 44.539459228515625, 'Walking': 48.19056701660156, 'Reacting': 54.79701614379883, 'Greeting': 45.15065383911133, 'Gaming': 47.05006408691406, 'Gesticuling': 47.170162200927734}, 'LowerBody': {'All': 87.57014465332031, 'Patting': 83.5904312133789, 'UpperStretching': 87.32886505126953, 'LowerStretching': 94.53614044189453, 'Talking': 58.081512451171875, 'Walking': 95.95844268798828, 'Reacting': 71.76715087890625, 'Greeting': 61.8733024597168, 'Gaming': 80.47075653076172, 'Gesticuling': 58.56917190551758}}\n"
     ]
    },
    {
     "name": "stderr",
     "output_type": "stream",
     "text": [
      " 67%|██████▋   | 3601/5352 [08:30<04:10,  7.00it/s]"
     ]
    },
    {
     "name": "stdout",
     "output_type": "stream",
     "text": [
      "{'FullBody': {'All': 70.74664306640625, 'Patting': 69.62939453125, 'UpperStretching': 72.99353790283203, 'LowerStretching': 69.64436340332031, 'Talking': 51.32169723510742, 'Walking': 71.9563980102539, 'Reacting': 63.055877685546875, 'Greeting': 53.410404205322266, 'Gaming': 63.625328063964844, 'Gesticuling': 52.81439208984375}, 'UpperBody': {'All': 53.99569320678711, 'Patting': 55.07278060913086, 'UpperStretching': 58.71927261352539, 'LowerStretching': 44.83102035522461, 'Talking': 44.62575149536133, 'Walking': 48.1322021484375, 'Reacting': 54.45130920410156, 'Greeting': 45.057857513427734, 'Gaming': 46.77405548095703, 'Gesticuling': 47.18423843383789}, 'LowerBody': {'All': 87.4975814819336, 'Patting': 84.18600463867188, 'UpperStretching': 87.26780700683594, 'LowerStretching': 94.45770263671875, 'Talking': 58.017642974853516, 'Walking': 95.78060150146484, 'Reacting': 71.66043853759766, 'Greeting': 61.76294708251953, 'Gaming': 80.47661590576172, 'Gesticuling': 58.44455337524414}}\n"
     ]
    },
    {
     "name": "stderr",
     "output_type": "stream",
     "text": [
      " 71%|███████   | 3800/5352 [08:58<03:43,  6.93it/s]"
     ]
    },
    {
     "name": "stdout",
     "output_type": "stream",
     "text": [
      "{'FullBody': {'All': 70.75122833251953, 'Patting': 70.38428497314453, 'UpperStretching': 72.98936462402344, 'LowerStretching': 69.6324462890625, 'Talking': 51.309783935546875, 'Walking': 72.07669067382812, 'Reacting': 62.782814025878906, 'Greeting': 53.461524963378906, 'Gaming': 63.633602142333984, 'Gesticuling': 52.58164978027344}, 'UpperBody': {'All': 53.971275329589844, 'Patting': 55.15589904785156, 'UpperStretching': 58.701690673828125, 'LowerStretching': 44.82866668701172, 'Talking': 44.59375762939453, 'Walking': 48.171268463134766, 'Reacting': 54.099937438964844, 'Greeting': 45.1004524230957, 'Gaming': 46.825439453125, 'Gesticuling': 46.949684143066406}, 'LowerBody': {'All': 87.53116607666016, 'Patting': 85.61265563964844, 'UpperStretching': 87.27703094482422, 'LowerStretching': 94.43623352050781, 'Talking': 58.02581787109375, 'Walking': 95.98210906982422, 'Reacting': 71.4656982421875, 'Greeting': 61.822601318359375, 'Gaming': 80.44176483154297, 'Gesticuling': 58.213623046875}}\n"
     ]
    },
    {
     "name": "stderr",
     "output_type": "stream",
     "text": [
      " 75%|███████▍  | 4001/5352 [09:26<03:22,  6.67it/s]"
     ]
    },
    {
     "name": "stdout",
     "output_type": "stream",
     "text": [
      "{'FullBody': {'All': 70.7189712524414, 'Patting': 70.44620513916016, 'UpperStretching': 72.9310531616211, 'LowerStretching': 69.65345764160156, 'Talking': 51.23262405395508, 'Walking': 71.99703979492188, 'Reacting': 62.85527038574219, 'Greeting': 53.42623519897461, 'Gaming': 63.6483268737793, 'Gesticuling': 52.59190368652344}, 'UpperBody': {'All': 53.93505096435547, 'Patting': 55.31437301635742, 'UpperStretching': 58.63882064819336, 'LowerStretching': 44.86857604980469, 'Talking': 44.44450759887695, 'Walking': 48.08829879760742, 'Reacting': 54.149166107177734, 'Greeting': 44.93510055541992, 'Gaming': 46.82679748535156, 'Gesticuling': 47.03147888183594}, 'LowerBody': {'All': 87.50288391113281, 'Patting': 85.57803344726562, 'UpperStretching': 87.22328186035156, 'LowerStretching': 94.43834686279297, 'Talking': 58.020748138427734, 'Walking': 95.90577697753906, 'Reacting': 71.5613784790039, 'Greeting': 61.91737365722656, 'Gaming': 80.46986389160156, 'Gesticuling': 58.15232467651367}}\n"
     ]
    },
    {
     "name": "stderr",
     "output_type": "stream",
     "text": [
      " 78%|███████▊  | 4201/5352 [09:54<02:43,  7.04it/s]"
     ]
    },
    {
     "name": "stdout",
     "output_type": "stream",
     "text": [
      "{'FullBody': {'All': 70.74647521972656, 'Patting': 70.73617553710938, 'UpperStretching': 72.9749526977539, 'LowerStretching': 69.67537689208984, 'Talking': 51.74216079711914, 'Walking': 71.93738555908203, 'Reacting': 62.97716522216797, 'Greeting': 53.32628631591797, 'Gaming': 63.612159729003906, 'Gesticuling': 52.490272521972656}, 'UpperBody': {'All': 53.961002349853516, 'Patting': 55.80794906616211, 'UpperStretching': 58.68027114868164, 'LowerStretching': 44.882389068603516, 'Talking': 44.79245376586914, 'Walking': 48.0447998046875, 'Reacting': 54.18060302734375, 'Greeting': 44.82265090942383, 'Gaming': 46.92448043823242, 'Gesticuling': 46.91057205200195}, 'LowerBody': {'All': 87.53195190429688, 'Patting': 85.6644058227539, 'UpperStretching': 87.26964569091797, 'LowerStretching': 94.4683609008789, 'Talking': 58.69186019897461, 'Walking': 95.82996368408203, 'Reacting': 71.77372741699219, 'Greeting': 61.82991409301758, 'Gaming': 80.2998275756836, 'Gesticuling': 58.06997299194336}}\n"
     ]
    },
    {
     "name": "stderr",
     "output_type": "stream",
     "text": [
      " 82%|████████▏ | 4401/5352 [10:22<02:20,  6.76it/s]"
     ]
    },
    {
     "name": "stdout",
     "output_type": "stream",
     "text": [
      "{'FullBody': {'All': 70.74602508544922, 'Patting': 71.10160064697266, 'UpperStretching': 72.95726013183594, 'LowerStretching': 69.69071197509766, 'Talking': 51.63276290893555, 'Walking': 72.00521850585938, 'Reacting': 62.87430191040039, 'Greeting': 53.31958770751953, 'Gaming': 63.62311553955078, 'Gesticuling': 52.38950729370117}, 'UpperBody': {'All': 53.93865966796875, 'Patting': 56.076171875, 'UpperStretching': 58.62893295288086, 'LowerStretching': 44.87880325317383, 'Talking': 44.674591064453125, 'Walking': 48.1300163269043, 'Reacting': 54.11651611328125, 'Greeting': 44.8109016418457, 'Gaming': 46.99576950073242, 'Gesticuling': 46.78733825683594}, 'LowerBody': {'All': 87.55339813232422, 'Patting': 86.12702941894531, 'UpperStretching': 87.28559875488281, 'LowerStretching': 94.50263214111328, 'Talking': 58.5909309387207, 'Walking': 95.88041687011719, 'Reacting': 71.63209533691406, 'Greeting': 61.828277587890625, 'Gaming': 80.25045013427734, 'Gesticuling': 57.9916877746582}}\n"
     ]
    },
    {
     "name": "stderr",
     "output_type": "stream",
     "text": [
      " 86%|████████▌ | 4601/5352 [10:51<01:52,  6.65it/s]"
     ]
    },
    {
     "name": "stdout",
     "output_type": "stream",
     "text": [
      "{'FullBody': {'All': 70.75566864013672, 'Patting': 71.0101089477539, 'UpperStretching': 72.96207427978516, 'LowerStretching': 69.6745834350586, 'Talking': 51.694087982177734, 'Walking': 72.06132507324219, 'Reacting': 62.84309768676758, 'Greeting': 53.3217887878418, 'Gaming': 63.72693634033203, 'Gesticuling': 52.36803436279297}, 'UpperBody': {'All': 53.94124984741211, 'Patting': 56.007362365722656, 'UpperStretching': 58.62430953979492, 'LowerStretching': 44.909122467041016, 'Talking': 44.77754211425781, 'Walking': 48.14228820800781, 'Reacting': 54.10015869140625, 'Greeting': 44.81573486328125, 'Gaming': 47.00360870361328, 'Gesticuling': 46.7866325378418}, 'LowerBody': {'All': 87.5700912475586, 'Patting': 86.01284790039062, 'UpperStretching': 87.29985046386719, 'LowerStretching': 94.44004821777344, 'Talking': 58.610633850097656, 'Walking': 95.98035430908203, 'Reacting': 71.58604431152344, 'Greeting': 61.82783126831055, 'Gaming': 80.45024871826172, 'Gesticuling': 57.94943618774414}}\n"
     ]
    },
    {
     "name": "stderr",
     "output_type": "stream",
     "text": [
      " 90%|████████▉ | 4801/5352 [11:19<01:22,  6.70it/s]"
     ]
    },
    {
     "name": "stdout",
     "output_type": "stream",
     "text": [
      "{'FullBody': {'All': 70.74061584472656, 'Patting': 70.90570831298828, 'UpperStretching': 72.94889831542969, 'LowerStretching': 69.6066665649414, 'Talking': 51.72185516357422, 'Walking': 72.1126708984375, 'Reacting': 62.82561111450195, 'Greeting': 53.214569091796875, 'Gaming': 63.70061111450195, 'Gesticuling': 52.378604888916016}, 'UpperBody': {'All': 53.91899871826172, 'Patting': 55.89884567260742, 'UpperStretching': 58.5927734375, 'LowerStretching': 44.890602111816406, 'Talking': 44.735355377197266, 'Walking': 48.152305603027344, 'Reacting': 54.03028869628906, 'Greeting': 44.646759033203125, 'Gaming': 47.06294631958008, 'Gesticuling': 46.745155334472656}, 'LowerBody': {'All': 87.56224060058594, 'Patting': 85.9125747680664, 'UpperStretching': 87.30502319335938, 'LowerStretching': 94.3227310180664, 'Talking': 58.70834732055664, 'Walking': 96.07303619384766, 'Reacting': 71.62093353271484, 'Greeting': 61.78237533569336, 'Gaming': 80.33827209472656, 'Gesticuling': 58.01205062866211}}\n"
     ]
    },
    {
     "name": "stderr",
     "output_type": "stream",
     "text": [
      " 93%|█████████▎| 5000/5352 [11:47<00:53,  6.62it/s]"
     ]
    },
    {
     "name": "stdout",
     "output_type": "stream",
     "text": [
      "{'FullBody': {'All': 70.74822998046875, 'Patting': 70.98141479492188, 'UpperStretching': 72.95075225830078, 'LowerStretching': 69.58140563964844, 'Talking': 51.767921447753906, 'Walking': 72.18673706054688, 'Reacting': 62.904685974121094, 'Greeting': 53.196712493896484, 'Gaming': 63.72269821166992, 'Gesticuling': 52.269004821777344}, 'UpperBody': {'All': 53.94392013549805, 'Patting': 55.820648193359375, 'UpperStretching': 58.61881637573242, 'LowerStretching': 44.881465911865234, 'Talking': 44.74482727050781, 'Walking': 48.22077941894531, 'Reacting': 54.1361083984375, 'Greeting': 44.52606201171875, 'Gaming': 47.11064147949219, 'Gesticuling': 46.6083869934082}, 'LowerBody': {'All': 87.55255126953125, 'Patting': 86.14217376708984, 'UpperStretching': 87.28269958496094, 'LowerStretching': 94.2813491821289, 'Talking': 58.791019439697266, 'Walking': 96.1526870727539, 'Reacting': 71.67326354980469, 'Greeting': 61.86736297607422, 'Gaming': 80.33476257324219, 'Gesticuling': 57.929622650146484}}\n"
     ]
    },
    {
     "name": "stderr",
     "output_type": "stream",
     "text": [
      " 97%|█████████▋| 5201/5352 [12:15<00:22,  6.62it/s]"
     ]
    },
    {
     "name": "stdout",
     "output_type": "stream",
     "text": [
      "{'FullBody': {'All': 70.73603057861328, 'Patting': 70.4666976928711, 'UpperStretching': 72.92906951904297, 'LowerStretching': 69.57469177246094, 'Talking': 51.89265441894531, 'Walking': 72.25238037109375, 'Reacting': 62.9256591796875, 'Greeting': 53.25412368774414, 'Gaming': 63.52101135253906, 'Gesticuling': 52.298255920410156}, 'UpperBody': {'All': 53.93415832519531, 'Patting': 55.402130126953125, 'UpperStretching': 58.595970153808594, 'LowerStretching': 44.87574005126953, 'Talking': 44.85548782348633, 'Walking': 48.25738525390625, 'Reacting': 54.134769439697266, 'Greeting': 44.58418655395508, 'Gaming': 47.032798767089844, 'Gesticuling': 46.63382339477539}, 'LowerBody': {'All': 87.53791809082031, 'Patting': 85.5312728881836, 'UpperStretching': 87.26216888427734, 'LowerStretching': 94.27365112304688, 'Talking': 58.9298095703125, 'Walking': 96.24736022949219, 'Reacting': 71.71654510498047, 'Greeting': 61.9240608215332, 'Gaming': 80.00921630859375, 'Gesticuling': 57.96269226074219}}\n"
     ]
    },
    {
     "name": "stderr",
     "output_type": "stream",
     "text": [
      "100%|██████████| 5352/5352 [12:37<00:00,  7.07it/s]\n",
      "\u001b[94m09:49:40 \u001b[92m[INFO]\u001b[94m Main\u001b[0m: Saving evaluation results...\n",
      "\u001b[94m09:49:40 \u001b[92m[INFO]\u001b[94m Main\u001b[0m: Done.\n",
      "\u001b[94m09:49:40 \u001b[92m[INFO]\u001b[94m Main\u001b[0m: Starting demo...\n",
      "  0%|          | 0/5352 [00:00<?, ?it/s]/opt/conda/lib/python3.10/site-packages/torchvision/transforms/transforms.py:329: UserWarning: Argument 'interpolation' of type int is deprecated since 0.13 and will be removed in 0.15. Please use InterpolationMode enum.\n",
      "  warnings.warn(\n",
      "/opt/conda/lib/python3.10/site-packages/torchvision/transforms/transforms.py:329: UserWarning: Argument 'interpolation' of type int is deprecated since 0.13 and will be removed in 0.15. Please use InterpolationMode enum.\n",
      "  warnings.warn(\n",
      "/opt/conda/lib/python3.10/site-packages/torchvision/transforms/transforms.py:329: UserWarning: Argument 'interpolation' of type int is deprecated since 0.13 and will be removed in 0.15. Please use InterpolationMode enum.\n",
      "  warnings.warn(\n",
      "/opt/conda/lib/python3.10/site-packages/torchvision/transforms/transforms.py:329: UserWarning: Argument 'interpolation' of type int is deprecated since 0.13 and will be removed in 0.15. Please use InterpolationMode enum.\n",
      "  warnings.warn(\n",
      "/opt/conda/lib/python3.10/site-packages/torchvision/transforms/transforms.py:329: UserWarning: Argument 'interpolation' of type int is deprecated since 0.13 and will be removed in 0.15. Please use InterpolationMode enum.\n",
      "  warnings.warn(\n",
      "/opt/conda/lib/python3.10/site-packages/torchvision/transforms/transforms.py:329: UserWarning: Argument 'interpolation' of type int is deprecated since 0.13 and will be removed in 0.15. Please use InterpolationMode enum.\n",
      "  warnings.warn(\n",
      "/opt/conda/lib/python3.10/site-packages/torchvision/transforms/transforms.py:329: UserWarning: Argument 'interpolation' of type int is deprecated since 0.13 and will be removed in 0.15. Please use InterpolationMode enum.\n",
      "  warnings.warn(\n",
      "/opt/conda/lib/python3.10/site-packages/torchvision/transforms/transforms.py:329: UserWarning: Argument 'interpolation' of type int is deprecated since 0.13 and will be removed in 0.15. Please use InterpolationMode enum.\n",
      "  warnings.warn(\n",
      "/opt/conda/lib/python3.10/site-packages/torchvision/transforms/transforms.py:329: UserWarning: Argument 'interpolation' of type int is deprecated since 0.13 and will be removed in 0.15. Please use InterpolationMode enum.\n",
      "  warnings.warn(\n",
      "/opt/conda/lib/python3.10/site-packages/torchvision/transforms/transforms.py:329: UserWarning: Argument 'interpolation' of type int is deprecated since 0.13 and will be removed in 0.15. Please use InterpolationMode enum.\n",
      "  warnings.warn(\n",
      "/opt/conda/lib/python3.10/site-packages/torchvision/transforms/transforms.py:329: UserWarning: Argument 'interpolation' of type int is deprecated since 0.13 and will be removed in 0.15. Please use InterpolationMode enum.\n",
      "  warnings.warn(\n",
      "/opt/conda/lib/python3.10/site-packages/torchvision/transforms/transforms.py:329: UserWarning: Argument 'interpolation' of type int is deprecated since 0.13 and will be removed in 0.15. Please use InterpolationMode enum.\n",
      "  warnings.warn(\n",
      "/opt/conda/lib/python3.10/site-packages/torchvision/transforms/transforms.py:329: UserWarning: Argument 'interpolation' of type int is deprecated since 0.13 and will be removed in 0.15. Please use InterpolationMode enum.\n",
      "  warnings.warn(\n",
      "/opt/conda/lib/python3.10/site-packages/torchvision/transforms/transforms.py:329: UserWarning: Argument 'interpolation' of type int is deprecated since 0.13 and will be removed in 0.15. Please use InterpolationMode enum.\n",
      "  warnings.warn(\n",
      "/opt/conda/lib/python3.10/site-packages/torchvision/transforms/transforms.py:329: UserWarning: Argument 'interpolation' of type int is deprecated since 0.13 and will be removed in 0.15. Please use InterpolationMode enum.\n",
      "  warnings.warn(\n",
      "/opt/conda/lib/python3.10/site-packages/torchvision/transforms/transforms.py:329: UserWarning: Argument 'interpolation' of type int is deprecated since 0.13 and will be removed in 0.15. Please use InterpolationMode enum.\n",
      "  warnings.warn(\n",
      "/opt/conda/lib/python3.10/site-packages/torchvision/transforms/transforms.py:329: UserWarning: Argument 'interpolation' of type int is deprecated since 0.13 and will be removed in 0.15. Please use InterpolationMode enum.\n",
      "  warnings.warn(\n",
      "/opt/conda/lib/python3.10/site-packages/torchvision/transforms/transforms.py:329: UserWarning: Argument 'interpolation' of type int is deprecated since 0.13 and will be removed in 0.15. Please use InterpolationMode enum.\n",
      "  warnings.warn(\n",
      "/opt/conda/lib/python3.10/site-packages/torchvision/transforms/transforms.py:329: UserWarning: Argument 'interpolation' of type int is deprecated since 0.13 and will be removed in 0.15. Please use InterpolationMode enum.\n",
      "  warnings.warn(\n",
      "/opt/conda/lib/python3.10/site-packages/torchvision/transforms/transforms.py:329: UserWarning: Argument 'interpolation' of type int is deprecated since 0.13 and will be removed in 0.15. Please use InterpolationMode enum.\n",
      "  warnings.warn(\n",
      "/opt/conda/lib/python3.10/site-packages/torchvision/transforms/transforms.py:329: UserWarning: Argument 'interpolation' of type int is deprecated since 0.13 and will be removed in 0.15. Please use InterpolationMode enum.\n",
      "  warnings.warn(\n",
      "/opt/conda/lib/python3.10/site-packages/torchvision/transforms/transforms.py:329: UserWarning: Argument 'interpolation' of type int is deprecated since 0.13 and will be removed in 0.15. Please use InterpolationMode enum.\n",
      "  warnings.warn(\n",
      "/opt/conda/lib/python3.10/site-packages/torchvision/transforms/transforms.py:329: UserWarning: Argument 'interpolation' of type int is deprecated since 0.13 and will be removed in 0.15. Please use InterpolationMode enum.\n",
      "  warnings.warn(\n",
      "/opt/conda/lib/python3.10/site-packages/torchvision/transforms/transforms.py:329: UserWarning: Argument 'interpolation' of type int is deprecated since 0.13 and will be removed in 0.15. Please use InterpolationMode enum.\n",
      "  warnings.warn(\n",
      "  4%|▎         | 200/5352 [00:33<11:18,  7.59it/s]"
     ]
    },
    {
     "name": "stdout",
     "output_type": "stream",
     "text": [
      "{'FullBody': {'All': 74.5152816772461, 'Patting': 66.04582977294922, 'UpperStretching': 75.76651000976562, 'LowerStretching': 75.03608703613281, 'Walking': 77.60594177246094, 'Gesticuling': 63.05455017089844, 'Gaming': 70.94926452636719, 'Reacting': 66.21125030517578, 'Talking': 55.59389877319336, 'Greeting': 55.54094314575195}, 'UpperBody': {'All': 56.288326263427734, 'Patting': 54.37858200073242, 'UpperStretching': 60.75895309448242, 'LowerStretching': 47.63506317138672, 'Walking': 51.62215042114258, 'Gesticuling': 50.93828582763672, 'Gaming': 53.88676834106445, 'Reacting': 52.8340950012207, 'Talking': 48.052982330322266, 'Greeting': 45.83680725097656}, 'LowerBody': {'All': 92.74223327636719, 'Patting': 77.71308135986328, 'UpperStretching': 90.77406311035156, 'LowerStretching': 102.43711853027344, 'Walking': 103.58972930908203, 'Gesticuling': 75.17080688476562, 'Gaming': 88.01174926757812, 'Reacting': 79.58840942382812, 'Talking': 63.134803771972656, 'Greeting': 65.24508666992188}}\n"
     ]
    },
    {
     "name": "stderr",
     "output_type": "stream",
     "text": [
      "  7%|▋         | 401/5352 [01:01<11:30,  7.17it/s]"
     ]
    },
    {
     "name": "stdout",
     "output_type": "stream",
     "text": [
      "{'FullBody': {'All': 74.60462188720703, 'Patting': 76.62308502197266, 'UpperStretching': 75.87022399902344, 'LowerStretching': 74.89855194091797, 'Walking': 77.20208740234375, 'Gesticuling': 60.279781341552734, 'Gaming': 69.38923645019531, 'Reacting': 67.61608123779297, 'Talking': 54.998695373535156, 'Greeting': 54.24757385253906}, 'UpperBody': {'All': 55.9870491027832, 'Patting': 60.28184127807617, 'UpperStretching': 60.48487854003906, 'LowerStretching': 47.03244400024414, 'Walking': 50.78554916381836, 'Gesticuling': 49.011817932128906, 'Gaming': 50.157344818115234, 'Reacting': 55.030155181884766, 'Talking': 47.10204315185547, 'Greeting': 44.06992721557617}, 'LowerBody': {'All': 93.2221908569336, 'Patting': 92.9643325805664, 'UpperStretching': 91.25556182861328, 'LowerStretching': 102.76466369628906, 'Walking': 103.61862182617188, 'Gesticuling': 71.54774475097656, 'Gaming': 88.62113189697266, 'Reacting': 80.20201110839844, 'Talking': 62.895347595214844, 'Greeting': 64.42520904541016}}\n"
     ]
    },
    {
     "name": "stderr",
     "output_type": "stream",
     "text": [
      " 11%|█         | 601/5352 [01:29<10:39,  7.43it/s]"
     ]
    },
    {
     "name": "stdout",
     "output_type": "stream",
     "text": [
      "{'FullBody': {'All': 74.36750030517578, 'Patting': 70.68494415283203, 'UpperStretching': 75.95280456542969, 'LowerStretching': 74.17291259765625, 'Walking': 76.9289779663086, 'Gesticuling': 60.316341400146484, 'Gaming': 68.31837463378906, 'Reacting': 67.80552673339844, 'Talking': 54.455257415771484, 'Greeting': 55.11814880371094}, 'UpperBody': {'All': 55.7093620300293, 'Patting': 56.336448669433594, 'UpperStretching': 60.28923034667969, 'LowerStretching': 46.70344543457031, 'Walking': 50.87942123413086, 'Gesticuling': 49.06951141357422, 'Gaming': 50.44326400756836, 'Reacting': 53.74952697753906, 'Talking': 46.191200256347656, 'Greeting': 44.73825454711914}, 'LowerBody': {'All': 93.02564239501953, 'Patting': 85.03343200683594, 'UpperStretching': 91.61638641357422, 'LowerStretching': 101.64237976074219, 'Walking': 102.97852325439453, 'Gesticuling': 71.56316375732422, 'Gaming': 86.19347381591797, 'Reacting': 81.86152648925781, 'Talking': 62.71931076049805, 'Greeting': 65.498046875}}\n"
     ]
    },
    {
     "name": "stderr",
     "output_type": "stream",
     "text": [
      " 15%|█▍        | 800/5352 [01:57<10:02,  7.56it/s]"
     ]
    },
    {
     "name": "stdout",
     "output_type": "stream",
     "text": [
      "{'FullBody': {'All': 74.34696960449219, 'Patting': 73.06880950927734, 'UpperStretching': 75.80914306640625, 'LowerStretching': 73.8740234375, 'Walking': 77.13238525390625, 'Gesticuling': 59.98026657104492, 'Gaming': 69.08487701416016, 'Reacting': 68.16915893554688, 'Talking': 56.66046142578125, 'Greeting': 54.79594802856445}, 'UpperBody': {'All': 55.81367111206055, 'Patting': 56.20470428466797, 'UpperStretching': 60.403072357177734, 'LowerStretching': 46.63055419921875, 'Walking': 50.78390884399414, 'Gesticuling': 48.88951110839844, 'Gaming': 51.56344985961914, 'Reacting': 54.97247314453125, 'Talking': 47.27125549316406, 'Greeting': 44.15711975097656}, 'LowerBody': {'All': 92.88027954101562, 'Patting': 89.93292999267578, 'UpperStretching': 91.2152099609375, 'LowerStretching': 101.11748504638672, 'Walking': 103.48086547851562, 'Gesticuling': 71.0710220336914, 'Gaming': 86.60629272460938, 'Reacting': 81.3658447265625, 'Talking': 66.04966735839844, 'Greeting': 65.4347915649414}}\n"
     ]
    },
    {
     "name": "stderr",
     "output_type": "stream",
     "text": [
      " 19%|█▊        | 1001/5352 [02:25<09:56,  7.30it/s]"
     ]
    },
    {
     "name": "stdout",
     "output_type": "stream",
     "text": [
      "{'FullBody': {'All': 74.5213623046875, 'Patting': 72.77338409423828, 'UpperStretching': 76.2673568725586, 'LowerStretching': 73.6404800415039, 'Walking': 76.77896881103516, 'Gesticuling': 59.840423583984375, 'Gaming': 68.6817626953125, 'Reacting': 67.553466796875, 'Talking': 55.95952224731445, 'Greeting': 55.62023162841797}, 'UpperBody': {'All': 55.82815170288086, 'Patting': 57.1277961730957, 'UpperStretching': 60.59453201293945, 'LowerStretching': 46.35231018066406, 'Walking': 50.59243392944336, 'Gesticuling': 48.45758819580078, 'Gaming': 50.83637237548828, 'Reacting': 54.396446228027344, 'Talking': 46.714813232421875, 'Greeting': 44.770259857177734}, 'LowerBody': {'All': 93.2145767211914, 'Patting': 88.41897583007812, 'UpperStretching': 91.9401626586914, 'LowerStretching': 100.92865753173828, 'Walking': 102.96549987792969, 'Gesticuling': 71.22325897216797, 'Gaming': 86.52715301513672, 'Reacting': 80.71048736572266, 'Talking': 65.20423126220703, 'Greeting': 66.47019958496094}}\n"
     ]
    },
    {
     "name": "stderr",
     "output_type": "stream",
     "text": [
      " 22%|██▏       | 1201/5352 [02:53<09:15,  7.48it/s]"
     ]
    },
    {
     "name": "stdout",
     "output_type": "stream",
     "text": [
      "{'FullBody': {'All': 74.48873138427734, 'Patting': 71.14669799804688, 'UpperStretching': 76.28295135498047, 'LowerStretching': 73.40128326416016, 'Walking': 77.1167221069336, 'Gesticuling': 60.27378463745117, 'Gaming': 68.98906707763672, 'Reacting': 66.85106658935547, 'Talking': 56.172454833984375, 'Greeting': 55.97298812866211}, 'UpperBody': {'All': 55.8475456237793, 'Patting': 56.191505432128906, 'UpperStretching': 60.66336441040039, 'LowerStretching': 46.20866775512695, 'Walking': 50.74862289428711, 'Gesticuling': 48.97471618652344, 'Gaming': 51.722267150878906, 'Reacting': 53.52653884887695, 'Talking': 47.436187744140625, 'Greeting': 45.482540130615234}, 'LowerBody': {'All': 93.12991333007812, 'Patting': 86.10188293457031, 'UpperStretching': 91.90252685546875, 'LowerStretching': 100.59391784667969, 'Walking': 103.48483276367188, 'Gesticuling': 71.57284545898438, 'Gaming': 86.25587463378906, 'Reacting': 80.17560577392578, 'Talking': 64.90872192382812, 'Greeting': 66.46343994140625}}\n"
     ]
    },
    {
     "name": "stderr",
     "output_type": "stream",
     "text": [
      " 26%|██▌       | 1400/5352 [03:20<08:57,  7.35it/s]"
     ]
    },
    {
     "name": "stdout",
     "output_type": "stream",
     "text": [
      "{'FullBody': {'All': 74.42842864990234, 'Patting': 70.9830551147461, 'UpperStretching': 76.25636291503906, 'LowerStretching': 73.23106384277344, 'Walking': 76.94457244873047, 'Gesticuling': 60.56515121459961, 'Gaming': 69.08804321289062, 'Reacting': 66.8099365234375, 'Talking': 56.08375549316406, 'Greeting': 55.6096076965332}, 'UpperBody': {'All': 55.70404052734375, 'Patting': 56.80110549926758, 'UpperStretching': 60.39289093017578, 'LowerStretching': 46.121009826660156, 'Walking': 50.60003662109375, 'Gesticuling': 49.228389739990234, 'Gaming': 51.86177444458008, 'Reacting': 53.74348831176758, 'Talking': 47.54207992553711, 'Greeting': 44.99591064453125}, 'LowerBody': {'All': 93.1528091430664, 'Patting': 85.1650161743164, 'UpperStretching': 92.11982727050781, 'LowerStretching': 100.34111022949219, 'Walking': 103.28909301757812, 'Gesticuling': 71.90190887451172, 'Gaming': 86.31431579589844, 'Reacting': 79.87638854980469, 'Talking': 64.62542724609375, 'Greeting': 66.22330474853516}}\n"
     ]
    },
    {
     "name": "stderr",
     "output_type": "stream",
     "text": [
      " 30%|██▉       | 1601/5352 [03:48<08:51,  7.06it/s]"
     ]
    },
    {
     "name": "stdout",
     "output_type": "stream",
     "text": [
      "{'FullBody': {'All': 74.36746978759766, 'Patting': 70.64657592773438, 'UpperStretching': 76.19829559326172, 'LowerStretching': 73.35295104980469, 'Walking': 76.82720184326172, 'Gesticuling': 60.35614776611328, 'Gaming': 68.31089782714844, 'Reacting': 66.75769805908203, 'Talking': 56.085304260253906, 'Greeting': 55.89887237548828}, 'UpperBody': {'All': 55.72909164428711, 'Patting': 56.441688537597656, 'UpperStretching': 60.44182586669922, 'LowerStretching': 46.192874908447266, 'Walking': 50.758182525634766, 'Gesticuling': 49.09284973144531, 'Gaming': 51.10995864868164, 'Reacting': 53.7835693359375, 'Talking': 47.544681549072266, 'Greeting': 45.23896789550781}, 'LowerBody': {'All': 93.00585174560547, 'Patting': 84.85147857666016, 'UpperStretching': 91.9547348022461, 'LowerStretching': 100.5130386352539, 'Walking': 102.8962173461914, 'Gesticuling': 71.61945343017578, 'Gaming': 85.5118408203125, 'Reacting': 79.73182678222656, 'Talking': 64.62592315673828, 'Greeting': 66.55878448486328}}\n"
     ]
    },
    {
     "name": "stderr",
     "output_type": "stream",
     "text": [
      " 34%|███▎      | 1801/5352 [04:16<08:03,  7.34it/s]"
     ]
    },
    {
     "name": "stdout",
     "output_type": "stream",
     "text": [
      "{'FullBody': {'All': 74.244140625, 'Patting': 70.30806732177734, 'UpperStretching': 76.00650024414062, 'LowerStretching': 73.38711547851562, 'Walking': 76.78659057617188, 'Gesticuling': 60.08905792236328, 'Gaming': 68.63580322265625, 'Reacting': 66.60952758789062, 'Talking': 56.170108795166016, 'Greeting': 55.677772521972656}, 'UpperBody': {'All': 55.62739944458008, 'Patting': 56.59462356567383, 'UpperStretching': 60.27595138549805, 'LowerStretching': 46.16294860839844, 'Walking': 50.831790924072266, 'Gesticuling': 49.09672164916992, 'Gaming': 50.86743927001953, 'Reacting': 53.66710662841797, 'Talking': 47.758121490478516, 'Greeting': 44.8018684387207}, 'LowerBody': {'All': 92.86088562011719, 'Patting': 84.02149963378906, 'UpperStretching': 91.73703002929688, 'LowerStretching': 100.61128997802734, 'Walking': 102.74140167236328, 'Gesticuling': 71.0813980102539, 'Gaming': 86.40418243408203, 'Reacting': 79.55194091796875, 'Talking': 64.58209228515625, 'Greeting': 66.55367279052734}}\n"
     ]
    },
    {
     "name": "stderr",
     "output_type": "stream",
     "text": [
      " 37%|███▋      | 2001/5352 [04:44<07:40,  7.27it/s]"
     ]
    },
    {
     "name": "stdout",
     "output_type": "stream",
     "text": [
      "{'FullBody': {'All': 74.27758026123047, 'Patting': 70.94268035888672, 'UpperStretching': 75.99300384521484, 'LowerStretching': 73.44996643066406, 'Walking': 77.03914642333984, 'Gesticuling': 60.10517501831055, 'Gaming': 68.46858215332031, 'Reacting': 66.69644165039062, 'Talking': 55.84051513671875, 'Greeting': 55.825584411621094}, 'UpperBody': {'All': 55.60207748413086, 'Patting': 57.242027282714844, 'UpperStretching': 60.17984390258789, 'LowerStretching': 46.18675231933594, 'Walking': 51.019432067871094, 'Gesticuling': 49.168880462646484, 'Gaming': 50.49860763549805, 'Reacting': 53.62615203857422, 'Talking': 47.43265151977539, 'Greeting': 44.89173889160156}, 'LowerBody': {'All': 92.95307922363281, 'Patting': 84.6433334350586, 'UpperStretching': 91.80616760253906, 'LowerStretching': 100.71317291259766, 'Walking': 103.0588607788086, 'Gesticuling': 71.04146575927734, 'Gaming': 86.43855285644531, 'Reacting': 79.76673126220703, 'Talking': 64.2483901977539, 'Greeting': 66.7594223022461}}\n"
     ]
    },
    {
     "name": "stderr",
     "output_type": "stream",
     "text": [
      " 41%|████      | 2201/5352 [05:12<07:36,  6.90it/s]"
     ]
    },
    {
     "name": "stdout",
     "output_type": "stream",
     "text": [
      "{'FullBody': {'All': 74.345947265625, 'Patting': 71.23578643798828, 'UpperStretching': 76.05313873291016, 'LowerStretching': 73.62627410888672, 'Walking': 76.8936767578125, 'Gesticuling': 60.12445068359375, 'Gaming': 68.36972045898438, 'Reacting': 67.1953125, 'Talking': 55.70586013793945, 'Greeting': 55.83607864379883}, 'UpperBody': {'All': 55.63404846191406, 'Patting': 57.612308502197266, 'UpperStretching': 60.230682373046875, 'LowerStretching': 46.22905349731445, 'Walking': 50.83413314819336, 'Gesticuling': 48.99942398071289, 'Gaming': 50.50508117675781, 'Reacting': 54.02961730957031, 'Talking': 47.39015579223633, 'Greeting': 45.08188247680664}, 'LowerBody': {'All': 93.0578384399414, 'Patting': 84.85926055908203, 'UpperStretching': 91.87557983398438, 'LowerStretching': 101.02351379394531, 'Walking': 102.95321655273438, 'Gesticuling': 71.24947357177734, 'Gaming': 86.23435974121094, 'Reacting': 80.36100769042969, 'Talking': 64.02156066894531, 'Greeting': 66.59027099609375}}\n"
     ]
    },
    {
     "name": "stderr",
     "output_type": "stream",
     "text": [
      " 45%|████▍     | 2401/5352 [05:40<06:45,  7.28it/s]"
     ]
    },
    {
     "name": "stdout",
     "output_type": "stream",
     "text": [
      "{'FullBody': {'All': 74.40875244140625, 'Patting': 71.92919158935547, 'UpperStretching': 76.1133041381836, 'LowerStretching': 73.54124450683594, 'Walking': 76.98577117919922, 'Gesticuling': 60.25861740112305, 'Gaming': 68.62457275390625, 'Reacting': 67.34378814697266, 'Talking': 55.97799301147461, 'Greeting': 55.60816955566406}, 'UpperBody': {'All': 55.72039794921875, 'Patting': 57.88264465332031, 'UpperStretching': 60.36585235595703, 'LowerStretching': 46.15058517456055, 'Walking': 50.86988067626953, 'Gesticuling': 49.092803955078125, 'Gaming': 50.864837646484375, 'Reacting': 53.92013931274414, 'Talking': 47.824623107910156, 'Greeting': 44.8885498046875}, 'LowerBody': {'All': 93.09709930419922, 'Patting': 85.9757308959961, 'UpperStretching': 91.86076354980469, 'LowerStretching': 100.9319076538086, 'Walking': 103.10166931152344, 'Gesticuling': 71.42442321777344, 'Gaming': 86.38430786132812, 'Reacting': 80.76744079589844, 'Talking': 64.13136291503906, 'Greeting': 66.3277816772461}}\n"
     ]
    },
    {
     "name": "stderr",
     "output_type": "stream",
     "text": [
      " 49%|████▊     | 2600/5352 [06:08<06:33,  7.00it/s]"
     ]
    },
    {
     "name": "stdout",
     "output_type": "stream",
     "text": [
      "{'FullBody': {'All': 74.45530700683594, 'Patting': 71.80158233642578, 'UpperStretching': 76.23661804199219, 'LowerStretching': 73.4638442993164, 'Walking': 76.8737564086914, 'Gesticuling': 60.32656478881836, 'Gaming': 68.59484100341797, 'Reacting': 67.48817443847656, 'Talking': 56.10810852050781, 'Greeting': 55.660099029541016}, 'UpperBody': {'All': 55.770816802978516, 'Patting': 58.08300018310547, 'UpperStretching': 60.46743392944336, 'LowerStretching': 46.080078125, 'Walking': 50.7695426940918, 'Gesticuling': 49.162689208984375, 'Gaming': 50.95838928222656, 'Reacting': 54.17262649536133, 'Talking': 47.95372772216797, 'Greeting': 44.876522064208984}, 'LowerBody': {'All': 93.13978576660156, 'Patting': 85.52015686035156, 'UpperStretching': 92.00579071044922, 'LowerStretching': 100.84761047363281, 'Walking': 102.97797393798828, 'Gesticuling': 71.49044036865234, 'Gaming': 86.2313003540039, 'Reacting': 80.8037109375, 'Talking': 64.26248931884766, 'Greeting': 66.44367218017578}}\n"
     ]
    },
    {
     "name": "stderr",
     "output_type": "stream",
     "text": [
      " 52%|█████▏    | 2801/5352 [06:37<06:10,  6.88it/s]"
     ]
    },
    {
     "name": "stdout",
     "output_type": "stream",
     "text": [
      "{'FullBody': {'All': 74.49540710449219, 'Patting': 71.17916107177734, 'UpperStretching': 76.23332214355469, 'LowerStretching': 73.60475158691406, 'Walking': 77.13355255126953, 'Gesticuling': 60.46019744873047, 'Gaming': 68.66777038574219, 'Reacting': 67.34626770019531, 'Talking': 56.21928024291992, 'Greeting': 55.35813903808594}, 'UpperBody': {'All': 55.776363372802734, 'Patting': 57.52151870727539, 'UpperStretching': 60.438323974609375, 'LowerStretching': 46.238426208496094, 'Walking': 50.82612228393555, 'Gesticuling': 49.216957092285156, 'Gaming': 50.9482536315918, 'Reacting': 54.029335021972656, 'Talking': 48.097537994384766, 'Greeting': 44.52598190307617}, 'LowerBody': {'All': 93.21444702148438, 'Patting': 84.83680725097656, 'UpperStretching': 92.0282974243164, 'LowerStretching': 100.97107696533203, 'Walking': 103.44099426269531, 'Gesticuling': 71.70344543457031, 'Gaming': 86.38729095458984, 'Reacting': 80.66320037841797, 'Talking': 64.34101867675781, 'Greeting': 66.19029235839844}}\n"
     ]
    },
    {
     "name": "stderr",
     "output_type": "stream",
     "text": [
      " 56%|█████▌    | 3001/5352 [07:05<05:26,  7.21it/s]"
     ]
    },
    {
     "name": "stdout",
     "output_type": "stream",
     "text": [
      "{'FullBody': {'All': 74.48313903808594, 'Patting': 71.18061828613281, 'UpperStretching': 76.2442626953125, 'LowerStretching': 73.5528564453125, 'Walking': 77.04032135009766, 'Gesticuling': 60.45661163330078, 'Gaming': 68.57421875, 'Reacting': 67.43551635742188, 'Talking': 56.195228576660156, 'Greeting': 55.42641830444336}, 'UpperBody': {'All': 55.747642517089844, 'Patting': 57.549442291259766, 'UpperStretching': 60.41096115112305, 'LowerStretching': 46.216888427734375, 'Walking': 50.7711296081543, 'Gesticuling': 49.202186584472656, 'Gaming': 50.820735931396484, 'Reacting': 54.13268280029297, 'Talking': 48.07863235473633, 'Greeting': 44.62192153930664}, 'LowerBody': {'All': 93.2186279296875, 'Patting': 84.8117904663086, 'UpperStretching': 92.07755279541016, 'LowerStretching': 100.8888168334961, 'Walking': 103.30950927734375, 'Gesticuling': 71.7110366821289, 'Gaming': 86.32769012451172, 'Reacting': 80.73834228515625, 'Talking': 64.31181335449219, 'Greeting': 66.23090362548828}}\n"
     ]
    },
    {
     "name": "stderr",
     "output_type": "stream",
     "text": [
      " 60%|█████▉    | 3200/5352 [07:33<05:01,  7.14it/s]"
     ]
    },
    {
     "name": "stdout",
     "output_type": "stream",
     "text": [
      "{'FullBody': {'All': 74.54491424560547, 'Patting': 71.27933502197266, 'UpperStretching': 76.33370208740234, 'LowerStretching': 73.4863510131836, 'Walking': 77.16326904296875, 'Gesticuling': 60.466835021972656, 'Gaming': 68.55694580078125, 'Reacting': 67.36971282958984, 'Talking': 56.75525665283203, 'Greeting': 55.300514221191406}, 'UpperBody': {'All': 55.838069915771484, 'Patting': 57.591976165771484, 'UpperStretching': 60.53169250488281, 'LowerStretching': 46.1840705871582, 'Walking': 50.881614685058594, 'Gesticuling': 49.25243377685547, 'Gaming': 50.670310974121094, 'Reacting': 54.1573371887207, 'Talking': 48.4764404296875, 'Greeting': 44.465248107910156}, 'LowerBody': {'All': 93.25174713134766, 'Patting': 84.9666976928711, 'UpperStretching': 92.13571166992188, 'LowerStretching': 100.78862762451172, 'Walking': 103.4449234008789, 'Gesticuling': 71.68123626708984, 'Gaming': 86.44357299804688, 'Reacting': 80.58209228515625, 'Talking': 65.0340805053711, 'Greeting': 66.13578796386719}}\n"
     ]
    },
    {
     "name": "stderr",
     "output_type": "stream",
     "text": [
      " 64%|██████▎   | 3401/5352 [08:01<04:43,  6.89it/s]"
     ]
    },
    {
     "name": "stdout",
     "output_type": "stream",
     "text": [
      "{'FullBody': {'All': 74.53009796142578, 'Patting': 71.00428771972656, 'UpperStretching': 76.3238525390625, 'LowerStretching': 73.48837280273438, 'Walking': 77.13147735595703, 'Gesticuling': 60.37877655029297, 'Gaming': 68.84591674804688, 'Reacting': 67.29132080078125, 'Talking': 56.73982238769531, 'Greeting': 55.09661102294922}, 'UpperBody': {'All': 55.83056640625, 'Patting': 57.357521057128906, 'UpperStretching': 60.53581619262695, 'LowerStretching': 46.21266555786133, 'Walking': 50.84713363647461, 'Gesticuling': 49.07191467285156, 'Gaming': 51.028079986572266, 'Reacting': 54.11271667480469, 'Talking': 48.35358428955078, 'Greeting': 44.360877990722656}, 'LowerBody': {'All': 93.22962188720703, 'Patting': 84.65105438232422, 'UpperStretching': 92.11187744140625, 'LowerStretching': 100.76407623291016, 'Walking': 103.41580963134766, 'Gesticuling': 71.6856460571289, 'Gaming': 86.66376495361328, 'Reacting': 80.46991729736328, 'Talking': 65.12606048583984, 'Greeting': 65.83234405517578}}\n"
     ]
    },
    {
     "name": "stderr",
     "output_type": "stream",
     "text": [
      " 67%|██████▋   | 3601/5352 [08:29<04:05,  7.12it/s]"
     ]
    },
    {
     "name": "stdout",
     "output_type": "stream",
     "text": [
      "{'FullBody': {'All': 74.51667785644531, 'Patting': 71.10862731933594, 'UpperStretching': 76.3222427368164, 'LowerStretching': 73.47036743164062, 'Walking': 77.16140747070312, 'Gesticuling': 60.34193801879883, 'Gaming': 68.7537612915039, 'Reacting': 67.08991241455078, 'Talking': 56.854248046875, 'Greeting': 55.04548263549805}, 'UpperBody': {'All': 55.82536315917969, 'Patting': 57.46763229370117, 'UpperStretching': 60.539710998535156, 'LowerStretching': 46.250545501708984, 'Walking': 50.86616516113281, 'Gesticuling': 48.96835708618164, 'Gaming': 50.94357681274414, 'Reacting': 53.9703254699707, 'Talking': 48.341552734375, 'Greeting': 44.327247619628906}, 'LowerBody': {'All': 93.20796966552734, 'Patting': 84.7496337890625, 'UpperStretching': 92.10476684570312, 'LowerStretching': 100.69017791748047, 'Walking': 103.45664978027344, 'Gesticuling': 71.71551513671875, 'Gaming': 86.5639419555664, 'Reacting': 80.2094955444336, 'Talking': 65.36693572998047, 'Greeting': 65.76373291015625}}\n"
     ]
    },
    {
     "name": "stderr",
     "output_type": "stream",
     "text": [
      " 71%|███████   | 3801/5352 [08:57<03:40,  7.04it/s]"
     ]
    },
    {
     "name": "stdout",
     "output_type": "stream",
     "text": [
      "{'FullBody': {'All': 74.49011993408203, 'Patting': 71.22168731689453, 'UpperStretching': 76.27629852294922, 'LowerStretching': 73.50616455078125, 'Walking': 77.06169128417969, 'Gesticuling': 60.3241081237793, 'Gaming': 68.68556213378906, 'Reacting': 67.3526611328125, 'Talking': 56.90015411376953, 'Greeting': 54.99431610107422}, 'UpperBody': {'All': 55.79072952270508, 'Patting': 57.47273254394531, 'UpperStretching': 60.47836685180664, 'LowerStretching': 46.26835250854492, 'Walking': 50.823463439941406, 'Gesticuling': 48.98953628540039, 'Gaming': 51.098838806152344, 'Reacting': 54.07586669921875, 'Talking': 48.33616256713867, 'Greeting': 44.278114318847656}, 'LowerBody': {'All': 93.18950653076172, 'Patting': 84.97064971923828, 'UpperStretching': 92.07421875, 'LowerStretching': 100.74395751953125, 'Walking': 103.2999267578125, 'Gesticuling': 71.65868377685547, 'Gaming': 86.27229309082031, 'Reacting': 80.62945556640625, 'Talking': 65.46414184570312, 'Greeting': 65.71051788330078}}\n"
     ]
    },
    {
     "name": "stderr",
     "output_type": "stream",
     "text": [
      " 75%|███████▍  | 4001/5352 [09:25<03:18,  6.81it/s]"
     ]
    },
    {
     "name": "stdout",
     "output_type": "stream",
     "text": [
      "{'FullBody': {'All': 74.48020935058594, 'Patting': 71.15443420410156, 'UpperStretching': 76.24563598632812, 'LowerStretching': 73.480712890625, 'Walking': 77.18012237548828, 'Gesticuling': 60.223812103271484, 'Gaming': 68.59464263916016, 'Reacting': 67.52214050292969, 'Talking': 56.79043960571289, 'Greeting': 55.03520202636719}, 'UpperBody': {'All': 55.80264663696289, 'Patting': 57.45847702026367, 'UpperStretching': 60.457618713378906, 'LowerStretching': 46.28523254394531, 'Walking': 50.926212310791016, 'Gesticuling': 48.819942474365234, 'Gaming': 51.079105377197266, 'Reacting': 54.409767150878906, 'Talking': 48.424591064453125, 'Greeting': 44.204933166503906}, 'LowerBody': {'All': 93.15776062011719, 'Patting': 84.85041046142578, 'UpperStretching': 92.03365325927734, 'LowerStretching': 100.67618560791016, 'Walking': 103.43401336669922, 'Gesticuling': 71.62769317626953, 'Gaming': 86.11017608642578, 'Reacting': 80.6344985961914, 'Talking': 65.15628051757812, 'Greeting': 65.86546325683594}}\n"
     ]
    },
    {
     "name": "stderr",
     "output_type": "stream",
     "text": [
      " 78%|███████▊  | 4201/5352 [09:54<02:46,  6.93it/s]"
     ]
    },
    {
     "name": "stdout",
     "output_type": "stream",
     "text": [
      "{'FullBody': {'All': 74.52336120605469, 'Patting': 70.86703491210938, 'UpperStretching': 76.32356262207031, 'LowerStretching': 73.46987915039062, 'Walking': 77.22932434082031, 'Gesticuling': 60.22153854370117, 'Gaming': 68.58740234375, 'Reacting': 67.3111801147461, 'Talking': 56.7283935546875, 'Greeting': 55.147823333740234}, 'UpperBody': {'All': 55.846492767333984, 'Patting': 57.0281982421875, 'UpperStretching': 60.5255241394043, 'LowerStretching': 46.299556732177734, 'Walking': 50.97768783569336, 'Gesticuling': 48.81059646606445, 'Gaming': 51.189090728759766, 'Reacting': 54.268978118896484, 'Talking': 48.441864013671875, 'Greeting': 44.26000213623047}, 'LowerBody': {'All': 93.2002182006836, 'Patting': 84.70587921142578, 'UpperStretching': 92.1216049194336, 'LowerStretching': 100.64020538330078, 'Walking': 103.48094940185547, 'Gesticuling': 71.63249206542969, 'Gaming': 85.9857177734375, 'Reacting': 80.35337829589844, 'Talking': 65.01493072509766, 'Greeting': 66.03564453125}}\n"
     ]
    },
    {
     "name": "stderr",
     "output_type": "stream",
     "text": [
      " 82%|████████▏ | 4400/5352 [10:22<02:20,  6.77it/s]"
     ]
    },
    {
     "name": "stdout",
     "output_type": "stream",
     "text": [
      "{'FullBody': {'All': 74.47795104980469, 'Patting': 71.29497528076172, 'UpperStretching': 76.23294830322266, 'LowerStretching': 73.43754577636719, 'Walking': 77.2766342163086, 'Gesticuling': 60.2566032409668, 'Gaming': 68.62032318115234, 'Reacting': 67.25135040283203, 'Talking': 56.79106903076172, 'Greeting': 55.12196731567383}, 'UpperBody': {'All': 55.78275680541992, 'Patting': 57.46010971069336, 'UpperStretching': 60.41328048706055, 'LowerStretching': 46.27732849121094, 'Walking': 51.01405334472656, 'Gesticuling': 48.819480895996094, 'Gaming': 51.15264129638672, 'Reacting': 54.17906951904297, 'Talking': 48.45880889892578, 'Greeting': 44.149200439453125}, 'LowerBody': {'All': 93.17312622070312, 'Patting': 85.12983703613281, 'UpperStretching': 92.05261993408203, 'LowerStretching': 100.5977554321289, 'Walking': 103.53922271728516, 'Gesticuling': 71.69371032714844, 'Gaming': 86.0879898071289, 'Reacting': 80.32363891601562, 'Talking': 65.12332916259766, 'Greeting': 66.09473419189453}}\n"
     ]
    },
    {
     "name": "stderr",
     "output_type": "stream",
     "text": [
      " 86%|████████▌ | 4601/5352 [10:50<01:52,  6.68it/s]"
     ]
    },
    {
     "name": "stdout",
     "output_type": "stream",
     "text": [
      "{'FullBody': {'All': 74.46076202392578, 'Patting': 71.63362884521484, 'UpperStretching': 76.17329406738281, 'LowerStretching': 73.46063232421875, 'Walking': 77.34368133544922, 'Gesticuling': 60.302574157714844, 'Gaming': 68.54835510253906, 'Reacting': 67.261962890625, 'Talking': 56.71698760986328, 'Greeting': 55.128719329833984}, 'UpperBody': {'All': 55.7720832824707, 'Patting': 57.984214782714844, 'UpperStretching': 60.36578369140625, 'LowerStretching': 46.29401779174805, 'Walking': 51.039302825927734, 'Gesticuling': 48.845855712890625, 'Gaming': 51.007789611816406, 'Reacting': 54.16490173339844, 'Talking': 48.40795135498047, 'Greeting': 44.228084564208984}, 'LowerBody': {'All': 93.1494140625, 'Patting': 85.28305053710938, 'UpperStretching': 91.98080444335938, 'LowerStretching': 100.62724304199219, 'Walking': 103.64806365966797, 'Gesticuling': 71.75929260253906, 'Gaming': 86.08892822265625, 'Reacting': 80.35902404785156, 'Talking': 65.0260238647461, 'Greeting': 66.02935028076172}}\n"
     ]
    },
    {
     "name": "stderr",
     "output_type": "stream",
     "text": [
      " 90%|████████▉ | 4801/5352 [11:18<01:22,  6.69it/s]"
     ]
    },
    {
     "name": "stdout",
     "output_type": "stream",
     "text": [
      "{'FullBody': {'All': 74.43856048583984, 'Patting': 71.41674041748047, 'UpperStretching': 76.15386199951172, 'LowerStretching': 73.40660858154297, 'Walking': 77.31132507324219, 'Gesticuling': 60.425418853759766, 'Gaming': 68.56067657470703, 'Reacting': 67.33366394042969, 'Talking': 56.661033630371094, 'Greeting': 55.09050369262695}, 'UpperBody': {'All': 55.766849517822266, 'Patting': 57.683292388916016, 'UpperStretching': 60.381385803222656, 'LowerStretching': 46.28060531616211, 'Walking': 50.977577209472656, 'Gesticuling': 48.983612060546875, 'Gaming': 50.84452819824219, 'Reacting': 54.23821258544922, 'Talking': 48.28596496582031, 'Greeting': 44.18829345703125}, 'LowerBody': {'All': 93.11026763916016, 'Patting': 85.15019226074219, 'UpperStretching': 91.92633819580078, 'LowerStretching': 100.5325927734375, 'Walking': 103.64507293701172, 'Gesticuling': 71.86721801757812, 'Gaming': 86.27684020996094, 'Reacting': 80.42910766601562, 'Talking': 65.03610229492188, 'Greeting': 65.99271392822266}}\n"
     ]
    },
    {
     "name": "stderr",
     "output_type": "stream",
     "text": [
      " 93%|█████████▎| 5000/5352 [11:46<00:57,  6.07it/s]"
     ]
    },
    {
     "name": "stdout",
     "output_type": "stream",
     "text": [
      "{'FullBody': {'All': 74.44416809082031, 'Patting': 71.3006820678711, 'UpperStretching': 76.16495513916016, 'LowerStretching': 73.40938568115234, 'Walking': 77.26701354980469, 'Gesticuling': 60.40258026123047, 'Gaming': 68.73104858398438, 'Reacting': 67.30128479003906, 'Talking': 56.67876434326172, 'Greeting': 55.14296340942383}, 'UpperBody': {'All': 55.78746795654297, 'Patting': 57.56454849243164, 'UpperStretching': 60.417152404785156, 'LowerStretching': 46.27238464355469, 'Walking': 50.938079833984375, 'Gesticuling': 48.99666213989258, 'Gaming': 50.96731948852539, 'Reacting': 54.13057327270508, 'Talking': 48.34698486328125, 'Greeting': 44.21267318725586}, 'LowerBody': {'All': 93.10086059570312, 'Patting': 85.03682708740234, 'UpperStretching': 91.91276550292969, 'LowerStretching': 100.54639434814453, 'Walking': 103.59593200683594, 'Gesticuling': 71.80848693847656, 'Gaming': 86.4947738647461, 'Reacting': 80.47200012207031, 'Talking': 65.01054382324219, 'Greeting': 66.0732650756836}}\n"
     ]
    },
    {
     "name": "stderr",
     "output_type": "stream",
     "text": [
      " 97%|█████████▋| 5201/5352 [12:14<00:23,  6.55it/s]"
     ]
    },
    {
     "name": "stdout",
     "output_type": "stream",
     "text": [
      "{'FullBody': {'All': 74.4665298461914, 'Patting': 71.15866088867188, 'UpperStretching': 76.18881225585938, 'LowerStretching': 73.48980712890625, 'Walking': 77.24122619628906, 'Gesticuling': 60.41099548339844, 'Gaming': 68.68964385986328, 'Reacting': 67.2757568359375, 'Talking': 56.55912780761719, 'Greeting': 55.398441314697266}, 'UpperBody': {'All': 55.793678283691406, 'Patting': 57.38694763183594, 'UpperStretching': 60.42119598388672, 'LowerStretching': 46.30093765258789, 'Walking': 50.94637680053711, 'Gesticuling': 49.0346565246582, 'Gaming': 50.994590759277344, 'Reacting': 54.069454193115234, 'Talking': 48.32054138183594, 'Greeting': 44.51399230957031}, 'LowerBody': {'All': 93.13938903808594, 'Patting': 84.93036651611328, 'UpperStretching': 91.9564208984375, 'LowerStretching': 100.67866516113281, 'Walking': 103.53607940673828, 'Gesticuling': 71.78733825683594, 'Gaming': 86.38469696044922, 'Reacting': 80.48206329345703, 'Talking': 64.7977066040039, 'Greeting': 66.28289794921875}}\n"
     ]
    },
    {
     "name": "stderr",
     "output_type": "stream",
     "text": [
      "100%|██████████| 5352/5352 [12:35<00:00,  7.08it/s]\n",
      "\u001b[94m10:02:17 \u001b[92m[INFO]\u001b[94m Main\u001b[0m: Saving evaluation results...\n",
      "\u001b[94m10:02:17 \u001b[92m[INFO]\u001b[94m Main\u001b[0m: Done.\n",
      "\u001b[94m10:02:17 \u001b[92m[INFO]\u001b[94m Main\u001b[0m: Starting demo...\n",
      "  0%|          | 0/5352 [00:00<?, ?it/s]/opt/conda/lib/python3.10/site-packages/torchvision/transforms/transforms.py:329: UserWarning: Argument 'interpolation' of type int is deprecated since 0.13 and will be removed in 0.15. Please use InterpolationMode enum.\n",
      "  warnings.warn(\n",
      "/opt/conda/lib/python3.10/site-packages/torchvision/transforms/transforms.py:329: UserWarning: Argument 'interpolation' of type int is deprecated since 0.13 and will be removed in 0.15. Please use InterpolationMode enum.\n",
      "  warnings.warn(\n",
      "/opt/conda/lib/python3.10/site-packages/torchvision/transforms/transforms.py:329: UserWarning: Argument 'interpolation' of type int is deprecated since 0.13 and will be removed in 0.15. Please use InterpolationMode enum.\n",
      "  warnings.warn(\n",
      "/opt/conda/lib/python3.10/site-packages/torchvision/transforms/transforms.py:329: UserWarning: Argument 'interpolation' of type int is deprecated since 0.13 and will be removed in 0.15. Please use InterpolationMode enum.\n",
      "  warnings.warn(\n",
      "/opt/conda/lib/python3.10/site-packages/torchvision/transforms/transforms.py:329: UserWarning: Argument 'interpolation' of type int is deprecated since 0.13 and will be removed in 0.15. Please use InterpolationMode enum.\n",
      "  warnings.warn(\n",
      "/opt/conda/lib/python3.10/site-packages/torchvision/transforms/transforms.py:329: UserWarning: Argument 'interpolation' of type int is deprecated since 0.13 and will be removed in 0.15. Please use InterpolationMode enum.\n",
      "  warnings.warn(\n",
      "/opt/conda/lib/python3.10/site-packages/torchvision/transforms/transforms.py:329: UserWarning: Argument 'interpolation' of type int is deprecated since 0.13 and will be removed in 0.15. Please use InterpolationMode enum.\n",
      "  warnings.warn(\n",
      "/opt/conda/lib/python3.10/site-packages/torchvision/transforms/transforms.py:329: UserWarning: Argument 'interpolation' of type int is deprecated since 0.13 and will be removed in 0.15. Please use InterpolationMode enum.\n",
      "  warnings.warn(\n",
      "/opt/conda/lib/python3.10/site-packages/torchvision/transforms/transforms.py:329: UserWarning: Argument 'interpolation' of type int is deprecated since 0.13 and will be removed in 0.15. Please use InterpolationMode enum.\n",
      "  warnings.warn(\n",
      "/opt/conda/lib/python3.10/site-packages/torchvision/transforms/transforms.py:329: UserWarning: Argument 'interpolation' of type int is deprecated since 0.13 and will be removed in 0.15. Please use InterpolationMode enum.\n",
      "  warnings.warn(\n",
      "/opt/conda/lib/python3.10/site-packages/torchvision/transforms/transforms.py:329: UserWarning: Argument 'interpolation' of type int is deprecated since 0.13 and will be removed in 0.15. Please use InterpolationMode enum.\n",
      "  warnings.warn(\n",
      "/opt/conda/lib/python3.10/site-packages/torchvision/transforms/transforms.py:329: UserWarning: Argument 'interpolation' of type int is deprecated since 0.13 and will be removed in 0.15. Please use InterpolationMode enum.\n",
      "  warnings.warn(\n",
      "/opt/conda/lib/python3.10/site-packages/torchvision/transforms/transforms.py:329: UserWarning: Argument 'interpolation' of type int is deprecated since 0.13 and will be removed in 0.15. Please use InterpolationMode enum.\n",
      "  warnings.warn(\n",
      "/opt/conda/lib/python3.10/site-packages/torchvision/transforms/transforms.py:329: UserWarning: Argument 'interpolation' of type int is deprecated since 0.13 and will be removed in 0.15. Please use InterpolationMode enum.\n",
      "  warnings.warn(\n",
      "/opt/conda/lib/python3.10/site-packages/torchvision/transforms/transforms.py:329: UserWarning: Argument 'interpolation' of type int is deprecated since 0.13 and will be removed in 0.15. Please use InterpolationMode enum.\n",
      "  warnings.warn(\n",
      "/opt/conda/lib/python3.10/site-packages/torchvision/transforms/transforms.py:329: UserWarning: Argument 'interpolation' of type int is deprecated since 0.13 and will be removed in 0.15. Please use InterpolationMode enum.\n",
      "  warnings.warn(\n",
      "/opt/conda/lib/python3.10/site-packages/torchvision/transforms/transforms.py:329: UserWarning: Argument 'interpolation' of type int is deprecated since 0.13 and will be removed in 0.15. Please use InterpolationMode enum.\n",
      "  warnings.warn(\n",
      "/opt/conda/lib/python3.10/site-packages/torchvision/transforms/transforms.py:329: UserWarning: Argument 'interpolation' of type int is deprecated since 0.13 and will be removed in 0.15. Please use InterpolationMode enum.\n",
      "  warnings.warn(\n",
      "/opt/conda/lib/python3.10/site-packages/torchvision/transforms/transforms.py:329: UserWarning: Argument 'interpolation' of type int is deprecated since 0.13 and will be removed in 0.15. Please use InterpolationMode enum.\n",
      "  warnings.warn(\n",
      "/opt/conda/lib/python3.10/site-packages/torchvision/transforms/transforms.py:329: UserWarning: Argument 'interpolation' of type int is deprecated since 0.13 and will be removed in 0.15. Please use InterpolationMode enum.\n",
      "  warnings.warn(\n",
      "/opt/conda/lib/python3.10/site-packages/torchvision/transforms/transforms.py:329: UserWarning: Argument 'interpolation' of type int is deprecated since 0.13 and will be removed in 0.15. Please use InterpolationMode enum.\n",
      "  warnings.warn(\n",
      "/opt/conda/lib/python3.10/site-packages/torchvision/transforms/transforms.py:329: UserWarning: Argument 'interpolation' of type int is deprecated since 0.13 and will be removed in 0.15. Please use InterpolationMode enum.\n",
      "  warnings.warn(\n",
      "/opt/conda/lib/python3.10/site-packages/torchvision/transforms/transforms.py:329: UserWarning: Argument 'interpolation' of type int is deprecated since 0.13 and will be removed in 0.15. Please use InterpolationMode enum.\n",
      "  warnings.warn(\n",
      "/opt/conda/lib/python3.10/site-packages/torchvision/transforms/transforms.py:329: UserWarning: Argument 'interpolation' of type int is deprecated since 0.13 and will be removed in 0.15. Please use InterpolationMode enum.\n",
      "  warnings.warn(\n",
      "  4%|▍         | 201/5352 [00:33<11:05,  7.74it/s]"
     ]
    },
    {
     "name": "stdout",
     "output_type": "stream",
     "text": [
      "{'FullBody': {'All': 77.2757568359375, 'LowerStretching': 75.81515502929688, 'Walking': 76.9982681274414, 'UpperStretching': 79.35004425048828, 'Reacting': 74.08509063720703, 'Gesticuling': 62.38746643066406, 'Patting': 78.48664855957031, 'Greeting': 62.425960540771484, 'Talking': 59.55677032470703, 'Gaming': 71.77799987792969}, 'UpperBody': {'All': 56.4995002746582, 'LowerStretching': 48.15581512451172, 'Walking': 49.067787170410156, 'UpperStretching': 60.755306243896484, 'Reacting': 58.14811325073242, 'Gesticuling': 54.28021240234375, 'Patting': 58.43553161621094, 'Greeting': 50.796993255615234, 'Talking': 51.694427490234375, 'Gaming': 55.728477478027344}, 'LowerBody': {'All': 98.05200958251953, 'LowerStretching': 103.47450256347656, 'Walking': 104.92874908447266, 'UpperStretching': 97.94477844238281, 'Reacting': 90.02207946777344, 'Gesticuling': 70.4947280883789, 'Patting': 98.53777313232422, 'Greeting': 74.054931640625, 'Talking': 67.41910552978516, 'Gaming': 87.8275146484375}}\n"
     ]
    },
    {
     "name": "stderr",
     "output_type": "stream",
     "text": [
      "  7%|▋         | 401/5352 [01:01<12:47,  6.45it/s]"
     ]
    },
    {
     "name": "stdout",
     "output_type": "stream",
     "text": [
      "{'FullBody': {'All': 77.44811248779297, 'LowerStretching': 76.5481185913086, 'Walking': 77.19278717041016, 'UpperStretching': 79.26457977294922, 'Reacting': 72.32230377197266, 'Gesticuling': 64.02628326416016, 'Patting': 78.84485626220703, 'Greeting': 62.274658203125, 'Talking': 60.83551788330078, 'Gaming': 74.37657165527344}, 'UpperBody': {'All': 56.5955696105957, 'LowerStretching': 47.74495315551758, 'Walking': 50.040550231933594, 'UpperStretching': 60.74747848510742, 'Reacting': 56.487762451171875, 'Gesticuling': 56.84477615356445, 'Patting': 58.002113342285156, 'Greeting': 50.25461959838867, 'Talking': 53.264583587646484, 'Gaming': 57.286956787109375}, 'LowerBody': {'All': 98.30066680908203, 'LowerStretching': 105.35127258300781, 'Walking': 104.34502410888672, 'UpperStretching': 97.78166961669922, 'Reacting': 88.1568374633789, 'Gesticuling': 71.20780944824219, 'Patting': 99.68759155273438, 'Greeting': 74.2947006225586, 'Talking': 68.40644836425781, 'Gaming': 91.46617889404297}}\n"
     ]
    },
    {
     "name": "stderr",
     "output_type": "stream",
     "text": [
      " 11%|█         | 601/5352 [01:29<10:57,  7.23it/s]"
     ]
    },
    {
     "name": "stdout",
     "output_type": "stream",
     "text": [
      "{'FullBody': {'All': 77.58856964111328, 'LowerStretching': 76.92843627929688, 'Walking': 77.06350708007812, 'UpperStretching': 79.45886993408203, 'Reacting': 72.00222778320312, 'Gesticuling': 63.87760925292969, 'Patting': 76.8544692993164, 'Greeting': 62.57887268066406, 'Talking': 61.98255920410156, 'Gaming': 74.48526763916016}, 'UpperBody': {'All': 56.68180847167969, 'LowerStretching': 48.103511810302734, 'Walking': 50.120975494384766, 'UpperStretching': 60.81062316894531, 'Reacting': 56.54988098144531, 'Gesticuling': 56.64167022705078, 'Patting': 56.54838180541992, 'Greeting': 50.0330810546875, 'Talking': 54.06139373779297, 'Gaming': 56.5216178894043}, 'LowerBody': {'All': 98.49531555175781, 'LowerStretching': 105.75336456298828, 'Walking': 104.00602722167969, 'UpperStretching': 98.10711669921875, 'Reacting': 87.45458221435547, 'Gesticuling': 71.1135482788086, 'Patting': 97.16055297851562, 'Greeting': 75.12466430664062, 'Talking': 69.90372467041016, 'Gaming': 92.44891357421875}}\n"
     ]
    },
    {
     "name": "stderr",
     "output_type": "stream",
     "text": [
      " 15%|█▍        | 801/5352 [01:57<10:03,  7.55it/s]"
     ]
    },
    {
     "name": "stdout",
     "output_type": "stream",
     "text": [
      "{'FullBody': {'All': 77.6561050415039, 'LowerStretching': 76.73709869384766, 'Walking': 77.25360870361328, 'UpperStretching': 79.58274841308594, 'Reacting': 72.7685775756836, 'Gesticuling': 63.855770111083984, 'Patting': 77.08069610595703, 'Greeting': 62.73482894897461, 'Talking': 60.961448669433594, 'Gaming': 74.96285247802734}, 'UpperBody': {'All': 56.791709899902344, 'LowerStretching': 48.088287353515625, 'Walking': 50.308868408203125, 'UpperStretching': 60.9100456237793, 'Reacting': 57.63710403442383, 'Gesticuling': 56.36909103393555, 'Patting': 58.15043258666992, 'Greeting': 49.94107437133789, 'Talking': 52.450042724609375, 'Gaming': 56.11317825317383}, 'LowerBody': {'All': 98.5204849243164, 'LowerStretching': 105.38592529296875, 'Walking': 104.1983642578125, 'UpperStretching': 98.25547790527344, 'Reacting': 87.90006256103516, 'Gesticuling': 71.34246063232422, 'Patting': 96.01097869873047, 'Greeting': 75.52857208251953, 'Talking': 69.47283935546875, 'Gaming': 93.8125228881836}}\n"
     ]
    },
    {
     "name": "stderr",
     "output_type": "stream",
     "text": [
      " 19%|█▊        | 1001/5352 [02:25<10:48,  6.71it/s]"
     ]
    },
    {
     "name": "stdout",
     "output_type": "stream",
     "text": [
      "{'FullBody': {'All': 77.57622528076172, 'LowerStretching': 77.11213684082031, 'Walking': 77.20428466796875, 'UpperStretching': 79.38069915771484, 'Reacting': 72.96504974365234, 'Gesticuling': 63.6074104309082, 'Patting': 75.70084381103516, 'Greeting': 62.42266082763672, 'Talking': 60.86178970336914, 'Gaming': 74.6636962890625}, 'UpperBody': {'All': 56.80006408691406, 'LowerStretching': 48.39175033569336, 'Walking': 50.20065689086914, 'UpperStretching': 60.86357879638672, 'Reacting': 58.54884719848633, 'Gesticuling': 55.99281311035156, 'Patting': 57.41061019897461, 'Greeting': 50.05397415161133, 'Talking': 51.79275894165039, 'Gaming': 56.04339599609375}, 'LowerBody': {'All': 98.3523941040039, 'LowerStretching': 105.83252716064453, 'Walking': 104.20792388916016, 'UpperStretching': 97.89783477783203, 'Reacting': 87.38126373291016, 'Gesticuling': 71.22201538085938, 'Patting': 93.9910659790039, 'Greeting': 74.79134368896484, 'Talking': 69.93081665039062, 'Gaming': 93.28399658203125}}\n"
     ]
    },
    {
     "name": "stderr",
     "output_type": "stream",
     "text": [
      " 22%|██▏       | 1201/5352 [02:53<09:49,  7.05it/s]"
     ]
    },
    {
     "name": "stdout",
     "output_type": "stream",
     "text": [
      "{'FullBody': {'All': 77.45647430419922, 'LowerStretching': 77.185302734375, 'Walking': 77.23678588867188, 'UpperStretching': 79.19125366210938, 'Reacting': 72.61945343017578, 'Gesticuling': 63.63786315917969, 'Patting': 75.91883087158203, 'Greeting': 62.44948959350586, 'Talking': 60.408958435058594, 'Gaming': 73.80374908447266}, 'UpperBody': {'All': 56.750240325927734, 'LowerStretching': 48.27952575683594, 'Walking': 50.38287353515625, 'UpperStretching': 60.7756462097168, 'Reacting': 58.655887603759766, 'Gesticuling': 56.04045867919922, 'Patting': 57.29750061035156, 'Greeting': 50.119693756103516, 'Talking': 51.15209197998047, 'Gaming': 55.782955169677734}, 'LowerBody': {'All': 98.16271209716797, 'LowerStretching': 106.09107208251953, 'Walking': 104.0906982421875, 'UpperStretching': 97.60686492919922, 'Reacting': 86.5830307006836, 'Gesticuling': 71.23526000976562, 'Patting': 94.5401611328125, 'Greeting': 74.77928161621094, 'Talking': 69.66582489013672, 'Gaming': 91.82454681396484}}\n"
     ]
    },
    {
     "name": "stderr",
     "output_type": "stream",
     "text": [
      " 26%|██▌       | 1401/5352 [03:21<08:53,  7.40it/s]"
     ]
    },
    {
     "name": "stdout",
     "output_type": "stream",
     "text": [
      "{'FullBody': {'All': 77.47041320800781, 'LowerStretching': 77.25051879882812, 'Walking': 77.27281951904297, 'UpperStretching': 79.22016143798828, 'Reacting': 73.1387710571289, 'Gesticuling': 63.344295501708984, 'Patting': 74.7664794921875, 'Greeting': 62.73542404174805, 'Talking': 60.32390594482422, 'Gaming': 73.87604522705078}, 'UpperBody': {'All': 56.771087646484375, 'LowerStretching': 48.30278015136719, 'Walking': 50.49098205566406, 'UpperStretching': 60.725746154785156, 'Reacting': 59.56938934326172, 'Gesticuling': 55.9842643737793, 'Patting': 56.70248794555664, 'Greeting': 50.549015045166016, 'Talking': 50.9229621887207, 'Gaming': 55.72053527832031}, 'LowerBody': {'All': 98.16974639892578, 'LowerStretching': 106.1982421875, 'Walking': 104.05467224121094, 'UpperStretching': 97.71456909179688, 'Reacting': 86.70816040039062, 'Gesticuling': 70.7043228149414, 'Patting': 92.83049011230469, 'Greeting': 74.92182922363281, 'Talking': 69.724853515625, 'Gaming': 92.03155517578125}}\n"
     ]
    },
    {
     "name": "stderr",
     "output_type": "stream",
     "text": [
      " 30%|██▉       | 1601/5352 [03:49<09:43,  6.43it/s]"
     ]
    },
    {
     "name": "stdout",
     "output_type": "stream",
     "text": [
      "{'FullBody': {'All': 77.41619110107422, 'LowerStretching': 77.24990844726562, 'Walking': 77.13369750976562, 'UpperStretching': 79.16202545166016, 'Reacting': 72.93531799316406, 'Gesticuling': 63.230594635009766, 'Patting': 74.9215316772461, 'Greeting': 62.74947738647461, 'Talking': 60.94501876831055, 'Gaming': 74.11520385742188}, 'UpperBody': {'All': 56.755828857421875, 'LowerStretching': 48.222938537597656, 'Walking': 50.48808288574219, 'UpperStretching': 60.7257080078125, 'Reacting': 59.521549224853516, 'Gesticuling': 55.92434310913086, 'Patting': 56.43230056762695, 'Greeting': 50.22225570678711, 'Talking': 50.81208419799805, 'Gaming': 56.05604553222656}, 'LowerBody': {'All': 98.07655334472656, 'LowerStretching': 106.2768783569336, 'Walking': 103.7793197631836, 'UpperStretching': 97.59834289550781, 'Reacting': 86.34908294677734, 'Gesticuling': 70.5368423461914, 'Patting': 93.41077423095703, 'Greeting': 75.27670288085938, 'Talking': 71.07794952392578, 'Gaming': 92.17436981201172}}\n"
     ]
    },
    {
     "name": "stderr",
     "output_type": "stream",
     "text": [
      " 34%|███▎      | 1801/5352 [04:17<08:09,  7.26it/s]"
     ]
    },
    {
     "name": "stdout",
     "output_type": "stream",
     "text": [
      "{'FullBody': {'All': 77.39341735839844, 'LowerStretching': 77.19771575927734, 'Walking': 77.0698013305664, 'UpperStretching': 79.14789581298828, 'Reacting': 72.83900451660156, 'Gesticuling': 63.65666198730469, 'Patting': 74.12850189208984, 'Greeting': 63.357086181640625, 'Talking': 60.91510009765625, 'Gaming': 74.33222961425781}, 'UpperBody': {'All': 56.735111236572266, 'LowerStretching': 48.103851318359375, 'Walking': 50.3216438293457, 'UpperStretching': 60.73954772949219, 'Reacting': 59.23628234863281, 'Gesticuling': 56.471214294433594, 'Patting': 56.01995086669922, 'Greeting': 50.94287109375, 'Talking': 51.05646514892578, 'Gaming': 56.10137176513672}, 'LowerBody': {'All': 98.05172729492188, 'LowerStretching': 106.29158020019531, 'Walking': 103.81796264648438, 'UpperStretching': 97.5562515258789, 'Reacting': 86.44173431396484, 'Gesticuling': 70.84211730957031, 'Patting': 92.23705291748047, 'Greeting': 75.77129364013672, 'Talking': 70.77373504638672, 'Gaming': 92.5630874633789}}\n"
     ]
    },
    {
     "name": "stderr",
     "output_type": "stream",
     "text": [
      " 37%|███▋      | 2001/5352 [04:45<07:44,  7.22it/s]"
     ]
    },
    {
     "name": "stdout",
     "output_type": "stream",
     "text": [
      "{'FullBody': {'All': 77.3372802734375, 'LowerStretching': 77.01270294189453, 'Walking': 76.83167266845703, 'UpperStretching': 79.16610717773438, 'Reacting': 72.84307098388672, 'Gesticuling': 63.629493713378906, 'Patting': 73.98422241210938, 'Greeting': 63.01753616333008, 'Talking': 60.41472244262695, 'Gaming': 74.3420639038086}, 'UpperBody': {'All': 56.73958206176758, 'LowerStretching': 48.00851058959961, 'Walking': 50.333946228027344, 'UpperStretching': 60.82281494140625, 'Reacting': 59.10041809082031, 'Gesticuling': 56.40968704223633, 'Patting': 55.691322326660156, 'Greeting': 50.55269241333008, 'Talking': 50.53606033325195, 'Gaming': 56.19007873535156}, 'LowerBody': {'All': 97.93498992919922, 'LowerStretching': 106.01688385009766, 'Walking': 103.32939910888672, 'UpperStretching': 97.5093994140625, 'Reacting': 86.58572387695312, 'Gesticuling': 70.84929656982422, 'Patting': 92.2771224975586, 'Greeting': 75.48238372802734, 'Talking': 70.29338836669922, 'Gaming': 92.49404907226562}}\n"
     ]
    },
    {
     "name": "stderr",
     "output_type": "stream",
     "text": [
      " 41%|████      | 2201/5352 [05:13<08:28,  6.20it/s]"
     ]
    },
    {
     "name": "stdout",
     "output_type": "stream",
     "text": [
      "{'FullBody': {'All': 77.29017639160156, 'LowerStretching': 76.88172912597656, 'Walking': 76.6598892211914, 'UpperStretching': 79.20636749267578, 'Reacting': 72.48431396484375, 'Gesticuling': 63.54471206665039, 'Patting': 73.42556762695312, 'Greeting': 62.74325180053711, 'Talking': 60.04753494262695, 'Gaming': 74.26374816894531}, 'UpperBody': {'All': 56.6983528137207, 'LowerStretching': 47.99435043334961, 'Walking': 50.2439079284668, 'UpperStretching': 60.84877395629883, 'Reacting': 58.7841796875, 'Gesticuling': 56.32095718383789, 'Patting': 55.245853424072266, 'Greeting': 50.19322967529297, 'Talking': 50.06720733642578, 'Gaming': 56.19648361206055}, 'LowerBody': {'All': 97.88201141357422, 'LowerStretching': 105.76910400390625, 'Walking': 103.07585906982422, 'UpperStretching': 97.56396484375, 'Reacting': 86.1844482421875, 'Gesticuling': 70.76846313476562, 'Patting': 91.60529327392578, 'Greeting': 75.29325866699219, 'Talking': 70.0278549194336, 'Gaming': 92.33100891113281}}\n"
     ]
    },
    {
     "name": "stderr",
     "output_type": "stream",
     "text": [
      " 45%|████▍     | 2401/5352 [05:41<06:52,  7.16it/s]"
     ]
    },
    {
     "name": "stdout",
     "output_type": "stream",
     "text": [
      "{'FullBody': {'All': 77.35260772705078, 'LowerStretching': 76.74602508544922, 'Walking': 76.57743835449219, 'UpperStretching': 79.38092803955078, 'Reacting': 72.56111145019531, 'Gesticuling': 63.20645523071289, 'Patting': 73.74219512939453, 'Greeting': 62.279720306396484, 'Talking': 59.71283721923828, 'Gaming': 74.31863403320312}, 'UpperBody': {'All': 56.75814437866211, 'LowerStretching': 47.94969177246094, 'Walking': 50.244354248046875, 'UpperStretching': 60.979225158691406, 'Reacting': 58.90628433227539, 'Gesticuling': 56.0962028503418, 'Patting': 55.38050079345703, 'Greeting': 49.799495697021484, 'Talking': 49.74123764038086, 'Gaming': 55.908348083496094}, 'LowerBody': {'All': 97.94706726074219, 'LowerStretching': 105.5423583984375, 'Walking': 102.9105224609375, 'UpperStretching': 97.78262329101562, 'Reacting': 86.21592712402344, 'Gesticuling': 70.31670379638672, 'Patting': 92.10389709472656, 'Greeting': 74.75996398925781, 'Talking': 69.68444061279297, 'Gaming': 92.72891235351562}}\n"
     ]
    },
    {
     "name": "stderr",
     "output_type": "stream",
     "text": [
      " 49%|████▊     | 2601/5352 [06:10<06:25,  7.13it/s]"
     ]
    },
    {
     "name": "stdout",
     "output_type": "stream",
     "text": [
      "{'FullBody': {'All': 77.37377166748047, 'LowerStretching': 76.8080062866211, 'Walking': 76.7093276977539, 'UpperStretching': 79.36991882324219, 'Reacting': 72.45860290527344, 'Gesticuling': 63.085086822509766, 'Patting': 74.29937744140625, 'Greeting': 62.504093170166016, 'Talking': 59.575218200683594, 'Gaming': 74.29212188720703}, 'UpperBody': {'All': 56.81819152832031, 'LowerStretching': 48.0247802734375, 'Walking': 50.336673736572266, 'UpperStretching': 61.04723358154297, 'Reacting': 59.022335052490234, 'Gesticuling': 56.02458190917969, 'Patting': 55.30094528198242, 'Greeting': 50.15042495727539, 'Talking': 49.56098556518555, 'Gaming': 55.90476608276367}, 'LowerBody': {'All': 97.92935943603516, 'LowerStretching': 105.59122467041016, 'Walking': 103.08198547363281, 'UpperStretching': 97.69261169433594, 'Reacting': 85.8948745727539, 'Gesticuling': 70.14559173583984, 'Patting': 93.29782104492188, 'Greeting': 74.8577651977539, 'Talking': 69.58944702148438, 'Gaming': 92.67948150634766}}\n"
     ]
    },
    {
     "name": "stderr",
     "output_type": "stream",
     "text": [
      " 52%|█████▏    | 2801/5352 [06:38<06:52,  6.18it/s]"
     ]
    },
    {
     "name": "stdout",
     "output_type": "stream",
     "text": [
      "{'FullBody': {'All': 77.43061065673828, 'LowerStretching': 76.82451629638672, 'Walking': 76.71817016601562, 'UpperStretching': 79.4623031616211, 'Reacting': 72.8132095336914, 'Gesticuling': 62.88610076904297, 'Patting': 74.01322937011719, 'Greeting': 62.45256805419922, 'Talking': 59.521915435791016, 'Gaming': 74.50657653808594}, 'UpperBody': {'All': 56.83226013183594, 'LowerStretching': 48.09040069580078, 'Walking': 50.31813049316406, 'UpperStretching': 61.07024383544922, 'Reacting': 59.43516540527344, 'Gesticuling': 55.61884689331055, 'Patting': 55.32081985473633, 'Greeting': 50.045658111572266, 'Talking': 49.52553939819336, 'Gaming': 55.84838104248047}, 'LowerBody': {'All': 98.02898406982422, 'LowerStretching': 105.55863189697266, 'Walking': 103.11820220947266, 'UpperStretching': 97.85436248779297, 'Reacting': 86.1912612915039, 'Gesticuling': 70.15335845947266, 'Patting': 92.70563507080078, 'Greeting': 74.85948181152344, 'Talking': 69.51828002929688, 'Gaming': 93.1647720336914}}\n"
     ]
    },
    {
     "name": "stderr",
     "output_type": "stream",
     "text": [
      " 56%|█████▌    | 3001/5352 [07:06<05:45,  6.80it/s]"
     ]
    },
    {
     "name": "stdout",
     "output_type": "stream",
     "text": [
      "{'FullBody': {'All': 77.46813201904297, 'LowerStretching': 76.93546295166016, 'Walking': 76.7111587524414, 'UpperStretching': 79.49576568603516, 'Reacting': 72.85901641845703, 'Gesticuling': 63.12508010864258, 'Patting': 73.92501068115234, 'Greeting': 62.27120590209961, 'Talking': 59.55699920654297, 'Gaming': 74.51712036132812}, 'UpperBody': {'All': 56.86347961425781, 'LowerStretching': 48.0843505859375, 'Walking': 50.383140563964844, 'UpperStretching': 61.091129302978516, 'Reacting': 59.57236862182617, 'Gesticuling': 55.66403579711914, 'Patting': 55.44536209106445, 'Greeting': 49.91334533691406, 'Talking': 49.64885330200195, 'Gaming': 55.800865173339844}, 'LowerBody': {'All': 98.07279205322266, 'LowerStretching': 105.78658294677734, 'Walking': 103.03917694091797, 'UpperStretching': 97.90040588378906, 'Reacting': 86.14566040039062, 'Gesticuling': 70.58613586425781, 'Patting': 92.40467071533203, 'Greeting': 74.62905883789062, 'Talking': 69.46515655517578, 'Gaming': 93.2333755493164}}\n"
     ]
    },
    {
     "name": "stderr",
     "output_type": "stream",
     "text": [
      " 60%|█████▉    | 3201/5352 [07:34<05:00,  7.16it/s]"
     ]
    },
    {
     "name": "stdout",
     "output_type": "stream",
     "text": [
      "{'FullBody': {'All': 77.48027038574219, 'LowerStretching': 76.89264678955078, 'Walking': 76.75312805175781, 'UpperStretching': 79.52137756347656, 'Reacting': 72.75899505615234, 'Gesticuling': 62.9569206237793, 'Patting': 73.53657531738281, 'Greeting': 62.38468551635742, 'Talking': 59.63719177246094, 'Gaming': 74.6829605102539}, 'UpperBody': {'All': 56.8392219543457, 'LowerStretching': 48.098228454589844, 'Walking': 50.42416763305664, 'UpperStretching': 61.05994415283203, 'Reacting': 59.257179260253906, 'Gesticuling': 55.6370849609375, 'Patting': 55.10102844238281, 'Greeting': 50.03254699707031, 'Talking': 49.73589324951172, 'Gaming': 55.95438766479492}, 'LowerBody': {'All': 98.1213150024414, 'LowerStretching': 105.68708801269531, 'Walking': 103.08208465576172, 'UpperStretching': 97.98280334472656, 'Reacting': 86.26081085205078, 'Gesticuling': 70.2767562866211, 'Patting': 91.97212219238281, 'Greeting': 74.73682403564453, 'Talking': 69.53849029541016, 'Gaming': 93.41155242919922}}\n"
     ]
    },
    {
     "name": "stderr",
     "output_type": "stream",
     "text": [
      " 64%|██████▎   | 3400/5352 [08:02<04:41,  6.94it/s]"
     ]
    },
    {
     "name": "stdout",
     "output_type": "stream",
     "text": [
      "{'FullBody': {'All': 77.47903442382812, 'LowerStretching': 76.95232391357422, 'Walking': 76.74664306640625, 'UpperStretching': 79.546630859375, 'Reacting': 72.618408203125, 'Gesticuling': 62.93202590942383, 'Patting': 73.02078247070312, 'Greeting': 62.43915557861328, 'Talking': 59.5848274230957, 'Gaming': 74.5203857421875}, 'UpperBody': {'All': 56.813053131103516, 'LowerStretching': 48.083343505859375, 'Walking': 50.391761779785156, 'UpperStretching': 61.05516052246094, 'Reacting': 59.01194381713867, 'Gesticuling': 55.55204391479492, 'Patting': 54.71833038330078, 'Greeting': 50.25881576538086, 'Talking': 49.6069450378418, 'Gaming': 55.94245529174805}, 'LowerBody': {'All': 98.14503479003906, 'LowerStretching': 105.82130432128906, 'Walking': 103.10151672363281, 'UpperStretching': 98.03809356689453, 'Reacting': 86.22490692138672, 'Gesticuling': 70.31201934814453, 'Patting': 91.32323455810547, 'Greeting': 74.61949157714844, 'Talking': 69.56269836425781, 'Gaming': 93.09832000732422}}\n"
     ]
    },
    {
     "name": "stderr",
     "output_type": "stream",
     "text": [
      " 67%|██████▋   | 3601/5352 [08:30<04:11,  6.97it/s]"
     ]
    },
    {
     "name": "stdout",
     "output_type": "stream",
     "text": [
      "{'FullBody': {'All': 77.55773162841797, 'LowerStretching': 76.97431182861328, 'Walking': 76.77283477783203, 'UpperStretching': 79.63457489013672, 'Reacting': 72.58029174804688, 'Gesticuling': 62.91527557373047, 'Patting': 74.09967803955078, 'Greeting': 62.527313232421875, 'Talking': 59.39301681518555, 'Gaming': 74.5467300415039}, 'UpperBody': {'All': 56.8569450378418, 'LowerStretching': 48.073760986328125, 'Walking': 50.44487762451172, 'UpperStretching': 61.11643981933594, 'Reacting': 58.986507415771484, 'Gesticuling': 55.49443054199219, 'Patting': 54.834205627441406, 'Greeting': 50.354095458984375, 'Talking': 49.304203033447266, 'Gaming': 56.018516540527344}, 'LowerBody': {'All': 98.258544921875, 'LowerStretching': 105.8748779296875, 'Walking': 103.10077667236328, 'UpperStretching': 98.1527099609375, 'Reacting': 86.17406463623047, 'Gesticuling': 70.33612060546875, 'Patting': 93.36514282226562, 'Greeting': 74.70053100585938, 'Talking': 69.48184204101562, 'Gaming': 93.07495880126953}}\n"
     ]
    },
    {
     "name": "stderr",
     "output_type": "stream",
     "text": [
      " 71%|███████   | 3801/5352 [08:58<03:38,  7.11it/s]"
     ]
    },
    {
     "name": "stdout",
     "output_type": "stream",
     "text": [
      "{'FullBody': {'All': 77.55714416503906, 'LowerStretching': 76.89985656738281, 'Walking': 76.85627746582031, 'UpperStretching': 79.62879180908203, 'Reacting': 72.5861587524414, 'Gesticuling': 63.06686019897461, 'Patting': 74.1881332397461, 'Greeting': 62.39192581176758, 'Talking': 59.58219528198242, 'Gaming': 74.57073974609375}, 'UpperBody': {'All': 56.867366790771484, 'LowerStretching': 48.049137115478516, 'Walking': 50.522239685058594, 'UpperStretching': 61.11479187011719, 'Reacting': 59.01985168457031, 'Gesticuling': 55.695106506347656, 'Patting': 54.79719924926758, 'Greeting': 50.197750091552734, 'Talking': 49.61524963378906, 'Gaming': 55.876155853271484}, 'LowerBody': {'All': 98.24694061279297, 'LowerStretching': 105.7505874633789, 'Walking': 103.19032287597656, 'UpperStretching': 98.14279174804688, 'Reacting': 86.15249633789062, 'Gesticuling': 70.4386215209961, 'Patting': 93.5790786743164, 'Greeting': 74.58610534667969, 'Talking': 69.54914855957031, 'Gaming': 93.26532745361328}}\n"
     ]
    },
    {
     "name": "stderr",
     "output_type": "stream",
     "text": [
      " 75%|███████▍  | 4000/5352 [09:26<03:27,  6.50it/s]"
     ]
    },
    {
     "name": "stdout",
     "output_type": "stream",
     "text": [
      "{'FullBody': {'All': 77.58396911621094, 'LowerStretching': 76.85582733154297, 'Walking': 76.95034790039062, 'UpperStretching': 79.65504455566406, 'Reacting': 72.62730407714844, 'Gesticuling': 63.19895553588867, 'Patting': 74.2018814086914, 'Greeting': 62.642642974853516, 'Talking': 59.305320739746094, 'Gaming': 74.65369415283203}, 'UpperBody': {'All': 56.90993881225586, 'LowerStretching': 48.038795471191406, 'Walking': 50.568180084228516, 'UpperStretching': 61.16291427612305, 'Reacting': 59.06544494628906, 'Gesticuling': 55.83319091796875, 'Patting': 54.8718376159668, 'Greeting': 50.33001708984375, 'Talking': 49.43375778198242, 'Gaming': 55.94598388671875}, 'LowerBody': {'All': 98.25801086425781, 'LowerStretching': 105.67286682128906, 'Walking': 103.33250427246094, 'UpperStretching': 98.14717864990234, 'Reacting': 86.18917083740234, 'Gesticuling': 70.56471252441406, 'Patting': 93.53190612792969, 'Greeting': 74.95526885986328, 'Talking': 69.17688751220703, 'Gaming': 93.36139678955078}}\n"
     ]
    },
    {
     "name": "stderr",
     "output_type": "stream",
     "text": [
      " 78%|███████▊  | 4201/5352 [09:54<02:48,  6.84it/s]"
     ]
    },
    {
     "name": "stdout",
     "output_type": "stream",
     "text": [
      "{'FullBody': {'All': 77.55541229248047, 'LowerStretching': 76.82752990722656, 'Walking': 76.95067596435547, 'UpperStretching': 79.62057495117188, 'Reacting': 72.58738708496094, 'Gesticuling': 63.19516372680664, 'Patting': 74.08181762695312, 'Greeting': 62.78755187988281, 'Talking': 59.32463836669922, 'Gaming': 74.56564331054688}, 'UpperBody': {'All': 56.892581939697266, 'LowerStretching': 48.03571701049805, 'Walking': 50.51209259033203, 'UpperStretching': 61.147438049316406, 'Reacting': 58.94319534301758, 'Gesticuling': 55.866172790527344, 'Patting': 54.72343826293945, 'Greeting': 50.43049621582031, 'Talking': 49.4491081237793, 'Gaming': 55.80253601074219}, 'LowerBody': {'All': 98.21825408935547, 'LowerStretching': 105.61935424804688, 'Walking': 103.38927459716797, 'UpperStretching': 98.09370422363281, 'Reacting': 86.23159790039062, 'Gesticuling': 70.5241470336914, 'Patting': 93.44020080566406, 'Greeting': 75.14461517333984, 'Talking': 69.20016479492188, 'Gaming': 93.3287582397461}}\n"
     ]
    },
    {
     "name": "stderr",
     "output_type": "stream",
     "text": [
      " 82%|████████▏ | 4401/5352 [10:22<02:20,  6.76it/s]"
     ]
    },
    {
     "name": "stdout",
     "output_type": "stream",
     "text": [
      "{'FullBody': {'All': 77.53689575195312, 'LowerStretching': 76.86652374267578, 'Walking': 76.86177062988281, 'UpperStretching': 79.58409118652344, 'Reacting': 72.5124740600586, 'Gesticuling': 63.2184944152832, 'Patting': 74.33343505859375, 'Greeting': 62.898136138916016, 'Talking': 59.676761627197266, 'Gaming': 74.61235809326172}, 'UpperBody': {'All': 56.881553649902344, 'LowerStretching': 48.0511474609375, 'Walking': 50.478153228759766, 'UpperStretching': 61.116905212402344, 'Reacting': 58.89967727661133, 'Gesticuling': 55.84600067138672, 'Patting': 54.8991584777832, 'Greeting': 50.670467376708984, 'Talking': 49.59463119506836, 'Gaming': 55.9614143371582}, 'LowerBody': {'All': 98.1922607421875, 'LowerStretching': 105.6819076538086, 'Walking': 103.24539184570312, 'UpperStretching': 98.05126953125, 'Reacting': 86.12525177001953, 'Gesticuling': 70.59098815917969, 'Patting': 93.76770782470703, 'Greeting': 75.12580871582031, 'Talking': 69.7588882446289, 'Gaming': 93.26329803466797}}\n"
     ]
    },
    {
     "name": "stderr",
     "output_type": "stream",
     "text": [
      " 86%|████████▌ | 4601/5352 [10:51<02:06,  5.92it/s]"
     ]
    },
    {
     "name": "stdout",
     "output_type": "stream",
     "text": [
      "{'FullBody': {'All': 77.53934478759766, 'LowerStretching': 76.81138610839844, 'Walking': 76.84326934814453, 'UpperStretching': 79.59163665771484, 'Reacting': 72.42233276367188, 'Gesticuling': 63.23356246948242, 'Patting': 74.6673355102539, 'Greeting': 62.76990509033203, 'Talking': 59.723182678222656, 'Gaming': 74.76493835449219}, 'UpperBody': {'All': 56.9086799621582, 'LowerStretching': 48.0161247253418, 'Walking': 50.500789642333984, 'UpperStretching': 61.144309997558594, 'Reacting': 58.76771926879883, 'Gesticuling': 55.78703689575195, 'Patting': 55.16033935546875, 'Greeting': 50.66080093383789, 'Talking': 49.732093811035156, 'Gaming': 56.118560791015625}, 'LowerBody': {'All': 98.1700439453125, 'LowerStretching': 105.60665130615234, 'Walking': 103.18576049804688, 'UpperStretching': 98.03894805908203, 'Reacting': 86.07693481445312, 'Gesticuling': 70.68008422851562, 'Patting': 94.17432403564453, 'Greeting': 74.8790054321289, 'Talking': 69.71427154541016, 'Gaming': 93.41133117675781}}\n"
     ]
    },
    {
     "name": "stderr",
     "output_type": "stream",
     "text": [
      " 90%|████████▉ | 4801/5352 [11:19<01:25,  6.46it/s]"
     ]
    },
    {
     "name": "stdout",
     "output_type": "stream",
     "text": [
      "{'FullBody': {'All': 77.53575897216797, 'LowerStretching': 76.80741882324219, 'Walking': 76.80998229980469, 'UpperStretching': 79.60465240478516, 'Reacting': 72.44783782958984, 'Gesticuling': 63.15220642089844, 'Patting': 74.29032135009766, 'Greeting': 62.78028869628906, 'Talking': 59.70637512207031, 'Gaming': 74.71099090576172}, 'UpperBody': {'All': 56.92076110839844, 'LowerStretching': 47.9730339050293, 'Walking': 50.526451110839844, 'UpperStretching': 61.1713752746582, 'Reacting': 58.8308219909668, 'Gesticuling': 55.73222732543945, 'Patting': 54.9820671081543, 'Greeting': 50.738433837890625, 'Talking': 49.79255294799805, 'Gaming': 56.086917877197266}, 'LowerBody': {'All': 98.15076446533203, 'LowerStretching': 105.64179992675781, 'Walking': 103.09351348876953, 'UpperStretching': 98.03791046142578, 'Reacting': 86.06485748291016, 'Gesticuling': 70.57217407226562, 'Patting': 93.59856414794922, 'Greeting': 74.8221435546875, 'Talking': 69.62019348144531, 'Gaming': 93.3350601196289}}\n"
     ]
    },
    {
     "name": "stderr",
     "output_type": "stream",
     "text": [
      " 93%|█████████▎| 5001/5352 [11:47<00:52,  6.65it/s]"
     ]
    },
    {
     "name": "stdout",
     "output_type": "stream",
     "text": [
      "{'FullBody': {'All': 77.5367660522461, 'LowerStretching': 76.79638671875, 'Walking': 76.80391693115234, 'UpperStretching': 79.62408447265625, 'Reacting': 72.35968780517578, 'Gesticuling': 63.15317153930664, 'Patting': 74.08047485351562, 'Greeting': 62.70763397216797, 'Talking': 59.67443084716797, 'Gaming': 74.63856506347656}, 'UpperBody': {'All': 56.92799377441406, 'LowerStretching': 47.99187469482422, 'Walking': 50.50464630126953, 'UpperStretching': 61.194236755371094, 'Reacting': 58.72312545776367, 'Gesticuling': 55.77388000488281, 'Patting': 54.92124938964844, 'Greeting': 50.633731842041016, 'Talking': 49.6760368347168, 'Gaming': 56.00310134887695}, 'LowerBody': {'All': 98.14553833007812, 'LowerStretching': 105.60089874267578, 'Walking': 103.10318756103516, 'UpperStretching': 98.05392456054688, 'Reacting': 85.9962387084961, 'Gesticuling': 70.53245544433594, 'Patting': 93.23969268798828, 'Greeting': 74.78153991699219, 'Talking': 69.67284393310547, 'Gaming': 93.2740249633789}}\n"
     ]
    },
    {
     "name": "stderr",
     "output_type": "stream",
     "text": [
      " 97%|█████████▋| 5201/5352 [12:15<00:25,  6.00it/s]"
     ]
    },
    {
     "name": "stdout",
     "output_type": "stream",
     "text": [
      "{'FullBody': {'All': 77.52889251708984, 'LowerStretching': 76.76700592041016, 'Walking': 76.71990966796875, 'UpperStretching': 79.63835906982422, 'Reacting': 72.29570007324219, 'Gesticuling': 62.96498489379883, 'Patting': 74.24246215820312, 'Greeting': 62.9105339050293, 'Talking': 59.794673919677734, 'Gaming': 74.64703369140625}, 'UpperBody': {'All': 56.934608459472656, 'LowerStretching': 48.00924301147461, 'Walking': 50.472877502441406, 'UpperStretching': 61.202728271484375, 'Reacting': 58.73481750488281, 'Gesticuling': 55.578853607177734, 'Patting': 54.9730110168457, 'Greeting': 50.72260284423828, 'Talking': 49.883338928222656, 'Gaming': 56.034698486328125}, 'LowerBody': {'All': 98.12319946289062, 'LowerStretching': 105.52477264404297, 'Walking': 102.96695709228516, 'UpperStretching': 98.07398223876953, 'Reacting': 85.85657501220703, 'Gesticuling': 70.35111236572266, 'Patting': 93.51192474365234, 'Greeting': 75.09848022460938, 'Talking': 69.70600128173828, 'Gaming': 93.25936126708984}}\n"
     ]
    },
    {
     "name": "stderr",
     "output_type": "stream",
     "text": [
      "100%|██████████| 5352/5352 [12:36<00:00,  7.07it/s]\n",
      "\u001b[94m10:14:56 \u001b[92m[INFO]\u001b[94m Main\u001b[0m: Saving evaluation results...\n",
      "\u001b[94m10:14:56 \u001b[92m[INFO]\u001b[94m Main\u001b[0m: Done.\n"
     ]
    }
   ],
   "source": [
    "for i,p in enumerate(path_):\n",
    "\t_path = f'/workspace/2d_to_3d/apps/eval/ours_depth_sil_sep'\n",
    "\t_name = f'baseline808_{i}.json'\n",
    "\tif not os.path.exists(_path):\n",
    "\t\tos.makedirs(_path)\n",
    "\n",
    "\tmain(model_path=p,output_path=os.path.join(_path,_name))"
   ]
  }
 ],
 "metadata": {
  "kernelspec": {
   "display_name": "base",
   "language": "python",
   "name": "python3"
  },
  "language_info": {
   "codemirror_mode": {
    "name": "ipython",
    "version": 3
   },
   "file_extension": ".py",
   "mimetype": "text/x-python",
   "name": "python",
   "nbconvert_exporter": "python",
   "pygments_lexer": "ipython3",
   "version": "3.10.8"
  },
  "orig_nbformat": 4
 },
 "nbformat": 4,
 "nbformat_minor": 2
}
