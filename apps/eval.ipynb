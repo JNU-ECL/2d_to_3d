{
 "cells": [
  {
   "cell_type": "code",
   "execution_count": 1,
   "metadata": {},
   "outputs": [
    {
     "name": "stderr",
     "output_type": "stream",
     "text": [
      "/opt/conda/lib/python3.10/site-packages/tqdm/auto.py:22: TqdmWarning: IProgress not found. Please update jupyter and ipywidgets. See https://ipywidgets.readthedocs.io/en/stable/user_install.html\n",
      "  from .autonotebook import tqdm as notebook_tqdm\n"
     ]
    }
   ],
   "source": [
    "# Copyright (c) Facebook, Inc. and its affiliates. All Rights Reserved\n",
    "# -*- coding: utf-8 -*-\n",
    "\"\"\"\n",
    "Demo code\n",
    "\n",
    "@author: Denis Tome'\n",
    "\n",
    "\"\"\"\n",
    "from torch.utils.data import DataLoader\n",
    "import torch\n",
    "from torchvision import transforms\n",
    "from base import SetType\n",
    "import multiprocessing\n",
    "from mocap import Mocap\n",
    "from utils import config, ConsoleLogger\n",
    "from utils import evaluate, io\n",
    "from model import TempModel\n",
    "from model_xregopose import xR_egoposemodel\n",
    "from model_mo2cap2 import mo2cap_ours\n",
    "from tqdm import tqdm\n",
    "import os\n",
    "\n",
    "LOGGER = ConsoleLogger(\"Main\")\n",
    "use_cuda = torch.cuda.is_available()\n",
    "device = torch.device(\"cuda\" if use_cuda else \"cpu\")\n"
   ]
  },
  {
   "cell_type": "code",
   "execution_count": 2,
   "metadata": {},
   "outputs": [],
   "source": [
    "\n",
    "def main(model_path=None,output_path=None):\n",
    "\t\"\"\"Main\"\"\"\n",
    "\n",
    "\tLOGGER.info('Starting demo...')\n",
    "\n",
    "\t# ------------------- Data loader -------------------\n",
    "\n",
    "\n",
    "\t# let's load data from validation set as example\n",
    "\tdata = Mocap(\n",
    "\t\t'/dataset/data/Dataset/TestSet',\n",
    "\t\tSetType.VAL,\n",
    "\t\t)\n",
    "\tdata_loader = DataLoader(\n",
    "\t\tdata,\n",
    "\t\tbatch_size=16,\n",
    "\t\tnum_workers=(multiprocessing.cpu_count() // 3) * 2,\n",
    "\t\tshuffle=True)\n",
    "\n",
    "\t# ------------------- Evaluation -------------------\n",
    "\n",
    "\teval_body = evaluate.EvalBody()\n",
    "\teval_upper = evaluate.EvalUpperBody()\n",
    "\teval_lower = evaluate.EvalLowerBody()\n",
    "\n",
    "\t# ------------------- Read dataset frames -------------------\n",
    "\n",
    "\tmodel = mo2cap_ours(pretrained_path=model_path).to(device)\n",
    "\tmodel = torch.nn.DataParallel(model,device_ids=[0,1])\n",
    "\tmodel.eval()\n",
    "\n",
    "\tfor it, test_batch in enumerate(tqdm(data_loader)):\n",
    "\t\timage = test_batch['image'].cuda()\n",
    "\t\timage_zoom = test_batch['image_zoom'].cuda()\n",
    "\t\tp3d = test_batch['joints_3d_cam']\n",
    "\t\taction = test_batch['action']\n",
    "\t\tinput_img = {\n",
    "\t\t\t'image':image,\n",
    "\t\t\t'image_zoom' : image_zoom,\n",
    "\t\t\t}\n",
    "\t\t# LOGGER.info('Iteration: {}'.format(it))\n",
    "\t\t# LOGGER.info('Images: {}'.format(img.shape))\n",
    "\t\t# LOGGER.info('p2ds: {}'.format(p2d.shape))\n",
    "\t\t# LOGGER.info('p3ds: {}'.format(p3d.shape))\n",
    "\t\t# LOGGER.info('Actions: {}'.format(action))\n",
    "\n",
    "\t\t# -----------------------------------------------------------\n",
    "\t\tpred_output = model(input_img)\n",
    "\t\t# -----------------------------------------------------------\n",
    "\n",
    "\t\t# TODO: replace p3d_hat with model preditions\n",
    "\t\tp3d_hat = pred_output['pred_pose']\n",
    "\n",
    "\t\t# Evaluate results using different evaluation metrices\n",
    "\t\ty_output = p3d_hat.data.cpu().numpy() * 1000\n",
    "\t\ty_target = p3d.data.cpu().numpy() * 1000\n",
    "\n",
    "\t\teval_body.eval(y_output, y_target, action)\n",
    "\t\teval_upper.eval(y_output, y_target, action)\n",
    "\t\teval_lower.eval(y_output, y_target, action)\n",
    "\t\tif (it+1)%200==0:\n",
    "\t\t\tprint({'FullBody': eval_body.get_results(),\n",
    "\t\t   'UpperBody': eval_upper.get_results(),\n",
    "\t\t   'LowerBody': eval_lower.get_results()})\n",
    "\t\t\t# break\n",
    "\t\t# TODO: remove break\n",
    "\t\t\n",
    "\n",
    "\t# ------------------- Save results -------------------\n",
    "\n",
    "\tLOGGER.info('Saving evaluation results...')\n",
    "\tres = {'FullBody': eval_body.get_results(),\n",
    "\t\t   'UpperBody': eval_upper.get_results(),\n",
    "\t\t   'LowerBody': eval_lower.get_results()}\n",
    "\n",
    "\tio.write_json(output_path, res)\n",
    "\n",
    "\tLOGGER.info('Done.')"
   ]
  },
  {
   "cell_type": "code",
   "execution_count": 3,
   "metadata": {},
   "outputs": [
    {
     "data": {
      "text/plain": [
       "['/workspace/2d_to_3d/apps/exp805/0.pth',\n",
       " '/workspace/2d_to_3d/apps/exp805/1.pth',\n",
       " '/workspace/2d_to_3d/apps/exp805/2.pth',\n",
       " '/workspace/2d_to_3d/apps/exp805/3.pth',\n",
       " '/workspace/2d_to_3d/apps/exp805/4.pth',\n",
       " '/workspace/2d_to_3d/apps/exp805/5.pth',\n",
       " '/workspace/2d_to_3d/apps/exp805/6.pth',\n",
       " '/workspace/2d_to_3d/apps/exp805/7.pth',\n",
       " '/workspace/2d_to_3d/apps/exp805/8.pth',\n",
       " '/workspace/2d_to_3d/apps/exp805/9.pth',\n",
       " '/workspace/2d_to_3d/apps/exp805/best.pth']"
      ]
     },
     "execution_count": 3,
     "metadata": {},
     "output_type": "execute_result"
    }
   ],
   "source": [
    "import glob\n",
    "path_ =sorted(glob.glob('/workspace/2d_to_3d/apps/exp806'+'/*'))\n",
    "path_"
   ]
  },
  {
   "cell_type": "code",
   "execution_count": 4,
   "metadata": {},
   "outputs": [
    {
     "ename": "RuntimeError",
     "evalue": "No active exception to reraise",
     "output_type": "error",
     "traceback": [
      "\u001b[0;31m---------------------------------------------------------------------------\u001b[0m",
      "\u001b[0;31mRuntimeError\u001b[0m                              Traceback (most recent call last)",
      "Cell \u001b[0;32mIn[4], line 4\u001b[0m\n\u001b[1;32m      2\u001b[0m gc\u001b[39m.\u001b[39mcollect()\n\u001b[1;32m      3\u001b[0m torch\u001b[39m.\u001b[39mcuda\u001b[39m.\u001b[39mempty_cache()\n\u001b[0;32m----> 4\u001b[0m \u001b[39mraise\u001b[39;00m\n",
      "\u001b[0;31mRuntimeError\u001b[0m: No active exception to reraise"
     ]
    }
   ],
   "source": [
    "import gc\n",
    "gc.collect()\n",
    "torch.cuda.empty_cache()\n",
    "raise"
   ]
  },
  {
   "cell_type": "code",
   "execution_count": 5,
   "metadata": {},
   "outputs": [
    {
     "name": "stderr",
     "output_type": "stream",
     "text": [
      "\u001b[94m08:24:08 \u001b[92m[INFO]\u001b[94m Main\u001b[0m: Starting demo...\n",
      "  0%|          | 0/5352 [00:00<?, ?it/s]/opt/conda/lib/python3.10/site-packages/torchvision/transforms/transforms.py:329: UserWarning: Argument 'interpolation' of type int is deprecated since 0.13 and will be removed in 0.15. Please use InterpolationMode enum.\n",
      "  warnings.warn(\n",
      "/opt/conda/lib/python3.10/site-packages/torchvision/transforms/transforms.py:329: UserWarning: Argument 'interpolation' of type int is deprecated since 0.13 and will be removed in 0.15. Please use InterpolationMode enum.\n",
      "  warnings.warn(\n",
      "/opt/conda/lib/python3.10/site-packages/torchvision/transforms/transforms.py:329: UserWarning: Argument 'interpolation' of type int is deprecated since 0.13 and will be removed in 0.15. Please use InterpolationMode enum.\n",
      "  warnings.warn(\n",
      "/opt/conda/lib/python3.10/site-packages/torchvision/transforms/transforms.py:329: UserWarning: Argument 'interpolation' of type int is deprecated since 0.13 and will be removed in 0.15. Please use InterpolationMode enum.\n",
      "  warnings.warn(\n",
      "/opt/conda/lib/python3.10/site-packages/torchvision/transforms/transforms.py:329: UserWarning: Argument 'interpolation' of type int is deprecated since 0.13 and will be removed in 0.15. Please use InterpolationMode enum.\n",
      "  warnings.warn(\n",
      "/opt/conda/lib/python3.10/site-packages/torchvision/transforms/transforms.py:329: UserWarning: Argument 'interpolation' of type int is deprecated since 0.13 and will be removed in 0.15. Please use InterpolationMode enum.\n",
      "  warnings.warn(\n",
      "/opt/conda/lib/python3.10/site-packages/torchvision/transforms/transforms.py:329: UserWarning: Argument 'interpolation' of type int is deprecated since 0.13 and will be removed in 0.15. Please use InterpolationMode enum.\n",
      "  warnings.warn(\n",
      "/opt/conda/lib/python3.10/site-packages/torchvision/transforms/transforms.py:329: UserWarning: Argument 'interpolation' of type int is deprecated since 0.13 and will be removed in 0.15. Please use InterpolationMode enum.\n",
      "  warnings.warn(\n",
      "/opt/conda/lib/python3.10/site-packages/torchvision/transforms/transforms.py:329: UserWarning: Argument 'interpolation' of type int is deprecated since 0.13 and will be removed in 0.15. Please use InterpolationMode enum.\n",
      "  warnings.warn(\n",
      "/opt/conda/lib/python3.10/site-packages/torchvision/transforms/transforms.py:329: UserWarning: Argument 'interpolation' of type int is deprecated since 0.13 and will be removed in 0.15. Please use InterpolationMode enum.\n",
      "  warnings.warn(\n",
      "/opt/conda/lib/python3.10/site-packages/torchvision/transforms/transforms.py:329: UserWarning: Argument 'interpolation' of type int is deprecated since 0.13 and will be removed in 0.15. Please use InterpolationMode enum.\n",
      "  warnings.warn(\n",
      "/opt/conda/lib/python3.10/site-packages/torchvision/transforms/transforms.py:329: UserWarning: Argument 'interpolation' of type int is deprecated since 0.13 and will be removed in 0.15. Please use InterpolationMode enum.\n",
      "  warnings.warn(\n",
      "/opt/conda/lib/python3.10/site-packages/torchvision/transforms/transforms.py:329: UserWarning: Argument 'interpolation' of type int is deprecated since 0.13 and will be removed in 0.15. Please use InterpolationMode enum.\n",
      "  warnings.warn(\n",
      "/opt/conda/lib/python3.10/site-packages/torchvision/transforms/transforms.py:329: UserWarning: Argument 'interpolation' of type int is deprecated since 0.13 and will be removed in 0.15. Please use InterpolationMode enum.\n",
      "  warnings.warn(\n",
      "/opt/conda/lib/python3.10/site-packages/torchvision/transforms/transforms.py:329: UserWarning: Argument 'interpolation' of type int is deprecated since 0.13 and will be removed in 0.15. Please use InterpolationMode enum.\n",
      "  warnings.warn(\n",
      "/opt/conda/lib/python3.10/site-packages/torchvision/transforms/transforms.py:329: UserWarning: Argument 'interpolation' of type int is deprecated since 0.13 and will be removed in 0.15. Please use InterpolationMode enum.\n",
      "  warnings.warn(\n",
      "/opt/conda/lib/python3.10/site-packages/torchvision/transforms/transforms.py:329: UserWarning: Argument 'interpolation' of type int is deprecated since 0.13 and will be removed in 0.15. Please use InterpolationMode enum.\n",
      "  warnings.warn(\n",
      "/opt/conda/lib/python3.10/site-packages/torchvision/transforms/transforms.py:329: UserWarning: Argument 'interpolation' of type int is deprecated since 0.13 and will be removed in 0.15. Please use InterpolationMode enum.\n",
      "  warnings.warn(\n",
      "/opt/conda/lib/python3.10/site-packages/torchvision/transforms/transforms.py:329: UserWarning: Argument 'interpolation' of type int is deprecated since 0.13 and will be removed in 0.15. Please use InterpolationMode enum.\n",
      "  warnings.warn(\n",
      "/opt/conda/lib/python3.10/site-packages/torchvision/transforms/transforms.py:329: UserWarning: Argument 'interpolation' of type int is deprecated since 0.13 and will be removed in 0.15. Please use InterpolationMode enum.\n",
      "  warnings.warn(\n",
      "/opt/conda/lib/python3.10/site-packages/torchvision/transforms/transforms.py:329: UserWarning: Argument 'interpolation' of type int is deprecated since 0.13 and will be removed in 0.15. Please use InterpolationMode enum.\n",
      "  warnings.warn(\n",
      "/opt/conda/lib/python3.10/site-packages/torchvision/transforms/transforms.py:329: UserWarning: Argument 'interpolation' of type int is deprecated since 0.13 and will be removed in 0.15. Please use InterpolationMode enum.\n",
      "  warnings.warn(\n",
      "/opt/conda/lib/python3.10/site-packages/torchvision/transforms/transforms.py:329: UserWarning: Argument 'interpolation' of type int is deprecated since 0.13 and will be removed in 0.15. Please use InterpolationMode enum.\n",
      "  warnings.warn(\n",
      "/opt/conda/lib/python3.10/site-packages/torchvision/transforms/transforms.py:329: UserWarning: Argument 'interpolation' of type int is deprecated since 0.13 and will be removed in 0.15. Please use InterpolationMode enum.\n",
      "  warnings.warn(\n",
      "  4%|▎         | 200/5352 [00:52<18:32,  4.63it/s] "
     ]
    },
    {
     "name": "stdout",
     "output_type": "stream",
     "text": [
      "{'FullBody': {'All': 229.4725799560547, 'UpperStretching': 229.2767333984375, 'Greeting': 182.7737274169922, 'Walking': 241.0973663330078, 'LowerStretching': 241.79649353027344, 'Patting': 220.62734985351562, 'Reacting': 214.05921936035156, 'Gaming': 213.15432739257812, 'Gesticuling': 158.8573760986328, 'Talking': 174.86419677734375}, 'UpperBody': {'All': 196.50753784179688, 'UpperStretching': 203.3564453125, 'Greeting': 185.2676239013672, 'Walking': 214.52598571777344, 'LowerStretching': 176.54144287109375, 'Patting': 180.3197784423828, 'Reacting': 180.87075805664062, 'Gaming': 168.92929077148438, 'Gesticuling': 149.0716094970703, 'Talking': 164.1964569091797}, 'LowerBody': {'All': 262.4375915527344, 'UpperStretching': 255.197021484375, 'Greeting': 180.27981567382812, 'Walking': 267.6687316894531, 'LowerStretching': 307.0515441894531, 'Patting': 260.9349060058594, 'Reacting': 247.2477264404297, 'Gaming': 257.3793640136719, 'Gesticuling': 168.64309692382812, 'Talking': 185.5319061279297}}\n"
     ]
    },
    {
     "name": "stderr",
     "output_type": "stream",
     "text": [
      "  7%|▋         | 400/5352 [01:36<17:28,  4.72it/s]"
     ]
    },
    {
     "name": "stdout",
     "output_type": "stream",
     "text": [
      "{'FullBody': {'All': 230.57550048828125, 'UpperStretching': 230.52993774414062, 'Greeting': 180.7251739501953, 'Walking': 242.321044921875, 'LowerStretching': 242.40704345703125, 'Patting': 225.50628662109375, 'Reacting': 213.83517456054688, 'Gaming': 217.59640502929688, 'Gesticuling': 163.51651000976562, 'Talking': 185.2012939453125}, 'UpperBody': {'All': 196.71609497070312, 'UpperStretching': 203.29637145996094, 'Greeting': 181.6884307861328, 'Walking': 217.26219177246094, 'LowerStretching': 176.74884033203125, 'Patting': 178.84274291992188, 'Reacting': 181.62655639648438, 'Gaming': 168.38722229003906, 'Gesticuling': 151.23028564453125, 'Talking': 162.10809326171875}, 'LowerBody': {'All': 264.43487548828125, 'UpperStretching': 257.7635192871094, 'Greeting': 179.7619171142578, 'Walking': 267.3798828125, 'LowerStretching': 308.0652770996094, 'Patting': 272.1697998046875, 'Reacting': 246.04379272460938, 'Gaming': 266.8056335449219, 'Gesticuling': 175.802734375, 'Talking': 208.2945098876953}}\n"
     ]
    },
    {
     "name": "stderr",
     "output_type": "stream",
     "text": [
      " 11%|█         | 600/5352 [02:19<17:45,  4.46it/s]"
     ]
    },
    {
     "name": "stdout",
     "output_type": "stream",
     "text": [
      "{'FullBody': {'All': 230.6469268798828, 'UpperStretching': 231.3365936279297, 'Greeting': 182.44778442382812, 'Walking': 240.5084991455078, 'LowerStretching': 240.35592651367188, 'Patting': 228.25547790527344, 'Reacting': 215.5782470703125, 'Gaming': 217.55648803710938, 'Gesticuling': 164.21240234375, 'Talking': 183.295166015625}, 'UpperBody': {'All': 196.51510620117188, 'UpperStretching': 203.06846618652344, 'Greeting': 181.43048095703125, 'Walking': 216.48553466796875, 'LowerStretching': 176.22239685058594, 'Patting': 181.1901092529297, 'Reacting': 183.8929443359375, 'Gaming': 169.4129180908203, 'Gesticuling': 152.8900146484375, 'Talking': 162.69351196289062}, 'LowerBody': {'All': 264.7786865234375, 'UpperStretching': 259.6047668457031, 'Greeting': 183.46507263183594, 'Walking': 264.5314025878906, 'LowerStretching': 304.48944091796875, 'Patting': 275.32086181640625, 'Reacting': 247.26353454589844, 'Gaming': 265.7001037597656, 'Gesticuling': 175.53477478027344, 'Talking': 203.8968505859375}}\n"
     ]
    },
    {
     "name": "stderr",
     "output_type": "stream",
     "text": [
      " 15%|█▍        | 800/5352 [03:02<16:27,  4.61it/s]"
     ]
    },
    {
     "name": "stdout",
     "output_type": "stream",
     "text": [
      "{'FullBody': {'All': 230.7863311767578, 'UpperStretching': 231.37713623046875, 'Greeting': 181.61314392089844, 'Walking': 241.41322326660156, 'LowerStretching': 240.54371643066406, 'Patting': 227.61793518066406, 'Reacting': 213.42491149902344, 'Gaming': 214.9645538330078, 'Gesticuling': 165.4240264892578, 'Talking': 185.40164184570312}, 'UpperBody': {'All': 196.83554077148438, 'UpperStretching': 203.13595581054688, 'Greeting': 180.83009338378906, 'Walking': 218.26303100585938, 'LowerStretching': 176.32305908203125, 'Patting': 182.3430633544922, 'Reacting': 184.87319946289062, 'Gaming': 168.3557586669922, 'Gesticuling': 153.71495056152344, 'Talking': 165.38929748535156}, 'LowerBody': {'All': 264.73712158203125, 'UpperStretching': 259.6183166503906, 'Greeting': 182.39617919921875, 'Walking': 264.5633850097656, 'LowerStretching': 304.7644348144531, 'Patting': 272.892822265625, 'Reacting': 241.97662353515625, 'Gaming': 261.5733642578125, 'Gesticuling': 177.13311767578125, 'Talking': 205.41400146484375}}\n"
     ]
    },
    {
     "name": "stderr",
     "output_type": "stream",
     "text": [
      " 19%|█▊        | 1000/5352 [03:46<15:46,  4.60it/s]"
     ]
    },
    {
     "name": "stdout",
     "output_type": "stream",
     "text": [
      "{'FullBody': {'All': 230.79803466796875, 'UpperStretching': 231.7239990234375, 'Greeting': 181.17739868164062, 'Walking': 240.75765991210938, 'LowerStretching': 240.0374298095703, 'Patting': 229.72061157226562, 'Reacting': 213.26132202148438, 'Gaming': 213.55308532714844, 'Gesticuling': 164.9868927001953, 'Talking': 184.3020782470703}, 'UpperBody': {'All': 196.5835418701172, 'UpperStretching': 203.1957244873047, 'Greeting': 181.04820251464844, 'Walking': 217.86639404296875, 'LowerStretching': 175.87306213378906, 'Patting': 179.69406127929688, 'Reacting': 183.8929443359375, 'Gaming': 166.97988891601562, 'Gesticuling': 152.8893585205078, 'Talking': 164.71343994140625}, 'LowerBody': {'All': 265.01251220703125, 'UpperStretching': 260.2522277832031, 'Greeting': 181.30661010742188, 'Walking': 263.6488952636719, 'LowerStretching': 304.2017517089844, 'Patting': 279.7471923828125, 'Reacting': 242.62969970703125, 'Gaming': 260.12628173828125, 'Gesticuling': 177.0844268798828, 'Talking': 203.8907470703125}}\n"
     ]
    },
    {
     "name": "stderr",
     "output_type": "stream",
     "text": [
      " 22%|██▏       | 1200/5352 [04:30<15:56,  4.34it/s]"
     ]
    },
    {
     "name": "stdout",
     "output_type": "stream",
     "text": [
      "{'FullBody': {'All': 230.49595642089844, 'UpperStretching': 231.104736328125, 'Greeting': 181.98475646972656, 'Walking': 240.83905029296875, 'LowerStretching': 240.77145385742188, 'Patting': 230.04200744628906, 'Reacting': 213.09378051757812, 'Gaming': 212.95106506347656, 'Gesticuling': 165.63148498535156, 'Talking': 185.36582946777344}, 'UpperBody': {'All': 196.44247436523438, 'UpperStretching': 203.0020294189453, 'Greeting': 181.75994873046875, 'Walking': 218.02166748046875, 'LowerStretching': 175.8849334716797, 'Patting': 179.37686157226562, 'Reacting': 183.68405151367188, 'Gaming': 167.34222412109375, 'Gesticuling': 153.6371612548828, 'Talking': 163.76646423339844}, 'LowerBody': {'All': 264.5494384765625, 'UpperStretching': 259.2073974609375, 'Greeting': 182.20956420898438, 'Walking': 263.6564025878906, 'LowerStretching': 305.6579895019531, 'Patting': 280.7071228027344, 'Reacting': 242.50352478027344, 'Gaming': 258.5599365234375, 'Gesticuling': 177.6258544921875, 'Talking': 206.96519470214844}}\n"
     ]
    },
    {
     "name": "stderr",
     "output_type": "stream",
     "text": [
      " 26%|██▌       | 1400/5352 [05:13<14:23,  4.58it/s]"
     ]
    },
    {
     "name": "stdout",
     "output_type": "stream",
     "text": [
      "{'FullBody': {'All': 230.4476318359375, 'UpperStretching': 231.12213134765625, 'Greeting': 181.80601501464844, 'Walking': 240.4842529296875, 'LowerStretching': 241.18348693847656, 'Patting': 229.58453369140625, 'Reacting': 212.3614959716797, 'Gaming': 211.40687561035156, 'Gesticuling': 165.94744873046875, 'Talking': 186.35951232910156}, 'UpperBody': {'All': 196.4715576171875, 'UpperStretching': 203.0989227294922, 'Greeting': 181.86538696289062, 'Walking': 218.22650146484375, 'LowerStretching': 175.7572021484375, 'Patting': 180.5874786376953, 'Reacting': 183.20404052734375, 'Gaming': 166.91848754882812, 'Gesticuling': 154.2584991455078, 'Talking': 164.0823974609375}, 'LowerBody': {'All': 264.4237365722656, 'UpperStretching': 259.14532470703125, 'Greeting': 181.74661254882812, 'Walking': 262.7420349121094, 'LowerStretching': 306.6097717285156, 'Patting': 278.5815734863281, 'Reacting': 241.5189666748047, 'Gaming': 255.8953094482422, 'Gesticuling': 177.63638305664062, 'Talking': 208.6366424560547}}\n"
     ]
    },
    {
     "name": "stderr",
     "output_type": "stream",
     "text": [
      " 30%|██▉       | 1600/5352 [05:57<13:53,  4.50it/s]"
     ]
    },
    {
     "name": "stdout",
     "output_type": "stream",
     "text": [
      "{'FullBody': {'All': 230.32553100585938, 'UpperStretching': 230.95159912109375, 'Greeting': 182.85545349121094, 'Walking': 239.9587860107422, 'LowerStretching': 241.71531677246094, 'Patting': 229.11734008789062, 'Reacting': 212.50747680664062, 'Gaming': 210.6524658203125, 'Gesticuling': 165.97984313964844, 'Talking': 185.4340057373047}, 'UpperBody': {'All': 196.4110870361328, 'UpperStretching': 203.12387084960938, 'Greeting': 182.77015686035156, 'Walking': 217.9040069580078, 'LowerStretching': 175.89544677734375, 'Patting': 178.31143188476562, 'Reacting': 183.03822326660156, 'Gaming': 166.4167938232422, 'Gesticuling': 154.3905029296875, 'Talking': 164.4209442138672}, 'LowerBody': {'All': 264.2399597167969, 'UpperStretching': 258.779296875, 'Greeting': 182.94078063964844, 'Walking': 262.0135192871094, 'LowerStretching': 307.53521728515625, 'Patting': 279.9232177734375, 'Reacting': 241.97671508789062, 'Gaming': 254.88816833496094, 'Gesticuling': 177.5692138671875, 'Talking': 206.44708251953125}}\n"
     ]
    },
    {
     "name": "stderr",
     "output_type": "stream",
     "text": [
      " 34%|███▎      | 1800/5352 [06:40<13:31,  4.38it/s]"
     ]
    },
    {
     "name": "stdout",
     "output_type": "stream",
     "text": [
      "{'FullBody': {'All': 230.3000030517578, 'UpperStretching': 230.83035278320312, 'Greeting': 181.959228515625, 'Walking': 240.27943420410156, 'LowerStretching': 241.83908081054688, 'Patting': 229.71961975097656, 'Reacting': 213.42730712890625, 'Gaming': 211.08155822753906, 'Gesticuling': 166.86024475097656, 'Talking': 185.1968994140625}, 'UpperBody': {'All': 196.4419403076172, 'UpperStretching': 203.05126953125, 'Greeting': 181.9613037109375, 'Walking': 218.2655792236328, 'LowerStretching': 176.06288146972656, 'Patting': 177.9889678955078, 'Reacting': 183.14553833007812, 'Gaming': 167.41510009765625, 'Gesticuling': 154.49453735351562, 'Talking': 164.7876434326172}, 'LowerBody': {'All': 264.1580505371094, 'UpperStretching': 258.60943603515625, 'Greeting': 181.95716857910156, 'Walking': 262.29327392578125, 'LowerStretching': 307.61529541015625, 'Patting': 281.4502868652344, 'Reacting': 243.70907592773438, 'Gaming': 254.74798583984375, 'Gesticuling': 179.2259979248047, 'Talking': 205.60614013671875}}\n"
     ]
    },
    {
     "name": "stderr",
     "output_type": "stream",
     "text": [
      " 37%|███▋      | 2000/5352 [07:24<12:32,  4.45it/s]"
     ]
    },
    {
     "name": "stdout",
     "output_type": "stream",
     "text": [
      "{'FullBody': {'All': 230.3408660888672, 'UpperStretching': 230.98716735839844, 'Greeting': 182.63414001464844, 'Walking': 240.11923217773438, 'LowerStretching': 241.70761108398438, 'Patting': 229.65005493164062, 'Reacting': 213.09730529785156, 'Gaming': 210.0354766845703, 'Gesticuling': 167.31146240234375, 'Talking': 184.71978759765625}, 'UpperBody': {'All': 196.55947875976562, 'UpperStretching': 203.20787048339844, 'Greeting': 182.8499755859375, 'Walking': 218.28440856933594, 'LowerStretching': 176.1498260498047, 'Patting': 177.82887268066406, 'Reacting': 183.3345184326172, 'Gaming': 167.91517639160156, 'Gesticuling': 155.12254333496094, 'Talking': 164.78538513183594}, 'LowerBody': {'All': 264.12225341796875, 'UpperStretching': 258.76641845703125, 'Greeting': 182.41830444335938, 'Walking': 261.9540710449219, 'LowerStretching': 307.265380859375, 'Patting': 281.4712829589844, 'Reacting': 242.86013793945312, 'Gaming': 252.15577697753906, 'Gesticuling': 179.50039672851562, 'Talking': 204.6542205810547}}\n"
     ]
    },
    {
     "name": "stderr",
     "output_type": "stream",
     "text": [
      " 41%|████      | 2200/5352 [08:08<11:51,  4.43it/s]"
     ]
    },
    {
     "name": "stdout",
     "output_type": "stream",
     "text": [
      "{'FullBody': {'All': 230.425048828125, 'UpperStretching': 231.07711791992188, 'Greeting': 182.8877410888672, 'Walking': 240.1343994140625, 'LowerStretching': 241.784423828125, 'Patting': 230.23883056640625, 'Reacting': 213.30532836914062, 'Gaming': 209.9940185546875, 'Gesticuling': 167.18240356445312, 'Talking': 185.5873565673828}, 'UpperBody': {'All': 196.60377502441406, 'UpperStretching': 203.1583251953125, 'Greeting': 183.1327667236328, 'Walking': 218.3852081298828, 'LowerStretching': 176.3857879638672, 'Patting': 178.3564453125, 'Reacting': 183.94802856445312, 'Gaming': 168.07777404785156, 'Gesticuling': 155.2408447265625, 'Talking': 165.3662567138672}, 'LowerBody': {'All': 264.24627685546875, 'UpperStretching': 258.995849609375, 'Greeting': 182.64268493652344, 'Walking': 261.8835754394531, 'LowerStretching': 307.18304443359375, 'Patting': 282.12127685546875, 'Reacting': 242.66261291503906, 'Gaming': 251.91024780273438, 'Gesticuling': 179.12400817871094, 'Talking': 205.8084716796875}}\n"
     ]
    },
    {
     "name": "stderr",
     "output_type": "stream",
     "text": [
      " 45%|████▍     | 2400/5352 [08:51<11:00,  4.47it/s]"
     ]
    },
    {
     "name": "stdout",
     "output_type": "stream",
     "text": [
      "{'FullBody': {'All': 230.4229736328125, 'UpperStretching': 231.09437561035156, 'Greeting': 183.2247772216797, 'Walking': 240.1079559326172, 'LowerStretching': 241.93478393554688, 'Patting': 230.65975952148438, 'Reacting': 212.7892608642578, 'Gaming': 209.2612762451172, 'Gesticuling': 166.84121704101562, 'Talking': 185.5193634033203}, 'UpperBody': {'All': 196.5960693359375, 'UpperStretching': 203.0752716064453, 'Greeting': 182.94036865234375, 'Walking': 218.5616455078125, 'LowerStretching': 176.30438232421875, 'Patting': 179.6376495361328, 'Reacting': 184.2230987548828, 'Gaming': 168.3247528076172, 'Gesticuling': 155.22227478027344, 'Talking': 165.1151885986328}, 'LowerBody': {'All': 264.2498474121094, 'UpperStretching': 259.11346435546875, 'Greeting': 183.50918579101562, 'Walking': 261.6542663574219, 'LowerStretching': 307.5651550292969, 'Patting': 281.68182373046875, 'Reacting': 241.35540771484375, 'Gaming': 250.19781494140625, 'Gesticuling': 178.4601593017578, 'Talking': 205.92352294921875}}\n"
     ]
    },
    {
     "name": "stderr",
     "output_type": "stream",
     "text": [
      " 49%|████▊     | 2600/5352 [09:35<10:20,  4.43it/s]"
     ]
    },
    {
     "name": "stdout",
     "output_type": "stream",
     "text": [
      "{'FullBody': {'All': 230.3878173828125, 'UpperStretching': 231.08908081054688, 'Greeting': 183.05731201171875, 'Walking': 239.9087371826172, 'LowerStretching': 241.93035888671875, 'Patting': 230.74044799804688, 'Reacting': 212.46751403808594, 'Gaming': 209.4604949951172, 'Gesticuling': 167.35011291503906, 'Talking': 184.90760803222656}, 'UpperBody': {'All': 196.57138061523438, 'UpperStretching': 203.11434936523438, 'Greeting': 182.9575653076172, 'Walking': 218.30447387695312, 'LowerStretching': 176.31936645507812, 'Patting': 180.17381286621094, 'Reacting': 184.28651428222656, 'Gaming': 167.86611938476562, 'Gesticuling': 155.71142578125, 'Talking': 164.95199584960938}, 'LowerBody': {'All': 264.2042236328125, 'UpperStretching': 259.06378173828125, 'Greeting': 183.1570281982422, 'Walking': 261.51300048828125, 'LowerStretching': 307.5413513183594, 'Patting': 281.30712890625, 'Reacting': 240.64849853515625, 'Gaming': 251.054931640625, 'Gesticuling': 178.98876953125, 'Talking': 204.8632354736328}}\n"
     ]
    },
    {
     "name": "stderr",
     "output_type": "stream",
     "text": [
      " 52%|█████▏    | 2800/5352 [10:18<09:37,  4.42it/s]"
     ]
    },
    {
     "name": "stdout",
     "output_type": "stream",
     "text": [
      "{'FullBody': {'All': 230.54393005371094, 'UpperStretching': 231.28550720214844, 'Greeting': 183.13623046875, 'Walking': 239.86917114257812, 'LowerStretching': 242.08399963378906, 'Patting': 231.9990997314453, 'Reacting': 211.80191040039062, 'Gaming': 209.2640380859375, 'Gesticuling': 167.71502685546875, 'Talking': 184.66128540039062}, 'UpperBody': {'All': 196.59239196777344, 'UpperStretching': 203.14422607421875, 'Greeting': 182.21871948242188, 'Walking': 218.2140655517578, 'LowerStretching': 176.4222869873047, 'Patting': 180.4027557373047, 'Reacting': 184.0806427001953, 'Gaming': 167.755859375, 'Gesticuling': 155.96360778808594, 'Talking': 165.05650329589844}, 'LowerBody': {'All': 264.4954833984375, 'UpperStretching': 259.4267883300781, 'Greeting': 184.05374145507812, 'Walking': 261.5242614746094, 'LowerStretching': 307.74566650390625, 'Patting': 283.595458984375, 'Reacting': 239.523193359375, 'Gaming': 250.77220153808594, 'Gesticuling': 179.46644592285156, 'Talking': 204.2660675048828}}\n"
     ]
    },
    {
     "name": "stderr",
     "output_type": "stream",
     "text": [
      " 56%|█████▌    | 3000/5352 [11:02<08:35,  4.56it/s]"
     ]
    },
    {
     "name": "stdout",
     "output_type": "stream",
     "text": [
      "{'FullBody': {'All': 230.82766723632812, 'UpperStretching': 231.5636444091797, 'Greeting': 182.8452606201172, 'Walking': 239.89898681640625, 'LowerStretching': 242.39987182617188, 'Patting': 232.3876495361328, 'Reacting': 212.94000244140625, 'Gaming': 210.33245849609375, 'Gesticuling': 168.11795043945312, 'Talking': 184.45108032226562}, 'UpperBody': {'All': 196.70382690429688, 'UpperStretching': 203.28225708007812, 'Greeting': 181.94915771484375, 'Walking': 218.34864807128906, 'LowerStretching': 176.4666748046875, 'Patting': 180.7649688720703, 'Reacting': 184.56153869628906, 'Gaming': 168.04237365722656, 'Gesticuling': 156.09829711914062, 'Talking': 165.085205078125}, 'LowerBody': {'All': 264.95147705078125, 'UpperStretching': 259.84503173828125, 'Greeting': 183.74136352539062, 'Walking': 261.4493103027344, 'LowerStretching': 308.33306884765625, 'Patting': 284.0103454589844, 'Reacting': 241.3184356689453, 'Gaming': 252.62252807617188, 'Gesticuling': 180.1376190185547, 'Talking': 203.81695556640625}}\n"
     ]
    },
    {
     "name": "stderr",
     "output_type": "stream",
     "text": [
      " 60%|█████▉    | 3200/5352 [11:45<08:12,  4.37it/s]"
     ]
    },
    {
     "name": "stdout",
     "output_type": "stream",
     "text": [
      "{'FullBody': {'All': 230.80685424804688, 'UpperStretching': 231.6080322265625, 'Greeting': 182.6655731201172, 'Walking': 239.7686004638672, 'LowerStretching': 242.37588500976562, 'Patting': 232.4408721923828, 'Reacting': 212.72882080078125, 'Gaming': 210.54652404785156, 'Gesticuling': 167.66017150878906, 'Talking': 184.68316650390625}, 'UpperBody': {'All': 196.69384765625, 'UpperStretching': 203.2839813232422, 'Greeting': 181.69085693359375, 'Walking': 218.4447021484375, 'LowerStretching': 176.5750732421875, 'Patting': 180.39059448242188, 'Reacting': 184.56591796875, 'Gaming': 168.0924530029297, 'Gesticuling': 155.45724487304688, 'Talking': 165.02816772460938}, 'LowerBody': {'All': 264.9198913574219, 'UpperStretching': 259.93206787109375, 'Greeting': 183.64028930664062, 'Walking': 261.092529296875, 'LowerStretching': 308.17669677734375, 'Patting': 284.4911804199219, 'Reacting': 240.89173889160156, 'Gaming': 253.00059509277344, 'Gesticuling': 179.86312866210938, 'Talking': 204.3381805419922}}\n"
     ]
    },
    {
     "name": "stderr",
     "output_type": "stream",
     "text": [
      " 64%|██████▎   | 3400/5352 [12:29<07:19,  4.44it/s]"
     ]
    },
    {
     "name": "stdout",
     "output_type": "stream",
     "text": [
      "{'FullBody': {'All': 230.82931518554688, 'UpperStretching': 231.63873291015625, 'Greeting': 182.57664489746094, 'Walking': 240.15663146972656, 'LowerStretching': 242.1431427001953, 'Patting': 232.2215118408203, 'Reacting': 212.44781494140625, 'Gaming': 210.61610412597656, 'Gesticuling': 167.6208038330078, 'Talking': 184.61521911621094}, 'UpperBody': {'All': 196.6764678955078, 'UpperStretching': 203.2984161376953, 'Greeting': 181.45437622070312, 'Walking': 218.76829528808594, 'LowerStretching': 176.37667846679688, 'Patting': 180.56585693359375, 'Reacting': 184.59532165527344, 'Gaming': 167.78616333007812, 'Gesticuling': 155.27024841308594, 'Talking': 165.23313903808594}, 'LowerBody': {'All': 264.9822082519531, 'UpperStretching': 259.9790344238281, 'Greeting': 183.69888305664062, 'Walking': 261.5450134277344, 'LowerStretching': 307.9095764160156, 'Patting': 283.87713623046875, 'Reacting': 240.30030822753906, 'Gaming': 253.44607543945312, 'Gesticuling': 179.97137451171875, 'Talking': 203.99728393554688}}\n"
     ]
    },
    {
     "name": "stderr",
     "output_type": "stream",
     "text": [
      " 67%|██████▋   | 3600/5352 [13:13<06:31,  4.47it/s]"
     ]
    },
    {
     "name": "stdout",
     "output_type": "stream",
     "text": [
      "{'FullBody': {'All': 230.8308868408203, 'UpperStretching': 231.71153259277344, 'Greeting': 182.4867706298828, 'Walking': 240.00537109375, 'LowerStretching': 242.18569946289062, 'Patting': 232.03448486328125, 'Reacting': 212.03443908691406, 'Gaming': 211.17828369140625, 'Gesticuling': 167.60545349121094, 'Talking': 184.015625}, 'UpperBody': {'All': 196.77005004882812, 'UpperStretching': 203.48779296875, 'Greeting': 181.45022583007812, 'Walking': 218.69847106933594, 'LowerStretching': 176.425048828125, 'Patting': 180.66595458984375, 'Reacting': 184.36473083496094, 'Gaming': 167.9991912841797, 'Gesticuling': 155.20477294921875, 'Talking': 165.26866149902344}, 'LowerBody': {'All': 264.8917236328125, 'UpperStretching': 259.935302734375, 'Greeting': 183.5233154296875, 'Walking': 261.312255859375, 'LowerStretching': 307.94635009765625, 'Patting': 283.40301513671875, 'Reacting': 239.7041473388672, 'Gaming': 254.35736083984375, 'Gesticuling': 180.00611877441406, 'Talking': 202.76258850097656}}\n"
     ]
    },
    {
     "name": "stderr",
     "output_type": "stream",
     "text": [
      " 71%|███████   | 3800/5352 [13:56<05:51,  4.41it/s]"
     ]
    },
    {
     "name": "stdout",
     "output_type": "stream",
     "text": [
      "{'FullBody': {'All': 230.78453063964844, 'UpperStretching': 231.57957458496094, 'Greeting': 182.56568908691406, 'Walking': 240.2108917236328, 'LowerStretching': 242.21600341796875, 'Patting': 231.31178283691406, 'Reacting': 212.18426513671875, 'Gaming': 210.6890869140625, 'Gesticuling': 167.8782501220703, 'Talking': 184.18890380859375}, 'UpperBody': {'All': 196.82681274414062, 'UpperStretching': 203.49549865722656, 'Greeting': 181.72048950195312, 'Walking': 218.87977600097656, 'LowerStretching': 176.43682861328125, 'Patting': 180.1450653076172, 'Reacting': 184.65382385253906, 'Gaming': 168.03790283203125, 'Gesticuling': 155.53704833984375, 'Talking': 165.17457580566406}, 'LowerBody': {'All': 264.7422180175781, 'UpperStretching': 259.6636657714844, 'Greeting': 183.41090393066406, 'Walking': 261.5419921875, 'LowerStretching': 307.99517822265625, 'Patting': 282.4784851074219, 'Reacting': 239.7147216796875, 'Gaming': 253.3402862548828, 'Gesticuling': 180.2194366455078, 'Talking': 203.20326232910156}}\n"
     ]
    },
    {
     "name": "stderr",
     "output_type": "stream",
     "text": [
      " 75%|███████▍  | 4000/5352 [14:40<05:02,  4.48it/s]"
     ]
    },
    {
     "name": "stdout",
     "output_type": "stream",
     "text": [
      "{'FullBody': {'All': 230.7054901123047, 'UpperStretching': 231.3936767578125, 'Greeting': 182.41168212890625, 'Walking': 239.9775390625, 'LowerStretching': 242.28912353515625, 'Patting': 231.45677185058594, 'Reacting': 212.85287475585938, 'Gaming': 210.64028930664062, 'Gesticuling': 167.63966369628906, 'Talking': 184.44281005859375}, 'UpperBody': {'All': 196.8836669921875, 'UpperStretching': 203.5009307861328, 'Greeting': 181.53805541992188, 'Walking': 218.8553009033203, 'LowerStretching': 176.5315399169922, 'Patting': 180.3788604736328, 'Reacting': 185.26893615722656, 'Gaming': 168.10118103027344, 'Gesticuling': 155.1752471923828, 'Talking': 165.32464599609375}, 'LowerBody': {'All': 264.52728271484375, 'UpperStretching': 259.28643798828125, 'Greeting': 183.2853240966797, 'Walking': 261.0997314453125, 'LowerStretching': 308.0467529296875, 'Patting': 282.5346984863281, 'Reacting': 240.43679809570312, 'Gaming': 253.17941284179688, 'Gesticuling': 180.10409545898438, 'Talking': 203.5609588623047}}\n"
     ]
    },
    {
     "name": "stderr",
     "output_type": "stream",
     "text": [
      " 78%|███████▊  | 4200/5352 [15:24<04:21,  4.41it/s]"
     ]
    },
    {
     "name": "stdout",
     "output_type": "stream",
     "text": [
      "{'FullBody': {'All': 230.7232666015625, 'UpperStretching': 231.447998046875, 'Greeting': 182.3873291015625, 'Walking': 239.9143829345703, 'LowerStretching': 242.3790740966797, 'Patting': 230.9657745361328, 'Reacting': 212.7125244140625, 'Gaming': 210.83697509765625, 'Gesticuling': 167.12477111816406, 'Talking': 184.17254638671875}, 'UpperBody': {'All': 196.8494415283203, 'UpperStretching': 203.52989196777344, 'Greeting': 181.42111206054688, 'Walking': 218.682373046875, 'LowerStretching': 176.56199645996094, 'Patting': 179.55645751953125, 'Reacting': 184.98866271972656, 'Gaming': 168.11325073242188, 'Gesticuling': 154.9217529296875, 'Talking': 165.42626953125}, 'LowerBody': {'All': 264.59710693359375, 'UpperStretching': 259.3661193847656, 'Greeting': 183.35357666015625, 'Walking': 261.1463928222656, 'LowerStretching': 308.1961669921875, 'Patting': 282.3751525878906, 'Reacting': 240.43637084960938, 'Gaming': 253.5606689453125, 'Gesticuling': 179.3278045654297, 'Talking': 202.91883850097656}}\n"
     ]
    },
    {
     "name": "stderr",
     "output_type": "stream",
     "text": [
      " 82%|████████▏ | 4400/5352 [16:07<03:40,  4.31it/s]"
     ]
    },
    {
     "name": "stdout",
     "output_type": "stream",
     "text": [
      "{'FullBody': {'All': 230.82998657226562, 'UpperStretching': 231.56304931640625, 'Greeting': 182.60691833496094, 'Walking': 239.81216430664062, 'LowerStretching': 242.5945281982422, 'Patting': 230.3841094970703, 'Reacting': 212.98475646972656, 'Gaming': 210.77725219726562, 'Gesticuling': 167.31663513183594, 'Talking': 184.08262634277344}, 'UpperBody': {'All': 196.92718505859375, 'UpperStretching': 203.60382080078125, 'Greeting': 181.46786499023438, 'Walking': 218.70913696289062, 'LowerStretching': 176.66111755371094, 'Patting': 178.81924438476562, 'Reacting': 185.14830017089844, 'Gaming': 167.95420837402344, 'Gesticuling': 154.94224548339844, 'Talking': 165.22720336914062}, 'LowerBody': {'All': 264.7327880859375, 'UpperStretching': 259.5223083496094, 'Greeting': 183.7459716796875, 'Walking': 260.91522216796875, 'LowerStretching': 308.5279846191406, 'Patting': 281.948974609375, 'Reacting': 240.8212127685547, 'Gaming': 253.60031127929688, 'Gesticuling': 179.69102478027344, 'Talking': 202.93801879882812}}\n"
     ]
    },
    {
     "name": "stderr",
     "output_type": "stream",
     "text": [
      " 86%|████████▌ | 4600/5352 [16:51<02:49,  4.43it/s]"
     ]
    },
    {
     "name": "stdout",
     "output_type": "stream",
     "text": [
      "{'FullBody': {'All': 230.79420471191406, 'UpperStretching': 231.62881469726562, 'Greeting': 182.69740295410156, 'Walking': 239.7980499267578, 'LowerStretching': 242.50343322753906, 'Patting': 230.34275817871094, 'Reacting': 212.5203857421875, 'Gaming': 210.33045959472656, 'Gesticuling': 166.83502197265625, 'Talking': 184.2988739013672}, 'UpperBody': {'All': 196.87510681152344, 'UpperStretching': 203.5873260498047, 'Greeting': 181.8015899658203, 'Walking': 218.69190979003906, 'LowerStretching': 176.59414672851562, 'Patting': 179.13108825683594, 'Reacting': 185.00877380371094, 'Gaming': 167.9276123046875, 'Gesticuling': 154.36068725585938, 'Talking': 165.26596069335938}, 'LowerBody': {'All': 264.71331787109375, 'UpperStretching': 259.6703186035156, 'Greeting': 183.5932159423828, 'Walking': 260.9042053222656, 'LowerStretching': 308.4127502441406, 'Patting': 281.5544738769531, 'Reacting': 240.03201293945312, 'Gaming': 252.73333740234375, 'Gesticuling': 179.3093719482422, 'Talking': 203.33177185058594}}\n"
     ]
    },
    {
     "name": "stderr",
     "output_type": "stream",
     "text": [
      " 90%|████████▉ | 4800/5352 [17:35<02:06,  4.37it/s]"
     ]
    },
    {
     "name": "stdout",
     "output_type": "stream",
     "text": [
      "{'FullBody': {'All': 230.72776794433594, 'UpperStretching': 231.4836883544922, 'Greeting': 182.4935760498047, 'Walking': 239.91714477539062, 'LowerStretching': 242.43161010742188, 'Patting': 230.73097229003906, 'Reacting': 212.74429321289062, 'Gaming': 210.41387939453125, 'Gesticuling': 166.9785919189453, 'Talking': 183.7610626220703}, 'UpperBody': {'All': 196.84872436523438, 'UpperStretching': 203.46566772460938, 'Greeting': 181.9752960205078, 'Walking': 218.87123107910156, 'LowerStretching': 176.64193725585938, 'Patting': 179.56834411621094, 'Reacting': 185.0194091796875, 'Gaming': 167.85813903808594, 'Gesticuling': 154.55746459960938, 'Talking': 165.1155548095703}, 'LowerBody': {'All': 264.6067810058594, 'UpperStretching': 259.5017395019531, 'Greeting': 183.01185607910156, 'Walking': 260.9630432128906, 'LowerStretching': 308.2212829589844, 'Patting': 281.89361572265625, 'Reacting': 240.46917724609375, 'Gaming': 252.9696807861328, 'Gesticuling': 179.3997039794922, 'Talking': 202.40658569335938}}\n"
     ]
    },
    {
     "name": "stderr",
     "output_type": "stream",
     "text": [
      " 93%|█████████▎| 5000/5352 [18:18<01:21,  4.33it/s]"
     ]
    },
    {
     "name": "stdout",
     "output_type": "stream",
     "text": [
      "{'FullBody': {'All': 230.80880737304688, 'UpperStretching': 231.57183837890625, 'Greeting': 182.52085876464844, 'Walking': 240.010498046875, 'LowerStretching': 242.41644287109375, 'Patting': 230.8770294189453, 'Reacting': 213.30557250976562, 'Gaming': 210.55691528320312, 'Gesticuling': 166.88978576660156, 'Talking': 183.56011962890625}, 'UpperBody': {'All': 196.86343383789062, 'UpperStretching': 203.47494506835938, 'Greeting': 182.17579650878906, 'Walking': 218.82952880859375, 'LowerStretching': 176.6007537841797, 'Patting': 179.4271697998047, 'Reacting': 185.17051696777344, 'Gaming': 168.06642150878906, 'Gesticuling': 154.46176147460938, 'Talking': 165.22837829589844}, 'LowerBody': {'All': 264.75408935546875, 'UpperStretching': 259.6687316894531, 'Greeting': 182.86595153808594, 'Walking': 261.19146728515625, 'LowerStretching': 308.2321472167969, 'Patting': 282.3268737792969, 'Reacting': 241.44065856933594, 'Gaming': 253.04745483398438, 'Gesticuling': 179.3177947998047, 'Talking': 201.89187622070312}}\n"
     ]
    },
    {
     "name": "stderr",
     "output_type": "stream",
     "text": [
      " 97%|█████████▋| 5200/5352 [19:02<00:34,  4.37it/s]"
     ]
    },
    {
     "name": "stdout",
     "output_type": "stream",
     "text": [
      "{'FullBody': {'All': 230.92138671875, 'UpperStretching': 231.6749267578125, 'Greeting': 182.5991973876953, 'Walking': 240.02772521972656, 'LowerStretching': 242.5859375, 'Patting': 231.0259552001953, 'Reacting': 213.74966430664062, 'Gaming': 210.36964416503906, 'Gesticuling': 166.71742248535156, 'Talking': 183.54026794433594}, 'UpperBody': {'All': 196.94781494140625, 'UpperStretching': 203.56851196289062, 'Greeting': 182.26748657226562, 'Walking': 218.93536376953125, 'LowerStretching': 176.6707305908203, 'Patting': 179.5569610595703, 'Reacting': 185.4282989501953, 'Gaming': 167.84181213378906, 'Gesticuling': 154.39109802246094, 'Talking': 165.22988891601562}, 'LowerBody': {'All': 264.8949279785156, 'UpperStretching': 259.7813720703125, 'Greeting': 182.93093872070312, 'Walking': 261.12005615234375, 'LowerStretching': 308.5010986328125, 'Patting': 282.49493408203125, 'Reacting': 242.0709991455078, 'Gaming': 252.8974609375, 'Gesticuling': 179.043701171875, 'Talking': 201.85064697265625}}\n"
     ]
    },
    {
     "name": "stderr",
     "output_type": "stream",
     "text": [
      "100%|██████████| 5352/5352 [19:35<00:00,  4.55it/s]\n",
      "\u001b[94m08:43:47 \u001b[92m[INFO]\u001b[94m Main\u001b[0m: Saving evaluation results...\n",
      "\u001b[94m08:43:47 \u001b[92m[INFO]\u001b[94m Main\u001b[0m: Done.\n",
      "\u001b[94m08:43:47 \u001b[92m[INFO]\u001b[94m Main\u001b[0m: Starting demo...\n",
      "  0%|          | 0/5352 [00:00<?, ?it/s]/opt/conda/lib/python3.10/site-packages/torchvision/transforms/transforms.py:329: UserWarning: Argument 'interpolation' of type int is deprecated since 0.13 and will be removed in 0.15. Please use InterpolationMode enum.\n",
      "  warnings.warn(\n",
      "/opt/conda/lib/python3.10/site-packages/torchvision/transforms/transforms.py:329: UserWarning: Argument 'interpolation' of type int is deprecated since 0.13 and will be removed in 0.15. Please use InterpolationMode enum.\n",
      "  warnings.warn(\n",
      "/opt/conda/lib/python3.10/site-packages/torchvision/transforms/transforms.py:329: UserWarning: Argument 'interpolation' of type int is deprecated since 0.13 and will be removed in 0.15. Please use InterpolationMode enum.\n",
      "  warnings.warn(\n",
      "/opt/conda/lib/python3.10/site-packages/torchvision/transforms/transforms.py:329: UserWarning: Argument 'interpolation' of type int is deprecated since 0.13 and will be removed in 0.15. Please use InterpolationMode enum.\n",
      "  warnings.warn(\n",
      "/opt/conda/lib/python3.10/site-packages/torchvision/transforms/transforms.py:329: UserWarning: Argument 'interpolation' of type int is deprecated since 0.13 and will be removed in 0.15. Please use InterpolationMode enum.\n",
      "  warnings.warn(\n",
      "/opt/conda/lib/python3.10/site-packages/torchvision/transforms/transforms.py:329: UserWarning: Argument 'interpolation' of type int is deprecated since 0.13 and will be removed in 0.15. Please use InterpolationMode enum.\n",
      "  warnings.warn(\n",
      "/opt/conda/lib/python3.10/site-packages/torchvision/transforms/transforms.py:329: UserWarning: Argument 'interpolation' of type int is deprecated since 0.13 and will be removed in 0.15. Please use InterpolationMode enum.\n",
      "  warnings.warn(\n",
      "/opt/conda/lib/python3.10/site-packages/torchvision/transforms/transforms.py:329: UserWarning: Argument 'interpolation' of type int is deprecated since 0.13 and will be removed in 0.15. Please use InterpolationMode enum.\n",
      "  warnings.warn(\n",
      "/opt/conda/lib/python3.10/site-packages/torchvision/transforms/transforms.py:329: UserWarning: Argument 'interpolation' of type int is deprecated since 0.13 and will be removed in 0.15. Please use InterpolationMode enum.\n",
      "  warnings.warn(\n",
      "/opt/conda/lib/python3.10/site-packages/torchvision/transforms/transforms.py:329: UserWarning: Argument 'interpolation' of type int is deprecated since 0.13 and will be removed in 0.15. Please use InterpolationMode enum.\n",
      "  warnings.warn(\n",
      "/opt/conda/lib/python3.10/site-packages/torchvision/transforms/transforms.py:329: UserWarning: Argument 'interpolation' of type int is deprecated since 0.13 and will be removed in 0.15. Please use InterpolationMode enum.\n",
      "  warnings.warn(\n",
      "/opt/conda/lib/python3.10/site-packages/torchvision/transforms/transforms.py:329: UserWarning: Argument 'interpolation' of type int is deprecated since 0.13 and will be removed in 0.15. Please use InterpolationMode enum.\n",
      "  warnings.warn(\n",
      "/opt/conda/lib/python3.10/site-packages/torchvision/transforms/transforms.py:329: UserWarning: Argument 'interpolation' of type int is deprecated since 0.13 and will be removed in 0.15. Please use InterpolationMode enum.\n",
      "  warnings.warn(\n",
      "/opt/conda/lib/python3.10/site-packages/torchvision/transforms/transforms.py:329: UserWarning: Argument 'interpolation' of type int is deprecated since 0.13 and will be removed in 0.15. Please use InterpolationMode enum.\n",
      "  warnings.warn(\n",
      "/opt/conda/lib/python3.10/site-packages/torchvision/transforms/transforms.py:329: UserWarning: Argument 'interpolation' of type int is deprecated since 0.13 and will be removed in 0.15. Please use InterpolationMode enum.\n",
      "  warnings.warn(\n",
      "/opt/conda/lib/python3.10/site-packages/torchvision/transforms/transforms.py:329: UserWarning: Argument 'interpolation' of type int is deprecated since 0.13 and will be removed in 0.15. Please use InterpolationMode enum.\n",
      "  warnings.warn(\n",
      "/opt/conda/lib/python3.10/site-packages/torchvision/transforms/transforms.py:329: UserWarning: Argument 'interpolation' of type int is deprecated since 0.13 and will be removed in 0.15. Please use InterpolationMode enum.\n",
      "  warnings.warn(\n",
      "/opt/conda/lib/python3.10/site-packages/torchvision/transforms/transforms.py:329: UserWarning: Argument 'interpolation' of type int is deprecated since 0.13 and will be removed in 0.15. Please use InterpolationMode enum.\n",
      "  warnings.warn(\n",
      "/opt/conda/lib/python3.10/site-packages/torchvision/transforms/transforms.py:329: UserWarning: Argument 'interpolation' of type int is deprecated since 0.13 and will be removed in 0.15. Please use InterpolationMode enum.\n",
      "  warnings.warn(\n",
      "/opt/conda/lib/python3.10/site-packages/torchvision/transforms/transforms.py:329: UserWarning: Argument 'interpolation' of type int is deprecated since 0.13 and will be removed in 0.15. Please use InterpolationMode enum.\n",
      "  warnings.warn(\n",
      "/opt/conda/lib/python3.10/site-packages/torchvision/transforms/transforms.py:329: UserWarning: Argument 'interpolation' of type int is deprecated since 0.13 and will be removed in 0.15. Please use InterpolationMode enum.\n",
      "  warnings.warn(\n",
      "/opt/conda/lib/python3.10/site-packages/torchvision/transforms/transforms.py:329: UserWarning: Argument 'interpolation' of type int is deprecated since 0.13 and will be removed in 0.15. Please use InterpolationMode enum.\n",
      "  warnings.warn(\n",
      "/opt/conda/lib/python3.10/site-packages/torchvision/transforms/transforms.py:329: UserWarning: Argument 'interpolation' of type int is deprecated since 0.13 and will be removed in 0.15. Please use InterpolationMode enum.\n",
      "  warnings.warn(\n",
      "/opt/conda/lib/python3.10/site-packages/torchvision/transforms/transforms.py:329: UserWarning: Argument 'interpolation' of type int is deprecated since 0.13 and will be removed in 0.15. Please use InterpolationMode enum.\n",
      "  warnings.warn(\n",
      "  4%|▎         | 200/5352 [00:49<18:55,  4.54it/s]"
     ]
    },
    {
     "name": "stdout",
     "output_type": "stream",
     "text": [
      "{'FullBody': {'All': 152.7683563232422, 'LowerStretching': 146.79336547851562, 'UpperStretching': 155.80172729492188, 'Patting': 139.18472290039062, 'Gesticuling': 121.9295883178711, 'Walking': 163.22506713867188, 'Gaming': 149.44442749023438, 'Reacting': 134.4783477783203, 'Talking': 118.04106140136719, 'Greeting': 155.91461181640625}, 'UpperBody': {'All': 129.6564483642578, 'LowerStretching': 115.68769836425781, 'UpperStretching': 138.96287536621094, 'Patting': 120.24090576171875, 'Gesticuling': 120.51370239257812, 'Walking': 115.18262481689453, 'Gaming': 132.70245361328125, 'Reacting': 110.56204223632812, 'Talking': 99.831787109375, 'Greeting': 127.5884780883789}, 'LowerBody': {'All': 175.8802490234375, 'LowerStretching': 177.8990478515625, 'UpperStretching': 172.6405792236328, 'Patting': 158.12850952148438, 'Gesticuling': 123.34547424316406, 'Walking': 211.26751708984375, 'Gaming': 166.18638610839844, 'Reacting': 158.3946533203125, 'Talking': 136.25035095214844, 'Greeting': 184.24072265625}}\n"
     ]
    },
    {
     "name": "stderr",
     "output_type": "stream",
     "text": [
      "  7%|▋         | 400/5352 [01:32<18:02,  4.57it/s]"
     ]
    },
    {
     "name": "stdout",
     "output_type": "stream",
     "text": [
      "{'FullBody': {'All': 154.41845703125, 'LowerStretching': 144.5889434814453, 'UpperStretching': 158.66407775878906, 'Patting': 155.78053283691406, 'Gesticuling': 124.79161834716797, 'Walking': 163.56387329101562, 'Gaming': 150.14019775390625, 'Reacting': 135.8306884765625, 'Talking': 114.95831298828125, 'Greeting': 163.77297973632812}, 'UpperBody': {'All': 130.84542846679688, 'LowerStretching': 112.70022583007812, 'UpperStretching': 141.3861541748047, 'Patting': 130.32479858398438, 'Gesticuling': 122.18496704101562, 'Walking': 115.9999771118164, 'Gaming': 131.02552795410156, 'Reacting': 111.31849670410156, 'Talking': 96.41846466064453, 'Greeting': 135.11178588867188}, 'LowerBody': {'All': 177.99148559570312, 'LowerStretching': 176.47764587402344, 'UpperStretching': 175.94198608398438, 'Patting': 181.2362518310547, 'Gesticuling': 127.39826965332031, 'Walking': 211.1277618408203, 'Gaming': 169.2548828125, 'Reacting': 160.34288024902344, 'Talking': 133.4981689453125, 'Greeting': 192.43418884277344}}\n"
     ]
    },
    {
     "name": "stderr",
     "output_type": "stream",
     "text": [
      " 11%|█         | 600/5352 [02:16<17:11,  4.61it/s]"
     ]
    },
    {
     "name": "stdout",
     "output_type": "stream",
     "text": [
      "{'FullBody': {'All': 153.69375610351562, 'LowerStretching': 144.3007354736328, 'UpperStretching': 157.84716796875, 'Patting': 154.66390991210938, 'Gesticuling': 125.80472564697266, 'Walking': 162.41844177246094, 'Gaming': 149.04379272460938, 'Reacting': 134.85784912109375, 'Talking': 115.19700622558594, 'Greeting': 164.17578125}, 'UpperBody': {'All': 130.5459442138672, 'LowerStretching': 112.49313354492188, 'UpperStretching': 140.83177185058594, 'Patting': 125.9373779296875, 'Gesticuling': 122.00494384765625, 'Walking': 116.5857162475586, 'Gaming': 130.74415588378906, 'Reacting': 111.24227905273438, 'Talking': 96.09931945800781, 'Greeting': 134.24806213378906}, 'LowerBody': {'All': 176.84156799316406, 'LowerStretching': 176.1083526611328, 'UpperStretching': 174.86257934570312, 'Patting': 183.3904571533203, 'Gesticuling': 129.60450744628906, 'Walking': 208.2511749267578, 'Gaming': 167.3434295654297, 'Reacting': 158.473388671875, 'Talking': 134.29469299316406, 'Greeting': 194.1035614013672}}\n"
     ]
    },
    {
     "name": "stderr",
     "output_type": "stream",
     "text": [
      " 15%|█▍        | 800/5352 [02:59<16:29,  4.60it/s]"
     ]
    },
    {
     "name": "stdout",
     "output_type": "stream",
     "text": [
      "{'FullBody': {'All': 154.02015686035156, 'LowerStretching': 143.95965576171875, 'UpperStretching': 158.54554748535156, 'Patting': 149.3445587158203, 'Gesticuling': 125.50361633300781, 'Walking': 161.88204956054688, 'Gaming': 149.24130249023438, 'Reacting': 136.42803955078125, 'Talking': 117.5791015625, 'Greeting': 166.05982971191406}, 'UpperBody': {'All': 130.77149963378906, 'LowerStretching': 112.58148193359375, 'UpperStretching': 141.23715209960938, 'Patting': 123.4483871459961, 'Gesticuling': 122.13558197021484, 'Walking': 116.49449920654297, 'Gaming': 130.67800903320312, 'Reacting': 112.48961639404297, 'Talking': 97.10054779052734, 'Greeting': 134.83172607421875}, 'LowerBody': {'All': 177.26882934570312, 'LowerStretching': 175.3378143310547, 'UpperStretching': 175.85397338867188, 'Patting': 175.24072265625, 'Gesticuling': 128.8716583251953, 'Walking': 207.2696075439453, 'Gaming': 167.80458068847656, 'Reacting': 160.36642456054688, 'Talking': 138.0576629638672, 'Greeting': 197.28797912597656}}\n"
     ]
    },
    {
     "name": "stderr",
     "output_type": "stream",
     "text": [
      " 19%|█▊        | 1000/5352 [03:43<16:08,  4.50it/s]"
     ]
    },
    {
     "name": "stdout",
     "output_type": "stream",
     "text": [
      "{'FullBody': {'All': 153.82821655273438, 'LowerStretching': 143.006591796875, 'UpperStretching': 158.84735107421875, 'Patting': 147.28439331054688, 'Gesticuling': 125.37644958496094, 'Walking': 160.64109802246094, 'Gaming': 148.34161376953125, 'Reacting': 136.49436950683594, 'Talking': 117.98849487304688, 'Greeting': 164.28013610839844}, 'UpperBody': {'All': 130.64320373535156, 'LowerStretching': 111.98534393310547, 'UpperStretching': 141.2320556640625, 'Patting': 121.88915252685547, 'Gesticuling': 122.2883071899414, 'Walking': 115.96173858642578, 'Gaming': 129.09109497070312, 'Reacting': 113.93630981445312, 'Talking': 96.49237060546875, 'Greeting': 132.62338256835938}, 'LowerBody': {'All': 177.01319885253906, 'LowerStretching': 174.02781677246094, 'UpperStretching': 176.46263122558594, 'Patting': 172.67965698242188, 'Gesticuling': 128.46458435058594, 'Walking': 205.3204803466797, 'Gaming': 167.5921630859375, 'Reacting': 159.0524444580078, 'Talking': 139.48460388183594, 'Greeting': 195.93690490722656}}\n"
     ]
    },
    {
     "name": "stderr",
     "output_type": "stream",
     "text": [
      " 22%|██▏       | 1200/5352 [04:27<14:53,  4.65it/s]"
     ]
    },
    {
     "name": "stdout",
     "output_type": "stream",
     "text": [
      "{'FullBody': {'All': 153.96450805664062, 'LowerStretching': 143.2700958251953, 'UpperStretching': 159.17718505859375, 'Patting': 147.1036834716797, 'Gesticuling': 126.07270050048828, 'Walking': 159.69322204589844, 'Gaming': 147.19212341308594, 'Reacting': 137.46551513671875, 'Talking': 118.87857055664062, 'Greeting': 160.42530822753906}, 'UpperBody': {'All': 130.8255157470703, 'LowerStretching': 112.27449035644531, 'UpperStretching': 141.52243041992188, 'Patting': 121.18439483642578, 'Gesticuling': 123.2220458984375, 'Walking': 115.78700256347656, 'Gaming': 129.07139587402344, 'Reacting': 114.56599426269531, 'Talking': 96.75413513183594, 'Greeting': 129.82872009277344}, 'LowerBody': {'All': 177.1034698486328, 'LowerStretching': 174.2656707763672, 'UpperStretching': 176.83192443847656, 'Patting': 173.02294921875, 'Gesticuling': 128.92335510253906, 'Walking': 203.59942626953125, 'Gaming': 165.3128204345703, 'Reacting': 160.36505126953125, 'Talking': 141.0030059814453, 'Greeting': 191.0218963623047}}\n"
     ]
    },
    {
     "name": "stderr",
     "output_type": "stream",
     "text": [
      " 26%|██▌       | 1400/5352 [05:10<14:36,  4.51it/s]"
     ]
    },
    {
     "name": "stdout",
     "output_type": "stream",
     "text": [
      "{'FullBody': {'All': 153.8771209716797, 'LowerStretching': 142.95004272460938, 'UpperStretching': 159.1826171875, 'Patting': 146.5194091796875, 'Gesticuling': 125.97235107421875, 'Walking': 159.2312469482422, 'Gaming': 146.6331024169922, 'Reacting': 138.5926971435547, 'Talking': 119.3336181640625, 'Greeting': 160.41000366210938}, 'UpperBody': {'All': 130.800537109375, 'LowerStretching': 112.49174499511719, 'UpperStretching': 141.3909912109375, 'Patting': 121.97144317626953, 'Gesticuling': 123.01151275634766, 'Walking': 115.84935760498047, 'Gaming': 129.7591094970703, 'Reacting': 114.54618835449219, 'Talking': 97.21192932128906, 'Greeting': 128.9589080810547}, 'LowerBody': {'All': 176.95370483398438, 'LowerStretching': 173.40834045410156, 'UpperStretching': 176.97422790527344, 'Patting': 171.0673828125, 'Gesticuling': 128.9331817626953, 'Walking': 202.61312866210938, 'Gaming': 163.5071258544922, 'Reacting': 162.6392059326172, 'Talking': 141.45530700683594, 'Greeting': 191.8611297607422}}\n"
     ]
    },
    {
     "name": "stderr",
     "output_type": "stream",
     "text": [
      " 30%|██▉       | 1600/5352 [05:54<13:56,  4.49it/s]"
     ]
    },
    {
     "name": "stdout",
     "output_type": "stream",
     "text": [
      "{'FullBody': {'All': 153.9521484375, 'LowerStretching': 142.98629760742188, 'UpperStretching': 159.18312072753906, 'Patting': 146.22926330566406, 'Gesticuling': 126.03008270263672, 'Walking': 159.8629150390625, 'Gaming': 147.3349151611328, 'Reacting': 139.04090881347656, 'Talking': 119.94303894042969, 'Greeting': 158.64657592773438}, 'UpperBody': {'All': 130.81198120117188, 'LowerStretching': 112.69017028808594, 'UpperStretching': 141.3543243408203, 'Patting': 121.77310943603516, 'Gesticuling': 122.88214874267578, 'Walking': 115.49003601074219, 'Gaming': 131.1549835205078, 'Reacting': 115.31633758544922, 'Talking': 98.09456634521484, 'Greeting': 127.63931274414062}, 'LowerBody': {'All': 177.0923309326172, 'LowerStretching': 173.28240966796875, 'UpperStretching': 177.0119171142578, 'Patting': 170.6854248046875, 'Gesticuling': 129.17800903320312, 'Walking': 204.2357940673828, 'Gaming': 163.5148468017578, 'Reacting': 162.76547241210938, 'Talking': 141.79150390625, 'Greeting': 189.65382385253906}}\n"
     ]
    },
    {
     "name": "stderr",
     "output_type": "stream",
     "text": [
      " 34%|███▎      | 1800/5352 [06:38<13:05,  4.52it/s]"
     ]
    },
    {
     "name": "stdout",
     "output_type": "stream",
     "text": [
      "{'FullBody': {'All': 153.81422424316406, 'LowerStretching': 142.9662628173828, 'UpperStretching': 158.9515838623047, 'Patting': 144.9755401611328, 'Gesticuling': 126.22514343261719, 'Walking': 159.93092346191406, 'Gaming': 147.17379760742188, 'Reacting': 139.42666625976562, 'Talking': 120.64530944824219, 'Greeting': 156.52357482910156}, 'UpperBody': {'All': 130.77711486816406, 'LowerStretching': 112.66188049316406, 'UpperStretching': 141.30992126464844, 'Patting': 120.92514038085938, 'Gesticuling': 123.27143859863281, 'Walking': 115.67312622070312, 'Gaming': 130.70887756347656, 'Reacting': 115.3350830078125, 'Talking': 98.70096588134766, 'Greeting': 126.67868041992188}, 'LowerBody': {'All': 176.85134887695312, 'LowerStretching': 173.27064514160156, 'UpperStretching': 176.59323120117188, 'Patting': 169.02597045898438, 'Gesticuling': 129.17886352539062, 'Walking': 204.18873596191406, 'Gaming': 163.63870239257812, 'Reacting': 163.5182647705078, 'Talking': 142.58966064453125, 'Greeting': 186.36849975585938}}\n"
     ]
    },
    {
     "name": "stderr",
     "output_type": "stream",
     "text": [
      " 37%|███▋      | 2000/5352 [07:21<12:43,  4.39it/s]"
     ]
    },
    {
     "name": "stdout",
     "output_type": "stream",
     "text": [
      "{'FullBody': {'All': 153.57424926757812, 'LowerStretching': 142.86105346679688, 'UpperStretching': 158.6451416015625, 'Patting': 145.80723571777344, 'Gesticuling': 126.04290771484375, 'Walking': 159.58920288085938, 'Gaming': 147.06922912597656, 'Reacting': 139.14649963378906, 'Talking': 120.10554504394531, 'Greeting': 157.05706787109375}, 'UpperBody': {'All': 130.6209716796875, 'LowerStretching': 112.53437805175781, 'UpperStretching': 141.16529846191406, 'Patting': 121.10969543457031, 'Gesticuling': 122.44752502441406, 'Walking': 115.68711853027344, 'Gaming': 130.11329650878906, 'Reacting': 114.70464324951172, 'Talking': 98.45146942138672, 'Greeting': 126.58253479003906}, 'LowerBody': {'All': 176.52752685546875, 'LowerStretching': 173.18772888183594, 'UpperStretching': 176.12498474121094, 'Patting': 170.5048065185547, 'Gesticuling': 129.63829040527344, 'Walking': 203.49130249023438, 'Gaming': 164.02516174316406, 'Reacting': 163.58839416503906, 'Talking': 141.75961303710938, 'Greeting': 187.53163146972656}}\n"
     ]
    },
    {
     "name": "stderr",
     "output_type": "stream",
     "text": [
      " 41%|████      | 2200/5352 [08:05<11:37,  4.52it/s]"
     ]
    },
    {
     "name": "stdout",
     "output_type": "stream",
     "text": [
      "{'FullBody': {'All': 153.4851837158203, 'LowerStretching': 142.61329650878906, 'UpperStretching': 158.49342346191406, 'Patting': 146.14944458007812, 'Gesticuling': 126.3620834350586, 'Walking': 159.8936309814453, 'Gaming': 147.3090362548828, 'Reacting': 139.38963317871094, 'Talking': 120.28697967529297, 'Greeting': 156.9543914794922}, 'UpperBody': {'All': 130.60597229003906, 'LowerStretching': 112.22692108154297, 'UpperStretching': 141.22470092773438, 'Patting': 121.52678680419922, 'Gesticuling': 123.03453826904297, 'Walking': 115.98513793945312, 'Gaming': 129.78509521484375, 'Reacting': 114.27542877197266, 'Talking': 98.49867248535156, 'Greeting': 126.4186782836914}, 'LowerBody': {'All': 176.36439514160156, 'LowerStretching': 172.99969482421875, 'UpperStretching': 175.7621612548828, 'Patting': 170.77210998535156, 'Gesticuling': 129.6896209716797, 'Walking': 203.80210876464844, 'Gaming': 164.83299255371094, 'Reacting': 164.50381469726562, 'Talking': 142.0752716064453, 'Greeting': 187.49009704589844}}\n"
     ]
    },
    {
     "name": "stderr",
     "output_type": "stream",
     "text": [
      " 45%|████▍     | 2400/5352 [08:49<10:58,  4.48it/s]"
     ]
    },
    {
     "name": "stdout",
     "output_type": "stream",
     "text": [
      "{'FullBody': {'All': 153.5194854736328, 'LowerStretching': 142.562255859375, 'UpperStretching': 158.6232452392578, 'Patting': 145.7348175048828, 'Gesticuling': 126.03536987304688, 'Walking': 159.73934936523438, 'Gaming': 147.27816772460938, 'Reacting': 139.24746704101562, 'Talking': 120.52997589111328, 'Greeting': 158.2591094970703}, 'UpperBody': {'All': 130.65843200683594, 'LowerStretching': 112.2302474975586, 'UpperStretching': 141.37643432617188, 'Patting': 121.00518798828125, 'Gesticuling': 122.68108367919922, 'Walking': 115.92535400390625, 'Gaming': 129.11802673339844, 'Reacting': 114.44831085205078, 'Talking': 98.6041259765625, 'Greeting': 127.33262634277344}, 'LowerBody': {'All': 176.38052368164062, 'LowerStretching': 172.89425659179688, 'UpperStretching': 175.87005615234375, 'Patting': 170.4644775390625, 'Gesticuling': 129.3896484375, 'Walking': 203.55332946777344, 'Gaming': 165.4383087158203, 'Reacting': 164.04664611816406, 'Talking': 142.45584106445312, 'Greeting': 189.18560791015625}}\n"
     ]
    },
    {
     "name": "stderr",
     "output_type": "stream",
     "text": [
      " 49%|████▊     | 2600/5352 [09:32<10:23,  4.42it/s]"
     ]
    },
    {
     "name": "stdout",
     "output_type": "stream",
     "text": [
      "{'FullBody': {'All': 153.36819458007812, 'LowerStretching': 142.44354248046875, 'UpperStretching': 158.62664794921875, 'Patting': 145.01698303222656, 'Gesticuling': 126.07479858398438, 'Walking': 159.12501525878906, 'Gaming': 147.28555297851562, 'Reacting': 138.88900756835938, 'Talking': 120.46726989746094, 'Greeting': 157.7858428955078}, 'UpperBody': {'All': 130.60939025878906, 'LowerStretching': 112.04357147216797, 'UpperStretching': 141.4951934814453, 'Patting': 120.35018157958984, 'Gesticuling': 122.7565689086914, 'Walking': 115.71327209472656, 'Gaming': 128.83258056640625, 'Reacting': 114.25582122802734, 'Talking': 99.10099029541016, 'Greeting': 126.7719955444336}, 'LowerBody': {'All': 176.1269989013672, 'LowerStretching': 172.843505859375, 'UpperStretching': 175.7581024169922, 'Patting': 169.6837615966797, 'Gesticuling': 129.3930206298828, 'Walking': 202.53675842285156, 'Gaming': 165.73854064941406, 'Reacting': 163.52220153808594, 'Talking': 141.83351135253906, 'Greeting': 188.7996826171875}}\n"
     ]
    },
    {
     "name": "stderr",
     "output_type": "stream",
     "text": [
      " 52%|█████▏    | 2800/5352 [10:16<09:21,  4.55it/s]"
     ]
    },
    {
     "name": "stdout",
     "output_type": "stream",
     "text": [
      "{'FullBody': {'All': 153.28958129882812, 'LowerStretching': 142.3077850341797, 'UpperStretching': 158.57144165039062, 'Patting': 144.38796997070312, 'Gesticuling': 125.56320190429688, 'Walking': 159.55796813964844, 'Gaming': 146.58482360839844, 'Reacting': 138.45645141601562, 'Talking': 120.21375274658203, 'Greeting': 156.8255157470703}, 'UpperBody': {'All': 130.44418334960938, 'LowerStretching': 111.948486328125, 'UpperStretching': 141.31983947753906, 'Patting': 119.80299377441406, 'Gesticuling': 122.308349609375, 'Walking': 115.91688537597656, 'Gaming': 128.19918823242188, 'Reacting': 114.16535186767578, 'Talking': 98.62139892578125, 'Greeting': 125.88062286376953}, 'LowerBody': {'All': 176.13497924804688, 'LowerStretching': 172.66708374023438, 'UpperStretching': 175.82305908203125, 'Patting': 168.97293090820312, 'Gesticuling': 128.81805419921875, 'Walking': 203.1990509033203, 'Gaming': 164.97042846679688, 'Reacting': 162.74755859375, 'Talking': 141.8060760498047, 'Greeting': 187.77040100097656}}\n"
     ]
    },
    {
     "name": "stderr",
     "output_type": "stream",
     "text": [
      " 56%|█████▌    | 3000/5352 [11:00<08:36,  4.55it/s]"
     ]
    },
    {
     "name": "stdout",
     "output_type": "stream",
     "text": [
      "{'FullBody': {'All': 153.23684692382812, 'LowerStretching': 142.48390197753906, 'UpperStretching': 158.54701232910156, 'Patting': 144.8580322265625, 'Gesticuling': 125.53848266601562, 'Walking': 159.09228515625, 'Gaming': 147.12152099609375, 'Reacting': 138.47874450683594, 'Talking': 119.91193389892578, 'Greeting': 156.03472900390625}, 'UpperBody': {'All': 130.4625244140625, 'LowerStretching': 112.11762237548828, 'UpperStretching': 141.3963165283203, 'Patting': 120.1996078491211, 'Gesticuling': 122.32640838623047, 'Walking': 115.6177978515625, 'Gaming': 129.17416381835938, 'Reacting': 114.18577575683594, 'Talking': 98.1053466796875, 'Greeting': 125.47733306884766}, 'LowerBody': {'All': 176.01116943359375, 'LowerStretching': 172.85015869140625, 'UpperStretching': 175.6977081298828, 'Patting': 169.51646423339844, 'Gesticuling': 128.7505645751953, 'Walking': 202.56678771972656, 'Gaming': 165.06887817382812, 'Reacting': 162.771728515625, 'Talking': 141.71852111816406, 'Greeting': 186.59210205078125}}\n"
     ]
    },
    {
     "name": "stderr",
     "output_type": "stream",
     "text": [
      " 60%|█████▉    | 3200/5352 [11:43<08:07,  4.41it/s]"
     ]
    },
    {
     "name": "stdout",
     "output_type": "stream",
     "text": [
      "{'FullBody': {'All': 153.1873321533203, 'LowerStretching': 142.5254364013672, 'UpperStretching': 158.4950408935547, 'Patting': 144.756103515625, 'Gesticuling': 125.75047302246094, 'Walking': 158.87413024902344, 'Gaming': 146.9627227783203, 'Reacting': 137.902587890625, 'Talking': 119.87459564208984, 'Greeting': 156.5755615234375}, 'UpperBody': {'All': 130.36663818359375, 'LowerStretching': 112.14311981201172, 'UpperStretching': 141.24440002441406, 'Patting': 119.54280090332031, 'Gesticuling': 122.31172943115234, 'Walking': 115.54637145996094, 'Gaming': 129.50006103515625, 'Reacting': 113.88590240478516, 'Talking': 98.01017761230469, 'Greeting': 125.94886016845703}, 'LowerBody': {'All': 176.00802612304688, 'LowerStretching': 172.90773010253906, 'UpperStretching': 175.7456817626953, 'Patting': 169.9694061279297, 'Gesticuling': 129.18923950195312, 'Walking': 202.201904296875, 'Gaming': 164.42539978027344, 'Reacting': 161.91928100585938, 'Talking': 141.739013671875, 'Greeting': 187.2022705078125}}\n"
     ]
    },
    {
     "name": "stderr",
     "output_type": "stream",
     "text": [
      " 64%|██████▎   | 3400/5352 [12:27<07:23,  4.40it/s]"
     ]
    },
    {
     "name": "stdout",
     "output_type": "stream",
     "text": [
      "{'FullBody': {'All': 153.1951446533203, 'LowerStretching': 142.55868530273438, 'UpperStretching': 158.5463104248047, 'Patting': 144.3311309814453, 'Gesticuling': 125.73580932617188, 'Walking': 158.55775451660156, 'Gaming': 146.55514526367188, 'Reacting': 138.2539825439453, 'Talking': 119.8134994506836, 'Greeting': 156.3498992919922}, 'UpperBody': {'All': 130.39810180664062, 'LowerStretching': 112.31812286376953, 'UpperStretching': 141.25433349609375, 'Patting': 118.98197174072266, 'Gesticuling': 122.25484466552734, 'Walking': 115.39839935302734, 'Gaming': 129.04351806640625, 'Reacting': 114.140380859375, 'Talking': 97.85262298583984, 'Greeting': 125.76653289794922}, 'LowerBody': {'All': 175.99215698242188, 'LowerStretching': 172.79922485351562, 'UpperStretching': 175.83831787109375, 'Patting': 169.68028259277344, 'Gesticuling': 129.21676635742188, 'Walking': 201.71710205078125, 'Gaming': 164.06675720214844, 'Reacting': 162.3675994873047, 'Talking': 141.77438354492188, 'Greeting': 186.93328857421875}}\n"
     ]
    },
    {
     "name": "stderr",
     "output_type": "stream",
     "text": [
      " 67%|██████▋   | 3600/5352 [13:11<06:34,  4.44it/s]"
     ]
    },
    {
     "name": "stdout",
     "output_type": "stream",
     "text": [
      "{'FullBody': {'All': 153.17039489746094, 'LowerStretching': 142.5531463623047, 'UpperStretching': 158.55584716796875, 'Patting': 144.41688537597656, 'Gesticuling': 125.43279266357422, 'Walking': 158.31329345703125, 'Gaming': 146.34286499023438, 'Reacting': 138.4429931640625, 'Talking': 119.5367431640625, 'Greeting': 155.7257080078125}, 'UpperBody': {'All': 130.36854553222656, 'LowerStretching': 112.31733703613281, 'UpperStretching': 141.24957275390625, 'Patting': 119.05245208740234, 'Gesticuling': 121.73837280273438, 'Walking': 115.16954803466797, 'Gaming': 128.93209838867188, 'Reacting': 114.43754577636719, 'Talking': 97.72367095947266, 'Greeting': 125.48316192626953}, 'LowerBody': {'All': 175.97222900390625, 'LowerStretching': 172.78890991210938, 'UpperStretching': 175.86216735839844, 'Patting': 169.7813262939453, 'Gesticuling': 129.12722778320312, 'Walking': 201.45704650878906, 'Gaming': 163.75363159179688, 'Reacting': 162.44845581054688, 'Talking': 141.3498077392578, 'Greeting': 185.96826171875}}\n"
     ]
    },
    {
     "name": "stderr",
     "output_type": "stream",
     "text": [
      " 71%|███████   | 3800/5352 [13:55<05:35,  4.63it/s]"
     ]
    },
    {
     "name": "stdout",
     "output_type": "stream",
     "text": [
      "{'FullBody': {'All': 153.28871154785156, 'LowerStretching': 142.7263641357422, 'UpperStretching': 158.7160186767578, 'Patting': 144.9860382080078, 'Gesticuling': 125.38775634765625, 'Walking': 158.0448455810547, 'Gaming': 146.8795928955078, 'Reacting': 138.71290588378906, 'Talking': 119.5472183227539, 'Greeting': 155.38572692871094}, 'UpperBody': {'All': 130.3826446533203, 'LowerStretching': 112.25276947021484, 'UpperStretching': 141.29962158203125, 'Patting': 119.69629669189453, 'Gesticuling': 121.52986907958984, 'Walking': 115.04074096679688, 'Gaming': 128.93495178222656, 'Reacting': 114.6583023071289, 'Talking': 97.75355529785156, 'Greeting': 125.098876953125}, 'LowerBody': {'All': 176.19479370117188, 'LowerStretching': 173.199951171875, 'UpperStretching': 176.13241577148438, 'Patting': 170.27578735351562, 'Gesticuling': 129.2456512451172, 'Walking': 201.0489501953125, 'Gaming': 164.8242645263672, 'Reacting': 162.76747131347656, 'Talking': 141.3408660888672, 'Greeting': 185.67259216308594}}\n"
     ]
    },
    {
     "name": "stderr",
     "output_type": "stream",
     "text": [
      " 75%|███████▍  | 4000/5352 [14:38<05:07,  4.40it/s]"
     ]
    },
    {
     "name": "stdout",
     "output_type": "stream",
     "text": [
      "{'FullBody': {'All': 153.23643493652344, 'LowerStretching': 142.56906127929688, 'UpperStretching': 158.70703125, 'Patting': 144.552490234375, 'Gesticuling': 125.16004180908203, 'Walking': 158.0859375, 'Gaming': 146.73741149902344, 'Reacting': 138.60557556152344, 'Talking': 119.70843505859375, 'Greeting': 154.7652587890625}, 'UpperBody': {'All': 130.36509704589844, 'LowerStretching': 112.22797393798828, 'UpperStretching': 141.2606201171875, 'Patting': 119.81515502929688, 'Gesticuling': 121.04341888427734, 'Walking': 115.22279357910156, 'Gaming': 128.85826110839844, 'Reacting': 114.76547241210938, 'Talking': 97.9051284790039, 'Greeting': 124.42361450195312}, 'LowerBody': {'All': 176.10777282714844, 'LowerStretching': 172.91014099121094, 'UpperStretching': 176.15347290039062, 'Patting': 169.2898406982422, 'Gesticuling': 129.2766876220703, 'Walking': 200.94908142089844, 'Gaming': 164.61654663085938, 'Reacting': 162.4456329345703, 'Talking': 141.5117645263672, 'Greeting': 185.1068878173828}}\n"
     ]
    },
    {
     "name": "stderr",
     "output_type": "stream",
     "text": [
      " 78%|███████▊  | 4200/5352 [15:22<04:21,  4.40it/s]"
     ]
    },
    {
     "name": "stdout",
     "output_type": "stream",
     "text": [
      "{'FullBody': {'All': 153.13079833984375, 'LowerStretching': 142.46408081054688, 'UpperStretching': 158.6686553955078, 'Patting': 144.48158264160156, 'Gesticuling': 125.12078094482422, 'Walking': 157.6310272216797, 'Gaming': 146.5665740966797, 'Reacting': 138.8350067138672, 'Talking': 119.34233856201172, 'Greeting': 154.1361846923828}, 'UpperBody': {'All': 130.29664611816406, 'LowerStretching': 112.21814727783203, 'UpperStretching': 141.19186401367188, 'Patting': 119.8275375366211, 'Gesticuling': 120.9023208618164, 'Walking': 115.08047485351562, 'Gaming': 128.63046264648438, 'Reacting': 115.00196838378906, 'Talking': 97.64915466308594, 'Greeting': 124.09490203857422}, 'LowerBody': {'All': 175.9649200439453, 'LowerStretching': 172.7100067138672, 'UpperStretching': 176.14544677734375, 'Patting': 169.13563537597656, 'Gesticuling': 129.33924865722656, 'Walking': 200.18157958984375, 'Gaming': 164.50267028808594, 'Reacting': 162.66802978515625, 'Talking': 141.0355224609375, 'Greeting': 184.17747497558594}}\n"
     ]
    },
    {
     "name": "stderr",
     "output_type": "stream",
     "text": [
      " 82%|████████▏ | 4400/5352 [16:05<03:35,  4.42it/s]"
     ]
    },
    {
     "name": "stdout",
     "output_type": "stream",
     "text": [
      "{'FullBody': {'All': 153.21395874023438, 'LowerStretching': 142.4654083251953, 'UpperStretching': 158.72091674804688, 'Patting': 144.88064575195312, 'Gesticuling': 125.02664947509766, 'Walking': 158.10496520996094, 'Gaming': 146.86245727539062, 'Reacting': 138.66122436523438, 'Talking': 119.46633911132812, 'Greeting': 154.5218505859375}, 'UpperBody': {'All': 130.3094940185547, 'LowerStretching': 112.22118377685547, 'UpperStretching': 141.19154357910156, 'Patting': 120.38288116455078, 'Gesticuling': 121.10665893554688, 'Walking': 115.1222915649414, 'Gaming': 128.84828186035156, 'Reacting': 114.88136291503906, 'Talking': 97.84037017822266, 'Greeting': 124.267333984375}, 'LowerBody': {'All': 176.118408203125, 'LowerStretching': 172.70962524414062, 'UpperStretching': 176.2502899169922, 'Patting': 169.37840270996094, 'Gesticuling': 128.94664001464844, 'Walking': 201.08763122558594, 'Gaming': 164.87661743164062, 'Reacting': 162.44107055664062, 'Talking': 141.09230041503906, 'Greeting': 184.7763671875}}\n"
     ]
    },
    {
     "name": "stderr",
     "output_type": "stream",
     "text": [
      " 86%|████████▌ | 4600/5352 [16:49<02:53,  4.34it/s]"
     ]
    },
    {
     "name": "stdout",
     "output_type": "stream",
     "text": [
      "{'FullBody': {'All': 153.0454864501953, 'LowerStretching': 142.29380798339844, 'UpperStretching': 158.4967803955078, 'Patting': 144.26658630371094, 'Gesticuling': 124.69780731201172, 'Walking': 158.2311248779297, 'Gaming': 146.66233825683594, 'Reacting': 138.55662536621094, 'Talking': 119.52516174316406, 'Greeting': 154.60531616210938}, 'UpperBody': {'All': 130.2191619873047, 'LowerStretching': 112.13970184326172, 'UpperStretching': 141.0891876220703, 'Patting': 120.18026733398438, 'Gesticuling': 120.56413269042969, 'Walking': 115.11846923828125, 'Gaming': 128.62266540527344, 'Reacting': 114.70027160644531, 'Talking': 97.917724609375, 'Greeting': 124.29238891601562}, 'LowerBody': {'All': 175.8717803955078, 'LowerStretching': 172.44790649414062, 'UpperStretching': 175.90435791015625, 'Patting': 168.35289001464844, 'Gesticuling': 128.8314971923828, 'Walking': 201.3437957763672, 'Gaming': 164.7020263671875, 'Reacting': 162.41294860839844, 'Talking': 141.13259887695312, 'Greeting': 184.91819763183594}}\n"
     ]
    },
    {
     "name": "stderr",
     "output_type": "stream",
     "text": [
      " 90%|████████▉ | 4800/5352 [17:33<02:05,  4.38it/s]"
     ]
    },
    {
     "name": "stdout",
     "output_type": "stream",
     "text": [
      "{'FullBody': {'All': 153.06539916992188, 'LowerStretching': 142.2836151123047, 'UpperStretching': 158.54727172851562, 'Patting': 143.65933227539062, 'Gesticuling': 124.60657501220703, 'Walking': 158.3718719482422, 'Gaming': 146.61390686035156, 'Reacting': 138.54739379882812, 'Talking': 119.15544891357422, 'Greeting': 154.527099609375}, 'UpperBody': {'All': 130.23223876953125, 'LowerStretching': 112.10979461669922, 'UpperStretching': 141.17015075683594, 'Patting': 119.74439239501953, 'Gesticuling': 120.35533905029297, 'Walking': 115.11827087402344, 'Gaming': 128.3228302001953, 'Reacting': 114.8713607788086, 'Talking': 97.74186706542969, 'Greeting': 124.10189056396484}, 'LowerBody': {'All': 175.8985595703125, 'LowerStretching': 172.45741271972656, 'UpperStretching': 175.92442321777344, 'Patting': 167.5742645263672, 'Gesticuling': 128.85780334472656, 'Walking': 201.62547302246094, 'Gaming': 164.9049530029297, 'Reacting': 162.2234344482422, 'Talking': 140.56903076171875, 'Greeting': 184.95230102539062}}\n"
     ]
    },
    {
     "name": "stderr",
     "output_type": "stream",
     "text": [
      " 93%|█████████▎| 5000/5352 [18:16<01:21,  4.31it/s]"
     ]
    },
    {
     "name": "stdout",
     "output_type": "stream",
     "text": [
      "{'FullBody': {'All': 153.01087951660156, 'LowerStretching': 142.1856231689453, 'UpperStretching': 158.5426788330078, 'Patting': 143.55482482910156, 'Gesticuling': 124.51273345947266, 'Walking': 158.1097412109375, 'Gaming': 146.80458068847656, 'Reacting': 138.4263458251953, 'Talking': 119.5829849243164, 'Greeting': 153.7315673828125}, 'UpperBody': {'All': 130.20516967773438, 'LowerStretching': 112.0182113647461, 'UpperStretching': 141.14022827148438, 'Patting': 119.78207397460938, 'Gesticuling': 120.46964263916016, 'Walking': 115.093505859375, 'Gaming': 128.47409057617188, 'Reacting': 114.82567596435547, 'Talking': 97.85924530029297, 'Greeting': 123.5999984741211}, 'LowerBody': {'All': 175.81654357910156, 'LowerStretching': 172.35301208496094, 'UpperStretching': 175.94512939453125, 'Patting': 167.32760620117188, 'Gesticuling': 128.55581665039062, 'Walking': 201.1259765625, 'Gaming': 165.1350860595703, 'Reacting': 162.02699279785156, 'Talking': 141.3067169189453, 'Greeting': 183.8631591796875}}\n"
     ]
    },
    {
     "name": "stderr",
     "output_type": "stream",
     "text": [
      " 97%|█████████▋| 5200/5352 [19:00<00:35,  4.22it/s]"
     ]
    },
    {
     "name": "stdout",
     "output_type": "stream",
     "text": [
      "{'FullBody': {'All': 153.03831481933594, 'LowerStretching': 142.2300567626953, 'UpperStretching': 158.5955810546875, 'Patting': 143.985107421875, 'Gesticuling': 124.5041732788086, 'Walking': 157.9532928466797, 'Gaming': 147.1299285888672, 'Reacting': 138.18789672851562, 'Talking': 119.64409637451172, 'Greeting': 153.34088134765625}, 'UpperBody': {'All': 130.24105834960938, 'LowerStretching': 112.0633544921875, 'UpperStretching': 141.23776245117188, 'Patting': 119.89875030517578, 'Gesticuling': 120.21239471435547, 'Walking': 114.97022247314453, 'Gaming': 128.6310272216797, 'Reacting': 114.5604019165039, 'Talking': 97.95947265625, 'Greeting': 123.09878540039062}, 'LowerBody': {'All': 175.8355712890625, 'LowerStretching': 172.39674377441406, 'UpperStretching': 175.95339965820312, 'Patting': 168.07147216796875, 'Gesticuling': 128.7959442138672, 'Walking': 200.93638610839844, 'Gaming': 165.6288299560547, 'Reacting': 161.81539916992188, 'Talking': 141.32870483398438, 'Greeting': 183.58299255371094}}\n"
     ]
    },
    {
     "name": "stderr",
     "output_type": "stream",
     "text": [
      "100%|██████████| 5352/5352 [19:33<00:00,  4.56it/s]\n",
      "\u001b[94m09:03:23 \u001b[92m[INFO]\u001b[94m Main\u001b[0m: Saving evaluation results...\n",
      "\u001b[94m09:03:23 \u001b[92m[INFO]\u001b[94m Main\u001b[0m: Done.\n",
      "\u001b[94m09:03:23 \u001b[92m[INFO]\u001b[94m Main\u001b[0m: Starting demo...\n",
      "  0%|          | 0/5352 [00:00<?, ?it/s]/opt/conda/lib/python3.10/site-packages/torchvision/transforms/transforms.py:329: UserWarning: Argument 'interpolation' of type int is deprecated since 0.13 and will be removed in 0.15. Please use InterpolationMode enum.\n",
      "  warnings.warn(\n",
      "/opt/conda/lib/python3.10/site-packages/torchvision/transforms/transforms.py:329: UserWarning: Argument 'interpolation' of type int is deprecated since 0.13 and will be removed in 0.15. Please use InterpolationMode enum.\n",
      "  warnings.warn(\n",
      "/opt/conda/lib/python3.10/site-packages/torchvision/transforms/transforms.py:329: UserWarning: Argument 'interpolation' of type int is deprecated since 0.13 and will be removed in 0.15. Please use InterpolationMode enum.\n",
      "  warnings.warn(\n",
      "/opt/conda/lib/python3.10/site-packages/torchvision/transforms/transforms.py:329: UserWarning: Argument 'interpolation' of type int is deprecated since 0.13 and will be removed in 0.15. Please use InterpolationMode enum.\n",
      "  warnings.warn(\n",
      "/opt/conda/lib/python3.10/site-packages/torchvision/transforms/transforms.py:329: UserWarning: Argument 'interpolation' of type int is deprecated since 0.13 and will be removed in 0.15. Please use InterpolationMode enum.\n",
      "  warnings.warn(\n",
      "/opt/conda/lib/python3.10/site-packages/torchvision/transforms/transforms.py:329: UserWarning: Argument 'interpolation' of type int is deprecated since 0.13 and will be removed in 0.15. Please use InterpolationMode enum.\n",
      "  warnings.warn(\n",
      "/opt/conda/lib/python3.10/site-packages/torchvision/transforms/transforms.py:329: UserWarning: Argument 'interpolation' of type int is deprecated since 0.13 and will be removed in 0.15. Please use InterpolationMode enum.\n",
      "  warnings.warn(\n",
      "/opt/conda/lib/python3.10/site-packages/torchvision/transforms/transforms.py:329: UserWarning: Argument 'interpolation' of type int is deprecated since 0.13 and will be removed in 0.15. Please use InterpolationMode enum.\n",
      "  warnings.warn(\n",
      "/opt/conda/lib/python3.10/site-packages/torchvision/transforms/transforms.py:329: UserWarning: Argument 'interpolation' of type int is deprecated since 0.13 and will be removed in 0.15. Please use InterpolationMode enum.\n",
      "  warnings.warn(\n",
      "/opt/conda/lib/python3.10/site-packages/torchvision/transforms/transforms.py:329: UserWarning: Argument 'interpolation' of type int is deprecated since 0.13 and will be removed in 0.15. Please use InterpolationMode enum.\n",
      "  warnings.warn(\n",
      "/opt/conda/lib/python3.10/site-packages/torchvision/transforms/transforms.py:329: UserWarning: Argument 'interpolation' of type int is deprecated since 0.13 and will be removed in 0.15. Please use InterpolationMode enum.\n",
      "  warnings.warn(\n",
      "/opt/conda/lib/python3.10/site-packages/torchvision/transforms/transforms.py:329: UserWarning: Argument 'interpolation' of type int is deprecated since 0.13 and will be removed in 0.15. Please use InterpolationMode enum.\n",
      "  warnings.warn(\n",
      "/opt/conda/lib/python3.10/site-packages/torchvision/transforms/transforms.py:329: UserWarning: Argument 'interpolation' of type int is deprecated since 0.13 and will be removed in 0.15. Please use InterpolationMode enum.\n",
      "  warnings.warn(\n",
      "/opt/conda/lib/python3.10/site-packages/torchvision/transforms/transforms.py:329: UserWarning: Argument 'interpolation' of type int is deprecated since 0.13 and will be removed in 0.15. Please use InterpolationMode enum.\n",
      "  warnings.warn(\n",
      "/opt/conda/lib/python3.10/site-packages/torchvision/transforms/transforms.py:329: UserWarning: Argument 'interpolation' of type int is deprecated since 0.13 and will be removed in 0.15. Please use InterpolationMode enum.\n",
      "  warnings.warn(\n",
      "/opt/conda/lib/python3.10/site-packages/torchvision/transforms/transforms.py:329: UserWarning: Argument 'interpolation' of type int is deprecated since 0.13 and will be removed in 0.15. Please use InterpolationMode enum.\n",
      "  warnings.warn(\n",
      "/opt/conda/lib/python3.10/site-packages/torchvision/transforms/transforms.py:329: UserWarning: Argument 'interpolation' of type int is deprecated since 0.13 and will be removed in 0.15. Please use InterpolationMode enum.\n",
      "  warnings.warn(\n",
      "/opt/conda/lib/python3.10/site-packages/torchvision/transforms/transforms.py:329: UserWarning: Argument 'interpolation' of type int is deprecated since 0.13 and will be removed in 0.15. Please use InterpolationMode enum.\n",
      "  warnings.warn(\n",
      "/opt/conda/lib/python3.10/site-packages/torchvision/transforms/transforms.py:329: UserWarning: Argument 'interpolation' of type int is deprecated since 0.13 and will be removed in 0.15. Please use InterpolationMode enum.\n",
      "  warnings.warn(\n",
      "/opt/conda/lib/python3.10/site-packages/torchvision/transforms/transforms.py:329: UserWarning: Argument 'interpolation' of type int is deprecated since 0.13 and will be removed in 0.15. Please use InterpolationMode enum.\n",
      "  warnings.warn(\n",
      "/opt/conda/lib/python3.10/site-packages/torchvision/transforms/transforms.py:329: UserWarning: Argument 'interpolation' of type int is deprecated since 0.13 and will be removed in 0.15. Please use InterpolationMode enum.\n",
      "  warnings.warn(\n",
      "/opt/conda/lib/python3.10/site-packages/torchvision/transforms/transforms.py:329: UserWarning: Argument 'interpolation' of type int is deprecated since 0.13 and will be removed in 0.15. Please use InterpolationMode enum.\n",
      "  warnings.warn(\n",
      "/opt/conda/lib/python3.10/site-packages/torchvision/transforms/transforms.py:329: UserWarning: Argument 'interpolation' of type int is deprecated since 0.13 and will be removed in 0.15. Please use InterpolationMode enum.\n",
      "  warnings.warn(\n",
      "/opt/conda/lib/python3.10/site-packages/torchvision/transforms/transforms.py:329: UserWarning: Argument 'interpolation' of type int is deprecated since 0.13 and will be removed in 0.15. Please use InterpolationMode enum.\n",
      "  warnings.warn(\n",
      "  4%|▎         | 200/5352 [00:49<18:33,  4.63it/s]"
     ]
    },
    {
     "name": "stdout",
     "output_type": "stream",
     "text": [
      "{'FullBody': {'All': 151.61886596679688, 'Reacting': 141.33180236816406, 'LowerStretching': 145.6610107421875, 'UpperStretching': 159.0319366455078, 'Walking': 152.95004272460938, 'Gaming': 122.24441528320312, 'Gesticuling': 125.10298156738281, 'Greeting': 121.73058319091797, 'Patting': 123.0799789428711, 'Talking': 106.04707336425781}, 'UpperBody': {'All': 105.6139144897461, 'Reacting': 105.11591339111328, 'LowerStretching': 85.51082611083984, 'UpperStretching': 117.96741485595703, 'Walking': 89.09276580810547, 'Gaming': 85.48636627197266, 'Gesticuling': 105.44837188720703, 'Greeting': 76.97148895263672, 'Patting': 89.9634780883789, 'Talking': 82.48655700683594}, 'LowerBody': {'All': 197.6238250732422, 'Reacting': 177.5476837158203, 'LowerStretching': 205.8112030029297, 'UpperStretching': 200.096435546875, 'Walking': 216.80731201171875, 'Gaming': 159.00244140625, 'Gesticuling': 144.75758361816406, 'Greeting': 166.48968505859375, 'Patting': 156.1964874267578, 'Talking': 129.60755920410156}}\n"
     ]
    },
    {
     "name": "stderr",
     "output_type": "stream",
     "text": [
      "  7%|▋         | 400/5352 [01:32<18:19,  4.51it/s]"
     ]
    },
    {
     "name": "stdout",
     "output_type": "stream",
     "text": [
      "{'FullBody': {'All': 152.1986541748047, 'Reacting': 146.86631774902344, 'LowerStretching': 145.51722717285156, 'UpperStretching': 159.11627197265625, 'Walking': 152.16177368164062, 'Gaming': 127.34877014160156, 'Gesticuling': 122.11603546142578, 'Greeting': 119.77201843261719, 'Patting': 123.47476196289062, 'Talking': 106.35020446777344}, 'UpperBody': {'All': 106.93160247802734, 'Reacting': 109.49503326416016, 'LowerStretching': 84.93556213378906, 'UpperStretching': 119.276611328125, 'Walking': 89.86219787597656, 'Gaming': 87.90885925292969, 'Gesticuling': 105.19275665283203, 'Greeting': 76.76688385009766, 'Patting': 88.81485748291016, 'Talking': 82.19942474365234}, 'LowerBody': {'All': 197.4656982421875, 'Reacting': 184.23764038085938, 'LowerStretching': 206.098876953125, 'UpperStretching': 198.95591735839844, 'Walking': 214.46136474609375, 'Gaming': 166.78868103027344, 'Gesticuling': 139.03933715820312, 'Greeting': 162.77716064453125, 'Patting': 158.1346435546875, 'Talking': 130.50099182128906}}\n"
     ]
    },
    {
     "name": "stderr",
     "output_type": "stream",
     "text": [
      " 11%|█         | 600/5352 [02:16<17:04,  4.64it/s]"
     ]
    },
    {
     "name": "stdout",
     "output_type": "stream",
     "text": [
      "{'FullBody': {'All': 152.82577514648438, 'Reacting': 147.10653686523438, 'LowerStretching': 144.66004943847656, 'UpperStretching': 160.03518676757812, 'Walking': 153.19728088378906, 'Gaming': 127.65790557861328, 'Gesticuling': 122.99820709228516, 'Greeting': 116.33045196533203, 'Patting': 125.72611236572266, 'Talking': 105.90162658691406}, 'UpperBody': {'All': 106.96314239501953, 'Reacting': 110.45944213867188, 'LowerStretching': 84.60799407958984, 'UpperStretching': 119.13905334472656, 'Walking': 89.89743041992188, 'Gaming': 88.27532196044922, 'Gesticuling': 106.43424224853516, 'Greeting': 74.85122680664062, 'Patting': 91.26091003417969, 'Talking': 78.86845397949219}, 'LowerBody': {'All': 198.68841552734375, 'Reacting': 183.75364685058594, 'LowerStretching': 204.7121124267578, 'UpperStretching': 200.93128967285156, 'Walking': 216.4971466064453, 'Gaming': 167.04051208496094, 'Gesticuling': 139.56216430664062, 'Greeting': 157.8096923828125, 'Patting': 160.1913299560547, 'Talking': 132.93479919433594}}\n"
     ]
    },
    {
     "name": "stderr",
     "output_type": "stream",
     "text": [
      " 15%|█▍        | 800/5352 [02:59<16:19,  4.65it/s]"
     ]
    },
    {
     "name": "stdout",
     "output_type": "stream",
     "text": [
      "{'FullBody': {'All': 152.83602905273438, 'Reacting': 147.10716247558594, 'LowerStretching': 143.99505615234375, 'UpperStretching': 160.59219360351562, 'Walking': 152.45318603515625, 'Gaming': 125.13426208496094, 'Gesticuling': 121.70233917236328, 'Greeting': 120.08464050292969, 'Patting': 122.36678314208984, 'Talking': 107.72095489501953}, 'UpperBody': {'All': 106.95707702636719, 'Reacting': 109.02420806884766, 'LowerStretching': 84.53828430175781, 'UpperStretching': 119.45011901855469, 'Walking': 89.1667251586914, 'Gaming': 87.36653900146484, 'Gesticuling': 105.34585571289062, 'Greeting': 77.33154296875, 'Patting': 88.81965637207031, 'Talking': 78.7579574584961}, 'LowerBody': {'All': 198.71498107910156, 'Reacting': 185.1901092529297, 'LowerStretching': 203.45181274414062, 'UpperStretching': 201.73426818847656, 'Walking': 215.73965454101562, 'Gaming': 162.90199279785156, 'Gesticuling': 138.05882263183594, 'Greeting': 162.8377685546875, 'Patting': 155.91390991210938, 'Talking': 136.68394470214844}}\n"
     ]
    },
    {
     "name": "stderr",
     "output_type": "stream",
     "text": [
      " 19%|█▊        | 1000/5352 [03:43<16:22,  4.43it/s]"
     ]
    },
    {
     "name": "stdout",
     "output_type": "stream",
     "text": [
      "{'FullBody': {'All': 152.78643798828125, 'Reacting': 146.6007537841797, 'LowerStretching': 143.51531982421875, 'UpperStretching': 160.3439483642578, 'Walking': 153.51278686523438, 'Gaming': 127.34017181396484, 'Gesticuling': 123.0255126953125, 'Greeting': 122.23851013183594, 'Patting': 120.31793212890625, 'Talking': 108.61227416992188}, 'UpperBody': {'All': 107.15909576416016, 'Reacting': 108.99140930175781, 'LowerStretching': 84.15126037597656, 'UpperStretching': 119.63262939453125, 'Walking': 90.13581848144531, 'Gaming': 88.46365356445312, 'Gesticuling': 106.72372436523438, 'Greeting': 77.71666717529297, 'Patting': 87.22004699707031, 'Talking': 78.1917495727539}, 'LowerBody': {'All': 198.4137725830078, 'Reacting': 184.21011352539062, 'LowerStretching': 202.87933349609375, 'UpperStretching': 201.05526733398438, 'Walking': 216.88973999023438, 'Gaming': 166.2166748046875, 'Gesticuling': 139.3272705078125, 'Greeting': 166.76034545898438, 'Patting': 153.41583251953125, 'Talking': 139.03280639648438}}\n"
     ]
    },
    {
     "name": "stderr",
     "output_type": "stream",
     "text": [
      " 22%|██▏       | 1200/5352 [04:26<15:10,  4.56it/s]"
     ]
    },
    {
     "name": "stdout",
     "output_type": "stream",
     "text": [
      "{'FullBody': {'All': 152.94903564453125, 'Reacting': 145.9086456298828, 'LowerStretching': 143.75254821777344, 'UpperStretching': 160.44993591308594, 'Walking': 153.52279663085938, 'Gaming': 127.17251586914062, 'Gesticuling': 122.96940612792969, 'Greeting': 126.54644775390625, 'Patting': 124.0643539428711, 'Talking': 108.4914321899414}, 'UpperBody': {'All': 107.29698944091797, 'Reacting': 109.12580108642578, 'LowerStretching': 84.27596282958984, 'UpperStretching': 119.72228240966797, 'Walking': 90.32225799560547, 'Gaming': 88.69166564941406, 'Gesticuling': 105.4364013671875, 'Greeting': 80.0719223022461, 'Patting': 89.18221282958984, 'Talking': 77.60062408447266}, 'LowerBody': {'All': 198.60105895996094, 'Reacting': 182.69149780273438, 'LowerStretching': 203.2291259765625, 'UpperStretching': 201.17758178710938, 'Walking': 216.7233428955078, 'Gaming': 165.65335083007812, 'Gesticuling': 140.50241088867188, 'Greeting': 173.02096557617188, 'Patting': 158.94650268554688, 'Talking': 139.3822479248047}}\n"
     ]
    },
    {
     "name": "stderr",
     "output_type": "stream",
     "text": [
      " 26%|██▌       | 1400/5352 [05:10<14:31,  4.53it/s]"
     ]
    },
    {
     "name": "stdout",
     "output_type": "stream",
     "text": [
      "{'FullBody': {'All': 153.12705993652344, 'Reacting': 145.7650604248047, 'LowerStretching': 143.49246215820312, 'UpperStretching': 160.9199981689453, 'Walking': 152.72052001953125, 'Gaming': 126.97694396972656, 'Gesticuling': 123.16425323486328, 'Greeting': 126.82420349121094, 'Patting': 125.70805358886719, 'Talking': 108.532470703125}, 'UpperBody': {'All': 107.4374771118164, 'Reacting': 109.3031005859375, 'LowerStretching': 84.36128997802734, 'UpperStretching': 119.9699478149414, 'Walking': 90.0489730834961, 'Gaming': 89.12279510498047, 'Gesticuling': 106.24066925048828, 'Greeting': 80.75975799560547, 'Patting': 90.64432525634766, 'Talking': 77.45093536376953}, 'LowerBody': {'All': 198.8166046142578, 'Reacting': 182.22702026367188, 'LowerStretching': 202.62362670898438, 'UpperStretching': 201.8700408935547, 'Walking': 215.39205932617188, 'Gaming': 164.8311004638672, 'Gesticuling': 140.08786010742188, 'Greeting': 172.88864135742188, 'Patting': 160.7717742919922, 'Talking': 139.61399841308594}}\n"
     ]
    },
    {
     "name": "stderr",
     "output_type": "stream",
     "text": [
      " 30%|██▉       | 1600/5352 [05:53<13:48,  4.53it/s]"
     ]
    },
    {
     "name": "stdout",
     "output_type": "stream",
     "text": [
      "{'FullBody': {'All': 153.00184631347656, 'Reacting': 146.8815460205078, 'LowerStretching': 143.46392822265625, 'UpperStretching': 160.70884704589844, 'Walking': 152.34498596191406, 'Gaming': 127.2021484375, 'Gesticuling': 122.28953552246094, 'Greeting': 131.36904907226562, 'Patting': 125.4705581665039, 'Talking': 107.83387756347656}, 'UpperBody': {'All': 107.31922149658203, 'Reacting': 110.46712493896484, 'LowerStretching': 84.25843811035156, 'UpperStretching': 119.73287200927734, 'Walking': 89.88087463378906, 'Gaming': 89.05072784423828, 'Gesticuling': 105.13996887207031, 'Greeting': 83.3149185180664, 'Patting': 90.83232116699219, 'Talking': 77.06175231933594}, 'LowerBody': {'All': 198.68447875976562, 'Reacting': 183.2959442138672, 'LowerStretching': 202.6693878173828, 'UpperStretching': 201.68482971191406, 'Walking': 214.80906677246094, 'Gaming': 165.35353088378906, 'Gesticuling': 139.4390869140625, 'Greeting': 179.42318725585938, 'Patting': 160.10879516601562, 'Talking': 138.6060028076172}}\n"
     ]
    },
    {
     "name": "stderr",
     "output_type": "stream",
     "text": [
      " 34%|███▎      | 1800/5352 [06:37<13:07,  4.51it/s]"
     ]
    },
    {
     "name": "stdout",
     "output_type": "stream",
     "text": [
      "{'FullBody': {'All': 152.78564453125, 'Reacting': 146.9204559326172, 'LowerStretching': 143.06980895996094, 'UpperStretching': 160.51327514648438, 'Walking': 152.05528259277344, 'Gaming': 127.23877716064453, 'Gesticuling': 122.16678619384766, 'Greeting': 129.2770538330078, 'Patting': 125.04486083984375, 'Talking': 108.37736511230469}, 'UpperBody': {'All': 107.25015258789062, 'Reacting': 110.46739959716797, 'LowerStretching': 84.1329574584961, 'UpperStretching': 119.67192077636719, 'Walking': 89.5752944946289, 'Gaming': 89.65106201171875, 'Gesticuling': 105.36719512939453, 'Greeting': 81.83734130859375, 'Patting': 90.8575210571289, 'Talking': 77.72100830078125}, 'LowerBody': {'All': 198.32110595703125, 'Reacting': 183.37351989746094, 'LowerStretching': 202.00668334960938, 'UpperStretching': 201.35464477539062, 'Walking': 214.53526306152344, 'Gaming': 164.82647705078125, 'Gesticuling': 138.96636962890625, 'Greeting': 176.71678161621094, 'Patting': 159.23220825195312, 'Talking': 139.0337371826172}}\n"
     ]
    },
    {
     "name": "stderr",
     "output_type": "stream",
     "text": [
      " 37%|███▋      | 2000/5352 [07:21<12:18,  4.54it/s]"
     ]
    },
    {
     "name": "stdout",
     "output_type": "stream",
     "text": [
      "{'FullBody': {'All': 152.91864013671875, 'Reacting': 147.24842834472656, 'LowerStretching': 143.385009765625, 'UpperStretching': 160.64710998535156, 'Walking': 151.97683715820312, 'Gaming': 126.8217544555664, 'Gesticuling': 121.41986083984375, 'Greeting': 130.48739624023438, 'Patting': 126.3614273071289, 'Talking': 109.40242767333984}, 'UpperBody': {'All': 107.43878936767578, 'Reacting': 111.02517700195312, 'LowerStretching': 84.31387329101562, 'UpperStretching': 119.92096710205078, 'Walking': 89.68862915039062, 'Gaming': 89.84552001953125, 'Gesticuling': 104.53045654296875, 'Greeting': 82.39228057861328, 'Patting': 91.88562774658203, 'Talking': 78.25408172607422}, 'LowerBody': {'All': 198.39849853515625, 'Reacting': 183.47169494628906, 'LowerStretching': 202.45616149902344, 'UpperStretching': 201.37327575683594, 'Walking': 214.2650604248047, 'Gaming': 163.7979736328125, 'Gesticuling': 138.30926513671875, 'Greeting': 178.58251953125, 'Patting': 160.83724975585938, 'Talking': 140.55079650878906}}\n"
     ]
    },
    {
     "name": "stderr",
     "output_type": "stream",
     "text": [
      " 41%|████      | 2200/5352 [08:05<11:44,  4.47it/s]"
     ]
    },
    {
     "name": "stdout",
     "output_type": "stream",
     "text": [
      "{'FullBody': {'All': 152.9930877685547, 'Reacting': 147.396728515625, 'LowerStretching': 143.87547302246094, 'UpperStretching': 160.57415771484375, 'Walking': 151.84278869628906, 'Gaming': 127.2425308227539, 'Gesticuling': 122.17642211914062, 'Greeting': 130.858154296875, 'Patting': 127.46053314208984, 'Talking': 108.87588500976562}, 'UpperBody': {'All': 107.52452087402344, 'Reacting': 110.7127914428711, 'LowerStretching': 84.60314178466797, 'UpperStretching': 119.91461944580078, 'Walking': 89.77207946777344, 'Gaming': 90.57532501220703, 'Gesticuling': 105.34098815917969, 'Greeting': 82.5687484741211, 'Patting': 92.04499053955078, 'Talking': 77.83968353271484}, 'LowerBody': {'All': 198.46165466308594, 'Reacting': 184.08067321777344, 'LowerStretching': 203.1478271484375, 'UpperStretching': 201.2336883544922, 'Walking': 213.9134979248047, 'Gaming': 163.90975952148438, 'Gesticuling': 139.01187133789062, 'Greeting': 179.1475830078125, 'Patting': 162.87608337402344, 'Talking': 139.912109375}}\n"
     ]
    },
    {
     "name": "stderr",
     "output_type": "stream",
     "text": [
      " 45%|████▍     | 2400/5352 [08:48<10:58,  4.48it/s]"
     ]
    },
    {
     "name": "stdout",
     "output_type": "stream",
     "text": [
      "{'FullBody': {'All': 153.14918518066406, 'Reacting': 147.94908142089844, 'LowerStretching': 144.22052001953125, 'UpperStretching': 160.68751525878906, 'Walking': 151.35107421875, 'Gaming': 127.54535675048828, 'Gesticuling': 122.19477081298828, 'Greeting': 131.02854919433594, 'Patting': 129.0187225341797, 'Talking': 108.95642852783203}, 'UpperBody': {'All': 107.56446838378906, 'Reacting': 111.28359985351562, 'LowerStretching': 84.68985748291016, 'UpperStretching': 119.88468170166016, 'Walking': 89.6520767211914, 'Gaming': 90.30535888671875, 'Gesticuling': 105.11646270751953, 'Greeting': 82.30916595458984, 'Patting': 93.29842376708984, 'Talking': 77.98873138427734}, 'LowerBody': {'All': 198.73388671875, 'Reacting': 184.61456298828125, 'LowerStretching': 203.75119018554688, 'UpperStretching': 201.49032592773438, 'Walking': 213.05006408691406, 'Gaming': 164.78530883789062, 'Gesticuling': 139.2730712890625, 'Greeting': 179.7479248046875, 'Patting': 164.73902893066406, 'Talking': 139.9241180419922}}\n"
     ]
    },
    {
     "name": "stderr",
     "output_type": "stream",
     "text": [
      " 49%|████▊     | 2600/5352 [09:32<10:14,  4.48it/s]"
     ]
    },
    {
     "name": "stdout",
     "output_type": "stream",
     "text": [
      "{'FullBody': {'All': 153.10537719726562, 'Reacting': 147.87669372558594, 'LowerStretching': 144.36050415039062, 'UpperStretching': 160.6534423828125, 'Walking': 151.22137451171875, 'Gaming': 127.72657012939453, 'Gesticuling': 122.22688293457031, 'Greeting': 131.18394470214844, 'Patting': 128.54876708984375, 'Talking': 108.87171936035156}, 'UpperBody': {'All': 107.50969696044922, 'Reacting': 111.12749481201172, 'LowerStretching': 84.77684783935547, 'UpperStretching': 119.82646942138672, 'Walking': 89.64187622070312, 'Gaming': 90.3656005859375, 'Gesticuling': 105.13694763183594, 'Greeting': 82.36993408203125, 'Patting': 93.29151153564453, 'Talking': 77.91957092285156}, 'LowerBody': {'All': 198.70106506347656, 'Reacting': 184.6259002685547, 'LowerStretching': 203.9441375732422, 'UpperStretching': 201.4804229736328, 'Walking': 212.80084228515625, 'Gaming': 165.0875701904297, 'Gesticuling': 139.3168182373047, 'Greeting': 179.9979248046875, 'Patting': 163.80604553222656, 'Talking': 139.82386779785156}}\n"
     ]
    },
    {
     "name": "stderr",
     "output_type": "stream",
     "text": [
      " 52%|█████▏    | 2800/5352 [10:16<09:35,  4.44it/s]"
     ]
    },
    {
     "name": "stdout",
     "output_type": "stream",
     "text": [
      "{'FullBody': {'All': 153.21502685546875, 'Reacting': 148.59579467773438, 'LowerStretching': 144.32330322265625, 'UpperStretching': 160.72511291503906, 'Walking': 151.53421020507812, 'Gaming': 127.51251220703125, 'Gesticuling': 122.4611587524414, 'Greeting': 132.01548767089844, 'Patting': 127.96053314208984, 'Talking': 109.07048034667969}, 'UpperBody': {'All': 107.58854675292969, 'Reacting': 111.39778137207031, 'LowerStretching': 84.75596618652344, 'UpperStretching': 119.88203430175781, 'Walking': 89.85575103759766, 'Gaming': 90.25035858154297, 'Gesticuling': 105.68553161621094, 'Greeting': 82.62495422363281, 'Patting': 92.70344543457031, 'Talking': 77.79528045654297}, 'LowerBody': {'All': 198.84149169921875, 'Reacting': 185.79379272460938, 'LowerStretching': 203.89060974121094, 'UpperStretching': 201.5681610107422, 'Walking': 213.21266174316406, 'Gaming': 164.774658203125, 'Gesticuling': 139.23681640625, 'Greeting': 181.406005859375, 'Patting': 163.2176513671875, 'Talking': 140.345703125}}\n"
     ]
    },
    {
     "name": "stderr",
     "output_type": "stream",
     "text": [
      " 56%|█████▌    | 3000/5352 [11:00<08:51,  4.43it/s]"
     ]
    },
    {
     "name": "stdout",
     "output_type": "stream",
     "text": [
      "{'FullBody': {'All': 153.29295349121094, 'Reacting': 148.36016845703125, 'LowerStretching': 144.24302673339844, 'UpperStretching': 160.9066619873047, 'Walking': 151.5543975830078, 'Gaming': 127.86686706542969, 'Gesticuling': 122.60807800292969, 'Greeting': 131.31301879882812, 'Patting': 127.59091186523438, 'Talking': 108.99232482910156}, 'UpperBody': {'All': 107.66899871826172, 'Reacting': 111.49592590332031, 'LowerStretching': 84.90058135986328, 'UpperStretching': 119.96497344970703, 'Walking': 89.93651580810547, 'Gaming': 90.3106918334961, 'Gesticuling': 105.79685974121094, 'Greeting': 82.14967346191406, 'Patting': 92.85958099365234, 'Talking': 77.69242095947266}, 'LowerBody': {'All': 198.9169158935547, 'Reacting': 185.2244110107422, 'LowerStretching': 203.58544921875, 'UpperStretching': 201.84835815429688, 'Walking': 213.17225646972656, 'Gaming': 165.4230499267578, 'Gesticuling': 139.4192657470703, 'Greeting': 180.47637939453125, 'Patting': 162.32223510742188, 'Talking': 140.29222106933594}}\n"
     ]
    },
    {
     "name": "stderr",
     "output_type": "stream",
     "text": [
      " 60%|█████▉    | 3200/5352 [11:43<07:49,  4.59it/s]"
     ]
    },
    {
     "name": "stdout",
     "output_type": "stream",
     "text": [
      "{'FullBody': {'All': 153.39756774902344, 'Reacting': 148.42039489746094, 'LowerStretching': 144.1757049560547, 'UpperStretching': 161.0789337158203, 'Walking': 151.81680297851562, 'Gaming': 127.86573028564453, 'Gesticuling': 122.43514251708984, 'Greeting': 131.26296997070312, 'Patting': 127.77262115478516, 'Talking': 108.46635437011719}, 'UpperBody': {'All': 107.73741149902344, 'Reacting': 111.67803955078125, 'LowerStretching': 84.84212493896484, 'UpperStretching': 120.0654067993164, 'Walking': 90.02405548095703, 'Gaming': 90.15619659423828, 'Gesticuling': 105.61673736572266, 'Greeting': 82.0464096069336, 'Patting': 93.52423095703125, 'Talking': 77.43157958984375}, 'LowerBody': {'All': 199.05770874023438, 'Reacting': 185.1627197265625, 'LowerStretching': 203.50927734375, 'UpperStretching': 202.09246826171875, 'Walking': 213.60955810546875, 'Gaming': 165.57525634765625, 'Gesticuling': 139.25355529785156, 'Greeting': 180.47952270507812, 'Patting': 162.02101135253906, 'Talking': 139.50112915039062}}\n"
     ]
    },
    {
     "name": "stderr",
     "output_type": "stream",
     "text": [
      " 64%|██████▎   | 3400/5352 [12:27<07:11,  4.53it/s]"
     ]
    },
    {
     "name": "stdout",
     "output_type": "stream",
     "text": [
      "{'FullBody': {'All': 153.41041564941406, 'Reacting': 148.60374450683594, 'LowerStretching': 144.3460235595703, 'UpperStretching': 161.1354217529297, 'Walking': 151.59475708007812, 'Gaming': 127.49332427978516, 'Gesticuling': 122.05952453613281, 'Greeting': 131.88946533203125, 'Patting': 127.29701232910156, 'Talking': 108.68309783935547}, 'UpperBody': {'All': 107.70439910888672, 'Reacting': 111.80619049072266, 'LowerStretching': 84.90503692626953, 'UpperStretching': 120.0401611328125, 'Walking': 89.94221496582031, 'Gaming': 89.7337875366211, 'Gesticuling': 105.30120849609375, 'Greeting': 82.21011352539062, 'Patting': 93.14089965820312, 'Talking': 77.86780548095703}, 'LowerBody': {'All': 199.11643981933594, 'Reacting': 185.40126037597656, 'LowerStretching': 203.7869873046875, 'UpperStretching': 202.23065185546875, 'Walking': 213.247314453125, 'Gaming': 165.2528533935547, 'Gesticuling': 138.8178253173828, 'Greeting': 181.5688018798828, 'Patting': 161.45314025878906, 'Talking': 139.49838256835938}}\n"
     ]
    },
    {
     "name": "stderr",
     "output_type": "stream",
     "text": [
      " 67%|██████▋   | 3600/5352 [13:11<06:34,  4.44it/s]"
     ]
    },
    {
     "name": "stdout",
     "output_type": "stream",
     "text": [
      "{'FullBody': {'All': 153.44515991210938, 'Reacting': 148.95640563964844, 'LowerStretching': 144.31277465820312, 'UpperStretching': 161.16259765625, 'Walking': 151.5372772216797, 'Gaming': 127.4457778930664, 'Gesticuling': 122.15007019042969, 'Greeting': 132.5, 'Patting': 127.02040100097656, 'Talking': 108.82025146484375}, 'UpperBody': {'All': 107.67302703857422, 'Reacting': 111.90477752685547, 'LowerStretching': 84.93964385986328, 'UpperStretching': 120.01224517822266, 'Walking': 89.79759979248047, 'Gaming': 89.59330749511719, 'Gesticuling': 105.28317260742188, 'Greeting': 82.62704467773438, 'Patting': 93.0022201538086, 'Talking': 77.96548461914062}, 'LowerBody': {'All': 199.21726989746094, 'Reacting': 186.008056640625, 'LowerStretching': 203.6859130859375, 'UpperStretching': 202.31297302246094, 'Walking': 213.2769317626953, 'Gaming': 165.29823303222656, 'Gesticuling': 139.0169677734375, 'Greeting': 182.37295532226562, 'Patting': 161.03858947753906, 'Talking': 139.67501831054688}}\n"
     ]
    },
    {
     "name": "stderr",
     "output_type": "stream",
     "text": [
      " 71%|███████   | 3800/5352 [13:54<05:41,  4.55it/s]"
     ]
    },
    {
     "name": "stdout",
     "output_type": "stream",
     "text": [
      "{'FullBody': {'All': 153.5692596435547, 'Reacting': 148.3785400390625, 'LowerStretching': 144.3815460205078, 'UpperStretching': 161.34835815429688, 'Walking': 151.7543182373047, 'Gaming': 127.00045013427734, 'Gesticuling': 121.7833251953125, 'Greeting': 131.4242401123047, 'Patting': 127.47998809814453, 'Talking': 109.10490417480469}, 'UpperBody': {'All': 107.7296142578125, 'Reacting': 111.50105285644531, 'LowerStretching': 84.92132568359375, 'UpperStretching': 120.09892272949219, 'Walking': 89.99187469482422, 'Gaming': 89.27869415283203, 'Gesticuling': 104.86758422851562, 'Greeting': 81.87464141845703, 'Patting': 93.08341217041016, 'Talking': 78.0062255859375}, 'LowerBody': {'All': 199.40890502929688, 'Reacting': 185.25604248046875, 'LowerStretching': 203.84176635742188, 'UpperStretching': 202.59779357910156, 'Walking': 213.5167236328125, 'Gaming': 164.72219848632812, 'Gesticuling': 138.69906616210938, 'Greeting': 180.97381591796875, 'Patting': 161.8765869140625, 'Talking': 140.20358276367188}}\n"
     ]
    },
    {
     "name": "stderr",
     "output_type": "stream",
     "text": [
      " 75%|███████▍  | 4000/5352 [14:38<05:07,  4.39it/s]"
     ]
    },
    {
     "name": "stdout",
     "output_type": "stream",
     "text": [
      "{'FullBody': {'All': 153.5168914794922, 'Reacting': 148.28358459472656, 'LowerStretching': 144.3432159423828, 'UpperStretching': 161.26266479492188, 'Walking': 151.80548095703125, 'Gaming': 126.97550201416016, 'Gesticuling': 121.99668884277344, 'Greeting': 131.7822265625, 'Patting': 127.26522064208984, 'Talking': 108.88665008544922}, 'UpperBody': {'All': 107.7482681274414, 'Reacting': 111.4183120727539, 'LowerStretching': 84.93746948242188, 'UpperStretching': 120.12530517578125, 'Walking': 89.99983215332031, 'Gaming': 89.41740417480469, 'Gesticuling': 105.16612243652344, 'Greeting': 81.86894226074219, 'Patting': 93.2287368774414, 'Talking': 77.55180358886719}, 'LowerBody': {'All': 199.2855224609375, 'Reacting': 185.14886474609375, 'LowerStretching': 203.74896240234375, 'UpperStretching': 202.40005493164062, 'Walking': 213.6111602783203, 'Gaming': 164.53358459472656, 'Gesticuling': 138.82725524902344, 'Greeting': 181.69554138183594, 'Patting': 161.3017120361328, 'Talking': 140.22152709960938}}\n"
     ]
    },
    {
     "name": "stderr",
     "output_type": "stream",
     "text": [
      " 78%|███████▊  | 4200/5352 [15:22<04:19,  4.44it/s]"
     ]
    },
    {
     "name": "stdout",
     "output_type": "stream",
     "text": [
      "{'FullBody': {'All': 153.47161865234375, 'Reacting': 148.28411865234375, 'LowerStretching': 144.38011169433594, 'UpperStretching': 161.27210998535156, 'Walking': 151.54653930664062, 'Gaming': 126.88078308105469, 'Gesticuling': 121.81309509277344, 'Greeting': 131.0703887939453, 'Patting': 126.87565612792969, 'Talking': 108.81734466552734}, 'UpperBody': {'All': 107.7002182006836, 'Reacting': 111.36231994628906, 'LowerStretching': 85.01009368896484, 'UpperStretching': 120.07850646972656, 'Walking': 89.8534164428711, 'Gaming': 89.41072082519531, 'Gesticuling': 104.76793670654297, 'Greeting': 81.64149475097656, 'Patting': 93.1151123046875, 'Talking': 77.66527557373047}, 'LowerBody': {'All': 199.24302673339844, 'Reacting': 185.20591735839844, 'LowerStretching': 203.75010681152344, 'UpperStretching': 202.4657440185547, 'Walking': 213.23965454101562, 'Gaming': 164.35086059570312, 'Gesticuling': 138.85824584960938, 'Greeting': 180.49928283691406, 'Patting': 160.6361846923828, 'Talking': 139.9694061279297}}\n"
     ]
    },
    {
     "name": "stderr",
     "output_type": "stream",
     "text": [
      " 82%|████████▏ | 4400/5352 [16:06<03:44,  4.24it/s]"
     ]
    },
    {
     "name": "stdout",
     "output_type": "stream",
     "text": [
      "{'FullBody': {'All': 153.63925170898438, 'Reacting': 148.10052490234375, 'LowerStretching': 144.61099243164062, 'UpperStretching': 161.50970458984375, 'Walking': 151.64109802246094, 'Gaming': 126.81983947753906, 'Gesticuling': 121.41618347167969, 'Greeting': 130.6344451904297, 'Patting': 127.00018310546875, 'Talking': 109.0458984375}, 'UpperBody': {'All': 107.76541137695312, 'Reacting': 111.36116790771484, 'LowerStretching': 85.16450500488281, 'UpperStretching': 120.15339660644531, 'Walking': 89.8665542602539, 'Gaming': 89.51374053955078, 'Gesticuling': 104.11661529541016, 'Greeting': 81.3779067993164, 'Patting': 93.33358764648438, 'Talking': 77.96876525878906}, 'LowerBody': {'All': 199.5130615234375, 'Reacting': 184.83985900878906, 'LowerStretching': 204.05746459960938, 'UpperStretching': 202.86605834960938, 'Walking': 213.41566467285156, 'Gaming': 164.1259307861328, 'Gesticuling': 138.7157440185547, 'Greeting': 179.89097595214844, 'Patting': 160.66680908203125, 'Talking': 140.123046875}}\n"
     ]
    },
    {
     "name": "stderr",
     "output_type": "stream",
     "text": [
      " 86%|████████▌ | 4600/5352 [16:49<02:53,  4.33it/s]"
     ]
    },
    {
     "name": "stdout",
     "output_type": "stream",
     "text": [
      "{'FullBody': {'All': 153.6315155029297, 'Reacting': 148.2738800048828, 'LowerStretching': 144.5037078857422, 'UpperStretching': 161.54180908203125, 'Walking': 151.53237915039062, 'Gaming': 126.57388305664062, 'Gesticuling': 121.44522857666016, 'Greeting': 130.69561767578125, 'Patting': 126.86470031738281, 'Talking': 108.97481536865234}, 'UpperBody': {'All': 107.76318359375, 'Reacting': 111.44844055175781, 'LowerStretching': 85.15966796875, 'UpperStretching': 120.1791763305664, 'Walking': 89.74736785888672, 'Gaming': 89.68527221679688, 'Gesticuling': 104.1512680053711, 'Greeting': 81.42196655273438, 'Patting': 93.07524871826172, 'Talking': 77.84595489501953}, 'LowerBody': {'All': 199.49981689453125, 'Reacting': 185.09934997558594, 'LowerStretching': 203.8477325439453, 'UpperStretching': 202.9044647216797, 'Walking': 213.3173828125, 'Gaming': 163.46249389648438, 'Gesticuling': 138.7391815185547, 'Greeting': 179.9692840576172, 'Patting': 160.65419006347656, 'Talking': 140.1036834716797}}\n"
     ]
    },
    {
     "name": "stderr",
     "output_type": "stream",
     "text": [
      " 90%|████████▉ | 4800/5352 [17:33<02:02,  4.51it/s]"
     ]
    },
    {
     "name": "stdout",
     "output_type": "stream",
     "text": [
      "{'FullBody': {'All': 153.5876007080078, 'Reacting': 148.66986083984375, 'LowerStretching': 144.5299530029297, 'UpperStretching': 161.4002227783203, 'Walking': 151.71437072753906, 'Gaming': 126.19618225097656, 'Gesticuling': 121.47286224365234, 'Greeting': 130.79147338867188, 'Patting': 126.46166229248047, 'Talking': 109.25029754638672}, 'UpperBody': {'All': 107.78732299804688, 'Reacting': 111.94279479980469, 'LowerStretching': 85.2031021118164, 'UpperStretching': 120.14628601074219, 'Walking': 89.8409194946289, 'Gaming': 89.705810546875, 'Gesticuling': 104.17724609375, 'Greeting': 81.60064697265625, 'Patting': 92.79148864746094, 'Talking': 77.97727966308594}, 'LowerBody': {'All': 199.38787841796875, 'Reacting': 185.39694213867188, 'LowerStretching': 203.85679626464844, 'UpperStretching': 202.65419006347656, 'Walking': 213.5878448486328, 'Gaming': 162.6865692138672, 'Gesticuling': 138.7684783935547, 'Greeting': 179.98233032226562, 'Patting': 160.13182067871094, 'Talking': 140.5233154296875}}\n"
     ]
    },
    {
     "name": "stderr",
     "output_type": "stream",
     "text": [
      " 93%|█████████▎| 5000/5352 [18:17<01:22,  4.26it/s]"
     ]
    },
    {
     "name": "stdout",
     "output_type": "stream",
     "text": [
      "{'FullBody': {'All': 153.5186309814453, 'Reacting': 148.50225830078125, 'LowerStretching': 144.54965209960938, 'UpperStretching': 161.3280029296875, 'Walking': 151.55943298339844, 'Gaming': 126.30793762207031, 'Gesticuling': 121.35340118408203, 'Greeting': 130.84274291992188, 'Patting': 126.06505584716797, 'Talking': 109.29997253417969}, 'UpperBody': {'All': 107.75904846191406, 'Reacting': 111.92192077636719, 'LowerStretching': 85.19415283203125, 'UpperStretching': 120.12389373779297, 'Walking': 89.73790740966797, 'Gaming': 89.75856018066406, 'Gesticuling': 104.08235931396484, 'Greeting': 81.56683349609375, 'Patting': 92.64838409423828, 'Talking': 78.11328887939453}, 'LowerBody': {'All': 199.27822875976562, 'Reacting': 185.08261108398438, 'LowerStretching': 203.9051055908203, 'UpperStretching': 202.5321502685547, 'Walking': 213.38096618652344, 'Gaming': 162.85731506347656, 'Gesticuling': 138.62442016601562, 'Greeting': 180.11866760253906, 'Patting': 159.48171997070312, 'Talking': 140.48666381835938}}\n"
     ]
    },
    {
     "name": "stderr",
     "output_type": "stream",
     "text": [
      " 97%|█████████▋| 5200/5352 [19:00<00:34,  4.42it/s]"
     ]
    },
    {
     "name": "stdout",
     "output_type": "stream",
     "text": [
      "{'FullBody': {'All': 153.49642944335938, 'Reacting': 148.74966430664062, 'LowerStretching': 144.5199737548828, 'UpperStretching': 161.34193420410156, 'Walking': 151.35179138183594, 'Gaming': 126.39163208007812, 'Gesticuling': 121.4663314819336, 'Greeting': 130.4034881591797, 'Patting': 126.0975341796875, 'Talking': 108.96391296386719}, 'UpperBody': {'All': 107.7550277709961, 'Reacting': 112.12672424316406, 'LowerStretching': 85.18098449707031, 'UpperStretching': 120.15653228759766, 'Walking': 89.64867401123047, 'Gaming': 89.60042572021484, 'Gesticuling': 104.28075408935547, 'Greeting': 81.3112564086914, 'Patting': 92.6304702758789, 'Talking': 77.94660186767578}, 'LowerBody': {'All': 199.23780822753906, 'Reacting': 185.37261962890625, 'LowerStretching': 203.8589630126953, 'UpperStretching': 202.52737426757812, 'Walking': 213.05491638183594, 'Gaming': 163.1828155517578, 'Gesticuling': 138.65191650390625, 'Greeting': 179.4957275390625, 'Patting': 159.56459045410156, 'Talking': 139.98121643066406}}\n"
     ]
    },
    {
     "name": "stderr",
     "output_type": "stream",
     "text": [
      "100%|██████████| 5352/5352 [19:34<00:00,  4.56it/s]\n",
      "\u001b[94m09:23:00 \u001b[92m[INFO]\u001b[94m Main\u001b[0m: Saving evaluation results...\n",
      "\u001b[94m09:23:00 \u001b[92m[INFO]\u001b[94m Main\u001b[0m: Done.\n",
      "\u001b[94m09:23:00 \u001b[92m[INFO]\u001b[94m Main\u001b[0m: Starting demo...\n",
      "  0%|          | 0/5352 [00:00<?, ?it/s]/opt/conda/lib/python3.10/site-packages/torchvision/transforms/transforms.py:329: UserWarning: Argument 'interpolation' of type int is deprecated since 0.13 and will be removed in 0.15. Please use InterpolationMode enum.\n",
      "  warnings.warn(\n",
      "/opt/conda/lib/python3.10/site-packages/torchvision/transforms/transforms.py:329: UserWarning: Argument 'interpolation' of type int is deprecated since 0.13 and will be removed in 0.15. Please use InterpolationMode enum.\n",
      "  warnings.warn(\n",
      "/opt/conda/lib/python3.10/site-packages/torchvision/transforms/transforms.py:329: UserWarning: Argument 'interpolation' of type int is deprecated since 0.13 and will be removed in 0.15. Please use InterpolationMode enum.\n",
      "  warnings.warn(\n",
      "/opt/conda/lib/python3.10/site-packages/torchvision/transforms/transforms.py:329: UserWarning: Argument 'interpolation' of type int is deprecated since 0.13 and will be removed in 0.15. Please use InterpolationMode enum.\n",
      "  warnings.warn(\n",
      "/opt/conda/lib/python3.10/site-packages/torchvision/transforms/transforms.py:329: UserWarning: Argument 'interpolation' of type int is deprecated since 0.13 and will be removed in 0.15. Please use InterpolationMode enum.\n",
      "  warnings.warn(\n",
      "/opt/conda/lib/python3.10/site-packages/torchvision/transforms/transforms.py:329: UserWarning: Argument 'interpolation' of type int is deprecated since 0.13 and will be removed in 0.15. Please use InterpolationMode enum.\n",
      "  warnings.warn(\n",
      "/opt/conda/lib/python3.10/site-packages/torchvision/transforms/transforms.py:329: UserWarning: Argument 'interpolation' of type int is deprecated since 0.13 and will be removed in 0.15. Please use InterpolationMode enum.\n",
      "  warnings.warn(\n",
      "/opt/conda/lib/python3.10/site-packages/torchvision/transforms/transforms.py:329: UserWarning: Argument 'interpolation' of type int is deprecated since 0.13 and will be removed in 0.15. Please use InterpolationMode enum.\n",
      "  warnings.warn(\n",
      "/opt/conda/lib/python3.10/site-packages/torchvision/transforms/transforms.py:329: UserWarning: Argument 'interpolation' of type int is deprecated since 0.13 and will be removed in 0.15. Please use InterpolationMode enum.\n",
      "  warnings.warn(\n",
      "/opt/conda/lib/python3.10/site-packages/torchvision/transforms/transforms.py:329: UserWarning: Argument 'interpolation' of type int is deprecated since 0.13 and will be removed in 0.15. Please use InterpolationMode enum.\n",
      "  warnings.warn(\n",
      "/opt/conda/lib/python3.10/site-packages/torchvision/transforms/transforms.py:329: UserWarning: Argument 'interpolation' of type int is deprecated since 0.13 and will be removed in 0.15. Please use InterpolationMode enum.\n",
      "  warnings.warn(\n",
      "/opt/conda/lib/python3.10/site-packages/torchvision/transforms/transforms.py:329: UserWarning: Argument 'interpolation' of type int is deprecated since 0.13 and will be removed in 0.15. Please use InterpolationMode enum.\n",
      "  warnings.warn(\n",
      "/opt/conda/lib/python3.10/site-packages/torchvision/transforms/transforms.py:329: UserWarning: Argument 'interpolation' of type int is deprecated since 0.13 and will be removed in 0.15. Please use InterpolationMode enum.\n",
      "  warnings.warn(\n",
      "/opt/conda/lib/python3.10/site-packages/torchvision/transforms/transforms.py:329: UserWarning: Argument 'interpolation' of type int is deprecated since 0.13 and will be removed in 0.15. Please use InterpolationMode enum.\n",
      "  warnings.warn(\n",
      "/opt/conda/lib/python3.10/site-packages/torchvision/transforms/transforms.py:329: UserWarning: Argument 'interpolation' of type int is deprecated since 0.13 and will be removed in 0.15. Please use InterpolationMode enum.\n",
      "  warnings.warn(\n",
      "/opt/conda/lib/python3.10/site-packages/torchvision/transforms/transforms.py:329: UserWarning: Argument 'interpolation' of type int is deprecated since 0.13 and will be removed in 0.15. Please use InterpolationMode enum.\n",
      "  warnings.warn(\n",
      "/opt/conda/lib/python3.10/site-packages/torchvision/transforms/transforms.py:329: UserWarning: Argument 'interpolation' of type int is deprecated since 0.13 and will be removed in 0.15. Please use InterpolationMode enum.\n",
      "  warnings.warn(\n",
      "/opt/conda/lib/python3.10/site-packages/torchvision/transforms/transforms.py:329: UserWarning: Argument 'interpolation' of type int is deprecated since 0.13 and will be removed in 0.15. Please use InterpolationMode enum.\n",
      "  warnings.warn(\n",
      "/opt/conda/lib/python3.10/site-packages/torchvision/transforms/transforms.py:329: UserWarning: Argument 'interpolation' of type int is deprecated since 0.13 and will be removed in 0.15. Please use InterpolationMode enum.\n",
      "  warnings.warn(\n",
      "/opt/conda/lib/python3.10/site-packages/torchvision/transforms/transforms.py:329: UserWarning: Argument 'interpolation' of type int is deprecated since 0.13 and will be removed in 0.15. Please use InterpolationMode enum.\n",
      "  warnings.warn(\n",
      "/opt/conda/lib/python3.10/site-packages/torchvision/transforms/transforms.py:329: UserWarning: Argument 'interpolation' of type int is deprecated since 0.13 and will be removed in 0.15. Please use InterpolationMode enum.\n",
      "  warnings.warn(\n",
      "/opt/conda/lib/python3.10/site-packages/torchvision/transforms/transforms.py:329: UserWarning: Argument 'interpolation' of type int is deprecated since 0.13 and will be removed in 0.15. Please use InterpolationMode enum.\n",
      "  warnings.warn(\n",
      "/opt/conda/lib/python3.10/site-packages/torchvision/transforms/transforms.py:329: UserWarning: Argument 'interpolation' of type int is deprecated since 0.13 and will be removed in 0.15. Please use InterpolationMode enum.\n",
      "  warnings.warn(\n",
      "/opt/conda/lib/python3.10/site-packages/torchvision/transforms/transforms.py:329: UserWarning: Argument 'interpolation' of type int is deprecated since 0.13 and will be removed in 0.15. Please use InterpolationMode enum.\n",
      "  warnings.warn(\n",
      "  4%|▎         | 200/5352 [00:48<18:32,  4.63it/s]"
     ]
    },
    {
     "name": "stdout",
     "output_type": "stream",
     "text": [
      "{'FullBody': {'All': 130.1425018310547, 'Gesticuling': 91.29776763916016, 'UpperStretching': 138.80686950683594, 'Walking': 118.70476531982422, 'LowerStretching': 124.15131378173828, 'Gaming': 106.41272735595703, 'Reacting': 112.15863037109375, 'Greeting': 93.06188201904297, 'Patting': 133.55453491210938, 'Talking': 96.39662170410156}, 'UpperBody': {'All': 113.2881088256836, 'Gesticuling': 96.68827819824219, 'UpperStretching': 127.98193359375, 'Walking': 89.76705169677734, 'LowerStretching': 89.69332122802734, 'Gaming': 101.2703857421875, 'Reacting': 109.5132827758789, 'Greeting': 84.22237396240234, 'Patting': 108.2603530883789, 'Talking': 81.76956176757812}, 'LowerBody': {'All': 146.9969024658203, 'Gesticuling': 85.90725708007812, 'UpperStretching': 149.63180541992188, 'Walking': 147.6425018310547, 'LowerStretching': 158.6092987060547, 'Gaming': 111.55506896972656, 'Reacting': 114.80396270751953, 'Greeting': 101.9013900756836, 'Patting': 158.84869384765625, 'Talking': 111.02371215820312}}\n"
     ]
    },
    {
     "name": "stderr",
     "output_type": "stream",
     "text": [
      "  7%|▋         | 400/5352 [01:32<17:57,  4.59it/s]"
     ]
    },
    {
     "name": "stdout",
     "output_type": "stream",
     "text": [
      "{'FullBody': {'All': 131.21640014648438, 'Gesticuling': 92.88838958740234, 'UpperStretching': 138.50296020507812, 'Walking': 123.0031509399414, 'LowerStretching': 126.74707794189453, 'Gaming': 114.33345031738281, 'Reacting': 121.49810791015625, 'Greeting': 91.65985107421875, 'Patting': 126.60213470458984, 'Talking': 94.71194458007812}, 'UpperBody': {'All': 113.65489959716797, 'Gesticuling': 102.24677276611328, 'UpperStretching': 127.16068267822266, 'Walking': 91.02619934082031, 'LowerStretching': 89.68490600585938, 'Gaming': 110.45784759521484, 'Reacting': 119.71363830566406, 'Greeting': 80.4073257446289, 'Patting': 104.8683853149414, 'Talking': 83.88990783691406}, 'LowerBody': {'All': 148.7779083251953, 'Gesticuling': 83.52999114990234, 'UpperStretching': 149.84521484375, 'Walking': 154.9801025390625, 'LowerStretching': 163.80923461914062, 'Gaming': 118.20906829833984, 'Reacting': 123.28255462646484, 'Greeting': 102.91238403320312, 'Patting': 148.33587646484375, 'Talking': 105.53398895263672}}\n"
     ]
    },
    {
     "name": "stderr",
     "output_type": "stream",
     "text": [
      " 11%|█         | 600/5352 [02:15<17:07,  4.63it/s]"
     ]
    },
    {
     "name": "stdout",
     "output_type": "stream",
     "text": [
      "{'FullBody': {'All': 130.57518005371094, 'Gesticuling': 94.66719818115234, 'UpperStretching': 138.01438903808594, 'Walking': 121.08441925048828, 'LowerStretching': 126.92325592041016, 'Gaming': 114.4371337890625, 'Reacting': 122.75848388671875, 'Greeting': 91.94658660888672, 'Patting': 125.8744888305664, 'Talking': 91.13652801513672}, 'UpperBody': {'All': 113.35057067871094, 'Gesticuling': 104.84408569335938, 'UpperStretching': 127.17410278320312, 'Walking': 90.64861297607422, 'LowerStretching': 89.87802124023438, 'Gaming': 109.03453063964844, 'Reacting': 121.22017669677734, 'Greeting': 80.86597442626953, 'Patting': 99.00279998779297, 'Talking': 83.1624755859375}, 'LowerBody': {'All': 147.79977416992188, 'Gesticuling': 84.49032592773438, 'UpperStretching': 148.85467529296875, 'Walking': 151.5202178955078, 'LowerStretching': 163.968505859375, 'Gaming': 119.8397445678711, 'Reacting': 124.29682159423828, 'Greeting': 103.0271987915039, 'Patting': 152.74615478515625, 'Talking': 99.1105728149414}}\n"
     ]
    },
    {
     "name": "stderr",
     "output_type": "stream",
     "text": [
      " 15%|█▍        | 800/5352 [02:59<16:49,  4.51it/s]"
     ]
    },
    {
     "name": "stdout",
     "output_type": "stream",
     "text": [
      "{'FullBody': {'All': 130.87353515625, 'Gesticuling': 97.33756256103516, 'UpperStretching': 138.33941650390625, 'Walking': 120.6706771850586, 'LowerStretching': 127.3531265258789, 'Gaming': 111.60320281982422, 'Reacting': 124.47261047363281, 'Greeting': 92.72606658935547, 'Patting': 122.54174041748047, 'Talking': 89.91239929199219}, 'UpperBody': {'All': 113.571533203125, 'Gesticuling': 108.31511688232422, 'UpperStretching': 127.29344177246094, 'Walking': 90.51045227050781, 'LowerStretching': 90.06182861328125, 'Gaming': 106.11033630371094, 'Reacting': 122.80780792236328, 'Greeting': 82.83065032958984, 'Patting': 95.53369903564453, 'Talking': 81.98931121826172}, 'LowerBody': {'All': 148.17552185058594, 'Gesticuling': 86.3599853515625, 'UpperStretching': 149.38540649414062, 'Walking': 150.83090209960938, 'LowerStretching': 164.64442443847656, 'Gaming': 117.0960693359375, 'Reacting': 126.13740539550781, 'Greeting': 102.6214828491211, 'Patting': 149.54981994628906, 'Talking': 97.83547973632812}}\n"
     ]
    },
    {
     "name": "stderr",
     "output_type": "stream",
     "text": [
      " 19%|█▊        | 1000/5352 [03:42<16:13,  4.47it/s]"
     ]
    },
    {
     "name": "stdout",
     "output_type": "stream",
     "text": [
      "{'FullBody': {'All': 131.0823974609375, 'Gesticuling': 96.66691589355469, 'UpperStretching': 138.7050018310547, 'Walking': 119.53910064697266, 'LowerStretching': 127.92984771728516, 'Gaming': 111.74759674072266, 'Reacting': 125.21794128417969, 'Greeting': 91.34443664550781, 'Patting': 122.90541076660156, 'Talking': 89.07360076904297}, 'UpperBody': {'All': 113.70513916015625, 'Gesticuling': 107.46984100341797, 'UpperStretching': 127.7005615234375, 'Walking': 89.6344223022461, 'LowerStretching': 90.3576431274414, 'Gaming': 104.75198364257812, 'Reacting': 123.76826477050781, 'Greeting': 81.59456634521484, 'Patting': 94.69113159179688, 'Talking': 80.95291137695312}, 'LowerBody': {'All': 148.45962524414062, 'Gesticuling': 85.86400604248047, 'UpperStretching': 149.7094268798828, 'Walking': 149.4437713623047, 'LowerStretching': 165.50204467773438, 'Gaming': 118.74320220947266, 'Reacting': 126.66761779785156, 'Greeting': 101.09430694580078, 'Patting': 151.11968994140625, 'Talking': 97.19427490234375}}\n"
     ]
    },
    {
     "name": "stderr",
     "output_type": "stream",
     "text": [
      " 22%|██▏       | 1200/5352 [04:26<15:24,  4.49it/s]"
     ]
    },
    {
     "name": "stdout",
     "output_type": "stream",
     "text": [
      "{'FullBody': {'All': 131.07003784179688, 'Gesticuling': 95.77825927734375, 'UpperStretching': 138.73098754882812, 'Walking': 119.78536224365234, 'LowerStretching': 128.2784423828125, 'Gaming': 110.95515441894531, 'Reacting': 125.41271209716797, 'Greeting': 91.6324691772461, 'Patting': 120.22437286376953, 'Talking': 89.17259216308594}, 'UpperBody': {'All': 113.58267974853516, 'Gesticuling': 105.97679138183594, 'UpperStretching': 127.60026550292969, 'Walking': 90.3423080444336, 'LowerStretching': 90.38690185546875, 'Gaming': 103.22144317626953, 'Reacting': 123.32307434082031, 'Greeting': 81.16508483886719, 'Patting': 93.18470001220703, 'Talking': 81.69572448730469}, 'LowerBody': {'All': 148.55738830566406, 'Gesticuling': 85.5797348022461, 'UpperStretching': 149.8616943359375, 'Walking': 149.22842407226562, 'LowerStretching': 166.16998291015625, 'Gaming': 118.68887329101562, 'Reacting': 127.50236511230469, 'Greeting': 102.099853515625, 'Patting': 147.2640380859375, 'Talking': 96.64946746826172}}\n"
     ]
    },
    {
     "name": "stderr",
     "output_type": "stream",
     "text": [
      " 26%|██▌       | 1400/5352 [05:10<14:44,  4.47it/s]"
     ]
    },
    {
     "name": "stdout",
     "output_type": "stream",
     "text": [
      "{'FullBody': {'All': 131.34678649902344, 'Gesticuling': 95.65052032470703, 'UpperStretching': 138.9914093017578, 'Walking': 119.62663269042969, 'LowerStretching': 128.8498077392578, 'Gaming': 111.22813415527344, 'Reacting': 126.18270111083984, 'Greeting': 89.70972442626953, 'Patting': 117.57177734375, 'Talking': 89.17086791992188}, 'UpperBody': {'All': 113.77207946777344, 'Gesticuling': 106.2927474975586, 'UpperStretching': 127.7822265625, 'Walking': 90.2962646484375, 'LowerStretching': 90.66807556152344, 'Gaming': 103.48970794677734, 'Reacting': 123.88179779052734, 'Greeting': 79.37175750732422, 'Patting': 90.99433898925781, 'Talking': 81.10011291503906}, 'LowerBody': {'All': 148.92149353027344, 'Gesticuling': 85.00828552246094, 'UpperStretching': 150.2006072998047, 'Walking': 148.95701599121094, 'LowerStretching': 167.03152465820312, 'Gaming': 118.96656036376953, 'Reacting': 128.48361206054688, 'Greeting': 100.04767608642578, 'Patting': 144.14920043945312, 'Talking': 97.24161529541016}}\n"
     ]
    },
    {
     "name": "stderr",
     "output_type": "stream",
     "text": [
      " 30%|██▉       | 1600/5352 [05:53<13:38,  4.58it/s]"
     ]
    },
    {
     "name": "stdout",
     "output_type": "stream",
     "text": [
      "{'FullBody': {'All': 131.32574462890625, 'Gesticuling': 96.5887222290039, 'UpperStretching': 138.95896911621094, 'Walking': 120.00224304199219, 'LowerStretching': 128.90542602539062, 'Gaming': 110.86754608154297, 'Reacting': 124.1379623413086, 'Greeting': 89.14912414550781, 'Patting': 116.55524444580078, 'Talking': 88.88665008544922}, 'UpperBody': {'All': 113.78636932373047, 'Gesticuling': 107.50421905517578, 'UpperStretching': 127.74510955810547, 'Walking': 90.14885711669922, 'LowerStretching': 90.84623718261719, 'Gaming': 102.45509338378906, 'Reacting': 122.42452239990234, 'Greeting': 78.61404418945312, 'Patting': 91.23521423339844, 'Talking': 81.36921691894531}, 'LowerBody': {'All': 148.8651580810547, 'Gesticuling': 85.6732177734375, 'UpperStretching': 150.17282104492188, 'Walking': 149.85562133789062, 'LowerStretching': 166.96461486816406, 'Gaming': 119.27999877929688, 'Reacting': 125.85139465332031, 'Greeting': 99.68419647216797, 'Patting': 141.8752899169922, 'Talking': 96.40406799316406}}\n"
     ]
    },
    {
     "name": "stderr",
     "output_type": "stream",
     "text": [
      " 34%|███▎      | 1800/5352 [06:37<12:52,  4.60it/s]"
     ]
    },
    {
     "name": "stdout",
     "output_type": "stream",
     "text": [
      "{'FullBody': {'All': 131.36705017089844, 'Gesticuling': 98.20782470703125, 'UpperStretching': 139.0408477783203, 'Walking': 119.8479232788086, 'LowerStretching': 128.70245361328125, 'Gaming': 110.2301254272461, 'Reacting': 123.22349548339844, 'Greeting': 89.73281860351562, 'Patting': 117.10516357421875, 'Talking': 89.00814819335938}, 'UpperBody': {'All': 113.68806457519531, 'Gesticuling': 110.16117858886719, 'UpperStretching': 127.5599594116211, 'Walking': 89.9145736694336, 'LowerStretching': 90.53359985351562, 'Gaming': 102.629638671875, 'Reacting': 121.48908233642578, 'Greeting': 78.83058166503906, 'Patting': 92.05706024169922, 'Talking': 81.46289825439453}, 'LowerBody': {'All': 149.04603576660156, 'Gesticuling': 86.25447845458984, 'UpperStretching': 150.52175903320312, 'Walking': 149.78128051757812, 'LowerStretching': 166.8712921142578, 'Gaming': 117.83060455322266, 'Reacting': 124.9578857421875, 'Greeting': 100.63505554199219, 'Patting': 142.15328979492188, 'Talking': 96.55339813232422}}\n"
     ]
    },
    {
     "name": "stderr",
     "output_type": "stream",
     "text": [
      " 37%|███▋      | 2000/5352 [07:21<12:15,  4.56it/s]"
     ]
    },
    {
     "name": "stdout",
     "output_type": "stream",
     "text": [
      "{'FullBody': {'All': 131.31234741210938, 'Gesticuling': 99.10660552978516, 'UpperStretching': 139.01824951171875, 'Walking': 119.86560821533203, 'LowerStretching': 128.71685791015625, 'Gaming': 109.58091735839844, 'Reacting': 123.03313446044922, 'Greeting': 90.02957153320312, 'Patting': 116.12800598144531, 'Talking': 88.58879089355469}, 'UpperBody': {'All': 113.66590881347656, 'Gesticuling': 111.81559753417969, 'UpperStretching': 127.50390625, 'Walking': 89.93855285644531, 'LowerStretching': 90.58039855957031, 'Gaming': 101.54597473144531, 'Reacting': 121.04998779296875, 'Greeting': 78.91706848144531, 'Patting': 91.90162658691406, 'Talking': 81.20675659179688}, 'LowerBody': {'All': 148.9587860107422, 'Gesticuling': 86.39762115478516, 'UpperStretching': 150.53260803222656, 'Walking': 149.79266357421875, 'LowerStretching': 166.85330200195312, 'Gaming': 117.6158676147461, 'Reacting': 125.01629638671875, 'Greeting': 101.14208221435547, 'Patting': 140.35438537597656, 'Talking': 95.97083282470703}}\n"
     ]
    },
    {
     "name": "stderr",
     "output_type": "stream",
     "text": [
      " 41%|████      | 2200/5352 [08:04<11:58,  4.39it/s]"
     ]
    },
    {
     "name": "stdout",
     "output_type": "stream",
     "text": [
      "{'FullBody': {'All': 131.1581268310547, 'Gesticuling': 99.22480773925781, 'UpperStretching': 138.74005126953125, 'Walking': 119.69976043701172, 'LowerStretching': 128.9356231689453, 'Gaming': 109.44554138183594, 'Reacting': 122.47115325927734, 'Greeting': 89.80314636230469, 'Patting': 116.06297302246094, 'Talking': 88.17921447753906}, 'UpperBody': {'All': 113.6450424194336, 'Gesticuling': 112.06591796875, 'UpperStretching': 127.42691040039062, 'Walking': 89.76593017578125, 'LowerStretching': 90.77437591552734, 'Gaming': 102.1961898803711, 'Reacting': 120.24488830566406, 'Greeting': 78.84916687011719, 'Patting': 91.4201431274414, 'Talking': 80.65308380126953}, 'LowerBody': {'All': 148.67120361328125, 'Gesticuling': 86.38369750976562, 'UpperStretching': 150.05320739746094, 'Walking': 149.63360595703125, 'LowerStretching': 167.0968780517578, 'Gaming': 116.69489288330078, 'Reacting': 124.69743347167969, 'Greeting': 100.75713348388672, 'Patting': 140.70579528808594, 'Talking': 95.70536041259766}}\n"
     ]
    },
    {
     "name": "stderr",
     "output_type": "stream",
     "text": [
      " 45%|████▍     | 2400/5352 [08:48<10:54,  4.51it/s]"
     ]
    },
    {
     "name": "stdout",
     "output_type": "stream",
     "text": [
      "{'FullBody': {'All': 131.26806640625, 'Gesticuling': 99.68238067626953, 'UpperStretching': 138.9558563232422, 'Walking': 119.43572235107422, 'LowerStretching': 128.92262268066406, 'Gaming': 109.82413482666016, 'Reacting': 122.15013885498047, 'Greeting': 90.33042907714844, 'Patting': 116.38386535644531, 'Talking': 88.33868408203125}, 'UpperBody': {'All': 113.83984375, 'Gesticuling': 112.60414123535156, 'UpperStretching': 127.68759155273438, 'Walking': 89.55781555175781, 'LowerStretching': 90.86174011230469, 'Gaming': 102.69667053222656, 'Reacting': 120.10484313964844, 'Greeting': 79.13777160644531, 'Patting': 91.80619049072266, 'Talking': 81.15058898925781}, 'LowerBody': {'All': 148.69625854492188, 'Gesticuling': 86.76061248779297, 'UpperStretching': 150.22413635253906, 'Walking': 149.3136444091797, 'LowerStretching': 166.9835205078125, 'Gaming': 116.95159912109375, 'Reacting': 124.1954345703125, 'Greeting': 101.52307891845703, 'Patting': 140.96153259277344, 'Talking': 95.52678680419922}}\n"
     ]
    },
    {
     "name": "stderr",
     "output_type": "stream",
     "text": [
      " 49%|████▊     | 2600/5352 [09:32<10:20,  4.44it/s]"
     ]
    },
    {
     "name": "stdout",
     "output_type": "stream",
     "text": [
      "{'FullBody': {'All': 131.38946533203125, 'Gesticuling': 100.51287841796875, 'UpperStretching': 139.2530059814453, 'Walking': 119.41630554199219, 'LowerStretching': 128.77651977539062, 'Gaming': 110.11289978027344, 'Reacting': 121.79229736328125, 'Greeting': 89.85603332519531, 'Patting': 115.71380615234375, 'Talking': 87.96971893310547}, 'UpperBody': {'All': 113.86434936523438, 'Gesticuling': 113.77641296386719, 'UpperStretching': 127.78582000732422, 'Walking': 89.5391616821289, 'LowerStretching': 90.81958770751953, 'Gaming': 102.81854248046875, 'Reacting': 119.70137023925781, 'Greeting': 78.84199523925781, 'Patting': 91.17686462402344, 'Talking': 80.65711212158203}, 'LowerBody': {'All': 148.91455078125, 'Gesticuling': 87.24933624267578, 'UpperStretching': 150.72021484375, 'Walking': 149.29345703125, 'LowerStretching': 166.73345947265625, 'Gaming': 117.4072494506836, 'Reacting': 123.88322448730469, 'Greeting': 100.87007904052734, 'Patting': 140.25071716308594, 'Talking': 95.2823257446289}}\n"
     ]
    },
    {
     "name": "stderr",
     "output_type": "stream",
     "text": [
      " 52%|█████▏    | 2800/5352 [10:15<10:00,  4.25it/s]"
     ]
    },
    {
     "name": "stdout",
     "output_type": "stream",
     "text": [
      "{'FullBody': {'All': 131.34523010253906, 'Gesticuling': 101.07721710205078, 'UpperStretching': 139.18368530273438, 'Walking': 119.44278717041016, 'LowerStretching': 128.55360412597656, 'Gaming': 109.78459930419922, 'Reacting': 122.800048828125, 'Greeting': 89.91645812988281, 'Patting': 115.6400146484375, 'Talking': 87.87579345703125}, 'UpperBody': {'All': 113.88056945800781, 'Gesticuling': 114.4225845336914, 'UpperStretching': 127.7634506225586, 'Walking': 89.55641174316406, 'LowerStretching': 90.64093780517578, 'Gaming': 102.33238220214844, 'Reacting': 120.4698257446289, 'Greeting': 78.95702362060547, 'Patting': 91.2928695678711, 'Talking': 81.03942108154297}, 'LowerBody': {'All': 148.8098907470703, 'Gesticuling': 87.73184204101562, 'UpperStretching': 150.6039276123047, 'Walking': 149.3291473388672, 'LowerStretching': 166.46627807617188, 'Gaming': 117.23682403564453, 'Reacting': 125.13025665283203, 'Greeting': 100.87590026855469, 'Patting': 139.98716735839844, 'Talking': 94.712158203125}}\n"
     ]
    },
    {
     "name": "stderr",
     "output_type": "stream",
     "text": [
      " 56%|█████▌    | 3000/5352 [10:59<08:49,  4.44it/s]"
     ]
    },
    {
     "name": "stdout",
     "output_type": "stream",
     "text": [
      "{'FullBody': {'All': 131.39077758789062, 'Gesticuling': 101.03199005126953, 'UpperStretching': 139.3241729736328, 'Walking': 119.79788970947266, 'LowerStretching': 128.25575256347656, 'Gaming': 109.67283630371094, 'Reacting': 122.59492492675781, 'Greeting': 89.71405029296875, 'Patting': 115.46428680419922, 'Talking': 87.67300415039062}, 'UpperBody': {'All': 113.83624267578125, 'Gesticuling': 114.0389175415039, 'UpperStretching': 127.79859161376953, 'Walking': 89.59202575683594, 'LowerStretching': 90.43379211425781, 'Gaming': 102.66016387939453, 'Reacting': 120.55911254882812, 'Greeting': 78.65904235839844, 'Patting': 91.08617401123047, 'Talking': 80.95475769042969}, 'LowerBody': {'All': 148.94528198242188, 'Gesticuling': 88.0250473022461, 'UpperStretching': 150.84974670410156, 'Walking': 150.0037841796875, 'LowerStretching': 166.0777130126953, 'Gaming': 116.6855239868164, 'Reacting': 124.63074493408203, 'Greeting': 100.76905059814453, 'Patting': 139.8424072265625, 'Talking': 94.39125061035156}}\n"
     ]
    },
    {
     "name": "stderr",
     "output_type": "stream",
     "text": [
      " 60%|█████▉    | 3200/5352 [11:43<07:52,  4.56it/s]"
     ]
    },
    {
     "name": "stdout",
     "output_type": "stream",
     "text": [
      "{'FullBody': {'All': 131.3084716796875, 'Gesticuling': 100.6498031616211, 'UpperStretching': 139.18344116210938, 'Walking': 119.83613586425781, 'LowerStretching': 128.2736358642578, 'Gaming': 109.73590087890625, 'Reacting': 122.4806900024414, 'Greeting': 89.08677673339844, 'Patting': 115.9234848022461, 'Talking': 87.52597045898438}, 'UpperBody': {'All': 113.76502227783203, 'Gesticuling': 113.39987182617188, 'UpperStretching': 127.64505004882812, 'Walking': 89.80160522460938, 'LowerStretching': 90.41215515136719, 'Gaming': 102.8692855834961, 'Reacting': 120.54986572265625, 'Greeting': 78.24667358398438, 'Patting': 91.75670623779297, 'Talking': 80.83113098144531}, 'LowerBody': {'All': 148.85189819335938, 'Gesticuling': 87.89972686767578, 'UpperStretching': 150.7218475341797, 'Walking': 149.8706512451172, 'LowerStretching': 166.13510131835938, 'Gaming': 116.60250091552734, 'Reacting': 124.4114990234375, 'Greeting': 99.92689514160156, 'Patting': 140.0902557373047, 'Talking': 94.22080993652344}}\n"
     ]
    },
    {
     "name": "stderr",
     "output_type": "stream",
     "text": [
      " 64%|██████▎   | 3400/5352 [12:26<07:29,  4.34it/s]"
     ]
    },
    {
     "name": "stdout",
     "output_type": "stream",
     "text": [
      "{'FullBody': {'All': 131.1296844482422, 'Gesticuling': 100.39691925048828, 'UpperStretching': 138.96600341796875, 'Walking': 119.68484497070312, 'LowerStretching': 127.99563598632812, 'Gaming': 109.91141510009766, 'Reacting': 122.16926574707031, 'Greeting': 89.5174560546875, 'Patting': 116.09854125976562, 'Talking': 87.63534545898438}, 'UpperBody': {'All': 113.7364501953125, 'Gesticuling': 113.10513305664062, 'UpperStretching': 127.63571166992188, 'Walking': 89.77285766601562, 'LowerStretching': 90.22577667236328, 'Gaming': 102.94296264648438, 'Reacting': 120.04894256591797, 'Greeting': 78.07845306396484, 'Patting': 91.84681701660156, 'Talking': 81.073486328125}, 'LowerBody': {'All': 148.52288818359375, 'Gesticuling': 87.68869018554688, 'UpperStretching': 150.2963104248047, 'Walking': 149.59683227539062, 'LowerStretching': 165.7655029296875, 'Gaming': 116.8798599243164, 'Reacting': 124.28958129882812, 'Greeting': 100.95646667480469, 'Patting': 140.35025024414062, 'Talking': 94.19720458984375}}\n"
     ]
    },
    {
     "name": "stderr",
     "output_type": "stream",
     "text": [
      " 67%|██████▋   | 3600/5352 [13:10<06:30,  4.48it/s]"
     ]
    },
    {
     "name": "stdout",
     "output_type": "stream",
     "text": [
      "{'FullBody': {'All': 131.164306640625, 'Gesticuling': 100.52567291259766, 'UpperStretching': 138.8584747314453, 'Walking': 119.91484832763672, 'LowerStretching': 128.2638702392578, 'Gaming': 109.80547332763672, 'Reacting': 121.96224212646484, 'Greeting': 89.3167495727539, 'Patting': 116.35770416259766, 'Talking': 87.87748718261719}, 'UpperBody': {'All': 113.74961853027344, 'Gesticuling': 113.3786392211914, 'UpperStretching': 127.54468536376953, 'Walking': 89.81262969970703, 'LowerStretching': 90.31648254394531, 'Gaming': 103.03234100341797, 'Reacting': 119.9039535522461, 'Greeting': 77.90885162353516, 'Patting': 92.05415344238281, 'Talking': 81.36873626708984}, 'LowerBody': {'All': 148.5789794921875, 'Gesticuling': 87.6727066040039, 'UpperStretching': 150.17225646972656, 'Walking': 150.01705932617188, 'LowerStretching': 166.2112274169922, 'Gaming': 116.57860565185547, 'Reacting': 124.0205307006836, 'Greeting': 100.72463989257812, 'Patting': 140.66122436523438, 'Talking': 94.38623809814453}}\n"
     ]
    },
    {
     "name": "stderr",
     "output_type": "stream",
     "text": [
      " 71%|███████   | 3800/5352 [13:54<05:56,  4.35it/s]"
     ]
    },
    {
     "name": "stdout",
     "output_type": "stream",
     "text": [
      "{'FullBody': {'All': 131.08143615722656, 'Gesticuling': 100.67890167236328, 'UpperStretching': 138.76251220703125, 'Walking': 119.88867950439453, 'LowerStretching': 128.03713989257812, 'Gaming': 110.28712463378906, 'Reacting': 122.07569122314453, 'Greeting': 89.14697265625, 'Patting': 116.23908233642578, 'Talking': 87.88506317138672}, 'UpperBody': {'All': 113.77924346923828, 'Gesticuling': 113.8947982788086, 'UpperStretching': 127.55311584472656, 'Walking': 89.9239730834961, 'LowerStretching': 90.2429428100586, 'Gaming': 103.21294403076172, 'Reacting': 119.97709655761719, 'Greeting': 77.70545196533203, 'Patting': 92.0754165649414, 'Talking': 81.34586334228516}, 'LowerBody': {'All': 148.3836212158203, 'Gesticuling': 87.4630126953125, 'UpperStretching': 149.97189331054688, 'Walking': 149.85340881347656, 'LowerStretching': 165.8313446044922, 'Gaming': 117.36132049560547, 'Reacting': 124.17428588867188, 'Greeting': 100.58849334716797, 'Patting': 140.40272521972656, 'Talking': 94.42427825927734}}\n"
     ]
    },
    {
     "name": "stderr",
     "output_type": "stream",
     "text": [
      " 75%|███████▍  | 4000/5352 [14:38<05:10,  4.35it/s]"
     ]
    },
    {
     "name": "stdout",
     "output_type": "stream",
     "text": [
      "{'FullBody': {'All': 131.02638244628906, 'Gesticuling': 100.70182037353516, 'UpperStretching': 138.68812561035156, 'Walking': 119.92839050292969, 'LowerStretching': 127.81829833984375, 'Gaming': 110.50698852539062, 'Reacting': 122.46748352050781, 'Greeting': 89.53776550292969, 'Patting': 116.13632202148438, 'Talking': 88.03142547607422}, 'UpperBody': {'All': 113.75450134277344, 'Gesticuling': 113.93460083007812, 'UpperStretching': 127.5125732421875, 'Walking': 89.9321517944336, 'LowerStretching': 90.06452178955078, 'Gaming': 103.50313568115234, 'Reacting': 120.52472686767578, 'Greeting': 77.92524719238281, 'Patting': 91.99833679199219, 'Talking': 81.42828369140625}, 'LowerBody': {'All': 148.29824829101562, 'Gesticuling': 87.46904754638672, 'UpperStretching': 149.86367797851562, 'Walking': 149.9246368408203, 'LowerStretching': 165.5720672607422, 'Gaming': 117.5108413696289, 'Reacting': 124.41024780273438, 'Greeting': 101.15028381347656, 'Patting': 140.2743377685547, 'Talking': 94.63455963134766}}\n"
     ]
    },
    {
     "name": "stderr",
     "output_type": "stream",
     "text": [
      " 78%|███████▊  | 4200/5352 [15:21<04:16,  4.49it/s]"
     ]
    },
    {
     "name": "stdout",
     "output_type": "stream",
     "text": [
      "{'FullBody': {'All': 131.05438232421875, 'Gesticuling': 100.97100067138672, 'UpperStretching': 138.72137451171875, 'Walking': 120.01087951660156, 'LowerStretching': 127.73860168457031, 'Gaming': 109.96009063720703, 'Reacting': 122.08076477050781, 'Greeting': 89.6203384399414, 'Patting': 117.09513092041016, 'Talking': 88.20067596435547}, 'UpperBody': {'All': 113.6882095336914, 'Gesticuling': 114.03284454345703, 'UpperStretching': 127.43590545654297, 'Walking': 89.93038940429688, 'LowerStretching': 90.0300521850586, 'Gaming': 103.16310119628906, 'Reacting': 120.2618408203125, 'Greeting': 78.06829071044922, 'Patting': 92.0045166015625, 'Talking': 81.60389709472656}, 'LowerBody': {'All': 148.42054748535156, 'Gesticuling': 87.9091567993164, 'UpperStretching': 150.0068359375, 'Walking': 150.0913848876953, 'LowerStretching': 165.44715881347656, 'Gaming': 116.75707244873047, 'Reacting': 123.89970397949219, 'Greeting': 101.1723861694336, 'Patting': 142.18576049804688, 'Talking': 94.7974624633789}}\n"
     ]
    },
    {
     "name": "stderr",
     "output_type": "stream",
     "text": [
      " 82%|████████▏ | 4400/5352 [16:05<03:33,  4.45it/s]"
     ]
    },
    {
     "name": "stdout",
     "output_type": "stream",
     "text": [
      "{'FullBody': {'All': 131.0272674560547, 'Gesticuling': 100.59046936035156, 'UpperStretching': 138.7263641357422, 'Walking': 119.94215393066406, 'LowerStretching': 127.64578247070312, 'Gaming': 109.50923156738281, 'Reacting': 122.38465881347656, 'Greeting': 89.40575408935547, 'Patting': 117.2596206665039, 'Talking': 88.02808380126953}, 'UpperBody': {'All': 113.6662368774414, 'Gesticuling': 113.61045837402344, 'UpperStretching': 127.42711639404297, 'Walking': 89.85343170166016, 'LowerStretching': 90.00701141357422, 'Gaming': 102.73961639404297, 'Reacting': 120.92620849609375, 'Greeting': 77.84351348876953, 'Patting': 92.21961212158203, 'Talking': 81.67157745361328}, 'LowerBody': {'All': 148.38829040527344, 'Gesticuling': 87.57047271728516, 'UpperStretching': 150.02561950683594, 'Walking': 150.03086853027344, 'LowerStretching': 165.28456115722656, 'Gaming': 116.27881622314453, 'Reacting': 123.84310913085938, 'Greeting': 100.96800231933594, 'Patting': 142.29962158203125, 'Talking': 94.38459014892578}}\n"
     ]
    },
    {
     "name": "stderr",
     "output_type": "stream",
     "text": [
      " 86%|████████▌ | 4600/5352 [16:49<02:58,  4.21it/s]"
     ]
    },
    {
     "name": "stdout",
     "output_type": "stream",
     "text": [
      "{'FullBody': {'All': 131.00946044921875, 'Gesticuling': 100.57548522949219, 'UpperStretching': 138.6683349609375, 'Walking': 120.1198501586914, 'LowerStretching': 127.67556762695312, 'Gaming': 109.33842468261719, 'Reacting': 122.54537200927734, 'Greeting': 88.95545959472656, 'Patting': 117.32516479492188, 'Talking': 87.80430603027344}, 'UpperBody': {'All': 113.67147064208984, 'Gesticuling': 113.43362426757812, 'UpperStretching': 127.45893096923828, 'Walking': 90.01424407958984, 'LowerStretching': 89.9931869506836, 'Gaming': 102.53426361083984, 'Reacting': 120.992431640625, 'Greeting': 77.59706115722656, 'Patting': 91.94975280761719, 'Talking': 81.48529815673828}, 'LowerBody': {'All': 148.347412109375, 'Gesticuling': 87.71733093261719, 'UpperStretching': 149.8777313232422, 'Walking': 150.22544860839844, 'LowerStretching': 165.3579559326172, 'Gaming': 116.14258575439453, 'Reacting': 124.09831237792969, 'Greeting': 100.3138656616211, 'Patting': 142.70054626464844, 'Talking': 94.12328338623047}}\n"
     ]
    },
    {
     "name": "stderr",
     "output_type": "stream",
     "text": [
      " 90%|████████▉ | 4800/5352 [17:33<02:09,  4.27it/s]"
     ]
    },
    {
     "name": "stdout",
     "output_type": "stream",
     "text": [
      "{'FullBody': {'All': 130.99607849121094, 'Gesticuling': 100.31202697753906, 'UpperStretching': 138.6510772705078, 'Walking': 120.1881103515625, 'LowerStretching': 127.63518524169922, 'Gaming': 109.48491668701172, 'Reacting': 122.97789764404297, 'Greeting': 89.46210479736328, 'Patting': 116.53289031982422, 'Talking': 87.7019271850586}, 'UpperBody': {'All': 113.65361022949219, 'Gesticuling': 113.05785369873047, 'UpperStretching': 127.40031433105469, 'Walking': 90.17095184326172, 'LowerStretching': 90.00227355957031, 'Gaming': 102.73117065429688, 'Reacting': 121.34881591796875, 'Greeting': 77.96772003173828, 'Patting': 91.57392883300781, 'Talking': 81.54431915283203}, 'LowerBody': {'All': 148.33853149414062, 'Gesticuling': 87.56619262695312, 'UpperStretching': 149.90182495117188, 'Walking': 150.2052764892578, 'LowerStretching': 165.2681121826172, 'Gaming': 116.2386703491211, 'Reacting': 124.60697937011719, 'Greeting': 100.95648956298828, 'Patting': 141.49185180664062, 'Talking': 93.85952758789062}}\n"
     ]
    },
    {
     "name": "stderr",
     "output_type": "stream",
     "text": [
      " 93%|█████████▎| 5000/5352 [18:17<01:22,  4.29it/s]"
     ]
    },
    {
     "name": "stdout",
     "output_type": "stream",
     "text": [
      "{'FullBody': {'All': 131.014892578125, 'Gesticuling': 100.87454986572266, 'UpperStretching': 138.6407928466797, 'Walking': 120.17617797851562, 'LowerStretching': 127.6461410522461, 'Gaming': 109.43704223632812, 'Reacting': 123.16314697265625, 'Greeting': 90.0721664428711, 'Patting': 116.36981964111328, 'Talking': 87.63370513916016}, 'UpperBody': {'All': 113.64812469482422, 'Gesticuling': 113.8258285522461, 'UpperStretching': 127.36089324951172, 'Walking': 90.12984466552734, 'LowerStretching': 89.9571533203125, 'Gaming': 102.43025207519531, 'Reacting': 121.34039306640625, 'Greeting': 78.46968078613281, 'Patting': 91.4914779663086, 'Talking': 81.62535858154297}, 'LowerBody': {'All': 148.3816680908203, 'Gesticuling': 87.92325592041016, 'UpperStretching': 149.92068481445312, 'Walking': 150.2224884033203, 'LowerStretching': 165.3351287841797, 'Gaming': 116.44383239746094, 'Reacting': 124.98587036132812, 'Greeting': 101.67464447021484, 'Patting': 141.24818420410156, 'Talking': 93.64202880859375}}\n"
     ]
    },
    {
     "name": "stderr",
     "output_type": "stream",
     "text": [
      " 97%|█████████▋| 5200/5352 [19:00<00:34,  4.38it/s]"
     ]
    },
    {
     "name": "stdout",
     "output_type": "stream",
     "text": [
      "{'FullBody': {'All': 131.0504913330078, 'Gesticuling': 100.76876831054688, 'UpperStretching': 138.64215087890625, 'Walking': 120.25792694091797, 'LowerStretching': 127.78113555908203, 'Gaming': 109.48245239257812, 'Reacting': 122.9237060546875, 'Greeting': 90.39505004882812, 'Patting': 116.13990783691406, 'Talking': 87.5409164428711}, 'UpperBody': {'All': 113.70218658447266, 'Gesticuling': 113.5406723022461, 'UpperStretching': 127.4139633178711, 'Walking': 90.19957733154297, 'LowerStretching': 89.97527313232422, 'Gaming': 102.32958984375, 'Reacting': 121.19916534423828, 'Greeting': 78.78372955322266, 'Patting': 91.39717864990234, 'Talking': 81.66988372802734}, 'LowerBody': {'All': 148.39877319335938, 'Gesticuling': 87.99687957763672, 'UpperStretching': 149.87033081054688, 'Walking': 150.31625366210938, 'LowerStretching': 165.5869903564453, 'Gaming': 116.63530731201172, 'Reacting': 124.64825439453125, 'Greeting': 102.00637817382812, 'Patting': 140.88262939453125, 'Talking': 93.41195678710938}}\n"
     ]
    },
    {
     "name": "stderr",
     "output_type": "stream",
     "text": [
      "100%|██████████| 5352/5352 [19:34<00:00,  4.56it/s]\n",
      "\u001b[94m09:42:36 \u001b[92m[INFO]\u001b[94m Main\u001b[0m: Saving evaluation results...\n",
      "\u001b[94m09:42:36 \u001b[92m[INFO]\u001b[94m Main\u001b[0m: Done.\n",
      "\u001b[94m09:42:36 \u001b[92m[INFO]\u001b[94m Main\u001b[0m: Starting demo...\n",
      "  0%|          | 0/5352 [00:00<?, ?it/s]/opt/conda/lib/python3.10/site-packages/torchvision/transforms/transforms.py:329: UserWarning: Argument 'interpolation' of type int is deprecated since 0.13 and will be removed in 0.15. Please use InterpolationMode enum.\n",
      "  warnings.warn(\n",
      "/opt/conda/lib/python3.10/site-packages/torchvision/transforms/transforms.py:329: UserWarning: Argument 'interpolation' of type int is deprecated since 0.13 and will be removed in 0.15. Please use InterpolationMode enum.\n",
      "  warnings.warn(\n",
      "/opt/conda/lib/python3.10/site-packages/torchvision/transforms/transforms.py:329: UserWarning: Argument 'interpolation' of type int is deprecated since 0.13 and will be removed in 0.15. Please use InterpolationMode enum.\n",
      "  warnings.warn(\n",
      "/opt/conda/lib/python3.10/site-packages/torchvision/transforms/transforms.py:329: UserWarning: Argument 'interpolation' of type int is deprecated since 0.13 and will be removed in 0.15. Please use InterpolationMode enum.\n",
      "  warnings.warn(\n",
      "/opt/conda/lib/python3.10/site-packages/torchvision/transforms/transforms.py:329: UserWarning: Argument 'interpolation' of type int is deprecated since 0.13 and will be removed in 0.15. Please use InterpolationMode enum.\n",
      "  warnings.warn(\n",
      "/opt/conda/lib/python3.10/site-packages/torchvision/transforms/transforms.py:329: UserWarning: Argument 'interpolation' of type int is deprecated since 0.13 and will be removed in 0.15. Please use InterpolationMode enum.\n",
      "  warnings.warn(\n",
      "/opt/conda/lib/python3.10/site-packages/torchvision/transforms/transforms.py:329: UserWarning: Argument 'interpolation' of type int is deprecated since 0.13 and will be removed in 0.15. Please use InterpolationMode enum.\n",
      "  warnings.warn(\n",
      "/opt/conda/lib/python3.10/site-packages/torchvision/transforms/transforms.py:329: UserWarning: Argument 'interpolation' of type int is deprecated since 0.13 and will be removed in 0.15. Please use InterpolationMode enum.\n",
      "  warnings.warn(\n",
      "/opt/conda/lib/python3.10/site-packages/torchvision/transforms/transforms.py:329: UserWarning: Argument 'interpolation' of type int is deprecated since 0.13 and will be removed in 0.15. Please use InterpolationMode enum.\n",
      "  warnings.warn(\n",
      "/opt/conda/lib/python3.10/site-packages/torchvision/transforms/transforms.py:329: UserWarning: Argument 'interpolation' of type int is deprecated since 0.13 and will be removed in 0.15. Please use InterpolationMode enum.\n",
      "  warnings.warn(\n",
      "/opt/conda/lib/python3.10/site-packages/torchvision/transforms/transforms.py:329: UserWarning: Argument 'interpolation' of type int is deprecated since 0.13 and will be removed in 0.15. Please use InterpolationMode enum.\n",
      "  warnings.warn(\n",
      "/opt/conda/lib/python3.10/site-packages/torchvision/transforms/transforms.py:329: UserWarning: Argument 'interpolation' of type int is deprecated since 0.13 and will be removed in 0.15. Please use InterpolationMode enum.\n",
      "  warnings.warn(\n",
      "/opt/conda/lib/python3.10/site-packages/torchvision/transforms/transforms.py:329: UserWarning: Argument 'interpolation' of type int is deprecated since 0.13 and will be removed in 0.15. Please use InterpolationMode enum.\n",
      "  warnings.warn(\n",
      "/opt/conda/lib/python3.10/site-packages/torchvision/transforms/transforms.py:329: UserWarning: Argument 'interpolation' of type int is deprecated since 0.13 and will be removed in 0.15. Please use InterpolationMode enum.\n",
      "  warnings.warn(\n",
      "/opt/conda/lib/python3.10/site-packages/torchvision/transforms/transforms.py:329: UserWarning: Argument 'interpolation' of type int is deprecated since 0.13 and will be removed in 0.15. Please use InterpolationMode enum.\n",
      "  warnings.warn(\n",
      "/opt/conda/lib/python3.10/site-packages/torchvision/transforms/transforms.py:329: UserWarning: Argument 'interpolation' of type int is deprecated since 0.13 and will be removed in 0.15. Please use InterpolationMode enum.\n",
      "  warnings.warn(\n",
      "/opt/conda/lib/python3.10/site-packages/torchvision/transforms/transforms.py:329: UserWarning: Argument 'interpolation' of type int is deprecated since 0.13 and will be removed in 0.15. Please use InterpolationMode enum.\n",
      "  warnings.warn(\n",
      "/opt/conda/lib/python3.10/site-packages/torchvision/transforms/transforms.py:329: UserWarning: Argument 'interpolation' of type int is deprecated since 0.13 and will be removed in 0.15. Please use InterpolationMode enum.\n",
      "  warnings.warn(\n",
      "/opt/conda/lib/python3.10/site-packages/torchvision/transforms/transforms.py:329: UserWarning: Argument 'interpolation' of type int is deprecated since 0.13 and will be removed in 0.15. Please use InterpolationMode enum.\n",
      "  warnings.warn(\n",
      "/opt/conda/lib/python3.10/site-packages/torchvision/transforms/transforms.py:329: UserWarning: Argument 'interpolation' of type int is deprecated since 0.13 and will be removed in 0.15. Please use InterpolationMode enum.\n",
      "  warnings.warn(\n",
      "/opt/conda/lib/python3.10/site-packages/torchvision/transforms/transforms.py:329: UserWarning: Argument 'interpolation' of type int is deprecated since 0.13 and will be removed in 0.15. Please use InterpolationMode enum.\n",
      "  warnings.warn(\n",
      "/opt/conda/lib/python3.10/site-packages/torchvision/transforms/transforms.py:329: UserWarning: Argument 'interpolation' of type int is deprecated since 0.13 and will be removed in 0.15. Please use InterpolationMode enum.\n",
      "  warnings.warn(\n",
      "/opt/conda/lib/python3.10/site-packages/torchvision/transforms/transforms.py:329: UserWarning: Argument 'interpolation' of type int is deprecated since 0.13 and will be removed in 0.15. Please use InterpolationMode enum.\n",
      "  warnings.warn(\n",
      "/opt/conda/lib/python3.10/site-packages/torchvision/transforms/transforms.py:329: UserWarning: Argument 'interpolation' of type int is deprecated since 0.13 and will be removed in 0.15. Please use InterpolationMode enum.\n",
      "  warnings.warn(\n",
      "  4%|▎         | 200/5352 [00:49<18:39,  4.60it/s]"
     ]
    },
    {
     "name": "stdout",
     "output_type": "stream",
     "text": [
      "{'FullBody': {'All': 142.0359344482422, 'UpperStretching': 150.98275756835938, 'Patting': 123.05014038085938, 'LowerStretching': 131.44044494628906, 'Walking': 144.53868103027344, 'Gesticuling': 108.49671173095703, 'Reacting': 121.78626251220703, 'Greeting': 97.1170654296875, 'Talking': 97.62175750732422, 'Gaming': 109.51380157470703}, 'UpperBody': {'All': 122.41222381591797, 'UpperStretching': 137.90145874023438, 'Patting': 89.84355163574219, 'LowerStretching': 97.93841552734375, 'Walking': 108.87649536132812, 'Gesticuling': 109.20000457763672, 'Reacting': 109.54483032226562, 'Greeting': 80.12764739990234, 'Talking': 80.69996643066406, 'Gaming': 99.70618438720703}, 'LowerBody': {'All': 161.65965270996094, 'UpperStretching': 164.0640411376953, 'Patting': 156.25672912597656, 'LowerStretching': 164.94247436523438, 'Walking': 180.20086669921875, 'Gesticuling': 107.79341125488281, 'Reacting': 134.02767944335938, 'Greeting': 114.10649871826172, 'Talking': 114.5435562133789, 'Gaming': 119.32141876220703}}\n"
     ]
    },
    {
     "name": "stderr",
     "output_type": "stream",
     "text": [
      "  7%|▋         | 400/5352 [01:32<18:04,  4.57it/s]"
     ]
    },
    {
     "name": "stdout",
     "output_type": "stream",
     "text": [
      "{'FullBody': {'All': 142.63394165039062, 'UpperStretching': 151.45022583007812, 'Patting': 120.58345031738281, 'LowerStretching': 132.66624450683594, 'Walking': 144.9539337158203, 'Gesticuling': 107.69256591796875, 'Reacting': 126.28382873535156, 'Greeting': 99.59474182128906, 'Talking': 89.67454528808594, 'Gaming': 109.58360290527344}, 'UpperBody': {'All': 123.69783020019531, 'UpperStretching': 138.8551788330078, 'Patting': 92.18478393554688, 'LowerStretching': 100.1106185913086, 'Walking': 108.27144622802734, 'Gesticuling': 108.8625259399414, 'Reacting': 114.21613311767578, 'Greeting': 83.14556121826172, 'Talking': 82.96634674072266, 'Gaming': 98.70355224609375}, 'LowerBody': {'All': 161.57005310058594, 'UpperStretching': 164.0452423095703, 'Patting': 148.9821319580078, 'LowerStretching': 165.22186279296875, 'Walking': 181.63641357421875, 'Gesticuling': 106.52261352539062, 'Reacting': 138.35153198242188, 'Greeting': 116.04391479492188, 'Talking': 96.38276672363281, 'Gaming': 120.46366119384766}}\n"
     ]
    },
    {
     "name": "stderr",
     "output_type": "stream",
     "text": [
      " 11%|█         | 600/5352 [02:16<16:52,  4.69it/s]"
     ]
    },
    {
     "name": "stdout",
     "output_type": "stream",
     "text": [
      "{'FullBody': {'All': 143.06532287597656, 'UpperStretching': 151.09584045410156, 'Patting': 124.06731414794922, 'LowerStretching': 132.53604125976562, 'Walking': 147.81362915039062, 'Gesticuling': 108.7989501953125, 'Reacting': 128.13031005859375, 'Greeting': 99.76625061035156, 'Talking': 90.0361328125, 'Gaming': 108.9048080444336}, 'UpperBody': {'All': 123.85929870605469, 'UpperStretching': 138.26675415039062, 'Patting': 96.9691162109375, 'LowerStretching': 99.6543197631836, 'Walking': 110.56040954589844, 'Gesticuling': 111.68778991699219, 'Reacting': 115.38967895507812, 'Greeting': 83.5019302368164, 'Talking': 83.8390884399414, 'Gaming': 97.47029876708984}, 'LowerBody': {'All': 162.27134704589844, 'UpperStretching': 163.9249267578125, 'Patting': 151.16552734375, 'LowerStretching': 165.41778564453125, 'Walking': 185.0668182373047, 'Gesticuling': 105.91007232666016, 'Reacting': 140.87094116210938, 'Greeting': 116.03058624267578, 'Talking': 96.233154296875, 'Gaming': 120.3393325805664}}\n"
     ]
    },
    {
     "name": "stderr",
     "output_type": "stream",
     "text": [
      " 15%|█▍        | 800/5352 [02:59<16:38,  4.56it/s]"
     ]
    },
    {
     "name": "stdout",
     "output_type": "stream",
     "text": [
      "{'FullBody': {'All': 143.63369750976562, 'UpperStretching': 151.8778076171875, 'Patting': 126.17442321777344, 'LowerStretching': 132.0234375, 'Walking': 148.50662231445312, 'Gesticuling': 109.97470092773438, 'Reacting': 129.4398651123047, 'Greeting': 99.61116790771484, 'Talking': 90.48289489746094, 'Gaming': 111.43616485595703}, 'UpperBody': {'All': 124.50938415527344, 'UpperStretching': 139.46731567382812, 'Patting': 95.24091339111328, 'LowerStretching': 98.80960845947266, 'Walking': 110.73282623291016, 'Gesticuling': 113.93063354492188, 'Reacting': 116.99945831298828, 'Greeting': 84.02723693847656, 'Talking': 83.1551513671875, 'Gaming': 98.86375427246094}, 'LowerBody': {'All': 162.75799560546875, 'UpperStretching': 164.28831481933594, 'Patting': 157.10794067382812, 'LowerStretching': 165.2372589111328, 'Walking': 186.28042602539062, 'Gesticuling': 106.01876831054688, 'Reacting': 141.88027954101562, 'Greeting': 115.19507598876953, 'Talking': 97.81063079833984, 'Gaming': 124.00859832763672}}\n"
     ]
    },
    {
     "name": "stderr",
     "output_type": "stream",
     "text": [
      " 19%|█▊        | 1000/5352 [03:43<16:39,  4.35it/s]"
     ]
    },
    {
     "name": "stdout",
     "output_type": "stream",
     "text": [
      "{'FullBody': {'All': 143.30921936035156, 'UpperStretching': 151.5595703125, 'Patting': 121.24293518066406, 'LowerStretching': 131.2727508544922, 'Walking': 149.2805938720703, 'Gesticuling': 110.67556762695312, 'Reacting': 130.0290985107422, 'Greeting': 96.81263732910156, 'Talking': 89.67117309570312, 'Gaming': 109.9261703491211}, 'UpperBody': {'All': 124.18273162841797, 'UpperStretching': 139.0084228515625, 'Patting': 93.69715118408203, 'LowerStretching': 98.20364379882812, 'Walking': 111.30950927734375, 'Gesticuling': 114.34551239013672, 'Reacting': 117.69430541992188, 'Greeting': 81.87128448486328, 'Talking': 81.68081665039062, 'Gaming': 97.96336364746094}, 'LowerBody': {'All': 162.4357147216797, 'UpperStretching': 164.1107177734375, 'Patting': 148.78871154785156, 'LowerStretching': 164.3418731689453, 'Walking': 187.25167846679688, 'Gesticuling': 107.005615234375, 'Reacting': 142.3638916015625, 'Greeting': 111.7540054321289, 'Talking': 97.66152954101562, 'Gaming': 121.88898468017578}}\n"
     ]
    },
    {
     "name": "stderr",
     "output_type": "stream",
     "text": [
      " 22%|██▏       | 1200/5352 [04:27<15:10,  4.56it/s]"
     ]
    },
    {
     "name": "stdout",
     "output_type": "stream",
     "text": [
      "{'FullBody': {'All': 143.0821990966797, 'UpperStretching': 151.49856567382812, 'Patting': 121.44693756103516, 'LowerStretching': 130.56898498535156, 'Walking': 147.5416259765625, 'Gesticuling': 109.8633041381836, 'Reacting': 132.12588500976562, 'Greeting': 100.8363037109375, 'Talking': 89.07424926757812, 'Gaming': 109.925537109375}, 'UpperBody': {'All': 123.88531494140625, 'UpperStretching': 138.5420684814453, 'Patting': 93.80791473388672, 'LowerStretching': 97.55731964111328, 'Walking': 110.3265151977539, 'Gesticuling': 112.96501159667969, 'Reacting': 120.0243148803711, 'Greeting': 84.9131851196289, 'Talking': 81.54208374023438, 'Gaming': 98.33148193359375}, 'LowerBody': {'All': 162.27911376953125, 'UpperStretching': 164.45506286621094, 'Patting': 149.0859832763672, 'LowerStretching': 163.5806427001953, 'Walking': 184.7567138671875, 'Gesticuling': 106.76161193847656, 'Reacting': 144.2274627685547, 'Greeting': 116.7594223022461, 'Talking': 96.60641479492188, 'Gaming': 121.51957702636719}}\n"
     ]
    },
    {
     "name": "stderr",
     "output_type": "stream",
     "text": [
      " 26%|██▌       | 1400/5352 [05:10<14:28,  4.55it/s]"
     ]
    },
    {
     "name": "stdout",
     "output_type": "stream",
     "text": [
      "{'FullBody': {'All': 142.8153533935547, 'UpperStretching': 151.26998901367188, 'Patting': 121.96560668945312, 'LowerStretching': 130.24969482421875, 'Walking': 147.45071411132812, 'Gesticuling': 109.71072387695312, 'Reacting': 131.41290283203125, 'Greeting': 101.44155883789062, 'Talking': 87.7489242553711, 'Gaming': 110.74673461914062}, 'UpperBody': {'All': 123.59209442138672, 'UpperStretching': 138.26490783691406, 'Patting': 93.84052276611328, 'LowerStretching': 97.26467895507812, 'Walking': 110.33247375488281, 'Gesticuling': 113.02848815917969, 'Reacting': 119.84715270996094, 'Greeting': 85.40618896484375, 'Talking': 79.67530822753906, 'Gaming': 99.17572784423828}, 'LowerBody': {'All': 162.0386199951172, 'UpperStretching': 164.2751007080078, 'Patting': 150.0906982421875, 'LowerStretching': 163.23471069335938, 'Walking': 184.56893920898438, 'Gesticuling': 106.39295959472656, 'Reacting': 142.9786834716797, 'Greeting': 117.4769287109375, 'Talking': 95.8225326538086, 'Gaming': 122.31776428222656}}\n"
     ]
    },
    {
     "name": "stderr",
     "output_type": "stream",
     "text": [
      " 30%|██▉       | 1600/5352 [05:54<14:10,  4.41it/s]"
     ]
    },
    {
     "name": "stdout",
     "output_type": "stream",
     "text": [
      "{'FullBody': {'All': 142.7339324951172, 'UpperStretching': 151.3490447998047, 'Patting': 123.45845031738281, 'LowerStretching': 129.77947998046875, 'Walking': 146.8535614013672, 'Gesticuling': 109.10369110107422, 'Reacting': 131.4700469970703, 'Greeting': 100.3238754272461, 'Talking': 87.96835327148438, 'Gaming': 110.89225006103516}, 'UpperBody': {'All': 123.60086822509766, 'UpperStretching': 138.35861206054688, 'Patting': 95.40673828125, 'LowerStretching': 97.06285095214844, 'Walking': 109.61134338378906, 'Gesticuling': 112.75775146484375, 'Reacting': 120.80781555175781, 'Greeting': 84.71024322509766, 'Talking': 79.6285171508789, 'Gaming': 99.77985382080078}, 'LowerBody': {'All': 161.86700439453125, 'UpperStretching': 164.3394775390625, 'Patting': 151.51016235351562, 'LowerStretching': 162.49610900878906, 'Walking': 184.0957794189453, 'Gesticuling': 105.44962310791016, 'Reacting': 142.1322784423828, 'Greeting': 115.93753814697266, 'Talking': 96.3082046508789, 'Gaming': 122.004638671875}}\n"
     ]
    },
    {
     "name": "stderr",
     "output_type": "stream",
     "text": [
      " 34%|███▎      | 1800/5352 [06:37<13:19,  4.44it/s]"
     ]
    },
    {
     "name": "stdout",
     "output_type": "stream",
     "text": [
      "{'FullBody': {'All': 142.81617736816406, 'UpperStretching': 151.48524475097656, 'Patting': 123.97211456298828, 'LowerStretching': 129.63934326171875, 'Walking': 146.97845458984375, 'Gesticuling': 108.51781463623047, 'Reacting': 131.60328674316406, 'Greeting': 99.2308120727539, 'Talking': 87.49333190917969, 'Gaming': 110.89788055419922}, 'UpperBody': {'All': 123.76600646972656, 'UpperStretching': 138.60108947753906, 'Patting': 95.89850616455078, 'LowerStretching': 96.86255645751953, 'Walking': 109.64225006103516, 'Gesticuling': 112.24601745605469, 'Reacting': 120.9904556274414, 'Greeting': 83.8542251586914, 'Talking': 79.01953125, 'Gaming': 100.40206909179688}, 'LowerBody': {'All': 161.86634826660156, 'UpperStretching': 164.36936950683594, 'Patting': 152.04574584960938, 'LowerStretching': 162.4161376953125, 'Walking': 184.31463623046875, 'Gesticuling': 104.78958129882812, 'Reacting': 142.21612548828125, 'Greeting': 114.60739135742188, 'Talking': 95.96712493896484, 'Gaming': 121.39368438720703}}\n"
     ]
    },
    {
     "name": "stderr",
     "output_type": "stream",
     "text": [
      " 37%|███▋      | 2000/5352 [07:21<12:24,  4.50it/s]"
     ]
    },
    {
     "name": "stdout",
     "output_type": "stream",
     "text": [
      "{'FullBody': {'All': 142.7935333251953, 'UpperStretching': 151.2576141357422, 'Patting': 123.68463134765625, 'LowerStretching': 129.6328887939453, 'Walking': 148.17269897460938, 'Gesticuling': 108.07970428466797, 'Reacting': 131.7699737548828, 'Greeting': 98.64241027832031, 'Talking': 87.37944793701172, 'Gaming': 110.20442962646484}, 'UpperBody': {'All': 123.70552825927734, 'UpperStretching': 138.31089782714844, 'Patting': 96.11166381835938, 'LowerStretching': 96.79112243652344, 'Walking': 110.42727661132812, 'Gesticuling': 111.5120849609375, 'Reacting': 121.35987854003906, 'Greeting': 83.56114196777344, 'Talking': 79.05631256103516, 'Gaming': 99.80529022216797}, 'LowerBody': {'All': 161.88156127929688, 'UpperStretching': 164.20433044433594, 'Patting': 151.25759887695312, 'LowerStretching': 162.47467041015625, 'Walking': 185.91812133789062, 'Gesticuling': 104.64734649658203, 'Reacting': 142.18006896972656, 'Greeting': 113.72367095947266, 'Talking': 95.70257568359375, 'Gaming': 120.60359191894531}}\n"
     ]
    },
    {
     "name": "stderr",
     "output_type": "stream",
     "text": [
      " 41%|████      | 2200/5352 [08:05<12:21,  4.25it/s]"
     ]
    },
    {
     "name": "stdout",
     "output_type": "stream",
     "text": [
      "{'FullBody': {'All': 142.87770080566406, 'UpperStretching': 151.3390655517578, 'Patting': 124.16502380371094, 'LowerStretching': 129.47740173339844, 'Walking': 148.5033416748047, 'Gesticuling': 107.72723388671875, 'Reacting': 132.0735321044922, 'Greeting': 98.77144622802734, 'Talking': 88.62055206298828, 'Gaming': 110.13245391845703}, 'UpperBody': {'All': 123.8023452758789, 'UpperStretching': 138.31045532226562, 'Patting': 96.84178924560547, 'LowerStretching': 96.80037689208984, 'Walking': 110.5010986328125, 'Gesticuling': 110.76138305664062, 'Reacting': 121.29950714111328, 'Greeting': 83.63863372802734, 'Talking': 80.44831848144531, 'Gaming': 99.87075805664062}, 'LowerBody': {'All': 161.95306396484375, 'UpperStretching': 164.36764526367188, 'Patting': 151.4882354736328, 'LowerStretching': 162.15444946289062, 'Walking': 186.505615234375, 'Gesticuling': 104.69307708740234, 'Reacting': 142.84754943847656, 'Greeting': 113.90424346923828, 'Talking': 96.79278564453125, 'Gaming': 120.3941421508789}}\n"
     ]
    },
    {
     "name": "stderr",
     "output_type": "stream",
     "text": [
      " 45%|████▍     | 2400/5352 [08:49<10:59,  4.48it/s]"
     ]
    },
    {
     "name": "stdout",
     "output_type": "stream",
     "text": [
      "{'FullBody': {'All': 142.84092712402344, 'UpperStretching': 151.22169494628906, 'Patting': 123.9153060913086, 'LowerStretching': 129.86782836914062, 'Walking': 148.35189819335938, 'Gesticuling': 107.83580017089844, 'Reacting': 131.9688720703125, 'Greeting': 98.91224670410156, 'Talking': 88.49506378173828, 'Gaming': 110.15959167480469}, 'UpperBody': {'All': 123.64466094970703, 'UpperStretching': 138.1526336669922, 'Patting': 96.18891143798828, 'LowerStretching': 96.75405883789062, 'Walking': 110.56560516357422, 'Gesticuling': 111.0907974243164, 'Reacting': 120.6617431640625, 'Greeting': 83.67607879638672, 'Talking': 80.725341796875, 'Gaming': 99.95895385742188}, 'LowerBody': {'All': 162.0371856689453, 'UpperStretching': 164.2907257080078, 'Patting': 151.6417236328125, 'LowerStretching': 162.98162841796875, 'Walking': 186.13816833496094, 'Gesticuling': 104.58080291748047, 'Reacting': 143.2760009765625, 'Greeting': 114.14839935302734, 'Talking': 96.2647933959961, 'Gaming': 120.3602294921875}}\n"
     ]
    },
    {
     "name": "stderr",
     "output_type": "stream",
     "text": [
      " 49%|████▊     | 2600/5352 [09:32<10:18,  4.45it/s]"
     ]
    },
    {
     "name": "stdout",
     "output_type": "stream",
     "text": [
      "{'FullBody': {'All': 142.6876983642578, 'UpperStretching': 151.2169647216797, 'Patting': 123.49849700927734, 'LowerStretching': 129.421630859375, 'Walking': 147.7071990966797, 'Gesticuling': 107.71483612060547, 'Reacting': 132.32492065429688, 'Greeting': 99.84381866455078, 'Talking': 89.09017944335938, 'Gaming': 109.94223022460938}, 'UpperBody': {'All': 123.44046020507812, 'UpperStretching': 137.96958923339844, 'Patting': 95.52527618408203, 'LowerStretching': 96.44499969482422, 'Walking': 110.31395721435547, 'Gesticuling': 110.95796966552734, 'Reacting': 120.85446166992188, 'Greeting': 84.58153533935547, 'Talking': 81.35234069824219, 'Gaming': 99.85995483398438}, 'LowerBody': {'All': 161.9349822998047, 'UpperStretching': 164.46432495117188, 'Patting': 151.47174072265625, 'LowerStretching': 162.3982696533203, 'Walking': 185.1004638671875, 'Gesticuling': 104.47169494628906, 'Reacting': 143.7953643798828, 'Greeting': 115.10611724853516, 'Talking': 96.8280029296875, 'Gaming': 120.02450561523438}}\n"
     ]
    },
    {
     "name": "stderr",
     "output_type": "stream",
     "text": [
      " 52%|█████▏    | 2800/5352 [10:16<09:42,  4.38it/s]"
     ]
    },
    {
     "name": "stdout",
     "output_type": "stream",
     "text": [
      "{'FullBody': {'All': 142.69320678710938, 'UpperStretching': 151.19297790527344, 'Patting': 122.75008392333984, 'LowerStretching': 129.55111694335938, 'Walking': 147.8829345703125, 'Gesticuling': 107.75375366210938, 'Reacting': 132.650146484375, 'Greeting': 100.02057647705078, 'Talking': 88.59626007080078, 'Gaming': 110.30406951904297}, 'UpperBody': {'All': 123.46824645996094, 'UpperStretching': 138.0220947265625, 'Patting': 95.059814453125, 'LowerStretching': 96.56710815429688, 'Walking': 110.36083984375, 'Gesticuling': 110.74091339111328, 'Reacting': 121.05059051513672, 'Greeting': 84.64446258544922, 'Talking': 81.1164779663086, 'Gaming': 100.18596649169922}, 'LowerBody': {'All': 161.91819763183594, 'UpperStretching': 164.36387634277344, 'Patting': 150.4403533935547, 'LowerStretching': 162.53512573242188, 'Walking': 185.40504455566406, 'Gesticuling': 104.7665786743164, 'Reacting': 144.24972534179688, 'Greeting': 115.39667510986328, 'Talking': 96.07604217529297, 'Gaming': 120.42218017578125}}\n"
     ]
    },
    {
     "name": "stderr",
     "output_type": "stream",
     "text": [
      " 56%|█████▌    | 3000/5352 [11:00<08:52,  4.42it/s]"
     ]
    },
    {
     "name": "stdout",
     "output_type": "stream",
     "text": [
      "{'FullBody': {'All': 142.6551055908203, 'UpperStretching': 151.07708740234375, 'Patting': 122.82144927978516, 'LowerStretching': 129.80279541015625, 'Walking': 148.1654052734375, 'Gesticuling': 107.915283203125, 'Reacting': 132.22561645507812, 'Greeting': 99.94194030761719, 'Talking': 88.17894744873047, 'Gaming': 109.98457336425781}, 'UpperBody': {'All': 123.43156433105469, 'UpperStretching': 137.92626953125, 'Patting': 95.07648468017578, 'LowerStretching': 96.83512878417969, 'Walking': 110.6162338256836, 'Gesticuling': 110.87701416015625, 'Reacting': 120.84996795654297, 'Greeting': 84.39288330078125, 'Talking': 80.73868560791016, 'Gaming': 99.58843994140625}, 'LowerBody': {'All': 161.878662109375, 'UpperStretching': 164.22787475585938, 'Patting': 150.56643676757812, 'LowerStretching': 162.77047729492188, 'Walking': 185.71458435058594, 'Gesticuling': 104.95354461669922, 'Reacting': 143.60125732421875, 'Greeting': 115.49100494384766, 'Talking': 95.61922454833984, 'Gaming': 120.3807144165039}}\n"
     ]
    },
    {
     "name": "stderr",
     "output_type": "stream",
     "text": [
      " 60%|█████▉    | 3200/5352 [11:43<08:02,  4.46it/s]"
     ]
    },
    {
     "name": "stdout",
     "output_type": "stream",
     "text": [
      "{'FullBody': {'All': 142.7196807861328, 'UpperStretching': 151.15106201171875, 'Patting': 123.9219970703125, 'LowerStretching': 129.6840362548828, 'Walking': 148.14759826660156, 'Gesticuling': 108.29207611083984, 'Reacting': 132.3497314453125, 'Greeting': 99.40846252441406, 'Talking': 87.90071868896484, 'Gaming': 110.23907470703125}, 'UpperBody': {'All': 123.47575378417969, 'UpperStretching': 137.99624633789062, 'Patting': 95.07111358642578, 'LowerStretching': 96.80289459228516, 'Walking': 110.41773223876953, 'Gesticuling': 111.50341796875, 'Reacting': 120.82743072509766, 'Greeting': 84.0069351196289, 'Talking': 80.49085235595703, 'Gaming': 100.03668212890625}, 'LowerBody': {'All': 161.96363830566406, 'UpperStretching': 164.30589294433594, 'Patting': 152.7728729248047, 'LowerStretching': 162.565185546875, 'Walking': 185.8774871826172, 'Gesticuling': 105.08075714111328, 'Reacting': 143.8720245361328, 'Greeting': 114.80998229980469, 'Talking': 95.31058502197266, 'Gaming': 120.44145965576172}}\n"
     ]
    },
    {
     "name": "stderr",
     "output_type": "stream",
     "text": [
      " 64%|██████▎   | 3400/5352 [12:27<07:28,  4.35it/s]"
     ]
    },
    {
     "name": "stdout",
     "output_type": "stream",
     "text": [
      "{'FullBody': {'All': 142.6341094970703, 'UpperStretching': 150.99647521972656, 'Patting': 123.22201538085938, 'LowerStretching': 129.43466186523438, 'Walking': 148.70758056640625, 'Gesticuling': 108.67372131347656, 'Reacting': 132.21290588378906, 'Greeting': 99.12104797363281, 'Talking': 87.9024658203125, 'Gaming': 110.34101867675781}, 'UpperBody': {'All': 123.51604461669922, 'UpperStretching': 138.0743408203125, 'Patting': 94.61101531982422, 'LowerStretching': 96.58541870117188, 'Walking': 110.7741470336914, 'Gesticuling': 112.07119750976562, 'Reacting': 120.92386627197266, 'Greeting': 83.74946594238281, 'Talking': 80.29346466064453, 'Gaming': 99.71420288085938}, 'LowerBody': {'All': 161.75216674804688, 'UpperStretching': 163.91859436035156, 'Patting': 151.83299255371094, 'LowerStretching': 162.28390502929688, 'Walking': 186.6410369873047, 'Gesticuling': 105.27623748779297, 'Reacting': 143.501953125, 'Greeting': 114.49263000488281, 'Talking': 95.51146697998047, 'Gaming': 120.96784973144531}}\n"
     ]
    },
    {
     "name": "stderr",
     "output_type": "stream",
     "text": [
      " 67%|██████▋   | 3600/5352 [13:11<06:39,  4.39it/s]"
     ]
    },
    {
     "name": "stdout",
     "output_type": "stream",
     "text": [
      "{'FullBody': {'All': 142.7115478515625, 'UpperStretching': 151.13475036621094, 'Patting': 122.93477630615234, 'LowerStretching': 129.57293701171875, 'Walking': 148.48057556152344, 'Gesticuling': 108.7870101928711, 'Reacting': 132.75640869140625, 'Greeting': 98.95079803466797, 'Talking': 87.66632080078125, 'Gaming': 110.17753601074219}, 'UpperBody': {'All': 123.58312225341797, 'UpperStretching': 138.1584014892578, 'Patting': 94.78119659423828, 'LowerStretching': 96.5902328491211, 'Walking': 110.75501251220703, 'Gesticuling': 112.19833374023438, 'Reacting': 121.80486297607422, 'Greeting': 83.65614318847656, 'Talking': 79.83732604980469, 'Gaming': 99.58694458007812}, 'LowerBody': {'All': 161.83998107910156, 'UpperStretching': 164.1111297607422, 'Patting': 151.08837890625, 'LowerStretching': 162.55563354492188, 'Walking': 186.2061309814453, 'Gesticuling': 105.37566375732422, 'Reacting': 143.70794677734375, 'Greeting': 114.24546813964844, 'Talking': 95.49529266357422, 'Gaming': 120.76813507080078}}\n"
     ]
    },
    {
     "name": "stderr",
     "output_type": "stream",
     "text": [
      " 71%|███████   | 3800/5352 [13:55<05:46,  4.48it/s]"
     ]
    },
    {
     "name": "stdout",
     "output_type": "stream",
     "text": [
      "{'FullBody': {'All': 142.6943359375, 'UpperStretching': 151.19056701660156, 'Patting': 123.0699691772461, 'LowerStretching': 129.51376342773438, 'Walking': 148.27444458007812, 'Gesticuling': 108.96196746826172, 'Reacting': 132.2648468017578, 'Greeting': 98.73370361328125, 'Talking': 87.91706848144531, 'Gaming': 110.1913070678711}, 'UpperBody': {'All': 123.49993896484375, 'UpperStretching': 138.11224365234375, 'Patting': 94.95558166503906, 'LowerStretching': 96.55240631103516, 'Walking': 110.56017303466797, 'Gesticuling': 112.34656524658203, 'Reacting': 121.25890350341797, 'Greeting': 83.42724609375, 'Talking': 80.047119140625, 'Gaming': 99.38300323486328}, 'LowerBody': {'All': 161.88876342773438, 'UpperStretching': 164.2689208984375, 'Patting': 151.1843719482422, 'LowerStretching': 162.47512817382812, 'Walking': 185.9887237548828, 'Gesticuling': 105.57735443115234, 'Reacting': 143.27078247070312, 'Greeting': 114.04016876220703, 'Talking': 95.7870101928711, 'Gaming': 120.99960327148438}}\n"
     ]
    },
    {
     "name": "stderr",
     "output_type": "stream",
     "text": [
      " 75%|███████▍  | 4000/5352 [14:38<05:09,  4.37it/s]"
     ]
    },
    {
     "name": "stdout",
     "output_type": "stream",
     "text": [
      "{'FullBody': {'All': 142.6772918701172, 'UpperStretching': 151.29429626464844, 'Patting': 122.86824798583984, 'LowerStretching': 129.2886199951172, 'Walking': 147.74676513671875, 'Gesticuling': 109.27418518066406, 'Reacting': 132.73915100097656, 'Greeting': 98.46919250488281, 'Talking': 87.93327331542969, 'Gaming': 110.35037994384766}, 'UpperBody': {'All': 123.48764038085938, 'UpperStretching': 138.15762329101562, 'Patting': 95.23480987548828, 'LowerStretching': 96.36625671386719, 'Walking': 110.19441986083984, 'Gesticuling': 112.75440216064453, 'Reacting': 121.7173843383789, 'Greeting': 83.1968994140625, 'Talking': 80.15604400634766, 'Gaming': 99.46044921875}, 'LowerBody': {'All': 161.86697387695312, 'UpperStretching': 164.4309844970703, 'Patting': 150.50167846679688, 'LowerStretching': 162.21096801757812, 'Walking': 185.2991180419922, 'Gesticuling': 105.7939682006836, 'Reacting': 143.76089477539062, 'Greeting': 113.74147033691406, 'Talking': 95.71050262451172, 'Gaming': 121.24031829833984}}\n"
     ]
    },
    {
     "name": "stderr",
     "output_type": "stream",
     "text": [
      " 78%|███████▊  | 4200/5352 [15:22<04:22,  4.39it/s]"
     ]
    },
    {
     "name": "stdout",
     "output_type": "stream",
     "text": [
      "{'FullBody': {'All': 142.64324951171875, 'UpperStretching': 151.23838806152344, 'Patting': 122.97111511230469, 'LowerStretching': 129.3811798095703, 'Walking': 147.62074279785156, 'Gesticuling': 109.43468475341797, 'Reacting': 132.46937561035156, 'Greeting': 97.90048217773438, 'Talking': 87.85484313964844, 'Gaming': 110.70695495605469}, 'UpperBody': {'All': 123.45331573486328, 'UpperStretching': 138.09779357910156, 'Patting': 95.38195037841797, 'LowerStretching': 96.39517211914062, 'Walking': 110.20623016357422, 'Gesticuling': 112.62804412841797, 'Reacting': 121.42845916748047, 'Greeting': 82.80110931396484, 'Talking': 79.71638488769531, 'Gaming': 99.94078826904297}, 'LowerBody': {'All': 161.8332061767578, 'UpperStretching': 164.37899780273438, 'Patting': 150.56028747558594, 'LowerStretching': 162.36720275878906, 'Walking': 185.0352325439453, 'Gesticuling': 106.2413330078125, 'Reacting': 143.51031494140625, 'Greeting': 112.99983978271484, 'Talking': 95.9932861328125, 'Gaming': 121.47311401367188}}\n"
     ]
    },
    {
     "name": "stderr",
     "output_type": "stream",
     "text": [
      " 82%|████████▏ | 4400/5352 [16:06<03:34,  4.44it/s]"
     ]
    },
    {
     "name": "stdout",
     "output_type": "stream",
     "text": [
      "{'FullBody': {'All': 142.61573791503906, 'UpperStretching': 151.194091796875, 'Patting': 122.69619750976562, 'LowerStretching': 129.4618682861328, 'Walking': 147.44647216796875, 'Gesticuling': 109.68751525878906, 'Reacting': 132.14352416992188, 'Greeting': 98.27194213867188, 'Talking': 87.99254608154297, 'Gaming': 110.81617736816406}, 'UpperBody': {'All': 123.4664077758789, 'UpperStretching': 138.0747528076172, 'Patting': 95.74005126953125, 'LowerStretching': 96.416748046875, 'Walking': 110.15116119384766, 'Gesticuling': 113.1005859375, 'Reacting': 121.21934509277344, 'Greeting': 83.19902038574219, 'Talking': 79.84757232666016, 'Gaming': 99.97333526611328}, 'LowerBody': {'All': 161.7650909423828, 'UpperStretching': 164.31344604492188, 'Patting': 149.65237426757812, 'LowerStretching': 162.5070037841797, 'Walking': 184.74179077148438, 'Gesticuling': 106.27442932128906, 'Reacting': 143.06768798828125, 'Greeting': 113.34485626220703, 'Talking': 96.13751983642578, 'Gaming': 121.65901947021484}}\n"
     ]
    },
    {
     "name": "stderr",
     "output_type": "stream",
     "text": [
      " 86%|████████▌ | 4600/5352 [16:50<02:58,  4.22it/s]"
     ]
    },
    {
     "name": "stdout",
     "output_type": "stream",
     "text": [
      "{'FullBody': {'All': 142.55325317382812, 'UpperStretching': 151.12464904785156, 'Patting': 122.50054168701172, 'LowerStretching': 129.48736572265625, 'Walking': 147.27320861816406, 'Gesticuling': 109.7972183227539, 'Reacting': 132.1802215576172, 'Greeting': 98.34529113769531, 'Talking': 88.16143035888672, 'Gaming': 110.62890625}, 'UpperBody': {'All': 123.45112609863281, 'UpperStretching': 138.01913452148438, 'Patting': 95.78317260742188, 'LowerStretching': 96.5469741821289, 'Walking': 110.09199523925781, 'Gesticuling': 113.01730346679688, 'Reacting': 121.20084381103516, 'Greeting': 83.13572692871094, 'Talking': 80.1346664428711, 'Gaming': 100.2456283569336}, 'LowerBody': {'All': 161.65538024902344, 'UpperStretching': 164.23019409179688, 'Patting': 149.21792602539062, 'LowerStretching': 162.42776489257812, 'Walking': 184.45440673828125, 'Gesticuling': 106.57714080810547, 'Reacting': 143.1595916748047, 'Greeting': 113.55487060546875, 'Talking': 96.18819427490234, 'Gaming': 121.01217651367188}}\n"
     ]
    },
    {
     "name": "stderr",
     "output_type": "stream",
     "text": [
      " 90%|████████▉ | 4800/5352 [17:33<02:05,  4.39it/s]"
     ]
    },
    {
     "name": "stdout",
     "output_type": "stream",
     "text": [
      "{'FullBody': {'All': 142.4329833984375, 'UpperStretching': 150.94163513183594, 'Patting': 122.87808227539062, 'LowerStretching': 129.57374572753906, 'Walking': 146.884033203125, 'Gesticuling': 109.68243408203125, 'Reacting': 132.37362670898438, 'Greeting': 98.5942153930664, 'Talking': 88.21086883544922, 'Gaming': 110.33503723144531}, 'UpperBody': {'All': 123.36713409423828, 'UpperStretching': 137.8929901123047, 'Patting': 96.27215576171875, 'LowerStretching': 96.58296203613281, 'Walking': 109.79171752929688, 'Gesticuling': 112.57647705078125, 'Reacting': 121.55933380126953, 'Greeting': 83.38201904296875, 'Talking': 80.12210083007812, 'Gaming': 100.01408386230469}, 'LowerBody': {'All': 161.49884033203125, 'UpperStretching': 163.99029541015625, 'Patting': 149.4840087890625, 'LowerStretching': 162.5645294189453, 'Walking': 183.97634887695312, 'Gesticuling': 106.78839111328125, 'Reacting': 143.1879119873047, 'Greeting': 113.80641174316406, 'Talking': 96.29962921142578, 'Gaming': 120.65601348876953}}\n"
     ]
    },
    {
     "name": "stderr",
     "output_type": "stream",
     "text": [
      " 93%|█████████▎| 5000/5352 [18:17<01:21,  4.31it/s]"
     ]
    },
    {
     "name": "stdout",
     "output_type": "stream",
     "text": [
      "{'FullBody': {'All': 142.4638214111328, 'UpperStretching': 150.9549102783203, 'Patting': 122.87466430664062, 'LowerStretching': 129.46633911132812, 'Walking': 147.11619567871094, 'Gesticuling': 109.90807342529297, 'Reacting': 132.52537536621094, 'Greeting': 98.90615844726562, 'Talking': 88.05775451660156, 'Gaming': 110.34523010253906}, 'UpperBody': {'All': 123.35943603515625, 'UpperStretching': 137.86724853515625, 'Patting': 96.14102172851562, 'LowerStretching': 96.4920425415039, 'Walking': 109.83076477050781, 'Gesticuling': 112.99519348144531, 'Reacting': 121.52283477783203, 'Greeting': 83.71060180664062, 'Talking': 79.97767639160156, 'Gaming': 100.03075408935547}, 'LowerBody': {'All': 161.56822204589844, 'UpperStretching': 164.04257202148438, 'Patting': 149.6083221435547, 'LowerStretching': 162.44064331054688, 'Walking': 184.40162658691406, 'Gesticuling': 106.8209457397461, 'Reacting': 143.52793884277344, 'Greeting': 114.10173797607422, 'Talking': 96.13783264160156, 'Gaming': 120.65970611572266}}\n"
     ]
    },
    {
     "name": "stderr",
     "output_type": "stream",
     "text": [
      " 97%|█████████▋| 5200/5352 [19:01<00:35,  4.26it/s]"
     ]
    },
    {
     "name": "stdout",
     "output_type": "stream",
     "text": [
      "{'FullBody': {'All': 142.5030059814453, 'UpperStretching': 151.08242797851562, 'Patting': 122.27533721923828, 'LowerStretching': 129.37464904785156, 'Walking': 147.13893127441406, 'Gesticuling': 110.07807159423828, 'Reacting': 132.40708923339844, 'Greeting': 98.85504150390625, 'Talking': 87.98792266845703, 'Gaming': 110.06497955322266}, 'UpperBody': {'All': 123.39026641845703, 'UpperStretching': 137.9339599609375, 'Patting': 95.86978912353516, 'LowerStretching': 96.45492553710938, 'Walking': 109.80303955078125, 'Gesticuling': 113.20549011230469, 'Reacting': 121.64313507080078, 'Greeting': 83.67782592773438, 'Talking': 80.0450439453125, 'Gaming': 99.88325500488281}, 'LowerBody': {'All': 161.61573791503906, 'UpperStretching': 164.2309112548828, 'Patting': 148.68089294433594, 'LowerStretching': 162.2943878173828, 'Walking': 184.47479248046875, 'Gesticuling': 106.95065307617188, 'Reacting': 143.17105102539062, 'Greeting': 114.03226470947266, 'Talking': 95.93080139160156, 'Gaming': 120.24669647216797}}\n"
     ]
    },
    {
     "name": "stderr",
     "output_type": "stream",
     "text": [
      "100%|██████████| 5352/5352 [19:34<00:00,  4.56it/s]\n",
      "\u001b[94m10:02:13 \u001b[92m[INFO]\u001b[94m Main\u001b[0m: Saving evaluation results...\n",
      "\u001b[94m10:02:13 \u001b[92m[INFO]\u001b[94m Main\u001b[0m: Done.\n",
      "\u001b[94m10:02:13 \u001b[92m[INFO]\u001b[94m Main\u001b[0m: Starting demo...\n",
      "  0%|          | 0/5352 [00:00<?, ?it/s]/opt/conda/lib/python3.10/site-packages/torchvision/transforms/transforms.py:329: UserWarning: Argument 'interpolation' of type int is deprecated since 0.13 and will be removed in 0.15. Please use InterpolationMode enum.\n",
      "  warnings.warn(\n",
      "/opt/conda/lib/python3.10/site-packages/torchvision/transforms/transforms.py:329: UserWarning: Argument 'interpolation' of type int is deprecated since 0.13 and will be removed in 0.15. Please use InterpolationMode enum.\n",
      "  warnings.warn(\n",
      "/opt/conda/lib/python3.10/site-packages/torchvision/transforms/transforms.py:329: UserWarning: Argument 'interpolation' of type int is deprecated since 0.13 and will be removed in 0.15. Please use InterpolationMode enum.\n",
      "  warnings.warn(\n",
      "/opt/conda/lib/python3.10/site-packages/torchvision/transforms/transforms.py:329: UserWarning: Argument 'interpolation' of type int is deprecated since 0.13 and will be removed in 0.15. Please use InterpolationMode enum.\n",
      "  warnings.warn(\n",
      "/opt/conda/lib/python3.10/site-packages/torchvision/transforms/transforms.py:329: UserWarning: Argument 'interpolation' of type int is deprecated since 0.13 and will be removed in 0.15. Please use InterpolationMode enum.\n",
      "  warnings.warn(\n",
      "/opt/conda/lib/python3.10/site-packages/torchvision/transforms/transforms.py:329: UserWarning: Argument 'interpolation' of type int is deprecated since 0.13 and will be removed in 0.15. Please use InterpolationMode enum.\n",
      "  warnings.warn(\n",
      "/opt/conda/lib/python3.10/site-packages/torchvision/transforms/transforms.py:329: UserWarning: Argument 'interpolation' of type int is deprecated since 0.13 and will be removed in 0.15. Please use InterpolationMode enum.\n",
      "  warnings.warn(\n",
      "/opt/conda/lib/python3.10/site-packages/torchvision/transforms/transforms.py:329: UserWarning: Argument 'interpolation' of type int is deprecated since 0.13 and will be removed in 0.15. Please use InterpolationMode enum.\n",
      "  warnings.warn(\n",
      "/opt/conda/lib/python3.10/site-packages/torchvision/transforms/transforms.py:329: UserWarning: Argument 'interpolation' of type int is deprecated since 0.13 and will be removed in 0.15. Please use InterpolationMode enum.\n",
      "  warnings.warn(\n",
      "/opt/conda/lib/python3.10/site-packages/torchvision/transforms/transforms.py:329: UserWarning: Argument 'interpolation' of type int is deprecated since 0.13 and will be removed in 0.15. Please use InterpolationMode enum.\n",
      "  warnings.warn(\n",
      "/opt/conda/lib/python3.10/site-packages/torchvision/transforms/transforms.py:329: UserWarning: Argument 'interpolation' of type int is deprecated since 0.13 and will be removed in 0.15. Please use InterpolationMode enum.\n",
      "  warnings.warn(\n",
      "/opt/conda/lib/python3.10/site-packages/torchvision/transforms/transforms.py:329: UserWarning: Argument 'interpolation' of type int is deprecated since 0.13 and will be removed in 0.15. Please use InterpolationMode enum.\n",
      "  warnings.warn(\n",
      "/opt/conda/lib/python3.10/site-packages/torchvision/transforms/transforms.py:329: UserWarning: Argument 'interpolation' of type int is deprecated since 0.13 and will be removed in 0.15. Please use InterpolationMode enum.\n",
      "  warnings.warn(\n",
      "/opt/conda/lib/python3.10/site-packages/torchvision/transforms/transforms.py:329: UserWarning: Argument 'interpolation' of type int is deprecated since 0.13 and will be removed in 0.15. Please use InterpolationMode enum.\n",
      "  warnings.warn(\n",
      "/opt/conda/lib/python3.10/site-packages/torchvision/transforms/transforms.py:329: UserWarning: Argument 'interpolation' of type int is deprecated since 0.13 and will be removed in 0.15. Please use InterpolationMode enum.\n",
      "  warnings.warn(\n",
      "/opt/conda/lib/python3.10/site-packages/torchvision/transforms/transforms.py:329: UserWarning: Argument 'interpolation' of type int is deprecated since 0.13 and will be removed in 0.15. Please use InterpolationMode enum.\n",
      "  warnings.warn(\n",
      "/opt/conda/lib/python3.10/site-packages/torchvision/transforms/transforms.py:329: UserWarning: Argument 'interpolation' of type int is deprecated since 0.13 and will be removed in 0.15. Please use InterpolationMode enum.\n",
      "  warnings.warn(\n",
      "/opt/conda/lib/python3.10/site-packages/torchvision/transforms/transforms.py:329: UserWarning: Argument 'interpolation' of type int is deprecated since 0.13 and will be removed in 0.15. Please use InterpolationMode enum.\n",
      "  warnings.warn(\n",
      "/opt/conda/lib/python3.10/site-packages/torchvision/transforms/transforms.py:329: UserWarning: Argument 'interpolation' of type int is deprecated since 0.13 and will be removed in 0.15. Please use InterpolationMode enum.\n",
      "  warnings.warn(\n",
      "/opt/conda/lib/python3.10/site-packages/torchvision/transforms/transforms.py:329: UserWarning: Argument 'interpolation' of type int is deprecated since 0.13 and will be removed in 0.15. Please use InterpolationMode enum.\n",
      "  warnings.warn(\n",
      "/opt/conda/lib/python3.10/site-packages/torchvision/transforms/transforms.py:329: UserWarning: Argument 'interpolation' of type int is deprecated since 0.13 and will be removed in 0.15. Please use InterpolationMode enum.\n",
      "  warnings.warn(\n",
      "/opt/conda/lib/python3.10/site-packages/torchvision/transforms/transforms.py:329: UserWarning: Argument 'interpolation' of type int is deprecated since 0.13 and will be removed in 0.15. Please use InterpolationMode enum.\n",
      "  warnings.warn(\n",
      "/opt/conda/lib/python3.10/site-packages/torchvision/transforms/transforms.py:329: UserWarning: Argument 'interpolation' of type int is deprecated since 0.13 and will be removed in 0.15. Please use InterpolationMode enum.\n",
      "  warnings.warn(\n",
      "/opt/conda/lib/python3.10/site-packages/torchvision/transforms/transforms.py:329: UserWarning: Argument 'interpolation' of type int is deprecated since 0.13 and will be removed in 0.15. Please use InterpolationMode enum.\n",
      "  warnings.warn(\n",
      "  4%|▎         | 200/5352 [00:49<18:38,  4.61it/s]"
     ]
    },
    {
     "name": "stdout",
     "output_type": "stream",
     "text": [
      "{'FullBody': {'All': 157.0516357421875, 'UpperStretching': 165.53411865234375, 'Walking': 153.1083221435547, 'LowerStretching': 154.88832092285156, 'Gesticuling': 104.01404571533203, 'Gaming': 113.30233764648438, 'Reacting': 146.77859497070312, 'Patting': 116.23804473876953, 'Greeting': 105.030517578125, 'Talking': 112.19962310791016}, 'UpperBody': {'All': 139.8616180419922, 'UpperStretching': 153.9185028076172, 'Walking': 118.909912109375, 'LowerStretching': 121.2526626586914, 'Gesticuling': 115.27313995361328, 'Gaming': 107.97689819335938, 'Reacting': 131.72389221191406, 'Patting': 118.02318572998047, 'Greeting': 94.35403442382812, 'Talking': 104.41187286376953}, 'LowerBody': {'All': 174.24168395996094, 'UpperStretching': 177.14971923828125, 'Walking': 187.3067169189453, 'LowerStretching': 188.5239715576172, 'Gesticuling': 92.75495147705078, 'Gaming': 118.62775421142578, 'Reacting': 161.83331298828125, 'Patting': 114.4529037475586, 'Greeting': 115.70699310302734, 'Talking': 119.98735809326172}}\n"
     ]
    },
    {
     "name": "stderr",
     "output_type": "stream",
     "text": [
      "  7%|▋         | 400/5352 [01:32<17:57,  4.59it/s]"
     ]
    },
    {
     "name": "stdout",
     "output_type": "stream",
     "text": [
      "{'FullBody': {'All': 155.56912231445312, 'UpperStretching': 163.00506591796875, 'Walking': 154.5321044921875, 'LowerStretching': 154.52029418945312, 'Gesticuling': 101.01018524169922, 'Gaming': 113.59327697753906, 'Reacting': 140.01182556152344, 'Patting': 124.1502685546875, 'Greeting': 107.1001205444336, 'Talking': 108.0110855102539}, 'UpperBody': {'All': 138.64492797851562, 'UpperStretching': 152.22560119628906, 'Walking': 119.24006652832031, 'LowerStretching': 120.83275604248047, 'Gesticuling': 110.72708892822266, 'Gaming': 110.73950958251953, 'Reacting': 128.11129760742188, 'Patting': 119.66116333007812, 'Greeting': 97.3814926147461, 'Talking': 97.13137817382812}, 'LowerBody': {'All': 172.49334716796875, 'UpperStretching': 173.7845458984375, 'Walking': 189.8241424560547, 'LowerStretching': 188.2078399658203, 'Gesticuling': 91.29328918457031, 'Gaming': 116.44705200195312, 'Reacting': 151.9123077392578, 'Patting': 128.63938903808594, 'Greeting': 116.81877136230469, 'Talking': 118.89078521728516}}\n"
     ]
    },
    {
     "name": "stderr",
     "output_type": "stream",
     "text": [
      " 11%|█         | 600/5352 [02:16<17:26,  4.54it/s]"
     ]
    },
    {
     "name": "stdout",
     "output_type": "stream",
     "text": [
      "{'FullBody': {'All': 155.43057250976562, 'UpperStretching': 163.30824279785156, 'Walking': 153.8771514892578, 'LowerStretching': 152.00222778320312, 'Gesticuling': 101.90448760986328, 'Gaming': 114.8418960571289, 'Reacting': 142.56646728515625, 'Patting': 130.6513214111328, 'Greeting': 103.58760070800781, 'Talking': 106.26774597167969}, 'UpperBody': {'All': 138.3975067138672, 'UpperStretching': 152.93264770507812, 'Walking': 118.7311782836914, 'LowerStretching': 118.03527069091797, 'Gesticuling': 111.82933807373047, 'Gaming': 110.04240417480469, 'Reacting': 130.0492401123047, 'Patting': 120.44772338867188, 'Greeting': 93.47533416748047, 'Talking': 95.10323333740234}, 'LowerBody': {'All': 172.46363830566406, 'UpperStretching': 173.68385314941406, 'Walking': 189.02308654785156, 'LowerStretching': 185.9691925048828, 'Gesticuling': 91.9796371459961, 'Gaming': 119.64139556884766, 'Reacting': 155.0836639404297, 'Patting': 140.85494995117188, 'Greeting': 113.69990539550781, 'Talking': 117.43226623535156}}\n"
     ]
    },
    {
     "name": "stderr",
     "output_type": "stream",
     "text": [
      " 15%|█▍        | 800/5352 [02:59<16:36,  4.57it/s]"
     ]
    },
    {
     "name": "stdout",
     "output_type": "stream",
     "text": [
      "{'FullBody': {'All': 155.25218200683594, 'UpperStretching': 162.90887451171875, 'Walking': 154.9385223388672, 'LowerStretching': 151.5586700439453, 'Gesticuling': 101.62007904052734, 'Gaming': 115.14492797851562, 'Reacting': 143.49839782714844, 'Patting': 130.44760131835938, 'Greeting': 105.61744689941406, 'Talking': 107.13963317871094}, 'UpperBody': {'All': 138.32591247558594, 'UpperStretching': 152.6228790283203, 'Walking': 119.22647094726562, 'LowerStretching': 117.69551086425781, 'Gesticuling': 112.1875991821289, 'Gaming': 110.9881820678711, 'Reacting': 130.98263549804688, 'Patting': 121.27742004394531, 'Greeting': 95.54435729980469, 'Talking': 97.85069274902344}, 'LowerBody': {'All': 172.17848205566406, 'UpperStretching': 173.19485473632812, 'Walking': 190.65057373046875, 'LowerStretching': 185.42181396484375, 'Gesticuling': 91.05255889892578, 'Gaming': 119.30167388916016, 'Reacting': 156.01416015625, 'Patting': 139.61776733398438, 'Greeting': 115.69050598144531, 'Talking': 116.42855072021484}}\n"
     ]
    },
    {
     "name": "stderr",
     "output_type": "stream",
     "text": [
      " 19%|█▊        | 1000/5352 [03:43<15:55,  4.56it/s]"
     ]
    },
    {
     "name": "stdout",
     "output_type": "stream",
     "text": [
      "{'FullBody': {'All': 155.79966735839844, 'UpperStretching': 163.76039123535156, 'Walking': 155.18052673339844, 'LowerStretching': 152.36773681640625, 'Gesticuling': 100.9027099609375, 'Gaming': 115.42078399658203, 'Reacting': 142.9316864013672, 'Patting': 129.38250732421875, 'Greeting': 105.06348419189453, 'Talking': 105.7309799194336}, 'UpperBody': {'All': 138.6871337890625, 'UpperStretching': 153.1828155517578, 'Walking': 118.8236312866211, 'LowerStretching': 118.46442413330078, 'Gesticuling': 111.1602783203125, 'Gaming': 110.8285903930664, 'Reacting': 131.0283660888672, 'Patting': 120.77375030517578, 'Greeting': 96.20520782470703, 'Talking': 96.75518035888672}, 'LowerBody': {'All': 172.91220092773438, 'UpperStretching': 174.33795166015625, 'Walking': 191.53741455078125, 'LowerStretching': 186.2710418701172, 'Gesticuling': 90.64513397216797, 'Gaming': 120.01297760009766, 'Reacting': 154.8350067138672, 'Patting': 137.9912872314453, 'Greeting': 113.92176818847656, 'Talking': 114.70677947998047}}\n"
     ]
    },
    {
     "name": "stderr",
     "output_type": "stream",
     "text": [
      " 22%|██▏       | 1200/5352 [04:27<15:41,  4.41it/s]"
     ]
    },
    {
     "name": "stdout",
     "output_type": "stream",
     "text": [
      "{'FullBody': {'All': 155.96124267578125, 'UpperStretching': 164.31175231933594, 'Walking': 154.66917419433594, 'LowerStretching': 151.9434814453125, 'Gesticuling': 100.78854370117188, 'Gaming': 115.17244720458984, 'Reacting': 143.5712432861328, 'Patting': 128.1851348876953, 'Greeting': 103.99754333496094, 'Talking': 105.4344711303711}, 'UpperBody': {'All': 138.8931427001953, 'UpperStretching': 153.74588012695312, 'Walking': 118.70913696289062, 'LowerStretching': 118.32377624511719, 'Gesticuling': 111.01703643798828, 'Gaming': 109.58173370361328, 'Reacting': 130.51467895507812, 'Patting': 118.93968200683594, 'Greeting': 95.62198638916016, 'Talking': 97.4240951538086}, 'LowerBody': {'All': 173.0293426513672, 'UpperStretching': 174.87762451171875, 'Walking': 190.6292266845703, 'LowerStretching': 185.56317138671875, 'Gesticuling': 90.5600357055664, 'Gaming': 120.76319122314453, 'Reacting': 156.62779235839844, 'Patting': 137.4306182861328, 'Greeting': 112.37311553955078, 'Talking': 113.4448471069336}}\n"
     ]
    },
    {
     "name": "stderr",
     "output_type": "stream",
     "text": [
      " 26%|██▌       | 1400/5352 [05:10<14:29,  4.55it/s]"
     ]
    },
    {
     "name": "stdout",
     "output_type": "stream",
     "text": [
      "{'FullBody': {'All': 155.88218688964844, 'UpperStretching': 164.28170776367188, 'Walking': 154.44619750976562, 'LowerStretching': 151.57904052734375, 'Gesticuling': 101.27741241455078, 'Gaming': 113.70213317871094, 'Reacting': 144.38833618164062, 'Patting': 129.52426147460938, 'Greeting': 103.24786376953125, 'Talking': 105.87218475341797}, 'UpperBody': {'All': 138.70005798339844, 'UpperStretching': 153.46371459960938, 'Walking': 118.40830993652344, 'LowerStretching': 118.15467071533203, 'Gesticuling': 111.3343505859375, 'Gaming': 108.54969024658203, 'Reacting': 130.1483612060547, 'Patting': 120.22909545898438, 'Greeting': 95.09046936035156, 'Talking': 97.67882537841797}, 'LowerBody': {'All': 173.0643310546875, 'UpperStretching': 175.0996856689453, 'Walking': 190.4840545654297, 'LowerStretching': 185.0033721923828, 'Gesticuling': 91.22049713134766, 'Gaming': 118.85458374023438, 'Reacting': 158.6282958984375, 'Patting': 138.8194580078125, 'Greeting': 111.40526580810547, 'Talking': 114.0655517578125}}\n"
     ]
    },
    {
     "name": "stderr",
     "output_type": "stream",
     "text": [
      " 30%|██▉       | 1600/5352 [05:54<13:37,  4.59it/s]"
     ]
    },
    {
     "name": "stdout",
     "output_type": "stream",
     "text": [
      "{'FullBody': {'All': 156.16346740722656, 'UpperStretching': 164.64816284179688, 'Walking': 155.4306640625, 'LowerStretching': 151.5580291748047, 'Gesticuling': 101.48120880126953, 'Gaming': 114.2646713256836, 'Reacting': 142.64447021484375, 'Patting': 130.96888732910156, 'Greeting': 103.40284729003906, 'Talking': 103.75139617919922}, 'UpperBody': {'All': 139.01242065429688, 'UpperStretching': 153.746826171875, 'Walking': 119.32180786132812, 'LowerStretching': 118.33160400390625, 'Gesticuling': 110.87897491455078, 'Gaming': 109.25007629394531, 'Reacting': 128.8890838623047, 'Patting': 120.63485717773438, 'Greeting': 95.370361328125, 'Talking': 96.7706069946289}, 'LowerBody': {'All': 173.3144989013672, 'UpperStretching': 175.5494842529297, 'Walking': 191.5395050048828, 'LowerStretching': 184.78445434570312, 'Gesticuling': 92.08342742919922, 'Gaming': 119.27925872802734, 'Reacting': 156.3998565673828, 'Patting': 141.30288696289062, 'Greeting': 111.4353256225586, 'Talking': 110.7322006225586}}\n"
     ]
    },
    {
     "name": "stderr",
     "output_type": "stream",
     "text": [
      " 34%|███▎      | 1800/5352 [06:38<13:22,  4.43it/s]"
     ]
    },
    {
     "name": "stdout",
     "output_type": "stream",
     "text": [
      "{'FullBody': {'All': 156.2594451904297, 'UpperStretching': 164.83615112304688, 'Walking': 154.95623779296875, 'LowerStretching': 151.66966247558594, 'Gesticuling': 101.71126556396484, 'Gaming': 115.14336395263672, 'Reacting': 143.44898986816406, 'Patting': 133.0019073486328, 'Greeting': 100.75016784667969, 'Talking': 103.04244995117188}, 'UpperBody': {'All': 138.99472045898438, 'UpperStretching': 153.75814819335938, 'Walking': 118.9858627319336, 'LowerStretching': 118.42250061035156, 'Gesticuling': 111.576904296875, 'Gaming': 110.21573638916016, 'Reacting': 129.6085662841797, 'Patting': 122.83654022216797, 'Greeting': 93.82579040527344, 'Talking': 95.97358703613281}, 'LowerBody': {'All': 173.52415466308594, 'UpperStretching': 175.91415405273438, 'Walking': 190.92662048339844, 'LowerStretching': 184.9167938232422, 'Gesticuling': 91.84563446044922, 'Gaming': 120.07098388671875, 'Reacting': 157.2894287109375, 'Patting': 143.16729736328125, 'Greeting': 107.67453002929688, 'Talking': 110.1113052368164}}\n"
     ]
    },
    {
     "name": "stderr",
     "output_type": "stream",
     "text": [
      " 37%|███▋      | 2000/5352 [07:21<12:18,  4.54it/s]"
     ]
    },
    {
     "name": "stdout",
     "output_type": "stream",
     "text": [
      "{'FullBody': {'All': 156.10848999023438, 'UpperStretching': 164.6346435546875, 'Walking': 154.3524932861328, 'LowerStretching': 151.8153076171875, 'Gesticuling': 101.55375671386719, 'Gaming': 116.99017333984375, 'Reacting': 142.22940063476562, 'Patting': 136.58676147460938, 'Greeting': 99.70325469970703, 'Talking': 102.41650390625}, 'UpperBody': {'All': 138.8934326171875, 'UpperStretching': 153.67384338378906, 'Walking': 118.2970962524414, 'LowerStretching': 118.60679626464844, 'Gesticuling': 111.5460433959961, 'Gaming': 111.52067565917969, 'Reacting': 128.25421142578125, 'Patting': 124.87110900878906, 'Greeting': 93.45476531982422, 'Talking': 96.44898986816406}, 'LowerBody': {'All': 173.32351684570312, 'UpperStretching': 175.59542846679688, 'Walking': 190.4079132080078, 'LowerStretching': 185.0238037109375, 'Gesticuling': 91.56147003173828, 'Gaming': 122.45967864990234, 'Reacting': 156.20462036132812, 'Patting': 148.30238342285156, 'Greeting': 105.9517593383789, 'Talking': 108.3840103149414}}\n"
     ]
    },
    {
     "name": "stderr",
     "output_type": "stream",
     "text": [
      " 41%|████      | 2200/5352 [08:05<12:09,  4.32it/s]"
     ]
    },
    {
     "name": "stdout",
     "output_type": "stream",
     "text": [
      "{'FullBody': {'All': 156.15138244628906, 'UpperStretching': 164.60276794433594, 'Walking': 154.25390625, 'LowerStretching': 152.33836364746094, 'Gesticuling': 101.93094635009766, 'Gaming': 116.32022857666016, 'Reacting': 141.4185333251953, 'Patting': 137.6298065185547, 'Greeting': 100.58372497558594, 'Talking': 101.71504211425781}, 'UpperBody': {'All': 138.81259155273438, 'UpperStretching': 153.57167053222656, 'Walking': 118.19123077392578, 'LowerStretching': 118.7208480834961, 'Gesticuling': 111.92549133300781, 'Gaming': 111.3127670288086, 'Reacting': 127.83460235595703, 'Patting': 125.56455993652344, 'Greeting': 93.85121154785156, 'Talking': 96.01018524169922}, 'LowerBody': {'All': 173.49014282226562, 'UpperStretching': 175.63385009765625, 'Walking': 190.3166046142578, 'LowerStretching': 185.95591735839844, 'Gesticuling': 91.9364013671875, 'Gaming': 121.32769775390625, 'Reacting': 155.00245666503906, 'Patting': 149.69505310058594, 'Greeting': 107.31624603271484, 'Talking': 107.4198989868164}}\n"
     ]
    },
    {
     "name": "stderr",
     "output_type": "stream",
     "text": [
      " 45%|████▍     | 2400/5352 [08:48<10:50,  4.54it/s]"
     ]
    },
    {
     "name": "stdout",
     "output_type": "stream",
     "text": [
      "{'FullBody': {'All': 156.07518005371094, 'UpperStretching': 164.63739013671875, 'Walking': 153.2234344482422, 'LowerStretching': 152.23680114746094, 'Gesticuling': 101.98664855957031, 'Gaming': 116.57907104492188, 'Reacting': 142.45162963867188, 'Patting': 137.21119689941406, 'Greeting': 100.44065856933594, 'Talking': 102.46556091308594}, 'UpperBody': {'All': 138.73171997070312, 'UpperStretching': 153.47085571289062, 'Walking': 117.62675476074219, 'LowerStretching': 118.6477279663086, 'Gesticuling': 112.02400207519531, 'Gaming': 111.96328735351562, 'Reacting': 128.16561889648438, 'Patting': 125.42927551269531, 'Greeting': 93.74971771240234, 'Talking': 96.51206970214844}, 'LowerBody': {'All': 173.4186248779297, 'UpperStretching': 175.8039093017578, 'Walking': 188.8201141357422, 'LowerStretching': 185.8258819580078, 'Gesticuling': 91.94927978515625, 'Gaming': 121.19483947753906, 'Reacting': 156.7376251220703, 'Patting': 148.9931182861328, 'Greeting': 107.1316146850586, 'Talking': 108.41905212402344}}\n"
     ]
    },
    {
     "name": "stderr",
     "output_type": "stream",
     "text": [
      " 49%|████▊     | 2600/5352 [09:32<10:07,  4.53it/s]"
     ]
    },
    {
     "name": "stdout",
     "output_type": "stream",
     "text": [
      "{'FullBody': {'All': 156.07289123535156, 'UpperStretching': 164.7699737548828, 'Walking': 152.730224609375, 'LowerStretching': 152.19384765625, 'Gesticuling': 102.3198471069336, 'Gaming': 116.36290740966797, 'Reacting': 142.79937744140625, 'Patting': 136.72398376464844, 'Greeting': 99.40691375732422, 'Talking': 102.10067749023438}, 'UpperBody': {'All': 138.71856689453125, 'UpperStretching': 153.57691955566406, 'Walking': 117.36017608642578, 'LowerStretching': 118.50546264648438, 'Gesticuling': 112.1107406616211, 'Gaming': 111.55984497070312, 'Reacting': 128.97071838378906, 'Patting': 125.5771255493164, 'Greeting': 93.26947021484375, 'Talking': 96.57491302490234}, 'LowerBody': {'All': 173.42718505859375, 'UpperStretching': 175.96302795410156, 'Walking': 188.1002655029297, 'LowerStretching': 185.8822479248047, 'Gesticuling': 92.5289535522461, 'Gaming': 121.1659927368164, 'Reacting': 156.6280517578125, 'Patting': 147.87083435058594, 'Greeting': 105.54434967041016, 'Talking': 107.62643432617188}}\n"
     ]
    },
    {
     "name": "stderr",
     "output_type": "stream",
     "text": [
      " 52%|█████▏    | 2800/5352 [10:16<09:24,  4.52it/s]"
     ]
    },
    {
     "name": "stdout",
     "output_type": "stream",
     "text": [
      "{'FullBody': {'All': 155.98406982421875, 'UpperStretching': 164.6904296875, 'Walking': 152.68397521972656, 'LowerStretching': 152.19253540039062, 'Gesticuling': 102.3358154296875, 'Gaming': 116.6065902709961, 'Reacting': 142.77589416503906, 'Patting': 136.1715087890625, 'Greeting': 99.0546875, 'Talking': 101.78163146972656}, 'UpperBody': {'All': 138.61907958984375, 'UpperStretching': 153.49302673339844, 'Walking': 117.13288879394531, 'LowerStretching': 118.47103118896484, 'Gesticuling': 112.11980438232422, 'Gaming': 111.39089965820312, 'Reacting': 128.84323120117188, 'Patting': 125.37895965576172, 'Greeting': 93.30183410644531, 'Talking': 96.83284759521484}, 'LowerBody': {'All': 173.34901428222656, 'UpperStretching': 175.88783264160156, 'Walking': 188.23504638671875, 'LowerStretching': 185.91403198242188, 'Gesticuling': 92.55183410644531, 'Gaming': 121.8222885131836, 'Reacting': 156.70855712890625, 'Patting': 146.96405029296875, 'Greeting': 104.80752563476562, 'Talking': 106.73042297363281}}\n"
     ]
    },
    {
     "name": "stderr",
     "output_type": "stream",
     "text": [
      " 56%|█████▌    | 3000/5352 [10:59<08:49,  4.44it/s]"
     ]
    },
    {
     "name": "stdout",
     "output_type": "stream",
     "text": [
      "{'FullBody': {'All': 156.0033416748047, 'UpperStretching': 164.6231689453125, 'Walking': 152.76414489746094, 'LowerStretching': 152.44053649902344, 'Gesticuling': 102.05974578857422, 'Gaming': 116.1953125, 'Reacting': 142.8658905029297, 'Patting': 136.4773406982422, 'Greeting': 98.86231231689453, 'Talking': 101.63349151611328}, 'UpperBody': {'All': 138.56199645996094, 'UpperStretching': 153.36456298828125, 'Walking': 117.19428253173828, 'LowerStretching': 118.56827545166016, 'Gesticuling': 111.65902709960938, 'Gaming': 111.18431091308594, 'Reacting': 128.79483032226562, 'Patting': 125.25062561035156, 'Greeting': 92.90457153320312, 'Talking': 96.13802337646484}, 'LowerBody': {'All': 173.44467163085938, 'UpperStretching': 175.8817596435547, 'Walking': 188.33401489257812, 'LowerStretching': 186.31277465820312, 'Gesticuling': 92.46047973632812, 'Gaming': 121.20631408691406, 'Reacting': 156.93695068359375, 'Patting': 147.70404052734375, 'Greeting': 104.82007598876953, 'Talking': 107.12894439697266}}\n"
     ]
    },
    {
     "name": "stderr",
     "output_type": "stream",
     "text": [
      " 60%|█████▉    | 3200/5352 [11:43<07:52,  4.55it/s]"
     ]
    },
    {
     "name": "stdout",
     "output_type": "stream",
     "text": [
      "{'FullBody': {'All': 155.98805236816406, 'UpperStretching': 164.58558654785156, 'Walking': 152.78823852539062, 'LowerStretching': 152.6612548828125, 'Gesticuling': 102.54842376708984, 'Gaming': 116.29467010498047, 'Reacting': 142.0191192626953, 'Patting': 136.75860595703125, 'Greeting': 98.922119140625, 'Talking': 101.30744934082031}, 'UpperBody': {'All': 138.54141235351562, 'UpperStretching': 153.31439208984375, 'Walking': 117.28192901611328, 'LowerStretching': 118.73214721679688, 'Gesticuling': 111.8897705078125, 'Gaming': 111.47178649902344, 'Reacting': 128.2963104248047, 'Patting': 125.17414093017578, 'Greeting': 93.0132827758789, 'Talking': 96.07593536376953}, 'LowerBody': {'All': 173.4346466064453, 'UpperStretching': 175.85679626464844, 'Walking': 188.29454040527344, 'LowerStretching': 186.59036254882812, 'Gesticuling': 93.20706176757812, 'Gaming': 121.1175537109375, 'Reacting': 155.741943359375, 'Patting': 148.3430938720703, 'Greeting': 104.83096313476562, 'Talking': 106.53895568847656}}\n"
     ]
    },
    {
     "name": "stderr",
     "output_type": "stream",
     "text": [
      " 64%|██████▎   | 3400/5352 [12:27<07:42,  4.22it/s]"
     ]
    },
    {
     "name": "stdout",
     "output_type": "stream",
     "text": [
      "{'FullBody': {'All': 155.92654418945312, 'UpperStretching': 164.47457885742188, 'Walking': 152.47991943359375, 'LowerStretching': 152.8410186767578, 'Gesticuling': 102.9065170288086, 'Gaming': 116.57869720458984, 'Reacting': 141.68214416503906, 'Patting': 137.31460571289062, 'Greeting': 98.54939270019531, 'Talking': 101.82628631591797}, 'UpperBody': {'All': 138.5170440673828, 'UpperStretching': 153.29359436035156, 'Walking': 117.16850280761719, 'LowerStretching': 118.79468536376953, 'Gesticuling': 111.80355072021484, 'Gaming': 111.48078155517578, 'Reacting': 128.09974670410156, 'Patting': 125.53044128417969, 'Greeting': 92.91278839111328, 'Talking': 96.4439697265625}, 'LowerBody': {'All': 173.3360137939453, 'UpperStretching': 175.6555633544922, 'Walking': 187.79135131835938, 'LowerStretching': 186.88734436035156, 'Gesticuling': 94.00949096679688, 'Gaming': 121.67662048339844, 'Reacting': 155.2645263671875, 'Patting': 149.09878540039062, 'Greeting': 104.18598937988281, 'Talking': 107.20861053466797}}\n"
     ]
    },
    {
     "name": "stderr",
     "output_type": "stream",
     "text": [
      " 67%|██████▋   | 3600/5352 [13:10<06:30,  4.49it/s]"
     ]
    },
    {
     "name": "stdout",
     "output_type": "stream",
     "text": [
      "{'FullBody': {'All': 156.10240173339844, 'UpperStretching': 164.62875366210938, 'Walking': 152.6271514892578, 'LowerStretching': 152.90582275390625, 'Gesticuling': 103.34041595458984, 'Gaming': 117.09312438964844, 'Reacting': 142.44996643066406, 'Patting': 137.6156768798828, 'Greeting': 98.68224334716797, 'Talking': 102.12706756591797}, 'UpperBody': {'All': 138.63328552246094, 'UpperStretching': 153.4283447265625, 'Walking': 117.14682006835938, 'LowerStretching': 118.72054290771484, 'Gesticuling': 112.27050018310547, 'Gaming': 111.70320892333984, 'Reacting': 128.70919799804688, 'Patting': 126.00262451171875, 'Greeting': 93.02926635742188, 'Talking': 96.51590728759766}, 'LowerBody': {'All': 173.57151794433594, 'UpperStretching': 175.82916259765625, 'Walking': 188.10748291015625, 'LowerStretching': 187.0911102294922, 'Gesticuling': 94.41033935546875, 'Gaming': 122.48303985595703, 'Reacting': 156.1907196044922, 'Patting': 149.22874450683594, 'Greeting': 104.33521270751953, 'Talking': 107.73824310302734}}\n"
     ]
    },
    {
     "name": "stderr",
     "output_type": "stream",
     "text": [
      " 71%|███████   | 3800/5352 [13:54<05:58,  4.33it/s]"
     ]
    },
    {
     "name": "stdout",
     "output_type": "stream",
     "text": [
      "{'FullBody': {'All': 156.21835327148438, 'UpperStretching': 164.82374572753906, 'Walking': 152.49545288085938, 'LowerStretching': 152.95016479492188, 'Gesticuling': 103.31578063964844, 'Gaming': 117.0096664428711, 'Reacting': 142.52000427246094, 'Patting': 137.2938995361328, 'Greeting': 99.08110809326172, 'Talking': 101.93778228759766}, 'UpperBody': {'All': 138.66468811035156, 'UpperStretching': 153.5205078125, 'Walking': 116.99807739257812, 'LowerStretching': 118.74544525146484, 'Gesticuling': 112.3411865234375, 'Gaming': 111.62483215332031, 'Reacting': 128.4402313232422, 'Patting': 125.6054458618164, 'Greeting': 93.0416259765625, 'Talking': 96.26611328125}, 'LowerBody': {'All': 173.77203369140625, 'UpperStretching': 176.12696838378906, 'Walking': 187.9928436279297, 'LowerStretching': 187.15489196777344, 'Gesticuling': 94.29035949707031, 'Gaming': 122.39451599121094, 'Reacting': 156.5997772216797, 'Patting': 148.9822998046875, 'Greeting': 105.12061309814453, 'Talking': 107.60944366455078}}\n"
     ]
    },
    {
     "name": "stderr",
     "output_type": "stream",
     "text": [
      " 75%|███████▍  | 4000/5352 [14:38<05:07,  4.40it/s]"
     ]
    },
    {
     "name": "stdout",
     "output_type": "stream",
     "text": [
      "{'FullBody': {'All': 156.2150115966797, 'UpperStretching': 164.9045867919922, 'Walking': 152.2236328125, 'LowerStretching': 152.91395568847656, 'Gesticuling': 103.3927001953125, 'Gaming': 116.79685974121094, 'Reacting': 142.26095581054688, 'Patting': 137.02650451660156, 'Greeting': 99.058837890625, 'Talking': 101.92976379394531}, 'UpperBody': {'All': 138.62936401367188, 'UpperStretching': 153.51344299316406, 'Walking': 116.88325500488281, 'LowerStretching': 118.72126007080078, 'Gesticuling': 112.55745697021484, 'Gaming': 111.50318145751953, 'Reacting': 128.09347534179688, 'Patting': 125.44126892089844, 'Greeting': 93.06546020507812, 'Talking': 96.08975982666016}, 'LowerBody': {'All': 173.8006591796875, 'UpperStretching': 176.2957305908203, 'Walking': 187.56398010253906, 'LowerStretching': 187.10662841796875, 'Gesticuling': 94.2279281616211, 'Gaming': 122.09056091308594, 'Reacting': 156.42845153808594, 'Patting': 148.61175537109375, 'Greeting': 105.05220794677734, 'Talking': 107.76976776123047}}\n"
     ]
    },
    {
     "name": "stderr",
     "output_type": "stream",
     "text": [
      " 78%|███████▊  | 4200/5352 [15:21<04:26,  4.32it/s]"
     ]
    },
    {
     "name": "stdout",
     "output_type": "stream",
     "text": [
      "{'FullBody': {'All': 156.2489471435547, 'UpperStretching': 164.94142150878906, 'Walking': 152.3477020263672, 'LowerStretching': 152.92645263671875, 'Gesticuling': 103.65299987792969, 'Gaming': 116.94587707519531, 'Reacting': 141.62628173828125, 'Patting': 137.1365203857422, 'Greeting': 99.61312103271484, 'Talking': 101.6451416015625}, 'UpperBody': {'All': 138.67324829101562, 'UpperStretching': 153.53213500976562, 'Walking': 116.90402221679688, 'LowerStretching': 118.81550598144531, 'Gesticuling': 112.82649993896484, 'Gaming': 111.63925170898438, 'Reacting': 127.61454010009766, 'Patting': 125.81033325195312, 'Greeting': 93.52037811279297, 'Talking': 95.85706329345703}, 'LowerBody': {'All': 173.82464599609375, 'UpperStretching': 176.3507080078125, 'Walking': 187.79136657714844, 'LowerStretching': 187.03738403320312, 'Gesticuling': 94.47949981689453, 'Gaming': 122.25251770019531, 'Reacting': 155.6380157470703, 'Patting': 148.46270751953125, 'Greeting': 105.70587921142578, 'Talking': 107.43321228027344}}\n"
     ]
    },
    {
     "name": "stderr",
     "output_type": "stream",
     "text": [
      " 82%|████████▏ | 4400/5352 [16:05<03:37,  4.38it/s]"
     ]
    },
    {
     "name": "stdout",
     "output_type": "stream",
     "text": [
      "{'FullBody': {'All': 156.3097686767578, 'UpperStretching': 164.964599609375, 'Walking': 152.53692626953125, 'LowerStretching': 153.0467071533203, 'Gesticuling': 103.31676483154297, 'Gaming': 116.98184967041016, 'Reacting': 141.4697723388672, 'Patting': 137.3367462158203, 'Greeting': 99.90591430664062, 'Talking': 101.42131805419922}, 'UpperBody': {'All': 138.6935272216797, 'UpperStretching': 153.5465087890625, 'Walking': 116.84548950195312, 'LowerStretching': 118.92807006835938, 'Gesticuling': 112.4725570678711, 'Gaming': 111.70670318603516, 'Reacting': 127.4543228149414, 'Patting': 125.62357330322266, 'Greeting': 93.72929382324219, 'Talking': 95.81560516357422}, 'LowerBody': {'All': 173.92601013183594, 'UpperStretching': 176.38267517089844, 'Walking': 188.22836303710938, 'LowerStretching': 187.1653289794922, 'Gesticuling': 94.16098022460938, 'Gaming': 122.25701904296875, 'Reacting': 155.48519897460938, 'Patting': 149.04989624023438, 'Greeting': 106.08252716064453, 'Talking': 107.02703094482422}}\n"
     ]
    },
    {
     "name": "stderr",
     "output_type": "stream",
     "text": [
      " 86%|████████▌ | 4600/5352 [16:49<02:50,  4.40it/s]"
     ]
    },
    {
     "name": "stdout",
     "output_type": "stream",
     "text": [
      "{'FullBody': {'All': 156.29942321777344, 'UpperStretching': 165.012451171875, 'Walking': 152.45668029785156, 'LowerStretching': 152.9119110107422, 'Gesticuling': 103.39556884765625, 'Gaming': 117.36271667480469, 'Reacting': 141.03433227539062, 'Patting': 137.69036865234375, 'Greeting': 99.73038482666016, 'Talking': 101.21385955810547}, 'UpperBody': {'All': 138.6652374267578, 'UpperStretching': 153.53656005859375, 'Walking': 116.71817779541016, 'LowerStretching': 118.88953399658203, 'Gesticuling': 112.63519287109375, 'Gaming': 112.06745910644531, 'Reacting': 126.98956298828125, 'Patting': 125.9359130859375, 'Greeting': 93.56462860107422, 'Talking': 95.73124694824219}, 'LowerBody': {'All': 173.93359375, 'UpperStretching': 176.48834228515625, 'Walking': 188.19517517089844, 'LowerStretching': 186.9342498779297, 'Gesticuling': 94.15594482421875, 'Gaming': 122.6579818725586, 'Reacting': 155.07907104492188, 'Patting': 149.44482421875, 'Greeting': 105.89615631103516, 'Talking': 106.69647979736328}}\n"
     ]
    },
    {
     "name": "stderr",
     "output_type": "stream",
     "text": [
      " 90%|████████▉ | 4800/5352 [17:32<02:05,  4.38it/s]"
     ]
    },
    {
     "name": "stdout",
     "output_type": "stream",
     "text": [
      "{'FullBody': {'All': 156.29473876953125, 'UpperStretching': 165.005615234375, 'Walking': 152.5615692138672, 'LowerStretching': 152.94569396972656, 'Gesticuling': 103.81226348876953, 'Gaming': 117.46656799316406, 'Reacting': 140.82440185546875, 'Patting': 137.06459045410156, 'Greeting': 99.96276092529297, 'Talking': 100.76502227783203}, 'UpperBody': {'All': 138.7284393310547, 'UpperStretching': 153.60997009277344, 'Walking': 116.8355941772461, 'LowerStretching': 118.93006896972656, 'Gesticuling': 113.1530990600586, 'Gaming': 112.34362030029297, 'Reacting': 126.76805877685547, 'Patting': 125.6912841796875, 'Greeting': 93.76322937011719, 'Talking': 95.45185089111328}, 'LowerBody': {'All': 173.86102294921875, 'UpperStretching': 176.40126037597656, 'Walking': 188.28753662109375, 'LowerStretching': 186.9613037109375, 'Gesticuling': 94.47145080566406, 'Gaming': 122.58952331542969, 'Reacting': 154.8807373046875, 'Patting': 148.4379119873047, 'Greeting': 106.16230010986328, 'Talking': 106.07819366455078}}\n"
     ]
    },
    {
     "name": "stderr",
     "output_type": "stream",
     "text": [
      " 93%|█████████▎| 5000/5352 [18:16<01:20,  4.36it/s]"
     ]
    },
    {
     "name": "stdout",
     "output_type": "stream",
     "text": [
      "{'FullBody': {'All': 156.2082061767578, 'UpperStretching': 164.85911560058594, 'Walking': 152.5079803466797, 'LowerStretching': 153.04310607910156, 'Gesticuling': 103.94505310058594, 'Gaming': 117.11093139648438, 'Reacting': 140.93389892578125, 'Patting': 136.64431762695312, 'Greeting': 100.22535705566406, 'Talking': 100.49803161621094}, 'UpperBody': {'All': 138.63829040527344, 'UpperStretching': 153.4561767578125, 'Walking': 116.78441619873047, 'LowerStretching': 119.00831604003906, 'Gesticuling': 113.07552337646484, 'Gaming': 111.94218444824219, 'Reacting': 126.87236785888672, 'Patting': 125.34845733642578, 'Greeting': 93.97987365722656, 'Talking': 95.19681549072266}, 'LowerBody': {'All': 173.77809143066406, 'UpperStretching': 176.2620391845703, 'Walking': 188.23155212402344, 'LowerStretching': 187.077880859375, 'Gesticuling': 94.8145980834961, 'Gaming': 122.27969360351562, 'Reacting': 154.99542236328125, 'Patting': 147.94017028808594, 'Greeting': 106.4708480834961, 'Talking': 105.79923248291016}}\n"
     ]
    },
    {
     "name": "stderr",
     "output_type": "stream",
     "text": [
      " 97%|█████████▋| 5200/5352 [19:00<00:36,  4.15it/s]"
     ]
    },
    {
     "name": "stdout",
     "output_type": "stream",
     "text": [
      "{'FullBody': {'All': 156.1399383544922, 'UpperStretching': 164.81155395507812, 'Walking': 152.50230407714844, 'LowerStretching': 152.89585876464844, 'Gesticuling': 103.94050598144531, 'Gaming': 116.68086242675781, 'Reacting': 140.65707397460938, 'Patting': 137.27725219726562, 'Greeting': 100.14409637451172, 'Talking': 100.54930114746094}, 'UpperBody': {'All': 138.6404266357422, 'UpperStretching': 153.46571350097656, 'Walking': 116.9166259765625, 'LowerStretching': 118.89508056640625, 'Gesticuling': 113.14234161376953, 'Gaming': 111.79994201660156, 'Reacting': 126.8660888671875, 'Patting': 125.59294128417969, 'Greeting': 93.99090576171875, 'Talking': 95.33921813964844}, 'LowerBody': {'All': 173.63946533203125, 'UpperStretching': 176.1573944091797, 'Walking': 188.08799743652344, 'LowerStretching': 186.89663696289062, 'Gesticuling': 94.73867797851562, 'Gaming': 121.56178283691406, 'Reacting': 154.4480743408203, 'Patting': 148.96156311035156, 'Greeting': 106.29730224609375, 'Talking': 105.7593765258789}}\n"
     ]
    },
    {
     "name": "stderr",
     "output_type": "stream",
     "text": [
      "100%|██████████| 5352/5352 [19:33<00:00,  4.56it/s]\n",
      "\u001b[94m10:21:49 \u001b[92m[INFO]\u001b[94m Main\u001b[0m: Saving evaluation results...\n",
      "\u001b[94m10:21:49 \u001b[92m[INFO]\u001b[94m Main\u001b[0m: Done.\n",
      "\u001b[94m10:21:49 \u001b[92m[INFO]\u001b[94m Main\u001b[0m: Starting demo...\n",
      "  0%|          | 0/5352 [00:00<?, ?it/s]/opt/conda/lib/python3.10/site-packages/torchvision/transforms/transforms.py:329: UserWarning: Argument 'interpolation' of type int is deprecated since 0.13 and will be removed in 0.15. Please use InterpolationMode enum.\n",
      "  warnings.warn(\n",
      "/opt/conda/lib/python3.10/site-packages/torchvision/transforms/transforms.py:329: UserWarning: Argument 'interpolation' of type int is deprecated since 0.13 and will be removed in 0.15. Please use InterpolationMode enum.\n",
      "  warnings.warn(\n",
      "/opt/conda/lib/python3.10/site-packages/torchvision/transforms/transforms.py:329: UserWarning: Argument 'interpolation' of type int is deprecated since 0.13 and will be removed in 0.15. Please use InterpolationMode enum.\n",
      "  warnings.warn(\n",
      "/opt/conda/lib/python3.10/site-packages/torchvision/transforms/transforms.py:329: UserWarning: Argument 'interpolation' of type int is deprecated since 0.13 and will be removed in 0.15. Please use InterpolationMode enum.\n",
      "  warnings.warn(\n",
      "/opt/conda/lib/python3.10/site-packages/torchvision/transforms/transforms.py:329: UserWarning: Argument 'interpolation' of type int is deprecated since 0.13 and will be removed in 0.15. Please use InterpolationMode enum.\n",
      "  warnings.warn(\n",
      "/opt/conda/lib/python3.10/site-packages/torchvision/transforms/transforms.py:329: UserWarning: Argument 'interpolation' of type int is deprecated since 0.13 and will be removed in 0.15. Please use InterpolationMode enum.\n",
      "  warnings.warn(\n",
      "/opt/conda/lib/python3.10/site-packages/torchvision/transforms/transforms.py:329: UserWarning: Argument 'interpolation' of type int is deprecated since 0.13 and will be removed in 0.15. Please use InterpolationMode enum.\n",
      "  warnings.warn(\n",
      "/opt/conda/lib/python3.10/site-packages/torchvision/transforms/transforms.py:329: UserWarning: Argument 'interpolation' of type int is deprecated since 0.13 and will be removed in 0.15. Please use InterpolationMode enum.\n",
      "  warnings.warn(\n",
      "/opt/conda/lib/python3.10/site-packages/torchvision/transforms/transforms.py:329: UserWarning: Argument 'interpolation' of type int is deprecated since 0.13 and will be removed in 0.15. Please use InterpolationMode enum.\n",
      "  warnings.warn(\n",
      "/opt/conda/lib/python3.10/site-packages/torchvision/transforms/transforms.py:329: UserWarning: Argument 'interpolation' of type int is deprecated since 0.13 and will be removed in 0.15. Please use InterpolationMode enum.\n",
      "  warnings.warn(\n",
      "/opt/conda/lib/python3.10/site-packages/torchvision/transforms/transforms.py:329: UserWarning: Argument 'interpolation' of type int is deprecated since 0.13 and will be removed in 0.15. Please use InterpolationMode enum.\n",
      "  warnings.warn(\n",
      "/opt/conda/lib/python3.10/site-packages/torchvision/transforms/transforms.py:329: UserWarning: Argument 'interpolation' of type int is deprecated since 0.13 and will be removed in 0.15. Please use InterpolationMode enum.\n",
      "  warnings.warn(\n",
      "/opt/conda/lib/python3.10/site-packages/torchvision/transforms/transforms.py:329: UserWarning: Argument 'interpolation' of type int is deprecated since 0.13 and will be removed in 0.15. Please use InterpolationMode enum.\n",
      "  warnings.warn(\n",
      "/opt/conda/lib/python3.10/site-packages/torchvision/transforms/transforms.py:329: UserWarning: Argument 'interpolation' of type int is deprecated since 0.13 and will be removed in 0.15. Please use InterpolationMode enum.\n",
      "  warnings.warn(\n",
      "/opt/conda/lib/python3.10/site-packages/torchvision/transforms/transforms.py:329: UserWarning: Argument 'interpolation' of type int is deprecated since 0.13 and will be removed in 0.15. Please use InterpolationMode enum.\n",
      "  warnings.warn(\n",
      "/opt/conda/lib/python3.10/site-packages/torchvision/transforms/transforms.py:329: UserWarning: Argument 'interpolation' of type int is deprecated since 0.13 and will be removed in 0.15. Please use InterpolationMode enum.\n",
      "  warnings.warn(\n",
      "/opt/conda/lib/python3.10/site-packages/torchvision/transforms/transforms.py:329: UserWarning: Argument 'interpolation' of type int is deprecated since 0.13 and will be removed in 0.15. Please use InterpolationMode enum.\n",
      "  warnings.warn(\n",
      "/opt/conda/lib/python3.10/site-packages/torchvision/transforms/transforms.py:329: UserWarning: Argument 'interpolation' of type int is deprecated since 0.13 and will be removed in 0.15. Please use InterpolationMode enum.\n",
      "  warnings.warn(\n",
      "/opt/conda/lib/python3.10/site-packages/torchvision/transforms/transforms.py:329: UserWarning: Argument 'interpolation' of type int is deprecated since 0.13 and will be removed in 0.15. Please use InterpolationMode enum.\n",
      "  warnings.warn(\n",
      "/opt/conda/lib/python3.10/site-packages/torchvision/transforms/transforms.py:329: UserWarning: Argument 'interpolation' of type int is deprecated since 0.13 and will be removed in 0.15. Please use InterpolationMode enum.\n",
      "  warnings.warn(\n",
      "/opt/conda/lib/python3.10/site-packages/torchvision/transforms/transforms.py:329: UserWarning: Argument 'interpolation' of type int is deprecated since 0.13 and will be removed in 0.15. Please use InterpolationMode enum.\n",
      "  warnings.warn(\n",
      "/opt/conda/lib/python3.10/site-packages/torchvision/transforms/transforms.py:329: UserWarning: Argument 'interpolation' of type int is deprecated since 0.13 and will be removed in 0.15. Please use InterpolationMode enum.\n",
      "  warnings.warn(\n",
      "/opt/conda/lib/python3.10/site-packages/torchvision/transforms/transforms.py:329: UserWarning: Argument 'interpolation' of type int is deprecated since 0.13 and will be removed in 0.15. Please use InterpolationMode enum.\n",
      "  warnings.warn(\n",
      "/opt/conda/lib/python3.10/site-packages/torchvision/transforms/transforms.py:329: UserWarning: Argument 'interpolation' of type int is deprecated since 0.13 and will be removed in 0.15. Please use InterpolationMode enum.\n",
      "  warnings.warn(\n",
      "  4%|▎         | 200/5352 [00:48<18:10,  4.72it/s]"
     ]
    },
    {
     "name": "stdout",
     "output_type": "stream",
     "text": [
      "{'FullBody': {'All': 153.09988403320312, 'LowerStretching': 140.9182586669922, 'Walking': 168.1985321044922, 'UpperStretching': 159.14410400390625, 'Gesticuling': 109.8007583618164, 'Patting': 157.13824462890625, 'Greeting': 117.3752670288086, 'Reacting': 138.06234741210938, 'Talking': 89.68978881835938, 'Gaming': 121.2912368774414}, 'UpperBody': {'All': 127.89816284179688, 'LowerStretching': 100.01629638671875, 'Walking': 118.85677337646484, 'UpperStretching': 140.9269256591797, 'Gesticuling': 117.13324737548828, 'Patting': 120.73420715332031, 'Greeting': 106.9874267578125, 'Reacting': 118.21571350097656, 'Talking': 78.07994842529297, 'Gaming': 106.7476577758789}, 'LowerBody': {'All': 178.30160522460938, 'LowerStretching': 181.82022094726562, 'Walking': 217.54029846191406, 'UpperStretching': 177.36126708984375, 'Gesticuling': 102.46829223632812, 'Patting': 193.54226684570312, 'Greeting': 127.76314544677734, 'Reacting': 157.9089813232422, 'Talking': 101.29962158203125, 'Gaming': 135.8348388671875}}\n"
     ]
    },
    {
     "name": "stderr",
     "output_type": "stream",
     "text": [
      "  7%|▋         | 400/5352 [01:32<18:19,  4.50it/s]"
     ]
    },
    {
     "name": "stdout",
     "output_type": "stream",
     "text": [
      "{'FullBody': {'All': 151.0956573486328, 'LowerStretching': 137.34417724609375, 'Walking': 164.52732849121094, 'UpperStretching': 157.65867614746094, 'Gesticuling': 106.89599609375, 'Patting': 149.11865234375, 'Greeting': 118.31668090820312, 'Reacting': 137.30364990234375, 'Talking': 89.38087463378906, 'Gaming': 120.18333435058594}, 'UpperBody': {'All': 126.15869903564453, 'LowerStretching': 99.13414001464844, 'Walking': 115.68045806884766, 'UpperStretching': 138.8954315185547, 'Gesticuling': 115.74615478515625, 'Patting': 118.97502136230469, 'Greeting': 102.29561614990234, 'Reacting': 120.0771255493164, 'Talking': 79.54296112060547, 'Gaming': 106.62374114990234}, 'LowerBody': {'All': 176.03262329101562, 'LowerStretching': 175.55419921875, 'Walking': 213.37417602539062, 'UpperStretching': 176.42189025878906, 'Gesticuling': 98.04582977294922, 'Patting': 179.2622833251953, 'Greeting': 134.33775329589844, 'Reacting': 154.53016662597656, 'Talking': 99.21879577636719, 'Gaming': 133.742919921875}}\n"
     ]
    },
    {
     "name": "stderr",
     "output_type": "stream",
     "text": [
      " 11%|█         | 600/5352 [02:16<17:16,  4.58it/s]"
     ]
    },
    {
     "name": "stdout",
     "output_type": "stream",
     "text": [
      "{'FullBody': {'All': 151.12176513671875, 'LowerStretching': 137.42855834960938, 'Walking': 166.14271545410156, 'UpperStretching': 157.37139892578125, 'Gesticuling': 107.93408966064453, 'Patting': 153.2960205078125, 'Greeting': 114.92964172363281, 'Reacting': 137.18035888671875, 'Talking': 89.61624908447266, 'Gaming': 120.61610412597656}, 'UpperBody': {'All': 125.74124908447266, 'LowerStretching': 99.43403625488281, 'Walking': 115.49152374267578, 'UpperStretching': 137.98265075683594, 'Gesticuling': 116.39679718017578, 'Patting': 122.80026245117188, 'Greeting': 99.19340515136719, 'Reacting': 120.380615234375, 'Talking': 83.52523803710938, 'Gaming': 107.54400634765625}, 'LowerBody': {'All': 176.5022735595703, 'LowerStretching': 175.42306518554688, 'Walking': 216.7938995361328, 'UpperStretching': 176.76014709472656, 'Gesticuling': 99.47137451171875, 'Patting': 183.79180908203125, 'Greeting': 130.66587829589844, 'Reacting': 153.9801025390625, 'Talking': 95.707275390625, 'Gaming': 133.68821716308594}}\n"
     ]
    },
    {
     "name": "stderr",
     "output_type": "stream",
     "text": [
      " 15%|█▍        | 800/5352 [02:59<16:51,  4.50it/s]"
     ]
    },
    {
     "name": "stdout",
     "output_type": "stream",
     "text": [
      "{'FullBody': {'All': 151.23121643066406, 'LowerStretching': 138.92086791992188, 'Walking': 165.9521484375, 'UpperStretching': 157.40443420410156, 'Gesticuling': 109.12926483154297, 'Patting': 149.34457397460938, 'Greeting': 115.40626525878906, 'Reacting': 134.8046112060547, 'Talking': 89.62264251708984, 'Gaming': 122.04846954345703}, 'UpperBody': {'All': 125.71965026855469, 'LowerStretching': 100.16761779785156, 'Walking': 115.62716674804688, 'UpperStretching': 137.96002197265625, 'Gesticuling': 118.76002502441406, 'Patting': 120.42240905761719, 'Greeting': 99.3394546508789, 'Reacting': 118.77178955078125, 'Talking': 82.73291778564453, 'Gaming': 107.88489532470703}, 'LowerBody': {'All': 176.74276733398438, 'LowerStretching': 177.67410278320312, 'Walking': 216.27711486816406, 'UpperStretching': 176.8488311767578, 'Gesticuling': 99.4985122680664, 'Patting': 178.26673889160156, 'Greeting': 131.4730682373047, 'Reacting': 150.83741760253906, 'Talking': 96.51235961914062, 'Gaming': 136.21202087402344}}\n"
     ]
    },
    {
     "name": "stderr",
     "output_type": "stream",
     "text": [
      " 19%|█▊        | 1000/5352 [03:43<15:57,  4.55it/s]"
     ]
    },
    {
     "name": "stdout",
     "output_type": "stream",
     "text": [
      "{'FullBody': {'All': 151.10287475585938, 'LowerStretching': 140.0108642578125, 'Walking': 164.48731994628906, 'UpperStretching': 157.26461791992188, 'Gesticuling': 112.04644775390625, 'Patting': 148.1796875, 'Greeting': 117.4429931640625, 'Reacting': 132.6709747314453, 'Talking': 88.1192855834961, 'Gaming': 122.6008071899414}, 'UpperBody': {'All': 125.6241226196289, 'LowerStretching': 100.95196533203125, 'Walking': 114.88642883300781, 'UpperStretching': 137.7289581298828, 'Gesticuling': 121.9677963256836, 'Patting': 120.48098754882812, 'Greeting': 99.68221282958984, 'Reacting': 118.90572357177734, 'Talking': 81.45723724365234, 'Gaming': 108.15989685058594}, 'LowerBody': {'All': 176.58160400390625, 'LowerStretching': 179.0697479248047, 'Walking': 214.0882110595703, 'UpperStretching': 176.80029296875, 'Gesticuling': 102.1250991821289, 'Patting': 175.8783721923828, 'Greeting': 135.20379638671875, 'Reacting': 146.43621826171875, 'Talking': 94.78133392333984, 'Gaming': 137.0417022705078}}\n"
     ]
    },
    {
     "name": "stderr",
     "output_type": "stream",
     "text": [
      " 22%|██▏       | 1200/5352 [04:27<15:18,  4.52it/s]"
     ]
    },
    {
     "name": "stdout",
     "output_type": "stream",
     "text": [
      "{'FullBody': {'All': 150.77536010742188, 'LowerStretching': 139.2188262939453, 'Walking': 163.43780517578125, 'UpperStretching': 157.1846923828125, 'Gesticuling': 111.210693359375, 'Patting': 150.3510284423828, 'Greeting': 115.64111328125, 'Reacting': 132.4030303955078, 'Talking': 90.30823516845703, 'Gaming': 120.81767272949219}, 'UpperBody': {'All': 125.6058349609375, 'LowerStretching': 100.75247192382812, 'Walking': 115.10210418701172, 'UpperStretching': 137.7952880859375, 'Gesticuling': 120.7165756225586, 'Patting': 122.90042114257812, 'Greeting': 97.86962127685547, 'Reacting': 119.30632781982422, 'Talking': 82.63070678710938, 'Gaming': 106.1377944946289}, 'LowerBody': {'All': 175.94491577148438, 'LowerStretching': 177.68521118164062, 'Walking': 211.7734832763672, 'UpperStretching': 176.5740966796875, 'Gesticuling': 101.7048110961914, 'Patting': 177.80165100097656, 'Greeting': 133.41259765625, 'Reacting': 145.49974060058594, 'Talking': 97.98577880859375, 'Gaming': 135.49755859375}}\n"
     ]
    },
    {
     "name": "stderr",
     "output_type": "stream",
     "text": [
      " 26%|██▌       | 1400/5352 [05:10<14:33,  4.52it/s]"
     ]
    },
    {
     "name": "stdout",
     "output_type": "stream",
     "text": [
      "{'FullBody': {'All': 150.47463989257812, 'LowerStretching': 138.60867309570312, 'Walking': 162.10302734375, 'UpperStretching': 156.9967498779297, 'Gesticuling': 110.50397491455078, 'Patting': 151.94432067871094, 'Greeting': 116.83988189697266, 'Reacting': 133.83876037597656, 'Talking': 91.70832824707031, 'Gaming': 121.55069732666016}, 'UpperBody': {'All': 125.50833892822266, 'LowerStretching': 100.31565856933594, 'Walking': 114.7076644897461, 'UpperStretching': 137.6926727294922, 'Gesticuling': 119.68419647216797, 'Patting': 123.82648468017578, 'Greeting': 98.0771484375, 'Reacting': 121.55474090576172, 'Talking': 83.76287841796875, 'Gaming': 106.89106750488281}, 'LowerBody': {'All': 175.4409637451172, 'LowerStretching': 176.9016876220703, 'Walking': 209.49842834472656, 'UpperStretching': 176.3008270263672, 'Gesticuling': 101.32374572753906, 'Patting': 180.0621795654297, 'Greeting': 135.6026153564453, 'Reacting': 146.1227569580078, 'Talking': 99.65377807617188, 'Gaming': 136.2103271484375}}\n"
     ]
    },
    {
     "name": "stderr",
     "output_type": "stream",
     "text": [
      " 30%|██▉       | 1600/5352 [05:54<13:43,  4.56it/s]"
     ]
    },
    {
     "name": "stdout",
     "output_type": "stream",
     "text": [
      "{'FullBody': {'All': 149.9625244140625, 'LowerStretching': 138.4218292236328, 'Walking': 160.1972198486328, 'UpperStretching': 156.4746856689453, 'Gesticuling': 110.65756225585938, 'Patting': 153.94329833984375, 'Greeting': 117.48052215576172, 'Reacting': 133.26373291015625, 'Talking': 90.75811767578125, 'Gaming': 123.65831756591797}, 'UpperBody': {'All': 125.40904235839844, 'LowerStretching': 100.1357650756836, 'Walking': 113.5213394165039, 'UpperStretching': 137.71484375, 'Gesticuling': 119.6141128540039, 'Patting': 124.86298370361328, 'Greeting': 98.76866912841797, 'Reacting': 122.04299926757812, 'Talking': 83.39043426513672, 'Gaming': 109.69265747070312}, 'LowerBody': {'All': 174.5160369873047, 'LowerStretching': 176.70791625976562, 'Walking': 206.8731231689453, 'UpperStretching': 175.2345428466797, 'Gesticuling': 101.70100402832031, 'Patting': 183.02362060546875, 'Greeting': 136.19235229492188, 'Reacting': 144.48446655273438, 'Talking': 98.12580108642578, 'Gaming': 137.6239776611328}}\n"
     ]
    },
    {
     "name": "stderr",
     "output_type": "stream",
     "text": [
      " 34%|███▎      | 1800/5352 [06:38<13:01,  4.55it/s]"
     ]
    },
    {
     "name": "stdout",
     "output_type": "stream",
     "text": [
      "{'FullBody': {'All': 149.94142150878906, 'LowerStretching': 138.6072540283203, 'Walking': 159.17904663085938, 'UpperStretching': 156.6374969482422, 'Gesticuling': 110.50819396972656, 'Patting': 152.92893981933594, 'Greeting': 117.91424560546875, 'Reacting': 131.73886108398438, 'Talking': 89.54603576660156, 'Gaming': 123.93218994140625}, 'UpperBody': {'All': 125.523193359375, 'LowerStretching': 100.44840240478516, 'Walking': 112.98936462402344, 'UpperStretching': 137.8885498046875, 'Gesticuling': 119.47698974609375, 'Patting': 124.44605255126953, 'Greeting': 98.96674346923828, 'Reacting': 121.3973388671875, 'Talking': 82.635986328125, 'Gaming': 110.0159912109375}, 'LowerBody': {'All': 174.35964965820312, 'LowerStretching': 176.76609802246094, 'Walking': 205.3687286376953, 'UpperStretching': 175.3864288330078, 'Gesticuling': 101.5394058227539, 'Patting': 181.4118194580078, 'Greeting': 136.86172485351562, 'Reacting': 142.0803985595703, 'Talking': 96.45608520507812, 'Gaming': 137.848388671875}}\n"
     ]
    },
    {
     "name": "stderr",
     "output_type": "stream",
     "text": [
      " 37%|███▋      | 2000/5352 [07:21<12:34,  4.44it/s]"
     ]
    },
    {
     "name": "stdout",
     "output_type": "stream",
     "text": [
      "{'FullBody': {'All': 149.97445678710938, 'LowerStretching': 139.02255249023438, 'Walking': 160.46453857421875, 'UpperStretching': 156.35635375976562, 'Gesticuling': 110.70045471191406, 'Patting': 151.78131103515625, 'Greeting': 117.01445770263672, 'Reacting': 130.75099182128906, 'Talking': 90.11436462402344, 'Gaming': 124.74981689453125}, 'UpperBody': {'All': 125.53244018554688, 'LowerStretching': 100.79045104980469, 'Walking': 113.4676742553711, 'UpperStretching': 137.73939514160156, 'Gesticuling': 119.76586151123047, 'Patting': 123.48210906982422, 'Greeting': 98.84813690185547, 'Reacting': 120.89108276367188, 'Talking': 82.95115661621094, 'Gaming': 110.30473327636719}, 'LowerBody': {'All': 174.41647338867188, 'LowerStretching': 177.25465393066406, 'Walking': 207.4613800048828, 'UpperStretching': 174.9733123779297, 'Gesticuling': 101.63506317138672, 'Patting': 180.0805206298828, 'Greeting': 135.1807861328125, 'Reacting': 140.6109161376953, 'Talking': 97.27757263183594, 'Gaming': 139.19491577148438}}\n"
     ]
    },
    {
     "name": "stderr",
     "output_type": "stream",
     "text": [
      " 41%|████      | 2200/5352 [08:05<11:37,  4.52it/s]"
     ]
    },
    {
     "name": "stdout",
     "output_type": "stream",
     "text": [
      "{'FullBody': {'All': 150.0237579345703, 'LowerStretching': 139.1978759765625, 'Walking': 159.9401397705078, 'UpperStretching': 156.40185546875, 'Gesticuling': 110.87291717529297, 'Patting': 153.6232147216797, 'Greeting': 117.12794494628906, 'Reacting': 131.3018035888672, 'Talking': 90.327392578125, 'Gaming': 124.59786224365234}, 'UpperBody': {'All': 125.4705810546875, 'LowerStretching': 100.88385772705078, 'Walking': 113.11713409423828, 'UpperStretching': 137.61268615722656, 'Gesticuling': 120.306640625, 'Patting': 124.18916320800781, 'Greeting': 99.23200988769531, 'Reacting': 121.06253051757812, 'Talking': 83.29878234863281, 'Gaming': 110.359130859375}, 'LowerBody': {'All': 174.57696533203125, 'LowerStretching': 177.51193237304688, 'Walking': 206.7631072998047, 'UpperStretching': 175.19102478027344, 'Gesticuling': 101.43920135498047, 'Patting': 183.0572509765625, 'Greeting': 135.02386474609375, 'Reacting': 141.54112243652344, 'Talking': 97.35599517822266, 'Gaming': 138.83657836914062}}\n"
     ]
    },
    {
     "name": "stderr",
     "output_type": "stream",
     "text": [
      " 45%|████▍     | 2400/5352 [08:49<10:50,  4.54it/s]"
     ]
    },
    {
     "name": "stdout",
     "output_type": "stream",
     "text": [
      "{'FullBody': {'All': 150.081787109375, 'LowerStretching': 139.44366455078125, 'Walking': 159.4098663330078, 'UpperStretching': 156.46363830566406, 'Gesticuling': 111.14070129394531, 'Patting': 153.38633728027344, 'Greeting': 117.87831115722656, 'Reacting': 132.94778442382812, 'Talking': 90.26175689697266, 'Gaming': 124.88355255126953}, 'UpperBody': {'All': 125.47496032714844, 'LowerStretching': 101.07524871826172, 'Walking': 112.84123229980469, 'UpperStretching': 137.5699005126953, 'Gesticuling': 120.37516784667969, 'Patting': 124.4718017578125, 'Greeting': 99.95083618164062, 'Reacting': 122.11470031738281, 'Talking': 83.28881072998047, 'Gaming': 109.94949340820312}, 'LowerBody': {'All': 174.68861389160156, 'LowerStretching': 177.81207275390625, 'Walking': 205.97853088378906, 'UpperStretching': 175.35739135742188, 'Gesticuling': 101.90625, 'Patting': 182.30084228515625, 'Greeting': 135.80580139160156, 'Reacting': 143.78086853027344, 'Talking': 97.23468780517578, 'Gaming': 139.8175811767578}}\n"
     ]
    },
    {
     "name": "stderr",
     "output_type": "stream",
     "text": [
      " 49%|████▊     | 2600/5352 [09:33<10:26,  4.39it/s]"
     ]
    },
    {
     "name": "stdout",
     "output_type": "stream",
     "text": [
      "{'FullBody': {'All': 150.06735229492188, 'LowerStretching': 139.49171447753906, 'Walking': 159.6255340576172, 'UpperStretching': 156.41342163085938, 'Gesticuling': 111.11005401611328, 'Patting': 153.89364624023438, 'Greeting': 117.5350112915039, 'Reacting': 132.26913452148438, 'Talking': 90.04704284667969, 'Gaming': 125.02806091308594}, 'UpperBody': {'All': 125.50292205810547, 'LowerStretching': 101.10249328613281, 'Walking': 113.06085968017578, 'UpperStretching': 137.59112548828125, 'Gesticuling': 120.30339813232422, 'Patting': 124.891357421875, 'Greeting': 99.86869049072266, 'Reacting': 121.6565170288086, 'Talking': 83.60901641845703, 'Gaming': 109.58201599121094}, 'LowerBody': {'All': 174.6317901611328, 'LowerStretching': 177.8809356689453, 'Walking': 206.1902313232422, 'UpperStretching': 175.2357177734375, 'Gesticuling': 101.91668701171875, 'Patting': 182.8959197998047, 'Greeting': 135.2013397216797, 'Reacting': 142.8817138671875, 'Talking': 96.48506927490234, 'Gaming': 140.47410583496094}}\n"
     ]
    },
    {
     "name": "stderr",
     "output_type": "stream",
     "text": [
      " 52%|█████▏    | 2800/5352 [10:16<09:29,  4.48it/s]"
     ]
    },
    {
     "name": "stdout",
     "output_type": "stream",
     "text": [
      "{'FullBody': {'All': 149.9589385986328, 'LowerStretching': 139.69155883789062, 'Walking': 159.1138916015625, 'UpperStretching': 156.29551696777344, 'Gesticuling': 111.39885711669922, 'Patting': 153.73858642578125, 'Greeting': 118.21639251708984, 'Reacting': 132.22535705566406, 'Talking': 90.1895980834961, 'Gaming': 125.30123901367188}, 'UpperBody': {'All': 125.48118591308594, 'LowerStretching': 101.33873748779297, 'Walking': 112.85022735595703, 'UpperStretching': 137.577880859375, 'Gesticuling': 120.25138092041016, 'Patting': 124.92495727539062, 'Greeting': 99.86030578613281, 'Reacting': 121.3365249633789, 'Talking': 83.60204315185547, 'Gaming': 109.6969223022461}, 'LowerBody': {'All': 174.4366912841797, 'LowerStretching': 178.0443572998047, 'Walking': 205.3775177001953, 'UpperStretching': 175.0131378173828, 'Gesticuling': 102.54633331298828, 'Patting': 182.55221557617188, 'Greeting': 136.57247924804688, 'Reacting': 143.1141815185547, 'Talking': 96.77713775634766, 'Gaming': 140.90553283691406}}\n"
     ]
    },
    {
     "name": "stderr",
     "output_type": "stream",
     "text": [
      " 56%|█████▌    | 3000/5352 [11:00<08:53,  4.41it/s]"
     ]
    },
    {
     "name": "stdout",
     "output_type": "stream",
     "text": [
      "{'FullBody': {'All': 149.67974853515625, 'LowerStretching': 139.5634002685547, 'Walking': 158.69082641601562, 'UpperStretching': 155.99693298339844, 'Gesticuling': 112.47134399414062, 'Patting': 153.0450439453125, 'Greeting': 119.24103546142578, 'Reacting': 131.33555603027344, 'Talking': 90.91024780273438, 'Gaming': 125.25910186767578}, 'UpperBody': {'All': 125.4019775390625, 'LowerStretching': 101.29191589355469, 'Walking': 112.88041687011719, 'UpperStretching': 137.47900390625, 'Gesticuling': 120.86233520507812, 'Patting': 124.64080047607422, 'Greeting': 100.32765197753906, 'Reacting': 120.86199951171875, 'Talking': 83.91036987304688, 'Gaming': 109.75833892822266}, 'LowerBody': {'All': 173.95753479003906, 'LowerStretching': 177.8348846435547, 'Walking': 204.50125122070312, 'UpperStretching': 174.51487731933594, 'Gesticuling': 104.08035278320312, 'Patting': 181.4492950439453, 'Greeting': 138.1544189453125, 'Reacting': 141.80909729003906, 'Talking': 97.91012573242188, 'Gaming': 140.75987243652344}}\n"
     ]
    },
    {
     "name": "stderr",
     "output_type": "stream",
     "text": [
      " 60%|█████▉    | 3200/5352 [11:44<07:58,  4.49it/s]"
     ]
    },
    {
     "name": "stdout",
     "output_type": "stream",
     "text": [
      "{'FullBody': {'All': 149.69241333007812, 'LowerStretching': 139.70498657226562, 'Walking': 159.20303344726562, 'UpperStretching': 155.9283447265625, 'Gesticuling': 111.982421875, 'Patting': 152.76608276367188, 'Greeting': 117.67239379882812, 'Reacting': 131.42727661132812, 'Talking': 91.21308898925781, 'Gaming': 124.56793975830078}, 'UpperBody': {'All': 125.29702758789062, 'LowerStretching': 101.36351776123047, 'Walking': 113.04231262207031, 'UpperStretching': 137.2570343017578, 'Gesticuling': 120.29430389404297, 'Patting': 124.4911880493164, 'Greeting': 99.17192840576172, 'Reacting': 120.49134826660156, 'Talking': 84.49444580078125, 'Gaming': 109.56834411621094}, 'LowerBody': {'All': 174.0877685546875, 'LowerStretching': 178.04647827148438, 'Walking': 205.36376953125, 'UpperStretching': 174.5996551513672, 'Gesticuling': 103.67053985595703, 'Patting': 181.04100036621094, 'Greeting': 136.17283630371094, 'Reacting': 142.3632049560547, 'Talking': 97.93171691894531, 'Gaming': 139.56753540039062}}\n"
     ]
    },
    {
     "name": "stderr",
     "output_type": "stream",
     "text": [
      " 64%|██████▎   | 3400/5352 [12:27<07:11,  4.52it/s]"
     ]
    },
    {
     "name": "stdout",
     "output_type": "stream",
     "text": [
      "{'FullBody': {'All': 149.58502197265625, 'LowerStretching': 139.93084716796875, 'Walking': 159.1578826904297, 'UpperStretching': 155.71890258789062, 'Gesticuling': 111.98446655273438, 'Patting': 152.77175903320312, 'Greeting': 118.34566497802734, 'Reacting': 131.18972778320312, 'Talking': 90.70013427734375, 'Gaming': 124.583740234375}, 'UpperBody': {'All': 125.38177490234375, 'LowerStretching': 101.54660034179688, 'Walking': 113.20716094970703, 'UpperStretching': 137.2576904296875, 'Gesticuling': 120.70623016357422, 'Patting': 125.14273834228516, 'Greeting': 99.53282928466797, 'Reacting': 120.41038513183594, 'Talking': 84.17832946777344, 'Gaming': 109.36737823486328}, 'LowerBody': {'All': 173.78826904296875, 'LowerStretching': 178.3151092529297, 'Walking': 205.10861206054688, 'UpperStretching': 174.18011474609375, 'Gesticuling': 103.26272583007812, 'Patting': 180.40077209472656, 'Greeting': 137.1584930419922, 'Reacting': 141.9690704345703, 'Talking': 97.2219467163086, 'Gaming': 139.80007934570312}}\n"
     ]
    },
    {
     "name": "stderr",
     "output_type": "stream",
     "text": [
      " 67%|██████▋   | 3600/5352 [13:11<06:31,  4.47it/s]"
     ]
    },
    {
     "name": "stdout",
     "output_type": "stream",
     "text": [
      "{'FullBody': {'All': 149.4702606201172, 'LowerStretching': 139.9137725830078, 'Walking': 158.7231903076172, 'UpperStretching': 155.67098999023438, 'Gesticuling': 111.83490753173828, 'Patting': 151.8048858642578, 'Greeting': 117.85026550292969, 'Reacting': 131.03424072265625, 'Talking': 90.39703369140625, 'Gaming': 124.82572174072266}, 'UpperBody': {'All': 125.36907958984375, 'LowerStretching': 101.67855834960938, 'Walking': 113.13998413085938, 'UpperStretching': 137.25039672851562, 'Gesticuling': 120.69378662109375, 'Patting': 124.89593505859375, 'Greeting': 99.359375, 'Reacting': 120.2980728149414, 'Talking': 84.0147476196289, 'Gaming': 109.17100524902344}, 'LowerBody': {'All': 173.57142639160156, 'LowerStretching': 178.14901733398438, 'Walking': 204.30636596679688, 'UpperStretching': 174.09161376953125, 'Gesticuling': 102.97600555419922, 'Patting': 178.7138671875, 'Greeting': 136.34115600585938, 'Reacting': 141.7704315185547, 'Talking': 96.77932739257812, 'Gaming': 140.48046875}}\n"
     ]
    },
    {
     "name": "stderr",
     "output_type": "stream",
     "text": [
      " 71%|███████   | 3800/5352 [13:55<05:49,  4.44it/s]"
     ]
    },
    {
     "name": "stdout",
     "output_type": "stream",
     "text": [
      "{'FullBody': {'All': 149.58531188964844, 'LowerStretching': 139.9741668701172, 'Walking': 158.63858032226562, 'UpperStretching': 155.9076385498047, 'Gesticuling': 111.51758575439453, 'Patting': 151.8668212890625, 'Greeting': 117.49263763427734, 'Reacting': 130.69456481933594, 'Talking': 90.03120422363281, 'Gaming': 124.7151107788086}, 'UpperBody': {'All': 125.42098236083984, 'LowerStretching': 101.64832305908203, 'Walking': 113.21572875976562, 'UpperStretching': 137.36798095703125, 'Gesticuling': 120.11669158935547, 'Patting': 125.15451049804688, 'Greeting': 99.29004669189453, 'Reacting': 120.17120361328125, 'Talking': 84.02291107177734, 'Gaming': 109.01896667480469}, 'LowerBody': {'All': 173.74961853027344, 'LowerStretching': 178.300048828125, 'Walking': 204.06141662597656, 'UpperStretching': 174.44732666015625, 'Gesticuling': 102.91848754882812, 'Patting': 178.57913208007812, 'Greeting': 135.69522094726562, 'Reacting': 141.2179412841797, 'Talking': 96.03949737548828, 'Gaming': 140.41127014160156}}\n"
     ]
    },
    {
     "name": "stderr",
     "output_type": "stream",
     "text": [
      " 75%|███████▍  | 4000/5352 [14:39<05:05,  4.42it/s]"
     ]
    },
    {
     "name": "stdout",
     "output_type": "stream",
     "text": [
      "{'FullBody': {'All': 149.68905639648438, 'LowerStretching': 140.28094482421875, 'Walking': 158.299072265625, 'UpperStretching': 156.02236938476562, 'Gesticuling': 111.75447845458984, 'Patting': 151.3621826171875, 'Greeting': 118.15010070800781, 'Reacting': 130.6029815673828, 'Talking': 90.33526611328125, 'Gaming': 125.57585906982422}, 'UpperBody': {'All': 125.4912109375, 'LowerStretching': 101.85257720947266, 'Walking': 113.14656066894531, 'UpperStretching': 137.42347717285156, 'Gesticuling': 120.49263763427734, 'Patting': 124.5645523071289, 'Greeting': 99.57320404052734, 'Reacting': 119.71553802490234, 'Talking': 84.13469696044922, 'Gaming': 109.53389739990234}, 'LowerBody': {'All': 173.88690185546875, 'LowerStretching': 178.7093048095703, 'Walking': 203.4516143798828, 'UpperStretching': 174.6212615966797, 'Gesticuling': 103.01631927490234, 'Patting': 178.15980529785156, 'Greeting': 136.7270050048828, 'Reacting': 141.4904327392578, 'Talking': 96.53584289550781, 'Gaming': 141.6177978515625}}\n"
     ]
    },
    {
     "name": "stderr",
     "output_type": "stream",
     "text": [
      " 78%|███████▊  | 4200/5352 [15:22<04:25,  4.34it/s]"
     ]
    },
    {
     "name": "stdout",
     "output_type": "stream",
     "text": [
      "{'FullBody': {'All': 149.7175750732422, 'LowerStretching': 140.4490509033203, 'Walking': 158.7487030029297, 'UpperStretching': 155.9566192626953, 'Gesticuling': 111.79792022705078, 'Patting': 151.19371032714844, 'Greeting': 118.33309173583984, 'Reacting': 130.43966674804688, 'Talking': 90.95169830322266, 'Gaming': 125.91979217529297}, 'UpperBody': {'All': 125.52949523925781, 'LowerStretching': 101.9978256225586, 'Walking': 113.39393615722656, 'UpperStretching': 137.47027587890625, 'Gesticuling': 120.29275512695312, 'Patting': 124.11827850341797, 'Greeting': 99.74237823486328, 'Reacting': 119.37220764160156, 'Talking': 84.30023956298828, 'Gaming': 109.67977142333984}, 'LowerBody': {'All': 173.90565490722656, 'LowerStretching': 178.90029907226562, 'Walking': 204.10348510742188, 'UpperStretching': 174.44296264648438, 'Gesticuling': 103.30310821533203, 'Patting': 178.26913452148438, 'Greeting': 136.92379760742188, 'Reacting': 141.50711059570312, 'Talking': 97.60315704345703, 'Gaming': 142.15982055664062}}\n"
     ]
    },
    {
     "name": "stderr",
     "output_type": "stream",
     "text": [
      " 82%|████████▏ | 4400/5352 [16:06<03:37,  4.37it/s]"
     ]
    },
    {
     "name": "stdout",
     "output_type": "stream",
     "text": [
      "{'FullBody': {'All': 149.79119873046875, 'LowerStretching': 140.6648406982422, 'Walking': 158.42715454101562, 'UpperStretching': 156.14337158203125, 'Gesticuling': 111.82853698730469, 'Patting': 150.69236755371094, 'Greeting': 118.74491882324219, 'Reacting': 129.9740753173828, 'Talking': 90.64737701416016, 'Gaming': 125.2494125366211}, 'UpperBody': {'All': 125.6036376953125, 'LowerStretching': 102.25611877441406, 'Walking': 113.15870666503906, 'UpperStretching': 137.61648559570312, 'Gesticuling': 120.3866958618164, 'Patting': 123.58367156982422, 'Greeting': 99.92396545410156, 'Reacting': 118.83657836914062, 'Talking': 84.2061538696289, 'Gaming': 108.90834045410156}, 'LowerBody': {'All': 173.978759765625, 'LowerStretching': 179.07359313964844, 'Walking': 203.6956024169922, 'UpperStretching': 174.67025756835938, 'Gesticuling': 103.27037048339844, 'Patting': 177.80105590820312, 'Greeting': 137.56585693359375, 'Reacting': 141.11158752441406, 'Talking': 97.08858489990234, 'Gaming': 141.59048461914062}}\n"
     ]
    },
    {
     "name": "stderr",
     "output_type": "stream",
     "text": [
      " 86%|████████▌ | 4600/5352 [16:50<02:53,  4.33it/s]"
     ]
    },
    {
     "name": "stdout",
     "output_type": "stream",
     "text": [
      "{'FullBody': {'All': 149.86045837402344, 'LowerStretching': 140.65164184570312, 'Walking': 158.25379943847656, 'UpperStretching': 156.321044921875, 'Gesticuling': 111.61233520507812, 'Patting': 150.6466827392578, 'Greeting': 118.60564422607422, 'Reacting': 129.84689331054688, 'Talking': 90.40587615966797, 'Gaming': 124.46586608886719}, 'UpperBody': {'All': 125.60491943359375, 'LowerStretching': 102.23761749267578, 'Walking': 113.13169860839844, 'UpperStretching': 137.64425659179688, 'Gesticuling': 120.1612777709961, 'Patting': 123.79888153076172, 'Greeting': 99.77576446533203, 'Reacting': 118.80520629882812, 'Talking': 84.0498046875, 'Gaming': 108.57319641113281}, 'LowerBody': {'All': 174.11599731445312, 'LowerStretching': 179.06568908691406, 'Walking': 203.3758544921875, 'UpperStretching': 174.997802734375, 'Gesticuling': 103.0633773803711, 'Patting': 177.49447631835938, 'Greeting': 137.43553161621094, 'Reacting': 140.88858032226562, 'Talking': 96.76195526123047, 'Gaming': 140.35850524902344}}\n"
     ]
    },
    {
     "name": "stderr",
     "output_type": "stream",
     "text": [
      " 90%|████████▉ | 4800/5352 [17:34<02:07,  4.32it/s]"
     ]
    },
    {
     "name": "stdout",
     "output_type": "stream",
     "text": [
      "{'FullBody': {'All': 149.8369903564453, 'LowerStretching': 140.85760498046875, 'Walking': 158.30287170410156, 'UpperStretching': 156.14529418945312, 'Gesticuling': 111.84651184082031, 'Patting': 150.95318603515625, 'Greeting': 119.22894287109375, 'Reacting': 130.46136474609375, 'Talking': 90.47823333740234, 'Gaming': 124.50784301757812}, 'UpperBody': {'All': 125.60122680664062, 'LowerStretching': 102.32026672363281, 'Walking': 113.08348846435547, 'UpperStretching': 137.584228515625, 'Gesticuling': 120.40338897705078, 'Patting': 123.53691864013672, 'Greeting': 100.01258087158203, 'Reacting': 119.37660217285156, 'Talking': 84.15478515625, 'Gaming': 108.50923156738281}, 'LowerBody': {'All': 174.07275390625, 'LowerStretching': 179.3949432373047, 'Walking': 203.52223205566406, 'UpperStretching': 174.70632934570312, 'Gesticuling': 103.2896499633789, 'Patting': 178.3694610595703, 'Greeting': 138.4453125, 'Reacting': 141.546142578125, 'Talking': 96.80167388916016, 'Gaming': 140.50648498535156}}\n"
     ]
    },
    {
     "name": "stderr",
     "output_type": "stream",
     "text": [
      " 93%|█████████▎| 5000/5352 [18:18<01:21,  4.30it/s]"
     ]
    },
    {
     "name": "stdout",
     "output_type": "stream",
     "text": [
      "{'FullBody': {'All': 149.75489807128906, 'LowerStretching': 140.94232177734375, 'Walking': 157.92965698242188, 'UpperStretching': 156.0595245361328, 'Gesticuling': 111.70025634765625, 'Patting': 150.64073181152344, 'Greeting': 119.40943908691406, 'Reacting': 130.6330108642578, 'Talking': 90.3072738647461, 'Gaming': 124.52214050292969}, 'UpperBody': {'All': 125.6259536743164, 'LowerStretching': 102.41162109375, 'Walking': 113.00947570800781, 'UpperStretching': 137.6140899658203, 'Gesticuling': 120.3749008178711, 'Patting': 123.40424346923828, 'Greeting': 100.30309295654297, 'Reacting': 119.34648895263672, 'Talking': 84.0913314819336, 'Gaming': 108.52645111083984}, 'LowerBody': {'All': 173.88381958007812, 'LowerStretching': 179.47305297851562, 'Walking': 202.84979248046875, 'UpperStretching': 174.5049591064453, 'Gesticuling': 103.02560424804688, 'Patting': 177.87718200683594, 'Greeting': 138.51577758789062, 'Reacting': 141.91952514648438, 'Talking': 96.5232162475586, 'Gaming': 140.51780700683594}}\n"
     ]
    },
    {
     "name": "stderr",
     "output_type": "stream",
     "text": [
      " 97%|█████████▋| 5200/5352 [19:02<00:35,  4.25it/s]"
     ]
    },
    {
     "name": "stdout",
     "output_type": "stream",
     "text": [
      "{'FullBody': {'All': 149.575927734375, 'LowerStretching': 140.7511749267578, 'Walking': 158.03097534179688, 'UpperStretching': 155.8268585205078, 'Gesticuling': 111.58722686767578, 'Patting': 150.32077026367188, 'Greeting': 119.3979721069336, 'Reacting': 130.3748016357422, 'Talking': 90.03330993652344, 'Gaming': 124.69073486328125}, 'UpperBody': {'All': 125.56364440917969, 'LowerStretching': 102.46305084228516, 'Walking': 113.01546478271484, 'UpperStretching': 137.5056610107422, 'Gesticuling': 120.15814971923828, 'Patting': 123.21487426757812, 'Greeting': 100.25321197509766, 'Reacting': 119.29459381103516, 'Talking': 83.87923431396484, 'Gaming': 108.69603729248047}, 'LowerBody': {'All': 173.5881805419922, 'LowerStretching': 179.03932189941406, 'Walking': 203.04644775390625, 'UpperStretching': 174.1480712890625, 'Gesticuling': 103.01630401611328, 'Patting': 177.42665100097656, 'Greeting': 138.542724609375, 'Reacting': 141.4550323486328, 'Talking': 96.18738555908203, 'Gaming': 140.68544006347656}}\n"
     ]
    },
    {
     "name": "stderr",
     "output_type": "stream",
     "text": [
      "100%|██████████| 5352/5352 [19:35<00:00,  4.55it/s]\n",
      "\u001b[94m10:41:26 \u001b[92m[INFO]\u001b[94m Main\u001b[0m: Saving evaluation results...\n",
      "\u001b[94m10:41:26 \u001b[92m[INFO]\u001b[94m Main\u001b[0m: Done.\n",
      "\u001b[94m10:41:26 \u001b[92m[INFO]\u001b[94m Main\u001b[0m: Starting demo...\n",
      "  0%|          | 0/5352 [00:00<?, ?it/s]/opt/conda/lib/python3.10/site-packages/torchvision/transforms/transforms.py:329: UserWarning: Argument 'interpolation' of type int is deprecated since 0.13 and will be removed in 0.15. Please use InterpolationMode enum.\n",
      "  warnings.warn(\n",
      "/opt/conda/lib/python3.10/site-packages/torchvision/transforms/transforms.py:329: UserWarning: Argument 'interpolation' of type int is deprecated since 0.13 and will be removed in 0.15. Please use InterpolationMode enum.\n",
      "  warnings.warn(\n",
      "/opt/conda/lib/python3.10/site-packages/torchvision/transforms/transforms.py:329: UserWarning: Argument 'interpolation' of type int is deprecated since 0.13 and will be removed in 0.15. Please use InterpolationMode enum.\n",
      "  warnings.warn(\n",
      "/opt/conda/lib/python3.10/site-packages/torchvision/transforms/transforms.py:329: UserWarning: Argument 'interpolation' of type int is deprecated since 0.13 and will be removed in 0.15. Please use InterpolationMode enum.\n",
      "  warnings.warn(\n",
      "/opt/conda/lib/python3.10/site-packages/torchvision/transforms/transforms.py:329: UserWarning: Argument 'interpolation' of type int is deprecated since 0.13 and will be removed in 0.15. Please use InterpolationMode enum.\n",
      "  warnings.warn(\n",
      "/opt/conda/lib/python3.10/site-packages/torchvision/transforms/transforms.py:329: UserWarning: Argument 'interpolation' of type int is deprecated since 0.13 and will be removed in 0.15. Please use InterpolationMode enum.\n",
      "  warnings.warn(\n",
      "/opt/conda/lib/python3.10/site-packages/torchvision/transforms/transforms.py:329: UserWarning: Argument 'interpolation' of type int is deprecated since 0.13 and will be removed in 0.15. Please use InterpolationMode enum.\n",
      "  warnings.warn(\n",
      "/opt/conda/lib/python3.10/site-packages/torchvision/transforms/transforms.py:329: UserWarning: Argument 'interpolation' of type int is deprecated since 0.13 and will be removed in 0.15. Please use InterpolationMode enum.\n",
      "  warnings.warn(\n",
      "/opt/conda/lib/python3.10/site-packages/torchvision/transforms/transforms.py:329: UserWarning: Argument 'interpolation' of type int is deprecated since 0.13 and will be removed in 0.15. Please use InterpolationMode enum.\n",
      "  warnings.warn(\n",
      "/opt/conda/lib/python3.10/site-packages/torchvision/transforms/transforms.py:329: UserWarning: Argument 'interpolation' of type int is deprecated since 0.13 and will be removed in 0.15. Please use InterpolationMode enum.\n",
      "  warnings.warn(\n",
      "/opt/conda/lib/python3.10/site-packages/torchvision/transforms/transforms.py:329: UserWarning: Argument 'interpolation' of type int is deprecated since 0.13 and will be removed in 0.15. Please use InterpolationMode enum.\n",
      "  warnings.warn(\n",
      "/opt/conda/lib/python3.10/site-packages/torchvision/transforms/transforms.py:329: UserWarning: Argument 'interpolation' of type int is deprecated since 0.13 and will be removed in 0.15. Please use InterpolationMode enum.\n",
      "  warnings.warn(\n",
      "/opt/conda/lib/python3.10/site-packages/torchvision/transforms/transforms.py:329: UserWarning: Argument 'interpolation' of type int is deprecated since 0.13 and will be removed in 0.15. Please use InterpolationMode enum.\n",
      "  warnings.warn(\n",
      "/opt/conda/lib/python3.10/site-packages/torchvision/transforms/transforms.py:329: UserWarning: Argument 'interpolation' of type int is deprecated since 0.13 and will be removed in 0.15. Please use InterpolationMode enum.\n",
      "  warnings.warn(\n",
      "/opt/conda/lib/python3.10/site-packages/torchvision/transforms/transforms.py:329: UserWarning: Argument 'interpolation' of type int is deprecated since 0.13 and will be removed in 0.15. Please use InterpolationMode enum.\n",
      "  warnings.warn(\n",
      "/opt/conda/lib/python3.10/site-packages/torchvision/transforms/transforms.py:329: UserWarning: Argument 'interpolation' of type int is deprecated since 0.13 and will be removed in 0.15. Please use InterpolationMode enum.\n",
      "  warnings.warn(\n",
      "/opt/conda/lib/python3.10/site-packages/torchvision/transforms/transforms.py:329: UserWarning: Argument 'interpolation' of type int is deprecated since 0.13 and will be removed in 0.15. Please use InterpolationMode enum.\n",
      "  warnings.warn(\n",
      "/opt/conda/lib/python3.10/site-packages/torchvision/transforms/transforms.py:329: UserWarning: Argument 'interpolation' of type int is deprecated since 0.13 and will be removed in 0.15. Please use InterpolationMode enum.\n",
      "  warnings.warn(\n",
      "/opt/conda/lib/python3.10/site-packages/torchvision/transforms/transforms.py:329: UserWarning: Argument 'interpolation' of type int is deprecated since 0.13 and will be removed in 0.15. Please use InterpolationMode enum.\n",
      "  warnings.warn(\n",
      "/opt/conda/lib/python3.10/site-packages/torchvision/transforms/transforms.py:329: UserWarning: Argument 'interpolation' of type int is deprecated since 0.13 and will be removed in 0.15. Please use InterpolationMode enum.\n",
      "  warnings.warn(\n",
      "/opt/conda/lib/python3.10/site-packages/torchvision/transforms/transforms.py:329: UserWarning: Argument 'interpolation' of type int is deprecated since 0.13 and will be removed in 0.15. Please use InterpolationMode enum.\n",
      "  warnings.warn(\n",
      "/opt/conda/lib/python3.10/site-packages/torchvision/transforms/transforms.py:329: UserWarning: Argument 'interpolation' of type int is deprecated since 0.13 and will be removed in 0.15. Please use InterpolationMode enum.\n",
      "  warnings.warn(\n",
      "/opt/conda/lib/python3.10/site-packages/torchvision/transforms/transforms.py:329: UserWarning: Argument 'interpolation' of type int is deprecated since 0.13 and will be removed in 0.15. Please use InterpolationMode enum.\n",
      "  warnings.warn(\n",
      "/opt/conda/lib/python3.10/site-packages/torchvision/transforms/transforms.py:329: UserWarning: Argument 'interpolation' of type int is deprecated since 0.13 and will be removed in 0.15. Please use InterpolationMode enum.\n",
      "  warnings.warn(\n",
      "  4%|▎         | 200/5352 [00:48<18:33,  4.63it/s]"
     ]
    },
    {
     "name": "stdout",
     "output_type": "stream",
     "text": [
      "{'FullBody': {'All': 167.79745483398438, 'UpperStretching': 177.9297637939453, 'LowerStretching': 158.3385467529297, 'Gaming': 131.17288208007812, 'Walking': 156.715087890625, 'Talking': 116.38372039794922, 'Gesticuling': 154.94004821777344, 'Patting': 136.45889282226562, 'Reacting': 145.87594604492188, 'Greeting': 145.0794677734375}, 'UpperBody': {'All': 145.9839630126953, 'UpperStretching': 160.5908966064453, 'LowerStretching': 122.64886474609375, 'Gaming': 110.0831298828125, 'Walking': 122.8410873413086, 'Talking': 107.53844451904297, 'Gesticuling': 162.16465759277344, 'Patting': 112.57191467285156, 'Reacting': 133.2276153564453, 'Greeting': 115.19895935058594}, 'LowerBody': {'All': 189.61097717285156, 'UpperStretching': 195.2686309814453, 'LowerStretching': 194.0281982421875, 'Gaming': 152.2626495361328, 'Walking': 190.58905029296875, 'Talking': 125.22901916503906, 'Gesticuling': 147.7154083251953, 'Patting': 160.3458709716797, 'Reacting': 158.52426147460938, 'Greeting': 174.9600067138672}}\n"
     ]
    },
    {
     "name": "stderr",
     "output_type": "stream",
     "text": [
      "  7%|▋         | 400/5352 [01:32<17:59,  4.59it/s]"
     ]
    },
    {
     "name": "stdout",
     "output_type": "stream",
     "text": [
      "{'FullBody': {'All': 165.94732666015625, 'UpperStretching': 175.41217041015625, 'LowerStretching': 155.8108367919922, 'Gaming': 132.3765106201172, 'Walking': 154.99449157714844, 'Talking': 121.57272338867188, 'Gesticuling': 150.22549438476562, 'Patting': 143.7725830078125, 'Reacting': 154.8422088623047, 'Greeting': 137.42965698242188}, 'UpperBody': {'All': 145.63357543945312, 'UpperStretching': 160.06765747070312, 'LowerStretching': 121.66632843017578, 'Gaming': 117.22691345214844, 'Walking': 121.1510238647461, 'Talking': 111.85420989990234, 'Gesticuling': 158.98883056640625, 'Patting': 119.84196472167969, 'Reacting': 140.25927734375, 'Greeting': 115.17483520507812}, 'LowerBody': {'All': 186.26109313964844, 'UpperStretching': 190.7566680908203, 'LowerStretching': 189.9553680419922, 'Gaming': 147.5260772705078, 'Walking': 188.8379364013672, 'Talking': 131.29124450683594, 'Gesticuling': 141.46214294433594, 'Patting': 167.70323181152344, 'Reacting': 169.42514038085938, 'Greeting': 159.6844482421875}}\n"
     ]
    },
    {
     "name": "stderr",
     "output_type": "stream",
     "text": [
      " 11%|█         | 600/5352 [02:15<17:08,  4.62it/s]"
     ]
    },
    {
     "name": "stdout",
     "output_type": "stream",
     "text": [
      "{'FullBody': {'All': 167.5750732421875, 'UpperStretching': 176.46014404296875, 'LowerStretching': 158.7635955810547, 'Gaming': 134.25546264648438, 'Walking': 158.2458038330078, 'Talking': 122.3393783569336, 'Gesticuling': 149.7179718017578, 'Patting': 148.49514770507812, 'Reacting': 155.6939239501953, 'Greeting': 136.09884643554688}, 'UpperBody': {'All': 145.78244018554688, 'UpperStretching': 159.70941162109375, 'LowerStretching': 122.60265350341797, 'Gaming': 118.40080261230469, 'Walking': 122.45099639892578, 'Talking': 115.2220458984375, 'Gesticuling': 159.07791137695312, 'Patting': 121.83868408203125, 'Reacting': 141.23255920410156, 'Greeting': 113.45660400390625}, 'LowerBody': {'All': 189.36769104003906, 'UpperStretching': 193.2108917236328, 'LowerStretching': 194.92454528808594, 'Gaming': 150.11012268066406, 'Walking': 194.0406494140625, 'Talking': 129.4567108154297, 'Gesticuling': 140.3580322265625, 'Patting': 175.151611328125, 'Reacting': 170.15530395507812, 'Greeting': 158.74107360839844}}\n"
     ]
    },
    {
     "name": "stderr",
     "output_type": "stream",
     "text": [
      " 15%|█▍        | 800/5352 [02:59<16:42,  4.54it/s]"
     ]
    },
    {
     "name": "stdout",
     "output_type": "stream",
     "text": [
      "{'FullBody': {'All': 165.9335174560547, 'UpperStretching': 174.58154296875, 'LowerStretching': 156.96604919433594, 'Gaming': 130.98568725585938, 'Walking': 158.1888885498047, 'Talking': 125.25064086914062, 'Gesticuling': 148.385498046875, 'Patting': 143.72576904296875, 'Reacting': 154.0228729248047, 'Greeting': 136.9814453125}, 'UpperBody': {'All': 145.2747802734375, 'UpperStretching': 159.270751953125, 'LowerStretching': 121.70056915283203, 'Gaming': 115.50164794921875, 'Walking': 122.53221130371094, 'Talking': 119.09807586669922, 'Gesticuling': 158.7947235107422, 'Patting': 121.0712890625, 'Reacting': 140.43263244628906, 'Greeting': 113.96522521972656}, 'LowerBody': {'All': 186.5922393798828, 'UpperStretching': 189.892333984375, 'LowerStretching': 192.2315216064453, 'Gaming': 146.46971130371094, 'Walking': 193.8455810546875, 'Talking': 131.40321350097656, 'Gesticuling': 137.9762420654297, 'Patting': 166.3802490234375, 'Reacting': 167.6131134033203, 'Greeting': 159.99765014648438}}\n"
     ]
    },
    {
     "name": "stderr",
     "output_type": "stream",
     "text": [
      " 19%|█▊        | 1000/5352 [03:42<15:38,  4.64it/s]"
     ]
    },
    {
     "name": "stdout",
     "output_type": "stream",
     "text": [
      "{'FullBody': {'All': 165.9507598876953, 'UpperStretching': 174.69210815429688, 'LowerStretching': 156.5320587158203, 'Gaming': 133.74899291992188, 'Walking': 159.0559539794922, 'Talking': 124.52616882324219, 'Gesticuling': 147.47866821289062, 'Patting': 142.8596954345703, 'Reacting': 153.3994598388672, 'Greeting': 135.7677001953125}, 'UpperBody': {'All': 145.40013122558594, 'UpperStretching': 159.49908447265625, 'LowerStretching': 121.46723175048828, 'Gaming': 117.58185577392578, 'Walking': 123.01205444335938, 'Talking': 118.613037109375, 'Gesticuling': 158.38870239257812, 'Patting': 120.11576080322266, 'Reacting': 140.29798889160156, 'Greeting': 113.24757385253906}, 'LowerBody': {'All': 186.50137329101562, 'UpperStretching': 189.88514709472656, 'LowerStretching': 191.5968780517578, 'Gaming': 149.91612243652344, 'Walking': 195.09988403320312, 'Talking': 130.4392852783203, 'Gesticuling': 136.5686492919922, 'Patting': 165.60360717773438, 'Reacting': 166.50091552734375, 'Greeting': 158.28782653808594}}\n"
     ]
    },
    {
     "name": "stderr",
     "output_type": "stream",
     "text": [
      " 22%|██▏       | 1200/5352 [04:26<15:18,  4.52it/s]"
     ]
    },
    {
     "name": "stdout",
     "output_type": "stream",
     "text": [
      "{'FullBody': {'All': 166.15122985839844, 'UpperStretching': 174.65150451660156, 'LowerStretching': 157.4414520263672, 'Gaming': 133.785888671875, 'Walking': 159.6798553466797, 'Talking': 125.48477172851562, 'Gesticuling': 146.3933563232422, 'Patting': 144.07591247558594, 'Reacting': 153.46006774902344, 'Greeting': 134.37803649902344}, 'UpperBody': {'All': 145.21871948242188, 'UpperStretching': 159.05526733398438, 'LowerStretching': 122.16761016845703, 'Gaming': 117.47599029541016, 'Walking': 123.16207885742188, 'Talking': 119.76435852050781, 'Gesticuling': 156.55091857910156, 'Patting': 120.18225860595703, 'Reacting': 139.8269805908203, 'Greeting': 112.56316375732422}, 'LowerBody': {'All': 187.0836944580078, 'UpperStretching': 190.24771118164062, 'LowerStretching': 192.71527099609375, 'Gaming': 150.09579467773438, 'Walking': 196.1976776123047, 'Talking': 131.20518493652344, 'Gesticuling': 136.23582458496094, 'Patting': 167.96957397460938, 'Reacting': 167.0931396484375, 'Greeting': 156.19287109375}}\n"
     ]
    },
    {
     "name": "stderr",
     "output_type": "stream",
     "text": [
      " 26%|██▌       | 1400/5352 [05:10<14:30,  4.54it/s]"
     ]
    },
    {
     "name": "stdout",
     "output_type": "stream",
     "text": [
      "{'FullBody': {'All': 166.5375518798828, 'UpperStretching': 175.0389404296875, 'LowerStretching': 158.29501342773438, 'Gaming': 133.67999267578125, 'Walking': 160.025634765625, 'Talking': 125.11376953125, 'Gesticuling': 144.38954162597656, 'Patting': 141.95242309570312, 'Reacting': 153.42214965820312, 'Greeting': 136.23855590820312}, 'UpperBody': {'All': 145.3945770263672, 'UpperStretching': 159.19830322265625, 'LowerStretching': 122.93878173828125, 'Gaming': 117.64220428466797, 'Walking': 122.65785217285156, 'Talking': 119.09292602539062, 'Gesticuling': 153.99485778808594, 'Patting': 119.4420166015625, 'Reacting': 140.24989318847656, 'Greeting': 114.06683349609375}, 'LowerBody': {'All': 187.6804962158203, 'UpperStretching': 190.87957763671875, 'LowerStretching': 193.65127563476562, 'Gaming': 149.7177734375, 'Walking': 197.3934326171875, 'Talking': 131.13458251953125, 'Gesticuling': 134.78421020507812, 'Patting': 164.4628143310547, 'Reacting': 166.5944061279297, 'Greeting': 158.4102783203125}}\n"
     ]
    },
    {
     "name": "stderr",
     "output_type": "stream",
     "text": [
      " 30%|██▉       | 1600/5352 [05:54<13:46,  4.54it/s]"
     ]
    },
    {
     "name": "stdout",
     "output_type": "stream",
     "text": [
      "{'FullBody': {'All': 166.8018798828125, 'UpperStretching': 175.6150360107422, 'LowerStretching': 158.13926696777344, 'Gaming': 133.0939483642578, 'Walking': 160.30154418945312, 'Talking': 125.4551010131836, 'Gesticuling': 144.00051879882812, 'Patting': 142.01881408691406, 'Reacting': 151.91075134277344, 'Greeting': 133.84490966796875}, 'UpperBody': {'All': 145.43487548828125, 'UpperStretching': 159.52993774414062, 'LowerStretching': 122.5648193359375, 'Gaming': 117.73574829101562, 'Walking': 122.60421752929688, 'Talking': 119.84564971923828, 'Gesticuling': 152.488525390625, 'Patting': 120.21123504638672, 'Reacting': 139.44654846191406, 'Greeting': 111.96123504638672}, 'LowerBody': {'All': 188.1688690185547, 'UpperStretching': 191.7001495361328, 'LowerStretching': 193.71376037597656, 'Gaming': 148.45216369628906, 'Walking': 197.99887084960938, 'Talking': 131.06455993652344, 'Gesticuling': 135.5124969482422, 'Patting': 163.82638549804688, 'Reacting': 164.3749542236328, 'Greeting': 155.72860717773438}}\n"
     ]
    },
    {
     "name": "stderr",
     "output_type": "stream",
     "text": [
      " 34%|███▎      | 1800/5352 [06:37<13:10,  4.50it/s]"
     ]
    },
    {
     "name": "stdout",
     "output_type": "stream",
     "text": [
      "{'FullBody': {'All': 166.926513671875, 'UpperStretching': 176.0256805419922, 'LowerStretching': 157.41537475585938, 'Gaming': 133.50091552734375, 'Walking': 159.82513427734375, 'Talking': 125.09569549560547, 'Gesticuling': 144.54371643066406, 'Patting': 144.9752960205078, 'Reacting': 151.99093627929688, 'Greeting': 135.7965850830078}, 'UpperBody': {'All': 145.67774963378906, 'UpperStretching': 160.08969116210938, 'LowerStretching': 122.0366439819336, 'Gaming': 117.76266479492188, 'Walking': 122.20631408691406, 'Talking': 118.99506378173828, 'Gesticuling': 153.70181274414062, 'Patting': 122.48157501220703, 'Reacting': 139.83294677734375, 'Greeting': 113.33484649658203}, 'LowerBody': {'All': 188.17526245117188, 'UpperStretching': 191.96163940429688, 'LowerStretching': 192.79408264160156, 'Gaming': 149.23915100097656, 'Walking': 197.44393920898438, 'Talking': 131.1963348388672, 'Gesticuling': 135.38563537597656, 'Patting': 167.46902465820312, 'Reacting': 164.14895629882812, 'Greeting': 158.25833129882812}}\n"
     ]
    },
    {
     "name": "stderr",
     "output_type": "stream",
     "text": [
      " 37%|███▋      | 2000/5352 [07:20<12:14,  4.56it/s]"
     ]
    },
    {
     "name": "stdout",
     "output_type": "stream",
     "text": [
      "{'FullBody': {'All': 167.08782958984375, 'UpperStretching': 176.4351806640625, 'LowerStretching': 156.4651641845703, 'Gaming': 133.09811401367188, 'Walking': 160.4057159423828, 'Talking': 125.24436950683594, 'Gesticuling': 146.16831970214844, 'Patting': 143.55592346191406, 'Reacting': 151.7272186279297, 'Greeting': 137.93898010253906}, 'UpperBody': {'All': 145.69647216796875, 'UpperStretching': 160.30996704101562, 'LowerStretching': 121.22025299072266, 'Gaming': 117.8262939453125, 'Walking': 122.06980895996094, 'Talking': 119.12294006347656, 'Gesticuling': 154.6395263671875, 'Patting': 121.8186264038086, 'Reacting': 139.6685333251953, 'Greeting': 115.33578491210938}, 'LowerBody': {'All': 188.47918701171875, 'UpperStretching': 192.5603790283203, 'LowerStretching': 191.71006774902344, 'Gaming': 148.36993408203125, 'Walking': 198.74159240722656, 'Talking': 131.3657989501953, 'Gesticuling': 137.69712829589844, 'Patting': 165.29324340820312, 'Reacting': 163.78587341308594, 'Greeting': 160.54220581054688}}\n"
     ]
    },
    {
     "name": "stderr",
     "output_type": "stream",
     "text": [
      " 41%|████      | 2200/5352 [08:04<11:28,  4.58it/s]"
     ]
    },
    {
     "name": "stdout",
     "output_type": "stream",
     "text": [
      "{'FullBody': {'All': 167.1153106689453, 'UpperStretching': 176.53970336914062, 'LowerStretching': 156.84524536132812, 'Gaming': 132.63314819335938, 'Walking': 159.96470642089844, 'Talking': 124.76311492919922, 'Gesticuling': 146.49537658691406, 'Patting': 141.5782470703125, 'Reacting': 151.8928680419922, 'Greeting': 136.93861389160156}, 'UpperBody': {'All': 145.91815185546875, 'UpperStretching': 160.6947479248047, 'LowerStretching': 121.4685287475586, 'Gaming': 117.75733184814453, 'Walking': 121.79692840576172, 'Talking': 118.78982543945312, 'Gesticuling': 155.7147979736328, 'Patting': 120.06430053710938, 'Reacting': 139.92196655273438, 'Greeting': 113.7841796875}, 'LowerBody': {'All': 188.3124542236328, 'UpperStretching': 192.3846435546875, 'LowerStretching': 192.22195434570312, 'Gaming': 147.5089569091797, 'Walking': 198.1324920654297, 'Talking': 130.73638916015625, 'Gesticuling': 137.27593994140625, 'Patting': 163.0922088623047, 'Reacting': 163.86376953125, 'Greeting': 160.09304809570312}}\n"
     ]
    },
    {
     "name": "stderr",
     "output_type": "stream",
     "text": [
      " 45%|████▍     | 2400/5352 [08:48<11:12,  4.39it/s]"
     ]
    },
    {
     "name": "stdout",
     "output_type": "stream",
     "text": [
      "{'FullBody': {'All': 167.069091796875, 'UpperStretching': 176.50091552734375, 'LowerStretching': 156.9099884033203, 'Gaming': 132.09152221679688, 'Walking': 159.47958374023438, 'Talking': 125.08953094482422, 'Gesticuling': 146.6131591796875, 'Patting': 141.38140869140625, 'Reacting': 152.68994140625, 'Greeting': 137.08580017089844}, 'UpperBody': {'All': 145.9283447265625, 'UpperStretching': 160.7120819091797, 'LowerStretching': 121.34066009521484, 'Gaming': 116.780029296875, 'Walking': 121.65238952636719, 'Talking': 118.71705627441406, 'Gesticuling': 155.7049102783203, 'Patting': 120.44764709472656, 'Reacting': 140.74227905273438, 'Greeting': 114.34563446044922}, 'LowerBody': {'All': 188.20982360839844, 'UpperStretching': 192.28973388671875, 'LowerStretching': 192.4793243408203, 'Gaming': 147.4030303955078, 'Walking': 197.30677795410156, 'Talking': 131.46200561523438, 'Gesticuling': 137.52137756347656, 'Patting': 162.31515502929688, 'Reacting': 164.6376190185547, 'Greeting': 159.82595825195312}}\n"
     ]
    },
    {
     "name": "stderr",
     "output_type": "stream",
     "text": [
      " 49%|████▊     | 2600/5352 [09:32<10:13,  4.49it/s]"
     ]
    },
    {
     "name": "stdout",
     "output_type": "stream",
     "text": [
      "{'FullBody': {'All': 167.20834350585938, 'UpperStretching': 176.62730407714844, 'LowerStretching': 157.32699584960938, 'Gaming': 131.6785430908203, 'Walking': 159.7668914794922, 'Talking': 123.7767333984375, 'Gesticuling': 146.30801391601562, 'Patting': 141.85704040527344, 'Reacting': 153.03878784179688, 'Greeting': 136.90243530273438}, 'UpperBody': {'All': 145.9291534423828, 'UpperStretching': 160.75091552734375, 'LowerStretching': 121.4206314086914, 'Gaming': 116.36856842041016, 'Walking': 121.95702362060547, 'Talking': 118.05201721191406, 'Gesticuling': 154.81149291992188, 'Patting': 121.21725463867188, 'Reacting': 141.20567321777344, 'Greeting': 114.27690124511719}, 'LowerBody': {'All': 188.48751831054688, 'UpperStretching': 192.50367736816406, 'LowerStretching': 193.2333526611328, 'Gaming': 146.988525390625, 'Walking': 197.57675170898438, 'Talking': 129.5014190673828, 'Gesticuling': 137.80455017089844, 'Patting': 162.496826171875, 'Reacting': 164.8718719482422, 'Greeting': 159.52796936035156}}\n"
     ]
    },
    {
     "name": "stderr",
     "output_type": "stream",
     "text": [
      " 52%|█████▏    | 2800/5352 [10:15<09:35,  4.44it/s]"
     ]
    },
    {
     "name": "stdout",
     "output_type": "stream",
     "text": [
      "{'FullBody': {'All': 167.3450469970703, 'UpperStretching': 176.85337829589844, 'LowerStretching': 157.266357421875, 'Gaming': 132.00010681152344, 'Walking': 160.30979919433594, 'Talking': 122.92760467529297, 'Gesticuling': 144.72061157226562, 'Patting': 141.58787536621094, 'Reacting': 153.67579650878906, 'Greeting': 136.1130828857422}, 'UpperBody': {'All': 145.97061157226562, 'UpperStretching': 160.92135620117188, 'LowerStretching': 121.30470275878906, 'Gaming': 116.91385650634766, 'Walking': 122.01063537597656, 'Talking': 116.96549224853516, 'Gesticuling': 152.8609619140625, 'Patting': 120.80577850341797, 'Reacting': 142.00514221191406, 'Greeting': 113.40036010742188}, 'LowerBody': {'All': 188.719482421875, 'UpperStretching': 192.785400390625, 'LowerStretching': 193.22801208496094, 'Gaming': 147.08636474609375, 'Walking': 198.6089630126953, 'Talking': 128.8896942138672, 'Gesticuling': 136.58029174804688, 'Patting': 162.36997985839844, 'Reacting': 165.34645080566406, 'Greeting': 158.82579040527344}}\n"
     ]
    },
    {
     "name": "stderr",
     "output_type": "stream",
     "text": [
      " 56%|█████▌    | 3000/5352 [10:59<08:44,  4.48it/s]"
     ]
    },
    {
     "name": "stdout",
     "output_type": "stream",
     "text": [
      "{'FullBody': {'All': 167.1983642578125, 'UpperStretching': 176.85264587402344, 'LowerStretching': 157.060791015625, 'Gaming': 131.6699981689453, 'Walking': 159.7635040283203, 'Talking': 122.25675964355469, 'Gesticuling': 145.23468017578125, 'Patting': 140.3196563720703, 'Reacting': 153.13226318359375, 'Greeting': 135.674072265625}, 'UpperBody': {'All': 145.8267059326172, 'UpperStretching': 160.7966766357422, 'LowerStretching': 121.16282653808594, 'Gaming': 116.76797485351562, 'Walking': 122.00501251220703, 'Talking': 116.0472640991211, 'Gesticuling': 153.62986755371094, 'Patting': 119.94631958007812, 'Reacting': 141.51808166503906, 'Greeting': 113.23821258544922}, 'LowerBody': {'All': 188.5700225830078, 'UpperStretching': 192.90863037109375, 'LowerStretching': 192.958740234375, 'Gaming': 146.572021484375, 'Walking': 197.5220184326172, 'Talking': 128.4662628173828, 'Gesticuling': 136.8395233154297, 'Patting': 160.69300842285156, 'Reacting': 164.74647521972656, 'Greeting': 158.1099395751953}}\n"
     ]
    },
    {
     "name": "stderr",
     "output_type": "stream",
     "text": [
      " 60%|█████▉    | 3200/5352 [11:42<08:01,  4.47it/s]"
     ]
    },
    {
     "name": "stdout",
     "output_type": "stream",
     "text": [
      "{'FullBody': {'All': 167.09300231933594, 'UpperStretching': 176.715087890625, 'LowerStretching': 156.668701171875, 'Gaming': 131.7401885986328, 'Walking': 160.2677001953125, 'Talking': 122.58235168457031, 'Gesticuling': 145.2318878173828, 'Patting': 139.8597869873047, 'Reacting': 153.35205078125, 'Greeting': 133.9078826904297}, 'UpperBody': {'All': 145.68568420410156, 'UpperStretching': 160.60498046875, 'LowerStretching': 120.9980239868164, 'Gaming': 116.49577331542969, 'Walking': 122.24260711669922, 'Talking': 116.53963470458984, 'Gesticuling': 153.3968505859375, 'Patting': 119.83140563964844, 'Reacting': 141.7777557373047, 'Greeting': 112.19468688964844}, 'LowerBody': {'All': 188.50033569335938, 'UpperStretching': 192.8251953125, 'LowerStretching': 192.33938598632812, 'Gaming': 146.98460388183594, 'Walking': 198.29278564453125, 'Talking': 128.62509155273438, 'Gesticuling': 137.06690979003906, 'Patting': 159.88816833496094, 'Reacting': 164.92636108398438, 'Greeting': 155.62106323242188}}\n"
     ]
    },
    {
     "name": "stderr",
     "output_type": "stream",
     "text": [
      " 64%|██████▎   | 3400/5352 [12:26<07:11,  4.53it/s]"
     ]
    },
    {
     "name": "stdout",
     "output_type": "stream",
     "text": [
      "{'FullBody': {'All': 167.06256103515625, 'UpperStretching': 176.684326171875, 'LowerStretching': 156.62240600585938, 'Gaming': 132.05337524414062, 'Walking': 160.3003692626953, 'Talking': 122.72102355957031, 'Gesticuling': 145.73301696777344, 'Patting': 139.49221801757812, 'Reacting': 153.17575073242188, 'Greeting': 133.12457275390625}, 'UpperBody': {'All': 145.63943481445312, 'UpperStretching': 160.6184844970703, 'LowerStretching': 120.77007293701172, 'Gaming': 116.79669952392578, 'Walking': 122.16383361816406, 'Talking': 116.43778228759766, 'Gesticuling': 153.89979553222656, 'Patting': 119.64247131347656, 'Reacting': 141.78855895996094, 'Greeting': 111.2056884765625}, 'LowerBody': {'All': 188.48568725585938, 'UpperStretching': 192.75018310546875, 'LowerStretching': 192.4747314453125, 'Gaming': 147.31005859375, 'Walking': 198.43692016601562, 'Talking': 129.00425720214844, 'Gesticuling': 137.56625366210938, 'Patting': 159.34197998046875, 'Reacting': 164.56297302246094, 'Greeting': 155.04342651367188}}\n"
     ]
    },
    {
     "name": "stderr",
     "output_type": "stream",
     "text": [
      " 67%|██████▋   | 3600/5352 [13:10<06:49,  4.28it/s]"
     ]
    },
    {
     "name": "stdout",
     "output_type": "stream",
     "text": [
      "{'FullBody': {'All': 167.10890197753906, 'UpperStretching': 176.63880920410156, 'LowerStretching': 156.80918884277344, 'Gaming': 132.99937438964844, 'Walking': 160.75950622558594, 'Talking': 122.78178405761719, 'Gesticuling': 145.34706115722656, 'Patting': 139.6431427001953, 'Reacting': 153.017578125, 'Greeting': 132.5381622314453}, 'UpperBody': {'All': 145.57980346679688, 'UpperStretching': 160.5635528564453, 'LowerStretching': 120.69774627685547, 'Gaming': 117.60993957519531, 'Walking': 122.25611114501953, 'Talking': 116.32940673828125, 'Gesticuling': 153.47683715820312, 'Patting': 119.48052978515625, 'Reacting': 141.49722290039062, 'Greeting': 110.93364715576172}, 'LowerBody': {'All': 188.6380157470703, 'UpperStretching': 192.7140655517578, 'LowerStretching': 192.9206085205078, 'Gaming': 148.3887939453125, 'Walking': 199.26292419433594, 'Talking': 129.2341766357422, 'Gesticuling': 137.21728515625, 'Patting': 159.8057861328125, 'Reacting': 164.5379638671875, 'Greeting': 154.14268493652344}}\n"
     ]
    },
    {
     "name": "stderr",
     "output_type": "stream",
     "text": [
      " 71%|███████   | 3800/5352 [13:54<05:48,  4.45it/s]"
     ]
    },
    {
     "name": "stdout",
     "output_type": "stream",
     "text": [
      "{'FullBody': {'All': 167.27503967285156, 'UpperStretching': 176.8955841064453, 'LowerStretching': 157.15133666992188, 'Gaming': 133.33514404296875, 'Walking': 160.48489379882812, 'Talking': 122.6415023803711, 'Gesticuling': 145.6045379638672, 'Patting': 139.48329162597656, 'Reacting': 152.84747314453125, 'Greeting': 131.84291076660156}, 'UpperBody': {'All': 145.5944061279297, 'UpperStretching': 160.55162048339844, 'LowerStretching': 120.9131851196289, 'Gaming': 118.04611206054688, 'Walking': 121.92186737060547, 'Talking': 116.26814270019531, 'Gesticuling': 153.99449157714844, 'Patting': 119.4780044555664, 'Reacting': 141.4241485595703, 'Greeting': 110.35950469970703}, 'LowerBody': {'All': 188.95565795898438, 'UpperStretching': 193.2395477294922, 'LowerStretching': 193.38946533203125, 'Gaming': 148.62416076660156, 'Walking': 199.04794311523438, 'Talking': 129.01486206054688, 'Gesticuling': 137.21461486816406, 'Patting': 159.48858642578125, 'Reacting': 164.27078247070312, 'Greeting': 153.32632446289062}}\n"
     ]
    },
    {
     "name": "stderr",
     "output_type": "stream",
     "text": [
      " 75%|███████▍  | 4000/5352 [14:37<04:57,  4.55it/s]"
     ]
    },
    {
     "name": "stdout",
     "output_type": "stream",
     "text": [
      "{'FullBody': {'All': 167.21156311035156, 'UpperStretching': 176.73193359375, 'LowerStretching': 157.16665649414062, 'Gaming': 133.5701141357422, 'Walking': 160.67945861816406, 'Talking': 122.45543670654297, 'Gesticuling': 145.47015380859375, 'Patting': 139.17115783691406, 'Reacting': 152.69097900390625, 'Greeting': 132.96697998046875}, 'UpperBody': {'All': 145.56451416015625, 'UpperStretching': 160.41558837890625, 'LowerStretching': 120.96756744384766, 'Gaming': 118.45226287841797, 'Walking': 121.94883728027344, 'Talking': 116.18541717529297, 'Gesticuling': 153.8190155029297, 'Patting': 119.75202178955078, 'Reacting': 141.3192138671875, 'Greeting': 110.97444152832031}, 'LowerBody': {'All': 188.858642578125, 'UpperStretching': 193.0482940673828, 'LowerStretching': 193.36572265625, 'Gaming': 148.68797302246094, 'Walking': 199.4101104736328, 'Talking': 128.72544860839844, 'Gesticuling': 137.12130737304688, 'Patting': 158.59030151367188, 'Reacting': 164.062744140625, 'Greeting': 154.95950317382812}}\n"
     ]
    },
    {
     "name": "stderr",
     "output_type": "stream",
     "text": [
      " 78%|███████▊  | 4200/5352 [15:21<04:26,  4.32it/s]"
     ]
    },
    {
     "name": "stdout",
     "output_type": "stream",
     "text": [
      "{'FullBody': {'All': 167.16903686523438, 'UpperStretching': 176.78900146484375, 'LowerStretching': 156.9452667236328, 'Gaming': 133.44439697265625, 'Walking': 160.4842987060547, 'Talking': 122.15362548828125, 'Gesticuling': 146.00698852539062, 'Patting': 138.95388793945312, 'Reacting': 152.45631408691406, 'Greeting': 133.1894989013672}, 'UpperBody': {'All': 145.52279663085938, 'UpperStretching': 160.43162536621094, 'LowerStretching': 120.87081909179688, 'Gaming': 118.18521118164062, 'Walking': 121.81920623779297, 'Talking': 116.04804992675781, 'Gesticuling': 154.312744140625, 'Patting': 119.4323501586914, 'Reacting': 140.96495056152344, 'Greeting': 110.89733123779297}, 'LowerBody': {'All': 188.8152618408203, 'UpperStretching': 193.14637756347656, 'LowerStretching': 193.0196990966797, 'Gaming': 148.70358276367188, 'Walking': 199.14938354492188, 'Talking': 128.25921630859375, 'Gesticuling': 137.70123291015625, 'Patting': 158.47544860839844, 'Reacting': 163.94764709472656, 'Greeting': 155.481689453125}}\n"
     ]
    },
    {
     "name": "stderr",
     "output_type": "stream",
     "text": [
      " 82%|████████▏ | 4400/5352 [16:05<03:36,  4.40it/s]"
     ]
    },
    {
     "name": "stdout",
     "output_type": "stream",
     "text": [
      "{'FullBody': {'All': 167.30918884277344, 'UpperStretching': 177.00633239746094, 'LowerStretching': 156.820068359375, 'Gaming': 133.68338012695312, 'Walking': 160.5875701904297, 'Talking': 122.16815948486328, 'Gesticuling': 145.6934814453125, 'Patting': 139.1594696044922, 'Reacting': 152.81309509277344, 'Greeting': 133.58705139160156}, 'UpperBody': {'All': 145.56422424316406, 'UpperStretching': 160.50912475585938, 'LowerStretching': 120.80487823486328, 'Gaming': 118.319091796875, 'Walking': 121.90222930908203, 'Talking': 116.09757232666016, 'Gesticuling': 154.07591247558594, 'Patting': 119.4656982421875, 'Reacting': 141.09030151367188, 'Greeting': 111.22169494628906}, 'LowerBody': {'All': 189.05418395996094, 'UpperStretching': 193.50352478027344, 'LowerStretching': 192.83526611328125, 'Gaming': 149.04763793945312, 'Walking': 199.27293395996094, 'Talking': 128.23875427246094, 'Gesticuling': 137.31100463867188, 'Patting': 158.8532257080078, 'Reacting': 164.53587341308594, 'Greeting': 155.95240783691406}}\n"
     ]
    },
    {
     "name": "stderr",
     "output_type": "stream",
     "text": [
      " 86%|████████▌ | 4600/5352 [16:49<02:51,  4.40it/s]"
     ]
    },
    {
     "name": "stdout",
     "output_type": "stream",
     "text": [
      "{'FullBody': {'All': 167.22015380859375, 'UpperStretching': 176.85194396972656, 'LowerStretching': 156.74884033203125, 'Gaming': 133.70162963867188, 'Walking': 160.59103393554688, 'Talking': 122.25172424316406, 'Gesticuling': 145.6075897216797, 'Patting': 139.45785522460938, 'Reacting': 152.8009490966797, 'Greeting': 134.47291564941406}, 'UpperBody': {'All': 145.52967834472656, 'UpperStretching': 160.4280548095703, 'LowerStretching': 120.64595794677734, 'Gaming': 118.38265991210938, 'Walking': 121.89949798583984, 'Talking': 115.88381958007812, 'Gesticuling': 154.40003967285156, 'Patting': 119.66991424560547, 'Reacting': 141.44700622558594, 'Greeting': 111.85549926757812}, 'LowerBody': {'All': 188.91064453125, 'UpperStretching': 193.2758331298828, 'LowerStretching': 192.85171508789062, 'Gaming': 149.02059936523438, 'Walking': 199.28257751464844, 'Talking': 128.61965942382812, 'Gesticuling': 136.8151397705078, 'Patting': 159.2458038330078, 'Reacting': 164.15487670898438, 'Greeting': 157.09033203125}}\n"
     ]
    },
    {
     "name": "stderr",
     "output_type": "stream",
     "text": [
      " 90%|████████▉ | 4800/5352 [17:33<02:09,  4.26it/s]"
     ]
    },
    {
     "name": "stdout",
     "output_type": "stream",
     "text": [
      "{'FullBody': {'All': 167.28981018066406, 'UpperStretching': 176.8673095703125, 'LowerStretching': 156.68399047851562, 'Gaming': 133.4201202392578, 'Walking': 161.08682250976562, 'Talking': 122.42109680175781, 'Gesticuling': 145.5969696044922, 'Patting': 140.57147216796875, 'Reacting': 152.846435546875, 'Greeting': 134.14523315429688}, 'UpperBody': {'All': 145.56680297851562, 'UpperStretching': 160.4053497314453, 'LowerStretching': 120.57693481445312, 'Gaming': 117.99278259277344, 'Walking': 122.27973937988281, 'Talking': 116.02857971191406, 'Gesticuling': 154.53135681152344, 'Patting': 119.99342346191406, 'Reacting': 141.67376708984375, 'Greeting': 111.55117797851562}, 'LowerBody': {'All': 189.01283264160156, 'UpperStretching': 193.32923889160156, 'LowerStretching': 192.79103088378906, 'Gaming': 148.84744262695312, 'Walking': 199.89390563964844, 'Talking': 128.81361389160156, 'Gesticuling': 136.66258239746094, 'Patting': 161.1494903564453, 'Reacting': 164.0191192626953, 'Greeting': 156.73928833007812}}\n"
     ]
    },
    {
     "name": "stderr",
     "output_type": "stream",
     "text": [
      " 93%|█████████▎| 5000/5352 [18:17<01:20,  4.35it/s]"
     ]
    },
    {
     "name": "stdout",
     "output_type": "stream",
     "text": [
      "{'FullBody': {'All': 167.29954528808594, 'UpperStretching': 176.95770263671875, 'LowerStretching': 156.57666015625, 'Gaming': 133.02749633789062, 'Walking': 160.79949951171875, 'Talking': 122.3113784790039, 'Gesticuling': 145.68614196777344, 'Patting': 140.75135803222656, 'Reacting': 152.84933471679688, 'Greeting': 134.41404724121094}, 'UpperBody': {'All': 145.5919952392578, 'UpperStretching': 160.5088348388672, 'LowerStretching': 120.51653289794922, 'Gaming': 117.53404235839844, 'Walking': 122.01124572753906, 'Talking': 115.89700317382812, 'Gesticuling': 154.817138671875, 'Patting': 119.85882568359375, 'Reacting': 141.58209228515625, 'Greeting': 112.07303619384766}, 'LowerBody': {'All': 189.0071258544922, 'UpperStretching': 193.4065399169922, 'LowerStretching': 192.63677978515625, 'Gaming': 148.5209503173828, 'Walking': 199.58778381347656, 'Talking': 128.7257537841797, 'Gesticuling': 136.55514526367188, 'Patting': 161.6438751220703, 'Reacting': 164.11654663085938, 'Greeting': 156.7550506591797}}\n"
     ]
    },
    {
     "name": "stderr",
     "output_type": "stream",
     "text": [
      " 97%|█████████▋| 5200/5352 [19:00<00:34,  4.37it/s]"
     ]
    },
    {
     "name": "stdout",
     "output_type": "stream",
     "text": [
      "{'FullBody': {'All': 167.3819122314453, 'UpperStretching': 176.99053955078125, 'LowerStretching': 156.6860809326172, 'Gaming': 133.25538635253906, 'Walking': 160.95343017578125, 'Talking': 122.56968688964844, 'Gesticuling': 145.63987731933594, 'Patting': 142.00018310546875, 'Reacting': 152.86367797851562, 'Greeting': 133.88697814941406}, 'UpperBody': {'All': 145.62130737304688, 'UpperStretching': 160.46902465820312, 'LowerStretching': 120.56314849853516, 'Gaming': 117.70830535888672, 'Walking': 122.12135314941406, 'Talking': 116.21167755126953, 'Gesticuling': 154.7422637939453, 'Patting': 120.67015075683594, 'Reacting': 141.74859619140625, 'Greeting': 111.87139129638672}, 'LowerBody': {'All': 189.14251708984375, 'UpperStretching': 193.51202392578125, 'LowerStretching': 192.8090057373047, 'Gaming': 148.80245971679688, 'Walking': 199.7855224609375, 'Talking': 128.9276885986328, 'Gesticuling': 136.5374755859375, 'Patting': 163.3302001953125, 'Reacting': 163.97874450683594, 'Greeting': 155.9025421142578}}\n"
     ]
    },
    {
     "name": "stderr",
     "output_type": "stream",
     "text": [
      "100%|██████████| 5352/5352 [19:34<00:00,  4.56it/s]\n",
      "\u001b[94m11:01:02 \u001b[92m[INFO]\u001b[94m Main\u001b[0m: Saving evaluation results...\n",
      "\u001b[94m11:01:02 \u001b[92m[INFO]\u001b[94m Main\u001b[0m: Done.\n",
      "\u001b[94m11:01:02 \u001b[92m[INFO]\u001b[94m Main\u001b[0m: Starting demo...\n",
      "  0%|          | 0/5352 [00:00<?, ?it/s]/opt/conda/lib/python3.10/site-packages/torchvision/transforms/transforms.py:329: UserWarning: Argument 'interpolation' of type int is deprecated since 0.13 and will be removed in 0.15. Please use InterpolationMode enum.\n",
      "  warnings.warn(\n",
      "/opt/conda/lib/python3.10/site-packages/torchvision/transforms/transforms.py:329: UserWarning: Argument 'interpolation' of type int is deprecated since 0.13 and will be removed in 0.15. Please use InterpolationMode enum.\n",
      "  warnings.warn(\n",
      "/opt/conda/lib/python3.10/site-packages/torchvision/transforms/transforms.py:329: UserWarning: Argument 'interpolation' of type int is deprecated since 0.13 and will be removed in 0.15. Please use InterpolationMode enum.\n",
      "  warnings.warn(\n",
      "/opt/conda/lib/python3.10/site-packages/torchvision/transforms/transforms.py:329: UserWarning: Argument 'interpolation' of type int is deprecated since 0.13 and will be removed in 0.15. Please use InterpolationMode enum.\n",
      "  warnings.warn(\n",
      "/opt/conda/lib/python3.10/site-packages/torchvision/transforms/transforms.py:329: UserWarning: Argument 'interpolation' of type int is deprecated since 0.13 and will be removed in 0.15. Please use InterpolationMode enum.\n",
      "  warnings.warn(\n",
      "/opt/conda/lib/python3.10/site-packages/torchvision/transforms/transforms.py:329: UserWarning: Argument 'interpolation' of type int is deprecated since 0.13 and will be removed in 0.15. Please use InterpolationMode enum.\n",
      "  warnings.warn(\n",
      "/opt/conda/lib/python3.10/site-packages/torchvision/transforms/transforms.py:329: UserWarning: Argument 'interpolation' of type int is deprecated since 0.13 and will be removed in 0.15. Please use InterpolationMode enum.\n",
      "  warnings.warn(\n",
      "/opt/conda/lib/python3.10/site-packages/torchvision/transforms/transforms.py:329: UserWarning: Argument 'interpolation' of type int is deprecated since 0.13 and will be removed in 0.15. Please use InterpolationMode enum.\n",
      "  warnings.warn(\n",
      "/opt/conda/lib/python3.10/site-packages/torchvision/transforms/transforms.py:329: UserWarning: Argument 'interpolation' of type int is deprecated since 0.13 and will be removed in 0.15. Please use InterpolationMode enum.\n",
      "  warnings.warn(\n",
      "/opt/conda/lib/python3.10/site-packages/torchvision/transforms/transforms.py:329: UserWarning: Argument 'interpolation' of type int is deprecated since 0.13 and will be removed in 0.15. Please use InterpolationMode enum.\n",
      "  warnings.warn(\n",
      "/opt/conda/lib/python3.10/site-packages/torchvision/transforms/transforms.py:329: UserWarning: Argument 'interpolation' of type int is deprecated since 0.13 and will be removed in 0.15. Please use InterpolationMode enum.\n",
      "  warnings.warn(\n",
      "/opt/conda/lib/python3.10/site-packages/torchvision/transforms/transforms.py:329: UserWarning: Argument 'interpolation' of type int is deprecated since 0.13 and will be removed in 0.15. Please use InterpolationMode enum.\n",
      "  warnings.warn(\n",
      "/opt/conda/lib/python3.10/site-packages/torchvision/transforms/transforms.py:329: UserWarning: Argument 'interpolation' of type int is deprecated since 0.13 and will be removed in 0.15. Please use InterpolationMode enum.\n",
      "  warnings.warn(\n",
      "/opt/conda/lib/python3.10/site-packages/torchvision/transforms/transforms.py:329: UserWarning: Argument 'interpolation' of type int is deprecated since 0.13 and will be removed in 0.15. Please use InterpolationMode enum.\n",
      "  warnings.warn(\n",
      "/opt/conda/lib/python3.10/site-packages/torchvision/transforms/transforms.py:329: UserWarning: Argument 'interpolation' of type int is deprecated since 0.13 and will be removed in 0.15. Please use InterpolationMode enum.\n",
      "  warnings.warn(\n",
      "/opt/conda/lib/python3.10/site-packages/torchvision/transforms/transforms.py:329: UserWarning: Argument 'interpolation' of type int is deprecated since 0.13 and will be removed in 0.15. Please use InterpolationMode enum.\n",
      "  warnings.warn(\n",
      "/opt/conda/lib/python3.10/site-packages/torchvision/transforms/transforms.py:329: UserWarning: Argument 'interpolation' of type int is deprecated since 0.13 and will be removed in 0.15. Please use InterpolationMode enum.\n",
      "  warnings.warn(\n",
      "/opt/conda/lib/python3.10/site-packages/torchvision/transforms/transforms.py:329: UserWarning: Argument 'interpolation' of type int is deprecated since 0.13 and will be removed in 0.15. Please use InterpolationMode enum.\n",
      "  warnings.warn(\n",
      "/opt/conda/lib/python3.10/site-packages/torchvision/transforms/transforms.py:329: UserWarning: Argument 'interpolation' of type int is deprecated since 0.13 and will be removed in 0.15. Please use InterpolationMode enum.\n",
      "  warnings.warn(\n",
      "/opt/conda/lib/python3.10/site-packages/torchvision/transforms/transforms.py:329: UserWarning: Argument 'interpolation' of type int is deprecated since 0.13 and will be removed in 0.15. Please use InterpolationMode enum.\n",
      "  warnings.warn(\n",
      "/opt/conda/lib/python3.10/site-packages/torchvision/transforms/transforms.py:329: UserWarning: Argument 'interpolation' of type int is deprecated since 0.13 and will be removed in 0.15. Please use InterpolationMode enum.\n",
      "  warnings.warn(\n",
      "/opt/conda/lib/python3.10/site-packages/torchvision/transforms/transforms.py:329: UserWarning: Argument 'interpolation' of type int is deprecated since 0.13 and will be removed in 0.15. Please use InterpolationMode enum.\n",
      "  warnings.warn(\n",
      "/opt/conda/lib/python3.10/site-packages/torchvision/transforms/transforms.py:329: UserWarning: Argument 'interpolation' of type int is deprecated since 0.13 and will be removed in 0.15. Please use InterpolationMode enum.\n",
      "  warnings.warn(\n",
      "/opt/conda/lib/python3.10/site-packages/torchvision/transforms/transforms.py:329: UserWarning: Argument 'interpolation' of type int is deprecated since 0.13 and will be removed in 0.15. Please use InterpolationMode enum.\n",
      "  warnings.warn(\n",
      "  4%|▎         | 200/5352 [00:48<18:30,  4.64it/s]"
     ]
    },
    {
     "name": "stdout",
     "output_type": "stream",
     "text": [
      "{'FullBody': {'All': 142.83193969726562, 'Walking': 148.29537963867188, 'UpperStretching': 148.8809814453125, 'LowerStretching': 137.11557006835938, 'Gaming': 106.65729522705078, 'Gesticuling': 103.45207977294922, 'Reacting': 131.24966430664062, 'Talking': 86.19844818115234, 'Patting': 130.79368591308594, 'Greeting': 114.57843017578125}, 'UpperBody': {'All': 116.2134780883789, 'Walking': 100.94725036621094, 'UpperStretching': 129.0526885986328, 'LowerStretching': 92.98834228515625, 'Gaming': 98.9334487915039, 'Gesticuling': 108.6942138671875, 'Reacting': 113.51993560791016, 'Talking': 72.23300170898438, 'Patting': 104.03765106201172, 'Greeting': 96.5260009765625}, 'LowerBody': {'All': 169.45040893554688, 'Walking': 195.64352416992188, 'UpperStretching': 168.70925903320312, 'LowerStretching': 181.24278259277344, 'Gaming': 114.38111877441406, 'Gesticuling': 98.2099380493164, 'Reacting': 148.97940063476562, 'Talking': 100.16390991210938, 'Patting': 157.5496826171875, 'Greeting': 132.630859375}}\n"
     ]
    },
    {
     "name": "stderr",
     "output_type": "stream",
     "text": [
      "  7%|▋         | 400/5352 [01:32<17:45,  4.65it/s]"
     ]
    },
    {
     "name": "stdout",
     "output_type": "stream",
     "text": [
      "{'FullBody': {'All': 142.8213348388672, 'Walking': 145.12657165527344, 'UpperStretching': 150.08029174804688, 'LowerStretching': 134.76229858398438, 'Gaming': 109.75839233398438, 'Gesticuling': 105.28597259521484, 'Reacting': 132.045166015625, 'Talking': 89.99250793457031, 'Patting': 123.56097412109375, 'Greeting': 117.53512573242188}, 'UpperBody': {'All': 116.24011993408203, 'Walking': 99.74158477783203, 'UpperStretching': 129.7657012939453, 'LowerStretching': 91.67240905761719, 'Gaming': 98.80952453613281, 'Gesticuling': 110.62107849121094, 'Reacting': 115.02639770507812, 'Talking': 76.39645385742188, 'Patting': 99.6543197631836, 'Greeting': 97.75003051757812}, 'LowerBody': {'All': 169.40257263183594, 'Walking': 190.51156616210938, 'UpperStretching': 170.39491271972656, 'LowerStretching': 177.85220336914062, 'Gaming': 120.7072525024414, 'Gesticuling': 99.95083618164062, 'Reacting': 149.06394958496094, 'Talking': 103.58857727050781, 'Patting': 147.46762084960938, 'Greeting': 137.32020568847656}}\n"
     ]
    },
    {
     "name": "stderr",
     "output_type": "stream",
     "text": [
      " 11%|█         | 600/5352 [02:16<17:47,  4.45it/s]"
     ]
    },
    {
     "name": "stdout",
     "output_type": "stream",
     "text": [
      "{'FullBody': {'All': 142.61927795410156, 'Walking': 143.13253784179688, 'UpperStretching': 150.3760528564453, 'LowerStretching': 134.00262451171875, 'Gaming': 111.69778442382812, 'Gesticuling': 105.47842407226562, 'Reacting': 134.19715881347656, 'Talking': 89.31312561035156, 'Patting': 120.58094787597656, 'Greeting': 116.09458923339844}, 'UpperBody': {'All': 116.55529022216797, 'Walking': 99.0609359741211, 'UpperStretching': 129.881591796875, 'LowerStretching': 92.1146011352539, 'Gaming': 101.90679168701172, 'Gesticuling': 110.40340423583984, 'Reacting': 118.27693176269531, 'Talking': 78.11920166015625, 'Patting': 96.38267517089844, 'Greeting': 96.67597198486328}, 'LowerBody': {'All': 168.68325805664062, 'Walking': 187.20411682128906, 'UpperStretching': 170.87051391601562, 'LowerStretching': 175.89068603515625, 'Gaming': 121.48876953125, 'Gesticuling': 100.55345916748047, 'Reacting': 150.11741638183594, 'Talking': 100.50704956054688, 'Patting': 144.7792205810547, 'Greeting': 135.51321411132812}}\n"
     ]
    },
    {
     "name": "stderr",
     "output_type": "stream",
     "text": [
      " 15%|█▍        | 800/5352 [02:59<16:55,  4.48it/s]"
     ]
    },
    {
     "name": "stdout",
     "output_type": "stream",
     "text": [
      "{'FullBody': {'All': 141.78628540039062, 'Walking': 141.99310302734375, 'UpperStretching': 148.874267578125, 'LowerStretching': 135.3125, 'Gaming': 111.25607299804688, 'Gesticuling': 106.41797637939453, 'Reacting': 133.12908935546875, 'Talking': 88.25050354003906, 'Patting': 120.489013671875, 'Greeting': 114.23727416992188}, 'UpperBody': {'All': 115.98284912109375, 'Walking': 97.75335693359375, 'UpperStretching': 129.03343200683594, 'LowerStretching': 92.52617645263672, 'Gaming': 101.92545318603516, 'Gesticuling': 110.6053466796875, 'Reacting': 117.9190902709961, 'Talking': 78.42523956298828, 'Patting': 97.67694091796875, 'Greeting': 95.11919403076172}, 'LowerBody': {'All': 167.5897216796875, 'Walking': 186.23287963867188, 'UpperStretching': 168.71511840820312, 'LowerStretching': 178.09884643554688, 'Gaming': 120.58670806884766, 'Gesticuling': 102.23060607910156, 'Reacting': 148.33909606933594, 'Talking': 98.07575988769531, 'Patting': 143.3010711669922, 'Greeting': 133.35536193847656}}\n"
     ]
    },
    {
     "name": "stderr",
     "output_type": "stream",
     "text": [
      " 19%|█▊        | 1000/5352 [03:43<15:39,  4.63it/s]"
     ]
    },
    {
     "name": "stdout",
     "output_type": "stream",
     "text": [
      "{'FullBody': {'All': 142.11607360839844, 'Walking': 144.1616668701172, 'UpperStretching': 149.02505493164062, 'LowerStretching': 135.172607421875, 'Gaming': 112.54830932617188, 'Gesticuling': 108.08509826660156, 'Reacting': 133.38775634765625, 'Talking': 88.72502899169922, 'Patting': 118.35181427001953, 'Greeting': 115.37034606933594}, 'UpperBody': {'All': 115.6418228149414, 'Walking': 98.27379608154297, 'UpperStretching': 128.5470733642578, 'LowerStretching': 92.37916564941406, 'Gaming': 103.27945709228516, 'Gesticuling': 112.0368423461914, 'Reacting': 118.05416107177734, 'Talking': 78.66203308105469, 'Patting': 94.77688598632812, 'Greeting': 95.6446533203125}, 'LowerBody': {'All': 168.59034729003906, 'Walking': 190.04954528808594, 'UpperStretching': 169.5030059814453, 'LowerStretching': 177.96604919433594, 'Gaming': 121.81717681884766, 'Gesticuling': 104.13335418701172, 'Reacting': 148.7213592529297, 'Talking': 98.78803253173828, 'Patting': 141.9267578125, 'Greeting': 135.0960235595703}}\n"
     ]
    },
    {
     "name": "stderr",
     "output_type": "stream",
     "text": [
      " 22%|██▏       | 1200/5352 [04:26<15:19,  4.52it/s]"
     ]
    },
    {
     "name": "stdout",
     "output_type": "stream",
     "text": [
      "{'FullBody': {'All': 142.3297576904297, 'Walking': 143.8116912841797, 'UpperStretching': 149.58274841308594, 'LowerStretching': 135.18247985839844, 'Gaming': 112.60163116455078, 'Gesticuling': 107.52558135986328, 'Reacting': 133.6722869873047, 'Talking': 89.68916320800781, 'Patting': 116.10067749023438, 'Greeting': 115.43028259277344}, 'UpperBody': {'All': 115.8919677734375, 'Walking': 98.3828125, 'UpperStretching': 128.9970703125, 'LowerStretching': 92.47827911376953, 'Gaming': 103.04420471191406, 'Gesticuling': 110.63648986816406, 'Reacting': 118.62548065185547, 'Talking': 78.91741180419922, 'Patting': 94.24068450927734, 'Greeting': 94.6258544921875}, 'LowerBody': {'All': 168.7675323486328, 'Walking': 189.24053955078125, 'UpperStretching': 170.1684112548828, 'LowerStretching': 177.88665771484375, 'Gaming': 122.15904235839844, 'Gesticuling': 104.41465759277344, 'Reacting': 148.71908569335938, 'Talking': 100.46092224121094, 'Patting': 137.96067810058594, 'Greeting': 136.23471069335938}}\n"
     ]
    },
    {
     "name": "stderr",
     "output_type": "stream",
     "text": [
      " 26%|██▌       | 1400/5352 [05:10<14:28,  4.55it/s]"
     ]
    },
    {
     "name": "stdout",
     "output_type": "stream",
     "text": [
      "{'FullBody': {'All': 142.82760620117188, 'Walking': 144.24742126464844, 'UpperStretching': 150.22872924804688, 'LowerStretching': 135.228515625, 'Gaming': 112.53624725341797, 'Gesticuling': 107.56309509277344, 'Reacting': 135.2806396484375, 'Talking': 89.67066192626953, 'Patting': 116.49860382080078, 'Greeting': 116.34015655517578}, 'UpperBody': {'All': 116.21870422363281, 'Walking': 98.76971435546875, 'UpperStretching': 129.24856567382812, 'LowerStretching': 92.6317367553711, 'Gaming': 103.26988983154297, 'Gesticuling': 110.84333801269531, 'Reacting': 120.73252868652344, 'Talking': 78.78056335449219, 'Patting': 94.55488586425781, 'Greeting': 95.4422836303711}, 'LowerBody': {'All': 169.43649291992188, 'Walking': 189.72515869140625, 'UpperStretching': 171.20889282226562, 'LowerStretching': 177.8252716064453, 'Gaming': 121.80259704589844, 'Gesticuling': 104.2828598022461, 'Reacting': 149.82875061035156, 'Talking': 100.56074523925781, 'Patting': 138.44232177734375, 'Greeting': 137.23805236816406}}\n"
     ]
    },
    {
     "name": "stderr",
     "output_type": "stream",
     "text": [
      " 30%|██▉       | 1600/5352 [05:54<13:33,  4.61it/s]"
     ]
    },
    {
     "name": "stdout",
     "output_type": "stream",
     "text": [
      "{'FullBody': {'All': 142.87403869628906, 'Walking': 145.6021728515625, 'UpperStretching': 150.3528594970703, 'LowerStretching': 134.35769653320312, 'Gaming': 112.80413818359375, 'Gesticuling': 107.45207214355469, 'Reacting': 134.0031280517578, 'Talking': 90.17817687988281, 'Patting': 115.6794204711914, 'Greeting': 118.01260375976562}, 'UpperBody': {'All': 116.06316375732422, 'Walking': 98.81729125976562, 'UpperStretching': 129.15745544433594, 'LowerStretching': 92.20932006835938, 'Gaming': 102.75788116455078, 'Gesticuling': 110.5708236694336, 'Reacting': 119.47559356689453, 'Talking': 79.54267120361328, 'Patting': 94.36483001708984, 'Greeting': 96.8240966796875}, 'LowerBody': {'All': 169.68492126464844, 'Walking': 192.38702392578125, 'UpperStretching': 171.54823303222656, 'LowerStretching': 176.50607299804688, 'Gaming': 122.85040283203125, 'Gesticuling': 104.33332061767578, 'Reacting': 148.53065490722656, 'Talking': 100.81368255615234, 'Patting': 136.9940185546875, 'Greeting': 139.20114135742188}}\n"
     ]
    },
    {
     "name": "stderr",
     "output_type": "stream",
     "text": [
      " 34%|███▎      | 1800/5352 [06:37<13:08,  4.51it/s]"
     ]
    },
    {
     "name": "stdout",
     "output_type": "stream",
     "text": [
      "{'FullBody': {'All': 142.68563842773438, 'Walking': 145.53555297851562, 'UpperStretching': 150.17202758789062, 'LowerStretching': 134.1374969482422, 'Gaming': 113.01673126220703, 'Gesticuling': 108.30443572998047, 'Reacting': 134.5229034423828, 'Talking': 89.61927795410156, 'Patting': 114.96609497070312, 'Greeting': 116.82842254638672}, 'UpperBody': {'All': 115.91915130615234, 'Walking': 98.72565460205078, 'UpperStretching': 129.0116729736328, 'LowerStretching': 92.15432739257812, 'Gaming': 103.67070007324219, 'Gesticuling': 111.55742645263672, 'Reacting': 119.58314514160156, 'Talking': 78.7533950805664, 'Patting': 93.73790740966797, 'Greeting': 95.96070098876953}, 'LowerBody': {'All': 169.4521484375, 'Walking': 192.34547424316406, 'UpperStretching': 171.33241271972656, 'LowerStretching': 176.1206512451172, 'Gaming': 122.3627700805664, 'Gesticuling': 105.05142974853516, 'Reacting': 149.46266174316406, 'Talking': 100.48516082763672, 'Patting': 136.19427490234375, 'Greeting': 137.69613647460938}}\n"
     ]
    },
    {
     "name": "stderr",
     "output_type": "stream",
     "text": [
      " 37%|███▋      | 2000/5352 [07:21<12:26,  4.49it/s]"
     ]
    },
    {
     "name": "stdout",
     "output_type": "stream",
     "text": [
      "{'FullBody': {'All': 142.6855010986328, 'Walking': 145.1937713623047, 'UpperStretching': 150.15777587890625, 'LowerStretching': 134.40524291992188, 'Gaming': 114.07716369628906, 'Gesticuling': 107.57195281982422, 'Reacting': 133.82432556152344, 'Talking': 89.76368713378906, 'Patting': 115.77503204345703, 'Greeting': 115.84586334228516}, 'UpperBody': {'All': 115.98775482177734, 'Walking': 98.87199401855469, 'UpperStretching': 128.96282958984375, 'LowerStretching': 92.23888397216797, 'Gaming': 104.6197280883789, 'Gesticuling': 110.24726867675781, 'Reacting': 118.92487335205078, 'Talking': 79.01104736328125, 'Patting': 94.56965637207031, 'Greeting': 95.60784149169922}, 'LowerBody': {'All': 169.38323974609375, 'Walking': 191.51556396484375, 'UpperStretching': 171.3527374267578, 'LowerStretching': 176.5716094970703, 'Gaming': 123.53461456298828, 'Gesticuling': 104.89663696289062, 'Reacting': 148.72378540039062, 'Talking': 100.51632690429688, 'Patting': 136.98037719726562, 'Greeting': 136.0839080810547}}\n"
     ]
    },
    {
     "name": "stderr",
     "output_type": "stream",
     "text": [
      " 41%|████      | 2200/5352 [08:05<11:35,  4.53it/s]"
     ]
    },
    {
     "name": "stdout",
     "output_type": "stream",
     "text": [
      "{'FullBody': {'All': 142.7049560546875, 'Walking': 145.3634796142578, 'UpperStretching': 150.29318237304688, 'LowerStretching': 134.0623016357422, 'Gaming': 113.96211242675781, 'Gesticuling': 107.37489318847656, 'Reacting': 133.45709228515625, 'Talking': 89.7444076538086, 'Patting': 117.20024108886719, 'Greeting': 115.24932861328125}, 'UpperBody': {'All': 115.9410171508789, 'Walking': 98.86101531982422, 'UpperStretching': 128.93075561523438, 'LowerStretching': 92.15399932861328, 'Gaming': 104.22862243652344, 'Gesticuling': 110.39283752441406, 'Reacting': 118.82433319091797, 'Talking': 79.06028747558594, 'Patting': 95.28028869628906, 'Greeting': 95.51126098632812}, 'LowerBody': {'All': 169.46888732910156, 'Walking': 191.86590576171875, 'UpperStretching': 171.65562438964844, 'LowerStretching': 175.97059631347656, 'Gaming': 123.69561767578125, 'Gesticuling': 104.35694885253906, 'Reacting': 148.08984375, 'Talking': 100.42852020263672, 'Patting': 139.1201629638672, 'Greeting': 134.98741149902344}}\n"
     ]
    },
    {
     "name": "stderr",
     "output_type": "stream",
     "text": [
      " 45%|████▍     | 2400/5352 [08:49<11:22,  4.32it/s]"
     ]
    },
    {
     "name": "stdout",
     "output_type": "stream",
     "text": [
      "{'FullBody': {'All': 142.87423706054688, 'Walking': 145.60250854492188, 'UpperStretching': 150.4223175048828, 'LowerStretching': 134.148681640625, 'Gaming': 114.1071548461914, 'Gesticuling': 107.44853973388672, 'Reacting': 133.7153778076172, 'Talking': 89.18064880371094, 'Patting': 120.02481079101562, 'Greeting': 115.3284683227539}, 'UpperBody': {'All': 115.92231750488281, 'Walking': 99.13165283203125, 'UpperStretching': 128.78997802734375, 'LowerStretching': 92.13790893554688, 'Gaming': 103.93650817871094, 'Gesticuling': 110.69300842285156, 'Reacting': 119.18799591064453, 'Talking': 78.86264038085938, 'Patting': 96.1495361328125, 'Greeting': 95.78520202636719}, 'LowerBody': {'All': 169.82614135742188, 'Walking': 192.07337951660156, 'UpperStretching': 172.0546417236328, 'LowerStretching': 176.15945434570312, 'Gaming': 124.27780151367188, 'Gesticuling': 104.20406341552734, 'Reacting': 148.2427520751953, 'Talking': 99.49867248535156, 'Patting': 143.90008544921875, 'Greeting': 134.87173461914062}}\n"
     ]
    },
    {
     "name": "stderr",
     "output_type": "stream",
     "text": [
      " 49%|████▊     | 2600/5352 [09:32<10:16,  4.46it/s]"
     ]
    },
    {
     "name": "stdout",
     "output_type": "stream",
     "text": [
      "{'FullBody': {'All': 143.049560546875, 'Walking': 145.4650421142578, 'UpperStretching': 150.57736206054688, 'LowerStretching': 134.4074249267578, 'Gaming': 115.72027587890625, 'Gesticuling': 107.35552978515625, 'Reacting': 133.55918884277344, 'Talking': 89.68486022949219, 'Patting': 119.76317596435547, 'Greeting': 114.81397247314453}, 'UpperBody': {'All': 116.1153335571289, 'Walking': 99.14017486572266, 'UpperStretching': 128.97640991210938, 'LowerStretching': 92.3581314086914, 'Gaming': 105.9592056274414, 'Gesticuling': 110.47132110595703, 'Reacting': 119.15159606933594, 'Talking': 79.22785949707031, 'Patting': 95.91793823242188, 'Greeting': 95.13996887207031}, 'LowerBody': {'All': 169.98377990722656, 'Walking': 191.78988647460938, 'UpperStretching': 172.17831420898438, 'LowerStretching': 176.45672607421875, 'Gaming': 125.48135375976562, 'Gesticuling': 104.23971557617188, 'Reacting': 147.96678161621094, 'Talking': 100.14185333251953, 'Patting': 143.60841369628906, 'Greeting': 134.48797607421875}}\n"
     ]
    },
    {
     "name": "stderr",
     "output_type": "stream",
     "text": [
      " 52%|█████▏    | 2800/5352 [10:16<09:28,  4.49it/s]"
     ]
    },
    {
     "name": "stdout",
     "output_type": "stream",
     "text": [
      "{'FullBody': {'All': 143.04132080078125, 'Walking': 146.1052703857422, 'UpperStretching': 150.3759002685547, 'LowerStretching': 134.41636657714844, 'Gaming': 116.13224792480469, 'Gesticuling': 107.84261322021484, 'Reacting': 132.9750518798828, 'Talking': 90.07649230957031, 'Patting': 120.0313720703125, 'Greeting': 114.93763732910156}, 'UpperBody': {'All': 116.13339233398438, 'Walking': 99.3801498413086, 'UpperStretching': 128.91177368164062, 'LowerStretching': 92.34371185302734, 'Gaming': 106.23907470703125, 'Gesticuling': 110.9958724975586, 'Reacting': 118.45182037353516, 'Talking': 80.10357666015625, 'Patting': 95.85480499267578, 'Greeting': 95.24310302734375}, 'LowerBody': {'All': 169.94924926757812, 'Walking': 192.83038330078125, 'UpperStretching': 171.84002685546875, 'LowerStretching': 176.489013671875, 'Gaming': 126.02542877197266, 'Gesticuling': 104.68934631347656, 'Reacting': 147.49830627441406, 'Talking': 100.04940795898438, 'Patting': 144.2079315185547, 'Greeting': 134.63217163085938}}\n"
     ]
    },
    {
     "name": "stderr",
     "output_type": "stream",
     "text": [
      " 56%|█████▌    | 3000/5352 [10:59<09:00,  4.35it/s]"
     ]
    },
    {
     "name": "stdout",
     "output_type": "stream",
     "text": [
      "{'FullBody': {'All': 142.86888122558594, 'Walking': 145.97406005859375, 'UpperStretching': 150.08816528320312, 'LowerStretching': 134.0963134765625, 'Gaming': 116.36128997802734, 'Gesticuling': 107.99283599853516, 'Reacting': 133.70994567871094, 'Talking': 90.40948486328125, 'Patting': 120.94573211669922, 'Greeting': 114.30903625488281}, 'UpperBody': {'All': 115.98318481445312, 'Walking': 99.32569885253906, 'UpperStretching': 128.604736328125, 'LowerStretching': 92.12762451171875, 'Gaming': 106.45370483398438, 'Gesticuling': 111.27471160888672, 'Reacting': 118.9706802368164, 'Talking': 80.47968292236328, 'Patting': 96.51828002929688, 'Greeting': 94.87972259521484}, 'LowerBody': {'All': 169.75457763671875, 'Walking': 192.62240600585938, 'UpperStretching': 171.5715789794922, 'LowerStretching': 176.0650177001953, 'Gaming': 126.26887512207031, 'Gesticuling': 104.71097564697266, 'Reacting': 148.44923400878906, 'Talking': 100.33927154541016, 'Patting': 145.37318420410156, 'Greeting': 133.7383575439453}}\n"
     ]
    },
    {
     "name": "stderr",
     "output_type": "stream",
     "text": [
      " 60%|█████▉    | 3200/5352 [11:43<08:07,  4.42it/s]"
     ]
    },
    {
     "name": "stdout",
     "output_type": "stream",
     "text": [
      "{'FullBody': {'All': 142.69029235839844, 'Walking': 145.14776611328125, 'UpperStretching': 150.04197692871094, 'LowerStretching': 133.83302307128906, 'Gaming': 116.48429107666016, 'Gesticuling': 107.72459411621094, 'Reacting': 133.27850341796875, 'Talking': 90.20886993408203, 'Patting': 121.00576782226562, 'Greeting': 114.41126251220703}, 'UpperBody': {'All': 115.9711685180664, 'Walking': 98.9581069946289, 'UpperStretching': 128.70773315429688, 'LowerStretching': 91.94017791748047, 'Gaming': 106.71953582763672, 'Gesticuling': 110.86766052246094, 'Reacting': 118.78245544433594, 'Talking': 80.18191528320312, 'Patting': 96.46283721923828, 'Greeting': 94.93101501464844}, 'LowerBody': {'All': 169.40940856933594, 'Walking': 191.33741760253906, 'UpperStretching': 171.37619018554688, 'LowerStretching': 175.72586059570312, 'Gaming': 126.24905395507812, 'Gesticuling': 104.58150482177734, 'Reacting': 147.77455139160156, 'Talking': 100.23580932617188, 'Patting': 145.54867553710938, 'Greeting': 133.89149475097656}}\n"
     ]
    },
    {
     "name": "stderr",
     "output_type": "stream",
     "text": [
      " 64%|██████▎   | 3400/5352 [12:27<07:09,  4.54it/s]"
     ]
    },
    {
     "name": "stdout",
     "output_type": "stream",
     "text": [
      "{'FullBody': {'All': 142.87069702148438, 'Walking': 145.35801696777344, 'UpperStretching': 150.37347412109375, 'LowerStretching': 133.5896453857422, 'Gaming': 116.19132232666016, 'Gesticuling': 107.37297058105469, 'Reacting': 133.10154724121094, 'Talking': 90.74205780029297, 'Patting': 122.19290161132812, 'Greeting': 113.93427276611328}, 'UpperBody': {'All': 116.04737091064453, 'Walking': 99.12174987792969, 'UpperStretching': 128.8260955810547, 'LowerStretching': 91.86551666259766, 'Gaming': 106.15798950195312, 'Gesticuling': 110.20805358886719, 'Reacting': 118.60999298095703, 'Talking': 80.85596466064453, 'Patting': 97.30187225341797, 'Greeting': 94.5048828125}, 'LowerBody': {'All': 169.69400024414062, 'Walking': 191.59429931640625, 'UpperStretching': 171.92083740234375, 'LowerStretching': 175.31378173828125, 'Gaming': 126.22465515136719, 'Gesticuling': 104.53789520263672, 'Reacting': 147.59310913085938, 'Talking': 100.62815856933594, 'Patting': 147.08392333984375, 'Greeting': 133.36367797851562}}\n"
     ]
    },
    {
     "name": "stderr",
     "output_type": "stream",
     "text": [
      " 67%|██████▋   | 3600/5352 [13:11<06:47,  4.30it/s]"
     ]
    },
    {
     "name": "stdout",
     "output_type": "stream",
     "text": [
      "{'FullBody': {'All': 142.96463012695312, 'Walking': 145.8839874267578, 'UpperStretching': 150.3966522216797, 'LowerStretching': 133.7429962158203, 'Gaming': 115.95830535888672, 'Gesticuling': 107.34069061279297, 'Reacting': 133.09613037109375, 'Talking': 90.41024017333984, 'Patting': 121.92147064208984, 'Greeting': 113.83890533447266}, 'UpperBody': {'All': 116.12227630615234, 'Walking': 99.32421112060547, 'UpperStretching': 128.8990936279297, 'LowerStretching': 91.9102783203125, 'Gaming': 105.85979461669922, 'Gesticuling': 109.8498764038086, 'Reacting': 118.50299835205078, 'Talking': 80.79972076416016, 'Patting': 97.10839080810547, 'Greeting': 94.42923736572266}, 'LowerBody': {'All': 169.8069610595703, 'Walking': 192.4437713623047, 'UpperStretching': 171.89419555664062, 'LowerStretching': 175.57571411132812, 'Gaming': 126.05683135986328, 'Gesticuling': 104.83148956298828, 'Reacting': 147.68927001953125, 'Talking': 100.02076721191406, 'Patting': 146.73451232910156, 'Greeting': 133.2485809326172}}\n"
     ]
    },
    {
     "name": "stderr",
     "output_type": "stream",
     "text": [
      " 71%|███████   | 3800/5352 [13:54<05:48,  4.45it/s]"
     ]
    },
    {
     "name": "stdout",
     "output_type": "stream",
     "text": [
      "{'FullBody': {'All': 142.92149353027344, 'Walking': 145.80946350097656, 'UpperStretching': 150.41017150878906, 'LowerStretching': 133.59510803222656, 'Gaming': 115.7756576538086, 'Gesticuling': 107.00830078125, 'Reacting': 132.88336181640625, 'Talking': 89.74638366699219, 'Patting': 122.10819244384766, 'Greeting': 113.17681884765625}, 'UpperBody': {'All': 116.04940795898438, 'Walking': 99.35509490966797, 'UpperStretching': 128.8367156982422, 'LowerStretching': 91.78909301757812, 'Gaming': 105.42163848876953, 'Gesticuling': 109.40957641601562, 'Reacting': 118.51709747314453, 'Talking': 80.19656372070312, 'Patting': 96.96902465820312, 'Greeting': 93.99632263183594}, 'LowerBody': {'All': 169.7935791015625, 'Walking': 192.2638397216797, 'UpperStretching': 171.98362731933594, 'LowerStretching': 175.40115356445312, 'Gaming': 126.12966918945312, 'Gesticuling': 104.60701751708984, 'Reacting': 147.24960327148438, 'Talking': 99.29621124267578, 'Patting': 147.24732971191406, 'Greeting': 132.35731506347656}}\n"
     ]
    },
    {
     "name": "stderr",
     "output_type": "stream",
     "text": [
      " 75%|███████▍  | 4000/5352 [14:38<05:08,  4.38it/s]"
     ]
    },
    {
     "name": "stdout",
     "output_type": "stream",
     "text": [
      "{'FullBody': {'All': 142.93722534179688, 'Walking': 145.796875, 'UpperStretching': 150.46395874023438, 'LowerStretching': 133.5810546875, 'Gaming': 115.61799621582031, 'Gesticuling': 107.18341827392578, 'Reacting': 132.72645568847656, 'Talking': 89.83944702148438, 'Patting': 122.09416961669922, 'Greeting': 113.44818115234375}, 'UpperBody': {'All': 116.08208465576172, 'Walking': 99.3281478881836, 'UpperStretching': 128.88092041015625, 'LowerStretching': 91.84566497802734, 'Gaming': 105.19320678710938, 'Gesticuling': 110.01148986816406, 'Reacting': 118.32870483398438, 'Talking': 80.33621215820312, 'Patting': 96.88075256347656, 'Greeting': 94.40907287597656}, 'LowerBody': {'All': 169.79234313964844, 'Walking': 192.26559448242188, 'UpperStretching': 172.04696655273438, 'LowerStretching': 175.31643676757812, 'Gaming': 126.04279327392578, 'Gesticuling': 104.35535430908203, 'Reacting': 147.1242218017578, 'Talking': 99.34268188476562, 'Patting': 147.3076171875, 'Greeting': 132.48727416992188}}\n"
     ]
    },
    {
     "name": "stderr",
     "output_type": "stream",
     "text": [
      " 78%|███████▊  | 4200/5352 [15:22<04:29,  4.28it/s]"
     ]
    },
    {
     "name": "stdout",
     "output_type": "stream",
     "text": [
      "{'FullBody': {'All': 142.952392578125, 'Walking': 146.09584045410156, 'UpperStretching': 150.41233825683594, 'LowerStretching': 133.5890350341797, 'Gaming': 115.7506332397461, 'Gesticuling': 107.60328674316406, 'Reacting': 133.2244110107422, 'Talking': 89.99114990234375, 'Patting': 121.80602264404297, 'Greeting': 113.25663757324219}, 'UpperBody': {'All': 116.11096954345703, 'Walking': 99.44068908691406, 'UpperStretching': 128.8583221435547, 'LowerStretching': 91.83527374267578, 'Gaming': 104.9433364868164, 'Gesticuling': 110.74906921386719, 'Reacting': 118.84223937988281, 'Talking': 80.5014419555664, 'Patting': 96.68053436279297, 'Greeting': 94.4330825805664}, 'LowerBody': {'All': 169.79380798339844, 'Walking': 192.75096130371094, 'UpperStretching': 171.9663543701172, 'LowerStretching': 175.3428192138672, 'Gaming': 126.55792999267578, 'Gesticuling': 104.45751953125, 'Reacting': 147.60659790039062, 'Talking': 99.48085021972656, 'Patting': 146.9315185546875, 'Greeting': 132.08021545410156}}\n"
     ]
    },
    {
     "name": "stderr",
     "output_type": "stream",
     "text": [
      " 82%|████████▏ | 4400/5352 [16:06<03:44,  4.24it/s]"
     ]
    },
    {
     "name": "stdout",
     "output_type": "stream",
     "text": [
      "{'FullBody': {'All': 143.05245971679688, 'Walking': 146.21463012695312, 'UpperStretching': 150.54592895507812, 'LowerStretching': 133.6941375732422, 'Gaming': 115.70681762695312, 'Gesticuling': 107.697265625, 'Reacting': 133.0264892578125, 'Talking': 89.69991302490234, 'Patting': 121.33938598632812, 'Greeting': 112.99732971191406}, 'UpperBody': {'All': 116.15210723876953, 'Walking': 99.5395736694336, 'UpperStretching': 128.87689208984375, 'LowerStretching': 92.01953887939453, 'Gaming': 104.64734649658203, 'Gesticuling': 110.92742156982422, 'Reacting': 118.73955535888672, 'Talking': 80.12306213378906, 'Patting': 96.63047790527344, 'Greeting': 94.15412139892578}, 'LowerBody': {'All': 169.95278930664062, 'Walking': 192.88967895507812, 'UpperStretching': 172.21495056152344, 'LowerStretching': 175.36874389648438, 'Gaming': 126.76631164550781, 'Gesticuling': 104.46712493896484, 'Reacting': 147.3134307861328, 'Talking': 99.2767562866211, 'Patting': 146.0482940673828, 'Greeting': 131.84051513671875}}\n"
     ]
    },
    {
     "name": "stderr",
     "output_type": "stream",
     "text": [
      " 86%|████████▌ | 4600/5352 [16:50<02:51,  4.38it/s]"
     ]
    },
    {
     "name": "stdout",
     "output_type": "stream",
     "text": [
      "{'FullBody': {'All': 143.02357482910156, 'Walking': 146.36904907226562, 'UpperStretching': 150.47337341308594, 'LowerStretching': 133.762451171875, 'Gaming': 115.9579849243164, 'Gesticuling': 107.46939086914062, 'Reacting': 133.05181884765625, 'Talking': 89.7288589477539, 'Patting': 120.86508178710938, 'Greeting': 112.97103118896484}, 'UpperBody': {'All': 116.11027526855469, 'Walking': 99.59339141845703, 'UpperStretching': 128.84674072265625, 'LowerStretching': 92.04492950439453, 'Gaming': 104.59194946289062, 'Gesticuling': 110.7740249633789, 'Reacting': 118.62866973876953, 'Talking': 80.38909149169922, 'Patting': 96.47074890136719, 'Greeting': 93.9437484741211}, 'LowerBody': {'All': 169.9368438720703, 'Walking': 193.1446990966797, 'UpperStretching': 172.10000610351562, 'LowerStretching': 175.47994995117188, 'Gaming': 127.32405853271484, 'Gesticuling': 104.1647720336914, 'Reacting': 147.47496032714844, 'Talking': 99.06861877441406, 'Patting': 145.2593994140625, 'Greeting': 131.99835205078125}}\n"
     ]
    },
    {
     "name": "stderr",
     "output_type": "stream",
     "text": [
      " 90%|████████▉ | 4800/5352 [17:33<02:11,  4.20it/s]"
     ]
    },
    {
     "name": "stdout",
     "output_type": "stream",
     "text": [
      "{'FullBody': {'All': 143.139892578125, 'Walking': 146.4607696533203, 'UpperStretching': 150.61119079589844, 'LowerStretching': 133.7787628173828, 'Gaming': 115.4472885131836, 'Gesticuling': 107.37232208251953, 'Reacting': 133.38330078125, 'Talking': 89.91246032714844, 'Patting': 121.26561737060547, 'Greeting': 112.68427276611328}, 'UpperBody': {'All': 116.20128631591797, 'Walking': 99.64837646484375, 'UpperStretching': 128.9355010986328, 'LowerStretching': 92.10301971435547, 'Gaming': 104.15504455566406, 'Gesticuling': 110.74441528320312, 'Reacting': 119.14424133300781, 'Talking': 80.43595886230469, 'Patting': 96.68355560302734, 'Greeting': 93.67337036132812}, 'LowerBody': {'All': 170.07847595214844, 'Walking': 193.27313232421875, 'UpperStretching': 172.286865234375, 'LowerStretching': 175.4545135498047, 'Gaming': 126.73950958251953, 'Gesticuling': 104.00022888183594, 'Reacting': 147.6223602294922, 'Talking': 99.38896942138672, 'Patting': 145.84767150878906, 'Greeting': 131.69517517089844}}\n"
     ]
    },
    {
     "name": "stderr",
     "output_type": "stream",
     "text": [
      " 93%|█████████▎| 5000/5352 [18:17<01:22,  4.27it/s]"
     ]
    },
    {
     "name": "stdout",
     "output_type": "stream",
     "text": [
      "{'FullBody': {'All': 143.1246795654297, 'Walking': 146.68386840820312, 'UpperStretching': 150.53761291503906, 'LowerStretching': 133.7199249267578, 'Gaming': 115.27376556396484, 'Gesticuling': 107.47232818603516, 'Reacting': 133.70079040527344, 'Talking': 89.93843078613281, 'Patting': 121.87943267822266, 'Greeting': 112.34695434570312}, 'UpperBody': {'All': 116.18293762207031, 'Walking': 99.82791137695312, 'UpperStretching': 128.88645935058594, 'LowerStretching': 92.04234313964844, 'Gaming': 103.68926239013672, 'Gesticuling': 110.79234313964844, 'Reacting': 119.28117370605469, 'Talking': 80.64730834960938, 'Patting': 96.89887237548828, 'Greeting': 93.47694396972656}, 'LowerBody': {'All': 170.06639099121094, 'Walking': 193.53977966308594, 'UpperStretching': 172.1887664794922, 'LowerStretching': 175.39752197265625, 'Gaming': 126.85828399658203, 'Gesticuling': 104.15230560302734, 'Reacting': 148.1204071044922, 'Talking': 99.22955322265625, 'Patting': 146.8599853515625, 'Greeting': 131.21694946289062}}\n"
     ]
    },
    {
     "name": "stderr",
     "output_type": "stream",
     "text": [
      " 97%|█████████▋| 5200/5352 [19:01<00:35,  4.28it/s]"
     ]
    },
    {
     "name": "stdout",
     "output_type": "stream",
     "text": [
      "{'FullBody': {'All': 143.2162322998047, 'Walking': 147.0798797607422, 'UpperStretching': 150.5602569580078, 'LowerStretching': 133.8203887939453, 'Gaming': 115.61636352539062, 'Gesticuling': 107.28807830810547, 'Reacting': 133.9579620361328, 'Talking': 89.59132385253906, 'Patting': 122.32376861572266, 'Greeting': 112.51411437988281}, 'UpperBody': {'All': 116.18609619140625, 'Walking': 99.85657501220703, 'UpperStretching': 128.89736938476562, 'LowerStretching': 92.09559631347656, 'Gaming': 103.60911560058594, 'Gesticuling': 110.5879898071289, 'Reacting': 119.3844223022461, 'Talking': 80.33372497558594, 'Patting': 96.68644714355469, 'Greeting': 93.40361785888672}, 'LowerBody': {'All': 170.246337890625, 'Walking': 194.30316162109375, 'UpperStretching': 172.22311401367188, 'LowerStretching': 175.5452117919922, 'Gaming': 127.62361145019531, 'Gesticuling': 103.98817443847656, 'Reacting': 148.531494140625, 'Talking': 98.84893798828125, 'Patting': 147.9611053466797, 'Greeting': 131.62460327148438}}\n"
     ]
    },
    {
     "name": "stderr",
     "output_type": "stream",
     "text": [
      "100%|██████████| 5352/5352 [19:34<00:00,  4.56it/s]\n",
      "\u001b[94m11:20:39 \u001b[92m[INFO]\u001b[94m Main\u001b[0m: Saving evaluation results...\n",
      "\u001b[94m11:20:39 \u001b[92m[INFO]\u001b[94m Main\u001b[0m: Done.\n",
      "\u001b[94m11:20:39 \u001b[92m[INFO]\u001b[94m Main\u001b[0m: Starting demo...\n",
      "  0%|          | 0/5352 [00:00<?, ?it/s]/opt/conda/lib/python3.10/site-packages/torchvision/transforms/transforms.py:329: UserWarning: Argument 'interpolation' of type int is deprecated since 0.13 and will be removed in 0.15. Please use InterpolationMode enum.\n",
      "  warnings.warn(\n",
      "/opt/conda/lib/python3.10/site-packages/torchvision/transforms/transforms.py:329: UserWarning: Argument 'interpolation' of type int is deprecated since 0.13 and will be removed in 0.15. Please use InterpolationMode enum.\n",
      "  warnings.warn(\n",
      "/opt/conda/lib/python3.10/site-packages/torchvision/transforms/transforms.py:329: UserWarning: Argument 'interpolation' of type int is deprecated since 0.13 and will be removed in 0.15. Please use InterpolationMode enum.\n",
      "  warnings.warn(\n",
      "/opt/conda/lib/python3.10/site-packages/torchvision/transforms/transforms.py:329: UserWarning: Argument 'interpolation' of type int is deprecated since 0.13 and will be removed in 0.15. Please use InterpolationMode enum.\n",
      "  warnings.warn(\n",
      "/opt/conda/lib/python3.10/site-packages/torchvision/transforms/transforms.py:329: UserWarning: Argument 'interpolation' of type int is deprecated since 0.13 and will be removed in 0.15. Please use InterpolationMode enum.\n",
      "  warnings.warn(\n",
      "/opt/conda/lib/python3.10/site-packages/torchvision/transforms/transforms.py:329: UserWarning: Argument 'interpolation' of type int is deprecated since 0.13 and will be removed in 0.15. Please use InterpolationMode enum.\n",
      "  warnings.warn(\n",
      "/opt/conda/lib/python3.10/site-packages/torchvision/transforms/transforms.py:329: UserWarning: Argument 'interpolation' of type int is deprecated since 0.13 and will be removed in 0.15. Please use InterpolationMode enum.\n",
      "  warnings.warn(\n",
      "/opt/conda/lib/python3.10/site-packages/torchvision/transforms/transforms.py:329: UserWarning: Argument 'interpolation' of type int is deprecated since 0.13 and will be removed in 0.15. Please use InterpolationMode enum.\n",
      "  warnings.warn(\n",
      "/opt/conda/lib/python3.10/site-packages/torchvision/transforms/transforms.py:329: UserWarning: Argument 'interpolation' of type int is deprecated since 0.13 and will be removed in 0.15. Please use InterpolationMode enum.\n",
      "  warnings.warn(\n",
      "/opt/conda/lib/python3.10/site-packages/torchvision/transforms/transforms.py:329: UserWarning: Argument 'interpolation' of type int is deprecated since 0.13 and will be removed in 0.15. Please use InterpolationMode enum.\n",
      "  warnings.warn(\n",
      "/opt/conda/lib/python3.10/site-packages/torchvision/transforms/transforms.py:329: UserWarning: Argument 'interpolation' of type int is deprecated since 0.13 and will be removed in 0.15. Please use InterpolationMode enum.\n",
      "  warnings.warn(\n",
      "/opt/conda/lib/python3.10/site-packages/torchvision/transforms/transforms.py:329: UserWarning: Argument 'interpolation' of type int is deprecated since 0.13 and will be removed in 0.15. Please use InterpolationMode enum.\n",
      "  warnings.warn(\n",
      "/opt/conda/lib/python3.10/site-packages/torchvision/transforms/transforms.py:329: UserWarning: Argument 'interpolation' of type int is deprecated since 0.13 and will be removed in 0.15. Please use InterpolationMode enum.\n",
      "  warnings.warn(\n",
      "/opt/conda/lib/python3.10/site-packages/torchvision/transforms/transforms.py:329: UserWarning: Argument 'interpolation' of type int is deprecated since 0.13 and will be removed in 0.15. Please use InterpolationMode enum.\n",
      "  warnings.warn(\n",
      "/opt/conda/lib/python3.10/site-packages/torchvision/transforms/transforms.py:329: UserWarning: Argument 'interpolation' of type int is deprecated since 0.13 and will be removed in 0.15. Please use InterpolationMode enum.\n",
      "  warnings.warn(\n",
      "/opt/conda/lib/python3.10/site-packages/torchvision/transforms/transforms.py:329: UserWarning: Argument 'interpolation' of type int is deprecated since 0.13 and will be removed in 0.15. Please use InterpolationMode enum.\n",
      "  warnings.warn(\n",
      "/opt/conda/lib/python3.10/site-packages/torchvision/transforms/transforms.py:329: UserWarning: Argument 'interpolation' of type int is deprecated since 0.13 and will be removed in 0.15. Please use InterpolationMode enum.\n",
      "  warnings.warn(\n",
      "/opt/conda/lib/python3.10/site-packages/torchvision/transforms/transforms.py:329: UserWarning: Argument 'interpolation' of type int is deprecated since 0.13 and will be removed in 0.15. Please use InterpolationMode enum.\n",
      "  warnings.warn(\n",
      "/opt/conda/lib/python3.10/site-packages/torchvision/transforms/transforms.py:329: UserWarning: Argument 'interpolation' of type int is deprecated since 0.13 and will be removed in 0.15. Please use InterpolationMode enum.\n",
      "  warnings.warn(\n",
      "/opt/conda/lib/python3.10/site-packages/torchvision/transforms/transforms.py:329: UserWarning: Argument 'interpolation' of type int is deprecated since 0.13 and will be removed in 0.15. Please use InterpolationMode enum.\n",
      "  warnings.warn(\n",
      "/opt/conda/lib/python3.10/site-packages/torchvision/transforms/transforms.py:329: UserWarning: Argument 'interpolation' of type int is deprecated since 0.13 and will be removed in 0.15. Please use InterpolationMode enum.\n",
      "  warnings.warn(\n",
      "/opt/conda/lib/python3.10/site-packages/torchvision/transforms/transforms.py:329: UserWarning: Argument 'interpolation' of type int is deprecated since 0.13 and will be removed in 0.15. Please use InterpolationMode enum.\n",
      "  warnings.warn(\n",
      "/opt/conda/lib/python3.10/site-packages/torchvision/transforms/transforms.py:329: UserWarning: Argument 'interpolation' of type int is deprecated since 0.13 and will be removed in 0.15. Please use InterpolationMode enum.\n",
      "  warnings.warn(\n",
      "/opt/conda/lib/python3.10/site-packages/torchvision/transforms/transforms.py:329: UserWarning: Argument 'interpolation' of type int is deprecated since 0.13 and will be removed in 0.15. Please use InterpolationMode enum.\n",
      "  warnings.warn(\n",
      "  4%|▎         | 200/5352 [00:48<18:32,  4.63it/s]"
     ]
    },
    {
     "name": "stdout",
     "output_type": "stream",
     "text": [
      "{'FullBody': {'All': 148.9613800048828, 'UpperStretching': 154.62503051757812, 'Walking': 160.1919708251953, 'LowerStretching': 142.03790283203125, 'Reacting': 129.89671325683594, 'Patting': 126.12820434570312, 'Gesticuling': 112.5672607421875, 'Gaming': 127.2332763671875, 'Greeting': 105.75341796875, 'Talking': 96.57784271240234}, 'UpperBody': {'All': 125.94023132324219, 'UpperStretching': 136.95977783203125, 'Walking': 120.93254089355469, 'LowerStretching': 100.92799377441406, 'Reacting': 118.54084777832031, 'Patting': 103.68363952636719, 'Gesticuling': 121.87860107421875, 'Gaming': 113.81695556640625, 'Greeting': 87.94819641113281, 'Talking': 84.01265716552734}, 'LowerBody': {'All': 171.98257446289062, 'UpperStretching': 172.290283203125, 'Walking': 199.45140075683594, 'LowerStretching': 183.14781188964844, 'Reacting': 141.2526092529297, 'Patting': 148.5727996826172, 'Gesticuling': 103.25594329833984, 'Gaming': 140.6495819091797, 'Greeting': 123.55864715576172, 'Talking': 109.14300537109375}}\n"
     ]
    },
    {
     "name": "stderr",
     "output_type": "stream",
     "text": [
      "  7%|▋         | 400/5352 [01:32<17:49,  4.63it/s]"
     ]
    },
    {
     "name": "stdout",
     "output_type": "stream",
     "text": [
      "{'FullBody': {'All': 147.5125732421875, 'UpperStretching': 153.6897735595703, 'Walking': 163.31263732910156, 'LowerStretching': 139.12332153320312, 'Reacting': 128.44349670410156, 'Patting': 119.38577270507812, 'Gesticuling': 106.3699722290039, 'Gaming': 117.9542236328125, 'Greeting': 105.89423370361328, 'Talking': 93.5094223022461}, 'UpperBody': {'All': 125.08475494384766, 'UpperStretching': 136.90663146972656, 'Walking': 121.85845184326172, 'LowerStretching': 100.57475280761719, 'Reacting': 120.06571960449219, 'Patting': 99.58991241455078, 'Gesticuling': 115.0413589477539, 'Gaming': 104.75537872314453, 'Greeting': 89.01464080810547, 'Talking': 84.91401672363281}, 'LowerBody': {'All': 169.9404296875, 'UpperStretching': 170.47293090820312, 'Walking': 204.766845703125, 'LowerStretching': 177.67190551757812, 'Reacting': 136.82130432128906, 'Patting': 139.181640625, 'Gesticuling': 97.69857788085938, 'Gaming': 131.15309143066406, 'Greeting': 122.77384185791016, 'Talking': 102.1048355102539}}\n"
     ]
    },
    {
     "name": "stderr",
     "output_type": "stream",
     "text": [
      " 11%|█         | 600/5352 [02:15<17:21,  4.56it/s]"
     ]
    },
    {
     "name": "stdout",
     "output_type": "stream",
     "text": [
      "{'FullBody': {'All': 149.50453186035156, 'UpperStretching': 156.0713653564453, 'Walking': 163.93560791015625, 'LowerStretching': 139.62510681152344, 'Reacting': 126.83979034423828, 'Patting': 136.88458251953125, 'Gesticuling': 106.84973907470703, 'Gaming': 117.31720733642578, 'Greeting': 110.52169036865234, 'Talking': 94.01819610595703}, 'UpperBody': {'All': 126.16785430908203, 'UpperStretching': 138.30807495117188, 'Walking': 120.4542465209961, 'LowerStretching': 101.47720336914062, 'Reacting': 119.31175994873047, 'Patting': 109.52154541015625, 'Gesticuling': 116.28189849853516, 'Gaming': 106.11123657226562, 'Greeting': 92.57505798339844, 'Talking': 85.37776947021484}, 'LowerBody': {'All': 172.84120178222656, 'UpperStretching': 173.8346710205078, 'Walking': 207.41697692871094, 'LowerStretching': 177.7730255126953, 'Reacting': 134.3677978515625, 'Patting': 164.2476043701172, 'Gesticuling': 97.4175796508789, 'Gaming': 128.52317810058594, 'Greeting': 128.4683380126953, 'Talking': 102.65862274169922}}\n"
     ]
    },
    {
     "name": "stderr",
     "output_type": "stream",
     "text": [
      " 15%|█▍        | 800/5352 [02:59<16:26,  4.62it/s]"
     ]
    },
    {
     "name": "stdout",
     "output_type": "stream",
     "text": [
      "{'FullBody': {'All': 149.4346923828125, 'UpperStretching': 156.17041015625, 'Walking': 163.76512145996094, 'LowerStretching': 139.01513671875, 'Reacting': 128.51695251464844, 'Patting': 142.55162048339844, 'Gesticuling': 106.28785705566406, 'Gaming': 114.66627502441406, 'Greeting': 107.6446762084961, 'Talking': 91.45171356201172}, 'UpperBody': {'All': 126.42106628417969, 'UpperStretching': 138.80770874023438, 'Walking': 121.12096405029297, 'LowerStretching': 101.15582275390625, 'Reacting': 119.38224029541016, 'Patting': 111.73418426513672, 'Gesticuling': 116.62527465820312, 'Gaming': 102.58294677734375, 'Greeting': 89.98246765136719, 'Talking': 82.84149169921875}, 'LowerBody': {'All': 172.44830322265625, 'UpperStretching': 173.53314208984375, 'Walking': 206.4093017578125, 'LowerStretching': 176.8744354248047, 'Reacting': 137.6516571044922, 'Patting': 173.36907958984375, 'Gesticuling': 95.9504623413086, 'Gaming': 126.74960327148438, 'Greeting': 125.3068618774414, 'Talking': 100.06194305419922}}\n"
     ]
    },
    {
     "name": "stderr",
     "output_type": "stream",
     "text": [
      " 19%|█▊        | 1000/5352 [03:43<15:36,  4.65it/s]"
     ]
    },
    {
     "name": "stdout",
     "output_type": "stream",
     "text": [
      "{'FullBody': {'All': 149.70423889160156, 'UpperStretching': 156.9150848388672, 'Walking': 161.263427734375, 'LowerStretching': 139.442626953125, 'Reacting': 130.1766357421875, 'Patting': 140.67236328125, 'Gesticuling': 105.64330291748047, 'Gaming': 114.92195129394531, 'Greeting': 109.46810150146484, 'Talking': 90.77518463134766}, 'UpperBody': {'All': 126.82897186279297, 'UpperStretching': 139.46458435058594, 'Walking': 119.62606048583984, 'LowerStretching': 101.529296875, 'Reacting': 120.55488586425781, 'Patting': 111.2669677734375, 'Gesticuling': 115.67833709716797, 'Gaming': 103.93775177001953, 'Greeting': 91.73979949951172, 'Talking': 82.48613739013672}, 'LowerBody': {'All': 172.57948303222656, 'UpperStretching': 174.36558532714844, 'Walking': 202.90078735351562, 'LowerStretching': 177.35598754882812, 'Reacting': 139.7983856201172, 'Patting': 170.07772827148438, 'Gesticuling': 95.6082534790039, 'Gaming': 125.9061508178711, 'Greeting': 127.19640350341797, 'Talking': 99.064208984375}}\n"
     ]
    },
    {
     "name": "stderr",
     "output_type": "stream",
     "text": [
      " 22%|██▏       | 1200/5352 [04:26<15:20,  4.51it/s]"
     ]
    },
    {
     "name": "stdout",
     "output_type": "stream",
     "text": [
      "{'FullBody': {'All': 149.4126739501953, 'UpperStretching': 156.5098876953125, 'Walking': 162.2997589111328, 'LowerStretching': 138.93319702148438, 'Reacting': 132.2607879638672, 'Patting': 138.60679626464844, 'Gesticuling': 106.67778778076172, 'Gaming': 114.03620910644531, 'Greeting': 107.6328353881836, 'Talking': 89.81834411621094}, 'UpperBody': {'All': 126.67788696289062, 'UpperStretching': 139.28582763671875, 'Walking': 119.59137725830078, 'LowerStretching': 101.7485122680664, 'Reacting': 122.77349090576172, 'Patting': 108.84114837646484, 'Gesticuling': 116.47521209716797, 'Gaming': 103.54150390625, 'Greeting': 90.96393585205078, 'Talking': 80.94190979003906}, 'LowerBody': {'All': 172.14743041992188, 'UpperStretching': 173.7339324951172, 'Walking': 205.00816345214844, 'LowerStretching': 176.1178436279297, 'Reacting': 141.74810791015625, 'Patting': 168.3724365234375, 'Gesticuling': 96.88036346435547, 'Gaming': 124.53095245361328, 'Greeting': 124.30171966552734, 'Talking': 98.69477844238281}}\n"
     ]
    },
    {
     "name": "stderr",
     "output_type": "stream",
     "text": [
      " 26%|██▌       | 1400/5352 [05:10<14:20,  4.60it/s]"
     ]
    },
    {
     "name": "stdout",
     "output_type": "stream",
     "text": [
      "{'FullBody': {'All': 149.71437072753906, 'UpperStretching': 157.0446014404297, 'Walking': 162.67562866210938, 'LowerStretching': 138.73159790039062, 'Reacting': 132.29214477539062, 'Patting': 136.705810546875, 'Gesticuling': 105.04032897949219, 'Gaming': 113.06700134277344, 'Greeting': 108.57594299316406, 'Talking': 89.78726959228516}, 'UpperBody': {'All': 126.90203094482422, 'UpperStretching': 139.69833374023438, 'Walking': 119.82749938964844, 'LowerStretching': 101.47987365722656, 'Reacting': 122.93022155761719, 'Patting': 108.05647277832031, 'Gesticuling': 115.01105499267578, 'Gaming': 101.33013916015625, 'Greeting': 91.2476577758789, 'Talking': 80.48641967773438}, 'LowerBody': {'All': 172.52667236328125, 'UpperStretching': 174.39088439941406, 'Walking': 205.52378845214844, 'LowerStretching': 175.98333740234375, 'Reacting': 141.65406799316406, 'Patting': 165.3551483154297, 'Gesticuling': 95.06961059570312, 'Gaming': 124.80386352539062, 'Greeting': 125.90424346923828, 'Talking': 99.08811950683594}}\n"
     ]
    },
    {
     "name": "stderr",
     "output_type": "stream",
     "text": [
      " 30%|██▉       | 1600/5352 [05:54<13:50,  4.52it/s]"
     ]
    },
    {
     "name": "stdout",
     "output_type": "stream",
     "text": [
      "{'FullBody': {'All': 149.39413452148438, 'UpperStretching': 156.54412841796875, 'Walking': 161.8811798095703, 'LowerStretching': 139.15406799316406, 'Reacting': 131.68638610839844, 'Patting': 138.36822509765625, 'Gesticuling': 104.7414321899414, 'Gaming': 114.61604309082031, 'Greeting': 106.22306823730469, 'Talking': 89.6994400024414}, 'UpperBody': {'All': 126.61058807373047, 'UpperStretching': 139.31533813476562, 'Walking': 118.93060302734375, 'LowerStretching': 101.6735610961914, 'Reacting': 122.12452697753906, 'Patting': 108.66751861572266, 'Gesticuling': 114.30594635009766, 'Gaming': 103.40836334228516, 'Greeting': 89.66023254394531, 'Talking': 80.63709259033203}, 'LowerBody': {'All': 172.1776580810547, 'UpperStretching': 173.77291870117188, 'Walking': 204.83177185058594, 'LowerStretching': 176.6345672607422, 'Reacting': 141.24826049804688, 'Patting': 168.06893920898438, 'Gesticuling': 95.17694091796875, 'Gaming': 125.82372283935547, 'Greeting': 122.78593444824219, 'Talking': 98.76179504394531}}\n"
     ]
    },
    {
     "name": "stderr",
     "output_type": "stream",
     "text": [
      " 34%|███▎      | 1800/5352 [06:38<13:21,  4.43it/s]"
     ]
    },
    {
     "name": "stdout",
     "output_type": "stream",
     "text": [
      "{'FullBody': {'All': 149.46702575683594, 'UpperStretching': 156.88967895507812, 'Walking': 161.5068817138672, 'LowerStretching': 138.69497680664062, 'Reacting': 130.95068359375, 'Patting': 136.40240478515625, 'Gesticuling': 103.86553192138672, 'Gaming': 115.73207092285156, 'Greeting': 107.3148193359375, 'Talking': 89.40523529052734}, 'UpperBody': {'All': 126.74246215820312, 'UpperStretching': 139.65879821777344, 'Walking': 118.51482391357422, 'LowerStretching': 101.6505355834961, 'Reacting': 122.00431823730469, 'Patting': 107.03955078125, 'Gesticuling': 113.27764892578125, 'Gaming': 104.32420349121094, 'Greeting': 90.26022338867188, 'Talking': 80.87998962402344}, 'LowerBody': {'All': 172.19155883789062, 'UpperStretching': 174.12059020996094, 'Walking': 204.49891662597656, 'LowerStretching': 175.73939514160156, 'Reacting': 139.89703369140625, 'Patting': 165.76527404785156, 'Gesticuling': 94.45338439941406, 'Gaming': 127.13995361328125, 'Greeting': 124.36942291259766, 'Talking': 97.93047332763672}}\n"
     ]
    },
    {
     "name": "stderr",
     "output_type": "stream",
     "text": [
      " 37%|███▋      | 2000/5352 [07:21<12:26,  4.49it/s]"
     ]
    },
    {
     "name": "stdout",
     "output_type": "stream",
     "text": [
      "{'FullBody': {'All': 149.42990112304688, 'UpperStretching': 156.6361541748047, 'Walking': 162.90371704101562, 'LowerStretching': 138.77276611328125, 'Reacting': 131.6490020751953, 'Patting': 135.01416015625, 'Gesticuling': 103.604248046875, 'Gaming': 115.39208984375, 'Greeting': 107.10819244384766, 'Talking': 89.82801055908203}, 'UpperBody': {'All': 126.6302490234375, 'UpperStretching': 139.4251251220703, 'Walking': 119.2775650024414, 'LowerStretching': 101.67989349365234, 'Reacting': 122.45734405517578, 'Patting': 105.78314208984375, 'Gesticuling': 113.11214447021484, 'Gaming': 104.12096405029297, 'Greeting': 90.22374725341797, 'Talking': 81.01619720458984}, 'LowerBody': {'All': 172.22955322265625, 'UpperStretching': 173.84719848632812, 'Walking': 206.52989196777344, 'LowerStretching': 175.86563110351562, 'Reacting': 140.8406524658203, 'Patting': 164.24522399902344, 'Gesticuling': 94.09632110595703, 'Gaming': 126.66322326660156, 'Greeting': 123.99264526367188, 'Talking': 98.63982391357422}}\n"
     ]
    },
    {
     "name": "stderr",
     "output_type": "stream",
     "text": [
      " 41%|████      | 2200/5352 [08:05<11:43,  4.48it/s]"
     ]
    },
    {
     "name": "stdout",
     "output_type": "stream",
     "text": [
      "{'FullBody': {'All': 149.5703125, 'UpperStretching': 157.08619689941406, 'Walking': 161.8058624267578, 'LowerStretching': 139.0279541015625, 'Reacting': 130.45652770996094, 'Patting': 134.82135009765625, 'Gesticuling': 103.61483764648438, 'Gaming': 114.72223663330078, 'Greeting': 106.19926452636719, 'Talking': 88.7716293334961}, 'UpperBody': {'All': 126.72772979736328, 'UpperStretching': 139.73423767089844, 'Walking': 118.5069580078125, 'LowerStretching': 101.87010192871094, 'Reacting': 121.07738494873047, 'Patting': 105.88236236572266, 'Gesticuling': 113.13516998291016, 'Gaming': 103.98250579833984, 'Greeting': 89.67964935302734, 'Talking': 80.4899673461914}, 'LowerBody': {'All': 172.41290283203125, 'UpperStretching': 174.4381561279297, 'Walking': 205.10476684570312, 'LowerStretching': 176.18582153320312, 'Reacting': 139.83567810058594, 'Patting': 163.7602996826172, 'Gesticuling': 94.09451293945312, 'Gaming': 125.46196746826172, 'Greeting': 122.7188720703125, 'Talking': 97.05329132080078}}\n"
     ]
    },
    {
     "name": "stderr",
     "output_type": "stream",
     "text": [
      " 45%|████▍     | 2400/5352 [08:48<11:11,  4.39it/s]"
     ]
    },
    {
     "name": "stdout",
     "output_type": "stream",
     "text": [
      "{'FullBody': {'All': 149.53350830078125, 'UpperStretching': 156.9259796142578, 'Walking': 162.37973022460938, 'LowerStretching': 138.727294921875, 'Reacting': 130.5638427734375, 'Patting': 135.58749389648438, 'Gesticuling': 103.75111389160156, 'Gaming': 115.61438751220703, 'Greeting': 107.72406768798828, 'Talking': 88.88932037353516}, 'UpperBody': {'All': 126.71681213378906, 'UpperStretching': 139.57464599609375, 'Walking': 119.06360626220703, 'LowerStretching': 101.8524169921875, 'Reacting': 121.46430206298828, 'Patting': 105.73451232910156, 'Gesticuling': 113.4076919555664, 'Gaming': 105.07793426513672, 'Greeting': 90.34911346435547, 'Talking': 80.32857513427734}, 'LowerBody': {'All': 172.3501739501953, 'UpperStretching': 174.27734375, 'Walking': 205.6958465576172, 'LowerStretching': 175.6021728515625, 'Reacting': 139.6633758544922, 'Patting': 165.4404754638672, 'Gesticuling': 94.09454345703125, 'Gaming': 126.15084838867188, 'Greeting': 125.09903717041016, 'Talking': 97.45006561279297}}\n"
     ]
    },
    {
     "name": "stderr",
     "output_type": "stream",
     "text": [
      " 49%|████▊     | 2600/5352 [09:32<10:11,  4.50it/s]"
     ]
    },
    {
     "name": "stdout",
     "output_type": "stream",
     "text": [
      "{'FullBody': {'All': 149.19833374023438, 'UpperStretching': 156.54708862304688, 'Walking': 161.65220642089844, 'LowerStretching': 138.47999572753906, 'Reacting': 131.53421020507812, 'Patting': 135.54019165039062, 'Gesticuling': 103.65859985351562, 'Gaming': 114.31610870361328, 'Greeting': 108.00662994384766, 'Talking': 88.49756622314453}, 'UpperBody': {'All': 126.55329132080078, 'UpperStretching': 139.39112854003906, 'Walking': 118.67223358154297, 'LowerStretching': 101.84961700439453, 'Reacting': 122.17682647705078, 'Patting': 105.74673461914062, 'Gesticuling': 112.98543548583984, 'Gaming': 103.75672149658203, 'Greeting': 90.50889587402344, 'Talking': 80.09484100341797}, 'LowerBody': {'All': 171.84335327148438, 'UpperStretching': 173.70306396484375, 'Walking': 204.63218688964844, 'LowerStretching': 175.11036682128906, 'Reacting': 140.89158630371094, 'Patting': 165.33364868164062, 'Gesticuling': 94.33174896240234, 'Gaming': 124.87548828125, 'Greeting': 125.50435638427734, 'Talking': 96.90029907226562}}\n"
     ]
    },
    {
     "name": "stderr",
     "output_type": "stream",
     "text": [
      " 52%|█████▏    | 2800/5352 [10:16<09:20,  4.55it/s]"
     ]
    },
    {
     "name": "stdout",
     "output_type": "stream",
     "text": [
      "{'FullBody': {'All': 149.1922149658203, 'UpperStretching': 156.50265502929688, 'Walking': 161.9777374267578, 'LowerStretching': 138.4308319091797, 'Reacting': 132.27755737304688, 'Patting': 133.42257690429688, 'Gesticuling': 103.78638458251953, 'Gaming': 114.547119140625, 'Greeting': 107.87043762207031, 'Talking': 89.10841369628906}, 'UpperBody': {'All': 126.52085876464844, 'UpperStretching': 139.22789001464844, 'Walking': 118.76878356933594, 'LowerStretching': 101.96980285644531, 'Reacting': 123.04035949707031, 'Patting': 104.62432098388672, 'Gesticuling': 113.34759521484375, 'Gaming': 103.91321563720703, 'Greeting': 90.51399993896484, 'Talking': 80.43619537353516}, 'LowerBody': {'All': 171.863525390625, 'UpperStretching': 173.77745056152344, 'Walking': 205.18670654296875, 'LowerStretching': 174.89186096191406, 'Reacting': 141.51475524902344, 'Patting': 162.22084045410156, 'Gesticuling': 94.22516632080078, 'Gaming': 125.18102264404297, 'Greeting': 125.22687530517578, 'Talking': 97.7806396484375}}\n"
     ]
    },
    {
     "name": "stderr",
     "output_type": "stream",
     "text": [
      " 56%|█████▌    | 3000/5352 [10:59<08:58,  4.37it/s]"
     ]
    },
    {
     "name": "stdout",
     "output_type": "stream",
     "text": [
      "{'FullBody': {'All': 149.0182647705078, 'UpperStretching': 156.4691619873047, 'Walking': 161.48797607421875, 'LowerStretching': 138.10459899902344, 'Reacting': 131.296142578125, 'Patting': 132.80348205566406, 'Gesticuling': 104.19239807128906, 'Gaming': 113.5643539428711, 'Greeting': 107.32125854492188, 'Talking': 88.77385711669922}, 'UpperBody': {'All': 126.51197814941406, 'UpperStretching': 139.3926239013672, 'Walking': 118.6653823852539, 'LowerStretching': 101.71583557128906, 'Reacting': 122.08354949951172, 'Patting': 104.29105377197266, 'Gesticuling': 113.82467651367188, 'Gaming': 103.05219268798828, 'Greeting': 90.15892028808594, 'Talking': 80.17137908935547}, 'LowerBody': {'All': 171.5245361328125, 'UpperStretching': 173.5457305908203, 'Walking': 204.31057739257812, 'LowerStretching': 174.49337768554688, 'Reacting': 140.50872802734375, 'Patting': 161.31590270996094, 'Gesticuling': 94.56010437011719, 'Gaming': 124.0765151977539, 'Greeting': 124.48358154296875, 'Talking': 97.37633514404297}}\n"
     ]
    },
    {
     "name": "stderr",
     "output_type": "stream",
     "text": [
      " 60%|█████▉    | 3200/5352 [11:43<08:03,  4.45it/s]"
     ]
    },
    {
     "name": "stdout",
     "output_type": "stream",
     "text": [
      "{'FullBody': {'All': 149.0767059326172, 'UpperStretching': 156.4416046142578, 'Walking': 161.69879150390625, 'LowerStretching': 138.0741729736328, 'Reacting': 131.89141845703125, 'Patting': 133.20858764648438, 'Gesticuling': 103.47815704345703, 'Gaming': 114.3873062133789, 'Greeting': 108.36185455322266, 'Talking': 88.59540557861328}, 'UpperBody': {'All': 126.57966613769531, 'UpperStretching': 139.47088623046875, 'Walking': 118.73959350585938, 'LowerStretching': 101.68116760253906, 'Reacting': 122.22442626953125, 'Patting': 104.50172424316406, 'Gesticuling': 112.86447143554688, 'Gaming': 103.83334350585938, 'Greeting': 90.71432495117188, 'Talking': 79.98899841308594}, 'LowerBody': {'All': 171.57373046875, 'UpperStretching': 173.4123077392578, 'Walking': 204.6580047607422, 'LowerStretching': 174.46722412109375, 'Reacting': 141.55844116210938, 'Patting': 161.9154510498047, 'Gesticuling': 94.09184265136719, 'Gaming': 124.94123840332031, 'Greeting': 126.00939178466797, 'Talking': 97.20183563232422}}\n"
     ]
    },
    {
     "name": "stderr",
     "output_type": "stream",
     "text": [
      " 64%|██████▎   | 3400/5352 [12:27<07:23,  4.40it/s]"
     ]
    },
    {
     "name": "stdout",
     "output_type": "stream",
     "text": [
      "{'FullBody': {'All': 149.11782836914062, 'UpperStretching': 156.3689422607422, 'Walking': 161.9938507080078, 'LowerStretching': 138.20657348632812, 'Reacting': 132.46974182128906, 'Patting': 133.3636932373047, 'Gesticuling': 103.4715805053711, 'Gaming': 114.53187561035156, 'Greeting': 109.1121597290039, 'Talking': 88.62216186523438}, 'UpperBody': {'All': 126.6977767944336, 'UpperStretching': 139.55206298828125, 'Walking': 118.9166488647461, 'LowerStretching': 101.83161926269531, 'Reacting': 122.58721160888672, 'Patting': 104.7232894897461, 'Gesticuling': 112.6900634765625, 'Gaming': 104.53599548339844, 'Greeting': 91.41595458984375, 'Talking': 79.76082611083984}, 'LowerBody': {'All': 171.53787231445312, 'UpperStretching': 173.18585205078125, 'Walking': 205.07106018066406, 'LowerStretching': 174.58157348632812, 'Reacting': 142.352294921875, 'Patting': 162.00408935546875, 'Gesticuling': 94.25306701660156, 'Gaming': 124.52777099609375, 'Greeting': 126.8083724975586, 'Talking': 97.4834976196289}}\n"
     ]
    },
    {
     "name": "stderr",
     "output_type": "stream",
     "text": [
      " 67%|██████▋   | 3600/5352 [13:11<06:55,  4.22it/s]"
     ]
    },
    {
     "name": "stdout",
     "output_type": "stream",
     "text": [
      "{'FullBody': {'All': 149.2055206298828, 'UpperStretching': 156.42718505859375, 'Walking': 162.64434814453125, 'LowerStretching': 138.14352416992188, 'Reacting': 131.86856079101562, 'Patting': 133.24472045898438, 'Gesticuling': 103.50314331054688, 'Gaming': 115.2633056640625, 'Greeting': 110.99464416503906, 'Talking': 88.43305969238281}, 'UpperBody': {'All': 126.72088623046875, 'UpperStretching': 139.5305633544922, 'Walking': 119.48751831054688, 'LowerStretching': 101.82913208007812, 'Reacting': 121.92670440673828, 'Patting': 104.95223236083984, 'Gesticuling': 112.51179504394531, 'Gaming': 104.92838287353516, 'Greeting': 92.28319549560547, 'Talking': 79.72283935546875}, 'LowerBody': {'All': 171.6901397705078, 'UpperStretching': 173.3238067626953, 'Walking': 205.80120849609375, 'LowerStretching': 174.45794677734375, 'Reacting': 141.81040954589844, 'Patting': 161.5372314453125, 'Gesticuling': 94.4944839477539, 'Gaming': 125.59823608398438, 'Greeting': 129.70611572265625, 'Talking': 97.14330291748047}}\n"
     ]
    },
    {
     "name": "stderr",
     "output_type": "stream",
     "text": [
      " 71%|███████   | 3800/5352 [13:54<05:54,  4.37it/s]"
     ]
    },
    {
     "name": "stdout",
     "output_type": "stream",
     "text": [
      "{'FullBody': {'All': 149.084716796875, 'UpperStretching': 156.3260955810547, 'Walking': 161.9384307861328, 'LowerStretching': 138.05535888671875, 'Reacting': 132.25965881347656, 'Patting': 132.63156127929688, 'Gesticuling': 104.22248077392578, 'Gaming': 114.73478698730469, 'Greeting': 112.64623260498047, 'Talking': 88.34380340576172}, 'UpperBody': {'All': 126.65837860107422, 'UpperStretching': 139.45721435546875, 'Walking': 119.03345489501953, 'LowerStretching': 101.81258392333984, 'Reacting': 122.20450592041016, 'Patting': 104.70277404785156, 'Gesticuling': 113.12067413330078, 'Gaming': 104.0903549194336, 'Greeting': 92.65397644042969, 'Talking': 79.5433120727539}, 'LowerBody': {'All': 171.51104736328125, 'UpperStretching': 173.19500732421875, 'Walking': 204.84341430664062, 'LowerStretching': 174.29815673828125, 'Reacting': 142.31480407714844, 'Patting': 160.56036376953125, 'Gesticuling': 95.32427215576172, 'Gaming': 125.37921905517578, 'Greeting': 132.63848876953125, 'Talking': 97.14430236816406}}\n"
     ]
    },
    {
     "name": "stderr",
     "output_type": "stream",
     "text": [
      " 75%|███████▍  | 4000/5352 [14:38<05:05,  4.43it/s]"
     ]
    },
    {
     "name": "stdout",
     "output_type": "stream",
     "text": [
      "{'FullBody': {'All': 149.05567932128906, 'UpperStretching': 156.2705078125, 'Walking': 161.70094299316406, 'LowerStretching': 138.02244567871094, 'Reacting': 132.5015411376953, 'Patting': 133.68663024902344, 'Gesticuling': 104.36173248291016, 'Gaming': 114.9261474609375, 'Greeting': 113.98606872558594, 'Talking': 88.1745376586914}, 'UpperBody': {'All': 126.57805633544922, 'UpperStretching': 139.3192596435547, 'Walking': 118.95409393310547, 'LowerStretching': 101.76898193359375, 'Reacting': 122.40548706054688, 'Patting': 105.18582916259766, 'Gesticuling': 113.28927612304688, 'Gaming': 104.0447998046875, 'Greeting': 93.64006805419922, 'Talking': 79.64653778076172}, 'LowerBody': {'All': 171.53326416015625, 'UpperStretching': 173.2217559814453, 'Walking': 204.44778442382812, 'LowerStretching': 174.27589416503906, 'Reacting': 142.5975799560547, 'Patting': 162.1874542236328, 'Gesticuling': 95.43418884277344, 'Gaming': 125.80751037597656, 'Greeting': 134.3320770263672, 'Talking': 96.70255279541016}}\n"
     ]
    },
    {
     "name": "stderr",
     "output_type": "stream",
     "text": [
      " 78%|███████▊  | 4200/5352 [15:22<04:28,  4.28it/s]"
     ]
    },
    {
     "name": "stdout",
     "output_type": "stream",
     "text": [
      "{'FullBody': {'All': 148.9814453125, 'UpperStretching': 156.2338409423828, 'Walking': 161.35980224609375, 'LowerStretching': 137.996826171875, 'Reacting': 132.31594848632812, 'Patting': 132.89071655273438, 'Gesticuling': 104.18209075927734, 'Gaming': 114.87647247314453, 'Greeting': 115.03421783447266, 'Talking': 88.14996337890625}, 'UpperBody': {'All': 126.45879364013672, 'UpperStretching': 139.2163543701172, 'Walking': 118.77723693847656, 'LowerStretching': 101.72627258300781, 'Reacting': 122.23321533203125, 'Patting': 104.77015686035156, 'Gesticuling': 112.9295425415039, 'Gaming': 104.0884780883789, 'Greeting': 94.16673278808594, 'Talking': 79.35982513427734}, 'LowerBody': {'All': 171.50405883789062, 'UpperStretching': 173.2513427734375, 'Walking': 203.9423370361328, 'LowerStretching': 174.26739501953125, 'Reacting': 142.39866638183594, 'Patting': 161.01129150390625, 'Gesticuling': 95.43462371826172, 'Gaming': 125.66444396972656, 'Greeting': 135.90171813964844, 'Talking': 96.94007873535156}}\n"
     ]
    },
    {
     "name": "stderr",
     "output_type": "stream",
     "text": [
      " 82%|████████▏ | 4400/5352 [16:06<03:33,  4.45it/s]"
     ]
    },
    {
     "name": "stdout",
     "output_type": "stream",
     "text": [
      "{'FullBody': {'All': 149.02978515625, 'UpperStretching': 156.37452697753906, 'Walking': 160.95513916015625, 'LowerStretching': 137.99476623535156, 'Reacting': 133.2017822265625, 'Patting': 131.9426727294922, 'Gesticuling': 104.35830688476562, 'Gaming': 114.8853988647461, 'Greeting': 114.70399475097656, 'Talking': 88.11585235595703}, 'UpperBody': {'All': 126.60008239746094, 'UpperStretching': 139.42901611328125, 'Walking': 118.73198699951172, 'LowerStretching': 101.74310302734375, 'Reacting': 123.12857055664062, 'Patting': 104.35070037841797, 'Gesticuling': 112.89617919921875, 'Gaming': 104.22187805175781, 'Greeting': 93.9161376953125, 'Talking': 79.26519012451172}, 'LowerBody': {'All': 171.45947265625, 'UpperStretching': 173.32005310058594, 'Walking': 203.17828369140625, 'LowerStretching': 174.24644470214844, 'Reacting': 143.27500915527344, 'Patting': 159.53463745117188, 'Gesticuling': 95.82044219970703, 'Gaming': 125.54891204833984, 'Greeting': 135.49185180664062, 'Talking': 96.96651458740234}}\n"
     ]
    },
    {
     "name": "stderr",
     "output_type": "stream",
     "text": [
      " 86%|████████▌ | 4600/5352 [16:49<02:50,  4.41it/s]"
     ]
    },
    {
     "name": "stdout",
     "output_type": "stream",
     "text": [
      "{'FullBody': {'All': 148.9706573486328, 'UpperStretching': 156.36338806152344, 'Walking': 160.9407196044922, 'LowerStretching': 137.84153747558594, 'Reacting': 133.14071655273438, 'Patting': 131.62722778320312, 'Gesticuling': 104.4661636352539, 'Gaming': 114.45404052734375, 'Greeting': 114.89354705810547, 'Talking': 88.25959014892578}, 'UpperBody': {'All': 126.58261108398438, 'UpperStretching': 139.4251708984375, 'Walking': 118.9001235961914, 'LowerStretching': 101.56825256347656, 'Reacting': 123.32818603515625, 'Patting': 104.61568450927734, 'Gesticuling': 112.93508911132812, 'Gaming': 103.61807250976562, 'Greeting': 93.90299987792969, 'Talking': 79.35275268554688}, 'LowerBody': {'All': 171.35867309570312, 'UpperStretching': 173.3016357421875, 'Walking': 202.9812774658203, 'LowerStretching': 174.11480712890625, 'Reacting': 142.95323181152344, 'Patting': 158.6387939453125, 'Gesticuling': 95.99725341796875, 'Gaming': 125.2900161743164, 'Greeting': 135.88409423828125, 'Talking': 97.16644287109375}}\n"
     ]
    },
    {
     "name": "stderr",
     "output_type": "stream",
     "text": [
      " 90%|████████▉ | 4800/5352 [17:33<02:10,  4.24it/s]"
     ]
    },
    {
     "name": "stdout",
     "output_type": "stream",
     "text": [
      "{'FullBody': {'All': 149.0545654296875, 'UpperStretching': 156.45559692382812, 'Walking': 160.7560577392578, 'LowerStretching': 137.9156036376953, 'Reacting': 133.02549743652344, 'Patting': 131.6287841796875, 'Gesticuling': 104.27344512939453, 'Gaming': 115.1533432006836, 'Greeting': 114.9957046508789, 'Talking': 88.72081756591797}, 'UpperBody': {'All': 126.59496307373047, 'UpperStretching': 139.3965606689453, 'Walking': 118.86127471923828, 'LowerStretching': 101.60778045654297, 'Reacting': 123.2346420288086, 'Patting': 104.35526275634766, 'Gesticuling': 112.78844451904297, 'Gaming': 104.11045837402344, 'Greeting': 94.1564712524414, 'Talking': 79.6428451538086}, 'LowerBody': {'All': 171.51414489746094, 'UpperStretching': 173.5146484375, 'Walking': 202.65081787109375, 'LowerStretching': 174.22344970703125, 'Reacting': 142.81637573242188, 'Patting': 158.90231323242188, 'Gesticuling': 95.75846862792969, 'Gaming': 126.19623565673828, 'Greeting': 135.83493041992188, 'Talking': 97.79879760742188}}\n"
     ]
    },
    {
     "name": "stderr",
     "output_type": "stream",
     "text": [
      " 93%|█████████▎| 5000/5352 [18:17<01:21,  4.29it/s]"
     ]
    },
    {
     "name": "stdout",
     "output_type": "stream",
     "text": [
      "{'FullBody': {'All': 148.897705078125, 'UpperStretching': 156.34962463378906, 'Walking': 160.0616455078125, 'LowerStretching': 137.888916015625, 'Reacting': 132.64381408691406, 'Patting': 130.77667236328125, 'Gesticuling': 104.28053283691406, 'Gaming': 115.34977722167969, 'Greeting': 115.30315399169922, 'Talking': 88.65377807617188}, 'UpperBody': {'All': 126.47528839111328, 'UpperStretching': 139.2786407470703, 'Walking': 118.39090728759766, 'LowerStretching': 101.6439208984375, 'Reacting': 122.93671417236328, 'Patting': 103.95532989501953, 'Gesticuling': 112.8310775756836, 'Gaming': 104.37286376953125, 'Greeting': 94.28145599365234, 'Talking': 79.60868835449219}, 'LowerBody': {'All': 171.32012939453125, 'UpperStretching': 173.42063903808594, 'Walking': 201.7323455810547, 'LowerStretching': 174.13389587402344, 'Reacting': 142.35089111328125, 'Patting': 157.59800720214844, 'Gesticuling': 95.72999572753906, 'Gaming': 126.3266830444336, 'Greeting': 136.32484436035156, 'Talking': 97.69886779785156}}\n"
     ]
    },
    {
     "name": "stderr",
     "output_type": "stream",
     "text": [
      " 97%|█████████▋| 5200/5352 [19:01<00:34,  4.40it/s]"
     ]
    },
    {
     "name": "stdout",
     "output_type": "stream",
     "text": [
      "{'FullBody': {'All': 148.9270782470703, 'UpperStretching': 156.35665893554688, 'Walking': 160.15390014648438, 'LowerStretching': 137.9102020263672, 'Reacting': 132.9849395751953, 'Patting': 130.4454803466797, 'Gesticuling': 104.25430297851562, 'Gaming': 115.58436584472656, 'Greeting': 115.18890380859375, 'Talking': 88.72710418701172}, 'UpperBody': {'All': 126.47856140136719, 'UpperStretching': 139.2787628173828, 'Walking': 118.45845031738281, 'LowerStretching': 101.60941314697266, 'Reacting': 123.21483612060547, 'Patting': 104.09677124023438, 'Gesticuling': 112.9226303100586, 'Gaming': 104.32717895507812, 'Greeting': 94.24578857421875, 'Talking': 79.5828857421875}, 'LowerBody': {'All': 171.37559509277344, 'UpperStretching': 173.4345703125, 'Walking': 201.8493194580078, 'LowerStretching': 174.21099853515625, 'Reacting': 142.75502014160156, 'Patting': 156.79417419433594, 'Gesticuling': 95.58598327636719, 'Gaming': 126.841552734375, 'Greeting': 136.1320343017578, 'Talking': 97.8713150024414}}\n"
     ]
    },
    {
     "name": "stderr",
     "output_type": "stream",
     "text": [
      "100%|██████████| 5352/5352 [19:34<00:00,  4.56it/s]\n",
      "\u001b[94m11:40:16 \u001b[92m[INFO]\u001b[94m Main\u001b[0m: Saving evaluation results...\n",
      "\u001b[94m11:40:16 \u001b[92m[INFO]\u001b[94m Main\u001b[0m: Done.\n",
      "\u001b[94m11:40:16 \u001b[92m[INFO]\u001b[94m Main\u001b[0m: Starting demo...\n",
      "  0%|          | 0/5352 [00:00<?, ?it/s]/opt/conda/lib/python3.10/site-packages/torchvision/transforms/transforms.py:329: UserWarning: Argument 'interpolation' of type int is deprecated since 0.13 and will be removed in 0.15. Please use InterpolationMode enum.\n",
      "  warnings.warn(\n",
      "/opt/conda/lib/python3.10/site-packages/torchvision/transforms/transforms.py:329: UserWarning: Argument 'interpolation' of type int is deprecated since 0.13 and will be removed in 0.15. Please use InterpolationMode enum.\n",
      "  warnings.warn(\n",
      "/opt/conda/lib/python3.10/site-packages/torchvision/transforms/transforms.py:329: UserWarning: Argument 'interpolation' of type int is deprecated since 0.13 and will be removed in 0.15. Please use InterpolationMode enum.\n",
      "  warnings.warn(\n",
      "/opt/conda/lib/python3.10/site-packages/torchvision/transforms/transforms.py:329: UserWarning: Argument 'interpolation' of type int is deprecated since 0.13 and will be removed in 0.15. Please use InterpolationMode enum.\n",
      "  warnings.warn(\n",
      "/opt/conda/lib/python3.10/site-packages/torchvision/transforms/transforms.py:329: UserWarning: Argument 'interpolation' of type int is deprecated since 0.13 and will be removed in 0.15. Please use InterpolationMode enum.\n",
      "  warnings.warn(\n",
      "/opt/conda/lib/python3.10/site-packages/torchvision/transforms/transforms.py:329: UserWarning: Argument 'interpolation' of type int is deprecated since 0.13 and will be removed in 0.15. Please use InterpolationMode enum.\n",
      "  warnings.warn(\n",
      "/opt/conda/lib/python3.10/site-packages/torchvision/transforms/transforms.py:329: UserWarning: Argument 'interpolation' of type int is deprecated since 0.13 and will be removed in 0.15. Please use InterpolationMode enum.\n",
      "  warnings.warn(\n",
      "/opt/conda/lib/python3.10/site-packages/torchvision/transforms/transforms.py:329: UserWarning: Argument 'interpolation' of type int is deprecated since 0.13 and will be removed in 0.15. Please use InterpolationMode enum.\n",
      "  warnings.warn(\n",
      "/opt/conda/lib/python3.10/site-packages/torchvision/transforms/transforms.py:329: UserWarning: Argument 'interpolation' of type int is deprecated since 0.13 and will be removed in 0.15. Please use InterpolationMode enum.\n",
      "  warnings.warn(\n",
      "/opt/conda/lib/python3.10/site-packages/torchvision/transforms/transforms.py:329: UserWarning: Argument 'interpolation' of type int is deprecated since 0.13 and will be removed in 0.15. Please use InterpolationMode enum.\n",
      "  warnings.warn(\n",
      "/opt/conda/lib/python3.10/site-packages/torchvision/transforms/transforms.py:329: UserWarning: Argument 'interpolation' of type int is deprecated since 0.13 and will be removed in 0.15. Please use InterpolationMode enum.\n",
      "  warnings.warn(\n",
      "/opt/conda/lib/python3.10/site-packages/torchvision/transforms/transforms.py:329: UserWarning: Argument 'interpolation' of type int is deprecated since 0.13 and will be removed in 0.15. Please use InterpolationMode enum.\n",
      "  warnings.warn(\n",
      "/opt/conda/lib/python3.10/site-packages/torchvision/transforms/transforms.py:329: UserWarning: Argument 'interpolation' of type int is deprecated since 0.13 and will be removed in 0.15. Please use InterpolationMode enum.\n",
      "  warnings.warn(\n",
      "/opt/conda/lib/python3.10/site-packages/torchvision/transforms/transforms.py:329: UserWarning: Argument 'interpolation' of type int is deprecated since 0.13 and will be removed in 0.15. Please use InterpolationMode enum.\n",
      "  warnings.warn(\n",
      "/opt/conda/lib/python3.10/site-packages/torchvision/transforms/transforms.py:329: UserWarning: Argument 'interpolation' of type int is deprecated since 0.13 and will be removed in 0.15. Please use InterpolationMode enum.\n",
      "  warnings.warn(\n",
      "/opt/conda/lib/python3.10/site-packages/torchvision/transforms/transforms.py:329: UserWarning: Argument 'interpolation' of type int is deprecated since 0.13 and will be removed in 0.15. Please use InterpolationMode enum.\n",
      "  warnings.warn(\n",
      "/opt/conda/lib/python3.10/site-packages/torchvision/transforms/transforms.py:329: UserWarning: Argument 'interpolation' of type int is deprecated since 0.13 and will be removed in 0.15. Please use InterpolationMode enum.\n",
      "  warnings.warn(\n",
      "/opt/conda/lib/python3.10/site-packages/torchvision/transforms/transforms.py:329: UserWarning: Argument 'interpolation' of type int is deprecated since 0.13 and will be removed in 0.15. Please use InterpolationMode enum.\n",
      "  warnings.warn(\n",
      "/opt/conda/lib/python3.10/site-packages/torchvision/transforms/transforms.py:329: UserWarning: Argument 'interpolation' of type int is deprecated since 0.13 and will be removed in 0.15. Please use InterpolationMode enum.\n",
      "  warnings.warn(\n",
      "/opt/conda/lib/python3.10/site-packages/torchvision/transforms/transforms.py:329: UserWarning: Argument 'interpolation' of type int is deprecated since 0.13 and will be removed in 0.15. Please use InterpolationMode enum.\n",
      "  warnings.warn(\n",
      "/opt/conda/lib/python3.10/site-packages/torchvision/transforms/transforms.py:329: UserWarning: Argument 'interpolation' of type int is deprecated since 0.13 and will be removed in 0.15. Please use InterpolationMode enum.\n",
      "  warnings.warn(\n",
      "/opt/conda/lib/python3.10/site-packages/torchvision/transforms/transforms.py:329: UserWarning: Argument 'interpolation' of type int is deprecated since 0.13 and will be removed in 0.15. Please use InterpolationMode enum.\n",
      "  warnings.warn(\n",
      "/opt/conda/lib/python3.10/site-packages/torchvision/transforms/transforms.py:329: UserWarning: Argument 'interpolation' of type int is deprecated since 0.13 and will be removed in 0.15. Please use InterpolationMode enum.\n",
      "  warnings.warn(\n",
      "/opt/conda/lib/python3.10/site-packages/torchvision/transforms/transforms.py:329: UserWarning: Argument 'interpolation' of type int is deprecated since 0.13 and will be removed in 0.15. Please use InterpolationMode enum.\n",
      "  warnings.warn(\n",
      "  4%|▎         | 200/5352 [00:48<18:59,  4.52it/s]"
     ]
    },
    {
     "name": "stdout",
     "output_type": "stream",
     "text": [
      "{'FullBody': {'All': 130.97329711914062, 'UpperStretching': 139.4264678955078, 'LowerStretching': 122.11386108398438, 'Gaming': 112.77989959716797, 'Patting': 139.14173889160156, 'Talking': 91.17401123046875, 'Reacting': 127.88719177246094, 'Walking': 116.95794677734375, 'Greeting': 101.2108383178711, 'Gesticuling': 102.9670181274414}, 'UpperBody': {'All': 114.7246322631836, 'UpperStretching': 128.63021850585938, 'LowerStretching': 89.95738220214844, 'Gaming': 102.87870025634766, 'Patting': 100.20575714111328, 'Talking': 84.5299301147461, 'Reacting': 123.81409454345703, 'Walking': 87.55357360839844, 'Greeting': 89.93962860107422, 'Gesticuling': 111.83231353759766}, 'LowerBody': {'All': 147.22195434570312, 'UpperStretching': 150.22268676757812, 'LowerStretching': 154.2703094482422, 'Gaming': 122.68108367919922, 'Patting': 178.07774353027344, 'Talking': 97.8180923461914, 'Reacting': 131.96029663085938, 'Walking': 146.3623046875, 'Greeting': 112.4820327758789, 'Gesticuling': 94.10173797607422}}\n"
     ]
    },
    {
     "name": "stderr",
     "output_type": "stream",
     "text": [
      "  7%|▋         | 400/5352 [01:32<18:05,  4.56it/s]"
     ]
    },
    {
     "name": "stdout",
     "output_type": "stream",
     "text": [
      "{'FullBody': {'All': 130.14801025390625, 'UpperStretching': 138.2365264892578, 'LowerStretching': 125.12652587890625, 'Gaming': 110.66574096679688, 'Patting': 127.6080551147461, 'Talking': 87.65455627441406, 'Reacting': 123.1889877319336, 'Walking': 116.98076629638672, 'Greeting': 98.94817352294922, 'Gesticuling': 101.74302673339844}, 'UpperBody': {'All': 113.22798156738281, 'UpperStretching': 127.22518157958984, 'LowerStretching': 89.51537322998047, 'Gaming': 100.65584564208984, 'Patting': 95.42444610595703, 'Talking': 82.47693634033203, 'Reacting': 118.58212280273438, 'Walking': 87.68730163574219, 'Greeting': 87.29782104492188, 'Gesticuling': 111.5921630859375}, 'LowerBody': {'All': 147.06802368164062, 'UpperStretching': 149.2478790283203, 'LowerStretching': 160.7376708984375, 'Gaming': 120.67562103271484, 'Patting': 159.79164123535156, 'Talking': 92.83219909667969, 'Reacting': 127.79585266113281, 'Walking': 146.27423095703125, 'Greeting': 110.59854125976562, 'Gesticuling': 91.89389038085938}}\n"
     ]
    },
    {
     "name": "stderr",
     "output_type": "stream",
     "text": [
      " 11%|█         | 600/5352 [02:16<17:45,  4.46it/s]"
     ]
    },
    {
     "name": "stdout",
     "output_type": "stream",
     "text": [
      "{'FullBody': {'All': 130.75074768066406, 'UpperStretching': 138.5555877685547, 'LowerStretching': 126.74788665771484, 'Gaming': 112.69357299804688, 'Patting': 120.05464172363281, 'Talking': 86.1387710571289, 'Reacting': 123.81584930419922, 'Walking': 118.83695220947266, 'Greeting': 99.41825103759766, 'Gesticuling': 98.20121002197266}, 'UpperBody': {'All': 113.87781524658203, 'UpperStretching': 127.84242248535156, 'LowerStretching': 89.85664367675781, 'Gaming': 103.02247619628906, 'Patting': 93.94094848632812, 'Talking': 80.74885559082031, 'Reacting': 119.91090393066406, 'Walking': 89.09596252441406, 'Greeting': 87.3935317993164, 'Gesticuling': 107.69300842285156}, 'LowerBody': {'All': 147.62371826171875, 'UpperStretching': 149.2687530517578, 'LowerStretching': 163.6391143798828, 'Gaming': 122.36466979980469, 'Patting': 146.16831970214844, 'Talking': 91.52869415283203, 'Reacting': 127.72077941894531, 'Walking': 148.57794189453125, 'Greeting': 111.44295501708984, 'Gesticuling': 88.70941162109375}}\n"
     ]
    },
    {
     "name": "stderr",
     "output_type": "stream",
     "text": [
      " 15%|█▍        | 800/5352 [02:59<16:53,  4.49it/s]"
     ]
    },
    {
     "name": "stdout",
     "output_type": "stream",
     "text": [
      "{'FullBody': {'All': 130.56199645996094, 'UpperStretching': 137.9591827392578, 'LowerStretching': 126.80484771728516, 'Gaming': 110.5421142578125, 'Patting': 122.99380493164062, 'Talking': 86.28746032714844, 'Reacting': 124.45293426513672, 'Walking': 119.97160339355469, 'Greeting': 94.45111846923828, 'Gesticuling': 99.52783203125}, 'UpperBody': {'All': 113.31802368164062, 'UpperStretching': 127.07933807373047, 'LowerStretching': 89.25130462646484, 'Gaming': 102.05770874023438, 'Patting': 94.13849639892578, 'Talking': 80.25524139404297, 'Reacting': 120.98489379882812, 'Walking': 89.3525619506836, 'Greeting': 83.71173858642578, 'Gesticuling': 109.54348754882812}, 'LowerBody': {'All': 147.8059844970703, 'UpperStretching': 148.83901977539062, 'LowerStretching': 164.3583984375, 'Gaming': 119.02654266357422, 'Patting': 151.84910583496094, 'Talking': 92.31966400146484, 'Reacting': 127.92097473144531, 'Walking': 150.59063720703125, 'Greeting': 105.19052124023438, 'Gesticuling': 89.51217651367188}}\n"
     ]
    },
    {
     "name": "stderr",
     "output_type": "stream",
     "text": [
      " 19%|█▊        | 1000/5352 [03:43<15:54,  4.56it/s]"
     ]
    },
    {
     "name": "stdout",
     "output_type": "stream",
     "text": [
      "{'FullBody': {'All': 130.61778259277344, 'UpperStretching': 138.15782165527344, 'LowerStretching': 126.43355560302734, 'Gaming': 111.63156127929688, 'Patting': 119.69387817382812, 'Talking': 87.08541107177734, 'Reacting': 122.943115234375, 'Walking': 120.09012603759766, 'Greeting': 91.99935913085938, 'Gesticuling': 100.2889633178711}, 'UpperBody': {'All': 113.0759048461914, 'UpperStretching': 126.80039978027344, 'LowerStretching': 89.08959197998047, 'Gaming': 102.85658264160156, 'Patting': 92.52127075195312, 'Talking': 81.09281158447266, 'Reacting': 119.87134552001953, 'Walking': 89.41814422607422, 'Greeting': 81.12250518798828, 'Gesticuling': 110.42108154296875}, 'LowerBody': {'All': 148.15968322753906, 'UpperStretching': 149.5152587890625, 'LowerStretching': 163.7775421142578, 'Gaming': 120.40653228759766, 'Patting': 146.86648559570312, 'Talking': 93.07801818847656, 'Reacting': 126.014892578125, 'Walking': 150.76211547851562, 'Greeting': 102.876220703125, 'Gesticuling': 90.1568603515625}}\n"
     ]
    },
    {
     "name": "stderr",
     "output_type": "stream",
     "text": [
      " 22%|██▏       | 1200/5352 [04:26<15:17,  4.52it/s]"
     ]
    },
    {
     "name": "stdout",
     "output_type": "stream",
     "text": [
      "{'FullBody': {'All': 130.40785217285156, 'UpperStretching': 137.92459106445312, 'LowerStretching': 126.7186050415039, 'Gaming': 110.72766876220703, 'Patting': 121.1026382446289, 'Talking': 87.53572845458984, 'Reacting': 120.72157287597656, 'Walking': 119.69645690917969, 'Greeting': 91.1844711303711, 'Gesticuling': 101.99120330810547}, 'UpperBody': {'All': 113.13834381103516, 'UpperStretching': 126.82390594482422, 'LowerStretching': 89.42444610595703, 'Gaming': 102.005126953125, 'Patting': 93.51280212402344, 'Talking': 80.48767852783203, 'Reacting': 118.3606948852539, 'Walking': 89.55030059814453, 'Greeting': 80.39191436767578, 'Gesticuling': 113.48834228515625}, 'LowerBody': {'All': 147.67735290527344, 'UpperStretching': 149.0253143310547, 'LowerStretching': 164.01275634765625, 'Gaming': 119.45020294189453, 'Patting': 148.6924591064453, 'Talking': 94.58377075195312, 'Reacting': 123.08246612548828, 'Walking': 149.8426055908203, 'Greeting': 101.9770278930664, 'Gesticuling': 90.49407196044922}}\n"
     ]
    },
    {
     "name": "stderr",
     "output_type": "stream",
     "text": [
      " 26%|██▌       | 1400/5352 [05:10<14:28,  4.55it/s]"
     ]
    },
    {
     "name": "stdout",
     "output_type": "stream",
     "text": [
      "{'FullBody': {'All': 130.60092163085938, 'UpperStretching': 138.22743225097656, 'LowerStretching': 126.74296569824219, 'Gaming': 110.4463119506836, 'Patting': 119.99015045166016, 'Talking': 88.1856460571289, 'Reacting': 122.59201049804688, 'Walking': 119.7657241821289, 'Greeting': 90.87194061279297, 'Gesticuling': 102.1448745727539}, 'UpperBody': {'All': 113.33091735839844, 'UpperStretching': 127.1899642944336, 'LowerStretching': 89.35808563232422, 'Gaming': 101.32808685302734, 'Patting': 93.89366149902344, 'Talking': 80.28629302978516, 'Reacting': 119.75880432128906, 'Walking': 89.9731674194336, 'Greeting': 80.40962219238281, 'Gesticuling': 113.91609191894531}, 'LowerBody': {'All': 147.87091064453125, 'UpperStretching': 149.26490783691406, 'LowerStretching': 164.1278533935547, 'Gaming': 119.56452941894531, 'Patting': 146.08663940429688, 'Talking': 96.08500671386719, 'Reacting': 125.42520141601562, 'Walking': 149.5583038330078, 'Greeting': 101.3342514038086, 'Gesticuling': 90.37366485595703}}\n"
     ]
    },
    {
     "name": "stderr",
     "output_type": "stream",
     "text": [
      " 30%|██▉       | 1600/5352 [05:54<13:42,  4.56it/s]"
     ]
    },
    {
     "name": "stdout",
     "output_type": "stream",
     "text": [
      "{'FullBody': {'All': 130.9301300048828, 'UpperStretching': 138.7084197998047, 'LowerStretching': 126.96935272216797, 'Gaming': 109.99945068359375, 'Patting': 121.53754425048828, 'Talking': 87.70833587646484, 'Reacting': 122.30853271484375, 'Walking': 119.83113861083984, 'Greeting': 88.6829833984375, 'Gesticuling': 101.65816497802734}, 'UpperBody': {'All': 113.32588958740234, 'UpperStretching': 127.13029479980469, 'LowerStretching': 89.38230895996094, 'Gaming': 101.52449798583984, 'Patting': 94.0770034790039, 'Talking': 80.68724822998047, 'Reacting': 119.34654235839844, 'Walking': 89.90291595458984, 'Greeting': 78.3421401977539, 'Gesticuling': 113.48033905029297}, 'LowerBody': {'All': 148.53439331054688, 'UpperStretching': 150.2865447998047, 'LowerStretching': 164.55641174316406, 'Gaming': 118.47439575195312, 'Patting': 148.99807739257812, 'Talking': 94.72940826416016, 'Reacting': 125.27053833007812, 'Walking': 149.75936889648438, 'Greeting': 99.02385711669922, 'Gesticuling': 89.83598327636719}}\n"
     ]
    },
    {
     "name": "stderr",
     "output_type": "stream",
     "text": [
      " 34%|███▎      | 1800/5352 [06:37<13:01,  4.55it/s]"
     ]
    },
    {
     "name": "stdout",
     "output_type": "stream",
     "text": [
      "{'FullBody': {'All': 130.7580108642578, 'UpperStretching': 138.3796844482422, 'LowerStretching': 127.22640228271484, 'Gaming': 109.8386001586914, 'Patting': 120.08665466308594, 'Talking': 87.0228271484375, 'Reacting': 122.73963928222656, 'Walking': 119.75939178466797, 'Greeting': 90.38605499267578, 'Gesticuling': 101.46823120117188}, 'UpperBody': {'All': 113.35256958007812, 'UpperStretching': 127.079345703125, 'LowerStretching': 89.31498718261719, 'Gaming': 101.47400665283203, 'Patting': 93.05078887939453, 'Talking': 80.0738296508789, 'Reacting': 120.63934326171875, 'Walking': 89.8334732055664, 'Greeting': 79.30846405029297, 'Gesticuling': 113.2443618774414}, 'LowerBody': {'All': 148.16343688964844, 'UpperStretching': 149.6800537109375, 'LowerStretching': 165.1378173828125, 'Gaming': 118.20320129394531, 'Patting': 147.12254333496094, 'Talking': 93.9718246459961, 'Reacting': 124.83992767333984, 'Walking': 149.68531799316406, 'Greeting': 101.4636459350586, 'Gesticuling': 89.69210052490234}}\n"
     ]
    },
    {
     "name": "stderr",
     "output_type": "stream",
     "text": [
      " 37%|███▋      | 2000/5352 [07:21<12:45,  4.38it/s]"
     ]
    },
    {
     "name": "stdout",
     "output_type": "stream",
     "text": [
      "{'FullBody': {'All': 130.7427520751953, 'UpperStretching': 138.41624450683594, 'LowerStretching': 127.49591827392578, 'Gaming': 109.45668029785156, 'Patting': 118.60848236083984, 'Talking': 87.57484436035156, 'Reacting': 122.41885375976562, 'Walking': 119.36243438720703, 'Greeting': 90.2578125, 'Gesticuling': 101.29278564453125}, 'UpperBody': {'All': 113.42110443115234, 'UpperStretching': 127.151123046875, 'LowerStretching': 89.50450897216797, 'Gaming': 101.65589904785156, 'Patting': 92.07328796386719, 'Talking': 80.69832611083984, 'Reacting': 120.62477111816406, 'Walking': 89.62134552001953, 'Greeting': 79.0438461303711, 'Gesticuling': 113.77310943603516}, 'LowerBody': {'All': 148.06442260742188, 'UpperStretching': 149.681396484375, 'LowerStretching': 165.4873046875, 'Gaming': 117.25747680664062, 'Patting': 145.1436767578125, 'Talking': 94.45136260986328, 'Reacting': 124.21294403076172, 'Walking': 149.10353088378906, 'Greeting': 101.47178649902344, 'Gesticuling': 88.81246185302734}}\n"
     ]
    },
    {
     "name": "stderr",
     "output_type": "stream",
     "text": [
      " 41%|████      | 2200/5352 [08:05<11:36,  4.53it/s]"
     ]
    },
    {
     "name": "stdout",
     "output_type": "stream",
     "text": [
      "{'FullBody': {'All': 130.89865112304688, 'UpperStretching': 138.6787872314453, 'LowerStretching': 127.7216796875, 'Gaming': 108.6437759399414, 'Patting': 122.00887298583984, 'Talking': 87.35551452636719, 'Reacting': 121.91531372070312, 'Walking': 118.86882019042969, 'Greeting': 90.54127502441406, 'Gesticuling': 100.92572784423828}, 'UpperBody': {'All': 113.4547119140625, 'UpperStretching': 127.16059875488281, 'LowerStretching': 89.72724151611328, 'Gaming': 100.86862182617188, 'Patting': 94.11824798583984, 'Talking': 80.28072357177734, 'Reacting': 120.12849426269531, 'Walking': 89.33519744873047, 'Greeting': 79.20660400390625, 'Gesticuling': 113.86286926269531}, 'LowerBody': {'All': 148.34262084960938, 'UpperStretching': 150.19699096679688, 'LowerStretching': 165.71612548828125, 'Gaming': 116.41891479492188, 'Patting': 149.89952087402344, 'Talking': 94.43029022216797, 'Reacting': 123.70215606689453, 'Walking': 148.40243530273438, 'Greeting': 101.8759536743164, 'Gesticuling': 87.98859405517578}}\n"
     ]
    },
    {
     "name": "stderr",
     "output_type": "stream",
     "text": [
      " 45%|████▍     | 2400/5352 [08:49<10:54,  4.51it/s]"
     ]
    },
    {
     "name": "stdout",
     "output_type": "stream",
     "text": [
      "{'FullBody': {'All': 131.00096130371094, 'UpperStretching': 138.6690216064453, 'LowerStretching': 127.82943725585938, 'Gaming': 108.9288558959961, 'Patting': 122.95940399169922, 'Talking': 87.01187896728516, 'Reacting': 122.90311431884766, 'Walking': 118.8198471069336, 'Greeting': 91.06771850585938, 'Gesticuling': 101.89925384521484}, 'UpperBody': {'All': 113.63532257080078, 'UpperStretching': 127.25992584228516, 'LowerStretching': 89.73385620117188, 'Gaming': 101.41014862060547, 'Patting': 94.87401580810547, 'Talking': 80.23186492919922, 'Reacting': 121.24311828613281, 'Walking': 89.43177795410156, 'Greeting': 79.55448913574219, 'Gesticuling': 115.39242553710938}, 'LowerBody': {'All': 148.36660766601562, 'UpperStretching': 150.078125, 'LowerStretching': 165.92503356933594, 'Gaming': 116.44756317138672, 'Patting': 151.0447998046875, 'Talking': 93.79190826416016, 'Reacting': 124.56311798095703, 'Walking': 148.2079315185547, 'Greeting': 102.58096313476562, 'Gesticuling': 88.40608215332031}}\n"
     ]
    },
    {
     "name": "stderr",
     "output_type": "stream",
     "text": [
      " 49%|████▊     | 2600/5352 [09:32<10:28,  4.38it/s]"
     ]
    },
    {
     "name": "stdout",
     "output_type": "stream",
     "text": [
      "{'FullBody': {'All': 131.08078002929688, 'UpperStretching': 138.8587188720703, 'LowerStretching': 127.59380340576172, 'Gaming': 109.4402084350586, 'Patting': 121.48847961425781, 'Talking': 87.38130187988281, 'Reacting': 123.22439575195312, 'Walking': 118.83556365966797, 'Greeting': 90.65043640136719, 'Gesticuling': 102.20072174072266}, 'UpperBody': {'All': 113.70742797851562, 'UpperStretching': 127.43175506591797, 'LowerStretching': 89.66124725341797, 'Gaming': 102.32429504394531, 'Patting': 93.83927154541016, 'Talking': 80.87167358398438, 'Reacting': 121.59064483642578, 'Walking': 89.35778045654297, 'Greeting': 79.33216094970703, 'Gesticuling': 115.56681823730469}, 'LowerBody': {'All': 148.4541778564453, 'UpperStretching': 150.2856903076172, 'LowerStretching': 165.5263671875, 'Gaming': 116.55609893798828, 'Patting': 149.1376953125, 'Talking': 93.89091491699219, 'Reacting': 124.85814666748047, 'Walking': 148.31333923339844, 'Greeting': 101.96868896484375, 'Gesticuling': 88.83464050292969}}\n"
     ]
    },
    {
     "name": "stderr",
     "output_type": "stream",
     "text": [
      " 52%|█████▏    | 2800/5352 [10:16<09:22,  4.54it/s]"
     ]
    },
    {
     "name": "stdout",
     "output_type": "stream",
     "text": [
      "{'FullBody': {'All': 130.99993896484375, 'UpperStretching': 138.6934814453125, 'LowerStretching': 127.44205474853516, 'Gaming': 109.53777313232422, 'Patting': 121.89370727539062, 'Talking': 87.66291046142578, 'Reacting': 122.47750854492188, 'Walking': 119.25487518310547, 'Greeting': 91.4308853149414, 'Gesticuling': 101.31500244140625}, 'UpperBody': {'All': 113.64955139160156, 'UpperStretching': 127.35384368896484, 'LowerStretching': 89.63152313232422, 'Gaming': 102.19420623779297, 'Patting': 94.32174682617188, 'Talking': 81.0368423461914, 'Reacting': 120.97035217285156, 'Walking': 89.52314758300781, 'Greeting': 80.02140808105469, 'Gesticuling': 114.38482666015625}, 'LowerBody': {'All': 148.35035705566406, 'UpperStretching': 150.0331268310547, 'LowerStretching': 165.2525634765625, 'Gaming': 116.88131713867188, 'Patting': 149.46566772460938, 'Talking': 94.28897094726562, 'Reacting': 123.98469543457031, 'Walking': 148.98660278320312, 'Greeting': 102.84034729003906, 'Gesticuling': 88.24518585205078}}\n"
     ]
    },
    {
     "name": "stderr",
     "output_type": "stream",
     "text": [
      " 56%|█████▌    | 3000/5352 [11:00<08:35,  4.56it/s]"
     ]
    },
    {
     "name": "stdout",
     "output_type": "stream",
     "text": [
      "{'FullBody': {'All': 131.01744079589844, 'UpperStretching': 138.63877868652344, 'LowerStretching': 127.58147430419922, 'Gaming': 109.378173828125, 'Patting': 120.49969482421875, 'Talking': 87.67631530761719, 'Reacting': 122.5351333618164, 'Walking': 119.4269790649414, 'Greeting': 90.81543731689453, 'Gesticuling': 101.45637512207031}, 'UpperBody': {'All': 113.75972747802734, 'UpperStretching': 127.45698547363281, 'LowerStretching': 89.74581909179688, 'Gaming': 101.88541412353516, 'Patting': 93.66046905517578, 'Talking': 80.81282043457031, 'Reacting': 120.82379913330078, 'Walking': 89.6798324584961, 'Greeting': 79.41064453125, 'Gesticuling': 114.76213836669922}, 'LowerBody': {'All': 148.2751922607422, 'UpperStretching': 149.82058715820312, 'LowerStretching': 165.41712951660156, 'Gaming': 116.87093353271484, 'Patting': 147.33888244628906, 'Talking': 94.53981018066406, 'Reacting': 124.24646759033203, 'Walking': 149.17413330078125, 'Greeting': 102.22023010253906, 'Gesticuling': 88.15060424804688}}\n"
     ]
    },
    {
     "name": "stderr",
     "output_type": "stream",
     "text": [
      " 60%|█████▉    | 3200/5352 [11:44<08:09,  4.40it/s]"
     ]
    },
    {
     "name": "stdout",
     "output_type": "stream",
     "text": [
      "{'FullBody': {'All': 131.10296630859375, 'UpperStretching': 138.65274047851562, 'LowerStretching': 127.72299194335938, 'Gaming': 109.74021911621094, 'Patting': 120.51583862304688, 'Talking': 87.55854034423828, 'Reacting': 123.24873352050781, 'Walking': 119.63194274902344, 'Greeting': 91.36253356933594, 'Gesticuling': 100.98014068603516}, 'UpperBody': {'All': 113.79182434082031, 'UpperStretching': 127.39053344726562, 'LowerStretching': 89.9729995727539, 'Gaming': 102.35400390625, 'Patting': 93.73014068603516, 'Talking': 80.87554168701172, 'Reacting': 121.49404907226562, 'Walking': 89.83087158203125, 'Greeting': 79.77593994140625, 'Gesticuling': 113.91014099121094}, 'LowerBody': {'All': 148.4141082763672, 'UpperStretching': 149.91494750976562, 'LowerStretching': 165.47300720214844, 'Gaming': 117.12642669677734, 'Patting': 147.301513671875, 'Talking': 94.24153137207031, 'Reacting': 125.0034408569336, 'Walking': 149.43301391601562, 'Greeting': 102.94914245605469, 'Gesticuling': 88.05014038085938}}\n"
     ]
    },
    {
     "name": "stderr",
     "output_type": "stream",
     "text": [
      " 64%|██████▎   | 3400/5352 [12:27<07:22,  4.41it/s]"
     ]
    },
    {
     "name": "stdout",
     "output_type": "stream",
     "text": [
      "{'FullBody': {'All': 131.0692901611328, 'UpperStretching': 138.54083251953125, 'LowerStretching': 127.95794677734375, 'Gaming': 109.53845977783203, 'Patting': 119.90299224853516, 'Talking': 87.47030639648438, 'Reacting': 123.50373840332031, 'Walking': 119.55905151367188, 'Greeting': 91.64463806152344, 'Gesticuling': 100.81171417236328}, 'UpperBody': {'All': 113.84636688232422, 'UpperStretching': 127.40914916992188, 'LowerStretching': 90.19539642333984, 'Gaming': 102.28398895263672, 'Patting': 93.40306854248047, 'Talking': 80.75263977050781, 'Reacting': 121.98591613769531, 'Walking': 89.75939178466797, 'Greeting': 79.88838958740234, 'Gesticuling': 113.59709167480469}, 'LowerBody': {'All': 148.29220581054688, 'UpperStretching': 149.67251586914062, 'LowerStretching': 165.72048950195312, 'Gaming': 116.79293060302734, 'Patting': 146.40289306640625, 'Talking': 94.18798065185547, 'Reacting': 125.02154541015625, 'Walking': 149.35870361328125, 'Greeting': 103.40089416503906, 'Gesticuling': 88.02632904052734}}\n"
     ]
    },
    {
     "name": "stderr",
     "output_type": "stream",
     "text": [
      " 67%|██████▋   | 3600/5352 [13:11<06:45,  4.32it/s]"
     ]
    },
    {
     "name": "stdout",
     "output_type": "stream",
     "text": [
      "{'FullBody': {'All': 131.0692596435547, 'UpperStretching': 138.56033325195312, 'LowerStretching': 127.84593200683594, 'Gaming': 109.79822540283203, 'Patting': 119.1396713256836, 'Talking': 87.76134490966797, 'Reacting': 123.03410339355469, 'Walking': 119.9371566772461, 'Greeting': 90.87126159667969, 'Gesticuling': 100.58316040039062}, 'UpperBody': {'All': 113.86404418945312, 'UpperStretching': 127.47473907470703, 'LowerStretching': 90.13871765136719, 'Gaming': 102.63864135742188, 'Patting': 93.46612548828125, 'Talking': 80.86288452148438, 'Reacting': 121.7740249633789, 'Walking': 89.95469665527344, 'Greeting': 79.39102935791016, 'Gesticuling': 113.36082458496094}, 'LowerBody': {'All': 148.27447509765625, 'UpperStretching': 149.6459503173828, 'LowerStretching': 165.55316162109375, 'Gaming': 116.95779418945312, 'Patting': 144.81321716308594, 'Talking': 94.65982055664062, 'Reacting': 124.294189453125, 'Walking': 149.91964721679688, 'Greeting': 102.35150146484375, 'Gesticuling': 87.80548858642578}}\n"
     ]
    },
    {
     "name": "stderr",
     "output_type": "stream",
     "text": [
      " 71%|███████   | 3800/5352 [13:55<05:56,  4.36it/s]"
     ]
    },
    {
     "name": "stdout",
     "output_type": "stream",
     "text": [
      "{'FullBody': {'All': 131.12554931640625, 'UpperStretching': 138.63153076171875, 'LowerStretching': 127.91725158691406, 'Gaming': 109.8106460571289, 'Patting': 118.58805084228516, 'Talking': 87.93984985351562, 'Reacting': 123.43321990966797, 'Walking': 120.10291290283203, 'Greeting': 91.24273681640625, 'Gesticuling': 100.57139587402344}, 'UpperBody': {'All': 113.8980484008789, 'UpperStretching': 127.52003479003906, 'LowerStretching': 90.1182861328125, 'Gaming': 102.89983367919922, 'Patting': 92.90528869628906, 'Talking': 81.32959747314453, 'Reacting': 122.21499633789062, 'Walking': 90.06622314453125, 'Greeting': 79.80892181396484, 'Gesticuling': 113.28951263427734}, 'LowerBody': {'All': 148.35304260253906, 'UpperStretching': 149.74301147460938, 'LowerStretching': 165.71621704101562, 'Gaming': 116.7214584350586, 'Patting': 144.27081298828125, 'Talking': 94.55009460449219, 'Reacting': 124.65145111083984, 'Walking': 150.1395721435547, 'Greeting': 102.67655181884766, 'Gesticuling': 87.853271484375}}\n"
     ]
    },
    {
     "name": "stderr",
     "output_type": "stream",
     "text": [
      " 75%|███████▍  | 4000/5352 [14:39<04:58,  4.53it/s]"
     ]
    },
    {
     "name": "stdout",
     "output_type": "stream",
     "text": [
      "{'FullBody': {'All': 131.0774688720703, 'UpperStretching': 138.547607421875, 'LowerStretching': 127.77220153808594, 'Gaming': 109.9498519897461, 'Patting': 119.15446472167969, 'Talking': 87.70853424072266, 'Reacting': 123.17498779296875, 'Walking': 120.29143524169922, 'Greeting': 91.12601470947266, 'Gesticuling': 100.79458618164062}, 'UpperBody': {'All': 113.86801147460938, 'UpperStretching': 127.46156311035156, 'LowerStretching': 90.0817642211914, 'Gaming': 103.0598373413086, 'Patting': 93.29265594482422, 'Talking': 80.98539733886719, 'Reacting': 122.08495330810547, 'Walking': 90.26744079589844, 'Greeting': 79.6130142211914, 'Gesticuling': 113.54399871826172}, 'LowerBody': {'All': 148.28692626953125, 'UpperStretching': 149.63365173339844, 'LowerStretching': 165.46266174316406, 'Gaming': 116.83987426757812, 'Patting': 145.01625061035156, 'Talking': 94.43167114257812, 'Reacting': 124.26502990722656, 'Walking': 150.31541442871094, 'Greeting': 102.6390151977539, 'Gesticuling': 88.04517364501953}}\n"
     ]
    },
    {
     "name": "stderr",
     "output_type": "stream",
     "text": [
      " 78%|███████▊  | 4200/5352 [15:22<04:27,  4.31it/s]"
     ]
    },
    {
     "name": "stdout",
     "output_type": "stream",
     "text": [
      "{'FullBody': {'All': 131.04873657226562, 'UpperStretching': 138.533935546875, 'LowerStretching': 127.73766326904297, 'Gaming': 109.89042663574219, 'Patting': 118.54476165771484, 'Talking': 87.72432708740234, 'Reacting': 122.88252258300781, 'Walking': 120.4115219116211, 'Greeting': 91.29234313964844, 'Gesticuling': 100.82003784179688}, 'UpperBody': {'All': 113.76223754882812, 'UpperStretching': 127.34431457519531, 'LowerStretching': 90.02364349365234, 'Gaming': 103.01393127441406, 'Patting': 93.01636505126953, 'Talking': 81.1607894897461, 'Reacting': 121.79721069335938, 'Walking': 90.25482940673828, 'Greeting': 79.78691101074219, 'Gesticuling': 113.61071014404297}, 'LowerBody': {'All': 148.33523559570312, 'UpperStretching': 149.72357177734375, 'LowerStretching': 165.45169067382812, 'Gaming': 116.76693725585938, 'Patting': 144.07313537597656, 'Talking': 94.2878646850586, 'Reacting': 123.96784210205078, 'Walking': 150.56820678710938, 'Greeting': 102.79777526855469, 'Gesticuling': 88.02935791015625}}\n"
     ]
    },
    {
     "name": "stderr",
     "output_type": "stream",
     "text": [
      " 82%|████████▏ | 4400/5352 [16:06<03:39,  4.34it/s]"
     ]
    },
    {
     "name": "stdout",
     "output_type": "stream",
     "text": [
      "{'FullBody': {'All': 131.0900421142578, 'UpperStretching': 138.6126251220703, 'LowerStretching': 127.84449005126953, 'Gaming': 110.2348403930664, 'Patting': 117.80009460449219, 'Talking': 87.82404327392578, 'Reacting': 122.48490142822266, 'Walking': 120.39454650878906, 'Greeting': 91.1481704711914, 'Gesticuling': 100.67481231689453}, 'UpperBody': {'All': 113.79524993896484, 'UpperStretching': 127.44347381591797, 'LowerStretching': 90.04981231689453, 'Gaming': 103.170166015625, 'Patting': 92.41250610351562, 'Talking': 81.13153839111328, 'Reacting': 121.19953918457031, 'Walking': 90.26068878173828, 'Greeting': 79.5749740600586, 'Gesticuling': 113.29464721679688}, 'LowerBody': {'All': 148.38485717773438, 'UpperStretching': 149.7817840576172, 'LowerStretching': 165.63917541503906, 'Gaming': 117.29949188232422, 'Patting': 143.1876678466797, 'Talking': 94.51655578613281, 'Reacting': 123.77024841308594, 'Walking': 150.52841186523438, 'Greeting': 102.72137451171875, 'Gesticuling': 88.05497741699219}}\n"
     ]
    },
    {
     "name": "stderr",
     "output_type": "stream",
     "text": [
      " 86%|████████▌ | 4600/5352 [16:50<02:51,  4.39it/s]"
     ]
    },
    {
     "name": "stdout",
     "output_type": "stream",
     "text": [
      "{'FullBody': {'All': 131.11151123046875, 'UpperStretching': 138.6950225830078, 'LowerStretching': 127.83743286132812, 'Gaming': 110.06075286865234, 'Patting': 117.58338165283203, 'Talking': 87.82341766357422, 'Reacting': 122.4284896850586, 'Walking': 120.23279571533203, 'Greeting': 90.54689025878906, 'Gesticuling': 100.54579162597656}, 'UpperBody': {'All': 113.82479858398438, 'UpperStretching': 127.53382873535156, 'LowerStretching': 90.01043701171875, 'Gaming': 103.00628662109375, 'Patting': 92.27523040771484, 'Talking': 81.39425659179688, 'Reacting': 121.0578842163086, 'Walking': 90.2083511352539, 'Greeting': 79.15145874023438, 'Gesticuling': 113.10918426513672}, 'LowerBody': {'All': 148.39825439453125, 'UpperStretching': 149.85623168945312, 'LowerStretching': 165.66445922851562, 'Gaming': 117.11521911621094, 'Patting': 142.8915557861328, 'Talking': 94.25257873535156, 'Reacting': 123.799072265625, 'Walking': 150.25721740722656, 'Greeting': 101.94232177734375, 'Gesticuling': 87.98239135742188}}\n"
     ]
    },
    {
     "name": "stderr",
     "output_type": "stream",
     "text": [
      " 90%|████████▉ | 4800/5352 [17:34<02:06,  4.35it/s]"
     ]
    },
    {
     "name": "stdout",
     "output_type": "stream",
     "text": [
      "{'FullBody': {'All': 131.15284729003906, 'UpperStretching': 138.75172424316406, 'LowerStretching': 127.75660705566406, 'Gaming': 110.03012084960938, 'Patting': 117.30640411376953, 'Talking': 87.6734390258789, 'Reacting': 122.1764144897461, 'Walking': 120.3806381225586, 'Greeting': 90.57678985595703, 'Gesticuling': 100.82349395751953}, 'UpperBody': {'All': 113.79588317871094, 'UpperStretching': 127.4742431640625, 'LowerStretching': 90.02445220947266, 'Gaming': 102.8773422241211, 'Patting': 92.0982666015625, 'Talking': 81.40081787109375, 'Reacting': 120.86776733398438, 'Walking': 90.23997497558594, 'Greeting': 79.10659790039062, 'Gesticuling': 113.48634338378906}, 'LowerBody': {'All': 148.5098419189453, 'UpperStretching': 150.02919006347656, 'LowerStretching': 165.48875427246094, 'Gaming': 117.18290710449219, 'Patting': 142.51454162597656, 'Talking': 93.94605255126953, 'Reacting': 123.48507690429688, 'Walking': 150.5213165283203, 'Greeting': 102.04698181152344, 'Gesticuling': 88.16062927246094}}\n"
     ]
    },
    {
     "name": "stderr",
     "output_type": "stream",
     "text": [
      " 93%|█████████▎| 5000/5352 [18:17<01:24,  4.16it/s]"
     ]
    },
    {
     "name": "stdout",
     "output_type": "stream",
     "text": [
      "{'FullBody': {'All': 131.17025756835938, 'UpperStretching': 138.75238037109375, 'LowerStretching': 128.00689697265625, 'Gaming': 109.79070281982422, 'Patting': 116.99626159667969, 'Talking': 87.49148559570312, 'Reacting': 122.44300842285156, 'Walking': 120.32225036621094, 'Greeting': 90.84337615966797, 'Gesticuling': 100.74850463867188}, 'UpperBody': {'All': 113.77539825439453, 'UpperStretching': 127.48403930664062, 'LowerStretching': 90.03766632080078, 'Gaming': 102.49929809570312, 'Patting': 91.74928283691406, 'Talking': 81.53124237060547, 'Reacting': 121.17433166503906, 'Walking': 90.22700500488281, 'Greeting': 79.29553985595703, 'Gesticuling': 113.45970916748047}, 'LowerBody': {'All': 148.5651397705078, 'UpperStretching': 150.02072143554688, 'LowerStretching': 165.9761505126953, 'Gaming': 117.08209228515625, 'Patting': 142.24325561523438, 'Talking': 93.45172882080078, 'Reacting': 123.7116928100586, 'Walking': 150.41751098632812, 'Greeting': 102.3912124633789, 'Gesticuling': 88.03730010986328}}\n"
     ]
    },
    {
     "name": "stderr",
     "output_type": "stream",
     "text": [
      " 97%|█████████▋| 5200/5352 [19:01<00:35,  4.26it/s]"
     ]
    },
    {
     "name": "stdout",
     "output_type": "stream",
     "text": [
      "{'FullBody': {'All': 131.14633178710938, 'UpperStretching': 138.72097778320312, 'LowerStretching': 127.97781372070312, 'Gaming': 109.52423858642578, 'Patting': 116.57657623291016, 'Talking': 87.49771118164062, 'Reacting': 122.67498016357422, 'Walking': 120.33719635009766, 'Greeting': 90.4530258178711, 'Gesticuling': 100.8255386352539}, 'UpperBody': {'All': 113.80140686035156, 'UpperStretching': 127.52530670166016, 'LowerStretching': 90.0130386352539, 'Gaming': 102.28109741210938, 'Patting': 91.5462417602539, 'Talking': 81.4848403930664, 'Reacting': 121.27198028564453, 'Walking': 90.30973815917969, 'Greeting': 78.93299102783203, 'Gesticuling': 113.59651947021484}, 'LowerBody': {'All': 148.49130249023438, 'UpperStretching': 149.91665649414062, 'LowerStretching': 165.94259643554688, 'Gaming': 116.76736450195312, 'Patting': 141.60693359375, 'Talking': 93.51058959960938, 'Reacting': 124.0779800415039, 'Walking': 150.3646697998047, 'Greeting': 101.97305297851562, 'Gesticuling': 88.05455780029297}}\n"
     ]
    },
    {
     "name": "stderr",
     "output_type": "stream",
     "text": [
      "100%|██████████| 5352/5352 [19:34<00:00,  4.56it/s]\n",
      "\u001b[94m11:59:53 \u001b[92m[INFO]\u001b[94m Main\u001b[0m: Saving evaluation results...\n",
      "\u001b[94m11:59:53 \u001b[92m[INFO]\u001b[94m Main\u001b[0m: Done.\n"
     ]
    }
   ],
   "source": [
    "for i,p in enumerate(path_):\n",
    "\t_path = f'/workspace/2d_to_3d/apps/eval/mo2cap2_depth_sil'\n",
    "\t_name = f'baseline806_{i}.json'\n",
    "\tif not os.path.exists(_path):\n",
    "\t\tos.makedirs(_path)\n",
    "\n",
    "\tmain(model_path=p,output_path=os.path.join(_path,_name))"
   ]
  }
 ],
 "metadata": {
  "kernelspec": {
   "display_name": "base",
   "language": "python",
   "name": "python3"
  },
  "language_info": {
   "codemirror_mode": {
    "name": "ipython",
    "version": 3
   },
   "file_extension": ".py",
   "mimetype": "text/x-python",
   "name": "python",
   "nbconvert_exporter": "python",
   "pygments_lexer": "ipython3",
   "version": "3.10.8"
  },
  "orig_nbformat": 4
 },
 "nbformat": 4,
 "nbformat_minor": 2
}
