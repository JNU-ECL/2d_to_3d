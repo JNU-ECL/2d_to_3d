{
 "cells": [
  {
   "cell_type": "code",
   "execution_count": 1,
   "metadata": {},
   "outputs": [
    {
     "name": "stderr",
     "output_type": "stream",
     "text": [
      "/opt/conda/lib/python3.10/site-packages/tqdm/auto.py:22: TqdmWarning: IProgress not found. Please update jupyter and ipywidgets. See https://ipywidgets.readthedocs.io/en/stable/user_install.html\n",
      "  from .autonotebook import tqdm as notebook_tqdm\n"
     ]
    }
   ],
   "source": [
    "# Copyright (c) Facebook, Inc. and its affiliates. All Rights Reserved\n",
    "# -*- coding: utf-8 -*-\n",
    "\"\"\"\n",
    "Demo code\n",
    "\n",
    "@author: Denis Tome'\n",
    "\n",
    "\"\"\"\n",
    "from torch.utils.data import DataLoader\n",
    "import torch\n",
    "from torchvision import transforms\n",
    "from base import SetType\n",
    "import multiprocessing\n",
    "from mocap import Mocap\n",
    "from utils import config, ConsoleLogger\n",
    "from utils import evaluate, io\n",
    "from model import TempModel\n",
    "from model_xregopose import xR_egoposemodel\n",
    "from model_mo2cap2 import mo2cap_ours\n",
    "from ours_model import Ours_model\n",
    "from tqdm import tqdm\n",
    "import os\n",
    "\n",
    "LOGGER = ConsoleLogger(\"Main\")\n",
    "use_cuda = torch.cuda.is_available()\n",
    "device = torch.device(\"cuda\" if use_cuda else \"cpu\")\n"
   ]
  },
  {
   "cell_type": "code",
   "execution_count": 2,
   "metadata": {},
   "outputs": [],
   "source": [
    "\n",
    "def main(model_path=None,output_path=None):\n",
    "\t\"\"\"Main\"\"\"\n",
    "\n",
    "\tLOGGER.info('Starting demo...')\n",
    "\n",
    "\t# ------------------- Data loader -------------------\n",
    "\n",
    "\n",
    "\t# let's load data from validation set as example\n",
    "\tdata = Mocap(\n",
    "\t\t'/dataset/data/Dataset/TestSet',\n",
    "\t\tSetType.VAL,\n",
    "\t\t)\n",
    "\tdata_loader = DataLoader(\n",
    "\t\tdata,\n",
    "\t\tbatch_size=16,\n",
    "\t\tnum_workers=(multiprocessing.cpu_count() // 3) * 2,\n",
    "\t\tshuffle=True)\n",
    "\n",
    "\t# ------------------- Evaluation -------------------\n",
    "\n",
    "\teval_body = evaluate.EvalBody()\n",
    "\teval_upper = evaluate.EvalUpperBody()\n",
    "\teval_lower = evaluate.EvalLowerBody()\n",
    "\n",
    "\t# ------------------- Read dataset frames -------------------\n",
    "\n",
    "\tmodel = Ours_model(pretrained_path=model_path).to(device)\n",
    "\tmodel = torch.nn.DataParallel(model,device_ids=[0,1])\n",
    "\tmodel.eval()\n",
    "\n",
    "\tfor it, test_batch in enumerate(tqdm(data_loader)):\n",
    "\t\timage = test_batch['image'].cuda()\n",
    "\t\timage_zoom = test_batch['image_zoom'].cuda()\n",
    "\t\tp3d = test_batch['joints_3d_cam']\n",
    "\t\taction = test_batch['action']\n",
    "\t\tinput_img = {\n",
    "\t\t\t'image':image,\n",
    "\t\t\t# 'image_zoom' : image_zoom,\n",
    "\t\t\t}\n",
    "\t\t# LOGGER.info('Iteration: {}'.format(it))\n",
    "\t\t# LOGGER.info('Images: {}'.format(img.shape))\n",
    "\t\t# LOGGER.info('p2ds: {}'.format(p2d.shape))\n",
    "\t\t# LOGGER.info('p3ds: {}'.format(p3d.shape))\n",
    "\t\t# LOGGER.info('Actions: {}'.format(action))\n",
    "\n",
    "\t\t# -----------------------------------------------------------\n",
    "\t\tpred_output = model(input_img)\n",
    "\t\t# -----------------------------------------------------------\n",
    "\n",
    "\t\t# TODO: replace p3d_hat with model preditions\n",
    "\t\tp3d_hat = pred_output['pred_pose']\n",
    "\n",
    "\t\t# Evaluate results using different evaluation metrices\n",
    "\t\ty_output = p3d_hat.data.cpu().numpy() * 1000\n",
    "\t\ty_target = p3d.data.cpu().numpy() * 1000\n",
    "\n",
    "\t\teval_body.eval(y_output, y_target, action)\n",
    "\t\teval_upper.eval(y_output, y_target, action)\n",
    "\t\teval_lower.eval(y_output, y_target, action)\n",
    "\t\tif (it+1)%200==0:\n",
    "\t\t\tprint({'FullBody': eval_body.get_results(),\n",
    "\t\t   'UpperBody': eval_upper.get_results(),\n",
    "\t\t   'LowerBody': eval_lower.get_results()})\n",
    "\t\t\t# break\n",
    "\t\t# TODO: remove break\n",
    "\t\t\n",
    "\n",
    "\t# ------------------- Save results -------------------\n",
    "\n",
    "\tLOGGER.info('Saving evaluation results...')\n",
    "\tres = {'FullBody': eval_body.get_results(),\n",
    "\t\t   'UpperBody': eval_upper.get_results(),\n",
    "\t\t   'LowerBody': eval_lower.get_results()}\n",
    "\n",
    "\tio.write_json(output_path, res)\n",
    "\n",
    "\tLOGGER.info('Done.')"
   ]
  },
  {
   "cell_type": "code",
   "execution_count": 3,
   "metadata": {},
   "outputs": [
    {
     "data": {
      "text/plain": [
       "['/workspace/2d_to_3d/apps/exp852/0.pth',\n",
       " '/workspace/2d_to_3d/apps/exp852/1.pth',\n",
       " '/workspace/2d_to_3d/apps/exp852/2.pth',\n",
       " '/workspace/2d_to_3d/apps/exp852/3.pth',\n",
       " '/workspace/2d_to_3d/apps/exp852/4.pth',\n",
       " '/workspace/2d_to_3d/apps/exp852/5.pth',\n",
       " '/workspace/2d_to_3d/apps/exp852/6.pth',\n",
       " '/workspace/2d_to_3d/apps/exp852/7.pth',\n",
       " '/workspace/2d_to_3d/apps/exp852/8.pth',\n",
       " '/workspace/2d_to_3d/apps/exp852/9.pth',\n",
       " '/workspace/2d_to_3d/apps/exp852/best.pth']"
      ]
     },
     "execution_count": 3,
     "metadata": {},
     "output_type": "execute_result"
    }
   ],
   "source": [
    "import glob\n",
    "path_ =sorted(glob.glob('/workspace/2d_to_3d/apps/exp852'+'/*'))\n",
    "path_"
   ]
  },
  {
   "cell_type": "code",
   "execution_count": 4,
   "metadata": {},
   "outputs": [
    {
     "ename": "RuntimeError",
     "evalue": "No active exception to reraise",
     "output_type": "error",
     "traceback": [
      "\u001b[0;31m---------------------------------------------------------------------------\u001b[0m",
      "\u001b[0;31mRuntimeError\u001b[0m                              Traceback (most recent call last)",
      "Cell \u001b[0;32mIn[4], line 4\u001b[0m\n\u001b[1;32m      2\u001b[0m gc\u001b[39m.\u001b[39mcollect()\n\u001b[1;32m      3\u001b[0m torch\u001b[39m.\u001b[39mcuda\u001b[39m.\u001b[39mempty_cache()\n\u001b[0;32m----> 4\u001b[0m \u001b[39mraise\u001b[39;00m\n",
      "\u001b[0;31mRuntimeError\u001b[0m: No active exception to reraise"
     ]
    }
   ],
   "source": [
    "import gc\n",
    "gc.collect()\n",
    "torch.cuda.empty_cache()\n",
    "raise"
   ]
  },
  {
   "cell_type": "code",
   "execution_count": 5,
   "metadata": {},
   "outputs": [
    {
     "name": "stderr",
     "output_type": "stream",
     "text": [
      "\u001b[94m06:35:23 \u001b[92m[INFO]\u001b[94m Main\u001b[0m: Starting demo...\n",
      "  0%|          | 0/5352 [00:00<?, ?it/s]/opt/conda/lib/python3.10/site-packages/torchvision/transforms/transforms.py:329: UserWarning: Argument 'interpolation' of type int is deprecated since 0.13 and will be removed in 0.15. Please use InterpolationMode enum.\n",
      "  warnings.warn(\n",
      "/opt/conda/lib/python3.10/site-packages/torchvision/transforms/transforms.py:329: UserWarning: Argument 'interpolation' of type int is deprecated since 0.13 and will be removed in 0.15. Please use InterpolationMode enum.\n",
      "  warnings.warn(\n",
      "/opt/conda/lib/python3.10/site-packages/torchvision/transforms/transforms.py:329: UserWarning: Argument 'interpolation' of type int is deprecated since 0.13 and will be removed in 0.15. Please use InterpolationMode enum.\n",
      "  warnings.warn(\n",
      "/opt/conda/lib/python3.10/site-packages/torchvision/transforms/transforms.py:329: UserWarning: Argument 'interpolation' of type int is deprecated since 0.13 and will be removed in 0.15. Please use InterpolationMode enum.\n",
      "  warnings.warn(\n",
      "/opt/conda/lib/python3.10/site-packages/torchvision/transforms/transforms.py:329: UserWarning: Argument 'interpolation' of type int is deprecated since 0.13 and will be removed in 0.15. Please use InterpolationMode enum.\n",
      "  warnings.warn(\n",
      "/opt/conda/lib/python3.10/site-packages/torchvision/transforms/transforms.py:329: UserWarning: Argument 'interpolation' of type int is deprecated since 0.13 and will be removed in 0.15. Please use InterpolationMode enum.\n",
      "  warnings.warn(\n",
      "/opt/conda/lib/python3.10/site-packages/torchvision/transforms/transforms.py:329: UserWarning: Argument 'interpolation' of type int is deprecated since 0.13 and will be removed in 0.15. Please use InterpolationMode enum.\n",
      "  warnings.warn(\n",
      "/opt/conda/lib/python3.10/site-packages/torchvision/transforms/transforms.py:329: UserWarning: Argument 'interpolation' of type int is deprecated since 0.13 and will be removed in 0.15. Please use InterpolationMode enum.\n",
      "  warnings.warn(\n",
      "/opt/conda/lib/python3.10/site-packages/torchvision/transforms/transforms.py:329: UserWarning: Argument 'interpolation' of type int is deprecated since 0.13 and will be removed in 0.15. Please use InterpolationMode enum.\n",
      "  warnings.warn(\n",
      "/opt/conda/lib/python3.10/site-packages/torchvision/transforms/transforms.py:329: UserWarning: Argument 'interpolation' of type int is deprecated since 0.13 and will be removed in 0.15. Please use InterpolationMode enum.\n",
      "  warnings.warn(\n",
      "/opt/conda/lib/python3.10/site-packages/torchvision/transforms/transforms.py:329: UserWarning: Argument 'interpolation' of type int is deprecated since 0.13 and will be removed in 0.15. Please use InterpolationMode enum.\n",
      "  warnings.warn(\n",
      "/opt/conda/lib/python3.10/site-packages/torchvision/transforms/transforms.py:329: UserWarning: Argument 'interpolation' of type int is deprecated since 0.13 and will be removed in 0.15. Please use InterpolationMode enum.\n",
      "  warnings.warn(\n",
      "/opt/conda/lib/python3.10/site-packages/torchvision/transforms/transforms.py:329: UserWarning: Argument 'interpolation' of type int is deprecated since 0.13 and will be removed in 0.15. Please use InterpolationMode enum.\n",
      "  warnings.warn(\n",
      "/opt/conda/lib/python3.10/site-packages/torchvision/transforms/transforms.py:329: UserWarning: Argument 'interpolation' of type int is deprecated since 0.13 and will be removed in 0.15. Please use InterpolationMode enum.\n",
      "  warnings.warn(\n",
      "/opt/conda/lib/python3.10/site-packages/torchvision/transforms/transforms.py:329: UserWarning: Argument 'interpolation' of type int is deprecated since 0.13 and will be removed in 0.15. Please use InterpolationMode enum.\n",
      "  warnings.warn(\n",
      "/opt/conda/lib/python3.10/site-packages/torchvision/transforms/transforms.py:329: UserWarning: Argument 'interpolation' of type int is deprecated since 0.13 and will be removed in 0.15. Please use InterpolationMode enum.\n",
      "  warnings.warn(\n",
      "/opt/conda/lib/python3.10/site-packages/torchvision/transforms/transforms.py:329: UserWarning: Argument 'interpolation' of type int is deprecated since 0.13 and will be removed in 0.15. Please use InterpolationMode enum.\n",
      "  warnings.warn(\n",
      "/opt/conda/lib/python3.10/site-packages/torchvision/transforms/transforms.py:329: UserWarning: Argument 'interpolation' of type int is deprecated since 0.13 and will be removed in 0.15. Please use InterpolationMode enum.\n",
      "  warnings.warn(\n",
      "/opt/conda/lib/python3.10/site-packages/torchvision/transforms/transforms.py:329: UserWarning: Argument 'interpolation' of type int is deprecated since 0.13 and will be removed in 0.15. Please use InterpolationMode enum.\n",
      "  warnings.warn(\n",
      "/opt/conda/lib/python3.10/site-packages/torchvision/transforms/transforms.py:329: UserWarning: Argument 'interpolation' of type int is deprecated since 0.13 and will be removed in 0.15. Please use InterpolationMode enum.\n",
      "  warnings.warn(\n",
      "/opt/conda/lib/python3.10/site-packages/torchvision/transforms/transforms.py:329: UserWarning: Argument 'interpolation' of type int is deprecated since 0.13 and will be removed in 0.15. Please use InterpolationMode enum.\n",
      "  warnings.warn(\n",
      "/opt/conda/lib/python3.10/site-packages/torchvision/transforms/transforms.py:329: UserWarning: Argument 'interpolation' of type int is deprecated since 0.13 and will be removed in 0.15. Please use InterpolationMode enum.\n",
      "  warnings.warn(\n",
      "/opt/conda/lib/python3.10/site-packages/torchvision/transforms/transforms.py:329: UserWarning: Argument 'interpolation' of type int is deprecated since 0.13 and will be removed in 0.15. Please use InterpolationMode enum.\n",
      "  warnings.warn(\n",
      "/opt/conda/lib/python3.10/site-packages/torchvision/transforms/transforms.py:329: UserWarning: Argument 'interpolation' of type int is deprecated since 0.13 and will be removed in 0.15. Please use InterpolationMode enum.\n",
      "  warnings.warn(\n",
      "  4%|▍         | 201/5352 [00:36<10:57,  7.84it/s] "
     ]
    },
    {
     "name": "stdout",
     "output_type": "stream",
     "text": [
      "{'FullBody': {'All': 80.60664367675781, 'UpperStretching': 84.89159393310547, 'Talking': 52.51578903198242, 'Reacting': 70.2246322631836, 'Walking': 79.1558609008789, 'Patting': 84.98297119140625, 'LowerStretching': 77.16140747070312, 'Gaming': 65.73369598388672, 'Greeting': 46.149131774902344, 'Gesticuling': 58.6947021484375}, 'UpperBody': {'All': 59.91231918334961, 'UpperStretching': 66.64013671875, 'Talking': 46.73014450073242, 'Reacting': 61.192264556884766, 'Walking': 52.49333190917969, 'Patting': 57.54693603515625, 'LowerStretching': 46.71407699584961, 'Gaming': 51.33243179321289, 'Greeting': 39.199031829833984, 'Gesticuling': 52.756004333496094}, 'LowerBody': {'All': 101.30096435546875, 'UpperStretching': 103.14305877685547, 'Talking': 58.301429748535156, 'Reacting': 79.25701904296875, 'Walking': 105.81836700439453, 'Patting': 112.41900634765625, 'LowerStretching': 107.60872650146484, 'Gaming': 80.13496398925781, 'Greeting': 53.099239349365234, 'Gesticuling': 64.63339233398438}}\n"
     ]
    },
    {
     "name": "stderr",
     "output_type": "stream",
     "text": [
      "  7%|▋         | 401/5352 [01:03<11:36,  7.11it/s]"
     ]
    },
    {
     "name": "stdout",
     "output_type": "stream",
     "text": [
      "{'FullBody': {'All': 79.74791717529297, 'UpperStretching': 84.391357421875, 'Talking': 51.944732666015625, 'Reacting': 67.32942962646484, 'Walking': 78.60559844970703, 'Patting': 79.79730224609375, 'LowerStretching': 75.17823791503906, 'Gaming': 65.32765197753906, 'Greeting': 48.479373931884766, 'Gesticuling': 56.67496871948242}, 'UpperBody': {'All': 59.377864837646484, 'UpperStretching': 66.1772232055664, 'Talking': 45.51456832885742, 'Reacting': 57.96905517578125, 'Walking': 51.539127349853516, 'Patting': 55.73735046386719, 'LowerStretching': 46.13787841796875, 'Gaming': 52.383827209472656, 'Greeting': 40.53095245361328, 'Gesticuling': 52.05605697631836}, 'LowerBody': {'All': 100.11798095703125, 'UpperStretching': 102.6054916381836, 'Talking': 58.374908447265625, 'Reacting': 76.68980407714844, 'Walking': 105.67206573486328, 'Patting': 103.85726165771484, 'LowerStretching': 104.21859741210938, 'Gaming': 78.27146911621094, 'Greeting': 56.427791595458984, 'Gesticuling': 61.29387283325195}}\n"
     ]
    },
    {
     "name": "stderr",
     "output_type": "stream",
     "text": [
      " 11%|█         | 601/5352 [01:29<10:12,  7.75it/s]"
     ]
    },
    {
     "name": "stdout",
     "output_type": "stream",
     "text": [
      "{'FullBody': {'All': 80.09508514404297, 'UpperStretching': 84.54916381835938, 'Talking': 50.54527282714844, 'Reacting': 67.26861572265625, 'Walking': 80.00145721435547, 'Patting': 77.28191375732422, 'LowerStretching': 76.86351776123047, 'Gaming': 65.65258026123047, 'Greeting': 50.120994567871094, 'Gesticuling': 56.418357849121094}, 'UpperBody': {'All': 59.47419357299805, 'UpperStretching': 66.36186981201172, 'Talking': 44.25955581665039, 'Reacting': 59.127708435058594, 'Walking': 52.07282638549805, 'Patting': 54.936058044433594, 'LowerStretching': 46.683250427246094, 'Gaming': 52.20927429199219, 'Greeting': 42.351219177246094, 'Gesticuling': 51.811458587646484}, 'LowerBody': {'All': 100.71597290039062, 'UpperStretching': 102.73645782470703, 'Talking': 56.830989837646484, 'Reacting': 75.40951538085938, 'Walking': 107.93009185791016, 'Patting': 99.62777709960938, 'LowerStretching': 107.04379272460938, 'Gaming': 79.09589385986328, 'Greeting': 57.890769958496094, 'Gesticuling': 61.02526092529297}}\n"
     ]
    },
    {
     "name": "stderr",
     "output_type": "stream",
     "text": [
      " 15%|█▍        | 801/5352 [01:56<11:40,  6.50it/s]"
     ]
    },
    {
     "name": "stdout",
     "output_type": "stream",
     "text": [
      "{'FullBody': {'All': 80.21001434326172, 'UpperStretching': 84.84275817871094, 'Talking': 50.153953552246094, 'Reacting': 67.00194549560547, 'Walking': 79.45146942138672, 'Patting': 76.17903900146484, 'LowerStretching': 76.82179260253906, 'Gaming': 66.1732406616211, 'Greeting': 50.53269958496094, 'Gesticuling': 57.287322998046875}, 'UpperBody': {'All': 59.57843780517578, 'UpperStretching': 66.29739379882812, 'Talking': 44.49034881591797, 'Reacting': 59.533912658691406, 'Walking': 52.25392150878906, 'Patting': 54.494285583496094, 'LowerStretching': 46.818260192871094, 'Gaming': 53.30982971191406, 'Greeting': 43.709842681884766, 'Gesticuling': 53.374107360839844}, 'LowerBody': {'All': 100.84159088134766, 'UpperStretching': 103.38813018798828, 'Talking': 55.81755828857422, 'Reacting': 74.4699935913086, 'Walking': 106.6490249633789, 'Patting': 97.86381530761719, 'LowerStretching': 106.8253173828125, 'Gaming': 79.0366439819336, 'Greeting': 57.35554122924805, 'Gesticuling': 61.20052719116211}}\n"
     ]
    },
    {
     "name": "stderr",
     "output_type": "stream",
     "text": [
      " 19%|█▊        | 1001/5352 [02:23<09:21,  7.75it/s]"
     ]
    },
    {
     "name": "stdout",
     "output_type": "stream",
     "text": [
      "{'FullBody': {'All': 79.64961242675781, 'UpperStretching': 84.24102783203125, 'Talking': 49.84433364868164, 'Reacting': 68.12413787841797, 'Walking': 78.87859344482422, 'Patting': 76.33568572998047, 'LowerStretching': 76.2131576538086, 'Gaming': 65.40023040771484, 'Greeting': 49.593841552734375, 'Gesticuling': 57.224876403808594}, 'UpperBody': {'All': 59.112335205078125, 'UpperStretching': 65.72621154785156, 'Talking': 44.054988861083984, 'Reacting': 60.488792419433594, 'Walking': 52.017982482910156, 'Patting': 53.87984848022461, 'LowerStretching': 46.4173698425293, 'Gaming': 53.09928894042969, 'Greeting': 43.57819366455078, 'Gesticuling': 52.91539001464844}, 'LowerBody': {'All': 100.18688201904297, 'UpperStretching': 102.75582885742188, 'Talking': 55.63368606567383, 'Reacting': 75.75946807861328, 'Walking': 105.73921203613281, 'Patting': 98.79154205322266, 'LowerStretching': 106.00895690917969, 'Gaming': 77.70117950439453, 'Greeting': 55.609500885009766, 'Gesticuling': 61.53435516357422}}\n"
     ]
    },
    {
     "name": "stderr",
     "output_type": "stream",
     "text": [
      " 22%|██▏       | 1201/5352 [02:50<10:26,  6.62it/s]"
     ]
    },
    {
     "name": "stdout",
     "output_type": "stream",
     "text": [
      "{'FullBody': {'All': 79.70864868164062, 'UpperStretching': 84.40110778808594, 'Talking': 49.97918701171875, 'Reacting': 68.71006774902344, 'Walking': 78.62134552001953, 'Patting': 75.56703186035156, 'LowerStretching': 76.07185363769531, 'Gaming': 66.06366729736328, 'Greeting': 49.43256759643555, 'Gesticuling': 56.72203826904297}, 'UpperBody': {'All': 59.05060577392578, 'UpperStretching': 65.6499252319336, 'Talking': 44.0897102355957, 'Reacting': 60.789695739746094, 'Walking': 51.959617614746094, 'Patting': 53.4361686706543, 'LowerStretching': 46.23308181762695, 'Gaming': 53.69245529174805, 'Greeting': 43.34680938720703, 'Gesticuling': 52.34809494018555}, 'LowerBody': {'All': 100.36669158935547, 'UpperStretching': 103.15229797363281, 'Talking': 55.86867141723633, 'Reacting': 76.63043975830078, 'Walking': 105.2830581665039, 'Patting': 97.6978988647461, 'LowerStretching': 105.91061401367188, 'Gaming': 78.43487548828125, 'Greeting': 55.518333435058594, 'Gesticuling': 61.095985412597656}}\n"
     ]
    },
    {
     "name": "stderr",
     "output_type": "stream",
     "text": [
      " 26%|██▌       | 1401/5352 [03:16<08:46,  7.51it/s]"
     ]
    },
    {
     "name": "stdout",
     "output_type": "stream",
     "text": [
      "{'FullBody': {'All': 79.64424896240234, 'UpperStretching': 84.29013061523438, 'Talking': 49.5931510925293, 'Reacting': 68.9090347290039, 'Walking': 78.53398132324219, 'Patting': 75.64324188232422, 'LowerStretching': 76.16785430908203, 'Gaming': 65.2462387084961, 'Greeting': 49.02852249145508, 'Gesticuling': 56.852779388427734}, 'UpperBody': {'All': 58.96296310424805, 'UpperStretching': 65.42879486083984, 'Talking': 43.55665969848633, 'Reacting': 61.298954010009766, 'Walking': 51.900821685791016, 'Patting': 54.10844039916992, 'LowerStretching': 46.25566482543945, 'Gaming': 52.938297271728516, 'Greeting': 42.68724060058594, 'Gesticuling': 52.37713623046875}, 'LowerBody': {'All': 100.3255386352539, 'UpperStretching': 103.1514663696289, 'Talking': 55.629638671875, 'Reacting': 76.51911163330078, 'Walking': 105.16715240478516, 'Patting': 97.17805480957031, 'LowerStretching': 106.08002471923828, 'Gaming': 77.55419158935547, 'Greeting': 55.369808197021484, 'Gesticuling': 61.32842254638672}}\n"
     ]
    },
    {
     "name": "stderr",
     "output_type": "stream",
     "text": [
      " 30%|██▉       | 1601/5352 [03:43<08:29,  7.36it/s]"
     ]
    },
    {
     "name": "stdout",
     "output_type": "stream",
     "text": [
      "{'FullBody': {'All': 79.55408477783203, 'UpperStretching': 84.17407989501953, 'Talking': 49.43971252441406, 'Reacting': 68.6771240234375, 'Walking': 78.45683288574219, 'Patting': 77.00013732910156, 'LowerStretching': 76.18331146240234, 'Gaming': 64.48983001708984, 'Greeting': 48.70936584472656, 'Gesticuling': 56.88343811035156}, 'UpperBody': {'All': 58.88636779785156, 'UpperStretching': 65.30525207519531, 'Talking': 43.43732833862305, 'Reacting': 60.89263916015625, 'Walking': 51.856685638427734, 'Patting': 55.02478790283203, 'LowerStretching': 46.32365417480469, 'Gaming': 52.29304122924805, 'Greeting': 42.1465950012207, 'Gesticuling': 52.50825119018555}, 'LowerBody': {'All': 100.22180938720703, 'UpperStretching': 103.04288482666016, 'Talking': 55.44209289550781, 'Reacting': 76.46162414550781, 'Walking': 105.0569839477539, 'Patting': 98.9754867553711, 'LowerStretching': 106.04296875, 'Gaming': 76.68661499023438, 'Greeting': 55.27213668823242, 'Gesticuling': 61.25861740112305}}\n"
     ]
    },
    {
     "name": "stderr",
     "output_type": "stream",
     "text": [
      " 34%|███▎      | 1801/5352 [04:10<07:41,  7.70it/s]"
     ]
    },
    {
     "name": "stdout",
     "output_type": "stream",
     "text": [
      "{'FullBody': {'All': 79.60235595703125, 'UpperStretching': 84.16854858398438, 'Talking': 49.23948287963867, 'Reacting': 68.96279907226562, 'Walking': 78.2556381225586, 'Patting': 79.40145874023438, 'LowerStretching': 76.33619689941406, 'Gaming': 64.519287109375, 'Greeting': 48.64677047729492, 'Gesticuling': 56.71146011352539}, 'UpperBody': {'All': 58.89295196533203, 'UpperStretching': 65.25281524658203, 'Talking': 43.25215530395508, 'Reacting': 61.260498046875, 'Walking': 51.75382614135742, 'Patting': 56.106807708740234, 'LowerStretching': 46.33927536010742, 'Gaming': 52.52325439453125, 'Greeting': 42.212642669677734, 'Gesticuling': 52.43151092529297}, 'LowerBody': {'All': 100.31175231933594, 'UpperStretching': 103.08428192138672, 'Talking': 55.2268180847168, 'Reacting': 76.66509246826172, 'Walking': 104.75743865966797, 'Patting': 102.69611358642578, 'LowerStretching': 106.3331069946289, 'Gaming': 76.51534271240234, 'Greeting': 55.080902099609375, 'Gesticuling': 60.99140548706055}}\n"
     ]
    },
    {
     "name": "stderr",
     "output_type": "stream",
     "text": [
      " 37%|███▋      | 2001/5352 [04:37<07:49,  7.14it/s]"
     ]
    },
    {
     "name": "stdout",
     "output_type": "stream",
     "text": [
      "{'FullBody': {'All': 79.6128921508789, 'UpperStretching': 84.16315460205078, 'Talking': 49.7740364074707, 'Reacting': 69.24615478515625, 'Walking': 78.06143188476562, 'Patting': 79.86260986328125, 'LowerStretching': 76.37793731689453, 'Gaming': 64.81388854980469, 'Greeting': 48.44517135620117, 'Gesticuling': 56.84334945678711}, 'UpperBody': {'All': 58.912742614746094, 'UpperStretching': 65.26490020751953, 'Talking': 43.54924011230469, 'Reacting': 61.72205352783203, 'Walking': 51.63850021362305, 'Patting': 56.59762954711914, 'LowerStretching': 46.28787612915039, 'Gaming': 52.83670425415039, 'Greeting': 42.113101959228516, 'Gesticuling': 52.566627502441406}, 'LowerBody': {'All': 100.31304168701172, 'UpperStretching': 103.06140899658203, 'Talking': 55.99882125854492, 'Reacting': 76.77025604248047, 'Walking': 104.48436737060547, 'Patting': 103.12757873535156, 'LowerStretching': 106.4679946899414, 'Gaming': 76.79107666015625, 'Greeting': 54.77723693847656, 'Gesticuling': 61.12007141113281}}\n"
     ]
    },
    {
     "name": "stderr",
     "output_type": "stream",
     "text": [
      " 41%|████      | 2201/5352 [05:03<07:03,  7.43it/s]"
     ]
    },
    {
     "name": "stdout",
     "output_type": "stream",
     "text": [
      "{'FullBody': {'All': 79.71003723144531, 'UpperStretching': 84.16526794433594, 'Talking': 49.590065002441406, 'Reacting': 69.4081039428711, 'Walking': 78.26971435546875, 'Patting': 80.66259765625, 'LowerStretching': 76.484619140625, 'Gaming': 65.17467498779297, 'Greeting': 48.577972412109375, 'Gesticuling': 56.79016876220703}, 'UpperBody': {'All': 58.97517776489258, 'UpperStretching': 65.25875854492188, 'Talking': 43.409767150878906, 'Reacting': 61.817138671875, 'Walking': 51.73704528808594, 'Patting': 57.83091735839844, 'LowerStretching': 46.3464241027832, 'Gaming': 53.034400939941406, 'Greeting': 42.168033599853516, 'Gesticuling': 52.48321533203125}, 'LowerBody': {'All': 100.44489288330078, 'UpperStretching': 103.07177734375, 'Talking': 55.77035903930664, 'Reacting': 76.99906921386719, 'Walking': 104.80239868164062, 'Patting': 103.49427795410156, 'LowerStretching': 106.6228256225586, 'Gaming': 77.31494140625, 'Greeting': 54.987911224365234, 'Gesticuling': 61.09711456298828}}\n"
     ]
    },
    {
     "name": "stderr",
     "output_type": "stream",
     "text": [
      " 45%|████▍     | 2401/5352 [05:30<07:02,  6.98it/s]"
     ]
    },
    {
     "name": "stdout",
     "output_type": "stream",
     "text": [
      "{'FullBody': {'All': 79.76063537597656, 'UpperStretching': 84.19695281982422, 'Talking': 49.740474700927734, 'Reacting': 69.32160186767578, 'Walking': 78.35120391845703, 'Patting': 80.66580200195312, 'LowerStretching': 76.4671401977539, 'Gaming': 65.2259750366211, 'Greeting': 48.939674377441406, 'Gesticuling': 56.92742919921875}, 'UpperBody': {'All': 59.05964660644531, 'UpperStretching': 65.36854553222656, 'Talking': 43.60711669921875, 'Reacting': 61.681053161621094, 'Walking': 51.8874626159668, 'Patting': 57.63493728637695, 'LowerStretching': 46.29103469848633, 'Gaming': 53.149681091308594, 'Greeting': 42.45686721801758, 'Gesticuling': 52.56767272949219}, 'LowerBody': {'All': 100.46163177490234, 'UpperStretching': 103.02537536621094, 'Talking': 55.873836517333984, 'Reacting': 76.96214294433594, 'Walking': 104.81494903564453, 'Patting': 103.69666290283203, 'LowerStretching': 106.64323425292969, 'Gaming': 77.30226135253906, 'Greeting': 55.4224853515625, 'Gesticuling': 61.28718566894531}}\n"
     ]
    },
    {
     "name": "stderr",
     "output_type": "stream",
     "text": [
      " 49%|████▊     | 2601/5352 [05:57<06:09,  7.45it/s]"
     ]
    },
    {
     "name": "stdout",
     "output_type": "stream",
     "text": [
      "{'FullBody': {'All': 79.81726837158203, 'UpperStretching': 84.1992416381836, 'Talking': 49.778133392333984, 'Reacting': 69.48680114746094, 'Walking': 78.64682006835938, 'Patting': 80.119140625, 'LowerStretching': 76.51856994628906, 'Gaming': 65.34525299072266, 'Greeting': 49.26091003417969, 'Gesticuling': 57.10870361328125}, 'UpperBody': {'All': 59.1105842590332, 'UpperStretching': 65.36274719238281, 'Talking': 43.69499969482422, 'Reacting': 61.986541748046875, 'Walking': 52.166038513183594, 'Patting': 57.20645523071289, 'LowerStretching': 46.27669906616211, 'Gaming': 53.20716857910156, 'Greeting': 42.82620620727539, 'Gesticuling': 52.7502555847168}, 'LowerBody': {'All': 100.52394104003906, 'UpperStretching': 103.0357437133789, 'Talking': 55.86126708984375, 'Reacting': 76.98705291748047, 'Walking': 105.12759399414062, 'Patting': 103.0318374633789, 'LowerStretching': 106.76043701171875, 'Gaming': 77.48332214355469, 'Greeting': 55.69561767578125, 'Gesticuling': 61.4671516418457}}\n"
     ]
    },
    {
     "name": "stderr",
     "output_type": "stream",
     "text": [
      " 52%|█████▏    | 2801/5352 [06:24<05:44,  7.40it/s]"
     ]
    },
    {
     "name": "stdout",
     "output_type": "stream",
     "text": [
      "{'FullBody': {'All': 79.90216827392578, 'UpperStretching': 84.36236572265625, 'Talking': 49.86772918701172, 'Reacting': 69.59476470947266, 'Walking': 78.5419921875, 'Patting': 80.6673812866211, 'LowerStretching': 76.45772552490234, 'Gaming': 65.00704956054688, 'Greeting': 49.52195739746094, 'Gesticuling': 56.96387481689453}, 'UpperBody': {'All': 59.15477752685547, 'UpperStretching': 65.45555877685547, 'Talking': 43.939430236816406, 'Reacting': 62.272499084472656, 'Walking': 52.04508972167969, 'Patting': 57.16039276123047, 'LowerStretching': 46.2981071472168, 'Gaming': 52.85182571411133, 'Greeting': 43.1021728515625, 'Gesticuling': 52.613826751708984}, 'LowerBody': {'All': 100.64955139160156, 'UpperStretching': 103.26918029785156, 'Talking': 55.7960205078125, 'Reacting': 76.91703033447266, 'Walking': 105.03888702392578, 'Patting': 104.17436218261719, 'LowerStretching': 106.61734008789062, 'Gaming': 77.16226959228516, 'Greeting': 55.941741943359375, 'Gesticuling': 61.31392288208008}}\n"
     ]
    },
    {
     "name": "stderr",
     "output_type": "stream",
     "text": [
      " 56%|█████▌    | 3001/5352 [06:51<05:23,  7.28it/s]"
     ]
    },
    {
     "name": "stdout",
     "output_type": "stream",
     "text": [
      "{'FullBody': {'All': 79.84320831298828, 'UpperStretching': 84.33642578125, 'Talking': 49.876365661621094, 'Reacting': 69.49502563476562, 'Walking': 78.55060577392578, 'Patting': 80.02471923828125, 'LowerStretching': 76.25558471679688, 'Gaming': 65.06257629394531, 'Greeting': 49.65454864501953, 'Gesticuling': 56.857887268066406}, 'UpperBody': {'All': 59.09244155883789, 'UpperStretching': 65.3973159790039, 'Talking': 44.10462951660156, 'Reacting': 62.259639739990234, 'Walking': 52.07455825805664, 'Patting': 56.698570251464844, 'LowerStretching': 46.13379669189453, 'Gaming': 52.86652374267578, 'Greeting': 43.34380340576172, 'Gesticuling': 52.5091552734375}, 'LowerBody': {'All': 100.59395599365234, 'UpperStretching': 103.27552795410156, 'Talking': 55.648109436035156, 'Reacting': 76.73040771484375, 'Walking': 105.02665710449219, 'Patting': 103.35088348388672, 'LowerStretching': 106.37737274169922, 'Gaming': 77.25862121582031, 'Greeting': 55.96529006958008, 'Gesticuling': 61.20662307739258}}\n"
     ]
    },
    {
     "name": "stderr",
     "output_type": "stream",
     "text": [
      " 60%|█████▉    | 3201/5352 [07:17<05:03,  7.10it/s]"
     ]
    },
    {
     "name": "stdout",
     "output_type": "stream",
     "text": [
      "{'FullBody': {'All': 79.86306762695312, 'UpperStretching': 84.33161163330078, 'Talking': 50.03800582885742, 'Reacting': 69.80223846435547, 'Walking': 78.41438293457031, 'Patting': 80.78068542480469, 'LowerStretching': 76.34725952148438, 'Gaming': 64.98432922363281, 'Greeting': 49.63882827758789, 'Gesticuling': 56.76445770263672}, 'UpperBody': {'All': 59.070316314697266, 'UpperStretching': 65.34683990478516, 'Talking': 44.18007278442383, 'Reacting': 62.24772644042969, 'Walking': 51.9858512878418, 'Patting': 57.10172653198242, 'LowerStretching': 46.14668273925781, 'Gaming': 52.68735122680664, 'Greeting': 43.47983169555664, 'Gesticuling': 52.39876937866211}, 'LowerBody': {'All': 100.65580749511719, 'UpperStretching': 103.3163833618164, 'Talking': 55.895938873291016, 'Reacting': 77.35675811767578, 'Walking': 104.84290313720703, 'Patting': 104.45965576171875, 'LowerStretching': 106.54783630371094, 'Gaming': 77.28128814697266, 'Greeting': 55.79783630371094, 'Gesticuling': 61.13015365600586}}\n"
     ]
    },
    {
     "name": "stderr",
     "output_type": "stream",
     "text": [
      " 64%|██████▎   | 3401/5352 [07:44<04:25,  7.36it/s]"
     ]
    },
    {
     "name": "stdout",
     "output_type": "stream",
     "text": [
      "{'FullBody': {'All': 80.01387786865234, 'UpperStretching': 84.53939056396484, 'Talking': 50.02326583862305, 'Reacting': 69.61771392822266, 'Walking': 78.51013946533203, 'Patting': 81.4927749633789, 'LowerStretching': 76.29959106445312, 'Gaming': 65.06214141845703, 'Greeting': 50.06543731689453, 'Gesticuling': 56.85126495361328}, 'UpperBody': {'All': 59.1382942199707, 'UpperStretching': 65.45687866210938, 'Talking': 44.18020248413086, 'Reacting': 61.936424255371094, 'Walking': 51.97610855102539, 'Patting': 57.38509750366211, 'LowerStretching': 46.12236022949219, 'Gaming': 52.7472038269043, 'Greeting': 43.89873504638672, 'Gesticuling': 52.41797637939453}, 'LowerBody': {'All': 100.88945007324219, 'UpperStretching': 103.6219253540039, 'Talking': 55.866310119628906, 'Reacting': 77.29901123046875, 'Walking': 105.04418182373047, 'Patting': 105.60047149658203, 'LowerStretching': 106.47682189941406, 'Gaming': 77.37709045410156, 'Greeting': 56.23214340209961, 'Gesticuling': 61.284549713134766}}\n"
     ]
    },
    {
     "name": "stderr",
     "output_type": "stream",
     "text": [
      " 67%|██████▋   | 3601/5352 [08:11<04:06,  7.10it/s]"
     ]
    },
    {
     "name": "stdout",
     "output_type": "stream",
     "text": [
      "{'FullBody': {'All': 80.01522827148438, 'UpperStretching': 84.5531005859375, 'Talking': 50.054161071777344, 'Reacting': 69.7590560913086, 'Walking': 78.57080078125, 'Patting': 81.52391052246094, 'LowerStretching': 76.22628021240234, 'Gaming': 65.0154800415039, 'Greeting': 50.165733337402344, 'Gesticuling': 56.799556732177734}, 'UpperBody': {'All': 59.12868118286133, 'UpperStretching': 65.46253967285156, 'Talking': 44.28157424926758, 'Reacting': 62.04433059692383, 'Walking': 51.99857711791992, 'Patting': 57.02146530151367, 'LowerStretching': 46.09001922607422, 'Gaming': 52.61988067626953, 'Greeting': 43.90696334838867, 'Gesticuling': 52.36124038696289}, 'LowerBody': {'All': 100.90176391601562, 'UpperStretching': 103.64366149902344, 'Talking': 55.82675552368164, 'Reacting': 77.47378540039062, 'Walking': 105.14303588867188, 'Patting': 106.02635955810547, 'LowerStretching': 106.36253356933594, 'Gaming': 77.41108703613281, 'Greeting': 56.42450714111328, 'Gesticuling': 61.23788070678711}}\n"
     ]
    },
    {
     "name": "stderr",
     "output_type": "stream",
     "text": [
      " 71%|███████   | 3801/5352 [08:38<04:08,  6.24it/s]"
     ]
    },
    {
     "name": "stdout",
     "output_type": "stream",
     "text": [
      "{'FullBody': {'All': 79.99262237548828, 'UpperStretching': 84.48890686035156, 'Talking': 50.529541015625, 'Reacting': 69.7320556640625, 'Walking': 78.6581802368164, 'Patting': 81.18052673339844, 'LowerStretching': 76.2596206665039, 'Gaming': 64.97770690917969, 'Greeting': 50.30548095703125, 'Gesticuling': 56.7863883972168}, 'UpperBody': {'All': 59.127540588378906, 'UpperStretching': 65.41754913330078, 'Talking': 44.5317268371582, 'Reacting': 62.02050018310547, 'Walking': 52.105133056640625, 'Patting': 56.87712478637695, 'LowerStretching': 46.115577697753906, 'Gaming': 52.67097854614258, 'Greeting': 44.00807571411133, 'Gesticuling': 52.45635986328125}, 'LowerBody': {'All': 100.8576889038086, 'UpperStretching': 103.56026458740234, 'Talking': 56.52735900878906, 'Reacting': 77.44361114501953, 'Walking': 105.21124267578125, 'Patting': 105.48393249511719, 'LowerStretching': 106.40364837646484, 'Gaming': 77.284423828125, 'Greeting': 56.60288619995117, 'Gesticuling': 61.116416931152344}}\n"
     ]
    },
    {
     "name": "stderr",
     "output_type": "stream",
     "text": [
      " 75%|███████▍  | 4001/5352 [09:04<03:07,  7.19it/s]"
     ]
    },
    {
     "name": "stdout",
     "output_type": "stream",
     "text": [
      "{'FullBody': {'All': 80.02293395996094, 'UpperStretching': 84.52630615234375, 'Talking': 50.65889358520508, 'Reacting': 70.05157470703125, 'Walking': 78.65943145751953, 'Patting': 80.28968811035156, 'LowerStretching': 76.29299926757812, 'Gaming': 64.90515899658203, 'Greeting': 50.33525848388672, 'Gesticuling': 56.74029541015625}, 'UpperBody': {'All': 59.14959716796875, 'UpperStretching': 65.44099426269531, 'Talking': 44.645973205566406, 'Reacting': 62.227928161621094, 'Walking': 52.119537353515625, 'Patting': 56.4078254699707, 'LowerStretching': 46.099300384521484, 'Gaming': 52.57588577270508, 'Greeting': 43.934749603271484, 'Gesticuling': 52.39375686645508}, 'LowerBody': {'All': 100.8962631225586, 'UpperStretching': 103.61161804199219, 'Talking': 56.67182159423828, 'Reacting': 77.87523651123047, 'Walking': 105.19931030273438, 'Patting': 104.17155456542969, 'LowerStretching': 106.48670959472656, 'Gaming': 77.23442840576172, 'Greeting': 56.73577880859375, 'Gesticuling': 61.086830139160156}}\n"
     ]
    },
    {
     "name": "stderr",
     "output_type": "stream",
     "text": [
      " 78%|███████▊  | 4201/5352 [09:31<02:40,  7.19it/s]"
     ]
    },
    {
     "name": "stdout",
     "output_type": "stream",
     "text": [
      "{'FullBody': {'All': 80.09523010253906, 'UpperStretching': 84.57856750488281, 'Talking': 50.61991882324219, 'Reacting': 70.04839324951172, 'Walking': 78.78998565673828, 'Patting': 79.89574432373047, 'LowerStretching': 76.48794555664062, 'Gaming': 65.04987335205078, 'Greeting': 50.125328063964844, 'Gesticuling': 56.70362091064453}, 'UpperBody': {'All': 59.196449279785156, 'UpperStretching': 65.47428131103516, 'Talking': 44.754730224609375, 'Reacting': 62.24188995361328, 'Walking': 52.23342514038086, 'Patting': 56.38528060913086, 'LowerStretching': 46.170955657958984, 'Gaming': 52.64871597290039, 'Greeting': 43.665218353271484, 'Gesticuling': 52.35047912597656}, 'LowerBody': {'All': 100.9939956665039, 'UpperStretching': 103.68285369873047, 'Talking': 56.485107421875, 'Reacting': 77.85488891601562, 'Walking': 105.34654998779297, 'Patting': 103.4062271118164, 'LowerStretching': 106.80493927001953, 'Gaming': 77.4510269165039, 'Greeting': 56.58544158935547, 'Gesticuling': 61.05677032470703}}\n"
     ]
    },
    {
     "name": "stderr",
     "output_type": "stream",
     "text": [
      " 82%|████████▏ | 4401/5352 [09:58<02:15,  7.00it/s]"
     ]
    },
    {
     "name": "stdout",
     "output_type": "stream",
     "text": [
      "{'FullBody': {'All': 80.13621520996094, 'UpperStretching': 84.66926574707031, 'Talking': 50.65383529663086, 'Reacting': 70.07435607910156, 'Walking': 78.76538848876953, 'Patting': 79.96895599365234, 'LowerStretching': 76.37724304199219, 'Gaming': 65.12535095214844, 'Greeting': 50.140228271484375, 'Gesticuling': 56.96556091308594}, 'UpperBody': {'All': 59.201873779296875, 'UpperStretching': 65.50627136230469, 'Talking': 44.79549026489258, 'Reacting': 62.17555618286133, 'Walking': 52.176029205322266, 'Patting': 56.323909759521484, 'LowerStretching': 46.1177978515625, 'Gaming': 52.66938400268555, 'Greeting': 43.61402130126953, 'Gesticuling': 52.62782287597656}, 'LowerBody': {'All': 101.07054138183594, 'UpperStretching': 103.83226776123047, 'Talking': 56.51218032836914, 'Reacting': 77.97315979003906, 'Walking': 105.3547592163086, 'Patting': 103.61399841308594, 'LowerStretching': 106.63666534423828, 'Gaming': 77.58131408691406, 'Greeting': 56.666439056396484, 'Gesticuling': 61.303306579589844}}\n"
     ]
    },
    {
     "name": "stderr",
     "output_type": "stream",
     "text": [
      " 86%|████████▌ | 4601/5352 [10:25<01:48,  6.94it/s]"
     ]
    },
    {
     "name": "stdout",
     "output_type": "stream",
     "text": [
      "{'FullBody': {'All': 80.10103607177734, 'UpperStretching': 84.60041809082031, 'Talking': 50.681095123291016, 'Reacting': 69.94093322753906, 'Walking': 78.80345153808594, 'Patting': 80.30013275146484, 'LowerStretching': 76.38033294677734, 'Gaming': 65.25598907470703, 'Greeting': 50.154273986816406, 'Gesticuling': 56.8699836730957}, 'UpperBody': {'All': 59.207725524902344, 'UpperStretching': 65.49241638183594, 'Talking': 44.772464752197266, 'Reacting': 62.106773376464844, 'Walking': 52.233402252197266, 'Patting': 56.843109130859375, 'LowerStretching': 46.151790618896484, 'Gaming': 52.827178955078125, 'Greeting': 43.68806457519531, 'Gesticuling': 52.53337478637695}, 'LowerBody': {'All': 100.99433898925781, 'UpperStretching': 103.70840454101562, 'Talking': 56.58972930908203, 'Reacting': 77.77508544921875, 'Walking': 105.37349700927734, 'Patting': 103.75715637207031, 'LowerStretching': 106.60887145996094, 'Gaming': 77.68479919433594, 'Greeting': 56.620479583740234, 'Gesticuling': 61.20659255981445}}\n"
     ]
    },
    {
     "name": "stderr",
     "output_type": "stream",
     "text": [
      " 90%|████████▉ | 4801/5352 [10:52<01:18,  7.00it/s]"
     ]
    },
    {
     "name": "stdout",
     "output_type": "stream",
     "text": [
      "{'FullBody': {'All': 80.14305877685547, 'UpperStretching': 84.66464233398438, 'Talking': 50.6064567565918, 'Reacting': 70.05170440673828, 'Walking': 78.79855346679688, 'Patting': 79.53036499023438, 'LowerStretching': 76.44088745117188, 'Gaming': 65.2468490600586, 'Greeting': 49.956268310546875, 'Gesticuling': 56.95429611206055}, 'UpperBody': {'All': 59.221954345703125, 'UpperStretching': 65.51898193359375, 'Talking': 44.60820388793945, 'Reacting': 62.1148567199707, 'Walking': 52.21266174316406, 'Patting': 56.469970703125, 'LowerStretching': 46.168548583984375, 'Gaming': 52.7528190612793, 'Greeting': 43.47334671020508, 'Gesticuling': 52.65985870361328}, 'LowerBody': {'All': 101.06416320800781, 'UpperStretching': 103.810302734375, 'Talking': 56.604705810546875, 'Reacting': 77.9885482788086, 'Walking': 105.38443756103516, 'Patting': 102.59075927734375, 'LowerStretching': 106.71321105957031, 'Gaming': 77.74088287353516, 'Greeting': 56.43918991088867, 'Gesticuling': 61.24872970581055}}\n"
     ]
    },
    {
     "name": "stderr",
     "output_type": "stream",
     "text": [
      " 93%|█████████▎| 5001/5352 [11:19<00:52,  6.64it/s]"
     ]
    },
    {
     "name": "stdout",
     "output_type": "stream",
     "text": [
      "{'FullBody': {'All': 80.16471862792969, 'UpperStretching': 84.7031478881836, 'Talking': 50.56760025024414, 'Reacting': 70.0373306274414, 'Walking': 78.82054901123047, 'Patting': 79.39494323730469, 'LowerStretching': 76.39579010009766, 'Gaming': 65.28413391113281, 'Greeting': 50.12357711791992, 'Gesticuling': 56.95966339111328}, 'UpperBody': {'All': 59.236351013183594, 'UpperStretching': 65.54861450195312, 'Talking': 44.4677619934082, 'Reacting': 62.14048767089844, 'Walking': 52.209625244140625, 'Patting': 56.4031867980957, 'LowerStretching': 46.12641143798828, 'Gaming': 52.70604705810547, 'Greeting': 43.74263000488281, 'Gesticuling': 52.70279312133789}, 'LowerBody': {'All': 101.09308624267578, 'UpperStretching': 103.85768127441406, 'Talking': 56.66743087768555, 'Reacting': 77.93416595458984, 'Walking': 105.43146514892578, 'Patting': 102.38670349121094, 'LowerStretching': 106.6651611328125, 'Gaming': 77.86222076416016, 'Greeting': 56.5045166015625, 'Gesticuling': 61.216529846191406}}\n"
     ]
    },
    {
     "name": "stderr",
     "output_type": "stream",
     "text": [
      " 97%|█████████▋| 5201/5352 [11:45<00:21,  6.98it/s]"
     ]
    },
    {
     "name": "stdout",
     "output_type": "stream",
     "text": [
      "{'FullBody': {'All': 80.13301086425781, 'UpperStretching': 84.6602783203125, 'Talking': 50.52898406982422, 'Reacting': 70.00370788574219, 'Walking': 78.90117645263672, 'Patting': 78.89354705810547, 'LowerStretching': 76.39191436767578, 'Gaming': 65.31416320800781, 'Greeting': 50.05504608154297, 'Gesticuling': 57.02509689331055}, 'UpperBody': {'All': 59.1898307800293, 'UpperStretching': 65.48904418945312, 'Talking': 44.36415481567383, 'Reacting': 62.09600067138672, 'Walking': 52.27522659301758, 'Patting': 56.17982864379883, 'LowerStretching': 46.07612609863281, 'Gaming': 52.74900817871094, 'Greeting': 43.6970329284668, 'Gesticuling': 52.68465042114258}, 'LowerBody': {'All': 101.07617950439453, 'UpperStretching': 103.83151245117188, 'Talking': 56.69380569458008, 'Reacting': 77.91142272949219, 'Walking': 105.5271224975586, 'Patting': 101.60726928710938, 'LowerStretching': 106.70769500732422, 'Gaming': 77.87931823730469, 'Greeting': 56.413063049316406, 'Gesticuling': 61.36554718017578}}\n"
     ]
    },
    {
     "name": "stderr",
     "output_type": "stream",
     "text": [
      "100%|██████████| 5352/5352 [12:06<00:00,  7.37it/s]\n",
      "\u001b[94m06:47:32 \u001b[92m[INFO]\u001b[94m Main\u001b[0m: Saving evaluation results...\n",
      "\u001b[94m06:47:32 \u001b[92m[INFO]\u001b[94m Main\u001b[0m: Done.\n",
      "\u001b[94m06:47:32 \u001b[92m[INFO]\u001b[94m Main\u001b[0m: Starting demo...\n",
      "  0%|          | 0/5352 [00:00<?, ?it/s]/opt/conda/lib/python3.10/site-packages/torchvision/transforms/transforms.py:329: UserWarning: Argument 'interpolation' of type int is deprecated since 0.13 and will be removed in 0.15. Please use InterpolationMode enum.\n",
      "  warnings.warn(\n",
      "/opt/conda/lib/python3.10/site-packages/torchvision/transforms/transforms.py:329: UserWarning: Argument 'interpolation' of type int is deprecated since 0.13 and will be removed in 0.15. Please use InterpolationMode enum.\n",
      "  warnings.warn(\n",
      "/opt/conda/lib/python3.10/site-packages/torchvision/transforms/transforms.py:329: UserWarning: Argument 'interpolation' of type int is deprecated since 0.13 and will be removed in 0.15. Please use InterpolationMode enum.\n",
      "  warnings.warn(\n",
      "/opt/conda/lib/python3.10/site-packages/torchvision/transforms/transforms.py:329: UserWarning: Argument 'interpolation' of type int is deprecated since 0.13 and will be removed in 0.15. Please use InterpolationMode enum.\n",
      "  warnings.warn(\n",
      "/opt/conda/lib/python3.10/site-packages/torchvision/transforms/transforms.py:329: UserWarning: Argument 'interpolation' of type int is deprecated since 0.13 and will be removed in 0.15. Please use InterpolationMode enum.\n",
      "  warnings.warn(\n",
      "/opt/conda/lib/python3.10/site-packages/torchvision/transforms/transforms.py:329: UserWarning: Argument 'interpolation' of type int is deprecated since 0.13 and will be removed in 0.15. Please use InterpolationMode enum.\n",
      "  warnings.warn(\n",
      "/opt/conda/lib/python3.10/site-packages/torchvision/transforms/transforms.py:329: UserWarning: Argument 'interpolation' of type int is deprecated since 0.13 and will be removed in 0.15. Please use InterpolationMode enum.\n",
      "  warnings.warn(\n",
      "/opt/conda/lib/python3.10/site-packages/torchvision/transforms/transforms.py:329: UserWarning: Argument 'interpolation' of type int is deprecated since 0.13 and will be removed in 0.15. Please use InterpolationMode enum.\n",
      "  warnings.warn(\n",
      "/opt/conda/lib/python3.10/site-packages/torchvision/transforms/transforms.py:329: UserWarning: Argument 'interpolation' of type int is deprecated since 0.13 and will be removed in 0.15. Please use InterpolationMode enum.\n",
      "  warnings.warn(\n",
      "/opt/conda/lib/python3.10/site-packages/torchvision/transforms/transforms.py:329: UserWarning: Argument 'interpolation' of type int is deprecated since 0.13 and will be removed in 0.15. Please use InterpolationMode enum.\n",
      "  warnings.warn(\n",
      "/opt/conda/lib/python3.10/site-packages/torchvision/transforms/transforms.py:329: UserWarning: Argument 'interpolation' of type int is deprecated since 0.13 and will be removed in 0.15. Please use InterpolationMode enum.\n",
      "  warnings.warn(\n",
      "/opt/conda/lib/python3.10/site-packages/torchvision/transforms/transforms.py:329: UserWarning: Argument 'interpolation' of type int is deprecated since 0.13 and will be removed in 0.15. Please use InterpolationMode enum.\n",
      "  warnings.warn(\n",
      "/opt/conda/lib/python3.10/site-packages/torchvision/transforms/transforms.py:329: UserWarning: Argument 'interpolation' of type int is deprecated since 0.13 and will be removed in 0.15. Please use InterpolationMode enum.\n",
      "  warnings.warn(\n",
      "/opt/conda/lib/python3.10/site-packages/torchvision/transforms/transforms.py:329: UserWarning: Argument 'interpolation' of type int is deprecated since 0.13 and will be removed in 0.15. Please use InterpolationMode enum.\n",
      "  warnings.warn(\n",
      "/opt/conda/lib/python3.10/site-packages/torchvision/transforms/transforms.py:329: UserWarning: Argument 'interpolation' of type int is deprecated since 0.13 and will be removed in 0.15. Please use InterpolationMode enum.\n",
      "  warnings.warn(\n",
      "/opt/conda/lib/python3.10/site-packages/torchvision/transforms/transforms.py:329: UserWarning: Argument 'interpolation' of type int is deprecated since 0.13 and will be removed in 0.15. Please use InterpolationMode enum.\n",
      "  warnings.warn(\n",
      "/opt/conda/lib/python3.10/site-packages/torchvision/transforms/transforms.py:329: UserWarning: Argument 'interpolation' of type int is deprecated since 0.13 and will be removed in 0.15. Please use InterpolationMode enum.\n",
      "  warnings.warn(\n",
      "/opt/conda/lib/python3.10/site-packages/torchvision/transforms/transforms.py:329: UserWarning: Argument 'interpolation' of type int is deprecated since 0.13 and will be removed in 0.15. Please use InterpolationMode enum.\n",
      "  warnings.warn(\n",
      "/opt/conda/lib/python3.10/site-packages/torchvision/transforms/transforms.py:329: UserWarning: Argument 'interpolation' of type int is deprecated since 0.13 and will be removed in 0.15. Please use InterpolationMode enum.\n",
      "  warnings.warn(\n",
      "/opt/conda/lib/python3.10/site-packages/torchvision/transforms/transforms.py:329: UserWarning: Argument 'interpolation' of type int is deprecated since 0.13 and will be removed in 0.15. Please use InterpolationMode enum.\n",
      "  warnings.warn(\n",
      "/opt/conda/lib/python3.10/site-packages/torchvision/transforms/transforms.py:329: UserWarning: Argument 'interpolation' of type int is deprecated since 0.13 and will be removed in 0.15. Please use InterpolationMode enum.\n",
      "  warnings.warn(\n",
      "/opt/conda/lib/python3.10/site-packages/torchvision/transforms/transforms.py:329: UserWarning: Argument 'interpolation' of type int is deprecated since 0.13 and will be removed in 0.15. Please use InterpolationMode enum.\n",
      "  warnings.warn(\n",
      "/opt/conda/lib/python3.10/site-packages/torchvision/transforms/transforms.py:329: UserWarning: Argument 'interpolation' of type int is deprecated since 0.13 and will be removed in 0.15. Please use InterpolationMode enum.\n",
      "  warnings.warn(\n",
      "/opt/conda/lib/python3.10/site-packages/torchvision/transforms/transforms.py:329: UserWarning: Argument 'interpolation' of type int is deprecated since 0.13 and will be removed in 0.15. Please use InterpolationMode enum.\n",
      "  warnings.warn(\n",
      "  4%|▍         | 201/5352 [00:32<10:52,  7.90it/s]"
     ]
    },
    {
     "name": "stdout",
     "output_type": "stream",
     "text": [
      "{'FullBody': {'All': 87.10617065429688, 'Walking': 89.7372055053711, 'LowerStretching': 87.59921264648438, 'UpperStretching': 90.96866607666016, 'Patting': 73.54285430908203, 'Reacting': 69.2790756225586, 'Gesticuling': 55.917537689208984, 'Talking': 50.19907760620117, 'Gaming': 65.7575454711914, 'Greeting': 54.250892639160156}, 'UpperBody': {'All': 64.03382110595703, 'Walking': 57.89606475830078, 'LowerStretching': 53.34058380126953, 'UpperStretching': 71.14806365966797, 'Patting': 51.330345153808594, 'Reacting': 58.003177642822266, 'Gesticuling': 45.21335983276367, 'Talking': 39.9864616394043, 'Gaming': 52.90298080444336, 'Greeting': 44.73638153076172}, 'LowerBody': {'All': 110.17853546142578, 'Walking': 121.57835388183594, 'LowerStretching': 121.85784149169922, 'UpperStretching': 110.7892837524414, 'Patting': 95.75536346435547, 'Reacting': 80.55498504638672, 'Gesticuling': 66.6217269897461, 'Talking': 60.411685943603516, 'Gaming': 78.61212921142578, 'Greeting': 63.76541519165039}}\n"
     ]
    },
    {
     "name": "stderr",
     "output_type": "stream",
     "text": [
      "  7%|▋         | 401/5352 [00:59<10:48,  7.64it/s]"
     ]
    },
    {
     "name": "stdout",
     "output_type": "stream",
     "text": [
      "{'FullBody': {'All': 87.53250122070312, 'Walking': 87.48135375976562, 'LowerStretching': 89.33628845214844, 'UpperStretching': 91.79120635986328, 'Patting': 71.45787811279297, 'Reacting': 66.32127380371094, 'Gesticuling': 59.089359283447266, 'Talking': 50.84957504272461, 'Gaming': 65.9712905883789, 'Greeting': 56.63179016113281}, 'UpperBody': {'All': 64.4897689819336, 'Walking': 56.86500930786133, 'LowerStretching': 54.179229736328125, 'UpperStretching': 71.70201110839844, 'Patting': 50.563194274902344, 'Reacting': 55.13767623901367, 'Gesticuling': 50.671600341796875, 'Talking': 39.95866012573242, 'Gaming': 53.01603317260742, 'Greeting': 46.42095947265625}, 'LowerBody': {'All': 110.57525634765625, 'Walking': 118.09770965576172, 'LowerStretching': 124.49334716796875, 'UpperStretching': 111.88041687011719, 'Patting': 92.35257720947266, 'Reacting': 77.50486755371094, 'Gesticuling': 67.50711822509766, 'Talking': 61.740501403808594, 'Gaming': 78.92655181884766, 'Greeting': 66.84263610839844}}\n"
     ]
    },
    {
     "name": "stderr",
     "output_type": "stream",
     "text": [
      " 11%|█         | 601/5352 [01:26<10:17,  7.70it/s]"
     ]
    },
    {
     "name": "stdout",
     "output_type": "stream",
     "text": [
      "{'FullBody': {'All': 87.30815887451172, 'Walking': 87.91707611083984, 'LowerStretching': 88.30657196044922, 'UpperStretching': 91.44632720947266, 'Patting': 77.9958724975586, 'Reacting': 66.34056854248047, 'Gesticuling': 57.35871505737305, 'Talking': 52.25251007080078, 'Gaming': 66.40626525878906, 'Greeting': 55.79375457763672}, 'UpperBody': {'All': 64.35296630859375, 'Walking': 57.00587463378906, 'LowerStretching': 53.69830322265625, 'UpperStretching': 71.52739715576172, 'Patting': 56.45555877685547, 'Reacting': 55.484031677246094, 'Gesticuling': 49.11460876464844, 'Talking': 41.075443267822266, 'Gaming': 52.347320556640625, 'Greeting': 45.632545471191406}, 'LowerBody': {'All': 110.26335906982422, 'Walking': 118.82827758789062, 'LowerStretching': 122.91485595703125, 'UpperStretching': 111.36524200439453, 'Patting': 99.53617858886719, 'Reacting': 77.19710540771484, 'Gesticuling': 65.60282897949219, 'Talking': 63.4295768737793, 'Gaming': 80.4651870727539, 'Greeting': 65.95496368408203}}\n"
     ]
    },
    {
     "name": "stderr",
     "output_type": "stream",
     "text": [
      " 15%|█▍        | 801/5352 [01:52<09:56,  7.62it/s]"
     ]
    },
    {
     "name": "stdout",
     "output_type": "stream",
     "text": [
      "{'FullBody': {'All': 87.54728698730469, 'Walking': 87.56751251220703, 'LowerStretching': 89.47583770751953, 'UpperStretching': 91.64630126953125, 'Patting': 75.96450805664062, 'Reacting': 67.00949096679688, 'Gesticuling': 57.04854965209961, 'Talking': 51.781009674072266, 'Gaming': 65.94921112060547, 'Greeting': 56.775150299072266}, 'UpperBody': {'All': 64.50485229492188, 'Walking': 57.128658294677734, 'LowerStretching': 54.38662338256836, 'UpperStretching': 71.61576080322266, 'Patting': 54.82698440551758, 'Reacting': 55.73942184448242, 'Gesticuling': 48.80714416503906, 'Talking': 41.2710075378418, 'Gaming': 51.962589263916016, 'Greeting': 46.36166000366211}, 'LowerBody': {'All': 110.5897445678711, 'Walking': 118.0063705444336, 'LowerStretching': 124.56507110595703, 'UpperStretching': 111.67684173583984, 'Patting': 97.10202026367188, 'Reacting': 78.2795639038086, 'Gesticuling': 65.28995513916016, 'Talking': 62.291015625, 'Gaming': 79.93583679199219, 'Greeting': 67.18862915039062}}\n"
     ]
    },
    {
     "name": "stderr",
     "output_type": "stream",
     "text": [
      " 19%|█▊        | 1001/5352 [02:19<09:24,  7.70it/s]"
     ]
    },
    {
     "name": "stdout",
     "output_type": "stream",
     "text": [
      "{'FullBody': {'All': 87.42694091796875, 'Walking': 86.99446868896484, 'LowerStretching': 89.41613006591797, 'UpperStretching': 91.72846984863281, 'Patting': 72.9675521850586, 'Reacting': 67.36004638671875, 'Gesticuling': 57.5247688293457, 'Talking': 52.970359802246094, 'Gaming': 66.6784896850586, 'Greeting': 56.61824417114258}, 'UpperBody': {'All': 64.47964477539062, 'Walking': 57.038265228271484, 'LowerStretching': 53.99126434326172, 'UpperStretching': 71.73140716552734, 'Patting': 52.768226623535156, 'Reacting': 56.61225891113281, 'Gesticuling': 49.269325256347656, 'Talking': 41.68221664428711, 'Gaming': 52.28941345214844, 'Greeting': 45.48673629760742}, 'LowerBody': {'All': 110.37423706054688, 'Walking': 116.95067596435547, 'LowerStretching': 124.84099578857422, 'UpperStretching': 111.72551727294922, 'Patting': 93.16688537597656, 'Reacting': 78.10781860351562, 'Gesticuling': 65.78021240234375, 'Talking': 64.25850677490234, 'Gaming': 81.06755828857422, 'Greeting': 67.749755859375}}\n"
     ]
    },
    {
     "name": "stderr",
     "output_type": "stream",
     "text": [
      " 22%|██▏       | 1201/5352 [02:46<09:51,  7.02it/s]"
     ]
    },
    {
     "name": "stdout",
     "output_type": "stream",
     "text": [
      "{'FullBody': {'All': 87.685546875, 'Walking': 87.55459594726562, 'LowerStretching': 89.53594207763672, 'UpperStretching': 92.09015655517578, 'Patting': 73.5032958984375, 'Reacting': 66.73055267333984, 'Gesticuling': 57.74319076538086, 'Talking': 53.13067626953125, 'Gaming': 65.65056610107422, 'Greeting': 56.13340759277344}, 'UpperBody': {'All': 64.6888427734375, 'Walking': 57.34340286254883, 'LowerStretching': 53.977542877197266, 'UpperStretching': 72.05992126464844, 'Patting': 52.708927154541016, 'Reacting': 56.17239761352539, 'Gesticuling': 49.92490005493164, 'Talking': 42.21061706542969, 'Gaming': 51.470794677734375, 'Greeting': 44.9469108581543}, 'LowerBody': {'All': 110.6822509765625, 'Walking': 117.76578521728516, 'LowerStretching': 125.0943603515625, 'UpperStretching': 112.12037658691406, 'Patting': 94.29766082763672, 'Reacting': 77.28870391845703, 'Gesticuling': 65.56147766113281, 'Talking': 64.05074310302734, 'Gaming': 79.83032989501953, 'Greeting': 67.31990814208984}}\n"
     ]
    },
    {
     "name": "stderr",
     "output_type": "stream",
     "text": [
      " 26%|██▌       | 1401/5352 [03:13<08:41,  7.57it/s]"
     ]
    },
    {
     "name": "stdout",
     "output_type": "stream",
     "text": [
      "{'FullBody': {'All': 87.72977447509766, 'Walking': 87.79312896728516, 'LowerStretching': 89.46099853515625, 'UpperStretching': 92.11976623535156, 'Patting': 72.48503112792969, 'Reacting': 66.84184265136719, 'Gesticuling': 57.833988189697266, 'Talking': 53.420501708984375, 'Gaming': 65.2491455078125, 'Greeting': 55.44407272338867}, 'UpperBody': {'All': 64.74217987060547, 'Walking': 57.50074768066406, 'LowerStretching': 53.85122299194336, 'UpperStretching': 72.12002563476562, 'Patting': 51.980472564697266, 'Reacting': 56.282257080078125, 'Gesticuling': 50.18117904663086, 'Talking': 42.70304870605469, 'Gaming': 51.22296905517578, 'Greeting': 44.420188903808594}, 'LowerBody': {'All': 110.71739196777344, 'Walking': 118.08552551269531, 'LowerStretching': 125.07076263427734, 'UpperStretching': 112.11949920654297, 'Patting': 92.98957824707031, 'Reacting': 77.40142059326172, 'Gesticuling': 65.48680114746094, 'Talking': 64.13795471191406, 'Gaming': 79.27532958984375, 'Greeting': 66.46795654296875}}\n"
     ]
    },
    {
     "name": "stderr",
     "output_type": "stream",
     "text": [
      " 30%|██▉       | 1601/5352 [03:39<09:39,  6.48it/s]"
     ]
    },
    {
     "name": "stdout",
     "output_type": "stream",
     "text": [
      "{'FullBody': {'All': 88.02328491210938, 'Walking': 88.01895141601562, 'LowerStretching': 89.96530151367188, 'UpperStretching': 92.4034194946289, 'Patting': 70.90218353271484, 'Reacting': 67.30532836914062, 'Gesticuling': 57.6663818359375, 'Talking': 53.36030578613281, 'Gaming': 65.3416748046875, 'Greeting': 55.492069244384766}, 'UpperBody': {'All': 64.89888000488281, 'Walking': 57.59100341796875, 'LowerStretching': 53.99350357055664, 'UpperStretching': 72.31270599365234, 'Patting': 50.957820892333984, 'Reacting': 56.585941314697266, 'Gesticuling': 50.106109619140625, 'Talking': 42.866634368896484, 'Gaming': 51.3480110168457, 'Greeting': 44.92226791381836}, 'LowerBody': {'All': 111.1476821899414, 'Walking': 118.44689178466797, 'LowerStretching': 125.9371109008789, 'UpperStretching': 112.49412536621094, 'Patting': 90.8465576171875, 'Reacting': 78.02470397949219, 'Gesticuling': 65.22665405273438, 'Talking': 63.85398483276367, 'Gaming': 79.33534240722656, 'Greeting': 66.0618667602539}}\n"
     ]
    },
    {
     "name": "stderr",
     "output_type": "stream",
     "text": [
      " 34%|███▎      | 1801/5352 [04:06<07:44,  7.65it/s]"
     ]
    },
    {
     "name": "stdout",
     "output_type": "stream",
     "text": [
      "{'FullBody': {'All': 87.96568298339844, 'Walking': 88.10529327392578, 'LowerStretching': 90.04373168945312, 'UpperStretching': 92.3311767578125, 'Patting': 70.75137329101562, 'Reacting': 67.21514129638672, 'Gesticuling': 57.635318756103516, 'Talking': 53.463924407958984, 'Gaming': 65.02181243896484, 'Greeting': 55.65414047241211}, 'UpperBody': {'All': 64.86830139160156, 'Walking': 57.70838928222656, 'LowerStretching': 54.032432556152344, 'UpperStretching': 72.29144287109375, 'Patting': 50.69214630126953, 'Reacting': 56.492759704589844, 'Gesticuling': 50.22918701171875, 'Talking': 42.94496154785156, 'Gaming': 50.9432373046875, 'Greeting': 44.91391372680664}, 'LowerBody': {'All': 111.06307220458984, 'Walking': 118.50218200683594, 'LowerStretching': 126.0550308227539, 'UpperStretching': 112.37089538574219, 'Patting': 90.81059265136719, 'Reacting': 77.93751525878906, 'Gesticuling': 65.04143524169922, 'Talking': 63.982887268066406, 'Gaming': 79.10039520263672, 'Greeting': 66.39435577392578}}\n"
     ]
    },
    {
     "name": "stderr",
     "output_type": "stream",
     "text": [
      " 37%|███▋      | 2001/5352 [04:33<09:14,  6.04it/s]"
     ]
    },
    {
     "name": "stdout",
     "output_type": "stream",
     "text": [
      "{'FullBody': {'All': 88.05934143066406, 'Walking': 88.22720336914062, 'LowerStretching': 89.8874740600586, 'UpperStretching': 92.46640014648438, 'Patting': 71.76992797851562, 'Reacting': 67.59323120117188, 'Gesticuling': 57.49867248535156, 'Talking': 53.24246597290039, 'Gaming': 65.01911926269531, 'Greeting': 55.34451675415039}, 'UpperBody': {'All': 64.96208190917969, 'Walking': 57.71035385131836, 'LowerStretching': 54.025115966796875, 'UpperStretching': 72.44985961914062, 'Patting': 50.919673919677734, 'Reacting': 56.67563247680664, 'Gesticuling': 50.312747955322266, 'Talking': 42.79311752319336, 'Gaming': 51.11601257324219, 'Greeting': 44.8060188293457}, 'LowerBody': {'All': 111.15660858154297, 'Walking': 118.74404907226562, 'LowerStretching': 125.74983215332031, 'UpperStretching': 112.48294067382812, 'Patting': 92.62017822265625, 'Reacting': 78.51083374023438, 'Gesticuling': 64.68460845947266, 'Talking': 63.69182205200195, 'Gaming': 78.92221069335938, 'Greeting': 65.88301849365234}}\n"
     ]
    },
    {
     "name": "stderr",
     "output_type": "stream",
     "text": [
      " 41%|████      | 2201/5352 [05:00<07:05,  7.40it/s]"
     ]
    },
    {
     "name": "stdout",
     "output_type": "stream",
     "text": [
      "{'FullBody': {'All': 88.19585418701172, 'Walking': 88.63050842285156, 'LowerStretching': 89.8739242553711, 'UpperStretching': 92.59424591064453, 'Patting': 72.13975524902344, 'Reacting': 67.52233123779297, 'Gesticuling': 57.54594039916992, 'Talking': 52.914127349853516, 'Gaming': 64.99637603759766, 'Greeting': 55.11821746826172}, 'UpperBody': {'All': 65.07840728759766, 'Walking': 57.93668746948242, 'LowerStretching': 54.014339447021484, 'UpperStretching': 72.56642150878906, 'Patting': 51.67655944824219, 'Reacting': 56.847599029541016, 'Gesticuling': 50.42902374267578, 'Talking': 42.57834243774414, 'Gaming': 50.96311569213867, 'Greeting': 44.706172943115234}, 'LowerBody': {'All': 111.31330108642578, 'Walking': 119.3243408203125, 'LowerStretching': 125.7334976196289, 'UpperStretching': 112.6220703125, 'Patting': 92.60294342041016, 'Reacting': 78.19706726074219, 'Gesticuling': 64.66285705566406, 'Talking': 63.24991226196289, 'Gaming': 79.02963256835938, 'Greeting': 65.53026580810547}}\n"
     ]
    },
    {
     "name": "stderr",
     "output_type": "stream",
     "text": [
      " 45%|████▍     | 2401/5352 [05:27<06:39,  7.40it/s]"
     ]
    },
    {
     "name": "stdout",
     "output_type": "stream",
     "text": [
      "{'FullBody': {'All': 88.27139282226562, 'Walking': 88.6773452758789, 'LowerStretching': 90.12610626220703, 'UpperStretching': 92.62792205810547, 'Patting': 72.33543395996094, 'Reacting': 67.5805892944336, 'Gesticuling': 57.38151931762695, 'Talking': 52.79487991333008, 'Gaming': 65.35586547851562, 'Greeting': 55.050071716308594}, 'UpperBody': {'All': 65.0635757446289, 'Walking': 57.91904830932617, 'LowerStretching': 54.12082290649414, 'UpperStretching': 72.53955078125, 'Patting': 51.8532829284668, 'Reacting': 56.96605682373047, 'Gesticuling': 50.30693817138672, 'Talking': 42.32850646972656, 'Gaming': 51.143524169921875, 'Greeting': 44.79102325439453}, 'LowerBody': {'All': 111.47920227050781, 'Walking': 119.4356460571289, 'LowerStretching': 126.13140869140625, 'UpperStretching': 112.71627044677734, 'Patting': 92.81758880615234, 'Reacting': 78.19512176513672, 'Gesticuling': 64.45610046386719, 'Talking': 63.261253356933594, 'Gaming': 79.56820678710938, 'Greeting': 65.30912017822266}}\n"
     ]
    },
    {
     "name": "stderr",
     "output_type": "stream",
     "text": [
      " 49%|████▊     | 2601/5352 [05:53<06:05,  7.52it/s]"
     ]
    },
    {
     "name": "stdout",
     "output_type": "stream",
     "text": [
      "{'FullBody': {'All': 88.32373046875, 'Walking': 88.84290313720703, 'LowerStretching': 90.34535217285156, 'UpperStretching': 92.5770492553711, 'Patting': 72.5577621459961, 'Reacting': 67.35965728759766, 'Gesticuling': 57.44888687133789, 'Talking': 52.620365142822266, 'Gaming': 65.17432403564453, 'Greeting': 55.10660934448242}, 'UpperBody': {'All': 65.09059143066406, 'Walking': 57.959598541259766, 'LowerStretching': 54.2114372253418, 'UpperStretching': 72.51432037353516, 'Patting': 52.160369873046875, 'Reacting': 56.790592193603516, 'Gesticuling': 50.20975875854492, 'Talking': 42.292938232421875, 'Gaming': 50.90696334838867, 'Greeting': 45.0232048034668}, 'LowerBody': {'All': 111.55687713623047, 'Walking': 119.72621154785156, 'LowerStretching': 126.47927856445312, 'UpperStretching': 112.6397933959961, 'Patting': 92.95513916015625, 'Reacting': 77.92871856689453, 'Gesticuling': 64.6880111694336, 'Talking': 62.947784423828125, 'Gaming': 79.44168853759766, 'Greeting': 65.19001007080078}}\n"
     ]
    },
    {
     "name": "stderr",
     "output_type": "stream",
     "text": [
      " 52%|█████▏    | 2801/5352 [06:20<06:10,  6.89it/s]"
     ]
    },
    {
     "name": "stdout",
     "output_type": "stream",
     "text": [
      "{'FullBody': {'All': 88.25286865234375, 'Walking': 88.73670959472656, 'LowerStretching': 90.39773559570312, 'UpperStretching': 92.49893951416016, 'Patting': 71.5515365600586, 'Reacting': 67.32025909423828, 'Gesticuling': 57.23336410522461, 'Talking': 52.69691467285156, 'Gaming': 65.18506622314453, 'Greeting': 55.419593811035156}, 'UpperBody': {'All': 65.02556610107422, 'Walking': 57.923397064208984, 'LowerStretching': 54.29339599609375, 'UpperStretching': 72.42283630371094, 'Patting': 51.2490234375, 'Reacting': 56.85368347167969, 'Gesticuling': 50.014381408691406, 'Talking': 42.32829666137695, 'Gaming': 50.76913833618164, 'Greeting': 45.4038200378418}, 'LowerBody': {'All': 111.48017120361328, 'Walking': 119.55000305175781, 'LowerStretching': 126.50206756591797, 'UpperStretching': 112.5750503540039, 'Patting': 91.85405731201172, 'Reacting': 77.78683471679688, 'Gesticuling': 64.45234680175781, 'Talking': 63.0655403137207, 'Gaming': 79.60099792480469, 'Greeting': 65.43535614013672}}\n"
     ]
    },
    {
     "name": "stderr",
     "output_type": "stream",
     "text": [
      " 56%|█████▌    | 3001/5352 [06:47<05:12,  7.51it/s]"
     ]
    },
    {
     "name": "stdout",
     "output_type": "stream",
     "text": [
      "{'FullBody': {'All': 88.22461700439453, 'Walking': 88.85981750488281, 'LowerStretching': 90.17972564697266, 'UpperStretching': 92.49552154541016, 'Patting': 71.38996887207031, 'Reacting': 67.58334350585938, 'Gesticuling': 57.217769622802734, 'Talking': 52.65937805175781, 'Gaming': 65.12771606445312, 'Greeting': 55.669769287109375}, 'UpperBody': {'All': 65.04601287841797, 'Walking': 57.94268035888672, 'LowerStretching': 54.24945068359375, 'UpperStretching': 72.45835876464844, 'Patting': 51.04996109008789, 'Reacting': 57.174991607666016, 'Gesticuling': 50.16168975830078, 'Talking': 42.39191436767578, 'Gaming': 50.6766471862793, 'Greeting': 45.5662727355957}, 'LowerBody': {'All': 111.40320587158203, 'Walking': 119.77693939208984, 'LowerStretching': 126.1100082397461, 'UpperStretching': 112.5326919555664, 'Patting': 91.72998046875, 'Reacting': 77.99169921875, 'Gesticuling': 64.27385711669922, 'Talking': 62.92683410644531, 'Gaming': 79.57878112792969, 'Greeting': 65.77326965332031}}\n"
     ]
    },
    {
     "name": "stderr",
     "output_type": "stream",
     "text": [
      " 60%|█████▉    | 3201/5352 [07:14<05:12,  6.88it/s]"
     ]
    },
    {
     "name": "stdout",
     "output_type": "stream",
     "text": [
      "{'FullBody': {'All': 88.27027130126953, 'Walking': 88.84432220458984, 'LowerStretching': 90.0384521484375, 'UpperStretching': 92.5859375, 'Patting': 71.54498291015625, 'Reacting': 67.6876449584961, 'Gesticuling': 57.084434509277344, 'Talking': 52.795223236083984, 'Gaming': 65.18267822265625, 'Greeting': 55.57930374145508}, 'UpperBody': {'All': 65.05865478515625, 'Walking': 57.92722702026367, 'LowerStretching': 54.158103942871094, 'UpperStretching': 72.46942138671875, 'Patting': 51.3299560546875, 'Reacting': 57.50961685180664, 'Gesticuling': 50.01081085205078, 'Talking': 42.55796432495117, 'Gaming': 50.47970199584961, 'Greeting': 45.47527313232422}, 'LowerBody': {'All': 111.48190307617188, 'Walking': 119.76142883300781, 'LowerStretching': 125.91880798339844, 'UpperStretching': 112.70246124267578, 'Patting': 91.76002502441406, 'Reacting': 77.86568450927734, 'Gesticuling': 64.15805053710938, 'Talking': 63.032474517822266, 'Gaming': 79.88565063476562, 'Greeting': 65.68333435058594}}\n"
     ]
    },
    {
     "name": "stderr",
     "output_type": "stream",
     "text": [
      " 64%|██████▎   | 3401/5352 [07:41<04:25,  7.34it/s]"
     ]
    },
    {
     "name": "stdout",
     "output_type": "stream",
     "text": [
      "{'FullBody': {'All': 88.30049896240234, 'Walking': 88.94730377197266, 'LowerStretching': 90.16322326660156, 'UpperStretching': 92.58734130859375, 'Patting': 71.95931243896484, 'Reacting': 67.6656723022461, 'Gesticuling': 57.06413269042969, 'Talking': 52.69109344482422, 'Gaming': 65.38172912597656, 'Greeting': 55.558162689208984}, 'UpperBody': {'All': 65.07795715332031, 'Walking': 57.93771743774414, 'LowerStretching': 54.2501220703125, 'UpperStretching': 72.4959945678711, 'Patting': 51.33613586425781, 'Reacting': 57.45209884643555, 'Gesticuling': 49.99060821533203, 'Talking': 42.484397888183594, 'Gaming': 50.585269927978516, 'Greeting': 45.660335540771484}, 'LowerBody': {'All': 111.52303314208984, 'Walking': 119.95689392089844, 'LowerStretching': 126.07632446289062, 'UpperStretching': 112.67870330810547, 'Patting': 92.58248901367188, 'Reacting': 77.8792495727539, 'Gesticuling': 64.13765716552734, 'Talking': 62.897789001464844, 'Gaming': 80.17818450927734, 'Greeting': 65.45598602294922}}\n"
     ]
    },
    {
     "name": "stderr",
     "output_type": "stream",
     "text": [
      " 67%|██████▋   | 3601/5352 [08:08<04:04,  7.17it/s]"
     ]
    },
    {
     "name": "stdout",
     "output_type": "stream",
     "text": [
      "{'FullBody': {'All': 88.30853271484375, 'Walking': 89.10623931884766, 'LowerStretching': 90.33919525146484, 'UpperStretching': 92.5285873413086, 'Patting': 71.7688217163086, 'Reacting': 67.68450164794922, 'Gesticuling': 56.9578742980957, 'Talking': 52.661170959472656, 'Gaming': 65.69203186035156, 'Greeting': 55.47543716430664}, 'UpperBody': {'All': 65.09585571289062, 'Walking': 58.01276779174805, 'LowerStretching': 54.375919342041016, 'UpperStretching': 72.48513793945312, 'Patting': 51.21251678466797, 'Reacting': 57.478797912597656, 'Gesticuling': 49.874473571777344, 'Talking': 42.48883819580078, 'Gaming': 50.82536315917969, 'Greeting': 45.65583038330078}, 'LowerBody': {'All': 111.52122497558594, 'Walking': 120.19972229003906, 'LowerStretching': 126.30247497558594, 'UpperStretching': 112.57202911376953, 'Patting': 92.32511901855469, 'Reacting': 77.89019775390625, 'Gesticuling': 64.04127502441406, 'Talking': 62.833499908447266, 'Gaming': 80.55870819091797, 'Greeting': 65.29505157470703}}\n"
     ]
    },
    {
     "name": "stderr",
     "output_type": "stream",
     "text": [
      " 71%|███████   | 3801/5352 [08:34<03:28,  7.45it/s]"
     ]
    },
    {
     "name": "stdout",
     "output_type": "stream",
     "text": [
      "{'FullBody': {'All': 88.21510314941406, 'Walking': 89.2273941040039, 'LowerStretching': 90.2376708984375, 'UpperStretching': 92.39258575439453, 'Patting': 71.53931427001953, 'Reacting': 67.81442260742188, 'Gesticuling': 56.91737365722656, 'Talking': 52.6781005859375, 'Gaming': 65.58003997802734, 'Greeting': 55.3976936340332}, 'UpperBody': {'All': 65.02259826660156, 'Walking': 58.05149459838867, 'LowerStretching': 54.341941833496094, 'UpperStretching': 72.37511444091797, 'Patting': 51.09361267089844, 'Reacting': 57.39849090576172, 'Gesticuling': 49.74284362792969, 'Talking': 42.491912841796875, 'Gaming': 50.8132438659668, 'Greeting': 45.69900894165039}, 'LowerBody': {'All': 111.40762329101562, 'Walking': 120.40328979492188, 'LowerStretching': 126.1333999633789, 'UpperStretching': 112.41006469726562, 'Patting': 91.9850082397461, 'Reacting': 78.23035430908203, 'Gesticuling': 64.0918960571289, 'Talking': 62.864288330078125, 'Gaming': 80.34683227539062, 'Greeting': 65.09637451171875}}\n"
     ]
    },
    {
     "name": "stderr",
     "output_type": "stream",
     "text": [
      " 75%|███████▍  | 4001/5352 [09:01<03:09,  7.14it/s]"
     ]
    },
    {
     "name": "stdout",
     "output_type": "stream",
     "text": [
      "{'FullBody': {'All': 88.31433868408203, 'Walking': 89.24717712402344, 'LowerStretching': 90.17046356201172, 'UpperStretching': 92.564208984375, 'Patting': 71.95768737792969, 'Reacting': 67.75180053710938, 'Gesticuling': 56.94260025024414, 'Talking': 52.84429168701172, 'Gaming': 65.65748596191406, 'Greeting': 55.408870697021484}, 'UpperBody': {'All': 65.07840728759766, 'Walking': 58.050018310546875, 'LowerStretching': 54.3156852722168, 'UpperStretching': 72.46514892578125, 'Patting': 51.40821075439453, 'Reacting': 57.325191497802734, 'Gesticuling': 49.79770278930664, 'Talking': 42.63660430908203, 'Gaming': 50.808650970458984, 'Greeting': 45.78159713745117}, 'LowerBody': {'All': 111.55026245117188, 'Walking': 120.44432830810547, 'LowerStretching': 126.02523040771484, 'UpperStretching': 112.66326904296875, 'Patting': 92.50714874267578, 'Reacting': 78.17840576171875, 'Gesticuling': 64.08749389648438, 'Talking': 63.05197525024414, 'Gaming': 80.50633239746094, 'Greeting': 65.0361328125}}\n"
     ]
    },
    {
     "name": "stderr",
     "output_type": "stream",
     "text": [
      " 78%|███████▊  | 4201/5352 [09:28<02:43,  7.06it/s]"
     ]
    },
    {
     "name": "stdout",
     "output_type": "stream",
     "text": [
      "{'FullBody': {'All': 88.34617614746094, 'Walking': 89.2245101928711, 'LowerStretching': 90.16370391845703, 'UpperStretching': 92.59811401367188, 'Patting': 72.82586669921875, 'Reacting': 67.8700942993164, 'Gesticuling': 56.87171173095703, 'Talking': 52.612796783447266, 'Gaming': 65.4921875, 'Greeting': 55.31044006347656}, 'UpperBody': {'All': 65.09619140625, 'Walking': 58.086307525634766, 'LowerStretching': 54.30808639526367, 'UpperStretching': 72.46524047851562, 'Patting': 52.202392578125, 'Reacting': 57.27737808227539, 'Gesticuling': 49.653160095214844, 'Talking': 42.56864929199219, 'Gaming': 50.75941467285156, 'Greeting': 45.74087905883789}, 'LowerBody': {'All': 111.59617614746094, 'Walking': 120.36272430419922, 'LowerStretching': 126.01931762695312, 'UpperStretching': 112.7309799194336, 'Patting': 93.44934844970703, 'Reacting': 78.46282196044922, 'Gesticuling': 64.09026336669922, 'Talking': 62.65694808959961, 'Gaming': 80.22496795654297, 'Greeting': 64.87998962402344}}\n"
     ]
    },
    {
     "name": "stderr",
     "output_type": "stream",
     "text": [
      " 82%|████████▏ | 4401/5352 [09:55<02:19,  6.83it/s]"
     ]
    },
    {
     "name": "stdout",
     "output_type": "stream",
     "text": [
      "{'FullBody': {'All': 88.4266128540039, 'Walking': 89.36637115478516, 'LowerStretching': 90.35115814208984, 'UpperStretching': 92.66535949707031, 'Patting': 72.79519653320312, 'Reacting': 67.82950592041016, 'Gesticuling': 57.05706024169922, 'Talking': 52.47639846801758, 'Gaming': 65.588134765625, 'Greeting': 55.3017692565918}, 'UpperBody': {'All': 65.13923645019531, 'Walking': 58.145835876464844, 'LowerStretching': 54.37406921386719, 'UpperStretching': 72.50491333007812, 'Patting': 52.17499923706055, 'Reacting': 57.38181686401367, 'Gesticuling': 49.800193786621094, 'Talking': 42.60367965698242, 'Gaming': 50.85601806640625, 'Greeting': 45.787109375}, 'LowerBody': {'All': 111.71400451660156, 'Walking': 120.58690643310547, 'LowerStretching': 126.32825469970703, 'UpperStretching': 112.8258056640625, 'Patting': 93.41539764404297, 'Reacting': 78.27719116210938, 'Gesticuling': 64.31392669677734, 'Talking': 62.349117279052734, 'Gaming': 80.32024383544922, 'Greeting': 64.8164291381836}}\n"
     ]
    },
    {
     "name": "stderr",
     "output_type": "stream",
     "text": [
      " 86%|████████▌ | 4601/5352 [10:22<02:02,  6.13it/s]"
     ]
    },
    {
     "name": "stdout",
     "output_type": "stream",
     "text": [
      "{'FullBody': {'All': 88.49740600585938, 'Walking': 89.52774047851562, 'LowerStretching': 90.52859497070312, 'UpperStretching': 92.6951904296875, 'Patting': 72.23694610595703, 'Reacting': 67.82410430908203, 'Gesticuling': 57.34868621826172, 'Talking': 52.4736328125, 'Gaming': 65.46077728271484, 'Greeting': 55.516639709472656}, 'UpperBody': {'All': 65.19515991210938, 'Walking': 58.238014221191406, 'LowerStretching': 54.44940185546875, 'UpperStretching': 72.54736328125, 'Patting': 51.72949981689453, 'Reacting': 57.372459411621094, 'Gesticuling': 50.0618782043457, 'Talking': 42.537269592285156, 'Gaming': 50.8873291015625, 'Greeting': 46.03404235839844}, 'LowerBody': {'All': 111.7996597290039, 'Walking': 120.81745910644531, 'LowerStretching': 126.60777282714844, 'UpperStretching': 112.84300994873047, 'Patting': 92.74439239501953, 'Reacting': 78.27574920654297, 'Gesticuling': 64.635498046875, 'Talking': 62.40999984741211, 'Gaming': 80.03423309326172, 'Greeting': 64.99925231933594}}\n"
     ]
    },
    {
     "name": "stderr",
     "output_type": "stream",
     "text": [
      " 90%|████████▉ | 4801/5352 [10:49<01:18,  7.04it/s]"
     ]
    },
    {
     "name": "stdout",
     "output_type": "stream",
     "text": [
      "{'FullBody': {'All': 88.5306396484375, 'Walking': 89.78857421875, 'LowerStretching': 90.4505615234375, 'UpperStretching': 92.72224426269531, 'Patting': 72.02709197998047, 'Reacting': 67.81095123291016, 'Gesticuling': 57.1009635925293, 'Talking': 52.36537551879883, 'Gaming': 65.62979888916016, 'Greeting': 55.6098518371582}, 'UpperBody': {'All': 65.21001434326172, 'Walking': 58.399169921875, 'LowerStretching': 54.401893615722656, 'UpperStretching': 72.56075286865234, 'Patting': 51.58000946044922, 'Reacting': 57.437217712402344, 'Gesticuling': 49.83457565307617, 'Talking': 42.41780090332031, 'Gaming': 51.08170700073242, 'Greeting': 46.109222412109375}, 'LowerBody': {'All': 111.85128784179688, 'Walking': 121.17797088623047, 'LowerStretching': 126.49921417236328, 'UpperStretching': 112.88375091552734, 'Patting': 92.47416687011719, 'Reacting': 78.18467712402344, 'Gesticuling': 64.36734771728516, 'Talking': 62.31294250488281, 'Gaming': 80.17788696289062, 'Greeting': 65.11048126220703}}\n"
     ]
    },
    {
     "name": "stderr",
     "output_type": "stream",
     "text": [
      " 93%|█████████▎| 5001/5352 [11:16<00:51,  6.81it/s]"
     ]
    },
    {
     "name": "stdout",
     "output_type": "stream",
     "text": [
      "{'FullBody': {'All': 88.53132629394531, 'Walking': 89.73469543457031, 'LowerStretching': 90.45370483398438, 'UpperStretching': 92.72396850585938, 'Patting': 72.03868865966797, 'Reacting': 67.83792877197266, 'Gesticuling': 57.171749114990234, 'Talking': 52.3499755859375, 'Gaming': 65.6319808959961, 'Greeting': 55.704463958740234}, 'UpperBody': {'All': 65.21464538574219, 'Walking': 58.35610580444336, 'LowerStretching': 54.37928771972656, 'UpperStretching': 72.58419036865234, 'Patting': 51.55924987792969, 'Reacting': 57.366477966308594, 'Gesticuling': 49.85189437866211, 'Talking': 42.49148941040039, 'Gaming': 51.232887268066406, 'Greeting': 46.18601989746094}, 'LowerBody': {'All': 111.84801483154297, 'Walking': 121.11328887939453, 'LowerStretching': 126.52812957763672, 'UpperStretching': 112.86373901367188, 'Patting': 92.51812744140625, 'Reacting': 78.30937957763672, 'Gesticuling': 64.49160766601562, 'Talking': 62.20845031738281, 'Gaming': 80.03107452392578, 'Greeting': 65.22290802001953}}\n"
     ]
    },
    {
     "name": "stderr",
     "output_type": "stream",
     "text": [
      " 97%|█████████▋| 5201/5352 [11:42<00:22,  6.72it/s]"
     ]
    },
    {
     "name": "stdout",
     "output_type": "stream",
     "text": [
      "{'FullBody': {'All': 88.5035629272461, 'Walking': 89.65715026855469, 'LowerStretching': 90.38182067871094, 'UpperStretching': 92.70948028564453, 'Patting': 72.0733642578125, 'Reacting': 67.95292663574219, 'Gesticuling': 57.22399139404297, 'Talking': 52.23456573486328, 'Gaming': 65.73918914794922, 'Greeting': 55.65135192871094}, 'UpperBody': {'All': 65.19593811035156, 'Walking': 58.266151428222656, 'LowerStretching': 54.362815856933594, 'UpperStretching': 72.56837463378906, 'Patting': 51.650291442871094, 'Reacting': 57.43404769897461, 'Gesticuling': 49.84687042236328, 'Talking': 42.36222839355469, 'Gaming': 51.382266998291016, 'Greeting': 46.05828094482422}, 'LowerBody': {'All': 111.81120300292969, 'Walking': 121.04814910888672, 'LowerStretching': 126.40082550048828, 'UpperStretching': 112.85060119628906, 'Patting': 92.49644470214844, 'Reacting': 78.47180938720703, 'Gesticuling': 64.60111236572266, 'Talking': 62.10690689086914, 'Gaming': 80.09609985351562, 'Greeting': 65.2444076538086}}\n"
     ]
    },
    {
     "name": "stderr",
     "output_type": "stream",
     "text": [
      "100%|██████████| 5352/5352 [12:02<00:00,  7.40it/s]\n",
      "\u001b[94m06:59:37 \u001b[92m[INFO]\u001b[94m Main\u001b[0m: Saving evaluation results...\n",
      "\u001b[94m06:59:37 \u001b[92m[INFO]\u001b[94m Main\u001b[0m: Done.\n",
      "\u001b[94m06:59:37 \u001b[92m[INFO]\u001b[94m Main\u001b[0m: Starting demo...\n",
      "  0%|          | 0/5352 [00:00<?, ?it/s]/opt/conda/lib/python3.10/site-packages/torchvision/transforms/transforms.py:329: UserWarning: Argument 'interpolation' of type int is deprecated since 0.13 and will be removed in 0.15. Please use InterpolationMode enum.\n",
      "  warnings.warn(\n",
      "/opt/conda/lib/python3.10/site-packages/torchvision/transforms/transforms.py:329: UserWarning: Argument 'interpolation' of type int is deprecated since 0.13 and will be removed in 0.15. Please use InterpolationMode enum.\n",
      "  warnings.warn(\n",
      "/opt/conda/lib/python3.10/site-packages/torchvision/transforms/transforms.py:329: UserWarning: Argument 'interpolation' of type int is deprecated since 0.13 and will be removed in 0.15. Please use InterpolationMode enum.\n",
      "  warnings.warn(\n",
      "/opt/conda/lib/python3.10/site-packages/torchvision/transforms/transforms.py:329: UserWarning: Argument 'interpolation' of type int is deprecated since 0.13 and will be removed in 0.15. Please use InterpolationMode enum.\n",
      "  warnings.warn(\n",
      "/opt/conda/lib/python3.10/site-packages/torchvision/transforms/transforms.py:329: UserWarning: Argument 'interpolation' of type int is deprecated since 0.13 and will be removed in 0.15. Please use InterpolationMode enum.\n",
      "  warnings.warn(\n",
      "/opt/conda/lib/python3.10/site-packages/torchvision/transforms/transforms.py:329: UserWarning: Argument 'interpolation' of type int is deprecated since 0.13 and will be removed in 0.15. Please use InterpolationMode enum.\n",
      "  warnings.warn(\n",
      "/opt/conda/lib/python3.10/site-packages/torchvision/transforms/transforms.py:329: UserWarning: Argument 'interpolation' of type int is deprecated since 0.13 and will be removed in 0.15. Please use InterpolationMode enum.\n",
      "  warnings.warn(\n",
      "/opt/conda/lib/python3.10/site-packages/torchvision/transforms/transforms.py:329: UserWarning: Argument 'interpolation' of type int is deprecated since 0.13 and will be removed in 0.15. Please use InterpolationMode enum.\n",
      "  warnings.warn(\n",
      "/opt/conda/lib/python3.10/site-packages/torchvision/transforms/transforms.py:329: UserWarning: Argument 'interpolation' of type int is deprecated since 0.13 and will be removed in 0.15. Please use InterpolationMode enum.\n",
      "  warnings.warn(\n",
      "/opt/conda/lib/python3.10/site-packages/torchvision/transforms/transforms.py:329: UserWarning: Argument 'interpolation' of type int is deprecated since 0.13 and will be removed in 0.15. Please use InterpolationMode enum.\n",
      "  warnings.warn(\n",
      "/opt/conda/lib/python3.10/site-packages/torchvision/transforms/transforms.py:329: UserWarning: Argument 'interpolation' of type int is deprecated since 0.13 and will be removed in 0.15. Please use InterpolationMode enum.\n",
      "  warnings.warn(\n",
      "/opt/conda/lib/python3.10/site-packages/torchvision/transforms/transforms.py:329: UserWarning: Argument 'interpolation' of type int is deprecated since 0.13 and will be removed in 0.15. Please use InterpolationMode enum.\n",
      "  warnings.warn(\n",
      "/opt/conda/lib/python3.10/site-packages/torchvision/transforms/transforms.py:329: UserWarning: Argument 'interpolation' of type int is deprecated since 0.13 and will be removed in 0.15. Please use InterpolationMode enum.\n",
      "  warnings.warn(\n",
      "/opt/conda/lib/python3.10/site-packages/torchvision/transforms/transforms.py:329: UserWarning: Argument 'interpolation' of type int is deprecated since 0.13 and will be removed in 0.15. Please use InterpolationMode enum.\n",
      "  warnings.warn(\n",
      "/opt/conda/lib/python3.10/site-packages/torchvision/transforms/transforms.py:329: UserWarning: Argument 'interpolation' of type int is deprecated since 0.13 and will be removed in 0.15. Please use InterpolationMode enum.\n",
      "  warnings.warn(\n",
      "/opt/conda/lib/python3.10/site-packages/torchvision/transforms/transforms.py:329: UserWarning: Argument 'interpolation' of type int is deprecated since 0.13 and will be removed in 0.15. Please use InterpolationMode enum.\n",
      "  warnings.warn(\n",
      "/opt/conda/lib/python3.10/site-packages/torchvision/transforms/transforms.py:329: UserWarning: Argument 'interpolation' of type int is deprecated since 0.13 and will be removed in 0.15. Please use InterpolationMode enum.\n",
      "  warnings.warn(\n",
      "/opt/conda/lib/python3.10/site-packages/torchvision/transforms/transforms.py:329: UserWarning: Argument 'interpolation' of type int is deprecated since 0.13 and will be removed in 0.15. Please use InterpolationMode enum.\n",
      "  warnings.warn(\n",
      "/opt/conda/lib/python3.10/site-packages/torchvision/transforms/transforms.py:329: UserWarning: Argument 'interpolation' of type int is deprecated since 0.13 and will be removed in 0.15. Please use InterpolationMode enum.\n",
      "  warnings.warn(\n",
      "/opt/conda/lib/python3.10/site-packages/torchvision/transforms/transforms.py:329: UserWarning: Argument 'interpolation' of type int is deprecated since 0.13 and will be removed in 0.15. Please use InterpolationMode enum.\n",
      "  warnings.warn(\n",
      "/opt/conda/lib/python3.10/site-packages/torchvision/transforms/transforms.py:329: UserWarning: Argument 'interpolation' of type int is deprecated since 0.13 and will be removed in 0.15. Please use InterpolationMode enum.\n",
      "  warnings.warn(\n",
      "/opt/conda/lib/python3.10/site-packages/torchvision/transforms/transforms.py:329: UserWarning: Argument 'interpolation' of type int is deprecated since 0.13 and will be removed in 0.15. Please use InterpolationMode enum.\n",
      "  warnings.warn(\n",
      "/opt/conda/lib/python3.10/site-packages/torchvision/transforms/transforms.py:329: UserWarning: Argument 'interpolation' of type int is deprecated since 0.13 and will be removed in 0.15. Please use InterpolationMode enum.\n",
      "  warnings.warn(\n",
      "/opt/conda/lib/python3.10/site-packages/torchvision/transforms/transforms.py:329: UserWarning: Argument 'interpolation' of type int is deprecated since 0.13 and will be removed in 0.15. Please use InterpolationMode enum.\n",
      "  warnings.warn(\n",
      "  4%|▍         | 201/5352 [00:32<11:06,  7.73it/s]"
     ]
    },
    {
     "name": "stdout",
     "output_type": "stream",
     "text": [
      "{'FullBody': {'All': 78.78971862792969, 'Walking': 74.35810852050781, 'Gesticuling': 64.49333190917969, 'UpperStretching': 82.01522064208984, 'Gaming': 69.30950164794922, 'Reacting': 70.96621704101562, 'LowerStretching': 77.60354614257812, 'Patting': 82.29828643798828, 'Talking': 54.84811782836914, 'Greeting': 61.256404876708984}, 'UpperBody': {'All': 58.273765563964844, 'Walking': 50.22564697265625, 'Gesticuling': 50.50823211669922, 'UpperStretching': 64.71928405761719, 'Gaming': 46.39576721191406, 'Reacting': 56.62745666503906, 'LowerStretching': 47.114810943603516, 'Patting': 54.67726516723633, 'Talking': 41.236019134521484, 'Greeting': 48.0867805480957}, 'LowerBody': {'All': 99.3056640625, 'Walking': 98.49056243896484, 'Gesticuling': 78.47845458984375, 'UpperStretching': 99.31114196777344, 'Gaming': 92.22323608398438, 'Reacting': 85.30496978759766, 'LowerStretching': 108.09228515625, 'Patting': 109.91931915283203, 'Talking': 68.46019744873047, 'Greeting': 74.42601776123047}}\n"
     ]
    },
    {
     "name": "stderr",
     "output_type": "stream",
     "text": [
      "  7%|▋         | 401/5352 [00:59<11:13,  7.35it/s]"
     ]
    },
    {
     "name": "stdout",
     "output_type": "stream",
     "text": [
      "{'FullBody': {'All': 78.46382141113281, 'Walking': 73.61731719970703, 'Gesticuling': 67.93506622314453, 'UpperStretching': 81.70844268798828, 'Gaming': 70.69746398925781, 'Reacting': 73.52836608886719, 'LowerStretching': 77.35013580322266, 'Patting': 75.57331848144531, 'Talking': 54.85051345825195, 'Greeting': 59.540836334228516}, 'UpperBody': {'All': 58.017547607421875, 'Walking': 49.75590133666992, 'Gesticuling': 53.98170471191406, 'UpperStretching': 64.37622833251953, 'Gaming': 47.311580657958984, 'Reacting': 58.24416732788086, 'LowerStretching': 46.775325775146484, 'Patting': 52.15778350830078, 'Talking': 40.493045806884766, 'Greeting': 46.114288330078125}, 'LowerBody': {'All': 98.91007995605469, 'Walking': 97.4787368774414, 'Gesticuling': 81.888427734375, 'UpperStretching': 99.04065704345703, 'Gaming': 94.08334350585938, 'Reacting': 88.81255340576172, 'LowerStretching': 107.9249496459961, 'Patting': 98.9888687133789, 'Talking': 69.20797729492188, 'Greeting': 72.96739196777344}}\n"
     ]
    },
    {
     "name": "stderr",
     "output_type": "stream",
     "text": [
      " 11%|█         | 601/5352 [01:26<10:23,  7.61it/s]"
     ]
    },
    {
     "name": "stdout",
     "output_type": "stream",
     "text": [
      "{'FullBody': {'All': 78.98646545410156, 'Walking': 73.89259338378906, 'Gesticuling': 68.28809356689453, 'UpperStretching': 82.46410369873047, 'Gaming': 69.68180084228516, 'Reacting': 73.10682678222656, 'LowerStretching': 77.21695709228516, 'Patting': 78.8420639038086, 'Talking': 55.848724365234375, 'Greeting': 60.709320068359375}, 'UpperBody': {'All': 58.345916748046875, 'Walking': 49.988563537597656, 'Gesticuling': 54.529579162597656, 'UpperStretching': 64.7953872680664, 'Gaming': 47.53173828125, 'Reacting': 57.77165603637695, 'LowerStretching': 46.75128936767578, 'Patting': 54.442955017089844, 'Talking': 41.70757293701172, 'Greeting': 48.467594146728516}, 'LowerBody': {'All': 99.62702178955078, 'Walking': 97.79662322998047, 'Gesticuling': 82.0466079711914, 'UpperStretching': 100.13282012939453, 'Gaming': 91.83186340332031, 'Reacting': 88.44200897216797, 'LowerStretching': 107.68262481689453, 'Patting': 103.24117279052734, 'Talking': 69.9898681640625, 'Greeting': 72.95106506347656}}\n"
     ]
    },
    {
     "name": "stderr",
     "output_type": "stream",
     "text": [
      " 15%|█▍        | 801/5352 [01:52<10:58,  6.91it/s]"
     ]
    },
    {
     "name": "stdout",
     "output_type": "stream",
     "text": [
      "{'FullBody': {'All': 79.08441162109375, 'Walking': 73.30909729003906, 'Gesticuling': 68.3855209350586, 'UpperStretching': 82.76006317138672, 'Gaming': 70.07581329345703, 'Reacting': 74.03919219970703, 'LowerStretching': 76.8804931640625, 'Patting': 79.36756134033203, 'Talking': 55.803836822509766, 'Greeting': 60.237457275390625}, 'UpperBody': {'All': 58.369693756103516, 'Walking': 49.591827392578125, 'Gesticuling': 54.52716827392578, 'UpperStretching': 64.88655090332031, 'Gaming': 47.75127029418945, 'Reacting': 57.728973388671875, 'LowerStretching': 46.61410903930664, 'Patting': 55.42036819458008, 'Talking': 41.47822189331055, 'Greeting': 47.994422912597656}, 'LowerBody': {'All': 99.79913330078125, 'Walking': 97.0263671875, 'Gesticuling': 82.24388122558594, 'UpperStretching': 100.6335678100586, 'Gaming': 92.40036010742188, 'Reacting': 90.34941864013672, 'LowerStretching': 107.14688110351562, 'Patting': 103.31475067138672, 'Talking': 70.12945556640625, 'Greeting': 72.4804916381836}}\n"
     ]
    },
    {
     "name": "stderr",
     "output_type": "stream",
     "text": [
      " 19%|█▊        | 1001/5352 [02:19<09:21,  7.75it/s]"
     ]
    },
    {
     "name": "stdout",
     "output_type": "stream",
     "text": [
      "{'FullBody': {'All': 79.09774780273438, 'Walking': 72.49913024902344, 'Gesticuling': 68.1245346069336, 'UpperStretching': 82.90286254882812, 'Gaming': 70.13113403320312, 'Reacting': 73.96524047851562, 'LowerStretching': 76.70279693603516, 'Patting': 80.19058990478516, 'Talking': 56.61180114746094, 'Greeting': 61.41290283203125}, 'UpperBody': {'All': 58.37851333618164, 'Walking': 49.23225402832031, 'Gesticuling': 53.842342376708984, 'UpperStretching': 65.00455474853516, 'Gaming': 47.73002243041992, 'Reacting': 57.07152557373047, 'LowerStretching': 46.48591232299805, 'Patting': 55.82017135620117, 'Talking': 41.62122344970703, 'Greeting': 48.55426788330078}, 'LowerBody': {'All': 99.8169937133789, 'Walking': 95.7660140991211, 'Gesticuling': 82.40673065185547, 'UpperStretching': 100.8011703491211, 'Gaming': 92.53225708007812, 'Reacting': 90.85894775390625, 'LowerStretching': 106.91967010498047, 'Patting': 104.56100463867188, 'Talking': 71.60237884521484, 'Greeting': 74.27154541015625}}\n"
     ]
    },
    {
     "name": "stderr",
     "output_type": "stream",
     "text": [
      " 22%|██▏       | 1201/5352 [02:46<09:47,  7.07it/s]"
     ]
    },
    {
     "name": "stdout",
     "output_type": "stream",
     "text": [
      "{'FullBody': {'All': 79.05867767333984, 'Walking': 72.23271942138672, 'Gesticuling': 68.42882537841797, 'UpperStretching': 82.82289123535156, 'Gaming': 70.52887725830078, 'Reacting': 73.59680938720703, 'LowerStretching': 76.65833282470703, 'Patting': 82.16878509521484, 'Talking': 56.34162139892578, 'Greeting': 61.24138641357422}, 'UpperBody': {'All': 58.297142028808594, 'Walking': 49.139198303222656, 'Gesticuling': 54.253273010253906, 'UpperStretching': 64.84878540039062, 'Gaming': 47.484737396240234, 'Reacting': 57.11432647705078, 'LowerStretching': 46.35914611816406, 'Patting': 57.40580368041992, 'Talking': 41.27199935913086, 'Greeting': 48.01158142089844}, 'LowerBody': {'All': 99.8202133178711, 'Walking': 95.32624053955078, 'Gesticuling': 82.60436248779297, 'UpperStretching': 100.7969970703125, 'Gaming': 93.57300567626953, 'Reacting': 90.07927703857422, 'LowerStretching': 106.95751953125, 'Patting': 106.93177032470703, 'Talking': 71.4112319946289, 'Greeting': 74.47119903564453}}\n"
     ]
    },
    {
     "name": "stderr",
     "output_type": "stream",
     "text": [
      " 26%|██▌       | 1401/5352 [03:13<08:44,  7.54it/s]"
     ]
    },
    {
     "name": "stdout",
     "output_type": "stream",
     "text": [
      "{'FullBody': {'All': 79.05924224853516, 'Walking': 72.37354278564453, 'Gesticuling': 68.1744155883789, 'UpperStretching': 82.88525390625, 'Gaming': 70.65399932861328, 'Reacting': 72.88298034667969, 'LowerStretching': 76.6756362915039, 'Patting': 80.48955535888672, 'Talking': 56.795528411865234, 'Greeting': 61.923377990722656}, 'UpperBody': {'All': 58.35329055786133, 'Walking': 49.21218490600586, 'Gesticuling': 54.55581283569336, 'UpperStretching': 64.95868682861328, 'Gaming': 47.73214340209961, 'Reacting': 56.63587188720703, 'LowerStretching': 46.49292755126953, 'Patting': 55.76136779785156, 'Talking': 41.437320709228516, 'Greeting': 48.25640869140625}, 'LowerBody': {'All': 99.76519012451172, 'Walking': 95.534912109375, 'Gesticuling': 81.79300689697266, 'UpperStretching': 100.81182861328125, 'Gaming': 93.57585144042969, 'Reacting': 89.13008880615234, 'LowerStretching': 106.85834503173828, 'Patting': 105.2177505493164, 'Talking': 72.15374755859375, 'Greeting': 75.59033966064453}}\n"
     ]
    },
    {
     "name": "stderr",
     "output_type": "stream",
     "text": [
      " 30%|██▉       | 1601/5352 [03:39<08:29,  7.36it/s]"
     ]
    },
    {
     "name": "stdout",
     "output_type": "stream",
     "text": [
      "{'FullBody': {'All': 79.0428237915039, 'Walking': 72.62703704833984, 'Gesticuling': 68.01776885986328, 'UpperStretching': 82.9262924194336, 'Gaming': 70.2738037109375, 'Reacting': 72.48726654052734, 'LowerStretching': 76.53114318847656, 'Patting': 80.63015747070312, 'Talking': 56.78178024291992, 'Greeting': 61.527870178222656}, 'UpperBody': {'All': 58.44157409667969, 'Walking': 49.21110916137695, 'Gesticuling': 54.633182525634766, 'UpperStretching': 65.15703582763672, 'Gaming': 47.634132385253906, 'Reacting': 56.522953033447266, 'LowerStretching': 46.394371032714844, 'Patting': 55.18927764892578, 'Talking': 41.59267044067383, 'Greeting': 47.936912536621094}, 'LowerBody': {'All': 99.64408111572266, 'Walking': 96.04296112060547, 'Gesticuling': 81.40235137939453, 'UpperStretching': 100.6955337524414, 'Gaming': 92.91349029541016, 'Reacting': 88.45157623291016, 'LowerStretching': 106.66791534423828, 'Patting': 106.07103729248047, 'Talking': 71.97088623046875, 'Greeting': 75.11880493164062}}\n"
     ]
    },
    {
     "name": "stderr",
     "output_type": "stream",
     "text": [
      " 34%|███▎      | 1801/5352 [04:06<07:47,  7.59it/s]"
     ]
    },
    {
     "name": "stdout",
     "output_type": "stream",
     "text": [
      "{'FullBody': {'All': 78.9254150390625, 'Walking': 72.53530883789062, 'Gesticuling': 68.03099822998047, 'UpperStretching': 82.92420959472656, 'Gaming': 69.88492584228516, 'Reacting': 72.03353881835938, 'LowerStretching': 76.21843719482422, 'Patting': 79.61090087890625, 'Talking': 56.948787689208984, 'Greeting': 61.03055953979492}, 'UpperBody': {'All': 58.39178466796875, 'Walking': 49.12066650390625, 'Gesticuling': 54.57088088989258, 'UpperStretching': 65.14081573486328, 'Gaming': 47.4324951171875, 'Reacting': 56.22306823730469, 'LowerStretching': 46.376853942871094, 'Patting': 54.39439010620117, 'Talking': 41.74790954589844, 'Greeting': 47.90144729614258}, 'LowerBody': {'All': 99.45905303955078, 'Walking': 95.949951171875, 'Gesticuling': 81.4911117553711, 'UpperStretching': 100.70759582519531, 'Gaming': 92.33737182617188, 'Reacting': 87.84400939941406, 'LowerStretching': 106.06002807617188, 'Patting': 104.8274154663086, 'Talking': 72.149658203125, 'Greeting': 74.15966796875}}\n"
     ]
    },
    {
     "name": "stderr",
     "output_type": "stream",
     "text": [
      " 37%|███▋      | 2001/5352 [04:33<07:27,  7.50it/s]"
     ]
    },
    {
     "name": "stdout",
     "output_type": "stream",
     "text": [
      "{'FullBody': {'All': 78.92718505859375, 'Walking': 72.60395050048828, 'Gesticuling': 67.99371337890625, 'UpperStretching': 82.87248229980469, 'Gaming': 69.55284118652344, 'Reacting': 72.26426696777344, 'LowerStretching': 76.30641174316406, 'Patting': 79.65782928466797, 'Talking': 56.93801498413086, 'Greeting': 60.8524169921875}, 'UpperBody': {'All': 58.36760330200195, 'Walking': 49.10055160522461, 'Gesticuling': 54.57160568237305, 'UpperStretching': 65.07615661621094, 'Gaming': 47.17918395996094, 'Reacting': 56.33599853515625, 'LowerStretching': 46.393733978271484, 'Patting': 54.35422134399414, 'Talking': 42.0206413269043, 'Greeting': 47.81269836425781}, 'LowerBody': {'All': 99.48677825927734, 'Walking': 96.10735321044922, 'Gesticuling': 81.41581726074219, 'UpperStretching': 100.66880798339844, 'Gaming': 91.9264907836914, 'Reacting': 88.19251251220703, 'LowerStretching': 106.2190933227539, 'Patting': 104.9614486694336, 'Talking': 71.85539245605469, 'Greeting': 73.89212799072266}}\n"
     ]
    },
    {
     "name": "stderr",
     "output_type": "stream",
     "text": [
      " 41%|████      | 2201/5352 [04:59<06:55,  7.59it/s]"
     ]
    },
    {
     "name": "stdout",
     "output_type": "stream",
     "text": [
      "{'FullBody': {'All': 78.92559051513672, 'Walking': 72.6103515625, 'Gesticuling': 67.73497772216797, 'UpperStretching': 82.85067749023438, 'Gaming': 69.3485107421875, 'Reacting': 72.60084533691406, 'LowerStretching': 76.33331298828125, 'Patting': 79.8833236694336, 'Talking': 56.692386627197266, 'Greeting': 60.97119903564453}, 'UpperBody': {'All': 58.35171890258789, 'Walking': 49.127803802490234, 'Gesticuling': 54.42262268066406, 'UpperStretching': 65.0145492553711, 'Gaming': 47.20481491088867, 'Reacting': 56.598026275634766, 'LowerStretching': 46.44789505004883, 'Patting': 54.32225036621094, 'Talking': 41.92551803588867, 'Greeting': 48.14499282836914}, 'LowerBody': {'All': 99.49945831298828, 'Walking': 96.09288787841797, 'Gesticuling': 81.04733276367188, 'UpperStretching': 100.68682098388672, 'Gaming': 91.4922103881836, 'Reacting': 88.6036605834961, 'LowerStretching': 106.2187271118164, 'Patting': 105.44440460205078, 'Talking': 71.45924377441406, 'Greeting': 73.79739379882812}}\n"
     ]
    },
    {
     "name": "stderr",
     "output_type": "stream",
     "text": [
      " 45%|████▍     | 2401/5352 [05:26<06:47,  7.25it/s]"
     ]
    },
    {
     "name": "stdout",
     "output_type": "stream",
     "text": [
      "{'FullBody': {'All': 78.89615631103516, 'Walking': 72.61870574951172, 'Gesticuling': 67.56388092041016, 'UpperStretching': 82.72986602783203, 'Gaming': 69.406982421875, 'Reacting': 72.95643615722656, 'LowerStretching': 76.3539810180664, 'Patting': 81.04009246826172, 'Talking': 56.6969108581543, 'Greeting': 61.37955093383789}, 'UpperBody': {'All': 58.292869567871094, 'Walking': 49.174625396728516, 'Gesticuling': 54.330177307128906, 'UpperStretching': 64.8563003540039, 'Gaming': 47.46452713012695, 'Reacting': 56.77542495727539, 'LowerStretching': 46.46647262573242, 'Patting': 54.97866439819336, 'Talking': 42.031803131103516, 'Greeting': 48.0994873046875}, 'LowerBody': {'All': 99.49945068359375, 'Walking': 96.06278228759766, 'Gesticuling': 80.79756927490234, 'UpperStretching': 100.60343170166016, 'Gaming': 91.34944152832031, 'Reacting': 89.137451171875, 'LowerStretching': 106.2414779663086, 'Patting': 107.10151672363281, 'Talking': 71.36201477050781, 'Greeting': 74.65961456298828}}\n"
     ]
    },
    {
     "name": "stderr",
     "output_type": "stream",
     "text": [
      " 49%|████▊     | 2600/5352 [05:53<06:16,  7.31it/s]"
     ]
    },
    {
     "name": "stdout",
     "output_type": "stream",
     "text": [
      "{'FullBody': {'All': 78.85951232910156, 'Walking': 72.57511901855469, 'Gesticuling': 67.4497299194336, 'UpperStretching': 82.75283813476562, 'Gaming': 70.19471740722656, 'Reacting': 72.84099578857422, 'LowerStretching': 76.05226135253906, 'Patting': 80.95381164550781, 'Talking': 56.662776947021484, 'Greeting': 61.54903793334961}, 'UpperBody': {'All': 58.270137786865234, 'Walking': 49.19370651245117, 'Gesticuling': 54.253177642822266, 'UpperStretching': 64.85185241699219, 'Gaming': 47.84733200073242, 'Reacting': 56.84298324584961, 'LowerStretching': 46.343082427978516, 'Patting': 54.98239517211914, 'Talking': 42.08439636230469, 'Greeting': 48.30680465698242}, 'LowerBody': {'All': 99.44889068603516, 'Walking': 95.9565200805664, 'Gesticuling': 80.64627075195312, 'UpperStretching': 100.65382385253906, 'Gaming': 92.54210662841797, 'Reacting': 88.8390121459961, 'LowerStretching': 105.76143646240234, 'Patting': 106.92522430419922, 'Talking': 71.24114990234375, 'Greeting': 74.79127502441406}}\n"
     ]
    },
    {
     "name": "stderr",
     "output_type": "stream",
     "text": [
      " 52%|█████▏    | 2801/5352 [06:20<05:49,  7.29it/s]"
     ]
    },
    {
     "name": "stdout",
     "output_type": "stream",
     "text": [
      "{'FullBody': {'All': 78.82367706298828, 'Walking': 72.6146011352539, 'Gesticuling': 67.2591323852539, 'UpperStretching': 82.7486572265625, 'Gaming': 70.0, 'Reacting': 72.88311004638672, 'LowerStretching': 75.97858428955078, 'Patting': 80.27804565429688, 'Talking': 56.72398376464844, 'Greeting': 61.71366882324219}, 'UpperBody': {'All': 58.200016021728516, 'Walking': 49.18999099731445, 'Gesticuling': 54.23001480102539, 'UpperStretching': 64.77363586425781, 'Gaming': 47.65113830566406, 'Reacting': 56.68556594848633, 'LowerStretching': 46.33298873901367, 'Patting': 54.555091857910156, 'Talking': 41.998558044433594, 'Greeting': 48.63438415527344}, 'LowerBody': {'All': 99.44734191894531, 'Walking': 96.03919982910156, 'Gesticuling': 80.28824615478516, 'UpperStretching': 100.72366333007812, 'Gaming': 92.34886169433594, 'Reacting': 89.08064270019531, 'LowerStretching': 105.62419128417969, 'Patting': 106.00098419189453, 'Talking': 71.44939422607422, 'Greeting': 74.79296112060547}}\n"
     ]
    },
    {
     "name": "stderr",
     "output_type": "stream",
     "text": [
      " 56%|█████▌    | 3001/5352 [06:46<05:29,  7.13it/s]"
     ]
    },
    {
     "name": "stdout",
     "output_type": "stream",
     "text": [
      "{'FullBody': {'All': 78.84432983398438, 'Walking': 72.56838989257812, 'Gesticuling': 67.4901123046875, 'UpperStretching': 82.75725555419922, 'Gaming': 70.08304595947266, 'Reacting': 73.33174896240234, 'LowerStretching': 76.00545501708984, 'Patting': 80.1241226196289, 'Talking': 56.5433464050293, 'Greeting': 61.60426330566406}, 'UpperBody': {'All': 58.241886138916016, 'Walking': 49.12144088745117, 'Gesticuling': 54.502418518066406, 'UpperStretching': 64.82295989990234, 'Gaming': 47.74583053588867, 'Reacting': 57.09457778930664, 'LowerStretching': 46.33816909790039, 'Patting': 54.54027557373047, 'Talking': 41.849822998046875, 'Greeting': 48.51249694824219}, 'LowerBody': {'All': 99.44678497314453, 'Walking': 96.01533508300781, 'Gesticuling': 80.4778060913086, 'UpperStretching': 100.69154357910156, 'Gaming': 92.42024993896484, 'Reacting': 89.56891632080078, 'LowerStretching': 105.6727294921875, 'Patting': 105.70797729492188, 'Talking': 71.23686218261719, 'Greeting': 74.69603729248047}}\n"
     ]
    },
    {
     "name": "stderr",
     "output_type": "stream",
     "text": [
      " 60%|█████▉    | 3201/5352 [07:13<04:56,  7.27it/s]"
     ]
    },
    {
     "name": "stdout",
     "output_type": "stream",
     "text": [
      "{'FullBody': {'All': 78.76624298095703, 'Walking': 72.57796478271484, 'Gesticuling': 67.33419036865234, 'UpperStretching': 82.6695327758789, 'Gaming': 70.06591033935547, 'Reacting': 73.27422332763672, 'LowerStretching': 75.82611846923828, 'Patting': 80.21676635742188, 'Talking': 56.62559509277344, 'Greeting': 61.29490280151367}, 'UpperBody': {'All': 58.1806755065918, 'Walking': 49.079429626464844, 'Gesticuling': 54.31166458129883, 'UpperStretching': 64.7540283203125, 'Gaming': 47.679832458496094, 'Reacting': 56.98662185668945, 'LowerStretching': 46.261268615722656, 'Patting': 54.79484939575195, 'Talking': 41.81203842163086, 'Greeting': 48.33588409423828}, 'LowerBody': {'All': 99.35181427001953, 'Walking': 96.07649230957031, 'Gesticuling': 80.3567123413086, 'UpperStretching': 100.58502197265625, 'Gaming': 92.45199584960938, 'Reacting': 89.56182861328125, 'LowerStretching': 105.39094543457031, 'Patting': 105.63870239257812, 'Talking': 71.43914794921875, 'Greeting': 74.25391387939453}}\n"
     ]
    },
    {
     "name": "stderr",
     "output_type": "stream",
     "text": [
      " 64%|██████▎   | 3401/5352 [07:40<04:34,  7.10it/s]"
     ]
    },
    {
     "name": "stdout",
     "output_type": "stream",
     "text": [
      "{'FullBody': {'All': 78.7138442993164, 'Walking': 72.56505584716797, 'Gesticuling': 67.27284240722656, 'UpperStretching': 82.58065795898438, 'Gaming': 70.2756118774414, 'Reacting': 73.46949768066406, 'LowerStretching': 75.80056762695312, 'Patting': 79.62310028076172, 'Talking': 57.09685516357422, 'Greeting': 61.34690856933594}, 'UpperBody': {'All': 58.12791061401367, 'Walking': 49.065040588378906, 'Gesticuling': 54.355377197265625, 'UpperStretching': 64.64949798583984, 'Gaming': 47.733177185058594, 'Reacting': 57.06544876098633, 'LowerStretching': 46.22492599487305, 'Patting': 54.35920333862305, 'Talking': 42.37356948852539, 'Greeting': 48.63355255126953}, 'LowerBody': {'All': 99.29976654052734, 'Walking': 96.06507110595703, 'Gesticuling': 80.19029235839844, 'UpperStretching': 100.51181030273438, 'Gaming': 92.81806182861328, 'Reacting': 89.87354278564453, 'LowerStretching': 105.37619018554688, 'Patting': 104.88700103759766, 'Talking': 71.82015228271484, 'Greeting': 74.06027221679688}}\n"
     ]
    },
    {
     "name": "stderr",
     "output_type": "stream",
     "text": [
      " 67%|██████▋   | 3601/5352 [08:07<04:06,  7.11it/s]"
     ]
    },
    {
     "name": "stdout",
     "output_type": "stream",
     "text": [
      "{'FullBody': {'All': 78.67386627197266, 'Walking': 72.58970642089844, 'Gesticuling': 67.1950912475586, 'UpperStretching': 82.47305297851562, 'Gaming': 70.20162200927734, 'Reacting': 73.27884674072266, 'LowerStretching': 75.99861145019531, 'Patting': 79.84957122802734, 'Talking': 57.221858978271484, 'Greeting': 61.24762725830078}, 'UpperBody': {'All': 58.09031677246094, 'Walking': 49.0725212097168, 'Gesticuling': 54.212791442871094, 'UpperStretching': 64.5790023803711, 'Gaming': 47.65452575683594, 'Reacting': 57.06273651123047, 'LowerStretching': 46.31200408935547, 'Patting': 54.37615203857422, 'Talking': 42.474979400634766, 'Greeting': 48.60240936279297}, 'LowerBody': {'All': 99.25740814208984, 'Walking': 96.10690307617188, 'Gesticuling': 80.17739868164062, 'UpperStretching': 100.36710357666016, 'Gaming': 92.74871063232422, 'Reacting': 89.49494934082031, 'LowerStretching': 105.6852035522461, 'Patting': 105.322998046875, 'Talking': 71.96874237060547, 'Greeting': 73.89283752441406}}\n"
     ]
    },
    {
     "name": "stderr",
     "output_type": "stream",
     "text": [
      " 71%|███████   | 3801/5352 [08:33<03:37,  7.12it/s]"
     ]
    },
    {
     "name": "stdout",
     "output_type": "stream",
     "text": [
      "{'FullBody': {'All': 78.66012573242188, 'Walking': 72.65864562988281, 'Gesticuling': 67.40626525878906, 'UpperStretching': 82.41415405273438, 'Gaming': 70.32586669921875, 'Reacting': 73.32794952392578, 'LowerStretching': 76.04192352294922, 'Patting': 79.85591125488281, 'Talking': 57.077754974365234, 'Greeting': 61.290565490722656}, 'UpperBody': {'All': 58.0789909362793, 'Walking': 49.09717559814453, 'Gesticuling': 54.21866989135742, 'UpperStretching': 64.54847717285156, 'Gaming': 47.717342376708984, 'Reacting': 57.26347351074219, 'LowerStretching': 46.337669372558594, 'Patting': 54.37324142456055, 'Talking': 42.38790512084961, 'Greeting': 48.57234191894531}, 'LowerBody': {'All': 99.24124908447266, 'Walking': 96.22012329101562, 'Gesticuling': 80.5938491821289, 'UpperStretching': 100.2798080444336, 'Gaming': 92.93439483642578, 'Reacting': 89.39244079589844, 'LowerStretching': 105.74615478515625, 'Patting': 105.33858489990234, 'Talking': 71.7676010131836, 'Greeting': 74.0087890625}}\n"
     ]
    },
    {
     "name": "stderr",
     "output_type": "stream",
     "text": [
      " 75%|███████▍  | 4001/5352 [09:00<03:11,  7.05it/s]"
     ]
    },
    {
     "name": "stdout",
     "output_type": "stream",
     "text": [
      "{'FullBody': {'All': 78.63109588623047, 'Walking': 72.6842269897461, 'Gesticuling': 67.32634735107422, 'UpperStretching': 82.37600708007812, 'Gaming': 70.4527359008789, 'Reacting': 73.220703125, 'LowerStretching': 76.03589630126953, 'Patting': 79.8597183227539, 'Talking': 56.92288589477539, 'Greeting': 61.17291259765625}, 'UpperBody': {'All': 58.0566291809082, 'Walking': 49.09760665893555, 'Gesticuling': 53.99948501586914, 'UpperStretching': 64.53855895996094, 'Gaming': 47.776859283447266, 'Reacting': 57.25498580932617, 'LowerStretching': 46.30618667602539, 'Patting': 54.12387466430664, 'Talking': 42.26655960083008, 'Greeting': 48.43022918701172}, 'LowerBody': {'All': 99.2055435180664, 'Walking': 96.2708511352539, 'Gesticuling': 80.6531982421875, 'UpperStretching': 100.21344757080078, 'Gaming': 93.12861633300781, 'Reacting': 89.1864242553711, 'LowerStretching': 105.76558685302734, 'Patting': 105.59556579589844, 'Talking': 71.57921600341797, 'Greeting': 73.91559600830078}}\n"
     ]
    },
    {
     "name": "stderr",
     "output_type": "stream",
     "text": [
      " 78%|███████▊  | 4201/5352 [09:27<03:15,  5.89it/s]"
     ]
    },
    {
     "name": "stdout",
     "output_type": "stream",
     "text": [
      "{'FullBody': {'All': 78.62957763671875, 'Walking': 72.75936889648438, 'Gesticuling': 67.32660675048828, 'UpperStretching': 82.3658676147461, 'Gaming': 70.5359115600586, 'Reacting': 72.99888610839844, 'LowerStretching': 75.99484252929688, 'Patting': 80.21622467041016, 'Talking': 56.84788131713867, 'Greeting': 61.139217376708984}, 'UpperBody': {'All': 58.04133224487305, 'Walking': 49.1505012512207, 'Gesticuling': 53.9510498046875, 'UpperStretching': 64.5312728881836, 'Gaming': 47.8151969909668, 'Reacting': 57.117488861083984, 'LowerStretching': 46.2667121887207, 'Patting': 54.12718963623047, 'Talking': 42.16746520996094, 'Greeting': 48.30531311035156}, 'LowerBody': {'All': 99.21780395507812, 'Walking': 96.3682632446289, 'Gesticuling': 80.70216369628906, 'UpperStretching': 100.20045471191406, 'Gaming': 93.2566146850586, 'Reacting': 88.88028717041016, 'LowerStretching': 105.72296142578125, 'Patting': 106.30526733398438, 'Talking': 71.52828979492188, 'Greeting': 73.97311401367188}}\n"
     ]
    },
    {
     "name": "stderr",
     "output_type": "stream",
     "text": [
      " 82%|████████▏ | 4401/5352 [09:54<02:14,  7.05it/s]"
     ]
    },
    {
     "name": "stdout",
     "output_type": "stream",
     "text": [
      "{'FullBody': {'All': 78.63615417480469, 'Walking': 72.69985961914062, 'Gesticuling': 67.40585327148438, 'UpperStretching': 82.40316772460938, 'Gaming': 70.5218276977539, 'Reacting': 72.79818725585938, 'LowerStretching': 75.968017578125, 'Patting': 79.95211791992188, 'Talking': 56.90917205810547, 'Greeting': 61.2217903137207}, 'UpperBody': {'All': 58.03475570678711, 'Walking': 49.119590759277344, 'Gesticuling': 53.94545364379883, 'UpperStretching': 64.53907775878906, 'Gaming': 47.797874450683594, 'Reacting': 56.97932052612305, 'LowerStretching': 46.24797058105469, 'Patting': 53.876243591308594, 'Talking': 42.244632720947266, 'Greeting': 48.261802673339844}, 'LowerBody': {'All': 99.237548828125, 'Walking': 96.2801284790039, 'Gesticuling': 80.86624145507812, 'UpperStretching': 100.26725769042969, 'Gaming': 93.24577331542969, 'Reacting': 88.6170425415039, 'LowerStretching': 105.68806457519531, 'Patting': 106.02799224853516, 'Talking': 71.5737075805664, 'Greeting': 74.18177795410156}}\n"
     ]
    },
    {
     "name": "stderr",
     "output_type": "stream",
     "text": [
      " 86%|████████▌ | 4601/5352 [10:21<01:48,  6.94it/s]"
     ]
    },
    {
     "name": "stdout",
     "output_type": "stream",
     "text": [
      "{'FullBody': {'All': 78.65865325927734, 'Walking': 72.83624267578125, 'Gesticuling': 67.43254089355469, 'UpperStretching': 82.41084289550781, 'Gaming': 70.45960235595703, 'Reacting': 72.81810760498047, 'LowerStretching': 75.94005584716797, 'Patting': 79.90867614746094, 'Talking': 57.123809814453125, 'Greeting': 61.17157745361328}, 'UpperBody': {'All': 58.045963287353516, 'Walking': 49.182579040527344, 'Gesticuling': 53.98662567138672, 'UpperStretching': 64.55117797851562, 'Gaming': 47.766929626464844, 'Reacting': 57.026084899902344, 'LowerStretching': 46.225242614746094, 'Patting': 53.806297302246094, 'Talking': 42.42232894897461, 'Greeting': 48.11125946044922}, 'LowerBody': {'All': 99.2713394165039, 'Walking': 96.48989868164062, 'Gesticuling': 80.87845611572266, 'UpperStretching': 100.27049255371094, 'Gaming': 93.15225982666016, 'Reacting': 88.6101303100586, 'LowerStretching': 105.65487670898438, 'Patting': 106.01105499267578, 'Talking': 71.82528686523438, 'Greeting': 74.23190307617188}}\n"
     ]
    },
    {
     "name": "stderr",
     "output_type": "stream",
     "text": [
      " 90%|████████▉ | 4801/5352 [10:48<01:19,  6.94it/s]"
     ]
    },
    {
     "name": "stdout",
     "output_type": "stream",
     "text": [
      "{'FullBody': {'All': 78.63079833984375, 'Walking': 72.804443359375, 'Gesticuling': 67.38375091552734, 'UpperStretching': 82.3706283569336, 'Gaming': 70.34636688232422, 'Reacting': 72.88558197021484, 'LowerStretching': 75.9491958618164, 'Patting': 79.7356948852539, 'Talking': 57.08555221557617, 'Greeting': 60.98860549926758}, 'UpperBody': {'All': 58.03006362915039, 'Walking': 49.15205764770508, 'Gesticuling': 53.877803802490234, 'UpperStretching': 64.52485656738281, 'Gaming': 47.7183952331543, 'Reacting': 57.06312561035156, 'LowerStretching': 46.272377014160156, 'Patting': 53.549259185791016, 'Talking': 42.36782455444336, 'Greeting': 48.101829528808594}, 'LowerBody': {'All': 99.23152160644531, 'Walking': 96.45681762695312, 'Gesticuling': 80.88970947265625, 'UpperStretching': 100.21639251708984, 'Gaming': 92.97434997558594, 'Reacting': 88.70804595947266, 'LowerStretching': 105.62600708007812, 'Patting': 105.92213439941406, 'Talking': 71.80327606201172, 'Greeting': 73.87538146972656}}\n"
     ]
    },
    {
     "name": "stderr",
     "output_type": "stream",
     "text": [
      " 93%|█████████▎| 5001/5352 [11:14<00:49,  7.04it/s]"
     ]
    },
    {
     "name": "stdout",
     "output_type": "stream",
     "text": [
      "{'FullBody': {'All': 78.61714935302734, 'Walking': 72.88936614990234, 'Gesticuling': 67.21800231933594, 'UpperStretching': 82.335205078125, 'Gaming': 70.33457946777344, 'Reacting': 72.88121032714844, 'LowerStretching': 75.99109649658203, 'Patting': 79.4648208618164, 'Talking': 57.139892578125, 'Greeting': 60.912628173828125}, 'UpperBody': {'All': 58.011131286621094, 'Walking': 49.206260681152344, 'Gesticuling': 53.70478439331055, 'UpperStretching': 64.48937225341797, 'Gaming': 47.78744888305664, 'Reacting': 57.11722946166992, 'LowerStretching': 46.309974670410156, 'Patting': 53.423561096191406, 'Talking': 42.36238479614258, 'Greeting': 47.97227096557617}, 'LowerBody': {'All': 99.22315979003906, 'Walking': 96.57244873046875, 'Gesticuling': 80.73121643066406, 'UpperStretching': 100.18103790283203, 'Gaming': 92.88170623779297, 'Reacting': 88.64517974853516, 'LowerStretching': 105.6722183227539, 'Patting': 105.50609588623047, 'Talking': 71.91739654541016, 'Greeting': 73.85298156738281}}\n"
     ]
    },
    {
     "name": "stderr",
     "output_type": "stream",
     "text": [
      " 97%|█████████▋| 5201/5352 [11:41<00:21,  6.88it/s]"
     ]
    },
    {
     "name": "stdout",
     "output_type": "stream",
     "text": [
      "{'FullBody': {'All': 78.6334457397461, 'Walking': 72.87078094482422, 'Gesticuling': 67.07666778564453, 'UpperStretching': 82.38156127929688, 'Gaming': 70.32914733886719, 'Reacting': 72.97016906738281, 'LowerStretching': 75.93370819091797, 'Patting': 79.29357147216797, 'Talking': 57.157737731933594, 'Greeting': 60.838924407958984}, 'UpperBody': {'All': 58.031524658203125, 'Walking': 49.16535186767578, 'Gesticuling': 53.53347396850586, 'UpperStretching': 64.53738403320312, 'Gaming': 47.86177062988281, 'Reacting': 57.186302185058594, 'LowerStretching': 46.270530700683594, 'Patting': 53.31845474243164, 'Talking': 42.317596435546875, 'Greeting': 47.95543670654297}, 'LowerBody': {'All': 99.23535919189453, 'Walking': 96.57621765136719, 'Gesticuling': 80.61988067626953, 'UpperStretching': 100.2257308959961, 'Gaming': 92.79652404785156, 'Reacting': 88.75403594970703, 'LowerStretching': 105.59687805175781, 'Patting': 105.2686996459961, 'Talking': 71.99788665771484, 'Greeting': 73.72240447998047}}\n"
     ]
    },
    {
     "name": "stderr",
     "output_type": "stream",
     "text": [
      "100%|██████████| 5352/5352 [12:01<00:00,  7.41it/s]\n",
      "\u001b[94m07:11:40 \u001b[92m[INFO]\u001b[94m Main\u001b[0m: Saving evaluation results...\n",
      "\u001b[94m07:11:40 \u001b[92m[INFO]\u001b[94m Main\u001b[0m: Done.\n",
      "\u001b[94m07:11:40 \u001b[92m[INFO]\u001b[94m Main\u001b[0m: Starting demo...\n",
      "  0%|          | 0/5352 [00:00<?, ?it/s]/opt/conda/lib/python3.10/site-packages/torchvision/transforms/transforms.py:329: UserWarning: Argument 'interpolation' of type int is deprecated since 0.13 and will be removed in 0.15. Please use InterpolationMode enum.\n",
      "  warnings.warn(\n",
      "/opt/conda/lib/python3.10/site-packages/torchvision/transforms/transforms.py:329: UserWarning: Argument 'interpolation' of type int is deprecated since 0.13 and will be removed in 0.15. Please use InterpolationMode enum.\n",
      "  warnings.warn(\n",
      "/opt/conda/lib/python3.10/site-packages/torchvision/transforms/transforms.py:329: UserWarning: Argument 'interpolation' of type int is deprecated since 0.13 and will be removed in 0.15. Please use InterpolationMode enum.\n",
      "  warnings.warn(\n",
      "/opt/conda/lib/python3.10/site-packages/torchvision/transforms/transforms.py:329: UserWarning: Argument 'interpolation' of type int is deprecated since 0.13 and will be removed in 0.15. Please use InterpolationMode enum.\n",
      "  warnings.warn(\n",
      "/opt/conda/lib/python3.10/site-packages/torchvision/transforms/transforms.py:329: UserWarning: Argument 'interpolation' of type int is deprecated since 0.13 and will be removed in 0.15. Please use InterpolationMode enum.\n",
      "  warnings.warn(\n",
      "/opt/conda/lib/python3.10/site-packages/torchvision/transforms/transforms.py:329: UserWarning: Argument 'interpolation' of type int is deprecated since 0.13 and will be removed in 0.15. Please use InterpolationMode enum.\n",
      "  warnings.warn(\n",
      "/opt/conda/lib/python3.10/site-packages/torchvision/transforms/transforms.py:329: UserWarning: Argument 'interpolation' of type int is deprecated since 0.13 and will be removed in 0.15. Please use InterpolationMode enum.\n",
      "  warnings.warn(\n",
      "/opt/conda/lib/python3.10/site-packages/torchvision/transforms/transforms.py:329: UserWarning: Argument 'interpolation' of type int is deprecated since 0.13 and will be removed in 0.15. Please use InterpolationMode enum.\n",
      "  warnings.warn(\n",
      "/opt/conda/lib/python3.10/site-packages/torchvision/transforms/transforms.py:329: UserWarning: Argument 'interpolation' of type int is deprecated since 0.13 and will be removed in 0.15. Please use InterpolationMode enum.\n",
      "  warnings.warn(\n",
      "/opt/conda/lib/python3.10/site-packages/torchvision/transforms/transforms.py:329: UserWarning: Argument 'interpolation' of type int is deprecated since 0.13 and will be removed in 0.15. Please use InterpolationMode enum.\n",
      "  warnings.warn(\n",
      "/opt/conda/lib/python3.10/site-packages/torchvision/transforms/transforms.py:329: UserWarning: Argument 'interpolation' of type int is deprecated since 0.13 and will be removed in 0.15. Please use InterpolationMode enum.\n",
      "  warnings.warn(\n",
      "/opt/conda/lib/python3.10/site-packages/torchvision/transforms/transforms.py:329: UserWarning: Argument 'interpolation' of type int is deprecated since 0.13 and will be removed in 0.15. Please use InterpolationMode enum.\n",
      "  warnings.warn(\n",
      "/opt/conda/lib/python3.10/site-packages/torchvision/transforms/transforms.py:329: UserWarning: Argument 'interpolation' of type int is deprecated since 0.13 and will be removed in 0.15. Please use InterpolationMode enum.\n",
      "  warnings.warn(\n",
      "/opt/conda/lib/python3.10/site-packages/torchvision/transforms/transforms.py:329: UserWarning: Argument 'interpolation' of type int is deprecated since 0.13 and will be removed in 0.15. Please use InterpolationMode enum.\n",
      "  warnings.warn(\n",
      "/opt/conda/lib/python3.10/site-packages/torchvision/transforms/transforms.py:329: UserWarning: Argument 'interpolation' of type int is deprecated since 0.13 and will be removed in 0.15. Please use InterpolationMode enum.\n",
      "  warnings.warn(\n",
      "/opt/conda/lib/python3.10/site-packages/torchvision/transforms/transforms.py:329: UserWarning: Argument 'interpolation' of type int is deprecated since 0.13 and will be removed in 0.15. Please use InterpolationMode enum.\n",
      "  warnings.warn(\n",
      "/opt/conda/lib/python3.10/site-packages/torchvision/transforms/transforms.py:329: UserWarning: Argument 'interpolation' of type int is deprecated since 0.13 and will be removed in 0.15. Please use InterpolationMode enum.\n",
      "  warnings.warn(\n",
      "/opt/conda/lib/python3.10/site-packages/torchvision/transforms/transforms.py:329: UserWarning: Argument 'interpolation' of type int is deprecated since 0.13 and will be removed in 0.15. Please use InterpolationMode enum.\n",
      "  warnings.warn(\n",
      "/opt/conda/lib/python3.10/site-packages/torchvision/transforms/transforms.py:329: UserWarning: Argument 'interpolation' of type int is deprecated since 0.13 and will be removed in 0.15. Please use InterpolationMode enum.\n",
      "  warnings.warn(\n",
      "/opt/conda/lib/python3.10/site-packages/torchvision/transforms/transforms.py:329: UserWarning: Argument 'interpolation' of type int is deprecated since 0.13 and will be removed in 0.15. Please use InterpolationMode enum.\n",
      "  warnings.warn(\n",
      "/opt/conda/lib/python3.10/site-packages/torchvision/transforms/transforms.py:329: UserWarning: Argument 'interpolation' of type int is deprecated since 0.13 and will be removed in 0.15. Please use InterpolationMode enum.\n",
      "  warnings.warn(\n",
      "/opt/conda/lib/python3.10/site-packages/torchvision/transforms/transforms.py:329: UserWarning: Argument 'interpolation' of type int is deprecated since 0.13 and will be removed in 0.15. Please use InterpolationMode enum.\n",
      "  warnings.warn(\n",
      "/opt/conda/lib/python3.10/site-packages/torchvision/transforms/transforms.py:329: UserWarning: Argument 'interpolation' of type int is deprecated since 0.13 and will be removed in 0.15. Please use InterpolationMode enum.\n",
      "  warnings.warn(\n",
      "/opt/conda/lib/python3.10/site-packages/torchvision/transforms/transforms.py:329: UserWarning: Argument 'interpolation' of type int is deprecated since 0.13 and will be removed in 0.15. Please use InterpolationMode enum.\n",
      "  warnings.warn(\n",
      "  4%|▍         | 201/5352 [00:32<11:08,  7.71it/s]"
     ]
    },
    {
     "name": "stdout",
     "output_type": "stream",
     "text": [
      "{'FullBody': {'All': 71.0361099243164, 'Reacting': 63.516578674316406, 'UpperStretching': 76.06019592285156, 'Walking': 67.56671905517578, 'Talking': 51.6041374206543, 'Gesticuling': 51.65230941772461, 'Gaming': 60.062984466552734, 'LowerStretching': 65.53075408935547, 'Patting': 68.00191497802734, 'Greeting': 49.323448181152344}, 'UpperBody': {'All': 55.505558013916016, 'Reacting': 54.73762512207031, 'UpperStretching': 63.084617614746094, 'Walking': 45.86629104614258, 'Talking': 44.35384750366211, 'Gesticuling': 45.22462844848633, 'Gaming': 47.76285171508789, 'LowerStretching': 42.447261810302734, 'Patting': 52.11603546142578, 'Greeting': 39.80213928222656}, 'LowerBody': {'All': 86.5666732788086, 'Reacting': 72.2955322265625, 'UpperStretching': 89.03578186035156, 'Walking': 89.26715850830078, 'Talking': 58.85442352294922, 'Gesticuling': 58.079994201660156, 'Gaming': 72.36310577392578, 'LowerStretching': 88.61426544189453, 'Patting': 83.8877944946289, 'Greeting': 58.844764709472656}}\n"
     ]
    },
    {
     "name": "stderr",
     "output_type": "stream",
     "text": [
      "  7%|▋         | 401/5352 [00:59<11:13,  7.35it/s]"
     ]
    },
    {
     "name": "stdout",
     "output_type": "stream",
     "text": [
      "{'FullBody': {'All': 70.22235107421875, 'Reacting': 61.441158294677734, 'UpperStretching': 74.5795669555664, 'Walking': 68.20380401611328, 'Talking': 50.88762664794922, 'Gesticuling': 51.965667724609375, 'Gaming': 61.022579193115234, 'LowerStretching': 65.27677917480469, 'Patting': 67.90499877929688, 'Greeting': 48.21393585205078}, 'UpperBody': {'All': 54.76998519897461, 'Reacting': 52.69696044921875, 'UpperStretching': 61.6527214050293, 'Walking': 46.67452621459961, 'Talking': 42.133026123046875, 'Gesticuling': 46.25656509399414, 'Gaming': 47.52687454223633, 'LowerStretching': 42.11663055419922, 'Patting': 51.49492645263672, 'Greeting': 39.36643981933594}, 'LowerBody': {'All': 85.67472839355469, 'Reacting': 70.18534851074219, 'UpperStretching': 87.50642395019531, 'Walking': 89.73307800292969, 'Talking': 59.64221954345703, 'Gesticuling': 57.67476272583008, 'Gaming': 74.51828002929688, 'LowerStretching': 88.43694305419922, 'Patting': 84.31505584716797, 'Greeting': 57.06145477294922}}\n"
     ]
    },
    {
     "name": "stderr",
     "output_type": "stream",
     "text": [
      " 11%|█         | 601/5352 [01:25<10:27,  7.57it/s]"
     ]
    },
    {
     "name": "stdout",
     "output_type": "stream",
     "text": [
      "{'FullBody': {'All': 70.09407043457031, 'Reacting': 62.47524642944336, 'UpperStretching': 74.30550384521484, 'Walking': 67.83564758300781, 'Talking': 50.904296875, 'Gesticuling': 52.47376251220703, 'Gaming': 60.9011344909668, 'LowerStretching': 65.4400863647461, 'Patting': 67.44725799560547, 'Greeting': 49.763206481933594}, 'UpperBody': {'All': 54.689205169677734, 'Reacting': 51.792442321777344, 'UpperStretching': 61.56968688964844, 'Walking': 46.32706069946289, 'Talking': 42.590065002441406, 'Gesticuling': 46.579689025878906, 'Gaming': 47.78413772583008, 'LowerStretching': 42.21143341064453, 'Patting': 50.378353118896484, 'Greeting': 40.73312759399414}, 'LowerBody': {'All': 85.49893188476562, 'Reacting': 73.1580581665039, 'UpperStretching': 87.04132843017578, 'Walking': 89.34422302246094, 'Talking': 59.218528747558594, 'Gesticuling': 58.36783218383789, 'Gaming': 74.01815032958984, 'LowerStretching': 88.66874694824219, 'Patting': 84.51616668701172, 'Greeting': 58.79329299926758}}\n"
     ]
    },
    {
     "name": "stderr",
     "output_type": "stream",
     "text": [
      " 15%|█▍        | 801/5352 [01:52<11:07,  6.82it/s]"
     ]
    },
    {
     "name": "stdout",
     "output_type": "stream",
     "text": [
      "{'FullBody': {'All': 70.0602798461914, 'Reacting': 62.893157958984375, 'UpperStretching': 74.45152282714844, 'Walking': 67.53337860107422, 'Talking': 49.9415168762207, 'Gesticuling': 52.41313934326172, 'Gaming': 59.748897552490234, 'LowerStretching': 65.38589477539062, 'Patting': 64.99669647216797, 'Greeting': 50.11760711669922}, 'UpperBody': {'All': 54.54032897949219, 'Reacting': 53.183406829833984, 'UpperStretching': 61.45478439331055, 'Walking': 46.263153076171875, 'Talking': 41.58097457885742, 'Gesticuling': 46.53438186645508, 'Gaming': 47.61468505859375, 'LowerStretching': 42.01319122314453, 'Patting': 48.28755569458008, 'Greeting': 42.443355560302734}, 'LowerBody': {'All': 85.58023071289062, 'Reacting': 72.60291290283203, 'UpperStretching': 87.44825744628906, 'Walking': 88.8036117553711, 'Talking': 58.302059173583984, 'Gesticuling': 58.29189682006836, 'Gaming': 71.88311004638672, 'LowerStretching': 88.75859832763672, 'Patting': 81.7058334350586, 'Greeting': 57.7918701171875}}\n"
     ]
    },
    {
     "name": "stderr",
     "output_type": "stream",
     "text": [
      " 19%|█▊        | 1001/5352 [02:19<09:35,  7.56it/s]"
     ]
    },
    {
     "name": "stdout",
     "output_type": "stream",
     "text": [
      "{'FullBody': {'All': 70.00700378417969, 'Reacting': 62.23366165161133, 'UpperStretching': 74.24220275878906, 'Walking': 67.48004150390625, 'Talking': 49.55616760253906, 'Gesticuling': 53.1844482421875, 'Gaming': 59.65233612060547, 'LowerStretching': 65.85818481445312, 'Patting': 64.85230255126953, 'Greeting': 50.84716033935547}, 'UpperBody': {'All': 54.5622673034668, 'Reacting': 52.831626892089844, 'UpperStretching': 61.386173248291016, 'Walking': 46.18890380859375, 'Talking': 40.87403869628906, 'Gesticuling': 46.711666107177734, 'Gaming': 47.464969635009766, 'LowerStretching': 42.34684753417969, 'Patting': 49.02011489868164, 'Greeting': 43.417240142822266}, 'LowerBody': {'All': 85.45173645019531, 'Reacting': 71.63570404052734, 'UpperStretching': 87.09822845458984, 'Walking': 88.77117919921875, 'Talking': 58.23828887939453, 'Gesticuling': 59.65723419189453, 'Gaming': 71.83971405029297, 'LowerStretching': 89.36951446533203, 'Patting': 80.68449401855469, 'Greeting': 58.277069091796875}}\n"
     ]
    },
    {
     "name": "stderr",
     "output_type": "stream",
     "text": [
      " 22%|██▏       | 1201/5352 [02:46<10:02,  6.89it/s]"
     ]
    },
    {
     "name": "stdout",
     "output_type": "stream",
     "text": [
      "{'FullBody': {'All': 70.04137420654297, 'Reacting': 61.89685821533203, 'UpperStretching': 74.13391876220703, 'Walking': 68.03128051757812, 'Talking': 49.71951675415039, 'Gesticuling': 53.20792770385742, 'Gaming': 60.35226058959961, 'LowerStretching': 65.77967834472656, 'Patting': 66.25525665283203, 'Greeting': 50.94362258911133}, 'UpperBody': {'All': 54.574928283691406, 'Reacting': 52.780052185058594, 'UpperStretching': 61.28350067138672, 'Walking': 46.559234619140625, 'Talking': 40.93669128417969, 'Gesticuling': 46.66134262084961, 'Gaming': 47.39847946166992, 'LowerStretching': 42.37155532836914, 'Patting': 50.31710433959961, 'Greeting': 44.23188018798828}, 'LowerBody': {'All': 85.50782012939453, 'Reacting': 71.013671875, 'UpperStretching': 86.98432159423828, 'Walking': 89.50334167480469, 'Talking': 58.50234603881836, 'Gesticuling': 59.75450134277344, 'Gaming': 73.30604553222656, 'LowerStretching': 89.18780517578125, 'Patting': 82.19340515136719, 'Greeting': 57.65536880493164}}\n"
     ]
    },
    {
     "name": "stderr",
     "output_type": "stream",
     "text": [
      " 26%|██▌       | 1401/5352 [03:12<08:38,  7.62it/s]"
     ]
    },
    {
     "name": "stdout",
     "output_type": "stream",
     "text": [
      "{'FullBody': {'All': 69.78439331054688, 'Reacting': 62.1937370300293, 'UpperStretching': 73.79549407958984, 'Walking': 67.67340087890625, 'Talking': 49.814208984375, 'Gesticuling': 53.20330047607422, 'Gaming': 60.055667877197266, 'LowerStretching': 65.7243881225586, 'Patting': 66.24333953857422, 'Greeting': 50.547019958496094}, 'UpperBody': {'All': 54.348297119140625, 'Reacting': 52.98434066772461, 'UpperStretching': 60.98114776611328, 'Walking': 46.23404312133789, 'Talking': 41.10029602050781, 'Gesticuling': 46.635345458984375, 'Gaming': 47.043060302734375, 'LowerStretching': 42.24464416503906, 'Patting': 50.237674713134766, 'Greeting': 44.212764739990234}, 'LowerBody': {'All': 85.2204818725586, 'Reacting': 71.40312957763672, 'UpperStretching': 86.6098403930664, 'Walking': 89.11276245117188, 'Talking': 58.528106689453125, 'Gesticuling': 59.7712516784668, 'Gaming': 73.06827545166016, 'LowerStretching': 89.20413208007812, 'Patting': 82.24900817871094, 'Greeting': 56.88127899169922}}\n"
     ]
    },
    {
     "name": "stderr",
     "output_type": "stream",
     "text": [
      " 30%|██▉       | 1601/5352 [03:39<08:18,  7.53it/s]"
     ]
    },
    {
     "name": "stdout",
     "output_type": "stream",
     "text": [
      "{'FullBody': {'All': 69.75977325439453, 'Reacting': 62.235836029052734, 'UpperStretching': 73.79957580566406, 'Walking': 67.81085205078125, 'Talking': 49.84044647216797, 'Gesticuling': 53.04591751098633, 'Gaming': 59.87462615966797, 'LowerStretching': 65.43925476074219, 'Patting': 66.68315887451172, 'Greeting': 50.75105667114258}, 'UpperBody': {'All': 54.34066390991211, 'Reacting': 52.882083892822266, 'UpperStretching': 60.936309814453125, 'Walking': 46.40169906616211, 'Talking': 41.39923095703125, 'Gesticuling': 46.521034240722656, 'Gaming': 46.81684112548828, 'LowerStretching': 42.157958984375, 'Patting': 50.7534294128418, 'Greeting': 44.35087966918945}, 'LowerBody': {'All': 85.17887878417969, 'Reacting': 71.58958435058594, 'UpperStretching': 86.662841796875, 'Walking': 89.22001647949219, 'Talking': 58.28166961669922, 'Gesticuling': 59.570804595947266, 'Gaming': 72.93241119384766, 'LowerStretching': 88.72055053710938, 'Patting': 82.61288452148438, 'Greeting': 57.1512336730957}}\n"
     ]
    },
    {
     "name": "stderr",
     "output_type": "stream",
     "text": [
      " 34%|███▎      | 1801/5352 [04:06<07:54,  7.49it/s]"
     ]
    },
    {
     "name": "stdout",
     "output_type": "stream",
     "text": [
      "{'FullBody': {'All': 69.78992462158203, 'Reacting': 61.98677444458008, 'UpperStretching': 73.84642028808594, 'Walking': 67.79658508300781, 'Talking': 49.69414138793945, 'Gesticuling': 52.91770553588867, 'Gaming': 59.86043167114258, 'LowerStretching': 65.5145492553711, 'Patting': 67.8798599243164, 'Greeting': 50.40957260131836}, 'UpperBody': {'All': 54.42414474487305, 'Reacting': 52.71843719482422, 'UpperStretching': 61.01568603515625, 'Walking': 46.43954849243164, 'Talking': 41.47903060913086, 'Gesticuling': 46.43611526489258, 'Gaming': 46.863285064697266, 'LowerStretching': 42.263484954833984, 'Patting': 51.74849319458008, 'Greeting': 43.972450256347656}, 'LowerBody': {'All': 85.15569305419922, 'Reacting': 71.25511932373047, 'UpperStretching': 86.67716979980469, 'Walking': 89.15362548828125, 'Talking': 57.90925216674805, 'Gesticuling': 59.3992919921875, 'Gaming': 72.85758209228516, 'LowerStretching': 88.76561737060547, 'Patting': 84.01122283935547, 'Greeting': 56.846683502197266}}\n"
     ]
    },
    {
     "name": "stderr",
     "output_type": "stream",
     "text": [
      " 37%|███▋      | 2001/5352 [04:33<07:33,  7.38it/s]"
     ]
    },
    {
     "name": "stdout",
     "output_type": "stream",
     "text": [
      "{'FullBody': {'All': 69.77439880371094, 'Reacting': 62.251976013183594, 'UpperStretching': 73.81377410888672, 'Walking': 67.93263244628906, 'Talking': 49.56698226928711, 'Gesticuling': 52.97875213623047, 'Gaming': 59.35149383544922, 'LowerStretching': 65.29341125488281, 'Patting': 68.09322357177734, 'Greeting': 50.4553108215332}, 'UpperBody': {'All': 54.431541442871094, 'Reacting': 52.9013671875, 'UpperStretching': 60.98571014404297, 'Walking': 46.562557220458984, 'Talking': 41.337005615234375, 'Gesticuling': 46.604270935058594, 'Gaming': 46.475799560546875, 'LowerStretching': 42.18684005737305, 'Patting': 51.66920852661133, 'Greeting': 44.07461929321289}, 'LowerBody': {'All': 85.11724853515625, 'Reacting': 71.60258483886719, 'UpperStretching': 86.64185333251953, 'Walking': 89.3027114868164, 'Talking': 57.796958923339844, 'Gesticuling': 59.353233337402344, 'Gaming': 72.22718811035156, 'LowerStretching': 88.39998626708984, 'Patting': 84.51724243164062, 'Greeting': 56.83601379394531}}\n"
     ]
    },
    {
     "name": "stderr",
     "output_type": "stream",
     "text": [
      " 41%|████      | 2201/5352 [04:59<06:58,  7.53it/s]"
     ]
    },
    {
     "name": "stdout",
     "output_type": "stream",
     "text": [
      "{'FullBody': {'All': 69.84306335449219, 'Reacting': 62.37962341308594, 'UpperStretching': 74.01065063476562, 'Walking': 67.70964813232422, 'Talking': 49.55160140991211, 'Gesticuling': 52.94703674316406, 'Gaming': 59.19668960571289, 'LowerStretching': 65.19041442871094, 'Patting': 67.6614761352539, 'Greeting': 50.524166107177734}, 'UpperBody': {'All': 54.47517776489258, 'Reacting': 52.93050765991211, 'UpperStretching': 61.068904876708984, 'Walking': 46.40708923339844, 'Talking': 41.40877914428711, 'Gesticuling': 46.56303024291992, 'Gaming': 46.328651428222656, 'LowerStretching': 42.14743423461914, 'Patting': 51.5560302734375, 'Greeting': 44.410099029541016}, 'LowerBody': {'All': 85.2109375, 'Reacting': 71.82874298095703, 'UpperStretching': 86.95240020751953, 'Walking': 89.01222229003906, 'Talking': 57.694427490234375, 'Gesticuling': 59.3310432434082, 'Gaming': 72.06473541259766, 'LowerStretching': 88.2333755493164, 'Patting': 83.76691436767578, 'Greeting': 56.638240814208984}}\n"
     ]
    },
    {
     "name": "stderr",
     "output_type": "stream",
     "text": [
      " 45%|████▍     | 2401/5352 [05:26<06:53,  7.14it/s]"
     ]
    },
    {
     "name": "stdout",
     "output_type": "stream",
     "text": [
      "{'FullBody': {'All': 69.85099792480469, 'Reacting': 62.18206024169922, 'UpperStretching': 73.98908233642578, 'Walking': 67.57246398925781, 'Talking': 50.00054168701172, 'Gesticuling': 52.975135803222656, 'Gaming': 59.1196403503418, 'LowerStretching': 65.26997375488281, 'Patting': 68.28907775878906, 'Greeting': 50.33851623535156}, 'UpperBody': {'All': 54.4969367980957, 'Reacting': 52.742286682128906, 'UpperStretching': 61.07563781738281, 'Walking': 46.377567291259766, 'Talking': 41.645999908447266, 'Gesticuling': 46.57705307006836, 'Gaming': 46.331119537353516, 'LowerStretching': 42.17981719970703, 'Patting': 52.05120849609375, 'Greeting': 44.20050811767578}, 'LowerBody': {'All': 85.2050552368164, 'Reacting': 71.62184143066406, 'UpperStretching': 86.90254974365234, 'Walking': 88.7673568725586, 'Talking': 58.35508346557617, 'Gesticuling': 59.37321472167969, 'Gaming': 71.90817260742188, 'LowerStretching': 88.36013793945312, 'Patting': 84.52693939208984, 'Greeting': 56.47651672363281}}\n"
     ]
    },
    {
     "name": "stderr",
     "output_type": "stream",
     "text": [
      " 49%|████▊     | 2601/5352 [05:53<06:05,  7.52it/s]"
     ]
    },
    {
     "name": "stdout",
     "output_type": "stream",
     "text": [
      "{'FullBody': {'All': 69.84585571289062, 'Reacting': 62.25010681152344, 'UpperStretching': 73.93879699707031, 'Walking': 67.54167175292969, 'Talking': 50.010154724121094, 'Gesticuling': 52.86101150512695, 'Gaming': 58.986087799072266, 'LowerStretching': 65.3458480834961, 'Patting': 68.30612182617188, 'Greeting': 50.25828170776367}, 'UpperBody': {'All': 54.490150451660156, 'Reacting': 52.82609939575195, 'UpperStretching': 61.02705001831055, 'Walking': 46.33754348754883, 'Talking': 41.682472229003906, 'Gesticuling': 46.45424270629883, 'Gaming': 46.373600006103516, 'LowerStretching': 42.20263671875, 'Patting': 51.861595153808594, 'Greeting': 44.125694274902344}, 'LowerBody': {'All': 85.2015609741211, 'Reacting': 71.67411041259766, 'UpperStretching': 86.85054779052734, 'Walking': 88.74581146240234, 'Talking': 58.337833404541016, 'Gesticuling': 59.26778030395508, 'Gaming': 71.59856414794922, 'LowerStretching': 88.48905181884766, 'Patting': 84.75064849853516, 'Greeting': 56.390865325927734}}\n"
     ]
    },
    {
     "name": "stderr",
     "output_type": "stream",
     "text": [
      " 52%|█████▏    | 2801/5352 [06:20<05:54,  7.20it/s]"
     ]
    },
    {
     "name": "stdout",
     "output_type": "stream",
     "text": [
      "{'FullBody': {'All': 69.85597229003906, 'Reacting': 62.074764251708984, 'UpperStretching': 73.90460205078125, 'Walking': 67.57929992675781, 'Talking': 49.63825225830078, 'Gesticuling': 52.906715393066406, 'Gaming': 58.96651077270508, 'LowerStretching': 65.45621490478516, 'Patting': 68.60950469970703, 'Greeting': 50.16610336303711}, 'UpperBody': {'All': 54.461673736572266, 'Reacting': 52.620357513427734, 'UpperStretching': 60.98630905151367, 'Walking': 46.32221221923828, 'Talking': 41.39472579956055, 'Gesticuling': 46.4691162109375, 'Gaming': 46.09797668457031, 'LowerStretching': 42.19862747192383, 'Patting': 51.93993377685547, 'Greeting': 44.15811538696289}, 'LowerBody': {'All': 85.25025939941406, 'Reacting': 71.52916717529297, 'UpperStretching': 86.8228988647461, 'Walking': 88.83638763427734, 'Talking': 57.881771087646484, 'Gesticuling': 59.34431457519531, 'Gaming': 71.83503723144531, 'LowerStretching': 88.71380615234375, 'Patting': 85.27906799316406, 'Greeting': 56.174095153808594}}\n"
     ]
    },
    {
     "name": "stderr",
     "output_type": "stream",
     "text": [
      " 56%|█████▌    | 3001/5352 [06:46<05:11,  7.56it/s]"
     ]
    },
    {
     "name": "stdout",
     "output_type": "stream",
     "text": [
      "{'FullBody': {'All': 69.8461685180664, 'Reacting': 62.003929138183594, 'UpperStretching': 73.8450698852539, 'Walking': 67.67703247070312, 'Talking': 49.78614807128906, 'Gesticuling': 52.773399353027344, 'Gaming': 58.97201156616211, 'LowerStretching': 65.459228515625, 'Patting': 68.96276092529297, 'Greeting': 50.54167938232422}, 'UpperBody': {'All': 54.43848419189453, 'Reacting': 52.501705169677734, 'UpperStretching': 60.928775787353516, 'Walking': 46.37174606323242, 'Talking': 41.560794830322266, 'Gesticuling': 46.360328674316406, 'Gaming': 46.05085372924805, 'LowerStretching': 42.17188262939453, 'Patting': 52.20378875732422, 'Greeting': 44.382904052734375}, 'LowerBody': {'All': 85.25385284423828, 'Reacting': 71.50615692138672, 'UpperStretching': 86.76136779785156, 'Walking': 88.98231506347656, 'Talking': 58.01150131225586, 'Gesticuling': 59.186466217041016, 'Gaming': 71.8931655883789, 'LowerStretching': 88.7465591430664, 'Patting': 85.72174072265625, 'Greeting': 56.70045471191406}}\n"
     ]
    },
    {
     "name": "stderr",
     "output_type": "stream",
     "text": [
      " 60%|█████▉    | 3201/5352 [07:13<04:53,  7.32it/s]"
     ]
    },
    {
     "name": "stdout",
     "output_type": "stream",
     "text": [
      "{'FullBody': {'All': 69.82431030273438, 'Reacting': 62.159793853759766, 'UpperStretching': 73.86453247070312, 'Walking': 67.38734436035156, 'Talking': 49.78683853149414, 'Gesticuling': 52.7774543762207, 'Gaming': 58.88447189331055, 'LowerStretching': 65.4647216796875, 'Patting': 69.20448303222656, 'Greeting': 50.66218185424805}, 'UpperBody': {'All': 54.4106330871582, 'Reacting': 52.65409469604492, 'UpperStretching': 60.90117645263672, 'Walking': 46.26128005981445, 'Talking': 41.5257453918457, 'Gesticuling': 46.3741455078125, 'Gaming': 46.041343688964844, 'LowerStretching': 42.19955825805664, 'Patting': 52.232154846191406, 'Greeting': 44.53811264038086}, 'LowerBody': {'All': 85.23799133300781, 'Reacting': 71.66548919677734, 'UpperStretching': 86.827880859375, 'Walking': 88.51339721679688, 'Talking': 58.04792404174805, 'Gesticuling': 59.18076705932617, 'Gaming': 71.72759246826172, 'LowerStretching': 88.7298583984375, 'Patting': 86.17681884765625, 'Greeting': 56.7862434387207}}\n"
     ]
    },
    {
     "name": "stderr",
     "output_type": "stream",
     "text": [
      " 64%|██████▎   | 3401/5352 [07:40<04:24,  7.38it/s]"
     ]
    },
    {
     "name": "stdout",
     "output_type": "stream",
     "text": [
      "{'FullBody': {'All': 69.84891510009766, 'Reacting': 62.26934051513672, 'UpperStretching': 73.84606170654297, 'Walking': 67.45732116699219, 'Talking': 49.70513916015625, 'Gesticuling': 52.998538970947266, 'Gaming': 58.727928161621094, 'LowerStretching': 65.50955963134766, 'Patting': 70.00603485107422, 'Greeting': 50.635013580322266}, 'UpperBody': {'All': 54.39919662475586, 'Reacting': 52.699363708496094, 'UpperStretching': 60.86741638183594, 'Walking': 46.317745208740234, 'Talking': 41.502017974853516, 'Gesticuling': 46.60750198364258, 'Gaming': 45.87460708618164, 'LowerStretching': 42.17119598388672, 'Patting': 52.53669357299805, 'Greeting': 44.41532516479492}, 'LowerBody': {'All': 85.29863739013672, 'Reacting': 71.83930206298828, 'UpperStretching': 86.82469177246094, 'Walking': 88.59687805175781, 'Talking': 57.90826416015625, 'Gesticuling': 59.38956069946289, 'Gaming': 71.58125305175781, 'LowerStretching': 88.847900390625, 'Patting': 87.47537994384766, 'Greeting': 56.854705810546875}}\n"
     ]
    },
    {
     "name": "stderr",
     "output_type": "stream",
     "text": [
      " 67%|██████▋   | 3601/5352 [08:07<04:00,  7.27it/s]"
     ]
    },
    {
     "name": "stdout",
     "output_type": "stream",
     "text": [
      "{'FullBody': {'All': 69.82913970947266, 'Reacting': 62.30052947998047, 'UpperStretching': 73.83064270019531, 'Walking': 67.48973846435547, 'Talking': 49.7635383605957, 'Gesticuling': 52.96635055541992, 'Gaming': 58.74494171142578, 'LowerStretching': 65.46244812011719, 'Patting': 69.79792022705078, 'Greeting': 50.50701141357422}, 'UpperBody': {'All': 54.38252258300781, 'Reacting': 52.73870849609375, 'UpperStretching': 60.840023040771484, 'Walking': 46.36207962036133, 'Talking': 41.5355339050293, 'Gesticuling': 46.62788009643555, 'Gaming': 46.05641555786133, 'LowerStretching': 42.13497543334961, 'Patting': 52.40151596069336, 'Greeting': 44.303314208984375}, 'LowerBody': {'All': 85.27576446533203, 'Reacting': 71.86235046386719, 'UpperStretching': 86.82125854492188, 'Walking': 88.61737823486328, 'Talking': 57.991546630859375, 'Gesticuling': 59.304813385009766, 'Gaming': 71.4334716796875, 'LowerStretching': 88.78990936279297, 'Patting': 87.19432067871094, 'Greeting': 56.71071243286133}}\n"
     ]
    },
    {
     "name": "stderr",
     "output_type": "stream",
     "text": [
      " 71%|███████   | 3801/5352 [08:34<04:08,  6.24it/s]"
     ]
    },
    {
     "name": "stdout",
     "output_type": "stream",
     "text": [
      "{'FullBody': {'All': 69.79363250732422, 'Reacting': 62.21950149536133, 'UpperStretching': 73.81166076660156, 'Walking': 67.36243438720703, 'Talking': 49.67677307128906, 'Gesticuling': 53.220069885253906, 'Gaming': 58.67905807495117, 'LowerStretching': 65.3811264038086, 'Patting': 69.97825622558594, 'Greeting': 50.72011184692383}, 'UpperBody': {'All': 54.351654052734375, 'Reacting': 52.68109893798828, 'UpperStretching': 60.81216049194336, 'Walking': 46.27081298828125, 'Talking': 41.54776382446289, 'Gesticuling': 46.80170440673828, 'Gaming': 45.88387680053711, 'LowerStretching': 42.075462341308594, 'Patting': 52.50918960571289, 'Greeting': 44.36955261230469}, 'LowerBody': {'All': 85.23562622070312, 'Reacting': 71.75790405273438, 'UpperStretching': 86.81117248535156, 'Walking': 88.45405578613281, 'Talking': 57.805782318115234, 'Gesticuling': 59.638431549072266, 'Gaming': 71.47423553466797, 'LowerStretching': 88.68677520751953, 'Patting': 87.44732666015625, 'Greeting': 57.0706672668457}}\n"
     ]
    },
    {
     "name": "stderr",
     "output_type": "stream",
     "text": [
      " 75%|███████▍  | 4001/5352 [09:01<03:09,  7.12it/s]"
     ]
    },
    {
     "name": "stdout",
     "output_type": "stream",
     "text": [
      "{'FullBody': {'All': 69.7998046875, 'Reacting': 62.2768440246582, 'UpperStretching': 73.83020782470703, 'Walking': 67.30307006835938, 'Talking': 49.70770263671875, 'Gesticuling': 53.27520751953125, 'Gaming': 58.84153366088867, 'LowerStretching': 65.30331420898438, 'Patting': 70.44390106201172, 'Greeting': 50.58965301513672}, 'UpperBody': {'All': 54.338680267333984, 'Reacting': 52.71037673950195, 'UpperStretching': 60.80476379394531, 'Walking': 46.24971389770508, 'Talking': 41.55352020263672, 'Gesticuling': 46.850948333740234, 'Gaming': 46.00168228149414, 'LowerStretching': 42.03440856933594, 'Patting': 52.52520751953125, 'Greeting': 44.22840118408203}, 'LowerBody': {'All': 85.26094055175781, 'Reacting': 71.84331512451172, 'UpperStretching': 86.85565185546875, 'Walking': 88.3564224243164, 'Talking': 57.86188888549805, 'Gesticuling': 59.6994743347168, 'Gaming': 71.68138122558594, 'LowerStretching': 88.57220458984375, 'Patting': 88.36258697509766, 'Greeting': 56.95090866088867}}\n"
     ]
    },
    {
     "name": "stderr",
     "output_type": "stream",
     "text": [
      " 78%|███████▊  | 4201/5352 [09:27<02:49,  6.79it/s]"
     ]
    },
    {
     "name": "stdout",
     "output_type": "stream",
     "text": [
      "{'FullBody': {'All': 69.74885559082031, 'Reacting': 62.31592559814453, 'UpperStretching': 73.75829315185547, 'Walking': 67.28886413574219, 'Talking': 49.88420867919922, 'Gesticuling': 53.47815704345703, 'Gaming': 58.64214324951172, 'LowerStretching': 65.27680206298828, 'Patting': 70.08793640136719, 'Greeting': 50.46613311767578}, 'UpperBody': {'All': 54.319271087646484, 'Reacting': 52.70881652832031, 'UpperStretching': 60.778072357177734, 'Walking': 46.23279571533203, 'Talking': 41.63014602661133, 'Gesticuling': 47.05907440185547, 'Gaming': 45.74144744873047, 'LowerStretching': 42.00223159790039, 'Patting': 52.322296142578125, 'Greeting': 44.059364318847656}, 'LowerBody': {'All': 85.1784439086914, 'Reacting': 71.92304229736328, 'UpperStretching': 86.738525390625, 'Walking': 88.34494018554688, 'Talking': 58.138275146484375, 'Gesticuling': 59.8972282409668, 'Gaming': 71.54283905029297, 'LowerStretching': 88.55136108398438, 'Patting': 87.85357666015625, 'Greeting': 56.87290954589844}}\n"
     ]
    },
    {
     "name": "stderr",
     "output_type": "stream",
     "text": [
      " 82%|████████▏ | 4401/5352 [09:54<02:12,  7.19it/s]"
     ]
    },
    {
     "name": "stdout",
     "output_type": "stream",
     "text": [
      "{'FullBody': {'All': 69.7574691772461, 'Reacting': 62.371551513671875, 'UpperStretching': 73.76561737060547, 'Walking': 67.32530212402344, 'Talking': 50.17366409301758, 'Gesticuling': 53.64527130126953, 'Gaming': 58.61924362182617, 'LowerStretching': 65.21692657470703, 'Patting': 69.9959716796875, 'Greeting': 50.567169189453125}, 'UpperBody': {'All': 54.31986618041992, 'Reacting': 52.89333724975586, 'UpperStretching': 60.7827033996582, 'Walking': 46.18522644042969, 'Talking': 41.7706184387207, 'Gesticuling': 47.131492614746094, 'Gaming': 45.61921310424805, 'LowerStretching': 41.98295974731445, 'Patting': 52.173851013183594, 'Greeting': 44.146976470947266}, 'LowerBody': {'All': 85.19507598876953, 'Reacting': 71.84977722167969, 'UpperStretching': 86.74854278564453, 'Walking': 88.46539306640625, 'Talking': 58.57670974731445, 'Gesticuling': 60.15904998779297, 'Gaming': 71.61927032470703, 'LowerStretching': 88.45088958740234, 'Patting': 87.81807708740234, 'Greeting': 56.987361907958984}}\n"
     ]
    },
    {
     "name": "stderr",
     "output_type": "stream",
     "text": [
      " 86%|████████▌ | 4601/5352 [10:21<01:45,  7.13it/s]"
     ]
    },
    {
     "name": "stdout",
     "output_type": "stream",
     "text": [
      "{'FullBody': {'All': 69.790283203125, 'Reacting': 62.27182388305664, 'UpperStretching': 73.79336547851562, 'Walking': 67.41893005371094, 'Talking': 50.162254333496094, 'Gesticuling': 53.69301986694336, 'Gaming': 58.32403564453125, 'LowerStretching': 65.30701446533203, 'Patting': 69.83600616455078, 'Greeting': 50.401893615722656}, 'UpperBody': {'All': 54.3397102355957, 'Reacting': 52.86138153076172, 'UpperStretching': 60.80009078979492, 'Walking': 46.255558013916016, 'Talking': 41.7541389465332, 'Gesticuling': 47.11546325683594, 'Gaming': 45.40409851074219, 'LowerStretching': 41.99830627441406, 'Patting': 52.289764404296875, 'Greeting': 43.94481658935547}, 'LowerBody': {'All': 85.24085235595703, 'Reacting': 71.6822738647461, 'UpperStretching': 86.7866439819336, 'Walking': 88.58229064941406, 'Talking': 58.57036590576172, 'Gesticuling': 60.27058410644531, 'Gaming': 71.24398040771484, 'LowerStretching': 88.61570739746094, 'Patting': 87.38224792480469, 'Greeting': 56.85897445678711}}\n"
     ]
    },
    {
     "name": "stderr",
     "output_type": "stream",
     "text": [
      " 90%|████████▉ | 4801/5352 [10:48<01:19,  6.94it/s]"
     ]
    },
    {
     "name": "stdout",
     "output_type": "stream",
     "text": [
      "{'FullBody': {'All': 69.76525115966797, 'Reacting': 62.23518753051758, 'UpperStretching': 73.74392700195312, 'Walking': 67.3890151977539, 'Talking': 50.073341369628906, 'Gesticuling': 53.67388153076172, 'Gaming': 58.33146667480469, 'LowerStretching': 65.39635467529297, 'Patting': 69.61640930175781, 'Greeting': 50.40232467651367}, 'UpperBody': {'All': 54.2846794128418, 'Reacting': 52.770660400390625, 'UpperStretching': 60.721832275390625, 'Walking': 46.23495864868164, 'Talking': 41.57244110107422, 'Gesticuling': 47.075347900390625, 'Gaming': 45.342342376708984, 'LowerStretching': 42.03501892089844, 'Patting': 52.17099380493164, 'Greeting': 43.86664581298828}, 'LowerBody': {'All': 85.2458267211914, 'Reacting': 71.69971466064453, 'UpperStretching': 86.76602935791016, 'Walking': 88.5430679321289, 'Talking': 58.57423782348633, 'Gesticuling': 60.27242660522461, 'Gaming': 71.32058715820312, 'LowerStretching': 88.75767517089844, 'Patting': 87.06182098388672, 'Greeting': 56.938018798828125}}\n"
     ]
    },
    {
     "name": "stderr",
     "output_type": "stream",
     "text": [
      " 93%|█████████▎| 5001/5352 [11:15<00:53,  6.57it/s]"
     ]
    },
    {
     "name": "stdout",
     "output_type": "stream",
     "text": [
      "{'FullBody': {'All': 69.76366424560547, 'Reacting': 62.16036605834961, 'UpperStretching': 73.71981811523438, 'Walking': 67.45447540283203, 'Talking': 50.0795783996582, 'Gesticuling': 53.73698425292969, 'Gaming': 58.36470413208008, 'LowerStretching': 65.42691802978516, 'Patting': 69.64630889892578, 'Greeting': 50.31538009643555}, 'UpperBody': {'All': 54.26955032348633, 'Reacting': 52.727176666259766, 'UpperStretching': 60.69732666015625, 'Walking': 46.27322006225586, 'Talking': 41.51628112792969, 'Gesticuling': 47.05629348754883, 'Gaming': 45.21315383911133, 'LowerStretching': 42.046836853027344, 'Patting': 52.331783294677734, 'Greeting': 43.777618408203125}, 'LowerBody': {'All': 85.25777435302734, 'Reacting': 71.59355163574219, 'UpperStretching': 86.7423095703125, 'Walking': 88.63573455810547, 'Talking': 58.64286804199219, 'Gesticuling': 60.41767883300781, 'Gaming': 71.51625061035156, 'LowerStretching': 88.80699920654297, 'Patting': 86.9608383178711, 'Greeting': 56.8531379699707}}\n"
     ]
    },
    {
     "name": "stderr",
     "output_type": "stream",
     "text": [
      " 97%|█████████▋| 5201/5352 [11:42<00:21,  6.94it/s]"
     ]
    },
    {
     "name": "stdout",
     "output_type": "stream",
     "text": [
      "{'FullBody': {'All': 69.78897094726562, 'Reacting': 62.069698333740234, 'UpperStretching': 73.75621795654297, 'Walking': 67.44246673583984, 'Talking': 50.08271789550781, 'Gesticuling': 53.82746887207031, 'Gaming': 58.38724899291992, 'LowerStretching': 65.43070220947266, 'Patting': 69.48379516601562, 'Greeting': 50.45172119140625}, 'UpperBody': {'All': 54.293697357177734, 'Reacting': 52.64653396606445, 'UpperStretching': 60.734527587890625, 'Walking': 46.23689270019531, 'Talking': 41.5234260559082, 'Gesticuling': 47.22372055053711, 'Gaming': 45.20914840698242, 'LowerStretching': 42.0439338684082, 'Patting': 52.30361557006836, 'Greeting': 43.85300064086914}, 'LowerBody': {'All': 85.28424072265625, 'Reacting': 71.49285888671875, 'UpperStretching': 86.77792358398438, 'Walking': 88.64802551269531, 'Talking': 58.64201354980469, 'Gesticuling': 60.431217193603516, 'Gaming': 71.56535339355469, 'LowerStretching': 88.81747436523438, 'Patting': 86.66399383544922, 'Greeting': 57.05043411254883}}\n"
     ]
    },
    {
     "name": "stderr",
     "output_type": "stream",
     "text": [
      "100%|██████████| 5352/5352 [12:02<00:00,  7.41it/s]\n",
      "\u001b[94m07:23:44 \u001b[92m[INFO]\u001b[94m Main\u001b[0m: Saving evaluation results...\n",
      "\u001b[94m07:23:44 \u001b[92m[INFO]\u001b[94m Main\u001b[0m: Done.\n",
      "\u001b[94m07:23:44 \u001b[92m[INFO]\u001b[94m Main\u001b[0m: Starting demo...\n",
      "  0%|          | 0/5352 [00:00<?, ?it/s]/opt/conda/lib/python3.10/site-packages/torchvision/transforms/transforms.py:329: UserWarning: Argument 'interpolation' of type int is deprecated since 0.13 and will be removed in 0.15. Please use InterpolationMode enum.\n",
      "  warnings.warn(\n",
      "/opt/conda/lib/python3.10/site-packages/torchvision/transforms/transforms.py:329: UserWarning: Argument 'interpolation' of type int is deprecated since 0.13 and will be removed in 0.15. Please use InterpolationMode enum.\n",
      "  warnings.warn(\n",
      "/opt/conda/lib/python3.10/site-packages/torchvision/transforms/transforms.py:329: UserWarning: Argument 'interpolation' of type int is deprecated since 0.13 and will be removed in 0.15. Please use InterpolationMode enum.\n",
      "  warnings.warn(\n",
      "/opt/conda/lib/python3.10/site-packages/torchvision/transforms/transforms.py:329: UserWarning: Argument 'interpolation' of type int is deprecated since 0.13 and will be removed in 0.15. Please use InterpolationMode enum.\n",
      "  warnings.warn(\n",
      "/opt/conda/lib/python3.10/site-packages/torchvision/transforms/transforms.py:329: UserWarning: Argument 'interpolation' of type int is deprecated since 0.13 and will be removed in 0.15. Please use InterpolationMode enum.\n",
      "  warnings.warn(\n",
      "/opt/conda/lib/python3.10/site-packages/torchvision/transforms/transforms.py:329: UserWarning: Argument 'interpolation' of type int is deprecated since 0.13 and will be removed in 0.15. Please use InterpolationMode enum.\n",
      "  warnings.warn(\n",
      "/opt/conda/lib/python3.10/site-packages/torchvision/transforms/transforms.py:329: UserWarning: Argument 'interpolation' of type int is deprecated since 0.13 and will be removed in 0.15. Please use InterpolationMode enum.\n",
      "  warnings.warn(\n",
      "/opt/conda/lib/python3.10/site-packages/torchvision/transforms/transforms.py:329: UserWarning: Argument 'interpolation' of type int is deprecated since 0.13 and will be removed in 0.15. Please use InterpolationMode enum.\n",
      "  warnings.warn(\n",
      "/opt/conda/lib/python3.10/site-packages/torchvision/transforms/transforms.py:329: UserWarning: Argument 'interpolation' of type int is deprecated since 0.13 and will be removed in 0.15. Please use InterpolationMode enum.\n",
      "  warnings.warn(\n",
      "/opt/conda/lib/python3.10/site-packages/torchvision/transforms/transforms.py:329: UserWarning: Argument 'interpolation' of type int is deprecated since 0.13 and will be removed in 0.15. Please use InterpolationMode enum.\n",
      "  warnings.warn(\n",
      "/opt/conda/lib/python3.10/site-packages/torchvision/transforms/transforms.py:329: UserWarning: Argument 'interpolation' of type int is deprecated since 0.13 and will be removed in 0.15. Please use InterpolationMode enum.\n",
      "  warnings.warn(\n",
      "/opt/conda/lib/python3.10/site-packages/torchvision/transforms/transforms.py:329: UserWarning: Argument 'interpolation' of type int is deprecated since 0.13 and will be removed in 0.15. Please use InterpolationMode enum.\n",
      "  warnings.warn(\n",
      "/opt/conda/lib/python3.10/site-packages/torchvision/transforms/transforms.py:329: UserWarning: Argument 'interpolation' of type int is deprecated since 0.13 and will be removed in 0.15. Please use InterpolationMode enum.\n",
      "  warnings.warn(\n",
      "/opt/conda/lib/python3.10/site-packages/torchvision/transforms/transforms.py:329: UserWarning: Argument 'interpolation' of type int is deprecated since 0.13 and will be removed in 0.15. Please use InterpolationMode enum.\n",
      "  warnings.warn(\n",
      "/opt/conda/lib/python3.10/site-packages/torchvision/transforms/transforms.py:329: UserWarning: Argument 'interpolation' of type int is deprecated since 0.13 and will be removed in 0.15. Please use InterpolationMode enum.\n",
      "  warnings.warn(\n",
      "/opt/conda/lib/python3.10/site-packages/torchvision/transforms/transforms.py:329: UserWarning: Argument 'interpolation' of type int is deprecated since 0.13 and will be removed in 0.15. Please use InterpolationMode enum.\n",
      "  warnings.warn(\n",
      "/opt/conda/lib/python3.10/site-packages/torchvision/transforms/transforms.py:329: UserWarning: Argument 'interpolation' of type int is deprecated since 0.13 and will be removed in 0.15. Please use InterpolationMode enum.\n",
      "  warnings.warn(\n",
      "/opt/conda/lib/python3.10/site-packages/torchvision/transforms/transforms.py:329: UserWarning: Argument 'interpolation' of type int is deprecated since 0.13 and will be removed in 0.15. Please use InterpolationMode enum.\n",
      "  warnings.warn(\n",
      "/opt/conda/lib/python3.10/site-packages/torchvision/transforms/transforms.py:329: UserWarning: Argument 'interpolation' of type int is deprecated since 0.13 and will be removed in 0.15. Please use InterpolationMode enum.\n",
      "  warnings.warn(\n",
      "/opt/conda/lib/python3.10/site-packages/torchvision/transforms/transforms.py:329: UserWarning: Argument 'interpolation' of type int is deprecated since 0.13 and will be removed in 0.15. Please use InterpolationMode enum.\n",
      "  warnings.warn(\n",
      "/opt/conda/lib/python3.10/site-packages/torchvision/transforms/transforms.py:329: UserWarning: Argument 'interpolation' of type int is deprecated since 0.13 and will be removed in 0.15. Please use InterpolationMode enum.\n",
      "  warnings.warn(\n",
      "/opt/conda/lib/python3.10/site-packages/torchvision/transforms/transforms.py:329: UserWarning: Argument 'interpolation' of type int is deprecated since 0.13 and will be removed in 0.15. Please use InterpolationMode enum.\n",
      "  warnings.warn(\n",
      "/opt/conda/lib/python3.10/site-packages/torchvision/transforms/transforms.py:329: UserWarning: Argument 'interpolation' of type int is deprecated since 0.13 and will be removed in 0.15. Please use InterpolationMode enum.\n",
      "  warnings.warn(\n",
      "/opt/conda/lib/python3.10/site-packages/torchvision/transforms/transforms.py:329: UserWarning: Argument 'interpolation' of type int is deprecated since 0.13 and will be removed in 0.15. Please use InterpolationMode enum.\n",
      "  warnings.warn(\n",
      "  4%|▍         | 201/5352 [00:32<10:58,  7.82it/s]"
     ]
    },
    {
     "name": "stdout",
     "output_type": "stream",
     "text": [
      "{'FullBody': {'All': 72.57955932617188, 'UpperStretching': 75.60477447509766, 'LowerStretching': 67.57215118408203, 'Reacting': 68.37615966796875, 'Talking': 54.58360290527344, 'Walking': 72.16409301757812, 'Gesticuling': 58.84579086303711, 'Gaming': 68.21953582763672, 'Patting': 71.85330200195312, 'Greeting': 57.7604866027832}, 'UpperBody': {'All': 54.70024490356445, 'UpperStretching': 60.07133865356445, 'LowerStretching': 43.97850036621094, 'Reacting': 53.05857849121094, 'Talking': 40.288692474365234, 'Walking': 49.83255386352539, 'Gesticuling': 48.772953033447266, 'Gaming': 45.57137680053711, 'Patting': 50.858646392822266, 'Greeting': 44.87683868408203}, 'LowerBody': {'All': 90.45887756347656, 'UpperStretching': 91.13821411132812, 'LowerStretching': 91.1657943725586, 'Reacting': 83.69374084472656, 'Talking': 68.87850952148438, 'Walking': 94.49562072753906, 'Gesticuling': 68.91862487792969, 'Gaming': 90.8676986694336, 'Patting': 92.84793853759766, 'Greeting': 70.64413452148438}}\n"
     ]
    },
    {
     "name": "stderr",
     "output_type": "stream",
     "text": [
      "  7%|▋         | 401/5352 [00:59<10:42,  7.70it/s]"
     ]
    },
    {
     "name": "stdout",
     "output_type": "stream",
     "text": [
      "{'FullBody': {'All': 71.786376953125, 'UpperStretching': 74.68163299560547, 'LowerStretching': 67.09211730957031, 'Reacting': 64.91378021240234, 'Talking': 53.591552734375, 'Walking': 71.9088134765625, 'Gesticuling': 58.14008712768555, 'Gaming': 66.31310272216797, 'Patting': 75.41609191894531, 'Greeting': 58.360252380371094}, 'UpperBody': {'All': 54.0793571472168, 'UpperStretching': 59.223209381103516, 'LowerStretching': 43.65477752685547, 'Reacting': 49.98674774169922, 'Talking': 39.888160705566406, 'Walking': 49.84487533569336, 'Gesticuling': 47.268516540527344, 'Gaming': 45.1812629699707, 'Patting': 54.408199310302734, 'Greeting': 44.23758316040039}, 'LowerBody': {'All': 89.49340057373047, 'UpperStretching': 90.14004516601562, 'LowerStretching': 90.52945709228516, 'Reacting': 79.84081268310547, 'Talking': 67.29493713378906, 'Walking': 93.9727554321289, 'Gesticuling': 69.01165771484375, 'Gaming': 87.44493865966797, 'Patting': 96.4239730834961, 'Greeting': 72.4829330444336}}\n"
     ]
    },
    {
     "name": "stderr",
     "output_type": "stream",
     "text": [
      " 11%|█         | 601/5352 [01:26<10:10,  7.78it/s]"
     ]
    },
    {
     "name": "stdout",
     "output_type": "stream",
     "text": [
      "{'FullBody': {'All': 71.68505096435547, 'UpperStretching': 74.63349151611328, 'LowerStretching': 67.67379760742188, 'Reacting': 66.07923126220703, 'Talking': 53.589637756347656, 'Walking': 71.10346221923828, 'Gesticuling': 58.13022994995117, 'Gaming': 64.95720672607422, 'Patting': 71.5306167602539, 'Greeting': 58.68647003173828}, 'UpperBody': {'All': 54.012447357177734, 'UpperStretching': 59.302520751953125, 'LowerStretching': 43.81548309326172, 'Reacting': 51.531089782714844, 'Talking': 39.66318893432617, 'Walking': 49.24888229370117, 'Gesticuling': 46.772037506103516, 'Gaming': 44.74654006958008, 'Patting': 50.96566390991211, 'Greeting': 44.45814895629883}, 'LowerBody': {'All': 89.3576431274414, 'UpperStretching': 89.96446990966797, 'LowerStretching': 91.53211212158203, 'Reacting': 80.62736511230469, 'Talking': 67.5160903930664, 'Walking': 92.95804595947266, 'Gesticuling': 69.48841857910156, 'Gaming': 85.16786193847656, 'Patting': 92.0955810546875, 'Greeting': 72.91480255126953}}\n"
     ]
    },
    {
     "name": "stderr",
     "output_type": "stream",
     "text": [
      " 15%|█▍        | 801/5352 [01:53<10:28,  7.24it/s]"
     ]
    },
    {
     "name": "stdout",
     "output_type": "stream",
     "text": [
      "{'FullBody': {'All': 71.53707885742188, 'UpperStretching': 74.5054702758789, 'LowerStretching': 67.476318359375, 'Reacting': 65.80499267578125, 'Talking': 54.12474822998047, 'Walking': 71.10957336425781, 'Gesticuling': 58.775455474853516, 'Gaming': 64.2124252319336, 'Patting': 73.05120086669922, 'Greeting': 58.86913299560547}, 'UpperBody': {'All': 53.89271926879883, 'UpperStretching': 59.29540252685547, 'LowerStretching': 43.643253326416016, 'Reacting': 50.85712814331055, 'Talking': 39.83735656738281, 'Walking': 49.066688537597656, 'Gesticuling': 47.23993682861328, 'Gaming': 44.8608512878418, 'Patting': 51.349491119384766, 'Greeting': 44.885738372802734}, 'LowerBody': {'All': 89.18142700195312, 'UpperStretching': 89.71551513671875, 'LowerStretching': 91.30937957763672, 'Reacting': 80.75286865234375, 'Talking': 68.41214752197266, 'Walking': 93.1524658203125, 'Gesticuling': 70.31096649169922, 'Gaming': 83.56399536132812, 'Patting': 94.75291442871094, 'Greeting': 72.85253143310547}}\n"
     ]
    },
    {
     "name": "stderr",
     "output_type": "stream",
     "text": [
      " 19%|█▊        | 1001/5352 [02:19<09:37,  7.53it/s]"
     ]
    },
    {
     "name": "stdout",
     "output_type": "stream",
     "text": [
      "{'FullBody': {'All': 71.73601531982422, 'UpperStretching': 74.7988052368164, 'LowerStretching': 67.28952026367188, 'Reacting': 66.33418273925781, 'Talking': 54.3964958190918, 'Walking': 71.21131134033203, 'Gesticuling': 58.300148010253906, 'Gaming': 64.32051849365234, 'Patting': 74.91609191894531, 'Greeting': 59.181514739990234}, 'UpperBody': {'All': 54.07612609863281, 'UpperStretching': 59.60420227050781, 'LowerStretching': 43.568359375, 'Reacting': 50.71372985839844, 'Talking': 39.84720993041992, 'Walking': 49.08983612060547, 'Gesticuling': 46.674537658691406, 'Gaming': 45.119319915771484, 'Patting': 52.50738525390625, 'Greeting': 44.97483444213867}, 'LowerBody': {'All': 89.3958969116211, 'UpperStretching': 89.99341583251953, 'LowerStretching': 91.01068878173828, 'Reacting': 81.95463562011719, 'Talking': 68.94579315185547, 'Walking': 93.33279418945312, 'Gesticuling': 69.9257583618164, 'Gaming': 83.5217056274414, 'Patting': 97.32479095458984, 'Greeting': 73.38818359375}}\n"
     ]
    },
    {
     "name": "stderr",
     "output_type": "stream",
     "text": [
      " 22%|██▏       | 1201/5352 [02:46<10:17,  6.72it/s]"
     ]
    },
    {
     "name": "stdout",
     "output_type": "stream",
     "text": [
      "{'FullBody': {'All': 71.7294692993164, 'UpperStretching': 74.88993835449219, 'LowerStretching': 67.13908386230469, 'Reacting': 66.2557373046875, 'Talking': 54.222286224365234, 'Walking': 70.85131072998047, 'Gesticuling': 58.08269500732422, 'Gaming': 64.76026916503906, 'Patting': 76.07414245605469, 'Greeting': 59.3157844543457}, 'UpperBody': {'All': 54.139400482177734, 'UpperStretching': 59.76585006713867, 'LowerStretching': 43.44401550292969, 'Reacting': 51.11408996582031, 'Talking': 39.916473388671875, 'Walking': 48.766258239746094, 'Gesticuling': 46.782344818115234, 'Gaming': 45.48058319091797, 'Patting': 53.43753433227539, 'Greeting': 44.77415466308594}, 'LowerBody': {'All': 89.31952667236328, 'UpperStretching': 90.01403045654297, 'LowerStretching': 90.83415222167969, 'Reacting': 81.39738464355469, 'Talking': 68.52811431884766, 'Walking': 92.93636322021484, 'Gesticuling': 69.38304138183594, 'Gaming': 84.0399398803711, 'Patting': 98.71076202392578, 'Greeting': 73.8573989868164}}\n"
     ]
    },
    {
     "name": "stderr",
     "output_type": "stream",
     "text": [
      " 26%|██▌       | 1401/5352 [03:13<08:56,  7.37it/s]"
     ]
    },
    {
     "name": "stdout",
     "output_type": "stream",
     "text": [
      "{'FullBody': {'All': 71.69964599609375, 'UpperStretching': 74.97750854492188, 'LowerStretching': 66.94482421875, 'Reacting': 66.33345031738281, 'Talking': 54.54180908203125, 'Walking': 70.59613800048828, 'Gesticuling': 58.0882568359375, 'Gaming': 64.79481506347656, 'Patting': 75.38591003417969, 'Greeting': 58.828861236572266}, 'UpperBody': {'All': 54.1834602355957, 'UpperStretching': 59.98043441772461, 'LowerStretching': 43.34671401977539, 'Reacting': 50.99131774902344, 'Talking': 40.313690185546875, 'Walking': 48.48933792114258, 'Gesticuling': 46.56001663208008, 'Gaming': 45.76896667480469, 'Patting': 52.65324401855469, 'Greeting': 44.09821319580078}, 'LowerBody': {'All': 89.2158203125, 'UpperStretching': 89.9745864868164, 'LowerStretching': 90.54293823242188, 'Reacting': 81.67558288574219, 'Talking': 68.7699203491211, 'Walking': 92.70293426513672, 'Gesticuling': 69.61650085449219, 'Gaming': 83.8206558227539, 'Patting': 98.11856842041016, 'Greeting': 73.55950927734375}}\n"
     ]
    },
    {
     "name": "stderr",
     "output_type": "stream",
     "text": [
      " 30%|██▉       | 1601/5352 [03:40<09:14,  6.77it/s]"
     ]
    },
    {
     "name": "stdout",
     "output_type": "stream",
     "text": [
      "{'FullBody': {'All': 71.6124038696289, 'UpperStretching': 74.80509185791016, 'LowerStretching': 67.02711486816406, 'Reacting': 66.52915954589844, 'Talking': 54.31804656982422, 'Walking': 70.46511840820312, 'Gesticuling': 58.37455749511719, 'Gaming': 64.86641693115234, 'Patting': 75.16004180908203, 'Greeting': 58.976707458496094}, 'UpperBody': {'All': 54.109134674072266, 'UpperStretching': 59.82560348510742, 'LowerStretching': 43.406883239746094, 'Reacting': 51.084197998046875, 'Talking': 39.96502685546875, 'Walking': 48.37436294555664, 'Gesticuling': 46.68428039550781, 'Gaming': 45.85663986206055, 'Patting': 53.02298355102539, 'Greeting': 44.25171661376953}, 'LowerBody': {'All': 89.11566162109375, 'UpperStretching': 89.78459930419922, 'LowerStretching': 90.64735412597656, 'Reacting': 81.97412872314453, 'Talking': 68.67106628417969, 'Walking': 92.55587768554688, 'Gesticuling': 70.06482696533203, 'Gaming': 83.8761978149414, 'Patting': 97.29710388183594, 'Greeting': 73.70169067382812}}\n"
     ]
    },
    {
     "name": "stderr",
     "output_type": "stream",
     "text": [
      " 34%|███▎      | 1801/5352 [04:06<07:39,  7.74it/s]"
     ]
    },
    {
     "name": "stdout",
     "output_type": "stream",
     "text": [
      "{'FullBody': {'All': 71.670654296875, 'UpperStretching': 74.87094116210938, 'LowerStretching': 67.17326354980469, 'Reacting': 66.45448303222656, 'Talking': 54.45163345336914, 'Walking': 70.43819427490234, 'Gesticuling': 58.23991012573242, 'Gaming': 64.60615539550781, 'Patting': 75.76416778564453, 'Greeting': 58.724143981933594}, 'UpperBody': {'All': 54.16387939453125, 'UpperStretching': 59.8753547668457, 'LowerStretching': 43.51102828979492, 'Reacting': 51.19538879394531, 'Talking': 40.011173248291016, 'Walking': 48.40774917602539, 'Gesticuling': 46.715049743652344, 'Gaming': 45.94705581665039, 'Patting': 53.35952377319336, 'Greeting': 43.94906997680664}, 'LowerBody': {'All': 89.17742156982422, 'UpperStretching': 89.86652374267578, 'LowerStretching': 90.83550262451172, 'Reacting': 81.71356964111328, 'Talking': 68.89209747314453, 'Walking': 92.46863555908203, 'Gesticuling': 69.7647705078125, 'Gaming': 83.26525115966797, 'Patting': 98.16879272460938, 'Greeting': 73.49921417236328}}\n"
     ]
    },
    {
     "name": "stderr",
     "output_type": "stream",
     "text": [
      " 37%|███▋      | 2001/5352 [04:33<07:25,  7.52it/s]"
     ]
    },
    {
     "name": "stdout",
     "output_type": "stream",
     "text": [
      "{'FullBody': {'All': 71.65762329101562, 'UpperStretching': 74.87366485595703, 'LowerStretching': 67.11077880859375, 'Reacting': 66.58134460449219, 'Talking': 54.49789810180664, 'Walking': 70.45672607421875, 'Gesticuling': 57.95543670654297, 'Gaming': 64.27853393554688, 'Patting': 75.96484375, 'Greeting': 58.618045806884766}, 'UpperBody': {'All': 54.19965744018555, 'UpperStretching': 59.94330978393555, 'LowerStretching': 43.43850326538086, 'Reacting': 51.2432746887207, 'Talking': 40.21570587158203, 'Walking': 48.40399169921875, 'Gesticuling': 46.446903228759766, 'Gaming': 45.79836654663086, 'Patting': 53.733863830566406, 'Greeting': 43.80070877075195}, 'LowerBody': {'All': 89.11558532714844, 'UpperStretching': 89.80401611328125, 'LowerStretching': 90.78304290771484, 'Reacting': 81.9194107055664, 'Talking': 68.78008270263672, 'Walking': 92.50946044921875, 'Gesticuling': 69.4639663696289, 'Gaming': 82.75870513916016, 'Patting': 98.19580841064453, 'Greeting': 73.43537902832031}}\n"
     ]
    },
    {
     "name": "stderr",
     "output_type": "stream",
     "text": [
      " 41%|████      | 2201/5352 [05:00<06:51,  7.66it/s]"
     ]
    },
    {
     "name": "stdout",
     "output_type": "stream",
     "text": [
      "{'FullBody': {'All': 71.76277923583984, 'UpperStretching': 74.96493530273438, 'LowerStretching': 67.0538330078125, 'Reacting': 66.61470794677734, 'Talking': 54.67866134643555, 'Walking': 70.81122589111328, 'Gesticuling': 58.05598449707031, 'Gaming': 64.11353302001953, 'Patting': 77.36492919921875, 'Greeting': 58.72594451904297}, 'UpperBody': {'All': 54.27949142456055, 'UpperStretching': 60.028438568115234, 'LowerStretching': 43.48952865600586, 'Reacting': 51.241397857666016, 'Talking': 40.434043884277344, 'Walking': 48.523502349853516, 'Gesticuling': 46.51065444946289, 'Gaming': 45.80769729614258, 'Patting': 53.90393829345703, 'Greeting': 43.80159378051758}, 'LowerBody': {'All': 89.24604797363281, 'UpperStretching': 89.90145111083984, 'LowerStretching': 90.61814880371094, 'Reacting': 81.988037109375, 'Talking': 68.92328643798828, 'Walking': 93.09894561767578, 'Gesticuling': 69.60130310058594, 'Gaming': 82.41936492919922, 'Patting': 100.82589721679688, 'Greeting': 73.6502914428711}}\n"
     ]
    },
    {
     "name": "stderr",
     "output_type": "stream",
     "text": [
      " 45%|████▍     | 2401/5352 [05:27<06:54,  7.11it/s]"
     ]
    },
    {
     "name": "stdout",
     "output_type": "stream",
     "text": [
      "{'FullBody': {'All': 71.70817565917969, 'UpperStretching': 74.88711547851562, 'LowerStretching': 66.98262023925781, 'Reacting': 66.69086456298828, 'Talking': 54.60795593261719, 'Walking': 70.82111358642578, 'Gesticuling': 57.88309097290039, 'Gaming': 64.06046295166016, 'Patting': 77.62083435058594, 'Greeting': 58.89915466308594}, 'UpperBody': {'All': 54.21134567260742, 'UpperStretching': 59.965206146240234, 'LowerStretching': 43.379737854003906, 'Reacting': 51.244140625, 'Talking': 40.38651657104492, 'Walking': 48.47005844116211, 'Gesticuling': 46.08762741088867, 'Gaming': 45.85499954223633, 'Patting': 54.2430305480957, 'Greeting': 43.96237564086914}, 'LowerBody': {'All': 89.20499420166016, 'UpperStretching': 89.80902862548828, 'LowerStretching': 90.58551025390625, 'Reacting': 82.13758850097656, 'Talking': 68.82938385009766, 'Walking': 93.17216491699219, 'Gesticuling': 69.67855072021484, 'Gaming': 82.26593017578125, 'Patting': 100.99862670898438, 'Greeting': 73.83594512939453}}\n"
     ]
    },
    {
     "name": "stderr",
     "output_type": "stream",
     "text": [
      " 49%|████▊     | 2601/5352 [05:53<06:13,  7.37it/s]"
     ]
    },
    {
     "name": "stdout",
     "output_type": "stream",
     "text": [
      "{'FullBody': {'All': 71.69450378417969, 'UpperStretching': 74.90301513671875, 'LowerStretching': 67.00060272216797, 'Reacting': 66.73009490966797, 'Talking': 54.734039306640625, 'Walking': 70.63491821289062, 'Gesticuling': 57.79152297973633, 'Gaming': 63.95798873901367, 'Patting': 76.62071990966797, 'Greeting': 58.597633361816406}, 'UpperBody': {'All': 54.228755950927734, 'UpperStretching': 60.005680084228516, 'LowerStretching': 43.369956970214844, 'Reacting': 51.33233642578125, 'Talking': 40.3404541015625, 'Walking': 48.34165573120117, 'Gesticuling': 45.995384216308594, 'Gaming': 45.841156005859375, 'Patting': 53.411834716796875, 'Greeting': 43.74333572387695}, 'LowerBody': {'All': 89.16024780273438, 'UpperStretching': 89.80034637451172, 'LowerStretching': 90.63124084472656, 'Reacting': 82.12786102294922, 'Talking': 69.12762451171875, 'Walking': 92.92818450927734, 'Gesticuling': 69.58766174316406, 'Gaming': 82.0748291015625, 'Patting': 99.82962036132812, 'Greeting': 73.45194244384766}}\n"
     ]
    },
    {
     "name": "stderr",
     "output_type": "stream",
     "text": [
      " 52%|█████▏    | 2801/5352 [06:20<05:55,  7.17it/s]"
     ]
    },
    {
     "name": "stdout",
     "output_type": "stream",
     "text": [
      "{'FullBody': {'All': 71.71144104003906, 'UpperStretching': 74.90538024902344, 'LowerStretching': 67.10106658935547, 'Reacting': 66.77716827392578, 'Talking': 55.10799789428711, 'Walking': 70.65494537353516, 'Gesticuling': 57.709693908691406, 'Gaming': 63.995147705078125, 'Patting': 75.74365234375, 'Greeting': 58.5806999206543}, 'UpperBody': {'All': 54.21651840209961, 'UpperStretching': 59.967308044433594, 'LowerStretching': 43.39643478393555, 'Reacting': 51.40644836425781, 'Talking': 40.65467834472656, 'Walking': 48.386287689208984, 'Gesticuling': 45.767234802246094, 'Gaming': 45.730735778808594, 'Patting': 52.943790435791016, 'Greeting': 43.86238479614258}, 'LowerBody': {'All': 89.20635986328125, 'UpperStretching': 89.84346008300781, 'LowerStretching': 90.80570220947266, 'Reacting': 82.14789581298828, 'Talking': 69.56131744384766, 'Walking': 92.9236068725586, 'Gesticuling': 69.65215301513672, 'Gaming': 82.25955963134766, 'Patting': 98.54351043701172, 'Greeting': 73.29901123046875}}\n"
     ]
    },
    {
     "name": "stderr",
     "output_type": "stream",
     "text": [
      " 56%|█████▌    | 3001/5352 [06:47<05:29,  7.13it/s]"
     ]
    },
    {
     "name": "stdout",
     "output_type": "stream",
     "text": [
      "{'FullBody': {'All': 71.76678466796875, 'UpperStretching': 74.94622802734375, 'LowerStretching': 67.24012756347656, 'Reacting': 66.98165893554688, 'Talking': 55.17717742919922, 'Walking': 70.71363830566406, 'Gesticuling': 57.698951721191406, 'Gaming': 63.83601379394531, 'Patting': 75.12781524658203, 'Greeting': 58.559967041015625}, 'UpperBody': {'All': 54.23859786987305, 'UpperStretching': 59.9376335144043, 'LowerStretching': 43.4901008605957, 'Reacting': 51.660614013671875, 'Talking': 40.85685348510742, 'Walking': 48.446571350097656, 'Gesticuling': 45.80767822265625, 'Gaming': 45.76156997680664, 'Patting': 52.76100540161133, 'Greeting': 43.8976936340332}, 'LowerBody': {'All': 89.29496765136719, 'UpperStretching': 89.95482635498047, 'LowerStretching': 90.99015045166016, 'Reacting': 82.30269622802734, 'Talking': 69.49751281738281, 'Walking': 92.98069763183594, 'Gesticuling': 69.59021759033203, 'Gaming': 81.91045379638672, 'Patting': 97.49462890625, 'Greeting': 73.22222137451172}}\n"
     ]
    },
    {
     "name": "stderr",
     "output_type": "stream",
     "text": [
      " 60%|█████▉    | 3201/5352 [07:14<04:50,  7.41it/s]"
     ]
    },
    {
     "name": "stdout",
     "output_type": "stream",
     "text": [
      "{'FullBody': {'All': 71.77362060546875, 'UpperStretching': 74.92301940917969, 'LowerStretching': 67.37265014648438, 'Reacting': 66.85938262939453, 'Talking': 55.017578125, 'Walking': 70.61991119384766, 'Gesticuling': 57.828914642333984, 'Gaming': 63.961891174316406, 'Patting': 75.41327667236328, 'Greeting': 58.70384216308594}, 'UpperBody': {'All': 54.2374267578125, 'UpperStretching': 59.9266357421875, 'LowerStretching': 43.53508377075195, 'Reacting': 51.46690368652344, 'Talking': 40.671932220458984, 'Walking': 48.4149284362793, 'Gesticuling': 45.95267868041992, 'Gaming': 45.75648498535156, 'Patting': 53.1169548034668, 'Greeting': 44.005767822265625}, 'LowerBody': {'All': 89.309814453125, 'UpperStretching': 89.91940307617188, 'LowerStretching': 91.2102279663086, 'Reacting': 82.25187683105469, 'Talking': 69.36322021484375, 'Walking': 92.82489776611328, 'Gesticuling': 69.70516204833984, 'Gaming': 82.16731262207031, 'Patting': 97.70958709716797, 'Greeting': 73.40192413330078}}\n"
     ]
    },
    {
     "name": "stderr",
     "output_type": "stream",
     "text": [
      " 64%|██████▎   | 3401/5352 [07:41<04:26,  7.32it/s]"
     ]
    },
    {
     "name": "stdout",
     "output_type": "stream",
     "text": [
      "{'FullBody': {'All': 71.81856536865234, 'UpperStretching': 74.9356918334961, 'LowerStretching': 67.46797180175781, 'Reacting': 66.86502075195312, 'Talking': 55.114315032958984, 'Walking': 70.67350769042969, 'Gesticuling': 57.98278045654297, 'Gaming': 63.80607986450195, 'Patting': 75.63128662109375, 'Greeting': 58.59495162963867}, 'UpperBody': {'All': 54.25624084472656, 'UpperStretching': 59.90724563598633, 'LowerStretching': 43.614501953125, 'Reacting': 51.53125, 'Talking': 40.85439682006836, 'Walking': 48.380836486816406, 'Gesticuling': 46.08271026611328, 'Gaming': 45.711761474609375, 'Patting': 53.36128234863281, 'Greeting': 43.9874382019043}, 'LowerBody': {'All': 89.3808822631836, 'UpperStretching': 89.9641342163086, 'LowerStretching': 91.32144927978516, 'Reacting': 82.19879150390625, 'Talking': 69.37423706054688, 'Walking': 92.96617889404297, 'Gesticuling': 69.88285064697266, 'Gaming': 81.90039825439453, 'Patting': 97.90129089355469, 'Greeting': 73.20246887207031}}\n"
     ]
    },
    {
     "name": "stderr",
     "output_type": "stream",
     "text": [
      " 67%|██████▋   | 3601/5352 [08:08<04:05,  7.12it/s]"
     ]
    },
    {
     "name": "stdout",
     "output_type": "stream",
     "text": [
      "{'FullBody': {'All': 71.88817596435547, 'UpperStretching': 75.04364776611328, 'LowerStretching': 67.3732681274414, 'Reacting': 67.1067123413086, 'Talking': 55.022769927978516, 'Walking': 70.7450942993164, 'Gesticuling': 58.07685470581055, 'Gaming': 63.90581130981445, 'Patting': 76.06588745117188, 'Greeting': 58.409706115722656}, 'UpperBody': {'All': 54.30672836303711, 'UpperStretching': 59.9844856262207, 'LowerStretching': 43.581329345703125, 'Reacting': 51.62379455566406, 'Talking': 40.68230438232422, 'Walking': 48.4146614074707, 'Gesticuling': 46.03645706176758, 'Gaming': 45.861846923828125, 'Patting': 53.65843200683594, 'Greeting': 43.79512023925781}, 'LowerBody': {'All': 89.46961975097656, 'UpperStretching': 90.10281372070312, 'LowerStretching': 91.16519927978516, 'Reacting': 82.58963775634766, 'Talking': 69.36323547363281, 'Walking': 93.07552337646484, 'Gesticuling': 70.11725616455078, 'Gaming': 81.94979095458984, 'Patting': 98.47335052490234, 'Greeting': 73.02428436279297}}\n"
     ]
    },
    {
     "name": "stderr",
     "output_type": "stream",
     "text": [
      " 71%|███████   | 3801/5352 [08:34<03:41,  6.99it/s]"
     ]
    },
    {
     "name": "stdout",
     "output_type": "stream",
     "text": [
      "{'FullBody': {'All': 71.87712860107422, 'UpperStretching': 75.02284240722656, 'LowerStretching': 67.45081329345703, 'Reacting': 67.13533782958984, 'Talking': 54.97256088256836, 'Walking': 70.64107513427734, 'Gesticuling': 58.051124572753906, 'Gaming': 63.700439453125, 'Patting': 76.098876953125, 'Greeting': 58.28341293334961}, 'UpperBody': {'All': 54.301246643066406, 'UpperStretching': 59.969932556152344, 'LowerStretching': 43.60670471191406, 'Reacting': 51.69062805175781, 'Talking': 40.673667907714844, 'Walking': 48.376808166503906, 'Gesticuling': 46.07462692260742, 'Gaming': 45.87519454956055, 'Patting': 53.5090446472168, 'Greeting': 43.647499084472656}, 'LowerBody': {'All': 89.45301055908203, 'UpperStretching': 90.07575225830078, 'LowerStretching': 91.29493713378906, 'Reacting': 82.58003997802734, 'Talking': 69.2714614868164, 'Walking': 92.90535736083984, 'Gesticuling': 70.02762603759766, 'Gaming': 81.52566528320312, 'Patting': 98.68871307373047, 'Greeting': 72.91932678222656}}\n"
     ]
    },
    {
     "name": "stderr",
     "output_type": "stream",
     "text": [
      " 75%|███████▍  | 4001/5352 [09:01<03:18,  6.81it/s]"
     ]
    },
    {
     "name": "stdout",
     "output_type": "stream",
     "text": [
      "{'FullBody': {'All': 71.83672332763672, 'UpperStretching': 74.9789047241211, 'LowerStretching': 67.43643188476562, 'Reacting': 67.01415252685547, 'Talking': 55.07856750488281, 'Walking': 70.58216094970703, 'Gesticuling': 58.13372039794922, 'Gaming': 63.639625549316406, 'Patting': 75.74291229248047, 'Greeting': 58.181365966796875}, 'UpperBody': {'All': 54.276187896728516, 'UpperStretching': 59.93229293823242, 'LowerStretching': 43.61175537109375, 'Reacting': 51.640647888183594, 'Talking': 40.789764404296875, 'Walking': 48.354610443115234, 'Gesticuling': 46.190425872802734, 'Gaming': 45.774864196777344, 'Patting': 53.1346321105957, 'Greeting': 43.478206634521484}, 'LowerBody': {'All': 89.39726257324219, 'UpperStretching': 90.02552032470703, 'LowerStretching': 91.26112365722656, 'Reacting': 82.38764190673828, 'Talking': 69.36737060546875, 'Walking': 92.8097152709961, 'Gesticuling': 70.07701110839844, 'Gaming': 81.50438690185547, 'Patting': 98.35118865966797, 'Greeting': 72.88450622558594}}\n"
     ]
    },
    {
     "name": "stderr",
     "output_type": "stream",
     "text": [
      " 78%|███████▊  | 4201/5352 [09:28<03:00,  6.39it/s]"
     ]
    },
    {
     "name": "stdout",
     "output_type": "stream",
     "text": [
      "{'FullBody': {'All': 71.86092376708984, 'UpperStretching': 74.98503875732422, 'LowerStretching': 67.43730926513672, 'Reacting': 67.03590393066406, 'Talking': 55.301475524902344, 'Walking': 70.63158416748047, 'Gesticuling': 58.04818344116211, 'Gaming': 63.52206039428711, 'Patting': 76.13426208496094, 'Greeting': 58.441707611083984}, 'UpperBody': {'All': 54.30955505371094, 'UpperStretching': 59.93971633911133, 'LowerStretching': 43.607704162597656, 'Reacting': 51.66514587402344, 'Talking': 40.827980041503906, 'Walking': 48.41524887084961, 'Gesticuling': 46.135009765625, 'Gaming': 45.680362701416016, 'Patting': 53.46841049194336, 'Greeting': 43.65669631958008}, 'LowerBody': {'All': 89.41229248046875, 'UpperStretching': 90.03036499023438, 'LowerStretching': 91.26692199707031, 'Reacting': 82.40666961669922, 'Talking': 69.77497100830078, 'Walking': 92.84793090820312, 'Gesticuling': 69.96135711669922, 'Gaming': 81.36376190185547, 'Patting': 98.80010986328125, 'Greeting': 73.22672271728516}}\n"
     ]
    },
    {
     "name": "stderr",
     "output_type": "stream",
     "text": [
      " 82%|████████▏ | 4401/5352 [09:55<02:12,  7.17it/s]"
     ]
    },
    {
     "name": "stdout",
     "output_type": "stream",
     "text": [
      "{'FullBody': {'All': 71.82746124267578, 'UpperStretching': 74.9333267211914, 'LowerStretching': 67.52545928955078, 'Reacting': 66.8021240234375, 'Talking': 55.228302001953125, 'Walking': 70.62516021728516, 'Gesticuling': 58.121376037597656, 'Gaming': 63.61325454711914, 'Patting': 75.728759765625, 'Greeting': 58.441837310791016}, 'UpperBody': {'All': 54.29838943481445, 'UpperStretching': 59.93961715698242, 'LowerStretching': 43.65433883666992, 'Reacting': 51.614078521728516, 'Talking': 40.79444885253906, 'Walking': 48.40580749511719, 'Gesticuling': 46.197811126708984, 'Gaming': 45.806434631347656, 'Patting': 53.1407585144043, 'Greeting': 43.652374267578125}, 'LowerBody': {'All': 89.35652923583984, 'UpperStretching': 89.92703247070312, 'LowerStretching': 91.39657592773438, 'Reacting': 81.99018096923828, 'Talking': 69.66215515136719, 'Walking': 92.84452056884766, 'Gesticuling': 70.0449447631836, 'Gaming': 81.42007446289062, 'Patting': 98.3167724609375, 'Greeting': 73.23129272460938}}\n"
     ]
    },
    {
     "name": "stderr",
     "output_type": "stream",
     "text": [
      " 86%|████████▌ | 4600/5352 [10:21<01:49,  6.87it/s]"
     ]
    },
    {
     "name": "stdout",
     "output_type": "stream",
     "text": [
      "{'FullBody': {'All': 71.78107452392578, 'UpperStretching': 74.84288024902344, 'LowerStretching': 67.63729095458984, 'Reacting': 66.75452423095703, 'Talking': 55.15568923950195, 'Walking': 70.60005187988281, 'Gesticuling': 58.116634368896484, 'Gaming': 63.645599365234375, 'Patting': 75.39337921142578, 'Greeting': 58.36723709106445}, 'UpperBody': {'All': 54.2662239074707, 'UpperStretching': 59.87696838378906, 'LowerStretching': 43.70295333862305, 'Reacting': 51.61872482299805, 'Talking': 40.74908447265625, 'Walking': 48.3991584777832, 'Gesticuling': 46.135406494140625, 'Gaming': 45.85340881347656, 'Patting': 52.95195770263672, 'Greeting': 43.645198822021484}, 'LowerBody': {'All': 89.2959213256836, 'UpperStretching': 89.80879211425781, 'LowerStretching': 91.5716323852539, 'Reacting': 81.89033508300781, 'Talking': 69.56230163574219, 'Walking': 92.80093383789062, 'Gesticuling': 70.09786224365234, 'Gaming': 81.43777465820312, 'Patting': 97.83479309082031, 'Greeting': 73.08927154541016}}\n"
     ]
    },
    {
     "name": "stderr",
     "output_type": "stream",
     "text": [
      " 90%|████████▉ | 4801/5352 [10:49<01:20,  6.85it/s]"
     ]
    },
    {
     "name": "stdout",
     "output_type": "stream",
     "text": [
      "{'FullBody': {'All': 71.77217102050781, 'UpperStretching': 74.85128021240234, 'LowerStretching': 67.65390014648438, 'Reacting': 66.99987030029297, 'Talking': 55.07874298095703, 'Walking': 70.55067443847656, 'Gesticuling': 58.00492477416992, 'Gaming': 63.669681549072266, 'Patting': 74.70994567871094, 'Greeting': 58.30035400390625}, 'UpperBody': {'All': 54.26164627075195, 'UpperStretching': 59.89072036743164, 'LowerStretching': 43.69950866699219, 'Reacting': 51.75494384765625, 'Talking': 40.71599197387695, 'Walking': 48.37086486816406, 'Gesticuling': 46.06224060058594, 'Gaming': 45.91438293457031, 'Patting': 52.495277404785156, 'Greeting': 43.60745620727539}, 'LowerBody': {'All': 89.28268432617188, 'UpperStretching': 89.81184387207031, 'LowerStretching': 91.60829162597656, 'Reacting': 82.24478912353516, 'Talking': 69.44149780273438, 'Walking': 92.73047637939453, 'Gesticuling': 69.9476089477539, 'Gaming': 81.42498016357422, 'Patting': 96.92460632324219, 'Greeting': 72.99324798583984}}\n"
     ]
    },
    {
     "name": "stderr",
     "output_type": "stream",
     "text": [
      " 93%|█████████▎| 5000/5352 [11:15<00:52,  6.65it/s]"
     ]
    },
    {
     "name": "stdout",
     "output_type": "stream",
     "text": [
      "{'FullBody': {'All': 71.78267669677734, 'UpperStretching': 74.86613464355469, 'LowerStretching': 67.61510467529297, 'Reacting': 67.09523010253906, 'Talking': 55.04331970214844, 'Walking': 70.54792785644531, 'Gesticuling': 58.02666473388672, 'Gaming': 63.782962799072266, 'Patting': 74.8027114868164, 'Greeting': 58.35322189331055}, 'UpperBody': {'All': 54.28178787231445, 'UpperStretching': 59.91695022583008, 'LowerStretching': 43.67532730102539, 'Reacting': 51.90504837036133, 'Talking': 40.70358657836914, 'Walking': 48.403499603271484, 'Gesticuling': 46.09864807128906, 'Gaming': 45.9685173034668, 'Patting': 52.373661041259766, 'Greeting': 43.5390510559082}, 'LowerBody': {'All': 89.2835693359375, 'UpperStretching': 89.81531524658203, 'LowerStretching': 91.55489349365234, 'Reacting': 82.28541564941406, 'Talking': 69.38304901123047, 'Walking': 92.6923599243164, 'Gesticuling': 69.95468139648438, 'Gaming': 81.597412109375, 'Patting': 97.23177337646484, 'Greeting': 73.16738891601562}}\n"
     ]
    },
    {
     "name": "stderr",
     "output_type": "stream",
     "text": [
      " 97%|█████████▋| 5201/5352 [11:42<00:21,  6.90it/s]"
     ]
    },
    {
     "name": "stdout",
     "output_type": "stream",
     "text": [
      "{'FullBody': {'All': 71.72505187988281, 'UpperStretching': 74.79086303710938, 'LowerStretching': 67.58696746826172, 'Reacting': 67.01136779785156, 'Talking': 55.226043701171875, 'Walking': 70.54314422607422, 'Gesticuling': 58.10369873046875, 'Gaming': 63.791324615478516, 'Patting': 74.31419372558594, 'Greeting': 58.24601745605469}, 'UpperBody': {'All': 54.234092712402344, 'UpperStretching': 59.849159240722656, 'LowerStretching': 43.64302062988281, 'Reacting': 51.882198333740234, 'Talking': 40.800960540771484, 'Walking': 48.37929916381836, 'Gesticuling': 46.27053451538086, 'Gaming': 45.998756408691406, 'Patting': 51.9182014465332, 'Greeting': 43.437068939208984}, 'LowerBody': {'All': 89.21601867675781, 'UpperStretching': 89.73255920410156, 'LowerStretching': 91.53091430664062, 'Reacting': 82.14055633544922, 'Talking': 69.651123046875, 'Walking': 92.70698547363281, 'Gesticuling': 69.93685913085938, 'Gaming': 81.5838851928711, 'Patting': 96.71018981933594, 'Greeting': 73.05496215820312}}\n"
     ]
    },
    {
     "name": "stderr",
     "output_type": "stream",
     "text": [
      "100%|██████████| 5352/5352 [12:02<00:00,  7.40it/s]\n",
      "\u001b[94m07:35:49 \u001b[92m[INFO]\u001b[94m Main\u001b[0m: Saving evaluation results...\n",
      "\u001b[94m07:35:49 \u001b[92m[INFO]\u001b[94m Main\u001b[0m: Done.\n",
      "\u001b[94m07:35:49 \u001b[92m[INFO]\u001b[94m Main\u001b[0m: Starting demo...\n",
      "  0%|          | 0/5352 [00:00<?, ?it/s]/opt/conda/lib/python3.10/site-packages/torchvision/transforms/transforms.py:329: UserWarning: Argument 'interpolation' of type int is deprecated since 0.13 and will be removed in 0.15. Please use InterpolationMode enum.\n",
      "  warnings.warn(\n",
      "/opt/conda/lib/python3.10/site-packages/torchvision/transforms/transforms.py:329: UserWarning: Argument 'interpolation' of type int is deprecated since 0.13 and will be removed in 0.15. Please use InterpolationMode enum.\n",
      "  warnings.warn(\n",
      "/opt/conda/lib/python3.10/site-packages/torchvision/transforms/transforms.py:329: UserWarning: Argument 'interpolation' of type int is deprecated since 0.13 and will be removed in 0.15. Please use InterpolationMode enum.\n",
      "  warnings.warn(\n",
      "/opt/conda/lib/python3.10/site-packages/torchvision/transforms/transforms.py:329: UserWarning: Argument 'interpolation' of type int is deprecated since 0.13 and will be removed in 0.15. Please use InterpolationMode enum.\n",
      "  warnings.warn(\n",
      "/opt/conda/lib/python3.10/site-packages/torchvision/transforms/transforms.py:329: UserWarning: Argument 'interpolation' of type int is deprecated since 0.13 and will be removed in 0.15. Please use InterpolationMode enum.\n",
      "  warnings.warn(\n",
      "/opt/conda/lib/python3.10/site-packages/torchvision/transforms/transforms.py:329: UserWarning: Argument 'interpolation' of type int is deprecated since 0.13 and will be removed in 0.15. Please use InterpolationMode enum.\n",
      "  warnings.warn(\n",
      "/opt/conda/lib/python3.10/site-packages/torchvision/transforms/transforms.py:329: UserWarning: Argument 'interpolation' of type int is deprecated since 0.13 and will be removed in 0.15. Please use InterpolationMode enum.\n",
      "  warnings.warn(\n",
      "/opt/conda/lib/python3.10/site-packages/torchvision/transforms/transforms.py:329: UserWarning: Argument 'interpolation' of type int is deprecated since 0.13 and will be removed in 0.15. Please use InterpolationMode enum.\n",
      "  warnings.warn(\n",
      "/opt/conda/lib/python3.10/site-packages/torchvision/transforms/transforms.py:329: UserWarning: Argument 'interpolation' of type int is deprecated since 0.13 and will be removed in 0.15. Please use InterpolationMode enum.\n",
      "  warnings.warn(\n",
      "/opt/conda/lib/python3.10/site-packages/torchvision/transforms/transforms.py:329: UserWarning: Argument 'interpolation' of type int is deprecated since 0.13 and will be removed in 0.15. Please use InterpolationMode enum.\n",
      "  warnings.warn(\n",
      "/opt/conda/lib/python3.10/site-packages/torchvision/transforms/transforms.py:329: UserWarning: Argument 'interpolation' of type int is deprecated since 0.13 and will be removed in 0.15. Please use InterpolationMode enum.\n",
      "  warnings.warn(\n",
      "/opt/conda/lib/python3.10/site-packages/torchvision/transforms/transforms.py:329: UserWarning: Argument 'interpolation' of type int is deprecated since 0.13 and will be removed in 0.15. Please use InterpolationMode enum.\n",
      "  warnings.warn(\n",
      "/opt/conda/lib/python3.10/site-packages/torchvision/transforms/transforms.py:329: UserWarning: Argument 'interpolation' of type int is deprecated since 0.13 and will be removed in 0.15. Please use InterpolationMode enum.\n",
      "  warnings.warn(\n",
      "/opt/conda/lib/python3.10/site-packages/torchvision/transforms/transforms.py:329: UserWarning: Argument 'interpolation' of type int is deprecated since 0.13 and will be removed in 0.15. Please use InterpolationMode enum.\n",
      "  warnings.warn(\n",
      "/opt/conda/lib/python3.10/site-packages/torchvision/transforms/transforms.py:329: UserWarning: Argument 'interpolation' of type int is deprecated since 0.13 and will be removed in 0.15. Please use InterpolationMode enum.\n",
      "  warnings.warn(\n",
      "/opt/conda/lib/python3.10/site-packages/torchvision/transforms/transforms.py:329: UserWarning: Argument 'interpolation' of type int is deprecated since 0.13 and will be removed in 0.15. Please use InterpolationMode enum.\n",
      "  warnings.warn(\n",
      "/opt/conda/lib/python3.10/site-packages/torchvision/transforms/transforms.py:329: UserWarning: Argument 'interpolation' of type int is deprecated since 0.13 and will be removed in 0.15. Please use InterpolationMode enum.\n",
      "  warnings.warn(\n",
      "/opt/conda/lib/python3.10/site-packages/torchvision/transforms/transforms.py:329: UserWarning: Argument 'interpolation' of type int is deprecated since 0.13 and will be removed in 0.15. Please use InterpolationMode enum.\n",
      "  warnings.warn(\n",
      "/opt/conda/lib/python3.10/site-packages/torchvision/transforms/transforms.py:329: UserWarning: Argument 'interpolation' of type int is deprecated since 0.13 and will be removed in 0.15. Please use InterpolationMode enum.\n",
      "  warnings.warn(\n",
      "/opt/conda/lib/python3.10/site-packages/torchvision/transforms/transforms.py:329: UserWarning: Argument 'interpolation' of type int is deprecated since 0.13 and will be removed in 0.15. Please use InterpolationMode enum.\n",
      "  warnings.warn(\n",
      "/opt/conda/lib/python3.10/site-packages/torchvision/transforms/transforms.py:329: UserWarning: Argument 'interpolation' of type int is deprecated since 0.13 and will be removed in 0.15. Please use InterpolationMode enum.\n",
      "  warnings.warn(\n",
      "/opt/conda/lib/python3.10/site-packages/torchvision/transforms/transforms.py:329: UserWarning: Argument 'interpolation' of type int is deprecated since 0.13 and will be removed in 0.15. Please use InterpolationMode enum.\n",
      "  warnings.warn(\n",
      "/opt/conda/lib/python3.10/site-packages/torchvision/transforms/transforms.py:329: UserWarning: Argument 'interpolation' of type int is deprecated since 0.13 and will be removed in 0.15. Please use InterpolationMode enum.\n",
      "  warnings.warn(\n",
      "/opt/conda/lib/python3.10/site-packages/torchvision/transforms/transforms.py:329: UserWarning: Argument 'interpolation' of type int is deprecated since 0.13 and will be removed in 0.15. Please use InterpolationMode enum.\n",
      "  warnings.warn(\n",
      "  4%|▍         | 201/5352 [00:32<12:31,  6.85it/s]"
     ]
    },
    {
     "name": "stdout",
     "output_type": "stream",
     "text": [
      "{'FullBody': {'All': 77.81257629394531, 'UpperStretching': 81.164794921875, 'Walking': 72.16148376464844, 'LowerStretching': 75.97732543945312, 'Talking': 55.858821868896484, 'Greeting': 58.26030731201172, 'Patting': 86.32406616210938, 'Reacting': 68.47659301757812, 'Gaming': 71.21794128417969, 'Gesticuling': 69.40509033203125}, 'UpperBody': {'All': 56.9251708984375, 'UpperStretching': 63.024383544921875, 'Walking': 49.31769561767578, 'LowerStretching': 45.44445037841797, 'Talking': 41.119354248046875, 'Greeting': 43.94497299194336, 'Patting': 57.05881118774414, 'Reacting': 52.98664093017578, 'Gaming': 48.2335205078125, 'Gesticuling': 53.274566650390625}, 'LowerBody': {'All': 98.69998168945312, 'UpperStretching': 99.30519104003906, 'Walking': 95.00527954101562, 'LowerStretching': 106.51018524169922, 'Talking': 70.59831237792969, 'Greeting': 72.57564544677734, 'Patting': 115.58934020996094, 'Reacting': 83.96653747558594, 'Gaming': 94.20235443115234, 'Gesticuling': 85.53559875488281}}\n"
     ]
    },
    {
     "name": "stderr",
     "output_type": "stream",
     "text": [
      "  7%|▋         | 401/5352 [00:59<11:12,  7.36it/s]"
     ]
    },
    {
     "name": "stdout",
     "output_type": "stream",
     "text": [
      "{'FullBody': {'All': 78.60822296142578, 'UpperStretching': 82.43054962158203, 'Walking': 72.92134857177734, 'LowerStretching': 75.39945220947266, 'Talking': 55.284645080566406, 'Greeting': 61.90242004394531, 'Patting': 86.29216003417969, 'Reacting': 69.71708679199219, 'Gaming': 70.34050750732422, 'Gesticuling': 68.10188293457031}, 'UpperBody': {'All': 58.06919860839844, 'UpperStretching': 64.4068603515625, 'Walking': 49.764060974121094, 'LowerStretching': 45.91324234008789, 'Talking': 40.234554290771484, 'Greeting': 46.12211608886719, 'Patting': 61.472537994384766, 'Reacting': 54.05165100097656, 'Gaming': 47.86547088623047, 'Gesticuling': 55.44412612915039}, 'LowerBody': {'All': 99.14724731445312, 'UpperStretching': 100.4542465209961, 'Walking': 96.0786361694336, 'LowerStretching': 104.88566589355469, 'Talking': 70.33474731445312, 'Greeting': 77.6827163696289, 'Patting': 111.11178588867188, 'Reacting': 85.38249969482422, 'Gaming': 92.81555938720703, 'Gesticuling': 80.75963592529297}}\n"
     ]
    },
    {
     "name": "stderr",
     "output_type": "stream",
     "text": [
      " 11%|█         | 601/5352 [01:26<10:09,  7.79it/s]"
     ]
    },
    {
     "name": "stdout",
     "output_type": "stream",
     "text": [
      "{'FullBody': {'All': 78.42447662353516, 'UpperStretching': 82.15282440185547, 'Walking': 72.97221374511719, 'LowerStretching': 75.29209899902344, 'Talking': 55.49277877807617, 'Greeting': 62.18021011352539, 'Patting': 86.77862548828125, 'Reacting': 70.37589263916016, 'Gaming': 70.17832946777344, 'Gesticuling': 68.0592269897461}, 'UpperBody': {'All': 57.98537063598633, 'UpperStretching': 64.42630004882812, 'Walking': 49.55101776123047, 'LowerStretching': 45.72502517700195, 'Talking': 40.64439010620117, 'Greeting': 45.6533088684082, 'Patting': 60.44527816772461, 'Reacting': 55.25459671020508, 'Gaming': 47.11007308959961, 'Gesticuling': 54.9863166809082}, 'LowerBody': {'All': 98.86359405517578, 'UpperStretching': 99.87936401367188, 'Walking': 96.3934097290039, 'LowerStretching': 104.85916900634766, 'Talking': 70.34115600585938, 'Greeting': 78.70709991455078, 'Patting': 113.11197662353516, 'Reacting': 85.49718475341797, 'Gaming': 93.24658203125, 'Gesticuling': 81.13213348388672}}\n"
     ]
    },
    {
     "name": "stderr",
     "output_type": "stream",
     "text": [
      " 15%|█▍        | 801/5352 [01:53<10:10,  7.46it/s]"
     ]
    },
    {
     "name": "stdout",
     "output_type": "stream",
     "text": [
      "{'FullBody': {'All': 78.21529388427734, 'UpperStretching': 82.0128402709961, 'Walking': 72.6559066772461, 'LowerStretching': 74.7657241821289, 'Talking': 56.008663177490234, 'Greeting': 62.76876449584961, 'Patting': 84.75753021240234, 'Reacting': 71.28807067871094, 'Gaming': 71.33096313476562, 'Gesticuling': 67.35973358154297}, 'UpperBody': {'All': 57.77403259277344, 'UpperStretching': 64.1806411743164, 'Walking': 49.248783111572266, 'LowerStretching': 45.51896286010742, 'Talking': 41.166500091552734, 'Greeting': 47.61838150024414, 'Patting': 59.05186462402344, 'Reacting': 56.14250564575195, 'Gaming': 47.796993255615234, 'Gesticuling': 53.899837493896484}, 'LowerBody': {'All': 98.65656280517578, 'UpperStretching': 99.84503173828125, 'Walking': 96.06303405761719, 'LowerStretching': 104.01251220703125, 'Talking': 70.850830078125, 'Greeting': 77.91915893554688, 'Patting': 110.46321105957031, 'Reacting': 86.43363952636719, 'Gaming': 94.86492156982422, 'Gesticuling': 80.81963348388672}}\n"
     ]
    },
    {
     "name": "stderr",
     "output_type": "stream",
     "text": [
      " 19%|█▊        | 1001/5352 [02:19<09:25,  7.69it/s]"
     ]
    },
    {
     "name": "stdout",
     "output_type": "stream",
     "text": [
      "{'FullBody': {'All': 78.3984146118164, 'UpperStretching': 82.41971588134766, 'Walking': 72.43345642089844, 'LowerStretching': 74.57997131347656, 'Talking': 56.40165710449219, 'Greeting': 62.41102981567383, 'Patting': 85.43243408203125, 'Reacting': 71.02005004882812, 'Gaming': 71.22484588623047, 'Gesticuling': 66.9303207397461}, 'UpperBody': {'All': 57.98893737792969, 'UpperStretching': 64.54081726074219, 'Walking': 49.15769577026367, 'LowerStretching': 45.63934326171875, 'Talking': 41.644927978515625, 'Greeting': 48.02754211425781, 'Patting': 58.644935607910156, 'Reacting': 56.51405334472656, 'Gaming': 48.03230667114258, 'Gesticuling': 53.05866241455078}, 'LowerBody': {'All': 98.80789947509766, 'UpperStretching': 100.2986068725586, 'Walking': 95.70922088623047, 'LowerStretching': 103.52059173583984, 'Talking': 71.15839385986328, 'Greeting': 76.7945327758789, 'Patting': 112.21993255615234, 'Reacting': 85.52603149414062, 'Gaming': 94.4173812866211, 'Gesticuling': 80.8019790649414}}\n"
     ]
    },
    {
     "name": "stderr",
     "output_type": "stream",
     "text": [
      " 22%|██▏       | 1201/5352 [02:46<09:23,  7.37it/s]"
     ]
    },
    {
     "name": "stdout",
     "output_type": "stream",
     "text": [
      "{'FullBody': {'All': 78.35043334960938, 'UpperStretching': 82.26775360107422, 'Walking': 72.6888427734375, 'LowerStretching': 74.53421783447266, 'Talking': 57.57101821899414, 'Greeting': 61.46153259277344, 'Patting': 83.45088958740234, 'Reacting': 72.2256088256836, 'Gaming': 71.3858642578125, 'Gesticuling': 66.77903747558594}, 'UpperBody': {'All': 57.9117431640625, 'UpperStretching': 64.36865997314453, 'Walking': 49.287105560302734, 'LowerStretching': 45.653785705566406, 'Talking': 42.3186149597168, 'Greeting': 47.74604797363281, 'Patting': 58.12619400024414, 'Reacting': 57.09557342529297, 'Gaming': 48.09813690185547, 'Gesticuling': 53.29457092285156}, 'LowerBody': {'All': 98.78911590576172, 'UpperStretching': 100.16683197021484, 'Walking': 96.090576171875, 'LowerStretching': 103.41463470458984, 'Talking': 72.82341766357422, 'Greeting': 75.17701721191406, 'Patting': 108.77558898925781, 'Reacting': 87.35564422607422, 'Gaming': 94.67359161376953, 'Gesticuling': 80.26350402832031}}\n"
     ]
    },
    {
     "name": "stderr",
     "output_type": "stream",
     "text": [
      " 26%|██▌       | 1401/5352 [03:13<08:46,  7.51it/s]"
     ]
    },
    {
     "name": "stdout",
     "output_type": "stream",
     "text": [
      "{'FullBody': {'All': 78.46563720703125, 'UpperStretching': 82.20326232910156, 'Walking': 72.91470336914062, 'LowerStretching': 75.0298080444336, 'Talking': 58.13549041748047, 'Greeting': 61.85797119140625, 'Patting': 83.7702407836914, 'Reacting': 72.27072143554688, 'Gaming': 71.79224395751953, 'Gesticuling': 66.73184967041016}, 'UpperBody': {'All': 57.95005416870117, 'UpperStretching': 64.31466674804688, 'Walking': 49.34049987792969, 'LowerStretching': 45.88461685180664, 'Talking': 42.67881393432617, 'Greeting': 47.6640739440918, 'Patting': 57.140445709228516, 'Reacting': 56.6901741027832, 'Gaming': 48.02350997924805, 'Gesticuling': 53.538169860839844}, 'LowerBody': {'All': 98.98120880126953, 'UpperStretching': 100.09187316894531, 'Walking': 96.48892211914062, 'LowerStretching': 104.17498779296875, 'Talking': 73.5921630859375, 'Greeting': 76.05187225341797, 'Patting': 110.40003204345703, 'Reacting': 87.85126495361328, 'Gaming': 95.56097412109375, 'Gesticuling': 79.92552185058594}}\n"
     ]
    },
    {
     "name": "stderr",
     "output_type": "stream",
     "text": [
      " 30%|██▉       | 1601/5352 [03:39<08:28,  7.38it/s]"
     ]
    },
    {
     "name": "stdout",
     "output_type": "stream",
     "text": [
      "{'FullBody': {'All': 78.53270721435547, 'UpperStretching': 82.45257568359375, 'Walking': 72.85889434814453, 'LowerStretching': 74.84004974365234, 'Talking': 57.869407653808594, 'Greeting': 61.268768310546875, 'Patting': 82.40020751953125, 'Reacting': 72.48596954345703, 'Gaming': 71.65324401855469, 'Gesticuling': 67.11467742919922}, 'UpperBody': {'All': 57.934844970703125, 'UpperStretching': 64.33602905273438, 'Walking': 49.29920196533203, 'LowerStretching': 45.956138610839844, 'Talking': 42.547637939453125, 'Greeting': 47.125770568847656, 'Patting': 56.17216873168945, 'Reacting': 57.16337203979492, 'Gaming': 47.95217514038086, 'Gesticuling': 53.84952163696289}, 'LowerBody': {'All': 99.13057708740234, 'UpperStretching': 100.56912231445312, 'Walking': 96.41859436035156, 'LowerStretching': 103.72396087646484, 'Talking': 73.19117736816406, 'Greeting': 75.4117660522461, 'Patting': 108.62824249267578, 'Reacting': 87.80856323242188, 'Gaming': 95.35430145263672, 'Gesticuling': 80.37981414794922}}\n"
     ]
    },
    {
     "name": "stderr",
     "output_type": "stream",
     "text": [
      " 34%|███▎      | 1801/5352 [04:06<09:38,  6.14it/s]"
     ]
    },
    {
     "name": "stdout",
     "output_type": "stream",
     "text": [
      "{'FullBody': {'All': 78.64232635498047, 'UpperStretching': 82.48222351074219, 'Walking': 73.0639877319336, 'LowerStretching': 75.16936492919922, 'Talking': 58.13090896606445, 'Greeting': 60.6336669921875, 'Patting': 81.23524475097656, 'Reacting': 72.85060119628906, 'Gaming': 71.35546112060547, 'Gesticuling': 67.71826934814453}, 'UpperBody': {'All': 58.03508377075195, 'UpperStretching': 64.42817687988281, 'Walking': 49.40252685546875, 'LowerStretching': 46.111671447753906, 'Talking': 42.706878662109375, 'Greeting': 46.87559127807617, 'Patting': 55.11423873901367, 'Reacting': 57.43050003051758, 'Gaming': 47.79932403564453, 'Gesticuling': 54.35477066040039}, 'LowerBody': {'All': 99.24957275390625, 'UpperStretching': 100.53627014160156, 'Walking': 96.7254409790039, 'LowerStretching': 104.22705841064453, 'Talking': 73.55494689941406, 'Greeting': 74.3917465209961, 'Patting': 107.35626983642578, 'Reacting': 88.27069854736328, 'Gaming': 94.91160583496094, 'Gesticuling': 81.0817642211914}}\n"
     ]
    },
    {
     "name": "stderr",
     "output_type": "stream",
     "text": [
      " 37%|███▋      | 2001/5352 [04:33<07:26,  7.50it/s]"
     ]
    },
    {
     "name": "stdout",
     "output_type": "stream",
     "text": [
      "{'FullBody': {'All': 78.6707992553711, 'UpperStretching': 82.43555450439453, 'Walking': 73.37728881835938, 'LowerStretching': 75.2271957397461, 'Talking': 58.16448211669922, 'Greeting': 60.57083511352539, 'Patting': 81.35364532470703, 'Reacting': 73.32119750976562, 'Gaming': 71.44732666015625, 'Gesticuling': 67.46000671386719}, 'UpperBody': {'All': 58.086185455322266, 'UpperStretching': 64.4258041381836, 'Walking': 49.748661041259766, 'LowerStretching': 46.133705139160156, 'Talking': 42.7905387878418, 'Greeting': 47.02250289916992, 'Patting': 54.981624603271484, 'Reacting': 57.30556106567383, 'Gaming': 48.020015716552734, 'Gesticuling': 54.388755798339844}, 'LowerBody': {'All': 99.25540924072266, 'UpperStretching': 100.44529724121094, 'Walking': 97.00593566894531, 'LowerStretching': 104.3207015991211, 'Talking': 73.53843688964844, 'Greeting': 74.11917114257812, 'Patting': 107.72566223144531, 'Reacting': 89.33682250976562, 'Gaming': 94.87464141845703, 'Gesticuling': 80.53125762939453}}\n"
     ]
    },
    {
     "name": "stderr",
     "output_type": "stream",
     "text": [
      " 41%|████      | 2201/5352 [05:00<07:23,  7.10it/s]"
     ]
    },
    {
     "name": "stdout",
     "output_type": "stream",
     "text": [
      "{'FullBody': {'All': 78.64989471435547, 'UpperStretching': 82.3521499633789, 'Walking': 73.59563446044922, 'LowerStretching': 75.32850646972656, 'Talking': 58.015743255615234, 'Greeting': 60.66469955444336, 'Patting': 80.65963745117188, 'Reacting': 73.23802947998047, 'Gaming': 71.69477844238281, 'Gesticuling': 66.95890045166016}, 'UpperBody': {'All': 58.11445236206055, 'UpperStretching': 64.48404693603516, 'Walking': 49.863380432128906, 'LowerStretching': 46.15209197998047, 'Talking': 42.757659912109375, 'Greeting': 47.09763717651367, 'Patting': 54.63071060180664, 'Reacting': 57.17839050292969, 'Gaming': 48.149662017822266, 'Gesticuling': 53.89386749267578}, 'LowerBody': {'All': 99.1853256225586, 'UpperStretching': 100.22024536132812, 'Walking': 97.32787322998047, 'LowerStretching': 104.50491333007812, 'Talking': 73.27384185791016, 'Greeting': 74.23177337646484, 'Patting': 106.6885757446289, 'Reacting': 89.29766845703125, 'Gaming': 95.23989868164062, 'Gesticuling': 80.02392578125}}\n"
     ]
    },
    {
     "name": "stderr",
     "output_type": "stream",
     "text": [
      " 45%|████▍     | 2401/5352 [05:26<06:30,  7.56it/s]"
     ]
    },
    {
     "name": "stdout",
     "output_type": "stream",
     "text": [
      "{'FullBody': {'All': 78.62992095947266, 'UpperStretching': 82.3419189453125, 'Walking': 73.71812438964844, 'LowerStretching': 75.26441192626953, 'Talking': 57.939781188964844, 'Greeting': 61.217308044433594, 'Patting': 79.66863250732422, 'Reacting': 72.9422607421875, 'Gaming': 71.41201782226562, 'Gesticuling': 67.65121459960938}, 'UpperBody': {'All': 58.05276107788086, 'UpperStretching': 64.45052337646484, 'Walking': 49.81574249267578, 'LowerStretching': 46.12446212768555, 'Talking': 42.73181915283203, 'Greeting': 47.63140869140625, 'Patting': 54.212059020996094, 'Reacting': 56.94648742675781, 'Gaming': 47.94434356689453, 'Gesticuling': 54.30141830444336}, 'LowerBody': {'All': 99.20707702636719, 'UpperStretching': 100.23330688476562, 'Walking': 97.6205062866211, 'LowerStretching': 104.40436553955078, 'Talking': 73.14775085449219, 'Greeting': 74.80320739746094, 'Patting': 105.12523651123047, 'Reacting': 88.93804168701172, 'Gaming': 94.87968444824219, 'Gesticuling': 81.00100708007812}}\n"
     ]
    },
    {
     "name": "stderr",
     "output_type": "stream",
     "text": [
      " 49%|████▊     | 2601/5352 [05:53<07:02,  6.51it/s]"
     ]
    },
    {
     "name": "stdout",
     "output_type": "stream",
     "text": [
      "{'FullBody': {'All': 78.64495086669922, 'UpperStretching': 82.26721954345703, 'Walking': 73.67814636230469, 'LowerStretching': 75.50843048095703, 'Talking': 57.79922866821289, 'Greeting': 61.26552963256836, 'Patting': 80.11944580078125, 'Reacting': 73.09452056884766, 'Gaming': 71.20500183105469, 'Gesticuling': 67.93370819091797}, 'UpperBody': {'All': 58.114376068115234, 'UpperStretching': 64.41426849365234, 'Walking': 49.839576721191406, 'LowerStretching': 46.25104522705078, 'Talking': 42.771331787109375, 'Greeting': 47.68838119506836, 'Patting': 54.91751480102539, 'Reacting': 57.09160614013672, 'Gaming': 47.86247253417969, 'Gesticuling': 54.773223876953125}, 'LowerBody': {'All': 99.17552947998047, 'UpperStretching': 100.12017059326172, 'Walking': 97.51671600341797, 'LowerStretching': 104.76580047607422, 'Talking': 72.82711791992188, 'Greeting': 74.84268188476562, 'Patting': 105.32137298583984, 'Reacting': 89.0974349975586, 'Gaming': 94.54753112792969, 'Gesticuling': 81.09419250488281}}\n"
     ]
    },
    {
     "name": "stderr",
     "output_type": "stream",
     "text": [
      " 52%|█████▏    | 2801/5352 [06:20<05:32,  7.67it/s]"
     ]
    },
    {
     "name": "stdout",
     "output_type": "stream",
     "text": [
      "{'FullBody': {'All': 78.74445343017578, 'UpperStretching': 82.41216278076172, 'Walking': 73.41766357421875, 'LowerStretching': 75.59114074707031, 'Talking': 57.772891998291016, 'Greeting': 61.028316497802734, 'Patting': 81.15593719482422, 'Reacting': 73.0059585571289, 'Gaming': 71.022216796875, 'Gesticuling': 67.89964294433594}, 'UpperBody': {'All': 58.186466217041016, 'UpperStretching': 64.55058288574219, 'Walking': 49.643123626708984, 'LowerStretching': 46.240238189697266, 'Talking': 42.93437194824219, 'Greeting': 47.49539566040039, 'Patting': 55.64508056640625, 'Reacting': 56.92221450805664, 'Gaming': 47.944252014160156, 'Gesticuling': 54.81602096557617}, 'LowerBody': {'All': 99.30243682861328, 'UpperStretching': 100.27375793457031, 'Walking': 97.19219970703125, 'LowerStretching': 104.9420394897461, 'Talking': 72.61141967773438, 'Greeting': 74.56122589111328, 'Patting': 106.66678619384766, 'Reacting': 89.0896987915039, 'Gaming': 94.10016632080078, 'Gesticuling': 80.9832534790039}}\n"
     ]
    },
    {
     "name": "stderr",
     "output_type": "stream",
     "text": [
      " 56%|█████▌    | 3001/5352 [06:47<06:09,  6.37it/s]"
     ]
    },
    {
     "name": "stdout",
     "output_type": "stream",
     "text": [
      "{'FullBody': {'All': 78.70513916015625, 'UpperStretching': 82.39366912841797, 'Walking': 73.36971282958984, 'LowerStretching': 75.51207733154297, 'Talking': 57.533660888671875, 'Greeting': 61.04703140258789, 'Patting': 80.63771057128906, 'Reacting': 73.07478332519531, 'Gaming': 71.33015441894531, 'Gesticuling': 67.95115661621094}, 'UpperBody': {'All': 58.15352249145508, 'UpperStretching': 64.5350112915039, 'Walking': 49.58441925048828, 'LowerStretching': 46.195335388183594, 'Talking': 42.77286911010742, 'Greeting': 47.70466613769531, 'Patting': 55.22782897949219, 'Reacting': 56.91218566894531, 'Gaming': 48.01547622680664, 'Gesticuling': 54.78632354736328}, 'LowerBody': {'All': 99.25675201416016, 'UpperStretching': 100.25233459472656, 'Walking': 97.1550064086914, 'LowerStretching': 104.82880401611328, 'Talking': 72.29446411132812, 'Greeting': 74.38939666748047, 'Patting': 106.04759979248047, 'Reacting': 89.23736572265625, 'Gaming': 94.64482879638672, 'Gesticuling': 81.11598205566406}}\n"
     ]
    },
    {
     "name": "stderr",
     "output_type": "stream",
     "text": [
      " 60%|█████▉    | 3201/5352 [07:14<04:58,  7.21it/s]"
     ]
    },
    {
     "name": "stdout",
     "output_type": "stream",
     "text": [
      "{'FullBody': {'All': 78.67449951171875, 'UpperStretching': 82.38581848144531, 'Walking': 73.28544616699219, 'LowerStretching': 75.5340347290039, 'Talking': 57.37810134887695, 'Greeting': 60.59295654296875, 'Patting': 79.94520568847656, 'Reacting': 73.10623168945312, 'Gaming': 70.98442077636719, 'Gesticuling': 68.15953826904297}, 'UpperBody': {'All': 58.11668014526367, 'UpperStretching': 64.52511596679688, 'Walking': 49.5133056640625, 'LowerStretching': 46.2203254699707, 'Talking': 42.578346252441406, 'Greeting': 47.34218215942383, 'Patting': 54.76070022583008, 'Reacting': 56.913291931152344, 'Gaming': 47.92501449584961, 'Gesticuling': 54.6851692199707}, 'LowerBody': {'All': 99.23230743408203, 'UpperStretching': 100.24653625488281, 'Walking': 97.05757904052734, 'LowerStretching': 104.84773254394531, 'Talking': 72.1778564453125, 'Greeting': 73.84373474121094, 'Patting': 105.12971496582031, 'Reacting': 89.2991714477539, 'Gaming': 94.04383850097656, 'Gesticuling': 81.63390350341797}}\n"
     ]
    },
    {
     "name": "stderr",
     "output_type": "stream",
     "text": [
      " 64%|██████▎   | 3401/5352 [07:40<04:32,  7.17it/s]"
     ]
    },
    {
     "name": "stdout",
     "output_type": "stream",
     "text": [
      "{'FullBody': {'All': 78.69312286376953, 'UpperStretching': 82.44922637939453, 'Walking': 73.20545196533203, 'LowerStretching': 75.4323959350586, 'Talking': 57.54829788208008, 'Greeting': 60.70441436767578, 'Patting': 80.01669311523438, 'Reacting': 73.1624755859375, 'Gaming': 70.83821868896484, 'Gesticuling': 68.07317352294922}, 'UpperBody': {'All': 58.12744903564453, 'UpperStretching': 64.55473327636719, 'Walking': 49.432159423828125, 'LowerStretching': 46.16090393066406, 'Talking': 42.692108154296875, 'Greeting': 47.50212478637695, 'Patting': 54.76668167114258, 'Reacting': 57.12891387939453, 'Gaming': 47.79408264160156, 'Gesticuling': 54.504295349121094}, 'LowerBody': {'All': 99.25879669189453, 'UpperStretching': 100.34373474121094, 'Walking': 96.97875213623047, 'LowerStretching': 104.70388793945312, 'Talking': 72.40449523925781, 'Greeting': 73.90669250488281, 'Patting': 105.26670837402344, 'Reacting': 89.19603729248047, 'Gaming': 93.88235473632812, 'Gesticuling': 81.64205169677734}}\n"
     ]
    },
    {
     "name": "stderr",
     "output_type": "stream",
     "text": [
      " 67%|██████▋   | 3601/5352 [08:07<04:06,  7.09it/s]"
     ]
    },
    {
     "name": "stdout",
     "output_type": "stream",
     "text": [
      "{'FullBody': {'All': 78.67110443115234, 'UpperStretching': 82.38092041015625, 'Walking': 73.22789001464844, 'LowerStretching': 75.57876586914062, 'Talking': 57.338600158691406, 'Greeting': 60.797359466552734, 'Patting': 80.20374298095703, 'Reacting': 73.067138671875, 'Gaming': 70.54402160644531, 'Gesticuling': 68.0187759399414}, 'UpperBody': {'All': 58.11680221557617, 'UpperStretching': 64.50439453125, 'Walking': 49.492095947265625, 'LowerStretching': 46.25065231323242, 'Talking': 42.482173919677734, 'Greeting': 47.7534294128418, 'Patting': 54.76390075683594, 'Reacting': 57.035762786865234, 'Gaming': 47.74627685546875, 'Gesticuling': 54.465736389160156}, 'LowerBody': {'All': 99.22541046142578, 'UpperStretching': 100.25745391845703, 'Walking': 96.96367645263672, 'LowerStretching': 104.90686798095703, 'Talking': 72.19502258300781, 'Greeting': 73.84127807617188, 'Patting': 105.64358520507812, 'Reacting': 89.09851837158203, 'Gaming': 93.34175872802734, 'Gesticuling': 81.57180786132812}}\n"
     ]
    },
    {
     "name": "stderr",
     "output_type": "stream",
     "text": [
      " 71%|███████   | 3801/5352 [08:34<03:43,  6.93it/s]"
     ]
    },
    {
     "name": "stdout",
     "output_type": "stream",
     "text": [
      "{'FullBody': {'All': 78.6761703491211, 'UpperStretching': 82.37171936035156, 'Walking': 73.14192199707031, 'LowerStretching': 75.6753158569336, 'Talking': 57.38034439086914, 'Greeting': 60.76148986816406, 'Patting': 80.21195983886719, 'Reacting': 73.01868438720703, 'Gaming': 70.5512924194336, 'Gesticuling': 68.01554870605469}, 'UpperBody': {'All': 58.12959671020508, 'UpperStretching': 64.51801300048828, 'Walking': 49.45335006713867, 'LowerStretching': 46.2480583190918, 'Talking': 42.52018356323242, 'Greeting': 47.87815856933594, 'Patting': 54.8753547668457, 'Reacting': 57.162879943847656, 'Gaming': 47.76729202270508, 'Gesticuling': 54.60591506958008}, 'LowerBody': {'All': 99.22274017333984, 'UpperStretching': 100.22543334960938, 'Walking': 96.83049011230469, 'LowerStretching': 105.1025619506836, 'Talking': 72.2405014038086, 'Greeting': 73.64482116699219, 'Patting': 105.5485610961914, 'Reacting': 88.8744888305664, 'Gaming': 93.33529663085938, 'Gesticuling': 81.42518615722656}}\n"
     ]
    },
    {
     "name": "stderr",
     "output_type": "stream",
     "text": [
      " 75%|███████▍  | 4001/5352 [09:01<03:06,  7.25it/s]"
     ]
    },
    {
     "name": "stdout",
     "output_type": "stream",
     "text": [
      "{'FullBody': {'All': 78.64311218261719, 'UpperStretching': 82.33992004394531, 'Walking': 73.04818725585938, 'LowerStretching': 75.71019744873047, 'Talking': 57.38551330566406, 'Greeting': 60.55522155761719, 'Patting': 79.88775634765625, 'Reacting': 73.03314971923828, 'Gaming': 70.4907455444336, 'Gesticuling': 67.96715545654297}, 'UpperBody': {'All': 58.072479248046875, 'UpperStretching': 64.45639038085938, 'Walking': 49.376731872558594, 'LowerStretching': 46.248008728027344, 'Talking': 42.47834777832031, 'Greeting': 47.712257385253906, 'Patting': 54.627933502197266, 'Reacting': 57.21086120605469, 'Gaming': 47.70683670043945, 'Gesticuling': 54.46156311035156}, 'LowerBody': {'All': 99.2137451171875, 'UpperStretching': 100.22344970703125, 'Walking': 96.71965026855469, 'LowerStretching': 105.1723861694336, 'Talking': 72.29267883300781, 'Greeting': 73.39820098876953, 'Patting': 105.14756774902344, 'Reacting': 88.8554458618164, 'Gaming': 93.274658203125, 'Gesticuling': 81.4727554321289}}\n"
     ]
    },
    {
     "name": "stderr",
     "output_type": "stream",
     "text": [
      " 78%|███████▊  | 4201/5352 [09:28<02:47,  6.88it/s]"
     ]
    },
    {
     "name": "stdout",
     "output_type": "stream",
     "text": [
      "{'FullBody': {'All': 78.6946792602539, 'UpperStretching': 82.45162200927734, 'Walking': 73.02552795410156, 'LowerStretching': 75.73190307617188, 'Talking': 57.325008392333984, 'Greeting': 60.483314514160156, 'Patting': 79.67594146728516, 'Reacting': 73.19475555419922, 'Gaming': 70.609619140625, 'Gesticuling': 67.55704498291016}, 'UpperBody': {'All': 58.107295989990234, 'UpperStretching': 64.55265045166016, 'Walking': 49.359092712402344, 'LowerStretching': 46.27249526977539, 'Talking': 42.31456756591797, 'Greeting': 47.55828857421875, 'Patting': 54.33881759643555, 'Reacting': 57.3300666809082, 'Gaming': 47.786094665527344, 'Gesticuling': 54.08539962768555}, 'LowerBody': {'All': 99.28207397460938, 'UpperStretching': 100.35059356689453, 'Walking': 96.69196319580078, 'LowerStretching': 105.1913070678711, 'Talking': 72.33544921875, 'Greeting': 73.40834045410156, 'Patting': 105.01305389404297, 'Reacting': 89.05945587158203, 'Gaming': 93.43316650390625, 'Gesticuling': 81.02869415283203}}\n"
     ]
    },
    {
     "name": "stderr",
     "output_type": "stream",
     "text": [
      " 82%|████████▏ | 4401/5352 [09:55<02:16,  6.99it/s]"
     ]
    },
    {
     "name": "stdout",
     "output_type": "stream",
     "text": [
      "{'FullBody': {'All': 78.66683959960938, 'UpperStretching': 82.37747192382812, 'Walking': 73.11042785644531, 'LowerStretching': 75.8297348022461, 'Talking': 57.28638458251953, 'Greeting': 60.48464584350586, 'Patting': 79.17180633544922, 'Reacting': 73.02623748779297, 'Gaming': 70.48661804199219, 'Gesticuling': 67.49516296386719}, 'UpperBody': {'All': 58.07484436035156, 'UpperStretching': 64.50504302978516, 'Walking': 49.40477752685547, 'LowerStretching': 46.27937316894531, 'Talking': 42.28260040283203, 'Greeting': 47.556907653808594, 'Patting': 53.87520980834961, 'Reacting': 57.15422439575195, 'Gaming': 47.76628875732422, 'Gesticuling': 53.84052658081055}, 'LowerBody': {'All': 99.25885009765625, 'UpperStretching': 100.24990844726562, 'Walking': 96.81609344482422, 'LowerStretching': 105.38008117675781, 'Talking': 72.29016876220703, 'Greeting': 73.41238403320312, 'Patting': 104.46839141845703, 'Reacting': 88.89825439453125, 'Gaming': 93.20694732666016, 'Gesticuling': 81.14981079101562}}\n"
     ]
    },
    {
     "name": "stderr",
     "output_type": "stream",
     "text": [
      " 86%|████████▌ | 4601/5352 [10:22<01:49,  6.83it/s]"
     ]
    },
    {
     "name": "stdout",
     "output_type": "stream",
     "text": [
      "{'FullBody': {'All': 78.61519622802734, 'UpperStretching': 82.35105895996094, 'Walking': 72.97217559814453, 'LowerStretching': 75.776611328125, 'Talking': 57.35100173950195, 'Greeting': 60.3004035949707, 'Patting': 79.1091537475586, 'Reacting': 73.02558135986328, 'Gaming': 70.35627746582031, 'Gesticuling': 67.34504699707031}, 'UpperBody': {'All': 58.0527458190918, 'UpperStretching': 64.51722717285156, 'Walking': 49.333736419677734, 'LowerStretching': 46.246482849121094, 'Talking': 42.43507385253906, 'Greeting': 47.514678955078125, 'Patting': 53.65568923950195, 'Reacting': 57.224674224853516, 'Gaming': 47.726322174072266, 'Gesticuling': 53.67604064941406}, 'LowerBody': {'All': 99.17765808105469, 'UpperStretching': 100.18489074707031, 'Walking': 96.6106185913086, 'LowerStretching': 105.30673217773438, 'Talking': 72.26692199707031, 'Greeting': 73.08613586425781, 'Patting': 104.56262969970703, 'Reacting': 88.82649230957031, 'Gaming': 92.98624420166016, 'Gesticuling': 81.0140609741211}}\n"
     ]
    },
    {
     "name": "stderr",
     "output_type": "stream",
     "text": [
      " 90%|████████▉ | 4801/5352 [10:48<01:18,  7.05it/s]"
     ]
    },
    {
     "name": "stdout",
     "output_type": "stream",
     "text": [
      "{'FullBody': {'All': 78.61801147460938, 'UpperStretching': 82.34542083740234, 'Walking': 72.97705078125, 'LowerStretching': 75.80868530273438, 'Talking': 57.423118591308594, 'Greeting': 60.59214782714844, 'Patting': 79.06885528564453, 'Reacting': 73.24302673339844, 'Gaming': 70.5715560913086, 'Gesticuling': 67.18515014648438}, 'UpperBody': {'All': 58.038352966308594, 'UpperStretching': 64.51958465576172, 'Walking': 49.32857894897461, 'LowerStretching': 46.22962188720703, 'Talking': 42.421485900878906, 'Greeting': 47.66055679321289, 'Patting': 53.44478988647461, 'Reacting': 57.367706298828125, 'Gaming': 47.806907653808594, 'Gesticuling': 53.48008728027344}, 'LowerBody': {'All': 99.19768524169922, 'UpperStretching': 100.17125701904297, 'Walking': 96.62553405761719, 'LowerStretching': 105.38774871826172, 'Talking': 72.42475891113281, 'Greeting': 73.52375030517578, 'Patting': 104.69292449951172, 'Reacting': 89.11836242675781, 'Gaming': 93.33621215820312, 'Gesticuling': 80.89021301269531}}\n"
     ]
    },
    {
     "name": "stderr",
     "output_type": "stream",
     "text": [
      " 93%|█████████▎| 5001/5352 [11:15<00:50,  6.90it/s]"
     ]
    },
    {
     "name": "stdout",
     "output_type": "stream",
     "text": [
      "{'FullBody': {'All': 78.60920715332031, 'UpperStretching': 82.34420776367188, 'Walking': 73.00530242919922, 'LowerStretching': 75.78003692626953, 'Talking': 57.37038803100586, 'Greeting': 60.38043212890625, 'Patting': 79.27578735351562, 'Reacting': 73.17428588867188, 'Gaming': 70.52310943603516, 'Gesticuling': 66.98640441894531}, 'UpperBody': {'All': 58.03538131713867, 'UpperStretching': 64.5239028930664, 'Walking': 49.326087951660156, 'LowerStretching': 46.20624542236328, 'Talking': 42.39072799682617, 'Greeting': 47.583518981933594, 'Patting': 53.56467819213867, 'Reacting': 57.26103973388672, 'Gaming': 47.907142639160156, 'Gesticuling': 53.392738342285156}, 'LowerBody': {'All': 99.18304443359375, 'UpperStretching': 100.16450500488281, 'Walking': 96.68452453613281, 'LowerStretching': 105.35382080078125, 'Talking': 72.35004425048828, 'Greeting': 73.17735290527344, 'Patting': 104.98690032958984, 'Reacting': 89.0875244140625, 'Gaming': 93.13907623291016, 'Gesticuling': 80.58007049560547}}\n"
     ]
    },
    {
     "name": "stderr",
     "output_type": "stream",
     "text": [
      " 97%|█████████▋| 5201/5352 [11:42<00:21,  7.06it/s]"
     ]
    },
    {
     "name": "stdout",
     "output_type": "stream",
     "text": [
      "{'FullBody': {'All': 78.61567687988281, 'UpperStretching': 82.35379791259766, 'Walking': 72.92969512939453, 'LowerStretching': 75.85240936279297, 'Talking': 57.303104400634766, 'Greeting': 60.64427185058594, 'Patting': 79.28624725341797, 'Reacting': 73.03089904785156, 'Gaming': 70.48275756835938, 'Gesticuling': 66.87866973876953}, 'UpperBody': {'All': 58.04355239868164, 'UpperStretching': 64.5463638305664, 'Walking': 49.281158447265625, 'LowerStretching': 46.22752380371094, 'Talking': 42.36518859863281, 'Greeting': 47.750465393066406, 'Patting': 53.47883987426758, 'Reacting': 57.238067626953125, 'Gaming': 47.82107162475586, 'Gesticuling': 53.30311584472656}, 'LowerBody': {'All': 99.18782043457031, 'UpperStretching': 100.1612319946289, 'Walking': 96.57825469970703, 'LowerStretching': 105.477294921875, 'Talking': 72.24100494384766, 'Greeting': 73.5380630493164, 'Patting': 105.09363555908203, 'Reacting': 88.82372283935547, 'Gaming': 93.14443969726562, 'Gesticuling': 80.45421600341797}}\n"
     ]
    },
    {
     "name": "stderr",
     "output_type": "stream",
     "text": [
      "100%|██████████| 5352/5352 [12:02<00:00,  7.41it/s]\n",
      "\u001b[94m07:47:53 \u001b[92m[INFO]\u001b[94m Main\u001b[0m: Saving evaluation results...\n",
      "\u001b[94m07:47:53 \u001b[92m[INFO]\u001b[94m Main\u001b[0m: Done.\n"
     ]
    }
   ],
   "source": [
    "for i,p in enumerate(path_):\n",
    "\tif i<5:continue\n",
    "\t_path = f'/workspace/2d_to_3d/apps/eval/Ours_new_model_WO_depthconv852'\n",
    "\t_name = f'baseline852_{i}.json'\n",
    "\tif not os.path.exists(_path):\n",
    "\t\tos.makedirs(_path)\n",
    "\n",
    "\tmain(model_path=p,output_path=os.path.join(_path,_name))"
   ]
  }
 ],
 "metadata": {
  "kernelspec": {
   "display_name": "base",
   "language": "python",
   "name": "python3"
  },
  "language_info": {
   "codemirror_mode": {
    "name": "ipython",
    "version": 3
   },
   "file_extension": ".py",
   "mimetype": "text/x-python",
   "name": "python",
   "nbconvert_exporter": "python",
   "pygments_lexer": "ipython3",
   "version": "3.10.8"
  },
  "orig_nbformat": 4,
  "vscode": {
   "interpreter": {
    "hash": "d4d1e4263499bec80672ea0156c357c1ee493ec2b1c70f0acce89fc37c4a6abe"
   }
  }
 },
 "nbformat": 4,
 "nbformat_minor": 2
}
