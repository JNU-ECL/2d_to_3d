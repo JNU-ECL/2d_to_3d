{
 "cells": [
  {
   "cell_type": "code",
   "execution_count": 1,
   "metadata": {},
   "outputs": [
    {
     "name": "stderr",
     "output_type": "stream",
     "text": [
      "/opt/conda/lib/python3.10/site-packages/tqdm/auto.py:22: TqdmWarning: IProgress not found. Please update jupyter and ipywidgets. See https://ipywidgets.readthedocs.io/en/stable/user_install.html\n",
      "  from .autonotebook import tqdm as notebook_tqdm\n"
     ]
    }
   ],
   "source": [
    "# Copyright (c) Facebook, Inc. and its affiliates. All Rights Reserved\n",
    "# -*- coding: utf-8 -*-\n",
    "\"\"\"\n",
    "Demo code\n",
    "\n",
    "@author: Denis Tome'\n",
    "\n",
    "\"\"\"\n",
    "from torch.utils.data import DataLoader\n",
    "import torch\n",
    "from torchvision import transforms\n",
    "from base import SetType\n",
    "\n",
    "from mocap import Mocap\n",
    "from utils import config, ConsoleLogger\n",
    "from utils import evaluate, io\n",
    "from model import TempModel\n",
    "from tqdm import tqdm\n",
    "\n",
    "LOGGER = ConsoleLogger(\"Main\")\n",
    "use_cuda = torch.cuda.is_available()\n",
    "device = torch.device(\"cuda\" if use_cuda else \"cpu\")\n"
   ]
  },
  {
   "cell_type": "code",
   "execution_count": 2,
   "metadata": {},
   "outputs": [],
   "source": [
    "\n",
    "def main():\n",
    "\t\"\"\"Main\"\"\"\n",
    "\n",
    "\tLOGGER.info('Starting demo...')\n",
    "\n",
    "\t# ------------------- Data loader -------------------\n",
    "\n",
    "\n",
    "\t# let's load data from validation set as example\n",
    "\tdata = Mocap(\n",
    "\t\tconfig.dataset.test,\n",
    "\t\tSetType.VAL,\n",
    "\t\t)\n",
    "\tdata_loader = DataLoader(\n",
    "\t\tdata,\n",
    "\t\tbatch_size=config.data_loader.batch_size,\n",
    "\t\tshuffle=config.data_loader.shuffle)\n",
    "\n",
    "\t# ------------------- Evaluation -------------------\n",
    "\n",
    "\teval_body = evaluate.EvalBody()\n",
    "\teval_upper = evaluate.EvalUpperBody()\n",
    "\teval_lower = evaluate.EvalLowerBody()\n",
    "\n",
    "\t# ------------------- Read dataset frames -------------------\n",
    "\n",
    "\tmodel = TempModel().to(device)\n",
    "\tmodel = torch.nn.DataParallel(model,device_ids=[0,1])\n",
    "\tmodel.eval()\n",
    "\n",
    "\tfor it, test_batch in enumerate(tqdm(data_loader)):\n",
    "\t\timg = test_batch['image']\n",
    "\t\tp2d = test_batch['fisheye_joints_2d']\n",
    "\t\tp3d = test_batch['joints_3d_cam']\n",
    "\t\taction = test_batch['action']\n",
    "\t\tinput_img = {'image':img}\n",
    "\t\t# LOGGER.info('Iteration: {}'.format(it))\n",
    "\t\t# LOGGER.info('Images: {}'.format(img.shape))\n",
    "\t\t# LOGGER.info('p2ds: {}'.format(p2d.shape))\n",
    "\t\t# LOGGER.info('p3ds: {}'.format(p3d.shape))\n",
    "\t\t# LOGGER.info('Actions: {}'.format(action))\n",
    "\n",
    "\t\t# -----------------------------------------------------------\n",
    "\t\tpred_output = model(input_img)\n",
    "\t\t# -----------------------------------------------------------\n",
    "\n",
    "\t\t# TODO: replace p3d_hat with model preditions\n",
    "\t\tp3d_hat = pred_output['regressor_dict']['pred_joint']\n",
    "\n",
    "\t\t# Evaluate results using different evaluation metrices\n",
    "\t\ty_output = p3d_hat.data.cpu().numpy() * 1000\n",
    "\t\ty_target = p3d.data.cpu().numpy() * 1000\n",
    "\n",
    "\t\teval_body.eval(y_output, y_target, action)\n",
    "\t\teval_upper.eval(y_output, y_target, action)\n",
    "\t\teval_lower.eval(y_output, y_target, action)\n",
    "\t\tif (it+1)%300==0:\n",
    "\t\t\tprint({'FullBody': eval_body.get_results(),\n",
    "\t\t   'UpperBody': eval_upper.get_results(),\n",
    "\t\t   'LowerBody': eval_lower.get_results()})\n",
    "\t\t# TODO: remove break\n",
    "\t\t\n",
    "\n",
    "\t# ------------------- Save results -------------------\n",
    "\n",
    "\tLOGGER.info('Saving evaluation results...')\n",
    "\tres = {'FullBody': eval_body.get_results(),\n",
    "\t\t   'UpperBody': eval_upper.get_results(),\n",
    "\t\t   'LowerBody': eval_lower.get_results()}\n",
    "\n",
    "\tio.write_json(config.eval.output_file, res)\n",
    "\n",
    "\tLOGGER.info('Done.')"
   ]
  },
  {
   "cell_type": "code",
   "execution_count": 3,
   "metadata": {},
   "outputs": [
    {
     "name": "stderr",
     "output_type": "stream",
     "text": [
      "\u001b[94m11:12:02 \u001b[92m[INFO]\u001b[94m Main\u001b[0m: Starting demo...\n",
      "  0%|          | 0/1807 [00:00<?, ?it/s]/opt/conda/lib/python3.10/site-packages/torchvision/transforms/transforms.py:329: UserWarning: Argument 'interpolation' of type int is deprecated since 0.13 and will be removed in 0.15. Please use InterpolationMode enum.\n",
      "  warnings.warn(\n",
      " 17%|█▋        | 300/1807 [23:06<1:53:27,  4.52s/it]"
     ]
    },
    {
     "name": "stdout",
     "output_type": "stream",
     "text": [
      "{'FullBody': {'All': 112.56929779052734, 'UpperStretching': 122.64324951171875, 'Walking': 113.20113372802734, 'Greeting': 86.53775787353516, 'LowerStretching': 122.21743774414062, 'Gaming': 84.30856323242188, 'Reacting': 81.01461029052734, 'Gesticuling': 70.42829132080078, 'Talking': 71.8091049194336, 'Patting': 88.69086456298828}, 'UpperBody': {'All': 81.37679290771484, 'UpperStretching': 91.99188995361328, 'Walking': 76.277587890625, 'Greeting': 66.19696044921875, 'LowerStretching': 72.29322052001953, 'Gaming': 66.71733856201172, 'Reacting': 66.5262451171875, 'Gesticuling': 63.23921203613281, 'Talking': 59.3539924621582, 'Patting': 61.31161880493164}, 'LowerBody': {'All': 143.76181030273438, 'UpperStretching': 153.29461669921875, 'Walking': 150.1246795654297, 'Greeting': 106.87852478027344, 'LowerStretching': 172.1416473388672, 'Gaming': 101.89979553222656, 'Reacting': 95.50296783447266, 'Gesticuling': 77.61736297607422, 'Talking': 84.26421356201172, 'Patting': 116.07010650634766}}\n"
     ]
    },
    {
     "name": "stderr",
     "output_type": "stream",
     "text": [
      " 33%|███▎      | 600/1807 [46:07<1:33:15,  4.64s/it]"
     ]
    },
    {
     "name": "stdout",
     "output_type": "stream",
     "text": [
      "{'FullBody': {'All': 112.74884033203125, 'UpperStretching': 122.05651092529297, 'Walking': 116.36000061035156, 'Greeting': 82.28779602050781, 'LowerStretching': 123.94261932373047, 'Gaming': 82.7070083618164, 'Reacting': 80.7503662109375, 'Gesticuling': 69.98396301269531, 'Talking': 69.75936889648438, 'Patting': 90.05760955810547}, 'UpperBody': {'All': 81.2941665649414, 'UpperStretching': 91.59918212890625, 'Walking': 77.49098205566406, 'Greeting': 64.36100769042969, 'LowerStretching': 72.55187225341797, 'Gaming': 65.18093872070312, 'Reacting': 66.32563781738281, 'Gesticuling': 62.85409164428711, 'Talking': 57.78786087036133, 'Patting': 62.80833435058594}, 'LowerBody': {'All': 144.20350646972656, 'UpperStretching': 152.51385498046875, 'Walking': 155.22903442382812, 'Greeting': 100.2145767211914, 'LowerStretching': 175.33335876464844, 'Gaming': 100.23307037353516, 'Reacting': 95.17509460449219, 'Gesticuling': 77.11383056640625, 'Talking': 81.73088073730469, 'Patting': 117.30687713623047}}\n"
     ]
    },
    {
     "name": "stderr",
     "output_type": "stream",
     "text": [
      " 50%|████▉     | 900/1807 [1:09:08<1:08:07,  4.51s/it]"
     ]
    },
    {
     "name": "stdout",
     "output_type": "stream",
     "text": [
      "{'FullBody': {'All': 112.81485748291016, 'UpperStretching': 122.12320709228516, 'Walking': 115.84524536132812, 'Greeting': 82.2958755493164, 'LowerStretching': 124.20221710205078, 'Gaming': 82.95464324951172, 'Reacting': 81.06016540527344, 'Gesticuling': 69.68268585205078, 'Talking': 70.84507751464844, 'Patting': 91.03450012207031}, 'UpperBody': {'All': 81.25823211669922, 'UpperStretching': 91.54923248291016, 'Walking': 77.13691711425781, 'Greeting': 64.37902069091797, 'LowerStretching': 72.8756103515625, 'Gaming': 65.1542739868164, 'Reacting': 66.08692169189453, 'Gesticuling': 62.58682632446289, 'Talking': 58.10450744628906, 'Patting': 63.31805419921875}, 'LowerBody': {'All': 144.37149047851562, 'UpperStretching': 152.6971893310547, 'Walking': 154.5535888671875, 'Greeting': 100.21272277832031, 'LowerStretching': 175.52882385253906, 'Gaming': 100.75501251220703, 'Reacting': 96.03340911865234, 'Gesticuling': 76.77853393554688, 'Talking': 83.58564758300781, 'Patting': 118.75092315673828}}\n"
     ]
    },
    {
     "name": "stderr",
     "output_type": "stream",
     "text": [
      " 66%|██████▋   | 1200/1807 [1:32:01<45:42,  4.52s/it]  "
     ]
    },
    {
     "name": "stdout",
     "output_type": "stream",
     "text": [
      "{'FullBody': {'All': 112.75611877441406, 'UpperStretching': 121.85975646972656, 'Walking': 116.24266052246094, 'Greeting': 83.6556396484375, 'LowerStretching': 123.90532684326172, 'Gaming': 83.60812377929688, 'Reacting': 81.4529800415039, 'Gesticuling': 69.84734344482422, 'Talking': 71.1659164428711, 'Patting': 89.46656799316406}, 'UpperBody': {'All': 81.18458557128906, 'UpperStretching': 91.35150146484375, 'Walking': 77.45999908447266, 'Greeting': 64.82083892822266, 'LowerStretching': 72.72211456298828, 'Gaming': 65.29655456542969, 'Reacting': 66.20835876464844, 'Gesticuling': 62.726837158203125, 'Talking': 58.114234924316406, 'Patting': 62.5954475402832}, 'LowerBody': {'All': 144.32765197753906, 'UpperStretching': 152.36801147460938, 'Walking': 155.0253143310547, 'Greeting': 102.49044036865234, 'LowerStretching': 175.08853149414062, 'Gaming': 101.91969299316406, 'Reacting': 96.69761657714844, 'Gesticuling': 76.96784973144531, 'Talking': 84.21760559082031, 'Patting': 116.33767700195312}}\n"
     ]
    },
    {
     "name": "stderr",
     "output_type": "stream",
     "text": [
      " 83%|████████▎ | 1500/1807 [1:55:03<23:42,  4.63s/it]"
     ]
    },
    {
     "name": "stdout",
     "output_type": "stream",
     "text": [
      "{'FullBody': {'All': 112.91996002197266, 'UpperStretching': 122.2750473022461, 'Walking': 115.5777816772461, 'Greeting': 84.12886810302734, 'LowerStretching': 123.71229553222656, 'Gaming': 83.79143524169922, 'Reacting': 81.9765396118164, 'Gesticuling': 70.78235626220703, 'Talking': 70.99785614013672, 'Patting': 88.22468566894531}, 'UpperBody': {'All': 81.28720092773438, 'UpperStretching': 91.53569793701172, 'Walking': 77.23231506347656, 'Greeting': 65.06771850585938, 'LowerStretching': 72.64281463623047, 'Gaming': 65.53607940673828, 'Reacting': 66.76271057128906, 'Gesticuling': 63.418052673339844, 'Talking': 57.75278854370117, 'Patting': 61.76637268066406}, 'LowerBody': {'All': 144.55271911621094, 'UpperStretching': 153.01438903808594, 'Walking': 153.92323303222656, 'Greeting': 103.19001007080078, 'LowerStretching': 174.78176879882812, 'Gaming': 102.04678344726562, 'Reacting': 97.19038391113281, 'Gesticuling': 78.14665985107422, 'Talking': 84.24291229248047, 'Patting': 114.68299102783203}}\n"
     ]
    },
    {
     "name": "stderr",
     "output_type": "stream",
     "text": [
      "100%|█████████▉| 1800/1807 [2:18:05<00:31,  4.55s/it]"
     ]
    },
    {
     "name": "stdout",
     "output_type": "stream",
     "text": [
      "{'FullBody': {'All': 113.01914978027344, 'UpperStretching': 122.31704711914062, 'Walking': 115.83509063720703, 'Greeting': 84.69815063476562, 'LowerStretching': 123.754150390625, 'Gaming': 83.71766662597656, 'Reacting': 81.97964477539062, 'Gesticuling': 71.06593322753906, 'Talking': 71.2071762084961, 'Patting': 88.28023529052734}, 'UpperBody': {'All': 81.33580780029297, 'UpperStretching': 91.49663543701172, 'Walking': 77.5543212890625, 'Greeting': 65.16535949707031, 'LowerStretching': 72.68687438964844, 'Gaming': 65.33079528808594, 'Reacting': 66.83357238769531, 'Gesticuling': 63.585166931152344, 'Talking': 57.89302444458008, 'Patting': 61.759979248046875}, 'LowerBody': {'All': 144.7024688720703, 'UpperStretching': 153.13746643066406, 'Walking': 154.11585998535156, 'Greeting': 104.23092651367188, 'LowerStretching': 174.82142639160156, 'Gaming': 102.10453033447266, 'Reacting': 97.12571716308594, 'Gesticuling': 78.54669189453125, 'Talking': 84.52133178710938, 'Patting': 114.80049133300781}}\n"
     ]
    },
    {
     "name": "stderr",
     "output_type": "stream",
     "text": [
      "100%|██████████| 1807/1807 [2:18:36<00:00,  4.60s/it]\n",
      "\u001b[94m13:30:40 \u001b[92m[INFO]\u001b[94m Main\u001b[0m: Saving evaluation results...\n",
      "\u001b[94m13:30:40 \u001b[92m[INFO]\u001b[94m Main\u001b[0m: Done.\n"
     ]
    }
   ],
   "source": [
    "main()"
   ]
  }
 ],
 "metadata": {
  "kernelspec": {
   "display_name": "base",
   "language": "python",
   "name": "python3"
  },
  "language_info": {
   "codemirror_mode": {
    "name": "ipython",
    "version": 3
   },
   "file_extension": ".py",
   "mimetype": "text/x-python",
   "name": "python",
   "nbconvert_exporter": "python",
   "pygments_lexer": "ipython3",
   "version": "3.10.8"
  },
  "orig_nbformat": 4
 },
 "nbformat": 4,
 "nbformat_minor": 2
}
