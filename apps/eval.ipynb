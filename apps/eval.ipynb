{
 "cells": [
  {
   "cell_type": "code",
   "execution_count": 1,
   "metadata": {},
   "outputs": [
    {
     "name": "stderr",
     "output_type": "stream",
     "text": [
      "/opt/conda/lib/python3.10/site-packages/tqdm/auto.py:22: TqdmWarning: IProgress not found. Please update jupyter and ipywidgets. See https://ipywidgets.readthedocs.io/en/stable/user_install.html\n",
      "  from .autonotebook import tqdm as notebook_tqdm\n"
     ]
    }
   ],
   "source": [
    "# Copyright (c) Facebook, Inc. and its affiliates. All Rights Reserved\n",
    "# -*- coding: utf-8 -*-\n",
    "\"\"\"\n",
    "Demo code\n",
    "\n",
    "@author: Denis Tome'\n",
    "\n",
    "\"\"\"\n",
    "from torch.utils.data import DataLoader\n",
    "import torch\n",
    "from torchvision import transforms\n",
    "from base import SetType\n",
    "import multiprocessing\n",
    "from mocap import Mocap\n",
    "from utils import config, ConsoleLogger\n",
    "from utils import evaluate, io\n",
    "from model import TempModel\n",
    "from model_xregopose import xR_egoposemodel\n",
    "from tqdm import tqdm\n",
    "\n",
    "LOGGER = ConsoleLogger(\"Main\")\n",
    "use_cuda = torch.cuda.is_available()\n",
    "device = torch.device(\"cuda\" if use_cuda else \"cpu\")\n"
   ]
  },
  {
   "cell_type": "code",
   "execution_count": 2,
   "metadata": {},
   "outputs": [],
   "source": [
    "\n",
    "def main(model_path=None,output_path=None):\n",
    "\t\"\"\"Main\"\"\"\n",
    "\n",
    "\tLOGGER.info('Starting demo...')\n",
    "\n",
    "\t# ------------------- Data loader -------------------\n",
    "\n",
    "\n",
    "\t# let's load data from validation set as example\n",
    "\tdata = Mocap(\n",
    "\t\t'/dataset/data/Dataset/TestSet',\n",
    "\t\tSetType.VAL,\n",
    "\t\t)\n",
    "\tdata_loader = DataLoader(\n",
    "\t\tdata,\n",
    "\t\tbatch_size=16,\n",
    "\t\tnum_workers=(multiprocessing.cpu_count() // 3) * 2,\n",
    "\t\tshuffle=True)\n",
    "\n",
    "\t# ------------------- Evaluation -------------------\n",
    "\n",
    "\teval_body = evaluate.EvalBody()\n",
    "\teval_upper = evaluate.EvalUpperBody()\n",
    "\teval_lower = evaluate.EvalLowerBody()\n",
    "\n",
    "\t# ------------------- Read dataset frames -------------------\n",
    "\n",
    "\tmodel = xR_egoposemodel(pretrained_path=model_path).to(device)\n",
    "\tmodel = torch.nn.DataParallel(model,device_ids=[0,1])\n",
    "\tmodel.eval()\n",
    "\n",
    "\tfor it, test_batch in enumerate(tqdm(data_loader)):\n",
    "\t\timg = test_batch['image']\n",
    "\t\tp3d = test_batch['joints_3d_cam']\n",
    "\t\taction = test_batch['action']\n",
    "\t\tinput_img = {'image':img}\n",
    "\t\t# LOGGER.info('Iteration: {}'.format(it))\n",
    "\t\t# LOGGER.info('Images: {}'.format(img.shape))\n",
    "\t\t# LOGGER.info('p2ds: {}'.format(p2d.shape))\n",
    "\t\t# LOGGER.info('p3ds: {}'.format(p3d.shape))\n",
    "\t\t# LOGGER.info('Actions: {}'.format(action))\n",
    "\n",
    "\t\t# -----------------------------------------------------------\n",
    "\t\tpred_output = model(input_img)\n",
    "\t\t# -----------------------------------------------------------\n",
    "\n",
    "\t\t# TODO: replace p3d_hat with model preditions\n",
    "\t\tp3d_hat = pred_output['pred_pose']\n",
    "\n",
    "\t\t# Evaluate results using different evaluation metrices\n",
    "\t\ty_output = p3d_hat.data.cpu().numpy() * 1000\n",
    "\t\ty_target = p3d.data.cpu().numpy() * 1000\n",
    "\n",
    "\t\teval_body.eval(y_output, y_target, action)\n",
    "\t\teval_upper.eval(y_output, y_target, action)\n",
    "\t\teval_lower.eval(y_output, y_target, action)\n",
    "\t\tif (it+1)%200==0:\n",
    "\t\t\tprint({'FullBody': eval_body.get_results(),\n",
    "\t\t   'UpperBody': eval_upper.get_results(),\n",
    "\t\t   'LowerBody': eval_lower.get_results()})\n",
    "\t\t\t# break\n",
    "\t\t# TODO: remove break\n",
    "\t\t\n",
    "\n",
    "\t# ------------------- Save results -------------------\n",
    "\n",
    "\tLOGGER.info('Saving evaluation results...')\n",
    "\tres = {'FullBody': eval_body.get_results(),\n",
    "\t\t   'UpperBody': eval_upper.get_results(),\n",
    "\t\t   'LowerBody': eval_lower.get_results()}\n",
    "\n",
    "\tio.write_json(output_path, res)\n",
    "\n",
    "\tLOGGER.info('Done.')"
   ]
  },
  {
   "cell_type": "code",
   "execution_count": 3,
   "metadata": {},
   "outputs": [
    {
     "data": {
      "text/plain": [
       "['/workspace/2d_to_3d/apps/exp698/0.pth',\n",
       " '/workspace/2d_to_3d/apps/exp698/1.pth',\n",
       " '/workspace/2d_to_3d/apps/exp698/2.pth',\n",
       " '/workspace/2d_to_3d/apps/exp698/3.pth',\n",
       " '/workspace/2d_to_3d/apps/exp698/4.pth',\n",
       " '/workspace/2d_to_3d/apps/exp698/5.pth',\n",
       " '/workspace/2d_to_3d/apps/exp698/6.pth',\n",
       " '/workspace/2d_to_3d/apps/exp698/best.pth']"
      ]
     },
     "execution_count": 3,
     "metadata": {},
     "output_type": "execute_result"
    }
   ],
   "source": [
    "import glob\n",
    "path_ =sorted(glob.glob('/workspace/2d_to_3d/apps/exp698'+'/*'))\n",
    "path_"
   ]
  },
  {
   "cell_type": "code",
   "execution_count": 4,
   "metadata": {},
   "outputs": [
    {
     "ename": "RuntimeError",
     "evalue": "No active exception to reraise",
     "output_type": "error",
     "traceback": [
      "\u001b[0;31m---------------------------------------------------------------------------\u001b[0m",
      "\u001b[0;31mRuntimeError\u001b[0m                              Traceback (most recent call last)",
      "Cell \u001b[0;32mIn[4], line 4\u001b[0m\n\u001b[1;32m      2\u001b[0m gc\u001b[39m.\u001b[39mcollect()\n\u001b[1;32m      3\u001b[0m torch\u001b[39m.\u001b[39mcuda\u001b[39m.\u001b[39mempty_cache()\n\u001b[0;32m----> 4\u001b[0m \u001b[39mraise\u001b[39;00m\n",
      "\u001b[0;31mRuntimeError\u001b[0m: No active exception to reraise"
     ]
    }
   ],
   "source": [
    "import gc\n",
    "gc.collect()\n",
    "torch.cuda.empty_cache()\n",
    "raise"
   ]
  },
  {
   "cell_type": "code",
   "execution_count": 5,
   "metadata": {},
   "outputs": [
    {
     "name": "stderr",
     "output_type": "stream",
     "text": [
      "\u001b[94m06:03:47 \u001b[92m[INFO]\u001b[94m Main\u001b[0m: Starting demo...\n",
      "  0%|          | 0/5352 [00:00<?, ?it/s]/opt/conda/lib/python3.10/site-packages/torchvision/transforms/transforms.py:329: UserWarning: Argument 'interpolation' of type int is deprecated since 0.13 and will be removed in 0.15. Please use InterpolationMode enum.\n",
      "  warnings.warn(\n",
      "/opt/conda/lib/python3.10/site-packages/torchvision/transforms/transforms.py:329: UserWarning: Argument 'interpolation' of type int is deprecated since 0.13 and will be removed in 0.15. Please use InterpolationMode enum.\n",
      "  warnings.warn(\n",
      "/opt/conda/lib/python3.10/site-packages/torchvision/transforms/transforms.py:329: UserWarning: Argument 'interpolation' of type int is deprecated since 0.13 and will be removed in 0.15. Please use InterpolationMode enum.\n",
      "  warnings.warn(\n",
      "/opt/conda/lib/python3.10/site-packages/torchvision/transforms/transforms.py:329: UserWarning: Argument 'interpolation' of type int is deprecated since 0.13 and will be removed in 0.15. Please use InterpolationMode enum.\n",
      "  warnings.warn(\n",
      "/opt/conda/lib/python3.10/site-packages/torchvision/transforms/transforms.py:329: UserWarning: Argument 'interpolation' of type int is deprecated since 0.13 and will be removed in 0.15. Please use InterpolationMode enum.\n",
      "  warnings.warn(\n",
      "/opt/conda/lib/python3.10/site-packages/torchvision/transforms/transforms.py:329: UserWarning: Argument 'interpolation' of type int is deprecated since 0.13 and will be removed in 0.15. Please use InterpolationMode enum.\n",
      "  warnings.warn(\n",
      "/opt/conda/lib/python3.10/site-packages/torchvision/transforms/transforms.py:329: UserWarning: Argument 'interpolation' of type int is deprecated since 0.13 and will be removed in 0.15. Please use InterpolationMode enum.\n",
      "  warnings.warn(\n",
      "/opt/conda/lib/python3.10/site-packages/torchvision/transforms/transforms.py:329: UserWarning: Argument 'interpolation' of type int is deprecated since 0.13 and will be removed in 0.15. Please use InterpolationMode enum.\n",
      "  warnings.warn(\n",
      "/opt/conda/lib/python3.10/site-packages/torchvision/transforms/transforms.py:329: UserWarning: Argument 'interpolation' of type int is deprecated since 0.13 and will be removed in 0.15. Please use InterpolationMode enum.\n",
      "  warnings.warn(\n",
      "/opt/conda/lib/python3.10/site-packages/torchvision/transforms/transforms.py:329: UserWarning: Argument 'interpolation' of type int is deprecated since 0.13 and will be removed in 0.15. Please use InterpolationMode enum.\n",
      "  warnings.warn(\n",
      "/opt/conda/lib/python3.10/site-packages/torchvision/transforms/transforms.py:329: UserWarning: Argument 'interpolation' of type int is deprecated since 0.13 and will be removed in 0.15. Please use InterpolationMode enum.\n",
      "  warnings.warn(\n",
      "/opt/conda/lib/python3.10/site-packages/torchvision/transforms/transforms.py:329: UserWarning: Argument 'interpolation' of type int is deprecated since 0.13 and will be removed in 0.15. Please use InterpolationMode enum.\n",
      "  warnings.warn(\n",
      "/opt/conda/lib/python3.10/site-packages/torchvision/transforms/transforms.py:329: UserWarning: Argument 'interpolation' of type int is deprecated since 0.13 and will be removed in 0.15. Please use InterpolationMode enum.\n",
      "  warnings.warn(\n",
      "/opt/conda/lib/python3.10/site-packages/torchvision/transforms/transforms.py:329: UserWarning: Argument 'interpolation' of type int is deprecated since 0.13 and will be removed in 0.15. Please use InterpolationMode enum.\n",
      "  warnings.warn(\n",
      "/opt/conda/lib/python3.10/site-packages/torchvision/transforms/transforms.py:329: UserWarning: Argument 'interpolation' of type int is deprecated since 0.13 and will be removed in 0.15. Please use InterpolationMode enum.\n",
      "  warnings.warn(\n",
      "/opt/conda/lib/python3.10/site-packages/torchvision/transforms/transforms.py:329: UserWarning: Argument 'interpolation' of type int is deprecated since 0.13 and will be removed in 0.15. Please use InterpolationMode enum.\n",
      "  warnings.warn(\n",
      "/opt/conda/lib/python3.10/site-packages/torchvision/transforms/transforms.py:329: UserWarning: Argument 'interpolation' of type int is deprecated since 0.13 and will be removed in 0.15. Please use InterpolationMode enum.\n",
      "  warnings.warn(\n",
      "/opt/conda/lib/python3.10/site-packages/torchvision/transforms/transforms.py:329: UserWarning: Argument 'interpolation' of type int is deprecated since 0.13 and will be removed in 0.15. Please use InterpolationMode enum.\n",
      "  warnings.warn(\n",
      "/opt/conda/lib/python3.10/site-packages/torchvision/transforms/transforms.py:329: UserWarning: Argument 'interpolation' of type int is deprecated since 0.13 and will be removed in 0.15. Please use InterpolationMode enum.\n",
      "  warnings.warn(\n",
      "/opt/conda/lib/python3.10/site-packages/torchvision/transforms/transforms.py:329: UserWarning: Argument 'interpolation' of type int is deprecated since 0.13 and will be removed in 0.15. Please use InterpolationMode enum.\n",
      "  warnings.warn(\n",
      "/opt/conda/lib/python3.10/site-packages/torchvision/transforms/transforms.py:329: UserWarning: Argument 'interpolation' of type int is deprecated since 0.13 and will be removed in 0.15. Please use InterpolationMode enum.\n",
      "  warnings.warn(\n",
      "/opt/conda/lib/python3.10/site-packages/torchvision/transforms/transforms.py:329: UserWarning: Argument 'interpolation' of type int is deprecated since 0.13 and will be removed in 0.15. Please use InterpolationMode enum.\n",
      "  warnings.warn(\n",
      "/opt/conda/lib/python3.10/site-packages/torchvision/transforms/transforms.py:329: UserWarning: Argument 'interpolation' of type int is deprecated since 0.13 and will be removed in 0.15. Please use InterpolationMode enum.\n",
      "  warnings.warn(\n",
      "/opt/conda/lib/python3.10/site-packages/torchvision/transforms/transforms.py:329: UserWarning: Argument 'interpolation' of type int is deprecated since 0.13 and will be removed in 0.15. Please use InterpolationMode enum.\n",
      "  warnings.warn(\n",
      "  4%|▎         | 200/5352 [01:16<29:48,  2.88it/s] "
     ]
    },
    {
     "name": "stdout",
     "output_type": "stream",
     "text": [
      "{'FullBody': {'All': 167.34027099609375, 'UpperStretching': 172.5648193359375, 'Walking': 164.9041748046875, 'LowerStretching': 178.85211181640625, 'Gesticuling': 117.99382781982422, 'Gaming': 142.28079223632812, 'Reacting': 140.6888427734375, 'Patting': 135.32891845703125, 'Greeting': 115.26620483398438, 'Talking': 111.90556335449219}, 'UpperBody': {'All': 137.23582458496094, 'UpperStretching': 150.60699462890625, 'Walking': 120.69486236572266, 'LowerStretching': 117.83885192871094, 'Gesticuling': 112.88623809814453, 'Gaming': 119.14292907714844, 'Reacting': 124.36115264892578, 'Patting': 124.0906753540039, 'Greeting': 107.81401062011719, 'Talking': 107.48957824707031}, 'LowerBody': {'All': 197.4447021484375, 'UpperStretching': 194.5226287841797, 'Walking': 209.11346435546875, 'LowerStretching': 239.86537170410156, 'Gesticuling': 123.10140228271484, 'Gaming': 165.418701171875, 'Reacting': 157.0165252685547, 'Patting': 146.56716918945312, 'Greeting': 122.71839141845703, 'Talking': 116.32152557373047}}\n"
     ]
    },
    {
     "name": "stderr",
     "output_type": "stream",
     "text": [
      "  7%|▋         | 400/5352 [02:25<28:17,  2.92it/s]"
     ]
    },
    {
     "name": "stdout",
     "output_type": "stream",
     "text": [
      "{'FullBody': {'All': 169.1171112060547, 'UpperStretching': 173.3673095703125, 'Walking': 167.47947692871094, 'LowerStretching': 182.40338134765625, 'Gesticuling': 119.5942153930664, 'Gaming': 139.87884521484375, 'Reacting': 142.30665588378906, 'Patting': 138.8557891845703, 'Greeting': 114.63483428955078, 'Talking': 112.4413833618164}, 'UpperBody': {'All': 137.31687927246094, 'UpperStretching': 150.4978790283203, 'Walking': 122.67889404296875, 'LowerStretching': 118.0055160522461, 'Gesticuling': 114.41849517822266, 'Gaming': 113.98265838623047, 'Reacting': 127.61393737792969, 'Patting': 122.81769561767578, 'Greeting': 106.41668701171875, 'Talking': 105.06967163085938}, 'LowerBody': {'All': 200.9173583984375, 'UpperStretching': 196.2367401123047, 'Walking': 212.28004455566406, 'LowerStretching': 246.80126953125, 'Gesticuling': 124.76990509033203, 'Gaming': 165.77505493164062, 'Reacting': 156.99937438964844, 'Patting': 154.89390563964844, 'Greeting': 122.85298919677734, 'Talking': 119.81307220458984}}\n"
     ]
    },
    {
     "name": "stderr",
     "output_type": "stream",
     "text": [
      " 11%|█         | 600/5352 [03:34<27:09,  2.92it/s]"
     ]
    },
    {
     "name": "stdout",
     "output_type": "stream",
     "text": [
      "{'FullBody': {'All': 169.6072540283203, 'UpperStretching': 174.0916748046875, 'Walking': 166.3716278076172, 'LowerStretching': 183.16079711914062, 'Gesticuling': 121.33809661865234, 'Gaming': 139.85450744628906, 'Reacting': 142.28321838378906, 'Patting': 135.83702087402344, 'Greeting': 112.78387451171875, 'Talking': 111.85824584960938}, 'UpperBody': {'All': 137.6878204345703, 'UpperStretching': 150.72096252441406, 'Walking': 122.23580932617188, 'LowerStretching': 118.99771881103516, 'Gesticuling': 116.40299224853516, 'Gaming': 112.93342590332031, 'Reacting': 127.4955825805664, 'Patting': 121.788330078125, 'Greeting': 104.85152435302734, 'Talking': 105.39790344238281}, 'LowerBody': {'All': 201.52667236328125, 'UpperStretching': 197.4623565673828, 'Walking': 210.5074462890625, 'LowerStretching': 247.3238983154297, 'Gesticuling': 126.27318572998047, 'Gaming': 166.77561950683594, 'Reacting': 157.07086181640625, 'Patting': 149.8857421875, 'Greeting': 120.71621704101562, 'Talking': 118.31858825683594}}\n"
     ]
    },
    {
     "name": "stderr",
     "output_type": "stream",
     "text": [
      " 15%|█▍        | 800/5352 [04:42<26:05,  2.91it/s]"
     ]
    },
    {
     "name": "stdout",
     "output_type": "stream",
     "text": [
      "{'FullBody': {'All': 169.62802124023438, 'UpperStretching': 174.10194396972656, 'Walking': 166.14071655273438, 'LowerStretching': 183.25074768066406, 'Gesticuling': 119.87132263183594, 'Gaming': 136.9674530029297, 'Reacting': 143.1805419921875, 'Patting': 137.12953186035156, 'Greeting': 111.28369903564453, 'Talking': 111.8913345336914}, 'UpperBody': {'All': 137.56689453125, 'UpperStretching': 150.49510192871094, 'Walking': 122.55338287353516, 'LowerStretching': 118.6052017211914, 'Gesticuling': 114.75444793701172, 'Gaming': 112.16219329833984, 'Reacting': 127.7747573852539, 'Patting': 122.869384765625, 'Greeting': 103.95164489746094, 'Talking': 105.91261291503906}, 'LowerBody': {'All': 201.68917846679688, 'UpperStretching': 197.70883178710938, 'Walking': 209.72808837890625, 'LowerStretching': 247.89630126953125, 'Gesticuling': 124.98818969726562, 'Gaming': 161.77268981933594, 'Reacting': 158.58633422851562, 'Patting': 151.38970947265625, 'Greeting': 118.61571502685547, 'Talking': 117.87005615234375}}\n"
     ]
    },
    {
     "name": "stderr",
     "output_type": "stream",
     "text": [
      " 19%|█▊        | 1000/5352 [05:51<25:06,  2.89it/s]"
     ]
    },
    {
     "name": "stdout",
     "output_type": "stream",
     "text": [
      "{'FullBody': {'All': 169.60752868652344, 'UpperStretching': 174.1523895263672, 'Walking': 166.52609252929688, 'LowerStretching': 182.475830078125, 'Gesticuling': 120.74298095703125, 'Gaming': 135.5369415283203, 'Reacting': 143.5915985107422, 'Patting': 140.3954315185547, 'Greeting': 111.73919677734375, 'Talking': 111.55213165283203}, 'UpperBody': {'All': 137.58145141601562, 'UpperStretching': 150.71759033203125, 'Walking': 122.91526794433594, 'LowerStretching': 118.25, 'Gesticuling': 114.74473571777344, 'Gaming': 111.7177734375, 'Reacting': 126.5115966796875, 'Patting': 124.38793182373047, 'Greeting': 104.32302856445312, 'Talking': 105.06536865234375}, 'LowerBody': {'All': 201.6336212158203, 'UpperStretching': 197.58721923828125, 'Walking': 210.1369171142578, 'LowerStretching': 246.70166015625, 'Gesticuling': 126.74121856689453, 'Gaming': 159.3561248779297, 'Reacting': 160.67160034179688, 'Patting': 156.40292358398438, 'Greeting': 119.15535736083984, 'Talking': 118.03888702392578}}\n"
     ]
    },
    {
     "name": "stderr",
     "output_type": "stream",
     "text": [
      " 22%|██▏       | 1200/5352 [07:00<23:55,  2.89it/s]"
     ]
    },
    {
     "name": "stdout",
     "output_type": "stream",
     "text": [
      "{'FullBody': {'All': 169.84271240234375, 'UpperStretching': 174.14108276367188, 'Walking': 168.25979614257812, 'LowerStretching': 182.39747619628906, 'Gesticuling': 120.84272003173828, 'Gaming': 135.2461395263672, 'Reacting': 144.74044799804688, 'Patting': 140.88861083984375, 'Greeting': 109.2483139038086, 'Talking': 112.66056823730469}, 'UpperBody': {'All': 137.76377868652344, 'UpperStretching': 150.74920654296875, 'Walking': 123.4806137084961, 'LowerStretching': 118.3213882446289, 'Gesticuling': 114.37804412841797, 'Gaming': 111.85943603515625, 'Reacting': 127.7929458618164, 'Patting': 123.80323028564453, 'Greeting': 101.81061553955078, 'Talking': 105.94054412841797}, 'LowerBody': {'All': 201.92164611816406, 'UpperStretching': 197.53297424316406, 'Walking': 213.03895568847656, 'LowerStretching': 246.4735565185547, 'Gesticuling': 127.30740356445312, 'Gaming': 158.6328582763672, 'Reacting': 161.6879425048828, 'Patting': 157.9739990234375, 'Greeting': 116.68603515625, 'Talking': 119.38059997558594}}\n"
     ]
    },
    {
     "name": "stderr",
     "output_type": "stream",
     "text": [
      " 26%|██▌       | 1400/5352 [08:09<22:48,  2.89it/s]"
     ]
    },
    {
     "name": "stdout",
     "output_type": "stream",
     "text": [
      "{'FullBody': {'All': 169.72109985351562, 'UpperStretching': 173.96177673339844, 'Walking': 169.0242919921875, 'LowerStretching': 181.84861755371094, 'Gesticuling': 121.2759780883789, 'Gaming': 134.5068359375, 'Reacting': 146.76344299316406, 'Patting': 139.97630310058594, 'Greeting': 107.97672271728516, 'Talking': 111.75830078125}, 'UpperBody': {'All': 137.73875427246094, 'UpperStretching': 150.64080810546875, 'Walking': 123.65020751953125, 'LowerStretching': 118.2455062866211, 'Gesticuling': 115.18939971923828, 'Gaming': 111.62469482421875, 'Reacting': 128.2265625, 'Patting': 122.64710235595703, 'Greeting': 100.32545471191406, 'Talking': 105.09077453613281}, 'LowerBody': {'All': 201.70343017578125, 'UpperStretching': 197.2827606201172, 'Walking': 214.39837646484375, 'LowerStretching': 245.45175170898438, 'Gesticuling': 127.36255645751953, 'Gaming': 157.38897705078125, 'Reacting': 165.3003387451172, 'Patting': 157.3054962158203, 'Greeting': 115.62798309326172, 'Talking': 118.42582702636719}}\n"
     ]
    },
    {
     "name": "stderr",
     "output_type": "stream",
     "text": [
      " 30%|██▉       | 1600/5352 [09:18<21:43,  2.88it/s]"
     ]
    },
    {
     "name": "stdout",
     "output_type": "stream",
     "text": [
      "{'FullBody': {'All': 169.8957061767578, 'UpperStretching': 174.1020050048828, 'Walking': 170.4729766845703, 'LowerStretching': 181.2216796875, 'Gesticuling': 121.26851654052734, 'Gaming': 135.29920959472656, 'Reacting': 146.81590270996094, 'Patting': 140.4173126220703, 'Greeting': 107.31462860107422, 'Talking': 112.57881164550781}, 'UpperBody': {'All': 137.91725158691406, 'UpperStretching': 150.7505340576172, 'Walking': 124.11671447753906, 'LowerStretching': 118.23495483398438, 'Gesticuling': 115.23676300048828, 'Gaming': 111.96532440185547, 'Reacting': 128.5821533203125, 'Patting': 122.61849975585938, 'Greeting': 99.58467102050781, 'Talking': 105.63458251953125}, 'LowerBody': {'All': 201.87417602539062, 'UpperStretching': 197.45352172851562, 'Walking': 216.82925415039062, 'LowerStretching': 244.2084197998047, 'Gesticuling': 127.30026245117188, 'Gaming': 158.6331329345703, 'Reacting': 165.0496368408203, 'Patting': 158.21612548828125, 'Greeting': 115.04457092285156, 'Talking': 119.52305603027344}}\n"
     ]
    },
    {
     "name": "stderr",
     "output_type": "stream",
     "text": [
      " 34%|███▎      | 1800/5352 [10:27<20:34,  2.88it/s]"
     ]
    },
    {
     "name": "stdout",
     "output_type": "stream",
     "text": [
      "{'FullBody': {'All': 169.98452758789062, 'UpperStretching': 174.08811950683594, 'Walking': 170.60092163085938, 'LowerStretching': 181.6559295654297, 'Gesticuling': 120.9272689819336, 'Gaming': 135.60879516601562, 'Reacting': 146.73825073242188, 'Patting': 139.16134643554688, 'Greeting': 107.2945327758789, 'Talking': 112.78812408447266}, 'UpperBody': {'All': 137.87722778320312, 'UpperStretching': 150.63455200195312, 'Walking': 124.17076873779297, 'LowerStretching': 118.31686401367188, 'Gesticuling': 114.42098236083984, 'Gaming': 112.00703430175781, 'Reacting': 128.9951629638672, 'Patting': 121.71343994140625, 'Greeting': 99.79623413085938, 'Talking': 106.15618896484375}, 'LowerBody': {'All': 202.0918426513672, 'UpperStretching': 197.5416717529297, 'Walking': 217.03111267089844, 'LowerStretching': 244.99501037597656, 'Gesticuling': 127.43356323242188, 'Gaming': 159.21054077148438, 'Reacting': 164.4813232421875, 'Patting': 156.6092529296875, 'Greeting': 114.7928237915039, 'Talking': 119.42005920410156}}\n"
     ]
    },
    {
     "name": "stderr",
     "output_type": "stream",
     "text": [
      " 37%|███▋      | 2000/5352 [11:36<19:25,  2.88it/s]"
     ]
    },
    {
     "name": "stdout",
     "output_type": "stream",
     "text": [
      "{'FullBody': {'All': 169.9962158203125, 'UpperStretching': 174.31796264648438, 'Walking': 170.17237854003906, 'LowerStretching': 181.6800079345703, 'Gesticuling': 120.30123138427734, 'Gaming': 135.63072204589844, 'Reacting': 146.79986572265625, 'Patting': 137.6563262939453, 'Greeting': 107.43058013916016, 'Talking': 111.88109588623047}, 'UpperBody': {'All': 137.81715393066406, 'UpperStretching': 150.69296264648438, 'Walking': 123.88155364990234, 'LowerStretching': 118.31071472167969, 'Gesticuling': 113.51201629638672, 'Gaming': 111.97001647949219, 'Reacting': 129.30384826660156, 'Patting': 121.36380004882812, 'Greeting': 99.81954956054688, 'Talking': 105.74122619628906}, 'LowerBody': {'All': 202.17527770996094, 'UpperStretching': 197.94296264648438, 'Walking': 216.46322631835938, 'LowerStretching': 245.04931640625, 'Gesticuling': 127.09046936035156, 'Gaming': 159.29144287109375, 'Reacting': 164.2958984375, 'Patting': 153.94882202148438, 'Greeting': 115.04161071777344, 'Talking': 118.0209732055664}}\n"
     ]
    },
    {
     "name": "stderr",
     "output_type": "stream",
     "text": [
      " 41%|████      | 2200/5352 [12:45<18:15,  2.88it/s]"
     ]
    },
    {
     "name": "stdout",
     "output_type": "stream",
     "text": [
      "{'FullBody': {'All': 169.8224639892578, 'UpperStretching': 174.1352996826172, 'Walking': 169.12989807128906, 'LowerStretching': 182.15846252441406, 'Gesticuling': 119.85083770751953, 'Gaming': 135.14041137695312, 'Reacting': 146.08160400390625, 'Patting': 137.9964141845703, 'Greeting': 108.2993392944336, 'Talking': 111.20886993408203}, 'UpperBody': {'All': 137.6570587158203, 'UpperStretching': 150.53077697753906, 'Walking': 123.42008972167969, 'LowerStretching': 118.53629302978516, 'Gesticuling': 113.05504608154297, 'Gaming': 111.86813354492188, 'Reacting': 128.73745727539062, 'Patting': 121.11845397949219, 'Greeting': 100.80278015136719, 'Talking': 105.53852844238281}, 'LowerBody': {'All': 201.98788452148438, 'UpperStretching': 197.73983764648438, 'Walking': 214.8397216796875, 'LowerStretching': 245.7806396484375, 'Gesticuling': 126.6466293334961, 'Gaming': 158.4126739501953, 'Reacting': 163.42572021484375, 'Patting': 154.8743896484375, 'Greeting': 115.79586791992188, 'Talking': 116.87920379638672}}\n"
     ]
    },
    {
     "name": "stderr",
     "output_type": "stream",
     "text": [
      " 45%|████▍     | 2400/5352 [13:54<17:07,  2.87it/s]"
     ]
    },
    {
     "name": "stdout",
     "output_type": "stream",
     "text": [
      "{'FullBody': {'All': 169.6668701171875, 'UpperStretching': 173.9818572998047, 'Walking': 168.9228057861328, 'LowerStretching': 182.0375518798828, 'Gesticuling': 119.37939453125, 'Gaming': 135.38841247558594, 'Reacting': 146.5916290283203, 'Patting': 137.6982879638672, 'Greeting': 108.58735656738281, 'Talking': 110.98936462402344}, 'UpperBody': {'All': 137.63584899902344, 'UpperStretching': 150.4720916748047, 'Walking': 123.25990295410156, 'LowerStretching': 118.64775848388672, 'Gesticuling': 112.44876098632812, 'Gaming': 111.60418701171875, 'Reacting': 128.52297973632812, 'Patting': 120.53362274169922, 'Greeting': 101.17537689208984, 'Talking': 104.98295593261719}, 'LowerBody': {'All': 201.69790649414062, 'UpperStretching': 197.49160766601562, 'Walking': 214.58572387695312, 'LowerStretching': 245.42733764648438, 'Gesticuling': 126.31004333496094, 'Gaming': 159.1726531982422, 'Reacting': 164.66029357910156, 'Patting': 154.8629608154297, 'Greeting': 115.99933624267578, 'Talking': 116.99577331542969}}\n"
     ]
    },
    {
     "name": "stderr",
     "output_type": "stream",
     "text": [
      " 49%|████▊     | 2600/5352 [15:03<15:57,  2.87it/s]"
     ]
    },
    {
     "name": "stdout",
     "output_type": "stream",
     "text": [
      "{'FullBody': {'All': 169.76220703125, 'UpperStretching': 174.1514129638672, 'Walking': 168.81947326660156, 'LowerStretching': 182.01002502441406, 'Gesticuling': 118.72943878173828, 'Gaming': 134.9748992919922, 'Reacting': 147.05096435546875, 'Patting': 137.8779296875, 'Greeting': 107.99881744384766, 'Talking': 110.58704376220703}, 'UpperBody': {'All': 137.68936157226562, 'UpperStretching': 150.5159912109375, 'Walking': 123.39319610595703, 'LowerStretching': 118.59720611572266, 'Gesticuling': 111.95889282226562, 'Gaming': 111.28114318847656, 'Reacting': 129.0401611328125, 'Patting': 120.79029083251953, 'Greeting': 100.7907943725586, 'Talking': 105.01429748535156}, 'LowerBody': {'All': 201.83505249023438, 'UpperStretching': 197.78683471679688, 'Walking': 214.24574279785156, 'LowerStretching': 245.4228515625, 'Gesticuling': 125.49998474121094, 'Gaming': 158.6686553955078, 'Reacting': 165.061767578125, 'Patting': 154.96556091308594, 'Greeting': 115.20684814453125, 'Talking': 116.15978240966797}}\n"
     ]
    },
    {
     "name": "stderr",
     "output_type": "stream",
     "text": [
      " 52%|█████▏    | 2800/5352 [16:12<14:51,  2.86it/s]"
     ]
    },
    {
     "name": "stdout",
     "output_type": "stream",
     "text": [
      "{'FullBody': {'All': 169.7531280517578, 'UpperStretching': 174.23312377929688, 'Walking': 168.579345703125, 'LowerStretching': 181.9179229736328, 'Gesticuling': 118.74539184570312, 'Gaming': 135.60858154296875, 'Reacting': 146.51995849609375, 'Patting': 138.29347229003906, 'Greeting': 107.45867919921875, 'Talking': 110.84673309326172}, 'UpperBody': {'All': 137.73983764648438, 'UpperStretching': 150.6250457763672, 'Walking': 123.3565673828125, 'LowerStretching': 118.55323791503906, 'Gesticuling': 112.12187194824219, 'Gaming': 111.4889144897461, 'Reacting': 128.53285217285156, 'Patting': 121.42723846435547, 'Greeting': 100.07283782958984, 'Talking': 105.41712951660156}, 'LowerBody': {'All': 201.7664337158203, 'UpperStretching': 197.8412322998047, 'Walking': 213.80215454101562, 'LowerStretching': 245.28260803222656, 'Gesticuling': 125.368896484375, 'Gaming': 159.728271484375, 'Reacting': 164.50704956054688, 'Patting': 155.1597137451172, 'Greeting': 114.84451293945312, 'Talking': 116.27633666992188}}\n"
     ]
    },
    {
     "name": "stderr",
     "output_type": "stream",
     "text": [
      " 56%|█████▌    | 3000/5352 [17:21<13:41,  2.86it/s]"
     ]
    },
    {
     "name": "stdout",
     "output_type": "stream",
     "text": [
      "{'FullBody': {'All': 169.76524353027344, 'UpperStretching': 174.2826385498047, 'Walking': 168.72085571289062, 'LowerStretching': 181.85693359375, 'Gesticuling': 118.75637817382812, 'Gaming': 135.1924591064453, 'Reacting': 146.19874572753906, 'Patting': 137.88320922851562, 'Greeting': 107.26266479492188, 'Talking': 110.87557220458984}, 'UpperBody': {'All': 137.76832580566406, 'UpperStretching': 150.61935424804688, 'Walking': 123.40332794189453, 'LowerStretching': 118.56251525878906, 'Gesticuling': 112.18687438964844, 'Gaming': 111.08841705322266, 'Reacting': 128.35377502441406, 'Patting': 121.19999694824219, 'Greeting': 100.00250244140625, 'Talking': 105.0993423461914}, 'LowerBody': {'All': 201.76219177246094, 'UpperStretching': 197.94593811035156, 'Walking': 214.03842163085938, 'LowerStretching': 245.15135192871094, 'Gesticuling': 125.32588195800781, 'Gaming': 159.2965087890625, 'Reacting': 164.04371643066406, 'Patting': 154.56642150878906, 'Greeting': 114.52278900146484, 'Talking': 116.65177154541016}}\n"
     ]
    },
    {
     "name": "stderr",
     "output_type": "stream",
     "text": [
      " 60%|█████▉    | 3200/5352 [18:30<12:32,  2.86it/s]"
     ]
    },
    {
     "name": "stdout",
     "output_type": "stream",
     "text": [
      "{'FullBody': {'All': 169.85287475585938, 'UpperStretching': 174.4575653076172, 'Walking': 168.58883666992188, 'LowerStretching': 182.01588439941406, 'Gesticuling': 118.67605590820312, 'Gaming': 135.88233947753906, 'Reacting': 145.67730712890625, 'Patting': 138.33058166503906, 'Greeting': 106.7682113647461, 'Talking': 110.71912384033203}, 'UpperBody': {'All': 137.89447021484375, 'UpperStretching': 150.7719268798828, 'Walking': 123.50721740722656, 'LowerStretching': 118.7554702758789, 'Gesticuling': 112.4129409790039, 'Gaming': 111.80665588378906, 'Reacting': 128.2574462890625, 'Patting': 120.87077331542969, 'Greeting': 99.60431671142578, 'Talking': 105.27796936035156}, 'LowerBody': {'All': 201.81129455566406, 'UpperStretching': 198.1432342529297, 'Walking': 213.67047119140625, 'LowerStretching': 245.2763214111328, 'Gesticuling': 124.93916320800781, 'Gaming': 159.95802307128906, 'Reacting': 163.09715270996094, 'Patting': 155.7904052734375, 'Greeting': 113.93209838867188, 'Talking': 116.1602783203125}}\n"
     ]
    },
    {
     "name": "stderr",
     "output_type": "stream",
     "text": [
      " 64%|██████▎   | 3400/5352 [19:40<11:24,  2.85it/s]"
     ]
    },
    {
     "name": "stdout",
     "output_type": "stream",
     "text": [
      "{'FullBody': {'All': 169.9685516357422, 'UpperStretching': 174.5086669921875, 'Walking': 168.6095733642578, 'LowerStretching': 182.1700439453125, 'Gesticuling': 118.60372924804688, 'Gaming': 136.1689910888672, 'Reacting': 145.7347412109375, 'Patting': 138.91075134277344, 'Greeting': 107.31626892089844, 'Talking': 110.69876861572266}, 'UpperBody': {'All': 138.03985595703125, 'UpperStretching': 150.9536590576172, 'Walking': 123.5149154663086, 'LowerStretching': 118.82858276367188, 'Gesticuling': 112.34617614746094, 'Gaming': 111.88819885253906, 'Reacting': 128.3596954345703, 'Patting': 120.93788146972656, 'Greeting': 100.2894515991211, 'Talking': 105.22396850585938}, 'LowerBody': {'All': 201.89727783203125, 'UpperStretching': 198.0636749267578, 'Walking': 213.70423889160156, 'LowerStretching': 245.5115203857422, 'Gesticuling': 124.86126708984375, 'Gaming': 160.4497528076172, 'Reacting': 163.10980224609375, 'Patting': 156.88363647460938, 'Greeting': 114.34308624267578, 'Talking': 116.1735610961914}}\n"
     ]
    },
    {
     "name": "stderr",
     "output_type": "stream",
     "text": [
      " 67%|██████▋   | 3600/5352 [20:49<10:13,  2.86it/s]"
     ]
    },
    {
     "name": "stdout",
     "output_type": "stream",
     "text": [
      "{'FullBody': {'All': 169.97970581054688, 'UpperStretching': 174.48289489746094, 'Walking': 168.6656951904297, 'LowerStretching': 182.22157287597656, 'Gesticuling': 118.53467559814453, 'Gaming': 136.49139404296875, 'Reacting': 145.56295776367188, 'Patting': 139.84376525878906, 'Greeting': 108.16146087646484, 'Talking': 111.15582275390625}, 'UpperBody': {'All': 138.0099334716797, 'UpperStretching': 150.94540405273438, 'Walking': 123.47593688964844, 'LowerStretching': 118.8663330078125, 'Gesticuling': 112.11422729492188, 'Gaming': 111.97696685791016, 'Reacting': 128.0937042236328, 'Patting': 121.39102172851562, 'Greeting': 100.86026000976562, 'Talking': 105.50869750976562}, 'LowerBody': {'All': 201.94947814941406, 'UpperStretching': 198.0203857421875, 'Walking': 213.85543823242188, 'LowerStretching': 245.5768585205078, 'Gesticuling': 124.95513153076172, 'Gaming': 161.0058135986328, 'Reacting': 163.0322265625, 'Patting': 158.2965087890625, 'Greeting': 115.46266174316406, 'Talking': 116.80296325683594}}\n"
     ]
    },
    {
     "name": "stderr",
     "output_type": "stream",
     "text": [
      " 71%|███████   | 3800/5352 [21:58<09:03,  2.86it/s]"
     ]
    },
    {
     "name": "stdout",
     "output_type": "stream",
     "text": [
      "{'FullBody': {'All': 169.89898681640625, 'UpperStretching': 174.35971069335938, 'Walking': 168.54127502441406, 'LowerStretching': 182.1824188232422, 'Gesticuling': 118.21414184570312, 'Gaming': 136.36021423339844, 'Reacting': 145.9354705810547, 'Patting': 139.95947265625, 'Greeting': 108.83524322509766, 'Talking': 110.90849304199219}, 'UpperBody': {'All': 137.96804809570312, 'UpperStretching': 150.91224670410156, 'Walking': 123.48603057861328, 'LowerStretching': 118.87234497070312, 'Gesticuling': 111.6441879272461, 'Gaming': 111.80715942382812, 'Reacting': 128.07040405273438, 'Patting': 121.2791976928711, 'Greeting': 101.45379638671875, 'Talking': 105.2782974243164}, 'LowerBody': {'All': 201.8298797607422, 'UpperStretching': 197.8071746826172, 'Walking': 213.59649658203125, 'LowerStretching': 245.4925079345703, 'Gesticuling': 124.7840805053711, 'Gaming': 160.9132537841797, 'Reacting': 163.80055236816406, 'Patting': 158.63975524902344, 'Greeting': 116.21669006347656, 'Talking': 116.53868865966797}}\n"
     ]
    },
    {
     "name": "stderr",
     "output_type": "stream",
     "text": [
      " 75%|███████▍  | 4000/5352 [23:07<07:54,  2.85it/s]"
     ]
    },
    {
     "name": "stdout",
     "output_type": "stream",
     "text": [
      "{'FullBody': {'All': 169.9403533935547, 'UpperStretching': 174.3970947265625, 'Walking': 168.73764038085938, 'LowerStretching': 182.0330810546875, 'Gesticuling': 118.2744369506836, 'Gaming': 136.16221618652344, 'Reacting': 146.12814331054688, 'Patting': 139.456787109375, 'Greeting': 108.61610412597656, 'Talking': 110.82171630859375}, 'UpperBody': {'All': 138.01092529296875, 'UpperStretching': 151.02442932128906, 'Walking': 123.54864501953125, 'LowerStretching': 118.73797607421875, 'Gesticuling': 111.78033447265625, 'Gaming': 111.61424255371094, 'Reacting': 128.21014404296875, 'Patting': 120.9796371459961, 'Greeting': 101.18544006347656, 'Talking': 105.44198608398438}, 'LowerBody': {'All': 201.8697967529297, 'UpperStretching': 197.76976013183594, 'Walking': 213.9266357421875, 'LowerStretching': 245.32818603515625, 'Gesticuling': 124.7685546875, 'Gaming': 160.71023559570312, 'Reacting': 164.04612731933594, 'Patting': 157.93394470214844, 'Greeting': 116.04676818847656, 'Talking': 116.20144653320312}}\n"
     ]
    },
    {
     "name": "stderr",
     "output_type": "stream",
     "text": [
      " 78%|███████▊  | 4200/5352 [24:16<06:45,  2.84it/s]"
     ]
    },
    {
     "name": "stdout",
     "output_type": "stream",
     "text": [
      "{'FullBody': {'All': 169.88328552246094, 'UpperStretching': 174.38230895996094, 'Walking': 168.4667205810547, 'LowerStretching': 181.9239501953125, 'Gesticuling': 118.0472412109375, 'Gaming': 136.14158630371094, 'Reacting': 146.03636169433594, 'Patting': 140.01834106445312, 'Greeting': 108.7789077758789, 'Talking': 110.57477569580078}, 'UpperBody': {'All': 137.9703826904297, 'UpperStretching': 150.99209594726562, 'Walking': 123.43772888183594, 'LowerStretching': 118.7668685913086, 'Gesticuling': 111.36430358886719, 'Gaming': 111.69931030273438, 'Reacting': 127.9072036743164, 'Patting': 121.2280044555664, 'Greeting': 101.31964111328125, 'Talking': 105.35655212402344}, 'LowerBody': {'All': 201.7961883544922, 'UpperStretching': 197.7725372314453, 'Walking': 213.49566650390625, 'LowerStretching': 245.0810546875, 'Gesticuling': 124.73018646240234, 'Gaming': 160.58387756347656, 'Reacting': 164.16552734375, 'Patting': 158.8086700439453, 'Greeting': 116.2381820678711, 'Talking': 115.79299926757812}}\n"
     ]
    },
    {
     "name": "stderr",
     "output_type": "stream",
     "text": [
      " 82%|████████▏ | 4400/5352 [25:25<05:35,  2.84it/s]"
     ]
    },
    {
     "name": "stdout",
     "output_type": "stream",
     "text": [
      "{'FullBody': {'All': 169.8804931640625, 'UpperStretching': 174.33328247070312, 'Walking': 168.5538330078125, 'LowerStretching': 181.9586181640625, 'Gesticuling': 117.84288787841797, 'Gaming': 135.98104858398438, 'Reacting': 146.23919677734375, 'Patting': 139.41128540039062, 'Greeting': 108.35521697998047, 'Talking': 110.6000747680664}, 'UpperBody': {'All': 137.95872497558594, 'UpperStretching': 150.96131896972656, 'Walking': 123.49534606933594, 'LowerStretching': 118.8205337524414, 'Gesticuling': 111.20268249511719, 'Gaming': 111.6559829711914, 'Reacting': 127.83749389648438, 'Patting': 120.75714874267578, 'Greeting': 100.9229736328125, 'Talking': 105.34772491455078}, 'LowerBody': {'All': 201.80227661132812, 'UpperStretching': 197.70529174804688, 'Walking': 213.61233520507812, 'LowerStretching': 245.09671020507812, 'Gesticuling': 124.48307800292969, 'Gaming': 160.30612182617188, 'Reacting': 164.64088439941406, 'Patting': 158.06541442871094, 'Greeting': 115.78748321533203, 'Talking': 115.8524169921875}}\n"
     ]
    },
    {
     "name": "stderr",
     "output_type": "stream",
     "text": [
      " 86%|████████▌ | 4600/5352 [26:34<04:26,  2.83it/s]"
     ]
    },
    {
     "name": "stdout",
     "output_type": "stream",
     "text": [
      "{'FullBody': {'All': 169.90591430664062, 'UpperStretching': 174.383544921875, 'Walking': 168.3999786376953, 'LowerStretching': 182.03993225097656, 'Gesticuling': 117.77136993408203, 'Gaming': 135.882568359375, 'Reacting': 146.28445434570312, 'Patting': 139.15789794921875, 'Greeting': 108.25389099121094, 'Talking': 110.90791320800781}, 'UpperBody': {'All': 137.9651641845703, 'UpperStretching': 150.99203491210938, 'Walking': 123.34416961669922, 'LowerStretching': 118.92243194580078, 'Gesticuling': 111.03656005859375, 'Gaming': 111.40873718261719, 'Reacting': 127.74932861328125, 'Patting': 120.73816680908203, 'Greeting': 100.86595153808594, 'Talking': 105.51146697998047}, 'LowerBody': {'All': 201.84664916992188, 'UpperStretching': 197.7750701904297, 'Walking': 213.4557647705078, 'LowerStretching': 245.1574249267578, 'Gesticuling': 124.50618743896484, 'Gaming': 160.3563995361328, 'Reacting': 164.81956481933594, 'Patting': 157.57765197753906, 'Greeting': 115.64183044433594, 'Talking': 116.30435180664062}}\n"
     ]
    },
    {
     "name": "stderr",
     "output_type": "stream",
     "text": [
      " 90%|████████▉ | 4800/5352 [27:43<03:14,  2.84it/s]"
     ]
    },
    {
     "name": "stdout",
     "output_type": "stream",
     "text": [
      "{'FullBody': {'All': 169.86122131347656, 'UpperStretching': 174.3220977783203, 'Walking': 168.19464111328125, 'LowerStretching': 182.14813232421875, 'Gesticuling': 117.66415405273438, 'Gaming': 136.28759765625, 'Reacting': 146.2996063232422, 'Patting': 138.7809600830078, 'Greeting': 107.97664642333984, 'Talking': 110.81243133544922}, 'UpperBody': {'All': 137.94041442871094, 'UpperStretching': 150.96926879882812, 'Walking': 123.24434661865234, 'LowerStretching': 118.94644165039062, 'Gesticuling': 110.80264282226562, 'Gaming': 111.4754409790039, 'Reacting': 127.78360748291016, 'Patting': 120.36167907714844, 'Greeting': 100.76595306396484, 'Talking': 105.51821899414062}, 'LowerBody': {'All': 201.78201293945312, 'UpperStretching': 197.67494201660156, 'Walking': 213.14491271972656, 'LowerStretching': 245.34979248046875, 'Gesticuling': 124.52566528320312, 'Gaming': 161.09974670410156, 'Reacting': 164.81561279296875, 'Patting': 157.20025634765625, 'Greeting': 115.18733978271484, 'Talking': 116.10664367675781}}\n"
     ]
    },
    {
     "name": "stderr",
     "output_type": "stream",
     "text": [
      " 93%|█████████▎| 5000/5352 [28:52<02:04,  2.83it/s]"
     ]
    },
    {
     "name": "stdout",
     "output_type": "stream",
     "text": [
      "{'FullBody': {'All': 169.82769775390625, 'UpperStretching': 174.28688049316406, 'Walking': 168.12416076660156, 'LowerStretching': 182.13717651367188, 'Gesticuling': 117.58377075195312, 'Gaming': 135.98886108398438, 'Reacting': 146.3273162841797, 'Patting': 138.67506408691406, 'Greeting': 108.0256118774414, 'Talking': 110.75251770019531}, 'UpperBody': {'All': 137.91702270507812, 'UpperStretching': 150.93093872070312, 'Walking': 123.17984008789062, 'LowerStretching': 118.94050598144531, 'Gesticuling': 110.8199691772461, 'Gaming': 111.1744384765625, 'Reacting': 127.80353546142578, 'Patting': 120.2093505859375, 'Greeting': 100.86949157714844, 'Talking': 105.58238220214844}, 'LowerBody': {'All': 201.7383575439453, 'UpperStretching': 197.64283752441406, 'Walking': 213.06846618652344, 'LowerStretching': 245.33383178710938, 'Gesticuling': 124.34757232666016, 'Gaming': 160.80328369140625, 'Reacting': 164.85110473632812, 'Patting': 157.14077758789062, 'Greeting': 115.18173217773438, 'Talking': 115.92265319824219}}\n"
     ]
    },
    {
     "name": "stderr",
     "output_type": "stream",
     "text": [
      " 97%|█████████▋| 5200/5352 [30:01<00:53,  2.83it/s]"
     ]
    },
    {
     "name": "stdout",
     "output_type": "stream",
     "text": [
      "{'FullBody': {'All': 169.7937469482422, 'UpperStretching': 174.2816925048828, 'Walking': 168.229248046875, 'LowerStretching': 181.86880493164062, 'Gesticuling': 117.57875061035156, 'Gaming': 135.93531799316406, 'Reacting': 146.35069274902344, 'Patting': 138.42404174804688, 'Greeting': 108.08985137939453, 'Talking': 110.66747283935547}, 'UpperBody': {'All': 137.9020233154297, 'UpperStretching': 150.93553161621094, 'Walking': 123.22232818603516, 'LowerStretching': 118.84886932373047, 'Gesticuling': 110.6307601928711, 'Gaming': 111.0098648071289, 'Reacting': 127.80113220214844, 'Patting': 120.25474548339844, 'Greeting': 100.9903335571289, 'Talking': 105.42568969726562}, 'LowerBody': {'All': 201.68548583984375, 'UpperStretching': 197.62783813476562, 'Walking': 213.2361602783203, 'LowerStretching': 244.88876342773438, 'Gesticuling': 124.52674865722656, 'Gaming': 160.86077880859375, 'Reacting': 164.90028381347656, 'Patting': 156.59332275390625, 'Greeting': 115.18936920166016, 'Talking': 115.90926361083984}}\n"
     ]
    },
    {
     "name": "stderr",
     "output_type": "stream",
     "text": [
      "100%|██████████| 5352/5352 [30:53<00:00,  2.89it/s]\n",
      "\u001b[94m06:34:45 \u001b[92m[INFO]\u001b[94m Main\u001b[0m: Saving evaluation results...\n",
      "\u001b[94m06:34:45 \u001b[92m[INFO]\u001b[94m Main\u001b[0m: Done.\n",
      "\u001b[94m06:34:45 \u001b[92m[INFO]\u001b[94m Main\u001b[0m: Starting demo...\n",
      "  0%|          | 0/5352 [00:00<?, ?it/s]/opt/conda/lib/python3.10/site-packages/torchvision/transforms/transforms.py:329: UserWarning: Argument 'interpolation' of type int is deprecated since 0.13 and will be removed in 0.15. Please use InterpolationMode enum.\n",
      "  warnings.warn(\n",
      "/opt/conda/lib/python3.10/site-packages/torchvision/transforms/transforms.py:329: UserWarning: Argument 'interpolation' of type int is deprecated since 0.13 and will be removed in 0.15. Please use InterpolationMode enum.\n",
      "  warnings.warn(\n",
      "/opt/conda/lib/python3.10/site-packages/torchvision/transforms/transforms.py:329: UserWarning: Argument 'interpolation' of type int is deprecated since 0.13 and will be removed in 0.15. Please use InterpolationMode enum.\n",
      "  warnings.warn(\n",
      "/opt/conda/lib/python3.10/site-packages/torchvision/transforms/transforms.py:329: UserWarning: Argument 'interpolation' of type int is deprecated since 0.13 and will be removed in 0.15. Please use InterpolationMode enum.\n",
      "  warnings.warn(\n",
      "/opt/conda/lib/python3.10/site-packages/torchvision/transforms/transforms.py:329: UserWarning: Argument 'interpolation' of type int is deprecated since 0.13 and will be removed in 0.15. Please use InterpolationMode enum.\n",
      "  warnings.warn(\n",
      "/opt/conda/lib/python3.10/site-packages/torchvision/transforms/transforms.py:329: UserWarning: Argument 'interpolation' of type int is deprecated since 0.13 and will be removed in 0.15. Please use InterpolationMode enum.\n",
      "  warnings.warn(\n",
      "/opt/conda/lib/python3.10/site-packages/torchvision/transforms/transforms.py:329: UserWarning: Argument 'interpolation' of type int is deprecated since 0.13 and will be removed in 0.15. Please use InterpolationMode enum.\n",
      "  warnings.warn(\n",
      "/opt/conda/lib/python3.10/site-packages/torchvision/transforms/transforms.py:329: UserWarning: Argument 'interpolation' of type int is deprecated since 0.13 and will be removed in 0.15. Please use InterpolationMode enum.\n",
      "  warnings.warn(\n",
      "/opt/conda/lib/python3.10/site-packages/torchvision/transforms/transforms.py:329: UserWarning: Argument 'interpolation' of type int is deprecated since 0.13 and will be removed in 0.15. Please use InterpolationMode enum.\n",
      "  warnings.warn(\n",
      "/opt/conda/lib/python3.10/site-packages/torchvision/transforms/transforms.py:329: UserWarning: Argument 'interpolation' of type int is deprecated since 0.13 and will be removed in 0.15. Please use InterpolationMode enum.\n",
      "  warnings.warn(\n",
      "/opt/conda/lib/python3.10/site-packages/torchvision/transforms/transforms.py:329: UserWarning: Argument 'interpolation' of type int is deprecated since 0.13 and will be removed in 0.15. Please use InterpolationMode enum.\n",
      "  warnings.warn(\n",
      "/opt/conda/lib/python3.10/site-packages/torchvision/transforms/transforms.py:329: UserWarning: Argument 'interpolation' of type int is deprecated since 0.13 and will be removed in 0.15. Please use InterpolationMode enum.\n",
      "  warnings.warn(\n",
      "/opt/conda/lib/python3.10/site-packages/torchvision/transforms/transforms.py:329: UserWarning: Argument 'interpolation' of type int is deprecated since 0.13 and will be removed in 0.15. Please use InterpolationMode enum.\n",
      "  warnings.warn(\n",
      "/opt/conda/lib/python3.10/site-packages/torchvision/transforms/transforms.py:329: UserWarning: Argument 'interpolation' of type int is deprecated since 0.13 and will be removed in 0.15. Please use InterpolationMode enum.\n",
      "  warnings.warn(\n",
      "/opt/conda/lib/python3.10/site-packages/torchvision/transforms/transforms.py:329: UserWarning: Argument 'interpolation' of type int is deprecated since 0.13 and will be removed in 0.15. Please use InterpolationMode enum.\n",
      "  warnings.warn(\n",
      "/opt/conda/lib/python3.10/site-packages/torchvision/transforms/transforms.py:329: UserWarning: Argument 'interpolation' of type int is deprecated since 0.13 and will be removed in 0.15. Please use InterpolationMode enum.\n",
      "  warnings.warn(\n",
      "/opt/conda/lib/python3.10/site-packages/torchvision/transforms/transforms.py:329: UserWarning: Argument 'interpolation' of type int is deprecated since 0.13 and will be removed in 0.15. Please use InterpolationMode enum.\n",
      "  warnings.warn(\n",
      "/opt/conda/lib/python3.10/site-packages/torchvision/transforms/transforms.py:329: UserWarning: Argument 'interpolation' of type int is deprecated since 0.13 and will be removed in 0.15. Please use InterpolationMode enum.\n",
      "  warnings.warn(\n",
      "/opt/conda/lib/python3.10/site-packages/torchvision/transforms/transforms.py:329: UserWarning: Argument 'interpolation' of type int is deprecated since 0.13 and will be removed in 0.15. Please use InterpolationMode enum.\n",
      "  warnings.warn(\n",
      "/opt/conda/lib/python3.10/site-packages/torchvision/transforms/transforms.py:329: UserWarning: Argument 'interpolation' of type int is deprecated since 0.13 and will be removed in 0.15. Please use InterpolationMode enum.\n",
      "  warnings.warn(\n",
      "/opt/conda/lib/python3.10/site-packages/torchvision/transforms/transforms.py:329: UserWarning: Argument 'interpolation' of type int is deprecated since 0.13 and will be removed in 0.15. Please use InterpolationMode enum.\n",
      "  warnings.warn(\n",
      "/opt/conda/lib/python3.10/site-packages/torchvision/transforms/transforms.py:329: UserWarning: Argument 'interpolation' of type int is deprecated since 0.13 and will be removed in 0.15. Please use InterpolationMode enum.\n",
      "  warnings.warn(\n",
      "/opt/conda/lib/python3.10/site-packages/torchvision/transforms/transforms.py:329: UserWarning: Argument 'interpolation' of type int is deprecated since 0.13 and will be removed in 0.15. Please use InterpolationMode enum.\n",
      "  warnings.warn(\n",
      "/opt/conda/lib/python3.10/site-packages/torchvision/transforms/transforms.py:329: UserWarning: Argument 'interpolation' of type int is deprecated since 0.13 and will be removed in 0.15. Please use InterpolationMode enum.\n",
      "  warnings.warn(\n",
      "  4%|▎         | 200/5352 [01:13<29:35,  2.90it/s]"
     ]
    },
    {
     "name": "stdout",
     "output_type": "stream",
     "text": [
      "{'FullBody': {'All': 199.1307830810547, 'Patting': 191.69296264648438, 'UpperStretching': 203.42298889160156, 'LowerStretching': 204.7772979736328, 'Greeting': 158.53948974609375, 'Talking': 143.71295166015625, 'Walking': 201.02474975585938, 'Reacting': 178.6466064453125, 'Gesticuling': 137.0428466796875, 'Gaming': 158.93710327148438}, 'UpperBody': {'All': 168.80859375, 'Patting': 154.3907470703125, 'UpperStretching': 175.8385009765625, 'LowerStretching': 167.3494110107422, 'Greeting': 138.15896606445312, 'Talking': 137.4615936279297, 'Walking': 159.1170654296875, 'Reacting': 144.0242462158203, 'Gesticuling': 139.70191955566406, 'Gaming': 145.26864624023438}, 'LowerBody': {'All': 229.4529266357422, 'Patting': 228.9951629638672, 'UpperStretching': 231.00746154785156, 'LowerStretching': 242.20516967773438, 'Greeting': 178.92002868652344, 'Talking': 149.96432495117188, 'Walking': 242.93243408203125, 'Reacting': 213.2689666748047, 'Gesticuling': 134.38377380371094, 'Gaming': 172.6055908203125}}\n"
     ]
    },
    {
     "name": "stderr",
     "output_type": "stream",
     "text": [
      "  7%|▋         | 400/5352 [02:21<28:29,  2.90it/s]"
     ]
    },
    {
     "name": "stdout",
     "output_type": "stream",
     "text": [
      "{'FullBody': {'All': 197.0067138671875, 'Patting': 186.31878662109375, 'UpperStretching': 201.3892364501953, 'LowerStretching': 202.5271453857422, 'Greeting': 153.58087158203125, 'Talking': 154.50006103515625, 'Walking': 200.85568237304688, 'Reacting': 173.75489807128906, 'Gesticuling': 134.06324768066406, 'Gaming': 161.6431884765625}, 'UpperBody': {'All': 168.1952362060547, 'Patting': 149.44239807128906, 'UpperStretching': 175.5964813232422, 'LowerStretching': 165.29632568359375, 'Greeting': 142.86192321777344, 'Talking': 138.0047607421875, 'Walking': 162.33743286132812, 'Reacting': 140.09326171875, 'Gesticuling': 139.56678771972656, 'Gaming': 142.21432495117188}, 'LowerBody': {'All': 225.81817626953125, 'Patting': 223.19520568847656, 'UpperStretching': 227.18203735351562, 'LowerStretching': 239.75796508789062, 'Greeting': 164.29986572265625, 'Talking': 170.995361328125, 'Walking': 239.37396240234375, 'Reacting': 207.41659545898438, 'Gesticuling': 128.55967712402344, 'Gaming': 181.07199096679688}}\n"
     ]
    },
    {
     "name": "stderr",
     "output_type": "stream",
     "text": [
      " 11%|█         | 600/5352 [03:30<27:18,  2.90it/s]"
     ]
    },
    {
     "name": "stdout",
     "output_type": "stream",
     "text": [
      "{'FullBody': {'All': 196.97914123535156, 'Patting': 181.30601501464844, 'UpperStretching': 201.46707153320312, 'LowerStretching': 203.1299591064453, 'Greeting': 154.09007263183594, 'Talking': 152.73699951171875, 'Walking': 199.76332092285156, 'Reacting': 174.87001037597656, 'Gesticuling': 133.88088989257812, 'Gaming': 162.63394165039062}, 'UpperBody': {'All': 167.8256378173828, 'Patting': 146.82179260253906, 'UpperStretching': 175.11656188964844, 'LowerStretching': 165.1154327392578, 'Greeting': 139.94078063964844, 'Talking': 136.39353942871094, 'Walking': 161.95501708984375, 'Reacting': 139.7747802734375, 'Gesticuling': 141.0044403076172, 'Gaming': 141.3837127685547}, 'LowerBody': {'All': 226.13262939453125, 'Patting': 215.7902374267578, 'UpperStretching': 227.8175506591797, 'LowerStretching': 241.1444854736328, 'Greeting': 168.23936462402344, 'Talking': 169.08047485351562, 'Walking': 237.5716552734375, 'Reacting': 209.96522521972656, 'Gesticuling': 126.75733947753906, 'Gaming': 183.88417053222656}}\n"
     ]
    },
    {
     "name": "stderr",
     "output_type": "stream",
     "text": [
      " 15%|█▍        | 800/5352 [04:39<26:14,  2.89it/s]"
     ]
    },
    {
     "name": "stdout",
     "output_type": "stream",
     "text": [
      "{'FullBody': {'All': 196.44369506835938, 'Patting': 180.44577026367188, 'UpperStretching': 200.62628173828125, 'LowerStretching': 203.04086303710938, 'Greeting': 155.29547119140625, 'Talking': 152.4490966796875, 'Walking': 200.4477081298828, 'Reacting': 174.90618896484375, 'Gesticuling': 134.9542999267578, 'Gaming': 159.99798583984375}, 'UpperBody': {'All': 167.58847045898438, 'Patting': 144.30531311035156, 'UpperStretching': 174.88043212890625, 'LowerStretching': 165.01710510253906, 'Greeting': 139.18894958496094, 'Talking': 136.64344787597656, 'Walking': 162.16656494140625, 'Reacting': 140.63050842285156, 'Gesticuling': 141.4253387451172, 'Gaming': 138.3699951171875}, 'LowerBody': {'All': 225.29891967773438, 'Patting': 216.5862274169922, 'UpperStretching': 226.3721160888672, 'LowerStretching': 241.06460571289062, 'Greeting': 171.40199279785156, 'Talking': 168.2547149658203, 'Walking': 238.72885131835938, 'Reacting': 209.181884765625, 'Gesticuling': 128.4832763671875, 'Gaming': 181.62594604492188}}\n"
     ]
    },
    {
     "name": "stderr",
     "output_type": "stream",
     "text": [
      " 19%|█▊        | 1000/5352 [05:48<25:03,  2.89it/s]"
     ]
    },
    {
     "name": "stdout",
     "output_type": "stream",
     "text": [
      "{'FullBody': {'All': 196.5260009765625, 'Patting': 180.67196655273438, 'UpperStretching': 201.00189208984375, 'LowerStretching': 202.1419219970703, 'Greeting': 154.6680450439453, 'Talking': 153.82354736328125, 'Walking': 200.09288024902344, 'Reacting': 174.04188537597656, 'Gesticuling': 135.5305633544922, 'Gaming': 160.7890625}, 'UpperBody': {'All': 167.35968017578125, 'Patting': 144.84986877441406, 'UpperStretching': 174.4873809814453, 'LowerStretching': 164.55259704589844, 'Greeting': 139.14602661132812, 'Talking': 137.72447204589844, 'Walking': 162.35519409179688, 'Reacting': 140.09385681152344, 'Gesticuling': 141.0797882080078, 'Gaming': 139.921875}, 'LowerBody': {'All': 225.69229125976562, 'Patting': 216.4940643310547, 'UpperStretching': 227.5164337158203, 'LowerStretching': 239.73126220703125, 'Greeting': 170.19004821777344, 'Talking': 169.9226531982422, 'Walking': 237.8305206298828, 'Reacting': 207.98992919921875, 'Gesticuling': 129.9813690185547, 'Gaming': 181.65625}}\n"
     ]
    },
    {
     "name": "stderr",
     "output_type": "stream",
     "text": [
      " 22%|██▏       | 1200/5352 [06:57<24:02,  2.88it/s]"
     ]
    },
    {
     "name": "stdout",
     "output_type": "stream",
     "text": [
      "{'FullBody': {'All': 196.8309326171875, 'Patting': 182.21047973632812, 'UpperStretching': 201.5542449951172, 'LowerStretching': 202.1530303955078, 'Greeting': 156.12916564941406, 'Talking': 154.7921600341797, 'Walking': 199.214599609375, 'Reacting': 174.9082794189453, 'Gesticuling': 135.28280639648438, 'Gaming': 161.22935485839844}, 'UpperBody': {'All': 167.41334533691406, 'Patting': 145.57920837402344, 'UpperStretching': 174.58839416503906, 'LowerStretching': 164.83888244628906, 'Greeting': 139.78543090820312, 'Talking': 137.9894256591797, 'Walking': 161.7548065185547, 'Reacting': 139.85455322265625, 'Gesticuling': 140.77725219726562, 'Gaming': 139.7164306640625}, 'LowerBody': {'All': 226.24853515625, 'Patting': 218.84178161621094, 'UpperStretching': 228.52012634277344, 'LowerStretching': 239.4671630859375, 'Greeting': 172.47288513183594, 'Talking': 171.5948486328125, 'Walking': 236.6743621826172, 'Reacting': 209.96202087402344, 'Gesticuling': 129.78836059570312, 'Gaming': 182.74229431152344}}\n"
     ]
    },
    {
     "name": "stderr",
     "output_type": "stream",
     "text": [
      " 26%|██▌       | 1400/5352 [08:06<22:51,  2.88it/s]"
     ]
    },
    {
     "name": "stdout",
     "output_type": "stream",
     "text": [
      "{'FullBody': {'All': 196.95269775390625, 'Patting': 182.3555450439453, 'UpperStretching': 201.62001037597656, 'LowerStretching': 202.1407470703125, 'Greeting': 155.46372985839844, 'Talking': 155.04441833496094, 'Walking': 199.3438262939453, 'Reacting': 175.75025939941406, 'Gesticuling': 134.72389221191406, 'Gaming': 162.04669189453125}, 'UpperBody': {'All': 167.47096252441406, 'Patting': 145.3210906982422, 'UpperStretching': 174.58978271484375, 'LowerStretching': 164.63612365722656, 'Greeting': 140.50221252441406, 'Talking': 138.36297607421875, 'Walking': 161.8411102294922, 'Reacting': 140.7734375, 'Gesticuling': 140.06101989746094, 'Gaming': 140.44931030273438}, 'LowerBody': {'All': 226.4344482421875, 'Patting': 219.38999938964844, 'UpperStretching': 228.65023803710938, 'LowerStretching': 239.64535522460938, 'Greeting': 170.42526245117188, 'Talking': 171.725830078125, 'Walking': 236.84652709960938, 'Reacting': 210.72708129882812, 'Gesticuling': 129.38677978515625, 'Gaming': 183.64402770996094}}\n"
     ]
    },
    {
     "name": "stderr",
     "output_type": "stream",
     "text": [
      " 30%|██▉       | 1600/5352 [09:16<21:44,  2.88it/s]"
     ]
    },
    {
     "name": "stdout",
     "output_type": "stream",
     "text": [
      "{'FullBody': {'All': 197.2091064453125, 'Patting': 181.80706787109375, 'UpperStretching': 202.0087890625, 'LowerStretching': 201.91439819335938, 'Greeting': 154.28167724609375, 'Talking': 155.5442352294922, 'Walking': 199.81732177734375, 'Reacting': 175.97633361816406, 'Gesticuling': 134.63516235351562, 'Gaming': 163.77818298339844}, 'UpperBody': {'All': 167.58221435546875, 'Patting': 145.37722778320312, 'UpperStretching': 174.75648498535156, 'LowerStretching': 164.42698669433594, 'Greeting': 140.942626953125, 'Talking': 138.39761352539062, 'Walking': 162.0541534423828, 'Reacting': 140.34434509277344, 'Gesticuling': 140.15843200683594, 'Gaming': 141.18795776367188}, 'LowerBody': {'All': 226.8359832763672, 'Patting': 218.23692321777344, 'UpperStretching': 229.2610626220703, 'LowerStretching': 239.40184020996094, 'Greeting': 167.62075805664062, 'Talking': 172.69085693359375, 'Walking': 237.5804443359375, 'Reacting': 211.6083221435547, 'Gesticuling': 129.1118927001953, 'Gaming': 186.36839294433594}}\n"
     ]
    },
    {
     "name": "stderr",
     "output_type": "stream",
     "text": [
      " 34%|███▎      | 1800/5352 [10:25<20:36,  2.87it/s]"
     ]
    },
    {
     "name": "stdout",
     "output_type": "stream",
     "text": [
      "{'FullBody': {'All': 197.28298950195312, 'Patting': 181.86329650878906, 'UpperStretching': 202.0277557373047, 'LowerStretching': 202.03591918945312, 'Greeting': 154.10923767089844, 'Talking': 155.4136505126953, 'Walking': 200.24911499023438, 'Reacting': 177.4034423828125, 'Gesticuling': 135.18899536132812, 'Gaming': 163.2392120361328}, 'UpperBody': {'All': 167.67514038085938, 'Patting': 145.06881713867188, 'UpperStretching': 174.75038146972656, 'LowerStretching': 164.83522033691406, 'Greeting': 141.9330291748047, 'Talking': 138.29638671875, 'Walking': 162.16238403320312, 'Reacting': 140.81964111328125, 'Gesticuling': 140.81167602539062, 'Gaming': 140.9293212890625}, 'LowerBody': {'All': 226.8907928466797, 'Patting': 218.65777587890625, 'UpperStretching': 229.30508422851562, 'LowerStretching': 239.2366180419922, 'Greeting': 166.285400390625, 'Talking': 172.53091430664062, 'Walking': 238.33583068847656, 'Reacting': 213.9872283935547, 'Gesticuling': 129.56626892089844, 'Gaming': 185.54908752441406}}\n"
     ]
    },
    {
     "name": "stderr",
     "output_type": "stream",
     "text": [
      " 37%|███▋      | 2000/5352 [11:34<19:27,  2.87it/s]"
     ]
    },
    {
     "name": "stdout",
     "output_type": "stream",
     "text": [
      "{'FullBody': {'All': 197.3090057373047, 'Patting': 184.4068603515625, 'UpperStretching': 201.81398010253906, 'LowerStretching': 202.31497192382812, 'Greeting': 153.7341766357422, 'Talking': 155.51596069335938, 'Walking': 200.74603271484375, 'Reacting': 177.33033752441406, 'Gesticuling': 134.97378540039062, 'Gaming': 163.64085388183594}, 'UpperBody': {'All': 167.7178192138672, 'Patting': 146.0520782470703, 'UpperStretching': 174.72113037109375, 'LowerStretching': 165.00340270996094, 'Greeting': 142.1699676513672, 'Talking': 137.93153381347656, 'Walking': 162.52029418945312, 'Reacting': 140.3348388671875, 'Gesticuling': 140.68231201171875, 'Gaming': 141.3977508544922}, 'LowerBody': {'All': 226.90016174316406, 'Patting': 222.7616424560547, 'UpperStretching': 228.9068145751953, 'LowerStretching': 239.62657165527344, 'Greeting': 165.2984161376953, 'Talking': 173.10037231445312, 'Walking': 238.97178649902344, 'Reacting': 214.32583618164062, 'Gesticuling': 129.26522827148438, 'Gaming': 185.88392639160156}}\n"
     ]
    },
    {
     "name": "stderr",
     "output_type": "stream",
     "text": [
      " 41%|████      | 2200/5352 [12:43<18:18,  2.87it/s]"
     ]
    },
    {
     "name": "stdout",
     "output_type": "stream",
     "text": [
      "{'FullBody': {'All': 197.2914581298828, 'Patting': 184.93914794921875, 'UpperStretching': 202.00009155273438, 'LowerStretching': 202.1767578125, 'Greeting': 153.5847625732422, 'Talking': 154.6050567626953, 'Walking': 200.48377990722656, 'Reacting': 177.74131774902344, 'Gesticuling': 135.03208923339844, 'Gaming': 163.23550415039062}, 'UpperBody': {'All': 167.70626831054688, 'Patting': 146.8016357421875, 'UpperStretching': 174.8065948486328, 'LowerStretching': 165.00711059570312, 'Greeting': 141.88711547851562, 'Talking': 137.79441833496094, 'Walking': 162.3614044189453, 'Reacting': 139.68963623046875, 'Gesticuling': 140.7373809814453, 'Gaming': 141.3131103515625}, 'LowerBody': {'All': 226.87667846679688, 'Patting': 223.07664489746094, 'UpperStretching': 229.19357299804688, 'LowerStretching': 239.34642028808594, 'Greeting': 165.28237915039062, 'Talking': 171.41567993164062, 'Walking': 238.6061553955078, 'Reacting': 215.79302978515625, 'Gesticuling': 129.32679748535156, 'Gaming': 185.15789794921875}}\n"
     ]
    },
    {
     "name": "stderr",
     "output_type": "stream",
     "text": [
      " 45%|████▍     | 2400/5352 [13:52<17:08,  2.87it/s]"
     ]
    },
    {
     "name": "stdout",
     "output_type": "stream",
     "text": [
      "{'FullBody': {'All': 197.18675231933594, 'Patting': 184.9608612060547, 'UpperStretching': 201.94375610351562, 'LowerStretching': 202.00054931640625, 'Greeting': 153.8233184814453, 'Talking': 154.54995727539062, 'Walking': 200.49929809570312, 'Reacting': 176.770751953125, 'Gesticuling': 134.73599243164062, 'Gaming': 163.21200561523438}, 'UpperBody': {'All': 167.56687927246094, 'Patting': 146.63690185546875, 'UpperStretching': 174.71026611328125, 'LowerStretching': 164.80319213867188, 'Greeting': 141.82998657226562, 'Talking': 137.62521362304688, 'Walking': 162.17465209960938, 'Reacting': 139.66651916503906, 'Gesticuling': 140.68353271484375, 'Gaming': 140.93243408203125}, 'LowerBody': {'All': 226.8065948486328, 'Patting': 223.2848663330078, 'UpperStretching': 229.17723083496094, 'LowerStretching': 239.1979217529297, 'Greeting': 165.816650390625, 'Talking': 171.47470092773438, 'Walking': 238.8239288330078, 'Reacting': 213.87496948242188, 'Gesticuling': 128.78846740722656, 'Gaming': 185.49159240722656}}\n"
     ]
    },
    {
     "name": "stderr",
     "output_type": "stream",
     "text": [
      " 49%|████▊     | 2600/5352 [15:01<15:59,  2.87it/s]"
     ]
    },
    {
     "name": "stdout",
     "output_type": "stream",
     "text": [
      "{'FullBody': {'All': 197.06890869140625, 'Patting': 185.9289093017578, 'UpperStretching': 201.7960205078125, 'LowerStretching': 201.91314697265625, 'Greeting': 153.30694580078125, 'Talking': 154.64334106445312, 'Walking': 200.5093994140625, 'Reacting': 176.7337646484375, 'Gesticuling': 134.5745849609375, 'Gaming': 163.0507049560547}, 'UpperBody': {'All': 167.52931213378906, 'Patting': 147.0175323486328, 'UpperStretching': 174.67593383789062, 'LowerStretching': 164.65965270996094, 'Greeting': 141.86392211914062, 'Talking': 137.8599090576172, 'Walking': 162.26385498046875, 'Reacting': 139.90745544433594, 'Gesticuling': 140.23968505859375, 'Gaming': 141.2679443359375}, 'LowerBody': {'All': 226.60850524902344, 'Patting': 224.84027099609375, 'UpperStretching': 228.9160919189453, 'LowerStretching': 239.1666259765625, 'Greeting': 164.7499542236328, 'Talking': 171.42674255371094, 'Walking': 238.75491333007812, 'Reacting': 213.56007385253906, 'Gesticuling': 128.9094696044922, 'Gaming': 184.83346557617188}}\n"
     ]
    },
    {
     "name": "stderr",
     "output_type": "stream",
     "text": [
      " 52%|█████▏    | 2800/5352 [16:10<14:50,  2.87it/s]"
     ]
    },
    {
     "name": "stdout",
     "output_type": "stream",
     "text": [
      "{'FullBody': {'All': 197.02207946777344, 'Patting': 187.52296447753906, 'UpperStretching': 201.94541931152344, 'LowerStretching': 201.56561279296875, 'Greeting': 153.31549072265625, 'Talking': 153.5697021484375, 'Walking': 200.13087463378906, 'Reacting': 176.3251953125, 'Gesticuling': 134.38034057617188, 'Gaming': 162.83932495117188}, 'UpperBody': {'All': 167.53256225585938, 'Patting': 147.8717803955078, 'UpperStretching': 174.7670440673828, 'LowerStretching': 164.38404846191406, 'Greeting': 141.7503204345703, 'Talking': 137.82078552246094, 'Walking': 162.13238525390625, 'Reacting': 139.87158203125, 'Gesticuling': 140.1289520263672, 'Gaming': 141.1510009765625}, 'LowerBody': {'All': 226.51161193847656, 'Patting': 227.1741180419922, 'UpperStretching': 229.12379455566406, 'LowerStretching': 238.74716186523438, 'Greeting': 164.8806610107422, 'Talking': 169.31863403320312, 'Walking': 238.12936401367188, 'Reacting': 212.77880859375, 'Gesticuling': 128.63174438476562, 'Gaming': 184.52761840820312}}\n"
     ]
    },
    {
     "name": "stderr",
     "output_type": "stream",
     "text": [
      " 56%|█████▌    | 3000/5352 [17:19<13:43,  2.86it/s]"
     ]
    },
    {
     "name": "stdout",
     "output_type": "stream",
     "text": [
      "{'FullBody': {'All': 197.08578491210938, 'Patting': 187.66456604003906, 'UpperStretching': 201.8355712890625, 'LowerStretching': 201.48641967773438, 'Greeting': 153.22836303710938, 'Talking': 153.6521453857422, 'Walking': 200.7142791748047, 'Reacting': 177.45616149902344, 'Gesticuling': 134.3952178955078, 'Gaming': 163.81454467773438}, 'UpperBody': {'All': 167.56175231933594, 'Patting': 147.92495727539062, 'UpperStretching': 174.7260284423828, 'LowerStretching': 164.37216186523438, 'Greeting': 141.882568359375, 'Talking': 138.17071533203125, 'Walking': 162.45126342773438, 'Reacting': 139.9560089111328, 'Gesticuling': 140.08151245117188, 'Gaming': 141.2958221435547}, 'LowerBody': {'All': 226.60983276367188, 'Patting': 227.40420532226562, 'UpperStretching': 228.94508361816406, 'LowerStretching': 238.60067749023438, 'Greeting': 164.57418823242188, 'Talking': 169.13356018066406, 'Walking': 238.977294921875, 'Reacting': 214.95626831054688, 'Gesticuling': 128.7089385986328, 'Gaming': 186.333251953125}}\n"
     ]
    },
    {
     "name": "stderr",
     "output_type": "stream",
     "text": [
      " 60%|█████▉    | 3200/5352 [18:28<12:31,  2.86it/s]"
     ]
    },
    {
     "name": "stdout",
     "output_type": "stream",
     "text": [
      "{'FullBody': {'All': 196.95175170898438, 'Patting': 187.2552032470703, 'UpperStretching': 201.6898956298828, 'LowerStretching': 201.26226806640625, 'Greeting': 152.59649658203125, 'Talking': 153.50741577148438, 'Walking': 200.7177276611328, 'Reacting': 176.8529815673828, 'Gesticuling': 134.50796508789062, 'Gaming': 163.88665771484375}, 'UpperBody': {'All': 167.54287719726562, 'Patting': 148.2605743408203, 'UpperStretching': 174.72344970703125, 'LowerStretching': 164.22265625, 'Greeting': 142.0364532470703, 'Talking': 138.10177612304688, 'Walking': 162.4003143310547, 'Reacting': 139.91539001464844, 'Gesticuling': 140.0901641845703, 'Gaming': 140.90232849121094}, 'LowerBody': {'All': 226.36062622070312, 'Patting': 226.2498321533203, 'UpperStretching': 228.6563262939453, 'LowerStretching': 238.30184936523438, 'Greeting': 163.15650939941406, 'Talking': 168.9130859375, 'Walking': 239.0351104736328, 'Reacting': 213.7905731201172, 'Gesticuling': 128.9257354736328, 'Gaming': 186.87098693847656}}\n"
     ]
    },
    {
     "name": "stderr",
     "output_type": "stream",
     "text": [
      " 64%|██████▎   | 3400/5352 [19:37<11:23,  2.86it/s]"
     ]
    },
    {
     "name": "stdout",
     "output_type": "stream",
     "text": [
      "{'FullBody': {'All': 197.06817626953125, 'Patting': 187.6024932861328, 'UpperStretching': 201.70680236816406, 'LowerStretching': 201.6085205078125, 'Greeting': 152.5140838623047, 'Talking': 153.75611877441406, 'Walking': 200.7972869873047, 'Reacting': 177.3962860107422, 'Gesticuling': 134.5182342529297, 'Gaming': 163.9238739013672}, 'UpperBody': {'All': 167.59957885742188, 'Patting': 148.07464599609375, 'UpperStretching': 174.7490692138672, 'LowerStretching': 164.33401489257812, 'Greeting': 141.98056030273438, 'Talking': 138.15570068359375, 'Walking': 162.4547576904297, 'Reacting': 140.11297607421875, 'Gesticuling': 140.16490173339844, 'Gaming': 140.96969604492188}, 'LowerBody': {'All': 226.53675842285156, 'Patting': 227.1303253173828, 'UpperStretching': 228.66448974609375, 'LowerStretching': 238.8830108642578, 'Greeting': 163.047607421875, 'Talking': 169.3565216064453, 'Walking': 239.13983154296875, 'Reacting': 214.6795654296875, 'Gesticuling': 128.87156677246094, 'Gaming': 186.87806701660156}}\n"
     ]
    },
    {
     "name": "stderr",
     "output_type": "stream",
     "text": [
      " 67%|██████▋   | 3600/5352 [20:46<10:14,  2.85it/s]"
     ]
    },
    {
     "name": "stdout",
     "output_type": "stream",
     "text": [
      "{'FullBody': {'All': 197.12274169921875, 'Patting': 187.64231872558594, 'UpperStretching': 201.71075439453125, 'LowerStretching': 201.5624542236328, 'Greeting': 152.68197631835938, 'Talking': 153.7926025390625, 'Walking': 201.20028686523438, 'Reacting': 177.56129455566406, 'Gesticuling': 134.7993621826172, 'Gaming': 164.0525360107422}, 'UpperBody': {'All': 167.5936279296875, 'Patting': 148.31674194335938, 'UpperStretching': 174.70957946777344, 'LowerStretching': 164.34231567382812, 'Greeting': 141.8086395263672, 'Talking': 138.25833129882812, 'Walking': 162.53964233398438, 'Reacting': 139.90306091308594, 'Gesticuling': 140.1464080810547, 'Gaming': 141.1002197265625}, 'LowerBody': {'All': 226.65184020996094, 'Patting': 226.96791076660156, 'UpperStretching': 228.71192932128906, 'LowerStretching': 238.78257751464844, 'Greeting': 163.5552520751953, 'Talking': 169.3268585205078, 'Walking': 239.86093139648438, 'Reacting': 215.21951293945312, 'Gesticuling': 129.4523162841797, 'Gaming': 187.0048370361328}}\n"
     ]
    },
    {
     "name": "stderr",
     "output_type": "stream",
     "text": [
      " 71%|███████   | 3800/5352 [21:56<09:04,  2.85it/s]"
     ]
    },
    {
     "name": "stdout",
     "output_type": "stream",
     "text": [
      "{'FullBody': {'All': 197.14599609375, 'Patting': 188.72755432128906, 'UpperStretching': 201.64479064941406, 'LowerStretching': 201.8297576904297, 'Greeting': 152.607177734375, 'Talking': 153.61048889160156, 'Walking': 201.3126678466797, 'Reacting': 177.42457580566406, 'Gesticuling': 134.8419952392578, 'Gaming': 163.4195556640625}, 'UpperBody': {'All': 167.5874786376953, 'Patting': 148.54722595214844, 'UpperStretching': 174.65130615234375, 'LowerStretching': 164.39239501953125, 'Greeting': 142.1035919189453, 'Talking': 138.41905212402344, 'Walking': 162.59214782714844, 'Reacting': 140.03485107421875, 'Gesticuling': 140.212890625, 'Gaming': 141.04269409179688}, 'LowerBody': {'All': 226.70452880859375, 'Patting': 228.90785217285156, 'UpperStretching': 228.63827514648438, 'LowerStretching': 239.26712036132812, 'Greeting': 163.11073303222656, 'Talking': 168.8019256591797, 'Walking': 240.03317260742188, 'Reacting': 214.81427001953125, 'Gesticuling': 129.47109985351562, 'Gaming': 185.7964324951172}}\n"
     ]
    },
    {
     "name": "stderr",
     "output_type": "stream",
     "text": [
      " 75%|███████▍  | 4000/5352 [23:05<07:53,  2.85it/s]"
     ]
    },
    {
     "name": "stdout",
     "output_type": "stream",
     "text": [
      "{'FullBody': {'All': 197.12303161621094, 'Patting': 188.72120666503906, 'UpperStretching': 201.63954162597656, 'LowerStretching': 201.9517822265625, 'Greeting': 153.04335021972656, 'Talking': 153.778564453125, 'Walking': 200.9768524169922, 'Reacting': 177.46762084960938, 'Gesticuling': 134.6755828857422, 'Gaming': 163.6591796875}, 'UpperBody': {'All': 167.56422424316406, 'Patting': 148.44639587402344, 'UpperStretching': 174.62274169921875, 'LowerStretching': 164.50735473632812, 'Greeting': 141.9862518310547, 'Talking': 138.24444580078125, 'Walking': 162.54873657226562, 'Reacting': 140.17111206054688, 'Gesticuling': 140.1251220703125, 'Gaming': 140.88731384277344}, 'LowerBody': {'All': 226.6818084716797, 'Patting': 228.99600219726562, 'UpperStretching': 228.6563262939453, 'LowerStretching': 239.396240234375, 'Greeting': 164.1004180908203, 'Talking': 169.31268310546875, 'Walking': 239.4049530029297, 'Reacting': 214.76416015625, 'Gesticuling': 129.22601318359375, 'Gaming': 186.4310302734375}}\n"
     ]
    },
    {
     "name": "stderr",
     "output_type": "stream",
     "text": [
      " 78%|███████▊  | 4200/5352 [24:14<06:45,  2.84it/s]"
     ]
    },
    {
     "name": "stdout",
     "output_type": "stream",
     "text": [
      "{'FullBody': {'All': 197.18093872070312, 'Patting': 188.45782470703125, 'UpperStretching': 201.74423217773438, 'LowerStretching': 202.0250701904297, 'Greeting': 153.0483856201172, 'Talking': 153.5959930419922, 'Walking': 201.04209899902344, 'Reacting': 177.5025634765625, 'Gesticuling': 134.304931640625, 'Gaming': 163.4604034423828}, 'UpperBody': {'All': 167.570556640625, 'Patting': 148.52842712402344, 'UpperStretching': 174.6510467529297, 'LowerStretching': 164.54208374023438, 'Greeting': 141.9156951904297, 'Talking': 137.88153076171875, 'Walking': 162.5498046875, 'Reacting': 140.419921875, 'Gesticuling': 139.78404235839844, 'Gaming': 140.81727600097656}, 'LowerBody': {'All': 226.79129028320312, 'Patting': 228.38720703125, 'UpperStretching': 228.83743286132812, 'LowerStretching': 239.50807189941406, 'Greeting': 164.18106079101562, 'Talking': 169.31048583984375, 'Walking': 239.53440856933594, 'Reacting': 214.58518981933594, 'Gesticuling': 128.82583618164062, 'Gaming': 186.10353088378906}}\n"
     ]
    },
    {
     "name": "stderr",
     "output_type": "stream",
     "text": [
      " 82%|████████▏ | 4400/5352 [25:23<05:35,  2.84it/s]"
     ]
    },
    {
     "name": "stdout",
     "output_type": "stream",
     "text": [
      "{'FullBody': {'All': 197.22488403320312, 'Patting': 188.0585479736328, 'UpperStretching': 201.77821350097656, 'LowerStretching': 201.99563598632812, 'Greeting': 153.23849487304688, 'Talking': 153.6053924560547, 'Walking': 201.1547088623047, 'Reacting': 177.13462829589844, 'Gesticuling': 134.37384033203125, 'Gaming': 163.5171661376953}, 'UpperBody': {'All': 167.61358642578125, 'Patting': 148.36288452148438, 'UpperStretching': 174.6904296875, 'LowerStretching': 164.5024871826172, 'Greeting': 142.08287048339844, 'Talking': 137.94142150878906, 'Walking': 162.64169311523438, 'Reacting': 140.35507202148438, 'Gesticuling': 139.84210205078125, 'Gaming': 140.84725952148438}, 'LowerBody': {'All': 226.8361358642578, 'Patting': 227.7541961669922, 'UpperStretching': 228.8660125732422, 'LowerStretching': 239.48878479003906, 'Greeting': 164.39410400390625, 'Talking': 169.2693328857422, 'Walking': 239.6677703857422, 'Reacting': 213.91419982910156, 'Gesticuling': 128.9055633544922, 'Gaming': 186.1870574951172}}\n"
     ]
    },
    {
     "name": "stderr",
     "output_type": "stream",
     "text": [
      " 86%|████████▌ | 4600/5352 [26:32<04:24,  2.84it/s]"
     ]
    },
    {
     "name": "stdout",
     "output_type": "stream",
     "text": [
      "{'FullBody': {'All': 197.2545166015625, 'Patting': 188.17124938964844, 'UpperStretching': 201.87518310546875, 'LowerStretching': 201.85142517089844, 'Greeting': 153.19601440429688, 'Talking': 153.58157348632812, 'Walking': 201.0009002685547, 'Reacting': 177.5948486328125, 'Gesticuling': 134.44949340820312, 'Gaming': 163.77536010742188}, 'UpperBody': {'All': 167.58572387695312, 'Patting': 148.3065948486328, 'UpperStretching': 174.69259643554688, 'LowerStretching': 164.44448852539062, 'Greeting': 141.71295166015625, 'Talking': 137.66580200195312, 'Walking': 162.50042724609375, 'Reacting': 140.52394104003906, 'Gesticuling': 139.81260681152344, 'Gaming': 140.84225463867188}, 'LowerBody': {'All': 226.9232635498047, 'Patting': 228.03591918945312, 'UpperStretching': 229.0577850341797, 'LowerStretching': 239.25836181640625, 'Greeting': 164.67909240722656, 'Talking': 169.4973602294922, 'Walking': 239.50135803222656, 'Reacting': 214.66575622558594, 'Gesticuling': 129.08636474609375, 'Gaming': 186.70846557617188}}\n"
     ]
    },
    {
     "name": "stderr",
     "output_type": "stream",
     "text": [
      " 90%|████████▉ | 4800/5352 [27:41<03:14,  2.83it/s]"
     ]
    },
    {
     "name": "stdout",
     "output_type": "stream",
     "text": [
      "{'FullBody': {'All': 197.22071838378906, 'Patting': 188.33523559570312, 'UpperStretching': 201.79598999023438, 'LowerStretching': 201.8499298095703, 'Greeting': 153.1001434326172, 'Talking': 153.25613403320312, 'Walking': 201.02630615234375, 'Reacting': 177.42782592773438, 'Gesticuling': 134.4651641845703, 'Gaming': 164.1610107421875}, 'UpperBody': {'All': 167.58448791503906, 'Patting': 148.1922149658203, 'UpperStretching': 174.69850158691406, 'LowerStretching': 164.42178344726562, 'Greeting': 141.83116149902344, 'Talking': 137.65806579589844, 'Walking': 162.5030517578125, 'Reacting': 140.60223388671875, 'Gesticuling': 139.8399658203125, 'Gaming': 140.5738067626953}, 'LowerBody': {'All': 226.85693359375, 'Patting': 228.47825622558594, 'UpperStretching': 228.8935089111328, 'LowerStretching': 239.27809143066406, 'Greeting': 164.36915588378906, 'Talking': 168.8541717529297, 'Walking': 239.549560546875, 'Reacting': 214.25338745117188, 'Gesticuling': 129.09036254882812, 'Gaming': 187.74819946289062}}\n"
     ]
    },
    {
     "name": "stderr",
     "output_type": "stream",
     "text": [
      " 93%|█████████▎| 5000/5352 [28:50<02:04,  2.84it/s]"
     ]
    },
    {
     "name": "stdout",
     "output_type": "stream",
     "text": [
      "{'FullBody': {'All': 197.2267608642578, 'Patting': 188.7843017578125, 'UpperStretching': 201.824462890625, 'LowerStretching': 201.8774871826172, 'Greeting': 153.36329650878906, 'Talking': 153.48106384277344, 'Walking': 200.87615966796875, 'Reacting': 177.1359405517578, 'Gesticuling': 134.42034912109375, 'Gaming': 164.06332397460938}, 'UpperBody': {'All': 167.62808227539062, 'Patting': 148.15406799316406, 'UpperStretching': 174.74478149414062, 'LowerStretching': 164.5099639892578, 'Greeting': 141.64710998535156, 'Talking': 137.8162384033203, 'Walking': 162.50807189941406, 'Reacting': 140.5872802734375, 'Gesticuling': 139.860107421875, 'Gaming': 140.66018676757812}, 'LowerBody': {'All': 226.82542419433594, 'Patting': 229.41448974609375, 'UpperStretching': 228.90415954589844, 'LowerStretching': 239.2449951171875, 'Greeting': 165.0794677734375, 'Talking': 169.1458740234375, 'Walking': 239.2442169189453, 'Reacting': 213.6846160888672, 'Gesticuling': 128.98056030273438, 'Gaming': 187.46644592285156}}\n"
     ]
    },
    {
     "name": "stderr",
     "output_type": "stream",
     "text": [
      " 97%|█████████▋| 5200/5352 [29:59<00:53,  2.83it/s]"
     ]
    },
    {
     "name": "stdout",
     "output_type": "stream",
     "text": [
      "{'FullBody': {'All': 197.30235290527344, 'Patting': 189.40579223632812, 'UpperStretching': 201.9137725830078, 'LowerStretching': 201.87429809570312, 'Greeting': 153.3478240966797, 'Talking': 153.10067749023438, 'Walking': 201.04901123046875, 'Reacting': 176.9232635498047, 'Gesticuling': 134.39276123046875, 'Gaming': 164.15667724609375}, 'UpperBody': {'All': 167.65634155273438, 'Patting': 148.41978454589844, 'UpperStretching': 174.78463745117188, 'LowerStretching': 164.46116638183594, 'Greeting': 141.7578582763672, 'Talking': 137.85757446289062, 'Walking': 162.6038360595703, 'Reacting': 140.60140991210938, 'Gesticuling': 139.8526611328125, 'Gaming': 140.4792938232422}, 'LowerBody': {'All': 226.94839477539062, 'Patting': 230.39178466796875, 'UpperStretching': 229.04290771484375, 'LowerStretching': 239.2874298095703, 'Greeting': 164.93777465820312, 'Talking': 168.3437957763672, 'Walking': 239.4941864013672, 'Reacting': 213.2451171875, 'Gesticuling': 128.93289184570312, 'Gaming': 187.8340606689453}}\n"
     ]
    },
    {
     "name": "stderr",
     "output_type": "stream",
     "text": [
      "100%|██████████| 5352/5352 [30:52<00:00,  2.89it/s]\n",
      "\u001b[94m07:05:41 \u001b[92m[INFO]\u001b[94m Main\u001b[0m: Saving evaluation results...\n",
      "\u001b[94m07:05:41 \u001b[92m[INFO]\u001b[94m Main\u001b[0m: Done.\n",
      "\u001b[94m07:05:41 \u001b[92m[INFO]\u001b[94m Main\u001b[0m: Starting demo...\n",
      "  0%|          | 0/5352 [00:00<?, ?it/s]/opt/conda/lib/python3.10/site-packages/torchvision/transforms/transforms.py:329: UserWarning: Argument 'interpolation' of type int is deprecated since 0.13 and will be removed in 0.15. Please use InterpolationMode enum.\n",
      "  warnings.warn(\n",
      "/opt/conda/lib/python3.10/site-packages/torchvision/transforms/transforms.py:329: UserWarning: Argument 'interpolation' of type int is deprecated since 0.13 and will be removed in 0.15. Please use InterpolationMode enum.\n",
      "  warnings.warn(\n",
      "/opt/conda/lib/python3.10/site-packages/torchvision/transforms/transforms.py:329: UserWarning: Argument 'interpolation' of type int is deprecated since 0.13 and will be removed in 0.15. Please use InterpolationMode enum.\n",
      "  warnings.warn(\n",
      "/opt/conda/lib/python3.10/site-packages/torchvision/transforms/transforms.py:329: UserWarning: Argument 'interpolation' of type int is deprecated since 0.13 and will be removed in 0.15. Please use InterpolationMode enum.\n",
      "  warnings.warn(\n",
      "/opt/conda/lib/python3.10/site-packages/torchvision/transforms/transforms.py:329: UserWarning: Argument 'interpolation' of type int is deprecated since 0.13 and will be removed in 0.15. Please use InterpolationMode enum.\n",
      "  warnings.warn(\n",
      "/opt/conda/lib/python3.10/site-packages/torchvision/transforms/transforms.py:329: UserWarning: Argument 'interpolation' of type int is deprecated since 0.13 and will be removed in 0.15. Please use InterpolationMode enum.\n",
      "  warnings.warn(\n",
      "/opt/conda/lib/python3.10/site-packages/torchvision/transforms/transforms.py:329: UserWarning: Argument 'interpolation' of type int is deprecated since 0.13 and will be removed in 0.15. Please use InterpolationMode enum.\n",
      "  warnings.warn(\n",
      "/opt/conda/lib/python3.10/site-packages/torchvision/transforms/transforms.py:329: UserWarning: Argument 'interpolation' of type int is deprecated since 0.13 and will be removed in 0.15. Please use InterpolationMode enum.\n",
      "  warnings.warn(\n",
      "/opt/conda/lib/python3.10/site-packages/torchvision/transforms/transforms.py:329: UserWarning: Argument 'interpolation' of type int is deprecated since 0.13 and will be removed in 0.15. Please use InterpolationMode enum.\n",
      "  warnings.warn(\n",
      "/opt/conda/lib/python3.10/site-packages/torchvision/transforms/transforms.py:329: UserWarning: Argument 'interpolation' of type int is deprecated since 0.13 and will be removed in 0.15. Please use InterpolationMode enum.\n",
      "  warnings.warn(\n",
      "/opt/conda/lib/python3.10/site-packages/torchvision/transforms/transforms.py:329: UserWarning: Argument 'interpolation' of type int is deprecated since 0.13 and will be removed in 0.15. Please use InterpolationMode enum.\n",
      "  warnings.warn(\n",
      "/opt/conda/lib/python3.10/site-packages/torchvision/transforms/transforms.py:329: UserWarning: Argument 'interpolation' of type int is deprecated since 0.13 and will be removed in 0.15. Please use InterpolationMode enum.\n",
      "  warnings.warn(\n",
      "/opt/conda/lib/python3.10/site-packages/torchvision/transforms/transforms.py:329: UserWarning: Argument 'interpolation' of type int is deprecated since 0.13 and will be removed in 0.15. Please use InterpolationMode enum.\n",
      "  warnings.warn(\n",
      "/opt/conda/lib/python3.10/site-packages/torchvision/transforms/transforms.py:329: UserWarning: Argument 'interpolation' of type int is deprecated since 0.13 and will be removed in 0.15. Please use InterpolationMode enum.\n",
      "  warnings.warn(\n",
      "/opt/conda/lib/python3.10/site-packages/torchvision/transforms/transforms.py:329: UserWarning: Argument 'interpolation' of type int is deprecated since 0.13 and will be removed in 0.15. Please use InterpolationMode enum.\n",
      "  warnings.warn(\n",
      "/opt/conda/lib/python3.10/site-packages/torchvision/transforms/transforms.py:329: UserWarning: Argument 'interpolation' of type int is deprecated since 0.13 and will be removed in 0.15. Please use InterpolationMode enum.\n",
      "  warnings.warn(\n",
      "/opt/conda/lib/python3.10/site-packages/torchvision/transforms/transforms.py:329: UserWarning: Argument 'interpolation' of type int is deprecated since 0.13 and will be removed in 0.15. Please use InterpolationMode enum.\n",
      "  warnings.warn(\n",
      "/opt/conda/lib/python3.10/site-packages/torchvision/transforms/transforms.py:329: UserWarning: Argument 'interpolation' of type int is deprecated since 0.13 and will be removed in 0.15. Please use InterpolationMode enum.\n",
      "  warnings.warn(\n",
      "/opt/conda/lib/python3.10/site-packages/torchvision/transforms/transforms.py:329: UserWarning: Argument 'interpolation' of type int is deprecated since 0.13 and will be removed in 0.15. Please use InterpolationMode enum.\n",
      "  warnings.warn(\n",
      "/opt/conda/lib/python3.10/site-packages/torchvision/transforms/transforms.py:329: UserWarning: Argument 'interpolation' of type int is deprecated since 0.13 and will be removed in 0.15. Please use InterpolationMode enum.\n",
      "  warnings.warn(\n",
      "/opt/conda/lib/python3.10/site-packages/torchvision/transforms/transforms.py:329: UserWarning: Argument 'interpolation' of type int is deprecated since 0.13 and will be removed in 0.15. Please use InterpolationMode enum.\n",
      "  warnings.warn(\n",
      "/opt/conda/lib/python3.10/site-packages/torchvision/transforms/transforms.py:329: UserWarning: Argument 'interpolation' of type int is deprecated since 0.13 and will be removed in 0.15. Please use InterpolationMode enum.\n",
      "  warnings.warn(\n",
      "/opt/conda/lib/python3.10/site-packages/torchvision/transforms/transforms.py:329: UserWarning: Argument 'interpolation' of type int is deprecated since 0.13 and will be removed in 0.15. Please use InterpolationMode enum.\n",
      "  warnings.warn(\n",
      "/opt/conda/lib/python3.10/site-packages/torchvision/transforms/transforms.py:329: UserWarning: Argument 'interpolation' of type int is deprecated since 0.13 and will be removed in 0.15. Please use InterpolationMode enum.\n",
      "  warnings.warn(\n",
      "  4%|▎         | 200/5352 [01:13<29:50,  2.88it/s]"
     ]
    },
    {
     "name": "stdout",
     "output_type": "stream",
     "text": [
      "{'FullBody': {'All': 188.92269897460938, 'Walking': 202.4550323486328, 'UpperStretching': 191.61952209472656, 'Patting': 150.8742218017578, 'LowerStretching': 199.6074981689453, 'Reacting': 161.38641357421875, 'Gesticuling': 126.60848236083984, 'Greeting': 143.48696899414062, 'Gaming': 167.11227416992188, 'Talking': 135.574462890625}, 'UpperBody': {'All': 158.69406127929688, 'Walking': 154.15138244628906, 'UpperStretching': 162.98780822753906, 'Patting': 142.37643432617188, 'LowerStretching': 157.1827392578125, 'Reacting': 143.46783447265625, 'Gesticuling': 135.56463623046875, 'Greeting': 159.46632385253906, 'Gaming': 159.858154296875, 'Talking': 145.8426055908203}, 'LowerBody': {'All': 219.15135192871094, 'Walking': 250.7587127685547, 'UpperStretching': 220.25120544433594, 'Patting': 159.37200927734375, 'LowerStretching': 242.03225708007812, 'Reacting': 179.30496215820312, 'Gesticuling': 117.65232849121094, 'Greeting': 127.5075912475586, 'Gaming': 174.36643981933594, 'Talking': 125.30632019042969}}\n"
     ]
    },
    {
     "name": "stderr",
     "output_type": "stream",
     "text": [
      "  7%|▋         | 400/5352 [02:22<28:21,  2.91it/s]"
     ]
    },
    {
     "name": "stdout",
     "output_type": "stream",
     "text": [
      "{'FullBody': {'All': 188.82192993164062, 'Walking': 201.6514434814453, 'UpperStretching': 191.59283447265625, 'Patting': 153.70236206054688, 'LowerStretching': 196.3211212158203, 'Reacting': 165.63681030273438, 'Gesticuling': 125.39668273925781, 'Greeting': 139.40582275390625, 'Gaming': 170.85340881347656, 'Talking': 131.8595428466797}, 'UpperBody': {'All': 158.26646423339844, 'Walking': 152.58468627929688, 'UpperStretching': 162.75013732910156, 'Patting': 146.8470916748047, 'LowerStretching': 154.40394592285156, 'Reacting': 143.47427368164062, 'Gesticuling': 137.7920684814453, 'Greeting': 153.309814453125, 'Gaming': 163.9475860595703, 'Talking': 141.93357849121094}, 'LowerBody': {'All': 219.3773956298828, 'Walking': 250.7181854248047, 'UpperStretching': 220.43553161621094, 'Patting': 160.55767822265625, 'LowerStretching': 238.23826599121094, 'Reacting': 187.79933166503906, 'Gesticuling': 113.00129699707031, 'Greeting': 125.50180053710938, 'Gaming': 177.75929260253906, 'Talking': 121.78551483154297}}\n"
     ]
    },
    {
     "name": "stderr",
     "output_type": "stream",
     "text": [
      " 11%|█         | 600/5352 [03:30<27:21,  2.89it/s]"
     ]
    },
    {
     "name": "stdout",
     "output_type": "stream",
     "text": [
      "{'FullBody': {'All': 187.11508178710938, 'Walking': 199.96823120117188, 'UpperStretching': 190.3259735107422, 'Patting': 152.39332580566406, 'LowerStretching': 193.97695922851562, 'Reacting': 161.5736083984375, 'Gesticuling': 124.09284973144531, 'Greeting': 133.1616668701172, 'Gaming': 174.56033325195312, 'Talking': 129.22293090820312}, 'UpperBody': {'All': 157.84474182128906, 'Walking': 152.53305053710938, 'UpperStretching': 162.6405487060547, 'Patting': 142.28729248046875, 'LowerStretching': 153.85479736328125, 'Reacting': 142.241943359375, 'Gesticuling': 136.34840393066406, 'Greeting': 146.17767333984375, 'Gaming': 166.34909057617188, 'Talking': 141.36776733398438}, 'LowerBody': {'All': 216.3854217529297, 'Walking': 247.40338134765625, 'UpperStretching': 218.01136779785156, 'Patting': 162.49935913085938, 'LowerStretching': 234.09915161132812, 'Reacting': 180.9053192138672, 'Gesticuling': 111.83731079101562, 'Greeting': 120.14566040039062, 'Gaming': 182.77154541015625, 'Talking': 117.07807159423828}}\n"
     ]
    },
    {
     "name": "stderr",
     "output_type": "stream",
     "text": [
      " 15%|█▍        | 800/5352 [04:39<26:16,  2.89it/s]"
     ]
    },
    {
     "name": "stdout",
     "output_type": "stream",
     "text": [
      "{'FullBody': {'All': 187.3338623046875, 'Walking': 202.880859375, 'UpperStretching': 189.81370544433594, 'Patting': 153.43832397460938, 'LowerStretching': 194.82774353027344, 'Reacting': 161.22357177734375, 'Gesticuling': 122.83602142333984, 'Greeting': 134.76263427734375, 'Gaming': 175.2098388671875, 'Talking': 130.3760223388672}, 'UpperBody': {'All': 158.1195831298828, 'Walking': 153.27804565429688, 'UpperStretching': 163.12969970703125, 'Patting': 142.7860565185547, 'LowerStretching': 152.68914794921875, 'Reacting': 143.05776977539062, 'Gesticuling': 135.39674377441406, 'Greeting': 147.44920349121094, 'Gaming': 167.84674072265625, 'Talking': 144.91754150390625}, 'LowerBody': {'All': 216.54815673828125, 'Walking': 252.4836883544922, 'UpperStretching': 216.4976806640625, 'Patting': 164.09059143066406, 'LowerStretching': 236.96632385253906, 'Reacting': 179.38934326171875, 'Gesticuling': 110.27529907226562, 'Greeting': 122.0760726928711, 'Gaming': 182.5729217529297, 'Talking': 115.83452606201172}}\n"
     ]
    },
    {
     "name": "stderr",
     "output_type": "stream",
     "text": [
      " 19%|█▊        | 1000/5352 [05:49<25:00,  2.90it/s]"
     ]
    },
    {
     "name": "stdout",
     "output_type": "stream",
     "text": [
      "{'FullBody': {'All': 186.7830352783203, 'Walking': 202.9228057861328, 'UpperStretching': 189.11618041992188, 'Patting': 154.1206512451172, 'LowerStretching': 194.43084716796875, 'Reacting': 159.5773468017578, 'Gesticuling': 122.15007781982422, 'Greeting': 136.09095764160156, 'Gaming': 174.22872924804688, 'Talking': 130.79884338378906}, 'UpperBody': {'All': 157.79684448242188, 'Walking': 153.6529083251953, 'UpperStretching': 162.55662536621094, 'Patting': 142.3457489013672, 'LowerStretching': 153.02249145507812, 'Reacting': 142.6357421875, 'Gesticuling': 134.5785369873047, 'Greeting': 148.26084899902344, 'Gaming': 166.01278686523438, 'Talking': 145.6421356201172}, 'LowerBody': {'All': 215.76925659179688, 'Walking': 252.1926727294922, 'UpperStretching': 215.67576599121094, 'Patting': 165.8955535888672, 'LowerStretching': 235.83920288085938, 'Reacting': 176.5189666748047, 'Gesticuling': 109.72163391113281, 'Greeting': 123.92105865478516, 'Gaming': 182.4447021484375, 'Talking': 115.95555114746094}}\n"
     ]
    },
    {
     "name": "stderr",
     "output_type": "stream",
     "text": [
      " 22%|██▏       | 1200/5352 [06:58<23:58,  2.89it/s]"
     ]
    },
    {
     "name": "stdout",
     "output_type": "stream",
     "text": [
      "{'FullBody': {'All': 186.66070556640625, 'Walking': 202.1802215576172, 'UpperStretching': 189.29844665527344, 'Patting': 154.47605895996094, 'LowerStretching': 193.4663848876953, 'Reacting': 160.764404296875, 'Gesticuling': 122.38920593261719, 'Greeting': 137.7385711669922, 'Gaming': 173.69873046875, 'Talking': 129.6437225341797}, 'UpperBody': {'All': 157.76040649414062, 'Walking': 153.57452392578125, 'UpperStretching': 162.6761016845703, 'Patting': 143.11305236816406, 'LowerStretching': 152.19203186035156, 'Reacting': 143.25633239746094, 'Gesticuling': 134.65968322753906, 'Greeting': 149.3740692138672, 'Gaming': 166.0493927001953, 'Talking': 144.1071014404297}, 'LowerBody': {'All': 215.56101989746094, 'Walking': 250.78594970703125, 'UpperStretching': 215.92080688476562, 'Patting': 165.83905029296875, 'LowerStretching': 234.74072265625, 'Reacting': 178.27247619628906, 'Gesticuling': 110.11872863769531, 'Greeting': 126.10302734375, 'Gaming': 181.3480682373047, 'Talking': 115.18032836914062}}\n"
     ]
    },
    {
     "name": "stderr",
     "output_type": "stream",
     "text": [
      " 26%|██▌       | 1400/5352 [08:07<22:51,  2.88it/s]"
     ]
    },
    {
     "name": "stdout",
     "output_type": "stream",
     "text": [
      "{'FullBody': {'All': 186.7466278076172, 'Walking': 202.13998413085938, 'UpperStretching': 189.4984893798828, 'Patting': 153.26492309570312, 'LowerStretching': 193.9525146484375, 'Reacting': 158.88198852539062, 'Gesticuling': 121.63378143310547, 'Greeting': 139.65969848632812, 'Gaming': 175.33433532714844, 'Talking': 129.08651733398438}, 'UpperBody': {'All': 157.678955078125, 'Walking': 153.50543212890625, 'UpperStretching': 162.72239685058594, 'Patting': 142.1772918701172, 'LowerStretching': 152.100830078125, 'Reacting': 142.6240234375, 'Gesticuling': 132.956787109375, 'Greeting': 149.31759643554688, 'Gaming': 166.45887756347656, 'Talking': 143.36973571777344}, 'LowerBody': {'All': 215.8143310546875, 'Walking': 250.77455139160156, 'UpperStretching': 216.27459716796875, 'Patting': 164.35255432128906, 'LowerStretching': 235.80421447753906, 'Reacting': 175.1399688720703, 'Gesticuling': 110.31077575683594, 'Greeting': 130.0017852783203, 'Gaming': 184.20980834960938, 'Talking': 114.80328369140625}}\n"
     ]
    },
    {
     "name": "stderr",
     "output_type": "stream",
     "text": [
      " 30%|██▉       | 1600/5352 [09:16<21:45,  2.88it/s]"
     ]
    },
    {
     "name": "stdout",
     "output_type": "stream",
     "text": [
      "{'FullBody': {'All': 187.22515869140625, 'Walking': 203.03640747070312, 'UpperStretching': 189.94131469726562, 'Patting': 154.49522399902344, 'LowerStretching': 194.3413543701172, 'Reacting': 158.4833221435547, 'Gesticuling': 121.72309112548828, 'Greeting': 139.80921936035156, 'Gaming': 174.88478088378906, 'Talking': 130.08999633789062}, 'UpperBody': {'All': 157.81777954101562, 'Walking': 154.211181640625, 'UpperStretching': 162.71890258789062, 'Patting': 143.4813232421875, 'LowerStretching': 152.3245391845703, 'Reacting': 142.31309509277344, 'Gesticuling': 132.69195556640625, 'Greeting': 150.05123901367188, 'Gaming': 166.88165283203125, 'Talking': 144.30856323242188}, 'LowerBody': {'All': 216.63255310058594, 'Walking': 251.86166381835938, 'UpperStretching': 217.1637420654297, 'Patting': 165.50912475585938, 'LowerStretching': 236.3582000732422, 'Reacting': 174.65353393554688, 'Gesticuling': 110.75423431396484, 'Greeting': 129.5672149658203, 'Gaming': 182.88790893554688, 'Talking': 115.87142181396484}}\n"
     ]
    },
    {
     "name": "stderr",
     "output_type": "stream",
     "text": [
      " 34%|███▎      | 1800/5352 [10:25<20:37,  2.87it/s]"
     ]
    },
    {
     "name": "stdout",
     "output_type": "stream",
     "text": [
      "{'FullBody': {'All': 187.09144592285156, 'Walking': 201.7630615234375, 'UpperStretching': 189.80673217773438, 'Patting': 153.75445556640625, 'LowerStretching': 194.8819122314453, 'Reacting': 158.06854248046875, 'Gesticuling': 121.42671203613281, 'Greeting': 139.07492065429688, 'Gaming': 175.08091735839844, 'Talking': 129.64358520507812}, 'UpperBody': {'All': 157.86764526367188, 'Walking': 153.88662719726562, 'UpperStretching': 162.72079467773438, 'Patting': 144.58370971679688, 'LowerStretching': 152.55946350097656, 'Reacting': 142.2310028076172, 'Gesticuling': 132.42283630371094, 'Greeting': 149.76039123535156, 'Gaming': 167.0550994873047, 'Talking': 144.7145233154297}, 'LowerBody': {'All': 216.3152618408203, 'Walking': 249.6395263671875, 'UpperStretching': 216.89268493652344, 'Patting': 162.92520141601562, 'LowerStretching': 237.20437622070312, 'Reacting': 173.90609741210938, 'Gesticuling': 110.43058776855469, 'Greeting': 128.38946533203125, 'Gaming': 183.10675048828125, 'Talking': 114.5726318359375}}\n"
     ]
    },
    {
     "name": "stderr",
     "output_type": "stream",
     "text": [
      " 37%|███▋      | 2000/5352 [11:34<19:30,  2.86it/s]"
     ]
    },
    {
     "name": "stdout",
     "output_type": "stream",
     "text": [
      "{'FullBody': {'All': 187.0327911376953, 'Walking': 201.27915954589844, 'UpperStretching': 189.7263946533203, 'Patting': 155.03382873535156, 'LowerStretching': 195.1732177734375, 'Reacting': 157.5520477294922, 'Gesticuling': 121.2440185546875, 'Greeting': 140.25596618652344, 'Gaming': 174.81729125976562, 'Talking': 129.1621856689453}, 'UpperBody': {'All': 157.85409545898438, 'Walking': 153.43917846679688, 'UpperStretching': 162.7057647705078, 'Patting': 145.4409637451172, 'LowerStretching': 152.68563842773438, 'Reacting': 142.4066162109375, 'Gesticuling': 132.3079833984375, 'Greeting': 150.25987243652344, 'Gaming': 166.9381561279297, 'Talking': 144.6011962890625}, 'LowerBody': {'All': 216.21153259277344, 'Walking': 249.11911010742188, 'UpperStretching': 216.74703979492188, 'Patting': 164.62667846679688, 'LowerStretching': 237.66082763671875, 'Reacting': 172.697509765625, 'Gesticuling': 110.1800537109375, 'Greeting': 130.25205993652344, 'Gaming': 182.69642639160156, 'Talking': 113.72315979003906}}\n"
     ]
    },
    {
     "name": "stderr",
     "output_type": "stream",
     "text": [
      " 41%|████      | 2200/5352 [12:43<18:18,  2.87it/s]"
     ]
    },
    {
     "name": "stdout",
     "output_type": "stream",
     "text": [
      "{'FullBody': {'All': 187.12692260742188, 'Walking': 201.80233764648438, 'UpperStretching': 189.56967163085938, 'Patting': 155.3452911376953, 'LowerStretching': 195.70848083496094, 'Reacting': 157.15829467773438, 'Gesticuling': 121.44313049316406, 'Greeting': 139.37396240234375, 'Gaming': 175.32730102539062, 'Talking': 129.41387939453125}, 'UpperBody': {'All': 157.9031219482422, 'Walking': 153.7166290283203, 'UpperStretching': 162.64479064941406, 'Patting': 145.47630310058594, 'LowerStretching': 152.97976684570312, 'Reacting': 142.16317749023438, 'Gesticuling': 132.56459045410156, 'Greeting': 149.5395965576172, 'Gaming': 166.76577758789062, 'Talking': 145.02120971679688}, 'LowerBody': {'All': 216.35072326660156, 'Walking': 249.88804626464844, 'UpperStretching': 216.49453735351562, 'Patting': 165.21429443359375, 'LowerStretching': 238.43716430664062, 'Reacting': 172.15341186523438, 'Gesticuling': 110.32166290283203, 'Greeting': 129.2083282470703, 'Gaming': 183.88880920410156, 'Talking': 113.80656433105469}}\n"
     ]
    },
    {
     "name": "stderr",
     "output_type": "stream",
     "text": [
      " 45%|████▍     | 2400/5352 [13:52<17:12,  2.86it/s]"
     ]
    },
    {
     "name": "stdout",
     "output_type": "stream",
     "text": [
      "{'FullBody': {'All': 187.00677490234375, 'Walking': 201.15838623046875, 'UpperStretching': 189.50453186035156, 'Patting': 155.24468994140625, 'LowerStretching': 195.3273162841797, 'Reacting': 158.13404846191406, 'Gesticuling': 121.78717041015625, 'Greeting': 138.88636779785156, 'Gaming': 176.91221618652344, 'Talking': 128.95016479492188}, 'UpperBody': {'All': 157.92259216308594, 'Walking': 153.72772216796875, 'UpperStretching': 162.7244873046875, 'Patting': 145.75262451171875, 'LowerStretching': 152.66993713378906, 'Reacting': 142.61749267578125, 'Gesticuling': 132.92974853515625, 'Greeting': 149.39793395996094, 'Gaming': 167.35365295410156, 'Talking': 144.80950927734375}, 'LowerBody': {'All': 216.09095764160156, 'Walking': 248.5890350341797, 'UpperStretching': 216.2845916748047, 'Patting': 164.73675537109375, 'LowerStretching': 237.9846649169922, 'Reacting': 173.65060424804688, 'Gesticuling': 110.64459991455078, 'Greeting': 128.37478637695312, 'Gaming': 186.4707794189453, 'Talking': 113.0908432006836}}\n"
     ]
    },
    {
     "name": "stderr",
     "output_type": "stream",
     "text": [
      " 49%|████▊     | 2600/5352 [15:01<15:59,  2.87it/s]"
     ]
    },
    {
     "name": "stdout",
     "output_type": "stream",
     "text": [
      "{'FullBody': {'All': 187.05389404296875, 'Walking': 201.72735595703125, 'UpperStretching': 189.47752380371094, 'Patting': 155.21102905273438, 'LowerStretching': 195.10435485839844, 'Reacting': 158.18670654296875, 'Gesticuling': 121.68317413330078, 'Greeting': 138.5780029296875, 'Gaming': 175.9102783203125, 'Talking': 128.9560546875}, 'UpperBody': {'All': 157.87718200683594, 'Walking': 154.01950073242188, 'UpperStretching': 162.6446990966797, 'Patting': 145.76048278808594, 'LowerStretching': 152.49354553222656, 'Reacting': 142.45497131347656, 'Gesticuling': 132.56431579589844, 'Greeting': 148.50537109375, 'Gaming': 167.75465393066406, 'Talking': 144.84213256835938}, 'LowerBody': {'All': 216.23065185546875, 'Walking': 249.43521118164062, 'UpperStretching': 216.31033325195312, 'Patting': 164.66159057617188, 'LowerStretching': 237.71514892578125, 'Reacting': 173.91844177246094, 'Gesticuling': 110.80203247070312, 'Greeting': 128.650634765625, 'Gaming': 184.06591796875, 'Talking': 113.06996154785156}}\n"
     ]
    },
    {
     "name": "stderr",
     "output_type": "stream",
     "text": [
      " 52%|█████▏    | 2800/5352 [16:10<14:51,  2.86it/s]"
     ]
    },
    {
     "name": "stdout",
     "output_type": "stream",
     "text": [
      "{'FullBody': {'All': 187.11489868164062, 'Walking': 201.55877685546875, 'UpperStretching': 189.359375, 'Patting': 156.22406005859375, 'LowerStretching': 195.5665283203125, 'Reacting': 159.07923889160156, 'Gesticuling': 121.83318328857422, 'Greeting': 138.22789001464844, 'Gaming': 175.9583740234375, 'Talking': 128.74925231933594}, 'UpperBody': {'All': 157.93954467773438, 'Walking': 153.89889526367188, 'UpperStretching': 162.62452697753906, 'Patting': 146.74586486816406, 'LowerStretching': 152.70571899414062, 'Reacting': 142.80947875976562, 'Gesticuling': 132.83079528808594, 'Greeting': 148.64024353027344, 'Gaming': 167.9951171875, 'Talking': 144.55361938476562}, 'LowerBody': {'All': 216.290283203125, 'Walking': 249.21864318847656, 'UpperStretching': 216.09417724609375, 'Patting': 165.70223999023438, 'LowerStretching': 238.42733764648438, 'Reacting': 175.34898376464844, 'Gesticuling': 110.83557891845703, 'Greeting': 127.8155517578125, 'Gaming': 183.92160034179688, 'Talking': 112.94487762451172}}\n"
     ]
    },
    {
     "name": "stderr",
     "output_type": "stream",
     "text": [
      " 56%|█████▌    | 3000/5352 [17:19<13:42,  2.86it/s]"
     ]
    },
    {
     "name": "stdout",
     "output_type": "stream",
     "text": [
      "{'FullBody': {'All': 187.17491149902344, 'Walking': 201.6268768310547, 'UpperStretching': 189.3031768798828, 'Patting': 155.58534240722656, 'LowerStretching': 196.07858276367188, 'Reacting': 159.44522094726562, 'Gesticuling': 122.15888214111328, 'Greeting': 137.96949768066406, 'Gaming': 175.7801513671875, 'Talking': 128.93258666992188}, 'UpperBody': {'All': 157.91845703125, 'Walking': 153.7875213623047, 'UpperStretching': 162.48550415039062, 'Patting': 146.2768096923828, 'LowerStretching': 153.01043701171875, 'Reacting': 143.14715576171875, 'Gesticuling': 133.41062927246094, 'Greeting': 148.59378051757812, 'Gaming': 167.45838928222656, 'Talking': 145.13812255859375}, 'LowerBody': {'All': 216.43138122558594, 'Walking': 249.4662322998047, 'UpperStretching': 216.12081909179688, 'Patting': 164.8938751220703, 'LowerStretching': 239.14669799804688, 'Reacting': 175.74330139160156, 'Gesticuling': 110.90711212158203, 'Greeting': 127.34520721435547, 'Gaming': 184.1018829345703, 'Talking': 112.72705841064453}}\n"
     ]
    },
    {
     "name": "stderr",
     "output_type": "stream",
     "text": [
      " 60%|█████▉    | 3200/5352 [18:29<12:34,  2.85it/s]"
     ]
    },
    {
     "name": "stdout",
     "output_type": "stream",
     "text": [
      "{'FullBody': {'All': 187.2275848388672, 'Walking': 201.37338256835938, 'UpperStretching': 189.29261779785156, 'Patting': 155.83819580078125, 'LowerStretching': 196.3257598876953, 'Reacting': 159.4976806640625, 'Gesticuling': 122.21722412109375, 'Greeting': 137.765625, 'Gaming': 176.357421875, 'Talking': 128.9231414794922}, 'UpperBody': {'All': 157.961181640625, 'Walking': 153.6490936279297, 'UpperStretching': 162.48117065429688, 'Patting': 146.4541778564453, 'LowerStretching': 153.21788024902344, 'Reacting': 143.47166442871094, 'Gesticuling': 133.4222869873047, 'Greeting': 148.25018310546875, 'Gaming': 167.63253784179688, 'Talking': 145.2021026611328}, 'LowerBody': {'All': 216.49398803710938, 'Walking': 249.09768676757812, 'UpperStretching': 216.10401916503906, 'Patting': 165.2222442626953, 'LowerStretching': 239.4336395263672, 'Reacting': 175.52369689941406, 'Gesticuling': 111.01219177246094, 'Greeting': 127.28105926513672, 'Gaming': 185.08229064941406, 'Talking': 112.6441879272461}}\n"
     ]
    },
    {
     "name": "stderr",
     "output_type": "stream",
     "text": [
      " 64%|██████▎   | 3400/5352 [19:38<11:24,  2.85it/s]"
     ]
    },
    {
     "name": "stdout",
     "output_type": "stream",
     "text": [
      "{'FullBody': {'All': 187.2705535888672, 'Walking': 201.17970275878906, 'UpperStretching': 189.6036834716797, 'Patting': 156.20809936523438, 'LowerStretching': 195.67465209960938, 'Reacting': 159.61546325683594, 'Gesticuling': 121.99515533447266, 'Greeting': 138.38365173339844, 'Gaming': 175.88804626464844, 'Talking': 129.72140502929688}, 'UpperBody': {'All': 157.96182250976562, 'Walking': 153.53892517089844, 'UpperStretching': 162.60446166992188, 'Patting': 146.34588623046875, 'LowerStretching': 152.88723754882812, 'Reacting': 143.53384399414062, 'Gesticuling': 133.12277221679688, 'Greeting': 148.0880126953125, 'Gaming': 167.99911499023438, 'Talking': 145.8247528076172}, 'LowerBody': {'All': 216.57931518554688, 'Walking': 248.82046508789062, 'UpperStretching': 216.60287475585938, 'Patting': 166.07032775878906, 'LowerStretching': 238.46205139160156, 'Reacting': 175.6970977783203, 'Gesticuling': 110.86753845214844, 'Greeting': 128.6792755126953, 'Gaming': 183.7769775390625, 'Talking': 113.6180419921875}}\n"
     ]
    },
    {
     "name": "stderr",
     "output_type": "stream",
     "text": [
      " 67%|██████▋   | 3600/5352 [20:47<10:14,  2.85it/s]"
     ]
    },
    {
     "name": "stdout",
     "output_type": "stream",
     "text": [
      "{'FullBody': {'All': 187.1442413330078, 'Walking': 200.84222412109375, 'UpperStretching': 189.5252227783203, 'Patting': 155.90660095214844, 'LowerStretching': 195.58441162109375, 'Reacting': 160.36822509765625, 'Gesticuling': 122.27162170410156, 'Greeting': 138.04217529296875, 'Gaming': 175.38975524902344, 'Talking': 129.64813232421875}, 'UpperBody': {'All': 157.9365692138672, 'Walking': 153.49728393554688, 'UpperStretching': 162.60630798339844, 'Patting': 146.1029510498047, 'LowerStretching': 152.86119079589844, 'Reacting': 143.5066375732422, 'Gesticuling': 133.3766632080078, 'Greeting': 147.9344482421875, 'Gaming': 167.81613159179688, 'Talking': 145.9762420654297}, 'LowerBody': {'All': 216.3519287109375, 'Walking': 248.1871795654297, 'UpperStretching': 216.444091796875, 'Patting': 165.7102508544922, 'LowerStretching': 238.3076171875, 'Reacting': 177.22984313964844, 'Gesticuling': 111.16659545898438, 'Greeting': 128.14988708496094, 'Gaming': 182.96336364746094, 'Talking': 113.3200454711914}}\n"
     ]
    },
    {
     "name": "stderr",
     "output_type": "stream",
     "text": [
      " 71%|███████   | 3800/5352 [21:56<09:05,  2.84it/s]"
     ]
    },
    {
     "name": "stdout",
     "output_type": "stream",
     "text": [
      "{'FullBody': {'All': 187.41294860839844, 'Walking': 201.36851501464844, 'UpperStretching': 189.7227325439453, 'Patting': 156.3819122314453, 'LowerStretching': 195.912109375, 'Reacting': 160.59857177734375, 'Gesticuling': 122.29720306396484, 'Greeting': 138.4202423095703, 'Gaming': 176.17245483398438, 'Talking': 129.5047149658203}, 'UpperBody': {'All': 158.0401153564453, 'Walking': 153.5115966796875, 'UpperStretching': 162.7169647216797, 'Patting': 146.19590759277344, 'LowerStretching': 152.9249725341797, 'Reacting': 143.7652587890625, 'Gesticuling': 133.46018981933594, 'Greeting': 148.071533203125, 'Gaming': 168.12649536132812, 'Talking': 145.99246215820312}, 'LowerBody': {'All': 216.78578186035156, 'Walking': 249.2254638671875, 'UpperStretching': 216.72850036621094, 'Patting': 166.5679168701172, 'LowerStretching': 238.89923095703125, 'Reacting': 177.431884765625, 'Gesticuling': 111.13421630859375, 'Greeting': 128.76895141601562, 'Gaming': 184.21844482421875, 'Talking': 113.0169448852539}}\n"
     ]
    },
    {
     "name": "stderr",
     "output_type": "stream",
     "text": [
      " 75%|███████▍  | 4000/5352 [23:05<07:54,  2.85it/s]"
     ]
    },
    {
     "name": "stdout",
     "output_type": "stream",
     "text": [
      "{'FullBody': {'All': 187.54391479492188, 'Walking': 201.45892333984375, 'UpperStretching': 189.814453125, 'Patting': 156.8687286376953, 'LowerStretching': 196.13450622558594, 'Reacting': 160.5854034423828, 'Gesticuling': 122.33007049560547, 'Greeting': 137.96810913085938, 'Gaming': 176.1949005126953, 'Talking': 129.63861083984375}, 'UpperBody': {'All': 158.10049438476562, 'Walking': 153.59188842773438, 'UpperStretching': 162.7605743408203, 'Patting': 146.15310668945312, 'LowerStretching': 153.0207061767578, 'Reacting': 143.64637756347656, 'Gesticuling': 133.60427856445312, 'Greeting': 147.9423065185547, 'Gaming': 168.39637756347656, 'Talking': 146.15403747558594}, 'LowerBody': {'All': 216.98736572265625, 'Walking': 249.32598876953125, 'UpperStretching': 216.86830139160156, 'Patting': 167.5843505859375, 'LowerStretching': 239.248291015625, 'Reacting': 177.5244598388672, 'Gesticuling': 111.05584716796875, 'Greeting': 127.99388885498047, 'Gaming': 183.99346923828125, 'Talking': 113.12317657470703}}\n"
     ]
    },
    {
     "name": "stderr",
     "output_type": "stream",
     "text": [
      " 78%|███████▊  | 4200/5352 [24:14<06:44,  2.85it/s]"
     ]
    },
    {
     "name": "stdout",
     "output_type": "stream",
     "text": [
      "{'FullBody': {'All': 187.4010467529297, 'Walking': 201.26206970214844, 'UpperStretching': 189.68785095214844, 'Patting': 157.11337280273438, 'LowerStretching': 195.9357452392578, 'Reacting': 160.4861297607422, 'Gesticuling': 122.29434967041016, 'Greeting': 138.0293731689453, 'Gaming': 176.06617736816406, 'Talking': 129.688232421875}, 'UpperBody': {'All': 158.0740509033203, 'Walking': 153.5830078125, 'UpperStretching': 162.7548065185547, 'Patting': 146.2862548828125, 'LowerStretching': 152.92430114746094, 'Reacting': 143.7398223876953, 'Gesticuling': 133.41273498535156, 'Greeting': 148.4268035888672, 'Gaming': 168.2919921875, 'Talking': 145.97862243652344}, 'LowerBody': {'All': 216.72805786132812, 'Walking': 248.94113159179688, 'UpperStretching': 216.62091064453125, 'Patting': 167.94049072265625, 'LowerStretching': 238.9471893310547, 'Reacting': 177.23245239257812, 'Gesticuling': 111.17595672607422, 'Greeting': 127.63194274902344, 'Gaming': 183.84036254882812, 'Talking': 113.3978500366211}}\n"
     ]
    },
    {
     "name": "stderr",
     "output_type": "stream",
     "text": [
      " 82%|████████▏ | 4400/5352 [25:23<05:34,  2.84it/s]"
     ]
    },
    {
     "name": "stdout",
     "output_type": "stream",
     "text": [
      "{'FullBody': {'All': 187.22642517089844, 'Walking': 201.38743591308594, 'UpperStretching': 189.37010192871094, 'Patting': 156.57080078125, 'LowerStretching': 195.8419189453125, 'Reacting': 161.0078125, 'Gesticuling': 122.47161865234375, 'Greeting': 138.0081024169922, 'Gaming': 175.5659942626953, 'Talking': 129.5415496826172}, 'UpperBody': {'All': 158.0220947265625, 'Walking': 153.6349639892578, 'UpperStretching': 162.67770385742188, 'Patting': 145.65516662597656, 'LowerStretching': 152.87051391601562, 'Reacting': 143.97979736328125, 'Gesticuling': 133.55120849609375, 'Greeting': 148.39353942871094, 'Gaming': 168.08544921875, 'Talking': 145.8134765625}, 'LowerBody': {'All': 216.43077087402344, 'Walking': 249.13990783691406, 'UpperStretching': 216.06246948242188, 'Patting': 167.48641967773438, 'LowerStretching': 238.8133087158203, 'Reacting': 178.0358428955078, 'Gesticuling': 111.39204406738281, 'Greeting': 127.6226806640625, 'Gaming': 183.0465545654297, 'Talking': 113.26961517333984}}\n"
     ]
    },
    {
     "name": "stderr",
     "output_type": "stream",
     "text": [
      " 86%|████████▌ | 4600/5352 [26:32<04:24,  2.84it/s]"
     ]
    },
    {
     "name": "stdout",
     "output_type": "stream",
     "text": [
      "{'FullBody': {'All': 187.2450714111328, 'Walking': 201.542724609375, 'UpperStretching': 189.3333282470703, 'Patting': 156.10780334472656, 'LowerStretching': 196.08009338378906, 'Reacting': 160.76214599609375, 'Gesticuling': 122.32030487060547, 'Greeting': 138.34954833984375, 'Gaming': 175.40708923339844, 'Talking': 129.962646484375}, 'UpperBody': {'All': 157.99932861328125, 'Walking': 153.68736267089844, 'UpperStretching': 162.64842224121094, 'Patting': 145.6850128173828, 'LowerStretching': 152.88870239257812, 'Reacting': 143.79710388183594, 'Gesticuling': 133.12689208984375, 'Greeting': 148.54981994628906, 'Gaming': 168.09197998046875, 'Talking': 145.90451049804688}, 'LowerBody': {'All': 216.4908447265625, 'Walking': 249.39810180664062, 'UpperStretching': 216.0182342529297, 'Patting': 166.53057861328125, 'LowerStretching': 239.27146911621094, 'Reacting': 177.72720336914062, 'Gesticuling': 111.51371765136719, 'Greeting': 128.14923095703125, 'Gaming': 182.72219848632812, 'Talking': 114.02076721191406}}\n"
     ]
    },
    {
     "name": "stderr",
     "output_type": "stream",
     "text": [
      " 90%|████████▉ | 4800/5352 [27:41<03:14,  2.84it/s]"
     ]
    },
    {
     "name": "stdout",
     "output_type": "stream",
     "text": [
      "{'FullBody': {'All': 187.22093200683594, 'Walking': 201.1552276611328, 'UpperStretching': 189.29483032226562, 'Patting': 156.8662872314453, 'LowerStretching': 196.3356170654297, 'Reacting': 160.5380096435547, 'Gesticuling': 122.30401611328125, 'Greeting': 138.572998046875, 'Gaming': 175.4798583984375, 'Talking': 130.30462646484375}, 'UpperBody': {'All': 157.98736572265625, 'Walking': 153.5047149658203, 'UpperStretching': 162.62777709960938, 'Patting': 145.98025512695312, 'LowerStretching': 153.0008544921875, 'Reacting': 143.96685791015625, 'Gesticuling': 133.2684783935547, 'Greeting': 148.39138793945312, 'Gaming': 167.97621154785156, 'Talking': 146.1372528076172}, 'LowerBody': {'All': 216.45449829101562, 'Walking': 248.8057861328125, 'UpperStretching': 215.96185302734375, 'Patting': 167.75233459472656, 'LowerStretching': 239.67034912109375, 'Reacting': 177.10916137695312, 'Gesticuling': 111.33955383300781, 'Greeting': 128.75462341308594, 'Gaming': 182.9835205078125, 'Talking': 114.47201538085938}}\n"
     ]
    },
    {
     "name": "stderr",
     "output_type": "stream",
     "text": [
      " 93%|█████████▎| 5000/5352 [28:50<02:04,  2.83it/s]"
     ]
    },
    {
     "name": "stdout",
     "output_type": "stream",
     "text": [
      "{'FullBody': {'All': 187.19976806640625, 'Walking': 201.39732360839844, 'UpperStretching': 189.28485107421875, 'Patting': 156.571044921875, 'LowerStretching': 196.313720703125, 'Reacting': 160.35159301757812, 'Gesticuling': 122.1558609008789, 'Greeting': 138.4228057861328, 'Gaming': 175.00294494628906, 'Talking': 130.04200744628906}, 'UpperBody': {'All': 157.96337890625, 'Walking': 153.55894470214844, 'UpperStretching': 162.6176300048828, 'Patting': 145.94154357910156, 'LowerStretching': 153.0091552734375, 'Reacting': 143.7481689453125, 'Gesticuling': 132.9365234375, 'Greeting': 148.34339904785156, 'Gaming': 167.80018615722656, 'Talking': 146.09828186035156}, 'LowerBody': {'All': 216.4362030029297, 'Walking': 249.2357177734375, 'UpperStretching': 215.95204162597656, 'Patting': 167.20053100585938, 'LowerStretching': 239.61825561523438, 'Reacting': 176.95501708984375, 'Gesticuling': 111.37519073486328, 'Greeting': 128.50221252441406, 'Gaming': 182.2057342529297, 'Talking': 113.98571014404297}}\n"
     ]
    },
    {
     "name": "stderr",
     "output_type": "stream",
     "text": [
      " 97%|█████████▋| 5200/5352 [30:00<00:53,  2.83it/s]"
     ]
    },
    {
     "name": "stdout",
     "output_type": "stream",
     "text": [
      "{'FullBody': {'All': 187.2479705810547, 'Walking': 201.5248260498047, 'UpperStretching': 189.35594177246094, 'Patting': 157.2595672607422, 'LowerStretching': 196.30511474609375, 'Reacting': 160.2283172607422, 'Gesticuling': 122.05276489257812, 'Greeting': 138.5723419189453, 'Gaming': 174.27149963378906, 'Talking': 129.7611083984375}, 'UpperBody': {'All': 158.00949096679688, 'Walking': 153.61117553710938, 'UpperStretching': 162.65597534179688, 'Patting': 146.22926330566406, 'LowerStretching': 153.0706787109375, 'Reacting': 143.6958465576172, 'Gesticuling': 132.93463134765625, 'Greeting': 148.41900634765625, 'Gaming': 167.66610717773438, 'Talking': 145.905517578125}, 'LowerBody': {'All': 216.48643493652344, 'Walking': 249.4384765625, 'UpperStretching': 216.05587768554688, 'Patting': 168.2899169921875, 'LowerStretching': 239.53953552246094, 'Reacting': 176.76077270507812, 'Gesticuling': 111.17088317871094, 'Greeting': 128.72569274902344, 'Gaming': 180.87689208984375, 'Talking': 113.61668395996094}}\n"
     ]
    },
    {
     "name": "stderr",
     "output_type": "stream",
     "text": [
      "100%|██████████| 5352/5352 [30:52<00:00,  2.89it/s]\n",
      "\u001b[94m07:36:38 \u001b[92m[INFO]\u001b[94m Main\u001b[0m: Saving evaluation results...\n",
      "\u001b[94m07:36:38 \u001b[92m[INFO]\u001b[94m Main\u001b[0m: Done.\n",
      "\u001b[94m07:36:38 \u001b[92m[INFO]\u001b[94m Main\u001b[0m: Starting demo...\n",
      "  0%|          | 0/5352 [00:00<?, ?it/s]/opt/conda/lib/python3.10/site-packages/torchvision/transforms/transforms.py:329: UserWarning: Argument 'interpolation' of type int is deprecated since 0.13 and will be removed in 0.15. Please use InterpolationMode enum.\n",
      "  warnings.warn(\n",
      "/opt/conda/lib/python3.10/site-packages/torchvision/transforms/transforms.py:329: UserWarning: Argument 'interpolation' of type int is deprecated since 0.13 and will be removed in 0.15. Please use InterpolationMode enum.\n",
      "  warnings.warn(\n",
      "/opt/conda/lib/python3.10/site-packages/torchvision/transforms/transforms.py:329: UserWarning: Argument 'interpolation' of type int is deprecated since 0.13 and will be removed in 0.15. Please use InterpolationMode enum.\n",
      "  warnings.warn(\n",
      "/opt/conda/lib/python3.10/site-packages/torchvision/transforms/transforms.py:329: UserWarning: Argument 'interpolation' of type int is deprecated since 0.13 and will be removed in 0.15. Please use InterpolationMode enum.\n",
      "  warnings.warn(\n",
      "/opt/conda/lib/python3.10/site-packages/torchvision/transforms/transforms.py:329: UserWarning: Argument 'interpolation' of type int is deprecated since 0.13 and will be removed in 0.15. Please use InterpolationMode enum.\n",
      "  warnings.warn(\n",
      "/opt/conda/lib/python3.10/site-packages/torchvision/transforms/transforms.py:329: UserWarning: Argument 'interpolation' of type int is deprecated since 0.13 and will be removed in 0.15. Please use InterpolationMode enum.\n",
      "  warnings.warn(\n",
      "/opt/conda/lib/python3.10/site-packages/torchvision/transforms/transforms.py:329: UserWarning: Argument 'interpolation' of type int is deprecated since 0.13 and will be removed in 0.15. Please use InterpolationMode enum.\n",
      "  warnings.warn(\n",
      "/opt/conda/lib/python3.10/site-packages/torchvision/transforms/transforms.py:329: UserWarning: Argument 'interpolation' of type int is deprecated since 0.13 and will be removed in 0.15. Please use InterpolationMode enum.\n",
      "  warnings.warn(\n",
      "/opt/conda/lib/python3.10/site-packages/torchvision/transforms/transforms.py:329: UserWarning: Argument 'interpolation' of type int is deprecated since 0.13 and will be removed in 0.15. Please use InterpolationMode enum.\n",
      "  warnings.warn(\n",
      "/opt/conda/lib/python3.10/site-packages/torchvision/transforms/transforms.py:329: UserWarning: Argument 'interpolation' of type int is deprecated since 0.13 and will be removed in 0.15. Please use InterpolationMode enum.\n",
      "  warnings.warn(\n",
      "/opt/conda/lib/python3.10/site-packages/torchvision/transforms/transforms.py:329: UserWarning: Argument 'interpolation' of type int is deprecated since 0.13 and will be removed in 0.15. Please use InterpolationMode enum.\n",
      "  warnings.warn(\n",
      "/opt/conda/lib/python3.10/site-packages/torchvision/transforms/transforms.py:329: UserWarning: Argument 'interpolation' of type int is deprecated since 0.13 and will be removed in 0.15. Please use InterpolationMode enum.\n",
      "  warnings.warn(\n",
      "/opt/conda/lib/python3.10/site-packages/torchvision/transforms/transforms.py:329: UserWarning: Argument 'interpolation' of type int is deprecated since 0.13 and will be removed in 0.15. Please use InterpolationMode enum.\n",
      "  warnings.warn(\n",
      "/opt/conda/lib/python3.10/site-packages/torchvision/transforms/transforms.py:329: UserWarning: Argument 'interpolation' of type int is deprecated since 0.13 and will be removed in 0.15. Please use InterpolationMode enum.\n",
      "  warnings.warn(\n",
      "/opt/conda/lib/python3.10/site-packages/torchvision/transforms/transforms.py:329: UserWarning: Argument 'interpolation' of type int is deprecated since 0.13 and will be removed in 0.15. Please use InterpolationMode enum.\n",
      "  warnings.warn(\n",
      "/opt/conda/lib/python3.10/site-packages/torchvision/transforms/transforms.py:329: UserWarning: Argument 'interpolation' of type int is deprecated since 0.13 and will be removed in 0.15. Please use InterpolationMode enum.\n",
      "  warnings.warn(\n",
      "/opt/conda/lib/python3.10/site-packages/torchvision/transforms/transforms.py:329: UserWarning: Argument 'interpolation' of type int is deprecated since 0.13 and will be removed in 0.15. Please use InterpolationMode enum.\n",
      "  warnings.warn(\n",
      "/opt/conda/lib/python3.10/site-packages/torchvision/transforms/transforms.py:329: UserWarning: Argument 'interpolation' of type int is deprecated since 0.13 and will be removed in 0.15. Please use InterpolationMode enum.\n",
      "  warnings.warn(\n",
      "/opt/conda/lib/python3.10/site-packages/torchvision/transforms/transforms.py:329: UserWarning: Argument 'interpolation' of type int is deprecated since 0.13 and will be removed in 0.15. Please use InterpolationMode enum.\n",
      "  warnings.warn(\n",
      "/opt/conda/lib/python3.10/site-packages/torchvision/transforms/transforms.py:329: UserWarning: Argument 'interpolation' of type int is deprecated since 0.13 and will be removed in 0.15. Please use InterpolationMode enum.\n",
      "  warnings.warn(\n",
      "/opt/conda/lib/python3.10/site-packages/torchvision/transforms/transforms.py:329: UserWarning: Argument 'interpolation' of type int is deprecated since 0.13 and will be removed in 0.15. Please use InterpolationMode enum.\n",
      "  warnings.warn(\n",
      "/opt/conda/lib/python3.10/site-packages/torchvision/transforms/transforms.py:329: UserWarning: Argument 'interpolation' of type int is deprecated since 0.13 and will be removed in 0.15. Please use InterpolationMode enum.\n",
      "  warnings.warn(\n",
      "/opt/conda/lib/python3.10/site-packages/torchvision/transforms/transforms.py:329: UserWarning: Argument 'interpolation' of type int is deprecated since 0.13 and will be removed in 0.15. Please use InterpolationMode enum.\n",
      "  warnings.warn(\n",
      "/opt/conda/lib/python3.10/site-packages/torchvision/transforms/transforms.py:329: UserWarning: Argument 'interpolation' of type int is deprecated since 0.13 and will be removed in 0.15. Please use InterpolationMode enum.\n",
      "  warnings.warn(\n",
      "  4%|▎         | 200/5352 [01:13<29:33,  2.90it/s]"
     ]
    },
    {
     "name": "stdout",
     "output_type": "stream",
     "text": [
      "{'FullBody': {'All': 149.44485473632812, 'UpperStretching': 153.7497100830078, 'Walking': 148.1373291015625, 'Greeting': 110.86090087890625, 'LowerStretching': 149.56051635742188, 'Gaming': 141.25985717773438, 'Gesticuling': 111.70095825195312, 'Patting': 140.37869262695312, 'Reacting': 140.06365966796875, 'Talking': 106.66336059570312}, 'UpperBody': {'All': 131.27413940429688, 'UpperStretching': 143.34475708007812, 'Walking': 118.1324234008789, 'Greeting': 106.72274017333984, 'LowerStretching': 108.28240966796875, 'Gaming': 117.60530853271484, 'Gesticuling': 117.30947875976562, 'Patting': 115.99309539794922, 'Reacting': 127.24752044677734, 'Talking': 107.61044311523438}, 'LowerBody': {'All': 167.61558532714844, 'UpperStretching': 164.15464782714844, 'Walking': 178.14222717285156, 'Greeting': 114.9990463256836, 'LowerStretching': 190.83860778808594, 'Gaming': 164.9144287109375, 'Gesticuling': 106.09244537353516, 'Patting': 164.76431274414062, 'Reacting': 152.87977600097656, 'Talking': 105.71627807617188}}\n"
     ]
    },
    {
     "name": "stderr",
     "output_type": "stream",
     "text": [
      "  7%|▋         | 400/5352 [02:22<28:28,  2.90it/s]"
     ]
    },
    {
     "name": "stdout",
     "output_type": "stream",
     "text": [
      "{'FullBody': {'All': 149.40533447265625, 'UpperStretching': 154.61985778808594, 'Walking': 145.2894287109375, 'Greeting': 112.62786865234375, 'LowerStretching': 148.64320373535156, 'Gaming': 138.15000915527344, 'Gesticuling': 110.08547973632812, 'Patting': 144.6118927001953, 'Reacting': 138.4073944091797, 'Talking': 106.32821655273438}, 'UpperBody': {'All': 130.93341064453125, 'UpperStretching': 143.5271453857422, 'Walking': 116.5232925415039, 'Greeting': 109.0212631225586, 'LowerStretching': 107.68464660644531, 'Gaming': 112.95746612548828, 'Gesticuling': 116.14991760253906, 'Patting': 116.25697326660156, 'Reacting': 125.27374267578125, 'Talking': 107.42888641357422}, 'LowerBody': {'All': 167.8772430419922, 'UpperStretching': 165.7125701904297, 'Walking': 174.05555725097656, 'Greeting': 116.2344741821289, 'LowerStretching': 189.60174560546875, 'Gaming': 163.342529296875, 'Gesticuling': 104.02106475830078, 'Patting': 172.96685791015625, 'Reacting': 151.5410614013672, 'Talking': 105.2275390625}}\n"
     ]
    },
    {
     "name": "stderr",
     "output_type": "stream",
     "text": [
      " 11%|█         | 600/5352 [03:30<27:23,  2.89it/s]"
     ]
    },
    {
     "name": "stdout",
     "output_type": "stream",
     "text": [
      "{'FullBody': {'All': 149.42909240722656, 'UpperStretching': 154.6118621826172, 'Walking': 145.24972534179688, 'Greeting': 118.00985717773438, 'LowerStretching': 148.1123046875, 'Gaming': 139.1329803466797, 'Gesticuling': 108.57273864746094, 'Patting': 144.41477966308594, 'Reacting': 140.96603393554688, 'Talking': 110.1113052368164}, 'UpperBody': {'All': 131.09385681152344, 'UpperStretching': 143.5028533935547, 'Walking': 116.1628189086914, 'Greeting': 112.42098999023438, 'LowerStretching': 108.6530990600586, 'Gaming': 116.34601593017578, 'Gesticuling': 114.72399139404297, 'Patting': 116.10790252685547, 'Reacting': 128.1142578125, 'Talking': 107.98915100097656}, 'LowerBody': {'All': 167.76429748535156, 'UpperStretching': 165.7208709716797, 'Walking': 174.3366241455078, 'Greeting': 123.59869384765625, 'LowerStretching': 187.57150268554688, 'Gaming': 161.91993713378906, 'Gesticuling': 102.42149353027344, 'Patting': 172.72164916992188, 'Reacting': 153.81777954101562, 'Talking': 112.23346710205078}}\n"
     ]
    },
    {
     "name": "stderr",
     "output_type": "stream",
     "text": [
      " 15%|█▍        | 800/5352 [04:39<26:15,  2.89it/s]"
     ]
    },
    {
     "name": "stdout",
     "output_type": "stream",
     "text": [
      "{'FullBody': {'All': 149.63583374023438, 'UpperStretching': 154.6461639404297, 'Walking': 146.18836975097656, 'Greeting': 117.75125122070312, 'LowerStretching': 148.66339111328125, 'Gaming': 139.30384826660156, 'Gesticuling': 108.01726531982422, 'Patting': 146.18228149414062, 'Reacting': 140.5885467529297, 'Talking': 109.88108825683594}, 'UpperBody': {'All': 131.1538543701172, 'UpperStretching': 143.66737365722656, 'Walking': 116.04296112060547, 'Greeting': 112.40849304199219, 'LowerStretching': 108.80921173095703, 'Gaming': 116.068359375, 'Gesticuling': 113.83018493652344, 'Patting': 117.33906555175781, 'Reacting': 127.78597259521484, 'Talking': 107.80443572998047}, 'LowerBody': {'All': 168.11781311035156, 'UpperStretching': 165.6249542236328, 'Walking': 176.33375549316406, 'Greeting': 123.093994140625, 'LowerStretching': 188.51754760742188, 'Gaming': 162.53936767578125, 'Gesticuling': 102.204345703125, 'Patting': 175.0255126953125, 'Reacting': 153.39109802246094, 'Talking': 111.9577407836914}}\n"
     ]
    },
    {
     "name": "stderr",
     "output_type": "stream",
     "text": [
      " 19%|█▊        | 1000/5352 [05:49<25:08,  2.88it/s]"
     ]
    },
    {
     "name": "stdout",
     "output_type": "stream",
     "text": [
      "{'FullBody': {'All': 149.3875732421875, 'UpperStretching': 154.49737548828125, 'Walking': 146.38230895996094, 'Greeting': 116.2967529296875, 'LowerStretching': 147.9570770263672, 'Gaming': 140.17608642578125, 'Gesticuling': 108.34796905517578, 'Patting': 147.87586975097656, 'Reacting': 140.20867919921875, 'Talking': 110.56786346435547}, 'UpperBody': {'All': 131.04318237304688, 'UpperStretching': 143.59030151367188, 'Walking': 116.6427230834961, 'Greeting': 111.4747543334961, 'LowerStretching': 108.30976867675781, 'Gaming': 116.88291931152344, 'Gesticuling': 114.5009536743164, 'Patting': 118.30455017089844, 'Reacting': 126.58290100097656, 'Talking': 107.10699462890625}, 'LowerBody': {'All': 167.73196411132812, 'UpperStretching': 165.4044647216797, 'Walking': 176.12188720703125, 'Greeting': 121.11874389648438, 'LowerStretching': 187.60438537597656, 'Gaming': 163.46925354003906, 'Gesticuling': 102.19498443603516, 'Patting': 177.4471893310547, 'Reacting': 153.83441162109375, 'Talking': 114.02873992919922}}\n"
     ]
    },
    {
     "name": "stderr",
     "output_type": "stream",
     "text": [
      " 22%|██▏       | 1200/5352 [06:58<23:59,  2.88it/s]"
     ]
    },
    {
     "name": "stdout",
     "output_type": "stream",
     "text": [
      "{'FullBody': {'All': 149.2823944091797, 'UpperStretching': 154.5317840576172, 'Walking': 146.400634765625, 'Greeting': 116.56645202636719, 'LowerStretching': 147.24998474121094, 'Gaming': 140.45437622070312, 'Gesticuling': 108.5699691772461, 'Patting': 148.30328369140625, 'Reacting': 139.4907684326172, 'Talking': 110.33438873291016}, 'UpperBody': {'All': 130.91969299316406, 'UpperStretching': 143.47752380371094, 'Walking': 116.50942993164062, 'Greeting': 111.53238677978516, 'LowerStretching': 108.06294250488281, 'Gaming': 116.94065856933594, 'Gesticuling': 114.55907440185547, 'Patting': 119.5087890625, 'Reacting': 126.74830627441406, 'Talking': 106.69522857666016}, 'LowerBody': {'All': 167.64511108398438, 'UpperStretching': 165.58602905273438, 'Walking': 176.2918701171875, 'Greeting': 121.60052490234375, 'LowerStretching': 186.43702697753906, 'Gaming': 163.96810913085938, 'Gesticuling': 102.58086395263672, 'Patting': 177.09774780273438, 'Reacting': 152.2332000732422, 'Talking': 113.97354125976562}}\n"
     ]
    },
    {
     "name": "stderr",
     "output_type": "stream",
     "text": [
      " 26%|██▌       | 1400/5352 [08:07<22:54,  2.87it/s]"
     ]
    },
    {
     "name": "stdout",
     "output_type": "stream",
     "text": [
      "{'FullBody': {'All': 149.19052124023438, 'UpperStretching': 154.25401306152344, 'Walking': 146.38671875, 'Greeting': 115.74252319335938, 'LowerStretching': 147.21473693847656, 'Gaming': 141.32562255859375, 'Gesticuling': 107.8360824584961, 'Patting': 149.1055450439453, 'Reacting': 140.41053771972656, 'Talking': 110.92686462402344}, 'UpperBody': {'All': 131.03335571289062, 'UpperStretching': 143.44631958007812, 'Walking': 116.55360412597656, 'Greeting': 111.54631805419922, 'LowerStretching': 108.2148208618164, 'Gaming': 117.31912231445312, 'Gesticuling': 113.95988464355469, 'Patting': 118.8244857788086, 'Reacting': 127.2906494140625, 'Talking': 107.70973205566406}, 'LowerBody': {'All': 167.34767150878906, 'UpperStretching': 165.06170654296875, 'Walking': 176.21981811523438, 'Greeting': 119.93870544433594, 'LowerStretching': 186.2146453857422, 'Gaming': 165.33209228515625, 'Gesticuling': 101.71227264404297, 'Patting': 179.3866424560547, 'Reacting': 153.5304412841797, 'Talking': 114.14400482177734}}\n"
     ]
    },
    {
     "name": "stderr",
     "output_type": "stream",
     "text": [
      " 30%|██▉       | 1600/5352 [09:16<21:46,  2.87it/s]"
     ]
    },
    {
     "name": "stdout",
     "output_type": "stream",
     "text": [
      "{'FullBody': {'All': 149.17962646484375, 'UpperStretching': 154.24009704589844, 'Walking': 146.61175537109375, 'Greeting': 115.51553344726562, 'LowerStretching': 146.94378662109375, 'Gaming': 141.09132385253906, 'Gesticuling': 107.09349822998047, 'Patting': 149.1212615966797, 'Reacting': 140.7498016357422, 'Talking': 111.77552795410156}, 'UpperBody': {'All': 131.06341552734375, 'UpperStretching': 143.4069061279297, 'Walking': 116.67524719238281, 'Greeting': 111.20370483398438, 'LowerStretching': 108.39093017578125, 'Gaming': 116.96507263183594, 'Gesticuling': 112.87994384765625, 'Patting': 118.96705627441406, 'Reacting': 127.06765747070312, 'Talking': 109.1915283203125}, 'LowerBody': {'All': 167.2958221435547, 'UpperStretching': 165.07330322265625, 'Walking': 176.5482635498047, 'Greeting': 119.82736206054688, 'LowerStretching': 185.4966583251953, 'Gaming': 165.2175750732422, 'Gesticuling': 101.30706024169922, 'Patting': 179.27545166015625, 'Reacting': 154.4319305419922, 'Talking': 114.35954284667969}}\n"
     ]
    },
    {
     "name": "stderr",
     "output_type": "stream",
     "text": [
      " 34%|███▎      | 1800/5352 [10:25<20:35,  2.88it/s]"
     ]
    },
    {
     "name": "stdout",
     "output_type": "stream",
     "text": [
      "{'FullBody': {'All': 149.15573120117188, 'UpperStretching': 154.1062774658203, 'Walking': 146.64418029785156, 'Greeting': 116.29755401611328, 'LowerStretching': 147.00726318359375, 'Gaming': 141.59054565429688, 'Gesticuling': 107.80342102050781, 'Patting': 148.86415100097656, 'Reacting': 140.71018981933594, 'Talking': 112.26676177978516}, 'UpperBody': {'All': 131.1219482421875, 'UpperStretching': 143.44561767578125, 'Walking': 116.68518829345703, 'Greeting': 111.66094207763672, 'LowerStretching': 108.28085327148438, 'Gaming': 117.22261047363281, 'Gesticuling': 113.95984649658203, 'Patting': 118.61347961425781, 'Reacting': 126.80647277832031, 'Talking': 109.72904205322266}, 'LowerBody': {'All': 167.18951416015625, 'UpperStretching': 164.76693725585938, 'Walking': 176.60316467285156, 'Greeting': 120.93417358398438, 'LowerStretching': 185.73367309570312, 'Gaming': 165.95848083496094, 'Gesticuling': 101.64700317382812, 'Patting': 179.1148223876953, 'Reacting': 154.61390686035156, 'Talking': 114.80448150634766}}\n"
     ]
    },
    {
     "name": "stderr",
     "output_type": "stream",
     "text": [
      " 37%|███▋      | 2000/5352 [11:34<19:28,  2.87it/s]"
     ]
    },
    {
     "name": "stdout",
     "output_type": "stream",
     "text": [
      "{'FullBody': {'All': 148.98983764648438, 'UpperStretching': 153.94058227539062, 'Walking': 146.39527893066406, 'Greeting': 115.70256042480469, 'LowerStretching': 146.90293884277344, 'Gaming': 140.85238647460938, 'Gesticuling': 107.7190170288086, 'Patting': 148.408935546875, 'Reacting': 140.56185913085938, 'Talking': 112.50833892822266}, 'UpperBody': {'All': 131.07334899902344, 'UpperStretching': 143.45880126953125, 'Walking': 116.59225463867188, 'Greeting': 111.59358215332031, 'LowerStretching': 108.095458984375, 'Gaming': 116.56842803955078, 'Gesticuling': 113.97237396240234, 'Patting': 118.85357666015625, 'Reacting': 126.71642303466797, 'Talking': 109.78980255126953}, 'LowerBody': {'All': 166.90634155273438, 'UpperStretching': 164.42234802246094, 'Walking': 176.1983184814453, 'Greeting': 119.8115463256836, 'LowerStretching': 185.71041870117188, 'Gaming': 165.13633728027344, 'Gesticuling': 101.46566009521484, 'Patting': 177.9643096923828, 'Reacting': 154.4072723388672, 'Talking': 115.22688293457031}}\n"
     ]
    },
    {
     "name": "stderr",
     "output_type": "stream",
     "text": [
      " 41%|████      | 2200/5352 [12:43<18:17,  2.87it/s]"
     ]
    },
    {
     "name": "stdout",
     "output_type": "stream",
     "text": [
      "{'FullBody': {'All': 148.77928161621094, 'UpperStretching': 153.67416381835938, 'Walking': 146.45956420898438, 'Greeting': 116.20979309082031, 'LowerStretching': 146.75875854492188, 'Gaming': 139.6539764404297, 'Gesticuling': 108.21839141845703, 'Patting': 149.24258422851562, 'Reacting': 139.4785919189453, 'Talking': 112.72341918945312}, 'UpperBody': {'All': 130.8932647705078, 'UpperStretching': 143.24757385253906, 'Walking': 116.49794006347656, 'Greeting': 112.18533325195312, 'LowerStretching': 107.93394470214844, 'Gaming': 115.95592498779297, 'Gesticuling': 114.73601531982422, 'Patting': 119.70173645019531, 'Reacting': 125.62576293945312, 'Talking': 109.74126434326172}, 'LowerBody': {'All': 166.66526794433594, 'UpperStretching': 164.1007537841797, 'Walking': 176.42123413085938, 'Greeting': 120.23421478271484, 'LowerStretching': 185.58360290527344, 'Gaming': 163.35202026367188, 'Gesticuling': 101.70076751708984, 'Patting': 178.783447265625, 'Reacting': 153.33145141601562, 'Talking': 115.70556640625}}\n"
     ]
    },
    {
     "name": "stderr",
     "output_type": "stream",
     "text": [
      " 45%|████▍     | 2400/5352 [13:52<17:10,  2.86it/s]"
     ]
    },
    {
     "name": "stdout",
     "output_type": "stream",
     "text": [
      "{'FullBody': {'All': 148.76930236816406, 'UpperStretching': 153.619873046875, 'Walking': 146.1053924560547, 'Greeting': 117.31478118896484, 'LowerStretching': 147.01063537597656, 'Gaming': 139.44851684570312, 'Gesticuling': 108.15067291259766, 'Patting': 150.64955139160156, 'Reacting': 139.2786407470703, 'Talking': 112.9002456665039}, 'UpperBody': {'All': 130.91864013671875, 'UpperStretching': 143.23741149902344, 'Walking': 116.3130111694336, 'Greeting': 112.5754623413086, 'LowerStretching': 108.0984115600586, 'Gaming': 116.2894287109375, 'Gesticuling': 115.05675506591797, 'Patting': 120.16082000732422, 'Reacting': 125.27047729492188, 'Talking': 109.88677215576172}, 'LowerBody': {'All': 166.6199188232422, 'UpperStretching': 164.00233459472656, 'Walking': 175.8977813720703, 'Greeting': 122.05409240722656, 'LowerStretching': 185.9228515625, 'Gaming': 162.60757446289062, 'Gesticuling': 101.24458312988281, 'Patting': 181.13827514648438, 'Reacting': 153.28680419921875, 'Talking': 115.91373443603516}}\n"
     ]
    },
    {
     "name": "stderr",
     "output_type": "stream",
     "text": [
      " 49%|████▊     | 2600/5352 [15:01<15:59,  2.87it/s]"
     ]
    },
    {
     "name": "stdout",
     "output_type": "stream",
     "text": [
      "{'FullBody': {'All': 148.77635192871094, 'UpperStretching': 153.517822265625, 'Walking': 146.2952423095703, 'Greeting': 118.36076354980469, 'LowerStretching': 146.92860412597656, 'Gaming': 139.71566772460938, 'Gesticuling': 108.536376953125, 'Patting': 151.05140686035156, 'Reacting': 139.89686584472656, 'Talking': 112.78026580810547}, 'UpperBody': {'All': 130.9593963623047, 'UpperStretching': 143.2453155517578, 'Walking': 116.42951965332031, 'Greeting': 113.58362579345703, 'LowerStretching': 108.10951232910156, 'Gaming': 116.62876892089844, 'Gesticuling': 115.36705780029297, 'Patting': 120.07135772705078, 'Reacting': 125.6593246459961, 'Talking': 109.50967407226562}, 'LowerBody': {'All': 166.59329223632812, 'UpperStretching': 163.7903289794922, 'Walking': 176.1609649658203, 'Greeting': 123.13789367675781, 'LowerStretching': 185.74769592285156, 'Gaming': 162.80258178710938, 'Gesticuling': 101.70569610595703, 'Patting': 182.03146362304688, 'Reacting': 154.13438415527344, 'Talking': 116.05084991455078}}\n"
     ]
    },
    {
     "name": "stderr",
     "output_type": "stream",
     "text": [
      " 52%|█████▏    | 2800/5352 [16:10<14:52,  2.86it/s]"
     ]
    },
    {
     "name": "stdout",
     "output_type": "stream",
     "text": [
      "{'FullBody': {'All': 148.69155883789062, 'UpperStretching': 153.37974548339844, 'Walking': 146.3190460205078, 'Greeting': 119.11701202392578, 'LowerStretching': 146.71421813964844, 'Gaming': 140.05014038085938, 'Gesticuling': 108.38324737548828, 'Patting': 151.40931701660156, 'Reacting': 140.29429626464844, 'Talking': 113.0338363647461}, 'UpperBody': {'All': 130.8988800048828, 'UpperStretching': 143.15077209472656, 'Walking': 116.52091979980469, 'Greeting': 113.98028564453125, 'LowerStretching': 108.02207946777344, 'Gaming': 116.75668334960938, 'Gesticuling': 115.37650299072266, 'Patting': 119.99056243896484, 'Reacting': 125.61753845214844, 'Talking': 109.57185363769531}, 'LowerBody': {'All': 166.48422241210938, 'UpperStretching': 163.6087188720703, 'Walking': 176.11717224121094, 'Greeting': 124.25374603271484, 'LowerStretching': 185.4063720703125, 'Gaming': 163.3435821533203, 'Gesticuling': 101.3899917602539, 'Patting': 182.8280792236328, 'Reacting': 154.9710693359375, 'Talking': 116.4958267211914}}\n"
     ]
    },
    {
     "name": "stderr",
     "output_type": "stream",
     "text": [
      " 56%|█████▌    | 3000/5352 [17:20<13:42,  2.86it/s]"
     ]
    },
    {
     "name": "stdout",
     "output_type": "stream",
     "text": [
      "{'FullBody': {'All': 148.74935913085938, 'UpperStretching': 153.4518585205078, 'Walking': 146.36277770996094, 'Greeting': 118.79349517822266, 'LowerStretching': 146.66900634765625, 'Gaming': 140.19720458984375, 'Gesticuling': 109.07354736328125, 'Patting': 150.9313507080078, 'Reacting': 140.1282196044922, 'Talking': 113.10539245605469}, 'UpperBody': {'All': 130.99681091308594, 'UpperStretching': 143.25103759765625, 'Walking': 116.65433502197266, 'Greeting': 113.5478286743164, 'LowerStretching': 107.9676284790039, 'Gaming': 116.65156555175781, 'Gesticuling': 115.92854309082031, 'Patting': 119.9378662109375, 'Reacting': 125.17279815673828, 'Talking': 109.44664001464844}, 'LowerBody': {'All': 166.5019073486328, 'UpperStretching': 163.6526641845703, 'Walking': 176.07122802734375, 'Greeting': 124.03914642333984, 'LowerStretching': 185.37039184570312, 'Gaming': 163.7428436279297, 'Gesticuling': 102.21854400634766, 'Patting': 181.92486572265625, 'Reacting': 155.08364868164062, 'Talking': 116.76412200927734}}\n"
     ]
    },
    {
     "name": "stderr",
     "output_type": "stream",
     "text": [
      " 60%|█████▉    | 3200/5352 [18:29<12:32,  2.86it/s]"
     ]
    },
    {
     "name": "stdout",
     "output_type": "stream",
     "text": [
      "{'FullBody': {'All': 148.7238311767578, 'UpperStretching': 153.4758758544922, 'Walking': 146.3034210205078, 'Greeting': 118.28197479248047, 'LowerStretching': 146.63653564453125, 'Gaming': 139.86656188964844, 'Gesticuling': 109.15686798095703, 'Patting': 150.57919311523438, 'Reacting': 139.8810272216797, 'Talking': 113.02965545654297}, 'UpperBody': {'All': 130.9733428955078, 'UpperStretching': 143.28363037109375, 'Walking': 116.58868408203125, 'Greeting': 113.40167236328125, 'LowerStretching': 107.90703582763672, 'Gaming': 116.86068725585938, 'Gesticuling': 116.122314453125, 'Patting': 119.66009521484375, 'Reacting': 124.9166488647461, 'Talking': 109.34194946289062}, 'LowerBody': {'All': 166.4743194580078, 'UpperStretching': 163.66815185546875, 'Walking': 176.0181427001953, 'Greeting': 123.16226196289062, 'LowerStretching': 185.3660430908203, 'Gaming': 162.8724365234375, 'Gesticuling': 102.1914291381836, 'Patting': 181.49826049804688, 'Reacting': 154.84539794921875, 'Talking': 116.71736145019531}}\n"
     ]
    },
    {
     "name": "stderr",
     "output_type": "stream",
     "text": [
      " 64%|██████▎   | 3400/5352 [19:38<11:24,  2.85it/s]"
     ]
    },
    {
     "name": "stdout",
     "output_type": "stream",
     "text": [
      "{'FullBody': {'All': 148.6678924560547, 'UpperStretching': 153.41798400878906, 'Walking': 146.4101104736328, 'Greeting': 118.2806167602539, 'LowerStretching': 146.4818878173828, 'Gaming': 139.69253540039062, 'Gesticuling': 108.90584564208984, 'Patting': 150.95626831054688, 'Reacting': 140.012939453125, 'Talking': 112.85124969482422}, 'UpperBody': {'All': 130.94503784179688, 'UpperStretching': 143.2641143798828, 'Walking': 116.70446014404297, 'Greeting': 113.17892456054688, 'LowerStretching': 107.88192749023438, 'Gaming': 116.61502838134766, 'Gesticuling': 115.83338928222656, 'Patting': 120.043212890625, 'Reacting': 124.97870635986328, 'Talking': 108.82709503173828}, 'LowerBody': {'All': 166.39073181152344, 'UpperStretching': 163.57186889648438, 'Walking': 176.11575317382812, 'Greeting': 123.38231658935547, 'LowerStretching': 185.0818328857422, 'Gaming': 162.77005004882812, 'Gesticuling': 101.9782943725586, 'Patting': 181.86932373046875, 'Reacting': 155.0471649169922, 'Talking': 116.87539672851562}}\n"
     ]
    },
    {
     "name": "stderr",
     "output_type": "stream",
     "text": [
      " 67%|██████▋   | 3600/5352 [20:47<10:13,  2.86it/s]"
     ]
    },
    {
     "name": "stdout",
     "output_type": "stream",
     "text": [
      "{'FullBody': {'All': 148.69686889648438, 'UpperStretching': 153.5242462158203, 'Walking': 146.39523315429688, 'Greeting': 117.83158874511719, 'LowerStretching': 146.39205932617188, 'Gaming': 139.54150390625, 'Gesticuling': 108.8016357421875, 'Patting': 150.6697540283203, 'Reacting': 140.18914794921875, 'Talking': 112.74394226074219}, 'UpperBody': {'All': 130.95359802246094, 'UpperStretching': 143.30722045898438, 'Walking': 116.64236450195312, 'Greeting': 112.7817153930664, 'LowerStretching': 107.80280303955078, 'Gaming': 116.47687530517578, 'Gesticuling': 115.90815734863281, 'Patting': 119.90074157714844, 'Reacting': 124.96670532226562, 'Talking': 108.92511749267578}, 'LowerBody': {'All': 166.4401092529297, 'UpperStretching': 163.74127197265625, 'Walking': 176.14810180664062, 'Greeting': 122.8814468383789, 'LowerStretching': 184.98130798339844, 'Gaming': 162.6060791015625, 'Gesticuling': 101.69509887695312, 'Patting': 181.43878173828125, 'Reacting': 155.41160583496094, 'Talking': 116.5627670288086}}\n"
     ]
    },
    {
     "name": "stderr",
     "output_type": "stream",
     "text": [
      " 71%|███████   | 3800/5352 [21:56<09:04,  2.85it/s]"
     ]
    },
    {
     "name": "stdout",
     "output_type": "stream",
     "text": [
      "{'FullBody': {'All': 148.65513610839844, 'UpperStretching': 153.504150390625, 'Walking': 146.3236083984375, 'Greeting': 117.66587829589844, 'LowerStretching': 146.2130126953125, 'Gaming': 139.48020935058594, 'Gesticuling': 108.803466796875, 'Patting': 150.3982391357422, 'Reacting': 140.49594116210938, 'Talking': 113.35242462158203}, 'UpperBody': {'All': 130.93836975097656, 'UpperStretching': 143.29049682617188, 'Walking': 116.60829162597656, 'Greeting': 112.68421173095703, 'LowerStretching': 107.8399887084961, 'Gaming': 116.51532745361328, 'Gesticuling': 115.91632080078125, 'Patting': 119.65750885009766, 'Reacting': 124.89449310302734, 'Talking': 109.13645935058594}, 'LowerBody': {'All': 166.37184143066406, 'UpperStretching': 163.71780395507812, 'Walking': 176.03892517089844, 'Greeting': 122.64755249023438, 'LowerStretching': 184.58604431152344, 'Gaming': 162.4451141357422, 'Gesticuling': 101.69062042236328, 'Patting': 181.13897705078125, 'Reacting': 156.0973663330078, 'Talking': 117.56839752197266}}\n"
     ]
    },
    {
     "name": "stderr",
     "output_type": "stream",
     "text": [
      " 75%|███████▍  | 4000/5352 [23:05<07:56,  2.84it/s]"
     ]
    },
    {
     "name": "stdout",
     "output_type": "stream",
     "text": [
      "{'FullBody': {'All': 148.67581176757812, 'UpperStretching': 153.51280212402344, 'Walking': 146.46490478515625, 'Greeting': 118.40840148925781, 'LowerStretching': 146.2992401123047, 'Gaming': 139.21202087402344, 'Gesticuling': 108.73678588867188, 'Patting': 149.8671875, 'Reacting': 140.2848358154297, 'Talking': 113.28449249267578}, 'UpperBody': {'All': 130.96063232421875, 'UpperStretching': 143.3171844482422, 'Walking': 116.80149841308594, 'Greeting': 112.99994659423828, 'LowerStretching': 107.82694244384766, 'Gaming': 116.3320083618164, 'Gesticuling': 115.92334747314453, 'Patting': 119.6899185180664, 'Reacting': 124.73162841796875, 'Talking': 109.00279235839844}, 'LowerBody': {'All': 166.39096069335938, 'UpperStretching': 163.7084197998047, 'Walking': 176.12831115722656, 'Greeting': 123.81684875488281, 'LowerStretching': 184.7715301513672, 'Gaming': 162.092041015625, 'Gesticuling': 101.55024719238281, 'Patting': 180.04446411132812, 'Reacting': 155.8380584716797, 'Talking': 117.5661849975586}}\n"
     ]
    },
    {
     "name": "stderr",
     "output_type": "stream",
     "text": [
      " 78%|███████▊  | 4200/5352 [24:14<06:45,  2.84it/s]"
     ]
    },
    {
     "name": "stdout",
     "output_type": "stream",
     "text": [
      "{'FullBody': {'All': 148.77598571777344, 'UpperStretching': 153.6387939453125, 'Walking': 146.63504028320312, 'Greeting': 118.72089385986328, 'LowerStretching': 146.32774353027344, 'Gaming': 139.42726135253906, 'Gesticuling': 108.52735900878906, 'Patting': 149.6558074951172, 'Reacting': 140.0117950439453, 'Talking': 113.56124114990234}, 'UpperBody': {'All': 131.03785705566406, 'UpperStretching': 143.43954467773438, 'Walking': 116.8980941772461, 'Greeting': 113.197265625, 'LowerStretching': 107.83997344970703, 'Gaming': 116.49320983886719, 'Gesticuling': 115.70059204101562, 'Patting': 119.46510314941406, 'Reacting': 124.59627532958984, 'Talking': 108.93734741210938}, 'LowerBody': {'All': 166.5140838623047, 'UpperStretching': 163.8380126953125, 'Walking': 176.37197875976562, 'Greeting': 124.2445068359375, 'LowerStretching': 184.8155059814453, 'Gaming': 162.36131286621094, 'Gesticuling': 101.3541259765625, 'Patting': 179.8464813232422, 'Reacting': 155.4273223876953, 'Talking': 118.18511962890625}}\n"
     ]
    },
    {
     "name": "stderr",
     "output_type": "stream",
     "text": [
      " 82%|████████▏ | 4400/5352 [25:23<05:36,  2.83it/s]"
     ]
    },
    {
     "name": "stdout",
     "output_type": "stream",
     "text": [
      "{'FullBody': {'All': 148.83131408691406, 'UpperStretching': 153.71304321289062, 'Walking': 146.44973754882812, 'Greeting': 118.79947662353516, 'LowerStretching': 146.4892120361328, 'Gaming': 139.16929626464844, 'Gesticuling': 108.52719116210938, 'Patting': 149.76736450195312, 'Reacting': 140.2125701904297, 'Talking': 113.36284637451172}, 'UpperBody': {'All': 131.12203979492188, 'UpperStretching': 143.54542541503906, 'Walking': 116.88216400146484, 'Greeting': 112.87445831298828, 'LowerStretching': 107.91497802734375, 'Gaming': 116.46833038330078, 'Gesticuling': 115.48981475830078, 'Patting': 119.83628845214844, 'Reacting': 124.81098175048828, 'Talking': 108.71134185791016}, 'LowerBody': {'All': 166.54054260253906, 'UpperStretching': 163.8806610107422, 'Walking': 176.01730346679688, 'Greeting': 124.72447204589844, 'LowerStretching': 185.06346130371094, 'Gaming': 161.8702392578125, 'Gesticuling': 101.56455993652344, 'Patting': 179.6984100341797, 'Reacting': 155.61415100097656, 'Talking': 118.01435089111328}}\n"
     ]
    },
    {
     "name": "stderr",
     "output_type": "stream",
     "text": [
      " 86%|████████▌ | 4600/5352 [26:32<04:25,  2.83it/s]"
     ]
    },
    {
     "name": "stdout",
     "output_type": "stream",
     "text": [
      "{'FullBody': {'All': 148.82180786132812, 'UpperStretching': 153.658935546875, 'Walking': 146.49053955078125, 'Greeting': 118.62128448486328, 'LowerStretching': 146.51034545898438, 'Gaming': 139.1636505126953, 'Gesticuling': 108.563720703125, 'Patting': 149.68954467773438, 'Reacting': 140.57183837890625, 'Talking': 113.42263793945312}, 'UpperBody': {'All': 131.1678009033203, 'UpperStretching': 143.56521606445312, 'Walking': 116.98160552978516, 'Greeting': 112.65943908691406, 'LowerStretching': 107.92406463623047, 'Gaming': 116.4615478515625, 'Gesticuling': 115.58509826660156, 'Patting': 119.74156951904297, 'Reacting': 125.01111602783203, 'Talking': 108.80978393554688}, 'LowerBody': {'All': 166.4757843017578, 'UpperStretching': 163.7526397705078, 'Walking': 175.99948120117188, 'Greeting': 124.58314514160156, 'LowerStretching': 185.09661865234375, 'Gaming': 161.86578369140625, 'Gesticuling': 101.54232788085938, 'Patting': 179.63751220703125, 'Reacting': 156.1325225830078, 'Talking': 118.03548431396484}}\n"
     ]
    },
    {
     "name": "stderr",
     "output_type": "stream",
     "text": [
      " 90%|████████▉ | 4800/5352 [27:42<03:14,  2.84it/s]"
     ]
    },
    {
     "name": "stdout",
     "output_type": "stream",
     "text": [
      "{'FullBody': {'All': 148.7970428466797, 'UpperStretching': 153.67037963867188, 'Walking': 146.4354705810547, 'Greeting': 118.5707015991211, 'LowerStretching': 146.4823455810547, 'Gaming': 139.05007934570312, 'Gesticuling': 108.4764404296875, 'Patting': 149.57720947265625, 'Reacting': 140.48934936523438, 'Talking': 113.76297760009766}, 'UpperBody': {'All': 131.17169189453125, 'UpperStretching': 143.57400512695312, 'Walking': 116.88603210449219, 'Greeting': 112.6581039428711, 'LowerStretching': 107.98484802246094, 'Gaming': 116.41973876953125, 'Gesticuling': 115.47794342041016, 'Patting': 119.72784423828125, 'Reacting': 125.0629653930664, 'Talking': 109.08708190917969}, 'LowerBody': {'All': 166.42236328125, 'UpperStretching': 163.76675415039062, 'Walking': 175.9849090576172, 'Greeting': 124.48328399658203, 'LowerStretching': 184.97984313964844, 'Gaming': 161.68040466308594, 'Gesticuling': 101.47492218017578, 'Patting': 179.42660522460938, 'Reacting': 155.91574096679688, 'Talking': 118.43888092041016}}\n"
     ]
    },
    {
     "name": "stderr",
     "output_type": "stream",
     "text": [
      " 93%|█████████▎| 5000/5352 [28:51<02:04,  2.84it/s]"
     ]
    },
    {
     "name": "stdout",
     "output_type": "stream",
     "text": [
      "{'FullBody': {'All': 148.766357421875, 'UpperStretching': 153.60791015625, 'Walking': 146.31500244140625, 'Greeting': 118.31233978271484, 'LowerStretching': 146.57080078125, 'Gaming': 139.05111694335938, 'Gesticuling': 108.58179473876953, 'Patting': 149.53350830078125, 'Reacting': 140.32456970214844, 'Talking': 113.84684753417969}, 'UpperBody': {'All': 131.18951416015625, 'UpperStretching': 143.58775329589844, 'Walking': 116.83456420898438, 'Greeting': 112.51206970214844, 'LowerStretching': 107.99905395507812, 'Gaming': 116.38529968261719, 'Gesticuling': 115.6531753540039, 'Patting': 119.72531127929688, 'Reacting': 125.02679443359375, 'Talking': 109.1324691772461}, 'LowerBody': {'All': 166.34317016601562, 'UpperStretching': 163.62806701660156, 'Walking': 175.7954559326172, 'Greeting': 124.11259460449219, 'LowerStretching': 185.14256286621094, 'Gaming': 161.71693420410156, 'Gesticuling': 101.51041412353516, 'Patting': 179.34170532226562, 'Reacting': 155.62234497070312, 'Talking': 118.56122589111328}}\n"
     ]
    },
    {
     "name": "stderr",
     "output_type": "stream",
     "text": [
      " 97%|█████████▋| 5200/5352 [30:00<00:53,  2.83it/s]"
     ]
    },
    {
     "name": "stdout",
     "output_type": "stream",
     "text": [
      "{'FullBody': {'All': 148.79638671875, 'UpperStretching': 153.59950256347656, 'Walking': 146.413818359375, 'Greeting': 118.52796936035156, 'LowerStretching': 146.60765075683594, 'Gaming': 139.24534606933594, 'Gesticuling': 108.60297393798828, 'Patting': 149.6574249267578, 'Reacting': 140.4440460205078, 'Talking': 113.8088607788086}, 'UpperBody': {'All': 131.1685028076172, 'UpperStretching': 143.53590393066406, 'Walking': 116.919677734375, 'Greeting': 112.66644287109375, 'LowerStretching': 108.0138931274414, 'Gaming': 116.34774780273438, 'Gesticuling': 115.69612121582031, 'Patting': 119.92383575439453, 'Reacting': 124.99971771240234, 'Talking': 109.1661148071289}, 'LowerBody': {'All': 166.42420959472656, 'UpperStretching': 163.6630859375, 'Walking': 175.907958984375, 'Greeting': 124.3895034790039, 'LowerStretching': 185.20140075683594, 'Gaming': 162.1429443359375, 'Gesticuling': 101.50982666015625, 'Patting': 179.39102172851562, 'Reacting': 155.88836669921875, 'Talking': 118.45161437988281}}\n"
     ]
    },
    {
     "name": "stderr",
     "output_type": "stream",
     "text": [
      "100%|██████████| 5352/5352 [30:52<00:00,  2.89it/s]\n",
      "\u001b[94m08:07:34 \u001b[92m[INFO]\u001b[94m Main\u001b[0m: Saving evaluation results...\n",
      "\u001b[94m08:07:34 \u001b[92m[INFO]\u001b[94m Main\u001b[0m: Done.\n",
      "\u001b[94m08:07:34 \u001b[92m[INFO]\u001b[94m Main\u001b[0m: Starting demo...\n",
      "  0%|          | 0/5352 [00:00<?, ?it/s]/opt/conda/lib/python3.10/site-packages/torchvision/transforms/transforms.py:329: UserWarning: Argument 'interpolation' of type int is deprecated since 0.13 and will be removed in 0.15. Please use InterpolationMode enum.\n",
      "  warnings.warn(\n",
      "/opt/conda/lib/python3.10/site-packages/torchvision/transforms/transforms.py:329: UserWarning: Argument 'interpolation' of type int is deprecated since 0.13 and will be removed in 0.15. Please use InterpolationMode enum.\n",
      "  warnings.warn(\n",
      "/opt/conda/lib/python3.10/site-packages/torchvision/transforms/transforms.py:329: UserWarning: Argument 'interpolation' of type int is deprecated since 0.13 and will be removed in 0.15. Please use InterpolationMode enum.\n",
      "  warnings.warn(\n",
      "/opt/conda/lib/python3.10/site-packages/torchvision/transforms/transforms.py:329: UserWarning: Argument 'interpolation' of type int is deprecated since 0.13 and will be removed in 0.15. Please use InterpolationMode enum.\n",
      "  warnings.warn(\n",
      "/opt/conda/lib/python3.10/site-packages/torchvision/transforms/transforms.py:329: UserWarning: Argument 'interpolation' of type int is deprecated since 0.13 and will be removed in 0.15. Please use InterpolationMode enum.\n",
      "  warnings.warn(\n",
      "/opt/conda/lib/python3.10/site-packages/torchvision/transforms/transforms.py:329: UserWarning: Argument 'interpolation' of type int is deprecated since 0.13 and will be removed in 0.15. Please use InterpolationMode enum.\n",
      "  warnings.warn(\n",
      "/opt/conda/lib/python3.10/site-packages/torchvision/transforms/transforms.py:329: UserWarning: Argument 'interpolation' of type int is deprecated since 0.13 and will be removed in 0.15. Please use InterpolationMode enum.\n",
      "  warnings.warn(\n",
      "/opt/conda/lib/python3.10/site-packages/torchvision/transforms/transforms.py:329: UserWarning: Argument 'interpolation' of type int is deprecated since 0.13 and will be removed in 0.15. Please use InterpolationMode enum.\n",
      "  warnings.warn(\n",
      "/opt/conda/lib/python3.10/site-packages/torchvision/transforms/transforms.py:329: UserWarning: Argument 'interpolation' of type int is deprecated since 0.13 and will be removed in 0.15. Please use InterpolationMode enum.\n",
      "  warnings.warn(\n",
      "/opt/conda/lib/python3.10/site-packages/torchvision/transforms/transforms.py:329: UserWarning: Argument 'interpolation' of type int is deprecated since 0.13 and will be removed in 0.15. Please use InterpolationMode enum.\n",
      "  warnings.warn(\n",
      "/opt/conda/lib/python3.10/site-packages/torchvision/transforms/transforms.py:329: UserWarning: Argument 'interpolation' of type int is deprecated since 0.13 and will be removed in 0.15. Please use InterpolationMode enum.\n",
      "  warnings.warn(\n",
      "/opt/conda/lib/python3.10/site-packages/torchvision/transforms/transforms.py:329: UserWarning: Argument 'interpolation' of type int is deprecated since 0.13 and will be removed in 0.15. Please use InterpolationMode enum.\n",
      "  warnings.warn(\n",
      "/opt/conda/lib/python3.10/site-packages/torchvision/transforms/transforms.py:329: UserWarning: Argument 'interpolation' of type int is deprecated since 0.13 and will be removed in 0.15. Please use InterpolationMode enum.\n",
      "  warnings.warn(\n",
      "/opt/conda/lib/python3.10/site-packages/torchvision/transforms/transforms.py:329: UserWarning: Argument 'interpolation' of type int is deprecated since 0.13 and will be removed in 0.15. Please use InterpolationMode enum.\n",
      "  warnings.warn(\n",
      "/opt/conda/lib/python3.10/site-packages/torchvision/transforms/transforms.py:329: UserWarning: Argument 'interpolation' of type int is deprecated since 0.13 and will be removed in 0.15. Please use InterpolationMode enum.\n",
      "  warnings.warn(\n",
      "/opt/conda/lib/python3.10/site-packages/torchvision/transforms/transforms.py:329: UserWarning: Argument 'interpolation' of type int is deprecated since 0.13 and will be removed in 0.15. Please use InterpolationMode enum.\n",
      "  warnings.warn(\n",
      "/opt/conda/lib/python3.10/site-packages/torchvision/transforms/transforms.py:329: UserWarning: Argument 'interpolation' of type int is deprecated since 0.13 and will be removed in 0.15. Please use InterpolationMode enum.\n",
      "  warnings.warn(\n",
      "/opt/conda/lib/python3.10/site-packages/torchvision/transforms/transforms.py:329: UserWarning: Argument 'interpolation' of type int is deprecated since 0.13 and will be removed in 0.15. Please use InterpolationMode enum.\n",
      "  warnings.warn(\n",
      "/opt/conda/lib/python3.10/site-packages/torchvision/transforms/transforms.py:329: UserWarning: Argument 'interpolation' of type int is deprecated since 0.13 and will be removed in 0.15. Please use InterpolationMode enum.\n",
      "  warnings.warn(\n",
      "/opt/conda/lib/python3.10/site-packages/torchvision/transforms/transforms.py:329: UserWarning: Argument 'interpolation' of type int is deprecated since 0.13 and will be removed in 0.15. Please use InterpolationMode enum.\n",
      "  warnings.warn(\n",
      "/opt/conda/lib/python3.10/site-packages/torchvision/transforms/transforms.py:329: UserWarning: Argument 'interpolation' of type int is deprecated since 0.13 and will be removed in 0.15. Please use InterpolationMode enum.\n",
      "  warnings.warn(\n",
      "/opt/conda/lib/python3.10/site-packages/torchvision/transforms/transforms.py:329: UserWarning: Argument 'interpolation' of type int is deprecated since 0.13 and will be removed in 0.15. Please use InterpolationMode enum.\n",
      "  warnings.warn(\n",
      "/opt/conda/lib/python3.10/site-packages/torchvision/transforms/transforms.py:329: UserWarning: Argument 'interpolation' of type int is deprecated since 0.13 and will be removed in 0.15. Please use InterpolationMode enum.\n",
      "  warnings.warn(\n",
      "/opt/conda/lib/python3.10/site-packages/torchvision/transforms/transforms.py:329: UserWarning: Argument 'interpolation' of type int is deprecated since 0.13 and will be removed in 0.15. Please use InterpolationMode enum.\n",
      "  warnings.warn(\n",
      "  4%|▎         | 200/5352 [01:13<29:34,  2.90it/s]"
     ]
    },
    {
     "name": "stdout",
     "output_type": "stream",
     "text": [
      "{'FullBody': {'All': 243.2697296142578, 'Greeting': 264.58465576171875, 'UpperStretching': 249.1103973388672, 'LowerStretching': 232.15118408203125, 'Walking': 230.0559844970703, 'Gaming': 224.6394500732422, 'Gesticuling': 200.9089813232422, 'Reacting': 265.7025451660156, 'Patting': 268.3140869140625, 'Talking': 237.72113037109375}, 'UpperBody': {'All': 186.7738494873047, 'Greeting': 180.85484313964844, 'UpperStretching': 201.1716766357422, 'LowerStretching': 154.58062744140625, 'Walking': 162.94789123535156, 'Gaming': 191.81930541992188, 'Gesticuling': 180.0664825439453, 'Reacting': 198.92935180664062, 'Patting': 168.4807891845703, 'Talking': 181.62315368652344}, 'LowerBody': {'All': 299.7655944824219, 'Greeting': 348.3143615722656, 'UpperStretching': 297.049072265625, 'LowerStretching': 309.7216796875, 'Walking': 297.1640625, 'Gaming': 257.4596252441406, 'Gesticuling': 221.75143432617188, 'Reacting': 332.4757385253906, 'Patting': 368.14739990234375, 'Talking': 293.8191223144531}}\n"
     ]
    },
    {
     "name": "stderr",
     "output_type": "stream",
     "text": [
      "  7%|▋         | 400/5352 [02:22<28:25,  2.90it/s]"
     ]
    },
    {
     "name": "stdout",
     "output_type": "stream",
     "text": [
      "{'FullBody': {'All': 241.99609375, 'Greeting': 244.4717254638672, 'UpperStretching': 248.04966735839844, 'LowerStretching': 230.44334411621094, 'Walking': 229.10818481445312, 'Gaming': 242.08737182617188, 'Gesticuling': 200.91261291503906, 'Reacting': 259.3515930175781, 'Patting': 272.0661926269531, 'Talking': 234.00318908691406}, 'UpperBody': {'All': 186.21905517578125, 'Greeting': 179.97434997558594, 'UpperStretching': 200.61700439453125, 'LowerStretching': 154.4054412841797, 'Walking': 162.25230407714844, 'Gaming': 191.2907257080078, 'Gesticuling': 179.7443389892578, 'Reacting': 200.25717163085938, 'Patting': 170.61244201660156, 'Talking': 174.24777221679688}, 'LowerBody': {'All': 297.77313232421875, 'Greeting': 308.9691162109375, 'UpperStretching': 295.4823303222656, 'LowerStretching': 306.48126220703125, 'Walking': 295.96405029296875, 'Gaming': 292.88397216796875, 'Gesticuling': 222.08090209960938, 'Reacting': 318.4460754394531, 'Patting': 373.5199890136719, 'Talking': 293.7586669921875}}\n"
     ]
    },
    {
     "name": "stderr",
     "output_type": "stream",
     "text": [
      " 11%|█         | 600/5352 [03:31<27:28,  2.88it/s]"
     ]
    },
    {
     "name": "stdout",
     "output_type": "stream",
     "text": [
      "{'FullBody': {'All': 242.34068298339844, 'Greeting': 239.7420196533203, 'UpperStretching': 248.96755981445312, 'LowerStretching': 230.7347869873047, 'Walking': 229.31329345703125, 'Gaming': 240.67543029785156, 'Gesticuling': 200.54261779785156, 'Reacting': 252.2069854736328, 'Patting': 263.9261474609375, 'Talking': 238.26258850097656}, 'UpperBody': {'All': 186.7734375, 'Greeting': 182.82582092285156, 'UpperStretching': 201.11265563964844, 'LowerStretching': 155.4829864501953, 'Walking': 162.82577514648438, 'Gaming': 190.55575561523438, 'Gesticuling': 179.78640747070312, 'Reacting': 196.788818359375, 'Patting': 168.9216766357422, 'Talking': 174.95823669433594}, 'LowerBody': {'All': 297.9079284667969, 'Greeting': 296.6582336425781, 'UpperStretching': 296.82244873046875, 'LowerStretching': 305.986572265625, 'Walking': 295.8008117675781, 'Gaming': 290.7951354980469, 'Gesticuling': 221.29884338378906, 'Reacting': 307.6251525878906, 'Patting': 358.9305725097656, 'Talking': 301.5669250488281}}\n"
     ]
    },
    {
     "name": "stderr",
     "output_type": "stream",
     "text": [
      " 15%|█▍        | 800/5352 [04:40<26:22,  2.88it/s]"
     ]
    },
    {
     "name": "stdout",
     "output_type": "stream",
     "text": [
      "{'FullBody': {'All': 242.05101013183594, 'Greeting': 235.840087890625, 'UpperStretching': 248.239501953125, 'LowerStretching': 232.98817443847656, 'Walking': 228.9754638671875, 'Gaming': 236.3357391357422, 'Gesticuling': 200.09800720214844, 'Reacting': 253.6779327392578, 'Patting': 265.9876708984375, 'Talking': 233.74545288085938}, 'UpperBody': {'All': 186.4844970703125, 'Greeting': 184.21449279785156, 'UpperStretching': 200.74713134765625, 'LowerStretching': 156.1872100830078, 'Walking': 162.61843872070312, 'Gaming': 188.4687042236328, 'Gesticuling': 180.7222900390625, 'Reacting': 195.91908264160156, 'Patting': 167.57693481445312, 'Talking': 175.01930236816406}, 'LowerBody': {'All': 297.6175537109375, 'Greeting': 287.4656677246094, 'UpperStretching': 295.73187255859375, 'LowerStretching': 309.7891540527344, 'Walking': 295.3324890136719, 'Gaming': 284.2027893066406, 'Gesticuling': 219.47372436523438, 'Reacting': 311.43682861328125, 'Patting': 364.3984069824219, 'Talking': 292.4715881347656}}\n"
     ]
    },
    {
     "name": "stderr",
     "output_type": "stream",
     "text": [
      " 19%|█▊        | 1000/5352 [05:49<25:12,  2.88it/s]"
     ]
    },
    {
     "name": "stdout",
     "output_type": "stream",
     "text": [
      "{'FullBody': {'All': 241.5331573486328, 'Greeting': 233.36956787109375, 'UpperStretching': 247.51861572265625, 'LowerStretching': 233.0733184814453, 'Walking': 229.80577087402344, 'Gaming': 235.70767211914062, 'Gesticuling': 198.7451629638672, 'Reacting': 250.9040069580078, 'Patting': 263.2831115722656, 'Talking': 232.8203125}, 'UpperBody': {'All': 186.48544311523438, 'Greeting': 185.45217895507812, 'UpperStretching': 200.7917022705078, 'LowerStretching': 156.21466064453125, 'Walking': 162.45091247558594, 'Gaming': 189.1031494140625, 'Gesticuling': 179.96685791015625, 'Reacting': 195.48175048828125, 'Patting': 167.22128295898438, 'Talking': 174.88970947265625}, 'LowerBody': {'All': 296.5808410644531, 'Greeting': 281.28692626953125, 'UpperStretching': 294.2455749511719, 'LowerStretching': 309.9319763183594, 'Walking': 297.16058349609375, 'Gaming': 282.3122253417969, 'Gesticuling': 217.52345275878906, 'Reacting': 306.3262634277344, 'Patting': 359.344970703125, 'Talking': 290.7509460449219}}\n"
     ]
    },
    {
     "name": "stderr",
     "output_type": "stream",
     "text": [
      " 22%|██▏       | 1200/5352 [06:58<24:04,  2.88it/s]"
     ]
    },
    {
     "name": "stdout",
     "output_type": "stream",
     "text": [
      "{'FullBody': {'All': 241.7646942138672, 'Greeting': 228.10220336914062, 'UpperStretching': 247.98336791992188, 'LowerStretching': 233.4948272705078, 'Walking': 230.1163330078125, 'Gaming': 236.32244873046875, 'Gesticuling': 198.7486114501953, 'Reacting': 249.3556671142578, 'Patting': 262.5968933105469, 'Talking': 231.86476135253906}, 'UpperBody': {'All': 186.8281707763672, 'Greeting': 185.84092712402344, 'UpperStretching': 201.27064514160156, 'LowerStretching': 156.450439453125, 'Walking': 163.0959014892578, 'Gaming': 189.60043334960938, 'Gesticuling': 180.86090087890625, 'Reacting': 196.2020263671875, 'Patting': 167.35169982910156, 'Talking': 175.91818237304688}, 'LowerBody': {'All': 296.701171875, 'Greeting': 270.3634338378906, 'UpperStretching': 294.69610595703125, 'LowerStretching': 310.5392150878906, 'Walking': 297.13677978515625, 'Gaming': 283.04443359375, 'Gesticuling': 216.6363067626953, 'Reacting': 302.5093078613281, 'Patting': 357.84210205078125, 'Talking': 287.81134033203125}}\n"
     ]
    },
    {
     "name": "stderr",
     "output_type": "stream",
     "text": [
      " 26%|██▌       | 1400/5352 [08:07<22:52,  2.88it/s]"
     ]
    },
    {
     "name": "stdout",
     "output_type": "stream",
     "text": [
      "{'FullBody': {'All': 242.05491638183594, 'Greeting': 229.38230895996094, 'UpperStretching': 248.26451110839844, 'LowerStretching': 233.87811279296875, 'Walking': 229.63232421875, 'Gaming': 236.1481170654297, 'Gesticuling': 199.31700134277344, 'Reacting': 250.75762939453125, 'Patting': 264.087158203125, 'Talking': 231.4024658203125}, 'UpperBody': {'All': 186.80519104003906, 'Greeting': 186.02880859375, 'UpperStretching': 201.18785095214844, 'LowerStretching': 156.51202392578125, 'Walking': 162.76055908203125, 'Gaming': 189.4039764404297, 'Gesticuling': 181.29368591308594, 'Reacting': 196.48304748535156, 'Patting': 167.680419921875, 'Talking': 175.1253662109375}, 'LowerBody': {'All': 297.30462646484375, 'Greeting': 272.7358093261719, 'UpperStretching': 295.3412170410156, 'LowerStretching': 311.2442626953125, 'Walking': 296.50408935546875, 'Gaming': 282.8922424316406, 'Gesticuling': 217.34031677246094, 'Reacting': 305.0322570800781, 'Patting': 360.493896484375, 'Talking': 287.6795959472656}}\n"
     ]
    },
    {
     "name": "stderr",
     "output_type": "stream",
     "text": [
      " 30%|██▉       | 1600/5352 [09:16<21:45,  2.87it/s]"
     ]
    },
    {
     "name": "stdout",
     "output_type": "stream",
     "text": [
      "{'FullBody': {'All': 242.4121551513672, 'Greeting': 228.4832763671875, 'UpperStretching': 248.68649291992188, 'LowerStretching': 234.430908203125, 'Walking': 229.64657592773438, 'Gaming': 241.3366241455078, 'Gesticuling': 197.87005615234375, 'Reacting': 250.30706787109375, 'Patting': 264.0880126953125, 'Talking': 229.4540557861328}, 'UpperBody': {'All': 186.9032745361328, 'Greeting': 185.2630157470703, 'UpperStretching': 201.31785583496094, 'LowerStretching': 156.6994171142578, 'Walking': 162.60377502441406, 'Gaming': 191.41090393066406, 'Gesticuling': 180.86767578125, 'Reacting': 195.2941436767578, 'Patting': 168.1721649169922, 'Talking': 175.0924072265625}, 'LowerBody': {'All': 297.9209899902344, 'Greeting': 271.70355224609375, 'UpperStretching': 296.0551452636719, 'LowerStretching': 312.16241455078125, 'Walking': 296.6893615722656, 'Gaming': 291.2622985839844, 'Gesticuling': 214.87242126464844, 'Reacting': 305.32000732421875, 'Patting': 360.00390625, 'Talking': 283.81573486328125}}\n"
     ]
    },
    {
     "name": "stderr",
     "output_type": "stream",
     "text": [
      " 34%|███▎      | 1800/5352 [10:26<20:39,  2.87it/s]"
     ]
    },
    {
     "name": "stdout",
     "output_type": "stream",
     "text": [
      "{'FullBody': {'All': 242.73825073242188, 'Greeting': 227.74075317382812, 'UpperStretching': 249.219482421875, 'LowerStretching': 233.6121063232422, 'Walking': 229.99766540527344, 'Gaming': 242.43699645996094, 'Gesticuling': 197.81930541992188, 'Reacting': 252.71856689453125, 'Patting': 264.1733703613281, 'Talking': 229.4096221923828}, 'UpperBody': {'All': 187.07257080078125, 'Greeting': 185.47799682617188, 'UpperStretching': 201.5245819091797, 'LowerStretching': 156.38836669921875, 'Walking': 162.8401641845703, 'Gaming': 191.8561553955078, 'Gesticuling': 181.49237060546875, 'Reacting': 195.82553100585938, 'Patting': 168.14962768554688, 'Talking': 175.49179077148438}, 'LowerBody': {'All': 298.4039306640625, 'Greeting': 270.0035095214844, 'UpperStretching': 296.91436767578125, 'LowerStretching': 310.8358154296875, 'Walking': 297.1551818847656, 'Gaming': 293.01788330078125, 'Gesticuling': 214.14622497558594, 'Reacting': 309.6116638183594, 'Patting': 360.1971435546875, 'Talking': 283.3274841308594}}\n"
     ]
    },
    {
     "name": "stderr",
     "output_type": "stream",
     "text": [
      " 37%|███▋      | 2000/5352 [11:35<19:27,  2.87it/s]"
     ]
    },
    {
     "name": "stdout",
     "output_type": "stream",
     "text": [
      "{'FullBody': {'All': 243.0334930419922, 'Greeting': 227.85995483398438, 'UpperStretching': 249.68081665039062, 'LowerStretching': 234.01351928710938, 'Walking': 229.8709259033203, 'Gaming': 242.11273193359375, 'Gesticuling': 198.13131713867188, 'Reacting': 252.3429718017578, 'Patting': 262.7904357910156, 'Talking': 229.22848510742188}, 'UpperBody': {'All': 187.1532745361328, 'Greeting': 185.79531860351562, 'UpperStretching': 201.74093627929688, 'LowerStretching': 156.3874969482422, 'Walking': 162.864013671875, 'Gaming': 191.8792724609375, 'Gesticuling': 181.7248077392578, 'Reacting': 195.1736297607422, 'Patting': 167.0780487060547, 'Talking': 175.6042938232422}, 'LowerBody': {'All': 298.91375732421875, 'Greeting': 269.92462158203125, 'UpperStretching': 297.62066650390625, 'LowerStretching': 311.6395263671875, 'Walking': 296.8778076171875, 'Gaming': 292.34619140625, 'Gesticuling': 214.53785705566406, 'Reacting': 309.5123291015625, 'Patting': 358.5028076171875, 'Talking': 282.8526611328125}}\n"
     ]
    },
    {
     "name": "stderr",
     "output_type": "stream",
     "text": [
      " 41%|████      | 2200/5352 [12:44<18:18,  2.87it/s]"
     ]
    },
    {
     "name": "stdout",
     "output_type": "stream",
     "text": [
      "{'FullBody': {'All': 242.96670532226562, 'Greeting': 228.040283203125, 'UpperStretching': 249.61727905273438, 'LowerStretching': 234.38790893554688, 'Walking': 230.2366180419922, 'Gaming': 241.71875, 'Gesticuling': 198.0775604248047, 'Reacting': 250.48715209960938, 'Patting': 261.2516784667969, 'Talking': 227.44419860839844}, 'UpperBody': {'All': 187.06858825683594, 'Greeting': 185.56109619140625, 'UpperStretching': 201.74652099609375, 'LowerStretching': 156.20973205566406, 'Walking': 163.0198974609375, 'Gaming': 191.80625915527344, 'Gesticuling': 181.438232421875, 'Reacting': 195.0606689453125, 'Patting': 166.37368774414062, 'Talking': 175.39474487304688}, 'LowerBody': {'All': 298.86480712890625, 'Greeting': 270.51947021484375, 'UpperStretching': 297.4880676269531, 'LowerStretching': 312.5660705566406, 'Walking': 297.4533386230469, 'Gaming': 291.6312255859375, 'Gesticuling': 214.71690368652344, 'Reacting': 305.91363525390625, 'Patting': 356.129638671875, 'Talking': 279.4936218261719}}\n"
     ]
    },
    {
     "name": "stderr",
     "output_type": "stream",
     "text": [
      " 45%|████▍     | 2400/5352 [13:53<17:08,  2.87it/s]"
     ]
    },
    {
     "name": "stdout",
     "output_type": "stream",
     "text": [
      "{'FullBody': {'All': 243.1195068359375, 'Greeting': 228.25442504882812, 'UpperStretching': 249.7737579345703, 'LowerStretching': 234.09078979492188, 'Walking': 230.91102600097656, 'Gaming': 243.92184448242188, 'Gesticuling': 197.89639282226562, 'Reacting': 250.3740234375, 'Patting': 262.3482666015625, 'Talking': 227.02159118652344}, 'UpperBody': {'All': 187.08494567871094, 'Greeting': 185.16043090820312, 'UpperStretching': 201.8179931640625, 'LowerStretching': 156.1830596923828, 'Walking': 163.14407348632812, 'Gaming': 192.40757751464844, 'Gesticuling': 181.1049346923828, 'Reacting': 194.85313415527344, 'Patting': 166.64955139160156, 'Talking': 174.60772705078125}, 'LowerBody': {'All': 299.154052734375, 'Greeting': 271.348388671875, 'UpperStretching': 297.7295227050781, 'LowerStretching': 311.99853515625, 'Walking': 298.677978515625, 'Gaming': 295.4361267089844, 'Gesticuling': 214.6878662109375, 'Reacting': 305.8949279785156, 'Patting': 358.0469970703125, 'Talking': 279.43548583984375}}\n"
     ]
    },
    {
     "name": "stderr",
     "output_type": "stream",
     "text": [
      " 49%|████▊     | 2600/5352 [15:02<16:02,  2.86it/s]"
     ]
    },
    {
     "name": "stdout",
     "output_type": "stream",
     "text": [
      "{'FullBody': {'All': 243.0373077392578, 'Greeting': 227.72279357910156, 'UpperStretching': 249.65415954589844, 'LowerStretching': 233.93392944335938, 'Walking': 230.7627410888672, 'Gaming': 244.37635803222656, 'Gesticuling': 197.68173217773438, 'Reacting': 251.0200958251953, 'Patting': 261.9493103027344, 'Talking': 227.02471923828125}, 'UpperBody': {'All': 187.04762268066406, 'Greeting': 185.45220947265625, 'UpperStretching': 201.7502899169922, 'LowerStretching': 156.1141815185547, 'Walking': 163.08961486816406, 'Gaming': 192.04273986816406, 'Gesticuling': 180.61929321289062, 'Reacting': 195.6761474609375, 'Patting': 165.92994689941406, 'Talking': 175.28558349609375}, 'LowerBody': {'All': 299.0270080566406, 'Greeting': 269.99334716796875, 'UpperStretching': 297.55804443359375, 'LowerStretching': 311.7536926269531, 'Walking': 298.43585205078125, 'Gaming': 296.7099609375, 'Gesticuling': 214.7441864013672, 'Reacting': 306.36407470703125, 'Patting': 357.9686584472656, 'Talking': 278.7638854980469}}\n"
     ]
    },
    {
     "name": "stderr",
     "output_type": "stream",
     "text": [
      " 52%|█████▏    | 2800/5352 [16:11<14:53,  2.86it/s]"
     ]
    },
    {
     "name": "stdout",
     "output_type": "stream",
     "text": [
      "{'FullBody': {'All': 243.07986450195312, 'Greeting': 228.11212158203125, 'UpperStretching': 249.73406982421875, 'LowerStretching': 233.77749633789062, 'Walking': 230.8262176513672, 'Gaming': 243.7928924560547, 'Gesticuling': 197.5539093017578, 'Reacting': 250.4505157470703, 'Patting': 262.89288330078125, 'Talking': 228.26220703125}, 'UpperBody': {'All': 187.06651306152344, 'Greeting': 185.4342803955078, 'UpperStretching': 201.81605529785156, 'LowerStretching': 155.98670959472656, 'Walking': 163.05856323242188, 'Gaming': 192.056640625, 'Gesticuling': 180.48715209960938, 'Reacting': 194.98599243164062, 'Patting': 166.71998596191406, 'Talking': 175.63461303710938}, 'LowerBody': {'All': 299.09320068359375, 'Greeting': 270.7900085449219, 'UpperStretching': 297.6520690917969, 'LowerStretching': 311.5682678222656, 'Walking': 298.5938415527344, 'Gaming': 295.5291442871094, 'Gesticuling': 214.6206512451172, 'Reacting': 305.9150085449219, 'Patting': 359.0658264160156, 'Talking': 280.88983154296875}}\n"
     ]
    },
    {
     "name": "stderr",
     "output_type": "stream",
     "text": [
      " 56%|█████▌    | 3000/5352 [17:20<13:45,  2.85it/s]"
     ]
    },
    {
     "name": "stdout",
     "output_type": "stream",
     "text": [
      "{'FullBody': {'All': 243.06057739257812, 'Greeting': 227.7481689453125, 'UpperStretching': 249.67483520507812, 'LowerStretching': 233.67190551757812, 'Walking': 230.91720581054688, 'Gaming': 244.99244689941406, 'Gesticuling': 197.5936737060547, 'Reacting': 249.7350616455078, 'Patting': 264.7019958496094, 'Talking': 227.57716369628906}, 'UpperBody': {'All': 187.0174102783203, 'Greeting': 185.4574432373047, 'UpperStretching': 201.70477294921875, 'LowerStretching': 156.0261993408203, 'Walking': 163.0080108642578, 'Gaming': 191.9116973876953, 'Gesticuling': 180.5938262939453, 'Reacting': 195.47348022460938, 'Patting': 167.2174072265625, 'Talking': 176.21620178222656}, 'LowerBody': {'All': 299.10369873046875, 'Greeting': 270.0388488769531, 'UpperStretching': 297.6448669433594, 'LowerStretching': 311.31756591796875, 'Walking': 298.826416015625, 'Gaming': 298.0732116699219, 'Gesticuling': 214.593505859375, 'Reacting': 303.99664306640625, 'Patting': 362.1866149902344, 'Talking': 278.9381103515625}}\n"
     ]
    },
    {
     "name": "stderr",
     "output_type": "stream",
     "text": [
      " 60%|█████▉    | 3200/5352 [18:29<12:33,  2.86it/s]"
     ]
    },
    {
     "name": "stdout",
     "output_type": "stream",
     "text": [
      "{'FullBody': {'All': 243.03091430664062, 'Greeting': 227.854736328125, 'UpperStretching': 249.63803100585938, 'LowerStretching': 233.63430786132812, 'Walking': 230.7459259033203, 'Gaming': 246.01712036132812, 'Gesticuling': 197.83779907226562, 'Reacting': 249.26882934570312, 'Patting': 264.5037841796875, 'Talking': 228.15484619140625}, 'UpperBody': {'All': 186.9867706298828, 'Greeting': 185.457275390625, 'UpperStretching': 201.6508331298828, 'LowerStretching': 155.87155151367188, 'Walking': 163.05552673339844, 'Gaming': 191.8441619873047, 'Gesticuling': 180.15042114257812, 'Reacting': 195.646484375, 'Patting': 167.04873657226562, 'Talking': 176.19004821777344}, 'LowerBody': {'All': 299.0750427246094, 'Greeting': 270.252197265625, 'UpperStretching': 297.6252136230469, 'LowerStretching': 311.3970642089844, 'Walking': 298.4363098144531, 'Gaming': 300.1900939941406, 'Gesticuling': 215.525146484375, 'Reacting': 302.8911437988281, 'Patting': 361.95880126953125, 'Talking': 280.11962890625}}\n"
     ]
    },
    {
     "name": "stderr",
     "output_type": "stream",
     "text": [
      " 64%|██████▎   | 3400/5352 [19:38<11:24,  2.85it/s]"
     ]
    },
    {
     "name": "stdout",
     "output_type": "stream",
     "text": [
      "{'FullBody': {'All': 242.93222045898438, 'Greeting': 226.9738311767578, 'UpperStretching': 249.56427001953125, 'LowerStretching': 233.73770141601562, 'Walking': 230.47793579101562, 'Gaming': 245.37120056152344, 'Gesticuling': 198.34214782714844, 'Reacting': 248.96636962890625, 'Patting': 264.39581298828125, 'Talking': 226.86378479003906}, 'UpperBody': {'All': 187.0080108642578, 'Greeting': 185.0855255126953, 'UpperStretching': 201.71136474609375, 'LowerStretching': 155.88990783691406, 'Walking': 162.94683837890625, 'Gaming': 191.7474822998047, 'Gesticuling': 180.47836303710938, 'Reacting': 195.27615356445312, 'Patting': 167.12452697753906, 'Talking': 175.94656372070312}, 'LowerBody': {'All': 298.85638427734375, 'Greeting': 268.86212158203125, 'UpperStretching': 297.4172058105469, 'LowerStretching': 311.5854187011719, 'Walking': 298.00897216796875, 'Gaming': 298.9949645996094, 'Gesticuling': 216.20591735839844, 'Reacting': 302.6565856933594, 'Patting': 361.6670837402344, 'Talking': 277.78106689453125}}\n"
     ]
    },
    {
     "name": "stderr",
     "output_type": "stream",
     "text": [
      " 67%|██████▋   | 3600/5352 [20:47<10:14,  2.85it/s]"
     ]
    },
    {
     "name": "stdout",
     "output_type": "stream",
     "text": [
      "{'FullBody': {'All': 242.93191528320312, 'Greeting': 227.83790588378906, 'UpperStretching': 249.54058837890625, 'LowerStretching': 233.75196838378906, 'Walking': 230.25079345703125, 'Gaming': 246.0453338623047, 'Gesticuling': 198.31942749023438, 'Reacting': 248.3072052001953, 'Patting': 265.6410827636719, 'Talking': 227.0849609375}, 'UpperBody': {'All': 186.99261474609375, 'Greeting': 185.15496826171875, 'UpperStretching': 201.68833923339844, 'LowerStretching': 155.82980346679688, 'Walking': 162.8075408935547, 'Gaming': 191.65716552734375, 'Gesticuling': 180.4849853515625, 'Reacting': 195.3758087158203, 'Patting': 167.49493408203125, 'Talking': 175.86212158203125}, 'LowerBody': {'All': 298.8712158203125, 'Greeting': 270.5208435058594, 'UpperStretching': 297.3928527832031, 'LowerStretching': 311.67413330078125, 'Walking': 297.69403076171875, 'Gaming': 300.4335021972656, 'Gesticuling': 216.1538848876953, 'Reacting': 301.2386169433594, 'Patting': 363.7872009277344, 'Talking': 278.3077697753906}}\n"
     ]
    },
    {
     "name": "stderr",
     "output_type": "stream",
     "text": [
      " 71%|███████   | 3800/5352 [21:57<09:05,  2.84it/s]"
     ]
    },
    {
     "name": "stdout",
     "output_type": "stream",
     "text": [
      "{'FullBody': {'All': 242.97695922851562, 'Greeting': 227.4482421875, 'UpperStretching': 249.70553588867188, 'LowerStretching': 233.55409240722656, 'Walking': 229.98370361328125, 'Gaming': 244.4441680908203, 'Gesticuling': 198.28317260742188, 'Reacting': 249.15805053710938, 'Patting': 266.634033203125, 'Talking': 226.7417449951172}, 'UpperBody': {'All': 186.95062255859375, 'Greeting': 185.0880584716797, 'UpperStretching': 201.59664916992188, 'LowerStretching': 155.8760986328125, 'Walking': 162.67916870117188, 'Gaming': 191.4791259765625, 'Gesticuling': 180.5108642578125, 'Reacting': 195.435302734375, 'Patting': 167.67713928222656, 'Talking': 175.67178344726562}, 'LowerBody': {'All': 299.0032653808594, 'Greeting': 269.8084716796875, 'UpperStretching': 297.81439208984375, 'LowerStretching': 311.2320556640625, 'Walking': 297.2882385253906, 'Gaming': 297.4091796875, 'Gesticuling': 216.05543518066406, 'Reacting': 302.88079833984375, 'Patting': 365.59088134765625, 'Talking': 277.8117370605469}}\n"
     ]
    },
    {
     "name": "stderr",
     "output_type": "stream",
     "text": [
      " 75%|███████▍  | 4000/5352 [23:06<07:55,  2.84it/s]"
     ]
    },
    {
     "name": "stdout",
     "output_type": "stream",
     "text": [
      "{'FullBody': {'All': 243.15194702148438, 'Greeting': 229.1808319091797, 'UpperStretching': 249.90150451660156, 'LowerStretching': 233.4451446533203, 'Walking': 230.00643920898438, 'Gaming': 243.71536254882812, 'Gesticuling': 198.7086944580078, 'Reacting': 249.6148223876953, 'Patting': 268.0572204589844, 'Talking': 228.4806365966797}, 'UpperBody': {'All': 186.92349243164062, 'Greeting': 184.92327880859375, 'UpperStretching': 201.6177215576172, 'LowerStretching': 155.70944213867188, 'Walking': 162.5510711669922, 'Gaming': 191.39114379882812, 'Gesticuling': 180.81773376464844, 'Reacting': 195.70382690429688, 'Patting': 167.71234130859375, 'Talking': 175.92601013183594}, 'LowerBody': {'All': 299.3804016113281, 'Greeting': 273.4383544921875, 'UpperStretching': 298.185302734375, 'LowerStretching': 311.18084716796875, 'Walking': 297.46185302734375, 'Gaming': 296.03955078125, 'Gesticuling': 216.5996856689453, 'Reacting': 303.52581787109375, 'Patting': 368.4021301269531, 'Talking': 281.0353088378906}}\n"
     ]
    },
    {
     "name": "stderr",
     "output_type": "stream",
     "text": [
      " 78%|███████▊  | 4200/5352 [24:15<06:44,  2.85it/s]"
     ]
    },
    {
     "name": "stdout",
     "output_type": "stream",
     "text": [
      "{'FullBody': {'All': 243.20260620117188, 'Greeting': 229.40646362304688, 'UpperStretching': 249.91510009765625, 'LowerStretching': 233.42617797851562, 'Walking': 230.26881408691406, 'Gaming': 243.05616760253906, 'Gesticuling': 198.80148315429688, 'Reacting': 250.126220703125, 'Patting': 268.9315185546875, 'Talking': 227.74400329589844}, 'UpperBody': {'All': 186.95960998535156, 'Greeting': 184.79981994628906, 'UpperStretching': 201.6585235595703, 'LowerStretching': 155.66943359375, 'Walking': 162.64952087402344, 'Gaming': 191.1617431640625, 'Gesticuling': 180.67822265625, 'Reacting': 195.90939331054688, 'Patting': 167.56756591796875, 'Talking': 176.0261993408203}, 'LowerBody': {'All': 299.4455871582031, 'Greeting': 274.0130920410156, 'UpperStretching': 298.1716613769531, 'LowerStretching': 311.1828918457031, 'Walking': 297.8880920410156, 'Gaming': 294.95062255859375, 'Gesticuling': 216.92477416992188, 'Reacting': 304.3431091308594, 'Patting': 370.2955017089844, 'Talking': 279.4617919921875}}\n"
     ]
    },
    {
     "name": "stderr",
     "output_type": "stream",
     "text": [
      " 82%|████████▏ | 4400/5352 [25:24<05:35,  2.84it/s]"
     ]
    },
    {
     "name": "stdout",
     "output_type": "stream",
     "text": [
      "{'FullBody': {'All': 243.24786376953125, 'Greeting': 229.7723846435547, 'UpperStretching': 249.91879272460938, 'LowerStretching': 233.30560302734375, 'Walking': 230.32325744628906, 'Gaming': 243.08961486816406, 'Gesticuling': 199.179443359375, 'Reacting': 250.95974731445312, 'Patting': 269.6016540527344, 'Talking': 227.20327758789062}, 'UpperBody': {'All': 186.97024536132812, 'Greeting': 184.93887329101562, 'UpperStretching': 201.63800048828125, 'LowerStretching': 155.64907836914062, 'Walking': 162.6779022216797, 'Gaming': 191.11439514160156, 'Gesticuling': 180.69801330566406, 'Reacting': 196.20358276367188, 'Patting': 167.9875030517578, 'Talking': 175.86314392089844}, 'LowerBody': {'All': 299.5255126953125, 'Greeting': 274.60589599609375, 'UpperStretching': 298.1996154785156, 'LowerStretching': 310.96209716796875, 'Walking': 297.9686279296875, 'Gaming': 295.0648193359375, 'Gesticuling': 217.66085815429688, 'Reacting': 305.71588134765625, 'Patting': 371.21575927734375, 'Talking': 278.5434265136719}}\n"
     ]
    },
    {
     "name": "stderr",
     "output_type": "stream",
     "text": [
      " 86%|████████▌ | 4600/5352 [26:33<04:24,  2.84it/s]"
     ]
    },
    {
     "name": "stdout",
     "output_type": "stream",
     "text": [
      "{'FullBody': {'All': 243.1687774658203, 'Greeting': 230.28134155273438, 'UpperStretching': 249.8433837890625, 'LowerStretching': 233.1820831298828, 'Walking': 230.50619506835938, 'Gaming': 242.2232666015625, 'Gesticuling': 199.0825958251953, 'Reacting': 250.6758575439453, 'Patting': 269.2671203613281, 'Talking': 227.33828735351562}, 'UpperBody': {'All': 186.9267120361328, 'Greeting': 184.91751098632812, 'UpperStretching': 201.59873962402344, 'LowerStretching': 155.63568115234375, 'Walking': 162.7239532470703, 'Gaming': 191.0102081298828, 'Gesticuling': 180.67416381835938, 'Reacting': 196.0508270263672, 'Patting': 167.98623657226562, 'Talking': 175.6736297607422}, 'LowerBody': {'All': 299.4108581542969, 'Greeting': 275.6451721191406, 'UpperStretching': 298.0880432128906, 'LowerStretching': 310.7284851074219, 'Walking': 298.2884216308594, 'Gaming': 293.43634033203125, 'Gesticuling': 217.49102783203125, 'Reacting': 305.3008728027344, 'Patting': 370.5480651855469, 'Talking': 279.0029602050781}}\n"
     ]
    },
    {
     "name": "stderr",
     "output_type": "stream",
     "text": [
      " 90%|████████▉ | 4800/5352 [27:42<03:15,  2.83it/s]"
     ]
    },
    {
     "name": "stdout",
     "output_type": "stream",
     "text": [
      "{'FullBody': {'All': 243.20713806152344, 'Greeting': 230.3500213623047, 'UpperStretching': 249.83299255371094, 'LowerStretching': 233.43650817871094, 'Walking': 230.4515838623047, 'Gaming': 241.65916442871094, 'Gesticuling': 198.82522583007812, 'Reacting': 250.786376953125, 'Patting': 269.4323425292969, 'Talking': 227.1102294921875}, 'UpperBody': {'All': 186.92201232910156, 'Greeting': 184.876220703125, 'UpperStretching': 201.5338897705078, 'LowerStretching': 155.68397521972656, 'Walking': 162.76284790039062, 'Gaming': 190.79795837402344, 'Gesticuling': 180.6694793701172, 'Reacting': 196.44091796875, 'Patting': 167.98582458496094, 'Talking': 175.7649688720703}, 'LowerBody': {'All': 299.4922790527344, 'Greeting': 275.82379150390625, 'UpperStretching': 298.132080078125, 'LowerStretching': 311.1889953613281, 'Walking': 298.1402893066406, 'Gaming': 292.5203857421875, 'Gesticuling': 216.98098754882812, 'Reacting': 305.1318359375, 'Patting': 370.8788146972656, 'Talking': 278.4554443359375}}\n"
     ]
    },
    {
     "name": "stderr",
     "output_type": "stream",
     "text": [
      " 93%|█████████▎| 5000/5352 [28:51<02:04,  2.83it/s]"
     ]
    },
    {
     "name": "stdout",
     "output_type": "stream",
     "text": [
      "{'FullBody': {'All': 243.2081298828125, 'Greeting': 230.46165466308594, 'UpperStretching': 249.79640197753906, 'LowerStretching': 233.28684997558594, 'Walking': 230.65933227539062, 'Gaming': 242.42507934570312, 'Gesticuling': 199.07180786132812, 'Reacting': 250.88502502441406, 'Patting': 269.90838623046875, 'Talking': 227.090087890625}, 'UpperBody': {'All': 186.93319702148438, 'Greeting': 184.67845153808594, 'UpperStretching': 201.5833282470703, 'LowerStretching': 155.57872009277344, 'Walking': 162.80282592773438, 'Gaming': 190.8271942138672, 'Gesticuling': 180.89503479003906, 'Reacting': 196.55599975585938, 'Patting': 168.22946166992188, 'Talking': 175.80052185058594}, 'LowerBody': {'All': 299.4830627441406, 'Greeting': 276.2448425292969, 'UpperStretching': 298.00946044921875, 'LowerStretching': 310.9949645996094, 'Walking': 298.51580810546875, 'Gaming': 294.0229187011719, 'Gesticuling': 217.2486114501953, 'Reacting': 305.21405029296875, 'Patting': 371.5873718261719, 'Talking': 278.3796691894531}}\n"
     ]
    },
    {
     "name": "stderr",
     "output_type": "stream",
     "text": [
      " 97%|█████████▋| 5200/5352 [30:01<00:54,  2.81it/s]"
     ]
    },
    {
     "name": "stdout",
     "output_type": "stream",
     "text": [
      "{'FullBody': {'All': 243.2906036376953, 'Greeting': 230.49269104003906, 'UpperStretching': 249.91049194335938, 'LowerStretching': 233.31948852539062, 'Walking': 230.57962036132812, 'Gaming': 242.2895050048828, 'Gesticuling': 199.0541229248047, 'Reacting': 251.24098205566406, 'Patting': 270.4986877441406, 'Talking': 226.89637756347656}, 'UpperBody': {'All': 186.92672729492188, 'Greeting': 184.6051483154297, 'UpperStretching': 201.59442138671875, 'LowerStretching': 155.65382385253906, 'Walking': 162.637451171875, 'Gaming': 190.51080322265625, 'Gesticuling': 180.9652099609375, 'Reacting': 196.49208068847656, 'Patting': 168.1686553955078, 'Talking': 175.8563690185547}, 'LowerBody': {'All': 299.6545104980469, 'Greeting': 276.3802795410156, 'UpperStretching': 298.2265625, 'LowerStretching': 310.985107421875, 'Walking': 298.5217590332031, 'Gaming': 294.0682067871094, 'Gesticuling': 217.14303588867188, 'Reacting': 305.98980712890625, 'Patting': 372.8287353515625, 'Talking': 277.9364013671875}}\n"
     ]
    },
    {
     "name": "stderr",
     "output_type": "stream",
     "text": [
      "100%|██████████| 5352/5352 [30:53<00:00,  2.89it/s]\n",
      "\u001b[94m08:38:32 \u001b[92m[INFO]\u001b[94m Main\u001b[0m: Saving evaluation results...\n",
      "\u001b[94m08:38:32 \u001b[92m[INFO]\u001b[94m Main\u001b[0m: Done.\n",
      "\u001b[94m08:38:32 \u001b[92m[INFO]\u001b[94m Main\u001b[0m: Starting demo...\n",
      "  0%|          | 0/5352 [00:00<?, ?it/s]/opt/conda/lib/python3.10/site-packages/torchvision/transforms/transforms.py:329: UserWarning: Argument 'interpolation' of type int is deprecated since 0.13 and will be removed in 0.15. Please use InterpolationMode enum.\n",
      "  warnings.warn(\n",
      "/opt/conda/lib/python3.10/site-packages/torchvision/transforms/transforms.py:329: UserWarning: Argument 'interpolation' of type int is deprecated since 0.13 and will be removed in 0.15. Please use InterpolationMode enum.\n",
      "  warnings.warn(\n",
      "/opt/conda/lib/python3.10/site-packages/torchvision/transforms/transforms.py:329: UserWarning: Argument 'interpolation' of type int is deprecated since 0.13 and will be removed in 0.15. Please use InterpolationMode enum.\n",
      "  warnings.warn(\n",
      "/opt/conda/lib/python3.10/site-packages/torchvision/transforms/transforms.py:329: UserWarning: Argument 'interpolation' of type int is deprecated since 0.13 and will be removed in 0.15. Please use InterpolationMode enum.\n",
      "  warnings.warn(\n",
      "/opt/conda/lib/python3.10/site-packages/torchvision/transforms/transforms.py:329: UserWarning: Argument 'interpolation' of type int is deprecated since 0.13 and will be removed in 0.15. Please use InterpolationMode enum.\n",
      "  warnings.warn(\n",
      "/opt/conda/lib/python3.10/site-packages/torchvision/transforms/transforms.py:329: UserWarning: Argument 'interpolation' of type int is deprecated since 0.13 and will be removed in 0.15. Please use InterpolationMode enum.\n",
      "  warnings.warn(\n",
      "/opt/conda/lib/python3.10/site-packages/torchvision/transforms/transforms.py:329: UserWarning: Argument 'interpolation' of type int is deprecated since 0.13 and will be removed in 0.15. Please use InterpolationMode enum.\n",
      "  warnings.warn(\n",
      "/opt/conda/lib/python3.10/site-packages/torchvision/transforms/transforms.py:329: UserWarning: Argument 'interpolation' of type int is deprecated since 0.13 and will be removed in 0.15. Please use InterpolationMode enum.\n",
      "  warnings.warn(\n",
      "/opt/conda/lib/python3.10/site-packages/torchvision/transforms/transforms.py:329: UserWarning: Argument 'interpolation' of type int is deprecated since 0.13 and will be removed in 0.15. Please use InterpolationMode enum.\n",
      "  warnings.warn(\n",
      "/opt/conda/lib/python3.10/site-packages/torchvision/transforms/transforms.py:329: UserWarning: Argument 'interpolation' of type int is deprecated since 0.13 and will be removed in 0.15. Please use InterpolationMode enum.\n",
      "  warnings.warn(\n",
      "/opt/conda/lib/python3.10/site-packages/torchvision/transforms/transforms.py:329: UserWarning: Argument 'interpolation' of type int is deprecated since 0.13 and will be removed in 0.15. Please use InterpolationMode enum.\n",
      "  warnings.warn(\n",
      "/opt/conda/lib/python3.10/site-packages/torchvision/transforms/transforms.py:329: UserWarning: Argument 'interpolation' of type int is deprecated since 0.13 and will be removed in 0.15. Please use InterpolationMode enum.\n",
      "  warnings.warn(\n",
      "/opt/conda/lib/python3.10/site-packages/torchvision/transforms/transforms.py:329: UserWarning: Argument 'interpolation' of type int is deprecated since 0.13 and will be removed in 0.15. Please use InterpolationMode enum.\n",
      "  warnings.warn(\n",
      "/opt/conda/lib/python3.10/site-packages/torchvision/transforms/transforms.py:329: UserWarning: Argument 'interpolation' of type int is deprecated since 0.13 and will be removed in 0.15. Please use InterpolationMode enum.\n",
      "  warnings.warn(\n",
      "/opt/conda/lib/python3.10/site-packages/torchvision/transforms/transforms.py:329: UserWarning: Argument 'interpolation' of type int is deprecated since 0.13 and will be removed in 0.15. Please use InterpolationMode enum.\n",
      "  warnings.warn(\n",
      "/opt/conda/lib/python3.10/site-packages/torchvision/transforms/transforms.py:329: UserWarning: Argument 'interpolation' of type int is deprecated since 0.13 and will be removed in 0.15. Please use InterpolationMode enum.\n",
      "  warnings.warn(\n",
      "/opt/conda/lib/python3.10/site-packages/torchvision/transforms/transforms.py:329: UserWarning: Argument 'interpolation' of type int is deprecated since 0.13 and will be removed in 0.15. Please use InterpolationMode enum.\n",
      "  warnings.warn(\n",
      "/opt/conda/lib/python3.10/site-packages/torchvision/transforms/transforms.py:329: UserWarning: Argument 'interpolation' of type int is deprecated since 0.13 and will be removed in 0.15. Please use InterpolationMode enum.\n",
      "  warnings.warn(\n",
      "/opt/conda/lib/python3.10/site-packages/torchvision/transforms/transforms.py:329: UserWarning: Argument 'interpolation' of type int is deprecated since 0.13 and will be removed in 0.15. Please use InterpolationMode enum.\n",
      "  warnings.warn(\n",
      "/opt/conda/lib/python3.10/site-packages/torchvision/transforms/transforms.py:329: UserWarning: Argument 'interpolation' of type int is deprecated since 0.13 and will be removed in 0.15. Please use InterpolationMode enum.\n",
      "  warnings.warn(\n",
      "/opt/conda/lib/python3.10/site-packages/torchvision/transforms/transforms.py:329: UserWarning: Argument 'interpolation' of type int is deprecated since 0.13 and will be removed in 0.15. Please use InterpolationMode enum.\n",
      "  warnings.warn(\n",
      "/opt/conda/lib/python3.10/site-packages/torchvision/transforms/transforms.py:329: UserWarning: Argument 'interpolation' of type int is deprecated since 0.13 and will be removed in 0.15. Please use InterpolationMode enum.\n",
      "  warnings.warn(\n",
      "/opt/conda/lib/python3.10/site-packages/torchvision/transforms/transforms.py:329: UserWarning: Argument 'interpolation' of type int is deprecated since 0.13 and will be removed in 0.15. Please use InterpolationMode enum.\n",
      "  warnings.warn(\n",
      "/opt/conda/lib/python3.10/site-packages/torchvision/transforms/transforms.py:329: UserWarning: Argument 'interpolation' of type int is deprecated since 0.13 and will be removed in 0.15. Please use InterpolationMode enum.\n",
      "  warnings.warn(\n",
      "  4%|▎         | 200/5352 [01:13<29:26,  2.92it/s]"
     ]
    },
    {
     "name": "stdout",
     "output_type": "stream",
     "text": [
      "{'FullBody': {'All': 151.33428955078125, 'Walking': 152.1244354248047, 'UpperStretching': 149.89634704589844, 'Patting': 165.61036682128906, 'Reacting': 137.86880493164062, 'LowerStretching': 164.06201171875, 'Talking': 109.71772003173828, 'Gaming': 148.78163146972656, 'Gesticuling': 126.23799133300781, 'Greeting': 117.86851501464844}, 'UpperBody': {'All': 123.04750061035156, 'Walking': 113.07271575927734, 'UpperStretching': 131.51995849609375, 'Patting': 131.03306579589844, 'Reacting': 121.43580627441406, 'LowerStretching': 107.00872039794922, 'Talking': 109.49604034423828, 'Gaming': 115.58867645263672, 'Gesticuling': 110.67926788330078, 'Greeting': 102.41558074951172}, 'LowerBody': {'All': 179.6210479736328, 'Walking': 191.17616271972656, 'UpperStretching': 168.2727508544922, 'Patting': 200.18768310546875, 'Reacting': 154.30181884765625, 'LowerStretching': 221.11529541015625, 'Talking': 109.93937683105469, 'Gaming': 181.97459411621094, 'Gesticuling': 141.79672241210938, 'Greeting': 133.3214569091797}}\n"
     ]
    },
    {
     "name": "stderr",
     "output_type": "stream",
     "text": [
      "  7%|▋         | 400/5352 [02:21<28:30,  2.89it/s]"
     ]
    },
    {
     "name": "stdout",
     "output_type": "stream",
     "text": [
      "{'FullBody': {'All': 152.1777801513672, 'Walking': 149.30606079101562, 'UpperStretching': 152.47889709472656, 'Patting': 151.32749938964844, 'Reacting': 135.97982788085938, 'LowerStretching': 164.23634338378906, 'Talking': 112.64191436767578, 'Gaming': 148.34799194335938, 'Gesticuling': 126.74243927001953, 'Greeting': 117.52222442626953}, 'UpperBody': {'All': 123.9164047241211, 'Walking': 111.57084655761719, 'UpperStretching': 133.24119567871094, 'Patting': 124.48405456542969, 'Reacting': 122.46726989746094, 'LowerStretching': 107.09423828125, 'Talking': 106.96574401855469, 'Gaming': 116.61248779296875, 'Gesticuling': 111.78117370605469, 'Greeting': 101.04248046875}, 'LowerBody': {'All': 180.43911743164062, 'Walking': 187.04127502441406, 'UpperStretching': 171.71661376953125, 'Patting': 178.1709442138672, 'Reacting': 149.49240112304688, 'LowerStretching': 221.3784637451172, 'Talking': 118.31806945800781, 'Gaming': 180.08349609375, 'Gesticuling': 141.70370483398438, 'Greeting': 134.00196838378906}}\n"
     ]
    },
    {
     "name": "stderr",
     "output_type": "stream",
     "text": [
      " 11%|█         | 600/5352 [03:31<27:28,  2.88it/s]"
     ]
    },
    {
     "name": "stdout",
     "output_type": "stream",
     "text": [
      "{'FullBody': {'All': 151.8966064453125, 'Walking': 151.0150604248047, 'UpperStretching': 152.0105438232422, 'Patting': 155.0167694091797, 'Reacting': 134.61465454101562, 'LowerStretching': 163.4063720703125, 'Talking': 112.28372192382812, 'Gaming': 146.40426635742188, 'Gesticuling': 125.5267333984375, 'Greeting': 115.63980865478516}, 'UpperBody': {'All': 123.40536499023438, 'Walking': 111.99639892578125, 'UpperStretching': 132.47300720214844, 'Patting': 126.45897674560547, 'Reacting': 119.4488754272461, 'LowerStretching': 107.13228607177734, 'Talking': 104.44700622558594, 'Gaming': 114.78355407714844, 'Gesticuling': 110.99378204345703, 'Greeting': 99.1606674194336}, 'LowerBody': {'All': 180.38783264160156, 'Walking': 190.0337371826172, 'UpperStretching': 171.54806518554688, 'Patting': 183.57456970214844, 'Reacting': 149.78042602539062, 'LowerStretching': 219.68045043945312, 'Talking': 120.12043762207031, 'Gaming': 178.02496337890625, 'Gesticuling': 140.0596923828125, 'Greeting': 132.11895751953125}}\n"
     ]
    },
    {
     "name": "stderr",
     "output_type": "stream",
     "text": [
      " 15%|█▍        | 800/5352 [04:40<26:15,  2.89it/s]"
     ]
    },
    {
     "name": "stdout",
     "output_type": "stream",
     "text": [
      "{'FullBody': {'All': 151.6496124267578, 'Walking': 151.5893096923828, 'UpperStretching': 151.55978393554688, 'Patting': 153.67092895507812, 'Reacting': 135.1978759765625, 'LowerStretching': 163.53878784179688, 'Talking': 111.40311431884766, 'Gaming': 147.2493133544922, 'Gesticuling': 125.80963897705078, 'Greeting': 110.6941909790039}, 'UpperBody': {'All': 123.42243194580078, 'Walking': 111.93177795410156, 'UpperStretching': 132.35678100585938, 'Patting': 126.50828552246094, 'Reacting': 121.10945892333984, 'LowerStretching': 106.81330871582031, 'Talking': 103.40884399414062, 'Gaming': 114.96722412109375, 'Gesticuling': 110.48587799072266, 'Greeting': 97.72863006591797}, 'LowerBody': {'All': 179.87677001953125, 'Walking': 191.246826171875, 'UpperStretching': 170.76275634765625, 'Patting': 180.83358764648438, 'Reacting': 149.28628540039062, 'LowerStretching': 220.26425170898438, 'Talking': 119.39739990234375, 'Gaming': 179.53140258789062, 'Gesticuling': 141.13340759277344, 'Greeting': 123.65975189208984}}\n"
     ]
    },
    {
     "name": "stderr",
     "output_type": "stream",
     "text": [
      " 19%|█▊        | 1000/5352 [05:49<25:10,  2.88it/s]"
     ]
    },
    {
     "name": "stdout",
     "output_type": "stream",
     "text": [
      "{'FullBody': {'All': 151.6067352294922, 'Walking': 150.6631317138672, 'UpperStretching': 152.05279541015625, 'Patting': 151.8868408203125, 'Reacting': 135.5928192138672, 'LowerStretching': 162.57513427734375, 'Talking': 110.22270965576172, 'Gaming': 146.1505126953125, 'Gesticuling': 124.4414291381836, 'Greeting': 110.99813842773438}, 'UpperBody': {'All': 123.33657836914062, 'Walking': 111.44762420654297, 'UpperStretching': 132.5332794189453, 'Patting': 125.86249542236328, 'Reacting': 121.57174682617188, 'LowerStretching': 106.48174285888672, 'Talking': 102.739501953125, 'Gaming': 115.74302673339844, 'Gesticuling': 108.9451675415039, 'Greeting': 97.6028823852539}, 'LowerBody': {'All': 179.8768768310547, 'Walking': 189.87864685058594, 'UpperStretching': 171.5723114013672, 'Patting': 177.91119384765625, 'Reacting': 149.61390686035156, 'LowerStretching': 218.66851806640625, 'Talking': 117.70590209960938, 'Gaming': 176.5579833984375, 'Gesticuling': 139.93768310546875, 'Greeting': 124.39339447021484}}\n"
     ]
    },
    {
     "name": "stderr",
     "output_type": "stream",
     "text": [
      " 22%|██▏       | 1200/5352 [06:58<24:00,  2.88it/s]"
     ]
    },
    {
     "name": "stdout",
     "output_type": "stream",
     "text": [
      "{'FullBody': {'All': 151.75357055664062, 'Walking': 150.90206909179688, 'UpperStretching': 152.1514434814453, 'Patting': 152.2197265625, 'Reacting': 135.61282348632812, 'LowerStretching': 163.0199737548828, 'Talking': 110.81675720214844, 'Gaming': 145.9884490966797, 'Gesticuling': 123.97673797607422, 'Greeting': 109.86669158935547}, 'UpperBody': {'All': 123.2448959350586, 'Walking': 111.28346252441406, 'UpperStretching': 132.56875610351562, 'Patting': 126.36823272705078, 'Reacting': 121.58551025390625, 'LowerStretching': 106.13548278808594, 'Talking': 103.36279296875, 'Gaming': 115.66551971435547, 'Gesticuling': 109.62175750732422, 'Greeting': 97.61824035644531}, 'LowerBody': {'All': 180.26223754882812, 'Walking': 190.52069091796875, 'UpperStretching': 171.734130859375, 'Patting': 178.07119750976562, 'Reacting': 149.64013671875, 'LowerStretching': 219.90447998046875, 'Talking': 118.2707290649414, 'Gaming': 176.31138610839844, 'Gesticuling': 138.33172607421875, 'Greeting': 122.11512756347656}}\n"
     ]
    },
    {
     "name": "stderr",
     "output_type": "stream",
     "text": [
      " 26%|██▌       | 1400/5352 [08:07<22:57,  2.87it/s]"
     ]
    },
    {
     "name": "stdout",
     "output_type": "stream",
     "text": [
      "{'FullBody': {'All': 151.8559112548828, 'Walking': 150.3221435546875, 'UpperStretching': 152.60238647460938, 'Patting': 155.01412963867188, 'Reacting': 135.15414428710938, 'LowerStretching': 162.81285095214844, 'Talking': 110.03170013427734, 'Gaming': 145.58578491210938, 'Gesticuling': 123.07485961914062, 'Greeting': 110.38508605957031}, 'UpperBody': {'All': 123.31945037841797, 'Walking': 110.7710952758789, 'UpperStretching': 132.71072387695312, 'Patting': 127.96507263183594, 'Reacting': 121.70518493652344, 'LowerStretching': 106.25749206542969, 'Talking': 103.52436065673828, 'Gaming': 115.20246887207031, 'Gesticuling': 108.10342407226562, 'Greeting': 97.768798828125}, 'LowerBody': {'All': 180.39239501953125, 'Walking': 189.8732147216797, 'UpperStretching': 172.49403381347656, 'Patting': 182.06320190429688, 'Reacting': 148.60311889648438, 'LowerStretching': 219.36825561523438, 'Talking': 116.53902435302734, 'Gaming': 175.96908569335938, 'Gesticuling': 138.04629516601562, 'Greeting': 123.0013656616211}}\n"
     ]
    },
    {
     "name": "stderr",
     "output_type": "stream",
     "text": [
      " 30%|██▉       | 1600/5352 [09:16<21:45,  2.87it/s]"
     ]
    },
    {
     "name": "stdout",
     "output_type": "stream",
     "text": [
      "{'FullBody': {'All': 151.93727111816406, 'Walking': 150.424560546875, 'UpperStretching': 152.56544494628906, 'Patting': 156.82424926757812, 'Reacting': 135.27243041992188, 'LowerStretching': 163.471435546875, 'Talking': 108.4206314086914, 'Gaming': 145.3903045654297, 'Gesticuling': 122.47276306152344, 'Greeting': 109.10662841796875}, 'UpperBody': {'All': 123.5173110961914, 'Walking': 110.79597473144531, 'UpperStretching': 132.95347595214844, 'Patting': 129.25331115722656, 'Reacting': 121.28732299804688, 'LowerStretching': 106.64161682128906, 'Talking': 102.39804077148438, 'Gaming': 114.29654693603516, 'Gesticuling': 106.97709655761719, 'Greeting': 96.43118286132812}, 'LowerBody': {'All': 180.35723876953125, 'Walking': 190.05313110351562, 'UpperStretching': 172.1774139404297, 'Patting': 184.39515686035156, 'Reacting': 149.25755310058594, 'LowerStretching': 220.3012237548828, 'Talking': 114.44322967529297, 'Gaming': 176.4840545654297, 'Gesticuling': 137.96841430664062, 'Greeting': 121.7821044921875}}\n"
     ]
    },
    {
     "name": "stderr",
     "output_type": "stream",
     "text": [
      " 34%|███▎      | 1800/5352 [10:25<20:40,  2.86it/s]"
     ]
    },
    {
     "name": "stdout",
     "output_type": "stream",
     "text": [
      "{'FullBody': {'All': 151.9422607421875, 'Walking': 150.58636474609375, 'UpperStretching': 152.50848388671875, 'Patting': 157.1385040283203, 'Reacting': 135.54067993164062, 'LowerStretching': 163.61647033691406, 'Talking': 108.90200805664062, 'Gaming': 144.75460815429688, 'Gesticuling': 122.23193359375, 'Greeting': 109.21922302246094}, 'UpperBody': {'All': 123.53118896484375, 'Walking': 111.05818939208984, 'UpperStretching': 132.95175170898438, 'Patting': 129.9295196533203, 'Reacting': 121.56690216064453, 'LowerStretching': 106.51477813720703, 'Talking': 102.29251098632812, 'Gaming': 114.13980865478516, 'Gesticuling': 106.63970184326172, 'Greeting': 95.86907196044922}, 'LowerBody': {'All': 180.35333251953125, 'Walking': 190.1145477294922, 'UpperStretching': 172.06521606445312, 'Patting': 184.34747314453125, 'Reacting': 149.51446533203125, 'LowerStretching': 220.71812438964844, 'Talking': 115.51150512695312, 'Gaming': 175.36940002441406, 'Gesticuling': 137.82415771484375, 'Greeting': 122.56938171386719}}\n"
     ]
    },
    {
     "name": "stderr",
     "output_type": "stream",
     "text": [
      " 37%|███▋      | 2000/5352 [11:35<19:28,  2.87it/s]"
     ]
    },
    {
     "name": "stdout",
     "output_type": "stream",
     "text": [
      "{'FullBody': {'All': 152.064453125, 'Walking': 150.6522674560547, 'UpperStretching': 152.63954162597656, 'Patting': 156.40859985351562, 'Reacting': 134.97967529296875, 'LowerStretching': 164.0315704345703, 'Talking': 108.59477996826172, 'Gaming': 144.53492736816406, 'Gesticuling': 121.99334716796875, 'Greeting': 110.22254943847656}, 'UpperBody': {'All': 123.4801254272461, 'Walking': 111.16307067871094, 'UpperStretching': 132.9141387939453, 'Patting': 129.51409912109375, 'Reacting': 121.34346771240234, 'LowerStretching': 106.55047607421875, 'Talking': 101.79177856445312, 'Gaming': 114.0595703125, 'Gesticuling': 106.4392318725586, 'Greeting': 96.56178283691406}, 'LowerBody': {'All': 180.64881896972656, 'Walking': 190.14146423339844, 'UpperStretching': 172.36495971679688, 'Patting': 183.30308532714844, 'Reacting': 148.61585998535156, 'LowerStretching': 221.51268005371094, 'Talking': 115.39778900146484, 'Gaming': 175.01028442382812, 'Gesticuling': 137.54745483398438, 'Greeting': 123.8833236694336}}\n"
     ]
    },
    {
     "name": "stderr",
     "output_type": "stream",
     "text": [
      " 41%|████      | 2200/5352 [12:44<18:24,  2.85it/s]"
     ]
    },
    {
     "name": "stdout",
     "output_type": "stream",
     "text": [
      "{'FullBody': {'All': 152.10394287109375, 'Walking': 151.0422821044922, 'UpperStretching': 152.68531799316406, 'Patting': 155.08445739746094, 'Reacting': 134.47743225097656, 'LowerStretching': 163.96888732910156, 'Talking': 109.14498901367188, 'Gaming': 144.52108764648438, 'Gesticuling': 122.22014617919922, 'Greeting': 109.35189819335938}, 'UpperBody': {'All': 123.56985473632812, 'Walking': 111.26152038574219, 'UpperStretching': 132.95921325683594, 'Patting': 128.79054260253906, 'Reacting': 121.12957000732422, 'LowerStretching': 106.50240325927734, 'Talking': 102.04219055175781, 'Gaming': 113.99395751953125, 'Gesticuling': 107.02767944335938, 'Greeting': 96.04035949707031}, 'LowerBody': {'All': 180.6380615234375, 'Walking': 190.82301330566406, 'UpperStretching': 172.41146850585938, 'Patting': 181.3783416748047, 'Reacting': 147.8253173828125, 'LowerStretching': 221.43536376953125, 'Talking': 116.24778747558594, 'Gaming': 175.04820251464844, 'Gesticuling': 137.41261291503906, 'Greeting': 122.6634521484375}}\n"
     ]
    },
    {
     "name": "stderr",
     "output_type": "stream",
     "text": [
      " 45%|████▍     | 2400/5352 [13:53<17:10,  2.87it/s]"
     ]
    },
    {
     "name": "stdout",
     "output_type": "stream",
     "text": [
      "{'FullBody': {'All': 152.21324157714844, 'Walking': 150.98995971679688, 'UpperStretching': 152.59950256347656, 'Patting': 156.35118103027344, 'Reacting': 136.6515350341797, 'LowerStretching': 164.3410186767578, 'Talking': 109.10769653320312, 'Gaming': 144.6532440185547, 'Gesticuling': 121.78507232666016, 'Greeting': 109.64506530761719}, 'UpperBody': {'All': 123.55062866210938, 'Walking': 111.16572570800781, 'UpperStretching': 132.88253784179688, 'Patting': 128.32400512695312, 'Reacting': 121.87987518310547, 'LowerStretching': 106.5457763671875, 'Talking': 102.3165283203125, 'Gaming': 114.31616973876953, 'Gesticuling': 106.62406921386719, 'Greeting': 96.24385833740234}, 'LowerBody': {'All': 180.8758544921875, 'Walking': 190.81419372558594, 'UpperStretching': 172.3164825439453, 'Patting': 184.37835693359375, 'Reacting': 151.42318725585938, 'LowerStretching': 222.1363067626953, 'Talking': 115.89885711669922, 'Gaming': 174.9903106689453, 'Gesticuling': 136.94607543945312, 'Greeting': 123.04627990722656}}\n"
     ]
    },
    {
     "name": "stderr",
     "output_type": "stream",
     "text": [
      " 49%|████▊     | 2600/5352 [15:02<15:59,  2.87it/s]"
     ]
    },
    {
     "name": "stdout",
     "output_type": "stream",
     "text": [
      "{'FullBody': {'All': 152.4096221923828, 'Walking': 151.3082733154297, 'UpperStretching': 152.88674926757812, 'Patting': 156.6383056640625, 'Reacting': 136.7920684814453, 'LowerStretching': 164.3080596923828, 'Talking': 108.58724975585938, 'Gaming': 144.5601348876953, 'Gesticuling': 121.8955307006836, 'Greeting': 110.96358489990234}, 'UpperBody': {'All': 123.61348724365234, 'Walking': 111.4372787475586, 'UpperStretching': 132.91616821289062, 'Patting': 128.11038208007812, 'Reacting': 121.70903015136719, 'LowerStretching': 106.69003295898438, 'Talking': 101.9983901977539, 'Gaming': 114.65386962890625, 'Gesticuling': 107.21929931640625, 'Greeting': 96.81966400146484}, 'LowerBody': {'All': 181.20578002929688, 'Walking': 191.17929077148438, 'UpperStretching': 172.8573455810547, 'Patting': 185.1662139892578, 'Reacting': 151.87509155273438, 'LowerStretching': 221.92605590820312, 'Talking': 115.17609405517578, 'Gaming': 174.46641540527344, 'Gesticuling': 136.57176208496094, 'Greeting': 125.10749053955078}}\n"
     ]
    },
    {
     "name": "stderr",
     "output_type": "stream",
     "text": [
      " 52%|█████▏    | 2800/5352 [16:11<14:52,  2.86it/s]"
     ]
    },
    {
     "name": "stdout",
     "output_type": "stream",
     "text": [
      "{'FullBody': {'All': 152.54190063476562, 'Walking': 151.64266967773438, 'UpperStretching': 153.1562957763672, 'Patting': 155.35748291015625, 'Reacting': 136.7383575439453, 'LowerStretching': 164.10452270507812, 'Talking': 108.62454986572266, 'Gaming': 144.8292999267578, 'Gesticuling': 122.29730224609375, 'Greeting': 111.31755065917969}, 'UpperBody': {'All': 123.77782440185547, 'Walking': 111.70133209228516, 'UpperStretching': 133.1962890625, 'Patting': 127.3221206665039, 'Reacting': 121.62102508544922, 'LowerStretching': 106.64997863769531, 'Talking': 101.86339569091797, 'Gaming': 114.43753814697266, 'Gesticuling': 107.75852966308594, 'Greeting': 97.2773208618164}, 'LowerBody': {'All': 181.3059844970703, 'Walking': 191.58401489257812, 'UpperStretching': 173.11630249023438, 'Patting': 183.39285278320312, 'Reacting': 151.85568237304688, 'LowerStretching': 221.5590362548828, 'Talking': 115.38573455810547, 'Gaming': 175.22105407714844, 'Gesticuling': 136.83609008789062, 'Greeting': 125.35778045654297}}\n"
     ]
    },
    {
     "name": "stderr",
     "output_type": "stream",
     "text": [
      " 56%|█████▌    | 3000/5352 [17:20<13:45,  2.85it/s]"
     ]
    },
    {
     "name": "stdout",
     "output_type": "stream",
     "text": [
      "{'FullBody': {'All': 152.41114807128906, 'Walking': 151.6397705078125, 'UpperStretching': 152.98544311523438, 'Patting': 155.04632568359375, 'Reacting': 136.33737182617188, 'LowerStretching': 164.25718688964844, 'Talking': 107.74787139892578, 'Gaming': 144.92413330078125, 'Gesticuling': 122.18412780761719, 'Greeting': 111.88510131835938}, 'UpperBody': {'All': 123.77400207519531, 'Walking': 111.63392639160156, 'UpperStretching': 133.21339416503906, 'Patting': 127.62944030761719, 'Reacting': 121.49151611328125, 'LowerStretching': 106.6828842163086, 'Talking': 101.40544891357422, 'Gaming': 114.81167602539062, 'Gesticuling': 107.80863952636719, 'Greeting': 96.93505096435547}, 'LowerBody': {'All': 181.04830932617188, 'Walking': 191.64561462402344, 'UpperStretching': 172.75747680664062, 'Patting': 182.46319580078125, 'Reacting': 151.18324279785156, 'LowerStretching': 221.83151245117188, 'Talking': 114.09028625488281, 'Gaming': 175.03659057617188, 'Gesticuling': 136.5596466064453, 'Greeting': 126.83515167236328}}\n"
     ]
    },
    {
     "name": "stderr",
     "output_type": "stream",
     "text": [
      " 60%|█████▉    | 3200/5352 [18:29<12:34,  2.85it/s]"
     ]
    },
    {
     "name": "stdout",
     "output_type": "stream",
     "text": [
      "{'FullBody': {'All': 152.4264373779297, 'Walking': 151.67796325683594, 'UpperStretching': 153.00906372070312, 'Patting': 153.88687133789062, 'Reacting': 137.15139770507812, 'LowerStretching': 164.18605041503906, 'Talking': 107.3984375, 'Gaming': 145.33067321777344, 'Gesticuling': 122.44297790527344, 'Greeting': 112.1998519897461}, 'UpperBody': {'All': 123.78718566894531, 'Walking': 111.79238891601562, 'UpperStretching': 133.2089080810547, 'Patting': 126.88593292236328, 'Reacting': 122.24983978271484, 'LowerStretching': 106.56459045410156, 'Talking': 101.03366088867188, 'Gaming': 115.14641571044922, 'Gesticuling': 107.76731872558594, 'Greeting': 97.0505142211914}, 'LowerBody': {'All': 181.06570434570312, 'Walking': 191.5635528564453, 'UpperStretching': 172.8092041015625, 'Patting': 180.8878173828125, 'Reacting': 152.0529327392578, 'LowerStretching': 221.80752563476562, 'Talking': 113.76322174072266, 'Gaming': 175.51492309570312, 'Gesticuling': 137.11863708496094, 'Greeting': 127.34918975830078}}\n"
     ]
    },
    {
     "name": "stderr",
     "output_type": "stream",
     "text": [
      " 64%|██████▎   | 3400/5352 [19:38<11:23,  2.85it/s]"
     ]
    },
    {
     "name": "stdout",
     "output_type": "stream",
     "text": [
      "{'FullBody': {'All': 152.43280029296875, 'Walking': 151.52032470703125, 'UpperStretching': 153.08786010742188, 'Patting': 153.9166259765625, 'Reacting': 137.36624145507812, 'LowerStretching': 163.97476196289062, 'Talking': 107.0604476928711, 'Gaming': 145.043212890625, 'Gesticuling': 122.74281311035156, 'Greeting': 111.83815002441406}, 'UpperBody': {'All': 123.86627960205078, 'Walking': 111.62741088867188, 'UpperStretching': 133.33775329589844, 'Patting': 126.6451187133789, 'Reacting': 122.43150329589844, 'LowerStretching': 106.58404541015625, 'Talking': 100.70479583740234, 'Gaming': 115.08456420898438, 'Gesticuling': 108.00100708007812, 'Greeting': 96.8932113647461}, 'LowerBody': {'All': 180.9993438720703, 'Walking': 191.41323852539062, 'UpperStretching': 172.83798217773438, 'Patting': 181.18814086914062, 'Reacting': 152.3009796142578, 'LowerStretching': 221.36546325683594, 'Talking': 113.4161148071289, 'Gaming': 175.00186157226562, 'Gesticuling': 137.48458862304688, 'Greeting': 126.7831039428711}}\n"
     ]
    },
    {
     "name": "stderr",
     "output_type": "stream",
     "text": [
      " 67%|██████▋   | 3600/5352 [20:48<10:16,  2.84it/s]"
     ]
    },
    {
     "name": "stdout",
     "output_type": "stream",
     "text": [
      "{'FullBody': {'All': 152.34423828125, 'Walking': 151.363525390625, 'UpperStretching': 153.06317138671875, 'Patting': 153.2378387451172, 'Reacting': 137.9922332763672, 'LowerStretching': 163.5132293701172, 'Talking': 107.54193878173828, 'Gaming': 145.24862670898438, 'Gesticuling': 122.81102752685547, 'Greeting': 112.3553466796875}, 'UpperBody': {'All': 123.81542205810547, 'Walking': 111.50308227539062, 'UpperStretching': 133.3000030517578, 'Patting': 126.31818389892578, 'Reacting': 122.65470886230469, 'LowerStretching': 106.46440124511719, 'Talking': 101.03673553466797, 'Gaming': 115.16604614257812, 'Gesticuling': 107.74551391601562, 'Greeting': 97.2612075805664}, 'LowerBody': {'All': 180.8730926513672, 'Walking': 191.22398376464844, 'UpperStretching': 172.82630920410156, 'Patting': 180.1575164794922, 'Reacting': 153.32974243164062, 'LowerStretching': 220.5620880126953, 'Talking': 114.04716491699219, 'Gaming': 175.33120727539062, 'Gesticuling': 137.8765411376953, 'Greeting': 127.44947814941406}}\n"
     ]
    },
    {
     "name": "stderr",
     "output_type": "stream",
     "text": [
      " 71%|███████   | 3800/5352 [21:57<09:04,  2.85it/s]"
     ]
    },
    {
     "name": "stdout",
     "output_type": "stream",
     "text": [
      "{'FullBody': {'All': 152.47879028320312, 'Walking': 151.6005096435547, 'UpperStretching': 153.19102478027344, 'Patting': 153.0949249267578, 'Reacting': 137.85708618164062, 'LowerStretching': 163.6337127685547, 'Talking': 107.92437744140625, 'Gaming': 145.36045837402344, 'Gesticuling': 122.97962188720703, 'Greeting': 112.55150604248047}, 'UpperBody': {'All': 123.85271453857422, 'Walking': 111.51248931884766, 'UpperStretching': 133.35325622558594, 'Patting': 126.18045806884766, 'Reacting': 122.47702026367188, 'LowerStretching': 106.46581268310547, 'Talking': 101.23149871826172, 'Gaming': 115.31248474121094, 'Gesticuling': 107.83756256103516, 'Greeting': 97.40901947021484}, 'LowerBody': {'All': 181.1048583984375, 'Walking': 191.68853759765625, 'UpperStretching': 173.02880859375, 'Patting': 180.00941467285156, 'Reacting': 153.2371368408203, 'LowerStretching': 220.80162048339844, 'Talking': 114.61724853515625, 'Gaming': 175.40841674804688, 'Gesticuling': 138.12168884277344, 'Greeting': 127.69398498535156}}\n"
     ]
    },
    {
     "name": "stderr",
     "output_type": "stream",
     "text": [
      " 75%|███████▍  | 4000/5352 [23:06<07:54,  2.85it/s]"
     ]
    },
    {
     "name": "stdout",
     "output_type": "stream",
     "text": [
      "{'FullBody': {'All': 152.4668426513672, 'Walking': 151.5122833251953, 'UpperStretching': 153.17689514160156, 'Patting': 154.1982879638672, 'Reacting': 137.4075164794922, 'LowerStretching': 163.7216339111328, 'Talking': 107.75194549560547, 'Gaming': 145.23443603515625, 'Gesticuling': 122.57808685302734, 'Greeting': 112.28790283203125}, 'UpperBody': {'All': 123.84124755859375, 'Walking': 111.56836700439453, 'UpperStretching': 133.28866577148438, 'Patting': 126.48197174072266, 'Reacting': 122.10652160644531, 'LowerStretching': 106.56169128417969, 'Talking': 101.31200408935547, 'Gaming': 115.30086517333984, 'Gesticuling': 107.76627349853516, 'Greeting': 97.1089859008789}, 'LowerBody': {'All': 181.09246826171875, 'Walking': 191.45620727539062, 'UpperStretching': 173.0651092529297, 'Patting': 181.91461181640625, 'Reacting': 152.70851135253906, 'LowerStretching': 220.88156127929688, 'Talking': 114.19189453125, 'Gaming': 175.16799926757812, 'Gesticuling': 137.38990783691406, 'Greeting': 127.46681213378906}}\n"
     ]
    },
    {
     "name": "stderr",
     "output_type": "stream",
     "text": [
      " 78%|███████▊  | 4200/5352 [24:15<06:46,  2.83it/s]"
     ]
    },
    {
     "name": "stdout",
     "output_type": "stream",
     "text": [
      "{'FullBody': {'All': 152.53485107421875, 'Walking': 151.4610137939453, 'UpperStretching': 153.3050079345703, 'Patting': 154.176513671875, 'Reacting': 137.6246795654297, 'LowerStretching': 163.6219024658203, 'Talking': 108.45391845703125, 'Gaming': 145.74305725097656, 'Gesticuling': 122.87520599365234, 'Greeting': 111.75249481201172}, 'UpperBody': {'All': 123.81653594970703, 'Walking': 111.53009033203125, 'UpperStretching': 133.23887634277344, 'Patting': 126.42489624023438, 'Reacting': 122.027099609375, 'LowerStretching': 106.5805892944336, 'Talking': 101.79386138916016, 'Gaming': 115.56771850585938, 'Gesticuling': 107.88614654541016, 'Greeting': 96.90436553955078}, 'LowerBody': {'All': 181.25318908691406, 'Walking': 191.39193725585938, 'UpperStretching': 173.3711395263672, 'Patting': 181.92811584472656, 'Reacting': 153.2222900390625, 'LowerStretching': 220.66323852539062, 'Talking': 115.11396789550781, 'Gaming': 175.91839599609375, 'Gesticuling': 137.8642578125, 'Greeting': 126.60064697265625}}\n"
     ]
    },
    {
     "name": "stderr",
     "output_type": "stream",
     "text": [
      " 82%|████████▏ | 4400/5352 [25:24<05:35,  2.84it/s]"
     ]
    },
    {
     "name": "stdout",
     "output_type": "stream",
     "text": [
      "{'FullBody': {'All': 152.4757080078125, 'Walking': 151.0742645263672, 'UpperStretching': 153.2596435546875, 'Patting': 153.97972106933594, 'Reacting': 137.77052307128906, 'LowerStretching': 163.6087188720703, 'Talking': 108.84036254882812, 'Gaming': 145.6704864501953, 'Gesticuling': 122.98601531982422, 'Greeting': 111.1570053100586}, 'UpperBody': {'All': 123.77964782714844, 'Walking': 111.42829895019531, 'UpperStretching': 133.22972106933594, 'Patting': 126.49393463134766, 'Reacting': 122.19136810302734, 'LowerStretching': 106.54660034179688, 'Talking': 101.96952819824219, 'Gaming': 115.33562469482422, 'Gesticuling': 108.1319351196289, 'Greeting': 96.23435974121094}, 'LowerBody': {'All': 181.17176818847656, 'Walking': 190.72018432617188, 'UpperStretching': 173.28956604003906, 'Patting': 181.4654998779297, 'Reacting': 153.34967041015625, 'LowerStretching': 220.67083740234375, 'Talking': 115.71118927001953, 'Gaming': 176.00535583496094, 'Gesticuling': 137.84010314941406, 'Greeting': 126.07963562011719}}\n"
     ]
    },
    {
     "name": "stderr",
     "output_type": "stream",
     "text": [
      " 86%|████████▌ | 4600/5352 [26:33<04:25,  2.83it/s]"
     ]
    },
    {
     "name": "stdout",
     "output_type": "stream",
     "text": [
      "{'FullBody': {'All': 152.5598602294922, 'Walking': 151.08705139160156, 'UpperStretching': 153.39524841308594, 'Patting': 154.41493225097656, 'Reacting': 138.0457305908203, 'LowerStretching': 163.5680694580078, 'Talking': 109.20890808105469, 'Gaming': 145.5608367919922, 'Gesticuling': 123.22228240966797, 'Greeting': 110.34436798095703}, 'UpperBody': {'All': 123.80049133300781, 'Walking': 111.33525085449219, 'UpperStretching': 133.2760772705078, 'Patting': 126.79458618164062, 'Reacting': 122.20104217529297, 'LowerStretching': 106.51398468017578, 'Talking': 102.15765380859375, 'Gaming': 115.06868743896484, 'Gesticuling': 108.41580963134766, 'Greeting': 95.8812484741211}, 'LowerBody': {'All': 181.31922912597656, 'Walking': 190.83883666992188, 'UpperStretching': 173.51437377929688, 'Patting': 182.03526306152344, 'Reacting': 153.89041137695312, 'LowerStretching': 220.6221923828125, 'Talking': 116.26016235351562, 'Gaming': 176.052978515625, 'Gesticuling': 138.0287628173828, 'Greeting': 124.8074951171875}}\n"
     ]
    },
    {
     "name": "stderr",
     "output_type": "stream",
     "text": [
      " 90%|████████▉ | 4800/5352 [27:43<03:15,  2.83it/s]"
     ]
    },
    {
     "name": "stdout",
     "output_type": "stream",
     "text": [
      "{'FullBody': {'All': 152.61012268066406, 'Walking': 150.98956298828125, 'UpperStretching': 153.46441650390625, 'Patting': 153.7899169921875, 'Reacting': 137.67071533203125, 'LowerStretching': 163.7999267578125, 'Talking': 109.6579818725586, 'Gaming': 145.45326232910156, 'Gesticuling': 122.9321517944336, 'Greeting': 110.37095642089844}, 'UpperBody': {'All': 123.79742431640625, 'Walking': 111.34104919433594, 'UpperStretching': 133.2949676513672, 'Patting': 126.5454330444336, 'Reacting': 121.98294067382812, 'LowerStretching': 106.51569366455078, 'Talking': 102.47110748291016, 'Gaming': 114.92872619628906, 'Gesticuling': 108.17533111572266, 'Greeting': 95.95250701904297}, 'LowerBody': {'All': 181.4228057861328, 'Walking': 190.6380615234375, 'UpperStretching': 173.63385009765625, 'Patting': 181.03440856933594, 'Reacting': 153.35848999023438, 'LowerStretching': 221.0841522216797, 'Talking': 116.84486389160156, 'Gaming': 175.977783203125, 'Gesticuling': 137.68898010253906, 'Greeting': 124.78941345214844}}\n"
     ]
    },
    {
     "name": "stderr",
     "output_type": "stream",
     "text": [
      " 93%|█████████▎| 5000/5352 [28:52<02:04,  2.83it/s]"
     ]
    },
    {
     "name": "stdout",
     "output_type": "stream",
     "text": [
      "{'FullBody': {'All': 152.692626953125, 'Walking': 151.21044921875, 'UpperStretching': 153.49151611328125, 'Patting': 153.437255859375, 'Reacting': 137.665771484375, 'LowerStretching': 163.9837188720703, 'Talking': 109.55348205566406, 'Gaming': 145.71295166015625, 'Gesticuling': 122.94200897216797, 'Greeting': 110.9061279296875}, 'UpperBody': {'All': 123.78309631347656, 'Walking': 111.37995147705078, 'UpperStretching': 133.26535034179688, 'Patting': 126.27123260498047, 'Reacting': 121.99488067626953, 'LowerStretching': 106.56322479248047, 'Talking': 102.39555358886719, 'Gaming': 115.150390625, 'Gesticuling': 108.08085632324219, 'Greeting': 96.38645935058594}, 'LowerBody': {'All': 181.60215759277344, 'Walking': 191.04092407226562, 'UpperStretching': 173.71766662597656, 'Patting': 180.60324096679688, 'Reacting': 153.33665466308594, 'LowerStretching': 221.40420532226562, 'Talking': 116.71141052246094, 'Gaming': 176.27552795410156, 'Gesticuling': 137.80313110351562, 'Greeting': 125.42578125}}\n"
     ]
    },
    {
     "name": "stderr",
     "output_type": "stream",
     "text": [
      " 97%|█████████▋| 5200/5352 [30:01<00:53,  2.82it/s]"
     ]
    },
    {
     "name": "stdout",
     "output_type": "stream",
     "text": [
      "{'FullBody': {'All': 152.714599609375, 'Walking': 150.95115661621094, 'UpperStretching': 153.51634216308594, 'Patting': 153.66961669921875, 'Reacting': 137.73974609375, 'LowerStretching': 164.1096954345703, 'Talking': 109.6119384765625, 'Gaming': 145.75161743164062, 'Gesticuling': 122.81942749023438, 'Greeting': 110.90784454345703}, 'UpperBody': {'All': 123.78845977783203, 'Walking': 111.3040542602539, 'UpperStretching': 133.28076171875, 'Patting': 126.23025512695312, 'Reacting': 122.02033233642578, 'LowerStretching': 106.55851745605469, 'Talking': 102.27610778808594, 'Gaming': 115.1187973022461, 'Gesticuling': 108.1391830444336, 'Greeting': 96.6953353881836}, 'LowerBody': {'All': 181.64071655273438, 'Walking': 190.59828186035156, 'UpperStretching': 173.75192260742188, 'Patting': 181.10897827148438, 'Reacting': 153.4591522216797, 'LowerStretching': 221.660888671875, 'Talking': 116.9477767944336, 'Gaming': 176.3844451904297, 'Gesticuling': 137.4996795654297, 'Greeting': 125.12035369873047}}\n"
     ]
    },
    {
     "name": "stderr",
     "output_type": "stream",
     "text": [
      "100%|██████████| 5352/5352 [30:54<00:00,  2.89it/s]\n",
      "\u001b[94m09:09:29 \u001b[92m[INFO]\u001b[94m Main\u001b[0m: Saving evaluation results...\n",
      "\u001b[94m09:09:30 \u001b[92m[INFO]\u001b[94m Main\u001b[0m: Done.\n",
      "\u001b[94m09:09:30 \u001b[92m[INFO]\u001b[94m Main\u001b[0m: Starting demo...\n",
      "  0%|          | 0/5352 [00:00<?, ?it/s]/opt/conda/lib/python3.10/site-packages/torchvision/transforms/transforms.py:329: UserWarning: Argument 'interpolation' of type int is deprecated since 0.13 and will be removed in 0.15. Please use InterpolationMode enum.\n",
      "  warnings.warn(\n",
      "/opt/conda/lib/python3.10/site-packages/torchvision/transforms/transforms.py:329: UserWarning: Argument 'interpolation' of type int is deprecated since 0.13 and will be removed in 0.15. Please use InterpolationMode enum.\n",
      "  warnings.warn(\n",
      "/opt/conda/lib/python3.10/site-packages/torchvision/transforms/transforms.py:329: UserWarning: Argument 'interpolation' of type int is deprecated since 0.13 and will be removed in 0.15. Please use InterpolationMode enum.\n",
      "  warnings.warn(\n",
      "/opt/conda/lib/python3.10/site-packages/torchvision/transforms/transforms.py:329: UserWarning: Argument 'interpolation' of type int is deprecated since 0.13 and will be removed in 0.15. Please use InterpolationMode enum.\n",
      "  warnings.warn(\n",
      "/opt/conda/lib/python3.10/site-packages/torchvision/transforms/transforms.py:329: UserWarning: Argument 'interpolation' of type int is deprecated since 0.13 and will be removed in 0.15. Please use InterpolationMode enum.\n",
      "  warnings.warn(\n",
      "/opt/conda/lib/python3.10/site-packages/torchvision/transforms/transforms.py:329: UserWarning: Argument 'interpolation' of type int is deprecated since 0.13 and will be removed in 0.15. Please use InterpolationMode enum.\n",
      "  warnings.warn(\n",
      "/opt/conda/lib/python3.10/site-packages/torchvision/transforms/transforms.py:329: UserWarning: Argument 'interpolation' of type int is deprecated since 0.13 and will be removed in 0.15. Please use InterpolationMode enum.\n",
      "  warnings.warn(\n",
      "/opt/conda/lib/python3.10/site-packages/torchvision/transforms/transforms.py:329: UserWarning: Argument 'interpolation' of type int is deprecated since 0.13 and will be removed in 0.15. Please use InterpolationMode enum.\n",
      "  warnings.warn(\n",
      "/opt/conda/lib/python3.10/site-packages/torchvision/transforms/transforms.py:329: UserWarning: Argument 'interpolation' of type int is deprecated since 0.13 and will be removed in 0.15. Please use InterpolationMode enum.\n",
      "  warnings.warn(\n",
      "/opt/conda/lib/python3.10/site-packages/torchvision/transforms/transforms.py:329: UserWarning: Argument 'interpolation' of type int is deprecated since 0.13 and will be removed in 0.15. Please use InterpolationMode enum.\n",
      "  warnings.warn(\n",
      "/opt/conda/lib/python3.10/site-packages/torchvision/transforms/transforms.py:329: UserWarning: Argument 'interpolation' of type int is deprecated since 0.13 and will be removed in 0.15. Please use InterpolationMode enum.\n",
      "  warnings.warn(\n",
      "/opt/conda/lib/python3.10/site-packages/torchvision/transforms/transforms.py:329: UserWarning: Argument 'interpolation' of type int is deprecated since 0.13 and will be removed in 0.15. Please use InterpolationMode enum.\n",
      "  warnings.warn(\n",
      "/opt/conda/lib/python3.10/site-packages/torchvision/transforms/transforms.py:329: UserWarning: Argument 'interpolation' of type int is deprecated since 0.13 and will be removed in 0.15. Please use InterpolationMode enum.\n",
      "  warnings.warn(\n",
      "/opt/conda/lib/python3.10/site-packages/torchvision/transforms/transforms.py:329: UserWarning: Argument 'interpolation' of type int is deprecated since 0.13 and will be removed in 0.15. Please use InterpolationMode enum.\n",
      "  warnings.warn(\n",
      "/opt/conda/lib/python3.10/site-packages/torchvision/transforms/transforms.py:329: UserWarning: Argument 'interpolation' of type int is deprecated since 0.13 and will be removed in 0.15. Please use InterpolationMode enum.\n",
      "  warnings.warn(\n",
      "/opt/conda/lib/python3.10/site-packages/torchvision/transforms/transforms.py:329: UserWarning: Argument 'interpolation' of type int is deprecated since 0.13 and will be removed in 0.15. Please use InterpolationMode enum.\n",
      "  warnings.warn(\n",
      "/opt/conda/lib/python3.10/site-packages/torchvision/transforms/transforms.py:329: UserWarning: Argument 'interpolation' of type int is deprecated since 0.13 and will be removed in 0.15. Please use InterpolationMode enum.\n",
      "  warnings.warn(\n",
      "/opt/conda/lib/python3.10/site-packages/torchvision/transforms/transforms.py:329: UserWarning: Argument 'interpolation' of type int is deprecated since 0.13 and will be removed in 0.15. Please use InterpolationMode enum.\n",
      "  warnings.warn(\n",
      "/opt/conda/lib/python3.10/site-packages/torchvision/transforms/transforms.py:329: UserWarning: Argument 'interpolation' of type int is deprecated since 0.13 and will be removed in 0.15. Please use InterpolationMode enum.\n",
      "  warnings.warn(\n",
      "/opt/conda/lib/python3.10/site-packages/torchvision/transforms/transforms.py:329: UserWarning: Argument 'interpolation' of type int is deprecated since 0.13 and will be removed in 0.15. Please use InterpolationMode enum.\n",
      "  warnings.warn(\n",
      "/opt/conda/lib/python3.10/site-packages/torchvision/transforms/transforms.py:329: UserWarning: Argument 'interpolation' of type int is deprecated since 0.13 and will be removed in 0.15. Please use InterpolationMode enum.\n",
      "  warnings.warn(\n",
      "/opt/conda/lib/python3.10/site-packages/torchvision/transforms/transforms.py:329: UserWarning: Argument 'interpolation' of type int is deprecated since 0.13 and will be removed in 0.15. Please use InterpolationMode enum.\n",
      "  warnings.warn(\n",
      "/opt/conda/lib/python3.10/site-packages/torchvision/transforms/transforms.py:329: UserWarning: Argument 'interpolation' of type int is deprecated since 0.13 and will be removed in 0.15. Please use InterpolationMode enum.\n",
      "  warnings.warn(\n",
      "/opt/conda/lib/python3.10/site-packages/torchvision/transforms/transforms.py:329: UserWarning: Argument 'interpolation' of type int is deprecated since 0.13 and will be removed in 0.15. Please use InterpolationMode enum.\n",
      "  warnings.warn(\n",
      "  4%|▎         | 200/5352 [01:13<30:15,  2.84it/s]"
     ]
    },
    {
     "name": "stdout",
     "output_type": "stream",
     "text": [
      "{'FullBody': {'All': 135.60897827148438, 'UpperStretching': 135.3595733642578, 'Walking': 137.51063537597656, 'LowerStretching': 144.51583862304688, 'Gaming': 135.18075561523438, 'Reacting': 127.12955474853516, 'Talking': 113.19210052490234, 'Gesticuling': 103.94134521484375, 'Patting': 117.50647735595703, 'Greeting': 106.03522491455078}, 'UpperBody': {'All': 121.03781127929688, 'UpperStretching': 128.4193115234375, 'Walking': 116.55289459228516, 'LowerStretching': 105.30250549316406, 'Gaming': 123.30779266357422, 'Reacting': 120.14730072021484, 'Talking': 120.52569580078125, 'Gesticuling': 97.6396255493164, 'Patting': 114.11038208007812, 'Greeting': 106.47151184082031}, 'LowerBody': {'All': 150.1801300048828, 'UpperStretching': 142.2998504638672, 'Walking': 158.4683837890625, 'LowerStretching': 183.72915649414062, 'Gaming': 147.0537109375, 'Reacting': 134.11178588867188, 'Talking': 105.85850524902344, 'Gesticuling': 110.24303436279297, 'Patting': 120.9025650024414, 'Greeting': 105.59891510009766}}\n"
     ]
    },
    {
     "name": "stderr",
     "output_type": "stream",
     "text": [
      "  7%|▋         | 400/5352 [02:21<28:22,  2.91it/s]"
     ]
    },
    {
     "name": "stdout",
     "output_type": "stream",
     "text": [
      "{'FullBody': {'All': 135.6437530517578, 'UpperStretching': 134.91641235351562, 'Walking': 139.2099609375, 'LowerStretching': 145.64096069335938, 'Gaming': 130.27963256835938, 'Reacting': 129.21554565429688, 'Talking': 109.53516387939453, 'Gesticuling': 104.03502655029297, 'Patting': 129.0193328857422, 'Greeting': 107.68550872802734}, 'UpperBody': {'All': 121.44739532470703, 'UpperStretching': 128.76324462890625, 'Walking': 116.8006591796875, 'LowerStretching': 105.22743225097656, 'Gaming': 117.6263198852539, 'Reacting': 121.77046203613281, 'Talking': 115.72122192382812, 'Gesticuling': 101.37936401367188, 'Patting': 119.5633773803711, 'Greeting': 105.12821960449219}, 'LowerBody': {'All': 149.84010314941406, 'UpperStretching': 141.06959533691406, 'Walking': 161.61923217773438, 'LowerStretching': 186.05450439453125, 'Gaming': 142.93292236328125, 'Reacting': 136.66064453125, 'Talking': 103.34909057617188, 'Gesticuling': 106.690673828125, 'Patting': 138.4752655029297, 'Greeting': 110.2427978515625}}\n"
     ]
    },
    {
     "name": "stderr",
     "output_type": "stream",
     "text": [
      " 11%|█         | 600/5352 [03:30<27:11,  2.91it/s]"
     ]
    },
    {
     "name": "stdout",
     "output_type": "stream",
     "text": [
      "{'FullBody': {'All': 135.87449645996094, 'UpperStretching': 135.48580932617188, 'Walking': 140.3601837158203, 'LowerStretching': 144.1551513671875, 'Gaming': 130.65370178222656, 'Reacting': 129.96441650390625, 'Talking': 109.63639068603516, 'Gesticuling': 103.3694839477539, 'Patting': 131.1406707763672, 'Greeting': 106.21105194091797}, 'UpperBody': {'All': 121.4466552734375, 'UpperStretching': 128.81031799316406, 'Walking': 116.97258758544922, 'LowerStretching': 104.8631362915039, 'Gaming': 116.92524719238281, 'Reacting': 123.62189483642578, 'Talking': 113.80706787109375, 'Gesticuling': 100.43183135986328, 'Patting': 120.3450698852539, 'Greeting': 105.45468139648438}, 'LowerBody': {'All': 150.30233764648438, 'UpperStretching': 142.1613006591797, 'Walking': 163.7477569580078, 'LowerStretching': 183.4471893310547, 'Gaming': 144.38217163085938, 'Reacting': 136.30694580078125, 'Talking': 105.46571350097656, 'Gesticuling': 106.30713653564453, 'Patting': 141.93629455566406, 'Greeting': 106.96743774414062}}\n"
     ]
    },
    {
     "name": "stderr",
     "output_type": "stream",
     "text": [
      " 15%|█▍        | 800/5352 [04:39<26:21,  2.88it/s]"
     ]
    },
    {
     "name": "stdout",
     "output_type": "stream",
     "text": [
      "{'FullBody': {'All': 135.94883728027344, 'UpperStretching': 135.88705444335938, 'Walking': 138.63595581054688, 'LowerStretching': 144.04751586914062, 'Gaming': 131.10606384277344, 'Reacting': 128.97930908203125, 'Talking': 108.87071228027344, 'Gesticuling': 103.97604370117188, 'Patting': 134.043212890625, 'Greeting': 107.18997955322266}, 'UpperBody': {'All': 121.50944519042969, 'UpperStretching': 129.07742309570312, 'Walking': 115.93505859375, 'LowerStretching': 104.41897583007812, 'Gaming': 116.44953155517578, 'Reacting': 123.29362487792969, 'Talking': 112.83043670654297, 'Gesticuling': 101.8990478515625, 'Patting': 122.85770416259766, 'Greeting': 106.6092758178711}, 'LowerBody': {'All': 150.38824462890625, 'UpperStretching': 142.6967010498047, 'Walking': 161.33685302734375, 'LowerStretching': 183.67604064941406, 'Gaming': 145.76258850097656, 'Reacting': 134.66502380371094, 'Talking': 104.91099548339844, 'Gesticuling': 106.05303192138672, 'Patting': 145.22872924804688, 'Greeting': 107.77068328857422}}\n"
     ]
    },
    {
     "name": "stderr",
     "output_type": "stream",
     "text": [
      " 19%|█▊        | 1000/5352 [05:48<24:58,  2.90it/s]"
     ]
    },
    {
     "name": "stdout",
     "output_type": "stream",
     "text": [
      "{'FullBody': {'All': 136.0022430419922, 'UpperStretching': 135.7899932861328, 'Walking': 139.7531280517578, 'LowerStretching': 144.01077270507812, 'Gaming': 131.26873779296875, 'Reacting': 128.77969360351562, 'Talking': 109.18253326416016, 'Gesticuling': 104.15090942382812, 'Patting': 133.1227264404297, 'Greeting': 106.20003509521484}, 'UpperBody': {'All': 121.62445068359375, 'UpperStretching': 129.18423461914062, 'Walking': 116.4478988647461, 'LowerStretching': 104.4112777709961, 'Gaming': 115.62442779541016, 'Reacting': 123.50990295410156, 'Talking': 113.0080795288086, 'Gesticuling': 102.36074829101562, 'Patting': 122.77889251708984, 'Greeting': 106.11544799804688}, 'LowerBody': {'All': 150.38006591796875, 'UpperStretching': 142.39578247070312, 'Walking': 163.058349609375, 'LowerStretching': 183.61026000976562, 'Gaming': 146.9130401611328, 'Reacting': 134.0494842529297, 'Talking': 105.35698699951172, 'Gesticuling': 105.9410629272461, 'Patting': 143.46652221679688, 'Greeting': 106.28463745117188}}\n"
     ]
    },
    {
     "name": "stderr",
     "output_type": "stream",
     "text": [
      " 22%|██▏       | 1200/5352 [06:57<24:50,  2.79it/s]"
     ]
    },
    {
     "name": "stdout",
     "output_type": "stream",
     "text": [
      "{'FullBody': {'All': 135.87786865234375, 'UpperStretching': 135.7830352783203, 'Walking': 138.94056701660156, 'LowerStretching': 144.16522216796875, 'Gaming': 130.117919921875, 'Reacting': 127.9964828491211, 'Talking': 108.28482818603516, 'Gesticuling': 104.60137939453125, 'Patting': 131.63595581054688, 'Greeting': 106.6513671875}, 'UpperBody': {'All': 121.7690200805664, 'UpperStretching': 129.3022918701172, 'Walking': 116.35535430908203, 'LowerStretching': 104.83079528808594, 'Gaming': 115.13600158691406, 'Reacting': 123.41523742675781, 'Talking': 112.64175415039062, 'Gesticuling': 102.80939483642578, 'Patting': 121.9117202758789, 'Greeting': 106.34796905517578}, 'LowerBody': {'All': 149.9867401123047, 'UpperStretching': 142.26382446289062, 'Walking': 161.5257568359375, 'LowerStretching': 183.49964904785156, 'Gaming': 145.099853515625, 'Reacting': 132.5777130126953, 'Talking': 103.92790222167969, 'Gesticuling': 106.39336395263672, 'Patting': 141.36016845703125, 'Greeting': 106.95478820800781}}\n"
     ]
    },
    {
     "name": "stderr",
     "output_type": "stream",
     "text": [
      " 26%|██▌       | 1400/5352 [08:06<22:52,  2.88it/s]"
     ]
    },
    {
     "name": "stdout",
     "output_type": "stream",
     "text": [
      "{'FullBody': {'All': 135.7580108642578, 'UpperStretching': 135.5755615234375, 'Walking': 138.80282592773438, 'LowerStretching': 144.4685516357422, 'Gaming': 129.4695587158203, 'Reacting': 128.63929748535156, 'Talking': 108.13569641113281, 'Gesticuling': 104.48561096191406, 'Patting': 131.55799865722656, 'Greeting': 106.25799560546875}, 'UpperBody': {'All': 121.6910400390625, 'UpperStretching': 129.120849609375, 'Walking': 116.55767822265625, 'LowerStretching': 104.8842544555664, 'Gaming': 114.87554168701172, 'Reacting': 123.77603912353516, 'Talking': 111.89694213867188, 'Gesticuling': 103.23174285888672, 'Patting': 122.26651763916016, 'Greeting': 105.95496368408203}, 'LowerBody': {'All': 149.82498168945312, 'UpperStretching': 142.03028869628906, 'Walking': 161.04794311523438, 'LowerStretching': 184.05284118652344, 'Gaming': 144.06358337402344, 'Reacting': 133.50254821777344, 'Talking': 104.37442779541016, 'Gesticuling': 105.73946380615234, 'Patting': 140.84945678710938, 'Greeting': 106.56101989746094}}\n"
     ]
    },
    {
     "name": "stderr",
     "output_type": "stream",
     "text": [
      " 30%|██▉       | 1600/5352 [09:15<21:47,  2.87it/s]"
     ]
    },
    {
     "name": "stdout",
     "output_type": "stream",
     "text": [
      "{'FullBody': {'All': 135.71481323242188, 'UpperStretching': 135.54457092285156, 'Walking': 138.8699951171875, 'LowerStretching': 144.12220764160156, 'Gaming': 129.48260498046875, 'Reacting': 130.54586791992188, 'Talking': 108.51943969726562, 'Gesticuling': 104.09243774414062, 'Patting': 130.7563934326172, 'Greeting': 105.6844253540039}, 'UpperBody': {'All': 121.61486053466797, 'UpperStretching': 129.0507354736328, 'Walking': 116.62342071533203, 'LowerStretching': 104.4606704711914, 'Gaming': 114.5478515625, 'Reacting': 125.31566619873047, 'Talking': 112.28275299072266, 'Gesticuling': 102.69172668457031, 'Patting': 121.8006362915039, 'Greeting': 106.06390380859375}, 'LowerBody': {'All': 149.81480407714844, 'UpperStretching': 142.03842163085938, 'Walking': 161.11656188964844, 'LowerStretching': 183.78375244140625, 'Gaming': 144.41734313964844, 'Reacting': 135.77606201171875, 'Talking': 104.75614929199219, 'Gesticuling': 105.49315643310547, 'Patting': 139.71214294433594, 'Greeting': 105.30493927001953}}\n"
     ]
    },
    {
     "name": "stderr",
     "output_type": "stream",
     "text": [
      " 34%|███▎      | 1800/5352 [10:24<20:35,  2.88it/s]"
     ]
    },
    {
     "name": "stdout",
     "output_type": "stream",
     "text": [
      "{'FullBody': {'All': 135.855224609375, 'UpperStretching': 135.70455932617188, 'Walking': 139.02928161621094, 'LowerStretching': 144.2211456298828, 'Gaming': 129.69155883789062, 'Reacting': 130.561279296875, 'Talking': 108.27519226074219, 'Gesticuling': 104.13048553466797, 'Patting': 131.35313415527344, 'Greeting': 106.32304382324219}, 'UpperBody': {'All': 121.7578353881836, 'UpperStretching': 129.1722412109375, 'Walking': 116.73468017578125, 'LowerStretching': 104.67532348632812, 'Gaming': 114.73674011230469, 'Reacting': 125.16289520263672, 'Talking': 111.97371673583984, 'Gesticuling': 102.82869720458984, 'Patting': 121.9486083984375, 'Greeting': 106.22673797607422}, 'LowerBody': {'All': 149.95263671875, 'UpperStretching': 142.23690795898438, 'Walking': 161.32386779785156, 'LowerStretching': 183.7669677734375, 'Gaming': 144.6464080810547, 'Reacting': 135.9596710205078, 'Talking': 104.57665252685547, 'Gesticuling': 105.4322738647461, 'Patting': 140.75765991210938, 'Greeting': 106.41936492919922}}\n"
     ]
    },
    {
     "name": "stderr",
     "output_type": "stream",
     "text": [
      " 37%|███▋      | 2000/5352 [11:34<19:26,  2.87it/s]"
     ]
    },
    {
     "name": "stdout",
     "output_type": "stream",
     "text": [
      "{'FullBody': {'All': 135.7862091064453, 'UpperStretching': 135.7820281982422, 'Walking': 139.06924438476562, 'LowerStretching': 143.73541259765625, 'Gaming': 129.04974365234375, 'Reacting': 130.20335388183594, 'Talking': 108.62095642089844, 'Gesticuling': 104.4500503540039, 'Patting': 131.30636596679688, 'Greeting': 106.51998138427734}, 'UpperBody': {'All': 121.8753662109375, 'UpperStretching': 129.3358612060547, 'Walking': 116.8080825805664, 'LowerStretching': 104.66523742675781, 'Gaming': 114.04988098144531, 'Reacting': 124.81322479248047, 'Talking': 112.2988052368164, 'Gesticuling': 103.51750183105469, 'Patting': 122.50308227539062, 'Greeting': 106.70018768310547}, 'LowerBody': {'All': 149.69708251953125, 'UpperStretching': 142.2281951904297, 'Walking': 161.3303985595703, 'LowerStretching': 182.80557250976562, 'Gaming': 144.04962158203125, 'Reacting': 135.59347534179688, 'Talking': 104.94312286376953, 'Gesticuling': 105.3825912475586, 'Patting': 140.1096649169922, 'Greeting': 106.33976745605469}}\n"
     ]
    },
    {
     "name": "stderr",
     "output_type": "stream",
     "text": [
      " 41%|████      | 2200/5352 [12:43<18:21,  2.86it/s]"
     ]
    },
    {
     "name": "stdout",
     "output_type": "stream",
     "text": [
      "{'FullBody': {'All': 135.7522430419922, 'UpperStretching': 135.75558471679688, 'Walking': 139.1685333251953, 'LowerStretching': 143.5530548095703, 'Gaming': 128.7588653564453, 'Reacting': 130.5936279296875, 'Talking': 108.64104461669922, 'Gesticuling': 105.43426513671875, 'Patting': 131.1708984375, 'Greeting': 105.9591064453125}, 'UpperBody': {'All': 121.88665008544922, 'UpperStretching': 129.36343383789062, 'Walking': 116.94322967529297, 'LowerStretching': 104.48615264892578, 'Gaming': 113.53434753417969, 'Reacting': 125.2445297241211, 'Talking': 112.7953872680664, 'Gesticuling': 104.12764739990234, 'Patting': 122.37212371826172, 'Greeting': 105.9074478149414}, 'LowerBody': {'All': 149.61790466308594, 'UpperStretching': 142.14773559570312, 'Walking': 161.39382934570312, 'LowerStretching': 182.61993408203125, 'Gaming': 143.9833984375, 'Reacting': 135.94273376464844, 'Talking': 104.48668670654297, 'Gesticuling': 106.74088287353516, 'Patting': 139.96969604492188, 'Greeting': 106.0107421875}}\n"
     ]
    },
    {
     "name": "stderr",
     "output_type": "stream",
     "text": [
      " 45%|████▍     | 2400/5352 [13:52<17:09,  2.87it/s]"
     ]
    },
    {
     "name": "stdout",
     "output_type": "stream",
     "text": [
      "{'FullBody': {'All': 135.6289825439453, 'UpperStretching': 135.64476013183594, 'Walking': 139.1324920654297, 'LowerStretching': 143.25424194335938, 'Gaming': 128.2777557373047, 'Reacting': 130.46900939941406, 'Talking': 108.24720001220703, 'Gesticuling': 105.66673278808594, 'Patting': 132.2563018798828, 'Greeting': 105.76716613769531}, 'UpperBody': {'All': 121.83026123046875, 'UpperStretching': 129.33412170410156, 'Walking': 116.97509002685547, 'LowerStretching': 104.35972595214844, 'Gaming': 113.2235107421875, 'Reacting': 124.95974731445312, 'Talking': 112.60456848144531, 'Gesticuling': 104.22811126708984, 'Patting': 122.3143081665039, 'Greeting': 106.09840393066406}, 'LowerBody': {'All': 149.42776489257812, 'UpperStretching': 141.95542907714844, 'Walking': 161.28990173339844, 'LowerStretching': 182.1487579345703, 'Gaming': 143.33200073242188, 'Reacting': 135.978271484375, 'Talking': 103.88982391357422, 'Gesticuling': 107.1053695678711, 'Patting': 142.1982879638672, 'Greeting': 105.4359359741211}}\n"
     ]
    },
    {
     "name": "stderr",
     "output_type": "stream",
     "text": [
      " 49%|████▊     | 2600/5352 [15:01<16:00,  2.86it/s]"
     ]
    },
    {
     "name": "stdout",
     "output_type": "stream",
     "text": [
      "{'FullBody': {'All': 135.59046936035156, 'UpperStretching': 135.61122131347656, 'Walking': 139.05828857421875, 'LowerStretching': 143.28785705566406, 'Gaming': 128.74729919433594, 'Reacting': 130.17173767089844, 'Talking': 107.86817169189453, 'Gesticuling': 105.91639709472656, 'Patting': 131.0888214111328, 'Greeting': 105.6989517211914}, 'UpperBody': {'All': 121.86042022705078, 'UpperStretching': 129.343017578125, 'Walking': 116.97808837890625, 'LowerStretching': 104.49421691894531, 'Gaming': 113.42285919189453, 'Reacting': 124.87592315673828, 'Talking': 112.0806655883789, 'Gesticuling': 104.54375457763672, 'Patting': 121.7834243774414, 'Greeting': 106.12103271484375}, 'LowerBody': {'All': 149.32054138183594, 'UpperStretching': 141.87942504882812, 'Walking': 161.1385040283203, 'LowerStretching': 182.0814666748047, 'Gaming': 144.0717315673828, 'Reacting': 135.4675750732422, 'Talking': 103.65570068359375, 'Gesticuling': 107.2890396118164, 'Patting': 140.3942108154297, 'Greeting': 105.27685546875}}\n"
     ]
    },
    {
     "name": "stderr",
     "output_type": "stream",
     "text": [
      " 52%|█████▏    | 2800/5352 [16:10<14:53,  2.86it/s]"
     ]
    },
    {
     "name": "stdout",
     "output_type": "stream",
     "text": [
      "{'FullBody': {'All': 135.6102752685547, 'UpperStretching': 135.65830993652344, 'Walking': 138.8342742919922, 'LowerStretching': 143.386474609375, 'Gaming': 128.80101013183594, 'Reacting': 129.8247833251953, 'Talking': 107.74369812011719, 'Gesticuling': 105.80187225341797, 'Patting': 131.5049285888672, 'Greeting': 105.88960266113281}, 'UpperBody': {'All': 121.81466674804688, 'UpperStretching': 129.3236846923828, 'Walking': 116.82019805908203, 'LowerStretching': 104.512939453125, 'Gaming': 113.41621398925781, 'Reacting': 124.64028930664062, 'Talking': 111.96599578857422, 'Gesticuling': 104.38220977783203, 'Patting': 121.91668701171875, 'Greeting': 106.13723754882812}, 'LowerBody': {'All': 149.40589904785156, 'UpperStretching': 141.99293518066406, 'Walking': 160.84835815429688, 'LowerStretching': 182.25999450683594, 'Gaming': 144.18580627441406, 'Reacting': 135.00927734375, 'Talking': 103.52140045166016, 'Gesticuling': 107.2215347290039, 'Patting': 141.09315490722656, 'Greeting': 105.64198303222656}}\n"
     ]
    },
    {
     "name": "stderr",
     "output_type": "stream",
     "text": [
      " 56%|█████▌    | 3000/5352 [17:19<13:41,  2.86it/s]"
     ]
    },
    {
     "name": "stdout",
     "output_type": "stream",
     "text": [
      "{'FullBody': {'All': 135.72332763671875, 'UpperStretching': 135.82626342773438, 'Walking': 138.8265380859375, 'LowerStretching': 143.37574768066406, 'Gaming': 128.31805419921875, 'Reacting': 129.95347595214844, 'Talking': 108.20210266113281, 'Gesticuling': 105.81640625, 'Patting': 131.9374542236328, 'Greeting': 105.8575668334961}, 'UpperBody': {'All': 121.87745666503906, 'UpperStretching': 129.3446502685547, 'Walking': 116.7120361328125, 'LowerStretching': 104.62846374511719, 'Gaming': 113.33030700683594, 'Reacting': 124.8544692993164, 'Talking': 112.2159652709961, 'Gesticuling': 104.54576873779297, 'Patting': 122.5943374633789, 'Greeting': 106.19478607177734}, 'LowerBody': {'All': 149.5692138671875, 'UpperStretching': 142.30787658691406, 'Walking': 160.94102478027344, 'LowerStretching': 182.123046875, 'Gaming': 143.30580139160156, 'Reacting': 135.05247497558594, 'Talking': 104.18824005126953, 'Gesticuling': 107.08704376220703, 'Patting': 141.28057861328125, 'Greeting': 105.52037048339844}}\n"
     ]
    },
    {
     "name": "stderr",
     "output_type": "stream",
     "text": [
      " 60%|█████▉    | 3200/5352 [18:28<12:35,  2.85it/s]"
     ]
    },
    {
     "name": "stdout",
     "output_type": "stream",
     "text": [
      "{'FullBody': {'All': 135.62806701660156, 'UpperStretching': 135.68020629882812, 'Walking': 138.822265625, 'LowerStretching': 143.3323974609375, 'Gaming': 128.128662109375, 'Reacting': 130.1209259033203, 'Talking': 108.09749603271484, 'Gesticuling': 105.6550521850586, 'Patting': 132.42868041992188, 'Greeting': 105.82440185546875}, 'UpperBody': {'All': 121.84886932373047, 'UpperStretching': 129.33526611328125, 'Walking': 116.82696533203125, 'LowerStretching': 104.51211547851562, 'Gaming': 112.74472045898438, 'Reacting': 124.88973236083984, 'Talking': 112.3281021118164, 'Gesticuling': 104.33920288085938, 'Patting': 122.51213073730469, 'Greeting': 106.2950668334961}, 'LowerBody': {'All': 149.40728759765625, 'UpperStretching': 142.025146484375, 'Walking': 160.8175506591797, 'LowerStretching': 182.15269470214844, 'Gaming': 143.51260375976562, 'Reacting': 135.3521270751953, 'Talking': 103.86688995361328, 'Gesticuling': 106.97087860107422, 'Patting': 142.34524536132812, 'Greeting': 105.3537368774414}}\n"
     ]
    },
    {
     "name": "stderr",
     "output_type": "stream",
     "text": [
      " 64%|██████▎   | 3400/5352 [19:37<11:24,  2.85it/s]"
     ]
    },
    {
     "name": "stdout",
     "output_type": "stream",
     "text": [
      "{'FullBody': {'All': 135.59121704101562, 'UpperStretching': 135.6456756591797, 'Walking': 138.81507873535156, 'LowerStretching': 143.30979919433594, 'Gaming': 128.0721435546875, 'Reacting': 130.1256103515625, 'Talking': 108.27672576904297, 'Gesticuling': 105.3885726928711, 'Patting': 132.23377990722656, 'Greeting': 105.63980865478516}, 'UpperBody': {'All': 121.84390258789062, 'UpperStretching': 129.28187561035156, 'Walking': 117.02149200439453, 'LowerStretching': 104.52659606933594, 'Gaming': 112.74027252197266, 'Reacting': 125.05400085449219, 'Talking': 112.50856018066406, 'Gesticuling': 104.23590850830078, 'Patting': 121.94967651367188, 'Greeting': 106.28025817871094}, 'LowerBody': {'All': 149.33856201171875, 'UpperStretching': 142.00946044921875, 'Walking': 160.60865783691406, 'LowerStretching': 182.09300231933594, 'Gaming': 143.40402221679688, 'Reacting': 135.1972198486328, 'Talking': 104.04487609863281, 'Gesticuling': 106.54124450683594, 'Patting': 142.51788330078125, 'Greeting': 104.99935150146484}}\n"
     ]
    },
    {
     "name": "stderr",
     "output_type": "stream",
     "text": [
      " 67%|██████▋   | 3600/5352 [20:46<10:16,  2.84it/s]"
     ]
    },
    {
     "name": "stdout",
     "output_type": "stream",
     "text": [
      "{'FullBody': {'All': 135.6116943359375, 'UpperStretching': 135.63880920410156, 'Walking': 138.80751037597656, 'LowerStretching': 143.3310546875, 'Gaming': 128.33453369140625, 'Reacting': 130.55458068847656, 'Talking': 108.48413848876953, 'Gesticuling': 105.584716796875, 'Patting': 131.92051696777344, 'Greeting': 105.34185028076172}, 'UpperBody': {'All': 121.86361694335938, 'UpperStretching': 129.24356079101562, 'Walking': 117.10453796386719, 'LowerStretching': 104.53947448730469, 'Gaming': 112.98979949951172, 'Reacting': 125.3396224975586, 'Talking': 112.90424346923828, 'Gesticuling': 104.56027221679688, 'Patting': 121.72508239746094, 'Greeting': 106.17364501953125}, 'LowerBody': {'All': 149.35977172851562, 'UpperStretching': 142.03407287597656, 'Walking': 160.510498046875, 'LowerStretching': 182.12265014648438, 'Gaming': 143.6792449951172, 'Reacting': 135.76953125, 'Talking': 104.06402587890625, 'Gesticuling': 106.60916900634766, 'Patting': 142.11595153808594, 'Greeting': 104.51006317138672}}\n"
     ]
    },
    {
     "name": "stderr",
     "output_type": "stream",
     "text": [
      " 71%|███████   | 3800/5352 [21:56<09:04,  2.85it/s]"
     ]
    },
    {
     "name": "stdout",
     "output_type": "stream",
     "text": [
      "{'FullBody': {'All': 135.62777709960938, 'UpperStretching': 135.6582794189453, 'Walking': 138.58998107910156, 'LowerStretching': 143.5357666015625, 'Gaming': 127.78853607177734, 'Reacting': 130.5917510986328, 'Talking': 108.48887634277344, 'Gesticuling': 105.5263900756836, 'Patting': 131.65000915527344, 'Greeting': 105.34876251220703}, 'UpperBody': {'All': 121.82530212402344, 'UpperStretching': 129.1969757080078, 'Walking': 117.07169342041016, 'LowerStretching': 104.64964294433594, 'Gaming': 112.36792755126953, 'Reacting': 125.32892608642578, 'Talking': 112.9388656616211, 'Gesticuling': 104.44241333007812, 'Patting': 121.4742431640625, 'Greeting': 106.33283996582031}, 'LowerBody': {'All': 149.43026733398438, 'UpperStretching': 142.11956787109375, 'Walking': 160.10826110839844, 'LowerStretching': 182.421875, 'Gaming': 143.2091827392578, 'Reacting': 135.8545684814453, 'Talking': 104.03888702392578, 'Gesticuling': 106.61034393310547, 'Patting': 141.82579040527344, 'Greeting': 104.36467742919922}}\n"
     ]
    },
    {
     "name": "stderr",
     "output_type": "stream",
     "text": [
      " 75%|███████▍  | 4000/5352 [23:05<07:56,  2.84it/s]"
     ]
    },
    {
     "name": "stdout",
     "output_type": "stream",
     "text": [
      "{'FullBody': {'All': 135.5565185546875, 'UpperStretching': 135.595947265625, 'Walking': 138.58297729492188, 'LowerStretching': 143.46307373046875, 'Gaming': 127.34185791015625, 'Reacting': 130.62091064453125, 'Talking': 108.29902648925781, 'Gesticuling': 105.57701873779297, 'Patting': 131.36021423339844, 'Greeting': 105.39179229736328}, 'UpperBody': {'All': 121.78678894042969, 'UpperStretching': 129.16139221191406, 'Walking': 117.03672790527344, 'LowerStretching': 104.65168762207031, 'Gaming': 112.09579467773438, 'Reacting': 125.25889587402344, 'Talking': 112.94395446777344, 'Gesticuling': 104.33415985107422, 'Patting': 121.3089599609375, 'Greeting': 106.26220703125}, 'LowerBody': {'All': 149.32623291015625, 'UpperStretching': 142.03048706054688, 'Walking': 160.1292266845703, 'LowerStretching': 182.27444458007812, 'Gaming': 142.5879364013672, 'Reacting': 135.98292541503906, 'Talking': 103.65410614013672, 'Gesticuling': 106.81986236572266, 'Patting': 141.4114532470703, 'Greeting': 104.52137756347656}}\n"
     ]
    },
    {
     "name": "stderr",
     "output_type": "stream",
     "text": [
      " 78%|███████▊  | 4200/5352 [24:14<06:45,  2.84it/s]"
     ]
    },
    {
     "name": "stdout",
     "output_type": "stream",
     "text": [
      "{'FullBody': {'All': 135.4986572265625, 'UpperStretching': 135.5259246826172, 'Walking': 138.5520477294922, 'LowerStretching': 143.39170837402344, 'Gaming': 127.36727142333984, 'Reacting': 130.33981323242188, 'Talking': 108.27012634277344, 'Gesticuling': 105.67083740234375, 'Patting': 131.56092834472656, 'Greeting': 105.36595153808594}, 'UpperBody': {'All': 121.75421142578125, 'UpperStretching': 129.1212921142578, 'Walking': 117.05535125732422, 'LowerStretching': 104.67817687988281, 'Gaming': 112.1194839477539, 'Reacting': 125.04750061035156, 'Talking': 112.95999908447266, 'Gesticuling': 104.48855590820312, 'Patting': 121.18839263916016, 'Greeting': 106.1039810180664}, 'LowerBody': {'All': 149.2430877685547, 'UpperStretching': 141.93055725097656, 'Walking': 160.04873657226562, 'LowerStretching': 182.10525512695312, 'Gaming': 142.6150360107422, 'Reacting': 135.63214111328125, 'Talking': 103.58025360107422, 'Gesticuling': 106.85311889648438, 'Patting': 141.9334716796875, 'Greeting': 104.6279296875}}\n"
     ]
    },
    {
     "name": "stderr",
     "output_type": "stream",
     "text": [
      " 82%|████████▏ | 4400/5352 [25:23<05:37,  2.82it/s]"
     ]
    },
    {
     "name": "stdout",
     "output_type": "stream",
     "text": [
      "{'FullBody': {'All': 135.52003479003906, 'UpperStretching': 135.60061645507812, 'Walking': 138.54080200195312, 'LowerStretching': 143.17625427246094, 'Gaming': 127.25445556640625, 'Reacting': 130.4111328125, 'Talking': 108.3613510131836, 'Gesticuling': 105.66105651855469, 'Patting': 132.13746643066406, 'Greeting': 105.41246032714844}, 'UpperBody': {'All': 121.81050872802734, 'UpperStretching': 129.23898315429688, 'Walking': 117.09308624267578, 'LowerStretching': 104.53874206542969, 'Gaming': 111.91085052490234, 'Reacting': 125.13463592529297, 'Talking': 112.94747161865234, 'Gesticuling': 104.43540954589844, 'Patting': 121.42033386230469, 'Greeting': 106.22027587890625}, 'LowerBody': {'All': 149.22952270507812, 'UpperStretching': 141.96221923828125, 'Walking': 159.988525390625, 'LowerStretching': 181.81373596191406, 'Gaming': 142.5980682373047, 'Reacting': 135.6876220703125, 'Talking': 103.77523040771484, 'Gesticuling': 106.88670349121094, 'Patting': 142.85459899902344, 'Greeting': 104.60465240478516}}\n"
     ]
    },
    {
     "name": "stderr",
     "output_type": "stream",
     "text": [
      " 86%|████████▌ | 4600/5352 [26:32<04:25,  2.84it/s]"
     ]
    },
    {
     "name": "stdout",
     "output_type": "stream",
     "text": [
      "{'FullBody': {'All': 135.5574493408203, 'UpperStretching': 135.65896606445312, 'Walking': 138.581787109375, 'LowerStretching': 143.18699645996094, 'Gaming': 127.4301528930664, 'Reacting': 130.26763916015625, 'Talking': 108.52638244628906, 'Gesticuling': 105.55096435546875, 'Patting': 131.84365844726562, 'Greeting': 105.39381408691406}, 'UpperBody': {'All': 121.82711791992188, 'UpperStretching': 129.26141357421875, 'Walking': 117.07167053222656, 'LowerStretching': 104.5630874633789, 'Gaming': 112.01419067382812, 'Reacting': 125.0615234375, 'Talking': 113.06632232666016, 'Gesticuling': 104.18917846679688, 'Patting': 121.366943359375, 'Greeting': 106.03621673583984}, 'LowerBody': {'All': 149.2877655029297, 'UpperStretching': 142.05650329589844, 'Walking': 160.09193420410156, 'LowerStretching': 181.8109130859375, 'Gaming': 142.8461151123047, 'Reacting': 135.47372436523438, 'Talking': 103.98643493652344, 'Gesticuling': 106.91275024414062, 'Patting': 142.32040405273438, 'Greeting': 104.75142669677734}}\n"
     ]
    },
    {
     "name": "stderr",
     "output_type": "stream",
     "text": [
      " 90%|████████▉ | 4800/5352 [27:41<03:14,  2.83it/s]"
     ]
    },
    {
     "name": "stdout",
     "output_type": "stream",
     "text": [
      "{'FullBody': {'All': 135.5700225830078, 'UpperStretching': 135.66261291503906, 'Walking': 138.60687255859375, 'LowerStretching': 143.1890411376953, 'Gaming': 127.35384368896484, 'Reacting': 130.34754943847656, 'Talking': 108.39832305908203, 'Gesticuling': 105.51618957519531, 'Patting': 132.0929718017578, 'Greeting': 105.23210144042969}, 'UpperBody': {'All': 121.83592224121094, 'UpperStretching': 129.29519653320312, 'Walking': 117.0604019165039, 'LowerStretching': 104.52291870117188, 'Gaming': 111.94618225097656, 'Reacting': 125.04639434814453, 'Talking': 113.00061798095703, 'Gesticuling': 104.16674041748047, 'Patting': 121.69559478759766, 'Greeting': 105.93415069580078}, 'LowerBody': {'All': 149.30410766601562, 'UpperStretching': 142.02999877929688, 'Walking': 160.15333557128906, 'LowerStretching': 181.8551788330078, 'Gaming': 142.7615203857422, 'Reacting': 135.64869689941406, 'Talking': 103.79602813720703, 'Gesticuling': 106.86563873291016, 'Patting': 142.49034118652344, 'Greeting': 104.53003692626953}}\n"
     ]
    },
    {
     "name": "stderr",
     "output_type": "stream",
     "text": [
      " 93%|█████████▎| 5000/5352 [28:50<02:04,  2.83it/s]"
     ]
    },
    {
     "name": "stdout",
     "output_type": "stream",
     "text": [
      "{'FullBody': {'All': 135.56654357910156, 'UpperStretching': 135.6663360595703, 'Walking': 138.63038635253906, 'LowerStretching': 143.1071014404297, 'Gaming': 127.48617553710938, 'Reacting': 130.31849670410156, 'Talking': 108.43965911865234, 'Gesticuling': 105.37984466552734, 'Patting': 132.5926055908203, 'Greeting': 105.02088928222656}, 'UpperBody': {'All': 121.88128662109375, 'UpperStretching': 129.3370361328125, 'Walking': 117.06459045410156, 'LowerStretching': 104.56278228759766, 'Gaming': 112.08049011230469, 'Reacting': 125.04180908203125, 'Talking': 113.01810455322266, 'Gesticuling': 103.98326873779297, 'Patting': 122.42589569091797, 'Greeting': 105.64500427246094}, 'LowerBody': {'All': 149.2517852783203, 'UpperStretching': 141.99563598632812, 'Walking': 160.19618225097656, 'LowerStretching': 181.65142822265625, 'Gaming': 142.89186096191406, 'Reacting': 135.59519958496094, 'Talking': 103.86121368408203, 'Gesticuling': 106.77643585205078, 'Patting': 142.75930786132812, 'Greeting': 104.39676666259766}}\n"
     ]
    },
    {
     "name": "stderr",
     "output_type": "stream",
     "text": [
      " 97%|█████████▋| 5200/5352 [29:59<00:53,  2.83it/s]"
     ]
    },
    {
     "name": "stdout",
     "output_type": "stream",
     "text": [
      "{'FullBody': {'All': 135.52328491210938, 'UpperStretching': 135.6206817626953, 'Walking': 138.55392456054688, 'LowerStretching': 143.08798217773438, 'Gaming': 127.87764739990234, 'Reacting': 130.43772888183594, 'Talking': 108.21715545654297, 'Gesticuling': 105.27188110351562, 'Patting': 132.50726318359375, 'Greeting': 104.97257232666016}, 'UpperBody': {'All': 121.86802673339844, 'UpperStretching': 129.34390258789062, 'Walking': 117.00157165527344, 'LowerStretching': 104.50813293457031, 'Gaming': 112.42320251464844, 'Reacting': 125.01155090332031, 'Talking': 112.98450469970703, 'Gesticuling': 103.86507415771484, 'Patting': 122.29246520996094, 'Greeting': 105.6907958984375}, 'LowerBody': {'All': 149.17852783203125, 'UpperStretching': 141.89743041992188, 'Walking': 160.1062774658203, 'LowerStretching': 181.66783142089844, 'Gaming': 143.3321075439453, 'Reacting': 135.8638916015625, 'Talking': 103.4498062133789, 'Gesticuling': 106.67868041992188, 'Patting': 142.7220458984375, 'Greeting': 104.25435638427734}}\n"
     ]
    },
    {
     "name": "stderr",
     "output_type": "stream",
     "text": [
      "100%|██████████| 5352/5352 [30:52<00:00,  2.89it/s]\n",
      "\u001b[94m09:40:26 \u001b[92m[INFO]\u001b[94m Main\u001b[0m: Saving evaluation results...\n",
      "\u001b[94m09:40:26 \u001b[92m[INFO]\u001b[94m Main\u001b[0m: Done.\n",
      "\u001b[94m09:40:26 \u001b[92m[INFO]\u001b[94m Main\u001b[0m: Starting demo...\n",
      "  0%|          | 0/5352 [00:00<?, ?it/s]/opt/conda/lib/python3.10/site-packages/torchvision/transforms/transforms.py:329: UserWarning: Argument 'interpolation' of type int is deprecated since 0.13 and will be removed in 0.15. Please use InterpolationMode enum.\n",
      "  warnings.warn(\n",
      "/opt/conda/lib/python3.10/site-packages/torchvision/transforms/transforms.py:329: UserWarning: Argument 'interpolation' of type int is deprecated since 0.13 and will be removed in 0.15. Please use InterpolationMode enum.\n",
      "  warnings.warn(\n",
      "/opt/conda/lib/python3.10/site-packages/torchvision/transforms/transforms.py:329: UserWarning: Argument 'interpolation' of type int is deprecated since 0.13 and will be removed in 0.15. Please use InterpolationMode enum.\n",
      "  warnings.warn(\n",
      "/opt/conda/lib/python3.10/site-packages/torchvision/transforms/transforms.py:329: UserWarning: Argument 'interpolation' of type int is deprecated since 0.13 and will be removed in 0.15. Please use InterpolationMode enum.\n",
      "  warnings.warn(\n",
      "/opt/conda/lib/python3.10/site-packages/torchvision/transforms/transforms.py:329: UserWarning: Argument 'interpolation' of type int is deprecated since 0.13 and will be removed in 0.15. Please use InterpolationMode enum.\n",
      "  warnings.warn(\n",
      "/opt/conda/lib/python3.10/site-packages/torchvision/transforms/transforms.py:329: UserWarning: Argument 'interpolation' of type int is deprecated since 0.13 and will be removed in 0.15. Please use InterpolationMode enum.\n",
      "  warnings.warn(\n",
      "/opt/conda/lib/python3.10/site-packages/torchvision/transforms/transforms.py:329: UserWarning: Argument 'interpolation' of type int is deprecated since 0.13 and will be removed in 0.15. Please use InterpolationMode enum.\n",
      "  warnings.warn(\n",
      "/opt/conda/lib/python3.10/site-packages/torchvision/transforms/transforms.py:329: UserWarning: Argument 'interpolation' of type int is deprecated since 0.13 and will be removed in 0.15. Please use InterpolationMode enum.\n",
      "  warnings.warn(\n",
      "/opt/conda/lib/python3.10/site-packages/torchvision/transforms/transforms.py:329: UserWarning: Argument 'interpolation' of type int is deprecated since 0.13 and will be removed in 0.15. Please use InterpolationMode enum.\n",
      "  warnings.warn(\n",
      "/opt/conda/lib/python3.10/site-packages/torchvision/transforms/transforms.py:329: UserWarning: Argument 'interpolation' of type int is deprecated since 0.13 and will be removed in 0.15. Please use InterpolationMode enum.\n",
      "  warnings.warn(\n",
      "/opt/conda/lib/python3.10/site-packages/torchvision/transforms/transforms.py:329: UserWarning: Argument 'interpolation' of type int is deprecated since 0.13 and will be removed in 0.15. Please use InterpolationMode enum.\n",
      "  warnings.warn(\n",
      "/opt/conda/lib/python3.10/site-packages/torchvision/transforms/transforms.py:329: UserWarning: Argument 'interpolation' of type int is deprecated since 0.13 and will be removed in 0.15. Please use InterpolationMode enum.\n",
      "  warnings.warn(\n",
      "/opt/conda/lib/python3.10/site-packages/torchvision/transforms/transforms.py:329: UserWarning: Argument 'interpolation' of type int is deprecated since 0.13 and will be removed in 0.15. Please use InterpolationMode enum.\n",
      "  warnings.warn(\n",
      "/opt/conda/lib/python3.10/site-packages/torchvision/transforms/transforms.py:329: UserWarning: Argument 'interpolation' of type int is deprecated since 0.13 and will be removed in 0.15. Please use InterpolationMode enum.\n",
      "  warnings.warn(\n",
      "/opt/conda/lib/python3.10/site-packages/torchvision/transforms/transforms.py:329: UserWarning: Argument 'interpolation' of type int is deprecated since 0.13 and will be removed in 0.15. Please use InterpolationMode enum.\n",
      "  warnings.warn(\n",
      "/opt/conda/lib/python3.10/site-packages/torchvision/transforms/transforms.py:329: UserWarning: Argument 'interpolation' of type int is deprecated since 0.13 and will be removed in 0.15. Please use InterpolationMode enum.\n",
      "  warnings.warn(\n",
      "/opt/conda/lib/python3.10/site-packages/torchvision/transforms/transforms.py:329: UserWarning: Argument 'interpolation' of type int is deprecated since 0.13 and will be removed in 0.15. Please use InterpolationMode enum.\n",
      "  warnings.warn(\n",
      "/opt/conda/lib/python3.10/site-packages/torchvision/transforms/transforms.py:329: UserWarning: Argument 'interpolation' of type int is deprecated since 0.13 and will be removed in 0.15. Please use InterpolationMode enum.\n",
      "  warnings.warn(\n",
      "/opt/conda/lib/python3.10/site-packages/torchvision/transforms/transforms.py:329: UserWarning: Argument 'interpolation' of type int is deprecated since 0.13 and will be removed in 0.15. Please use InterpolationMode enum.\n",
      "  warnings.warn(\n",
      "/opt/conda/lib/python3.10/site-packages/torchvision/transforms/transforms.py:329: UserWarning: Argument 'interpolation' of type int is deprecated since 0.13 and will be removed in 0.15. Please use InterpolationMode enum.\n",
      "  warnings.warn(\n",
      "/opt/conda/lib/python3.10/site-packages/torchvision/transforms/transforms.py:329: UserWarning: Argument 'interpolation' of type int is deprecated since 0.13 and will be removed in 0.15. Please use InterpolationMode enum.\n",
      "  warnings.warn(\n",
      "/opt/conda/lib/python3.10/site-packages/torchvision/transforms/transforms.py:329: UserWarning: Argument 'interpolation' of type int is deprecated since 0.13 and will be removed in 0.15. Please use InterpolationMode enum.\n",
      "  warnings.warn(\n",
      "/opt/conda/lib/python3.10/site-packages/torchvision/transforms/transforms.py:329: UserWarning: Argument 'interpolation' of type int is deprecated since 0.13 and will be removed in 0.15. Please use InterpolationMode enum.\n",
      "  warnings.warn(\n",
      "/opt/conda/lib/python3.10/site-packages/torchvision/transforms/transforms.py:329: UserWarning: Argument 'interpolation' of type int is deprecated since 0.13 and will be removed in 0.15. Please use InterpolationMode enum.\n",
      "  warnings.warn(\n",
      "  4%|▎         | 200/5352 [01:13<29:35,  2.90it/s]"
     ]
    },
    {
     "name": "stdout",
     "output_type": "stream",
     "text": [
      "{'FullBody': {'All': 171.4248809814453, 'Patting': 140.60633850097656, 'LowerStretching': 185.38536071777344, 'UpperStretching': 175.6826171875, 'Walking': 168.44082641601562, 'Reacting': 141.34222412109375, 'Talking': 109.50749969482422, 'Greeting': 111.23971557617188, 'Gaming': 132.75149536132812, 'Gesticuling': 118.58271789550781}, 'UpperBody': {'All': 137.80943298339844, 'Patting': 122.53010559082031, 'LowerStretching': 120.38900756835938, 'UpperStretching': 151.27072143554688, 'Walking': 122.26543426513672, 'Reacting': 122.61012268066406, 'Talking': 109.18046569824219, 'Greeting': 104.56175231933594, 'Gaming': 108.99884796142578, 'Gesticuling': 108.07107543945312}, 'LowerBody': {'All': 205.04034423828125, 'Patting': 158.6825408935547, 'LowerStretching': 250.3817138671875, 'UpperStretching': 200.09449768066406, 'Walking': 214.61622619628906, 'Reacting': 160.0743408203125, 'Talking': 109.83454895019531, 'Greeting': 117.91768646240234, 'Gaming': 156.50411987304688, 'Gesticuling': 129.09439086914062}}\n"
     ]
    },
    {
     "name": "stderr",
     "output_type": "stream",
     "text": [
      "  7%|▋         | 400/5352 [02:22<28:28,  2.90it/s]"
     ]
    },
    {
     "name": "stdout",
     "output_type": "stream",
     "text": [
      "{'FullBody': {'All': 171.05030822753906, 'Patting': 136.55523681640625, 'LowerStretching': 180.63084411621094, 'UpperStretching': 176.6840362548828, 'Walking': 169.4955596923828, 'Reacting': 142.3341827392578, 'Talking': 108.47086334228516, 'Greeting': 108.75428009033203, 'Gaming': 137.36805725097656, 'Gesticuling': 118.03987884521484}, 'UpperBody': {'All': 137.86427307128906, 'Patting': 120.75340270996094, 'LowerStretching': 117.9373550415039, 'UpperStretching': 151.69993591308594, 'Walking': 123.2071304321289, 'Reacting': 123.37750244140625, 'Talking': 104.07545471191406, 'Greeting': 100.99162292480469, 'Gaming': 111.33839416503906, 'Gesticuling': 109.4461669921875}, 'LowerBody': {'All': 204.23634338378906, 'Patting': 152.35707092285156, 'LowerStretching': 243.3243408203125, 'UpperStretching': 201.6681365966797, 'Walking': 215.78395080566406, 'Reacting': 161.29086303710938, 'Talking': 112.86629486083984, 'Greeting': 116.5169448852539, 'Gaming': 163.39768981933594, 'Gesticuling': 126.63360595703125}}\n"
     ]
    },
    {
     "name": "stderr",
     "output_type": "stream",
     "text": [
      " 11%|█         | 600/5352 [03:30<27:27,  2.88it/s]"
     ]
    },
    {
     "name": "stdout",
     "output_type": "stream",
     "text": [
      "{'FullBody': {'All': 170.31272888183594, 'Patting': 142.98475646972656, 'LowerStretching': 181.31814575195312, 'UpperStretching': 175.5850830078125, 'Walking': 167.4821014404297, 'Reacting': 141.22694396972656, 'Talking': 106.9734115600586, 'Greeting': 112.62836456298828, 'Gaming': 139.18704223632812, 'Gesticuling': 118.48057556152344}, 'UpperBody': {'All': 137.791259765625, 'Patting': 121.87596893310547, 'LowerStretching': 117.9597396850586, 'UpperStretching': 151.70460510253906, 'Walking': 121.94857788085938, 'Reacting': 123.0606460571289, 'Talking': 102.22747039794922, 'Greeting': 105.14348602294922, 'Gaming': 110.97815704345703, 'Gesticuling': 111.85370635986328}, 'LowerBody': {'All': 202.83419799804688, 'Patting': 164.09353637695312, 'LowerStretching': 244.6765594482422, 'UpperStretching': 199.465576171875, 'Walking': 213.015625, 'Reacting': 159.3932342529297, 'Talking': 111.71932983398438, 'Greeting': 120.11325073242188, 'Gaming': 167.3959197998047, 'Gesticuling': 125.10745239257812}}\n"
     ]
    },
    {
     "name": "stderr",
     "output_type": "stream",
     "text": [
      " 15%|█▍        | 800/5352 [04:40<26:17,  2.89it/s]"
     ]
    },
    {
     "name": "stdout",
     "output_type": "stream",
     "text": [
      "{'FullBody': {'All': 169.92660522460938, 'Patting': 142.29141235351562, 'LowerStretching': 181.9673309326172, 'UpperStretching': 174.7851104736328, 'Walking': 166.80374145507812, 'Reacting': 140.87835693359375, 'Talking': 111.13103485107422, 'Greeting': 109.86004638671875, 'Gaming': 138.71461486816406, 'Gesticuling': 118.53849792480469}, 'UpperBody': {'All': 137.9219970703125, 'Patting': 123.17024993896484, 'LowerStretching': 118.647705078125, 'UpperStretching': 151.64242553710938, 'Walking': 121.73912048339844, 'Reacting': 121.95213317871094, 'Talking': 106.10050201416016, 'Greeting': 101.55705261230469, 'Gaming': 110.32538604736328, 'Gesticuling': 111.81393432617188}, 'LowerBody': {'All': 201.93121337890625, 'Patting': 161.4125518798828, 'LowerStretching': 245.28697204589844, 'UpperStretching': 197.92782592773438, 'Walking': 211.86834716796875, 'Reacting': 159.80458068847656, 'Talking': 116.16156768798828, 'Greeting': 118.16303253173828, 'Gaming': 167.10382080078125, 'Gesticuling': 125.26304626464844}}\n"
     ]
    },
    {
     "name": "stderr",
     "output_type": "stream",
     "text": [
      " 19%|█▊        | 1000/5352 [05:49<25:10,  2.88it/s]"
     ]
    },
    {
     "name": "stdout",
     "output_type": "stream",
     "text": [
      "{'FullBody': {'All': 169.8777313232422, 'Patting': 140.73057556152344, 'LowerStretching': 181.63331604003906, 'UpperStretching': 174.34580993652344, 'Walking': 168.3856964111328, 'Reacting': 144.09027099609375, 'Talking': 112.22728729248047, 'Greeting': 110.63977813720703, 'Gaming': 139.3671112060547, 'Gesticuling': 117.10993194580078}, 'UpperBody': {'All': 137.88284301757812, 'Patting': 122.3703384399414, 'LowerStretching': 118.59203338623047, 'UpperStretching': 151.5072021484375, 'Walking': 122.21810913085938, 'Reacting': 124.37616729736328, 'Talking': 107.09976959228516, 'Greeting': 103.21380615234375, 'Gaming': 110.7600326538086, 'Gesticuling': 109.88959503173828}, 'LowerBody': {'All': 201.87261962890625, 'Patting': 159.0908203125, 'LowerStretching': 244.67462158203125, 'UpperStretching': 197.18441772460938, 'Walking': 214.55328369140625, 'Reacting': 163.8043975830078, 'Talking': 117.35479736328125, 'Greeting': 118.06575012207031, 'Gaming': 167.9741668701172, 'Gesticuling': 124.33029174804688}}\n"
     ]
    },
    {
     "name": "stderr",
     "output_type": "stream",
     "text": [
      " 22%|██▏       | 1200/5352 [06:58<24:01,  2.88it/s]"
     ]
    },
    {
     "name": "stdout",
     "output_type": "stream",
     "text": [
      "{'FullBody': {'All': 169.63316345214844, 'Patting': 140.5971221923828, 'LowerStretching': 181.9932861328125, 'UpperStretching': 173.80442810058594, 'Walking': 167.96630859375, 'Reacting': 143.6887664794922, 'Talking': 112.34617614746094, 'Greeting': 110.42928314208984, 'Gaming': 138.34996032714844, 'Gesticuling': 117.04693603515625}, 'UpperBody': {'All': 137.8191375732422, 'Patting': 122.26512908935547, 'LowerStretching': 118.6896743774414, 'UpperStretching': 151.35272216796875, 'Walking': 121.90253448486328, 'Reacting': 124.60799407958984, 'Talking': 106.78270721435547, 'Greeting': 102.9870376586914, 'Gaming': 110.82215881347656, 'Gesticuling': 110.05985260009766}, 'LowerBody': {'All': 201.44715881347656, 'Patting': 158.9291229248047, 'LowerStretching': 245.296875, 'UpperStretching': 196.25611877441406, 'Walking': 214.0301055908203, 'Reacting': 162.76953125, 'Talking': 117.90966033935547, 'Greeting': 117.87155151367188, 'Gaming': 165.8777618408203, 'Gesticuling': 124.03402709960938}}\n"
     ]
    },
    {
     "name": "stderr",
     "output_type": "stream",
     "text": [
      " 26%|██▌       | 1400/5352 [08:07<22:56,  2.87it/s]"
     ]
    },
    {
     "name": "stdout",
     "output_type": "stream",
     "text": [
      "{'FullBody': {'All': 169.3908233642578, 'Patting': 141.824951171875, 'LowerStretching': 182.0882568359375, 'UpperStretching': 173.45346069335938, 'Walking': 167.35787963867188, 'Reacting': 145.23509216308594, 'Talking': 112.97077941894531, 'Greeting': 109.51496887207031, 'Gaming': 137.6278076171875, 'Gesticuling': 117.11067199707031}, 'UpperBody': {'All': 137.70030212402344, 'Patting': 122.87386322021484, 'LowerStretching': 118.85391235351562, 'UpperStretching': 150.99391174316406, 'Walking': 121.54975128173828, 'Reacting': 126.3407211303711, 'Talking': 107.47673034667969, 'Greeting': 101.8958969116211, 'Gaming': 110.12722778320312, 'Gesticuling': 109.55372619628906}, 'LowerBody': {'All': 201.0813446044922, 'Patting': 160.77603149414062, 'LowerStretching': 245.32260131835938, 'UpperStretching': 195.91299438476562, 'Walking': 213.16600036621094, 'Reacting': 164.1294403076172, 'Talking': 118.4648208618164, 'Greeting': 117.134033203125, 'Gaming': 165.12841796875, 'Gesticuling': 124.66761016845703}}\n"
     ]
    },
    {
     "name": "stderr",
     "output_type": "stream",
     "text": [
      " 30%|██▉       | 1600/5352 [09:16<21:45,  2.87it/s]"
     ]
    },
    {
     "name": "stdout",
     "output_type": "stream",
     "text": [
      "{'FullBody': {'All': 169.4012908935547, 'Patting': 141.86026000976562, 'LowerStretching': 181.67413330078125, 'UpperStretching': 173.54501342773438, 'Walking': 167.40850830078125, 'Reacting': 145.29527282714844, 'Talking': 113.35873413085938, 'Greeting': 109.42827606201172, 'Gaming': 136.79263305664062, 'Gesticuling': 117.353515625}, 'UpperBody': {'All': 137.6663818359375, 'Patting': 122.3088607788086, 'LowerStretching': 118.7247314453125, 'UpperStretching': 150.7847137451172, 'Walking': 121.78755187988281, 'Reacting': 126.70889282226562, 'Talking': 107.76541900634766, 'Greeting': 101.8778076171875, 'Gaming': 110.3064193725586, 'Gesticuling': 109.44012451171875}, 'LowerBody': {'All': 201.13616943359375, 'Patting': 161.4116973876953, 'LowerStretching': 244.62353515625, 'UpperStretching': 196.3052978515625, 'Walking': 213.0294647216797, 'Reacting': 163.88165283203125, 'Talking': 118.9520492553711, 'Greeting': 116.97872924804688, 'Gaming': 163.27883911132812, 'Gesticuling': 125.26692199707031}}\n"
     ]
    },
    {
     "name": "stderr",
     "output_type": "stream",
     "text": [
      " 34%|███▎      | 1800/5352 [10:25<20:40,  2.86it/s]"
     ]
    },
    {
     "name": "stdout",
     "output_type": "stream",
     "text": [
      "{'FullBody': {'All': 169.28158569335938, 'Patting': 139.5556640625, 'LowerStretching': 181.46311950683594, 'UpperStretching': 173.44918823242188, 'Walking': 167.80880737304688, 'Reacting': 145.6847686767578, 'Talking': 113.01270294189453, 'Greeting': 109.54523468017578, 'Gaming': 136.26754760742188, 'Gesticuling': 116.90873718261719}, 'UpperBody': {'All': 137.5554962158203, 'Patting': 121.21902465820312, 'LowerStretching': 118.81769561767578, 'UpperStretching': 150.61572265625, 'Walking': 122.0146255493164, 'Reacting': 126.73413848876953, 'Talking': 107.74118041992188, 'Greeting': 102.29080200195312, 'Gaming': 110.71722412109375, 'Gesticuling': 108.42853546142578}, 'LowerBody': {'All': 201.00765991210938, 'Patting': 157.89230346679688, 'LowerStretching': 244.10855102539062, 'UpperStretching': 196.28260803222656, 'Walking': 213.60296630859375, 'Reacting': 164.63540649414062, 'Talking': 118.28423309326172, 'Greeting': 116.79967498779297, 'Gaming': 161.81788635253906, 'Gesticuling': 125.38894653320312}}\n"
     ]
    },
    {
     "name": "stderr",
     "output_type": "stream",
     "text": [
      " 37%|███▋      | 2000/5352 [11:34<19:28,  2.87it/s]"
     ]
    },
    {
     "name": "stdout",
     "output_type": "stream",
     "text": [
      "{'FullBody': {'All': 169.56924438476562, 'Patting': 138.67584228515625, 'LowerStretching': 182.118408203125, 'UpperStretching': 173.7041015625, 'Walking': 167.70693969726562, 'Reacting': 146.7226104736328, 'Talking': 112.80553436279297, 'Greeting': 109.61692810058594, 'Gaming': 136.1459503173828, 'Gesticuling': 117.5727767944336}, 'UpperBody': {'All': 137.69998168945312, 'Patting': 120.9526138305664, 'LowerStretching': 119.14411163330078, 'UpperStretching': 150.65386962890625, 'Walking': 121.99685668945312, 'Reacting': 127.60457611083984, 'Talking': 107.93319702148438, 'Greeting': 102.50858306884766, 'Gaming': 110.81153106689453, 'Gesticuling': 109.39192199707031}, 'LowerBody': {'All': 201.43849182128906, 'Patting': 156.39906311035156, 'LowerStretching': 245.09271240234375, 'UpperStretching': 196.7543182373047, 'Walking': 213.41702270507812, 'Reacting': 165.8406524658203, 'Talking': 117.67789459228516, 'Greeting': 116.72527313232422, 'Gaming': 161.48037719726562, 'Gesticuling': 125.75362396240234}}\n"
     ]
    },
    {
     "name": "stderr",
     "output_type": "stream",
     "text": [
      " 41%|████      | 2200/5352 [12:43<18:20,  2.86it/s]"
     ]
    },
    {
     "name": "stdout",
     "output_type": "stream",
     "text": [
      "{'FullBody': {'All': 169.7087860107422, 'Patting': 137.8102264404297, 'LowerStretching': 182.28868103027344, 'UpperStretching': 173.79403686523438, 'Walking': 168.09710693359375, 'Reacting': 146.81964111328125, 'Talking': 113.56892395019531, 'Greeting': 110.90390014648438, 'Gaming': 136.5541534423828, 'Gesticuling': 117.7381362915039}, 'UpperBody': {'All': 137.78619384765625, 'Patting': 120.21812438964844, 'LowerStretching': 119.10981750488281, 'UpperStretching': 150.7221221923828, 'Walking': 122.13995361328125, 'Reacting': 127.85797882080078, 'Talking': 107.89464569091797, 'Greeting': 103.54505157470703, 'Gaming': 111.41924285888672, 'Gesticuling': 109.88743591308594}, 'LowerBody': {'All': 201.63133239746094, 'Patting': 155.4022979736328, 'LowerStretching': 245.46755981445312, 'UpperStretching': 196.8659210205078, 'Walking': 214.05422973632812, 'Reacting': 165.78131103515625, 'Talking': 119.24321746826172, 'Greeting': 118.26275634765625, 'Gaming': 161.68907165527344, 'Gesticuling': 125.5888442993164}}\n"
     ]
    },
    {
     "name": "stderr",
     "output_type": "stream",
     "text": [
      " 45%|████▍     | 2400/5352 [13:53<17:11,  2.86it/s]"
     ]
    },
    {
     "name": "stdout",
     "output_type": "stream",
     "text": [
      "{'FullBody': {'All': 169.62503051757812, 'Patting': 138.45928955078125, 'LowerStretching': 181.88429260253906, 'UpperStretching': 173.88743591308594, 'Walking': 167.9644012451172, 'Reacting': 146.93209838867188, 'Talking': 112.97601318359375, 'Greeting': 109.74917602539062, 'Gaming': 136.62855529785156, 'Gesticuling': 117.73523712158203}, 'UpperBody': {'All': 137.7209014892578, 'Patting': 119.92483520507812, 'LowerStretching': 118.88142395019531, 'UpperStretching': 150.781494140625, 'Walking': 122.29427337646484, 'Reacting': 127.82781982421875, 'Talking': 107.08367156982422, 'Greeting': 102.57862854003906, 'Gaming': 110.93330383300781, 'Gesticuling': 109.96571350097656}, 'LowerBody': {'All': 201.52914428710938, 'Patting': 156.9937286376953, 'LowerStretching': 244.88720703125, 'UpperStretching': 196.99337768554688, 'Walking': 213.634521484375, 'Reacting': 166.036376953125, 'Talking': 118.86837005615234, 'Greeting': 116.9197006225586, 'Gaming': 162.32379150390625, 'Gesticuling': 125.5047607421875}}\n"
     ]
    },
    {
     "name": "stderr",
     "output_type": "stream",
     "text": [
      " 49%|████▊     | 2600/5352 [15:02<16:02,  2.86it/s]"
     ]
    },
    {
     "name": "stdout",
     "output_type": "stream",
     "text": [
      "{'FullBody': {'All': 169.4710693359375, 'Patting': 140.24493408203125, 'LowerStretching': 181.80221557617188, 'UpperStretching': 173.66485595703125, 'Walking': 167.71009826660156, 'Reacting': 146.62240600585938, 'Talking': 113.38665008544922, 'Greeting': 109.164306640625, 'Gaming': 136.224609375, 'Gesticuling': 117.72012329101562}, 'UpperBody': {'All': 137.64735412597656, 'Patting': 120.35543060302734, 'LowerStretching': 118.7552490234375, 'UpperStretching': 150.68612670898438, 'Walking': 122.15343475341797, 'Reacting': 127.80789184570312, 'Talking': 107.265625, 'Greeting': 102.013916015625, 'Gaming': 111.05996704101562, 'Gesticuling': 110.0411148071289}, 'LowerBody': {'All': 201.29476928710938, 'Patting': 160.13442993164062, 'LowerStretching': 244.84915161132812, 'UpperStretching': 196.64356994628906, 'Walking': 213.26675415039062, 'Reacting': 165.4369354248047, 'Talking': 119.50768280029297, 'Greeting': 116.314697265625, 'Gaming': 161.38925170898438, 'Gesticuling': 125.39913177490234}}\n"
     ]
    },
    {
     "name": "stderr",
     "output_type": "stream",
     "text": [
      " 52%|█████▏    | 2800/5352 [16:11<14:52,  2.86it/s]"
     ]
    },
    {
     "name": "stdout",
     "output_type": "stream",
     "text": [
      "{'FullBody': {'All': 169.49191284179688, 'Patting': 140.88223266601562, 'LowerStretching': 181.76502990722656, 'UpperStretching': 173.65518188476562, 'Walking': 167.68710327148438, 'Reacting': 146.81390380859375, 'Talking': 112.30591583251953, 'Greeting': 108.78730010986328, 'Gaming': 136.43875122070312, 'Gesticuling': 117.49417877197266}, 'UpperBody': {'All': 137.6158905029297, 'Patting': 120.44136047363281, 'LowerStretching': 118.70698547363281, 'UpperStretching': 150.60989379882812, 'Walking': 122.26712799072266, 'Reacting': 127.84117126464844, 'Talking': 106.41105651855469, 'Greeting': 101.564208984375, 'Gaming': 111.37207794189453, 'Gesticuling': 109.90056610107422}, 'LowerBody': {'All': 201.36795043945312, 'Patting': 161.3231201171875, 'LowerStretching': 244.82308959960938, 'UpperStretching': 196.70046997070312, 'Walking': 213.10708618164062, 'Reacting': 165.78663635253906, 'Talking': 118.20079040527344, 'Greeting': 116.0103988647461, 'Gaming': 161.50543212890625, 'Gesticuling': 125.0877914428711}}\n"
     ]
    },
    {
     "name": "stderr",
     "output_type": "stream",
     "text": [
      " 56%|█████▌    | 3000/5352 [17:20<13:43,  2.85it/s]"
     ]
    },
    {
     "name": "stdout",
     "output_type": "stream",
     "text": [
      "{'FullBody': {'All': 169.59213256835938, 'Patting': 140.70318603515625, 'LowerStretching': 181.86912536621094, 'UpperStretching': 173.7445831298828, 'Walking': 167.97149658203125, 'Reacting': 146.54933166503906, 'Talking': 112.35759735107422, 'Greeting': 109.26390838623047, 'Gaming': 136.20346069335938, 'Gesticuling': 117.36526489257812}, 'UpperBody': {'All': 137.61837768554688, 'Patting': 120.2583236694336, 'LowerStretching': 118.82191467285156, 'UpperStretching': 150.57691955566406, 'Walking': 122.57978057861328, 'Reacting': 127.95707702636719, 'Talking': 106.373291015625, 'Greeting': 101.78350830078125, 'Gaming': 111.20050048828125, 'Gesticuling': 109.98505401611328}, 'LowerBody': {'All': 201.5658721923828, 'Patting': 161.14804077148438, 'LowerStretching': 244.9163055419922, 'UpperStretching': 196.91224670410156, 'Walking': 213.36318969726562, 'Reacting': 165.14158630371094, 'Talking': 118.34191131591797, 'Greeting': 116.74431610107422, 'Gaming': 161.2064208984375, 'Gesticuling': 124.74551391601562}}\n"
     ]
    },
    {
     "name": "stderr",
     "output_type": "stream",
     "text": [
      " 60%|█████▉    | 3200/5352 [18:29<12:34,  2.85it/s]"
     ]
    },
    {
     "name": "stdout",
     "output_type": "stream",
     "text": [
      "{'FullBody': {'All': 169.61195373535156, 'Patting': 139.8343505859375, 'LowerStretching': 182.0134735107422, 'UpperStretching': 173.7752685546875, 'Walking': 168.41627502441406, 'Reacting': 146.041015625, 'Talking': 112.3075180053711, 'Greeting': 109.70623779296875, 'Gaming': 135.95166015625, 'Gesticuling': 117.26307678222656}, 'UpperBody': {'All': 137.66319274902344, 'Patting': 120.22354888916016, 'LowerStretching': 118.86549377441406, 'UpperStretching': 150.61175537109375, 'Walking': 122.96306610107422, 'Reacting': 127.52094268798828, 'Talking': 106.15090942382812, 'Greeting': 102.2322769165039, 'Gaming': 110.8563232421875, 'Gesticuling': 110.11852264404297}, 'LowerBody': {'All': 201.56072998046875, 'Patting': 159.4451446533203, 'LowerStretching': 245.1614227294922, 'UpperStretching': 196.93878173828125, 'Walking': 213.86949157714844, 'Reacting': 164.56106567382812, 'Talking': 118.4641342163086, 'Greeting': 117.18020629882812, 'Gaming': 161.04702758789062, 'Gesticuling': 124.40763092041016}}\n"
     ]
    },
    {
     "name": "stderr",
     "output_type": "stream",
     "text": [
      " 64%|██████▎   | 3400/5352 [19:38<11:23,  2.85it/s]"
     ]
    },
    {
     "name": "stdout",
     "output_type": "stream",
     "text": [
      "{'FullBody': {'All': 169.67562866210938, 'Patting': 138.936767578125, 'LowerStretching': 181.75030517578125, 'UpperStretching': 174.07545471191406, 'Walking': 168.15493774414062, 'Reacting': 145.75079345703125, 'Talking': 111.91341400146484, 'Greeting': 109.0787124633789, 'Gaming': 136.08045959472656, 'Gesticuling': 117.37682342529297}, 'UpperBody': {'All': 137.70867919921875, 'Patting': 119.81531524658203, 'LowerStretching': 118.72293853759766, 'UpperStretching': 150.7600555419922, 'Walking': 122.85576629638672, 'Reacting': 127.47207641601562, 'Talking': 106.05377960205078, 'Greeting': 102.00823974609375, 'Gaming': 110.87709045410156, 'Gesticuling': 110.11502075195312}, 'LowerBody': {'All': 201.64254760742188, 'Patting': 158.0582275390625, 'LowerStretching': 244.77767944335938, 'UpperStretching': 197.3908233642578, 'Walking': 213.4541015625, 'Reacting': 164.02951049804688, 'Talking': 117.77303314208984, 'Greeting': 116.14917755126953, 'Gaming': 161.2838592529297, 'Gesticuling': 124.63862609863281}}\n"
     ]
    },
    {
     "name": "stderr",
     "output_type": "stream",
     "text": [
      " 67%|██████▋   | 3600/5352 [20:47<10:16,  2.84it/s]"
     ]
    },
    {
     "name": "stdout",
     "output_type": "stream",
     "text": [
      "{'FullBody': {'All': 169.5804443359375, 'Patting': 139.45762634277344, 'LowerStretching': 181.5851287841797, 'UpperStretching': 173.93145751953125, 'Walking': 168.21694946289062, 'Reacting': 145.69509887695312, 'Talking': 111.66605377197266, 'Greeting': 108.67742919921875, 'Gaming': 135.94825744628906, 'Gesticuling': 117.49303436279297}, 'UpperBody': {'All': 137.64016723632812, 'Patting': 120.51468658447266, 'LowerStretching': 118.68473052978516, 'UpperStretching': 150.6374969482422, 'Walking': 122.9029541015625, 'Reacting': 127.17755126953125, 'Talking': 105.77466583251953, 'Greeting': 101.26376342773438, 'Gaming': 110.47380828857422, 'Gesticuling': 110.50386047363281}, 'LowerBody': {'All': 201.52073669433594, 'Patting': 158.40057373046875, 'LowerStretching': 244.4855194091797, 'UpperStretching': 197.22543334960938, 'Walking': 213.53094482421875, 'Reacting': 164.21263122558594, 'Talking': 117.55742645263672, 'Greeting': 116.09110260009766, 'Gaming': 161.4227294921875, 'Gesticuling': 124.4822006225586}}\n"
     ]
    },
    {
     "name": "stderr",
     "output_type": "stream",
     "text": [
      " 71%|███████   | 3800/5352 [21:56<09:05,  2.84it/s]"
     ]
    },
    {
     "name": "stdout",
     "output_type": "stream",
     "text": [
      "{'FullBody': {'All': 169.62420654296875, 'Patting': 138.82054138183594, 'LowerStretching': 181.52734375, 'UpperStretching': 174.03529357910156, 'Walking': 168.38128662109375, 'Reacting': 145.3255615234375, 'Talking': 111.53874206542969, 'Greeting': 108.27626037597656, 'Gaming': 135.83590698242188, 'Gesticuling': 117.65800476074219}, 'UpperBody': {'All': 137.69406127929688, 'Patting': 120.47062683105469, 'LowerStretching': 118.7661361694336, 'UpperStretching': 150.71299743652344, 'Walking': 122.96757507324219, 'Reacting': 126.94055938720703, 'Talking': 105.6826400756836, 'Greeting': 100.78712463378906, 'Gaming': 110.64237213134766, 'Gesticuling': 110.73102569580078}, 'LowerBody': {'All': 201.55435180664062, 'Patting': 157.1704559326172, 'LowerStretching': 244.2885284423828, 'UpperStretching': 197.35757446289062, 'Walking': 213.79498291015625, 'Reacting': 163.71055603027344, 'Talking': 117.39485168457031, 'Greeting': 115.76539611816406, 'Gaming': 161.0294189453125, 'Gesticuling': 124.58496856689453}}\n"
     ]
    },
    {
     "name": "stderr",
     "output_type": "stream",
     "text": [
      " 75%|███████▍  | 4000/5352 [23:06<07:54,  2.85it/s]"
     ]
    },
    {
     "name": "stdout",
     "output_type": "stream",
     "text": [
      "{'FullBody': {'All': 169.7330322265625, 'Patting': 138.8258819580078, 'LowerStretching': 181.7742462158203, 'UpperStretching': 174.12551879882812, 'Walking': 168.44625854492188, 'Reacting': 145.47630310058594, 'Talking': 111.55941772460938, 'Greeting': 107.8841781616211, 'Gaming': 135.8917694091797, 'Gesticuling': 117.64623260498047}, 'UpperBody': {'All': 137.7506866455078, 'Patting': 120.04029846191406, 'LowerStretching': 118.89362335205078, 'UpperStretching': 150.75637817382812, 'Walking': 123.1052474975586, 'Reacting': 127.1878433227539, 'Talking': 105.55125427246094, 'Greeting': 100.64464569091797, 'Gaming': 110.49564361572266, 'Gesticuling': 110.80279541015625}, 'LowerBody': {'All': 201.7153778076172, 'Patting': 157.61146545410156, 'LowerStretching': 244.65484619140625, 'UpperStretching': 197.49464416503906, 'Walking': 213.7873077392578, 'Reacting': 163.76480102539062, 'Talking': 117.56757354736328, 'Greeting': 115.12372589111328, 'Gaming': 161.2878875732422, 'Gesticuling': 124.48966217041016}}\n"
     ]
    },
    {
     "name": "stderr",
     "output_type": "stream",
     "text": [
      " 78%|███████▊  | 4200/5352 [24:15<06:46,  2.84it/s]"
     ]
    },
    {
     "name": "stdout",
     "output_type": "stream",
     "text": [
      "{'FullBody': {'All': 169.74803161621094, 'Patting': 138.5608367919922, 'LowerStretching': 181.6133270263672, 'UpperStretching': 174.1937713623047, 'Walking': 168.50003051757812, 'Reacting': 145.6883544921875, 'Talking': 111.48902893066406, 'Greeting': 107.8565673828125, 'Gaming': 135.85623168945312, 'Gesticuling': 117.8449478149414}, 'UpperBody': {'All': 137.80149841308594, 'Patting': 120.00580596923828, 'LowerStretching': 118.71977996826172, 'UpperStretching': 150.86312866210938, 'Walking': 123.13975524902344, 'Reacting': 127.37648010253906, 'Talking': 105.23887634277344, 'Greeting': 100.66142272949219, 'Gaming': 110.66604614257812, 'Gesticuling': 110.80277252197266}, 'LowerBody': {'All': 201.6945343017578, 'Patting': 157.1158447265625, 'LowerStretching': 244.50686645507812, 'UpperStretching': 197.5244140625, 'Walking': 213.8603057861328, 'Reacting': 164.000244140625, 'Talking': 117.73918151855469, 'Greeting': 115.05170440673828, 'Gaming': 161.04641723632812, 'Gesticuling': 124.88712310791016}}\n"
     ]
    },
    {
     "name": "stderr",
     "output_type": "stream",
     "text": [
      " 82%|████████▏ | 4400/5352 [25:24<05:35,  2.84it/s]"
     ]
    },
    {
     "name": "stdout",
     "output_type": "stream",
     "text": [
      "{'FullBody': {'All': 169.8440399169922, 'Patting': 138.40321350097656, 'LowerStretching': 182.04345703125, 'UpperStretching': 174.27545166015625, 'Walking': 168.34979248046875, 'Reacting': 145.9962158203125, 'Talking': 111.24703216552734, 'Greeting': 108.23310089111328, 'Gaming': 135.71377563476562, 'Gesticuling': 117.73404693603516}, 'UpperBody': {'All': 137.82003784179688, 'Patting': 119.9399185180664, 'LowerStretching': 118.82635498046875, 'UpperStretching': 150.8716278076172, 'Walking': 123.01652526855469, 'Reacting': 127.46625518798828, 'Talking': 105.10736083984375, 'Greeting': 101.0329360961914, 'Gaming': 110.67493438720703, 'Gesticuling': 110.76367950439453}, 'LowerBody': {'All': 201.86802673339844, 'Patting': 156.8665008544922, 'LowerStretching': 245.2605743408203, 'UpperStretching': 197.6792449951172, 'Walking': 213.68310546875, 'Reacting': 164.5261688232422, 'Talking': 117.3866958618164, 'Greeting': 115.4332504272461, 'Gaming': 160.75262451171875, 'Gesticuling': 124.70441436767578}}\n"
     ]
    },
    {
     "name": "stderr",
     "output_type": "stream",
     "text": [
      " 86%|████████▌ | 4600/5352 [26:33<04:25,  2.83it/s]"
     ]
    },
    {
     "name": "stdout",
     "output_type": "stream",
     "text": [
      "{'FullBody': {'All': 169.86277770996094, 'Patting': 138.2744598388672, 'LowerStretching': 182.07606506347656, 'UpperStretching': 174.25453186035156, 'Walking': 168.41612243652344, 'Reacting': 146.33436584472656, 'Talking': 111.03580474853516, 'Greeting': 108.26083374023438, 'Gaming': 136.1600341796875, 'Gesticuling': 118.01275634765625}, 'UpperBody': {'All': 137.8350067138672, 'Patting': 119.81929016113281, 'LowerStretching': 118.8419418334961, 'UpperStretching': 150.81356811523438, 'Walking': 123.13978576660156, 'Reacting': 127.74720764160156, 'Talking': 105.01910400390625, 'Greeting': 101.07406616210938, 'Gaming': 111.21751403808594, 'Gesticuling': 111.27727508544922}, 'LowerBody': {'All': 201.89056396484375, 'Patting': 156.7296600341797, 'LowerStretching': 245.31019592285156, 'UpperStretching': 197.6954803466797, 'Walking': 213.69247436523438, 'Reacting': 164.9215087890625, 'Talking': 117.05250549316406, 'Greeting': 115.4476089477539, 'Gaming': 161.10255432128906, 'Gesticuling': 124.74824523925781}}\n"
     ]
    },
    {
     "name": "stderr",
     "output_type": "stream",
     "text": [
      " 90%|████████▉ | 4800/5352 [27:42<03:14,  2.83it/s]"
     ]
    },
    {
     "name": "stdout",
     "output_type": "stream",
     "text": [
      "{'FullBody': {'All': 169.87196350097656, 'Patting': 138.4241943359375, 'LowerStretching': 182.20375061035156, 'UpperStretching': 174.2193603515625, 'Walking': 168.4567108154297, 'Reacting': 146.2987060546875, 'Talking': 110.89796447753906, 'Greeting': 107.84481048583984, 'Gaming': 136.34471130371094, 'Gesticuling': 117.91033935546875}, 'UpperBody': {'All': 137.83494567871094, 'Patting': 120.19224548339844, 'LowerStretching': 118.87030792236328, 'UpperStretching': 150.7760467529297, 'Walking': 123.21617126464844, 'Reacting': 127.61503601074219, 'Talking': 105.00260162353516, 'Greeting': 100.59645080566406, 'Gaming': 111.33039855957031, 'Gesticuling': 111.17330932617188}, 'LowerBody': {'All': 201.90896606445312, 'Patting': 156.65614318847656, 'LowerStretching': 245.5371856689453, 'UpperStretching': 197.6626739501953, 'Walking': 213.69723510742188, 'Reacting': 164.98236083984375, 'Talking': 116.79334259033203, 'Greeting': 115.09317779541016, 'Gaming': 161.3590087890625, 'Gesticuling': 124.64736938476562}}\n"
     ]
    },
    {
     "name": "stderr",
     "output_type": "stream",
     "text": [
      " 93%|█████████▎| 5000/5352 [28:51<02:04,  2.83it/s]"
     ]
    },
    {
     "name": "stdout",
     "output_type": "stream",
     "text": [
      "{'FullBody': {'All': 169.83349609375, 'Patting': 138.28245544433594, 'LowerStretching': 182.05116271972656, 'UpperStretching': 174.25692749023438, 'Walking': 168.3417510986328, 'Reacting': 145.96678161621094, 'Talking': 110.88528442382812, 'Greeting': 107.74730682373047, 'Gaming': 136.2504425048828, 'Gesticuling': 117.62891387939453}, 'UpperBody': {'All': 137.8730926513672, 'Patting': 120.13275909423828, 'LowerStretching': 118.92045593261719, 'UpperStretching': 150.8380889892578, 'Walking': 123.24640655517578, 'Reacting': 127.54183959960938, 'Talking': 105.289306640625, 'Greeting': 100.47982788085938, 'Gaming': 111.28197479248047, 'Gesticuling': 110.76306915283203}, 'LowerBody': {'All': 201.79388427734375, 'Patting': 156.43214416503906, 'LowerStretching': 245.18186950683594, 'UpperStretching': 197.67578125, 'Walking': 213.43711853027344, 'Reacting': 164.3917236328125, 'Talking': 116.48125457763672, 'Greeting': 115.0147933959961, 'Gaming': 161.21890258789062, 'Gesticuling': 124.49475860595703}}\n"
     ]
    },
    {
     "name": "stderr",
     "output_type": "stream",
     "text": [
      " 97%|█████████▋| 5200/5352 [30:00<00:53,  2.82it/s]"
     ]
    },
    {
     "name": "stdout",
     "output_type": "stream",
     "text": [
      "{'FullBody': {'All': 169.78976440429688, 'Patting': 137.82582092285156, 'LowerStretching': 181.94786071777344, 'UpperStretching': 174.2516632080078, 'Walking': 168.26702880859375, 'Reacting': 146.28158569335938, 'Talking': 110.67044067382812, 'Greeting': 108.03372955322266, 'Gaming': 136.0131072998047, 'Gesticuling': 117.57624816894531}, 'UpperBody': {'All': 137.88754272460938, 'Patting': 119.9731216430664, 'LowerStretching': 118.89804077148438, 'UpperStretching': 150.8650665283203, 'Walking': 123.27123260498047, 'Reacting': 127.77325439453125, 'Talking': 105.13520050048828, 'Greeting': 100.94869995117188, 'Gaming': 110.9995346069336, 'Gesticuling': 110.64518737792969}, 'LowerBody': {'All': 201.69200134277344, 'Patting': 155.67849731445312, 'LowerStretching': 244.9976806640625, 'UpperStretching': 197.63824462890625, 'Walking': 213.26284790039062, 'Reacting': 164.7899169921875, 'Talking': 116.20568084716797, 'Greeting': 115.11876678466797, 'Gaming': 161.0266876220703, 'Gesticuling': 124.50730895996094}}\n"
     ]
    },
    {
     "name": "stderr",
     "output_type": "stream",
     "text": [
      "100%|██████████| 5352/5352 [30:53<00:00,  2.89it/s]\n",
      "\u001b[94m10:11:23 \u001b[92m[INFO]\u001b[94m Main\u001b[0m: Saving evaluation results...\n",
      "\u001b[94m10:11:23 \u001b[92m[INFO]\u001b[94m Main\u001b[0m: Done.\n"
     ]
    }
   ],
   "source": [
    "for i,p in enumerate(path_):\n",
    "\toutput_path = f'/dataset/data/xr_egopose_depth_sil/baseline698_{i}.json'\n",
    "\tmain(model_path=p,output_path=output_path)"
   ]
  }
 ],
 "metadata": {
  "kernelspec": {
   "display_name": "base",
   "language": "python",
   "name": "python3"
  },
  "language_info": {
   "codemirror_mode": {
    "name": "ipython",
    "version": 3
   },
   "file_extension": ".py",
   "mimetype": "text/x-python",
   "name": "python",
   "nbconvert_exporter": "python",
   "pygments_lexer": "ipython3",
   "version": "3.10.8"
  },
  "orig_nbformat": 4
 },
 "nbformat": 4,
 "nbformat_minor": 2
}
