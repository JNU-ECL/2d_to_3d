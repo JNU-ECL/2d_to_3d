{
 "cells": [
  {
   "cell_type": "code",
   "execution_count": 1,
   "metadata": {},
   "outputs": [],
   "source": [
    "import json\n",
    "\n",
    "mo2cap_dep = '/workspace/2d_to_3d/apps/eval/mo2cap2_depth/baseline805_10.json'\n",
    "mo2cap_dep_sil = '/workspace/2d_to_3d/apps/eval/mo2cap2_depth_sil/baseline806_5.json'\n",
    "\n",
    "json_path = mo2cap_dep_sil\n",
    "temp_json=None\n",
    "with open(json_path,'r') as f:\n",
    "\ttemp_json=json.loads(f.read())"
   ]
  },
  {
   "cell_type": "code",
   "execution_count": 7,
   "metadata": {},
   "outputs": [
    {
     "data": {
      "text/plain": [
       "{'All': 130.9851837158203,\n",
       " 'UpperStretching': 135.0030975341797,\n",
       " 'LowerStretching': 125.14826202392578,\n",
       " 'Walking': 140.26065063476562,\n",
       " 'Reacting': 122.76332092285156,\n",
       " 'Talking': 95.7334976196289,\n",
       " 'Gaming': 110.2191390991211,\n",
       " 'Patting': 114.736083984375,\n",
       " 'Gesticuling': 96.85332489013672,\n",
       " 'Greeting': 117.7139663696289}"
      ]
     },
     "execution_count": 7,
     "metadata": {},
     "output_type": "execute_result"
    }
   ],
   "source": [
    "sum_val = 0\n",
    "sum_list =[]\n",
    "for k,v in temp_json['FullBody'].items():\n",
    "\tif k=='All':continue\n",
    "\tsum_val+=v\n",
    "\tsum_list.append(k)\n",
    "temp_json['FullBody']"
   ]
  },
  {
   "cell_type": "code",
   "execution_count": 10,
   "metadata": {},
   "outputs": [
    {
     "data": {
      "text/plain": [
       "117.60348256429036"
      ]
     },
     "execution_count": 10,
     "metadata": {},
     "output_type": "execute_result"
    }
   ],
   "source": [
    "sum_val/len(sum_list)\n"
   ]
  }
 ],
 "metadata": {
  "kernelspec": {
   "display_name": "base",
   "language": "python",
   "name": "python3"
  },
  "language_info": {
   "codemirror_mode": {
    "name": "ipython",
    "version": 3
   },
   "file_extension": ".py",
   "mimetype": "text/x-python",
   "name": "python",
   "nbconvert_exporter": "python",
   "pygments_lexer": "ipython3",
   "version": "3.10.8"
  },
  "orig_nbformat": 4
 },
 "nbformat": 4,
 "nbformat_minor": 2
}
