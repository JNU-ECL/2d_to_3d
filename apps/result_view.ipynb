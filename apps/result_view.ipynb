{
 "cells": [
  {
   "cell_type": "code",
   "execution_count": 1,
   "metadata": {},
   "outputs": [],
   "source": [
    "import h5py\n",
    "import numpy as np\n",
    "import re\n",
    "from utils import ConsoleLogger, config"
   ]
  },
  {
   "cell_type": "code",
   "execution_count": 2,
   "metadata": {},
   "outputs": [],
   "source": [
    "Train_path = '/dataset/data/Dataset/TrainSet/index.h5'\n",
    "Val_path = '/dataset/data/Dataset/ValSet/index.h5'\n",
    "Test_path = '/dataset/data/Dataset/TestSet/index.h5'\n",
    "action_map = config.actions"
   ]
  },
  {
   "cell_type": "code",
   "execution_count": 3,
   "metadata": {},
   "outputs": [],
   "source": [
    "def _map_action_name(name):\n",
    "\tadditional = re.findall(r'_mixamo_com.*', name)\n",
    "\tif additional:\n",
    "\t\tname = name.replace(additional[0], '')\n",
    "\n",
    "\tif name in list(action_map.keys()):\n",
    "\t\treturn action_map[name]\n",
    "\n",
    "\treturn 'All'\n",
    "def read_h5(path):\n",
    "    \"\"\"Load data from h5 file\n",
    "\n",
    "    Arguments:\n",
    "        path {str} -- file path\n",
    "\n",
    "    Raises:\n",
    "        FileNotFoundError -- Path not pointing to a file\n",
    "\n",
    "    Returns:\n",
    "        dict -- dictionary containing the data\n",
    "    \"\"\"\n",
    "\n",
    "    data_files = dict()\n",
    "    h5_data = h5py.File(path)\n",
    "    tags = list(h5_data.keys())\n",
    "    for tag in tags:\n",
    "        tag_data = np.asarray(h5_data[tag]).copy()\n",
    "        data_files.update({tag: tag_data})\n",
    "    h5_data.close()\n",
    "\n",
    "    return data_files"
   ]
  },
  {
   "cell_type": "code",
   "execution_count": 4,
   "metadata": {},
   "outputs": [],
   "source": [
    "Train_idx = read_h5(Train_path)\n",
    "Test_idx = read_h5(Test_path)\n",
    "Val_idx = read_h5(Val_path)"
   ]
  },
  {
   "cell_type": "code",
   "execution_count": 5,
   "metadata": {},
   "outputs": [
    {
     "data": {
      "text/plain": [
       "array([b'/dataset/data/Dataset/TrainSet/female_001_a_a/env_001/cam_down/json/female_001_a_a_000001.json',\n",
       "       b'/dataset/data/Dataset/TrainSet/female_001_a_a/env_001/cam_down/json/female_001_a_a_000002.json',\n",
       "       b'/dataset/data/Dataset/TrainSet/female_001_a_a/env_001/cam_down/json/female_001_a_a_000003.json',\n",
       "       ...,\n",
       "       b'/dataset/data/Dataset/TrainSet/male_014_a_a/env_003/cam_down/json/male_014_a_a_004998.json',\n",
       "       b'/dataset/data/Dataset/TrainSet/male_014_a_a/env_003/cam_down/json/male_014_a_a_004999.json',\n",
       "       b'/dataset/data/Dataset/TrainSet/male_014_a_a/env_003/cam_down/json/male_014_a_a_005000.json'],\n",
       "      dtype=object)"
      ]
     },
     "execution_count": 5,
     "metadata": {},
     "output_type": "execute_result"
    }
   ],
   "source": [
    "Train_idx['json']"
   ]
  },
  {
   "cell_type": "code",
   "execution_count": 6,
   "metadata": {},
   "outputs": [
    {
     "name": "stdout",
     "output_type": "stream",
     "text": [
      "{'Gaming': 2391, 'Gesticuling': 3123, 'Greeting': 1113, 'LowerStretching': 3339, 'Patting': 1410, 'Reacting': 4074, 'Talking': 1851, 'UpperStretching': 10599, 'Walking': 2100}\n"
     ]
    }
   ],
   "source": [
    "import json\n",
    "action={\n",
    "    'Gaming':0,\n",
    "    'Gesticuling':0,\n",
    "    'Greeting':0,\n",
    "    'LowerStretching':0,\n",
    "    'Patting':0,\n",
    "    'Reacting':0,\n",
    "    'Talking':0,\n",
    "\t'UpperStretching':0,\n",
    "    'Walking':0,\n",
    "\t}\n",
    "for p in Val_idx['json']:\n",
    "\twith open(p,'r') as f:\n",
    "\t\tdata = json.load(f)\n",
    "\t\tkey = data['action'] \n",
    "\t\tkey = _map_action_name(key)\n",
    "\ttry:\n",
    "\t\taction[key]+=1\n",
    "\texcept:\n",
    "\t\taction.setdefault(key,1)\n",
    "\t\tprint(p,key)\n",
    "        \n",
    "print(action)\n",
    " "
   ]
  },
  {
   "cell_type": "code",
   "execution_count": 7,
   "metadata": {},
   "outputs": [],
   "source": [
    "Train_={\n",
    "\n",
    "'Gaming': 10186, \n",
    "\n",
    "'Gesticuling': 13429, \n",
    "\n",
    "'Greeting': 4798, \n",
    "\n",
    "'LowerStretching': 33482, \n",
    "\n",
    "'Patting': 7052,\n",
    "\n",
    "'Reacting': 17492, \n",
    "\n",
    "'Talking': 7987, \n",
    "\n",
    "'UpperStretching': 109560, \n",
    "\n",
    "'Walking': 21468\n",
    "\n",
    "}\n",
    "\n",
    "Val_={\n",
    "\n",
    "'Gaming': 2391,\n",
    "\n",
    "'Gesticuling': 3123, \n",
    "\n",
    "'Greeting': 1113, \n",
    "\n",
    "'LowerStretching': 3339, \n",
    "\n",
    "'Patting': 1410, \n",
    "\n",
    "'Reacting': 4074, \n",
    "\n",
    "'Talking': 1851, \n",
    "\n",
    "'UpperStretching': 10599, \n",
    "\n",
    "'Walking': 2100\n",
    "\n",
    "}\n",
    "\n",
    "Test_= {\n",
    "\n",
    "'Gaming': 1594, \n",
    "\n",
    "'Gesticuling': 2082, \n",
    "\n",
    "'Greeting': 742, \n",
    "\n",
    "'LowerStretching': 15235, \n",
    "\n",
    "'Patting': 1592, \n",
    "\n",
    "'Reacting': 2716, \n",
    "\n",
    "'Talking': 1234, \n",
    "\n",
    "'UpperStretching': 50564, \n",
    "\n",
    "'Walking': 9862\n",
    "\n",
    "}"
   ]
  },
  {
   "cell_type": "code",
   "execution_count": 8,
   "metadata": {},
   "outputs": [],
   "source": [
    "total = {}\n",
    "for k,v in Train_.items():\n",
    "    total[k]=v+Test_[k]+Val_[k]"
   ]
  },
  {
   "cell_type": "code",
   "execution_count": 10,
   "metadata": {},
   "outputs": [
    {
     "data": {
      "text/plain": [
       "341075"
      ]
     },
     "execution_count": 10,
     "metadata": {},
     "output_type": "execute_result"
    }
   ],
   "source": [
    "sum(total.values())"
   ]
  },
  {
   "cell_type": "code",
   "execution_count": 11,
   "metadata": {},
   "outputs": [
    {
     "name": "stdout",
     "output_type": "stream",
     "text": [
      "225454 85621 30000\n"
     ]
    }
   ],
   "source": [
    "print(sum(Train_.values()),sum(Test_.values()),sum(Val_.values()))"
   ]
  }
 ],
 "metadata": {
  "kernelspec": {
   "display_name": "base",
   "language": "python",
   "name": "python3"
  },
  "language_info": {
   "codemirror_mode": {
    "name": "ipython",
    "version": 3
   },
   "file_extension": ".py",
   "mimetype": "text/x-python",
   "name": "python",
   "nbconvert_exporter": "python",
   "pygments_lexer": "ipython3",
   "version": "3.10.8"
  },
  "orig_nbformat": 4
 },
 "nbformat": 4,
 "nbformat_minor": 2
}
